{
 "cells": [
  {
   "cell_type": "code",
   "execution_count": 1,
   "id": "b8fb6a0b-f6d4-4649-ae5c-6bccc44bea08",
   "metadata": {
    "scrolled": true
   },
   "outputs": [],
   "source": [
    "#!pip install textattack[tensorflow,optional]\n",
    "#!pip install -U datasets"
   ]
  },
  {
   "cell_type": "code",
   "execution_count": 2,
   "id": "a6a32e48-d2fa-4420-8c45-3f9fe99d0526",
   "metadata": {},
   "outputs": [
    {
     "name": "stderr",
     "output_type": "stream",
     "text": [
      "D:\\anaconda3\\envs\\tf\\lib\\site-packages\\torchvision\\io\\image.py:13: UserWarning: Failed to load image Python extension: '[WinError 127] 找不到指定的程序。'If you don't plan on using image functionality from `torchvision.io`, you can ignore this warning. Otherwise, there might be something wrong with your environment. Did you have `libjpeg` or `libpng` installed before building `torchvision` from source?\n",
      "  warn(\n",
      "D:\\anaconda3\\envs\\tf\\lib\\site-packages\\tqdm\\auto.py:21: TqdmWarning: IProgress not found. Please update jupyter and ipywidgets. See https://ipywidgets.readthedocs.io/en/stable/user_install.html\n",
      "  from .autonotebook import tqdm as notebook_tqdm\n",
      "D:\\anaconda3\\envs\\tf\\lib\\site-packages\\transformers\\utils\\generic.py:260: UserWarning: torch.utils._pytree._register_pytree_node is deprecated. Please use torch.utils._pytree.register_pytree_node instead.\n",
      "  torch.utils._pytree._register_pytree_node(\n",
      "D:\\anaconda3\\envs\\tf\\lib\\site-packages\\transformers\\utils\\generic.py:260: UserWarning: torch.utils._pytree._register_pytree_node is deprecated. Please use torch.utils._pytree.register_pytree_node instead.\n",
      "  torch.utils._pytree._register_pytree_node(\n"
     ]
    }
   ],
   "source": [
    "import os\n",
    "import datetime\n",
    "\n",
    "import numpy as np\n",
    "import pandas as pd\n",
    "\n",
    "import torch\n",
    "import torch.nn as nn\n",
    "from torch.utils.data import DataLoader, Dataset\n",
    "import torchvision\n",
    "import tensorflow as tf\n",
    "import transformers\n",
    "from transformers import CLIPProcessor, CLIPModel\n",
    "\n",
    "import textattack\n",
    "from textattack.models.wrappers import HuggingFaceModelWrapper\n",
    "\n",
    "from sklearn.linear_model import LogisticRegression\n",
    "from sklearn.ensemble import RandomForestClassifier\n",
    "from sklearn.neighbors import KNeighborsClassifier\n",
    "from sklearn.svm import SVC\n"
   ]
  },
  {
   "cell_type": "code",
   "execution_count": 3,
   "id": "9757d84d-991f-41e0-987c-13829acd0d2d",
   "metadata": {},
   "outputs": [],
   "source": [
    "from textattack import Attack\n",
    "from textattack.constraints.grammaticality import PartOfSpeech\n",
    "from textattack.constraints.pre_transformation import (\n",
    "    InputColumnModification,\n",
    "    RepeatModification,\n",
    "    StopwordModification,\n",
    ")\n",
    "from textattack.constraints.semantics import WordEmbeddingDistance\n",
    "from textattack.constraints.semantics.sentence_encoders import UniversalSentenceEncoder\n",
    "from textattack.goal_functions import UntargetedClassification\n",
    "from textattack.search_methods import GreedyWordSwapWIR\n",
    "from textattack.transformations import WordSwapEmbedding, WordSwapWordNet \n",
    "\n",
    "from textattack.transformations.composite_transformation import CompositeTransformation\n",
    "\n",
    "from textattack.attack_recipes.attack_recipe import AttackRecipe\n",
    "\n",
    "class TFLepsilon(AttackRecipe):\n",
    "\n",
    "    @staticmethod\n",
    "    def build(model_wrapper):\n",
    "        #\n",
    "        # Swap words with their 50 closest embedding nearest-neighbors.\n",
    "        # Embedding: Counter-fitted PARAGRAM-SL999 vectors.\n",
    "        \n",
    "        ## transformation = CompositeTransformation([WordSwapWordNet(), WordSwapEmbedding(max_candidates=50)])\n",
    "        transformation = WordSwapEmbedding(max_candidates=50)\n",
    "        #\n",
    "        # Don't modify the same word twice or the stopwords defined\n",
    "        # in the TextFooler public implementation.\n",
    "        #\n",
    "        # fmt: off\n",
    "        stopwords = set(\n",
    "            [\"a\", \"about\", \"above\", \"across\", \"after\", \"afterwards\", \"again\", \"against\", \"ain\", \"all\", \n",
    "             \"almost\", \"alone\", \"along\", \"already\", \"also\", \"although\", \"am\", \"among\", \"amongst\", \"an\", \n",
    "             \"and\", \"another\", \"any\", \"anyhow\", \"anyone\", \"anything\", \"anyway\", \"anywhere\", \"are\", \"aren\",\n",
    "             \"aren't\", \"around\", \"as\", \"at\", \"back\", \"been\", \"before\", \"beforehand\", \"behind\", \"being\", \n",
    "             \"below\", \"beside\", \"besides\", \"between\", \"beyond\", \"both\", \"but\", \"by\", \"can\", \"cannot\", \n",
    "             \"could\", \"couldn\", \"couldn't\", \"d\", \"didn\", \"didn't\", \"doesn\", \"doesn't\", \"don\", \"don't\", \n",
    "             \"down\", \"due\", \"during\", \"either\", \"else\", \"elsewhere\", \"empty\", \"enough\", \"even\", \"ever\", \n",
    "             \"everyone\", \"everything\", \"everywhere\", \"except\", \"first\", \"for\", \"former\", \"formerly\",\n",
    "             \"from\", \"hadn\", \"hadn't\", \"hasn\", \"hasn't\", \"haven\", \"haven't\", \"he\", \"hence\", \"her\", \"here\", \n",
    "             \"hereafter\", \"hereby\", \"herein\", \"hereupon\", \"hers\", \"herself\", \"him\", \"himself\", \"his\", \"how\", \n",
    "             \"however\", \"hundred\", \"i\", \"if\", \"in\", \"indeed\", \"into\", \"is\", \"isn\", \"isn't\", \"it\", \"it's\", \n",
    "             \"its\", \"itself\", \"just\", \"latter\", \"latterly\", \"least\", \"ll\", \"may\", \"me\", \"meanwhile\", \n",
    "             \"mightn\", \"mightn't\", \"mine\", \"more\", \"moreover\", \"most\", \"mostly\", \"must\", \"mustn\", \"mustn't\", \n",
    "             \"my\", \"myself\", \"namely\", \"needn\", \"needn't\", \"neither\", \"never\", \"nevertheless\", \"next\", \"no\",\n",
    "             \"nobody\", \"none\", \"noone\", \"nor\", \"not\", \"nothing\", \"now\", \"nowhere\", \"o\", \"of\", \"off\", \"on\",\n",
    "             \"once\", \"one\", \"only\", \"onto\", \"or\", \"other\", \"others\", \"otherwise\", \"our\", \"ours\", \"ourselves\", \n",
    "             \"out\", \"over\", \"per\", \"please\", \"s\", \"same\", \"shan\", \"shan't\", \"she\", \"she's\", \"should've\", \n",
    "             \"shouldn\", \"shouldn't\", \"somehow\", \"something\", \"sometime\", \"somewhere\", \"such\", \"t\", \"than\", \n",
    "             \"that\", \"that'll\", \"the\", \"their\", \"theirs\", \"them\", \"themselves\", \"then\", \"thence\", \"there\", \n",
    "             \"thereafter\", \"thereby\", \"therefore\", \"therein\", \"thereupon\", \"these\", \"they\", \"this\", \"those\",\n",
    "             \"through\", \"throughout\", \"thru\", \"thus\", \"to\", \"too\", \"toward\", \"towards\", \"under\", \"unless\",\n",
    "             \"until\", \"up\", \"upon\", \"used\", \"ve\", \"was\", \"wasn\", \"wasn't\", \"we\", \"were\", \"weren\", \"weren't\",\n",
    "             \"what\", \"whatever\", \"when\", \"whence\", \"whenever\", \"where\", \"whereafter\", \"whereas\", \"whereby\", \n",
    "             \"wherein\", \"whereupon\", \"wherever\", \"whether\", \"which\", \"while\", \"whither\", \"who\", \"whoever\", \n",
    "             \"whole\", \"whom\", \"whose\", \"why\", \"with\", \"within\", \"without\", \"won\", \"won't\", \"would\", \"wouldn\",\n",
    "             \"wouldn't\", \"y\", \"yet\", \"you\", \"you'd\", \"you'll\", \"you're\", \"you've\", \"your\", \"yours\", \"yourself\",\n",
    "             \"yourselves\"]\n",
    "        )\n",
    "        # fmt: on\n",
    "        constraints = [RepeatModification(), StopwordModification(stopwords=stopwords)]\n",
    "        #\n",
    "        # During entailment, we should only edit the hypothesis - keep the premise\n",
    "        # the same.\n",
    "        #\n",
    "        input_column_modification = InputColumnModification(\n",
    "            [\"premise\", \"hypothesis\"], {\"premise\"}\n",
    "        )\n",
    "        constraints.append(input_column_modification)\n",
    "        # Minimum word embedding cosine similarity of 0.5.\n",
    "        # (The paper claims 0.7, but analysis of the released code and some empirical\n",
    "        # results show that it's 0.5.)\n",
    "        #\n",
    "        constraints.append(WordEmbeddingDistance(min_cos_sim=0.6))\n",
    "        #\n",
    "        # Only replace words with the same part of speech (or nouns with verbs)\n",
    "        #\n",
    "        constraints.append(PartOfSpeech(allow_verb_noun_swap=True))\n",
    "        #\n",
    "        # Universal Sentence Encoder with a minimum angular similarity of ε = 0.5.\n",
    "        #\n",
    "        # In the TextFooler code, they forget to divide the angle between the two\n",
    "        # embeddings by pi. So if the original threshold was that 1 - sim >= 0.5, the\n",
    "        # new threshold is 1 - (0.5) / pi = 0.840845057\n",
    "        #\n",
    "        use_constraint = UniversalSentenceEncoder(\n",
    "            threshold = 0.840845057,\n",
    "            metric=\"angular\",\n",
    "            compare_against_original=False,\n",
    "            window_size=15,\n",
    "            skip_text_shorter_than_window=True,\n",
    "        )\n",
    "        constraints.append(use_constraint)\n",
    "        #\n",
    "        # Goal is untargeted classification\n",
    "        #\n",
    "        goal_function = UntargetedClassification(model_wrapper)\n",
    "        #\n",
    "        # Greedily swap words with \"Word Importance Ranking\".\n",
    "        #\n",
    "        search_method = GreedyWordSwapWIR(wir_method=\"delete\")\n",
    "\n",
    "        return Attack(goal_function, constraints, transformation, search_method)\n"
   ]
  },
  {
   "cell_type": "code",
   "execution_count": 4,
   "id": "bc8fc32a-2438-4054-9cf8-ff005ec06dab",
   "metadata": {},
   "outputs": [],
   "source": [
    "def runAttack(model_wrapper, n, path, target_ds):\n",
    "    # used TFLepsilon\n",
    "    attack = TFLepsilon.build(model_wrapper)\n",
    "    attack_args = textattack.AttackArgs(num_examples=n, log_to_csv=path, shuffle=True, #parallel=True,\n",
    "                                        checkpoint_interval=5, checkpoint_dir='checkpoints', \n",
    "                                        disable_stdout=True)\n",
    "    attacker = textattack.Attacker(attack, target_ds, attack_args)\n",
    "    attacker.attack_dataset()"
   ]
  },
  {
   "cell_type": "code",
   "execution_count": 5,
   "id": "76181ead-393f-4d43-9067-0f25ca726eb7",
   "metadata": {},
   "outputs": [],
   "source": [
    "# classifiers\n",
    "def adaptation(train_set, test_set):\n",
    "    lr = LogisticRegression(solver='saga', multi_class='multinomial')\n",
    "    rf = RandomForestClassifier(max_depth=7)\n",
    "    knn = KNeighborsClassifier(n_neighbors=7)\n",
    "    svc = SVC(kernel='linear', probability=True)\n",
    "    \n",
    "    trainX = train_set.iloc[:,:-1]\n",
    "    trainY = train_set.iloc[:,-1]\n",
    "    testX = test_set.iloc[:,:-1]\n",
    "    testY = test_set.iloc[:,-1]\n",
    "    \n",
    "    for key, clf in {'Log Reg':lr, 'RF':rf, 'KNN':knn, 'SVC':svc}.items():\n",
    "        clf.fit(trainX, trainY) # fit train data\n",
    "        pred = clf.predict(testX) # predict test set\n",
    "\n",
    "        # print accuracy\n",
    "        print(key, (pred==np.array(testY)).sum()/len(pred))\n",
    "\n",
    "    return lr, rf, knn, svc"
   ]
  },
  {
   "cell_type": "code",
   "execution_count": 6,
   "id": "ddf441b8-c100-416a-a704-b16437e62ed5",
   "metadata": {},
   "outputs": [
    {
     "name": "stderr",
     "output_type": "stream",
     "text": [
      "textattack: Loading \u001b[94mdatasets\u001b[0m dataset \u001b[94mrotten_tomatoes\u001b[0m, split \u001b[94mtest\u001b[0m.\n"
     ]
    }
   ],
   "source": [
    "target_ds_mr = textattack.datasets.HuggingFaceDataset('rotten_tomatoes', split='test')"
   ]
  },
  {
   "cell_type": "code",
   "execution_count": 7,
   "id": "e5324e79-2fe0-478f-9ebe-5c7b649258d1",
   "metadata": {},
   "outputs": [],
   "source": [
    "suffix = 'sim06.csv'\n",
    "n_samples = 500"
   ]
  },
  {
   "cell_type": "markdown",
   "id": "0e13b205-9c12-4f2e-9bcb-b7a26f7a0f7f",
   "metadata": {},
   "source": [
    "### BERT-based-uncased"
   ]
  },
  {
   "cell_type": "code",
   "execution_count": 8,
   "id": "ece98501-61d1-44c5-946e-b4b41e046d6e",
   "metadata": {},
   "outputs": [
    {
     "name": "stderr",
     "output_type": "stream",
     "text": [
      "D:\\anaconda3\\envs\\tf\\lib\\site-packages\\huggingface_hub\\file_download.py:1132: FutureWarning: `resume_download` is deprecated and will be removed in version 1.0.0. Downloads always resume when possible. If you want to force a new download, use `force_download=True`.\n",
      "  warnings.warn(\n",
      "D:\\anaconda3\\envs\\tf\\lib\\site-packages\\transformers\\utils\\generic.py:260: UserWarning: torch.utils._pytree._register_pytree_node is deprecated. Please use torch.utils._pytree.register_pytree_node instead.\n",
      "  torch.utils._pytree._register_pytree_node(\n"
     ]
    }
   ],
   "source": [
    "# bert-based-uncased\n",
    "model_path1 = 'bert-base-uncased'\n",
    "\n",
    "bert_model = transformers.AutoModel.from_pretrained(model_path1)\n",
    "bert_tokenizer = transformers.AutoTokenizer.from_pretrained(model_path1)"
   ]
  },
  {
   "cell_type": "code",
   "execution_count": 9,
   "id": "f0180798-ce40-4a40-b8fb-b3b681aa14e2",
   "metadata": {},
   "outputs": [
    {
     "name": "stderr",
     "output_type": "stream",
     "text": [
      "D:\\anaconda3\\envs\\tf\\lib\\site-packages\\sklearn\\linear_model\\_sag.py:350: ConvergenceWarning: The max_iter was reached which means the coef_ did not converge\n",
      "  warnings.warn(\n"
     ]
    },
    {
     "name": "stdout",
     "output_type": "stream",
     "text": [
      "Log Reg 0.8105065666041276\n",
      "RF 0.7317073170731707\n",
      "KNN 0.6801125703564728\n",
      "SVC 0.8030018761726079\n"
     ]
    }
   ],
   "source": [
    "bertmrtrain = pd.read_csv('dataset_embeddings/bertmrtrain.txt', header=None)\n",
    "bertmrtest = pd.read_csv('dataset_embeddings/bertmrtest.txt', header=None)\n",
    "lr_bert_mr, rf_bert_mr, knn_bert_mr, svc_bert_mr = adaptation(bertmrtrain, bertmrtest)"
   ]
  },
  {
   "cell_type": "code",
   "execution_count": 10,
   "id": "488edfed-58de-472a-9afa-7dff844a3e85",
   "metadata": {},
   "outputs": [],
   "source": [
    "# custom model wrapper for BERT\n",
    "class BERTModelWrapper(HuggingFaceModelWrapper):\n",
    "    def __init__(self, processor, text_encoder, classifier):\n",
    "        self.processor = processor\n",
    "        self.model = text_encoder\n",
    "        self.classifier = classifier\n",
    "\n",
    "    def __call__(self, text_input_list):\n",
    "        inputs = self.processor(text_input_list, return_tensors='pt', padding=True, truncation=True)\n",
    "        outputs = self.model(**inputs).pooler_output\n",
    "        with torch.no_grad():\n",
    "            preds = self.classifier.predict_proba(outputs)\n",
    "        return preds"
   ]
  },
  {
   "cell_type": "code",
   "execution_count": 11,
   "id": "4a2ce5ae-2225-4f66-a33c-b2ea0665cc4d",
   "metadata": {},
   "outputs": [],
   "source": [
    "bert_model_wrapper_lr_mr = BERTModelWrapper(bert_tokenizer, bert_model, lr_bert_mr)\n",
    "bert_model_wrapper_rf_mr = BERTModelWrapper(bert_tokenizer, bert_model, rf_bert_mr)\n",
    "bert_model_wrapper_knn_mr = BERTModelWrapper(bert_tokenizer, bert_model, knn_bert_mr)\n",
    "bert_model_wrapper_svc_mr = BERTModelWrapper(bert_tokenizer, bert_model, svc_bert_mr)"
   ]
  },
  {
   "cell_type": "code",
   "execution_count": 12,
   "id": "792065e0-20be-4083-a1dc-fb79b1c832b9",
   "metadata": {
    "scrolled": true
   },
   "outputs": [
    {
     "name": "stderr",
     "output_type": "stream",
     "text": [
      "textattack: Unknown if model of class <class 'transformers.models.bert.modeling_bert.BertModel'> compatible with goal function <class 'textattack.goal_functions.classification.untargeted_classification.UntargetedClassification'>.\n",
      "textattack: Logging to CSV at path attack_results_new/bertmrattacklrsim06.csv\n"
     ]
    },
    {
     "name": "stdout",
     "output_type": "stream",
     "text": [
      "Attack(\n",
      "  (search_method): GreedyWordSwapWIR(\n",
      "    (wir_method):  delete\n",
      "  )\n",
      "  (goal_function):  UntargetedClassification\n",
      "  (transformation):  WordSwapEmbedding(\n",
      "    (max_candidates):  50\n",
      "    (embedding):  WordEmbedding\n",
      "  )\n",
      "  (constraints): \n",
      "    (0): WordEmbeddingDistance(\n",
      "        (embedding):  WordEmbedding\n",
      "        (min_cos_sim):  0.6\n",
      "        (cased):  False\n",
      "        (include_unknown_words):  True\n",
      "        (compare_against_original):  True\n",
      "      )\n",
      "    (1): PartOfSpeech(\n",
      "        (tagger_type):  nltk\n",
      "        (tagset):  universal\n",
      "        (allow_verb_noun_swap):  True\n",
      "        (compare_against_original):  True\n",
      "      )\n",
      "    (2): UniversalSentenceEncoder(\n",
      "        (metric):  angular\n",
      "        (threshold):  0.840845057\n",
      "        (window_size):  15\n",
      "        (skip_text_shorter_than_window):  True\n",
      "        (compare_against_original):  False\n",
      "      )\n",
      "    (3): RepeatModification\n",
      "    (4): StopwordModification\n",
      "    (5): InputColumnModification(\n",
      "        (matching_column_labels):  ['premise', 'hypothesis']\n",
      "        (columns_to_ignore):  {'premise'}\n",
      "      )\n",
      "  (is_black_box):  True\n",
      ") \n",
      "\n"
     ]
    },
    {
     "name": "stderr",
     "output_type": "stream",
     "text": [
      "[Succeeded / Failed / Skipped / Total] 4 / 0 / 1 / 5:   1%|▎                         | 5/500 [00:58<1:36:09, 11.65s/it]textattack: Saving checkpoint under \"checkpoints\\1720187284774.ta.chkpt\" at 2024-07-05 21:48:04 after 5 attacks.\n"
     ]
    },
    {
     "name": "stdout",
     "output_type": "stream",
     "text": [
      "\n",
      "\n",
      "=============================================================================================================================\n",
      "=============================================================================================================================\n",
      "\n"
     ]
    },
    {
     "name": "stderr",
     "output_type": "stream",
     "text": [
      "[Succeeded / Failed / Skipped / Total] 6 / 0 / 4 / 10:   2%|▌                         | 10/500 [01:06<54:42,  6.70s/it]textattack: Saving checkpoint under \"checkpoints\\1720187293482.ta.chkpt\" at 2024-07-05 21:48:13 after 10 attacks.\n"
     ]
    },
    {
     "name": "stdout",
     "output_type": "stream",
     "text": [
      "\n",
      "\n",
      "=============================================================================================================================\n",
      "=============================================================================================================================\n",
      "\n"
     ]
    },
    {
     "name": "stderr",
     "output_type": "stream",
     "text": [
      "[Succeeded / Failed / Skipped / Total] 11 / 0 / 4 / 15:   3%|▊                        | 15/500 [01:43<55:41,  6.89s/it]textattack: Saving checkpoint under \"checkpoints\\1720187329846.ta.chkpt\" at 2024-07-05 21:48:49 after 15 attacks.\n"
     ]
    },
    {
     "name": "stdout",
     "output_type": "stream",
     "text": [
      "\n",
      "\n",
      "=============================================================================================================================\n",
      "=============================================================================================================================\n",
      "\n"
     ]
    },
    {
     "name": "stderr",
     "output_type": "stream",
     "text": [
      "[Succeeded / Failed / Skipped / Total] 14 / 1 / 5 / 20:   4%|█                        | 20/500 [01:47<42:58,  5.37s/it]textattack: Saving checkpoint under \"checkpoints\\1720187333947.ta.chkpt\" at 2024-07-05 21:48:53 after 20 attacks.\n"
     ]
    },
    {
     "name": "stdout",
     "output_type": "stream",
     "text": [
      "\n",
      "\n",
      "=============================================================================================================================\n",
      "=============================================================================================================================\n",
      "\n"
     ]
    },
    {
     "name": "stderr",
     "output_type": "stream",
     "text": [
      "[Succeeded / Failed / Skipped / Total] 17 / 1 / 7 / 25:   5%|█▎                       | 25/500 [01:55<36:32,  4.62s/it]textattack: Saving checkpoint under \"checkpoints\\1720187341889.ta.chkpt\" at 2024-07-05 21:49:01 after 25 attacks.\n"
     ]
    },
    {
     "name": "stdout",
     "output_type": "stream",
     "text": [
      "\n",
      "\n",
      "=============================================================================================================================\n",
      "=============================================================================================================================\n",
      "\n"
     ]
    },
    {
     "name": "stderr",
     "output_type": "stream",
     "text": [
      "[Succeeded / Failed / Skipped / Total] 22 / 1 / 7 / 30:   6%|█▌                       | 30/500 [02:08<33:37,  4.29s/it]textattack: Saving checkpoint under \"checkpoints\\1720187355305.ta.chkpt\" at 2024-07-05 21:49:15 after 30 attacks.\n"
     ]
    },
    {
     "name": "stdout",
     "output_type": "stream",
     "text": [
      "\n",
      "\n",
      "=============================================================================================================================\n",
      "=============================================================================================================================\n",
      "\n"
     ]
    },
    {
     "name": "stderr",
     "output_type": "stream",
     "text": [
      "[Succeeded / Failed / Skipped / Total] 26 / 1 / 8 / 35:   7%|█▊                       | 35/500 [02:16<30:19,  3.91s/it]textattack: Saving checkpoint under \"checkpoints\\1720187363438.ta.chkpt\" at 2024-07-05 21:49:23 after 35 attacks.\n"
     ]
    },
    {
     "name": "stdout",
     "output_type": "stream",
     "text": [
      "\n",
      "\n",
      "=============================================================================================================================\n",
      "=============================================================================================================================\n",
      "\n"
     ]
    },
    {
     "name": "stderr",
     "output_type": "stream",
     "text": [
      "[Succeeded / Failed / Skipped / Total] 28 / 1 / 11 / 40:   8%|█▉                      | 40/500 [02:24<27:42,  3.61s/it]textattack: Saving checkpoint under \"checkpoints\\1720187371068.ta.chkpt\" at 2024-07-05 21:49:31 after 40 attacks.\n"
     ]
    },
    {
     "name": "stdout",
     "output_type": "stream",
     "text": [
      "\n",
      "\n",
      "=============================================================================================================================\n",
      "=============================================================================================================================\n",
      "\n"
     ]
    },
    {
     "name": "stderr",
     "output_type": "stream",
     "text": [
      "[Succeeded / Failed / Skipped / Total] 32 / 1 / 12 / 45:   9%|██▏                     | 45/500 [02:38<26:39,  3.52s/it]textattack: Saving checkpoint under \"checkpoints\\1720187384740.ta.chkpt\" at 2024-07-05 21:49:44 after 45 attacks.\n"
     ]
    },
    {
     "name": "stdout",
     "output_type": "stream",
     "text": [
      "\n",
      "\n",
      "=============================================================================================================================\n",
      "=============================================================================================================================\n",
      "\n"
     ]
    },
    {
     "name": "stderr",
     "output_type": "stream",
     "text": [
      "[Succeeded / Failed / Skipped / Total] 37 / 1 / 12 / 50:  10%|██▍                     | 50/500 [02:53<26:00,  3.47s/it]textattack: Saving checkpoint under \"checkpoints\\1720187399921.ta.chkpt\" at 2024-07-05 21:49:59 after 50 attacks.\n"
     ]
    },
    {
     "name": "stdout",
     "output_type": "stream",
     "text": [
      "\n",
      "\n",
      "=============================================================================================================================\n",
      "=============================================================================================================================\n",
      "\n"
     ]
    },
    {
     "name": "stderr",
     "output_type": "stream",
     "text": [
      "[Succeeded / Failed / Skipped / Total] 42 / 1 / 12 / 55:  11%|██▋                     | 55/500 [03:07<25:16,  3.41s/it]textattack: Saving checkpoint under \"checkpoints\\1720187413909.ta.chkpt\" at 2024-07-05 21:50:13 after 55 attacks.\n"
     ]
    },
    {
     "name": "stdout",
     "output_type": "stream",
     "text": [
      "\n",
      "\n",
      "=============================================================================================================================\n",
      "=============================================================================================================================\n",
      "\n"
     ]
    },
    {
     "name": "stderr",
     "output_type": "stream",
     "text": [
      "[Succeeded / Failed / Skipped / Total] 46 / 1 / 13 / 60:  12%|██▉                     | 60/500 [03:21<24:34,  3.35s/it]textattack: Saving checkpoint under \"checkpoints\\1720187427622.ta.chkpt\" at 2024-07-05 21:50:27 after 60 attacks.\n",
      "[Succeeded / Failed / Skipped / Total] 46 / 1 / 14 / 61:  12%|██▉                     | 61/500 [03:21<24:08,  3.30s/it]"
     ]
    },
    {
     "name": "stdout",
     "output_type": "stream",
     "text": [
      "\n",
      "\n",
      "=============================================================================================================================\n",
      "=============================================================================================================================\n",
      "\n"
     ]
    },
    {
     "name": "stderr",
     "output_type": "stream",
     "text": [
      "[Succeeded / Failed / Skipped / Total] 50 / 1 / 14 / 65:  13%|███                     | 65/500 [03:27<23:08,  3.19s/it]textattack: Saving checkpoint under \"checkpoints\\1720187433974.ta.chkpt\" at 2024-07-05 21:50:33 after 65 attacks.\n"
     ]
    },
    {
     "name": "stdout",
     "output_type": "stream",
     "text": [
      "\n",
      "\n",
      "=============================================================================================================================\n",
      "=============================================================================================================================\n",
      "\n"
     ]
    },
    {
     "name": "stderr",
     "output_type": "stream",
     "text": [
      "[Succeeded / Failed / Skipped / Total] 54 / 1 / 15 / 70:  14%|███▎                    | 70/500 [03:42<22:47,  3.18s/it]textattack: Saving checkpoint under \"checkpoints\\1720187449193.ta.chkpt\" at 2024-07-05 21:50:49 after 70 attacks.\n"
     ]
    },
    {
     "name": "stdout",
     "output_type": "stream",
     "text": [
      "\n",
      "\n",
      "=============================================================================================================================\n",
      "=============================================================================================================================\n",
      "\n"
     ]
    },
    {
     "name": "stderr",
     "output_type": "stream",
     "text": [
      "[Succeeded / Failed / Skipped / Total] 58 / 1 / 16 / 75:  15%|███▌                    | 75/500 [03:47<21:27,  3.03s/it]textattack: Saving checkpoint under \"checkpoints\\1720187453678.ta.chkpt\" at 2024-07-05 21:50:53 after 75 attacks.\n",
      "[Succeeded / Failed / Skipped / Total] 58 / 1 / 17 / 76:  15%|███▋                    | 76/500 [03:47<21:08,  2.99s/it]"
     ]
    },
    {
     "name": "stdout",
     "output_type": "stream",
     "text": [
      "\n",
      "\n",
      "=============================================================================================================================\n",
      "=============================================================================================================================\n",
      "\n"
     ]
    },
    {
     "name": "stderr",
     "output_type": "stream",
     "text": [
      "[Succeeded / Failed / Skipped / Total] 61 / 1 / 18 / 80:  16%|███▊                    | 80/500 [04:02<21:13,  3.03s/it]textattack: Saving checkpoint under \"checkpoints\\1720187469088.ta.chkpt\" at 2024-07-05 21:51:09 after 80 attacks.\n"
     ]
    },
    {
     "name": "stdout",
     "output_type": "stream",
     "text": [
      "\n",
      "\n",
      "=============================================================================================================================\n",
      "=============================================================================================================================\n",
      "\n"
     ]
    },
    {
     "name": "stderr",
     "output_type": "stream",
     "text": [
      "[Succeeded / Failed / Skipped / Total] 64 / 1 / 20 / 85:  17%|████                    | 85/500 [04:06<20:03,  2.90s/it]textattack: Saving checkpoint under \"checkpoints\\1720187473065.ta.chkpt\" at 2024-07-05 21:51:13 after 85 attacks.\n"
     ]
    },
    {
     "name": "stdout",
     "output_type": "stream",
     "text": [
      "\n",
      "\n",
      "=============================================================================================================================\n",
      "=============================================================================================================================\n",
      "\n"
     ]
    },
    {
     "name": "stderr",
     "output_type": "stream",
     "text": [
      "[Succeeded / Failed / Skipped / Total] 69 / 1 / 20 / 90:  18%|████▎                   | 90/500 [04:18<19:38,  2.88s/it]textattack: Saving checkpoint under \"checkpoints\\1720187485301.ta.chkpt\" at 2024-07-05 21:51:25 after 90 attacks.\n",
      "[Succeeded / Failed / Skipped / Total] 69 / 1 / 21 / 91:  18%|████▎                   | 91/500 [04:18<19:23,  2.85s/it]"
     ]
    },
    {
     "name": "stdout",
     "output_type": "stream",
     "text": [
      "\n",
      "\n",
      "=============================================================================================================================\n",
      "=============================================================================================================================\n",
      "\n"
     ]
    },
    {
     "name": "stderr",
     "output_type": "stream",
     "text": [
      "[Succeeded / Failed / Skipped / Total] 72 / 1 / 22 / 95:  19%|████▌                   | 95/500 [04:25<18:53,  2.80s/it]textattack: Saving checkpoint under \"checkpoints\\1720187492313.ta.chkpt\" at 2024-07-05 21:51:32 after 95 attacks.\n"
     ]
    },
    {
     "name": "stdout",
     "output_type": "stream",
     "text": [
      "\n",
      "\n",
      "=============================================================================================================================\n",
      "=============================================================================================================================\n",
      "\n"
     ]
    },
    {
     "name": "stderr",
     "output_type": "stream",
     "text": [
      "[Succeeded / Failed / Skipped / Total] 77 / 1 / 22 / 100:  20%|████▍                 | 100/500 [04:38<18:32,  2.78s/it]textattack: Saving checkpoint under \"checkpoints\\1720187504541.ta.chkpt\" at 2024-07-05 21:51:44 after 100 attacks.\n",
      "[Succeeded / Failed / Skipped / Total] 77 / 1 / 23 / 101:  20%|████▍                 | 101/500 [04:38<18:19,  2.75s/it]"
     ]
    },
    {
     "name": "stdout",
     "output_type": "stream",
     "text": [
      "\n",
      "\n",
      "=============================================================================================================================\n",
      "=============================================================================================================================\n",
      "\n"
     ]
    },
    {
     "name": "stderr",
     "output_type": "stream",
     "text": [
      "[Succeeded / Failed / Skipped / Total] 81 / 1 / 23 / 105:  21%|████▌                 | 105/500 [04:51<18:14,  2.77s/it]textattack: Saving checkpoint under \"checkpoints\\1720187517532.ta.chkpt\" at 2024-07-05 21:51:57 after 105 attacks.\n",
      "[Succeeded / Failed / Skipped / Total] 81 / 1 / 24 / 106:  21%|████▋                 | 106/500 [04:51<18:02,  2.75s/it]"
     ]
    },
    {
     "name": "stdout",
     "output_type": "stream",
     "text": [
      "\n",
      "\n",
      "=============================================================================================================================\n",
      "=============================================================================================================================\n",
      "\n"
     ]
    },
    {
     "name": "stderr",
     "output_type": "stream",
     "text": [
      "[Succeeded / Failed / Skipped / Total] 84 / 1 / 25 / 110:  22%|████▊                 | 110/500 [04:56<17:32,  2.70s/it]textattack: Saving checkpoint under \"checkpoints\\1720187523489.ta.chkpt\" at 2024-07-05 21:52:03 after 110 attacks.\n",
      "[Succeeded / Failed / Skipped / Total] 84 / 1 / 26 / 111:  22%|████▉                 | 111/500 [04:57<17:21,  2.68s/it]"
     ]
    },
    {
     "name": "stdout",
     "output_type": "stream",
     "text": [
      "\n",
      "\n",
      "=============================================================================================================================\n",
      "=============================================================================================================================\n",
      "\n"
     ]
    },
    {
     "name": "stderr",
     "output_type": "stream",
     "text": [
      "[Succeeded / Failed / Skipped / Total] 88 / 1 / 26 / 115:  23%|█████                 | 115/500 [05:08<17:14,  2.69s/it]textattack: Saving checkpoint under \"checkpoints\\1720187535439.ta.chkpt\" at 2024-07-05 21:52:15 after 115 attacks.\n"
     ]
    },
    {
     "name": "stdout",
     "output_type": "stream",
     "text": [
      "\n",
      "\n",
      "=============================================================================================================================\n",
      "=============================================================================================================================\n",
      "\n"
     ]
    },
    {
     "name": "stderr",
     "output_type": "stream",
     "text": [
      "[Succeeded / Failed / Skipped / Total] 90 / 2 / 28 / 120:  24%|█████▎                | 120/500 [05:15<16:37,  2.63s/it]textattack: Saving checkpoint under \"checkpoints\\1720187541627.ta.chkpt\" at 2024-07-05 21:52:21 after 120 attacks.\n"
     ]
    },
    {
     "name": "stdout",
     "output_type": "stream",
     "text": [
      "\n",
      "\n",
      "=============================================================================================================================\n",
      "=============================================================================================================================\n",
      "\n"
     ]
    },
    {
     "name": "stderr",
     "output_type": "stream",
     "text": [
      "[Succeeded / Failed / Skipped / Total] 95 / 2 / 28 / 125:  25%|█████▌                | 125/500 [05:25<16:17,  2.61s/it]textattack: Saving checkpoint under \"checkpoints\\1720187552360.ta.chkpt\" at 2024-07-05 21:52:32 after 125 attacks.\n"
     ]
    },
    {
     "name": "stdout",
     "output_type": "stream",
     "text": [
      "\n",
      "\n",
      "=============================================================================================================================\n",
      "=============================================================================================================================\n",
      "\n"
     ]
    },
    {
     "name": "stderr",
     "output_type": "stream",
     "text": [
      "[Succeeded / Failed / Skipped / Total] 99 / 2 / 29 / 130:  26%|█████▋                | 130/500 [05:32<15:47,  2.56s/it]textattack: Saving checkpoint under \"checkpoints\\1720187559390.ta.chkpt\" at 2024-07-05 21:52:39 after 130 attacks.\n",
      "[Succeeded / Failed / Skipped / Total] 99 / 2 / 30 / 131:  26%|█████▊                | 131/500 [05:32<15:37,  2.54s/it]"
     ]
    },
    {
     "name": "stdout",
     "output_type": "stream",
     "text": [
      "\n",
      "\n",
      "=============================================================================================================================\n",
      "=============================================================================================================================\n",
      "\n"
     ]
    },
    {
     "name": "stderr",
     "output_type": "stream",
     "text": [
      "[Succeeded / Failed / Skipped / Total] 103 / 2 / 30 / 135:  27%|█████▋               | 135/500 [05:48<15:42,  2.58s/it]textattack: Saving checkpoint under \"checkpoints\\1720187575142.ta.chkpt\" at 2024-07-05 21:52:55 after 135 attacks.\n"
     ]
    },
    {
     "name": "stdout",
     "output_type": "stream",
     "text": [
      "\n",
      "\n",
      "=============================================================================================================================\n",
      "=============================================================================================================================\n",
      "\n"
     ]
    },
    {
     "name": "stderr",
     "output_type": "stream",
     "text": [
      "[Succeeded / Failed / Skipped / Total] 108 / 2 / 30 / 140:  28%|█████▉               | 140/500 [06:05<15:39,  2.61s/it]textattack: Saving checkpoint under \"checkpoints\\1720187591969.ta.chkpt\" at 2024-07-05 21:53:11 after 140 attacks.\n"
     ]
    },
    {
     "name": "stdout",
     "output_type": "stream",
     "text": [
      "\n",
      "\n",
      "=============================================================================================================================\n",
      "=============================================================================================================================\n",
      "\n"
     ]
    },
    {
     "name": "stderr",
     "output_type": "stream",
     "text": [
      "[Succeeded / Failed / Skipped / Total] 112 / 2 / 31 / 145:  29%|██████               | 145/500 [06:15<15:20,  2.59s/it]textattack: Saving checkpoint under \"checkpoints\\1720187602289.ta.chkpt\" at 2024-07-05 21:53:22 after 145 attacks.\n"
     ]
    },
    {
     "name": "stdout",
     "output_type": "stream",
     "text": [
      "\n",
      "\n",
      "=============================================================================================================================\n",
      "=============================================================================================================================\n",
      "\n"
     ]
    },
    {
     "name": "stderr",
     "output_type": "stream",
     "text": [
      "[Succeeded / Failed / Skipped / Total] 113 / 2 / 35 / 150:  30%|██████▎              | 150/500 [06:18<14:42,  2.52s/it]textattack: Saving checkpoint under \"checkpoints\\1720187604571.ta.chkpt\" at 2024-07-05 21:53:24 after 150 attacks.\n"
     ]
    },
    {
     "name": "stdout",
     "output_type": "stream",
     "text": [
      "\n",
      "\n",
      "=============================================================================================================================\n",
      "=============================================================================================================================\n",
      "\n"
     ]
    },
    {
     "name": "stderr",
     "output_type": "stream",
     "text": [
      "[Succeeded / Failed / Skipped / Total] 116 / 2 / 37 / 155:  31%|██████▌              | 155/500 [06:24<14:15,  2.48s/it]textattack: Saving checkpoint under \"checkpoints\\1720187610631.ta.chkpt\" at 2024-07-05 21:53:30 after 155 attacks.\n"
     ]
    },
    {
     "name": "stdout",
     "output_type": "stream",
     "text": [
      "\n",
      "\n",
      "=============================================================================================================================\n",
      "=============================================================================================================================\n",
      "\n"
     ]
    },
    {
     "name": "stderr",
     "output_type": "stream",
     "text": [
      "[Succeeded / Failed / Skipped / Total] 120 / 2 / 38 / 160:  32%|██████▋              | 160/500 [06:37<14:05,  2.49s/it]textattack: Saving checkpoint under \"checkpoints\\1720187624375.ta.chkpt\" at 2024-07-05 21:53:44 after 160 attacks.\n",
      "[Succeeded / Failed / Skipped / Total] 120 / 2 / 39 / 161:  32%|██████▊              | 161/500 [06:37<13:58,  2.47s/it]"
     ]
    },
    {
     "name": "stdout",
     "output_type": "stream",
     "text": [
      "\n",
      "\n",
      "=============================================================================================================================\n",
      "=============================================================================================================================\n",
      "\n"
     ]
    },
    {
     "name": "stderr",
     "output_type": "stream",
     "text": [
      "[Succeeded / Failed / Skipped / Total] 123 / 2 / 40 / 165:  33%|██████▉              | 165/500 [06:44<13:40,  2.45s/it]textattack: Saving checkpoint under \"checkpoints\\1720187630561.ta.chkpt\" at 2024-07-05 21:53:50 after 165 attacks.\n",
      "[Succeeded / Failed / Skipped / Total] 123 / 2 / 41 / 166:  33%|██████▉              | 166/500 [06:44<13:33,  2.43s/it]"
     ]
    },
    {
     "name": "stdout",
     "output_type": "stream",
     "text": [
      "\n",
      "\n",
      "=============================================================================================================================\n",
      "=============================================================================================================================\n",
      "\n"
     ]
    },
    {
     "name": "stderr",
     "output_type": "stream",
     "text": [
      "[Succeeded / Failed / Skipped / Total] 127 / 2 / 41 / 170:  34%|███████▏             | 170/500 [07:00<13:37,  2.48s/it]textattack: Saving checkpoint under \"checkpoints\\1720187647462.ta.chkpt\" at 2024-07-05 21:54:07 after 170 attacks.\n"
     ]
    },
    {
     "name": "stdout",
     "output_type": "stream",
     "text": [
      "\n",
      "\n",
      "=============================================================================================================================\n",
      "=============================================================================================================================\n",
      "\n"
     ]
    },
    {
     "name": "stderr",
     "output_type": "stream",
     "text": [
      "[Succeeded / Failed / Skipped / Total] 131 / 3 / 41 / 175:  35%|███████▎             | 175/500 [07:20<13:38,  2.52s/it]textattack: Saving checkpoint under \"checkpoints\\1720187667255.ta.chkpt\" at 2024-07-05 21:54:27 after 175 attacks.\n",
      "[Succeeded / Failed / Skipped / Total] 131 / 3 / 42 / 176:  35%|███████▍             | 176/500 [07:20<13:31,  2.51s/it]"
     ]
    },
    {
     "name": "stdout",
     "output_type": "stream",
     "text": [
      "\n",
      "\n",
      "=============================================================================================================================\n",
      "=============================================================================================================================\n",
      "\n"
     ]
    },
    {
     "name": "stderr",
     "output_type": "stream",
     "text": [
      "[Succeeded / Failed / Skipped / Total] 134 / 3 / 43 / 180:  36%|███████▌             | 180/500 [07:28<13:17,  2.49s/it]textattack: Saving checkpoint under \"checkpoints\\1720187675080.ta.chkpt\" at 2024-07-05 21:54:35 after 180 attacks.\n"
     ]
    },
    {
     "name": "stdout",
     "output_type": "stream",
     "text": [
      "\n",
      "\n",
      "=============================================================================================================================\n",
      "=============================================================================================================================\n",
      "\n"
     ]
    },
    {
     "name": "stderr",
     "output_type": "stream",
     "text": [
      "[Succeeded / Failed / Skipped / Total] 138 / 3 / 44 / 185:  37%|███████▊             | 185/500 [07:33<12:52,  2.45s/it]textattack: Saving checkpoint under \"checkpoints\\1720187680440.ta.chkpt\" at 2024-07-05 21:54:40 after 185 attacks.\n"
     ]
    },
    {
     "name": "stdout",
     "output_type": "stream",
     "text": [
      "\n",
      "\n",
      "=============================================================================================================================\n",
      "=============================================================================================================================\n",
      "\n"
     ]
    },
    {
     "name": "stderr",
     "output_type": "stream",
     "text": [
      "[Succeeded / Failed / Skipped / Total] 143 / 3 / 44 / 190:  38%|███████▉             | 190/500 [07:55<12:55,  2.50s/it]textattack: Saving checkpoint under \"checkpoints\\1720187702045.ta.chkpt\" at 2024-07-05 21:55:02 after 190 attacks.\n"
     ]
    },
    {
     "name": "stdout",
     "output_type": "stream",
     "text": [
      "\n",
      "\n",
      "=============================================================================================================================\n",
      "=============================================================================================================================\n",
      "\n"
     ]
    },
    {
     "name": "stderr",
     "output_type": "stream",
     "text": [
      "[Succeeded / Failed / Skipped / Total] 148 / 3 / 44 / 195:  39%|████████▏            | 195/500 [08:10<12:46,  2.51s/it]textattack: Saving checkpoint under \"checkpoints\\1720187716732.ta.chkpt\" at 2024-07-05 21:55:16 after 195 attacks.\n"
     ]
    },
    {
     "name": "stdout",
     "output_type": "stream",
     "text": [
      "\n",
      "\n",
      "=============================================================================================================================\n",
      "=============================================================================================================================\n",
      "\n"
     ]
    },
    {
     "name": "stderr",
     "output_type": "stream",
     "text": [
      "[Succeeded / Failed / Skipped / Total] 152 / 3 / 45 / 200:  40%|████████▍            | 200/500 [08:29<12:43,  2.55s/it]textattack: Saving checkpoint under \"checkpoints\\1720187735639.ta.chkpt\" at 2024-07-05 21:55:35 after 200 attacks.\n",
      "[Succeeded / Failed / Skipped / Total] 152 / 3 / 46 / 201:  40%|████████▍            | 201/500 [08:29<12:37,  2.53s/it]"
     ]
    },
    {
     "name": "stdout",
     "output_type": "stream",
     "text": [
      "\n",
      "\n",
      "=============================================================================================================================\n",
      "=============================================================================================================================\n",
      "\n"
     ]
    },
    {
     "name": "stderr",
     "output_type": "stream",
     "text": [
      "[Succeeded / Failed / Skipped / Total] 155 / 3 / 47 / 205:  41%|████████▌            | 205/500 [08:35<12:21,  2.51s/it]textattack: Saving checkpoint under \"checkpoints\\1720187742045.ta.chkpt\" at 2024-07-05 21:55:42 after 205 attacks.\n",
      "[Succeeded / Failed / Skipped / Total] 155 / 3 / 48 / 206:  41%|████████▋            | 206/500 [08:35<12:15,  2.50s/it]"
     ]
    },
    {
     "name": "stdout",
     "output_type": "stream",
     "text": [
      "\n",
      "\n",
      "=============================================================================================================================\n",
      "=============================================================================================================================\n",
      "\n"
     ]
    },
    {
     "name": "stderr",
     "output_type": "stream",
     "text": [
      "[Succeeded / Failed / Skipped / Total] 159 / 3 / 48 / 210:  42%|████████▊            | 210/500 [08:41<12:00,  2.49s/it]textattack: Saving checkpoint under \"checkpoints\\1720187748372.ta.chkpt\" at 2024-07-05 21:55:48 after 210 attacks.\n"
     ]
    },
    {
     "name": "stdout",
     "output_type": "stream",
     "text": [
      "\n",
      "\n",
      "=============================================================================================================================\n",
      "=============================================================================================================================\n",
      "\n"
     ]
    },
    {
     "name": "stderr",
     "output_type": "stream",
     "text": [
      "[Succeeded / Failed / Skipped / Total] 162 / 4 / 49 / 215:  43%|█████████            | 215/500 [08:56<11:51,  2.50s/it]textattack: Saving checkpoint under \"checkpoints\\1720187763089.ta.chkpt\" at 2024-07-05 21:56:03 after 215 attacks.\n"
     ]
    },
    {
     "name": "stdout",
     "output_type": "stream",
     "text": [
      "\n",
      "\n",
      "=============================================================================================================================\n",
      "=============================================================================================================================\n",
      "\n"
     ]
    },
    {
     "name": "stderr",
     "output_type": "stream",
     "text": [
      "[Succeeded / Failed / Skipped / Total] 167 / 4 / 49 / 220:  44%|█████████▏           | 220/500 [09:06<11:35,  2.49s/it]textattack: Saving checkpoint under \"checkpoints\\1720187773338.ta.chkpt\" at 2024-07-05 21:56:13 after 220 attacks.\n"
     ]
    },
    {
     "name": "stdout",
     "output_type": "stream",
     "text": [
      "\n",
      "\n",
      "=============================================================================================================================\n",
      "=============================================================================================================================\n",
      "\n"
     ]
    },
    {
     "name": "stderr",
     "output_type": "stream",
     "text": [
      "[Succeeded / Failed / Skipped / Total] 170 / 4 / 51 / 225:  45%|█████████▍           | 225/500 [09:29<11:36,  2.53s/it]textattack: Saving checkpoint under \"checkpoints\\1720187796194.ta.chkpt\" at 2024-07-05 21:56:36 after 225 attacks.\n"
     ]
    },
    {
     "name": "stdout",
     "output_type": "stream",
     "text": [
      "\n",
      "\n",
      "=============================================================================================================================\n",
      "=============================================================================================================================\n",
      "\n"
     ]
    },
    {
     "name": "stderr",
     "output_type": "stream",
     "text": [
      "[Succeeded / Failed / Skipped / Total] 175 / 4 / 51 / 230:  46%|█████████▋           | 230/500 [09:39<11:20,  2.52s/it]textattack: Saving checkpoint under \"checkpoints\\1720187806409.ta.chkpt\" at 2024-07-05 21:56:46 after 230 attacks.\n"
     ]
    },
    {
     "name": "stdout",
     "output_type": "stream",
     "text": [
      "\n",
      "\n",
      "=============================================================================================================================\n",
      "=============================================================================================================================\n",
      "\n"
     ]
    },
    {
     "name": "stderr",
     "output_type": "stream",
     "text": [
      "[Succeeded / Failed / Skipped / Total] 178 / 5 / 52 / 235:  47%|█████████▊           | 235/500 [09:52<11:07,  2.52s/it]textattack: Saving checkpoint under \"checkpoints\\1720187818674.ta.chkpt\" at 2024-07-05 21:56:58 after 235 attacks.\n",
      "[Succeeded / Failed / Skipped / Total] 178 / 5 / 53 / 236:  47%|█████████▉           | 236/500 [09:52<11:02,  2.51s/it]"
     ]
    },
    {
     "name": "stdout",
     "output_type": "stream",
     "text": [
      "\n",
      "\n",
      "=============================================================================================================================\n",
      "=============================================================================================================================\n",
      "\n"
     ]
    },
    {
     "name": "stderr",
     "output_type": "stream",
     "text": [
      "[Succeeded / Failed / Skipped / Total] 182 / 5 / 53 / 240:  48%|██████████           | 240/500 [10:02<10:52,  2.51s/it]textattack: Saving checkpoint under \"checkpoints\\1720187829096.ta.chkpt\" at 2024-07-05 21:57:09 after 240 attacks.\n"
     ]
    },
    {
     "name": "stdout",
     "output_type": "stream",
     "text": [
      "\n",
      "\n",
      "=============================================================================================================================\n",
      "=============================================================================================================================\n",
      "\n"
     ]
    },
    {
     "name": "stderr",
     "output_type": "stream",
     "text": [
      "[Succeeded / Failed / Skipped / Total] 186 / 6 / 53 / 245:  49%|██████████▎          | 245/500 [10:15<10:41,  2.51s/it]textattack: Saving checkpoint under \"checkpoints\\1720187842418.ta.chkpt\" at 2024-07-05 21:57:22 after 245 attacks.\n"
     ]
    },
    {
     "name": "stdout",
     "output_type": "stream",
     "text": [
      "\n",
      "\n",
      "=============================================================================================================================\n",
      "=============================================================================================================================\n",
      "\n"
     ]
    },
    {
     "name": "stderr",
     "output_type": "stream",
     "text": [
      "[Succeeded / Failed / Skipped / Total] 190 / 6 / 54 / 250:  50%|██████████▌          | 250/500 [10:22<10:22,  2.49s/it]textattack: Saving checkpoint under \"checkpoints\\1720187849192.ta.chkpt\" at 2024-07-05 21:57:29 after 250 attacks.\n",
      "[Succeeded / Failed / Skipped / Total] 190 / 6 / 55 / 251:  50%|██████████▌          | 251/500 [10:22<10:17,  2.48s/it]"
     ]
    },
    {
     "name": "stdout",
     "output_type": "stream",
     "text": [
      "\n",
      "\n",
      "=============================================================================================================================\n",
      "=============================================================================================================================\n",
      "\n"
     ]
    },
    {
     "name": "stderr",
     "output_type": "stream",
     "text": [
      "[Succeeded / Failed / Skipped / Total] 193 / 6 / 56 / 255:  51%|██████████▋          | 255/500 [10:28<10:03,  2.46s/it]textattack: Saving checkpoint under \"checkpoints\\1720187854939.ta.chkpt\" at 2024-07-05 21:57:34 after 255 attacks.\n"
     ]
    },
    {
     "name": "stdout",
     "output_type": "stream",
     "text": [
      "\n",
      "\n",
      "=============================================================================================================================\n",
      "=============================================================================================================================\n",
      "\n"
     ]
    },
    {
     "name": "stderr",
     "output_type": "stream",
     "text": [
      "[Succeeded / Failed / Skipped / Total] 198 / 6 / 56 / 260:  52%|██████████▉          | 260/500 [10:36<09:47,  2.45s/it]textattack: Saving checkpoint under \"checkpoints\\1720187863266.ta.chkpt\" at 2024-07-05 21:57:43 after 260 attacks.\n"
     ]
    },
    {
     "name": "stdout",
     "output_type": "stream",
     "text": [
      "\n",
      "\n",
      "=============================================================================================================================\n",
      "=============================================================================================================================\n",
      "\n"
     ]
    },
    {
     "name": "stderr",
     "output_type": "stream",
     "text": [
      "[Succeeded / Failed / Skipped / Total] 202 / 6 / 57 / 265:  53%|███████████▏         | 265/500 [10:43<09:30,  2.43s/it]textattack: Saving checkpoint under \"checkpoints\\1720187869556.ta.chkpt\" at 2024-07-05 21:57:49 after 265 attacks.\n"
     ]
    },
    {
     "name": "stdout",
     "output_type": "stream",
     "text": [
      "\n",
      "\n",
      "=============================================================================================================================\n",
      "=============================================================================================================================\n",
      "\n"
     ]
    },
    {
     "name": "stderr",
     "output_type": "stream",
     "text": [
      "[Succeeded / Failed / Skipped / Total] 205 / 6 / 59 / 270:  54%|███████████▎         | 270/500 [10:58<09:20,  2.44s/it]textattack: Saving checkpoint under \"checkpoints\\1720187884742.ta.chkpt\" at 2024-07-05 21:58:04 after 270 attacks.\n",
      "[Succeeded / Failed / Skipped / Total] 205 / 6 / 61 / 272:  54%|███████████▍         | 272/500 [10:58<09:11,  2.42s/it]"
     ]
    },
    {
     "name": "stdout",
     "output_type": "stream",
     "text": [
      "\n",
      "\n",
      "=============================================================================================================================\n",
      "=============================================================================================================================\n",
      "\n"
     ]
    },
    {
     "name": "stderr",
     "output_type": "stream",
     "text": [
      "[Succeeded / Failed / Skipped / Total] 206 / 6 / 63 / 275:  55%|███████████▌         | 275/500 [11:03<09:02,  2.41s/it]textattack: Saving checkpoint under \"checkpoints\\1720187889956.ta.chkpt\" at 2024-07-05 21:58:09 after 275 attacks.\n"
     ]
    },
    {
     "name": "stdout",
     "output_type": "stream",
     "text": [
      "\n",
      "\n",
      "=============================================================================================================================\n",
      "=============================================================================================================================\n",
      "\n"
     ]
    },
    {
     "name": "stderr",
     "output_type": "stream",
     "text": [
      "[Succeeded / Failed / Skipped / Total] 209 / 6 / 65 / 280:  56%|███████████▊         | 280/500 [11:09<08:46,  2.39s/it]textattack: Saving checkpoint under \"checkpoints\\1720187896475.ta.chkpt\" at 2024-07-05 21:58:16 after 280 attacks.\n"
     ]
    },
    {
     "name": "stdout",
     "output_type": "stream",
     "text": [
      "\n",
      "\n",
      "=============================================================================================================================\n",
      "=============================================================================================================================\n",
      "\n"
     ]
    },
    {
     "name": "stderr",
     "output_type": "stream",
     "text": [
      "[Succeeded / Failed / Skipped / Total] 212 / 6 / 67 / 285:  57%|███████████▉         | 285/500 [11:18<08:31,  2.38s/it]textattack: Saving checkpoint under \"checkpoints\\1720187904631.ta.chkpt\" at 2024-07-05 21:58:24 after 285 attacks.\n",
      "[Succeeded / Failed / Skipped / Total] 212 / 6 / 69 / 287:  57%|████████████         | 287/500 [11:18<08:23,  2.36s/it]"
     ]
    },
    {
     "name": "stdout",
     "output_type": "stream",
     "text": [
      "\n",
      "\n",
      "=============================================================================================================================\n",
      "=============================================================================================================================\n",
      "\n"
     ]
    },
    {
     "name": "stderr",
     "output_type": "stream",
     "text": [
      "[Succeeded / Failed / Skipped / Total] 214 / 6 / 70 / 290:  58%|████████████▏        | 290/500 [11:23<08:14,  2.36s/it]textattack: Saving checkpoint under \"checkpoints\\1720187909661.ta.chkpt\" at 2024-07-05 21:58:29 after 290 attacks.\n"
     ]
    },
    {
     "name": "stdout",
     "output_type": "stream",
     "text": [
      "\n",
      "\n",
      "=============================================================================================================================\n",
      "=============================================================================================================================\n",
      "\n"
     ]
    },
    {
     "name": "stderr",
     "output_type": "stream",
     "text": [
      "[Succeeded / Failed / Skipped / Total] 216 / 7 / 72 / 295:  59%|████████████▍        | 295/500 [11:28<07:58,  2.33s/it]textattack: Saving checkpoint under \"checkpoints\\1720187914831.ta.chkpt\" at 2024-07-05 21:58:34 after 295 attacks.\n"
     ]
    },
    {
     "name": "stdout",
     "output_type": "stream",
     "text": [
      "\n",
      "\n",
      "=============================================================================================================================\n",
      "=============================================================================================================================\n",
      "\n"
     ]
    },
    {
     "name": "stderr",
     "output_type": "stream",
     "text": [
      "[Succeeded / Failed / Skipped / Total] 220 / 7 / 73 / 300:  60%|████████████▌        | 300/500 [11:36<07:44,  2.32s/it]textattack: Saving checkpoint under \"checkpoints\\1720187922817.ta.chkpt\" at 2024-07-05 21:58:42 after 300 attacks.\n"
     ]
    },
    {
     "name": "stdout",
     "output_type": "stream",
     "text": [
      "\n",
      "\n",
      "=============================================================================================================================\n",
      "=============================================================================================================================\n",
      "\n"
     ]
    },
    {
     "name": "stderr",
     "output_type": "stream",
     "text": [
      "[Succeeded / Failed / Skipped / Total] 224 / 7 / 74 / 305:  61%|████████████▊        | 305/500 [11:47<07:32,  2.32s/it]textattack: Saving checkpoint under \"checkpoints\\1720187934430.ta.chkpt\" at 2024-07-05 21:58:54 after 305 attacks.\n"
     ]
    },
    {
     "name": "stdout",
     "output_type": "stream",
     "text": [
      "\n",
      "\n",
      "=============================================================================================================================\n",
      "=============================================================================================================================\n",
      "\n"
     ]
    },
    {
     "name": "stderr",
     "output_type": "stream",
     "text": [
      "[Succeeded / Failed / Skipped / Total] 227 / 7 / 76 / 310:  62%|█████████████        | 310/500 [11:55<07:18,  2.31s/it]textattack: Saving checkpoint under \"checkpoints\\1720187942132.ta.chkpt\" at 2024-07-05 21:59:02 after 310 attacks.\n"
     ]
    },
    {
     "name": "stdout",
     "output_type": "stream",
     "text": [
      "\n",
      "\n",
      "=============================================================================================================================\n",
      "=============================================================================================================================\n",
      "\n"
     ]
    },
    {
     "name": "stderr",
     "output_type": "stream",
     "text": [
      "[Succeeded / Failed / Skipped / Total] 230 / 7 / 78 / 315:  63%|█████████████▏       | 315/500 [12:00<07:03,  2.29s/it]textattack: Saving checkpoint under \"checkpoints\\1720187947045.ta.chkpt\" at 2024-07-05 21:59:07 after 315 attacks.\n"
     ]
    },
    {
     "name": "stdout",
     "output_type": "stream",
     "text": [
      "\n",
      "\n",
      "=============================================================================================================================\n",
      "=============================================================================================================================\n",
      "\n"
     ]
    },
    {
     "name": "stderr",
     "output_type": "stream",
     "text": [
      "[Succeeded / Failed / Skipped / Total] 234 / 7 / 79 / 320:  64%|█████████████▍       | 320/500 [12:17<06:54,  2.30s/it]textattack: Saving checkpoint under \"checkpoints\\1720187963749.ta.chkpt\" at 2024-07-05 21:59:23 after 320 attacks.\n"
     ]
    },
    {
     "name": "stdout",
     "output_type": "stream",
     "text": [
      "\n",
      "\n",
      "=============================================================================================================================\n",
      "=============================================================================================================================\n",
      "\n"
     ]
    },
    {
     "name": "stderr",
     "output_type": "stream",
     "text": [
      "[Succeeded / Failed / Skipped / Total] 239 / 7 / 79 / 325:  65%|█████████████▋       | 325/500 [12:34<06:46,  2.32s/it]textattack: Saving checkpoint under \"checkpoints\\1720187980686.ta.chkpt\" at 2024-07-05 21:59:40 after 325 attacks.\n"
     ]
    },
    {
     "name": "stdout",
     "output_type": "stream",
     "text": [
      "\n",
      "\n",
      "=============================================================================================================================\n",
      "=============================================================================================================================\n",
      "\n"
     ]
    },
    {
     "name": "stderr",
     "output_type": "stream",
     "text": [
      "[Succeeded / Failed / Skipped / Total] 244 / 7 / 79 / 330:  66%|█████████████▊       | 330/500 [12:40<06:31,  2.30s/it]textattack: Saving checkpoint under \"checkpoints\\1720187987128.ta.chkpt\" at 2024-07-05 21:59:47 after 330 attacks.\n"
     ]
    },
    {
     "name": "stdout",
     "output_type": "stream",
     "text": [
      "\n",
      "\n",
      "=============================================================================================================================\n",
      "=============================================================================================================================\n",
      "\n"
     ]
    },
    {
     "name": "stderr",
     "output_type": "stream",
     "text": [
      "[Succeeded / Failed / Skipped / Total] 249 / 7 / 79 / 335:  67%|██████████████       | 335/500 [13:01<06:24,  2.33s/it]textattack: Saving checkpoint under \"checkpoints\\1720188007811.ta.chkpt\" at 2024-07-05 22:00:07 after 335 attacks.\n",
      "[Succeeded / Failed / Skipped / Total] 249 / 7 / 80 / 336:  67%|██████████████       | 336/500 [13:01<06:21,  2.33s/it]"
     ]
    },
    {
     "name": "stdout",
     "output_type": "stream",
     "text": [
      "\n",
      "\n",
      "=============================================================================================================================\n",
      "=============================================================================================================================\n",
      "\n"
     ]
    },
    {
     "name": "stderr",
     "output_type": "stream",
     "text": [
      "[Succeeded / Failed / Skipped / Total] 252 / 7 / 81 / 340:  68%|██████████████▎      | 340/500 [13:05<06:09,  2.31s/it]textattack: Saving checkpoint under \"checkpoints\\1720188011574.ta.chkpt\" at 2024-07-05 22:00:11 after 340 attacks.\n"
     ]
    },
    {
     "name": "stdout",
     "output_type": "stream",
     "text": [
      "\n",
      "\n",
      "=============================================================================================================================\n",
      "=============================================================================================================================\n",
      "\n"
     ]
    },
    {
     "name": "stderr",
     "output_type": "stream",
     "text": [
      "[Succeeded / Failed / Skipped / Total] 257 / 7 / 81 / 345:  69%|██████████████▍      | 345/500 [13:11<05:55,  2.30s/it]textattack: Saving checkpoint under \"checkpoints\\1720188018494.ta.chkpt\" at 2024-07-05 22:00:18 after 345 attacks.\n"
     ]
    },
    {
     "name": "stdout",
     "output_type": "stream",
     "text": [
      "\n",
      "\n",
      "=============================================================================================================================\n",
      "=============================================================================================================================\n",
      "\n"
     ]
    },
    {
     "name": "stderr",
     "output_type": "stream",
     "text": [
      "[Succeeded / Failed / Skipped / Total] 261 / 7 / 82 / 350:  70%|██████████████▋      | 350/500 [13:27<05:46,  2.31s/it]textattack: Saving checkpoint under \"checkpoints\\1720188033965.ta.chkpt\" at 2024-07-05 22:00:33 after 350 attacks.\n"
     ]
    },
    {
     "name": "stdout",
     "output_type": "stream",
     "text": [
      "\n",
      "\n",
      "=============================================================================================================================\n",
      "=============================================================================================================================\n",
      "\n"
     ]
    },
    {
     "name": "stderr",
     "output_type": "stream",
     "text": [
      "[Succeeded / Failed / Skipped / Total] 265 / 8 / 82 / 355:  71%|██████████████▉      | 355/500 [13:47<05:38,  2.33s/it]textattack: Saving checkpoint under \"checkpoints\\1720188054492.ta.chkpt\" at 2024-07-05 22:00:54 after 355 attacks.\n"
     ]
    },
    {
     "name": "stdout",
     "output_type": "stream",
     "text": [
      "\n",
      "\n",
      "=============================================================================================================================\n",
      "=============================================================================================================================\n",
      "\n"
     ]
    },
    {
     "name": "stderr",
     "output_type": "stream",
     "text": [
      "[Succeeded / Failed / Skipped / Total] 269 / 8 / 83 / 360:  72%|███████████████      | 360/500 [13:58<05:26,  2.33s/it]textattack: Saving checkpoint under \"checkpoints\\1720188064934.ta.chkpt\" at 2024-07-05 22:01:04 after 360 attacks.\n"
     ]
    },
    {
     "name": "stdout",
     "output_type": "stream",
     "text": [
      "\n",
      "\n",
      "=============================================================================================================================\n",
      "=============================================================================================================================\n",
      "\n"
     ]
    },
    {
     "name": "stderr",
     "output_type": "stream",
     "text": [
      "[Succeeded / Failed / Skipped / Total] 274 / 8 / 83 / 365:  73%|███████████████▎     | 365/500 [14:08<05:13,  2.32s/it]textattack: Saving checkpoint under \"checkpoints\\1720188074755.ta.chkpt\" at 2024-07-05 22:01:14 after 365 attacks.\n",
      "[Succeeded / Failed / Skipped / Total] 274 / 8 / 84 / 366:  73%|███████████████▎     | 366/500 [14:08<05:10,  2.32s/it]"
     ]
    },
    {
     "name": "stdout",
     "output_type": "stream",
     "text": [
      "\n",
      "\n",
      "=============================================================================================================================\n",
      "=============================================================================================================================\n",
      "\n"
     ]
    },
    {
     "name": "stderr",
     "output_type": "stream",
     "text": [
      "[Succeeded / Failed / Skipped / Total] 278 / 8 / 84 / 370:  74%|███████████████▌     | 370/500 [14:12<04:59,  2.30s/it]textattack: Saving checkpoint under \"checkpoints\\1720188079233.ta.chkpt\" at 2024-07-05 22:01:19 after 370 attacks.\n"
     ]
    },
    {
     "name": "stdout",
     "output_type": "stream",
     "text": [
      "\n",
      "\n",
      "=============================================================================================================================\n",
      "=============================================================================================================================\n",
      "\n"
     ]
    },
    {
     "name": "stderr",
     "output_type": "stream",
     "text": [
      "[Succeeded / Failed / Skipped / Total] 283 / 8 / 84 / 375:  75%|███████████████▊     | 375/500 [14:31<04:50,  2.32s/it]textattack: Saving checkpoint under \"checkpoints\\1720188097526.ta.chkpt\" at 2024-07-05 22:01:37 after 375 attacks.\n"
     ]
    },
    {
     "name": "stdout",
     "output_type": "stream",
     "text": [
      "\n",
      "\n",
      "=============================================================================================================================\n",
      "=============================================================================================================================\n",
      "\n"
     ]
    },
    {
     "name": "stderr",
     "output_type": "stream",
     "text": [
      "[Succeeded / Failed / Skipped / Total] 287 / 8 / 85 / 380:  76%|███████████████▉     | 380/500 [14:36<04:36,  2.31s/it]textattack: Saving checkpoint under \"checkpoints\\1720188102556.ta.chkpt\" at 2024-07-05 22:01:42 after 380 attacks.\n"
     ]
    },
    {
     "name": "stdout",
     "output_type": "stream",
     "text": [
      "\n",
      "\n",
      "=============================================================================================================================\n",
      "=============================================================================================================================\n",
      "\n"
     ]
    },
    {
     "name": "stderr",
     "output_type": "stream",
     "text": [
      "[Succeeded / Failed / Skipped / Total] 292 / 8 / 85 / 385:  77%|████████████████▏    | 385/500 [14:46<04:24,  2.30s/it]textattack: Saving checkpoint under \"checkpoints\\1720188112552.ta.chkpt\" at 2024-07-05 22:01:52 after 385 attacks.\n"
     ]
    },
    {
     "name": "stdout",
     "output_type": "stream",
     "text": [
      "\n",
      "\n",
      "=============================================================================================================================\n",
      "=============================================================================================================================\n",
      "\n"
     ]
    },
    {
     "name": "stderr",
     "output_type": "stream",
     "text": [
      "[Succeeded / Failed / Skipped / Total] 296 / 8 / 86 / 390:  78%|████████████████▍    | 390/500 [14:53<04:12,  2.29s/it]textattack: Saving checkpoint under \"checkpoints\\1720188120095.ta.chkpt\" at 2024-07-05 22:02:00 after 390 attacks.\n"
     ]
    },
    {
     "name": "stdout",
     "output_type": "stream",
     "text": [
      "\n",
      "\n",
      "=============================================================================================================================\n",
      "=============================================================================================================================\n",
      "\n"
     ]
    },
    {
     "name": "stderr",
     "output_type": "stream",
     "text": [
      "[Succeeded / Failed / Skipped / Total] 301 / 8 / 86 / 395:  79%|████████████████▌    | 395/500 [15:12<04:02,  2.31s/it]textattack: Saving checkpoint under \"checkpoints\\1720188138519.ta.chkpt\" at 2024-07-05 22:02:18 after 395 attacks.\n"
     ]
    },
    {
     "name": "stdout",
     "output_type": "stream",
     "text": [
      "\n",
      "\n",
      "=============================================================================================================================\n",
      "=============================================================================================================================\n",
      "\n"
     ]
    },
    {
     "name": "stderr",
     "output_type": "stream",
     "text": [
      "[Succeeded / Failed / Skipped / Total] 306 / 8 / 86 / 400:  80%|████████████████▊    | 400/500 [15:24<03:51,  2.31s/it]textattack: Saving checkpoint under \"checkpoints\\1720188151185.ta.chkpt\" at 2024-07-05 22:02:31 after 400 attacks.\n"
     ]
    },
    {
     "name": "stdout",
     "output_type": "stream",
     "text": [
      "\n",
      "\n",
      "=============================================================================================================================\n",
      "=============================================================================================================================\n",
      "\n"
     ]
    },
    {
     "name": "stderr",
     "output_type": "stream",
     "text": [
      "[Succeeded / Failed / Skipped / Total] 310 / 8 / 87 / 405:  81%|█████████████████    | 405/500 [15:38<03:40,  2.32s/it]textattack: Saving checkpoint under \"checkpoints\\1720188164968.ta.chkpt\" at 2024-07-05 22:02:44 after 405 attacks.\n"
     ]
    },
    {
     "name": "stdout",
     "output_type": "stream",
     "text": [
      "\n",
      "\n",
      "=============================================================================================================================\n",
      "=============================================================================================================================\n",
      "\n"
     ]
    },
    {
     "name": "stderr",
     "output_type": "stream",
     "text": [
      "[Succeeded / Failed / Skipped / Total] 315 / 8 / 87 / 410:  82%|█████████████████▏   | 410/500 [15:43<03:27,  2.30s/it]textattack: Saving checkpoint under \"checkpoints\\1720188169910.ta.chkpt\" at 2024-07-05 22:02:49 after 410 attacks.\n"
     ]
    },
    {
     "name": "stdout",
     "output_type": "stream",
     "text": [
      "\n",
      "\n",
      "=============================================================================================================================\n",
      "=============================================================================================================================\n",
      "\n"
     ]
    },
    {
     "name": "stderr",
     "output_type": "stream",
     "text": [
      "[Succeeded / Failed / Skipped / Total] 317 / 8 / 90 / 415:  83%|█████████████████▍   | 415/500 [15:45<03:13,  2.28s/it]textattack: Saving checkpoint under \"checkpoints\\1720188171724.ta.chkpt\" at 2024-07-05 22:02:51 after 415 attacks.\n"
     ]
    },
    {
     "name": "stdout",
     "output_type": "stream",
     "text": [
      "\n",
      "\n",
      "=============================================================================================================================\n",
      "=============================================================================================================================\n",
      "\n"
     ]
    },
    {
     "name": "stderr",
     "output_type": "stream",
     "text": [
      "[Succeeded / Failed / Skipped / Total] 321 / 9 / 90 / 420:  84%|█████████████████▋   | 420/500 [15:58<03:02,  2.28s/it]textattack: Saving checkpoint under \"checkpoints\\1720188184605.ta.chkpt\" at 2024-07-05 22:03:04 after 420 attacks.\n"
     ]
    },
    {
     "name": "stdout",
     "output_type": "stream",
     "text": [
      "\n",
      "\n",
      "=============================================================================================================================\n",
      "=============================================================================================================================\n",
      "\n"
     ]
    },
    {
     "name": "stderr",
     "output_type": "stream",
     "text": [
      "[Succeeded / Failed / Skipped / Total] 325 / 9 / 91 / 425:  85%|█████████████████▊   | 425/500 [16:04<02:50,  2.27s/it]textattack: Saving checkpoint under \"checkpoints\\1720188190611.ta.chkpt\" at 2024-07-05 22:03:10 after 425 attacks.\n"
     ]
    },
    {
     "name": "stdout",
     "output_type": "stream",
     "text": [
      "\n",
      "\n",
      "=============================================================================================================================\n",
      "=============================================================================================================================\n",
      "\n"
     ]
    },
    {
     "name": "stderr",
     "output_type": "stream",
     "text": [
      "[Succeeded / Failed / Skipped / Total] 330 / 9 / 91 / 430:  86%|██████████████████   | 430/500 [16:12<02:38,  2.26s/it]textattack: Saving checkpoint under \"checkpoints\\1720188199243.ta.chkpt\" at 2024-07-05 22:03:19 after 430 attacks.\n",
      "[Succeeded / Failed / Skipped / Total] 330 / 9 / 92 / 431:  86%|██████████████████   | 431/500 [16:12<02:35,  2.26s/it]"
     ]
    },
    {
     "name": "stdout",
     "output_type": "stream",
     "text": [
      "\n",
      "\n",
      "=============================================================================================================================\n",
      "=============================================================================================================================\n",
      "\n"
     ]
    },
    {
     "name": "stderr",
     "output_type": "stream",
     "text": [
      "[Succeeded / Failed / Skipped / Total] 334 / 9 / 92 / 435:  87%|██████████████████▎  | 435/500 [16:19<02:26,  2.25s/it]textattack: Saving checkpoint under \"checkpoints\\1720188205799.ta.chkpt\" at 2024-07-05 22:03:25 after 435 attacks.\n"
     ]
    },
    {
     "name": "stdout",
     "output_type": "stream",
     "text": [
      "\n",
      "\n",
      "=============================================================================================================================\n",
      "=============================================================================================================================\n",
      "\n"
     ]
    },
    {
     "name": "stderr",
     "output_type": "stream",
     "text": [
      "[Succeeded / Failed / Skipped / Total] 339 / 9 / 92 / 440:  88%|██████████████████▍  | 440/500 [16:32<02:15,  2.26s/it]textattack: Saving checkpoint under \"checkpoints\\1720188219000.ta.chkpt\" at 2024-07-05 22:03:39 after 440 attacks.\n"
     ]
    },
    {
     "name": "stdout",
     "output_type": "stream",
     "text": [
      "\n",
      "\n",
      "=============================================================================================================================\n",
      "=============================================================================================================================\n",
      "\n"
     ]
    },
    {
     "name": "stderr",
     "output_type": "stream",
     "text": [
      "[Succeeded / Failed / Skipped / Total] 344 / 9 / 92 / 445:  89%|██████████████████▋  | 445/500 [16:41<02:03,  2.25s/it]textattack: Saving checkpoint under \"checkpoints\\1720188228230.ta.chkpt\" at 2024-07-05 22:03:48 after 445 attacks.\n"
     ]
    },
    {
     "name": "stdout",
     "output_type": "stream",
     "text": [
      "\n",
      "\n",
      "=============================================================================================================================\n",
      "=============================================================================================================================\n",
      "\n"
     ]
    },
    {
     "name": "stderr",
     "output_type": "stream",
     "text": [
      "[Succeeded / Failed / Skipped / Total] 346 / 10 / 94 / 450:  90%|██████████████████  | 450/500 [16:57<01:53,  2.26s/it]textattack: Saving checkpoint under \"checkpoints\\1720188243767.ta.chkpt\" at 2024-07-05 22:04:03 after 450 attacks.\n"
     ]
    },
    {
     "name": "stdout",
     "output_type": "stream",
     "text": [
      "\n",
      "\n",
      "=============================================================================================================================\n",
      "=============================================================================================================================\n",
      "\n"
     ]
    },
    {
     "name": "stderr",
     "output_type": "stream",
     "text": [
      "[Succeeded / Failed / Skipped / Total] 350 / 10 / 95 / 455:  91%|██████████████████▏ | 455/500 [17:08<01:41,  2.26s/it]textattack: Saving checkpoint under \"checkpoints\\1720188254567.ta.chkpt\" at 2024-07-05 22:04:14 after 455 attacks.\n"
     ]
    },
    {
     "name": "stdout",
     "output_type": "stream",
     "text": [
      "\n",
      "\n",
      "=============================================================================================================================\n",
      "=============================================================================================================================\n",
      "\n"
     ]
    },
    {
     "name": "stderr",
     "output_type": "stream",
     "text": [
      "[Succeeded / Failed / Skipped / Total] 355 / 10 / 95 / 460:  92%|██████████████████▍ | 460/500 [17:24<01:30,  2.27s/it]textattack: Saving checkpoint under \"checkpoints\\1720188270971.ta.chkpt\" at 2024-07-05 22:04:30 after 460 attacks.\n"
     ]
    },
    {
     "name": "stdout",
     "output_type": "stream",
     "text": [
      "\n",
      "\n",
      "=============================================================================================================================\n",
      "=============================================================================================================================\n",
      "\n"
     ]
    },
    {
     "name": "stderr",
     "output_type": "stream",
     "text": [
      "[Succeeded / Failed / Skipped / Total] 359 / 10 / 96 / 465:  93%|██████████████████▌ | 465/500 [17:33<01:19,  2.27s/it]textattack: Saving checkpoint under \"checkpoints\\1720188280130.ta.chkpt\" at 2024-07-05 22:04:40 after 465 attacks.\n"
     ]
    },
    {
     "name": "stdout",
     "output_type": "stream",
     "text": [
      "\n",
      "\n",
      "=============================================================================================================================\n",
      "=============================================================================================================================\n",
      "\n"
     ]
    },
    {
     "name": "stderr",
     "output_type": "stream",
     "text": [
      "[Succeeded / Failed / Skipped / Total] 363 / 10 / 97 / 470:  94%|██████████████████▊ | 470/500 [17:37<01:07,  2.25s/it]textattack: Saving checkpoint under \"checkpoints\\1720188284194.ta.chkpt\" at 2024-07-05 22:04:44 after 470 attacks.\n"
     ]
    },
    {
     "name": "stdout",
     "output_type": "stream",
     "text": [
      "\n",
      "\n",
      "=============================================================================================================================\n",
      "=============================================================================================================================\n",
      "\n"
     ]
    },
    {
     "name": "stderr",
     "output_type": "stream",
     "text": [
      "[Succeeded / Failed / Skipped / Total] 367 / 11 / 97 / 475:  95%|███████████████████ | 475/500 [18:02<00:56,  2.28s/it]textattack: Saving checkpoint under \"checkpoints\\1720188308960.ta.chkpt\" at 2024-07-05 22:05:08 after 475 attacks.\n"
     ]
    },
    {
     "name": "stdout",
     "output_type": "stream",
     "text": [
      "\n",
      "\n",
      "=============================================================================================================================\n",
      "=============================================================================================================================\n",
      "\n"
     ]
    },
    {
     "name": "stderr",
     "output_type": "stream",
     "text": [
      "[Succeeded / Failed / Skipped / Total] 371 / 12 / 97 / 480:  96%|███████████████████▏| 480/500 [18:13<00:45,  2.28s/it]textattack: Saving checkpoint under \"checkpoints\\1720188320298.ta.chkpt\" at 2024-07-05 22:05:20 after 480 attacks.\n"
     ]
    },
    {
     "name": "stdout",
     "output_type": "stream",
     "text": [
      "\n",
      "\n",
      "=============================================================================================================================\n",
      "=============================================================================================================================\n",
      "\n"
     ]
    },
    {
     "name": "stderr",
     "output_type": "stream",
     "text": [
      "[Succeeded / Failed / Skipped / Total] 374 / 12 / 99 / 485:  97%|███████████████████▍| 485/500 [18:20<00:34,  2.27s/it]textattack: Saving checkpoint under \"checkpoints\\1720188326660.ta.chkpt\" at 2024-07-05 22:05:26 after 485 attacks.\n"
     ]
    },
    {
     "name": "stdout",
     "output_type": "stream",
     "text": [
      "\n",
      "\n",
      "=============================================================================================================================\n",
      "=============================================================================================================================\n",
      "\n"
     ]
    },
    {
     "name": "stderr",
     "output_type": "stream",
     "text": [
      "[Succeeded / Failed / Skipped / Total] 378 / 12 / 100 / 490:  98%|██████████████████▌| 490/500 [18:31<00:22,  2.27s/it]textattack: Saving checkpoint under \"checkpoints\\1720188337834.ta.chkpt\" at 2024-07-05 22:05:37 after 490 attacks.\n"
     ]
    },
    {
     "name": "stdout",
     "output_type": "stream",
     "text": [
      "\n",
      "\n",
      "=============================================================================================================================\n",
      "=============================================================================================================================\n",
      "\n"
     ]
    },
    {
     "name": "stderr",
     "output_type": "stream",
     "text": [
      "[Succeeded / Failed / Skipped / Total] 383 / 12 / 100 / 495:  99%|██████████████████▊| 495/500 [18:41<00:11,  2.27s/it]textattack: Saving checkpoint under \"checkpoints\\1720188347702.ta.chkpt\" at 2024-07-05 22:05:47 after 495 attacks.\n"
     ]
    },
    {
     "name": "stdout",
     "output_type": "stream",
     "text": [
      "\n",
      "\n",
      "=============================================================================================================================\n",
      "=============================================================================================================================\n",
      "\n"
     ]
    },
    {
     "name": "stderr",
     "output_type": "stream",
     "text": [
      "[Succeeded / Failed / Skipped / Total] 388 / 12 / 100 / 500: 100%|███████████████████| 500/500 [18:54<00:00,  2.27s/it]textattack: Saving checkpoint under \"checkpoints\\1720188360903.ta.chkpt\" at 2024-07-05 22:06:00 after 500 attacks.\n",
      "[Succeeded / Failed / Skipped / Total] 388 / 12 / 100 / 500: 100%|███████████████████| 500/500 [18:54<00:00,  2.27s/it]"
     ]
    },
    {
     "name": "stdout",
     "output_type": "stream",
     "text": [
      "\n",
      "\n",
      "=============================================================================================================================\n",
      "=============================================================================================================================\n",
      "\n",
      "\n",
      "+-------------------------------+-------+\n",
      "| Attack Results                |       |\n",
      "+-------------------------------+-------+\n",
      "| Number of successful attacks: | 388   |\n",
      "| Number of failed attacks:     | 12    |\n",
      "| Number of skipped attacks:    | 100   |\n",
      "| Original accuracy:            | 80.0% |\n",
      "| Accuracy under attack:        | 2.4%  |\n",
      "| Attack success rate:          | 97.0% |\n",
      "| Average perturbed word %:     | 17.7% |\n",
      "| Average num. words per input: | 18.4  |\n",
      "| Avg num queries:              | 63.62 |\n",
      "+-------------------------------+-------+\n"
     ]
    },
    {
     "name": "stderr",
     "output_type": "stream",
     "text": [
      "\n"
     ]
    }
   ],
   "source": [
    "runAttack(bert_model_wrapper_lr_mr, n_samples, 'attack_results_new/bertmrattacklr'+suffix, target_ds_mr)"
   ]
  },
  {
   "cell_type": "code",
   "execution_count": 13,
   "id": "881956a2-37da-4e06-9986-f72004946469",
   "metadata": {},
   "outputs": [
    {
     "name": "stderr",
     "output_type": "stream",
     "text": [
      "textattack: Unknown if model of class <class 'transformers.models.bert.modeling_bert.BertModel'> compatible with goal function <class 'textattack.goal_functions.classification.untargeted_classification.UntargetedClassification'>.\n",
      "textattack: Logging to CSV at path attack_results_new/bertmrattackrfsim06.csv\n"
     ]
    },
    {
     "name": "stdout",
     "output_type": "stream",
     "text": [
      "Attack(\n",
      "  (search_method): GreedyWordSwapWIR(\n",
      "    (wir_method):  delete\n",
      "  )\n",
      "  (goal_function):  UntargetedClassification\n",
      "  (transformation):  WordSwapEmbedding(\n",
      "    (max_candidates):  50\n",
      "    (embedding):  WordEmbedding\n",
      "  )\n",
      "  (constraints): \n",
      "    (0): WordEmbeddingDistance(\n",
      "        (embedding):  WordEmbedding\n",
      "        (min_cos_sim):  0.6\n",
      "        (cased):  False\n",
      "        (include_unknown_words):  True\n",
      "        (compare_against_original):  True\n",
      "      )\n",
      "    (1): PartOfSpeech(\n",
      "        (tagger_type):  nltk\n",
      "        (tagset):  universal\n",
      "        (allow_verb_noun_swap):  True\n",
      "        (compare_against_original):  True\n",
      "      )\n",
      "    (2): UniversalSentenceEncoder(\n",
      "        (metric):  angular\n",
      "        (threshold):  0.840845057\n",
      "        (window_size):  15\n",
      "        (skip_text_shorter_than_window):  True\n",
      "        (compare_against_original):  False\n",
      "      )\n",
      "    (3): RepeatModification\n",
      "    (4): StopwordModification\n",
      "    (5): InputColumnModification(\n",
      "        (matching_column_labels):  ['premise', 'hypothesis']\n",
      "        (columns_to_ignore):  {'premise'}\n",
      "      )\n",
      "  (is_black_box):  True\n",
      ") \n",
      "\n"
     ]
    },
    {
     "name": "stderr",
     "output_type": "stream",
     "text": [
      "[Succeeded / Failed / Skipped / Total] 3 / 0 / 2 / 5:   1%|▎                           | 5/500 [00:20<33:59,  4.12s/it]textattack: Saving checkpoint under \"checkpoints\\1720188381659.ta.chkpt\" at 2024-07-05 22:06:21 after 5 attacks.\n",
      "[Succeeded / Failed / Skipped / Total] 3 / 0 / 4 / 7:   1%|▍                           | 7/500 [00:20<24:21,  2.96s/it]"
     ]
    },
    {
     "name": "stdout",
     "output_type": "stream",
     "text": [
      "\n",
      "\n",
      "=============================================================================================================================\n",
      "=============================================================================================================================\n",
      "\n"
     ]
    },
    {
     "name": "stderr",
     "output_type": "stream",
     "text": [
      "[Succeeded / Failed / Skipped / Total] 4 / 1 / 5 / 10:   2%|▌                         | 10/500 [00:32<26:44,  3.27s/it]textattack: Saving checkpoint under \"checkpoints\\1720188393794.ta.chkpt\" at 2024-07-05 22:06:33 after 10 attacks.\n"
     ]
    },
    {
     "name": "stdout",
     "output_type": "stream",
     "text": [
      "\n",
      "\n",
      "=============================================================================================================================\n",
      "=============================================================================================================================\n",
      "\n"
     ]
    },
    {
     "name": "stderr",
     "output_type": "stream",
     "text": [
      "[Succeeded / Failed / Skipped / Total] 8 / 1 / 6 / 15:   3%|▊                         | 15/500 [00:48<26:23,  3.26s/it]textattack: Saving checkpoint under \"checkpoints\\1720188410021.ta.chkpt\" at 2024-07-05 22:06:50 after 15 attacks.\n"
     ]
    },
    {
     "name": "stdout",
     "output_type": "stream",
     "text": [
      "\n",
      "\n",
      "=============================================================================================================================\n",
      "=============================================================================================================================\n",
      "\n"
     ]
    },
    {
     "name": "stderr",
     "output_type": "stream",
     "text": [
      "[Succeeded / Failed / Skipped / Total] 9 / 3 / 8 / 20:   4%|█                         | 20/500 [01:09<27:38,  3.46s/it]textattack: Saving checkpoint under \"checkpoints\\1720188430161.ta.chkpt\" at 2024-07-05 22:07:10 after 20 attacks.\n"
     ]
    },
    {
     "name": "stdout",
     "output_type": "stream",
     "text": [
      "\n",
      "\n",
      "=============================================================================================================================\n",
      "=============================================================================================================================\n",
      "\n"
     ]
    },
    {
     "name": "stderr",
     "output_type": "stream",
     "text": [
      "[Succeeded / Failed / Skipped / Total] 13 / 3 / 9 / 25:   5%|█▎                       | 25/500 [01:16<24:11,  3.06s/it]textattack: Saving checkpoint under \"checkpoints\\1720188437432.ta.chkpt\" at 2024-07-05 22:07:17 after 25 attacks.\n"
     ]
    },
    {
     "name": "stdout",
     "output_type": "stream",
     "text": [
      "\n",
      "\n",
      "=============================================================================================================================\n",
      "=============================================================================================================================\n",
      "\n"
     ]
    },
    {
     "name": "stderr",
     "output_type": "stream",
     "text": [
      "[Succeeded / Failed / Skipped / Total] 16 / 4 / 10 / 30:   6%|█▍                      | 30/500 [01:38<25:38,  3.27s/it]textattack: Saving checkpoint under \"checkpoints\\1720188459263.ta.chkpt\" at 2024-07-05 22:07:39 after 30 attacks.\n"
     ]
    },
    {
     "name": "stdout",
     "output_type": "stream",
     "text": [
      "\n",
      "\n",
      "=============================================================================================================================\n",
      "=============================================================================================================================\n",
      "\n"
     ]
    },
    {
     "name": "stderr",
     "output_type": "stream",
     "text": [
      "[Succeeded / Failed / Skipped / Total] 20 / 4 / 11 / 35:   7%|█▋                      | 35/500 [01:43<22:59,  2.97s/it]textattack: Saving checkpoint under \"checkpoints\\1720188464894.ta.chkpt\" at 2024-07-05 22:07:44 after 35 attacks.\n"
     ]
    },
    {
     "name": "stdout",
     "output_type": "stream",
     "text": [
      "\n",
      "\n",
      "=============================================================================================================================\n",
      "=============================================================================================================================\n",
      "\n"
     ]
    },
    {
     "name": "stderr",
     "output_type": "stream",
     "text": [
      "[Succeeded / Failed / Skipped / Total] 23 / 4 / 13 / 40:   8%|█▉                      | 40/500 [01:50<21:07,  2.75s/it]textattack: Saving checkpoint under \"checkpoints\\1720188471248.ta.chkpt\" at 2024-07-05 22:07:51 after 40 attacks.\n"
     ]
    },
    {
     "name": "stdout",
     "output_type": "stream",
     "text": [
      "\n",
      "\n",
      "=============================================================================================================================\n",
      "=============================================================================================================================\n",
      "\n"
     ]
    },
    {
     "name": "stderr",
     "output_type": "stream",
     "text": [
      "[Succeeded / Failed / Skipped / Total] 25 / 4 / 16 / 45:   9%|██▏                     | 45/500 [02:01<20:27,  2.70s/it]textattack: Saving checkpoint under \"checkpoints\\1720188482478.ta.chkpt\" at 2024-07-05 22:08:02 after 45 attacks.\n"
     ]
    },
    {
     "name": "stdout",
     "output_type": "stream",
     "text": [
      "\n",
      "\n",
      "=============================================================================================================================\n",
      "=============================================================================================================================\n",
      "\n"
     ]
    },
    {
     "name": "stderr",
     "output_type": "stream",
     "text": [
      "[Succeeded / Failed / Skipped / Total] 30 / 4 / 16 / 50:  10%|██▍                     | 50/500 [02:11<19:43,  2.63s/it]textattack: Saving checkpoint under \"checkpoints\\1720188492566.ta.chkpt\" at 2024-07-05 22:08:12 after 50 attacks.\n"
     ]
    },
    {
     "name": "stdout",
     "output_type": "stream",
     "text": [
      "\n",
      "\n",
      "=============================================================================================================================\n",
      "=============================================================================================================================\n",
      "\n"
     ]
    },
    {
     "name": "stderr",
     "output_type": "stream",
     "text": [
      "[Succeeded / Failed / Skipped / Total] 34 / 4 / 17 / 55:  11%|██▋                     | 55/500 [02:23<19:18,  2.60s/it]textattack: Saving checkpoint under \"checkpoints\\1720188504268.ta.chkpt\" at 2024-07-05 22:08:24 after 55 attacks.\n"
     ]
    },
    {
     "name": "stdout",
     "output_type": "stream",
     "text": [
      "\n",
      "\n",
      "=============================================================================================================================\n",
      "=============================================================================================================================\n",
      "\n"
     ]
    },
    {
     "name": "stderr",
     "output_type": "stream",
     "text": [
      "[Succeeded / Failed / Skipped / Total] 38 / 4 / 18 / 60:  12%|██▉                     | 60/500 [02:29<18:14,  2.49s/it]textattack: Saving checkpoint under \"checkpoints\\1720188510252.ta.chkpt\" at 2024-07-05 22:08:30 after 60 attacks.\n",
      "[Succeeded / Failed / Skipped / Total] 38 / 4 / 20 / 62:  12%|██▉                     | 62/500 [02:29<17:35,  2.41s/it]"
     ]
    },
    {
     "name": "stdout",
     "output_type": "stream",
     "text": [
      "\n",
      "\n",
      "=============================================================================================================================\n",
      "=============================================================================================================================\n",
      "\n"
     ]
    },
    {
     "name": "stderr",
     "output_type": "stream",
     "text": [
      "[Succeeded / Failed / Skipped / Total] 41 / 4 / 20 / 65:  13%|███                     | 65/500 [02:31<16:55,  2.33s/it]textattack: Saving checkpoint under \"checkpoints\\1720188512800.ta.chkpt\" at 2024-07-05 22:08:32 after 65 attacks.\n"
     ]
    },
    {
     "name": "stdout",
     "output_type": "stream",
     "text": [
      "\n",
      "\n",
      "=============================================================================================================================\n",
      "=============================================================================================================================\n",
      "\n"
     ]
    },
    {
     "name": "stderr",
     "output_type": "stream",
     "text": [
      "[Succeeded / Failed / Skipped / Total] 45 / 4 / 21 / 70:  14%|███▎                    | 70/500 [02:38<16:16,  2.27s/it]textattack: Saving checkpoint under \"checkpoints\\1720188520035.ta.chkpt\" at 2024-07-05 22:08:40 after 70 attacks.\n"
     ]
    },
    {
     "name": "stdout",
     "output_type": "stream",
     "text": [
      "\n",
      "\n",
      "=============================================================================================================================\n",
      "=============================================================================================================================\n",
      "\n"
     ]
    },
    {
     "name": "stderr",
     "output_type": "stream",
     "text": [
      "[Succeeded / Failed / Skipped / Total] 50 / 4 / 21 / 75:  15%|███▌                    | 75/500 [02:46<15:43,  2.22s/it]textattack: Saving checkpoint under \"checkpoints\\1720188527470.ta.chkpt\" at 2024-07-05 22:08:47 after 75 attacks.\n",
      "[Succeeded / Failed / Skipped / Total] 50 / 4 / 22 / 76:  15%|███▋                    | 76/500 [02:46<15:28,  2.19s/it]"
     ]
    },
    {
     "name": "stdout",
     "output_type": "stream",
     "text": [
      "\n",
      "\n",
      "=============================================================================================================================\n",
      "=============================================================================================================================\n",
      "\n"
     ]
    },
    {
     "name": "stderr",
     "output_type": "stream",
     "text": [
      "[Succeeded / Failed / Skipped / Total] 53 / 4 / 23 / 80:  16%|███▊                    | 80/500 [02:58<15:37,  2.23s/it]textattack: Saving checkpoint under \"checkpoints\\1720188539716.ta.chkpt\" at 2024-07-05 22:08:59 after 80 attacks.\n"
     ]
    },
    {
     "name": "stdout",
     "output_type": "stream",
     "text": [
      "\n",
      "\n",
      "=============================================================================================================================\n",
      "=============================================================================================================================\n",
      "\n"
     ]
    },
    {
     "name": "stderr",
     "output_type": "stream",
     "text": [
      "[Succeeded / Failed / Skipped / Total] 56 / 4 / 25 / 85:  17%|████                    | 85/500 [03:03<14:54,  2.16s/it]textattack: Saving checkpoint under \"checkpoints\\1720188544320.ta.chkpt\" at 2024-07-05 22:09:04 after 85 attacks.\n"
     ]
    },
    {
     "name": "stdout",
     "output_type": "stream",
     "text": [
      "\n",
      "\n",
      "=============================================================================================================================\n",
      "=============================================================================================================================\n",
      "\n"
     ]
    },
    {
     "name": "stderr",
     "output_type": "stream",
     "text": [
      "[Succeeded / Failed / Skipped / Total] 60 / 4 / 26 / 90:  18%|████▎                   | 90/500 [03:11<14:30,  2.12s/it]textattack: Saving checkpoint under \"checkpoints\\1720188552100.ta.chkpt\" at 2024-07-05 22:09:12 after 90 attacks.\n",
      "[Succeeded / Failed / Skipped / Total] 60 / 4 / 27 / 91:  18%|████▎                   | 91/500 [03:11<14:19,  2.10s/it]"
     ]
    },
    {
     "name": "stdout",
     "output_type": "stream",
     "text": [
      "\n",
      "\n",
      "=============================================================================================================================\n",
      "=============================================================================================================================\n",
      "\n"
     ]
    },
    {
     "name": "stderr",
     "output_type": "stream",
     "text": [
      "[Succeeded / Failed / Skipped / Total] 60 / 4 / 31 / 95:  19%|████▌                   | 95/500 [03:11<13:36,  2.02s/it]textattack: Saving checkpoint under \"checkpoints\\1720188552658.ta.chkpt\" at 2024-07-05 22:09:12 after 95 attacks.\n"
     ]
    },
    {
     "name": "stdout",
     "output_type": "stream",
     "text": [
      "\n",
      "\n",
      "=============================================================================================================================\n",
      "=============================================================================================================================\n",
      "\n"
     ]
    },
    {
     "name": "stderr",
     "output_type": "stream",
     "text": [
      "[Succeeded / Failed / Skipped / Total] 63 / 5 / 32 / 100:  20%|████▍                 | 100/500 [03:29<13:56,  2.09s/it]textattack: Saving checkpoint under \"checkpoints\\1720188570226.ta.chkpt\" at 2024-07-05 22:09:30 after 100 attacks.\n",
      "[Succeeded / Failed / Skipped / Total] 63 / 5 / 33 / 101:  20%|████▍                 | 101/500 [03:29<13:46,  2.07s/it]"
     ]
    },
    {
     "name": "stdout",
     "output_type": "stream",
     "text": [
      "\n",
      "\n",
      "=============================================================================================================================\n",
      "=============================================================================================================================\n",
      "\n"
     ]
    },
    {
     "name": "stderr",
     "output_type": "stream",
     "text": [
      "[Succeeded / Failed / Skipped / Total] 66 / 6 / 33 / 105:  21%|████▌                 | 105/500 [03:37<13:39,  2.08s/it]textattack: Saving checkpoint under \"checkpoints\\1720188579030.ta.chkpt\" at 2024-07-05 22:09:39 after 105 attacks.\n",
      "[Succeeded / Failed / Skipped / Total] 66 / 6 / 34 / 106:  21%|████▋                 | 106/500 [03:38<13:30,  2.06s/it]"
     ]
    },
    {
     "name": "stdout",
     "output_type": "stream",
     "text": [
      "\n",
      "\n",
      "=============================================================================================================================\n",
      "=============================================================================================================================\n",
      "\n"
     ]
    },
    {
     "name": "stderr",
     "output_type": "stream",
     "text": [
      "[Succeeded / Failed / Skipped / Total] 70 / 6 / 34 / 110:  22%|████▊                 | 110/500 [03:45<13:21,  2.05s/it]textattack: Saving checkpoint under \"checkpoints\\1720188587025.ta.chkpt\" at 2024-07-05 22:09:47 after 110 attacks.\n"
     ]
    },
    {
     "name": "stdout",
     "output_type": "stream",
     "text": [
      "\n",
      "\n",
      "=============================================================================================================================\n",
      "=============================================================================================================================\n",
      "\n"
     ]
    },
    {
     "name": "stderr",
     "output_type": "stream",
     "text": [
      "[Succeeded / Failed / Skipped / Total] 74 / 7 / 34 / 115:  23%|█████                 | 115/500 [04:00<13:26,  2.10s/it]textattack: Saving checkpoint under \"checkpoints\\1720188602012.ta.chkpt\" at 2024-07-05 22:10:02 after 115 attacks.\n",
      "[Succeeded / Failed / Skipped / Total] 74 / 7 / 35 / 116:  23%|█████                 | 116/500 [04:01<13:17,  2.08s/it]"
     ]
    },
    {
     "name": "stdout",
     "output_type": "stream",
     "text": [
      "\n",
      "\n",
      "=============================================================================================================================\n",
      "=============================================================================================================================\n",
      "\n"
     ]
    },
    {
     "name": "stderr",
     "output_type": "stream",
     "text": [
      "[Succeeded / Failed / Skipped / Total] 76 / 7 / 37 / 120:  24%|█████▎                | 120/500 [04:03<12:52,  2.03s/it]textattack: Saving checkpoint under \"checkpoints\\1720188604910.ta.chkpt\" at 2024-07-05 22:10:04 after 120 attacks.\n"
     ]
    },
    {
     "name": "stdout",
     "output_type": "stream",
     "text": [
      "\n",
      "\n",
      "=============================================================================================================================\n",
      "=============================================================================================================================\n",
      "\n"
     ]
    },
    {
     "name": "stderr",
     "output_type": "stream",
     "text": [
      "[Succeeded / Failed / Skipped / Total] 79 / 7 / 39 / 125:  25%|█████▌                | 125/500 [04:11<12:35,  2.01s/it]textattack: Saving checkpoint under \"checkpoints\\1720188612886.ta.chkpt\" at 2024-07-05 22:10:12 after 125 attacks.\n"
     ]
    },
    {
     "name": "stdout",
     "output_type": "stream",
     "text": [
      "\n",
      "\n",
      "=============================================================================================================================\n",
      "=============================================================================================================================\n",
      "\n"
     ]
    },
    {
     "name": "stderr",
     "output_type": "stream",
     "text": [
      "[Succeeded / Failed / Skipped / Total] 83 / 8 / 39 / 130:  26%|█████▋                | 130/500 [04:23<12:30,  2.03s/it]textattack: Saving checkpoint under \"checkpoints\\1720188624634.ta.chkpt\" at 2024-07-05 22:10:24 after 130 attacks.\n",
      "[Succeeded / Failed / Skipped / Total] 83 / 8 / 40 / 131:  26%|█████▊                | 131/500 [04:23<12:22,  2.01s/it]"
     ]
    },
    {
     "name": "stdout",
     "output_type": "stream",
     "text": [
      "\n",
      "\n",
      "=============================================================================================================================\n",
      "=============================================================================================================================\n",
      "\n"
     ]
    },
    {
     "name": "stderr",
     "output_type": "stream",
     "text": [
      "[Succeeded / Failed / Skipped / Total] 85 / 8 / 42 / 135:  27%|█████▉                | 135/500 [04:35<12:24,  2.04s/it]textattack: Saving checkpoint under \"checkpoints\\1720188636237.ta.chkpt\" at 2024-07-05 22:10:36 after 135 attacks.\n",
      "[Succeeded / Failed / Skipped / Total] 85 / 8 / 43 / 136:  27%|█████▉                | 136/500 [04:35<12:16,  2.02s/it]"
     ]
    },
    {
     "name": "stdout",
     "output_type": "stream",
     "text": [
      "\n",
      "\n",
      "=============================================================================================================================\n",
      "=============================================================================================================================\n",
      "\n"
     ]
    },
    {
     "name": "stderr",
     "output_type": "stream",
     "text": [
      "[Succeeded / Failed / Skipped / Total] 89 / 8 / 43 / 140:  28%|██████▏               | 140/500 [04:43<12:08,  2.02s/it]textattack: Saving checkpoint under \"checkpoints\\1720188644433.ta.chkpt\" at 2024-07-05 22:10:44 after 140 attacks.\n",
      "[Succeeded / Failed / Skipped / Total] 89 / 8 / 44 / 141:  28%|██████▏               | 141/500 [04:43<12:01,  2.01s/it]"
     ]
    },
    {
     "name": "stdout",
     "output_type": "stream",
     "text": [
      "\n",
      "\n",
      "=============================================================================================================================\n",
      "=============================================================================================================================\n",
      "\n"
     ]
    },
    {
     "name": "stderr",
     "output_type": "stream",
     "text": [
      "[Succeeded / Failed / Skipped / Total] 91 / 8 / 46 / 145:  29%|██████▍               | 145/500 [04:47<11:44,  1.98s/it]textattack: Saving checkpoint under \"checkpoints\\1720188648614.ta.chkpt\" at 2024-07-05 22:10:48 after 145 attacks.\n",
      "[Succeeded / Failed / Skipped / Total] 91 / 8 / 47 / 146:  29%|██████▍               | 146/500 [04:47<11:37,  1.97s/it]"
     ]
    },
    {
     "name": "stdout",
     "output_type": "stream",
     "text": [
      "\n",
      "\n",
      "=============================================================================================================================\n",
      "=============================================================================================================================\n",
      "\n"
     ]
    },
    {
     "name": "stderr",
     "output_type": "stream",
     "text": [
      "[Succeeded / Failed / Skipped / Total] 93 / 8 / 49 / 150:  30%|██████▌               | 150/500 [04:49<11:15,  1.93s/it]textattack: Saving checkpoint under \"checkpoints\\1720188650735.ta.chkpt\" at 2024-07-05 22:10:50 after 150 attacks.\n"
     ]
    },
    {
     "name": "stdout",
     "output_type": "stream",
     "text": [
      "\n",
      "\n",
      "=============================================================================================================================\n",
      "=============================================================================================================================\n",
      "\n"
     ]
    },
    {
     "name": "stderr",
     "output_type": "stream",
     "text": [
      "[Succeeded / Failed / Skipped / Total] 96 / 8 / 51 / 155:  31%|██████▊               | 155/500 [04:53<10:52,  1.89s/it]textattack: Saving checkpoint under \"checkpoints\\1720188654254.ta.chkpt\" at 2024-07-05 22:10:54 after 155 attacks.\n"
     ]
    },
    {
     "name": "stdout",
     "output_type": "stream",
     "text": [
      "\n",
      "\n",
      "=============================================================================================================================\n",
      "=============================================================================================================================\n",
      "\n"
     ]
    },
    {
     "name": "stderr",
     "output_type": "stream",
     "text": [
      "[Succeeded / Failed / Skipped / Total] 98 / 9 / 53 / 160:  32%|███████               | 160/500 [05:18<11:17,  1.99s/it]textattack: Saving checkpoint under \"checkpoints\\1720188679849.ta.chkpt\" at 2024-07-05 22:11:19 after 160 attacks.\n"
     ]
    },
    {
     "name": "stdout",
     "output_type": "stream",
     "text": [
      "\n",
      "\n",
      "=============================================================================================================================\n",
      "=============================================================================================================================\n",
      "\n"
     ]
    },
    {
     "name": "stderr",
     "output_type": "stream",
     "text": [
      "[Succeeded / Failed / Skipped / Total] 101 / 9 / 55 / 165:  33%|██████▉              | 165/500 [05:27<11:04,  1.98s/it]textattack: Saving checkpoint under \"checkpoints\\1720188688487.ta.chkpt\" at 2024-07-05 22:11:28 after 165 attacks.\n",
      "[Succeeded / Failed / Skipped / Total] 101 / 9 / 56 / 166:  33%|██████▉              | 166/500 [05:27<10:59,  1.97s/it]"
     ]
    },
    {
     "name": "stdout",
     "output_type": "stream",
     "text": [
      "\n",
      "\n",
      "=============================================================================================================================\n",
      "=============================================================================================================================\n",
      "\n"
     ]
    },
    {
     "name": "stderr",
     "output_type": "stream",
     "text": [
      "[Succeeded / Failed / Skipped / Total] 104 / 9 / 57 / 170:  34%|███████▏             | 170/500 [05:31<10:43,  1.95s/it]textattack: Saving checkpoint under \"checkpoints\\1720188692745.ta.chkpt\" at 2024-07-05 22:11:32 after 170 attacks.\n"
     ]
    },
    {
     "name": "stdout",
     "output_type": "stream",
     "text": [
      "\n",
      "\n",
      "=============================================================================================================================\n",
      "=============================================================================================================================\n",
      "\n"
     ]
    },
    {
     "name": "stderr",
     "output_type": "stream",
     "text": [
      "[Succeeded / Failed / Skipped / Total] 108 / 9 / 58 / 175:  35%|███████▎             | 175/500 [05:53<10:56,  2.02s/it]textattack: Saving checkpoint under \"checkpoints\\1720188714458.ta.chkpt\" at 2024-07-05 22:11:54 after 175 attacks.\n"
     ]
    },
    {
     "name": "stdout",
     "output_type": "stream",
     "text": [
      "\n",
      "\n",
      "=============================================================================================================================\n",
      "=============================================================================================================================\n",
      "\n"
     ]
    },
    {
     "name": "stderr",
     "output_type": "stream",
     "text": [
      "[Succeeded / Failed / Skipped / Total] 111 / 10 / 59 / 180:  36%|███████▏            | 180/500 [06:05<10:49,  2.03s/it]textattack: Saving checkpoint under \"checkpoints\\1720188726608.ta.chkpt\" at 2024-07-05 22:12:06 after 180 attacks.\n",
      "[Succeeded / Failed / Skipped / Total] 111 / 10 / 60 / 181:  36%|███████▏            | 181/500 [06:05<10:44,  2.02s/it]"
     ]
    },
    {
     "name": "stdout",
     "output_type": "stream",
     "text": [
      "\n",
      "\n",
      "=============================================================================================================================\n",
      "=============================================================================================================================\n",
      "\n"
     ]
    },
    {
     "name": "stderr",
     "output_type": "stream",
     "text": [
      "[Succeeded / Failed / Skipped / Total] 112 / 10 / 63 / 185:  37%|███████▍            | 185/500 [06:06<10:24,  1.98s/it]textattack: Saving checkpoint under \"checkpoints\\1720188727927.ta.chkpt\" at 2024-07-05 22:12:07 after 185 attacks.\n"
     ]
    },
    {
     "name": "stdout",
     "output_type": "stream",
     "text": [
      "\n",
      "\n",
      "=============================================================================================================================\n",
      "=============================================================================================================================\n",
      "\n"
     ]
    },
    {
     "name": "stderr",
     "output_type": "stream",
     "text": [
      "[Succeeded / Failed / Skipped / Total] 116 / 10 / 64 / 190:  38%|███████▌            | 190/500 [06:23<10:25,  2.02s/it]textattack: Saving checkpoint under \"checkpoints\\1720188744327.ta.chkpt\" at 2024-07-05 22:12:24 after 190 attacks.\n"
     ]
    },
    {
     "name": "stdout",
     "output_type": "stream",
     "text": [
      "\n",
      "\n",
      "=============================================================================================================================\n",
      "=============================================================================================================================\n",
      "\n"
     ]
    },
    {
     "name": "stderr",
     "output_type": "stream",
     "text": [
      "[Succeeded / Failed / Skipped / Total] 120 / 10 / 65 / 195:  39%|███████▊            | 195/500 [06:34<10:16,  2.02s/it]textattack: Saving checkpoint under \"checkpoints\\1720188755110.ta.chkpt\" at 2024-07-05 22:12:35 after 195 attacks.\n"
     ]
    },
    {
     "name": "stdout",
     "output_type": "stream",
     "text": [
      "\n",
      "\n",
      "=============================================================================================================================\n",
      "=============================================================================================================================\n",
      "\n"
     ]
    },
    {
     "name": "stderr",
     "output_type": "stream",
     "text": [
      "[Succeeded / Failed / Skipped / Total] 124 / 10 / 66 / 200:  40%|████████            | 200/500 [06:50<10:16,  2.05s/it]textattack: Saving checkpoint under \"checkpoints\\1720188771933.ta.chkpt\" at 2024-07-05 22:12:51 after 200 attacks.\n"
     ]
    },
    {
     "name": "stdout",
     "output_type": "stream",
     "text": [
      "\n",
      "\n",
      "=============================================================================================================================\n",
      "=============================================================================================================================\n",
      "\n"
     ]
    },
    {
     "name": "stderr",
     "output_type": "stream",
     "text": [
      "[Succeeded / Failed / Skipped / Total] 128 / 10 / 67 / 205:  41%|████████▏           | 205/500 [07:00<10:05,  2.05s/it]textattack: Saving checkpoint under \"checkpoints\\1720188782019.ta.chkpt\" at 2024-07-05 22:13:02 after 205 attacks.\n",
      "[Succeeded / Failed / Skipped / Total] 128 / 10 / 68 / 206:  41%|████████▏           | 206/500 [07:01<10:00,  2.04s/it]"
     ]
    },
    {
     "name": "stdout",
     "output_type": "stream",
     "text": [
      "\n",
      "\n",
      "=============================================================================================================================\n",
      "=============================================================================================================================\n",
      "\n"
     ]
    },
    {
     "name": "stderr",
     "output_type": "stream",
     "text": [
      "[Succeeded / Failed / Skipped / Total] 132 / 10 / 68 / 210:  42%|████████▍           | 210/500 [07:05<09:47,  2.03s/it]textattack: Saving checkpoint under \"checkpoints\\1720188786738.ta.chkpt\" at 2024-07-05 22:13:06 after 210 attacks.\n"
     ]
    },
    {
     "name": "stdout",
     "output_type": "stream",
     "text": [
      "\n",
      "\n",
      "=============================================================================================================================\n",
      "=============================================================================================================================\n",
      "\n"
     ]
    },
    {
     "name": "stderr",
     "output_type": "stream",
     "text": [
      "[Succeeded / Failed / Skipped / Total] 136 / 11 / 68 / 215:  43%|████████▌           | 215/500 [07:17<09:39,  2.03s/it]textattack: Saving checkpoint under \"checkpoints\\1720188798206.ta.chkpt\" at 2024-07-05 22:13:18 after 215 attacks.\n"
     ]
    },
    {
     "name": "stdout",
     "output_type": "stream",
     "text": [
      "\n",
      "\n",
      "=============================================================================================================================\n",
      "=============================================================================================================================\n",
      "\n"
     ]
    },
    {
     "name": "stderr",
     "output_type": "stream",
     "text": [
      "[Succeeded / Failed / Skipped / Total] 141 / 11 / 68 / 220:  44%|████████▊           | 220/500 [07:23<09:23,  2.01s/it]textattack: Saving checkpoint under \"checkpoints\\1720188804108.ta.chkpt\" at 2024-07-05 22:13:24 after 220 attacks.\n"
     ]
    },
    {
     "name": "stdout",
     "output_type": "stream",
     "text": [
      "\n",
      "\n",
      "=============================================================================================================================\n",
      "=============================================================================================================================\n",
      "\n"
     ]
    },
    {
     "name": "stderr",
     "output_type": "stream",
     "text": [
      "[Succeeded / Failed / Skipped / Total] 145 / 11 / 69 / 225:  45%|█████████           | 225/500 [07:38<09:20,  2.04s/it]textattack: Saving checkpoint under \"checkpoints\\1720188819475.ta.chkpt\" at 2024-07-05 22:13:39 after 225 attacks.\n"
     ]
    },
    {
     "name": "stdout",
     "output_type": "stream",
     "text": [
      "\n",
      "\n",
      "=============================================================================================================================\n",
      "=============================================================================================================================\n",
      "\n"
     ]
    },
    {
     "name": "stderr",
     "output_type": "stream",
     "text": [
      "[Succeeded / Failed / Skipped / Total] 147 / 11 / 72 / 230:  46%|█████████▏          | 230/500 [07:43<09:03,  2.01s/it]textattack: Saving checkpoint under \"checkpoints\\1720188824104.ta.chkpt\" at 2024-07-05 22:13:44 after 230 attacks.\n"
     ]
    },
    {
     "name": "stdout",
     "output_type": "stream",
     "text": [
      "\n",
      "\n",
      "=============================================================================================================================\n",
      "=============================================================================================================================\n",
      "\n"
     ]
    },
    {
     "name": "stderr",
     "output_type": "stream",
     "text": [
      "[Succeeded / Failed / Skipped / Total] 151 / 11 / 73 / 235:  47%|█████████▍          | 235/500 [07:51<08:51,  2.01s/it]textattack: Saving checkpoint under \"checkpoints\\1720188832797.ta.chkpt\" at 2024-07-05 22:13:52 after 235 attacks.\n",
      "[Succeeded / Failed / Skipped / Total] 151 / 11 / 74 / 236:  47%|█████████▍          | 236/500 [07:51<08:47,  2.00s/it]"
     ]
    },
    {
     "name": "stdout",
     "output_type": "stream",
     "text": [
      "\n",
      "\n",
      "=============================================================================================================================\n",
      "=============================================================================================================================\n",
      "\n"
     ]
    },
    {
     "name": "stderr",
     "output_type": "stream",
     "text": [
      "[Succeeded / Failed / Skipped / Total] 154 / 12 / 74 / 240:  48%|█████████▌          | 240/500 [08:04<08:45,  2.02s/it]textattack: Saving checkpoint under \"checkpoints\\1720188845805.ta.chkpt\" at 2024-07-05 22:14:05 after 240 attacks.\n"
     ]
    },
    {
     "name": "stdout",
     "output_type": "stream",
     "text": [
      "\n",
      "\n",
      "=============================================================================================================================\n",
      "=============================================================================================================================\n",
      "\n"
     ]
    },
    {
     "name": "stderr",
     "output_type": "stream",
     "text": [
      "[Succeeded / Failed / Skipped / Total] 158 / 12 / 75 / 245:  49%|█████████▊          | 245/500 [08:13<08:33,  2.01s/it]textattack: Saving checkpoint under \"checkpoints\\1720188854407.ta.chkpt\" at 2024-07-05 22:14:14 after 245 attacks.\n"
     ]
    },
    {
     "name": "stdout",
     "output_type": "stream",
     "text": [
      "\n",
      "\n",
      "=============================================================================================================================\n",
      "=============================================================================================================================\n",
      "\n"
     ]
    },
    {
     "name": "stderr",
     "output_type": "stream",
     "text": [
      "[Succeeded / Failed / Skipped / Total] 161 / 12 / 77 / 250:  50%|██████████          | 250/500 [08:20<08:20,  2.00s/it]textattack: Saving checkpoint under \"checkpoints\\1720188861573.ta.chkpt\" at 2024-07-05 22:14:21 after 250 attacks.\n"
     ]
    },
    {
     "name": "stdout",
     "output_type": "stream",
     "text": [
      "\n",
      "\n",
      "=============================================================================================================================\n",
      "=============================================================================================================================\n",
      "\n"
     ]
    },
    {
     "name": "stderr",
     "output_type": "stream",
     "text": [
      "[Succeeded / Failed / Skipped / Total] 165 / 12 / 78 / 255:  51%|██████████▏         | 255/500 [08:29<08:09,  2.00s/it]textattack: Saving checkpoint under \"checkpoints\\1720188870722.ta.chkpt\" at 2024-07-05 22:14:30 after 255 attacks.\n"
     ]
    },
    {
     "name": "stdout",
     "output_type": "stream",
     "text": [
      "\n",
      "\n",
      "=============================================================================================================================\n",
      "=============================================================================================================================\n",
      "\n"
     ]
    },
    {
     "name": "stderr",
     "output_type": "stream",
     "text": [
      "[Succeeded / Failed / Skipped / Total] 168 / 12 / 80 / 260:  52%|██████████▍         | 260/500 [08:33<07:54,  1.98s/it]textattack: Saving checkpoint under \"checkpoints\\1720188874962.ta.chkpt\" at 2024-07-05 22:14:34 after 260 attacks.\n"
     ]
    },
    {
     "name": "stdout",
     "output_type": "stream",
     "text": [
      "\n",
      "\n",
      "=============================================================================================================================\n",
      "=============================================================================================================================\n",
      "\n"
     ]
    },
    {
     "name": "stderr",
     "output_type": "stream",
     "text": [
      "[Succeeded / Failed / Skipped / Total] 172 / 13 / 80 / 265:  53%|██████████▌         | 265/500 [08:45<07:46,  1.98s/it]textattack: Saving checkpoint under \"checkpoints\\1720188887012.ta.chkpt\" at 2024-07-05 22:14:47 after 265 attacks.\n"
     ]
    },
    {
     "name": "stdout",
     "output_type": "stream",
     "text": [
      "\n",
      "\n",
      "=============================================================================================================================\n",
      "=============================================================================================================================\n",
      "\n"
     ]
    },
    {
     "name": "stderr",
     "output_type": "stream",
     "text": [
      "[Succeeded / Failed / Skipped / Total] 175 / 14 / 81 / 270:  54%|██████████▊         | 270/500 [09:05<07:44,  2.02s/it]textattack: Saving checkpoint under \"checkpoints\\1720188906816.ta.chkpt\" at 2024-07-05 22:15:06 after 270 attacks.\n",
      "[Succeeded / Failed / Skipped / Total] 175 / 14 / 82 / 271:  54%|██████████▊         | 271/500 [09:05<07:41,  2.01s/it]"
     ]
    },
    {
     "name": "stdout",
     "output_type": "stream",
     "text": [
      "\n",
      "\n",
      "=============================================================================================================================\n",
      "=============================================================================================================================\n",
      "\n"
     ]
    },
    {
     "name": "stderr",
     "output_type": "stream",
     "text": [
      "[Succeeded / Failed / Skipped / Total] 176 / 14 / 85 / 275:  55%|███████████         | 275/500 [09:11<07:31,  2.01s/it]textattack: Saving checkpoint under \"checkpoints\\1720188912475.ta.chkpt\" at 2024-07-05 22:15:12 after 275 attacks.\n"
     ]
    },
    {
     "name": "stdout",
     "output_type": "stream",
     "text": [
      "\n",
      "\n",
      "=============================================================================================================================\n",
      "=============================================================================================================================\n",
      "\n"
     ]
    },
    {
     "name": "stderr",
     "output_type": "stream",
     "text": [
      "[Succeeded / Failed / Skipped / Total] 178 / 15 / 87 / 280:  56%|███████████▏        | 280/500 [09:17<07:17,  1.99s/it]textattack: Saving checkpoint under \"checkpoints\\1720188918249.ta.chkpt\" at 2024-07-05 22:15:18 after 280 attacks.\n"
     ]
    },
    {
     "name": "stdout",
     "output_type": "stream",
     "text": [
      "\n",
      "\n",
      "=============================================================================================================================\n",
      "=============================================================================================================================\n",
      "\n"
     ]
    },
    {
     "name": "stderr",
     "output_type": "stream",
     "text": [
      "[Succeeded / Failed / Skipped / Total] 179 / 16 / 90 / 285:  57%|███████████▍        | 285/500 [09:25<07:06,  1.99s/it]textattack: Saving checkpoint under \"checkpoints\\1720188926898.ta.chkpt\" at 2024-07-05 22:15:26 after 285 attacks.\n"
     ]
    },
    {
     "name": "stdout",
     "output_type": "stream",
     "text": [
      "\n",
      "\n",
      "=============================================================================================================================\n",
      "=============================================================================================================================\n",
      "\n"
     ]
    },
    {
     "name": "stderr",
     "output_type": "stream",
     "text": [
      "[Succeeded / Failed / Skipped / Total] 183 / 16 / 91 / 290:  58%|███████████▌        | 290/500 [09:31<06:53,  1.97s/it]textattack: Saving checkpoint under \"checkpoints\\1720188932471.ta.chkpt\" at 2024-07-05 22:15:32 after 290 attacks.\n"
     ]
    },
    {
     "name": "stdout",
     "output_type": "stream",
     "text": [
      "\n",
      "\n",
      "=============================================================================================================================\n",
      "=============================================================================================================================\n",
      "\n"
     ]
    },
    {
     "name": "stderr",
     "output_type": "stream",
     "text": [
      "[Succeeded / Failed / Skipped / Total] 186 / 16 / 93 / 295:  59%|███████████▊        | 295/500 [09:34<06:39,  1.95s/it]textattack: Saving checkpoint under \"checkpoints\\1720188935840.ta.chkpt\" at 2024-07-05 22:15:35 after 295 attacks.\n"
     ]
    },
    {
     "name": "stdout",
     "output_type": "stream",
     "text": [
      "\n",
      "\n",
      "=============================================================================================================================\n",
      "=============================================================================================================================\n",
      "\n"
     ]
    },
    {
     "name": "stderr",
     "output_type": "stream",
     "text": [
      "[Succeeded / Failed / Skipped / Total] 190 / 16 / 94 / 300:  60%|████████████        | 300/500 [09:39<06:26,  1.93s/it]textattack: Saving checkpoint under \"checkpoints\\1720188940949.ta.chkpt\" at 2024-07-05 22:15:40 after 300 attacks.\n"
     ]
    },
    {
     "name": "stdout",
     "output_type": "stream",
     "text": [
      "\n",
      "\n",
      "=============================================================================================================================\n",
      "=============================================================================================================================\n",
      "\n"
     ]
    },
    {
     "name": "stderr",
     "output_type": "stream",
     "text": [
      "[Succeeded / Failed / Skipped / Total] 194 / 16 / 95 / 305:  61%|████████████▏       | 305/500 [09:50<06:17,  1.94s/it]textattack: Saving checkpoint under \"checkpoints\\1720188951280.ta.chkpt\" at 2024-07-05 22:15:51 after 305 attacks.\n"
     ]
    },
    {
     "name": "stdout",
     "output_type": "stream",
     "text": [
      "\n",
      "\n",
      "=============================================================================================================================\n",
      "=============================================================================================================================\n",
      "\n"
     ]
    },
    {
     "name": "stderr",
     "output_type": "stream",
     "text": [
      "[Succeeded / Failed / Skipped / Total] 198 / 17 / 95 / 310:  62%|████████████▍       | 310/500 [09:56<06:05,  1.92s/it]textattack: Saving checkpoint under \"checkpoints\\1720188957154.ta.chkpt\" at 2024-07-05 22:15:57 after 310 attacks.\n"
     ]
    },
    {
     "name": "stdout",
     "output_type": "stream",
     "text": [
      "\n",
      "\n",
      "=============================================================================================================================\n",
      "=============================================================================================================================\n",
      "\n"
     ]
    },
    {
     "name": "stderr",
     "output_type": "stream",
     "text": [
      "[Succeeded / Failed / Skipped / Total] 200 / 17 / 98 / 315:  63%|████████████▌       | 315/500 [10:00<05:52,  1.91s/it]textattack: Saving checkpoint under \"checkpoints\\1720188961217.ta.chkpt\" at 2024-07-05 22:16:01 after 315 attacks.\n"
     ]
    },
    {
     "name": "stdout",
     "output_type": "stream",
     "text": [
      "\n",
      "\n",
      "=============================================================================================================================\n",
      "=============================================================================================================================\n",
      "\n"
     ]
    },
    {
     "name": "stderr",
     "output_type": "stream",
     "text": [
      "[Succeeded / Failed / Skipped / Total] 204 / 17 / 99 / 320:  64%|████████████▊       | 320/500 [10:16<05:46,  1.93s/it]textattack: Saving checkpoint under \"checkpoints\\1720188977865.ta.chkpt\" at 2024-07-05 22:16:17 after 320 attacks.\n"
     ]
    },
    {
     "name": "stdout",
     "output_type": "stream",
     "text": [
      "\n",
      "\n",
      "=============================================================================================================================\n",
      "=============================================================================================================================\n",
      "\n"
     ]
    },
    {
     "name": "stderr",
     "output_type": "stream",
     "text": [
      "[Succeeded / Failed / Skipped / Total] 207 / 17 / 101 / 325:  65%|████████████▎      | 325/500 [10:38<05:43,  1.96s/it]textattack: Saving checkpoint under \"checkpoints\\1720188999646.ta.chkpt\" at 2024-07-05 22:16:39 after 325 attacks.\n"
     ]
    },
    {
     "name": "stdout",
     "output_type": "stream",
     "text": [
      "\n",
      "\n",
      "=============================================================================================================================\n",
      "=============================================================================================================================\n",
      "\n"
     ]
    },
    {
     "name": "stderr",
     "output_type": "stream",
     "text": [
      "[Succeeded / Failed / Skipped / Total] 211 / 17 / 102 / 330:  66%|████████████▌      | 330/500 [10:44<05:32,  1.95s/it]textattack: Saving checkpoint under \"checkpoints\\1720189005552.ta.chkpt\" at 2024-07-05 22:16:45 after 330 attacks.\n"
     ]
    },
    {
     "name": "stdout",
     "output_type": "stream",
     "text": [
      "\n",
      "\n",
      "=============================================================================================================================\n",
      "=============================================================================================================================\n",
      "\n"
     ]
    },
    {
     "name": "stderr",
     "output_type": "stream",
     "text": [
      "[Succeeded / Failed / Skipped / Total] 216 / 17 / 102 / 335:  67%|████████████▋      | 335/500 [10:55<05:23,  1.96s/it]textattack: Saving checkpoint under \"checkpoints\\1720189016977.ta.chkpt\" at 2024-07-05 22:16:56 after 335 attacks.\n",
      "[Succeeded / Failed / Skipped / Total] 216 / 17 / 103 / 336:  67%|████████████▊      | 336/500 [10:56<05:20,  1.95s/it]"
     ]
    },
    {
     "name": "stdout",
     "output_type": "stream",
     "text": [
      "\n",
      "\n",
      "=============================================================================================================================\n",
      "=============================================================================================================================\n",
      "\n"
     ]
    },
    {
     "name": "stderr",
     "output_type": "stream",
     "text": [
      "[Succeeded / Failed / Skipped / Total] 219 / 18 / 103 / 340:  68%|████████████▉      | 340/500 [11:07<05:14,  1.96s/it]textattack: Saving checkpoint under \"checkpoints\\1720189028724.ta.chkpt\" at 2024-07-05 22:17:08 after 340 attacks.\n"
     ]
    },
    {
     "name": "stdout",
     "output_type": "stream",
     "text": [
      "\n",
      "\n",
      "=============================================================================================================================\n",
      "=============================================================================================================================\n",
      "\n"
     ]
    },
    {
     "name": "stderr",
     "output_type": "stream",
     "text": [
      "[Succeeded / Failed / Skipped / Total] 222 / 18 / 105 / 345:  69%|█████████████      | 345/500 [11:10<05:01,  1.94s/it]textattack: Saving checkpoint under \"checkpoints\\1720189031845.ta.chkpt\" at 2024-07-05 22:17:11 after 345 attacks.\n"
     ]
    },
    {
     "name": "stdout",
     "output_type": "stream",
     "text": [
      "\n",
      "\n",
      "=============================================================================================================================\n",
      "=============================================================================================================================\n",
      "\n"
     ]
    },
    {
     "name": "stderr",
     "output_type": "stream",
     "text": [
      "[Succeeded / Failed / Skipped / Total] 226 / 18 / 106 / 350:  70%|█████████████▎     | 350/500 [11:19<04:51,  1.94s/it]textattack: Saving checkpoint under \"checkpoints\\1720189040749.ta.chkpt\" at 2024-07-05 22:17:20 after 350 attacks.\n"
     ]
    },
    {
     "name": "stdout",
     "output_type": "stream",
     "text": [
      "\n",
      "\n",
      "=============================================================================================================================\n",
      "=============================================================================================================================\n",
      "\n"
     ]
    },
    {
     "name": "stderr",
     "output_type": "stream",
     "text": [
      "[Succeeded / Failed / Skipped / Total] 231 / 18 / 106 / 355:  71%|█████████████▍     | 355/500 [11:30<04:41,  1.94s/it]textattack: Saving checkpoint under \"checkpoints\\1720189051361.ta.chkpt\" at 2024-07-05 22:17:31 after 355 attacks.\n"
     ]
    },
    {
     "name": "stdout",
     "output_type": "stream",
     "text": [
      "\n",
      "\n",
      "=============================================================================================================================\n",
      "=============================================================================================================================\n",
      "\n"
     ]
    },
    {
     "name": "stderr",
     "output_type": "stream",
     "text": [
      "[Succeeded / Failed / Skipped / Total] 234 / 19 / 107 / 360:  72%|█████████████▋     | 360/500 [11:46<04:34,  1.96s/it]textattack: Saving checkpoint under \"checkpoints\\1720189067178.ta.chkpt\" at 2024-07-05 22:17:47 after 360 attacks.\n"
     ]
    },
    {
     "name": "stdout",
     "output_type": "stream",
     "text": [
      "\n",
      "\n",
      "=============================================================================================================================\n",
      "=============================================================================================================================\n",
      "\n"
     ]
    },
    {
     "name": "stderr",
     "output_type": "stream",
     "text": [
      "[Succeeded / Failed / Skipped / Total] 238 / 20 / 107 / 365:  73%|█████████████▊     | 365/500 [11:53<04:23,  1.95s/it]textattack: Saving checkpoint under \"checkpoints\\1720189074621.ta.chkpt\" at 2024-07-05 22:17:54 after 365 attacks.\n"
     ]
    },
    {
     "name": "stdout",
     "output_type": "stream",
     "text": [
      "\n",
      "\n",
      "=============================================================================================================================\n",
      "=============================================================================================================================\n",
      "\n"
     ]
    },
    {
     "name": "stderr",
     "output_type": "stream",
     "text": [
      "[Succeeded / Failed / Skipped / Total] 243 / 20 / 107 / 370:  74%|██████████████     | 370/500 [11:58<04:12,  1.94s/it]textattack: Saving checkpoint under \"checkpoints\\1720189079106.ta.chkpt\" at 2024-07-05 22:17:59 after 370 attacks.\n"
     ]
    },
    {
     "name": "stdout",
     "output_type": "stream",
     "text": [
      "\n",
      "\n",
      "=============================================================================================================================\n",
      "=============================================================================================================================\n",
      "\n"
     ]
    },
    {
     "name": "stderr",
     "output_type": "stream",
     "text": [
      "[Succeeded / Failed / Skipped / Total] 247 / 20 / 108 / 375:  75%|██████████████▎    | 375/500 [12:10<04:03,  1.95s/it]textattack: Saving checkpoint under \"checkpoints\\1720189091814.ta.chkpt\" at 2024-07-05 22:18:11 after 375 attacks.\n"
     ]
    },
    {
     "name": "stdout",
     "output_type": "stream",
     "text": [
      "\n",
      "\n",
      "=============================================================================================================================\n",
      "=============================================================================================================================\n",
      "\n"
     ]
    },
    {
     "name": "stderr",
     "output_type": "stream",
     "text": [
      "[Succeeded / Failed / Skipped / Total] 251 / 20 / 109 / 380:  76%|██████████████▍    | 380/500 [12:14<03:51,  1.93s/it]textattack: Saving checkpoint under \"checkpoints\\1720189095250.ta.chkpt\" at 2024-07-05 22:18:15 after 380 attacks.\n"
     ]
    },
    {
     "name": "stdout",
     "output_type": "stream",
     "text": [
      "\n",
      "\n",
      "=============================================================================================================================\n",
      "=============================================================================================================================\n",
      "\n"
     ]
    },
    {
     "name": "stderr",
     "output_type": "stream",
     "text": [
      "[Succeeded / Failed / Skipped / Total] 256 / 20 / 109 / 385:  77%|██████████████▋    | 385/500 [12:29<03:43,  1.95s/it]textattack: Saving checkpoint under \"checkpoints\\1720189110521.ta.chkpt\" at 2024-07-05 22:18:30 after 385 attacks.\n"
     ]
    },
    {
     "name": "stdout",
     "output_type": "stream",
     "text": [
      "\n",
      "\n",
      "=============================================================================================================================\n",
      "=============================================================================================================================\n",
      "\n"
     ]
    },
    {
     "name": "stderr",
     "output_type": "stream",
     "text": [
      "[Succeeded / Failed / Skipped / Total] 260 / 20 / 110 / 390:  78%|██████████████▊    | 390/500 [12:33<03:32,  1.93s/it]textattack: Saving checkpoint under \"checkpoints\\1720189114508.ta.chkpt\" at 2024-07-05 22:18:34 after 390 attacks.\n"
     ]
    },
    {
     "name": "stdout",
     "output_type": "stream",
     "text": [
      "\n",
      "\n",
      "=============================================================================================================================\n",
      "=============================================================================================================================\n",
      "\n"
     ]
    },
    {
     "name": "stderr",
     "output_type": "stream",
     "text": [
      "[Succeeded / Failed / Skipped / Total] 262 / 22 / 111 / 395:  79%|███████████████    | 395/500 [13:04<03:28,  1.99s/it]textattack: Saving checkpoint under \"checkpoints\\1720189145783.ta.chkpt\" at 2024-07-05 22:19:05 after 395 attacks.\n"
     ]
    },
    {
     "name": "stdout",
     "output_type": "stream",
     "text": [
      "\n",
      "\n",
      "=============================================================================================================================\n",
      "=============================================================================================================================\n",
      "\n"
     ]
    },
    {
     "name": "stderr",
     "output_type": "stream",
     "text": [
      "[Succeeded / Failed / Skipped / Total] 267 / 22 / 111 / 400:  80%|███████████████▏   | 400/500 [13:22<03:20,  2.01s/it]textattack: Saving checkpoint under \"checkpoints\\1720189163694.ta.chkpt\" at 2024-07-05 22:19:23 after 400 attacks.\n"
     ]
    },
    {
     "name": "stdout",
     "output_type": "stream",
     "text": [
      "\n",
      "\n",
      "=============================================================================================================================\n",
      "=============================================================================================================================\n",
      "\n"
     ]
    },
    {
     "name": "stderr",
     "output_type": "stream",
     "text": [
      "[Succeeded / Failed / Skipped / Total] 271 / 22 / 112 / 405:  81%|███████████████▍   | 405/500 [13:33<03:10,  2.01s/it]textattack: Saving checkpoint under \"checkpoints\\1720189174142.ta.chkpt\" at 2024-07-05 22:19:34 after 405 attacks.\n"
     ]
    },
    {
     "name": "stdout",
     "output_type": "stream",
     "text": [
      "\n",
      "\n",
      "=============================================================================================================================\n",
      "=============================================================================================================================\n",
      "\n"
     ]
    },
    {
     "name": "stderr",
     "output_type": "stream",
     "text": [
      "[Succeeded / Failed / Skipped / Total] 275 / 23 / 112 / 410:  82%|███████████████▌   | 410/500 [13:46<03:01,  2.02s/it]textattack: Saving checkpoint under \"checkpoints\\1720189187474.ta.chkpt\" at 2024-07-05 22:19:47 after 410 attacks.\n"
     ]
    },
    {
     "name": "stdout",
     "output_type": "stream",
     "text": [
      "\n",
      "\n",
      "=============================================================================================================================\n",
      "=============================================================================================================================\n",
      "\n"
     ]
    },
    {
     "name": "stderr",
     "output_type": "stream",
     "text": [
      "[Succeeded / Failed / Skipped / Total] 276 / 23 / 116 / 415:  83%|███████████████▊   | 415/500 [13:49<02:49,  2.00s/it]textattack: Saving checkpoint under \"checkpoints\\1720189190114.ta.chkpt\" at 2024-07-05 22:19:50 after 415 attacks.\n"
     ]
    },
    {
     "name": "stdout",
     "output_type": "stream",
     "text": [
      "\n",
      "\n",
      "=============================================================================================================================\n",
      "=============================================================================================================================\n",
      "\n"
     ]
    },
    {
     "name": "stderr",
     "output_type": "stream",
     "text": [
      "[Succeeded / Failed / Skipped / Total] 279 / 23 / 118 / 420:  84%|███████████████▉   | 420/500 [14:01<02:40,  2.00s/it]textattack: Saving checkpoint under \"checkpoints\\1720189202096.ta.chkpt\" at 2024-07-05 22:20:02 after 420 attacks.\n"
     ]
    },
    {
     "name": "stdout",
     "output_type": "stream",
     "text": [
      "\n",
      "\n",
      "=============================================================================================================================\n",
      "=============================================================================================================================\n",
      "\n"
     ]
    },
    {
     "name": "stderr",
     "output_type": "stream",
     "text": [
      "[Succeeded / Failed / Skipped / Total] 283 / 23 / 119 / 425:  85%|████████████████▏  | 425/500 [14:10<02:30,  2.00s/it]textattack: Saving checkpoint under \"checkpoints\\1720189211103.ta.chkpt\" at 2024-07-05 22:20:11 after 425 attacks.\n"
     ]
    },
    {
     "name": "stdout",
     "output_type": "stream",
     "text": [
      "\n",
      "\n",
      "=============================================================================================================================\n",
      "=============================================================================================================================\n",
      "\n"
     ]
    },
    {
     "name": "stderr",
     "output_type": "stream",
     "text": [
      "[Succeeded / Failed / Skipped / Total] 286 / 23 / 121 / 430:  86%|████████████████▎  | 430/500 [14:19<02:19,  2.00s/it]textattack: Saving checkpoint under \"checkpoints\\1720189220471.ta.chkpt\" at 2024-07-05 22:20:20 after 430 attacks.\n",
      "[Succeeded / Failed / Skipped / Total] 286 / 23 / 122 / 431:  86%|████████████████▍  | 431/500 [14:19<02:17,  1.99s/it]"
     ]
    },
    {
     "name": "stdout",
     "output_type": "stream",
     "text": [
      "\n",
      "\n",
      "=============================================================================================================================\n",
      "=============================================================================================================================\n",
      "\n"
     ]
    },
    {
     "name": "stderr",
     "output_type": "stream",
     "text": [
      "[Succeeded / Failed / Skipped / Total] 289 / 23 / 123 / 435:  87%|████████████████▌  | 435/500 [14:23<02:09,  1.98s/it]textattack: Saving checkpoint under \"checkpoints\\1720189224476.ta.chkpt\" at 2024-07-05 22:20:24 after 435 attacks.\n",
      "[Succeeded / Failed / Skipped / Total] 289 / 23 / 124 / 436:  87%|████████████████▌  | 436/500 [14:23<02:06,  1.98s/it]"
     ]
    },
    {
     "name": "stdout",
     "output_type": "stream",
     "text": [
      "\n",
      "\n",
      "=============================================================================================================================\n",
      "=============================================================================================================================\n",
      "\n"
     ]
    },
    {
     "name": "stderr",
     "output_type": "stream",
     "text": [
      "[Succeeded / Failed / Skipped / Total] 292 / 24 / 124 / 440:  88%|████████████████▋  | 440/500 [14:54<02:02,  2.03s/it]textattack: Saving checkpoint under \"checkpoints\\1720189256049.ta.chkpt\" at 2024-07-05 22:20:56 after 440 attacks.\n",
      "[Succeeded / Failed / Skipped / Total] 292 / 24 / 125 / 441:  88%|████████████████▊  | 441/500 [14:55<01:59,  2.03s/it]"
     ]
    },
    {
     "name": "stdout",
     "output_type": "stream",
     "text": [
      "\n",
      "\n",
      "=============================================================================================================================\n",
      "=============================================================================================================================\n",
      "\n"
     ]
    },
    {
     "name": "stderr",
     "output_type": "stream",
     "text": [
      "[Succeeded / Failed / Skipped / Total] 296 / 24 / 125 / 445:  89%|████████████████▉  | 445/500 [15:00<01:51,  2.02s/it]textattack: Saving checkpoint under \"checkpoints\\1720189261389.ta.chkpt\" at 2024-07-05 22:21:01 after 445 attacks.\n"
     ]
    },
    {
     "name": "stdout",
     "output_type": "stream",
     "text": [
      "\n",
      "\n",
      "=============================================================================================================================\n",
      "=============================================================================================================================\n",
      "\n"
     ]
    },
    {
     "name": "stderr",
     "output_type": "stream",
     "text": [
      "[Succeeded / Failed / Skipped / Total] 298 / 25 / 127 / 450:  90%|█████████████████  | 450/500 [15:14<01:41,  2.03s/it]textattack: Saving checkpoint under \"checkpoints\\1720189275161.ta.chkpt\" at 2024-07-05 22:21:15 after 450 attacks.\n",
      "[Succeeded / Failed / Skipped / Total] 298 / 25 / 128 / 451:  90%|█████████████████▏ | 451/500 [15:14<01:39,  2.03s/it]"
     ]
    },
    {
     "name": "stdout",
     "output_type": "stream",
     "text": [
      "\n",
      "\n",
      "=============================================================================================================================\n",
      "=============================================================================================================================\n",
      "\n"
     ]
    },
    {
     "name": "stderr",
     "output_type": "stream",
     "text": [
      "[Succeeded / Failed / Skipped / Total] 300 / 25 / 130 / 455:  91%|█████████████████▎ | 455/500 [15:18<01:30,  2.02s/it]textattack: Saving checkpoint under \"checkpoints\\1720189279243.ta.chkpt\" at 2024-07-05 22:21:19 after 455 attacks.\n"
     ]
    },
    {
     "name": "stdout",
     "output_type": "stream",
     "text": [
      "\n",
      "\n",
      "=============================================================================================================================\n",
      "=============================================================================================================================\n",
      "\n"
     ]
    },
    {
     "name": "stderr",
     "output_type": "stream",
     "text": [
      "[Succeeded / Failed / Skipped / Total] 304 / 25 / 131 / 460:  92%|█████████████████▍ | 460/500 [15:29<01:20,  2.02s/it]textattack: Saving checkpoint under \"checkpoints\\1720189290318.ta.chkpt\" at 2024-07-05 22:21:30 after 460 attacks.\n"
     ]
    },
    {
     "name": "stdout",
     "output_type": "stream",
     "text": [
      "\n",
      "\n",
      "=============================================================================================================================\n",
      "=============================================================================================================================\n",
      "\n"
     ]
    },
    {
     "name": "stderr",
     "output_type": "stream",
     "text": [
      "[Succeeded / Failed / Skipped / Total] 308 / 25 / 132 / 465:  93%|█████████████████▋ | 465/500 [15:37<01:10,  2.02s/it]textattack: Saving checkpoint under \"checkpoints\\1720189298440.ta.chkpt\" at 2024-07-05 22:21:38 after 465 attacks.\n"
     ]
    },
    {
     "name": "stdout",
     "output_type": "stream",
     "text": [
      "\n",
      "\n",
      "=============================================================================================================================\n",
      "=============================================================================================================================\n",
      "\n"
     ]
    },
    {
     "name": "stderr",
     "output_type": "stream",
     "text": [
      "[Succeeded / Failed / Skipped / Total] 310 / 25 / 135 / 470:  94%|█████████████████▊ | 470/500 [15:39<00:59,  2.00s/it]textattack: Saving checkpoint under \"checkpoints\\1720189300768.ta.chkpt\" at 2024-07-05 22:21:40 after 470 attacks.\n"
     ]
    },
    {
     "name": "stdout",
     "output_type": "stream",
     "text": [
      "\n",
      "\n",
      "=============================================================================================================================\n",
      "=============================================================================================================================\n",
      "\n"
     ]
    },
    {
     "name": "stderr",
     "output_type": "stream",
     "text": [
      "[Succeeded / Failed / Skipped / Total] 315 / 25 / 135 / 475:  95%|██████████████████ | 475/500 [15:56<00:50,  2.01s/it]textattack: Saving checkpoint under \"checkpoints\\1720189317970.ta.chkpt\" at 2024-07-05 22:21:57 after 475 attacks.\n"
     ]
    },
    {
     "name": "stdout",
     "output_type": "stream",
     "text": [
      "\n",
      "\n",
      "=============================================================================================================================\n",
      "=============================================================================================================================\n",
      "\n"
     ]
    },
    {
     "name": "stderr",
     "output_type": "stream",
     "text": [
      "[Succeeded / Failed / Skipped / Total] 319 / 26 / 135 / 480:  96%|██████████████████▏| 480/500 [16:08<00:40,  2.02s/it]textattack: Saving checkpoint under \"checkpoints\\1720189329915.ta.chkpt\" at 2024-07-05 22:22:09 after 480 attacks.\n"
     ]
    },
    {
     "name": "stdout",
     "output_type": "stream",
     "text": [
      "\n",
      "\n",
      "=============================================================================================================================\n",
      "=============================================================================================================================\n",
      "\n"
     ]
    },
    {
     "name": "stderr",
     "output_type": "stream",
     "text": [
      "[Succeeded / Failed / Skipped / Total] 322 / 26 / 137 / 485:  97%|██████████████████▍| 485/500 [16:21<00:30,  2.02s/it]textattack: Saving checkpoint under \"checkpoints\\1720189342333.ta.chkpt\" at 2024-07-05 22:22:22 after 485 attacks.\n"
     ]
    },
    {
     "name": "stdout",
     "output_type": "stream",
     "text": [
      "\n",
      "\n",
      "=============================================================================================================================\n",
      "=============================================================================================================================\n",
      "\n"
     ]
    },
    {
     "name": "stderr",
     "output_type": "stream",
     "text": [
      "[Succeeded / Failed / Skipped / Total] 326 / 26 / 138 / 490:  98%|██████████████████▌| 490/500 [16:28<00:20,  2.02s/it]textattack: Saving checkpoint under \"checkpoints\\1720189349358.ta.chkpt\" at 2024-07-05 22:22:29 after 490 attacks.\n",
      "[Succeeded / Failed / Skipped / Total] 326 / 26 / 139 / 491:  98%|██████████████████▋| 491/500 [16:28<00:18,  2.01s/it]"
     ]
    },
    {
     "name": "stdout",
     "output_type": "stream",
     "text": [
      "\n",
      "\n",
      "=============================================================================================================================\n",
      "=============================================================================================================================\n",
      "\n"
     ]
    },
    {
     "name": "stderr",
     "output_type": "stream",
     "text": [
      "[Succeeded / Failed / Skipped / Total] 329 / 26 / 140 / 495:  99%|██████████████████▊| 495/500 [16:38<00:10,  2.02s/it]textattack: Saving checkpoint under \"checkpoints\\1720189359527.ta.chkpt\" at 2024-07-05 22:22:39 after 495 attacks.\n"
     ]
    },
    {
     "name": "stdout",
     "output_type": "stream",
     "text": [
      "\n",
      "\n",
      "=============================================================================================================================\n",
      "=============================================================================================================================\n",
      "\n"
     ]
    },
    {
     "name": "stderr",
     "output_type": "stream",
     "text": [
      "[Succeeded / Failed / Skipped / Total] 333 / 26 / 141 / 500: 100%|███████████████████| 500/500 [16:44<00:00,  2.01s/it]textattack: Saving checkpoint under \"checkpoints\\1720189365325.ta.chkpt\" at 2024-07-05 22:22:45 after 500 attacks.\n",
      "[Succeeded / Failed / Skipped / Total] 333 / 26 / 141 / 500: 100%|███████████████████| 500/500 [16:44<00:00,  2.01s/it]"
     ]
    },
    {
     "name": "stdout",
     "output_type": "stream",
     "text": [
      "\n",
      "\n",
      "=============================================================================================================================\n",
      "=============================================================================================================================\n",
      "\n",
      "\n",
      "+-------------------------------+--------+\n",
      "| Attack Results                |        |\n",
      "+-------------------------------+--------+\n",
      "| Number of successful attacks: | 333    |\n",
      "| Number of failed attacks:     | 26     |\n",
      "| Number of skipped attacks:    | 141    |\n",
      "| Original accuracy:            | 71.8%  |\n",
      "| Accuracy under attack:        | 5.2%   |\n",
      "| Attack success rate:          | 92.76% |\n",
      "| Average perturbed word %:     | 15.39% |\n",
      "| Average num. words per input: | 18.4   |\n",
      "| Avg num queries:              | 65.2   |\n",
      "+-------------------------------+--------+\n"
     ]
    },
    {
     "name": "stderr",
     "output_type": "stream",
     "text": [
      "\n"
     ]
    }
   ],
   "source": [
    "runAttack(bert_model_wrapper_rf_mr, n_samples, 'attack_results_new/bertmrattackrf'+suffix, target_ds_mr)"
   ]
  },
  {
   "cell_type": "code",
   "execution_count": 14,
   "id": "f75d34d5-d9aa-4d77-989d-db73f9ddeaab",
   "metadata": {},
   "outputs": [
    {
     "name": "stderr",
     "output_type": "stream",
     "text": [
      "textattack: Unknown if model of class <class 'transformers.models.bert.modeling_bert.BertModel'> compatible with goal function <class 'textattack.goal_functions.classification.untargeted_classification.UntargetedClassification'>.\n",
      "textattack: Logging to CSV at path attack_results_new/bertmrattackknnsim06.csv\n"
     ]
    },
    {
     "name": "stdout",
     "output_type": "stream",
     "text": [
      "Attack(\n",
      "  (search_method): GreedyWordSwapWIR(\n",
      "    (wir_method):  delete\n",
      "  )\n",
      "  (goal_function):  UntargetedClassification\n",
      "  (transformation):  WordSwapEmbedding(\n",
      "    (max_candidates):  50\n",
      "    (embedding):  WordEmbedding\n",
      "  )\n",
      "  (constraints): \n",
      "    (0): WordEmbeddingDistance(\n",
      "        (embedding):  WordEmbedding\n",
      "        (min_cos_sim):  0.6\n",
      "        (cased):  False\n",
      "        (include_unknown_words):  True\n",
      "        (compare_against_original):  True\n",
      "      )\n",
      "    (1): PartOfSpeech(\n",
      "        (tagger_type):  nltk\n",
      "        (tagset):  universal\n",
      "        (allow_verb_noun_swap):  True\n",
      "        (compare_against_original):  True\n",
      "      )\n",
      "    (2): UniversalSentenceEncoder(\n",
      "        (metric):  angular\n",
      "        (threshold):  0.840845057\n",
      "        (window_size):  15\n",
      "        (skip_text_shorter_than_window):  True\n",
      "        (compare_against_original):  False\n",
      "      )\n",
      "    (3): RepeatModification\n",
      "    (4): StopwordModification\n",
      "    (5): InputColumnModification(\n",
      "        (matching_column_labels):  ['premise', 'hypothesis']\n",
      "        (columns_to_ignore):  {'premise'}\n",
      "      )\n",
      "  (is_black_box):  True\n",
      ") \n",
      "\n"
     ]
    },
    {
     "name": "stderr",
     "output_type": "stream",
     "text": [
      "[Succeeded / Failed / Skipped / Total] 3 / 0 / 2 / 5:   1%|▎                           | 5/500 [00:11<19:15,  2.34s/it]textattack: Saving checkpoint under \"checkpoints\\1720189377114.ta.chkpt\" at 2024-07-05 22:22:57 after 5 attacks.\n",
      "[Succeeded / Failed / Skipped / Total] 3 / 0 / 3 / 6:   1%|▎                           | 6/500 [00:11<16:09,  1.96s/it]"
     ]
    },
    {
     "name": "stdout",
     "output_type": "stream",
     "text": [
      "\n",
      "\n",
      "=============================================================================================================================\n",
      "=============================================================================================================================\n",
      "\n"
     ]
    },
    {
     "name": "stderr",
     "output_type": "stream",
     "text": [
      "[Succeeded / Failed / Skipped / Total] 6 / 0 / 4 / 10:   2%|▌                         | 10/500 [00:15<12:35,  1.54s/it]textattack: Saving checkpoint under \"checkpoints\\1720189380855.ta.chkpt\" at 2024-07-05 22:23:00 after 10 attacks.\n"
     ]
    },
    {
     "name": "stdout",
     "output_type": "stream",
     "text": [
      "\n",
      "\n",
      "=============================================================================================================================\n",
      "=============================================================================================================================\n",
      "\n"
     ]
    },
    {
     "name": "stderr",
     "output_type": "stream",
     "text": [
      "[Succeeded / Failed / Skipped / Total] 8 / 1 / 6 / 15:   3%|▊                         | 15/500 [00:44<23:56,  2.96s/it]textattack: Saving checkpoint under \"checkpoints\\1720189409861.ta.chkpt\" at 2024-07-05 22:23:29 after 15 attacks.\n"
     ]
    },
    {
     "name": "stdout",
     "output_type": "stream",
     "text": [
      "\n",
      "\n",
      "=============================================================================================================================\n",
      "=============================================================================================================================\n",
      "\n"
     ]
    },
    {
     "name": "stderr",
     "output_type": "stream",
     "text": [
      "[Succeeded / Failed / Skipped / Total] 12 / 1 / 7 / 20:   4%|█                        | 20/500 [00:47<18:50,  2.35s/it]textattack: Saving checkpoint under \"checkpoints\\1720189412538.ta.chkpt\" at 2024-07-05 22:23:32 after 20 attacks.\n"
     ]
    },
    {
     "name": "stdout",
     "output_type": "stream",
     "text": [
      "\n",
      "\n",
      "=============================================================================================================================\n",
      "=============================================================================================================================\n",
      "\n"
     ]
    },
    {
     "name": "stderr",
     "output_type": "stream",
     "text": [
      "[Succeeded / Failed / Skipped / Total] 16 / 1 / 8 / 25:   5%|█▎                       | 25/500 [00:52<16:32,  2.09s/it]textattack: Saving checkpoint under \"checkpoints\\1720189417674.ta.chkpt\" at 2024-07-05 22:23:37 after 25 attacks.\n"
     ]
    },
    {
     "name": "stdout",
     "output_type": "stream",
     "text": [
      "\n",
      "\n",
      "=============================================================================================================================\n",
      "=============================================================================================================================\n",
      "\n"
     ]
    },
    {
     "name": "stderr",
     "output_type": "stream",
     "text": [
      "[Succeeded / Failed / Skipped / Total] 21 / 1 / 8 / 30:   6%|█▌                       | 30/500 [01:00<15:40,  2.00s/it]textattack: Saving checkpoint under \"checkpoints\\1720189425499.ta.chkpt\" at 2024-07-05 22:23:45 after 30 attacks.\n",
      "[Succeeded / Failed / Skipped / Total] 21 / 1 / 9 / 31:   6%|█▌                       | 31/500 [01:00<15:10,  1.94s/it]"
     ]
    },
    {
     "name": "stdout",
     "output_type": "stream",
     "text": [
      "\n",
      "\n",
      "=============================================================================================================================\n",
      "=============================================================================================================================\n",
      "\n"
     ]
    },
    {
     "name": "stderr",
     "output_type": "stream",
     "text": [
      "[Succeeded / Failed / Skipped / Total] 24 / 1 / 10 / 35:   7%|█▋                      | 35/500 [01:03<14:09,  1.83s/it]textattack: Saving checkpoint under \"checkpoints\\1720189429356.ta.chkpt\" at 2024-07-05 22:23:49 after 35 attacks.\n"
     ]
    },
    {
     "name": "stdout",
     "output_type": "stream",
     "text": [
      "\n",
      "\n",
      "=============================================================================================================================\n",
      "=============================================================================================================================\n",
      "\n"
     ]
    },
    {
     "name": "stderr",
     "output_type": "stream",
     "text": [
      "[Succeeded / Failed / Skipped / Total] 27 / 1 / 12 / 40:   8%|█▉                      | 40/500 [01:07<12:54,  1.68s/it]textattack: Saving checkpoint under \"checkpoints\\1720189432744.ta.chkpt\" at 2024-07-05 22:23:52 after 40 attacks.\n"
     ]
    },
    {
     "name": "stdout",
     "output_type": "stream",
     "text": [
      "\n",
      "\n",
      "=============================================================================================================================\n",
      "=============================================================================================================================\n",
      "\n"
     ]
    },
    {
     "name": "stderr",
     "output_type": "stream",
     "text": [
      "[Succeeded / Failed / Skipped / Total] 30 / 1 / 14 / 45:   9%|██▏                     | 45/500 [01:14<12:35,  1.66s/it]textattack: Saving checkpoint under \"checkpoints\\1720189440125.ta.chkpt\" at 2024-07-05 22:24:00 after 45 attacks.\n"
     ]
    },
    {
     "name": "stdout",
     "output_type": "stream",
     "text": [
      "\n",
      "\n",
      "=============================================================================================================================\n",
      "=============================================================================================================================\n",
      "\n"
     ]
    },
    {
     "name": "stderr",
     "output_type": "stream",
     "text": [
      "[Succeeded / Failed / Skipped / Total] 33 / 1 / 16 / 50:  10%|██▍                     | 50/500 [01:18<11:44,  1.57s/it]textattack: Saving checkpoint under \"checkpoints\\1720189443733.ta.chkpt\" at 2024-07-05 22:24:03 after 50 attacks.\n"
     ]
    },
    {
     "name": "stdout",
     "output_type": "stream",
     "text": [
      "\n",
      "\n",
      "=============================================================================================================================\n",
      "=============================================================================================================================\n",
      "\n"
     ]
    },
    {
     "name": "stderr",
     "output_type": "stream",
     "text": [
      "[Succeeded / Failed / Skipped / Total] 37 / 1 / 17 / 55:  11%|██▋                     | 55/500 [01:25<11:32,  1.56s/it]textattack: Saving checkpoint under \"checkpoints\\1720189451039.ta.chkpt\" at 2024-07-05 22:24:11 after 55 attacks.\n"
     ]
    },
    {
     "name": "stdout",
     "output_type": "stream",
     "text": [
      "\n",
      "\n",
      "=============================================================================================================================\n",
      "=============================================================================================================================\n",
      "\n"
     ]
    },
    {
     "name": "stderr",
     "output_type": "stream",
     "text": [
      "[Succeeded / Failed / Skipped / Total] 41 / 1 / 18 / 60:  12%|██▉                     | 60/500 [01:30<11:04,  1.51s/it]textattack: Saving checkpoint under \"checkpoints\\1720189456008.ta.chkpt\" at 2024-07-05 22:24:16 after 60 attacks.\n"
     ]
    },
    {
     "name": "stdout",
     "output_type": "stream",
     "text": [
      "\n",
      "\n",
      "=============================================================================================================================\n",
      "=============================================================================================================================\n",
      "\n"
     ]
    },
    {
     "name": "stderr",
     "output_type": "stream",
     "text": [
      "[Succeeded / Failed / Skipped / Total] 46 / 1 / 18 / 65:  13%|███                     | 65/500 [01:35<10:37,  1.47s/it]textattack: Saving checkpoint under \"checkpoints\\1720189460685.ta.chkpt\" at 2024-07-05 22:24:20 after 65 attacks.\n",
      "[Succeeded / Failed / Skipped / Total] 46 / 1 / 19 / 66:  13%|███▏                    | 66/500 [01:35<10:26,  1.44s/it]"
     ]
    },
    {
     "name": "stdout",
     "output_type": "stream",
     "text": [
      "\n",
      "\n",
      "=============================================================================================================================\n",
      "=============================================================================================================================\n",
      "\n"
     ]
    },
    {
     "name": "stderr",
     "output_type": "stream",
     "text": [
      "[Succeeded / Failed / Skipped / Total] 50 / 1 / 19 / 70:  14%|███▎                    | 70/500 [01:41<10:20,  1.44s/it]textattack: Saving checkpoint under \"checkpoints\\1720189466482.ta.chkpt\" at 2024-07-05 22:24:26 after 70 attacks.\n"
     ]
    },
    {
     "name": "stdout",
     "output_type": "stream",
     "text": [
      "\n",
      "\n",
      "=============================================================================================================================\n",
      "=============================================================================================================================\n",
      "\n"
     ]
    },
    {
     "name": "stderr",
     "output_type": "stream",
     "text": [
      "[Succeeded / Failed / Skipped / Total] 54 / 1 / 20 / 75:  15%|███▌                    | 75/500 [01:47<10:07,  1.43s/it]textattack: Saving checkpoint under \"checkpoints\\1720189472629.ta.chkpt\" at 2024-07-05 22:24:32 after 75 attacks.\n",
      "[Succeeded / Failed / Skipped / Total] 54 / 1 / 21 / 76:  15%|███▋                    | 76/500 [01:47<09:58,  1.41s/it]"
     ]
    },
    {
     "name": "stdout",
     "output_type": "stream",
     "text": [
      "\n",
      "\n",
      "=============================================================================================================================\n",
      "=============================================================================================================================\n",
      "\n"
     ]
    },
    {
     "name": "stderr",
     "output_type": "stream",
     "text": [
      "[Succeeded / Failed / Skipped / Total] 58 / 1 / 21 / 80:  16%|███▊                    | 80/500 [01:54<10:02,  1.43s/it]textattack: Saving checkpoint under \"checkpoints\\1720189480235.ta.chkpt\" at 2024-07-05 22:24:40 after 80 attacks.\n"
     ]
    },
    {
     "name": "stdout",
     "output_type": "stream",
     "text": [
      "\n",
      "\n",
      "=============================================================================================================================\n",
      "=============================================================================================================================\n",
      "\n"
     ]
    },
    {
     "name": "stderr",
     "output_type": "stream",
     "text": [
      "[Succeeded / Failed / Skipped / Total] 62 / 1 / 22 / 85:  17%|████                    | 85/500 [02:01<09:53,  1.43s/it]textattack: Saving checkpoint under \"checkpoints\\1720189487024.ta.chkpt\" at 2024-07-05 22:24:47 after 85 attacks.\n",
      "[Succeeded / Failed / Skipped / Total] 62 / 1 / 23 / 86:  17%|████▏                   | 86/500 [02:01<09:45,  1.41s/it]"
     ]
    },
    {
     "name": "stdout",
     "output_type": "stream",
     "text": [
      "\n",
      "\n",
      "=============================================================================================================================\n",
      "=============================================================================================================================\n",
      "\n"
     ]
    },
    {
     "name": "stderr",
     "output_type": "stream",
     "text": [
      "[Succeeded / Failed / Skipped / Total] 66 / 1 / 23 / 90:  18%|████▎                   | 90/500 [02:08<09:43,  1.42s/it]textattack: Saving checkpoint under \"checkpoints\\1720189493448.ta.chkpt\" at 2024-07-05 22:24:53 after 90 attacks.\n",
      "[Succeeded / Failed / Skipped / Total] 66 / 1 / 24 / 91:  18%|████▍                   | 92/500 [02:08<09:28,  1.39s/it]"
     ]
    },
    {
     "name": "stdout",
     "output_type": "stream",
     "text": [
      "\n",
      "\n",
      "=============================================================================================================================\n",
      "=============================================================================================================================\n",
      "\n"
     ]
    },
    {
     "name": "stderr",
     "output_type": "stream",
     "text": [
      "[Succeeded / Failed / Skipped / Total] 66 / 1 / 28 / 95:  19%|████▌                   | 95/500 [02:08<09:08,  1.35s/it]textattack: Saving checkpoint under \"checkpoints\\1720189494007.ta.chkpt\" at 2024-07-05 22:24:54 after 95 attacks.\n"
     ]
    },
    {
     "name": "stdout",
     "output_type": "stream",
     "text": [
      "\n",
      "\n",
      "=============================================================================================================================\n",
      "=============================================================================================================================\n",
      "\n"
     ]
    },
    {
     "name": "stderr",
     "output_type": "stream",
     "text": [
      "[Succeeded / Failed / Skipped / Total] 70 / 2 / 28 / 100:  20%|████▍                 | 100/500 [02:20<09:23,  1.41s/it]textattack: Saving checkpoint under \"checkpoints\\1720189506275.ta.chkpt\" at 2024-07-05 22:25:06 after 100 attacks.\n"
     ]
    },
    {
     "name": "stdout",
     "output_type": "stream",
     "text": [
      "\n",
      "\n",
      "=============================================================================================================================\n",
      "=============================================================================================================================\n",
      "\n"
     ]
    },
    {
     "name": "stderr",
     "output_type": "stream",
     "text": [
      "[Succeeded / Failed / Skipped / Total] 72 / 3 / 30 / 105:  21%|████▌                 | 105/500 [02:26<09:09,  1.39s/it]textattack: Saving checkpoint under \"checkpoints\\1720189511642.ta.chkpt\" at 2024-07-05 22:25:11 after 105 attacks.\n",
      "[Succeeded / Failed / Skipped / Total] 72 / 3 / 31 / 106:  21%|████▋                 | 106/500 [02:26<09:03,  1.38s/it]"
     ]
    },
    {
     "name": "stdout",
     "output_type": "stream",
     "text": [
      "\n",
      "\n",
      "=============================================================================================================================\n",
      "=============================================================================================================================\n",
      "\n"
     ]
    },
    {
     "name": "stderr",
     "output_type": "stream",
     "text": [
      "[Succeeded / Failed / Skipped / Total] 76 / 3 / 31 / 110:  22%|████▊                 | 110/500 [02:33<09:03,  1.39s/it]textattack: Saving checkpoint under \"checkpoints\\1720189518772.ta.chkpt\" at 2024-07-05 22:25:18 after 110 attacks.\n"
     ]
    },
    {
     "name": "stdout",
     "output_type": "stream",
     "text": [
      "\n",
      "\n",
      "=============================================================================================================================\n",
      "=============================================================================================================================\n",
      "\n"
     ]
    },
    {
     "name": "stderr",
     "output_type": "stream",
     "text": [
      "[Succeeded / Failed / Skipped / Total] 79 / 4 / 32 / 115:  23%|█████                 | 115/500 [02:48<09:24,  1.47s/it]textattack: Saving checkpoint under \"checkpoints\\1720189534084.ta.chkpt\" at 2024-07-05 22:25:34 after 115 attacks.\n",
      "[Succeeded / Failed / Skipped / Total] 79 / 4 / 33 / 116:  23%|█████                 | 116/500 [02:48<09:18,  1.45s/it]"
     ]
    },
    {
     "name": "stdout",
     "output_type": "stream",
     "text": [
      "\n",
      "\n",
      "=============================================================================================================================\n",
      "=============================================================================================================================\n",
      "\n"
     ]
    },
    {
     "name": "stderr",
     "output_type": "stream",
     "text": [
      "[Succeeded / Failed / Skipped / Total] 82 / 4 / 34 / 120:  24%|█████▎                | 120/500 [02:52<09:05,  1.43s/it]textattack: Saving checkpoint under \"checkpoints\\1720189537626.ta.chkpt\" at 2024-07-05 22:25:37 after 120 attacks.\n"
     ]
    },
    {
     "name": "stdout",
     "output_type": "stream",
     "text": [
      "\n",
      "\n",
      "=============================================================================================================================\n",
      "=============================================================================================================================\n",
      "\n"
     ]
    },
    {
     "name": "stderr",
     "output_type": "stream",
     "text": [
      "[Succeeded / Failed / Skipped / Total] 84 / 4 / 37 / 125:  25%|█████▌                | 125/500 [02:56<08:50,  1.41s/it]textattack: Saving checkpoint under \"checkpoints\\1720189542181.ta.chkpt\" at 2024-07-05 22:25:42 after 125 attacks.\n"
     ]
    },
    {
     "name": "stdout",
     "output_type": "stream",
     "text": [
      "\n",
      "\n",
      "=============================================================================================================================\n",
      "=============================================================================================================================\n",
      "\n"
     ]
    },
    {
     "name": "stderr",
     "output_type": "stream",
     "text": [
      "[Succeeded / Failed / Skipped / Total] 87 / 4 / 39 / 130:  26%|█████▋                | 130/500 [02:59<08:32,  1.38s/it]textattack: Saving checkpoint under \"checkpoints\\1720189545417.ta.chkpt\" at 2024-07-05 22:25:45 after 130 attacks.\n",
      "[Succeeded / Failed / Skipped / Total] 87 / 4 / 40 / 131:  26%|█████▊                | 131/500 [03:00<08:27,  1.37s/it]"
     ]
    },
    {
     "name": "stdout",
     "output_type": "stream",
     "text": [
      "\n",
      "\n",
      "=============================================================================================================================\n",
      "=============================================================================================================================\n",
      "\n"
     ]
    },
    {
     "name": "stderr",
     "output_type": "stream",
     "text": [
      "[Succeeded / Failed / Skipped / Total] 90 / 4 / 41 / 135:  27%|█████▉                | 135/500 [03:03<08:16,  1.36s/it]textattack: Saving checkpoint under \"checkpoints\\1720189549205.ta.chkpt\" at 2024-07-05 22:25:49 after 135 attacks.\n"
     ]
    },
    {
     "name": "stdout",
     "output_type": "stream",
     "text": [
      "\n",
      "\n",
      "=============================================================================================================================\n",
      "=============================================================================================================================\n",
      "\n"
     ]
    },
    {
     "name": "stderr",
     "output_type": "stream",
     "text": [
      "[Succeeded / Failed / Skipped / Total] 94 / 4 / 42 / 140:  28%|██████▏               | 140/500 [03:10<08:10,  1.36s/it]textattack: Saving checkpoint under \"checkpoints\\1720189556022.ta.chkpt\" at 2024-07-05 22:25:56 after 140 attacks.\n",
      "[Succeeded / Failed / Skipped / Total] 94 / 4 / 43 / 141:  28%|██████▏               | 141/500 [03:10<08:05,  1.35s/it]"
     ]
    },
    {
     "name": "stdout",
     "output_type": "stream",
     "text": [
      "\n",
      "\n",
      "=============================================================================================================================\n",
      "=============================================================================================================================\n",
      "\n"
     ]
    },
    {
     "name": "stderr",
     "output_type": "stream",
     "text": [
      "[Succeeded / Failed / Skipped / Total] 97 / 4 / 44 / 145:  29%|██████▍               | 145/500 [03:13<07:54,  1.34s/it]textattack: Saving checkpoint under \"checkpoints\\1720189559283.ta.chkpt\" at 2024-07-05 22:25:59 after 145 attacks.\n"
     ]
    },
    {
     "name": "stdout",
     "output_type": "stream",
     "text": [
      "\n",
      "\n",
      "=============================================================================================================================\n",
      "=============================================================================================================================\n",
      "\n"
     ]
    },
    {
     "name": "stderr",
     "output_type": "stream",
     "text": [
      "[Succeeded / Failed / Skipped / Total] 102 / 4 / 44 / 150:  30%|██████▎              | 150/500 [03:18<07:43,  1.32s/it]textattack: Saving checkpoint under \"checkpoints\\1720189563991.ta.chkpt\" at 2024-07-05 22:26:03 after 150 attacks.\n"
     ]
    },
    {
     "name": "stdout",
     "output_type": "stream",
     "text": [
      "\n",
      "\n",
      "=============================================================================================================================\n",
      "=============================================================================================================================\n",
      "\n"
     ]
    },
    {
     "name": "stderr",
     "output_type": "stream",
     "text": [
      "[Succeeded / Failed / Skipped / Total] 104 / 4 / 47 / 155:  31%|██████▌              | 155/500 [03:20<07:25,  1.29s/it]textattack: Saving checkpoint under \"checkpoints\\1720189565752.ta.chkpt\" at 2024-07-05 22:26:05 after 155 attacks.\n",
      "[Succeeded / Failed / Skipped / Total] 104 / 4 / 48 / 156:  31%|██████▌              | 156/500 [03:20<07:21,  1.28s/it]"
     ]
    },
    {
     "name": "stdout",
     "output_type": "stream",
     "text": [
      "\n",
      "\n",
      "=============================================================================================================================\n",
      "=============================================================================================================================\n",
      "\n"
     ]
    },
    {
     "name": "stderr",
     "output_type": "stream",
     "text": [
      "[Succeeded / Failed / Skipped / Total] 107 / 4 / 49 / 160:  32%|██████▋              | 160/500 [03:24<07:14,  1.28s/it]textattack: Saving checkpoint under \"checkpoints\\1720189570090.ta.chkpt\" at 2024-07-05 22:26:10 after 160 attacks.\n"
     ]
    },
    {
     "name": "stdout",
     "output_type": "stream",
     "text": [
      "\n",
      "\n",
      "=============================================================================================================================\n",
      "=============================================================================================================================\n",
      "\n"
     ]
    },
    {
     "name": "stderr",
     "output_type": "stream",
     "text": [
      "[Succeeded / Failed / Skipped / Total] 110 / 5 / 50 / 165:  33%|██████▉              | 165/500 [03:38<07:22,  1.32s/it]textattack: Saving checkpoint under \"checkpoints\\1720189583562.ta.chkpt\" at 2024-07-05 22:26:23 after 165 attacks.\n",
      "[Succeeded / Failed / Skipped / Total] 110 / 5 / 51 / 166:  33%|██████▉              | 166/500 [03:38<07:19,  1.32s/it]"
     ]
    },
    {
     "name": "stdout",
     "output_type": "stream",
     "text": [
      "\n",
      "\n",
      "=============================================================================================================================\n",
      "=============================================================================================================================\n",
      "\n"
     ]
    },
    {
     "name": "stderr",
     "output_type": "stream",
     "text": [
      "[Succeeded / Failed / Skipped / Total] 112 / 5 / 53 / 170:  34%|███████▏             | 170/500 [03:44<07:15,  1.32s/it]textattack: Saving checkpoint under \"checkpoints\\1720189589811.ta.chkpt\" at 2024-07-05 22:26:29 after 170 attacks.\n"
     ]
    },
    {
     "name": "stdout",
     "output_type": "stream",
     "text": [
      "\n",
      "\n",
      "=============================================================================================================================\n",
      "=============================================================================================================================\n",
      "\n"
     ]
    },
    {
     "name": "stderr",
     "output_type": "stream",
     "text": [
      "[Succeeded / Failed / Skipped / Total] 115 / 6 / 54 / 175:  35%|███████▎             | 175/500 [03:59<07:25,  1.37s/it]textattack: Saving checkpoint under \"checkpoints\\1720189605253.ta.chkpt\" at 2024-07-05 22:26:45 after 175 attacks.\n",
      "[Succeeded / Failed / Skipped / Total] 115 / 6 / 56 / 177:  35%|███████▍             | 177/500 [03:59<07:17,  1.36s/it]"
     ]
    },
    {
     "name": "stdout",
     "output_type": "stream",
     "text": [
      "\n",
      "\n",
      "=============================================================================================================================\n",
      "=============================================================================================================================\n",
      "\n"
     ]
    },
    {
     "name": "stderr",
     "output_type": "stream",
     "text": [
      "[Succeeded / Failed / Skipped / Total] 117 / 6 / 57 / 180:  36%|███████▌             | 180/500 [04:02<07:11,  1.35s/it]textattack: Saving checkpoint under \"checkpoints\\1720189608176.ta.chkpt\" at 2024-07-05 22:26:48 after 180 attacks.\n",
      "[Succeeded / Failed / Skipped / Total] 117 / 6 / 58 / 181:  36%|███████▌             | 181/500 [04:02<07:07,  1.34s/it]"
     ]
    },
    {
     "name": "stdout",
     "output_type": "stream",
     "text": [
      "\n",
      "\n",
      "=============================================================================================================================\n",
      "=============================================================================================================================\n",
      "\n"
     ]
    },
    {
     "name": "stderr",
     "output_type": "stream",
     "text": [
      "[Succeeded / Failed / Skipped / Total] 119 / 6 / 60 / 185:  37%|███████▊             | 185/500 [04:04<06:56,  1.32s/it]textattack: Saving checkpoint under \"checkpoints\\1720189610028.ta.chkpt\" at 2024-07-05 22:26:50 after 185 attacks.\n"
     ]
    },
    {
     "name": "stdout",
     "output_type": "stream",
     "text": [
      "\n",
      "\n",
      "=============================================================================================================================\n",
      "=============================================================================================================================\n",
      "\n"
     ]
    },
    {
     "name": "stderr",
     "output_type": "stream",
     "text": [
      "[Succeeded / Failed / Skipped / Total] 123 / 6 / 61 / 190:  38%|███████▉             | 190/500 [04:12<06:52,  1.33s/it]textattack: Saving checkpoint under \"checkpoints\\1720189618115.ta.chkpt\" at 2024-07-05 22:26:58 after 190 attacks.\n"
     ]
    },
    {
     "name": "stdout",
     "output_type": "stream",
     "text": [
      "\n",
      "\n",
      "=============================================================================================================================\n",
      "=============================================================================================================================\n",
      "\n"
     ]
    },
    {
     "name": "stderr",
     "output_type": "stream",
     "text": [
      "[Succeeded / Failed / Skipped / Total] 127 / 6 / 62 / 195:  39%|████████▏            | 195/500 [04:21<06:48,  1.34s/it]textattack: Saving checkpoint under \"checkpoints\\1720189626806.ta.chkpt\" at 2024-07-05 22:27:06 after 195 attacks.\n",
      "[Succeeded / Failed / Skipped / Total] 127 / 6 / 63 / 196:  39%|████████▏            | 196/500 [04:21<06:45,  1.33s/it]"
     ]
    },
    {
     "name": "stdout",
     "output_type": "stream",
     "text": [
      "\n",
      "\n",
      "=============================================================================================================================\n",
      "=============================================================================================================================\n",
      "\n"
     ]
    },
    {
     "name": "stderr",
     "output_type": "stream",
     "text": [
      "[Succeeded / Failed / Skipped / Total] 130 / 6 / 64 / 200:  40%|████████▍            | 200/500 [04:29<06:44,  1.35s/it]textattack: Saving checkpoint under \"checkpoints\\1720189635362.ta.chkpt\" at 2024-07-05 22:27:15 after 200 attacks.\n"
     ]
    },
    {
     "name": "stdout",
     "output_type": "stream",
     "text": [
      "\n",
      "\n",
      "=============================================================================================================================\n",
      "=============================================================================================================================\n",
      "\n"
     ]
    },
    {
     "name": "stderr",
     "output_type": "stream",
     "text": [
      "[Succeeded / Failed / Skipped / Total] 134 / 6 / 65 / 205:  41%|████████▌            | 205/500 [04:35<06:36,  1.34s/it]textattack: Saving checkpoint under \"checkpoints\\1720189641086.ta.chkpt\" at 2024-07-05 22:27:21 after 205 attacks.\n",
      "[Succeeded / Failed / Skipped / Total] 134 / 6 / 66 / 206:  41%|████████▋            | 206/500 [04:35<06:33,  1.34s/it]"
     ]
    },
    {
     "name": "stdout",
     "output_type": "stream",
     "text": [
      "\n",
      "\n",
      "=============================================================================================================================\n",
      "=============================================================================================================================\n",
      "\n"
     ]
    },
    {
     "name": "stderr",
     "output_type": "stream",
     "text": [
      "[Succeeded / Failed / Skipped / Total] 138 / 6 / 66 / 210:  42%|████████▊            | 210/500 [04:41<06:29,  1.34s/it]textattack: Saving checkpoint under \"checkpoints\\1720189647219.ta.chkpt\" at 2024-07-05 22:27:27 after 210 attacks.\n"
     ]
    },
    {
     "name": "stdout",
     "output_type": "stream",
     "text": [
      "\n",
      "\n",
      "=============================================================================================================================\n",
      "=============================================================================================================================\n",
      "\n"
     ]
    },
    {
     "name": "stderr",
     "output_type": "stream",
     "text": [
      "[Succeeded / Failed / Skipped / Total] 142 / 6 / 67 / 215:  43%|█████████            | 215/500 [04:46<06:19,  1.33s/it]textattack: Saving checkpoint under \"checkpoints\\1720189651978.ta.chkpt\" at 2024-07-05 22:27:31 after 215 attacks.\n"
     ]
    },
    {
     "name": "stdout",
     "output_type": "stream",
     "text": [
      "\n",
      "\n",
      "=============================================================================================================================\n",
      "=============================================================================================================================\n",
      "\n"
     ]
    },
    {
     "name": "stderr",
     "output_type": "stream",
     "text": [
      "[Succeeded / Failed / Skipped / Total] 146 / 6 / 68 / 220:  44%|█████████▏           | 220/500 [04:50<06:10,  1.32s/it]textattack: Saving checkpoint under \"checkpoints\\1720189656384.ta.chkpt\" at 2024-07-05 22:27:36 after 220 attacks.\n",
      "[Succeeded / Failed / Skipped / Total] 146 / 6 / 69 / 221:  44%|█████████▎           | 221/500 [04:51<06:07,  1.32s/it]"
     ]
    },
    {
     "name": "stdout",
     "output_type": "stream",
     "text": [
      "\n",
      "\n",
      "=============================================================================================================================\n",
      "=============================================================================================================================\n",
      "\n"
     ]
    },
    {
     "name": "stderr",
     "output_type": "stream",
     "text": [
      "[Succeeded / Failed / Skipped / Total] 148 / 6 / 71 / 225:  45%|█████████▍           | 225/500 [04:55<06:01,  1.31s/it]textattack: Saving checkpoint under \"checkpoints\\1720189660972.ta.chkpt\" at 2024-07-05 22:27:40 after 225 attacks.\n"
     ]
    },
    {
     "name": "stdout",
     "output_type": "stream",
     "text": [
      "\n",
      "\n",
      "=============================================================================================================================\n",
      "=============================================================================================================================\n",
      "\n"
     ]
    },
    {
     "name": "stderr",
     "output_type": "stream",
     "text": [
      "[Succeeded / Failed / Skipped / Total] 151 / 6 / 73 / 230:  46%|█████████▋           | 230/500 [04:58<05:50,  1.30s/it]textattack: Saving checkpoint under \"checkpoints\\1720189664429.ta.chkpt\" at 2024-07-05 22:27:44 after 230 attacks.\n"
     ]
    },
    {
     "name": "stdout",
     "output_type": "stream",
     "text": [
      "\n",
      "\n",
      "=============================================================================================================================\n",
      "=============================================================================================================================\n",
      "\n"
     ]
    },
    {
     "name": "stderr",
     "output_type": "stream",
     "text": [
      "[Succeeded / Failed / Skipped / Total] 154 / 6 / 75 / 235:  47%|█████████▊           | 235/500 [05:03<05:42,  1.29s/it]textattack: Saving checkpoint under \"checkpoints\\1720189669341.ta.chkpt\" at 2024-07-05 22:27:49 after 235 attacks.\n",
      "[Succeeded / Failed / Skipped / Total] 154 / 6 / 76 / 236:  47%|█████████▉           | 236/500 [05:04<05:40,  1.29s/it]"
     ]
    },
    {
     "name": "stdout",
     "output_type": "stream",
     "text": [
      "\n",
      "\n",
      "=============================================================================================================================\n",
      "=============================================================================================================================\n",
      "\n"
     ]
    },
    {
     "name": "stderr",
     "output_type": "stream",
     "text": [
      "[Succeeded / Failed / Skipped / Total] 157 / 7 / 76 / 240:  48%|██████████           | 240/500 [05:15<05:41,  1.31s/it]textattack: Saving checkpoint under \"checkpoints\\1720189680785.ta.chkpt\" at 2024-07-05 22:28:00 after 240 attacks.\n",
      "[Succeeded / Failed / Skipped / Total] 157 / 7 / 77 / 241:  48%|██████████           | 241/500 [05:15<05:39,  1.31s/it]"
     ]
    },
    {
     "name": "stdout",
     "output_type": "stream",
     "text": [
      "\n",
      "\n",
      "=============================================================================================================================\n",
      "=============================================================================================================================\n",
      "\n"
     ]
    },
    {
     "name": "stderr",
     "output_type": "stream",
     "text": [
      "[Succeeded / Failed / Skipped / Total] 160 / 7 / 78 / 245:  49%|██████████▎          | 245/500 [05:19<05:32,  1.31s/it]textattack: Saving checkpoint under \"checkpoints\\1720189685307.ta.chkpt\" at 2024-07-05 22:28:05 after 245 attacks.\n"
     ]
    },
    {
     "name": "stdout",
     "output_type": "stream",
     "text": [
      "\n",
      "\n",
      "=============================================================================================================================\n",
      "=============================================================================================================================\n",
      "\n"
     ]
    },
    {
     "name": "stderr",
     "output_type": "stream",
     "text": [
      "[Succeeded / Failed / Skipped / Total] 164 / 7 / 79 / 250:  50%|██████████▌          | 250/500 [05:27<05:27,  1.31s/it]textattack: Saving checkpoint under \"checkpoints\\1720189693074.ta.chkpt\" at 2024-07-05 22:28:13 after 250 attacks.\n",
      "[Succeeded / Failed / Skipped / Total] 164 / 7 / 80 / 251:  50%|██████████▌          | 251/500 [05:27<05:25,  1.31s/it]"
     ]
    },
    {
     "name": "stdout",
     "output_type": "stream",
     "text": [
      "\n",
      "\n",
      "=============================================================================================================================\n",
      "=============================================================================================================================\n",
      "\n"
     ]
    },
    {
     "name": "stderr",
     "output_type": "stream",
     "text": [
      "[Succeeded / Failed / Skipped / Total] 167 / 7 / 81 / 255:  51%|██████████▋          | 255/500 [05:32<05:19,  1.30s/it]textattack: Saving checkpoint under \"checkpoints\\1720189697604.ta.chkpt\" at 2024-07-05 22:28:17 after 255 attacks.\n"
     ]
    },
    {
     "name": "stdout",
     "output_type": "stream",
     "text": [
      "\n",
      "\n",
      "=============================================================================================================================\n",
      "=============================================================================================================================\n",
      "\n"
     ]
    },
    {
     "name": "stderr",
     "output_type": "stream",
     "text": [
      "[Succeeded / Failed / Skipped / Total] 169 / 7 / 84 / 260:  52%|██████████▉          | 260/500 [05:33<05:08,  1.28s/it]textattack: Saving checkpoint under \"checkpoints\\1720189699400.ta.chkpt\" at 2024-07-05 22:28:19 after 260 attacks.\n"
     ]
    },
    {
     "name": "stdout",
     "output_type": "stream",
     "text": [
      "\n",
      "\n",
      "=============================================================================================================================\n",
      "=============================================================================================================================\n",
      "\n"
     ]
    },
    {
     "name": "stderr",
     "output_type": "stream",
     "text": [
      "[Succeeded / Failed / Skipped / Total] 174 / 7 / 84 / 265:  53%|███████████▏         | 265/500 [05:40<05:01,  1.28s/it]textattack: Saving checkpoint under \"checkpoints\\1720189705833.ta.chkpt\" at 2024-07-05 22:28:25 after 265 attacks.\n",
      "[Succeeded / Failed / Skipped / Total] 174 / 7 / 85 / 266:  53%|███████████▏         | 266/500 [05:40<04:59,  1.28s/it]"
     ]
    },
    {
     "name": "stdout",
     "output_type": "stream",
     "text": [
      "\n",
      "\n",
      "=============================================================================================================================\n",
      "=============================================================================================================================\n",
      "\n"
     ]
    },
    {
     "name": "stderr",
     "output_type": "stream",
     "text": [
      "[Succeeded / Failed / Skipped / Total] 176 / 7 / 87 / 270:  54%|███████████▎         | 270/500 [05:48<04:57,  1.29s/it]textattack: Saving checkpoint under \"checkpoints\\1720189714422.ta.chkpt\" at 2024-07-05 22:28:34 after 270 attacks.\n"
     ]
    },
    {
     "name": "stdout",
     "output_type": "stream",
     "text": [
      "\n",
      "\n",
      "=============================================================================================================================\n",
      "=============================================================================================================================\n",
      "\n"
     ]
    },
    {
     "name": "stderr",
     "output_type": "stream",
     "text": [
      "[Succeeded / Failed / Skipped / Total] 178 / 7 / 90 / 275:  55%|███████████▌         | 275/500 [05:54<04:50,  1.29s/it]textattack: Saving checkpoint under \"checkpoints\\1720189720241.ta.chkpt\" at 2024-07-05 22:28:40 after 275 attacks.\n"
     ]
    },
    {
     "name": "stdout",
     "output_type": "stream",
     "text": [
      "\n",
      "\n",
      "=============================================================================================================================\n",
      "=============================================================================================================================\n",
      "\n"
     ]
    },
    {
     "name": "stderr",
     "output_type": "stream",
     "text": [
      "[Succeeded / Failed / Skipped / Total] 181 / 7 / 92 / 280:  56%|███████████▊         | 280/500 [05:58<04:41,  1.28s/it]textattack: Saving checkpoint under \"checkpoints\\1720189723988.ta.chkpt\" at 2024-07-05 22:28:43 after 280 attacks.\n"
     ]
    },
    {
     "name": "stdout",
     "output_type": "stream",
     "text": [
      "\n",
      "\n",
      "=============================================================================================================================\n",
      "=============================================================================================================================\n",
      "\n"
     ]
    },
    {
     "name": "stderr",
     "output_type": "stream",
     "text": [
      "[Succeeded / Failed / Skipped / Total] 186 / 7 / 92 / 285:  57%|███████████▉         | 285/500 [06:05<04:35,  1.28s/it]textattack: Saving checkpoint under \"checkpoints\\1720189731054.ta.chkpt\" at 2024-07-05 22:28:51 after 285 attacks.\n",
      "[Succeeded / Failed / Skipped / Total] 186 / 7 / 93 / 286:  57%|████████████         | 286/500 [06:05<04:33,  1.28s/it]"
     ]
    },
    {
     "name": "stdout",
     "output_type": "stream",
     "text": [
      "\n",
      "\n",
      "=============================================================================================================================\n",
      "=============================================================================================================================\n",
      "\n"
     ]
    },
    {
     "name": "stderr",
     "output_type": "stream",
     "text": [
      "[Succeeded / Failed / Skipped / Total] 188 / 7 / 95 / 290:  58%|████████████▏        | 290/500 [06:09<04:27,  1.27s/it]textattack: Saving checkpoint under \"checkpoints\\1720189735166.ta.chkpt\" at 2024-07-05 22:28:55 after 290 attacks.\n"
     ]
    },
    {
     "name": "stdout",
     "output_type": "stream",
     "text": [
      "\n",
      "\n",
      "=============================================================================================================================\n",
      "=============================================================================================================================\n",
      "\n"
     ]
    },
    {
     "name": "stderr",
     "output_type": "stream",
     "text": [
      "[Succeeded / Failed / Skipped / Total] 192 / 7 / 96 / 295:  59%|████████████▍        | 295/500 [06:15<04:21,  1.27s/it]textattack: Saving checkpoint under \"checkpoints\\1720189741220.ta.chkpt\" at 2024-07-05 22:29:01 after 295 attacks.\n"
     ]
    },
    {
     "name": "stdout",
     "output_type": "stream",
     "text": [
      "\n",
      "\n",
      "=============================================================================================================================\n",
      "=============================================================================================================================\n",
      "\n"
     ]
    },
    {
     "name": "stderr",
     "output_type": "stream",
     "text": [
      "[Succeeded / Failed / Skipped / Total] 196 / 7 / 97 / 300:  60%|████████████▌        | 300/500 [06:19<04:12,  1.26s/it]textattack: Saving checkpoint under \"checkpoints\\1720189744925.ta.chkpt\" at 2024-07-05 22:29:04 after 300 attacks.\n"
     ]
    },
    {
     "name": "stdout",
     "output_type": "stream",
     "text": [
      "\n",
      "\n",
      "=============================================================================================================================\n",
      "=============================================================================================================================\n",
      "\n"
     ]
    },
    {
     "name": "stderr",
     "output_type": "stream",
     "text": [
      "[Succeeded / Failed / Skipped / Total] 198 / 7 / 100 / 305:  61%|████████████▏       | 305/500 [06:21<04:03,  1.25s/it]textattack: Saving checkpoint under \"checkpoints\\1720189746558.ta.chkpt\" at 2024-07-05 22:29:06 after 305 attacks.\n"
     ]
    },
    {
     "name": "stdout",
     "output_type": "stream",
     "text": [
      "\n",
      "\n",
      "=============================================================================================================================\n",
      "=============================================================================================================================\n",
      "\n"
     ]
    },
    {
     "name": "stderr",
     "output_type": "stream",
     "text": [
      "[Succeeded / Failed / Skipped / Total] 202 / 7 / 101 / 310:  62%|████████████▍       | 310/500 [06:25<03:56,  1.24s/it]textattack: Saving checkpoint under \"checkpoints\\1720189751375.ta.chkpt\" at 2024-07-05 22:29:11 after 310 attacks.\n"
     ]
    },
    {
     "name": "stdout",
     "output_type": "stream",
     "text": [
      "\n",
      "\n",
      "=============================================================================================================================\n",
      "=============================================================================================================================\n",
      "\n"
     ]
    },
    {
     "name": "stderr",
     "output_type": "stream",
     "text": [
      "[Succeeded / Failed / Skipped / Total] 206 / 7 / 102 / 315:  63%|████████████▌       | 315/500 [06:30<03:49,  1.24s/it]textattack: Saving checkpoint under \"checkpoints\\1720189756318.ta.chkpt\" at 2024-07-05 22:29:16 after 315 attacks.\n",
      "[Succeeded / Failed / Skipped / Total] 206 / 7 / 103 / 316:  63%|████████████▋       | 316/500 [06:30<03:47,  1.24s/it]"
     ]
    },
    {
     "name": "stdout",
     "output_type": "stream",
     "text": [
      "\n",
      "\n",
      "=============================================================================================================================\n",
      "=============================================================================================================================\n",
      "\n"
     ]
    },
    {
     "name": "stderr",
     "output_type": "stream",
     "text": [
      "[Succeeded / Failed / Skipped / Total] 208 / 8 / 104 / 320:  64%|████████████▊       | 320/500 [06:46<03:48,  1.27s/it]textattack: Saving checkpoint under \"checkpoints\\1720189771614.ta.chkpt\" at 2024-07-05 22:29:31 after 320 attacks.\n"
     ]
    },
    {
     "name": "stdout",
     "output_type": "stream",
     "text": [
      "\n",
      "\n",
      "=============================================================================================================================\n",
      "=============================================================================================================================\n",
      "\n"
     ]
    },
    {
     "name": "stderr",
     "output_type": "stream",
     "text": [
      "[Succeeded / Failed / Skipped / Total] 212 / 8 / 105 / 325:  65%|█████████████       | 325/500 [07:07<03:50,  1.32s/it]textattack: Saving checkpoint under \"checkpoints\\1720189793197.ta.chkpt\" at 2024-07-05 22:29:53 after 325 attacks.\n"
     ]
    },
    {
     "name": "stdout",
     "output_type": "stream",
     "text": [
      "\n",
      "\n",
      "=============================================================================================================================\n",
      "=============================================================================================================================\n",
      "\n"
     ]
    },
    {
     "name": "stderr",
     "output_type": "stream",
     "text": [
      "[Succeeded / Failed / Skipped / Total] 215 / 8 / 107 / 330:  66%|█████████████▏      | 330/500 [07:11<03:42,  1.31s/it]textattack: Saving checkpoint under \"checkpoints\\1720189796850.ta.chkpt\" at 2024-07-05 22:29:56 after 330 attacks.\n",
      "[Succeeded / Failed / Skipped / Total] 215 / 8 / 108 / 331:  66%|█████████████▏      | 331/500 [07:11<03:40,  1.30s/it]"
     ]
    },
    {
     "name": "stdout",
     "output_type": "stream",
     "text": [
      "\n",
      "\n",
      "=============================================================================================================================\n",
      "=============================================================================================================================\n",
      "\n"
     ]
    },
    {
     "name": "stderr",
     "output_type": "stream",
     "text": [
      "[Succeeded / Failed / Skipped / Total] 218 / 8 / 109 / 335:  67%|█████████████▍      | 335/500 [07:21<03:37,  1.32s/it]textattack: Saving checkpoint under \"checkpoints\\1720189807417.ta.chkpt\" at 2024-07-05 22:30:07 after 335 attacks.\n",
      "[Succeeded / Failed / Skipped / Total] 218 / 8 / 110 / 336:  67%|█████████████▍      | 336/500 [07:22<03:35,  1.32s/it]"
     ]
    },
    {
     "name": "stdout",
     "output_type": "stream",
     "text": [
      "\n",
      "\n",
      "=============================================================================================================================\n",
      "=============================================================================================================================\n",
      "\n"
     ]
    },
    {
     "name": "stderr",
     "output_type": "stream",
     "text": [
      "[Succeeded / Failed / Skipped / Total] 221 / 8 / 111 / 340:  68%|█████████████▌      | 340/500 [07:27<03:30,  1.32s/it]textattack: Saving checkpoint under \"checkpoints\\1720189813422.ta.chkpt\" at 2024-07-05 22:30:13 after 340 attacks.\n"
     ]
    },
    {
     "name": "stdout",
     "output_type": "stream",
     "text": [
      "\n",
      "\n",
      "=============================================================================================================================\n",
      "=============================================================================================================================\n",
      "\n"
     ]
    },
    {
     "name": "stderr",
     "output_type": "stream",
     "text": [
      "[Succeeded / Failed / Skipped / Total] 224 / 8 / 113 / 345:  69%|█████████████▊      | 345/500 [07:33<03:23,  1.32s/it]textattack: Saving checkpoint under \"checkpoints\\1720189819364.ta.chkpt\" at 2024-07-05 22:30:19 after 345 attacks.\n"
     ]
    },
    {
     "name": "stdout",
     "output_type": "stream",
     "text": [
      "\n",
      "\n",
      "=============================================================================================================================\n",
      "=============================================================================================================================\n",
      "\n"
     ]
    },
    {
     "name": "stderr",
     "output_type": "stream",
     "text": [
      "[Succeeded / Failed / Skipped / Total] 229 / 8 / 113 / 350:  70%|██████████████      | 350/500 [07:41<03:17,  1.32s/it]textattack: Saving checkpoint under \"checkpoints\\1720189826554.ta.chkpt\" at 2024-07-05 22:30:26 after 350 attacks.\n"
     ]
    },
    {
     "name": "stdout",
     "output_type": "stream",
     "text": [
      "\n",
      "\n",
      "=============================================================================================================================\n",
      "=============================================================================================================================\n",
      "\n"
     ]
    },
    {
     "name": "stderr",
     "output_type": "stream",
     "text": [
      "[Succeeded / Failed / Skipped / Total] 234 / 8 / 113 / 355:  71%|██████████████▏     | 355/500 [07:49<03:11,  1.32s/it]textattack: Saving checkpoint under \"checkpoints\\1720189834821.ta.chkpt\" at 2024-07-05 22:30:34 after 355 attacks.\n",
      "[Succeeded / Failed / Skipped / Total] 234 / 8 / 114 / 356:  71%|██████████████▏     | 356/500 [07:49<03:09,  1.32s/it]"
     ]
    },
    {
     "name": "stdout",
     "output_type": "stream",
     "text": [
      "\n",
      "\n",
      "=============================================================================================================================\n",
      "=============================================================================================================================\n",
      "\n"
     ]
    },
    {
     "name": "stderr",
     "output_type": "stream",
     "text": [
      "[Succeeded / Failed / Skipped / Total] 238 / 8 / 114 / 360:  72%|██████████████▍     | 360/500 [07:55<03:05,  1.32s/it]textattack: Saving checkpoint under \"checkpoints\\1720189841440.ta.chkpt\" at 2024-07-05 22:30:41 after 360 attacks.\n"
     ]
    },
    {
     "name": "stdout",
     "output_type": "stream",
     "text": [
      "\n",
      "\n",
      "=============================================================================================================================\n",
      "=============================================================================================================================\n",
      "\n"
     ]
    },
    {
     "name": "stderr",
     "output_type": "stream",
     "text": [
      "[Succeeded / Failed / Skipped / Total] 241 / 8 / 116 / 365:  73%|██████████████▌     | 365/500 [08:01<02:57,  1.32s/it]textattack: Saving checkpoint under \"checkpoints\\1720189846484.ta.chkpt\" at 2024-07-05 22:30:46 after 365 attacks.\n"
     ]
    },
    {
     "name": "stdout",
     "output_type": "stream",
     "text": [
      "\n",
      "\n",
      "=============================================================================================================================\n",
      "=============================================================================================================================\n",
      "\n"
     ]
    },
    {
     "name": "stderr",
     "output_type": "stream",
     "text": [
      "[Succeeded / Failed / Skipped / Total] 245 / 8 / 117 / 370:  74%|██████████████▊     | 370/500 [08:05<02:50,  1.31s/it]textattack: Saving checkpoint under \"checkpoints\\1720189850724.ta.chkpt\" at 2024-07-05 22:30:50 after 370 attacks.\n"
     ]
    },
    {
     "name": "stdout",
     "output_type": "stream",
     "text": [
      "\n",
      "\n",
      "=============================================================================================================================\n",
      "=============================================================================================================================\n",
      "\n"
     ]
    },
    {
     "name": "stderr",
     "output_type": "stream",
     "text": [
      "[Succeeded / Failed / Skipped / Total] 249 / 8 / 118 / 375:  75%|███████████████     | 375/500 [08:11<02:43,  1.31s/it]textattack: Saving checkpoint under \"checkpoints\\1720189856718.ta.chkpt\" at 2024-07-05 22:30:56 after 375 attacks.\n",
      "[Succeeded / Failed / Skipped / Total] 249 / 8 / 119 / 376:  75%|███████████████     | 376/500 [08:11<02:42,  1.31s/it]"
     ]
    },
    {
     "name": "stdout",
     "output_type": "stream",
     "text": [
      "\n",
      "\n",
      "=============================================================================================================================\n",
      "=============================================================================================================================\n",
      "\n"
     ]
    },
    {
     "name": "stderr",
     "output_type": "stream",
     "text": [
      "[Succeeded / Failed / Skipped / Total] 252 / 8 / 120 / 380:  76%|███████████████▏    | 380/500 [08:14<02:36,  1.30s/it]textattack: Saving checkpoint under \"checkpoints\\1720189859517.ta.chkpt\" at 2024-07-05 22:30:59 after 380 attacks.\n"
     ]
    },
    {
     "name": "stdout",
     "output_type": "stream",
     "text": [
      "\n",
      "\n",
      "=============================================================================================================================\n",
      "=============================================================================================================================\n",
      "\n"
     ]
    },
    {
     "name": "stderr",
     "output_type": "stream",
     "text": [
      "[Succeeded / Failed / Skipped / Total] 257 / 8 / 120 / 385:  77%|███████████████▍    | 385/500 [08:28<02:31,  1.32s/it]textattack: Saving checkpoint under \"checkpoints\\1720189873781.ta.chkpt\" at 2024-07-05 22:31:13 after 385 attacks.\n"
     ]
    },
    {
     "name": "stdout",
     "output_type": "stream",
     "text": [
      "\n",
      "\n",
      "=============================================================================================================================\n",
      "=============================================================================================================================\n",
      "\n"
     ]
    },
    {
     "name": "stderr",
     "output_type": "stream",
     "text": [
      "[Succeeded / Failed / Skipped / Total] 261 / 8 / 121 / 390:  78%|███████████████▌    | 390/500 [08:31<02:24,  1.31s/it]textattack: Saving checkpoint under \"checkpoints\\1720189877316.ta.chkpt\" at 2024-07-05 22:31:17 after 390 attacks.\n",
      "[Succeeded / Failed / Skipped / Total] 261 / 8 / 122 / 391:  78%|███████████████▋    | 391/500 [08:31<02:22,  1.31s/it]"
     ]
    },
    {
     "name": "stdout",
     "output_type": "stream",
     "text": [
      "\n",
      "\n",
      "=============================================================================================================================\n",
      "=============================================================================================================================\n",
      "\n"
     ]
    },
    {
     "name": "stderr",
     "output_type": "stream",
     "text": [
      "[Succeeded / Failed / Skipped / Total] 264 / 8 / 123 / 395:  79%|███████████████▊    | 395/500 [08:37<02:17,  1.31s/it]textattack: Saving checkpoint under \"checkpoints\\1720189883002.ta.chkpt\" at 2024-07-05 22:31:23 after 395 attacks.\n"
     ]
    },
    {
     "name": "stdout",
     "output_type": "stream",
     "text": [
      "\n",
      "\n",
      "=============================================================================================================================\n",
      "=============================================================================================================================\n",
      "\n"
     ]
    },
    {
     "name": "stderr",
     "output_type": "stream",
     "text": [
      "[Succeeded / Failed / Skipped / Total] 268 / 8 / 124 / 400:  80%|████████████████    | 400/500 [08:44<02:11,  1.31s/it]textattack: Saving checkpoint under \"checkpoints\\1720189889748.ta.chkpt\" at 2024-07-05 22:31:29 after 400 attacks.\n"
     ]
    },
    {
     "name": "stdout",
     "output_type": "stream",
     "text": [
      "\n",
      "\n",
      "=============================================================================================================================\n",
      "=============================================================================================================================\n",
      "\n"
     ]
    },
    {
     "name": "stderr",
     "output_type": "stream",
     "text": [
      "[Succeeded / Failed / Skipped / Total] 271 / 9 / 125 / 405:  81%|████████████████▏   | 405/500 [09:00<02:06,  1.33s/it]textattack: Saving checkpoint under \"checkpoints\\1720189905451.ta.chkpt\" at 2024-07-05 22:31:45 after 405 attacks.\n"
     ]
    },
    {
     "name": "stdout",
     "output_type": "stream",
     "text": [
      "\n",
      "\n",
      "=============================================================================================================================\n",
      "=============================================================================================================================\n",
      "\n"
     ]
    },
    {
     "name": "stderr",
     "output_type": "stream",
     "text": [
      "[Succeeded / Failed / Skipped / Total] 276 / 9 / 125 / 410:  82%|████████████████▍   | 410/500 [09:06<02:00,  1.33s/it]textattack: Saving checkpoint under \"checkpoints\\1720189912119.ta.chkpt\" at 2024-07-05 22:31:52 after 410 attacks.\n"
     ]
    },
    {
     "name": "stdout",
     "output_type": "stream",
     "text": [
      "\n",
      "\n",
      "=============================================================================================================================\n",
      "=============================================================================================================================\n",
      "\n"
     ]
    },
    {
     "name": "stderr",
     "output_type": "stream",
     "text": [
      "[Succeeded / Failed / Skipped / Total] 278 / 9 / 128 / 415:  83%|████████████████▌   | 415/500 [09:09<01:52,  1.32s/it]textattack: Saving checkpoint under \"checkpoints\\1720189915105.ta.chkpt\" at 2024-07-05 22:31:55 after 415 attacks.\n"
     ]
    },
    {
     "name": "stdout",
     "output_type": "stream",
     "text": [
      "\n",
      "\n",
      "=============================================================================================================================\n",
      "=============================================================================================================================\n",
      "\n"
     ]
    },
    {
     "name": "stderr",
     "output_type": "stream",
     "text": [
      "[Succeeded / Failed / Skipped / Total] 280 / 9 / 131 / 420:  84%|████████████████▊   | 420/500 [09:13<01:45,  1.32s/it]textattack: Saving checkpoint under \"checkpoints\\1720189919017.ta.chkpt\" at 2024-07-05 22:31:59 after 420 attacks.\n"
     ]
    },
    {
     "name": "stdout",
     "output_type": "stream",
     "text": [
      "\n",
      "\n",
      "=============================================================================================================================\n",
      "=============================================================================================================================\n",
      "\n"
     ]
    },
    {
     "name": "stderr",
     "output_type": "stream",
     "text": [
      "[Succeeded / Failed / Skipped / Total] 285 / 9 / 131 / 425:  85%|█████████████████   | 425/500 [09:18<01:38,  1.32s/it]textattack: Saving checkpoint under \"checkpoints\\1720189924350.ta.chkpt\" at 2024-07-05 22:32:04 after 425 attacks.\n",
      "[Succeeded / Failed / Skipped / Total] 285 / 9 / 132 / 426:  85%|█████████████████   | 427/500 [09:19<01:35,  1.31s/it]"
     ]
    },
    {
     "name": "stdout",
     "output_type": "stream",
     "text": [
      "\n",
      "\n",
      "=============================================================================================================================\n",
      "=============================================================================================================================\n",
      "\n"
     ]
    },
    {
     "name": "stderr",
     "output_type": "stream",
     "text": [
      "[Succeeded / Failed / Skipped / Total] 286 / 9 / 135 / 430:  86%|█████████████████▏  | 430/500 [09:22<01:31,  1.31s/it]textattack: Saving checkpoint under \"checkpoints\\1720189927933.ta.chkpt\" at 2024-07-05 22:32:07 after 430 attacks.\n",
      "[Succeeded / Failed / Skipped / Total] 286 / 9 / 136 / 431:  86%|█████████████████▏  | 431/500 [09:22<01:30,  1.31s/it]"
     ]
    },
    {
     "name": "stdout",
     "output_type": "stream",
     "text": [
      "\n",
      "\n",
      "=============================================================================================================================\n",
      "=============================================================================================================================\n",
      "\n"
     ]
    },
    {
     "name": "stderr",
     "output_type": "stream",
     "text": [
      "[Succeeded / Failed / Skipped / Total] 289 / 9 / 137 / 435:  87%|█████████████████▍  | 435/500 [09:27<01:24,  1.31s/it]textattack: Saving checkpoint under \"checkpoints\\1720189933332.ta.chkpt\" at 2024-07-05 22:32:13 after 435 attacks.\n"
     ]
    },
    {
     "name": "stdout",
     "output_type": "stream",
     "text": [
      "\n",
      "\n",
      "=============================================================================================================================\n",
      "=============================================================================================================================\n",
      "\n"
     ]
    },
    {
     "name": "stderr",
     "output_type": "stream",
     "text": [
      "[Succeeded / Failed / Skipped / Total] 294 / 9 / 137 / 440:  88%|█████████████████▌  | 440/500 [09:35<01:18,  1.31s/it]textattack: Saving checkpoint under \"checkpoints\\1720189941090.ta.chkpt\" at 2024-07-05 22:32:21 after 440 attacks.\n",
      "[Succeeded / Failed / Skipped / Total] 294 / 9 / 138 / 441:  88%|█████████████████▋  | 441/500 [09:35<01:17,  1.31s/it]"
     ]
    },
    {
     "name": "stdout",
     "output_type": "stream",
     "text": [
      "\n",
      "\n",
      "=============================================================================================================================\n",
      "=============================================================================================================================\n",
      "\n"
     ]
    },
    {
     "name": "stderr",
     "output_type": "stream",
     "text": [
      "[Succeeded / Failed / Skipped / Total] 298 / 9 / 138 / 445:  89%|█████████████████▊  | 445/500 [09:40<01:11,  1.31s/it]textattack: Saving checkpoint under \"checkpoints\\1720189946367.ta.chkpt\" at 2024-07-05 22:32:26 after 445 attacks.\n"
     ]
    },
    {
     "name": "stdout",
     "output_type": "stream",
     "text": [
      "\n",
      "\n",
      "=============================================================================================================================\n",
      "=============================================================================================================================\n",
      "\n"
     ]
    },
    {
     "name": "stderr",
     "output_type": "stream",
     "text": [
      "[Succeeded / Failed / Skipped / Total] 301 / 9 / 140 / 450:  90%|██████████████████  | 450/500 [09:48<01:05,  1.31s/it]textattack: Saving checkpoint under \"checkpoints\\1720189954042.ta.chkpt\" at 2024-07-05 22:32:34 after 450 attacks.\n"
     ]
    },
    {
     "name": "stdout",
     "output_type": "stream",
     "text": [
      "\n",
      "\n",
      "=============================================================================================================================\n",
      "=============================================================================================================================\n",
      "\n"
     ]
    },
    {
     "name": "stderr",
     "output_type": "stream",
     "text": [
      "[Succeeded / Failed / Skipped / Total] 304 / 9 / 142 / 455:  91%|██████████████████▏ | 455/500 [09:53<00:58,  1.30s/it]textattack: Saving checkpoint under \"checkpoints\\1720189958769.ta.chkpt\" at 2024-07-05 22:32:38 after 455 attacks.\n"
     ]
    },
    {
     "name": "stdout",
     "output_type": "stream",
     "text": [
      "\n",
      "\n",
      "=============================================================================================================================\n",
      "=============================================================================================================================\n",
      "\n"
     ]
    },
    {
     "name": "stderr",
     "output_type": "stream",
     "text": [
      "[Succeeded / Failed / Skipped / Total] 308 / 9 / 143 / 460:  92%|██████████████████▍ | 460/500 [10:01<00:52,  1.31s/it]textattack: Saving checkpoint under \"checkpoints\\1720189967419.ta.chkpt\" at 2024-07-05 22:32:47 after 460 attacks.\n"
     ]
    },
    {
     "name": "stdout",
     "output_type": "stream",
     "text": [
      "\n",
      "\n",
      "=============================================================================================================================\n",
      "=============================================================================================================================\n",
      "\n"
     ]
    },
    {
     "name": "stderr",
     "output_type": "stream",
     "text": [
      "[Succeeded / Failed / Skipped / Total] 312 / 9 / 144 / 465:  93%|██████████████████▌ | 465/500 [10:14<00:46,  1.32s/it]textattack: Saving checkpoint under \"checkpoints\\1720189980224.ta.chkpt\" at 2024-07-05 22:33:00 after 465 attacks.\n"
     ]
    },
    {
     "name": "stdout",
     "output_type": "stream",
     "text": [
      "\n",
      "\n",
      "=============================================================================================================================\n",
      "=============================================================================================================================\n",
      "\n"
     ]
    },
    {
     "name": "stderr",
     "output_type": "stream",
     "text": [
      "[Succeeded / Failed / Skipped / Total] 317 / 9 / 144 / 470:  94%|██████████████████▊ | 470/500 [10:19<00:39,  1.32s/it]textattack: Saving checkpoint under \"checkpoints\\1720189985353.ta.chkpt\" at 2024-07-05 22:33:05 after 470 attacks.\n"
     ]
    },
    {
     "name": "stdout",
     "output_type": "stream",
     "text": [
      "\n",
      "\n",
      "=============================================================================================================================\n",
      "=============================================================================================================================\n",
      "\n"
     ]
    },
    {
     "name": "stderr",
     "output_type": "stream",
     "text": [
      "[Succeeded / Failed / Skipped / Total] 321 / 10 / 144 / 475:  95%|██████████████████ | 475/500 [10:39<00:33,  1.35s/it]textattack: Saving checkpoint under \"checkpoints\\1720190004930.ta.chkpt\" at 2024-07-05 22:33:24 after 475 attacks.\n"
     ]
    },
    {
     "name": "stdout",
     "output_type": "stream",
     "text": [
      "\n",
      "\n",
      "=============================================================================================================================\n",
      "=============================================================================================================================\n",
      "\n"
     ]
    },
    {
     "name": "stderr",
     "output_type": "stream",
     "text": [
      "[Succeeded / Failed / Skipped / Total] 325 / 10 / 145 / 480:  96%|██████████████████▏| 480/500 [10:44<00:26,  1.34s/it]textattack: Saving checkpoint under \"checkpoints\\1720190009465.ta.chkpt\" at 2024-07-05 22:33:29 after 480 attacks.\n"
     ]
    },
    {
     "name": "stdout",
     "output_type": "stream",
     "text": [
      "\n",
      "\n",
      "=============================================================================================================================\n",
      "=============================================================================================================================\n",
      "\n"
     ]
    },
    {
     "name": "stderr",
     "output_type": "stream",
     "text": [
      "[Succeeded / Failed / Skipped / Total] 328 / 10 / 147 / 485:  97%|██████████████████▍| 485/500 [10:48<00:20,  1.34s/it]textattack: Saving checkpoint under \"checkpoints\\1720190014300.ta.chkpt\" at 2024-07-05 22:33:34 after 485 attacks.\n",
      "[Succeeded / Failed / Skipped / Total] 328 / 10 / 148 / 486:  97%|██████████████████▍| 486/500 [10:48<00:18,  1.34s/it]"
     ]
    },
    {
     "name": "stdout",
     "output_type": "stream",
     "text": [
      "\n",
      "\n",
      "=============================================================================================================================\n",
      "=============================================================================================================================\n",
      "\n"
     ]
    },
    {
     "name": "stderr",
     "output_type": "stream",
     "text": [
      "[Succeeded / Failed / Skipped / Total] 331 / 10 / 149 / 490:  98%|██████████████████▌| 490/500 [10:54<00:13,  1.34s/it]textattack: Saving checkpoint under \"checkpoints\\1720190019819.ta.chkpt\" at 2024-07-05 22:33:39 after 490 attacks.\n",
      "[Succeeded / Failed / Skipped / Total] 331 / 10 / 150 / 491:  98%|██████████████████▋| 491/500 [10:54<00:11,  1.33s/it]"
     ]
    },
    {
     "name": "stdout",
     "output_type": "stream",
     "text": [
      "\n",
      "\n",
      "=============================================================================================================================\n",
      "=============================================================================================================================\n",
      "\n"
     ]
    },
    {
     "name": "stderr",
     "output_type": "stream",
     "text": [
      "[Succeeded / Failed / Skipped / Total] 334 / 10 / 151 / 495:  99%|██████████████████▊| 495/500 [10:59<00:06,  1.33s/it]textattack: Saving checkpoint under \"checkpoints\\1720190025217.ta.chkpt\" at 2024-07-05 22:33:45 after 495 attacks.\n"
     ]
    },
    {
     "name": "stdout",
     "output_type": "stream",
     "text": [
      "\n",
      "\n",
      "=============================================================================================================================\n",
      "=============================================================================================================================\n",
      "\n"
     ]
    },
    {
     "name": "stderr",
     "output_type": "stream",
     "text": [
      "[Succeeded / Failed / Skipped / Total] 337 / 10 / 153 / 500: 100%|███████████████████| 500/500 [11:04<00:00,  1.33s/it]textattack: Saving checkpoint under \"checkpoints\\1720190029504.ta.chkpt\" at 2024-07-05 22:33:49 after 500 attacks.\n",
      "[Succeeded / Failed / Skipped / Total] 337 / 10 / 153 / 500: 100%|███████████████████| 500/500 [11:04<00:00,  1.33s/it]"
     ]
    },
    {
     "name": "stdout",
     "output_type": "stream",
     "text": [
      "\n",
      "\n",
      "=============================================================================================================================\n",
      "=============================================================================================================================\n",
      "\n",
      "\n",
      "+-------------------------------+--------+\n",
      "| Attack Results                |        |\n",
      "+-------------------------------+--------+\n",
      "| Number of successful attacks: | 337    |\n",
      "| Number of failed attacks:     | 10     |\n",
      "| Number of skipped attacks:    | 153    |\n",
      "| Original accuracy:            | 69.4%  |\n",
      "| Accuracy under attack:        | 2.0%   |\n",
      "| Attack success rate:          | 97.12% |\n",
      "| Average perturbed word %:     | 8.89%  |\n",
      "| Average num. words per input: | 18.4   |\n",
      "| Avg num queries:              | 43.12  |\n",
      "+-------------------------------+--------+\n"
     ]
    },
    {
     "name": "stderr",
     "output_type": "stream",
     "text": [
      "\n"
     ]
    }
   ],
   "source": [
    "runAttack(bert_model_wrapper_knn_mr, n_samples, 'attack_results_new/bertmrattackknn'+suffix, target_ds_mr)"
   ]
  },
  {
   "cell_type": "code",
   "execution_count": 15,
   "id": "81e7d26b-097a-47d3-b9c6-b5d63790260c",
   "metadata": {},
   "outputs": [
    {
     "name": "stderr",
     "output_type": "stream",
     "text": [
      "textattack: Unknown if model of class <class 'transformers.models.bert.modeling_bert.BertModel'> compatible with goal function <class 'textattack.goal_functions.classification.untargeted_classification.UntargetedClassification'>.\n",
      "textattack: Logging to CSV at path attack_results_new/bertmrattacksvcsim06.csv\n"
     ]
    },
    {
     "name": "stdout",
     "output_type": "stream",
     "text": [
      "Attack(\n",
      "  (search_method): GreedyWordSwapWIR(\n",
      "    (wir_method):  delete\n",
      "  )\n",
      "  (goal_function):  UntargetedClassification\n",
      "  (transformation):  WordSwapEmbedding(\n",
      "    (max_candidates):  50\n",
      "    (embedding):  WordEmbedding\n",
      "  )\n",
      "  (constraints): \n",
      "    (0): WordEmbeddingDistance(\n",
      "        (embedding):  WordEmbedding\n",
      "        (min_cos_sim):  0.6\n",
      "        (cased):  False\n",
      "        (include_unknown_words):  True\n",
      "        (compare_against_original):  True\n",
      "      )\n",
      "    (1): PartOfSpeech(\n",
      "        (tagger_type):  nltk\n",
      "        (tagset):  universal\n",
      "        (allow_verb_noun_swap):  True\n",
      "        (compare_against_original):  True\n",
      "      )\n",
      "    (2): UniversalSentenceEncoder(\n",
      "        (metric):  angular\n",
      "        (threshold):  0.840845057\n",
      "        (window_size):  15\n",
      "        (skip_text_shorter_than_window):  True\n",
      "        (compare_against_original):  False\n",
      "      )\n",
      "    (3): RepeatModification\n",
      "    (4): StopwordModification\n",
      "    (5): InputColumnModification(\n",
      "        (matching_column_labels):  ['premise', 'hypothesis']\n",
      "        (columns_to_ignore):  {'premise'}\n",
      "      )\n",
      "  (is_black_box):  True\n",
      ") \n",
      "\n"
     ]
    },
    {
     "name": "stderr",
     "output_type": "stream",
     "text": [
      "[Succeeded / Failed / Skipped / Total] 4 / 0 / 1 / 5:   1%|▎                           | 5/500 [00:19<32:58,  4.00s/it]textattack: Saving checkpoint under \"checkpoints\\1720190049589.ta.chkpt\" at 2024-07-05 22:34:09 after 5 attacks.\n",
      "[Succeeded / Failed / Skipped / Total] 4 / 0 / 2 / 6:   1%|▎                           | 6/500 [00:20<27:40,  3.36s/it]"
     ]
    },
    {
     "name": "stdout",
     "output_type": "stream",
     "text": [
      "\n",
      "\n",
      "=============================================================================================================================\n",
      "=============================================================================================================================\n",
      "\n"
     ]
    },
    {
     "name": "stderr",
     "output_type": "stream",
     "text": [
      "[Succeeded / Failed / Skipped / Total] 6 / 0 / 4 / 10:   2%|▌                         | 10/500 [00:27<22:38,  2.77s/it]textattack: Saving checkpoint under \"checkpoints\\1720190057340.ta.chkpt\" at 2024-07-05 22:34:17 after 10 attacks.\n"
     ]
    },
    {
     "name": "stdout",
     "output_type": "stream",
     "text": [
      "\n",
      "\n",
      "=============================================================================================================================\n",
      "=============================================================================================================================\n",
      "\n"
     ]
    },
    {
     "name": "stderr",
     "output_type": "stream",
     "text": [
      "[Succeeded / Failed / Skipped / Total] 11 / 0 / 4 / 15:   3%|▊                        | 15/500 [00:58<31:40,  3.92s/it]textattack: Saving checkpoint under \"checkpoints\\1720190088387.ta.chkpt\" at 2024-07-05 22:34:48 after 15 attacks.\n"
     ]
    },
    {
     "name": "stdout",
     "output_type": "stream",
     "text": [
      "\n",
      "\n",
      "=============================================================================================================================\n",
      "=============================================================================================================================\n",
      "\n"
     ]
    },
    {
     "name": "stderr",
     "output_type": "stream",
     "text": [
      "[Succeeded / Failed / Skipped / Total] 14 / 1 / 5 / 20:   4%|█                        | 20/500 [01:03<25:21,  3.17s/it]textattack: Saving checkpoint under \"checkpoints\\1720190093001.ta.chkpt\" at 2024-07-05 22:34:53 after 20 attacks.\n"
     ]
    },
    {
     "name": "stdout",
     "output_type": "stream",
     "text": [
      "\n",
      "\n",
      "=============================================================================================================================\n",
      "=============================================================================================================================\n",
      "\n"
     ]
    },
    {
     "name": "stderr",
     "output_type": "stream",
     "text": [
      "[Succeeded / Failed / Skipped / Total] 17 / 1 / 7 / 25:   5%|█▎                       | 25/500 [01:12<22:57,  2.90s/it]textattack: Saving checkpoint under \"checkpoints\\1720190102086.ta.chkpt\" at 2024-07-05 22:35:02 after 25 attacks.\n"
     ]
    },
    {
     "name": "stdout",
     "output_type": "stream",
     "text": [
      "\n",
      "\n",
      "=============================================================================================================================\n",
      "=============================================================================================================================\n",
      "\n"
     ]
    },
    {
     "name": "stderr",
     "output_type": "stream",
     "text": [
      "[Succeeded / Failed / Skipped / Total] 22 / 1 / 7 / 30:   6%|█▌                       | 30/500 [01:26<22:30,  2.87s/it]textattack: Saving checkpoint under \"checkpoints\\1720190115816.ta.chkpt\" at 2024-07-05 22:35:15 after 30 attacks.\n"
     ]
    },
    {
     "name": "stdout",
     "output_type": "stream",
     "text": [
      "\n",
      "\n",
      "=============================================================================================================================\n",
      "=============================================================================================================================\n",
      "\n"
     ]
    },
    {
     "name": "stderr",
     "output_type": "stream",
     "text": [
      "[Succeeded / Failed / Skipped / Total] 25 / 2 / 8 / 35:   7%|█▊                       | 35/500 [01:35<21:02,  2.72s/it]textattack: Saving checkpoint under \"checkpoints\\1720190124637.ta.chkpt\" at 2024-07-05 22:35:24 after 35 attacks.\n"
     ]
    },
    {
     "name": "stdout",
     "output_type": "stream",
     "text": [
      "\n",
      "\n",
      "=============================================================================================================================\n",
      "=============================================================================================================================\n",
      "\n"
     ]
    },
    {
     "name": "stderr",
     "output_type": "stream",
     "text": [
      "[Succeeded / Failed / Skipped / Total] 28 / 2 / 10 / 40:   8%|█▉                      | 40/500 [01:43<19:50,  2.59s/it]textattack: Saving checkpoint under \"checkpoints\\1720190133116.ta.chkpt\" at 2024-07-05 22:35:33 after 40 attacks.\n"
     ]
    },
    {
     "name": "stdout",
     "output_type": "stream",
     "text": [
      "\n",
      "\n",
      "=============================================================================================================================\n",
      "=============================================================================================================================\n",
      "\n"
     ]
    },
    {
     "name": "stderr",
     "output_type": "stream",
     "text": [
      "[Succeeded / Failed / Skipped / Total] 32 / 2 / 11 / 45:   9%|██▏                     | 45/500 [01:56<19:42,  2.60s/it]textattack: Saving checkpoint under \"checkpoints\\1720190146607.ta.chkpt\" at 2024-07-05 22:35:46 after 45 attacks.\n"
     ]
    },
    {
     "name": "stdout",
     "output_type": "stream",
     "text": [
      "\n",
      "\n",
      "=============================================================================================================================\n",
      "=============================================================================================================================\n",
      "\n"
     ]
    },
    {
     "name": "stderr",
     "output_type": "stream",
     "text": [
      "[Succeeded / Failed / Skipped / Total] 37 / 2 / 11 / 50:  10%|██▍                     | 50/500 [02:10<19:36,  2.61s/it]textattack: Saving checkpoint under \"checkpoints\\1720190160286.ta.chkpt\" at 2024-07-05 22:36:00 after 50 attacks.\n"
     ]
    },
    {
     "name": "stdout",
     "output_type": "stream",
     "text": [
      "\n",
      "\n",
      "=============================================================================================================================\n",
      "=============================================================================================================================\n",
      "\n"
     ]
    },
    {
     "name": "stderr",
     "output_type": "stream",
     "text": [
      "[Succeeded / Failed / Skipped / Total] 42 / 2 / 11 / 55:  11%|██▋                     | 55/500 [02:23<19:18,  2.60s/it]textattack: Saving checkpoint under \"checkpoints\\1720190172809.ta.chkpt\" at 2024-07-05 22:36:12 after 55 attacks.\n"
     ]
    },
    {
     "name": "stdout",
     "output_type": "stream",
     "text": [
      "\n",
      "\n",
      "=============================================================================================================================\n",
      "=============================================================================================================================\n",
      "\n"
     ]
    },
    {
     "name": "stderr",
     "output_type": "stream",
     "text": [
      "[Succeeded / Failed / Skipped / Total] 46 / 2 / 12 / 60:  12%|██▉                     | 60/500 [02:32<18:35,  2.54s/it]textattack: Saving checkpoint under \"checkpoints\\1720190181760.ta.chkpt\" at 2024-07-05 22:36:21 after 60 attacks.\n",
      "[Succeeded / Failed / Skipped / Total] 46 / 2 / 13 / 61:  12%|██▉                     | 61/500 [02:32<18:15,  2.50s/it]"
     ]
    },
    {
     "name": "stdout",
     "output_type": "stream",
     "text": [
      "\n",
      "\n",
      "=============================================================================================================================\n",
      "=============================================================================================================================\n",
      "\n"
     ]
    },
    {
     "name": "stderr",
     "output_type": "stream",
     "text": [
      "[Succeeded / Failed / Skipped / Total] 50 / 2 / 13 / 65:  13%|███                     | 65/500 [02:39<17:45,  2.45s/it]textattack: Saving checkpoint under \"checkpoints\\1720190188784.ta.chkpt\" at 2024-07-05 22:36:28 after 65 attacks.\n"
     ]
    },
    {
     "name": "stdout",
     "output_type": "stream",
     "text": [
      "\n",
      "\n",
      "=============================================================================================================================\n",
      "=============================================================================================================================\n",
      "\n"
     ]
    },
    {
     "name": "stderr",
     "output_type": "stream",
     "text": [
      "[Succeeded / Failed / Skipped / Total] 53 / 3 / 14 / 70:  14%|███▎                    | 70/500 [02:51<17:31,  2.44s/it]textattack: Saving checkpoint under \"checkpoints\\1720190200737.ta.chkpt\" at 2024-07-05 22:36:40 after 70 attacks.\n"
     ]
    },
    {
     "name": "stdout",
     "output_type": "stream",
     "text": [
      "\n",
      "\n",
      "=============================================================================================================================\n",
      "=============================================================================================================================\n",
      "\n"
     ]
    },
    {
     "name": "stderr",
     "output_type": "stream",
     "text": [
      "[Succeeded / Failed / Skipped / Total] 57 / 3 / 15 / 75:  15%|███▌                    | 75/500 [02:55<16:34,  2.34s/it]textattack: Saving checkpoint under \"checkpoints\\1720190205150.ta.chkpt\" at 2024-07-05 22:36:45 after 75 attacks.\n",
      "[Succeeded / Failed / Skipped / Total] 57 / 3 / 16 / 76:  15%|███▋                    | 76/500 [02:55<16:19,  2.31s/it]"
     ]
    },
    {
     "name": "stdout",
     "output_type": "stream",
     "text": [
      "\n",
      "\n",
      "=============================================================================================================================\n",
      "=============================================================================================================================\n",
      "\n"
     ]
    },
    {
     "name": "stderr",
     "output_type": "stream",
     "text": [
      "[Succeeded / Failed / Skipped / Total] 61 / 3 / 16 / 80:  16%|███▊                    | 80/500 [03:13<16:57,  2.42s/it]textattack: Saving checkpoint under \"checkpoints\\1720190223486.ta.chkpt\" at 2024-07-05 22:37:03 after 80 attacks.\n"
     ]
    },
    {
     "name": "stdout",
     "output_type": "stream",
     "text": [
      "\n",
      "\n",
      "=============================================================================================================================\n",
      "=============================================================================================================================\n",
      "\n"
     ]
    },
    {
     "name": "stderr",
     "output_type": "stream",
     "text": [
      "[Succeeded / Failed / Skipped / Total] 64 / 3 / 18 / 85:  17%|████                    | 85/500 [03:18<16:10,  2.34s/it]textattack: Saving checkpoint under \"checkpoints\\1720190228349.ta.chkpt\" at 2024-07-05 22:37:08 after 85 attacks.\n"
     ]
    },
    {
     "name": "stdout",
     "output_type": "stream",
     "text": [
      "\n",
      "\n",
      "=============================================================================================================================\n",
      "=============================================================================================================================\n",
      "\n"
     ]
    },
    {
     "name": "stderr",
     "output_type": "stream",
     "text": [
      "[Succeeded / Failed / Skipped / Total] 69 / 3 / 18 / 90:  18%|████▎                   | 90/500 [03:30<16:00,  2.34s/it]textattack: Saving checkpoint under \"checkpoints\\1720190240555.ta.chkpt\" at 2024-07-05 22:37:20 after 90 attacks.\n",
      "[Succeeded / Failed / Skipped / Total] 69 / 3 / 19 / 91:  18%|████▎                   | 91/500 [03:31<15:48,  2.32s/it]"
     ]
    },
    {
     "name": "stdout",
     "output_type": "stream",
     "text": [
      "\n",
      "\n",
      "=============================================================================================================================\n",
      "=============================================================================================================================\n",
      "\n"
     ]
    },
    {
     "name": "stderr",
     "output_type": "stream",
     "text": [
      "[Succeeded / Failed / Skipped / Total] 72 / 3 / 20 / 95:  19%|████▌                   | 95/500 [03:39<15:33,  2.31s/it]textattack: Saving checkpoint under \"checkpoints\\1720190248625.ta.chkpt\" at 2024-07-05 22:37:28 after 95 attacks.\n"
     ]
    },
    {
     "name": "stdout",
     "output_type": "stream",
     "text": [
      "\n",
      "\n",
      "=============================================================================================================================\n",
      "=============================================================================================================================\n",
      "\n"
     ]
    },
    {
     "name": "stderr",
     "output_type": "stream",
     "text": [
      "[Succeeded / Failed / Skipped / Total] 77 / 3 / 20 / 100:  20%|████▍                 | 100/500 [03:52<15:28,  2.32s/it]textattack: Saving checkpoint under \"checkpoints\\1720190261762.ta.chkpt\" at 2024-07-05 22:37:41 after 100 attacks.\n"
     ]
    },
    {
     "name": "stdout",
     "output_type": "stream",
     "text": [
      "\n",
      "\n",
      "=============================================================================================================================\n",
      "=============================================================================================================================\n",
      "\n"
     ]
    },
    {
     "name": "stderr",
     "output_type": "stream",
     "text": [
      "[Succeeded / Failed / Skipped / Total] 82 / 3 / 20 / 105:  21%|████▌                 | 105/500 [04:06<15:28,  2.35s/it]textattack: Saving checkpoint under \"checkpoints\\1720190276363.ta.chkpt\" at 2024-07-05 22:37:56 after 105 attacks.\n",
      "[Succeeded / Failed / Skipped / Total] 82 / 3 / 21 / 106:  21%|████▋                 | 106/500 [04:06<15:17,  2.33s/it]"
     ]
    },
    {
     "name": "stdout",
     "output_type": "stream",
     "text": [
      "\n",
      "\n",
      "=============================================================================================================================\n",
      "=============================================================================================================================\n",
      "\n"
     ]
    },
    {
     "name": "stderr",
     "output_type": "stream",
     "text": [
      "[Succeeded / Failed / Skipped / Total] 85 / 3 / 22 / 110:  22%|████▊                 | 110/500 [04:12<14:54,  2.29s/it]textattack: Saving checkpoint under \"checkpoints\\1720190282038.ta.chkpt\" at 2024-07-05 22:38:02 after 110 attacks.\n",
      "[Succeeded / Failed / Skipped / Total] 85 / 3 / 23 / 111:  22%|████▉                 | 111/500 [04:12<14:45,  2.28s/it]"
     ]
    },
    {
     "name": "stdout",
     "output_type": "stream",
     "text": [
      "\n",
      "\n",
      "=============================================================================================================================\n",
      "=============================================================================================================================\n",
      "\n"
     ]
    },
    {
     "name": "stderr",
     "output_type": "stream",
     "text": [
      "[Succeeded / Failed / Skipped / Total] 89 / 3 / 23 / 115:  23%|█████                 | 115/500 [04:23<14:40,  2.29s/it]textattack: Saving checkpoint under \"checkpoints\\1720190292623.ta.chkpt\" at 2024-07-05 22:38:12 after 115 attacks.\n"
     ]
    },
    {
     "name": "stdout",
     "output_type": "stream",
     "text": [
      "\n",
      "\n",
      "=============================================================================================================================\n",
      "=============================================================================================================================\n",
      "\n"
     ]
    },
    {
     "name": "stderr",
     "output_type": "stream",
     "text": [
      "[Succeeded / Failed / Skipped / Total] 91 / 4 / 25 / 120:  24%|█████▎                | 120/500 [04:28<14:11,  2.24s/it]textattack: Saving checkpoint under \"checkpoints\\1720190298410.ta.chkpt\" at 2024-07-05 22:38:18 after 120 attacks.\n"
     ]
    },
    {
     "name": "stdout",
     "output_type": "stream",
     "text": [
      "\n",
      "\n",
      "=============================================================================================================================\n",
      "=============================================================================================================================\n",
      "\n"
     ]
    },
    {
     "name": "stderr",
     "output_type": "stream",
     "text": [
      "[Succeeded / Failed / Skipped / Total] 96 / 4 / 25 / 125:  25%|█████▌                | 125/500 [04:36<13:50,  2.22s/it]textattack: Saving checkpoint under \"checkpoints\\1720190306543.ta.chkpt\" at 2024-07-05 22:38:26 after 125 attacks.\n",
      "[Succeeded / Failed / Skipped / Total] 96 / 4 / 26 / 126:  25%|█████▌                | 126/500 [04:37<13:42,  2.20s/it]"
     ]
    },
    {
     "name": "stdout",
     "output_type": "stream",
     "text": [
      "\n",
      "\n",
      "=============================================================================================================================\n",
      "=============================================================================================================================\n",
      "\n"
     ]
    },
    {
     "name": "stderr",
     "output_type": "stream",
     "text": [
      "[Succeeded / Failed / Skipped / Total] 100 / 4 / 26 / 130:  26%|█████▍               | 130/500 [04:44<13:30,  2.19s/it]textattack: Saving checkpoint under \"checkpoints\\1720190314337.ta.chkpt\" at 2024-07-05 22:38:34 after 130 attacks.\n",
      "[Succeeded / Failed / Skipped / Total] 100 / 4 / 27 / 131:  26%|█████▌               | 131/500 [04:44<13:22,  2.17s/it]"
     ]
    },
    {
     "name": "stdout",
     "output_type": "stream",
     "text": [
      "\n",
      "\n",
      "=============================================================================================================================\n",
      "=============================================================================================================================\n",
      "\n"
     ]
    },
    {
     "name": "stderr",
     "output_type": "stream",
     "text": [
      "[Succeeded / Failed / Skipped / Total] 104 / 4 / 27 / 135:  27%|█████▋               | 135/500 [04:57<13:23,  2.20s/it]textattack: Saving checkpoint under \"checkpoints\\1720190326621.ta.chkpt\" at 2024-07-05 22:38:46 after 135 attacks.\n"
     ]
    },
    {
     "name": "stdout",
     "output_type": "stream",
     "text": [
      "\n",
      "\n",
      "=============================================================================================================================\n",
      "=============================================================================================================================\n",
      "\n"
     ]
    },
    {
     "name": "stderr",
     "output_type": "stream",
     "text": [
      "[Succeeded / Failed / Skipped / Total] 109 / 4 / 27 / 140:  28%|█████▉               | 140/500 [05:11<13:20,  2.22s/it]textattack: Saving checkpoint under \"checkpoints\\1720190340802.ta.chkpt\" at 2024-07-05 22:39:00 after 140 attacks.\n"
     ]
    },
    {
     "name": "stdout",
     "output_type": "stream",
     "text": [
      "\n",
      "\n",
      "=============================================================================================================================\n",
      "=============================================================================================================================\n",
      "\n"
     ]
    },
    {
     "name": "stderr",
     "output_type": "stream",
     "text": [
      "[Succeeded / Failed / Skipped / Total] 113 / 4 / 28 / 145:  29%|██████               | 145/500 [05:19<13:02,  2.21s/it]textattack: Saving checkpoint under \"checkpoints\\1720190349409.ta.chkpt\" at 2024-07-05 22:39:09 after 145 attacks.\n",
      "[Succeeded / Failed / Skipped / Total] 113 / 4 / 30 / 147:  29%|██████▏              | 147/500 [05:19<12:48,  2.18s/it]"
     ]
    },
    {
     "name": "stdout",
     "output_type": "stream",
     "text": [
      "\n",
      "\n",
      "=============================================================================================================================\n",
      "=============================================================================================================================\n",
      "\n"
     ]
    },
    {
     "name": "stderr",
     "output_type": "stream",
     "text": [
      "[Succeeded / Failed / Skipped / Total] 114 / 4 / 32 / 150:  30%|██████▎              | 150/500 [05:21<12:29,  2.14s/it]textattack: Saving checkpoint under \"checkpoints\\1720190351035.ta.chkpt\" at 2024-07-05 22:39:11 after 150 attacks.\n"
     ]
    },
    {
     "name": "stdout",
     "output_type": "stream",
     "text": [
      "\n",
      "\n",
      "=============================================================================================================================\n",
      "=============================================================================================================================\n",
      "\n"
     ]
    },
    {
     "name": "stderr",
     "output_type": "stream",
     "text": [
      "[Succeeded / Failed / Skipped / Total] 117 / 4 / 34 / 155:  31%|██████▌              | 155/500 [05:28<12:10,  2.12s/it]textattack: Saving checkpoint under \"checkpoints\\1720190357997.ta.chkpt\" at 2024-07-05 22:39:17 after 155 attacks.\n"
     ]
    },
    {
     "name": "stdout",
     "output_type": "stream",
     "text": [
      "\n",
      "\n",
      "=============================================================================================================================\n",
      "=============================================================================================================================\n",
      "\n"
     ]
    },
    {
     "name": "stderr",
     "output_type": "stream",
     "text": [
      "[Succeeded / Failed / Skipped / Total] 121 / 4 / 35 / 160:  32%|██████▋              | 160/500 [05:42<12:08,  2.14s/it]textattack: Saving checkpoint under \"checkpoints\\1720190372457.ta.chkpt\" at 2024-07-05 22:39:32 after 160 attacks.\n",
      "[Succeeded / Failed / Skipped / Total] 121 / 4 / 36 / 161:  32%|██████▊              | 161/500 [05:42<12:02,  2.13s/it]"
     ]
    },
    {
     "name": "stdout",
     "output_type": "stream",
     "text": [
      "\n",
      "\n",
      "=============================================================================================================================\n",
      "=============================================================================================================================\n",
      "\n"
     ]
    },
    {
     "name": "stderr",
     "output_type": "stream",
     "text": [
      "[Succeeded / Failed / Skipped / Total] 124 / 4 / 37 / 165:  33%|██████▉              | 165/500 [05:48<11:48,  2.11s/it]textattack: Saving checkpoint under \"checkpoints\\1720190378546.ta.chkpt\" at 2024-07-05 22:39:38 after 165 attacks.\n",
      "[Succeeded / Failed / Skipped / Total] 124 / 4 / 38 / 166:  33%|██████▉              | 166/500 [05:49<11:42,  2.10s/it]"
     ]
    },
    {
     "name": "stdout",
     "output_type": "stream",
     "text": [
      "\n",
      "\n",
      "=============================================================================================================================\n",
      "=============================================================================================================================\n",
      "\n"
     ]
    },
    {
     "name": "stderr",
     "output_type": "stream",
     "text": [
      "[Succeeded / Failed / Skipped / Total] 128 / 4 / 38 / 170:  34%|███████▏             | 170/500 [06:03<11:45,  2.14s/it]textattack: Saving checkpoint under \"checkpoints\\1720190393177.ta.chkpt\" at 2024-07-05 22:39:53 after 170 attacks.\n"
     ]
    },
    {
     "name": "stdout",
     "output_type": "stream",
     "text": [
      "\n",
      "\n",
      "=============================================================================================================================\n",
      "=============================================================================================================================\n",
      "\n"
     ]
    },
    {
     "name": "stderr",
     "output_type": "stream",
     "text": [
      "[Succeeded / Failed / Skipped / Total] 132 / 5 / 38 / 175:  35%|███████▎             | 175/500 [06:25<11:55,  2.20s/it]textattack: Saving checkpoint under \"checkpoints\\1720190415137.ta.chkpt\" at 2024-07-05 22:40:15 after 175 attacks.\n"
     ]
    },
    {
     "name": "stdout",
     "output_type": "stream",
     "text": [
      "\n",
      "\n",
      "=============================================================================================================================\n",
      "=============================================================================================================================\n",
      "\n"
     ]
    },
    {
     "name": "stderr",
     "output_type": "stream",
     "text": [
      "[Succeeded / Failed / Skipped / Total] 136 / 5 / 39 / 180:  36%|███████▌             | 180/500 [06:35<11:42,  2.20s/it]textattack: Saving checkpoint under \"checkpoints\\1720190424894.ta.chkpt\" at 2024-07-05 22:40:24 after 180 attacks.\n"
     ]
    },
    {
     "name": "stdout",
     "output_type": "stream",
     "text": [
      "\n",
      "\n",
      "=============================================================================================================================\n",
      "=============================================================================================================================\n",
      "\n"
     ]
    },
    {
     "name": "stderr",
     "output_type": "stream",
     "text": [
      "[Succeeded / Failed / Skipped / Total] 140 / 5 / 40 / 185:  37%|███████▊             | 185/500 [06:39<11:19,  2.16s/it]textattack: Saving checkpoint under \"checkpoints\\1720190428918.ta.chkpt\" at 2024-07-05 22:40:28 after 185 attacks.\n"
     ]
    },
    {
     "name": "stdout",
     "output_type": "stream",
     "text": [
      "\n",
      "\n",
      "=============================================================================================================================\n",
      "=============================================================================================================================\n",
      "\n"
     ]
    },
    {
     "name": "stderr",
     "output_type": "stream",
     "text": [
      "[Succeeded / Failed / Skipped / Total] 145 / 5 / 40 / 190:  38%|███████▉             | 190/500 [07:02<11:29,  2.22s/it]textattack: Saving checkpoint under \"checkpoints\\1720190452104.ta.chkpt\" at 2024-07-05 22:40:52 after 190 attacks.\n"
     ]
    },
    {
     "name": "stdout",
     "output_type": "stream",
     "text": [
      "\n",
      "\n",
      "=============================================================================================================================\n",
      "=============================================================================================================================\n",
      "\n"
     ]
    },
    {
     "name": "stderr",
     "output_type": "stream",
     "text": [
      "[Succeeded / Failed / Skipped / Total] 149 / 5 / 41 / 195:  39%|████████▏            | 195/500 [07:16<11:23,  2.24s/it]textattack: Saving checkpoint under \"checkpoints\\1720190466298.ta.chkpt\" at 2024-07-05 22:41:06 after 195 attacks.\n"
     ]
    },
    {
     "name": "stdout",
     "output_type": "stream",
     "text": [
      "\n",
      "\n",
      "=============================================================================================================================\n",
      "=============================================================================================================================\n",
      "\n"
     ]
    },
    {
     "name": "stderr",
     "output_type": "stream",
     "text": [
      "[Succeeded / Failed / Skipped / Total] 153 / 5 / 42 / 200:  40%|████████▍            | 200/500 [07:34<11:21,  2.27s/it]textattack: Saving checkpoint under \"checkpoints\\1720190484030.ta.chkpt\" at 2024-07-05 22:41:24 after 200 attacks.\n",
      "[Succeeded / Failed / Skipped / Total] 153 / 5 / 43 / 201:  40%|████████▍            | 201/500 [07:34<11:16,  2.26s/it]"
     ]
    },
    {
     "name": "stdout",
     "output_type": "stream",
     "text": [
      "\n",
      "\n",
      "=============================================================================================================================\n",
      "=============================================================================================================================\n",
      "\n"
     ]
    },
    {
     "name": "stderr",
     "output_type": "stream",
     "text": [
      "[Succeeded / Failed / Skipped / Total] 156 / 5 / 44 / 205:  41%|████████▌            | 205/500 [07:40<11:02,  2.25s/it]textattack: Saving checkpoint under \"checkpoints\\1720190489934.ta.chkpt\" at 2024-07-05 22:41:29 after 205 attacks.\n",
      "[Succeeded / Failed / Skipped / Total] 156 / 5 / 45 / 206:  41%|████████▋            | 206/500 [07:40<10:57,  2.23s/it]"
     ]
    },
    {
     "name": "stdout",
     "output_type": "stream",
     "text": [
      "\n",
      "\n",
      "=============================================================================================================================\n",
      "=============================================================================================================================\n",
      "\n"
     ]
    },
    {
     "name": "stderr",
     "output_type": "stream",
     "text": [
      "[Succeeded / Failed / Skipped / Total] 160 / 5 / 45 / 210:  42%|████████▊            | 210/500 [07:48<10:46,  2.23s/it]textattack: Saving checkpoint under \"checkpoints\\1720190497883.ta.chkpt\" at 2024-07-05 22:41:37 after 210 attacks.\n"
     ]
    },
    {
     "name": "stdout",
     "output_type": "stream",
     "text": [
      "\n",
      "\n",
      "=============================================================================================================================\n",
      "=============================================================================================================================\n",
      "\n"
     ]
    },
    {
     "name": "stderr",
     "output_type": "stream",
     "text": [
      "[Succeeded / Failed / Skipped / Total] 163 / 6 / 46 / 215:  43%|█████████            | 215/500 [08:03<10:41,  2.25s/it]textattack: Saving checkpoint under \"checkpoints\\1720190513449.ta.chkpt\" at 2024-07-05 22:41:53 after 215 attacks.\n"
     ]
    },
    {
     "name": "stdout",
     "output_type": "stream",
     "text": [
      "\n",
      "\n",
      "=============================================================================================================================\n",
      "=============================================================================================================================\n",
      "\n"
     ]
    },
    {
     "name": "stderr",
     "output_type": "stream",
     "text": [
      "[Succeeded / Failed / Skipped / Total] 168 / 6 / 46 / 220:  44%|█████████▏           | 220/500 [08:13<10:27,  2.24s/it]textattack: Saving checkpoint under \"checkpoints\\1720190522771.ta.chkpt\" at 2024-07-05 22:42:02 after 220 attacks.\n"
     ]
    },
    {
     "name": "stdout",
     "output_type": "stream",
     "text": [
      "\n",
      "\n",
      "=============================================================================================================================\n",
      "=============================================================================================================================\n",
      "\n"
     ]
    },
    {
     "name": "stderr",
     "output_type": "stream",
     "text": [
      "[Succeeded / Failed / Skipped / Total] 171 / 6 / 48 / 225:  45%|█████████▍           | 225/500 [08:25<10:17,  2.24s/it]textattack: Saving checkpoint under \"checkpoints\\1720190534616.ta.chkpt\" at 2024-07-05 22:42:14 after 225 attacks.\n"
     ]
    },
    {
     "name": "stdout",
     "output_type": "stream",
     "text": [
      "\n",
      "\n",
      "=============================================================================================================================\n",
      "=============================================================================================================================\n",
      "\n"
     ]
    },
    {
     "name": "stderr",
     "output_type": "stream",
     "text": [
      "[Succeeded / Failed / Skipped / Total] 176 / 6 / 48 / 230:  46%|█████████▋           | 230/500 [08:32<10:01,  2.23s/it]textattack: Saving checkpoint under \"checkpoints\\1720190542331.ta.chkpt\" at 2024-07-05 22:42:22 after 230 attacks.\n"
     ]
    },
    {
     "name": "stdout",
     "output_type": "stream",
     "text": [
      "\n",
      "\n",
      "=============================================================================================================================\n",
      "=============================================================================================================================\n",
      "\n"
     ]
    },
    {
     "name": "stderr",
     "output_type": "stream",
     "text": [
      "[Succeeded / Failed / Skipped / Total] 179 / 7 / 49 / 235:  47%|█████████▊           | 235/500 [08:46<09:53,  2.24s/it]textattack: Saving checkpoint under \"checkpoints\\1720190555954.ta.chkpt\" at 2024-07-05 22:42:35 after 235 attacks.\n",
      "[Succeeded / Failed / Skipped / Total] 179 / 7 / 50 / 236:  47%|█████████▉           | 236/500 [08:46<09:48,  2.23s/it]"
     ]
    },
    {
     "name": "stdout",
     "output_type": "stream",
     "text": [
      "\n",
      "\n",
      "=============================================================================================================================\n",
      "=============================================================================================================================\n",
      "\n"
     ]
    },
    {
     "name": "stderr",
     "output_type": "stream",
     "text": [
      "[Succeeded / Failed / Skipped / Total] 183 / 7 / 50 / 240:  48%|██████████           | 240/500 [08:57<09:42,  2.24s/it]textattack: Saving checkpoint under \"checkpoints\\1720190567296.ta.chkpt\" at 2024-07-05 22:42:47 after 240 attacks.\n"
     ]
    },
    {
     "name": "stdout",
     "output_type": "stream",
     "text": [
      "\n",
      "\n",
      "=============================================================================================================================\n",
      "=============================================================================================================================\n",
      "\n"
     ]
    },
    {
     "name": "stderr",
     "output_type": "stream",
     "text": [
      "[Succeeded / Failed / Skipped / Total] 187 / 8 / 50 / 245:  49%|██████████▎          | 245/500 [09:10<09:32,  2.25s/it]textattack: Saving checkpoint under \"checkpoints\\1720190579730.ta.chkpt\" at 2024-07-05 22:42:59 after 245 attacks.\n"
     ]
    },
    {
     "name": "stdout",
     "output_type": "stream",
     "text": [
      "\n",
      "\n",
      "=============================================================================================================================\n",
      "=============================================================================================================================\n",
      "\n"
     ]
    },
    {
     "name": "stderr",
     "output_type": "stream",
     "text": [
      "[Succeeded / Failed / Skipped / Total] 191 / 8 / 51 / 250:  50%|██████████▌          | 250/500 [09:16<09:16,  2.23s/it]textattack: Saving checkpoint under \"checkpoints\\1720190586538.ta.chkpt\" at 2024-07-05 22:43:06 after 250 attacks.\n",
      "[Succeeded / Failed / Skipped / Total] 191 / 8 / 52 / 251:  50%|██████████▌          | 251/500 [09:17<09:12,  2.22s/it]"
     ]
    },
    {
     "name": "stdout",
     "output_type": "stream",
     "text": [
      "\n",
      "\n",
      "=============================================================================================================================\n",
      "=============================================================================================================================\n",
      "\n"
     ]
    },
    {
     "name": "stderr",
     "output_type": "stream",
     "text": [
      "[Succeeded / Failed / Skipped / Total] 193 / 8 / 54 / 255:  51%|██████████▋          | 255/500 [09:22<09:00,  2.21s/it]textattack: Saving checkpoint under \"checkpoints\\1720190592375.ta.chkpt\" at 2024-07-05 22:43:12 after 255 attacks.\n"
     ]
    },
    {
     "name": "stdout",
     "output_type": "stream",
     "text": [
      "\n",
      "\n",
      "=============================================================================================================================\n",
      "=============================================================================================================================\n",
      "\n"
     ]
    },
    {
     "name": "stderr",
     "output_type": "stream",
     "text": [
      "[Succeeded / Failed / Skipped / Total] 197 / 8 / 55 / 260:  52%|██████████▉          | 260/500 [09:31<08:47,  2.20s/it]textattack: Saving checkpoint under \"checkpoints\\1720190601230.ta.chkpt\" at 2024-07-05 22:43:21 after 260 attacks.\n"
     ]
    },
    {
     "name": "stdout",
     "output_type": "stream",
     "text": [
      "\n",
      "\n",
      "=============================================================================================================================\n",
      "=============================================================================================================================\n",
      "\n"
     ]
    },
    {
     "name": "stderr",
     "output_type": "stream",
     "text": [
      "[Succeeded / Failed / Skipped / Total] 201 / 8 / 56 / 265:  53%|███████████▏         | 265/500 [09:37<08:31,  2.18s/it]textattack: Saving checkpoint under \"checkpoints\\1720190606626.ta.chkpt\" at 2024-07-05 22:43:26 after 265 attacks.\n"
     ]
    },
    {
     "name": "stdout",
     "output_type": "stream",
     "text": [
      "\n",
      "\n",
      "=============================================================================================================================\n",
      "=============================================================================================================================\n",
      "\n"
     ]
    },
    {
     "name": "stderr",
     "output_type": "stream",
     "text": [
      "[Succeeded / Failed / Skipped / Total] 204 / 8 / 58 / 270:  54%|███████████▎         | 270/500 [09:51<08:23,  2.19s/it]textattack: Saving checkpoint under \"checkpoints\\1720190620644.ta.chkpt\" at 2024-07-05 22:43:40 after 270 attacks.\n",
      "[Succeeded / Failed / Skipped / Total] 204 / 8 / 60 / 272:  54%|███████████▍         | 272/500 [09:51<08:15,  2.17s/it]"
     ]
    },
    {
     "name": "stdout",
     "output_type": "stream",
     "text": [
      "\n",
      "\n",
      "=============================================================================================================================\n",
      "=============================================================================================================================\n",
      "\n"
     ]
    },
    {
     "name": "stderr",
     "output_type": "stream",
     "text": [
      "[Succeeded / Failed / Skipped / Total] 206 / 8 / 61 / 275:  55%|███████████▌         | 275/500 [09:57<08:08,  2.17s/it]textattack: Saving checkpoint under \"checkpoints\\1720190626904.ta.chkpt\" at 2024-07-05 22:43:46 after 275 attacks.\n"
     ]
    },
    {
     "name": "stdout",
     "output_type": "stream",
     "text": [
      "\n",
      "\n",
      "=============================================================================================================================\n",
      "=============================================================================================================================\n",
      "\n"
     ]
    },
    {
     "name": "stderr",
     "output_type": "stream",
     "text": [
      "[Succeeded / Failed / Skipped / Total] 208 / 9 / 63 / 280:  56%|███████████▊         | 280/500 [10:03<07:54,  2.16s/it]textattack: Saving checkpoint under \"checkpoints\\1720190633303.ta.chkpt\" at 2024-07-05 22:43:53 after 280 attacks.\n"
     ]
    },
    {
     "name": "stdout",
     "output_type": "stream",
     "text": [
      "\n",
      "\n",
      "=============================================================================================================================\n",
      "=============================================================================================================================\n",
      "\n"
     ]
    },
    {
     "name": "stderr",
     "output_type": "stream",
     "text": [
      "[Succeeded / Failed / Skipped / Total] 210 / 10 / 65 / 285:  57%|███████████▍        | 285/500 [10:12<07:42,  2.15s/it]textattack: Saving checkpoint under \"checkpoints\\1720190642309.ta.chkpt\" at 2024-07-05 22:44:02 after 285 attacks.\n",
      "[Succeeded / Failed / Skipped / Total] 210 / 10 / 67 / 287:  57%|███████████▍        | 287/500 [10:12<07:34,  2.14s/it]"
     ]
    },
    {
     "name": "stdout",
     "output_type": "stream",
     "text": [
      "\n",
      "\n",
      "=============================================================================================================================\n",
      "=============================================================================================================================\n",
      "\n"
     ]
    },
    {
     "name": "stderr",
     "output_type": "stream",
     "text": [
      "[Succeeded / Failed / Skipped / Total] 212 / 10 / 68 / 290:  58%|███████████▌        | 290/500 [10:18<07:27,  2.13s/it]textattack: Saving checkpoint under \"checkpoints\\1720190647968.ta.chkpt\" at 2024-07-05 22:44:07 after 290 attacks.\n",
      "[Succeeded / Failed / Skipped / Total] 212 / 10 / 69 / 291:  58%|███████████▋        | 291/500 [10:18<07:24,  2.13s/it]"
     ]
    },
    {
     "name": "stdout",
     "output_type": "stream",
     "text": [
      "\n",
      "\n",
      "=============================================================================================================================\n",
      "=============================================================================================================================\n",
      "\n"
     ]
    },
    {
     "name": "stderr",
     "output_type": "stream",
     "text": [
      "[Succeeded / Failed / Skipped / Total] 214 / 10 / 71 / 295:  59%|███████████▊        | 295/500 [10:23<07:12,  2.11s/it]textattack: Saving checkpoint under \"checkpoints\\1720190652645.ta.chkpt\" at 2024-07-05 22:44:12 after 295 attacks.\n"
     ]
    },
    {
     "name": "stdout",
     "output_type": "stream",
     "text": [
      "\n",
      "\n",
      "=============================================================================================================================\n",
      "=============================================================================================================================\n",
      "\n"
     ]
    },
    {
     "name": "stderr",
     "output_type": "stream",
     "text": [
      "[Succeeded / Failed / Skipped / Total] 217 / 11 / 72 / 300:  60%|████████████        | 300/500 [10:31<07:00,  2.10s/it]textattack: Saving checkpoint under \"checkpoints\\1720190660870.ta.chkpt\" at 2024-07-05 22:44:20 after 300 attacks.\n"
     ]
    },
    {
     "name": "stdout",
     "output_type": "stream",
     "text": [
      "\n",
      "\n",
      "=============================================================================================================================\n",
      "=============================================================================================================================\n",
      "\n"
     ]
    },
    {
     "name": "stderr",
     "output_type": "stream",
     "text": [
      "[Succeeded / Failed / Skipped / Total] 221 / 11 / 73 / 305:  61%|████████████▏       | 305/500 [10:43<06:51,  2.11s/it]textattack: Saving checkpoint under \"checkpoints\\1720190672964.ta.chkpt\" at 2024-07-05 22:44:32 after 305 attacks.\n"
     ]
    },
    {
     "name": "stdout",
     "output_type": "stream",
     "text": [
      "\n",
      "\n",
      "=============================================================================================================================\n",
      "=============================================================================================================================\n",
      "\n"
     ]
    },
    {
     "name": "stderr",
     "output_type": "stream",
     "text": [
      "[Succeeded / Failed / Skipped / Total] 224 / 11 / 75 / 310:  62%|████████████▍       | 310/500 [10:52<06:39,  2.10s/it]textattack: Saving checkpoint under \"checkpoints\\1720190681959.ta.chkpt\" at 2024-07-05 22:44:41 after 310 attacks.\n"
     ]
    },
    {
     "name": "stdout",
     "output_type": "stream",
     "text": [
      "\n",
      "\n",
      "=============================================================================================================================\n",
      "=============================================================================================================================\n",
      "\n"
     ]
    },
    {
     "name": "stderr",
     "output_type": "stream",
     "text": [
      "[Succeeded / Failed / Skipped / Total] 227 / 11 / 77 / 315:  63%|████████████▌       | 315/500 [10:57<06:26,  2.09s/it]textattack: Saving checkpoint under \"checkpoints\\1720190687153.ta.chkpt\" at 2024-07-05 22:44:47 after 315 attacks.\n"
     ]
    },
    {
     "name": "stdout",
     "output_type": "stream",
     "text": [
      "\n",
      "\n",
      "=============================================================================================================================\n",
      "=============================================================================================================================\n",
      "\n"
     ]
    },
    {
     "name": "stderr",
     "output_type": "stream",
     "text": [
      "[Succeeded / Failed / Skipped / Total] 231 / 11 / 78 / 320:  64%|████████████▊       | 320/500 [11:12<06:18,  2.10s/it]textattack: Saving checkpoint under \"checkpoints\\1720190702241.ta.chkpt\" at 2024-07-05 22:45:02 after 320 attacks.\n"
     ]
    },
    {
     "name": "stdout",
     "output_type": "stream",
     "text": [
      "\n",
      "\n",
      "=============================================================================================================================\n",
      "=============================================================================================================================\n",
      "\n"
     ]
    },
    {
     "name": "stderr",
     "output_type": "stream",
     "text": [
      "[Succeeded / Failed / Skipped / Total] 236 / 11 / 78 / 325:  65%|█████████████       | 325/500 [11:30<06:11,  2.13s/it]textattack: Saving checkpoint under \"checkpoints\\1720190720439.ta.chkpt\" at 2024-07-05 22:45:20 after 325 attacks.\n"
     ]
    },
    {
     "name": "stdout",
     "output_type": "stream",
     "text": [
      "\n",
      "\n",
      "=============================================================================================================================\n",
      "=============================================================================================================================\n",
      "\n"
     ]
    },
    {
     "name": "stderr",
     "output_type": "stream",
     "text": [
      "[Succeeded / Failed / Skipped / Total] 241 / 11 / 78 / 330:  66%|█████████████▏      | 330/500 [11:38<06:00,  2.12s/it]textattack: Saving checkpoint under \"checkpoints\\1720190728495.ta.chkpt\" at 2024-07-05 22:45:28 after 330 attacks.\n"
     ]
    },
    {
     "name": "stdout",
     "output_type": "stream",
     "text": [
      "\n",
      "\n",
      "=============================================================================================================================\n",
      "=============================================================================================================================\n",
      "\n"
     ]
    },
    {
     "name": "stderr",
     "output_type": "stream",
     "text": [
      "[Succeeded / Failed / Skipped / Total] 246 / 11 / 78 / 335:  67%|█████████████▍      | 335/500 [11:56<05:52,  2.14s/it]textattack: Saving checkpoint under \"checkpoints\\1720190745876.ta.chkpt\" at 2024-07-05 22:45:45 after 335 attacks.\n",
      "[Succeeded / Failed / Skipped / Total] 246 / 11 / 79 / 336:  67%|█████████████▍      | 336/500 [11:56<05:49,  2.13s/it]"
     ]
    },
    {
     "name": "stdout",
     "output_type": "stream",
     "text": [
      "\n",
      "\n",
      "=============================================================================================================================\n",
      "=============================================================================================================================\n",
      "\n"
     ]
    },
    {
     "name": "stderr",
     "output_type": "stream",
     "text": [
      "[Succeeded / Failed / Skipped / Total] 249 / 11 / 80 / 340:  68%|█████████████▌      | 340/500 [11:59<05:38,  2.12s/it]textattack: Saving checkpoint under \"checkpoints\\1720190749312.ta.chkpt\" at 2024-07-05 22:45:49 after 340 attacks.\n"
     ]
    },
    {
     "name": "stdout",
     "output_type": "stream",
     "text": [
      "\n",
      "\n",
      "=============================================================================================================================\n",
      "=============================================================================================================================\n",
      "\n"
     ]
    },
    {
     "name": "stderr",
     "output_type": "stream",
     "text": [
      "[Succeeded / Failed / Skipped / Total] 254 / 11 / 80 / 345:  69%|█████████████▊      | 345/500 [12:07<05:26,  2.11s/it]textattack: Saving checkpoint under \"checkpoints\\1720190757129.ta.chkpt\" at 2024-07-05 22:45:57 after 345 attacks.\n"
     ]
    },
    {
     "name": "stdout",
     "output_type": "stream",
     "text": [
      "\n",
      "\n",
      "=============================================================================================================================\n",
      "=============================================================================================================================\n",
      "\n"
     ]
    },
    {
     "name": "stderr",
     "output_type": "stream",
     "text": [
      "[Succeeded / Failed / Skipped / Total] 258 / 11 / 81 / 350:  70%|██████████████      | 350/500 [12:21<05:17,  2.12s/it]textattack: Saving checkpoint under \"checkpoints\\1720190771041.ta.chkpt\" at 2024-07-05 22:46:11 after 350 attacks.\n"
     ]
    },
    {
     "name": "stdout",
     "output_type": "stream",
     "text": [
      "\n",
      "\n",
      "=============================================================================================================================\n",
      "=============================================================================================================================\n",
      "\n"
     ]
    },
    {
     "name": "stderr",
     "output_type": "stream",
     "text": [
      "[Succeeded / Failed / Skipped / Total] 262 / 12 / 81 / 355:  71%|██████████████▏     | 355/500 [12:44<05:12,  2.15s/it]textattack: Saving checkpoint under \"checkpoints\\1720190794050.ta.chkpt\" at 2024-07-05 22:46:34 after 355 attacks.\n"
     ]
    },
    {
     "name": "stdout",
     "output_type": "stream",
     "text": [
      "\n",
      "\n",
      "=============================================================================================================================\n",
      "=============================================================================================================================\n",
      "\n"
     ]
    },
    {
     "name": "stderr",
     "output_type": "stream",
     "text": [
      "[Succeeded / Failed / Skipped / Total] 266 / 12 / 82 / 360:  72%|██████████████▍     | 360/500 [12:59<05:02,  2.16s/it]textattack: Saving checkpoint under \"checkpoints\\1720190808706.ta.chkpt\" at 2024-07-05 22:46:48 after 360 attacks.\n"
     ]
    },
    {
     "name": "stdout",
     "output_type": "stream",
     "text": [
      "\n",
      "\n",
      "=============================================================================================================================\n",
      "=============================================================================================================================\n",
      "\n"
     ]
    },
    {
     "name": "stderr",
     "output_type": "stream",
     "text": [
      "[Succeeded / Failed / Skipped / Total] 271 / 12 / 82 / 365:  73%|██████████████▌     | 365/500 [13:06<04:51,  2.16s/it]textattack: Saving checkpoint under \"checkpoints\\1720190816520.ta.chkpt\" at 2024-07-05 22:46:56 after 365 attacks.\n",
      "[Succeeded / Failed / Skipped / Total] 271 / 12 / 83 / 366:  73%|██████████████▋     | 366/500 [13:07<04:48,  2.15s/it]"
     ]
    },
    {
     "name": "stdout",
     "output_type": "stream",
     "text": [
      "\n",
      "\n",
      "=============================================================================================================================\n",
      "=============================================================================================================================\n",
      "\n"
     ]
    },
    {
     "name": "stderr",
     "output_type": "stream",
     "text": [
      "[Succeeded / Failed / Skipped / Total] 275 / 12 / 83 / 370:  74%|██████████████▊     | 370/500 [13:12<04:38,  2.14s/it]textattack: Saving checkpoint under \"checkpoints\\1720190821806.ta.chkpt\" at 2024-07-05 22:47:01 after 370 attacks.\n"
     ]
    },
    {
     "name": "stdout",
     "output_type": "stream",
     "text": [
      "\n",
      "\n",
      "=============================================================================================================================\n",
      "=============================================================================================================================\n",
      "\n"
     ]
    },
    {
     "name": "stderr",
     "output_type": "stream",
     "text": [
      "[Succeeded / Failed / Skipped / Total] 280 / 12 / 83 / 375:  75%|███████████████     | 375/500 [13:34<04:31,  2.17s/it]textattack: Saving checkpoint under \"checkpoints\\1720190844608.ta.chkpt\" at 2024-07-05 22:47:24 after 375 attacks.\n"
     ]
    },
    {
     "name": "stdout",
     "output_type": "stream",
     "text": [
      "\n",
      "\n",
      "=============================================================================================================================\n",
      "=============================================================================================================================\n",
      "\n"
     ]
    },
    {
     "name": "stderr",
     "output_type": "stream",
     "text": [
      "[Succeeded / Failed / Skipped / Total] 284 / 12 / 84 / 380:  76%|███████████████▏    | 380/500 [13:42<04:19,  2.16s/it]textattack: Saving checkpoint under \"checkpoints\\1720190851793.ta.chkpt\" at 2024-07-05 22:47:31 after 380 attacks.\n"
     ]
    },
    {
     "name": "stdout",
     "output_type": "stream",
     "text": [
      "\n",
      "\n",
      "=============================================================================================================================\n",
      "=============================================================================================================================\n",
      "\n"
     ]
    },
    {
     "name": "stderr",
     "output_type": "stream",
     "text": [
      "[Succeeded / Failed / Skipped / Total] 289 / 12 / 84 / 385:  77%|███████████████▍    | 385/500 [13:52<04:08,  2.16s/it]textattack: Saving checkpoint under \"checkpoints\\1720190862338.ta.chkpt\" at 2024-07-05 22:47:42 after 385 attacks.\n"
     ]
    },
    {
     "name": "stdout",
     "output_type": "stream",
     "text": [
      "\n",
      "\n",
      "=============================================================================================================================\n",
      "=============================================================================================================================\n",
      "\n"
     ]
    },
    {
     "name": "stderr",
     "output_type": "stream",
     "text": [
      "[Succeeded / Failed / Skipped / Total] 293 / 12 / 85 / 390:  78%|███████████████▌    | 390/500 [14:00<03:57,  2.16s/it]textattack: Saving checkpoint under \"checkpoints\\1720190870189.ta.chkpt\" at 2024-07-05 22:47:50 after 390 attacks.\n"
     ]
    },
    {
     "name": "stdout",
     "output_type": "stream",
     "text": [
      "\n",
      "\n",
      "=============================================================================================================================\n",
      "=============================================================================================================================\n",
      "\n"
     ]
    },
    {
     "name": "stderr",
     "output_type": "stream",
     "text": [
      "[Succeeded / Failed / Skipped / Total] 298 / 12 / 85 / 395:  79%|███████████████▊    | 395/500 [14:16<03:47,  2.17s/it]textattack: Saving checkpoint under \"checkpoints\\1720190886397.ta.chkpt\" at 2024-07-05 22:48:06 after 395 attacks.\n"
     ]
    },
    {
     "name": "stdout",
     "output_type": "stream",
     "text": [
      "\n",
      "\n",
      "=============================================================================================================================\n",
      "=============================================================================================================================\n",
      "\n"
     ]
    },
    {
     "name": "stderr",
     "output_type": "stream",
     "text": [
      "[Succeeded / Failed / Skipped / Total] 303 / 12 / 85 / 400:  80%|████████████████    | 400/500 [14:29<03:37,  2.17s/it]textattack: Saving checkpoint under \"checkpoints\\1720190899036.ta.chkpt\" at 2024-07-05 22:48:19 after 400 attacks.\n"
     ]
    },
    {
     "name": "stdout",
     "output_type": "stream",
     "text": [
      "\n",
      "\n",
      "=============================================================================================================================\n",
      "=============================================================================================================================\n",
      "\n"
     ]
    },
    {
     "name": "stderr",
     "output_type": "stream",
     "text": [
      "[Succeeded / Failed / Skipped / Total] 307 / 12 / 86 / 405:  81%|████████████████▏   | 405/500 [14:48<03:28,  2.19s/it]textattack: Saving checkpoint under \"checkpoints\\1720190918002.ta.chkpt\" at 2024-07-05 22:48:38 after 405 attacks.\n"
     ]
    },
    {
     "name": "stdout",
     "output_type": "stream",
     "text": [
      "\n",
      "\n",
      "=============================================================================================================================\n",
      "=============================================================================================================================\n",
      "\n"
     ]
    },
    {
     "name": "stderr",
     "output_type": "stream",
     "text": [
      "[Succeeded / Failed / Skipped / Total] 312 / 12 / 86 / 410:  82%|████████████████▍   | 410/500 [14:53<03:16,  2.18s/it]textattack: Saving checkpoint under \"checkpoints\\1720190923171.ta.chkpt\" at 2024-07-05 22:48:43 after 410 attacks.\n"
     ]
    },
    {
     "name": "stdout",
     "output_type": "stream",
     "text": [
      "\n",
      "\n",
      "=============================================================================================================================\n",
      "=============================================================================================================================\n",
      "\n"
     ]
    },
    {
     "name": "stderr",
     "output_type": "stream",
     "text": [
      "[Succeeded / Failed / Skipped / Total] 314 / 12 / 89 / 415:  83%|████████████████▌   | 415/500 [14:54<03:03,  2.16s/it]textattack: Saving checkpoint under \"checkpoints\\1720190924562.ta.chkpt\" at 2024-07-05 22:48:44 after 415 attacks.\n"
     ]
    },
    {
     "name": "stdout",
     "output_type": "stream",
     "text": [
      "\n",
      "\n",
      "=============================================================================================================================\n",
      "=============================================================================================================================\n",
      "\n"
     ]
    },
    {
     "name": "stderr",
     "output_type": "stream",
     "text": [
      "[Succeeded / Failed / Skipped / Total] 318 / 13 / 89 / 420:  84%|████████████████▊   | 420/500 [15:07<02:52,  2.16s/it]textattack: Saving checkpoint under \"checkpoints\\1720190936750.ta.chkpt\" at 2024-07-05 22:48:56 after 420 attacks.\n"
     ]
    },
    {
     "name": "stdout",
     "output_type": "stream",
     "text": [
      "\n",
      "\n",
      "=============================================================================================================================\n",
      "=============================================================================================================================\n",
      "\n"
     ]
    },
    {
     "name": "stderr",
     "output_type": "stream",
     "text": [
      "[Succeeded / Failed / Skipped / Total] 323 / 13 / 89 / 425:  85%|█████████████████   | 425/500 [15:15<02:41,  2.15s/it]textattack: Saving checkpoint under \"checkpoints\\1720190944661.ta.chkpt\" at 2024-07-05 22:49:04 after 425 attacks.\n"
     ]
    },
    {
     "name": "stdout",
     "output_type": "stream",
     "text": [
      "\n",
      "\n",
      "=============================================================================================================================\n",
      "=============================================================================================================================\n",
      "\n"
     ]
    },
    {
     "name": "stderr",
     "output_type": "stream",
     "text": [
      "[Succeeded / Failed / Skipped / Total] 328 / 13 / 89 / 430:  86%|█████████████████▏  | 430/500 [15:23<02:30,  2.15s/it]textattack: Saving checkpoint under \"checkpoints\\1720190953289.ta.chkpt\" at 2024-07-05 22:49:13 after 430 attacks.\n",
      "[Succeeded / Failed / Skipped / Total] 328 / 13 / 90 / 431:  86%|█████████████████▏  | 431/500 [15:23<02:27,  2.14s/it]"
     ]
    },
    {
     "name": "stdout",
     "output_type": "stream",
     "text": [
      "\n",
      "\n",
      "=============================================================================================================================\n",
      "=============================================================================================================================\n",
      "\n"
     ]
    },
    {
     "name": "stderr",
     "output_type": "stream",
     "text": [
      "[Succeeded / Failed / Skipped / Total] 331 / 13 / 91 / 435:  87%|█████████████████▍  | 435/500 [15:31<02:19,  2.14s/it]textattack: Saving checkpoint under \"checkpoints\\1720190961362.ta.chkpt\" at 2024-07-05 22:49:21 after 435 attacks.\n"
     ]
    },
    {
     "name": "stdout",
     "output_type": "stream",
     "text": [
      "\n",
      "\n",
      "=============================================================================================================================\n",
      "=============================================================================================================================\n",
      "\n"
     ]
    },
    {
     "name": "stderr",
     "output_type": "stream",
     "text": [
      "[Succeeded / Failed / Skipped / Total] 336 / 13 / 91 / 440:  88%|█████████████████▌  | 440/500 [15:43<02:08,  2.15s/it]textattack: Saving checkpoint under \"checkpoints\\1720190973410.ta.chkpt\" at 2024-07-05 22:49:33 after 440 attacks.\n"
     ]
    },
    {
     "name": "stdout",
     "output_type": "stream",
     "text": [
      "\n",
      "\n",
      "=============================================================================================================================\n",
      "=============================================================================================================================\n",
      "\n"
     ]
    },
    {
     "name": "stderr",
     "output_type": "stream",
     "text": [
      "[Succeeded / Failed / Skipped / Total] 341 / 13 / 91 / 445:  89%|█████████████████▊  | 445/500 [15:54<01:57,  2.14s/it]textattack: Saving checkpoint under \"checkpoints\\1720190983624.ta.chkpt\" at 2024-07-05 22:49:43 after 445 attacks.\n"
     ]
    },
    {
     "name": "stdout",
     "output_type": "stream",
     "text": [
      "\n",
      "\n",
      "=============================================================================================================================\n",
      "=============================================================================================================================\n",
      "\n"
     ]
    },
    {
     "name": "stderr",
     "output_type": "stream",
     "text": [
      "[Succeeded / Failed / Skipped / Total] 343 / 14 / 93 / 450:  90%|██████████████████  | 450/500 [16:08<01:47,  2.15s/it]textattack: Saving checkpoint under \"checkpoints\\1720190998532.ta.chkpt\" at 2024-07-05 22:49:58 after 450 attacks.\n"
     ]
    },
    {
     "name": "stdout",
     "output_type": "stream",
     "text": [
      "\n",
      "\n",
      "=============================================================================================================================\n",
      "=============================================================================================================================\n",
      "\n"
     ]
    },
    {
     "name": "stderr",
     "output_type": "stream",
     "text": [
      "[Succeeded / Failed / Skipped / Total] 347 / 14 / 94 / 455:  91%|██████████████████▏ | 455/500 [16:21<01:37,  2.16s/it]textattack: Saving checkpoint under \"checkpoints\\1720191011289.ta.chkpt\" at 2024-07-05 22:50:11 after 455 attacks.\n"
     ]
    },
    {
     "name": "stdout",
     "output_type": "stream",
     "text": [
      "\n",
      "\n",
      "=============================================================================================================================\n",
      "=============================================================================================================================\n",
      "\n"
     ]
    },
    {
     "name": "stderr",
     "output_type": "stream",
     "text": [
      "[Succeeded / Failed / Skipped / Total] 352 / 14 / 94 / 460:  92%|██████████████████▍ | 460/500 [16:41<01:27,  2.18s/it]textattack: Saving checkpoint under \"checkpoints\\1720191031211.ta.chkpt\" at 2024-07-05 22:50:31 after 460 attacks.\n"
     ]
    },
    {
     "name": "stdout",
     "output_type": "stream",
     "text": [
      "\n",
      "\n",
      "=============================================================================================================================\n",
      "=============================================================================================================================\n",
      "\n"
     ]
    },
    {
     "name": "stderr",
     "output_type": "stream",
     "text": [
      "[Succeeded / Failed / Skipped / Total] 357 / 14 / 94 / 465:  93%|██████████████████▌ | 465/500 [16:54<01:16,  2.18s/it]textattack: Saving checkpoint under \"checkpoints\\1720191043797.ta.chkpt\" at 2024-07-05 22:50:43 after 465 attacks.\n"
     ]
    },
    {
     "name": "stdout",
     "output_type": "stream",
     "text": [
      "\n",
      "\n",
      "=============================================================================================================================\n",
      "=============================================================================================================================\n",
      "\n"
     ]
    },
    {
     "name": "stderr",
     "output_type": "stream",
     "text": [
      "[Succeeded / Failed / Skipped / Total] 361 / 14 / 95 / 470:  94%|██████████████████▊ | 470/500 [16:59<01:05,  2.17s/it]textattack: Saving checkpoint under \"checkpoints\\1720191049414.ta.chkpt\" at 2024-07-05 22:50:49 after 470 attacks.\n"
     ]
    },
    {
     "name": "stdout",
     "output_type": "stream",
     "text": [
      "\n",
      "\n",
      "=============================================================================================================================\n",
      "=============================================================================================================================\n",
      "\n"
     ]
    },
    {
     "name": "stderr",
     "output_type": "stream",
     "text": [
      "[Succeeded / Failed / Skipped / Total] 365 / 15 / 95 / 475:  95%|███████████████████ | 475/500 [17:25<00:55,  2.20s/it]textattack: Saving checkpoint under \"checkpoints\\1720191075481.ta.chkpt\" at 2024-07-05 22:51:15 after 475 attacks.\n"
     ]
    },
    {
     "name": "stdout",
     "output_type": "stream",
     "text": [
      "\n",
      "\n",
      "=============================================================================================================================\n",
      "=============================================================================================================================\n",
      "\n"
     ]
    },
    {
     "name": "stderr",
     "output_type": "stream",
     "text": [
      "[Succeeded / Failed / Skipped / Total] 369 / 16 / 95 / 480:  96%|███████████████████▏| 480/500 [17:40<00:44,  2.21s/it]textattack: Saving checkpoint under \"checkpoints\\1720191089687.ta.chkpt\" at 2024-07-05 22:51:29 after 480 attacks.\n"
     ]
    },
    {
     "name": "stdout",
     "output_type": "stream",
     "text": [
      "\n",
      "\n",
      "=============================================================================================================================\n",
      "=============================================================================================================================\n",
      "\n"
     ]
    },
    {
     "name": "stderr",
     "output_type": "stream",
     "text": [
      "[Succeeded / Failed / Skipped / Total] 373 / 16 / 96 / 485:  97%|███████████████████▍| 485/500 [17:49<00:33,  2.20s/it]textattack: Saving checkpoint under \"checkpoints\\1720191099012.ta.chkpt\" at 2024-07-05 22:51:39 after 485 attacks.\n"
     ]
    },
    {
     "name": "stdout",
     "output_type": "stream",
     "text": [
      "\n",
      "\n",
      "=============================================================================================================================\n",
      "=============================================================================================================================\n",
      "\n"
     ]
    },
    {
     "name": "stderr",
     "output_type": "stream",
     "text": [
      "[Succeeded / Failed / Skipped / Total] 377 / 16 / 97 / 490:  98%|███████████████████▌| 490/500 [17:58<00:22,  2.20s/it]textattack: Saving checkpoint under \"checkpoints\\1720191108038.ta.chkpt\" at 2024-07-05 22:51:48 after 490 attacks.\n"
     ]
    },
    {
     "name": "stdout",
     "output_type": "stream",
     "text": [
      "\n",
      "\n",
      "=============================================================================================================================\n",
      "=============================================================================================================================\n",
      "\n"
     ]
    },
    {
     "name": "stderr",
     "output_type": "stream",
     "text": [
      "[Succeeded / Failed / Skipped / Total] 382 / 16 / 97 / 495:  99%|███████████████████▊| 495/500 [18:07<00:10,  2.20s/it]textattack: Saving checkpoint under \"checkpoints\\1720191117069.ta.chkpt\" at 2024-07-05 22:51:57 after 495 attacks.\n"
     ]
    },
    {
     "name": "stdout",
     "output_type": "stream",
     "text": [
      "\n",
      "\n",
      "=============================================================================================================================\n",
      "=============================================================================================================================\n",
      "\n"
     ]
    },
    {
     "name": "stderr",
     "output_type": "stream",
     "text": [
      "[Succeeded / Failed / Skipped / Total] 387 / 16 / 97 / 500: 100%|████████████████████| 500/500 [18:20<00:00,  2.20s/it]textattack: Saving checkpoint under \"checkpoints\\1720191130256.ta.chkpt\" at 2024-07-05 22:52:10 after 500 attacks.\n",
      "[Succeeded / Failed / Skipped / Total] 387 / 16 / 97 / 500: 100%|████████████████████| 500/500 [18:20<00:00,  2.20s/it]"
     ]
    },
    {
     "name": "stdout",
     "output_type": "stream",
     "text": [
      "\n",
      "\n",
      "=============================================================================================================================\n",
      "=============================================================================================================================\n",
      "\n",
      "\n",
      "+-------------------------------+--------+\n",
      "| Attack Results                |        |\n",
      "+-------------------------------+--------+\n",
      "| Number of successful attacks: | 387    |\n",
      "| Number of failed attacks:     | 16     |\n",
      "| Number of skipped attacks:    | 97     |\n",
      "| Original accuracy:            | 80.6%  |\n",
      "| Accuracy under attack:        | 3.2%   |\n",
      "| Attack success rate:          | 96.03% |\n",
      "| Average perturbed word %:     | 16.61% |\n",
      "| Average num. words per input: | 18.4   |\n",
      "| Avg num queries:              | 60.91  |\n",
      "+-------------------------------+--------+\n"
     ]
    },
    {
     "name": "stderr",
     "output_type": "stream",
     "text": [
      "\n"
     ]
    }
   ],
   "source": [
    "runAttack(bert_model_wrapper_svc_mr, n_samples, 'attack_results_new/bertmrattacksvc'+suffix, target_ds_mr)"
   ]
  },
  {
   "cell_type": "markdown",
   "id": "dd63a478-d62b-479e-8008-00fbd17c8c18",
   "metadata": {},
   "source": [
    "### DistilBERT-based-uncased"
   ]
  },
  {
   "cell_type": "code",
   "execution_count": 16,
   "id": "9f085186-e2aa-44a6-8089-92317f282f52",
   "metadata": {},
   "outputs": [
    {
     "name": "stderr",
     "output_type": "stream",
     "text": [
      "D:\\anaconda3\\envs\\tf\\lib\\site-packages\\huggingface_hub\\file_download.py:1132: FutureWarning: `resume_download` is deprecated and will be removed in version 1.0.0. Downloads always resume when possible. If you want to force a new download, use `force_download=True`.\n",
      "  warnings.warn(\n"
     ]
    }
   ],
   "source": [
    "# bert-based-uncased\n",
    "model_path2 = 'distilbert/distilbert-base-uncased'\n",
    "\n",
    "disbert_model = transformers.AutoModel.from_pretrained(model_path2)\n",
    "disbert_tokenizer = transformers.AutoTokenizer.from_pretrained(model_path2)"
   ]
  },
  {
   "cell_type": "code",
   "execution_count": 17,
   "id": "941f4005-1125-4a4a-999b-9f4244f18a09",
   "metadata": {},
   "outputs": [
    {
     "name": "stderr",
     "output_type": "stream",
     "text": [
      "D:\\anaconda3\\envs\\tf\\lib\\site-packages\\sklearn\\linear_model\\_sag.py:350: ConvergenceWarning: The max_iter was reached which means the coef_ did not converge\n",
      "  warnings.warn(\n"
     ]
    },
    {
     "name": "stdout",
     "output_type": "stream",
     "text": [
      "Log Reg 0.7945590994371482\n",
      "RF 0.7682926829268293\n",
      "KNN 0.7298311444652908\n",
      "SVC 0.7851782363977486\n"
     ]
    }
   ],
   "source": [
    "disbertmrtrain = pd.read_csv('dataset_embeddings/disbertmrtrain.txt', header=None)\n",
    "disbertmrtest = pd.read_csv('dataset_embeddings/disbertmrtest.txt', header=None)\n",
    "lr_disbert_mr, rf_disbert_mr, knn_disbert_mr, svc_disbert_mr = adaptation(disbertmrtrain, disbertmrtest)"
   ]
  },
  {
   "cell_type": "code",
   "execution_count": 18,
   "id": "9e4d537c-15d6-4688-b676-9c389ce365ce",
   "metadata": {},
   "outputs": [],
   "source": [
    "# custom model wrapper for DistilBERT\n",
    "class DisBERTModelWrapper(HuggingFaceModelWrapper):\n",
    "    def __init__(self, processor, text_encoder, classifier):\n",
    "        self.processor = processor\n",
    "        self.model = text_encoder\n",
    "        self.classifier = classifier\n",
    "\n",
    "    def __call__(self, text_input_list):\n",
    "        inputs = self.processor(text_input_list, return_tensors='pt', padding=True, truncation=True)\n",
    "        outputs = self.model(**inputs).last_hidden_state.mean(axis=1)\n",
    "        with torch.no_grad():\n",
    "            preds = self.classifier.predict_proba(outputs)\n",
    "        return preds"
   ]
  },
  {
   "cell_type": "code",
   "execution_count": 19,
   "id": "564916f2-cf94-432e-81bf-e01b39cf9fc5",
   "metadata": {},
   "outputs": [],
   "source": [
    "disbert_model_wrapper_lr_mr = DisBERTModelWrapper(disbert_tokenizer, disbert_model, lr_disbert_mr)\n",
    "disbert_model_wrapper_rf_mr = DisBERTModelWrapper(disbert_tokenizer, disbert_model, rf_disbert_mr)\n",
    "disbert_model_wrapper_knn_mr = DisBERTModelWrapper(disbert_tokenizer, disbert_model, knn_disbert_mr)\n",
    "disbert_model_wrapper_svc_mr = DisBERTModelWrapper(disbert_tokenizer, disbert_model, svc_disbert_mr)"
   ]
  },
  {
   "cell_type": "code",
   "execution_count": 20,
   "id": "32e80b72-91e4-4eee-b512-eacd6496b617",
   "metadata": {
    "scrolled": true
   },
   "outputs": [
    {
     "name": "stderr",
     "output_type": "stream",
     "text": [
      "textattack: Unknown if model of class <class 'transformers.models.distilbert.modeling_distilbert.DistilBertModel'> compatible with goal function <class 'textattack.goal_functions.classification.untargeted_classification.UntargetedClassification'>.\n",
      "textattack: Logging to CSV at path attack_results_new/disbertmrattacklrsim06.csv\n"
     ]
    },
    {
     "name": "stdout",
     "output_type": "stream",
     "text": [
      "Attack(\n",
      "  (search_method): GreedyWordSwapWIR(\n",
      "    (wir_method):  delete\n",
      "  )\n",
      "  (goal_function):  UntargetedClassification\n",
      "  (transformation):  WordSwapEmbedding(\n",
      "    (max_candidates):  50\n",
      "    (embedding):  WordEmbedding\n",
      "  )\n",
      "  (constraints): \n",
      "    (0): WordEmbeddingDistance(\n",
      "        (embedding):  WordEmbedding\n",
      "        (min_cos_sim):  0.6\n",
      "        (cased):  False\n",
      "        (include_unknown_words):  True\n",
      "        (compare_against_original):  True\n",
      "      )\n",
      "    (1): PartOfSpeech(\n",
      "        (tagger_type):  nltk\n",
      "        (tagset):  universal\n",
      "        (allow_verb_noun_swap):  True\n",
      "        (compare_against_original):  True\n",
      "      )\n",
      "    (2): UniversalSentenceEncoder(\n",
      "        (metric):  angular\n",
      "        (threshold):  0.840845057\n",
      "        (window_size):  15\n",
      "        (skip_text_shorter_than_window):  True\n",
      "        (compare_against_original):  False\n",
      "      )\n",
      "    (3): RepeatModification\n",
      "    (4): StopwordModification\n",
      "    (5): InputColumnModification(\n",
      "        (matching_column_labels):  ['premise', 'hypothesis']\n",
      "        (columns_to_ignore):  {'premise'}\n",
      "      )\n",
      "  (is_black_box):  True\n",
      ") \n",
      "\n"
     ]
    },
    {
     "name": "stderr",
     "output_type": "stream",
     "text": [
      "[Succeeded / Failed / Skipped / Total] 4 / 0 / 1 / 5:   1%|▎                           | 5/500 [00:17<28:30,  3.46s/it]textattack: Saving checkpoint under \"checkpoints\\1720191298464.ta.chkpt\" at 2024-07-05 22:54:58 after 5 attacks.\n",
      "[Succeeded / Failed / Skipped / Total] 4 / 0 / 3 / 7:   1%|▍                           | 7/500 [00:17<20:30,  2.50s/it]"
     ]
    },
    {
     "name": "stdout",
     "output_type": "stream",
     "text": [
      "\n",
      "\n",
      "=============================================================================================================================\n",
      "=============================================================================================================================\n",
      "\n"
     ]
    },
    {
     "name": "stderr",
     "output_type": "stream",
     "text": [
      "[Succeeded / Failed / Skipped / Total] 7 / 0 / 3 / 10:   2%|▌                         | 10/500 [00:21<17:47,  2.18s/it]textattack: Saving checkpoint under \"checkpoints\\1720191302972.ta.chkpt\" at 2024-07-05 22:55:02 after 10 attacks.\n"
     ]
    },
    {
     "name": "stdout",
     "output_type": "stream",
     "text": [
      "\n",
      "\n",
      "=============================================================================================================================\n",
      "=============================================================================================================================\n",
      "\n"
     ]
    },
    {
     "name": "stderr",
     "output_type": "stream",
     "text": [
      "[Succeeded / Failed / Skipped / Total] 11 / 0 / 4 / 15:   3%|▊                        | 15/500 [00:35<19:00,  2.35s/it]textattack: Saving checkpoint under \"checkpoints\\1720191316447.ta.chkpt\" at 2024-07-05 22:55:16 after 15 attacks.\n"
     ]
    },
    {
     "name": "stdout",
     "output_type": "stream",
     "text": [
      "\n",
      "\n",
      "=============================================================================================================================\n",
      "=============================================================================================================================\n",
      "\n"
     ]
    },
    {
     "name": "stderr",
     "output_type": "stream",
     "text": [
      "[Succeeded / Failed / Skipped / Total] 14 / 1 / 5 / 20:   4%|█                        | 20/500 [00:40<16:05,  2.01s/it]textattack: Saving checkpoint under \"checkpoints\\1720191321396.ta.chkpt\" at 2024-07-05 22:55:21 after 20 attacks.\n"
     ]
    },
    {
     "name": "stdout",
     "output_type": "stream",
     "text": [
      "\n",
      "\n",
      "=============================================================================================================================\n",
      "=============================================================================================================================\n",
      "\n"
     ]
    },
    {
     "name": "stderr",
     "output_type": "stream",
     "text": [
      "[Succeeded / Failed / Skipped / Total] 18 / 1 / 6 / 25:   5%|█▎                       | 25/500 [00:42<13:33,  1.71s/it]textattack: Saving checkpoint under \"checkpoints\\1720191324008.ta.chkpt\" at 2024-07-05 22:55:24 after 25 attacks.\n"
     ]
    },
    {
     "name": "stdout",
     "output_type": "stream",
     "text": [
      "\n",
      "\n",
      "=============================================================================================================================\n",
      "=============================================================================================================================\n",
      "\n"
     ]
    },
    {
     "name": "stderr",
     "output_type": "stream",
     "text": [
      "[Succeeded / Failed / Skipped / Total] 21 / 1 / 8 / 30:   6%|█▌                       | 30/500 [00:46<12:01,  1.54s/it]textattack: Saving checkpoint under \"checkpoints\\1720191327243.ta.chkpt\" at 2024-07-05 22:55:27 after 30 attacks.\n"
     ]
    },
    {
     "name": "stdout",
     "output_type": "stream",
     "text": [
      "\n",
      "\n",
      "=============================================================================================================================\n",
      "=============================================================================================================================\n",
      "\n"
     ]
    },
    {
     "name": "stderr",
     "output_type": "stream",
     "text": [
      "[Succeeded / Failed / Skipped / Total] 24 / 1 / 10 / 35:   7%|█▋                      | 35/500 [00:49<10:53,  1.41s/it]textattack: Saving checkpoint under \"checkpoints\\1720191330388.ta.chkpt\" at 2024-07-05 22:55:30 after 35 attacks.\n"
     ]
    },
    {
     "name": "stdout",
     "output_type": "stream",
     "text": [
      "\n",
      "\n",
      "=============================================================================================================================\n",
      "=============================================================================================================================\n",
      "\n"
     ]
    },
    {
     "name": "stderr",
     "output_type": "stream",
     "text": [
      "[Succeeded / Failed / Skipped / Total] 28 / 1 / 11 / 40:   8%|█▉                      | 40/500 [00:52<10:02,  1.31s/it]textattack: Saving checkpoint under \"checkpoints\\1720191333557.ta.chkpt\" at 2024-07-05 22:55:33 after 40 attacks.\n"
     ]
    },
    {
     "name": "stdout",
     "output_type": "stream",
     "text": [
      "\n",
      "\n",
      "=============================================================================================================================\n",
      "=============================================================================================================================\n",
      "\n"
     ]
    },
    {
     "name": "stderr",
     "output_type": "stream",
     "text": [
      "[Succeeded / Failed / Skipped / Total] 33 / 1 / 11 / 45:   9%|██▏                     | 45/500 [01:00<10:15,  1.35s/it]textattack: Saving checkpoint under \"checkpoints\\1720191342087.ta.chkpt\" at 2024-07-05 22:55:42 after 45 attacks.\n"
     ]
    },
    {
     "name": "stdout",
     "output_type": "stream",
     "text": [
      "\n",
      "\n",
      "=============================================================================================================================\n",
      "=============================================================================================================================\n",
      "\n"
     ]
    },
    {
     "name": "stderr",
     "output_type": "stream",
     "text": [
      "[Succeeded / Failed / Skipped / Total] 38 / 1 / 11 / 50:  10%|██▍                     | 50/500 [01:10<10:35,  1.41s/it]textattack: Saving checkpoint under \"checkpoints\\1720191351846.ta.chkpt\" at 2024-07-05 22:55:51 after 50 attacks.\n"
     ]
    },
    {
     "name": "stdout",
     "output_type": "stream",
     "text": [
      "\n",
      "\n",
      "=============================================================================================================================\n",
      "=============================================================================================================================\n",
      "\n"
     ]
    },
    {
     "name": "stderr",
     "output_type": "stream",
     "text": [
      "[Succeeded / Failed / Skipped / Total] 43 / 1 / 11 / 55:  11%|██▋                     | 55/500 [01:19<10:39,  1.44s/it]textattack: Saving checkpoint under \"checkpoints\\1720191360262.ta.chkpt\" at 2024-07-05 22:56:00 after 55 attacks.\n"
     ]
    },
    {
     "name": "stdout",
     "output_type": "stream",
     "text": [
      "\n",
      "\n",
      "=============================================================================================================================\n",
      "=============================================================================================================================\n",
      "\n"
     ]
    },
    {
     "name": "stderr",
     "output_type": "stream",
     "text": [
      "[Succeeded / Failed / Skipped / Total] 46 / 1 / 13 / 60:  12%|██▉                     | 60/500 [01:22<10:03,  1.37s/it]textattack: Saving checkpoint under \"checkpoints\\1720191363481.ta.chkpt\" at 2024-07-05 22:56:03 after 60 attacks.\n",
      "[Succeeded / Failed / Skipped / Total] 46 / 1 / 15 / 62:  12%|██▉                     | 62/500 [01:22<09:42,  1.33s/it]"
     ]
    },
    {
     "name": "stdout",
     "output_type": "stream",
     "text": [
      "\n",
      "\n",
      "=============================================================================================================================\n",
      "=============================================================================================================================\n",
      "\n"
     ]
    },
    {
     "name": "stderr",
     "output_type": "stream",
     "text": [
      "[Succeeded / Failed / Skipped / Total] 49 / 1 / 15 / 65:  13%|███                     | 65/500 [01:25<09:29,  1.31s/it]textattack: Saving checkpoint under \"checkpoints\\1720191366251.ta.chkpt\" at 2024-07-05 22:56:06 after 65 attacks.\n"
     ]
    },
    {
     "name": "stdout",
     "output_type": "stream",
     "text": [
      "\n",
      "\n",
      "=============================================================================================================================\n",
      "=============================================================================================================================\n",
      "\n"
     ]
    },
    {
     "name": "stderr",
     "output_type": "stream",
     "text": [
      "[Succeeded / Failed / Skipped / Total] 52 / 2 / 16 / 70:  14%|███▎                    | 70/500 [01:31<09:20,  1.30s/it]textattack: Saving checkpoint under \"checkpoints\\1720191372387.ta.chkpt\" at 2024-07-05 22:56:12 after 70 attacks.\n"
     ]
    },
    {
     "name": "stdout",
     "output_type": "stream",
     "text": [
      "\n",
      "\n",
      "=============================================================================================================================\n",
      "=============================================================================================================================\n",
      "\n"
     ]
    },
    {
     "name": "stderr",
     "output_type": "stream",
     "text": [
      "[Succeeded / Failed / Skipped / Total] 56 / 2 / 17 / 75:  15%|███▌                    | 75/500 [01:34<08:54,  1.26s/it]textattack: Saving checkpoint under \"checkpoints\\1720191375582.ta.chkpt\" at 2024-07-05 22:56:15 after 75 attacks.\n"
     ]
    },
    {
     "name": "stdout",
     "output_type": "stream",
     "text": [
      "\n",
      "\n",
      "=============================================================================================================================\n",
      "=============================================================================================================================\n",
      "\n"
     ]
    },
    {
     "name": "stderr",
     "output_type": "stream",
     "text": [
      "[Succeeded / Failed / Skipped / Total] 60 / 3 / 17 / 80:  16%|███▊                    | 80/500 [01:42<08:59,  1.29s/it]textattack: Saving checkpoint under \"checkpoints\\1720191384000.ta.chkpt\" at 2024-07-05 22:56:24 after 80 attacks.\n",
      "[Succeeded / Failed / Skipped / Total] 60 / 3 / 19 / 82:  16%|███▉                    | 82/500 [01:42<08:44,  1.26s/it]"
     ]
    },
    {
     "name": "stdout",
     "output_type": "stream",
     "text": [
      "\n",
      "\n",
      "=============================================================================================================================\n",
      "=============================================================================================================================\n",
      "\n"
     ]
    },
    {
     "name": "stderr",
     "output_type": "stream",
     "text": [
      "[Succeeded / Failed / Skipped / Total] 62 / 3 / 20 / 85:  17%|████                    | 85/500 [01:44<08:31,  1.23s/it]textattack: Saving checkpoint under \"checkpoints\\1720191386018.ta.chkpt\" at 2024-07-05 22:56:26 after 85 attacks.\n"
     ]
    },
    {
     "name": "stdout",
     "output_type": "stream",
     "text": [
      "\n",
      "\n",
      "=============================================================================================================================\n",
      "=============================================================================================================================\n",
      "\n"
     ]
    },
    {
     "name": "stderr",
     "output_type": "stream",
     "text": [
      "[Succeeded / Failed / Skipped / Total] 67 / 3 / 20 / 90:  18%|████▎                   | 90/500 [01:50<08:23,  1.23s/it]textattack: Saving checkpoint under \"checkpoints\\1720191391625.ta.chkpt\" at 2024-07-05 22:56:31 after 90 attacks.\n"
     ]
    },
    {
     "name": "stdout",
     "output_type": "stream",
     "text": [
      "\n",
      "\n",
      "=============================================================================================================================\n",
      "=============================================================================================================================\n",
      "\n"
     ]
    },
    {
     "name": "stderr",
     "output_type": "stream",
     "text": [
      "[Succeeded / Failed / Skipped / Total] 70 / 3 / 22 / 95:  19%|████▌                   | 95/500 [01:55<08:12,  1.21s/it]textattack: Saving checkpoint under \"checkpoints\\1720191396607.ta.chkpt\" at 2024-07-05 22:56:36 after 95 attacks.\n"
     ]
    },
    {
     "name": "stdout",
     "output_type": "stream",
     "text": [
      "\n",
      "\n",
      "=============================================================================================================================\n",
      "=============================================================================================================================\n",
      "\n"
     ]
    },
    {
     "name": "stderr",
     "output_type": "stream",
     "text": [
      "[Succeeded / Failed / Skipped / Total] 75 / 3 / 22 / 100:  20%|████▍                 | 100/500 [02:02<08:11,  1.23s/it]textattack: Saving checkpoint under \"checkpoints\\1720191404082.ta.chkpt\" at 2024-07-05 22:56:44 after 100 attacks.\n"
     ]
    },
    {
     "name": "stdout",
     "output_type": "stream",
     "text": [
      "\n",
      "\n",
      "=============================================================================================================================\n",
      "=============================================================================================================================\n",
      "\n"
     ]
    },
    {
     "name": "stderr",
     "output_type": "stream",
     "text": [
      "[Succeeded / Failed / Skipped / Total] 79 / 3 / 23 / 105:  21%|████▌                 | 105/500 [02:11<08:16,  1.26s/it]textattack: Saving checkpoint under \"checkpoints\\1720191413116.ta.chkpt\" at 2024-07-05 22:56:53 after 105 attacks.\n",
      "[Succeeded / Failed / Skipped / Total] 79 / 3 / 24 / 106:  21%|████▋                 | 106/500 [02:11<08:10,  1.25s/it]"
     ]
    },
    {
     "name": "stdout",
     "output_type": "stream",
     "text": [
      "\n",
      "\n",
      "=============================================================================================================================\n",
      "=============================================================================================================================\n",
      "\n"
     ]
    },
    {
     "name": "stderr",
     "output_type": "stream",
     "text": [
      "[Succeeded / Failed / Skipped / Total] 81 / 3 / 26 / 110:  22%|████▊                 | 110/500 [02:13<07:53,  1.21s/it]textattack: Saving checkpoint under \"checkpoints\\1720191414664.ta.chkpt\" at 2024-07-05 22:56:54 after 110 attacks.\n",
      "[Succeeded / Failed / Skipped / Total] 81 / 3 / 27 / 111:  22%|████▉                 | 111/500 [02:13<07:48,  1.20s/it]"
     ]
    },
    {
     "name": "stdout",
     "output_type": "stream",
     "text": [
      "\n",
      "\n",
      "=============================================================================================================================\n",
      "=============================================================================================================================\n",
      "\n"
     ]
    },
    {
     "name": "stderr",
     "output_type": "stream",
     "text": [
      "[Succeeded / Failed / Skipped / Total] 84 / 3 / 28 / 115:  23%|█████                 | 115/500 [02:18<07:43,  1.20s/it]textattack: Saving checkpoint under \"checkpoints\\1720191419713.ta.chkpt\" at 2024-07-05 22:56:59 after 115 attacks.\n"
     ]
    },
    {
     "name": "stdout",
     "output_type": "stream",
     "text": [
      "\n",
      "\n",
      "=============================================================================================================================\n",
      "=============================================================================================================================\n",
      "\n"
     ]
    },
    {
     "name": "stderr",
     "output_type": "stream",
     "text": [
      "[Succeeded / Failed / Skipped / Total] 87 / 3 / 30 / 120:  24%|█████▎                | 120/500 [02:21<07:28,  1.18s/it]textattack: Saving checkpoint under \"checkpoints\\1720191422849.ta.chkpt\" at 2024-07-05 22:57:02 after 120 attacks.\n"
     ]
    },
    {
     "name": "stdout",
     "output_type": "stream",
     "text": [
      "\n",
      "\n",
      "=============================================================================================================================\n",
      "=============================================================================================================================\n",
      "\n"
     ]
    },
    {
     "name": "stderr",
     "output_type": "stream",
     "text": [
      "[Succeeded / Failed / Skipped / Total] 92 / 3 / 30 / 125:  25%|█████▌                | 125/500 [02:27<07:21,  1.18s/it]textattack: Saving checkpoint under \"checkpoints\\1720191428244.ta.chkpt\" at 2024-07-05 22:57:08 after 125 attacks.\n"
     ]
    },
    {
     "name": "stdout",
     "output_type": "stream",
     "text": [
      "\n",
      "\n",
      "=============================================================================================================================\n",
      "=============================================================================================================================\n",
      "\n"
     ]
    },
    {
     "name": "stderr",
     "output_type": "stream",
     "text": [
      "[Succeeded / Failed / Skipped / Total] 95 / 3 / 32 / 130:  26%|█████▋                | 130/500 [02:29<07:06,  1.15s/it]textattack: Saving checkpoint under \"checkpoints\\1720191431145.ta.chkpt\" at 2024-07-05 22:57:11 after 130 attacks.\n",
      "[Succeeded / Failed / Skipped / Total] 95 / 3 / 33 / 131:  26%|█████▊                | 131/500 [02:30<07:02,  1.15s/it]"
     ]
    },
    {
     "name": "stdout",
     "output_type": "stream",
     "text": [
      "\n",
      "\n",
      "=============================================================================================================================\n",
      "=============================================================================================================================\n",
      "\n"
     ]
    },
    {
     "name": "stderr",
     "output_type": "stream",
     "text": [
      "[Succeeded / Failed / Skipped / Total] 98 / 3 / 34 / 135:  27%|█████▉                | 135/500 [02:36<07:03,  1.16s/it]textattack: Saving checkpoint under \"checkpoints\\1720191437646.ta.chkpt\" at 2024-07-05 22:57:17 after 135 attacks.\n"
     ]
    },
    {
     "name": "stdout",
     "output_type": "stream",
     "text": [
      "\n",
      "\n",
      "=============================================================================================================================\n",
      "=============================================================================================================================\n",
      "\n"
     ]
    },
    {
     "name": "stderr",
     "output_type": "stream",
     "text": [
      "[Succeeded / Failed / Skipped / Total] 102 / 3 / 35 / 140:  28%|█████▉               | 140/500 [02:42<06:59,  1.16s/it]textattack: Saving checkpoint under \"checkpoints\\1720191444180.ta.chkpt\" at 2024-07-05 22:57:24 after 140 attacks.\n"
     ]
    },
    {
     "name": "stdout",
     "output_type": "stream",
     "text": [
      "\n",
      "\n",
      "=============================================================================================================================\n",
      "=============================================================================================================================\n",
      "\n"
     ]
    },
    {
     "name": "stderr",
     "output_type": "stream",
     "text": [
      "[Succeeded / Failed / Skipped / Total] 107 / 3 / 35 / 145:  29%|██████               | 145/500 [02:49<06:56,  1.17s/it]textattack: Saving checkpoint under \"checkpoints\\1720191451149.ta.chkpt\" at 2024-07-05 22:57:31 after 145 attacks.\n",
      "[Succeeded / Failed / Skipped / Total] 107 / 3 / 38 / 148:  30%|██████▏              | 148/500 [02:50<06:44,  1.15s/it]"
     ]
    },
    {
     "name": "stdout",
     "output_type": "stream",
     "text": [
      "\n",
      "\n",
      "=============================================================================================================================\n",
      "=============================================================================================================================\n",
      "\n"
     ]
    },
    {
     "name": "stderr",
     "output_type": "stream",
     "text": [
      "[Succeeded / Failed / Skipped / Total] 109 / 3 / 38 / 150:  30%|██████▎              | 150/500 [02:51<06:40,  1.14s/it]textattack: Saving checkpoint under \"checkpoints\\1720191452777.ta.chkpt\" at 2024-07-05 22:57:32 after 150 attacks.\n"
     ]
    },
    {
     "name": "stdout",
     "output_type": "stream",
     "text": [
      "\n",
      "\n",
      "=============================================================================================================================\n",
      "=============================================================================================================================\n",
      "\n"
     ]
    },
    {
     "name": "stderr",
     "output_type": "stream",
     "text": [
      "[Succeeded / Failed / Skipped / Total] 113 / 3 / 39 / 155:  31%|██████▌              | 155/500 [02:54<06:27,  1.12s/it]textattack: Saving checkpoint under \"checkpoints\\1720191455377.ta.chkpt\" at 2024-07-05 22:57:35 after 155 attacks.\n"
     ]
    },
    {
     "name": "stdout",
     "output_type": "stream",
     "text": [
      "\n",
      "\n",
      "=============================================================================================================================\n",
      "=============================================================================================================================\n",
      "\n"
     ]
    },
    {
     "name": "stderr",
     "output_type": "stream",
     "text": [
      "[Succeeded / Failed / Skipped / Total] 117 / 3 / 40 / 160:  32%|██████▋              | 160/500 [03:00<06:22,  1.13s/it]textattack: Saving checkpoint under \"checkpoints\\1720191461337.ta.chkpt\" at 2024-07-05 22:57:41 after 160 attacks.\n",
      "[Succeeded / Failed / Skipped / Total] 117 / 3 / 41 / 161:  32%|██████▊              | 161/500 [03:00<06:19,  1.12s/it]"
     ]
    },
    {
     "name": "stdout",
     "output_type": "stream",
     "text": [
      "\n",
      "\n",
      "=============================================================================================================================\n",
      "=============================================================================================================================\n",
      "\n"
     ]
    },
    {
     "name": "stderr",
     "output_type": "stream",
     "text": [
      "[Succeeded / Failed / Skipped / Total] 120 / 3 / 42 / 165:  33%|██████▉              | 165/500 [03:05<06:16,  1.12s/it]textattack: Saving checkpoint under \"checkpoints\\1720191466382.ta.chkpt\" at 2024-07-05 22:57:46 after 165 attacks.\n"
     ]
    },
    {
     "name": "stdout",
     "output_type": "stream",
     "text": [
      "\n",
      "\n",
      "=============================================================================================================================\n",
      "=============================================================================================================================\n",
      "\n"
     ]
    },
    {
     "name": "stderr",
     "output_type": "stream",
     "text": [
      "[Succeeded / Failed / Skipped / Total] 124 / 3 / 43 / 170:  34%|███████▏             | 170/500 [03:09<06:08,  1.12s/it]textattack: Saving checkpoint under \"checkpoints\\1720191471168.ta.chkpt\" at 2024-07-05 22:57:51 after 170 attacks.\n"
     ]
    },
    {
     "name": "stdout",
     "output_type": "stream",
     "text": [
      "\n",
      "\n",
      "=============================================================================================================================\n",
      "=============================================================================================================================\n",
      "\n"
     ]
    },
    {
     "name": "stderr",
     "output_type": "stream",
     "text": [
      "[Succeeded / Failed / Skipped / Total] 128 / 3 / 44 / 175:  35%|███████▎             | 175/500 [03:21<06:13,  1.15s/it]textattack: Saving checkpoint under \"checkpoints\\1720191482380.ta.chkpt\" at 2024-07-05 22:58:02 after 175 attacks.\n"
     ]
    },
    {
     "name": "stdout",
     "output_type": "stream",
     "text": [
      "\n",
      "\n",
      "=============================================================================================================================\n",
      "=============================================================================================================================\n",
      "\n"
     ]
    },
    {
     "name": "stderr",
     "output_type": "stream",
     "text": [
      "[Succeeded / Failed / Skipped / Total] 131 / 4 / 45 / 180:  36%|███████▌             | 180/500 [03:25<06:06,  1.14s/it]textattack: Saving checkpoint under \"checkpoints\\1720191487143.ta.chkpt\" at 2024-07-05 22:58:07 after 180 attacks.\n"
     ]
    },
    {
     "name": "stdout",
     "output_type": "stream",
     "text": [
      "\n",
      "\n",
      "=============================================================================================================================\n",
      "=============================================================================================================================\n",
      "\n"
     ]
    },
    {
     "name": "stderr",
     "output_type": "stream",
     "text": [
      "[Succeeded / Failed / Skipped / Total] 135 / 4 / 46 / 185:  37%|███████▊             | 185/500 [03:28<05:55,  1.13s/it]textattack: Saving checkpoint under \"checkpoints\\1720191490145.ta.chkpt\" at 2024-07-05 22:58:10 after 185 attacks.\n"
     ]
    },
    {
     "name": "stdout",
     "output_type": "stream",
     "text": [
      "\n",
      "\n",
      "=============================================================================================================================\n",
      "=============================================================================================================================\n",
      "\n"
     ]
    },
    {
     "name": "stderr",
     "output_type": "stream",
     "text": [
      "[Succeeded / Failed / Skipped / Total] 140 / 4 / 46 / 190:  38%|███████▉             | 190/500 [03:40<05:59,  1.16s/it]textattack: Saving checkpoint under \"checkpoints\\1720191501555.ta.chkpt\" at 2024-07-05 22:58:21 after 190 attacks.\n"
     ]
    },
    {
     "name": "stdout",
     "output_type": "stream",
     "text": [
      "\n",
      "\n",
      "=============================================================================================================================\n",
      "=============================================================================================================================\n",
      "\n"
     ]
    },
    {
     "name": "stderr",
     "output_type": "stream",
     "text": [
      "[Succeeded / Failed / Skipped / Total] 143 / 4 / 48 / 195:  39%|████████▏            | 195/500 [03:46<05:54,  1.16s/it]textattack: Saving checkpoint under \"checkpoints\\1720191508076.ta.chkpt\" at 2024-07-05 22:58:28 after 195 attacks.\n"
     ]
    },
    {
     "name": "stdout",
     "output_type": "stream",
     "text": [
      "\n",
      "\n",
      "=============================================================================================================================\n",
      "=============================================================================================================================\n",
      "\n"
     ]
    },
    {
     "name": "stderr",
     "output_type": "stream",
     "text": [
      "[Succeeded / Failed / Skipped / Total] 147 / 4 / 49 / 200:  40%|████████▍            | 200/500 [03:56<05:54,  1.18s/it]textattack: Saving checkpoint under \"checkpoints\\1720191517523.ta.chkpt\" at 2024-07-05 22:58:37 after 200 attacks.\n"
     ]
    },
    {
     "name": "stdout",
     "output_type": "stream",
     "text": [
      "\n",
      "\n",
      "=============================================================================================================================\n",
      "=============================================================================================================================\n",
      "\n"
     ]
    },
    {
     "name": "stderr",
     "output_type": "stream",
     "text": [
      "[Succeeded / Failed / Skipped / Total] 151 / 4 / 50 / 205:  41%|████████▌            | 205/500 [04:00<05:46,  1.18s/it]textattack: Saving checkpoint under \"checkpoints\\1720191522070.ta.chkpt\" at 2024-07-05 22:58:42 after 205 attacks.\n"
     ]
    },
    {
     "name": "stdout",
     "output_type": "stream",
     "text": [
      "\n",
      "\n",
      "=============================================================================================================================\n",
      "=============================================================================================================================\n",
      "\n"
     ]
    },
    {
     "name": "stderr",
     "output_type": "stream",
     "text": [
      "[Succeeded / Failed / Skipped / Total] 154 / 4 / 52 / 210:  42%|████████▊            | 210/500 [04:03<05:36,  1.16s/it]textattack: Saving checkpoint under \"checkpoints\\1720191524710.ta.chkpt\" at 2024-07-05 22:58:44 after 210 attacks.\n"
     ]
    },
    {
     "name": "stdout",
     "output_type": "stream",
     "text": [
      "\n",
      "\n",
      "=============================================================================================================================\n",
      "=============================================================================================================================\n",
      "\n"
     ]
    },
    {
     "name": "stderr",
     "output_type": "stream",
     "text": [
      "[Succeeded / Failed / Skipped / Total] 157 / 5 / 53 / 215:  43%|█████████            | 215/500 [04:10<05:31,  1.16s/it]textattack: Saving checkpoint under \"checkpoints\\1720191531578.ta.chkpt\" at 2024-07-05 22:58:51 after 215 attacks.\n"
     ]
    },
    {
     "name": "stdout",
     "output_type": "stream",
     "text": [
      "\n",
      "\n",
      "=============================================================================================================================\n",
      "=============================================================================================================================\n",
      "\n"
     ]
    },
    {
     "name": "stderr",
     "output_type": "stream",
     "text": [
      "[Succeeded / Failed / Skipped / Total] 161 / 6 / 53 / 220:  44%|█████████▏           | 220/500 [04:13<05:22,  1.15s/it]textattack: Saving checkpoint under \"checkpoints\\1720191534440.ta.chkpt\" at 2024-07-05 22:58:54 after 220 attacks.\n"
     ]
    },
    {
     "name": "stdout",
     "output_type": "stream",
     "text": [
      "\n",
      "\n",
      "=============================================================================================================================\n",
      "=============================================================================================================================\n",
      "\n"
     ]
    },
    {
     "name": "stderr",
     "output_type": "stream",
     "text": [
      "[Succeeded / Failed / Skipped / Total] 164 / 6 / 55 / 225:  45%|█████████▍           | 225/500 [04:16<05:14,  1.14s/it]textattack: Saving checkpoint under \"checkpoints\\1720191538160.ta.chkpt\" at 2024-07-05 22:58:58 after 225 attacks.\n"
     ]
    },
    {
     "name": "stdout",
     "output_type": "stream",
     "text": [
      "\n",
      "\n",
      "=============================================================================================================================\n",
      "=============================================================================================================================\n",
      "\n"
     ]
    },
    {
     "name": "stderr",
     "output_type": "stream",
     "text": [
      "[Succeeded / Failed / Skipped / Total] 167 / 7 / 56 / 230:  46%|█████████▋           | 230/500 [04:21<05:07,  1.14s/it]textattack: Saving checkpoint under \"checkpoints\\1720191542879.ta.chkpt\" at 2024-07-05 22:59:02 after 230 attacks.\n"
     ]
    },
    {
     "name": "stdout",
     "output_type": "stream",
     "text": [
      "\n",
      "\n",
      "=============================================================================================================================\n",
      "=============================================================================================================================\n",
      "\n"
     ]
    },
    {
     "name": "stderr",
     "output_type": "stream",
     "text": [
      "[Succeeded / Failed / Skipped / Total] 171 / 8 / 56 / 235:  47%|█████████▊           | 235/500 [04:29<05:04,  1.15s/it]textattack: Saving checkpoint under \"checkpoints\\1720191550991.ta.chkpt\" at 2024-07-05 22:59:10 after 235 attacks.\n"
     ]
    },
    {
     "name": "stdout",
     "output_type": "stream",
     "text": [
      "\n",
      "\n",
      "=============================================================================================================================\n",
      "=============================================================================================================================\n",
      "\n"
     ]
    },
    {
     "name": "stderr",
     "output_type": "stream",
     "text": [
      "[Succeeded / Failed / Skipped / Total] 176 / 8 / 56 / 240:  48%|██████████           | 240/500 [04:36<04:59,  1.15s/it]textattack: Saving checkpoint under \"checkpoints\\1720191557662.ta.chkpt\" at 2024-07-05 22:59:17 after 240 attacks.\n"
     ]
    },
    {
     "name": "stdout",
     "output_type": "stream",
     "text": [
      "\n",
      "\n",
      "=============================================================================================================================\n",
      "=============================================================================================================================\n",
      "\n"
     ]
    },
    {
     "name": "stderr",
     "output_type": "stream",
     "text": [
      "[Succeeded / Failed / Skipped / Total] 181 / 8 / 56 / 245:  49%|██████████▎          | 245/500 [04:42<04:54,  1.15s/it]textattack: Saving checkpoint under \"checkpoints\\1720191563681.ta.chkpt\" at 2024-07-05 22:59:23 after 245 attacks.\n"
     ]
    },
    {
     "name": "stdout",
     "output_type": "stream",
     "text": [
      "\n",
      "\n",
      "=============================================================================================================================\n",
      "=============================================================================================================================\n",
      "\n"
     ]
    },
    {
     "name": "stderr",
     "output_type": "stream",
     "text": [
      "[Succeeded / Failed / Skipped / Total] 184 / 8 / 58 / 250:  50%|██████████▌          | 250/500 [04:45<04:45,  1.14s/it]textattack: Saving checkpoint under \"checkpoints\\1720191566388.ta.chkpt\" at 2024-07-05 22:59:26 after 250 attacks.\n"
     ]
    },
    {
     "name": "stdout",
     "output_type": "stream",
     "text": [
      "\n",
      "\n",
      "=============================================================================================================================\n",
      "=============================================================================================================================\n",
      "\n"
     ]
    },
    {
     "name": "stderr",
     "output_type": "stream",
     "text": [
      "[Succeeded / Failed / Skipped / Total] 188 / 8 / 59 / 255:  51%|██████████▋          | 255/500 [04:49<04:38,  1.14s/it]textattack: Saving checkpoint under \"checkpoints\\1720191570650.ta.chkpt\" at 2024-07-05 22:59:30 after 255 attacks.\n"
     ]
    },
    {
     "name": "stdout",
     "output_type": "stream",
     "text": [
      "\n",
      "\n",
      "=============================================================================================================================\n",
      "=============================================================================================================================\n",
      "\n"
     ]
    },
    {
     "name": "stderr",
     "output_type": "stream",
     "text": [
      "[Succeeded / Failed / Skipped / Total] 191 / 8 / 61 / 260:  52%|██████████▉          | 260/500 [04:54<04:31,  1.13s/it]textattack: Saving checkpoint under \"checkpoints\\1720191575325.ta.chkpt\" at 2024-07-05 22:59:35 after 260 attacks.\n"
     ]
    },
    {
     "name": "stdout",
     "output_type": "stream",
     "text": [
      "\n",
      "\n",
      "=============================================================================================================================\n",
      "=============================================================================================================================\n",
      "\n"
     ]
    },
    {
     "name": "stderr",
     "output_type": "stream",
     "text": [
      "[Succeeded / Failed / Skipped / Total] 196 / 8 / 61 / 265:  53%|███████████▏         | 265/500 [05:00<04:26,  1.14s/it]textattack: Saving checkpoint under \"checkpoints\\1720191582113.ta.chkpt\" at 2024-07-05 22:59:42 after 265 attacks.\n"
     ]
    },
    {
     "name": "stdout",
     "output_type": "stream",
     "text": [
      "\n",
      "\n",
      "=============================================================================================================================\n",
      "=============================================================================================================================\n",
      "\n"
     ]
    },
    {
     "name": "stderr",
     "output_type": "stream",
     "text": [
      "[Succeeded / Failed / Skipped / Total] 200 / 8 / 62 / 270:  54%|███████████▎         | 270/500 [05:11<04:25,  1.15s/it]textattack: Saving checkpoint under \"checkpoints\\1720191592601.ta.chkpt\" at 2024-07-05 22:59:52 after 270 attacks.\n",
      "[Succeeded / Failed / Skipped / Total] 200 / 8 / 63 / 271:  54%|███████████▍         | 271/500 [05:11<04:23,  1.15s/it]"
     ]
    },
    {
     "name": "stdout",
     "output_type": "stream",
     "text": [
      "\n",
      "\n",
      "=============================================================================================================================\n",
      "=============================================================================================================================\n",
      "\n"
     ]
    },
    {
     "name": "stderr",
     "output_type": "stream",
     "text": [
      "[Succeeded / Failed / Skipped / Total] 203 / 8 / 64 / 275:  55%|███████████▌         | 275/500 [05:13<04:16,  1.14s/it]textattack: Saving checkpoint under \"checkpoints\\1720191594405.ta.chkpt\" at 2024-07-05 22:59:54 after 275 attacks.\n"
     ]
    },
    {
     "name": "stdout",
     "output_type": "stream",
     "text": [
      "\n",
      "\n",
      "=============================================================================================================================\n",
      "=============================================================================================================================\n",
      "\n"
     ]
    },
    {
     "name": "stderr",
     "output_type": "stream",
     "text": [
      "[Succeeded / Failed / Skipped / Total] 206 / 8 / 66 / 280:  56%|███████████▊         | 280/500 [05:17<04:09,  1.13s/it]textattack: Saving checkpoint under \"checkpoints\\1720191598253.ta.chkpt\" at 2024-07-05 22:59:58 after 280 attacks.\n"
     ]
    },
    {
     "name": "stdout",
     "output_type": "stream",
     "text": [
      "\n",
      "\n",
      "=============================================================================================================================\n",
      "=============================================================================================================================\n",
      "\n"
     ]
    },
    {
     "name": "stderr",
     "output_type": "stream",
     "text": [
      "[Succeeded / Failed / Skipped / Total] 211 / 8 / 66 / 285:  57%|███████████▉         | 285/500 [05:23<04:03,  1.13s/it]textattack: Saving checkpoint under \"checkpoints\\1720191604603.ta.chkpt\" at 2024-07-05 23:00:04 after 285 attacks.\n"
     ]
    },
    {
     "name": "stdout",
     "output_type": "stream",
     "text": [
      "\n",
      "\n",
      "=============================================================================================================================\n",
      "=============================================================================================================================\n",
      "\n"
     ]
    },
    {
     "name": "stderr",
     "output_type": "stream",
     "text": [
      "[Succeeded / Failed / Skipped / Total] 215 / 8 / 67 / 290:  58%|████████████▏        | 290/500 [05:27<03:57,  1.13s/it]textattack: Saving checkpoint under \"checkpoints\\1720191608897.ta.chkpt\" at 2024-07-05 23:00:08 after 290 attacks.\n"
     ]
    },
    {
     "name": "stdout",
     "output_type": "stream",
     "text": [
      "\n",
      "\n",
      "=============================================================================================================================\n",
      "=============================================================================================================================\n",
      "\n"
     ]
    },
    {
     "name": "stderr",
     "output_type": "stream",
     "text": [
      "[Succeeded / Failed / Skipped / Total] 219 / 8 / 68 / 295:  59%|████████████▍        | 295/500 [05:33<03:51,  1.13s/it]textattack: Saving checkpoint under \"checkpoints\\1720191614486.ta.chkpt\" at 2024-07-05 23:00:14 after 295 attacks.\n"
     ]
    },
    {
     "name": "stdout",
     "output_type": "stream",
     "text": [
      "\n",
      "\n",
      "=============================================================================================================================\n",
      "=============================================================================================================================\n",
      "\n"
     ]
    },
    {
     "name": "stderr",
     "output_type": "stream",
     "text": [
      "[Succeeded / Failed / Skipped / Total] 224 / 8 / 68 / 300:  60%|████████████▌        | 300/500 [05:39<03:46,  1.13s/it]textattack: Saving checkpoint under \"checkpoints\\1720191620380.ta.chkpt\" at 2024-07-05 23:00:20 after 300 attacks.\n"
     ]
    },
    {
     "name": "stdout",
     "output_type": "stream",
     "text": [
      "\n",
      "\n",
      "=============================================================================================================================\n",
      "=============================================================================================================================\n",
      "\n"
     ]
    },
    {
     "name": "stderr",
     "output_type": "stream",
     "text": [
      "[Succeeded / Failed / Skipped / Total] 229 / 8 / 68 / 305:  61%|████████████▊        | 305/500 [05:45<03:40,  1.13s/it]textattack: Saving checkpoint under \"checkpoints\\1720191626621.ta.chkpt\" at 2024-07-05 23:00:26 after 305 attacks.\n"
     ]
    },
    {
     "name": "stdout",
     "output_type": "stream",
     "text": [
      "\n",
      "\n",
      "=============================================================================================================================\n",
      "=============================================================================================================================\n",
      "\n"
     ]
    },
    {
     "name": "stderr",
     "output_type": "stream",
     "text": [
      "[Succeeded / Failed / Skipped / Total] 233 / 8 / 69 / 310:  62%|█████████████        | 310/500 [05:49<03:33,  1.13s/it]textattack: Saving checkpoint under \"checkpoints\\1720191630244.ta.chkpt\" at 2024-07-05 23:00:30 after 310 attacks.\n"
     ]
    },
    {
     "name": "stdout",
     "output_type": "stream",
     "text": [
      "\n",
      "\n",
      "=============================================================================================================================\n",
      "=============================================================================================================================\n",
      "\n"
     ]
    },
    {
     "name": "stderr",
     "output_type": "stream",
     "text": [
      "[Succeeded / Failed / Skipped / Total] 236 / 8 / 71 / 315:  63%|█████████████▏       | 315/500 [05:54<03:28,  1.13s/it]textattack: Saving checkpoint under \"checkpoints\\1720191635653.ta.chkpt\" at 2024-07-05 23:00:35 after 315 attacks.\n"
     ]
    },
    {
     "name": "stdout",
     "output_type": "stream",
     "text": [
      "\n",
      "\n",
      "=============================================================================================================================\n",
      "=============================================================================================================================\n",
      "\n"
     ]
    },
    {
     "name": "stderr",
     "output_type": "stream",
     "text": [
      "[Succeeded / Failed / Skipped / Total] 239 / 8 / 73 / 320:  64%|█████████████▍       | 320/500 [06:02<03:23,  1.13s/it]textattack: Saving checkpoint under \"checkpoints\\1720191643362.ta.chkpt\" at 2024-07-05 23:00:43 after 320 attacks.\n"
     ]
    },
    {
     "name": "stdout",
     "output_type": "stream",
     "text": [
      "\n",
      "\n",
      "=============================================================================================================================\n",
      "=============================================================================================================================\n",
      "\n"
     ]
    },
    {
     "name": "stderr",
     "output_type": "stream",
     "text": [
      "[Succeeded / Failed / Skipped / Total] 244 / 8 / 73 / 325:  65%|█████████████▋       | 325/500 [06:12<03:20,  1.14s/it]textattack: Saving checkpoint under \"checkpoints\\1720191653271.ta.chkpt\" at 2024-07-05 23:00:53 after 325 attacks.\n"
     ]
    },
    {
     "name": "stdout",
     "output_type": "stream",
     "text": [
      "\n",
      "\n",
      "=============================================================================================================================\n",
      "=============================================================================================================================\n",
      "\n"
     ]
    },
    {
     "name": "stderr",
     "output_type": "stream",
     "text": [
      "[Succeeded / Failed / Skipped / Total] 249 / 8 / 73 / 330:  66%|█████████████▊       | 330/500 [06:17<03:14,  1.14s/it]textattack: Saving checkpoint under \"checkpoints\\1720191658623.ta.chkpt\" at 2024-07-05 23:00:58 after 330 attacks.\n"
     ]
    },
    {
     "name": "stdout",
     "output_type": "stream",
     "text": [
      "\n",
      "\n",
      "=============================================================================================================================\n",
      "=============================================================================================================================\n",
      "\n"
     ]
    },
    {
     "name": "stderr",
     "output_type": "stream",
     "text": [
      "[Succeeded / Failed / Skipped / Total] 253 / 8 / 74 / 335:  67%|██████████████       | 335/500 [06:27<03:10,  1.16s/it]textattack: Saving checkpoint under \"checkpoints\\1720191668270.ta.chkpt\" at 2024-07-05 23:01:08 after 335 attacks.\n",
      "[Succeeded / Failed / Skipped / Total] 253 / 8 / 75 / 336:  67%|██████████████       | 336/500 [06:27<03:08,  1.15s/it]"
     ]
    },
    {
     "name": "stdout",
     "output_type": "stream",
     "text": [
      "\n",
      "\n",
      "=============================================================================================================================\n",
      "=============================================================================================================================\n",
      "\n"
     ]
    },
    {
     "name": "stderr",
     "output_type": "stream",
     "text": [
      "[Succeeded / Failed / Skipped / Total] 255 / 9 / 76 / 340:  68%|██████████████▎      | 340/500 [06:30<03:03,  1.15s/it]textattack: Saving checkpoint under \"checkpoints\\1720191672134.ta.chkpt\" at 2024-07-05 23:01:12 after 340 attacks.\n"
     ]
    },
    {
     "name": "stdout",
     "output_type": "stream",
     "text": [
      "\n",
      "\n",
      "=============================================================================================================================\n",
      "=============================================================================================================================\n",
      "\n"
     ]
    },
    {
     "name": "stderr",
     "output_type": "stream",
     "text": [
      "[Succeeded / Failed / Skipped / Total] 258 / 9 / 78 / 345:  69%|██████████████▍      | 345/500 [06:37<02:58,  1.15s/it]textattack: Saving checkpoint under \"checkpoints\\1720191678711.ta.chkpt\" at 2024-07-05 23:01:18 after 345 attacks.\n"
     ]
    },
    {
     "name": "stdout",
     "output_type": "stream",
     "text": [
      "\n",
      "\n",
      "=============================================================================================================================\n",
      "=============================================================================================================================\n",
      "\n"
     ]
    },
    {
     "name": "stderr",
     "output_type": "stream",
     "text": [
      "[Succeeded / Failed / Skipped / Total] 263 / 9 / 78 / 350:  70%|██████████████▋      | 350/500 [06:49<02:55,  1.17s/it]textattack: Saving checkpoint under \"checkpoints\\1720191690228.ta.chkpt\" at 2024-07-05 23:01:30 after 350 attacks.\n"
     ]
    },
    {
     "name": "stdout",
     "output_type": "stream",
     "text": [
      "\n",
      "\n",
      "=============================================================================================================================\n",
      "=============================================================================================================================\n",
      "\n"
     ]
    },
    {
     "name": "stderr",
     "output_type": "stream",
     "text": [
      "[Succeeded / Failed / Skipped / Total] 267 / 10 / 78 / 355:  71%|██████████████▏     | 355/500 [07:00<02:51,  1.19s/it]textattack: Saving checkpoint under \"checkpoints\\1720191702067.ta.chkpt\" at 2024-07-05 23:01:42 after 355 attacks.\n"
     ]
    },
    {
     "name": "stdout",
     "output_type": "stream",
     "text": [
      "\n",
      "\n",
      "=============================================================================================================================\n",
      "=============================================================================================================================\n",
      "\n"
     ]
    },
    {
     "name": "stderr",
     "output_type": "stream",
     "text": [
      "[Succeeded / Failed / Skipped / Total] 271 / 10 / 79 / 360:  72%|██████████████▍     | 360/500 [07:08<02:46,  1.19s/it]textattack: Saving checkpoint under \"checkpoints\\1720191710118.ta.chkpt\" at 2024-07-05 23:01:50 after 360 attacks.\n"
     ]
    },
    {
     "name": "stdout",
     "output_type": "stream",
     "text": [
      "\n",
      "\n",
      "=============================================================================================================================\n",
      "=============================================================================================================================\n",
      "\n"
     ]
    },
    {
     "name": "stderr",
     "output_type": "stream",
     "text": [
      "[Succeeded / Failed / Skipped / Total] 276 / 10 / 79 / 365:  73%|██████████████▌     | 365/500 [07:14<02:40,  1.19s/it]textattack: Saving checkpoint under \"checkpoints\\1720191715656.ta.chkpt\" at 2024-07-05 23:01:55 after 365 attacks.\n"
     ]
    },
    {
     "name": "stdout",
     "output_type": "stream",
     "text": [
      "\n",
      "\n",
      "=============================================================================================================================\n",
      "=============================================================================================================================\n",
      "\n"
     ]
    },
    {
     "name": "stderr",
     "output_type": "stream",
     "text": [
      "[Succeeded / Failed / Skipped / Total] 280 / 10 / 80 / 370:  74%|██████████████▊     | 370/500 [07:18<02:34,  1.19s/it]textattack: Saving checkpoint under \"checkpoints\\1720191720090.ta.chkpt\" at 2024-07-05 23:02:00 after 370 attacks.\n",
      "[Succeeded / Failed / Skipped / Total] 280 / 10 / 81 / 371:  74%|██████████████▊     | 371/500 [07:19<02:32,  1.18s/it]"
     ]
    },
    {
     "name": "stdout",
     "output_type": "stream",
     "text": [
      "\n",
      "\n",
      "=============================================================================================================================\n",
      "=============================================================================================================================\n",
      "\n"
     ]
    },
    {
     "name": "stderr",
     "output_type": "stream",
     "text": [
      "[Succeeded / Failed / Skipped / Total] 284 / 10 / 81 / 375:  75%|███████████████     | 375/500 [07:26<02:28,  1.19s/it]textattack: Saving checkpoint under \"checkpoints\\1720191728163.ta.chkpt\" at 2024-07-05 23:02:08 after 375 attacks.\n"
     ]
    },
    {
     "name": "stdout",
     "output_type": "stream",
     "text": [
      "\n",
      "\n",
      "=============================================================================================================================\n",
      "=============================================================================================================================\n",
      "\n"
     ]
    },
    {
     "name": "stderr",
     "output_type": "stream",
     "text": [
      "[Succeeded / Failed / Skipped / Total] 288 / 10 / 82 / 380:  76%|███████████████▏    | 380/500 [07:29<02:21,  1.18s/it]textattack: Saving checkpoint under \"checkpoints\\1720191730844.ta.chkpt\" at 2024-07-05 23:02:10 after 380 attacks.\n"
     ]
    },
    {
     "name": "stdout",
     "output_type": "stream",
     "text": [
      "\n",
      "\n",
      "=============================================================================================================================\n",
      "=============================================================================================================================\n",
      "\n"
     ]
    },
    {
     "name": "stderr",
     "output_type": "stream",
     "text": [
      "[Succeeded / Failed / Skipped / Total] 293 / 10 / 82 / 385:  77%|███████████████▍    | 385/500 [07:35<02:15,  1.18s/it]textattack: Saving checkpoint under \"checkpoints\\1720191736208.ta.chkpt\" at 2024-07-05 23:02:16 after 385 attacks.\n"
     ]
    },
    {
     "name": "stdout",
     "output_type": "stream",
     "text": [
      "\n",
      "\n",
      "=============================================================================================================================\n",
      "=============================================================================================================================\n",
      "\n"
     ]
    },
    {
     "name": "stderr",
     "output_type": "stream",
     "text": [
      "[Succeeded / Failed / Skipped / Total] 297 / 10 / 83 / 390:  78%|███████████████▌    | 390/500 [07:39<02:09,  1.18s/it]textattack: Saving checkpoint under \"checkpoints\\1720191740474.ta.chkpt\" at 2024-07-05 23:02:20 after 390 attacks.\n"
     ]
    },
    {
     "name": "stdout",
     "output_type": "stream",
     "text": [
      "\n",
      "\n",
      "=============================================================================================================================\n",
      "=============================================================================================================================\n",
      "\n"
     ]
    },
    {
     "name": "stderr",
     "output_type": "stream",
     "text": [
      "[Succeeded / Failed / Skipped / Total] 300 / 11 / 84 / 395:  79%|███████████████▊    | 395/500 [07:45<02:03,  1.18s/it]textattack: Saving checkpoint under \"checkpoints\\1720191746789.ta.chkpt\" at 2024-07-05 23:02:26 after 395 attacks.\n"
     ]
    },
    {
     "name": "stdout",
     "output_type": "stream",
     "text": [
      "\n",
      "\n",
      "=============================================================================================================================\n",
      "=============================================================================================================================\n",
      "\n"
     ]
    },
    {
     "name": "stderr",
     "output_type": "stream",
     "text": [
      "[Succeeded / Failed / Skipped / Total] 305 / 11 / 84 / 400:  80%|████████████████    | 400/500 [07:53<01:58,  1.18s/it]textattack: Saving checkpoint under \"checkpoints\\1720191754774.ta.chkpt\" at 2024-07-05 23:02:34 after 400 attacks.\n"
     ]
    },
    {
     "name": "stdout",
     "output_type": "stream",
     "text": [
      "\n",
      "\n",
      "=============================================================================================================================\n",
      "=============================================================================================================================\n",
      "\n"
     ]
    },
    {
     "name": "stderr",
     "output_type": "stream",
     "text": [
      "[Succeeded / Failed / Skipped / Total] 309 / 11 / 85 / 405:  81%|████████████████▏   | 405/500 [08:00<01:52,  1.19s/it]textattack: Saving checkpoint under \"checkpoints\\1720191761654.ta.chkpt\" at 2024-07-05 23:02:41 after 405 attacks.\n"
     ]
    },
    {
     "name": "stdout",
     "output_type": "stream",
     "text": [
      "\n",
      "\n",
      "=============================================================================================================================\n",
      "=============================================================================================================================\n",
      "\n"
     ]
    },
    {
     "name": "stderr",
     "output_type": "stream",
     "text": [
      "[Succeeded / Failed / Skipped / Total] 314 / 11 / 85 / 410:  82%|████████████████▍   | 410/500 [08:05<01:46,  1.18s/it]textattack: Saving checkpoint under \"checkpoints\\1720191766193.ta.chkpt\" at 2024-07-05 23:02:46 after 410 attacks.\n"
     ]
    },
    {
     "name": "stdout",
     "output_type": "stream",
     "text": [
      "\n",
      "\n",
      "=============================================================================================================================\n",
      "=============================================================================================================================\n",
      "\n"
     ]
    },
    {
     "name": "stderr",
     "output_type": "stream",
     "text": [
      "[Succeeded / Failed / Skipped / Total] 315 / 11 / 89 / 415:  83%|████████████████▌   | 415/500 [08:07<01:39,  1.17s/it]textattack: Saving checkpoint under \"checkpoints\\1720191768733.ta.chkpt\" at 2024-07-05 23:02:48 after 415 attacks.\n"
     ]
    },
    {
     "name": "stdout",
     "output_type": "stream",
     "text": [
      "\n",
      "\n",
      "=============================================================================================================================\n",
      "=============================================================================================================================\n",
      "\n"
     ]
    },
    {
     "name": "stderr",
     "output_type": "stream",
     "text": [
      "[Succeeded / Failed / Skipped / Total] 318 / 12 / 90 / 420:  84%|████████████████▊   | 420/500 [08:14<01:34,  1.18s/it]textattack: Saving checkpoint under \"checkpoints\\1720191775778.ta.chkpt\" at 2024-07-05 23:02:55 after 420 attacks.\n"
     ]
    },
    {
     "name": "stdout",
     "output_type": "stream",
     "text": [
      "\n",
      "\n",
      "=============================================================================================================================\n",
      "=============================================================================================================================\n",
      "\n"
     ]
    },
    {
     "name": "stderr",
     "output_type": "stream",
     "text": [
      "[Succeeded / Failed / Skipped / Total] 323 / 12 / 90 / 425:  85%|█████████████████   | 425/500 [08:20<01:28,  1.18s/it]textattack: Saving checkpoint under \"checkpoints\\1720191781470.ta.chkpt\" at 2024-07-05 23:03:01 after 425 attacks.\n"
     ]
    },
    {
     "name": "stdout",
     "output_type": "stream",
     "text": [
      "\n",
      "\n",
      "=============================================================================================================================\n",
      "=============================================================================================================================\n",
      "\n"
     ]
    },
    {
     "name": "stderr",
     "output_type": "stream",
     "text": [
      "[Succeeded / Failed / Skipped / Total] 328 / 12 / 90 / 430:  86%|█████████████████▏  | 430/500 [08:29<01:22,  1.18s/it]textattack: Saving checkpoint under \"checkpoints\\1720191790573.ta.chkpt\" at 2024-07-05 23:03:10 after 430 attacks.\n",
      "[Succeeded / Failed / Skipped / Total] 328 / 12 / 91 / 431:  86%|█████████████████▏  | 431/500 [08:29<01:21,  1.18s/it]"
     ]
    },
    {
     "name": "stdout",
     "output_type": "stream",
     "text": [
      "\n",
      "\n",
      "=============================================================================================================================\n",
      "=============================================================================================================================\n",
      "\n"
     ]
    },
    {
     "name": "stderr",
     "output_type": "stream",
     "text": [
      "[Succeeded / Failed / Skipped / Total] 332 / 12 / 91 / 435:  87%|█████████████████▍  | 435/500 [08:33<01:16,  1.18s/it]textattack: Saving checkpoint under \"checkpoints\\1720191794935.ta.chkpt\" at 2024-07-05 23:03:14 after 435 attacks.\n",
      "[Succeeded / Failed / Skipped / Total] 332 / 12 / 92 / 436:  87%|█████████████████▍  | 436/500 [08:33<01:15,  1.18s/it]"
     ]
    },
    {
     "name": "stdout",
     "output_type": "stream",
     "text": [
      "\n",
      "\n",
      "=============================================================================================================================\n",
      "=============================================================================================================================\n",
      "\n"
     ]
    },
    {
     "name": "stderr",
     "output_type": "stream",
     "text": [
      "[Succeeded / Failed / Skipped / Total] 336 / 12 / 92 / 440:  88%|█████████████████▌  | 440/500 [08:43<01:11,  1.19s/it]textattack: Saving checkpoint under \"checkpoints\\1720191804321.ta.chkpt\" at 2024-07-05 23:03:24 after 440 attacks.\n"
     ]
    },
    {
     "name": "stdout",
     "output_type": "stream",
     "text": [
      "\n",
      "\n",
      "=============================================================================================================================\n",
      "=============================================================================================================================\n",
      "\n"
     ]
    },
    {
     "name": "stderr",
     "output_type": "stream",
     "text": [
      "[Succeeded / Failed / Skipped / Total] 340 / 12 / 93 / 445:  89%|█████████████████▊  | 445/500 [08:46<01:05,  1.18s/it]textattack: Saving checkpoint under \"checkpoints\\1720191807385.ta.chkpt\" at 2024-07-05 23:03:27 after 445 attacks.\n"
     ]
    },
    {
     "name": "stdout",
     "output_type": "stream",
     "text": [
      "\n",
      "\n",
      "=============================================================================================================================\n",
      "=============================================================================================================================\n",
      "\n"
     ]
    },
    {
     "name": "stderr",
     "output_type": "stream",
     "text": [
      "[Succeeded / Failed / Skipped / Total] 343 / 12 / 95 / 450:  90%|██████████████████  | 450/500 [08:50<00:58,  1.18s/it]textattack: Saving checkpoint under \"checkpoints\\1720191811727.ta.chkpt\" at 2024-07-05 23:03:31 after 450 attacks.\n"
     ]
    },
    {
     "name": "stdout",
     "output_type": "stream",
     "text": [
      "\n",
      "\n",
      "=============================================================================================================================\n",
      "=============================================================================================================================\n",
      "\n"
     ]
    },
    {
     "name": "stderr",
     "output_type": "stream",
     "text": [
      "[Succeeded / Failed / Skipped / Total] 346 / 12 / 97 / 455:  91%|██████████████████▏ | 455/500 [08:54<00:52,  1.17s/it]textattack: Saving checkpoint under \"checkpoints\\1720191815719.ta.chkpt\" at 2024-07-05 23:03:35 after 455 attacks.\n"
     ]
    },
    {
     "name": "stdout",
     "output_type": "stream",
     "text": [
      "\n",
      "\n",
      "=============================================================================================================================\n",
      "=============================================================================================================================\n",
      "\n"
     ]
    },
    {
     "name": "stderr",
     "output_type": "stream",
     "text": [
      "[Succeeded / Failed / Skipped / Total] 351 / 12 / 97 / 460:  92%|██████████████████▍ | 460/500 [09:01<00:47,  1.18s/it]textattack: Saving checkpoint under \"checkpoints\\1720191822679.ta.chkpt\" at 2024-07-05 23:03:42 after 460 attacks.\n"
     ]
    },
    {
     "name": "stdout",
     "output_type": "stream",
     "text": [
      "\n",
      "\n",
      "=============================================================================================================================\n",
      "=============================================================================================================================\n",
      "\n"
     ]
    },
    {
     "name": "stderr",
     "output_type": "stream",
     "text": [
      "[Succeeded / Failed / Skipped / Total] 354 / 12 / 99 / 465:  93%|██████████████████▌ | 465/500 [09:08<00:41,  1.18s/it]textattack: Saving checkpoint under \"checkpoints\\1720191829981.ta.chkpt\" at 2024-07-05 23:03:49 after 465 attacks.\n",
      "[Succeeded / Failed / Skipped / Total] 354 / 12 / 100 / 466:  93%|█████████████████▋ | 466/500 [09:08<00:40,  1.18s/it]"
     ]
    },
    {
     "name": "stdout",
     "output_type": "stream",
     "text": [
      "\n",
      "\n",
      "=============================================================================================================================\n",
      "=============================================================================================================================\n",
      "\n"
     ]
    },
    {
     "name": "stderr",
     "output_type": "stream",
     "text": [
      "[Succeeded / Failed / Skipped / Total] 357 / 12 / 101 / 470:  94%|█████████████████▊ | 470/500 [09:11<00:35,  1.17s/it]textattack: Saving checkpoint under \"checkpoints\\1720191832500.ta.chkpt\" at 2024-07-05 23:03:52 after 470 attacks.\n"
     ]
    },
    {
     "name": "stdout",
     "output_type": "stream",
     "text": [
      "\n",
      "\n",
      "=============================================================================================================================\n",
      "=============================================================================================================================\n",
      "\n"
     ]
    },
    {
     "name": "stderr",
     "output_type": "stream",
     "text": [
      "[Succeeded / Failed / Skipped / Total] 362 / 12 / 101 / 475:  95%|██████████████████ | 475/500 [09:23<00:29,  1.19s/it]textattack: Saving checkpoint under \"checkpoints\\1720191844778.ta.chkpt\" at 2024-07-05 23:04:04 after 475 attacks.\n"
     ]
    },
    {
     "name": "stdout",
     "output_type": "stream",
     "text": [
      "\n",
      "\n",
      "=============================================================================================================================\n",
      "=============================================================================================================================\n",
      "\n"
     ]
    },
    {
     "name": "stderr",
     "output_type": "stream",
     "text": [
      "[Succeeded / Failed / Skipped / Total] 367 / 12 / 101 / 480:  96%|██████████████████▏| 480/500 [09:29<00:23,  1.19s/it]textattack: Saving checkpoint under \"checkpoints\\1720191850564.ta.chkpt\" at 2024-07-05 23:04:10 after 480 attacks.\n"
     ]
    },
    {
     "name": "stdout",
     "output_type": "stream",
     "text": [
      "\n",
      "\n",
      "=============================================================================================================================\n",
      "=============================================================================================================================\n",
      "\n"
     ]
    },
    {
     "name": "stderr",
     "output_type": "stream",
     "text": [
      "[Succeeded / Failed / Skipped / Total] 371 / 12 / 102 / 485:  97%|██████████████████▍| 485/500 [09:36<00:17,  1.19s/it]textattack: Saving checkpoint under \"checkpoints\\1720191857993.ta.chkpt\" at 2024-07-05 23:04:17 after 485 attacks.\n"
     ]
    },
    {
     "name": "stdout",
     "output_type": "stream",
     "text": [
      "\n",
      "\n",
      "=============================================================================================================================\n",
      "=============================================================================================================================\n",
      "\n"
     ]
    },
    {
     "name": "stderr",
     "output_type": "stream",
     "text": [
      "[Succeeded / Failed / Skipped / Total] 375 / 12 / 103 / 490:  98%|██████████████████▌| 490/500 [09:42<00:11,  1.19s/it]textattack: Saving checkpoint under \"checkpoints\\1720191863496.ta.chkpt\" at 2024-07-05 23:04:23 after 490 attacks.\n",
      "[Succeeded / Failed / Skipped / Total] 375 / 12 / 104 / 491:  98%|██████████████████▋| 491/500 [09:42<00:10,  1.19s/it]"
     ]
    },
    {
     "name": "stdout",
     "output_type": "stream",
     "text": [
      "\n",
      "\n",
      "=============================================================================================================================\n",
      "=============================================================================================================================\n",
      "\n"
     ]
    },
    {
     "name": "stderr",
     "output_type": "stream",
     "text": [
      "[Succeeded / Failed / Skipped / Total] 379 / 12 / 104 / 495:  99%|██████████████████▊| 495/500 [09:49<00:05,  1.19s/it]textattack: Saving checkpoint under \"checkpoints\\1720191870912.ta.chkpt\" at 2024-07-05 23:04:30 after 495 attacks.\n"
     ]
    },
    {
     "name": "stdout",
     "output_type": "stream",
     "text": [
      "\n",
      "\n",
      "=============================================================================================================================\n",
      "=============================================================================================================================\n",
      "\n"
     ]
    },
    {
     "name": "stderr",
     "output_type": "stream",
     "text": [
      "[Succeeded / Failed / Skipped / Total] 384 / 12 / 104 / 500: 100%|███████████████████| 500/500 [10:00<00:00,  1.20s/it]textattack: Saving checkpoint under \"checkpoints\\1720191881581.ta.chkpt\" at 2024-07-05 23:04:41 after 500 attacks.\n",
      "[Succeeded / Failed / Skipped / Total] 384 / 12 / 104 / 500: 100%|███████████████████| 500/500 [10:00<00:00,  1.20s/it]"
     ]
    },
    {
     "name": "stdout",
     "output_type": "stream",
     "text": [
      "\n",
      "\n",
      "=============================================================================================================================\n",
      "=============================================================================================================================\n",
      "\n",
      "\n",
      "+-------------------------------+--------+\n",
      "| Attack Results                |        |\n",
      "+-------------------------------+--------+\n",
      "| Number of successful attacks: | 384    |\n",
      "| Number of failed attacks:     | 12     |\n",
      "| Number of skipped attacks:    | 104    |\n",
      "| Original accuracy:            | 79.2%  |\n",
      "| Accuracy under attack:        | 2.4%   |\n",
      "| Attack success rate:          | 96.97% |\n",
      "| Average perturbed word %:     | 17.18% |\n",
      "| Average num. words per input: | 18.4   |\n",
      "| Avg num queries:              | 61.2   |\n",
      "+-------------------------------+--------+\n"
     ]
    },
    {
     "name": "stderr",
     "output_type": "stream",
     "text": [
      "\n"
     ]
    }
   ],
   "source": [
    "runAttack(disbert_model_wrapper_lr_mr, n_samples, 'attack_results_new/disbertmrattacklr'+suffix, target_ds_mr)"
   ]
  },
  {
   "cell_type": "code",
   "execution_count": 21,
   "id": "f264d4df-6423-44ba-b31f-11532355cb5e",
   "metadata": {
    "scrolled": true
   },
   "outputs": [
    {
     "name": "stderr",
     "output_type": "stream",
     "text": [
      "textattack: Unknown if model of class <class 'transformers.models.distilbert.modeling_distilbert.DistilBertModel'> compatible with goal function <class 'textattack.goal_functions.classification.untargeted_classification.UntargetedClassification'>.\n",
      "textattack: Logging to CSV at path attack_results_new/disbertmrattackrfsim06.csv\n"
     ]
    },
    {
     "name": "stdout",
     "output_type": "stream",
     "text": [
      "Attack(\n",
      "  (search_method): GreedyWordSwapWIR(\n",
      "    (wir_method):  delete\n",
      "  )\n",
      "  (goal_function):  UntargetedClassification\n",
      "  (transformation):  WordSwapEmbedding(\n",
      "    (max_candidates):  50\n",
      "    (embedding):  WordEmbedding\n",
      "  )\n",
      "  (constraints): \n",
      "    (0): WordEmbeddingDistance(\n",
      "        (embedding):  WordEmbedding\n",
      "        (min_cos_sim):  0.6\n",
      "        (cased):  False\n",
      "        (include_unknown_words):  True\n",
      "        (compare_against_original):  True\n",
      "      )\n",
      "    (1): PartOfSpeech(\n",
      "        (tagger_type):  nltk\n",
      "        (tagset):  universal\n",
      "        (allow_verb_noun_swap):  True\n",
      "        (compare_against_original):  True\n",
      "      )\n",
      "    (2): UniversalSentenceEncoder(\n",
      "        (metric):  angular\n",
      "        (threshold):  0.840845057\n",
      "        (window_size):  15\n",
      "        (skip_text_shorter_than_window):  True\n",
      "        (compare_against_original):  False\n",
      "      )\n",
      "    (3): RepeatModification\n",
      "    (4): StopwordModification\n",
      "    (5): InputColumnModification(\n",
      "        (matching_column_labels):  ['premise', 'hypothesis']\n",
      "        (columns_to_ignore):  {'premise'}\n",
      "      )\n",
      "  (is_black_box):  True\n",
      ") \n",
      "\n"
     ]
    },
    {
     "name": "stderr",
     "output_type": "stream",
     "text": [
      "[Succeeded / Failed / Skipped / Total] 4 / 0 / 1 / 5:   1%|▎                           | 5/500 [00:15<25:07,  3.05s/it]textattack: Saving checkpoint under \"checkpoints\\1720191896913.ta.chkpt\" at 2024-07-05 23:04:56 after 5 attacks.\n",
      "[Succeeded / Failed / Skipped / Total] 4 / 0 / 2 / 6:   1%|▎                           | 6/500 [00:15<20:58,  2.55s/it]"
     ]
    },
    {
     "name": "stdout",
     "output_type": "stream",
     "text": [
      "\n",
      "\n",
      "=============================================================================================================================\n",
      "=============================================================================================================================\n",
      "\n"
     ]
    },
    {
     "name": "stderr",
     "output_type": "stream",
     "text": [
      "[Succeeded / Failed / Skipped / Total] 7 / 1 / 2 / 10:   2%|▌                         | 10/500 [00:23<18:56,  2.32s/it]textattack: Saving checkpoint under \"checkpoints\\1720191904873.ta.chkpt\" at 2024-07-05 23:05:04 after 10 attacks.\n"
     ]
    },
    {
     "name": "stdout",
     "output_type": "stream",
     "text": [
      "\n",
      "\n",
      "=============================================================================================================================\n",
      "=============================================================================================================================\n",
      "\n"
     ]
    },
    {
     "name": "stderr",
     "output_type": "stream",
     "text": [
      "[Succeeded / Failed / Skipped / Total] 10 / 2 / 3 / 15:   3%|▊                        | 15/500 [00:38<20:34,  2.55s/it]textattack: Saving checkpoint under \"checkpoints\\1720191919878.ta.chkpt\" at 2024-07-05 23:05:19 after 15 attacks.\n"
     ]
    },
    {
     "name": "stdout",
     "output_type": "stream",
     "text": [
      "\n",
      "\n",
      "=============================================================================================================================\n",
      "=============================================================================================================================\n",
      "\n"
     ]
    },
    {
     "name": "stderr",
     "output_type": "stream",
     "text": [
      "[Succeeded / Failed / Skipped / Total] 12 / 4 / 4 / 20:   4%|█                        | 20/500 [00:42<16:58,  2.12s/it]textattack: Saving checkpoint under \"checkpoints\\1720191924141.ta.chkpt\" at 2024-07-05 23:05:24 after 20 attacks.\n"
     ]
    },
    {
     "name": "stdout",
     "output_type": "stream",
     "text": [
      "\n",
      "\n",
      "=============================================================================================================================\n",
      "=============================================================================================================================\n",
      "\n"
     ]
    },
    {
     "name": "stderr",
     "output_type": "stream",
     "text": [
      "[Succeeded / Failed / Skipped / Total] 16 / 4 / 5 / 25:   5%|█▎                       | 25/500 [00:45<14:33,  1.84s/it]textattack: Saving checkpoint under \"checkpoints\\1720191927643.ta.chkpt\" at 2024-07-05 23:05:27 after 25 attacks.\n"
     ]
    },
    {
     "name": "stdout",
     "output_type": "stream",
     "text": [
      "\n",
      "\n",
      "=============================================================================================================================\n",
      "=============================================================================================================================\n",
      "\n"
     ]
    },
    {
     "name": "stderr",
     "output_type": "stream",
     "text": [
      "[Succeeded / Failed / Skipped / Total] 19 / 4 / 7 / 30:   6%|█▌                       | 30/500 [00:51<13:19,  1.70s/it]textattack: Saving checkpoint under \"checkpoints\\1720191932707.ta.chkpt\" at 2024-07-05 23:05:32 after 30 attacks.\n"
     ]
    },
    {
     "name": "stdout",
     "output_type": "stream",
     "text": [
      "\n",
      "\n",
      "=============================================================================================================================\n",
      "=============================================================================================================================\n",
      "\n"
     ]
    },
    {
     "name": "stderr",
     "output_type": "stream",
     "text": [
      "[Succeeded / Failed / Skipped / Total] 21 / 5 / 9 / 35:   7%|█▊                       | 35/500 [00:55<12:17,  1.59s/it]textattack: Saving checkpoint under \"checkpoints\\1720191937199.ta.chkpt\" at 2024-07-05 23:05:37 after 35 attacks.\n"
     ]
    },
    {
     "name": "stdout",
     "output_type": "stream",
     "text": [
      "\n",
      "\n",
      "=============================================================================================================================\n",
      "=============================================================================================================================\n",
      "\n"
     ]
    },
    {
     "name": "stderr",
     "output_type": "stream",
     "text": [
      "[Succeeded / Failed / Skipped / Total] 25 / 5 / 10 / 40:   8%|█▉                      | 40/500 [01:00<11:31,  1.50s/it]textattack: Saving checkpoint under \"checkpoints\\1720191941845.ta.chkpt\" at 2024-07-05 23:05:41 after 40 attacks.\n"
     ]
    },
    {
     "name": "stdout",
     "output_type": "stream",
     "text": [
      "\n",
      "\n",
      "=============================================================================================================================\n",
      "=============================================================================================================================\n",
      "\n"
     ]
    },
    {
     "name": "stderr",
     "output_type": "stream",
     "text": [
      "[Succeeded / Failed / Skipped / Total] 29 / 5 / 11 / 45:   9%|██▏                     | 45/500 [01:10<11:48,  1.56s/it]textattack: Saving checkpoint under \"checkpoints\\1720191951764.ta.chkpt\" at 2024-07-05 23:05:51 after 45 attacks.\n"
     ]
    },
    {
     "name": "stdout",
     "output_type": "stream",
     "text": [
      "\n",
      "\n",
      "=============================================================================================================================\n",
      "=============================================================================================================================\n",
      "\n"
     ]
    },
    {
     "name": "stderr",
     "output_type": "stream",
     "text": [
      "[Succeeded / Failed / Skipped / Total] 33 / 6 / 11 / 50:  10%|██▍                     | 50/500 [01:19<11:55,  1.59s/it]textattack: Saving checkpoint under \"checkpoints\\1720191961205.ta.chkpt\" at 2024-07-05 23:06:01 after 50 attacks.\n"
     ]
    },
    {
     "name": "stdout",
     "output_type": "stream",
     "text": [
      "\n",
      "\n",
      "=============================================================================================================================\n",
      "=============================================================================================================================\n",
      "\n"
     ]
    },
    {
     "name": "stderr",
     "output_type": "stream",
     "text": [
      "[Succeeded / Failed / Skipped / Total] 37 / 6 / 12 / 55:  11%|██▋                     | 55/500 [01:28<11:54,  1.60s/it]textattack: Saving checkpoint under \"checkpoints\\1720191969942.ta.chkpt\" at 2024-07-05 23:06:09 after 55 attacks.\n"
     ]
    },
    {
     "name": "stdout",
     "output_type": "stream",
     "text": [
      "\n",
      "\n",
      "=============================================================================================================================\n",
      "=============================================================================================================================\n",
      "\n"
     ]
    },
    {
     "name": "stderr",
     "output_type": "stream",
     "text": [
      "[Succeeded / Failed / Skipped / Total] 41 / 6 / 13 / 60:  12%|██▉                     | 60/500 [01:33<11:25,  1.56s/it]textattack: Saving checkpoint under \"checkpoints\\1720191975156.ta.chkpt\" at 2024-07-05 23:06:15 after 60 attacks.\n",
      "[Succeeded / Failed / Skipped / Total] 41 / 6 / 14 / 61:  12%|██▉                     | 61/500 [01:33<11:13,  1.53s/it]"
     ]
    },
    {
     "name": "stdout",
     "output_type": "stream",
     "text": [
      "\n",
      "\n",
      "=============================================================================================================================\n",
      "=============================================================================================================================\n",
      "\n"
     ]
    },
    {
     "name": "stderr",
     "output_type": "stream",
     "text": [
      "[Succeeded / Failed / Skipped / Total] 45 / 6 / 14 / 65:  13%|███                     | 65/500 [01:36<10:44,  1.48s/it]textattack: Saving checkpoint under \"checkpoints\\1720191977972.ta.chkpt\" at 2024-07-05 23:06:17 after 65 attacks.\n"
     ]
    },
    {
     "name": "stdout",
     "output_type": "stream",
     "text": [
      "\n",
      "\n",
      "=============================================================================================================================\n",
      "=============================================================================================================================\n",
      "\n"
     ]
    },
    {
     "name": "stderr",
     "output_type": "stream",
     "text": [
      "[Succeeded / Failed / Skipped / Total] 46 / 8 / 16 / 70:  14%|███▎                    | 70/500 [01:41<10:23,  1.45s/it]textattack: Saving checkpoint under \"checkpoints\\1720191983218.ta.chkpt\" at 2024-07-05 23:06:23 after 70 attacks.\n"
     ]
    },
    {
     "name": "stdout",
     "output_type": "stream",
     "text": [
      "\n",
      "\n",
      "=============================================================================================================================\n",
      "=============================================================================================================================\n",
      "\n"
     ]
    },
    {
     "name": "stderr",
     "output_type": "stream",
     "text": [
      "[Succeeded / Failed / Skipped / Total] 49 / 8 / 18 / 75:  15%|███▌                    | 75/500 [01:46<10:05,  1.43s/it]textattack: Saving checkpoint under \"checkpoints\\1720191988620.ta.chkpt\" at 2024-07-05 23:06:28 after 75 attacks.\n",
      "[Succeeded / Failed / Skipped / Total] 49 / 8 / 19 / 76:  15%|███▋                    | 76/500 [01:46<09:56,  1.41s/it]"
     ]
    },
    {
     "name": "stdout",
     "output_type": "stream",
     "text": [
      "\n",
      "\n",
      "=============================================================================================================================\n",
      "=============================================================================================================================\n",
      "\n"
     ]
    },
    {
     "name": "stderr",
     "output_type": "stream",
     "text": [
      "[Succeeded / Failed / Skipped / Total] 52 / 8 / 20 / 80:  16%|███▊                    | 80/500 [01:52<09:52,  1.41s/it]textattack: Saving checkpoint under \"checkpoints\\1720191994571.ta.chkpt\" at 2024-07-05 23:06:34 after 80 attacks.\n",
      "[Succeeded / Failed / Skipped / Total] 52 / 8 / 22 / 82:  16%|███▉                    | 82/500 [01:53<09:36,  1.38s/it]"
     ]
    },
    {
     "name": "stdout",
     "output_type": "stream",
     "text": [
      "\n",
      "\n",
      "=============================================================================================================================\n",
      "=============================================================================================================================\n",
      "\n"
     ]
    },
    {
     "name": "stderr",
     "output_type": "stream",
     "text": [
      "[Succeeded / Failed / Skipped / Total] 54 / 8 / 23 / 85:  17%|████                    | 85/500 [01:54<09:20,  1.35s/it]textattack: Saving checkpoint under \"checkpoints\\1720191996542.ta.chkpt\" at 2024-07-05 23:06:36 after 85 attacks.\n"
     ]
    },
    {
     "name": "stdout",
     "output_type": "stream",
     "text": [
      "\n",
      "\n",
      "=============================================================================================================================\n",
      "=============================================================================================================================\n",
      "\n"
     ]
    },
    {
     "name": "stderr",
     "output_type": "stream",
     "text": [
      "[Succeeded / Failed / Skipped / Total] 58 / 8 / 24 / 90:  18%|████▎                   | 90/500 [02:01<09:13,  1.35s/it]textattack: Saving checkpoint under \"checkpoints\\1720192003149.ta.chkpt\" at 2024-07-05 23:06:43 after 90 attacks.\n"
     ]
    },
    {
     "name": "stdout",
     "output_type": "stream",
     "text": [
      "\n",
      "\n",
      "=============================================================================================================================\n",
      "=============================================================================================================================\n",
      "\n"
     ]
    },
    {
     "name": "stderr",
     "output_type": "stream",
     "text": [
      "[Succeeded / Failed / Skipped / Total] 61 / 8 / 26 / 95:  19%|████▌                   | 95/500 [02:03<08:45,  1.30s/it]textattack: Saving checkpoint under \"checkpoints\\1720192005063.ta.chkpt\" at 2024-07-05 23:06:45 after 95 attacks.\n"
     ]
    },
    {
     "name": "stdout",
     "output_type": "stream",
     "text": [
      "\n",
      "\n",
      "=============================================================================================================================\n",
      "=============================================================================================================================\n",
      "\n"
     ]
    },
    {
     "name": "stderr",
     "output_type": "stream",
     "text": [
      "[Succeeded / Failed / Skipped / Total] 65 / 9 / 26 / 100:  20%|████▍                 | 100/500 [02:10<08:40,  1.30s/it]textattack: Saving checkpoint under \"checkpoints\\1720192011893.ta.chkpt\" at 2024-07-05 23:06:51 after 100 attacks.\n",
      "[Succeeded / Failed / Skipped / Total] 65 / 9 / 28 / 102:  20%|████▍                 | 102/500 [02:10<08:28,  1.28s/it]"
     ]
    },
    {
     "name": "stdout",
     "output_type": "stream",
     "text": [
      "\n",
      "\n",
      "=============================================================================================================================\n",
      "=============================================================================================================================\n",
      "\n"
     ]
    },
    {
     "name": "stderr",
     "output_type": "stream",
     "text": [
      "[Succeeded / Failed / Skipped / Total] 68 / 9 / 28 / 105:  21%|████▌                 | 105/500 [02:14<08:25,  1.28s/it]textattack: Saving checkpoint under \"checkpoints\\1720192016147.ta.chkpt\" at 2024-07-05 23:06:56 after 105 attacks.\n",
      "[Succeeded / Failed / Skipped / Total] 68 / 9 / 29 / 106:  21%|████▋                 | 106/500 [02:14<08:20,  1.27s/it]"
     ]
    },
    {
     "name": "stdout",
     "output_type": "stream",
     "text": [
      "\n",
      "\n",
      "=============================================================================================================================\n",
      "=============================================================================================================================\n",
      "\n"
     ]
    },
    {
     "name": "stderr",
     "output_type": "stream",
     "text": [
      "[Succeeded / Failed / Skipped / Total] 71 / 10 / 29 / 110:  22%|████▌                | 110/500 [02:20<08:19,  1.28s/it]textattack: Saving checkpoint under \"checkpoints\\1720192022511.ta.chkpt\" at 2024-07-05 23:07:02 after 110 attacks.\n",
      "[Succeeded / Failed / Skipped / Total] 71 / 10 / 30 / 111:  22%|████▋                | 111/500 [02:20<08:13,  1.27s/it]"
     ]
    },
    {
     "name": "stdout",
     "output_type": "stream",
     "text": [
      "\n",
      "\n",
      "=============================================================================================================================\n",
      "=============================================================================================================================\n",
      "\n"
     ]
    },
    {
     "name": "stderr",
     "output_type": "stream",
     "text": [
      "[Succeeded / Failed / Skipped / Total] 74 / 10 / 31 / 115:  23%|████▊                | 115/500 [02:28<08:15,  1.29s/it]textattack: Saving checkpoint under \"checkpoints\\1720192029762.ta.chkpt\" at 2024-07-05 23:07:09 after 115 attacks.\n"
     ]
    },
    {
     "name": "stdout",
     "output_type": "stream",
     "text": [
      "\n",
      "\n",
      "=============================================================================================================================\n",
      "=============================================================================================================================\n",
      "\n"
     ]
    },
    {
     "name": "stderr",
     "output_type": "stream",
     "text": [
      "[Succeeded / Failed / Skipped / Total] 77 / 10 / 33 / 120:  24%|█████                | 120/500 [02:30<07:57,  1.26s/it]textattack: Saving checkpoint under \"checkpoints\\1720192032462.ta.chkpt\" at 2024-07-05 23:07:12 after 120 attacks.\n"
     ]
    },
    {
     "name": "stdout",
     "output_type": "stream",
     "text": [
      "\n",
      "\n",
      "=============================================================================================================================\n",
      "=============================================================================================================================\n",
      "\n"
     ]
    },
    {
     "name": "stderr",
     "output_type": "stream",
     "text": [
      "[Succeeded / Failed / Skipped / Total] 81 / 10 / 34 / 125:  25%|█████▎               | 125/500 [02:35<07:46,  1.24s/it]textattack: Saving checkpoint under \"checkpoints\\1720192037251.ta.chkpt\" at 2024-07-05 23:07:17 after 125 attacks.\n",
      "[Succeeded / Failed / Skipped / Total] 81 / 10 / 36 / 127:  25%|█████▎               | 127/500 [02:35<07:37,  1.23s/it]"
     ]
    },
    {
     "name": "stdout",
     "output_type": "stream",
     "text": [
      "\n",
      "\n",
      "=============================================================================================================================\n",
      "=============================================================================================================================\n",
      "\n"
     ]
    },
    {
     "name": "stderr",
     "output_type": "stream",
     "text": [
      "[Succeeded / Failed / Skipped / Total] 83 / 10 / 37 / 130:  26%|█████▍               | 130/500 [02:39<07:32,  1.22s/it]textattack: Saving checkpoint under \"checkpoints\\1720192040700.ta.chkpt\" at 2024-07-05 23:07:20 after 130 attacks.\n",
      "[Succeeded / Failed / Skipped / Total] 83 / 10 / 38 / 131:  26%|█████▌               | 131/500 [02:39<07:28,  1.21s/it]"
     ]
    },
    {
     "name": "stdout",
     "output_type": "stream",
     "text": [
      "\n",
      "\n",
      "=============================================================================================================================\n",
      "=============================================================================================================================\n",
      "\n"
     ]
    },
    {
     "name": "stderr",
     "output_type": "stream",
     "text": [
      "[Succeeded / Failed / Skipped / Total] 87 / 10 / 38 / 135:  27%|█████▋               | 135/500 [02:44<07:25,  1.22s/it]textattack: Saving checkpoint under \"checkpoints\\1720192046409.ta.chkpt\" at 2024-07-05 23:07:26 after 135 attacks.\n",
      "[Succeeded / Failed / Skipped / Total] 87 / 10 / 39 / 136:  27%|█████▋               | 136/500 [02:44<07:21,  1.21s/it]"
     ]
    },
    {
     "name": "stdout",
     "output_type": "stream",
     "text": [
      "\n",
      "\n",
      "=============================================================================================================================\n",
      "=============================================================================================================================\n",
      "\n"
     ]
    },
    {
     "name": "stderr",
     "output_type": "stream",
     "text": [
      "[Succeeded / Failed / Skipped / Total] 91 / 10 / 39 / 140:  28%|█████▉               | 140/500 [02:47<07:11,  1.20s/it]textattack: Saving checkpoint under \"checkpoints\\1720192049684.ta.chkpt\" at 2024-07-05 23:07:29 after 140 attacks.\n"
     ]
    },
    {
     "name": "stdout",
     "output_type": "stream",
     "text": [
      "\n",
      "\n",
      "=============================================================================================================================\n",
      "=============================================================================================================================\n",
      "\n"
     ]
    },
    {
     "name": "stderr",
     "output_type": "stream",
     "text": [
      "[Succeeded / Failed / Skipped / Total] 95 / 10 / 40 / 145:  29%|██████               | 145/500 [02:53<07:04,  1.19s/it]textattack: Saving checkpoint under \"checkpoints\\1720192054896.ta.chkpt\" at 2024-07-05 23:07:34 after 145 attacks.\n",
      "[Succeeded / Failed / Skipped / Total] 95 / 10 / 42 / 147:  30%|██████▏              | 148/500 [02:53<06:52,  1.17s/it]"
     ]
    },
    {
     "name": "stdout",
     "output_type": "stream",
     "text": [
      "\n",
      "\n",
      "=============================================================================================================================\n",
      "=============================================================================================================================\n",
      "\n"
     ]
    },
    {
     "name": "stderr",
     "output_type": "stream",
     "text": [
      "[Succeeded / Failed / Skipped / Total] 96 / 10 / 44 / 150:  30%|██████▎              | 150/500 [02:54<06:48,  1.17s/it]textattack: Saving checkpoint under \"checkpoints\\1720192056612.ta.chkpt\" at 2024-07-05 23:07:36 after 150 attacks.\n"
     ]
    },
    {
     "name": "stdout",
     "output_type": "stream",
     "text": [
      "\n",
      "\n",
      "=============================================================================================================================\n",
      "=============================================================================================================================\n",
      "\n"
     ]
    },
    {
     "name": "stderr",
     "output_type": "stream",
     "text": [
      "[Succeeded / Failed / Skipped / Total] 99 / 11 / 45 / 155:  31%|██████▌              | 155/500 [02:58<06:36,  1.15s/it]textattack: Saving checkpoint under \"checkpoints\\1720192059765.ta.chkpt\" at 2024-07-05 23:07:39 after 155 attacks.\n"
     ]
    },
    {
     "name": "stdout",
     "output_type": "stream",
     "text": [
      "\n",
      "\n",
      "=============================================================================================================================\n",
      "=============================================================================================================================\n",
      "\n"
     ]
    },
    {
     "name": "stderr",
     "output_type": "stream",
     "text": [
      "[Succeeded / Failed / Skipped / Total] 102 / 12 / 46 / 160:  32%|██████▍             | 160/500 [03:10<06:44,  1.19s/it]textattack: Saving checkpoint under \"checkpoints\\1720192072087.ta.chkpt\" at 2024-07-05 23:07:52 after 160 attacks.\n",
      "[Succeeded / Failed / Skipped / Total] 102 / 12 / 47 / 161:  32%|██████▍             | 161/500 [03:10<06:41,  1.18s/it]"
     ]
    },
    {
     "name": "stdout",
     "output_type": "stream",
     "text": [
      "\n",
      "\n",
      "=============================================================================================================================\n",
      "=============================================================================================================================\n",
      "\n"
     ]
    },
    {
     "name": "stderr",
     "output_type": "stream",
     "text": [
      "[Succeeded / Failed / Skipped / Total] 106 / 12 / 47 / 165:  33%|██████▌             | 165/500 [03:16<06:39,  1.19s/it]textattack: Saving checkpoint under \"checkpoints\\1720192078390.ta.chkpt\" at 2024-07-05 23:07:58 after 165 attacks.\n",
      "[Succeeded / Failed / Skipped / Total] 106 / 12 / 48 / 166:  33%|██████▋             | 166/500 [03:16<06:35,  1.19s/it]"
     ]
    },
    {
     "name": "stdout",
     "output_type": "stream",
     "text": [
      "\n",
      "\n",
      "=============================================================================================================================\n",
      "=============================================================================================================================\n",
      "\n"
     ]
    },
    {
     "name": "stderr",
     "output_type": "stream",
     "text": [
      "[Succeeded / Failed / Skipped / Total] 108 / 12 / 50 / 170:  34%|██████▊             | 170/500 [03:18<06:25,  1.17s/it]textattack: Saving checkpoint under \"checkpoints\\1720192080269.ta.chkpt\" at 2024-07-05 23:08:00 after 170 attacks.\n"
     ]
    },
    {
     "name": "stdout",
     "output_type": "stream",
     "text": [
      "\n",
      "\n",
      "=============================================================================================================================\n",
      "=============================================================================================================================\n",
      "\n"
     ]
    },
    {
     "name": "stderr",
     "output_type": "stream",
     "text": [
      "[Succeeded / Failed / Skipped / Total] 111 / 12 / 52 / 175:  35%|███████             | 175/500 [03:25<06:21,  1.17s/it]textattack: Saving checkpoint under \"checkpoints\\1720192087072.ta.chkpt\" at 2024-07-05 23:08:07 after 175 attacks.\n"
     ]
    },
    {
     "name": "stdout",
     "output_type": "stream",
     "text": [
      "\n",
      "\n",
      "=============================================================================================================================\n",
      "=============================================================================================================================\n",
      "\n"
     ]
    },
    {
     "name": "stderr",
     "output_type": "stream",
     "text": [
      "[Succeeded / Failed / Skipped / Total] 113 / 14 / 53 / 180:  36%|███████▏            | 180/500 [03:34<06:21,  1.19s/it]textattack: Saving checkpoint under \"checkpoints\\1720192096549.ta.chkpt\" at 2024-07-05 23:08:16 after 180 attacks.\n",
      "[Succeeded / Failed / Skipped / Total] 113 / 14 / 56 / 183:  37%|███████▎            | 183/500 [03:35<06:12,  1.18s/it]"
     ]
    },
    {
     "name": "stdout",
     "output_type": "stream",
     "text": [
      "\n",
      "\n",
      "=============================================================================================================================\n",
      "=============================================================================================================================\n",
      "\n"
     ]
    },
    {
     "name": "stderr",
     "output_type": "stream",
     "text": [
      "[Succeeded / Failed / Skipped / Total] 115 / 14 / 56 / 185:  37%|███████▍            | 185/500 [03:36<06:09,  1.17s/it]textattack: Saving checkpoint under \"checkpoints\\1720192098663.ta.chkpt\" at 2024-07-05 23:08:18 after 185 attacks.\n"
     ]
    },
    {
     "name": "stdout",
     "output_type": "stream",
     "text": [
      "\n",
      "\n",
      "=============================================================================================================================\n",
      "=============================================================================================================================\n",
      "\n"
     ]
    },
    {
     "name": "stderr",
     "output_type": "stream",
     "text": [
      "[Succeeded / Failed / Skipped / Total] 119 / 15 / 56 / 190:  38%|███████▌            | 190/500 [03:54<06:22,  1.23s/it]textattack: Saving checkpoint under \"checkpoints\\1720192115989.ta.chkpt\" at 2024-07-05 23:08:35 after 190 attacks.\n"
     ]
    },
    {
     "name": "stdout",
     "output_type": "stream",
     "text": [
      "\n",
      "\n",
      "=============================================================================================================================\n",
      "=============================================================================================================================\n",
      "\n"
     ]
    },
    {
     "name": "stderr",
     "output_type": "stream",
     "text": [
      "[Succeeded / Failed / Skipped / Total] 122 / 15 / 58 / 195:  39%|███████▊            | 195/500 [03:59<06:14,  1.23s/it]textattack: Saving checkpoint under \"checkpoints\\1720192120941.ta.chkpt\" at 2024-07-05 23:08:40 after 195 attacks.\n"
     ]
    },
    {
     "name": "stdout",
     "output_type": "stream",
     "text": [
      "\n",
      "\n",
      "=============================================================================================================================\n",
      "=============================================================================================================================\n",
      "\n"
     ]
    },
    {
     "name": "stderr",
     "output_type": "stream",
     "text": [
      "[Succeeded / Failed / Skipped / Total] 126 / 15 / 59 / 200:  40%|████████            | 200/500 [04:15<06:23,  1.28s/it]textattack: Saving checkpoint under \"checkpoints\\1720192137403.ta.chkpt\" at 2024-07-05 23:08:57 after 200 attacks.\n"
     ]
    },
    {
     "name": "stdout",
     "output_type": "stream",
     "text": [
      "\n",
      "\n",
      "=============================================================================================================================\n",
      "=============================================================================================================================\n",
      "\n"
     ]
    },
    {
     "name": "stderr",
     "output_type": "stream",
     "text": [
      "[Succeeded / Failed / Skipped / Total] 130 / 15 / 60 / 205:  41%|████████▏           | 205/500 [04:21<06:16,  1.28s/it]textattack: Saving checkpoint under \"checkpoints\\1720192143062.ta.chkpt\" at 2024-07-05 23:09:03 after 205 attacks.\n"
     ]
    },
    {
     "name": "stdout",
     "output_type": "stream",
     "text": [
      "\n",
      "\n",
      "=============================================================================================================================\n",
      "=============================================================================================================================\n",
      "\n"
     ]
    },
    {
     "name": "stderr",
     "output_type": "stream",
     "text": [
      "[Succeeded / Failed / Skipped / Total] 135 / 15 / 60 / 210:  42%|████████▍           | 210/500 [04:26<06:07,  1.27s/it]textattack: Saving checkpoint under \"checkpoints\\1720192148132.ta.chkpt\" at 2024-07-05 23:09:08 after 210 attacks.\n"
     ]
    },
    {
     "name": "stdout",
     "output_type": "stream",
     "text": [
      "\n",
      "\n",
      "=============================================================================================================================\n",
      "=============================================================================================================================\n",
      "\n"
     ]
    },
    {
     "name": "stderr",
     "output_type": "stream",
     "text": [
      "[Succeeded / Failed / Skipped / Total] 137 / 17 / 61 / 215:  43%|████████▌           | 215/500 [04:34<06:03,  1.28s/it]textattack: Saving checkpoint under \"checkpoints\\1720192155885.ta.chkpt\" at 2024-07-05 23:09:15 after 215 attacks.\n"
     ]
    },
    {
     "name": "stdout",
     "output_type": "stream",
     "text": [
      "\n",
      "\n",
      "=============================================================================================================================\n",
      "=============================================================================================================================\n",
      "\n"
     ]
    },
    {
     "name": "stderr",
     "output_type": "stream",
     "text": [
      "[Succeeded / Failed / Skipped / Total] 142 / 17 / 61 / 220:  44%|████████▊           | 220/500 [04:37<05:52,  1.26s/it]textattack: Saving checkpoint under \"checkpoints\\1720192158762.ta.chkpt\" at 2024-07-05 23:09:18 after 220 attacks.\n"
     ]
    },
    {
     "name": "stdout",
     "output_type": "stream",
     "text": [
      "\n",
      "\n",
      "=============================================================================================================================\n",
      "=============================================================================================================================\n",
      "\n"
     ]
    },
    {
     "name": "stderr",
     "output_type": "stream",
     "text": [
      "[Succeeded / Failed / Skipped / Total] 146 / 17 / 62 / 225:  45%|█████████           | 225/500 [04:44<05:47,  1.26s/it]textattack: Saving checkpoint under \"checkpoints\\1720192166048.ta.chkpt\" at 2024-07-05 23:09:26 after 225 attacks.\n"
     ]
    },
    {
     "name": "stdout",
     "output_type": "stream",
     "text": [
      "\n",
      "\n",
      "=============================================================================================================================\n",
      "=============================================================================================================================\n",
      "\n"
     ]
    },
    {
     "name": "stderr",
     "output_type": "stream",
     "text": [
      "[Succeeded / Failed / Skipped / Total] 149 / 17 / 64 / 230:  46%|█████████▏          | 230/500 [04:47<05:37,  1.25s/it]textattack: Saving checkpoint under \"checkpoints\\1720192169105.ta.chkpt\" at 2024-07-05 23:09:29 after 230 attacks.\n",
      "[Succeeded / Failed / Skipped / Total] 149 / 17 / 65 / 231:  46%|█████████▏          | 231/500 [04:47<05:34,  1.24s/it]"
     ]
    },
    {
     "name": "stdout",
     "output_type": "stream",
     "text": [
      "\n",
      "\n",
      "=============================================================================================================================\n",
      "=============================================================================================================================\n",
      "\n"
     ]
    },
    {
     "name": "stderr",
     "output_type": "stream",
     "text": [
      "[Succeeded / Failed / Skipped / Total] 151 / 19 / 65 / 235:  47%|█████████▍          | 235/500 [04:55<05:33,  1.26s/it]textattack: Saving checkpoint under \"checkpoints\\1720192177466.ta.chkpt\" at 2024-07-05 23:09:37 after 235 attacks.\n"
     ]
    },
    {
     "name": "stdout",
     "output_type": "stream",
     "text": [
      "\n",
      "\n",
      "=============================================================================================================================\n",
      "=============================================================================================================================\n",
      "\n"
     ]
    },
    {
     "name": "stderr",
     "output_type": "stream",
     "text": [
      "[Succeeded / Failed / Skipped / Total] 156 / 19 / 65 / 240:  48%|█████████▌          | 240/500 [05:02<05:28,  1.26s/it]textattack: Saving checkpoint under \"checkpoints\\1720192184547.ta.chkpt\" at 2024-07-05 23:09:44 after 240 attacks.\n",
      "[Succeeded / Failed / Skipped / Total] 156 / 19 / 66 / 241:  48%|█████████▋          | 241/500 [05:02<05:25,  1.26s/it]"
     ]
    },
    {
     "name": "stdout",
     "output_type": "stream",
     "text": [
      "\n",
      "\n",
      "=============================================================================================================================\n",
      "=============================================================================================================================\n",
      "\n"
     ]
    },
    {
     "name": "stderr",
     "output_type": "stream",
     "text": [
      "[Succeeded / Failed / Skipped / Total] 160 / 19 / 66 / 245:  49%|█████████▊          | 245/500 [05:11<05:24,  1.27s/it]textattack: Saving checkpoint under \"checkpoints\\1720192193443.ta.chkpt\" at 2024-07-05 23:09:53 after 245 attacks.\n"
     ]
    },
    {
     "name": "stdout",
     "output_type": "stream",
     "text": [
      "\n",
      "\n",
      "=============================================================================================================================\n",
      "=============================================================================================================================\n",
      "\n"
     ]
    },
    {
     "name": "stderr",
     "output_type": "stream",
     "text": [
      "[Succeeded / Failed / Skipped / Total] 163 / 19 / 68 / 250:  50%|██████████          | 250/500 [05:16<05:16,  1.27s/it]textattack: Saving checkpoint under \"checkpoints\\1720192198487.ta.chkpt\" at 2024-07-05 23:09:58 after 250 attacks.\n",
      "[Succeeded / Failed / Skipped / Total] 163 / 19 / 69 / 251:  50%|██████████          | 251/500 [05:16<05:14,  1.26s/it]"
     ]
    },
    {
     "name": "stdout",
     "output_type": "stream",
     "text": [
      "\n",
      "\n",
      "=============================================================================================================================\n",
      "=============================================================================================================================\n",
      "\n"
     ]
    },
    {
     "name": "stderr",
     "output_type": "stream",
     "text": [
      "[Succeeded / Failed / Skipped / Total] 166 / 19 / 70 / 255:  51%|██████████▏         | 255/500 [05:19<05:07,  1.25s/it]textattack: Saving checkpoint under \"checkpoints\\1720192201390.ta.chkpt\" at 2024-07-05 23:10:01 after 255 attacks.\n"
     ]
    },
    {
     "name": "stdout",
     "output_type": "stream",
     "text": [
      "\n",
      "\n",
      "=============================================================================================================================\n",
      "=============================================================================================================================\n",
      "\n"
     ]
    },
    {
     "name": "stderr",
     "output_type": "stream",
     "text": [
      "[Succeeded / Failed / Skipped / Total] 169 / 19 / 72 / 260:  52%|██████████▍         | 260/500 [05:23<04:58,  1.24s/it]textattack: Saving checkpoint under \"checkpoints\\1720192204868.ta.chkpt\" at 2024-07-05 23:10:04 after 260 attacks.\n"
     ]
    },
    {
     "name": "stdout",
     "output_type": "stream",
     "text": [
      "\n",
      "\n",
      "=============================================================================================================================\n",
      "=============================================================================================================================\n",
      "\n"
     ]
    },
    {
     "name": "stderr",
     "output_type": "stream",
     "text": [
      "[Succeeded / Failed / Skipped / Total] 173 / 20 / 72 / 265:  53%|██████████▌         | 265/500 [05:34<04:56,  1.26s/it]textattack: Saving checkpoint under \"checkpoints\\1720192216547.ta.chkpt\" at 2024-07-05 23:10:16 after 265 attacks.\n"
     ]
    },
    {
     "name": "stdout",
     "output_type": "stream",
     "text": [
      "\n",
      "\n",
      "=============================================================================================================================\n",
      "=============================================================================================================================\n",
      "\n"
     ]
    },
    {
     "name": "stderr",
     "output_type": "stream",
     "text": [
      "[Succeeded / Failed / Skipped / Total] 176 / 20 / 74 / 270:  54%|██████████▊         | 270/500 [05:47<04:56,  1.29s/it]textattack: Saving checkpoint under \"checkpoints\\1720192229245.ta.chkpt\" at 2024-07-05 23:10:29 after 270 attacks.\n",
      "[Succeeded / Failed / Skipped / Total] 176 / 20 / 75 / 271:  54%|██████████▊         | 271/500 [05:47<04:53,  1.28s/it]"
     ]
    },
    {
     "name": "stdout",
     "output_type": "stream",
     "text": [
      "\n",
      "\n",
      "=============================================================================================================================\n",
      "=============================================================================================================================\n",
      "\n"
     ]
    },
    {
     "name": "stderr",
     "output_type": "stream",
     "text": [
      "[Succeeded / Failed / Skipped / Total] 178 / 20 / 77 / 275:  55%|███████████         | 275/500 [05:49<04:45,  1.27s/it]textattack: Saving checkpoint under \"checkpoints\\1720192230876.ta.chkpt\" at 2024-07-05 23:10:30 after 275 attacks.\n"
     ]
    },
    {
     "name": "stdout",
     "output_type": "stream",
     "text": [
      "\n",
      "\n",
      "=============================================================================================================================\n",
      "=============================================================================================================================\n",
      "\n"
     ]
    },
    {
     "name": "stderr",
     "output_type": "stream",
     "text": [
      "[Succeeded / Failed / Skipped / Total] 182 / 20 / 78 / 280:  56%|███████████▏        | 280/500 [05:51<04:36,  1.26s/it]textattack: Saving checkpoint under \"checkpoints\\1720192233684.ta.chkpt\" at 2024-07-05 23:10:33 after 280 attacks.\n"
     ]
    },
    {
     "name": "stdout",
     "output_type": "stream",
     "text": [
      "\n",
      "\n",
      "=============================================================================================================================\n",
      "=============================================================================================================================\n",
      "\n"
     ]
    },
    {
     "name": "stderr",
     "output_type": "stream",
     "text": [
      "[Succeeded / Failed / Skipped / Total] 183 / 21 / 81 / 285:  57%|███████████▍        | 285/500 [05:56<04:28,  1.25s/it]textattack: Saving checkpoint under \"checkpoints\\1720192237981.ta.chkpt\" at 2024-07-05 23:10:37 after 285 attacks.\n"
     ]
    },
    {
     "name": "stdout",
     "output_type": "stream",
     "text": [
      "\n",
      "\n",
      "=============================================================================================================================\n",
      "=============================================================================================================================\n",
      "\n"
     ]
    },
    {
     "name": "stderr",
     "output_type": "stream",
     "text": [
      "[Succeeded / Failed / Skipped / Total] 188 / 21 / 81 / 290:  58%|███████████▌        | 290/500 [06:06<04:25,  1.26s/it]textattack: Saving checkpoint under \"checkpoints\\1720192247984.ta.chkpt\" at 2024-07-05 23:10:47 after 290 attacks.\n",
      "[Succeeded / Failed / Skipped / Total] 188 / 21 / 83 / 292:  58%|███████████▋        | 292/500 [06:06<04:21,  1.25s/it]"
     ]
    },
    {
     "name": "stdout",
     "output_type": "stream",
     "text": [
      "\n",
      "\n",
      "=============================================================================================================================\n",
      "=============================================================================================================================\n",
      "\n"
     ]
    },
    {
     "name": "stderr",
     "output_type": "stream",
     "text": [
      "[Succeeded / Failed / Skipped / Total] 191 / 21 / 83 / 295:  59%|███████████▊        | 295/500 [06:10<04:17,  1.26s/it]textattack: Saving checkpoint under \"checkpoints\\1720192252287.ta.chkpt\" at 2024-07-05 23:10:52 after 295 attacks.\n"
     ]
    },
    {
     "name": "stdout",
     "output_type": "stream",
     "text": [
      "\n",
      "\n",
      "=============================================================================================================================\n",
      "=============================================================================================================================\n",
      "\n"
     ]
    },
    {
     "name": "stderr",
     "output_type": "stream",
     "text": [
      "[Succeeded / Failed / Skipped / Total] 196 / 21 / 83 / 300:  60%|████████████        | 300/500 [06:15<04:10,  1.25s/it]textattack: Saving checkpoint under \"checkpoints\\1720192257680.ta.chkpt\" at 2024-07-05 23:10:57 after 300 attacks.\n"
     ]
    },
    {
     "name": "stdout",
     "output_type": "stream",
     "text": [
      "\n",
      "\n",
      "=============================================================================================================================\n",
      "=============================================================================================================================\n",
      "\n"
     ]
    },
    {
     "name": "stderr",
     "output_type": "stream",
     "text": [
      "[Succeeded / Failed / Skipped / Total] 200 / 21 / 84 / 305:  61%|████████████▏       | 305/500 [06:20<04:03,  1.25s/it]textattack: Saving checkpoint under \"checkpoints\\1720192261951.ta.chkpt\" at 2024-07-05 23:11:01 after 305 attacks.\n"
     ]
    },
    {
     "name": "stdout",
     "output_type": "stream",
     "text": [
      "\n",
      "\n",
      "=============================================================================================================================\n",
      "=============================================================================================================================\n",
      "\n"
     ]
    },
    {
     "name": "stderr",
     "output_type": "stream",
     "text": [
      "[Succeeded / Failed / Skipped / Total] 205 / 21 / 84 / 310:  62%|████████████▍       | 310/500 [06:24<03:55,  1.24s/it]textattack: Saving checkpoint under \"checkpoints\\1720192266365.ta.chkpt\" at 2024-07-05 23:11:06 after 310 attacks.\n"
     ]
    },
    {
     "name": "stdout",
     "output_type": "stream",
     "text": [
      "\n",
      "\n",
      "=============================================================================================================================\n",
      "=============================================================================================================================\n",
      "\n"
     ]
    },
    {
     "name": "stderr",
     "output_type": "stream",
     "text": [
      "[Succeeded / Failed / Skipped / Total] 208 / 21 / 86 / 315:  63%|████████████▌       | 315/500 [06:28<03:47,  1.23s/it]textattack: Saving checkpoint under \"checkpoints\\1720192269827.ta.chkpt\" at 2024-07-05 23:11:09 after 315 attacks.\n"
     ]
    },
    {
     "name": "stdout",
     "output_type": "stream",
     "text": [
      "\n",
      "\n",
      "=============================================================================================================================\n",
      "=============================================================================================================================\n",
      "\n"
     ]
    },
    {
     "name": "stderr",
     "output_type": "stream",
     "text": [
      "[Succeeded / Failed / Skipped / Total] 212 / 21 / 87 / 320:  64%|████████████▊       | 320/500 [06:40<03:45,  1.25s/it]textattack: Saving checkpoint under \"checkpoints\\1720192281849.ta.chkpt\" at 2024-07-05 23:11:21 after 320 attacks.\n"
     ]
    },
    {
     "name": "stdout",
     "output_type": "stream",
     "text": [
      "\n",
      "\n",
      "=============================================================================================================================\n",
      "=============================================================================================================================\n",
      "\n"
     ]
    },
    {
     "name": "stderr",
     "output_type": "stream",
     "text": [
      "[Succeeded / Failed / Skipped / Total] 215 / 22 / 88 / 325:  65%|█████████████       | 325/500 [06:54<03:42,  1.27s/it]textattack: Saving checkpoint under \"checkpoints\\1720192295726.ta.chkpt\" at 2024-07-05 23:11:35 after 325 attacks.\n"
     ]
    },
    {
     "name": "stdout",
     "output_type": "stream",
     "text": [
      "\n",
      "\n",
      "=============================================================================================================================\n",
      "=============================================================================================================================\n",
      "\n"
     ]
    },
    {
     "name": "stderr",
     "output_type": "stream",
     "text": [
      "[Succeeded / Failed / Skipped / Total] 219 / 22 / 89 / 330:  66%|█████████████▏      | 330/500 [06:56<03:34,  1.26s/it]textattack: Saving checkpoint under \"checkpoints\\1720192298510.ta.chkpt\" at 2024-07-05 23:11:38 after 330 attacks.\n"
     ]
    },
    {
     "name": "stdout",
     "output_type": "stream",
     "text": [
      "\n",
      "\n",
      "=============================================================================================================================\n",
      "=============================================================================================================================\n",
      "\n"
     ]
    },
    {
     "name": "stderr",
     "output_type": "stream",
     "text": [
      "[Succeeded / Failed / Skipped / Total] 224 / 22 / 89 / 335:  67%|█████████████▍      | 335/500 [07:19<03:36,  1.31s/it]textattack: Saving checkpoint under \"checkpoints\\1720192320748.ta.chkpt\" at 2024-07-05 23:12:00 after 335 attacks.\n",
      "[Succeeded / Failed / Skipped / Total] 224 / 22 / 90 / 336:  67%|█████████████▍      | 336/500 [07:19<03:34,  1.31s/it]"
     ]
    },
    {
     "name": "stdout",
     "output_type": "stream",
     "text": [
      "\n",
      "\n",
      "=============================================================================================================================\n",
      "=============================================================================================================================\n",
      "\n"
     ]
    },
    {
     "name": "stderr",
     "output_type": "stream",
     "text": [
      "[Succeeded / Failed / Skipped / Total] 227 / 23 / 90 / 340:  68%|█████████████▌      | 340/500 [07:23<03:28,  1.30s/it]textattack: Saving checkpoint under \"checkpoints\\1720192325179.ta.chkpt\" at 2024-07-05 23:12:05 after 340 attacks.\n"
     ]
    },
    {
     "name": "stdout",
     "output_type": "stream",
     "text": [
      "\n",
      "\n",
      "=============================================================================================================================\n",
      "=============================================================================================================================\n",
      "\n"
     ]
    },
    {
     "name": "stderr",
     "output_type": "stream",
     "text": [
      "[Succeeded / Failed / Skipped / Total] 230 / 24 / 91 / 345:  69%|█████████████▊      | 345/500 [07:32<03:23,  1.31s/it]textattack: Saving checkpoint under \"checkpoints\\1720192334224.ta.chkpt\" at 2024-07-05 23:12:14 after 345 attacks.\n"
     ]
    },
    {
     "name": "stdout",
     "output_type": "stream",
     "text": [
      "\n",
      "\n",
      "=============================================================================================================================\n",
      "=============================================================================================================================\n",
      "\n"
     ]
    },
    {
     "name": "stderr",
     "output_type": "stream",
     "text": [
      "[Succeeded / Failed / Skipped / Total] 234 / 24 / 92 / 350:  70%|██████████████      | 350/500 [07:37<03:16,  1.31s/it]textattack: Saving checkpoint under \"checkpoints\\1720192339522.ta.chkpt\" at 2024-07-05 23:12:19 after 350 attacks.\n"
     ]
    },
    {
     "name": "stdout",
     "output_type": "stream",
     "text": [
      "\n",
      "\n",
      "=============================================================================================================================\n",
      "=============================================================================================================================\n",
      "\n"
     ]
    },
    {
     "name": "stderr",
     "output_type": "stream",
     "text": [
      "[Succeeded / Failed / Skipped / Total] 237 / 26 / 92 / 355:  71%|██████████████▏     | 355/500 [07:48<03:11,  1.32s/it]textattack: Saving checkpoint under \"checkpoints\\1720192350493.ta.chkpt\" at 2024-07-05 23:12:30 after 355 attacks.\n",
      "[Succeeded / Failed / Skipped / Total] 237 / 26 / 93 / 356:  71%|██████████████▏     | 356/500 [07:48<03:09,  1.32s/it]"
     ]
    },
    {
     "name": "stdout",
     "output_type": "stream",
     "text": [
      "\n",
      "\n",
      "=============================================================================================================================\n",
      "=============================================================================================================================\n",
      "\n"
     ]
    },
    {
     "name": "stderr",
     "output_type": "stream",
     "text": [
      "[Succeeded / Failed / Skipped / Total] 240 / 27 / 93 / 360:  72%|██████████████▍     | 360/500 [07:58<03:06,  1.33s/it]textattack: Saving checkpoint under \"checkpoints\\1720192360649.ta.chkpt\" at 2024-07-05 23:12:40 after 360 attacks.\n"
     ]
    },
    {
     "name": "stdout",
     "output_type": "stream",
     "text": [
      "\n",
      "\n",
      "=============================================================================================================================\n",
      "=============================================================================================================================\n",
      "\n"
     ]
    },
    {
     "name": "stderr",
     "output_type": "stream",
     "text": [
      "[Succeeded / Failed / Skipped / Total] 245 / 27 / 93 / 365:  73%|██████████████▌     | 365/500 [08:04<02:59,  1.33s/it]textattack: Saving checkpoint under \"checkpoints\\1720192365796.ta.chkpt\" at 2024-07-05 23:12:45 after 365 attacks.\n",
      "[Succeeded / Failed / Skipped / Total] 245 / 27 / 94 / 366:  73%|██████████████▋     | 366/500 [08:04<02:57,  1.32s/it]"
     ]
    },
    {
     "name": "stdout",
     "output_type": "stream",
     "text": [
      "\n",
      "\n",
      "=============================================================================================================================\n",
      "=============================================================================================================================\n",
      "\n"
     ]
    },
    {
     "name": "stderr",
     "output_type": "stream",
     "text": [
      "[Succeeded / Failed / Skipped / Total] 248 / 27 / 95 / 370:  74%|██████████████▊     | 370/500 [08:06<02:51,  1.32s/it]textattack: Saving checkpoint under \"checkpoints\\1720192368671.ta.chkpt\" at 2024-07-05 23:12:48 after 370 attacks.\n",
      "[Succeeded / Failed / Skipped / Total] 248 / 27 / 96 / 371:  74%|██████████████▊     | 371/500 [08:07<02:49,  1.31s/it]"
     ]
    },
    {
     "name": "stdout",
     "output_type": "stream",
     "text": [
      "\n",
      "\n",
      "=============================================================================================================================\n",
      "=============================================================================================================================\n",
      "\n"
     ]
    },
    {
     "name": "stderr",
     "output_type": "stream",
     "text": [
      "[Succeeded / Failed / Skipped / Total] 250 / 28 / 97 / 375:  75%|███████████████     | 375/500 [08:14<02:44,  1.32s/it]textattack: Saving checkpoint under \"checkpoints\\1720192376328.ta.chkpt\" at 2024-07-05 23:12:56 after 375 attacks.\n"
     ]
    },
    {
     "name": "stdout",
     "output_type": "stream",
     "text": [
      "\n",
      "\n",
      "=============================================================================================================================\n",
      "=============================================================================================================================\n",
      "\n"
     ]
    },
    {
     "name": "stderr",
     "output_type": "stream",
     "text": [
      "[Succeeded / Failed / Skipped / Total] 252 / 29 / 99 / 380:  76%|███████████████▏    | 380/500 [08:17<02:37,  1.31s/it]textattack: Saving checkpoint under \"checkpoints\\1720192379578.ta.chkpt\" at 2024-07-05 23:12:59 after 380 attacks.\n"
     ]
    },
    {
     "name": "stdout",
     "output_type": "stream",
     "text": [
      "\n",
      "\n",
      "=============================================================================================================================\n",
      "=============================================================================================================================\n",
      "\n"
     ]
    },
    {
     "name": "stderr",
     "output_type": "stream",
     "text": [
      "[Succeeded / Failed / Skipped / Total] 257 / 29 / 99 / 385:  77%|███████████████▍    | 385/500 [08:23<02:30,  1.31s/it]textattack: Saving checkpoint under \"checkpoints\\1720192384813.ta.chkpt\" at 2024-07-05 23:13:04 after 385 attacks.\n"
     ]
    },
    {
     "name": "stdout",
     "output_type": "stream",
     "text": [
      "\n",
      "\n",
      "=============================================================================================================================\n",
      "=============================================================================================================================\n",
      "\n"
     ]
    },
    {
     "name": "stderr",
     "output_type": "stream",
     "text": [
      "[Succeeded / Failed / Skipped / Total] 261 / 29 / 100 / 390:  78%|██████████████▊    | 390/500 [08:25<02:22,  1.30s/it]textattack: Saving checkpoint under \"checkpoints\\1720192387344.ta.chkpt\" at 2024-07-05 23:13:07 after 390 attacks.\n"
     ]
    },
    {
     "name": "stdout",
     "output_type": "stream",
     "text": [
      "\n",
      "\n",
      "=============================================================================================================================\n",
      "=============================================================================================================================\n",
      "\n"
     ]
    },
    {
     "name": "stderr",
     "output_type": "stream",
     "text": [
      "[Succeeded / Failed / Skipped / Total] 265 / 29 / 101 / 395:  79%|███████████████    | 395/500 [08:35<02:17,  1.31s/it]textattack: Saving checkpoint under \"checkpoints\\1720192397236.ta.chkpt\" at 2024-07-05 23:13:17 after 395 attacks.\n"
     ]
    },
    {
     "name": "stdout",
     "output_type": "stream",
     "text": [
      "\n",
      "\n",
      "=============================================================================================================================\n",
      "=============================================================================================================================\n",
      "\n"
     ]
    },
    {
     "name": "stderr",
     "output_type": "stream",
     "text": [
      "[Succeeded / Failed / Skipped / Total] 270 / 29 / 101 / 400:  80%|███████████████▏   | 400/500 [08:42<02:10,  1.31s/it]textattack: Saving checkpoint under \"checkpoints\\1720192403814.ta.chkpt\" at 2024-07-05 23:13:23 after 400 attacks.\n"
     ]
    },
    {
     "name": "stdout",
     "output_type": "stream",
     "text": [
      "\n",
      "\n",
      "=============================================================================================================================\n",
      "=============================================================================================================================\n",
      "\n"
     ]
    },
    {
     "name": "stderr",
     "output_type": "stream",
     "text": [
      "[Succeeded / Failed / Skipped / Total] 274 / 29 / 102 / 405:  81%|███████████████▍   | 405/500 [08:51<02:04,  1.31s/it]textattack: Saving checkpoint under \"checkpoints\\1720192412909.ta.chkpt\" at 2024-07-05 23:13:32 after 405 attacks.\n"
     ]
    },
    {
     "name": "stdout",
     "output_type": "stream",
     "text": [
      "\n",
      "\n",
      "=============================================================================================================================\n",
      "=============================================================================================================================\n",
      "\n"
     ]
    },
    {
     "name": "stderr",
     "output_type": "stream",
     "text": [
      "[Succeeded / Failed / Skipped / Total] 279 / 29 / 102 / 410:  82%|███████████████▌   | 410/500 [08:56<01:57,  1.31s/it]textattack: Saving checkpoint under \"checkpoints\\1720192418378.ta.chkpt\" at 2024-07-05 23:13:38 after 410 attacks.\n"
     ]
    },
    {
     "name": "stdout",
     "output_type": "stream",
     "text": [
      "\n",
      "\n",
      "=============================================================================================================================\n",
      "=============================================================================================================================\n",
      "\n"
     ]
    },
    {
     "name": "stderr",
     "output_type": "stream",
     "text": [
      "[Succeeded / Failed / Skipped / Total] 282 / 29 / 104 / 415:  83%|███████████████▊   | 415/500 [09:01<01:50,  1.30s/it]textattack: Saving checkpoint under \"checkpoints\\1720192423113.ta.chkpt\" at 2024-07-05 23:13:43 after 415 attacks.\n"
     ]
    },
    {
     "name": "stdout",
     "output_type": "stream",
     "text": [
      "\n",
      "\n",
      "=============================================================================================================================\n",
      "=============================================================================================================================\n",
      "\n"
     ]
    },
    {
     "name": "stderr",
     "output_type": "stream",
     "text": [
      "[Succeeded / Failed / Skipped / Total] 284 / 31 / 105 / 420:  84%|███████████████▉   | 420/500 [09:13<01:45,  1.32s/it]textattack: Saving checkpoint under \"checkpoints\\1720192435332.ta.chkpt\" at 2024-07-05 23:13:55 after 420 attacks.\n"
     ]
    },
    {
     "name": "stdout",
     "output_type": "stream",
     "text": [
      "\n",
      "\n",
      "=============================================================================================================================\n",
      "=============================================================================================================================\n",
      "\n"
     ]
    },
    {
     "name": "stderr",
     "output_type": "stream",
     "text": [
      "[Succeeded / Failed / Skipped / Total] 288 / 31 / 106 / 425:  85%|████████████████▏  | 425/500 [09:17<01:38,  1.31s/it]textattack: Saving checkpoint under \"checkpoints\\1720192439114.ta.chkpt\" at 2024-07-05 23:13:59 after 425 attacks.\n"
     ]
    },
    {
     "name": "stdout",
     "output_type": "stream",
     "text": [
      "\n",
      "\n",
      "=============================================================================================================================\n",
      "=============================================================================================================================\n",
      "\n"
     ]
    },
    {
     "name": "stderr",
     "output_type": "stream",
     "text": [
      "[Succeeded / Failed / Skipped / Total] 292 / 31 / 107 / 430:  86%|████████████████▎  | 430/500 [09:22<01:31,  1.31s/it]textattack: Saving checkpoint under \"checkpoints\\1720192443989.ta.chkpt\" at 2024-07-05 23:14:03 after 430 attacks.\n",
      "[Succeeded / Failed / Skipped / Total] 292 / 31 / 108 / 431:  86%|████████████████▍  | 431/500 [09:22<01:30,  1.30s/it]"
     ]
    },
    {
     "name": "stdout",
     "output_type": "stream",
     "text": [
      "\n",
      "\n",
      "=============================================================================================================================\n",
      "=============================================================================================================================\n",
      "\n"
     ]
    },
    {
     "name": "stderr",
     "output_type": "stream",
     "text": [
      "[Succeeded / Failed / Skipped / Total] 296 / 31 / 108 / 435:  87%|████████████████▌  | 435/500 [09:25<01:24,  1.30s/it]textattack: Saving checkpoint under \"checkpoints\\1720192447583.ta.chkpt\" at 2024-07-05 23:14:07 after 435 attacks.\n"
     ]
    },
    {
     "name": "stdout",
     "output_type": "stream",
     "text": [
      "\n",
      "\n",
      "=============================================================================================================================\n",
      "=============================================================================================================================\n",
      "\n"
     ]
    },
    {
     "name": "stderr",
     "output_type": "stream",
     "text": [
      "[Succeeded / Failed / Skipped / Total] 301 / 31 / 108 / 440:  88%|████████████████▋  | 440/500 [09:38<01:18,  1.32s/it]textattack: Saving checkpoint under \"checkpoints\\1720192460351.ta.chkpt\" at 2024-07-05 23:14:20 after 440 attacks.\n",
      "[Succeeded / Failed / Skipped / Total] 301 / 31 / 109 / 441:  88%|████████████████▊  | 441/500 [09:38<01:17,  1.31s/it]"
     ]
    },
    {
     "name": "stdout",
     "output_type": "stream",
     "text": [
      "\n",
      "\n",
      "=============================================================================================================================\n",
      "=============================================================================================================================\n",
      "\n"
     ]
    },
    {
     "name": "stderr",
     "output_type": "stream",
     "text": [
      "[Succeeded / Failed / Skipped / Total] 305 / 31 / 109 / 445:  89%|████████████████▉  | 445/500 [09:42<01:11,  1.31s/it]textattack: Saving checkpoint under \"checkpoints\\1720192464148.ta.chkpt\" at 2024-07-05 23:14:24 after 445 attacks.\n"
     ]
    },
    {
     "name": "stdout",
     "output_type": "stream",
     "text": [
      "\n",
      "\n",
      "=============================================================================================================================\n",
      "=============================================================================================================================\n",
      "\n"
     ]
    },
    {
     "name": "stderr",
     "output_type": "stream",
     "text": [
      "[Succeeded / Failed / Skipped / Total] 306 / 33 / 111 / 450:  90%|█████████████████  | 450/500 [09:50<01:05,  1.31s/it]textattack: Saving checkpoint under \"checkpoints\\1720192472320.ta.chkpt\" at 2024-07-05 23:14:32 after 450 attacks.\n",
      "[Succeeded / Failed / Skipped / Total] 306 / 33 / 112 / 451:  90%|█████████████████▏ | 451/500 [09:50<01:04,  1.31s/it]"
     ]
    },
    {
     "name": "stdout",
     "output_type": "stream",
     "text": [
      "\n",
      "\n",
      "=============================================================================================================================\n",
      "=============================================================================================================================\n",
      "\n"
     ]
    },
    {
     "name": "stderr",
     "output_type": "stream",
     "text": [
      "[Succeeded / Failed / Skipped / Total] 309 / 33 / 113 / 455:  91%|█████████████████▎ | 455/500 [09:55<00:58,  1.31s/it]textattack: Saving checkpoint under \"checkpoints\\1720192477133.ta.chkpt\" at 2024-07-05 23:14:37 after 455 attacks.\n"
     ]
    },
    {
     "name": "stdout",
     "output_type": "stream",
     "text": [
      "\n",
      "\n",
      "=============================================================================================================================\n",
      "=============================================================================================================================\n",
      "\n"
     ]
    },
    {
     "name": "stderr",
     "output_type": "stream",
     "text": [
      "[Succeeded / Failed / Skipped / Total] 313 / 33 / 114 / 460:  92%|█████████████████▍ | 460/500 [10:02<00:52,  1.31s/it]textattack: Saving checkpoint under \"checkpoints\\1720192483993.ta.chkpt\" at 2024-07-05 23:14:43 after 460 attacks.\n"
     ]
    },
    {
     "name": "stdout",
     "output_type": "stream",
     "text": [
      "\n",
      "\n",
      "=============================================================================================================================\n",
      "=============================================================================================================================\n",
      "\n"
     ]
    },
    {
     "name": "stderr",
     "output_type": "stream",
     "text": [
      "[Succeeded / Failed / Skipped / Total] 316 / 33 / 116 / 465:  93%|█████████████████▋ | 465/500 [10:12<00:46,  1.32s/it]textattack: Saving checkpoint under \"checkpoints\\1720192493744.ta.chkpt\" at 2024-07-05 23:14:53 after 465 attacks.\n",
      "[Succeeded / Failed / Skipped / Total] 316 / 33 / 116 / 465:  93%|█████████████████▋ | 466/500 [10:12<00:44,  1.31s/it]"
     ]
    },
    {
     "name": "stdout",
     "output_type": "stream",
     "text": [
      "\n",
      "\n",
      "=============================================================================================================================\n",
      "=============================================================================================================================\n",
      "\n"
     ]
    },
    {
     "name": "stderr",
     "output_type": "stream",
     "text": [
      "[Succeeded / Failed / Skipped / Total] 320 / 33 / 117 / 470:  94%|█████████████████▊ | 470/500 [10:15<00:39,  1.31s/it]textattack: Saving checkpoint under \"checkpoints\\1720192497041.ta.chkpt\" at 2024-07-05 23:14:57 after 470 attacks.\n"
     ]
    },
    {
     "name": "stdout",
     "output_type": "stream",
     "text": [
      "\n",
      "\n",
      "=============================================================================================================================\n",
      "=============================================================================================================================\n",
      "\n"
     ]
    },
    {
     "name": "stderr",
     "output_type": "stream",
     "text": [
      "[Succeeded / Failed / Skipped / Total] 325 / 33 / 117 / 475:  95%|██████████████████ | 475/500 [10:26<00:32,  1.32s/it]textattack: Saving checkpoint under \"checkpoints\\1720192507720.ta.chkpt\" at 2024-07-05 23:15:07 after 475 attacks.\n"
     ]
    },
    {
     "name": "stdout",
     "output_type": "stream",
     "text": [
      "\n",
      "\n",
      "=============================================================================================================================\n",
      "=============================================================================================================================\n",
      "\n"
     ]
    },
    {
     "name": "stderr",
     "output_type": "stream",
     "text": [
      "[Succeeded / Failed / Skipped / Total] 330 / 33 / 117 / 480:  96%|██████████████████▏| 480/500 [10:30<00:26,  1.31s/it]textattack: Saving checkpoint under \"checkpoints\\1720192512174.ta.chkpt\" at 2024-07-05 23:15:12 after 480 attacks.\n",
      "[Succeeded / Failed / Skipped / Total] 331 / 33 / 117 / 481:  96%|██████████████████▎| 481/500 [10:30<00:24,  1.31s/it]"
     ]
    },
    {
     "name": "stdout",
     "output_type": "stream",
     "text": [
      "\n",
      "\n",
      "=============================================================================================================================\n",
      "=============================================================================================================================\n",
      "\n"
     ]
    },
    {
     "name": "stderr",
     "output_type": "stream",
     "text": [
      "[Succeeded / Failed / Skipped / Total] 335 / 33 / 117 / 485:  97%|██████████████████▍| 485/500 [10:36<00:19,  1.31s/it]textattack: Saving checkpoint under \"checkpoints\\1720192517815.ta.chkpt\" at 2024-07-05 23:15:17 after 485 attacks.\n"
     ]
    },
    {
     "name": "stdout",
     "output_type": "stream",
     "text": [
      "\n",
      "\n",
      "=============================================================================================================================\n",
      "=============================================================================================================================\n",
      "\n"
     ]
    },
    {
     "name": "stderr",
     "output_type": "stream",
     "text": [
      "[Succeeded / Failed / Skipped / Total] 339 / 33 / 118 / 490:  98%|██████████████████▌| 490/500 [10:45<00:13,  1.32s/it]textattack: Saving checkpoint under \"checkpoints\\1720192527542.ta.chkpt\" at 2024-07-05 23:15:27 after 490 attacks.\n",
      "[Succeeded / Failed / Skipped / Total] 339 / 33 / 119 / 491:  98%|██████████████████▋| 491/500 [10:45<00:11,  1.32s/it]"
     ]
    },
    {
     "name": "stdout",
     "output_type": "stream",
     "text": [
      "\n",
      "\n",
      "=============================================================================================================================\n",
      "=============================================================================================================================\n",
      "\n"
     ]
    },
    {
     "name": "stderr",
     "output_type": "stream",
     "text": [
      "[Succeeded / Failed / Skipped / Total] 342 / 33 / 120 / 495:  99%|██████████████████▊| 495/500 [10:49<00:06,  1.31s/it]textattack: Saving checkpoint under \"checkpoints\\1720192531355.ta.chkpt\" at 2024-07-05 23:15:31 after 495 attacks.\n"
     ]
    },
    {
     "name": "stdout",
     "output_type": "stream",
     "text": [
      "\n",
      "\n",
      "=============================================================================================================================\n",
      "=============================================================================================================================\n",
      "\n"
     ]
    },
    {
     "name": "stderr",
     "output_type": "stream",
     "text": [
      "[Succeeded / Failed / Skipped / Total] 347 / 33 / 120 / 500: 100%|███████████████████| 500/500 [11:01<00:00,  1.32s/it]textattack: Saving checkpoint under \"checkpoints\\1720192542871.ta.chkpt\" at 2024-07-05 23:15:42 after 500 attacks.\n",
      "[Succeeded / Failed / Skipped / Total] 347 / 33 / 120 / 500: 100%|███████████████████| 500/500 [11:01<00:00,  1.32s/it]"
     ]
    },
    {
     "name": "stdout",
     "output_type": "stream",
     "text": [
      "\n",
      "\n",
      "=============================================================================================================================\n",
      "=============================================================================================================================\n",
      "\n",
      "\n",
      "+-------------------------------+--------+\n",
      "| Attack Results                |        |\n",
      "+-------------------------------+--------+\n",
      "| Number of successful attacks: | 347    |\n",
      "| Number of failed attacks:     | 33     |\n",
      "| Number of skipped attacks:    | 120    |\n",
      "| Original accuracy:            | 76.0%  |\n",
      "| Accuracy under attack:        | 6.6%   |\n",
      "| Attack success rate:          | 91.32% |\n",
      "| Average perturbed word %:     | 17.32% |\n",
      "| Average num. words per input: | 18.4   |\n",
      "| Avg num queries:              | 69.14  |\n",
      "+-------------------------------+--------+\n"
     ]
    },
    {
     "name": "stderr",
     "output_type": "stream",
     "text": [
      "\n"
     ]
    }
   ],
   "source": [
    "runAttack(disbert_model_wrapper_rf_mr, n_samples, 'attack_results_new/disbertmrattackrf'+suffix, target_ds_mr)"
   ]
  },
  {
   "cell_type": "code",
   "execution_count": 22,
   "id": "006c3e60-dada-40b1-ab23-2ff6171400d3",
   "metadata": {
    "scrolled": true
   },
   "outputs": [
    {
     "name": "stderr",
     "output_type": "stream",
     "text": [
      "textattack: Unknown if model of class <class 'transformers.models.distilbert.modeling_distilbert.DistilBertModel'> compatible with goal function <class 'textattack.goal_functions.classification.untargeted_classification.UntargetedClassification'>.\n",
      "textattack: Logging to CSV at path attack_results_new/disbertmrattackknnsim06.csv\n"
     ]
    },
    {
     "name": "stdout",
     "output_type": "stream",
     "text": [
      "Attack(\n",
      "  (search_method): GreedyWordSwapWIR(\n",
      "    (wir_method):  delete\n",
      "  )\n",
      "  (goal_function):  UntargetedClassification\n",
      "  (transformation):  WordSwapEmbedding(\n",
      "    (max_candidates):  50\n",
      "    (embedding):  WordEmbedding\n",
      "  )\n",
      "  (constraints): \n",
      "    (0): WordEmbeddingDistance(\n",
      "        (embedding):  WordEmbedding\n",
      "        (min_cos_sim):  0.6\n",
      "        (cased):  False\n",
      "        (include_unknown_words):  True\n",
      "        (compare_against_original):  True\n",
      "      )\n",
      "    (1): PartOfSpeech(\n",
      "        (tagger_type):  nltk\n",
      "        (tagset):  universal\n",
      "        (allow_verb_noun_swap):  True\n",
      "        (compare_against_original):  True\n",
      "      )\n",
      "    (2): UniversalSentenceEncoder(\n",
      "        (metric):  angular\n",
      "        (threshold):  0.840845057\n",
      "        (window_size):  15\n",
      "        (skip_text_shorter_than_window):  True\n",
      "        (compare_against_original):  False\n",
      "      )\n",
      "    (3): RepeatModification\n",
      "    (4): StopwordModification\n",
      "    (5): InputColumnModification(\n",
      "        (matching_column_labels):  ['premise', 'hypothesis']\n",
      "        (columns_to_ignore):  {'premise'}\n",
      "      )\n",
      "  (is_black_box):  True\n",
      ") \n",
      "\n"
     ]
    },
    {
     "name": "stderr",
     "output_type": "stream",
     "text": [
      "[Succeeded / Failed / Skipped / Total] 4 / 1 / 0 / 5:   1%|▎                           | 5/500 [00:15<26:06,  3.16s/it]textattack: Saving checkpoint under \"checkpoints\\1720192558768.ta.chkpt\" at 2024-07-05 23:15:58 after 5 attacks.\n",
      "[Succeeded / Failed / Skipped / Total] 4 / 1 / 2 / 7:   1%|▍                           | 7/500 [00:15<18:41,  2.28s/it]"
     ]
    },
    {
     "name": "stdout",
     "output_type": "stream",
     "text": [
      "\n",
      "\n",
      "=============================================================================================================================\n",
      "=============================================================================================================================\n",
      "\n"
     ]
    },
    {
     "name": "stderr",
     "output_type": "stream",
     "text": [
      "[Succeeded / Failed / Skipped / Total] 5 / 3 / 2 / 10:   2%|▌                         | 10/500 [00:26<21:28,  2.63s/it]textattack: Saving checkpoint under \"checkpoints\\1720192569254.ta.chkpt\" at 2024-07-05 23:16:09 after 10 attacks.\n"
     ]
    },
    {
     "name": "stdout",
     "output_type": "stream",
     "text": [
      "\n",
      "\n",
      "=============================================================================================================================\n",
      "=============================================================================================================================\n",
      "\n"
     ]
    },
    {
     "name": "stderr",
     "output_type": "stream",
     "text": [
      "[Succeeded / Failed / Skipped / Total] 9 / 3 / 3 / 15:   3%|▊                         | 15/500 [00:33<18:00,  2.23s/it]textattack: Saving checkpoint under \"checkpoints\\1720192576379.ta.chkpt\" at 2024-07-05 23:16:16 after 15 attacks.\n"
     ]
    },
    {
     "name": "stdout",
     "output_type": "stream",
     "text": [
      "\n",
      "\n",
      "=============================================================================================================================\n",
      "=============================================================================================================================\n",
      "\n"
     ]
    },
    {
     "name": "stderr",
     "output_type": "stream",
     "text": [
      "[Succeeded / Failed / Skipped / Total] 12 / 4 / 4 / 20:   4%|█                        | 20/500 [00:36<14:42,  1.84s/it]textattack: Saving checkpoint under \"checkpoints\\1720192579707.ta.chkpt\" at 2024-07-05 23:16:19 after 20 attacks.\n"
     ]
    },
    {
     "name": "stdout",
     "output_type": "stream",
     "text": [
      "\n",
      "\n",
      "=============================================================================================================================\n",
      "=============================================================================================================================\n",
      "\n"
     ]
    },
    {
     "name": "stderr",
     "output_type": "stream",
     "text": [
      "[Succeeded / Failed / Skipped / Total] 16 / 4 / 5 / 25:   5%|█▎                       | 25/500 [00:39<12:33,  1.59s/it]textattack: Saving checkpoint under \"checkpoints\\1720192582598.ta.chkpt\" at 2024-07-05 23:16:22 after 25 attacks.\n"
     ]
    },
    {
     "name": "stdout",
     "output_type": "stream",
     "text": [
      "\n",
      "\n",
      "=============================================================================================================================\n",
      "=============================================================================================================================\n",
      "\n"
     ]
    },
    {
     "name": "stderr",
     "output_type": "stream",
     "text": [
      "[Succeeded / Failed / Skipped / Total] 19 / 5 / 6 / 30:   6%|█▌                       | 30/500 [00:49<13:02,  1.66s/it]textattack: Saving checkpoint under \"checkpoints\\1720192592896.ta.chkpt\" at 2024-07-05 23:16:32 after 30 attacks.\n"
     ]
    },
    {
     "name": "stdout",
     "output_type": "stream",
     "text": [
      "\n",
      "\n",
      "=============================================================================================================================\n",
      "=============================================================================================================================\n",
      "\n"
     ]
    },
    {
     "name": "stderr",
     "output_type": "stream",
     "text": [
      "[Succeeded / Failed / Skipped / Total] 22 / 5 / 8 / 35:   7%|█▊                       | 35/500 [00:51<11:22,  1.47s/it]textattack: Saving checkpoint under \"checkpoints\\1720192594318.ta.chkpt\" at 2024-07-05 23:16:34 after 35 attacks.\n"
     ]
    },
    {
     "name": "stdout",
     "output_type": "stream",
     "text": [
      "\n",
      "\n",
      "=============================================================================================================================\n",
      "=============================================================================================================================\n",
      "\n"
     ]
    },
    {
     "name": "stderr",
     "output_type": "stream",
     "text": [
      "[Succeeded / Failed / Skipped / Total] 24 / 5 / 11 / 40:   8%|█▉                      | 40/500 [00:52<10:08,  1.32s/it]textattack: Saving checkpoint under \"checkpoints\\1720192595881.ta.chkpt\" at 2024-07-05 23:16:35 after 40 attacks.\n"
     ]
    },
    {
     "name": "stdout",
     "output_type": "stream",
     "text": [
      "\n",
      "\n",
      "=============================================================================================================================\n",
      "=============================================================================================================================\n",
      "\n"
     ]
    },
    {
     "name": "stderr",
     "output_type": "stream",
     "text": [
      "[Succeeded / Failed / Skipped / Total] 28 / 5 / 12 / 45:   9%|██▏                     | 45/500 [00:56<09:35,  1.26s/it]textattack: Saving checkpoint under \"checkpoints\\1720192599850.ta.chkpt\" at 2024-07-05 23:16:39 after 45 attacks.\n",
      "[Succeeded / Failed / Skipped / Total] 28 / 5 / 13 / 46:   9%|██▏                     | 46/500 [00:56<09:22,  1.24s/it]"
     ]
    },
    {
     "name": "stdout",
     "output_type": "stream",
     "text": [
      "\n",
      "\n",
      "=============================================================================================================================\n",
      "=============================================================================================================================\n",
      "\n"
     ]
    },
    {
     "name": "stderr",
     "output_type": "stream",
     "text": [
      "[Succeeded / Failed / Skipped / Total] 31 / 6 / 13 / 50:  10%|██▍                     | 50/500 [01:03<09:31,  1.27s/it]textattack: Saving checkpoint under \"checkpoints\\1720192606491.ta.chkpt\" at 2024-07-05 23:16:46 after 50 attacks.\n"
     ]
    },
    {
     "name": "stdout",
     "output_type": "stream",
     "text": [
      "\n",
      "\n",
      "=============================================================================================================================\n",
      "=============================================================================================================================\n",
      "\n"
     ]
    },
    {
     "name": "stderr",
     "output_type": "stream",
     "text": [
      "[Succeeded / Failed / Skipped / Total] 35 / 6 / 14 / 55:  11%|██▋                     | 55/500 [01:08<09:16,  1.25s/it]textattack: Saving checkpoint under \"checkpoints\\1720192611710.ta.chkpt\" at 2024-07-05 23:16:51 after 55 attacks.\n"
     ]
    },
    {
     "name": "stdout",
     "output_type": "stream",
     "text": [
      "\n",
      "\n",
      "=============================================================================================================================\n",
      "=============================================================================================================================\n",
      "\n"
     ]
    },
    {
     "name": "stderr",
     "output_type": "stream",
     "text": [
      "[Succeeded / Failed / Skipped / Total] 39 / 6 / 15 / 60:  12%|██▉                     | 60/500 [01:11<08:45,  1.19s/it]textattack: Saving checkpoint under \"checkpoints\\1720192614570.ta.chkpt\" at 2024-07-05 23:16:54 after 60 attacks.\n",
      "[Succeeded / Failed / Skipped / Total] 39 / 6 / 17 / 62:  12%|██▉                     | 62/500 [01:11<08:26,  1.16s/it]"
     ]
    },
    {
     "name": "stdout",
     "output_type": "stream",
     "text": [
      "\n",
      "\n",
      "=============================================================================================================================\n",
      "=============================================================================================================================\n",
      "\n"
     ]
    },
    {
     "name": "stderr",
     "output_type": "stream",
     "text": [
      "[Succeeded / Failed / Skipped / Total] 41 / 6 / 18 / 65:  13%|███                     | 65/500 [01:12<08:08,  1.12s/it]textattack: Saving checkpoint under \"checkpoints\\1720192615914.ta.chkpt\" at 2024-07-05 23:16:55 after 65 attacks.\n"
     ]
    },
    {
     "name": "stdout",
     "output_type": "stream",
     "text": [
      "\n",
      "\n",
      "=============================================================================================================================\n",
      "=============================================================================================================================\n",
      "\n"
     ]
    },
    {
     "name": "stderr",
     "output_type": "stream",
     "text": [
      "[Succeeded / Failed / Skipped / Total] 45 / 6 / 19 / 70:  14%|███▎                    | 70/500 [01:16<07:50,  1.09s/it]textattack: Saving checkpoint under \"checkpoints\\1720192619586.ta.chkpt\" at 2024-07-05 23:16:59 after 70 attacks.\n"
     ]
    },
    {
     "name": "stdout",
     "output_type": "stream",
     "text": [
      "\n",
      "\n",
      "=============================================================================================================================\n",
      "=============================================================================================================================\n",
      "\n"
     ]
    },
    {
     "name": "stderr",
     "output_type": "stream",
     "text": [
      "[Succeeded / Failed / Skipped / Total] 49 / 6 / 20 / 75:  15%|███▌                    | 75/500 [01:18<07:27,  1.05s/it]textattack: Saving checkpoint under \"checkpoints\\1720192621930.ta.chkpt\" at 2024-07-05 23:17:01 after 75 attacks.\n",
      "[Succeeded / Failed / Skipped / Total] 49 / 6 / 21 / 76:  15%|███▋                    | 76/500 [01:19<07:20,  1.04s/it]"
     ]
    },
    {
     "name": "stdout",
     "output_type": "stream",
     "text": [
      "\n",
      "\n",
      "=============================================================================================================================\n",
      "=============================================================================================================================\n",
      "\n"
     ]
    },
    {
     "name": "stderr",
     "output_type": "stream",
     "text": [
      "[Succeeded / Failed / Skipped / Total] 52 / 6 / 22 / 80:  16%|███▊                    | 80/500 [01:22<07:12,  1.03s/it]textattack: Saving checkpoint under \"checkpoints\\1720192625290.ta.chkpt\" at 2024-07-05 23:17:05 after 80 attacks.\n",
      "[Succeeded / Failed / Skipped / Total] 52 / 6 / 24 / 82:  16%|███▉                    | 82/500 [01:22<07:00,  1.01s/it]"
     ]
    },
    {
     "name": "stdout",
     "output_type": "stream",
     "text": [
      "\n",
      "\n",
      "=============================================================================================================================\n",
      "=============================================================================================================================\n",
      "\n"
     ]
    },
    {
     "name": "stderr",
     "output_type": "stream",
     "text": [
      "[Succeeded / Failed / Skipped / Total] 54 / 6 / 25 / 85:  17%|████                    | 85/500 [01:24<06:50,  1.01it/s]textattack: Saving checkpoint under \"checkpoints\\1720192627040.ta.chkpt\" at 2024-07-05 23:17:07 after 85 attacks.\n",
      "[Succeeded / Failed / Skipped / Total] 54 / 6 / 27 / 87:  17%|████▏                   | 87/500 [01:24<06:39,  1.03it/s]"
     ]
    },
    {
     "name": "stdout",
     "output_type": "stream",
     "text": [
      "\n",
      "\n",
      "=============================================================================================================================\n",
      "=============================================================================================================================\n",
      "\n"
     ]
    },
    {
     "name": "stderr",
     "output_type": "stream",
     "text": [
      "[Succeeded / Failed / Skipped / Total] 56 / 6 / 28 / 90:  18%|████▎                   | 90/500 [01:25<06:30,  1.05it/s]textattack: Saving checkpoint under \"checkpoints\\1720192628602.ta.chkpt\" at 2024-07-05 23:17:08 after 90 attacks.\n"
     ]
    },
    {
     "name": "stdout",
     "output_type": "stream",
     "text": [
      "\n",
      "\n",
      "=============================================================================================================================\n",
      "=============================================================================================================================\n",
      "\n"
     ]
    },
    {
     "name": "stderr",
     "output_type": "stream",
     "text": [
      "[Succeeded / Failed / Skipped / Total] 58 / 6 / 31 / 95:  19%|████▌                   | 95/500 [01:27<06:12,  1.09it/s]textattack: Saving checkpoint under \"checkpoints\\1720192630259.ta.chkpt\" at 2024-07-05 23:17:10 after 95 attacks.\n"
     ]
    },
    {
     "name": "stdout",
     "output_type": "stream",
     "text": [
      "\n",
      "\n",
      "=============================================================================================================================\n",
      "=============================================================================================================================\n",
      "\n"
     ]
    },
    {
     "name": "stderr",
     "output_type": "stream",
     "text": [
      "[Succeeded / Failed / Skipped / Total] 62 / 7 / 31 / 100:  20%|████▍                 | 100/500 [01:36<06:24,  1.04it/s]textattack: Saving checkpoint under \"checkpoints\\1720192639103.ta.chkpt\" at 2024-07-05 23:17:19 after 100 attacks.\n"
     ]
    },
    {
     "name": "stdout",
     "output_type": "stream",
     "text": [
      "\n",
      "\n",
      "=============================================================================================================================\n",
      "=============================================================================================================================\n",
      "\n"
     ]
    },
    {
     "name": "stderr",
     "output_type": "stream",
     "text": [
      "[Succeeded / Failed / Skipped / Total] 66 / 7 / 32 / 105:  21%|████▌                 | 105/500 [01:43<06:27,  1.02it/s]textattack: Saving checkpoint under \"checkpoints\\1720192645963.ta.chkpt\" at 2024-07-05 23:17:25 after 105 attacks.\n",
      "[Succeeded / Failed / Skipped / Total] 66 / 7 / 33 / 106:  21%|████▋                 | 106/500 [01:43<06:23,  1.03it/s]"
     ]
    },
    {
     "name": "stdout",
     "output_type": "stream",
     "text": [
      "\n",
      "\n",
      "=============================================================================================================================\n",
      "=============================================================================================================================\n",
      "\n"
     ]
    },
    {
     "name": "stderr",
     "output_type": "stream",
     "text": [
      "[Succeeded / Failed / Skipped / Total] 68 / 8 / 34 / 110:  22%|████▊                 | 110/500 [01:48<06:24,  1.01it/s]textattack: Saving checkpoint under \"checkpoints\\1720192651341.ta.chkpt\" at 2024-07-05 23:17:31 after 110 attacks.\n"
     ]
    },
    {
     "name": "stdout",
     "output_type": "stream",
     "text": [
      "\n",
      "\n",
      "=============================================================================================================================\n",
      "=============================================================================================================================\n",
      "\n"
     ]
    },
    {
     "name": "stderr",
     "output_type": "stream",
     "text": [
      "[Succeeded / Failed / Skipped / Total] 69 / 10 / 36 / 115:  23%|████▊                | 115/500 [02:00<06:43,  1.05s/it]textattack: Saving checkpoint under \"checkpoints\\1720192663561.ta.chkpt\" at 2024-07-05 23:17:43 after 115 attacks.\n"
     ]
    },
    {
     "name": "stdout",
     "output_type": "stream",
     "text": [
      "\n",
      "\n",
      "=============================================================================================================================\n",
      "=============================================================================================================================\n",
      "\n"
     ]
    },
    {
     "name": "stderr",
     "output_type": "stream",
     "text": [
      "[Succeeded / Failed / Skipped / Total] 73 / 10 / 37 / 120:  24%|█████                | 120/500 [02:04<06:32,  1.03s/it]textattack: Saving checkpoint under \"checkpoints\\1720192666952.ta.chkpt\" at 2024-07-05 23:17:46 after 120 attacks.\n",
      "[Succeeded / Failed / Skipped / Total] 73 / 10 / 38 / 121:  24%|█████                | 121/500 [02:04<06:28,  1.03s/it]"
     ]
    },
    {
     "name": "stdout",
     "output_type": "stream",
     "text": [
      "\n",
      "\n",
      "=============================================================================================================================\n",
      "=============================================================================================================================\n",
      "\n"
     ]
    },
    {
     "name": "stderr",
     "output_type": "stream",
     "text": [
      "[Succeeded / Failed / Skipped / Total] 75 / 10 / 40 / 125:  25%|█████▎               | 125/500 [02:05<06:15,  1.00s/it]textattack: Saving checkpoint under \"checkpoints\\1720192668202.ta.chkpt\" at 2024-07-05 23:17:48 after 125 attacks.\n"
     ]
    },
    {
     "name": "stdout",
     "output_type": "stream",
     "text": [
      "\n",
      "\n",
      "=============================================================================================================================\n",
      "=============================================================================================================================\n",
      "\n"
     ]
    },
    {
     "name": "stderr",
     "output_type": "stream",
     "text": [
      "[Succeeded / Failed / Skipped / Total] 79 / 10 / 41 / 130:  26%|█████▍               | 130/500 [02:10<06:11,  1.00s/it]textattack: Saving checkpoint under \"checkpoints\\1720192673311.ta.chkpt\" at 2024-07-05 23:17:53 after 130 attacks.\n",
      "[Succeeded / Failed / Skipped / Total] 79 / 10 / 42 / 131:  26%|█████▌               | 131/500 [02:10<06:07,  1.00it/s]"
     ]
    },
    {
     "name": "stdout",
     "output_type": "stream",
     "text": [
      "\n",
      "\n",
      "=============================================================================================================================\n",
      "=============================================================================================================================\n",
      "\n"
     ]
    },
    {
     "name": "stderr",
     "output_type": "stream",
     "text": [
      "[Succeeded / Failed / Skipped / Total] 81 / 11 / 43 / 135:  27%|█████▋               | 135/500 [02:13<06:01,  1.01it/s]textattack: Saving checkpoint under \"checkpoints\\1720192676546.ta.chkpt\" at 2024-07-05 23:17:56 after 135 attacks.\n"
     ]
    },
    {
     "name": "stdout",
     "output_type": "stream",
     "text": [
      "\n",
      "\n",
      "=============================================================================================================================\n",
      "=============================================================================================================================\n",
      "\n"
     ]
    },
    {
     "name": "stderr",
     "output_type": "stream",
     "text": [
      "[Succeeded / Failed / Skipped / Total] 85 / 11 / 44 / 140:  28%|█████▉               | 140/500 [02:16<05:51,  1.02it/s]textattack: Saving checkpoint under \"checkpoints\\1720192679640.ta.chkpt\" at 2024-07-05 23:17:59 after 140 attacks.\n"
     ]
    },
    {
     "name": "stdout",
     "output_type": "stream",
     "text": [
      "\n",
      "\n",
      "=============================================================================================================================\n",
      "=============================================================================================================================\n",
      "\n"
     ]
    },
    {
     "name": "stderr",
     "output_type": "stream",
     "text": [
      "[Succeeded / Failed / Skipped / Total] 90 / 11 / 44 / 145:  29%|██████               | 145/500 [02:22<05:48,  1.02it/s]textattack: Saving checkpoint under \"checkpoints\\1720192685281.ta.chkpt\" at 2024-07-05 23:18:05 after 145 attacks.\n",
      "[Succeeded / Failed / Skipped / Total] 90 / 11 / 46 / 147:  29%|██████▏              | 147/500 [02:22<05:42,  1.03it/s]"
     ]
    },
    {
     "name": "stdout",
     "output_type": "stream",
     "text": [
      "\n",
      "\n",
      "=============================================================================================================================\n",
      "=============================================================================================================================\n",
      "\n"
     ]
    },
    {
     "name": "stderr",
     "output_type": "stream",
     "text": [
      "[Succeeded / Failed / Skipped / Total] 92 / 11 / 47 / 150:  30%|██████▎              | 150/500 [02:23<05:35,  1.04it/s]textattack: Saving checkpoint under \"checkpoints\\1720192686610.ta.chkpt\" at 2024-07-05 23:18:06 after 150 attacks.\n",
      "[Succeeded / Failed / Skipped / Total] 92 / 11 / 49 / 152:  30%|██████▍              | 152/500 [02:23<05:29,  1.06it/s]"
     ]
    },
    {
     "name": "stdout",
     "output_type": "stream",
     "text": [
      "\n",
      "\n",
      "=============================================================================================================================\n",
      "=============================================================================================================================\n",
      "\n"
     ]
    },
    {
     "name": "stderr",
     "output_type": "stream",
     "text": [
      "[Succeeded / Failed / Skipped / Total] 93 / 12 / 50 / 155:  31%|██████▌              | 155/500 [02:24<05:22,  1.07it/s]textattack: Saving checkpoint under \"checkpoints\\1720192687875.ta.chkpt\" at 2024-07-05 23:18:07 after 155 attacks.\n"
     ]
    },
    {
     "name": "stdout",
     "output_type": "stream",
     "text": [
      "\n",
      "\n",
      "=============================================================================================================================\n",
      "=============================================================================================================================\n",
      "\n"
     ]
    },
    {
     "name": "stderr",
     "output_type": "stream",
     "text": [
      "[Succeeded / Failed / Skipped / Total] 96 / 13 / 51 / 160:  32%|██████▋              | 160/500 [02:38<05:37,  1.01it/s]textattack: Saving checkpoint under \"checkpoints\\1720192701845.ta.chkpt\" at 2024-07-05 23:18:21 after 160 attacks.\n",
      "[Succeeded / Failed / Skipped / Total] 96 / 13 / 52 / 161:  32%|██████▊              | 161/500 [02:38<05:34,  1.01it/s]"
     ]
    },
    {
     "name": "stdout",
     "output_type": "stream",
     "text": [
      "\n",
      "\n",
      "=============================================================================================================================\n",
      "=============================================================================================================================\n",
      "\n"
     ]
    },
    {
     "name": "stderr",
     "output_type": "stream",
     "text": [
      "[Succeeded / Failed / Skipped / Total] 99 / 13 / 53 / 165:  33%|██████▉              | 165/500 [02:42<05:30,  1.01it/s]textattack: Saving checkpoint under \"checkpoints\\1720192705892.ta.chkpt\" at 2024-07-05 23:18:25 after 165 attacks.\n",
      "[Succeeded / Failed / Skipped / Total] 99 / 13 / 55 / 167:  33%|███████              | 167/500 [02:43<05:25,  1.02it/s]"
     ]
    },
    {
     "name": "stdout",
     "output_type": "stream",
     "text": [
      "\n",
      "\n",
      "=============================================================================================================================\n",
      "=============================================================================================================================\n",
      "\n"
     ]
    },
    {
     "name": "stderr",
     "output_type": "stream",
     "text": [
      "[Succeeded / Failed / Skipped / Total] 102 / 13 / 55 / 170:  34%|██████▊             | 170/500 [02:45<05:20,  1.03it/s]textattack: Saving checkpoint under \"checkpoints\\1720192708018.ta.chkpt\" at 2024-07-05 23:18:28 after 170 attacks.\n"
     ]
    },
    {
     "name": "stdout",
     "output_type": "stream",
     "text": [
      "\n",
      "\n",
      "=============================================================================================================================\n",
      "=============================================================================================================================\n",
      "\n"
     ]
    },
    {
     "name": "stderr",
     "output_type": "stream",
     "text": [
      "[Succeeded / Failed / Skipped / Total] 104 / 14 / 57 / 175:  35%|███████             | 175/500 [02:52<05:21,  1.01it/s]textattack: Saving checkpoint under \"checkpoints\\1720192715831.ta.chkpt\" at 2024-07-05 23:18:35 after 175 attacks.\n"
     ]
    },
    {
     "name": "stdout",
     "output_type": "stream",
     "text": [
      "\n",
      "\n",
      "=============================================================================================================================\n",
      "=============================================================================================================================\n",
      "\n"
     ]
    },
    {
     "name": "stderr",
     "output_type": "stream",
     "text": [
      "[Succeeded / Failed / Skipped / Total] 107 / 15 / 58 / 180:  36%|███████▏            | 180/500 [03:01<05:22,  1.01s/it]textattack: Saving checkpoint under \"checkpoints\\1720192724503.ta.chkpt\" at 2024-07-05 23:18:44 after 180 attacks.\n"
     ]
    },
    {
     "name": "stdout",
     "output_type": "stream",
     "text": [
      "\n",
      "\n",
      "=============================================================================================================================\n",
      "=============================================================================================================================\n",
      "\n"
     ]
    },
    {
     "name": "stderr",
     "output_type": "stream",
     "text": [
      "[Succeeded / Failed / Skipped / Total] 111 / 15 / 59 / 185:  37%|███████▍            | 185/500 [03:04<05:14,  1.00it/s]textattack: Saving checkpoint under \"checkpoints\\1720192727660.ta.chkpt\" at 2024-07-05 23:18:47 after 185 attacks.\n"
     ]
    },
    {
     "name": "stdout",
     "output_type": "stream",
     "text": [
      "\n",
      "\n",
      "=============================================================================================================================\n",
      "=============================================================================================================================\n",
      "\n"
     ]
    },
    {
     "name": "stderr",
     "output_type": "stream",
     "text": [
      "[Succeeded / Failed / Skipped / Total] 114 / 15 / 61 / 190:  38%|███████▌            | 190/500 [03:07<05:06,  1.01it/s]textattack: Saving checkpoint under \"checkpoints\\1720192730832.ta.chkpt\" at 2024-07-05 23:18:50 after 190 attacks.\n"
     ]
    },
    {
     "name": "stdout",
     "output_type": "stream",
     "text": [
      "\n",
      "\n",
      "=============================================================================================================================\n",
      "=============================================================================================================================\n",
      "\n"
     ]
    },
    {
     "name": "stderr",
     "output_type": "stream",
     "text": [
      "[Succeeded / Failed / Skipped / Total] 119 / 15 / 61 / 195:  39%|███████▊            | 195/500 [03:19<05:11,  1.02s/it]textattack: Saving checkpoint under \"checkpoints\\1720192742021.ta.chkpt\" at 2024-07-05 23:19:02 after 195 attacks.\n"
     ]
    },
    {
     "name": "stdout",
     "output_type": "stream",
     "text": [
      "\n",
      "\n",
      "=============================================================================================================================\n",
      "=============================================================================================================================\n",
      "\n"
     ]
    },
    {
     "name": "stderr",
     "output_type": "stream",
     "text": [
      "[Succeeded / Failed / Skipped / Total] 121 / 17 / 62 / 200:  40%|████████            | 200/500 [03:41<05:32,  1.11s/it]textattack: Saving checkpoint under \"checkpoints\\1720192764351.ta.chkpt\" at 2024-07-05 23:19:24 after 200 attacks.\n"
     ]
    },
    {
     "name": "stdout",
     "output_type": "stream",
     "text": [
      "\n",
      "\n",
      "=============================================================================================================================\n",
      "=============================================================================================================================\n",
      "\n"
     ]
    },
    {
     "name": "stderr",
     "output_type": "stream",
     "text": [
      "[Succeeded / Failed / Skipped / Total] 124 / 17 / 64 / 205:  41%|████████▏           | 205/500 [03:43<05:21,  1.09s/it]textattack: Saving checkpoint under \"checkpoints\\1720192766478.ta.chkpt\" at 2024-07-05 23:19:26 after 205 attacks.\n"
     ]
    },
    {
     "name": "stdout",
     "output_type": "stream",
     "text": [
      "\n",
      "\n",
      "=============================================================================================================================\n",
      "=============================================================================================================================\n",
      "\n"
     ]
    },
    {
     "name": "stderr",
     "output_type": "stream",
     "text": [
      "[Succeeded / Failed / Skipped / Total] 127 / 17 / 66 / 210:  42%|████████▍           | 210/500 [03:47<05:13,  1.08s/it]textattack: Saving checkpoint under \"checkpoints\\1720192770025.ta.chkpt\" at 2024-07-05 23:19:30 after 210 attacks.\n"
     ]
    },
    {
     "name": "stdout",
     "output_type": "stream",
     "text": [
      "\n",
      "\n",
      "=============================================================================================================================\n",
      "=============================================================================================================================\n",
      "\n"
     ]
    },
    {
     "name": "stderr",
     "output_type": "stream",
     "text": [
      "[Succeeded / Failed / Skipped / Total] 132 / 17 / 66 / 215:  43%|████████▌           | 215/500 [03:52<05:08,  1.08s/it]textattack: Saving checkpoint under \"checkpoints\\1720192775682.ta.chkpt\" at 2024-07-05 23:19:35 after 215 attacks.\n"
     ]
    },
    {
     "name": "stdout",
     "output_type": "stream",
     "text": [
      "\n",
      "\n",
      "=============================================================================================================================\n",
      "=============================================================================================================================\n",
      "\n"
     ]
    },
    {
     "name": "stderr",
     "output_type": "stream",
     "text": [
      "[Succeeded / Failed / Skipped / Total] 135 / 17 / 68 / 220:  44%|████████▊           | 220/500 [03:56<05:00,  1.07s/it]textattack: Saving checkpoint under \"checkpoints\\1720192779042.ta.chkpt\" at 2024-07-05 23:19:39 after 220 attacks.\n"
     ]
    },
    {
     "name": "stdout",
     "output_type": "stream",
     "text": [
      "\n",
      "\n",
      "=============================================================================================================================\n",
      "=============================================================================================================================\n",
      "\n"
     ]
    },
    {
     "name": "stderr",
     "output_type": "stream",
     "text": [
      "[Succeeded / Failed / Skipped / Total] 139 / 17 / 69 / 225:  45%|█████████           | 225/500 [04:01<04:55,  1.07s/it]textattack: Saving checkpoint under \"checkpoints\\1720192784714.ta.chkpt\" at 2024-07-05 23:19:44 after 225 attacks.\n"
     ]
    },
    {
     "name": "stdout",
     "output_type": "stream",
     "text": [
      "\n",
      "\n",
      "=============================================================================================================================\n",
      "=============================================================================================================================\n",
      "\n"
     ]
    },
    {
     "name": "stderr",
     "output_type": "stream",
     "text": [
      "[Succeeded / Failed / Skipped / Total] 143 / 17 / 70 / 230:  46%|█████████▏          | 230/500 [04:03<04:45,  1.06s/it]textattack: Saving checkpoint under \"checkpoints\\1720192786511.ta.chkpt\" at 2024-07-05 23:19:46 after 230 attacks.\n"
     ]
    },
    {
     "name": "stdout",
     "output_type": "stream",
     "text": [
      "\n",
      "\n",
      "=============================================================================================================================\n",
      "=============================================================================================================================\n",
      "\n"
     ]
    },
    {
     "name": "stderr",
     "output_type": "stream",
     "text": [
      "[Succeeded / Failed / Skipped / Total] 147 / 18 / 70 / 235:  47%|█████████▍          | 235/500 [04:11<04:43,  1.07s/it]textattack: Saving checkpoint under \"checkpoints\\1720192794527.ta.chkpt\" at 2024-07-05 23:19:54 after 235 attacks.\n"
     ]
    },
    {
     "name": "stdout",
     "output_type": "stream",
     "text": [
      "\n",
      "\n",
      "=============================================================================================================================\n",
      "=============================================================================================================================\n",
      "\n"
     ]
    },
    {
     "name": "stderr",
     "output_type": "stream",
     "text": [
      "[Succeeded / Failed / Skipped / Total] 152 / 18 / 70 / 240:  48%|█████████▌          | 240/500 [04:16<04:38,  1.07s/it]textattack: Saving checkpoint under \"checkpoints\\1720192799621.ta.chkpt\" at 2024-07-05 23:19:59 after 240 attacks.\n",
      "[Succeeded / Failed / Skipped / Total] 152 / 18 / 71 / 241:  48%|█████████▋          | 241/500 [04:16<04:35,  1.07s/it]"
     ]
    },
    {
     "name": "stdout",
     "output_type": "stream",
     "text": [
      "\n",
      "\n",
      "=============================================================================================================================\n",
      "=============================================================================================================================\n",
      "\n"
     ]
    },
    {
     "name": "stderr",
     "output_type": "stream",
     "text": [
      "[Succeeded / Failed / Skipped / Total] 155 / 18 / 72 / 245:  49%|█████████▊          | 245/500 [04:19<04:29,  1.06s/it]textattack: Saving checkpoint under \"checkpoints\\1720192802044.ta.chkpt\" at 2024-07-05 23:20:02 after 245 attacks.\n"
     ]
    },
    {
     "name": "stdout",
     "output_type": "stream",
     "text": [
      "\n",
      "\n",
      "=============================================================================================================================\n",
      "=============================================================================================================================\n",
      "\n"
     ]
    },
    {
     "name": "stderr",
     "output_type": "stream",
     "text": [
      "[Succeeded / Failed / Skipped / Total] 159 / 18 / 73 / 250:  50%|██████████          | 250/500 [04:22<04:22,  1.05s/it]textattack: Saving checkpoint under \"checkpoints\\1720192805278.ta.chkpt\" at 2024-07-05 23:20:05 after 250 attacks.\n"
     ]
    },
    {
     "name": "stdout",
     "output_type": "stream",
     "text": [
      "\n",
      "\n",
      "=============================================================================================================================\n",
      "=============================================================================================================================\n",
      "\n"
     ]
    },
    {
     "name": "stderr",
     "output_type": "stream",
     "text": [
      "[Succeeded / Failed / Skipped / Total] 164 / 18 / 73 / 255:  51%|██████████▏         | 255/500 [04:25<04:15,  1.04s/it]textattack: Saving checkpoint under \"checkpoints\\1720192808935.ta.chkpt\" at 2024-07-05 23:20:08 after 255 attacks.\n"
     ]
    },
    {
     "name": "stdout",
     "output_type": "stream",
     "text": [
      "\n",
      "\n",
      "=============================================================================================================================\n",
      "=============================================================================================================================\n",
      "\n"
     ]
    },
    {
     "name": "stderr",
     "output_type": "stream",
     "text": [
      "[Succeeded / Failed / Skipped / Total] 167 / 18 / 75 / 260:  52%|██████████▍         | 260/500 [04:30<04:09,  1.04s/it]textattack: Saving checkpoint under \"checkpoints\\1720192813482.ta.chkpt\" at 2024-07-05 23:20:13 after 260 attacks.\n"
     ]
    },
    {
     "name": "stdout",
     "output_type": "stream",
     "text": [
      "\n",
      "\n",
      "=============================================================================================================================\n",
      "=============================================================================================================================\n",
      "\n"
     ]
    },
    {
     "name": "stderr",
     "output_type": "stream",
     "text": [
      "[Succeeded / Failed / Skipped / Total] 172 / 18 / 75 / 265:  53%|██████████▌         | 265/500 [04:33<04:02,  1.03s/it]textattack: Saving checkpoint under \"checkpoints\\1720192816701.ta.chkpt\" at 2024-07-05 23:20:16 after 265 attacks.\n"
     ]
    },
    {
     "name": "stdout",
     "output_type": "stream",
     "text": [
      "\n",
      "\n",
      "=============================================================================================================================\n",
      "=============================================================================================================================\n",
      "\n"
     ]
    },
    {
     "name": "stderr",
     "output_type": "stream",
     "text": [
      "[Succeeded / Failed / Skipped / Total] 175 / 19 / 76 / 270:  54%|██████████▊         | 270/500 [04:46<04:04,  1.06s/it]textattack: Saving checkpoint under \"checkpoints\\1720192829627.ta.chkpt\" at 2024-07-05 23:20:29 after 270 attacks.\n",
      "[Succeeded / Failed / Skipped / Total] 175 / 19 / 78 / 272:  54%|██████████▉         | 272/500 [04:46<04:00,  1.05s/it]"
     ]
    },
    {
     "name": "stdout",
     "output_type": "stream",
     "text": [
      "\n",
      "\n",
      "=============================================================================================================================\n",
      "=============================================================================================================================\n",
      "\n"
     ]
    },
    {
     "name": "stderr",
     "output_type": "stream",
     "text": [
      "[Succeeded / Failed / Skipped / Total] 176 / 19 / 80 / 275:  55%|███████████         | 275/500 [04:47<03:55,  1.05s/it]textattack: Saving checkpoint under \"checkpoints\\1720192830904.ta.chkpt\" at 2024-07-05 23:20:30 after 275 attacks.\n"
     ]
    },
    {
     "name": "stdout",
     "output_type": "stream",
     "text": [
      "\n",
      "\n",
      "=============================================================================================================================\n",
      "=============================================================================================================================\n",
      "\n"
     ]
    },
    {
     "name": "stderr",
     "output_type": "stream",
     "text": [
      "[Succeeded / Failed / Skipped / Total] 179 / 19 / 82 / 280:  56%|███████████▏        | 280/500 [04:49<03:47,  1.04s/it]textattack: Saving checkpoint under \"checkpoints\\1720192832888.ta.chkpt\" at 2024-07-05 23:20:32 after 280 attacks.\n"
     ]
    },
    {
     "name": "stdout",
     "output_type": "stream",
     "text": [
      "\n",
      "\n",
      "=============================================================================================================================\n",
      "=============================================================================================================================\n",
      "\n"
     ]
    },
    {
     "name": "stderr",
     "output_type": "stream",
     "text": [
      "[Succeeded / Failed / Skipped / Total] 183 / 19 / 83 / 285:  57%|███████████▍        | 285/500 [04:54<03:42,  1.03s/it]textattack: Saving checkpoint under \"checkpoints\\1720192837510.ta.chkpt\" at 2024-07-05 23:20:37 after 285 attacks.\n"
     ]
    },
    {
     "name": "stdout",
     "output_type": "stream",
     "text": [
      "\n",
      "\n",
      "=============================================================================================================================\n",
      "=============================================================================================================================\n",
      "\n"
     ]
    },
    {
     "name": "stderr",
     "output_type": "stream",
     "text": [
      "[Succeeded / Failed / Skipped / Total] 188 / 19 / 83 / 290:  58%|███████████▌        | 290/500 [04:57<03:35,  1.03s/it]textattack: Saving checkpoint under \"checkpoints\\1720192840848.ta.chkpt\" at 2024-07-05 23:20:40 after 290 attacks.\n",
      "[Succeeded / Failed / Skipped / Total] 188 / 19 / 84 / 291:  58%|███████████▋        | 291/500 [04:57<03:34,  1.02s/it]"
     ]
    },
    {
     "name": "stdout",
     "output_type": "stream",
     "text": [
      "\n",
      "\n",
      "=============================================================================================================================\n",
      "=============================================================================================================================\n",
      "\n"
     ]
    },
    {
     "name": "stderr",
     "output_type": "stream",
     "text": [
      "[Succeeded / Failed / Skipped / Total] 191 / 19 / 85 / 295:  59%|███████████▊        | 295/500 [05:00<03:29,  1.02s/it]textattack: Saving checkpoint under \"checkpoints\\1720192843826.ta.chkpt\" at 2024-07-05 23:20:43 after 295 attacks.\n"
     ]
    },
    {
     "name": "stdout",
     "output_type": "stream",
     "text": [
      "\n",
      "\n",
      "=============================================================================================================================\n",
      "=============================================================================================================================\n",
      "\n"
     ]
    },
    {
     "name": "stderr",
     "output_type": "stream",
     "text": [
      "[Succeeded / Failed / Skipped / Total] 194 / 19 / 87 / 300:  60%|████████████        | 300/500 [05:05<03:23,  1.02s/it]textattack: Saving checkpoint under \"checkpoints\\1720192848314.ta.chkpt\" at 2024-07-05 23:20:48 after 300 attacks.\n"
     ]
    },
    {
     "name": "stdout",
     "output_type": "stream",
     "text": [
      "\n",
      "\n",
      "=============================================================================================================================\n",
      "=============================================================================================================================\n",
      "\n"
     ]
    },
    {
     "name": "stderr",
     "output_type": "stream",
     "text": [
      "[Succeeded / Failed / Skipped / Total] 198 / 19 / 88 / 305:  61%|████████████▏       | 305/500 [05:10<03:18,  1.02s/it]textattack: Saving checkpoint under \"checkpoints\\1720192853681.ta.chkpt\" at 2024-07-05 23:20:53 after 305 attacks.\n"
     ]
    },
    {
     "name": "stdout",
     "output_type": "stream",
     "text": [
      "\n",
      "\n",
      "=============================================================================================================================\n",
      "=============================================================================================================================\n",
      "\n"
     ]
    },
    {
     "name": "stderr",
     "output_type": "stream",
     "text": [
      "[Succeeded / Failed / Skipped / Total] 200 / 21 / 89 / 310:  62%|████████████▍       | 310/500 [05:16<03:13,  1.02s/it]textattack: Saving checkpoint under \"checkpoints\\1720192859401.ta.chkpt\" at 2024-07-05 23:20:59 after 310 attacks.\n"
     ]
    },
    {
     "name": "stdout",
     "output_type": "stream",
     "text": [
      "\n",
      "\n",
      "=============================================================================================================================\n",
      "=============================================================================================================================\n",
      "\n"
     ]
    },
    {
     "name": "stderr",
     "output_type": "stream",
     "text": [
      "[Succeeded / Failed / Skipped / Total] 204 / 21 / 90 / 315:  63%|████████████▌       | 315/500 [05:20<03:08,  1.02s/it]textattack: Saving checkpoint under \"checkpoints\\1720192863387.ta.chkpt\" at 2024-07-05 23:21:03 after 315 attacks.\n"
     ]
    },
    {
     "name": "stdout",
     "output_type": "stream",
     "text": [
      "\n",
      "\n",
      "=============================================================================================================================\n",
      "=============================================================================================================================\n",
      "\n"
     ]
    },
    {
     "name": "stderr",
     "output_type": "stream",
     "text": [
      "[Succeeded / Failed / Skipped / Total] 206 / 22 / 92 / 320:  64%|████████████▊       | 320/500 [05:29<03:05,  1.03s/it]textattack: Saving checkpoint under \"checkpoints\\1720192872670.ta.chkpt\" at 2024-07-05 23:21:12 after 320 attacks.\n"
     ]
    },
    {
     "name": "stdout",
     "output_type": "stream",
     "text": [
      "\n",
      "\n",
      "=============================================================================================================================\n",
      "=============================================================================================================================\n",
      "\n"
     ]
    },
    {
     "name": "stderr",
     "output_type": "stream",
     "text": [
      "[Succeeded / Failed / Skipped / Total] 210 / 23 / 92 / 325:  65%|█████████████       | 325/500 [05:43<03:04,  1.06s/it]textattack: Saving checkpoint under \"checkpoints\\1720192886422.ta.chkpt\" at 2024-07-05 23:21:26 after 325 attacks.\n"
     ]
    },
    {
     "name": "stdout",
     "output_type": "stream",
     "text": [
      "\n",
      "\n",
      "=============================================================================================================================\n",
      "=============================================================================================================================\n",
      "\n"
     ]
    },
    {
     "name": "stderr",
     "output_type": "stream",
     "text": [
      "[Succeeded / Failed / Skipped / Total] 215 / 23 / 92 / 330:  66%|█████████████▏      | 330/500 [05:46<02:58,  1.05s/it]textattack: Saving checkpoint under \"checkpoints\\1720192889404.ta.chkpt\" at 2024-07-05 23:21:29 after 330 attacks.\n"
     ]
    },
    {
     "name": "stdout",
     "output_type": "stream",
     "text": [
      "\n",
      "\n",
      "=============================================================================================================================\n",
      "=============================================================================================================================\n",
      "\n"
     ]
    },
    {
     "name": "stderr",
     "output_type": "stream",
     "text": [
      "[Succeeded / Failed / Skipped / Total] 217 / 25 / 93 / 335:  67%|█████████████▍      | 335/500 [06:03<02:59,  1.09s/it]textattack: Saving checkpoint under \"checkpoints\\1720192906754.ta.chkpt\" at 2024-07-05 23:21:46 after 335 attacks.\n",
      "[Succeeded / Failed / Skipped / Total] 217 / 25 / 94 / 336:  67%|█████████████▍      | 336/500 [06:03<02:57,  1.08s/it]"
     ]
    },
    {
     "name": "stdout",
     "output_type": "stream",
     "text": [
      "\n",
      "\n",
      "=============================================================================================================================\n",
      "=============================================================================================================================\n",
      "\n"
     ]
    },
    {
     "name": "stderr",
     "output_type": "stream",
     "text": [
      "[Succeeded / Failed / Skipped / Total] 219 / 26 / 95 / 340:  68%|█████████████▌      | 340/500 [06:09<02:54,  1.09s/it]textattack: Saving checkpoint under \"checkpoints\\1720192912781.ta.chkpt\" at 2024-07-05 23:21:52 after 340 attacks.\n"
     ]
    },
    {
     "name": "stdout",
     "output_type": "stream",
     "text": [
      "\n",
      "\n",
      "=============================================================================================================================\n",
      "=============================================================================================================================\n",
      "\n"
     ]
    },
    {
     "name": "stderr",
     "output_type": "stream",
     "text": [
      "[Succeeded / Failed / Skipped / Total] 221 / 27 / 97 / 345:  69%|█████████████▊      | 345/500 [06:17<02:49,  1.10s/it]textattack: Saving checkpoint under \"checkpoints\\1720192920733.ta.chkpt\" at 2024-07-05 23:22:00 after 345 attacks.\n"
     ]
    },
    {
     "name": "stdout",
     "output_type": "stream",
     "text": [
      "\n",
      "\n",
      "=============================================================================================================================\n",
      "=============================================================================================================================\n",
      "\n"
     ]
    },
    {
     "name": "stderr",
     "output_type": "stream",
     "text": [
      "[Succeeded / Failed / Skipped / Total] 225 / 27 / 98 / 350:  70%|██████████████      | 350/500 [06:21<02:43,  1.09s/it]textattack: Saving checkpoint under \"checkpoints\\1720192924076.ta.chkpt\" at 2024-07-05 23:22:04 after 350 attacks.\n"
     ]
    },
    {
     "name": "stdout",
     "output_type": "stream",
     "text": [
      "\n",
      "\n",
      "=============================================================================================================================\n",
      "=============================================================================================================================\n",
      "\n"
     ]
    },
    {
     "name": "stderr",
     "output_type": "stream",
     "text": [
      "[Succeeded / Failed / Skipped / Total] 228 / 29 / 98 / 355:  71%|██████████████▏     | 355/500 [06:33<02:40,  1.11s/it]textattack: Saving checkpoint under \"checkpoints\\1720192936271.ta.chkpt\" at 2024-07-05 23:22:16 after 355 attacks.\n",
      "[Succeeded / Failed / Skipped / Total] 228 / 29 / 99 / 356:  71%|██████████████▏     | 356/500 [06:33<02:39,  1.11s/it]"
     ]
    },
    {
     "name": "stdout",
     "output_type": "stream",
     "text": [
      "\n",
      "\n",
      "=============================================================================================================================\n",
      "=============================================================================================================================\n",
      "\n"
     ]
    },
    {
     "name": "stderr",
     "output_type": "stream",
     "text": [
      "[Succeeded / Failed / Skipped / Total] 230 / 30 / 100 / 360:  72%|█████████████▋     | 360/500 [06:40<02:35,  1.11s/it]textattack: Saving checkpoint under \"checkpoints\\1720192943764.ta.chkpt\" at 2024-07-05 23:22:23 after 360 attacks.\n"
     ]
    },
    {
     "name": "stdout",
     "output_type": "stream",
     "text": [
      "\n",
      "\n",
      "=============================================================================================================================\n",
      "=============================================================================================================================\n",
      "\n"
     ]
    },
    {
     "name": "stderr",
     "output_type": "stream",
     "text": [
      "[Succeeded / Failed / Skipped / Total] 234 / 31 / 100 / 365:  73%|█████████████▊     | 365/500 [06:47<02:30,  1.12s/it]textattack: Saving checkpoint under \"checkpoints\\1720192949989.ta.chkpt\" at 2024-07-05 23:22:29 after 365 attacks.\n"
     ]
    },
    {
     "name": "stdout",
     "output_type": "stream",
     "text": [
      "\n",
      "\n",
      "=============================================================================================================================\n",
      "=============================================================================================================================\n",
      "\n"
     ]
    },
    {
     "name": "stderr",
     "output_type": "stream",
     "text": [
      "[Succeeded / Failed / Skipped / Total] 238 / 31 / 101 / 370:  74%|██████████████     | 370/500 [06:49<02:23,  1.11s/it]textattack: Saving checkpoint under \"checkpoints\\1720192952615.ta.chkpt\" at 2024-07-05 23:22:32 after 370 attacks.\n",
      "[Succeeded / Failed / Skipped / Total] 238 / 31 / 102 / 371:  74%|██████████████     | 371/500 [06:49<02:22,  1.10s/it]"
     ]
    },
    {
     "name": "stdout",
     "output_type": "stream",
     "text": [
      "\n",
      "\n",
      "=============================================================================================================================\n",
      "=============================================================================================================================\n",
      "\n"
     ]
    },
    {
     "name": "stderr",
     "output_type": "stream",
     "text": [
      "[Succeeded / Failed / Skipped / Total] 241 / 32 / 102 / 375:  75%|██████████████▎    | 375/500 [06:57<02:19,  1.11s/it]textattack: Saving checkpoint under \"checkpoints\\1720192960699.ta.chkpt\" at 2024-07-05 23:22:40 after 375 attacks.\n"
     ]
    },
    {
     "name": "stdout",
     "output_type": "stream",
     "text": [
      "\n",
      "\n",
      "=============================================================================================================================\n",
      "=============================================================================================================================\n",
      "\n"
     ]
    },
    {
     "name": "stderr",
     "output_type": "stream",
     "text": [
      "[Succeeded / Failed / Skipped / Total] 244 / 32 / 104 / 380:  76%|██████████████▍    | 380/500 [07:00<02:12,  1.11s/it]textattack: Saving checkpoint under \"checkpoints\\1720192963050.ta.chkpt\" at 2024-07-05 23:22:43 after 380 attacks.\n"
     ]
    },
    {
     "name": "stdout",
     "output_type": "stream",
     "text": [
      "\n",
      "\n",
      "=============================================================================================================================\n",
      "=============================================================================================================================\n",
      "\n"
     ]
    },
    {
     "name": "stderr",
     "output_type": "stream",
     "text": [
      "[Succeeded / Failed / Skipped / Total] 248 / 32 / 105 / 385:  77%|██████████████▋    | 385/500 [07:05<02:07,  1.10s/it]textattack: Saving checkpoint under \"checkpoints\\1720192968153.ta.chkpt\" at 2024-07-05 23:22:48 after 385 attacks.\n"
     ]
    },
    {
     "name": "stdout",
     "output_type": "stream",
     "text": [
      "\n",
      "\n",
      "=============================================================================================================================\n",
      "=============================================================================================================================\n",
      "\n"
     ]
    },
    {
     "name": "stderr",
     "output_type": "stream",
     "text": [
      "[Succeeded / Failed / Skipped / Total] 252 / 32 / 106 / 390:  78%|██████████████▊    | 390/500 [07:08<02:00,  1.10s/it]textattack: Saving checkpoint under \"checkpoints\\1720192971299.ta.chkpt\" at 2024-07-05 23:22:51 after 390 attacks.\n"
     ]
    },
    {
     "name": "stdout",
     "output_type": "stream",
     "text": [
      "\n",
      "\n",
      "=============================================================================================================================\n",
      "=============================================================================================================================\n",
      "\n"
     ]
    },
    {
     "name": "stderr",
     "output_type": "stream",
     "text": [
      "[Succeeded / Failed / Skipped / Total] 257 / 32 / 106 / 395:  79%|███████████████    | 395/500 [07:15<01:55,  1.10s/it]textattack: Saving checkpoint under \"checkpoints\\1720192978490.ta.chkpt\" at 2024-07-05 23:22:58 after 395 attacks.\n"
     ]
    },
    {
     "name": "stdout",
     "output_type": "stream",
     "text": [
      "\n",
      "\n",
      "=============================================================================================================================\n",
      "=============================================================================================================================\n",
      "\n"
     ]
    },
    {
     "name": "stderr",
     "output_type": "stream",
     "text": [
      "[Succeeded / Failed / Skipped / Total] 262 / 32 / 106 / 400:  80%|███████████████▏   | 400/500 [07:21<01:50,  1.10s/it]textattack: Saving checkpoint under \"checkpoints\\1720192984302.ta.chkpt\" at 2024-07-05 23:23:04 after 400 attacks.\n"
     ]
    },
    {
     "name": "stdout",
     "output_type": "stream",
     "text": [
      "\n",
      "\n",
      "=============================================================================================================================\n",
      "=============================================================================================================================\n",
      "\n"
     ]
    },
    {
     "name": "stderr",
     "output_type": "stream",
     "text": [
      "[Succeeded / Failed / Skipped / Total] 265 / 33 / 107 / 405:  81%|███████████████▍   | 405/500 [07:30<01:45,  1.11s/it]textattack: Saving checkpoint under \"checkpoints\\1720192993225.ta.chkpt\" at 2024-07-05 23:23:13 after 405 attacks.\n"
     ]
    },
    {
     "name": "stdout",
     "output_type": "stream",
     "text": [
      "\n",
      "\n",
      "=============================================================================================================================\n",
      "=============================================================================================================================\n",
      "\n"
     ]
    },
    {
     "name": "stderr",
     "output_type": "stream",
     "text": [
      "[Succeeded / Failed / Skipped / Total] 269 / 33 / 108 / 410:  82%|███████████████▌   | 410/500 [07:34<01:39,  1.11s/it]textattack: Saving checkpoint under \"checkpoints\\1720192997686.ta.chkpt\" at 2024-07-05 23:23:17 after 410 attacks.\n"
     ]
    },
    {
     "name": "stdout",
     "output_type": "stream",
     "text": [
      "\n",
      "\n",
      "=============================================================================================================================\n",
      "=============================================================================================================================\n",
      "\n"
     ]
    },
    {
     "name": "stderr",
     "output_type": "stream",
     "text": [
      "[Succeeded / Failed / Skipped / Total] 272 / 33 / 110 / 415:  83%|███████████████▊   | 415/500 [07:36<01:33,  1.10s/it]textattack: Saving checkpoint under \"checkpoints\\1720192999466.ta.chkpt\" at 2024-07-05 23:23:19 after 415 attacks.\n"
     ]
    },
    {
     "name": "stdout",
     "output_type": "stream",
     "text": [
      "\n",
      "\n",
      "=============================================================================================================================\n",
      "=============================================================================================================================\n",
      "\n"
     ]
    },
    {
     "name": "stderr",
     "output_type": "stream",
     "text": [
      "[Succeeded / Failed / Skipped / Total] 273 / 34 / 113 / 420:  84%|███████████████▉   | 420/500 [07:46<01:28,  1.11s/it]textattack: Saving checkpoint under \"checkpoints\\1720193009423.ta.chkpt\" at 2024-07-05 23:23:29 after 420 attacks.\n"
     ]
    },
    {
     "name": "stdout",
     "output_type": "stream",
     "text": [
      "\n",
      "\n",
      "=============================================================================================================================\n",
      "=============================================================================================================================\n",
      "\n"
     ]
    },
    {
     "name": "stderr",
     "output_type": "stream",
     "text": [
      "[Succeeded / Failed / Skipped / Total] 278 / 34 / 113 / 425:  85%|████████████████▏  | 425/500 [07:50<01:23,  1.11s/it]textattack: Saving checkpoint under \"checkpoints\\1720193013569.ta.chkpt\" at 2024-07-05 23:23:33 after 425 attacks.\n"
     ]
    },
    {
     "name": "stdout",
     "output_type": "stream",
     "text": [
      "\n",
      "\n",
      "=============================================================================================================================\n",
      "=============================================================================================================================\n",
      "\n"
     ]
    },
    {
     "name": "stderr",
     "output_type": "stream",
     "text": [
      "[Succeeded / Failed / Skipped / Total] 281 / 34 / 115 / 430:  86%|████████████████▎  | 430/500 [07:57<01:17,  1.11s/it]textattack: Saving checkpoint under \"checkpoints\\1720193020037.ta.chkpt\" at 2024-07-05 23:23:40 after 430 attacks.\n",
      "[Succeeded / Failed / Skipped / Total] 281 / 34 / 116 / 431:  86%|████████████████▍  | 431/500 [07:57<01:16,  1.11s/it]"
     ]
    },
    {
     "name": "stdout",
     "output_type": "stream",
     "text": [
      "\n",
      "\n",
      "=============================================================================================================================\n",
      "=============================================================================================================================\n",
      "\n"
     ]
    },
    {
     "name": "stderr",
     "output_type": "stream",
     "text": [
      "[Succeeded / Failed / Skipped / Total] 283 / 34 / 118 / 435:  87%|████████████████▌  | 435/500 [07:58<01:11,  1.10s/it]textattack: Saving checkpoint under \"checkpoints\\1720193021783.ta.chkpt\" at 2024-07-05 23:23:41 after 435 attacks.\n"
     ]
    },
    {
     "name": "stdout",
     "output_type": "stream",
     "text": [
      "\n",
      "\n",
      "=============================================================================================================================\n",
      "=============================================================================================================================\n",
      "\n"
     ]
    },
    {
     "name": "stderr",
     "output_type": "stream",
     "text": [
      "[Succeeded / Failed / Skipped / Total] 286 / 36 / 118 / 440:  88%|████████████████▋  | 440/500 [08:21<01:08,  1.14s/it]textattack: Saving checkpoint under \"checkpoints\\1720193044282.ta.chkpt\" at 2024-07-05 23:24:04 after 440 attacks.\n",
      "[Succeeded / Failed / Skipped / Total] 286 / 36 / 119 / 441:  88%|████████████████▊  | 441/500 [08:21<01:07,  1.14s/it]"
     ]
    },
    {
     "name": "stdout",
     "output_type": "stream",
     "text": [
      "\n",
      "\n",
      "=============================================================================================================================\n",
      "=============================================================================================================================\n",
      "\n"
     ]
    },
    {
     "name": "stderr",
     "output_type": "stream",
     "text": [
      "[Succeeded / Failed / Skipped / Total] 289 / 36 / 120 / 445:  89%|████████████████▉  | 445/500 [08:23<01:02,  1.13s/it]textattack: Saving checkpoint under \"checkpoints\\1720193046787.ta.chkpt\" at 2024-07-05 23:24:06 after 445 attacks.\n"
     ]
    },
    {
     "name": "stdout",
     "output_type": "stream",
     "text": [
      "\n",
      "\n",
      "=============================================================================================================================\n",
      "=============================================================================================================================\n",
      "\n"
     ]
    },
    {
     "name": "stderr",
     "output_type": "stream",
     "text": [
      "[Succeeded / Failed / Skipped / Total] 290 / 37 / 123 / 450:  90%|█████████████████  | 450/500 [08:30<00:56,  1.13s/it]textattack: Saving checkpoint under \"checkpoints\\1720193053292.ta.chkpt\" at 2024-07-05 23:24:13 after 450 attacks.\n"
     ]
    },
    {
     "name": "stdout",
     "output_type": "stream",
     "text": [
      "\n",
      "\n",
      "=============================================================================================================================\n",
      "=============================================================================================================================\n",
      "\n"
     ]
    },
    {
     "name": "stderr",
     "output_type": "stream",
     "text": [
      "[Succeeded / Failed / Skipped / Total] 294 / 38 / 123 / 455:  91%|█████████████████▎ | 455/500 [08:40<00:51,  1.14s/it]textattack: Saving checkpoint under \"checkpoints\\1720193063224.ta.chkpt\" at 2024-07-05 23:24:23 after 455 attacks.\n",
      "[Succeeded / Failed / Skipped / Total] 294 / 38 / 123 / 455:  91%|█████████████████▎ | 456/500 [08:40<00:50,  1.14s/it]"
     ]
    },
    {
     "name": "stdout",
     "output_type": "stream",
     "text": [
      "\n",
      "\n",
      "=============================================================================================================================\n",
      "=============================================================================================================================\n",
      "\n"
     ]
    },
    {
     "name": "stderr",
     "output_type": "stream",
     "text": [
      "[Succeeded / Failed / Skipped / Total] 297 / 38 / 125 / 460:  92%|█████████████████▍ | 460/500 [08:46<00:45,  1.14s/it]textattack: Saving checkpoint under \"checkpoints\\1720193069637.ta.chkpt\" at 2024-07-05 23:24:29 after 460 attacks.\n"
     ]
    },
    {
     "name": "stdout",
     "output_type": "stream",
     "text": [
      "\n",
      "\n",
      "=============================================================================================================================\n",
      "=============================================================================================================================\n",
      "\n"
     ]
    },
    {
     "name": "stderr",
     "output_type": "stream",
     "text": [
      "[Succeeded / Failed / Skipped / Total] 301 / 39 / 125 / 465:  93%|█████████████████▋ | 465/500 [09:06<00:41,  1.18s/it]textattack: Saving checkpoint under \"checkpoints\\1720193089558.ta.chkpt\" at 2024-07-05 23:24:49 after 465 attacks.\n"
     ]
    },
    {
     "name": "stdout",
     "output_type": "stream",
     "text": [
      "\n",
      "\n",
      "=============================================================================================================================\n",
      "=============================================================================================================================\n",
      "\n"
     ]
    },
    {
     "name": "stderr",
     "output_type": "stream",
     "text": [
      "[Succeeded / Failed / Skipped / Total] 305 / 39 / 126 / 470:  94%|█████████████████▊ | 470/500 [09:10<00:35,  1.17s/it]textattack: Saving checkpoint under \"checkpoints\\1720193093388.ta.chkpt\" at 2024-07-05 23:24:53 after 470 attacks.\n"
     ]
    },
    {
     "name": "stdout",
     "output_type": "stream",
     "text": [
      "\n",
      "\n",
      "=============================================================================================================================\n",
      "=============================================================================================================================\n",
      "\n"
     ]
    },
    {
     "name": "stderr",
     "output_type": "stream",
     "text": [
      "[Succeeded / Failed / Skipped / Total] 309 / 39 / 127 / 475:  95%|██████████████████ | 475/500 [09:14<00:29,  1.17s/it]textattack: Saving checkpoint under \"checkpoints\\1720193097836.ta.chkpt\" at 2024-07-05 23:24:57 after 475 attacks.\n"
     ]
    },
    {
     "name": "stdout",
     "output_type": "stream",
     "text": [
      "\n",
      "\n",
      "=============================================================================================================================\n",
      "=============================================================================================================================\n",
      "\n"
     ]
    },
    {
     "name": "stderr",
     "output_type": "stream",
     "text": [
      "[Succeeded / Failed / Skipped / Total] 311 / 42 / 127 / 480:  96%|██████████████████▏| 480/500 [09:26<00:23,  1.18s/it]textattack: Saving checkpoint under \"checkpoints\\1720193109299.ta.chkpt\" at 2024-07-05 23:25:09 after 480 attacks.\n"
     ]
    },
    {
     "name": "stdout",
     "output_type": "stream",
     "text": [
      "\n",
      "\n",
      "=============================================================================================================================\n",
      "=============================================================================================================================\n",
      "\n"
     ]
    },
    {
     "name": "stderr",
     "output_type": "stream",
     "text": [
      "[Succeeded / Failed / Skipped / Total] 314 / 43 / 128 / 485:  97%|██████████████████▍| 485/500 [09:38<00:17,  1.19s/it]textattack: Saving checkpoint under \"checkpoints\\1720193121076.ta.chkpt\" at 2024-07-05 23:25:21 after 485 attacks.\n"
     ]
    },
    {
     "name": "stdout",
     "output_type": "stream",
     "text": [
      "\n",
      "\n",
      "=============================================================================================================================\n",
      "=============================================================================================================================\n",
      "\n"
     ]
    },
    {
     "name": "stderr",
     "output_type": "stream",
     "text": [
      "[Succeeded / Failed / Skipped / Total] 318 / 43 / 129 / 490:  98%|██████████████████▌| 490/500 [09:42<00:11,  1.19s/it]textattack: Saving checkpoint under \"checkpoints\\1720193125451.ta.chkpt\" at 2024-07-05 23:25:25 after 490 attacks.\n"
     ]
    },
    {
     "name": "stdout",
     "output_type": "stream",
     "text": [
      "\n",
      "\n",
      "=============================================================================================================================\n",
      "=============================================================================================================================\n",
      "\n"
     ]
    },
    {
     "name": "stderr",
     "output_type": "stream",
     "text": [
      "[Succeeded / Failed / Skipped / Total] 320 / 44 / 131 / 495:  99%|██████████████████▊| 495/500 [09:56<00:06,  1.21s/it]textattack: Saving checkpoint under \"checkpoints\\1720193139634.ta.chkpt\" at 2024-07-05 23:25:39 after 495 attacks.\n",
      "[Succeeded / Failed / Skipped / Total] 320 / 44 / 132 / 496:  99%|██████████████████▊| 496/500 [09:56<00:04,  1.20s/it]"
     ]
    },
    {
     "name": "stdout",
     "output_type": "stream",
     "text": [
      "\n",
      "\n",
      "=============================================================================================================================\n",
      "=============================================================================================================================\n",
      "\n"
     ]
    },
    {
     "name": "stderr",
     "output_type": "stream",
     "text": [
      "[Succeeded / Failed / Skipped / Total] 321 / 47 / 132 / 500: 100%|███████████████████| 500/500 [10:10<00:00,  1.22s/it]textattack: Saving checkpoint under \"checkpoints\\1720193153015.ta.chkpt\" at 2024-07-05 23:25:53 after 500 attacks.\n",
      "[Succeeded / Failed / Skipped / Total] 321 / 47 / 132 / 500: 100%|███████████████████| 500/500 [10:10<00:00,  1.22s/it]"
     ]
    },
    {
     "name": "stdout",
     "output_type": "stream",
     "text": [
      "\n",
      "\n",
      "=============================================================================================================================\n",
      "=============================================================================================================================\n",
      "\n",
      "\n",
      "+-------------------------------+--------+\n",
      "| Attack Results                |        |\n",
      "+-------------------------------+--------+\n",
      "| Number of successful attacks: | 321    |\n",
      "| Number of failed attacks:     | 47     |\n",
      "| Number of skipped attacks:    | 132    |\n",
      "| Original accuracy:            | 73.6%  |\n",
      "| Accuracy under attack:        | 9.4%   |\n",
      "| Attack success rate:          | 87.23% |\n",
      "| Average perturbed word %:     | 11.11% |\n",
      "| Average num. words per input: | 18.4   |\n",
      "| Avg num queries:              | 62.75  |\n",
      "+-------------------------------+--------+\n"
     ]
    },
    {
     "name": "stderr",
     "output_type": "stream",
     "text": [
      "\n"
     ]
    }
   ],
   "source": [
    "runAttack(disbert_model_wrapper_knn_mr, n_samples, 'attack_results_new/disbertmrattackknn'+suffix, target_ds_mr)"
   ]
  },
  {
   "cell_type": "code",
   "execution_count": 23,
   "id": "b1a8d0d7-317e-48dd-a484-6c6034af2aad",
   "metadata": {
    "scrolled": true
   },
   "outputs": [
    {
     "name": "stderr",
     "output_type": "stream",
     "text": [
      "textattack: Unknown if model of class <class 'transformers.models.distilbert.modeling_distilbert.DistilBertModel'> compatible with goal function <class 'textattack.goal_functions.classification.untargeted_classification.UntargetedClassification'>.\n",
      "textattack: Logging to CSV at path attack_results_new/disbertmrattacksvcsim06.csv\n"
     ]
    },
    {
     "name": "stdout",
     "output_type": "stream",
     "text": [
      "Attack(\n",
      "  (search_method): GreedyWordSwapWIR(\n",
      "    (wir_method):  delete\n",
      "  )\n",
      "  (goal_function):  UntargetedClassification\n",
      "  (transformation):  WordSwapEmbedding(\n",
      "    (max_candidates):  50\n",
      "    (embedding):  WordEmbedding\n",
      "  )\n",
      "  (constraints): \n",
      "    (0): WordEmbeddingDistance(\n",
      "        (embedding):  WordEmbedding\n",
      "        (min_cos_sim):  0.6\n",
      "        (cased):  False\n",
      "        (include_unknown_words):  True\n",
      "        (compare_against_original):  True\n",
      "      )\n",
      "    (1): PartOfSpeech(\n",
      "        (tagger_type):  nltk\n",
      "        (tagset):  universal\n",
      "        (allow_verb_noun_swap):  True\n",
      "        (compare_against_original):  True\n",
      "      )\n",
      "    (2): UniversalSentenceEncoder(\n",
      "        (metric):  angular\n",
      "        (threshold):  0.840845057\n",
      "        (window_size):  15\n",
      "        (skip_text_shorter_than_window):  True\n",
      "        (compare_against_original):  False\n",
      "      )\n",
      "    (3): RepeatModification\n",
      "    (4): StopwordModification\n",
      "    (5): InputColumnModification(\n",
      "        (matching_column_labels):  ['premise', 'hypothesis']\n",
      "        (columns_to_ignore):  {'premise'}\n",
      "      )\n",
      "  (is_black_box):  True\n",
      ") \n",
      "\n"
     ]
    },
    {
     "name": "stderr",
     "output_type": "stream",
     "text": [
      "[Succeeded / Failed / Skipped / Total] 4 / 0 / 1 / 5:   1%|▎                           | 5/500 [00:14<23:53,  2.90s/it]textattack: Saving checkpoint under \"checkpoints\\1720193167577.ta.chkpt\" at 2024-07-05 23:26:07 after 5 attacks.\n",
      "[Succeeded / Failed / Skipped / Total] 4 / 0 / 3 / 7:   1%|▍                           | 7/500 [00:14<17:08,  2.09s/it]"
     ]
    },
    {
     "name": "stdout",
     "output_type": "stream",
     "text": [
      "\n",
      "\n",
      "=============================================================================================================================\n",
      "=============================================================================================================================\n",
      "\n"
     ]
    },
    {
     "name": "stderr",
     "output_type": "stream",
     "text": [
      "[Succeeded / Failed / Skipped / Total] 7 / 0 / 3 / 10:   2%|▌                         | 10/500 [00:19<16:07,  1.98s/it]textattack: Saving checkpoint under \"checkpoints\\1720193172852.ta.chkpt\" at 2024-07-05 23:26:12 after 10 attacks.\n"
     ]
    },
    {
     "name": "stdout",
     "output_type": "stream",
     "text": [
      "\n",
      "\n",
      "=============================================================================================================================\n",
      "=============================================================================================================================\n",
      "\n"
     ]
    },
    {
     "name": "stderr",
     "output_type": "stream",
     "text": [
      "[Succeeded / Failed / Skipped / Total] 11 / 0 / 4 / 15:   3%|▊                        | 15/500 [00:30<16:16,  2.01s/it]textattack: Saving checkpoint under \"checkpoints\\1720193183298.ta.chkpt\" at 2024-07-05 23:26:23 after 15 attacks.\n"
     ]
    },
    {
     "name": "stdout",
     "output_type": "stream",
     "text": [
      "\n",
      "\n",
      "=============================================================================================================================\n",
      "=============================================================================================================================\n",
      "\n"
     ]
    },
    {
     "name": "stderr",
     "output_type": "stream",
     "text": [
      "[Succeeded / Failed / Skipped / Total] 14 / 1 / 5 / 20:   4%|█                        | 20/500 [00:35<14:05,  1.76s/it]textattack: Saving checkpoint under \"checkpoints\\1720193188311.ta.chkpt\" at 2024-07-05 23:26:28 after 20 attacks.\n"
     ]
    },
    {
     "name": "stdout",
     "output_type": "stream",
     "text": [
      "\n",
      "\n",
      "=============================================================================================================================\n",
      "=============================================================================================================================\n",
      "\n"
     ]
    },
    {
     "name": "stderr",
     "output_type": "stream",
     "text": [
      "[Succeeded / Failed / Skipped / Total] 17 / 1 / 7 / 25:   5%|█▎                       | 25/500 [00:38<12:08,  1.53s/it]textattack: Saving checkpoint under \"checkpoints\\1720193191444.ta.chkpt\" at 2024-07-05 23:26:31 after 25 attacks.\n"
     ]
    },
    {
     "name": "stdout",
     "output_type": "stream",
     "text": [
      "\n",
      "\n",
      "=============================================================================================================================\n",
      "=============================================================================================================================\n",
      "\n"
     ]
    },
    {
     "name": "stderr",
     "output_type": "stream",
     "text": [
      "[Succeeded / Failed / Skipped / Total] 22 / 1 / 7 / 30:   6%|█▌                       | 30/500 [00:42<11:08,  1.42s/it]textattack: Saving checkpoint under \"checkpoints\\1720193195775.ta.chkpt\" at 2024-07-05 23:26:35 after 30 attacks.\n"
     ]
    },
    {
     "name": "stdout",
     "output_type": "stream",
     "text": [
      "\n",
      "\n",
      "=============================================================================================================================\n",
      "=============================================================================================================================\n",
      "\n"
     ]
    },
    {
     "name": "stderr",
     "output_type": "stream",
     "text": [
      "[Succeeded / Failed / Skipped / Total] 25 / 1 / 9 / 35:   7%|█▊                       | 35/500 [00:46<10:16,  1.33s/it]textattack: Saving checkpoint under \"checkpoints\\1720193199533.ta.chkpt\" at 2024-07-05 23:26:39 after 35 attacks.\n"
     ]
    },
    {
     "name": "stdout",
     "output_type": "stream",
     "text": [
      "\n",
      "\n",
      "=============================================================================================================================\n",
      "=============================================================================================================================\n",
      "\n"
     ]
    },
    {
     "name": "stderr",
     "output_type": "stream",
     "text": [
      "[Succeeded / Failed / Skipped / Total] 29 / 1 / 10 / 40:   8%|█▉                      | 40/500 [00:49<09:32,  1.25s/it]textattack: Saving checkpoint under \"checkpoints\\1720193202906.ta.chkpt\" at 2024-07-05 23:26:42 after 40 attacks.\n"
     ]
    },
    {
     "name": "stdout",
     "output_type": "stream",
     "text": [
      "\n",
      "\n",
      "=============================================================================================================================\n",
      "=============================================================================================================================\n",
      "\n"
     ]
    },
    {
     "name": "stderr",
     "output_type": "stream",
     "text": [
      "[Succeeded / Failed / Skipped / Total] 34 / 1 / 10 / 45:   9%|██▏                     | 45/500 [00:58<09:52,  1.30s/it]textattack: Saving checkpoint under \"checkpoints\\1720193211725.ta.chkpt\" at 2024-07-05 23:26:51 after 45 attacks.\n"
     ]
    },
    {
     "name": "stdout",
     "output_type": "stream",
     "text": [
      "\n",
      "\n",
      "=============================================================================================================================\n",
      "=============================================================================================================================\n",
      "\n"
     ]
    },
    {
     "name": "stderr",
     "output_type": "stream",
     "text": [
      "[Succeeded / Failed / Skipped / Total] 39 / 1 / 10 / 50:  10%|██▍                     | 50/500 [01:08<10:16,  1.37s/it]textattack: Saving checkpoint under \"checkpoints\\1720193221599.ta.chkpt\" at 2024-07-05 23:27:01 after 50 attacks.\n"
     ]
    },
    {
     "name": "stdout",
     "output_type": "stream",
     "text": [
      "\n",
      "\n",
      "=============================================================================================================================\n",
      "=============================================================================================================================\n",
      "\n"
     ]
    },
    {
     "name": "stderr",
     "output_type": "stream",
     "text": [
      "[Succeeded / Failed / Skipped / Total] 43 / 1 / 11 / 55:  11%|██▋                     | 55/500 [01:18<10:33,  1.42s/it]textattack: Saving checkpoint under \"checkpoints\\1720193231427.ta.chkpt\" at 2024-07-05 23:27:11 after 55 attacks.\n"
     ]
    },
    {
     "name": "stdout",
     "output_type": "stream",
     "text": [
      "\n",
      "\n",
      "=============================================================================================================================\n",
      "=============================================================================================================================\n",
      "\n"
     ]
    },
    {
     "name": "stderr",
     "output_type": "stream",
     "text": [
      "[Succeeded / Failed / Skipped / Total] 46 / 1 / 13 / 60:  12%|██▉                     | 60/500 [01:22<10:02,  1.37s/it]textattack: Saving checkpoint under \"checkpoints\\1720193235188.ta.chkpt\" at 2024-07-05 23:27:15 after 60 attacks.\n",
      "[Succeeded / Failed / Skipped / Total] 46 / 1 / 15 / 62:  12%|██▉                     | 62/500 [01:22<09:40,  1.33s/it]"
     ]
    },
    {
     "name": "stdout",
     "output_type": "stream",
     "text": [
      "\n",
      "\n",
      "=============================================================================================================================\n",
      "=============================================================================================================================\n",
      "\n"
     ]
    },
    {
     "name": "stderr",
     "output_type": "stream",
     "text": [
      "[Succeeded / Failed / Skipped / Total] 49 / 1 / 15 / 65:  13%|███                     | 65/500 [01:24<09:27,  1.31s/it]textattack: Saving checkpoint under \"checkpoints\\1720193237926.ta.chkpt\" at 2024-07-05 23:27:17 after 65 attacks.\n"
     ]
    },
    {
     "name": "stdout",
     "output_type": "stream",
     "text": [
      "\n",
      "\n",
      "=============================================================================================================================\n",
      "=============================================================================================================================\n",
      "\n"
     ]
    },
    {
     "name": "stderr",
     "output_type": "stream",
     "text": [
      "[Succeeded / Failed / Skipped / Total] 50 / 3 / 17 / 70:  14%|███▎                    | 70/500 [01:31<09:19,  1.30s/it]textattack: Saving checkpoint under \"checkpoints\\1720193244209.ta.chkpt\" at 2024-07-05 23:27:24 after 70 attacks.\n"
     ]
    },
    {
     "name": "stdout",
     "output_type": "stream",
     "text": [
      "\n",
      "\n",
      "=============================================================================================================================\n",
      "=============================================================================================================================\n",
      "\n"
     ]
    },
    {
     "name": "stderr",
     "output_type": "stream",
     "text": [
      "[Succeeded / Failed / Skipped / Total] 55 / 3 / 17 / 75:  15%|███▌                    | 75/500 [01:35<08:59,  1.27s/it]textattack: Saving checkpoint under \"checkpoints\\1720193248279.ta.chkpt\" at 2024-07-05 23:27:28 after 75 attacks.\n"
     ]
    },
    {
     "name": "stdout",
     "output_type": "stream",
     "text": [
      "\n",
      "\n",
      "=============================================================================================================================\n",
      "=============================================================================================================================\n",
      "\n"
     ]
    },
    {
     "name": "stderr",
     "output_type": "stream",
     "text": [
      "[Succeeded / Failed / Skipped / Total] 59 / 4 / 17 / 80:  16%|███▊                    | 80/500 [01:44<09:08,  1.31s/it]textattack: Saving checkpoint under \"checkpoints\\1720193257554.ta.chkpt\" at 2024-07-05 23:27:37 after 80 attacks.\n",
      "[Succeeded / Failed / Skipped / Total] 59 / 4 / 19 / 82:  16%|███▉                    | 82/500 [01:44<08:53,  1.28s/it]"
     ]
    },
    {
     "name": "stdout",
     "output_type": "stream",
     "text": [
      "\n",
      "\n",
      "=============================================================================================================================\n",
      "=============================================================================================================================\n",
      "\n"
     ]
    },
    {
     "name": "stderr",
     "output_type": "stream",
     "text": [
      "[Succeeded / Failed / Skipped / Total] 61 / 4 / 20 / 85:  17%|████                    | 85/500 [01:46<08:40,  1.25s/it]textattack: Saving checkpoint under \"checkpoints\\1720193259638.ta.chkpt\" at 2024-07-05 23:27:39 after 85 attacks.\n"
     ]
    },
    {
     "name": "stdout",
     "output_type": "stream",
     "text": [
      "\n",
      "\n",
      "=============================================================================================================================\n",
      "=============================================================================================================================\n",
      "\n"
     ]
    },
    {
     "name": "stderr",
     "output_type": "stream",
     "text": [
      "[Succeeded / Failed / Skipped / Total] 66 / 4 / 20 / 90:  18%|████▎                   | 90/500 [01:51<08:27,  1.24s/it]textattack: Saving checkpoint under \"checkpoints\\1720193264485.ta.chkpt\" at 2024-07-05 23:27:44 after 90 attacks.\n"
     ]
    },
    {
     "name": "stdout",
     "output_type": "stream",
     "text": [
      "\n",
      "\n",
      "=============================================================================================================================\n",
      "=============================================================================================================================\n",
      "\n"
     ]
    },
    {
     "name": "stderr",
     "output_type": "stream",
     "text": [
      "[Succeeded / Failed / Skipped / Total] 69 / 4 / 22 / 95:  19%|████▌                   | 95/500 [01:55<08:13,  1.22s/it]textattack: Saving checkpoint under \"checkpoints\\1720193268817.ta.chkpt\" at 2024-07-05 23:27:48 after 95 attacks.\n"
     ]
    },
    {
     "name": "stdout",
     "output_type": "stream",
     "text": [
      "\n",
      "\n",
      "=============================================================================================================================\n",
      "=============================================================================================================================\n",
      "\n"
     ]
    },
    {
     "name": "stderr",
     "output_type": "stream",
     "text": [
      "[Succeeded / Failed / Skipped / Total] 74 / 4 / 22 / 100:  20%|████▍                 | 100/500 [02:02<08:11,  1.23s/it]textattack: Saving checkpoint under \"checkpoints\\1720193276093.ta.chkpt\" at 2024-07-05 23:27:56 after 100 attacks.\n"
     ]
    },
    {
     "name": "stdout",
     "output_type": "stream",
     "text": [
      "\n",
      "\n",
      "=============================================================================================================================\n",
      "=============================================================================================================================\n",
      "\n"
     ]
    },
    {
     "name": "stderr",
     "output_type": "stream",
     "text": [
      "[Succeeded / Failed / Skipped / Total] 79 / 4 / 22 / 105:  21%|████▌                 | 105/500 [02:11<08:14,  1.25s/it]textattack: Saving checkpoint under \"checkpoints\\1720193284525.ta.chkpt\" at 2024-07-05 23:28:04 after 105 attacks.\n",
      "[Succeeded / Failed / Skipped / Total] 79 / 4 / 23 / 106:  21%|████▋                 | 106/500 [02:11<08:08,  1.24s/it]"
     ]
    },
    {
     "name": "stdout",
     "output_type": "stream",
     "text": [
      "\n",
      "\n",
      "=============================================================================================================================\n",
      "=============================================================================================================================\n",
      "\n"
     ]
    },
    {
     "name": "stderr",
     "output_type": "stream",
     "text": [
      "[Succeeded / Failed / Skipped / Total] 81 / 4 / 25 / 110:  22%|████▊                 | 110/500 [02:13<07:52,  1.21s/it]textattack: Saving checkpoint under \"checkpoints\\1720193286334.ta.chkpt\" at 2024-07-05 23:28:06 after 110 attacks.\n",
      "[Succeeded / Failed / Skipped / Total] 81 / 4 / 26 / 111:  22%|████▉                 | 111/500 [02:13<07:47,  1.20s/it]"
     ]
    },
    {
     "name": "stdout",
     "output_type": "stream",
     "text": [
      "\n",
      "\n",
      "=============================================================================================================================\n",
      "=============================================================================================================================\n",
      "\n"
     ]
    },
    {
     "name": "stderr",
     "output_type": "stream",
     "text": [
      "[Succeeded / Failed / Skipped / Total] 84 / 4 / 27 / 115:  23%|█████                 | 115/500 [02:19<07:47,  1.22s/it]textattack: Saving checkpoint under \"checkpoints\\1720193292823.ta.chkpt\" at 2024-07-05 23:28:12 after 115 attacks.\n"
     ]
    },
    {
     "name": "stdout",
     "output_type": "stream",
     "text": [
      "\n",
      "\n",
      "=============================================================================================================================\n",
      "=============================================================================================================================\n",
      "\n"
     ]
    },
    {
     "name": "stderr",
     "output_type": "stream",
     "text": [
      "[Succeeded / Failed / Skipped / Total] 87 / 4 / 29 / 120:  24%|█████▎                | 120/500 [02:22<07:31,  1.19s/it]textattack: Saving checkpoint under \"checkpoints\\1720193295810.ta.chkpt\" at 2024-07-05 23:28:15 after 120 attacks.\n"
     ]
    },
    {
     "name": "stdout",
     "output_type": "stream",
     "text": [
      "\n",
      "\n",
      "=============================================================================================================================\n",
      "=============================================================================================================================\n",
      "\n"
     ]
    },
    {
     "name": "stderr",
     "output_type": "stream",
     "text": [
      "[Succeeded / Failed / Skipped / Total] 92 / 4 / 29 / 125:  25%|█████▌                | 125/500 [02:29<07:27,  1.19s/it]textattack: Saving checkpoint under \"checkpoints\\1720193302304.ta.chkpt\" at 2024-07-05 23:28:22 after 125 attacks.\n"
     ]
    },
    {
     "name": "stdout",
     "output_type": "stream",
     "text": [
      "\n",
      "\n",
      "=============================================================================================================================\n",
      "=============================================================================================================================\n",
      "\n"
     ]
    },
    {
     "name": "stderr",
     "output_type": "stream",
     "text": [
      "[Succeeded / Failed / Skipped / Total] 96 / 4 / 30 / 130:  26%|█████▋                | 130/500 [02:32<07:14,  1.17s/it]textattack: Saving checkpoint under \"checkpoints\\1720193305764.ta.chkpt\" at 2024-07-05 23:28:25 after 130 attacks.\n",
      "[Succeeded / Failed / Skipped / Total] 96 / 4 / 31 / 131:  26%|█████▊                | 131/500 [02:32<07:10,  1.17s/it]"
     ]
    },
    {
     "name": "stdout",
     "output_type": "stream",
     "text": [
      "\n",
      "\n",
      "=============================================================================================================================\n",
      "=============================================================================================================================\n",
      "\n"
     ]
    },
    {
     "name": "stderr",
     "output_type": "stream",
     "text": [
      "[Succeeded / Failed / Skipped / Total] 99 / 4 / 32 / 135:  27%|█████▉                | 135/500 [02:39<07:10,  1.18s/it]textattack: Saving checkpoint under \"checkpoints\\1720193312428.ta.chkpt\" at 2024-07-05 23:28:32 after 135 attacks.\n"
     ]
    },
    {
     "name": "stdout",
     "output_type": "stream",
     "text": [
      "\n",
      "\n",
      "=============================================================================================================================\n",
      "=============================================================================================================================\n",
      "\n"
     ]
    },
    {
     "name": "stderr",
     "output_type": "stream",
     "text": [
      "[Succeeded / Failed / Skipped / Total] 103 / 4 / 33 / 140:  28%|█████▉               | 140/500 [02:46<07:06,  1.19s/it]textattack: Saving checkpoint under \"checkpoints\\1720193319114.ta.chkpt\" at 2024-07-05 23:28:39 after 140 attacks.\n"
     ]
    },
    {
     "name": "stdout",
     "output_type": "stream",
     "text": [
      "\n",
      "\n",
      "=============================================================================================================================\n",
      "=============================================================================================================================\n",
      "\n"
     ]
    },
    {
     "name": "stderr",
     "output_type": "stream",
     "text": [
      "[Succeeded / Failed / Skipped / Total] 108 / 4 / 33 / 145:  29%|██████               | 145/500 [02:51<07:00,  1.19s/it]textattack: Saving checkpoint under \"checkpoints\\1720193325026.ta.chkpt\" at 2024-07-05 23:28:45 after 145 attacks.\n",
      "[Succeeded / Failed / Skipped / Total] 108 / 4 / 36 / 148:  30%|██████▏              | 148/500 [02:52<06:49,  1.16s/it]"
     ]
    },
    {
     "name": "stdout",
     "output_type": "stream",
     "text": [
      "\n",
      "\n",
      "=============================================================================================================================\n",
      "=============================================================================================================================\n",
      "\n"
     ]
    },
    {
     "name": "stderr",
     "output_type": "stream",
     "text": [
      "[Succeeded / Failed / Skipped / Total] 110 / 4 / 36 / 150:  30%|██████▎              | 150/500 [02:53<06:45,  1.16s/it]textattack: Saving checkpoint under \"checkpoints\\1720193326856.ta.chkpt\" at 2024-07-05 23:28:46 after 150 attacks.\n"
     ]
    },
    {
     "name": "stdout",
     "output_type": "stream",
     "text": [
      "\n",
      "\n",
      "=============================================================================================================================\n",
      "=============================================================================================================================\n",
      "\n"
     ]
    },
    {
     "name": "stderr",
     "output_type": "stream",
     "text": [
      "[Succeeded / Failed / Skipped / Total] 113 / 4 / 38 / 155:  31%|██████▌              | 155/500 [02:55<06:29,  1.13s/it]textattack: Saving checkpoint under \"checkpoints\\1720193328273.ta.chkpt\" at 2024-07-05 23:28:48 after 155 attacks.\n"
     ]
    },
    {
     "name": "stdout",
     "output_type": "stream",
     "text": [
      "\n",
      "\n",
      "=============================================================================================================================\n",
      "=============================================================================================================================\n",
      "\n"
     ]
    },
    {
     "name": "stderr",
     "output_type": "stream",
     "text": [
      "[Succeeded / Failed / Skipped / Total] 116 / 4 / 40 / 160:  32%|██████▋              | 160/500 [03:00<06:23,  1.13s/it]textattack: Saving checkpoint under \"checkpoints\\1720193333409.ta.chkpt\" at 2024-07-05 23:28:53 after 160 attacks.\n",
      "[Succeeded / Failed / Skipped / Total] 116 / 4 / 41 / 161:  32%|██████▊              | 161/500 [03:00<06:19,  1.12s/it]"
     ]
    },
    {
     "name": "stdout",
     "output_type": "stream",
     "text": [
      "\n",
      "\n",
      "=============================================================================================================================\n",
      "=============================================================================================================================\n",
      "\n"
     ]
    },
    {
     "name": "stderr",
     "output_type": "stream",
     "text": [
      "[Succeeded / Failed / Skipped / Total] 119 / 4 / 42 / 165:  33%|██████▉              | 165/500 [03:05<06:16,  1.12s/it]textattack: Saving checkpoint under \"checkpoints\\1720193338643.ta.chkpt\" at 2024-07-05 23:28:58 after 165 attacks.\n"
     ]
    },
    {
     "name": "stdout",
     "output_type": "stream",
     "text": [
      "\n",
      "\n",
      "=============================================================================================================================\n",
      "=============================================================================================================================\n",
      "\n"
     ]
    },
    {
     "name": "stderr",
     "output_type": "stream",
     "text": [
      "[Succeeded / Failed / Skipped / Total] 122 / 4 / 44 / 170:  34%|███████▏             | 170/500 [03:09<06:08,  1.12s/it]textattack: Saving checkpoint under \"checkpoints\\1720193343071.ta.chkpt\" at 2024-07-05 23:29:03 after 170 attacks.\n"
     ]
    },
    {
     "name": "stdout",
     "output_type": "stream",
     "text": [
      "\n",
      "\n",
      "=============================================================================================================================\n",
      "=============================================================================================================================\n",
      "\n"
     ]
    },
    {
     "name": "stderr",
     "output_type": "stream",
     "text": [
      "[Succeeded / Failed / Skipped / Total] 126 / 4 / 45 / 175:  35%|███████▎             | 175/500 [03:19<06:10,  1.14s/it]textattack: Saving checkpoint under \"checkpoints\\1720193352714.ta.chkpt\" at 2024-07-05 23:29:12 after 175 attacks.\n",
      "[Succeeded / Failed / Skipped / Total] 126 / 4 / 46 / 176:  35%|███████▍             | 176/500 [03:19<06:07,  1.13s/it]"
     ]
    },
    {
     "name": "stdout",
     "output_type": "stream",
     "text": [
      "\n",
      "\n",
      "=============================================================================================================================\n",
      "=============================================================================================================================\n",
      "\n"
     ]
    },
    {
     "name": "stderr",
     "output_type": "stream",
     "text": [
      "[Succeeded / Failed / Skipped / Total] 129 / 4 / 47 / 180:  36%|███████▌             | 180/500 [03:22<06:00,  1.13s/it]textattack: Saving checkpoint under \"checkpoints\\1720193356076.ta.chkpt\" at 2024-07-05 23:29:16 after 180 attacks.\n",
      "[Succeeded / Failed / Skipped / Total] 129 / 4 / 48 / 181:  36%|███████▌             | 181/500 [03:23<05:57,  1.12s/it]"
     ]
    },
    {
     "name": "stdout",
     "output_type": "stream",
     "text": [
      "\n",
      "\n",
      "=============================================================================================================================\n",
      "=============================================================================================================================\n",
      "\n"
     ]
    },
    {
     "name": "stderr",
     "output_type": "stream",
     "text": [
      "[Succeeded / Failed / Skipped / Total] 133 / 4 / 48 / 185:  37%|███████▊             | 185/500 [03:26<05:51,  1.12s/it]textattack: Saving checkpoint under \"checkpoints\\1720193359482.ta.chkpt\" at 2024-07-05 23:29:19 after 185 attacks.\n"
     ]
    },
    {
     "name": "stdout",
     "output_type": "stream",
     "text": [
      "\n",
      "\n",
      "=============================================================================================================================\n",
      "=============================================================================================================================\n",
      "\n"
     ]
    },
    {
     "name": "stderr",
     "output_type": "stream",
     "text": [
      "[Succeeded / Failed / Skipped / Total] 138 / 4 / 48 / 190:  38%|███████▉             | 190/500 [03:39<05:57,  1.15s/it]textattack: Saving checkpoint under \"checkpoints\\1720193372276.ta.chkpt\" at 2024-07-05 23:29:32 after 190 attacks.\n"
     ]
    },
    {
     "name": "stdout",
     "output_type": "stream",
     "text": [
      "\n",
      "\n",
      "=============================================================================================================================\n",
      "=============================================================================================================================\n",
      "\n"
     ]
    },
    {
     "name": "stderr",
     "output_type": "stream",
     "text": [
      "[Succeeded / Failed / Skipped / Total] 141 / 4 / 50 / 195:  39%|████████▏            | 195/500 [03:46<05:55,  1.16s/it]textattack: Saving checkpoint under \"checkpoints\\1720193380066.ta.chkpt\" at 2024-07-05 23:29:40 after 195 attacks.\n"
     ]
    },
    {
     "name": "stdout",
     "output_type": "stream",
     "text": [
      "\n",
      "\n",
      "=============================================================================================================================\n",
      "=============================================================================================================================\n",
      "\n"
     ]
    },
    {
     "name": "stderr",
     "output_type": "stream",
     "text": [
      "[Succeeded / Failed / Skipped / Total] 145 / 4 / 51 / 200:  40%|████████▍            | 200/500 [03:54<05:51,  1.17s/it]textattack: Saving checkpoint under \"checkpoints\\1720193387557.ta.chkpt\" at 2024-07-05 23:29:47 after 200 attacks.\n"
     ]
    },
    {
     "name": "stdout",
     "output_type": "stream",
     "text": [
      "\n",
      "\n",
      "=============================================================================================================================\n",
      "=============================================================================================================================\n",
      "\n"
     ]
    },
    {
     "name": "stderr",
     "output_type": "stream",
     "text": [
      "[Succeeded / Failed / Skipped / Total] 149 / 4 / 52 / 205:  41%|████████▌            | 205/500 [04:00<05:45,  1.17s/it]textattack: Saving checkpoint under \"checkpoints\\1720193393145.ta.chkpt\" at 2024-07-05 23:29:53 after 205 attacks.\n"
     ]
    },
    {
     "name": "stdout",
     "output_type": "stream",
     "text": [
      "\n",
      "\n",
      "=============================================================================================================================\n",
      "=============================================================================================================================\n",
      "\n"
     ]
    },
    {
     "name": "stderr",
     "output_type": "stream",
     "text": [
      "[Succeeded / Failed / Skipped / Total] 153 / 4 / 53 / 210:  42%|████████▊            | 210/500 [04:02<05:34,  1.15s/it]textattack: Saving checkpoint under \"checkpoints\\1720193395562.ta.chkpt\" at 2024-07-05 23:29:55 after 210 attacks.\n"
     ]
    },
    {
     "name": "stdout",
     "output_type": "stream",
     "text": [
      "\n",
      "\n",
      "=============================================================================================================================\n",
      "=============================================================================================================================\n",
      "\n"
     ]
    },
    {
     "name": "stderr",
     "output_type": "stream",
     "text": [
      "[Succeeded / Failed / Skipped / Total] 156 / 5 / 54 / 215:  43%|█████████            | 215/500 [04:09<05:30,  1.16s/it]textattack: Saving checkpoint under \"checkpoints\\1720193402510.ta.chkpt\" at 2024-07-05 23:30:02 after 215 attacks.\n"
     ]
    },
    {
     "name": "stdout",
     "output_type": "stream",
     "text": [
      "\n",
      "\n",
      "=============================================================================================================================\n",
      "=============================================================================================================================\n",
      "\n"
     ]
    },
    {
     "name": "stderr",
     "output_type": "stream",
     "text": [
      "[Succeeded / Failed / Skipped / Total] 160 / 6 / 54 / 220:  44%|█████████▏           | 220/500 [04:13<05:22,  1.15s/it]textattack: Saving checkpoint under \"checkpoints\\1720193406522.ta.chkpt\" at 2024-07-05 23:30:06 after 220 attacks.\n"
     ]
    },
    {
     "name": "stdout",
     "output_type": "stream",
     "text": [
      "\n",
      "\n",
      "=============================================================================================================================\n",
      "=============================================================================================================================\n",
      "\n"
     ]
    },
    {
     "name": "stderr",
     "output_type": "stream",
     "text": [
      "[Succeeded / Failed / Skipped / Total] 163 / 6 / 56 / 225:  45%|█████████▍           | 225/500 [04:17<05:14,  1.14s/it]textattack: Saving checkpoint under \"checkpoints\\1720193410363.ta.chkpt\" at 2024-07-05 23:30:10 after 225 attacks.\n"
     ]
    },
    {
     "name": "stdout",
     "output_type": "stream",
     "text": [
      "\n",
      "\n",
      "=============================================================================================================================\n",
      "=============================================================================================================================\n",
      "\n"
     ]
    },
    {
     "name": "stderr",
     "output_type": "stream",
     "text": [
      "[Succeeded / Failed / Skipped / Total] 166 / 7 / 57 / 230:  46%|█████████▋           | 230/500 [04:21<05:06,  1.14s/it]textattack: Saving checkpoint under \"checkpoints\\1720193414223.ta.chkpt\" at 2024-07-05 23:30:14 after 230 attacks.\n"
     ]
    },
    {
     "name": "stdout",
     "output_type": "stream",
     "text": [
      "\n",
      "\n",
      "=============================================================================================================================\n",
      "=============================================================================================================================\n",
      "\n"
     ]
    },
    {
     "name": "stderr",
     "output_type": "stream",
     "text": [
      "[Succeeded / Failed / Skipped / Total] 170 / 8 / 57 / 235:  47%|█████████▊           | 235/500 [04:29<05:03,  1.15s/it]textattack: Saving checkpoint under \"checkpoints\\1720193422329.ta.chkpt\" at 2024-07-05 23:30:22 after 235 attacks.\n"
     ]
    },
    {
     "name": "stdout",
     "output_type": "stream",
     "text": [
      "\n",
      "\n",
      "=============================================================================================================================\n",
      "=============================================================================================================================\n",
      "\n"
     ]
    },
    {
     "name": "stderr",
     "output_type": "stream",
     "text": [
      "[Succeeded / Failed / Skipped / Total] 175 / 8 / 57 / 240:  48%|██████████           | 240/500 [04:35<04:58,  1.15s/it]textattack: Saving checkpoint under \"checkpoints\\1720193428879.ta.chkpt\" at 2024-07-05 23:30:28 after 240 attacks.\n"
     ]
    },
    {
     "name": "stdout",
     "output_type": "stream",
     "text": [
      "\n",
      "\n",
      "=============================================================================================================================\n",
      "=============================================================================================================================\n",
      "\n"
     ]
    },
    {
     "name": "stderr",
     "output_type": "stream",
     "text": [
      "[Succeeded / Failed / Skipped / Total] 180 / 8 / 57 / 245:  49%|██████████▎          | 245/500 [04:43<04:54,  1.16s/it]textattack: Saving checkpoint under \"checkpoints\\1720193436473.ta.chkpt\" at 2024-07-05 23:30:36 after 245 attacks.\n"
     ]
    },
    {
     "name": "stdout",
     "output_type": "stream",
     "text": [
      "\n",
      "\n",
      "=============================================================================================================================\n",
      "=============================================================================================================================\n",
      "\n"
     ]
    },
    {
     "name": "stderr",
     "output_type": "stream",
     "text": [
      "[Succeeded / Failed / Skipped / Total] 183 / 8 / 59 / 250:  50%|██████████▌          | 250/500 [04:46<04:46,  1.15s/it]textattack: Saving checkpoint under \"checkpoints\\1720193440089.ta.chkpt\" at 2024-07-05 23:30:40 after 250 attacks.\n"
     ]
    },
    {
     "name": "stdout",
     "output_type": "stream",
     "text": [
      "\n",
      "\n",
      "=============================================================================================================================\n",
      "=============================================================================================================================\n",
      "\n"
     ]
    },
    {
     "name": "stderr",
     "output_type": "stream",
     "text": [
      "[Succeeded / Failed / Skipped / Total] 187 / 8 / 60 / 255:  51%|██████████▋          | 255/500 [04:52<04:41,  1.15s/it]textattack: Saving checkpoint under \"checkpoints\\1720193445879.ta.chkpt\" at 2024-07-05 23:30:45 after 255 attacks.\n"
     ]
    },
    {
     "name": "stdout",
     "output_type": "stream",
     "text": [
      "\n",
      "\n",
      "=============================================================================================================================\n",
      "=============================================================================================================================\n",
      "\n"
     ]
    },
    {
     "name": "stderr",
     "output_type": "stream",
     "text": [
      "[Succeeded / Failed / Skipped / Total] 190 / 8 / 62 / 260:  52%|██████████▉          | 260/500 [04:57<04:34,  1.14s/it]textattack: Saving checkpoint under \"checkpoints\\1720193450336.ta.chkpt\" at 2024-07-05 23:30:50 after 260 attacks.\n"
     ]
    },
    {
     "name": "stdout",
     "output_type": "stream",
     "text": [
      "\n",
      "\n",
      "=============================================================================================================================\n",
      "=============================================================================================================================\n",
      "\n"
     ]
    },
    {
     "name": "stderr",
     "output_type": "stream",
     "text": [
      "[Succeeded / Failed / Skipped / Total] 195 / 8 / 62 / 265:  53%|███████████▏         | 265/500 [05:02<04:28,  1.14s/it]textattack: Saving checkpoint under \"checkpoints\\1720193455497.ta.chkpt\" at 2024-07-05 23:30:55 after 265 attacks.\n"
     ]
    },
    {
     "name": "stdout",
     "output_type": "stream",
     "text": [
      "\n",
      "\n",
      "=============================================================================================================================\n",
      "=============================================================================================================================\n",
      "\n"
     ]
    },
    {
     "name": "stderr",
     "output_type": "stream",
     "text": [
      "[Succeeded / Failed / Skipped / Total] 199 / 8 / 63 / 270:  54%|███████████▎         | 270/500 [05:13<04:26,  1.16s/it]textattack: Saving checkpoint under \"checkpoints\\1720193466293.ta.chkpt\" at 2024-07-05 23:31:06 after 270 attacks.\n",
      "[Succeeded / Failed / Skipped / Total] 199 / 8 / 64 / 271:  54%|███████████▍         | 271/500 [05:13<04:24,  1.16s/it]"
     ]
    },
    {
     "name": "stdout",
     "output_type": "stream",
     "text": [
      "\n",
      "\n",
      "=============================================================================================================================\n",
      "=============================================================================================================================\n",
      "\n"
     ]
    },
    {
     "name": "stderr",
     "output_type": "stream",
     "text": [
      "[Succeeded / Failed / Skipped / Total] 202 / 8 / 65 / 275:  55%|███████████▌         | 275/500 [05:15<04:18,  1.15s/it]textattack: Saving checkpoint under \"checkpoints\\1720193468818.ta.chkpt\" at 2024-07-05 23:31:08 after 275 attacks.\n",
      "[Succeeded / Failed / Skipped / Total] 202 / 8 / 67 / 277:  55%|███████████▋         | 277/500 [05:15<04:14,  1.14s/it]"
     ]
    },
    {
     "name": "stdout",
     "output_type": "stream",
     "text": [
      "\n",
      "\n",
      "=============================================================================================================================\n",
      "=============================================================================================================================\n",
      "\n"
     ]
    },
    {
     "name": "stderr",
     "output_type": "stream",
     "text": [
      "[Succeeded / Failed / Skipped / Total] 205 / 8 / 67 / 280:  56%|███████████▊         | 280/500 [05:19<04:11,  1.14s/it]textattack: Saving checkpoint under \"checkpoints\\1720193472675.ta.chkpt\" at 2024-07-05 23:31:12 after 280 attacks.\n"
     ]
    },
    {
     "name": "stdout",
     "output_type": "stream",
     "text": [
      "\n",
      "\n",
      "=============================================================================================================================\n",
      "=============================================================================================================================\n",
      "\n"
     ]
    },
    {
     "name": "stderr",
     "output_type": "stream",
     "text": [
      "[Succeeded / Failed / Skipped / Total] 209 / 8 / 68 / 285:  57%|███████████▉         | 285/500 [05:25<04:05,  1.14s/it]textattack: Saving checkpoint under \"checkpoints\\1720193478633.ta.chkpt\" at 2024-07-05 23:31:18 after 285 attacks.\n"
     ]
    },
    {
     "name": "stdout",
     "output_type": "stream",
     "text": [
      "\n",
      "\n",
      "=============================================================================================================================\n",
      "=============================================================================================================================\n",
      "\n"
     ]
    },
    {
     "name": "stderr",
     "output_type": "stream",
     "text": [
      "[Succeeded / Failed / Skipped / Total] 213 / 8 / 69 / 290:  58%|████████████▏        | 290/500 [05:30<03:59,  1.14s/it]textattack: Saving checkpoint under \"checkpoints\\1720193483784.ta.chkpt\" at 2024-07-05 23:31:23 after 290 attacks.\n"
     ]
    },
    {
     "name": "stdout",
     "output_type": "stream",
     "text": [
      "\n",
      "\n",
      "=============================================================================================================================\n",
      "=============================================================================================================================\n",
      "\n"
     ]
    },
    {
     "name": "stderr",
     "output_type": "stream",
     "text": [
      "[Succeeded / Failed / Skipped / Total] 217 / 8 / 70 / 295:  59%|████████████▍        | 295/500 [05:37<03:54,  1.14s/it]textattack: Saving checkpoint under \"checkpoints\\1720193490169.ta.chkpt\" at 2024-07-05 23:31:30 after 295 attacks.\n"
     ]
    },
    {
     "name": "stdout",
     "output_type": "stream",
     "text": [
      "\n",
      "\n",
      "=============================================================================================================================\n",
      "=============================================================================================================================\n",
      "\n"
     ]
    },
    {
     "name": "stderr",
     "output_type": "stream",
     "text": [
      "[Succeeded / Failed / Skipped / Total] 222 / 8 / 70 / 300:  60%|████████████▌        | 300/500 [05:43<03:49,  1.15s/it]textattack: Saving checkpoint under \"checkpoints\\1720193496881.ta.chkpt\" at 2024-07-05 23:31:36 after 300 attacks.\n"
     ]
    },
    {
     "name": "stdout",
     "output_type": "stream",
     "text": [
      "\n",
      "\n",
      "=============================================================================================================================\n",
      "=============================================================================================================================\n",
      "\n"
     ]
    },
    {
     "name": "stderr",
     "output_type": "stream",
     "text": [
      "[Succeeded / Failed / Skipped / Total] 227 / 8 / 70 / 305:  61%|████████████▊        | 305/500 [05:50<03:44,  1.15s/it]textattack: Saving checkpoint under \"checkpoints\\1720193503811.ta.chkpt\" at 2024-07-05 23:31:43 after 305 attacks.\n"
     ]
    },
    {
     "name": "stdout",
     "output_type": "stream",
     "text": [
      "\n",
      "\n",
      "=============================================================================================================================\n",
      "=============================================================================================================================\n",
      "\n"
     ]
    },
    {
     "name": "stderr",
     "output_type": "stream",
     "text": [
      "[Succeeded / Failed / Skipped / Total] 231 / 8 / 71 / 310:  62%|█████████████        | 310/500 [05:54<03:37,  1.14s/it]textattack: Saving checkpoint under \"checkpoints\\1720193507695.ta.chkpt\" at 2024-07-05 23:31:47 after 310 attacks.\n"
     ]
    },
    {
     "name": "stdout",
     "output_type": "stream",
     "text": [
      "\n",
      "\n",
      "=============================================================================================================================\n",
      "=============================================================================================================================\n",
      "\n"
     ]
    },
    {
     "name": "stderr",
     "output_type": "stream",
     "text": [
      "[Succeeded / Failed / Skipped / Total] 234 / 8 / 73 / 315:  63%|█████████████▏       | 315/500 [05:59<03:31,  1.14s/it]textattack: Saving checkpoint under \"checkpoints\\1720193512721.ta.chkpt\" at 2024-07-05 23:31:52 after 315 attacks.\n"
     ]
    },
    {
     "name": "stdout",
     "output_type": "stream",
     "text": [
      "\n",
      "\n",
      "=============================================================================================================================\n",
      "=============================================================================================================================\n",
      "\n"
     ]
    },
    {
     "name": "stderr",
     "output_type": "stream",
     "text": [
      "[Succeeded / Failed / Skipped / Total] 237 / 8 / 75 / 320:  64%|█████████████▍       | 320/500 [06:07<03:26,  1.15s/it]textattack: Saving checkpoint under \"checkpoints\\1720193520168.ta.chkpt\" at 2024-07-05 23:32:00 after 320 attacks.\n"
     ]
    },
    {
     "name": "stdout",
     "output_type": "stream",
     "text": [
      "\n",
      "\n",
      "=============================================================================================================================\n",
      "=============================================================================================================================\n",
      "\n"
     ]
    },
    {
     "name": "stderr",
     "output_type": "stream",
     "text": [
      "[Succeeded / Failed / Skipped / Total] 242 / 8 / 75 / 325:  65%|█████████████▋       | 325/500 [06:14<03:21,  1.15s/it]textattack: Saving checkpoint under \"checkpoints\\1720193527726.ta.chkpt\" at 2024-07-05 23:32:07 after 325 attacks.\n"
     ]
    },
    {
     "name": "stdout",
     "output_type": "stream",
     "text": [
      "\n",
      "\n",
      "=============================================================================================================================\n",
      "=============================================================================================================================\n",
      "\n"
     ]
    },
    {
     "name": "stderr",
     "output_type": "stream",
     "text": [
      "[Succeeded / Failed / Skipped / Total] 247 / 8 / 75 / 330:  66%|█████████████▊       | 330/500 [06:19<03:15,  1.15s/it]textattack: Saving checkpoint under \"checkpoints\\1720193532932.ta.chkpt\" at 2024-07-05 23:32:12 after 330 attacks.\n"
     ]
    },
    {
     "name": "stdout",
     "output_type": "stream",
     "text": [
      "\n",
      "\n",
      "=============================================================================================================================\n",
      "=============================================================================================================================\n",
      "\n"
     ]
    },
    {
     "name": "stderr",
     "output_type": "stream",
     "text": [
      "[Succeeded / Failed / Skipped / Total] 251 / 8 / 76 / 335:  67%|██████████████       | 335/500 [06:31<03:12,  1.17s/it]textattack: Saving checkpoint under \"checkpoints\\1720193544119.ta.chkpt\" at 2024-07-05 23:32:24 after 335 attacks.\n",
      "[Succeeded / Failed / Skipped / Total] 251 / 8 / 77 / 336:  67%|██████████████       | 336/500 [06:31<03:10,  1.16s/it]"
     ]
    },
    {
     "name": "stdout",
     "output_type": "stream",
     "text": [
      "\n",
      "\n",
      "=============================================================================================================================\n",
      "=============================================================================================================================\n",
      "\n"
     ]
    },
    {
     "name": "stderr",
     "output_type": "stream",
     "text": [
      "[Succeeded / Failed / Skipped / Total] 253 / 9 / 78 / 340:  68%|██████████████▎      | 340/500 [06:35<03:05,  1.16s/it]textattack: Saving checkpoint under \"checkpoints\\1720193548244.ta.chkpt\" at 2024-07-05 23:32:28 after 340 attacks.\n"
     ]
    },
    {
     "name": "stdout",
     "output_type": "stream",
     "text": [
      "\n",
      "\n",
      "=============================================================================================================================\n",
      "=============================================================================================================================\n",
      "\n"
     ]
    },
    {
     "name": "stderr",
     "output_type": "stream",
     "text": [
      "[Succeeded / Failed / Skipped / Total] 256 / 9 / 80 / 345:  69%|██████████████▍      | 345/500 [06:40<03:00,  1.16s/it]textattack: Saving checkpoint under \"checkpoints\\1720193554020.ta.chkpt\" at 2024-07-05 23:32:34 after 345 attacks.\n"
     ]
    },
    {
     "name": "stdout",
     "output_type": "stream",
     "text": [
      "\n",
      "\n",
      "=============================================================================================================================\n",
      "=============================================================================================================================\n",
      "\n"
     ]
    },
    {
     "name": "stderr",
     "output_type": "stream",
     "text": [
      "[Succeeded / Failed / Skipped / Total] 260 / 9 / 81 / 350:  70%|██████████████▋      | 350/500 [06:50<02:56,  1.17s/it]textattack: Saving checkpoint under \"checkpoints\\1720193563838.ta.chkpt\" at 2024-07-05 23:32:43 after 350 attacks.\n"
     ]
    },
    {
     "name": "stdout",
     "output_type": "stream",
     "text": [
      "\n",
      "\n",
      "=============================================================================================================================\n",
      "=============================================================================================================================\n",
      "\n"
     ]
    },
    {
     "name": "stderr",
     "output_type": "stream",
     "text": [
      "[Succeeded / Failed / Skipped / Total] 264 / 10 / 81 / 355:  71%|██████████████▏     | 355/500 [07:02<02:52,  1.19s/it]textattack: Saving checkpoint under \"checkpoints\\1720193575458.ta.chkpt\" at 2024-07-05 23:32:55 after 355 attacks.\n"
     ]
    },
    {
     "name": "stdout",
     "output_type": "stream",
     "text": [
      "\n",
      "\n",
      "=============================================================================================================================\n",
      "=============================================================================================================================\n",
      "\n"
     ]
    },
    {
     "name": "stderr",
     "output_type": "stream",
     "text": [
      "[Succeeded / Failed / Skipped / Total] 268 / 10 / 82 / 360:  72%|██████████████▍     | 360/500 [07:09<02:47,  1.19s/it]textattack: Saving checkpoint under \"checkpoints\\1720193582979.ta.chkpt\" at 2024-07-05 23:33:02 after 360 attacks.\n"
     ]
    },
    {
     "name": "stdout",
     "output_type": "stream",
     "text": [
      "\n",
      "\n",
      "=============================================================================================================================\n",
      "=============================================================================================================================\n",
      "\n"
     ]
    },
    {
     "name": "stderr",
     "output_type": "stream",
     "text": [
      "[Succeeded / Failed / Skipped / Total] 273 / 10 / 82 / 365:  73%|██████████████▌     | 365/500 [07:15<02:40,  1.19s/it]textattack: Saving checkpoint under \"checkpoints\\1720193588204.ta.chkpt\" at 2024-07-05 23:33:08 after 365 attacks.\n",
      "[Succeeded / Failed / Skipped / Total] 273 / 10 / 83 / 366:  73%|██████████████▋     | 366/500 [07:15<02:39,  1.19s/it]"
     ]
    },
    {
     "name": "stdout",
     "output_type": "stream",
     "text": [
      "\n",
      "\n",
      "=============================================================================================================================\n",
      "=============================================================================================================================\n",
      "\n"
     ]
    },
    {
     "name": "stderr",
     "output_type": "stream",
     "text": [
      "[Succeeded / Failed / Skipped / Total] 277 / 10 / 83 / 370:  74%|██████████████▊     | 370/500 [07:20<02:34,  1.19s/it]textattack: Saving checkpoint under \"checkpoints\\1720193593432.ta.chkpt\" at 2024-07-05 23:33:13 after 370 attacks.\n",
      "[Succeeded / Failed / Skipped / Total] 277 / 10 / 84 / 371:  74%|██████████████▊     | 371/500 [07:20<02:33,  1.19s/it]"
     ]
    },
    {
     "name": "stdout",
     "output_type": "stream",
     "text": [
      "\n",
      "\n",
      "=============================================================================================================================\n",
      "=============================================================================================================================\n",
      "\n"
     ]
    },
    {
     "name": "stderr",
     "output_type": "stream",
     "text": [
      "[Succeeded / Failed / Skipped / Total] 281 / 10 / 84 / 375:  75%|███████████████     | 375/500 [07:26<02:28,  1.19s/it]textattack: Saving checkpoint under \"checkpoints\\1720193599527.ta.chkpt\" at 2024-07-05 23:33:19 after 375 attacks.\n"
     ]
    },
    {
     "name": "stdout",
     "output_type": "stream",
     "text": [
      "\n",
      "\n",
      "=============================================================================================================================\n",
      "=============================================================================================================================\n",
      "\n"
     ]
    },
    {
     "name": "stderr",
     "output_type": "stream",
     "text": [
      "[Succeeded / Failed / Skipped / Total] 285 / 10 / 85 / 380:  76%|███████████████▏    | 380/500 [07:29<02:22,  1.18s/it]textattack: Saving checkpoint under \"checkpoints\\1720193602860.ta.chkpt\" at 2024-07-05 23:33:22 after 380 attacks.\n"
     ]
    },
    {
     "name": "stdout",
     "output_type": "stream",
     "text": [
      "\n",
      "\n",
      "=============================================================================================================================\n",
      "=============================================================================================================================\n",
      "\n"
     ]
    },
    {
     "name": "stderr",
     "output_type": "stream",
     "text": [
      "[Succeeded / Failed / Skipped / Total] 290 / 10 / 85 / 385:  77%|███████████████▍    | 385/500 [07:35<02:16,  1.18s/it]textattack: Saving checkpoint under \"checkpoints\\1720193608483.ta.chkpt\" at 2024-07-05 23:33:28 after 385 attacks.\n"
     ]
    },
    {
     "name": "stdout",
     "output_type": "stream",
     "text": [
      "\n",
      "\n",
      "=============================================================================================================================\n",
      "=============================================================================================================================\n",
      "\n"
     ]
    },
    {
     "name": "stderr",
     "output_type": "stream",
     "text": [
      "[Succeeded / Failed / Skipped / Total] 294 / 10 / 86 / 390:  78%|███████████████▌    | 390/500 [07:40<02:09,  1.18s/it]textattack: Saving checkpoint under \"checkpoints\\1720193613219.ta.chkpt\" at 2024-07-05 23:33:33 after 390 attacks.\n"
     ]
    },
    {
     "name": "stdout",
     "output_type": "stream",
     "text": [
      "\n",
      "\n",
      "=============================================================================================================================\n",
      "=============================================================================================================================\n",
      "\n"
     ]
    },
    {
     "name": "stderr",
     "output_type": "stream",
     "text": [
      "[Succeeded / Failed / Skipped / Total] 298 / 10 / 87 / 395:  79%|███████████████▊    | 395/500 [07:47<02:04,  1.18s/it]textattack: Saving checkpoint under \"checkpoints\\1720193620630.ta.chkpt\" at 2024-07-05 23:33:40 after 395 attacks.\n"
     ]
    },
    {
     "name": "stdout",
     "output_type": "stream",
     "text": [
      "\n",
      "\n",
      "=============================================================================================================================\n",
      "=============================================================================================================================\n",
      "\n"
     ]
    },
    {
     "name": "stderr",
     "output_type": "stream",
     "text": [
      "[Succeeded / Failed / Skipped / Total] 303 / 10 / 87 / 400:  80%|████████████████    | 400/500 [07:55<01:58,  1.19s/it]textattack: Saving checkpoint under \"checkpoints\\1720193628383.ta.chkpt\" at 2024-07-05 23:33:48 after 400 attacks.\n"
     ]
    },
    {
     "name": "stdout",
     "output_type": "stream",
     "text": [
      "\n",
      "\n",
      "=============================================================================================================================\n",
      "=============================================================================================================================\n",
      "\n"
     ]
    },
    {
     "name": "stderr",
     "output_type": "stream",
     "text": [
      "[Succeeded / Failed / Skipped / Total] 308 / 10 / 87 / 405:  81%|████████████████▏   | 405/500 [08:03<01:53,  1.19s/it]textattack: Saving checkpoint under \"checkpoints\\1720193636768.ta.chkpt\" at 2024-07-05 23:33:56 after 405 attacks.\n"
     ]
    },
    {
     "name": "stdout",
     "output_type": "stream",
     "text": [
      "\n",
      "\n",
      "=============================================================================================================================\n",
      "=============================================================================================================================\n",
      "\n"
     ]
    },
    {
     "name": "stderr",
     "output_type": "stream",
     "text": [
      "[Succeeded / Failed / Skipped / Total] 312 / 10 / 88 / 410:  82%|████████████████▍   | 410/500 [08:07<01:47,  1.19s/it]textattack: Saving checkpoint under \"checkpoints\\1720193640820.ta.chkpt\" at 2024-07-05 23:34:00 after 410 attacks.\n"
     ]
    },
    {
     "name": "stdout",
     "output_type": "stream",
     "text": [
      "\n",
      "\n",
      "=============================================================================================================================\n",
      "=============================================================================================================================\n",
      "\n"
     ]
    },
    {
     "name": "stderr",
     "output_type": "stream",
     "text": [
      "[Succeeded / Failed / Skipped / Total] 313 / 10 / 92 / 415:  83%|████████████████▌   | 415/500 [08:09<01:40,  1.18s/it]textattack: Saving checkpoint under \"checkpoints\\1720193642936.ta.chkpt\" at 2024-07-05 23:34:02 after 415 attacks.\n"
     ]
    },
    {
     "name": "stdout",
     "output_type": "stream",
     "text": [
      "\n",
      "\n",
      "=============================================================================================================================\n",
      "=============================================================================================================================\n",
      "\n"
     ]
    },
    {
     "name": "stderr",
     "output_type": "stream",
     "text": [
      "[Succeeded / Failed / Skipped / Total] 316 / 11 / 93 / 420:  84%|████████████████▊   | 420/500 [08:17<01:34,  1.19s/it]textattack: Saving checkpoint under \"checkpoints\\1720193650797.ta.chkpt\" at 2024-07-05 23:34:10 after 420 attacks.\n"
     ]
    },
    {
     "name": "stdout",
     "output_type": "stream",
     "text": [
      "\n",
      "\n",
      "=============================================================================================================================\n",
      "=============================================================================================================================\n",
      "\n"
     ]
    },
    {
     "name": "stderr",
     "output_type": "stream",
     "text": [
      "[Succeeded / Failed / Skipped / Total] 321 / 11 / 93 / 425:  85%|█████████████████   | 425/500 [08:24<01:29,  1.19s/it]textattack: Saving checkpoint under \"checkpoints\\1720193657614.ta.chkpt\" at 2024-07-05 23:34:17 after 425 attacks.\n"
     ]
    },
    {
     "name": "stdout",
     "output_type": "stream",
     "text": [
      "\n",
      "\n",
      "=============================================================================================================================\n",
      "=============================================================================================================================\n",
      "\n"
     ]
    },
    {
     "name": "stderr",
     "output_type": "stream",
     "text": [
      "[Succeeded / Failed / Skipped / Total] 326 / 11 / 93 / 430:  86%|█████████████████▏  | 430/500 [08:35<01:23,  1.20s/it]textattack: Saving checkpoint under \"checkpoints\\1720193668360.ta.chkpt\" at 2024-07-05 23:34:28 after 430 attacks.\n",
      "[Succeeded / Failed / Skipped / Total] 326 / 11 / 94 / 431:  86%|█████████████████▏  | 431/500 [08:35<01:22,  1.20s/it]"
     ]
    },
    {
     "name": "stdout",
     "output_type": "stream",
     "text": [
      "\n",
      "\n",
      "=============================================================================================================================\n",
      "=============================================================================================================================\n",
      "\n"
     ]
    },
    {
     "name": "stderr",
     "output_type": "stream",
     "text": [
      "[Succeeded / Failed / Skipped / Total] 330 / 11 / 94 / 435:  87%|█████████████████▍  | 435/500 [08:39<01:17,  1.20s/it]textattack: Saving checkpoint under \"checkpoints\\1720193672944.ta.chkpt\" at 2024-07-05 23:34:32 after 435 attacks.\n",
      "[Succeeded / Failed / Skipped / Total] 330 / 11 / 95 / 436:  87%|█████████████████▍  | 436/500 [08:39<01:16,  1.19s/it]"
     ]
    },
    {
     "name": "stdout",
     "output_type": "stream",
     "text": [
      "\n",
      "\n",
      "=============================================================================================================================\n",
      "=============================================================================================================================\n",
      "\n"
     ]
    },
    {
     "name": "stderr",
     "output_type": "stream",
     "text": [
      "[Succeeded / Failed / Skipped / Total] 334 / 11 / 95 / 440:  88%|█████████████████▌  | 440/500 [08:48<01:12,  1.20s/it]textattack: Saving checkpoint under \"checkpoints\\1720193682053.ta.chkpt\" at 2024-07-05 23:34:42 after 440 attacks.\n"
     ]
    },
    {
     "name": "stdout",
     "output_type": "stream",
     "text": [
      "\n",
      "\n",
      "=============================================================================================================================\n",
      "=============================================================================================================================\n",
      "\n"
     ]
    },
    {
     "name": "stderr",
     "output_type": "stream",
     "text": [
      "[Succeeded / Failed / Skipped / Total] 338 / 11 / 96 / 445:  89%|█████████████████▊  | 445/500 [08:52<01:05,  1.20s/it]textattack: Saving checkpoint under \"checkpoints\\1720193685706.ta.chkpt\" at 2024-07-05 23:34:45 after 445 attacks.\n"
     ]
    },
    {
     "name": "stdout",
     "output_type": "stream",
     "text": [
      "\n",
      "\n",
      "=============================================================================================================================\n",
      "=============================================================================================================================\n",
      "\n"
     ]
    },
    {
     "name": "stderr",
     "output_type": "stream",
     "text": [
      "[Succeeded / Failed / Skipped / Total] 341 / 11 / 98 / 450:  90%|██████████████████  | 450/500 [08:58<00:59,  1.20s/it]textattack: Saving checkpoint under \"checkpoints\\1720193691417.ta.chkpt\" at 2024-07-05 23:34:51 after 450 attacks.\n"
     ]
    },
    {
     "name": "stdout",
     "output_type": "stream",
     "text": [
      "\n",
      "\n",
      "=============================================================================================================================\n",
      "=============================================================================================================================\n",
      "\n"
     ]
    },
    {
     "name": "stderr",
     "output_type": "stream",
     "text": [
      "[Succeeded / Failed / Skipped / Total] 345 / 11 / 99 / 455:  91%|██████████████████▏ | 455/500 [09:05<00:53,  1.20s/it]textattack: Saving checkpoint under \"checkpoints\\1720193698712.ta.chkpt\" at 2024-07-05 23:34:58 after 455 attacks.\n",
      "[Succeeded / Failed / Skipped / Total] 345 / 11 / 100 / 456:  91%|█████████████████▎ | 456/500 [09:05<00:52,  1.20s/it]"
     ]
    },
    {
     "name": "stdout",
     "output_type": "stream",
     "text": [
      "\n",
      "\n",
      "=============================================================================================================================\n",
      "=============================================================================================================================\n",
      "\n"
     ]
    },
    {
     "name": "stderr",
     "output_type": "stream",
     "text": [
      "[Succeeded / Failed / Skipped / Total] 349 / 11 / 100 / 460:  92%|█████████████████▍ | 460/500 [09:13<00:48,  1.20s/it]textattack: Saving checkpoint under \"checkpoints\\1720193706372.ta.chkpt\" at 2024-07-05 23:35:06 after 460 attacks.\n"
     ]
    },
    {
     "name": "stdout",
     "output_type": "stream",
     "text": [
      "\n",
      "\n",
      "=============================================================================================================================\n",
      "=============================================================================================================================\n",
      "\n"
     ]
    },
    {
     "name": "stderr",
     "output_type": "stream",
     "text": [
      "[Succeeded / Failed / Skipped / Total] 352 / 11 / 102 / 465:  93%|█████████████████▋ | 465/500 [09:21<00:42,  1.21s/it]textattack: Saving checkpoint under \"checkpoints\\1720193714248.ta.chkpt\" at 2024-07-05 23:35:14 after 465 attacks.\n"
     ]
    },
    {
     "name": "stdout",
     "output_type": "stream",
     "text": [
      "\n",
      "\n",
      "=============================================================================================================================\n",
      "=============================================================================================================================\n",
      "\n"
     ]
    },
    {
     "name": "stderr",
     "output_type": "stream",
     "text": [
      "[Succeeded / Failed / Skipped / Total] 356 / 11 / 103 / 470:  94%|█████████████████▊ | 470/500 [09:24<00:36,  1.20s/it]textattack: Saving checkpoint under \"checkpoints\\1720193717387.ta.chkpt\" at 2024-07-05 23:35:17 after 470 attacks.\n"
     ]
    },
    {
     "name": "stdout",
     "output_type": "stream",
     "text": [
      "\n",
      "\n",
      "=============================================================================================================================\n",
      "=============================================================================================================================\n",
      "\n"
     ]
    },
    {
     "name": "stderr",
     "output_type": "stream",
     "text": [
      "[Succeeded / Failed / Skipped / Total] 361 / 11 / 103 / 475:  95%|██████████████████ | 475/500 [09:37<00:30,  1.22s/it]textattack: Saving checkpoint under \"checkpoints\\1720193730986.ta.chkpt\" at 2024-07-05 23:35:30 after 475 attacks.\n"
     ]
    },
    {
     "name": "stdout",
     "output_type": "stream",
     "text": [
      "\n",
      "\n",
      "=============================================================================================================================\n",
      "=============================================================================================================================\n",
      "\n"
     ]
    },
    {
     "name": "stderr",
     "output_type": "stream",
     "text": [
      "[Succeeded / Failed / Skipped / Total] 365 / 12 / 103 / 480:  96%|██████████████████▏| 480/500 [09:43<00:24,  1.21s/it]textattack: Saving checkpoint under \"checkpoints\\1720193736185.ta.chkpt\" at 2024-07-05 23:35:36 after 480 attacks.\n"
     ]
    },
    {
     "name": "stdout",
     "output_type": "stream",
     "text": [
      "\n",
      "\n",
      "=============================================================================================================================\n",
      "=============================================================================================================================\n",
      "\n"
     ]
    },
    {
     "name": "stderr",
     "output_type": "stream",
     "text": [
      "[Succeeded / Failed / Skipped / Total] 369 / 12 / 104 / 485:  97%|██████████████████▍| 485/500 [09:50<00:18,  1.22s/it]textattack: Saving checkpoint under \"checkpoints\\1720193743921.ta.chkpt\" at 2024-07-05 23:35:43 after 485 attacks.\n"
     ]
    },
    {
     "name": "stdout",
     "output_type": "stream",
     "text": [
      "\n",
      "\n",
      "=============================================================================================================================\n",
      "=============================================================================================================================\n",
      "\n"
     ]
    },
    {
     "name": "stderr",
     "output_type": "stream",
     "text": [
      "[Succeeded / Failed / Skipped / Total] 372 / 12 / 106 / 490:  98%|██████████████████▌| 490/500 [09:56<00:12,  1.22s/it]textattack: Saving checkpoint under \"checkpoints\\1720193749268.ta.chkpt\" at 2024-07-05 23:35:49 after 490 attacks.\n",
      "[Succeeded / Failed / Skipped / Total] 372 / 12 / 107 / 491:  98%|██████████████████▋| 491/500 [09:56<00:10,  1.21s/it]"
     ]
    },
    {
     "name": "stdout",
     "output_type": "stream",
     "text": [
      "\n",
      "\n",
      "=============================================================================================================================\n",
      "=============================================================================================================================\n",
      "\n"
     ]
    },
    {
     "name": "stderr",
     "output_type": "stream",
     "text": [
      "[Succeeded / Failed / Skipped / Total] 376 / 12 / 107 / 495:  99%|██████████████████▊| 495/500 [10:02<00:06,  1.22s/it]textattack: Saving checkpoint under \"checkpoints\\1720193755459.ta.chkpt\" at 2024-07-05 23:35:55 after 495 attacks.\n"
     ]
    },
    {
     "name": "stdout",
     "output_type": "stream",
     "text": [
      "\n",
      "\n",
      "=============================================================================================================================\n",
      "=============================================================================================================================\n",
      "\n"
     ]
    },
    {
     "name": "stderr",
     "output_type": "stream",
     "text": [
      "[Succeeded / Failed / Skipped / Total] 381 / 12 / 107 / 500: 100%|███████████████████| 500/500 [10:13<00:00,  1.23s/it]textattack: Saving checkpoint under \"checkpoints\\1720193766942.ta.chkpt\" at 2024-07-05 23:36:06 after 500 attacks.\n",
      "[Succeeded / Failed / Skipped / Total] 381 / 12 / 107 / 500: 100%|███████████████████| 500/500 [10:13<00:00,  1.23s/it]"
     ]
    },
    {
     "name": "stdout",
     "output_type": "stream",
     "text": [
      "\n",
      "\n",
      "=============================================================================================================================\n",
      "=============================================================================================================================\n",
      "\n",
      "\n",
      "+-------------------------------+--------+\n",
      "| Attack Results                |        |\n",
      "+-------------------------------+--------+\n",
      "| Number of successful attacks: | 381    |\n",
      "| Number of failed attacks:     | 12     |\n",
      "| Number of skipped attacks:    | 107    |\n",
      "| Original accuracy:            | 78.6%  |\n",
      "| Accuracy under attack:        | 2.4%   |\n",
      "| Attack success rate:          | 96.95% |\n",
      "| Average perturbed word %:     | 16.85% |\n",
      "| Average num. words per input: | 18.4   |\n",
      "| Avg num queries:              | 60.73  |\n",
      "+-------------------------------+--------+\n"
     ]
    },
    {
     "name": "stderr",
     "output_type": "stream",
     "text": [
      "\n"
     ]
    }
   ],
   "source": [
    "runAttack(disbert_model_wrapper_svc_mr, n_samples, 'attack_results_new/disbertmrattacksvc'+suffix, target_ds_mr)"
   ]
  },
  {
   "cell_type": "markdown",
   "id": "11f01fff-dcd8-43f2-9b5b-d84826b7029b",
   "metadata": {},
   "source": [
    "### CLIP"
   ]
  },
  {
   "cell_type": "code",
   "execution_count": 24,
   "id": "91dc94fc-775d-4ee6-ba68-20bee81b8148",
   "metadata": {
    "scrolled": true
   },
   "outputs": [
    {
     "name": "stderr",
     "output_type": "stream",
     "text": [
      "D:\\anaconda3\\envs\\tf\\lib\\site-packages\\huggingface_hub\\file_download.py:1132: FutureWarning: `resume_download` is deprecated and will be removed in version 1.0.0. Downloads always resume when possible. If you want to force a new download, use `force_download=True`.\n",
      "  warnings.warn(\n"
     ]
    }
   ],
   "source": [
    "# Load CLIP model and processor\n",
    "model_name = \"openai/clip-vit-base-patch32\"\n",
    "clip_processor = CLIPProcessor.from_pretrained(model_name)\n",
    "clip_model = CLIPModel.from_pretrained(model_name)\n",
    "\n",
    "# Access text encoder\n",
    "text_encoder = clip_model.text_model"
   ]
  },
  {
   "cell_type": "code",
   "execution_count": 25,
   "id": "806470a6-11a7-47bf-99c8-850663674716",
   "metadata": {},
   "outputs": [
    {
     "name": "stdout",
     "output_type": "stream",
     "text": [
      "Log Reg 0.7495309568480301\n",
      "RF 0.7054409005628518\n",
      "KNN 0.6885553470919324\n",
      "SVC 0.7551594746716698\n"
     ]
    }
   ],
   "source": [
    "clipmrtrain = pd.read_csv('dataset_embeddings/clipmrtrain.txt', header=None)\n",
    "clipmrtest = pd.read_csv('dataset_embeddings/clipmrtest.txt', header=None)\n",
    "lr_clip_mr, rf_clip_mr, knn_clip_mr, svc_clip_mr = adaptation(clipmrtrain, clipmrtest)"
   ]
  },
  {
   "cell_type": "code",
   "execution_count": 26,
   "id": "1226de83-7330-4793-bbbb-4ff4b79bb3e7",
   "metadata": {},
   "outputs": [],
   "source": [
    "# custom model wrapper for CLIP\n",
    "class CLIPModelWrapper(HuggingFaceModelWrapper):\n",
    "    def __init__(self, processor, text_encoder, classifier):\n",
    "        self.processor = processor\n",
    "        self.model = text_encoder\n",
    "        self.classifier = classifier\n",
    "\n",
    "    def __call__(self, text_input_list):\n",
    "        inputs = self.processor(text_input_list, return_tensors='pt', padding=True, truncation=True)\n",
    "        outputs = self.model(**inputs).pooler_output\n",
    "        with torch.no_grad():\n",
    "            preds = self.classifier.predict_proba(outputs)\n",
    "        return preds"
   ]
  },
  {
   "cell_type": "code",
   "execution_count": 27,
   "id": "34a07916-1e13-4b75-b9a9-a36c06e4feb1",
   "metadata": {},
   "outputs": [],
   "source": [
    "clip_model_wrapper_lr_mr = CLIPModelWrapper(clip_processor, text_encoder, lr_clip_mr)\n",
    "clip_model_wrapper_rf_mr = CLIPModelWrapper(clip_processor, text_encoder, rf_clip_mr)\n",
    "clip_model_wrapper_knn_mr = CLIPModelWrapper(clip_processor, text_encoder, knn_clip_mr)\n",
    "clip_model_wrapper_svc_mr = CLIPModelWrapper(clip_processor, text_encoder, svc_clip_mr)"
   ]
  },
  {
   "cell_type": "code",
   "execution_count": 28,
   "id": "31968c92-5988-4472-8c2b-de82302e8543",
   "metadata": {
    "scrolled": true
   },
   "outputs": [
    {
     "name": "stderr",
     "output_type": "stream",
     "text": [
      "textattack: Unknown if model of class <class 'transformers.models.clip.modeling_clip.CLIPTextTransformer'> compatible with goal function <class 'textattack.goal_functions.classification.untargeted_classification.UntargetedClassification'>.\n",
      "textattack: Logging to CSV at path attack_results_new/clipmrattacklrsim06.csv\n"
     ]
    },
    {
     "name": "stdout",
     "output_type": "stream",
     "text": [
      "Attack(\n",
      "  (search_method): GreedyWordSwapWIR(\n",
      "    (wir_method):  delete\n",
      "  )\n",
      "  (goal_function):  UntargetedClassification\n",
      "  (transformation):  WordSwapEmbedding(\n",
      "    (max_candidates):  50\n",
      "    (embedding):  WordEmbedding\n",
      "  )\n",
      "  (constraints): \n",
      "    (0): WordEmbeddingDistance(\n",
      "        (embedding):  WordEmbedding\n",
      "        (min_cos_sim):  0.6\n",
      "        (cased):  False\n",
      "        (include_unknown_words):  True\n",
      "        (compare_against_original):  True\n",
      "      )\n",
      "    (1): PartOfSpeech(\n",
      "        (tagger_type):  nltk\n",
      "        (tagset):  universal\n",
      "        (allow_verb_noun_swap):  True\n",
      "        (compare_against_original):  True\n",
      "      )\n",
      "    (2): UniversalSentenceEncoder(\n",
      "        (metric):  angular\n",
      "        (threshold):  0.840845057\n",
      "        (window_size):  15\n",
      "        (skip_text_shorter_than_window):  True\n",
      "        (compare_against_original):  False\n",
      "      )\n",
      "    (3): RepeatModification\n",
      "    (4): StopwordModification\n",
      "    (5): InputColumnModification(\n",
      "        (matching_column_labels):  ['premise', 'hypothesis']\n",
      "        (columns_to_ignore):  {'premise'}\n",
      "      )\n",
      "  (is_black_box):  True\n",
      ") \n",
      "\n"
     ]
    },
    {
     "name": "stderr",
     "output_type": "stream",
     "text": [
      "[Succeeded / Failed / Skipped / Total] 5 / 0 / 0 / 5:   1%|▎                           | 5/500 [00:21<34:59,  4.24s/it]textattack: Saving checkpoint under \"checkpoints\\1720194207263.ta.chkpt\" at 2024-07-05 23:43:27 after 5 attacks.\n",
      "[Succeeded / Failed / Skipped / Total] 5 / 0 / 1 / 6:   1%|▎                           | 6/500 [00:21<29:12,  3.55s/it]"
     ]
    },
    {
     "name": "stdout",
     "output_type": "stream",
     "text": [
      "\n",
      "\n",
      "=============================================================================================================================\n",
      "=============================================================================================================================\n",
      "\n"
     ]
    },
    {
     "name": "stderr",
     "output_type": "stream",
     "text": [
      "[Succeeded / Failed / Skipped / Total] 9 / 0 / 1 / 10:   2%|▌                         | 10/500 [00:26<21:26,  2.63s/it]textattack: Saving checkpoint under \"checkpoints\\1720194212314.ta.chkpt\" at 2024-07-05 23:43:32 after 10 attacks.\n"
     ]
    },
    {
     "name": "stdout",
     "output_type": "stream",
     "text": [
      "\n",
      "\n",
      "=============================================================================================================================\n",
      "=============================================================================================================================\n",
      "\n"
     ]
    },
    {
     "name": "stderr",
     "output_type": "stream",
     "text": [
      "[Succeeded / Failed / Skipped / Total] 14 / 0 / 1 / 15:   3%|▊                        | 15/500 [00:40<21:50,  2.70s/it]textattack: Saving checkpoint under \"checkpoints\\1720194226576.ta.chkpt\" at 2024-07-05 23:43:46 after 15 attacks.\n"
     ]
    },
    {
     "name": "stdout",
     "output_type": "stream",
     "text": [
      "\n",
      "\n",
      "=============================================================================================================================\n",
      "=============================================================================================================================\n",
      "\n"
     ]
    },
    {
     "name": "stderr",
     "output_type": "stream",
     "text": [
      "[Succeeded / Failed / Skipped / Total] 19 / 0 / 1 / 20:   4%|█                        | 20/500 [00:43<17:16,  2.16s/it]textattack: Saving checkpoint under \"checkpoints\\1720194229221.ta.chkpt\" at 2024-07-05 23:43:49 after 20 attacks.\n"
     ]
    },
    {
     "name": "stdout",
     "output_type": "stream",
     "text": [
      "\n",
      "\n",
      "=============================================================================================================================\n",
      "=============================================================================================================================\n",
      "\n"
     ]
    },
    {
     "name": "stderr",
     "output_type": "stream",
     "text": [
      "[Succeeded / Failed / Skipped / Total] 23 / 0 / 2 / 25:   5%|█▎                       | 25/500 [00:47<15:10,  1.92s/it]textattack: Saving checkpoint under \"checkpoints\\1720194233961.ta.chkpt\" at 2024-07-05 23:43:53 after 25 attacks.\n"
     ]
    },
    {
     "name": "stdout",
     "output_type": "stream",
     "text": [
      "\n",
      "\n",
      "=============================================================================================================================\n",
      "=============================================================================================================================\n",
      "\n"
     ]
    },
    {
     "name": "stderr",
     "output_type": "stream",
     "text": [
      "[Succeeded / Failed / Skipped / Total] 27 / 0 / 3 / 30:   6%|█▌                       | 30/500 [00:52<13:48,  1.76s/it]textattack: Saving checkpoint under \"checkpoints\\1720194238958.ta.chkpt\" at 2024-07-05 23:43:58 after 30 attacks.\n"
     ]
    },
    {
     "name": "stdout",
     "output_type": "stream",
     "text": [
      "\n",
      "\n",
      "=============================================================================================================================\n",
      "=============================================================================================================================\n",
      "\n"
     ]
    },
    {
     "name": "stderr",
     "output_type": "stream",
     "text": [
      "[Succeeded / Failed / Skipped / Total] 30 / 0 / 5 / 35:   7%|█▊                       | 35/500 [00:55<12:19,  1.59s/it]textattack: Saving checkpoint under \"checkpoints\\1720194241736.ta.chkpt\" at 2024-07-05 23:44:01 after 35 attacks.\n"
     ]
    },
    {
     "name": "stdout",
     "output_type": "stream",
     "text": [
      "\n",
      "\n",
      "=============================================================================================================================\n",
      "=============================================================================================================================\n",
      "\n"
     ]
    },
    {
     "name": "stderr",
     "output_type": "stream",
     "text": [
      "[Succeeded / Failed / Skipped / Total] 33 / 0 / 7 / 40:   8%|██                       | 40/500 [00:57<11:01,  1.44s/it]textattack: Saving checkpoint under \"checkpoints\\1720194243552.ta.chkpt\" at 2024-07-05 23:44:03 after 40 attacks.\n"
     ]
    },
    {
     "name": "stdout",
     "output_type": "stream",
     "text": [
      "\n",
      "\n",
      "=============================================================================================================================\n",
      "=============================================================================================================================\n",
      "\n"
     ]
    },
    {
     "name": "stderr",
     "output_type": "stream",
     "text": [
      "[Succeeded / Failed / Skipped / Total] 36 / 0 / 9 / 45:   9%|██▎                      | 45/500 [01:03<10:44,  1.42s/it]textattack: Saving checkpoint under \"checkpoints\\1720194249838.ta.chkpt\" at 2024-07-05 23:44:09 after 45 attacks.\n"
     ]
    },
    {
     "name": "stdout",
     "output_type": "stream",
     "text": [
      "\n",
      "\n",
      "=============================================================================================================================\n",
      "=============================================================================================================================\n",
      "\n"
     ]
    },
    {
     "name": "stderr",
     "output_type": "stream",
     "text": [
      "[Succeeded / Failed / Skipped / Total] 41 / 0 / 9 / 50:  10%|██▌                      | 50/500 [01:08<10:13,  1.36s/it]textattack: Saving checkpoint under \"checkpoints\\1720194254271.ta.chkpt\" at 2024-07-05 23:44:14 after 50 attacks.\n"
     ]
    },
    {
     "name": "stdout",
     "output_type": "stream",
     "text": [
      "\n",
      "\n",
      "=============================================================================================================================\n",
      "=============================================================================================================================\n",
      "\n"
     ]
    },
    {
     "name": "stderr",
     "output_type": "stream",
     "text": [
      "[Succeeded / Failed / Skipped / Total] 45 / 0 / 10 / 55:  11%|██▋                     | 55/500 [01:14<10:00,  1.35s/it]textattack: Saving checkpoint under \"checkpoints\\1720194260235.ta.chkpt\" at 2024-07-05 23:44:20 after 55 attacks.\n"
     ]
    },
    {
     "name": "stdout",
     "output_type": "stream",
     "text": [
      "\n",
      "\n",
      "=============================================================================================================================\n",
      "=============================================================================================================================\n",
      "\n"
     ]
    },
    {
     "name": "stderr",
     "output_type": "stream",
     "text": [
      "[Succeeded / Failed / Skipped / Total] 49 / 0 / 11 / 60:  12%|██▉                     | 60/500 [01:19<09:42,  1.32s/it]textattack: Saving checkpoint under \"checkpoints\\1720194265537.ta.chkpt\" at 2024-07-05 23:44:25 after 60 attacks.\n",
      "[Succeeded / Failed / Skipped / Total] 49 / 0 / 12 / 61:  12%|██▉                     | 61/500 [01:19<09:32,  1.30s/it]"
     ]
    },
    {
     "name": "stdout",
     "output_type": "stream",
     "text": [
      "\n",
      "\n",
      "=============================================================================================================================\n",
      "=============================================================================================================================\n",
      "\n"
     ]
    },
    {
     "name": "stderr",
     "output_type": "stream",
     "text": [
      "[Succeeded / Failed / Skipped / Total] 53 / 0 / 12 / 65:  13%|███                     | 65/500 [01:23<09:17,  1.28s/it]textattack: Saving checkpoint under \"checkpoints\\1720194269289.ta.chkpt\" at 2024-07-05 23:44:29 after 65 attacks.\n"
     ]
    },
    {
     "name": "stdout",
     "output_type": "stream",
     "text": [
      "\n",
      "\n",
      "=============================================================================================================================\n",
      "=============================================================================================================================\n",
      "\n"
     ]
    },
    {
     "name": "stderr",
     "output_type": "stream",
     "text": [
      "[Succeeded / Failed / Skipped / Total] 57 / 0 / 13 / 70:  14%|███▎                    | 70/500 [01:28<09:05,  1.27s/it]textattack: Saving checkpoint under \"checkpoints\\1720194274891.ta.chkpt\" at 2024-07-05 23:44:34 after 70 attacks.\n"
     ]
    },
    {
     "name": "stdout",
     "output_type": "stream",
     "text": [
      "\n",
      "\n",
      "=============================================================================================================================\n",
      "=============================================================================================================================\n",
      "\n"
     ]
    },
    {
     "name": "stderr",
     "output_type": "stream",
     "text": [
      "[Succeeded / Failed / Skipped / Total] 62 / 0 / 13 / 75:  15%|███▌                    | 75/500 [01:33<08:50,  1.25s/it]textattack: Saving checkpoint under \"checkpoints\\1720194279608.ta.chkpt\" at 2024-07-05 23:44:39 after 75 attacks.\n",
      "[Succeeded / Failed / Skipped / Total] 62 / 0 / 14 / 76:  15%|███▋                    | 76/500 [01:33<08:42,  1.23s/it]"
     ]
    },
    {
     "name": "stdout",
     "output_type": "stream",
     "text": [
      "\n",
      "\n",
      "=============================================================================================================================\n",
      "=============================================================================================================================\n",
      "\n"
     ]
    },
    {
     "name": "stderr",
     "output_type": "stream",
     "text": [
      "[Succeeded / Failed / Skipped / Total] 65 / 0 / 15 / 80:  16%|███▊                    | 80/500 [01:37<08:32,  1.22s/it]textattack: Saving checkpoint under \"checkpoints\\1720194283633.ta.chkpt\" at 2024-07-05 23:44:43 after 80 attacks.\n",
      "[Succeeded / Failed / Skipped / Total] 65 / 0 / 17 / 82:  16%|███▉                    | 82/500 [01:37<08:18,  1.19s/it]"
     ]
    },
    {
     "name": "stdout",
     "output_type": "stream",
     "text": [
      "\n",
      "\n",
      "=============================================================================================================================\n",
      "=============================================================================================================================\n",
      "\n"
     ]
    },
    {
     "name": "stderr",
     "output_type": "stream",
     "text": [
      "[Succeeded / Failed / Skipped / Total] 68 / 0 / 17 / 85:  17%|████                    | 85/500 [01:39<08:05,  1.17s/it]textattack: Saving checkpoint under \"checkpoints\\1720194285476.ta.chkpt\" at 2024-07-05 23:44:45 after 85 attacks.\n"
     ]
    },
    {
     "name": "stdout",
     "output_type": "stream",
     "text": [
      "\n",
      "\n",
      "=============================================================================================================================\n",
      "=============================================================================================================================\n",
      "\n"
     ]
    },
    {
     "name": "stderr",
     "output_type": "stream",
     "text": [
      "[Succeeded / Failed / Skipped / Total] 72 / 0 / 18 / 90:  18%|████▎                   | 90/500 [01:43<07:52,  1.15s/it]textattack: Saving checkpoint under \"checkpoints\\1720194289685.ta.chkpt\" at 2024-07-05 23:44:49 after 90 attacks.\n",
      "[Succeeded / Failed / Skipped / Total] 72 / 0 / 20 / 92:  18%|████▍                   | 92/500 [01:43<07:40,  1.13s/it]"
     ]
    },
    {
     "name": "stdout",
     "output_type": "stream",
     "text": [
      "\n",
      "\n",
      "=============================================================================================================================\n",
      "=============================================================================================================================\n",
      "\n"
     ]
    },
    {
     "name": "stderr",
     "output_type": "stream",
     "text": [
      "[Succeeded / Failed / Skipped / Total] 74 / 0 / 21 / 95:  19%|████▌                   | 95/500 [01:46<07:35,  1.12s/it]textattack: Saving checkpoint under \"checkpoints\\1720194292858.ta.chkpt\" at 2024-07-05 23:44:52 after 95 attacks.\n"
     ]
    },
    {
     "name": "stdout",
     "output_type": "stream",
     "text": [
      "\n",
      "\n",
      "=============================================================================================================================\n",
      "=============================================================================================================================\n",
      "\n"
     ]
    },
    {
     "name": "stderr",
     "output_type": "stream",
     "text": [
      "[Succeeded / Failed / Skipped / Total] 79 / 0 / 21 / 100:  20%|████▍                 | 100/500 [01:51<07:26,  1.12s/it]textattack: Saving checkpoint under \"checkpoints\\1720194297588.ta.chkpt\" at 2024-07-05 23:44:57 after 100 attacks.\n"
     ]
    },
    {
     "name": "stdout",
     "output_type": "stream",
     "text": [
      "\n",
      "\n",
      "=============================================================================================================================\n",
      "=============================================================================================================================\n",
      "\n"
     ]
    },
    {
     "name": "stderr",
     "output_type": "stream",
     "text": [
      "[Succeeded / Failed / Skipped / Total] 83 / 0 / 22 / 105:  21%|████▌                 | 105/500 [01:57<07:21,  1.12s/it]textattack: Saving checkpoint under \"checkpoints\\1720194303328.ta.chkpt\" at 2024-07-05 23:45:03 after 105 attacks.\n",
      "[Succeeded / Failed / Skipped / Total] 83 / 0 / 23 / 106:  21%|████▋                 | 106/500 [01:57<07:16,  1.11s/it]"
     ]
    },
    {
     "name": "stdout",
     "output_type": "stream",
     "text": [
      "\n",
      "\n",
      "=============================================================================================================================\n",
      "=============================================================================================================================\n",
      "\n"
     ]
    },
    {
     "name": "stderr",
     "output_type": "stream",
     "text": [
      "[Succeeded / Failed / Skipped / Total] 85 / 0 / 25 / 110:  22%|████▊                 | 110/500 [01:59<07:04,  1.09s/it]textattack: Saving checkpoint under \"checkpoints\\1720194305652.ta.chkpt\" at 2024-07-05 23:45:05 after 110 attacks.\n",
      "[Succeeded / Failed / Skipped / Total] 85 / 0 / 26 / 111:  22%|████▉                 | 111/500 [01:59<06:59,  1.08s/it]"
     ]
    },
    {
     "name": "stdout",
     "output_type": "stream",
     "text": [
      "\n",
      "\n",
      "=============================================================================================================================\n",
      "=============================================================================================================================\n",
      "\n"
     ]
    },
    {
     "name": "stderr",
     "output_type": "stream",
     "text": [
      "[Succeeded / Failed / Skipped / Total] 87 / 0 / 28 / 115:  23%|█████                 | 115/500 [02:01<06:47,  1.06s/it]textattack: Saving checkpoint under \"checkpoints\\1720194307778.ta.chkpt\" at 2024-07-05 23:45:07 after 115 attacks.\n"
     ]
    },
    {
     "name": "stdout",
     "output_type": "stream",
     "text": [
      "\n",
      "\n",
      "=============================================================================================================================\n",
      "=============================================================================================================================\n",
      "\n"
     ]
    },
    {
     "name": "stderr",
     "output_type": "stream",
     "text": [
      "[Succeeded / Failed / Skipped / Total] 90 / 0 / 30 / 120:  24%|█████▎                | 120/500 [02:04<06:35,  1.04s/it]textattack: Saving checkpoint under \"checkpoints\\1720194310925.ta.chkpt\" at 2024-07-05 23:45:10 after 120 attacks.\n",
      "[Succeeded / Failed / Skipped / Total] 90 / 0 / 31 / 121:  24%|█████▎                | 121/500 [02:04<06:31,  1.03s/it]"
     ]
    },
    {
     "name": "stdout",
     "output_type": "stream",
     "text": [
      "\n",
      "\n",
      "=============================================================================================================================\n",
      "=============================================================================================================================\n",
      "\n"
     ]
    },
    {
     "name": "stderr",
     "output_type": "stream",
     "text": [
      "[Succeeded / Failed / Skipped / Total] 93 / 0 / 32 / 125:  25%|█████▌                | 125/500 [02:07<06:21,  1.02s/it]textattack: Saving checkpoint under \"checkpoints\\1720194313149.ta.chkpt\" at 2024-07-05 23:45:13 after 125 attacks.\n"
     ]
    },
    {
     "name": "stdout",
     "output_type": "stream",
     "text": [
      "\n",
      "\n",
      "=============================================================================================================================\n",
      "=============================================================================================================================\n",
      "\n"
     ]
    },
    {
     "name": "stderr",
     "output_type": "stream",
     "text": [
      "[Succeeded / Failed / Skipped / Total] 98 / 0 / 32 / 130:  26%|█████▋                | 130/500 [02:11<06:15,  1.01s/it]textattack: Saving checkpoint under \"checkpoints\\1720194317854.ta.chkpt\" at 2024-07-05 23:45:17 after 130 attacks.\n",
      "[Succeeded / Failed / Skipped / Total] 98 / 0 / 33 / 131:  26%|█████▊                | 131/500 [02:11<06:11,  1.01s/it]"
     ]
    },
    {
     "name": "stdout",
     "output_type": "stream",
     "text": [
      "\n",
      "\n",
      "=============================================================================================================================\n",
      "=============================================================================================================================\n",
      "\n"
     ]
    },
    {
     "name": "stderr",
     "output_type": "stream",
     "text": [
      "[Succeeded / Failed / Skipped / Total] 101 / 0 / 34 / 135:  27%|█████▋               | 135/500 [02:15<06:07,  1.01s/it]textattack: Saving checkpoint under \"checkpoints\\1720194321860.ta.chkpt\" at 2024-07-05 23:45:21 after 135 attacks.\n"
     ]
    },
    {
     "name": "stdout",
     "output_type": "stream",
     "text": [
      "\n",
      "\n",
      "=============================================================================================================================\n",
      "=============================================================================================================================\n",
      "\n"
     ]
    },
    {
     "name": "stderr",
     "output_type": "stream",
     "text": [
      "[Succeeded / Failed / Skipped / Total] 104 / 0 / 36 / 140:  28%|█████▉               | 140/500 [02:18<05:57,  1.01it/s]textattack: Saving checkpoint under \"checkpoints\\1720194324972.ta.chkpt\" at 2024-07-05 23:45:24 after 140 attacks.\n"
     ]
    },
    {
     "name": "stdout",
     "output_type": "stream",
     "text": [
      "\n",
      "\n",
      "=============================================================================================================================\n",
      "=============================================================================================================================\n",
      "\n"
     ]
    },
    {
     "name": "stderr",
     "output_type": "stream",
     "text": [
      "[Succeeded / Failed / Skipped / Total] 107 / 0 / 38 / 145:  29%|██████               | 145/500 [02:21<05:47,  1.02it/s]textattack: Saving checkpoint under \"checkpoints\\1720194327811.ta.chkpt\" at 2024-07-05 23:45:27 after 145 attacks.\n",
      "[Succeeded / Failed / Skipped / Total] 107 / 0 / 39 / 146:  29%|██████▏              | 146/500 [02:21<05:43,  1.03it/s]"
     ]
    },
    {
     "name": "stdout",
     "output_type": "stream",
     "text": [
      "\n",
      "\n",
      "=============================================================================================================================\n",
      "=============================================================================================================================\n",
      "\n"
     ]
    },
    {
     "name": "stderr",
     "output_type": "stream",
     "text": [
      "[Succeeded / Failed / Skipped / Total] 110 / 0 / 40 / 150:  30%|██████▎              | 150/500 [02:24<05:38,  1.04it/s]textattack: Saving checkpoint under \"checkpoints\\1720194330978.ta.chkpt\" at 2024-07-05 23:45:30 after 150 attacks.\n",
      "[Succeeded / Failed / Skipped / Total] 110 / 0 / 41 / 151:  30%|██████▎              | 151/500 [02:25<05:35,  1.04it/s]"
     ]
    },
    {
     "name": "stdout",
     "output_type": "stream",
     "text": [
      "\n",
      "\n",
      "=============================================================================================================================\n",
      "=============================================================================================================================\n",
      "\n"
     ]
    },
    {
     "name": "stderr",
     "output_type": "stream",
     "text": [
      "[Succeeded / Failed / Skipped / Total] 112 / 1 / 42 / 155:  31%|██████▌              | 155/500 [02:31<05:36,  1.03it/s]textattack: Saving checkpoint under \"checkpoints\\1720194337158.ta.chkpt\" at 2024-07-05 23:45:37 after 155 attacks.\n"
     ]
    },
    {
     "name": "stdout",
     "output_type": "stream",
     "text": [
      "\n",
      "\n",
      "=============================================================================================================================\n",
      "=============================================================================================================================\n",
      "\n"
     ]
    },
    {
     "name": "stderr",
     "output_type": "stream",
     "text": [
      "[Succeeded / Failed / Skipped / Total] 115 / 1 / 44 / 160:  32%|██████▋              | 160/500 [02:40<05:40,  1.00s/it]textattack: Saving checkpoint under \"checkpoints\\1720194346503.ta.chkpt\" at 2024-07-05 23:45:46 after 160 attacks.\n",
      "[Succeeded / Failed / Skipped / Total] 115 / 1 / 45 / 161:  32%|██████▊              | 161/500 [02:40<05:37,  1.00it/s]"
     ]
    },
    {
     "name": "stdout",
     "output_type": "stream",
     "text": [
      "\n",
      "\n",
      "=============================================================================================================================\n",
      "=============================================================================================================================\n",
      "\n"
     ]
    },
    {
     "name": "stderr",
     "output_type": "stream",
     "text": [
      "[Succeeded / Failed / Skipped / Total] 117 / 1 / 47 / 165:  33%|██████▉              | 165/500 [02:42<05:30,  1.01it/s]textattack: Saving checkpoint under \"checkpoints\\1720194348941.ta.chkpt\" at 2024-07-05 23:45:48 after 165 attacks.\n"
     ]
    },
    {
     "name": "stdout",
     "output_type": "stream",
     "text": [
      "\n",
      "\n",
      "=============================================================================================================================\n",
      "=============================================================================================================================\n",
      "\n"
     ]
    },
    {
     "name": "stderr",
     "output_type": "stream",
     "text": [
      "[Succeeded / Failed / Skipped / Total] 120 / 1 / 49 / 170:  34%|███████▏             | 170/500 [02:46<05:22,  1.02it/s]textattack: Saving checkpoint under \"checkpoints\\1720194352107.ta.chkpt\" at 2024-07-05 23:45:52 after 170 attacks.\n"
     ]
    },
    {
     "name": "stdout",
     "output_type": "stream",
     "text": [
      "\n",
      "\n",
      "=============================================================================================================================\n",
      "=============================================================================================================================\n",
      "\n"
     ]
    },
    {
     "name": "stderr",
     "output_type": "stream",
     "text": [
      "[Succeeded / Failed / Skipped / Total] 125 / 1 / 49 / 175:  35%|███████▎             | 175/500 [02:58<05:32,  1.02s/it]textattack: Saving checkpoint under \"checkpoints\\1720194364948.ta.chkpt\" at 2024-07-05 23:46:04 after 175 attacks.\n",
      "[Succeeded / Failed / Skipped / Total] 125 / 1 / 50 / 176:  35%|███████▍             | 176/500 [02:58<05:29,  1.02s/it]"
     ]
    },
    {
     "name": "stdout",
     "output_type": "stream",
     "text": [
      "\n",
      "\n",
      "=============================================================================================================================\n",
      "=============================================================================================================================\n",
      "\n"
     ]
    },
    {
     "name": "stderr",
     "output_type": "stream",
     "text": [
      "[Succeeded / Failed / Skipped / Total] 128 / 1 / 51 / 180:  36%|███████▌             | 180/500 [03:02<05:23,  1.01s/it]textattack: Saving checkpoint under \"checkpoints\\1720194368063.ta.chkpt\" at 2024-07-05 23:46:08 after 180 attacks.\n"
     ]
    },
    {
     "name": "stdout",
     "output_type": "stream",
     "text": [
      "\n",
      "\n",
      "=============================================================================================================================\n",
      "=============================================================================================================================\n",
      "\n"
     ]
    },
    {
     "name": "stderr",
     "output_type": "stream",
     "text": [
      "[Succeeded / Failed / Skipped / Total] 131 / 1 / 53 / 185:  37%|███████▊             | 185/500 [03:04<05:13,  1.00it/s]textattack: Saving checkpoint under \"checkpoints\\1720194370156.ta.chkpt\" at 2024-07-05 23:46:10 after 185 attacks.\n",
      "[Succeeded / Failed / Skipped / Total] 131 / 1 / 54 / 186:  37%|███████▊             | 186/500 [03:04<05:10,  1.01it/s]"
     ]
    },
    {
     "name": "stdout",
     "output_type": "stream",
     "text": [
      "\n",
      "\n",
      "=============================================================================================================================\n",
      "=============================================================================================================================\n",
      "\n"
     ]
    },
    {
     "name": "stderr",
     "output_type": "stream",
     "text": [
      "[Succeeded / Failed / Skipped / Total] 135 / 1 / 54 / 190:  38%|███████▉             | 190/500 [03:09<05:08,  1.00it/s]textattack: Saving checkpoint under \"checkpoints\\1720194375215.ta.chkpt\" at 2024-07-05 23:46:15 after 190 attacks.\n"
     ]
    },
    {
     "name": "stdout",
     "output_type": "stream",
     "text": [
      "\n",
      "\n",
      "=============================================================================================================================\n",
      "=============================================================================================================================\n",
      "\n"
     ]
    },
    {
     "name": "stderr",
     "output_type": "stream",
     "text": [
      "[Succeeded / Failed / Skipped / Total] 138 / 1 / 56 / 195:  39%|████████▏            | 195/500 [03:13<05:02,  1.01it/s]textattack: Saving checkpoint under \"checkpoints\\1720194379637.ta.chkpt\" at 2024-07-05 23:46:19 after 195 attacks.\n"
     ]
    },
    {
     "name": "stdout",
     "output_type": "stream",
     "text": [
      "\n",
      "\n",
      "=============================================================================================================================\n",
      "=============================================================================================================================\n",
      "\n"
     ]
    },
    {
     "name": "stderr",
     "output_type": "stream",
     "text": [
      "[Succeeded / Failed / Skipped / Total] 142 / 1 / 57 / 200:  40%|████████▍            | 200/500 [03:19<04:59,  1.00it/s]textattack: Saving checkpoint under \"checkpoints\\1720194385719.ta.chkpt\" at 2024-07-05 23:46:25 after 200 attacks.\n"
     ]
    },
    {
     "name": "stdout",
     "output_type": "stream",
     "text": [
      "\n",
      "\n",
      "=============================================================================================================================\n",
      "=============================================================================================================================\n",
      "\n"
     ]
    },
    {
     "name": "stderr",
     "output_type": "stream",
     "text": [
      "[Succeeded / Failed / Skipped / Total] 146 / 1 / 58 / 205:  41%|████████▌            | 205/500 [03:26<04:56,  1.01s/it]textattack: Saving checkpoint under \"checkpoints\\1720194392288.ta.chkpt\" at 2024-07-05 23:46:32 after 205 attacks.\n",
      "[Succeeded / Failed / Skipped / Total] 146 / 1 / 59 / 206:  41%|████████▋            | 206/500 [03:26<04:54,  1.00s/it]"
     ]
    },
    {
     "name": "stdout",
     "output_type": "stream",
     "text": [
      "\n",
      "\n",
      "=============================================================================================================================\n",
      "=============================================================================================================================\n",
      "\n"
     ]
    },
    {
     "name": "stderr",
     "output_type": "stream",
     "text": [
      "[Succeeded / Failed / Skipped / Total] 148 / 1 / 61 / 210:  42%|████████▊            | 210/500 [03:28<04:47,  1.01it/s]textattack: Saving checkpoint under \"checkpoints\\1720194394141.ta.chkpt\" at 2024-07-05 23:46:34 after 210 attacks.\n"
     ]
    },
    {
     "name": "stdout",
     "output_type": "stream",
     "text": [
      "\n",
      "\n",
      "=============================================================================================================================\n",
      "=============================================================================================================================\n",
      "\n"
     ]
    },
    {
     "name": "stderr",
     "output_type": "stream",
     "text": [
      "[Succeeded / Failed / Skipped / Total] 151 / 1 / 63 / 215:  43%|█████████            | 215/500 [03:35<04:45,  1.00s/it]textattack: Saving checkpoint under \"checkpoints\\1720194401297.ta.chkpt\" at 2024-07-05 23:46:41 after 215 attacks.\n"
     ]
    },
    {
     "name": "stdout",
     "output_type": "stream",
     "text": [
      "\n",
      "\n",
      "=============================================================================================================================\n",
      "=============================================================================================================================\n",
      "\n"
     ]
    },
    {
     "name": "stderr",
     "output_type": "stream",
     "text": [
      "[Succeeded / Failed / Skipped / Total] 156 / 1 / 63 / 220:  44%|█████████▏           | 220/500 [03:39<04:39,  1.00it/s]textattack: Saving checkpoint under \"checkpoints\\1720194405623.ta.chkpt\" at 2024-07-05 23:46:45 after 220 attacks.\n"
     ]
    },
    {
     "name": "stdout",
     "output_type": "stream",
     "text": [
      "\n",
      "\n",
      "=============================================================================================================================\n",
      "=============================================================================================================================\n",
      "\n"
     ]
    },
    {
     "name": "stderr",
     "output_type": "stream",
     "text": [
      "[Succeeded / Failed / Skipped / Total] 159 / 1 / 65 / 225:  45%|█████████▍           | 225/500 [03:46<04:36,  1.00s/it]textattack: Saving checkpoint under \"checkpoints\\1720194412106.ta.chkpt\" at 2024-07-05 23:46:52 after 225 attacks.\n"
     ]
    },
    {
     "name": "stdout",
     "output_type": "stream",
     "text": [
      "\n",
      "\n",
      "=============================================================================================================================\n",
      "=============================================================================================================================\n",
      "\n"
     ]
    },
    {
     "name": "stderr",
     "output_type": "stream",
     "text": [
      "[Succeeded / Failed / Skipped / Total] 163 / 1 / 66 / 230:  46%|█████████▋           | 230/500 [03:51<04:31,  1.01s/it]textattack: Saving checkpoint under \"checkpoints\\1720194417743.ta.chkpt\" at 2024-07-05 23:46:57 after 230 attacks.\n",
      "[Succeeded / Failed / Skipped / Total] 163 / 1 / 67 / 231:  46%|█████████▋           | 231/500 [03:51<04:29,  1.00s/it]"
     ]
    },
    {
     "name": "stdout",
     "output_type": "stream",
     "text": [
      "\n",
      "\n",
      "=============================================================================================================================\n",
      "=============================================================================================================================\n",
      "\n"
     ]
    },
    {
     "name": "stderr",
     "output_type": "stream",
     "text": [
      "[Succeeded / Failed / Skipped / Total] 166 / 1 / 68 / 235:  47%|█████████▊           | 235/500 [03:56<04:26,  1.00s/it]textattack: Saving checkpoint under \"checkpoints\\1720194422225.ta.chkpt\" at 2024-07-05 23:47:02 after 235 attacks.\n"
     ]
    },
    {
     "name": "stdout",
     "output_type": "stream",
     "text": [
      "\n",
      "\n",
      "=============================================================================================================================\n",
      "=============================================================================================================================\n",
      "\n"
     ]
    },
    {
     "name": "stderr",
     "output_type": "stream",
     "text": [
      "[Succeeded / Failed / Skipped / Total] 171 / 1 / 68 / 240:  48%|██████████           | 240/500 [04:02<04:22,  1.01s/it]textattack: Saving checkpoint under \"checkpoints\\1720194428760.ta.chkpt\" at 2024-07-05 23:47:08 after 240 attacks.\n",
      "[Succeeded / Failed / Skipped / Total] 171 / 1 / 70 / 242:  48%|██████████▏          | 242/500 [04:02<04:18,  1.00s/it]"
     ]
    },
    {
     "name": "stdout",
     "output_type": "stream",
     "text": [
      "\n",
      "\n",
      "=============================================================================================================================\n",
      "=============================================================================================================================\n",
      "\n"
     ]
    },
    {
     "name": "stderr",
     "output_type": "stream",
     "text": [
      "[Succeeded / Failed / Skipped / Total] 174 / 1 / 70 / 245:  49%|██████████▎          | 245/500 [04:07<04:17,  1.01s/it]textattack: Saving checkpoint under \"checkpoints\\1720194433186.ta.chkpt\" at 2024-07-05 23:47:13 after 245 attacks.\n"
     ]
    },
    {
     "name": "stdout",
     "output_type": "stream",
     "text": [
      "\n",
      "\n",
      "=============================================================================================================================\n",
      "=============================================================================================================================\n",
      "\n"
     ]
    },
    {
     "name": "stderr",
     "output_type": "stream",
     "text": [
      "[Succeeded / Failed / Skipped / Total] 176 / 1 / 73 / 250:  50%|██████████▌          | 250/500 [04:08<04:08,  1.01it/s]textattack: Saving checkpoint under \"checkpoints\\1720194434532.ta.chkpt\" at 2024-07-05 23:47:14 after 250 attacks.\n",
      "[Succeeded / Failed / Skipped / Total] 176 / 1 / 74 / 251:  50%|██████████▌          | 251/500 [04:08<04:06,  1.01it/s]"
     ]
    },
    {
     "name": "stdout",
     "output_type": "stream",
     "text": [
      "\n",
      "\n",
      "=============================================================================================================================\n",
      "=============================================================================================================================\n",
      "\n"
     ]
    },
    {
     "name": "stderr",
     "output_type": "stream",
     "text": [
      "[Succeeded / Failed / Skipped / Total] 179 / 1 / 75 / 255:  51%|██████████▋          | 255/500 [04:14<04:04,  1.00it/s]textattack: Saving checkpoint under \"checkpoints\\1720194440488.ta.chkpt\" at 2024-07-05 23:47:20 after 255 attacks.\n"
     ]
    },
    {
     "name": "stdout",
     "output_type": "stream",
     "text": [
      "\n",
      "\n",
      "=============================================================================================================================\n",
      "=============================================================================================================================\n",
      "\n"
     ]
    },
    {
     "name": "stderr",
     "output_type": "stream",
     "text": [
      "[Succeeded / Failed / Skipped / Total] 182 / 1 / 77 / 260:  52%|██████████▉          | 260/500 [04:18<03:58,  1.01it/s]textattack: Saving checkpoint under \"checkpoints\\1720194444495.ta.chkpt\" at 2024-07-05 23:47:24 after 260 attacks.\n"
     ]
    },
    {
     "name": "stdout",
     "output_type": "stream",
     "text": [
      "\n",
      "\n",
      "=============================================================================================================================\n",
      "=============================================================================================================================\n",
      "\n"
     ]
    },
    {
     "name": "stderr",
     "output_type": "stream",
     "text": [
      "[Succeeded / Failed / Skipped / Total] 187 / 1 / 77 / 265:  53%|███████████▏         | 265/500 [04:25<03:55,  1.00s/it]textattack: Saving checkpoint under \"checkpoints\\1720194451782.ta.chkpt\" at 2024-07-05 23:47:31 after 265 attacks.\n"
     ]
    },
    {
     "name": "stdout",
     "output_type": "stream",
     "text": [
      "\n",
      "\n",
      "=============================================================================================================================\n",
      "=============================================================================================================================\n",
      "\n"
     ]
    },
    {
     "name": "stderr",
     "output_type": "stream",
     "text": [
      "[Succeeded / Failed / Skipped / Total] 190 / 1 / 79 / 270:  54%|███████████▎         | 270/500 [04:32<03:52,  1.01s/it]textattack: Saving checkpoint under \"checkpoints\\1720194458702.ta.chkpt\" at 2024-07-05 23:47:38 after 270 attacks.\n",
      "[Succeeded / Failed / Skipped / Total] 190 / 1 / 80 / 271:  54%|███████████▍         | 271/500 [04:32<03:50,  1.01s/it]"
     ]
    },
    {
     "name": "stdout",
     "output_type": "stream",
     "text": [
      "\n",
      "\n",
      "=============================================================================================================================\n",
      "=============================================================================================================================\n",
      "\n"
     ]
    },
    {
     "name": "stderr",
     "output_type": "stream",
     "text": [
      "[Succeeded / Failed / Skipped / Total] 193 / 1 / 81 / 275:  55%|███████████▌         | 275/500 [04:35<03:45,  1.00s/it]textattack: Saving checkpoint under \"checkpoints\\1720194461166.ta.chkpt\" at 2024-07-05 23:47:41 after 275 attacks.\n"
     ]
    },
    {
     "name": "stdout",
     "output_type": "stream",
     "text": [
      "\n",
      "\n",
      "=============================================================================================================================\n",
      "=============================================================================================================================\n",
      "\n"
     ]
    },
    {
     "name": "stderr",
     "output_type": "stream",
     "text": [
      "[Succeeded / Failed / Skipped / Total] 197 / 1 / 82 / 280:  56%|███████████▊         | 280/500 [04:38<03:39,  1.00it/s]textattack: Saving checkpoint under \"checkpoints\\1720194464953.ta.chkpt\" at 2024-07-05 23:47:44 after 280 attacks.\n"
     ]
    },
    {
     "name": "stdout",
     "output_type": "stream",
     "text": [
      "\n",
      "\n",
      "=============================================================================================================================\n",
      "=============================================================================================================================\n",
      "\n"
     ]
    },
    {
     "name": "stderr",
     "output_type": "stream",
     "text": [
      "[Succeeded / Failed / Skipped / Total] 200 / 1 / 84 / 285:  57%|███████████▉         | 285/500 [04:42<03:33,  1.01it/s]textattack: Saving checkpoint under \"checkpoints\\1720194468667.ta.chkpt\" at 2024-07-05 23:47:48 after 285 attacks.\n"
     ]
    },
    {
     "name": "stdout",
     "output_type": "stream",
     "text": [
      "\n",
      "\n",
      "=============================================================================================================================\n",
      "=============================================================================================================================\n",
      "\n"
     ]
    },
    {
     "name": "stderr",
     "output_type": "stream",
     "text": [
      "[Succeeded / Failed / Skipped / Total] 205 / 1 / 84 / 290:  58%|████████████▏        | 290/500 [04:48<03:29,  1.00it/s]textattack: Saving checkpoint under \"checkpoints\\1720194474883.ta.chkpt\" at 2024-07-05 23:47:54 after 290 attacks.\n",
      "[Succeeded / Failed / Skipped / Total] 205 / 1 / 86 / 292:  58%|████████████▎        | 292/500 [04:48<03:25,  1.01it/s]"
     ]
    },
    {
     "name": "stdout",
     "output_type": "stream",
     "text": [
      "\n",
      "\n",
      "=============================================================================================================================\n",
      "=============================================================================================================================\n",
      "\n"
     ]
    },
    {
     "name": "stderr",
     "output_type": "stream",
     "text": [
      "[Succeeded / Failed / Skipped / Total] 207 / 1 / 87 / 295:  59%|████████████▍        | 295/500 [04:50<03:21,  1.02it/s]textattack: Saving checkpoint under \"checkpoints\\1720194476420.ta.chkpt\" at 2024-07-05 23:47:56 after 295 attacks.\n"
     ]
    },
    {
     "name": "stdout",
     "output_type": "stream",
     "text": [
      "\n",
      "\n",
      "=============================================================================================================================\n",
      "=============================================================================================================================\n",
      "\n"
     ]
    },
    {
     "name": "stderr",
     "output_type": "stream",
     "text": [
      "[Succeeded / Failed / Skipped / Total] 210 / 1 / 89 / 300:  60%|████████████▌        | 300/500 [04:54<03:16,  1.02it/s]textattack: Saving checkpoint under \"checkpoints\\1720194480764.ta.chkpt\" at 2024-07-05 23:48:00 after 300 attacks.\n"
     ]
    },
    {
     "name": "stdout",
     "output_type": "stream",
     "text": [
      "\n",
      "\n",
      "=============================================================================================================================\n",
      "=============================================================================================================================\n",
      "\n"
     ]
    },
    {
     "name": "stderr",
     "output_type": "stream",
     "text": [
      "[Succeeded / Failed / Skipped / Total] 211 / 1 / 93 / 305:  61%|████████████▊        | 305/500 [04:56<03:09,  1.03it/s]textattack: Saving checkpoint under \"checkpoints\\1720194482942.ta.chkpt\" at 2024-07-05 23:48:02 after 305 attacks.\n"
     ]
    },
    {
     "name": "stdout",
     "output_type": "stream",
     "text": [
      "\n",
      "\n",
      "=============================================================================================================================\n",
      "=============================================================================================================================\n",
      "\n"
     ]
    },
    {
     "name": "stderr",
     "output_type": "stream",
     "text": [
      "[Succeeded / Failed / Skipped / Total] 214 / 2 / 94 / 310:  62%|█████████████        | 310/500 [05:01<03:04,  1.03it/s]textattack: Saving checkpoint under \"checkpoints\\1720194487101.ta.chkpt\" at 2024-07-05 23:48:07 after 310 attacks.\n"
     ]
    },
    {
     "name": "stdout",
     "output_type": "stream",
     "text": [
      "\n",
      "\n",
      "=============================================================================================================================\n",
      "=============================================================================================================================\n",
      "\n"
     ]
    },
    {
     "name": "stderr",
     "output_type": "stream",
     "text": [
      "[Succeeded / Failed / Skipped / Total] 217 / 2 / 96 / 315:  63%|█████████████▏       | 315/500 [05:06<02:59,  1.03it/s]textattack: Saving checkpoint under \"checkpoints\\1720194492492.ta.chkpt\" at 2024-07-05 23:48:12 after 315 attacks.\n",
      "[Succeeded / Failed / Skipped / Total] 217 / 2 / 97 / 316:  63%|█████████████▎       | 316/500 [05:06<02:58,  1.03it/s]"
     ]
    },
    {
     "name": "stdout",
     "output_type": "stream",
     "text": [
      "\n",
      "\n",
      "=============================================================================================================================\n",
      "=============================================================================================================================\n",
      "\n"
     ]
    },
    {
     "name": "stderr",
     "output_type": "stream",
     "text": [
      "[Succeeded / Failed / Skipped / Total] 220 / 2 / 98 / 320:  64%|█████████████▍       | 320/500 [05:17<02:58,  1.01it/s]textattack: Saving checkpoint under \"checkpoints\\1720194503101.ta.chkpt\" at 2024-07-05 23:48:23 after 320 attacks.\n",
      "[Succeeded / Failed / Skipped / Total] 220 / 2 / 99 / 321:  64%|█████████████▍       | 321/500 [05:17<02:56,  1.01it/s]"
     ]
    },
    {
     "name": "stdout",
     "output_type": "stream",
     "text": [
      "\n",
      "\n",
      "=============================================================================================================================\n",
      "=============================================================================================================================\n",
      "\n"
     ]
    },
    {
     "name": "stderr",
     "output_type": "stream",
     "text": [
      "[Succeeded / Failed / Skipped / Total] 224 / 2 / 99 / 325:  65%|█████████████▋       | 325/500 [05:23<02:54,  1.00it/s]textattack: Saving checkpoint under \"checkpoints\\1720194510042.ta.chkpt\" at 2024-07-05 23:48:30 after 325 attacks.\n",
      "[Succeeded / Failed / Skipped / Total] 224 / 2 / 100 / 326:  65%|█████████████       | 326/500 [05:24<02:52,  1.01it/s]"
     ]
    },
    {
     "name": "stdout",
     "output_type": "stream",
     "text": [
      "\n",
      "\n",
      "=============================================================================================================================\n",
      "=============================================================================================================================\n",
      "\n"
     ]
    },
    {
     "name": "stderr",
     "output_type": "stream",
     "text": [
      "[Succeeded / Failed / Skipped / Total] 228 / 2 / 100 / 330:  66%|█████████████▏      | 330/500 [05:28<02:48,  1.01it/s]textattack: Saving checkpoint under \"checkpoints\\1720194514094.ta.chkpt\" at 2024-07-05 23:48:34 after 330 attacks.\n"
     ]
    },
    {
     "name": "stdout",
     "output_type": "stream",
     "text": [
      "\n",
      "\n",
      "=============================================================================================================================\n",
      "=============================================================================================================================\n",
      "\n"
     ]
    },
    {
     "name": "stderr",
     "output_type": "stream",
     "text": [
      "[Succeeded / Failed / Skipped / Total] 233 / 2 / 100 / 335:  67%|█████████████▍      | 335/500 [05:33<02:44,  1.00it/s]textattack: Saving checkpoint under \"checkpoints\\1720194519541.ta.chkpt\" at 2024-07-05 23:48:39 after 335 attacks.\n"
     ]
    },
    {
     "name": "stdout",
     "output_type": "stream",
     "text": [
      "\n",
      "\n",
      "=============================================================================================================================\n",
      "=============================================================================================================================\n",
      "\n"
     ]
    },
    {
     "name": "stderr",
     "output_type": "stream",
     "text": [
      "[Succeeded / Failed / Skipped / Total] 236 / 2 / 102 / 340:  68%|█████████████▌      | 340/500 [05:36<02:38,  1.01it/s]textattack: Saving checkpoint under \"checkpoints\\1720194522665.ta.chkpt\" at 2024-07-05 23:48:42 after 340 attacks.\n"
     ]
    },
    {
     "name": "stdout",
     "output_type": "stream",
     "text": [
      "\n",
      "\n",
      "=============================================================================================================================\n",
      "=============================================================================================================================\n",
      "\n"
     ]
    },
    {
     "name": "stderr",
     "output_type": "stream",
     "text": [
      "[Succeeded / Failed / Skipped / Total] 239 / 2 / 104 / 345:  69%|█████████████▊      | 345/500 [05:39<02:32,  1.02it/s]textattack: Saving checkpoint under \"checkpoints\\1720194525853.ta.chkpt\" at 2024-07-05 23:48:45 after 345 attacks.\n"
     ]
    },
    {
     "name": "stdout",
     "output_type": "stream",
     "text": [
      "\n",
      "\n",
      "=============================================================================================================================\n",
      "=============================================================================================================================\n",
      "\n"
     ]
    },
    {
     "name": "stderr",
     "output_type": "stream",
     "text": [
      "[Succeeded / Failed / Skipped / Total] 244 / 2 / 104 / 350:  70%|██████████████      | 350/500 [05:46<02:28,  1.01it/s]textattack: Saving checkpoint under \"checkpoints\\1720194532712.ta.chkpt\" at 2024-07-05 23:48:52 after 350 attacks.\n"
     ]
    },
    {
     "name": "stdout",
     "output_type": "stream",
     "text": [
      "\n",
      "\n",
      "=============================================================================================================================\n",
      "=============================================================================================================================\n",
      "\n"
     ]
    },
    {
     "name": "stderr",
     "output_type": "stream",
     "text": [
      "[Succeeded / Failed / Skipped / Total] 249 / 2 / 104 / 355:  71%|██████████████▏     | 355/500 [05:55<02:25,  1.00s/it]textattack: Saving checkpoint under \"checkpoints\\1720194541323.ta.chkpt\" at 2024-07-05 23:49:01 after 355 attacks.\n"
     ]
    },
    {
     "name": "stdout",
     "output_type": "stream",
     "text": [
      "\n",
      "\n",
      "=============================================================================================================================\n",
      "=============================================================================================================================\n",
      "\n"
     ]
    },
    {
     "name": "stderr",
     "output_type": "stream",
     "text": [
      "[Succeeded / Failed / Skipped / Total] 252 / 2 / 106 / 360:  72%|██████████████▍     | 360/500 [05:59<02:19,  1.00it/s]textattack: Saving checkpoint under \"checkpoints\\1720194545290.ta.chkpt\" at 2024-07-05 23:49:05 after 360 attacks.\n"
     ]
    },
    {
     "name": "stdout",
     "output_type": "stream",
     "text": [
      "\n",
      "\n",
      "=============================================================================================================================\n",
      "=============================================================================================================================\n",
      "\n"
     ]
    },
    {
     "name": "stderr",
     "output_type": "stream",
     "text": [
      "[Succeeded / Failed / Skipped / Total] 257 / 2 / 106 / 365:  73%|██████████████▌     | 365/500 [06:05<02:15,  1.00s/it]textattack: Saving checkpoint under \"checkpoints\\1720194551068.ta.chkpt\" at 2024-07-05 23:49:11 after 365 attacks.\n"
     ]
    },
    {
     "name": "stdout",
     "output_type": "stream",
     "text": [
      "\n",
      "\n",
      "=============================================================================================================================\n",
      "=============================================================================================================================\n",
      "\n"
     ]
    },
    {
     "name": "stderr",
     "output_type": "stream",
     "text": [
      "[Succeeded / Failed / Skipped / Total] 262 / 2 / 106 / 370:  74%|██████████████▊     | 370/500 [06:08<02:09,  1.00it/s]textattack: Saving checkpoint under \"checkpoints\\1720194554383.ta.chkpt\" at 2024-07-05 23:49:14 after 370 attacks.\n"
     ]
    },
    {
     "name": "stdout",
     "output_type": "stream",
     "text": [
      "\n",
      "\n",
      "=============================================================================================================================\n",
      "=============================================================================================================================\n",
      "\n"
     ]
    },
    {
     "name": "stderr",
     "output_type": "stream",
     "text": [
      "[Succeeded / Failed / Skipped / Total] 266 / 2 / 107 / 375:  75%|███████████████     | 375/500 [06:12<02:04,  1.01it/s]textattack: Saving checkpoint under \"checkpoints\\1720194558892.ta.chkpt\" at 2024-07-05 23:49:18 after 375 attacks.\n"
     ]
    },
    {
     "name": "stdout",
     "output_type": "stream",
     "text": [
      "\n",
      "\n",
      "=============================================================================================================================\n",
      "=============================================================================================================================\n",
      "\n"
     ]
    },
    {
     "name": "stderr",
     "output_type": "stream",
     "text": [
      "[Succeeded / Failed / Skipped / Total] 270 / 2 / 108 / 380:  76%|███████████████▏    | 380/500 [06:16<01:58,  1.01it/s]textattack: Saving checkpoint under \"checkpoints\\1720194562466.ta.chkpt\" at 2024-07-05 23:49:22 after 380 attacks.\n"
     ]
    },
    {
     "name": "stdout",
     "output_type": "stream",
     "text": [
      "\n",
      "\n",
      "=============================================================================================================================\n",
      "=============================================================================================================================\n",
      "\n"
     ]
    },
    {
     "name": "stderr",
     "output_type": "stream",
     "text": [
      "[Succeeded / Failed / Skipped / Total] 274 / 2 / 109 / 385:  77%|███████████████▍    | 385/500 [06:18<01:53,  1.02it/s]textattack: Saving checkpoint under \"checkpoints\\1720194564767.ta.chkpt\" at 2024-07-05 23:49:24 after 385 attacks.\n"
     ]
    },
    {
     "name": "stdout",
     "output_type": "stream",
     "text": [
      "\n",
      "\n",
      "=============================================================================================================================\n",
      "=============================================================================================================================\n",
      "\n"
     ]
    },
    {
     "name": "stderr",
     "output_type": "stream",
     "text": [
      "[Succeeded / Failed / Skipped / Total] 278 / 2 / 110 / 390:  78%|███████████████▌    | 390/500 [06:22<01:47,  1.02it/s]textattack: Saving checkpoint under \"checkpoints\\1720194568818.ta.chkpt\" at 2024-07-05 23:49:28 after 390 attacks.\n"
     ]
    },
    {
     "name": "stdout",
     "output_type": "stream",
     "text": [
      "\n",
      "\n",
      "=============================================================================================================================\n",
      "=============================================================================================================================\n",
      "\n"
     ]
    },
    {
     "name": "stderr",
     "output_type": "stream",
     "text": [
      "[Succeeded / Failed / Skipped / Total] 283 / 2 / 110 / 395:  79%|███████████████▊    | 395/500 [06:30<01:43,  1.01it/s]textattack: Saving checkpoint under \"checkpoints\\1720194576357.ta.chkpt\" at 2024-07-05 23:49:36 after 395 attacks.\n"
     ]
    },
    {
     "name": "stdout",
     "output_type": "stream",
     "text": [
      "\n",
      "\n",
      "=============================================================================================================================\n",
      "=============================================================================================================================\n",
      "\n"
     ]
    },
    {
     "name": "stderr",
     "output_type": "stream",
     "text": [
      "[Succeeded / Failed / Skipped / Total] 288 / 2 / 110 / 400:  80%|████████████████    | 400/500 [06:38<01:39,  1.00it/s]textattack: Saving checkpoint under \"checkpoints\\1720194584177.ta.chkpt\" at 2024-07-05 23:49:44 after 400 attacks.\n",
      "[Succeeded / Failed / Skipped / Total] 288 / 2 / 111 / 401:  80%|████████████████    | 401/500 [06:38<01:38,  1.01it/s]"
     ]
    },
    {
     "name": "stdout",
     "output_type": "stream",
     "text": [
      "\n",
      "\n",
      "=============================================================================================================================\n",
      "=============================================================================================================================\n",
      "\n"
     ]
    },
    {
     "name": "stderr",
     "output_type": "stream",
     "text": [
      "[Succeeded / Failed / Skipped / Total] 292 / 2 / 111 / 405:  81%|████████████████▏   | 405/500 [06:46<01:35,  1.00s/it]textattack: Saving checkpoint under \"checkpoints\\1720194592108.ta.chkpt\" at 2024-07-05 23:49:52 after 405 attacks.\n"
     ]
    },
    {
     "name": "stdout",
     "output_type": "stream",
     "text": [
      "\n",
      "\n",
      "=============================================================================================================================\n",
      "=============================================================================================================================\n",
      "\n"
     ]
    },
    {
     "name": "stderr",
     "output_type": "stream",
     "text": [
      "[Succeeded / Failed / Skipped / Total] 296 / 2 / 112 / 410:  82%|████████████████▍   | 410/500 [06:49<01:29,  1.00it/s]textattack: Saving checkpoint under \"checkpoints\\1720194595642.ta.chkpt\" at 2024-07-05 23:49:55 after 410 attacks.\n"
     ]
    },
    {
     "name": "stdout",
     "output_type": "stream",
     "text": [
      "\n",
      "\n",
      "=============================================================================================================================\n",
      "=============================================================================================================================\n",
      "\n"
     ]
    },
    {
     "name": "stderr",
     "output_type": "stream",
     "text": [
      "[Succeeded / Failed / Skipped / Total] 298 / 2 / 115 / 415:  83%|████████████████▌   | 415/500 [06:50<01:24,  1.01it/s]textattack: Saving checkpoint under \"checkpoints\\1720194596952.ta.chkpt\" at 2024-07-05 23:49:56 after 415 attacks.\n"
     ]
    },
    {
     "name": "stdout",
     "output_type": "stream",
     "text": [
      "\n",
      "\n",
      "=============================================================================================================================\n",
      "=============================================================================================================================\n",
      "\n"
     ]
    },
    {
     "name": "stderr",
     "output_type": "stream",
     "text": [
      "[Succeeded / Failed / Skipped / Total] 300 / 3 / 117 / 420:  84%|████████████████▊   | 420/500 [07:00<01:20,  1.00s/it]textattack: Saving checkpoint under \"checkpoints\\1720194606730.ta.chkpt\" at 2024-07-05 23:50:06 after 420 attacks.\n"
     ]
    },
    {
     "name": "stdout",
     "output_type": "stream",
     "text": [
      "\n",
      "\n",
      "=============================================================================================================================\n",
      "=============================================================================================================================\n",
      "\n"
     ]
    },
    {
     "name": "stderr",
     "output_type": "stream",
     "text": [
      "[Succeeded / Failed / Skipped / Total] 305 / 3 / 117 / 425:  85%|█████████████████   | 425/500 [07:07<01:15,  1.01s/it]textattack: Saving checkpoint under \"checkpoints\\1720194613331.ta.chkpt\" at 2024-07-05 23:50:13 after 425 attacks.\n"
     ]
    },
    {
     "name": "stdout",
     "output_type": "stream",
     "text": [
      "\n",
      "\n",
      "=============================================================================================================================\n",
      "=============================================================================================================================\n",
      "\n"
     ]
    },
    {
     "name": "stderr",
     "output_type": "stream",
     "text": [
      "[Succeeded / Failed / Skipped / Total] 310 / 3 / 117 / 430:  86%|█████████████████▏  | 430/500 [07:13<01:10,  1.01s/it]textattack: Saving checkpoint under \"checkpoints\\1720194619164.ta.chkpt\" at 2024-07-05 23:50:19 after 430 attacks.\n",
      "[Succeeded / Failed / Skipped / Total] 310 / 3 / 118 / 431:  86%|█████████████████▏  | 431/500 [07:13<01:09,  1.01s/it]"
     ]
    },
    {
     "name": "stdout",
     "output_type": "stream",
     "text": [
      "\n",
      "\n",
      "=============================================================================================================================\n",
      "=============================================================================================================================\n",
      "\n"
     ]
    },
    {
     "name": "stderr",
     "output_type": "stream",
     "text": [
      "[Succeeded / Failed / Skipped / Total] 314 / 3 / 118 / 435:  87%|█████████████████▍  | 435/500 [07:17<01:05,  1.00s/it]textattack: Saving checkpoint under \"checkpoints\\1720194623214.ta.chkpt\" at 2024-07-05 23:50:23 after 435 attacks.\n"
     ]
    },
    {
     "name": "stdout",
     "output_type": "stream",
     "text": [
      "\n",
      "\n",
      "=============================================================================================================================\n",
      "=============================================================================================================================\n",
      "\n"
     ]
    },
    {
     "name": "stderr",
     "output_type": "stream",
     "text": [
      "[Succeeded / Failed / Skipped / Total] 319 / 3 / 118 / 440:  88%|█████████████████▌  | 440/500 [07:22<01:00,  1.00s/it]textattack: Saving checkpoint under \"checkpoints\\1720194628143.ta.chkpt\" at 2024-07-05 23:50:28 after 440 attacks.\n",
      "[Succeeded / Failed / Skipped / Total] 319 / 3 / 119 / 441:  88%|█████████████████▋  | 441/500 [07:22<00:59,  1.00s/it]"
     ]
    },
    {
     "name": "stdout",
     "output_type": "stream",
     "text": [
      "\n",
      "\n",
      "=============================================================================================================================\n",
      "=============================================================================================================================\n",
      "\n"
     ]
    },
    {
     "name": "stderr",
     "output_type": "stream",
     "text": [
      "[Succeeded / Failed / Skipped / Total] 322 / 3 / 120 / 445:  89%|█████████████████▊  | 445/500 [07:25<00:55,  1.00s/it]textattack: Saving checkpoint under \"checkpoints\\1720194631504.ta.chkpt\" at 2024-07-05 23:50:31 after 445 attacks.\n"
     ]
    },
    {
     "name": "stdout",
     "output_type": "stream",
     "text": [
      "\n",
      "\n",
      "=============================================================================================================================\n",
      "=============================================================================================================================\n",
      "\n"
     ]
    },
    {
     "name": "stderr",
     "output_type": "stream",
     "text": [
      "[Succeeded / Failed / Skipped / Total] 326 / 3 / 121 / 450:  90%|██████████████████  | 450/500 [07:35<00:50,  1.01s/it]textattack: Saving checkpoint under \"checkpoints\\1720194641248.ta.chkpt\" at 2024-07-05 23:50:41 after 450 attacks.\n",
      "[Succeeded / Failed / Skipped / Total] 326 / 3 / 122 / 451:  90%|██████████████████  | 451/500 [07:35<00:49,  1.01s/it]"
     ]
    },
    {
     "name": "stdout",
     "output_type": "stream",
     "text": [
      "\n",
      "\n",
      "=============================================================================================================================\n",
      "=============================================================================================================================\n",
      "\n"
     ]
    },
    {
     "name": "stderr",
     "output_type": "stream",
     "text": [
      "[Succeeded / Failed / Skipped / Total] 329 / 3 / 123 / 455:  91%|██████████████████▏ | 455/500 [07:37<00:45,  1.01s/it]textattack: Saving checkpoint under \"checkpoints\\1720194643955.ta.chkpt\" at 2024-07-05 23:50:43 after 455 attacks.\n"
     ]
    },
    {
     "name": "stdout",
     "output_type": "stream",
     "text": [
      "\n",
      "\n",
      "=============================================================================================================================\n",
      "=============================================================================================================================\n",
      "\n"
     ]
    },
    {
     "name": "stderr",
     "output_type": "stream",
     "text": [
      "[Succeeded / Failed / Skipped / Total] 334 / 3 / 123 / 460:  92%|██████████████████▍ | 460/500 [07:45<00:40,  1.01s/it]textattack: Saving checkpoint under \"checkpoints\\1720194651290.ta.chkpt\" at 2024-07-05 23:50:51 after 460 attacks.\n"
     ]
    },
    {
     "name": "stdout",
     "output_type": "stream",
     "text": [
      "\n",
      "\n",
      "=============================================================================================================================\n",
      "=============================================================================================================================\n",
      "\n"
     ]
    },
    {
     "name": "stderr",
     "output_type": "stream",
     "text": [
      "[Succeeded / Failed / Skipped / Total] 337 / 3 / 125 / 465:  93%|██████████████████▌ | 465/500 [07:48<00:35,  1.01s/it]textattack: Saving checkpoint under \"checkpoints\\1720194654200.ta.chkpt\" at 2024-07-05 23:50:54 after 465 attacks.\n"
     ]
    },
    {
     "name": "stdout",
     "output_type": "stream",
     "text": [
      "\n",
      "\n",
      "=============================================================================================================================\n",
      "=============================================================================================================================\n",
      "\n"
     ]
    },
    {
     "name": "stderr",
     "output_type": "stream",
     "text": [
      "[Succeeded / Failed / Skipped / Total] 341 / 3 / 126 / 470:  94%|██████████████████▊ | 470/500 [07:54<00:30,  1.01s/it]textattack: Saving checkpoint under \"checkpoints\\1720194660229.ta.chkpt\" at 2024-07-05 23:51:00 after 470 attacks.\n"
     ]
    },
    {
     "name": "stdout",
     "output_type": "stream",
     "text": [
      "\n",
      "\n",
      "=============================================================================================================================\n",
      "=============================================================================================================================\n",
      "\n"
     ]
    },
    {
     "name": "stderr",
     "output_type": "stream",
     "text": [
      "[Succeeded / Failed / Skipped / Total] 346 / 3 / 126 / 475:  95%|███████████████████ | 475/500 [08:03<00:25,  1.02s/it]textattack: Saving checkpoint under \"checkpoints\\1720194669259.ta.chkpt\" at 2024-07-05 23:51:09 after 475 attacks.\n"
     ]
    },
    {
     "name": "stdout",
     "output_type": "stream",
     "text": [
      "\n",
      "\n",
      "=============================================================================================================================\n",
      "=============================================================================================================================\n",
      "\n"
     ]
    },
    {
     "name": "stderr",
     "output_type": "stream",
     "text": [
      "[Succeeded / Failed / Skipped / Total] 351 / 3 / 126 / 480:  96%|███████████████████▏| 480/500 [08:09<00:20,  1.02s/it]textattack: Saving checkpoint under \"checkpoints\\1720194675547.ta.chkpt\" at 2024-07-05 23:51:15 after 480 attacks.\n"
     ]
    },
    {
     "name": "stdout",
     "output_type": "stream",
     "text": [
      "\n",
      "\n",
      "=============================================================================================================================\n",
      "=============================================================================================================================\n",
      "\n"
     ]
    },
    {
     "name": "stderr",
     "output_type": "stream",
     "text": [
      "[Succeeded / Failed / Skipped / Total] 355 / 3 / 127 / 485:  97%|███████████████████▍| 485/500 [08:14<00:15,  1.02s/it]textattack: Saving checkpoint under \"checkpoints\\1720194680523.ta.chkpt\" at 2024-07-05 23:51:20 after 485 attacks.\n"
     ]
    },
    {
     "name": "stdout",
     "output_type": "stream",
     "text": [
      "\n",
      "\n",
      "=============================================================================================================================\n",
      "=============================================================================================================================\n",
      "\n"
     ]
    },
    {
     "name": "stderr",
     "output_type": "stream",
     "text": [
      "[Succeeded / Failed / Skipped / Total] 358 / 3 / 129 / 490:  98%|███████████████████▌| 490/500 [08:18<00:10,  1.02s/it]textattack: Saving checkpoint under \"checkpoints\\1720194684943.ta.chkpt\" at 2024-07-05 23:51:24 after 490 attacks.\n",
      "[Succeeded / Failed / Skipped / Total] 358 / 3 / 130 / 491:  98%|███████████████████▋| 491/500 [08:18<00:09,  1.02s/it]"
     ]
    },
    {
     "name": "stdout",
     "output_type": "stream",
     "text": [
      "\n",
      "\n",
      "=============================================================================================================================\n",
      "=============================================================================================================================\n",
      "\n"
     ]
    },
    {
     "name": "stderr",
     "output_type": "stream",
     "text": [
      "[Succeeded / Failed / Skipped / Total] 361 / 3 / 131 / 495:  99%|███████████████████▊| 495/500 [08:21<00:05,  1.01s/it]textattack: Saving checkpoint under \"checkpoints\\1720194687577.ta.chkpt\" at 2024-07-05 23:51:27 after 495 attacks.\n"
     ]
    },
    {
     "name": "stdout",
     "output_type": "stream",
     "text": [
      "\n",
      "\n",
      "=============================================================================================================================\n",
      "=============================================================================================================================\n",
      "\n"
     ]
    },
    {
     "name": "stderr",
     "output_type": "stream",
     "text": [
      "[Succeeded / Failed / Skipped / Total] 366 / 3 / 131 / 500: 100%|████████████████████| 500/500 [08:29<00:00,  1.02s/it]textattack: Saving checkpoint under \"checkpoints\\1720194695942.ta.chkpt\" at 2024-07-05 23:51:35 after 500 attacks.\n",
      "[Succeeded / Failed / Skipped / Total] 366 / 3 / 131 / 500: 100%|████████████████████| 500/500 [08:29<00:00,  1.02s/it]"
     ]
    },
    {
     "name": "stdout",
     "output_type": "stream",
     "text": [
      "\n",
      "\n",
      "=============================================================================================================================\n",
      "=============================================================================================================================\n",
      "\n",
      "\n",
      "+-------------------------------+--------+\n",
      "| Attack Results                |        |\n",
      "+-------------------------------+--------+\n",
      "| Number of successful attacks: | 366    |\n",
      "| Number of failed attacks:     | 3      |\n",
      "| Number of skipped attacks:    | 131    |\n",
      "| Original accuracy:            | 73.8%  |\n",
      "| Accuracy under attack:        | 0.6%   |\n",
      "| Attack success rate:          | 99.19% |\n",
      "| Average perturbed word %:     | 15.24% |\n",
      "| Average num. words per input: | 18.4   |\n",
      "| Avg num queries:              | 52.69  |\n",
      "+-------------------------------+--------+\n"
     ]
    },
    {
     "name": "stderr",
     "output_type": "stream",
     "text": [
      "\n"
     ]
    }
   ],
   "source": [
    "runAttack(clip_model_wrapper_lr_mr, n_samples, 'attack_results_new/clipmrattacklr'+suffix, target_ds_mr)"
   ]
  },
  {
   "cell_type": "code",
   "execution_count": 29,
   "id": "90505994-11ba-48c5-8a78-5083ba8ddd05",
   "metadata": {
    "scrolled": true
   },
   "outputs": [
    {
     "name": "stderr",
     "output_type": "stream",
     "text": [
      "textattack: Unknown if model of class <class 'transformers.models.clip.modeling_clip.CLIPTextTransformer'> compatible with goal function <class 'textattack.goal_functions.classification.untargeted_classification.UntargetedClassification'>.\n",
      "textattack: Logging to CSV at path attack_results_new/clipmrattackrfsim06.csv\n"
     ]
    },
    {
     "name": "stdout",
     "output_type": "stream",
     "text": [
      "Attack(\n",
      "  (search_method): GreedyWordSwapWIR(\n",
      "    (wir_method):  delete\n",
      "  )\n",
      "  (goal_function):  UntargetedClassification\n",
      "  (transformation):  WordSwapEmbedding(\n",
      "    (max_candidates):  50\n",
      "    (embedding):  WordEmbedding\n",
      "  )\n",
      "  (constraints): \n",
      "    (0): WordEmbeddingDistance(\n",
      "        (embedding):  WordEmbedding\n",
      "        (min_cos_sim):  0.6\n",
      "        (cased):  False\n",
      "        (include_unknown_words):  True\n",
      "        (compare_against_original):  True\n",
      "      )\n",
      "    (1): PartOfSpeech(\n",
      "        (tagger_type):  nltk\n",
      "        (tagset):  universal\n",
      "        (allow_verb_noun_swap):  True\n",
      "        (compare_against_original):  True\n",
      "      )\n",
      "    (2): UniversalSentenceEncoder(\n",
      "        (metric):  angular\n",
      "        (threshold):  0.840845057\n",
      "        (window_size):  15\n",
      "        (skip_text_shorter_than_window):  True\n",
      "        (compare_against_original):  False\n",
      "      )\n",
      "    (3): RepeatModification\n",
      "    (4): StopwordModification\n",
      "    (5): InputColumnModification(\n",
      "        (matching_column_labels):  ['premise', 'hypothesis']\n",
      "        (columns_to_ignore):  {'premise'}\n",
      "      )\n",
      "  (is_black_box):  True\n",
      ") \n",
      "\n"
     ]
    },
    {
     "name": "stderr",
     "output_type": "stream",
     "text": [
      "[Succeeded / Failed / Skipped / Total] 5 / 0 / 0 / 5:   1%|▎                           | 5/500 [00:13<22:44,  2.76s/it]textattack: Saving checkpoint under \"checkpoints\\1720194709800.ta.chkpt\" at 2024-07-05 23:51:49 after 5 attacks.\n",
      "[Succeeded / Failed / Skipped / Total] 5 / 0 / 2 / 7:   1%|▍                           | 7/500 [00:13<16:19,  1.99s/it]"
     ]
    },
    {
     "name": "stdout",
     "output_type": "stream",
     "text": [
      "\n",
      "\n",
      "=============================================================================================================================\n",
      "=============================================================================================================================\n",
      "\n"
     ]
    },
    {
     "name": "stderr",
     "output_type": "stream",
     "text": [
      "[Succeeded / Failed / Skipped / Total] 7 / 1 / 2 / 10:   2%|▌                         | 10/500 [00:24<20:09,  2.47s/it]textattack: Saving checkpoint under \"checkpoints\\1720194720693.ta.chkpt\" at 2024-07-05 23:52:00 after 10 attacks.\n"
     ]
    },
    {
     "name": "stdout",
     "output_type": "stream",
     "text": [
      "\n",
      "\n",
      "=============================================================================================================================\n",
      "=============================================================================================================================\n",
      "\n"
     ]
    },
    {
     "name": "stderr",
     "output_type": "stream",
     "text": [
      "[Succeeded / Failed / Skipped / Total] 11 / 1 / 3 / 15:   3%|▊                        | 15/500 [00:32<17:15,  2.13s/it]textattack: Saving checkpoint under \"checkpoints\\1720194728035.ta.chkpt\" at 2024-07-05 23:52:08 after 15 attacks.\n"
     ]
    },
    {
     "name": "stdout",
     "output_type": "stream",
     "text": [
      "\n",
      "\n",
      "=============================================================================================================================\n",
      "=============================================================================================================================\n",
      "\n"
     ]
    },
    {
     "name": "stderr",
     "output_type": "stream",
     "text": [
      "[Succeeded / Failed / Skipped / Total] 14 / 1 / 5 / 20:   4%|█                        | 20/500 [00:35<14:03,  1.76s/it]textattack: Saving checkpoint under \"checkpoints\\1720194731163.ta.chkpt\" at 2024-07-05 23:52:11 after 20 attacks.\n"
     ]
    },
    {
     "name": "stdout",
     "output_type": "stream",
     "text": [
      "\n",
      "\n",
      "=============================================================================================================================\n",
      "=============================================================================================================================\n",
      "\n"
     ]
    },
    {
     "name": "stderr",
     "output_type": "stream",
     "text": [
      "[Succeeded / Failed / Skipped / Total] 17 / 2 / 6 / 25:   5%|█▎                       | 25/500 [00:41<13:03,  1.65s/it]textattack: Saving checkpoint under \"checkpoints\\1720194737231.ta.chkpt\" at 2024-07-05 23:52:17 after 25 attacks.\n"
     ]
    },
    {
     "name": "stdout",
     "output_type": "stream",
     "text": [
      "\n",
      "\n",
      "=============================================================================================================================\n",
      "=============================================================================================================================\n",
      "\n"
     ]
    },
    {
     "name": "stderr",
     "output_type": "stream",
     "text": [
      "[Succeeded / Failed / Skipped / Total] 20 / 2 / 8 / 30:   6%|█▌                       | 30/500 [00:46<12:15,  1.56s/it]textattack: Saving checkpoint under \"checkpoints\\1720194742954.ta.chkpt\" at 2024-07-05 23:52:22 after 30 attacks.\n"
     ]
    },
    {
     "name": "stdout",
     "output_type": "stream",
     "text": [
      "\n",
      "\n",
      "=============================================================================================================================\n",
      "=============================================================================================================================\n",
      "\n"
     ]
    },
    {
     "name": "stderr",
     "output_type": "stream",
     "text": [
      "[Succeeded / Failed / Skipped / Total] 24 / 2 / 9 / 35:   7%|█▊                       | 35/500 [00:49<10:53,  1.41s/it]textattack: Saving checkpoint under \"checkpoints\\1720194745203.ta.chkpt\" at 2024-07-05 23:52:25 after 35 attacks.\n"
     ]
    },
    {
     "name": "stdout",
     "output_type": "stream",
     "text": [
      "\n",
      "\n",
      "=============================================================================================================================\n",
      "=============================================================================================================================\n",
      "\n"
     ]
    },
    {
     "name": "stderr",
     "output_type": "stream",
     "text": [
      "[Succeeded / Failed / Skipped / Total] 28 / 2 / 10 / 40:   8%|█▉                      | 40/500 [00:52<09:59,  1.30s/it]textattack: Saving checkpoint under \"checkpoints\\1720194748131.ta.chkpt\" at 2024-07-05 23:52:28 after 40 attacks.\n"
     ]
    },
    {
     "name": "stdout",
     "output_type": "stream",
     "text": [
      "\n",
      "\n",
      "=============================================================================================================================\n",
      "=============================================================================================================================\n",
      "\n"
     ]
    },
    {
     "name": "stderr",
     "output_type": "stream",
     "text": [
      "[Succeeded / Failed / Skipped / Total] 31 / 2 / 12 / 45:   9%|██▏                     | 45/500 [00:56<09:33,  1.26s/it]textattack: Saving checkpoint under \"checkpoints\\1720194752714.ta.chkpt\" at 2024-07-05 23:52:32 after 45 attacks.\n"
     ]
    },
    {
     "name": "stdout",
     "output_type": "stream",
     "text": [
      "\n",
      "\n",
      "=============================================================================================================================\n",
      "=============================================================================================================================\n",
      "\n"
     ]
    },
    {
     "name": "stderr",
     "output_type": "stream",
     "text": [
      "[Succeeded / Failed / Skipped / Total] 36 / 2 / 12 / 50:  10%|██▍                     | 50/500 [01:03<09:28,  1.26s/it]textattack: Saving checkpoint under \"checkpoints\\1720194759189.ta.chkpt\" at 2024-07-05 23:52:39 after 50 attacks.\n",
      "[Succeeded / Failed / Skipped / Total] 36 / 2 / 13 / 51:  10%|██▍                     | 51/500 [01:03<09:16,  1.24s/it]"
     ]
    },
    {
     "name": "stdout",
     "output_type": "stream",
     "text": [
      "\n",
      "\n",
      "=============================================================================================================================\n",
      "=============================================================================================================================\n",
      "\n"
     ]
    },
    {
     "name": "stderr",
     "output_type": "stream",
     "text": [
      "[Succeeded / Failed / Skipped / Total] 39 / 2 / 14 / 55:  11%|██▋                     | 55/500 [01:10<09:31,  1.28s/it]textattack: Saving checkpoint under \"checkpoints\\1720194766602.ta.chkpt\" at 2024-07-05 23:52:46 after 55 attacks.\n"
     ]
    },
    {
     "name": "stdout",
     "output_type": "stream",
     "text": [
      "\n",
      "\n",
      "=============================================================================================================================\n",
      "=============================================================================================================================\n",
      "\n"
     ]
    },
    {
     "name": "stderr",
     "output_type": "stream",
     "text": [
      "[Succeeded / Failed / Skipped / Total] 43 / 2 / 15 / 60:  12%|██▉                     | 60/500 [01:13<09:01,  1.23s/it]textattack: Saving checkpoint under \"checkpoints\\1720194769902.ta.chkpt\" at 2024-07-05 23:52:49 after 60 attacks.\n"
     ]
    },
    {
     "name": "stdout",
     "output_type": "stream",
     "text": [
      "\n",
      "\n",
      "=============================================================================================================================\n",
      "=============================================================================================================================\n",
      "\n"
     ]
    },
    {
     "name": "stderr",
     "output_type": "stream",
     "text": [
      "[Succeeded / Failed / Skipped / Total] 47 / 3 / 15 / 65:  13%|███                     | 65/500 [01:22<09:14,  1.27s/it]textattack: Saving checkpoint under \"checkpoints\\1720194778863.ta.chkpt\" at 2024-07-05 23:52:58 after 65 attacks.\n"
     ]
    },
    {
     "name": "stdout",
     "output_type": "stream",
     "text": [
      "\n",
      "\n",
      "=============================================================================================================================\n",
      "=============================================================================================================================\n",
      "\n"
     ]
    },
    {
     "name": "stderr",
     "output_type": "stream",
     "text": [
      "[Succeeded / Failed / Skipped / Total] 52 / 3 / 15 / 70:  14%|███▎                    | 70/500 [01:30<09:14,  1.29s/it]textattack: Saving checkpoint under \"checkpoints\\1720194786322.ta.chkpt\" at 2024-07-05 23:53:06 after 70 attacks.\n",
      "[Succeeded / Failed / Skipped / Total] 52 / 3 / 16 / 71:  14%|███▍                    | 71/500 [01:30<09:06,  1.27s/it]"
     ]
    },
    {
     "name": "stdout",
     "output_type": "stream",
     "text": [
      "\n",
      "\n",
      "=============================================================================================================================\n",
      "=============================================================================================================================\n",
      "\n"
     ]
    },
    {
     "name": "stderr",
     "output_type": "stream",
     "text": [
      "[Succeeded / Failed / Skipped / Total] 55 / 3 / 17 / 75:  15%|███▌                    | 75/500 [01:33<08:47,  1.24s/it]textattack: Saving checkpoint under \"checkpoints\\1720194789129.ta.chkpt\" at 2024-07-05 23:53:09 after 75 attacks.\n"
     ]
    },
    {
     "name": "stdout",
     "output_type": "stream",
     "text": [
      "\n",
      "\n",
      "=============================================================================================================================\n",
      "=============================================================================================================================\n",
      "\n"
     ]
    },
    {
     "name": "stderr",
     "output_type": "stream",
     "text": [
      "[Succeeded / Failed / Skipped / Total] 59 / 3 / 18 / 80:  16%|███▊                    | 80/500 [01:38<08:37,  1.23s/it]textattack: Saving checkpoint under \"checkpoints\\1720194794549.ta.chkpt\" at 2024-07-05 23:53:14 after 80 attacks.\n",
      "[Succeeded / Failed / Skipped / Total] 59 / 3 / 20 / 82:  16%|███▉                    | 82/500 [01:38<08:23,  1.20s/it]"
     ]
    },
    {
     "name": "stdout",
     "output_type": "stream",
     "text": [
      "\n",
      "\n",
      "=============================================================================================================================\n",
      "=============================================================================================================================\n",
      "\n"
     ]
    },
    {
     "name": "stderr",
     "output_type": "stream",
     "text": [
      "[Succeeded / Failed / Skipped / Total] 62 / 3 / 20 / 85:  17%|████                    | 85/500 [01:39<08:07,  1.18s/it]textattack: Saving checkpoint under \"checkpoints\\1720194795895.ta.chkpt\" at 2024-07-05 23:53:15 after 85 attacks.\n"
     ]
    },
    {
     "name": "stdout",
     "output_type": "stream",
     "text": [
      "\n",
      "\n",
      "=============================================================================================================================\n",
      "=============================================================================================================================\n",
      "\n"
     ]
    },
    {
     "name": "stderr",
     "output_type": "stream",
     "text": [
      "[Succeeded / Failed / Skipped / Total] 66 / 3 / 21 / 90:  18%|████▎                   | 90/500 [01:43<07:53,  1.15s/it]textattack: Saving checkpoint under \"checkpoints\\1720194799850.ta.chkpt\" at 2024-07-05 23:53:19 after 90 attacks.\n",
      "[Succeeded / Failed / Skipped / Total] 66 / 3 / 22 / 91:  18%|████▎                   | 91/500 [01:43<07:47,  1.14s/it]"
     ]
    },
    {
     "name": "stdout",
     "output_type": "stream",
     "text": [
      "\n",
      "\n",
      "=============================================================================================================================\n",
      "=============================================================================================================================\n",
      "\n"
     ]
    },
    {
     "name": "stderr",
     "output_type": "stream",
     "text": [
      "[Succeeded / Failed / Skipped / Total] 67 / 4 / 24 / 95:  19%|████▌                   | 95/500 [01:53<08:05,  1.20s/it]textattack: Saving checkpoint under \"checkpoints\\1720194809836.ta.chkpt\" at 2024-07-05 23:53:29 after 95 attacks.\n"
     ]
    },
    {
     "name": "stdout",
     "output_type": "stream",
     "text": [
      "\n",
      "\n",
      "=============================================================================================================================\n",
      "=============================================================================================================================\n",
      "\n"
     ]
    },
    {
     "name": "stderr",
     "output_type": "stream",
     "text": [
      "[Succeeded / Failed / Skipped / Total] 71 / 4 / 25 / 100:  20%|████▍                 | 100/500 [01:58<07:53,  1.18s/it]textattack: Saving checkpoint under \"checkpoints\\1720194814301.ta.chkpt\" at 2024-07-05 23:53:34 after 100 attacks.\n"
     ]
    },
    {
     "name": "stdout",
     "output_type": "stream",
     "text": [
      "\n",
      "\n",
      "=============================================================================================================================\n",
      "=============================================================================================================================\n",
      "\n"
     ]
    },
    {
     "name": "stderr",
     "output_type": "stream",
     "text": [
      "[Succeeded / Failed / Skipped / Total] 75 / 4 / 26 / 105:  21%|████▌                 | 105/500 [02:07<08:00,  1.22s/it]textattack: Saving checkpoint under \"checkpoints\\1720194823679.ta.chkpt\" at 2024-07-05 23:53:43 after 105 attacks.\n",
      "[Succeeded / Failed / Skipped / Total] 75 / 4 / 27 / 106:  21%|████▋                 | 106/500 [02:07<07:54,  1.20s/it]"
     ]
    },
    {
     "name": "stdout",
     "output_type": "stream",
     "text": [
      "\n",
      "\n",
      "=============================================================================================================================\n",
      "=============================================================================================================================\n",
      "\n"
     ]
    },
    {
     "name": "stderr",
     "output_type": "stream",
     "text": [
      "[Succeeded / Failed / Skipped / Total] 77 / 4 / 29 / 110:  22%|████▊                 | 110/500 [02:10<07:44,  1.19s/it]textattack: Saving checkpoint under \"checkpoints\\1720194826915.ta.chkpt\" at 2024-07-05 23:53:46 after 110 attacks.\n",
      "[Succeeded / Failed / Skipped / Total] 77 / 4 / 30 / 111:  22%|████▉                 | 111/500 [02:10<07:39,  1.18s/it]"
     ]
    },
    {
     "name": "stdout",
     "output_type": "stream",
     "text": [
      "\n",
      "\n",
      "=============================================================================================================================\n",
      "=============================================================================================================================\n",
      "\n"
     ]
    },
    {
     "name": "stderr",
     "output_type": "stream",
     "text": [
      "[Succeeded / Failed / Skipped / Total] 81 / 4 / 30 / 115:  23%|█████                 | 115/500 [02:15<07:32,  1.17s/it]textattack: Saving checkpoint under \"checkpoints\\1720194831084.ta.chkpt\" at 2024-07-05 23:53:51 after 115 attacks.\n"
     ]
    },
    {
     "name": "stdout",
     "output_type": "stream",
     "text": [
      "\n",
      "\n",
      "=============================================================================================================================\n",
      "=============================================================================================================================\n",
      "\n"
     ]
    },
    {
     "name": "stderr",
     "output_type": "stream",
     "text": [
      "[Succeeded / Failed / Skipped / Total] 83 / 5 / 32 / 120:  24%|█████▎                | 120/500 [02:18<07:17,  1.15s/it]textattack: Saving checkpoint under \"checkpoints\\1720194834267.ta.chkpt\" at 2024-07-05 23:53:54 after 120 attacks.\n"
     ]
    },
    {
     "name": "stdout",
     "output_type": "stream",
     "text": [
      "\n",
      "\n",
      "=============================================================================================================================\n",
      "=============================================================================================================================\n",
      "\n"
     ]
    },
    {
     "name": "stderr",
     "output_type": "stream",
     "text": [
      "[Succeeded / Failed / Skipped / Total] 87 / 5 / 33 / 125:  25%|█████▌                | 125/500 [02:23<07:10,  1.15s/it]textattack: Saving checkpoint under \"checkpoints\\1720194839358.ta.chkpt\" at 2024-07-05 23:53:59 after 125 attacks.\n"
     ]
    },
    {
     "name": "stdout",
     "output_type": "stream",
     "text": [
      "\n",
      "\n",
      "=============================================================================================================================\n",
      "=============================================================================================================================\n",
      "\n"
     ]
    },
    {
     "name": "stderr",
     "output_type": "stream",
     "text": [
      "[Succeeded / Failed / Skipped / Total] 92 / 5 / 33 / 130:  26%|█████▋                | 130/500 [02:28<07:03,  1.14s/it]textattack: Saving checkpoint under \"checkpoints\\1720194844782.ta.chkpt\" at 2024-07-05 23:54:04 after 130 attacks.\n",
      "[Succeeded / Failed / Skipped / Total] 92 / 5 / 34 / 131:  26%|█████▊                | 131/500 [02:28<06:59,  1.14s/it]"
     ]
    },
    {
     "name": "stdout",
     "output_type": "stream",
     "text": [
      "\n",
      "\n",
      "=============================================================================================================================\n",
      "=============================================================================================================================\n",
      "\n"
     ]
    },
    {
     "name": "stderr",
     "output_type": "stream",
     "text": [
      "[Succeeded / Failed / Skipped / Total] 95 / 5 / 35 / 135:  27%|█████▉                | 135/500 [02:39<07:10,  1.18s/it]textattack: Saving checkpoint under \"checkpoints\\1720194855090.ta.chkpt\" at 2024-07-05 23:54:15 after 135 attacks.\n"
     ]
    },
    {
     "name": "stdout",
     "output_type": "stream",
     "text": [
      "\n",
      "\n",
      "=============================================================================================================================\n",
      "=============================================================================================================================\n",
      "\n"
     ]
    },
    {
     "name": "stderr",
     "output_type": "stream",
     "text": [
      "[Succeeded / Failed / Skipped / Total] 98 / 5 / 37 / 140:  28%|██████▏               | 140/500 [02:43<07:00,  1.17s/it]textattack: Saving checkpoint under \"checkpoints\\1720194859358.ta.chkpt\" at 2024-07-05 23:54:19 after 140 attacks.\n",
      "[Succeeded / Failed / Skipped / Total] 98 / 5 / 38 / 141:  28%|██████▏               | 141/500 [02:43<06:56,  1.16s/it]"
     ]
    },
    {
     "name": "stdout",
     "output_type": "stream",
     "text": [
      "\n",
      "\n",
      "=============================================================================================================================\n",
      "=============================================================================================================================\n",
      "\n"
     ]
    },
    {
     "name": "stderr",
     "output_type": "stream",
     "text": [
      "[Succeeded / Failed / Skipped / Total] 100 / 5 / 40 / 145:  29%|██████               | 145/500 [02:45<06:45,  1.14s/it]textattack: Saving checkpoint under \"checkpoints\\1720194861482.ta.chkpt\" at 2024-07-05 23:54:21 after 145 attacks.\n",
      "[Succeeded / Failed / Skipped / Total] 100 / 5 / 41 / 146:  29%|██████▏              | 146/500 [02:45<06:41,  1.13s/it]"
     ]
    },
    {
     "name": "stdout",
     "output_type": "stream",
     "text": [
      "\n",
      "\n",
      "=============================================================================================================================\n",
      "=============================================================================================================================\n",
      "\n"
     ]
    },
    {
     "name": "stderr",
     "output_type": "stream",
     "text": [
      "[Succeeded / Failed / Skipped / Total] 102 / 6 / 42 / 150:  30%|██████▎              | 150/500 [02:50<06:37,  1.13s/it]textattack: Saving checkpoint under \"checkpoints\\1720194866225.ta.chkpt\" at 2024-07-05 23:54:26 after 150 attacks.\n",
      "[Succeeded / Failed / Skipped / Total] 102 / 6 / 43 / 151:  30%|██████▎              | 151/500 [02:50<06:33,  1.13s/it]"
     ]
    },
    {
     "name": "stdout",
     "output_type": "stream",
     "text": [
      "\n",
      "\n",
      "=============================================================================================================================\n",
      "=============================================================================================================================\n",
      "\n"
     ]
    },
    {
     "name": "stderr",
     "output_type": "stream",
     "text": [
      "[Succeeded / Failed / Skipped / Total] 105 / 6 / 44 / 155:  31%|██████▌              | 155/500 [02:54<06:28,  1.13s/it]textattack: Saving checkpoint under \"checkpoints\\1720194870646.ta.chkpt\" at 2024-07-05 23:54:30 after 155 attacks.\n"
     ]
    },
    {
     "name": "stdout",
     "output_type": "stream",
     "text": [
      "\n",
      "\n",
      "=============================================================================================================================\n",
      "=============================================================================================================================\n",
      "\n"
     ]
    },
    {
     "name": "stderr",
     "output_type": "stream",
     "text": [
      "[Succeeded / Failed / Skipped / Total] 107 / 7 / 46 / 160:  32%|██████▋              | 160/500 [03:05<06:34,  1.16s/it]textattack: Saving checkpoint under \"checkpoints\\1720194881673.ta.chkpt\" at 2024-07-05 23:54:41 after 160 attacks.\n",
      "[Succeeded / Failed / Skipped / Total] 107 / 7 / 47 / 161:  32%|██████▊              | 161/500 [03:05<06:31,  1.15s/it]"
     ]
    },
    {
     "name": "stdout",
     "output_type": "stream",
     "text": [
      "\n",
      "\n",
      "=============================================================================================================================\n",
      "=============================================================================================================================\n",
      "\n"
     ]
    },
    {
     "name": "stderr",
     "output_type": "stream",
     "text": [
      "[Succeeded / Failed / Skipped / Total] 110 / 7 / 48 / 165:  33%|██████▉              | 165/500 [03:10<06:26,  1.15s/it]textattack: Saving checkpoint under \"checkpoints\\1720194886459.ta.chkpt\" at 2024-07-05 23:54:46 after 165 attacks.\n",
      "[Succeeded / Failed / Skipped / Total] 110 / 7 / 50 / 167:  33%|███████              | 167/500 [03:10<06:20,  1.14s/it]"
     ]
    },
    {
     "name": "stdout",
     "output_type": "stream",
     "text": [
      "\n",
      "\n",
      "=============================================================================================================================\n",
      "=============================================================================================================================\n",
      "\n"
     ]
    },
    {
     "name": "stderr",
     "output_type": "stream",
     "text": [
      "[Succeeded / Failed / Skipped / Total] 110 / 7 / 53 / 170:  34%|███████▏             | 170/500 [03:10<06:10,  1.12s/it]textattack: Saving checkpoint under \"checkpoints\\1720194886808.ta.chkpt\" at 2024-07-05 23:54:46 after 170 attacks.\n"
     ]
    },
    {
     "name": "stdout",
     "output_type": "stream",
     "text": [
      "\n",
      "\n",
      "=============================================================================================================================\n",
      "=============================================================================================================================\n",
      "\n"
     ]
    },
    {
     "name": "stderr",
     "output_type": "stream",
     "text": [
      "[Succeeded / Failed / Skipped / Total] 113 / 7 / 55 / 175:  35%|███████▎             | 175/500 [03:19<06:10,  1.14s/it]textattack: Saving checkpoint under \"checkpoints\\1720194895259.ta.chkpt\" at 2024-07-05 23:54:55 after 175 attacks.\n"
     ]
    },
    {
     "name": "stdout",
     "output_type": "stream",
     "text": [
      "\n",
      "\n",
      "=============================================================================================================================\n",
      "=============================================================================================================================\n",
      "\n"
     ]
    },
    {
     "name": "stderr",
     "output_type": "stream",
     "text": [
      "[Succeeded / Failed / Skipped / Total] 117 / 7 / 56 / 180:  36%|███████▌             | 180/500 [03:24<06:04,  1.14s/it]textattack: Saving checkpoint under \"checkpoints\\1720194900835.ta.chkpt\" at 2024-07-05 23:55:00 after 180 attacks.\n"
     ]
    },
    {
     "name": "stdout",
     "output_type": "stream",
     "text": [
      "\n",
      "\n",
      "=============================================================================================================================\n",
      "=============================================================================================================================\n",
      "\n"
     ]
    },
    {
     "name": "stderr",
     "output_type": "stream",
     "text": [
      "[Succeeded / Failed / Skipped / Total] 120 / 7 / 58 / 185:  37%|███████▊             | 185/500 [03:26<05:52,  1.12s/it]textattack: Saving checkpoint under \"checkpoints\\1720194902789.ta.chkpt\" at 2024-07-05 23:55:02 after 185 attacks.\n",
      "[Succeeded / Failed / Skipped / Total] 120 / 7 / 59 / 186:  37%|███████▊             | 186/500 [03:26<05:49,  1.11s/it]"
     ]
    },
    {
     "name": "stdout",
     "output_type": "stream",
     "text": [
      "\n",
      "\n",
      "=============================================================================================================================\n",
      "=============================================================================================================================\n",
      "\n"
     ]
    },
    {
     "name": "stderr",
     "output_type": "stream",
     "text": [
      "[Succeeded / Failed / Skipped / Total] 124 / 7 / 59 / 190:  38%|███████▉             | 190/500 [03:35<05:51,  1.14s/it]textattack: Saving checkpoint under \"checkpoints\\1720194911736.ta.chkpt\" at 2024-07-05 23:55:11 after 190 attacks.\n"
     ]
    },
    {
     "name": "stdout",
     "output_type": "stream",
     "text": [
      "\n",
      "\n",
      "=============================================================================================================================\n",
      "=============================================================================================================================\n",
      "\n"
     ]
    },
    {
     "name": "stderr",
     "output_type": "stream",
     "text": [
      "[Succeeded / Failed / Skipped / Total] 128 / 7 / 60 / 195:  39%|████████▏            | 195/500 [03:43<05:49,  1.15s/it]textattack: Saving checkpoint under \"checkpoints\\1720194919413.ta.chkpt\" at 2024-07-05 23:55:19 after 195 attacks.\n"
     ]
    },
    {
     "name": "stdout",
     "output_type": "stream",
     "text": [
      "\n",
      "\n",
      "=============================================================================================================================\n",
      "=============================================================================================================================\n",
      "\n"
     ]
    },
    {
     "name": "stderr",
     "output_type": "stream",
     "text": [
      "[Succeeded / Failed / Skipped / Total] 131 / 7 / 62 / 200:  40%|████████▍            | 200/500 [03:58<05:57,  1.19s/it]textattack: Saving checkpoint under \"checkpoints\\1720194934616.ta.chkpt\" at 2024-07-05 23:55:34 after 200 attacks.\n"
     ]
    },
    {
     "name": "stdout",
     "output_type": "stream",
     "text": [
      "\n",
      "\n",
      "=============================================================================================================================\n",
      "=============================================================================================================================\n",
      "\n"
     ]
    },
    {
     "name": "stderr",
     "output_type": "stream",
     "text": [
      "[Succeeded / Failed / Skipped / Total] 133 / 9 / 63 / 205:  41%|████████▌            | 205/500 [04:10<05:59,  1.22s/it]textattack: Saving checkpoint under \"checkpoints\\1720194946114.ta.chkpt\" at 2024-07-05 23:55:46 after 205 attacks.\n"
     ]
    },
    {
     "name": "stdout",
     "output_type": "stream",
     "text": [
      "\n",
      "\n",
      "=============================================================================================================================\n",
      "=============================================================================================================================\n",
      "\n"
     ]
    },
    {
     "name": "stderr",
     "output_type": "stream",
     "text": [
      "[Succeeded / Failed / Skipped / Total] 137 / 9 / 64 / 210:  42%|████████▊            | 210/500 [04:13<05:50,  1.21s/it]textattack: Saving checkpoint under \"checkpoints\\1720194949686.ta.chkpt\" at 2024-07-05 23:55:49 after 210 attacks.\n"
     ]
    },
    {
     "name": "stdout",
     "output_type": "stream",
     "text": [
      "\n",
      "\n",
      "=============================================================================================================================\n",
      "=============================================================================================================================\n",
      "\n"
     ]
    },
    {
     "name": "stderr",
     "output_type": "stream",
     "text": [
      "[Succeeded / Failed / Skipped / Total] 141 / 9 / 65 / 215:  43%|█████████            | 215/500 [04:19<05:44,  1.21s/it]textattack: Saving checkpoint under \"checkpoints\\1720194955726.ta.chkpt\" at 2024-07-05 23:55:55 after 215 attacks.\n"
     ]
    },
    {
     "name": "stdout",
     "output_type": "stream",
     "text": [
      "\n",
      "\n",
      "=============================================================================================================================\n",
      "=============================================================================================================================\n",
      "\n"
     ]
    },
    {
     "name": "stderr",
     "output_type": "stream",
     "text": [
      "[Succeeded / Failed / Skipped / Total] 145 / 9 / 66 / 220:  44%|█████████▏           | 220/500 [04:22<05:33,  1.19s/it]textattack: Saving checkpoint under \"checkpoints\\1720194958389.ta.chkpt\" at 2024-07-05 23:55:58 after 220 attacks.\n"
     ]
    },
    {
     "name": "stdout",
     "output_type": "stream",
     "text": [
      "\n",
      "\n",
      "=============================================================================================================================\n",
      "=============================================================================================================================\n",
      "\n"
     ]
    },
    {
     "name": "stderr",
     "output_type": "stream",
     "text": [
      "[Succeeded / Failed / Skipped / Total] 149 / 9 / 67 / 225:  45%|█████████▍           | 225/500 [04:27<05:26,  1.19s/it]textattack: Saving checkpoint under \"checkpoints\\1720194963068.ta.chkpt\" at 2024-07-05 23:56:03 after 225 attacks.\n"
     ]
    },
    {
     "name": "stdout",
     "output_type": "stream",
     "text": [
      "\n",
      "\n",
      "=============================================================================================================================\n",
      "=============================================================================================================================\n",
      "\n"
     ]
    },
    {
     "name": "stderr",
     "output_type": "stream",
     "text": [
      "[Succeeded / Failed / Skipped / Total] 151 / 9 / 70 / 230:  46%|█████████▋           | 230/500 [04:29<05:16,  1.17s/it]textattack: Saving checkpoint under \"checkpoints\\1720194965835.ta.chkpt\" at 2024-07-05 23:56:05 after 230 attacks.\n",
      "[Succeeded / Failed / Skipped / Total] 151 / 9 / 71 / 231:  46%|█████████▋           | 231/500 [04:29<05:14,  1.17s/it]"
     ]
    },
    {
     "name": "stdout",
     "output_type": "stream",
     "text": [
      "\n",
      "\n",
      "=============================================================================================================================\n",
      "=============================================================================================================================\n",
      "\n"
     ]
    },
    {
     "name": "stderr",
     "output_type": "stream",
     "text": [
      "[Succeeded / Failed / Skipped / Total] 154 / 9 / 72 / 235:  47%|█████████▊           | 235/500 [04:35<05:11,  1.17s/it]textattack: Saving checkpoint under \"checkpoints\\1720194972007.ta.chkpt\" at 2024-07-05 23:56:12 after 235 attacks.\n"
     ]
    },
    {
     "name": "stdout",
     "output_type": "stream",
     "text": [
      "\n",
      "\n",
      "=============================================================================================================================\n",
      "=============================================================================================================================\n",
      "\n"
     ]
    },
    {
     "name": "stderr",
     "output_type": "stream",
     "text": [
      "[Succeeded / Failed / Skipped / Total] 158 / 9 / 73 / 240:  48%|██████████           | 240/500 [04:42<05:06,  1.18s/it]textattack: Saving checkpoint under \"checkpoints\\1720194978910.ta.chkpt\" at 2024-07-05 23:56:18 after 240 attacks.\n",
      "[Succeeded / Failed / Skipped / Total] 158 / 9 / 74 / 241:  48%|██████████           | 241/500 [04:42<05:04,  1.17s/it]"
     ]
    },
    {
     "name": "stdout",
     "output_type": "stream",
     "text": [
      "\n",
      "\n",
      "=============================================================================================================================\n",
      "=============================================================================================================================\n",
      "\n"
     ]
    },
    {
     "name": "stderr",
     "output_type": "stream",
     "text": [
      "[Succeeded / Failed / Skipped / Total] 162 / 9 / 74 / 245:  49%|██████████▎          | 245/500 [04:48<05:00,  1.18s/it]textattack: Saving checkpoint under \"checkpoints\\1720194984728.ta.chkpt\" at 2024-07-05 23:56:24 after 245 attacks.\n"
     ]
    },
    {
     "name": "stdout",
     "output_type": "stream",
     "text": [
      "\n",
      "\n",
      "=============================================================================================================================\n",
      "=============================================================================================================================\n",
      "\n"
     ]
    },
    {
     "name": "stderr",
     "output_type": "stream",
     "text": [
      "[Succeeded / Failed / Skipped / Total] 164 / 9 / 77 / 250:  50%|██████████▌          | 250/500 [04:50<04:50,  1.16s/it]textattack: Saving checkpoint under \"checkpoints\\1720194986554.ta.chkpt\" at 2024-07-05 23:56:26 after 250 attacks.\n",
      "[Succeeded / Failed / Skipped / Total] 164 / 9 / 78 / 251:  50%|██████████▌          | 251/500 [04:50<04:48,  1.16s/it]"
     ]
    },
    {
     "name": "stdout",
     "output_type": "stream",
     "text": [
      "\n",
      "\n",
      "=============================================================================================================================\n",
      "=============================================================================================================================\n",
      "\n"
     ]
    },
    {
     "name": "stderr",
     "output_type": "stream",
     "text": [
      "[Succeeded / Failed / Skipped / Total] 168 / 9 / 78 / 255:  51%|██████████▋          | 255/500 [04:57<04:45,  1.17s/it]textattack: Saving checkpoint under \"checkpoints\\1720194993197.ta.chkpt\" at 2024-07-05 23:56:33 after 255 attacks.\n"
     ]
    },
    {
     "name": "stdout",
     "output_type": "stream",
     "text": [
      "\n",
      "\n",
      "=============================================================================================================================\n",
      "=============================================================================================================================\n",
      "\n"
     ]
    },
    {
     "name": "stderr",
     "output_type": "stream",
     "text": [
      "[Succeeded / Failed / Skipped / Total] 173 / 9 / 78 / 260:  52%|██████████▉          | 260/500 [05:01<04:38,  1.16s/it]textattack: Saving checkpoint under \"checkpoints\\1720194997641.ta.chkpt\" at 2024-07-05 23:56:37 after 260 attacks.\n",
      "[Succeeded / Failed / Skipped / Total] 173 / 9 / 80 / 262:  52%|███████████          | 262/500 [05:01<04:34,  1.15s/it]"
     ]
    },
    {
     "name": "stdout",
     "output_type": "stream",
     "text": [
      "\n",
      "\n",
      "=============================================================================================================================\n",
      "=============================================================================================================================\n",
      "\n"
     ]
    },
    {
     "name": "stderr",
     "output_type": "stream",
     "text": [
      "[Succeeded / Failed / Skipped / Total] 174 / 10 / 81 / 265:  53%|██████████▌         | 265/500 [05:07<04:32,  1.16s/it]textattack: Saving checkpoint under \"checkpoints\\1720195003274.ta.chkpt\" at 2024-07-05 23:56:43 after 265 attacks.\n"
     ]
    },
    {
     "name": "stdout",
     "output_type": "stream",
     "text": [
      "\n",
      "\n",
      "=============================================================================================================================\n",
      "=============================================================================================================================\n",
      "\n"
     ]
    },
    {
     "name": "stderr",
     "output_type": "stream",
     "text": [
      "[Succeeded / Failed / Skipped / Total] 178 / 10 / 82 / 270:  54%|██████████▊         | 270/500 [05:09<04:23,  1.15s/it]textattack: Saving checkpoint under \"checkpoints\\1720195005871.ta.chkpt\" at 2024-07-05 23:56:45 after 270 attacks.\n",
      "[Succeeded / Failed / Skipped / Total] 178 / 10 / 83 / 271:  54%|██████████▊         | 271/500 [05:09<04:21,  1.14s/it]"
     ]
    },
    {
     "name": "stdout",
     "output_type": "stream",
     "text": [
      "\n",
      "\n",
      "=============================================================================================================================\n",
      "=============================================================================================================================\n",
      "\n"
     ]
    },
    {
     "name": "stderr",
     "output_type": "stream",
     "text": [
      "[Succeeded / Failed / Skipped / Total] 181 / 10 / 84 / 275:  55%|███████████         | 275/500 [05:12<04:15,  1.14s/it]textattack: Saving checkpoint under \"checkpoints\\1720195008860.ta.chkpt\" at 2024-07-05 23:56:48 after 275 attacks.\n"
     ]
    },
    {
     "name": "stdout",
     "output_type": "stream",
     "text": [
      "\n",
      "\n",
      "=============================================================================================================================\n",
      "=============================================================================================================================\n",
      "\n"
     ]
    },
    {
     "name": "stderr",
     "output_type": "stream",
     "text": [
      "[Succeeded / Failed / Skipped / Total] 183 / 10 / 87 / 280:  56%|███████████▏        | 280/500 [05:14<04:07,  1.12s/it]textattack: Saving checkpoint under \"checkpoints\\1720195010930.ta.chkpt\" at 2024-07-05 23:56:50 after 280 attacks.\n"
     ]
    },
    {
     "name": "stdout",
     "output_type": "stream",
     "text": [
      "\n",
      "\n",
      "=============================================================================================================================\n",
      "=============================================================================================================================\n",
      "\n"
     ]
    },
    {
     "name": "stderr",
     "output_type": "stream",
     "text": [
      "[Succeeded / Failed / Skipped / Total] 185 / 10 / 90 / 285:  57%|███████████▍        | 285/500 [05:17<03:59,  1.12s/it]textattack: Saving checkpoint under \"checkpoints\\1720195013969.ta.chkpt\" at 2024-07-05 23:56:53 after 285 attacks.\n",
      "[Succeeded / Failed / Skipped / Total] 185 / 10 / 91 / 286:  57%|███████████▍        | 286/500 [05:18<03:57,  1.11s/it]"
     ]
    },
    {
     "name": "stdout",
     "output_type": "stream",
     "text": [
      "\n",
      "\n",
      "=============================================================================================================================\n",
      "=============================================================================================================================\n",
      "\n"
     ]
    },
    {
     "name": "stderr",
     "output_type": "stream",
     "text": [
      "[Succeeded / Failed / Skipped / Total] 188 / 11 / 91 / 290:  58%|███████████▌        | 290/500 [05:27<03:57,  1.13s/it]textattack: Saving checkpoint under \"checkpoints\\1720195023825.ta.chkpt\" at 2024-07-05 23:57:03 after 290 attacks.\n",
      "[Succeeded / Failed / Skipped / Total] 188 / 11 / 93 / 292:  58%|███████████▋        | 292/500 [05:27<03:53,  1.12s/it]"
     ]
    },
    {
     "name": "stdout",
     "output_type": "stream",
     "text": [
      "\n",
      "\n",
      "=============================================================================================================================\n",
      "=============================================================================================================================\n",
      "\n"
     ]
    },
    {
     "name": "stderr",
     "output_type": "stream",
     "text": [
      "[Succeeded / Failed / Skipped / Total] 190 / 11 / 94 / 295:  59%|███████████▊        | 295/500 [05:29<03:49,  1.12s/it]textattack: Saving checkpoint under \"checkpoints\\1720195025656.ta.chkpt\" at 2024-07-05 23:57:05 after 295 attacks.\n"
     ]
    },
    {
     "name": "stdout",
     "output_type": "stream",
     "text": [
      "\n",
      "\n",
      "=============================================================================================================================\n",
      "=============================================================================================================================\n",
      "\n"
     ]
    },
    {
     "name": "stderr",
     "output_type": "stream",
     "text": [
      "[Succeeded / Failed / Skipped / Total] 193 / 12 / 95 / 300:  60%|████████████        | 300/500 [05:33<03:42,  1.11s/it]textattack: Saving checkpoint under \"checkpoints\\1720195029941.ta.chkpt\" at 2024-07-05 23:57:09 after 300 attacks.\n"
     ]
    },
    {
     "name": "stdout",
     "output_type": "stream",
     "text": [
      "\n",
      "\n",
      "=============================================================================================================================\n",
      "=============================================================================================================================\n",
      "\n"
     ]
    },
    {
     "name": "stderr",
     "output_type": "stream",
     "text": [
      "[Succeeded / Failed / Skipped / Total] 196 / 12 / 97 / 305:  61%|████████████▏       | 305/500 [05:37<03:35,  1.11s/it]textattack: Saving checkpoint under \"checkpoints\\1720195033857.ta.chkpt\" at 2024-07-05 23:57:13 after 305 attacks.\n"
     ]
    },
    {
     "name": "stdout",
     "output_type": "stream",
     "text": [
      "\n",
      "\n",
      "=============================================================================================================================\n",
      "=============================================================================================================================\n",
      "\n"
     ]
    },
    {
     "name": "stderr",
     "output_type": "stream",
     "text": [
      "[Succeeded / Failed / Skipped / Total] 198 / 15 / 97 / 310:  62%|████████████▍       | 310/500 [05:41<03:29,  1.10s/it]textattack: Saving checkpoint under \"checkpoints\\1720195037840.ta.chkpt\" at 2024-07-05 23:57:17 after 310 attacks.\n"
     ]
    },
    {
     "name": "stdout",
     "output_type": "stream",
     "text": [
      "\n",
      "\n",
      "=============================================================================================================================\n",
      "=============================================================================================================================\n",
      "\n"
     ]
    },
    {
     "name": "stderr",
     "output_type": "stream",
     "text": [
      "[Succeeded / Failed / Skipped / Total] 201 / 15 / 99 / 315:  63%|████████████▌       | 315/500 [05:47<03:24,  1.10s/it]textattack: Saving checkpoint under \"checkpoints\\1720195043483.ta.chkpt\" at 2024-07-05 23:57:23 after 315 attacks.\n"
     ]
    },
    {
     "name": "stdout",
     "output_type": "stream",
     "text": [
      "\n",
      "\n",
      "=============================================================================================================================\n",
      "=============================================================================================================================\n",
      "\n"
     ]
    },
    {
     "name": "stderr",
     "output_type": "stream",
     "text": [
      "[Succeeded / Failed / Skipped / Total] 204 / 15 / 101 / 320:  64%|████████████▏      | 320/500 [06:02<03:24,  1.13s/it]textattack: Saving checkpoint under \"checkpoints\\1720195058778.ta.chkpt\" at 2024-07-05 23:57:38 after 320 attacks.\n"
     ]
    },
    {
     "name": "stdout",
     "output_type": "stream",
     "text": [
      "\n",
      "\n",
      "=============================================================================================================================\n",
      "=============================================================================================================================\n",
      "\n"
     ]
    },
    {
     "name": "stderr",
     "output_type": "stream",
     "text": [
      "[Succeeded / Failed / Skipped / Total] 207 / 15 / 103 / 325:  65%|████████████▎      | 325/500 [06:08<03:18,  1.13s/it]textattack: Saving checkpoint under \"checkpoints\\1720195064350.ta.chkpt\" at 2024-07-05 23:57:44 after 325 attacks.\n",
      "[Succeeded / Failed / Skipped / Total] 207 / 15 / 105 / 327:  65%|████████████▍      | 327/500 [06:08<03:14,  1.13s/it]"
     ]
    },
    {
     "name": "stdout",
     "output_type": "stream",
     "text": [
      "\n",
      "\n",
      "=============================================================================================================================\n",
      "=============================================================================================================================\n",
      "\n"
     ]
    },
    {
     "name": "stderr",
     "output_type": "stream",
     "text": [
      "[Succeeded / Failed / Skipped / Total] 208 / 15 / 107 / 330:  66%|████████████▌      | 330/500 [06:09<03:10,  1.12s/it]textattack: Saving checkpoint under \"checkpoints\\1720195065132.ta.chkpt\" at 2024-07-05 23:57:45 after 330 attacks.\n"
     ]
    },
    {
     "name": "stdout",
     "output_type": "stream",
     "text": [
      "\n",
      "\n",
      "=============================================================================================================================\n",
      "=============================================================================================================================\n",
      "\n"
     ]
    },
    {
     "name": "stderr",
     "output_type": "stream",
     "text": [
      "[Succeeded / Failed / Skipped / Total] 210 / 17 / 108 / 335:  67%|████████████▋      | 335/500 [06:19<03:06,  1.13s/it]textattack: Saving checkpoint under \"checkpoints\\1720195075635.ta.chkpt\" at 2024-07-05 23:57:55 after 335 attacks.\n"
     ]
    },
    {
     "name": "stdout",
     "output_type": "stream",
     "text": [
      "\n",
      "\n",
      "=============================================================================================================================\n",
      "=============================================================================================================================\n",
      "\n"
     ]
    },
    {
     "name": "stderr",
     "output_type": "stream",
     "text": [
      "[Succeeded / Failed / Skipped / Total] 213 / 17 / 110 / 340:  68%|████████████▉      | 340/500 [06:22<03:00,  1.13s/it]textattack: Saving checkpoint under \"checkpoints\\1720195078928.ta.chkpt\" at 2024-07-05 23:57:58 after 340 attacks.\n"
     ]
    },
    {
     "name": "stdout",
     "output_type": "stream",
     "text": [
      "\n",
      "\n",
      "=============================================================================================================================\n",
      "=============================================================================================================================\n",
      "\n"
     ]
    },
    {
     "name": "stderr",
     "output_type": "stream",
     "text": [
      "[Succeeded / Failed / Skipped / Total] 216 / 17 / 112 / 345:  69%|█████████████      | 345/500 [06:26<02:53,  1.12s/it]textattack: Saving checkpoint under \"checkpoints\\1720195082965.ta.chkpt\" at 2024-07-05 23:58:02 after 345 attacks.\n"
     ]
    },
    {
     "name": "stdout",
     "output_type": "stream",
     "text": [
      "\n",
      "\n",
      "=============================================================================================================================\n",
      "=============================================================================================================================\n",
      "\n"
     ]
    },
    {
     "name": "stderr",
     "output_type": "stream",
     "text": [
      "[Succeeded / Failed / Skipped / Total] 221 / 17 / 112 / 350:  70%|█████████████▎     | 350/500 [06:36<02:49,  1.13s/it]textattack: Saving checkpoint under \"checkpoints\\1720195092486.ta.chkpt\" at 2024-07-05 23:58:12 after 350 attacks.\n"
     ]
    },
    {
     "name": "stdout",
     "output_type": "stream",
     "text": [
      "\n",
      "\n",
      "=============================================================================================================================\n",
      "=============================================================================================================================\n",
      "\n"
     ]
    },
    {
     "name": "stderr",
     "output_type": "stream",
     "text": [
      "[Succeeded / Failed / Skipped / Total] 224 / 19 / 112 / 355:  71%|█████████████▍     | 355/500 [06:50<02:47,  1.16s/it]textattack: Saving checkpoint under \"checkpoints\\1720195106258.ta.chkpt\" at 2024-07-05 23:58:26 after 355 attacks.\n"
     ]
    },
    {
     "name": "stdout",
     "output_type": "stream",
     "text": [
      "\n",
      "\n",
      "=============================================================================================================================\n",
      "=============================================================================================================================\n",
      "\n"
     ]
    },
    {
     "name": "stderr",
     "output_type": "stream",
     "text": [
      "[Succeeded / Failed / Skipped / Total] 227 / 20 / 113 / 360:  72%|█████████████▋     | 360/500 [07:00<02:43,  1.17s/it]textattack: Saving checkpoint under \"checkpoints\\1720195116586.ta.chkpt\" at 2024-07-05 23:58:36 after 360 attacks.\n"
     ]
    },
    {
     "name": "stdout",
     "output_type": "stream",
     "text": [
      "\n",
      "\n",
      "=============================================================================================================================\n",
      "=============================================================================================================================\n",
      "\n"
     ]
    },
    {
     "name": "stderr",
     "output_type": "stream",
     "text": [
      "[Succeeded / Failed / Skipped / Total] 231 / 20 / 114 / 365:  73%|█████████████▊     | 365/500 [07:04<02:37,  1.16s/it]textattack: Saving checkpoint under \"checkpoints\\1720195120921.ta.chkpt\" at 2024-07-05 23:58:40 after 365 attacks.\n"
     ]
    },
    {
     "name": "stdout",
     "output_type": "stream",
     "text": [
      "\n",
      "\n",
      "=============================================================================================================================\n",
      "=============================================================================================================================\n",
      "\n"
     ]
    },
    {
     "name": "stderr",
     "output_type": "stream",
     "text": [
      "[Succeeded / Failed / Skipped / Total] 234 / 20 / 116 / 370:  74%|██████████████     | 370/500 [07:07<02:30,  1.16s/it]textattack: Saving checkpoint under \"checkpoints\\1720195123689.ta.chkpt\" at 2024-07-05 23:58:43 after 370 attacks.\n"
     ]
    },
    {
     "name": "stdout",
     "output_type": "stream",
     "text": [
      "\n",
      "\n",
      "=============================================================================================================================\n",
      "=============================================================================================================================\n",
      "\n"
     ]
    },
    {
     "name": "stderr",
     "output_type": "stream",
     "text": [
      "[Succeeded / Failed / Skipped / Total] 239 / 20 / 116 / 375:  75%|██████████████▎    | 375/500 [07:13<02:24,  1.16s/it]textattack: Saving checkpoint under \"checkpoints\\1720195129163.ta.chkpt\" at 2024-07-05 23:58:49 after 375 attacks.\n"
     ]
    },
    {
     "name": "stdout",
     "output_type": "stream",
     "text": [
      "\n",
      "\n",
      "=============================================================================================================================\n",
      "=============================================================================================================================\n",
      "\n"
     ]
    },
    {
     "name": "stderr",
     "output_type": "stream",
     "text": [
      "[Succeeded / Failed / Skipped / Total] 243 / 20 / 117 / 380:  76%|██████████████▍    | 380/500 [07:16<02:17,  1.15s/it]textattack: Saving checkpoint under \"checkpoints\\1720195132792.ta.chkpt\" at 2024-07-05 23:58:52 after 380 attacks.\n"
     ]
    },
    {
     "name": "stdout",
     "output_type": "stream",
     "text": [
      "\n",
      "\n",
      "=============================================================================================================================\n",
      "=============================================================================================================================\n",
      "\n"
     ]
    },
    {
     "name": "stderr",
     "output_type": "stream",
     "text": [
      "[Succeeded / Failed / Skipped / Total] 247 / 20 / 118 / 385:  77%|██████████████▋    | 385/500 [07:19<02:11,  1.14s/it]textattack: Saving checkpoint under \"checkpoints\\1720195136004.ta.chkpt\" at 2024-07-05 23:58:56 after 385 attacks.\n"
     ]
    },
    {
     "name": "stdout",
     "output_type": "stream",
     "text": [
      "\n",
      "\n",
      "=============================================================================================================================\n",
      "=============================================================================================================================\n",
      "\n"
     ]
    },
    {
     "name": "stderr",
     "output_type": "stream",
     "text": [
      "[Succeeded / Failed / Skipped / Total] 251 / 20 / 119 / 390:  78%|██████████████▊    | 390/500 [07:24<02:05,  1.14s/it]textattack: Saving checkpoint under \"checkpoints\\1720195140632.ta.chkpt\" at 2024-07-05 23:59:00 after 390 attacks.\n"
     ]
    },
    {
     "name": "stdout",
     "output_type": "stream",
     "text": [
      "\n",
      "\n",
      "=============================================================================================================================\n",
      "=============================================================================================================================\n",
      "\n"
     ]
    },
    {
     "name": "stderr",
     "output_type": "stream",
     "text": [
      "[Succeeded / Failed / Skipped / Total] 256 / 20 / 119 / 395:  79%|███████████████    | 395/500 [07:38<02:01,  1.16s/it]textattack: Saving checkpoint under \"checkpoints\\1720195154571.ta.chkpt\" at 2024-07-05 23:59:14 after 395 attacks.\n"
     ]
    },
    {
     "name": "stdout",
     "output_type": "stream",
     "text": [
      "\n",
      "\n",
      "=============================================================================================================================\n",
      "=============================================================================================================================\n",
      "\n"
     ]
    },
    {
     "name": "stderr",
     "output_type": "stream",
     "text": [
      "[Succeeded / Failed / Skipped / Total] 260 / 20 / 120 / 400:  80%|███████████████▏   | 400/500 [07:48<01:57,  1.17s/it]textattack: Saving checkpoint under \"checkpoints\\1720195164690.ta.chkpt\" at 2024-07-05 23:59:24 after 400 attacks.\n",
      "[Succeeded / Failed / Skipped / Total] 260 / 20 / 121 / 401:  80%|███████████████▎   | 402/500 [07:48<01:54,  1.17s/it]"
     ]
    },
    {
     "name": "stdout",
     "output_type": "stream",
     "text": [
      "\n",
      "\n",
      "=============================================================================================================================\n",
      "=============================================================================================================================\n",
      "\n"
     ]
    },
    {
     "name": "stderr",
     "output_type": "stream",
     "text": [
      "[Succeeded / Failed / Skipped / Total] 262 / 20 / 123 / 405:  81%|███████████████▍   | 405/500 [07:55<01:51,  1.17s/it]textattack: Saving checkpoint under \"checkpoints\\1720195171129.ta.chkpt\" at 2024-07-05 23:59:31 after 405 attacks.\n"
     ]
    },
    {
     "name": "stdout",
     "output_type": "stream",
     "text": [
      "\n",
      "\n",
      "=============================================================================================================================\n",
      "=============================================================================================================================\n",
      "\n"
     ]
    },
    {
     "name": "stderr",
     "output_type": "stream",
     "text": [
      "[Succeeded / Failed / Skipped / Total] 266 / 20 / 124 / 410:  82%|███████████████▌   | 410/500 [07:58<01:45,  1.17s/it]textattack: Saving checkpoint under \"checkpoints\\1720195174491.ta.chkpt\" at 2024-07-05 23:59:34 after 410 attacks.\n",
      "[Succeeded / Failed / Skipped / Total] 266 / 20 / 125 / 411:  82%|███████████████▌   | 411/500 [07:58<01:43,  1.16s/it]"
     ]
    },
    {
     "name": "stdout",
     "output_type": "stream",
     "text": [
      "\n",
      "\n",
      "=============================================================================================================================\n",
      "=============================================================================================================================\n",
      "\n"
     ]
    },
    {
     "name": "stderr",
     "output_type": "stream",
     "text": [
      "[Succeeded / Failed / Skipped / Total] 268 / 20 / 127 / 415:  83%|███████████████▊   | 415/500 [08:01<01:38,  1.16s/it]textattack: Saving checkpoint under \"checkpoints\\1720195177899.ta.chkpt\" at 2024-07-05 23:59:37 after 415 attacks.\n"
     ]
    },
    {
     "name": "stdout",
     "output_type": "stream",
     "text": [
      "\n",
      "\n",
      "=============================================================================================================================\n",
      "=============================================================================================================================\n",
      "\n"
     ]
    },
    {
     "name": "stderr",
     "output_type": "stream",
     "text": [
      "[Succeeded / Failed / Skipped / Total] 271 / 20 / 129 / 420:  84%|███████████████▉   | 420/500 [08:12<01:33,  1.17s/it]textattack: Saving checkpoint under \"checkpoints\\1720195188628.ta.chkpt\" at 2024-07-05 23:59:48 after 420 attacks.\n"
     ]
    },
    {
     "name": "stdout",
     "output_type": "stream",
     "text": [
      "\n",
      "\n",
      "=============================================================================================================================\n",
      "=============================================================================================================================\n",
      "\n"
     ]
    },
    {
     "name": "stderr",
     "output_type": "stream",
     "text": [
      "[Succeeded / Failed / Skipped / Total] 276 / 20 / 129 / 425:  85%|████████████████▏  | 425/500 [08:18<01:27,  1.17s/it]textattack: Saving checkpoint under \"checkpoints\\1720195194133.ta.chkpt\" at 2024-07-05 23:59:54 after 425 attacks.\n",
      "[Succeeded / Failed / Skipped / Total] 276 / 20 / 130 / 426:  85%|████████████████▏  | 426/500 [08:18<01:26,  1.17s/it]"
     ]
    },
    {
     "name": "stdout",
     "output_type": "stream",
     "text": [
      "\n",
      "\n",
      "=============================================================================================================================\n",
      "=============================================================================================================================\n",
      "\n"
     ]
    },
    {
     "name": "stderr",
     "output_type": "stream",
     "text": [
      "[Succeeded / Failed / Skipped / Total] 279 / 20 / 131 / 430:  86%|████████████████▎  | 430/500 [08:21<01:21,  1.17s/it]textattack: Saving checkpoint under \"checkpoints\\1720195197633.ta.chkpt\" at 2024-07-05 23:59:57 after 430 attacks.\n",
      "[Succeeded / Failed / Skipped / Total] 279 / 20 / 133 / 432:  86%|████████████████▍  | 432/500 [08:21<01:18,  1.16s/it]"
     ]
    },
    {
     "name": "stdout",
     "output_type": "stream",
     "text": [
      "\n",
      "\n",
      "=============================================================================================================================\n",
      "=============================================================================================================================\n",
      "\n"
     ]
    },
    {
     "name": "stderr",
     "output_type": "stream",
     "text": [
      "[Succeeded / Failed / Skipped / Total] 282 / 20 / 133 / 435:  87%|████████████████▌  | 435/500 [08:24<01:15,  1.16s/it]textattack: Saving checkpoint under \"checkpoints\\1720195200108.ta.chkpt\" at 2024-07-06 00:00:00 after 435 attacks.\n"
     ]
    },
    {
     "name": "stdout",
     "output_type": "stream",
     "text": [
      "\n",
      "\n",
      "=============================================================================================================================\n",
      "=============================================================================================================================\n",
      "\n"
     ]
    },
    {
     "name": "stderr",
     "output_type": "stream",
     "text": [
      "[Succeeded / Failed / Skipped / Total] 287 / 20 / 133 / 440:  88%|████████████████▋  | 440/500 [08:29<01:09,  1.16s/it]textattack: Saving checkpoint under \"checkpoints\\1720195205895.ta.chkpt\" at 2024-07-06 00:00:05 after 440 attacks.\n"
     ]
    },
    {
     "name": "stdout",
     "output_type": "stream",
     "text": [
      "\n",
      "\n",
      "=============================================================================================================================\n",
      "=============================================================================================================================\n",
      "\n"
     ]
    },
    {
     "name": "stderr",
     "output_type": "stream",
     "text": [
      "[Succeeded / Failed / Skipped / Total] 291 / 20 / 134 / 445:  89%|████████████████▉  | 445/500 [08:33<01:03,  1.15s/it]textattack: Saving checkpoint under \"checkpoints\\1720195209836.ta.chkpt\" at 2024-07-06 00:00:09 after 445 attacks.\n"
     ]
    },
    {
     "name": "stdout",
     "output_type": "stream",
     "text": [
      "\n",
      "\n",
      "=============================================================================================================================\n",
      "=============================================================================================================================\n",
      "\n"
     ]
    },
    {
     "name": "stderr",
     "output_type": "stream",
     "text": [
      "[Succeeded / Failed / Skipped / Total] 293 / 21 / 136 / 450:  90%|█████████████████  | 450/500 [08:43<00:58,  1.16s/it]textattack: Saving checkpoint under \"checkpoints\\1720195219065.ta.chkpt\" at 2024-07-06 00:00:19 after 450 attacks.\n",
      "[Succeeded / Failed / Skipped / Total] 293 / 21 / 137 / 451:  90%|█████████████████▏ | 451/500 [08:43<00:56,  1.16s/it]"
     ]
    },
    {
     "name": "stdout",
     "output_type": "stream",
     "text": [
      "\n",
      "\n",
      "=============================================================================================================================\n",
      "=============================================================================================================================\n",
      "\n"
     ]
    },
    {
     "name": "stderr",
     "output_type": "stream",
     "text": [
      "[Succeeded / Failed / Skipped / Total] 296 / 21 / 138 / 455:  91%|█████████████████▎ | 455/500 [08:46<00:52,  1.16s/it]textattack: Saving checkpoint under \"checkpoints\\1720195222394.ta.chkpt\" at 2024-07-06 00:00:22 after 455 attacks.\n"
     ]
    },
    {
     "name": "stdout",
     "output_type": "stream",
     "text": [
      "\n",
      "\n",
      "=============================================================================================================================\n",
      "=============================================================================================================================\n",
      "\n"
     ]
    },
    {
     "name": "stderr",
     "output_type": "stream",
     "text": [
      "[Succeeded / Failed / Skipped / Total] 300 / 21 / 139 / 460:  92%|█████████████████▍ | 460/500 [08:52<00:46,  1.16s/it]textattack: Saving checkpoint under \"checkpoints\\1720195228110.ta.chkpt\" at 2024-07-06 00:00:28 after 460 attacks.\n"
     ]
    },
    {
     "name": "stdout",
     "output_type": "stream",
     "text": [
      "\n",
      "\n",
      "=============================================================================================================================\n",
      "=============================================================================================================================\n",
      "\n"
     ]
    },
    {
     "name": "stderr",
     "output_type": "stream",
     "text": [
      "[Succeeded / Failed / Skipped / Total] 304 / 21 / 140 / 465:  93%|█████████████████▋ | 465/500 [08:57<00:40,  1.16s/it]textattack: Saving checkpoint under \"checkpoints\\1720195233507.ta.chkpt\" at 2024-07-06 00:00:33 after 465 attacks.\n"
     ]
    },
    {
     "name": "stdout",
     "output_type": "stream",
     "text": [
      "\n",
      "\n",
      "=============================================================================================================================\n",
      "=============================================================================================================================\n",
      "\n"
     ]
    },
    {
     "name": "stderr",
     "output_type": "stream",
     "text": [
      "[Succeeded / Failed / Skipped / Total] 308 / 21 / 141 / 470:  94%|█████████████████▊ | 470/500 [09:00<00:34,  1.15s/it]textattack: Saving checkpoint under \"checkpoints\\1720195236111.ta.chkpt\" at 2024-07-06 00:00:36 after 470 attacks.\n"
     ]
    },
    {
     "name": "stdout",
     "output_type": "stream",
     "text": [
      "\n",
      "\n",
      "=============================================================================================================================\n",
      "=============================================================================================================================\n",
      "\n"
     ]
    },
    {
     "name": "stderr",
     "output_type": "stream",
     "text": [
      "[Succeeded / Failed / Skipped / Total] 312 / 21 / 142 / 475:  95%|██████████████████ | 475/500 [09:09<00:28,  1.16s/it]textattack: Saving checkpoint under \"checkpoints\\1720195245535.ta.chkpt\" at 2024-07-06 00:00:45 after 475 attacks.\n"
     ]
    },
    {
     "name": "stdout",
     "output_type": "stream",
     "text": [
      "\n",
      "\n",
      "=============================================================================================================================\n",
      "=============================================================================================================================\n",
      "\n"
     ]
    },
    {
     "name": "stderr",
     "output_type": "stream",
     "text": [
      "[Succeeded / Failed / Skipped / Total] 316 / 21 / 143 / 480:  96%|██████████████████▏| 480/500 [09:13<00:23,  1.15s/it]textattack: Saving checkpoint under \"checkpoints\\1720195249397.ta.chkpt\" at 2024-07-06 00:00:49 after 480 attacks.\n"
     ]
    },
    {
     "name": "stdout",
     "output_type": "stream",
     "text": [
      "\n",
      "\n",
      "=============================================================================================================================\n",
      "=============================================================================================================================\n",
      "\n"
     ]
    },
    {
     "name": "stderr",
     "output_type": "stream",
     "text": [
      "[Succeeded / Failed / Skipped / Total] 318 / 23 / 144 / 485:  97%|██████████████████▍| 485/500 [09:30<00:17,  1.18s/it]textattack: Saving checkpoint under \"checkpoints\\1720195266203.ta.chkpt\" at 2024-07-06 00:01:06 after 485 attacks.\n"
     ]
    },
    {
     "name": "stdout",
     "output_type": "stream",
     "text": [
      "\n",
      "\n",
      "=============================================================================================================================\n",
      "=============================================================================================================================\n",
      "\n"
     ]
    },
    {
     "name": "stderr",
     "output_type": "stream",
     "text": [
      "[Succeeded / Failed / Skipped / Total] 322 / 23 / 145 / 490:  98%|██████████████████▌| 490/500 [09:33<00:11,  1.17s/it]textattack: Saving checkpoint under \"checkpoints\\1720195269985.ta.chkpt\" at 2024-07-06 00:01:09 after 490 attacks.\n",
      "[Succeeded / Failed / Skipped / Total] 322 / 23 / 146 / 491:  98%|██████████████████▋| 491/500 [09:34<00:10,  1.17s/it]"
     ]
    },
    {
     "name": "stdout",
     "output_type": "stream",
     "text": [
      "\n",
      "\n",
      "=============================================================================================================================\n",
      "=============================================================================================================================\n",
      "\n"
     ]
    },
    {
     "name": "stderr",
     "output_type": "stream",
     "text": [
      "[Succeeded / Failed / Skipped / Total] 324 / 23 / 148 / 495:  99%|██████████████████▊| 495/500 [09:36<00:05,  1.17s/it]textattack: Saving checkpoint under \"checkpoints\\1720195272789.ta.chkpt\" at 2024-07-06 00:01:12 after 495 attacks.\n",
      "[Succeeded / Failed / Skipped / Total] 324 / 23 / 149 / 496:  99%|██████████████████▊| 496/500 [09:36<00:04,  1.16s/it]"
     ]
    },
    {
     "name": "stdout",
     "output_type": "stream",
     "text": [
      "\n",
      "\n",
      "=============================================================================================================================\n",
      "=============================================================================================================================\n",
      "\n"
     ]
    },
    {
     "name": "stderr",
     "output_type": "stream",
     "text": [
      "[Succeeded / Failed / Skipped / Total] 328 / 23 / 149 / 500: 100%|███████████████████| 500/500 [09:40<00:00,  1.16s/it]textattack: Saving checkpoint under \"checkpoints\\1720195277011.ta.chkpt\" at 2024-07-06 00:01:17 after 500 attacks.\n",
      "[Succeeded / Failed / Skipped / Total] 328 / 23 / 149 / 500: 100%|███████████████████| 500/500 [09:41<00:00,  1.16s/it]"
     ]
    },
    {
     "name": "stdout",
     "output_type": "stream",
     "text": [
      "\n",
      "\n",
      "=============================================================================================================================\n",
      "=============================================================================================================================\n",
      "\n",
      "\n",
      "+-------------------------------+--------+\n",
      "| Attack Results                |        |\n",
      "+-------------------------------+--------+\n",
      "| Number of successful attacks: | 328    |\n",
      "| Number of failed attacks:     | 23     |\n",
      "| Number of skipped attacks:    | 149    |\n",
      "| Original accuracy:            | 70.2%  |\n",
      "| Accuracy under attack:        | 4.6%   |\n",
      "| Attack success rate:          | 93.45% |\n",
      "| Average perturbed word %:     | 13.83% |\n",
      "| Average num. words per input: | 18.4   |\n",
      "| Avg num queries:              | 58.84  |\n",
      "+-------------------------------+--------+\n"
     ]
    },
    {
     "name": "stderr",
     "output_type": "stream",
     "text": [
      "\n"
     ]
    }
   ],
   "source": [
    "runAttack(clip_model_wrapper_rf_mr, n_samples, 'attack_results_new/clipmrattackrf'+suffix, target_ds_mr)"
   ]
  },
  {
   "cell_type": "code",
   "execution_count": 30,
   "id": "e504697f-f05b-42bc-a947-145973d676e3",
   "metadata": {
    "scrolled": true
   },
   "outputs": [
    {
     "name": "stderr",
     "output_type": "stream",
     "text": [
      "textattack: Unknown if model of class <class 'transformers.models.clip.modeling_clip.CLIPTextTransformer'> compatible with goal function <class 'textattack.goal_functions.classification.untargeted_classification.UntargetedClassification'>.\n",
      "textattack: Logging to CSV at path attack_results_new/clipmrattackknnsim06.csv\n"
     ]
    },
    {
     "name": "stdout",
     "output_type": "stream",
     "text": [
      "Attack(\n",
      "  (search_method): GreedyWordSwapWIR(\n",
      "    (wir_method):  delete\n",
      "  )\n",
      "  (goal_function):  UntargetedClassification\n",
      "  (transformation):  WordSwapEmbedding(\n",
      "    (max_candidates):  50\n",
      "    (embedding):  WordEmbedding\n",
      "  )\n",
      "  (constraints): \n",
      "    (0): WordEmbeddingDistance(\n",
      "        (embedding):  WordEmbedding\n",
      "        (min_cos_sim):  0.6\n",
      "        (cased):  False\n",
      "        (include_unknown_words):  True\n",
      "        (compare_against_original):  True\n",
      "      )\n",
      "    (1): PartOfSpeech(\n",
      "        (tagger_type):  nltk\n",
      "        (tagset):  universal\n",
      "        (allow_verb_noun_swap):  True\n",
      "        (compare_against_original):  True\n",
      "      )\n",
      "    (2): UniversalSentenceEncoder(\n",
      "        (metric):  angular\n",
      "        (threshold):  0.840845057\n",
      "        (window_size):  15\n",
      "        (skip_text_shorter_than_window):  True\n",
      "        (compare_against_original):  False\n",
      "      )\n",
      "    (3): RepeatModification\n",
      "    (4): StopwordModification\n",
      "    (5): InputColumnModification(\n",
      "        (matching_column_labels):  ['premise', 'hypothesis']\n",
      "        (columns_to_ignore):  {'premise'}\n",
      "      )\n",
      "  (is_black_box):  True\n",
      ") \n",
      "\n"
     ]
    },
    {
     "name": "stderr",
     "output_type": "stream",
     "text": [
      "[Succeeded / Failed / Skipped / Total] 2 / 3 / 0 / 5:   1%|▎                           | 5/500 [00:19<31:42,  3.84s/it]textattack: Saving checkpoint under \"checkpoints\\1720195296319.ta.chkpt\" at 2024-07-06 00:01:36 after 5 attacks.\n"
     ]
    },
    {
     "name": "stdout",
     "output_type": "stream",
     "text": [
      "\n",
      "\n",
      "=============================================================================================================================\n",
      "=============================================================================================================================\n",
      "\n"
     ]
    },
    {
     "name": "stderr",
     "output_type": "stream",
     "text": [
      "[Succeeded / Failed / Skipped / Total] 4 / 4 / 2 / 10:   2%|▌                         | 10/500 [00:26<21:14,  2.60s/it]textattack: Saving checkpoint under \"checkpoints\\1720195303113.ta.chkpt\" at 2024-07-06 00:01:43 after 10 attacks.\n"
     ]
    },
    {
     "name": "stdout",
     "output_type": "stream",
     "text": [
      "\n",
      "\n",
      "=============================================================================================================================\n",
      "=============================================================================================================================\n",
      "\n"
     ]
    },
    {
     "name": "stderr",
     "output_type": "stream",
     "text": [
      "[Succeeded / Failed / Skipped / Total] 7 / 5 / 3 / 15:   3%|▊                         | 15/500 [00:36<19:38,  2.43s/it]textattack: Saving checkpoint under \"checkpoints\\1720195313555.ta.chkpt\" at 2024-07-06 00:01:53 after 15 attacks.\n"
     ]
    },
    {
     "name": "stdout",
     "output_type": "stream",
     "text": [
      "\n",
      "\n",
      "=============================================================================================================================\n",
      "=============================================================================================================================\n",
      "\n"
     ]
    },
    {
     "name": "stderr",
     "output_type": "stream",
     "text": [
      "[Succeeded / Failed / Skipped / Total] 11 / 5 / 4 / 20:   4%|█                        | 20/500 [00:38<15:26,  1.93s/it]textattack: Saving checkpoint under \"checkpoints\\1720195315720.ta.chkpt\" at 2024-07-06 00:01:55 after 20 attacks.\n"
     ]
    },
    {
     "name": "stdout",
     "output_type": "stream",
     "text": [
      "\n",
      "\n",
      "=============================================================================================================================\n",
      "=============================================================================================================================\n",
      "\n"
     ]
    },
    {
     "name": "stderr",
     "output_type": "stream",
     "text": [
      "[Succeeded / Failed / Skipped / Total] 12 / 6 / 7 / 25:   5%|█▎                       | 25/500 [00:45<14:23,  1.82s/it]textattack: Saving checkpoint under \"checkpoints\\1720195322546.ta.chkpt\" at 2024-07-06 00:02:02 after 25 attacks.\n"
     ]
    },
    {
     "name": "stdout",
     "output_type": "stream",
     "text": [
      "\n",
      "\n",
      "=============================================================================================================================\n",
      "=============================================================================================================================\n",
      "\n"
     ]
    },
    {
     "name": "stderr",
     "output_type": "stream",
     "text": [
      "[Succeeded / Failed / Skipped / Total] 13 / 7 / 10 / 30:   6%|█▍                      | 30/500 [00:54<14:10,  1.81s/it]textattack: Saving checkpoint under \"checkpoints\\1720195331394.ta.chkpt\" at 2024-07-06 00:02:11 after 30 attacks.\n",
      "[Succeeded / Failed / Skipped / Total] 13 / 7 / 11 / 31:   6%|█▍                      | 31/500 [00:54<13:42,  1.75s/it]"
     ]
    },
    {
     "name": "stdout",
     "output_type": "stream",
     "text": [
      "\n",
      "\n",
      "=============================================================================================================================\n",
      "=============================================================================================================================\n",
      "\n"
     ]
    },
    {
     "name": "stderr",
     "output_type": "stream",
     "text": [
      "[Succeeded / Failed / Skipped / Total] 16 / 7 / 12 / 35:   7%|█▋                      | 35/500 [01:01<13:41,  1.77s/it]textattack: Saving checkpoint under \"checkpoints\\1720195338958.ta.chkpt\" at 2024-07-06 00:02:18 after 35 attacks.\n",
      "[Succeeded / Failed / Skipped / Total] 16 / 7 / 13 / 36:   7%|█▋                      | 36/500 [01:01<13:18,  1.72s/it]"
     ]
    },
    {
     "name": "stdout",
     "output_type": "stream",
     "text": [
      "\n",
      "\n",
      "=============================================================================================================================\n",
      "=============================================================================================================================\n",
      "\n"
     ]
    },
    {
     "name": "stderr",
     "output_type": "stream",
     "text": [
      "[Succeeded / Failed / Skipped / Total] 17 / 7 / 16 / 40:   8%|█▉                      | 40/500 [01:03<12:05,  1.58s/it]textattack: Saving checkpoint under \"checkpoints\\1720195340161.ta.chkpt\" at 2024-07-06 00:02:20 after 40 attacks.\n"
     ]
    },
    {
     "name": "stdout",
     "output_type": "stream",
     "text": [
      "\n",
      "\n",
      "=============================================================================================================================\n",
      "=============================================================================================================================\n",
      "\n"
     ]
    },
    {
     "name": "stderr",
     "output_type": "stream",
     "text": [
      "[Succeeded / Failed / Skipped / Total] 20 / 8 / 17 / 45:   9%|██▏                     | 45/500 [01:17<13:05,  1.73s/it]textattack: Saving checkpoint under \"checkpoints\\1720195354762.ta.chkpt\" at 2024-07-06 00:02:34 after 45 attacks.\n"
     ]
    },
    {
     "name": "stdout",
     "output_type": "stream",
     "text": [
      "\n",
      "\n",
      "=============================================================================================================================\n",
      "=============================================================================================================================\n",
      "\n"
     ]
    },
    {
     "name": "stderr",
     "output_type": "stream",
     "text": [
      "[Succeeded / Failed / Skipped / Total] 24 / 8 / 18 / 50:  10%|██▍                     | 50/500 [01:21<12:13,  1.63s/it]textattack: Saving checkpoint under \"checkpoints\\1720195358582.ta.chkpt\" at 2024-07-06 00:02:38 after 50 attacks.\n",
      "[Succeeded / Failed / Skipped / Total] 24 / 8 / 19 / 51:  10%|██▍                     | 51/500 [01:21<11:58,  1.60s/it]"
     ]
    },
    {
     "name": "stdout",
     "output_type": "stream",
     "text": [
      "\n",
      "\n",
      "=============================================================================================================================\n",
      "=============================================================================================================================\n",
      "\n"
     ]
    },
    {
     "name": "stderr",
     "output_type": "stream",
     "text": [
      "[Succeeded / Failed / Skipped / Total] 26 / 9 / 20 / 55:  11%|██▋                     | 55/500 [01:29<12:03,  1.63s/it]textattack: Saving checkpoint under \"checkpoints\\1720195366483.ta.chkpt\" at 2024-07-06 00:02:46 after 55 attacks.\n"
     ]
    },
    {
     "name": "stdout",
     "output_type": "stream",
     "text": [
      "\n",
      "\n",
      "=============================================================================================================================\n",
      "=============================================================================================================================\n",
      "\n"
     ]
    },
    {
     "name": "stderr",
     "output_type": "stream",
     "text": [
      "[Succeeded / Failed / Skipped / Total] 31 / 9 / 20 / 60:  12%|██▉                     | 60/500 [01:37<11:52,  1.62s/it]textattack: Saving checkpoint under \"checkpoints\\1720195374257.ta.chkpt\" at 2024-07-06 00:02:54 after 60 attacks.\n",
      "[Succeeded / Failed / Skipped / Total] 31 / 9 / 21 / 61:  12%|██▉                     | 61/500 [01:37<11:39,  1.59s/it]"
     ]
    },
    {
     "name": "stdout",
     "output_type": "stream",
     "text": [
      "\n",
      "\n",
      "=============================================================================================================================\n",
      "=============================================================================================================================\n",
      "\n"
     ]
    },
    {
     "name": "stderr",
     "output_type": "stream",
     "text": [
      "[Succeeded / Failed / Skipped / Total] 35 / 9 / 21 / 65:  13%|███                     | 65/500 [01:40<11:10,  1.54s/it]textattack: Saving checkpoint under \"checkpoints\\1720195377243.ta.chkpt\" at 2024-07-06 00:02:57 after 65 attacks.\n"
     ]
    },
    {
     "name": "stdout",
     "output_type": "stream",
     "text": [
      "\n",
      "\n",
      "=============================================================================================================================\n",
      "=============================================================================================================================\n",
      "\n"
     ]
    },
    {
     "name": "stderr",
     "output_type": "stream",
     "text": [
      "[Succeeded / Failed / Skipped / Total] 39 / 10 / 21 / 70:  14%|███▏                   | 70/500 [01:49<11:11,  1.56s/it]textattack: Saving checkpoint under \"checkpoints\\1720195386344.ta.chkpt\" at 2024-07-06 00:03:06 after 70 attacks.\n",
      "[Succeeded / Failed / Skipped / Total] 39 / 10 / 22 / 71:  14%|███▎                   | 71/500 [01:49<11:00,  1.54s/it]"
     ]
    },
    {
     "name": "stdout",
     "output_type": "stream",
     "text": [
      "\n",
      "\n",
      "=============================================================================================================================\n",
      "=============================================================================================================================\n",
      "\n"
     ]
    },
    {
     "name": "stderr",
     "output_type": "stream",
     "text": [
      "[Succeeded / Failed / Skipped / Total] 42 / 10 / 23 / 75:  15%|███▍                   | 75/500 [01:51<10:34,  1.49s/it]textattack: Saving checkpoint under \"checkpoints\\1720195389062.ta.chkpt\" at 2024-07-06 00:03:09 after 75 attacks.\n",
      "[Succeeded / Failed / Skipped / Total] 42 / 10 / 24 / 76:  15%|███▍                   | 76/500 [01:52<10:25,  1.47s/it]"
     ]
    },
    {
     "name": "stdout",
     "output_type": "stream",
     "text": [
      "\n",
      "\n",
      "=============================================================================================================================\n",
      "=============================================================================================================================\n",
      "\n"
     ]
    },
    {
     "name": "stderr",
     "output_type": "stream",
     "text": [
      "[Succeeded / Failed / Skipped / Total] 45 / 11 / 24 / 80:  16%|███▋                   | 80/500 [01:59<10:25,  1.49s/it]textattack: Saving checkpoint under \"checkpoints\\1720195396168.ta.chkpt\" at 2024-07-06 00:03:16 after 80 attacks.\n",
      "[Succeeded / Failed / Skipped / Total] 45 / 11 / 26 / 82:  16%|███▊                   | 82/500 [01:59<10:07,  1.45s/it]"
     ]
    },
    {
     "name": "stdout",
     "output_type": "stream",
     "text": [
      "\n",
      "\n",
      "=============================================================================================================================\n",
      "=============================================================================================================================\n",
      "\n"
     ]
    },
    {
     "name": "stderr",
     "output_type": "stream",
     "text": [
      "[Succeeded / Failed / Skipped / Total] 47 / 11 / 27 / 85:  17%|███▉                   | 85/500 [02:00<09:49,  1.42s/it]textattack: Saving checkpoint under \"checkpoints\\1720195397872.ta.chkpt\" at 2024-07-06 00:03:17 after 85 attacks.\n",
      "[Succeeded / Failed / Skipped / Total] 47 / 11 / 28 / 86:  17%|███▉                   | 86/500 [02:00<09:42,  1.41s/it]"
     ]
    },
    {
     "name": "stdout",
     "output_type": "stream",
     "text": [
      "\n",
      "\n",
      "=============================================================================================================================\n",
      "=============================================================================================================================\n",
      "\n"
     ]
    },
    {
     "name": "stderr",
     "output_type": "stream",
     "text": [
      "[Succeeded / Failed / Skipped / Total] 49 / 11 / 30 / 90:  18%|████▏                  | 90/500 [02:02<09:17,  1.36s/it]textattack: Saving checkpoint under \"checkpoints\\1720195399428.ta.chkpt\" at 2024-07-06 00:03:19 after 90 attacks.\n",
      "[Succeeded / Failed / Skipped / Total] 49 / 11 / 31 / 91:  18%|████▏                  | 91/500 [02:02<09:10,  1.35s/it]"
     ]
    },
    {
     "name": "stdout",
     "output_type": "stream",
     "text": [
      "\n",
      "\n",
      "=============================================================================================================================\n",
      "=============================================================================================================================\n",
      "\n"
     ]
    },
    {
     "name": "stderr",
     "output_type": "stream",
     "text": [
      "[Succeeded / Failed / Skipped / Total] 53 / 11 / 31 / 95:  19%|████▎                  | 95/500 [02:07<09:03,  1.34s/it]textattack: Saving checkpoint under \"checkpoints\\1720195404534.ta.chkpt\" at 2024-07-06 00:03:24 after 95 attacks.\n"
     ]
    },
    {
     "name": "stdout",
     "output_type": "stream",
     "text": [
      "\n",
      "\n",
      "=============================================================================================================================\n",
      "=============================================================================================================================\n",
      "\n"
     ]
    },
    {
     "name": "stderr",
     "output_type": "stream",
     "text": [
      "[Succeeded / Failed / Skipped / Total] 58 / 11 / 31 / 100:  20%|████▏                | 100/500 [02:11<08:45,  1.31s/it]textattack: Saving checkpoint under \"checkpoints\\1720195408429.ta.chkpt\" at 2024-07-06 00:03:28 after 100 attacks.\n"
     ]
    },
    {
     "name": "stdout",
     "output_type": "stream",
     "text": [
      "\n",
      "\n",
      "=============================================================================================================================\n",
      "=============================================================================================================================\n",
      "\n"
     ]
    },
    {
     "name": "stderr",
     "output_type": "stream",
     "text": [
      "[Succeeded / Failed / Skipped / Total] 61 / 12 / 32 / 105:  21%|████▍                | 105/500 [02:21<08:52,  1.35s/it]textattack: Saving checkpoint under \"checkpoints\\1720195418773.ta.chkpt\" at 2024-07-06 00:03:38 after 105 attacks.\n",
      "[Succeeded / Failed / Skipped / Total] 61 / 12 / 33 / 106:  21%|████▍                | 106/500 [02:21<08:46,  1.34s/it]"
     ]
    },
    {
     "name": "stdout",
     "output_type": "stream",
     "text": [
      "\n",
      "\n",
      "=============================================================================================================================\n",
      "=============================================================================================================================\n",
      "\n"
     ]
    },
    {
     "name": "stderr",
     "output_type": "stream",
     "text": [
      "[Succeeded / Failed / Skipped / Total] 62 / 12 / 36 / 110:  22%|████▌                | 110/500 [02:23<08:27,  1.30s/it]textattack: Saving checkpoint under \"checkpoints\\1720195420113.ta.chkpt\" at 2024-07-06 00:03:40 after 110 attacks.\n",
      "[Succeeded / Failed / Skipped / Total] 62 / 12 / 37 / 111:  22%|████▋                | 111/500 [02:23<08:21,  1.29s/it]"
     ]
    },
    {
     "name": "stdout",
     "output_type": "stream",
     "text": [
      "\n",
      "\n",
      "=============================================================================================================================\n",
      "=============================================================================================================================\n",
      "\n"
     ]
    },
    {
     "name": "stderr",
     "output_type": "stream",
     "text": [
      "[Succeeded / Failed / Skipped / Total] 65 / 12 / 38 / 115:  23%|████▊                | 115/500 [02:28<08:15,  1.29s/it]textattack: Saving checkpoint under \"checkpoints\\1720195425129.ta.chkpt\" at 2024-07-06 00:03:45 after 115 attacks.\n"
     ]
    },
    {
     "name": "stdout",
     "output_type": "stream",
     "text": [
      "\n",
      "\n",
      "=============================================================================================================================\n",
      "=============================================================================================================================\n",
      "\n"
     ]
    },
    {
     "name": "stderr",
     "output_type": "stream",
     "text": [
      "[Succeeded / Failed / Skipped / Total] 67 / 13 / 40 / 120:  24%|█████                | 120/500 [02:32<08:01,  1.27s/it]textattack: Saving checkpoint under \"checkpoints\\1720195429134.ta.chkpt\" at 2024-07-06 00:03:49 after 120 attacks.\n",
      "[Succeeded / Failed / Skipped / Total] 67 / 13 / 42 / 122:  24%|█████                | 122/500 [02:32<07:51,  1.25s/it]"
     ]
    },
    {
     "name": "stdout",
     "output_type": "stream",
     "text": [
      "\n",
      "\n",
      "=============================================================================================================================\n",
      "=============================================================================================================================\n",
      "\n"
     ]
    },
    {
     "name": "stderr",
     "output_type": "stream",
     "text": [
      "[Succeeded / Failed / Skipped / Total] 69 / 13 / 43 / 125:  25%|█████▎               | 125/500 [02:33<07:41,  1.23s/it]textattack: Saving checkpoint under \"checkpoints\\1720195430794.ta.chkpt\" at 2024-07-06 00:03:50 after 125 attacks.\n"
     ]
    },
    {
     "name": "stdout",
     "output_type": "stream",
     "text": [
      "\n",
      "\n",
      "=============================================================================================================================\n",
      "=============================================================================================================================\n",
      "\n"
     ]
    },
    {
     "name": "stderr",
     "output_type": "stream",
     "text": [
      "[Succeeded / Failed / Skipped / Total] 72 / 14 / 44 / 130:  26%|█████▍               | 130/500 [02:38<07:32,  1.22s/it]textattack: Saving checkpoint under \"checkpoints\\1720195435939.ta.chkpt\" at 2024-07-06 00:03:55 after 130 attacks.\n",
      "[Succeeded / Failed / Skipped / Total] 72 / 14 / 45 / 131:  26%|█████▌               | 131/500 [02:38<07:27,  1.21s/it]"
     ]
    },
    {
     "name": "stdout",
     "output_type": "stream",
     "text": [
      "\n",
      "\n",
      "=============================================================================================================================\n",
      "=============================================================================================================================\n",
      "\n"
     ]
    },
    {
     "name": "stderr",
     "output_type": "stream",
     "text": [
      "[Succeeded / Failed / Skipped / Total] 75 / 14 / 46 / 135:  27%|█████▋               | 135/500 [02:48<07:34,  1.25s/it]textattack: Saving checkpoint under \"checkpoints\\1720195445290.ta.chkpt\" at 2024-07-06 00:04:05 after 135 attacks.\n"
     ]
    },
    {
     "name": "stdout",
     "output_type": "stream",
     "text": [
      "\n",
      "\n",
      "=============================================================================================================================\n",
      "=============================================================================================================================\n",
      "\n"
     ]
    },
    {
     "name": "stderr",
     "output_type": "stream",
     "text": [
      "[Succeeded / Failed / Skipped / Total] 77 / 14 / 49 / 140:  28%|█████▉               | 140/500 [02:50<07:18,  1.22s/it]textattack: Saving checkpoint under \"checkpoints\\1720195447673.ta.chkpt\" at 2024-07-06 00:04:07 after 140 attacks.\n",
      "[Succeeded / Failed / Skipped / Total] 77 / 14 / 51 / 142:  28%|█████▉               | 142/500 [02:50<07:10,  1.20s/it]"
     ]
    },
    {
     "name": "stdout",
     "output_type": "stream",
     "text": [
      "\n",
      "\n",
      "=============================================================================================================================\n",
      "=============================================================================================================================\n",
      "\n"
     ]
    },
    {
     "name": "stderr",
     "output_type": "stream",
     "text": [
      "[Succeeded / Failed / Skipped / Total] 78 / 14 / 53 / 145:  29%|██████               | 145/500 [02:51<06:59,  1.18s/it]textattack: Saving checkpoint under \"checkpoints\\1720195448460.ta.chkpt\" at 2024-07-06 00:04:08 after 145 attacks.\n",
      "[Succeeded / Failed / Skipped / Total] 78 / 14 / 54 / 146:  29%|██████▏              | 146/500 [02:51<06:55,  1.17s/it]"
     ]
    },
    {
     "name": "stdout",
     "output_type": "stream",
     "text": [
      "\n",
      "\n",
      "=============================================================================================================================\n",
      "=============================================================================================================================\n",
      "\n"
     ]
    },
    {
     "name": "stderr",
     "output_type": "stream",
     "text": [
      "[Succeeded / Failed / Skipped / Total] 80 / 15 / 55 / 150:  30%|██████▎              | 150/500 [02:55<06:50,  1.17s/it]textattack: Saving checkpoint under \"checkpoints\\1720195453079.ta.chkpt\" at 2024-07-06 00:04:13 after 150 attacks.\n"
     ]
    },
    {
     "name": "stdout",
     "output_type": "stream",
     "text": [
      "\n",
      "\n",
      "=============================================================================================================================\n",
      "=============================================================================================================================\n",
      "\n"
     ]
    },
    {
     "name": "stderr",
     "output_type": "stream",
     "text": [
      "[Succeeded / Failed / Skipped / Total] 84 / 16 / 55 / 155:  31%|██████▌              | 155/500 [02:59<06:39,  1.16s/it]textattack: Saving checkpoint under \"checkpoints\\1720195456472.ta.chkpt\" at 2024-07-06 00:04:16 after 155 attacks.\n"
     ]
    },
    {
     "name": "stdout",
     "output_type": "stream",
     "text": [
      "\n",
      "\n",
      "=============================================================================================================================\n",
      "=============================================================================================================================\n",
      "\n"
     ]
    },
    {
     "name": "stderr",
     "output_type": "stream",
     "text": [
      "[Succeeded / Failed / Skipped / Total] 85 / 17 / 58 / 160:  32%|██████▋              | 160/500 [03:12<06:49,  1.21s/it]textattack: Saving checkpoint under \"checkpoints\\1720195470037.ta.chkpt\" at 2024-07-06 00:04:30 after 160 attacks.\n",
      "[Succeeded / Failed / Skipped / Total] 85 / 17 / 59 / 161:  32%|██████▊              | 161/500 [03:13<06:46,  1.20s/it]"
     ]
    },
    {
     "name": "stdout",
     "output_type": "stream",
     "text": [
      "\n",
      "\n",
      "=============================================================================================================================\n",
      "=============================================================================================================================\n",
      "\n"
     ]
    },
    {
     "name": "stderr",
     "output_type": "stream",
     "text": [
      "[Succeeded / Failed / Skipped / Total] 88 / 17 / 60 / 165:  33%|██████▉              | 165/500 [03:16<06:39,  1.19s/it]textattack: Saving checkpoint under \"checkpoints\\1720195474020.ta.chkpt\" at 2024-07-06 00:04:34 after 165 attacks.\n"
     ]
    },
    {
     "name": "stdout",
     "output_type": "stream",
     "text": [
      "\n",
      "\n",
      "=============================================================================================================================\n",
      "=============================================================================================================================\n",
      "\n"
     ]
    },
    {
     "name": "stderr",
     "output_type": "stream",
     "text": [
      "[Succeeded / Failed / Skipped / Total] 89 / 19 / 62 / 170:  34%|███████▏             | 170/500 [03:30<06:48,  1.24s/it]textattack: Saving checkpoint under \"checkpoints\\1720195487454.ta.chkpt\" at 2024-07-06 00:04:47 after 170 attacks.\n"
     ]
    },
    {
     "name": "stdout",
     "output_type": "stream",
     "text": [
      "\n",
      "\n",
      "=============================================================================================================================\n",
      "=============================================================================================================================\n",
      "\n"
     ]
    },
    {
     "name": "stderr",
     "output_type": "stream",
     "text": [
      "[Succeeded / Failed / Skipped / Total] 91 / 21 / 63 / 175:  35%|███████▎             | 175/500 [03:48<07:04,  1.31s/it]textattack: Saving checkpoint under \"checkpoints\\1720195505790.ta.chkpt\" at 2024-07-06 00:05:05 after 175 attacks.\n",
      "[Succeeded / Failed / Skipped / Total] 91 / 21 / 64 / 176:  35%|███████▍             | 176/500 [03:48<07:01,  1.30s/it]"
     ]
    },
    {
     "name": "stdout",
     "output_type": "stream",
     "text": [
      "\n",
      "\n",
      "=============================================================================================================================\n",
      "=============================================================================================================================\n",
      "\n"
     ]
    },
    {
     "name": "stderr",
     "output_type": "stream",
     "text": [
      "[Succeeded / Failed / Skipped / Total] 93 / 22 / 65 / 180:  36%|███████▌             | 180/500 [03:52<06:54,  1.29s/it]textattack: Saving checkpoint under \"checkpoints\\1720195510092.ta.chkpt\" at 2024-07-06 00:05:10 after 180 attacks.\n"
     ]
    },
    {
     "name": "stdout",
     "output_type": "stream",
     "text": [
      "\n",
      "\n",
      "=============================================================================================================================\n",
      "=============================================================================================================================\n",
      "\n"
     ]
    },
    {
     "name": "stderr",
     "output_type": "stream",
     "text": [
      "[Succeeded / Failed / Skipped / Total] 97 / 23 / 65 / 185:  37%|███████▊             | 185/500 [03:58<06:45,  1.29s/it]textattack: Saving checkpoint under \"checkpoints\\1720195515381.ta.chkpt\" at 2024-07-06 00:05:15 after 185 attacks.\n",
      "[Succeeded / Failed / Skipped / Total] 97 / 23 / 66 / 186:  37%|███████▊             | 186/500 [03:58<06:42,  1.28s/it]"
     ]
    },
    {
     "name": "stdout",
     "output_type": "stream",
     "text": [
      "\n",
      "\n",
      "=============================================================================================================================\n",
      "=============================================================================================================================\n",
      "\n"
     ]
    },
    {
     "name": "stderr",
     "output_type": "stream",
     "text": [
      "[Succeeded / Failed / Skipped / Total] 100 / 23 / 67 / 190:  38%|███████▌            | 190/500 [04:02<06:36,  1.28s/it]textattack: Saving checkpoint under \"checkpoints\\1720195519875.ta.chkpt\" at 2024-07-06 00:05:19 after 190 attacks.\n"
     ]
    },
    {
     "name": "stdout",
     "output_type": "stream",
     "text": [
      "\n",
      "\n",
      "=============================================================================================================================\n",
      "=============================================================================================================================\n",
      "\n"
     ]
    },
    {
     "name": "stderr",
     "output_type": "stream",
     "text": [
      "[Succeeded / Failed / Skipped / Total] 102 / 24 / 69 / 195:  39%|███████▊            | 195/500 [04:07<06:27,  1.27s/it]textattack: Saving checkpoint under \"checkpoints\\1720195524740.ta.chkpt\" at 2024-07-06 00:05:24 after 195 attacks.\n"
     ]
    },
    {
     "name": "stdout",
     "output_type": "stream",
     "text": [
      "\n",
      "\n",
      "=============================================================================================================================\n",
      "=============================================================================================================================\n",
      "\n"
     ]
    },
    {
     "name": "stderr",
     "output_type": "stream",
     "text": [
      "[Succeeded / Failed / Skipped / Total] 105 / 25 / 70 / 200:  40%|████████            | 200/500 [04:24<06:36,  1.32s/it]textattack: Saving checkpoint under \"checkpoints\\1720195541122.ta.chkpt\" at 2024-07-06 00:05:41 after 200 attacks.\n",
      "[Succeeded / Failed / Skipped / Total] 105 / 25 / 71 / 201:  40%|████████            | 201/500 [04:24<06:32,  1.31s/it]"
     ]
    },
    {
     "name": "stdout",
     "output_type": "stream",
     "text": [
      "\n",
      "\n",
      "=============================================================================================================================\n",
      "=============================================================================================================================\n",
      "\n"
     ]
    },
    {
     "name": "stderr",
     "output_type": "stream",
     "text": [
      "[Succeeded / Failed / Skipped / Total] 106 / 26 / 73 / 205:  41%|████████▏           | 205/500 [04:27<06:24,  1.30s/it]textattack: Saving checkpoint under \"checkpoints\\1720195544338.ta.chkpt\" at 2024-07-06 00:05:44 after 205 attacks.\n"
     ]
    },
    {
     "name": "stdout",
     "output_type": "stream",
     "text": [
      "\n",
      "\n",
      "=============================================================================================================================\n",
      "=============================================================================================================================\n",
      "\n"
     ]
    },
    {
     "name": "stderr",
     "output_type": "stream",
     "text": [
      "[Succeeded / Failed / Skipped / Total] 110 / 26 / 74 / 210:  42%|████████▍           | 210/500 [04:30<06:12,  1.29s/it]textattack: Saving checkpoint under \"checkpoints\\1720195547103.ta.chkpt\" at 2024-07-06 00:05:47 after 210 attacks.\n"
     ]
    },
    {
     "name": "stdout",
     "output_type": "stream",
     "text": [
      "\n",
      "\n",
      "=============================================================================================================================\n",
      "=============================================================================================================================\n",
      "\n"
     ]
    },
    {
     "name": "stderr",
     "output_type": "stream",
     "text": [
      "[Succeeded / Failed / Skipped / Total] 114 / 26 / 75 / 215:  43%|████████▌           | 215/500 [04:35<06:04,  1.28s/it]textattack: Saving checkpoint under \"checkpoints\\1720195552178.ta.chkpt\" at 2024-07-06 00:05:52 after 215 attacks.\n"
     ]
    },
    {
     "name": "stdout",
     "output_type": "stream",
     "text": [
      "\n",
      "\n",
      "=============================================================================================================================\n",
      "=============================================================================================================================\n",
      "\n"
     ]
    },
    {
     "name": "stderr",
     "output_type": "stream",
     "text": [
      "[Succeeded / Failed / Skipped / Total] 118 / 26 / 76 / 220:  44%|████████▊           | 220/500 [04:38<05:54,  1.27s/it]textattack: Saving checkpoint under \"checkpoints\\1720195555846.ta.chkpt\" at 2024-07-06 00:05:55 after 220 attacks.\n"
     ]
    },
    {
     "name": "stdout",
     "output_type": "stream",
     "text": [
      "\n",
      "\n",
      "=============================================================================================================================\n",
      "=============================================================================================================================\n",
      "\n"
     ]
    },
    {
     "name": "stderr",
     "output_type": "stream",
     "text": [
      "[Succeeded / Failed / Skipped / Total] 122 / 26 / 77 / 225:  45%|█████████           | 225/500 [04:48<05:53,  1.28s/it]textattack: Saving checkpoint under \"checkpoints\\1720195565933.ta.chkpt\" at 2024-07-06 00:06:05 after 225 attacks.\n"
     ]
    },
    {
     "name": "stdout",
     "output_type": "stream",
     "text": [
      "\n",
      "\n",
      "=============================================================================================================================\n",
      "=============================================================================================================================\n",
      "\n"
     ]
    },
    {
     "name": "stderr",
     "output_type": "stream",
     "text": [
      "[Succeeded / Failed / Skipped / Total] 125 / 26 / 79 / 230:  46%|█████████▏          | 230/500 [04:51<05:41,  1.27s/it]textattack: Saving checkpoint under \"checkpoints\\1720195568192.ta.chkpt\" at 2024-07-06 00:06:08 after 230 attacks.\n"
     ]
    },
    {
     "name": "stdout",
     "output_type": "stream",
     "text": [
      "\n",
      "\n",
      "=============================================================================================================================\n",
      "=============================================================================================================================\n",
      "\n"
     ]
    },
    {
     "name": "stderr",
     "output_type": "stream",
     "text": [
      "[Succeeded / Failed / Skipped / Total] 129 / 26 / 80 / 235:  47%|█████████▍          | 235/500 [04:56<05:33,  1.26s/it]textattack: Saving checkpoint under \"checkpoints\\1720195573283.ta.chkpt\" at 2024-07-06 00:06:13 after 235 attacks.\n"
     ]
    },
    {
     "name": "stdout",
     "output_type": "stream",
     "text": [
      "\n",
      "\n",
      "=============================================================================================================================\n",
      "=============================================================================================================================\n",
      "\n"
     ]
    },
    {
     "name": "stderr",
     "output_type": "stream",
     "text": [
      "[Succeeded / Failed / Skipped / Total] 133 / 27 / 80 / 240:  48%|█████████▌          | 240/500 [05:00<05:25,  1.25s/it]textattack: Saving checkpoint under \"checkpoints\\1720195577881.ta.chkpt\" at 2024-07-06 00:06:17 after 240 attacks.\n",
      "[Succeeded / Failed / Skipped / Total] 133 / 27 / 81 / 241:  48%|█████████▋          | 241/500 [05:00<05:23,  1.25s/it]"
     ]
    },
    {
     "name": "stdout",
     "output_type": "stream",
     "text": [
      "\n",
      "\n",
      "=============================================================================================================================\n",
      "=============================================================================================================================\n",
      "\n"
     ]
    },
    {
     "name": "stderr",
     "output_type": "stream",
     "text": [
      "[Succeeded / Failed / Skipped / Total] 136 / 27 / 82 / 245:  49%|█████████▊          | 245/500 [05:03<05:15,  1.24s/it]textattack: Saving checkpoint under \"checkpoints\\1720195580661.ta.chkpt\" at 2024-07-06 00:06:20 after 245 attacks.\n"
     ]
    },
    {
     "name": "stdout",
     "output_type": "stream",
     "text": [
      "\n",
      "\n",
      "=============================================================================================================================\n",
      "=============================================================================================================================\n",
      "\n"
     ]
    },
    {
     "name": "stderr",
     "output_type": "stream",
     "text": [
      "[Succeeded / Failed / Skipped / Total] 137 / 28 / 85 / 250:  50%|██████████          | 250/500 [05:08<05:08,  1.23s/it]textattack: Saving checkpoint under \"checkpoints\\1720195585219.ta.chkpt\" at 2024-07-06 00:06:25 after 250 attacks.\n",
      "[Succeeded / Failed / Skipped / Total] 137 / 28 / 86 / 251:  50%|██████████          | 251/500 [05:08<05:05,  1.23s/it]"
     ]
    },
    {
     "name": "stdout",
     "output_type": "stream",
     "text": [
      "\n",
      "\n",
      "=============================================================================================================================\n",
      "=============================================================================================================================\n",
      "\n"
     ]
    },
    {
     "name": "stderr",
     "output_type": "stream",
     "text": [
      "[Succeeded / Failed / Skipped / Total] 140 / 28 / 87 / 255:  51%|██████████▏         | 255/500 [05:11<04:59,  1.22s/it]textattack: Saving checkpoint under \"checkpoints\\1720195588317.ta.chkpt\" at 2024-07-06 00:06:28 after 255 attacks.\n",
      "[Succeeded / Failed / Skipped / Total] 140 / 28 / 88 / 256:  51%|██████████▏         | 256/500 [05:11<04:56,  1.22s/it]"
     ]
    },
    {
     "name": "stdout",
     "output_type": "stream",
     "text": [
      "\n",
      "\n",
      "=============================================================================================================================\n",
      "=============================================================================================================================\n",
      "\n"
     ]
    },
    {
     "name": "stderr",
     "output_type": "stream",
     "text": [
      "[Succeeded / Failed / Skipped / Total] 144 / 28 / 88 / 260:  52%|██████████▍         | 260/500 [05:14<04:50,  1.21s/it]textattack: Saving checkpoint under \"checkpoints\\1720195591877.ta.chkpt\" at 2024-07-06 00:06:31 after 260 attacks.\n"
     ]
    },
    {
     "name": "stdout",
     "output_type": "stream",
     "text": [
      "\n",
      "\n",
      "=============================================================================================================================\n",
      "=============================================================================================================================\n",
      "\n"
     ]
    },
    {
     "name": "stderr",
     "output_type": "stream",
     "text": [
      "[Succeeded / Failed / Skipped / Total] 149 / 28 / 88 / 265:  53%|██████████▌         | 265/500 [05:20<04:44,  1.21s/it]textattack: Saving checkpoint under \"checkpoints\\1720195597464.ta.chkpt\" at 2024-07-06 00:06:37 after 265 attacks.\n"
     ]
    },
    {
     "name": "stdout",
     "output_type": "stream",
     "text": [
      "\n",
      "\n",
      "=============================================================================================================================\n",
      "=============================================================================================================================\n",
      "\n"
     ]
    },
    {
     "name": "stderr",
     "output_type": "stream",
     "text": [
      "[Succeeded / Failed / Skipped / Total] 152 / 28 / 90 / 270:  54%|██████████▊         | 270/500 [05:33<04:44,  1.24s/it]textattack: Saving checkpoint under \"checkpoints\\1720195610813.ta.chkpt\" at 2024-07-06 00:06:50 after 270 attacks.\n",
      "[Succeeded / Failed / Skipped / Total] 152 / 28 / 91 / 271:  54%|██████████▊         | 271/500 [05:33<04:42,  1.23s/it]"
     ]
    },
    {
     "name": "stdout",
     "output_type": "stream",
     "text": [
      "\n",
      "\n",
      "=============================================================================================================================\n",
      "=============================================================================================================================\n",
      "\n"
     ]
    },
    {
     "name": "stderr",
     "output_type": "stream",
     "text": [
      "[Succeeded / Failed / Skipped / Total] 156 / 28 / 91 / 275:  55%|███████████         | 275/500 [05:38<04:37,  1.23s/it]textattack: Saving checkpoint under \"checkpoints\\1720195615885.ta.chkpt\" at 2024-07-06 00:06:55 after 275 attacks.\n"
     ]
    },
    {
     "name": "stdout",
     "output_type": "stream",
     "text": [
      "\n",
      "\n",
      "=============================================================================================================================\n",
      "=============================================================================================================================\n",
      "\n"
     ]
    },
    {
     "name": "stderr",
     "output_type": "stream",
     "text": [
      "[Succeeded / Failed / Skipped / Total] 160 / 28 / 92 / 280:  56%|███████████▏        | 280/500 [05:42<04:28,  1.22s/it]textattack: Saving checkpoint under \"checkpoints\\1720195619451.ta.chkpt\" at 2024-07-06 00:06:59 after 280 attacks.\n"
     ]
    },
    {
     "name": "stdout",
     "output_type": "stream",
     "text": [
      "\n",
      "\n",
      "=============================================================================================================================\n",
      "=============================================================================================================================\n",
      "\n"
     ]
    },
    {
     "name": "stderr",
     "output_type": "stream",
     "text": [
      "[Succeeded / Failed / Skipped / Total] 161 / 29 / 95 / 285:  57%|███████████▍        | 285/500 [05:46<04:21,  1.21s/it]textattack: Saving checkpoint under \"checkpoints\\1720195623364.ta.chkpt\" at 2024-07-06 00:07:03 after 285 attacks.\n"
     ]
    },
    {
     "name": "stdout",
     "output_type": "stream",
     "text": [
      "\n",
      "\n",
      "=============================================================================================================================\n",
      "=============================================================================================================================\n",
      "\n"
     ]
    },
    {
     "name": "stderr",
     "output_type": "stream",
     "text": [
      "[Succeeded / Failed / Skipped / Total] 166 / 29 / 95 / 290:  58%|███████████▌        | 290/500 [05:49<04:13,  1.21s/it]textattack: Saving checkpoint under \"checkpoints\\1720195626722.ta.chkpt\" at 2024-07-06 00:07:06 after 290 attacks.\n",
      "[Succeeded / Failed / Skipped / Total] 166 / 29 / 97 / 292:  58%|███████████▋        | 292/500 [05:49<04:09,  1.20s/it]"
     ]
    },
    {
     "name": "stdout",
     "output_type": "stream",
     "text": [
      "\n",
      "\n",
      "=============================================================================================================================\n",
      "=============================================================================================================================\n",
      "\n"
     ]
    },
    {
     "name": "stderr",
     "output_type": "stream",
     "text": [
      "[Succeeded / Failed / Skipped / Total] 168 / 29 / 98 / 295:  59%|███████████▊        | 295/500 [05:50<04:03,  1.19s/it]textattack: Saving checkpoint under \"checkpoints\\1720195628066.ta.chkpt\" at 2024-07-06 00:07:08 after 295 attacks.\n",
      "[Succeeded / Failed / Skipped / Total] 168 / 29 / 99 / 296:  59%|███████████▊        | 296/500 [05:51<04:01,  1.19s/it]"
     ]
    },
    {
     "name": "stdout",
     "output_type": "stream",
     "text": [
      "\n",
      "\n",
      "=============================================================================================================================\n",
      "=============================================================================================================================\n",
      "\n"
     ]
    },
    {
     "name": "stderr",
     "output_type": "stream",
     "text": [
      "[Succeeded / Failed / Skipped / Total] 172 / 29 / 99 / 300:  60%|████████████        | 300/500 [05:52<03:55,  1.18s/it]textattack: Saving checkpoint under \"checkpoints\\1720195630006.ta.chkpt\" at 2024-07-06 00:07:10 after 300 attacks.\n"
     ]
    },
    {
     "name": "stdout",
     "output_type": "stream",
     "text": [
      "\n",
      "\n",
      "=============================================================================================================================\n",
      "=============================================================================================================================\n",
      "\n"
     ]
    },
    {
     "name": "stderr",
     "output_type": "stream",
     "text": [
      "[Succeeded / Failed / Skipped / Total] 176 / 29 / 100 / 305:  61%|███████████▌       | 305/500 [05:58<03:48,  1.17s/it]textattack: Saving checkpoint under \"checkpoints\\1720195635121.ta.chkpt\" at 2024-07-06 00:07:15 after 305 attacks.\n"
     ]
    },
    {
     "name": "stdout",
     "output_type": "stream",
     "text": [
      "\n",
      "\n",
      "=============================================================================================================================\n",
      "=============================================================================================================================\n",
      "\n"
     ]
    },
    {
     "name": "stderr",
     "output_type": "stream",
     "text": [
      "[Succeeded / Failed / Skipped / Total] 180 / 30 / 100 / 310:  62%|███████████▊       | 310/500 [06:03<03:42,  1.17s/it]textattack: Saving checkpoint under \"checkpoints\\1720195640483.ta.chkpt\" at 2024-07-06 00:07:20 after 310 attacks.\n"
     ]
    },
    {
     "name": "stdout",
     "output_type": "stream",
     "text": [
      "\n",
      "\n",
      "=============================================================================================================================\n",
      "=============================================================================================================================\n",
      "\n"
     ]
    },
    {
     "name": "stderr",
     "output_type": "stream",
     "text": [
      "[Succeeded / Failed / Skipped / Total] 183 / 31 / 101 / 315:  63%|███████████▉       | 315/500 [06:11<03:38,  1.18s/it]textattack: Saving checkpoint under \"checkpoints\\1720195648332.ta.chkpt\" at 2024-07-06 00:07:28 after 315 attacks.\n"
     ]
    },
    {
     "name": "stdout",
     "output_type": "stream",
     "text": [
      "\n",
      "\n",
      "=============================================================================================================================\n",
      "=============================================================================================================================\n",
      "\n"
     ]
    },
    {
     "name": "stderr",
     "output_type": "stream",
     "text": [
      "[Succeeded / Failed / Skipped / Total] 188 / 31 / 101 / 320:  64%|████████████▏      | 320/500 [06:20<03:34,  1.19s/it]textattack: Saving checkpoint under \"checkpoints\\1720195657783.ta.chkpt\" at 2024-07-06 00:07:37 after 320 attacks.\n"
     ]
    },
    {
     "name": "stdout",
     "output_type": "stream",
     "text": [
      "\n",
      "\n",
      "=============================================================================================================================\n",
      "=============================================================================================================================\n",
      "\n"
     ]
    },
    {
     "name": "stderr",
     "output_type": "stream",
     "text": [
      "[Succeeded / Failed / Skipped / Total] 192 / 31 / 102 / 325:  65%|████████████▎      | 325/500 [06:26<03:28,  1.19s/it]textattack: Saving checkpoint under \"checkpoints\\1720195663746.ta.chkpt\" at 2024-07-06 00:07:43 after 325 attacks.\n",
      "[Succeeded / Failed / Skipped / Total] 192 / 31 / 103 / 326:  65%|████████████▍      | 326/500 [06:26<03:26,  1.19s/it]"
     ]
    },
    {
     "name": "stdout",
     "output_type": "stream",
     "text": [
      "\n",
      "\n",
      "=============================================================================================================================\n",
      "=============================================================================================================================\n",
      "\n"
     ]
    },
    {
     "name": "stderr",
     "output_type": "stream",
     "text": [
      "[Succeeded / Failed / Skipped / Total] 195 / 31 / 104 / 330:  66%|████████████▌      | 330/500 [06:29<03:20,  1.18s/it]textattack: Saving checkpoint under \"checkpoints\\1720195666870.ta.chkpt\" at 2024-07-06 00:07:46 after 330 attacks.\n"
     ]
    },
    {
     "name": "stdout",
     "output_type": "stream",
     "text": [
      "\n",
      "\n",
      "=============================================================================================================================\n",
      "=============================================================================================================================\n",
      "\n"
     ]
    },
    {
     "name": "stderr",
     "output_type": "stream",
     "text": [
      "[Succeeded / Failed / Skipped / Total] 199 / 32 / 104 / 335:  67%|████████████▋      | 335/500 [06:36<03:15,  1.18s/it]textattack: Saving checkpoint under \"checkpoints\\1720195674056.ta.chkpt\" at 2024-07-06 00:07:54 after 335 attacks.\n"
     ]
    },
    {
     "name": "stdout",
     "output_type": "stream",
     "text": [
      "\n",
      "\n",
      "=============================================================================================================================\n",
      "=============================================================================================================================\n",
      "\n"
     ]
    },
    {
     "name": "stderr",
     "output_type": "stream",
     "text": [
      "[Succeeded / Failed / Skipped / Total] 202 / 32 / 106 / 340:  68%|████████████▉      | 340/500 [06:39<03:07,  1.17s/it]textattack: Saving checkpoint under \"checkpoints\\1720195676425.ta.chkpt\" at 2024-07-06 00:07:56 after 340 attacks.\n",
      "[Succeeded / Failed / Skipped / Total] 202 / 32 / 107 / 341:  68%|████████████▉      | 341/500 [06:39<03:06,  1.17s/it]"
     ]
    },
    {
     "name": "stdout",
     "output_type": "stream",
     "text": [
      "\n",
      "\n",
      "=============================================================================================================================\n",
      "=============================================================================================================================\n",
      "\n"
     ]
    },
    {
     "name": "stderr",
     "output_type": "stream",
     "text": [
      "[Succeeded / Failed / Skipped / Total] 205 / 32 / 108 / 345:  69%|█████████████      | 345/500 [06:43<03:01,  1.17s/it]textattack: Saving checkpoint under \"checkpoints\\1720195680244.ta.chkpt\" at 2024-07-06 00:08:00 after 345 attacks.\n"
     ]
    },
    {
     "name": "stdout",
     "output_type": "stream",
     "text": [
      "\n",
      "\n",
      "=============================================================================================================================\n",
      "=============================================================================================================================\n",
      "\n"
     ]
    },
    {
     "name": "stderr",
     "output_type": "stream",
     "text": [
      "[Succeeded / Failed / Skipped / Total] 210 / 32 / 108 / 350:  70%|█████████████▎     | 350/500 [06:47<02:54,  1.16s/it]textattack: Saving checkpoint under \"checkpoints\\1720195684650.ta.chkpt\" at 2024-07-06 00:08:04 after 350 attacks.\n"
     ]
    },
    {
     "name": "stdout",
     "output_type": "stream",
     "text": [
      "\n",
      "\n",
      "=============================================================================================================================\n",
      "=============================================================================================================================\n",
      "\n"
     ]
    },
    {
     "name": "stderr",
     "output_type": "stream",
     "text": [
      "[Succeeded / Failed / Skipped / Total] 214 / 33 / 108 / 355:  71%|█████████████▍     | 355/500 [06:56<02:50,  1.17s/it]textattack: Saving checkpoint under \"checkpoints\\1720195693721.ta.chkpt\" at 2024-07-06 00:08:13 after 355 attacks.\n"
     ]
    },
    {
     "name": "stdout",
     "output_type": "stream",
     "text": [
      "\n",
      "\n",
      "=============================================================================================================================\n",
      "=============================================================================================================================\n",
      "\n"
     ]
    },
    {
     "name": "stderr",
     "output_type": "stream",
     "text": [
      "[Succeeded / Failed / Skipped / Total] 217 / 33 / 110 / 360:  72%|█████████████▋     | 360/500 [07:00<02:43,  1.17s/it]textattack: Saving checkpoint under \"checkpoints\\1720195697145.ta.chkpt\" at 2024-07-06 00:08:17 after 360 attacks.\n",
      "[Succeeded / Failed / Skipped / Total] 217 / 33 / 112 / 362:  72%|█████████████▊     | 362/500 [07:00<02:40,  1.16s/it]"
     ]
    },
    {
     "name": "stdout",
     "output_type": "stream",
     "text": [
      "\n",
      "\n",
      "=============================================================================================================================\n",
      "=============================================================================================================================\n",
      "\n"
     ]
    },
    {
     "name": "stderr",
     "output_type": "stream",
     "text": [
      "[Succeeded / Failed / Skipped / Total] 220 / 33 / 112 / 365:  73%|█████████████▊     | 365/500 [07:02<02:36,  1.16s/it]textattack: Saving checkpoint under \"checkpoints\\1720195699393.ta.chkpt\" at 2024-07-06 00:08:19 after 365 attacks.\n"
     ]
    },
    {
     "name": "stdout",
     "output_type": "stream",
     "text": [
      "\n",
      "\n",
      "=============================================================================================================================\n",
      "=============================================================================================================================\n",
      "\n"
     ]
    },
    {
     "name": "stderr",
     "output_type": "stream",
     "text": [
      "[Succeeded / Failed / Skipped / Total] 222 / 33 / 115 / 370:  74%|██████████████     | 370/500 [07:03<02:28,  1.14s/it]textattack: Saving checkpoint under \"checkpoints\\1720195700714.ta.chkpt\" at 2024-07-06 00:08:20 after 370 attacks.\n",
      "[Succeeded / Failed / Skipped / Total] 222 / 33 / 116 / 371:  74%|██████████████     | 371/500 [07:03<02:27,  1.14s/it]"
     ]
    },
    {
     "name": "stdout",
     "output_type": "stream",
     "text": [
      "\n",
      "\n",
      "=============================================================================================================================\n",
      "=============================================================================================================================\n",
      "\n"
     ]
    },
    {
     "name": "stderr",
     "output_type": "stream",
     "text": [
      "[Succeeded / Failed / Skipped / Total] 225 / 34 / 116 / 375:  75%|██████████████▎    | 375/500 [07:12<02:24,  1.15s/it]textattack: Saving checkpoint under \"checkpoints\\1720195709361.ta.chkpt\" at 2024-07-06 00:08:29 after 375 attacks.\n",
      "[Succeeded / Failed / Skipped / Total] 225 / 34 / 117 / 376:  75%|██████████████▎    | 376/500 [07:12<02:22,  1.15s/it]"
     ]
    },
    {
     "name": "stdout",
     "output_type": "stream",
     "text": [
      "\n",
      "\n",
      "=============================================================================================================================\n",
      "=============================================================================================================================\n",
      "\n"
     ]
    },
    {
     "name": "stderr",
     "output_type": "stream",
     "text": [
      "[Succeeded / Failed / Skipped / Total] 228 / 34 / 118 / 380:  76%|██████████████▍    | 380/500 [07:15<02:17,  1.14s/it]textattack: Saving checkpoint under \"checkpoints\\1720195712109.ta.chkpt\" at 2024-07-06 00:08:32 after 380 attacks.\n"
     ]
    },
    {
     "name": "stdout",
     "output_type": "stream",
     "text": [
      "\n",
      "\n",
      "=============================================================================================================================\n",
      "=============================================================================================================================\n",
      "\n"
     ]
    },
    {
     "name": "stderr",
     "output_type": "stream",
     "text": [
      "[Succeeded / Failed / Skipped / Total] 231 / 34 / 120 / 385:  77%|██████████████▋    | 385/500 [07:17<02:10,  1.14s/it]textattack: Saving checkpoint under \"checkpoints\\1720195714677.ta.chkpt\" at 2024-07-06 00:08:34 after 385 attacks.\n"
     ]
    },
    {
     "name": "stdout",
     "output_type": "stream",
     "text": [
      "\n",
      "\n",
      "=============================================================================================================================\n",
      "=============================================================================================================================\n",
      "\n"
     ]
    },
    {
     "name": "stderr",
     "output_type": "stream",
     "text": [
      "[Succeeded / Failed / Skipped / Total] 232 / 36 / 122 / 390:  78%|██████████████▊    | 390/500 [07:22<02:04,  1.14s/it]textattack: Saving checkpoint under \"checkpoints\\1720195720059.ta.chkpt\" at 2024-07-06 00:08:40 after 390 attacks.\n"
     ]
    },
    {
     "name": "stdout",
     "output_type": "stream",
     "text": [
      "\n",
      "\n",
      "=============================================================================================================================\n",
      "=============================================================================================================================\n",
      "\n"
     ]
    },
    {
     "name": "stderr",
     "output_type": "stream",
     "text": [
      "[Succeeded / Failed / Skipped / Total] 236 / 36 / 123 / 395:  79%|███████████████    | 395/500 [07:31<02:00,  1.14s/it]textattack: Saving checkpoint under \"checkpoints\\1720195728702.ta.chkpt\" at 2024-07-06 00:08:48 after 395 attacks.\n"
     ]
    },
    {
     "name": "stdout",
     "output_type": "stream",
     "text": [
      "\n",
      "\n",
      "=============================================================================================================================\n",
      "=============================================================================================================================\n",
      "\n"
     ]
    },
    {
     "name": "stderr",
     "output_type": "stream",
     "text": [
      "[Succeeded / Failed / Skipped / Total] 239 / 37 / 124 / 400:  80%|███████████████▏   | 400/500 [07:50<01:57,  1.18s/it]textattack: Saving checkpoint under \"checkpoints\\1720195747806.ta.chkpt\" at 2024-07-06 00:09:07 after 400 attacks.\n",
      "[Succeeded / Failed / Skipped / Total] 239 / 37 / 125 / 401:  80%|███████████████▏   | 401/500 [07:50<01:56,  1.17s/it]"
     ]
    },
    {
     "name": "stdout",
     "output_type": "stream",
     "text": [
      "\n",
      "\n",
      "=============================================================================================================================\n",
      "=============================================================================================================================\n",
      "\n"
     ]
    },
    {
     "name": "stderr",
     "output_type": "stream",
     "text": [
      "[Succeeded / Failed / Skipped / Total] 242 / 37 / 126 / 405:  81%|███████████████▍   | 405/500 [07:58<01:52,  1.18s/it]textattack: Saving checkpoint under \"checkpoints\\1720195755325.ta.chkpt\" at 2024-07-06 00:09:15 after 405 attacks.\n"
     ]
    },
    {
     "name": "stdout",
     "output_type": "stream",
     "text": [
      "\n",
      "\n",
      "=============================================================================================================================\n",
      "=============================================================================================================================\n",
      "\n"
     ]
    },
    {
     "name": "stderr",
     "output_type": "stream",
     "text": [
      "[Succeeded / Failed / Skipped / Total] 245 / 38 / 127 / 410:  82%|███████████████▌   | 410/500 [08:06<01:46,  1.19s/it]textattack: Saving checkpoint under \"checkpoints\\1720195763773.ta.chkpt\" at 2024-07-06 00:09:23 after 410 attacks.\n",
      "[Succeeded / Failed / Skipped / Total] 245 / 38 / 128 / 411:  82%|███████████████▌   | 411/500 [08:06<01:45,  1.18s/it]"
     ]
    },
    {
     "name": "stdout",
     "output_type": "stream",
     "text": [
      "\n",
      "\n",
      "=============================================================================================================================\n",
      "=============================================================================================================================\n",
      "\n"
     ]
    },
    {
     "name": "stderr",
     "output_type": "stream",
     "text": [
      "[Succeeded / Failed / Skipped / Total] 247 / 38 / 130 / 415:  83%|███████████████▊   | 415/500 [08:09<01:40,  1.18s/it]textattack: Saving checkpoint under \"checkpoints\\1720195766890.ta.chkpt\" at 2024-07-06 00:09:26 after 415 attacks.\n"
     ]
    },
    {
     "name": "stdout",
     "output_type": "stream",
     "text": [
      "\n",
      "\n",
      "=============================================================================================================================\n",
      "=============================================================================================================================\n",
      "\n"
     ]
    },
    {
     "name": "stderr",
     "output_type": "stream",
     "text": [
      "[Succeeded / Failed / Skipped / Total] 249 / 39 / 132 / 420:  84%|███████████████▉   | 420/500 [08:25<01:36,  1.20s/it]textattack: Saving checkpoint under \"checkpoints\\1720195782854.ta.chkpt\" at 2024-07-06 00:09:42 after 420 attacks.\n",
      "[Succeeded / Failed / Skipped / Total] 249 / 39 / 133 / 421:  84%|███████████████▉   | 421/500 [08:25<01:34,  1.20s/it]"
     ]
    },
    {
     "name": "stdout",
     "output_type": "stream",
     "text": [
      "\n",
      "\n",
      "=============================================================================================================================\n",
      "=============================================================================================================================\n",
      "\n"
     ]
    },
    {
     "name": "stderr",
     "output_type": "stream",
     "text": [
      "[Succeeded / Failed / Skipped / Total] 252 / 39 / 134 / 425:  85%|████████████████▏  | 425/500 [08:28<01:29,  1.20s/it]textattack: Saving checkpoint under \"checkpoints\\1720195785931.ta.chkpt\" at 2024-07-06 00:09:45 after 425 attacks.\n"
     ]
    },
    {
     "name": "stdout",
     "output_type": "stream",
     "text": [
      "\n",
      "\n",
      "=============================================================================================================================\n",
      "=============================================================================================================================\n",
      "\n"
     ]
    },
    {
     "name": "stderr",
     "output_type": "stream",
     "text": [
      "[Succeeded / Failed / Skipped / Total] 254 / 39 / 137 / 430:  86%|████████████████▎  | 430/500 [08:30<01:23,  1.19s/it]textattack: Saving checkpoint under \"checkpoints\\1720195787207.ta.chkpt\" at 2024-07-06 00:09:47 after 430 attacks.\n",
      "[Succeeded / Failed / Skipped / Total] 254 / 39 / 138 / 431:  86%|████████████████▍  | 431/500 [08:30<01:21,  1.18s/it]"
     ]
    },
    {
     "name": "stdout",
     "output_type": "stream",
     "text": [
      "\n",
      "\n",
      "=============================================================================================================================\n",
      "=============================================================================================================================\n",
      "\n"
     ]
    },
    {
     "name": "stderr",
     "output_type": "stream",
     "text": [
      "[Succeeded / Failed / Skipped / Total] 257 / 39 / 139 / 435:  87%|████████████████▌  | 435/500 [08:33<01:16,  1.18s/it]textattack: Saving checkpoint under \"checkpoints\\1720195790413.ta.chkpt\" at 2024-07-06 00:09:50 after 435 attacks.\n"
     ]
    },
    {
     "name": "stdout",
     "output_type": "stream",
     "text": [
      "\n",
      "\n",
      "=============================================================================================================================\n",
      "=============================================================================================================================\n",
      "\n"
     ]
    },
    {
     "name": "stderr",
     "output_type": "stream",
     "text": [
      "[Succeeded / Failed / Skipped / Total] 260 / 40 / 140 / 440:  88%|████████████████▋  | 440/500 [08:37<01:10,  1.18s/it]textattack: Saving checkpoint under \"checkpoints\\1720195794102.ta.chkpt\" at 2024-07-06 00:09:54 after 440 attacks.\n",
      "[Succeeded / Failed / Skipped / Total] 260 / 40 / 141 / 441:  88%|████████████████▊  | 441/500 [08:37<01:09,  1.17s/it]"
     ]
    },
    {
     "name": "stdout",
     "output_type": "stream",
     "text": [
      "\n",
      "\n",
      "=============================================================================================================================\n",
      "=============================================================================================================================\n",
      "\n"
     ]
    },
    {
     "name": "stderr",
     "output_type": "stream",
     "text": [
      "[Succeeded / Failed / Skipped / Total] 264 / 40 / 141 / 445:  89%|████████████████▉  | 445/500 [08:40<01:04,  1.17s/it]textattack: Saving checkpoint under \"checkpoints\\1720195797280.ta.chkpt\" at 2024-07-06 00:09:57 after 445 attacks.\n"
     ]
    },
    {
     "name": "stdout",
     "output_type": "stream",
     "text": [
      "\n",
      "\n",
      "=============================================================================================================================\n",
      "=============================================================================================================================\n",
      "\n"
     ]
    },
    {
     "name": "stderr",
     "output_type": "stream",
     "text": [
      "[Succeeded / Failed / Skipped / Total] 267 / 40 / 143 / 450:  90%|█████████████████  | 450/500 [08:42<00:58,  1.16s/it]textattack: Saving checkpoint under \"checkpoints\\1720195799589.ta.chkpt\" at 2024-07-06 00:09:59 after 450 attacks.\n",
      "[Succeeded / Failed / Skipped / Total] 267 / 40 / 144 / 451:  90%|█████████████████▏ | 451/500 [08:42<00:56,  1.16s/it]"
     ]
    },
    {
     "name": "stdout",
     "output_type": "stream",
     "text": [
      "\n",
      "\n",
      "=============================================================================================================================\n",
      "=============================================================================================================================\n",
      "\n"
     ]
    },
    {
     "name": "stderr",
     "output_type": "stream",
     "text": [
      "[Succeeded / Failed / Skipped / Total] 270 / 40 / 145 / 455:  91%|█████████████████▎ | 455/500 [08:44<00:51,  1.15s/it]textattack: Saving checkpoint under \"checkpoints\\1720195801723.ta.chkpt\" at 2024-07-06 00:10:01 after 455 attacks.\n"
     ]
    },
    {
     "name": "stdout",
     "output_type": "stream",
     "text": [
      "\n",
      "\n",
      "=============================================================================================================================\n",
      "=============================================================================================================================\n",
      "\n"
     ]
    },
    {
     "name": "stderr",
     "output_type": "stream",
     "text": [
      "[Succeeded / Failed / Skipped / Total] 274 / 41 / 145 / 460:  92%|█████████████████▍ | 460/500 [08:59<00:46,  1.17s/it]textattack: Saving checkpoint under \"checkpoints\\1720195816476.ta.chkpt\" at 2024-07-06 00:10:16 after 460 attacks.\n",
      "[Succeeded / Failed / Skipped / Total] 274 / 41 / 146 / 461:  92%|█████████████████▌ | 461/500 [08:59<00:45,  1.17s/it]"
     ]
    },
    {
     "name": "stdout",
     "output_type": "stream",
     "text": [
      "\n",
      "\n",
      "=============================================================================================================================\n",
      "=============================================================================================================================\n",
      "\n"
     ]
    },
    {
     "name": "stderr",
     "output_type": "stream",
     "text": [
      "[Succeeded / Failed / Skipped / Total] 275 / 42 / 148 / 465:  93%|█████████████████▋ | 465/500 [09:04<00:40,  1.17s/it]textattack: Saving checkpoint under \"checkpoints\\1720195821622.ta.chkpt\" at 2024-07-06 00:10:21 after 465 attacks.\n",
      "[Succeeded / Failed / Skipped / Total] 275 / 42 / 149 / 466:  93%|█████████████████▋ | 466/500 [09:04<00:39,  1.17s/it]"
     ]
    },
    {
     "name": "stdout",
     "output_type": "stream",
     "text": [
      "\n",
      "\n",
      "=============================================================================================================================\n",
      "=============================================================================================================================\n",
      "\n"
     ]
    },
    {
     "name": "stderr",
     "output_type": "stream",
     "text": [
      "[Succeeded / Failed / Skipped / Total] 278 / 42 / 150 / 470:  94%|█████████████████▊ | 470/500 [09:08<00:35,  1.17s/it]textattack: Saving checkpoint under \"checkpoints\\1720195825477.ta.chkpt\" at 2024-07-06 00:10:25 after 470 attacks.\n"
     ]
    },
    {
     "name": "stdout",
     "output_type": "stream",
     "text": [
      "\n",
      "\n",
      "=============================================================================================================================\n",
      "=============================================================================================================================\n",
      "\n"
     ]
    },
    {
     "name": "stderr",
     "output_type": "stream",
     "text": [
      "[Succeeded / Failed / Skipped / Total] 282 / 43 / 150 / 475:  95%|██████████████████ | 475/500 [09:20<00:29,  1.18s/it]textattack: Saving checkpoint under \"checkpoints\\1720195837901.ta.chkpt\" at 2024-07-06 00:10:37 after 475 attacks.\n",
      "[Succeeded / Failed / Skipped / Total] 282 / 43 / 151 / 476:  95%|██████████████████ | 476/500 [09:20<00:28,  1.18s/it]"
     ]
    },
    {
     "name": "stdout",
     "output_type": "stream",
     "text": [
      "\n",
      "\n",
      "=============================================================================================================================\n",
      "=============================================================================================================================\n",
      "\n"
     ]
    },
    {
     "name": "stderr",
     "output_type": "stream",
     "text": [
      "[Succeeded / Failed / Skipped / Total] 286 / 43 / 151 / 480:  96%|██████████████████▏| 480/500 [09:27<00:23,  1.18s/it]textattack: Saving checkpoint under \"checkpoints\\1720195844672.ta.chkpt\" at 2024-07-06 00:10:44 after 480 attacks.\n"
     ]
    },
    {
     "name": "stdout",
     "output_type": "stream",
     "text": [
      "\n",
      "\n",
      "=============================================================================================================================\n",
      "=============================================================================================================================\n",
      "\n"
     ]
    },
    {
     "name": "stderr",
     "output_type": "stream",
     "text": [
      "[Succeeded / Failed / Skipped / Total] 288 / 45 / 152 / 485:  97%|██████████████████▍| 485/500 [09:46<00:18,  1.21s/it]textattack: Saving checkpoint under \"checkpoints\\1720195863221.ta.chkpt\" at 2024-07-06 00:11:03 after 485 attacks.\n"
     ]
    },
    {
     "name": "stdout",
     "output_type": "stream",
     "text": [
      "\n",
      "\n",
      "=============================================================================================================================\n",
      "=============================================================================================================================\n",
      "\n"
     ]
    },
    {
     "name": "stderr",
     "output_type": "stream",
     "text": [
      "[Succeeded / Failed / Skipped / Total] 292 / 45 / 153 / 490:  98%|██████████████████▌| 490/500 [09:50<00:12,  1.21s/it]textattack: Saving checkpoint under \"checkpoints\\1720195868056.ta.chkpt\" at 2024-07-06 00:11:08 after 490 attacks.\n",
      "[Succeeded / Failed / Skipped / Total] 292 / 45 / 154 / 491:  98%|██████████████████▋| 491/500 [09:51<00:10,  1.20s/it]"
     ]
    },
    {
     "name": "stdout",
     "output_type": "stream",
     "text": [
      "\n",
      "\n",
      "=============================================================================================================================\n",
      "=============================================================================================================================\n",
      "\n"
     ]
    },
    {
     "name": "stderr",
     "output_type": "stream",
     "text": [
      "[Succeeded / Failed / Skipped / Total] 294 / 45 / 156 / 495:  99%|██████████████████▊| 495/500 [09:53<00:05,  1.20s/it]textattack: Saving checkpoint under \"checkpoints\\1720195870725.ta.chkpt\" at 2024-07-06 00:11:10 after 495 attacks.\n",
      "[Succeeded / Failed / Skipped / Total] 294 / 45 / 158 / 497:  99%|██████████████████▉| 497/500 [09:53<00:03,  1.19s/it]"
     ]
    },
    {
     "name": "stdout",
     "output_type": "stream",
     "text": [
      "\n",
      "\n",
      "=============================================================================================================================\n",
      "=============================================================================================================================\n",
      "\n"
     ]
    },
    {
     "name": "stderr",
     "output_type": "stream",
     "text": [
      "[Succeeded / Failed / Skipped / Total] 297 / 45 / 158 / 500: 100%|███████████████████| 500/500 [09:56<00:00,  1.19s/it]textattack: Saving checkpoint under \"checkpoints\\1720195873199.ta.chkpt\" at 2024-07-06 00:11:13 after 500 attacks.\n",
      "[Succeeded / Failed / Skipped / Total] 297 / 45 / 158 / 500: 100%|███████████████████| 500/500 [09:56<00:00,  1.19s/it]"
     ]
    },
    {
     "name": "stdout",
     "output_type": "stream",
     "text": [
      "\n",
      "\n",
      "=============================================================================================================================\n",
      "=============================================================================================================================\n",
      "\n",
      "\n",
      "+-------------------------------+--------+\n",
      "| Attack Results                |        |\n",
      "+-------------------------------+--------+\n",
      "| Number of successful attacks: | 297    |\n",
      "| Number of failed attacks:     | 45     |\n",
      "| Number of skipped attacks:    | 158    |\n",
      "| Original accuracy:            | 68.4%  |\n",
      "| Accuracy under attack:        | 9.0%   |\n",
      "| Attack success rate:          | 86.84% |\n",
      "| Average perturbed word %:     | 10.53% |\n",
      "| Average num. words per input: | 18.4   |\n",
      "| Avg num queries:              | 60.15  |\n",
      "+-------------------------------+--------+\n"
     ]
    },
    {
     "name": "stderr",
     "output_type": "stream",
     "text": [
      "\n"
     ]
    }
   ],
   "source": [
    "runAttack(clip_model_wrapper_knn_mr, n_samples, 'attack_results_new/clipmrattackknn'+suffix, target_ds_mr)"
   ]
  },
  {
   "cell_type": "code",
   "execution_count": 31,
   "id": "2817bf97-ee68-48c1-b7f6-b517849aa412",
   "metadata": {
    "scrolled": true
   },
   "outputs": [
    {
     "name": "stderr",
     "output_type": "stream",
     "text": [
      "textattack: Unknown if model of class <class 'transformers.models.clip.modeling_clip.CLIPTextTransformer'> compatible with goal function <class 'textattack.goal_functions.classification.untargeted_classification.UntargetedClassification'>.\n",
      "textattack: Logging to CSV at path attack_results_new/clipmrattacksvcsim06.csv\n"
     ]
    },
    {
     "name": "stdout",
     "output_type": "stream",
     "text": [
      "Attack(\n",
      "  (search_method): GreedyWordSwapWIR(\n",
      "    (wir_method):  delete\n",
      "  )\n",
      "  (goal_function):  UntargetedClassification\n",
      "  (transformation):  WordSwapEmbedding(\n",
      "    (max_candidates):  50\n",
      "    (embedding):  WordEmbedding\n",
      "  )\n",
      "  (constraints): \n",
      "    (0): WordEmbeddingDistance(\n",
      "        (embedding):  WordEmbedding\n",
      "        (min_cos_sim):  0.6\n",
      "        (cased):  False\n",
      "        (include_unknown_words):  True\n",
      "        (compare_against_original):  True\n",
      "      )\n",
      "    (1): PartOfSpeech(\n",
      "        (tagger_type):  nltk\n",
      "        (tagset):  universal\n",
      "        (allow_verb_noun_swap):  True\n",
      "        (compare_against_original):  True\n",
      "      )\n",
      "    (2): UniversalSentenceEncoder(\n",
      "        (metric):  angular\n",
      "        (threshold):  0.840845057\n",
      "        (window_size):  15\n",
      "        (skip_text_shorter_than_window):  True\n",
      "        (compare_against_original):  False\n",
      "      )\n",
      "    (3): RepeatModification\n",
      "    (4): StopwordModification\n",
      "    (5): InputColumnModification(\n",
      "        (matching_column_labels):  ['premise', 'hypothesis']\n",
      "        (columns_to_ignore):  {'premise'}\n",
      "      )\n",
      "  (is_black_box):  True\n",
      ") \n",
      "\n"
     ]
    },
    {
     "name": "stderr",
     "output_type": "stream",
     "text": [
      "[Succeeded / Failed / Skipped / Total] 5 / 0 / 0 / 5:   1%|▎                           | 5/500 [00:13<22:38,  2.74s/it]textattack: Saving checkpoint under \"checkpoints\\1720195886996.ta.chkpt\" at 2024-07-06 00:11:26 after 5 attacks.\n",
      "[Succeeded / Failed / Skipped / Total] 5 / 0 / 2 / 7:   1%|▍                           | 7/500 [00:13<16:14,  1.98s/it]"
     ]
    },
    {
     "name": "stdout",
     "output_type": "stream",
     "text": [
      "\n",
      "\n",
      "=============================================================================================================================\n",
      "=============================================================================================================================\n",
      "\n"
     ]
    },
    {
     "name": "stderr",
     "output_type": "stream",
     "text": [
      "[Succeeded / Failed / Skipped / Total] 8 / 0 / 2 / 10:   2%|▌                         | 10/500 [00:18<14:45,  1.81s/it]textattack: Saving checkpoint under \"checkpoints\\1720195891344.ta.chkpt\" at 2024-07-06 00:11:31 after 10 attacks.\n"
     ]
    },
    {
     "name": "stdout",
     "output_type": "stream",
     "text": [
      "\n",
      "\n",
      "=============================================================================================================================\n",
      "=============================================================================================================================\n",
      "\n"
     ]
    },
    {
     "name": "stderr",
     "output_type": "stream",
     "text": [
      "[Succeeded / Failed / Skipped / Total] 12 / 0 / 3 / 15:   3%|▊                        | 15/500 [00:31<16:50,  2.08s/it]textattack: Saving checkpoint under \"checkpoints\\1720195904538.ta.chkpt\" at 2024-07-06 00:11:44 after 15 attacks.\n"
     ]
    },
    {
     "name": "stdout",
     "output_type": "stream",
     "text": [
      "\n",
      "\n",
      "=============================================================================================================================\n",
      "=============================================================================================================================\n",
      "\n"
     ]
    },
    {
     "name": "stderr",
     "output_type": "stream",
     "text": [
      "[Succeeded / Failed / Skipped / Total] 16 / 0 / 4 / 20:   4%|█                        | 20/500 [00:34<13:49,  1.73s/it]textattack: Saving checkpoint under \"checkpoints\\1720195907847.ta.chkpt\" at 2024-07-06 00:11:47 after 20 attacks.\n"
     ]
    },
    {
     "name": "stdout",
     "output_type": "stream",
     "text": [
      "\n",
      "\n",
      "=============================================================================================================================\n",
      "=============================================================================================================================\n",
      "\n"
     ]
    },
    {
     "name": "stderr",
     "output_type": "stream",
     "text": [
      "[Succeeded / Failed / Skipped / Total] 20 / 0 / 5 / 25:   5%|█▎                       | 25/500 [00:39<12:23,  1.57s/it]textattack: Saving checkpoint under \"checkpoints\\1720195912408.ta.chkpt\" at 2024-07-06 00:11:52 after 25 attacks.\n"
     ]
    },
    {
     "name": "stdout",
     "output_type": "stream",
     "text": [
      "\n",
      "\n",
      "=============================================================================================================================\n",
      "=============================================================================================================================\n",
      "\n"
     ]
    },
    {
     "name": "stderr",
     "output_type": "stream",
     "text": [
      "[Succeeded / Failed / Skipped / Total] 24 / 0 / 6 / 30:   6%|█▌                       | 30/500 [00:44<11:33,  1.48s/it]textattack: Saving checkpoint under \"checkpoints\\1720195917528.ta.chkpt\" at 2024-07-06 00:11:57 after 30 attacks.\n"
     ]
    },
    {
     "name": "stdout",
     "output_type": "stream",
     "text": [
      "\n",
      "\n",
      "=============================================================================================================================\n",
      "=============================================================================================================================\n",
      "\n"
     ]
    },
    {
     "name": "stderr",
     "output_type": "stream",
     "text": [
      "[Succeeded / Failed / Skipped / Total] 27 / 0 / 8 / 35:   7%|█▊                       | 35/500 [00:47<10:26,  1.35s/it]textattack: Saving checkpoint under \"checkpoints\\1720195920435.ta.chkpt\" at 2024-07-06 00:12:00 after 35 attacks.\n"
     ]
    },
    {
     "name": "stdout",
     "output_type": "stream",
     "text": [
      "\n",
      "\n",
      "=============================================================================================================================\n",
      "=============================================================================================================================\n",
      "\n"
     ]
    },
    {
     "name": "stderr",
     "output_type": "stream",
     "text": [
      "[Succeeded / Failed / Skipped / Total] 31 / 0 / 9 / 40:   8%|██                       | 40/500 [00:51<09:48,  1.28s/it]textattack: Saving checkpoint under \"checkpoints\\1720195924486.ta.chkpt\" at 2024-07-06 00:12:04 after 40 attacks.\n"
     ]
    },
    {
     "name": "stdout",
     "output_type": "stream",
     "text": [
      "\n",
      "\n",
      "=============================================================================================================================\n",
      "=============================================================================================================================\n",
      "\n"
     ]
    },
    {
     "name": "stderr",
     "output_type": "stream",
     "text": [
      "[Succeeded / Failed / Skipped / Total] 34 / 0 / 11 / 45:   9%|██▏                     | 45/500 [00:57<09:42,  1.28s/it]textattack: Saving checkpoint under \"checkpoints\\1720195930852.ta.chkpt\" at 2024-07-06 00:12:10 after 45 attacks.\n"
     ]
    },
    {
     "name": "stdout",
     "output_type": "stream",
     "text": [
      "\n",
      "\n",
      "=============================================================================================================================\n",
      "=============================================================================================================================\n",
      "\n"
     ]
    },
    {
     "name": "stderr",
     "output_type": "stream",
     "text": [
      "[Succeeded / Failed / Skipped / Total] 38 / 0 / 12 / 50:  10%|██▍                     | 50/500 [01:01<09:13,  1.23s/it]textattack: Saving checkpoint under \"checkpoints\\1720195934724.ta.chkpt\" at 2024-07-06 00:12:14 after 50 attacks.\n"
     ]
    },
    {
     "name": "stdout",
     "output_type": "stream",
     "text": [
      "\n",
      "\n",
      "=============================================================================================================================\n",
      "=============================================================================================================================\n",
      "\n"
     ]
    },
    {
     "name": "stderr",
     "output_type": "stream",
     "text": [
      "[Succeeded / Failed / Skipped / Total] 42 / 0 / 13 / 55:  11%|██▋                     | 55/500 [01:07<09:08,  1.23s/it]textattack: Saving checkpoint under \"checkpoints\\1720195941124.ta.chkpt\" at 2024-07-06 00:12:21 after 55 attacks.\n"
     ]
    },
    {
     "name": "stdout",
     "output_type": "stream",
     "text": [
      "\n",
      "\n",
      "=============================================================================================================================\n",
      "=============================================================================================================================\n",
      "\n"
     ]
    },
    {
     "name": "stderr",
     "output_type": "stream",
     "text": [
      "[Succeeded / Failed / Skipped / Total] 46 / 0 / 14 / 60:  12%|██▉                     | 60/500 [01:13<09:02,  1.23s/it]textattack: Saving checkpoint under \"checkpoints\\1720195947208.ta.chkpt\" at 2024-07-06 00:12:27 after 60 attacks.\n",
      "[Succeeded / Failed / Skipped / Total] 46 / 0 / 15 / 61:  12%|██▉                     | 61/500 [01:14<08:52,  1.21s/it]"
     ]
    },
    {
     "name": "stdout",
     "output_type": "stream",
     "text": [
      "\n",
      "\n",
      "=============================================================================================================================\n",
      "=============================================================================================================================\n",
      "\n"
     ]
    },
    {
     "name": "stderr",
     "output_type": "stream",
     "text": [
      "[Succeeded / Failed / Skipped / Total] 50 / 0 / 15 / 65:  13%|███                     | 65/500 [01:17<08:37,  1.19s/it]textattack: Saving checkpoint under \"checkpoints\\1720195950648.ta.chkpt\" at 2024-07-06 00:12:30 after 65 attacks.\n"
     ]
    },
    {
     "name": "stdout",
     "output_type": "stream",
     "text": [
      "\n",
      "\n",
      "=============================================================================================================================\n",
      "=============================================================================================================================\n",
      "\n"
     ]
    },
    {
     "name": "stderr",
     "output_type": "stream",
     "text": [
      "[Succeeded / Failed / Skipped / Total] 54 / 0 / 16 / 70:  14%|███▎                    | 70/500 [01:23<08:34,  1.20s/it]textattack: Saving checkpoint under \"checkpoints\\1720195957078.ta.chkpt\" at 2024-07-06 00:12:37 after 70 attacks.\n"
     ]
    },
    {
     "name": "stdout",
     "output_type": "stream",
     "text": [
      "\n",
      "\n",
      "=============================================================================================================================\n",
      "=============================================================================================================================\n",
      "\n"
     ]
    },
    {
     "name": "stderr",
     "output_type": "stream",
     "text": [
      "[Succeeded / Failed / Skipped / Total] 59 / 0 / 16 / 75:  15%|███▌                    | 75/500 [01:29<08:24,  1.19s/it]textattack: Saving checkpoint under \"checkpoints\\1720195962298.ta.chkpt\" at 2024-07-06 00:12:42 after 75 attacks.\n",
      "[Succeeded / Failed / Skipped / Total] 59 / 0 / 17 / 76:  15%|███▋                    | 76/500 [01:29<08:17,  1.17s/it]"
     ]
    },
    {
     "name": "stdout",
     "output_type": "stream",
     "text": [
      "\n",
      "\n",
      "=============================================================================================================================\n",
      "=============================================================================================================================\n",
      "\n"
     ]
    },
    {
     "name": "stderr",
     "output_type": "stream",
     "text": [
      "[Succeeded / Failed / Skipped / Total] 62 / 0 / 18 / 80:  16%|███▊                    | 80/500 [01:33<08:10,  1.17s/it]textattack: Saving checkpoint under \"checkpoints\\1720195966633.ta.chkpt\" at 2024-07-06 00:12:46 after 80 attacks.\n",
      "[Succeeded / Failed / Skipped / Total] 62 / 0 / 20 / 82:  16%|███▉                    | 82/500 [01:33<07:56,  1.14s/it]"
     ]
    },
    {
     "name": "stdout",
     "output_type": "stream",
     "text": [
      "\n",
      "\n",
      "=============================================================================================================================\n",
      "=============================================================================================================================\n",
      "\n"
     ]
    },
    {
     "name": "stderr",
     "output_type": "stream",
     "text": [
      "[Succeeded / Failed / Skipped / Total] 65 / 0 / 20 / 85:  17%|████                    | 85/500 [01:35<07:46,  1.12s/it]textattack: Saving checkpoint under \"checkpoints\\1720195968791.ta.chkpt\" at 2024-07-06 00:12:48 after 85 attacks.\n"
     ]
    },
    {
     "name": "stdout",
     "output_type": "stream",
     "text": [
      "\n",
      "\n",
      "=============================================================================================================================\n",
      "=============================================================================================================================\n",
      "\n"
     ]
    },
    {
     "name": "stderr",
     "output_type": "stream",
     "text": [
      "[Succeeded / Failed / Skipped / Total] 69 / 0 / 21 / 90:  18%|████▎                   | 90/500 [01:41<07:44,  1.13s/it]textattack: Saving checkpoint under \"checkpoints\\1720195975233.ta.chkpt\" at 2024-07-06 00:12:55 after 90 attacks.\n",
      "[Succeeded / Failed / Skipped / Total] 69 / 0 / 22 / 91:  18%|████▎                   | 91/500 [01:42<07:38,  1.12s/it]"
     ]
    },
    {
     "name": "stdout",
     "output_type": "stream",
     "text": [
      "\n",
      "\n",
      "=============================================================================================================================\n",
      "=============================================================================================================================\n",
      "\n"
     ]
    },
    {
     "name": "stderr",
     "output_type": "stream",
     "text": [
      "[Succeeded / Failed / Skipped / Total] 72 / 0 / 23 / 95:  19%|████▌                   | 95/500 [01:46<07:33,  1.12s/it]textattack: Saving checkpoint under \"checkpoints\\1720195979576.ta.chkpt\" at 2024-07-06 00:12:59 after 95 attacks.\n"
     ]
    },
    {
     "name": "stdout",
     "output_type": "stream",
     "text": [
      "\n",
      "\n",
      "=============================================================================================================================\n",
      "=============================================================================================================================\n",
      "\n"
     ]
    },
    {
     "name": "stderr",
     "output_type": "stream",
     "text": [
      "[Succeeded / Failed / Skipped / Total] 76 / 0 / 24 / 100:  20%|████▍                 | 100/500 [01:50<07:22,  1.11s/it]textattack: Saving checkpoint under \"checkpoints\\1720195983790.ta.chkpt\" at 2024-07-06 00:13:03 after 100 attacks.\n"
     ]
    },
    {
     "name": "stdout",
     "output_type": "stream",
     "text": [
      "\n",
      "\n",
      "=============================================================================================================================\n",
      "=============================================================================================================================\n",
      "\n"
     ]
    },
    {
     "name": "stderr",
     "output_type": "stream",
     "text": [
      "[Succeeded / Failed / Skipped / Total] 81 / 0 / 24 / 105:  21%|████▌                 | 105/500 [01:57<07:20,  1.12s/it]textattack: Saving checkpoint under \"checkpoints\\1720195990372.ta.chkpt\" at 2024-07-06 00:13:10 after 105 attacks.\n",
      "[Succeeded / Failed / Skipped / Total] 81 / 0 / 25 / 106:  21%|████▋                 | 106/500 [01:57<07:15,  1.11s/it]"
     ]
    },
    {
     "name": "stdout",
     "output_type": "stream",
     "text": [
      "\n",
      "\n",
      "=============================================================================================================================\n",
      "=============================================================================================================================\n",
      "\n"
     ]
    },
    {
     "name": "stderr",
     "output_type": "stream",
     "text": [
      "[Succeeded / Failed / Skipped / Total] 83 / 0 / 27 / 110:  22%|████▊                 | 110/500 [01:59<07:05,  1.09s/it]textattack: Saving checkpoint under \"checkpoints\\1720195993261.ta.chkpt\" at 2024-07-06 00:13:13 after 110 attacks.\n",
      "[Succeeded / Failed / Skipped / Total] 83 / 0 / 28 / 111:  22%|████▉                 | 111/500 [02:00<07:00,  1.08s/it]"
     ]
    },
    {
     "name": "stdout",
     "output_type": "stream",
     "text": [
      "\n",
      "\n",
      "=============================================================================================================================\n",
      "=============================================================================================================================\n",
      "\n"
     ]
    },
    {
     "name": "stderr",
     "output_type": "stream",
     "text": [
      "[Succeeded / Failed / Skipped / Total] 85 / 0 / 30 / 115:  23%|█████                 | 115/500 [02:02<06:48,  1.06s/it]textattack: Saving checkpoint under \"checkpoints\\1720195995418.ta.chkpt\" at 2024-07-06 00:13:15 after 115 attacks.\n"
     ]
    },
    {
     "name": "stdout",
     "output_type": "stream",
     "text": [
      "\n",
      "\n",
      "=============================================================================================================================\n",
      "=============================================================================================================================\n",
      "\n"
     ]
    },
    {
     "name": "stderr",
     "output_type": "stream",
     "text": [
      "[Succeeded / Failed / Skipped / Total] 88 / 0 / 32 / 120:  24%|█████▎                | 120/500 [02:04<06:34,  1.04s/it]textattack: Saving checkpoint under \"checkpoints\\1720195997910.ta.chkpt\" at 2024-07-06 00:13:17 after 120 attacks.\n",
      "[Succeeded / Failed / Skipped / Total] 88 / 0 / 33 / 121:  24%|█████▎                | 121/500 [02:04<06:30,  1.03s/it]"
     ]
    },
    {
     "name": "stdout",
     "output_type": "stream",
     "text": [
      "\n",
      "\n",
      "=============================================================================================================================\n",
      "=============================================================================================================================\n",
      "\n"
     ]
    },
    {
     "name": "stderr",
     "output_type": "stream",
     "text": [
      "[Succeeded / Failed / Skipped / Total] 91 / 0 / 34 / 125:  25%|█████▌                | 125/500 [02:07<06:22,  1.02s/it]textattack: Saving checkpoint under \"checkpoints\\1720196000671.ta.chkpt\" at 2024-07-06 00:13:20 after 125 attacks.\n"
     ]
    },
    {
     "name": "stdout",
     "output_type": "stream",
     "text": [
      "\n",
      "\n",
      "=============================================================================================================================\n",
      "=============================================================================================================================\n",
      "\n"
     ]
    },
    {
     "name": "stderr",
     "output_type": "stream",
     "text": [
      "[Succeeded / Failed / Skipped / Total] 96 / 0 / 34 / 130:  26%|█████▋                | 130/500 [02:12<06:16,  1.02s/it]textattack: Saving checkpoint under \"checkpoints\\1720196005727.ta.chkpt\" at 2024-07-06 00:13:25 after 130 attacks.\n",
      "[Succeeded / Failed / Skipped / Total] 96 / 0 / 35 / 131:  26%|█████▊                | 131/500 [02:12<06:13,  1.01s/it]"
     ]
    },
    {
     "name": "stdout",
     "output_type": "stream",
     "text": [
      "\n",
      "\n",
      "=============================================================================================================================\n",
      "=============================================================================================================================\n",
      "\n"
     ]
    },
    {
     "name": "stderr",
     "output_type": "stream",
     "text": [
      "[Succeeded / Failed / Skipped / Total] 99 / 0 / 36 / 135:  27%|█████▉                | 135/500 [02:17<06:11,  1.02s/it]textattack: Saving checkpoint under \"checkpoints\\1720196010547.ta.chkpt\" at 2024-07-06 00:13:30 after 135 attacks.\n"
     ]
    },
    {
     "name": "stdout",
     "output_type": "stream",
     "text": [
      "\n",
      "\n",
      "=============================================================================================================================\n",
      "=============================================================================================================================\n",
      "\n"
     ]
    },
    {
     "name": "stderr",
     "output_type": "stream",
     "text": [
      "[Succeeded / Failed / Skipped / Total] 101 / 0 / 39 / 140:  28%|█████▉               | 140/500 [02:19<05:59,  1.00it/s]textattack: Saving checkpoint under \"checkpoints\\1720196013019.ta.chkpt\" at 2024-07-06 00:13:33 after 140 attacks.\n"
     ]
    },
    {
     "name": "stdout",
     "output_type": "stream",
     "text": [
      "\n",
      "\n",
      "=============================================================================================================================\n",
      "=============================================================================================================================\n",
      "\n"
     ]
    },
    {
     "name": "stderr",
     "output_type": "stream",
     "text": [
      "[Succeeded / Failed / Skipped / Total] 104 / 0 / 41 / 145:  29%|██████               | 145/500 [02:22<05:48,  1.02it/s]textattack: Saving checkpoint under \"checkpoints\\1720196015522.ta.chkpt\" at 2024-07-06 00:13:35 after 145 attacks.\n",
      "[Succeeded / Failed / Skipped / Total] 104 / 0 / 42 / 146:  29%|██████▏              | 146/500 [02:22<05:45,  1.03it/s]"
     ]
    },
    {
     "name": "stdout",
     "output_type": "stream",
     "text": [
      "\n",
      "\n",
      "=============================================================================================================================\n",
      "=============================================================================================================================\n",
      "\n"
     ]
    },
    {
     "name": "stderr",
     "output_type": "stream",
     "text": [
      "[Succeeded / Failed / Skipped / Total] 107 / 0 / 43 / 150:  30%|██████▎              | 150/500 [02:25<05:38,  1.03it/s]textattack: Saving checkpoint under \"checkpoints\\1720196018419.ta.chkpt\" at 2024-07-06 00:13:38 after 150 attacks.\n",
      "[Succeeded / Failed / Skipped / Total] 107 / 0 / 44 / 151:  30%|██████▎              | 151/500 [02:25<05:35,  1.04it/s]"
     ]
    },
    {
     "name": "stdout",
     "output_type": "stream",
     "text": [
      "\n",
      "\n",
      "=============================================================================================================================\n",
      "=============================================================================================================================\n",
      "\n"
     ]
    },
    {
     "name": "stderr",
     "output_type": "stream",
     "text": [
      "[Succeeded / Failed / Skipped / Total] 109 / 1 / 45 / 155:  31%|██████▌              | 155/500 [02:32<05:38,  1.02it/s]textattack: Saving checkpoint under \"checkpoints\\1720196025515.ta.chkpt\" at 2024-07-06 00:13:45 after 155 attacks.\n"
     ]
    },
    {
     "name": "stdout",
     "output_type": "stream",
     "text": [
      "\n",
      "\n",
      "=============================================================================================================================\n",
      "=============================================================================================================================\n",
      "\n"
     ]
    },
    {
     "name": "stderr",
     "output_type": "stream",
     "text": [
      "[Succeeded / Failed / Skipped / Total] 112 / 1 / 47 / 160:  32%|██████▋              | 160/500 [02:39<05:38,  1.01it/s]textattack: Saving checkpoint under \"checkpoints\\1720196032419.ta.chkpt\" at 2024-07-06 00:13:52 after 160 attacks.\n",
      "[Succeeded / Failed / Skipped / Total] 112 / 1 / 48 / 161:  32%|██████▊              | 161/500 [02:39<05:35,  1.01it/s]"
     ]
    },
    {
     "name": "stdout",
     "output_type": "stream",
     "text": [
      "\n",
      "\n",
      "=============================================================================================================================\n",
      "=============================================================================================================================\n",
      "\n"
     ]
    },
    {
     "name": "stderr",
     "output_type": "stream",
     "text": [
      "[Succeeded / Failed / Skipped / Total] 114 / 1 / 50 / 165:  33%|██████▉              | 165/500 [02:41<05:28,  1.02it/s]textattack: Saving checkpoint under \"checkpoints\\1720196034977.ta.chkpt\" at 2024-07-06 00:13:54 after 165 attacks.\n"
     ]
    },
    {
     "name": "stdout",
     "output_type": "stream",
     "text": [
      "\n",
      "\n",
      "=============================================================================================================================\n",
      "=============================================================================================================================\n",
      "\n"
     ]
    },
    {
     "name": "stderr",
     "output_type": "stream",
     "text": [
      "[Succeeded / Failed / Skipped / Total] 117 / 1 / 52 / 170:  34%|███████▏             | 170/500 [02:45<05:20,  1.03it/s]textattack: Saving checkpoint under \"checkpoints\\1720196038370.ta.chkpt\" at 2024-07-06 00:13:58 after 170 attacks.\n"
     ]
    },
    {
     "name": "stdout",
     "output_type": "stream",
     "text": [
      "\n",
      "\n",
      "=============================================================================================================================\n",
      "=============================================================================================================================\n",
      "\n"
     ]
    },
    {
     "name": "stderr",
     "output_type": "stream",
     "text": [
      "[Succeeded / Failed / Skipped / Total] 122 / 1 / 52 / 175:  35%|███████▎             | 175/500 [02:57<05:29,  1.01s/it]textattack: Saving checkpoint under \"checkpoints\\1720196050584.ta.chkpt\" at 2024-07-06 00:14:10 after 175 attacks.\n",
      "[Succeeded / Failed / Skipped / Total] 122 / 1 / 53 / 176:  35%|███████▍             | 176/500 [02:57<05:26,  1.01s/it]"
     ]
    },
    {
     "name": "stdout",
     "output_type": "stream",
     "text": [
      "\n",
      "\n",
      "=============================================================================================================================\n",
      "=============================================================================================================================\n",
      "\n"
     ]
    },
    {
     "name": "stderr",
     "output_type": "stream",
     "text": [
      "[Succeeded / Failed / Skipped / Total] 126 / 1 / 53 / 180:  36%|███████▌             | 180/500 [03:01<05:22,  1.01s/it]textattack: Saving checkpoint under \"checkpoints\\1720196054757.ta.chkpt\" at 2024-07-06 00:14:14 after 180 attacks.\n"
     ]
    },
    {
     "name": "stdout",
     "output_type": "stream",
     "text": [
      "\n",
      "\n",
      "=============================================================================================================================\n",
      "=============================================================================================================================\n",
      "\n"
     ]
    },
    {
     "name": "stderr",
     "output_type": "stream",
     "text": [
      "[Succeeded / Failed / Skipped / Total] 129 / 1 / 55 / 185:  37%|███████▊             | 185/500 [03:03<05:13,  1.01it/s]textattack: Saving checkpoint under \"checkpoints\\1720196057168.ta.chkpt\" at 2024-07-06 00:14:17 after 185 attacks.\n",
      "[Succeeded / Failed / Skipped / Total] 129 / 1 / 56 / 186:  37%|███████▊             | 186/500 [03:03<05:10,  1.01it/s]"
     ]
    },
    {
     "name": "stdout",
     "output_type": "stream",
     "text": [
      "\n",
      "\n",
      "=============================================================================================================================\n",
      "=============================================================================================================================\n",
      "\n"
     ]
    },
    {
     "name": "stderr",
     "output_type": "stream",
     "text": [
      "[Succeeded / Failed / Skipped / Total] 133 / 1 / 56 / 190:  38%|███████▉             | 190/500 [03:11<05:12,  1.01s/it]textattack: Saving checkpoint under \"checkpoints\\1720196064922.ta.chkpt\" at 2024-07-06 00:14:24 after 190 attacks.\n"
     ]
    },
    {
     "name": "stdout",
     "output_type": "stream",
     "text": [
      "\n",
      "\n",
      "=============================================================================================================================\n",
      "=============================================================================================================================\n",
      "\n"
     ]
    },
    {
     "name": "stderr",
     "output_type": "stream",
     "text": [
      "[Succeeded / Failed / Skipped / Total] 136 / 1 / 58 / 195:  39%|████████▏            | 195/500 [03:17<05:08,  1.01s/it]textattack: Saving checkpoint under \"checkpoints\\1720196070460.ta.chkpt\" at 2024-07-06 00:14:30 after 195 attacks.\n"
     ]
    },
    {
     "name": "stdout",
     "output_type": "stream",
     "text": [
      "\n",
      "\n",
      "=============================================================================================================================\n",
      "=============================================================================================================================\n",
      "\n"
     ]
    },
    {
     "name": "stderr",
     "output_type": "stream",
     "text": [
      "[Succeeded / Failed / Skipped / Total] 140 / 1 / 59 / 200:  40%|████████▍            | 200/500 [03:24<05:06,  1.02s/it]textattack: Saving checkpoint under \"checkpoints\\1720196077699.ta.chkpt\" at 2024-07-06 00:14:37 after 200 attacks.\n"
     ]
    },
    {
     "name": "stdout",
     "output_type": "stream",
     "text": [
      "\n",
      "\n",
      "=============================================================================================================================\n",
      "=============================================================================================================================\n",
      "\n"
     ]
    },
    {
     "name": "stderr",
     "output_type": "stream",
     "text": [
      "[Succeeded / Failed / Skipped / Total] 144 / 1 / 60 / 205:  41%|████████▌            | 205/500 [03:29<05:01,  1.02s/it]textattack: Saving checkpoint under \"checkpoints\\1720196083043.ta.chkpt\" at 2024-07-06 00:14:43 after 205 attacks.\n"
     ]
    },
    {
     "name": "stdout",
     "output_type": "stream",
     "text": [
      "\n",
      "\n",
      "=============================================================================================================================\n",
      "=============================================================================================================================\n",
      "\n"
     ]
    },
    {
     "name": "stderr",
     "output_type": "stream",
     "text": [
      "[Succeeded / Failed / Skipped / Total] 148 / 1 / 61 / 210:  42%|████████▊            | 210/500 [03:33<04:55,  1.02s/it]textattack: Saving checkpoint under \"checkpoints\\1720196087191.ta.chkpt\" at 2024-07-06 00:14:47 after 210 attacks.\n"
     ]
    },
    {
     "name": "stdout",
     "output_type": "stream",
     "text": [
      "\n",
      "\n",
      "=============================================================================================================================\n",
      "=============================================================================================================================\n",
      "\n"
     ]
    },
    {
     "name": "stderr",
     "output_type": "stream",
     "text": [
      "[Succeeded / Failed / Skipped / Total] 152 / 1 / 62 / 215:  43%|█████████            | 215/500 [03:43<04:56,  1.04s/it]textattack: Saving checkpoint under \"checkpoints\\1720196096620.ta.chkpt\" at 2024-07-06 00:14:56 after 215 attacks.\n"
     ]
    },
    {
     "name": "stdout",
     "output_type": "stream",
     "text": [
      "\n",
      "\n",
      "=============================================================================================================================\n",
      "=============================================================================================================================\n",
      "\n"
     ]
    },
    {
     "name": "stderr",
     "output_type": "stream",
     "text": [
      "[Succeeded / Failed / Skipped / Total] 157 / 1 / 62 / 220:  44%|█████████▏           | 220/500 [03:48<04:50,  1.04s/it]textattack: Saving checkpoint under \"checkpoints\\1720196101913.ta.chkpt\" at 2024-07-06 00:15:01 after 220 attacks.\n"
     ]
    },
    {
     "name": "stdout",
     "output_type": "stream",
     "text": [
      "\n",
      "\n",
      "=============================================================================================================================\n",
      "=============================================================================================================================\n",
      "\n"
     ]
    },
    {
     "name": "stderr",
     "output_type": "stream",
     "text": [
      "[Succeeded / Failed / Skipped / Total] 160 / 1 / 64 / 225:  45%|█████████▍           | 225/500 [03:55<04:47,  1.05s/it]textattack: Saving checkpoint under \"checkpoints\\1720196108623.ta.chkpt\" at 2024-07-06 00:15:08 after 225 attacks.\n"
     ]
    },
    {
     "name": "stdout",
     "output_type": "stream",
     "text": [
      "\n",
      "\n",
      "=============================================================================================================================\n",
      "=============================================================================================================================\n",
      "\n"
     ]
    },
    {
     "name": "stderr",
     "output_type": "stream",
     "text": [
      "[Succeeded / Failed / Skipped / Total] 164 / 1 / 65 / 230:  46%|█████████▋           | 230/500 [04:01<04:43,  1.05s/it]textattack: Saving checkpoint under \"checkpoints\\1720196114479.ta.chkpt\" at 2024-07-06 00:15:14 after 230 attacks.\n",
      "[Succeeded / Failed / Skipped / Total] 164 / 1 / 66 / 231:  46%|█████████▋           | 231/500 [04:01<04:41,  1.04s/it]"
     ]
    },
    {
     "name": "stdout",
     "output_type": "stream",
     "text": [
      "\n",
      "\n",
      "=============================================================================================================================\n",
      "=============================================================================================================================\n",
      "\n"
     ]
    },
    {
     "name": "stderr",
     "output_type": "stream",
     "text": [
      "[Succeeded / Failed / Skipped / Total] 167 / 1 / 67 / 235:  47%|█████████▊           | 235/500 [04:07<04:38,  1.05s/it]textattack: Saving checkpoint under \"checkpoints\\1720196120395.ta.chkpt\" at 2024-07-06 00:15:20 after 235 attacks.\n"
     ]
    },
    {
     "name": "stdout",
     "output_type": "stream",
     "text": [
      "\n",
      "\n",
      "=============================================================================================================================\n",
      "=============================================================================================================================\n",
      "\n"
     ]
    },
    {
     "name": "stderr",
     "output_type": "stream",
     "text": [
      "[Succeeded / Failed / Skipped / Total] 172 / 1 / 67 / 240:  48%|██████████           | 240/500 [04:14<04:35,  1.06s/it]textattack: Saving checkpoint under \"checkpoints\\1720196127435.ta.chkpt\" at 2024-07-06 00:15:27 after 240 attacks.\n",
      "[Succeeded / Failed / Skipped / Total] 172 / 1 / 69 / 242:  48%|██████████▏          | 242/500 [04:14<04:31,  1.05s/it]"
     ]
    },
    {
     "name": "stdout",
     "output_type": "stream",
     "text": [
      "\n",
      "\n",
      "=============================================================================================================================\n",
      "=============================================================================================================================\n",
      "\n"
     ]
    },
    {
     "name": "stderr",
     "output_type": "stream",
     "text": [
      "[Succeeded / Failed / Skipped / Total] 175 / 1 / 69 / 245:  49%|██████████▎          | 245/500 [04:18<04:29,  1.06s/it]textattack: Saving checkpoint under \"checkpoints\\1720196132205.ta.chkpt\" at 2024-07-06 00:15:32 after 245 attacks.\n"
     ]
    },
    {
     "name": "stdout",
     "output_type": "stream",
     "text": [
      "\n",
      "\n",
      "=============================================================================================================================\n",
      "=============================================================================================================================\n",
      "\n"
     ]
    },
    {
     "name": "stderr",
     "output_type": "stream",
     "text": [
      "[Succeeded / Failed / Skipped / Total] 177 / 1 / 72 / 250:  50%|██████████▌          | 250/500 [04:20<04:20,  1.04s/it]textattack: Saving checkpoint under \"checkpoints\\1720196133367.ta.chkpt\" at 2024-07-06 00:15:33 after 250 attacks.\n",
      "[Succeeded / Failed / Skipped / Total] 177 / 1 / 73 / 251:  50%|██████████▌          | 251/500 [04:20<04:18,  1.04s/it]"
     ]
    },
    {
     "name": "stdout",
     "output_type": "stream",
     "text": [
      "\n",
      "\n",
      "=============================================================================================================================\n",
      "=============================================================================================================================\n",
      "\n"
     ]
    },
    {
     "name": "stderr",
     "output_type": "stream",
     "text": [
      "[Succeeded / Failed / Skipped / Total] 180 / 1 / 74 / 255:  51%|██████████▋          | 255/500 [04:26<04:16,  1.05s/it]textattack: Saving checkpoint under \"checkpoints\\1720196140073.ta.chkpt\" at 2024-07-06 00:15:40 after 255 attacks.\n"
     ]
    },
    {
     "name": "stdout",
     "output_type": "stream",
     "text": [
      "\n",
      "\n",
      "=============================================================================================================================\n",
      "=============================================================================================================================\n",
      "\n"
     ]
    },
    {
     "name": "stderr",
     "output_type": "stream",
     "text": [
      "[Succeeded / Failed / Skipped / Total] 183 / 1 / 76 / 260:  52%|██████████▉          | 260/500 [04:30<04:09,  1.04s/it]textattack: Saving checkpoint under \"checkpoints\\1720196143982.ta.chkpt\" at 2024-07-06 00:15:43 after 260 attacks.\n"
     ]
    },
    {
     "name": "stdout",
     "output_type": "stream",
     "text": [
      "\n",
      "\n",
      "=============================================================================================================================\n",
      "=============================================================================================================================\n",
      "\n"
     ]
    },
    {
     "name": "stderr",
     "output_type": "stream",
     "text": [
      "[Succeeded / Failed / Skipped / Total] 188 / 1 / 76 / 265:  53%|███████████▏         | 265/500 [04:37<04:05,  1.05s/it]textattack: Saving checkpoint under \"checkpoints\\1720196150516.ta.chkpt\" at 2024-07-06 00:15:50 after 265 attacks.\n"
     ]
    },
    {
     "name": "stdout",
     "output_type": "stream",
     "text": [
      "\n",
      "\n",
      "=============================================================================================================================\n",
      "=============================================================================================================================\n",
      "\n"
     ]
    },
    {
     "name": "stderr",
     "output_type": "stream",
     "text": [
      "[Succeeded / Failed / Skipped / Total] 191 / 1 / 78 / 270:  54%|███████████▎         | 270/500 [04:47<04:04,  1.07s/it]textattack: Saving checkpoint under \"checkpoints\\1720196160824.ta.chkpt\" at 2024-07-06 00:16:00 after 270 attacks.\n",
      "[Succeeded / Failed / Skipped / Total] 191 / 1 / 79 / 271:  54%|███████████▍         | 271/500 [04:47<04:03,  1.06s/it]"
     ]
    },
    {
     "name": "stdout",
     "output_type": "stream",
     "text": [
      "\n",
      "\n",
      "=============================================================================================================================\n",
      "=============================================================================================================================\n",
      "\n"
     ]
    },
    {
     "name": "stderr",
     "output_type": "stream",
     "text": [
      "[Succeeded / Failed / Skipped / Total] 194 / 1 / 80 / 275:  55%|███████████▌         | 275/500 [04:50<03:57,  1.06s/it]textattack: Saving checkpoint under \"checkpoints\\1720196163970.ta.chkpt\" at 2024-07-06 00:16:03 after 275 attacks.\n"
     ]
    },
    {
     "name": "stdout",
     "output_type": "stream",
     "text": [
      "\n",
      "\n",
      "=============================================================================================================================\n",
      "=============================================================================================================================\n",
      "\n"
     ]
    },
    {
     "name": "stderr",
     "output_type": "stream",
     "text": [
      "[Succeeded / Failed / Skipped / Total] 198 / 1 / 81 / 280:  56%|███████████▊         | 280/500 [04:55<03:51,  1.05s/it]textattack: Saving checkpoint under \"checkpoints\\1720196168411.ta.chkpt\" at 2024-07-06 00:16:08 after 280 attacks.\n"
     ]
    },
    {
     "name": "stdout",
     "output_type": "stream",
     "text": [
      "\n",
      "\n",
      "=============================================================================================================================\n",
      "=============================================================================================================================\n",
      "\n"
     ]
    },
    {
     "name": "stderr",
     "output_type": "stream",
     "text": [
      "[Succeeded / Failed / Skipped / Total] 202 / 1 / 82 / 285:  57%|███████████▉         | 285/500 [04:59<03:45,  1.05s/it]textattack: Saving checkpoint under \"checkpoints\\1720196172854.ta.chkpt\" at 2024-07-06 00:16:12 after 285 attacks.\n"
     ]
    },
    {
     "name": "stdout",
     "output_type": "stream",
     "text": [
      "\n",
      "\n",
      "=============================================================================================================================\n",
      "=============================================================================================================================\n",
      "\n"
     ]
    },
    {
     "name": "stderr",
     "output_type": "stream",
     "text": [
      "[Succeeded / Failed / Skipped / Total] 207 / 1 / 82 / 290:  58%|████████████▏        | 290/500 [05:06<03:41,  1.06s/it]textattack: Saving checkpoint under \"checkpoints\\1720196179298.ta.chkpt\" at 2024-07-06 00:16:19 after 290 attacks.\n",
      "[Succeeded / Failed / Skipped / Total] 207 / 1 / 84 / 292:  58%|████████████▎        | 292/500 [05:06<03:38,  1.05s/it]"
     ]
    },
    {
     "name": "stdout",
     "output_type": "stream",
     "text": [
      "\n",
      "\n",
      "=============================================================================================================================\n",
      "=============================================================================================================================\n",
      "\n"
     ]
    },
    {
     "name": "stderr",
     "output_type": "stream",
     "text": [
      "[Succeeded / Failed / Skipped / Total] 209 / 1 / 85 / 295:  59%|████████████▍        | 295/500 [05:07<03:33,  1.04s/it]textattack: Saving checkpoint under \"checkpoints\\1720196180910.ta.chkpt\" at 2024-07-06 00:16:20 after 295 attacks.\n"
     ]
    },
    {
     "name": "stdout",
     "output_type": "stream",
     "text": [
      "\n",
      "\n",
      "=============================================================================================================================\n",
      "=============================================================================================================================\n",
      "\n"
     ]
    },
    {
     "name": "stderr",
     "output_type": "stream",
     "text": [
      "[Succeeded / Failed / Skipped / Total] 212 / 1 / 87 / 300:  60%|████████████▌        | 300/500 [05:12<03:28,  1.04s/it]textattack: Saving checkpoint under \"checkpoints\\1720196185425.ta.chkpt\" at 2024-07-06 00:16:25 after 300 attacks.\n"
     ]
    },
    {
     "name": "stdout",
     "output_type": "stream",
     "text": [
      "\n",
      "\n",
      "=============================================================================================================================\n",
      "=============================================================================================================================\n",
      "\n"
     ]
    },
    {
     "name": "stderr",
     "output_type": "stream",
     "text": [
      "[Succeeded / Failed / Skipped / Total] 214 / 1 / 90 / 305:  61%|████████████▊        | 305/500 [05:14<03:20,  1.03s/it]textattack: Saving checkpoint under \"checkpoints\\1720196187418.ta.chkpt\" at 2024-07-06 00:16:27 after 305 attacks.\n"
     ]
    },
    {
     "name": "stdout",
     "output_type": "stream",
     "text": [
      "\n",
      "\n",
      "=============================================================================================================================\n",
      "=============================================================================================================================\n",
      "\n"
     ]
    },
    {
     "name": "stderr",
     "output_type": "stream",
     "text": [
      "[Succeeded / Failed / Skipped / Total] 217 / 2 / 91 / 310:  62%|█████████████        | 310/500 [05:18<03:15,  1.03s/it]textattack: Saving checkpoint under \"checkpoints\\1720196191638.ta.chkpt\" at 2024-07-06 00:16:31 after 310 attacks.\n"
     ]
    },
    {
     "name": "stdout",
     "output_type": "stream",
     "text": [
      "\n",
      "\n",
      "=============================================================================================================================\n",
      "=============================================================================================================================\n",
      "\n"
     ]
    },
    {
     "name": "stderr",
     "output_type": "stream",
     "text": [
      "[Succeeded / Failed / Skipped / Total] 220 / 2 / 93 / 315:  63%|█████████████▏       | 315/500 [05:24<03:10,  1.03s/it]textattack: Saving checkpoint under \"checkpoints\\1720196197674.ta.chkpt\" at 2024-07-06 00:16:37 after 315 attacks.\n",
      "[Succeeded / Failed / Skipped / Total] 220 / 2 / 94 / 316:  63%|█████████████▎       | 316/500 [05:24<03:08,  1.03s/it]"
     ]
    },
    {
     "name": "stdout",
     "output_type": "stream",
     "text": [
      "\n",
      "\n",
      "=============================================================================================================================\n",
      "=============================================================================================================================\n",
      "\n"
     ]
    },
    {
     "name": "stderr",
     "output_type": "stream",
     "text": [
      "[Succeeded / Failed / Skipped / Total] 222 / 2 / 96 / 320:  64%|█████████████▍       | 320/500 [05:34<03:07,  1.04s/it]textattack: Saving checkpoint under \"checkpoints\\1720196207425.ta.chkpt\" at 2024-07-06 00:16:47 after 320 attacks.\n",
      "[Succeeded / Failed / Skipped / Total] 222 / 2 / 97 / 321:  64%|█████████████▍       | 321/500 [05:34<03:06,  1.04s/it]"
     ]
    },
    {
     "name": "stdout",
     "output_type": "stream",
     "text": [
      "\n",
      "\n",
      "=============================================================================================================================\n",
      "=============================================================================================================================\n",
      "\n"
     ]
    },
    {
     "name": "stderr",
     "output_type": "stream",
     "text": [
      "[Succeeded / Failed / Skipped / Total] 226 / 2 / 97 / 325:  65%|█████████████▋       | 325/500 [05:41<03:03,  1.05s/it]textattack: Saving checkpoint under \"checkpoints\\1720196214598.ta.chkpt\" at 2024-07-06 00:16:54 after 325 attacks.\n",
      "[Succeeded / Failed / Skipped / Total] 226 / 2 / 98 / 326:  65%|█████████████▋       | 326/500 [05:41<03:02,  1.05s/it]"
     ]
    },
    {
     "name": "stdout",
     "output_type": "stream",
     "text": [
      "\n",
      "\n",
      "=============================================================================================================================\n",
      "=============================================================================================================================\n",
      "\n"
     ]
    },
    {
     "name": "stderr",
     "output_type": "stream",
     "text": [
      "[Succeeded / Failed / Skipped / Total] 230 / 2 / 98 / 330:  66%|█████████████▊       | 330/500 [05:44<02:57,  1.04s/it]textattack: Saving checkpoint under \"checkpoints\\1720196217817.ta.chkpt\" at 2024-07-06 00:16:57 after 330 attacks.\n"
     ]
    },
    {
     "name": "stdout",
     "output_type": "stream",
     "text": [
      "\n",
      "\n",
      "=============================================================================================================================\n",
      "=============================================================================================================================\n",
      "\n"
     ]
    },
    {
     "name": "stderr",
     "output_type": "stream",
     "text": [
      "[Succeeded / Failed / Skipped / Total] 235 / 2 / 98 / 335:  67%|██████████████       | 335/500 [05:50<02:52,  1.04s/it]textattack: Saving checkpoint under \"checkpoints\\1720196223286.ta.chkpt\" at 2024-07-06 00:17:03 after 335 attacks.\n"
     ]
    },
    {
     "name": "stdout",
     "output_type": "stream",
     "text": [
      "\n",
      "\n",
      "=============================================================================================================================\n",
      "=============================================================================================================================\n",
      "\n"
     ]
    },
    {
     "name": "stderr",
     "output_type": "stream",
     "text": [
      "[Succeeded / Failed / Skipped / Total] 239 / 2 / 99 / 340:  68%|██████████████▎      | 340/500 [05:53<02:46,  1.04s/it]textattack: Saving checkpoint under \"checkpoints\\1720196226521.ta.chkpt\" at 2024-07-06 00:17:06 after 340 attacks.\n"
     ]
    },
    {
     "name": "stdout",
     "output_type": "stream",
     "text": [
      "\n",
      "\n",
      "=============================================================================================================================\n",
      "=============================================================================================================================\n",
      "\n"
     ]
    },
    {
     "name": "stderr",
     "output_type": "stream",
     "text": [
      "[Succeeded / Failed / Skipped / Total] 242 / 2 / 101 / 345:  69%|█████████████▊      | 345/500 [05:56<02:40,  1.03s/it]textattack: Saving checkpoint under \"checkpoints\\1720196230084.ta.chkpt\" at 2024-07-06 00:17:10 after 345 attacks.\n"
     ]
    },
    {
     "name": "stdout",
     "output_type": "stream",
     "text": [
      "\n",
      "\n",
      "=============================================================================================================================\n",
      "=============================================================================================================================\n",
      "\n"
     ]
    },
    {
     "name": "stderr",
     "output_type": "stream",
     "text": [
      "[Succeeded / Failed / Skipped / Total] 247 / 2 / 101 / 350:  70%|██████████████      | 350/500 [06:03<02:35,  1.04s/it]textattack: Saving checkpoint under \"checkpoints\\1720196237022.ta.chkpt\" at 2024-07-06 00:17:17 after 350 attacks.\n"
     ]
    },
    {
     "name": "stdout",
     "output_type": "stream",
     "text": [
      "\n",
      "\n",
      "=============================================================================================================================\n",
      "=============================================================================================================================\n",
      "\n"
     ]
    },
    {
     "name": "stderr",
     "output_type": "stream",
     "text": [
      "[Succeeded / Failed / Skipped / Total] 252 / 2 / 101 / 355:  71%|██████████████▏     | 355/500 [06:12<02:32,  1.05s/it]textattack: Saving checkpoint under \"checkpoints\\1720196245757.ta.chkpt\" at 2024-07-06 00:17:25 after 355 attacks.\n"
     ]
    },
    {
     "name": "stdout",
     "output_type": "stream",
     "text": [
      "\n",
      "\n",
      "=============================================================================================================================\n",
      "=============================================================================================================================\n",
      "\n"
     ]
    },
    {
     "name": "stderr",
     "output_type": "stream",
     "text": [
      "[Succeeded / Failed / Skipped / Total] 255 / 2 / 103 / 360:  72%|██████████████▍     | 360/500 [06:15<02:25,  1.04s/it]textattack: Saving checkpoint under \"checkpoints\\1720196248523.ta.chkpt\" at 2024-07-06 00:17:28 after 360 attacks.\n"
     ]
    },
    {
     "name": "stdout",
     "output_type": "stream",
     "text": [
      "\n",
      "\n",
      "=============================================================================================================================\n",
      "=============================================================================================================================\n",
      "\n"
     ]
    },
    {
     "name": "stderr",
     "output_type": "stream",
     "text": [
      "[Succeeded / Failed / Skipped / Total] 260 / 2 / 103 / 365:  73%|██████████████▌     | 365/500 [06:20<02:20,  1.04s/it]textattack: Saving checkpoint under \"checkpoints\\1720196253836.ta.chkpt\" at 2024-07-06 00:17:33 after 365 attacks.\n"
     ]
    },
    {
     "name": "stdout",
     "output_type": "stream",
     "text": [
      "\n",
      "\n",
      "=============================================================================================================================\n",
      "=============================================================================================================================\n",
      "\n"
     ]
    },
    {
     "name": "stderr",
     "output_type": "stream",
     "text": [
      "[Succeeded / Failed / Skipped / Total] 264 / 2 / 104 / 370:  74%|██████████████▊     | 370/500 [06:23<02:14,  1.04s/it]textattack: Saving checkpoint under \"checkpoints\\1720196257149.ta.chkpt\" at 2024-07-06 00:17:37 after 370 attacks.\n"
     ]
    },
    {
     "name": "stdout",
     "output_type": "stream",
     "text": [
      "\n",
      "\n",
      "=============================================================================================================================\n",
      "=============================================================================================================================\n",
      "\n"
     ]
    },
    {
     "name": "stderr",
     "output_type": "stream",
     "text": [
      "[Succeeded / Failed / Skipped / Total] 268 / 2 / 105 / 375:  75%|███████████████     | 375/500 [06:29<02:09,  1.04s/it]textattack: Saving checkpoint under \"checkpoints\\1720196262759.ta.chkpt\" at 2024-07-06 00:17:42 after 375 attacks.\n"
     ]
    },
    {
     "name": "stdout",
     "output_type": "stream",
     "text": [
      "\n",
      "\n",
      "=============================================================================================================================\n",
      "=============================================================================================================================\n",
      "\n"
     ]
    },
    {
     "name": "stderr",
     "output_type": "stream",
     "text": [
      "[Succeeded / Failed / Skipped / Total] 272 / 2 / 106 / 380:  76%|███████████████▏    | 380/500 [06:33<02:04,  1.03s/it]textattack: Saving checkpoint under \"checkpoints\\1720196266290.ta.chkpt\" at 2024-07-06 00:17:46 after 380 attacks.\n"
     ]
    },
    {
     "name": "stdout",
     "output_type": "stream",
     "text": [
      "\n",
      "\n",
      "=============================================================================================================================\n",
      "=============================================================================================================================\n",
      "\n"
     ]
    },
    {
     "name": "stderr",
     "output_type": "stream",
     "text": [
      "[Succeeded / Failed / Skipped / Total] 276 / 2 / 107 / 385:  77%|███████████████▍    | 385/500 [06:35<01:58,  1.03s/it]textattack: Saving checkpoint under \"checkpoints\\1720196268775.ta.chkpt\" at 2024-07-06 00:17:48 after 385 attacks.\n"
     ]
    },
    {
     "name": "stdout",
     "output_type": "stream",
     "text": [
      "\n",
      "\n",
      "=============================================================================================================================\n",
      "=============================================================================================================================\n",
      "\n"
     ]
    },
    {
     "name": "stderr",
     "output_type": "stream",
     "text": [
      "[Succeeded / Failed / Skipped / Total] 280 / 2 / 108 / 390:  78%|███████████████▌    | 390/500 [06:40<01:53,  1.03s/it]textattack: Saving checkpoint under \"checkpoints\\1720196273947.ta.chkpt\" at 2024-07-06 00:17:53 after 390 attacks.\n"
     ]
    },
    {
     "name": "stdout",
     "output_type": "stream",
     "text": [
      "\n",
      "\n",
      "=============================================================================================================================\n",
      "=============================================================================================================================\n",
      "\n"
     ]
    },
    {
     "name": "stderr",
     "output_type": "stream",
     "text": [
      "[Succeeded / Failed / Skipped / Total] 285 / 2 / 108 / 395:  79%|███████████████▊    | 395/500 [06:47<01:48,  1.03s/it]textattack: Saving checkpoint under \"checkpoints\\1720196281198.ta.chkpt\" at 2024-07-06 00:18:01 after 395 attacks.\n"
     ]
    },
    {
     "name": "stdout",
     "output_type": "stream",
     "text": [
      "\n",
      "\n",
      "=============================================================================================================================\n",
      "=============================================================================================================================\n",
      "\n"
     ]
    },
    {
     "name": "stderr",
     "output_type": "stream",
     "text": [
      "[Succeeded / Failed / Skipped / Total] 290 / 2 / 108 / 400:  80%|████████████████    | 400/500 [06:55<01:43,  1.04s/it]textattack: Saving checkpoint under \"checkpoints\\1720196288948.ta.chkpt\" at 2024-07-06 00:18:08 after 400 attacks.\n",
      "[Succeeded / Failed / Skipped / Total] 290 / 2 / 109 / 401:  80%|████████████████    | 401/500 [06:55<01:42,  1.04s/it]"
     ]
    },
    {
     "name": "stdout",
     "output_type": "stream",
     "text": [
      "\n",
      "\n",
      "=============================================================================================================================\n",
      "=============================================================================================================================\n",
      "\n"
     ]
    },
    {
     "name": "stderr",
     "output_type": "stream",
     "text": [
      "[Succeeded / Failed / Skipped / Total] 294 / 2 / 109 / 405:  81%|████████████████▏   | 405/500 [07:02<01:39,  1.04s/it]textattack: Saving checkpoint under \"checkpoints\\1720196295839.ta.chkpt\" at 2024-07-06 00:18:15 after 405 attacks.\n"
     ]
    },
    {
     "name": "stdout",
     "output_type": "stream",
     "text": [
      "\n",
      "\n",
      "=============================================================================================================================\n",
      "=============================================================================================================================\n",
      "\n"
     ]
    },
    {
     "name": "stderr",
     "output_type": "stream",
     "text": [
      "[Succeeded / Failed / Skipped / Total] 298 / 2 / 110 / 410:  82%|████████████████▍   | 410/500 [07:06<01:33,  1.04s/it]textattack: Saving checkpoint under \"checkpoints\\1720196299887.ta.chkpt\" at 2024-07-06 00:18:19 after 410 attacks.\n"
     ]
    },
    {
     "name": "stdout",
     "output_type": "stream",
     "text": [
      "\n",
      "\n",
      "=============================================================================================================================\n",
      "=============================================================================================================================\n",
      "\n"
     ]
    },
    {
     "name": "stderr",
     "output_type": "stream",
     "text": [
      "[Succeeded / Failed / Skipped / Total] 301 / 2 / 112 / 415:  83%|████████████████▌   | 415/500 [07:08<01:27,  1.03s/it]textattack: Saving checkpoint under \"checkpoints\\1720196301512.ta.chkpt\" at 2024-07-06 00:18:21 after 415 attacks.\n"
     ]
    },
    {
     "name": "stdout",
     "output_type": "stream",
     "text": [
      "\n",
      "\n",
      "=============================================================================================================================\n",
      "=============================================================================================================================\n",
      "\n"
     ]
    },
    {
     "name": "stderr",
     "output_type": "stream",
     "text": [
      "[Succeeded / Failed / Skipped / Total] 303 / 3 / 114 / 420:  84%|████████████████▊   | 420/500 [07:18<01:23,  1.04s/it]textattack: Saving checkpoint under \"checkpoints\\1720196311309.ta.chkpt\" at 2024-07-06 00:18:31 after 420 attacks.\n"
     ]
    },
    {
     "name": "stdout",
     "output_type": "stream",
     "text": [
      "\n",
      "\n",
      "=============================================================================================================================\n",
      "=============================================================================================================================\n",
      "\n"
     ]
    },
    {
     "name": "stderr",
     "output_type": "stream",
     "text": [
      "[Succeeded / Failed / Skipped / Total] 308 / 3 / 114 / 425:  85%|█████████████████   | 425/500 [07:23<01:18,  1.04s/it]textattack: Saving checkpoint under \"checkpoints\\1720196316810.ta.chkpt\" at 2024-07-06 00:18:36 after 425 attacks.\n"
     ]
    },
    {
     "name": "stdout",
     "output_type": "stream",
     "text": [
      "\n",
      "\n",
      "=============================================================================================================================\n",
      "=============================================================================================================================\n",
      "\n"
     ]
    },
    {
     "name": "stderr",
     "output_type": "stream",
     "text": [
      "[Succeeded / Failed / Skipped / Total] 313 / 3 / 114 / 430:  86%|█████████████████▏  | 430/500 [07:28<01:12,  1.04s/it]textattack: Saving checkpoint under \"checkpoints\\1720196321654.ta.chkpt\" at 2024-07-06 00:18:41 after 430 attacks.\n",
      "[Succeeded / Failed / Skipped / Total] 313 / 3 / 115 / 431:  86%|█████████████████▏  | 431/500 [07:28<01:11,  1.04s/it]"
     ]
    },
    {
     "name": "stdout",
     "output_type": "stream",
     "text": [
      "\n",
      "\n",
      "=============================================================================================================================\n",
      "=============================================================================================================================\n",
      "\n"
     ]
    },
    {
     "name": "stderr",
     "output_type": "stream",
     "text": [
      "[Succeeded / Failed / Skipped / Total] 317 / 3 / 115 / 435:  87%|█████████████████▍  | 435/500 [07:32<01:07,  1.04s/it]textattack: Saving checkpoint under \"checkpoints\\1720196326114.ta.chkpt\" at 2024-07-06 00:18:46 after 435 attacks.\n"
     ]
    },
    {
     "name": "stdout",
     "output_type": "stream",
     "text": [
      "\n",
      "\n",
      "=============================================================================================================================\n",
      "=============================================================================================================================\n",
      "\n"
     ]
    },
    {
     "name": "stderr",
     "output_type": "stream",
     "text": [
      "[Succeeded / Failed / Skipped / Total] 322 / 3 / 115 / 440:  88%|█████████████████▌  | 440/500 [07:37<01:02,  1.04s/it]textattack: Saving checkpoint under \"checkpoints\\1720196330693.ta.chkpt\" at 2024-07-06 00:18:50 after 440 attacks.\n",
      "[Succeeded / Failed / Skipped / Total] 322 / 3 / 116 / 441:  88%|█████████████████▋  | 441/500 [07:37<01:01,  1.04s/it]"
     ]
    },
    {
     "name": "stdout",
     "output_type": "stream",
     "text": [
      "\n",
      "\n",
      "=============================================================================================================================\n",
      "=============================================================================================================================\n",
      "\n"
     ]
    },
    {
     "name": "stderr",
     "output_type": "stream",
     "text": [
      "[Succeeded / Failed / Skipped / Total] 325 / 3 / 117 / 445:  89%|█████████████████▊  | 445/500 [07:39<00:56,  1.03s/it]textattack: Saving checkpoint under \"checkpoints\\1720196333224.ta.chkpt\" at 2024-07-06 00:18:53 after 445 attacks.\n"
     ]
    },
    {
     "name": "stdout",
     "output_type": "stream",
     "text": [
      "\n",
      "\n",
      "=============================================================================================================================\n",
      "=============================================================================================================================\n",
      "\n"
     ]
    },
    {
     "name": "stderr",
     "output_type": "stream",
     "text": [
      "[Succeeded / Failed / Skipped / Total] 329 / 3 / 118 / 450:  90%|██████████████████  | 450/500 [07:48<00:52,  1.04s/it]textattack: Saving checkpoint under \"checkpoints\\1720196342256.ta.chkpt\" at 2024-07-06 00:19:02 after 450 attacks.\n",
      "[Succeeded / Failed / Skipped / Total] 329 / 3 / 119 / 451:  90%|██████████████████  | 451/500 [07:49<00:50,  1.04s/it]"
     ]
    },
    {
     "name": "stdout",
     "output_type": "stream",
     "text": [
      "\n",
      "\n",
      "=============================================================================================================================\n",
      "=============================================================================================================================\n",
      "\n"
     ]
    },
    {
     "name": "stderr",
     "output_type": "stream",
     "text": [
      "[Succeeded / Failed / Skipped / Total] 332 / 3 / 120 / 455:  91%|██████████████████▏ | 455/500 [07:53<00:46,  1.04s/it]textattack: Saving checkpoint under \"checkpoints\\1720196346381.ta.chkpt\" at 2024-07-06 00:19:06 after 455 attacks.\n"
     ]
    },
    {
     "name": "stdout",
     "output_type": "stream",
     "text": [
      "\n",
      "\n",
      "=============================================================================================================================\n",
      "=============================================================================================================================\n",
      "\n"
     ]
    },
    {
     "name": "stderr",
     "output_type": "stream",
     "text": [
      "[Succeeded / Failed / Skipped / Total] 337 / 3 / 120 / 460:  92%|██████████████████▍ | 460/500 [07:58<00:41,  1.04s/it]textattack: Saving checkpoint under \"checkpoints\\1720196352132.ta.chkpt\" at 2024-07-06 00:19:12 after 460 attacks.\n"
     ]
    },
    {
     "name": "stdout",
     "output_type": "stream",
     "text": [
      "\n",
      "\n",
      "=============================================================================================================================\n",
      "=============================================================================================================================\n",
      "\n"
     ]
    },
    {
     "name": "stderr",
     "output_type": "stream",
     "text": [
      "[Succeeded / Failed / Skipped / Total] 340 / 3 / 122 / 465:  93%|██████████████████▌ | 465/500 [08:01<00:36,  1.04s/it]textattack: Saving checkpoint under \"checkpoints\\1720196355226.ta.chkpt\" at 2024-07-06 00:19:15 after 465 attacks.\n"
     ]
    },
    {
     "name": "stdout",
     "output_type": "stream",
     "text": [
      "\n",
      "\n",
      "=============================================================================================================================\n",
      "=============================================================================================================================\n",
      "\n"
     ]
    },
    {
     "name": "stderr",
     "output_type": "stream",
     "text": [
      "[Succeeded / Failed / Skipped / Total] 344 / 3 / 123 / 470:  94%|██████████████████▊ | 470/500 [08:07<00:31,  1.04s/it]textattack: Saving checkpoint under \"checkpoints\\1720196360773.ta.chkpt\" at 2024-07-06 00:19:20 after 470 attacks.\n",
      "[Succeeded / Failed / Skipped / Total] 344 / 3 / 124 / 471:  94%|██████████████████▊ | 471/500 [08:07<00:30,  1.04s/it]"
     ]
    },
    {
     "name": "stdout",
     "output_type": "stream",
     "text": [
      "\n",
      "\n",
      "=============================================================================================================================\n",
      "=============================================================================================================================\n",
      "\n"
     ]
    },
    {
     "name": "stderr",
     "output_type": "stream",
     "text": [
      "[Succeeded / Failed / Skipped / Total] 348 / 3 / 124 / 475:  95%|███████████████████ | 475/500 [08:15<00:26,  1.04s/it]textattack: Saving checkpoint under \"checkpoints\\1720196368320.ta.chkpt\" at 2024-07-06 00:19:28 after 475 attacks.\n"
     ]
    },
    {
     "name": "stdout",
     "output_type": "stream",
     "text": [
      "\n",
      "\n",
      "=============================================================================================================================\n",
      "=============================================================================================================================\n",
      "\n"
     ]
    },
    {
     "name": "stderr",
     "output_type": "stream",
     "text": [
      "[Succeeded / Failed / Skipped / Total] 353 / 3 / 124 / 480:  96%|███████████████████▏| 480/500 [08:21<00:20,  1.04s/it]textattack: Saving checkpoint under \"checkpoints\\1720196374727.ta.chkpt\" at 2024-07-06 00:19:34 after 480 attacks.\n"
     ]
    },
    {
     "name": "stdout",
     "output_type": "stream",
     "text": [
      "\n",
      "\n",
      "=============================================================================================================================\n",
      "=============================================================================================================================\n",
      "\n"
     ]
    },
    {
     "name": "stderr",
     "output_type": "stream",
     "text": [
      "[Succeeded / Failed / Skipped / Total] 357 / 3 / 125 / 485:  97%|███████████████████▍| 485/500 [08:26<00:15,  1.04s/it]textattack: Saving checkpoint under \"checkpoints\\1720196379524.ta.chkpt\" at 2024-07-06 00:19:39 after 485 attacks.\n"
     ]
    },
    {
     "name": "stdout",
     "output_type": "stream",
     "text": [
      "\n",
      "\n",
      "=============================================================================================================================\n",
      "=============================================================================================================================\n",
      "\n"
     ]
    },
    {
     "name": "stderr",
     "output_type": "stream",
     "text": [
      "[Succeeded / Failed / Skipped / Total] 359 / 3 / 128 / 490:  98%|███████████████████▌| 490/500 [08:30<00:10,  1.04s/it]textattack: Saving checkpoint under \"checkpoints\\1720196383697.ta.chkpt\" at 2024-07-06 00:19:43 after 490 attacks.\n"
     ]
    },
    {
     "name": "stdout",
     "output_type": "stream",
     "text": [
      "\n",
      "\n",
      "=============================================================================================================================\n",
      "=============================================================================================================================\n",
      "\n"
     ]
    },
    {
     "name": "stderr",
     "output_type": "stream",
     "text": [
      "[Succeeded / Failed / Skipped / Total] 363 / 3 / 129 / 495:  99%|███████████████████▊| 495/500 [08:33<00:05,  1.04s/it]textattack: Saving checkpoint under \"checkpoints\\1720196386962.ta.chkpt\" at 2024-07-06 00:19:46 after 495 attacks.\n"
     ]
    },
    {
     "name": "stdout",
     "output_type": "stream",
     "text": [
      "\n",
      "\n",
      "=============================================================================================================================\n",
      "=============================================================================================================================\n",
      "\n"
     ]
    },
    {
     "name": "stderr",
     "output_type": "stream",
     "text": [
      "[Succeeded / Failed / Skipped / Total] 368 / 3 / 129 / 500: 100%|████████████████████| 500/500 [08:40<00:00,  1.04s/it]textattack: Saving checkpoint under \"checkpoints\\1720196393978.ta.chkpt\" at 2024-07-06 00:19:53 after 500 attacks.\n",
      "[Succeeded / Failed / Skipped / Total] 368 / 3 / 129 / 500: 100%|████████████████████| 500/500 [08:40<00:00,  1.04s/it]"
     ]
    },
    {
     "name": "stdout",
     "output_type": "stream",
     "text": [
      "\n",
      "\n",
      "=============================================================================================================================\n",
      "=============================================================================================================================\n",
      "\n",
      "\n",
      "+-------------------------------+--------+\n",
      "| Attack Results                |        |\n",
      "+-------------------------------+--------+\n",
      "| Number of successful attacks: | 368    |\n",
      "| Number of failed attacks:     | 3      |\n",
      "| Number of skipped attacks:    | 129    |\n",
      "| Original accuracy:            | 74.2%  |\n",
      "| Accuracy under attack:        | 0.6%   |\n",
      "| Attack success rate:          | 99.19% |\n",
      "| Average perturbed word %:     | 15.01% |\n",
      "| Average num. words per input: | 18.4   |\n",
      "| Avg num queries:              | 51.53  |\n",
      "+-------------------------------+--------+\n"
     ]
    },
    {
     "name": "stderr",
     "output_type": "stream",
     "text": [
      "\n"
     ]
    }
   ],
   "source": [
    "runAttack(clip_model_wrapper_svc_mr, n_samples, 'attack_results_new/clipmrattacksvc'+suffix, target_ds_mr)"
   ]
  }
 ],
 "metadata": {
  "kernelspec": {
   "display_name": "Python 3 (ipykernel)",
   "language": "python",
   "name": "python3"
  },
  "language_info": {
   "codemirror_mode": {
    "name": "ipython",
    "version": 3
   },
   "file_extension": ".py",
   "mimetype": "text/x-python",
   "name": "python",
   "nbconvert_exporter": "python",
   "pygments_lexer": "ipython3",
   "version": "3.10.13"
  }
 },
 "nbformat": 4,
 "nbformat_minor": 5
}
