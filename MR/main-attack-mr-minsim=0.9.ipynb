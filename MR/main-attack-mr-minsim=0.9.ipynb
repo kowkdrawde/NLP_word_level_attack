{
 "cells": [
  {
   "cell_type": "code",
   "execution_count": 1,
   "id": "b8fb6a0b-f6d4-4649-ae5c-6bccc44bea08",
   "metadata": {
    "scrolled": true
   },
   "outputs": [],
   "source": [
    "#!pip install textattack[tensorflow,optional]\n",
    "#!pip install -U datasets"
   ]
  },
  {
   "cell_type": "code",
   "execution_count": 2,
   "id": "a6a32e48-d2fa-4420-8c45-3f9fe99d0526",
   "metadata": {},
   "outputs": [
    {
     "name": "stderr",
     "output_type": "stream",
     "text": [
      "D:\\anaconda3\\envs\\tf\\lib\\site-packages\\torchvision\\io\\image.py:13: UserWarning: Failed to load image Python extension: '[WinError 127] 找不到指定的程序。'If you don't plan on using image functionality from `torchvision.io`, you can ignore this warning. Otherwise, there might be something wrong with your environment. Did you have `libjpeg` or `libpng` installed before building `torchvision` from source?\n",
      "  warn(\n",
      "D:\\anaconda3\\envs\\tf\\lib\\site-packages\\tqdm\\auto.py:21: TqdmWarning: IProgress not found. Please update jupyter and ipywidgets. See https://ipywidgets.readthedocs.io/en/stable/user_install.html\n",
      "  from .autonotebook import tqdm as notebook_tqdm\n",
      "D:\\anaconda3\\envs\\tf\\lib\\site-packages\\transformers\\utils\\generic.py:260: UserWarning: torch.utils._pytree._register_pytree_node is deprecated. Please use torch.utils._pytree.register_pytree_node instead.\n",
      "  torch.utils._pytree._register_pytree_node(\n",
      "D:\\anaconda3\\envs\\tf\\lib\\site-packages\\transformers\\utils\\generic.py:260: UserWarning: torch.utils._pytree._register_pytree_node is deprecated. Please use torch.utils._pytree.register_pytree_node instead.\n",
      "  torch.utils._pytree._register_pytree_node(\n"
     ]
    }
   ],
   "source": [
    "import os\n",
    "import datetime\n",
    "\n",
    "import numpy as np\n",
    "import pandas as pd\n",
    "\n",
    "import torch\n",
    "import torch.nn as nn\n",
    "from torch.utils.data import DataLoader, Dataset\n",
    "import torchvision\n",
    "import tensorflow as tf\n",
    "import transformers\n",
    "from transformers import CLIPProcessor, CLIPModel\n",
    "\n",
    "import textattack\n",
    "from textattack.models.wrappers import HuggingFaceModelWrapper\n",
    "\n",
    "from sklearn.linear_model import LogisticRegression\n",
    "from sklearn.ensemble import RandomForestClassifier\n",
    "from sklearn.neighbors import KNeighborsClassifier\n",
    "from sklearn.svm import SVC\n"
   ]
  },
  {
   "cell_type": "code",
   "execution_count": 3,
   "id": "9757d84d-991f-41e0-987c-13829acd0d2d",
   "metadata": {},
   "outputs": [],
   "source": [
    "from textattack import Attack\n",
    "from textattack.constraints.grammaticality import PartOfSpeech\n",
    "from textattack.constraints.pre_transformation import (\n",
    "    InputColumnModification,\n",
    "    RepeatModification,\n",
    "    StopwordModification,\n",
    ")\n",
    "from textattack.constraints.semantics import WordEmbeddingDistance\n",
    "from textattack.constraints.semantics.sentence_encoders import UniversalSentenceEncoder\n",
    "from textattack.goal_functions import UntargetedClassification\n",
    "from textattack.search_methods import GreedyWordSwapWIR\n",
    "from textattack.transformations import WordSwapEmbedding, WordSwapWordNet \n",
    "\n",
    "from textattack.transformations.composite_transformation import CompositeTransformation\n",
    "\n",
    "from textattack.attack_recipes.attack_recipe import AttackRecipe\n",
    "\n",
    "class TFLepsilon(AttackRecipe):\n",
    "\n",
    "    @staticmethod\n",
    "    def build(model_wrapper):\n",
    "        #\n",
    "        # Swap words with their 50 closest embedding nearest-neighbors.\n",
    "        # Embedding: Counter-fitted PARAGRAM-SL999 vectors.\n",
    "        \n",
    "        ## transformation = CompositeTransformation([WordSwapWordNet(), WordSwapEmbedding(max_candidates=50)])\n",
    "        transformation = WordSwapEmbedding(max_candidates=50)\n",
    "        #\n",
    "        # Don't modify the same word twice or the stopwords defined\n",
    "        # in the TextFooler public implementation.\n",
    "        #\n",
    "        # fmt: off\n",
    "        stopwords = set(\n",
    "            [\"a\", \"about\", \"above\", \"across\", \"after\", \"afterwards\", \"again\", \"against\", \"ain\", \"all\", \n",
    "             \"almost\", \"alone\", \"along\", \"already\", \"also\", \"although\", \"am\", \"among\", \"amongst\", \"an\", \n",
    "             \"and\", \"another\", \"any\", \"anyhow\", \"anyone\", \"anything\", \"anyway\", \"anywhere\", \"are\", \"aren\",\n",
    "             \"aren't\", \"around\", \"as\", \"at\", \"back\", \"been\", \"before\", \"beforehand\", \"behind\", \"being\", \n",
    "             \"below\", \"beside\", \"besides\", \"between\", \"beyond\", \"both\", \"but\", \"by\", \"can\", \"cannot\", \n",
    "             \"could\", \"couldn\", \"couldn't\", \"d\", \"didn\", \"didn't\", \"doesn\", \"doesn't\", \"don\", \"don't\", \n",
    "             \"down\", \"due\", \"during\", \"either\", \"else\", \"elsewhere\", \"empty\", \"enough\", \"even\", \"ever\", \n",
    "             \"everyone\", \"everything\", \"everywhere\", \"except\", \"first\", \"for\", \"former\", \"formerly\",\n",
    "             \"from\", \"hadn\", \"hadn't\", \"hasn\", \"hasn't\", \"haven\", \"haven't\", \"he\", \"hence\", \"her\", \"here\", \n",
    "             \"hereafter\", \"hereby\", \"herein\", \"hereupon\", \"hers\", \"herself\", \"him\", \"himself\", \"his\", \"how\", \n",
    "             \"however\", \"hundred\", \"i\", \"if\", \"in\", \"indeed\", \"into\", \"is\", \"isn\", \"isn't\", \"it\", \"it's\", \n",
    "             \"its\", \"itself\", \"just\", \"latter\", \"latterly\", \"least\", \"ll\", \"may\", \"me\", \"meanwhile\", \n",
    "             \"mightn\", \"mightn't\", \"mine\", \"more\", \"moreover\", \"most\", \"mostly\", \"must\", \"mustn\", \"mustn't\", \n",
    "             \"my\", \"myself\", \"namely\", \"needn\", \"needn't\", \"neither\", \"never\", \"nevertheless\", \"next\", \"no\",\n",
    "             \"nobody\", \"none\", \"noone\", \"nor\", \"not\", \"nothing\", \"now\", \"nowhere\", \"o\", \"of\", \"off\", \"on\",\n",
    "             \"once\", \"one\", \"only\", \"onto\", \"or\", \"other\", \"others\", \"otherwise\", \"our\", \"ours\", \"ourselves\", \n",
    "             \"out\", \"over\", \"per\", \"please\", \"s\", \"same\", \"shan\", \"shan't\", \"she\", \"she's\", \"should've\", \n",
    "             \"shouldn\", \"shouldn't\", \"somehow\", \"something\", \"sometime\", \"somewhere\", \"such\", \"t\", \"than\", \n",
    "             \"that\", \"that'll\", \"the\", \"their\", \"theirs\", \"them\", \"themselves\", \"then\", \"thence\", \"there\", \n",
    "             \"thereafter\", \"thereby\", \"therefore\", \"therein\", \"thereupon\", \"these\", \"they\", \"this\", \"those\",\n",
    "             \"through\", \"throughout\", \"thru\", \"thus\", \"to\", \"too\", \"toward\", \"towards\", \"under\", \"unless\",\n",
    "             \"until\", \"up\", \"upon\", \"used\", \"ve\", \"was\", \"wasn\", \"wasn't\", \"we\", \"were\", \"weren\", \"weren't\",\n",
    "             \"what\", \"whatever\", \"when\", \"whence\", \"whenever\", \"where\", \"whereafter\", \"whereas\", \"whereby\", \n",
    "             \"wherein\", \"whereupon\", \"wherever\", \"whether\", \"which\", \"while\", \"whither\", \"who\", \"whoever\", \n",
    "             \"whole\", \"whom\", \"whose\", \"why\", \"with\", \"within\", \"without\", \"won\", \"won't\", \"would\", \"wouldn\",\n",
    "             \"wouldn't\", \"y\", \"yet\", \"you\", \"you'd\", \"you'll\", \"you're\", \"you've\", \"your\", \"yours\", \"yourself\",\n",
    "             \"yourselves\"]\n",
    "        )\n",
    "        # fmt: on\n",
    "        constraints = [RepeatModification(), StopwordModification(stopwords=stopwords)]\n",
    "        #\n",
    "        # During entailment, we should only edit the hypothesis - keep the premise\n",
    "        # the same.\n",
    "        #\n",
    "        input_column_modification = InputColumnModification(\n",
    "            [\"premise\", \"hypothesis\"], {\"premise\"}\n",
    "        )\n",
    "        constraints.append(input_column_modification)\n",
    "        # Minimum word embedding cosine similarity of 0.5.\n",
    "        # (The paper claims 0.7, but analysis of the released code and some empirical\n",
    "        # results show that it's 0.5.)\n",
    "        #\n",
    "        constraints.append(WordEmbeddingDistance(min_cos_sim=0.9))\n",
    "        #\n",
    "        # Only replace words with the same part of speech (or nouns with verbs)\n",
    "        #\n",
    "        constraints.append(PartOfSpeech(allow_verb_noun_swap=True))\n",
    "        #\n",
    "        # Universal Sentence Encoder with a minimum angular similarity of ε = 0.5.\n",
    "        #\n",
    "        # In the TextFooler code, they forget to divide the angle between the two\n",
    "        # embeddings by pi. So if the original threshold was that 1 - sim >= 0.5, the\n",
    "        # new threshold is 1 - (0.5) / pi = 0.840845057\n",
    "        #\n",
    "        use_constraint = UniversalSentenceEncoder(\n",
    "            threshold = 0.840845057,\n",
    "            metric=\"angular\",\n",
    "            compare_against_original=False,\n",
    "            window_size=15,\n",
    "            skip_text_shorter_than_window=True,\n",
    "        )\n",
    "        constraints.append(use_constraint)\n",
    "        #\n",
    "        # Goal is untargeted classification\n",
    "        #\n",
    "        goal_function = UntargetedClassification(model_wrapper)\n",
    "        #\n",
    "        # Greedily swap words with \"Word Importance Ranking\".\n",
    "        #\n",
    "        search_method = GreedyWordSwapWIR(wir_method=\"delete\")\n",
    "\n",
    "        return Attack(goal_function, constraints, transformation, search_method)\n"
   ]
  },
  {
   "cell_type": "code",
   "execution_count": 4,
   "id": "bc8fc32a-2438-4054-9cf8-ff005ec06dab",
   "metadata": {},
   "outputs": [],
   "source": [
    "def runAttack(model_wrapper, n, path, target_ds):\n",
    "    # used TFLepsilon\n",
    "    attack = TFLepsilon.build(model_wrapper)\n",
    "    attack_args = textattack.AttackArgs(num_examples=n, log_to_csv=path, shuffle=True, #parallel=True,\n",
    "                                        checkpoint_interval=5, checkpoint_dir='checkpoints', \n",
    "                                        disable_stdout=True)\n",
    "    attacker = textattack.Attacker(attack, target_ds, attack_args)\n",
    "    attacker.attack_dataset()"
   ]
  },
  {
   "cell_type": "code",
   "execution_count": 5,
   "id": "76181ead-393f-4d43-9067-0f25ca726eb7",
   "metadata": {},
   "outputs": [],
   "source": [
    "# classifiers\n",
    "def adaptation(train_set, test_set):\n",
    "    lr = LogisticRegression(solver='saga', multi_class='multinomial')\n",
    "    rf = RandomForestClassifier(max_depth=7)\n",
    "    knn = KNeighborsClassifier(n_neighbors=7)\n",
    "    svc = SVC(kernel='linear', probability=True)\n",
    "    \n",
    "    trainX = train_set.iloc[:,:-1]\n",
    "    trainY = train_set.iloc[:,-1]\n",
    "    testX = test_set.iloc[:,:-1]\n",
    "    testY = test_set.iloc[:,-1]\n",
    "    \n",
    "    for key, clf in {'Log Reg':lr, 'RF':rf, 'KNN':knn, 'SVC':svc}.items():\n",
    "        clf.fit(trainX, trainY) # fit train data\n",
    "        pred = clf.predict(testX) # predict test set\n",
    "\n",
    "        # print accuracy\n",
    "        print(key, (pred==np.array(testY)).sum()/len(pred))\n",
    "\n",
    "    return lr, rf, knn, svc"
   ]
  },
  {
   "cell_type": "code",
   "execution_count": 6,
   "id": "ddf441b8-c100-416a-a704-b16437e62ed5",
   "metadata": {},
   "outputs": [
    {
     "name": "stderr",
     "output_type": "stream",
     "text": [
      "textattack: Loading \u001b[94mdatasets\u001b[0m dataset \u001b[94mrotten_tomatoes\u001b[0m, split \u001b[94mtest\u001b[0m.\n"
     ]
    }
   ],
   "source": [
    "target_ds_mr = textattack.datasets.HuggingFaceDataset('rotten_tomatoes', split='test')"
   ]
  },
  {
   "cell_type": "code",
   "execution_count": 7,
   "id": "e5324e79-2fe0-478f-9ebe-5c7b649258d1",
   "metadata": {},
   "outputs": [],
   "source": [
    "suffix = 'sim09.csv'\n",
    "n_samples = 500"
   ]
  },
  {
   "cell_type": "markdown",
   "id": "0e13b205-9c12-4f2e-9bcb-b7a26f7a0f7f",
   "metadata": {},
   "source": [
    "### BERT-based-uncased"
   ]
  },
  {
   "cell_type": "code",
   "execution_count": 8,
   "id": "ece98501-61d1-44c5-946e-b4b41e046d6e",
   "metadata": {},
   "outputs": [
    {
     "name": "stderr",
     "output_type": "stream",
     "text": [
      "D:\\anaconda3\\envs\\tf\\lib\\site-packages\\huggingface_hub\\file_download.py:1132: FutureWarning: `resume_download` is deprecated and will be removed in version 1.0.0. Downloads always resume when possible. If you want to force a new download, use `force_download=True`.\n",
      "  warnings.warn(\n",
      "D:\\anaconda3\\envs\\tf\\lib\\site-packages\\transformers\\utils\\generic.py:260: UserWarning: torch.utils._pytree._register_pytree_node is deprecated. Please use torch.utils._pytree.register_pytree_node instead.\n",
      "  torch.utils._pytree._register_pytree_node(\n"
     ]
    }
   ],
   "source": [
    "# bert-based-uncased\n",
    "model_path1 = 'bert-base-uncased'\n",
    "\n",
    "bert_model = transformers.AutoModel.from_pretrained(model_path1)\n",
    "bert_tokenizer = transformers.AutoTokenizer.from_pretrained(model_path1)"
   ]
  },
  {
   "cell_type": "code",
   "execution_count": 9,
   "id": "f0180798-ce40-4a40-b8fb-b3b681aa14e2",
   "metadata": {},
   "outputs": [
    {
     "name": "stderr",
     "output_type": "stream",
     "text": [
      "D:\\anaconda3\\envs\\tf\\lib\\site-packages\\sklearn\\linear_model\\_sag.py:350: ConvergenceWarning: The max_iter was reached which means the coef_ did not converge\n",
      "  warnings.warn(\n"
     ]
    },
    {
     "name": "stdout",
     "output_type": "stream",
     "text": [
      "Log Reg 0.8105065666041276\n",
      "RF 0.7317073170731707\n",
      "KNN 0.6801125703564728\n",
      "SVC 0.8030018761726079\n"
     ]
    }
   ],
   "source": [
    "bertmrtrain = pd.read_csv('dataset_embeddings/bertmrtrain.txt', header=None)\n",
    "bertmrtest = pd.read_csv('dataset_embeddings/bertmrtest.txt', header=None)\n",
    "lr_bert_mr, rf_bert_mr, knn_bert_mr, svc_bert_mr = adaptation(bertmrtrain, bertmrtest)"
   ]
  },
  {
   "cell_type": "code",
   "execution_count": 10,
   "id": "488edfed-58de-472a-9afa-7dff844a3e85",
   "metadata": {},
   "outputs": [],
   "source": [
    "# custom model wrapper for CLIP\n",
    "class BERTModelWrapper(HuggingFaceModelWrapper):\n",
    "    def __init__(self, processor, text_encoder, classifier):\n",
    "        self.processor = processor\n",
    "        self.model = text_encoder\n",
    "        self.classifier = classifier\n",
    "\n",
    "    def __call__(self, text_input_list):\n",
    "        inputs = self.processor(text_input_list, return_tensors='pt', padding=True, truncation=True)\n",
    "        outputs = self.model(**inputs).pooler_output\n",
    "        with torch.no_grad():\n",
    "            preds = self.classifier.predict_proba(outputs)\n",
    "        return preds"
   ]
  },
  {
   "cell_type": "code",
   "execution_count": 11,
   "id": "4a2ce5ae-2225-4f66-a33c-b2ea0665cc4d",
   "metadata": {},
   "outputs": [],
   "source": [
    "bert_model_wrapper_lr_mr = BERTModelWrapper(bert_tokenizer, bert_model, lr_bert_mr)\n",
    "bert_model_wrapper_rf_mr = BERTModelWrapper(bert_tokenizer, bert_model, rf_bert_mr)\n",
    "bert_model_wrapper_knn_mr = BERTModelWrapper(bert_tokenizer, bert_model, knn_bert_mr)\n",
    "bert_model_wrapper_svc_mr = BERTModelWrapper(bert_tokenizer, bert_model, svc_bert_mr)"
   ]
  },
  {
   "cell_type": "code",
   "execution_count": 12,
   "id": "792065e0-20be-4083-a1dc-fb79b1c832b9",
   "metadata": {
    "scrolled": true
   },
   "outputs": [
    {
     "name": "stderr",
     "output_type": "stream",
     "text": [
      "textattack: Unknown if model of class <class 'transformers.models.bert.modeling_bert.BertModel'> compatible with goal function <class 'textattack.goal_functions.classification.untargeted_classification.UntargetedClassification'>.\n",
      "textattack: Logging to CSV at path attack_results_new/bertmrattacklrsim09.csv\n"
     ]
    },
    {
     "name": "stdout",
     "output_type": "stream",
     "text": [
      "Attack(\n",
      "  (search_method): GreedyWordSwapWIR(\n",
      "    (wir_method):  delete\n",
      "  )\n",
      "  (goal_function):  UntargetedClassification\n",
      "  (transformation):  WordSwapEmbedding(\n",
      "    (max_candidates):  50\n",
      "    (embedding):  WordEmbedding\n",
      "  )\n",
      "  (constraints): \n",
      "    (0): WordEmbeddingDistance(\n",
      "        (embedding):  WordEmbedding\n",
      "        (min_cos_sim):  0.9\n",
      "        (cased):  False\n",
      "        (include_unknown_words):  True\n",
      "        (compare_against_original):  True\n",
      "      )\n",
      "    (1): PartOfSpeech(\n",
      "        (tagger_type):  nltk\n",
      "        (tagset):  universal\n",
      "        (allow_verb_noun_swap):  True\n",
      "        (compare_against_original):  True\n",
      "      )\n",
      "    (2): UniversalSentenceEncoder(\n",
      "        (metric):  angular\n",
      "        (threshold):  0.840845057\n",
      "        (window_size):  15\n",
      "        (skip_text_shorter_than_window):  True\n",
      "        (compare_against_original):  False\n",
      "      )\n",
      "    (3): RepeatModification\n",
      "    (4): StopwordModification\n",
      "    (5): InputColumnModification(\n",
      "        (matching_column_labels):  ['premise', 'hypothesis']\n",
      "        (columns_to_ignore):  {'premise'}\n",
      "      )\n",
      "  (is_black_box):  True\n",
      ") \n",
      "\n"
     ]
    },
    {
     "name": "stderr",
     "output_type": "stream",
     "text": [
      "[Succeeded / Failed / Skipped / Total] 0 / 4 / 1 / 5:   1%|▎                           | 5/500 [00:24<41:09,  4.99s/it]textattack: Saving checkpoint under \"checkpoints\\1720258035893.ta.chkpt\" at 2024-07-06 17:27:15 after 5 attacks.\n"
     ]
    },
    {
     "name": "stdout",
     "output_type": "stream",
     "text": [
      "\n",
      "\n",
      "=============================================================================================================================\n",
      "=============================================================================================================================\n",
      "\n"
     ]
    },
    {
     "name": "stderr",
     "output_type": "stream",
     "text": [
      "[Succeeded / Failed / Skipped / Total] 1 / 5 / 4 / 10:   2%|▌                         | 10/500 [00:29<23:47,  2.91s/it]textattack: Saving checkpoint under \"checkpoints\\1720258040082.ta.chkpt\" at 2024-07-06 17:27:20 after 10 attacks.\n"
     ]
    },
    {
     "name": "stdout",
     "output_type": "stream",
     "text": [
      "\n",
      "\n",
      "=============================================================================================================================\n",
      "=============================================================================================================================\n",
      "\n"
     ]
    },
    {
     "name": "stderr",
     "output_type": "stream",
     "text": [
      "[Succeeded / Failed / Skipped / Total] 1 / 10 / 4 / 15:   3%|▊                        | 15/500 [00:36<19:43,  2.44s/it]textattack: Saving checkpoint under \"checkpoints\\1720258047564.ta.chkpt\" at 2024-07-06 17:27:27 after 15 attacks.\n"
     ]
    },
    {
     "name": "stdout",
     "output_type": "stream",
     "text": [
      "\n",
      "\n",
      "=============================================================================================================================\n",
      "=============================================================================================================================\n",
      "\n"
     ]
    },
    {
     "name": "stderr",
     "output_type": "stream",
     "text": [
      "[Succeeded / Failed / Skipped / Total] 2 / 13 / 5 / 20:   4%|█                        | 20/500 [00:40<16:06,  2.01s/it]textattack: Saving checkpoint under \"checkpoints\\1720258051220.ta.chkpt\" at 2024-07-06 17:27:31 after 20 attacks.\n"
     ]
    },
    {
     "name": "stdout",
     "output_type": "stream",
     "text": [
      "\n",
      "\n",
      "=============================================================================================================================\n",
      "=============================================================================================================================\n",
      "\n"
     ]
    },
    {
     "name": "stderr",
     "output_type": "stream",
     "text": [
      "[Succeeded / Failed / Skipped / Total] 3 / 15 / 7 / 25:   5%|█▎                       | 25/500 [00:45<14:18,  1.81s/it]textattack: Saving checkpoint under \"checkpoints\\1720258056139.ta.chkpt\" at 2024-07-06 17:27:36 after 25 attacks.\n"
     ]
    },
    {
     "name": "stdout",
     "output_type": "stream",
     "text": [
      "\n",
      "\n",
      "=============================================================================================================================\n",
      "=============================================================================================================================\n",
      "\n"
     ]
    },
    {
     "name": "stderr",
     "output_type": "stream",
     "text": [
      "[Succeeded / Failed / Skipped / Total] 3 / 20 / 7 / 30:   6%|█▌                       | 30/500 [00:49<13:00,  1.66s/it]textattack: Saving checkpoint under \"checkpoints\\1720258060777.ta.chkpt\" at 2024-07-06 17:27:40 after 30 attacks.\n"
     ]
    },
    {
     "name": "stdout",
     "output_type": "stream",
     "text": [
      "\n",
      "\n",
      "=============================================================================================================================\n",
      "=============================================================================================================================\n",
      "\n"
     ]
    },
    {
     "name": "stderr",
     "output_type": "stream",
     "text": [
      "[Succeeded / Failed / Skipped / Total] 4 / 23 / 8 / 35:   7%|█▊                       | 35/500 [00:53<11:51,  1.53s/it]textattack: Saving checkpoint under \"checkpoints\\1720258064522.ta.chkpt\" at 2024-07-06 17:27:44 after 35 attacks.\n"
     ]
    },
    {
     "name": "stdout",
     "output_type": "stream",
     "text": [
      "\n",
      "\n",
      "=============================================================================================================================\n",
      "=============================================================================================================================\n",
      "\n"
     ]
    },
    {
     "name": "stderr",
     "output_type": "stream",
     "text": [
      "[Succeeded / Failed / Skipped / Total] 4 / 25 / 11 / 40:   8%|█▉                      | 40/500 [00:57<10:57,  1.43s/it]textattack: Saving checkpoint under \"checkpoints\\1720258068113.ta.chkpt\" at 2024-07-06 17:27:48 after 40 attacks.\n"
     ]
    },
    {
     "name": "stdout",
     "output_type": "stream",
     "text": [
      "\n",
      "\n",
      "=============================================================================================================================\n",
      "=============================================================================================================================\n",
      "\n"
     ]
    },
    {
     "name": "stderr",
     "output_type": "stream",
     "text": [
      "[Succeeded / Failed / Skipped / Total] 5 / 28 / 12 / 45:   9%|██▏                     | 45/500 [01:03<10:46,  1.42s/it]textattack: Saving checkpoint under \"checkpoints\\1720258074917.ta.chkpt\" at 2024-07-06 17:27:54 after 45 attacks.\n"
     ]
    },
    {
     "name": "stdout",
     "output_type": "stream",
     "text": [
      "\n",
      "\n",
      "=============================================================================================================================\n",
      "=============================================================================================================================\n",
      "\n"
     ]
    },
    {
     "name": "stderr",
     "output_type": "stream",
     "text": [
      "[Succeeded / Failed / Skipped / Total] 6 / 32 / 12 / 50:  10%|██▍                     | 50/500 [01:11<10:41,  1.42s/it]textattack: Saving checkpoint under \"checkpoints\\1720258082187.ta.chkpt\" at 2024-07-06 17:28:02 after 50 attacks.\n"
     ]
    },
    {
     "name": "stdout",
     "output_type": "stream",
     "text": [
      "\n",
      "\n",
      "=============================================================================================================================\n",
      "=============================================================================================================================\n",
      "\n"
     ]
    },
    {
     "name": "stderr",
     "output_type": "stream",
     "text": [
      "[Succeeded / Failed / Skipped / Total] 9 / 34 / 12 / 55:  11%|██▋                     | 55/500 [01:19<10:40,  1.44s/it]textattack: Saving checkpoint under \"checkpoints\\1720258090061.ta.chkpt\" at 2024-07-06 17:28:10 after 55 attacks.\n"
     ]
    },
    {
     "name": "stdout",
     "output_type": "stream",
     "text": [
      "\n",
      "\n",
      "=============================================================================================================================\n",
      "=============================================================================================================================\n",
      "\n"
     ]
    },
    {
     "name": "stderr",
     "output_type": "stream",
     "text": [
      "[Succeeded / Failed / Skipped / Total] 10 / 37 / 13 / 60:  12%|██▊                    | 60/500 [01:23<10:13,  1.39s/it]textattack: Saving checkpoint under \"checkpoints\\1720258094581.ta.chkpt\" at 2024-07-06 17:28:14 after 60 attacks.\n",
      "[Succeeded / Failed / Skipped / Total] 10 / 37 / 14 / 61:  12%|██▊                    | 61/500 [01:23<10:02,  1.37s/it]"
     ]
    },
    {
     "name": "stdout",
     "output_type": "stream",
     "text": [
      "\n",
      "\n",
      "=============================================================================================================================\n",
      "=============================================================================================================================\n",
      "\n"
     ]
    },
    {
     "name": "stderr",
     "output_type": "stream",
     "text": [
      "[Succeeded / Failed / Skipped / Total] 11 / 40 / 14 / 65:  13%|██▉                    | 65/500 [01:27<09:43,  1.34s/it]textattack: Saving checkpoint under \"checkpoints\\1720258098113.ta.chkpt\" at 2024-07-06 17:28:18 after 65 attacks.\n"
     ]
    },
    {
     "name": "stdout",
     "output_type": "stream",
     "text": [
      "\n",
      "\n",
      "=============================================================================================================================\n",
      "=============================================================================================================================\n",
      "\n"
     ]
    },
    {
     "name": "stderr",
     "output_type": "stream",
     "text": [
      "[Succeeded / Failed / Skipped / Total] 11 / 44 / 15 / 70:  14%|███▏                   | 70/500 [01:31<09:24,  1.31s/it]textattack: Saving checkpoint under \"checkpoints\\1720258102863.ta.chkpt\" at 2024-07-06 17:28:22 after 70 attacks.\n"
     ]
    },
    {
     "name": "stdout",
     "output_type": "stream",
     "text": [
      "\n",
      "\n",
      "=============================================================================================================================\n",
      "=============================================================================================================================\n",
      "\n"
     ]
    },
    {
     "name": "stderr",
     "output_type": "stream",
     "text": [
      "[Succeeded / Failed / Skipped / Total] 14 / 45 / 16 / 75:  15%|███▍                   | 75/500 [01:34<08:56,  1.26s/it]textattack: Saving checkpoint under \"checkpoints\\1720258105684.ta.chkpt\" at 2024-07-06 17:28:25 after 75 attacks.\n",
      "[Succeeded / Failed / Skipped / Total] 14 / 45 / 17 / 76:  15%|███▍                   | 76/500 [01:34<08:49,  1.25s/it]"
     ]
    },
    {
     "name": "stdout",
     "output_type": "stream",
     "text": [
      "\n",
      "\n",
      "=============================================================================================================================\n",
      "=============================================================================================================================\n",
      "\n"
     ]
    },
    {
     "name": "stderr",
     "output_type": "stream",
     "text": [
      "[Succeeded / Failed / Skipped / Total] 14 / 48 / 18 / 80:  16%|███▋                   | 80/500 [01:39<08:41,  1.24s/it]textattack: Saving checkpoint under \"checkpoints\\1720258110217.ta.chkpt\" at 2024-07-06 17:28:30 after 80 attacks.\n"
     ]
    },
    {
     "name": "stdout",
     "output_type": "stream",
     "text": [
      "\n",
      "\n",
      "=============================================================================================================================\n",
      "=============================================================================================================================\n",
      "\n"
     ]
    },
    {
     "name": "stderr",
     "output_type": "stream",
     "text": [
      "[Succeeded / Failed / Skipped / Total] 16 / 49 / 20 / 85:  17%|███▉                   | 85/500 [01:41<08:16,  1.20s/it]textattack: Saving checkpoint under \"checkpoints\\1720258112678.ta.chkpt\" at 2024-07-06 17:28:32 after 85 attacks.\n"
     ]
    },
    {
     "name": "stdout",
     "output_type": "stream",
     "text": [
      "\n",
      "\n",
      "=============================================================================================================================\n",
      "=============================================================================================================================\n",
      "\n"
     ]
    },
    {
     "name": "stderr",
     "output_type": "stream",
     "text": [
      "[Succeeded / Failed / Skipped / Total] 18 / 52 / 20 / 90:  18%|████▏                  | 90/500 [01:49<08:20,  1.22s/it]textattack: Saving checkpoint under \"checkpoints\\1720258120908.ta.chkpt\" at 2024-07-06 17:28:40 after 90 attacks.\n",
      "[Succeeded / Failed / Skipped / Total] 18 / 52 / 21 / 91:  18%|████▏                  | 91/500 [01:50<08:14,  1.21s/it]"
     ]
    },
    {
     "name": "stdout",
     "output_type": "stream",
     "text": [
      "\n",
      "\n",
      "=============================================================================================================================\n",
      "=============================================================================================================================\n",
      "\n"
     ]
    },
    {
     "name": "stderr",
     "output_type": "stream",
     "text": [
      "[Succeeded / Failed / Skipped / Total] 20 / 53 / 22 / 95:  19%|████▎                  | 95/500 [01:54<08:06,  1.20s/it]textattack: Saving checkpoint under \"checkpoints\\1720258125076.ta.chkpt\" at 2024-07-06 17:28:45 after 95 attacks.\n"
     ]
    },
    {
     "name": "stdout",
     "output_type": "stream",
     "text": [
      "\n",
      "\n",
      "=============================================================================================================================\n",
      "=============================================================================================================================\n",
      "\n"
     ]
    },
    {
     "name": "stderr",
     "output_type": "stream",
     "text": [
      "[Succeeded / Failed / Skipped / Total] 20 / 58 / 22 / 100:  20%|████▏                | 100/500 [01:59<07:56,  1.19s/it]textattack: Saving checkpoint under \"checkpoints\\1720258130109.ta.chkpt\" at 2024-07-06 17:28:50 after 100 attacks.\n",
      "[Succeeded / Failed / Skipped / Total] 20 / 58 / 23 / 101:  20%|████▏                | 101/500 [01:59<07:51,  1.18s/it]"
     ]
    },
    {
     "name": "stdout",
     "output_type": "stream",
     "text": [
      "\n",
      "\n",
      "=============================================================================================================================\n",
      "=============================================================================================================================\n",
      "\n"
     ]
    },
    {
     "name": "stderr",
     "output_type": "stream",
     "text": [
      "[Succeeded / Failed / Skipped / Total] 20 / 62 / 23 / 105:  21%|████▍                | 105/500 [02:09<08:07,  1.23s/it]textattack: Saving checkpoint under \"checkpoints\\1720258140602.ta.chkpt\" at 2024-07-06 17:29:00 after 105 attacks.\n",
      "[Succeeded / Failed / Skipped / Total] 20 / 62 / 24 / 106:  21%|████▍                | 106/500 [02:09<08:02,  1.22s/it]"
     ]
    },
    {
     "name": "stdout",
     "output_type": "stream",
     "text": [
      "\n",
      "\n",
      "=============================================================================================================================\n",
      "=============================================================================================================================\n",
      "\n"
     ]
    },
    {
     "name": "stderr",
     "output_type": "stream",
     "text": [
      "[Succeeded / Failed / Skipped / Total] 21 / 64 / 25 / 110:  22%|████▌                | 110/500 [02:14<07:56,  1.22s/it]textattack: Saving checkpoint under \"checkpoints\\1720258145428.ta.chkpt\" at 2024-07-06 17:29:05 after 110 attacks.\n",
      "[Succeeded / Failed / Skipped / Total] 21 / 64 / 26 / 111:  22%|████▋                | 111/500 [02:14<07:51,  1.21s/it]"
     ]
    },
    {
     "name": "stdout",
     "output_type": "stream",
     "text": [
      "\n",
      "\n",
      "=============================================================================================================================\n",
      "=============================================================================================================================\n",
      "\n"
     ]
    },
    {
     "name": "stderr",
     "output_type": "stream",
     "text": [
      "[Succeeded / Failed / Skipped / Total] 22 / 67 / 26 / 115:  23%|████▊                | 115/500 [02:21<07:54,  1.23s/it]textattack: Saving checkpoint under \"checkpoints\\1720258152663.ta.chkpt\" at 2024-07-06 17:29:12 after 115 attacks.\n"
     ]
    },
    {
     "name": "stdout",
     "output_type": "stream",
     "text": [
      "\n",
      "\n",
      "=============================================================================================================================\n",
      "=============================================================================================================================\n",
      "\n"
     ]
    },
    {
     "name": "stderr",
     "output_type": "stream",
     "text": [
      "[Succeeded / Failed / Skipped / Total] 23 / 69 / 28 / 120:  24%|█████                | 120/500 [02:24<07:36,  1.20s/it]textattack: Saving checkpoint under \"checkpoints\\1720258155004.ta.chkpt\" at 2024-07-06 17:29:15 after 120 attacks.\n"
     ]
    },
    {
     "name": "stdout",
     "output_type": "stream",
     "text": [
      "\n",
      "\n",
      "=============================================================================================================================\n",
      "=============================================================================================================================\n",
      "\n"
     ]
    },
    {
     "name": "stderr",
     "output_type": "stream",
     "text": [
      "[Succeeded / Failed / Skipped / Total] 25 / 72 / 28 / 125:  25%|█████▎               | 125/500 [02:30<07:31,  1.20s/it]textattack: Saving checkpoint under \"checkpoints\\1720258161420.ta.chkpt\" at 2024-07-06 17:29:21 after 125 attacks.\n",
      "[Succeeded / Failed / Skipped / Total] 25 / 72 / 29 / 126:  25%|█████▎               | 126/500 [02:30<07:27,  1.20s/it]"
     ]
    },
    {
     "name": "stdout",
     "output_type": "stream",
     "text": [
      "\n",
      "\n",
      "=============================================================================================================================\n",
      "=============================================================================================================================\n",
      "\n"
     ]
    },
    {
     "name": "stderr",
     "output_type": "stream",
     "text": [
      "[Succeeded / Failed / Skipped / Total] 27 / 74 / 29 / 130:  26%|█████▍               | 130/500 [02:34<07:19,  1.19s/it]textattack: Saving checkpoint under \"checkpoints\\1720258165206.ta.chkpt\" at 2024-07-06 17:29:25 after 130 attacks.\n",
      "[Succeeded / Failed / Skipped / Total] 27 / 74 / 30 / 131:  26%|█████▌               | 131/500 [02:34<07:14,  1.18s/it]"
     ]
    },
    {
     "name": "stdout",
     "output_type": "stream",
     "text": [
      "\n",
      "\n",
      "=============================================================================================================================\n",
      "=============================================================================================================================\n",
      "\n"
     ]
    },
    {
     "name": "stderr",
     "output_type": "stream",
     "text": [
      "[Succeeded / Failed / Skipped / Total] 29 / 76 / 30 / 135:  27%|█████▋               | 135/500 [02:42<07:18,  1.20s/it]textattack: Saving checkpoint under \"checkpoints\\1720258173245.ta.chkpt\" at 2024-07-06 17:29:33 after 135 attacks.\n"
     ]
    },
    {
     "name": "stdout",
     "output_type": "stream",
     "text": [
      "\n",
      "\n",
      "=============================================================================================================================\n",
      "=============================================================================================================================\n",
      "\n"
     ]
    },
    {
     "name": "stderr",
     "output_type": "stream",
     "text": [
      "[Succeeded / Failed / Skipped / Total] 33 / 77 / 30 / 140:  28%|█████▉               | 140/500 [02:48<07:14,  1.21s/it]textattack: Saving checkpoint under \"checkpoints\\1720258179866.ta.chkpt\" at 2024-07-06 17:29:39 after 140 attacks.\n"
     ]
    },
    {
     "name": "stdout",
     "output_type": "stream",
     "text": [
      "\n",
      "\n",
      "=============================================================================================================================\n",
      "=============================================================================================================================\n",
      "\n"
     ]
    },
    {
     "name": "stderr",
     "output_type": "stream",
     "text": [
      "[Succeeded / Failed / Skipped / Total] 35 / 79 / 31 / 145:  29%|██████               | 145/500 [02:52<07:02,  1.19s/it]textattack: Saving checkpoint under \"checkpoints\\1720258183694.ta.chkpt\" at 2024-07-06 17:29:43 after 145 attacks.\n",
      "[Succeeded / Failed / Skipped / Total] 35 / 79 / 33 / 147:  29%|██████▏              | 147/500 [02:52<06:55,  1.18s/it]"
     ]
    },
    {
     "name": "stdout",
     "output_type": "stream",
     "text": [
      "\n",
      "\n",
      "=============================================================================================================================\n",
      "=============================================================================================================================\n",
      "\n"
     ]
    },
    {
     "name": "stderr",
     "output_type": "stream",
     "text": [
      "[Succeeded / Failed / Skipped / Total] 35 / 80 / 35 / 150:  30%|██████▎              | 150/500 [02:53<06:45,  1.16s/it]textattack: Saving checkpoint under \"checkpoints\\1720258184880.ta.chkpt\" at 2024-07-06 17:29:44 after 150 attacks.\n"
     ]
    },
    {
     "name": "stdout",
     "output_type": "stream",
     "text": [
      "\n",
      "\n",
      "=============================================================================================================================\n",
      "=============================================================================================================================\n",
      "\n"
     ]
    },
    {
     "name": "stderr",
     "output_type": "stream",
     "text": [
      "[Succeeded / Failed / Skipped / Total] 37 / 81 / 37 / 155:  31%|██████▌              | 155/500 [02:57<06:35,  1.15s/it]textattack: Saving checkpoint under \"checkpoints\\1720258188516.ta.chkpt\" at 2024-07-06 17:29:48 after 155 attacks.\n"
     ]
    },
    {
     "name": "stdout",
     "output_type": "stream",
     "text": [
      "\n",
      "\n",
      "=============================================================================================================================\n",
      "=============================================================================================================================\n",
      "\n"
     ]
    },
    {
     "name": "stderr",
     "output_type": "stream",
     "text": [
      "[Succeeded / Failed / Skipped / Total] 39 / 83 / 38 / 160:  32%|██████▋              | 160/500 [03:04<06:32,  1.15s/it]textattack: Saving checkpoint under \"checkpoints\\1720258195438.ta.chkpt\" at 2024-07-06 17:29:55 after 160 attacks.\n",
      "[Succeeded / Failed / Skipped / Total] 39 / 83 / 39 / 161:  32%|██████▊              | 161/500 [03:04<06:28,  1.15s/it]"
     ]
    },
    {
     "name": "stdout",
     "output_type": "stream",
     "text": [
      "\n",
      "\n",
      "=============================================================================================================================\n",
      "=============================================================================================================================\n",
      "\n"
     ]
    },
    {
     "name": "stderr",
     "output_type": "stream",
     "text": [
      "[Succeeded / Failed / Skipped / Total] 39 / 86 / 40 / 165:  33%|██████▉              | 165/500 [03:08<06:23,  1.15s/it]textattack: Saving checkpoint under \"checkpoints\\1720258199904.ta.chkpt\" at 2024-07-06 17:29:59 after 165 attacks.\n"
     ]
    },
    {
     "name": "stdout",
     "output_type": "stream",
     "text": [
      "\n",
      "\n",
      "=============================================================================================================================\n",
      "=============================================================================================================================\n",
      "\n"
     ]
    },
    {
     "name": "stderr",
     "output_type": "stream",
     "text": [
      "[Succeeded / Failed / Skipped / Total] 39 / 90 / 41 / 170:  34%|███████▏             | 170/500 [03:14<06:18,  1.15s/it]textattack: Saving checkpoint under \"checkpoints\\1720258205905.ta.chkpt\" at 2024-07-06 17:30:05 after 170 attacks.\n"
     ]
    },
    {
     "name": "stdout",
     "output_type": "stream",
     "text": [
      "\n",
      "\n",
      "=============================================================================================================================\n",
      "=============================================================================================================================\n",
      "\n"
     ]
    },
    {
     "name": "stderr",
     "output_type": "stream",
     "text": [
      "[Succeeded / Failed / Skipped / Total] 41 / 93 / 41 / 175:  35%|███████▎             | 175/500 [03:25<06:20,  1.17s/it]textattack: Saving checkpoint under \"checkpoints\\1720258216101.ta.chkpt\" at 2024-07-06 17:30:16 after 175 attacks.\n",
      "[Succeeded / Failed / Skipped / Total] 41 / 93 / 42 / 176:  35%|███████▍             | 176/500 [03:25<06:17,  1.17s/it]"
     ]
    },
    {
     "name": "stdout",
     "output_type": "stream",
     "text": [
      "\n",
      "\n",
      "=============================================================================================================================\n",
      "=============================================================================================================================\n",
      "\n"
     ]
    },
    {
     "name": "stderr",
     "output_type": "stream",
     "text": [
      "[Succeeded / Failed / Skipped / Total] 41 / 96 / 43 / 180:  36%|███████▌             | 180/500 [03:28<06:11,  1.16s/it]textattack: Saving checkpoint under \"checkpoints\\1720258219839.ta.chkpt\" at 2024-07-06 17:30:19 after 180 attacks.\n"
     ]
    },
    {
     "name": "stdout",
     "output_type": "stream",
     "text": [
      "\n",
      "\n",
      "=============================================================================================================================\n",
      "=============================================================================================================================\n",
      "\n"
     ]
    },
    {
     "name": "stderr",
     "output_type": "stream",
     "text": [
      "[Succeeded / Failed / Skipped / Total] 43 / 98 / 44 / 185:  37%|███████▊             | 185/500 [03:32<06:01,  1.15s/it]textattack: Saving checkpoint under \"checkpoints\\1720258223155.ta.chkpt\" at 2024-07-06 17:30:23 after 185 attacks.\n"
     ]
    },
    {
     "name": "stdout",
     "output_type": "stream",
     "text": [
      "\n",
      "\n",
      "=============================================================================================================================\n",
      "=============================================================================================================================\n",
      "\n"
     ]
    },
    {
     "name": "stderr",
     "output_type": "stream",
     "text": [
      "[Succeeded / Failed / Skipped / Total] 43 / 103 / 44 / 190:  38%|███████▌            | 190/500 [03:41<06:00,  1.16s/it]textattack: Saving checkpoint under \"checkpoints\\1720258232044.ta.chkpt\" at 2024-07-06 17:30:32 after 190 attacks.\n"
     ]
    },
    {
     "name": "stdout",
     "output_type": "stream",
     "text": [
      "\n",
      "\n",
      "=============================================================================================================================\n",
      "=============================================================================================================================\n",
      "\n"
     ]
    },
    {
     "name": "stderr",
     "output_type": "stream",
     "text": [
      "[Succeeded / Failed / Skipped / Total] 45 / 106 / 44 / 195:  39%|███████▊            | 195/500 [03:50<05:59,  1.18s/it]textattack: Saving checkpoint under \"checkpoints\\1720258240982.ta.chkpt\" at 2024-07-06 17:30:40 after 195 attacks.\n"
     ]
    },
    {
     "name": "stdout",
     "output_type": "stream",
     "text": [
      "\n",
      "\n",
      "=============================================================================================================================\n",
      "=============================================================================================================================\n",
      "\n"
     ]
    },
    {
     "name": "stderr",
     "output_type": "stream",
     "text": [
      "[Succeeded / Failed / Skipped / Total] 45 / 110 / 45 / 200:  40%|████████            | 200/500 [04:00<06:01,  1.20s/it]textattack: Saving checkpoint under \"checkpoints\\1720258251647.ta.chkpt\" at 2024-07-06 17:30:51 after 200 attacks.\n",
      "[Succeeded / Failed / Skipped / Total] 45 / 110 / 46 / 201:  40%|████████            | 201/500 [04:00<05:58,  1.20s/it]"
     ]
    },
    {
     "name": "stdout",
     "output_type": "stream",
     "text": [
      "\n",
      "\n",
      "=============================================================================================================================\n",
      "=============================================================================================================================\n",
      "\n"
     ]
    },
    {
     "name": "stderr",
     "output_type": "stream",
     "text": [
      "[Succeeded / Failed / Skipped / Total] 46 / 112 / 47 / 205:  41%|████████▏           | 205/500 [04:02<05:49,  1.18s/it]textattack: Saving checkpoint under \"checkpoints\\1720258253701.ta.chkpt\" at 2024-07-06 17:30:53 after 205 attacks.\n",
      "[Succeeded / Failed / Skipped / Total] 46 / 112 / 48 / 206:  41%|████████▏           | 206/500 [04:02<05:46,  1.18s/it]"
     ]
    },
    {
     "name": "stdout",
     "output_type": "stream",
     "text": [
      "\n",
      "\n",
      "=============================================================================================================================\n",
      "=============================================================================================================================\n",
      "\n"
     ]
    },
    {
     "name": "stderr",
     "output_type": "stream",
     "text": [
      "[Succeeded / Failed / Skipped / Total] 47 / 115 / 48 / 210:  42%|████████▍           | 210/500 [04:06<05:40,  1.17s/it]textattack: Saving checkpoint under \"checkpoints\\1720258257700.ta.chkpt\" at 2024-07-06 17:30:57 after 210 attacks.\n"
     ]
    },
    {
     "name": "stdout",
     "output_type": "stream",
     "text": [
      "\n",
      "\n",
      "=============================================================================================================================\n",
      "=============================================================================================================================\n",
      "\n"
     ]
    },
    {
     "name": "stderr",
     "output_type": "stream",
     "text": [
      "[Succeeded / Failed / Skipped / Total] 47 / 119 / 49 / 215:  43%|████████▌           | 215/500 [04:11<05:33,  1.17s/it]textattack: Saving checkpoint under \"checkpoints\\1720258262237.ta.chkpt\" at 2024-07-06 17:31:02 after 215 attacks.\n"
     ]
    },
    {
     "name": "stdout",
     "output_type": "stream",
     "text": [
      "\n",
      "\n",
      "=============================================================================================================================\n",
      "=============================================================================================================================\n",
      "\n"
     ]
    },
    {
     "name": "stderr",
     "output_type": "stream",
     "text": [
      "[Succeeded / Failed / Skipped / Total] 48 / 123 / 49 / 220:  44%|████████▊           | 220/500 [04:16<05:26,  1.17s/it]textattack: Saving checkpoint under \"checkpoints\\1720258267465.ta.chkpt\" at 2024-07-06 17:31:07 after 220 attacks.\n"
     ]
    },
    {
     "name": "stdout",
     "output_type": "stream",
     "text": [
      "\n",
      "\n",
      "=============================================================================================================================\n",
      "=============================================================================================================================\n",
      "\n"
     ]
    },
    {
     "name": "stderr",
     "output_type": "stream",
     "text": [
      "[Succeeded / Failed / Skipped / Total] 48 / 126 / 51 / 225:  45%|█████████           | 225/500 [04:22<05:21,  1.17s/it]textattack: Saving checkpoint under \"checkpoints\\1720258273603.ta.chkpt\" at 2024-07-06 17:31:13 after 225 attacks.\n"
     ]
    },
    {
     "name": "stdout",
     "output_type": "stream",
     "text": [
      "\n",
      "\n",
      "=============================================================================================================================\n",
      "=============================================================================================================================\n",
      "\n"
     ]
    },
    {
     "name": "stderr",
     "output_type": "stream",
     "text": [
      "[Succeeded / Failed / Skipped / Total] 51 / 128 / 51 / 230:  46%|█████████▏          | 230/500 [04:28<05:14,  1.17s/it]textattack: Saving checkpoint under \"checkpoints\\1720258279004.ta.chkpt\" at 2024-07-06 17:31:19 after 230 attacks.\n"
     ]
    },
    {
     "name": "stdout",
     "output_type": "stream",
     "text": [
      "\n",
      "\n",
      "=============================================================================================================================\n",
      "=============================================================================================================================\n",
      "\n"
     ]
    },
    {
     "name": "stderr",
     "output_type": "stream",
     "text": [
      "[Succeeded / Failed / Skipped / Total] 52 / 131 / 52 / 235:  47%|█████████▍          | 235/500 [04:33<05:08,  1.16s/it]textattack: Saving checkpoint under \"checkpoints\\1720258284384.ta.chkpt\" at 2024-07-06 17:31:24 after 235 attacks.\n",
      "[Succeeded / Failed / Skipped / Total] 52 / 131 / 53 / 236:  47%|█████████▍          | 236/500 [04:33<05:05,  1.16s/it]"
     ]
    },
    {
     "name": "stdout",
     "output_type": "stream",
     "text": [
      "\n",
      "\n",
      "=============================================================================================================================\n",
      "=============================================================================================================================\n",
      "\n"
     ]
    },
    {
     "name": "stderr",
     "output_type": "stream",
     "text": [
      "[Succeeded / Failed / Skipped / Total] 53 / 134 / 53 / 240:  48%|█████████▌          | 240/500 [04:36<05:00,  1.15s/it]textattack: Saving checkpoint under \"checkpoints\\1720258287896.ta.chkpt\" at 2024-07-06 17:31:27 after 240 attacks.\n"
     ]
    },
    {
     "name": "stdout",
     "output_type": "stream",
     "text": [
      "\n",
      "\n",
      "=============================================================================================================================\n",
      "=============================================================================================================================\n",
      "\n"
     ]
    },
    {
     "name": "stderr",
     "output_type": "stream",
     "text": [
      "[Succeeded / Failed / Skipped / Total] 54 / 138 / 53 / 245:  49%|█████████▊          | 245/500 [04:44<04:55,  1.16s/it]textattack: Saving checkpoint under \"checkpoints\\1720258295176.ta.chkpt\" at 2024-07-06 17:31:35 after 245 attacks.\n"
     ]
    },
    {
     "name": "stdout",
     "output_type": "stream",
     "text": [
      "\n",
      "\n",
      "=============================================================================================================================\n",
      "=============================================================================================================================\n",
      "\n"
     ]
    },
    {
     "name": "stderr",
     "output_type": "stream",
     "text": [
      "[Succeeded / Failed / Skipped / Total] 56 / 140 / 54 / 250:  50%|██████████          | 250/500 [04:47<04:47,  1.15s/it]textattack: Saving checkpoint under \"checkpoints\\1720258298125.ta.chkpt\" at 2024-07-06 17:31:38 after 250 attacks.\n",
      "[Succeeded / Failed / Skipped / Total] 56 / 140 / 55 / 251:  50%|██████████          | 251/500 [04:47<04:44,  1.14s/it]"
     ]
    },
    {
     "name": "stdout",
     "output_type": "stream",
     "text": [
      "\n",
      "\n",
      "=============================================================================================================================\n",
      "=============================================================================================================================\n",
      "\n"
     ]
    },
    {
     "name": "stderr",
     "output_type": "stream",
     "text": [
      "[Succeeded / Failed / Skipped / Total] 58 / 141 / 56 / 255:  51%|██████████▏         | 255/500 [04:52<04:40,  1.15s/it]textattack: Saving checkpoint under \"checkpoints\\1720258303372.ta.chkpt\" at 2024-07-06 17:31:43 after 255 attacks.\n"
     ]
    },
    {
     "name": "stdout",
     "output_type": "stream",
     "text": [
      "\n",
      "\n",
      "=============================================================================================================================\n",
      "=============================================================================================================================\n",
      "\n"
     ]
    },
    {
     "name": "stderr",
     "output_type": "stream",
     "text": [
      "[Succeeded / Failed / Skipped / Total] 60 / 144 / 56 / 260:  52%|██████████▍         | 260/500 [04:58<04:35,  1.15s/it]textattack: Saving checkpoint under \"checkpoints\\1720258309927.ta.chkpt\" at 2024-07-06 17:31:49 after 260 attacks.\n"
     ]
    },
    {
     "name": "stdout",
     "output_type": "stream",
     "text": [
      "\n",
      "\n",
      "=============================================================================================================================\n",
      "=============================================================================================================================\n",
      "\n"
     ]
    },
    {
     "name": "stderr",
     "output_type": "stream",
     "text": [
      "[Succeeded / Failed / Skipped / Total] 61 / 147 / 57 / 265:  53%|██████████▌         | 265/500 [05:03<04:28,  1.14s/it]textattack: Saving checkpoint under \"checkpoints\\1720258314073.ta.chkpt\" at 2024-07-06 17:31:54 after 265 attacks.\n"
     ]
    },
    {
     "name": "stdout",
     "output_type": "stream",
     "text": [
      "\n",
      "\n",
      "=============================================================================================================================\n",
      "=============================================================================================================================\n",
      "\n"
     ]
    },
    {
     "name": "stderr",
     "output_type": "stream",
     "text": [
      "[Succeeded / Failed / Skipped / Total] 61 / 150 / 59 / 270:  54%|██████████▊         | 270/500 [05:08<04:23,  1.14s/it]textattack: Saving checkpoint under \"checkpoints\\1720258319770.ta.chkpt\" at 2024-07-06 17:31:59 after 270 attacks.\n",
      "[Succeeded / Failed / Skipped / Total] 61 / 150 / 61 / 272:  54%|██████████▉         | 272/500 [05:08<04:18,  1.14s/it]"
     ]
    },
    {
     "name": "stdout",
     "output_type": "stream",
     "text": [
      "\n",
      "\n",
      "=============================================================================================================================\n",
      "=============================================================================================================================\n",
      "\n"
     ]
    },
    {
     "name": "stderr",
     "output_type": "stream",
     "text": [
      "[Succeeded / Failed / Skipped / Total] 61 / 151 / 63 / 275:  55%|███████████         | 275/500 [05:10<04:14,  1.13s/it]textattack: Saving checkpoint under \"checkpoints\\1720258321780.ta.chkpt\" at 2024-07-06 17:32:01 after 275 attacks.\n"
     ]
    },
    {
     "name": "stdout",
     "output_type": "stream",
     "text": [
      "\n",
      "\n",
      "=============================================================================================================================\n",
      "=============================================================================================================================\n",
      "\n"
     ]
    },
    {
     "name": "stderr",
     "output_type": "stream",
     "text": [
      "[Succeeded / Failed / Skipped / Total] 62 / 153 / 65 / 280:  56%|███████████▏        | 280/500 [05:14<04:06,  1.12s/it]textattack: Saving checkpoint under \"checkpoints\\1720258324957.ta.chkpt\" at 2024-07-06 17:32:04 after 280 attacks.\n"
     ]
    },
    {
     "name": "stdout",
     "output_type": "stream",
     "text": [
      "\n",
      "\n",
      "=============================================================================================================================\n",
      "=============================================================================================================================\n",
      "\n"
     ]
    },
    {
     "name": "stderr",
     "output_type": "stream",
     "text": [
      "[Succeeded / Failed / Skipped / Total] 63 / 155 / 67 / 285:  57%|███████████▍        | 285/500 [05:16<03:59,  1.11s/it]textattack: Saving checkpoint under \"checkpoints\\1720258327845.ta.chkpt\" at 2024-07-06 17:32:07 after 285 attacks.\n",
      "[Succeeded / Failed / Skipped / Total] 63 / 155 / 69 / 287:  57%|███████████▍        | 287/500 [05:17<03:55,  1.10s/it]"
     ]
    },
    {
     "name": "stdout",
     "output_type": "stream",
     "text": [
      "\n",
      "\n",
      "=============================================================================================================================\n",
      "=============================================================================================================================\n",
      "\n"
     ]
    },
    {
     "name": "stderr",
     "output_type": "stream",
     "text": [
      "[Succeeded / Failed / Skipped / Total] 63 / 157 / 70 / 290:  58%|███████████▌        | 290/500 [05:20<03:51,  1.10s/it]textattack: Saving checkpoint under \"checkpoints\\1720258331165.ta.chkpt\" at 2024-07-06 17:32:11 after 290 attacks.\n"
     ]
    },
    {
     "name": "stdout",
     "output_type": "stream",
     "text": [
      "\n",
      "\n",
      "=============================================================================================================================\n",
      "=============================================================================================================================\n",
      "\n"
     ]
    },
    {
     "name": "stderr",
     "output_type": "stream",
     "text": [
      "[Succeeded / Failed / Skipped / Total] 64 / 159 / 72 / 295:  59%|███████████▊        | 295/500 [05:23<03:45,  1.10s/it]textattack: Saving checkpoint under \"checkpoints\\1720258334755.ta.chkpt\" at 2024-07-06 17:32:14 after 295 attacks.\n"
     ]
    },
    {
     "name": "stdout",
     "output_type": "stream",
     "text": [
      "\n",
      "\n",
      "=============================================================================================================================\n",
      "=============================================================================================================================\n",
      "\n"
     ]
    },
    {
     "name": "stderr",
     "output_type": "stream",
     "text": [
      "[Succeeded / Failed / Skipped / Total] 65 / 162 / 73 / 300:  60%|████████████        | 300/500 [05:27<03:38,  1.09s/it]textattack: Saving checkpoint under \"checkpoints\\1720258338020.ta.chkpt\" at 2024-07-06 17:32:18 after 300 attacks.\n"
     ]
    },
    {
     "name": "stdout",
     "output_type": "stream",
     "text": [
      "\n",
      "\n",
      "=============================================================================================================================\n",
      "=============================================================================================================================\n",
      "\n"
     ]
    },
    {
     "name": "stderr",
     "output_type": "stream",
     "text": [
      "[Succeeded / Failed / Skipped / Total] 66 / 165 / 74 / 305:  61%|████████████▏       | 305/500 [05:36<03:34,  1.10s/it]textattack: Saving checkpoint under \"checkpoints\\1720258346982.ta.chkpt\" at 2024-07-06 17:32:26 after 305 attacks.\n"
     ]
    },
    {
     "name": "stdout",
     "output_type": "stream",
     "text": [
      "\n",
      "\n",
      "=============================================================================================================================\n",
      "=============================================================================================================================\n",
      "\n"
     ]
    },
    {
     "name": "stderr",
     "output_type": "stream",
     "text": [
      "[Succeeded / Failed / Skipped / Total] 67 / 167 / 76 / 310:  62%|████████████▍       | 310/500 [05:38<03:27,  1.09s/it]textattack: Saving checkpoint under \"checkpoints\\1720258349803.ta.chkpt\" at 2024-07-06 17:32:29 after 310 attacks.\n"
     ]
    },
    {
     "name": "stdout",
     "output_type": "stream",
     "text": [
      "\n",
      "\n",
      "=============================================================================================================================\n",
      "=============================================================================================================================\n",
      "\n"
     ]
    },
    {
     "name": "stderr",
     "output_type": "stream",
     "text": [
      "[Succeeded / Failed / Skipped / Total] 68 / 169 / 78 / 315:  63%|████████████▌       | 315/500 [05:42<03:20,  1.09s/it]textattack: Saving checkpoint under \"checkpoints\\1720258352957.ta.chkpt\" at 2024-07-06 17:32:32 after 315 attacks.\n"
     ]
    },
    {
     "name": "stdout",
     "output_type": "stream",
     "text": [
      "\n",
      "\n",
      "=============================================================================================================================\n",
      "=============================================================================================================================\n",
      "\n"
     ]
    },
    {
     "name": "stderr",
     "output_type": "stream",
     "text": [
      "[Succeeded / Failed / Skipped / Total] 68 / 173 / 79 / 320:  64%|████████████▊       | 320/500 [05:52<03:18,  1.10s/it]textattack: Saving checkpoint under \"checkpoints\\1720258362982.ta.chkpt\" at 2024-07-06 17:32:42 after 320 attacks.\n"
     ]
    },
    {
     "name": "stdout",
     "output_type": "stream",
     "text": [
      "\n",
      "\n",
      "=============================================================================================================================\n",
      "=============================================================================================================================\n",
      "\n"
     ]
    },
    {
     "name": "stderr",
     "output_type": "stream",
     "text": [
      "[Succeeded / Failed / Skipped / Total] 69 / 177 / 79 / 325:  65%|█████████████       | 325/500 [06:02<03:15,  1.12s/it]textattack: Saving checkpoint under \"checkpoints\\1720258373472.ta.chkpt\" at 2024-07-06 17:32:53 after 325 attacks.\n"
     ]
    },
    {
     "name": "stdout",
     "output_type": "stream",
     "text": [
      "\n",
      "\n",
      "=============================================================================================================================\n",
      "=============================================================================================================================\n",
      "\n"
     ]
    },
    {
     "name": "stderr",
     "output_type": "stream",
     "text": [
      "[Succeeded / Failed / Skipped / Total] 73 / 178 / 79 / 330:  66%|█████████████▏      | 330/500 [06:05<03:08,  1.11s/it]textattack: Saving checkpoint under \"checkpoints\\1720258376935.ta.chkpt\" at 2024-07-06 17:32:56 after 330 attacks.\n"
     ]
    },
    {
     "name": "stdout",
     "output_type": "stream",
     "text": [
      "\n",
      "\n",
      "=============================================================================================================================\n",
      "=============================================================================================================================\n",
      "\n"
     ]
    },
    {
     "name": "stderr",
     "output_type": "stream",
     "text": [
      "[Succeeded / Failed / Skipped / Total] 73 / 183 / 79 / 335:  67%|█████████████▍      | 335/500 [06:16<03:05,  1.12s/it]textattack: Saving checkpoint under \"checkpoints\\1720258387140.ta.chkpt\" at 2024-07-06 17:33:07 after 335 attacks.\n",
      "[Succeeded / Failed / Skipped / Total] 73 / 183 / 80 / 336:  67%|█████████████▍      | 336/500 [06:16<03:03,  1.12s/it]"
     ]
    },
    {
     "name": "stdout",
     "output_type": "stream",
     "text": [
      "\n",
      "\n",
      "=============================================================================================================================\n",
      "=============================================================================================================================\n",
      "\n"
     ]
    },
    {
     "name": "stderr",
     "output_type": "stream",
     "text": [
      "[Succeeded / Failed / Skipped / Total] 74 / 185 / 81 / 340:  68%|█████████████▌      | 340/500 [06:19<02:58,  1.12s/it]textattack: Saving checkpoint under \"checkpoints\\1720258390426.ta.chkpt\" at 2024-07-06 17:33:10 after 340 attacks.\n"
     ]
    },
    {
     "name": "stdout",
     "output_type": "stream",
     "text": [
      "\n",
      "\n",
      "=============================================================================================================================\n",
      "=============================================================================================================================\n",
      "\n"
     ]
    },
    {
     "name": "stderr",
     "output_type": "stream",
     "text": [
      "[Succeeded / Failed / Skipped / Total] 74 / 190 / 81 / 345:  69%|█████████████▊      | 345/500 [06:26<02:53,  1.12s/it]textattack: Saving checkpoint under \"checkpoints\\1720258397854.ta.chkpt\" at 2024-07-06 17:33:17 after 345 attacks.\n"
     ]
    },
    {
     "name": "stdout",
     "output_type": "stream",
     "text": [
      "\n",
      "\n",
      "=============================================================================================================================\n",
      "=============================================================================================================================\n",
      "\n"
     ]
    },
    {
     "name": "stderr",
     "output_type": "stream",
     "text": [
      "[Succeeded / Failed / Skipped / Total] 75 / 193 / 82 / 350:  70%|██████████████      | 350/500 [06:32<02:48,  1.12s/it]textattack: Saving checkpoint under \"checkpoints\\1720258403773.ta.chkpt\" at 2024-07-06 17:33:23 after 350 attacks.\n"
     ]
    },
    {
     "name": "stdout",
     "output_type": "stream",
     "text": [
      "\n",
      "\n",
      "=============================================================================================================================\n",
      "=============================================================================================================================\n",
      "\n"
     ]
    },
    {
     "name": "stderr",
     "output_type": "stream",
     "text": [
      "[Succeeded / Failed / Skipped / Total] 77 / 196 / 82 / 355:  71%|██████████████▏     | 355/500 [06:41<02:43,  1.13s/it]textattack: Saving checkpoint under \"checkpoints\\1720258412009.ta.chkpt\" at 2024-07-06 17:33:32 after 355 attacks.\n"
     ]
    },
    {
     "name": "stdout",
     "output_type": "stream",
     "text": [
      "\n",
      "\n",
      "=============================================================================================================================\n",
      "=============================================================================================================================\n",
      "\n"
     ]
    },
    {
     "name": "stderr",
     "output_type": "stream",
     "text": [
      "[Succeeded / Failed / Skipped / Total] 77 / 200 / 83 / 360:  72%|██████████████▍     | 360/500 [06:46<02:38,  1.13s/it]textattack: Saving checkpoint under \"checkpoints\\1720258417603.ta.chkpt\" at 2024-07-06 17:33:37 after 360 attacks.\n"
     ]
    },
    {
     "name": "stdout",
     "output_type": "stream",
     "text": [
      "\n",
      "\n",
      "=============================================================================================================================\n",
      "=============================================================================================================================\n",
      "\n"
     ]
    },
    {
     "name": "stderr",
     "output_type": "stream",
     "text": [
      "[Succeeded / Failed / Skipped / Total] 79 / 203 / 83 / 365:  73%|██████████████▌     | 365/500 [06:50<02:32,  1.13s/it]textattack: Saving checkpoint under \"checkpoints\\1720258421915.ta.chkpt\" at 2024-07-06 17:33:41 after 365 attacks.\n",
      "[Succeeded / Failed / Skipped / Total] 79 / 203 / 84 / 366:  73%|██████████████▋     | 366/500 [06:51<02:30,  1.12s/it]"
     ]
    },
    {
     "name": "stdout",
     "output_type": "stream",
     "text": [
      "\n",
      "\n",
      "=============================================================================================================================\n",
      "=============================================================================================================================\n",
      "\n"
     ]
    },
    {
     "name": "stderr",
     "output_type": "stream",
     "text": [
      "[Succeeded / Failed / Skipped / Total] 81 / 205 / 84 / 370:  74%|██████████████▊     | 370/500 [06:55<02:25,  1.12s/it]textattack: Saving checkpoint under \"checkpoints\\1720258426479.ta.chkpt\" at 2024-07-06 17:33:46 after 370 attacks.\n"
     ]
    },
    {
     "name": "stdout",
     "output_type": "stream",
     "text": [
      "\n",
      "\n",
      "=============================================================================================================================\n",
      "=============================================================================================================================\n",
      "\n"
     ]
    },
    {
     "name": "stderr",
     "output_type": "stream",
     "text": [
      "[Succeeded / Failed / Skipped / Total] 82 / 209 / 84 / 375:  75%|███████████████     | 375/500 [07:04<02:21,  1.13s/it]textattack: Saving checkpoint under \"checkpoints\\1720258435007.ta.chkpt\" at 2024-07-06 17:33:55 after 375 attacks.\n"
     ]
    },
    {
     "name": "stdout",
     "output_type": "stream",
     "text": [
      "\n",
      "\n",
      "=============================================================================================================================\n",
      "=============================================================================================================================\n",
      "\n"
     ]
    },
    {
     "name": "stderr",
     "output_type": "stream",
     "text": [
      "[Succeeded / Failed / Skipped / Total] 82 / 213 / 85 / 380:  76%|███████████████▏    | 380/500 [07:07<02:15,  1.13s/it]textattack: Saving checkpoint under \"checkpoints\\1720258438816.ta.chkpt\" at 2024-07-06 17:33:58 after 380 attacks.\n"
     ]
    },
    {
     "name": "stdout",
     "output_type": "stream",
     "text": [
      "\n",
      "\n",
      "=============================================================================================================================\n",
      "=============================================================================================================================\n",
      "\n"
     ]
    },
    {
     "name": "stderr",
     "output_type": "stream",
     "text": [
      "[Succeeded / Failed / Skipped / Total] 83 / 217 / 85 / 385:  77%|███████████████▍    | 385/500 [07:14<02:09,  1.13s/it]textattack: Saving checkpoint under \"checkpoints\\1720258445113.ta.chkpt\" at 2024-07-06 17:34:05 after 385 attacks.\n"
     ]
    },
    {
     "name": "stdout",
     "output_type": "stream",
     "text": [
      "\n",
      "\n",
      "=============================================================================================================================\n",
      "=============================================================================================================================\n",
      "\n"
     ]
    },
    {
     "name": "stderr",
     "output_type": "stream",
     "text": [
      "[Succeeded / Failed / Skipped / Total] 84 / 220 / 86 / 390:  78%|███████████████▌    | 390/500 [07:17<02:03,  1.12s/it]textattack: Saving checkpoint under \"checkpoints\\1720258448779.ta.chkpt\" at 2024-07-06 17:34:08 after 390 attacks.\n"
     ]
    },
    {
     "name": "stdout",
     "output_type": "stream",
     "text": [
      "\n",
      "\n",
      "=============================================================================================================================\n",
      "=============================================================================================================================\n",
      "\n"
     ]
    },
    {
     "name": "stderr",
     "output_type": "stream",
     "text": [
      "[Succeeded / Failed / Skipped / Total] 85 / 224 / 86 / 395:  79%|███████████████▊    | 395/500 [07:27<01:58,  1.13s/it]textattack: Saving checkpoint under \"checkpoints\\1720258458524.ta.chkpt\" at 2024-07-06 17:34:18 after 395 attacks.\n"
     ]
    },
    {
     "name": "stdout",
     "output_type": "stream",
     "text": [
      "\n",
      "\n",
      "=============================================================================================================================\n",
      "=============================================================================================================================\n",
      "\n"
     ]
    },
    {
     "name": "stderr",
     "output_type": "stream",
     "text": [
      "[Succeeded / Failed / Skipped / Total] 86 / 228 / 86 / 400:  80%|████████████████    | 400/500 [07:38<01:54,  1.15s/it]textattack: Saving checkpoint under \"checkpoints\\1720258469307.ta.chkpt\" at 2024-07-06 17:34:29 after 400 attacks.\n"
     ]
    },
    {
     "name": "stdout",
     "output_type": "stream",
     "text": [
      "\n",
      "\n",
      "=============================================================================================================================\n",
      "=============================================================================================================================\n",
      "\n"
     ]
    },
    {
     "name": "stderr",
     "output_type": "stream",
     "text": [
      "[Succeeded / Failed / Skipped / Total] 87 / 231 / 87 / 405:  81%|████████████████▏   | 405/500 [07:44<01:48,  1.15s/it]textattack: Saving checkpoint under \"checkpoints\\1720258475242.ta.chkpt\" at 2024-07-06 17:34:35 after 405 attacks.\n"
     ]
    },
    {
     "name": "stdout",
     "output_type": "stream",
     "text": [
      "\n",
      "\n",
      "=============================================================================================================================\n",
      "=============================================================================================================================\n",
      "\n"
     ]
    },
    {
     "name": "stderr",
     "output_type": "stream",
     "text": [
      "[Succeeded / Failed / Skipped / Total] 91 / 232 / 87 / 410:  82%|████████████████▍   | 410/500 [07:49<01:42,  1.14s/it]textattack: Saving checkpoint under \"checkpoints\\1720258479991.ta.chkpt\" at 2024-07-06 17:34:39 after 410 attacks.\n"
     ]
    },
    {
     "name": "stdout",
     "output_type": "stream",
     "text": [
      "\n",
      "\n",
      "=============================================================================================================================\n",
      "=============================================================================================================================\n",
      "\n"
     ]
    },
    {
     "name": "stderr",
     "output_type": "stream",
     "text": [
      "[Succeeded / Failed / Skipped / Total] 92 / 233 / 90 / 415:  83%|████████████████▌   | 415/500 [07:50<01:36,  1.13s/it]textattack: Saving checkpoint under \"checkpoints\\1720258481799.ta.chkpt\" at 2024-07-06 17:34:41 after 415 attacks.\n"
     ]
    },
    {
     "name": "stdout",
     "output_type": "stream",
     "text": [
      "\n",
      "\n",
      "=============================================================================================================================\n",
      "=============================================================================================================================\n",
      "\n"
     ]
    },
    {
     "name": "stderr",
     "output_type": "stream",
     "text": [
      "[Succeeded / Failed / Skipped / Total] 94 / 236 / 90 / 420:  84%|████████████████▊   | 420/500 [07:58<01:31,  1.14s/it]textattack: Saving checkpoint under \"checkpoints\\1720258489319.ta.chkpt\" at 2024-07-06 17:34:49 after 420 attacks.\n"
     ]
    },
    {
     "name": "stdout",
     "output_type": "stream",
     "text": [
      "\n",
      "\n",
      "=============================================================================================================================\n",
      "=============================================================================================================================\n",
      "\n"
     ]
    },
    {
     "name": "stderr",
     "output_type": "stream",
     "text": [
      "[Succeeded / Failed / Skipped / Total] 96 / 238 / 91 / 425:  85%|█████████████████   | 425/500 [08:01<01:25,  1.13s/it]textattack: Saving checkpoint under \"checkpoints\\1720258492946.ta.chkpt\" at 2024-07-06 17:34:52 after 425 attacks.\n"
     ]
    },
    {
     "name": "stdout",
     "output_type": "stream",
     "text": [
      "\n",
      "\n",
      "=============================================================================================================================\n",
      "=============================================================================================================================\n",
      "\n"
     ]
    },
    {
     "name": "stderr",
     "output_type": "stream",
     "text": [
      "[Succeeded / Failed / Skipped / Total] 99 / 240 / 91 / 430:  86%|█████████████████▏  | 430/500 [08:07<01:19,  1.13s/it]textattack: Saving checkpoint under \"checkpoints\\1720258498811.ta.chkpt\" at 2024-07-06 17:34:58 after 430 attacks.\n"
     ]
    },
    {
     "name": "stdout",
     "output_type": "stream",
     "text": [
      "\n",
      "\n",
      "=============================================================================================================================\n",
      "=============================================================================================================================\n",
      "\n"
     ]
    },
    {
     "name": "stderr",
     "output_type": "stream",
     "text": [
      "[Succeeded / Failed / Skipped / Total] 100 / 243 / 92 / 435:  87%|████████████████▌  | 435/500 [08:12<01:13,  1.13s/it]textattack: Saving checkpoint under \"checkpoints\\1720258503767.ta.chkpt\" at 2024-07-06 17:35:03 after 435 attacks.\n"
     ]
    },
    {
     "name": "stdout",
     "output_type": "stream",
     "text": [
      "\n",
      "\n",
      "=============================================================================================================================\n",
      "=============================================================================================================================\n",
      "\n"
     ]
    },
    {
     "name": "stderr",
     "output_type": "stream",
     "text": [
      "[Succeeded / Failed / Skipped / Total] 101 / 247 / 92 / 440:  88%|████████████████▋  | 440/500 [08:21<01:08,  1.14s/it]textattack: Saving checkpoint under \"checkpoints\\1720258512591.ta.chkpt\" at 2024-07-06 17:35:12 after 440 attacks.\n"
     ]
    },
    {
     "name": "stdout",
     "output_type": "stream",
     "text": [
      "\n",
      "\n",
      "=============================================================================================================================\n",
      "=============================================================================================================================\n",
      "\n"
     ]
    },
    {
     "name": "stderr",
     "output_type": "stream",
     "text": [
      "[Succeeded / Failed / Skipped / Total] 102 / 251 / 92 / 445:  89%|████████████████▉  | 445/500 [08:27<01:02,  1.14s/it]textattack: Saving checkpoint under \"checkpoints\\1720258518144.ta.chkpt\" at 2024-07-06 17:35:18 after 445 attacks.\n"
     ]
    },
    {
     "name": "stdout",
     "output_type": "stream",
     "text": [
      "\n",
      "\n",
      "=============================================================================================================================\n",
      "=============================================================================================================================\n",
      "\n"
     ]
    },
    {
     "name": "stderr",
     "output_type": "stream",
     "text": [
      "[Succeeded / Failed / Skipped / Total] 102 / 254 / 94 / 450:  90%|█████████████████  | 450/500 [08:30<00:56,  1.13s/it]textattack: Saving checkpoint under \"checkpoints\\1720258521625.ta.chkpt\" at 2024-07-06 17:35:21 after 450 attacks.\n"
     ]
    },
    {
     "name": "stdout",
     "output_type": "stream",
     "text": [
      "\n",
      "\n",
      "=============================================================================================================================\n",
      "=============================================================================================================================\n",
      "\n"
     ]
    },
    {
     "name": "stderr",
     "output_type": "stream",
     "text": [
      "[Succeeded / Failed / Skipped / Total] 104 / 256 / 95 / 455:  91%|█████████████████▎ | 455/500 [08:36<00:51,  1.13s/it]textattack: Saving checkpoint under \"checkpoints\\1720258527309.ta.chkpt\" at 2024-07-06 17:35:27 after 455 attacks.\n"
     ]
    },
    {
     "name": "stdout",
     "output_type": "stream",
     "text": [
      "\n",
      "\n",
      "=============================================================================================================================\n",
      "=============================================================================================================================\n",
      "\n"
     ]
    },
    {
     "name": "stderr",
     "output_type": "stream",
     "text": [
      "[Succeeded / Failed / Skipped / Total] 105 / 260 / 95 / 460:  92%|█████████████████▍ | 460/500 [08:45<00:45,  1.14s/it]textattack: Saving checkpoint under \"checkpoints\\1720258536506.ta.chkpt\" at 2024-07-06 17:35:36 after 460 attacks.\n"
     ]
    },
    {
     "name": "stdout",
     "output_type": "stream",
     "text": [
      "\n",
      "\n",
      "=============================================================================================================================\n",
      "=============================================================================================================================\n",
      "\n"
     ]
    },
    {
     "name": "stderr",
     "output_type": "stream",
     "text": [
      "[Succeeded / Failed / Skipped / Total] 105 / 264 / 96 / 465:  93%|█████████████████▋ | 465/500 [08:53<00:40,  1.15s/it]textattack: Saving checkpoint under \"checkpoints\\1720258544236.ta.chkpt\" at 2024-07-06 17:35:44 after 465 attacks.\n"
     ]
    },
    {
     "name": "stdout",
     "output_type": "stream",
     "text": [
      "\n",
      "\n",
      "=============================================================================================================================\n",
      "=============================================================================================================================\n",
      "\n"
     ]
    },
    {
     "name": "stderr",
     "output_type": "stream",
     "text": [
      "[Succeeded / Failed / Skipped / Total] 108 / 265 / 97 / 470:  94%|█████████████████▊ | 470/500 [08:55<00:34,  1.14s/it]textattack: Saving checkpoint under \"checkpoints\\1720258546888.ta.chkpt\" at 2024-07-06 17:35:46 after 470 attacks.\n"
     ]
    },
    {
     "name": "stdout",
     "output_type": "stream",
     "text": [
      "\n",
      "\n",
      "=============================================================================================================================\n",
      "=============================================================================================================================\n",
      "\n"
     ]
    },
    {
     "name": "stderr",
     "output_type": "stream",
     "text": [
      "[Succeeded / Failed / Skipped / Total] 109 / 269 / 97 / 475:  95%|██████████████████ | 475/500 [09:04<00:28,  1.15s/it]textattack: Saving checkpoint under \"checkpoints\\1720258555306.ta.chkpt\" at 2024-07-06 17:35:55 after 475 attacks.\n"
     ]
    },
    {
     "name": "stdout",
     "output_type": "stream",
     "text": [
      "\n",
      "\n",
      "=============================================================================================================================\n",
      "=============================================================================================================================\n",
      "\n"
     ]
    },
    {
     "name": "stderr",
     "output_type": "stream",
     "text": [
      "[Succeeded / Failed / Skipped / Total] 110 / 273 / 97 / 480:  96%|██████████████████▏| 480/500 [09:10<00:22,  1.15s/it]textattack: Saving checkpoint under \"checkpoints\\1720258561599.ta.chkpt\" at 2024-07-06 17:36:01 after 480 attacks.\n"
     ]
    },
    {
     "name": "stdout",
     "output_type": "stream",
     "text": [
      "\n",
      "\n",
      "=============================================================================================================================\n",
      "=============================================================================================================================\n",
      "\n"
     ]
    },
    {
     "name": "stderr",
     "output_type": "stream",
     "text": [
      "[Succeeded / Failed / Skipped / Total] 110 / 276 / 99 / 485:  97%|██████████████████▍| 485/500 [09:14<00:17,  1.14s/it]textattack: Saving checkpoint under \"checkpoints\\1720258565503.ta.chkpt\" at 2024-07-06 17:36:05 after 485 attacks.\n"
     ]
    },
    {
     "name": "stdout",
     "output_type": "stream",
     "text": [
      "\n",
      "\n",
      "=============================================================================================================================\n",
      "=============================================================================================================================\n",
      "\n"
     ]
    },
    {
     "name": "stderr",
     "output_type": "stream",
     "text": [
      "[Succeeded / Failed / Skipped / Total] 111 / 279 / 100 / 490:  98%|█████████████████▋| 490/500 [09:19<00:11,  1.14s/it]textattack: Saving checkpoint under \"checkpoints\\1720258570476.ta.chkpt\" at 2024-07-06 17:36:10 after 490 attacks.\n"
     ]
    },
    {
     "name": "stdout",
     "output_type": "stream",
     "text": [
      "\n",
      "\n",
      "=============================================================================================================================\n",
      "=============================================================================================================================\n",
      "\n"
     ]
    },
    {
     "name": "stderr",
     "output_type": "stream",
     "text": [
      "[Succeeded / Failed / Skipped / Total] 114 / 281 / 100 / 495:  99%|█████████████████▊| 495/500 [09:27<00:05,  1.15s/it]textattack: Saving checkpoint under \"checkpoints\\1720258578739.ta.chkpt\" at 2024-07-06 17:36:18 after 495 attacks.\n"
     ]
    },
    {
     "name": "stdout",
     "output_type": "stream",
     "text": [
      "\n",
      "\n",
      "=============================================================================================================================\n",
      "=============================================================================================================================\n",
      "\n"
     ]
    },
    {
     "name": "stderr",
     "output_type": "stream",
     "text": [
      "[Succeeded / Failed / Skipped / Total] 115 / 285 / 100 / 500: 100%|██████████████████| 500/500 [09:34<00:00,  1.15s/it]textattack: Saving checkpoint under \"checkpoints\\1720258585673.ta.chkpt\" at 2024-07-06 17:36:25 after 500 attacks.\n",
      "[Succeeded / Failed / Skipped / Total] 115 / 285 / 100 / 500: 100%|██████████████████| 500/500 [09:34<00:00,  1.15s/it]"
     ]
    },
    {
     "name": "stdout",
     "output_type": "stream",
     "text": [
      "\n",
      "\n",
      "=============================================================================================================================\n",
      "=============================================================================================================================\n",
      "\n",
      "\n",
      "+-------------------------------+--------+\n",
      "| Attack Results                |        |\n",
      "+-------------------------------+--------+\n",
      "| Number of successful attacks: | 115    |\n",
      "| Number of failed attacks:     | 285    |\n",
      "| Number of skipped attacks:    | 100    |\n",
      "| Original accuracy:            | 80.0%  |\n",
      "| Accuracy under attack:        | 57.0%  |\n",
      "| Attack success rate:          | 28.75% |\n",
      "| Average perturbed word %:     | 13.81% |\n",
      "| Average num. words per input: | 18.4   |\n",
      "| Avg num queries:              | 22.58  |\n",
      "+-------------------------------+--------+\n"
     ]
    },
    {
     "name": "stderr",
     "output_type": "stream",
     "text": [
      "\n"
     ]
    }
   ],
   "source": [
    "runAttack(bert_model_wrapper_lr_mr, n_samples, 'attack_results_new/bertmrattacklr'+suffix, target_ds_mr)"
   ]
  },
  {
   "cell_type": "code",
   "execution_count": 13,
   "id": "881956a2-37da-4e06-9986-f72004946469",
   "metadata": {},
   "outputs": [
    {
     "name": "stderr",
     "output_type": "stream",
     "text": [
      "textattack: Unknown if model of class <class 'transformers.models.bert.modeling_bert.BertModel'> compatible with goal function <class 'textattack.goal_functions.classification.untargeted_classification.UntargetedClassification'>.\n",
      "textattack: Logging to CSV at path attack_results_new/bertmrattackrfsim09.csv\n"
     ]
    },
    {
     "name": "stdout",
     "output_type": "stream",
     "text": [
      "Attack(\n",
      "  (search_method): GreedyWordSwapWIR(\n",
      "    (wir_method):  delete\n",
      "  )\n",
      "  (goal_function):  UntargetedClassification\n",
      "  (transformation):  WordSwapEmbedding(\n",
      "    (max_candidates):  50\n",
      "    (embedding):  WordEmbedding\n",
      "  )\n",
      "  (constraints): \n",
      "    (0): WordEmbeddingDistance(\n",
      "        (embedding):  WordEmbedding\n",
      "        (min_cos_sim):  0.9\n",
      "        (cased):  False\n",
      "        (include_unknown_words):  True\n",
      "        (compare_against_original):  True\n",
      "      )\n",
      "    (1): PartOfSpeech(\n",
      "        (tagger_type):  nltk\n",
      "        (tagset):  universal\n",
      "        (allow_verb_noun_swap):  True\n",
      "        (compare_against_original):  True\n",
      "      )\n",
      "    (2): UniversalSentenceEncoder(\n",
      "        (metric):  angular\n",
      "        (threshold):  0.840845057\n",
      "        (window_size):  15\n",
      "        (skip_text_shorter_than_window):  True\n",
      "        (compare_against_original):  False\n",
      "      )\n",
      "    (3): RepeatModification\n",
      "    (4): StopwordModification\n",
      "    (5): InputColumnModification(\n",
      "        (matching_column_labels):  ['premise', 'hypothesis']\n",
      "        (columns_to_ignore):  {'premise'}\n",
      "      )\n",
      "  (is_black_box):  True\n",
      ") \n",
      "\n"
     ]
    },
    {
     "name": "stderr",
     "output_type": "stream",
     "text": [
      "[Succeeded / Failed / Skipped / Total] 1 / 3 / 1 / 5:   1%|▎                           | 5/500 [00:11<18:45,  2.27s/it]textattack: Saving checkpoint under \"checkpoints\\1720258597158.ta.chkpt\" at 2024-07-06 17:36:37 after 5 attacks.\n",
      "[Succeeded / Failed / Skipped / Total] 1 / 3 / 3 / 7:   1%|▍                           | 7/500 [00:11<13:33,  1.65s/it]"
     ]
    },
    {
     "name": "stdout",
     "output_type": "stream",
     "text": [
      "\n",
      "\n",
      "=============================================================================================================================\n",
      "=============================================================================================================================\n",
      "\n"
     ]
    },
    {
     "name": "stderr",
     "output_type": "stream",
     "text": [
      "[Succeeded / Failed / Skipped / Total] 1 / 5 / 4 / 10:   2%|▌                         | 10/500 [00:16<13:17,  1.63s/it]textattack: Saving checkpoint under \"checkpoints\\1720258602063.ta.chkpt\" at 2024-07-06 17:36:42 after 10 attacks.\n"
     ]
    },
    {
     "name": "stdout",
     "output_type": "stream",
     "text": [
      "\n",
      "\n",
      "=============================================================================================================================\n",
      "=============================================================================================================================\n",
      "\n"
     ]
    },
    {
     "name": "stderr",
     "output_type": "stream",
     "text": [
      "[Succeeded / Failed / Skipped / Total] 2 / 9 / 4 / 15:   3%|▊                         | 15/500 [00:24<13:13,  1.64s/it]textattack: Saving checkpoint under \"checkpoints\\1720258610343.ta.chkpt\" at 2024-07-06 17:36:50 after 15 attacks.\n"
     ]
    },
    {
     "name": "stdout",
     "output_type": "stream",
     "text": [
      "\n",
      "\n",
      "=============================================================================================================================\n",
      "=============================================================================================================================\n",
      "\n"
     ]
    },
    {
     "name": "stderr",
     "output_type": "stream",
     "text": [
      "[Succeeded / Failed / Skipped / Total] 2 / 12 / 6 / 20:   4%|█                        | 20/500 [00:27<10:59,  1.37s/it]textattack: Saving checkpoint under \"checkpoints\\1720258613267.ta.chkpt\" at 2024-07-06 17:36:53 after 20 attacks.\n"
     ]
    },
    {
     "name": "stdout",
     "output_type": "stream",
     "text": [
      "\n",
      "\n",
      "=============================================================================================================================\n",
      "=============================================================================================================================\n",
      "\n"
     ]
    },
    {
     "name": "stderr",
     "output_type": "stream",
     "text": [
      "[Succeeded / Failed / Skipped / Total] 5 / 13 / 7 / 25:   5%|█▎                       | 25/500 [00:33<10:45,  1.36s/it]textattack: Saving checkpoint under \"checkpoints\\1720258619748.ta.chkpt\" at 2024-07-06 17:36:59 after 25 attacks.\n"
     ]
    },
    {
     "name": "stdout",
     "output_type": "stream",
     "text": [
      "\n",
      "\n",
      "=============================================================================================================================\n",
      "=============================================================================================================================\n",
      "\n"
     ]
    },
    {
     "name": "stderr",
     "output_type": "stream",
     "text": [
      "[Succeeded / Failed / Skipped / Total] 5 / 17 / 8 / 30:   6%|█▌                       | 30/500 [00:38<10:06,  1.29s/it]textattack: Saving checkpoint under \"checkpoints\\1720258624497.ta.chkpt\" at 2024-07-06 17:37:04 after 30 attacks.\n"
     ]
    },
    {
     "name": "stdout",
     "output_type": "stream",
     "text": [
      "\n",
      "\n",
      "=============================================================================================================================\n",
      "=============================================================================================================================\n",
      "\n"
     ]
    },
    {
     "name": "stderr",
     "output_type": "stream",
     "text": [
      "[Succeeded / Failed / Skipped / Total] 8 / 18 / 9 / 35:   7%|█▊                       | 35/500 [00:41<09:11,  1.19s/it]textattack: Saving checkpoint under \"checkpoints\\1720258627297.ta.chkpt\" at 2024-07-06 17:37:07 after 35 attacks.\n"
     ]
    },
    {
     "name": "stdout",
     "output_type": "stream",
     "text": [
      "\n",
      "\n",
      "=============================================================================================================================\n",
      "=============================================================================================================================\n",
      "\n"
     ]
    },
    {
     "name": "stderr",
     "output_type": "stream",
     "text": [
      "[Succeeded / Failed / Skipped / Total] 8 / 20 / 12 / 40:   8%|█▉                      | 40/500 [00:44<08:34,  1.12s/it]textattack: Saving checkpoint under \"checkpoints\\1720258630503.ta.chkpt\" at 2024-07-06 17:37:10 after 40 attacks.\n"
     ]
    },
    {
     "name": "stdout",
     "output_type": "stream",
     "text": [
      "\n",
      "\n",
      "=============================================================================================================================\n",
      "=============================================================================================================================\n",
      "\n"
     ]
    },
    {
     "name": "stderr",
     "output_type": "stream",
     "text": [
      "[Succeeded / Failed / Skipped / Total] 10 / 22 / 13 / 45:   9%|██                     | 45/500 [00:50<08:35,  1.13s/it]textattack: Saving checkpoint under \"checkpoints\\1720258636749.ta.chkpt\" at 2024-07-06 17:37:16 after 45 attacks.\n"
     ]
    },
    {
     "name": "stdout",
     "output_type": "stream",
     "text": [
      "\n",
      "\n",
      "=============================================================================================================================\n",
      "=============================================================================================================================\n",
      "\n"
     ]
    },
    {
     "name": "stderr",
     "output_type": "stream",
     "text": [
      "[Succeeded / Failed / Skipped / Total] 14 / 23 / 13 / 50:  10%|██▎                    | 50/500 [00:57<08:35,  1.15s/it]textattack: Saving checkpoint under \"checkpoints\\1720258643071.ta.chkpt\" at 2024-07-06 17:37:23 after 50 attacks.\n"
     ]
    },
    {
     "name": "stdout",
     "output_type": "stream",
     "text": [
      "\n",
      "\n",
      "=============================================================================================================================\n",
      "=============================================================================================================================\n",
      "\n"
     ]
    },
    {
     "name": "stderr",
     "output_type": "stream",
     "text": [
      "[Succeeded / Failed / Skipped / Total] 16 / 25 / 14 / 55:  11%|██▌                    | 55/500 [01:04<08:40,  1.17s/it]textattack: Saving checkpoint under \"checkpoints\\1720258650100.ta.chkpt\" at 2024-07-06 17:37:30 after 55 attacks.\n"
     ]
    },
    {
     "name": "stdout",
     "output_type": "stream",
     "text": [
      "\n",
      "\n",
      "=============================================================================================================================\n",
      "=============================================================================================================================\n",
      "\n"
     ]
    },
    {
     "name": "stderr",
     "output_type": "stream",
     "text": [
      "[Succeeded / Failed / Skipped / Total] 19 / 26 / 15 / 60:  12%|██▊                    | 60/500 [01:08<08:19,  1.14s/it]textattack: Saving checkpoint under \"checkpoints\\1720258653948.ta.chkpt\" at 2024-07-06 17:37:33 after 60 attacks.\n"
     ]
    },
    {
     "name": "stdout",
     "output_type": "stream",
     "text": [
      "\n",
      "\n",
      "=============================================================================================================================\n",
      "=============================================================================================================================\n",
      "\n"
     ]
    },
    {
     "name": "stderr",
     "output_type": "stream",
     "text": [
      "[Succeeded / Failed / Skipped / Total] 21 / 27 / 17 / 65:  13%|██▉                    | 65/500 [01:10<07:53,  1.09s/it]textattack: Saving checkpoint under \"checkpoints\\1720258656467.ta.chkpt\" at 2024-07-06 17:37:36 after 65 attacks.\n"
     ]
    },
    {
     "name": "stdout",
     "output_type": "stream",
     "text": [
      "\n",
      "\n",
      "=============================================================================================================================\n",
      "=============================================================================================================================\n",
      "\n"
     ]
    },
    {
     "name": "stderr",
     "output_type": "stream",
     "text": [
      "[Succeeded / Failed / Skipped / Total] 23 / 29 / 18 / 70:  14%|███▏                   | 70/500 [01:14<07:37,  1.06s/it]textattack: Saving checkpoint under \"checkpoints\\1720258660290.ta.chkpt\" at 2024-07-06 17:37:40 after 70 attacks.\n"
     ]
    },
    {
     "name": "stdout",
     "output_type": "stream",
     "text": [
      "\n",
      "\n",
      "=============================================================================================================================\n",
      "=============================================================================================================================\n",
      "\n"
     ]
    },
    {
     "name": "stderr",
     "output_type": "stream",
     "text": [
      "[Succeeded / Failed / Skipped / Total] 27 / 30 / 18 / 75:  15%|███▍                   | 75/500 [01:18<07:24,  1.05s/it]textattack: Saving checkpoint under \"checkpoints\\1720258664303.ta.chkpt\" at 2024-07-06 17:37:44 after 75 attacks.\n",
      "[Succeeded / Failed / Skipped / Total] 27 / 30 / 19 / 76:  15%|███▍                   | 76/500 [01:18<07:18,  1.03s/it]"
     ]
    },
    {
     "name": "stdout",
     "output_type": "stream",
     "text": [
      "\n",
      "\n",
      "=============================================================================================================================\n",
      "=============================================================================================================================\n",
      "\n"
     ]
    },
    {
     "name": "stderr",
     "output_type": "stream",
     "text": [
      "[Succeeded / Failed / Skipped / Total] 27 / 33 / 20 / 80:  16%|███▋                   | 80/500 [01:23<07:17,  1.04s/it]textattack: Saving checkpoint under \"checkpoints\\1720258669166.ta.chkpt\" at 2024-07-06 17:37:49 after 80 attacks.\n",
      "[Succeeded / Failed / Skipped / Total] 27 / 33 / 22 / 82:  16%|███▊                   | 82/500 [01:23<07:05,  1.02s/it]"
     ]
    },
    {
     "name": "stdout",
     "output_type": "stream",
     "text": [
      "\n",
      "\n",
      "=============================================================================================================================\n",
      "=============================================================================================================================\n",
      "\n"
     ]
    },
    {
     "name": "stderr",
     "output_type": "stream",
     "text": [
      "[Succeeded / Failed / Skipped / Total] 30 / 33 / 22 / 85:  17%|███▉                   | 85/500 [01:25<06:57,  1.00s/it]textattack: Saving checkpoint under \"checkpoints\\1720258671199.ta.chkpt\" at 2024-07-06 17:37:51 after 85 attacks.\n"
     ]
    },
    {
     "name": "stdout",
     "output_type": "stream",
     "text": [
      "\n",
      "\n",
      "=============================================================================================================================\n",
      "=============================================================================================================================\n",
      "\n"
     ]
    },
    {
     "name": "stderr",
     "output_type": "stream",
     "text": [
      "[Succeeded / Failed / Skipped / Total] 32 / 35 / 23 / 90:  18%|████▏                  | 90/500 [01:32<07:00,  1.03s/it]textattack: Saving checkpoint under \"checkpoints\\1720258678053.ta.chkpt\" at 2024-07-06 17:37:58 after 90 attacks.\n",
      "[Succeeded / Failed / Skipped / Total] 32 / 35 / 24 / 91:  18%|████▏                  | 91/500 [01:32<06:55,  1.02s/it]"
     ]
    },
    {
     "name": "stdout",
     "output_type": "stream",
     "text": [
      "\n",
      "\n",
      "=============================================================================================================================\n",
      "=============================================================================================================================\n",
      "\n"
     ]
    },
    {
     "name": "stderr",
     "output_type": "stream",
     "text": [
      "[Succeeded / Failed / Skipped / Total] 33 / 35 / 27 / 95:  19%|████▎                  | 95/500 [01:33<06:37,  1.02it/s]textattack: Saving checkpoint under \"checkpoints\\1720258679097.ta.chkpt\" at 2024-07-06 17:37:59 after 95 attacks.\n",
      "[Succeeded / Failed / Skipped / Total] 33 / 35 / 28 / 96:  19%|████▍                  | 96/500 [01:33<06:33,  1.03it/s]"
     ]
    },
    {
     "name": "stdout",
     "output_type": "stream",
     "text": [
      "\n",
      "\n",
      "=============================================================================================================================\n",
      "=============================================================================================================================\n",
      "\n"
     ]
    },
    {
     "name": "stderr",
     "output_type": "stream",
     "text": [
      "[Succeeded / Failed / Skipped / Total] 34 / 38 / 28 / 100:  20%|████▏                | 100/500 [01:37<06:30,  1.02it/s]textattack: Saving checkpoint under \"checkpoints\\1720258683351.ta.chkpt\" at 2024-07-06 17:38:03 after 100 attacks.\n",
      "[Succeeded / Failed / Skipped / Total] 34 / 38 / 29 / 101:  20%|████▏                | 101/500 [01:37<06:25,  1.03it/s]"
     ]
    },
    {
     "name": "stdout",
     "output_type": "stream",
     "text": [
      "\n",
      "\n",
      "=============================================================================================================================\n",
      "=============================================================================================================================\n",
      "\n"
     ]
    },
    {
     "name": "stderr",
     "output_type": "stream",
     "text": [
      "[Succeeded / Failed / Skipped / Total] 36 / 40 / 29 / 105:  21%|████▍                | 105/500 [01:43<06:31,  1.01it/s]textattack: Saving checkpoint under \"checkpoints\\1720258689777.ta.chkpt\" at 2024-07-06 17:38:09 after 105 attacks.\n",
      "[Succeeded / Failed / Skipped / Total] 36 / 40 / 30 / 106:  21%|████▍                | 106/500 [01:44<06:26,  1.02it/s]"
     ]
    },
    {
     "name": "stdout",
     "output_type": "stream",
     "text": [
      "\n",
      "\n",
      "=============================================================================================================================\n",
      "=============================================================================================================================\n",
      "\n"
     ]
    },
    {
     "name": "stderr",
     "output_type": "stream",
     "text": [
      "[Succeeded / Failed / Skipped / Total] 39 / 41 / 30 / 110:  22%|████▌                | 110/500 [01:47<06:22,  1.02it/s]textattack: Saving checkpoint under \"checkpoints\\1720258693651.ta.chkpt\" at 2024-07-06 17:38:13 after 110 attacks.\n",
      "[Succeeded / Failed / Skipped / Total] 39 / 41 / 31 / 111:  22%|████▋                | 111/500 [01:47<06:18,  1.03it/s]"
     ]
    },
    {
     "name": "stdout",
     "output_type": "stream",
     "text": [
      "\n",
      "\n",
      "=============================================================================================================================\n",
      "=============================================================================================================================\n",
      "\n"
     ]
    },
    {
     "name": "stderr",
     "output_type": "stream",
     "text": [
      "[Succeeded / Failed / Skipped / Total] 42 / 42 / 31 / 115:  23%|████▊                | 115/500 [01:52<06:17,  1.02it/s]textattack: Saving checkpoint under \"checkpoints\\1720258698522.ta.chkpt\" at 2024-07-06 17:38:18 after 115 attacks.\n",
      "[Succeeded / Failed / Skipped / Total] 42 / 42 / 32 / 116:  23%|████▊                | 116/500 [01:52<06:13,  1.03it/s]"
     ]
    },
    {
     "name": "stdout",
     "output_type": "stream",
     "text": [
      "\n",
      "\n",
      "=============================================================================================================================\n",
      "=============================================================================================================================\n",
      "\n"
     ]
    },
    {
     "name": "stderr",
     "output_type": "stream",
     "text": [
      "[Succeeded / Failed / Skipped / Total] 44 / 42 / 34 / 120:  24%|█████                | 120/500 [01:54<06:01,  1.05it/s]textattack: Saving checkpoint under \"checkpoints\\1720258699815.ta.chkpt\" at 2024-07-06 17:38:19 after 120 attacks.\n"
     ]
    },
    {
     "name": "stdout",
     "output_type": "stream",
     "text": [
      "\n",
      "\n",
      "=============================================================================================================================\n",
      "=============================================================================================================================\n",
      "\n"
     ]
    },
    {
     "name": "stderr",
     "output_type": "stream",
     "text": [
      "[Succeeded / Failed / Skipped / Total] 46 / 43 / 36 / 125:  25%|█████▎               | 125/500 [01:59<05:58,  1.05it/s]textattack: Saving checkpoint under \"checkpoints\\1720258705123.ta.chkpt\" at 2024-07-06 17:38:25 after 125 attacks.\n"
     ]
    },
    {
     "name": "stdout",
     "output_type": "stream",
     "text": [
      "\n",
      "\n",
      "=============================================================================================================================\n",
      "=============================================================================================================================\n",
      "\n"
     ]
    },
    {
     "name": "stderr",
     "output_type": "stream",
     "text": [
      "[Succeeded / Failed / Skipped / Total] 49 / 45 / 36 / 130:  26%|█████▍               | 130/500 [02:05<05:56,  1.04it/s]textattack: Saving checkpoint under \"checkpoints\\1720258710894.ta.chkpt\" at 2024-07-06 17:38:30 after 130 attacks.\n",
      "[Succeeded / Failed / Skipped / Total] 49 / 45 / 37 / 131:  26%|█████▌               | 131/500 [02:05<05:52,  1.05it/s]"
     ]
    },
    {
     "name": "stdout",
     "output_type": "stream",
     "text": [
      "\n",
      "\n",
      "=============================================================================================================================\n",
      "=============================================================================================================================\n",
      "\n"
     ]
    },
    {
     "name": "stderr",
     "output_type": "stream",
     "text": [
      "[Succeeded / Failed / Skipped / Total] 50 / 48 / 37 / 135:  27%|█████▋               | 135/500 [02:12<05:57,  1.02it/s]textattack: Saving checkpoint under \"checkpoints\\1720258717979.ta.chkpt\" at 2024-07-06 17:38:37 after 135 attacks.\n",
      "[Succeeded / Failed / Skipped / Total] 50 / 48 / 38 / 136:  27%|█████▋               | 136/500 [02:12<05:54,  1.03it/s]"
     ]
    },
    {
     "name": "stdout",
     "output_type": "stream",
     "text": [
      "\n",
      "\n",
      "=============================================================================================================================\n",
      "=============================================================================================================================\n",
      "\n"
     ]
    },
    {
     "name": "stderr",
     "output_type": "stream",
     "text": [
      "[Succeeded / Failed / Skipped / Total] 53 / 49 / 38 / 140:  28%|█████▉               | 140/500 [02:16<05:51,  1.03it/s]textattack: Saving checkpoint under \"checkpoints\\1720258722328.ta.chkpt\" at 2024-07-06 17:38:42 after 140 attacks.\n"
     ]
    },
    {
     "name": "stdout",
     "output_type": "stream",
     "text": [
      "\n",
      "\n",
      "=============================================================================================================================\n",
      "=============================================================================================================================\n",
      "\n"
     ]
    },
    {
     "name": "stderr",
     "output_type": "stream",
     "text": [
      "[Succeeded / Failed / Skipped / Total] 55 / 51 / 39 / 145:  29%|██████               | 145/500 [02:20<05:43,  1.03it/s]textattack: Saving checkpoint under \"checkpoints\\1720258726076.ta.chkpt\" at 2024-07-06 17:38:46 after 145 attacks.\n",
      "[Succeeded / Failed / Skipped / Total] 55 / 51 / 40 / 146:  29%|██████▏              | 146/500 [02:20<05:40,  1.04it/s]"
     ]
    },
    {
     "name": "stdout",
     "output_type": "stream",
     "text": [
      "\n",
      "\n",
      "=============================================================================================================================\n",
      "=============================================================================================================================\n",
      "\n"
     ]
    },
    {
     "name": "stderr",
     "output_type": "stream",
     "text": [
      "[Succeeded / Failed / Skipped / Total] 56 / 52 / 42 / 150:  30%|██████▎              | 150/500 [02:21<05:30,  1.06it/s]textattack: Saving checkpoint under \"checkpoints\\1720258727610.ta.chkpt\" at 2024-07-06 17:38:47 after 150 attacks.\n"
     ]
    },
    {
     "name": "stdout",
     "output_type": "stream",
     "text": [
      "\n",
      "\n",
      "=============================================================================================================================\n",
      "=============================================================================================================================\n",
      "\n"
     ]
    },
    {
     "name": "stderr",
     "output_type": "stream",
     "text": [
      "[Succeeded / Failed / Skipped / Total] 58 / 54 / 43 / 155:  31%|██████▌              | 155/500 [02:25<05:24,  1.06it/s]textattack: Saving checkpoint under \"checkpoints\\1720258731765.ta.chkpt\" at 2024-07-06 17:38:51 after 155 attacks.\n"
     ]
    },
    {
     "name": "stdout",
     "output_type": "stream",
     "text": [
      "\n",
      "\n",
      "=============================================================================================================================\n",
      "=============================================================================================================================\n",
      "\n"
     ]
    },
    {
     "name": "stderr",
     "output_type": "stream",
     "text": [
      "[Succeeded / Failed / Skipped / Total] 60 / 55 / 45 / 160:  32%|██████▋              | 160/500 [02:31<05:21,  1.06it/s]textattack: Saving checkpoint under \"checkpoints\\1720258737139.ta.chkpt\" at 2024-07-06 17:38:57 after 160 attacks.\n",
      "[Succeeded / Failed / Skipped / Total] 60 / 55 / 46 / 161:  32%|██████▊              | 161/500 [02:31<05:18,  1.06it/s]"
     ]
    },
    {
     "name": "stdout",
     "output_type": "stream",
     "text": [
      "\n",
      "\n",
      "=============================================================================================================================\n",
      "=============================================================================================================================\n",
      "\n"
     ]
    },
    {
     "name": "stderr",
     "output_type": "stream",
     "text": [
      "[Succeeded / Failed / Skipped / Total] 62 / 56 / 47 / 165:  33%|██████▉              | 165/500 [02:34<05:14,  1.07it/s]textattack: Saving checkpoint under \"checkpoints\\1720258740595.ta.chkpt\" at 2024-07-06 17:39:00 after 165 attacks.\n",
      "[Succeeded / Failed / Skipped / Total] 62 / 56 / 48 / 166:  33%|██████▉              | 166/500 [02:34<05:11,  1.07it/s]"
     ]
    },
    {
     "name": "stdout",
     "output_type": "stream",
     "text": [
      "\n",
      "\n",
      "=============================================================================================================================\n",
      "=============================================================================================================================\n",
      "\n"
     ]
    },
    {
     "name": "stderr",
     "output_type": "stream",
     "text": [
      "[Succeeded / Failed / Skipped / Total] 64 / 57 / 49 / 170:  34%|███████▏             | 170/500 [02:37<05:06,  1.08it/s]textattack: Saving checkpoint under \"checkpoints\\1720258743459.ta.chkpt\" at 2024-07-06 17:39:03 after 170 attacks.\n"
     ]
    },
    {
     "name": "stdout",
     "output_type": "stream",
     "text": [
      "\n",
      "\n",
      "=============================================================================================================================\n",
      "=============================================================================================================================\n",
      "\n"
     ]
    },
    {
     "name": "stderr",
     "output_type": "stream",
     "text": [
      "[Succeeded / Failed / Skipped / Total] 65 / 60 / 50 / 175:  35%|███████▎             | 175/500 [02:45<05:08,  1.05it/s]textattack: Saving checkpoint under \"checkpoints\\1720258751780.ta.chkpt\" at 2024-07-06 17:39:11 after 175 attacks.\n",
      "[Succeeded / Failed / Skipped / Total] 65 / 60 / 51 / 176:  35%|███████▍             | 176/500 [02:46<05:05,  1.06it/s]"
     ]
    },
    {
     "name": "stdout",
     "output_type": "stream",
     "text": [
      "\n",
      "\n",
      "=============================================================================================================================\n",
      "=============================================================================================================================\n",
      "\n"
     ]
    },
    {
     "name": "stderr",
     "output_type": "stream",
     "text": [
      "[Succeeded / Failed / Skipped / Total] 65 / 63 / 52 / 180:  36%|███████▌             | 180/500 [02:49<05:01,  1.06it/s]textattack: Saving checkpoint under \"checkpoints\\1720258755304.ta.chkpt\" at 2024-07-06 17:39:15 after 180 attacks.\n",
      "[Succeeded / Failed / Skipped / Total] 65 / 63 / 53 / 181:  36%|███████▌             | 181/500 [02:49<04:58,  1.07it/s]"
     ]
    },
    {
     "name": "stdout",
     "output_type": "stream",
     "text": [
      "\n",
      "\n",
      "=============================================================================================================================\n",
      "=============================================================================================================================\n",
      "\n"
     ]
    },
    {
     "name": "stderr",
     "output_type": "stream",
     "text": [
      "[Succeeded / Failed / Skipped / Total] 65 / 64 / 56 / 185:  37%|███████▊             | 185/500 [02:50<04:50,  1.09it/s]textattack: Saving checkpoint under \"checkpoints\\1720258756275.ta.chkpt\" at 2024-07-06 17:39:16 after 185 attacks.\n"
     ]
    },
    {
     "name": "stdout",
     "output_type": "stream",
     "text": [
      "\n",
      "\n",
      "=============================================================================================================================\n",
      "=============================================================================================================================\n",
      "\n"
     ]
    },
    {
     "name": "stderr",
     "output_type": "stream",
     "text": [
      "[Succeeded / Failed / Skipped / Total] 67 / 67 / 56 / 190:  38%|███████▉             | 190/500 [02:58<04:51,  1.06it/s]textattack: Saving checkpoint under \"checkpoints\\1720258764470.ta.chkpt\" at 2024-07-06 17:39:24 after 190 attacks.\n"
     ]
    },
    {
     "name": "stdout",
     "output_type": "stream",
     "text": [
      "\n",
      "\n",
      "=============================================================================================================================\n",
      "=============================================================================================================================\n",
      "\n"
     ]
    },
    {
     "name": "stderr",
     "output_type": "stream",
     "text": [
      "[Succeeded / Failed / Skipped / Total] 69 / 69 / 57 / 195:  39%|████████▏            | 195/500 [03:05<04:50,  1.05it/s]textattack: Saving checkpoint under \"checkpoints\\1720258771344.ta.chkpt\" at 2024-07-06 17:39:31 after 195 attacks.\n"
     ]
    },
    {
     "name": "stdout",
     "output_type": "stream",
     "text": [
      "\n",
      "\n",
      "=============================================================================================================================\n",
      "=============================================================================================================================\n",
      "\n"
     ]
    },
    {
     "name": "stderr",
     "output_type": "stream",
     "text": [
      "[Succeeded / Failed / Skipped / Total] 69 / 73 / 58 / 200:  40%|████████▍            | 200/500 [03:16<04:54,  1.02it/s]textattack: Saving checkpoint under \"checkpoints\\1720258782049.ta.chkpt\" at 2024-07-06 17:39:42 after 200 attacks.\n"
     ]
    },
    {
     "name": "stdout",
     "output_type": "stream",
     "text": [
      "\n",
      "\n",
      "=============================================================================================================================\n",
      "=============================================================================================================================\n",
      "\n"
     ]
    },
    {
     "name": "stderr",
     "output_type": "stream",
     "text": [
      "[Succeeded / Failed / Skipped / Total] 70 / 76 / 59 / 205:  41%|████████▌            | 205/500 [03:20<04:49,  1.02it/s]textattack: Saving checkpoint under \"checkpoints\\1720258786672.ta.chkpt\" at 2024-07-06 17:39:46 after 205 attacks.\n",
      "[Succeeded / Failed / Skipped / Total] 70 / 76 / 60 / 206:  41%|████████▋            | 206/500 [03:21<04:46,  1.02it/s]"
     ]
    },
    {
     "name": "stdout",
     "output_type": "stream",
     "text": [
      "\n",
      "\n",
      "=============================================================================================================================\n",
      "=============================================================================================================================\n",
      "\n"
     ]
    },
    {
     "name": "stderr",
     "output_type": "stream",
     "text": [
      "[Succeeded / Failed / Skipped / Total] 73 / 77 / 60 / 210:  42%|████████▊            | 210/500 [03:23<04:41,  1.03it/s]textattack: Saving checkpoint under \"checkpoints\\1720258789781.ta.chkpt\" at 2024-07-06 17:39:49 after 210 attacks.\n"
     ]
    },
    {
     "name": "stdout",
     "output_type": "stream",
     "text": [
      "\n",
      "\n",
      "=============================================================================================================================\n",
      "=============================================================================================================================\n",
      "\n"
     ]
    },
    {
     "name": "stderr",
     "output_type": "stream",
     "text": [
      "[Succeeded / Failed / Skipped / Total] 73 / 81 / 61 / 215:  43%|█████████            | 215/500 [03:28<04:36,  1.03it/s]textattack: Saving checkpoint under \"checkpoints\\1720258794560.ta.chkpt\" at 2024-07-06 17:39:54 after 215 attacks.\n"
     ]
    },
    {
     "name": "stdout",
     "output_type": "stream",
     "text": [
      "\n",
      "\n",
      "=============================================================================================================================\n",
      "=============================================================================================================================\n",
      "\n"
     ]
    },
    {
     "name": "stderr",
     "output_type": "stream",
     "text": [
      "[Succeeded / Failed / Skipped / Total] 76 / 83 / 61 / 220:  44%|█████████▏           | 220/500 [03:32<04:30,  1.03it/s]textattack: Saving checkpoint under \"checkpoints\\1720258798673.ta.chkpt\" at 2024-07-06 17:39:58 after 220 attacks.\n"
     ]
    },
    {
     "name": "stdout",
     "output_type": "stream",
     "text": [
      "\n",
      "\n",
      "=============================================================================================================================\n",
      "=============================================================================================================================\n",
      "\n"
     ]
    },
    {
     "name": "stderr",
     "output_type": "stream",
     "text": [
      "[Succeeded / Failed / Skipped / Total] 76 / 87 / 62 / 225:  45%|█████████▍           | 225/500 [03:40<04:29,  1.02it/s]textattack: Saving checkpoint under \"checkpoints\\1720258806540.ta.chkpt\" at 2024-07-06 17:40:06 after 225 attacks.\n"
     ]
    },
    {
     "name": "stdout",
     "output_type": "stream",
     "text": [
      "\n",
      "\n",
      "=============================================================================================================================\n",
      "=============================================================================================================================\n",
      "\n"
     ]
    },
    {
     "name": "stderr",
     "output_type": "stream",
     "text": [
      "[Succeeded / Failed / Skipped / Total] 76 / 88 / 66 / 230:  46%|█████████▋           | 230/500 [03:42<04:21,  1.03it/s]textattack: Saving checkpoint under \"checkpoints\\1720258808411.ta.chkpt\" at 2024-07-06 17:40:08 after 230 attacks.\n"
     ]
    },
    {
     "name": "stdout",
     "output_type": "stream",
     "text": [
      "\n",
      "\n",
      "=============================================================================================================================\n",
      "=============================================================================================================================\n",
      "\n"
     ]
    },
    {
     "name": "stderr",
     "output_type": "stream",
     "text": [
      "[Succeeded / Failed / Skipped / Total] 78 / 91 / 66 / 235:  47%|█████████▊           | 235/500 [03:49<04:18,  1.03it/s]textattack: Saving checkpoint under \"checkpoints\\1720258814950.ta.chkpt\" at 2024-07-06 17:40:14 after 235 attacks.\n",
      "[Succeeded / Failed / Skipped / Total] 78 / 91 / 67 / 236:  47%|█████████▉           | 236/500 [03:49<04:16,  1.03it/s]"
     ]
    },
    {
     "name": "stdout",
     "output_type": "stream",
     "text": [
      "\n",
      "\n",
      "=============================================================================================================================\n",
      "=============================================================================================================================\n",
      "\n"
     ]
    },
    {
     "name": "stderr",
     "output_type": "stream",
     "text": [
      "[Succeeded / Failed / Skipped / Total] 78 / 94 / 68 / 240:  48%|██████████           | 240/500 [03:52<04:11,  1.03it/s]textattack: Saving checkpoint under \"checkpoints\\1720258817933.ta.chkpt\" at 2024-07-06 17:40:17 after 240 attacks.\n"
     ]
    },
    {
     "name": "stdout",
     "output_type": "stream",
     "text": [
      "\n",
      "\n",
      "=============================================================================================================================\n",
      "=============================================================================================================================\n",
      "\n"
     ]
    },
    {
     "name": "stderr",
     "output_type": "stream",
     "text": [
      "[Succeeded / Failed / Skipped / Total] 79 / 97 / 69 / 245:  49%|██████████▎          | 245/500 [03:57<04:07,  1.03it/s]textattack: Saving checkpoint under \"checkpoints\\1720258823596.ta.chkpt\" at 2024-07-06 17:40:23 after 245 attacks.\n"
     ]
    },
    {
     "name": "stdout",
     "output_type": "stream",
     "text": [
      "\n",
      "\n",
      "=============================================================================================================================\n",
      "=============================================================================================================================\n",
      "\n"
     ]
    },
    {
     "name": "stderr",
     "output_type": "stream",
     "text": [
      "[Succeeded / Failed / Skipped / Total] 79 / 100 / 71 / 250:  50%|██████████          | 250/500 [04:00<04:00,  1.04it/s]textattack: Saving checkpoint under \"checkpoints\\1720258826314.ta.chkpt\" at 2024-07-06 17:40:26 after 250 attacks.\n"
     ]
    },
    {
     "name": "stdout",
     "output_type": "stream",
     "text": [
      "\n",
      "\n",
      "=============================================================================================================================\n",
      "=============================================================================================================================\n",
      "\n"
     ]
    },
    {
     "name": "stderr",
     "output_type": "stream",
     "text": [
      "[Succeeded / Failed / Skipped / Total] 82 / 101 / 72 / 255:  51%|██████████▏         | 255/500 [04:06<03:56,  1.03it/s]textattack: Saving checkpoint under \"checkpoints\\1720258832388.ta.chkpt\" at 2024-07-06 17:40:32 after 255 attacks.\n"
     ]
    },
    {
     "name": "stdout",
     "output_type": "stream",
     "text": [
      "\n",
      "\n",
      "=============================================================================================================================\n",
      "=============================================================================================================================\n",
      "\n"
     ]
    },
    {
     "name": "stderr",
     "output_type": "stream",
     "text": [
      "[Succeeded / Failed / Skipped / Total] 83 / 103 / 74 / 260:  52%|██████████▍         | 260/500 [04:10<03:50,  1.04it/s]textattack: Saving checkpoint under \"checkpoints\\1720258835891.ta.chkpt\" at 2024-07-06 17:40:35 after 260 attacks.\n"
     ]
    },
    {
     "name": "stdout",
     "output_type": "stream",
     "text": [
      "\n",
      "\n",
      "=============================================================================================================================\n",
      "=============================================================================================================================\n",
      "\n"
     ]
    },
    {
     "name": "stderr",
     "output_type": "stream",
     "text": [
      "[Succeeded / Failed / Skipped / Total] 84 / 106 / 75 / 265:  53%|██████████▌         | 265/500 [04:14<03:45,  1.04it/s]textattack: Saving checkpoint under \"checkpoints\\1720258840606.ta.chkpt\" at 2024-07-06 17:40:40 after 265 attacks.\n"
     ]
    },
    {
     "name": "stdout",
     "output_type": "stream",
     "text": [
      "\n",
      "\n",
      "=============================================================================================================================\n",
      "=============================================================================================================================\n",
      "\n"
     ]
    },
    {
     "name": "stderr",
     "output_type": "stream",
     "text": [
      "[Succeeded / Failed / Skipped / Total] 86 / 108 / 76 / 270:  54%|██████████▊         | 270/500 [04:21<03:42,  1.03it/s]textattack: Saving checkpoint under \"checkpoints\\1720258847152.ta.chkpt\" at 2024-07-06 17:40:47 after 270 attacks.\n",
      "[Succeeded / Failed / Skipped / Total] 86 / 108 / 77 / 271:  54%|██████████▊         | 271/500 [04:21<03:40,  1.04it/s]"
     ]
    },
    {
     "name": "stdout",
     "output_type": "stream",
     "text": [
      "\n",
      "\n",
      "=============================================================================================================================\n",
      "=============================================================================================================================\n",
      "\n"
     ]
    },
    {
     "name": "stderr",
     "output_type": "stream",
     "text": [
      "[Succeeded / Failed / Skipped / Total] 86 / 109 / 80 / 275:  55%|███████████         | 275/500 [04:23<03:35,  1.04it/s]textattack: Saving checkpoint under \"checkpoints\\1720258849577.ta.chkpt\" at 2024-07-06 17:40:49 after 275 attacks.\n"
     ]
    },
    {
     "name": "stdout",
     "output_type": "stream",
     "text": [
      "\n",
      "\n",
      "=============================================================================================================================\n",
      "=============================================================================================================================\n",
      "\n"
     ]
    },
    {
     "name": "stderr",
     "output_type": "stream",
     "text": [
      "[Succeeded / Failed / Skipped / Total] 87 / 111 / 82 / 280:  56%|███████████▏        | 280/500 [04:27<03:30,  1.05it/s]textattack: Saving checkpoint under \"checkpoints\\1720258853094.ta.chkpt\" at 2024-07-06 17:40:53 after 280 attacks.\n"
     ]
    },
    {
     "name": "stdout",
     "output_type": "stream",
     "text": [
      "\n",
      "\n",
      "=============================================================================================================================\n",
      "=============================================================================================================================\n",
      "\n"
     ]
    },
    {
     "name": "stderr",
     "output_type": "stream",
     "text": [
      "[Succeeded / Failed / Skipped / Total] 87 / 113 / 85 / 285:  57%|███████████▍        | 285/500 [04:29<03:23,  1.06it/s]textattack: Saving checkpoint under \"checkpoints\\1720258854895.ta.chkpt\" at 2024-07-06 17:40:54 after 285 attacks.\n",
      "[Succeeded / Failed / Skipped / Total] 87 / 113 / 85 / 285:  57%|███████████▍        | 286/500 [04:29<03:21,  1.06it/s]"
     ]
    },
    {
     "name": "stdout",
     "output_type": "stream",
     "text": [
      "\n",
      "\n",
      "=============================================================================================================================\n",
      "=============================================================================================================================\n",
      "\n"
     ]
    },
    {
     "name": "stderr",
     "output_type": "stream",
     "text": [
      "[Succeeded / Failed / Skipped / Total] 88 / 114 / 88 / 290:  58%|███████████▌        | 290/500 [04:33<03:18,  1.06it/s]textattack: Saving checkpoint under \"checkpoints\\1720258859415.ta.chkpt\" at 2024-07-06 17:40:59 after 290 attacks.\n"
     ]
    },
    {
     "name": "stdout",
     "output_type": "stream",
     "text": [
      "\n",
      "\n",
      "=============================================================================================================================\n",
      "=============================================================================================================================\n",
      "\n"
     ]
    },
    {
     "name": "stderr",
     "output_type": "stream",
     "text": [
      "[Succeeded / Failed / Skipped / Total] 89 / 116 / 90 / 295:  59%|███████████▊        | 295/500 [04:37<03:12,  1.06it/s]textattack: Saving checkpoint under \"checkpoints\\1720258863338.ta.chkpt\" at 2024-07-06 17:41:03 after 295 attacks.\n"
     ]
    },
    {
     "name": "stdout",
     "output_type": "stream",
     "text": [
      "\n",
      "\n",
      "=============================================================================================================================\n",
      "=============================================================================================================================\n",
      "\n"
     ]
    },
    {
     "name": "stderr",
     "output_type": "stream",
     "text": [
      "[Succeeded / Failed / Skipped / Total] 92 / 117 / 91 / 300:  60%|████████████        | 300/500 [04:40<03:07,  1.07it/s]textattack: Saving checkpoint under \"checkpoints\\1720258866405.ta.chkpt\" at 2024-07-06 17:41:06 after 300 attacks.\n"
     ]
    },
    {
     "name": "stdout",
     "output_type": "stream",
     "text": [
      "\n",
      "\n",
      "=============================================================================================================================\n",
      "=============================================================================================================================\n",
      "\n"
     ]
    },
    {
     "name": "stderr",
     "output_type": "stream",
     "text": [
      "[Succeeded / Failed / Skipped / Total] 93 / 120 / 92 / 305:  61%|████████████▏       | 305/500 [04:46<03:03,  1.06it/s]textattack: Saving checkpoint under \"checkpoints\\1720258872428.ta.chkpt\" at 2024-07-06 17:41:12 after 305 attacks.\n"
     ]
    },
    {
     "name": "stdout",
     "output_type": "stream",
     "text": [
      "\n",
      "\n",
      "=============================================================================================================================\n",
      "=============================================================================================================================\n",
      "\n"
     ]
    },
    {
     "name": "stderr",
     "output_type": "stream",
     "text": [
      "[Succeeded / Failed / Skipped / Total] 94 / 124 / 92 / 310:  62%|████████████▍       | 310/500 [04:49<02:57,  1.07it/s]textattack: Saving checkpoint under \"checkpoints\\1720258875527.ta.chkpt\" at 2024-07-06 17:41:15 after 310 attacks.\n"
     ]
    },
    {
     "name": "stdout",
     "output_type": "stream",
     "text": [
      "\n",
      "\n",
      "=============================================================================================================================\n",
      "=============================================================================================================================\n",
      "\n"
     ]
    },
    {
     "name": "stderr",
     "output_type": "stream",
     "text": [
      "[Succeeded / Failed / Skipped / Total] 94 / 126 / 95 / 315:  63%|████████████▌       | 315/500 [04:52<02:51,  1.08it/s]textattack: Saving checkpoint under \"checkpoints\\1720258878069.ta.chkpt\" at 2024-07-06 17:41:18 after 315 attacks.\n"
     ]
    },
    {
     "name": "stdout",
     "output_type": "stream",
     "text": [
      "\n",
      "\n",
      "=============================================================================================================================\n",
      "=============================================================================================================================\n",
      "\n"
     ]
    },
    {
     "name": "stderr",
     "output_type": "stream",
     "text": [
      "[Succeeded / Failed / Skipped / Total] 96 / 128 / 96 / 320:  64%|████████████▊       | 320/500 [05:01<02:49,  1.06it/s]textattack: Saving checkpoint under \"checkpoints\\1720258887661.ta.chkpt\" at 2024-07-06 17:41:27 after 320 attacks.\n"
     ]
    },
    {
     "name": "stdout",
     "output_type": "stream",
     "text": [
      "\n",
      "\n",
      "=============================================================================================================================\n",
      "=============================================================================================================================\n",
      "\n"
     ]
    },
    {
     "name": "stderr",
     "output_type": "stream",
     "text": [
      "[Succeeded / Failed / Skipped / Total] 97 / 130 / 98 / 325:  65%|█████████████       | 325/500 [05:11<02:47,  1.04it/s]textattack: Saving checkpoint under \"checkpoints\\1720258897122.ta.chkpt\" at 2024-07-06 17:41:37 after 325 attacks.\n"
     ]
    },
    {
     "name": "stdout",
     "output_type": "stream",
     "text": [
      "\n",
      "\n",
      "=============================================================================================================================\n",
      "=============================================================================================================================\n",
      "\n"
     ]
    },
    {
     "name": "stderr",
     "output_type": "stream",
     "text": [
      "[Succeeded / Failed / Skipped / Total] 99 / 132 / 99 / 330:  66%|█████████████▏      | 330/500 [05:14<02:42,  1.05it/s]textattack: Saving checkpoint under \"checkpoints\\1720258900705.ta.chkpt\" at 2024-07-06 17:41:40 after 330 attacks.\n"
     ]
    },
    {
     "name": "stdout",
     "output_type": "stream",
     "text": [
      "\n",
      "\n",
      "=============================================================================================================================\n",
      "=============================================================================================================================\n",
      "\n"
     ]
    },
    {
     "name": "stderr",
     "output_type": "stream",
     "text": [
      "[Succeeded / Failed / Skipped / Total] 100 / 136 / 99 / 335:  67%|████████████▋      | 335/500 [05:25<02:40,  1.03it/s]textattack: Saving checkpoint under \"checkpoints\\1720258910828.ta.chkpt\" at 2024-07-06 17:41:50 after 335 attacks.\n",
      "[Succeeded / Failed / Skipped / Total] 100 / 136 / 100 / 336:  67%|████████████      | 336/500 [05:25<02:38,  1.03it/s]"
     ]
    },
    {
     "name": "stdout",
     "output_type": "stream",
     "text": [
      "\n",
      "\n",
      "=============================================================================================================================\n",
      "=============================================================================================================================\n",
      "\n"
     ]
    },
    {
     "name": "stderr",
     "output_type": "stream",
     "text": [
      "[Succeeded / Failed / Skipped / Total] 101 / 138 / 101 / 340:  68%|████████████▏     | 340/500 [05:28<02:34,  1.04it/s]textattack: Saving checkpoint under \"checkpoints\\1720258913917.ta.chkpt\" at 2024-07-06 17:41:53 after 340 attacks.\n"
     ]
    },
    {
     "name": "stdout",
     "output_type": "stream",
     "text": [
      "\n",
      "\n",
      "=============================================================================================================================\n",
      "=============================================================================================================================\n",
      "\n"
     ]
    },
    {
     "name": "stderr",
     "output_type": "stream",
     "text": [
      "[Succeeded / Failed / Skipped / Total] 103 / 140 / 102 / 345:  69%|████████████▍     | 345/500 [05:33<02:29,  1.03it/s]textattack: Saving checkpoint under \"checkpoints\\1720258919511.ta.chkpt\" at 2024-07-06 17:41:59 after 345 attacks.\n"
     ]
    },
    {
     "name": "stdout",
     "output_type": "stream",
     "text": [
      "\n",
      "\n",
      "=============================================================================================================================\n",
      "=============================================================================================================================\n",
      "\n"
     ]
    },
    {
     "name": "stderr",
     "output_type": "stream",
     "text": [
      "[Succeeded / Failed / Skipped / Total] 104 / 142 / 104 / 350:  70%|████████████▌     | 350/500 [05:38<02:25,  1.03it/s]textattack: Saving checkpoint under \"checkpoints\\1720258924285.ta.chkpt\" at 2024-07-06 17:42:04 after 350 attacks.\n"
     ]
    },
    {
     "name": "stdout",
     "output_type": "stream",
     "text": [
      "\n",
      "\n",
      "=============================================================================================================================\n",
      "=============================================================================================================================\n",
      "\n"
     ]
    },
    {
     "name": "stderr",
     "output_type": "stream",
     "text": [
      "[Succeeded / Failed / Skipped / Total] 107 / 144 / 104 / 355:  71%|████████████▊     | 355/500 [05:45<02:21,  1.03it/s]textattack: Saving checkpoint under \"checkpoints\\1720258931719.ta.chkpt\" at 2024-07-06 17:42:11 after 355 attacks.\n"
     ]
    },
    {
     "name": "stdout",
     "output_type": "stream",
     "text": [
      "\n",
      "\n",
      "=============================================================================================================================\n",
      "=============================================================================================================================\n",
      "\n"
     ]
    },
    {
     "name": "stderr",
     "output_type": "stream",
     "text": [
      "[Succeeded / Failed / Skipped / Total] 108 / 147 / 105 / 360:  72%|████████████▉     | 360/500 [05:50<02:16,  1.03it/s]textattack: Saving checkpoint under \"checkpoints\\1720258936492.ta.chkpt\" at 2024-07-06 17:42:16 after 360 attacks.\n",
      "[Succeeded / Failed / Skipped / Total] 108 / 147 / 106 / 361:  72%|████████████▉     | 361/500 [05:50<02:15,  1.03it/s]"
     ]
    },
    {
     "name": "stdout",
     "output_type": "stream",
     "text": [
      "\n",
      "\n",
      "=============================================================================================================================\n",
      "=============================================================================================================================\n",
      "\n"
     ]
    },
    {
     "name": "stderr",
     "output_type": "stream",
     "text": [
      "[Succeeded / Failed / Skipped / Total] 110 / 149 / 106 / 365:  73%|█████████████▏    | 365/500 [05:53<02:10,  1.03it/s]textattack: Saving checkpoint under \"checkpoints\\1720258939465.ta.chkpt\" at 2024-07-06 17:42:19 after 365 attacks.\n"
     ]
    },
    {
     "name": "stdout",
     "output_type": "stream",
     "text": [
      "\n",
      "\n",
      "=============================================================================================================================\n",
      "=============================================================================================================================\n",
      "\n"
     ]
    },
    {
     "name": "stderr",
     "output_type": "stream",
     "text": [
      "[Succeeded / Failed / Skipped / Total] 114 / 150 / 106 / 370:  74%|█████████████▎    | 370/500 [05:57<02:05,  1.04it/s]textattack: Saving checkpoint under \"checkpoints\\1720258942917.ta.chkpt\" at 2024-07-06 17:42:22 after 370 attacks.\n"
     ]
    },
    {
     "name": "stdout",
     "output_type": "stream",
     "text": [
      "\n",
      "\n",
      "=============================================================================================================================\n",
      "=============================================================================================================================\n",
      "\n"
     ]
    },
    {
     "name": "stderr",
     "output_type": "stream",
     "text": [
      "[Succeeded / Failed / Skipped / Total] 116 / 152 / 107 / 375:  75%|█████████████▌    | 375/500 [06:02<02:00,  1.03it/s]textattack: Saving checkpoint under \"checkpoints\\1720258948239.ta.chkpt\" at 2024-07-06 17:42:28 after 375 attacks.\n"
     ]
    },
    {
     "name": "stdout",
     "output_type": "stream",
     "text": [
      "\n",
      "\n",
      "=============================================================================================================================\n",
      "=============================================================================================================================\n",
      "\n"
     ]
    },
    {
     "name": "stderr",
     "output_type": "stream",
     "text": [
      "[Succeeded / Failed / Skipped / Total] 119 / 153 / 108 / 380:  76%|█████████████▋    | 380/500 [06:04<01:55,  1.04it/s]textattack: Saving checkpoint under \"checkpoints\\1720258950706.ta.chkpt\" at 2024-07-06 17:42:30 after 380 attacks.\n"
     ]
    },
    {
     "name": "stdout",
     "output_type": "stream",
     "text": [
      "\n",
      "\n",
      "=============================================================================================================================\n",
      "=============================================================================================================================\n",
      "\n"
     ]
    },
    {
     "name": "stderr",
     "output_type": "stream",
     "text": [
      "[Succeeded / Failed / Skipped / Total] 122 / 155 / 108 / 385:  77%|█████████████▊    | 385/500 [06:09<01:50,  1.04it/s]textattack: Saving checkpoint under \"checkpoints\\1720258955242.ta.chkpt\" at 2024-07-06 17:42:35 after 385 attacks.\n"
     ]
    },
    {
     "name": "stdout",
     "output_type": "stream",
     "text": [
      "\n",
      "\n",
      "=============================================================================================================================\n",
      "=============================================================================================================================\n",
      "\n"
     ]
    },
    {
     "name": "stderr",
     "output_type": "stream",
     "text": [
      "[Succeeded / Failed / Skipped / Total] 125 / 156 / 109 / 390:  78%|██████████████    | 390/500 [06:12<01:45,  1.05it/s]textattack: Saving checkpoint under \"checkpoints\\1720258958402.ta.chkpt\" at 2024-07-06 17:42:38 after 390 attacks.\n"
     ]
    },
    {
     "name": "stdout",
     "output_type": "stream",
     "text": [
      "\n",
      "\n",
      "=============================================================================================================================\n",
      "=============================================================================================================================\n",
      "\n"
     ]
    },
    {
     "name": "stderr",
     "output_type": "stream",
     "text": [
      "[Succeeded / Failed / Skipped / Total] 126 / 159 / 110 / 395:  79%|██████████████▏   | 395/500 [06:20<01:41,  1.04it/s]textattack: Saving checkpoint under \"checkpoints\\1720258966425.ta.chkpt\" at 2024-07-06 17:42:46 after 395 attacks.\n"
     ]
    },
    {
     "name": "stdout",
     "output_type": "stream",
     "text": [
      "\n",
      "\n",
      "=============================================================================================================================\n",
      "=============================================================================================================================\n",
      "\n"
     ]
    },
    {
     "name": "stderr",
     "output_type": "stream",
     "text": [
      "[Succeeded / Failed / Skipped / Total] 126 / 164 / 110 / 400:  80%|██████████████▍   | 400/500 [06:31<01:37,  1.02it/s]textattack: Saving checkpoint under \"checkpoints\\1720258977305.ta.chkpt\" at 2024-07-06 17:42:57 after 400 attacks.\n"
     ]
    },
    {
     "name": "stdout",
     "output_type": "stream",
     "text": [
      "\n",
      "\n",
      "=============================================================================================================================\n",
      "=============================================================================================================================\n",
      "\n"
     ]
    },
    {
     "name": "stderr",
     "output_type": "stream",
     "text": [
      "[Succeeded / Failed / Skipped / Total] 127 / 167 / 111 / 405:  81%|██████████████▌   | 405/500 [06:37<01:33,  1.02it/s]textattack: Saving checkpoint under \"checkpoints\\1720258983332.ta.chkpt\" at 2024-07-06 17:43:03 after 405 attacks.\n"
     ]
    },
    {
     "name": "stdout",
     "output_type": "stream",
     "text": [
      "\n",
      "\n",
      "=============================================================================================================================\n",
      "=============================================================================================================================\n",
      "\n"
     ]
    },
    {
     "name": "stderr",
     "output_type": "stream",
     "text": [
      "[Succeeded / Failed / Skipped / Total] 128 / 170 / 112 / 410:  82%|██████████████▊   | 410/500 [06:41<01:28,  1.02it/s]textattack: Saving checkpoint under \"checkpoints\\1720258987503.ta.chkpt\" at 2024-07-06 17:43:07 after 410 attacks.\n"
     ]
    },
    {
     "name": "stdout",
     "output_type": "stream",
     "text": [
      "\n",
      "\n",
      "=============================================================================================================================\n",
      "=============================================================================================================================\n",
      "\n"
     ]
    },
    {
     "name": "stderr",
     "output_type": "stream",
     "text": [
      "[Succeeded / Failed / Skipped / Total] 128 / 171 / 116 / 415:  83%|██████████████▉   | 415/500 [06:43<01:22,  1.03it/s]textattack: Saving checkpoint under \"checkpoints\\1720258989001.ta.chkpt\" at 2024-07-06 17:43:09 after 415 attacks.\n"
     ]
    },
    {
     "name": "stdout",
     "output_type": "stream",
     "text": [
      "\n",
      "\n",
      "=============================================================================================================================\n",
      "=============================================================================================================================\n",
      "\n"
     ]
    },
    {
     "name": "stderr",
     "output_type": "stream",
     "text": [
      "[Succeeded / Failed / Skipped / Total] 130 / 172 / 118 / 420:  84%|███████████████   | 420/500 [06:49<01:17,  1.03it/s]textattack: Saving checkpoint under \"checkpoints\\1720258994984.ta.chkpt\" at 2024-07-06 17:43:14 after 420 attacks.\n"
     ]
    },
    {
     "name": "stdout",
     "output_type": "stream",
     "text": [
      "\n",
      "\n",
      "=============================================================================================================================\n",
      "=============================================================================================================================\n",
      "\n"
     ]
    },
    {
     "name": "stderr",
     "output_type": "stream",
     "text": [
      "[Succeeded / Failed / Skipped / Total] 134 / 173 / 118 / 425:  85%|███████████████▎  | 425/500 [06:55<01:13,  1.02it/s]textattack: Saving checkpoint under \"checkpoints\\1720259001163.ta.chkpt\" at 2024-07-06 17:43:21 after 425 attacks.\n"
     ]
    },
    {
     "name": "stdout",
     "output_type": "stream",
     "text": [
      "\n",
      "\n",
      "=============================================================================================================================\n",
      "=============================================================================================================================\n",
      "\n"
     ]
    },
    {
     "name": "stderr",
     "output_type": "stream",
     "text": [
      "[Succeeded / Failed / Skipped / Total] 134 / 176 / 120 / 430:  86%|███████████████▍  | 430/500 [07:00<01:08,  1.02it/s]textattack: Saving checkpoint under \"checkpoints\\1720259006417.ta.chkpt\" at 2024-07-06 17:43:26 after 430 attacks.\n",
      "[Succeeded / Failed / Skipped / Total] 134 / 176 / 121 / 431:  86%|███████████████▌  | 431/500 [07:00<01:07,  1.02it/s]"
     ]
    },
    {
     "name": "stdout",
     "output_type": "stream",
     "text": [
      "\n",
      "\n",
      "=============================================================================================================================\n",
      "=============================================================================================================================\n",
      "\n"
     ]
    },
    {
     "name": "stderr",
     "output_type": "stream",
     "text": [
      "[Succeeded / Failed / Skipped / Total] 137 / 176 / 122 / 435:  87%|███████████████▋  | 435/500 [07:02<01:03,  1.03it/s]textattack: Saving checkpoint under \"checkpoints\\1720259008688.ta.chkpt\" at 2024-07-06 17:43:28 after 435 attacks.\n",
      "[Succeeded / Failed / Skipped / Total] 137 / 176 / 123 / 436:  87%|███████████████▋  | 436/500 [07:02<01:02,  1.03it/s]"
     ]
    },
    {
     "name": "stdout",
     "output_type": "stream",
     "text": [
      "\n",
      "\n",
      "=============================================================================================================================\n",
      "=============================================================================================================================\n",
      "\n"
     ]
    },
    {
     "name": "stderr",
     "output_type": "stream",
     "text": [
      "[Succeeded / Failed / Skipped / Total] 137 / 180 / 123 / 440:  88%|███████████████▊  | 440/500 [07:11<00:58,  1.02it/s]textattack: Saving checkpoint under \"checkpoints\\1720259017783.ta.chkpt\" at 2024-07-06 17:43:37 after 440 attacks.\n",
      "[Succeeded / Failed / Skipped / Total] 137 / 180 / 124 / 441:  88%|███████████████▉  | 441/500 [07:12<00:57,  1.02it/s]"
     ]
    },
    {
     "name": "stdout",
     "output_type": "stream",
     "text": [
      "\n",
      "\n",
      "=============================================================================================================================\n",
      "=============================================================================================================================\n",
      "\n"
     ]
    },
    {
     "name": "stderr",
     "output_type": "stream",
     "text": [
      "[Succeeded / Failed / Skipped / Total] 139 / 182 / 124 / 445:  89%|████████████████  | 445/500 [07:16<00:53,  1.02it/s]textattack: Saving checkpoint under \"checkpoints\\1720259021916.ta.chkpt\" at 2024-07-06 17:43:41 after 445 attacks.\n"
     ]
    },
    {
     "name": "stdout",
     "output_type": "stream",
     "text": [
      "\n",
      "\n",
      "=============================================================================================================================\n",
      "=============================================================================================================================\n",
      "\n"
     ]
    },
    {
     "name": "stderr",
     "output_type": "stream",
     "text": [
      "[Succeeded / Failed / Skipped / Total] 140 / 184 / 126 / 450:  90%|████████████████▏ | 450/500 [07:19<00:48,  1.02it/s]textattack: Saving checkpoint under \"checkpoints\\1720259025551.ta.chkpt\" at 2024-07-06 17:43:45 after 450 attacks.\n",
      "[Succeeded / Failed / Skipped / Total] 140 / 184 / 127 / 451:  90%|████████████████▏ | 451/500 [07:19<00:47,  1.03it/s]"
     ]
    },
    {
     "name": "stdout",
     "output_type": "stream",
     "text": [
      "\n",
      "\n",
      "=============================================================================================================================\n",
      "=============================================================================================================================\n",
      "\n"
     ]
    },
    {
     "name": "stderr",
     "output_type": "stream",
     "text": [
      "[Succeeded / Failed / Skipped / Total] 141 / 186 / 128 / 455:  91%|████████████████▍ | 455/500 [07:25<00:44,  1.02it/s]textattack: Saving checkpoint under \"checkpoints\\1720259030895.ta.chkpt\" at 2024-07-06 17:43:50 after 455 attacks.\n"
     ]
    },
    {
     "name": "stdout",
     "output_type": "stream",
     "text": [
      "\n",
      "\n",
      "=============================================================================================================================\n",
      "=============================================================================================================================\n",
      "\n"
     ]
    },
    {
     "name": "stderr",
     "output_type": "stream",
     "text": [
      "[Succeeded / Failed / Skipped / Total] 143 / 188 / 129 / 460:  92%|████████████████▌ | 460/500 [07:32<00:39,  1.02it/s]textattack: Saving checkpoint under \"checkpoints\\1720259038418.ta.chkpt\" at 2024-07-06 17:43:58 after 460 attacks.\n"
     ]
    },
    {
     "name": "stdout",
     "output_type": "stream",
     "text": [
      "\n",
      "\n",
      "=============================================================================================================================\n",
      "=============================================================================================================================\n",
      "\n"
     ]
    },
    {
     "name": "stderr",
     "output_type": "stream",
     "text": [
      "[Succeeded / Failed / Skipped / Total] 143 / 192 / 130 / 465:  93%|████████████████▋ | 465/500 [07:41<00:34,  1.01it/s]textattack: Saving checkpoint under \"checkpoints\\1720259047274.ta.chkpt\" at 2024-07-06 17:44:07 after 465 attacks.\n"
     ]
    },
    {
     "name": "stdout",
     "output_type": "stream",
     "text": [
      "\n",
      "\n",
      "=============================================================================================================================\n",
      "=============================================================================================================================\n",
      "\n"
     ]
    },
    {
     "name": "stderr",
     "output_type": "stream",
     "text": [
      "[Succeeded / Failed / Skipped / Total] 144 / 193 / 133 / 470:  94%|████████████████▉ | 470/500 [07:43<00:29,  1.01it/s]textattack: Saving checkpoint under \"checkpoints\\1720259049365.ta.chkpt\" at 2024-07-06 17:44:09 after 470 attacks.\n"
     ]
    },
    {
     "name": "stdout",
     "output_type": "stream",
     "text": [
      "\n",
      "\n",
      "=============================================================================================================================\n",
      "=============================================================================================================================\n",
      "\n"
     ]
    },
    {
     "name": "stderr",
     "output_type": "stream",
     "text": [
      "[Succeeded / Failed / Skipped / Total] 144 / 198 / 133 / 475:  95%|█████████████████ | 475/500 [07:52<00:24,  1.00it/s]textattack: Saving checkpoint under \"checkpoints\\1720259058755.ta.chkpt\" at 2024-07-06 17:44:18 after 475 attacks.\n"
     ]
    },
    {
     "name": "stdout",
     "output_type": "stream",
     "text": [
      "\n",
      "\n",
      "=============================================================================================================================\n",
      "=============================================================================================================================\n",
      "\n"
     ]
    },
    {
     "name": "stderr",
     "output_type": "stream",
     "text": [
      "[Succeeded / Failed / Skipped / Total] 145 / 201 / 134 / 480:  96%|█████████████████▎| 480/500 [07:57<00:19,  1.00it/s]textattack: Saving checkpoint under \"checkpoints\\1720259063583.ta.chkpt\" at 2024-07-06 17:44:23 after 480 attacks.\n"
     ]
    },
    {
     "name": "stdout",
     "output_type": "stream",
     "text": [
      "\n",
      "\n",
      "=============================================================================================================================\n",
      "=============================================================================================================================\n",
      "\n"
     ]
    },
    {
     "name": "stderr",
     "output_type": "stream",
     "text": [
      "[Succeeded / Failed / Skipped / Total] 145 / 204 / 136 / 485:  97%|█████████████████▍| 485/500 [08:01<00:14,  1.01it/s]textattack: Saving checkpoint under \"checkpoints\\1720259067508.ta.chkpt\" at 2024-07-06 17:44:27 after 485 attacks.\n"
     ]
    },
    {
     "name": "stdout",
     "output_type": "stream",
     "text": [
      "\n",
      "\n",
      "=============================================================================================================================\n",
      "=============================================================================================================================\n",
      "\n"
     ]
    },
    {
     "name": "stderr",
     "output_type": "stream",
     "text": [
      "[Succeeded / Failed / Skipped / Total] 147 / 206 / 137 / 490:  98%|█████████████████▋| 490/500 [08:07<00:09,  1.01it/s]textattack: Saving checkpoint under \"checkpoints\\1720259073117.ta.chkpt\" at 2024-07-06 17:44:33 after 490 attacks.\n",
      "[Succeeded / Failed / Skipped / Total] 147 / 206 / 138 / 491:  98%|█████████████████▋| 491/500 [08:07<00:08,  1.01it/s]"
     ]
    },
    {
     "name": "stdout",
     "output_type": "stream",
     "text": [
      "\n",
      "\n",
      "=============================================================================================================================\n",
      "=============================================================================================================================\n",
      "\n"
     ]
    },
    {
     "name": "stderr",
     "output_type": "stream",
     "text": [
      "[Succeeded / Failed / Skipped / Total] 148 / 209 / 138 / 495:  99%|█████████████████▊| 495/500 [08:16<00:05,  1.00s/it]textattack: Saving checkpoint under \"checkpoints\\1720259081789.ta.chkpt\" at 2024-07-06 17:44:41 after 495 attacks.\n"
     ]
    },
    {
     "name": "stdout",
     "output_type": "stream",
     "text": [
      "\n",
      "\n",
      "=============================================================================================================================\n",
      "=============================================================================================================================\n",
      "\n"
     ]
    },
    {
     "name": "stderr",
     "output_type": "stream",
     "text": [
      "[Succeeded / Failed / Skipped / Total] 151 / 210 / 139 / 500: 100%|██████████████████| 500/500 [08:19<00:00,  1.00it/s]textattack: Saving checkpoint under \"checkpoints\\1720259085275.ta.chkpt\" at 2024-07-06 17:44:45 after 500 attacks.\n",
      "[Succeeded / Failed / Skipped / Total] 151 / 210 / 139 / 500: 100%|██████████████████| 500/500 [08:19<00:00,  1.00it/s]"
     ]
    },
    {
     "name": "stdout",
     "output_type": "stream",
     "text": [
      "\n",
      "\n",
      "=============================================================================================================================\n",
      "=============================================================================================================================\n",
      "\n",
      "\n",
      "+-------------------------------+--------+\n",
      "| Attack Results                |        |\n",
      "+-------------------------------+--------+\n",
      "| Number of successful attacks: | 151    |\n",
      "| Number of failed attacks:     | 210    |\n",
      "| Number of skipped attacks:    | 139    |\n",
      "| Original accuracy:            | 72.2%  |\n",
      "| Accuracy under attack:        | 42.0%  |\n",
      "| Attack success rate:          | 41.83% |\n",
      "| Average perturbed word %:     | 14.02% |\n",
      "| Average num. words per input: | 18.4   |\n",
      "| Avg num queries:              | 21.82  |\n",
      "+-------------------------------+--------+\n"
     ]
    },
    {
     "name": "stderr",
     "output_type": "stream",
     "text": [
      "\n"
     ]
    }
   ],
   "source": [
    "runAttack(bert_model_wrapper_rf_mr, n_samples, 'attack_results_new/bertmrattackrf'+suffix, target_ds_mr)"
   ]
  },
  {
   "cell_type": "code",
   "execution_count": 14,
   "id": "f75d34d5-d9aa-4d77-989d-db73f9ddeaab",
   "metadata": {},
   "outputs": [
    {
     "name": "stderr",
     "output_type": "stream",
     "text": [
      "textattack: Unknown if model of class <class 'transformers.models.bert.modeling_bert.BertModel'> compatible with goal function <class 'textattack.goal_functions.classification.untargeted_classification.UntargetedClassification'>.\n",
      "textattack: Logging to CSV at path attack_results_new/bertmrattackknnsim09.csv\n"
     ]
    },
    {
     "name": "stdout",
     "output_type": "stream",
     "text": [
      "Attack(\n",
      "  (search_method): GreedyWordSwapWIR(\n",
      "    (wir_method):  delete\n",
      "  )\n",
      "  (goal_function):  UntargetedClassification\n",
      "  (transformation):  WordSwapEmbedding(\n",
      "    (max_candidates):  50\n",
      "    (embedding):  WordEmbedding\n",
      "  )\n",
      "  (constraints): \n",
      "    (0): WordEmbeddingDistance(\n",
      "        (embedding):  WordEmbedding\n",
      "        (min_cos_sim):  0.9\n",
      "        (cased):  False\n",
      "        (include_unknown_words):  True\n",
      "        (compare_against_original):  True\n",
      "      )\n",
      "    (1): PartOfSpeech(\n",
      "        (tagger_type):  nltk\n",
      "        (tagset):  universal\n",
      "        (allow_verb_noun_swap):  True\n",
      "        (compare_against_original):  True\n",
      "      )\n",
      "    (2): UniversalSentenceEncoder(\n",
      "        (metric):  angular\n",
      "        (threshold):  0.840845057\n",
      "        (window_size):  15\n",
      "        (skip_text_shorter_than_window):  True\n",
      "        (compare_against_original):  False\n",
      "      )\n",
      "    (3): RepeatModification\n",
      "    (4): StopwordModification\n",
      "    (5): InputColumnModification(\n",
      "        (matching_column_labels):  ['premise', 'hypothesis']\n",
      "        (columns_to_ignore):  {'premise'}\n",
      "      )\n",
      "  (is_black_box):  True\n",
      ") \n",
      "\n"
     ]
    },
    {
     "name": "stderr",
     "output_type": "stream",
     "text": [
      "[Succeeded / Failed / Skipped / Total] 3 / 0 / 2 / 5:   1%|▎                           | 5/500 [00:09<15:13,  1.84s/it]textattack: Saving checkpoint under \"checkpoints\\1720259094580.ta.chkpt\" at 2024-07-06 17:44:54 after 5 attacks.\n",
      "[Succeeded / Failed / Skipped / Total] 3 / 0 / 3 / 6:   1%|▎                           | 6/500 [00:09<12:49,  1.56s/it]"
     ]
    },
    {
     "name": "stdout",
     "output_type": "stream",
     "text": [
      "\n",
      "\n",
      "=============================================================================================================================\n",
      "=============================================================================================================================\n",
      "\n"
     ]
    },
    {
     "name": "stderr",
     "output_type": "stream",
     "text": [
      "[Succeeded / Failed / Skipped / Total] 5 / 1 / 4 / 10:   2%|▌                         | 10/500 [00:13<10:46,  1.32s/it]textattack: Saving checkpoint under \"checkpoints\\1720259098546.ta.chkpt\" at 2024-07-06 17:44:58 after 10 attacks.\n"
     ]
    },
    {
     "name": "stdout",
     "output_type": "stream",
     "text": [
      "\n",
      "\n",
      "=============================================================================================================================\n",
      "=============================================================================================================================\n",
      "\n"
     ]
    },
    {
     "name": "stderr",
     "output_type": "stream",
     "text": [
      "[Succeeded / Failed / Skipped / Total] 5 / 4 / 6 / 15:   3%|▊                         | 15/500 [00:20<11:15,  1.39s/it]textattack: Saving checkpoint under \"checkpoints\\1720259106233.ta.chkpt\" at 2024-07-06 17:45:06 after 15 attacks.\n"
     ]
    },
    {
     "name": "stdout",
     "output_type": "stream",
     "text": [
      "\n",
      "\n",
      "=============================================================================================================================\n",
      "=============================================================================================================================\n",
      "\n"
     ]
    },
    {
     "name": "stderr",
     "output_type": "stream",
     "text": [
      "[Succeeded / Failed / Skipped / Total] 7 / 6 / 7 / 20:   4%|█                         | 20/500 [00:24<09:41,  1.21s/it]textattack: Saving checkpoint under \"checkpoints\\1720259109596.ta.chkpt\" at 2024-07-06 17:45:09 after 20 attacks.\n"
     ]
    },
    {
     "name": "stdout",
     "output_type": "stream",
     "text": [
      "\n",
      "\n",
      "=============================================================================================================================\n",
      "=============================================================================================================================\n",
      "\n"
     ]
    },
    {
     "name": "stderr",
     "output_type": "stream",
     "text": [
      "[Succeeded / Failed / Skipped / Total] 11 / 6 / 8 / 25:   5%|█▎                       | 25/500 [00:28<09:00,  1.14s/it]textattack: Saving checkpoint under \"checkpoints\\1720259113829.ta.chkpt\" at 2024-07-06 17:45:13 after 25 attacks.\n"
     ]
    },
    {
     "name": "stdout",
     "output_type": "stream",
     "text": [
      "\n",
      "\n",
      "=============================================================================================================================\n",
      "=============================================================================================================================\n",
      "\n"
     ]
    },
    {
     "name": "stderr",
     "output_type": "stream",
     "text": [
      "[Succeeded / Failed / Skipped / Total] 11 / 11 / 8 / 30:   6%|█▍                      | 30/500 [00:33<08:44,  1.12s/it]textattack: Saving checkpoint under \"checkpoints\\1720259118837.ta.chkpt\" at 2024-07-06 17:45:18 after 30 attacks.\n",
      "[Succeeded / Failed / Skipped / Total] 11 / 11 / 9 / 31:   6%|█▍                      | 31/500 [00:33<08:28,  1.08s/it]"
     ]
    },
    {
     "name": "stdout",
     "output_type": "stream",
     "text": [
      "\n",
      "\n",
      "=============================================================================================================================\n",
      "=============================================================================================================================\n",
      "\n"
     ]
    },
    {
     "name": "stderr",
     "output_type": "stream",
     "text": [
      "[Succeeded / Failed / Skipped / Total] 12 / 13 / 10 / 35:   7%|█▌                     | 35/500 [00:38<08:25,  1.09s/it]textattack: Saving checkpoint under \"checkpoints\\1720259123406.ta.chkpt\" at 2024-07-06 17:45:23 after 35 attacks.\n"
     ]
    },
    {
     "name": "stdout",
     "output_type": "stream",
     "text": [
      "\n",
      "\n",
      "=============================================================================================================================\n",
      "=============================================================================================================================\n",
      "\n"
     ]
    },
    {
     "name": "stderr",
     "output_type": "stream",
     "text": [
      "[Succeeded / Failed / Skipped / Total] 14 / 14 / 12 / 40:   8%|█▊                     | 40/500 [00:42<08:10,  1.07s/it]textattack: Saving checkpoint under \"checkpoints\\1720259128035.ta.chkpt\" at 2024-07-06 17:45:28 after 40 attacks.\n"
     ]
    },
    {
     "name": "stdout",
     "output_type": "stream",
     "text": [
      "\n",
      "\n",
      "=============================================================================================================================\n",
      "=============================================================================================================================\n",
      "\n"
     ]
    },
    {
     "name": "stderr",
     "output_type": "stream",
     "text": [
      "[Succeeded / Failed / Skipped / Total] 16 / 15 / 14 / 45:   9%|██                     | 45/500 [00:50<08:32,  1.13s/it]textattack: Saving checkpoint under \"checkpoints\\1720259136071.ta.chkpt\" at 2024-07-06 17:45:36 after 45 attacks.\n"
     ]
    },
    {
     "name": "stdout",
     "output_type": "stream",
     "text": [
      "\n",
      "\n",
      "=============================================================================================================================\n",
      "=============================================================================================================================\n",
      "\n"
     ]
    },
    {
     "name": "stderr",
     "output_type": "stream",
     "text": [
      "[Succeeded / Failed / Skipped / Total] 19 / 15 / 16 / 50:  10%|██▎                    | 50/500 [00:53<08:02,  1.07s/it]textattack: Saving checkpoint under \"checkpoints\\1720259138970.ta.chkpt\" at 2024-07-06 17:45:38 after 50 attacks.\n"
     ]
    },
    {
     "name": "stdout",
     "output_type": "stream",
     "text": [
      "\n",
      "\n",
      "=============================================================================================================================\n",
      "=============================================================================================================================\n",
      "\n"
     ]
    },
    {
     "name": "stderr",
     "output_type": "stream",
     "text": [
      "[Succeeded / Failed / Skipped / Total] 22 / 16 / 17 / 55:  11%|██▌                    | 55/500 [00:57<07:48,  1.05s/it]textattack: Saving checkpoint under \"checkpoints\\1720259143210.ta.chkpt\" at 2024-07-06 17:45:43 after 55 attacks.\n"
     ]
    },
    {
     "name": "stdout",
     "output_type": "stream",
     "text": [
      "\n",
      "\n",
      "=============================================================================================================================\n",
      "=============================================================================================================================\n",
      "\n"
     ]
    },
    {
     "name": "stderr",
     "output_type": "stream",
     "text": [
      "[Succeeded / Failed / Skipped / Total] 25 / 17 / 18 / 60:  12%|██▊                    | 60/500 [01:02<07:36,  1.04s/it]textattack: Saving checkpoint under \"checkpoints\\1720259147573.ta.chkpt\" at 2024-07-06 17:45:47 after 60 attacks.\n"
     ]
    },
    {
     "name": "stdout",
     "output_type": "stream",
     "text": [
      "\n",
      "\n",
      "=============================================================================================================================\n",
      "=============================================================================================================================\n",
      "\n"
     ]
    },
    {
     "name": "stderr",
     "output_type": "stream",
     "text": [
      "[Succeeded / Failed / Skipped / Total] 30 / 17 / 18 / 65:  13%|██▉                    | 65/500 [01:06<07:22,  1.02s/it]textattack: Saving checkpoint under \"checkpoints\\1720259151531.ta.chkpt\" at 2024-07-06 17:45:51 after 65 attacks.\n",
      "[Succeeded / Failed / Skipped / Total] 30 / 17 / 19 / 66:  13%|███                    | 66/500 [01:06<07:15,  1.00s/it]"
     ]
    },
    {
     "name": "stdout",
     "output_type": "stream",
     "text": [
      "\n",
      "\n",
      "=============================================================================================================================\n",
      "=============================================================================================================================\n",
      "\n"
     ]
    },
    {
     "name": "stderr",
     "output_type": "stream",
     "text": [
      "[Succeeded / Failed / Skipped / Total] 32 / 19 / 19 / 70:  14%|███▏                   | 70/500 [01:10<07:15,  1.01s/it]textattack: Saving checkpoint under \"checkpoints\\1720259156313.ta.chkpt\" at 2024-07-06 17:45:56 after 70 attacks.\n"
     ]
    },
    {
     "name": "stdout",
     "output_type": "stream",
     "text": [
      "\n",
      "\n",
      "=============================================================================================================================\n",
      "=============================================================================================================================\n",
      "\n"
     ]
    },
    {
     "name": "stderr",
     "output_type": "stream",
     "text": [
      "[Succeeded / Failed / Skipped / Total] 34 / 21 / 20 / 75:  15%|███▍                   | 75/500 [01:15<07:09,  1.01s/it]textattack: Saving checkpoint under \"checkpoints\\1720259161078.ta.chkpt\" at 2024-07-06 17:46:01 after 75 attacks.\n",
      "[Succeeded / Failed / Skipped / Total] 34 / 21 / 21 / 76:  15%|███▍                   | 76/500 [01:15<07:03,  1.00it/s]"
     ]
    },
    {
     "name": "stdout",
     "output_type": "stream",
     "text": [
      "\n",
      "\n",
      "=============================================================================================================================\n",
      "=============================================================================================================================\n",
      "\n"
     ]
    },
    {
     "name": "stderr",
     "output_type": "stream",
     "text": [
      "[Succeeded / Failed / Skipped / Total] 37 / 22 / 21 / 80:  16%|███▋                   | 80/500 [01:18<06:54,  1.01it/s]textattack: Saving checkpoint under \"checkpoints\\1720259164321.ta.chkpt\" at 2024-07-06 17:46:04 after 80 attacks.\n"
     ]
    },
    {
     "name": "stdout",
     "output_type": "stream",
     "text": [
      "\n",
      "\n",
      "=============================================================================================================================\n",
      "=============================================================================================================================\n",
      "\n"
     ]
    },
    {
     "name": "stderr",
     "output_type": "stream",
     "text": [
      "[Succeeded / Failed / Skipped / Total] 40 / 23 / 22 / 85:  17%|███▉                   | 85/500 [01:22<06:42,  1.03it/s]textattack: Saving checkpoint under \"checkpoints\\1720259167868.ta.chkpt\" at 2024-07-06 17:46:07 after 85 attacks.\n",
      "[Succeeded / Failed / Skipped / Total] 40 / 23 / 23 / 86:  17%|███▉                   | 86/500 [01:22<06:37,  1.04it/s]"
     ]
    },
    {
     "name": "stdout",
     "output_type": "stream",
     "text": [
      "\n",
      "\n",
      "=============================================================================================================================\n",
      "=============================================================================================================================\n",
      "\n"
     ]
    },
    {
     "name": "stderr",
     "output_type": "stream",
     "text": [
      "[Succeeded / Failed / Skipped / Total] 42 / 25 / 23 / 90:  18%|████▏                  | 90/500 [01:28<06:40,  1.02it/s]textattack: Saving checkpoint under \"checkpoints\\1720259173361.ta.chkpt\" at 2024-07-06 17:46:13 after 90 attacks.\n",
      "[Succeeded / Failed / Skipped / Total] 42 / 25 / 24 / 91:  18%|████▏                  | 91/500 [01:28<06:36,  1.03it/s]"
     ]
    },
    {
     "name": "stdout",
     "output_type": "stream",
     "text": [
      "\n",
      "\n",
      "=============================================================================================================================\n",
      "=============================================================================================================================\n",
      "\n"
     ]
    },
    {
     "name": "stderr",
     "output_type": "stream",
     "text": [
      "[Succeeded / Failed / Skipped / Total] 42 / 25 / 28 / 95:  19%|████▎                  | 95/500 [01:28<06:17,  1.07it/s]textattack: Saving checkpoint under \"checkpoints\\1720259173940.ta.chkpt\" at 2024-07-06 17:46:13 after 95 attacks.\n"
     ]
    },
    {
     "name": "stdout",
     "output_type": "stream",
     "text": [
      "\n",
      "\n",
      "=============================================================================================================================\n",
      "=============================================================================================================================\n",
      "\n"
     ]
    },
    {
     "name": "stderr",
     "output_type": "stream",
     "text": [
      "[Succeeded / Failed / Skipped / Total] 45 / 27 / 28 / 100:  20%|████▏                | 100/500 [01:33<06:13,  1.07it/s]textattack: Saving checkpoint under \"checkpoints\\1720259178695.ta.chkpt\" at 2024-07-06 17:46:18 after 100 attacks.\n"
     ]
    },
    {
     "name": "stdout",
     "output_type": "stream",
     "text": [
      "\n",
      "\n",
      "=============================================================================================================================\n",
      "=============================================================================================================================\n",
      "\n"
     ]
    },
    {
     "name": "stderr",
     "output_type": "stream",
     "text": [
      "[Succeeded / Failed / Skipped / Total] 47 / 28 / 30 / 105:  21%|████▍                | 105/500 [01:35<05:59,  1.10it/s]textattack: Saving checkpoint under \"checkpoints\\1720259180896.ta.chkpt\" at 2024-07-06 17:46:20 after 105 attacks.\n",
      "[Succeeded / Failed / Skipped / Total] 47 / 28 / 31 / 106:  21%|████▍                | 106/500 [01:35<05:55,  1.11it/s]"
     ]
    },
    {
     "name": "stdout",
     "output_type": "stream",
     "text": [
      "\n",
      "\n",
      "=============================================================================================================================\n",
      "=============================================================================================================================\n",
      "\n"
     ]
    },
    {
     "name": "stderr",
     "output_type": "stream",
     "text": [
      "[Succeeded / Failed / Skipped / Total] 51 / 28 / 31 / 110:  22%|████▌                | 110/500 [01:39<05:51,  1.11it/s]textattack: Saving checkpoint under \"checkpoints\\1720259184388.ta.chkpt\" at 2024-07-06 17:46:24 after 110 attacks.\n"
     ]
    },
    {
     "name": "stdout",
     "output_type": "stream",
     "text": [
      "\n",
      "\n",
      "=============================================================================================================================\n",
      "=============================================================================================================================\n",
      "\n"
     ]
    },
    {
     "name": "stderr",
     "output_type": "stream",
     "text": [
      "[Succeeded / Failed / Skipped / Total] 54 / 29 / 32 / 115:  23%|████▊                | 115/500 [01:43<05:45,  1.12it/s]textattack: Saving checkpoint under \"checkpoints\\1720259188439.ta.chkpt\" at 2024-07-06 17:46:28 after 115 attacks.\n",
      "[Succeeded / Failed / Skipped / Total] 54 / 29 / 33 / 116:  23%|████▊                | 116/500 [01:43<05:41,  1.12it/s]"
     ]
    },
    {
     "name": "stdout",
     "output_type": "stream",
     "text": [
      "\n",
      "\n",
      "=============================================================================================================================\n",
      "=============================================================================================================================\n",
      "\n"
     ]
    },
    {
     "name": "stderr",
     "output_type": "stream",
     "text": [
      "[Succeeded / Failed / Skipped / Total] 57 / 29 / 34 / 120:  24%|█████                | 120/500 [01:45<05:33,  1.14it/s]textattack: Saving checkpoint under \"checkpoints\\1720259190533.ta.chkpt\" at 2024-07-06 17:46:30 after 120 attacks.\n"
     ]
    },
    {
     "name": "stdout",
     "output_type": "stream",
     "text": [
      "\n",
      "\n",
      "=============================================================================================================================\n",
      "=============================================================================================================================\n",
      "\n"
     ]
    },
    {
     "name": "stderr",
     "output_type": "stream",
     "text": [
      "[Succeeded / Failed / Skipped / Total] 58 / 30 / 37 / 125:  25%|█████▎               | 125/500 [01:48<05:24,  1.16it/s]textattack: Saving checkpoint under \"checkpoints\\1720259193427.ta.chkpt\" at 2024-07-06 17:46:33 after 125 attacks.\n"
     ]
    },
    {
     "name": "stdout",
     "output_type": "stream",
     "text": [
      "\n",
      "\n",
      "=============================================================================================================================\n",
      "=============================================================================================================================\n",
      "\n"
     ]
    },
    {
     "name": "stderr",
     "output_type": "stream",
     "text": [
      "[Succeeded / Failed / Skipped / Total] 61 / 30 / 39 / 130:  26%|█████▍               | 130/500 [01:50<05:14,  1.18it/s]textattack: Saving checkpoint under \"checkpoints\\1720259195893.ta.chkpt\" at 2024-07-06 17:46:35 after 130 attacks.\n",
      "[Succeeded / Failed / Skipped / Total] 61 / 30 / 40 / 131:  26%|█████▌               | 131/500 [01:50<05:11,  1.18it/s]"
     ]
    },
    {
     "name": "stdout",
     "output_type": "stream",
     "text": [
      "\n",
      "\n",
      "=============================================================================================================================\n",
      "=============================================================================================================================\n",
      "\n"
     ]
    },
    {
     "name": "stderr",
     "output_type": "stream",
     "text": [
      "[Succeeded / Failed / Skipped / Total] 64 / 30 / 41 / 135:  27%|█████▋               | 135/500 [01:54<05:08,  1.18it/s]textattack: Saving checkpoint under \"checkpoints\\1720259199402.ta.chkpt\" at 2024-07-06 17:46:39 after 135 attacks.\n"
     ]
    },
    {
     "name": "stdout",
     "output_type": "stream",
     "text": [
      "\n",
      "\n",
      "=============================================================================================================================\n",
      "=============================================================================================================================\n",
      "\n"
     ]
    },
    {
     "name": "stderr",
     "output_type": "stream",
     "text": [
      "[Succeeded / Failed / Skipped / Total] 68 / 30 / 42 / 140:  28%|█████▉               | 140/500 [01:59<05:07,  1.17it/s]textattack: Saving checkpoint under \"checkpoints\\1720259204839.ta.chkpt\" at 2024-07-06 17:46:44 after 140 attacks.\n",
      "[Succeeded / Failed / Skipped / Total] 68 / 30 / 43 / 141:  28%|█████▉               | 141/500 [01:59<05:04,  1.18it/s]"
     ]
    },
    {
     "name": "stdout",
     "output_type": "stream",
     "text": [
      "\n",
      "\n",
      "=============================================================================================================================\n",
      "=============================================================================================================================\n",
      "\n"
     ]
    },
    {
     "name": "stderr",
     "output_type": "stream",
     "text": [
      "[Succeeded / Failed / Skipped / Total] 70 / 31 / 44 / 145:  29%|██████               | 145/500 [02:02<05:00,  1.18it/s]textattack: Saving checkpoint under \"checkpoints\\1720259208077.ta.chkpt\" at 2024-07-06 17:46:48 after 145 attacks.\n"
     ]
    },
    {
     "name": "stdout",
     "output_type": "stream",
     "text": [
      "\n",
      "\n",
      "=============================================================================================================================\n",
      "=============================================================================================================================\n",
      "\n"
     ]
    },
    {
     "name": "stderr",
     "output_type": "stream",
     "text": [
      "[Succeeded / Failed / Skipped / Total] 74 / 32 / 44 / 150:  30%|██████▎              | 150/500 [02:05<04:53,  1.19it/s]textattack: Saving checkpoint under \"checkpoints\\1720259211321.ta.chkpt\" at 2024-07-06 17:46:51 after 150 attacks.\n"
     ]
    },
    {
     "name": "stdout",
     "output_type": "stream",
     "text": [
      "\n",
      "\n",
      "=============================================================================================================================\n",
      "=============================================================================================================================\n",
      "\n"
     ]
    },
    {
     "name": "stderr",
     "output_type": "stream",
     "text": [
      "[Succeeded / Failed / Skipped / Total] 76 / 32 / 47 / 155:  31%|██████▌              | 155/500 [02:07<04:43,  1.22it/s]textattack: Saving checkpoint under \"checkpoints\\1720259212798.ta.chkpt\" at 2024-07-06 17:46:52 after 155 attacks.\n",
      "[Succeeded / Failed / Skipped / Total] 76 / 32 / 47 / 155:  31%|██████▌              | 156/500 [02:07<04:41,  1.22it/s]"
     ]
    },
    {
     "name": "stdout",
     "output_type": "stream",
     "text": [
      "\n",
      "\n",
      "=============================================================================================================================\n",
      "=============================================================================================================================\n",
      "\n"
     ]
    },
    {
     "name": "stderr",
     "output_type": "stream",
     "text": [
      "[Succeeded / Failed / Skipped / Total] 79 / 32 / 49 / 160:  32%|██████▋              | 160/500 [02:10<04:37,  1.22it/s]textattack: Saving checkpoint under \"checkpoints\\1720259216122.ta.chkpt\" at 2024-07-06 17:46:56 after 160 attacks.\n"
     ]
    },
    {
     "name": "stdout",
     "output_type": "stream",
     "text": [
      "\n",
      "\n",
      "=============================================================================================================================\n",
      "=============================================================================================================================\n",
      "\n"
     ]
    },
    {
     "name": "stderr",
     "output_type": "stream",
     "text": [
      "[Succeeded / Failed / Skipped / Total] 82 / 33 / 50 / 165:  33%|██████▉              | 165/500 [02:15<04:35,  1.22it/s]textattack: Saving checkpoint under \"checkpoints\\1720259220858.ta.chkpt\" at 2024-07-06 17:47:00 after 165 attacks.\n",
      "[Succeeded / Failed / Skipped / Total] 82 / 33 / 51 / 166:  33%|██████▉              | 166/500 [02:15<04:32,  1.22it/s]"
     ]
    },
    {
     "name": "stdout",
     "output_type": "stream",
     "text": [
      "\n",
      "\n",
      "=============================================================================================================================\n",
      "=============================================================================================================================\n",
      "\n"
     ]
    },
    {
     "name": "stderr",
     "output_type": "stream",
     "text": [
      "[Succeeded / Failed / Skipped / Total] 83 / 34 / 53 / 170:  34%|███████▏             | 170/500 [02:18<04:29,  1.22it/s]textattack: Saving checkpoint under \"checkpoints\\1720259224244.ta.chkpt\" at 2024-07-06 17:47:04 after 170 attacks.\n"
     ]
    },
    {
     "name": "stdout",
     "output_type": "stream",
     "text": [
      "\n",
      "\n",
      "=============================================================================================================================\n",
      "=============================================================================================================================\n",
      "\n"
     ]
    },
    {
     "name": "stderr",
     "output_type": "stream",
     "text": [
      "[Succeeded / Failed / Skipped / Total] 85 / 36 / 54 / 175:  35%|███████▎             | 175/500 [02:24<04:29,  1.21it/s]textattack: Saving checkpoint under \"checkpoints\\1720259230229.ta.chkpt\" at 2024-07-06 17:47:10 after 175 attacks.\n",
      "[Succeeded / Failed / Skipped / Total] 85 / 36 / 56 / 177:  35%|███████▍             | 177/500 [02:25<04:24,  1.22it/s]"
     ]
    },
    {
     "name": "stdout",
     "output_type": "stream",
     "text": [
      "\n",
      "\n",
      "=============================================================================================================================\n",
      "=============================================================================================================================\n",
      "\n"
     ]
    },
    {
     "name": "stderr",
     "output_type": "stream",
     "text": [
      "[Succeeded / Failed / Skipped / Total] 86 / 37 / 57 / 180:  36%|███████▌             | 180/500 [02:27<04:21,  1.22it/s]textattack: Saving checkpoint under \"checkpoints\\1720259232519.ta.chkpt\" at 2024-07-06 17:47:12 after 180 attacks.\n",
      "[Succeeded / Failed / Skipped / Total] 86 / 37 / 58 / 181:  36%|███████▌             | 181/500 [02:27<04:19,  1.23it/s]"
     ]
    },
    {
     "name": "stdout",
     "output_type": "stream",
     "text": [
      "\n",
      "\n",
      "=============================================================================================================================\n",
      "=============================================================================================================================\n",
      "\n"
     ]
    },
    {
     "name": "stderr",
     "output_type": "stream",
     "text": [
      "[Succeeded / Failed / Skipped / Total] 87 / 38 / 60 / 185:  37%|███████▊             | 185/500 [02:28<04:13,  1.24it/s]textattack: Saving checkpoint under \"checkpoints\\1720259234015.ta.chkpt\" at 2024-07-06 17:47:14 after 185 attacks.\n"
     ]
    },
    {
     "name": "stdout",
     "output_type": "stream",
     "text": [
      "\n",
      "\n",
      "=============================================================================================================================\n",
      "=============================================================================================================================\n",
      "\n"
     ]
    },
    {
     "name": "stderr",
     "output_type": "stream",
     "text": [
      "[Succeeded / Failed / Skipped / Total] 91 / 38 / 61 / 190:  38%|███████▉             | 190/500 [02:34<04:11,  1.23it/s]textattack: Saving checkpoint under \"checkpoints\\1720259239410.ta.chkpt\" at 2024-07-06 17:47:19 after 190 attacks.\n"
     ]
    },
    {
     "name": "stdout",
     "output_type": "stream",
     "text": [
      "\n",
      "\n",
      "=============================================================================================================================\n",
      "=============================================================================================================================\n",
      "\n"
     ]
    },
    {
     "name": "stderr",
     "output_type": "stream",
     "text": [
      "[Succeeded / Failed / Skipped / Total] 94 / 39 / 62 / 195:  39%|████████▏            | 195/500 [02:41<04:11,  1.21it/s]textattack: Saving checkpoint under \"checkpoints\\1720259246432.ta.chkpt\" at 2024-07-06 17:47:26 after 195 attacks.\n",
      "[Succeeded / Failed / Skipped / Total] 94 / 39 / 63 / 196:  39%|████████▏            | 196/500 [02:41<04:09,  1.22it/s]"
     ]
    },
    {
     "name": "stdout",
     "output_type": "stream",
     "text": [
      "\n",
      "\n",
      "=============================================================================================================================\n",
      "=============================================================================================================================\n",
      "\n"
     ]
    },
    {
     "name": "stderr",
     "output_type": "stream",
     "text": [
      "[Succeeded / Failed / Skipped / Total] 96 / 40 / 64 / 200:  40%|████████▍            | 200/500 [02:48<04:12,  1.19it/s]textattack: Saving checkpoint under \"checkpoints\\1720259253562.ta.chkpt\" at 2024-07-06 17:47:33 after 200 attacks.\n"
     ]
    },
    {
     "name": "stdout",
     "output_type": "stream",
     "text": [
      "\n",
      "\n",
      "=============================================================================================================================\n",
      "=============================================================================================================================\n",
      "\n"
     ]
    },
    {
     "name": "stderr",
     "output_type": "stream",
     "text": [
      "[Succeeded / Failed / Skipped / Total] 99 / 41 / 65 / 205:  41%|████████▌            | 205/500 [02:51<04:06,  1.19it/s]textattack: Saving checkpoint under \"checkpoints\\1720259256976.ta.chkpt\" at 2024-07-06 17:47:36 after 205 attacks.\n",
      "[Succeeded / Failed / Skipped / Total] 99 / 41 / 66 / 206:  41%|████████▋            | 206/500 [02:51<04:05,  1.20it/s]"
     ]
    },
    {
     "name": "stdout",
     "output_type": "stream",
     "text": [
      "\n",
      "\n",
      "=============================================================================================================================\n",
      "=============================================================================================================================\n",
      "\n"
     ]
    },
    {
     "name": "stderr",
     "output_type": "stream",
     "text": [
      "[Succeeded / Failed / Skipped / Total] 102 / 42 / 66 / 210:  42%|████████▍           | 210/500 [02:55<04:01,  1.20it/s]textattack: Saving checkpoint under \"checkpoints\\1720259260501.ta.chkpt\" at 2024-07-06 17:47:40 after 210 attacks.\n"
     ]
    },
    {
     "name": "stdout",
     "output_type": "stream",
     "text": [
      "\n",
      "\n",
      "=============================================================================================================================\n",
      "=============================================================================================================================\n",
      "\n"
     ]
    },
    {
     "name": "stderr",
     "output_type": "stream",
     "text": [
      "[Succeeded / Failed / Skipped / Total] 105 / 43 / 67 / 215:  43%|████████▌           | 215/500 [02:58<03:56,  1.21it/s]textattack: Saving checkpoint under \"checkpoints\\1720259263683.ta.chkpt\" at 2024-07-06 17:47:43 after 215 attacks.\n"
     ]
    },
    {
     "name": "stdout",
     "output_type": "stream",
     "text": [
      "\n",
      "\n",
      "=============================================================================================================================\n",
      "=============================================================================================================================\n",
      "\n"
     ]
    },
    {
     "name": "stderr",
     "output_type": "stream",
     "text": [
      "[Succeeded / Failed / Skipped / Total] 108 / 44 / 68 / 220:  44%|████████▊           | 220/500 [03:00<03:49,  1.22it/s]textattack: Saving checkpoint under \"checkpoints\\1720259265708.ta.chkpt\" at 2024-07-06 17:47:45 after 220 attacks.\n",
      "[Succeeded / Failed / Skipped / Total] 108 / 44 / 69 / 221:  44%|████████▊           | 221/500 [03:00<03:47,  1.22it/s]"
     ]
    },
    {
     "name": "stdout",
     "output_type": "stream",
     "text": [
      "\n",
      "\n",
      "=============================================================================================================================\n",
      "=============================================================================================================================\n",
      "\n"
     ]
    },
    {
     "name": "stderr",
     "output_type": "stream",
     "text": [
      "[Succeeded / Failed / Skipped / Total] 109 / 45 / 71 / 225:  45%|█████████           | 225/500 [03:02<03:43,  1.23it/s]textattack: Saving checkpoint under \"checkpoints\\1720259267921.ta.chkpt\" at 2024-07-06 17:47:47 after 225 attacks.\n"
     ]
    },
    {
     "name": "stdout",
     "output_type": "stream",
     "text": [
      "\n",
      "\n",
      "=============================================================================================================================\n",
      "=============================================================================================================================\n",
      "\n"
     ]
    },
    {
     "name": "stderr",
     "output_type": "stream",
     "text": [
      "[Succeeded / Failed / Skipped / Total] 111 / 46 / 73 / 230:  46%|█████████▏          | 230/500 [03:06<03:38,  1.23it/s]textattack: Saving checkpoint under \"checkpoints\\1720259271709.ta.chkpt\" at 2024-07-06 17:47:51 after 230 attacks.\n"
     ]
    },
    {
     "name": "stdout",
     "output_type": "stream",
     "text": [
      "\n",
      "\n",
      "=============================================================================================================================\n",
      "=============================================================================================================================\n",
      "\n"
     ]
    },
    {
     "name": "stderr",
     "output_type": "stream",
     "text": [
      "[Succeeded / Failed / Skipped / Total] 114 / 46 / 75 / 235:  47%|█████████▍          | 235/500 [03:09<03:33,  1.24it/s]textattack: Saving checkpoint under \"checkpoints\\1720259274915.ta.chkpt\" at 2024-07-06 17:47:54 after 235 attacks.\n",
      "[Succeeded / Failed / Skipped / Total] 114 / 46 / 76 / 236:  47%|█████████▍          | 236/500 [03:09<03:32,  1.24it/s]"
     ]
    },
    {
     "name": "stdout",
     "output_type": "stream",
     "text": [
      "\n",
      "\n",
      "=============================================================================================================================\n",
      "=============================================================================================================================\n",
      "\n"
     ]
    },
    {
     "name": "stderr",
     "output_type": "stream",
     "text": [
      "[Succeeded / Failed / Skipped / Total] 115 / 49 / 76 / 240:  48%|█████████▌          | 240/500 [03:13<03:29,  1.24it/s]textattack: Saving checkpoint under \"checkpoints\\1720259279106.ta.chkpt\" at 2024-07-06 17:47:59 after 240 attacks.\n",
      "[Succeeded / Failed / Skipped / Total] 115 / 49 / 77 / 241:  48%|█████████▋          | 241/500 [03:13<03:28,  1.24it/s]"
     ]
    },
    {
     "name": "stdout",
     "output_type": "stream",
     "text": [
      "\n",
      "\n",
      "=============================================================================================================================\n",
      "=============================================================================================================================\n",
      "\n"
     ]
    },
    {
     "name": "stderr",
     "output_type": "stream",
     "text": [
      "[Succeeded / Failed / Skipped / Total] 115 / 52 / 78 / 245:  49%|█████████▊          | 245/500 [03:18<03:26,  1.24it/s]textattack: Saving checkpoint under \"checkpoints\\1720259283590.ta.chkpt\" at 2024-07-06 17:48:03 after 245 attacks.\n"
     ]
    },
    {
     "name": "stdout",
     "output_type": "stream",
     "text": [
      "\n",
      "\n",
      "=============================================================================================================================\n",
      "=============================================================================================================================\n",
      "\n"
     ]
    },
    {
     "name": "stderr",
     "output_type": "stream",
     "text": [
      "[Succeeded / Failed / Skipped / Total] 118 / 53 / 79 / 250:  50%|██████████          | 250/500 [03:21<03:21,  1.24it/s]textattack: Saving checkpoint under \"checkpoints\\1720259287176.ta.chkpt\" at 2024-07-06 17:48:07 after 250 attacks.\n",
      "[Succeeded / Failed / Skipped / Total] 118 / 53 / 81 / 252:  50%|██████████          | 252/500 [03:22<03:18,  1.25it/s]"
     ]
    },
    {
     "name": "stdout",
     "output_type": "stream",
     "text": [
      "\n",
      "\n",
      "=============================================================================================================================\n",
      "=============================================================================================================================\n",
      "\n"
     ]
    },
    {
     "name": "stderr",
     "output_type": "stream",
     "text": [
      "[Succeeded / Failed / Skipped / Total] 121 / 53 / 81 / 255:  51%|██████████▏         | 255/500 [03:25<03:16,  1.24it/s]textattack: Saving checkpoint under \"checkpoints\\1720259290380.ta.chkpt\" at 2024-07-06 17:48:10 after 255 attacks.\n"
     ]
    },
    {
     "name": "stdout",
     "output_type": "stream",
     "text": [
      "\n",
      "\n",
      "=============================================================================================================================\n",
      "=============================================================================================================================\n",
      "\n"
     ]
    },
    {
     "name": "stderr",
     "output_type": "stream",
     "text": [
      "[Succeeded / Failed / Skipped / Total] 123 / 53 / 84 / 260:  52%|██████████▍         | 260/500 [03:26<03:10,  1.26it/s]textattack: Saving checkpoint under \"checkpoints\\1720259291700.ta.chkpt\" at 2024-07-06 17:48:11 after 260 attacks.\n"
     ]
    },
    {
     "name": "stdout",
     "output_type": "stream",
     "text": [
      "\n",
      "\n",
      "=============================================================================================================================\n",
      "=============================================================================================================================\n",
      "\n"
     ]
    },
    {
     "name": "stderr",
     "output_type": "stream",
     "text": [
      "[Succeeded / Failed / Skipped / Total] 128 / 53 / 84 / 265:  53%|██████████▌         | 265/500 [03:30<03:06,  1.26it/s]textattack: Saving checkpoint under \"checkpoints\\1720259295715.ta.chkpt\" at 2024-07-06 17:48:15 after 265 attacks.\n",
      "[Succeeded / Failed / Skipped / Total] 128 / 53 / 85 / 266:  53%|██████████▋         | 266/500 [03:30<03:05,  1.26it/s]"
     ]
    },
    {
     "name": "stdout",
     "output_type": "stream",
     "text": [
      "\n",
      "\n",
      "=============================================================================================================================\n",
      "=============================================================================================================================\n",
      "\n"
     ]
    },
    {
     "name": "stderr",
     "output_type": "stream",
     "text": [
      "[Succeeded / Failed / Skipped / Total] 129 / 54 / 87 / 270:  54%|██████████▊         | 270/500 [03:34<03:02,  1.26it/s]textattack: Saving checkpoint under \"checkpoints\\1720259299873.ta.chkpt\" at 2024-07-06 17:48:19 after 270 attacks.\n"
     ]
    },
    {
     "name": "stdout",
     "output_type": "stream",
     "text": [
      "\n",
      "\n",
      "=============================================================================================================================\n",
      "=============================================================================================================================\n",
      "\n"
     ]
    },
    {
     "name": "stderr",
     "output_type": "stream",
     "text": [
      "[Succeeded / Failed / Skipped / Total] 131 / 54 / 90 / 275:  55%|███████████         | 275/500 [03:37<02:57,  1.27it/s]textattack: Saving checkpoint under \"checkpoints\\1720259302394.ta.chkpt\" at 2024-07-06 17:48:22 after 275 attacks.\n"
     ]
    },
    {
     "name": "stdout",
     "output_type": "stream",
     "text": [
      "\n",
      "\n",
      "=============================================================================================================================\n",
      "=============================================================================================================================\n",
      "\n"
     ]
    },
    {
     "name": "stderr",
     "output_type": "stream",
     "text": [
      "[Succeeded / Failed / Skipped / Total] 132 / 56 / 92 / 280:  56%|███████████▏        | 280/500 [03:40<02:53,  1.27it/s]textattack: Saving checkpoint under \"checkpoints\\1720259306345.ta.chkpt\" at 2024-07-06 17:48:26 after 280 attacks.\n"
     ]
    },
    {
     "name": "stdout",
     "output_type": "stream",
     "text": [
      "\n",
      "\n",
      "=============================================================================================================================\n",
      "=============================================================================================================================\n",
      "\n"
     ]
    },
    {
     "name": "stderr",
     "output_type": "stream",
     "text": [
      "[Succeeded / Failed / Skipped / Total] 136 / 57 / 92 / 285:  57%|███████████▍        | 285/500 [03:44<02:49,  1.27it/s]textattack: Saving checkpoint under \"checkpoints\\1720259310182.ta.chkpt\" at 2024-07-06 17:48:30 after 285 attacks.\n",
      "[Succeeded / Failed / Skipped / Total] 136 / 57 / 93 / 286:  57%|███████████▍        | 286/500 [03:44<02:48,  1.27it/s]"
     ]
    },
    {
     "name": "stdout",
     "output_type": "stream",
     "text": [
      "\n",
      "\n",
      "=============================================================================================================================\n",
      "=============================================================================================================================\n",
      "\n"
     ]
    },
    {
     "name": "stderr",
     "output_type": "stream",
     "text": [
      "[Succeeded / Failed / Skipped / Total] 138 / 57 / 95 / 290:  58%|███████████▌        | 290/500 [03:48<02:45,  1.27it/s]textattack: Saving checkpoint under \"checkpoints\\1720259313513.ta.chkpt\" at 2024-07-06 17:48:33 after 290 attacks.\n"
     ]
    },
    {
     "name": "stdout",
     "output_type": "stream",
     "text": [
      "\n",
      "\n",
      "=============================================================================================================================\n",
      "=============================================================================================================================\n",
      "\n"
     ]
    },
    {
     "name": "stderr",
     "output_type": "stream",
     "text": [
      "[Succeeded / Failed / Skipped / Total] 142 / 57 / 96 / 295:  59%|███████████▊        | 295/500 [03:52<02:41,  1.27it/s]textattack: Saving checkpoint under \"checkpoints\\1720259317941.ta.chkpt\" at 2024-07-06 17:48:37 after 295 attacks.\n"
     ]
    },
    {
     "name": "stdout",
     "output_type": "stream",
     "text": [
      "\n",
      "\n",
      "=============================================================================================================================\n",
      "=============================================================================================================================\n",
      "\n"
     ]
    },
    {
     "name": "stderr",
     "output_type": "stream",
     "text": [
      "[Succeeded / Failed / Skipped / Total] 146 / 57 / 97 / 300:  60%|████████████        | 300/500 [03:55<02:37,  1.27it/s]textattack: Saving checkpoint under \"checkpoints\\1720259321287.ta.chkpt\" at 2024-07-06 17:48:41 after 300 attacks.\n"
     ]
    },
    {
     "name": "stdout",
     "output_type": "stream",
     "text": [
      "\n",
      "\n",
      "=============================================================================================================================\n",
      "=============================================================================================================================\n",
      "\n"
     ]
    },
    {
     "name": "stderr",
     "output_type": "stream",
     "text": [
      "[Succeeded / Failed / Skipped / Total] 147 / 58 / 100 / 305:  61%|███████████▌       | 305/500 [03:57<02:31,  1.29it/s]textattack: Saving checkpoint under \"checkpoints\\1720259322578.ta.chkpt\" at 2024-07-06 17:48:42 after 305 attacks.\n"
     ]
    },
    {
     "name": "stdout",
     "output_type": "stream",
     "text": [
      "\n",
      "\n",
      "=============================================================================================================================\n",
      "=============================================================================================================================\n",
      "\n"
     ]
    },
    {
     "name": "stderr",
     "output_type": "stream",
     "text": [
      "[Succeeded / Failed / Skipped / Total] 149 / 60 / 101 / 310:  62%|███████████▊       | 310/500 [04:00<02:27,  1.29it/s]textattack: Saving checkpoint under \"checkpoints\\1720259325565.ta.chkpt\" at 2024-07-06 17:48:45 after 310 attacks.\n"
     ]
    },
    {
     "name": "stdout",
     "output_type": "stream",
     "text": [
      "\n",
      "\n",
      "=============================================================================================================================\n",
      "=============================================================================================================================\n",
      "\n"
     ]
    },
    {
     "name": "stderr",
     "output_type": "stream",
     "text": [
      "[Succeeded / Failed / Skipped / Total] 152 / 61 / 102 / 315:  63%|███████████▉       | 315/500 [04:04<02:23,  1.29it/s]textattack: Saving checkpoint under \"checkpoints\\1720259329810.ta.chkpt\" at 2024-07-06 17:48:49 after 315 attacks.\n",
      "[Succeeded / Failed / Skipped / Total] 152 / 61 / 103 / 316:  63%|████████████       | 316/500 [04:04<02:22,  1.29it/s]"
     ]
    },
    {
     "name": "stdout",
     "output_type": "stream",
     "text": [
      "\n",
      "\n",
      "=============================================================================================================================\n",
      "=============================================================================================================================\n",
      "\n"
     ]
    },
    {
     "name": "stderr",
     "output_type": "stream",
     "text": [
      "[Succeeded / Failed / Skipped / Total] 154 / 62 / 104 / 320:  64%|████████████▏      | 320/500 [04:09<02:20,  1.28it/s]textattack: Saving checkpoint under \"checkpoints\\1720259334673.ta.chkpt\" at 2024-07-06 17:48:54 after 320 attacks.\n"
     ]
    },
    {
     "name": "stdout",
     "output_type": "stream",
     "text": [
      "\n",
      "\n",
      "=============================================================================================================================\n",
      "=============================================================================================================================\n",
      "\n"
     ]
    },
    {
     "name": "stderr",
     "output_type": "stream",
     "text": [
      "[Succeeded / Failed / Skipped / Total] 157 / 63 / 105 / 325:  65%|████████████▎      | 325/500 [04:16<02:18,  1.27it/s]textattack: Saving checkpoint under \"checkpoints\\1720259341765.ta.chkpt\" at 2024-07-06 17:49:01 after 325 attacks.\n"
     ]
    },
    {
     "name": "stdout",
     "output_type": "stream",
     "text": [
      "\n",
      "\n",
      "=============================================================================================================================\n",
      "=============================================================================================================================\n",
      "\n"
     ]
    },
    {
     "name": "stderr",
     "output_type": "stream",
     "text": [
      "[Succeeded / Failed / Skipped / Total] 160 / 63 / 107 / 330:  66%|████████████▌      | 330/500 [04:18<02:13,  1.28it/s]textattack: Saving checkpoint under \"checkpoints\\1720259343576.ta.chkpt\" at 2024-07-06 17:49:03 after 330 attacks.\n",
      "[Succeeded / Failed / Skipped / Total] 160 / 63 / 108 / 331:  66%|████████████▌      | 331/500 [04:18<02:11,  1.28it/s]"
     ]
    },
    {
     "name": "stdout",
     "output_type": "stream",
     "text": [
      "\n",
      "\n",
      "=============================================================================================================================\n",
      "=============================================================================================================================\n",
      "\n"
     ]
    },
    {
     "name": "stderr",
     "output_type": "stream",
     "text": [
      "[Succeeded / Failed / Skipped / Total] 160 / 66 / 109 / 335:  67%|████████████▋      | 335/500 [04:26<02:11,  1.26it/s]textattack: Saving checkpoint under \"checkpoints\\1720259351951.ta.chkpt\" at 2024-07-06 17:49:11 after 335 attacks.\n",
      "[Succeeded / Failed / Skipped / Total] 160 / 66 / 110 / 336:  67%|████████████▊      | 336/500 [04:26<02:10,  1.26it/s]"
     ]
    },
    {
     "name": "stdout",
     "output_type": "stream",
     "text": [
      "\n",
      "\n",
      "=============================================================================================================================\n",
      "=============================================================================================================================\n",
      "\n"
     ]
    },
    {
     "name": "stderr",
     "output_type": "stream",
     "text": [
      "[Succeeded / Failed / Skipped / Total] 163 / 66 / 111 / 340:  68%|████████████▉      | 340/500 [04:29<02:06,  1.26it/s]textattack: Saving checkpoint under \"checkpoints\\1720259355113.ta.chkpt\" at 2024-07-06 17:49:15 after 340 attacks.\n"
     ]
    },
    {
     "name": "stdout",
     "output_type": "stream",
     "text": [
      "\n",
      "\n",
      "=============================================================================================================================\n",
      "=============================================================================================================================\n",
      "\n"
     ]
    },
    {
     "name": "stderr",
     "output_type": "stream",
     "text": [
      "[Succeeded / Failed / Skipped / Total] 165 / 67 / 113 / 345:  69%|█████████████      | 345/500 [04:33<02:02,  1.26it/s]textattack: Saving checkpoint under \"checkpoints\\1720259358498.ta.chkpt\" at 2024-07-06 17:49:18 after 345 attacks.\n"
     ]
    },
    {
     "name": "stdout",
     "output_type": "stream",
     "text": [
      "\n",
      "\n",
      "=============================================================================================================================\n",
      "=============================================================================================================================\n",
      "\n"
     ]
    },
    {
     "name": "stderr",
     "output_type": "stream",
     "text": [
      "[Succeeded / Failed / Skipped / Total] 170 / 67 / 113 / 350:  70%|█████████████▎     | 350/500 [04:38<01:59,  1.26it/s]textattack: Saving checkpoint under \"checkpoints\\1720259363519.ta.chkpt\" at 2024-07-06 17:49:23 after 350 attacks.\n"
     ]
    },
    {
     "name": "stdout",
     "output_type": "stream",
     "text": [
      "\n",
      "\n",
      "=============================================================================================================================\n",
      "=============================================================================================================================\n",
      "\n"
     ]
    },
    {
     "name": "stderr",
     "output_type": "stream",
     "text": [
      "[Succeeded / Failed / Skipped / Total] 175 / 67 / 113 / 355:  71%|█████████████▍     | 355/500 [04:42<01:55,  1.26it/s]textattack: Saving checkpoint under \"checkpoints\\1720259367784.ta.chkpt\" at 2024-07-06 17:49:27 after 355 attacks.\n",
      "[Succeeded / Failed / Skipped / Total] 175 / 67 / 114 / 356:  71%|█████████████▌     | 356/500 [04:42<01:54,  1.26it/s]"
     ]
    },
    {
     "name": "stdout",
     "output_type": "stream",
     "text": [
      "\n",
      "\n",
      "=============================================================================================================================\n",
      "=============================================================================================================================\n",
      "\n"
     ]
    },
    {
     "name": "stderr",
     "output_type": "stream",
     "text": [
      "[Succeeded / Failed / Skipped / Total] 179 / 67 / 114 / 360:  72%|█████████████▋     | 360/500 [04:47<01:51,  1.25it/s]textattack: Saving checkpoint under \"checkpoints\\1720259372816.ta.chkpt\" at 2024-07-06 17:49:32 after 360 attacks.\n",
      "[Succeeded / Failed / Skipped / Total] 179 / 67 / 115 / 361:  72%|█████████████▋     | 361/500 [04:47<01:50,  1.26it/s]"
     ]
    },
    {
     "name": "stdout",
     "output_type": "stream",
     "text": [
      "\n",
      "\n",
      "=============================================================================================================================\n",
      "=============================================================================================================================\n",
      "\n"
     ]
    },
    {
     "name": "stderr",
     "output_type": "stream",
     "text": [
      "[Succeeded / Failed / Skipped / Total] 181 / 68 / 116 / 365:  73%|█████████████▊     | 365/500 [04:49<01:47,  1.26it/s]textattack: Saving checkpoint under \"checkpoints\\1720259375004.ta.chkpt\" at 2024-07-06 17:49:35 after 365 attacks.\n"
     ]
    },
    {
     "name": "stdout",
     "output_type": "stream",
     "text": [
      "\n",
      "\n",
      "=============================================================================================================================\n",
      "=============================================================================================================================\n",
      "\n"
     ]
    },
    {
     "name": "stderr",
     "output_type": "stream",
     "text": [
      "[Succeeded / Failed / Skipped / Total] 184 / 69 / 117 / 370:  74%|██████████████     | 370/500 [04:53<01:43,  1.26it/s]textattack: Saving checkpoint under \"checkpoints\\1720259378691.ta.chkpt\" at 2024-07-06 17:49:38 after 370 attacks.\n"
     ]
    },
    {
     "name": "stdout",
     "output_type": "stream",
     "text": [
      "\n",
      "\n",
      "=============================================================================================================================\n",
      "=============================================================================================================================\n",
      "\n"
     ]
    },
    {
     "name": "stderr",
     "output_type": "stream",
     "text": [
      "[Succeeded / Failed / Skipped / Total] 186 / 71 / 118 / 375:  75%|██████████████▎    | 375/500 [04:58<01:39,  1.26it/s]textattack: Saving checkpoint under \"checkpoints\\1720259384004.ta.chkpt\" at 2024-07-06 17:49:44 after 375 attacks.\n",
      "[Succeeded / Failed / Skipped / Total] 186 / 71 / 119 / 376:  75%|██████████████▎    | 376/500 [04:58<01:38,  1.26it/s]"
     ]
    },
    {
     "name": "stdout",
     "output_type": "stream",
     "text": [
      "\n",
      "\n",
      "=============================================================================================================================\n",
      "=============================================================================================================================\n",
      "\n"
     ]
    },
    {
     "name": "stderr",
     "output_type": "stream",
     "text": [
      "[Succeeded / Failed / Skipped / Total] 189 / 71 / 120 / 380:  76%|██████████████▍    | 380/500 [05:00<01:34,  1.26it/s]textattack: Saving checkpoint under \"checkpoints\\1720259386004.ta.chkpt\" at 2024-07-06 17:49:46 after 380 attacks.\n"
     ]
    },
    {
     "name": "stdout",
     "output_type": "stream",
     "text": [
      "\n",
      "\n",
      "=============================================================================================================================\n",
      "=============================================================================================================================\n",
      "\n"
     ]
    },
    {
     "name": "stderr",
     "output_type": "stream",
     "text": [
      "[Succeeded / Failed / Skipped / Total] 191 / 74 / 120 / 385:  77%|██████████████▋    | 385/500 [05:05<01:31,  1.26it/s]textattack: Saving checkpoint under \"checkpoints\\1720259390927.ta.chkpt\" at 2024-07-06 17:49:50 after 385 attacks.\n"
     ]
    },
    {
     "name": "stdout",
     "output_type": "stream",
     "text": [
      "\n",
      "\n",
      "=============================================================================================================================\n",
      "=============================================================================================================================\n",
      "\n"
     ]
    },
    {
     "name": "stderr",
     "output_type": "stream",
     "text": [
      "[Succeeded / Failed / Skipped / Total] 194 / 75 / 121 / 390:  78%|██████████████▊    | 390/500 [05:07<01:26,  1.27it/s]textattack: Saving checkpoint under \"checkpoints\\1720259393287.ta.chkpt\" at 2024-07-06 17:49:53 after 390 attacks.\n",
      "[Succeeded / Failed / Skipped / Total] 194 / 75 / 122 / 391:  78%|██████████████▊    | 391/500 [05:08<01:25,  1.27it/s]"
     ]
    },
    {
     "name": "stdout",
     "output_type": "stream",
     "text": [
      "\n",
      "\n",
      "=============================================================================================================================\n",
      "=============================================================================================================================\n",
      "\n"
     ]
    },
    {
     "name": "stderr",
     "output_type": "stream",
     "text": [
      "[Succeeded / Failed / Skipped / Total] 197 / 75 / 123 / 395:  79%|███████████████    | 395/500 [05:11<01:22,  1.27it/s]textattack: Saving checkpoint under \"checkpoints\\1720259396943.ta.chkpt\" at 2024-07-06 17:49:56 after 395 attacks.\n"
     ]
    },
    {
     "name": "stdout",
     "output_type": "stream",
     "text": [
      "\n",
      "\n",
      "=============================================================================================================================\n",
      "=============================================================================================================================\n",
      "\n"
     ]
    },
    {
     "name": "stderr",
     "output_type": "stream",
     "text": [
      "[Succeeded / Failed / Skipped / Total] 199 / 77 / 124 / 400:  80%|███████████████▏   | 400/500 [05:18<01:19,  1.26it/s]textattack: Saving checkpoint under \"checkpoints\\1720259403553.ta.chkpt\" at 2024-07-06 17:50:03 after 400 attacks.\n"
     ]
    },
    {
     "name": "stdout",
     "output_type": "stream",
     "text": [
      "\n",
      "\n",
      "=============================================================================================================================\n",
      "=============================================================================================================================\n",
      "\n"
     ]
    },
    {
     "name": "stderr",
     "output_type": "stream",
     "text": [
      "[Succeeded / Failed / Skipped / Total] 202 / 78 / 125 / 405:  81%|███████████████▍   | 405/500 [05:24<01:16,  1.25it/s]textattack: Saving checkpoint under \"checkpoints\\1720259409538.ta.chkpt\" at 2024-07-06 17:50:09 after 405 attacks.\n"
     ]
    },
    {
     "name": "stdout",
     "output_type": "stream",
     "text": [
      "\n",
      "\n",
      "=============================================================================================================================\n",
      "=============================================================================================================================\n",
      "\n"
     ]
    },
    {
     "name": "stderr",
     "output_type": "stream",
     "text": [
      "[Succeeded / Failed / Skipped / Total] 206 / 79 / 125 / 410:  82%|███████████████▌   | 410/500 [05:27<01:11,  1.25it/s]textattack: Saving checkpoint under \"checkpoints\\1720259413320.ta.chkpt\" at 2024-07-06 17:50:13 after 410 attacks.\n"
     ]
    },
    {
     "name": "stdout",
     "output_type": "stream",
     "text": [
      "\n",
      "\n",
      "=============================================================================================================================\n",
      "=============================================================================================================================\n",
      "\n"
     ]
    },
    {
     "name": "stderr",
     "output_type": "stream",
     "text": [
      "[Succeeded / Failed / Skipped / Total] 208 / 79 / 128 / 415:  83%|███████████████▊   | 415/500 [05:29<01:07,  1.26it/s]textattack: Saving checkpoint under \"checkpoints\\1720259415179.ta.chkpt\" at 2024-07-06 17:50:15 after 415 attacks.\n"
     ]
    },
    {
     "name": "stdout",
     "output_type": "stream",
     "text": [
      "\n",
      "\n",
      "=============================================================================================================================\n",
      "=============================================================================================================================\n",
      "\n"
     ]
    },
    {
     "name": "stderr",
     "output_type": "stream",
     "text": [
      "[Succeeded / Failed / Skipped / Total] 210 / 79 / 131 / 420:  84%|███████████████▉   | 420/500 [05:32<01:03,  1.26it/s]textattack: Saving checkpoint under \"checkpoints\\1720259417883.ta.chkpt\" at 2024-07-06 17:50:17 after 420 attacks.\n"
     ]
    },
    {
     "name": "stdout",
     "output_type": "stream",
     "text": [
      "\n",
      "\n",
      "=============================================================================================================================\n",
      "=============================================================================================================================\n",
      "\n"
     ]
    },
    {
     "name": "stderr",
     "output_type": "stream",
     "text": [
      "[Succeeded / Failed / Skipped / Total] 214 / 80 / 131 / 425:  85%|████████████████▏  | 425/500 [05:37<00:59,  1.26it/s]textattack: Saving checkpoint under \"checkpoints\\1720259422539.ta.chkpt\" at 2024-07-06 17:50:22 after 425 attacks.\n",
      "[Succeeded / Failed / Skipped / Total] 214 / 80 / 133 / 427:  85%|████████████████▏  | 427/500 [05:37<00:57,  1.27it/s]"
     ]
    },
    {
     "name": "stdout",
     "output_type": "stream",
     "text": [
      "\n",
      "\n",
      "=============================================================================================================================\n",
      "=============================================================================================================================\n",
      "\n"
     ]
    },
    {
     "name": "stderr",
     "output_type": "stream",
     "text": [
      "[Succeeded / Failed / Skipped / Total] 215 / 80 / 135 / 430:  86%|████████████████▎  | 430/500 [05:38<00:55,  1.27it/s]textattack: Saving checkpoint under \"checkpoints\\1720259424305.ta.chkpt\" at 2024-07-06 17:50:24 after 430 attacks.\n",
      "[Succeeded / Failed / Skipped / Total] 215 / 80 / 136 / 431:  86%|████████████████▍  | 431/500 [05:39<00:54,  1.27it/s]"
     ]
    },
    {
     "name": "stdout",
     "output_type": "stream",
     "text": [
      "\n",
      "\n",
      "=============================================================================================================================\n",
      "=============================================================================================================================\n",
      "\n"
     ]
    },
    {
     "name": "stderr",
     "output_type": "stream",
     "text": [
      "[Succeeded / Failed / Skipped / Total] 218 / 80 / 137 / 435:  87%|████████████████▌  | 435/500 [05:41<00:51,  1.27it/s]textattack: Saving checkpoint under \"checkpoints\\1720259427274.ta.chkpt\" at 2024-07-06 17:50:27 after 435 attacks.\n"
     ]
    },
    {
     "name": "stdout",
     "output_type": "stream",
     "text": [
      "\n",
      "\n",
      "=============================================================================================================================\n",
      "=============================================================================================================================\n",
      "\n"
     ]
    },
    {
     "name": "stderr",
     "output_type": "stream",
     "text": [
      "[Succeeded / Failed / Skipped / Total] 222 / 81 / 137 / 440:  88%|████████████████▋  | 440/500 [05:49<00:47,  1.26it/s]textattack: Saving checkpoint under \"checkpoints\\1720259434917.ta.chkpt\" at 2024-07-06 17:50:34 after 440 attacks.\n",
      "[Succeeded / Failed / Skipped / Total] 222 / 81 / 138 / 441:  88%|████████████████▊  | 441/500 [05:49<00:46,  1.26it/s]"
     ]
    },
    {
     "name": "stdout",
     "output_type": "stream",
     "text": [
      "\n",
      "\n",
      "=============================================================================================================================\n",
      "=============================================================================================================================\n",
      "\n"
     ]
    },
    {
     "name": "stderr",
     "output_type": "stream",
     "text": [
      "[Succeeded / Failed / Skipped / Total] 223 / 84 / 138 / 445:  89%|████████████████▉  | 445/500 [05:54<00:43,  1.26it/s]textattack: Saving checkpoint under \"checkpoints\\1720259439417.ta.chkpt\" at 2024-07-06 17:50:39 after 445 attacks.\n"
     ]
    },
    {
     "name": "stdout",
     "output_type": "stream",
     "text": [
      "\n",
      "\n",
      "=============================================================================================================================\n",
      "=============================================================================================================================\n",
      "\n"
     ]
    },
    {
     "name": "stderr",
     "output_type": "stream",
     "text": [
      "[Succeeded / Failed / Skipped / Total] 224 / 86 / 140 / 450:  90%|█████████████████  | 450/500 [05:57<00:39,  1.26it/s]textattack: Saving checkpoint under \"checkpoints\\1720259443043.ta.chkpt\" at 2024-07-06 17:50:43 after 450 attacks.\n"
     ]
    },
    {
     "name": "stdout",
     "output_type": "stream",
     "text": [
      "\n",
      "\n",
      "=============================================================================================================================\n",
      "=============================================================================================================================\n",
      "\n"
     ]
    },
    {
     "name": "stderr",
     "output_type": "stream",
     "text": [
      "[Succeeded / Failed / Skipped / Total] 227 / 86 / 142 / 455:  91%|█████████████████▎ | 455/500 [06:01<00:35,  1.26it/s]textattack: Saving checkpoint under \"checkpoints\\1720259446887.ta.chkpt\" at 2024-07-06 17:50:46 after 455 attacks.\n"
     ]
    },
    {
     "name": "stdout",
     "output_type": "stream",
     "text": [
      "\n",
      "\n",
      "=============================================================================================================================\n",
      "=============================================================================================================================\n",
      "\n"
     ]
    },
    {
     "name": "stderr",
     "output_type": "stream",
     "text": [
      "[Succeeded / Failed / Skipped / Total] 229 / 88 / 143 / 460:  92%|█████████████████▍ | 460/500 [06:09<00:32,  1.24it/s]textattack: Saving checkpoint under \"checkpoints\\1720259454997.ta.chkpt\" at 2024-07-06 17:50:54 after 460 attacks.\n"
     ]
    },
    {
     "name": "stdout",
     "output_type": "stream",
     "text": [
      "\n",
      "\n",
      "=============================================================================================================================\n",
      "=============================================================================================================================\n",
      "\n"
     ]
    },
    {
     "name": "stderr",
     "output_type": "stream",
     "text": [
      "[Succeeded / Failed / Skipped / Total] 231 / 90 / 144 / 465:  93%|█████████████████▋ | 465/500 [06:16<00:28,  1.24it/s]textattack: Saving checkpoint under \"checkpoints\\1720259461841.ta.chkpt\" at 2024-07-06 17:51:01 after 465 attacks.\n"
     ]
    },
    {
     "name": "stdout",
     "output_type": "stream",
     "text": [
      "\n",
      "\n",
      "=============================================================================================================================\n",
      "=============================================================================================================================\n",
      "\n"
     ]
    },
    {
     "name": "stderr",
     "output_type": "stream",
     "text": [
      "[Succeeded / Failed / Skipped / Total] 236 / 90 / 144 / 470:  94%|█████████████████▊ | 470/500 [06:19<00:24,  1.24it/s]textattack: Saving checkpoint under \"checkpoints\\1720259465076.ta.chkpt\" at 2024-07-06 17:51:05 after 470 attacks.\n"
     ]
    },
    {
     "name": "stdout",
     "output_type": "stream",
     "text": [
      "\n",
      "\n",
      "=============================================================================================================================\n",
      "=============================================================================================================================\n",
      "\n"
     ]
    },
    {
     "name": "stderr",
     "output_type": "stream",
     "text": [
      "[Succeeded / Failed / Skipped / Total] 239 / 92 / 144 / 475:  95%|██████████████████ | 475/500 [06:26<00:20,  1.23it/s]textattack: Saving checkpoint under \"checkpoints\\1720259472279.ta.chkpt\" at 2024-07-06 17:51:12 after 475 attacks.\n"
     ]
    },
    {
     "name": "stdout",
     "output_type": "stream",
     "text": [
      "\n",
      "\n",
      "=============================================================================================================================\n",
      "=============================================================================================================================\n",
      "\n"
     ]
    },
    {
     "name": "stderr",
     "output_type": "stream",
     "text": [
      "[Succeeded / Failed / Skipped / Total] 242 / 93 / 145 / 480:  96%|██████████████████▏| 480/500 [06:30<00:16,  1.23it/s]textattack: Saving checkpoint under \"checkpoints\\1720259476123.ta.chkpt\" at 2024-07-06 17:51:16 after 480 attacks.\n"
     ]
    },
    {
     "name": "stdout",
     "output_type": "stream",
     "text": [
      "\n",
      "\n",
      "=============================================================================================================================\n",
      "=============================================================================================================================\n",
      "\n"
     ]
    },
    {
     "name": "stderr",
     "output_type": "stream",
     "text": [
      "[Succeeded / Failed / Skipped / Total] 243 / 95 / 147 / 485:  97%|██████████████████▍| 485/500 [06:34<00:12,  1.23it/s]textattack: Saving checkpoint under \"checkpoints\\1720259479657.ta.chkpt\" at 2024-07-06 17:51:19 after 485 attacks.\n",
      "[Succeeded / Failed / Skipped / Total] 243 / 95 / 148 / 486:  97%|██████████████████▍| 486/500 [06:34<00:11,  1.23it/s]"
     ]
    },
    {
     "name": "stdout",
     "output_type": "stream",
     "text": [
      "\n",
      "\n",
      "=============================================================================================================================\n",
      "=============================================================================================================================\n",
      "\n"
     ]
    },
    {
     "name": "stderr",
     "output_type": "stream",
     "text": [
      "[Succeeded / Failed / Skipped / Total] 244 / 97 / 149 / 490:  98%|██████████████████▌| 490/500 [06:38<00:08,  1.23it/s]textattack: Saving checkpoint under \"checkpoints\\1720259484235.ta.chkpt\" at 2024-07-06 17:51:24 after 490 attacks.\n",
      "[Succeeded / Failed / Skipped / Total] 244 / 97 / 150 / 491:  98%|██████████████████▋| 491/500 [06:39<00:07,  1.23it/s]"
     ]
    },
    {
     "name": "stdout",
     "output_type": "stream",
     "text": [
      "\n",
      "\n",
      "=============================================================================================================================\n",
      "=============================================================================================================================\n",
      "\n"
     ]
    },
    {
     "name": "stderr",
     "output_type": "stream",
     "text": [
      "[Succeeded / Failed / Skipped / Total] 246 / 98 / 151 / 495:  99%|██████████████████▊| 495/500 [06:42<00:04,  1.23it/s]textattack: Saving checkpoint under \"checkpoints\\1720259487782.ta.chkpt\" at 2024-07-06 17:51:27 after 495 attacks.\n"
     ]
    },
    {
     "name": "stdout",
     "output_type": "stream",
     "text": [
      "\n",
      "\n",
      "=============================================================================================================================\n",
      "=============================================================================================================================\n",
      "\n"
     ]
    },
    {
     "name": "stderr",
     "output_type": "stream",
     "text": [
      "[Succeeded / Failed / Skipped / Total] 248 / 99 / 153 / 500: 100%|███████████████████| 500/500 [06:45<00:00,  1.23it/s]textattack: Saving checkpoint under \"checkpoints\\1720259490782.ta.chkpt\" at 2024-07-06 17:51:30 after 500 attacks.\n",
      "[Succeeded / Failed / Skipped / Total] 248 / 99 / 153 / 500: 100%|███████████████████| 500/500 [06:45<00:00,  1.23it/s]"
     ]
    },
    {
     "name": "stdout",
     "output_type": "stream",
     "text": [
      "\n",
      "\n",
      "=============================================================================================================================\n",
      "=============================================================================================================================\n",
      "\n",
      "\n",
      "+-------------------------------+--------+\n",
      "| Attack Results                |        |\n",
      "+-------------------------------+--------+\n",
      "| Number of successful attacks: | 248    |\n",
      "| Number of failed attacks:     | 99     |\n",
      "| Number of skipped attacks:    | 153    |\n",
      "| Original accuracy:            | 69.4%  |\n",
      "| Accuracy under attack:        | 19.8%  |\n",
      "| Attack success rate:          | 71.47% |\n",
      "| Average perturbed word %:     | 9.22%  |\n",
      "| Average num. words per input: | 18.4   |\n",
      "| Avg num queries:              | 18.93  |\n",
      "+-------------------------------+--------+\n"
     ]
    },
    {
     "name": "stderr",
     "output_type": "stream",
     "text": [
      "\n"
     ]
    }
   ],
   "source": [
    "runAttack(bert_model_wrapper_knn_mr, n_samples, 'attack_results_new/bertmrattackknn'+suffix, target_ds_mr)"
   ]
  },
  {
   "cell_type": "code",
   "execution_count": 15,
   "id": "81e7d26b-097a-47d3-b9c6-b5d63790260c",
   "metadata": {},
   "outputs": [
    {
     "name": "stderr",
     "output_type": "stream",
     "text": [
      "textattack: Unknown if model of class <class 'transformers.models.bert.modeling_bert.BertModel'> compatible with goal function <class 'textattack.goal_functions.classification.untargeted_classification.UntargetedClassification'>.\n",
      "textattack: Logging to CSV at path attack_results_new/bertmrattacksvcsim09.csv\n"
     ]
    },
    {
     "name": "stdout",
     "output_type": "stream",
     "text": [
      "Attack(\n",
      "  (search_method): GreedyWordSwapWIR(\n",
      "    (wir_method):  delete\n",
      "  )\n",
      "  (goal_function):  UntargetedClassification\n",
      "  (transformation):  WordSwapEmbedding(\n",
      "    (max_candidates):  50\n",
      "    (embedding):  WordEmbedding\n",
      "  )\n",
      "  (constraints): \n",
      "    (0): WordEmbeddingDistance(\n",
      "        (embedding):  WordEmbedding\n",
      "        (min_cos_sim):  0.9\n",
      "        (cased):  False\n",
      "        (include_unknown_words):  True\n",
      "        (compare_against_original):  True\n",
      "      )\n",
      "    (1): PartOfSpeech(\n",
      "        (tagger_type):  nltk\n",
      "        (tagset):  universal\n",
      "        (allow_verb_noun_swap):  True\n",
      "        (compare_against_original):  True\n",
      "      )\n",
      "    (2): UniversalSentenceEncoder(\n",
      "        (metric):  angular\n",
      "        (threshold):  0.840845057\n",
      "        (window_size):  15\n",
      "        (skip_text_shorter_than_window):  True\n",
      "        (compare_against_original):  False\n",
      "      )\n",
      "    (3): RepeatModification\n",
      "    (4): StopwordModification\n",
      "    (5): InputColumnModification(\n",
      "        (matching_column_labels):  ['premise', 'hypothesis']\n",
      "        (columns_to_ignore):  {'premise'}\n",
      "      )\n",
      "  (is_black_box):  True\n",
      ") \n",
      "\n"
     ]
    },
    {
     "name": "stderr",
     "output_type": "stream",
     "text": [
      "[Succeeded / Failed / Skipped / Total] 0 / 4 / 1 / 5:   1%|▎                           | 5/500 [00:10<17:55,  2.17s/it]textattack: Saving checkpoint under \"checkpoints\\1720259501723.ta.chkpt\" at 2024-07-06 17:51:41 after 5 attacks.\n",
      "[Succeeded / Failed / Skipped / Total] 0 / 4 / 3 / 7:   1%|▍                           | 7/500 [00:11<12:57,  1.58s/it]"
     ]
    },
    {
     "name": "stdout",
     "output_type": "stream",
     "text": [
      "\n",
      "\n",
      "=============================================================================================================================\n",
      "=============================================================================================================================\n",
      "\n"
     ]
    },
    {
     "name": "stderr",
     "output_type": "stream",
     "text": [
      "[Succeeded / Failed / Skipped / Total] 1 / 5 / 4 / 10:   2%|▌                         | 10/500 [00:15<12:46,  1.56s/it]textattack: Saving checkpoint under \"checkpoints\\1720259506504.ta.chkpt\" at 2024-07-06 17:51:46 after 10 attacks.\n"
     ]
    },
    {
     "name": "stdout",
     "output_type": "stream",
     "text": [
      "\n",
      "\n",
      "=============================================================================================================================\n",
      "=============================================================================================================================\n",
      "\n"
     ]
    },
    {
     "name": "stderr",
     "output_type": "stream",
     "text": [
      "[Succeeded / Failed / Skipped / Total] 1 / 10 / 4 / 15:   3%|▊                        | 15/500 [00:23<12:49,  1.59s/it]textattack: Saving checkpoint under \"checkpoints\\1720259514661.ta.chkpt\" at 2024-07-06 17:51:54 after 15 attacks.\n"
     ]
    },
    {
     "name": "stdout",
     "output_type": "stream",
     "text": [
      "\n",
      "\n",
      "=============================================================================================================================\n",
      "=============================================================================================================================\n",
      "\n"
     ]
    },
    {
     "name": "stderr",
     "output_type": "stream",
     "text": [
      "[Succeeded / Failed / Skipped / Total] 1 / 14 / 5 / 20:   4%|█                        | 20/500 [00:27<11:04,  1.39s/it]textattack: Saving checkpoint under \"checkpoints\\1720259518568.ta.chkpt\" at 2024-07-06 17:51:58 after 20 attacks.\n"
     ]
    },
    {
     "name": "stdout",
     "output_type": "stream",
     "text": [
      "\n",
      "\n",
      "=============================================================================================================================\n",
      "=============================================================================================================================\n",
      "\n"
     ]
    },
    {
     "name": "stderr",
     "output_type": "stream",
     "text": [
      "[Succeeded / Failed / Skipped / Total] 2 / 16 / 7 / 25:   5%|█▎                       | 25/500 [00:33<10:28,  1.32s/it]textattack: Saving checkpoint under \"checkpoints\\1720259523929.ta.chkpt\" at 2024-07-06 17:52:03 after 25 attacks.\n"
     ]
    },
    {
     "name": "stdout",
     "output_type": "stream",
     "text": [
      "\n",
      "\n",
      "=============================================================================================================================\n",
      "=============================================================================================================================\n",
      "\n"
     ]
    },
    {
     "name": "stderr",
     "output_type": "stream",
     "text": [
      "[Succeeded / Failed / Skipped / Total] 2 / 21 / 7 / 30:   6%|█▌                       | 30/500 [00:37<09:54,  1.26s/it]textattack: Saving checkpoint under \"checkpoints\\1720259528789.ta.chkpt\" at 2024-07-06 17:52:08 after 30 attacks.\n"
     ]
    },
    {
     "name": "stdout",
     "output_type": "stream",
     "text": [
      "\n",
      "\n",
      "=============================================================================================================================\n",
      "=============================================================================================================================\n",
      "\n"
     ]
    },
    {
     "name": "stderr",
     "output_type": "stream",
     "text": [
      "[Succeeded / Failed / Skipped / Total] 4 / 23 / 8 / 35:   7%|█▊                       | 35/500 [00:41<09:14,  1.19s/it]textattack: Saving checkpoint under \"checkpoints\\1720259532618.ta.chkpt\" at 2024-07-06 17:52:12 after 35 attacks.\n"
     ]
    },
    {
     "name": "stdout",
     "output_type": "stream",
     "text": [
      "\n",
      "\n",
      "=============================================================================================================================\n",
      "=============================================================================================================================\n",
      "\n"
     ]
    },
    {
     "name": "stderr",
     "output_type": "stream",
     "text": [
      "[Succeeded / Failed / Skipped / Total] 5 / 25 / 10 / 40:   8%|█▉                      | 40/500 [00:46<08:51,  1.15s/it]textattack: Saving checkpoint under \"checkpoints\\1720259537040.ta.chkpt\" at 2024-07-06 17:52:17 after 40 attacks.\n"
     ]
    },
    {
     "name": "stdout",
     "output_type": "stream",
     "text": [
      "\n",
      "\n",
      "=============================================================================================================================\n",
      "=============================================================================================================================\n",
      "\n"
     ]
    },
    {
     "name": "stderr",
     "output_type": "stream",
     "text": [
      "[Succeeded / Failed / Skipped / Total] 6 / 28 / 11 / 45:   9%|██▏                     | 45/500 [00:53<08:58,  1.18s/it]textattack: Saving checkpoint under \"checkpoints\\1720259544165.ta.chkpt\" at 2024-07-06 17:52:24 after 45 attacks.\n"
     ]
    },
    {
     "name": "stdout",
     "output_type": "stream",
     "text": [
      "\n",
      "\n",
      "=============================================================================================================================\n",
      "=============================================================================================================================\n",
      "\n"
     ]
    },
    {
     "name": "stderr",
     "output_type": "stream",
     "text": [
      "[Succeeded / Failed / Skipped / Total] 7 / 32 / 11 / 50:  10%|██▍                     | 50/500 [01:01<09:16,  1.24s/it]textattack: Saving checkpoint under \"checkpoints\\1720259552666.ta.chkpt\" at 2024-07-06 17:52:32 after 50 attacks.\n"
     ]
    },
    {
     "name": "stdout",
     "output_type": "stream",
     "text": [
      "\n",
      "\n",
      "=============================================================================================================================\n",
      "=============================================================================================================================\n",
      "\n"
     ]
    },
    {
     "name": "stderr",
     "output_type": "stream",
     "text": [
      "[Succeeded / Failed / Skipped / Total] 10 / 34 / 11 / 55:  11%|██▌                    | 55/500 [01:09<09:25,  1.27s/it]textattack: Saving checkpoint under \"checkpoints\\1720259560760.ta.chkpt\" at 2024-07-06 17:52:40 after 55 attacks.\n"
     ]
    },
    {
     "name": "stdout",
     "output_type": "stream",
     "text": [
      "\n",
      "\n",
      "=============================================================================================================================\n",
      "=============================================================================================================================\n",
      "\n"
     ]
    },
    {
     "name": "stderr",
     "output_type": "stream",
     "text": [
      "[Succeeded / Failed / Skipped / Total] 11 / 37 / 12 / 60:  12%|██▊                    | 60/500 [01:14<09:08,  1.25s/it]textattack: Saving checkpoint under \"checkpoints\\1720259565604.ta.chkpt\" at 2024-07-06 17:52:45 after 60 attacks.\n",
      "[Succeeded / Failed / Skipped / Total] 11 / 37 / 13 / 61:  12%|██▊                    | 61/500 [01:14<08:58,  1.23s/it]"
     ]
    },
    {
     "name": "stdout",
     "output_type": "stream",
     "text": [
      "\n",
      "\n",
      "=============================================================================================================================\n",
      "=============================================================================================================================\n",
      "\n"
     ]
    },
    {
     "name": "stderr",
     "output_type": "stream",
     "text": [
      "[Succeeded / Failed / Skipped / Total] 12 / 40 / 13 / 65:  13%|██▉                    | 65/500 [01:18<08:46,  1.21s/it]textattack: Saving checkpoint under \"checkpoints\\1720259569511.ta.chkpt\" at 2024-07-06 17:52:49 after 65 attacks.\n"
     ]
    },
    {
     "name": "stdout",
     "output_type": "stream",
     "text": [
      "\n",
      "\n",
      "=============================================================================================================================\n",
      "=============================================================================================================================\n",
      "\n"
     ]
    },
    {
     "name": "stderr",
     "output_type": "stream",
     "text": [
      "[Succeeded / Failed / Skipped / Total] 12 / 44 / 14 / 70:  14%|███▏                   | 70/500 [01:23<08:32,  1.19s/it]textattack: Saving checkpoint under \"checkpoints\\1720259574370.ta.chkpt\" at 2024-07-06 17:52:54 after 70 attacks.\n"
     ]
    },
    {
     "name": "stdout",
     "output_type": "stream",
     "text": [
      "\n",
      "\n",
      "=============================================================================================================================\n",
      "=============================================================================================================================\n",
      "\n"
     ]
    },
    {
     "name": "stderr",
     "output_type": "stream",
     "text": [
      "[Succeeded / Failed / Skipped / Total] 15 / 45 / 15 / 75:  15%|███▍                   | 75/500 [01:26<08:11,  1.16s/it]textattack: Saving checkpoint under \"checkpoints\\1720259577527.ta.chkpt\" at 2024-07-06 17:52:57 after 75 attacks.\n",
      "[Succeeded / Failed / Skipped / Total] 15 / 45 / 16 / 76:  15%|███▍                   | 76/500 [01:26<08:03,  1.14s/it]"
     ]
    },
    {
     "name": "stdout",
     "output_type": "stream",
     "text": [
      "\n",
      "\n",
      "=============================================================================================================================\n",
      "=============================================================================================================================\n",
      "\n"
     ]
    },
    {
     "name": "stderr",
     "output_type": "stream",
     "text": [
      "[Succeeded / Failed / Skipped / Total] 15 / 49 / 16 / 80:  16%|███▋                   | 80/500 [01:31<07:59,  1.14s/it]textattack: Saving checkpoint under \"checkpoints\\1720259582277.ta.chkpt\" at 2024-07-06 17:53:02 after 80 attacks.\n"
     ]
    },
    {
     "name": "stdout",
     "output_type": "stream",
     "text": [
      "\n",
      "\n",
      "=============================================================================================================================\n",
      "=============================================================================================================================\n",
      "\n"
     ]
    },
    {
     "name": "stderr",
     "output_type": "stream",
     "text": [
      "[Succeeded / Failed / Skipped / Total] 17 / 50 / 18 / 85:  17%|███▉                   | 85/500 [01:34<07:41,  1.11s/it]textattack: Saving checkpoint under \"checkpoints\\1720259585293.ta.chkpt\" at 2024-07-06 17:53:05 after 85 attacks.\n"
     ]
    },
    {
     "name": "stdout",
     "output_type": "stream",
     "text": [
      "\n",
      "\n",
      "=============================================================================================================================\n",
      "=============================================================================================================================\n",
      "\n"
     ]
    },
    {
     "name": "stderr",
     "output_type": "stream",
     "text": [
      "[Succeeded / Failed / Skipped / Total] 19 / 53 / 18 / 90:  18%|████▏                  | 90/500 [01:42<07:46,  1.14s/it]textattack: Saving checkpoint under \"checkpoints\\1720259593325.ta.chkpt\" at 2024-07-06 17:53:13 after 90 attacks.\n",
      "[Succeeded / Failed / Skipped / Total] 19 / 53 / 19 / 91:  18%|████▏                  | 91/500 [01:42<07:41,  1.13s/it]"
     ]
    },
    {
     "name": "stdout",
     "output_type": "stream",
     "text": [
      "\n",
      "\n",
      "=============================================================================================================================\n",
      "=============================================================================================================================\n",
      "\n"
     ]
    },
    {
     "name": "stderr",
     "output_type": "stream",
     "text": [
      "[Succeeded / Failed / Skipped / Total] 22 / 53 / 20 / 95:  19%|████▎                  | 95/500 [01:46<07:34,  1.12s/it]textattack: Saving checkpoint under \"checkpoints\\1720259597560.ta.chkpt\" at 2024-07-06 17:53:17 after 95 attacks.\n"
     ]
    },
    {
     "name": "stdout",
     "output_type": "stream",
     "text": [
      "\n",
      "\n",
      "=============================================================================================================================\n",
      "=============================================================================================================================\n",
      "\n"
     ]
    },
    {
     "name": "stderr",
     "output_type": "stream",
     "text": [
      "[Succeeded / Failed / Skipped / Total] 22 / 58 / 20 / 100:  20%|████▏                | 100/500 [01:51<07:27,  1.12s/it]textattack: Saving checkpoint under \"checkpoints\\1720259602841.ta.chkpt\" at 2024-07-06 17:53:22 after 100 attacks.\n"
     ]
    },
    {
     "name": "stdout",
     "output_type": "stream",
     "text": [
      "\n",
      "\n",
      "=============================================================================================================================\n",
      "=============================================================================================================================\n",
      "\n"
     ]
    },
    {
     "name": "stderr",
     "output_type": "stream",
     "text": [
      "[Succeeded / Failed / Skipped / Total] 23 / 62 / 20 / 105:  21%|████▍                | 105/500 [02:03<07:43,  1.17s/it]textattack: Saving checkpoint under \"checkpoints\\1720259613967.ta.chkpt\" at 2024-07-06 17:53:33 after 105 attacks.\n",
      "[Succeeded / Failed / Skipped / Total] 23 / 62 / 21 / 106:  21%|████▍                | 106/500 [02:03<07:37,  1.16s/it]"
     ]
    },
    {
     "name": "stdout",
     "output_type": "stream",
     "text": [
      "\n",
      "\n",
      "=============================================================================================================================\n",
      "=============================================================================================================================\n",
      "\n"
     ]
    },
    {
     "name": "stderr",
     "output_type": "stream",
     "text": [
      "[Succeeded / Failed / Skipped / Total] 24 / 64 / 22 / 110:  22%|████▌                | 110/500 [02:08<07:35,  1.17s/it]textattack: Saving checkpoint under \"checkpoints\\1720259619311.ta.chkpt\" at 2024-07-06 17:53:39 after 110 attacks.\n",
      "[Succeeded / Failed / Skipped / Total] 24 / 64 / 23 / 111:  22%|████▋                | 111/500 [02:08<07:30,  1.16s/it]"
     ]
    },
    {
     "name": "stdout",
     "output_type": "stream",
     "text": [
      "\n",
      "\n",
      "=============================================================================================================================\n",
      "=============================================================================================================================\n",
      "\n"
     ]
    },
    {
     "name": "stderr",
     "output_type": "stream",
     "text": [
      "[Succeeded / Failed / Skipped / Total] 25 / 67 / 23 / 115:  23%|████▊                | 115/500 [02:15<07:32,  1.18s/it]textattack: Saving checkpoint under \"checkpoints\\1720259626109.ta.chkpt\" at 2024-07-06 17:53:46 after 115 attacks.\n"
     ]
    },
    {
     "name": "stdout",
     "output_type": "stream",
     "text": [
      "\n",
      "\n",
      "=============================================================================================================================\n",
      "=============================================================================================================================\n",
      "\n"
     ]
    },
    {
     "name": "stderr",
     "output_type": "stream",
     "text": [
      "[Succeeded / Failed / Skipped / Total] 25 / 70 / 25 / 120:  24%|█████                | 120/500 [02:17<07:15,  1.15s/it]textattack: Saving checkpoint under \"checkpoints\\1720259628453.ta.chkpt\" at 2024-07-06 17:53:48 after 120 attacks.\n"
     ]
    },
    {
     "name": "stdout",
     "output_type": "stream",
     "text": [
      "\n",
      "\n",
      "=============================================================================================================================\n",
      "=============================================================================================================================\n",
      "\n"
     ]
    },
    {
     "name": "stderr",
     "output_type": "stream",
     "text": [
      "[Succeeded / Failed / Skipped / Total] 29 / 71 / 25 / 125:  25%|█████▎               | 125/500 [02:24<07:13,  1.16s/it]textattack: Saving checkpoint under \"checkpoints\\1720259635266.ta.chkpt\" at 2024-07-06 17:53:55 after 125 attacks.\n",
      "[Succeeded / Failed / Skipped / Total] 29 / 71 / 26 / 126:  25%|█████▎               | 126/500 [02:24<07:09,  1.15s/it]"
     ]
    },
    {
     "name": "stdout",
     "output_type": "stream",
     "text": [
      "\n",
      "\n",
      "=============================================================================================================================\n",
      "=============================================================================================================================\n",
      "\n"
     ]
    },
    {
     "name": "stderr",
     "output_type": "stream",
     "text": [
      "[Succeeded / Failed / Skipped / Total] 31 / 73 / 26 / 130:  26%|█████▍               | 130/500 [02:28<07:01,  1.14s/it]textattack: Saving checkpoint under \"checkpoints\\1720259639032.ta.chkpt\" at 2024-07-06 17:53:59 after 130 attacks.\n",
      "[Succeeded / Failed / Skipped / Total] 31 / 73 / 27 / 131:  26%|█████▌               | 131/500 [02:28<06:57,  1.13s/it]"
     ]
    },
    {
     "name": "stdout",
     "output_type": "stream",
     "text": [
      "\n",
      "\n",
      "=============================================================================================================================\n",
      "=============================================================================================================================\n",
      "\n"
     ]
    },
    {
     "name": "stderr",
     "output_type": "stream",
     "text": [
      "[Succeeded / Failed / Skipped / Total] 33 / 75 / 27 / 135:  27%|█████▋               | 135/500 [02:36<07:03,  1.16s/it]textattack: Saving checkpoint under \"checkpoints\\1720259647439.ta.chkpt\" at 2024-07-06 17:54:07 after 135 attacks.\n"
     ]
    },
    {
     "name": "stdout",
     "output_type": "stream",
     "text": [
      "\n",
      "\n",
      "=============================================================================================================================\n",
      "=============================================================================================================================\n",
      "\n"
     ]
    },
    {
     "name": "stderr",
     "output_type": "stream",
     "text": [
      "[Succeeded / Failed / Skipped / Total] 36 / 77 / 27 / 140:  28%|█████▉               | 140/500 [02:43<07:00,  1.17s/it]textattack: Saving checkpoint under \"checkpoints\\1720259654564.ta.chkpt\" at 2024-07-06 17:54:14 after 140 attacks.\n"
     ]
    },
    {
     "name": "stdout",
     "output_type": "stream",
     "text": [
      "\n",
      "\n",
      "=============================================================================================================================\n",
      "=============================================================================================================================\n",
      "\n"
     ]
    },
    {
     "name": "stderr",
     "output_type": "stream",
     "text": [
      "[Succeeded / Failed / Skipped / Total] 38 / 79 / 28 / 145:  29%|██████               | 145/500 [02:47<06:49,  1.15s/it]textattack: Saving checkpoint under \"checkpoints\\1720259658189.ta.chkpt\" at 2024-07-06 17:54:18 after 145 attacks.\n",
      "[Succeeded / Failed / Skipped / Total] 38 / 79 / 30 / 147:  29%|██████▏              | 147/500 [02:47<06:42,  1.14s/it]"
     ]
    },
    {
     "name": "stdout",
     "output_type": "stream",
     "text": [
      "\n",
      "\n",
      "=============================================================================================================================\n",
      "=============================================================================================================================\n",
      "\n"
     ]
    },
    {
     "name": "stderr",
     "output_type": "stream",
     "text": [
      "[Succeeded / Failed / Skipped / Total] 38 / 80 / 32 / 150:  30%|██████▎              | 150/500 [02:48<06:32,  1.12s/it]textattack: Saving checkpoint under \"checkpoints\\1720259659221.ta.chkpt\" at 2024-07-06 17:54:19 after 150 attacks.\n"
     ]
    },
    {
     "name": "stdout",
     "output_type": "stream",
     "text": [
      "\n",
      "\n",
      "=============================================================================================================================\n",
      "=============================================================================================================================\n",
      "\n"
     ]
    },
    {
     "name": "stderr",
     "output_type": "stream",
     "text": [
      "[Succeeded / Failed / Skipped / Total] 40 / 81 / 34 / 155:  31%|██████▌              | 155/500 [02:52<06:23,  1.11s/it]textattack: Saving checkpoint under \"checkpoints\\1720259663237.ta.chkpt\" at 2024-07-06 17:54:23 after 155 attacks.\n"
     ]
    },
    {
     "name": "stdout",
     "output_type": "stream",
     "text": [
      "\n",
      "\n",
      "=============================================================================================================================\n",
      "=============================================================================================================================\n",
      "\n"
     ]
    },
    {
     "name": "stderr",
     "output_type": "stream",
     "text": [
      "[Succeeded / Failed / Skipped / Total] 42 / 83 / 35 / 160:  32%|██████▋              | 160/500 [02:58<06:19,  1.12s/it]textattack: Saving checkpoint under \"checkpoints\\1720259669331.ta.chkpt\" at 2024-07-06 17:54:29 after 160 attacks.\n",
      "[Succeeded / Failed / Skipped / Total] 42 / 83 / 36 / 161:  32%|██████▊              | 161/500 [02:58<06:15,  1.11s/it]"
     ]
    },
    {
     "name": "stdout",
     "output_type": "stream",
     "text": [
      "\n",
      "\n",
      "=============================================================================================================================\n",
      "=============================================================================================================================\n",
      "\n"
     ]
    },
    {
     "name": "stderr",
     "output_type": "stream",
     "text": [
      "[Succeeded / Failed / Skipped / Total] 42 / 86 / 37 / 165:  33%|██████▉              | 165/500 [03:02<06:10,  1.11s/it]textattack: Saving checkpoint under \"checkpoints\\1720259673409.ta.chkpt\" at 2024-07-06 17:54:33 after 165 attacks.\n",
      "[Succeeded / Failed / Skipped / Total] 42 / 86 / 38 / 166:  33%|██████▉              | 166/500 [03:02<06:07,  1.10s/it]"
     ]
    },
    {
     "name": "stdout",
     "output_type": "stream",
     "text": [
      "\n",
      "\n",
      "=============================================================================================================================\n",
      "=============================================================================================================================\n",
      "\n"
     ]
    },
    {
     "name": "stderr",
     "output_type": "stream",
     "text": [
      "[Succeeded / Failed / Skipped / Total] 43 / 89 / 38 / 170:  34%|███████▏             | 170/500 [03:08<06:05,  1.11s/it]textattack: Saving checkpoint under \"checkpoints\\1720259679285.ta.chkpt\" at 2024-07-06 17:54:39 after 170 attacks.\n"
     ]
    },
    {
     "name": "stdout",
     "output_type": "stream",
     "text": [
      "\n",
      "\n",
      "=============================================================================================================================\n",
      "=============================================================================================================================\n",
      "\n"
     ]
    },
    {
     "name": "stderr",
     "output_type": "stream",
     "text": [
      "[Succeeded / Failed / Skipped / Total] 45 / 92 / 38 / 175:  35%|███████▎             | 175/500 [03:17<06:06,  1.13s/it]textattack: Saving checkpoint under \"checkpoints\\1720259688035.ta.chkpt\" at 2024-07-06 17:54:48 after 175 attacks.\n"
     ]
    },
    {
     "name": "stdout",
     "output_type": "stream",
     "text": [
      "\n",
      "\n",
      "=============================================================================================================================\n",
      "=============================================================================================================================\n",
      "\n"
     ]
    },
    {
     "name": "stderr",
     "output_type": "stream",
     "text": [
      "[Succeeded / Failed / Skipped / Total] 46 / 95 / 39 / 180:  36%|███████▌             | 180/500 [03:23<06:00,  1.13s/it]textattack: Saving checkpoint under \"checkpoints\\1720259693864.ta.chkpt\" at 2024-07-06 17:54:53 after 180 attacks.\n"
     ]
    },
    {
     "name": "stdout",
     "output_type": "stream",
     "text": [
      "\n",
      "\n",
      "=============================================================================================================================\n",
      "=============================================================================================================================\n",
      "\n"
     ]
    },
    {
     "name": "stderr",
     "output_type": "stream",
     "text": [
      "[Succeeded / Failed / Skipped / Total] 49 / 96 / 40 / 185:  37%|███████▊             | 185/500 [03:26<05:51,  1.11s/it]textattack: Saving checkpoint under \"checkpoints\\1720259697083.ta.chkpt\" at 2024-07-06 17:54:57 after 185 attacks.\n"
     ]
    },
    {
     "name": "stdout",
     "output_type": "stream",
     "text": [
      "\n",
      "\n",
      "=============================================================================================================================\n",
      "=============================================================================================================================\n",
      "\n"
     ]
    },
    {
     "name": "stderr",
     "output_type": "stream",
     "text": [
      "[Succeeded / Failed / Skipped / Total] 50 / 100 / 40 / 190:  38%|███████▌            | 190/500 [03:35<05:51,  1.13s/it]textattack: Saving checkpoint under \"checkpoints\\1720259706209.ta.chkpt\" at 2024-07-06 17:55:06 after 190 attacks.\n"
     ]
    },
    {
     "name": "stdout",
     "output_type": "stream",
     "text": [
      "\n",
      "\n",
      "=============================================================================================================================\n",
      "=============================================================================================================================\n",
      "\n"
     ]
    },
    {
     "name": "stderr",
     "output_type": "stream",
     "text": [
      "[Succeeded / Failed / Skipped / Total] 51 / 103 / 41 / 195:  39%|███████▊            | 195/500 [03:43<05:49,  1.15s/it]textattack: Saving checkpoint under \"checkpoints\\1720259714272.ta.chkpt\" at 2024-07-06 17:55:14 after 195 attacks.\n"
     ]
    },
    {
     "name": "stdout",
     "output_type": "stream",
     "text": [
      "\n",
      "\n",
      "=============================================================================================================================\n",
      "=============================================================================================================================\n",
      "\n"
     ]
    },
    {
     "name": "stderr",
     "output_type": "stream",
     "text": [
      "[Succeeded / Failed / Skipped / Total] 52 / 106 / 42 / 200:  40%|████████            | 200/500 [03:53<05:50,  1.17s/it]textattack: Saving checkpoint under \"checkpoints\\1720259724195.ta.chkpt\" at 2024-07-06 17:55:24 after 200 attacks.\n",
      "[Succeeded / Failed / Skipped / Total] 52 / 106 / 43 / 201:  40%|████████            | 201/500 [03:53<05:47,  1.16s/it]"
     ]
    },
    {
     "name": "stdout",
     "output_type": "stream",
     "text": [
      "\n",
      "\n",
      "=============================================================================================================================\n",
      "=============================================================================================================================\n",
      "\n"
     ]
    },
    {
     "name": "stderr",
     "output_type": "stream",
     "text": [
      "[Succeeded / Failed / Skipped / Total] 53 / 108 / 44 / 205:  41%|████████▏           | 205/500 [03:55<05:38,  1.15s/it]textattack: Saving checkpoint under \"checkpoints\\1720259726132.ta.chkpt\" at 2024-07-06 17:55:26 after 205 attacks.\n",
      "[Succeeded / Failed / Skipped / Total] 53 / 108 / 45 / 206:  41%|████████▏           | 206/500 [03:55<05:35,  1.14s/it]"
     ]
    },
    {
     "name": "stdout",
     "output_type": "stream",
     "text": [
      "\n",
      "\n",
      "=============================================================================================================================\n",
      "=============================================================================================================================\n",
      "\n"
     ]
    },
    {
     "name": "stderr",
     "output_type": "stream",
     "text": [
      "[Succeeded / Failed / Skipped / Total] 54 / 111 / 45 / 210:  42%|████████▍           | 210/500 [03:59<05:30,  1.14s/it]textattack: Saving checkpoint under \"checkpoints\\1720259730289.ta.chkpt\" at 2024-07-06 17:55:30 after 210 attacks.\n"
     ]
    },
    {
     "name": "stdout",
     "output_type": "stream",
     "text": [
      "\n",
      "\n",
      "=============================================================================================================================\n",
      "=============================================================================================================================\n",
      "\n"
     ]
    },
    {
     "name": "stderr",
     "output_type": "stream",
     "text": [
      "[Succeeded / Failed / Skipped / Total] 54 / 115 / 46 / 215:  43%|████████▌           | 215/500 [04:04<05:23,  1.14s/it]textattack: Saving checkpoint under \"checkpoints\\1720259735180.ta.chkpt\" at 2024-07-06 17:55:35 after 215 attacks.\n"
     ]
    },
    {
     "name": "stdout",
     "output_type": "stream",
     "text": [
      "\n",
      "\n",
      "=============================================================================================================================\n",
      "=============================================================================================================================\n",
      "\n"
     ]
    },
    {
     "name": "stderr",
     "output_type": "stream",
     "text": [
      "[Succeeded / Failed / Skipped / Total] 56 / 118 / 46 / 220:  44%|████████▊           | 220/500 [04:09<05:17,  1.13s/it]textattack: Saving checkpoint under \"checkpoints\\1720259740555.ta.chkpt\" at 2024-07-06 17:55:40 after 220 attacks.\n"
     ]
    },
    {
     "name": "stdout",
     "output_type": "stream",
     "text": [
      "\n",
      "\n",
      "=============================================================================================================================\n",
      "=============================================================================================================================\n",
      "\n"
     ]
    },
    {
     "name": "stderr",
     "output_type": "stream",
     "text": [
      "[Succeeded / Failed / Skipped / Total] 56 / 121 / 48 / 225:  45%|█████████           | 225/500 [04:15<05:12,  1.14s/it]textattack: Saving checkpoint under \"checkpoints\\1720259746571.ta.chkpt\" at 2024-07-06 17:55:46 after 225 attacks.\n"
     ]
    },
    {
     "name": "stdout",
     "output_type": "stream",
     "text": [
      "\n",
      "\n",
      "=============================================================================================================================\n",
      "=============================================================================================================================\n",
      "\n"
     ]
    },
    {
     "name": "stderr",
     "output_type": "stream",
     "text": [
      "[Succeeded / Failed / Skipped / Total] 58 / 124 / 48 / 230:  46%|█████████▏          | 230/500 [04:21<05:06,  1.14s/it]textattack: Saving checkpoint under \"checkpoints\\1720259752197.ta.chkpt\" at 2024-07-06 17:55:52 after 230 attacks.\n"
     ]
    },
    {
     "name": "stdout",
     "output_type": "stream",
     "text": [
      "\n",
      "\n",
      "=============================================================================================================================\n",
      "=============================================================================================================================\n",
      "\n"
     ]
    },
    {
     "name": "stderr",
     "output_type": "stream",
     "text": [
      "[Succeeded / Failed / Skipped / Total] 59 / 127 / 49 / 235:  47%|█████████▍          | 235/500 [04:26<05:00,  1.13s/it]textattack: Saving checkpoint under \"checkpoints\\1720259757574.ta.chkpt\" at 2024-07-06 17:55:57 after 235 attacks.\n",
      "[Succeeded / Failed / Skipped / Total] 59 / 127 / 50 / 236:  47%|█████████▍          | 236/500 [04:26<04:58,  1.13s/it]"
     ]
    },
    {
     "name": "stdout",
     "output_type": "stream",
     "text": [
      "\n",
      "\n",
      "=============================================================================================================================\n",
      "=============================================================================================================================\n",
      "\n"
     ]
    },
    {
     "name": "stderr",
     "output_type": "stream",
     "text": [
      "[Succeeded / Failed / Skipped / Total] 60 / 130 / 50 / 240:  48%|█████████▌          | 240/500 [04:30<04:52,  1.13s/it]textattack: Saving checkpoint under \"checkpoints\\1720259761089.ta.chkpt\" at 2024-07-06 17:56:01 after 240 attacks.\n"
     ]
    },
    {
     "name": "stdout",
     "output_type": "stream",
     "text": [
      "\n",
      "\n",
      "=============================================================================================================================\n",
      "=============================================================================================================================\n",
      "\n"
     ]
    },
    {
     "name": "stderr",
     "output_type": "stream",
     "text": [
      "[Succeeded / Failed / Skipped / Total] 62 / 133 / 50 / 245:  49%|█████████▊          | 245/500 [04:36<04:48,  1.13s/it]textattack: Saving checkpoint under \"checkpoints\\1720259767605.ta.chkpt\" at 2024-07-06 17:56:07 after 245 attacks.\n"
     ]
    },
    {
     "name": "stdout",
     "output_type": "stream",
     "text": [
      "\n",
      "\n",
      "=============================================================================================================================\n",
      "=============================================================================================================================\n",
      "\n"
     ]
    },
    {
     "name": "stderr",
     "output_type": "stream",
     "text": [
      "[Succeeded / Failed / Skipped / Total] 64 / 135 / 51 / 250:  50%|██████████          | 250/500 [04:40<04:40,  1.12s/it]textattack: Saving checkpoint under \"checkpoints\\1720259771059.ta.chkpt\" at 2024-07-06 17:56:11 after 250 attacks.\n",
      "[Succeeded / Failed / Skipped / Total] 64 / 135 / 52 / 251:  50%|██████████          | 251/500 [04:40<04:38,  1.12s/it]"
     ]
    },
    {
     "name": "stdout",
     "output_type": "stream",
     "text": [
      "\n",
      "\n",
      "=============================================================================================================================\n",
      "=============================================================================================================================\n",
      "\n"
     ]
    },
    {
     "name": "stderr",
     "output_type": "stream",
     "text": [
      "[Succeeded / Failed / Skipped / Total] 65 / 136 / 54 / 255:  51%|██████████▏         | 255/500 [04:44<04:33,  1.12s/it]textattack: Saving checkpoint under \"checkpoints\\1720259775684.ta.chkpt\" at 2024-07-06 17:56:15 after 255 attacks.\n"
     ]
    },
    {
     "name": "stdout",
     "output_type": "stream",
     "text": [
      "\n",
      "\n",
      "=============================================================================================================================\n",
      "=============================================================================================================================\n",
      "\n"
     ]
    },
    {
     "name": "stderr",
     "output_type": "stream",
     "text": [
      "[Succeeded / Failed / Skipped / Total] 65 / 140 / 55 / 260:  52%|██████████▍         | 260/500 [04:50<04:28,  1.12s/it]textattack: Saving checkpoint under \"checkpoints\\1720259781794.ta.chkpt\" at 2024-07-06 17:56:21 after 260 attacks.\n"
     ]
    },
    {
     "name": "stdout",
     "output_type": "stream",
     "text": [
      "\n",
      "\n",
      "=============================================================================================================================\n",
      "=============================================================================================================================\n",
      "\n"
     ]
    },
    {
     "name": "stderr",
     "output_type": "stream",
     "text": [
      "[Succeeded / Failed / Skipped / Total] 66 / 143 / 56 / 265:  53%|██████████▌         | 265/500 [04:55<04:21,  1.11s/it]textattack: Saving checkpoint under \"checkpoints\\1720259785997.ta.chkpt\" at 2024-07-06 17:56:25 after 265 attacks.\n"
     ]
    },
    {
     "name": "stdout",
     "output_type": "stream",
     "text": [
      "\n",
      "\n",
      "=============================================================================================================================\n",
      "=============================================================================================================================\n",
      "\n"
     ]
    },
    {
     "name": "stderr",
     "output_type": "stream",
     "text": [
      "[Succeeded / Failed / Skipped / Total] 67 / 145 / 58 / 270:  54%|██████████▊         | 270/500 [05:00<04:16,  1.11s/it]textattack: Saving checkpoint under \"checkpoints\\1720259791498.ta.chkpt\" at 2024-07-06 17:56:31 after 270 attacks.\n",
      "[Succeeded / Failed / Skipped / Total] 67 / 145 / 60 / 272:  54%|██████████▉         | 272/500 [05:00<04:12,  1.11s/it]"
     ]
    },
    {
     "name": "stdout",
     "output_type": "stream",
     "text": [
      "\n",
      "\n",
      "=============================================================================================================================\n",
      "=============================================================================================================================\n",
      "\n"
     ]
    },
    {
     "name": "stderr",
     "output_type": "stream",
     "text": [
      "[Succeeded / Failed / Skipped / Total] 68 / 146 / 61 / 275:  55%|███████████         | 275/500 [05:03<04:07,  1.10s/it]textattack: Saving checkpoint under \"checkpoints\\1720259793967.ta.chkpt\" at 2024-07-06 17:56:33 after 275 attacks.\n"
     ]
    },
    {
     "name": "stdout",
     "output_type": "stream",
     "text": [
      "\n",
      "\n",
      "=============================================================================================================================\n",
      "=============================================================================================================================\n",
      "\n"
     ]
    },
    {
     "name": "stderr",
     "output_type": "stream",
     "text": [
      "[Succeeded / Failed / Skipped / Total] 69 / 148 / 63 / 280:  56%|███████████▏        | 280/500 [05:07<04:01,  1.10s/it]textattack: Saving checkpoint under \"checkpoints\\1720259797983.ta.chkpt\" at 2024-07-06 17:56:37 after 280 attacks.\n"
     ]
    },
    {
     "name": "stdout",
     "output_type": "stream",
     "text": [
      "\n",
      "\n",
      "=============================================================================================================================\n",
      "=============================================================================================================================\n",
      "\n"
     ]
    },
    {
     "name": "stderr",
     "output_type": "stream",
     "text": [
      "[Succeeded / Failed / Skipped / Total] 70 / 150 / 65 / 285:  57%|███████████▍        | 285/500 [05:09<03:53,  1.09s/it]textattack: Saving checkpoint under \"checkpoints\\1720259800826.ta.chkpt\" at 2024-07-06 17:56:40 after 285 attacks.\n",
      "[Succeeded / Failed / Skipped / Total] 70 / 150 / 67 / 287:  57%|███████████▍        | 287/500 [05:10<03:50,  1.08s/it]"
     ]
    },
    {
     "name": "stdout",
     "output_type": "stream",
     "text": [
      "\n",
      "\n",
      "=============================================================================================================================\n",
      "=============================================================================================================================\n",
      "\n"
     ]
    },
    {
     "name": "stderr",
     "output_type": "stream",
     "text": [
      "[Succeeded / Failed / Skipped / Total] 70 / 152 / 68 / 290:  58%|███████████▌        | 290/500 [05:13<03:46,  1.08s/it]textattack: Saving checkpoint under \"checkpoints\\1720259804124.ta.chkpt\" at 2024-07-06 17:56:44 after 290 attacks.\n",
      "[Succeeded / Failed / Skipped / Total] 70 / 152 / 69 / 291:  58%|███████████▋        | 291/500 [05:13<03:45,  1.08s/it]"
     ]
    },
    {
     "name": "stdout",
     "output_type": "stream",
     "text": [
      "\n",
      "\n",
      "=============================================================================================================================\n",
      "=============================================================================================================================\n",
      "\n"
     ]
    },
    {
     "name": "stderr",
     "output_type": "stream",
     "text": [
      "[Succeeded / Failed / Skipped / Total] 70 / 154 / 71 / 295:  59%|███████████▊        | 295/500 [05:16<03:39,  1.07s/it]textattack: Saving checkpoint under \"checkpoints\\1720259807280.ta.chkpt\" at 2024-07-06 17:56:47 after 295 attacks.\n"
     ]
    },
    {
     "name": "stdout",
     "output_type": "stream",
     "text": [
      "\n",
      "\n",
      "=============================================================================================================================\n",
      "=============================================================================================================================\n",
      "\n"
     ]
    },
    {
     "name": "stderr",
     "output_type": "stream",
     "text": [
      "[Succeeded / Failed / Skipped / Total] 71 / 157 / 72 / 300:  60%|████████████        | 300/500 [05:19<03:33,  1.07s/it]textattack: Saving checkpoint under \"checkpoints\\1720259810530.ta.chkpt\" at 2024-07-06 17:56:50 after 300 attacks.\n"
     ]
    },
    {
     "name": "stdout",
     "output_type": "stream",
     "text": [
      "\n",
      "\n",
      "=============================================================================================================================\n",
      "=============================================================================================================================\n",
      "\n"
     ]
    },
    {
     "name": "stderr",
     "output_type": "stream",
     "text": [
      "[Succeeded / Failed / Skipped / Total] 72 / 160 / 73 / 305:  61%|████████████▏       | 305/500 [05:28<03:29,  1.08s/it]textattack: Saving checkpoint under \"checkpoints\\1720259819250.ta.chkpt\" at 2024-07-06 17:56:59 after 305 attacks.\n"
     ]
    },
    {
     "name": "stdout",
     "output_type": "stream",
     "text": [
      "\n",
      "\n",
      "=============================================================================================================================\n",
      "=============================================================================================================================\n",
      "\n"
     ]
    },
    {
     "name": "stderr",
     "output_type": "stream",
     "text": [
      "[Succeeded / Failed / Skipped / Total] 73 / 162 / 75 / 310:  62%|████████████▍       | 310/500 [05:31<03:23,  1.07s/it]textattack: Saving checkpoint under \"checkpoints\\1720259822078.ta.chkpt\" at 2024-07-06 17:57:02 after 310 attacks.\n"
     ]
    },
    {
     "name": "stdout",
     "output_type": "stream",
     "text": [
      "\n",
      "\n",
      "=============================================================================================================================\n",
      "=============================================================================================================================\n",
      "\n"
     ]
    },
    {
     "name": "stderr",
     "output_type": "stream",
     "text": [
      "[Succeeded / Failed / Skipped / Total] 73 / 165 / 77 / 315:  63%|████████████▌       | 315/500 [05:34<03:16,  1.06s/it]textattack: Saving checkpoint under \"checkpoints\\1720259825281.ta.chkpt\" at 2024-07-06 17:57:05 after 315 attacks.\n"
     ]
    },
    {
     "name": "stdout",
     "output_type": "stream",
     "text": [
      "\n",
      "\n",
      "=============================================================================================================================\n",
      "=============================================================================================================================\n",
      "\n"
     ]
    },
    {
     "name": "stderr",
     "output_type": "stream",
     "text": [
      "[Succeeded / Failed / Skipped / Total] 73 / 169 / 78 / 320:  64%|████████████▊       | 320/500 [05:44<03:13,  1.08s/it]textattack: Saving checkpoint under \"checkpoints\\1720259835532.ta.chkpt\" at 2024-07-06 17:57:15 after 320 attacks.\n"
     ]
    },
    {
     "name": "stdout",
     "output_type": "stream",
     "text": [
      "\n",
      "\n",
      "=============================================================================================================================\n",
      "=============================================================================================================================\n",
      "\n"
     ]
    },
    {
     "name": "stderr",
     "output_type": "stream",
     "text": [
      "[Succeeded / Failed / Skipped / Total] 74 / 173 / 78 / 325:  65%|█████████████       | 325/500 [05:55<03:11,  1.09s/it]textattack: Saving checkpoint under \"checkpoints\\1720259846142.ta.chkpt\" at 2024-07-06 17:57:26 after 325 attacks.\n"
     ]
    },
    {
     "name": "stdout",
     "output_type": "stream",
     "text": [
      "\n",
      "\n",
      "=============================================================================================================================\n",
      "=============================================================================================================================\n",
      "\n"
     ]
    },
    {
     "name": "stderr",
     "output_type": "stream",
     "text": [
      "[Succeeded / Failed / Skipped / Total] 78 / 174 / 78 / 330:  66%|█████████████▏      | 330/500 [05:59<03:04,  1.09s/it]textattack: Saving checkpoint under \"checkpoints\\1720259849955.ta.chkpt\" at 2024-07-06 17:57:29 after 330 attacks.\n"
     ]
    },
    {
     "name": "stdout",
     "output_type": "stream",
     "text": [
      "\n",
      "\n",
      "=============================================================================================================================\n",
      "=============================================================================================================================\n",
      "\n"
     ]
    },
    {
     "name": "stderr",
     "output_type": "stream",
     "text": [
      "[Succeeded / Failed / Skipped / Total] 78 / 179 / 78 / 335:  67%|█████████████▍      | 335/500 [06:09<03:01,  1.10s/it]textattack: Saving checkpoint under \"checkpoints\\1720259860051.ta.chkpt\" at 2024-07-06 17:57:40 after 335 attacks.\n",
      "[Succeeded / Failed / Skipped / Total] 78 / 179 / 79 / 336:  67%|█████████████▍      | 336/500 [06:09<03:00,  1.10s/it]"
     ]
    },
    {
     "name": "stdout",
     "output_type": "stream",
     "text": [
      "\n",
      "\n",
      "=============================================================================================================================\n",
      "=============================================================================================================================\n",
      "\n"
     ]
    },
    {
     "name": "stderr",
     "output_type": "stream",
     "text": [
      "[Succeeded / Failed / Skipped / Total] 79 / 181 / 80 / 340:  68%|█████████████▌      | 340/500 [06:12<02:55,  1.10s/it]textattack: Saving checkpoint under \"checkpoints\\1720259863426.ta.chkpt\" at 2024-07-06 17:57:43 after 340 attacks.\n"
     ]
    },
    {
     "name": "stdout",
     "output_type": "stream",
     "text": [
      "\n",
      "\n",
      "=============================================================================================================================\n",
      "=============================================================================================================================\n",
      "\n"
     ]
    },
    {
     "name": "stderr",
     "output_type": "stream",
     "text": [
      "[Succeeded / Failed / Skipped / Total] 79 / 186 / 80 / 345:  69%|█████████████▊      | 345/500 [06:19<02:50,  1.10s/it]textattack: Saving checkpoint under \"checkpoints\\1720259870521.ta.chkpt\" at 2024-07-06 17:57:50 after 345 attacks.\n"
     ]
    },
    {
     "name": "stdout",
     "output_type": "stream",
     "text": [
      "\n",
      "\n",
      "=============================================================================================================================\n",
      "=============================================================================================================================\n",
      "\n"
     ]
    },
    {
     "name": "stderr",
     "output_type": "stream",
     "text": [
      "[Succeeded / Failed / Skipped / Total] 80 / 189 / 81 / 350:  70%|██████████████      | 350/500 [06:25<02:45,  1.10s/it]textattack: Saving checkpoint under \"checkpoints\\1720259876490.ta.chkpt\" at 2024-07-06 17:57:56 after 350 attacks.\n"
     ]
    },
    {
     "name": "stdout",
     "output_type": "stream",
     "text": [
      "\n",
      "\n",
      "=============================================================================================================================\n",
      "=============================================================================================================================\n",
      "\n"
     ]
    },
    {
     "name": "stderr",
     "output_type": "stream",
     "text": [
      "[Succeeded / Failed / Skipped / Total] 82 / 192 / 81 / 355:  71%|██████████████▏     | 355/500 [06:33<02:40,  1.11s/it]textattack: Saving checkpoint under \"checkpoints\\1720259884178.ta.chkpt\" at 2024-07-06 17:58:04 after 355 attacks.\n"
     ]
    },
    {
     "name": "stdout",
     "output_type": "stream",
     "text": [
      "\n",
      "\n",
      "=============================================================================================================================\n",
      "=============================================================================================================================\n",
      "\n"
     ]
    },
    {
     "name": "stderr",
     "output_type": "stream",
     "text": [
      "[Succeeded / Failed / Skipped / Total] 82 / 196 / 82 / 360:  72%|██████████████▍     | 360/500 [06:38<02:35,  1.11s/it]textattack: Saving checkpoint under \"checkpoints\\1720259889725.ta.chkpt\" at 2024-07-06 17:58:09 after 360 attacks.\n"
     ]
    },
    {
     "name": "stdout",
     "output_type": "stream",
     "text": [
      "\n",
      "\n",
      "=============================================================================================================================\n",
      "=============================================================================================================================\n",
      "\n"
     ]
    },
    {
     "name": "stderr",
     "output_type": "stream",
     "text": [
      "[Succeeded / Failed / Skipped / Total] 85 / 198 / 82 / 365:  73%|██████████████▌     | 365/500 [06:43<02:29,  1.10s/it]textattack: Saving checkpoint under \"checkpoints\\1720259893944.ta.chkpt\" at 2024-07-06 17:58:13 after 365 attacks.\n",
      "[Succeeded / Failed / Skipped / Total] 85 / 198 / 83 / 366:  73%|██████████████▋     | 366/500 [06:43<02:27,  1.10s/it]"
     ]
    },
    {
     "name": "stdout",
     "output_type": "stream",
     "text": [
      "\n",
      "\n",
      "=============================================================================================================================\n",
      "=============================================================================================================================\n",
      "\n"
     ]
    },
    {
     "name": "stderr",
     "output_type": "stream",
     "text": [
      "[Succeeded / Failed / Skipped / Total] 87 / 200 / 83 / 370:  74%|██████████████▊     | 370/500 [06:47<02:23,  1.10s/it]textattack: Saving checkpoint under \"checkpoints\\1720259898429.ta.chkpt\" at 2024-07-06 17:58:18 after 370 attacks.\n"
     ]
    },
    {
     "name": "stdout",
     "output_type": "stream",
     "text": [
      "\n",
      "\n",
      "=============================================================================================================================\n",
      "=============================================================================================================================\n",
      "\n"
     ]
    },
    {
     "name": "stderr",
     "output_type": "stream",
     "text": [
      "[Succeeded / Failed / Skipped / Total] 88 / 204 / 83 / 375:  75%|███████████████     | 375/500 [06:56<02:18,  1.11s/it]textattack: Saving checkpoint under \"checkpoints\\1720259906945.ta.chkpt\" at 2024-07-06 17:58:26 after 375 attacks.\n"
     ]
    },
    {
     "name": "stdout",
     "output_type": "stream",
     "text": [
      "\n",
      "\n",
      "=============================================================================================================================\n",
      "=============================================================================================================================\n",
      "\n"
     ]
    },
    {
     "name": "stderr",
     "output_type": "stream",
     "text": [
      "[Succeeded / Failed / Skipped / Total] 89 / 207 / 84 / 380:  76%|███████████████▏    | 380/500 [06:59<02:12,  1.10s/it]textattack: Saving checkpoint under \"checkpoints\\1720259910696.ta.chkpt\" at 2024-07-06 17:58:30 after 380 attacks.\n"
     ]
    },
    {
     "name": "stdout",
     "output_type": "stream",
     "text": [
      "\n",
      "\n",
      "=============================================================================================================================\n",
      "=============================================================================================================================\n",
      "\n"
     ]
    },
    {
     "name": "stderr",
     "output_type": "stream",
     "text": [
      "[Succeeded / Failed / Skipped / Total] 90 / 211 / 84 / 385:  77%|███████████████▍    | 385/500 [07:04<02:06,  1.10s/it]textattack: Saving checkpoint under \"checkpoints\\1720259915368.ta.chkpt\" at 2024-07-06 17:58:35 after 385 attacks.\n"
     ]
    },
    {
     "name": "stdout",
     "output_type": "stream",
     "text": [
      "\n",
      "\n",
      "=============================================================================================================================\n",
      "=============================================================================================================================\n",
      "\n"
     ]
    },
    {
     "name": "stderr",
     "output_type": "stream",
     "text": [
      "[Succeeded / Failed / Skipped / Total] 91 / 214 / 85 / 390:  78%|███████████████▌    | 390/500 [07:07<02:00,  1.10s/it]textattack: Saving checkpoint under \"checkpoints\\1720259918774.ta.chkpt\" at 2024-07-06 17:58:38 after 390 attacks.\n"
     ]
    },
    {
     "name": "stdout",
     "output_type": "stream",
     "text": [
      "\n",
      "\n",
      "=============================================================================================================================\n",
      "=============================================================================================================================\n",
      "\n"
     ]
    },
    {
     "name": "stderr",
     "output_type": "stream",
     "text": [
      "[Succeeded / Failed / Skipped / Total] 92 / 218 / 85 / 395:  79%|███████████████▊    | 395/500 [07:16<01:56,  1.11s/it]textattack: Saving checkpoint under \"checkpoints\\1720259927400.ta.chkpt\" at 2024-07-06 17:58:47 after 395 attacks.\n"
     ]
    },
    {
     "name": "stdout",
     "output_type": "stream",
     "text": [
      "\n",
      "\n",
      "=============================================================================================================================\n",
      "=============================================================================================================================\n",
      "\n"
     ]
    },
    {
     "name": "stderr",
     "output_type": "stream",
     "text": [
      "[Succeeded / Failed / Skipped / Total] 93 / 222 / 85 / 400:  80%|████████████████    | 400/500 [07:26<01:51,  1.12s/it]textattack: Saving checkpoint under \"checkpoints\\1720259937135.ta.chkpt\" at 2024-07-06 17:58:57 after 400 attacks.\n"
     ]
    },
    {
     "name": "stdout",
     "output_type": "stream",
     "text": [
      "\n",
      "\n",
      "=============================================================================================================================\n",
      "=============================================================================================================================\n",
      "\n"
     ]
    },
    {
     "name": "stderr",
     "output_type": "stream",
     "text": [
      "[Succeeded / Failed / Skipped / Total] 94 / 225 / 86 / 405:  81%|████████████████▏   | 405/500 [07:32<01:46,  1.12s/it]textattack: Saving checkpoint under \"checkpoints\\1720259943104.ta.chkpt\" at 2024-07-06 17:59:03 after 405 attacks.\n"
     ]
    },
    {
     "name": "stdout",
     "output_type": "stream",
     "text": [
      "\n",
      "\n",
      "=============================================================================================================================\n",
      "=============================================================================================================================\n",
      "\n"
     ]
    },
    {
     "name": "stderr",
     "output_type": "stream",
     "text": [
      "[Succeeded / Failed / Skipped / Total] 97 / 227 / 86 / 410:  82%|████████████████▍   | 410/500 [07:37<01:40,  1.12s/it]textattack: Saving checkpoint under \"checkpoints\\1720259948401.ta.chkpt\" at 2024-07-06 17:59:08 after 410 attacks.\n"
     ]
    },
    {
     "name": "stdout",
     "output_type": "stream",
     "text": [
      "\n",
      "\n",
      "=============================================================================================================================\n",
      "=============================================================================================================================\n",
      "\n"
     ]
    },
    {
     "name": "stderr",
     "output_type": "stream",
     "text": [
      "[Succeeded / Failed / Skipped / Total] 98 / 228 / 89 / 415:  83%|████████████████▌   | 415/500 [07:39<01:34,  1.11s/it]textattack: Saving checkpoint under \"checkpoints\\1720259950214.ta.chkpt\" at 2024-07-06 17:59:10 after 415 attacks.\n"
     ]
    },
    {
     "name": "stdout",
     "output_type": "stream",
     "text": [
      "\n",
      "\n",
      "=============================================================================================================================\n",
      "=============================================================================================================================\n",
      "\n"
     ]
    },
    {
     "name": "stderr",
     "output_type": "stream",
     "text": [
      "[Succeeded / Failed / Skipped / Total] 100 / 231 / 89 / 420:  84%|███████████████▉   | 420/500 [07:48<01:29,  1.11s/it]textattack: Saving checkpoint under \"checkpoints\\1720259958887.ta.chkpt\" at 2024-07-06 17:59:18 after 420 attacks.\n"
     ]
    },
    {
     "name": "stdout",
     "output_type": "stream",
     "text": [
      "\n",
      "\n",
      "=============================================================================================================================\n",
      "=============================================================================================================================\n",
      "\n"
     ]
    },
    {
     "name": "stderr",
     "output_type": "stream",
     "text": [
      "[Succeeded / Failed / Skipped / Total] 103 / 233 / 89 / 425:  85%|████████████████▏  | 425/500 [07:53<01:23,  1.11s/it]textattack: Saving checkpoint under \"checkpoints\\1720259963903.ta.chkpt\" at 2024-07-06 17:59:23 after 425 attacks.\n"
     ]
    },
    {
     "name": "stdout",
     "output_type": "stream",
     "text": [
      "\n",
      "\n",
      "=============================================================================================================================\n",
      "=============================================================================================================================\n",
      "\n"
     ]
    },
    {
     "name": "stderr",
     "output_type": "stream",
     "text": [
      "[Succeeded / Failed / Skipped / Total] 106 / 235 / 89 / 430:  86%|████████████████▎  | 430/500 [07:58<01:17,  1.11s/it]textattack: Saving checkpoint under \"checkpoints\\1720259969528.ta.chkpt\" at 2024-07-06 17:59:29 after 430 attacks.\n",
      "[Succeeded / Failed / Skipped / Total] 106 / 235 / 90 / 431:  86%|████████████████▍  | 431/500 [07:58<01:16,  1.11s/it]"
     ]
    },
    {
     "name": "stdout",
     "output_type": "stream",
     "text": [
      "\n",
      "\n",
      "=============================================================================================================================\n",
      "=============================================================================================================================\n",
      "\n"
     ]
    },
    {
     "name": "stderr",
     "output_type": "stream",
     "text": [
      "[Succeeded / Failed / Skipped / Total] 106 / 238 / 91 / 435:  87%|████████████████▌  | 435/500 [08:03<01:12,  1.11s/it]textattack: Saving checkpoint under \"checkpoints\\1720259974185.ta.chkpt\" at 2024-07-06 17:59:34 after 435 attacks.\n"
     ]
    },
    {
     "name": "stdout",
     "output_type": "stream",
     "text": [
      "\n",
      "\n",
      "=============================================================================================================================\n",
      "=============================================================================================================================\n",
      "\n"
     ]
    },
    {
     "name": "stderr",
     "output_type": "stream",
     "text": [
      "[Succeeded / Failed / Skipped / Total] 107 / 242 / 91 / 440:  88%|████████████████▋  | 440/500 [08:12<01:07,  1.12s/it]textattack: Saving checkpoint under \"checkpoints\\1720259983123.ta.chkpt\" at 2024-07-06 17:59:43 after 440 attacks.\n"
     ]
    },
    {
     "name": "stdout",
     "output_type": "stream",
     "text": [
      "\n",
      "\n",
      "=============================================================================================================================\n",
      "=============================================================================================================================\n",
      "\n"
     ]
    },
    {
     "name": "stderr",
     "output_type": "stream",
     "text": [
      "[Succeeded / Failed / Skipped / Total] 108 / 246 / 91 / 445:  89%|████████████████▉  | 445/500 [08:18<01:01,  1.12s/it]textattack: Saving checkpoint under \"checkpoints\\1720259989061.ta.chkpt\" at 2024-07-06 17:59:49 after 445 attacks.\n"
     ]
    },
    {
     "name": "stdout",
     "output_type": "stream",
     "text": [
      "\n",
      "\n",
      "=============================================================================================================================\n",
      "=============================================================================================================================\n",
      "\n"
     ]
    },
    {
     "name": "stderr",
     "output_type": "stream",
     "text": [
      "[Succeeded / Failed / Skipped / Total] 108 / 249 / 93 / 450:  90%|█████████████████  | 450/500 [08:21<00:55,  1.11s/it]textattack: Saving checkpoint under \"checkpoints\\1720259992577.ta.chkpt\" at 2024-07-06 17:59:52 after 450 attacks.\n"
     ]
    },
    {
     "name": "stdout",
     "output_type": "stream",
     "text": [
      "\n",
      "\n",
      "=============================================================================================================================\n",
      "=============================================================================================================================\n",
      "\n"
     ]
    },
    {
     "name": "stderr",
     "output_type": "stream",
     "text": [
      "[Succeeded / Failed / Skipped / Total] 110 / 251 / 94 / 455:  91%|█████████████████▎ | 455/500 [08:27<00:50,  1.11s/it]textattack: Saving checkpoint under \"checkpoints\\1720259998062.ta.chkpt\" at 2024-07-06 17:59:58 after 455 attacks.\n"
     ]
    },
    {
     "name": "stdout",
     "output_type": "stream",
     "text": [
      "\n",
      "\n",
      "=============================================================================================================================\n",
      "=============================================================================================================================\n",
      "\n"
     ]
    },
    {
     "name": "stderr",
     "output_type": "stream",
     "text": [
      "[Succeeded / Failed / Skipped / Total] 111 / 255 / 94 / 460:  92%|█████████████████▍ | 460/500 [08:36<00:44,  1.12s/it]textattack: Saving checkpoint under \"checkpoints\\1720260007406.ta.chkpt\" at 2024-07-06 18:00:07 after 460 attacks.\n"
     ]
    },
    {
     "name": "stdout",
     "output_type": "stream",
     "text": [
      "\n",
      "\n",
      "=============================================================================================================================\n",
      "=============================================================================================================================\n",
      "\n"
     ]
    },
    {
     "name": "stderr",
     "output_type": "stream",
     "text": [
      "[Succeeded / Failed / Skipped / Total] 113 / 258 / 94 / 465:  93%|█████████████████▋ | 465/500 [08:44<00:39,  1.13s/it]textattack: Saving checkpoint under \"checkpoints\\1720260015188.ta.chkpt\" at 2024-07-06 18:00:15 after 465 attacks.\n"
     ]
    },
    {
     "name": "stdout",
     "output_type": "stream",
     "text": [
      "\n",
      "\n",
      "=============================================================================================================================\n",
      "=============================================================================================================================\n",
      "\n"
     ]
    },
    {
     "name": "stderr",
     "output_type": "stream",
     "text": [
      "[Succeeded / Failed / Skipped / Total] 115 / 260 / 95 / 470:  94%|█████████████████▊ | 470/500 [08:47<00:33,  1.12s/it]textattack: Saving checkpoint under \"checkpoints\\1720260018376.ta.chkpt\" at 2024-07-06 18:00:18 after 470 attacks.\n"
     ]
    },
    {
     "name": "stdout",
     "output_type": "stream",
     "text": [
      "\n",
      "\n",
      "=============================================================================================================================\n",
      "=============================================================================================================================\n",
      "\n"
     ]
    },
    {
     "name": "stderr",
     "output_type": "stream",
     "text": [
      "[Succeeded / Failed / Skipped / Total] 116 / 264 / 95 / 475:  95%|██████████████████ | 475/500 [08:55<00:28,  1.13s/it]textattack: Saving checkpoint under \"checkpoints\\1720260026704.ta.chkpt\" at 2024-07-06 18:00:26 after 475 attacks.\n"
     ]
    },
    {
     "name": "stdout",
     "output_type": "stream",
     "text": [
      "\n",
      "\n",
      "=============================================================================================================================\n",
      "=============================================================================================================================\n",
      "\n"
     ]
    },
    {
     "name": "stderr",
     "output_type": "stream",
     "text": [
      "[Succeeded / Failed / Skipped / Total] 118 / 267 / 95 / 480:  96%|██████████████████▏| 480/500 [09:02<00:22,  1.13s/it]textattack: Saving checkpoint under \"checkpoints\\1720260033064.ta.chkpt\" at 2024-07-06 18:00:33 after 480 attacks.\n"
     ]
    },
    {
     "name": "stdout",
     "output_type": "stream",
     "text": [
      "\n",
      "\n",
      "=============================================================================================================================\n",
      "=============================================================================================================================\n",
      "\n"
     ]
    },
    {
     "name": "stderr",
     "output_type": "stream",
     "text": [
      "[Succeeded / Failed / Skipped / Total] 118 / 271 / 96 / 485:  97%|██████████████████▍| 485/500 [09:08<00:16,  1.13s/it]textattack: Saving checkpoint under \"checkpoints\\1720260039478.ta.chkpt\" at 2024-07-06 18:00:39 after 485 attacks.\n"
     ]
    },
    {
     "name": "stdout",
     "output_type": "stream",
     "text": [
      "\n",
      "\n",
      "=============================================================================================================================\n",
      "=============================================================================================================================\n",
      "\n"
     ]
    },
    {
     "name": "stderr",
     "output_type": "stream",
     "text": [
      "[Succeeded / Failed / Skipped / Total] 119 / 274 / 97 / 490:  98%|██████████████████▌| 490/500 [09:16<00:11,  1.14s/it]textattack: Saving checkpoint under \"checkpoints\\1720260047447.ta.chkpt\" at 2024-07-06 18:00:47 after 490 attacks.\n"
     ]
    },
    {
     "name": "stdout",
     "output_type": "stream",
     "text": [
      "\n",
      "\n",
      "=============================================================================================================================\n",
      "=============================================================================================================================\n",
      "\n"
     ]
    },
    {
     "name": "stderr",
     "output_type": "stream",
     "text": [
      "[Succeeded / Failed / Skipped / Total] 121 / 277 / 97 / 495:  99%|██████████████████▊| 495/500 [09:24<00:05,  1.14s/it]textattack: Saving checkpoint under \"checkpoints\\1720260055792.ta.chkpt\" at 2024-07-06 18:00:55 after 495 attacks.\n"
     ]
    },
    {
     "name": "stdout",
     "output_type": "stream",
     "text": [
      "\n",
      "\n",
      "=============================================================================================================================\n",
      "=============================================================================================================================\n",
      "\n"
     ]
    },
    {
     "name": "stderr",
     "output_type": "stream",
     "text": [
      "[Succeeded / Failed / Skipped / Total] 122 / 281 / 97 / 500: 100%|███████████████████| 500/500 [09:32<00:00,  1.14s/it]textattack: Saving checkpoint under \"checkpoints\\1720260062886.ta.chkpt\" at 2024-07-06 18:01:02 after 500 attacks.\n",
      "[Succeeded / Failed / Skipped / Total] 122 / 281 / 97 / 500: 100%|███████████████████| 500/500 [09:32<00:00,  1.14s/it]"
     ]
    },
    {
     "name": "stdout",
     "output_type": "stream",
     "text": [
      "\n",
      "\n",
      "=============================================================================================================================\n",
      "=============================================================================================================================\n",
      "\n",
      "\n",
      "+-------------------------------+--------+\n",
      "| Attack Results                |        |\n",
      "+-------------------------------+--------+\n",
      "| Number of successful attacks: | 122    |\n",
      "| Number of failed attacks:     | 281    |\n",
      "| Number of skipped attacks:    | 97     |\n",
      "| Original accuracy:            | 80.6%  |\n",
      "| Accuracy under attack:        | 56.2%  |\n",
      "| Attack success rate:          | 30.27% |\n",
      "| Average perturbed word %:     | 15.01% |\n",
      "| Average num. words per input: | 18.4   |\n",
      "| Avg num queries:              | 22.69  |\n",
      "+-------------------------------+--------+\n"
     ]
    },
    {
     "name": "stderr",
     "output_type": "stream",
     "text": [
      "\n"
     ]
    }
   ],
   "source": [
    "runAttack(bert_model_wrapper_svc_mr, n_samples, 'attack_results_new/bertmrattacksvc'+suffix, target_ds_mr)"
   ]
  },
  {
   "cell_type": "markdown",
   "id": "dd63a478-d62b-479e-8008-00fbd17c8c18",
   "metadata": {},
   "source": [
    "### DistilBERT-based-uncased"
   ]
  },
  {
   "cell_type": "code",
   "execution_count": 16,
   "id": "9f085186-e2aa-44a6-8089-92317f282f52",
   "metadata": {},
   "outputs": [
    {
     "name": "stderr",
     "output_type": "stream",
     "text": [
      "D:\\anaconda3\\envs\\tf\\lib\\site-packages\\huggingface_hub\\file_download.py:1132: FutureWarning: `resume_download` is deprecated and will be removed in version 1.0.0. Downloads always resume when possible. If you want to force a new download, use `force_download=True`.\n",
      "  warnings.warn(\n"
     ]
    }
   ],
   "source": [
    "# bert-based-uncased\n",
    "model_path2 = 'distilbert/distilbert-base-uncased'\n",
    "\n",
    "disbert_model = transformers.AutoModel.from_pretrained(model_path2)\n",
    "disbert_tokenizer = transformers.AutoTokenizer.from_pretrained(model_path2)"
   ]
  },
  {
   "cell_type": "code",
   "execution_count": 17,
   "id": "941f4005-1125-4a4a-999b-9f4244f18a09",
   "metadata": {},
   "outputs": [
    {
     "name": "stderr",
     "output_type": "stream",
     "text": [
      "D:\\anaconda3\\envs\\tf\\lib\\site-packages\\sklearn\\linear_model\\_sag.py:350: ConvergenceWarning: The max_iter was reached which means the coef_ did not converge\n",
      "  warnings.warn(\n"
     ]
    },
    {
     "name": "stdout",
     "output_type": "stream",
     "text": [
      "Log Reg 0.7945590994371482\n",
      "RF 0.7682926829268293\n",
      "KNN 0.7298311444652908\n",
      "SVC 0.7851782363977486\n"
     ]
    }
   ],
   "source": [
    "disbertmrtrain = pd.read_csv('dataset_embeddings/disbertmrtrain.txt', header=None)\n",
    "disbertmrtest = pd.read_csv('dataset_embeddings/disbertmrtest.txt', header=None)\n",
    "lr_disbert_mr, rf_disbert_mr, knn_disbert_mr, svc_disbert_mr = adaptation(disbertmrtrain, disbertmrtest)"
   ]
  },
  {
   "cell_type": "code",
   "execution_count": 18,
   "id": "9e4d537c-15d6-4688-b676-9c389ce365ce",
   "metadata": {},
   "outputs": [],
   "source": [
    "# custom model wrapper for DistilBERT\n",
    "class DisBERTModelWrapper(HuggingFaceModelWrapper):\n",
    "    def __init__(self, processor, text_encoder, classifier):\n",
    "        self.processor = processor\n",
    "        self.model = text_encoder\n",
    "        self.classifier = classifier\n",
    "\n",
    "    def __call__(self, text_input_list):\n",
    "        inputs = self.processor(text_input_list, return_tensors='pt', padding=True, truncation=True)\n",
    "        outputs = self.model(**inputs).last_hidden_state.mean(axis=1)\n",
    "        with torch.no_grad():\n",
    "            preds = self.classifier.predict_proba(outputs)\n",
    "        return preds"
   ]
  },
  {
   "cell_type": "code",
   "execution_count": 19,
   "id": "564916f2-cf94-432e-81bf-e01b39cf9fc5",
   "metadata": {},
   "outputs": [],
   "source": [
    "disbert_model_wrapper_lr_mr = DisBERTModelWrapper(disbert_tokenizer, disbert_model, lr_disbert_mr)\n",
    "disbert_model_wrapper_rf_mr = DisBERTModelWrapper(disbert_tokenizer, disbert_model, rf_disbert_mr)\n",
    "disbert_model_wrapper_knn_mr = DisBERTModelWrapper(disbert_tokenizer, disbert_model, knn_disbert_mr)\n",
    "disbert_model_wrapper_svc_mr = DisBERTModelWrapper(disbert_tokenizer, disbert_model, svc_disbert_mr)"
   ]
  },
  {
   "cell_type": "code",
   "execution_count": 20,
   "id": "32e80b72-91e4-4eee-b512-eacd6496b617",
   "metadata": {},
   "outputs": [
    {
     "name": "stderr",
     "output_type": "stream",
     "text": [
      "textattack: Unknown if model of class <class 'transformers.models.distilbert.modeling_distilbert.DistilBertModel'> compatible with goal function <class 'textattack.goal_functions.classification.untargeted_classification.UntargetedClassification'>.\n",
      "textattack: Logging to CSV at path attack_results_new/disbertmrattacklrsim09.csv\n"
     ]
    },
    {
     "name": "stdout",
     "output_type": "stream",
     "text": [
      "Attack(\n",
      "  (search_method): GreedyWordSwapWIR(\n",
      "    (wir_method):  delete\n",
      "  )\n",
      "  (goal_function):  UntargetedClassification\n",
      "  (transformation):  WordSwapEmbedding(\n",
      "    (max_candidates):  50\n",
      "    (embedding):  WordEmbedding\n",
      "  )\n",
      "  (constraints): \n",
      "    (0): WordEmbeddingDistance(\n",
      "        (embedding):  WordEmbedding\n",
      "        (min_cos_sim):  0.9\n",
      "        (cased):  False\n",
      "        (include_unknown_words):  True\n",
      "        (compare_against_original):  True\n",
      "      )\n",
      "    (1): PartOfSpeech(\n",
      "        (tagger_type):  nltk\n",
      "        (tagset):  universal\n",
      "        (allow_verb_noun_swap):  True\n",
      "        (compare_against_original):  True\n",
      "      )\n",
      "    (2): UniversalSentenceEncoder(\n",
      "        (metric):  angular\n",
      "        (threshold):  0.840845057\n",
      "        (window_size):  15\n",
      "        (skip_text_shorter_than_window):  True\n",
      "        (compare_against_original):  False\n",
      "      )\n",
      "    (3): RepeatModification\n",
      "    (4): StopwordModification\n",
      "    (5): InputColumnModification(\n",
      "        (matching_column_labels):  ['premise', 'hypothesis']\n",
      "        (columns_to_ignore):  {'premise'}\n",
      "      )\n",
      "  (is_black_box):  True\n",
      ") \n",
      "\n"
     ]
    },
    {
     "name": "stderr",
     "output_type": "stream",
     "text": [
      "[Succeeded / Failed / Skipped / Total] 1 / 3 / 1 / 5:   1%|▎                           | 5/500 [00:08<14:27,  1.75s/it]textattack: Saving checkpoint under \"checkpoints\\1720260219564.ta.chkpt\" at 2024-07-06 18:03:39 after 5 attacks.\n",
      "[Succeeded / Failed / Skipped / Total] 1 / 3 / 3 / 7:   1%|▍                           | 7/500 [00:08<10:25,  1.27s/it]"
     ]
    },
    {
     "name": "stdout",
     "output_type": "stream",
     "text": [
      "\n",
      "\n",
      "=============================================================================================================================\n",
      "=============================================================================================================================\n",
      "\n"
     ]
    },
    {
     "name": "stderr",
     "output_type": "stream",
     "text": [
      "[Succeeded / Failed / Skipped / Total] 2 / 5 / 3 / 10:   2%|▌                         | 10/500 [00:12<10:16,  1.26s/it]textattack: Saving checkpoint under \"checkpoints\\1720260223376.ta.chkpt\" at 2024-07-06 18:03:43 after 10 attacks.\n"
     ]
    },
    {
     "name": "stdout",
     "output_type": "stream",
     "text": [
      "\n",
      "\n",
      "=============================================================================================================================\n",
      "=============================================================================================================================\n",
      "\n"
     ]
    },
    {
     "name": "stderr",
     "output_type": "stream",
     "text": [
      "[Succeeded / Failed / Skipped / Total] 2 / 9 / 4 / 15:   3%|▊                         | 15/500 [00:16<09:08,  1.13s/it]textattack: Saving checkpoint under \"checkpoints\\1720260227767.ta.chkpt\" at 2024-07-06 18:03:47 after 15 attacks.\n"
     ]
    },
    {
     "name": "stdout",
     "output_type": "stream",
     "text": [
      "\n",
      "\n",
      "=============================================================================================================================\n",
      "=============================================================================================================================\n",
      "\n"
     ]
    },
    {
     "name": "stderr",
     "output_type": "stream",
     "text": [
      "[Succeeded / Failed / Skipped / Total] 2 / 13 / 5 / 20:   4%|█                        | 20/500 [00:19<07:49,  1.02it/s]textattack: Saving checkpoint under \"checkpoints\\1720260230361.ta.chkpt\" at 2024-07-06 18:03:50 after 20 attacks.\n"
     ]
    },
    {
     "name": "stdout",
     "output_type": "stream",
     "text": [
      "\n",
      "\n",
      "=============================================================================================================================\n",
      "=============================================================================================================================\n",
      "\n"
     ]
    },
    {
     "name": "stderr",
     "output_type": "stream",
     "text": [
      "[Succeeded / Failed / Skipped / Total] 4 / 15 / 6 / 25:   5%|█▎                       | 25/500 [00:22<07:10,  1.10it/s]textattack: Saving checkpoint under \"checkpoints\\1720260233440.ta.chkpt\" at 2024-07-06 18:03:53 after 25 attacks.\n"
     ]
    },
    {
     "name": "stdout",
     "output_type": "stream",
     "text": [
      "\n",
      "\n",
      "=============================================================================================================================\n",
      "=============================================================================================================================\n",
      "\n"
     ]
    },
    {
     "name": "stderr",
     "output_type": "stream",
     "text": [
      "[Succeeded / Failed / Skipped / Total] 4 / 18 / 8 / 30:   6%|█▌                       | 30/500 [00:25<06:35,  1.19it/s]textattack: Saving checkpoint under \"checkpoints\\1720260236018.ta.chkpt\" at 2024-07-06 18:03:56 after 30 attacks.\n"
     ]
    },
    {
     "name": "stdout",
     "output_type": "stream",
     "text": [
      "\n",
      "\n",
      "=============================================================================================================================\n",
      "=============================================================================================================================\n",
      "\n"
     ]
    },
    {
     "name": "stderr",
     "output_type": "stream",
     "text": [
      "[Succeeded / Failed / Skipped / Total] 5 / 20 / 10 / 35:   7%|█▋                      | 35/500 [00:26<05:57,  1.30it/s]textattack: Saving checkpoint under \"checkpoints\\1720260237690.ta.chkpt\" at 2024-07-06 18:03:57 after 35 attacks.\n"
     ]
    },
    {
     "name": "stdout",
     "output_type": "stream",
     "text": [
      "\n",
      "\n",
      "=============================================================================================================================\n",
      "=============================================================================================================================\n",
      "\n"
     ]
    },
    {
     "name": "stderr",
     "output_type": "stream",
     "text": [
      "[Succeeded / Failed / Skipped / Total] 7 / 22 / 11 / 40:   8%|█▉                      | 40/500 [00:30<05:49,  1.32it/s]textattack: Saving checkpoint under \"checkpoints\\1720260241159.ta.chkpt\" at 2024-07-06 18:04:01 after 40 attacks.\n"
     ]
    },
    {
     "name": "stdout",
     "output_type": "stream",
     "text": [
      "\n",
      "\n",
      "=============================================================================================================================\n",
      "=============================================================================================================================\n",
      "\n"
     ]
    },
    {
     "name": "stderr",
     "output_type": "stream",
     "text": [
      "[Succeeded / Failed / Skipped / Total] 10 / 24 / 11 / 45:   9%|██                     | 45/500 [00:37<06:17,  1.21it/s]textattack: Saving checkpoint under \"checkpoints\\1720260248144.ta.chkpt\" at 2024-07-06 18:04:08 after 45 attacks.\n"
     ]
    },
    {
     "name": "stdout",
     "output_type": "stream",
     "text": [
      "\n",
      "\n",
      "=============================================================================================================================\n",
      "=============================================================================================================================\n",
      "\n"
     ]
    },
    {
     "name": "stderr",
     "output_type": "stream",
     "text": [
      "[Succeeded / Failed / Skipped / Total] 10 / 29 / 11 / 50:  10%|██▎                    | 50/500 [00:42<06:22,  1.18it/s]textattack: Saving checkpoint under \"checkpoints\\1720260253280.ta.chkpt\" at 2024-07-06 18:04:13 after 50 attacks.\n"
     ]
    },
    {
     "name": "stdout",
     "output_type": "stream",
     "text": [
      "\n",
      "\n",
      "=============================================================================================================================\n",
      "=============================================================================================================================\n",
      "\n"
     ]
    },
    {
     "name": "stderr",
     "output_type": "stream",
     "text": [
      "[Succeeded / Failed / Skipped / Total] 13 / 31 / 11 / 55:  11%|██▌                    | 55/500 [00:47<06:21,  1.17it/s]textattack: Saving checkpoint under \"checkpoints\\1720260257937.ta.chkpt\" at 2024-07-06 18:04:17 after 55 attacks.\n"
     ]
    },
    {
     "name": "stdout",
     "output_type": "stream",
     "text": [
      "\n",
      "\n",
      "=============================================================================================================================\n",
      "=============================================================================================================================\n",
      "\n"
     ]
    },
    {
     "name": "stderr",
     "output_type": "stream",
     "text": [
      "[Succeeded / Failed / Skipped / Total] 14 / 33 / 13 / 60:  12%|██▊                    | 60/500 [00:49<06:02,  1.21it/s]textattack: Saving checkpoint under \"checkpoints\\1720260260187.ta.chkpt\" at 2024-07-06 18:04:20 after 60 attacks.\n",
      "[Succeeded / Failed / Skipped / Total] 14 / 33 / 15 / 62:  12%|██▊                    | 62/500 [00:49<05:49,  1.25it/s]"
     ]
    },
    {
     "name": "stdout",
     "output_type": "stream",
     "text": [
      "\n",
      "\n",
      "=============================================================================================================================\n",
      "=============================================================================================================================\n",
      "\n"
     ]
    },
    {
     "name": "stderr",
     "output_type": "stream",
     "text": [
      "[Succeeded / Failed / Skipped / Total] 15 / 35 / 15 / 65:  13%|██▉                    | 65/500 [00:51<05:44,  1.26it/s]textattack: Saving checkpoint under \"checkpoints\\1720260262250.ta.chkpt\" at 2024-07-06 18:04:22 after 65 attacks.\n"
     ]
    },
    {
     "name": "stdout",
     "output_type": "stream",
     "text": [
      "\n",
      "\n",
      "=============================================================================================================================\n",
      "=============================================================================================================================\n",
      "\n"
     ]
    },
    {
     "name": "stderr",
     "output_type": "stream",
     "text": [
      "[Succeeded / Failed / Skipped / Total] 16 / 38 / 16 / 70:  14%|███▏                   | 70/500 [00:53<05:31,  1.30it/s]textattack: Saving checkpoint under \"checkpoints\\1720260264766.ta.chkpt\" at 2024-07-06 18:04:24 after 70 attacks.\n"
     ]
    },
    {
     "name": "stdout",
     "output_type": "stream",
     "text": [
      "\n",
      "\n",
      "=============================================================================================================================\n",
      "=============================================================================================================================\n",
      "\n"
     ]
    },
    {
     "name": "stderr",
     "output_type": "stream",
     "text": [
      "[Succeeded / Failed / Skipped / Total] 19 / 39 / 17 / 75:  15%|███▍                   | 75/500 [00:56<05:20,  1.33it/s]textattack: Saving checkpoint under \"checkpoints\\1720260267328.ta.chkpt\" at 2024-07-06 18:04:27 after 75 attacks.\n"
     ]
    },
    {
     "name": "stdout",
     "output_type": "stream",
     "text": [
      "\n",
      "\n",
      "=============================================================================================================================\n",
      "=============================================================================================================================\n",
      "\n"
     ]
    },
    {
     "name": "stderr",
     "output_type": "stream",
     "text": [
      "[Succeeded / Failed / Skipped / Total] 20 / 43 / 17 / 80:  16%|███▋                   | 80/500 [00:59<05:14,  1.34it/s]textattack: Saving checkpoint under \"checkpoints\\1720260270688.ta.chkpt\" at 2024-07-06 18:04:30 after 80 attacks.\n",
      "[Succeeded / Failed / Skipped / Total] 20 / 43 / 19 / 82:  16%|███▊                   | 82/500 [00:59<05:05,  1.37it/s]"
     ]
    },
    {
     "name": "stdout",
     "output_type": "stream",
     "text": [
      "\n",
      "\n",
      "=============================================================================================================================\n",
      "=============================================================================================================================\n",
      "\n"
     ]
    },
    {
     "name": "stderr",
     "output_type": "stream",
     "text": [
      "[Succeeded / Failed / Skipped / Total] 21 / 44 / 20 / 85:  17%|███▉                   | 85/500 [01:00<04:57,  1.40it/s]textattack: Saving checkpoint under \"checkpoints\\1720260271688.ta.chkpt\" at 2024-07-06 18:04:31 after 85 attacks.\n"
     ]
    },
    {
     "name": "stdout",
     "output_type": "stream",
     "text": [
      "\n",
      "\n",
      "=============================================================================================================================\n",
      "=============================================================================================================================\n",
      "\n"
     ]
    },
    {
     "name": "stderr",
     "output_type": "stream",
     "text": [
      "[Succeeded / Failed / Skipped / Total] 23 / 47 / 20 / 90:  18%|████▏                  | 90/500 [01:06<05:02,  1.36it/s]textattack: Saving checkpoint under \"checkpoints\\1720260277188.ta.chkpt\" at 2024-07-06 18:04:37 after 90 attacks.\n"
     ]
    },
    {
     "name": "stdout",
     "output_type": "stream",
     "text": [
      "\n",
      "\n",
      "=============================================================================================================================\n",
      "=============================================================================================================================\n",
      "\n"
     ]
    },
    {
     "name": "stderr",
     "output_type": "stream",
     "text": [
      "[Succeeded / Failed / Skipped / Total] 25 / 48 / 22 / 95:  19%|████▎                  | 95/500 [01:09<04:57,  1.36it/s]textattack: Saving checkpoint under \"checkpoints\\1720260280579.ta.chkpt\" at 2024-07-06 18:04:40 after 95 attacks.\n"
     ]
    },
    {
     "name": "stdout",
     "output_type": "stream",
     "text": [
      "\n",
      "\n",
      "=============================================================================================================================\n",
      "=============================================================================================================================\n",
      "\n"
     ]
    },
    {
     "name": "stderr",
     "output_type": "stream",
     "text": [
      "[Succeeded / Failed / Skipped / Total] 26 / 52 / 22 / 100:  20%|████▏                | 100/500 [01:12<04:51,  1.37it/s]textattack: Saving checkpoint under \"checkpoints\\1720260283751.ta.chkpt\" at 2024-07-06 18:04:43 after 100 attacks.\n"
     ]
    },
    {
     "name": "stdout",
     "output_type": "stream",
     "text": [
      "\n",
      "\n",
      "=============================================================================================================================\n",
      "=============================================================================================================================\n",
      "\n"
     ]
    },
    {
     "name": "stderr",
     "output_type": "stream",
     "text": [
      "[Succeeded / Failed / Skipped / Total] 26 / 56 / 23 / 105:  21%|████▍                | 105/500 [01:21<05:05,  1.29it/s]textattack: Saving checkpoint under \"checkpoints\\1720260292033.ta.chkpt\" at 2024-07-06 18:04:52 after 105 attacks.\n",
      "[Succeeded / Failed / Skipped / Total] 26 / 56 / 24 / 106:  21%|████▍                | 106/500 [01:21<05:02,  1.30it/s]"
     ]
    },
    {
     "name": "stdout",
     "output_type": "stream",
     "text": [
      "\n",
      "\n",
      "=============================================================================================================================\n",
      "=============================================================================================================================\n",
      "\n"
     ]
    },
    {
     "name": "stderr",
     "output_type": "stream",
     "text": [
      "[Succeeded / Failed / Skipped / Total] 27 / 57 / 26 / 110:  22%|████▌                | 110/500 [01:22<04:52,  1.33it/s]textattack: Saving checkpoint under \"checkpoints\\1720260293393.ta.chkpt\" at 2024-07-06 18:04:53 after 110 attacks.\n",
      "[Succeeded / Failed / Skipped / Total] 27 / 57 / 27 / 111:  22%|████▋                | 111/500 [01:22<04:49,  1.34it/s]"
     ]
    },
    {
     "name": "stdout",
     "output_type": "stream",
     "text": [
      "\n",
      "\n",
      "=============================================================================================================================\n",
      "=============================================================================================================================\n",
      "\n"
     ]
    },
    {
     "name": "stderr",
     "output_type": "stream",
     "text": [
      "[Succeeded / Failed / Skipped / Total] 29 / 58 / 28 / 115:  23%|████▊                | 115/500 [01:26<04:48,  1.33it/s]textattack: Saving checkpoint under \"checkpoints\\1720260297034.ta.chkpt\" at 2024-07-06 18:04:57 after 115 attacks.\n"
     ]
    },
    {
     "name": "stdout",
     "output_type": "stream",
     "text": [
      "\n",
      "\n",
      "=============================================================================================================================\n",
      "=============================================================================================================================\n",
      "\n"
     ]
    },
    {
     "name": "stderr",
     "output_type": "stream",
     "text": [
      "[Succeeded / Failed / Skipped / Total] 29 / 61 / 30 / 120:  24%|█████                | 120/500 [01:27<04:38,  1.37it/s]textattack: Saving checkpoint under \"checkpoints\\1720260298628.ta.chkpt\" at 2024-07-06 18:04:58 after 120 attacks.\n"
     ]
    },
    {
     "name": "stdout",
     "output_type": "stream",
     "text": [
      "\n",
      "\n",
      "=============================================================================================================================\n",
      "=============================================================================================================================\n",
      "\n"
     ]
    },
    {
     "name": "stderr",
     "output_type": "stream",
     "text": [
      "[Succeeded / Failed / Skipped / Total] 31 / 64 / 30 / 125:  25%|█████▎               | 125/500 [01:32<04:36,  1.35it/s]textattack: Saving checkpoint under \"checkpoints\\1720260303081.ta.chkpt\" at 2024-07-06 18:05:03 after 125 attacks.\n"
     ]
    },
    {
     "name": "stdout",
     "output_type": "stream",
     "text": [
      "\n",
      "\n",
      "=============================================================================================================================\n",
      "=============================================================================================================================\n",
      "\n"
     ]
    },
    {
     "name": "stderr",
     "output_type": "stream",
     "text": [
      "[Succeeded / Failed / Skipped / Total] 32 / 66 / 32 / 130:  26%|█████▍               | 130/500 [01:33<04:26,  1.39it/s]textattack: Saving checkpoint under \"checkpoints\\1720260304566.ta.chkpt\" at 2024-07-06 18:05:04 after 130 attacks.\n",
      "[Succeeded / Failed / Skipped / Total] 32 / 66 / 33 / 131:  26%|█████▌               | 131/500 [01:33<04:24,  1.40it/s]"
     ]
    },
    {
     "name": "stdout",
     "output_type": "stream",
     "text": [
      "\n",
      "\n",
      "=============================================================================================================================\n",
      "=============================================================================================================================\n",
      "\n"
     ]
    },
    {
     "name": "stderr",
     "output_type": "stream",
     "text": [
      "[Succeeded / Failed / Skipped / Total] 33 / 68 / 34 / 135:  27%|█████▋               | 135/500 [01:38<04:25,  1.38it/s]textattack: Saving checkpoint under \"checkpoints\\1720260308972.ta.chkpt\" at 2024-07-06 18:05:08 after 135 attacks.\n"
     ]
    },
    {
     "name": "stdout",
     "output_type": "stream",
     "text": [
      "\n",
      "\n",
      "=============================================================================================================================\n",
      "=============================================================================================================================\n",
      "\n"
     ]
    },
    {
     "name": "stderr",
     "output_type": "stream",
     "text": [
      "[Succeeded / Failed / Skipped / Total] 35 / 70 / 35 / 140:  28%|█████▉               | 140/500 [01:42<04:24,  1.36it/s]textattack: Saving checkpoint under \"checkpoints\\1720260313769.ta.chkpt\" at 2024-07-06 18:05:13 after 140 attacks.\n"
     ]
    },
    {
     "name": "stdout",
     "output_type": "stream",
     "text": [
      "\n",
      "\n",
      "=============================================================================================================================\n",
      "=============================================================================================================================\n",
      "\n"
     ]
    },
    {
     "name": "stderr",
     "output_type": "stream",
     "text": [
      "[Succeeded / Failed / Skipped / Total] 37 / 73 / 35 / 145:  29%|██████               | 145/500 [01:46<04:20,  1.36it/s]textattack: Saving checkpoint under \"checkpoints\\1720260317363.ta.chkpt\" at 2024-07-06 18:05:17 after 145 attacks.\n",
      "[Succeeded / Failed / Skipped / Total] 37 / 73 / 38 / 148:  30%|██████▏              | 148/500 [01:46<04:13,  1.39it/s]"
     ]
    },
    {
     "name": "stdout",
     "output_type": "stream",
     "text": [
      "\n",
      "\n",
      "=============================================================================================================================\n",
      "=============================================================================================================================\n",
      "\n"
     ]
    },
    {
     "name": "stderr",
     "output_type": "stream",
     "text": [
      "[Succeeded / Failed / Skipped / Total] 38 / 74 / 38 / 150:  30%|██████▎              | 150/500 [01:47<04:11,  1.39it/s]textattack: Saving checkpoint under \"checkpoints\\1720260318551.ta.chkpt\" at 2024-07-06 18:05:18 after 150 attacks.\n"
     ]
    },
    {
     "name": "stdout",
     "output_type": "stream",
     "text": [
      "\n",
      "\n",
      "=============================================================================================================================\n",
      "=============================================================================================================================\n",
      "\n"
     ]
    },
    {
     "name": "stderr",
     "output_type": "stream",
     "text": [
      "[Succeeded / Failed / Skipped / Total] 40 / 76 / 39 / 155:  31%|██████▌              | 155/500 [01:50<04:04,  1.41it/s]textattack: Saving checkpoint under \"checkpoints\\1720260320832.ta.chkpt\" at 2024-07-06 18:05:20 after 155 attacks.\n"
     ]
    },
    {
     "name": "stdout",
     "output_type": "stream",
     "text": [
      "\n",
      "\n",
      "=============================================================================================================================\n",
      "=============================================================================================================================\n",
      "\n"
     ]
    },
    {
     "name": "stderr",
     "output_type": "stream",
     "text": [
      "[Succeeded / Failed / Skipped / Total] 41 / 79 / 40 / 160:  32%|██████▋              | 160/500 [01:54<04:03,  1.40it/s]textattack: Saving checkpoint under \"checkpoints\\1720260325458.ta.chkpt\" at 2024-07-06 18:05:25 after 160 attacks.\n",
      "[Succeeded / Failed / Skipped / Total] 41 / 79 / 41 / 161:  32%|██████▊              | 161/500 [01:54<04:01,  1.40it/s]"
     ]
    },
    {
     "name": "stdout",
     "output_type": "stream",
     "text": [
      "\n",
      "\n",
      "=============================================================================================================================\n",
      "=============================================================================================================================\n",
      "\n"
     ]
    },
    {
     "name": "stderr",
     "output_type": "stream",
     "text": [
      "[Succeeded / Failed / Skipped / Total] 42 / 81 / 42 / 165:  33%|██████▉              | 165/500 [01:56<03:57,  1.41it/s]textattack: Saving checkpoint under \"checkpoints\\1720260327755.ta.chkpt\" at 2024-07-06 18:05:27 after 165 attacks.\n"
     ]
    },
    {
     "name": "stdout",
     "output_type": "stream",
     "text": [
      "\n",
      "\n",
      "=============================================================================================================================\n",
      "=============================================================================================================================\n",
      "\n"
     ]
    },
    {
     "name": "stderr",
     "output_type": "stream",
     "text": [
      "[Succeeded / Failed / Skipped / Total] 45 / 82 / 43 / 170:  34%|███████▏             | 170/500 [02:00<03:53,  1.41it/s]textattack: Saving checkpoint under \"checkpoints\\1720260331131.ta.chkpt\" at 2024-07-06 18:05:31 after 170 attacks.\n"
     ]
    },
    {
     "name": "stdout",
     "output_type": "stream",
     "text": [
      "\n",
      "\n",
      "=============================================================================================================================\n",
      "=============================================================================================================================\n",
      "\n"
     ]
    },
    {
     "name": "stderr",
     "output_type": "stream",
     "text": [
      "[Succeeded / Failed / Skipped / Total] 45 / 86 / 44 / 175:  35%|███████▎             | 175/500 [02:06<03:54,  1.39it/s]textattack: Saving checkpoint under \"checkpoints\\1720260336991.ta.chkpt\" at 2024-07-06 18:05:36 after 175 attacks.\n"
     ]
    },
    {
     "name": "stdout",
     "output_type": "stream",
     "text": [
      "\n",
      "\n",
      "=============================================================================================================================\n",
      "=============================================================================================================================\n",
      "\n"
     ]
    },
    {
     "name": "stderr",
     "output_type": "stream",
     "text": [
      "[Succeeded / Failed / Skipped / Total] 46 / 89 / 45 / 180:  36%|███████▌             | 180/500 [02:09<03:50,  1.39it/s]textattack: Saving checkpoint under \"checkpoints\\1720260340319.ta.chkpt\" at 2024-07-06 18:05:40 after 180 attacks.\n"
     ]
    },
    {
     "name": "stdout",
     "output_type": "stream",
     "text": [
      "\n",
      "\n",
      "=============================================================================================================================\n",
      "=============================================================================================================================\n",
      "\n"
     ]
    },
    {
     "name": "stderr",
     "output_type": "stream",
     "text": [
      "[Succeeded / Failed / Skipped / Total] 48 / 91 / 46 / 185:  37%|███████▊             | 185/500 [02:11<03:43,  1.41it/s]textattack: Saving checkpoint under \"checkpoints\\1720260342272.ta.chkpt\" at 2024-07-06 18:05:42 after 185 attacks.\n"
     ]
    },
    {
     "name": "stdout",
     "output_type": "stream",
     "text": [
      "\n",
      "\n",
      "=============================================================================================================================\n",
      "=============================================================================================================================\n",
      "\n"
     ]
    },
    {
     "name": "stderr",
     "output_type": "stream",
     "text": [
      "[Succeeded / Failed / Skipped / Total] 49 / 95 / 46 / 190:  38%|███████▉             | 190/500 [02:16<03:43,  1.39it/s]textattack: Saving checkpoint under \"checkpoints\\1720260347663.ta.chkpt\" at 2024-07-06 18:05:47 after 190 attacks.\n"
     ]
    },
    {
     "name": "stdout",
     "output_type": "stream",
     "text": [
      "\n",
      "\n",
      "=============================================================================================================================\n",
      "=============================================================================================================================\n",
      "\n"
     ]
    },
    {
     "name": "stderr",
     "output_type": "stream",
     "text": [
      "[Succeeded / Failed / Skipped / Total] 49 / 98 / 48 / 195:  39%|████████▏            | 195/500 [02:21<03:40,  1.38it/s]textattack: Saving checkpoint under \"checkpoints\\1720260351992.ta.chkpt\" at 2024-07-06 18:05:51 after 195 attacks.\n"
     ]
    },
    {
     "name": "stdout",
     "output_type": "stream",
     "text": [
      "\n",
      "\n",
      "=============================================================================================================================\n",
      "=============================================================================================================================\n",
      "\n"
     ]
    },
    {
     "name": "stderr",
     "output_type": "stream",
     "text": [
      "[Succeeded / Failed / Skipped / Total] 50 / 101 / 49 / 200:  40%|████████            | 200/500 [02:27<03:41,  1.35it/s]textattack: Saving checkpoint under \"checkpoints\\1720260358617.ta.chkpt\" at 2024-07-06 18:05:58 after 200 attacks.\n"
     ]
    },
    {
     "name": "stdout",
     "output_type": "stream",
     "text": [
      "\n",
      "\n",
      "=============================================================================================================================\n",
      "=============================================================================================================================\n",
      "\n"
     ]
    },
    {
     "name": "stderr",
     "output_type": "stream",
     "text": [
      "[Succeeded / Failed / Skipped / Total] 51 / 104 / 50 / 205:  41%|████████▏           | 205/500 [02:30<03:36,  1.36it/s]textattack: Saving checkpoint under \"checkpoints\\1720260361414.ta.chkpt\" at 2024-07-06 18:06:01 after 205 attacks.\n"
     ]
    },
    {
     "name": "stdout",
     "output_type": "stream",
     "text": [
      "\n",
      "\n",
      "=============================================================================================================================\n",
      "=============================================================================================================================\n",
      "\n"
     ]
    },
    {
     "name": "stderr",
     "output_type": "stream",
     "text": [
      "[Succeeded / Failed / Skipped / Total] 52 / 106 / 52 / 210:  42%|████████▍           | 210/500 [02:31<03:29,  1.38it/s]textattack: Saving checkpoint under \"checkpoints\\1720260362774.ta.chkpt\" at 2024-07-06 18:06:02 after 210 attacks.\n"
     ]
    },
    {
     "name": "stdout",
     "output_type": "stream",
     "text": [
      "\n",
      "\n",
      "=============================================================================================================================\n",
      "=============================================================================================================================\n",
      "\n"
     ]
    },
    {
     "name": "stderr",
     "output_type": "stream",
     "text": [
      "[Succeeded / Failed / Skipped / Total] 53 / 109 / 53 / 215:  43%|████████▌           | 215/500 [02:34<03:25,  1.39it/s]textattack: Saving checkpoint under \"checkpoints\\1720260365805.ta.chkpt\" at 2024-07-06 18:06:05 after 215 attacks.\n"
     ]
    },
    {
     "name": "stdout",
     "output_type": "stream",
     "text": [
      "\n",
      "\n",
      "=============================================================================================================================\n",
      "=============================================================================================================================\n",
      "\n"
     ]
    },
    {
     "name": "stderr",
     "output_type": "stream",
     "text": [
      "[Succeeded / Failed / Skipped / Total] 55 / 112 / 53 / 220:  44%|████████▊           | 220/500 [02:37<03:20,  1.39it/s]textattack: Saving checkpoint under \"checkpoints\\1720260368571.ta.chkpt\" at 2024-07-06 18:06:08 after 220 attacks.\n"
     ]
    },
    {
     "name": "stdout",
     "output_type": "stream",
     "text": [
      "\n",
      "\n",
      "=============================================================================================================================\n",
      "=============================================================================================================================\n",
      "\n"
     ]
    },
    {
     "name": "stderr",
     "output_type": "stream",
     "text": [
      "[Succeeded / Failed / Skipped / Total] 56 / 114 / 55 / 225:  45%|█████████           | 225/500 [02:41<03:17,  1.39it/s]textattack: Saving checkpoint under \"checkpoints\\1720260372681.ta.chkpt\" at 2024-07-06 18:06:12 after 225 attacks.\n"
     ]
    },
    {
     "name": "stdout",
     "output_type": "stream",
     "text": [
      "\n",
      "\n",
      "=============================================================================================================================\n",
      "=============================================================================================================================\n",
      "\n"
     ]
    },
    {
     "name": "stderr",
     "output_type": "stream",
     "text": [
      "[Succeeded / Failed / Skipped / Total] 57 / 117 / 56 / 230:  46%|█████████▏          | 230/500 [02:44<03:12,  1.40it/s]textattack: Saving checkpoint under \"checkpoints\\1720260374993.ta.chkpt\" at 2024-07-06 18:06:14 after 230 attacks.\n"
     ]
    },
    {
     "name": "stdout",
     "output_type": "stream",
     "text": [
      "\n",
      "\n",
      "=============================================================================================================================\n",
      "=============================================================================================================================\n",
      "\n"
     ]
    },
    {
     "name": "stderr",
     "output_type": "stream",
     "text": [
      "[Succeeded / Failed / Skipped / Total] 59 / 120 / 56 / 235:  47%|█████████▍          | 235/500 [02:48<03:09,  1.40it/s]textattack: Saving checkpoint under \"checkpoints\\1720260378884.ta.chkpt\" at 2024-07-06 18:06:18 after 235 attacks.\n"
     ]
    },
    {
     "name": "stdout",
     "output_type": "stream",
     "text": [
      "\n",
      "\n",
      "=============================================================================================================================\n",
      "=============================================================================================================================\n",
      "\n"
     ]
    },
    {
     "name": "stderr",
     "output_type": "stream",
     "text": [
      "[Succeeded / Failed / Skipped / Total] 61 / 123 / 56 / 240:  48%|█████████▌          | 240/500 [02:51<03:05,  1.40it/s]textattack: Saving checkpoint under \"checkpoints\\1720260381853.ta.chkpt\" at 2024-07-06 18:06:21 after 240 attacks.\n"
     ]
    },
    {
     "name": "stdout",
     "output_type": "stream",
     "text": [
      "\n",
      "\n",
      "=============================================================================================================================\n",
      "=============================================================================================================================\n",
      "\n"
     ]
    },
    {
     "name": "stderr",
     "output_type": "stream",
     "text": [
      "[Succeeded / Failed / Skipped / Total] 62 / 127 / 56 / 245:  49%|█████████▊          | 245/500 [02:54<03:01,  1.40it/s]textattack: Saving checkpoint under \"checkpoints\\1720260385619.ta.chkpt\" at 2024-07-06 18:06:25 after 245 attacks.\n"
     ]
    },
    {
     "name": "stdout",
     "output_type": "stream",
     "text": [
      "\n",
      "\n",
      "=============================================================================================================================\n",
      "=============================================================================================================================\n",
      "\n"
     ]
    },
    {
     "name": "stderr",
     "output_type": "stream",
     "text": [
      "[Succeeded / Failed / Skipped / Total] 63 / 129 / 58 / 250:  50%|██████████          | 250/500 [02:56<02:56,  1.42it/s]textattack: Saving checkpoint under \"checkpoints\\1720260387432.ta.chkpt\" at 2024-07-06 18:06:27 after 250 attacks.\n"
     ]
    },
    {
     "name": "stdout",
     "output_type": "stream",
     "text": [
      "\n",
      "\n",
      "=============================================================================================================================\n",
      "=============================================================================================================================\n",
      "\n"
     ]
    },
    {
     "name": "stderr",
     "output_type": "stream",
     "text": [
      "[Succeeded / Failed / Skipped / Total] 65 / 131 / 59 / 255:  51%|██████████▏         | 255/500 [03:00<02:53,  1.41it/s]textattack: Saving checkpoint under \"checkpoints\\1720260391104.ta.chkpt\" at 2024-07-06 18:06:31 after 255 attacks.\n"
     ]
    },
    {
     "name": "stdout",
     "output_type": "stream",
     "text": [
      "\n",
      "\n",
      "=============================================================================================================================\n",
      "=============================================================================================================================\n",
      "\n"
     ]
    },
    {
     "name": "stderr",
     "output_type": "stream",
     "text": [
      "[Succeeded / Failed / Skipped / Total] 66 / 133 / 61 / 260:  52%|██████████▍         | 260/500 [03:03<02:48,  1.42it/s]textattack: Saving checkpoint under \"checkpoints\\1720260393885.ta.chkpt\" at 2024-07-06 18:06:33 after 260 attacks.\n"
     ]
    },
    {
     "name": "stdout",
     "output_type": "stream",
     "text": [
      "\n",
      "\n",
      "=============================================================================================================================\n",
      "=============================================================================================================================\n",
      "\n"
     ]
    },
    {
     "name": "stderr",
     "output_type": "stream",
     "text": [
      "[Succeeded / Failed / Skipped / Total] 67 / 137 / 61 / 265:  53%|██████████▌         | 265/500 [03:07<02:45,  1.42it/s]textattack: Saving checkpoint under \"checkpoints\\1720260397901.ta.chkpt\" at 2024-07-06 18:06:37 after 265 attacks.\n"
     ]
    },
    {
     "name": "stdout",
     "output_type": "stream",
     "text": [
      "\n",
      "\n",
      "=============================================================================================================================\n",
      "=============================================================================================================================\n",
      "\n"
     ]
    },
    {
     "name": "stderr",
     "output_type": "stream",
     "text": [
      "[Succeeded / Failed / Skipped / Total] 69 / 139 / 62 / 270:  54%|██████████▊         | 270/500 [03:11<02:43,  1.41it/s]textattack: Saving checkpoint under \"checkpoints\\1720260402261.ta.chkpt\" at 2024-07-06 18:06:42 after 270 attacks.\n",
      "[Succeeded / Failed / Skipped / Total] 69 / 139 / 63 / 271:  54%|██████████▊         | 271/500 [03:11<02:41,  1.41it/s]"
     ]
    },
    {
     "name": "stdout",
     "output_type": "stream",
     "text": [
      "\n",
      "\n",
      "=============================================================================================================================\n",
      "=============================================================================================================================\n",
      "\n"
     ]
    },
    {
     "name": "stderr",
     "output_type": "stream",
     "text": [
      "[Succeeded / Failed / Skipped / Total] 72 / 139 / 64 / 275:  55%|███████████         | 275/500 [03:12<02:37,  1.43it/s]textattack: Saving checkpoint under \"checkpoints\\1720260403776.ta.chkpt\" at 2024-07-06 18:06:43 after 275 attacks.\n",
      "[Succeeded / Failed / Skipped / Total] 72 / 139 / 66 / 277:  55%|███████████         | 277/500 [03:13<02:35,  1.43it/s]"
     ]
    },
    {
     "name": "stdout",
     "output_type": "stream",
     "text": [
      "\n",
      "\n",
      "=============================================================================================================================\n",
      "=============================================================================================================================\n",
      "\n"
     ]
    },
    {
     "name": "stderr",
     "output_type": "stream",
     "text": [
      "[Succeeded / Failed / Skipped / Total] 73 / 141 / 66 / 280:  56%|███████████▏        | 280/500 [03:15<02:33,  1.43it/s]textattack: Saving checkpoint under \"checkpoints\\1720260406683.ta.chkpt\" at 2024-07-06 18:06:46 after 280 attacks.\n"
     ]
    },
    {
     "name": "stdout",
     "output_type": "stream",
     "text": [
      "\n",
      "\n",
      "=============================================================================================================================\n",
      "=============================================================================================================================\n",
      "\n"
     ]
    },
    {
     "name": "stderr",
     "output_type": "stream",
     "text": [
      "[Succeeded / Failed / Skipped / Total] 75 / 144 / 66 / 285:  57%|███████████▍        | 285/500 [03:18<02:30,  1.43it/s]textattack: Saving checkpoint under \"checkpoints\\1720260409699.ta.chkpt\" at 2024-07-06 18:06:49 after 285 attacks.\n"
     ]
    },
    {
     "name": "stdout",
     "output_type": "stream",
     "text": [
      "\n",
      "\n",
      "=============================================================================================================================\n",
      "=============================================================================================================================\n",
      "\n"
     ]
    },
    {
     "name": "stderr",
     "output_type": "stream",
     "text": [
      "[Succeeded / Failed / Skipped / Total] 77 / 146 / 67 / 290:  58%|███████████▌        | 290/500 [03:21<02:26,  1.44it/s]textattack: Saving checkpoint under \"checkpoints\\1720260412480.ta.chkpt\" at 2024-07-06 18:06:52 after 290 attacks.\n"
     ]
    },
    {
     "name": "stdout",
     "output_type": "stream",
     "text": [
      "\n",
      "\n",
      "=============================================================================================================================\n",
      "=============================================================================================================================\n",
      "\n"
     ]
    },
    {
     "name": "stderr",
     "output_type": "stream",
     "text": [
      "[Succeeded / Failed / Skipped / Total] 78 / 149 / 68 / 295:  59%|███████████▊        | 295/500 [03:25<02:22,  1.44it/s]textattack: Saving checkpoint under \"checkpoints\\1720260416230.ta.chkpt\" at 2024-07-06 18:06:56 after 295 attacks.\n"
     ]
    },
    {
     "name": "stdout",
     "output_type": "stream",
     "text": [
      "\n",
      "\n",
      "=============================================================================================================================\n",
      "=============================================================================================================================\n",
      "\n"
     ]
    },
    {
     "name": "stderr",
     "output_type": "stream",
     "text": [
      "[Succeeded / Failed / Skipped / Total] 80 / 152 / 68 / 300:  60%|████████████        | 300/500 [03:28<02:19,  1.44it/s]textattack: Saving checkpoint under \"checkpoints\\1720260419481.ta.chkpt\" at 2024-07-06 18:06:59 after 300 attacks.\n"
     ]
    },
    {
     "name": "stdout",
     "output_type": "stream",
     "text": [
      "\n",
      "\n",
      "=============================================================================================================================\n",
      "=============================================================================================================================\n",
      "\n"
     ]
    },
    {
     "name": "stderr",
     "output_type": "stream",
     "text": [
      "[Succeeded / Failed / Skipped / Total] 83 / 154 / 68 / 305:  61%|████████████▏       | 305/500 [03:31<02:15,  1.44it/s]textattack: Saving checkpoint under \"checkpoints\\1720260422559.ta.chkpt\" at 2024-07-06 18:07:02 after 305 attacks.\n"
     ]
    },
    {
     "name": "stdout",
     "output_type": "stream",
     "text": [
      "\n",
      "\n",
      "=============================================================================================================================\n",
      "=============================================================================================================================\n",
      "\n"
     ]
    },
    {
     "name": "stderr",
     "output_type": "stream",
     "text": [
      "[Succeeded / Failed / Skipped / Total] 83 / 158 / 69 / 310:  62%|████████████▍       | 310/500 [03:33<02:10,  1.45it/s]textattack: Saving checkpoint under \"checkpoints\\1720260424512.ta.chkpt\" at 2024-07-06 18:07:04 after 310 attacks.\n"
     ]
    },
    {
     "name": "stdout",
     "output_type": "stream",
     "text": [
      "\n",
      "\n",
      "=============================================================================================================================\n",
      "=============================================================================================================================\n",
      "\n"
     ]
    },
    {
     "name": "stderr",
     "output_type": "stream",
     "text": [
      "[Succeeded / Failed / Skipped / Total] 84 / 160 / 71 / 315:  63%|████████████▌       | 315/500 [03:35<02:06,  1.46it/s]textattack: Saving checkpoint under \"checkpoints\\1720260426559.ta.chkpt\" at 2024-07-06 18:07:06 after 315 attacks.\n"
     ]
    },
    {
     "name": "stdout",
     "output_type": "stream",
     "text": [
      "\n",
      "\n",
      "=============================================================================================================================\n",
      "=============================================================================================================================\n",
      "\n"
     ]
    },
    {
     "name": "stderr",
     "output_type": "stream",
     "text": [
      "[Succeeded / Failed / Skipped / Total] 86 / 161 / 73 / 320:  64%|████████████▊       | 320/500 [03:39<02:03,  1.46it/s]textattack: Saving checkpoint under \"checkpoints\\1720260430700.ta.chkpt\" at 2024-07-06 18:07:10 after 320 attacks.\n"
     ]
    },
    {
     "name": "stdout",
     "output_type": "stream",
     "text": [
      "\n",
      "\n",
      "=============================================================================================================================\n",
      "=============================================================================================================================\n",
      "\n"
     ]
    },
    {
     "name": "stderr",
     "output_type": "stream",
     "text": [
      "[Succeeded / Failed / Skipped / Total] 89 / 163 / 73 / 325:  65%|█████████████       | 325/500 [03:45<02:01,  1.44it/s]textattack: Saving checkpoint under \"checkpoints\\1720260436450.ta.chkpt\" at 2024-07-06 18:07:16 after 325 attacks.\n"
     ]
    },
    {
     "name": "stdout",
     "output_type": "stream",
     "text": [
      "\n",
      "\n",
      "=============================================================================================================================\n",
      "=============================================================================================================================\n",
      "\n"
     ]
    },
    {
     "name": "stderr",
     "output_type": "stream",
     "text": [
      "[Succeeded / Failed / Skipped / Total] 91 / 166 / 73 / 330:  66%|█████████████▏      | 330/500 [03:48<01:57,  1.44it/s]textattack: Saving checkpoint under \"checkpoints\\1720260439216.ta.chkpt\" at 2024-07-06 18:07:19 after 330 attacks.\n"
     ]
    },
    {
     "name": "stdout",
     "output_type": "stream",
     "text": [
      "\n",
      "\n",
      "=============================================================================================================================\n",
      "=============================================================================================================================\n",
      "\n"
     ]
    },
    {
     "name": "stderr",
     "output_type": "stream",
     "text": [
      "[Succeeded / Failed / Skipped / Total] 91 / 170 / 74 / 335:  67%|█████████████▍      | 335/500 [03:55<01:55,  1.42it/s]textattack: Saving checkpoint under \"checkpoints\\1720260446154.ta.chkpt\" at 2024-07-06 18:07:26 after 335 attacks.\n",
      "[Succeeded / Failed / Skipped / Total] 91 / 170 / 75 / 336:  67%|█████████████▍      | 336/500 [03:55<01:54,  1.43it/s]"
     ]
    },
    {
     "name": "stdout",
     "output_type": "stream",
     "text": [
      "\n",
      "\n",
      "=============================================================================================================================\n",
      "=============================================================================================================================\n",
      "\n"
     ]
    },
    {
     "name": "stderr",
     "output_type": "stream",
     "text": [
      "[Succeeded / Failed / Skipped / Total] 92 / 172 / 76 / 340:  68%|█████████████▌      | 340/500 [03:57<01:51,  1.43it/s]textattack: Saving checkpoint under \"checkpoints\\1720260448358.ta.chkpt\" at 2024-07-06 18:07:28 after 340 attacks.\n"
     ]
    },
    {
     "name": "stdout",
     "output_type": "stream",
     "text": [
      "\n",
      "\n",
      "=============================================================================================================================\n",
      "=============================================================================================================================\n",
      "\n"
     ]
    },
    {
     "name": "stderr",
     "output_type": "stream",
     "text": [
      "[Succeeded / Failed / Skipped / Total] 93 / 174 / 78 / 345:  69%|█████████████▊      | 345/500 [04:00<01:47,  1.44it/s]textattack: Saving checkpoint under \"checkpoints\\1720260450827.ta.chkpt\" at 2024-07-06 18:07:30 after 345 attacks.\n"
     ]
    },
    {
     "name": "stdout",
     "output_type": "stream",
     "text": [
      "\n",
      "\n",
      "=============================================================================================================================\n",
      "=============================================================================================================================\n",
      "\n"
     ]
    },
    {
     "name": "stderr",
     "output_type": "stream",
     "text": [
      "[Succeeded / Failed / Skipped / Total] 97 / 175 / 78 / 350:  70%|██████████████      | 350/500 [04:04<01:44,  1.43it/s]textattack: Saving checkpoint under \"checkpoints\\1720260455311.ta.chkpt\" at 2024-07-06 18:07:35 after 350 attacks.\n"
     ]
    },
    {
     "name": "stdout",
     "output_type": "stream",
     "text": [
      "\n",
      "\n",
      "=============================================================================================================================\n",
      "=============================================================================================================================\n",
      "\n"
     ]
    },
    {
     "name": "stderr",
     "output_type": "stream",
     "text": [
      "[Succeeded / Failed / Skipped / Total] 98 / 179 / 78 / 355:  71%|██████████████▏     | 355/500 [04:09<01:42,  1.42it/s]textattack: Saving checkpoint under \"checkpoints\\1720260460687.ta.chkpt\" at 2024-07-06 18:07:40 after 355 attacks.\n",
      "[Succeeded / Failed / Skipped / Total] 98 / 179 / 78 / 355:  71%|██████████████▏     | 356/500 [04:10<01:41,  1.42it/s]"
     ]
    },
    {
     "name": "stdout",
     "output_type": "stream",
     "text": [
      "\n",
      "\n",
      "=============================================================================================================================\n",
      "=============================================================================================================================\n",
      "\n"
     ]
    },
    {
     "name": "stderr",
     "output_type": "stream",
     "text": [
      "[Succeeded / Failed / Skipped / Total] 99 / 182 / 79 / 360:  72%|██████████████▍     | 360/500 [04:13<01:38,  1.42it/s]textattack: Saving checkpoint under \"checkpoints\\1720260463937.ta.chkpt\" at 2024-07-06 18:07:43 after 360 attacks.\n"
     ]
    },
    {
     "name": "stdout",
     "output_type": "stream",
     "text": [
      "\n",
      "\n",
      "=============================================================================================================================\n",
      "=============================================================================================================================\n",
      "\n"
     ]
    },
    {
     "name": "stderr",
     "output_type": "stream",
     "text": [
      "[Succeeded / Failed / Skipped / Total] 100 / 186 / 79 / 365:  73%|█████████████▊     | 365/500 [04:16<01:34,  1.42it/s]textattack: Saving checkpoint under \"checkpoints\\1720260467468.ta.chkpt\" at 2024-07-06 18:07:47 after 365 attacks.\n",
      "[Succeeded / Failed / Skipped / Total] 100 / 186 / 80 / 366:  73%|█████████████▉     | 366/500 [04:16<01:34,  1.43it/s]"
     ]
    },
    {
     "name": "stdout",
     "output_type": "stream",
     "text": [
      "\n",
      "\n",
      "=============================================================================================================================\n",
      "=============================================================================================================================\n",
      "\n"
     ]
    },
    {
     "name": "stderr",
     "output_type": "stream",
     "text": [
      "[Succeeded / Failed / Skipped / Total] 101 / 189 / 80 / 370:  74%|██████████████     | 370/500 [04:20<01:31,  1.42it/s]textattack: Saving checkpoint under \"checkpoints\\1720260471500.ta.chkpt\" at 2024-07-06 18:07:51 after 370 attacks.\n",
      "[Succeeded / Failed / Skipped / Total] 101 / 189 / 81 / 371:  74%|██████████████     | 371/500 [04:20<01:30,  1.42it/s]"
     ]
    },
    {
     "name": "stdout",
     "output_type": "stream",
     "text": [
      "\n",
      "\n",
      "=============================================================================================================================\n",
      "=============================================================================================================================\n",
      "\n"
     ]
    },
    {
     "name": "stderr",
     "output_type": "stream",
     "text": [
      "[Succeeded / Failed / Skipped / Total] 103 / 191 / 81 / 375:  75%|██████████████▎    | 375/500 [04:24<01:28,  1.42it/s]textattack: Saving checkpoint under \"checkpoints\\1720260475469.ta.chkpt\" at 2024-07-06 18:07:55 after 375 attacks.\n"
     ]
    },
    {
     "name": "stdout",
     "output_type": "stream",
     "text": [
      "\n",
      "\n",
      "=============================================================================================================================\n",
      "=============================================================================================================================\n",
      "\n"
     ]
    },
    {
     "name": "stderr",
     "output_type": "stream",
     "text": [
      "[Succeeded / Failed / Skipped / Total] 105 / 193 / 82 / 380:  76%|██████████████▍    | 380/500 [04:26<01:24,  1.43it/s]textattack: Saving checkpoint under \"checkpoints\\1720260476953.ta.chkpt\" at 2024-07-06 18:07:56 after 380 attacks.\n"
     ]
    },
    {
     "name": "stdout",
     "output_type": "stream",
     "text": [
      "\n",
      "\n",
      "=============================================================================================================================\n",
      "=============================================================================================================================\n",
      "\n"
     ]
    },
    {
     "name": "stderr",
     "output_type": "stream",
     "text": [
      "[Succeeded / Failed / Skipped / Total] 106 / 197 / 82 / 385:  77%|██████████████▋    | 385/500 [04:30<01:20,  1.42it/s]textattack: Saving checkpoint under \"checkpoints\\1720260481563.ta.chkpt\" at 2024-07-06 18:08:01 after 385 attacks.\n"
     ]
    },
    {
     "name": "stdout",
     "output_type": "stream",
     "text": [
      "\n",
      "\n",
      "=============================================================================================================================\n",
      "=============================================================================================================================\n",
      "\n"
     ]
    },
    {
     "name": "stderr",
     "output_type": "stream",
     "text": [
      "[Succeeded / Failed / Skipped / Total] 108 / 199 / 83 / 390:  78%|██████████████▊    | 390/500 [04:32<01:16,  1.43it/s]textattack: Saving checkpoint under \"checkpoints\\1720260483469.ta.chkpt\" at 2024-07-06 18:08:03 after 390 attacks.\n"
     ]
    },
    {
     "name": "stdout",
     "output_type": "stream",
     "text": [
      "\n",
      "\n",
      "=============================================================================================================================\n",
      "=============================================================================================================================\n",
      "\n"
     ]
    },
    {
     "name": "stderr",
     "output_type": "stream",
     "text": [
      "[Succeeded / Failed / Skipped / Total] 108 / 203 / 84 / 395:  79%|███████████████    | 395/500 [04:37<01:13,  1.42it/s]textattack: Saving checkpoint under \"checkpoints\\1720260488704.ta.chkpt\" at 2024-07-06 18:08:08 after 395 attacks.\n"
     ]
    },
    {
     "name": "stdout",
     "output_type": "stream",
     "text": [
      "\n",
      "\n",
      "=============================================================================================================================\n",
      "=============================================================================================================================\n",
      "\n"
     ]
    },
    {
     "name": "stderr",
     "output_type": "stream",
     "text": [
      "[Succeeded / Failed / Skipped / Total] 109 / 207 / 84 / 400:  80%|███████████████▏   | 400/500 [04:43<01:10,  1.41it/s]textattack: Saving checkpoint under \"checkpoints\\1720260494283.ta.chkpt\" at 2024-07-06 18:08:14 after 400 attacks.\n"
     ]
    },
    {
     "name": "stdout",
     "output_type": "stream",
     "text": [
      "\n",
      "\n",
      "=============================================================================================================================\n",
      "=============================================================================================================================\n",
      "\n"
     ]
    },
    {
     "name": "stderr",
     "output_type": "stream",
     "text": [
      "[Succeeded / Failed / Skipped / Total] 111 / 209 / 85 / 405:  81%|███████████████▍   | 405/500 [04:47<01:07,  1.41it/s]textattack: Saving checkpoint under \"checkpoints\\1720260498283.ta.chkpt\" at 2024-07-06 18:08:18 after 405 attacks.\n"
     ]
    },
    {
     "name": "stdout",
     "output_type": "stream",
     "text": [
      "\n",
      "\n",
      "=============================================================================================================================\n",
      "=============================================================================================================================\n",
      "\n"
     ]
    },
    {
     "name": "stderr",
     "output_type": "stream",
     "text": [
      "[Succeeded / Failed / Skipped / Total] 113 / 212 / 85 / 410:  82%|███████████████▌   | 410/500 [04:50<01:03,  1.41it/s]textattack: Saving checkpoint under \"checkpoints\\1720260501486.ta.chkpt\" at 2024-07-06 18:08:21 after 410 attacks.\n"
     ]
    },
    {
     "name": "stdout",
     "output_type": "stream",
     "text": [
      "\n",
      "\n",
      "=============================================================================================================================\n",
      "=============================================================================================================================\n",
      "\n"
     ]
    },
    {
     "name": "stderr",
     "output_type": "stream",
     "text": [
      "[Succeeded / Failed / Skipped / Total] 113 / 213 / 89 / 415:  83%|███████████████▊   | 415/500 [04:51<00:59,  1.42it/s]textattack: Saving checkpoint under \"checkpoints\\1720260502455.ta.chkpt\" at 2024-07-06 18:08:22 after 415 attacks.\n"
     ]
    },
    {
     "name": "stdout",
     "output_type": "stream",
     "text": [
      "\n",
      "\n",
      "=============================================================================================================================\n",
      "=============================================================================================================================\n",
      "\n"
     ]
    },
    {
     "name": "stderr",
     "output_type": "stream",
     "text": [
      "[Succeeded / Failed / Skipped / Total] 114 / 216 / 90 / 420:  84%|███████████████▉   | 420/500 [04:55<00:56,  1.42it/s]textattack: Saving checkpoint under \"checkpoints\\1720260506768.ta.chkpt\" at 2024-07-06 18:08:26 after 420 attacks.\n"
     ]
    },
    {
     "name": "stdout",
     "output_type": "stream",
     "text": [
      "\n",
      "\n",
      "=============================================================================================================================\n",
      "=============================================================================================================================\n",
      "\n"
     ]
    },
    {
     "name": "stderr",
     "output_type": "stream",
     "text": [
      "[Succeeded / Failed / Skipped / Total] 116 / 219 / 90 / 425:  85%|████████████████▏  | 425/500 [05:00<00:53,  1.41it/s]textattack: Saving checkpoint under \"checkpoints\\1720260511394.ta.chkpt\" at 2024-07-06 18:08:31 after 425 attacks.\n"
     ]
    },
    {
     "name": "stdout",
     "output_type": "stream",
     "text": [
      "\n",
      "\n",
      "=============================================================================================================================\n",
      "=============================================================================================================================\n",
      "\n"
     ]
    },
    {
     "name": "stderr",
     "output_type": "stream",
     "text": [
      "[Succeeded / Failed / Skipped / Total] 119 / 221 / 90 / 430:  86%|████████████████▎  | 430/500 [05:05<00:49,  1.41it/s]textattack: Saving checkpoint under \"checkpoints\\1720260515832.ta.chkpt\" at 2024-07-06 18:08:35 after 430 attacks.\n",
      "[Succeeded / Failed / Skipped / Total] 119 / 221 / 91 / 431:  86%|████████████████▍  | 431/500 [05:05<00:48,  1.41it/s]"
     ]
    },
    {
     "name": "stdout",
     "output_type": "stream",
     "text": [
      "\n",
      "\n",
      "=============================================================================================================================\n",
      "=============================================================================================================================\n",
      "\n"
     ]
    },
    {
     "name": "stderr",
     "output_type": "stream",
     "text": [
      "[Succeeded / Failed / Skipped / Total] 122 / 222 / 91 / 435:  87%|████████████████▌  | 435/500 [05:07<00:45,  1.41it/s]textattack: Saving checkpoint under \"checkpoints\\1720260518332.ta.chkpt\" at 2024-07-06 18:08:38 after 435 attacks.\n",
      "[Succeeded / Failed / Skipped / Total] 122 / 222 / 92 / 436:  87%|████████████████▌  | 436/500 [05:07<00:45,  1.42it/s]"
     ]
    },
    {
     "name": "stdout",
     "output_type": "stream",
     "text": [
      "\n",
      "\n",
      "=============================================================================================================================\n",
      "=============================================================================================================================\n",
      "\n"
     ]
    },
    {
     "name": "stderr",
     "output_type": "stream",
     "text": [
      "[Succeeded / Failed / Skipped / Total] 122 / 226 / 92 / 440:  88%|████████████████▋  | 440/500 [05:13<00:42,  1.40it/s]textattack: Saving checkpoint under \"checkpoints\\1720260524067.ta.chkpt\" at 2024-07-06 18:08:44 after 440 attacks.\n"
     ]
    },
    {
     "name": "stdout",
     "output_type": "stream",
     "text": [
      "\n",
      "\n",
      "=============================================================================================================================\n",
      "=============================================================================================================================\n",
      "\n"
     ]
    },
    {
     "name": "stderr",
     "output_type": "stream",
     "text": [
      "[Succeeded / Failed / Skipped / Total] 124 / 228 / 93 / 445:  89%|████████████████▉  | 445/500 [05:15<00:39,  1.41it/s]textattack: Saving checkpoint under \"checkpoints\\1720260526676.ta.chkpt\" at 2024-07-06 18:08:46 after 445 attacks.\n"
     ]
    },
    {
     "name": "stdout",
     "output_type": "stream",
     "text": [
      "\n",
      "\n",
      "=============================================================================================================================\n",
      "=============================================================================================================================\n",
      "\n"
     ]
    },
    {
     "name": "stderr",
     "output_type": "stream",
     "text": [
      "[Succeeded / Failed / Skipped / Total] 125 / 230 / 95 / 450:  90%|█████████████████  | 450/500 [05:17<00:35,  1.42it/s]textattack: Saving checkpoint under \"checkpoints\\1720260528708.ta.chkpt\" at 2024-07-06 18:08:48 after 450 attacks.\n"
     ]
    },
    {
     "name": "stdout",
     "output_type": "stream",
     "text": [
      "\n",
      "\n",
      "=============================================================================================================================\n",
      "=============================================================================================================================\n",
      "\n"
     ]
    },
    {
     "name": "stderr",
     "output_type": "stream",
     "text": [
      "[Succeeded / Failed / Skipped / Total] 126 / 232 / 97 / 455:  91%|█████████████████▎ | 455/500 [05:20<00:31,  1.42it/s]textattack: Saving checkpoint under \"checkpoints\\1720260531630.ta.chkpt\" at 2024-07-06 18:08:51 after 455 attacks.\n"
     ]
    },
    {
     "name": "stdout",
     "output_type": "stream",
     "text": [
      "\n",
      "\n",
      "=============================================================================================================================\n",
      "=============================================================================================================================\n",
      "\n"
     ]
    },
    {
     "name": "stderr",
     "output_type": "stream",
     "text": [
      "[Succeeded / Failed / Skipped / Total] 128 / 235 / 97 / 460:  92%|█████████████████▍ | 460/500 [05:25<00:28,  1.41it/s]textattack: Saving checkpoint under \"checkpoints\\1720260536584.ta.chkpt\" at 2024-07-06 18:08:56 after 460 attacks.\n"
     ]
    },
    {
     "name": "stdout",
     "output_type": "stream",
     "text": [
      "\n",
      "\n",
      "=============================================================================================================================\n",
      "=============================================================================================================================\n",
      "\n"
     ]
    },
    {
     "name": "stderr",
     "output_type": "stream",
     "text": [
      "[Succeeded / Failed / Skipped / Total] 129 / 237 / 99 / 465:  93%|█████████████████▋ | 465/500 [05:30<00:24,  1.41it/s]textattack: Saving checkpoint under \"checkpoints\\1720260541522.ta.chkpt\" at 2024-07-06 18:09:01 after 465 attacks.\n",
      "[Succeeded / Failed / Skipped / Total] 129 / 237 / 100 / 466:  93%|████████████████▊ | 466/500 [05:30<00:24,  1.41it/s]"
     ]
    },
    {
     "name": "stdout",
     "output_type": "stream",
     "text": [
      "\n",
      "\n",
      "=============================================================================================================================\n",
      "=============================================================================================================================\n",
      "\n"
     ]
    },
    {
     "name": "stderr",
     "output_type": "stream",
     "text": [
      "[Succeeded / Failed / Skipped / Total] 130 / 239 / 101 / 470:  94%|████████████████▉ | 470/500 [05:32<00:21,  1.41it/s]textattack: Saving checkpoint under \"checkpoints\\1720260543194.ta.chkpt\" at 2024-07-06 18:09:03 after 470 attacks.\n"
     ]
    },
    {
     "name": "stdout",
     "output_type": "stream",
     "text": [
      "\n",
      "\n",
      "=============================================================================================================================\n",
      "=============================================================================================================================\n",
      "\n"
     ]
    },
    {
     "name": "stderr",
     "output_type": "stream",
     "text": [
      "[Succeeded / Failed / Skipped / Total] 130 / 244 / 101 / 475:  95%|█████████████████ | 475/500 [05:38<00:17,  1.40it/s]textattack: Saving checkpoint under \"checkpoints\\1720260549288.ta.chkpt\" at 2024-07-06 18:09:09 after 475 attacks.\n"
     ]
    },
    {
     "name": "stdout",
     "output_type": "stream",
     "text": [
      "\n",
      "\n",
      "=============================================================================================================================\n",
      "=============================================================================================================================\n",
      "\n"
     ]
    },
    {
     "name": "stderr",
     "output_type": "stream",
     "text": [
      "[Succeeded / Failed / Skipped / Total] 133 / 246 / 101 / 480:  96%|█████████████████▎| 480/500 [05:41<00:14,  1.41it/s]textattack: Saving checkpoint under \"checkpoints\\1720260551913.ta.chkpt\" at 2024-07-06 18:09:11 after 480 attacks.\n",
      "[Succeeded / Failed / Skipped / Total] 133 / 246 / 101 / 480:  96%|█████████████████▎| 481/500 [05:41<00:13,  1.41it/s]"
     ]
    },
    {
     "name": "stdout",
     "output_type": "stream",
     "text": [
      "\n",
      "\n",
      "=============================================================================================================================\n",
      "=============================================================================================================================\n",
      "\n"
     ]
    },
    {
     "name": "stderr",
     "output_type": "stream",
     "text": [
      "[Succeeded / Failed / Skipped / Total] 133 / 250 / 102 / 485:  97%|█████████████████▍| 485/500 [05:45<00:10,  1.41it/s]textattack: Saving checkpoint under \"checkpoints\\1720260555882.ta.chkpt\" at 2024-07-06 18:09:15 after 485 attacks.\n"
     ]
    },
    {
     "name": "stdout",
     "output_type": "stream",
     "text": [
      "\n",
      "\n",
      "=============================================================================================================================\n",
      "=============================================================================================================================\n",
      "\n"
     ]
    },
    {
     "name": "stderr",
     "output_type": "stream",
     "text": [
      "[Succeeded / Failed / Skipped / Total] 136 / 251 / 103 / 490:  98%|█████████████████▋| 490/500 [05:47<00:07,  1.41it/s]textattack: Saving checkpoint under \"checkpoints\\1720260558320.ta.chkpt\" at 2024-07-06 18:09:18 after 490 attacks.\n",
      "[Succeeded / Failed / Skipped / Total] 136 / 251 / 104 / 491:  98%|█████████████████▋| 491/500 [05:47<00:06,  1.41it/s]"
     ]
    },
    {
     "name": "stdout",
     "output_type": "stream",
     "text": [
      "\n",
      "\n",
      "=============================================================================================================================\n",
      "=============================================================================================================================\n",
      "\n"
     ]
    },
    {
     "name": "stderr",
     "output_type": "stream",
     "text": [
      "[Succeeded / Failed / Skipped / Total] 137 / 254 / 104 / 495:  99%|█████████████████▊| 495/500 [05:52<00:03,  1.40it/s]textattack: Saving checkpoint under \"checkpoints\\1720260563773.ta.chkpt\" at 2024-07-06 18:09:23 after 495 attacks.\n"
     ]
    },
    {
     "name": "stdout",
     "output_type": "stream",
     "text": [
      "\n",
      "\n",
      "=============================================================================================================================\n",
      "=============================================================================================================================\n",
      "\n"
     ]
    },
    {
     "name": "stderr",
     "output_type": "stream",
     "text": [
      "[Succeeded / Failed / Skipped / Total] 138 / 258 / 104 / 500: 100%|██████████████████| 500/500 [05:57<00:00,  1.40it/s]textattack: Saving checkpoint under \"checkpoints\\1720260568727.ta.chkpt\" at 2024-07-06 18:09:28 after 500 attacks.\n",
      "[Succeeded / Failed / Skipped / Total] 138 / 258 / 104 / 500: 100%|██████████████████| 500/500 [05:57<00:00,  1.40it/s]"
     ]
    },
    {
     "name": "stdout",
     "output_type": "stream",
     "text": [
      "\n",
      "\n",
      "=============================================================================================================================\n",
      "=============================================================================================================================\n",
      "\n",
      "\n",
      "+-------------------------------+--------+\n",
      "| Attack Results                |        |\n",
      "+-------------------------------+--------+\n",
      "| Number of successful attacks: | 138    |\n",
      "| Number of failed attacks:     | 258    |\n",
      "| Number of skipped attacks:    | 104    |\n",
      "| Original accuracy:            | 79.2%  |\n",
      "| Accuracy under attack:        | 51.6%  |\n",
      "| Attack success rate:          | 34.85% |\n",
      "| Average perturbed word %:     | 13.81% |\n",
      "| Average num. words per input: | 18.4   |\n",
      "| Avg num queries:              | 22.21  |\n",
      "+-------------------------------+--------+\n"
     ]
    },
    {
     "name": "stderr",
     "output_type": "stream",
     "text": [
      "\n"
     ]
    }
   ],
   "source": [
    "runAttack(disbert_model_wrapper_lr_mr, n_samples, 'attack_results_new/disbertmrattacklr'+suffix, target_ds_mr)"
   ]
  },
  {
   "cell_type": "code",
   "execution_count": 21,
   "id": "f264d4df-6423-44ba-b31f-11532355cb5e",
   "metadata": {},
   "outputs": [
    {
     "name": "stderr",
     "output_type": "stream",
     "text": [
      "textattack: Unknown if model of class <class 'transformers.models.distilbert.modeling_distilbert.DistilBertModel'> compatible with goal function <class 'textattack.goal_functions.classification.untargeted_classification.UntargetedClassification'>.\n",
      "textattack: Logging to CSV at path attack_results_new/disbertmrattackrfsim09.csv\n"
     ]
    },
    {
     "name": "stdout",
     "output_type": "stream",
     "text": [
      "Attack(\n",
      "  (search_method): GreedyWordSwapWIR(\n",
      "    (wir_method):  delete\n",
      "  )\n",
      "  (goal_function):  UntargetedClassification\n",
      "  (transformation):  WordSwapEmbedding(\n",
      "    (max_candidates):  50\n",
      "    (embedding):  WordEmbedding\n",
      "  )\n",
      "  (constraints): \n",
      "    (0): WordEmbeddingDistance(\n",
      "        (embedding):  WordEmbedding\n",
      "        (min_cos_sim):  0.9\n",
      "        (cased):  False\n",
      "        (include_unknown_words):  True\n",
      "        (compare_against_original):  True\n",
      "      )\n",
      "    (1): PartOfSpeech(\n",
      "        (tagger_type):  nltk\n",
      "        (tagset):  universal\n",
      "        (allow_verb_noun_swap):  True\n",
      "        (compare_against_original):  True\n",
      "      )\n",
      "    (2): UniversalSentenceEncoder(\n",
      "        (metric):  angular\n",
      "        (threshold):  0.840845057\n",
      "        (window_size):  15\n",
      "        (skip_text_shorter_than_window):  True\n",
      "        (compare_against_original):  False\n",
      "      )\n",
      "    (3): RepeatModification\n",
      "    (4): StopwordModification\n",
      "    (5): InputColumnModification(\n",
      "        (matching_column_labels):  ['premise', 'hypothesis']\n",
      "        (columns_to_ignore):  {'premise'}\n",
      "      )\n",
      "  (is_black_box):  True\n",
      ") \n",
      "\n"
     ]
    },
    {
     "name": "stderr",
     "output_type": "stream",
     "text": [
      "[Succeeded / Failed / Skipped / Total] 0 / 4 / 1 / 5:   1%|▎                           | 5/500 [00:09<15:36,  1.89s/it]textattack: Saving checkpoint under \"checkpoints\\1720260578281.ta.chkpt\" at 2024-07-06 18:09:38 after 5 attacks.\n",
      "[Succeeded / Failed / Skipped / Total] 0 / 4 / 2 / 6:   1%|▎                           | 6/500 [00:09<13:04,  1.59s/it]"
     ]
    },
    {
     "name": "stdout",
     "output_type": "stream",
     "text": [
      "\n",
      "\n",
      "=============================================================================================================================\n",
      "=============================================================================================================================\n",
      "\n"
     ]
    },
    {
     "name": "stderr",
     "output_type": "stream",
     "text": [
      "[Succeeded / Failed / Skipped / Total] 1 / 7 / 2 / 10:   2%|▌                         | 10/500 [00:14<11:29,  1.41s/it]textattack: Saving checkpoint under \"checkpoints\\1720260582891.ta.chkpt\" at 2024-07-06 18:09:42 after 10 attacks.\n"
     ]
    },
    {
     "name": "stdout",
     "output_type": "stream",
     "text": [
      "\n",
      "\n",
      "=============================================================================================================================\n",
      "=============================================================================================================================\n",
      "\n"
     ]
    },
    {
     "name": "stderr",
     "output_type": "stream",
     "text": [
      "[Succeeded / Failed / Skipped / Total] 2 / 10 / 3 / 15:   3%|▊                        | 15/500 [00:18<09:56,  1.23s/it]textattack: Saving checkpoint under \"checkpoints\\1720260587266.ta.chkpt\" at 2024-07-06 18:09:47 after 15 attacks.\n"
     ]
    },
    {
     "name": "stdout",
     "output_type": "stream",
     "text": [
      "\n",
      "\n",
      "=============================================================================================================================\n",
      "=============================================================================================================================\n",
      "\n"
     ]
    },
    {
     "name": "stderr",
     "output_type": "stream",
     "text": [
      "[Succeeded / Failed / Skipped / Total] 3 / 13 / 4 / 20:   4%|█                        | 20/500 [00:20<08:20,  1.04s/it]textattack: Saving checkpoint under \"checkpoints\\1720260589673.ta.chkpt\" at 2024-07-06 18:09:49 after 20 attacks.\n"
     ]
    },
    {
     "name": "stdout",
     "output_type": "stream",
     "text": [
      "\n",
      "\n",
      "=============================================================================================================================\n",
      "=============================================================================================================================\n",
      "\n"
     ]
    },
    {
     "name": "stderr",
     "output_type": "stream",
     "text": [
      "[Succeeded / Failed / Skipped / Total] 5 / 15 / 5 / 25:   5%|█▎                       | 25/500 [00:23<07:33,  1.05it/s]textattack: Saving checkpoint under \"checkpoints\\1720260592688.ta.chkpt\" at 2024-07-06 18:09:52 after 25 attacks.\n"
     ]
    },
    {
     "name": "stdout",
     "output_type": "stream",
     "text": [
      "\n",
      "\n",
      "=============================================================================================================================\n",
      "=============================================================================================================================\n",
      "\n"
     ]
    },
    {
     "name": "stderr",
     "output_type": "stream",
     "text": [
      "[Succeeded / Failed / Skipped / Total] 5 / 18 / 7 / 30:   6%|█▌                       | 30/500 [00:26<06:57,  1.13it/s]textattack: Saving checkpoint under \"checkpoints\\1720260595485.ta.chkpt\" at 2024-07-06 18:09:55 after 30 attacks.\n"
     ]
    },
    {
     "name": "stdout",
     "output_type": "stream",
     "text": [
      "\n",
      "\n",
      "=============================================================================================================================\n",
      "=============================================================================================================================\n",
      "\n"
     ]
    },
    {
     "name": "stderr",
     "output_type": "stream",
     "text": [
      "[Succeeded / Failed / Skipped / Total] 6 / 20 / 9 / 35:   7%|█▊                       | 35/500 [00:28<06:19,  1.23it/s]textattack: Saving checkpoint under \"checkpoints\\1720260597392.ta.chkpt\" at 2024-07-06 18:09:57 after 35 attacks.\n"
     ]
    },
    {
     "name": "stdout",
     "output_type": "stream",
     "text": [
      "\n",
      "\n",
      "=============================================================================================================================\n",
      "=============================================================================================================================\n",
      "\n"
     ]
    },
    {
     "name": "stderr",
     "output_type": "stream",
     "text": [
      "[Succeeded / Failed / Skipped / Total] 8 / 22 / 10 / 40:   8%|█▉                      | 40/500 [00:32<06:09,  1.25it/s]textattack: Saving checkpoint under \"checkpoints\\1720260600909.ta.chkpt\" at 2024-07-06 18:10:00 after 40 attacks.\n"
     ]
    },
    {
     "name": "stdout",
     "output_type": "stream",
     "text": [
      "\n",
      "\n",
      "=============================================================================================================================\n",
      "=============================================================================================================================\n",
      "\n"
     ]
    },
    {
     "name": "stderr",
     "output_type": "stream",
     "text": [
      "[Succeeded / Failed / Skipped / Total] 9 / 25 / 11 / 45:   9%|██▏                     | 45/500 [00:39<06:38,  1.14it/s]textattack: Saving checkpoint under \"checkpoints\\1720260608191.ta.chkpt\" at 2024-07-06 18:10:08 after 45 attacks.\n"
     ]
    },
    {
     "name": "stdout",
     "output_type": "stream",
     "text": [
      "\n",
      "\n",
      "=============================================================================================================================\n",
      "=============================================================================================================================\n",
      "\n"
     ]
    },
    {
     "name": "stderr",
     "output_type": "stream",
     "text": [
      "[Succeeded / Failed / Skipped / Total] 9 / 30 / 11 / 50:  10%|██▍                     | 50/500 [00:44<06:44,  1.11it/s]textattack: Saving checkpoint under \"checkpoints\\1720260613817.ta.chkpt\" at 2024-07-06 18:10:13 after 50 attacks.\n"
     ]
    },
    {
     "name": "stdout",
     "output_type": "stream",
     "text": [
      "\n",
      "\n",
      "=============================================================================================================================\n",
      "=============================================================================================================================\n",
      "\n"
     ]
    },
    {
     "name": "stderr",
     "output_type": "stream",
     "text": [
      "[Succeeded / Failed / Skipped / Total] 10 / 33 / 12 / 55:  11%|██▌                    | 55/500 [00:49<06:42,  1.10it/s]textattack: Saving checkpoint under \"checkpoints\\1720260618598.ta.chkpt\" at 2024-07-06 18:10:18 after 55 attacks.\n"
     ]
    },
    {
     "name": "stdout",
     "output_type": "stream",
     "text": [
      "\n",
      "\n",
      "=============================================================================================================================\n",
      "=============================================================================================================================\n",
      "\n"
     ]
    },
    {
     "name": "stderr",
     "output_type": "stream",
     "text": [
      "[Succeeded / Failed / Skipped / Total] 11 / 36 / 13 / 60:  12%|██▊                    | 60/500 [00:52<06:27,  1.14it/s]textattack: Saving checkpoint under \"checkpoints\\1720260621615.ta.chkpt\" at 2024-07-06 18:10:21 after 60 attacks.\n",
      "[Succeeded / Failed / Skipped / Total] 11 / 36 / 14 / 61:  12%|██▊                    | 61/500 [00:52<06:20,  1.15it/s]"
     ]
    },
    {
     "name": "stdout",
     "output_type": "stream",
     "text": [
      "\n",
      "\n",
      "=============================================================================================================================\n",
      "=============================================================================================================================\n",
      "\n"
     ]
    },
    {
     "name": "stderr",
     "output_type": "stream",
     "text": [
      "[Succeeded / Failed / Skipped / Total] 15 / 36 / 14 / 65:  13%|██▉                    | 65/500 [00:55<06:10,  1.18it/s]textattack: Saving checkpoint under \"checkpoints\\1720260624131.ta.chkpt\" at 2024-07-06 18:10:24 after 65 attacks.\n"
     ]
    },
    {
     "name": "stdout",
     "output_type": "stream",
     "text": [
      "\n",
      "\n",
      "=============================================================================================================================\n",
      "=============================================================================================================================\n",
      "\n"
     ]
    },
    {
     "name": "stderr",
     "output_type": "stream",
     "text": [
      "[Succeeded / Failed / Skipped / Total] 16 / 38 / 16 / 70:  14%|███▏                   | 70/500 [00:57<05:53,  1.22it/s]textattack: Saving checkpoint under \"checkpoints\\1720260626428.ta.chkpt\" at 2024-07-06 18:10:26 after 70 attacks.\n"
     ]
    },
    {
     "name": "stdout",
     "output_type": "stream",
     "text": [
      "\n",
      "\n",
      "=============================================================================================================================\n",
      "=============================================================================================================================\n",
      "\n"
     ]
    },
    {
     "name": "stderr",
     "output_type": "stream",
     "text": [
      "[Succeeded / Failed / Skipped / Total] 17 / 40 / 18 / 75:  15%|███▍                   | 75/500 [00:59<05:36,  1.26it/s]textattack: Saving checkpoint under \"checkpoints\\1720260628193.ta.chkpt\" at 2024-07-06 18:10:28 after 75 attacks.\n",
      "[Succeeded / Failed / Skipped / Total] 17 / 40 / 19 / 76:  15%|███▍                   | 76/500 [00:59<05:31,  1.28it/s]"
     ]
    },
    {
     "name": "stdout",
     "output_type": "stream",
     "text": [
      "\n",
      "\n",
      "=============================================================================================================================\n",
      "=============================================================================================================================\n",
      "\n"
     ]
    },
    {
     "name": "stderr",
     "output_type": "stream",
     "text": [
      "[Succeeded / Failed / Skipped / Total] 18 / 42 / 20 / 80:  16%|███▋                   | 80/500 [01:02<05:27,  1.28it/s]textattack: Saving checkpoint under \"checkpoints\\1720260631115.ta.chkpt\" at 2024-07-06 18:10:31 after 80 attacks.\n"
     ]
    },
    {
     "name": "stdout",
     "output_type": "stream",
     "text": [
      "\n",
      "\n",
      "=============================================================================================================================\n",
      "=============================================================================================================================\n",
      "\n"
     ]
    },
    {
     "name": "stderr",
     "output_type": "stream",
     "text": [
      "[Succeeded / Failed / Skipped / Total] 19 / 43 / 23 / 85:  17%|███▉                   | 85/500 [01:03<05:10,  1.34it/s]textattack: Saving checkpoint under \"checkpoints\\1720260632319.ta.chkpt\" at 2024-07-06 18:10:32 after 85 attacks.\n"
     ]
    },
    {
     "name": "stdout",
     "output_type": "stream",
     "text": [
      "\n",
      "\n",
      "=============================================================================================================================\n",
      "=============================================================================================================================\n",
      "\n"
     ]
    },
    {
     "name": "stderr",
     "output_type": "stream",
     "text": [
      "[Succeeded / Failed / Skipped / Total] 20 / 46 / 24 / 90:  18%|████▏                  | 90/500 [01:08<05:12,  1.31it/s]textattack: Saving checkpoint under \"checkpoints\\1720260637350.ta.chkpt\" at 2024-07-06 18:10:37 after 90 attacks.\n"
     ]
    },
    {
     "name": "stdout",
     "output_type": "stream",
     "text": [
      "\n",
      "\n",
      "=============================================================================================================================\n",
      "=============================================================================================================================\n",
      "\n"
     ]
    },
    {
     "name": "stderr",
     "output_type": "stream",
     "text": [
      "[Succeeded / Failed / Skipped / Total] 23 / 46 / 26 / 95:  19%|████▎                  | 95/500 [01:10<04:58,  1.35it/s]textattack: Saving checkpoint under \"checkpoints\\1720260638944.ta.chkpt\" at 2024-07-06 18:10:38 after 95 attacks.\n"
     ]
    },
    {
     "name": "stdout",
     "output_type": "stream",
     "text": [
      "\n",
      "\n",
      "=============================================================================================================================\n",
      "=============================================================================================================================\n",
      "\n"
     ]
    },
    {
     "name": "stderr",
     "output_type": "stream",
     "text": [
      "[Succeeded / Failed / Skipped / Total] 25 / 49 / 26 / 100:  20%|████▏                | 100/500 [01:13<04:53,  1.36it/s]textattack: Saving checkpoint under \"checkpoints\\1720260642163.ta.chkpt\" at 2024-07-06 18:10:42 after 100 attacks.\n",
      "[Succeeded / Failed / Skipped / Total] 25 / 49 / 28 / 102:  20%|████▎                | 102/500 [01:13<04:46,  1.39it/s]"
     ]
    },
    {
     "name": "stdout",
     "output_type": "stream",
     "text": [
      "\n",
      "\n",
      "=============================================================================================================================\n",
      "=============================================================================================================================\n",
      "\n"
     ]
    },
    {
     "name": "stderr",
     "output_type": "stream",
     "text": [
      "[Succeeded / Failed / Skipped / Total] 25 / 52 / 28 / 105:  21%|████▍                | 105/500 [01:17<04:49,  1.36it/s]textattack: Saving checkpoint under \"checkpoints\\1720260645851.ta.chkpt\" at 2024-07-06 18:10:45 after 105 attacks.\n",
      "[Succeeded / Failed / Skipped / Total] 25 / 52 / 29 / 106:  21%|████▍                | 106/500 [01:17<04:46,  1.37it/s]"
     ]
    },
    {
     "name": "stdout",
     "output_type": "stream",
     "text": [
      "\n",
      "\n",
      "=============================================================================================================================\n",
      "=============================================================================================================================\n",
      "\n"
     ]
    },
    {
     "name": "stderr",
     "output_type": "stream",
     "text": [
      "[Succeeded / Failed / Skipped / Total] 27 / 54 / 29 / 110:  22%|████▌                | 110/500 [01:21<04:47,  1.35it/s]textattack: Saving checkpoint under \"checkpoints\\1720260650023.ta.chkpt\" at 2024-07-06 18:10:50 after 110 attacks.\n",
      "[Succeeded / Failed / Skipped / Total] 27 / 54 / 30 / 111:  22%|████▋                | 111/500 [01:21<04:44,  1.37it/s]"
     ]
    },
    {
     "name": "stdout",
     "output_type": "stream",
     "text": [
      "\n",
      "\n",
      "=============================================================================================================================\n",
      "=============================================================================================================================\n",
      "\n"
     ]
    },
    {
     "name": "stderr",
     "output_type": "stream",
     "text": [
      "[Succeeded / Failed / Skipped / Total] 27 / 57 / 31 / 115:  23%|████▊                | 115/500 [01:25<04:46,  1.34it/s]textattack: Saving checkpoint under \"checkpoints\\1720260654414.ta.chkpt\" at 2024-07-06 18:10:54 after 115 attacks.\n"
     ]
    },
    {
     "name": "stdout",
     "output_type": "stream",
     "text": [
      "\n",
      "\n",
      "=============================================================================================================================\n",
      "=============================================================================================================================\n",
      "\n"
     ]
    },
    {
     "name": "stderr",
     "output_type": "stream",
     "text": [
      "[Succeeded / Failed / Skipped / Total] 28 / 59 / 33 / 120:  24%|█████                | 120/500 [01:27<04:36,  1.38it/s]textattack: Saving checkpoint under \"checkpoints\\1720260656023.ta.chkpt\" at 2024-07-06 18:10:56 after 120 attacks.\n"
     ]
    },
    {
     "name": "stdout",
     "output_type": "stream",
     "text": [
      "\n",
      "\n",
      "=============================================================================================================================\n",
      "=============================================================================================================================\n",
      "\n"
     ]
    },
    {
     "name": "stderr",
     "output_type": "stream",
     "text": [
      "[Succeeded / Failed / Skipped / Total] 30 / 61 / 34 / 125:  25%|█████▎               | 125/500 [01:31<04:34,  1.36it/s]textattack: Saving checkpoint under \"checkpoints\\1720260660455.ta.chkpt\" at 2024-07-06 18:11:00 after 125 attacks.\n",
      "[Succeeded / Failed / Skipped / Total] 30 / 61 / 36 / 127:  25%|█████▎               | 127/500 [01:31<04:29,  1.38it/s]"
     ]
    },
    {
     "name": "stdout",
     "output_type": "stream",
     "text": [
      "\n",
      "\n",
      "=============================================================================================================================\n",
      "=============================================================================================================================\n",
      "\n"
     ]
    },
    {
     "name": "stderr",
     "output_type": "stream",
     "text": [
      "[Succeeded / Failed / Skipped / Total] 30 / 63 / 37 / 130:  26%|█████▍               | 130/500 [01:34<04:27,  1.38it/s]textattack: Saving checkpoint under \"checkpoints\\1720260662877.ta.chkpt\" at 2024-07-06 18:11:02 after 130 attacks.\n",
      "[Succeeded / Failed / Skipped / Total] 30 / 63 / 38 / 131:  26%|█████▌               | 131/500 [01:34<04:25,  1.39it/s]"
     ]
    },
    {
     "name": "stdout",
     "output_type": "stream",
     "text": [
      "\n",
      "\n",
      "=============================================================================================================================\n",
      "=============================================================================================================================\n",
      "\n"
     ]
    },
    {
     "name": "stderr",
     "output_type": "stream",
     "text": [
      "[Succeeded / Failed / Skipped / Total] 31 / 66 / 38 / 135:  27%|█████▋               | 135/500 [01:39<04:30,  1.35it/s]textattack: Saving checkpoint under \"checkpoints\\1720260668783.ta.chkpt\" at 2024-07-06 18:11:08 after 135 attacks.\n",
      "[Succeeded / Failed / Skipped / Total] 31 / 66 / 39 / 136:  27%|█████▋               | 136/500 [01:40<04:27,  1.36it/s]"
     ]
    },
    {
     "name": "stdout",
     "output_type": "stream",
     "text": [
      "\n",
      "\n",
      "=============================================================================================================================\n",
      "=============================================================================================================================\n",
      "\n"
     ]
    },
    {
     "name": "stderr",
     "output_type": "stream",
     "text": [
      "[Succeeded / Failed / Skipped / Total] 35 / 66 / 39 / 140:  28%|█████▉               | 140/500 [01:41<04:21,  1.38it/s]textattack: Saving checkpoint under \"checkpoints\\1720260670627.ta.chkpt\" at 2024-07-06 18:11:10 after 140 attacks.\n"
     ]
    },
    {
     "name": "stdout",
     "output_type": "stream",
     "text": [
      "\n",
      "\n",
      "=============================================================================================================================\n",
      "=============================================================================================================================\n",
      "\n"
     ]
    },
    {
     "name": "stderr",
     "output_type": "stream",
     "text": [
      "[Succeeded / Failed / Skipped / Total] 36 / 69 / 40 / 145:  29%|██████               | 145/500 [01:44<04:16,  1.38it/s]textattack: Saving checkpoint under \"checkpoints\\1720260673768.ta.chkpt\" at 2024-07-06 18:11:13 after 145 attacks.\n",
      "[Succeeded / Failed / Skipped / Total] 36 / 69 / 42 / 147:  29%|██████▏              | 147/500 [01:45<04:12,  1.40it/s]"
     ]
    },
    {
     "name": "stdout",
     "output_type": "stream",
     "text": [
      "\n",
      "\n",
      "=============================================================================================================================\n",
      "=============================================================================================================================\n",
      "\n"
     ]
    },
    {
     "name": "stderr",
     "output_type": "stream",
     "text": [
      "[Succeeded / Failed / Skipped / Total] 36 / 70 / 44 / 150:  30%|██████▎              | 150/500 [01:45<04:06,  1.42it/s]textattack: Saving checkpoint under \"checkpoints\\1720260674596.ta.chkpt\" at 2024-07-06 18:11:14 after 150 attacks.\n"
     ]
    },
    {
     "name": "stdout",
     "output_type": "stream",
     "text": [
      "\n",
      "\n",
      "=============================================================================================================================\n",
      "=============================================================================================================================\n",
      "\n"
     ]
    },
    {
     "name": "stderr",
     "output_type": "stream",
     "text": [
      "[Succeeded / Failed / Skipped / Total] 38 / 72 / 45 / 155:  31%|██████▌              | 155/500 [01:48<04:00,  1.43it/s]textattack: Saving checkpoint under \"checkpoints\\1720260677081.ta.chkpt\" at 2024-07-06 18:11:17 after 155 attacks.\n"
     ]
    },
    {
     "name": "stdout",
     "output_type": "stream",
     "text": [
      "\n",
      "\n",
      "=============================================================================================================================\n",
      "=============================================================================================================================\n",
      "\n"
     ]
    },
    {
     "name": "stderr",
     "output_type": "stream",
     "text": [
      "[Succeeded / Failed / Skipped / Total] 39 / 75 / 46 / 160:  32%|██████▋              | 160/500 [01:52<03:59,  1.42it/s]textattack: Saving checkpoint under \"checkpoints\\1720260681503.ta.chkpt\" at 2024-07-06 18:11:21 after 160 attacks.\n",
      "[Succeeded / Failed / Skipped / Total] 39 / 75 / 47 / 161:  32%|██████▊              | 161/500 [01:52<03:57,  1.43it/s]"
     ]
    },
    {
     "name": "stdout",
     "output_type": "stream",
     "text": [
      "\n",
      "\n",
      "=============================================================================================================================\n",
      "=============================================================================================================================\n",
      "\n"
     ]
    },
    {
     "name": "stderr",
     "output_type": "stream",
     "text": [
      "[Succeeded / Failed / Skipped / Total] 40 / 78 / 47 / 165:  33%|██████▉              | 165/500 [01:56<03:56,  1.42it/s]textattack: Saving checkpoint under \"checkpoints\\1720260685253.ta.chkpt\" at 2024-07-06 18:11:25 after 165 attacks.\n",
      "[Succeeded / Failed / Skipped / Total] 40 / 78 / 48 / 166:  33%|██████▉              | 166/500 [01:56<03:54,  1.42it/s]"
     ]
    },
    {
     "name": "stdout",
     "output_type": "stream",
     "text": [
      "\n",
      "\n",
      "=============================================================================================================================\n",
      "=============================================================================================================================\n",
      "\n"
     ]
    },
    {
     "name": "stderr",
     "output_type": "stream",
     "text": [
      "[Succeeded / Failed / Skipped / Total] 41 / 79 / 50 / 170:  34%|███████▏             | 170/500 [01:58<03:49,  1.44it/s]textattack: Saving checkpoint under \"checkpoints\\1720260687019.ta.chkpt\" at 2024-07-06 18:11:27 after 170 attacks.\n"
     ]
    },
    {
     "name": "stdout",
     "output_type": "stream",
     "text": [
      "\n",
      "\n",
      "=============================================================================================================================\n",
      "=============================================================================================================================\n",
      "\n"
     ]
    },
    {
     "name": "stderr",
     "output_type": "stream",
     "text": [
      "[Succeeded / Failed / Skipped / Total] 41 / 82 / 52 / 175:  35%|███████▎             | 175/500 [02:02<03:47,  1.43it/s]textattack: Saving checkpoint under \"checkpoints\\1720260691097.ta.chkpt\" at 2024-07-06 18:11:31 after 175 attacks.\n"
     ]
    },
    {
     "name": "stdout",
     "output_type": "stream",
     "text": [
      "\n",
      "\n",
      "=============================================================================================================================\n",
      "=============================================================================================================================\n",
      "\n"
     ]
    },
    {
     "name": "stderr",
     "output_type": "stream",
     "text": [
      "[Succeeded / Failed / Skipped / Total] 42 / 85 / 53 / 180:  36%|███████▌             | 180/500 [02:05<03:43,  1.43it/s]textattack: Saving checkpoint under \"checkpoints\\1720260694598.ta.chkpt\" at 2024-07-06 18:11:34 after 180 attacks.\n",
      "[Succeeded / Failed / Skipped / Total] 42 / 85 / 55 / 182:  36%|███████▋             | 182/500 [02:05<03:40,  1.45it/s]"
     ]
    },
    {
     "name": "stdout",
     "output_type": "stream",
     "text": [
      "\n",
      "\n",
      "=============================================================================================================================\n",
      "=============================================================================================================================\n",
      "\n"
     ]
    },
    {
     "name": "stderr",
     "output_type": "stream",
     "text": [
      "[Succeeded / Failed / Skipped / Total] 43 / 86 / 56 / 185:  37%|███████▊             | 185/500 [02:06<03:36,  1.46it/s]textattack: Saving checkpoint under \"checkpoints\\1720260695723.ta.chkpt\" at 2024-07-06 18:11:35 after 185 attacks.\n"
     ]
    },
    {
     "name": "stdout",
     "output_type": "stream",
     "text": [
      "\n",
      "\n",
      "=============================================================================================================================\n",
      "=============================================================================================================================\n",
      "\n"
     ]
    },
    {
     "name": "stderr",
     "output_type": "stream",
     "text": [
      "[Succeeded / Failed / Skipped / Total] 44 / 90 / 56 / 190:  38%|███████▉             | 190/500 [02:12<03:36,  1.43it/s]textattack: Saving checkpoint under \"checkpoints\\1720260701426.ta.chkpt\" at 2024-07-06 18:11:41 after 190 attacks.\n"
     ]
    },
    {
     "name": "stdout",
     "output_type": "stream",
     "text": [
      "\n",
      "\n",
      "=============================================================================================================================\n",
      "=============================================================================================================================\n",
      "\n"
     ]
    },
    {
     "name": "stderr",
     "output_type": "stream",
     "text": [
      "[Succeeded / Failed / Skipped / Total] 44 / 93 / 58 / 195:  39%|████████▏            | 195/500 [02:17<03:34,  1.42it/s]textattack: Saving checkpoint under \"checkpoints\\1720260705864.ta.chkpt\" at 2024-07-06 18:11:45 after 195 attacks.\n"
     ]
    },
    {
     "name": "stdout",
     "output_type": "stream",
     "text": [
      "\n",
      "\n",
      "=============================================================================================================================\n",
      "=============================================================================================================================\n",
      "\n"
     ]
    },
    {
     "name": "stderr",
     "output_type": "stream",
     "text": [
      "[Succeeded / Failed / Skipped / Total] 44 / 97 / 59 / 200:  40%|████████▍            | 200/500 [02:24<03:36,  1.39it/s]textattack: Saving checkpoint under \"checkpoints\\1720260713193.ta.chkpt\" at 2024-07-06 18:11:53 after 200 attacks.\n"
     ]
    },
    {
     "name": "stdout",
     "output_type": "stream",
     "text": [
      "\n",
      "\n",
      "=============================================================================================================================\n",
      "=============================================================================================================================\n",
      "\n"
     ]
    },
    {
     "name": "stderr",
     "output_type": "stream",
     "text": [
      "[Succeeded / Failed / Skipped / Total] 46 / 99 / 60 / 205:  41%|████████▌            | 205/500 [02:26<03:30,  1.40it/s]textattack: Saving checkpoint under \"checkpoints\\1720260715240.ta.chkpt\" at 2024-07-06 18:11:55 after 205 attacks.\n"
     ]
    },
    {
     "name": "stdout",
     "output_type": "stream",
     "text": [
      "\n",
      "\n",
      "=============================================================================================================================\n",
      "=============================================================================================================================\n",
      "\n"
     ]
    },
    {
     "name": "stderr",
     "output_type": "stream",
     "text": [
      "[Succeeded / Failed / Skipped / Total] 48 / 102 / 60 / 210:  42%|████████▍           | 210/500 [02:29<03:26,  1.40it/s]textattack: Saving checkpoint under \"checkpoints\\1720260718396.ta.chkpt\" at 2024-07-06 18:11:58 after 210 attacks.\n"
     ]
    },
    {
     "name": "stdout",
     "output_type": "stream",
     "text": [
      "\n",
      "\n",
      "=============================================================================================================================\n",
      "=============================================================================================================================\n",
      "\n"
     ]
    },
    {
     "name": "stderr",
     "output_type": "stream",
     "text": [
      "[Succeeded / Failed / Skipped / Total] 49 / 105 / 61 / 215:  43%|████████▌           | 215/500 [02:32<03:22,  1.41it/s]textattack: Saving checkpoint under \"checkpoints\\1720260721615.ta.chkpt\" at 2024-07-06 18:12:01 after 215 attacks.\n"
     ]
    },
    {
     "name": "stdout",
     "output_type": "stream",
     "text": [
      "\n",
      "\n",
      "=============================================================================================================================\n",
      "=============================================================================================================================\n",
      "\n"
     ]
    },
    {
     "name": "stderr",
     "output_type": "stream",
     "text": [
      "[Succeeded / Failed / Skipped / Total] 52 / 107 / 61 / 220:  44%|████████▊           | 220/500 [02:35<03:17,  1.41it/s]textattack: Saving checkpoint under \"checkpoints\\1720260724365.ta.chkpt\" at 2024-07-06 18:12:04 after 220 attacks.\n"
     ]
    },
    {
     "name": "stdout",
     "output_type": "stream",
     "text": [
      "\n",
      "\n",
      "=============================================================================================================================\n",
      "=============================================================================================================================\n",
      "\n"
     ]
    },
    {
     "name": "stderr",
     "output_type": "stream",
     "text": [
      "[Succeeded / Failed / Skipped / Total] 53 / 110 / 62 / 225:  45%|█████████           | 225/500 [02:40<03:16,  1.40it/s]textattack: Saving checkpoint under \"checkpoints\\1720260729647.ta.chkpt\" at 2024-07-06 18:12:09 after 225 attacks.\n"
     ]
    },
    {
     "name": "stdout",
     "output_type": "stream",
     "text": [
      "\n",
      "\n",
      "=============================================================================================================================\n",
      "=============================================================================================================================\n",
      "\n"
     ]
    },
    {
     "name": "stderr",
     "output_type": "stream",
     "text": [
      "[Succeeded / Failed / Skipped / Total] 53 / 113 / 64 / 230:  46%|█████████▏          | 230/500 [02:42<03:11,  1.41it/s]textattack: Saving checkpoint under \"checkpoints\\1720260731819.ta.chkpt\" at 2024-07-06 18:12:11 after 230 attacks.\n",
      "[Succeeded / Failed / Skipped / Total] 53 / 113 / 65 / 231:  46%|█████████▏          | 231/500 [02:43<03:09,  1.42it/s]"
     ]
    },
    {
     "name": "stdout",
     "output_type": "stream",
     "text": [
      "\n",
      "\n",
      "=============================================================================================================================\n",
      "=============================================================================================================================\n",
      "\n"
     ]
    },
    {
     "name": "stderr",
     "output_type": "stream",
     "text": [
      "[Succeeded / Failed / Skipped / Total] 55 / 115 / 65 / 235:  47%|█████████▍          | 235/500 [02:46<03:08,  1.41it/s]textattack: Saving checkpoint under \"checkpoints\\1720260735569.ta.chkpt\" at 2024-07-06 18:12:15 after 235 attacks.\n"
     ]
    },
    {
     "name": "stdout",
     "output_type": "stream",
     "text": [
      "\n",
      "\n",
      "=============================================================================================================================\n",
      "=============================================================================================================================\n",
      "\n"
     ]
    },
    {
     "name": "stderr",
     "output_type": "stream",
     "text": [
      "[Succeeded / Failed / Skipped / Total] 56 / 119 / 65 / 240:  48%|█████████▌          | 240/500 [02:50<03:04,  1.41it/s]textattack: Saving checkpoint under \"checkpoints\\1720260739054.ta.chkpt\" at 2024-07-06 18:12:19 after 240 attacks.\n",
      "[Succeeded / Failed / Skipped / Total] 56 / 119 / 66 / 241:  48%|█████████▋          | 241/500 [02:50<03:03,  1.41it/s]"
     ]
    },
    {
     "name": "stdout",
     "output_type": "stream",
     "text": [
      "\n",
      "\n",
      "=============================================================================================================================\n",
      "=============================================================================================================================\n",
      "\n"
     ]
    },
    {
     "name": "stderr",
     "output_type": "stream",
     "text": [
      "[Succeeded / Failed / Skipped / Total] 57 / 122 / 66 / 245:  49%|█████████▊          | 245/500 [02:53<03:00,  1.41it/s]textattack: Saving checkpoint under \"checkpoints\\1720260742210.ta.chkpt\" at 2024-07-06 18:12:22 after 245 attacks.\n"
     ]
    },
    {
     "name": "stdout",
     "output_type": "stream",
     "text": [
      "\n",
      "\n",
      "=============================================================================================================================\n",
      "=============================================================================================================================\n",
      "\n"
     ]
    },
    {
     "name": "stderr",
     "output_type": "stream",
     "text": [
      "[Succeeded / Failed / Skipped / Total] 57 / 125 / 68 / 250:  50%|██████████          | 250/500 [02:55<02:55,  1.43it/s]textattack: Saving checkpoint under \"checkpoints\\1720260744148.ta.chkpt\" at 2024-07-06 18:12:24 after 250 attacks.\n",
      "[Succeeded / Failed / Skipped / Total] 57 / 125 / 69 / 251:  50%|██████████          | 251/500 [02:55<02:54,  1.43it/s]"
     ]
    },
    {
     "name": "stdout",
     "output_type": "stream",
     "text": [
      "\n",
      "\n",
      "=============================================================================================================================\n",
      "=============================================================================================================================\n",
      "\n"
     ]
    },
    {
     "name": "stderr",
     "output_type": "stream",
     "text": [
      "[Succeeded / Failed / Skipped / Total] 59 / 126 / 70 / 255:  51%|██████████▏         | 255/500 [02:58<02:51,  1.43it/s]textattack: Saving checkpoint under \"checkpoints\\1720260747086.ta.chkpt\" at 2024-07-06 18:12:27 after 255 attacks.\n"
     ]
    },
    {
     "name": "stdout",
     "output_type": "stream",
     "text": [
      "\n",
      "\n",
      "=============================================================================================================================\n",
      "=============================================================================================================================\n",
      "\n"
     ]
    },
    {
     "name": "stderr",
     "output_type": "stream",
     "text": [
      "[Succeeded / Failed / Skipped / Total] 59 / 129 / 72 / 260:  52%|██████████▍         | 260/500 [03:02<02:48,  1.43it/s]textattack: Saving checkpoint under \"checkpoints\\1720260751195.ta.chkpt\" at 2024-07-06 18:12:31 after 260 attacks.\n"
     ]
    },
    {
     "name": "stdout",
     "output_type": "stream",
     "text": [
      "\n",
      "\n",
      "=============================================================================================================================\n",
      "=============================================================================================================================\n",
      "\n"
     ]
    },
    {
     "name": "stderr",
     "output_type": "stream",
     "text": [
      "[Succeeded / Failed / Skipped / Total] 61 / 132 / 72 / 265:  53%|██████████▌         | 265/500 [03:06<02:45,  1.42it/s]textattack: Saving checkpoint under \"checkpoints\\1720260755680.ta.chkpt\" at 2024-07-06 18:12:35 after 265 attacks.\n"
     ]
    },
    {
     "name": "stdout",
     "output_type": "stream",
     "text": [
      "\n",
      "\n",
      "=============================================================================================================================\n",
      "=============================================================================================================================\n",
      "\n"
     ]
    },
    {
     "name": "stderr",
     "output_type": "stream",
     "text": [
      "[Succeeded / Failed / Skipped / Total] 61 / 135 / 74 / 270:  54%|██████████▊         | 270/500 [03:11<02:42,  1.41it/s]textattack: Saving checkpoint under \"checkpoints\\1720260760087.ta.chkpt\" at 2024-07-06 18:12:40 after 270 attacks.\n",
      "[Succeeded / Failed / Skipped / Total] 61 / 135 / 75 / 271:  54%|██████████▊         | 271/500 [03:11<02:41,  1.42it/s]"
     ]
    },
    {
     "name": "stdout",
     "output_type": "stream",
     "text": [
      "\n",
      "\n",
      "=============================================================================================================================\n",
      "=============================================================================================================================\n",
      "\n"
     ]
    },
    {
     "name": "stderr",
     "output_type": "stream",
     "text": [
      "[Succeeded / Failed / Skipped / Total] 63 / 135 / 77 / 275:  55%|███████████         | 275/500 [03:12<02:37,  1.43it/s]textattack: Saving checkpoint under \"checkpoints\\1720260761118.ta.chkpt\" at 2024-07-06 18:12:41 after 275 attacks.\n"
     ]
    },
    {
     "name": "stdout",
     "output_type": "stream",
     "text": [
      "\n",
      "\n",
      "=============================================================================================================================\n",
      "=============================================================================================================================\n",
      "\n"
     ]
    },
    {
     "name": "stderr",
     "output_type": "stream",
     "text": [
      "[Succeeded / Failed / Skipped / Total] 66 / 136 / 78 / 280:  56%|███████████▏        | 280/500 [03:14<02:32,  1.44it/s]textattack: Saving checkpoint under \"checkpoints\\1720260763446.ta.chkpt\" at 2024-07-06 18:12:43 after 280 attacks.\n"
     ]
    },
    {
     "name": "stdout",
     "output_type": "stream",
     "text": [
      "\n",
      "\n",
      "=============================================================================================================================\n",
      "=============================================================================================================================\n",
      "\n"
     ]
    },
    {
     "name": "stderr",
     "output_type": "stream",
     "text": [
      "[Succeeded / Failed / Skipped / Total] 66 / 138 / 81 / 285:  57%|███████████▍        | 285/500 [03:15<02:27,  1.46it/s]textattack: Saving checkpoint under \"checkpoints\\1720260764681.ta.chkpt\" at 2024-07-06 18:12:44 after 285 attacks.\n"
     ]
    },
    {
     "name": "stdout",
     "output_type": "stream",
     "text": [
      "\n",
      "\n",
      "=============================================================================================================================\n",
      "=============================================================================================================================\n",
      "\n"
     ]
    },
    {
     "name": "stderr",
     "output_type": "stream",
     "text": [
      "[Succeeded / Failed / Skipped / Total] 68 / 141 / 81 / 290:  58%|███████████▌        | 290/500 [03:20<02:25,  1.45it/s]textattack: Saving checkpoint under \"checkpoints\\1720260769353.ta.chkpt\" at 2024-07-06 18:12:49 after 290 attacks.\n",
      "[Succeeded / Failed / Skipped / Total] 68 / 141 / 83 / 292:  58%|███████████▋        | 292/500 [03:20<02:22,  1.46it/s]"
     ]
    },
    {
     "name": "stdout",
     "output_type": "stream",
     "text": [
      "\n",
      "\n",
      "=============================================================================================================================\n",
      "=============================================================================================================================\n",
      "\n"
     ]
    },
    {
     "name": "stderr",
     "output_type": "stream",
     "text": [
      "[Succeeded / Failed / Skipped / Total] 69 / 143 / 83 / 295:  59%|███████████▊        | 295/500 [03:23<02:21,  1.45it/s]textattack: Saving checkpoint under \"checkpoints\\1720260772369.ta.chkpt\" at 2024-07-06 18:12:52 after 295 attacks.\n"
     ]
    },
    {
     "name": "stdout",
     "output_type": "stream",
     "text": [
      "\n",
      "\n",
      "=============================================================================================================================\n",
      "=============================================================================================================================\n",
      "\n"
     ]
    },
    {
     "name": "stderr",
     "output_type": "stream",
     "text": [
      "[Succeeded / Failed / Skipped / Total] 72 / 145 / 83 / 300:  60%|████████████        | 300/500 [03:26<02:17,  1.45it/s]textattack: Saving checkpoint under \"checkpoints\\1720260775134.ta.chkpt\" at 2024-07-06 18:12:55 after 300 attacks.\n"
     ]
    },
    {
     "name": "stdout",
     "output_type": "stream",
     "text": [
      "\n",
      "\n",
      "=============================================================================================================================\n",
      "=============================================================================================================================\n",
      "\n"
     ]
    },
    {
     "name": "stderr",
     "output_type": "stream",
     "text": [
      "[Succeeded / Failed / Skipped / Total] 76 / 145 / 84 / 305:  61%|████████████▏       | 305/500 [03:29<02:13,  1.46it/s]textattack: Saving checkpoint under \"checkpoints\\1720260778119.ta.chkpt\" at 2024-07-06 18:12:58 after 305 attacks.\n"
     ]
    },
    {
     "name": "stdout",
     "output_type": "stream",
     "text": [
      "\n",
      "\n",
      "=============================================================================================================================\n",
      "=============================================================================================================================\n",
      "\n"
     ]
    },
    {
     "name": "stderr",
     "output_type": "stream",
     "text": [
      "[Succeeded / Failed / Skipped / Total] 76 / 150 / 84 / 310:  62%|████████████▍       | 310/500 [03:31<02:09,  1.47it/s]textattack: Saving checkpoint under \"checkpoints\\1720260780416.ta.chkpt\" at 2024-07-06 18:13:00 after 310 attacks.\n"
     ]
    },
    {
     "name": "stdout",
     "output_type": "stream",
     "text": [
      "\n",
      "\n",
      "=============================================================================================================================\n",
      "=============================================================================================================================\n",
      "\n"
     ]
    },
    {
     "name": "stderr",
     "output_type": "stream",
     "text": [
      "[Succeeded / Failed / Skipped / Total] 77 / 152 / 86 / 315:  63%|████████████▌       | 315/500 [03:33<02:05,  1.47it/s]textattack: Saving checkpoint under \"checkpoints\\1720260782651.ta.chkpt\" at 2024-07-06 18:13:02 after 315 attacks.\n"
     ]
    },
    {
     "name": "stdout",
     "output_type": "stream",
     "text": [
      "\n",
      "\n",
      "=============================================================================================================================\n",
      "=============================================================================================================================\n",
      "\n"
     ]
    },
    {
     "name": "stderr",
     "output_type": "stream",
     "text": [
      "[Succeeded / Failed / Skipped / Total] 79 / 154 / 87 / 320:  64%|████████████▊       | 320/500 [03:40<02:03,  1.45it/s]textattack: Saving checkpoint under \"checkpoints\\1720260788870.ta.chkpt\" at 2024-07-06 18:13:08 after 320 attacks.\n"
     ]
    },
    {
     "name": "stdout",
     "output_type": "stream",
     "text": [
      "\n",
      "\n",
      "=============================================================================================================================\n",
      "=============================================================================================================================\n",
      "\n"
     ]
    },
    {
     "name": "stderr",
     "output_type": "stream",
     "text": [
      "[Succeeded / Failed / Skipped / Total] 80 / 157 / 88 / 325:  65%|█████████████       | 325/500 [03:46<02:02,  1.43it/s]textattack: Saving checkpoint under \"checkpoints\\1720260795730.ta.chkpt\" at 2024-07-06 18:13:15 after 325 attacks.\n"
     ]
    },
    {
     "name": "stdout",
     "output_type": "stream",
     "text": [
      "\n",
      "\n",
      "=============================================================================================================================\n",
      "=============================================================================================================================\n",
      "\n"
     ]
    },
    {
     "name": "stderr",
     "output_type": "stream",
     "text": [
      "[Succeeded / Failed / Skipped / Total] 82 / 159 / 89 / 330:  66%|█████████████▏      | 330/500 [03:48<01:57,  1.44it/s]textattack: Saving checkpoint under \"checkpoints\\1720260797417.ta.chkpt\" at 2024-07-06 18:13:17 after 330 attacks.\n"
     ]
    },
    {
     "name": "stdout",
     "output_type": "stream",
     "text": [
      "\n",
      "\n",
      "=============================================================================================================================\n",
      "=============================================================================================================================\n",
      "\n"
     ]
    },
    {
     "name": "stderr",
     "output_type": "stream",
     "text": [
      "[Succeeded / Failed / Skipped / Total] 83 / 163 / 89 / 335:  67%|█████████████▍      | 335/500 [03:55<01:56,  1.42it/s]textattack: Saving checkpoint under \"checkpoints\\1720260804543.ta.chkpt\" at 2024-07-06 18:13:24 after 335 attacks.\n",
      "[Succeeded / Failed / Skipped / Total] 83 / 163 / 90 / 336:  67%|█████████████▍      | 336/500 [03:55<01:55,  1.42it/s]"
     ]
    },
    {
     "name": "stdout",
     "output_type": "stream",
     "text": [
      "\n",
      "\n",
      "=============================================================================================================================\n",
      "=============================================================================================================================\n",
      "\n"
     ]
    },
    {
     "name": "stderr",
     "output_type": "stream",
     "text": [
      "[Succeeded / Failed / Skipped / Total] 85 / 165 / 90 / 340:  68%|█████████████▌      | 340/500 [03:58<01:52,  1.42it/s]textattack: Saving checkpoint under \"checkpoints\\1720260807574.ta.chkpt\" at 2024-07-06 18:13:27 after 340 attacks.\n"
     ]
    },
    {
     "name": "stdout",
     "output_type": "stream",
     "text": [
      "\n",
      "\n",
      "=============================================================================================================================\n",
      "=============================================================================================================================\n",
      "\n"
     ]
    },
    {
     "name": "stderr",
     "output_type": "stream",
     "text": [
      "[Succeeded / Failed / Skipped / Total] 86 / 168 / 91 / 345:  69%|█████████████▊      | 345/500 [04:02<01:48,  1.42it/s]textattack: Saving checkpoint under \"checkpoints\\1720260811215.ta.chkpt\" at 2024-07-06 18:13:31 after 345 attacks.\n"
     ]
    },
    {
     "name": "stdout",
     "output_type": "stream",
     "text": [
      "\n",
      "\n",
      "=============================================================================================================================\n",
      "=============================================================================================================================\n",
      "\n"
     ]
    },
    {
     "name": "stderr",
     "output_type": "stream",
     "text": [
      "[Succeeded / Failed / Skipped / Total] 88 / 170 / 92 / 350:  70%|██████████████      | 350/500 [04:05<01:45,  1.42it/s]textattack: Saving checkpoint under \"checkpoints\\1720260814559.ta.chkpt\" at 2024-07-06 18:13:34 after 350 attacks.\n"
     ]
    },
    {
     "name": "stdout",
     "output_type": "stream",
     "text": [
      "\n",
      "\n",
      "=============================================================================================================================\n",
      "=============================================================================================================================\n",
      "\n"
     ]
    },
    {
     "name": "stderr",
     "output_type": "stream",
     "text": [
      "[Succeeded / Failed / Skipped / Total] 90 / 173 / 92 / 355:  71%|██████████████▏     | 355/500 [04:10<01:42,  1.42it/s]textattack: Saving checkpoint under \"checkpoints\\1720260819356.ta.chkpt\" at 2024-07-06 18:13:39 after 355 attacks.\n",
      "[Succeeded / Failed / Skipped / Total] 90 / 173 / 93 / 356:  71%|██████████████▏     | 356/500 [04:10<01:41,  1.42it/s]"
     ]
    },
    {
     "name": "stdout",
     "output_type": "stream",
     "text": [
      "\n",
      "\n",
      "=============================================================================================================================\n",
      "=============================================================================================================================\n",
      "\n"
     ]
    },
    {
     "name": "stderr",
     "output_type": "stream",
     "text": [
      "[Succeeded / Failed / Skipped / Total] 91 / 176 / 93 / 360:  72%|██████████████▍     | 360/500 [04:14<01:38,  1.41it/s]textattack: Saving checkpoint under \"checkpoints\\1720260823263.ta.chkpt\" at 2024-07-06 18:13:43 after 360 attacks.\n"
     ]
    },
    {
     "name": "stdout",
     "output_type": "stream",
     "text": [
      "\n",
      "\n",
      "=============================================================================================================================\n",
      "=============================================================================================================================\n",
      "\n"
     ]
    },
    {
     "name": "stderr",
     "output_type": "stream",
     "text": [
      "[Succeeded / Failed / Skipped / Total] 94 / 178 / 93 / 365:  73%|██████████████▌     | 365/500 [04:17<01:35,  1.42it/s]textattack: Saving checkpoint under \"checkpoints\\1720260826560.ta.chkpt\" at 2024-07-06 18:13:46 after 365 attacks.\n",
      "[Succeeded / Failed / Skipped / Total] 94 / 178 / 94 / 366:  73%|██████████████▋     | 366/500 [04:17<01:34,  1.42it/s]"
     ]
    },
    {
     "name": "stdout",
     "output_type": "stream",
     "text": [
      "\n",
      "\n",
      "=============================================================================================================================\n",
      "=============================================================================================================================\n",
      "\n"
     ]
    },
    {
     "name": "stderr",
     "output_type": "stream",
     "text": [
      "[Succeeded / Failed / Skipped / Total] 97 / 178 / 95 / 370:  74%|██████████████▊     | 370/500 [04:20<01:31,  1.42it/s]textattack: Saving checkpoint under \"checkpoints\\1720260829638.ta.chkpt\" at 2024-07-06 18:13:49 after 370 attacks.\n",
      "[Succeeded / Failed / Skipped / Total] 97 / 178 / 96 / 371:  74%|██████████████▊     | 371/500 [04:20<01:30,  1.42it/s]"
     ]
    },
    {
     "name": "stdout",
     "output_type": "stream",
     "text": [
      "\n",
      "\n",
      "=============================================================================================================================\n",
      "=============================================================================================================================\n",
      "\n"
     ]
    },
    {
     "name": "stderr",
     "output_type": "stream",
     "text": [
      "[Succeeded / Failed / Skipped / Total] 98 / 180 / 97 / 375:  75%|███████████████     | 375/500 [04:23<01:27,  1.42it/s]textattack: Saving checkpoint under \"checkpoints\\1720260832451.ta.chkpt\" at 2024-07-06 18:13:52 after 375 attacks.\n"
     ]
    },
    {
     "name": "stdout",
     "output_type": "stream",
     "text": [
      "\n",
      "\n",
      "=============================================================================================================================\n",
      "=============================================================================================================================\n",
      "\n"
     ]
    },
    {
     "name": "stderr",
     "output_type": "stream",
     "text": [
      "[Succeeded / Failed / Skipped / Total] 98 / 183 / 99 / 380:  76%|███████████████▏    | 380/500 [04:25<01:23,  1.43it/s]textattack: Saving checkpoint under \"checkpoints\\1720260834185.ta.chkpt\" at 2024-07-06 18:13:54 after 380 attacks.\n"
     ]
    },
    {
     "name": "stdout",
     "output_type": "stream",
     "text": [
      "\n",
      "\n",
      "=============================================================================================================================\n",
      "=============================================================================================================================\n",
      "\n"
     ]
    },
    {
     "name": "stderr",
     "output_type": "stream",
     "text": [
      "[Succeeded / Failed / Skipped / Total] 101 / 185 / 99 / 385:  77%|██████████████▋    | 385/500 [04:28<01:20,  1.43it/s]textattack: Saving checkpoint under \"checkpoints\\1720260837811.ta.chkpt\" at 2024-07-06 18:13:57 after 385 attacks.\n"
     ]
    },
    {
     "name": "stdout",
     "output_type": "stream",
     "text": [
      "\n",
      "\n",
      "=============================================================================================================================\n",
      "=============================================================================================================================\n",
      "\n"
     ]
    },
    {
     "name": "stderr",
     "output_type": "stream",
     "text": [
      "[Succeeded / Failed / Skipped / Total] 103 / 187 / 100 / 390:  78%|██████████████    | 390/500 [04:30<01:16,  1.44it/s]textattack: Saving checkpoint under \"checkpoints\\1720260839655.ta.chkpt\" at 2024-07-06 18:13:59 after 390 attacks.\n"
     ]
    },
    {
     "name": "stdout",
     "output_type": "stream",
     "text": [
      "\n",
      "\n",
      "=============================================================================================================================\n",
      "=============================================================================================================================\n",
      "\n"
     ]
    },
    {
     "name": "stderr",
     "output_type": "stream",
     "text": [
      "[Succeeded / Failed / Skipped / Total] 103 / 191 / 101 / 395:  79%|██████████████▏   | 395/500 [04:36<01:13,  1.43it/s]textattack: Saving checkpoint under \"checkpoints\\1720260845516.ta.chkpt\" at 2024-07-06 18:14:05 after 395 attacks.\n"
     ]
    },
    {
     "name": "stdout",
     "output_type": "stream",
     "text": [
      "\n",
      "\n",
      "=============================================================================================================================\n",
      "=============================================================================================================================\n",
      "\n"
     ]
    },
    {
     "name": "stderr",
     "output_type": "stream",
     "text": [
      "[Succeeded / Failed / Skipped / Total] 104 / 195 / 101 / 400:  80%|██████████████▍   | 400/500 [04:44<01:11,  1.41it/s]textattack: Saving checkpoint under \"checkpoints\\1720260852860.ta.chkpt\" at 2024-07-06 18:14:12 after 400 attacks.\n"
     ]
    },
    {
     "name": "stdout",
     "output_type": "stream",
     "text": [
      "\n",
      "\n",
      "=============================================================================================================================\n",
      "=============================================================================================================================\n",
      "\n"
     ]
    },
    {
     "name": "stderr",
     "output_type": "stream",
     "text": [
      "[Succeeded / Failed / Skipped / Total] 105 / 198 / 102 / 405:  81%|██████████████▌   | 405/500 [04:48<01:07,  1.40it/s]textattack: Saving checkpoint under \"checkpoints\\1720260857079.ta.chkpt\" at 2024-07-06 18:14:17 after 405 attacks.\n"
     ]
    },
    {
     "name": "stdout",
     "output_type": "stream",
     "text": [
      "\n",
      "\n",
      "=============================================================================================================================\n",
      "=============================================================================================================================\n",
      "\n"
     ]
    },
    {
     "name": "stderr",
     "output_type": "stream",
     "text": [
      "[Succeeded / Failed / Skipped / Total] 108 / 200 / 102 / 410:  82%|██████████████▊   | 410/500 [04:51<01:04,  1.41it/s]textattack: Saving checkpoint under \"checkpoints\\1720260860626.ta.chkpt\" at 2024-07-06 18:14:20 after 410 attacks.\n"
     ]
    },
    {
     "name": "stdout",
     "output_type": "stream",
     "text": [
      "\n",
      "\n",
      "=============================================================================================================================\n",
      "=============================================================================================================================\n",
      "\n"
     ]
    },
    {
     "name": "stderr",
     "output_type": "stream",
     "text": [
      "[Succeeded / Failed / Skipped / Total] 109 / 202 / 104 / 415:  83%|██████████████▉   | 415/500 [04:54<01:00,  1.41it/s]textattack: Saving checkpoint under \"checkpoints\\1720260862830.ta.chkpt\" at 2024-07-06 18:14:22 after 415 attacks.\n"
     ]
    },
    {
     "name": "stdout",
     "output_type": "stream",
     "text": [
      "\n",
      "\n",
      "=============================================================================================================================\n",
      "=============================================================================================================================\n",
      "\n"
     ]
    },
    {
     "name": "stderr",
     "output_type": "stream",
     "text": [
      "[Succeeded / Failed / Skipped / Total] 110 / 205 / 105 / 420:  84%|███████████████   | 420/500 [04:59<00:57,  1.40it/s]textattack: Saving checkpoint under \"checkpoints\\1720260868314.ta.chkpt\" at 2024-07-06 18:14:28 after 420 attacks.\n"
     ]
    },
    {
     "name": "stdout",
     "output_type": "stream",
     "text": [
      "\n",
      "\n",
      "=============================================================================================================================\n",
      "=============================================================================================================================\n",
      "\n"
     ]
    },
    {
     "name": "stderr",
     "output_type": "stream",
     "text": [
      "[Succeeded / Failed / Skipped / Total] 113 / 206 / 106 / 425:  85%|███████████████▎  | 425/500 [05:03<00:53,  1.40it/s]textattack: Saving checkpoint under \"checkpoints\\1720260871955.ta.chkpt\" at 2024-07-06 18:14:31 after 425 attacks.\n"
     ]
    },
    {
     "name": "stdout",
     "output_type": "stream",
     "text": [
      "\n",
      "\n",
      "=============================================================================================================================\n",
      "=============================================================================================================================\n",
      "\n"
     ]
    },
    {
     "name": "stderr",
     "output_type": "stream",
     "text": [
      "[Succeeded / Failed / Skipped / Total] 115 / 208 / 107 / 430:  86%|███████████████▍  | 430/500 [05:06<00:49,  1.40it/s]textattack: Saving checkpoint under \"checkpoints\\1720260875049.ta.chkpt\" at 2024-07-06 18:14:35 after 430 attacks.\n",
      "[Succeeded / Failed / Skipped / Total] 115 / 208 / 108 / 431:  86%|███████████████▌  | 431/500 [05:06<00:49,  1.41it/s]"
     ]
    },
    {
     "name": "stdout",
     "output_type": "stream",
     "text": [
      "\n",
      "\n",
      "=============================================================================================================================\n",
      "=============================================================================================================================\n",
      "\n"
     ]
    },
    {
     "name": "stderr",
     "output_type": "stream",
     "text": [
      "[Succeeded / Failed / Skipped / Total] 119 / 208 / 108 / 435:  87%|███████████████▋  | 435/500 [05:08<00:46,  1.41it/s]textattack: Saving checkpoint under \"checkpoints\\1720260877065.ta.chkpt\" at 2024-07-06 18:14:37 after 435 attacks.\n"
     ]
    },
    {
     "name": "stdout",
     "output_type": "stream",
     "text": [
      "\n",
      "\n",
      "=============================================================================================================================\n",
      "=============================================================================================================================\n",
      "\n"
     ]
    },
    {
     "name": "stderr",
     "output_type": "stream",
     "text": [
      "[Succeeded / Failed / Skipped / Total] 119 / 213 / 108 / 440:  88%|███████████████▊  | 440/500 [05:14<00:42,  1.40it/s]textattack: Saving checkpoint under \"checkpoints\\1720260883347.ta.chkpt\" at 2024-07-06 18:14:43 after 440 attacks.\n",
      "[Succeeded / Failed / Skipped / Total] 119 / 213 / 109 / 441:  88%|███████████████▉  | 441/500 [05:14<00:42,  1.40it/s]"
     ]
    },
    {
     "name": "stdout",
     "output_type": "stream",
     "text": [
      "\n",
      "\n",
      "=============================================================================================================================\n",
      "=============================================================================================================================\n",
      "\n"
     ]
    },
    {
     "name": "stderr",
     "output_type": "stream",
     "text": [
      "[Succeeded / Failed / Skipped / Total] 120 / 216 / 109 / 445:  89%|████████████████  | 445/500 [05:17<00:39,  1.40it/s]textattack: Saving checkpoint under \"checkpoints\\1720260886456.ta.chkpt\" at 2024-07-06 18:14:46 after 445 attacks.\n"
     ]
    },
    {
     "name": "stdout",
     "output_type": "stream",
     "text": [
      "\n",
      "\n",
      "=============================================================================================================================\n",
      "=============================================================================================================================\n",
      "\n"
     ]
    },
    {
     "name": "stderr",
     "output_type": "stream",
     "text": [
      "[Succeeded / Failed / Skipped / Total] 121 / 218 / 111 / 450:  90%|████████████████▏ | 450/500 [05:19<00:35,  1.41it/s]textattack: Saving checkpoint under \"checkpoints\\1720260888535.ta.chkpt\" at 2024-07-06 18:14:48 after 450 attacks.\n",
      "[Succeeded / Failed / Skipped / Total] 121 / 218 / 112 / 451:  90%|████████████████▏ | 451/500 [05:19<00:34,  1.41it/s]"
     ]
    },
    {
     "name": "stdout",
     "output_type": "stream",
     "text": [
      "\n",
      "\n",
      "=============================================================================================================================\n",
      "=============================================================================================================================\n",
      "\n"
     ]
    },
    {
     "name": "stderr",
     "output_type": "stream",
     "text": [
      "[Succeeded / Failed / Skipped / Total] 123 / 219 / 113 / 455:  91%|████████████████▍ | 455/500 [05:23<00:31,  1.41it/s]textattack: Saving checkpoint under \"checkpoints\\1720260891910.ta.chkpt\" at 2024-07-06 18:14:51 after 455 attacks.\n"
     ]
    },
    {
     "name": "stdout",
     "output_type": "stream",
     "text": [
      "\n",
      "\n",
      "=============================================================================================================================\n",
      "=============================================================================================================================\n",
      "\n"
     ]
    },
    {
     "name": "stderr",
     "output_type": "stream",
     "text": [
      "[Succeeded / Failed / Skipped / Total] 124 / 222 / 114 / 460:  92%|████████████████▌ | 460/500 [05:29<00:28,  1.40it/s]textattack: Saving checkpoint under \"checkpoints\\1720260898426.ta.chkpt\" at 2024-07-06 18:14:58 after 460 attacks.\n"
     ]
    },
    {
     "name": "stdout",
     "output_type": "stream",
     "text": [
      "\n",
      "\n",
      "=============================================================================================================================\n",
      "=============================================================================================================================\n",
      "\n"
     ]
    },
    {
     "name": "stderr",
     "output_type": "stream",
     "text": [
      "[Succeeded / Failed / Skipped / Total] 124 / 225 / 116 / 465:  93%|████████████████▋ | 465/500 [05:34<00:25,  1.39it/s]textattack: Saving checkpoint under \"checkpoints\\1720260903567.ta.chkpt\" at 2024-07-06 18:15:03 after 465 attacks.\n",
      "[Succeeded / Failed / Skipped / Total] 124 / 225 / 117 / 466:  93%|████████████████▊ | 466/500 [05:34<00:24,  1.39it/s]"
     ]
    },
    {
     "name": "stdout",
     "output_type": "stream",
     "text": [
      "\n",
      "\n",
      "=============================================================================================================================\n",
      "=============================================================================================================================\n",
      "\n"
     ]
    },
    {
     "name": "stderr",
     "output_type": "stream",
     "text": [
      "[Succeeded / Failed / Skipped / Total] 127 / 226 / 117 / 470:  94%|████████████████▉ | 470/500 [05:36<00:21,  1.40it/s]textattack: Saving checkpoint under \"checkpoints\\1720260905661.ta.chkpt\" at 2024-07-06 18:15:05 after 470 attacks.\n"
     ]
    },
    {
     "name": "stdout",
     "output_type": "stream",
     "text": [
      "\n",
      "\n",
      "=============================================================================================================================\n",
      "=============================================================================================================================\n",
      "\n"
     ]
    },
    {
     "name": "stderr",
     "output_type": "stream",
     "text": [
      "[Succeeded / Failed / Skipped / Total] 128 / 230 / 117 / 475:  95%|█████████████████ | 475/500 [05:42<00:18,  1.38it/s]textattack: Saving checkpoint under \"checkpoints\\1720260911818.ta.chkpt\" at 2024-07-06 18:15:11 after 475 attacks.\n"
     ]
    },
    {
     "name": "stdout",
     "output_type": "stream",
     "text": [
      "\n",
      "\n",
      "=============================================================================================================================\n",
      "=============================================================================================================================\n",
      "\n"
     ]
    },
    {
     "name": "stderr",
     "output_type": "stream",
     "text": [
      "[Succeeded / Failed / Skipped / Total] 132 / 231 / 117 / 480:  96%|█████████████████▎| 480/500 [05:45<00:14,  1.39it/s]textattack: Saving checkpoint under \"checkpoints\\1720260914599.ta.chkpt\" at 2024-07-06 18:15:14 after 480 attacks.\n"
     ]
    },
    {
     "name": "stdout",
     "output_type": "stream",
     "text": [
      "\n",
      "\n",
      "=============================================================================================================================\n",
      "=============================================================================================================================\n",
      "\n"
     ]
    },
    {
     "name": "stderr",
     "output_type": "stream",
     "text": [
      "[Succeeded / Failed / Skipped / Total] 135 / 233 / 117 / 485:  97%|█████████████████▍| 485/500 [05:49<00:10,  1.39it/s]textattack: Saving checkpoint under \"checkpoints\\1720260918302.ta.chkpt\" at 2024-07-06 18:15:18 after 485 attacks.\n"
     ]
    },
    {
     "name": "stdout",
     "output_type": "stream",
     "text": [
      "\n",
      "\n",
      "=============================================================================================================================\n",
      "=============================================================================================================================\n",
      "\n"
     ]
    },
    {
     "name": "stderr",
     "output_type": "stream",
     "text": [
      "[Succeeded / Failed / Skipped / Total] 136 / 236 / 118 / 490:  98%|█████████████████▋| 490/500 [05:53<00:07,  1.39it/s]textattack: Saving checkpoint under \"checkpoints\\1720260922131.ta.chkpt\" at 2024-07-06 18:15:22 after 490 attacks.\n",
      "[Succeeded / Failed / Skipped / Total] 136 / 236 / 119 / 491:  98%|█████████████████▋| 491/500 [05:53<00:06,  1.39it/s]"
     ]
    },
    {
     "name": "stdout",
     "output_type": "stream",
     "text": [
      "\n",
      "\n",
      "=============================================================================================================================\n",
      "=============================================================================================================================\n",
      "\n"
     ]
    },
    {
     "name": "stderr",
     "output_type": "stream",
     "text": [
      "[Succeeded / Failed / Skipped / Total] 138 / 237 / 120 / 495:  99%|█████████████████▊| 495/500 [05:55<00:03,  1.39it/s]textattack: Saving checkpoint under \"checkpoints\\1720260924600.ta.chkpt\" at 2024-07-06 18:15:24 after 495 attacks.\n"
     ]
    },
    {
     "name": "stdout",
     "output_type": "stream",
     "text": [
      "\n",
      "\n",
      "=============================================================================================================================\n",
      "=============================================================================================================================\n",
      "\n"
     ]
    },
    {
     "name": "stderr",
     "output_type": "stream",
     "text": [
      "[Succeeded / Failed / Skipped / Total] 140 / 240 / 120 / 500: 100%|██████████████████| 500/500 [06:01<00:00,  1.38it/s]textattack: Saving checkpoint under \"checkpoints\\1720260929835.ta.chkpt\" at 2024-07-06 18:15:29 after 500 attacks.\n",
      "[Succeeded / Failed / Skipped / Total] 140 / 240 / 120 / 500: 100%|██████████████████| 500/500 [06:01<00:00,  1.38it/s]"
     ]
    },
    {
     "name": "stdout",
     "output_type": "stream",
     "text": [
      "\n",
      "\n",
      "=============================================================================================================================\n",
      "=============================================================================================================================\n",
      "\n",
      "\n",
      "+-------------------------------+--------+\n",
      "| Attack Results                |        |\n",
      "+-------------------------------+--------+\n",
      "| Number of successful attacks: | 140    |\n",
      "| Number of failed attacks:     | 240    |\n",
      "| Number of skipped attacks:    | 120    |\n",
      "| Original accuracy:            | 76.0%  |\n",
      "| Accuracy under attack:        | 48.0%  |\n",
      "| Attack success rate:          | 36.84% |\n",
      "| Average perturbed word %:     | 13.31% |\n",
      "| Average num. words per input: | 18.4   |\n",
      "| Avg num queries:              | 22.13  |\n",
      "+-------------------------------+--------+\n"
     ]
    },
    {
     "name": "stderr",
     "output_type": "stream",
     "text": [
      "\n"
     ]
    }
   ],
   "source": [
    "runAttack(disbert_model_wrapper_rf_mr, n_samples, 'attack_results_new/disbertmrattackrf'+suffix, target_ds_mr)"
   ]
  },
  {
   "cell_type": "code",
   "execution_count": 22,
   "id": "006c3e60-dada-40b1-ab23-2ff6171400d3",
   "metadata": {},
   "outputs": [
    {
     "name": "stderr",
     "output_type": "stream",
     "text": [
      "textattack: Unknown if model of class <class 'transformers.models.distilbert.modeling_distilbert.DistilBertModel'> compatible with goal function <class 'textattack.goal_functions.classification.untargeted_classification.UntargetedClassification'>.\n",
      "textattack: Logging to CSV at path attack_results_new/disbertmrattackknnsim09.csv\n"
     ]
    },
    {
     "name": "stdout",
     "output_type": "stream",
     "text": [
      "Attack(\n",
      "  (search_method): GreedyWordSwapWIR(\n",
      "    (wir_method):  delete\n",
      "  )\n",
      "  (goal_function):  UntargetedClassification\n",
      "  (transformation):  WordSwapEmbedding(\n",
      "    (max_candidates):  50\n",
      "    (embedding):  WordEmbedding\n",
      "  )\n",
      "  (constraints): \n",
      "    (0): WordEmbeddingDistance(\n",
      "        (embedding):  WordEmbedding\n",
      "        (min_cos_sim):  0.9\n",
      "        (cased):  False\n",
      "        (include_unknown_words):  True\n",
      "        (compare_against_original):  True\n",
      "      )\n",
      "    (1): PartOfSpeech(\n",
      "        (tagger_type):  nltk\n",
      "        (tagset):  universal\n",
      "        (allow_verb_noun_swap):  True\n",
      "        (compare_against_original):  True\n",
      "      )\n",
      "    (2): UniversalSentenceEncoder(\n",
      "        (metric):  angular\n",
      "        (threshold):  0.840845057\n",
      "        (window_size):  15\n",
      "        (skip_text_shorter_than_window):  True\n",
      "        (compare_against_original):  False\n",
      "      )\n",
      "    (3): RepeatModification\n",
      "    (4): StopwordModification\n",
      "    (5): InputColumnModification(\n",
      "        (matching_column_labels):  ['premise', 'hypothesis']\n",
      "        (columns_to_ignore):  {'premise'}\n",
      "      )\n",
      "  (is_black_box):  True\n",
      ") \n",
      "\n"
     ]
    },
    {
     "name": "stderr",
     "output_type": "stream",
     "text": [
      "[Succeeded / Failed / Skipped / Total] 2 / 3 / 0 / 5:   1%|▎                           | 5/500 [00:10<16:49,  2.04s/it]textattack: Saving checkpoint under \"checkpoints\\1720260940155.ta.chkpt\" at 2024-07-06 18:15:40 after 5 attacks.\n",
      "[Succeeded / Failed / Skipped / Total] 2 / 3 / 2 / 7:   1%|▍                           | 7/500 [00:10<12:07,  1.48s/it]"
     ]
    },
    {
     "name": "stdout",
     "output_type": "stream",
     "text": [
      "\n",
      "\n",
      "=============================================================================================================================\n",
      "=============================================================================================================================\n",
      "\n"
     ]
    },
    {
     "name": "stderr",
     "output_type": "stream",
     "text": [
      "[Succeeded / Failed / Skipped / Total] 3 / 5 / 2 / 10:   2%|▌                         | 10/500 [00:13<11:11,  1.37s/it]textattack: Saving checkpoint under \"checkpoints\\1720260943670.ta.chkpt\" at 2024-07-06 18:15:43 after 10 attacks.\n"
     ]
    },
    {
     "name": "stdout",
     "output_type": "stream",
     "text": [
      "\n",
      "\n",
      "=============================================================================================================================\n",
      "=============================================================================================================================\n",
      "\n"
     ]
    },
    {
     "name": "stderr",
     "output_type": "stream",
     "text": [
      "[Succeeded / Failed / Skipped / Total] 4 / 8 / 3 / 15:   3%|▊                         | 15/500 [00:18<09:48,  1.21s/it]textattack: Saving checkpoint under \"checkpoints\\1720260948155.ta.chkpt\" at 2024-07-06 18:15:48 after 15 attacks.\n"
     ]
    },
    {
     "name": "stdout",
     "output_type": "stream",
     "text": [
      "\n",
      "\n",
      "=============================================================================================================================\n",
      "=============================================================================================================================\n",
      "\n"
     ]
    },
    {
     "name": "stderr",
     "output_type": "stream",
     "text": [
      "[Succeeded / Failed / Skipped / Total] 5 / 11 / 4 / 20:   4%|█                        | 20/500 [00:20<08:17,  1.04s/it]textattack: Saving checkpoint under \"checkpoints\\1720260950671.ta.chkpt\" at 2024-07-06 18:15:50 after 20 attacks.\n"
     ]
    },
    {
     "name": "stdout",
     "output_type": "stream",
     "text": [
      "\n",
      "\n",
      "=============================================================================================================================\n",
      "=============================================================================================================================\n",
      "\n"
     ]
    },
    {
     "name": "stderr",
     "output_type": "stream",
     "text": [
      "[Succeeded / Failed / Skipped / Total] 7 / 13 / 5 / 25:   5%|█▎                       | 25/500 [00:24<07:46,  1.02it/s]textattack: Saving checkpoint under \"checkpoints\\1720260954515.ta.chkpt\" at 2024-07-06 18:15:54 after 25 attacks.\n"
     ]
    },
    {
     "name": "stdout",
     "output_type": "stream",
     "text": [
      "\n",
      "\n",
      "=============================================================================================================================\n",
      "=============================================================================================================================\n",
      "\n"
     ]
    },
    {
     "name": "stderr",
     "output_type": "stream",
     "text": [
      "[Succeeded / Failed / Skipped / Total] 9 / 15 / 6 / 30:   6%|█▌                       | 30/500 [00:27<07:13,  1.08it/s]textattack: Saving checkpoint under \"checkpoints\\1720260957656.ta.chkpt\" at 2024-07-06 18:15:57 after 30 attacks.\n"
     ]
    },
    {
     "name": "stdout",
     "output_type": "stream",
     "text": [
      "\n",
      "\n",
      "=============================================================================================================================\n",
      "=============================================================================================================================\n",
      "\n"
     ]
    },
    {
     "name": "stderr",
     "output_type": "stream",
     "text": [
      "[Succeeded / Failed / Skipped / Total] 11 / 16 / 8 / 35:   7%|█▋                      | 35/500 [00:29<06:33,  1.18it/s]textattack: Saving checkpoint under \"checkpoints\\1720260959564.ta.chkpt\" at 2024-07-06 18:15:59 after 35 attacks.\n"
     ]
    },
    {
     "name": "stdout",
     "output_type": "stream",
     "text": [
      "\n",
      "\n",
      "=============================================================================================================================\n",
      "=============================================================================================================================\n",
      "\n"
     ]
    },
    {
     "name": "stderr",
     "output_type": "stream",
     "text": [
      "[Succeeded / Failed / Skipped / Total] 13 / 16 / 11 / 40:   8%|█▊                     | 40/500 [00:31<06:02,  1.27it/s]textattack: Saving checkpoint under \"checkpoints\\1720260961486.ta.chkpt\" at 2024-07-06 18:16:01 after 40 attacks.\n"
     ]
    },
    {
     "name": "stdout",
     "output_type": "stream",
     "text": [
      "\n",
      "\n",
      "=============================================================================================================================\n",
      "=============================================================================================================================\n",
      "\n"
     ]
    },
    {
     "name": "stderr",
     "output_type": "stream",
     "text": [
      "[Succeeded / Failed / Skipped / Total] 17 / 16 / 12 / 45:   9%|██                     | 45/500 [00:37<06:16,  1.21it/s]textattack: Saving checkpoint under \"checkpoints\\1720260967220.ta.chkpt\" at 2024-07-06 18:16:07 after 45 attacks.\n",
      "[Succeeded / Failed / Skipped / Total] 17 / 16 / 13 / 46:   9%|██                     | 46/500 [00:37<06:08,  1.23it/s]"
     ]
    },
    {
     "name": "stdout",
     "output_type": "stream",
     "text": [
      "\n",
      "\n",
      "=============================================================================================================================\n",
      "=============================================================================================================================\n",
      "\n"
     ]
    },
    {
     "name": "stderr",
     "output_type": "stream",
     "text": [
      "[Succeeded / Failed / Skipped / Total] 19 / 18 / 13 / 50:  10%|██▎                    | 50/500 [00:40<06:02,  1.24it/s]textattack: Saving checkpoint under \"checkpoints\\1720260970205.ta.chkpt\" at 2024-07-06 18:16:10 after 50 attacks.\n"
     ]
    },
    {
     "name": "stdout",
     "output_type": "stream",
     "text": [
      "\n",
      "\n",
      "=============================================================================================================================\n",
      "=============================================================================================================================\n",
      "\n"
     ]
    },
    {
     "name": "stderr",
     "output_type": "stream",
     "text": [
      "[Succeeded / Failed / Skipped / Total] 21 / 20 / 14 / 55:  11%|██▌                    | 55/500 [00:43<05:53,  1.26it/s]textattack: Saving checkpoint under \"checkpoints\\1720260973659.ta.chkpt\" at 2024-07-06 18:16:13 after 55 attacks.\n"
     ]
    },
    {
     "name": "stdout",
     "output_type": "stream",
     "text": [
      "\n",
      "\n",
      "=============================================================================================================================\n",
      "=============================================================================================================================\n",
      "\n"
     ]
    },
    {
     "name": "stderr",
     "output_type": "stream",
     "text": [
      "[Succeeded / Failed / Skipped / Total] 22 / 23 / 15 / 60:  12%|██▊                    | 60/500 [00:47<05:45,  1.27it/s]textattack: Saving checkpoint under \"checkpoints\\1720260977097.ta.chkpt\" at 2024-07-06 18:16:17 after 60 attacks.\n",
      "[Succeeded / Failed / Skipped / Total] 22 / 23 / 17 / 62:  12%|██▊                    | 62/500 [00:47<05:34,  1.31it/s]"
     ]
    },
    {
     "name": "stdout",
     "output_type": "stream",
     "text": [
      "\n",
      "\n",
      "=============================================================================================================================\n",
      "=============================================================================================================================\n",
      "\n"
     ]
    },
    {
     "name": "stderr",
     "output_type": "stream",
     "text": [
      "[Succeeded / Failed / Skipped / Total] 22 / 25 / 18 / 65:  13%|██▉                    | 65/500 [00:48<05:21,  1.35it/s]textattack: Saving checkpoint under \"checkpoints\\1720260978019.ta.chkpt\" at 2024-07-06 18:16:18 after 65 attacks.\n"
     ]
    },
    {
     "name": "stdout",
     "output_type": "stream",
     "text": [
      "\n",
      "\n",
      "=============================================================================================================================\n",
      "=============================================================================================================================\n",
      "\n"
     ]
    },
    {
     "name": "stderr",
     "output_type": "stream",
     "text": [
      "[Succeeded / Failed / Skipped / Total] 24 / 27 / 19 / 70:  14%|███▏                   | 70/500 [00:50<05:09,  1.39it/s]textattack: Saving checkpoint under \"checkpoints\\1720260980410.ta.chkpt\" at 2024-07-06 18:16:20 after 70 attacks.\n"
     ]
    },
    {
     "name": "stdout",
     "output_type": "stream",
     "text": [
      "\n",
      "\n",
      "=============================================================================================================================\n",
      "=============================================================================================================================\n",
      "\n"
     ]
    },
    {
     "name": "stderr",
     "output_type": "stream",
     "text": [
      "[Succeeded / Failed / Skipped / Total] 25 / 30 / 20 / 75:  15%|███▍                   | 75/500 [00:53<05:03,  1.40it/s]textattack: Saving checkpoint under \"checkpoints\\1720260983441.ta.chkpt\" at 2024-07-06 18:16:23 after 75 attacks.\n",
      "[Succeeded / Failed / Skipped / Total] 25 / 30 / 21 / 76:  15%|███▍                   | 76/500 [00:53<04:58,  1.42it/s]"
     ]
    },
    {
     "name": "stdout",
     "output_type": "stream",
     "text": [
      "\n",
      "\n",
      "=============================================================================================================================\n",
      "=============================================================================================================================\n",
      "\n"
     ]
    },
    {
     "name": "stderr",
     "output_type": "stream",
     "text": [
      "[Succeeded / Failed / Skipped / Total] 26 / 32 / 22 / 80:  16%|███▋                   | 80/500 [00:55<04:49,  1.45it/s]textattack: Saving checkpoint under \"checkpoints\\1720260985191.ta.chkpt\" at 2024-07-06 18:16:25 after 80 attacks.\n",
      "[Succeeded / Failed / Skipped / Total] 26 / 32 / 24 / 82:  16%|███▊                   | 82/500 [00:55<04:42,  1.48it/s]"
     ]
    },
    {
     "name": "stdout",
     "output_type": "stream",
     "text": [
      "\n",
      "\n",
      "=============================================================================================================================\n",
      "=============================================================================================================================\n",
      "\n"
     ]
    },
    {
     "name": "stderr",
     "output_type": "stream",
     "text": [
      "[Succeeded / Failed / Skipped / Total] 27 / 33 / 25 / 85:  17%|███▉                   | 85/500 [00:56<04:35,  1.50it/s]textattack: Saving checkpoint under \"checkpoints\\1720260986457.ta.chkpt\" at 2024-07-06 18:16:26 after 85 attacks.\n",
      "[Succeeded / Failed / Skipped / Total] 27 / 33 / 27 / 87:  17%|████                   | 87/500 [00:56<04:29,  1.54it/s]"
     ]
    },
    {
     "name": "stdout",
     "output_type": "stream",
     "text": [
      "\n",
      "\n",
      "=============================================================================================================================\n",
      "=============================================================================================================================\n",
      "\n"
     ]
    },
    {
     "name": "stderr",
     "output_type": "stream",
     "text": [
      "[Succeeded / Failed / Skipped / Total] 29 / 33 / 28 / 90:  18%|████▏                  | 90/500 [00:57<04:21,  1.57it/s]textattack: Saving checkpoint under \"checkpoints\\1720260987442.ta.chkpt\" at 2024-07-06 18:16:27 after 90 attacks.\n"
     ]
    },
    {
     "name": "stdout",
     "output_type": "stream",
     "text": [
      "\n",
      "\n",
      "=============================================================================================================================\n",
      "=============================================================================================================================\n",
      "\n"
     ]
    },
    {
     "name": "stderr",
     "output_type": "stream",
     "text": [
      "[Succeeded / Failed / Skipped / Total] 31 / 33 / 31 / 95:  19%|████▎                  | 95/500 [00:58<04:10,  1.62it/s]textattack: Saving checkpoint under \"checkpoints\\1720260988692.ta.chkpt\" at 2024-07-06 18:16:28 after 95 attacks.\n"
     ]
    },
    {
     "name": "stdout",
     "output_type": "stream",
     "text": [
      "\n",
      "\n",
      "=============================================================================================================================\n",
      "=============================================================================================================================\n",
      "\n"
     ]
    },
    {
     "name": "stderr",
     "output_type": "stream",
     "text": [
      "[Succeeded / Failed / Skipped / Total] 33 / 36 / 31 / 100:  20%|████▏                | 100/500 [01:02<04:08,  1.61it/s]textattack: Saving checkpoint under \"checkpoints\\1720260992145.ta.chkpt\" at 2024-07-06 18:16:32 after 100 attacks.\n"
     ]
    },
    {
     "name": "stdout",
     "output_type": "stream",
     "text": [
      "\n",
      "\n",
      "=============================================================================================================================\n",
      "=============================================================================================================================\n",
      "\n"
     ]
    },
    {
     "name": "stderr",
     "output_type": "stream",
     "text": [
      "[Succeeded / Failed / Skipped / Total] 34 / 39 / 32 / 105:  21%|████▍                | 105/500 [01:07<04:13,  1.56it/s]textattack: Saving checkpoint under \"checkpoints\\1720260997474.ta.chkpt\" at 2024-07-06 18:16:37 after 105 attacks.\n",
      "[Succeeded / Failed / Skipped / Total] 34 / 39 / 33 / 106:  21%|████▍                | 106/500 [01:07<04:11,  1.57it/s]"
     ]
    },
    {
     "name": "stdout",
     "output_type": "stream",
     "text": [
      "\n",
      "\n",
      "=============================================================================================================================\n",
      "=============================================================================================================================\n",
      "\n"
     ]
    },
    {
     "name": "stderr",
     "output_type": "stream",
     "text": [
      "[Succeeded / Failed / Skipped / Total] 37 / 39 / 34 / 110:  22%|████▌                | 110/500 [01:09<04:05,  1.59it/s]textattack: Saving checkpoint under \"checkpoints\\1720260999115.ta.chkpt\" at 2024-07-06 18:16:39 after 110 attacks.\n",
      "[Succeeded / Failed / Skipped / Total] 37 / 39 / 35 / 111:  22%|████▋                | 111/500 [01:09<04:02,  1.60it/s]"
     ]
    },
    {
     "name": "stdout",
     "output_type": "stream",
     "text": [
      "\n",
      "\n",
      "=============================================================================================================================\n",
      "=============================================================================================================================\n",
      "\n"
     ]
    },
    {
     "name": "stderr",
     "output_type": "stream",
     "text": [
      "[Succeeded / Failed / Skipped / Total] 37 / 42 / 36 / 115:  23%|████▊                | 115/500 [01:13<04:07,  1.56it/s]textattack: Saving checkpoint under \"checkpoints\\1720261003756.ta.chkpt\" at 2024-07-06 18:16:43 after 115 attacks.\n"
     ]
    },
    {
     "name": "stdout",
     "output_type": "stream",
     "text": [
      "\n",
      "\n",
      "=============================================================================================================================\n",
      "=============================================================================================================================\n",
      "\n"
     ]
    },
    {
     "name": "stderr",
     "output_type": "stream",
     "text": [
      "[Succeeded / Failed / Skipped / Total] 37 / 46 / 37 / 120:  24%|█████                | 120/500 [01:16<04:01,  1.58it/s]textattack: Saving checkpoint under \"checkpoints\\1720261006084.ta.chkpt\" at 2024-07-06 18:16:46 after 120 attacks.\n",
      "[Succeeded / Failed / Skipped / Total] 37 / 46 / 38 / 121:  24%|█████                | 121/500 [01:16<03:58,  1.59it/s]"
     ]
    },
    {
     "name": "stdout",
     "output_type": "stream",
     "text": [
      "\n",
      "\n",
      "=============================================================================================================================\n",
      "=============================================================================================================================\n",
      "\n"
     ]
    },
    {
     "name": "stderr",
     "output_type": "stream",
     "text": [
      "[Succeeded / Failed / Skipped / Total] 39 / 46 / 40 / 125:  25%|█████▎               | 125/500 [01:17<03:51,  1.62it/s]textattack: Saving checkpoint under \"checkpoints\\1720261007084.ta.chkpt\" at 2024-07-06 18:16:47 after 125 attacks.\n"
     ]
    },
    {
     "name": "stdout",
     "output_type": "stream",
     "text": [
      "\n",
      "\n",
      "=============================================================================================================================\n",
      "=============================================================================================================================\n",
      "\n"
     ]
    },
    {
     "name": "stderr",
     "output_type": "stream",
     "text": [
      "[Succeeded / Failed / Skipped / Total] 41 / 48 / 41 / 130:  26%|█████▍               | 130/500 [01:20<03:49,  1.61it/s]textattack: Saving checkpoint under \"checkpoints\\1720261010615.ta.chkpt\" at 2024-07-06 18:16:50 after 130 attacks.\n",
      "[Succeeded / Failed / Skipped / Total] 41 / 48 / 42 / 131:  26%|█████▌               | 131/500 [01:20<03:47,  1.62it/s]"
     ]
    },
    {
     "name": "stdout",
     "output_type": "stream",
     "text": [
      "\n",
      "\n",
      "=============================================================================================================================\n",
      "=============================================================================================================================\n",
      "\n"
     ]
    },
    {
     "name": "stderr",
     "output_type": "stream",
     "text": [
      "[Succeeded / Failed / Skipped / Total] 43 / 49 / 43 / 135:  27%|█████▋               | 135/500 [01:24<03:48,  1.60it/s]textattack: Saving checkpoint under \"checkpoints\\1720261014553.ta.chkpt\" at 2024-07-06 18:16:54 after 135 attacks.\n"
     ]
    },
    {
     "name": "stdout",
     "output_type": "stream",
     "text": [
      "\n",
      "\n",
      "=============================================================================================================================\n",
      "=============================================================================================================================\n",
      "\n"
     ]
    },
    {
     "name": "stderr",
     "output_type": "stream",
     "text": [
      "[Succeeded / Failed / Skipped / Total] 46 / 50 / 44 / 140:  28%|█████▉               | 140/500 [01:29<03:49,  1.57it/s]textattack: Saving checkpoint under \"checkpoints\\1720261019257.ta.chkpt\" at 2024-07-06 18:16:59 after 140 attacks.\n"
     ]
    },
    {
     "name": "stdout",
     "output_type": "stream",
     "text": [
      "\n",
      "\n",
      "=============================================================================================================================\n",
      "=============================================================================================================================\n",
      "\n"
     ]
    },
    {
     "name": "stderr",
     "output_type": "stream",
     "text": [
      "[Succeeded / Failed / Skipped / Total] 49 / 52 / 44 / 145:  29%|██████               | 145/500 [01:32<03:46,  1.57it/s]textattack: Saving checkpoint under \"checkpoints\\1720261022476.ta.chkpt\" at 2024-07-06 18:17:02 after 145 attacks.\n",
      "[Succeeded / Failed / Skipped / Total] 49 / 52 / 46 / 147:  29%|██████▏              | 147/500 [01:32<03:42,  1.59it/s]"
     ]
    },
    {
     "name": "stdout",
     "output_type": "stream",
     "text": [
      "\n",
      "\n",
      "=============================================================================================================================\n",
      "=============================================================================================================================\n",
      "\n"
     ]
    },
    {
     "name": "stderr",
     "output_type": "stream",
     "text": [
      "[Succeeded / Failed / Skipped / Total] 50 / 53 / 47 / 150:  30%|██████▎              | 150/500 [01:33<03:38,  1.60it/s]textattack: Saving checkpoint under \"checkpoints\\1720261023741.ta.chkpt\" at 2024-07-06 18:17:03 after 150 attacks.\n",
      "[Succeeded / Failed / Skipped / Total] 50 / 53 / 49 / 152:  30%|██████▍              | 152/500 [01:33<03:35,  1.62it/s]"
     ]
    },
    {
     "name": "stdout",
     "output_type": "stream",
     "text": [
      "\n",
      "\n",
      "=============================================================================================================================\n",
      "=============================================================================================================================\n",
      "\n"
     ]
    },
    {
     "name": "stderr",
     "output_type": "stream",
     "text": [
      "[Succeeded / Failed / Skipped / Total] 51 / 54 / 50 / 155:  31%|██████▌              | 155/500 [01:34<03:31,  1.63it/s]textattack: Saving checkpoint under \"checkpoints\\1720261024820.ta.chkpt\" at 2024-07-06 18:17:04 after 155 attacks.\n"
     ]
    },
    {
     "name": "stdout",
     "output_type": "stream",
     "text": [
      "\n",
      "\n",
      "=============================================================================================================================\n",
      "=============================================================================================================================\n",
      "\n"
     ]
    },
    {
     "name": "stderr",
     "output_type": "stream",
     "text": [
      "[Succeeded / Failed / Skipped / Total] 52 / 57 / 51 / 160:  32%|██████▋              | 160/500 [01:39<03:32,  1.60it/s]textattack: Saving checkpoint under \"checkpoints\\1720261029882.ta.chkpt\" at 2024-07-06 18:17:09 after 160 attacks.\n",
      "[Succeeded / Failed / Skipped / Total] 52 / 57 / 52 / 161:  32%|██████▊              | 161/500 [01:40<03:30,  1.61it/s]"
     ]
    },
    {
     "name": "stdout",
     "output_type": "stream",
     "text": [
      "\n",
      "\n",
      "=============================================================================================================================\n",
      "=============================================================================================================================\n",
      "\n"
     ]
    },
    {
     "name": "stderr",
     "output_type": "stream",
     "text": [
      "[Succeeded / Failed / Skipped / Total] 54 / 58 / 53 / 165:  33%|██████▉              | 165/500 [01:42<03:27,  1.62it/s]textattack: Saving checkpoint under \"checkpoints\\1720261031976.ta.chkpt\" at 2024-07-06 18:17:11 after 165 attacks.\n",
      "[Succeeded / Failed / Skipped / Total] 54 / 58 / 55 / 167:  33%|███████              | 167/500 [01:42<03:23,  1.63it/s]"
     ]
    },
    {
     "name": "stdout",
     "output_type": "stream",
     "text": [
      "\n",
      "\n",
      "=============================================================================================================================\n",
      "=============================================================================================================================\n",
      "\n"
     ]
    },
    {
     "name": "stderr",
     "output_type": "stream",
     "text": [
      "[Succeeded / Failed / Skipped / Total] 56 / 59 / 55 / 170:  34%|███████▏             | 170/500 [01:43<03:21,  1.64it/s]textattack: Saving checkpoint under \"checkpoints\\1720261033773.ta.chkpt\" at 2024-07-06 18:17:13 after 170 attacks.\n"
     ]
    },
    {
     "name": "stdout",
     "output_type": "stream",
     "text": [
      "\n",
      "\n",
      "=============================================================================================================================\n",
      "=============================================================================================================================\n",
      "\n"
     ]
    },
    {
     "name": "stderr",
     "output_type": "stream",
     "text": [
      "[Succeeded / Failed / Skipped / Total] 57 / 61 / 57 / 175:  35%|███████▎             | 175/500 [01:48<03:21,  1.61it/s]textattack: Saving checkpoint under \"checkpoints\\1720261038649.ta.chkpt\" at 2024-07-06 18:17:18 after 175 attacks.\n"
     ]
    },
    {
     "name": "stdout",
     "output_type": "stream",
     "text": [
      "\n",
      "\n",
      "=============================================================================================================================\n",
      "=============================================================================================================================\n",
      "\n"
     ]
    },
    {
     "name": "stderr",
     "output_type": "stream",
     "text": [
      "[Succeeded / Failed / Skipped / Total] 59 / 63 / 58 / 180:  36%|███████▌             | 180/500 [01:51<03:18,  1.61it/s]textattack: Saving checkpoint under \"checkpoints\\1720261041868.ta.chkpt\" at 2024-07-06 18:17:21 after 180 attacks.\n"
     ]
    },
    {
     "name": "stdout",
     "output_type": "stream",
     "text": [
      "\n",
      "\n",
      "=============================================================================================================================\n",
      "=============================================================================================================================\n",
      "\n"
     ]
    },
    {
     "name": "stderr",
     "output_type": "stream",
     "text": [
      "[Succeeded / Failed / Skipped / Total] 62 / 64 / 59 / 185:  37%|███████▊             | 185/500 [01:53<03:13,  1.63it/s]textattack: Saving checkpoint under \"checkpoints\\1720261043571.ta.chkpt\" at 2024-07-06 18:17:23 after 185 attacks.\n"
     ]
    },
    {
     "name": "stdout",
     "output_type": "stream",
     "text": [
      "\n",
      "\n",
      "=============================================================================================================================\n",
      "=============================================================================================================================\n",
      "\n"
     ]
    },
    {
     "name": "stderr",
     "output_type": "stream",
     "text": [
      "[Succeeded / Failed / Skipped / Total] 63 / 66 / 61 / 190:  38%|███████▉             | 190/500 [01:57<03:11,  1.62it/s]textattack: Saving checkpoint under \"checkpoints\\1720261047462.ta.chkpt\" at 2024-07-06 18:17:27 after 190 attacks.\n"
     ]
    },
    {
     "name": "stdout",
     "output_type": "stream",
     "text": [
      "\n",
      "\n",
      "=============================================================================================================================\n",
      "=============================================================================================================================\n",
      "\n"
     ]
    },
    {
     "name": "stderr",
     "output_type": "stream",
     "text": [
      "[Succeeded / Failed / Skipped / Total] 64 / 70 / 61 / 195:  39%|████████▏            | 195/500 [02:03<03:13,  1.57it/s]textattack: Saving checkpoint under \"checkpoints\\1720261053822.ta.chkpt\" at 2024-07-06 18:17:33 after 195 attacks.\n"
     ]
    },
    {
     "name": "stdout",
     "output_type": "stream",
     "text": [
      "\n",
      "\n",
      "=============================================================================================================================\n",
      "=============================================================================================================================\n",
      "\n"
     ]
    },
    {
     "name": "stderr",
     "output_type": "stream",
     "text": [
      "[Succeeded / Failed / Skipped / Total] 66 / 72 / 62 / 200:  40%|████████▍            | 200/500 [02:11<03:16,  1.53it/s]textattack: Saving checkpoint under \"checkpoints\\1720261060963.ta.chkpt\" at 2024-07-06 18:17:40 after 200 attacks.\n"
     ]
    },
    {
     "name": "stdout",
     "output_type": "stream",
     "text": [
      "\n",
      "\n",
      "=============================================================================================================================\n",
      "=============================================================================================================================\n",
      "\n"
     ]
    },
    {
     "name": "stderr",
     "output_type": "stream",
     "text": [
      "[Succeeded / Failed / Skipped / Total] 67 / 74 / 64 / 205:  41%|████████▌            | 205/500 [02:12<03:10,  1.54it/s]textattack: Saving checkpoint under \"checkpoints\\1720261062666.ta.chkpt\" at 2024-07-06 18:17:42 after 205 attacks.\n"
     ]
    },
    {
     "name": "stdout",
     "output_type": "stream",
     "text": [
      "\n",
      "\n",
      "=============================================================================================================================\n",
      "=============================================================================================================================\n",
      "\n"
     ]
    },
    {
     "name": "stderr",
     "output_type": "stream",
     "text": [
      "[Succeeded / Failed / Skipped / Total] 68 / 76 / 66 / 210:  42%|████████▊            | 210/500 [02:16<03:08,  1.54it/s]textattack: Saving checkpoint under \"checkpoints\\1720261066291.ta.chkpt\" at 2024-07-06 18:17:46 after 210 attacks.\n"
     ]
    },
    {
     "name": "stdout",
     "output_type": "stream",
     "text": [
      "\n",
      "\n",
      "=============================================================================================================================\n",
      "=============================================================================================================================\n",
      "\n"
     ]
    },
    {
     "name": "stderr",
     "output_type": "stream",
     "text": [
      "[Succeeded / Failed / Skipped / Total] 70 / 79 / 66 / 215:  43%|█████████            | 215/500 [02:20<03:06,  1.53it/s]textattack: Saving checkpoint under \"checkpoints\\1720261070745.ta.chkpt\" at 2024-07-06 18:17:50 after 215 attacks.\n"
     ]
    },
    {
     "name": "stdout",
     "output_type": "stream",
     "text": [
      "\n",
      "\n",
      "=============================================================================================================================\n",
      "=============================================================================================================================\n",
      "\n"
     ]
    },
    {
     "name": "stderr",
     "output_type": "stream",
     "text": [
      "[Succeeded / Failed / Skipped / Total] 72 / 80 / 68 / 220:  44%|█████████▏           | 220/500 [02:22<03:01,  1.54it/s]textattack: Saving checkpoint under \"checkpoints\\1720261072823.ta.chkpt\" at 2024-07-06 18:17:52 after 220 attacks.\n"
     ]
    },
    {
     "name": "stdout",
     "output_type": "stream",
     "text": [
      "\n",
      "\n",
      "=============================================================================================================================\n",
      "=============================================================================================================================\n",
      "\n"
     ]
    },
    {
     "name": "stderr",
     "output_type": "stream",
     "text": [
      "[Succeeded / Failed / Skipped / Total] 75 / 81 / 69 / 225:  45%|█████████▍           | 225/500 [02:25<02:58,  1.54it/s]textattack: Saving checkpoint under \"checkpoints\\1720261075636.ta.chkpt\" at 2024-07-06 18:17:55 after 225 attacks.\n"
     ]
    },
    {
     "name": "stdout",
     "output_type": "stream",
     "text": [
      "\n",
      "\n",
      "=============================================================================================================================\n",
      "=============================================================================================================================\n",
      "\n"
     ]
    },
    {
     "name": "stderr",
     "output_type": "stream",
     "text": [
      "[Succeeded / Failed / Skipped / Total] 77 / 83 / 70 / 230:  46%|█████████▋           | 230/500 [02:27<02:53,  1.55it/s]textattack: Saving checkpoint under \"checkpoints\\1720261077948.ta.chkpt\" at 2024-07-06 18:17:57 after 230 attacks.\n"
     ]
    },
    {
     "name": "stdout",
     "output_type": "stream",
     "text": [
      "\n",
      "\n",
      "=============================================================================================================================\n",
      "=============================================================================================================================\n",
      "\n"
     ]
    },
    {
     "name": "stderr",
     "output_type": "stream",
     "text": [
      "[Succeeded / Failed / Skipped / Total] 79 / 86 / 70 / 235:  47%|█████████▊           | 235/500 [02:32<02:51,  1.54it/s]textattack: Saving checkpoint under \"checkpoints\\1720261082355.ta.chkpt\" at 2024-07-06 18:18:02 after 235 attacks.\n"
     ]
    },
    {
     "name": "stdout",
     "output_type": "stream",
     "text": [
      "\n",
      "\n",
      "=============================================================================================================================\n",
      "=============================================================================================================================\n",
      "\n"
     ]
    },
    {
     "name": "stderr",
     "output_type": "stream",
     "text": [
      "[Succeeded / Failed / Skipped / Total] 82 / 88 / 70 / 240:  48%|██████████           | 240/500 [02:35<02:48,  1.54it/s]textattack: Saving checkpoint under \"checkpoints\\1720261085339.ta.chkpt\" at 2024-07-06 18:18:05 after 240 attacks.\n",
      "[Succeeded / Failed / Skipped / Total] 82 / 88 / 71 / 241:  48%|██████████           | 241/500 [02:35<02:47,  1.55it/s]"
     ]
    },
    {
     "name": "stdout",
     "output_type": "stream",
     "text": [
      "\n",
      "\n",
      "=============================================================================================================================\n",
      "=============================================================================================================================\n",
      "\n"
     ]
    },
    {
     "name": "stderr",
     "output_type": "stream",
     "text": [
      "[Succeeded / Failed / Skipped / Total] 82 / 91 / 72 / 245:  49%|██████████▎          | 245/500 [02:38<02:44,  1.55it/s]textattack: Saving checkpoint under \"checkpoints\\1720261088433.ta.chkpt\" at 2024-07-06 18:18:08 after 245 attacks.\n"
     ]
    },
    {
     "name": "stdout",
     "output_type": "stream",
     "text": [
      "\n",
      "\n",
      "=============================================================================================================================\n",
      "=============================================================================================================================\n",
      "\n"
     ]
    },
    {
     "name": "stderr",
     "output_type": "stream",
     "text": [
      "[Succeeded / Failed / Skipped / Total] 83 / 94 / 73 / 250:  50%|██████████▌          | 250/500 [02:40<02:40,  1.56it/s]textattack: Saving checkpoint under \"checkpoints\\1720261090699.ta.chkpt\" at 2024-07-06 18:18:10 after 250 attacks.\n"
     ]
    },
    {
     "name": "stdout",
     "output_type": "stream",
     "text": [
      "\n",
      "\n",
      "=============================================================================================================================\n",
      "=============================================================================================================================\n",
      "\n"
     ]
    },
    {
     "name": "stderr",
     "output_type": "stream",
     "text": [
      "[Succeeded / Failed / Skipped / Total] 88 / 94 / 73 / 255:  51%|██████████▋          | 255/500 [02:43<02:37,  1.56it/s]textattack: Saving checkpoint under \"checkpoints\\1720261093387.ta.chkpt\" at 2024-07-06 18:18:13 after 255 attacks.\n"
     ]
    },
    {
     "name": "stdout",
     "output_type": "stream",
     "text": [
      "\n",
      "\n",
      "=============================================================================================================================\n",
      "=============================================================================================================================\n",
      "\n"
     ]
    },
    {
     "name": "stderr",
     "output_type": "stream",
     "text": [
      "[Succeeded / Failed / Skipped / Total] 90 / 95 / 75 / 260:  52%|██████████▉          | 260/500 [02:46<02:33,  1.56it/s]textattack: Saving checkpoint under \"checkpoints\\1720261096262.ta.chkpt\" at 2024-07-06 18:18:16 after 260 attacks.\n"
     ]
    },
    {
     "name": "stdout",
     "output_type": "stream",
     "text": [
      "\n",
      "\n",
      "=============================================================================================================================\n",
      "=============================================================================================================================\n",
      "\n"
     ]
    },
    {
     "name": "stderr",
     "output_type": "stream",
     "text": [
      "[Succeeded / Failed / Skipped / Total] 93 / 97 / 75 / 265:  53%|███████████▏         | 265/500 [02:49<02:30,  1.56it/s]textattack: Saving checkpoint under \"checkpoints\\1720261099716.ta.chkpt\" at 2024-07-06 18:18:19 after 265 attacks.\n"
     ]
    },
    {
     "name": "stdout",
     "output_type": "stream",
     "text": [
      "\n",
      "\n",
      "=============================================================================================================================\n",
      "=============================================================================================================================\n",
      "\n"
     ]
    },
    {
     "name": "stderr",
     "output_type": "stream",
     "text": [
      "[Succeeded / Failed / Skipped / Total] 95 / 99 / 76 / 270:  54%|███████████▎         | 270/500 [02:54<02:28,  1.55it/s]textattack: Saving checkpoint under \"checkpoints\\1720261104294.ta.chkpt\" at 2024-07-06 18:18:24 after 270 attacks.\n",
      "[Succeeded / Failed / Skipped / Total] 95 / 99 / 78 / 272:  54%|███████████▍         | 272/500 [02:54<02:26,  1.56it/s]"
     ]
    },
    {
     "name": "stdout",
     "output_type": "stream",
     "text": [
      "\n",
      "\n",
      "=============================================================================================================================\n",
      "=============================================================================================================================\n",
      "\n"
     ]
    },
    {
     "name": "stderr",
     "output_type": "stream",
     "text": [
      "[Succeeded / Failed / Skipped / Total] 95 / 100 / 80 / 275:  55%|███████████         | 275/500 [02:55<02:23,  1.56it/s]textattack: Saving checkpoint under \"checkpoints\\1720261105747.ta.chkpt\" at 2024-07-06 18:18:25 after 275 attacks.\n"
     ]
    },
    {
     "name": "stdout",
     "output_type": "stream",
     "text": [
      "\n",
      "\n",
      "=============================================================================================================================\n",
      "=============================================================================================================================\n",
      "\n"
     ]
    },
    {
     "name": "stderr",
     "output_type": "stream",
     "text": [
      "[Succeeded / Failed / Skipped / Total] 98 / 100 / 82 / 280:  56%|███████████▏        | 280/500 [02:57<02:19,  1.58it/s]textattack: Saving checkpoint under \"checkpoints\\1720261107169.ta.chkpt\" at 2024-07-06 18:18:27 after 280 attacks.\n"
     ]
    },
    {
     "name": "stdout",
     "output_type": "stream",
     "text": [
      "\n",
      "\n",
      "=============================================================================================================================\n",
      "=============================================================================================================================\n",
      "\n"
     ]
    },
    {
     "name": "stderr",
     "output_type": "stream",
     "text": [
      "[Succeeded / Failed / Skipped / Total] 100 / 102 / 83 / 285:  57%|██████████▊        | 285/500 [02:59<02:15,  1.58it/s]textattack: Saving checkpoint under \"checkpoints\\1720261109779.ta.chkpt\" at 2024-07-06 18:18:29 after 285 attacks.\n"
     ]
    },
    {
     "name": "stdout",
     "output_type": "stream",
     "text": [
      "\n",
      "\n",
      "=============================================================================================================================\n",
      "=============================================================================================================================\n",
      "\n"
     ]
    },
    {
     "name": "stderr",
     "output_type": "stream",
     "text": [
      "[Succeeded / Failed / Skipped / Total] 103 / 104 / 83 / 290:  58%|███████████        | 290/500 [03:03<02:12,  1.58it/s]textattack: Saving checkpoint under \"checkpoints\\1720261113310.ta.chkpt\" at 2024-07-06 18:18:33 after 290 attacks.\n",
      "[Succeeded / Failed / Skipped / Total] 103 / 104 / 84 / 291:  58%|███████████        | 291/500 [03:03<02:11,  1.59it/s]"
     ]
    },
    {
     "name": "stdout",
     "output_type": "stream",
     "text": [
      "\n",
      "\n",
      "=============================================================================================================================\n",
      "=============================================================================================================================\n",
      "\n"
     ]
    },
    {
     "name": "stderr",
     "output_type": "stream",
     "text": [
      "[Succeeded / Failed / Skipped / Total] 104 / 106 / 85 / 295:  59%|███████████▏       | 295/500 [03:06<02:09,  1.58it/s]textattack: Saving checkpoint under \"checkpoints\\1720261116545.ta.chkpt\" at 2024-07-06 18:18:36 after 295 attacks.\n"
     ]
    },
    {
     "name": "stdout",
     "output_type": "stream",
     "text": [
      "\n",
      "\n",
      "=============================================================================================================================\n",
      "=============================================================================================================================\n",
      "\n"
     ]
    },
    {
     "name": "stderr",
     "output_type": "stream",
     "text": [
      "[Succeeded / Failed / Skipped / Total] 104 / 109 / 87 / 300:  60%|███████████▍       | 300/500 [03:08<02:05,  1.59it/s]textattack: Saving checkpoint under \"checkpoints\\1720261118904.ta.chkpt\" at 2024-07-06 18:18:38 after 300 attacks.\n"
     ]
    },
    {
     "name": "stdout",
     "output_type": "stream",
     "text": [
      "\n",
      "\n",
      "=============================================================================================================================\n",
      "=============================================================================================================================\n",
      "\n"
     ]
    },
    {
     "name": "stderr",
     "output_type": "stream",
     "text": [
      "[Succeeded / Failed / Skipped / Total] 106 / 111 / 88 / 305:  61%|███████████▌       | 305/500 [03:11<02:02,  1.60it/s]textattack: Saving checkpoint under \"checkpoints\\1720261121092.ta.chkpt\" at 2024-07-06 18:18:41 after 305 attacks.\n"
     ]
    },
    {
     "name": "stdout",
     "output_type": "stream",
     "text": [
      "\n",
      "\n",
      "=============================================================================================================================\n",
      "=============================================================================================================================\n",
      "\n"
     ]
    },
    {
     "name": "stderr",
     "output_type": "stream",
     "text": [
      "[Succeeded / Failed / Skipped / Total] 106 / 115 / 89 / 310:  62%|███████████▊       | 310/500 [03:12<01:58,  1.61it/s]textattack: Saving checkpoint under \"checkpoints\\1720261122873.ta.chkpt\" at 2024-07-06 18:18:42 after 310 attacks.\n"
     ]
    },
    {
     "name": "stdout",
     "output_type": "stream",
     "text": [
      "\n",
      "\n",
      "=============================================================================================================================\n",
      "=============================================================================================================================\n",
      "\n"
     ]
    },
    {
     "name": "stderr",
     "output_type": "stream",
     "text": [
      "[Succeeded / Failed / Skipped / Total] 109 / 116 / 90 / 315:  63%|███████████▉       | 315/500 [03:15<01:54,  1.61it/s]textattack: Saving checkpoint under \"checkpoints\\1720261125358.ta.chkpt\" at 2024-07-06 18:18:45 after 315 attacks.\n"
     ]
    },
    {
     "name": "stdout",
     "output_type": "stream",
     "text": [
      "\n",
      "\n",
      "=============================================================================================================================\n",
      "=============================================================================================================================\n",
      "\n"
     ]
    },
    {
     "name": "stderr",
     "output_type": "stream",
     "text": [
      "[Succeeded / Failed / Skipped / Total] 110 / 118 / 92 / 320:  64%|████████████▏      | 320/500 [03:19<01:51,  1.61it/s]textattack: Saving checkpoint under \"checkpoints\\1720261128999.ta.chkpt\" at 2024-07-06 18:18:48 after 320 attacks.\n"
     ]
    },
    {
     "name": "stdout",
     "output_type": "stream",
     "text": [
      "\n",
      "\n",
      "=============================================================================================================================\n",
      "=============================================================================================================================\n",
      "\n"
     ]
    },
    {
     "name": "stderr",
     "output_type": "stream",
     "text": [
      "[Succeeded / Failed / Skipped / Total] 111 / 122 / 92 / 325:  65%|████████████▎      | 325/500 [03:27<01:51,  1.57it/s]textattack: Saving checkpoint under \"checkpoints\\1720261137110.ta.chkpt\" at 2024-07-06 18:18:57 after 325 attacks.\n"
     ]
    },
    {
     "name": "stdout",
     "output_type": "stream",
     "text": [
      "\n",
      "\n",
      "=============================================================================================================================\n",
      "=============================================================================================================================\n",
      "\n"
     ]
    },
    {
     "name": "stderr",
     "output_type": "stream",
     "text": [
      "[Succeeded / Failed / Skipped / Total] 114 / 124 / 92 / 330:  66%|████████████▌      | 330/500 [03:30<01:48,  1.57it/s]textattack: Saving checkpoint under \"checkpoints\\1720261140392.ta.chkpt\" at 2024-07-06 18:19:00 after 330 attacks.\n"
     ]
    },
    {
     "name": "stdout",
     "output_type": "stream",
     "text": [
      "\n",
      "\n",
      "=============================================================================================================================\n",
      "=============================================================================================================================\n",
      "\n"
     ]
    },
    {
     "name": "stderr",
     "output_type": "stream",
     "text": [
      "[Succeeded / Failed / Skipped / Total] 115 / 127 / 93 / 335:  67%|████████████▋      | 335/500 [03:36<01:46,  1.55it/s]textattack: Saving checkpoint under \"checkpoints\\1720261146111.ta.chkpt\" at 2024-07-06 18:19:06 after 335 attacks.\n",
      "[Succeeded / Failed / Skipped / Total] 115 / 127 / 94 / 336:  67%|████████████▊      | 336/500 [03:36<01:45,  1.55it/s]"
     ]
    },
    {
     "name": "stdout",
     "output_type": "stream",
     "text": [
      "\n",
      "\n",
      "=============================================================================================================================\n",
      "=============================================================================================================================\n",
      "\n"
     ]
    },
    {
     "name": "stderr",
     "output_type": "stream",
     "text": [
      "[Succeeded / Failed / Skipped / Total] 116 / 129 / 95 / 340:  68%|████████████▉      | 340/500 [03:38<01:42,  1.55it/s]textattack: Saving checkpoint under \"checkpoints\\1720261148658.ta.chkpt\" at 2024-07-06 18:19:08 after 340 attacks.\n"
     ]
    },
    {
     "name": "stdout",
     "output_type": "stream",
     "text": [
      "\n",
      "\n",
      "=============================================================================================================================\n",
      "=============================================================================================================================\n",
      "\n"
     ]
    },
    {
     "name": "stderr",
     "output_type": "stream",
     "text": [
      "[Succeeded / Failed / Skipped / Total] 117 / 131 / 97 / 345:  69%|█████████████      | 345/500 [03:41<01:39,  1.56it/s]textattack: Saving checkpoint under \"checkpoints\\1720261151486.ta.chkpt\" at 2024-07-06 18:19:11 after 345 attacks.\n"
     ]
    },
    {
     "name": "stdout",
     "output_type": "stream",
     "text": [
      "\n",
      "\n",
      "=============================================================================================================================\n",
      "=============================================================================================================================\n",
      "\n"
     ]
    },
    {
     "name": "stderr",
     "output_type": "stream",
     "text": [
      "[Succeeded / Failed / Skipped / Total] 119 / 133 / 98 / 350:  70%|█████████████▎     | 350/500 [03:44<01:36,  1.56it/s]textattack: Saving checkpoint under \"checkpoints\\1720261154252.ta.chkpt\" at 2024-07-06 18:19:14 after 350 attacks.\n"
     ]
    },
    {
     "name": "stdout",
     "output_type": "stream",
     "text": [
      "\n",
      "\n",
      "=============================================================================================================================\n",
      "=============================================================================================================================\n",
      "\n"
     ]
    },
    {
     "name": "stderr",
     "output_type": "stream",
     "text": [
      "[Succeeded / Failed / Skipped / Total] 121 / 136 / 98 / 355:  71%|█████████████▍     | 355/500 [03:49<01:33,  1.55it/s]textattack: Saving checkpoint under \"checkpoints\\1720261159128.ta.chkpt\" at 2024-07-06 18:19:19 after 355 attacks.\n",
      "[Succeeded / Failed / Skipped / Total] 121 / 136 / 99 / 356:  71%|█████████████▌     | 356/500 [03:49<01:32,  1.55it/s]"
     ]
    },
    {
     "name": "stdout",
     "output_type": "stream",
     "text": [
      "\n",
      "\n",
      "=============================================================================================================================\n",
      "=============================================================================================================================\n",
      "\n"
     ]
    },
    {
     "name": "stderr",
     "output_type": "stream",
     "text": [
      "[Succeeded / Failed / Skipped / Total] 123 / 137 / 100 / 360:  72%|████████████▉     | 360/500 [03:52<01:30,  1.55it/s]textattack: Saving checkpoint under \"checkpoints\\1720261162237.ta.chkpt\" at 2024-07-06 18:19:22 after 360 attacks.\n"
     ]
    },
    {
     "name": "stdout",
     "output_type": "stream",
     "text": [
      "\n",
      "\n",
      "=============================================================================================================================\n",
      "=============================================================================================================================\n",
      "\n"
     ]
    },
    {
     "name": "stderr",
     "output_type": "stream",
     "text": [
      "[Succeeded / Failed / Skipped / Total] 127 / 138 / 100 / 365:  73%|█████████████▏    | 365/500 [03:55<01:27,  1.55it/s]textattack: Saving checkpoint under \"checkpoints\\1720261165440.ta.chkpt\" at 2024-07-06 18:19:25 after 365 attacks.\n"
     ]
    },
    {
     "name": "stdout",
     "output_type": "stream",
     "text": [
      "\n",
      "\n",
      "=============================================================================================================================\n",
      "=============================================================================================================================\n",
      "\n"
     ]
    },
    {
     "name": "stderr",
     "output_type": "stream",
     "text": [
      "[Succeeded / Failed / Skipped / Total] 129 / 140 / 101 / 370:  74%|█████████████▎    | 370/500 [03:57<01:23,  1.56it/s]textattack: Saving checkpoint under \"checkpoints\\1720261167441.ta.chkpt\" at 2024-07-06 18:19:27 after 370 attacks.\n",
      "[Succeeded / Failed / Skipped / Total] 129 / 140 / 102 / 371:  74%|█████████████▎    | 371/500 [03:57<01:22,  1.56it/s]"
     ]
    },
    {
     "name": "stdout",
     "output_type": "stream",
     "text": [
      "\n",
      "\n",
      "=============================================================================================================================\n",
      "=============================================================================================================================\n",
      "\n"
     ]
    },
    {
     "name": "stderr",
     "output_type": "stream",
     "text": [
      "[Succeeded / Failed / Skipped / Total] 131 / 142 / 102 / 375:  75%|█████████████▌    | 375/500 [04:01<01:20,  1.56it/s]textattack: Saving checkpoint under \"checkpoints\\1720261171113.ta.chkpt\" at 2024-07-06 18:19:31 after 375 attacks.\n"
     ]
    },
    {
     "name": "stdout",
     "output_type": "stream",
     "text": [
      "\n",
      "\n",
      "=============================================================================================================================\n",
      "=============================================================================================================================\n",
      "\n"
     ]
    },
    {
     "name": "stderr",
     "output_type": "stream",
     "text": [
      "[Succeeded / Failed / Skipped / Total] 132 / 144 / 104 / 380:  76%|█████████████▋    | 380/500 [04:02<01:16,  1.57it/s]textattack: Saving checkpoint under \"checkpoints\\1720261172738.ta.chkpt\" at 2024-07-06 18:19:32 after 380 attacks.\n"
     ]
    },
    {
     "name": "stdout",
     "output_type": "stream",
     "text": [
      "\n",
      "\n",
      "=============================================================================================================================\n",
      "=============================================================================================================================\n",
      "\n"
     ]
    },
    {
     "name": "stderr",
     "output_type": "stream",
     "text": [
      "[Succeeded / Failed / Skipped / Total] 133 / 147 / 105 / 385:  77%|█████████████▊    | 385/500 [04:07<01:13,  1.56it/s]textattack: Saving checkpoint under \"checkpoints\\1720261177441.ta.chkpt\" at 2024-07-06 18:19:37 after 385 attacks.\n"
     ]
    },
    {
     "name": "stdout",
     "output_type": "stream",
     "text": [
      "\n",
      "\n",
      "=============================================================================================================================\n",
      "=============================================================================================================================\n",
      "\n"
     ]
    },
    {
     "name": "stderr",
     "output_type": "stream",
     "text": [
      "[Succeeded / Failed / Skipped / Total] 136 / 148 / 106 / 390:  78%|██████████████    | 390/500 [04:09<01:10,  1.57it/s]textattack: Saving checkpoint under \"checkpoints\\1720261179160.ta.chkpt\" at 2024-07-06 18:19:39 after 390 attacks.\n"
     ]
    },
    {
     "name": "stdout",
     "output_type": "stream",
     "text": [
      "\n",
      "\n",
      "=============================================================================================================================\n",
      "=============================================================================================================================\n",
      "\n"
     ]
    },
    {
     "name": "stderr",
     "output_type": "stream",
     "text": [
      "[Succeeded / Failed / Skipped / Total] 139 / 150 / 106 / 395:  79%|██████████████▏   | 395/500 [04:14<01:07,  1.55it/s]textattack: Saving checkpoint under \"checkpoints\\1720261184223.ta.chkpt\" at 2024-07-06 18:19:44 after 395 attacks.\n"
     ]
    },
    {
     "name": "stdout",
     "output_type": "stream",
     "text": [
      "\n",
      "\n",
      "=============================================================================================================================\n",
      "=============================================================================================================================\n",
      "\n"
     ]
    },
    {
     "name": "stderr",
     "output_type": "stream",
     "text": [
      "[Succeeded / Failed / Skipped / Total] 142 / 152 / 106 / 400:  80%|██████████████▍   | 400/500 [04:18<01:04,  1.55it/s]textattack: Saving checkpoint under \"checkpoints\\1720261188505.ta.chkpt\" at 2024-07-06 18:19:48 after 400 attacks.\n"
     ]
    },
    {
     "name": "stdout",
     "output_type": "stream",
     "text": [
      "\n",
      "\n",
      "=============================================================================================================================\n",
      "=============================================================================================================================\n",
      "\n"
     ]
    },
    {
     "name": "stderr",
     "output_type": "stream",
     "text": [
      "[Succeeded / Failed / Skipped / Total] 142 / 156 / 107 / 405:  81%|██████████████▌   | 405/500 [04:23<01:01,  1.54it/s]textattack: Saving checkpoint under \"checkpoints\\1720261193543.ta.chkpt\" at 2024-07-06 18:19:53 after 405 attacks.\n"
     ]
    },
    {
     "name": "stdout",
     "output_type": "stream",
     "text": [
      "\n",
      "\n",
      "=============================================================================================================================\n",
      "=============================================================================================================================\n",
      "\n"
     ]
    },
    {
     "name": "stderr",
     "output_type": "stream",
     "text": [
      "[Succeeded / Failed / Skipped / Total] 146 / 156 / 108 / 410:  82%|██████████████▊   | 410/500 [04:27<00:58,  1.53it/s]textattack: Saving checkpoint under \"checkpoints\\1720261197153.ta.chkpt\" at 2024-07-06 18:19:57 after 410 attacks.\n"
     ]
    },
    {
     "name": "stdout",
     "output_type": "stream",
     "text": [
      "\n",
      "\n",
      "=============================================================================================================================\n",
      "=============================================================================================================================\n",
      "\n"
     ]
    },
    {
     "name": "stderr",
     "output_type": "stream",
     "text": [
      "[Succeeded / Failed / Skipped / Total] 148 / 157 / 110 / 415:  83%|██████████████▉   | 415/500 [04:28<00:55,  1.54it/s]textattack: Saving checkpoint under \"checkpoints\\1720261198872.ta.chkpt\" at 2024-07-06 18:19:58 after 415 attacks.\n"
     ]
    },
    {
     "name": "stdout",
     "output_type": "stream",
     "text": [
      "\n",
      "\n",
      "=============================================================================================================================\n",
      "=============================================================================================================================\n",
      "\n"
     ]
    },
    {
     "name": "stderr",
     "output_type": "stream",
     "text": [
      "[Succeeded / Failed / Skipped / Total] 149 / 158 / 113 / 420:  84%|███████████████   | 420/500 [04:32<00:51,  1.54it/s]textattack: Saving checkpoint under \"checkpoints\\1720261202497.ta.chkpt\" at 2024-07-06 18:20:02 after 420 attacks.\n"
     ]
    },
    {
     "name": "stdout",
     "output_type": "stream",
     "text": [
      "\n",
      "\n",
      "=============================================================================================================================\n",
      "=============================================================================================================================\n",
      "\n"
     ]
    },
    {
     "name": "stderr",
     "output_type": "stream",
     "text": [
      "[Succeeded / Failed / Skipped / Total] 153 / 159 / 113 / 425:  85%|███████████████▎  | 425/500 [04:35<00:48,  1.54it/s]textattack: Saving checkpoint under \"checkpoints\\1720261205389.ta.chkpt\" at 2024-07-06 18:20:05 after 425 attacks.\n"
     ]
    },
    {
     "name": "stdout",
     "output_type": "stream",
     "text": [
      "\n",
      "\n",
      "=============================================================================================================================\n",
      "=============================================================================================================================\n",
      "\n"
     ]
    },
    {
     "name": "stderr",
     "output_type": "stream",
     "text": [
      "[Succeeded / Failed / Skipped / Total] 153 / 162 / 115 / 430:  86%|███████████████▍  | 430/500 [04:39<00:45,  1.54it/s]textattack: Saving checkpoint under \"checkpoints\\1720261209186.ta.chkpt\" at 2024-07-06 18:20:09 after 430 attacks.\n",
      "[Succeeded / Failed / Skipped / Total] 153 / 162 / 116 / 431:  86%|███████████████▌  | 431/500 [04:39<00:44,  1.54it/s]"
     ]
    },
    {
     "name": "stdout",
     "output_type": "stream",
     "text": [
      "\n",
      "\n",
      "=============================================================================================================================\n",
      "=============================================================================================================================\n",
      "\n"
     ]
    },
    {
     "name": "stderr",
     "output_type": "stream",
     "text": [
      "[Succeeded / Failed / Skipped / Total] 154 / 163 / 118 / 435:  87%|███████████████▋  | 435/500 [04:41<00:42,  1.55it/s]textattack: Saving checkpoint under \"checkpoints\\1720261211202.ta.chkpt\" at 2024-07-06 18:20:11 after 435 attacks.\n"
     ]
    },
    {
     "name": "stdout",
     "output_type": "stream",
     "text": [
      "\n",
      "\n",
      "=============================================================================================================================\n",
      "=============================================================================================================================\n",
      "\n"
     ]
    },
    {
     "name": "stderr",
     "output_type": "stream",
     "text": [
      "[Succeeded / Failed / Skipped / Total] 154 / 168 / 118 / 440:  88%|███████████████▊  | 440/500 [04:47<00:39,  1.53it/s]textattack: Saving checkpoint under \"checkpoints\\1720261217781.ta.chkpt\" at 2024-07-06 18:20:17 after 440 attacks.\n",
      "[Succeeded / Failed / Skipped / Total] 154 / 168 / 119 / 441:  88%|███████████████▉  | 441/500 [04:47<00:38,  1.53it/s]"
     ]
    },
    {
     "name": "stdout",
     "output_type": "stream",
     "text": [
      "\n",
      "\n",
      "=============================================================================================================================\n",
      "=============================================================================================================================\n",
      "\n"
     ]
    },
    {
     "name": "stderr",
     "output_type": "stream",
     "text": [
      "[Succeeded / Failed / Skipped / Total] 155 / 170 / 120 / 445:  89%|████████████████  | 445/500 [04:50<00:35,  1.53it/s]textattack: Saving checkpoint under \"checkpoints\\1720261220674.ta.chkpt\" at 2024-07-06 18:20:20 after 445 attacks.\n"
     ]
    },
    {
     "name": "stdout",
     "output_type": "stream",
     "text": [
      "\n",
      "\n",
      "=============================================================================================================================\n",
      "=============================================================================================================================\n",
      "\n"
     ]
    },
    {
     "name": "stderr",
     "output_type": "stream",
     "text": [
      "[Succeeded / Failed / Skipped / Total] 155 / 172 / 123 / 450:  90%|████████████████▏ | 450/500 [04:52<00:32,  1.54it/s]textattack: Saving checkpoint under \"checkpoints\\1720261222862.ta.chkpt\" at 2024-07-06 18:20:22 after 450 attacks.\n"
     ]
    },
    {
     "name": "stdout",
     "output_type": "stream",
     "text": [
      "\n",
      "\n",
      "=============================================================================================================================\n",
      "=============================================================================================================================\n",
      "\n"
     ]
    },
    {
     "name": "stderr",
     "output_type": "stream",
     "text": [
      "[Succeeded / Failed / Skipped / Total] 156 / 176 / 123 / 455:  91%|████████████████▍ | 455/500 [04:58<00:29,  1.53it/s]textattack: Saving checkpoint under \"checkpoints\\1720261228065.ta.chkpt\" at 2024-07-06 18:20:28 after 455 attacks.\n",
      "[Succeeded / Failed / Skipped / Total] 156 / 176 / 124 / 456:  91%|████████████████▍ | 456/500 [04:58<00:28,  1.53it/s]"
     ]
    },
    {
     "name": "stdout",
     "output_type": "stream",
     "text": [
      "\n",
      "\n",
      "=============================================================================================================================\n",
      "=============================================================================================================================\n",
      "\n"
     ]
    },
    {
     "name": "stderr",
     "output_type": "stream",
     "text": [
      "[Succeeded / Failed / Skipped / Total] 157 / 178 / 125 / 460:  92%|████████████████▌ | 460/500 [05:01<00:26,  1.53it/s]textattack: Saving checkpoint under \"checkpoints\\1720261231456.ta.chkpt\" at 2024-07-06 18:20:31 after 460 attacks.\n"
     ]
    },
    {
     "name": "stdout",
     "output_type": "stream",
     "text": [
      "\n",
      "\n",
      "=============================================================================================================================\n",
      "=============================================================================================================================\n",
      "\n"
     ]
    },
    {
     "name": "stderr",
     "output_type": "stream",
     "text": [
      "[Succeeded / Failed / Skipped / Total] 159 / 181 / 125 / 465:  93%|████████████████▋ | 465/500 [05:07<00:23,  1.51it/s]textattack: Saving checkpoint under \"checkpoints\\1720261237175.ta.chkpt\" at 2024-07-06 18:20:37 after 465 attacks.\n"
     ]
    },
    {
     "name": "stdout",
     "output_type": "stream",
     "text": [
      "\n",
      "\n",
      "=============================================================================================================================\n",
      "=============================================================================================================================\n",
      "\n"
     ]
    },
    {
     "name": "stderr",
     "output_type": "stream",
     "text": [
      "[Succeeded / Failed / Skipped / Total] 162 / 182 / 126 / 470:  94%|████████████████▉ | 470/500 [05:09<00:19,  1.52it/s]textattack: Saving checkpoint under \"checkpoints\\1720261239925.ta.chkpt\" at 2024-07-06 18:20:39 after 470 attacks.\n"
     ]
    },
    {
     "name": "stdout",
     "output_type": "stream",
     "text": [
      "\n",
      "\n",
      "=============================================================================================================================\n",
      "=============================================================================================================================\n",
      "\n"
     ]
    },
    {
     "name": "stderr",
     "output_type": "stream",
     "text": [
      "[Succeeded / Failed / Skipped / Total] 163 / 185 / 127 / 475:  95%|█████████████████ | 475/500 [05:15<00:16,  1.51it/s]textattack: Saving checkpoint under \"checkpoints\\1720261245004.ta.chkpt\" at 2024-07-06 18:20:45 after 475 attacks.\n"
     ]
    },
    {
     "name": "stdout",
     "output_type": "stream",
     "text": [
      "\n",
      "\n",
      "=============================================================================================================================\n",
      "=============================================================================================================================\n",
      "\n"
     ]
    },
    {
     "name": "stderr",
     "output_type": "stream",
     "text": [
      "[Succeeded / Failed / Skipped / Total] 165 / 188 / 127 / 480:  96%|█████████████████▎| 480/500 [05:19<00:13,  1.50it/s]textattack: Saving checkpoint under \"checkpoints\\1720261248989.ta.chkpt\" at 2024-07-06 18:20:48 after 480 attacks.\n"
     ]
    },
    {
     "name": "stdout",
     "output_type": "stream",
     "text": [
      "\n",
      "\n",
      "=============================================================================================================================\n",
      "=============================================================================================================================\n",
      "\n"
     ]
    },
    {
     "name": "stderr",
     "output_type": "stream",
     "text": [
      "[Succeeded / Failed / Skipped / Total] 165 / 192 / 128 / 485:  97%|█████████████████▍| 485/500 [05:23<00:09,  1.50it/s]textattack: Saving checkpoint under \"checkpoints\\1720261253208.ta.chkpt\" at 2024-07-06 18:20:53 after 485 attacks.\n"
     ]
    },
    {
     "name": "stdout",
     "output_type": "stream",
     "text": [
      "\n",
      "\n",
      "=============================================================================================================================\n",
      "=============================================================================================================================\n",
      "\n"
     ]
    },
    {
     "name": "stderr",
     "output_type": "stream",
     "text": [
      "[Succeeded / Failed / Skipped / Total] 168 / 193 / 129 / 490:  98%|█████████████████▋| 490/500 [05:25<00:06,  1.50it/s]textattack: Saving checkpoint under \"checkpoints\\1720261255833.ta.chkpt\" at 2024-07-06 18:20:55 after 490 attacks.\n"
     ]
    },
    {
     "name": "stdout",
     "output_type": "stream",
     "text": [
      "\n",
      "\n",
      "=============================================================================================================================\n",
      "=============================================================================================================================\n",
      "\n"
     ]
    },
    {
     "name": "stderr",
     "output_type": "stream",
     "text": [
      "[Succeeded / Failed / Skipped / Total] 169 / 195 / 131 / 495:  99%|█████████████████▊| 495/500 [05:29<00:03,  1.50it/s]textattack: Saving checkpoint under \"checkpoints\\1720261259192.ta.chkpt\" at 2024-07-06 18:20:59 after 495 attacks.\n",
      "[Succeeded / Failed / Skipped / Total] 169 / 195 / 132 / 496:  99%|█████████████████▊| 496/500 [05:29<00:02,  1.51it/s]"
     ]
    },
    {
     "name": "stdout",
     "output_type": "stream",
     "text": [
      "\n",
      "\n",
      "=============================================================================================================================\n",
      "=============================================================================================================================\n",
      "\n"
     ]
    },
    {
     "name": "stderr",
     "output_type": "stream",
     "text": [
      "[Succeeded / Failed / Skipped / Total] 169 / 199 / 132 / 500: 100%|██████████████████| 500/500 [05:33<00:00,  1.50it/s]textattack: Saving checkpoint under \"checkpoints\\1720261263755.ta.chkpt\" at 2024-07-06 18:21:03 after 500 attacks.\n",
      "[Succeeded / Failed / Skipped / Total] 169 / 199 / 132 / 500: 100%|██████████████████| 500/500 [05:33<00:00,  1.50it/s]"
     ]
    },
    {
     "name": "stdout",
     "output_type": "stream",
     "text": [
      "\n",
      "\n",
      "=============================================================================================================================\n",
      "=============================================================================================================================\n",
      "\n",
      "\n",
      "+-------------------------------+--------+\n",
      "| Attack Results                |        |\n",
      "+-------------------------------+--------+\n",
      "| Number of successful attacks: | 169    |\n",
      "| Number of failed attacks:     | 199    |\n",
      "| Number of skipped attacks:    | 132    |\n",
      "| Original accuracy:            | 73.6%  |\n",
      "| Accuracy under attack:        | 39.8%  |\n",
      "| Attack success rate:          | 45.92% |\n",
      "| Average perturbed word %:     | 9.55%  |\n",
      "| Average num. words per input: | 18.4   |\n",
      "| Avg num queries:              | 20.53  |\n",
      "+-------------------------------+--------+\n"
     ]
    },
    {
     "name": "stderr",
     "output_type": "stream",
     "text": [
      "\n"
     ]
    }
   ],
   "source": [
    "runAttack(disbert_model_wrapper_knn_mr, n_samples, 'attack_results_new/disbertmrattackknn'+suffix, target_ds_mr)"
   ]
  },
  {
   "cell_type": "code",
   "execution_count": 23,
   "id": "b1a8d0d7-317e-48dd-a484-6c6034af2aad",
   "metadata": {},
   "outputs": [
    {
     "name": "stderr",
     "output_type": "stream",
     "text": [
      "textattack: Unknown if model of class <class 'transformers.models.distilbert.modeling_distilbert.DistilBertModel'> compatible with goal function <class 'textattack.goal_functions.classification.untargeted_classification.UntargetedClassification'>.\n",
      "textattack: Logging to CSV at path attack_results_new/disbertmrattacksvcsim09.csv\n"
     ]
    },
    {
     "name": "stdout",
     "output_type": "stream",
     "text": [
      "Attack(\n",
      "  (search_method): GreedyWordSwapWIR(\n",
      "    (wir_method):  delete\n",
      "  )\n",
      "  (goal_function):  UntargetedClassification\n",
      "  (transformation):  WordSwapEmbedding(\n",
      "    (max_candidates):  50\n",
      "    (embedding):  WordEmbedding\n",
      "  )\n",
      "  (constraints): \n",
      "    (0): WordEmbeddingDistance(\n",
      "        (embedding):  WordEmbedding\n",
      "        (min_cos_sim):  0.9\n",
      "        (cased):  False\n",
      "        (include_unknown_words):  True\n",
      "        (compare_against_original):  True\n",
      "      )\n",
      "    (1): PartOfSpeech(\n",
      "        (tagger_type):  nltk\n",
      "        (tagset):  universal\n",
      "        (allow_verb_noun_swap):  True\n",
      "        (compare_against_original):  True\n",
      "      )\n",
      "    (2): UniversalSentenceEncoder(\n",
      "        (metric):  angular\n",
      "        (threshold):  0.840845057\n",
      "        (window_size):  15\n",
      "        (skip_text_shorter_than_window):  True\n",
      "        (compare_against_original):  False\n",
      "      )\n",
      "    (3): RepeatModification\n",
      "    (4): StopwordModification\n",
      "    (5): InputColumnModification(\n",
      "        (matching_column_labels):  ['premise', 'hypothesis']\n",
      "        (columns_to_ignore):  {'premise'}\n",
      "      )\n",
      "  (is_black_box):  True\n",
      ") \n",
      "\n"
     ]
    },
    {
     "name": "stderr",
     "output_type": "stream",
     "text": [
      "[Succeeded / Failed / Skipped / Total] 1 / 3 / 1 / 5:   1%|▎                           | 5/500 [00:09<15:13,  1.84s/it]textattack: Saving checkpoint under \"checkpoints\\1720261273072.ta.chkpt\" at 2024-07-06 18:21:13 after 5 attacks.\n",
      "[Succeeded / Failed / Skipped / Total] 1 / 3 / 3 / 7:   1%|▍                           | 7/500 [00:09<10:58,  1.34s/it]"
     ]
    },
    {
     "name": "stdout",
     "output_type": "stream",
     "text": [
      "\n",
      "\n",
      "=============================================================================================================================\n",
      "=============================================================================================================================\n",
      "\n"
     ]
    },
    {
     "name": "stderr",
     "output_type": "stream",
     "text": [
      "[Succeeded / Failed / Skipped / Total] 2 / 5 / 3 / 10:   2%|▌                         | 10/500 [00:13<10:41,  1.31s/it]textattack: Saving checkpoint under \"checkpoints\\1720261276932.ta.chkpt\" at 2024-07-06 18:21:16 after 10 attacks.\n"
     ]
    },
    {
     "name": "stdout",
     "output_type": "stream",
     "text": [
      "\n",
      "\n",
      "=============================================================================================================================\n",
      "=============================================================================================================================\n",
      "\n"
     ]
    },
    {
     "name": "stderr",
     "output_type": "stream",
     "text": [
      "[Succeeded / Failed / Skipped / Total] 2 / 9 / 4 / 15:   3%|▊                         | 15/500 [00:17<09:25,  1.17s/it]textattack: Saving checkpoint under \"checkpoints\\1720261281354.ta.chkpt\" at 2024-07-06 18:21:21 after 15 attacks.\n"
     ]
    },
    {
     "name": "stdout",
     "output_type": "stream",
     "text": [
      "\n",
      "\n",
      "=============================================================================================================================\n",
      "=============================================================================================================================\n",
      "\n"
     ]
    },
    {
     "name": "stderr",
     "output_type": "stream",
     "text": [
      "[Succeeded / Failed / Skipped / Total] 2 / 13 / 5 / 20:   4%|█                        | 20/500 [00:20<08:06,  1.01s/it]textattack: Saving checkpoint under \"checkpoints\\1720261284120.ta.chkpt\" at 2024-07-06 18:21:24 after 20 attacks.\n"
     ]
    },
    {
     "name": "stdout",
     "output_type": "stream",
     "text": [
      "\n",
      "\n",
      "=============================================================================================================================\n",
      "=============================================================================================================================\n",
      "\n"
     ]
    },
    {
     "name": "stderr",
     "output_type": "stream",
     "text": [
      "[Succeeded / Failed / Skipped / Total] 3 / 15 / 7 / 25:   5%|█▎                       | 25/500 [00:23<07:24,  1.07it/s]textattack: Saving checkpoint under \"checkpoints\\1720261287229.ta.chkpt\" at 2024-07-06 18:21:27 after 25 attacks.\n"
     ]
    },
    {
     "name": "stdout",
     "output_type": "stream",
     "text": [
      "\n",
      "\n",
      "=============================================================================================================================\n",
      "=============================================================================================================================\n",
      "\n"
     ]
    },
    {
     "name": "stderr",
     "output_type": "stream",
     "text": [
      "[Succeeded / Failed / Skipped / Total] 4 / 19 / 7 / 30:   6%|█▌                       | 30/500 [00:26<06:52,  1.14it/s]textattack: Saving checkpoint under \"checkpoints\\1720261290198.ta.chkpt\" at 2024-07-06 18:21:30 after 30 attacks.\n"
     ]
    },
    {
     "name": "stdout",
     "output_type": "stream",
     "text": [
      "\n",
      "\n",
      "=============================================================================================================================\n",
      "=============================================================================================================================\n",
      "\n"
     ]
    },
    {
     "name": "stderr",
     "output_type": "stream",
     "text": [
      "[Succeeded / Failed / Skipped / Total] 5 / 21 / 9 / 35:   7%|█▊                       | 35/500 [00:28<06:14,  1.24it/s]textattack: Saving checkpoint under \"checkpoints\\1720261292011.ta.chkpt\" at 2024-07-06 18:21:32 after 35 attacks.\n"
     ]
    },
    {
     "name": "stdout",
     "output_type": "stream",
     "text": [
      "\n",
      "\n",
      "=============================================================================================================================\n",
      "=============================================================================================================================\n",
      "\n"
     ]
    },
    {
     "name": "stderr",
     "output_type": "stream",
     "text": [
      "[Succeeded / Failed / Skipped / Total] 6 / 24 / 10 / 40:   8%|█▉                      | 40/500 [00:32<06:10,  1.24it/s]textattack: Saving checkpoint under \"checkpoints\\1720261296105.ta.chkpt\" at 2024-07-06 18:21:36 after 40 attacks.\n"
     ]
    },
    {
     "name": "stdout",
     "output_type": "stream",
     "text": [
      "\n",
      "\n",
      "=============================================================================================================================\n",
      "=============================================================================================================================\n",
      "\n"
     ]
    },
    {
     "name": "stderr",
     "output_type": "stream",
     "text": [
      "[Succeeded / Failed / Skipped / Total] 9 / 26 / 10 / 45:   9%|██▏                     | 45/500 [00:39<06:35,  1.15it/s]textattack: Saving checkpoint under \"checkpoints\\1720261302996.ta.chkpt\" at 2024-07-06 18:21:42 after 45 attacks.\n"
     ]
    },
    {
     "name": "stdout",
     "output_type": "stream",
     "text": [
      "\n",
      "\n",
      "=============================================================================================================================\n",
      "=============================================================================================================================\n",
      "\n"
     ]
    },
    {
     "name": "stderr",
     "output_type": "stream",
     "text": [
      "[Succeeded / Failed / Skipped / Total] 10 / 30 / 10 / 50:  10%|██▎                    | 50/500 [00:44<06:39,  1.13it/s]textattack: Saving checkpoint under \"checkpoints\\1720261308215.ta.chkpt\" at 2024-07-06 18:21:48 after 50 attacks.\n"
     ]
    },
    {
     "name": "stdout",
     "output_type": "stream",
     "text": [
      "\n",
      "\n",
      "=============================================================================================================================\n",
      "=============================================================================================================================\n",
      "\n"
     ]
    },
    {
     "name": "stderr",
     "output_type": "stream",
     "text": [
      "[Succeeded / Failed / Skipped / Total] 11 / 33 / 11 / 55:  11%|██▌                    | 55/500 [00:49<06:39,  1.11it/s]textattack: Saving checkpoint under \"checkpoints\\1720261313231.ta.chkpt\" at 2024-07-06 18:21:53 after 55 attacks.\n"
     ]
    },
    {
     "name": "stdout",
     "output_type": "stream",
     "text": [
      "\n",
      "\n",
      "=============================================================================================================================\n",
      "=============================================================================================================================\n",
      "\n"
     ]
    },
    {
     "name": "stderr",
     "output_type": "stream",
     "text": [
      "[Succeeded / Failed / Skipped / Total] 12 / 35 / 13 / 60:  12%|██▊                    | 60/500 [00:51<06:20,  1.16it/s]textattack: Saving checkpoint under \"checkpoints\\1720261315669.ta.chkpt\" at 2024-07-06 18:21:55 after 60 attacks.\n",
      "[Succeeded / Failed / Skipped / Total] 12 / 35 / 15 / 62:  12%|██▊                    | 62/500 [00:51<06:06,  1.19it/s]"
     ]
    },
    {
     "name": "stdout",
     "output_type": "stream",
     "text": [
      "\n",
      "\n",
      "=============================================================================================================================\n",
      "=============================================================================================================================\n",
      "\n"
     ]
    },
    {
     "name": "stderr",
     "output_type": "stream",
     "text": [
      "[Succeeded / Failed / Skipped / Total] 12 / 38 / 15 / 65:  13%|██▉                    | 65/500 [00:53<06:01,  1.20it/s]textattack: Saving checkpoint under \"checkpoints\\1720261317810.ta.chkpt\" at 2024-07-06 18:21:57 after 65 attacks.\n"
     ]
    },
    {
     "name": "stdout",
     "output_type": "stream",
     "text": [
      "\n",
      "\n",
      "=============================================================================================================================\n",
      "=============================================================================================================================\n",
      "\n"
     ]
    },
    {
     "name": "stderr",
     "output_type": "stream",
     "text": [
      "[Succeeded / Failed / Skipped / Total] 12 / 41 / 17 / 70:  14%|███▏                   | 70/500 [00:56<05:45,  1.24it/s]textattack: Saving checkpoint under \"checkpoints\\1720261320091.ta.chkpt\" at 2024-07-06 18:22:00 after 70 attacks.\n"
     ]
    },
    {
     "name": "stdout",
     "output_type": "stream",
     "text": [
      "\n",
      "\n",
      "=============================================================================================================================\n",
      "=============================================================================================================================\n",
      "\n"
     ]
    },
    {
     "name": "stderr",
     "output_type": "stream",
     "text": [
      "[Succeeded / Failed / Skipped / Total] 16 / 42 / 17 / 75:  15%|███▍                   | 75/500 [00:59<05:34,  1.27it/s]textattack: Saving checkpoint under \"checkpoints\\1720261322888.ta.chkpt\" at 2024-07-06 18:22:02 after 75 attacks.\n"
     ]
    },
    {
     "name": "stdout",
     "output_type": "stream",
     "text": [
      "\n",
      "\n",
      "=============================================================================================================================\n",
      "=============================================================================================================================\n",
      "\n"
     ]
    },
    {
     "name": "stderr",
     "output_type": "stream",
     "text": [
      "[Succeeded / Failed / Skipped / Total] 17 / 46 / 17 / 80:  16%|███▋                   | 80/500 [01:02<05:28,  1.28it/s]textattack: Saving checkpoint under \"checkpoints\\1720261326451.ta.chkpt\" at 2024-07-06 18:22:06 after 80 attacks.\n",
      "[Succeeded / Failed / Skipped / Total] 17 / 46 / 19 / 82:  16%|███▊                   | 82/500 [01:02<05:19,  1.31it/s]"
     ]
    },
    {
     "name": "stdout",
     "output_type": "stream",
     "text": [
      "\n",
      "\n",
      "=============================================================================================================================\n",
      "=============================================================================================================================\n",
      "\n"
     ]
    },
    {
     "name": "stderr",
     "output_type": "stream",
     "text": [
      "[Succeeded / Failed / Skipped / Total] 18 / 47 / 20 / 85:  17%|███▉                   | 85/500 [01:03<05:10,  1.33it/s]textattack: Saving checkpoint under \"checkpoints\\1720261327529.ta.chkpt\" at 2024-07-06 18:22:07 after 85 attacks.\n"
     ]
    },
    {
     "name": "stdout",
     "output_type": "stream",
     "text": [
      "\n",
      "\n",
      "=============================================================================================================================\n",
      "=============================================================================================================================\n",
      "\n"
     ]
    },
    {
     "name": "stderr",
     "output_type": "stream",
     "text": [
      "[Succeeded / Failed / Skipped / Total] 21 / 49 / 20 / 90:  18%|████▏                  | 90/500 [01:08<05:13,  1.31it/s]textattack: Saving checkpoint under \"checkpoints\\1720261332561.ta.chkpt\" at 2024-07-06 18:22:12 after 90 attacks.\n"
     ]
    },
    {
     "name": "stdout",
     "output_type": "stream",
     "text": [
      "\n",
      "\n",
      "=============================================================================================================================\n",
      "=============================================================================================================================\n",
      "\n"
     ]
    },
    {
     "name": "stderr",
     "output_type": "stream",
     "text": [
      "[Succeeded / Failed / Skipped / Total] 24 / 49 / 22 / 95:  19%|████▎                  | 95/500 [01:11<05:06,  1.32it/s]textattack: Saving checkpoint under \"checkpoints\\1720261335717.ta.chkpt\" at 2024-07-06 18:22:15 after 95 attacks.\n"
     ]
    },
    {
     "name": "stdout",
     "output_type": "stream",
     "text": [
      "\n",
      "\n",
      "=============================================================================================================================\n",
      "=============================================================================================================================\n",
      "\n"
     ]
    },
    {
     "name": "stderr",
     "output_type": "stream",
     "text": [
      "[Succeeded / Failed / Skipped / Total] 26 / 52 / 22 / 100:  20%|████▏                | 100/500 [01:15<05:00,  1.33it/s]textattack: Saving checkpoint under \"checkpoints\\1720261339061.ta.chkpt\" at 2024-07-06 18:22:19 after 100 attacks.\n"
     ]
    },
    {
     "name": "stdout",
     "output_type": "stream",
     "text": [
      "\n",
      "\n",
      "=============================================================================================================================\n",
      "=============================================================================================================================\n",
      "\n"
     ]
    },
    {
     "name": "stderr",
     "output_type": "stream",
     "text": [
      "[Succeeded / Failed / Skipped / Total] 29 / 54 / 22 / 105:  21%|████▍                | 105/500 [01:22<05:10,  1.27it/s]textattack: Saving checkpoint under \"checkpoints\\1720261346499.ta.chkpt\" at 2024-07-06 18:22:26 after 105 attacks.\n",
      "[Succeeded / Failed / Skipped / Total] 29 / 54 / 23 / 106:  21%|████▍                | 106/500 [01:22<05:07,  1.28it/s]"
     ]
    },
    {
     "name": "stdout",
     "output_type": "stream",
     "text": [
      "\n",
      "\n",
      "=============================================================================================================================\n",
      "=============================================================================================================================\n",
      "\n"
     ]
    },
    {
     "name": "stderr",
     "output_type": "stream",
     "text": [
      "[Succeeded / Failed / Skipped / Total] 30 / 55 / 25 / 110:  22%|████▌                | 110/500 [01:23<04:57,  1.31it/s]textattack: Saving checkpoint under \"checkpoints\\1720261347658.ta.chkpt\" at 2024-07-06 18:22:27 after 110 attacks.\n",
      "[Succeeded / Failed / Skipped / Total] 30 / 55 / 26 / 111:  22%|████▋                | 111/500 [01:23<04:54,  1.32it/s]"
     ]
    },
    {
     "name": "stdout",
     "output_type": "stream",
     "text": [
      "\n",
      "\n",
      "=============================================================================================================================\n",
      "=============================================================================================================================\n",
      "\n"
     ]
    },
    {
     "name": "stderr",
     "output_type": "stream",
     "text": [
      "[Succeeded / Failed / Skipped / Total] 32 / 56 / 27 / 115:  23%|████▊                | 115/500 [01:27<04:51,  1.32it/s]textattack: Saving checkpoint under \"checkpoints\\1720261351049.ta.chkpt\" at 2024-07-06 18:22:31 after 115 attacks.\n"
     ]
    },
    {
     "name": "stdout",
     "output_type": "stream",
     "text": [
      "\n",
      "\n",
      "=============================================================================================================================\n",
      "=============================================================================================================================\n",
      "\n"
     ]
    },
    {
     "name": "stderr",
     "output_type": "stream",
     "text": [
      "[Succeeded / Failed / Skipped / Total] 33 / 58 / 29 / 120:  24%|█████                | 120/500 [01:28<04:41,  1.35it/s]textattack: Saving checkpoint under \"checkpoints\\1720261352674.ta.chkpt\" at 2024-07-06 18:22:32 after 120 attacks.\n"
     ]
    },
    {
     "name": "stdout",
     "output_type": "stream",
     "text": [
      "\n",
      "\n",
      "=============================================================================================================================\n",
      "=============================================================================================================================\n",
      "\n"
     ]
    },
    {
     "name": "stderr",
     "output_type": "stream",
     "text": [
      "[Succeeded / Failed / Skipped / Total] 35 / 61 / 29 / 125:  25%|█████▎               | 125/500 [01:33<04:40,  1.34it/s]textattack: Saving checkpoint under \"checkpoints\\1720261357190.ta.chkpt\" at 2024-07-06 18:22:37 after 125 attacks.\n"
     ]
    },
    {
     "name": "stdout",
     "output_type": "stream",
     "text": [
      "\n",
      "\n",
      "=============================================================================================================================\n",
      "=============================================================================================================================\n",
      "\n"
     ]
    },
    {
     "name": "stderr",
     "output_type": "stream",
     "text": [
      "[Succeeded / Failed / Skipped / Total] 37 / 63 / 30 / 130:  26%|█████▍               | 130/500 [01:35<04:31,  1.36it/s]textattack: Saving checkpoint under \"checkpoints\\1720261359268.ta.chkpt\" at 2024-07-06 18:22:39 after 130 attacks.\n",
      "[Succeeded / Failed / Skipped / Total] 37 / 63 / 31 / 131:  26%|█████▌               | 131/500 [01:35<04:29,  1.37it/s]"
     ]
    },
    {
     "name": "stdout",
     "output_type": "stream",
     "text": [
      "\n",
      "\n",
      "=============================================================================================================================\n",
      "=============================================================================================================================\n",
      "\n"
     ]
    },
    {
     "name": "stderr",
     "output_type": "stream",
     "text": [
      "[Succeeded / Failed / Skipped / Total] 38 / 65 / 32 / 135:  27%|█████▋               | 135/500 [01:40<04:30,  1.35it/s]textattack: Saving checkpoint under \"checkpoints\\1720261364081.ta.chkpt\" at 2024-07-06 18:22:44 after 135 attacks.\n"
     ]
    },
    {
     "name": "stdout",
     "output_type": "stream",
     "text": [
      "\n",
      "\n",
      "=============================================================================================================================\n",
      "=============================================================================================================================\n",
      "\n"
     ]
    },
    {
     "name": "stderr",
     "output_type": "stream",
     "text": [
      "[Succeeded / Failed / Skipped / Total] 41 / 66 / 33 / 140:  28%|█████▉               | 140/500 [01:44<04:29,  1.34it/s]textattack: Saving checkpoint under \"checkpoints\\1720261368660.ta.chkpt\" at 2024-07-06 18:22:48 after 140 attacks.\n"
     ]
    },
    {
     "name": "stdout",
     "output_type": "stream",
     "text": [
      "\n",
      "\n",
      "=============================================================================================================================\n",
      "=============================================================================================================================\n",
      "\n"
     ]
    },
    {
     "name": "stderr",
     "output_type": "stream",
     "text": [
      "[Succeeded / Failed / Skipped / Total] 44 / 68 / 33 / 145:  29%|██████               | 145/500 [01:48<04:25,  1.34it/s]textattack: Saving checkpoint under \"checkpoints\\1720261372176.ta.chkpt\" at 2024-07-06 18:22:52 after 145 attacks.\n",
      "[Succeeded / Failed / Skipped / Total] 44 / 68 / 35 / 147:  29%|██████▏              | 147/500 [01:48<04:20,  1.36it/s]"
     ]
    },
    {
     "name": "stdout",
     "output_type": "stream",
     "text": [
      "\n",
      "\n",
      "=============================================================================================================================\n",
      "=============================================================================================================================\n",
      "\n"
     ]
    },
    {
     "name": "stderr",
     "output_type": "stream",
     "text": [
      "[Succeeded / Failed / Skipped / Total] 45 / 69 / 36 / 150:  30%|██████▎              | 150/500 [01:49<04:15,  1.37it/s]textattack: Saving checkpoint under \"checkpoints\\1720261373473.ta.chkpt\" at 2024-07-06 18:22:53 after 150 attacks.\n"
     ]
    },
    {
     "name": "stdout",
     "output_type": "stream",
     "text": [
      "\n",
      "\n",
      "=============================================================================================================================\n",
      "=============================================================================================================================\n",
      "\n"
     ]
    },
    {
     "name": "stderr",
     "output_type": "stream",
     "text": [
      "[Succeeded / Failed / Skipped / Total] 48 / 69 / 38 / 155:  31%|██████▌              | 155/500 [01:50<04:06,  1.40it/s]textattack: Saving checkpoint under \"checkpoints\\1720261374660.ta.chkpt\" at 2024-07-06 18:22:54 after 155 attacks.\n"
     ]
    },
    {
     "name": "stdout",
     "output_type": "stream",
     "text": [
      "\n",
      "\n",
      "=============================================================================================================================\n",
      "=============================================================================================================================\n",
      "\n"
     ]
    },
    {
     "name": "stderr",
     "output_type": "stream",
     "text": [
      "[Succeeded / Failed / Skipped / Total] 48 / 72 / 40 / 160:  32%|██████▋              | 160/500 [01:54<04:04,  1.39it/s]textattack: Saving checkpoint under \"checkpoints\\1720261378707.ta.chkpt\" at 2024-07-06 18:22:58 after 160 attacks.\n",
      "[Succeeded / Failed / Skipped / Total] 48 / 72 / 41 / 161:  32%|██████▊              | 161/500 [01:54<04:02,  1.40it/s]"
     ]
    },
    {
     "name": "stdout",
     "output_type": "stream",
     "text": [
      "\n",
      "\n",
      "=============================================================================================================================\n",
      "=============================================================================================================================\n",
      "\n"
     ]
    },
    {
     "name": "stderr",
     "output_type": "stream",
     "text": [
      "[Succeeded / Failed / Skipped / Total] 49 / 74 / 42 / 165:  33%|██████▉              | 165/500 [01:57<03:58,  1.41it/s]textattack: Saving checkpoint under \"checkpoints\\1720261381098.ta.chkpt\" at 2024-07-06 18:23:01 after 165 attacks.\n"
     ]
    },
    {
     "name": "stdout",
     "output_type": "stream",
     "text": [
      "\n",
      "\n",
      "=============================================================================================================================\n",
      "=============================================================================================================================\n",
      "\n"
     ]
    },
    {
     "name": "stderr",
     "output_type": "stream",
     "text": [
      "[Succeeded / Failed / Skipped / Total] 51 / 75 / 44 / 170:  34%|███████▏             | 170/500 [01:59<03:52,  1.42it/s]textattack: Saving checkpoint under \"checkpoints\\1720261383426.ta.chkpt\" at 2024-07-06 18:23:03 after 170 attacks.\n"
     ]
    },
    {
     "name": "stdout",
     "output_type": "stream",
     "text": [
      "\n",
      "\n",
      "=============================================================================================================================\n",
      "=============================================================================================================================\n",
      "\n"
     ]
    },
    {
     "name": "stderr",
     "output_type": "stream",
     "text": [
      "[Succeeded / Failed / Skipped / Total] 51 / 79 / 45 / 175:  35%|███████▎             | 175/500 [02:05<03:53,  1.39it/s]textattack: Saving checkpoint under \"checkpoints\\1720261389537.ta.chkpt\" at 2024-07-06 18:23:09 after 175 attacks.\n",
      "[Succeeded / Failed / Skipped / Total] 51 / 79 / 46 / 176:  35%|███████▍             | 176/500 [02:05<03:51,  1.40it/s]"
     ]
    },
    {
     "name": "stdout",
     "output_type": "stream",
     "text": [
      "\n",
      "\n",
      "=============================================================================================================================\n",
      "=============================================================================================================================\n",
      "\n"
     ]
    },
    {
     "name": "stderr",
     "output_type": "stream",
     "text": [
      "[Succeeded / Failed / Skipped / Total] 51 / 82 / 47 / 180:  36%|███████▌             | 180/500 [02:08<03:47,  1.41it/s]textattack: Saving checkpoint under \"checkpoints\\1720261391912.ta.chkpt\" at 2024-07-06 18:23:11 after 180 attacks.\n",
      "[Succeeded / Failed / Skipped / Total] 51 / 82 / 48 / 181:  36%|███████▌             | 181/500 [02:08<03:45,  1.41it/s]"
     ]
    },
    {
     "name": "stdout",
     "output_type": "stream",
     "text": [
      "\n",
      "\n",
      "=============================================================================================================================\n",
      "=============================================================================================================================\n",
      "\n"
     ]
    },
    {
     "name": "stderr",
     "output_type": "stream",
     "text": [
      "[Succeeded / Failed / Skipped / Total] 53 / 84 / 48 / 185:  37%|███████▊             | 185/500 [02:10<03:42,  1.41it/s]textattack: Saving checkpoint under \"checkpoints\\1720261394662.ta.chkpt\" at 2024-07-06 18:23:14 after 185 attacks.\n"
     ]
    },
    {
     "name": "stdout",
     "output_type": "stream",
     "text": [
      "\n",
      "\n",
      "=============================================================================================================================\n",
      "=============================================================================================================================\n",
      "\n"
     ]
    },
    {
     "name": "stderr",
     "output_type": "stream",
     "text": [
      "[Succeeded / Failed / Skipped / Total] 54 / 88 / 48 / 190:  38%|███████▉             | 190/500 [02:16<03:42,  1.39it/s]textattack: Saving checkpoint under \"checkpoints\\1720261400288.ta.chkpt\" at 2024-07-06 18:23:20 after 190 attacks.\n"
     ]
    },
    {
     "name": "stdout",
     "output_type": "stream",
     "text": [
      "\n",
      "\n",
      "=============================================================================================================================\n",
      "=============================================================================================================================\n",
      "\n"
     ]
    },
    {
     "name": "stderr",
     "output_type": "stream",
     "text": [
      "[Succeeded / Failed / Skipped / Total] 54 / 91 / 50 / 195:  39%|████████▏            | 195/500 [02:20<03:40,  1.38it/s]textattack: Saving checkpoint under \"checkpoints\\1720261404788.ta.chkpt\" at 2024-07-06 18:23:24 after 195 attacks.\n"
     ]
    },
    {
     "name": "stdout",
     "output_type": "stream",
     "text": [
      "\n",
      "\n",
      "=============================================================================================================================\n",
      "=============================================================================================================================\n",
      "\n"
     ]
    },
    {
     "name": "stderr",
     "output_type": "stream",
     "text": [
      "[Succeeded / Failed / Skipped / Total] 56 / 93 / 51 / 200:  40%|████████▍            | 200/500 [02:26<03:39,  1.37it/s]textattack: Saving checkpoint under \"checkpoints\\1720261410007.ta.chkpt\" at 2024-07-06 18:23:30 after 200 attacks.\n"
     ]
    },
    {
     "name": "stdout",
     "output_type": "stream",
     "text": [
      "\n",
      "\n",
      "=============================================================================================================================\n",
      "=============================================================================================================================\n",
      "\n"
     ]
    },
    {
     "name": "stderr",
     "output_type": "stream",
     "text": [
      "[Succeeded / Failed / Skipped / Total] 57 / 96 / 52 / 205:  41%|████████▌            | 205/500 [02:28<03:34,  1.38it/s]textattack: Saving checkpoint under \"checkpoints\\1720261412726.ta.chkpt\" at 2024-07-06 18:23:32 after 205 attacks.\n"
     ]
    },
    {
     "name": "stdout",
     "output_type": "stream",
     "text": [
      "\n",
      "\n",
      "=============================================================================================================================\n",
      "=============================================================================================================================\n",
      "\n"
     ]
    },
    {
     "name": "stderr",
     "output_type": "stream",
     "text": [
      "[Succeeded / Failed / Skipped / Total] 58 / 99 / 53 / 210:  42%|████████▊            | 210/500 [02:31<03:28,  1.39it/s]textattack: Saving checkpoint under \"checkpoints\\1720261415023.ta.chkpt\" at 2024-07-06 18:23:35 after 210 attacks.\n"
     ]
    },
    {
     "name": "stdout",
     "output_type": "stream",
     "text": [
      "\n",
      "\n",
      "=============================================================================================================================\n",
      "=============================================================================================================================\n",
      "\n"
     ]
    },
    {
     "name": "stderr",
     "output_type": "stream",
     "text": [
      "[Succeeded / Failed / Skipped / Total] 59 / 102 / 54 / 215:  43%|████████▌           | 215/500 [02:34<03:24,  1.40it/s]textattack: Saving checkpoint under \"checkpoints\\1720261417851.ta.chkpt\" at 2024-07-06 18:23:37 after 215 attacks.\n"
     ]
    },
    {
     "name": "stdout",
     "output_type": "stream",
     "text": [
      "\n",
      "\n",
      "=============================================================================================================================\n",
      "=============================================================================================================================\n",
      "\n"
     ]
    },
    {
     "name": "stderr",
     "output_type": "stream",
     "text": [
      "[Succeeded / Failed / Skipped / Total] 60 / 106 / 54 / 220:  44%|████████▊           | 220/500 [02:37<03:20,  1.40it/s]textattack: Saving checkpoint under \"checkpoints\\1720261421320.ta.chkpt\" at 2024-07-06 18:23:41 after 220 attacks.\n"
     ]
    },
    {
     "name": "stdout",
     "output_type": "stream",
     "text": [
      "\n",
      "\n",
      "=============================================================================================================================\n",
      "=============================================================================================================================\n",
      "\n"
     ]
    },
    {
     "name": "stderr",
     "output_type": "stream",
     "text": [
      "[Succeeded / Failed / Skipped / Total] 62 / 107 / 56 / 225:  45%|█████████           | 225/500 [02:41<03:17,  1.39it/s]textattack: Saving checkpoint under \"checkpoints\\1720261425414.ta.chkpt\" at 2024-07-06 18:23:45 after 225 attacks.\n"
     ]
    },
    {
     "name": "stdout",
     "output_type": "stream",
     "text": [
      "\n",
      "\n",
      "=============================================================================================================================\n",
      "=============================================================================================================================\n",
      "\n"
     ]
    },
    {
     "name": "stderr",
     "output_type": "stream",
     "text": [
      "[Succeeded / Failed / Skipped / Total] 63 / 110 / 57 / 230:  46%|█████████▏          | 230/500 [02:44<03:12,  1.40it/s]textattack: Saving checkpoint under \"checkpoints\\1720261428086.ta.chkpt\" at 2024-07-06 18:23:48 after 230 attacks.\n"
     ]
    },
    {
     "name": "stdout",
     "output_type": "stream",
     "text": [
      "\n",
      "\n",
      "=============================================================================================================================\n",
      "=============================================================================================================================\n",
      "\n"
     ]
    },
    {
     "name": "stderr",
     "output_type": "stream",
     "text": [
      "[Succeeded / Failed / Skipped / Total] 65 / 113 / 57 / 235:  47%|█████████▍          | 235/500 [02:47<03:09,  1.40it/s]textattack: Saving checkpoint under \"checkpoints\\1720261431555.ta.chkpt\" at 2024-07-06 18:23:51 after 235 attacks.\n"
     ]
    },
    {
     "name": "stdout",
     "output_type": "stream",
     "text": [
      "\n",
      "\n",
      "=============================================================================================================================\n",
      "=============================================================================================================================\n",
      "\n"
     ]
    },
    {
     "name": "stderr",
     "output_type": "stream",
     "text": [
      "[Succeeded / Failed / Skipped / Total] 67 / 116 / 57 / 240:  48%|█████████▌          | 240/500 [02:50<03:04,  1.41it/s]textattack: Saving checkpoint under \"checkpoints\\1720261434446.ta.chkpt\" at 2024-07-06 18:23:54 after 240 attacks.\n"
     ]
    },
    {
     "name": "stdout",
     "output_type": "stream",
     "text": [
      "\n",
      "\n",
      "=============================================================================================================================\n",
      "=============================================================================================================================\n",
      "\n"
     ]
    },
    {
     "name": "stderr",
     "output_type": "stream",
     "text": [
      "[Succeeded / Failed / Skipped / Total] 68 / 120 / 57 / 245:  49%|█████████▊          | 245/500 [02:54<03:01,  1.40it/s]textattack: Saving checkpoint under \"checkpoints\\1720261438493.ta.chkpt\" at 2024-07-06 18:23:58 after 245 attacks.\n"
     ]
    },
    {
     "name": "stdout",
     "output_type": "stream",
     "text": [
      "\n",
      "\n",
      "=============================================================================================================================\n",
      "=============================================================================================================================\n",
      "\n"
     ]
    },
    {
     "name": "stderr",
     "output_type": "stream",
     "text": [
      "[Succeeded / Failed / Skipped / Total] 68 / 123 / 59 / 250:  50%|██████████          | 250/500 [02:56<02:56,  1.42it/s]textattack: Saving checkpoint under \"checkpoints\\1720261440415.ta.chkpt\" at 2024-07-06 18:24:00 after 250 attacks.\n"
     ]
    },
    {
     "name": "stdout",
     "output_type": "stream",
     "text": [
      "\n",
      "\n",
      "=============================================================================================================================\n",
      "=============================================================================================================================\n",
      "\n"
     ]
    },
    {
     "name": "stderr",
     "output_type": "stream",
     "text": [
      "[Succeeded / Failed / Skipped / Total] 71 / 124 / 60 / 255:  51%|██████████▏         | 255/500 [02:59<02:52,  1.42it/s]textattack: Saving checkpoint under \"checkpoints\\1720261443681.ta.chkpt\" at 2024-07-06 18:24:03 after 255 attacks.\n"
     ]
    },
    {
     "name": "stdout",
     "output_type": "stream",
     "text": [
      "\n",
      "\n",
      "=============================================================================================================================\n",
      "=============================================================================================================================\n",
      "\n"
     ]
    },
    {
     "name": "stderr",
     "output_type": "stream",
     "text": [
      "[Succeeded / Failed / Skipped / Total] 73 / 125 / 62 / 260:  52%|██████████▍         | 260/500 [03:03<02:48,  1.42it/s]textattack: Saving checkpoint under \"checkpoints\\1720261446916.ta.chkpt\" at 2024-07-06 18:24:06 after 260 attacks.\n"
     ]
    },
    {
     "name": "stdout",
     "output_type": "stream",
     "text": [
      "\n",
      "\n",
      "=============================================================================================================================\n",
      "=============================================================================================================================\n",
      "\n"
     ]
    },
    {
     "name": "stderr",
     "output_type": "stream",
     "text": [
      "[Succeeded / Failed / Skipped / Total] 74 / 129 / 62 / 265:  53%|██████████▌         | 265/500 [03:07<02:46,  1.41it/s]textattack: Saving checkpoint under \"checkpoints\\1720261451166.ta.chkpt\" at 2024-07-06 18:24:11 after 265 attacks.\n"
     ]
    },
    {
     "name": "stdout",
     "output_type": "stream",
     "text": [
      "\n",
      "\n",
      "=============================================================================================================================\n",
      "=============================================================================================================================\n",
      "\n"
     ]
    },
    {
     "name": "stderr",
     "output_type": "stream",
     "text": [
      "[Succeeded / Failed / Skipped / Total] 75 / 132 / 63 / 270:  54%|██████████▊         | 270/500 [03:12<02:43,  1.41it/s]textattack: Saving checkpoint under \"checkpoints\\1720261455948.ta.chkpt\" at 2024-07-06 18:24:15 after 270 attacks.\n",
      "[Succeeded / Failed / Skipped / Total] 75 / 132 / 64 / 271:  54%|██████████▊         | 271/500 [03:12<02:42,  1.41it/s]"
     ]
    },
    {
     "name": "stdout",
     "output_type": "stream",
     "text": [
      "\n",
      "\n",
      "=============================================================================================================================\n",
      "=============================================================================================================================\n",
      "\n"
     ]
    },
    {
     "name": "stderr",
     "output_type": "stream",
     "text": [
      "[Succeeded / Failed / Skipped / Total] 78 / 132 / 65 / 275:  55%|███████████         | 275/500 [03:13<02:38,  1.42it/s]textattack: Saving checkpoint under \"checkpoints\\1720261457479.ta.chkpt\" at 2024-07-06 18:24:17 after 275 attacks.\n",
      "[Succeeded / Failed / Skipped / Total] 78 / 132 / 67 / 277:  55%|███████████         | 277/500 [03:13<02:36,  1.43it/s]"
     ]
    },
    {
     "name": "stdout",
     "output_type": "stream",
     "text": [
      "\n",
      "\n",
      "=============================================================================================================================\n",
      "=============================================================================================================================\n",
      "\n"
     ]
    },
    {
     "name": "stderr",
     "output_type": "stream",
     "text": [
      "[Succeeded / Failed / Skipped / Total] 79 / 134 / 67 / 280:  56%|███████████▏        | 280/500 [03:16<02:34,  1.42it/s]textattack: Saving checkpoint under \"checkpoints\\1720261460433.ta.chkpt\" at 2024-07-06 18:24:20 after 280 attacks.\n"
     ]
    },
    {
     "name": "stdout",
     "output_type": "stream",
     "text": [
      "\n",
      "\n",
      "=============================================================================================================================\n",
      "=============================================================================================================================\n",
      "\n"
     ]
    },
    {
     "name": "stderr",
     "output_type": "stream",
     "text": [
      "[Succeeded / Failed / Skipped / Total] 80 / 137 / 68 / 285:  57%|███████████▍        | 285/500 [03:19<02:30,  1.43it/s]textattack: Saving checkpoint under \"checkpoints\\1720261463448.ta.chkpt\" at 2024-07-06 18:24:23 after 285 attacks.\n"
     ]
    },
    {
     "name": "stdout",
     "output_type": "stream",
     "text": [
      "\n",
      "\n",
      "=============================================================================================================================\n",
      "=============================================================================================================================\n",
      "\n"
     ]
    },
    {
     "name": "stderr",
     "output_type": "stream",
     "text": [
      "[Succeeded / Failed / Skipped / Total] 82 / 139 / 69 / 290:  58%|███████████▌        | 290/500 [03:22<02:26,  1.43it/s]textattack: Saving checkpoint under \"checkpoints\\1720261466339.ta.chkpt\" at 2024-07-06 18:24:26 after 290 attacks.\n"
     ]
    },
    {
     "name": "stdout",
     "output_type": "stream",
     "text": [
      "\n",
      "\n",
      "=============================================================================================================================\n",
      "=============================================================================================================================\n",
      "\n"
     ]
    },
    {
     "name": "stderr",
     "output_type": "stream",
     "text": [
      "[Succeeded / Failed / Skipped / Total] 83 / 142 / 70 / 295:  59%|███████████▊        | 295/500 [03:26<02:23,  1.43it/s]textattack: Saving checkpoint under \"checkpoints\\1720261470668.ta.chkpt\" at 2024-07-06 18:24:30 after 295 attacks.\n"
     ]
    },
    {
     "name": "stdout",
     "output_type": "stream",
     "text": [
      "\n",
      "\n",
      "=============================================================================================================================\n",
      "=============================================================================================================================\n",
      "\n"
     ]
    },
    {
     "name": "stderr",
     "output_type": "stream",
     "text": [
      "[Succeeded / Failed / Skipped / Total] 85 / 145 / 70 / 300:  60%|████████████        | 300/500 [03:30<02:20,  1.43it/s]textattack: Saving checkpoint under \"checkpoints\\1720261474059.ta.chkpt\" at 2024-07-06 18:24:34 after 300 attacks.\n"
     ]
    },
    {
     "name": "stdout",
     "output_type": "stream",
     "text": [
      "\n",
      "\n",
      "=============================================================================================================================\n",
      "=============================================================================================================================\n",
      "\n"
     ]
    },
    {
     "name": "stderr",
     "output_type": "stream",
     "text": [
      "[Succeeded / Failed / Skipped / Total] 88 / 147 / 70 / 305:  61%|████████████▏       | 305/500 [03:34<02:16,  1.42it/s]textattack: Saving checkpoint under \"checkpoints\\1720261477949.ta.chkpt\" at 2024-07-06 18:24:37 after 305 attacks.\n"
     ]
    },
    {
     "name": "stdout",
     "output_type": "stream",
     "text": [
      "\n",
      "\n",
      "=============================================================================================================================\n",
      "=============================================================================================================================\n",
      "\n"
     ]
    },
    {
     "name": "stderr",
     "output_type": "stream",
     "text": [
      "[Succeeded / Failed / Skipped / Total] 88 / 151 / 71 / 310:  62%|████████████▍       | 310/500 [03:36<02:12,  1.43it/s]textattack: Saving checkpoint under \"checkpoints\\1720261480028.ta.chkpt\" at 2024-07-06 18:24:40 after 310 attacks.\n"
     ]
    },
    {
     "name": "stdout",
     "output_type": "stream",
     "text": [
      "\n",
      "\n",
      "=============================================================================================================================\n",
      "=============================================================================================================================\n",
      "\n"
     ]
    },
    {
     "name": "stderr",
     "output_type": "stream",
     "text": [
      "[Succeeded / Failed / Skipped / Total] 89 / 153 / 73 / 315:  63%|████████████▌       | 315/500 [03:38<02:08,  1.44it/s]textattack: Saving checkpoint under \"checkpoints\\1720261482169.ta.chkpt\" at 2024-07-06 18:24:42 after 315 attacks.\n"
     ]
    },
    {
     "name": "stdout",
     "output_type": "stream",
     "text": [
      "\n",
      "\n",
      "=============================================================================================================================\n",
      "=============================================================================================================================\n",
      "\n"
     ]
    },
    {
     "name": "stderr",
     "output_type": "stream",
     "text": [
      "[Succeeded / Failed / Skipped / Total] 91 / 154 / 75 / 320:  64%|████████████▊       | 320/500 [03:42<02:05,  1.44it/s]textattack: Saving checkpoint under \"checkpoints\\1720261486341.ta.chkpt\" at 2024-07-06 18:24:46 after 320 attacks.\n"
     ]
    },
    {
     "name": "stdout",
     "output_type": "stream",
     "text": [
      "\n",
      "\n",
      "=============================================================================================================================\n",
      "=============================================================================================================================\n",
      "\n"
     ]
    },
    {
     "name": "stderr",
     "output_type": "stream",
     "text": [
      "[Succeeded / Failed / Skipped / Total] 94 / 156 / 75 / 325:  65%|█████████████       | 325/500 [03:48<02:02,  1.42it/s]textattack: Saving checkpoint under \"checkpoints\\1720261492075.ta.chkpt\" at 2024-07-06 18:24:52 after 325 attacks.\n"
     ]
    },
    {
     "name": "stdout",
     "output_type": "stream",
     "text": [
      "\n",
      "\n",
      "=============================================================================================================================\n",
      "=============================================================================================================================\n",
      "\n"
     ]
    },
    {
     "name": "stderr",
     "output_type": "stream",
     "text": [
      "[Succeeded / Failed / Skipped / Total] 96 / 159 / 75 / 330:  66%|█████████████▏      | 330/500 [03:50<01:58,  1.43it/s]textattack: Saving checkpoint under \"checkpoints\\1720261494841.ta.chkpt\" at 2024-07-06 18:24:54 after 330 attacks.\n"
     ]
    },
    {
     "name": "stdout",
     "output_type": "stream",
     "text": [
      "\n",
      "\n",
      "=============================================================================================================================\n",
      "=============================================================================================================================\n",
      "\n"
     ]
    },
    {
     "name": "stderr",
     "output_type": "stream",
     "text": [
      "[Succeeded / Failed / Skipped / Total] 96 / 163 / 76 / 335:  67%|█████████████▍      | 335/500 [03:58<01:57,  1.41it/s]textattack: Saving checkpoint under \"checkpoints\\1720261501858.ta.chkpt\" at 2024-07-06 18:25:01 after 335 attacks.\n",
      "[Succeeded / Failed / Skipped / Total] 96 / 163 / 77 / 336:  67%|█████████████▍      | 336/500 [03:58<01:56,  1.41it/s]"
     ]
    },
    {
     "name": "stdout",
     "output_type": "stream",
     "text": [
      "\n",
      "\n",
      "=============================================================================================================================\n",
      "=============================================================================================================================\n",
      "\n"
     ]
    },
    {
     "name": "stderr",
     "output_type": "stream",
     "text": [
      "[Succeeded / Failed / Skipped / Total] 97 / 165 / 78 / 340:  68%|█████████████▌      | 340/500 [04:00<01:53,  1.42it/s]textattack: Saving checkpoint under \"checkpoints\\1720261504124.ta.chkpt\" at 2024-07-06 18:25:04 after 340 attacks.\n"
     ]
    },
    {
     "name": "stdout",
     "output_type": "stream",
     "text": [
      "\n",
      "\n",
      "=============================================================================================================================\n",
      "=============================================================================================================================\n",
      "\n"
     ]
    },
    {
     "name": "stderr",
     "output_type": "stream",
     "text": [
      "[Succeeded / Failed / Skipped / Total] 98 / 167 / 80 / 345:  69%|█████████████▊      | 345/500 [04:02<01:49,  1.42it/s]textattack: Saving checkpoint under \"checkpoints\\1720261506608.ta.chkpt\" at 2024-07-06 18:25:06 after 345 attacks.\n"
     ]
    },
    {
     "name": "stdout",
     "output_type": "stream",
     "text": [
      "\n",
      "\n",
      "=============================================================================================================================\n",
      "=============================================================================================================================\n",
      "\n"
     ]
    },
    {
     "name": "stderr",
     "output_type": "stream",
     "text": [
      "[Succeeded / Failed / Skipped / Total] 101 / 168 / 81 / 350:  70%|█████████████▎     | 350/500 [04:06<01:45,  1.42it/s]textattack: Saving checkpoint under \"checkpoints\\1720261510843.ta.chkpt\" at 2024-07-06 18:25:10 after 350 attacks.\n"
     ]
    },
    {
     "name": "stdout",
     "output_type": "stream",
     "text": [
      "\n",
      "\n",
      "=============================================================================================================================\n",
      "=============================================================================================================================\n",
      "\n"
     ]
    },
    {
     "name": "stderr",
     "output_type": "stream",
     "text": [
      "[Succeeded / Failed / Skipped / Total] 102 / 172 / 81 / 355:  71%|█████████████▍     | 355/500 [04:12<01:43,  1.41it/s]textattack: Saving checkpoint under \"checkpoints\\1720261516359.ta.chkpt\" at 2024-07-06 18:25:16 after 355 attacks.\n",
      "[Succeeded / Failed / Skipped / Total] 102 / 172 / 81 / 355:  71%|█████████████▌     | 356/500 [04:12<01:42,  1.41it/s]"
     ]
    },
    {
     "name": "stdout",
     "output_type": "stream",
     "text": [
      "\n",
      "\n",
      "=============================================================================================================================\n",
      "=============================================================================================================================\n",
      "\n"
     ]
    },
    {
     "name": "stderr",
     "output_type": "stream",
     "text": [
      "[Succeeded / Failed / Skipped / Total] 103 / 175 / 82 / 360:  72%|█████████████▋     | 360/500 [04:15<01:39,  1.41it/s]textattack: Saving checkpoint under \"checkpoints\\1720261519672.ta.chkpt\" at 2024-07-06 18:25:19 after 360 attacks.\n"
     ]
    },
    {
     "name": "stdout",
     "output_type": "stream",
     "text": [
      "\n",
      "\n",
      "=============================================================================================================================\n",
      "=============================================================================================================================\n",
      "\n"
     ]
    },
    {
     "name": "stderr",
     "output_type": "stream",
     "text": [
      "[Succeeded / Failed / Skipped / Total] 104 / 179 / 82 / 365:  73%|█████████████▊     | 365/500 [04:19<01:35,  1.41it/s]textattack: Saving checkpoint under \"checkpoints\\1720261523313.ta.chkpt\" at 2024-07-06 18:25:23 after 365 attacks.\n",
      "[Succeeded / Failed / Skipped / Total] 104 / 179 / 83 / 366:  73%|█████████████▉     | 366/500 [04:19<01:35,  1.41it/s]"
     ]
    },
    {
     "name": "stdout",
     "output_type": "stream",
     "text": [
      "\n",
      "\n",
      "=============================================================================================================================\n",
      "=============================================================================================================================\n",
      "\n"
     ]
    },
    {
     "name": "stderr",
     "output_type": "stream",
     "text": [
      "[Succeeded / Failed / Skipped / Total] 105 / 182 / 83 / 370:  74%|██████████████     | 370/500 [04:23<01:32,  1.40it/s]textattack: Saving checkpoint under \"checkpoints\\1720261527407.ta.chkpt\" at 2024-07-06 18:25:27 after 370 attacks.\n",
      "[Succeeded / Failed / Skipped / Total] 105 / 182 / 84 / 371:  74%|██████████████     | 371/500 [04:23<01:31,  1.41it/s]"
     ]
    },
    {
     "name": "stdout",
     "output_type": "stream",
     "text": [
      "\n",
      "\n",
      "=============================================================================================================================\n",
      "=============================================================================================================================\n",
      "\n"
     ]
    },
    {
     "name": "stderr",
     "output_type": "stream",
     "text": [
      "[Succeeded / Failed / Skipped / Total] 107 / 184 / 84 / 375:  75%|██████████████▎    | 375/500 [04:28<01:29,  1.40it/s]textattack: Saving checkpoint under \"checkpoints\\1720261531876.ta.chkpt\" at 2024-07-06 18:25:31 after 375 attacks.\n"
     ]
    },
    {
     "name": "stdout",
     "output_type": "stream",
     "text": [
      "\n",
      "\n",
      "=============================================================================================================================\n",
      "=============================================================================================================================\n",
      "\n"
     ]
    },
    {
     "name": "stderr",
     "output_type": "stream",
     "text": [
      "[Succeeded / Failed / Skipped / Total] 109 / 186 / 85 / 380:  76%|██████████████▍    | 380/500 [04:29<01:25,  1.41it/s]textattack: Saving checkpoint under \"checkpoints\\1720261533407.ta.chkpt\" at 2024-07-06 18:25:33 after 380 attacks.\n"
     ]
    },
    {
     "name": "stdout",
     "output_type": "stream",
     "text": [
      "\n",
      "\n",
      "=============================================================================================================================\n",
      "=============================================================================================================================\n",
      "\n"
     ]
    },
    {
     "name": "stderr",
     "output_type": "stream",
     "text": [
      "[Succeeded / Failed / Skipped / Total] 111 / 189 / 85 / 385:  77%|██████████████▋    | 385/500 [04:34<01:21,  1.40it/s]textattack: Saving checkpoint under \"checkpoints\\1720261538267.ta.chkpt\" at 2024-07-06 18:25:38 after 385 attacks.\n"
     ]
    },
    {
     "name": "stdout",
     "output_type": "stream",
     "text": [
      "\n",
      "\n",
      "=============================================================================================================================\n",
      "=============================================================================================================================\n",
      "\n"
     ]
    },
    {
     "name": "stderr",
     "output_type": "stream",
     "text": [
      "[Succeeded / Failed / Skipped / Total] 112 / 192 / 86 / 390:  78%|██████████████▊    | 390/500 [04:36<01:17,  1.41it/s]textattack: Saving checkpoint under \"checkpoints\\1720261540189.ta.chkpt\" at 2024-07-06 18:25:40 after 390 attacks.\n"
     ]
    },
    {
     "name": "stdout",
     "output_type": "stream",
     "text": [
      "\n",
      "\n",
      "=============================================================================================================================\n",
      "=============================================================================================================================\n",
      "\n"
     ]
    },
    {
     "name": "stderr",
     "output_type": "stream",
     "text": [
      "[Succeeded / Failed / Skipped / Total] 112 / 196 / 87 / 395:  79%|███████████████    | 395/500 [04:41<01:14,  1.40it/s]textattack: Saving checkpoint under \"checkpoints\\1720261545580.ta.chkpt\" at 2024-07-06 18:25:45 after 395 attacks.\n"
     ]
    },
    {
     "name": "stdout",
     "output_type": "stream",
     "text": [
      "\n",
      "\n",
      "=============================================================================================================================\n",
      "=============================================================================================================================\n",
      "\n"
     ]
    },
    {
     "name": "stderr",
     "output_type": "stream",
     "text": [
      "[Succeeded / Failed / Skipped / Total] 114 / 199 / 87 / 400:  80%|███████████████▏   | 400/500 [04:47<01:11,  1.39it/s]textattack: Saving checkpoint under \"checkpoints\\1720261550971.ta.chkpt\" at 2024-07-06 18:25:50 after 400 attacks.\n"
     ]
    },
    {
     "name": "stdout",
     "output_type": "stream",
     "text": [
      "\n",
      "\n",
      "=============================================================================================================================\n",
      "=============================================================================================================================\n",
      "\n"
     ]
    },
    {
     "name": "stderr",
     "output_type": "stream",
     "text": [
      "[Succeeded / Failed / Skipped / Total] 117 / 201 / 87 / 405:  81%|███████████████▍   | 405/500 [04:50<01:08,  1.39it/s]textattack: Saving checkpoint under \"checkpoints\\1720261554534.ta.chkpt\" at 2024-07-06 18:25:54 after 405 attacks.\n"
     ]
    },
    {
     "name": "stdout",
     "output_type": "stream",
     "text": [
      "\n",
      "\n",
      "=============================================================================================================================\n",
      "=============================================================================================================================\n",
      "\n"
     ]
    },
    {
     "name": "stderr",
     "output_type": "stream",
     "text": [
      "[Succeeded / Failed / Skipped / Total] 118 / 204 / 88 / 410:  82%|███████████████▌   | 410/500 [04:53<01:04,  1.39it/s]textattack: Saving checkpoint under \"checkpoints\\1720261557768.ta.chkpt\" at 2024-07-06 18:25:57 after 410 attacks.\n"
     ]
    },
    {
     "name": "stdout",
     "output_type": "stream",
     "text": [
      "\n",
      "\n",
      "=============================================================================================================================\n",
      "=============================================================================================================================\n",
      "\n"
     ]
    },
    {
     "name": "stderr",
     "output_type": "stream",
     "text": [
      "[Succeeded / Failed / Skipped / Total] 118 / 205 / 92 / 415:  83%|███████████████▊   | 415/500 [04:54<01:00,  1.41it/s]textattack: Saving checkpoint under \"checkpoints\\1720261558815.ta.chkpt\" at 2024-07-06 18:25:58 after 415 attacks.\n"
     ]
    },
    {
     "name": "stdout",
     "output_type": "stream",
     "text": [
      "\n",
      "\n",
      "=============================================================================================================================\n",
      "=============================================================================================================================\n",
      "\n"
     ]
    },
    {
     "name": "stderr",
     "output_type": "stream",
     "text": [
      "[Succeeded / Failed / Skipped / Total] 119 / 208 / 93 / 420:  84%|███████████████▉   | 420/500 [04:59<00:57,  1.40it/s]textattack: Saving checkpoint under \"checkpoints\\1720261563347.ta.chkpt\" at 2024-07-06 18:26:03 after 420 attacks.\n"
     ]
    },
    {
     "name": "stdout",
     "output_type": "stream",
     "text": [
      "\n",
      "\n",
      "=============================================================================================================================\n",
      "=============================================================================================================================\n",
      "\n"
     ]
    },
    {
     "name": "stderr",
     "output_type": "stream",
     "text": [
      "[Succeeded / Failed / Skipped / Total] 121 / 211 / 93 / 425:  85%|████████████████▏  | 425/500 [05:04<00:53,  1.40it/s]textattack: Saving checkpoint under \"checkpoints\\1720261568332.ta.chkpt\" at 2024-07-06 18:26:08 after 425 attacks.\n"
     ]
    },
    {
     "name": "stdout",
     "output_type": "stream",
     "text": [
      "\n",
      "\n",
      "=============================================================================================================================\n",
      "=============================================================================================================================\n",
      "\n"
     ]
    },
    {
     "name": "stderr",
     "output_type": "stream",
     "text": [
      "[Succeeded / Failed / Skipped / Total] 124 / 213 / 93 / 430:  86%|████████████████▎  | 430/500 [05:08<00:50,  1.39it/s]textattack: Saving checkpoint under \"checkpoints\\1720261572770.ta.chkpt\" at 2024-07-06 18:26:12 after 430 attacks.\n",
      "[Succeeded / Failed / Skipped / Total] 124 / 213 / 94 / 431:  86%|████████████████▍  | 431/500 [05:08<00:49,  1.39it/s]"
     ]
    },
    {
     "name": "stdout",
     "output_type": "stream",
     "text": [
      "\n",
      "\n",
      "=============================================================================================================================\n",
      "=============================================================================================================================\n",
      "\n"
     ]
    },
    {
     "name": "stderr",
     "output_type": "stream",
     "text": [
      "[Succeeded / Failed / Skipped / Total] 128 / 213 / 94 / 435:  87%|████████████████▌  | 435/500 [05:11<00:46,  1.40it/s]textattack: Saving checkpoint under \"checkpoints\\1720261575410.ta.chkpt\" at 2024-07-06 18:26:15 after 435 attacks.\n",
      "[Succeeded / Failed / Skipped / Total] 128 / 213 / 95 / 436:  87%|████████████████▌  | 436/500 [05:11<00:45,  1.40it/s]"
     ]
    },
    {
     "name": "stdout",
     "output_type": "stream",
     "text": [
      "\n",
      "\n",
      "=============================================================================================================================\n",
      "=============================================================================================================================\n",
      "\n"
     ]
    },
    {
     "name": "stderr",
     "output_type": "stream",
     "text": [
      "[Succeeded / Failed / Skipped / Total] 128 / 217 / 95 / 440:  88%|████████████████▋  | 440/500 [05:17<00:43,  1.39it/s]textattack: Saving checkpoint under \"checkpoints\\1720261581364.ta.chkpt\" at 2024-07-06 18:26:21 after 440 attacks.\n"
     ]
    },
    {
     "name": "stdout",
     "output_type": "stream",
     "text": [
      "\n",
      "\n",
      "=============================================================================================================================\n",
      "=============================================================================================================================\n",
      "\n"
     ]
    },
    {
     "name": "stderr",
     "output_type": "stream",
     "text": [
      "[Succeeded / Failed / Skipped / Total] 130 / 219 / 96 / 445:  89%|████████████████▉  | 445/500 [05:19<00:39,  1.39it/s]textattack: Saving checkpoint under \"checkpoints\\1720261583177.ta.chkpt\" at 2024-07-06 18:26:23 after 445 attacks.\n"
     ]
    },
    {
     "name": "stdout",
     "output_type": "stream",
     "text": [
      "\n",
      "\n",
      "=============================================================================================================================\n",
      "=============================================================================================================================\n",
      "\n"
     ]
    },
    {
     "name": "stderr",
     "output_type": "stream",
     "text": [
      "[Succeeded / Failed / Skipped / Total] 131 / 221 / 98 / 450:  90%|█████████████████  | 450/500 [05:21<00:35,  1.40it/s]textattack: Saving checkpoint under \"checkpoints\\1720261585239.ta.chkpt\" at 2024-07-06 18:26:25 after 450 attacks.\n"
     ]
    },
    {
     "name": "stdout",
     "output_type": "stream",
     "text": [
      "\n",
      "\n",
      "=============================================================================================================================\n",
      "=============================================================================================================================\n",
      "\n"
     ]
    },
    {
     "name": "stderr",
     "output_type": "stream",
     "text": [
      "[Succeeded / Failed / Skipped / Total] 133 / 223 / 99 / 455:  91%|█████████████████▎ | 455/500 [05:24<00:32,  1.40it/s]textattack: Saving checkpoint under \"checkpoints\\1720261588474.ta.chkpt\" at 2024-07-06 18:26:28 after 455 attacks.\n",
      "[Succeeded / Failed / Skipped / Total] 133 / 223 / 100 / 456:  91%|████████████████▍ | 456/500 [05:24<00:31,  1.40it/s]"
     ]
    },
    {
     "name": "stdout",
     "output_type": "stream",
     "text": [
      "\n",
      "\n",
      "=============================================================================================================================\n",
      "=============================================================================================================================\n",
      "\n"
     ]
    },
    {
     "name": "stderr",
     "output_type": "stream",
     "text": [
      "[Succeeded / Failed / Skipped / Total] 134 / 226 / 100 / 460:  92%|████████████████▌ | 460/500 [05:29<00:28,  1.40it/s]textattack: Saving checkpoint under \"checkpoints\\1720261593271.ta.chkpt\" at 2024-07-06 18:26:33 after 460 attacks.\n"
     ]
    },
    {
     "name": "stdout",
     "output_type": "stream",
     "text": [
      "\n",
      "\n",
      "=============================================================================================================================\n",
      "=============================================================================================================================\n",
      "\n"
     ]
    },
    {
     "name": "stderr",
     "output_type": "stream",
     "text": [
      "[Succeeded / Failed / Skipped / Total] 134 / 229 / 102 / 465:  93%|████████████████▋ | 465/500 [05:34<00:25,  1.39it/s]textattack: Saving checkpoint under \"checkpoints\\1720261598553.ta.chkpt\" at 2024-07-06 18:26:38 after 465 attacks.\n"
     ]
    },
    {
     "name": "stdout",
     "output_type": "stream",
     "text": [
      "\n",
      "\n",
      "=============================================================================================================================\n",
      "=============================================================================================================================\n",
      "\n"
     ]
    },
    {
     "name": "stderr",
     "output_type": "stream",
     "text": [
      "[Succeeded / Failed / Skipped / Total] 136 / 231 / 103 / 470:  94%|████████████████▉ | 470/500 [05:36<00:21,  1.40it/s]textattack: Saving checkpoint under \"checkpoints\\1720261600584.ta.chkpt\" at 2024-07-06 18:26:40 after 470 attacks.\n"
     ]
    },
    {
     "name": "stdout",
     "output_type": "stream",
     "text": [
      "\n",
      "\n",
      "=============================================================================================================================\n",
      "=============================================================================================================================\n",
      "\n"
     ]
    },
    {
     "name": "stderr",
     "output_type": "stream",
     "text": [
      "[Succeeded / Failed / Skipped / Total] 137 / 235 / 103 / 475:  95%|█████████████████ | 475/500 [05:42<00:18,  1.39it/s]textattack: Saving checkpoint under \"checkpoints\\1720261606506.ta.chkpt\" at 2024-07-06 18:26:46 after 475 attacks.\n"
     ]
    },
    {
     "name": "stdout",
     "output_type": "stream",
     "text": [
      "\n",
      "\n",
      "=============================================================================================================================\n",
      "=============================================================================================================================\n",
      "\n"
     ]
    },
    {
     "name": "stderr",
     "output_type": "stream",
     "text": [
      "[Succeeded / Failed / Skipped / Total] 140 / 237 / 103 / 480:  96%|█████████████████▎| 480/500 [05:44<00:14,  1.39it/s]textattack: Saving checkpoint under \"checkpoints\\1720261608819.ta.chkpt\" at 2024-07-06 18:26:48 after 480 attacks.\n",
      "[Succeeded / Failed / Skipped / Total] 140 / 238 / 103 / 481:  96%|█████████████████▎| 481/500 [05:45<00:13,  1.39it/s]"
     ]
    },
    {
     "name": "stdout",
     "output_type": "stream",
     "text": [
      "\n",
      "\n",
      "=============================================================================================================================\n",
      "=============================================================================================================================\n",
      "\n"
     ]
    },
    {
     "name": "stderr",
     "output_type": "stream",
     "text": [
      "[Succeeded / Failed / Skipped / Total] 140 / 241 / 104 / 485:  97%|█████████████████▍| 485/500 [05:49<00:10,  1.39it/s]textattack: Saving checkpoint under \"checkpoints\\1720261612929.ta.chkpt\" at 2024-07-06 18:26:52 after 485 attacks.\n"
     ]
    },
    {
     "name": "stdout",
     "output_type": "stream",
     "text": [
      "\n",
      "\n",
      "=============================================================================================================================\n",
      "=============================================================================================================================\n",
      "\n"
     ]
    },
    {
     "name": "stderr",
     "output_type": "stream",
     "text": [
      "[Succeeded / Failed / Skipped / Total] 142 / 242 / 106 / 490:  98%|█████████████████▋| 490/500 [05:51<00:07,  1.39it/s]textattack: Saving checkpoint under \"checkpoints\\1720261615441.ta.chkpt\" at 2024-07-06 18:26:55 after 490 attacks.\n",
      "[Succeeded / Failed / Skipped / Total] 142 / 242 / 107 / 491:  98%|█████████████████▋| 491/500 [05:51<00:06,  1.40it/s]"
     ]
    },
    {
     "name": "stdout",
     "output_type": "stream",
     "text": [
      "\n",
      "\n",
      "=============================================================================================================================\n",
      "=============================================================================================================================\n",
      "\n"
     ]
    },
    {
     "name": "stderr",
     "output_type": "stream",
     "text": [
      "[Succeeded / Failed / Skipped / Total] 143 / 245 / 107 / 495:  99%|█████████████████▊| 495/500 [05:57<00:03,  1.39it/s]textattack: Saving checkpoint under \"checkpoints\\1720261621223.ta.chkpt\" at 2024-07-06 18:27:01 after 495 attacks.\n"
     ]
    },
    {
     "name": "stdout",
     "output_type": "stream",
     "text": [
      "\n",
      "\n",
      "=============================================================================================================================\n",
      "=============================================================================================================================\n",
      "\n"
     ]
    },
    {
     "name": "stderr",
     "output_type": "stream",
     "text": [
      "[Succeeded / Failed / Skipped / Total] 144 / 249 / 107 / 500: 100%|██████████████████| 500/500 [06:02<00:00,  1.38it/s]textattack: Saving checkpoint under \"checkpoints\\1720261626332.ta.chkpt\" at 2024-07-06 18:27:06 after 500 attacks.\n",
      "[Succeeded / Failed / Skipped / Total] 144 / 249 / 107 / 500: 100%|██████████████████| 500/500 [06:02<00:00,  1.38it/s]"
     ]
    },
    {
     "name": "stdout",
     "output_type": "stream",
     "text": [
      "\n",
      "\n",
      "=============================================================================================================================\n",
      "=============================================================================================================================\n",
      "\n",
      "\n",
      "+-------------------------------+--------+\n",
      "| Attack Results                |        |\n",
      "+-------------------------------+--------+\n",
      "| Number of successful attacks: | 144    |\n",
      "| Number of failed attacks:     | 249    |\n",
      "| Number of skipped attacks:    | 107    |\n",
      "| Original accuracy:            | 78.6%  |\n",
      "| Accuracy under attack:        | 49.8%  |\n",
      "| Attack success rate:          | 36.64% |\n",
      "| Average perturbed word %:     | 14.13% |\n",
      "| Average num. words per input: | 18.4   |\n",
      "| Avg num queries:              | 21.92  |\n",
      "+-------------------------------+--------+\n"
     ]
    },
    {
     "name": "stderr",
     "output_type": "stream",
     "text": [
      "\n"
     ]
    }
   ],
   "source": [
    "runAttack(disbert_model_wrapper_svc_mr, n_samples, 'attack_results_new/disbertmrattacksvc'+suffix, target_ds_mr)"
   ]
  },
  {
   "cell_type": "markdown",
   "id": "11f01fff-dcd8-43f2-9b5b-d84826b7029b",
   "metadata": {},
   "source": [
    "### CLIP"
   ]
  },
  {
   "cell_type": "code",
   "execution_count": 24,
   "id": "91dc94fc-775d-4ee6-ba68-20bee81b8148",
   "metadata": {},
   "outputs": [
    {
     "name": "stderr",
     "output_type": "stream",
     "text": [
      "D:\\anaconda3\\envs\\tf\\lib\\site-packages\\huggingface_hub\\file_download.py:1132: FutureWarning: `resume_download` is deprecated and will be removed in version 1.0.0. Downloads always resume when possible. If you want to force a new download, use `force_download=True`.\n",
      "  warnings.warn(\n"
     ]
    }
   ],
   "source": [
    "# Load CLIP model and processor\n",
    "model_name = \"openai/clip-vit-base-patch32\"\n",
    "clip_processor = CLIPProcessor.from_pretrained(model_name)\n",
    "clip_model = CLIPModel.from_pretrained(model_name)\n",
    "\n",
    "# Access text encoder\n",
    "text_encoder = clip_model.text_model"
   ]
  },
  {
   "cell_type": "code",
   "execution_count": 25,
   "id": "806470a6-11a7-47bf-99c8-850663674716",
   "metadata": {},
   "outputs": [
    {
     "name": "stdout",
     "output_type": "stream",
     "text": [
      "Log Reg 0.7495309568480301\n",
      "RF 0.7054409005628518\n",
      "KNN 0.6885553470919324\n",
      "SVC 0.7551594746716698\n"
     ]
    }
   ],
   "source": [
    "clipmrtrain = pd.read_csv('dataset_embeddings/clipmrtrain.txt', header=None)\n",
    "clipmrtest = pd.read_csv('dataset_embeddings/clipmrtest.txt', header=None)\n",
    "lr_clip_mr, rf_clip_mr, knn_clip_mr, svc_clip_mr = adaptation(clipmrtrain, clipmrtest)"
   ]
  },
  {
   "cell_type": "code",
   "execution_count": 26,
   "id": "1226de83-7330-4793-bbbb-4ff4b79bb3e7",
   "metadata": {},
   "outputs": [],
   "source": [
    "# custom model wrapper for CLIP\n",
    "class CLIPModelWrapper(HuggingFaceModelWrapper):\n",
    "    def __init__(self, processor, text_encoder, classifier):\n",
    "        self.processor = processor\n",
    "        self.model = text_encoder\n",
    "        self.classifier = classifier\n",
    "\n",
    "    def __call__(self, text_input_list):\n",
    "        inputs = self.processor(text_input_list, return_tensors='pt', padding=True, truncation=True)\n",
    "        outputs = self.model(**inputs).pooler_output\n",
    "        with torch.no_grad():\n",
    "            preds = self.classifier.predict_proba(outputs)\n",
    "        return preds"
   ]
  },
  {
   "cell_type": "code",
   "execution_count": 27,
   "id": "34a07916-1e13-4b75-b9a9-a36c06e4feb1",
   "metadata": {},
   "outputs": [],
   "source": [
    "clip_model_wrapper_lr_mr = CLIPModelWrapper(clip_processor, text_encoder, lr_clip_mr)\n",
    "clip_model_wrapper_rf_mr = CLIPModelWrapper(clip_processor, text_encoder, rf_clip_mr)\n",
    "clip_model_wrapper_knn_mr = CLIPModelWrapper(clip_processor, text_encoder, knn_clip_mr)\n",
    "clip_model_wrapper_svc_mr = CLIPModelWrapper(clip_processor, text_encoder, svc_clip_mr)"
   ]
  },
  {
   "cell_type": "code",
   "execution_count": 28,
   "id": "31968c92-5988-4472-8c2b-de82302e8543",
   "metadata": {},
   "outputs": [
    {
     "name": "stderr",
     "output_type": "stream",
     "text": [
      "textattack: Unknown if model of class <class 'transformers.models.clip.modeling_clip.CLIPTextTransformer'> compatible with goal function <class 'textattack.goal_functions.classification.untargeted_classification.UntargetedClassification'>.\n",
      "textattack: Logging to CSV at path attack_results_new/clipmrattacklrsim09.csv\n"
     ]
    },
    {
     "name": "stdout",
     "output_type": "stream",
     "text": [
      "Attack(\n",
      "  (search_method): GreedyWordSwapWIR(\n",
      "    (wir_method):  delete\n",
      "  )\n",
      "  (goal_function):  UntargetedClassification\n",
      "  (transformation):  WordSwapEmbedding(\n",
      "    (max_candidates):  50\n",
      "    (embedding):  WordEmbedding\n",
      "  )\n",
      "  (constraints): \n",
      "    (0): WordEmbeddingDistance(\n",
      "        (embedding):  WordEmbedding\n",
      "        (min_cos_sim):  0.9\n",
      "        (cased):  False\n",
      "        (include_unknown_words):  True\n",
      "        (compare_against_original):  True\n",
      "      )\n",
      "    (1): PartOfSpeech(\n",
      "        (tagger_type):  nltk\n",
      "        (tagset):  universal\n",
      "        (allow_verb_noun_swap):  True\n",
      "        (compare_against_original):  True\n",
      "      )\n",
      "    (2): UniversalSentenceEncoder(\n",
      "        (metric):  angular\n",
      "        (threshold):  0.840845057\n",
      "        (window_size):  15\n",
      "        (skip_text_shorter_than_window):  True\n",
      "        (compare_against_original):  False\n",
      "      )\n",
      "    (3): RepeatModification\n",
      "    (4): StopwordModification\n",
      "    (5): InputColumnModification(\n",
      "        (matching_column_labels):  ['premise', 'hypothesis']\n",
      "        (columns_to_ignore):  {'premise'}\n",
      "      )\n",
      "  (is_black_box):  True\n",
      ") \n",
      "\n"
     ]
    },
    {
     "name": "stderr",
     "output_type": "stream",
     "text": [
      "[Succeeded / Failed / Skipped / Total] 1 / 4 / 0 / 5:   1%|▎                           | 5/500 [00:09<16:17,  1.97s/it]textattack: Saving checkpoint under \"checkpoints\\1720262031998.ta.chkpt\" at 2024-07-06 18:33:51 after 5 attacks.\n",
      "[Succeeded / Failed / Skipped / Total] 1 / 4 / 1 / 6:   1%|▎                           | 6/500 [00:09<13:43,  1.67s/it]"
     ]
    },
    {
     "name": "stdout",
     "output_type": "stream",
     "text": [
      "\n",
      "\n",
      "=============================================================================================================================\n",
      "=============================================================================================================================\n",
      "\n"
     ]
    },
    {
     "name": "stderr",
     "output_type": "stream",
     "text": [
      "[Succeeded / Failed / Skipped / Total] 5 / 4 / 1 / 10:   2%|▌                         | 10/500 [00:13<11:10,  1.37s/it]textattack: Saving checkpoint under \"checkpoints\\1720262035811.ta.chkpt\" at 2024-07-06 18:33:55 after 10 attacks.\n"
     ]
    },
    {
     "name": "stdout",
     "output_type": "stream",
     "text": [
      "\n",
      "\n",
      "=============================================================================================================================\n",
      "=============================================================================================================================\n",
      "\n"
     ]
    },
    {
     "name": "stderr",
     "output_type": "stream",
     "text": [
      "[Succeeded / Failed / Skipped / Total] 7 / 7 / 1 / 15:   3%|▊                         | 15/500 [00:19<10:23,  1.29s/it]textattack: Saving checkpoint under \"checkpoints\\1720262041421.ta.chkpt\" at 2024-07-06 18:34:01 after 15 attacks.\n"
     ]
    },
    {
     "name": "stdout",
     "output_type": "stream",
     "text": [
      "\n",
      "\n",
      "=============================================================================================================================\n",
      "=============================================================================================================================\n",
      "\n"
     ]
    },
    {
     "name": "stderr",
     "output_type": "stream",
     "text": [
      "[Succeeded / Failed / Skipped / Total] 10 / 9 / 1 / 20:   4%|█                        | 20/500 [00:21<08:33,  1.07s/it]textattack: Saving checkpoint under \"checkpoints\\1720262043515.ta.chkpt\" at 2024-07-06 18:34:03 after 20 attacks.\n"
     ]
    },
    {
     "name": "stdout",
     "output_type": "stream",
     "text": [
      "\n",
      "\n",
      "=============================================================================================================================\n",
      "=============================================================================================================================\n",
      "\n"
     ]
    },
    {
     "name": "stderr",
     "output_type": "stream",
     "text": [
      "[Succeeded / Failed / Skipped / Total] 11 / 12 / 2 / 25:   5%|█▏                      | 25/500 [00:24<07:43,  1.03it/s]textattack: Saving checkpoint under \"checkpoints\\1720262046515.ta.chkpt\" at 2024-07-06 18:34:06 after 25 attacks.\n"
     ]
    },
    {
     "name": "stdout",
     "output_type": "stream",
     "text": [
      "\n",
      "\n",
      "=============================================================================================================================\n",
      "=============================================================================================================================\n",
      "\n"
     ]
    },
    {
     "name": "stderr",
     "output_type": "stream",
     "text": [
      "[Succeeded / Failed / Skipped / Total] 13 / 14 / 3 / 30:   6%|█▍                      | 30/500 [00:27<07:07,  1.10it/s]textattack: Saving checkpoint under \"checkpoints\\1720262049437.ta.chkpt\" at 2024-07-06 18:34:09 after 30 attacks.\n"
     ]
    },
    {
     "name": "stdout",
     "output_type": "stream",
     "text": [
      "\n",
      "\n",
      "=============================================================================================================================\n",
      "=============================================================================================================================\n",
      "\n"
     ]
    },
    {
     "name": "stderr",
     "output_type": "stream",
     "text": [
      "[Succeeded / Failed / Skipped / Total] 14 / 16 / 5 / 35:   7%|█▋                      | 35/500 [00:28<06:19,  1.22it/s]textattack: Saving checkpoint under \"checkpoints\\1720262050703.ta.chkpt\" at 2024-07-06 18:34:10 after 35 attacks.\n"
     ]
    },
    {
     "name": "stdout",
     "output_type": "stream",
     "text": [
      "\n",
      "\n",
      "=============================================================================================================================\n",
      "=============================================================================================================================\n",
      "\n"
     ]
    },
    {
     "name": "stderr",
     "output_type": "stream",
     "text": [
      "[Succeeded / Failed / Skipped / Total] 17 / 16 / 7 / 40:   8%|█▉                      | 40/500 [00:30<05:54,  1.30it/s]textattack: Saving checkpoint under \"checkpoints\\1720262052937.ta.chkpt\" at 2024-07-06 18:34:12 after 40 attacks.\n"
     ]
    },
    {
     "name": "stdout",
     "output_type": "stream",
     "text": [
      "\n",
      "\n",
      "=============================================================================================================================\n",
      "=============================================================================================================================\n",
      "\n"
     ]
    },
    {
     "name": "stderr",
     "output_type": "stream",
     "text": [
      "[Succeeded / Failed / Skipped / Total] 17 / 19 / 9 / 45:   9%|██▏                     | 45/500 [00:37<06:18,  1.20it/s]textattack: Saving checkpoint under \"checkpoints\\1720262059516.ta.chkpt\" at 2024-07-06 18:34:19 after 45 attacks.\n"
     ]
    },
    {
     "name": "stdout",
     "output_type": "stream",
     "text": [
      "\n",
      "\n",
      "=============================================================================================================================\n",
      "=============================================================================================================================\n",
      "\n"
     ]
    },
    {
     "name": "stderr",
     "output_type": "stream",
     "text": [
      "[Succeeded / Failed / Skipped / Total] 21 / 20 / 9 / 50:  10%|██▍                     | 50/500 [00:40<06:07,  1.22it/s]textattack: Saving checkpoint under \"checkpoints\\1720262062954.ta.chkpt\" at 2024-07-06 18:34:22 after 50 attacks.\n"
     ]
    },
    {
     "name": "stdout",
     "output_type": "stream",
     "text": [
      "\n",
      "\n",
      "=============================================================================================================================\n",
      "=============================================================================================================================\n",
      "\n"
     ]
    },
    {
     "name": "stderr",
     "output_type": "stream",
     "text": [
      "[Succeeded / Failed / Skipped / Total] 23 / 22 / 10 / 55:  11%|██▌                    | 55/500 [00:45<06:07,  1.21it/s]textattack: Saving checkpoint under \"checkpoints\\1720262067548.ta.chkpt\" at 2024-07-06 18:34:27 after 55 attacks.\n"
     ]
    },
    {
     "name": "stdout",
     "output_type": "stream",
     "text": [
      "\n",
      "\n",
      "=============================================================================================================================\n",
      "=============================================================================================================================\n",
      "\n"
     ]
    },
    {
     "name": "stderr",
     "output_type": "stream",
     "text": [
      "[Succeeded / Failed / Skipped / Total] 25 / 24 / 11 / 60:  12%|██▊                    | 60/500 [00:47<05:51,  1.25it/s]textattack: Saving checkpoint under \"checkpoints\\1720262070001.ta.chkpt\" at 2024-07-06 18:34:30 after 60 attacks.\n",
      "[Succeeded / Failed / Skipped / Total] 25 / 24 / 12 / 61:  12%|██▊                    | 61/500 [00:47<05:45,  1.27it/s]"
     ]
    },
    {
     "name": "stdout",
     "output_type": "stream",
     "text": [
      "\n",
      "\n",
      "=============================================================================================================================\n",
      "=============================================================================================================================\n",
      "\n"
     ]
    },
    {
     "name": "stderr",
     "output_type": "stream",
     "text": [
      "[Succeeded / Failed / Skipped / Total] 26 / 27 / 12 / 65:  13%|██▉                    | 65/500 [00:52<05:48,  1.25it/s]textattack: Saving checkpoint under \"checkpoints\\1720262074267.ta.chkpt\" at 2024-07-06 18:34:34 after 65 attacks.\n"
     ]
    },
    {
     "name": "stdout",
     "output_type": "stream",
     "text": [
      "\n",
      "\n",
      "=============================================================================================================================\n",
      "=============================================================================================================================\n",
      "\n"
     ]
    },
    {
     "name": "stderr",
     "output_type": "stream",
     "text": [
      "[Succeeded / Failed / Skipped / Total] 26 / 31 / 13 / 70:  14%|███▏                   | 70/500 [00:55<05:40,  1.26it/s]textattack: Saving checkpoint under \"checkpoints\\1720262077595.ta.chkpt\" at 2024-07-06 18:34:37 after 70 attacks.\n"
     ]
    },
    {
     "name": "stdout",
     "output_type": "stream",
     "text": [
      "\n",
      "\n",
      "=============================================================================================================================\n",
      "=============================================================================================================================\n",
      "\n"
     ]
    },
    {
     "name": "stderr",
     "output_type": "stream",
     "text": [
      "[Succeeded / Failed / Skipped / Total] 29 / 33 / 13 / 75:  15%|███▍                   | 75/500 [00:58<05:32,  1.28it/s]textattack: Saving checkpoint under \"checkpoints\\1720262080752.ta.chkpt\" at 2024-07-06 18:34:40 after 75 attacks.\n",
      "[Succeeded / Failed / Skipped / Total] 29 / 33 / 14 / 76:  15%|███▍                   | 76/500 [00:58<05:27,  1.29it/s]"
     ]
    },
    {
     "name": "stdout",
     "output_type": "stream",
     "text": [
      "\n",
      "\n",
      "=============================================================================================================================\n",
      "=============================================================================================================================\n",
      "\n"
     ]
    },
    {
     "name": "stderr",
     "output_type": "stream",
     "text": [
      "[Succeeded / Failed / Skipped / Total] 30 / 35 / 15 / 80:  16%|███▋                   | 80/500 [01:00<05:19,  1.31it/s]textattack: Saving checkpoint under \"checkpoints\\1720262083052.ta.chkpt\" at 2024-07-06 18:34:43 after 80 attacks.\n",
      "[Succeeded / Failed / Skipped / Total] 30 / 35 / 17 / 82:  16%|███▊                   | 82/500 [01:01<05:11,  1.34it/s]"
     ]
    },
    {
     "name": "stdout",
     "output_type": "stream",
     "text": [
      "\n",
      "\n",
      "=============================================================================================================================\n",
      "=============================================================================================================================\n",
      "\n"
     ]
    },
    {
     "name": "stderr",
     "output_type": "stream",
     "text": [
      "[Succeeded / Failed / Skipped / Total] 31 / 37 / 17 / 85:  17%|███▉                   | 85/500 [01:02<05:05,  1.36it/s]textattack: Saving checkpoint under \"checkpoints\\1720262084692.ta.chkpt\" at 2024-07-06 18:34:44 after 85 attacks.\n"
     ]
    },
    {
     "name": "stdout",
     "output_type": "stream",
     "text": [
      "\n",
      "\n",
      "=============================================================================================================================\n",
      "=============================================================================================================================\n",
      "\n"
     ]
    },
    {
     "name": "stderr",
     "output_type": "stream",
     "text": [
      "[Succeeded / Failed / Skipped / Total] 32 / 40 / 18 / 90:  18%|████▏                  | 90/500 [01:06<05:02,  1.36it/s]textattack: Saving checkpoint under \"checkpoints\\1720262088474.ta.chkpt\" at 2024-07-06 18:34:48 after 90 attacks.\n",
      "[Succeeded / Failed / Skipped / Total] 32 / 40 / 20 / 92:  18%|████▏                  | 92/500 [01:06<04:54,  1.38it/s]"
     ]
    },
    {
     "name": "stdout",
     "output_type": "stream",
     "text": [
      "\n",
      "\n",
      "=============================================================================================================================\n",
      "=============================================================================================================================\n",
      "\n"
     ]
    },
    {
     "name": "stderr",
     "output_type": "stream",
     "text": [
      "[Succeeded / Failed / Skipped / Total] 34 / 40 / 21 / 95:  19%|████▎                  | 95/500 [01:09<04:57,  1.36it/s]textattack: Saving checkpoint under \"checkpoints\\1720262091974.ta.chkpt\" at 2024-07-06 18:34:51 after 95 attacks.\n"
     ]
    },
    {
     "name": "stdout",
     "output_type": "stream",
     "text": [
      "\n",
      "\n",
      "=============================================================================================================================\n",
      "=============================================================================================================================\n",
      "\n"
     ]
    },
    {
     "name": "stderr",
     "output_type": "stream",
     "text": [
      "[Succeeded / Failed / Skipped / Total] 36 / 43 / 21 / 100:  20%|████▏                | 100/500 [01:12<04:48,  1.39it/s]textattack: Saving checkpoint under \"checkpoints\\1720262094256.ta.chkpt\" at 2024-07-06 18:34:54 after 100 attacks.\n"
     ]
    },
    {
     "name": "stdout",
     "output_type": "stream",
     "text": [
      "\n",
      "\n",
      "=============================================================================================================================\n",
      "=============================================================================================================================\n",
      "\n"
     ]
    },
    {
     "name": "stderr",
     "output_type": "stream",
     "text": [
      "[Succeeded / Failed / Skipped / Total] 39 / 44 / 22 / 105:  21%|████▍                | 105/500 [01:18<04:53,  1.34it/s]textattack: Saving checkpoint under \"checkpoints\\1720262100256.ta.chkpt\" at 2024-07-06 18:35:00 after 105 attacks.\n",
      "[Succeeded / Failed / Skipped / Total] 39 / 44 / 23 / 106:  21%|████▍                | 106/500 [01:18<04:50,  1.36it/s]"
     ]
    },
    {
     "name": "stdout",
     "output_type": "stream",
     "text": [
      "\n",
      "\n",
      "=============================================================================================================================\n",
      "=============================================================================================================================\n",
      "\n"
     ]
    },
    {
     "name": "stderr",
     "output_type": "stream",
     "text": [
      "[Succeeded / Failed / Skipped / Total] 39 / 46 / 25 / 110:  22%|████▌                | 110/500 [01:19<04:42,  1.38it/s]textattack: Saving checkpoint under \"checkpoints\\1720262101850.ta.chkpt\" at 2024-07-06 18:35:01 after 110 attacks.\n",
      "[Succeeded / Failed / Skipped / Total] 39 / 46 / 26 / 111:  22%|████▋                | 111/500 [01:19<04:39,  1.39it/s]"
     ]
    },
    {
     "name": "stdout",
     "output_type": "stream",
     "text": [
      "\n",
      "\n",
      "=============================================================================================================================\n",
      "=============================================================================================================================\n",
      "\n"
     ]
    },
    {
     "name": "stderr",
     "output_type": "stream",
     "text": [
      "[Succeeded / Failed / Skipped / Total] 41 / 46 / 28 / 115:  23%|████▊                | 115/500 [01:21<04:32,  1.41it/s]textattack: Saving checkpoint under \"checkpoints\\1720262103569.ta.chkpt\" at 2024-07-06 18:35:03 after 115 attacks.\n"
     ]
    },
    {
     "name": "stdout",
     "output_type": "stream",
     "text": [
      "\n",
      "\n",
      "=============================================================================================================================\n",
      "=============================================================================================================================\n",
      "\n"
     ]
    },
    {
     "name": "stderr",
     "output_type": "stream",
     "text": [
      "[Succeeded / Failed / Skipped / Total] 41 / 49 / 30 / 120:  24%|█████                | 120/500 [01:22<04:22,  1.45it/s]textattack: Saving checkpoint under \"checkpoints\\1720262105100.ta.chkpt\" at 2024-07-06 18:35:05 after 120 attacks.\n",
      "[Succeeded / Failed / Skipped / Total] 41 / 49 / 31 / 121:  24%|█████                | 121/500 [01:23<04:20,  1.46it/s]"
     ]
    },
    {
     "name": "stdout",
     "output_type": "stream",
     "text": [
      "\n",
      "\n",
      "=============================================================================================================================\n",
      "=============================================================================================================================\n",
      "\n"
     ]
    },
    {
     "name": "stderr",
     "output_type": "stream",
     "text": [
      "[Succeeded / Failed / Skipped / Total] 43 / 50 / 32 / 125:  25%|█████▎               | 125/500 [01:25<04:15,  1.47it/s]textattack: Saving checkpoint under \"checkpoints\\1720262107288.ta.chkpt\" at 2024-07-06 18:35:07 after 125 attacks.\n"
     ]
    },
    {
     "name": "stdout",
     "output_type": "stream",
     "text": [
      "\n",
      "\n",
      "=============================================================================================================================\n",
      "=============================================================================================================================\n",
      "\n"
     ]
    },
    {
     "name": "stderr",
     "output_type": "stream",
     "text": [
      "[Succeeded / Failed / Skipped / Total] 46 / 52 / 32 / 130:  26%|█████▍               | 130/500 [01:29<04:13,  1.46it/s]textattack: Saving checkpoint under \"checkpoints\\1720262111350.ta.chkpt\" at 2024-07-06 18:35:11 after 130 attacks.\n",
      "[Succeeded / Failed / Skipped / Total] 46 / 52 / 33 / 131:  26%|█████▌               | 131/500 [01:29<04:11,  1.47it/s]"
     ]
    },
    {
     "name": "stdout",
     "output_type": "stream",
     "text": [
      "\n",
      "\n",
      "=============================================================================================================================\n",
      "=============================================================================================================================\n",
      "\n"
     ]
    },
    {
     "name": "stderr",
     "output_type": "stream",
     "text": [
      "[Succeeded / Failed / Skipped / Total] 47 / 54 / 34 / 135:  27%|█████▋               | 135/500 [01:34<04:14,  1.43it/s]textattack: Saving checkpoint under \"checkpoints\\1720262116398.ta.chkpt\" at 2024-07-06 18:35:16 after 135 attacks.\n"
     ]
    },
    {
     "name": "stdout",
     "output_type": "stream",
     "text": [
      "\n",
      "\n",
      "=============================================================================================================================\n",
      "=============================================================================================================================\n",
      "\n"
     ]
    },
    {
     "name": "stderr",
     "output_type": "stream",
     "text": [
      "[Succeeded / Failed / Skipped / Total] 50 / 54 / 36 / 140:  28%|█████▉               | 140/500 [01:36<04:07,  1.45it/s]textattack: Saving checkpoint under \"checkpoints\\1720262118367.ta.chkpt\" at 2024-07-06 18:35:18 after 140 attacks.\n"
     ]
    },
    {
     "name": "stdout",
     "output_type": "stream",
     "text": [
      "\n",
      "\n",
      "=============================================================================================================================\n",
      "=============================================================================================================================\n",
      "\n"
     ]
    },
    {
     "name": "stderr",
     "output_type": "stream",
     "text": [
      "[Succeeded / Failed / Skipped / Total] 51 / 56 / 38 / 145:  29%|██████               | 145/500 [01:38<04:00,  1.47it/s]textattack: Saving checkpoint under \"checkpoints\\1720262120445.ta.chkpt\" at 2024-07-06 18:35:20 after 145 attacks.\n",
      "[Succeeded / Failed / Skipped / Total] 51 / 56 / 39 / 146:  29%|██████▏              | 146/500 [01:38<03:58,  1.48it/s]"
     ]
    },
    {
     "name": "stdout",
     "output_type": "stream",
     "text": [
      "\n",
      "\n",
      "=============================================================================================================================\n",
      "=============================================================================================================================\n",
      "\n"
     ]
    },
    {
     "name": "stderr",
     "output_type": "stream",
     "text": [
      "[Succeeded / Failed / Skipped / Total] 52 / 58 / 40 / 150:  30%|██████▎              | 150/500 [01:40<03:53,  1.50it/s]textattack: Saving checkpoint under \"checkpoints\\1720262122226.ta.chkpt\" at 2024-07-06 18:35:22 after 150 attacks.\n",
      "[Succeeded / Failed / Skipped / Total] 52 / 58 / 41 / 151:  30%|██████▎              | 151/500 [01:40<03:51,  1.51it/s]"
     ]
    },
    {
     "name": "stdout",
     "output_type": "stream",
     "text": [
      "\n",
      "\n",
      "=============================================================================================================================\n",
      "=============================================================================================================================\n",
      "\n"
     ]
    },
    {
     "name": "stderr",
     "output_type": "stream",
     "text": [
      "[Succeeded / Failed / Skipped / Total] 53 / 60 / 42 / 155:  31%|██████▌              | 155/500 [01:43<03:51,  1.49it/s]textattack: Saving checkpoint under \"checkpoints\\1720262126101.ta.chkpt\" at 2024-07-06 18:35:26 after 155 attacks.\n"
     ]
    },
    {
     "name": "stdout",
     "output_type": "stream",
     "text": [
      "\n",
      "\n",
      "=============================================================================================================================\n",
      "=============================================================================================================================\n",
      "\n"
     ]
    },
    {
     "name": "stderr",
     "output_type": "stream",
     "text": [
      "[Succeeded / Failed / Skipped / Total] 54 / 62 / 44 / 160:  32%|██████▋              | 160/500 [01:48<03:50,  1.48it/s]textattack: Saving checkpoint under \"checkpoints\\1720262130555.ta.chkpt\" at 2024-07-06 18:35:30 after 160 attacks.\n",
      "[Succeeded / Failed / Skipped / Total] 54 / 62 / 45 / 161:  32%|██████▊              | 161/500 [01:48<03:48,  1.48it/s]"
     ]
    },
    {
     "name": "stdout",
     "output_type": "stream",
     "text": [
      "\n",
      "\n",
      "=============================================================================================================================\n",
      "=============================================================================================================================\n",
      "\n"
     ]
    },
    {
     "name": "stderr",
     "output_type": "stream",
     "text": [
      "[Succeeded / Failed / Skipped / Total] 54 / 64 / 47 / 165:  33%|██████▉              | 165/500 [01:50<03:44,  1.49it/s]textattack: Saving checkpoint under \"checkpoints\\1720262132540.ta.chkpt\" at 2024-07-06 18:35:32 after 165 attacks.\n"
     ]
    },
    {
     "name": "stdout",
     "output_type": "stream",
     "text": [
      "\n",
      "\n",
      "=============================================================================================================================\n",
      "=============================================================================================================================\n",
      "\n"
     ]
    },
    {
     "name": "stderr",
     "output_type": "stream",
     "text": [
      "[Succeeded / Failed / Skipped / Total] 56 / 65 / 49 / 170:  34%|███████▏             | 170/500 [01:52<03:38,  1.51it/s]textattack: Saving checkpoint under \"checkpoints\\1720262134790.ta.chkpt\" at 2024-07-06 18:35:34 after 170 attacks.\n"
     ]
    },
    {
     "name": "stdout",
     "output_type": "stream",
     "text": [
      "\n",
      "\n",
      "=============================================================================================================================\n",
      "=============================================================================================================================\n",
      "\n"
     ]
    },
    {
     "name": "stderr",
     "output_type": "stream",
     "text": [
      "[Succeeded / Failed / Skipped / Total] 57 / 69 / 49 / 175:  35%|███████▎             | 175/500 [01:59<03:42,  1.46it/s]textattack: Saving checkpoint under \"checkpoints\\1720262141681.ta.chkpt\" at 2024-07-06 18:35:41 after 175 attacks.\n",
      "[Succeeded / Failed / Skipped / Total] 57 / 69 / 50 / 176:  35%|███████▍             | 176/500 [01:59<03:40,  1.47it/s]"
     ]
    },
    {
     "name": "stdout",
     "output_type": "stream",
     "text": [
      "\n",
      "\n",
      "=============================================================================================================================\n",
      "=============================================================================================================================\n",
      "\n"
     ]
    },
    {
     "name": "stderr",
     "output_type": "stream",
     "text": [
      "[Succeeded / Failed / Skipped / Total] 57 / 72 / 51 / 180:  36%|███████▌             | 180/500 [02:02<03:37,  1.47it/s]textattack: Saving checkpoint under \"checkpoints\\1720262144243.ta.chkpt\" at 2024-07-06 18:35:44 after 180 attacks.\n"
     ]
    },
    {
     "name": "stdout",
     "output_type": "stream",
     "text": [
      "\n",
      "\n",
      "=============================================================================================================================\n",
      "=============================================================================================================================\n",
      "\n"
     ]
    },
    {
     "name": "stderr",
     "output_type": "stream",
     "text": [
      "[Succeeded / Failed / Skipped / Total] 58 / 74 / 53 / 185:  37%|███████▊             | 185/500 [02:03<03:30,  1.49it/s]textattack: Saving checkpoint under \"checkpoints\\1720262145915.ta.chkpt\" at 2024-07-06 18:35:45 after 185 attacks.\n",
      "[Succeeded / Failed / Skipped / Total] 58 / 74 / 54 / 186:  37%|███████▊             | 186/500 [02:03<03:29,  1.50it/s]"
     ]
    },
    {
     "name": "stdout",
     "output_type": "stream",
     "text": [
      "\n",
      "\n",
      "=============================================================================================================================\n",
      "=============================================================================================================================\n",
      "\n"
     ]
    },
    {
     "name": "stderr",
     "output_type": "stream",
     "text": [
      "[Succeeded / Failed / Skipped / Total] 60 / 76 / 54 / 190:  38%|███████▉             | 190/500 [02:08<03:29,  1.48it/s]textattack: Saving checkpoint under \"checkpoints\\1720262150275.ta.chkpt\" at 2024-07-06 18:35:50 after 190 attacks.\n"
     ]
    },
    {
     "name": "stdout",
     "output_type": "stream",
     "text": [
      "\n",
      "\n",
      "=============================================================================================================================\n",
      "=============================================================================================================================\n",
      "\n"
     ]
    },
    {
     "name": "stderr",
     "output_type": "stream",
     "text": [
      "[Succeeded / Failed / Skipped / Total] 61 / 78 / 56 / 195:  39%|████████▏            | 195/500 [02:12<03:27,  1.47it/s]textattack: Saving checkpoint under \"checkpoints\\1720262154807.ta.chkpt\" at 2024-07-06 18:35:54 after 195 attacks.\n"
     ]
    },
    {
     "name": "stdout",
     "output_type": "stream",
     "text": [
      "\n",
      "\n",
      "=============================================================================================================================\n",
      "=============================================================================================================================\n",
      "\n"
     ]
    },
    {
     "name": "stderr",
     "output_type": "stream",
     "text": [
      "[Succeeded / Failed / Skipped / Total] 63 / 80 / 57 / 200:  40%|████████▍            | 200/500 [02:18<03:28,  1.44it/s]textattack: Saving checkpoint under \"checkpoints\\1720262160886.ta.chkpt\" at 2024-07-06 18:36:00 after 200 attacks.\n"
     ]
    },
    {
     "name": "stdout",
     "output_type": "stream",
     "text": [
      "\n",
      "\n",
      "=============================================================================================================================\n",
      "=============================================================================================================================\n",
      "\n"
     ]
    },
    {
     "name": "stderr",
     "output_type": "stream",
     "text": [
      "[Succeeded / Failed / Skipped / Total] 63 / 84 / 58 / 205:  41%|████████▌            | 205/500 [02:22<03:24,  1.44it/s]textattack: Saving checkpoint under \"checkpoints\\1720262164418.ta.chkpt\" at 2024-07-06 18:36:04 after 205 attacks.\n",
      "[Succeeded / Failed / Skipped / Total] 63 / 84 / 59 / 206:  41%|████████▋            | 206/500 [02:22<03:23,  1.45it/s]"
     ]
    },
    {
     "name": "stdout",
     "output_type": "stream",
     "text": [
      "\n",
      "\n",
      "=============================================================================================================================\n",
      "=============================================================================================================================\n",
      "\n"
     ]
    },
    {
     "name": "stderr",
     "output_type": "stream",
     "text": [
      "[Succeeded / Failed / Skipped / Total] 65 / 84 / 61 / 210:  42%|████████▊            | 210/500 [02:24<03:19,  1.46it/s]textattack: Saving checkpoint under \"checkpoints\\1720262166387.ta.chkpt\" at 2024-07-06 18:36:06 after 210 attacks.\n"
     ]
    },
    {
     "name": "stdout",
     "output_type": "stream",
     "text": [
      "\n",
      "\n",
      "=============================================================================================================================\n",
      "=============================================================================================================================\n",
      "\n"
     ]
    },
    {
     "name": "stderr",
     "output_type": "stream",
     "text": [
      "[Succeeded / Failed / Skipped / Total] 66 / 86 / 63 / 215:  43%|█████████            | 215/500 [02:27<03:14,  1.46it/s]textattack: Saving checkpoint under \"checkpoints\\1720262169231.ta.chkpt\" at 2024-07-06 18:36:09 after 215 attacks.\n"
     ]
    },
    {
     "name": "stdout",
     "output_type": "stream",
     "text": [
      "\n",
      "\n",
      "=============================================================================================================================\n",
      "=============================================================================================================================\n",
      "\n"
     ]
    },
    {
     "name": "stderr",
     "output_type": "stream",
     "text": [
      "[Succeeded / Failed / Skipped / Total] 68 / 89 / 63 / 220:  44%|█████████▏           | 220/500 [02:30<03:11,  1.46it/s]textattack: Saving checkpoint under \"checkpoints\\1720262172903.ta.chkpt\" at 2024-07-06 18:36:12 after 220 attacks.\n"
     ]
    },
    {
     "name": "stdout",
     "output_type": "stream",
     "text": [
      "\n",
      "\n",
      "=============================================================================================================================\n",
      "=============================================================================================================================\n",
      "\n"
     ]
    },
    {
     "name": "stderr",
     "output_type": "stream",
     "text": [
      "[Succeeded / Failed / Skipped / Total] 69 / 91 / 65 / 225:  45%|█████████▍           | 225/500 [02:34<03:08,  1.46it/s]textattack: Saving checkpoint under \"checkpoints\\1720262176137.ta.chkpt\" at 2024-07-06 18:36:16 after 225 attacks.\n"
     ]
    },
    {
     "name": "stdout",
     "output_type": "stream",
     "text": [
      "\n",
      "\n",
      "=============================================================================================================================\n",
      "=============================================================================================================================\n",
      "\n"
     ]
    },
    {
     "name": "stderr",
     "output_type": "stream",
     "text": [
      "[Succeeded / Failed / Skipped / Total] 70 / 94 / 66 / 230:  46%|█████████▋           | 230/500 [02:36<03:04,  1.47it/s]textattack: Saving checkpoint under \"checkpoints\\1720262179075.ta.chkpt\" at 2024-07-06 18:36:19 after 230 attacks.\n",
      "[Succeeded / Failed / Skipped / Total] 70 / 94 / 67 / 231:  46%|█████████▋           | 231/500 [02:37<03:02,  1.47it/s]"
     ]
    },
    {
     "name": "stdout",
     "output_type": "stream",
     "text": [
      "\n",
      "\n",
      "=============================================================================================================================\n",
      "=============================================================================================================================\n",
      "\n"
     ]
    },
    {
     "name": "stderr",
     "output_type": "stream",
     "text": [
      "[Succeeded / Failed / Skipped / Total] 71 / 96 / 68 / 235:  47%|█████████▊           | 235/500 [02:39<02:59,  1.47it/s]textattack: Saving checkpoint under \"checkpoints\\1720262181606.ta.chkpt\" at 2024-07-06 18:36:21 after 235 attacks.\n"
     ]
    },
    {
     "name": "stdout",
     "output_type": "stream",
     "text": [
      "\n",
      "\n",
      "=============================================================================================================================\n",
      "=============================================================================================================================\n",
      "\n"
     ]
    },
    {
     "name": "stderr",
     "output_type": "stream",
     "text": [
      "[Succeeded / Failed / Skipped / Total] 71 / 101 / 68 / 240:  48%|█████████▌          | 240/500 [02:43<02:57,  1.47it/s]textattack: Saving checkpoint under \"checkpoints\\1720262185513.ta.chkpt\" at 2024-07-06 18:36:25 after 240 attacks.\n",
      "[Succeeded / Failed / Skipped / Total] 71 / 101 / 70 / 242:  48%|█████████▋          | 242/500 [02:43<02:54,  1.48it/s]"
     ]
    },
    {
     "name": "stdout",
     "output_type": "stream",
     "text": [
      "\n",
      "\n",
      "=============================================================================================================================\n",
      "=============================================================================================================================\n",
      "\n"
     ]
    },
    {
     "name": "stderr",
     "output_type": "stream",
     "text": [
      "[Succeeded / Failed / Skipped / Total] 72 / 103 / 70 / 245:  49%|█████████▊          | 245/500 [02:45<02:52,  1.48it/s]textattack: Saving checkpoint under \"checkpoints\\1720262187966.ta.chkpt\" at 2024-07-06 18:36:27 after 245 attacks.\n"
     ]
    },
    {
     "name": "stdout",
     "output_type": "stream",
     "text": [
      "\n",
      "\n",
      "=============================================================================================================================\n",
      "=============================================================================================================================\n",
      "\n"
     ]
    },
    {
     "name": "stderr",
     "output_type": "stream",
     "text": [
      "[Succeeded / Failed / Skipped / Total] 72 / 105 / 73 / 250:  50%|██████████          | 250/500 [02:47<02:47,  1.49it/s]textattack: Saving checkpoint under \"checkpoints\\1720262189466.ta.chkpt\" at 2024-07-06 18:36:29 after 250 attacks.\n",
      "[Succeeded / Failed / Skipped / Total] 72 / 105 / 74 / 251:  50%|██████████          | 251/500 [02:47<02:46,  1.50it/s]"
     ]
    },
    {
     "name": "stdout",
     "output_type": "stream",
     "text": [
      "\n",
      "\n",
      "=============================================================================================================================\n",
      "=============================================================================================================================\n",
      "\n"
     ]
    },
    {
     "name": "stderr",
     "output_type": "stream",
     "text": [
      "[Succeeded / Failed / Skipped / Total] 74 / 106 / 75 / 255:  51%|██████████▏         | 255/500 [02:50<02:43,  1.50it/s]textattack: Saving checkpoint under \"checkpoints\\1720262192654.ta.chkpt\" at 2024-07-06 18:36:32 after 255 attacks.\n"
     ]
    },
    {
     "name": "stdout",
     "output_type": "stream",
     "text": [
      "\n",
      "\n",
      "=============================================================================================================================\n",
      "=============================================================================================================================\n",
      "\n"
     ]
    },
    {
     "name": "stderr",
     "output_type": "stream",
     "text": [
      "[Succeeded / Failed / Skipped / Total] 75 / 108 / 77 / 260:  52%|██████████▍         | 260/500 [02:53<02:40,  1.50it/s]textattack: Saving checkpoint under \"checkpoints\\1720262195498.ta.chkpt\" at 2024-07-06 18:36:35 after 260 attacks.\n"
     ]
    },
    {
     "name": "stdout",
     "output_type": "stream",
     "text": [
      "\n",
      "\n",
      "=============================================================================================================================\n",
      "=============================================================================================================================\n",
      "\n"
     ]
    },
    {
     "name": "stderr",
     "output_type": "stream",
     "text": [
      "[Succeeded / Failed / Skipped / Total] 78 / 110 / 77 / 265:  53%|██████████▌         | 265/500 [02:56<02:36,  1.50it/s]textattack: Saving checkpoint under \"checkpoints\\1720262198920.ta.chkpt\" at 2024-07-06 18:36:38 after 265 attacks.\n"
     ]
    },
    {
     "name": "stdout",
     "output_type": "stream",
     "text": [
      "\n",
      "\n",
      "=============================================================================================================================\n",
      "=============================================================================================================================\n",
      "\n"
     ]
    },
    {
     "name": "stderr",
     "output_type": "stream",
     "text": [
      "[Succeeded / Failed / Skipped / Total] 79 / 112 / 79 / 270:  54%|██████████▊         | 270/500 [03:00<02:34,  1.49it/s]textattack: Saving checkpoint under \"checkpoints\\1720262202998.ta.chkpt\" at 2024-07-06 18:36:42 after 270 attacks.\n",
      "[Succeeded / Failed / Skipped / Total] 79 / 112 / 80 / 271:  54%|██████████▊         | 271/500 [03:00<02:32,  1.50it/s]"
     ]
    },
    {
     "name": "stdout",
     "output_type": "stream",
     "text": [
      "\n",
      "\n",
      "=============================================================================================================================\n",
      "=============================================================================================================================\n",
      "\n"
     ]
    },
    {
     "name": "stderr",
     "output_type": "stream",
     "text": [
      "[Succeeded / Failed / Skipped / Total] 81 / 113 / 81 / 275:  55%|███████████         | 275/500 [03:02<02:29,  1.51it/s]textattack: Saving checkpoint under \"checkpoints\\1720262204780.ta.chkpt\" at 2024-07-06 18:36:44 after 275 attacks.\n"
     ]
    },
    {
     "name": "stdout",
     "output_type": "stream",
     "text": [
      "\n",
      "\n",
      "=============================================================================================================================\n",
      "=============================================================================================================================\n",
      "\n"
     ]
    },
    {
     "name": "stderr",
     "output_type": "stream",
     "text": [
      "[Succeeded / Failed / Skipped / Total] 84 / 114 / 82 / 280:  56%|███████████▏        | 280/500 [03:05<02:25,  1.51it/s]textattack: Saving checkpoint under \"checkpoints\\1720262207733.ta.chkpt\" at 2024-07-06 18:36:47 after 280 attacks.\n"
     ]
    },
    {
     "name": "stdout",
     "output_type": "stream",
     "text": [
      "\n",
      "\n",
      "=============================================================================================================================\n",
      "=============================================================================================================================\n",
      "\n"
     ]
    },
    {
     "name": "stderr",
     "output_type": "stream",
     "text": [
      "[Succeeded / Failed / Skipped / Total] 85 / 116 / 84 / 285:  57%|███████████▍        | 285/500 [03:07<02:21,  1.52it/s]textattack: Saving checkpoint under \"checkpoints\\1720262209780.ta.chkpt\" at 2024-07-06 18:36:49 after 285 attacks.\n"
     ]
    },
    {
     "name": "stdout",
     "output_type": "stream",
     "text": [
      "\n",
      "\n",
      "=============================================================================================================================\n",
      "=============================================================================================================================\n",
      "\n"
     ]
    },
    {
     "name": "stderr",
     "output_type": "stream",
     "text": [
      "[Succeeded / Failed / Skipped / Total] 88 / 118 / 84 / 290:  58%|███████████▌        | 290/500 [03:12<02:19,  1.51it/s]textattack: Saving checkpoint under \"checkpoints\\1720262214155.ta.chkpt\" at 2024-07-06 18:36:54 after 290 attacks.\n",
      "[Succeeded / Failed / Skipped / Total] 88 / 118 / 86 / 292:  58%|███████████▋        | 292/500 [03:12<02:16,  1.52it/s]"
     ]
    },
    {
     "name": "stdout",
     "output_type": "stream",
     "text": [
      "\n",
      "\n",
      "=============================================================================================================================\n",
      "=============================================================================================================================\n",
      "\n"
     ]
    },
    {
     "name": "stderr",
     "output_type": "stream",
     "text": [
      "[Succeeded / Failed / Skipped / Total] 89 / 119 / 87 / 295:  59%|███████████▊        | 295/500 [03:14<02:15,  1.52it/s]textattack: Saving checkpoint under \"checkpoints\\1720262216406.ta.chkpt\" at 2024-07-06 18:36:56 after 295 attacks.\n"
     ]
    },
    {
     "name": "stdout",
     "output_type": "stream",
     "text": [
      "\n",
      "\n",
      "=============================================================================================================================\n",
      "=============================================================================================================================\n",
      "\n"
     ]
    },
    {
     "name": "stderr",
     "output_type": "stream",
     "text": [
      "[Succeeded / Failed / Skipped / Total] 90 / 121 / 89 / 300:  60%|████████████        | 300/500 [03:16<02:11,  1.53it/s]textattack: Saving checkpoint under \"checkpoints\\1720262218671.ta.chkpt\" at 2024-07-06 18:36:58 after 300 attacks.\n"
     ]
    },
    {
     "name": "stdout",
     "output_type": "stream",
     "text": [
      "\n",
      "\n",
      "=============================================================================================================================\n",
      "=============================================================================================================================\n",
      "\n"
     ]
    },
    {
     "name": "stderr",
     "output_type": "stream",
     "text": [
      "[Succeeded / Failed / Skipped / Total] 90 / 122 / 93 / 305:  61%|████████████▏       | 305/500 [03:17<02:06,  1.54it/s]textattack: Saving checkpoint under \"checkpoints\\1720262219781.ta.chkpt\" at 2024-07-06 18:36:59 after 305 attacks.\n"
     ]
    },
    {
     "name": "stdout",
     "output_type": "stream",
     "text": [
      "\n",
      "\n",
      "=============================================================================================================================\n",
      "=============================================================================================================================\n",
      "\n"
     ]
    },
    {
     "name": "stderr",
     "output_type": "stream",
     "text": [
      "[Succeeded / Failed / Skipped / Total] 90 / 126 / 94 / 310:  62%|████████████▍       | 310/500 [03:19<02:02,  1.55it/s]textattack: Saving checkpoint under \"checkpoints\\1720262221890.ta.chkpt\" at 2024-07-06 18:37:01 after 310 attacks.\n"
     ]
    },
    {
     "name": "stdout",
     "output_type": "stream",
     "text": [
      "\n",
      "\n",
      "=============================================================================================================================\n",
      "=============================================================================================================================\n",
      "\n"
     ]
    },
    {
     "name": "stderr",
     "output_type": "stream",
     "text": [
      "[Succeeded / Failed / Skipped / Total] 90 / 129 / 96 / 315:  63%|████████████▌       | 315/500 [03:22<01:58,  1.56it/s]textattack: Saving checkpoint under \"checkpoints\\1720262224406.ta.chkpt\" at 2024-07-06 18:37:04 after 315 attacks.\n",
      "[Succeeded / Failed / Skipped / Total] 90 / 129 / 97 / 316:  63%|████████████▋       | 316/500 [03:22<01:57,  1.56it/s]"
     ]
    },
    {
     "name": "stdout",
     "output_type": "stream",
     "text": [
      "\n",
      "\n",
      "=============================================================================================================================\n",
      "=============================================================================================================================\n",
      "\n"
     ]
    },
    {
     "name": "stderr",
     "output_type": "stream",
     "text": [
      "[Succeeded / Failed / Skipped / Total] 91 / 131 / 98 / 320:  64%|████████████▊       | 320/500 [03:27<01:56,  1.55it/s]textattack: Saving checkpoint under \"checkpoints\\1720262229235.ta.chkpt\" at 2024-07-06 18:37:09 after 320 attacks.\n",
      "[Succeeded / Failed / Skipped / Total] 91 / 131 / 99 / 321:  64%|████████████▊       | 321/500 [03:27<01:55,  1.55it/s]"
     ]
    },
    {
     "name": "stdout",
     "output_type": "stream",
     "text": [
      "\n",
      "\n",
      "=============================================================================================================================\n",
      "=============================================================================================================================\n",
      "\n"
     ]
    },
    {
     "name": "stderr",
     "output_type": "stream",
     "text": [
      "[Succeeded / Failed / Skipped / Total] 91 / 135 / 99 / 325:  65%|█████████████       | 325/500 [03:32<01:54,  1.53it/s]textattack: Saving checkpoint under \"checkpoints\\1720262234954.ta.chkpt\" at 2024-07-06 18:37:14 after 325 attacks.\n",
      "[Succeeded / Failed / Skipped / Total] 91 / 135 / 100 / 326:  65%|████████████▍      | 326/500 [03:32<01:53,  1.53it/s]"
     ]
    },
    {
     "name": "stdout",
     "output_type": "stream",
     "text": [
      "\n",
      "\n",
      "=============================================================================================================================\n",
      "=============================================================================================================================\n",
      "\n"
     ]
    },
    {
     "name": "stderr",
     "output_type": "stream",
     "text": [
      "[Succeeded / Failed / Skipped / Total] 94 / 136 / 100 / 330:  66%|████████████▌      | 330/500 [03:34<01:50,  1.54it/s]textattack: Saving checkpoint under \"checkpoints\\1720262236876.ta.chkpt\" at 2024-07-06 18:37:16 after 330 attacks.\n"
     ]
    },
    {
     "name": "stdout",
     "output_type": "stream",
     "text": [
      "\n",
      "\n",
      "=============================================================================================================================\n",
      "=============================================================================================================================\n",
      "\n"
     ]
    },
    {
     "name": "stderr",
     "output_type": "stream",
     "text": [
      "[Succeeded / Failed / Skipped / Total] 95 / 140 / 100 / 335:  67%|████████████▋      | 335/500 [03:42<01:49,  1.51it/s]textattack: Saving checkpoint under \"checkpoints\\1720262244407.ta.chkpt\" at 2024-07-06 18:37:24 after 335 attacks.\n"
     ]
    },
    {
     "name": "stdout",
     "output_type": "stream",
     "text": [
      "\n",
      "\n",
      "=============================================================================================================================\n",
      "=============================================================================================================================\n",
      "\n"
     ]
    },
    {
     "name": "stderr",
     "output_type": "stream",
     "text": [
      "[Succeeded / Failed / Skipped / Total] 96 / 142 / 102 / 340:  68%|████████████▉      | 340/500 [03:44<01:45,  1.51it/s]textattack: Saving checkpoint under \"checkpoints\\1720262246767.ta.chkpt\" at 2024-07-06 18:37:26 after 340 attacks.\n"
     ]
    },
    {
     "name": "stdout",
     "output_type": "stream",
     "text": [
      "\n",
      "\n",
      "=============================================================================================================================\n",
      "=============================================================================================================================\n",
      "\n"
     ]
    },
    {
     "name": "stderr",
     "output_type": "stream",
     "text": [
      "[Succeeded / Failed / Skipped / Total] 97 / 144 / 104 / 345:  69%|█████████████      | 345/500 [03:47<01:42,  1.52it/s]textattack: Saving checkpoint under \"checkpoints\\1720262249376.ta.chkpt\" at 2024-07-06 18:37:29 after 345 attacks.\n"
     ]
    },
    {
     "name": "stdout",
     "output_type": "stream",
     "text": [
      "\n",
      "\n",
      "=============================================================================================================================\n",
      "=============================================================================================================================\n",
      "\n"
     ]
    },
    {
     "name": "stderr",
     "output_type": "stream",
     "text": [
      "[Succeeded / Failed / Skipped / Total] 99 / 147 / 104 / 350:  70%|█████████████▎     | 350/500 [03:51<01:39,  1.51it/s]textattack: Saving checkpoint under \"checkpoints\\1720262254111.ta.chkpt\" at 2024-07-06 18:37:34 after 350 attacks.\n"
     ]
    },
    {
     "name": "stdout",
     "output_type": "stream",
     "text": [
      "\n",
      "\n",
      "=============================================================================================================================\n",
      "=============================================================================================================================\n",
      "\n"
     ]
    },
    {
     "name": "stderr",
     "output_type": "stream",
     "text": [
      "[Succeeded / Failed / Skipped / Total] 102 / 149 / 104 / 355:  71%|████████████▊     | 355/500 [03:56<01:36,  1.50it/s]textattack: Saving checkpoint under \"checkpoints\\1720262258986.ta.chkpt\" at 2024-07-06 18:37:38 after 355 attacks.\n"
     ]
    },
    {
     "name": "stdout",
     "output_type": "stream",
     "text": [
      "\n",
      "\n",
      "=============================================================================================================================\n",
      "=============================================================================================================================\n",
      "\n"
     ]
    },
    {
     "name": "stderr",
     "output_type": "stream",
     "text": [
      "[Succeeded / Failed / Skipped / Total] 104 / 150 / 106 / 360:  72%|████████████▉     | 360/500 [03:58<01:32,  1.51it/s]textattack: Saving checkpoint under \"checkpoints\\1720262260752.ta.chkpt\" at 2024-07-06 18:37:40 after 360 attacks.\n"
     ]
    },
    {
     "name": "stdout",
     "output_type": "stream",
     "text": [
      "\n",
      "\n",
      "=============================================================================================================================\n",
      "=============================================================================================================================\n",
      "\n"
     ]
    },
    {
     "name": "stderr",
     "output_type": "stream",
     "text": [
      "[Succeeded / Failed / Skipped / Total] 105 / 154 / 106 / 365:  73%|█████████████▏    | 365/500 [04:02<01:29,  1.50it/s]textattack: Saving checkpoint under \"checkpoints\\1720262264940.ta.chkpt\" at 2024-07-06 18:37:44 after 365 attacks.\n"
     ]
    },
    {
     "name": "stdout",
     "output_type": "stream",
     "text": [
      "\n",
      "\n",
      "=============================================================================================================================\n",
      "=============================================================================================================================\n",
      "\n"
     ]
    },
    {
     "name": "stderr",
     "output_type": "stream",
     "text": [
      "[Succeeded / Failed / Skipped / Total] 108 / 156 / 106 / 370:  74%|█████████████▎    | 370/500 [04:05<01:26,  1.51it/s]textattack: Saving checkpoint under \"checkpoints\\1720262267800.ta.chkpt\" at 2024-07-06 18:37:47 after 370 attacks.\n"
     ]
    },
    {
     "name": "stdout",
     "output_type": "stream",
     "text": [
      "\n",
      "\n",
      "=============================================================================================================================\n",
      "=============================================================================================================================\n",
      "\n"
     ]
    },
    {
     "name": "stderr",
     "output_type": "stream",
     "text": [
      "[Succeeded / Failed / Skipped / Total] 111 / 157 / 107 / 375:  75%|█████████████▌    | 375/500 [04:10<01:23,  1.50it/s]textattack: Saving checkpoint under \"checkpoints\\1720262272503.ta.chkpt\" at 2024-07-06 18:37:52 after 375 attacks.\n"
     ]
    },
    {
     "name": "stdout",
     "output_type": "stream",
     "text": [
      "\n",
      "\n",
      "=============================================================================================================================\n",
      "=============================================================================================================================\n",
      "\n"
     ]
    },
    {
     "name": "stderr",
     "output_type": "stream",
     "text": [
      "[Succeeded / Failed / Skipped / Total] 113 / 159 / 108 / 380:  76%|█████████████▋    | 380/500 [04:12<01:19,  1.50it/s]textattack: Saving checkpoint under \"checkpoints\\1720262274956.ta.chkpt\" at 2024-07-06 18:37:54 after 380 attacks.\n"
     ]
    },
    {
     "name": "stdout",
     "output_type": "stream",
     "text": [
      "\n",
      "\n",
      "=============================================================================================================================\n",
      "=============================================================================================================================\n",
      "\n"
     ]
    },
    {
     "name": "stderr",
     "output_type": "stream",
     "text": [
      "[Succeeded / Failed / Skipped / Total] 115 / 161 / 109 / 385:  77%|█████████████▊    | 385/500 [04:14<01:16,  1.51it/s]textattack: Saving checkpoint under \"checkpoints\\1720262276706.ta.chkpt\" at 2024-07-06 18:37:56 after 385 attacks.\n"
     ]
    },
    {
     "name": "stdout",
     "output_type": "stream",
     "text": [
      "\n",
      "\n",
      "=============================================================================================================================\n",
      "=============================================================================================================================\n",
      "\n"
     ]
    },
    {
     "name": "stderr",
     "output_type": "stream",
     "text": [
      "[Succeeded / Failed / Skipped / Total] 116 / 164 / 110 / 390:  78%|██████████████    | 390/500 [04:16<01:12,  1.52it/s]textattack: Saving checkpoint under \"checkpoints\\1720262278957.ta.chkpt\" at 2024-07-06 18:37:58 after 390 attacks.\n"
     ]
    },
    {
     "name": "stdout",
     "output_type": "stream",
     "text": [
      "\n",
      "\n",
      "=============================================================================================================================\n",
      "=============================================================================================================================\n",
      "\n"
     ]
    },
    {
     "name": "stderr",
     "output_type": "stream",
     "text": [
      "[Succeeded / Failed / Skipped / Total] 118 / 167 / 110 / 395:  79%|██████████████▏   | 395/500 [04:21<01:09,  1.51it/s]textattack: Saving checkpoint under \"checkpoints\\1720262283832.ta.chkpt\" at 2024-07-06 18:38:03 after 395 attacks.\n"
     ]
    },
    {
     "name": "stdout",
     "output_type": "stream",
     "text": [
      "\n",
      "\n",
      "=============================================================================================================================\n",
      "=============================================================================================================================\n",
      "\n"
     ]
    },
    {
     "name": "stderr",
     "output_type": "stream",
     "text": [
      "[Succeeded / Failed / Skipped / Total] 120 / 170 / 110 / 400:  80%|██████████████▍   | 400/500 [04:26<01:06,  1.50it/s]textattack: Saving checkpoint under \"checkpoints\\1720262288942.ta.chkpt\" at 2024-07-06 18:38:08 after 400 attacks.\n",
      "[Succeeded / Failed / Skipped / Total] 120 / 170 / 111 / 401:  80%|██████████████▍   | 401/500 [04:26<01:05,  1.50it/s]"
     ]
    },
    {
     "name": "stdout",
     "output_type": "stream",
     "text": [
      "\n",
      "\n",
      "=============================================================================================================================\n",
      "=============================================================================================================================\n",
      "\n"
     ]
    },
    {
     "name": "stderr",
     "output_type": "stream",
     "text": [
      "[Succeeded / Failed / Skipped / Total] 121 / 173 / 111 / 405:  81%|██████████████▌   | 405/500 [04:31<01:03,  1.49it/s]textattack: Saving checkpoint under \"checkpoints\\1720262293848.ta.chkpt\" at 2024-07-06 18:38:13 after 405 attacks.\n"
     ]
    },
    {
     "name": "stdout",
     "output_type": "stream",
     "text": [
      "\n",
      "\n",
      "=============================================================================================================================\n",
      "=============================================================================================================================\n",
      "\n"
     ]
    },
    {
     "name": "stderr",
     "output_type": "stream",
     "text": [
      "[Succeeded / Failed / Skipped / Total] 123 / 175 / 112 / 410:  82%|██████████████▊   | 410/500 [04:33<01:00,  1.50it/s]textattack: Saving checkpoint under \"checkpoints\\1720262295911.ta.chkpt\" at 2024-07-06 18:38:15 after 410 attacks.\n"
     ]
    },
    {
     "name": "stdout",
     "output_type": "stream",
     "text": [
      "\n",
      "\n",
      "=============================================================================================================================\n",
      "=============================================================================================================================\n",
      "\n"
     ]
    },
    {
     "name": "stderr",
     "output_type": "stream",
     "text": [
      "[Succeeded / Failed / Skipped / Total] 124 / 176 / 115 / 415:  83%|██████████████▉   | 415/500 [04:35<00:56,  1.51it/s]textattack: Saving checkpoint under \"checkpoints\\1720262297364.ta.chkpt\" at 2024-07-06 18:38:17 after 415 attacks.\n"
     ]
    },
    {
     "name": "stdout",
     "output_type": "stream",
     "text": [
      "\n",
      "\n",
      "=============================================================================================================================\n",
      "=============================================================================================================================\n",
      "\n"
     ]
    },
    {
     "name": "stderr",
     "output_type": "stream",
     "text": [
      "[Succeeded / Failed / Skipped / Total] 124 / 179 / 117 / 420:  84%|███████████████   | 420/500 [04:40<00:53,  1.50it/s]textattack: Saving checkpoint under \"checkpoints\\1720262302568.ta.chkpt\" at 2024-07-06 18:38:22 after 420 attacks.\n"
     ]
    },
    {
     "name": "stdout",
     "output_type": "stream",
     "text": [
      "\n",
      "\n",
      "=============================================================================================================================\n",
      "=============================================================================================================================\n",
      "\n"
     ]
    },
    {
     "name": "stderr",
     "output_type": "stream",
     "text": [
      "[Succeeded / Failed / Skipped / Total] 125 / 183 / 117 / 425:  85%|███████████████▎  | 425/500 [04:45<00:50,  1.49it/s]textattack: Saving checkpoint under \"checkpoints\\1720262307991.ta.chkpt\" at 2024-07-06 18:38:27 after 425 attacks.\n"
     ]
    },
    {
     "name": "stdout",
     "output_type": "stream",
     "text": [
      "\n",
      "\n",
      "=============================================================================================================================\n",
      "=============================================================================================================================\n",
      "\n"
     ]
    },
    {
     "name": "stderr",
     "output_type": "stream",
     "text": [
      "[Succeeded / Failed / Skipped / Total] 128 / 185 / 117 / 430:  86%|███████████████▍  | 430/500 [04:49<00:47,  1.48it/s]textattack: Saving checkpoint under \"checkpoints\\1720262312100.ta.chkpt\" at 2024-07-06 18:38:32 after 430 attacks.\n",
      "[Succeeded / Failed / Skipped / Total] 128 / 185 / 118 / 431:  86%|███████████████▌  | 431/500 [04:50<00:46,  1.49it/s]"
     ]
    },
    {
     "name": "stdout",
     "output_type": "stream",
     "text": [
      "\n",
      "\n",
      "=============================================================================================================================\n",
      "=============================================================================================================================\n",
      "\n"
     ]
    },
    {
     "name": "stderr",
     "output_type": "stream",
     "text": [
      "[Succeeded / Failed / Skipped / Total] 131 / 186 / 118 / 435:  87%|███████████████▋  | 435/500 [04:51<00:43,  1.49it/s]textattack: Saving checkpoint under \"checkpoints\\1720262313756.ta.chkpt\" at 2024-07-06 18:38:33 after 435 attacks.\n"
     ]
    },
    {
     "name": "stdout",
     "output_type": "stream",
     "text": [
      "\n",
      "\n",
      "=============================================================================================================================\n",
      "=============================================================================================================================\n",
      "\n"
     ]
    },
    {
     "name": "stderr",
     "output_type": "stream",
     "text": [
      "[Succeeded / Failed / Skipped / Total] 133 / 189 / 118 / 440:  88%|███████████████▊  | 440/500 [04:56<00:40,  1.48it/s]textattack: Saving checkpoint under \"checkpoints\\1720262318609.ta.chkpt\" at 2024-07-06 18:38:38 after 440 attacks.\n",
      "[Succeeded / Failed / Skipped / Total] 133 / 189 / 119 / 441:  88%|███████████████▉  | 441/500 [04:56<00:39,  1.49it/s]"
     ]
    },
    {
     "name": "stdout",
     "output_type": "stream",
     "text": [
      "\n",
      "\n",
      "=============================================================================================================================\n",
      "=============================================================================================================================\n",
      "\n"
     ]
    },
    {
     "name": "stderr",
     "output_type": "stream",
     "text": [
      "[Succeeded / Failed / Skipped / Total] 133 / 192 / 120 / 445:  89%|████████████████  | 445/500 [04:58<00:36,  1.49it/s]textattack: Saving checkpoint under \"checkpoints\\1720262320921.ta.chkpt\" at 2024-07-06 18:38:40 after 445 attacks.\n"
     ]
    },
    {
     "name": "stdout",
     "output_type": "stream",
     "text": [
      "\n",
      "\n",
      "=============================================================================================================================\n",
      "=============================================================================================================================\n",
      "\n"
     ]
    },
    {
     "name": "stderr",
     "output_type": "stream",
     "text": [
      "[Succeeded / Failed / Skipped / Total] 135 / 194 / 121 / 450:  90%|████████████████▏ | 450/500 [05:02<00:33,  1.49it/s]textattack: Saving checkpoint under \"checkpoints\\1720262324437.ta.chkpt\" at 2024-07-06 18:38:44 after 450 attacks.\n",
      "[Succeeded / Failed / Skipped / Total] 135 / 194 / 122 / 451:  90%|████████████████▏ | 451/500 [05:02<00:32,  1.49it/s]"
     ]
    },
    {
     "name": "stdout",
     "output_type": "stream",
     "text": [
      "\n",
      "\n",
      "=============================================================================================================================\n",
      "=============================================================================================================================\n",
      "\n"
     ]
    },
    {
     "name": "stderr",
     "output_type": "stream",
     "text": [
      "[Succeeded / Failed / Skipped / Total] 136 / 196 / 123 / 455:  91%|████████████████▍ | 455/500 [05:05<00:30,  1.49it/s]textattack: Saving checkpoint under \"checkpoints\\1720262327429.ta.chkpt\" at 2024-07-06 18:38:47 after 455 attacks.\n"
     ]
    },
    {
     "name": "stdout",
     "output_type": "stream",
     "text": [
      "\n",
      "\n",
      "=============================================================================================================================\n",
      "=============================================================================================================================\n",
      "\n"
     ]
    },
    {
     "name": "stderr",
     "output_type": "stream",
     "text": [
      "[Succeeded / Failed / Skipped / Total] 139 / 198 / 123 / 460:  92%|████████████████▌ | 460/500 [05:11<00:27,  1.48it/s]textattack: Saving checkpoint under \"checkpoints\\1720262333554.ta.chkpt\" at 2024-07-06 18:38:53 after 460 attacks.\n"
     ]
    },
    {
     "name": "stdout",
     "output_type": "stream",
     "text": [
      "\n",
      "\n",
      "=============================================================================================================================\n",
      "=============================================================================================================================\n",
      "\n"
     ]
    },
    {
     "name": "stderr",
     "output_type": "stream",
     "text": [
      "[Succeeded / Failed / Skipped / Total] 140 / 200 / 125 / 465:  93%|████████████████▋ | 465/500 [05:14<00:23,  1.48it/s]textattack: Saving checkpoint under \"checkpoints\\1720262336398.ta.chkpt\" at 2024-07-06 18:38:56 after 465 attacks.\n"
     ]
    },
    {
     "name": "stdout",
     "output_type": "stream",
     "text": [
      "\n",
      "\n",
      "=============================================================================================================================\n",
      "=============================================================================================================================\n",
      "\n"
     ]
    },
    {
     "name": "stderr",
     "output_type": "stream",
     "text": [
      "[Succeeded / Failed / Skipped / Total] 140 / 204 / 126 / 470:  94%|████████████████▉ | 470/500 [05:17<00:20,  1.48it/s]textattack: Saving checkpoint under \"checkpoints\\1720262339711.ta.chkpt\" at 2024-07-06 18:38:59 after 470 attacks.\n"
     ]
    },
    {
     "name": "stdout",
     "output_type": "stream",
     "text": [
      "\n",
      "\n",
      "=============================================================================================================================\n",
      "=============================================================================================================================\n",
      "\n"
     ]
    },
    {
     "name": "stderr",
     "output_type": "stream",
     "text": [
      "[Succeeded / Failed / Skipped / Total] 143 / 206 / 126 / 475:  95%|█████████████████ | 475/500 [05:21<00:16,  1.48it/s]textattack: Saving checkpoint under \"checkpoints\\1720262343961.ta.chkpt\" at 2024-07-06 18:39:03 after 475 attacks.\n"
     ]
    },
    {
     "name": "stdout",
     "output_type": "stream",
     "text": [
      "\n",
      "\n",
      "=============================================================================================================================\n",
      "=============================================================================================================================\n",
      "\n"
     ]
    },
    {
     "name": "stderr",
     "output_type": "stream",
     "text": [
      "[Succeeded / Failed / Skipped / Total] 146 / 208 / 126 / 480:  96%|█████████████████▎| 480/500 [05:25<00:13,  1.47it/s]textattack: Saving checkpoint under \"checkpoints\\1720262347837.ta.chkpt\" at 2024-07-06 18:39:07 after 480 attacks.\n"
     ]
    },
    {
     "name": "stdout",
     "output_type": "stream",
     "text": [
      "\n",
      "\n",
      "=============================================================================================================================\n",
      "=============================================================================================================================\n",
      "\n"
     ]
    },
    {
     "name": "stderr",
     "output_type": "stream",
     "text": [
      "[Succeeded / Failed / Skipped / Total] 147 / 211 / 127 / 485:  97%|█████████████████▍| 485/500 [05:30<00:10,  1.47it/s]textattack: Saving checkpoint under \"checkpoints\\1720262352306.ta.chkpt\" at 2024-07-06 18:39:12 after 485 attacks.\n"
     ]
    },
    {
     "name": "stdout",
     "output_type": "stream",
     "text": [
      "\n",
      "\n",
      "=============================================================================================================================\n",
      "=============================================================================================================================\n",
      "\n"
     ]
    },
    {
     "name": "stderr",
     "output_type": "stream",
     "text": [
      "[Succeeded / Failed / Skipped / Total] 148 / 213 / 129 / 490:  98%|█████████████████▋| 490/500 [05:32<00:06,  1.47it/s]textattack: Saving checkpoint under \"checkpoints\\1720262354556.ta.chkpt\" at 2024-07-06 18:39:14 after 490 attacks.\n",
      "[Succeeded / Failed / Skipped / Total] 148 / 213 / 130 / 491:  98%|█████████████████▋| 491/500 [05:32<00:06,  1.48it/s]"
     ]
    },
    {
     "name": "stdout",
     "output_type": "stream",
     "text": [
      "\n",
      "\n",
      "=============================================================================================================================\n",
      "=============================================================================================================================\n",
      "\n"
     ]
    },
    {
     "name": "stderr",
     "output_type": "stream",
     "text": [
      "[Succeeded / Failed / Skipped / Total] 148 / 216 / 131 / 495:  99%|█████████████████▊| 495/500 [05:35<00:03,  1.47it/s]textattack: Saving checkpoint under \"checkpoints\\1720262358040.ta.chkpt\" at 2024-07-06 18:39:18 after 495 attacks.\n"
     ]
    },
    {
     "name": "stdout",
     "output_type": "stream",
     "text": [
      "\n",
      "\n",
      "=============================================================================================================================\n",
      "=============================================================================================================================\n",
      "\n"
     ]
    },
    {
     "name": "stderr",
     "output_type": "stream",
     "text": [
      "[Succeeded / Failed / Skipped / Total] 152 / 217 / 131 / 500: 100%|██████████████████| 500/500 [05:41<00:00,  1.47it/s]textattack: Saving checkpoint under \"checkpoints\\1720262363197.ta.chkpt\" at 2024-07-06 18:39:23 after 500 attacks.\n",
      "[Succeeded / Failed / Skipped / Total] 152 / 217 / 131 / 500: 100%|██████████████████| 500/500 [05:41<00:00,  1.47it/s]"
     ]
    },
    {
     "name": "stdout",
     "output_type": "stream",
     "text": [
      "\n",
      "\n",
      "=============================================================================================================================\n",
      "=============================================================================================================================\n",
      "\n",
      "\n",
      "+-------------------------------+--------+\n",
      "| Attack Results                |        |\n",
      "+-------------------------------+--------+\n",
      "| Number of successful attacks: | 152    |\n",
      "| Number of failed attacks:     | 217    |\n",
      "| Number of skipped attacks:    | 131    |\n",
      "| Original accuracy:            | 73.8%  |\n",
      "| Accuracy under attack:        | 43.4%  |\n",
      "| Attack success rate:          | 41.19% |\n",
      "| Average perturbed word %:     | 14.72% |\n",
      "| Average num. words per input: | 18.4   |\n",
      "| Avg num queries:              | 21.01  |\n",
      "+-------------------------------+--------+\n"
     ]
    },
    {
     "name": "stderr",
     "output_type": "stream",
     "text": [
      "\n"
     ]
    }
   ],
   "source": [
    "runAttack(clip_model_wrapper_lr_mr, n_samples, 'attack_results_new/clipmrattacklr'+suffix, target_ds_mr)"
   ]
  },
  {
   "cell_type": "code",
   "execution_count": 29,
   "id": "90505994-11ba-48c5-8a78-5083ba8ddd05",
   "metadata": {},
   "outputs": [
    {
     "name": "stderr",
     "output_type": "stream",
     "text": [
      "textattack: Unknown if model of class <class 'transformers.models.clip.modeling_clip.CLIPTextTransformer'> compatible with goal function <class 'textattack.goal_functions.classification.untargeted_classification.UntargetedClassification'>.\n",
      "textattack: Logging to CSV at path attack_results_new/clipmrattackrfsim09.csv\n"
     ]
    },
    {
     "name": "stdout",
     "output_type": "stream",
     "text": [
      "Attack(\n",
      "  (search_method): GreedyWordSwapWIR(\n",
      "    (wir_method):  delete\n",
      "  )\n",
      "  (goal_function):  UntargetedClassification\n",
      "  (transformation):  WordSwapEmbedding(\n",
      "    (max_candidates):  50\n",
      "    (embedding):  WordEmbedding\n",
      "  )\n",
      "  (constraints): \n",
      "    (0): WordEmbeddingDistance(\n",
      "        (embedding):  WordEmbedding\n",
      "        (min_cos_sim):  0.9\n",
      "        (cased):  False\n",
      "        (include_unknown_words):  True\n",
      "        (compare_against_original):  True\n",
      "      )\n",
      "    (1): PartOfSpeech(\n",
      "        (tagger_type):  nltk\n",
      "        (tagset):  universal\n",
      "        (allow_verb_noun_swap):  True\n",
      "        (compare_against_original):  True\n",
      "      )\n",
      "    (2): UniversalSentenceEncoder(\n",
      "        (metric):  angular\n",
      "        (threshold):  0.840845057\n",
      "        (window_size):  15\n",
      "        (skip_text_shorter_than_window):  True\n",
      "        (compare_against_original):  False\n",
      "      )\n",
      "    (3): RepeatModification\n",
      "    (4): StopwordModification\n",
      "    (5): InputColumnModification(\n",
      "        (matching_column_labels):  ['premise', 'hypothesis']\n",
      "        (columns_to_ignore):  {'premise'}\n",
      "      )\n",
      "  (is_black_box):  True\n",
      ") \n",
      "\n"
     ]
    },
    {
     "name": "stderr",
     "output_type": "stream",
     "text": [
      "[Succeeded / Failed / Skipped / Total] 1 / 4 / 0 / 5:   1%|▎                           | 5/500 [00:10<18:04,  2.19s/it]textattack: Saving checkpoint under \"checkpoints\\1720262374264.ta.chkpt\" at 2024-07-06 18:39:34 after 5 attacks.\n",
      "[Succeeded / Failed / Skipped / Total] 1 / 4 / 2 / 7:   1%|▍                           | 7/500 [00:11<13:01,  1.59s/it]"
     ]
    },
    {
     "name": "stdout",
     "output_type": "stream",
     "text": [
      "\n",
      "\n",
      "=============================================================================================================================\n",
      "=============================================================================================================================\n",
      "\n"
     ]
    },
    {
     "name": "stderr",
     "output_type": "stream",
     "text": [
      "[Succeeded / Failed / Skipped / Total] 2 / 6 / 2 / 10:   2%|▌                         | 10/500 [00:14<12:04,  1.48s/it]textattack: Saving checkpoint under \"checkpoints\\1720262378093.ta.chkpt\" at 2024-07-06 18:39:38 after 10 attacks.\n"
     ]
    },
    {
     "name": "stdout",
     "output_type": "stream",
     "text": [
      "\n",
      "\n",
      "=============================================================================================================================\n",
      "=============================================================================================================================\n",
      "\n"
     ]
    },
    {
     "name": "stderr",
     "output_type": "stream",
     "text": [
      "[Succeeded / Failed / Skipped / Total] 4 / 8 / 3 / 15:   3%|▊                         | 15/500 [00:19<10:15,  1.27s/it]textattack: Saving checkpoint under \"checkpoints\\1720262382343.ta.chkpt\" at 2024-07-06 18:39:42 after 15 attacks.\n"
     ]
    },
    {
     "name": "stdout",
     "output_type": "stream",
     "text": [
      "\n",
      "\n",
      "=============================================================================================================================\n",
      "=============================================================================================================================\n",
      "\n"
     ]
    },
    {
     "name": "stderr",
     "output_type": "stream",
     "text": [
      "[Succeeded / Failed / Skipped / Total] 6 / 9 / 5 / 20:   4%|█                         | 20/500 [00:20<08:20,  1.04s/it]textattack: Saving checkpoint under \"checkpoints\\1720262384156.ta.chkpt\" at 2024-07-06 18:39:44 after 20 attacks.\n"
     ]
    },
    {
     "name": "stdout",
     "output_type": "stream",
     "text": [
      "\n",
      "\n",
      "=============================================================================================================================\n",
      "=============================================================================================================================\n",
      "\n"
     ]
    },
    {
     "name": "stderr",
     "output_type": "stream",
     "text": [
      "[Succeeded / Failed / Skipped / Total] 7 / 12 / 6 / 25:   5%|█▎                       | 25/500 [00:25<08:02,  1.02s/it]textattack: Saving checkpoint under \"checkpoints\\1720262388718.ta.chkpt\" at 2024-07-06 18:39:48 after 25 attacks.\n"
     ]
    },
    {
     "name": "stdout",
     "output_type": "stream",
     "text": [
      "\n",
      "\n",
      "=============================================================================================================================\n",
      "=============================================================================================================================\n",
      "\n"
     ]
    },
    {
     "name": "stderr",
     "output_type": "stream",
     "text": [
      "[Succeeded / Failed / Skipped / Total] 8 / 14 / 8 / 30:   6%|█▌                       | 30/500 [00:28<07:24,  1.06it/s]textattack: Saving checkpoint under \"checkpoints\\1720262391703.ta.chkpt\" at 2024-07-06 18:39:51 after 30 attacks.\n"
     ]
    },
    {
     "name": "stdout",
     "output_type": "stream",
     "text": [
      "\n",
      "\n",
      "=============================================================================================================================\n",
      "=============================================================================================================================\n",
      "\n"
     ]
    },
    {
     "name": "stderr",
     "output_type": "stream",
     "text": [
      "[Succeeded / Failed / Skipped / Total] 9 / 17 / 9 / 35:   7%|█▊                       | 35/500 [00:31<06:53,  1.12it/s]textattack: Saving checkpoint under \"checkpoints\\1720262394453.ta.chkpt\" at 2024-07-06 18:39:54 after 35 attacks.\n"
     ]
    },
    {
     "name": "stdout",
     "output_type": "stream",
     "text": [
      "\n",
      "\n",
      "=============================================================================================================================\n",
      "=============================================================================================================================\n",
      "\n"
     ]
    },
    {
     "name": "stderr",
     "output_type": "stream",
     "text": [
      "[Succeeded / Failed / Skipped / Total] 11 / 19 / 10 / 40:   8%|█▊                     | 40/500 [00:34<06:36,  1.16it/s]textattack: Saving checkpoint under \"checkpoints\\1720262397781.ta.chkpt\" at 2024-07-06 18:39:57 after 40 attacks.\n"
     ]
    },
    {
     "name": "stdout",
     "output_type": "stream",
     "text": [
      "\n",
      "\n",
      "=============================================================================================================================\n",
      "=============================================================================================================================\n",
      "\n"
     ]
    },
    {
     "name": "stderr",
     "output_type": "stream",
     "text": [
      "[Succeeded / Failed / Skipped / Total] 12 / 21 / 12 / 45:   9%|██                     | 45/500 [00:39<06:35,  1.15it/s]textattack: Saving checkpoint under \"checkpoints\\1720262402469.ta.chkpt\" at 2024-07-06 18:40:02 after 45 attacks.\n"
     ]
    },
    {
     "name": "stdout",
     "output_type": "stream",
     "text": [
      "\n",
      "\n",
      "=============================================================================================================================\n",
      "=============================================================================================================================\n",
      "\n"
     ]
    },
    {
     "name": "stderr",
     "output_type": "stream",
     "text": [
      "[Succeeded / Failed / Skipped / Total] 15 / 23 / 12 / 50:  10%|██▎                    | 50/500 [00:44<06:43,  1.12it/s]textattack: Saving checkpoint under \"checkpoints\\1720262408141.ta.chkpt\" at 2024-07-06 18:40:08 after 50 attacks.\n",
      "[Succeeded / Failed / Skipped / Total] 15 / 23 / 13 / 51:  10%|██▎                    | 51/500 [00:44<06:35,  1.14it/s]"
     ]
    },
    {
     "name": "stdout",
     "output_type": "stream",
     "text": [
      "\n",
      "\n",
      "=============================================================================================================================\n",
      "=============================================================================================================================\n",
      "\n"
     ]
    },
    {
     "name": "stderr",
     "output_type": "stream",
     "text": [
      "[Succeeded / Failed / Skipped / Total] 17 / 24 / 14 / 55:  11%|██▌                    | 55/500 [00:48<06:29,  1.14it/s]textattack: Saving checkpoint under \"checkpoints\\1720262411392.ta.chkpt\" at 2024-07-06 18:40:11 after 55 attacks.\n"
     ]
    },
    {
     "name": "stdout",
     "output_type": "stream",
     "text": [
      "\n",
      "\n",
      "=============================================================================================================================\n",
      "=============================================================================================================================\n",
      "\n"
     ]
    },
    {
     "name": "stderr",
     "output_type": "stream",
     "text": [
      "[Succeeded / Failed / Skipped / Total] 20 / 25 / 15 / 60:  12%|██▊                    | 60/500 [00:51<06:14,  1.18it/s]textattack: Saving checkpoint under \"checkpoints\\1720262414360.ta.chkpt\" at 2024-07-06 18:40:14 after 60 attacks.\n"
     ]
    },
    {
     "name": "stdout",
     "output_type": "stream",
     "text": [
      "\n",
      "\n",
      "=============================================================================================================================\n",
      "=============================================================================================================================\n",
      "\n"
     ]
    },
    {
     "name": "stderr",
     "output_type": "stream",
     "text": [
      "[Succeeded / Failed / Skipped / Total] 23 / 27 / 15 / 65:  13%|██▉                    | 65/500 [00:55<06:08,  1.18it/s]textattack: Saving checkpoint under \"checkpoints\\1720262418361.ta.chkpt\" at 2024-07-06 18:40:18 after 65 attacks.\n"
     ]
    },
    {
     "name": "stdout",
     "output_type": "stream",
     "text": [
      "\n",
      "\n",
      "=============================================================================================================================\n",
      "=============================================================================================================================\n",
      "\n"
     ]
    },
    {
     "name": "stderr",
     "output_type": "stream",
     "text": [
      "[Succeeded / Failed / Skipped / Total] 24 / 31 / 15 / 70:  14%|███▏                   | 70/500 [01:00<06:08,  1.17it/s]textattack: Saving checkpoint under \"checkpoints\\1720262423314.ta.chkpt\" at 2024-07-06 18:40:23 after 70 attacks.\n",
      "[Succeeded / Failed / Skipped / Total] 24 / 31 / 16 / 71:  14%|███▎                   | 71/500 [01:00<06:02,  1.18it/s]"
     ]
    },
    {
     "name": "stdout",
     "output_type": "stream",
     "text": [
      "\n",
      "\n",
      "=============================================================================================================================\n",
      "=============================================================================================================================\n",
      "\n"
     ]
    },
    {
     "name": "stderr",
     "output_type": "stream",
     "text": [
      "[Succeeded / Failed / Skipped / Total] 26 / 32 / 17 / 75:  15%|███▍                   | 75/500 [01:02<05:52,  1.21it/s]textattack: Saving checkpoint under \"checkpoints\\1720262425524.ta.chkpt\" at 2024-07-06 18:40:25 after 75 attacks.\n"
     ]
    },
    {
     "name": "stdout",
     "output_type": "stream",
     "text": [
      "\n",
      "\n",
      "=============================================================================================================================\n",
      "=============================================================================================================================\n",
      "\n"
     ]
    },
    {
     "name": "stderr",
     "output_type": "stream",
     "text": [
      "[Succeeded / Failed / Skipped / Total] 28 / 34 / 18 / 80:  16%|███▋                   | 80/500 [01:06<05:49,  1.20it/s]textattack: Saving checkpoint under \"checkpoints\\1720262429783.ta.chkpt\" at 2024-07-06 18:40:29 after 80 attacks.\n",
      "[Succeeded / Failed / Skipped / Total] 28 / 34 / 19 / 81:  16%|███▋                   | 81/500 [01:06<05:44,  1.22it/s]"
     ]
    },
    {
     "name": "stdout",
     "output_type": "stream",
     "text": [
      "\n",
      "\n",
      "=============================================================================================================================\n",
      "=============================================================================================================================\n",
      "\n"
     ]
    },
    {
     "name": "stderr",
     "output_type": "stream",
     "text": [
      "[Succeeded / Failed / Skipped / Total] 29 / 36 / 20 / 85:  17%|███▉                   | 85/500 [01:08<05:35,  1.24it/s]textattack: Saving checkpoint under \"checkpoints\\1720262431940.ta.chkpt\" at 2024-07-06 18:40:31 after 85 attacks.\n"
     ]
    },
    {
     "name": "stdout",
     "output_type": "stream",
     "text": [
      "\n",
      "\n",
      "=============================================================================================================================\n",
      "=============================================================================================================================\n",
      "\n"
     ]
    },
    {
     "name": "stderr",
     "output_type": "stream",
     "text": [
      "[Succeeded / Failed / Skipped / Total] 30 / 39 / 21 / 90:  18%|████▏                  | 90/500 [01:14<05:37,  1.22it/s]textattack: Saving checkpoint under \"checkpoints\\1720262437347.ta.chkpt\" at 2024-07-06 18:40:37 after 90 attacks.\n",
      "[Succeeded / Failed / Skipped / Total] 30 / 39 / 22 / 91:  18%|████▏                  | 91/500 [01:14<05:33,  1.23it/s]"
     ]
    },
    {
     "name": "stdout",
     "output_type": "stream",
     "text": [
      "\n",
      "\n",
      "=============================================================================================================================\n",
      "=============================================================================================================================\n",
      "\n"
     ]
    },
    {
     "name": "stderr",
     "output_type": "stream",
     "text": [
      "[Succeeded / Failed / Skipped / Total] 31 / 40 / 24 / 95:  19%|████▎                  | 95/500 [01:17<05:32,  1.22it/s]textattack: Saving checkpoint under \"checkpoints\\1720262441206.ta.chkpt\" at 2024-07-06 18:40:41 after 95 attacks.\n"
     ]
    },
    {
     "name": "stdout",
     "output_type": "stream",
     "text": [
      "\n",
      "\n",
      "=============================================================================================================================\n",
      "=============================================================================================================================\n",
      "\n"
     ]
    },
    {
     "name": "stderr",
     "output_type": "stream",
     "text": [
      "[Succeeded / Failed / Skipped / Total] 33 / 42 / 25 / 100:  20%|████▏                | 100/500 [01:20<05:20,  1.25it/s]textattack: Saving checkpoint under \"checkpoints\\1720262443488.ta.chkpt\" at 2024-07-06 18:40:43 after 100 attacks.\n"
     ]
    },
    {
     "name": "stdout",
     "output_type": "stream",
     "text": [
      "\n",
      "\n",
      "=============================================================================================================================\n",
      "=============================================================================================================================\n",
      "\n"
     ]
    },
    {
     "name": "stderr",
     "output_type": "stream",
     "text": [
      "[Succeeded / Failed / Skipped / Total] 34 / 45 / 26 / 105:  21%|████▍                | 105/500 [01:27<05:28,  1.20it/s]textattack: Saving checkpoint under \"checkpoints\\1720262450707.ta.chkpt\" at 2024-07-06 18:40:50 after 105 attacks.\n",
      "[Succeeded / Failed / Skipped / Total] 34 / 45 / 27 / 106:  21%|████▍                | 106/500 [01:27<05:25,  1.21it/s]"
     ]
    },
    {
     "name": "stdout",
     "output_type": "stream",
     "text": [
      "\n",
      "\n",
      "=============================================================================================================================\n",
      "=============================================================================================================================\n",
      "\n"
     ]
    },
    {
     "name": "stderr",
     "output_type": "stream",
     "text": [
      "[Succeeded / Failed / Skipped / Total] 34 / 47 / 29 / 110:  22%|████▌                | 110/500 [01:29<05:16,  1.23it/s]textattack: Saving checkpoint under \"checkpoints\\1720262452464.ta.chkpt\" at 2024-07-06 18:40:52 after 110 attacks.\n",
      "[Succeeded / Failed / Skipped / Total] 34 / 47 / 30 / 111:  22%|████▋                | 111/500 [01:29<05:12,  1.24it/s]"
     ]
    },
    {
     "name": "stdout",
     "output_type": "stream",
     "text": [
      "\n",
      "\n",
      "=============================================================================================================================\n",
      "=============================================================================================================================\n",
      "\n"
     ]
    },
    {
     "name": "stderr",
     "output_type": "stream",
     "text": [
      "[Succeeded / Failed / Skipped / Total] 37 / 48 / 30 / 115:  23%|████▊                | 115/500 [01:33<05:12,  1.23it/s]textattack: Saving checkpoint under \"checkpoints\\1720262456536.ta.chkpt\" at 2024-07-06 18:40:56 after 115 attacks.\n"
     ]
    },
    {
     "name": "stdout",
     "output_type": "stream",
     "text": [
      "\n",
      "\n",
      "=============================================================================================================================\n",
      "=============================================================================================================================\n",
      "\n"
     ]
    },
    {
     "name": "stderr",
     "output_type": "stream",
     "text": [
      "[Succeeded / Failed / Skipped / Total] 38 / 50 / 32 / 120:  24%|█████                | 120/500 [01:35<05:00,  1.26it/s]textattack: Saving checkpoint under \"checkpoints\\1720262458333.ta.chkpt\" at 2024-07-06 18:40:58 after 120 attacks.\n"
     ]
    },
    {
     "name": "stdout",
     "output_type": "stream",
     "text": [
      "\n",
      "\n",
      "=============================================================================================================================\n",
      "=============================================================================================================================\n",
      "\n"
     ]
    },
    {
     "name": "stderr",
     "output_type": "stream",
     "text": [
      "[Succeeded / Failed / Skipped / Total] 40 / 52 / 33 / 125:  25%|█████▎               | 125/500 [01:39<04:58,  1.26it/s]textattack: Saving checkpoint under \"checkpoints\\1720262462897.ta.chkpt\" at 2024-07-06 18:41:02 after 125 attacks.\n"
     ]
    },
    {
     "name": "stdout",
     "output_type": "stream",
     "text": [
      "\n",
      "\n",
      "=============================================================================================================================\n",
      "=============================================================================================================================\n",
      "\n"
     ]
    },
    {
     "name": "stderr",
     "output_type": "stream",
     "text": [
      "[Succeeded / Failed / Skipped / Total] 42 / 55 / 33 / 130:  26%|█████▍               | 130/500 [01:43<04:55,  1.25it/s]textattack: Saving checkpoint under \"checkpoints\\1720262467131.ta.chkpt\" at 2024-07-06 18:41:07 after 130 attacks.\n",
      "[Succeeded / Failed / Skipped / Total] 42 / 55 / 34 / 131:  26%|█████▌               | 131/500 [01:43<04:52,  1.26it/s]"
     ]
    },
    {
     "name": "stdout",
     "output_type": "stream",
     "text": [
      "\n",
      "\n",
      "=============================================================================================================================\n",
      "=============================================================================================================================\n",
      "\n"
     ]
    },
    {
     "name": "stderr",
     "output_type": "stream",
     "text": [
      "[Succeeded / Failed / Skipped / Total] 42 / 58 / 35 / 135:  27%|█████▋               | 135/500 [01:50<04:57,  1.23it/s]textattack: Saving checkpoint under \"checkpoints\\1720262473366.ta.chkpt\" at 2024-07-06 18:41:13 after 135 attacks.\n"
     ]
    },
    {
     "name": "stdout",
     "output_type": "stream",
     "text": [
      "\n",
      "\n",
      "=============================================================================================================================\n",
      "=============================================================================================================================\n",
      "\n"
     ]
    },
    {
     "name": "stderr",
     "output_type": "stream",
     "text": [
      "[Succeeded / Failed / Skipped / Total] 44 / 59 / 37 / 140:  28%|█████▉               | 140/500 [01:52<04:49,  1.24it/s]textattack: Saving checkpoint under \"checkpoints\\1720262475757.ta.chkpt\" at 2024-07-06 18:41:15 after 140 attacks.\n",
      "[Succeeded / Failed / Skipped / Total] 44 / 59 / 38 / 141:  28%|█████▉               | 141/500 [01:52<04:46,  1.25it/s]"
     ]
    },
    {
     "name": "stdout",
     "output_type": "stream",
     "text": [
      "\n",
      "\n",
      "=============================================================================================================================\n",
      "=============================================================================================================================\n",
      "\n"
     ]
    },
    {
     "name": "stderr",
     "output_type": "stream",
     "text": [
      "[Succeeded / Failed / Skipped / Total] 44 / 61 / 40 / 145:  29%|██████               | 145/500 [01:54<04:39,  1.27it/s]textattack: Saving checkpoint under \"checkpoints\\1720262477429.ta.chkpt\" at 2024-07-06 18:41:17 after 145 attacks.\n",
      "[Succeeded / Failed / Skipped / Total] 44 / 61 / 41 / 146:  29%|██████▏              | 146/500 [01:54<04:36,  1.28it/s]"
     ]
    },
    {
     "name": "stdout",
     "output_type": "stream",
     "text": [
      "\n",
      "\n",
      "=============================================================================================================================\n",
      "=============================================================================================================================\n",
      "\n"
     ]
    },
    {
     "name": "stderr",
     "output_type": "stream",
     "text": [
      "[Succeeded / Failed / Skipped / Total] 44 / 64 / 42 / 150:  30%|██████▎              | 150/500 [01:56<04:30,  1.29it/s]textattack: Saving checkpoint under \"checkpoints\\1720262479335.ta.chkpt\" at 2024-07-06 18:41:19 after 150 attacks.\n",
      "[Succeeded / Failed / Skipped / Total] 44 / 64 / 43 / 151:  30%|██████▎              | 151/500 [01:56<04:28,  1.30it/s]"
     ]
    },
    {
     "name": "stdout",
     "output_type": "stream",
     "text": [
      "\n",
      "\n",
      "=============================================================================================================================\n",
      "=============================================================================================================================\n",
      "\n"
     ]
    },
    {
     "name": "stderr",
     "output_type": "stream",
     "text": [
      "[Succeeded / Failed / Skipped / Total] 45 / 66 / 44 / 155:  31%|██████▌              | 155/500 [02:00<04:27,  1.29it/s]textattack: Saving checkpoint under \"checkpoints\\1720262483351.ta.chkpt\" at 2024-07-06 18:41:23 after 155 attacks.\n"
     ]
    },
    {
     "name": "stdout",
     "output_type": "stream",
     "text": [
      "\n",
      "\n",
      "=============================================================================================================================\n",
      "=============================================================================================================================\n",
      "\n"
     ]
    },
    {
     "name": "stderr",
     "output_type": "stream",
     "text": [
      "[Succeeded / Failed / Skipped / Total] 46 / 68 / 46 / 160:  32%|██████▋              | 160/500 [02:04<04:24,  1.29it/s]textattack: Saving checkpoint under \"checkpoints\\1720262487680.ta.chkpt\" at 2024-07-06 18:41:27 after 160 attacks.\n",
      "[Succeeded / Failed / Skipped / Total] 46 / 68 / 47 / 161:  32%|██████▊              | 161/500 [02:04<04:22,  1.29it/s]"
     ]
    },
    {
     "name": "stdout",
     "output_type": "stream",
     "text": [
      "\n",
      "\n",
      "=============================================================================================================================\n",
      "=============================================================================================================================\n",
      "\n"
     ]
    },
    {
     "name": "stderr",
     "output_type": "stream",
     "text": [
      "[Succeeded / Failed / Skipped / Total] 47 / 70 / 48 / 165:  33%|██████▉              | 165/500 [02:07<04:18,  1.29it/s]textattack: Saving checkpoint under \"checkpoints\\1720262490727.ta.chkpt\" at 2024-07-06 18:41:30 after 165 attacks.\n",
      "[Succeeded / Failed / Skipped / Total] 47 / 70 / 49 / 166:  33%|███████              | 167/500 [02:07<04:14,  1.31it/s]"
     ]
    },
    {
     "name": "stdout",
     "output_type": "stream",
     "text": [
      "\n",
      "\n",
      "=============================================================================================================================\n",
      "=============================================================================================================================\n",
      "\n"
     ]
    },
    {
     "name": "stderr",
     "output_type": "stream",
     "text": [
      "[Succeeded / Failed / Skipped / Total] 47 / 70 / 53 / 170:  34%|███████▏             | 170/500 [02:07<04:08,  1.33it/s]textattack: Saving checkpoint under \"checkpoints\\1720262491102.ta.chkpt\" at 2024-07-06 18:41:31 after 170 attacks.\n"
     ]
    },
    {
     "name": "stdout",
     "output_type": "stream",
     "text": [
      "\n",
      "\n",
      "=============================================================================================================================\n",
      "=============================================================================================================================\n",
      "\n"
     ]
    },
    {
     "name": "stderr",
     "output_type": "stream",
     "text": [
      "[Succeeded / Failed / Skipped / Total] 48 / 72 / 55 / 175:  35%|███████▎             | 175/500 [02:11<04:04,  1.33it/s]textattack: Saving checkpoint under \"checkpoints\\1720262494821.ta.chkpt\" at 2024-07-06 18:41:34 after 175 attacks.\n"
     ]
    },
    {
     "name": "stdout",
     "output_type": "stream",
     "text": [
      "\n",
      "\n",
      "=============================================================================================================================\n",
      "=============================================================================================================================\n",
      "\n"
     ]
    },
    {
     "name": "stderr",
     "output_type": "stream",
     "text": [
      "[Succeeded / Failed / Skipped / Total] 49 / 75 / 56 / 180:  36%|███████▌             | 180/500 [02:16<04:03,  1.32it/s]textattack: Saving checkpoint under \"checkpoints\\1720262500009.ta.chkpt\" at 2024-07-06 18:41:40 after 180 attacks.\n"
     ]
    },
    {
     "name": "stdout",
     "output_type": "stream",
     "text": [
      "\n",
      "\n",
      "=============================================================================================================================\n",
      "=============================================================================================================================\n",
      "\n"
     ]
    },
    {
     "name": "stderr",
     "output_type": "stream",
     "text": [
      "[Succeeded / Failed / Skipped / Total] 50 / 77 / 58 / 185:  37%|███████▊             | 185/500 [02:18<03:55,  1.34it/s]textattack: Saving checkpoint under \"checkpoints\\1720262501743.ta.chkpt\" at 2024-07-06 18:41:41 after 185 attacks.\n",
      "[Succeeded / Failed / Skipped / Total] 50 / 77 / 59 / 186:  37%|███████▊             | 186/500 [02:18<03:53,  1.34it/s]"
     ]
    },
    {
     "name": "stdout",
     "output_type": "stream",
     "text": [
      "\n",
      "\n",
      "=============================================================================================================================\n",
      "=============================================================================================================================\n",
      "\n"
     ]
    },
    {
     "name": "stderr",
     "output_type": "stream",
     "text": [
      "[Succeeded / Failed / Skipped / Total] 51 / 80 / 59 / 190:  38%|███████▉             | 190/500 [02:23<03:54,  1.32it/s]textattack: Saving checkpoint under \"checkpoints\\1720262506853.ta.chkpt\" at 2024-07-06 18:41:46 after 190 attacks.\n"
     ]
    },
    {
     "name": "stdout",
     "output_type": "stream",
     "text": [
      "\n",
      "\n",
      "=============================================================================================================================\n",
      "=============================================================================================================================\n",
      "\n"
     ]
    },
    {
     "name": "stderr",
     "output_type": "stream",
     "text": [
      "[Succeeded / Failed / Skipped / Total] 54 / 81 / 60 / 195:  39%|████████▏            | 195/500 [02:27<03:50,  1.32it/s]textattack: Saving checkpoint under \"checkpoints\\1720262510697.ta.chkpt\" at 2024-07-06 18:41:50 after 195 attacks.\n"
     ]
    },
    {
     "name": "stdout",
     "output_type": "stream",
     "text": [
      "\n",
      "\n",
      "=============================================================================================================================\n",
      "=============================================================================================================================\n",
      "\n"
     ]
    },
    {
     "name": "stderr",
     "output_type": "stream",
     "text": [
      "[Succeeded / Failed / Skipped / Total] 55 / 83 / 62 / 200:  40%|████████▍            | 200/500 [02:32<03:49,  1.31it/s]textattack: Saving checkpoint under \"checkpoints\\1720262516228.ta.chkpt\" at 2024-07-06 18:41:56 after 200 attacks.\n"
     ]
    },
    {
     "name": "stdout",
     "output_type": "stream",
     "text": [
      "\n",
      "\n",
      "=============================================================================================================================\n",
      "=============================================================================================================================\n",
      "\n"
     ]
    },
    {
     "name": "stderr",
     "output_type": "stream",
     "text": [
      "[Succeeded / Failed / Skipped / Total] 56 / 86 / 63 / 205:  41%|████████▌            | 205/500 [02:36<03:45,  1.31it/s]textattack: Saving checkpoint under \"checkpoints\\1720262519713.ta.chkpt\" at 2024-07-06 18:41:59 after 205 attacks.\n"
     ]
    },
    {
     "name": "stdout",
     "output_type": "stream",
     "text": [
      "\n",
      "\n",
      "=============================================================================================================================\n",
      "=============================================================================================================================\n",
      "\n"
     ]
    },
    {
     "name": "stderr",
     "output_type": "stream",
     "text": [
      "[Succeeded / Failed / Skipped / Total] 59 / 87 / 64 / 210:  42%|████████▊            | 210/500 [02:39<03:40,  1.32it/s]textattack: Saving checkpoint under \"checkpoints\\1720262522729.ta.chkpt\" at 2024-07-06 18:42:02 after 210 attacks.\n"
     ]
    },
    {
     "name": "stdout",
     "output_type": "stream",
     "text": [
      "\n",
      "\n",
      "=============================================================================================================================\n",
      "=============================================================================================================================\n",
      "\n"
     ]
    },
    {
     "name": "stderr",
     "output_type": "stream",
     "text": [
      "[Succeeded / Failed / Skipped / Total] 61 / 89 / 65 / 215:  43%|█████████            | 215/500 [02:43<03:36,  1.32it/s]textattack: Saving checkpoint under \"checkpoints\\1720262526323.ta.chkpt\" at 2024-07-06 18:42:06 after 215 attacks.\n"
     ]
    },
    {
     "name": "stdout",
     "output_type": "stream",
     "text": [
      "\n",
      "\n",
      "=============================================================================================================================\n",
      "=============================================================================================================================\n",
      "\n"
     ]
    },
    {
     "name": "stderr",
     "output_type": "stream",
     "text": [
      "[Succeeded / Failed / Skipped / Total] 61 / 93 / 66 / 220:  44%|█████████▏           | 220/500 [02:46<03:31,  1.32it/s]textattack: Saving checkpoint under \"checkpoints\\1720262529698.ta.chkpt\" at 2024-07-06 18:42:09 after 220 attacks.\n"
     ]
    },
    {
     "name": "stdout",
     "output_type": "stream",
     "text": [
      "\n",
      "\n",
      "=============================================================================================================================\n",
      "=============================================================================================================================\n",
      "\n"
     ]
    },
    {
     "name": "stderr",
     "output_type": "stream",
     "text": [
      "[Succeeded / Failed / Skipped / Total] 63 / 95 / 67 / 225:  45%|█████████▍           | 225/500 [02:51<03:29,  1.31it/s]textattack: Saving checkpoint under \"checkpoints\\1720262534652.ta.chkpt\" at 2024-07-06 18:42:14 after 225 attacks.\n"
     ]
    },
    {
     "name": "stdout",
     "output_type": "stream",
     "text": [
      "\n",
      "\n",
      "=============================================================================================================================\n",
      "=============================================================================================================================\n",
      "\n"
     ]
    },
    {
     "name": "stderr",
     "output_type": "stream",
     "text": [
      "[Succeeded / Failed / Skipped / Total] 64 / 96 / 70 / 230:  46%|█████████▋           | 230/500 [02:53<03:23,  1.33it/s]textattack: Saving checkpoint under \"checkpoints\\1720262536714.ta.chkpt\" at 2024-07-06 18:42:16 after 230 attacks.\n",
      "[Succeeded / Failed / Skipped / Total] 64 / 96 / 71 / 231:  46%|█████████▋           | 231/500 [02:53<03:22,  1.33it/s]"
     ]
    },
    {
     "name": "stdout",
     "output_type": "stream",
     "text": [
      "\n",
      "\n",
      "=============================================================================================================================\n",
      "=============================================================================================================================\n",
      "\n"
     ]
    },
    {
     "name": "stderr",
     "output_type": "stream",
     "text": [
      "[Succeeded / Failed / Skipped / Total] 66 / 97 / 72 / 235:  47%|█████████▊           | 235/500 [02:56<03:19,  1.33it/s]textattack: Saving checkpoint under \"checkpoints\\1720262540168.ta.chkpt\" at 2024-07-06 18:42:20 after 235 attacks.\n"
     ]
    },
    {
     "name": "stdout",
     "output_type": "stream",
     "text": [
      "\n",
      "\n",
      "=============================================================================================================================\n",
      "=============================================================================================================================\n",
      "\n"
     ]
    },
    {
     "name": "stderr",
     "output_type": "stream",
     "text": [
      "[Succeeded / Failed / Skipped / Total] 68 / 99 / 73 / 240:  48%|██████████           | 240/500 [02:59<03:14,  1.34it/s]textattack: Saving checkpoint under \"checkpoints\\1720262542465.ta.chkpt\" at 2024-07-06 18:42:22 after 240 attacks.\n",
      "[Succeeded / Failed / Skipped / Total] 68 / 99 / 74 / 241:  48%|██████████           | 241/500 [02:59<03:12,  1.34it/s]"
     ]
    },
    {
     "name": "stdout",
     "output_type": "stream",
     "text": [
      "\n",
      "\n",
      "=============================================================================================================================\n",
      "=============================================================================================================================\n",
      "\n"
     ]
    },
    {
     "name": "stderr",
     "output_type": "stream",
     "text": [
      "[Succeeded / Failed / Skipped / Total] 70 / 101 / 74 / 245:  49%|█████████▊          | 245/500 [03:02<03:09,  1.34it/s]textattack: Saving checkpoint under \"checkpoints\\1720262545777.ta.chkpt\" at 2024-07-06 18:42:25 after 245 attacks.\n"
     ]
    },
    {
     "name": "stdout",
     "output_type": "stream",
     "text": [
      "\n",
      "\n",
      "=============================================================================================================================\n",
      "=============================================================================================================================\n",
      "\n"
     ]
    },
    {
     "name": "stderr",
     "output_type": "stream",
     "text": [
      "[Succeeded / Failed / Skipped / Total] 70 / 103 / 77 / 250:  50%|██████████          | 250/500 [03:03<03:03,  1.36it/s]textattack: Saving checkpoint under \"checkpoints\\1720262547277.ta.chkpt\" at 2024-07-06 18:42:27 after 250 attacks.\n",
      "[Succeeded / Failed / Skipped / Total] 70 / 103 / 78 / 251:  50%|██████████          | 251/500 [03:04<03:02,  1.36it/s]"
     ]
    },
    {
     "name": "stdout",
     "output_type": "stream",
     "text": [
      "\n",
      "\n",
      "=============================================================================================================================\n",
      "=============================================================================================================================\n",
      "\n"
     ]
    },
    {
     "name": "stderr",
     "output_type": "stream",
     "text": [
      "[Succeeded / Failed / Skipped / Total] 73 / 104 / 78 / 255:  51%|██████████▏         | 255/500 [03:09<03:01,  1.35it/s]textattack: Saving checkpoint under \"checkpoints\\1720262552653.ta.chkpt\" at 2024-07-06 18:42:32 after 255 attacks.\n"
     ]
    },
    {
     "name": "stdout",
     "output_type": "stream",
     "text": [
      "\n",
      "\n",
      "=============================================================================================================================\n",
      "=============================================================================================================================\n",
      "\n"
     ]
    },
    {
     "name": "stderr",
     "output_type": "stream",
     "text": [
      "[Succeeded / Failed / Skipped / Total] 75 / 107 / 78 / 260:  52%|██████████▍         | 260/500 [03:13<02:58,  1.35it/s]textattack: Saving checkpoint under \"checkpoints\\1720262556544.ta.chkpt\" at 2024-07-06 18:42:36 after 260 attacks.\n",
      "[Succeeded / Failed / Skipped / Total] 75 / 107 / 80 / 262:  52%|██████████▍         | 262/500 [03:13<02:55,  1.35it/s]"
     ]
    },
    {
     "name": "stdout",
     "output_type": "stream",
     "text": [
      "\n",
      "\n",
      "=============================================================================================================================\n",
      "=============================================================================================================================\n",
      "\n"
     ]
    },
    {
     "name": "stderr",
     "output_type": "stream",
     "text": [
      "[Succeeded / Failed / Skipped / Total] 75 / 109 / 81 / 265:  53%|██████████▌         | 265/500 [03:15<02:53,  1.36it/s]textattack: Saving checkpoint under \"checkpoints\\1720262558637.ta.chkpt\" at 2024-07-06 18:42:38 after 265 attacks.\n"
     ]
    },
    {
     "name": "stdout",
     "output_type": "stream",
     "text": [
      "\n",
      "\n",
      "=============================================================================================================================\n",
      "=============================================================================================================================\n",
      "\n"
     ]
    },
    {
     "name": "stderr",
     "output_type": "stream",
     "text": [
      "[Succeeded / Failed / Skipped / Total] 78 / 110 / 82 / 270:  54%|██████████▊         | 270/500 [03:19<02:50,  1.35it/s]textattack: Saving checkpoint under \"checkpoints\\1720262562997.ta.chkpt\" at 2024-07-06 18:42:42 after 270 attacks.\n",
      "[Succeeded / Failed / Skipped / Total] 78 / 110 / 83 / 271:  54%|██████████▊         | 271/500 [03:19<02:48,  1.36it/s]"
     ]
    },
    {
     "name": "stdout",
     "output_type": "stream",
     "text": [
      "\n",
      "\n",
      "=============================================================================================================================\n",
      "=============================================================================================================================\n",
      "\n"
     ]
    },
    {
     "name": "stderr",
     "output_type": "stream",
     "text": [
      "[Succeeded / Failed / Skipped / Total] 79 / 112 / 84 / 275:  55%|███████████         | 275/500 [03:21<02:45,  1.36it/s]textattack: Saving checkpoint under \"checkpoints\\1720262565044.ta.chkpt\" at 2024-07-06 18:42:45 after 275 attacks.\n"
     ]
    },
    {
     "name": "stdout",
     "output_type": "stream",
     "text": [
      "\n",
      "\n",
      "=============================================================================================================================\n",
      "=============================================================================================================================\n",
      "\n"
     ]
    },
    {
     "name": "stderr",
     "output_type": "stream",
     "text": [
      "[Succeeded / Failed / Skipped / Total] 79 / 114 / 87 / 280:  56%|███████████▏        | 280/500 [03:23<02:39,  1.38it/s]textattack: Saving checkpoint under \"checkpoints\\1720262566654.ta.chkpt\" at 2024-07-06 18:42:46 after 280 attacks.\n"
     ]
    },
    {
     "name": "stdout",
     "output_type": "stream",
     "text": [
      "\n",
      "\n",
      "=============================================================================================================================\n",
      "=============================================================================================================================\n",
      "\n"
     ]
    },
    {
     "name": "stderr",
     "output_type": "stream",
     "text": [
      "[Succeeded / Failed / Skipped / Total] 79 / 116 / 90 / 285:  57%|███████████▍        | 285/500 [03:24<02:34,  1.39it/s]textattack: Saving checkpoint under \"checkpoints\\1720262568091.ta.chkpt\" at 2024-07-06 18:42:48 after 285 attacks.\n",
      "[Succeeded / Failed / Skipped / Total] 79 / 116 / 91 / 286:  57%|███████████▍        | 286/500 [03:24<02:33,  1.40it/s]"
     ]
    },
    {
     "name": "stdout",
     "output_type": "stream",
     "text": [
      "\n",
      "\n",
      "=============================================================================================================================\n",
      "=============================================================================================================================\n",
      "\n"
     ]
    },
    {
     "name": "stderr",
     "output_type": "stream",
     "text": [
      "[Succeeded / Failed / Skipped / Total] 80 / 119 / 91 / 290:  58%|███████████▌        | 290/500 [03:29<02:31,  1.38it/s]textattack: Saving checkpoint under \"checkpoints\\1720262572951.ta.chkpt\" at 2024-07-06 18:42:52 after 290 attacks.\n",
      "[Succeeded / Failed / Skipped / Total] 80 / 119 / 93 / 292:  58%|███████████▋        | 292/500 [03:29<02:29,  1.39it/s]"
     ]
    },
    {
     "name": "stdout",
     "output_type": "stream",
     "text": [
      "\n",
      "\n",
      "=============================================================================================================================\n",
      "=============================================================================================================================\n",
      "\n"
     ]
    },
    {
     "name": "stderr",
     "output_type": "stream",
     "text": [
      "[Succeeded / Failed / Skipped / Total] 81 / 120 / 94 / 295:  59%|███████████▊        | 295/500 [03:31<02:27,  1.39it/s]textattack: Saving checkpoint under \"checkpoints\\1720262575232.ta.chkpt\" at 2024-07-06 18:42:55 after 295 attacks.\n"
     ]
    },
    {
     "name": "stdout",
     "output_type": "stream",
     "text": [
      "\n",
      "\n",
      "=============================================================================================================================\n",
      "=============================================================================================================================\n",
      "\n"
     ]
    },
    {
     "name": "stderr",
     "output_type": "stream",
     "text": [
      "[Succeeded / Failed / Skipped / Total] 83 / 122 / 95 / 300:  60%|████████████        | 300/500 [03:34<02:23,  1.40it/s]textattack: Saving checkpoint under \"checkpoints\\1720262577983.ta.chkpt\" at 2024-07-06 18:42:57 after 300 attacks.\n"
     ]
    },
    {
     "name": "stdout",
     "output_type": "stream",
     "text": [
      "\n",
      "\n",
      "=============================================================================================================================\n",
      "=============================================================================================================================\n",
      "\n"
     ]
    },
    {
     "name": "stderr",
     "output_type": "stream",
     "text": [
      "[Succeeded / Failed / Skipped / Total] 84 / 124 / 97 / 305:  61%|████████████▏       | 305/500 [03:36<02:18,  1.41it/s]textattack: Saving checkpoint under \"checkpoints\\1720262579967.ta.chkpt\" at 2024-07-06 18:42:59 after 305 attacks.\n"
     ]
    },
    {
     "name": "stdout",
     "output_type": "stream",
     "text": [
      "\n",
      "\n",
      "=============================================================================================================================\n",
      "=============================================================================================================================\n",
      "\n"
     ]
    },
    {
     "name": "stderr",
     "output_type": "stream",
     "text": [
      "[Succeeded / Failed / Skipped / Total] 85 / 128 / 97 / 310:  62%|████████████▍       | 310/500 [03:38<02:14,  1.42it/s]textattack: Saving checkpoint under \"checkpoints\\1720262581998.ta.chkpt\" at 2024-07-06 18:43:01 after 310 attacks.\n"
     ]
    },
    {
     "name": "stdout",
     "output_type": "stream",
     "text": [
      "\n",
      "\n",
      "=============================================================================================================================\n",
      "=============================================================================================================================\n",
      "\n"
     ]
    },
    {
     "name": "stderr",
     "output_type": "stream",
     "text": [
      "[Succeeded / Failed / Skipped / Total] 86 / 130 / 99 / 315:  63%|████████████▌       | 315/500 [03:40<02:09,  1.43it/s]textattack: Saving checkpoint under \"checkpoints\\1720262584217.ta.chkpt\" at 2024-07-06 18:43:04 after 315 attacks.\n"
     ]
    },
    {
     "name": "stdout",
     "output_type": "stream",
     "text": [
      "\n",
      "\n",
      "=============================================================================================================================\n",
      "=============================================================================================================================\n",
      "\n"
     ]
    },
    {
     "name": "stderr",
     "output_type": "stream",
     "text": [
      "[Succeeded / Failed / Skipped / Total] 86 / 133 / 101 / 320:  64%|████████████▏      | 320/500 [03:46<02:07,  1.41it/s]textattack: Saving checkpoint under \"checkpoints\\1720262589968.ta.chkpt\" at 2024-07-06 18:43:09 after 320 attacks.\n"
     ]
    },
    {
     "name": "stdout",
     "output_type": "stream",
     "text": [
      "\n",
      "\n",
      "=============================================================================================================================\n",
      "=============================================================================================================================\n",
      "\n"
     ]
    },
    {
     "name": "stderr",
     "output_type": "stream",
     "text": [
      "[Succeeded / Failed / Skipped / Total] 87 / 135 / 103 / 325:  65%|████████████▎      | 325/500 [03:52<02:05,  1.40it/s]textattack: Saving checkpoint under \"checkpoints\\1720262595734.ta.chkpt\" at 2024-07-06 18:43:15 after 325 attacks.\n",
      "[Succeeded / Failed / Skipped / Total] 87 / 135 / 104 / 326:  65%|████████████▍      | 327/500 [03:52<02:03,  1.41it/s]"
     ]
    },
    {
     "name": "stdout",
     "output_type": "stream",
     "text": [
      "\n",
      "\n",
      "=============================================================================================================================\n",
      "=============================================================================================================================\n",
      "\n"
     ]
    },
    {
     "name": "stderr",
     "output_type": "stream",
     "text": [
      "[Succeeded / Failed / Skipped / Total] 87 / 136 / 107 / 330:  66%|████████████▌      | 330/500 [03:53<02:00,  1.42it/s]textattack: Saving checkpoint under \"checkpoints\\1720262596374.ta.chkpt\" at 2024-07-06 18:43:16 after 330 attacks.\n"
     ]
    },
    {
     "name": "stdout",
     "output_type": "stream",
     "text": [
      "\n",
      "\n",
      "=============================================================================================================================\n",
      "=============================================================================================================================\n",
      "\n"
     ]
    },
    {
     "name": "stderr",
     "output_type": "stream",
     "text": [
      "[Succeeded / Failed / Skipped / Total] 87 / 140 / 108 / 335:  67%|████████████▋      | 335/500 [04:00<01:58,  1.39it/s]textattack: Saving checkpoint under \"checkpoints\\1720262603469.ta.chkpt\" at 2024-07-06 18:43:23 after 335 attacks.\n"
     ]
    },
    {
     "name": "stdout",
     "output_type": "stream",
     "text": [
      "\n",
      "\n",
      "=============================================================================================================================\n",
      "=============================================================================================================================\n",
      "\n"
     ]
    },
    {
     "name": "stderr",
     "output_type": "stream",
     "text": [
      "[Succeeded / Failed / Skipped / Total] 89 / 141 / 110 / 340:  68%|████████████▉      | 340/500 [04:02<01:53,  1.40it/s]textattack: Saving checkpoint under \"checkpoints\\1720262605406.ta.chkpt\" at 2024-07-06 18:43:25 after 340 attacks.\n"
     ]
    },
    {
     "name": "stdout",
     "output_type": "stream",
     "text": [
      "\n",
      "\n",
      "=============================================================================================================================\n",
      "=============================================================================================================================\n",
      "\n"
     ]
    },
    {
     "name": "stderr",
     "output_type": "stream",
     "text": [
      "[Succeeded / Failed / Skipped / Total] 91 / 142 / 112 / 345:  69%|█████████████      | 345/500 [04:05<01:50,  1.41it/s]textattack: Saving checkpoint under \"checkpoints\\1720262608375.ta.chkpt\" at 2024-07-06 18:43:28 after 345 attacks.\n"
     ]
    },
    {
     "name": "stdout",
     "output_type": "stream",
     "text": [
      "\n",
      "\n",
      "=============================================================================================================================\n",
      "=============================================================================================================================\n",
      "\n"
     ]
    },
    {
     "name": "stderr",
     "output_type": "stream",
     "text": [
      "[Succeeded / Failed / Skipped / Total] 94 / 144 / 112 / 350:  70%|█████████████▎     | 350/500 [04:10<01:47,  1.40it/s]textattack: Saving checkpoint under \"checkpoints\\1720262613688.ta.chkpt\" at 2024-07-06 18:43:33 after 350 attacks.\n"
     ]
    },
    {
     "name": "stdout",
     "output_type": "stream",
     "text": [
      "\n",
      "\n",
      "=============================================================================================================================\n",
      "=============================================================================================================================\n",
      "\n"
     ]
    },
    {
     "name": "stderr",
     "output_type": "stream",
     "text": [
      "[Succeeded / Failed / Skipped / Total] 94 / 149 / 112 / 355:  71%|█████████████▍     | 355/500 [04:16<01:44,  1.38it/s]textattack: Saving checkpoint under \"checkpoints\\1720262620001.ta.chkpt\" at 2024-07-06 18:43:40 after 355 attacks.\n"
     ]
    },
    {
     "name": "stdout",
     "output_type": "stream",
     "text": [
      "\n",
      "\n",
      "=============================================================================================================================\n",
      "=============================================================================================================================\n",
      "\n"
     ]
    },
    {
     "name": "stderr",
     "output_type": "stream",
     "text": [
      "[Succeeded / Failed / Skipped / Total] 94 / 153 / 113 / 360:  72%|█████████████▋     | 360/500 [04:21<01:41,  1.38it/s]textattack: Saving checkpoint under \"checkpoints\\1720262624986.ta.chkpt\" at 2024-07-06 18:43:44 after 360 attacks.\n"
     ]
    },
    {
     "name": "stdout",
     "output_type": "stream",
     "text": [
      "\n",
      "\n",
      "=============================================================================================================================\n",
      "=============================================================================================================================\n",
      "\n"
     ]
    },
    {
     "name": "stderr",
     "output_type": "stream",
     "text": [
      "[Succeeded / Failed / Skipped / Total] 96 / 155 / 114 / 365:  73%|█████████████▊     | 365/500 [04:24<01:37,  1.38it/s]textattack: Saving checkpoint under \"checkpoints\\1720262627798.ta.chkpt\" at 2024-07-06 18:43:47 after 365 attacks.\n"
     ]
    },
    {
     "name": "stdout",
     "output_type": "stream",
     "text": [
      "\n",
      "\n",
      "=============================================================================================================================\n",
      "=============================================================================================================================\n",
      "\n"
     ]
    },
    {
     "name": "stderr",
     "output_type": "stream",
     "text": [
      "[Succeeded / Failed / Skipped / Total] 98 / 156 / 116 / 370:  74%|██████████████     | 370/500 [04:25<01:33,  1.39it/s]textattack: Saving checkpoint under \"checkpoints\\1720262629127.ta.chkpt\" at 2024-07-06 18:43:49 after 370 attacks.\n"
     ]
    },
    {
     "name": "stdout",
     "output_type": "stream",
     "text": [
      "\n",
      "\n",
      "=============================================================================================================================\n",
      "=============================================================================================================================\n",
      "\n"
     ]
    },
    {
     "name": "stderr",
     "output_type": "stream",
     "text": [
      "[Succeeded / Failed / Skipped / Total] 102 / 157 / 116 / 375:  75%|█████████████▌    | 375/500 [04:29<01:29,  1.39it/s]textattack: Saving checkpoint under \"checkpoints\\1720262633267.ta.chkpt\" at 2024-07-06 18:43:53 after 375 attacks.\n"
     ]
    },
    {
     "name": "stdout",
     "output_type": "stream",
     "text": [
      "\n",
      "\n",
      "=============================================================================================================================\n",
      "=============================================================================================================================\n",
      "\n"
     ]
    },
    {
     "name": "stderr",
     "output_type": "stream",
     "text": [
      "[Succeeded / Failed / Skipped / Total] 103 / 160 / 117 / 380:  76%|█████████████▋    | 380/500 [04:32<01:26,  1.39it/s]textattack: Saving checkpoint under \"checkpoints\\1720262635908.ta.chkpt\" at 2024-07-06 18:43:55 after 380 attacks.\n"
     ]
    },
    {
     "name": "stdout",
     "output_type": "stream",
     "text": [
      "\n",
      "\n",
      "=============================================================================================================================\n",
      "=============================================================================================================================\n",
      "\n"
     ]
    },
    {
     "name": "stderr",
     "output_type": "stream",
     "text": [
      "[Succeeded / Failed / Skipped / Total] 105 / 162 / 118 / 385:  77%|█████████████▊    | 385/500 [04:35<01:22,  1.40it/s]textattack: Saving checkpoint under \"checkpoints\\1720262638455.ta.chkpt\" at 2024-07-06 18:43:58 after 385 attacks.\n"
     ]
    },
    {
     "name": "stdout",
     "output_type": "stream",
     "text": [
      "\n",
      "\n",
      "=============================================================================================================================\n",
      "=============================================================================================================================\n",
      "\n"
     ]
    },
    {
     "name": "stderr",
     "output_type": "stream",
     "text": [
      "[Succeeded / Failed / Skipped / Total] 107 / 164 / 119 / 390:  78%|██████████████    | 390/500 [04:37<01:18,  1.41it/s]textattack: Saving checkpoint under \"checkpoints\\1720262640487.ta.chkpt\" at 2024-07-06 18:44:00 after 390 attacks.\n"
     ]
    },
    {
     "name": "stdout",
     "output_type": "stream",
     "text": [
      "\n",
      "\n",
      "=============================================================================================================================\n",
      "=============================================================================================================================\n",
      "\n"
     ]
    },
    {
     "name": "stderr",
     "output_type": "stream",
     "text": [
      "[Succeeded / Failed / Skipped / Total] 110 / 166 / 119 / 395:  79%|██████████████▏   | 395/500 [04:43<01:15,  1.39it/s]textattack: Saving checkpoint under \"checkpoints\\1720262646565.ta.chkpt\" at 2024-07-06 18:44:06 after 395 attacks.\n"
     ]
    },
    {
     "name": "stdout",
     "output_type": "stream",
     "text": [
      "\n",
      "\n",
      "=============================================================================================================================\n",
      "=============================================================================================================================\n",
      "\n"
     ]
    },
    {
     "name": "stderr",
     "output_type": "stream",
     "text": [
      "[Succeeded / Failed / Skipped / Total] 110 / 170 / 120 / 400:  80%|██████████████▍   | 400/500 [04:50<01:12,  1.38it/s]textattack: Saving checkpoint under \"checkpoints\\1720262653331.ta.chkpt\" at 2024-07-06 18:44:13 after 400 attacks.\n",
      "[Succeeded / Failed / Skipped / Total] 110 / 170 / 122 / 402:  80%|██████████████▍   | 402/500 [04:50<01:10,  1.39it/s]"
     ]
    },
    {
     "name": "stdout",
     "output_type": "stream",
     "text": [
      "\n",
      "\n",
      "=============================================================================================================================\n",
      "=============================================================================================================================\n",
      "\n"
     ]
    },
    {
     "name": "stderr",
     "output_type": "stream",
     "text": [
      "[Succeeded / Failed / Skipped / Total] 111 / 171 / 123 / 405:  81%|██████████████▌   | 405/500 [04:52<01:08,  1.38it/s]textattack: Saving checkpoint under \"checkpoints\\1720262656019.ta.chkpt\" at 2024-07-06 18:44:16 after 405 attacks.\n"
     ]
    },
    {
     "name": "stdout",
     "output_type": "stream",
     "text": [
      "\n",
      "\n",
      "=============================================================================================================================\n",
      "=============================================================================================================================\n",
      "\n"
     ]
    },
    {
     "name": "stderr",
     "output_type": "stream",
     "text": [
      "[Succeeded / Failed / Skipped / Total] 113 / 173 / 124 / 410:  82%|██████████████▊   | 410/500 [04:54<01:04,  1.39it/s]textattack: Saving checkpoint under \"checkpoints\\1720262658207.ta.chkpt\" at 2024-07-06 18:44:18 after 410 attacks.\n",
      "[Succeeded / Failed / Skipped / Total] 113 / 173 / 125 / 411:  82%|██████████████▊   | 411/500 [04:55<01:03,  1.39it/s]"
     ]
    },
    {
     "name": "stdout",
     "output_type": "stream",
     "text": [
      "\n",
      "\n",
      "=============================================================================================================================\n",
      "=============================================================================================================================\n",
      "\n"
     ]
    },
    {
     "name": "stderr",
     "output_type": "stream",
     "text": [
      "[Succeeded / Failed / Skipped / Total] 114 / 174 / 127 / 415:  83%|██████████████▉   | 415/500 [04:56<01:00,  1.40it/s]textattack: Saving checkpoint under \"checkpoints\\1720262659941.ta.chkpt\" at 2024-07-06 18:44:19 after 415 attacks.\n"
     ]
    },
    {
     "name": "stdout",
     "output_type": "stream",
     "text": [
      "\n",
      "\n",
      "=============================================================================================================================\n",
      "=============================================================================================================================\n",
      "\n"
     ]
    },
    {
     "name": "stderr",
     "output_type": "stream",
     "text": [
      "[Succeeded / Failed / Skipped / Total] 114 / 177 / 129 / 420:  84%|███████████████   | 420/500 [05:02<00:57,  1.39it/s]textattack: Saving checkpoint under \"checkpoints\\1720262665332.ta.chkpt\" at 2024-07-06 18:44:25 after 420 attacks.\n"
     ]
    },
    {
     "name": "stdout",
     "output_type": "stream",
     "text": [
      "\n",
      "\n",
      "=============================================================================================================================\n",
      "=============================================================================================================================\n",
      "\n"
     ]
    },
    {
     "name": "stderr",
     "output_type": "stream",
     "text": [
      "[Succeeded / Failed / Skipped / Total] 116 / 180 / 129 / 425:  85%|███████████████▎  | 425/500 [05:06<00:54,  1.39it/s]textattack: Saving checkpoint under \"checkpoints\\1720262670145.ta.chkpt\" at 2024-07-06 18:44:30 after 425 attacks.\n",
      "[Succeeded / Failed / Skipped / Total] 116 / 180 / 130 / 426:  85%|███████████████▎  | 426/500 [05:06<00:53,  1.39it/s]"
     ]
    },
    {
     "name": "stdout",
     "output_type": "stream",
     "text": [
      "\n",
      "\n",
      "=============================================================================================================================\n",
      "=============================================================================================================================\n",
      "\n"
     ]
    },
    {
     "name": "stderr",
     "output_type": "stream",
     "text": [
      "[Succeeded / Failed / Skipped / Total] 117 / 182 / 131 / 430:  86%|███████████████▍  | 430/500 [05:09<00:50,  1.39it/s]textattack: Saving checkpoint under \"checkpoints\\1720262672911.ta.chkpt\" at 2024-07-06 18:44:32 after 430 attacks.\n",
      "[Succeeded / Failed / Skipped / Total] 117 / 182 / 133 / 432:  86%|███████████████▌  | 432/500 [05:09<00:48,  1.39it/s]"
     ]
    },
    {
     "name": "stdout",
     "output_type": "stream",
     "text": [
      "\n",
      "\n",
      "=============================================================================================================================\n",
      "=============================================================================================================================\n",
      "\n"
     ]
    },
    {
     "name": "stderr",
     "output_type": "stream",
     "text": [
      "[Succeeded / Failed / Skipped / Total] 118 / 184 / 133 / 435:  87%|███████████████▋  | 435/500 [05:11<00:46,  1.40it/s]textattack: Saving checkpoint under \"checkpoints\\1720262674629.ta.chkpt\" at 2024-07-06 18:44:34 after 435 attacks.\n"
     ]
    },
    {
     "name": "stdout",
     "output_type": "stream",
     "text": [
      "\n",
      "\n",
      "=============================================================================================================================\n",
      "=============================================================================================================================\n",
      "\n"
     ]
    },
    {
     "name": "stderr",
     "output_type": "stream",
     "text": [
      "[Succeeded / Failed / Skipped / Total] 120 / 187 / 133 / 440:  88%|███████████████▊  | 440/500 [05:16<00:43,  1.39it/s]textattack: Saving checkpoint under \"checkpoints\\1720262680130.ta.chkpt\" at 2024-07-06 18:44:40 after 440 attacks.\n"
     ]
    },
    {
     "name": "stdout",
     "output_type": "stream",
     "text": [
      "\n",
      "\n",
      "=============================================================================================================================\n",
      "=============================================================================================================================\n",
      "\n"
     ]
    },
    {
     "name": "stderr",
     "output_type": "stream",
     "text": [
      "[Succeeded / Failed / Skipped / Total] 122 / 189 / 134 / 445:  89%|████████████████  | 445/500 [05:19<00:39,  1.39it/s]textattack: Saving checkpoint under \"checkpoints\\1720262682318.ta.chkpt\" at 2024-07-06 18:44:42 after 445 attacks.\n"
     ]
    },
    {
     "name": "stdout",
     "output_type": "stream",
     "text": [
      "\n",
      "\n",
      "=============================================================================================================================\n",
      "=============================================================================================================================\n",
      "\n"
     ]
    },
    {
     "name": "stderr",
     "output_type": "stream",
     "text": [
      "[Succeeded / Failed / Skipped / Total] 123 / 191 / 136 / 450:  90%|████████████████▏ | 450/500 [05:21<00:35,  1.40it/s]textattack: Saving checkpoint under \"checkpoints\\1720262684818.ta.chkpt\" at 2024-07-06 18:44:44 after 450 attacks.\n",
      "[Succeeded / Failed / Skipped / Total] 123 / 191 / 137 / 451:  90%|████████████████▏ | 451/500 [05:21<00:34,  1.40it/s]"
     ]
    },
    {
     "name": "stdout",
     "output_type": "stream",
     "text": [
      "\n",
      "\n",
      "=============================================================================================================================\n",
      "=============================================================================================================================\n",
      "\n"
     ]
    },
    {
     "name": "stderr",
     "output_type": "stream",
     "text": [
      "[Succeeded / Failed / Skipped / Total] 124 / 193 / 138 / 455:  91%|████████████████▍ | 455/500 [05:24<00:32,  1.40it/s]textattack: Saving checkpoint under \"checkpoints\\1720262688229.ta.chkpt\" at 2024-07-06 18:44:48 after 455 attacks.\n"
     ]
    },
    {
     "name": "stdout",
     "output_type": "stream",
     "text": [
      "\n",
      "\n",
      "=============================================================================================================================\n",
      "=============================================================================================================================\n",
      "\n"
     ]
    },
    {
     "name": "stderr",
     "output_type": "stream",
     "text": [
      "[Succeeded / Failed / Skipped / Total] 126 / 195 / 139 / 460:  92%|████████████████▌ | 460/500 [05:31<00:28,  1.39it/s]textattack: Saving checkpoint under \"checkpoints\\1720262694604.ta.chkpt\" at 2024-07-06 18:44:54 after 460 attacks.\n"
     ]
    },
    {
     "name": "stdout",
     "output_type": "stream",
     "text": [
      "\n",
      "\n",
      "=============================================================================================================================\n",
      "=============================================================================================================================\n",
      "\n"
     ]
    },
    {
     "name": "stderr",
     "output_type": "stream",
     "text": [
      "[Succeeded / Failed / Skipped / Total] 129 / 196 / 140 / 465:  93%|████████████████▋ | 465/500 [05:34<00:25,  1.39it/s]textattack: Saving checkpoint under \"checkpoints\\1720262698198.ta.chkpt\" at 2024-07-06 18:44:58 after 465 attacks.\n"
     ]
    },
    {
     "name": "stdout",
     "output_type": "stream",
     "text": [
      "\n",
      "\n",
      "=============================================================================================================================\n",
      "=============================================================================================================================\n",
      "\n"
     ]
    },
    {
     "name": "stderr",
     "output_type": "stream",
     "text": [
      "[Succeeded / Failed / Skipped / Total] 132 / 197 / 141 / 470:  94%|████████████████▉ | 470/500 [05:37<00:21,  1.39it/s]textattack: Saving checkpoint under \"checkpoints\\1720262700745.ta.chkpt\" at 2024-07-06 18:45:00 after 470 attacks.\n"
     ]
    },
    {
     "name": "stdout",
     "output_type": "stream",
     "text": [
      "\n",
      "\n",
      "=============================================================================================================================\n",
      "=============================================================================================================================\n",
      "\n"
     ]
    },
    {
     "name": "stderr",
     "output_type": "stream",
     "text": [
      "[Succeeded / Failed / Skipped / Total] 133 / 200 / 142 / 475:  95%|█████████████████ | 475/500 [05:42<00:18,  1.39it/s]textattack: Saving checkpoint under \"checkpoints\\1720262705808.ta.chkpt\" at 2024-07-06 18:45:05 after 475 attacks.\n"
     ]
    },
    {
     "name": "stdout",
     "output_type": "stream",
     "text": [
      "\n",
      "\n",
      "=============================================================================================================================\n",
      "=============================================================================================================================\n",
      "\n"
     ]
    },
    {
     "name": "stderr",
     "output_type": "stream",
     "text": [
      "[Succeeded / Failed / Skipped / Total] 135 / 202 / 143 / 480:  96%|█████████████████▎| 480/500 [05:46<00:14,  1.38it/s]textattack: Saving checkpoint under \"checkpoints\\1720262709981.ta.chkpt\" at 2024-07-06 18:45:09 after 480 attacks.\n"
     ]
    },
    {
     "name": "stdout",
     "output_type": "stream",
     "text": [
      "\n",
      "\n",
      "=============================================================================================================================\n",
      "=============================================================================================================================\n",
      "\n"
     ]
    },
    {
     "name": "stderr",
     "output_type": "stream",
     "text": [
      "[Succeeded / Failed / Skipped / Total] 135 / 206 / 144 / 485:  97%|█████████████████▍| 485/500 [05:51<00:10,  1.38it/s]textattack: Saving checkpoint under \"checkpoints\\1720262714434.ta.chkpt\" at 2024-07-06 18:45:14 after 485 attacks.\n"
     ]
    },
    {
     "name": "stdout",
     "output_type": "stream",
     "text": [
      "\n",
      "\n",
      "=============================================================================================================================\n",
      "=============================================================================================================================\n",
      "\n"
     ]
    },
    {
     "name": "stderr",
     "output_type": "stream",
     "text": [
      "[Succeeded / Failed / Skipped / Total] 137 / 208 / 145 / 490:  98%|█████████████████▋| 490/500 [05:55<00:07,  1.38it/s]textattack: Saving checkpoint under \"checkpoints\\1720262718387.ta.chkpt\" at 2024-07-06 18:45:18 after 490 attacks.\n",
      "[Succeeded / Failed / Skipped / Total] 137 / 208 / 146 / 491:  98%|█████████████████▋| 491/500 [05:55<00:06,  1.38it/s]"
     ]
    },
    {
     "name": "stdout",
     "output_type": "stream",
     "text": [
      "\n",
      "\n",
      "=============================================================================================================================\n",
      "=============================================================================================================================\n",
      "\n"
     ]
    },
    {
     "name": "stderr",
     "output_type": "stream",
     "text": [
      "[Succeeded / Failed / Skipped / Total] 137 / 210 / 148 / 495:  99%|█████████████████▊| 495/500 [05:58<00:03,  1.38it/s]textattack: Saving checkpoint under \"checkpoints\\1720262721419.ta.chkpt\" at 2024-07-06 18:45:21 after 495 attacks.\n",
      "[Succeeded / Failed / Skipped / Total] 137 / 210 / 149 / 496:  99%|█████████████████▊| 496/500 [05:58<00:02,  1.38it/s]"
     ]
    },
    {
     "name": "stdout",
     "output_type": "stream",
     "text": [
      "\n",
      "\n",
      "=============================================================================================================================\n",
      "=============================================================================================================================\n",
      "\n"
     ]
    },
    {
     "name": "stderr",
     "output_type": "stream",
     "text": [
      "[Succeeded / Failed / Skipped / Total] 138 / 213 / 149 / 500: 100%|██████████████████| 500/500 [06:01<00:00,  1.38it/s]textattack: Saving checkpoint under \"checkpoints\\1720262724825.ta.chkpt\" at 2024-07-06 18:45:24 after 500 attacks.\n",
      "[Succeeded / Failed / Skipped / Total] 138 / 213 / 149 / 500: 100%|██████████████████| 500/500 [06:01<00:00,  1.38it/s]"
     ]
    },
    {
     "name": "stdout",
     "output_type": "stream",
     "text": [
      "\n",
      "\n",
      "=============================================================================================================================\n",
      "=============================================================================================================================\n",
      "\n",
      "\n",
      "+-------------------------------+--------+\n",
      "| Attack Results                |        |\n",
      "+-------------------------------+--------+\n",
      "| Number of successful attacks: | 138    |\n",
      "| Number of failed attacks:     | 213    |\n",
      "| Number of skipped attacks:    | 149    |\n",
      "| Original accuracy:            | 70.2%  |\n",
      "| Accuracy under attack:        | 42.6%  |\n",
      "| Attack success rate:          | 39.32% |\n",
      "| Average perturbed word %:     | 12.6%  |\n",
      "| Average num. words per input: | 18.4   |\n",
      "| Avg num queries:              | 21.64  |\n",
      "+-------------------------------+--------+\n"
     ]
    },
    {
     "name": "stderr",
     "output_type": "stream",
     "text": [
      "\n"
     ]
    }
   ],
   "source": [
    "runAttack(clip_model_wrapper_rf_mr, n_samples, 'attack_results_new/clipmrattackrf'+suffix, target_ds_mr)"
   ]
  },
  {
   "cell_type": "code",
   "execution_count": 30,
   "id": "e504697f-f05b-42bc-a947-145973d676e3",
   "metadata": {},
   "outputs": [
    {
     "name": "stderr",
     "output_type": "stream",
     "text": [
      "textattack: Unknown if model of class <class 'transformers.models.clip.modeling_clip.CLIPTextTransformer'> compatible with goal function <class 'textattack.goal_functions.classification.untargeted_classification.UntargetedClassification'>.\n",
      "textattack: Logging to CSV at path attack_results_new/clipmrattackknnsim09.csv\n"
     ]
    },
    {
     "name": "stdout",
     "output_type": "stream",
     "text": [
      "Attack(\n",
      "  (search_method): GreedyWordSwapWIR(\n",
      "    (wir_method):  delete\n",
      "  )\n",
      "  (goal_function):  UntargetedClassification\n",
      "  (transformation):  WordSwapEmbedding(\n",
      "    (max_candidates):  50\n",
      "    (embedding):  WordEmbedding\n",
      "  )\n",
      "  (constraints): \n",
      "    (0): WordEmbeddingDistance(\n",
      "        (embedding):  WordEmbedding\n",
      "        (min_cos_sim):  0.9\n",
      "        (cased):  False\n",
      "        (include_unknown_words):  True\n",
      "        (compare_against_original):  True\n",
      "      )\n",
      "    (1): PartOfSpeech(\n",
      "        (tagger_type):  nltk\n",
      "        (tagset):  universal\n",
      "        (allow_verb_noun_swap):  True\n",
      "        (compare_against_original):  True\n",
      "      )\n",
      "    (2): UniversalSentenceEncoder(\n",
      "        (metric):  angular\n",
      "        (threshold):  0.840845057\n",
      "        (window_size):  15\n",
      "        (skip_text_shorter_than_window):  True\n",
      "        (compare_against_original):  False\n",
      "      )\n",
      "    (3): RepeatModification\n",
      "    (4): StopwordModification\n",
      "    (5): InputColumnModification(\n",
      "        (matching_column_labels):  ['premise', 'hypothesis']\n",
      "        (columns_to_ignore):  {'premise'}\n",
      "      )\n",
      "  (is_black_box):  True\n",
      ") \n",
      "\n"
     ]
    },
    {
     "name": "stderr",
     "output_type": "stream",
     "text": [
      "[Succeeded / Failed / Skipped / Total] 2 / 3 / 0 / 5:   1%|▎                           | 5/500 [00:10<16:37,  2.02s/it]textattack: Saving checkpoint under \"checkpoints\\1720262735026.ta.chkpt\" at 2024-07-06 18:45:35 after 5 attacks.\n"
     ]
    },
    {
     "name": "stdout",
     "output_type": "stream",
     "text": [
      "\n",
      "\n",
      "=============================================================================================================================\n",
      "=============================================================================================================================\n",
      "\n"
     ]
    },
    {
     "name": "stderr",
     "output_type": "stream",
     "text": [
      "[Succeeded / Failed / Skipped / Total] 3 / 5 / 2 / 10:   2%|▌                         | 10/500 [00:14<11:30,  1.41s/it]textattack: Saving checkpoint under \"checkpoints\\1720262739042.ta.chkpt\" at 2024-07-06 18:45:39 after 10 attacks.\n"
     ]
    },
    {
     "name": "stdout",
     "output_type": "stream",
     "text": [
      "\n",
      "\n",
      "=============================================================================================================================\n",
      "=============================================================================================================================\n",
      "\n"
     ]
    },
    {
     "name": "stderr",
     "output_type": "stream",
     "text": [
      "[Succeeded / Failed / Skipped / Total] 4 / 8 / 3 / 15:   3%|▊                         | 15/500 [00:18<10:05,  1.25s/it]textattack: Saving checkpoint under \"checkpoints\\1720262743667.ta.chkpt\" at 2024-07-06 18:45:43 after 15 attacks.\n"
     ]
    },
    {
     "name": "stdout",
     "output_type": "stream",
     "text": [
      "\n",
      "\n",
      "=============================================================================================================================\n",
      "=============================================================================================================================\n",
      "\n"
     ]
    },
    {
     "name": "stderr",
     "output_type": "stream",
     "text": [
      "[Succeeded / Failed / Skipped / Total] 6 / 10 / 4 / 20:   4%|█                        | 20/500 [00:20<08:10,  1.02s/it]textattack: Saving checkpoint under \"checkpoints\\1720262745402.ta.chkpt\" at 2024-07-06 18:45:45 after 20 attacks.\n"
     ]
    },
    {
     "name": "stdout",
     "output_type": "stream",
     "text": [
      "\n",
      "\n",
      "=============================================================================================================================\n",
      "=============================================================================================================================\n",
      "\n"
     ]
    },
    {
     "name": "stderr",
     "output_type": "stream",
     "text": [
      "[Succeeded / Failed / Skipped / Total] 7 / 11 / 7 / 25:   5%|█▎                       | 25/500 [00:23<07:28,  1.06it/s]textattack: Saving checkpoint under \"checkpoints\\1720262748574.ta.chkpt\" at 2024-07-06 18:45:48 after 25 attacks.\n"
     ]
    },
    {
     "name": "stdout",
     "output_type": "stream",
     "text": [
      "\n",
      "\n",
      "=============================================================================================================================\n",
      "=============================================================================================================================\n",
      "\n"
     ]
    },
    {
     "name": "stderr",
     "output_type": "stream",
     "text": [
      "[Succeeded / Failed / Skipped / Total] 8 / 12 / 10 / 30:   6%|█▍                      | 30/500 [00:26<06:48,  1.15it/s]textattack: Saving checkpoint under \"checkpoints\\1720262750996.ta.chkpt\" at 2024-07-06 18:45:50 after 30 attacks.\n",
      "[Succeeded / Failed / Skipped / Total] 8 / 12 / 11 / 31:   6%|█▍                      | 31/500 [00:26<06:35,  1.19it/s]"
     ]
    },
    {
     "name": "stdout",
     "output_type": "stream",
     "text": [
      "\n",
      "\n",
      "=============================================================================================================================\n",
      "=============================================================================================================================\n",
      "\n"
     ]
    },
    {
     "name": "stderr",
     "output_type": "stream",
     "text": [
      "[Succeeded / Failed / Skipped / Total] 9 / 14 / 12 / 35:   7%|█▋                      | 35/500 [00:28<06:22,  1.22it/s]textattack: Saving checkpoint under \"checkpoints\\1720262753746.ta.chkpt\" at 2024-07-06 18:45:53 after 35 attacks.\n",
      "[Succeeded / Failed / Skipped / Total] 9 / 14 / 13 / 36:   7%|█▋                      | 36/500 [00:28<06:12,  1.25it/s]"
     ]
    },
    {
     "name": "stdout",
     "output_type": "stream",
     "text": [
      "\n",
      "\n",
      "=============================================================================================================================\n",
      "=============================================================================================================================\n",
      "\n"
     ]
    },
    {
     "name": "stderr",
     "output_type": "stream",
     "text": [
      "[Succeeded / Failed / Skipped / Total] 10 / 14 / 16 / 40:   8%|█▊                     | 40/500 [00:29<05:44,  1.34it/s]textattack: Saving checkpoint under \"checkpoints\\1720262754887.ta.chkpt\" at 2024-07-06 18:45:54 after 40 attacks.\n"
     ]
    },
    {
     "name": "stdout",
     "output_type": "stream",
     "text": [
      "\n",
      "\n",
      "=============================================================================================================================\n",
      "=============================================================================================================================\n",
      "\n"
     ]
    },
    {
     "name": "stderr",
     "output_type": "stream",
     "text": [
      "[Succeeded / Failed / Skipped / Total] 13 / 15 / 17 / 45:   9%|██                     | 45/500 [00:36<06:07,  1.24it/s]textattack: Saving checkpoint under \"checkpoints\\1720262761262.ta.chkpt\" at 2024-07-06 18:46:01 after 45 attacks.\n"
     ]
    },
    {
     "name": "stdout",
     "output_type": "stream",
     "text": [
      "\n",
      "\n",
      "=============================================================================================================================\n",
      "=============================================================================================================================\n",
      "\n"
     ]
    },
    {
     "name": "stderr",
     "output_type": "stream",
     "text": [
      "[Succeeded / Failed / Skipped / Total] 16 / 16 / 18 / 50:  10%|██▎                    | 50/500 [00:38<05:49,  1.29it/s]textattack: Saving checkpoint under \"checkpoints\\1720262763825.ta.chkpt\" at 2024-07-06 18:46:03 after 50 attacks.\n",
      "[Succeeded / Failed / Skipped / Total] 16 / 16 / 19 / 51:  10%|██▎                    | 51/500 [00:39<05:43,  1.31it/s]"
     ]
    },
    {
     "name": "stdout",
     "output_type": "stream",
     "text": [
      "\n",
      "\n",
      "=============================================================================================================================\n",
      "=============================================================================================================================\n",
      "\n"
     ]
    },
    {
     "name": "stderr",
     "output_type": "stream",
     "text": [
      "[Succeeded / Failed / Skipped / Total] 18 / 17 / 20 / 55:  11%|██▌                    | 55/500 [00:41<05:36,  1.32it/s]textattack: Saving checkpoint under \"checkpoints\\1720262766591.ta.chkpt\" at 2024-07-06 18:46:06 after 55 attacks.\n"
     ]
    },
    {
     "name": "stdout",
     "output_type": "stream",
     "text": [
      "\n",
      "\n",
      "=============================================================================================================================\n",
      "=============================================================================================================================\n",
      "\n"
     ]
    },
    {
     "name": "stderr",
     "output_type": "stream",
     "text": [
      "[Succeeded / Failed / Skipped / Total] 19 / 21 / 20 / 60:  12%|██▊                    | 60/500 [00:46<05:37,  1.30it/s]textattack: Saving checkpoint under \"checkpoints\\1720262770966.ta.chkpt\" at 2024-07-06 18:46:10 after 60 attacks.\n",
      "[Succeeded / Failed / Skipped / Total] 19 / 21 / 21 / 61:  12%|██▊                    | 61/500 [00:46<05:31,  1.32it/s]"
     ]
    },
    {
     "name": "stdout",
     "output_type": "stream",
     "text": [
      "\n",
      "\n",
      "=============================================================================================================================\n",
      "=============================================================================================================================\n",
      "\n"
     ]
    },
    {
     "name": "stderr",
     "output_type": "stream",
     "text": [
      "[Succeeded / Failed / Skipped / Total] 20 / 24 / 21 / 65:  13%|██▉                    | 65/500 [00:50<05:34,  1.30it/s]textattack: Saving checkpoint under \"checkpoints\\1720262774951.ta.chkpt\" at 2024-07-06 18:46:14 after 65 attacks.\n"
     ]
    },
    {
     "name": "stdout",
     "output_type": "stream",
     "text": [
      "\n",
      "\n",
      "=============================================================================================================================\n",
      "=============================================================================================================================\n",
      "\n"
     ]
    },
    {
     "name": "stderr",
     "output_type": "stream",
     "text": [
      "[Succeeded / Failed / Skipped / Total] 21 / 28 / 21 / 70:  14%|███▏                   | 70/500 [00:56<05:44,  1.25it/s]textattack: Saving checkpoint under \"checkpoints\\1720262780967.ta.chkpt\" at 2024-07-06 18:46:20 after 70 attacks.\n",
      "[Succeeded / Failed / Skipped / Total] 21 / 28 / 22 / 71:  14%|███▎                   | 71/500 [00:56<05:39,  1.27it/s]"
     ]
    },
    {
     "name": "stdout",
     "output_type": "stream",
     "text": [
      "\n",
      "\n",
      "=============================================================================================================================\n",
      "=============================================================================================================================\n",
      "\n"
     ]
    },
    {
     "name": "stderr",
     "output_type": "stream",
     "text": [
      "[Succeeded / Failed / Skipped / Total] 24 / 28 / 23 / 75:  15%|███▍                   | 75/500 [00:58<05:32,  1.28it/s]textattack: Saving checkpoint under \"checkpoints\\1720262783576.ta.chkpt\" at 2024-07-06 18:46:23 after 75 attacks.\n",
      "[Succeeded / Failed / Skipped / Total] 24 / 28 / 24 / 76:  15%|███▍                   | 76/500 [00:58<05:27,  1.29it/s]"
     ]
    },
    {
     "name": "stdout",
     "output_type": "stream",
     "text": [
      "\n",
      "\n",
      "=============================================================================================================================\n",
      "=============================================================================================================================\n",
      "\n"
     ]
    },
    {
     "name": "stderr",
     "output_type": "stream",
     "text": [
      "[Succeeded / Failed / Skipped / Total] 26 / 30 / 24 / 80:  16%|███▋                   | 80/500 [01:02<05:26,  1.29it/s]textattack: Saving checkpoint under \"checkpoints\\1720262787139.ta.chkpt\" at 2024-07-06 18:46:27 after 80 attacks.\n",
      "[Succeeded / Failed / Skipped / Total] 26 / 30 / 25 / 81:  16%|███▊                   | 82/500 [01:02<05:17,  1.31it/s]"
     ]
    },
    {
     "name": "stdout",
     "output_type": "stream",
     "text": [
      "\n",
      "\n",
      "=============================================================================================================================\n",
      "=============================================================================================================================\n",
      "\n"
     ]
    },
    {
     "name": "stderr",
     "output_type": "stream",
     "text": [
      "[Succeeded / Failed / Skipped / Total] 26 / 32 / 27 / 85:  17%|███▉                   | 85/500 [01:03<05:10,  1.33it/s]textattack: Saving checkpoint under \"checkpoints\\1720262788623.ta.chkpt\" at 2024-07-06 18:46:28 after 85 attacks.\n",
      "[Succeeded / Failed / Skipped / Total] 26 / 32 / 28 / 86:  17%|███▉                   | 86/500 [01:03<05:07,  1.35it/s]"
     ]
    },
    {
     "name": "stdout",
     "output_type": "stream",
     "text": [
      "\n",
      "\n",
      "=============================================================================================================================\n",
      "=============================================================================================================================\n",
      "\n"
     ]
    },
    {
     "name": "stderr",
     "output_type": "stream",
     "text": [
      "[Succeeded / Failed / Skipped / Total] 27 / 33 / 30 / 90:  18%|████▏                  | 90/500 [01:06<05:02,  1.35it/s]textattack: Saving checkpoint under \"checkpoints\\1720262791374.ta.chkpt\" at 2024-07-06 18:46:31 after 90 attacks.\n",
      "[Succeeded / Failed / Skipped / Total] 27 / 33 / 31 / 91:  18%|████▏                  | 91/500 [01:06<04:58,  1.37it/s]"
     ]
    },
    {
     "name": "stdout",
     "output_type": "stream",
     "text": [
      "\n",
      "\n",
      "=============================================================================================================================\n",
      "=============================================================================================================================\n",
      "\n"
     ]
    },
    {
     "name": "stderr",
     "output_type": "stream",
     "text": [
      "[Succeeded / Failed / Skipped / Total] 31 / 33 / 31 / 95:  19%|████▎                  | 95/500 [01:09<04:57,  1.36it/s]textattack: Saving checkpoint under \"checkpoints\\1720262794624.ta.chkpt\" at 2024-07-06 18:46:34 after 95 attacks.\n"
     ]
    },
    {
     "name": "stdout",
     "output_type": "stream",
     "text": [
      "\n",
      "\n",
      "=============================================================================================================================\n",
      "=============================================================================================================================\n",
      "\n"
     ]
    },
    {
     "name": "stderr",
     "output_type": "stream",
     "text": [
      "[Succeeded / Failed / Skipped / Total] 35 / 34 / 31 / 100:  20%|████▏                | 100/500 [01:12<04:48,  1.39it/s]textattack: Saving checkpoint under \"checkpoints\\1720262796968.ta.chkpt\" at 2024-07-06 18:46:36 after 100 attacks.\n"
     ]
    },
    {
     "name": "stdout",
     "output_type": "stream",
     "text": [
      "\n",
      "\n",
      "=============================================================================================================================\n",
      "=============================================================================================================================\n",
      "\n"
     ]
    },
    {
     "name": "stderr",
     "output_type": "stream",
     "text": [
      "[Succeeded / Failed / Skipped / Total] 38 / 35 / 32 / 105:  21%|████▍                | 105/500 [01:18<04:56,  1.33it/s]textattack: Saving checkpoint under \"checkpoints\\1720262803890.ta.chkpt\" at 2024-07-06 18:46:43 after 105 attacks.\n",
      "[Succeeded / Failed / Skipped / Total] 38 / 35 / 33 / 106:  21%|████▍                | 106/500 [01:19<04:53,  1.34it/s]"
     ]
    },
    {
     "name": "stdout",
     "output_type": "stream",
     "text": [
      "\n",
      "\n",
      "=============================================================================================================================\n",
      "=============================================================================================================================\n",
      "\n"
     ]
    },
    {
     "name": "stderr",
     "output_type": "stream",
     "text": [
      "[Succeeded / Failed / Skipped / Total] 38 / 36 / 36 / 110:  22%|████▌                | 110/500 [01:20<04:44,  1.37it/s]textattack: Saving checkpoint under \"checkpoints\\1720262805316.ta.chkpt\" at 2024-07-06 18:46:45 after 110 attacks.\n",
      "[Succeeded / Failed / Skipped / Total] 38 / 36 / 37 / 111:  22%|████▋                | 111/500 [01:20<04:42,  1.38it/s]"
     ]
    },
    {
     "name": "stdout",
     "output_type": "stream",
     "text": [
      "\n",
      "\n",
      "=============================================================================================================================\n",
      "=============================================================================================================================\n",
      "\n"
     ]
    },
    {
     "name": "stderr",
     "output_type": "stream",
     "text": [
      "[Succeeded / Failed / Skipped / Total] 40 / 37 / 38 / 115:  23%|████▊                | 115/500 [01:22<04:37,  1.39it/s]textattack: Saving checkpoint under \"checkpoints\\1720262807847.ta.chkpt\" at 2024-07-06 18:46:47 after 115 attacks.\n"
     ]
    },
    {
     "name": "stdout",
     "output_type": "stream",
     "text": [
      "\n",
      "\n",
      "=============================================================================================================================\n",
      "=============================================================================================================================\n",
      "\n"
     ]
    },
    {
     "name": "stderr",
     "output_type": "stream",
     "text": [
      "[Succeeded / Failed / Skipped / Total] 41 / 39 / 40 / 120:  24%|█████                | 120/500 [01:24<04:28,  1.42it/s]textattack: Saving checkpoint under \"checkpoints\\1720262809660.ta.chkpt\" at 2024-07-06 18:46:49 after 120 attacks.\n",
      "[Succeeded / Failed / Skipped / Total] 41 / 39 / 42 / 122:  24%|█████                | 122/500 [01:24<04:22,  1.44it/s]"
     ]
    },
    {
     "name": "stdout",
     "output_type": "stream",
     "text": [
      "\n",
      "\n",
      "=============================================================================================================================\n",
      "=============================================================================================================================\n",
      "\n"
     ]
    },
    {
     "name": "stderr",
     "output_type": "stream",
     "text": [
      "[Succeeded / Failed / Skipped / Total] 42 / 40 / 43 / 125:  25%|█████▎               | 125/500 [01:26<04:18,  1.45it/s]textattack: Saving checkpoint under \"checkpoints\\1720262811098.ta.chkpt\" at 2024-07-06 18:46:51 after 125 attacks.\n"
     ]
    },
    {
     "name": "stdout",
     "output_type": "stream",
     "text": [
      "\n",
      "\n",
      "=============================================================================================================================\n",
      "=============================================================================================================================\n",
      "\n"
     ]
    },
    {
     "name": "stderr",
     "output_type": "stream",
     "text": [
      "[Succeeded / Failed / Skipped / Total] 46 / 40 / 44 / 130:  26%|█████▍               | 130/500 [01:28<04:12,  1.46it/s]textattack: Saving checkpoint under \"checkpoints\\1720262813785.ta.chkpt\" at 2024-07-06 18:46:53 after 130 attacks.\n",
      "[Succeeded / Failed / Skipped / Total] 46 / 40 / 45 / 131:  26%|█████▌               | 131/500 [01:28<04:10,  1.47it/s]"
     ]
    },
    {
     "name": "stdout",
     "output_type": "stream",
     "text": [
      "\n",
      "\n",
      "=============================================================================================================================\n",
      "=============================================================================================================================\n",
      "\n"
     ]
    },
    {
     "name": "stderr",
     "output_type": "stream",
     "text": [
      "[Succeeded / Failed / Skipped / Total] 46 / 43 / 46 / 135:  27%|█████▋               | 135/500 [01:35<04:17,  1.42it/s]textattack: Saving checkpoint under \"checkpoints\\1720262820192.ta.chkpt\" at 2024-07-06 18:47:00 after 135 attacks.\n"
     ]
    },
    {
     "name": "stdout",
     "output_type": "stream",
     "text": [
      "\n",
      "\n",
      "=============================================================================================================================\n",
      "=============================================================================================================================\n",
      "\n"
     ]
    },
    {
     "name": "stderr",
     "output_type": "stream",
     "text": [
      "[Succeeded / Failed / Skipped / Total] 47 / 44 / 49 / 140:  28%|█████▉               | 140/500 [01:38<04:13,  1.42it/s]textattack: Saving checkpoint under \"checkpoints\\1720262823630.ta.chkpt\" at 2024-07-06 18:47:03 after 140 attacks.\n",
      "[Succeeded / Failed / Skipped / Total] 47 / 44 / 51 / 142:  28%|█████▉               | 142/500 [01:38<04:09,  1.44it/s]"
     ]
    },
    {
     "name": "stdout",
     "output_type": "stream",
     "text": [
      "\n",
      "\n",
      "=============================================================================================================================\n",
      "=============================================================================================================================\n",
      "\n"
     ]
    },
    {
     "name": "stderr",
     "output_type": "stream",
     "text": [
      "[Succeeded / Failed / Skipped / Total] 48 / 44 / 53 / 145:  29%|██████               | 145/500 [01:39<04:03,  1.46it/s]textattack: Saving checkpoint under \"checkpoints\\1720262824270.ta.chkpt\" at 2024-07-06 18:47:04 after 145 attacks.\n",
      "[Succeeded / Failed / Skipped / Total] 48 / 44 / 54 / 146:  29%|██████▏              | 146/500 [01:39<04:00,  1.47it/s]"
     ]
    },
    {
     "name": "stdout",
     "output_type": "stream",
     "text": [
      "\n",
      "\n",
      "=============================================================================================================================\n",
      "=============================================================================================================================\n",
      "\n"
     ]
    },
    {
     "name": "stderr",
     "output_type": "stream",
     "text": [
      "[Succeeded / Failed / Skipped / Total] 50 / 45 / 55 / 150:  30%|██████▎              | 150/500 [01:41<03:55,  1.48it/s]textattack: Saving checkpoint under \"checkpoints\\1720262826036.ta.chkpt\" at 2024-07-06 18:47:06 after 150 attacks.\n"
     ]
    },
    {
     "name": "stdout",
     "output_type": "stream",
     "text": [
      "\n",
      "\n",
      "=============================================================================================================================\n",
      "=============================================================================================================================\n",
      "\n"
     ]
    },
    {
     "name": "stderr",
     "output_type": "stream",
     "text": [
      "[Succeeded / Failed / Skipped / Total] 53 / 47 / 55 / 155:  31%|██████▌              | 155/500 [01:45<03:53,  1.47it/s]textattack: Saving checkpoint under \"checkpoints\\1720262830036.ta.chkpt\" at 2024-07-06 18:47:10 after 155 attacks.\n"
     ]
    },
    {
     "name": "stdout",
     "output_type": "stream",
     "text": [
      "\n",
      "\n",
      "=============================================================================================================================\n",
      "=============================================================================================================================\n",
      "\n"
     ]
    },
    {
     "name": "stderr",
     "output_type": "stream",
     "text": [
      "[Succeeded / Failed / Skipped / Total] 54 / 48 / 58 / 160:  32%|██████▋              | 160/500 [01:48<03:50,  1.47it/s]textattack: Saving checkpoint under \"checkpoints\\1720262833630.ta.chkpt\" at 2024-07-06 18:47:13 after 160 attacks.\n",
      "[Succeeded / Failed / Skipped / Total] 54 / 48 / 59 / 161:  32%|██████▊              | 161/500 [01:48<03:49,  1.48it/s]"
     ]
    },
    {
     "name": "stdout",
     "output_type": "stream",
     "text": [
      "\n",
      "\n",
      "=============================================================================================================================\n",
      "=============================================================================================================================\n",
      "\n"
     ]
    },
    {
     "name": "stderr",
     "output_type": "stream",
     "text": [
      "[Succeeded / Failed / Skipped / Total] 55 / 50 / 60 / 165:  33%|██████▉              | 165/500 [01:51<03:46,  1.48it/s]textattack: Saving checkpoint under \"checkpoints\\1720262836302.ta.chkpt\" at 2024-07-06 18:47:16 after 165 attacks.\n"
     ]
    },
    {
     "name": "stdout",
     "output_type": "stream",
     "text": [
      "\n",
      "\n",
      "=============================================================================================================================\n",
      "=============================================================================================================================\n",
      "\n"
     ]
    },
    {
     "name": "stderr",
     "output_type": "stream",
     "text": [
      "[Succeeded / Failed / Skipped / Total] 56 / 52 / 62 / 170:  34%|███████▏             | 170/500 [01:55<03:43,  1.48it/s]textattack: Saving checkpoint under \"checkpoints\\1720262840068.ta.chkpt\" at 2024-07-06 18:47:20 after 170 attacks.\n"
     ]
    },
    {
     "name": "stdout",
     "output_type": "stream",
     "text": [
      "\n",
      "\n",
      "=============================================================================================================================\n",
      "=============================================================================================================================\n",
      "\n"
     ]
    },
    {
     "name": "stderr",
     "output_type": "stream",
     "text": [
      "[Succeeded / Failed / Skipped / Total] 57 / 55 / 63 / 175:  35%|███████▎             | 175/500 [02:01<03:45,  1.44it/s]textattack: Saving checkpoint under \"checkpoints\\1720262846600.ta.chkpt\" at 2024-07-06 18:47:26 after 175 attacks.\n",
      "[Succeeded / Failed / Skipped / Total] 57 / 55 / 64 / 176:  35%|███████▍             | 176/500 [02:01<03:44,  1.45it/s]"
     ]
    },
    {
     "name": "stdout",
     "output_type": "stream",
     "text": [
      "\n",
      "\n",
      "=============================================================================================================================\n",
      "=============================================================================================================================\n",
      "\n"
     ]
    },
    {
     "name": "stderr",
     "output_type": "stream",
     "text": [
      "[Succeeded / Failed / Skipped / Total] 57 / 58 / 65 / 180:  36%|███████▌             | 180/500 [02:04<03:41,  1.45it/s]textattack: Saving checkpoint under \"checkpoints\\1720262849413.ta.chkpt\" at 2024-07-06 18:47:29 after 180 attacks.\n"
     ]
    },
    {
     "name": "stdout",
     "output_type": "stream",
     "text": [
      "\n",
      "\n",
      "=============================================================================================================================\n",
      "=============================================================================================================================\n",
      "\n"
     ]
    },
    {
     "name": "stderr",
     "output_type": "stream",
     "text": [
      "[Succeeded / Failed / Skipped / Total] 61 / 59 / 65 / 185:  37%|███████▊             | 185/500 [02:07<03:37,  1.45it/s]textattack: Saving checkpoint under \"checkpoints\\1720262852897.ta.chkpt\" at 2024-07-06 18:47:32 after 185 attacks.\n",
      "[Succeeded / Failed / Skipped / Total] 61 / 59 / 66 / 186:  37%|███████▊             | 186/500 [02:08<03:36,  1.45it/s]"
     ]
    },
    {
     "name": "stdout",
     "output_type": "stream",
     "text": [
      "\n",
      "\n",
      "=============================================================================================================================\n",
      "=============================================================================================================================\n",
      "\n"
     ]
    },
    {
     "name": "stderr",
     "output_type": "stream",
     "text": [
      "[Succeeded / Failed / Skipped / Total] 62 / 61 / 67 / 190:  38%|███████▉             | 190/500 [02:12<03:36,  1.43it/s]textattack: Saving checkpoint under \"checkpoints\\1720262857413.ta.chkpt\" at 2024-07-06 18:47:37 after 190 attacks.\n"
     ]
    },
    {
     "name": "stdout",
     "output_type": "stream",
     "text": [
      "\n",
      "\n",
      "=============================================================================================================================\n",
      "=============================================================================================================================\n",
      "\n"
     ]
    },
    {
     "name": "stderr",
     "output_type": "stream",
     "text": [
      "[Succeeded / Failed / Skipped / Total] 63 / 63 / 69 / 195:  39%|████████▏            | 195/500 [02:16<03:32,  1.43it/s]textattack: Saving checkpoint under \"checkpoints\\1720262861070.ta.chkpt\" at 2024-07-06 18:47:41 after 195 attacks.\n"
     ]
    },
    {
     "name": "stdout",
     "output_type": "stream",
     "text": [
      "\n",
      "\n",
      "=============================================================================================================================\n",
      "=============================================================================================================================\n",
      "\n"
     ]
    },
    {
     "name": "stderr",
     "output_type": "stream",
     "text": [
      "[Succeeded / Failed / Skipped / Total] 65 / 65 / 70 / 200:  40%|████████▍            | 200/500 [02:22<03:33,  1.41it/s]textattack: Saving checkpoint under \"checkpoints\\1720262867258.ta.chkpt\" at 2024-07-06 18:47:47 after 200 attacks.\n",
      "[Succeeded / Failed / Skipped / Total] 65 / 65 / 71 / 201:  40%|████████▍            | 201/500 [02:22<03:31,  1.41it/s]"
     ]
    },
    {
     "name": "stdout",
     "output_type": "stream",
     "text": [
      "\n",
      "\n",
      "=============================================================================================================================\n",
      "=============================================================================================================================\n",
      "\n"
     ]
    },
    {
     "name": "stderr",
     "output_type": "stream",
     "text": [
      "[Succeeded / Failed / Skipped / Total] 65 / 67 / 73 / 205:  41%|████████▌            | 205/500 [02:24<03:27,  1.42it/s]textattack: Saving checkpoint under \"checkpoints\\1720262869101.ta.chkpt\" at 2024-07-06 18:47:49 after 205 attacks.\n"
     ]
    },
    {
     "name": "stdout",
     "output_type": "stream",
     "text": [
      "\n",
      "\n",
      "=============================================================================================================================\n",
      "=============================================================================================================================\n",
      "\n"
     ]
    },
    {
     "name": "stderr",
     "output_type": "stream",
     "text": [
      "[Succeeded / Failed / Skipped / Total] 69 / 67 / 74 / 210:  42%|████████▊            | 210/500 [02:26<03:22,  1.43it/s]textattack: Saving checkpoint under \"checkpoints\\1720262871758.ta.chkpt\" at 2024-07-06 18:47:51 after 210 attacks.\n"
     ]
    },
    {
     "name": "stdout",
     "output_type": "stream",
     "text": [
      "\n",
      "\n",
      "=============================================================================================================================\n",
      "=============================================================================================================================\n",
      "\n"
     ]
    },
    {
     "name": "stderr",
     "output_type": "stream",
     "text": [
      "[Succeeded / Failed / Skipped / Total] 72 / 68 / 75 / 215:  43%|█████████            | 215/500 [02:30<03:19,  1.43it/s]textattack: Saving checkpoint under \"checkpoints\\1720262875117.ta.chkpt\" at 2024-07-06 18:47:55 after 215 attacks.\n"
     ]
    },
    {
     "name": "stdout",
     "output_type": "stream",
     "text": [
      "\n",
      "\n",
      "=============================================================================================================================\n",
      "=============================================================================================================================\n",
      "\n"
     ]
    },
    {
     "name": "stderr",
     "output_type": "stream",
     "text": [
      "[Succeeded / Failed / Skipped / Total] 72 / 72 / 76 / 220:  44%|█████████▏           | 220/500 [02:33<03:15,  1.43it/s]textattack: Saving checkpoint under \"checkpoints\\1720262878462.ta.chkpt\" at 2024-07-06 18:47:58 after 220 attacks.\n"
     ]
    },
    {
     "name": "stdout",
     "output_type": "stream",
     "text": [
      "\n",
      "\n",
      "=============================================================================================================================\n",
      "=============================================================================================================================\n",
      "\n"
     ]
    },
    {
     "name": "stderr",
     "output_type": "stream",
     "text": [
      "[Succeeded / Failed / Skipped / Total] 73 / 75 / 77 / 225:  45%|█████████▍           | 225/500 [02:39<03:15,  1.41it/s]textattack: Saving checkpoint under \"checkpoints\\1720262884681.ta.chkpt\" at 2024-07-06 18:48:04 after 225 attacks.\n"
     ]
    },
    {
     "name": "stdout",
     "output_type": "stream",
     "text": [
      "\n",
      "\n",
      "=============================================================================================================================\n",
      "=============================================================================================================================\n",
      "\n"
     ]
    },
    {
     "name": "stderr",
     "output_type": "stream",
     "text": [
      "[Succeeded / Failed / Skipped / Total] 75 / 76 / 79 / 230:  46%|█████████▋           | 230/500 [02:41<03:09,  1.42it/s]textattack: Saving checkpoint under \"checkpoints\\1720262886634.ta.chkpt\" at 2024-07-06 18:48:06 after 230 attacks.\n"
     ]
    },
    {
     "name": "stdout",
     "output_type": "stream",
     "text": [
      "\n",
      "\n",
      "=============================================================================================================================\n",
      "=============================================================================================================================\n",
      "\n"
     ]
    },
    {
     "name": "stderr",
     "output_type": "stream",
     "text": [
      "[Succeeded / Failed / Skipped / Total] 79 / 76 / 80 / 235:  47%|█████████▊           | 235/500 [02:45<03:06,  1.42it/s]textattack: Saving checkpoint under \"checkpoints\\1720262890697.ta.chkpt\" at 2024-07-06 18:48:10 after 235 attacks.\n"
     ]
    },
    {
     "name": "stdout",
     "output_type": "stream",
     "text": [
      "\n",
      "\n",
      "=============================================================================================================================\n",
      "=============================================================================================================================\n",
      "\n"
     ]
    },
    {
     "name": "stderr",
     "output_type": "stream",
     "text": [
      "[Succeeded / Failed / Skipped / Total] 80 / 80 / 80 / 240:  48%|██████████           | 240/500 [02:49<03:03,  1.42it/s]textattack: Saving checkpoint under \"checkpoints\\1720262894509.ta.chkpt\" at 2024-07-06 18:48:14 after 240 attacks.\n",
      "[Succeeded / Failed / Skipped / Total] 80 / 80 / 81 / 241:  48%|██████████           | 241/500 [02:49<03:02,  1.42it/s]"
     ]
    },
    {
     "name": "stdout",
     "output_type": "stream",
     "text": [
      "\n",
      "\n",
      "=============================================================================================================================\n",
      "=============================================================================================================================\n",
      "\n"
     ]
    },
    {
     "name": "stderr",
     "output_type": "stream",
     "text": [
      "[Succeeded / Failed / Skipped / Total] 82 / 81 / 82 / 245:  49%|██████████▎          | 245/500 [02:52<02:59,  1.42it/s]textattack: Saving checkpoint under \"checkpoints\\1720262897197.ta.chkpt\" at 2024-07-06 18:48:17 after 245 attacks.\n"
     ]
    },
    {
     "name": "stdout",
     "output_type": "stream",
     "text": [
      "\n",
      "\n",
      "=============================================================================================================================\n",
      "=============================================================================================================================\n",
      "\n"
     ]
    },
    {
     "name": "stderr",
     "output_type": "stream",
     "text": [
      "[Succeeded / Failed / Skipped / Total] 83 / 82 / 85 / 250:  50%|██████████▌          | 250/500 [02:53<02:53,  1.44it/s]textattack: Saving checkpoint under \"checkpoints\\1720262898713.ta.chkpt\" at 2024-07-06 18:48:18 after 250 attacks.\n",
      "[Succeeded / Failed / Skipped / Total] 83 / 82 / 86 / 251:  50%|██████████▌          | 251/500 [02:53<02:52,  1.44it/s]"
     ]
    },
    {
     "name": "stdout",
     "output_type": "stream",
     "text": [
      "\n",
      "\n",
      "=============================================================================================================================\n",
      "=============================================================================================================================\n",
      "\n"
     ]
    },
    {
     "name": "stderr",
     "output_type": "stream",
     "text": [
      "[Succeeded / Failed / Skipped / Total] 85 / 83 / 87 / 255:  51%|██████████▋          | 255/500 [02:56<02:49,  1.44it/s]textattack: Saving checkpoint under \"checkpoints\\1720262901588.ta.chkpt\" at 2024-07-06 18:48:21 after 255 attacks.\n",
      "[Succeeded / Failed / Skipped / Total] 85 / 83 / 88 / 256:  51%|██████████▊          | 256/500 [02:56<02:48,  1.45it/s]"
     ]
    },
    {
     "name": "stdout",
     "output_type": "stream",
     "text": [
      "\n",
      "\n",
      "=============================================================================================================================\n",
      "=============================================================================================================================\n",
      "\n"
     ]
    },
    {
     "name": "stderr",
     "output_type": "stream",
     "text": [
      "[Succeeded / Failed / Skipped / Total] 87 / 85 / 88 / 260:  52%|██████████▉          | 260/500 [03:00<02:46,  1.44it/s]textattack: Saving checkpoint under \"checkpoints\\1720262905291.ta.chkpt\" at 2024-07-06 18:48:25 after 260 attacks.\n"
     ]
    },
    {
     "name": "stdout",
     "output_type": "stream",
     "text": [
      "\n",
      "\n",
      "=============================================================================================================================\n",
      "=============================================================================================================================\n",
      "\n"
     ]
    },
    {
     "name": "stderr",
     "output_type": "stream",
     "text": [
      "[Succeeded / Failed / Skipped / Total] 91 / 86 / 88 / 265:  53%|███████████▏         | 265/500 [03:03<02:42,  1.44it/s]textattack: Saving checkpoint under \"checkpoints\\1720262908464.ta.chkpt\" at 2024-07-06 18:48:28 after 265 attacks.\n"
     ]
    },
    {
     "name": "stdout",
     "output_type": "stream",
     "text": [
      "\n",
      "\n",
      "=============================================================================================================================\n",
      "=============================================================================================================================\n",
      "\n"
     ]
    },
    {
     "name": "stderr",
     "output_type": "stream",
     "text": [
      "[Succeeded / Failed / Skipped / Total] 92 / 88 / 90 / 270:  54%|███████████▎         | 270/500 [03:08<02:40,  1.43it/s]textattack: Saving checkpoint under \"checkpoints\\1720262913323.ta.chkpt\" at 2024-07-06 18:48:33 after 270 attacks.\n",
      "[Succeeded / Failed / Skipped / Total] 92 / 88 / 91 / 271:  54%|███████████▍         | 271/500 [03:08<02:39,  1.44it/s]"
     ]
    },
    {
     "name": "stdout",
     "output_type": "stream",
     "text": [
      "\n",
      "\n",
      "=============================================================================================================================\n",
      "=============================================================================================================================\n",
      "\n"
     ]
    },
    {
     "name": "stderr",
     "output_type": "stream",
     "text": [
      "[Succeeded / Failed / Skipped / Total] 95 / 89 / 91 / 275:  55%|███████████▌         | 275/500 [03:11<02:36,  1.44it/s]textattack: Saving checkpoint under \"checkpoints\\1720262916495.ta.chkpt\" at 2024-07-06 18:48:36 after 275 attacks.\n"
     ]
    },
    {
     "name": "stdout",
     "output_type": "stream",
     "text": [
      "\n",
      "\n",
      "=============================================================================================================================\n",
      "=============================================================================================================================\n",
      "\n"
     ]
    },
    {
     "name": "stderr",
     "output_type": "stream",
     "text": [
      "[Succeeded / Failed / Skipped / Total] 98 / 90 / 92 / 280:  56%|███████████▊         | 280/500 [03:14<02:33,  1.44it/s]textattack: Saving checkpoint under \"checkpoints\\1720262919714.ta.chkpt\" at 2024-07-06 18:48:39 after 280 attacks.\n"
     ]
    },
    {
     "name": "stdout",
     "output_type": "stream",
     "text": [
      "\n",
      "\n",
      "=============================================================================================================================\n",
      "=============================================================================================================================\n",
      "\n"
     ]
    },
    {
     "name": "stderr",
     "output_type": "stream",
     "text": [
      "[Succeeded / Failed / Skipped / Total] 98 / 92 / 95 / 285:  57%|███████████▉         | 285/500 [03:16<02:28,  1.45it/s]textattack: Saving checkpoint under \"checkpoints\\1720262921199.ta.chkpt\" at 2024-07-06 18:48:41 after 285 attacks.\n",
      "[Succeeded / Failed / Skipped / Total] 98 / 92 / 95 / 285:  57%|████████████         | 286/500 [03:16<02:26,  1.46it/s]"
     ]
    },
    {
     "name": "stdout",
     "output_type": "stream",
     "text": [
      "\n",
      "\n",
      "=============================================================================================================================\n",
      "=============================================================================================================================\n",
      "\n"
     ]
    },
    {
     "name": "stderr",
     "output_type": "stream",
     "text": [
      "[Succeeded / Failed / Skipped / Total] 102 / 93 / 95 / 290:  58%|███████████▌        | 290/500 [03:20<02:24,  1.45it/s]textattack: Saving checkpoint under \"checkpoints\\1720262925168.ta.chkpt\" at 2024-07-06 18:48:45 after 290 attacks.\n",
      "[Succeeded / Failed / Skipped / Total] 102 / 93 / 97 / 292:  58%|███████████▋        | 292/500 [03:20<02:22,  1.46it/s]"
     ]
    },
    {
     "name": "stdout",
     "output_type": "stream",
     "text": [
      "\n",
      "\n",
      "=============================================================================================================================\n",
      "=============================================================================================================================\n",
      "\n"
     ]
    },
    {
     "name": "stderr",
     "output_type": "stream",
     "text": [
      "[Succeeded / Failed / Skipped / Total] 103 / 94 / 98 / 295:  59%|███████████▊        | 295/500 [03:23<02:21,  1.45it/s]textattack: Saving checkpoint under \"checkpoints\\1720262928043.ta.chkpt\" at 2024-07-06 18:48:48 after 295 attacks.\n",
      "[Succeeded / Failed / Skipped / Total] 103 / 94 / 99 / 296:  59%|███████████▊        | 296/500 [03:23<02:20,  1.46it/s]"
     ]
    },
    {
     "name": "stdout",
     "output_type": "stream",
     "text": [
      "\n",
      "\n",
      "=============================================================================================================================\n",
      "=============================================================================================================================\n",
      "\n"
     ]
    },
    {
     "name": "stderr",
     "output_type": "stream",
     "text": [
      "[Succeeded / Failed / Skipped / Total] 107 / 94 / 99 / 300:  60%|████████████        | 300/500 [03:25<02:17,  1.46it/s]textattack: Saving checkpoint under \"checkpoints\\1720262930699.ta.chkpt\" at 2024-07-06 18:48:50 after 300 attacks.\n"
     ]
    },
    {
     "name": "stdout",
     "output_type": "stream",
     "text": [
      "\n",
      "\n",
      "=============================================================================================================================\n",
      "=============================================================================================================================\n",
      "\n"
     ]
    },
    {
     "name": "stderr",
     "output_type": "stream",
     "text": [
      "[Succeeded / Failed / Skipped / Total] 110 / 95 / 100 / 305:  61%|███████████▌       | 305/500 [03:28<02:13,  1.46it/s]textattack: Saving checkpoint under \"checkpoints\\1720262933731.ta.chkpt\" at 2024-07-06 18:48:53 after 305 attacks.\n"
     ]
    },
    {
     "name": "stdout",
     "output_type": "stream",
     "text": [
      "\n",
      "\n",
      "=============================================================================================================================\n",
      "=============================================================================================================================\n",
      "\n"
     ]
    },
    {
     "name": "stderr",
     "output_type": "stream",
     "text": [
      "[Succeeded / Failed / Skipped / Total] 113 / 97 / 100 / 310:  62%|███████████▊       | 310/500 [03:30<02:09,  1.47it/s]textattack: Saving checkpoint under \"checkpoints\\1720262935762.ta.chkpt\" at 2024-07-06 18:48:55 after 310 attacks.\n"
     ]
    },
    {
     "name": "stdout",
     "output_type": "stream",
     "text": [
      "\n",
      "\n",
      "=============================================================================================================================\n",
      "=============================================================================================================================\n",
      "\n"
     ]
    },
    {
     "name": "stderr",
     "output_type": "stream",
     "text": [
      "[Succeeded / Failed / Skipped / Total] 115 / 99 / 101 / 315:  63%|███████████▉       | 315/500 [03:33<02:05,  1.47it/s]textattack: Saving checkpoint under \"checkpoints\\1720262938794.ta.chkpt\" at 2024-07-06 18:48:58 after 315 attacks.\n"
     ]
    },
    {
     "name": "stdout",
     "output_type": "stream",
     "text": [
      "\n",
      "\n",
      "=============================================================================================================================\n",
      "=============================================================================================================================\n",
      "\n"
     ]
    },
    {
     "name": "stderr",
     "output_type": "stream",
     "text": [
      "[Succeeded / Failed / Skipped / Total] 118 / 101 / 101 / 320:  64%|███████████▌      | 320/500 [03:39<02:03,  1.46it/s]textattack: Saving checkpoint under \"checkpoints\\1720262944419.ta.chkpt\" at 2024-07-06 18:49:04 after 320 attacks.\n"
     ]
    },
    {
     "name": "stdout",
     "output_type": "stream",
     "text": [
      "\n",
      "\n",
      "=============================================================================================================================\n",
      "=============================================================================================================================\n",
      "\n"
     ]
    },
    {
     "name": "stderr",
     "output_type": "stream",
     "text": [
      "[Succeeded / Failed / Skipped / Total] 119 / 104 / 102 / 325:  65%|███████████▋      | 325/500 [03:46<02:02,  1.43it/s]textattack: Saving checkpoint under \"checkpoints\\1720262951935.ta.chkpt\" at 2024-07-06 18:49:11 after 325 attacks.\n",
      "[Succeeded / Failed / Skipped / Total] 119 / 104 / 103 / 326:  65%|███████████▋      | 326/500 [03:47<02:01,  1.44it/s]"
     ]
    },
    {
     "name": "stdout",
     "output_type": "stream",
     "text": [
      "\n",
      "\n",
      "=============================================================================================================================\n",
      "=============================================================================================================================\n",
      "\n"
     ]
    },
    {
     "name": "stderr",
     "output_type": "stream",
     "text": [
      "[Succeeded / Failed / Skipped / Total] 121 / 105 / 104 / 330:  66%|███████████▉      | 330/500 [03:48<01:57,  1.44it/s]textattack: Saving checkpoint under \"checkpoints\\1720262953373.ta.chkpt\" at 2024-07-06 18:49:13 after 330 attacks.\n"
     ]
    },
    {
     "name": "stdout",
     "output_type": "stream",
     "text": [
      "\n",
      "\n",
      "=============================================================================================================================\n",
      "=============================================================================================================================\n",
      "\n"
     ]
    },
    {
     "name": "stderr",
     "output_type": "stream",
     "text": [
      "[Succeeded / Failed / Skipped / Total] 123 / 108 / 104 / 335:  67%|████████████      | 335/500 [03:56<01:56,  1.42it/s]textattack: Saving checkpoint under \"checkpoints\\1720262961154.ta.chkpt\" at 2024-07-06 18:49:21 after 335 attacks.\n"
     ]
    },
    {
     "name": "stdout",
     "output_type": "stream",
     "text": [
      "\n",
      "\n",
      "=============================================================================================================================\n",
      "=============================================================================================================================\n",
      "\n"
     ]
    },
    {
     "name": "stderr",
     "output_type": "stream",
     "text": [
      "[Succeeded / Failed / Skipped / Total] 125 / 109 / 106 / 340:  68%|████████████▏     | 340/500 [03:59<01:52,  1.42it/s]textattack: Saving checkpoint under \"checkpoints\\1720262964155.ta.chkpt\" at 2024-07-06 18:49:24 after 340 attacks.\n",
      "[Succeeded / Failed / Skipped / Total] 125 / 109 / 107 / 341:  68%|████████████▎     | 341/500 [03:59<01:51,  1.43it/s]"
     ]
    },
    {
     "name": "stdout",
     "output_type": "stream",
     "text": [
      "\n",
      "\n",
      "=============================================================================================================================\n",
      "=============================================================================================================================\n",
      "\n"
     ]
    },
    {
     "name": "stderr",
     "output_type": "stream",
     "text": [
      "[Succeeded / Failed / Skipped / Total] 127 / 110 / 108 / 345:  69%|████████████▍     | 345/500 [04:01<01:48,  1.43it/s]textattack: Saving checkpoint under \"checkpoints\\1720262966717.ta.chkpt\" at 2024-07-06 18:49:26 after 345 attacks.\n"
     ]
    },
    {
     "name": "stdout",
     "output_type": "stream",
     "text": [
      "\n",
      "\n",
      "=============================================================================================================================\n",
      "=============================================================================================================================\n",
      "\n"
     ]
    },
    {
     "name": "stderr",
     "output_type": "stream",
     "text": [
      "[Succeeded / Failed / Skipped / Total] 131 / 111 / 108 / 350:  70%|████████████▌     | 350/500 [04:06<01:45,  1.42it/s]textattack: Saving checkpoint under \"checkpoints\\1720262971358.ta.chkpt\" at 2024-07-06 18:49:31 after 350 attacks.\n"
     ]
    },
    {
     "name": "stdout",
     "output_type": "stream",
     "text": [
      "\n",
      "\n",
      "=============================================================================================================================\n",
      "=============================================================================================================================\n",
      "\n"
     ]
    },
    {
     "name": "stderr",
     "output_type": "stream",
     "text": [
      "[Succeeded / Failed / Skipped / Total] 134 / 113 / 108 / 355:  71%|████████████▊     | 355/500 [04:11<01:42,  1.41it/s]textattack: Saving checkpoint under \"checkpoints\\1720262975984.ta.chkpt\" at 2024-07-06 18:49:35 after 355 attacks.\n"
     ]
    },
    {
     "name": "stdout",
     "output_type": "stream",
     "text": [
      "\n",
      "\n",
      "=============================================================================================================================\n",
      "=============================================================================================================================\n",
      "\n"
     ]
    },
    {
     "name": "stderr",
     "output_type": "stream",
     "text": [
      "[Succeeded / Failed / Skipped / Total] 136 / 114 / 110 / 360:  72%|████████████▉     | 360/500 [04:13<01:38,  1.42it/s]textattack: Saving checkpoint under \"checkpoints\\1720262978296.ta.chkpt\" at 2024-07-06 18:49:38 after 360 attacks.\n",
      "[Succeeded / Failed / Skipped / Total] 136 / 114 / 112 / 362:  72%|█████████████     | 362/500 [04:13<01:36,  1.43it/s]"
     ]
    },
    {
     "name": "stdout",
     "output_type": "stream",
     "text": [
      "\n",
      "\n",
      "=============================================================================================================================\n",
      "=============================================================================================================================\n",
      "\n"
     ]
    },
    {
     "name": "stderr",
     "output_type": "stream",
     "text": [
      "[Succeeded / Failed / Skipped / Total] 138 / 115 / 112 / 365:  73%|█████████████▏    | 365/500 [04:14<01:34,  1.43it/s]textattack: Saving checkpoint under \"checkpoints\\1720262979937.ta.chkpt\" at 2024-07-06 18:49:39 after 365 attacks.\n"
     ]
    },
    {
     "name": "stdout",
     "output_type": "stream",
     "text": [
      "\n",
      "\n",
      "=============================================================================================================================\n",
      "=============================================================================================================================\n",
      "\n"
     ]
    },
    {
     "name": "stderr",
     "output_type": "stream",
     "text": [
      "[Succeeded / Failed / Skipped / Total] 138 / 117 / 115 / 370:  74%|█████████████▎    | 370/500 [04:16<01:30,  1.44it/s]textattack: Saving checkpoint under \"checkpoints\\1720262981140.ta.chkpt\" at 2024-07-06 18:49:41 after 370 attacks.\n",
      "[Succeeded / Failed / Skipped / Total] 138 / 117 / 116 / 371:  74%|█████████████▎    | 371/500 [04:16<01:29,  1.45it/s]"
     ]
    },
    {
     "name": "stdout",
     "output_type": "stream",
     "text": [
      "\n",
      "\n",
      "=============================================================================================================================\n",
      "=============================================================================================================================\n",
      "\n"
     ]
    },
    {
     "name": "stderr",
     "output_type": "stream",
     "text": [
      "[Succeeded / Failed / Skipped / Total] 140 / 119 / 116 / 375:  75%|█████████████▌    | 375/500 [04:20<01:26,  1.44it/s]textattack: Saving checkpoint under \"checkpoints\\1720262985547.ta.chkpt\" at 2024-07-06 18:49:45 after 375 attacks.\n",
      "[Succeeded / Failed / Skipped / Total] 140 / 119 / 117 / 376:  75%|█████████████▌    | 376/500 [04:20<01:25,  1.44it/s]"
     ]
    },
    {
     "name": "stdout",
     "output_type": "stream",
     "text": [
      "\n",
      "\n",
      "=============================================================================================================================\n",
      "=============================================================================================================================\n",
      "\n"
     ]
    },
    {
     "name": "stderr",
     "output_type": "stream",
     "text": [
      "[Succeeded / Failed / Skipped / Total] 142 / 120 / 118 / 380:  76%|█████████████▋    | 380/500 [04:22<01:22,  1.45it/s]textattack: Saving checkpoint under \"checkpoints\\1720262987281.ta.chkpt\" at 2024-07-06 18:49:47 after 380 attacks.\n"
     ]
    },
    {
     "name": "stdout",
     "output_type": "stream",
     "text": [
      "\n",
      "\n",
      "=============================================================================================================================\n",
      "=============================================================================================================================\n",
      "\n"
     ]
    },
    {
     "name": "stderr",
     "output_type": "stream",
     "text": [
      "[Succeeded / Failed / Skipped / Total] 144 / 121 / 120 / 385:  77%|█████████████▊    | 385/500 [04:24<01:18,  1.46it/s]textattack: Saving checkpoint under \"checkpoints\\1720262989375.ta.chkpt\" at 2024-07-06 18:49:49 after 385 attacks.\n"
     ]
    },
    {
     "name": "stdout",
     "output_type": "stream",
     "text": [
      "\n",
      "\n",
      "=============================================================================================================================\n",
      "=============================================================================================================================\n",
      "\n"
     ]
    },
    {
     "name": "stderr",
     "output_type": "stream",
     "text": [
      "[Succeeded / Failed / Skipped / Total] 144 / 124 / 122 / 390:  78%|██████████████    | 390/500 [04:26<01:15,  1.46it/s]textattack: Saving checkpoint under \"checkpoints\\1720262991282.ta.chkpt\" at 2024-07-06 18:49:51 after 390 attacks.\n"
     ]
    },
    {
     "name": "stdout",
     "output_type": "stream",
     "text": [
      "\n",
      "\n",
      "=============================================================================================================================\n",
      "=============================================================================================================================\n",
      "\n"
     ]
    },
    {
     "name": "stderr",
     "output_type": "stream",
     "text": [
      "[Succeeded / Failed / Skipped / Total] 144 / 128 / 123 / 395:  79%|██████████████▏   | 395/500 [04:32<01:12,  1.45it/s]textattack: Saving checkpoint under \"checkpoints\\1720262997642.ta.chkpt\" at 2024-07-06 18:49:57 after 395 attacks.\n"
     ]
    },
    {
     "name": "stdout",
     "output_type": "stream",
     "text": [
      "\n",
      "\n",
      "=============================================================================================================================\n",
      "=============================================================================================================================\n",
      "\n"
     ]
    },
    {
     "name": "stderr",
     "output_type": "stream",
     "text": [
      "[Succeeded / Failed / Skipped / Total] 145 / 131 / 124 / 400:  80%|██████████████▍   | 400/500 [04:39<01:09,  1.43it/s]textattack: Saving checkpoint under \"checkpoints\\1720263004414.ta.chkpt\" at 2024-07-06 18:50:04 after 400 attacks.\n",
      "[Succeeded / Failed / Skipped / Total] 145 / 131 / 125 / 401:  80%|██████████████▍   | 401/500 [04:39<01:09,  1.43it/s]"
     ]
    },
    {
     "name": "stdout",
     "output_type": "stream",
     "text": [
      "\n",
      "\n",
      "=============================================================================================================================\n",
      "=============================================================================================================================\n",
      "\n"
     ]
    },
    {
     "name": "stderr",
     "output_type": "stream",
     "text": [
      "[Succeeded / Failed / Skipped / Total] 146 / 133 / 126 / 405:  81%|██████████████▌   | 405/500 [04:43<01:06,  1.43it/s]textattack: Saving checkpoint under \"checkpoints\\1720263008446.ta.chkpt\" at 2024-07-06 18:50:08 after 405 attacks.\n"
     ]
    },
    {
     "name": "stdout",
     "output_type": "stream",
     "text": [
      "\n",
      "\n",
      "=============================================================================================================================\n",
      "=============================================================================================================================\n",
      "\n"
     ]
    },
    {
     "name": "stderr",
     "output_type": "stream",
     "text": [
      "[Succeeded / Failed / Skipped / Total] 147 / 136 / 127 / 410:  82%|██████████████▊   | 410/500 [04:46<01:02,  1.43it/s]textattack: Saving checkpoint under \"checkpoints\\1720263011384.ta.chkpt\" at 2024-07-06 18:50:11 after 410 attacks.\n",
      "[Succeeded / Failed / Skipped / Total] 147 / 136 / 128 / 411:  82%|██████████████▊   | 411/500 [04:46<01:02,  1.43it/s]"
     ]
    },
    {
     "name": "stdout",
     "output_type": "stream",
     "text": [
      "\n",
      "\n",
      "=============================================================================================================================\n",
      "=============================================================================================================================\n",
      "\n"
     ]
    },
    {
     "name": "stderr",
     "output_type": "stream",
     "text": [
      "[Succeeded / Failed / Skipped / Total] 148 / 137 / 130 / 415:  83%|██████████████▉   | 415/500 [04:47<00:58,  1.44it/s]textattack: Saving checkpoint under \"checkpoints\\1720263012837.ta.chkpt\" at 2024-07-06 18:50:12 after 415 attacks.\n"
     ]
    },
    {
     "name": "stdout",
     "output_type": "stream",
     "text": [
      "\n",
      "\n",
      "=============================================================================================================================\n",
      "=============================================================================================================================\n",
      "\n"
     ]
    },
    {
     "name": "stderr",
     "output_type": "stream",
     "text": [
      "[Succeeded / Failed / Skipped / Total] 150 / 138 / 132 / 420:  84%|███████████████   | 420/500 [04:51<00:55,  1.44it/s]textattack: Saving checkpoint under \"checkpoints\\1720263016915.ta.chkpt\" at 2024-07-06 18:50:16 after 420 attacks.\n",
      "[Succeeded / Failed / Skipped / Total] 150 / 138 / 133 / 421:  84%|███████████████▏  | 421/500 [04:52<00:54,  1.44it/s]"
     ]
    },
    {
     "name": "stdout",
     "output_type": "stream",
     "text": [
      "\n",
      "\n",
      "=============================================================================================================================\n",
      "=============================================================================================================================\n",
      "\n"
     ]
    },
    {
     "name": "stderr",
     "output_type": "stream",
     "text": [
      "[Succeeded / Failed / Skipped / Total] 151 / 140 / 134 / 425:  85%|███████████████▎  | 425/500 [04:55<00:52,  1.44it/s]textattack: Saving checkpoint under \"checkpoints\\1720263020368.ta.chkpt\" at 2024-07-06 18:50:20 after 425 attacks.\n"
     ]
    },
    {
     "name": "stdout",
     "output_type": "stream",
     "text": [
      "\n",
      "\n",
      "=============================================================================================================================\n",
      "=============================================================================================================================\n",
      "\n"
     ]
    },
    {
     "name": "stderr",
     "output_type": "stream",
     "text": [
      "[Succeeded / Failed / Skipped / Total] 151 / 142 / 137 / 430:  86%|███████████████▍  | 430/500 [04:56<00:48,  1.45it/s]textattack: Saving checkpoint under \"checkpoints\\1720263021525.ta.chkpt\" at 2024-07-06 18:50:21 after 430 attacks.\n",
      "[Succeeded / Failed / Skipped / Total] 151 / 142 / 138 / 431:  86%|███████████████▌  | 431/500 [04:56<00:47,  1.45it/s]"
     ]
    },
    {
     "name": "stdout",
     "output_type": "stream",
     "text": [
      "\n",
      "\n",
      "=============================================================================================================================\n",
      "=============================================================================================================================\n",
      "\n"
     ]
    },
    {
     "name": "stderr",
     "output_type": "stream",
     "text": [
      "[Succeeded / Failed / Skipped / Total] 152 / 144 / 139 / 435:  87%|███████████████▋  | 435/500 [04:58<00:44,  1.46it/s]textattack: Saving checkpoint under \"checkpoints\\1720263023509.ta.chkpt\" at 2024-07-06 18:50:23 after 435 attacks.\n"
     ]
    },
    {
     "name": "stdout",
     "output_type": "stream",
     "text": [
      "\n",
      "\n",
      "=============================================================================================================================\n",
      "=============================================================================================================================\n",
      "\n"
     ]
    },
    {
     "name": "stderr",
     "output_type": "stream",
     "text": [
      "[Succeeded / Failed / Skipped / Total] 153 / 147 / 140 / 440:  88%|███████████████▊  | 440/500 [05:01<00:41,  1.46it/s]textattack: Saving checkpoint under \"checkpoints\\1720263026774.ta.chkpt\" at 2024-07-06 18:50:26 after 440 attacks.\n",
      "[Succeeded / Failed / Skipped / Total] 153 / 147 / 141 / 441:  88%|███████████████▉  | 441/500 [05:01<00:40,  1.46it/s]"
     ]
    },
    {
     "name": "stdout",
     "output_type": "stream",
     "text": [
      "\n",
      "\n",
      "=============================================================================================================================\n",
      "=============================================================================================================================\n",
      "\n"
     ]
    },
    {
     "name": "stderr",
     "output_type": "stream",
     "text": [
      "[Succeeded / Failed / Skipped / Total] 154 / 150 / 141 / 445:  89%|████████████████  | 445/500 [05:05<00:37,  1.46it/s]textattack: Saving checkpoint under \"checkpoints\\1720263030322.ta.chkpt\" at 2024-07-06 18:50:30 after 445 attacks.\n"
     ]
    },
    {
     "name": "stdout",
     "output_type": "stream",
     "text": [
      "\n",
      "\n",
      "=============================================================================================================================\n",
      "=============================================================================================================================\n",
      "\n"
     ]
    },
    {
     "name": "stderr",
     "output_type": "stream",
     "text": [
      "[Succeeded / Failed / Skipped / Total] 156 / 151 / 143 / 450:  90%|████████████████▏ | 450/500 [05:07<00:34,  1.46it/s]textattack: Saving checkpoint under \"checkpoints\\1720263032729.ta.chkpt\" at 2024-07-06 18:50:32 after 450 attacks.\n",
      "[Succeeded / Failed / Skipped / Total] 156 / 151 / 144 / 451:  90%|████████████████▏ | 451/500 [05:07<00:33,  1.46it/s]"
     ]
    },
    {
     "name": "stdout",
     "output_type": "stream",
     "text": [
      "\n",
      "\n",
      "=============================================================================================================================\n",
      "=============================================================================================================================\n",
      "\n"
     ]
    },
    {
     "name": "stderr",
     "output_type": "stream",
     "text": [
      "[Succeeded / Failed / Skipped / Total] 158 / 152 / 145 / 455:  91%|████████████████▍ | 455/500 [05:09<00:30,  1.47it/s]textattack: Saving checkpoint under \"checkpoints\\1720263034760.ta.chkpt\" at 2024-07-06 18:50:34 after 455 attacks.\n"
     ]
    },
    {
     "name": "stdout",
     "output_type": "stream",
     "text": [
      "\n",
      "\n",
      "=============================================================================================================================\n",
      "=============================================================================================================================\n",
      "\n"
     ]
    },
    {
     "name": "stderr",
     "output_type": "stream",
     "text": [
      "[Succeeded / Failed / Skipped / Total] 160 / 155 / 145 / 460:  92%|████████████████▌ | 460/500 [05:16<00:27,  1.45it/s]textattack: Saving checkpoint under \"checkpoints\\1720263041182.ta.chkpt\" at 2024-07-06 18:50:41 after 460 attacks.\n",
      "[Succeeded / Failed / Skipped / Total] 160 / 155 / 146 / 461:  92%|████████████████▌ | 461/500 [05:16<00:26,  1.46it/s]"
     ]
    },
    {
     "name": "stdout",
     "output_type": "stream",
     "text": [
      "\n",
      "\n",
      "=============================================================================================================================\n",
      "=============================================================================================================================\n",
      "\n"
     ]
    },
    {
     "name": "stderr",
     "output_type": "stream",
     "text": [
      "[Succeeded / Failed / Skipped / Total] 161 / 156 / 148 / 465:  93%|████████████████▋ | 465/500 [05:17<00:23,  1.46it/s]textattack: Saving checkpoint under \"checkpoints\\1720263042792.ta.chkpt\" at 2024-07-06 18:50:42 after 465 attacks.\n",
      "[Succeeded / Failed / Skipped / Total] 161 / 156 / 150 / 467:  93%|████████████████▊ | 467/500 [05:17<00:22,  1.47it/s]"
     ]
    },
    {
     "name": "stdout",
     "output_type": "stream",
     "text": [
      "\n",
      "\n",
      "=============================================================================================================================\n",
      "=============================================================================================================================\n",
      "\n"
     ]
    },
    {
     "name": "stderr",
     "output_type": "stream",
     "text": [
      "[Succeeded / Failed / Skipped / Total] 162 / 158 / 150 / 470:  94%|████████████████▉ | 470/500 [05:19<00:20,  1.47it/s]textattack: Saving checkpoint under \"checkpoints\\1720263044886.ta.chkpt\" at 2024-07-06 18:50:44 after 470 attacks.\n"
     ]
    },
    {
     "name": "stdout",
     "output_type": "stream",
     "text": [
      "\n",
      "\n",
      "=============================================================================================================================\n",
      "=============================================================================================================================\n",
      "\n"
     ]
    },
    {
     "name": "stderr",
     "output_type": "stream",
     "text": [
      "[Succeeded / Failed / Skipped / Total] 164 / 161 / 150 / 475:  95%|█████████████████ | 475/500 [05:25<00:17,  1.46it/s]textattack: Saving checkpoint under \"checkpoints\\1720263050558.ta.chkpt\" at 2024-07-06 18:50:50 after 475 attacks.\n",
      "[Succeeded / Failed / Skipped / Total] 164 / 161 / 151 / 476:  95%|█████████████████▏| 476/500 [05:25<00:16,  1.46it/s]"
     ]
    },
    {
     "name": "stdout",
     "output_type": "stream",
     "text": [
      "\n",
      "\n",
      "=============================================================================================================================\n",
      "=============================================================================================================================\n",
      "\n"
     ]
    },
    {
     "name": "stderr",
     "output_type": "stream",
     "text": [
      "[Succeeded / Failed / Skipped / Total] 167 / 162 / 151 / 480:  96%|█████████████████▎| 480/500 [05:29<00:13,  1.46it/s]textattack: Saving checkpoint under \"checkpoints\\1720263054589.ta.chkpt\" at 2024-07-06 18:50:54 after 480 attacks.\n"
     ]
    },
    {
     "name": "stdout",
     "output_type": "stream",
     "text": [
      "\n",
      "\n",
      "=============================================================================================================================\n",
      "=============================================================================================================================\n",
      "\n"
     ]
    },
    {
     "name": "stderr",
     "output_type": "stream",
     "text": [
      "[Succeeded / Failed / Skipped / Total] 167 / 166 / 152 / 485:  97%|█████████████████▍| 485/500 [05:34<00:10,  1.45it/s]textattack: Saving checkpoint under \"checkpoints\\1720263059137.ta.chkpt\" at 2024-07-06 18:50:59 after 485 attacks.\n"
     ]
    },
    {
     "name": "stdout",
     "output_type": "stream",
     "text": [
      "\n",
      "\n",
      "=============================================================================================================================\n",
      "=============================================================================================================================\n",
      "\n"
     ]
    },
    {
     "name": "stderr",
     "output_type": "stream",
     "text": [
      "[Succeeded / Failed / Skipped / Total] 170 / 167 / 153 / 490:  98%|█████████████████▋| 490/500 [05:38<00:06,  1.45it/s]textattack: Saving checkpoint under \"checkpoints\\1720263063121.ta.chkpt\" at 2024-07-06 18:51:03 after 490 attacks.\n",
      "[Succeeded / Failed / Skipped / Total] 170 / 167 / 154 / 491:  98%|█████████████████▋| 491/500 [05:38<00:06,  1.45it/s]"
     ]
    },
    {
     "name": "stdout",
     "output_type": "stream",
     "text": [
      "\n",
      "\n",
      "=============================================================================================================================\n",
      "=============================================================================================================================\n",
      "\n"
     ]
    },
    {
     "name": "stderr",
     "output_type": "stream",
     "text": [
      "[Succeeded / Failed / Skipped / Total] 171 / 168 / 156 / 495:  99%|█████████████████▊| 495/500 [05:39<00:03,  1.46it/s]textattack: Saving checkpoint under \"checkpoints\\1720263064543.ta.chkpt\" at 2024-07-06 18:51:04 after 495 attacks.\n",
      "[Succeeded / Failed / Skipped / Total] 171 / 168 / 158 / 497:  99%|█████████████████▉| 497/500 [05:39<00:02,  1.46it/s]"
     ]
    },
    {
     "name": "stdout",
     "output_type": "stream",
     "text": [
      "\n",
      "\n",
      "=============================================================================================================================\n",
      "=============================================================================================================================\n",
      "\n"
     ]
    },
    {
     "name": "stderr",
     "output_type": "stream",
     "text": [
      "[Succeeded / Failed / Skipped / Total] 173 / 169 / 158 / 500: 100%|██████████████████| 500/500 [05:42<00:00,  1.46it/s]textattack: Saving checkpoint under \"checkpoints\\1720263067512.ta.chkpt\" at 2024-07-06 18:51:07 after 500 attacks.\n",
      "[Succeeded / Failed / Skipped / Total] 173 / 169 / 158 / 500: 100%|██████████████████| 500/500 [05:42<00:00,  1.46it/s]"
     ]
    },
    {
     "name": "stdout",
     "output_type": "stream",
     "text": [
      "\n",
      "\n",
      "=============================================================================================================================\n",
      "=============================================================================================================================\n",
      "\n",
      "\n",
      "+-------------------------------+--------+\n",
      "| Attack Results                |        |\n",
      "+-------------------------------+--------+\n",
      "| Number of successful attacks: | 173    |\n",
      "| Number of failed attacks:     | 169    |\n",
      "| Number of skipped attacks:    | 158    |\n",
      "| Original accuracy:            | 68.4%  |\n",
      "| Accuracy under attack:        | 33.8%  |\n",
      "| Attack success rate:          | 50.58% |\n",
      "| Average perturbed word %:     | 9.05%  |\n",
      "| Average num. words per input: | 18.4   |\n",
      "| Avg num queries:              | 20.99  |\n",
      "+-------------------------------+--------+\n"
     ]
    },
    {
     "name": "stderr",
     "output_type": "stream",
     "text": [
      "\n"
     ]
    }
   ],
   "source": [
    "runAttack(clip_model_wrapper_knn_mr, n_samples, 'attack_results_new/clipmrattackknn'+suffix, target_ds_mr)"
   ]
  },
  {
   "cell_type": "code",
   "execution_count": 31,
   "id": "2817bf97-ee68-48c1-b7f6-b517849aa412",
   "metadata": {},
   "outputs": [
    {
     "name": "stderr",
     "output_type": "stream",
     "text": [
      "textattack: Unknown if model of class <class 'transformers.models.clip.modeling_clip.CLIPTextTransformer'> compatible with goal function <class 'textattack.goal_functions.classification.untargeted_classification.UntargetedClassification'>.\n",
      "textattack: Logging to CSV at path attack_results_new/clipmrattacksvcsim09.csv\n"
     ]
    },
    {
     "name": "stdout",
     "output_type": "stream",
     "text": [
      "Attack(\n",
      "  (search_method): GreedyWordSwapWIR(\n",
      "    (wir_method):  delete\n",
      "  )\n",
      "  (goal_function):  UntargetedClassification\n",
      "  (transformation):  WordSwapEmbedding(\n",
      "    (max_candidates):  50\n",
      "    (embedding):  WordEmbedding\n",
      "  )\n",
      "  (constraints): \n",
      "    (0): WordEmbeddingDistance(\n",
      "        (embedding):  WordEmbedding\n",
      "        (min_cos_sim):  0.9\n",
      "        (cased):  False\n",
      "        (include_unknown_words):  True\n",
      "        (compare_against_original):  True\n",
      "      )\n",
      "    (1): PartOfSpeech(\n",
      "        (tagger_type):  nltk\n",
      "        (tagset):  universal\n",
      "        (allow_verb_noun_swap):  True\n",
      "        (compare_against_original):  True\n",
      "      )\n",
      "    (2): UniversalSentenceEncoder(\n",
      "        (metric):  angular\n",
      "        (threshold):  0.840845057\n",
      "        (window_size):  15\n",
      "        (skip_text_shorter_than_window):  True\n",
      "        (compare_against_original):  False\n",
      "      )\n",
      "    (3): RepeatModification\n",
      "    (4): StopwordModification\n",
      "    (5): InputColumnModification(\n",
      "        (matching_column_labels):  ['premise', 'hypothesis']\n",
      "        (columns_to_ignore):  {'premise'}\n",
      "      )\n",
      "  (is_black_box):  True\n",
      ") \n",
      "\n"
     ]
    },
    {
     "name": "stderr",
     "output_type": "stream",
     "text": [
      "[Succeeded / Failed / Skipped / Total] 1 / 4 / 0 / 5:   1%|▎                           | 5/500 [00:09<16:20,  1.98s/it]textattack: Saving checkpoint under \"checkpoints\\1720263077498.ta.chkpt\" at 2024-07-06 18:51:17 after 5 attacks.\n",
      "[Succeeded / Failed / Skipped / Total] 1 / 4 / 2 / 7:   1%|▍                           | 7/500 [00:10<11:46,  1.43s/it]"
     ]
    },
    {
     "name": "stdout",
     "output_type": "stream",
     "text": [
      "\n",
      "\n",
      "=============================================================================================================================\n",
      "=============================================================================================================================\n",
      "\n"
     ]
    },
    {
     "name": "stderr",
     "output_type": "stream",
     "text": [
      "[Succeeded / Failed / Skipped / Total] 4 / 4 / 2 / 10:   2%|▌                         | 10/500 [00:13<10:55,  1.34s/it]textattack: Saving checkpoint under \"checkpoints\\1720263080967.ta.chkpt\" at 2024-07-06 18:51:20 after 10 attacks.\n"
     ]
    },
    {
     "name": "stdout",
     "output_type": "stream",
     "text": [
      "\n",
      "\n",
      "=============================================================================================================================\n",
      "=============================================================================================================================\n",
      "\n"
     ]
    },
    {
     "name": "stderr",
     "output_type": "stream",
     "text": [
      "[Succeeded / Failed / Skipped / Total] 6 / 6 / 3 / 15:   3%|▊                         | 15/500 [00:17<09:34,  1.19s/it]textattack: Saving checkpoint under \"checkpoints\\1720263085373.ta.chkpt\" at 2024-07-06 18:51:25 after 15 attacks.\n"
     ]
    },
    {
     "name": "stdout",
     "output_type": "stream",
     "text": [
      "\n",
      "\n",
      "=============================================================================================================================\n",
      "=============================================================================================================================\n",
      "\n"
     ]
    },
    {
     "name": "stderr",
     "output_type": "stream",
     "text": [
      "[Succeeded / Failed / Skipped / Total] 8 / 8 / 4 / 20:   4%|█                         | 20/500 [00:19<07:50,  1.02it/s]textattack: Saving checkpoint under \"checkpoints\\1720263087186.ta.chkpt\" at 2024-07-06 18:51:27 after 20 attacks.\n"
     ]
    },
    {
     "name": "stdout",
     "output_type": "stream",
     "text": [
      "\n",
      "\n",
      "=============================================================================================================================\n",
      "=============================================================================================================================\n",
      "\n"
     ]
    },
    {
     "name": "stderr",
     "output_type": "stream",
     "text": [
      "[Succeeded / Failed / Skipped / Total] 10 / 10 / 5 / 25:   5%|█▏                      | 25/500 [00:22<07:06,  1.11it/s]textattack: Saving checkpoint under \"checkpoints\\1720263090030.ta.chkpt\" at 2024-07-06 18:51:30 after 25 attacks.\n"
     ]
    },
    {
     "name": "stdout",
     "output_type": "stream",
     "text": [
      "\n",
      "\n",
      "=============================================================================================================================\n",
      "=============================================================================================================================\n",
      "\n"
     ]
    },
    {
     "name": "stderr",
     "output_type": "stream",
     "text": [
      "[Succeeded / Failed / Skipped / Total] 12 / 12 / 6 / 30:   6%|█▍                      | 30/500 [00:25<06:41,  1.17it/s]textattack: Saving checkpoint under \"checkpoints\\1720263093186.ta.chkpt\" at 2024-07-06 18:51:33 after 30 attacks.\n"
     ]
    },
    {
     "name": "stdout",
     "output_type": "stream",
     "text": [
      "\n",
      "\n",
      "=============================================================================================================================\n",
      "=============================================================================================================================\n",
      "\n"
     ]
    },
    {
     "name": "stderr",
     "output_type": "stream",
     "text": [
      "[Succeeded / Failed / Skipped / Total] 13 / 14 / 8 / 35:   7%|█▋                      | 35/500 [00:27<05:58,  1.30it/s]textattack: Saving checkpoint under \"checkpoints\\1720263094608.ta.chkpt\" at 2024-07-06 18:51:34 after 35 attacks.\n"
     ]
    },
    {
     "name": "stdout",
     "output_type": "stream",
     "text": [
      "\n",
      "\n",
      "=============================================================================================================================\n",
      "=============================================================================================================================\n",
      "\n"
     ]
    },
    {
     "name": "stderr",
     "output_type": "stream",
     "text": [
      "[Succeeded / Failed / Skipped / Total] 16 / 15 / 9 / 40:   8%|█▉                      | 40/500 [00:30<05:48,  1.32it/s]textattack: Saving checkpoint under \"checkpoints\\1720263097874.ta.chkpt\" at 2024-07-06 18:51:37 after 40 attacks.\n"
     ]
    },
    {
     "name": "stdout",
     "output_type": "stream",
     "text": [
      "\n",
      "\n",
      "=============================================================================================================================\n",
      "=============================================================================================================================\n",
      "\n"
     ]
    },
    {
     "name": "stderr",
     "output_type": "stream",
     "text": [
      "[Succeeded / Failed / Skipped / Total] 17 / 17 / 11 / 45:   9%|██                     | 45/500 [00:36<06:08,  1.24it/s]textattack: Saving checkpoint under \"checkpoints\\1720263103995.ta.chkpt\" at 2024-07-06 18:51:43 after 45 attacks.\n"
     ]
    },
    {
     "name": "stdout",
     "output_type": "stream",
     "text": [
      "\n",
      "\n",
      "=============================================================================================================================\n",
      "=============================================================================================================================\n",
      "\n"
     ]
    },
    {
     "name": "stderr",
     "output_type": "stream",
     "text": [
      "[Succeeded / Failed / Skipped / Total] 20 / 18 / 12 / 50:  10%|██▎                    | 50/500 [00:39<05:53,  1.27it/s]textattack: Saving checkpoint under \"checkpoints\\1720263106907.ta.chkpt\" at 2024-07-06 18:51:46 after 50 attacks.\n"
     ]
    },
    {
     "name": "stdout",
     "output_type": "stream",
     "text": [
      "\n",
      "\n",
      "=============================================================================================================================\n",
      "=============================================================================================================================\n",
      "\n"
     ]
    },
    {
     "name": "stderr",
     "output_type": "stream",
     "text": [
      "[Succeeded / Failed / Skipped / Total] 23 / 19 / 13 / 55:  11%|██▌                    | 55/500 [00:44<05:57,  1.25it/s]textattack: Saving checkpoint under \"checkpoints\\1720263111751.ta.chkpt\" at 2024-07-06 18:51:51 after 55 attacks.\n"
     ]
    },
    {
     "name": "stdout",
     "output_type": "stream",
     "text": [
      "\n",
      "\n",
      "=============================================================================================================================\n",
      "=============================================================================================================================\n",
      "\n"
     ]
    },
    {
     "name": "stderr",
     "output_type": "stream",
     "text": [
      "[Succeeded / Failed / Skipped / Total] 25 / 21 / 14 / 60:  12%|██▊                    | 60/500 [00:46<05:43,  1.28it/s]textattack: Saving checkpoint under \"checkpoints\\1720263114392.ta.chkpt\" at 2024-07-06 18:51:54 after 60 attacks.\n",
      "[Succeeded / Failed / Skipped / Total] 25 / 21 / 15 / 61:  12%|██▊                    | 61/500 [00:46<05:37,  1.30it/s]"
     ]
    },
    {
     "name": "stdout",
     "output_type": "stream",
     "text": [
      "\n",
      "\n",
      "=============================================================================================================================\n",
      "=============================================================================================================================\n",
      "\n"
     ]
    },
    {
     "name": "stderr",
     "output_type": "stream",
     "text": [
      "[Succeeded / Failed / Skipped / Total] 28 / 22 / 15 / 65:  13%|██▉                    | 65/500 [00:50<05:39,  1.28it/s]textattack: Saving checkpoint under \"checkpoints\\1720263118329.ta.chkpt\" at 2024-07-06 18:51:58 after 65 attacks.\n"
     ]
    },
    {
     "name": "stdout",
     "output_type": "stream",
     "text": [
      "\n",
      "\n",
      "=============================================================================================================================\n",
      "=============================================================================================================================\n",
      "\n"
     ]
    },
    {
     "name": "stderr",
     "output_type": "stream",
     "text": [
      "[Succeeded / Failed / Skipped / Total] 28 / 26 / 16 / 70:  14%|███▏                   | 70/500 [00:54<05:33,  1.29it/s]textattack: Saving checkpoint under \"checkpoints\\1720263121955.ta.chkpt\" at 2024-07-06 18:52:01 after 70 attacks.\n"
     ]
    },
    {
     "name": "stdout",
     "output_type": "stream",
     "text": [
      "\n",
      "\n",
      "=============================================================================================================================\n",
      "=============================================================================================================================\n",
      "\n"
     ]
    },
    {
     "name": "stderr",
     "output_type": "stream",
     "text": [
      "[Succeeded / Failed / Skipped / Total] 31 / 28 / 16 / 75:  15%|███▍                   | 75/500 [00:58<05:30,  1.29it/s]textattack: Saving checkpoint under \"checkpoints\\1720263125877.ta.chkpt\" at 2024-07-06 18:52:05 after 75 attacks.\n",
      "[Succeeded / Failed / Skipped / Total] 31 / 28 / 17 / 76:  15%|███▍                   | 76/500 [00:58<05:25,  1.30it/s]"
     ]
    },
    {
     "name": "stdout",
     "output_type": "stream",
     "text": [
      "\n",
      "\n",
      "=============================================================================================================================\n",
      "=============================================================================================================================\n",
      "\n"
     ]
    },
    {
     "name": "stderr",
     "output_type": "stream",
     "text": [
      "[Succeeded / Failed / Skipped / Total] 32 / 30 / 18 / 80:  16%|███▋                   | 80/500 [01:00<05:18,  1.32it/s]textattack: Saving checkpoint under \"checkpoints\\1720263128190.ta.chkpt\" at 2024-07-06 18:52:08 after 80 attacks.\n",
      "[Succeeded / Failed / Skipped / Total] 32 / 30 / 20 / 82:  16%|███▊                   | 82/500 [01:00<05:09,  1.35it/s]"
     ]
    },
    {
     "name": "stdout",
     "output_type": "stream",
     "text": [
      "\n",
      "\n",
      "=============================================================================================================================\n",
      "=============================================================================================================================\n",
      "\n"
     ]
    },
    {
     "name": "stderr",
     "output_type": "stream",
     "text": [
      "[Succeeded / Failed / Skipped / Total] 33 / 32 / 20 / 85:  17%|███▉                   | 85/500 [01:02<05:04,  1.36it/s]textattack: Saving checkpoint under \"checkpoints\\1720263129908.ta.chkpt\" at 2024-07-06 18:52:09 after 85 attacks.\n"
     ]
    },
    {
     "name": "stdout",
     "output_type": "stream",
     "text": [
      "\n",
      "\n",
      "=============================================================================================================================\n",
      "=============================================================================================================================\n",
      "\n"
     ]
    },
    {
     "name": "stderr",
     "output_type": "stream",
     "text": [
      "[Succeeded / Failed / Skipped / Total] 35 / 34 / 21 / 90:  18%|████▏                  | 90/500 [01:06<05:04,  1.35it/s]textattack: Saving checkpoint under \"checkpoints\\1720263134409.ta.chkpt\" at 2024-07-06 18:52:14 after 90 attacks.\n",
      "[Succeeded / Failed / Skipped / Total] 35 / 34 / 23 / 92:  18%|████▏                  | 92/500 [01:06<04:57,  1.37it/s]"
     ]
    },
    {
     "name": "stdout",
     "output_type": "stream",
     "text": [
      "\n",
      "\n",
      "=============================================================================================================================\n",
      "=============================================================================================================================\n",
      "\n"
     ]
    },
    {
     "name": "stderr",
     "output_type": "stream",
     "text": [
      "[Succeeded / Failed / Skipped / Total] 38 / 34 / 23 / 95:  19%|████▎                  | 95/500 [01:11<05:04,  1.33it/s]textattack: Saving checkpoint under \"checkpoints\\1720263138925.ta.chkpt\" at 2024-07-06 18:52:18 after 95 attacks.\n"
     ]
    },
    {
     "name": "stdout",
     "output_type": "stream",
     "text": [
      "\n",
      "\n",
      "=============================================================================================================================\n",
      "=============================================================================================================================\n",
      "\n"
     ]
    },
    {
     "name": "stderr",
     "output_type": "stream",
     "text": [
      "[Succeeded / Failed / Skipped / Total] 39 / 37 / 24 / 100:  20%|████▏                | 100/500 [01:13<04:54,  1.36it/s]textattack: Saving checkpoint under \"checkpoints\\1720263141144.ta.chkpt\" at 2024-07-06 18:52:21 after 100 attacks.\n"
     ]
    },
    {
     "name": "stdout",
     "output_type": "stream",
     "text": [
      "\n",
      "\n",
      "=============================================================================================================================\n",
      "=============================================================================================================================\n",
      "\n"
     ]
    },
    {
     "name": "stderr",
     "output_type": "stream",
     "text": [
      "[Succeeded / Failed / Skipped / Total] 41 / 40 / 24 / 105:  21%|████▍                | 105/500 [01:20<05:01,  1.31it/s]textattack: Saving checkpoint under \"checkpoints\\1720263147613.ta.chkpt\" at 2024-07-06 18:52:27 after 105 attacks.\n",
      "[Succeeded / Failed / Skipped / Total] 41 / 40 / 25 / 106:  21%|████▍                | 106/500 [01:20<04:57,  1.32it/s]"
     ]
    },
    {
     "name": "stdout",
     "output_type": "stream",
     "text": [
      "\n",
      "\n",
      "=============================================================================================================================\n",
      "=============================================================================================================================\n",
      "\n"
     ]
    },
    {
     "name": "stderr",
     "output_type": "stream",
     "text": [
      "[Succeeded / Failed / Skipped / Total] 41 / 42 / 27 / 110:  22%|████▌                | 110/500 [01:21<04:49,  1.35it/s]textattack: Saving checkpoint under \"checkpoints\\1720263149332.ta.chkpt\" at 2024-07-06 18:52:29 after 110 attacks.\n",
      "[Succeeded / Failed / Skipped / Total] 41 / 42 / 28 / 111:  22%|████▋                | 111/500 [01:21<04:46,  1.36it/s]"
     ]
    },
    {
     "name": "stdout",
     "output_type": "stream",
     "text": [
      "\n",
      "\n",
      "=============================================================================================================================\n",
      "=============================================================================================================================\n",
      "\n"
     ]
    },
    {
     "name": "stderr",
     "output_type": "stream",
     "text": [
      "[Succeeded / Failed / Skipped / Total] 43 / 42 / 30 / 115:  23%|████▊                | 115/500 [01:23<04:39,  1.38it/s]textattack: Saving checkpoint under \"checkpoints\\1720263151219.ta.chkpt\" at 2024-07-06 18:52:31 after 115 attacks.\n"
     ]
    },
    {
     "name": "stdout",
     "output_type": "stream",
     "text": [
      "\n",
      "\n",
      "=============================================================================================================================\n",
      "=============================================================================================================================\n",
      "\n"
     ]
    },
    {
     "name": "stderr",
     "output_type": "stream",
     "text": [
      "[Succeeded / Failed / Skipped / Total] 44 / 44 / 32 / 120:  24%|█████                | 120/500 [01:25<04:30,  1.41it/s]textattack: Saving checkpoint under \"checkpoints\\1720263152922.ta.chkpt\" at 2024-07-06 18:52:32 after 120 attacks.\n",
      "[Succeeded / Failed / Skipped / Total] 44 / 44 / 33 / 121:  24%|█████                | 121/500 [01:25<04:27,  1.42it/s]"
     ]
    },
    {
     "name": "stdout",
     "output_type": "stream",
     "text": [
      "\n",
      "\n",
      "=============================================================================================================================\n",
      "=============================================================================================================================\n",
      "\n"
     ]
    },
    {
     "name": "stderr",
     "output_type": "stream",
     "text": [
      "[Succeeded / Failed / Skipped / Total] 46 / 45 / 34 / 125:  25%|█████▎               | 125/500 [01:27<04:23,  1.42it/s]textattack: Saving checkpoint under \"checkpoints\\1720263155579.ta.chkpt\" at 2024-07-06 18:52:35 after 125 attacks.\n"
     ]
    },
    {
     "name": "stdout",
     "output_type": "stream",
     "text": [
      "\n",
      "\n",
      "=============================================================================================================================\n",
      "=============================================================================================================================\n",
      "\n"
     ]
    },
    {
     "name": "stderr",
     "output_type": "stream",
     "text": [
      "[Succeeded / Failed / Skipped / Total] 49 / 47 / 34 / 130:  26%|█████▍               | 130/500 [01:32<04:23,  1.40it/s]textattack: Saving checkpoint under \"checkpoints\\1720263160157.ta.chkpt\" at 2024-07-06 18:52:40 after 130 attacks.\n",
      "[Succeeded / Failed / Skipped / Total] 49 / 47 / 35 / 131:  26%|█████▌               | 131/500 [01:32<04:21,  1.41it/s]"
     ]
    },
    {
     "name": "stdout",
     "output_type": "stream",
     "text": [
      "\n",
      "\n",
      "=============================================================================================================================\n",
      "=============================================================================================================================\n",
      "\n"
     ]
    },
    {
     "name": "stderr",
     "output_type": "stream",
     "text": [
      "[Succeeded / Failed / Skipped / Total] 50 / 49 / 36 / 135:  27%|█████▋               | 135/500 [01:37<04:23,  1.38it/s]textattack: Saving checkpoint under \"checkpoints\\1720263165204.ta.chkpt\" at 2024-07-06 18:52:45 after 135 attacks.\n"
     ]
    },
    {
     "name": "stdout",
     "output_type": "stream",
     "text": [
      "\n",
      "\n",
      "=============================================================================================================================\n",
      "=============================================================================================================================\n",
      "\n"
     ]
    },
    {
     "name": "stderr",
     "output_type": "stream",
     "text": [
      "[Succeeded / Failed / Skipped / Total] 52 / 49 / 39 / 140:  28%|█████▉               | 140/500 [01:39<04:16,  1.40it/s]textattack: Saving checkpoint under \"checkpoints\\1720263167455.ta.chkpt\" at 2024-07-06 18:52:47 after 140 attacks.\n"
     ]
    },
    {
     "name": "stdout",
     "output_type": "stream",
     "text": [
      "\n",
      "\n",
      "=============================================================================================================================\n",
      "=============================================================================================================================\n",
      "\n"
     ]
    },
    {
     "name": "stderr",
     "output_type": "stream",
     "text": [
      "[Succeeded / Failed / Skipped / Total] 53 / 51 / 41 / 145:  29%|██████               | 145/500 [01:42<04:10,  1.42it/s]textattack: Saving checkpoint under \"checkpoints\\1720263169720.ta.chkpt\" at 2024-07-06 18:52:49 after 145 attacks.\n",
      "[Succeeded / Failed / Skipped / Total] 53 / 51 / 42 / 146:  29%|██████▏              | 146/500 [01:42<04:07,  1.43it/s]"
     ]
    },
    {
     "name": "stdout",
     "output_type": "stream",
     "text": [
      "\n",
      "\n",
      "=============================================================================================================================\n",
      "=============================================================================================================================\n",
      "\n"
     ]
    },
    {
     "name": "stderr",
     "output_type": "stream",
     "text": [
      "[Succeeded / Failed / Skipped / Total] 54 / 53 / 43 / 150:  30%|██████▎              | 150/500 [01:43<04:01,  1.45it/s]textattack: Saving checkpoint under \"checkpoints\\1720263171283.ta.chkpt\" at 2024-07-06 18:52:51 after 150 attacks.\n",
      "[Succeeded / Failed / Skipped / Total] 54 / 53 / 44 / 151:  30%|██████▎              | 151/500 [01:43<03:59,  1.46it/s]"
     ]
    },
    {
     "name": "stdout",
     "output_type": "stream",
     "text": [
      "\n",
      "\n",
      "=============================================================================================================================\n",
      "=============================================================================================================================\n",
      "\n"
     ]
    },
    {
     "name": "stderr",
     "output_type": "stream",
     "text": [
      "[Succeeded / Failed / Skipped / Total] 55 / 55 / 45 / 155:  31%|██████▌              | 155/500 [01:47<03:58,  1.44it/s]textattack: Saving checkpoint under \"checkpoints\\1720263174908.ta.chkpt\" at 2024-07-06 18:52:54 after 155 attacks.\n"
     ]
    },
    {
     "name": "stdout",
     "output_type": "stream",
     "text": [
      "\n",
      "\n",
      "=============================================================================================================================\n",
      "=============================================================================================================================\n",
      "\n"
     ]
    },
    {
     "name": "stderr",
     "output_type": "stream",
     "text": [
      "[Succeeded / Failed / Skipped / Total] 56 / 57 / 47 / 160:  32%|██████▋              | 160/500 [01:51<03:57,  1.43it/s]textattack: Saving checkpoint under \"checkpoints\\1720263179223.ta.chkpt\" at 2024-07-06 18:52:59 after 160 attacks.\n",
      "[Succeeded / Failed / Skipped / Total] 56 / 57 / 48 / 161:  32%|██████▊              | 161/500 [01:51<03:55,  1.44it/s]"
     ]
    },
    {
     "name": "stdout",
     "output_type": "stream",
     "text": [
      "\n",
      "\n",
      "=============================================================================================================================\n",
      "=============================================================================================================================\n",
      "\n"
     ]
    },
    {
     "name": "stderr",
     "output_type": "stream",
     "text": [
      "[Succeeded / Failed / Skipped / Total] 56 / 59 / 50 / 165:  33%|██████▉              | 165/500 [01:53<03:50,  1.45it/s]textattack: Saving checkpoint under \"checkpoints\\1720263181301.ta.chkpt\" at 2024-07-06 18:53:01 after 165 attacks.\n"
     ]
    },
    {
     "name": "stdout",
     "output_type": "stream",
     "text": [
      "\n",
      "\n",
      "=============================================================================================================================\n",
      "=============================================================================================================================\n",
      "\n"
     ]
    },
    {
     "name": "stderr",
     "output_type": "stream",
     "text": [
      "[Succeeded / Failed / Skipped / Total] 58 / 60 / 52 / 170:  34%|███████▏             | 170/500 [01:55<03:44,  1.47it/s]textattack: Saving checkpoint under \"checkpoints\\1720263183411.ta.chkpt\" at 2024-07-06 18:53:03 after 170 attacks.\n"
     ]
    },
    {
     "name": "stdout",
     "output_type": "stream",
     "text": [
      "\n",
      "\n",
      "=============================================================================================================================\n",
      "=============================================================================================================================\n",
      "\n"
     ]
    },
    {
     "name": "stderr",
     "output_type": "stream",
     "text": [
      "[Succeeded / Failed / Skipped / Total] 59 / 64 / 52 / 175:  35%|███████▎             | 175/500 [02:03<03:48,  1.42it/s]textattack: Saving checkpoint under \"checkpoints\\1720263190630.ta.chkpt\" at 2024-07-06 18:53:10 after 175 attacks.\n",
      "[Succeeded / Failed / Skipped / Total] 59 / 64 / 53 / 176:  35%|███████▍             | 176/500 [02:03<03:46,  1.43it/s]"
     ]
    },
    {
     "name": "stdout",
     "output_type": "stream",
     "text": [
      "\n",
      "\n",
      "=============================================================================================================================\n",
      "=============================================================================================================================\n",
      "\n"
     ]
    },
    {
     "name": "stderr",
     "output_type": "stream",
     "text": [
      "[Succeeded / Failed / Skipped / Total] 60 / 67 / 53 / 180:  36%|███████▌             | 180/500 [02:05<03:43,  1.43it/s]textattack: Saving checkpoint under \"checkpoints\\1720263193459.ta.chkpt\" at 2024-07-06 18:53:13 after 180 attacks.\n"
     ]
    },
    {
     "name": "stdout",
     "output_type": "stream",
     "text": [
      "\n",
      "\n",
      "=============================================================================================================================\n",
      "=============================================================================================================================\n",
      "\n"
     ]
    },
    {
     "name": "stderr",
     "output_type": "stream",
     "text": [
      "[Succeeded / Failed / Skipped / Total] 61 / 69 / 55 / 185:  37%|███████▊             | 185/500 [02:07<03:37,  1.45it/s]textattack: Saving checkpoint under \"checkpoints\\1720263195459.ta.chkpt\" at 2024-07-06 18:53:15 after 185 attacks.\n",
      "[Succeeded / Failed / Skipped / Total] 61 / 69 / 56 / 186:  37%|███████▊             | 186/500 [02:07<03:35,  1.45it/s]"
     ]
    },
    {
     "name": "stdout",
     "output_type": "stream",
     "text": [
      "\n",
      "\n",
      "=============================================================================================================================\n",
      "=============================================================================================================================\n",
      "\n"
     ]
    },
    {
     "name": "stderr",
     "output_type": "stream",
     "text": [
      "[Succeeded / Failed / Skipped / Total] 62 / 72 / 56 / 190:  38%|███████▉             | 190/500 [02:13<03:37,  1.43it/s]textattack: Saving checkpoint under \"checkpoints\\1720263200709.ta.chkpt\" at 2024-07-06 18:53:20 after 190 attacks.\n"
     ]
    },
    {
     "name": "stdout",
     "output_type": "stream",
     "text": [
      "\n",
      "\n",
      "=============================================================================================================================\n",
      "=============================================================================================================================\n",
      "\n"
     ]
    },
    {
     "name": "stderr",
     "output_type": "stream",
     "text": [
      "[Succeeded / Failed / Skipped / Total] 63 / 74 / 58 / 195:  39%|████████▏            | 195/500 [02:17<03:35,  1.42it/s]textattack: Saving checkpoint under \"checkpoints\\1720263205397.ta.chkpt\" at 2024-07-06 18:53:25 after 195 attacks.\n"
     ]
    },
    {
     "name": "stdout",
     "output_type": "stream",
     "text": [
      "\n",
      "\n",
      "=============================================================================================================================\n",
      "=============================================================================================================================\n",
      "\n"
     ]
    },
    {
     "name": "stderr",
     "output_type": "stream",
     "text": [
      "[Succeeded / Failed / Skipped / Total] 64 / 77 / 59 / 200:  40%|████████▍            | 200/500 [02:24<03:36,  1.39it/s]textattack: Saving checkpoint under \"checkpoints\\1720263211772.ta.chkpt\" at 2024-07-06 18:53:31 after 200 attacks.\n"
     ]
    },
    {
     "name": "stdout",
     "output_type": "stream",
     "text": [
      "\n",
      "\n",
      "=============================================================================================================================\n",
      "=============================================================================================================================\n",
      "\n"
     ]
    },
    {
     "name": "stderr",
     "output_type": "stream",
     "text": [
      "[Succeeded / Failed / Skipped / Total] 64 / 81 / 60 / 205:  41%|████████▌            | 205/500 [02:27<03:32,  1.39it/s]textattack: Saving checkpoint under \"checkpoints\\1720263215384.ta.chkpt\" at 2024-07-06 18:53:35 after 205 attacks.\n"
     ]
    },
    {
     "name": "stdout",
     "output_type": "stream",
     "text": [
      "\n",
      "\n",
      "=============================================================================================================================\n",
      "=============================================================================================================================\n",
      "\n"
     ]
    },
    {
     "name": "stderr",
     "output_type": "stream",
     "text": [
      "[Succeeded / Failed / Skipped / Total] 66 / 83 / 61 / 210:  42%|████████▊            | 210/500 [02:31<03:29,  1.39it/s]textattack: Saving checkpoint under \"checkpoints\\1720263219134.ta.chkpt\" at 2024-07-06 18:53:39 after 210 attacks.\n"
     ]
    },
    {
     "name": "stdout",
     "output_type": "stream",
     "text": [
      "\n",
      "\n",
      "=============================================================================================================================\n",
      "=============================================================================================================================\n",
      "\n"
     ]
    },
    {
     "name": "stderr",
     "output_type": "stream",
     "text": [
      "[Succeeded / Failed / Skipped / Total] 68 / 85 / 62 / 215:  43%|█████████            | 215/500 [02:34<03:25,  1.39it/s]textattack: Saving checkpoint under \"checkpoints\\1720263222353.ta.chkpt\" at 2024-07-06 18:53:42 after 215 attacks.\n"
     ]
    },
    {
     "name": "stdout",
     "output_type": "stream",
     "text": [
      "\n",
      "\n",
      "=============================================================================================================================\n",
      "=============================================================================================================================\n",
      "\n"
     ]
    },
    {
     "name": "stderr",
     "output_type": "stream",
     "text": [
      "[Succeeded / Failed / Skipped / Total] 69 / 89 / 62 / 220:  44%|█████████▏           | 220/500 [02:38<03:22,  1.38it/s]textattack: Saving checkpoint under \"checkpoints\\1720263226603.ta.chkpt\" at 2024-07-06 18:53:46 after 220 attacks.\n"
     ]
    },
    {
     "name": "stdout",
     "output_type": "stream",
     "text": [
      "\n",
      "\n",
      "=============================================================================================================================\n",
      "=============================================================================================================================\n",
      "\n"
     ]
    },
    {
     "name": "stderr",
     "output_type": "stream",
     "text": [
      "[Succeeded / Failed / Skipped / Total] 70 / 91 / 64 / 225:  45%|█████████▍           | 225/500 [02:41<03:17,  1.39it/s]textattack: Saving checkpoint under \"checkpoints\\1720263229150.ta.chkpt\" at 2024-07-06 18:53:49 after 225 attacks.\n"
     ]
    },
    {
     "name": "stdout",
     "output_type": "stream",
     "text": [
      "\n",
      "\n",
      "=============================================================================================================================\n",
      "=============================================================================================================================\n",
      "\n"
     ]
    },
    {
     "name": "stderr",
     "output_type": "stream",
     "text": [
      "[Succeeded / Failed / Skipped / Total] 71 / 94 / 65 / 230:  46%|█████████▋           | 230/500 [02:44<03:13,  1.40it/s]textattack: Saving checkpoint under \"checkpoints\\1720263232229.ta.chkpt\" at 2024-07-06 18:53:52 after 230 attacks.\n",
      "[Succeeded / Failed / Skipped / Total] 71 / 94 / 66 / 231:  46%|█████████▋           | 231/500 [02:44<03:11,  1.40it/s]"
     ]
    },
    {
     "name": "stdout",
     "output_type": "stream",
     "text": [
      "\n",
      "\n",
      "=============================================================================================================================\n",
      "=============================================================================================================================\n",
      "\n"
     ]
    },
    {
     "name": "stderr",
     "output_type": "stream",
     "text": [
      "[Succeeded / Failed / Skipped / Total] 72 / 96 / 67 / 235:  47%|█████████▊           | 235/500 [02:47<03:08,  1.40it/s]textattack: Saving checkpoint under \"checkpoints\\1720263235057.ta.chkpt\" at 2024-07-06 18:53:55 after 235 attacks.\n"
     ]
    },
    {
     "name": "stdout",
     "output_type": "stream",
     "text": [
      "\n",
      "\n",
      "=============================================================================================================================\n",
      "=============================================================================================================================\n",
      "\n"
     ]
    },
    {
     "name": "stderr",
     "output_type": "stream",
     "text": [
      "[Succeeded / Failed / Skipped / Total] 73 / 100 / 67 / 240:  48%|█████████▌          | 240/500 [02:50<03:05,  1.40it/s]textattack: Saving checkpoint under \"checkpoints\\1720263238463.ta.chkpt\" at 2024-07-06 18:53:58 after 240 attacks.\n",
      "[Succeeded / Failed / Skipped / Total] 73 / 100 / 69 / 242:  48%|█████████▋          | 242/500 [02:51<03:02,  1.41it/s]"
     ]
    },
    {
     "name": "stdout",
     "output_type": "stream",
     "text": [
      "\n",
      "\n",
      "=============================================================================================================================\n",
      "=============================================================================================================================\n",
      "\n"
     ]
    },
    {
     "name": "stderr",
     "output_type": "stream",
     "text": [
      "[Succeeded / Failed / Skipped / Total] 74 / 102 / 69 / 245:  49%|█████████▊          | 245/500 [02:53<03:00,  1.41it/s]textattack: Saving checkpoint under \"checkpoints\\1720263241120.ta.chkpt\" at 2024-07-06 18:54:01 after 245 attacks.\n"
     ]
    },
    {
     "name": "stdout",
     "output_type": "stream",
     "text": [
      "\n",
      "\n",
      "=============================================================================================================================\n",
      "=============================================================================================================================\n",
      "\n"
     ]
    },
    {
     "name": "stderr",
     "output_type": "stream",
     "text": [
      "[Succeeded / Failed / Skipped / Total] 74 / 104 / 72 / 250:  50%|██████████          | 250/500 [02:55<02:55,  1.43it/s]textattack: Saving checkpoint under \"checkpoints\\1720263242651.ta.chkpt\" at 2024-07-06 18:54:02 after 250 attacks.\n",
      "[Succeeded / Failed / Skipped / Total] 74 / 104 / 73 / 251:  50%|██████████          | 251/500 [02:55<02:53,  1.43it/s]"
     ]
    },
    {
     "name": "stdout",
     "output_type": "stream",
     "text": [
      "\n",
      "\n",
      "=============================================================================================================================\n",
      "=============================================================================================================================\n",
      "\n"
     ]
    },
    {
     "name": "stderr",
     "output_type": "stream",
     "text": [
      "[Succeeded / Failed / Skipped / Total] 76 / 105 / 74 / 255:  51%|██████████▏         | 255/500 [02:58<02:51,  1.43it/s]textattack: Saving checkpoint under \"checkpoints\\1720263245948.ta.chkpt\" at 2024-07-06 18:54:05 after 255 attacks.\n"
     ]
    },
    {
     "name": "stdout",
     "output_type": "stream",
     "text": [
      "\n",
      "\n",
      "=============================================================================================================================\n",
      "=============================================================================================================================\n",
      "\n"
     ]
    },
    {
     "name": "stderr",
     "output_type": "stream",
     "text": [
      "[Succeeded / Failed / Skipped / Total] 77 / 107 / 76 / 260:  52%|██████████▍         | 260/500 [03:01<02:47,  1.44it/s]textattack: Saving checkpoint under \"checkpoints\\1720263248714.ta.chkpt\" at 2024-07-06 18:54:08 after 260 attacks.\n"
     ]
    },
    {
     "name": "stdout",
     "output_type": "stream",
     "text": [
      "\n",
      "\n",
      "=============================================================================================================================\n",
      "=============================================================================================================================\n",
      "\n"
     ]
    },
    {
     "name": "stderr",
     "output_type": "stream",
     "text": [
      "[Succeeded / Failed / Skipped / Total] 80 / 109 / 76 / 265:  53%|██████████▌         | 265/500 [03:04<02:43,  1.44it/s]textattack: Saving checkpoint under \"checkpoints\\1720263252183.ta.chkpt\" at 2024-07-06 18:54:12 after 265 attacks.\n"
     ]
    },
    {
     "name": "stdout",
     "output_type": "stream",
     "text": [
      "\n",
      "\n",
      "=============================================================================================================================\n",
      "=============================================================================================================================\n",
      "\n"
     ]
    },
    {
     "name": "stderr",
     "output_type": "stream",
     "text": [
      "[Succeeded / Failed / Skipped / Total] 81 / 111 / 78 / 270:  54%|██████████▊         | 270/500 [03:08<02:40,  1.43it/s]textattack: Saving checkpoint under \"checkpoints\\1720263256387.ta.chkpt\" at 2024-07-06 18:54:16 after 270 attacks.\n",
      "[Succeeded / Failed / Skipped / Total] 81 / 111 / 79 / 271:  54%|██████████▊         | 271/500 [03:08<02:39,  1.43it/s]"
     ]
    },
    {
     "name": "stdout",
     "output_type": "stream",
     "text": [
      "\n",
      "\n",
      "=============================================================================================================================\n",
      "=============================================================================================================================\n",
      "\n"
     ]
    },
    {
     "name": "stderr",
     "output_type": "stream",
     "text": [
      "[Succeeded / Failed / Skipped / Total] 82 / 113 / 80 / 275:  55%|███████████         | 275/500 [03:10<02:36,  1.44it/s]textattack: Saving checkpoint under \"checkpoints\\1720263258324.ta.chkpt\" at 2024-07-06 18:54:18 after 275 attacks.\n"
     ]
    },
    {
     "name": "stdout",
     "output_type": "stream",
     "text": [
      "\n",
      "\n",
      "=============================================================================================================================\n",
      "=============================================================================================================================\n",
      "\n"
     ]
    },
    {
     "name": "stderr",
     "output_type": "stream",
     "text": [
      "[Succeeded / Failed / Skipped / Total] 85 / 114 / 81 / 280:  56%|███████████▏        | 280/500 [03:14<02:32,  1.44it/s]textattack: Saving checkpoint under \"checkpoints\\1720263261762.ta.chkpt\" at 2024-07-06 18:54:21 after 280 attacks.\n"
     ]
    },
    {
     "name": "stdout",
     "output_type": "stream",
     "text": [
      "\n",
      "\n",
      "=============================================================================================================================\n",
      "=============================================================================================================================\n",
      "\n"
     ]
    },
    {
     "name": "stderr",
     "output_type": "stream",
     "text": [
      "[Succeeded / Failed / Skipped / Total] 87 / 116 / 82 / 285:  57%|███████████▍        | 285/500 [03:16<02:28,  1.45it/s]textattack: Saving checkpoint under \"checkpoints\\1720263264293.ta.chkpt\" at 2024-07-06 18:54:24 after 285 attacks.\n"
     ]
    },
    {
     "name": "stdout",
     "output_type": "stream",
     "text": [
      "\n",
      "\n",
      "=============================================================================================================================\n",
      "=============================================================================================================================\n",
      "\n"
     ]
    },
    {
     "name": "stderr",
     "output_type": "stream",
     "text": [
      "[Succeeded / Failed / Skipped / Total] 89 / 119 / 82 / 290:  58%|███████████▌        | 290/500 [03:21<02:26,  1.44it/s]textattack: Saving checkpoint under \"checkpoints\\1720263269481.ta.chkpt\" at 2024-07-06 18:54:29 after 290 attacks.\n",
      "[Succeeded / Failed / Skipped / Total] 89 / 119 / 84 / 292:  58%|███████████▋        | 292/500 [03:22<02:23,  1.45it/s]"
     ]
    },
    {
     "name": "stdout",
     "output_type": "stream",
     "text": [
      "\n",
      "\n",
      "=============================================================================================================================\n",
      "=============================================================================================================================\n",
      "\n"
     ]
    },
    {
     "name": "stderr",
     "output_type": "stream",
     "text": [
      "[Succeeded / Failed / Skipped / Total] 91 / 119 / 85 / 295:  59%|███████████▊        | 295/500 [03:24<02:21,  1.45it/s]textattack: Saving checkpoint under \"checkpoints\\1720263271669.ta.chkpt\" at 2024-07-06 18:54:31 after 295 attacks.\n"
     ]
    },
    {
     "name": "stdout",
     "output_type": "stream",
     "text": [
      "\n",
      "\n",
      "=============================================================================================================================\n",
      "=============================================================================================================================\n",
      "\n"
     ]
    },
    {
     "name": "stderr",
     "output_type": "stream",
     "text": [
      "[Succeeded / Failed / Skipped / Total] 92 / 121 / 87 / 300:  60%|████████████        | 300/500 [03:26<02:17,  1.45it/s]textattack: Saving checkpoint under \"checkpoints\\1720263273997.ta.chkpt\" at 2024-07-06 18:54:33 after 300 attacks.\n"
     ]
    },
    {
     "name": "stdout",
     "output_type": "stream",
     "text": [
      "\n",
      "\n",
      "=============================================================================================================================\n",
      "=============================================================================================================================\n",
      "\n"
     ]
    },
    {
     "name": "stderr",
     "output_type": "stream",
     "text": [
      "[Succeeded / Failed / Skipped / Total] 93 / 122 / 90 / 305:  61%|████████████▏       | 305/500 [03:28<02:12,  1.47it/s]textattack: Saving checkpoint under \"checkpoints\\1720263275608.ta.chkpt\" at 2024-07-06 18:54:35 after 305 attacks.\n"
     ]
    },
    {
     "name": "stdout",
     "output_type": "stream",
     "text": [
      "\n",
      "\n",
      "=============================================================================================================================\n",
      "=============================================================================================================================\n",
      "\n"
     ]
    },
    {
     "name": "stderr",
     "output_type": "stream",
     "text": [
      "[Succeeded / Failed / Skipped / Total] 93 / 126 / 91 / 310:  62%|████████████▍       | 310/500 [03:30<02:08,  1.47it/s]textattack: Saving checkpoint under \"checkpoints\\1720263277796.ta.chkpt\" at 2024-07-06 18:54:37 after 310 attacks.\n"
     ]
    },
    {
     "name": "stdout",
     "output_type": "stream",
     "text": [
      "\n",
      "\n",
      "=============================================================================================================================\n",
      "=============================================================================================================================\n",
      "\n"
     ]
    },
    {
     "name": "stderr",
     "output_type": "stream",
     "text": [
      "[Succeeded / Failed / Skipped / Total] 93 / 129 / 93 / 315:  63%|████████████▌       | 315/500 [03:32<02:04,  1.48it/s]textattack: Saving checkpoint under \"checkpoints\\1720263280436.ta.chkpt\" at 2024-07-06 18:54:40 after 315 attacks.\n",
      "[Succeeded / Failed / Skipped / Total] 93 / 129 / 94 / 316:  63%|████████████▋       | 316/500 [03:32<02:03,  1.48it/s]"
     ]
    },
    {
     "name": "stdout",
     "output_type": "stream",
     "text": [
      "\n",
      "\n",
      "=============================================================================================================================\n",
      "=============================================================================================================================\n",
      "\n"
     ]
    },
    {
     "name": "stderr",
     "output_type": "stream",
     "text": [
      "[Succeeded / Failed / Skipped / Total] 93 / 131 / 96 / 320:  64%|████████████▊       | 320/500 [03:37<02:02,  1.47it/s]textattack: Saving checkpoint under \"checkpoints\\1720263284671.ta.chkpt\" at 2024-07-06 18:54:44 after 320 attacks.\n",
      "[Succeeded / Failed / Skipped / Total] 93 / 131 / 97 / 321:  64%|████████████▊       | 321/500 [03:37<02:01,  1.48it/s]"
     ]
    },
    {
     "name": "stdout",
     "output_type": "stream",
     "text": [
      "\n",
      "\n",
      "=============================================================================================================================\n",
      "=============================================================================================================================\n",
      "\n"
     ]
    },
    {
     "name": "stderr",
     "output_type": "stream",
     "text": [
      "[Succeeded / Failed / Skipped / Total] 93 / 135 / 97 / 325:  65%|█████████████       | 325/500 [03:42<02:00,  1.46it/s]textattack: Saving checkpoint under \"checkpoints\\1720263290484.ta.chkpt\" at 2024-07-06 18:54:50 after 325 attacks.\n",
      "[Succeeded / Failed / Skipped / Total] 93 / 135 / 98 / 326:  65%|█████████████       | 326/500 [03:42<01:59,  1.46it/s]"
     ]
    },
    {
     "name": "stdout",
     "output_type": "stream",
     "text": [
      "\n",
      "\n",
      "=============================================================================================================================\n",
      "=============================================================================================================================\n",
      "\n"
     ]
    },
    {
     "name": "stderr",
     "output_type": "stream",
     "text": [
      "[Succeeded / Failed / Skipped / Total] 95 / 137 / 98 / 330:  66%|█████████████▏      | 330/500 [03:45<01:56,  1.46it/s]textattack: Saving checkpoint under \"checkpoints\\1720263293375.ta.chkpt\" at 2024-07-06 18:54:53 after 330 attacks.\n"
     ]
    },
    {
     "name": "stdout",
     "output_type": "stream",
     "text": [
      "\n",
      "\n",
      "=============================================================================================================================\n",
      "=============================================================================================================================\n",
      "\n"
     ]
    },
    {
     "name": "stderr",
     "output_type": "stream",
     "text": [
      "[Succeeded / Failed / Skipped / Total] 96 / 141 / 98 / 335:  67%|█████████████▍      | 335/500 [03:53<01:54,  1.44it/s]textattack: Saving checkpoint under \"checkpoints\\1720263300906.ta.chkpt\" at 2024-07-06 18:55:00 after 335 attacks.\n"
     ]
    },
    {
     "name": "stdout",
     "output_type": "stream",
     "text": [
      "\n",
      "\n",
      "=============================================================================================================================\n",
      "=============================================================================================================================\n",
      "\n"
     ]
    },
    {
     "name": "stderr",
     "output_type": "stream",
     "text": [
      "[Succeeded / Failed / Skipped / Total] 98 / 143 / 99 / 340:  68%|█████████████▌      | 340/500 [03:56<01:51,  1.43it/s]textattack: Saving checkpoint under \"checkpoints\\1720263304579.ta.chkpt\" at 2024-07-06 18:55:04 after 340 attacks.\n"
     ]
    },
    {
     "name": "stdout",
     "output_type": "stream",
     "text": [
      "\n",
      "\n",
      "=============================================================================================================================\n",
      "=============================================================================================================================\n",
      "\n"
     ]
    },
    {
     "name": "stderr",
     "output_type": "stream",
     "text": [
      "[Succeeded / Failed / Skipped / Total] 99 / 145 / 101 / 345:  69%|█████████████      | 345/500 [03:59<01:47,  1.44it/s]textattack: Saving checkpoint under \"checkpoints\\1720263307110.ta.chkpt\" at 2024-07-06 18:55:07 after 345 attacks.\n"
     ]
    },
    {
     "name": "stdout",
     "output_type": "stream",
     "text": [
      "\n",
      "\n",
      "=============================================================================================================================\n",
      "=============================================================================================================================\n",
      "\n"
     ]
    },
    {
     "name": "stderr",
     "output_type": "stream",
     "text": [
      "[Succeeded / Failed / Skipped / Total] 101 / 148 / 101 / 350:  70%|████████████▌     | 350/500 [04:04<01:44,  1.43it/s]textattack: Saving checkpoint under \"checkpoints\\1720263312001.ta.chkpt\" at 2024-07-06 18:55:12 after 350 attacks.\n"
     ]
    },
    {
     "name": "stdout",
     "output_type": "stream",
     "text": [
      "\n",
      "\n",
      "=============================================================================================================================\n",
      "=============================================================================================================================\n",
      "\n"
     ]
    },
    {
     "name": "stderr",
     "output_type": "stream",
     "text": [
      "[Succeeded / Failed / Skipped / Total] 104 / 150 / 101 / 355:  71%|████████████▊     | 355/500 [04:09<01:42,  1.42it/s]textattack: Saving checkpoint under \"checkpoints\\1720263317501.ta.chkpt\" at 2024-07-06 18:55:17 after 355 attacks.\n"
     ]
    },
    {
     "name": "stdout",
     "output_type": "stream",
     "text": [
      "\n",
      "\n",
      "=============================================================================================================================\n",
      "=============================================================================================================================\n",
      "\n"
     ]
    },
    {
     "name": "stderr",
     "output_type": "stream",
     "text": [
      "[Succeeded / Failed / Skipped / Total] 106 / 151 / 103 / 360:  72%|████████████▉     | 360/500 [04:11<01:37,  1.43it/s]textattack: Saving checkpoint under \"checkpoints\\1720263319330.ta.chkpt\" at 2024-07-06 18:55:19 after 360 attacks.\n"
     ]
    },
    {
     "name": "stdout",
     "output_type": "stream",
     "text": [
      "\n",
      "\n",
      "=============================================================================================================================\n",
      "=============================================================================================================================\n",
      "\n"
     ]
    },
    {
     "name": "stderr",
     "output_type": "stream",
     "text": [
      "[Succeeded / Failed / Skipped / Total] 107 / 155 / 103 / 365:  73%|█████████████▏    | 365/500 [04:15<01:34,  1.43it/s]textattack: Saving checkpoint under \"checkpoints\\1720263323533.ta.chkpt\" at 2024-07-06 18:55:23 after 365 attacks.\n"
     ]
    },
    {
     "name": "stdout",
     "output_type": "stream",
     "text": [
      "\n",
      "\n",
      "=============================================================================================================================\n",
      "=============================================================================================================================\n",
      "\n"
     ]
    },
    {
     "name": "stderr",
     "output_type": "stream",
     "text": [
      "[Succeeded / Failed / Skipped / Total] 109 / 157 / 104 / 370:  74%|█████████████▎    | 370/500 [04:18<01:30,  1.43it/s]textattack: Saving checkpoint under \"checkpoints\\1720263326393.ta.chkpt\" at 2024-07-06 18:55:26 after 370 attacks.\n"
     ]
    },
    {
     "name": "stdout",
     "output_type": "stream",
     "text": [
      "\n",
      "\n",
      "=============================================================================================================================\n",
      "=============================================================================================================================\n",
      "\n"
     ]
    },
    {
     "name": "stderr",
     "output_type": "stream",
     "text": [
      "[Succeeded / Failed / Skipped / Total] 112 / 158 / 105 / 375:  75%|█████████████▌    | 375/500 [04:24<01:28,  1.42it/s]textattack: Saving checkpoint under \"checkpoints\\1720263331737.ta.chkpt\" at 2024-07-06 18:55:31 after 375 attacks.\n"
     ]
    },
    {
     "name": "stdout",
     "output_type": "stream",
     "text": [
      "\n",
      "\n",
      "=============================================================================================================================\n",
      "=============================================================================================================================\n",
      "\n"
     ]
    },
    {
     "name": "stderr",
     "output_type": "stream",
     "text": [
      "[Succeeded / Failed / Skipped / Total] 113 / 161 / 106 / 380:  76%|█████████████▋    | 380/500 [04:26<01:24,  1.43it/s]textattack: Saving checkpoint under \"checkpoints\\1720263334190.ta.chkpt\" at 2024-07-06 18:55:34 after 380 attacks.\n"
     ]
    },
    {
     "name": "stdout",
     "output_type": "stream",
     "text": [
      "\n",
      "\n",
      "=============================================================================================================================\n",
      "=============================================================================================================================\n",
      "\n"
     ]
    },
    {
     "name": "stderr",
     "output_type": "stream",
     "text": [
      "[Succeeded / Failed / Skipped / Total] 114 / 164 / 107 / 385:  77%|█████████████▊    | 385/500 [04:28<01:20,  1.43it/s]textattack: Saving checkpoint under \"checkpoints\\1720263336143.ta.chkpt\" at 2024-07-06 18:55:36 after 385 attacks.\n"
     ]
    },
    {
     "name": "stdout",
     "output_type": "stream",
     "text": [
      "\n",
      "\n",
      "=============================================================================================================================\n",
      "=============================================================================================================================\n",
      "\n"
     ]
    },
    {
     "name": "stderr",
     "output_type": "stream",
     "text": [
      "[Succeeded / Failed / Skipped / Total] 115 / 167 / 108 / 390:  78%|██████████████    | 390/500 [04:31<01:16,  1.44it/s]textattack: Saving checkpoint under \"checkpoints\\1720263338706.ta.chkpt\" at 2024-07-06 18:55:38 after 390 attacks.\n"
     ]
    },
    {
     "name": "stdout",
     "output_type": "stream",
     "text": [
      "\n",
      "\n",
      "=============================================================================================================================\n",
      "=============================================================================================================================\n",
      "\n"
     ]
    },
    {
     "name": "stderr",
     "output_type": "stream",
     "text": [
      "[Succeeded / Failed / Skipped / Total] 117 / 170 / 108 / 395:  79%|██████████████▏   | 395/500 [04:36<01:13,  1.43it/s]textattack: Saving checkpoint under \"checkpoints\\1720263344222.ta.chkpt\" at 2024-07-06 18:55:44 after 395 attacks.\n"
     ]
    },
    {
     "name": "stdout",
     "output_type": "stream",
     "text": [
      "\n",
      "\n",
      "=============================================================================================================================\n",
      "=============================================================================================================================\n",
      "\n"
     ]
    },
    {
     "name": "stderr",
     "output_type": "stream",
     "text": [
      "[Succeeded / Failed / Skipped / Total] 119 / 173 / 108 / 400:  80%|██████████████▍   | 400/500 [04:41<01:10,  1.42it/s]textattack: Saving checkpoint under \"checkpoints\\1720263349410.ta.chkpt\" at 2024-07-06 18:55:49 after 400 attacks.\n",
      "[Succeeded / Failed / Skipped / Total] 119 / 173 / 109 / 401:  80%|██████████████▍   | 401/500 [04:41<01:09,  1.42it/s]"
     ]
    },
    {
     "name": "stdout",
     "output_type": "stream",
     "text": [
      "\n",
      "\n",
      "=============================================================================================================================\n",
      "=============================================================================================================================\n",
      "\n"
     ]
    },
    {
     "name": "stderr",
     "output_type": "stream",
     "text": [
      "[Succeeded / Failed / Skipped / Total] 121 / 175 / 109 / 405:  81%|██████████████▌   | 405/500 [04:46<01:07,  1.41it/s]textattack: Saving checkpoint under \"checkpoints\\1720263354332.ta.chkpt\" at 2024-07-06 18:55:54 after 405 attacks.\n"
     ]
    },
    {
     "name": "stdout",
     "output_type": "stream",
     "text": [
      "\n",
      "\n",
      "=============================================================================================================================\n",
      "=============================================================================================================================\n",
      "\n"
     ]
    },
    {
     "name": "stderr",
     "output_type": "stream",
     "text": [
      "[Succeeded / Failed / Skipped / Total] 123 / 177 / 110 / 410:  82%|██████████████▊   | 410/500 [04:48<01:03,  1.42it/s]textattack: Saving checkpoint under \"checkpoints\\1720263356567.ta.chkpt\" at 2024-07-06 18:55:56 after 410 attacks.\n"
     ]
    },
    {
     "name": "stdout",
     "output_type": "stream",
     "text": [
      "\n",
      "\n",
      "=============================================================================================================================\n",
      "=============================================================================================================================\n",
      "\n"
     ]
    },
    {
     "name": "stderr",
     "output_type": "stream",
     "text": [
      "[Succeeded / Failed / Skipped / Total] 126 / 177 / 112 / 415:  83%|██████████████▉   | 415/500 [04:50<00:59,  1.43it/s]textattack: Saving checkpoint under \"checkpoints\\1720263358364.ta.chkpt\" at 2024-07-06 18:55:58 after 415 attacks.\n"
     ]
    },
    {
     "name": "stdout",
     "output_type": "stream",
     "text": [
      "\n",
      "\n",
      "=============================================================================================================================\n",
      "=============================================================================================================================\n",
      "\n"
     ]
    },
    {
     "name": "stderr",
     "output_type": "stream",
     "text": [
      "[Succeeded / Failed / Skipped / Total] 126 / 180 / 114 / 420:  84%|███████████████   | 420/500 [04:56<00:56,  1.42it/s]textattack: Saving checkpoint under \"checkpoints\\1720263363614.ta.chkpt\" at 2024-07-06 18:56:03 after 420 attacks.\n"
     ]
    },
    {
     "name": "stdout",
     "output_type": "stream",
     "text": [
      "\n",
      "\n",
      "=============================================================================================================================\n",
      "=============================================================================================================================\n",
      "\n"
     ]
    },
    {
     "name": "stderr",
     "output_type": "stream",
     "text": [
      "[Succeeded / Failed / Skipped / Total] 127 / 184 / 114 / 425:  85%|███████████████▎  | 425/500 [05:01<00:53,  1.41it/s]textattack: Saving checkpoint under \"checkpoints\\1720263369052.ta.chkpt\" at 2024-07-06 18:56:09 after 425 attacks.\n"
     ]
    },
    {
     "name": "stdout",
     "output_type": "stream",
     "text": [
      "\n",
      "\n",
      "=============================================================================================================================\n",
      "=============================================================================================================================\n",
      "\n"
     ]
    },
    {
     "name": "stderr",
     "output_type": "stream",
     "text": [
      "[Succeeded / Failed / Skipped / Total] 130 / 186 / 114 / 430:  86%|███████████████▍  | 430/500 [05:05<00:49,  1.41it/s]textattack: Saving checkpoint under \"checkpoints\\1720263373099.ta.chkpt\" at 2024-07-06 18:56:13 after 430 attacks.\n",
      "[Succeeded / Failed / Skipped / Total] 130 / 186 / 115 / 431:  86%|███████████████▌  | 431/500 [05:05<00:48,  1.41it/s]"
     ]
    },
    {
     "name": "stdout",
     "output_type": "stream",
     "text": [
      "\n",
      "\n",
      "=============================================================================================================================\n",
      "=============================================================================================================================\n",
      "\n"
     ]
    },
    {
     "name": "stderr",
     "output_type": "stream",
     "text": [
      "[Succeeded / Failed / Skipped / Total] 134 / 186 / 115 / 435:  87%|███████████████▋  | 435/500 [05:07<00:45,  1.42it/s]textattack: Saving checkpoint under \"checkpoints\\1720263374865.ta.chkpt\" at 2024-07-06 18:56:14 after 435 attacks.\n"
     ]
    },
    {
     "name": "stdout",
     "output_type": "stream",
     "text": [
      "\n",
      "\n",
      "=============================================================================================================================\n",
      "=============================================================================================================================\n",
      "\n"
     ]
    },
    {
     "name": "stderr",
     "output_type": "stream",
     "text": [
      "[Succeeded / Failed / Skipped / Total] 137 / 188 / 115 / 440:  88%|███████████████▊  | 440/500 [05:11<00:42,  1.41it/s]textattack: Saving checkpoint under \"checkpoints\\1720263378677.ta.chkpt\" at 2024-07-06 18:56:18 after 440 attacks.\n",
      "[Succeeded / Failed / Skipped / Total] 137 / 188 / 116 / 441:  88%|███████████████▉  | 441/500 [05:11<00:41,  1.42it/s]"
     ]
    },
    {
     "name": "stdout",
     "output_type": "stream",
     "text": [
      "\n",
      "\n",
      "=============================================================================================================================\n",
      "=============================================================================================================================\n",
      "\n"
     ]
    },
    {
     "name": "stderr",
     "output_type": "stream",
     "text": [
      "[Succeeded / Failed / Skipped / Total] 139 / 189 / 117 / 445:  89%|████████████████  | 445/500 [05:12<00:38,  1.42it/s]textattack: Saving checkpoint under \"checkpoints\\1720263380365.ta.chkpt\" at 2024-07-06 18:56:20 after 445 attacks.\n"
     ]
    },
    {
     "name": "stdout",
     "output_type": "stream",
     "text": [
      "\n",
      "\n",
      "=============================================================================================================================\n",
      "=============================================================================================================================\n",
      "\n"
     ]
    },
    {
     "name": "stderr",
     "output_type": "stream",
     "text": [
      "[Succeeded / Failed / Skipped / Total] 141 / 191 / 118 / 450:  90%|████████████████▏ | 450/500 [05:16<00:35,  1.42it/s]textattack: Saving checkpoint under \"checkpoints\\1720263383725.ta.chkpt\" at 2024-07-06 18:56:23 after 450 attacks.\n",
      "[Succeeded / Failed / Skipped / Total] 141 / 191 / 119 / 451:  90%|████████████████▏ | 451/500 [05:16<00:34,  1.43it/s]"
     ]
    },
    {
     "name": "stdout",
     "output_type": "stream",
     "text": [
      "\n",
      "\n",
      "=============================================================================================================================\n",
      "=============================================================================================================================\n",
      "\n"
     ]
    },
    {
     "name": "stderr",
     "output_type": "stream",
     "text": [
      "[Succeeded / Failed / Skipped / Total] 142 / 193 / 120 / 455:  91%|████████████████▍ | 455/500 [05:19<00:31,  1.43it/s]textattack: Saving checkpoint under \"checkpoints\\1720263386787.ta.chkpt\" at 2024-07-06 18:56:26 after 455 attacks.\n"
     ]
    },
    {
     "name": "stdout",
     "output_type": "stream",
     "text": [
      "\n",
      "\n",
      "=============================================================================================================================\n",
      "=============================================================================================================================\n",
      "\n"
     ]
    },
    {
     "name": "stderr",
     "output_type": "stream",
     "text": [
      "[Succeeded / Failed / Skipped / Total] 146 / 194 / 120 / 460:  92%|████████████████▌ | 460/500 [05:25<00:28,  1.41it/s]textattack: Saving checkpoint under \"checkpoints\\1720263392902.ta.chkpt\" at 2024-07-06 18:56:32 after 460 attacks.\n"
     ]
    },
    {
     "name": "stdout",
     "output_type": "stream",
     "text": [
      "\n",
      "\n",
      "=============================================================================================================================\n",
      "=============================================================================================================================\n",
      "\n"
     ]
    },
    {
     "name": "stderr",
     "output_type": "stream",
     "text": [
      "[Succeeded / Failed / Skipped / Total] 147 / 196 / 122 / 465:  93%|████████████████▋ | 465/500 [05:28<00:24,  1.42it/s]textattack: Saving checkpoint under \"checkpoints\\1720263395777.ta.chkpt\" at 2024-07-06 18:56:35 after 465 attacks.\n"
     ]
    },
    {
     "name": "stdout",
     "output_type": "stream",
     "text": [
      "\n",
      "\n",
      "=============================================================================================================================\n",
      "=============================================================================================================================\n",
      "\n"
     ]
    },
    {
     "name": "stderr",
     "output_type": "stream",
     "text": [
      "[Succeeded / Failed / Skipped / Total] 148 / 199 / 123 / 470:  94%|████████████████▉ | 470/500 [05:31<00:21,  1.42it/s]textattack: Saving checkpoint under \"checkpoints\\1720263398996.ta.chkpt\" at 2024-07-06 18:56:38 after 470 attacks.\n",
      "[Succeeded / Failed / Skipped / Total] 148 / 199 / 124 / 471:  94%|████████████████▉ | 471/500 [05:31<00:20,  1.42it/s]"
     ]
    },
    {
     "name": "stdout",
     "output_type": "stream",
     "text": [
      "\n",
      "\n",
      "=============================================================================================================================\n",
      "=============================================================================================================================\n",
      "\n"
     ]
    },
    {
     "name": "stderr",
     "output_type": "stream",
     "text": [
      "[Succeeded / Failed / Skipped / Total] 150 / 201 / 124 / 475:  95%|█████████████████ | 475/500 [05:35<00:17,  1.42it/s]textattack: Saving checkpoint under \"checkpoints\\1720263402855.ta.chkpt\" at 2024-07-06 18:56:42 after 475 attacks.\n"
     ]
    },
    {
     "name": "stdout",
     "output_type": "stream",
     "text": [
      "\n",
      "\n",
      "=============================================================================================================================\n",
      "=============================================================================================================================\n",
      "\n"
     ]
    },
    {
     "name": "stderr",
     "output_type": "stream",
     "text": [
      "[Succeeded / Failed / Skipped / Total] 154 / 202 / 124 / 480:  96%|█████████████████▎| 480/500 [05:39<00:14,  1.41it/s]textattack: Saving checkpoint under \"checkpoints\\1720263406887.ta.chkpt\" at 2024-07-06 18:56:46 after 480 attacks.\n"
     ]
    },
    {
     "name": "stdout",
     "output_type": "stream",
     "text": [
      "\n",
      "\n",
      "=============================================================================================================================\n",
      "=============================================================================================================================\n",
      "\n"
     ]
    },
    {
     "name": "stderr",
     "output_type": "stream",
     "text": [
      "[Succeeded / Failed / Skipped / Total] 155 / 205 / 125 / 485:  97%|█████████████████▍| 485/500 [05:43<00:10,  1.41it/s]textattack: Saving checkpoint under \"checkpoints\\1720263411387.ta.chkpt\" at 2024-07-06 18:56:51 after 485 attacks.\n"
     ]
    },
    {
     "name": "stdout",
     "output_type": "stream",
     "text": [
      "\n",
      "\n",
      "=============================================================================================================================\n",
      "=============================================================================================================================\n",
      "\n"
     ]
    },
    {
     "name": "stderr",
     "output_type": "stream",
     "text": [
      "[Succeeded / Failed / Skipped / Total] 155 / 207 / 128 / 490:  98%|█████████████████▋| 490/500 [05:45<00:07,  1.42it/s]textattack: Saving checkpoint under \"checkpoints\\1720263413403.ta.chkpt\" at 2024-07-06 18:56:53 after 490 attacks.\n"
     ]
    },
    {
     "name": "stdout",
     "output_type": "stream",
     "text": [
      "\n",
      "\n",
      "=============================================================================================================================\n",
      "=============================================================================================================================\n",
      "\n"
     ]
    },
    {
     "name": "stderr",
     "output_type": "stream",
     "text": [
      "[Succeeded / Failed / Skipped / Total] 156 / 210 / 129 / 495:  99%|█████████████████▊| 495/500 [05:49<00:03,  1.42it/s]textattack: Saving checkpoint under \"checkpoints\\1720263417122.ta.chkpt\" at 2024-07-06 18:56:57 after 495 attacks.\n"
     ]
    },
    {
     "name": "stdout",
     "output_type": "stream",
     "text": [
      "\n",
      "\n",
      "=============================================================================================================================\n",
      "=============================================================================================================================\n",
      "\n"
     ]
    },
    {
     "name": "stderr",
     "output_type": "stream",
     "text": [
      "[Succeeded / Failed / Skipped / Total] 160 / 211 / 129 / 500: 100%|██████████████████| 500/500 [05:54<00:00,  1.41it/s]textattack: Saving checkpoint under \"checkpoints\\1720263421841.ta.chkpt\" at 2024-07-06 18:57:01 after 500 attacks.\n",
      "[Succeeded / Failed / Skipped / Total] 160 / 211 / 129 / 500: 100%|██████████████████| 500/500 [05:54<00:00,  1.41it/s]"
     ]
    },
    {
     "name": "stdout",
     "output_type": "stream",
     "text": [
      "\n",
      "\n",
      "=============================================================================================================================\n",
      "=============================================================================================================================\n",
      "\n",
      "\n",
      "+-------------------------------+--------+\n",
      "| Attack Results                |        |\n",
      "+-------------------------------+--------+\n",
      "| Number of successful attacks: | 160    |\n",
      "| Number of failed attacks:     | 211    |\n",
      "| Number of skipped attacks:    | 129    |\n",
      "| Original accuracy:            | 74.2%  |\n",
      "| Accuracy under attack:        | 42.2%  |\n",
      "| Attack success rate:          | 43.13% |\n",
      "| Average perturbed word %:     | 14.94% |\n",
      "| Average num. words per input: | 18.4   |\n",
      "| Avg num queries:              | 21.01  |\n",
      "+-------------------------------+--------+\n"
     ]
    },
    {
     "name": "stderr",
     "output_type": "stream",
     "text": [
      "\n"
     ]
    }
   ],
   "source": [
    "runAttack(clip_model_wrapper_svc_mr, n_samples, 'attack_results_new/clipmrattacksvc'+suffix, target_ds_mr)"
   ]
  }
 ],
 "metadata": {
  "kernelspec": {
   "display_name": "Python 3 (ipykernel)",
   "language": "python",
   "name": "python3"
  },
  "language_info": {
   "codemirror_mode": {
    "name": "ipython",
    "version": 3
   },
   "file_extension": ".py",
   "mimetype": "text/x-python",
   "name": "python",
   "nbconvert_exporter": "python",
   "pygments_lexer": "ipython3",
   "version": "3.10.13"
  }
 },
 "nbformat": 4,
 "nbformat_minor": 5
}
