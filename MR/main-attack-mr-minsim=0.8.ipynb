{
 "cells": [
  {
   "cell_type": "code",
   "execution_count": 1,
   "id": "b8fb6a0b-f6d4-4649-ae5c-6bccc44bea08",
   "metadata": {
    "scrolled": true
   },
   "outputs": [],
   "source": [
    "#!pip install textattack[tensorflow,optional]\n",
    "#!pip install -U datasets"
   ]
  },
  {
   "cell_type": "code",
   "execution_count": 2,
   "id": "a6a32e48-d2fa-4420-8c45-3f9fe99d0526",
   "metadata": {},
   "outputs": [
    {
     "name": "stderr",
     "output_type": "stream",
     "text": [
      "D:\\anaconda3\\envs\\tf\\lib\\site-packages\\torchvision\\io\\image.py:13: UserWarning: Failed to load image Python extension: '[WinError 127] 找不到指定的程序。'If you don't plan on using image functionality from `torchvision.io`, you can ignore this warning. Otherwise, there might be something wrong with your environment. Did you have `libjpeg` or `libpng` installed before building `torchvision` from source?\n",
      "  warn(\n",
      "D:\\anaconda3\\envs\\tf\\lib\\site-packages\\tqdm\\auto.py:21: TqdmWarning: IProgress not found. Please update jupyter and ipywidgets. See https://ipywidgets.readthedocs.io/en/stable/user_install.html\n",
      "  from .autonotebook import tqdm as notebook_tqdm\n",
      "D:\\anaconda3\\envs\\tf\\lib\\site-packages\\transformers\\utils\\generic.py:260: UserWarning: torch.utils._pytree._register_pytree_node is deprecated. Please use torch.utils._pytree.register_pytree_node instead.\n",
      "  torch.utils._pytree._register_pytree_node(\n",
      "D:\\anaconda3\\envs\\tf\\lib\\site-packages\\transformers\\utils\\generic.py:260: UserWarning: torch.utils._pytree._register_pytree_node is deprecated. Please use torch.utils._pytree.register_pytree_node instead.\n",
      "  torch.utils._pytree._register_pytree_node(\n"
     ]
    }
   ],
   "source": [
    "import os\n",
    "import datetime\n",
    "\n",
    "import numpy as np\n",
    "import pandas as pd\n",
    "\n",
    "import torch\n",
    "import torch.nn as nn\n",
    "from torch.utils.data import DataLoader, Dataset\n",
    "import torchvision\n",
    "import tensorflow as tf\n",
    "import transformers\n",
    "from transformers import CLIPProcessor, CLIPModel\n",
    "\n",
    "import textattack\n",
    "from textattack.models.wrappers import HuggingFaceModelWrapper\n",
    "\n",
    "from sklearn.linear_model import LogisticRegression\n",
    "from sklearn.ensemble import RandomForestClassifier\n",
    "from sklearn.neighbors import KNeighborsClassifier\n",
    "from sklearn.svm import SVC\n"
   ]
  },
  {
   "cell_type": "code",
   "execution_count": 3,
   "id": "9757d84d-991f-41e0-987c-13829acd0d2d",
   "metadata": {},
   "outputs": [],
   "source": [
    "from textattack import Attack\n",
    "from textattack.constraints.grammaticality import PartOfSpeech\n",
    "from textattack.constraints.pre_transformation import (\n",
    "    InputColumnModification,\n",
    "    RepeatModification,\n",
    "    StopwordModification,\n",
    ")\n",
    "from textattack.constraints.semantics import WordEmbeddingDistance\n",
    "from textattack.constraints.semantics.sentence_encoders import UniversalSentenceEncoder\n",
    "from textattack.goal_functions import UntargetedClassification\n",
    "from textattack.search_methods import GreedyWordSwapWIR\n",
    "from textattack.transformations import WordSwapEmbedding, WordSwapWordNet \n",
    "\n",
    "from textattack.transformations.composite_transformation import CompositeTransformation\n",
    "\n",
    "from textattack.attack_recipes.attack_recipe import AttackRecipe\n",
    "\n",
    "class TFLepsilon(AttackRecipe):\n",
    "\n",
    "    @staticmethod\n",
    "    def build(model_wrapper):\n",
    "        #\n",
    "        # Swap words with their 50 closest embedding nearest-neighbors.\n",
    "        # Embedding: Counter-fitted PARAGRAM-SL999 vectors.\n",
    "        \n",
    "        ## transformation = CompositeTransformation([WordSwapWordNet(), WordSwapEmbedding(max_candidates=50)])\n",
    "        transformation = WordSwapEmbedding(max_candidates=50)\n",
    "        #\n",
    "        # Don't modify the same word twice or the stopwords defined\n",
    "        # in the TextFooler public implementation.\n",
    "        #\n",
    "        # fmt: off\n",
    "        stopwords = set(\n",
    "            [\"a\", \"about\", \"above\", \"across\", \"after\", \"afterwards\", \"again\", \"against\", \"ain\", \"all\", \n",
    "             \"almost\", \"alone\", \"along\", \"already\", \"also\", \"although\", \"am\", \"among\", \"amongst\", \"an\", \n",
    "             \"and\", \"another\", \"any\", \"anyhow\", \"anyone\", \"anything\", \"anyway\", \"anywhere\", \"are\", \"aren\",\n",
    "             \"aren't\", \"around\", \"as\", \"at\", \"back\", \"been\", \"before\", \"beforehand\", \"behind\", \"being\", \n",
    "             \"below\", \"beside\", \"besides\", \"between\", \"beyond\", \"both\", \"but\", \"by\", \"can\", \"cannot\", \n",
    "             \"could\", \"couldn\", \"couldn't\", \"d\", \"didn\", \"didn't\", \"doesn\", \"doesn't\", \"don\", \"don't\", \n",
    "             \"down\", \"due\", \"during\", \"either\", \"else\", \"elsewhere\", \"empty\", \"enough\", \"even\", \"ever\", \n",
    "             \"everyone\", \"everything\", \"everywhere\", \"except\", \"first\", \"for\", \"former\", \"formerly\",\n",
    "             \"from\", \"hadn\", \"hadn't\", \"hasn\", \"hasn't\", \"haven\", \"haven't\", \"he\", \"hence\", \"her\", \"here\", \n",
    "             \"hereafter\", \"hereby\", \"herein\", \"hereupon\", \"hers\", \"herself\", \"him\", \"himself\", \"his\", \"how\", \n",
    "             \"however\", \"hundred\", \"i\", \"if\", \"in\", \"indeed\", \"into\", \"is\", \"isn\", \"isn't\", \"it\", \"it's\", \n",
    "             \"its\", \"itself\", \"just\", \"latter\", \"latterly\", \"least\", \"ll\", \"may\", \"me\", \"meanwhile\", \n",
    "             \"mightn\", \"mightn't\", \"mine\", \"more\", \"moreover\", \"most\", \"mostly\", \"must\", \"mustn\", \"mustn't\", \n",
    "             \"my\", \"myself\", \"namely\", \"needn\", \"needn't\", \"neither\", \"never\", \"nevertheless\", \"next\", \"no\",\n",
    "             \"nobody\", \"none\", \"noone\", \"nor\", \"not\", \"nothing\", \"now\", \"nowhere\", \"o\", \"of\", \"off\", \"on\",\n",
    "             \"once\", \"one\", \"only\", \"onto\", \"or\", \"other\", \"others\", \"otherwise\", \"our\", \"ours\", \"ourselves\", \n",
    "             \"out\", \"over\", \"per\", \"please\", \"s\", \"same\", \"shan\", \"shan't\", \"she\", \"she's\", \"should've\", \n",
    "             \"shouldn\", \"shouldn't\", \"somehow\", \"something\", \"sometime\", \"somewhere\", \"such\", \"t\", \"than\", \n",
    "             \"that\", \"that'll\", \"the\", \"their\", \"theirs\", \"them\", \"themselves\", \"then\", \"thence\", \"there\", \n",
    "             \"thereafter\", \"thereby\", \"therefore\", \"therein\", \"thereupon\", \"these\", \"they\", \"this\", \"those\",\n",
    "             \"through\", \"throughout\", \"thru\", \"thus\", \"to\", \"too\", \"toward\", \"towards\", \"under\", \"unless\",\n",
    "             \"until\", \"up\", \"upon\", \"used\", \"ve\", \"was\", \"wasn\", \"wasn't\", \"we\", \"were\", \"weren\", \"weren't\",\n",
    "             \"what\", \"whatever\", \"when\", \"whence\", \"whenever\", \"where\", \"whereafter\", \"whereas\", \"whereby\", \n",
    "             \"wherein\", \"whereupon\", \"wherever\", \"whether\", \"which\", \"while\", \"whither\", \"who\", \"whoever\", \n",
    "             \"whole\", \"whom\", \"whose\", \"why\", \"with\", \"within\", \"without\", \"won\", \"won't\", \"would\", \"wouldn\",\n",
    "             \"wouldn't\", \"y\", \"yet\", \"you\", \"you'd\", \"you'll\", \"you're\", \"you've\", \"your\", \"yours\", \"yourself\",\n",
    "             \"yourselves\"]\n",
    "        )\n",
    "        # fmt: on\n",
    "        constraints = [RepeatModification(), StopwordModification(stopwords=stopwords)]\n",
    "        #\n",
    "        # During entailment, we should only edit the hypothesis - keep the premise\n",
    "        # the same.\n",
    "        #\n",
    "        input_column_modification = InputColumnModification(\n",
    "            [\"premise\", \"hypothesis\"], {\"premise\"}\n",
    "        )\n",
    "        constraints.append(input_column_modification)\n",
    "        # Minimum word embedding cosine similarity of 0.5.\n",
    "        # (The paper claims 0.7, but analysis of the released code and some empirical\n",
    "        # results show that it's 0.5.)\n",
    "        #\n",
    "        constraints.append(WordEmbeddingDistance(min_cos_sim=0.8))\n",
    "        #\n",
    "        # Only replace words with the same part of speech (or nouns with verbs)\n",
    "        #\n",
    "        constraints.append(PartOfSpeech(allow_verb_noun_swap=True))\n",
    "        #\n",
    "        # Universal Sentence Encoder with a minimum angular similarity of ε = 0.5.\n",
    "        #\n",
    "        # In the TextFooler code, they forget to divide the angle between the two\n",
    "        # embeddings by pi. So if the original threshold was that 1 - sim >= 0.5, the\n",
    "        # new threshold is 1 - (0.5) / pi = 0.840845057\n",
    "        #\n",
    "        use_constraint = UniversalSentenceEncoder(\n",
    "            threshold = 0.840845057,\n",
    "            metric=\"angular\",\n",
    "            compare_against_original=False,\n",
    "            window_size=15,\n",
    "            skip_text_shorter_than_window=True,\n",
    "        )\n",
    "        constraints.append(use_constraint)\n",
    "        #\n",
    "        # Goal is untargeted classification\n",
    "        #\n",
    "        goal_function = UntargetedClassification(model_wrapper)\n",
    "        #\n",
    "        # Greedily swap words with \"Word Importance Ranking\".\n",
    "        #\n",
    "        search_method = GreedyWordSwapWIR(wir_method=\"delete\")\n",
    "\n",
    "        return Attack(goal_function, constraints, transformation, search_method)\n"
   ]
  },
  {
   "cell_type": "code",
   "execution_count": 4,
   "id": "bc8fc32a-2438-4054-9cf8-ff005ec06dab",
   "metadata": {},
   "outputs": [],
   "source": [
    "def runAttack(model_wrapper, n, path, target_ds):\n",
    "    # used TFLepsilon\n",
    "    attack = TFLepsilon.build(model_wrapper)\n",
    "    attack_args = textattack.AttackArgs(num_examples=n, log_to_csv=path, shuffle=True, #parallel=True,\n",
    "                                        checkpoint_interval=5, checkpoint_dir='checkpoints', \n",
    "                                        disable_stdout=True)\n",
    "    attacker = textattack.Attacker(attack, target_ds, attack_args)\n",
    "    attacker.attack_dataset()"
   ]
  },
  {
   "cell_type": "code",
   "execution_count": 5,
   "id": "76181ead-393f-4d43-9067-0f25ca726eb7",
   "metadata": {},
   "outputs": [],
   "source": [
    "# classifiers\n",
    "def adaptation(train_set, test_set):\n",
    "    lr = LogisticRegression(solver='saga', multi_class='multinomial')\n",
    "    rf = RandomForestClassifier(max_depth=7)\n",
    "    knn = KNeighborsClassifier(n_neighbors=7)\n",
    "    svc = SVC(kernel='linear', probability=True)\n",
    "    \n",
    "    trainX = train_set.iloc[:,:-1]\n",
    "    trainY = train_set.iloc[:,-1]\n",
    "    testX = test_set.iloc[:,:-1]\n",
    "    testY = test_set.iloc[:,-1]\n",
    "    \n",
    "    for key, clf in {'Log Reg':lr, 'RF':rf, 'KNN':knn, 'SVC':svc}.items():\n",
    "        clf.fit(trainX, trainY) # fit train data\n",
    "        pred = clf.predict(testX) # predict test set\n",
    "\n",
    "        # print accuracy\n",
    "        print(key, (pred==np.array(testY)).sum()/len(pred))\n",
    "\n",
    "    return lr, rf, knn, svc"
   ]
  },
  {
   "cell_type": "code",
   "execution_count": 6,
   "id": "ddf441b8-c100-416a-a704-b16437e62ed5",
   "metadata": {},
   "outputs": [
    {
     "name": "stderr",
     "output_type": "stream",
     "text": [
      "textattack: Loading \u001b[94mdatasets\u001b[0m dataset \u001b[94mrotten_tomatoes\u001b[0m, split \u001b[94mtest\u001b[0m.\n"
     ]
    }
   ],
   "source": [
    "target_ds_mr = textattack.datasets.HuggingFaceDataset('rotten_tomatoes', split='test')"
   ]
  },
  {
   "cell_type": "code",
   "execution_count": 7,
   "id": "e5324e79-2fe0-478f-9ebe-5c7b649258d1",
   "metadata": {},
   "outputs": [],
   "source": [
    "suffix = 'sim08.csv'\n",
    "n_samples = 500"
   ]
  },
  {
   "cell_type": "markdown",
   "id": "0e13b205-9c12-4f2e-9bcb-b7a26f7a0f7f",
   "metadata": {},
   "source": [
    "### BERT-based-uncased"
   ]
  },
  {
   "cell_type": "code",
   "execution_count": 8,
   "id": "ece98501-61d1-44c5-946e-b4b41e046d6e",
   "metadata": {},
   "outputs": [
    {
     "name": "stderr",
     "output_type": "stream",
     "text": [
      "D:\\anaconda3\\envs\\tf\\lib\\site-packages\\huggingface_hub\\file_download.py:1132: FutureWarning: `resume_download` is deprecated and will be removed in version 1.0.0. Downloads always resume when possible. If you want to force a new download, use `force_download=True`.\n",
      "  warnings.warn(\n",
      "D:\\anaconda3\\envs\\tf\\lib\\site-packages\\transformers\\utils\\generic.py:260: UserWarning: torch.utils._pytree._register_pytree_node is deprecated. Please use torch.utils._pytree.register_pytree_node instead.\n",
      "  torch.utils._pytree._register_pytree_node(\n"
     ]
    }
   ],
   "source": [
    "# bert-based-uncased\n",
    "model_path1 = 'bert-base-uncased'\n",
    "\n",
    "bert_model = transformers.AutoModel.from_pretrained(model_path1)\n",
    "bert_tokenizer = transformers.AutoTokenizer.from_pretrained(model_path1)"
   ]
  },
  {
   "cell_type": "code",
   "execution_count": 9,
   "id": "f0180798-ce40-4a40-b8fb-b3b681aa14e2",
   "metadata": {},
   "outputs": [
    {
     "name": "stderr",
     "output_type": "stream",
     "text": [
      "D:\\anaconda3\\envs\\tf\\lib\\site-packages\\sklearn\\linear_model\\_sag.py:350: ConvergenceWarning: The max_iter was reached which means the coef_ did not converge\n",
      "  warnings.warn(\n"
     ]
    },
    {
     "name": "stdout",
     "output_type": "stream",
     "text": [
      "Log Reg 0.8114446529080676\n",
      "RF 0.7335834896810507\n",
      "KNN 0.6801125703564728\n",
      "SVC 0.8030018761726079\n"
     ]
    }
   ],
   "source": [
    "bertmrtrain = pd.read_csv('dataset_embeddings/bertmrtrain.txt', header=None)\n",
    "bertmrtest = pd.read_csv('dataset_embeddings/bertmrtest.txt', header=None)\n",
    "lr_bert_mr, rf_bert_mr, knn_bert_mr, svc_bert_mr = adaptation(bertmrtrain, bertmrtest)"
   ]
  },
  {
   "cell_type": "code",
   "execution_count": 10,
   "id": "488edfed-58de-472a-9afa-7dff844a3e85",
   "metadata": {},
   "outputs": [],
   "source": [
    "# custom model wrapper for CLIP\n",
    "class BERTModelWrapper(HuggingFaceModelWrapper):\n",
    "    def __init__(self, processor, text_encoder, classifier):\n",
    "        self.processor = processor\n",
    "        self.model = text_encoder\n",
    "        self.classifier = classifier\n",
    "\n",
    "    def __call__(self, text_input_list):\n",
    "        inputs = self.processor(text_input_list, return_tensors='pt', padding=True, truncation=True)\n",
    "        outputs = self.model(**inputs).pooler_output\n",
    "        with torch.no_grad():\n",
    "            preds = self.classifier.predict_proba(outputs)\n",
    "        return preds"
   ]
  },
  {
   "cell_type": "code",
   "execution_count": 11,
   "id": "4a2ce5ae-2225-4f66-a33c-b2ea0665cc4d",
   "metadata": {},
   "outputs": [],
   "source": [
    "bert_model_wrapper_lr_mr = BERTModelWrapper(bert_tokenizer, bert_model, lr_bert_mr)\n",
    "bert_model_wrapper_rf_mr = BERTModelWrapper(bert_tokenizer, bert_model, rf_bert_mr)\n",
    "bert_model_wrapper_knn_mr = BERTModelWrapper(bert_tokenizer, bert_model, knn_bert_mr)\n",
    "bert_model_wrapper_svc_mr = BERTModelWrapper(bert_tokenizer, bert_model, svc_bert_mr)"
   ]
  },
  {
   "cell_type": "code",
   "execution_count": 12,
   "id": "792065e0-20be-4083-a1dc-fb79b1c832b9",
   "metadata": {
    "scrolled": true
   },
   "outputs": [
    {
     "name": "stderr",
     "output_type": "stream",
     "text": [
      "textattack: Unknown if model of class <class 'transformers.models.bert.modeling_bert.BertModel'> compatible with goal function <class 'textattack.goal_functions.classification.untargeted_classification.UntargetedClassification'>.\n",
      "textattack: Logging to CSV at path attack_results_new/bertmrattacklrsim08.csv\n"
     ]
    },
    {
     "name": "stdout",
     "output_type": "stream",
     "text": [
      "Attack(\n",
      "  (search_method): GreedyWordSwapWIR(\n",
      "    (wir_method):  delete\n",
      "  )\n",
      "  (goal_function):  UntargetedClassification\n",
      "  (transformation):  WordSwapEmbedding(\n",
      "    (max_candidates):  50\n",
      "    (embedding):  WordEmbedding\n",
      "  )\n",
      "  (constraints): \n",
      "    (0): WordEmbeddingDistance(\n",
      "        (embedding):  WordEmbedding\n",
      "        (min_cos_sim):  0.8\n",
      "        (cased):  False\n",
      "        (include_unknown_words):  True\n",
      "        (compare_against_original):  True\n",
      "      )\n",
      "    (1): PartOfSpeech(\n",
      "        (tagger_type):  nltk\n",
      "        (tagset):  universal\n",
      "        (allow_verb_noun_swap):  True\n",
      "        (compare_against_original):  True\n",
      "      )\n",
      "    (2): UniversalSentenceEncoder(\n",
      "        (metric):  angular\n",
      "        (threshold):  0.840845057\n",
      "        (window_size):  15\n",
      "        (skip_text_shorter_than_window):  True\n",
      "        (compare_against_original):  False\n",
      "      )\n",
      "    (3): RepeatModification\n",
      "    (4): StopwordModification\n",
      "    (5): InputColumnModification(\n",
      "        (matching_column_labels):  ['premise', 'hypothesis']\n",
      "        (columns_to_ignore):  {'premise'}\n",
      "      )\n",
      "  (is_black_box):  True\n",
      ") \n",
      "\n"
     ]
    },
    {
     "name": "stderr",
     "output_type": "stream",
     "text": [
      "[Succeeded / Failed / Skipped / Total] 1 / 3 / 1 / 5:   1%|▎                         | 5/500 [01:16<2:06:44, 15.36s/it]textattack: Saving checkpoint under \"checkpoints\\1720231672053.ta.chkpt\" at 2024-07-06 10:07:52 after 5 attacks.\n"
     ]
    },
    {
     "name": "stdout",
     "output_type": "stream",
     "text": [
      "\n",
      "\n",
      "=============================================================================================================================\n",
      "=============================================================================================================================\n",
      "\n"
     ]
    },
    {
     "name": "stderr",
     "output_type": "stream",
     "text": [
      "[Succeeded / Failed / Skipped / Total] 2 / 4 / 4 / 10:   2%|▍                       | 10/500 [01:25<1:09:47,  8.55s/it]textattack: Saving checkpoint under \"checkpoints\\1720231680689.ta.chkpt\" at 2024-07-06 10:08:00 after 10 attacks.\n"
     ]
    },
    {
     "name": "stdout",
     "output_type": "stream",
     "text": [
      "\n",
      "\n",
      "=============================================================================================================================\n",
      "=============================================================================================================================\n",
      "\n"
     ]
    },
    {
     "name": "stderr",
     "output_type": "stream",
     "text": [
      "[Succeeded / Failed / Skipped / Total] 4 / 7 / 4 / 15:   3%|▊                         | 15/500 [01:41<54:27,  6.74s/it]textattack: Saving checkpoint under \"checkpoints\\1720231696296.ta.chkpt\" at 2024-07-06 10:08:16 after 15 attacks.\n"
     ]
    },
    {
     "name": "stdout",
     "output_type": "stream",
     "text": [
      "\n",
      "\n",
      "=============================================================================================================================\n",
      "=============================================================================================================================\n",
      "\n"
     ]
    },
    {
     "name": "stderr",
     "output_type": "stream",
     "text": [
      "[Succeeded / Failed / Skipped / Total] 7 / 8 / 5 / 20:   4%|█                         | 20/500 [01:45<42:19,  5.29s/it]textattack: Saving checkpoint under \"checkpoints\\1720231701061.ta.chkpt\" at 2024-07-06 10:08:21 after 20 attacks.\n"
     ]
    },
    {
     "name": "stdout",
     "output_type": "stream",
     "text": [
      "\n",
      "\n",
      "=============================================================================================================================\n",
      "=============================================================================================================================\n",
      "\n"
     ]
    },
    {
     "name": "stderr",
     "output_type": "stream",
     "text": [
      "[Succeeded / Failed / Skipped / Total] 11 / 8 / 6 / 25:   5%|█▎                       | 25/500 [01:52<35:38,  4.50s/it]textattack: Saving checkpoint under \"checkpoints\\1720231707801.ta.chkpt\" at 2024-07-06 10:08:27 after 25 attacks.\n"
     ]
    },
    {
     "name": "stdout",
     "output_type": "stream",
     "text": [
      "\n",
      "\n",
      "=============================================================================================================================\n",
      "=============================================================================================================================\n",
      "\n"
     ]
    },
    {
     "name": "stderr",
     "output_type": "stream",
     "text": [
      "[Succeeded / Failed / Skipped / Total] 11 / 13 / 6 / 30:   6%|█▍                      | 30/500 [02:02<32:02,  4.09s/it]textattack: Saving checkpoint under \"checkpoints\\1720231717979.ta.chkpt\" at 2024-07-06 10:08:37 after 30 attacks.\n"
     ]
    },
    {
     "name": "stdout",
     "output_type": "stream",
     "text": [
      "\n",
      "\n",
      "=============================================================================================================================\n",
      "=============================================================================================================================\n",
      "\n"
     ]
    },
    {
     "name": "stderr",
     "output_type": "stream",
     "text": [
      "[Succeeded / Failed / Skipped / Total] 13 / 15 / 7 / 35:   7%|█▋                      | 35/500 [02:09<28:39,  3.70s/it]textattack: Saving checkpoint under \"checkpoints\\1720231724692.ta.chkpt\" at 2024-07-06 10:08:44 after 35 attacks.\n"
     ]
    },
    {
     "name": "stdout",
     "output_type": "stream",
     "text": [
      "\n",
      "\n",
      "=============================================================================================================================\n",
      "=============================================================================================================================\n",
      "\n"
     ]
    },
    {
     "name": "stderr",
     "output_type": "stream",
     "text": [
      "[Succeeded / Failed / Skipped / Total] 15 / 15 / 10 / 40:   8%|█▊                     | 40/500 [02:13<25:32,  3.33s/it]textattack: Saving checkpoint under \"checkpoints\\1720231728536.ta.chkpt\" at 2024-07-06 10:08:48 after 40 attacks.\n"
     ]
    },
    {
     "name": "stdout",
     "output_type": "stream",
     "text": [
      "\n",
      "\n",
      "=============================================================================================================================\n",
      "=============================================================================================================================\n",
      "\n"
     ]
    },
    {
     "name": "stderr",
     "output_type": "stream",
     "text": [
      "[Succeeded / Failed / Skipped / Total] 18 / 16 / 11 / 45:   9%|██                     | 45/500 [02:24<24:25,  3.22s/it]textattack: Saving checkpoint under \"checkpoints\\1720231740191.ta.chkpt\" at 2024-07-06 10:09:00 after 45 attacks.\n"
     ]
    },
    {
     "name": "stdout",
     "output_type": "stream",
     "text": [
      "\n",
      "\n",
      "=============================================================================================================================\n",
      "=============================================================================================================================\n",
      "\n"
     ]
    },
    {
     "name": "stderr",
     "output_type": "stream",
     "text": [
      "[Succeeded / Failed / Skipped / Total] 23 / 16 / 11 / 50:  10%|██▎                    | 50/500 [02:35<23:19,  3.11s/it]textattack: Saving checkpoint under \"checkpoints\\1720231750718.ta.chkpt\" at 2024-07-06 10:09:10 after 50 attacks.\n"
     ]
    },
    {
     "name": "stdout",
     "output_type": "stream",
     "text": [
      "\n",
      "\n",
      "=============================================================================================================================\n",
      "=============================================================================================================================\n",
      "\n"
     ]
    },
    {
     "name": "stderr",
     "output_type": "stream",
     "text": [
      "[Succeeded / Failed / Skipped / Total] 27 / 17 / 11 / 55:  11%|██▌                    | 55/500 [02:46<22:25,  3.02s/it]textattack: Saving checkpoint under \"checkpoints\\1720231761524.ta.chkpt\" at 2024-07-06 10:09:21 after 55 attacks.\n"
     ]
    },
    {
     "name": "stdout",
     "output_type": "stream",
     "text": [
      "\n",
      "\n",
      "=============================================================================================================================\n",
      "=============================================================================================================================\n",
      "\n"
     ]
    },
    {
     "name": "stderr",
     "output_type": "stream",
     "text": [
      "[Succeeded / Failed / Skipped / Total] 30 / 18 / 12 / 60:  12%|██▊                    | 60/500 [02:55<21:23,  2.92s/it]textattack: Saving checkpoint under \"checkpoints\\1720231770249.ta.chkpt\" at 2024-07-06 10:09:30 after 60 attacks.\n",
      "[Succeeded / Failed / Skipped / Total] 30 / 18 / 13 / 61:  12%|██▊                    | 61/500 [02:55<21:00,  2.87s/it]"
     ]
    },
    {
     "name": "stdout",
     "output_type": "stream",
     "text": [
      "\n",
      "\n",
      "=============================================================================================================================\n",
      "=============================================================================================================================\n",
      "\n"
     ]
    },
    {
     "name": "stderr",
     "output_type": "stream",
     "text": [
      "[Succeeded / Failed / Skipped / Total] 33 / 19 / 13 / 65:  13%|██▉                    | 65/500 [03:00<20:05,  2.77s/it]textattack: Saving checkpoint under \"checkpoints\\1720231775332.ta.chkpt\" at 2024-07-06 10:09:35 after 65 attacks.\n"
     ]
    },
    {
     "name": "stdout",
     "output_type": "stream",
     "text": [
      "\n",
      "\n",
      "=============================================================================================================================\n",
      "=============================================================================================================================\n",
      "\n"
     ]
    },
    {
     "name": "stderr",
     "output_type": "stream",
     "text": [
      "[Succeeded / Failed / Skipped / Total] 34 / 22 / 14 / 70:  14%|███▏                   | 70/500 [03:09<19:21,  2.70s/it]textattack: Saving checkpoint under \"checkpoints\\1720231784283.ta.chkpt\" at 2024-07-06 10:09:44 after 70 attacks.\n"
     ]
    },
    {
     "name": "stdout",
     "output_type": "stream",
     "text": [
      "\n",
      "\n",
      "=============================================================================================================================\n",
      "=============================================================================================================================\n",
      "\n"
     ]
    },
    {
     "name": "stderr",
     "output_type": "stream",
     "text": [
      "[Succeeded / Failed / Skipped / Total] 37 / 23 / 15 / 75:  15%|███▍                   | 75/500 [03:12<18:11,  2.57s/it]textattack: Saving checkpoint under \"checkpoints\\1720231787929.ta.chkpt\" at 2024-07-06 10:09:47 after 75 attacks.\n",
      "[Succeeded / Failed / Skipped / Total] 37 / 23 / 16 / 76:  15%|███▍                   | 76/500 [03:12<17:55,  2.54s/it]"
     ]
    },
    {
     "name": "stdout",
     "output_type": "stream",
     "text": [
      "\n",
      "\n",
      "=============================================================================================================================\n",
      "=============================================================================================================================\n",
      "\n"
     ]
    },
    {
     "name": "stderr",
     "output_type": "stream",
     "text": [
      "[Succeeded / Failed / Skipped / Total] 39 / 24 / 17 / 80:  16%|███▋                   | 80/500 [03:20<17:32,  2.51s/it]textattack: Saving checkpoint under \"checkpoints\\1720231795788.ta.chkpt\" at 2024-07-06 10:09:55 after 80 attacks.\n"
     ]
    },
    {
     "name": "stdout",
     "output_type": "stream",
     "text": [
      "\n",
      "\n",
      "=============================================================================================================================\n",
      "=============================================================================================================================\n",
      "\n"
     ]
    },
    {
     "name": "stderr",
     "output_type": "stream",
     "text": [
      "[Succeeded / Failed / Skipped / Total] 42 / 24 / 19 / 85:  17%|███▉                   | 85/500 [03:23<16:31,  2.39s/it]textattack: Saving checkpoint under \"checkpoints\\1720231798385.ta.chkpt\" at 2024-07-06 10:09:58 after 85 attacks.\n"
     ]
    },
    {
     "name": "stdout",
     "output_type": "stream",
     "text": [
      "\n",
      "\n",
      "=============================================================================================================================\n",
      "=============================================================================================================================\n",
      "\n"
     ]
    },
    {
     "name": "stderr",
     "output_type": "stream",
     "text": [
      "[Succeeded / Failed / Skipped / Total] 47 / 24 / 19 / 90:  18%|████▏                  | 90/500 [03:32<16:09,  2.36s/it]textattack: Saving checkpoint under \"checkpoints\\1720231807962.ta.chkpt\" at 2024-07-06 10:10:07 after 90 attacks.\n"
     ]
    },
    {
     "name": "stdout",
     "output_type": "stream",
     "text": [
      "\n",
      "\n",
      "=============================================================================================================================\n",
      "=============================================================================================================================\n",
      "\n"
     ]
    },
    {
     "name": "stderr",
     "output_type": "stream",
     "text": [
      "[Succeeded / Failed / Skipped / Total] 50 / 24 / 21 / 95:  19%|████▎                  | 95/500 [03:37<15:26,  2.29s/it]textattack: Saving checkpoint under \"checkpoints\\1720231812602.ta.chkpt\" at 2024-07-06 10:10:12 after 95 attacks.\n"
     ]
    },
    {
     "name": "stdout",
     "output_type": "stream",
     "text": [
      "\n",
      "\n",
      "=============================================================================================================================\n",
      "=============================================================================================================================\n",
      "\n"
     ]
    },
    {
     "name": "stderr",
     "output_type": "stream",
     "text": [
      "[Succeeded / Failed / Skipped / Total] 53 / 26 / 21 / 100:  20%|████▏                | 100/500 [03:45<15:01,  2.25s/it]textattack: Saving checkpoint under \"checkpoints\\1720231820531.ta.chkpt\" at 2024-07-06 10:10:20 after 100 attacks.\n",
      "[Succeeded / Failed / Skipped / Total] 53 / 26 / 22 / 101:  20%|████▏                | 101/500 [03:45<14:50,  2.23s/it]"
     ]
    },
    {
     "name": "stdout",
     "output_type": "stream",
     "text": [
      "\n",
      "\n",
      "=============================================================================================================================\n",
      "=============================================================================================================================\n",
      "\n"
     ]
    },
    {
     "name": "stderr",
     "output_type": "stream",
     "text": [
      "[Succeeded / Failed / Skipped / Total] 56 / 27 / 22 / 105:  21%|████▍                | 105/500 [03:53<14:39,  2.23s/it]textattack: Saving checkpoint under \"checkpoints\\1720231829099.ta.chkpt\" at 2024-07-06 10:10:29 after 105 attacks.\n",
      "[Succeeded / Failed / Skipped / Total] 56 / 27 / 23 / 106:  21%|████▍                | 106/500 [03:54<14:29,  2.21s/it]"
     ]
    },
    {
     "name": "stdout",
     "output_type": "stream",
     "text": [
      "\n",
      "\n",
      "=============================================================================================================================\n",
      "=============================================================================================================================\n",
      "\n"
     ]
    },
    {
     "name": "stderr",
     "output_type": "stream",
     "text": [
      "[Succeeded / Failed / Skipped / Total] 59 / 27 / 24 / 110:  22%|████▌                | 110/500 [03:57<14:03,  2.16s/it]textattack: Saving checkpoint under \"checkpoints\\1720231833122.ta.chkpt\" at 2024-07-06 10:10:33 after 110 attacks.\n",
      "[Succeeded / Failed / Skipped / Total] 59 / 27 / 25 / 111:  22%|████▋                | 111/500 [03:57<13:53,  2.14s/it]"
     ]
    },
    {
     "name": "stdout",
     "output_type": "stream",
     "text": [
      "\n",
      "\n",
      "=============================================================================================================================\n",
      "=============================================================================================================================\n",
      "\n"
     ]
    },
    {
     "name": "stderr",
     "output_type": "stream",
     "text": [
      "[Succeeded / Failed / Skipped / Total] 61 / 29 / 25 / 115:  23%|████▊                | 115/500 [04:10<13:57,  2.18s/it]textattack: Saving checkpoint under \"checkpoints\\1720231845459.ta.chkpt\" at 2024-07-06 10:10:45 after 115 attacks.\n"
     ]
    },
    {
     "name": "stdout",
     "output_type": "stream",
     "text": [
      "\n",
      "\n",
      "=============================================================================================================================\n",
      "=============================================================================================================================\n",
      "\n"
     ]
    },
    {
     "name": "stderr",
     "output_type": "stream",
     "text": [
      "[Succeeded / Failed / Skipped / Total] 63 / 30 / 27 / 120:  24%|█████                | 120/500 [04:13<13:23,  2.11s/it]textattack: Saving checkpoint under \"checkpoints\\1720231848930.ta.chkpt\" at 2024-07-06 10:10:48 after 120 attacks.\n"
     ]
    },
    {
     "name": "stdout",
     "output_type": "stream",
     "text": [
      "\n",
      "\n",
      "=============================================================================================================================\n",
      "=============================================================================================================================\n",
      "\n"
     ]
    },
    {
     "name": "stderr",
     "output_type": "stream",
     "text": [
      "[Succeeded / Failed / Skipped / Total] 68 / 30 / 27 / 125:  25%|█████▎               | 125/500 [04:22<13:08,  2.10s/it]textattack: Saving checkpoint under \"checkpoints\\1720231858111.ta.chkpt\" at 2024-07-06 10:10:58 after 125 attacks.\n",
      "[Succeeded / Failed / Skipped / Total] 68 / 30 / 28 / 126:  25%|█████▎               | 126/500 [04:23<13:00,  2.09s/it]"
     ]
    },
    {
     "name": "stdout",
     "output_type": "stream",
     "text": [
      "\n",
      "\n",
      "=============================================================================================================================\n",
      "=============================================================================================================================\n",
      "\n"
     ]
    },
    {
     "name": "stderr",
     "output_type": "stream",
     "text": [
      "[Succeeded / Failed / Skipped / Total] 71 / 31 / 28 / 130:  26%|█████▍               | 130/500 [04:28<12:44,  2.07s/it]textattack: Saving checkpoint under \"checkpoints\\1720231863742.ta.chkpt\" at 2024-07-06 10:11:03 after 130 attacks.\n",
      "[Succeeded / Failed / Skipped / Total] 71 / 31 / 29 / 131:  26%|█████▌               | 131/500 [04:28<12:36,  2.05s/it]"
     ]
    },
    {
     "name": "stdout",
     "output_type": "stream",
     "text": [
      "\n",
      "\n",
      "=============================================================================================================================\n",
      "=============================================================================================================================\n",
      "\n"
     ]
    },
    {
     "name": "stderr",
     "output_type": "stream",
     "text": [
      "[Succeeded / Failed / Skipped / Total] 75 / 31 / 29 / 135:  27%|█████▋               | 135/500 [04:40<12:37,  2.08s/it]textattack: Saving checkpoint under \"checkpoints\\1720231875456.ta.chkpt\" at 2024-07-06 10:11:15 after 135 attacks.\n"
     ]
    },
    {
     "name": "stdout",
     "output_type": "stream",
     "text": [
      "\n",
      "\n",
      "=============================================================================================================================\n",
      "=============================================================================================================================\n",
      "\n"
     ]
    },
    {
     "name": "stderr",
     "output_type": "stream",
     "text": [
      "[Succeeded / Failed / Skipped / Total] 80 / 31 / 29 / 140:  28%|█████▉               | 140/500 [04:48<12:22,  2.06s/it]textattack: Saving checkpoint under \"checkpoints\\1720231883808.ta.chkpt\" at 2024-07-06 10:11:23 after 140 attacks.\n"
     ]
    },
    {
     "name": "stdout",
     "output_type": "stream",
     "text": [
      "\n",
      "\n",
      "=============================================================================================================================\n",
      "=============================================================================================================================\n",
      "\n"
     ]
    },
    {
     "name": "stderr",
     "output_type": "stream",
     "text": [
      "[Succeeded / Failed / Skipped / Total] 84 / 31 / 30 / 145:  29%|██████               | 145/500 [04:54<11:59,  2.03s/it]textattack: Saving checkpoint under \"checkpoints\\1720231889245.ta.chkpt\" at 2024-07-06 10:11:29 after 145 attacks.\n",
      "[Succeeded / Failed / Skipped / Total] 84 / 31 / 31 / 146:  29%|██████▏              | 146/500 [04:54<11:53,  2.01s/it]"
     ]
    },
    {
     "name": "stdout",
     "output_type": "stream",
     "text": [
      "\n",
      "\n",
      "=============================================================================================================================\n",
      "=============================================================================================================================\n",
      "\n"
     ]
    },
    {
     "name": "stderr",
     "output_type": "stream",
     "text": [
      "[Succeeded / Failed / Skipped / Total] 84 / 32 / 34 / 150:  30%|██████▎              | 150/500 [04:55<11:30,  1.97s/it]textattack: Saving checkpoint under \"checkpoints\\1720231891111.ta.chkpt\" at 2024-07-06 10:11:31 after 150 attacks.\n"
     ]
    },
    {
     "name": "stdout",
     "output_type": "stream",
     "text": [
      "\n",
      "\n",
      "=============================================================================================================================\n",
      "=============================================================================================================================\n",
      "\n"
     ]
    },
    {
     "name": "stderr",
     "output_type": "stream",
     "text": [
      "[Succeeded / Failed / Skipped / Total] 86 / 33 / 36 / 155:  31%|██████▌              | 155/500 [04:59<11:06,  1.93s/it]textattack: Saving checkpoint under \"checkpoints\\1720231894701.ta.chkpt\" at 2024-07-06 10:11:34 after 155 attacks.\n"
     ]
    },
    {
     "name": "stdout",
     "output_type": "stream",
     "text": [
      "\n",
      "\n",
      "=============================================================================================================================\n",
      "=============================================================================================================================\n",
      "\n"
     ]
    },
    {
     "name": "stderr",
     "output_type": "stream",
     "text": [
      "[Succeeded / Failed / Skipped / Total] 89 / 34 / 37 / 160:  32%|██████▋              | 160/500 [05:08<10:55,  1.93s/it]textattack: Saving checkpoint under \"checkpoints\\1720231903857.ta.chkpt\" at 2024-07-06 10:11:43 after 160 attacks.\n"
     ]
    },
    {
     "name": "stdout",
     "output_type": "stream",
     "text": [
      "\n",
      "\n",
      "=============================================================================================================================\n",
      "=============================================================================================================================\n",
      "\n"
     ]
    },
    {
     "name": "stderr",
     "output_type": "stream",
     "text": [
      "[Succeeded / Failed / Skipped / Total] 92 / 34 / 39 / 165:  33%|██████▉              | 165/500 [05:15<10:40,  1.91s/it]textattack: Saving checkpoint under \"checkpoints\\1720231910504.ta.chkpt\" at 2024-07-06 10:11:50 after 165 attacks.\n",
      "[Succeeded / Failed / Skipped / Total] 92 / 34 / 39 / 165:  33%|██████▉              | 166/500 [05:15<10:34,  1.90s/it]"
     ]
    },
    {
     "name": "stdout",
     "output_type": "stream",
     "text": [
      "\n",
      "\n",
      "=============================================================================================================================\n",
      "=============================================================================================================================\n",
      "\n"
     ]
    },
    {
     "name": "stderr",
     "output_type": "stream",
     "text": [
      "[Succeeded / Failed / Skipped / Total] 95 / 35 / 40 / 170:  34%|███████▏             | 170/500 [05:25<10:32,  1.92s/it]textattack: Saving checkpoint under \"checkpoints\\1720231920846.ta.chkpt\" at 2024-07-06 10:12:00 after 170 attacks.\n"
     ]
    },
    {
     "name": "stdout",
     "output_type": "stream",
     "text": [
      "\n",
      "\n",
      "=============================================================================================================================\n",
      "=============================================================================================================================\n",
      "\n"
     ]
    },
    {
     "name": "stderr",
     "output_type": "stream",
     "text": [
      "[Succeeded / Failed / Skipped / Total] 99 / 36 / 40 / 175:  35%|███████▎             | 175/500 [05:37<10:27,  1.93s/it]textattack: Saving checkpoint under \"checkpoints\\1720231932996.ta.chkpt\" at 2024-07-06 10:12:12 after 175 attacks.\n",
      "[Succeeded / Failed / Skipped / Total] 99 / 36 / 41 / 176:  35%|███████▍             | 176/500 [05:37<10:22,  1.92s/it]"
     ]
    },
    {
     "name": "stdout",
     "output_type": "stream",
     "text": [
      "\n",
      "\n",
      "=============================================================================================================================\n",
      "=============================================================================================================================\n",
      "\n"
     ]
    },
    {
     "name": "stderr",
     "output_type": "stream",
     "text": [
      "[Succeeded / Failed / Skipped / Total] 100 / 38 / 42 / 180:  36%|███████▏            | 180/500 [05:43<10:10,  1.91s/it]textattack: Saving checkpoint under \"checkpoints\\1720231938842.ta.chkpt\" at 2024-07-06 10:12:18 after 180 attacks.\n"
     ]
    },
    {
     "name": "stdout",
     "output_type": "stream",
     "text": [
      "\n",
      "\n",
      "=============================================================================================================================\n",
      "=============================================================================================================================\n",
      "\n"
     ]
    },
    {
     "name": "stderr",
     "output_type": "stream",
     "text": [
      "[Succeeded / Failed / Skipped / Total] 104 / 38 / 43 / 185:  37%|███████▍            | 185/500 [05:47<09:50,  1.88s/it]textattack: Saving checkpoint under \"checkpoints\\1720231942285.ta.chkpt\" at 2024-07-06 10:12:22 after 185 attacks.\n"
     ]
    },
    {
     "name": "stdout",
     "output_type": "stream",
     "text": [
      "\n",
      "\n",
      "=============================================================================================================================\n",
      "=============================================================================================================================\n",
      "\n"
     ]
    },
    {
     "name": "stderr",
     "output_type": "stream",
     "text": [
      "[Succeeded / Failed / Skipped / Total] 107 / 40 / 43 / 190:  38%|███████▌            | 190/500 [05:59<09:45,  1.89s/it]textattack: Saving checkpoint under \"checkpoints\\1720231954356.ta.chkpt\" at 2024-07-06 10:12:34 after 190 attacks.\n"
     ]
    },
    {
     "name": "stdout",
     "output_type": "stream",
     "text": [
      "\n",
      "\n",
      "=============================================================================================================================\n",
      "=============================================================================================================================\n",
      "\n"
     ]
    },
    {
     "name": "stderr",
     "output_type": "stream",
     "text": [
      "[Succeeded / Failed / Skipped / Total] 110 / 42 / 43 / 195:  39%|███████▊            | 195/500 [06:13<09:43,  1.91s/it]textattack: Saving checkpoint under \"checkpoints\\1720231968291.ta.chkpt\" at 2024-07-06 10:12:48 after 195 attacks.\n"
     ]
    },
    {
     "name": "stdout",
     "output_type": "stream",
     "text": [
      "\n",
      "\n",
      "=============================================================================================================================\n",
      "=============================================================================================================================\n",
      "\n"
     ]
    },
    {
     "name": "stderr",
     "output_type": "stream",
     "text": [
      "[Succeeded / Failed / Skipped / Total] 113 / 43 / 44 / 200:  40%|████████            | 200/500 [06:29<09:44,  1.95s/it]textattack: Saving checkpoint under \"checkpoints\\1720231984836.ta.chkpt\" at 2024-07-06 10:13:04 after 200 attacks.\n",
      "[Succeeded / Failed / Skipped / Total] 113 / 43 / 45 / 201:  40%|████████            | 201/500 [06:29<09:39,  1.94s/it]"
     ]
    },
    {
     "name": "stdout",
     "output_type": "stream",
     "text": [
      "\n",
      "\n",
      "=============================================================================================================================\n",
      "=============================================================================================================================\n",
      "\n"
     ]
    },
    {
     "name": "stderr",
     "output_type": "stream",
     "text": [
      "[Succeeded / Failed / Skipped / Total] 115 / 44 / 46 / 205:  41%|████████▏           | 205/500 [06:33<09:26,  1.92s/it]textattack: Saving checkpoint under \"checkpoints\\1720231988742.ta.chkpt\" at 2024-07-06 10:13:08 after 205 attacks.\n",
      "[Succeeded / Failed / Skipped / Total] 115 / 44 / 47 / 206:  41%|████████▏           | 206/500 [06:33<09:21,  1.91s/it]"
     ]
    },
    {
     "name": "stdout",
     "output_type": "stream",
     "text": [
      "\n",
      "\n",
      "=============================================================================================================================\n",
      "=============================================================================================================================\n",
      "\n"
     ]
    },
    {
     "name": "stderr",
     "output_type": "stream",
     "text": [
      "[Succeeded / Failed / Skipped / Total] 119 / 44 / 47 / 210:  42%|████████▍           | 210/500 [06:38<09:10,  1.90s/it]textattack: Saving checkpoint under \"checkpoints\\1720231993629.ta.chkpt\" at 2024-07-06 10:13:13 after 210 attacks.\n"
     ]
    },
    {
     "name": "stdout",
     "output_type": "stream",
     "text": [
      "\n",
      "\n",
      "=============================================================================================================================\n",
      "=============================================================================================================================\n",
      "\n"
     ]
    },
    {
     "name": "stderr",
     "output_type": "stream",
     "text": [
      "[Succeeded / Failed / Skipped / Total] 120 / 47 / 48 / 215:  43%|████████▌           | 215/500 [06:47<08:59,  1.89s/it]textattack: Saving checkpoint under \"checkpoints\\1720232002544.ta.chkpt\" at 2024-07-06 10:13:22 after 215 attacks.\n"
     ]
    },
    {
     "name": "stdout",
     "output_type": "stream",
     "text": [
      "\n",
      "\n",
      "=============================================================================================================================\n",
      "=============================================================================================================================\n",
      "\n"
     ]
    },
    {
     "name": "stderr",
     "output_type": "stream",
     "text": [
      "[Succeeded / Failed / Skipped / Total] 123 / 49 / 48 / 220:  44%|████████▊           | 220/500 [06:53<08:45,  1.88s/it]textattack: Saving checkpoint under \"checkpoints\\1720232008443.ta.chkpt\" at 2024-07-06 10:13:28 after 220 attacks.\n"
     ]
    },
    {
     "name": "stdout",
     "output_type": "stream",
     "text": [
      "\n",
      "\n",
      "=============================================================================================================================\n",
      "=============================================================================================================================\n",
      "\n"
     ]
    },
    {
     "name": "stderr",
     "output_type": "stream",
     "text": [
      "[Succeeded / Failed / Skipped / Total] 126 / 49 / 50 / 225:  45%|█████████           | 225/500 [07:04<08:38,  1.89s/it]textattack: Saving checkpoint under \"checkpoints\\1720232019520.ta.chkpt\" at 2024-07-06 10:13:39 after 225 attacks.\n"
     ]
    },
    {
     "name": "stdout",
     "output_type": "stream",
     "text": [
      "\n",
      "\n",
      "=============================================================================================================================\n",
      "=============================================================================================================================\n",
      "\n"
     ]
    },
    {
     "name": "stderr",
     "output_type": "stream",
     "text": [
      "[Succeeded / Failed / Skipped / Total] 131 / 49 / 50 / 230:  46%|█████████▏          | 230/500 [07:11<08:26,  1.87s/it]textattack: Saving checkpoint under \"checkpoints\\1720232026469.ta.chkpt\" at 2024-07-06 10:13:46 after 230 attacks.\n"
     ]
    },
    {
     "name": "stdout",
     "output_type": "stream",
     "text": [
      "\n",
      "\n",
      "=============================================================================================================================\n",
      "=============================================================================================================================\n",
      "\n"
     ]
    },
    {
     "name": "stderr",
     "output_type": "stream",
     "text": [
      "[Succeeded / Failed / Skipped / Total] 133 / 51 / 51 / 235:  47%|█████████▍          | 235/500 [07:18<08:14,  1.87s/it]textattack: Saving checkpoint under \"checkpoints\\1720232033913.ta.chkpt\" at 2024-07-06 10:13:53 after 235 attacks.\n",
      "[Succeeded / Failed / Skipped / Total] 133 / 51 / 52 / 236:  47%|█████████▍          | 236/500 [07:18<08:10,  1.86s/it]"
     ]
    },
    {
     "name": "stdout",
     "output_type": "stream",
     "text": [
      "\n",
      "\n",
      "=============================================================================================================================\n",
      "=============================================================================================================================\n",
      "\n"
     ]
    },
    {
     "name": "stderr",
     "output_type": "stream",
     "text": [
      "[Succeeded / Failed / Skipped / Total] 134 / 54 / 52 / 240:  48%|█████████▌          | 240/500 [07:24<08:01,  1.85s/it]textattack: Saving checkpoint under \"checkpoints\\1720232039388.ta.chkpt\" at 2024-07-06 10:13:59 after 240 attacks.\n"
     ]
    },
    {
     "name": "stdout",
     "output_type": "stream",
     "text": [
      "\n",
      "\n",
      "=============================================================================================================================\n",
      "=============================================================================================================================\n",
      "\n"
     ]
    },
    {
     "name": "stderr",
     "output_type": "stream",
     "text": [
      "[Succeeded / Failed / Skipped / Total] 138 / 55 / 52 / 245:  49%|█████████▊          | 245/500 [07:33<07:52,  1.85s/it]textattack: Saving checkpoint under \"checkpoints\\1720232048953.ta.chkpt\" at 2024-07-06 10:14:08 after 245 attacks.\n"
     ]
    },
    {
     "name": "stdout",
     "output_type": "stream",
     "text": [
      "\n",
      "\n",
      "=============================================================================================================================\n",
      "=============================================================================================================================\n",
      "\n"
     ]
    },
    {
     "name": "stderr",
     "output_type": "stream",
     "text": [
      "[Succeeded / Failed / Skipped / Total] 141 / 56 / 53 / 250:  50%|██████████          | 250/500 [07:38<07:38,  1.83s/it]textattack: Saving checkpoint under \"checkpoints\\1720232053283.ta.chkpt\" at 2024-07-06 10:14:13 after 250 attacks.\n",
      "[Succeeded / Failed / Skipped / Total] 141 / 56 / 54 / 251:  50%|██████████          | 251/500 [07:38<07:34,  1.83s/it]"
     ]
    },
    {
     "name": "stdout",
     "output_type": "stream",
     "text": [
      "\n",
      "\n",
      "=============================================================================================================================\n",
      "=============================================================================================================================\n",
      "\n"
     ]
    },
    {
     "name": "stderr",
     "output_type": "stream",
     "text": [
      "[Succeeded / Failed / Skipped / Total] 143 / 57 / 55 / 255:  51%|██████████▏         | 255/500 [07:44<07:25,  1.82s/it]textattack: Saving checkpoint under \"checkpoints\\1720232059375.ta.chkpt\" at 2024-07-06 10:14:19 after 255 attacks.\n"
     ]
    },
    {
     "name": "stdout",
     "output_type": "stream",
     "text": [
      "\n",
      "\n",
      "=============================================================================================================================\n",
      "=============================================================================================================================\n",
      "\n"
     ]
    },
    {
     "name": "stderr",
     "output_type": "stream",
     "text": [
      "[Succeeded / Failed / Skipped / Total] 147 / 58 / 55 / 260:  52%|██████████▍         | 260/500 [07:51<07:14,  1.81s/it]textattack: Saving checkpoint under \"checkpoints\\1720232066319.ta.chkpt\" at 2024-07-06 10:14:26 after 260 attacks.\n"
     ]
    },
    {
     "name": "stdout",
     "output_type": "stream",
     "text": [
      "\n",
      "\n",
      "=============================================================================================================================\n",
      "=============================================================================================================================\n",
      "\n"
     ]
    },
    {
     "name": "stderr",
     "output_type": "stream",
     "text": [
      "[Succeeded / Failed / Skipped / Total] 149 / 60 / 56 / 265:  53%|██████████▌         | 265/500 [07:56<07:02,  1.80s/it]textattack: Saving checkpoint under \"checkpoints\\1720232072183.ta.chkpt\" at 2024-07-06 10:14:32 after 265 attacks.\n"
     ]
    },
    {
     "name": "stdout",
     "output_type": "stream",
     "text": [
      "\n",
      "\n",
      "=============================================================================================================================\n",
      "=============================================================================================================================\n",
      "\n"
     ]
    },
    {
     "name": "stderr",
     "output_type": "stream",
     "text": [
      "[Succeeded / Failed / Skipped / Total] 151 / 61 / 58 / 270:  54%|██████████▊         | 270/500 [08:05<06:53,  1.80s/it]textattack: Saving checkpoint under \"checkpoints\\1720232080765.ta.chkpt\" at 2024-07-06 10:14:40 after 270 attacks.\n",
      "[Succeeded / Failed / Skipped / Total] 151 / 61 / 59 / 271:  54%|██████████▉         | 272/500 [08:05<06:47,  1.79s/it]"
     ]
    },
    {
     "name": "stdout",
     "output_type": "stream",
     "text": [
      "\n",
      "\n",
      "=============================================================================================================================\n",
      "=============================================================================================================================\n",
      "\n"
     ]
    },
    {
     "name": "stderr",
     "output_type": "stream",
     "text": [
      "[Succeeded / Failed / Skipped / Total] 151 / 62 / 62 / 275:  55%|███████████         | 275/500 [08:08<06:39,  1.78s/it]textattack: Saving checkpoint under \"checkpoints\\1720232083568.ta.chkpt\" at 2024-07-06 10:14:43 after 275 attacks.\n"
     ]
    },
    {
     "name": "stdout",
     "output_type": "stream",
     "text": [
      "\n",
      "\n",
      "=============================================================================================================================\n",
      "=============================================================================================================================\n",
      "\n"
     ]
    },
    {
     "name": "stderr",
     "output_type": "stream",
     "text": [
      "[Succeeded / Failed / Skipped / Total] 153 / 63 / 64 / 280:  56%|███████████▏        | 280/500 [08:12<06:27,  1.76s/it]textattack: Saving checkpoint under \"checkpoints\\1720232088139.ta.chkpt\" at 2024-07-06 10:14:48 after 280 attacks.\n"
     ]
    },
    {
     "name": "stdout",
     "output_type": "stream",
     "text": [
      "\n",
      "\n",
      "=============================================================================================================================\n",
      "=============================================================================================================================\n",
      "\n"
     ]
    },
    {
     "name": "stderr",
     "output_type": "stream",
     "text": [
      "[Succeeded / Failed / Skipped / Total] 154 / 65 / 66 / 285:  57%|███████████▍        | 285/500 [08:16<06:14,  1.74s/it]textattack: Saving checkpoint under \"checkpoints\\1720232092175.ta.chkpt\" at 2024-07-06 10:14:52 after 285 attacks.\n",
      "[Succeeded / Failed / Skipped / Total] 154 / 65 / 67 / 286:  57%|███████████▍        | 286/500 [08:17<06:11,  1.74s/it]"
     ]
    },
    {
     "name": "stdout",
     "output_type": "stream",
     "text": [
      "\n",
      "\n",
      "=============================================================================================================================\n",
      "=============================================================================================================================\n",
      "\n"
     ]
    },
    {
     "name": "stderr",
     "output_type": "stream",
     "text": [
      "[Succeeded / Failed / Skipped / Total] 154 / 67 / 69 / 290:  58%|███████████▌        | 290/500 [08:23<06:04,  1.74s/it]textattack: Saving checkpoint under \"checkpoints\\1720232098580.ta.chkpt\" at 2024-07-06 10:14:58 after 290 attacks.\n"
     ]
    },
    {
     "name": "stdout",
     "output_type": "stream",
     "text": [
      "\n",
      "\n",
      "=============================================================================================================================\n",
      "=============================================================================================================================\n",
      "\n"
     ]
    },
    {
     "name": "stderr",
     "output_type": "stream",
     "text": [
      "[Succeeded / Failed / Skipped / Total] 156 / 68 / 71 / 295:  59%|███████████▊        | 295/500 [08:28<05:53,  1.72s/it]textattack: Saving checkpoint under \"checkpoints\\1720232103455.ta.chkpt\" at 2024-07-06 10:15:03 after 295 attacks.\n"
     ]
    },
    {
     "name": "stdout",
     "output_type": "stream",
     "text": [
      "\n",
      "\n",
      "=============================================================================================================================\n",
      "=============================================================================================================================\n",
      "\n"
     ]
    },
    {
     "name": "stderr",
     "output_type": "stream",
     "text": [
      "[Succeeded / Failed / Skipped / Total] 159 / 69 / 72 / 300:  60%|████████████        | 300/500 [08:33<05:42,  1.71s/it]textattack: Saving checkpoint under \"checkpoints\\1720232108342.ta.chkpt\" at 2024-07-06 10:15:08 after 300 attacks.\n"
     ]
    },
    {
     "name": "stdout",
     "output_type": "stream",
     "text": [
      "\n",
      "\n",
      "=============================================================================================================================\n",
      "=============================================================================================================================\n",
      "\n"
     ]
    },
    {
     "name": "stderr",
     "output_type": "stream",
     "text": [
      "[Succeeded / Failed / Skipped / Total] 163 / 69 / 73 / 305:  61%|████████████▏       | 305/500 [08:41<05:33,  1.71s/it]textattack: Saving checkpoint under \"checkpoints\\1720232117130.ta.chkpt\" at 2024-07-06 10:15:17 after 305 attacks.\n"
     ]
    },
    {
     "name": "stdout",
     "output_type": "stream",
     "text": [
      "\n",
      "\n",
      "=============================================================================================================================\n",
      "=============================================================================================================================\n",
      "\n"
     ]
    },
    {
     "name": "stderr",
     "output_type": "stream",
     "text": [
      "[Succeeded / Failed / Skipped / Total] 164 / 71 / 75 / 310:  62%|████████████▍       | 310/500 [08:47<05:23,  1.70s/it]textattack: Saving checkpoint under \"checkpoints\\1720232122373.ta.chkpt\" at 2024-07-06 10:15:22 after 310 attacks.\n"
     ]
    },
    {
     "name": "stdout",
     "output_type": "stream",
     "text": [
      "\n",
      "\n",
      "=============================================================================================================================\n",
      "=============================================================================================================================\n",
      "\n"
     ]
    },
    {
     "name": "stderr",
     "output_type": "stream",
     "text": [
      "[Succeeded / Failed / Skipped / Total] 166 / 72 / 77 / 315:  63%|████████████▌       | 315/500 [08:49<05:11,  1.68s/it]textattack: Saving checkpoint under \"checkpoints\\1720232125142.ta.chkpt\" at 2024-07-06 10:15:25 after 315 attacks.\n"
     ]
    },
    {
     "name": "stdout",
     "output_type": "stream",
     "text": [
      "\n",
      "\n",
      "=============================================================================================================================\n",
      "=============================================================================================================================\n",
      "\n"
     ]
    },
    {
     "name": "stderr",
     "output_type": "stream",
     "text": [
      "[Succeeded / Failed / Skipped / Total] 169 / 73 / 78 / 320:  64%|████████████▊       | 320/500 [09:04<05:06,  1.70s/it]textattack: Saving checkpoint under \"checkpoints\\1720232139426.ta.chkpt\" at 2024-07-06 10:15:39 after 320 attacks.\n"
     ]
    },
    {
     "name": "stdout",
     "output_type": "stream",
     "text": [
      "\n",
      "\n",
      "=============================================================================================================================\n",
      "=============================================================================================================================\n",
      "\n"
     ]
    },
    {
     "name": "stderr",
     "output_type": "stream",
     "text": [
      "[Succeeded / Failed / Skipped / Total] 172 / 75 / 78 / 325:  65%|█████████████       | 325/500 [09:18<05:00,  1.72s/it]textattack: Saving checkpoint under \"checkpoints\\1720232154185.ta.chkpt\" at 2024-07-06 10:15:54 after 325 attacks.\n"
     ]
    },
    {
     "name": "stdout",
     "output_type": "stream",
     "text": [
      "\n",
      "\n",
      "=============================================================================================================================\n",
      "=============================================================================================================================\n",
      "\n"
     ]
    },
    {
     "name": "stderr",
     "output_type": "stream",
     "text": [
      "[Succeeded / Failed / Skipped / Total] 176 / 76 / 78 / 330:  66%|█████████████▏      | 330/500 [09:23<04:50,  1.71s/it]textattack: Saving checkpoint under \"checkpoints\\1720232158699.ta.chkpt\" at 2024-07-06 10:15:58 after 330 attacks.\n"
     ]
    },
    {
     "name": "stdout",
     "output_type": "stream",
     "text": [
      "\n",
      "\n",
      "=============================================================================================================================\n",
      "=============================================================================================================================\n",
      "\n"
     ]
    },
    {
     "name": "stderr",
     "output_type": "stream",
     "text": [
      "[Succeeded / Failed / Skipped / Total] 178 / 79 / 78 / 335:  67%|█████████████▍      | 335/500 [09:39<04:45,  1.73s/it]textattack: Saving checkpoint under \"checkpoints\\1720232174371.ta.chkpt\" at 2024-07-06 10:16:14 after 335 attacks.\n",
      "[Succeeded / Failed / Skipped / Total] 178 / 79 / 79 / 336:  67%|█████████████▍      | 336/500 [09:39<04:42,  1.72s/it]"
     ]
    },
    {
     "name": "stdout",
     "output_type": "stream",
     "text": [
      "\n",
      "\n",
      "=============================================================================================================================\n",
      "=============================================================================================================================\n",
      "\n"
     ]
    },
    {
     "name": "stderr",
     "output_type": "stream",
     "text": [
      "[Succeeded / Failed / Skipped / Total] 181 / 79 / 80 / 340:  68%|█████████████▌      | 340/500 [09:42<04:34,  1.71s/it]textattack: Saving checkpoint under \"checkpoints\\1720232177640.ta.chkpt\" at 2024-07-06 10:16:17 after 340 attacks.\n"
     ]
    },
    {
     "name": "stdout",
     "output_type": "stream",
     "text": [
      "\n",
      "\n",
      "=============================================================================================================================\n",
      "=============================================================================================================================\n",
      "\n"
     ]
    },
    {
     "name": "stderr",
     "output_type": "stream",
     "text": [
      "[Succeeded / Failed / Skipped / Total] 186 / 79 / 80 / 345:  69%|█████████████▊      | 345/500 [09:49<04:25,  1.71s/it]textattack: Saving checkpoint under \"checkpoints\\1720232185146.ta.chkpt\" at 2024-07-06 10:16:25 after 345 attacks.\n"
     ]
    },
    {
     "name": "stdout",
     "output_type": "stream",
     "text": [
      "\n",
      "\n",
      "=============================================================================================================================\n",
      "=============================================================================================================================\n",
      "\n"
     ]
    },
    {
     "name": "stderr",
     "output_type": "stream",
     "text": [
      "[Succeeded / Failed / Skipped / Total] 187 / 82 / 81 / 350:  70%|██████████████      | 350/500 [09:59<04:16,  1.71s/it]textattack: Saving checkpoint under \"checkpoints\\1720232194467.ta.chkpt\" at 2024-07-06 10:16:34 after 350 attacks.\n"
     ]
    },
    {
     "name": "stdout",
     "output_type": "stream",
     "text": [
      "\n",
      "\n",
      "=============================================================================================================================\n",
      "=============================================================================================================================\n",
      "\n"
     ]
    },
    {
     "name": "stderr",
     "output_type": "stream",
     "text": [
      "[Succeeded / Failed / Skipped / Total] 190 / 84 / 81 / 355:  71%|██████████████▏     | 355/500 [10:10<04:09,  1.72s/it]textattack: Saving checkpoint under \"checkpoints\\1720232205695.ta.chkpt\" at 2024-07-06 10:16:45 after 355 attacks.\n"
     ]
    },
    {
     "name": "stdout",
     "output_type": "stream",
     "text": [
      "\n",
      "\n",
      "=============================================================================================================================\n",
      "=============================================================================================================================\n",
      "\n"
     ]
    },
    {
     "name": "stderr",
     "output_type": "stream",
     "text": [
      "[Succeeded / Failed / Skipped / Total] 191 / 87 / 82 / 360:  72%|██████████████▍     | 360/500 [10:19<04:01,  1.72s/it]textattack: Saving checkpoint under \"checkpoints\\1720232215172.ta.chkpt\" at 2024-07-06 10:16:55 after 360 attacks.\n"
     ]
    },
    {
     "name": "stdout",
     "output_type": "stream",
     "text": [
      "\n",
      "\n",
      "=============================================================================================================================\n",
      "=============================================================================================================================\n",
      "\n"
     ]
    },
    {
     "name": "stderr",
     "output_type": "stream",
     "text": [
      "[Succeeded / Failed / Skipped / Total] 195 / 88 / 82 / 365:  73%|██████████████▌     | 365/500 [10:27<03:52,  1.72s/it]textattack: Saving checkpoint under \"checkpoints\\1720232223063.ta.chkpt\" at 2024-07-06 10:17:03 after 365 attacks.\n",
      "[Succeeded / Failed / Skipped / Total] 195 / 88 / 83 / 366:  73%|██████████████▋     | 366/500 [10:27<03:49,  1.72s/it]"
     ]
    },
    {
     "name": "stdout",
     "output_type": "stream",
     "text": [
      "\n",
      "\n",
      "=============================================================================================================================\n",
      "=============================================================================================================================\n",
      "\n"
     ]
    },
    {
     "name": "stderr",
     "output_type": "stream",
     "text": [
      "[Succeeded / Failed / Skipped / Total] 198 / 89 / 83 / 370:  74%|██████████████▊     | 370/500 [10:33<03:42,  1.71s/it]textattack: Saving checkpoint under \"checkpoints\\1720232229112.ta.chkpt\" at 2024-07-06 10:17:09 after 370 attacks.\n"
     ]
    },
    {
     "name": "stdout",
     "output_type": "stream",
     "text": [
      "\n",
      "\n",
      "=============================================================================================================================\n",
      "=============================================================================================================================\n",
      "\n"
     ]
    },
    {
     "name": "stderr",
     "output_type": "stream",
     "text": [
      "[Succeeded / Failed / Skipped / Total] 202 / 90 / 83 / 375:  75%|███████████████     | 375/500 [10:46<03:35,  1.73s/it]textattack: Saving checkpoint under \"checkpoints\\1720232242214.ta.chkpt\" at 2024-07-06 10:17:22 after 375 attacks.\n"
     ]
    },
    {
     "name": "stdout",
     "output_type": "stream",
     "text": [
      "\n",
      "\n",
      "=============================================================================================================================\n",
      "=============================================================================================================================\n",
      "\n"
     ]
    },
    {
     "name": "stderr",
     "output_type": "stream",
     "text": [
      "[Succeeded / Failed / Skipped / Total] 206 / 90 / 84 / 380:  76%|███████████████▏    | 380/500 [10:51<03:25,  1.71s/it]textattack: Saving checkpoint under \"checkpoints\\1720232246703.ta.chkpt\" at 2024-07-06 10:17:26 after 380 attacks.\n"
     ]
    },
    {
     "name": "stdout",
     "output_type": "stream",
     "text": [
      "\n",
      "\n",
      "=============================================================================================================================\n",
      "=============================================================================================================================\n",
      "\n"
     ]
    },
    {
     "name": "stderr",
     "output_type": "stream",
     "text": [
      "[Succeeded / Failed / Skipped / Total] 208 / 93 / 84 / 385:  77%|███████████████▍    | 385/500 [10:58<03:16,  1.71s/it]textattack: Saving checkpoint under \"checkpoints\\1720232253532.ta.chkpt\" at 2024-07-06 10:17:33 after 385 attacks.\n"
     ]
    },
    {
     "name": "stdout",
     "output_type": "stream",
     "text": [
      "\n",
      "\n",
      "=============================================================================================================================\n",
      "=============================================================================================================================\n",
      "\n"
     ]
    },
    {
     "name": "stderr",
     "output_type": "stream",
     "text": [
      "[Succeeded / Failed / Skipped / Total] 211 / 94 / 85 / 390:  78%|███████████████▌    | 390/500 [11:03<03:07,  1.70s/it]textattack: Saving checkpoint under \"checkpoints\\1720232258681.ta.chkpt\" at 2024-07-06 10:17:38 after 390 attacks.\n"
     ]
    },
    {
     "name": "stdout",
     "output_type": "stream",
     "text": [
      "\n",
      "\n",
      "=============================================================================================================================\n",
      "=============================================================================================================================\n",
      "\n"
     ]
    },
    {
     "name": "stderr",
     "output_type": "stream",
     "text": [
      "[Succeeded / Failed / Skipped / Total] 214 / 96 / 85 / 395:  79%|███████████████▊    | 395/500 [11:16<02:59,  1.71s/it]textattack: Saving checkpoint under \"checkpoints\\1720232271405.ta.chkpt\" at 2024-07-06 10:17:51 after 395 attacks.\n"
     ]
    },
    {
     "name": "stdout",
     "output_type": "stream",
     "text": [
      "\n",
      "\n",
      "=============================================================================================================================\n",
      "=============================================================================================================================\n",
      "\n"
     ]
    },
    {
     "name": "stderr",
     "output_type": "stream",
     "text": [
      "[Succeeded / Failed / Skipped / Total] 219 / 96 / 85 / 400:  80%|████████████████    | 400/500 [11:27<02:51,  1.72s/it]textattack: Saving checkpoint under \"checkpoints\\1720232282673.ta.chkpt\" at 2024-07-06 10:18:02 after 400 attacks.\n"
     ]
    },
    {
     "name": "stdout",
     "output_type": "stream",
     "text": [
      "\n",
      "\n",
      "=============================================================================================================================\n",
      "=============================================================================================================================\n",
      "\n"
     ]
    },
    {
     "name": "stderr",
     "output_type": "stream",
     "text": [
      "[Succeeded / Failed / Skipped / Total] 221 / 98 / 86 / 405:  81%|████████████████▏   | 405/500 [11:36<02:43,  1.72s/it]textattack: Saving checkpoint under \"checkpoints\\1720232291369.ta.chkpt\" at 2024-07-06 10:18:11 after 405 attacks.\n"
     ]
    },
    {
     "name": "stdout",
     "output_type": "stream",
     "text": [
      "\n",
      "\n",
      "=============================================================================================================================\n",
      "=============================================================================================================================\n",
      "\n"
     ]
    },
    {
     "name": "stderr",
     "output_type": "stream",
     "text": [
      "[Succeeded / Failed / Skipped / Total] 225 / 99 / 86 / 410:  82%|████████████████▍   | 410/500 [11:43<02:34,  1.72s/it]textattack: Saving checkpoint under \"checkpoints\\1720232298595.ta.chkpt\" at 2024-07-06 10:18:18 after 410 attacks.\n"
     ]
    },
    {
     "name": "stdout",
     "output_type": "stream",
     "text": [
      "\n",
      "\n",
      "=============================================================================================================================\n",
      "=============================================================================================================================\n",
      "\n"
     ]
    },
    {
     "name": "stderr",
     "output_type": "stream",
     "text": [
      "[Succeeded / Failed / Skipped / Total] 226 / 100 / 89 / 415:  83%|███████████████▊   | 415/500 [11:45<02:24,  1.70s/it]textattack: Saving checkpoint under \"checkpoints\\1720232300966.ta.chkpt\" at 2024-07-06 10:18:20 after 415 attacks.\n"
     ]
    },
    {
     "name": "stdout",
     "output_type": "stream",
     "text": [
      "\n",
      "\n",
      "=============================================================================================================================\n",
      "=============================================================================================================================\n",
      "\n"
     ]
    },
    {
     "name": "stderr",
     "output_type": "stream",
     "text": [
      "[Succeeded / Failed / Skipped / Total] 230 / 101 / 89 / 420:  84%|███████████████▉   | 420/500 [11:55<02:16,  1.70s/it]textattack: Saving checkpoint under \"checkpoints\\1720232311214.ta.chkpt\" at 2024-07-06 10:18:31 after 420 attacks.\n"
     ]
    },
    {
     "name": "stdout",
     "output_type": "stream",
     "text": [
      "\n",
      "\n",
      "=============================================================================================================================\n",
      "=============================================================================================================================\n",
      "\n"
     ]
    },
    {
     "name": "stderr",
     "output_type": "stream",
     "text": [
      "[Succeeded / Failed / Skipped / Total] 233 / 102 / 90 / 425:  85%|████████████████▏  | 425/500 [12:00<02:07,  1.70s/it]textattack: Saving checkpoint under \"checkpoints\\1720232316229.ta.chkpt\" at 2024-07-06 10:18:36 after 425 attacks.\n"
     ]
    },
    {
     "name": "stdout",
     "output_type": "stream",
     "text": [
      "\n",
      "\n",
      "=============================================================================================================================\n",
      "=============================================================================================================================\n",
      "\n"
     ]
    },
    {
     "name": "stderr",
     "output_type": "stream",
     "text": [
      "[Succeeded / Failed / Skipped / Total] 237 / 103 / 90 / 430:  86%|████████████████▎  | 430/500 [12:09<01:58,  1.70s/it]textattack: Saving checkpoint under \"checkpoints\\1720232324837.ta.chkpt\" at 2024-07-06 10:18:44 after 430 attacks.\n",
      "[Succeeded / Failed / Skipped / Total] 237 / 103 / 91 / 431:  86%|████████████████▍  | 431/500 [12:09<01:56,  1.69s/it]"
     ]
    },
    {
     "name": "stdout",
     "output_type": "stream",
     "text": [
      "\n",
      "\n",
      "=============================================================================================================================\n",
      "=============================================================================================================================\n",
      "\n"
     ]
    },
    {
     "name": "stderr",
     "output_type": "stream",
     "text": [
      "[Succeeded / Failed / Skipped / Total] 241 / 103 / 91 / 435:  87%|████████████████▌  | 435/500 [12:16<01:50,  1.69s/it]textattack: Saving checkpoint under \"checkpoints\\1720232331530.ta.chkpt\" at 2024-07-06 10:18:51 after 435 attacks.\n"
     ]
    },
    {
     "name": "stdout",
     "output_type": "stream",
     "text": [
      "\n",
      "\n",
      "=============================================================================================================================\n",
      "=============================================================================================================================\n",
      "\n"
     ]
    },
    {
     "name": "stderr",
     "output_type": "stream",
     "text": [
      "[Succeeded / Failed / Skipped / Total] 245 / 104 / 91 / 440:  88%|████████████████▋  | 440/500 [12:28<01:42,  1.70s/it]textattack: Saving checkpoint under \"checkpoints\\1720232344105.ta.chkpt\" at 2024-07-06 10:19:04 after 440 attacks.\n"
     ]
    },
    {
     "name": "stdout",
     "output_type": "stream",
     "text": [
      "\n",
      "\n",
      "=============================================================================================================================\n",
      "=============================================================================================================================\n",
      "\n"
     ]
    },
    {
     "name": "stderr",
     "output_type": "stream",
     "text": [
      "[Succeeded / Failed / Skipped / Total] 249 / 105 / 91 / 445:  89%|████████████████▉  | 445/500 [12:35<01:33,  1.70s/it]textattack: Saving checkpoint under \"checkpoints\\1720232350486.ta.chkpt\" at 2024-07-06 10:19:10 after 445 attacks.\n"
     ]
    },
    {
     "name": "stdout",
     "output_type": "stream",
     "text": [
      "\n",
      "\n",
      "=============================================================================================================================\n",
      "=============================================================================================================================\n",
      "\n"
     ]
    },
    {
     "name": "stderr",
     "output_type": "stream",
     "text": [
      "[Succeeded / Failed / Skipped / Total] 249 / 108 / 93 / 450:  90%|█████████████████  | 450/500 [12:40<01:24,  1.69s/it]textattack: Saving checkpoint under \"checkpoints\\1720232355850.ta.chkpt\" at 2024-07-06 10:19:15 after 450 attacks.\n"
     ]
    },
    {
     "name": "stdout",
     "output_type": "stream",
     "text": [
      "\n",
      "\n",
      "=============================================================================================================================\n",
      "=============================================================================================================================\n",
      "\n"
     ]
    },
    {
     "name": "stderr",
     "output_type": "stream",
     "text": [
      "[Succeeded / Failed / Skipped / Total] 252 / 109 / 94 / 455:  91%|█████████████████▎ | 455/500 [12:47<01:15,  1.69s/it]textattack: Saving checkpoint under \"checkpoints\\1720232362815.ta.chkpt\" at 2024-07-06 10:19:22 after 455 attacks.\n"
     ]
    },
    {
     "name": "stdout",
     "output_type": "stream",
     "text": [
      "\n",
      "\n",
      "=============================================================================================================================\n",
      "=============================================================================================================================\n",
      "\n"
     ]
    },
    {
     "name": "stderr",
     "output_type": "stream",
     "text": [
      "[Succeeded / Failed / Skipped / Total] 255 / 111 / 94 / 460:  92%|█████████████████▍ | 460/500 [12:58<01:07,  1.69s/it]textattack: Saving checkpoint under \"checkpoints\\1720232373726.ta.chkpt\" at 2024-07-06 10:19:33 after 460 attacks.\n"
     ]
    },
    {
     "name": "stdout",
     "output_type": "stream",
     "text": [
      "\n",
      "\n",
      "=============================================================================================================================\n",
      "=============================================================================================================================\n",
      "\n"
     ]
    },
    {
     "name": "stderr",
     "output_type": "stream",
     "text": [
      "[Succeeded / Failed / Skipped / Total] 258 / 112 / 95 / 465:  93%|█████████████████▋ | 465/500 [13:10<00:59,  1.70s/it]textattack: Saving checkpoint under \"checkpoints\\1720232385951.ta.chkpt\" at 2024-07-06 10:19:45 after 465 attacks.\n"
     ]
    },
    {
     "name": "stdout",
     "output_type": "stream",
     "text": [
      "\n",
      "\n",
      "=============================================================================================================================\n",
      "=============================================================================================================================\n",
      "\n"
     ]
    },
    {
     "name": "stderr",
     "output_type": "stream",
     "text": [
      "[Succeeded / Failed / Skipped / Total] 261 / 113 / 96 / 470:  94%|█████████████████▊ | 470/500 [13:14<00:50,  1.69s/it]textattack: Saving checkpoint under \"checkpoints\\1720232389984.ta.chkpt\" at 2024-07-06 10:19:49 after 470 attacks.\n"
     ]
    },
    {
     "name": "stdout",
     "output_type": "stream",
     "text": [
      "\n",
      "\n",
      "=============================================================================================================================\n",
      "=============================================================================================================================\n",
      "\n"
     ]
    },
    {
     "name": "stderr",
     "output_type": "stream",
     "text": [
      "[Succeeded / Failed / Skipped / Total] 265 / 114 / 96 / 475:  95%|██████████████████ | 475/500 [13:30<00:42,  1.71s/it]textattack: Saving checkpoint under \"checkpoints\\1720232405864.ta.chkpt\" at 2024-07-06 10:20:05 after 475 attacks.\n"
     ]
    },
    {
     "name": "stdout",
     "output_type": "stream",
     "text": [
      "\n",
      "\n",
      "=============================================================================================================================\n",
      "=============================================================================================================================\n",
      "\n"
     ]
    },
    {
     "name": "stderr",
     "output_type": "stream",
     "text": [
      "[Succeeded / Failed / Skipped / Total] 268 / 116 / 96 / 480:  96%|██████████████████▏| 480/500 [13:39<00:34,  1.71s/it]textattack: Saving checkpoint under \"checkpoints\\1720232414685.ta.chkpt\" at 2024-07-06 10:20:14 after 480 attacks.\n"
     ]
    },
    {
     "name": "stdout",
     "output_type": "stream",
     "text": [
      "\n",
      "\n",
      "=============================================================================================================================\n",
      "=============================================================================================================================\n",
      "\n"
     ]
    },
    {
     "name": "stderr",
     "output_type": "stream",
     "text": [
      "[Succeeded / Failed / Skipped / Total] 269 / 118 / 98 / 485:  97%|██████████████████▍| 485/500 [13:47<00:25,  1.71s/it]textattack: Saving checkpoint under \"checkpoints\\1720232422693.ta.chkpt\" at 2024-07-06 10:20:22 after 485 attacks.\n"
     ]
    },
    {
     "name": "stdout",
     "output_type": "stream",
     "text": [
      "\n",
      "\n",
      "=============================================================================================================================\n",
      "=============================================================================================================================\n",
      "\n"
     ]
    },
    {
     "name": "stderr",
     "output_type": "stream",
     "text": [
      "[Succeeded / Failed / Skipped / Total] 273 / 118 / 99 / 490:  98%|██████████████████▌| 490/500 [13:55<00:17,  1.70s/it]textattack: Saving checkpoint under \"checkpoints\\1720232430512.ta.chkpt\" at 2024-07-06 10:20:30 after 490 attacks.\n"
     ]
    },
    {
     "name": "stdout",
     "output_type": "stream",
     "text": [
      "\n",
      "\n",
      "=============================================================================================================================\n",
      "=============================================================================================================================\n",
      "\n"
     ]
    },
    {
     "name": "stderr",
     "output_type": "stream",
     "text": [
      "[Succeeded / Failed / Skipped / Total] 277 / 119 / 99 / 495:  99%|██████████████████▊| 495/500 [14:02<00:08,  1.70s/it]textattack: Saving checkpoint under \"checkpoints\\1720232437488.ta.chkpt\" at 2024-07-06 10:20:37 after 495 attacks.\n"
     ]
    },
    {
     "name": "stdout",
     "output_type": "stream",
     "text": [
      "\n",
      "\n",
      "=============================================================================================================================\n",
      "=============================================================================================================================\n",
      "\n"
     ]
    },
    {
     "name": "stderr",
     "output_type": "stream",
     "text": [
      "[Succeeded / Failed / Skipped / Total] 281 / 120 / 99 / 500: 100%|███████████████████| 500/500 [14:11<00:00,  1.70s/it]textattack: Saving checkpoint under \"checkpoints\\1720232446839.ta.chkpt\" at 2024-07-06 10:20:46 after 500 attacks.\n",
      "[Succeeded / Failed / Skipped / Total] 281 / 120 / 99 / 500: 100%|███████████████████| 500/500 [14:11<00:00,  1.70s/it]\n"
     ]
    },
    {
     "name": "stdout",
     "output_type": "stream",
     "text": [
      "\n",
      "\n",
      "=============================================================================================================================\n",
      "=============================================================================================================================\n",
      "\n",
      "\n",
      "+-------------------------------+--------+\n",
      "| Attack Results                |        |\n",
      "+-------------------------------+--------+\n",
      "| Number of successful attacks: | 281    |\n",
      "| Number of failed attacks:     | 120    |\n",
      "| Number of skipped attacks:    | 99     |\n",
      "| Original accuracy:            | 80.2%  |\n",
      "| Accuracy under attack:        | 24.0%  |\n",
      "| Attack success rate:          | 70.07% |\n",
      "| Average perturbed word %:     | 20.07% |\n",
      "| Average num. words per input: | 18.4   |\n",
      "| Avg num queries:              | 35.21  |\n",
      "+-------------------------------+--------+\n"
     ]
    }
   ],
   "source": [
    "runAttack(bert_model_wrapper_lr_mr, n_samples, 'attack_results_new/bertmrattacklr'+suffix, target_ds_mr)"
   ]
  },
  {
   "cell_type": "code",
   "execution_count": 13,
   "id": "881956a2-37da-4e06-9986-f72004946469",
   "metadata": {},
   "outputs": [
    {
     "name": "stderr",
     "output_type": "stream",
     "text": [
      "textattack: Unknown if model of class <class 'transformers.models.bert.modeling_bert.BertModel'> compatible with goal function <class 'textattack.goal_functions.classification.untargeted_classification.UntargetedClassification'>.\n",
      "textattack: Logging to CSV at path attack_results_new/bertmrattackrfsim08.csv\n"
     ]
    },
    {
     "name": "stdout",
     "output_type": "stream",
     "text": [
      "Attack(\n",
      "  (search_method): GreedyWordSwapWIR(\n",
      "    (wir_method):  delete\n",
      "  )\n",
      "  (goal_function):  UntargetedClassification\n",
      "  (transformation):  WordSwapEmbedding(\n",
      "    (max_candidates):  50\n",
      "    (embedding):  WordEmbedding\n",
      "  )\n",
      "  (constraints): \n",
      "    (0): WordEmbeddingDistance(\n",
      "        (embedding):  WordEmbedding\n",
      "        (min_cos_sim):  0.8\n",
      "        (cased):  False\n",
      "        (include_unknown_words):  True\n",
      "        (compare_against_original):  True\n",
      "      )\n",
      "    (1): PartOfSpeech(\n",
      "        (tagger_type):  nltk\n",
      "        (tagset):  universal\n",
      "        (allow_verb_noun_swap):  True\n",
      "        (compare_against_original):  True\n",
      "      )\n",
      "    (2): UniversalSentenceEncoder(\n",
      "        (metric):  angular\n",
      "        (threshold):  0.840845057\n",
      "        (window_size):  15\n",
      "        (skip_text_shorter_than_window):  True\n",
      "        (compare_against_original):  False\n",
      "      )\n",
      "    (3): RepeatModification\n",
      "    (4): StopwordModification\n",
      "    (5): InputColumnModification(\n",
      "        (matching_column_labels):  ['premise', 'hypothesis']\n",
      "        (columns_to_ignore):  {'premise'}\n",
      "      )\n",
      "  (is_black_box):  True\n",
      ") \n",
      "\n"
     ]
    },
    {
     "name": "stderr",
     "output_type": "stream",
     "text": [
      "[Succeeded / Failed / Skipped / Total] 0 / 3 / 2 / 5:   1%|▎                           | 5/500 [00:23<38:13,  4.63s/it]textattack: Saving checkpoint under \"checkpoints\\1720232471160.ta.chkpt\" at 2024-07-06 10:21:11 after 5 attacks.\n"
     ]
    },
    {
     "name": "stdout",
     "output_type": "stream",
     "text": [
      "\n",
      "\n",
      "=============================================================================================================================\n",
      "=============================================================================================================================\n",
      "\n"
     ]
    },
    {
     "name": "stderr",
     "output_type": "stream",
     "text": [
      "[Succeeded / Failed / Skipped / Total] 2 / 3 / 5 / 10:   2%|▌                         | 10/500 [00:29<23:44,  2.91s/it]textattack: Saving checkpoint under \"checkpoints\\1720232477057.ta.chkpt\" at 2024-07-06 10:21:17 after 10 attacks.\n"
     ]
    },
    {
     "name": "stdout",
     "output_type": "stream",
     "text": [
      "\n",
      "\n",
      "=============================================================================================================================\n",
      "=============================================================================================================================\n",
      "\n"
     ]
    },
    {
     "name": "stderr",
     "output_type": "stream",
     "text": [
      "[Succeeded / Failed / Skipped / Total] 4 / 5 / 6 / 15:   3%|▊                         | 15/500 [00:40<21:48,  2.70s/it]textattack: Saving checkpoint under \"checkpoints\\1720232488466.ta.chkpt\" at 2024-07-06 10:21:28 after 15 attacks.\n"
     ]
    },
    {
     "name": "stdout",
     "output_type": "stream",
     "text": [
      "\n",
      "\n",
      "=============================================================================================================================\n",
      "=============================================================================================================================\n",
      "\n"
     ]
    },
    {
     "name": "stderr",
     "output_type": "stream",
     "text": [
      "[Succeeded / Failed / Skipped / Total] 6 / 7 / 7 / 20:   4%|█                         | 20/500 [00:46<18:33,  2.32s/it]textattack: Saving checkpoint under \"checkpoints\\1720232494390.ta.chkpt\" at 2024-07-06 10:21:34 after 20 attacks.\n"
     ]
    },
    {
     "name": "stdout",
     "output_type": "stream",
     "text": [
      "\n",
      "\n",
      "=============================================================================================================================\n",
      "=============================================================================================================================\n",
      "\n"
     ]
    },
    {
     "name": "stderr",
     "output_type": "stream",
     "text": [
      "[Succeeded / Failed / Skipped / Total] 9 / 8 / 8 / 25:   5%|█▎                        | 25/500 [00:56<17:49,  2.25s/it]textattack: Saving checkpoint under \"checkpoints\\1720232504270.ta.chkpt\" at 2024-07-06 10:21:44 after 25 attacks.\n"
     ]
    },
    {
     "name": "stdout",
     "output_type": "stream",
     "text": [
      "\n",
      "\n",
      "=============================================================================================================================\n",
      "=============================================================================================================================\n",
      "\n"
     ]
    },
    {
     "name": "stderr",
     "output_type": "stream",
     "text": [
      "[Succeeded / Failed / Skipped / Total] 9 / 12 / 9 / 30:   6%|█▌                       | 30/500 [01:05<17:04,  2.18s/it]textattack: Saving checkpoint under \"checkpoints\\1720232513398.ta.chkpt\" at 2024-07-06 10:21:53 after 30 attacks.\n"
     ]
    },
    {
     "name": "stdout",
     "output_type": "stream",
     "text": [
      "\n",
      "\n",
      "=============================================================================================================================\n",
      "=============================================================================================================================\n",
      "\n"
     ]
    },
    {
     "name": "stderr",
     "output_type": "stream",
     "text": [
      "[Succeeded / Failed / Skipped / Total] 12 / 13 / 10 / 35:   7%|█▌                     | 35/500 [01:11<15:44,  2.03s/it]textattack: Saving checkpoint under \"checkpoints\\1720232519077.ta.chkpt\" at 2024-07-06 10:21:59 after 35 attacks.\n"
     ]
    },
    {
     "name": "stdout",
     "output_type": "stream",
     "text": [
      "\n",
      "\n",
      "=============================================================================================================================\n",
      "=============================================================================================================================\n",
      "\n"
     ]
    },
    {
     "name": "stderr",
     "output_type": "stream",
     "text": [
      "[Succeeded / Failed / Skipped / Total] 13 / 14 / 13 / 40:   8%|█▊                     | 40/500 [01:17<14:48,  1.93s/it]textattack: Saving checkpoint under \"checkpoints\\1720232525279.ta.chkpt\" at 2024-07-06 10:22:05 after 40 attacks.\n"
     ]
    },
    {
     "name": "stdout",
     "output_type": "stream",
     "text": [
      "\n",
      "\n",
      "=============================================================================================================================\n",
      "=============================================================================================================================\n",
      "\n"
     ]
    },
    {
     "name": "stderr",
     "output_type": "stream",
     "text": [
      "[Succeeded / Failed / Skipped / Total] 16 / 15 / 14 / 45:   9%|██                     | 45/500 [01:28<14:52,  1.96s/it]textattack: Saving checkpoint under \"checkpoints\\1720232536249.ta.chkpt\" at 2024-07-06 10:22:16 after 45 attacks.\n"
     ]
    },
    {
     "name": "stdout",
     "output_type": "stream",
     "text": [
      "\n",
      "\n",
      "=============================================================================================================================\n",
      "=============================================================================================================================\n",
      "\n"
     ]
    },
    {
     "name": "stderr",
     "output_type": "stream",
     "text": [
      "[Succeeded / Failed / Skipped / Total] 21 / 15 / 14 / 50:  10%|██▎                    | 50/500 [01:34<14:07,  1.88s/it]textattack: Saving checkpoint under \"checkpoints\\1720232542187.ta.chkpt\" at 2024-07-06 10:22:22 after 50 attacks.\n"
     ]
    },
    {
     "name": "stdout",
     "output_type": "stream",
     "text": [
      "\n",
      "\n",
      "=============================================================================================================================\n",
      "=============================================================================================================================\n",
      "\n"
     ]
    },
    {
     "name": "stderr",
     "output_type": "stream",
     "text": [
      "[Succeeded / Failed / Skipped / Total] 24 / 15 / 16 / 55:  11%|██▌                    | 55/500 [01:42<13:48,  1.86s/it]textattack: Saving checkpoint under \"checkpoints\\1720232550344.ta.chkpt\" at 2024-07-06 10:22:30 after 55 attacks.\n"
     ]
    },
    {
     "name": "stdout",
     "output_type": "stream",
     "text": [
      "\n",
      "\n",
      "=============================================================================================================================\n",
      "=============================================================================================================================\n",
      "\n"
     ]
    },
    {
     "name": "stderr",
     "output_type": "stream",
     "text": [
      "[Succeeded / Failed / Skipped / Total] 28 / 15 / 17 / 60:  12%|██▊                    | 60/500 [01:46<13:00,  1.77s/it]textattack: Saving checkpoint under \"checkpoints\\1720232554392.ta.chkpt\" at 2024-07-06 10:22:34 after 60 attacks.\n",
      "[Succeeded / Failed / Skipped / Total] 28 / 15 / 18 / 61:  12%|██▊                    | 61/500 [01:46<12:46,  1.75s/it]"
     ]
    },
    {
     "name": "stdout",
     "output_type": "stream",
     "text": [
      "\n",
      "\n",
      "=============================================================================================================================\n",
      "=============================================================================================================================\n",
      "\n"
     ]
    },
    {
     "name": "stderr",
     "output_type": "stream",
     "text": [
      "[Succeeded / Failed / Skipped / Total] 31 / 16 / 18 / 65:  13%|██▉                    | 65/500 [01:49<12:15,  1.69s/it]textattack: Saving checkpoint under \"checkpoints\\1720232557845.ta.chkpt\" at 2024-07-06 10:22:37 after 65 attacks.\n"
     ]
    },
    {
     "name": "stdout",
     "output_type": "stream",
     "text": [
      "\n",
      "\n",
      "=============================================================================================================================\n",
      "=============================================================================================================================\n",
      "\n"
     ]
    },
    {
     "name": "stderr",
     "output_type": "stream",
     "text": [
      "[Succeeded / Failed / Skipped / Total] 33 / 18 / 19 / 70:  14%|███▏                   | 70/500 [01:54<11:45,  1.64s/it]textattack: Saving checkpoint under \"checkpoints\\1720232562908.ta.chkpt\" at 2024-07-06 10:22:42 after 70 attacks.\n"
     ]
    },
    {
     "name": "stdout",
     "output_type": "stream",
     "text": [
      "\n",
      "\n",
      "=============================================================================================================================\n",
      "=============================================================================================================================\n",
      "\n"
     ]
    },
    {
     "name": "stderr",
     "output_type": "stream",
     "text": [
      "[Succeeded / Failed / Skipped / Total] 38 / 18 / 19 / 75:  15%|███▍                   | 75/500 [02:01<11:26,  1.61s/it]textattack: Saving checkpoint under \"checkpoints\\1720232569111.ta.chkpt\" at 2024-07-06 10:22:49 after 75 attacks.\n",
      "[Succeeded / Failed / Skipped / Total] 38 / 18 / 20 / 76:  15%|███▍                   | 76/500 [02:01<11:16,  1.60s/it]"
     ]
    },
    {
     "name": "stdout",
     "output_type": "stream",
     "text": [
      "\n",
      "\n",
      "=============================================================================================================================\n",
      "=============================================================================================================================\n",
      "\n"
     ]
    },
    {
     "name": "stderr",
     "output_type": "stream",
     "text": [
      "[Succeeded / Failed / Skipped / Total] 40 / 19 / 21 / 80:  16%|███▋                   | 80/500 [02:07<11:10,  1.60s/it]textattack: Saving checkpoint under \"checkpoints\\1720232575768.ta.chkpt\" at 2024-07-06 10:22:55 after 80 attacks.\n"
     ]
    },
    {
     "name": "stdout",
     "output_type": "stream",
     "text": [
      "\n",
      "\n",
      "=============================================================================================================================\n",
      "=============================================================================================================================\n",
      "\n"
     ]
    },
    {
     "name": "stderr",
     "output_type": "stream",
     "text": [
      "[Succeeded / Failed / Skipped / Total] 44 / 19 / 22 / 85:  17%|███▉                   | 85/500 [02:10<10:37,  1.54s/it]textattack: Saving checkpoint under \"checkpoints\\1720232578581.ta.chkpt\" at 2024-07-06 10:22:58 after 85 attacks.\n"
     ]
    },
    {
     "name": "stdout",
     "output_type": "stream",
     "text": [
      "\n",
      "\n",
      "=============================================================================================================================\n",
      "=============================================================================================================================\n",
      "\n"
     ]
    },
    {
     "name": "stderr",
     "output_type": "stream",
     "text": [
      "[Succeeded / Failed / Skipped / Total] 48 / 20 / 22 / 90:  18%|████▏                  | 90/500 [02:16<10:21,  1.52s/it]textattack: Saving checkpoint under \"checkpoints\\1720232584425.ta.chkpt\" at 2024-07-06 10:23:04 after 90 attacks.\n",
      "[Succeeded / Failed / Skipped / Total] 48 / 20 / 23 / 91:  18%|████▏                  | 91/500 [02:16<10:13,  1.50s/it]"
     ]
    },
    {
     "name": "stdout",
     "output_type": "stream",
     "text": [
      "\n",
      "\n",
      "=============================================================================================================================\n",
      "=============================================================================================================================\n",
      "\n"
     ]
    },
    {
     "name": "stderr",
     "output_type": "stream",
     "text": [
      "[Succeeded / Failed / Skipped / Total] 49 / 20 / 26 / 95:  19%|████▎                  | 95/500 [02:17<09:46,  1.45s/it]textattack: Saving checkpoint under \"checkpoints\\1720232585488.ta.chkpt\" at 2024-07-06 10:23:05 after 95 attacks.\n"
     ]
    },
    {
     "name": "stdout",
     "output_type": "stream",
     "text": [
      "\n",
      "\n",
      "=============================================================================================================================\n",
      "=============================================================================================================================\n",
      "\n"
     ]
    },
    {
     "name": "stderr",
     "output_type": "stream",
     "text": [
      "[Succeeded / Failed / Skipped / Total] 51 / 23 / 26 / 100:  20%|████▏                | 100/500 [02:25<09:40,  1.45s/it]textattack: Saving checkpoint under \"checkpoints\\1720232593238.ta.chkpt\" at 2024-07-06 10:23:13 after 100 attacks.\n",
      "[Succeeded / Failed / Skipped / Total] 51 / 23 / 27 / 101:  20%|████▏                | 101/500 [02:25<09:34,  1.44s/it]"
     ]
    },
    {
     "name": "stdout",
     "output_type": "stream",
     "text": [
      "\n",
      "\n",
      "=============================================================================================================================\n",
      "=============================================================================================================================\n",
      "\n"
     ]
    },
    {
     "name": "stderr",
     "output_type": "stream",
     "text": [
      "[Succeeded / Failed / Skipped / Total] 52 / 25 / 28 / 105:  21%|████▍                | 105/500 [02:30<09:24,  1.43s/it]textattack: Saving checkpoint under \"checkpoints\\1720232598161.ta.chkpt\" at 2024-07-06 10:23:18 after 105 attacks.\n",
      "[Succeeded / Failed / Skipped / Total] 52 / 25 / 28 / 105:  21%|████▍                | 106/500 [02:30<09:18,  1.42s/it]"
     ]
    },
    {
     "name": "stdout",
     "output_type": "stream",
     "text": [
      "\n",
      "\n",
      "=============================================================================================================================\n",
      "=============================================================================================================================\n",
      "\n"
     ]
    },
    {
     "name": "stderr",
     "output_type": "stream",
     "text": [
      "[Succeeded / Failed / Skipped / Total] 54 / 26 / 30 / 110:  22%|████▌                | 110/500 [02:33<09:05,  1.40s/it]textattack: Saving checkpoint under \"checkpoints\\1720232601864.ta.chkpt\" at 2024-07-06 10:23:21 after 110 attacks.\n",
      "[Succeeded / Failed / Skipped / Total] 54 / 26 / 31 / 111:  22%|████▋                | 111/500 [02:34<08:59,  1.39s/it]"
     ]
    },
    {
     "name": "stdout",
     "output_type": "stream",
     "text": [
      "\n",
      "\n",
      "=============================================================================================================================\n",
      "=============================================================================================================================\n",
      "\n"
     ]
    },
    {
     "name": "stderr",
     "output_type": "stream",
     "text": [
      "[Succeeded / Failed / Skipped / Total] 57 / 27 / 31 / 115:  23%|████▊                | 115/500 [02:39<08:55,  1.39s/it]textattack: Saving checkpoint under \"checkpoints\\1720232607974.ta.chkpt\" at 2024-07-06 10:23:27 after 115 attacks.\n",
      "[Succeeded / Failed / Skipped / Total] 57 / 27 / 32 / 116:  23%|████▊                | 116/500 [02:40<08:50,  1.38s/it]"
     ]
    },
    {
     "name": "stdout",
     "output_type": "stream",
     "text": [
      "\n",
      "\n",
      "=============================================================================================================================\n",
      "=============================================================================================================================\n",
      "\n"
     ]
    },
    {
     "name": "stderr",
     "output_type": "stream",
     "text": [
      "[Succeeded / Failed / Skipped / Total] 59 / 27 / 34 / 120:  24%|█████                | 120/500 [02:41<08:31,  1.35s/it]textattack: Saving checkpoint under \"checkpoints\\1720232609568.ta.chkpt\" at 2024-07-06 10:23:29 after 120 attacks.\n"
     ]
    },
    {
     "name": "stdout",
     "output_type": "stream",
     "text": [
      "\n",
      "\n",
      "=============================================================================================================================\n",
      "=============================================================================================================================\n",
      "\n"
     ]
    },
    {
     "name": "stderr",
     "output_type": "stream",
     "text": [
      "[Succeeded / Failed / Skipped / Total] 63 / 27 / 35 / 125:  25%|█████▎               | 125/500 [02:48<08:26,  1.35s/it]textattack: Saving checkpoint under \"checkpoints\\1720232616913.ta.chkpt\" at 2024-07-06 10:23:36 after 125 attacks.\n"
     ]
    },
    {
     "name": "stdout",
     "output_type": "stream",
     "text": [
      "\n",
      "\n",
      "=============================================================================================================================\n",
      "=============================================================================================================================\n",
      "\n"
     ]
    },
    {
     "name": "stderr",
     "output_type": "stream",
     "text": [
      "[Succeeded / Failed / Skipped / Total] 67 / 28 / 35 / 130:  26%|█████▍               | 130/500 [02:56<08:22,  1.36s/it]textattack: Saving checkpoint under \"checkpoints\\1720232624398.ta.chkpt\" at 2024-07-06 10:23:44 after 130 attacks.\n",
      "[Succeeded / Failed / Skipped / Total] 67 / 28 / 36 / 131:  26%|█████▌               | 131/500 [02:56<08:17,  1.35s/it]"
     ]
    },
    {
     "name": "stdout",
     "output_type": "stream",
     "text": [
      "\n",
      "\n",
      "=============================================================================================================================\n",
      "=============================================================================================================================\n",
      "\n"
     ]
    },
    {
     "name": "stderr",
     "output_type": "stream",
     "text": [
      "[Succeeded / Failed / Skipped / Total] 69 / 28 / 38 / 135:  27%|█████▋               | 135/500 [03:04<08:19,  1.37s/it]textattack: Saving checkpoint under \"checkpoints\\1720232632633.ta.chkpt\" at 2024-07-06 10:23:52 after 135 attacks.\n",
      "[Succeeded / Failed / Skipped / Total] 69 / 28 / 39 / 136:  27%|█████▋               | 136/500 [03:04<08:14,  1.36s/it]"
     ]
    },
    {
     "name": "stdout",
     "output_type": "stream",
     "text": [
      "\n",
      "\n",
      "=============================================================================================================================\n",
      "=============================================================================================================================\n",
      "\n"
     ]
    },
    {
     "name": "stderr",
     "output_type": "stream",
     "text": [
      "[Succeeded / Failed / Skipped / Total] 73 / 28 / 39 / 140:  28%|█████▉               | 140/500 [03:09<08:06,  1.35s/it]textattack: Saving checkpoint under \"checkpoints\\1720232637305.ta.chkpt\" at 2024-07-06 10:23:57 after 140 attacks.\n"
     ]
    },
    {
     "name": "stdout",
     "output_type": "stream",
     "text": [
      "\n",
      "\n",
      "=============================================================================================================================\n",
      "=============================================================================================================================\n",
      "\n"
     ]
    },
    {
     "name": "stderr",
     "output_type": "stream",
     "text": [
      "[Succeeded / Failed / Skipped / Total] 77 / 28 / 40 / 145:  29%|██████               | 145/500 [03:14<07:55,  1.34s/it]textattack: Saving checkpoint under \"checkpoints\\1720232642368.ta.chkpt\" at 2024-07-06 10:24:02 after 145 attacks.\n",
      "[Succeeded / Failed / Skipped / Total] 77 / 28 / 41 / 146:  29%|██████▏              | 146/500 [03:14<07:51,  1.33s/it]"
     ]
    },
    {
     "name": "stdout",
     "output_type": "stream",
     "text": [
      "\n",
      "\n",
      "=============================================================================================================================\n",
      "=============================================================================================================================\n",
      "\n"
     ]
    },
    {
     "name": "stderr",
     "output_type": "stream",
     "text": [
      "[Succeeded / Failed / Skipped / Total] 79 / 28 / 43 / 150:  30%|██████▎              | 150/500 [03:15<07:37,  1.31s/it]textattack: Saving checkpoint under \"checkpoints\\1720232643915.ta.chkpt\" at 2024-07-06 10:24:03 after 150 attacks.\n",
      "[Succeeded / Failed / Skipped / Total] 79 / 28 / 44 / 151:  30%|██████▍              | 152/500 [03:16<07:28,  1.29s/it]"
     ]
    },
    {
     "name": "stdout",
     "output_type": "stream",
     "text": [
      "\n",
      "\n",
      "=============================================================================================================================\n",
      "=============================================================================================================================\n",
      "\n"
     ]
    },
    {
     "name": "stderr",
     "output_type": "stream",
     "text": [
      "[Succeeded / Failed / Skipped / Total] 81 / 28 / 46 / 155:  31%|██████▌              | 155/500 [03:17<07:19,  1.27s/it]textattack: Saving checkpoint under \"checkpoints\\1720232645399.ta.chkpt\" at 2024-07-06 10:24:05 after 155 attacks.\n"
     ]
    },
    {
     "name": "stdout",
     "output_type": "stream",
     "text": [
      "\n",
      "\n",
      "=============================================================================================================================\n",
      "=============================================================================================================================\n",
      "\n"
     ]
    },
    {
     "name": "stderr",
     "output_type": "stream",
     "text": [
      "[Succeeded / Failed / Skipped / Total] 83 / 29 / 48 / 160:  32%|██████▋              | 160/500 [03:28<07:22,  1.30s/it]textattack: Saving checkpoint under \"checkpoints\\1720232656150.ta.chkpt\" at 2024-07-06 10:24:16 after 160 attacks.\n",
      "[Succeeded / Failed / Skipped / Total] 83 / 29 / 49 / 161:  32%|██████▊              | 161/500 [03:28<07:18,  1.29s/it]"
     ]
    },
    {
     "name": "stdout",
     "output_type": "stream",
     "text": [
      "\n",
      "\n",
      "=============================================================================================================================\n",
      "=============================================================================================================================\n",
      "\n"
     ]
    },
    {
     "name": "stderr",
     "output_type": "stream",
     "text": [
      "[Succeeded / Failed / Skipped / Total] 86 / 29 / 50 / 165:  33%|██████▉              | 165/500 [03:34<07:14,  1.30s/it]textattack: Saving checkpoint under \"checkpoints\\1720232662104.ta.chkpt\" at 2024-07-06 10:24:22 after 165 attacks.\n",
      "[Succeeded / Failed / Skipped / Total] 86 / 29 / 51 / 166:  33%|██████▉              | 166/500 [03:34<07:11,  1.29s/it]"
     ]
    },
    {
     "name": "stdout",
     "output_type": "stream",
     "text": [
      "\n",
      "\n",
      "=============================================================================================================================\n",
      "=============================================================================================================================\n",
      "\n"
     ]
    },
    {
     "name": "stderr",
     "output_type": "stream",
     "text": [
      "[Succeeded / Failed / Skipped / Total] 88 / 29 / 53 / 170:  34%|███████▏             | 170/500 [03:37<07:01,  1.28s/it]textattack: Saving checkpoint under \"checkpoints\\1720232665135.ta.chkpt\" at 2024-07-06 10:24:25 after 170 attacks.\n"
     ]
    },
    {
     "name": "stdout",
     "output_type": "stream",
     "text": [
      "\n",
      "\n",
      "=============================================================================================================================\n",
      "=============================================================================================================================\n",
      "\n"
     ]
    },
    {
     "name": "stderr",
     "output_type": "stream",
     "text": [
      "[Succeeded / Failed / Skipped / Total] 91 / 30 / 54 / 175:  35%|███████▎             | 175/500 [03:48<07:04,  1.31s/it]textattack: Saving checkpoint under \"checkpoints\\1720232676558.ta.chkpt\" at 2024-07-06 10:24:36 after 175 attacks.\n",
      "[Succeeded / Failed / Skipped / Total] 91 / 30 / 55 / 176:  35%|███████▍             | 176/500 [03:48<07:00,  1.30s/it]"
     ]
    },
    {
     "name": "stdout",
     "output_type": "stream",
     "text": [
      "\n",
      "\n",
      "=============================================================================================================================\n",
      "=============================================================================================================================\n",
      "\n"
     ]
    },
    {
     "name": "stderr",
     "output_type": "stream",
     "text": [
      "[Succeeded / Failed / Skipped / Total] 91 / 33 / 56 / 180:  36%|███████▌             | 180/500 [03:54<06:57,  1.30s/it]textattack: Saving checkpoint under \"checkpoints\\1720232682574.ta.chkpt\" at 2024-07-06 10:24:42 after 180 attacks.\n",
      "[Succeeded / Failed / Skipped / Total] 91 / 33 / 57 / 181:  36%|███████▌             | 181/500 [03:54<06:53,  1.30s/it]"
     ]
    },
    {
     "name": "stdout",
     "output_type": "stream",
     "text": [
      "\n",
      "\n",
      "=============================================================================================================================\n",
      "=============================================================================================================================\n",
      "\n"
     ]
    },
    {
     "name": "stderr",
     "output_type": "stream",
     "text": [
      "[Succeeded / Failed / Skipped / Total] 94 / 33 / 58 / 185:  37%|███████▊             | 185/500 [03:56<06:42,  1.28s/it]textattack: Saving checkpoint under \"checkpoints\\1720232684621.ta.chkpt\" at 2024-07-06 10:24:44 after 185 attacks.\n"
     ]
    },
    {
     "name": "stdout",
     "output_type": "stream",
     "text": [
      "\n",
      "\n",
      "=============================================================================================================================\n",
      "=============================================================================================================================\n",
      "\n"
     ]
    },
    {
     "name": "stderr",
     "output_type": "stream",
     "text": [
      "[Succeeded / Failed / Skipped / Total] 97 / 35 / 58 / 190:  38%|███████▉             | 190/500 [04:07<06:44,  1.30s/it]textattack: Saving checkpoint under \"checkpoints\\1720232695872.ta.chkpt\" at 2024-07-06 10:24:55 after 190 attacks.\n"
     ]
    },
    {
     "name": "stdout",
     "output_type": "stream",
     "text": [
      "\n",
      "\n",
      "=============================================================================================================================\n",
      "=============================================================================================================================\n",
      "\n"
     ]
    },
    {
     "name": "stderr",
     "output_type": "stream",
     "text": [
      "[Succeeded / Failed / Skipped / Total] 100 / 36 / 59 / 195:  39%|███████▊            | 195/500 [04:19<06:46,  1.33s/it]textattack: Saving checkpoint under \"checkpoints\\1720232707764.ta.chkpt\" at 2024-07-06 10:25:07 after 195 attacks.\n"
     ]
    },
    {
     "name": "stdout",
     "output_type": "stream",
     "text": [
      "\n",
      "\n",
      "=============================================================================================================================\n",
      "=============================================================================================================================\n",
      "\n"
     ]
    },
    {
     "name": "stderr",
     "output_type": "stream",
     "text": [
      "[Succeeded / Failed / Skipped / Total] 102 / 38 / 60 / 200:  40%|████████            | 200/500 [04:34<06:51,  1.37s/it]textattack: Saving checkpoint under \"checkpoints\\1720232722108.ta.chkpt\" at 2024-07-06 10:25:22 after 200 attacks.\n"
     ]
    },
    {
     "name": "stdout",
     "output_type": "stream",
     "text": [
      "\n",
      "\n",
      "=============================================================================================================================\n",
      "=============================================================================================================================\n",
      "\n"
     ]
    },
    {
     "name": "stderr",
     "output_type": "stream",
     "text": [
      "[Succeeded / Failed / Skipped / Total] 104 / 40 / 61 / 205:  41%|████████▏           | 205/500 [04:40<06:43,  1.37s/it]textattack: Saving checkpoint under \"checkpoints\\1720232728671.ta.chkpt\" at 2024-07-06 10:25:28 after 205 attacks.\n",
      "[Succeeded / Failed / Skipped / Total] 104 / 40 / 62 / 206:  41%|████████▏           | 206/500 [04:40<06:40,  1.36s/it]"
     ]
    },
    {
     "name": "stdout",
     "output_type": "stream",
     "text": [
      "\n",
      "\n",
      "=============================================================================================================================\n",
      "=============================================================================================================================\n",
      "\n"
     ]
    },
    {
     "name": "stderr",
     "output_type": "stream",
     "text": [
      "[Succeeded / Failed / Skipped / Total] 107 / 41 / 62 / 210:  42%|████████▍           | 210/500 [04:44<06:32,  1.35s/it]textattack: Saving checkpoint under \"checkpoints\\1720232732179.ta.chkpt\" at 2024-07-06 10:25:32 after 210 attacks.\n"
     ]
    },
    {
     "name": "stdout",
     "output_type": "stream",
     "text": [
      "\n",
      "\n",
      "=============================================================================================================================\n",
      "=============================================================================================================================\n",
      "\n"
     ]
    },
    {
     "name": "stderr",
     "output_type": "stream",
     "text": [
      "[Succeeded / Failed / Skipped / Total] 108 / 44 / 63 / 215:  43%|████████▌           | 215/500 [04:51<06:26,  1.36s/it]textattack: Saving checkpoint under \"checkpoints\\1720232739625.ta.chkpt\" at 2024-07-06 10:25:39 after 215 attacks.\n"
     ]
    },
    {
     "name": "stdout",
     "output_type": "stream",
     "text": [
      "\n",
      "\n",
      "=============================================================================================================================\n",
      "=============================================================================================================================\n",
      "\n"
     ]
    },
    {
     "name": "stderr",
     "output_type": "stream",
     "text": [
      "[Succeeded / Failed / Skipped / Total] 112 / 45 / 63 / 220:  44%|████████▊           | 220/500 [04:56<06:17,  1.35s/it]textattack: Saving checkpoint under \"checkpoints\\1720232744563.ta.chkpt\" at 2024-07-06 10:25:44 after 220 attacks.\n"
     ]
    },
    {
     "name": "stdout",
     "output_type": "stream",
     "text": [
      "\n",
      "\n",
      "=============================================================================================================================\n",
      "=============================================================================================================================\n",
      "\n"
     ]
    },
    {
     "name": "stderr",
     "output_type": "stream",
     "text": [
      "[Succeeded / Failed / Skipped / Total] 115 / 45 / 65 / 225:  45%|█████████           | 225/500 [05:05<06:12,  1.36s/it]textattack: Saving checkpoint under \"checkpoints\\1720232753033.ta.chkpt\" at 2024-07-06 10:25:53 after 225 attacks.\n"
     ]
    },
    {
     "name": "stdout",
     "output_type": "stream",
     "text": [
      "\n",
      "\n",
      "=============================================================================================================================\n",
      "=============================================================================================================================\n",
      "\n"
     ]
    },
    {
     "name": "stderr",
     "output_type": "stream",
     "text": [
      "[Succeeded / Failed / Skipped / Total] 116 / 46 / 68 / 230:  46%|█████████▏          | 230/500 [05:14<06:09,  1.37s/it]textattack: Saving checkpoint under \"checkpoints\\1720232762816.ta.chkpt\" at 2024-07-06 10:26:02 after 230 attacks.\n"
     ]
    },
    {
     "name": "stdout",
     "output_type": "stream",
     "text": [
      "\n",
      "\n",
      "=============================================================================================================================\n",
      "=============================================================================================================================\n",
      "\n"
     ]
    },
    {
     "name": "stderr",
     "output_type": "stream",
     "text": [
      "[Succeeded / Failed / Skipped / Total] 119 / 48 / 68 / 235:  47%|█████████▍          | 235/500 [05:21<06:02,  1.37s/it]textattack: Saving checkpoint under \"checkpoints\\1720232769410.ta.chkpt\" at 2024-07-06 10:26:09 after 235 attacks.\n",
      "[Succeeded / Failed / Skipped / Total] 119 / 48 / 69 / 236:  47%|█████████▍          | 236/500 [05:21<05:59,  1.36s/it]"
     ]
    },
    {
     "name": "stdout",
     "output_type": "stream",
     "text": [
      "\n",
      "\n",
      "=============================================================================================================================\n",
      "=============================================================================================================================\n",
      "\n"
     ]
    },
    {
     "name": "stderr",
     "output_type": "stream",
     "text": [
      "[Succeeded / Failed / Skipped / Total] 120 / 50 / 70 / 240:  48%|█████████▌          | 240/500 [05:25<05:52,  1.36s/it]textattack: Saving checkpoint under \"checkpoints\\1720232773582.ta.chkpt\" at 2024-07-06 10:26:13 after 240 attacks.\n"
     ]
    },
    {
     "name": "stdout",
     "output_type": "stream",
     "text": [
      "\n",
      "\n",
      "=============================================================================================================================\n",
      "=============================================================================================================================\n",
      "\n"
     ]
    },
    {
     "name": "stderr",
     "output_type": "stream",
     "text": [
      "[Succeeded / Failed / Skipped / Total] 123 / 51 / 71 / 245:  49%|█████████▊          | 245/500 [05:35<05:49,  1.37s/it]textattack: Saving checkpoint under \"checkpoints\\1720232783411.ta.chkpt\" at 2024-07-06 10:26:23 after 245 attacks.\n"
     ]
    },
    {
     "name": "stdout",
     "output_type": "stream",
     "text": [
      "\n",
      "\n",
      "=============================================================================================================================\n",
      "=============================================================================================================================\n",
      "\n"
     ]
    },
    {
     "name": "stderr",
     "output_type": "stream",
     "text": [
      "[Succeeded / Failed / Skipped / Total] 126 / 52 / 72 / 250:  50%|██████████          | 250/500 [05:40<05:40,  1.36s/it]textattack: Saving checkpoint under \"checkpoints\\1720232788615.ta.chkpt\" at 2024-07-06 10:26:28 after 250 attacks.\n"
     ]
    },
    {
     "name": "stdout",
     "output_type": "stream",
     "text": [
      "\n",
      "\n",
      "=============================================================================================================================\n",
      "=============================================================================================================================\n",
      "\n"
     ]
    },
    {
     "name": "stderr",
     "output_type": "stream",
     "text": [
      "[Succeeded / Failed / Skipped / Total] 129 / 53 / 73 / 255:  51%|██████████▏         | 255/500 [05:47<05:33,  1.36s/it]textattack: Saving checkpoint under \"checkpoints\\1720232795521.ta.chkpt\" at 2024-07-06 10:26:35 after 255 attacks.\n"
     ]
    },
    {
     "name": "stdout",
     "output_type": "stream",
     "text": [
      "\n",
      "\n",
      "=============================================================================================================================\n",
      "=============================================================================================================================\n",
      "\n"
     ]
    },
    {
     "name": "stderr",
     "output_type": "stream",
     "text": [
      "[Succeeded / Failed / Skipped / Total] 132 / 53 / 75 / 260:  52%|██████████▍         | 260/500 [05:52<05:25,  1.36s/it]textattack: Saving checkpoint under \"checkpoints\\1720232800398.ta.chkpt\" at 2024-07-06 10:26:40 after 260 attacks.\n"
     ]
    },
    {
     "name": "stdout",
     "output_type": "stream",
     "text": [
      "\n",
      "\n",
      "=============================================================================================================================\n",
      "=============================================================================================================================\n",
      "\n"
     ]
    },
    {
     "name": "stderr",
     "output_type": "stream",
     "text": [
      "[Succeeded / Failed / Skipped / Total] 135 / 55 / 75 / 265:  53%|██████████▌         | 265/500 [05:58<05:18,  1.35s/it]textattack: Saving checkpoint under \"checkpoints\\1720232806617.ta.chkpt\" at 2024-07-06 10:26:46 after 265 attacks.\n"
     ]
    },
    {
     "name": "stdout",
     "output_type": "stream",
     "text": [
      "\n",
      "\n",
      "=============================================================================================================================\n",
      "=============================================================================================================================\n",
      "\n"
     ]
    },
    {
     "name": "stderr",
     "output_type": "stream",
     "text": [
      "[Succeeded / Failed / Skipped / Total] 138 / 56 / 76 / 270:  54%|██████████▊         | 270/500 [06:10<05:15,  1.37s/it]textattack: Saving checkpoint under \"checkpoints\\1720232818086.ta.chkpt\" at 2024-07-06 10:26:58 after 270 attacks.\n",
      "[Succeeded / Failed / Skipped / Total] 138 / 56 / 78 / 272:  54%|██████████▉         | 272/500 [06:10<05:10,  1.36s/it]"
     ]
    },
    {
     "name": "stdout",
     "output_type": "stream",
     "text": [
      "\n",
      "\n",
      "=============================================================================================================================\n",
      "=============================================================================================================================\n",
      "\n"
     ]
    },
    {
     "name": "stderr",
     "output_type": "stream",
     "text": [
      "[Succeeded / Failed / Skipped / Total] 138 / 57 / 80 / 275:  55%|███████████         | 275/500 [06:12<05:04,  1.36s/it]textattack: Saving checkpoint under \"checkpoints\\1720232820680.ta.chkpt\" at 2024-07-06 10:27:00 after 275 attacks.\n"
     ]
    },
    {
     "name": "stdout",
     "output_type": "stream",
     "text": [
      "\n",
      "\n",
      "=============================================================================================================================\n",
      "=============================================================================================================================\n",
      "\n"
     ]
    },
    {
     "name": "stderr",
     "output_type": "stream",
     "text": [
      "[Succeeded / Failed / Skipped / Total] 140 / 58 / 82 / 280:  56%|███████████▏        | 280/500 [06:16<04:56,  1.35s/it]textattack: Saving checkpoint under \"checkpoints\\1720232824728.ta.chkpt\" at 2024-07-06 10:27:04 after 280 attacks.\n"
     ]
    },
    {
     "name": "stdout",
     "output_type": "stream",
     "text": [
      "\n",
      "\n",
      "=============================================================================================================================\n",
      "=============================================================================================================================\n",
      "\n"
     ]
    },
    {
     "name": "stderr",
     "output_type": "stream",
     "text": [
      "[Succeeded / Failed / Skipped / Total] 140 / 60 / 85 / 285:  57%|███████████▍        | 285/500 [06:19<04:46,  1.33s/it]textattack: Saving checkpoint under \"checkpoints\\1720232827744.ta.chkpt\" at 2024-07-06 10:27:07 after 285 attacks.\n"
     ]
    },
    {
     "name": "stdout",
     "output_type": "stream",
     "text": [
      "\n",
      "\n",
      "=============================================================================================================================\n",
      "=============================================================================================================================\n",
      "\n"
     ]
    },
    {
     "name": "stderr",
     "output_type": "stream",
     "text": [
      "[Succeeded / Failed / Skipped / Total] 143 / 60 / 87 / 290:  58%|███████████▌        | 290/500 [06:25<04:39,  1.33s/it]textattack: Saving checkpoint under \"checkpoints\\1720232833807.ta.chkpt\" at 2024-07-06 10:27:13 after 290 attacks.\n"
     ]
    },
    {
     "name": "stdout",
     "output_type": "stream",
     "text": [
      "\n",
      "\n",
      "=============================================================================================================================\n",
      "=============================================================================================================================\n",
      "\n"
     ]
    },
    {
     "name": "stderr",
     "output_type": "stream",
     "text": [
      "[Succeeded / Failed / Skipped / Total] 146 / 60 / 89 / 295:  59%|███████████▊        | 295/500 [06:28<04:30,  1.32s/it]textattack: Saving checkpoint under \"checkpoints\\1720232836932.ta.chkpt\" at 2024-07-06 10:27:16 after 295 attacks.\n"
     ]
    },
    {
     "name": "stdout",
     "output_type": "stream",
     "text": [
      "\n",
      "\n",
      "=============================================================================================================================\n",
      "=============================================================================================================================\n",
      "\n"
     ]
    },
    {
     "name": "stderr",
     "output_type": "stream",
     "text": [
      "[Succeeded / Failed / Skipped / Total] 149 / 61 / 90 / 300:  60%|████████████        | 300/500 [06:33<04:22,  1.31s/it]textattack: Saving checkpoint under \"checkpoints\\1720232841651.ta.chkpt\" at 2024-07-06 10:27:21 after 300 attacks.\n"
     ]
    },
    {
     "name": "stdout",
     "output_type": "stream",
     "text": [
      "\n",
      "\n",
      "=============================================================================================================================\n",
      "=============================================================================================================================\n",
      "\n"
     ]
    },
    {
     "name": "stderr",
     "output_type": "stream",
     "text": [
      "[Succeeded / Failed / Skipped / Total] 152 / 62 / 91 / 305:  61%|████████████▏       | 305/500 [06:41<04:16,  1.32s/it]textattack: Saving checkpoint under \"checkpoints\\1720232849621.ta.chkpt\" at 2024-07-06 10:27:29 after 305 attacks.\n"
     ]
    },
    {
     "name": "stdout",
     "output_type": "stream",
     "text": [
      "\n",
      "\n",
      "=============================================================================================================================\n",
      "=============================================================================================================================\n",
      "\n"
     ]
    },
    {
     "name": "stderr",
     "output_type": "stream",
     "text": [
      "[Succeeded / Failed / Skipped / Total] 156 / 63 / 91 / 310:  62%|████████████▍       | 310/500 [06:44<04:08,  1.31s/it]textattack: Saving checkpoint under \"checkpoints\\1720232852636.ta.chkpt\" at 2024-07-06 10:27:32 after 310 attacks.\n"
     ]
    },
    {
     "name": "stdout",
     "output_type": "stream",
     "text": [
      "\n",
      "\n",
      "=============================================================================================================================\n",
      "=============================================================================================================================\n",
      "\n"
     ]
    },
    {
     "name": "stderr",
     "output_type": "stream",
     "text": [
      "[Succeeded / Failed / Skipped / Total] 158 / 63 / 94 / 315:  63%|████████████▌       | 315/500 [06:47<03:59,  1.29s/it]textattack: Saving checkpoint under \"checkpoints\\1720232855105.ta.chkpt\" at 2024-07-06 10:27:35 after 315 attacks.\n"
     ]
    },
    {
     "name": "stdout",
     "output_type": "stream",
     "text": [
      "\n",
      "\n",
      "=============================================================================================================================\n",
      "=============================================================================================================================\n",
      "\n"
     ]
    },
    {
     "name": "stderr",
     "output_type": "stream",
     "text": [
      "[Succeeded / Failed / Skipped / Total] 161 / 64 / 95 / 320:  64%|████████████▊       | 320/500 [06:58<03:55,  1.31s/it]textattack: Saving checkpoint under \"checkpoints\\1720232866247.ta.chkpt\" at 2024-07-06 10:27:46 after 320 attacks.\n"
     ]
    },
    {
     "name": "stdout",
     "output_type": "stream",
     "text": [
      "\n",
      "\n",
      "=============================================================================================================================\n",
      "=============================================================================================================================\n",
      "\n"
     ]
    },
    {
     "name": "stderr",
     "output_type": "stream",
     "text": [
      "[Succeeded / Failed / Skipped / Total] 163 / 66 / 96 / 325:  65%|█████████████       | 325/500 [07:13<03:53,  1.33s/it]textattack: Saving checkpoint under \"checkpoints\\1720232881405.ta.chkpt\" at 2024-07-06 10:28:01 after 325 attacks.\n"
     ]
    },
    {
     "name": "stdout",
     "output_type": "stream",
     "text": [
      "\n",
      "\n",
      "=============================================================================================================================\n",
      "=============================================================================================================================\n",
      "\n"
     ]
    },
    {
     "name": "stderr",
     "output_type": "stream",
     "text": [
      "[Succeeded / Failed / Skipped / Total] 167 / 66 / 97 / 330:  66%|█████████████▏      | 330/500 [07:18<03:46,  1.33s/it]textattack: Saving checkpoint under \"checkpoints\\1720232886749.ta.chkpt\" at 2024-07-06 10:28:06 after 330 attacks.\n"
     ]
    },
    {
     "name": "stdout",
     "output_type": "stream",
     "text": [
      "\n",
      "\n",
      "=============================================================================================================================\n",
      "=============================================================================================================================\n",
      "\n"
     ]
    },
    {
     "name": "stderr",
     "output_type": "stream",
     "text": [
      "[Succeeded / Failed / Skipped / Total] 170 / 68 / 97 / 335:  67%|█████████████▍      | 335/500 [07:34<03:43,  1.36s/it]textattack: Saving checkpoint under \"checkpoints\\1720232902312.ta.chkpt\" at 2024-07-06 10:28:22 after 335 attacks.\n",
      "[Succeeded / Failed / Skipped / Total] 170 / 68 / 98 / 336:  67%|█████████████▍      | 336/500 [07:34<03:41,  1.35s/it]"
     ]
    },
    {
     "name": "stdout",
     "output_type": "stream",
     "text": [
      "\n",
      "\n",
      "=============================================================================================================================\n",
      "=============================================================================================================================\n",
      "\n"
     ]
    },
    {
     "name": "stderr",
     "output_type": "stream",
     "text": [
      "[Succeeded / Failed / Skipped / Total] 172 / 69 / 99 / 340:  68%|█████████████▌      | 340/500 [07:39<03:36,  1.35s/it]textattack: Saving checkpoint under \"checkpoints\\1720232907203.ta.chkpt\" at 2024-07-06 10:28:27 after 340 attacks.\n"
     ]
    },
    {
     "name": "stdout",
     "output_type": "stream",
     "text": [
      "\n",
      "\n",
      "=============================================================================================================================\n",
      "=============================================================================================================================\n",
      "\n"
     ]
    },
    {
     "name": "stderr",
     "output_type": "stream",
     "text": [
      "[Succeeded / Failed / Skipped / Total] 175 / 69 / 101 / 345:  69%|█████████████      | 345/500 [07:43<03:28,  1.34s/it]textattack: Saving checkpoint under \"checkpoints\\1720232911000.ta.chkpt\" at 2024-07-06 10:28:31 after 345 attacks.\n"
     ]
    },
    {
     "name": "stdout",
     "output_type": "stream",
     "text": [
      "\n",
      "\n",
      "=============================================================================================================================\n",
      "=============================================================================================================================\n",
      "\n"
     ]
    },
    {
     "name": "stderr",
     "output_type": "stream",
     "text": [
      "[Succeeded / Failed / Skipped / Total] 177 / 71 / 102 / 350:  70%|█████████████▎     | 350/500 [07:50<03:21,  1.34s/it]textattack: Saving checkpoint under \"checkpoints\\1720232918126.ta.chkpt\" at 2024-07-06 10:28:38 after 350 attacks.\n"
     ]
    },
    {
     "name": "stdout",
     "output_type": "stream",
     "text": [
      "\n",
      "\n",
      "=============================================================================================================================\n",
      "=============================================================================================================================\n",
      "\n"
     ]
    },
    {
     "name": "stderr",
     "output_type": "stream",
     "text": [
      "[Succeeded / Failed / Skipped / Total] 180 / 73 / 102 / 355:  71%|█████████████▍     | 355/500 [08:00<03:16,  1.35s/it]textattack: Saving checkpoint under \"checkpoints\\1720232928002.ta.chkpt\" at 2024-07-06 10:28:48 after 355 attacks.\n"
     ]
    },
    {
     "name": "stdout",
     "output_type": "stream",
     "text": [
      "\n",
      "\n",
      "=============================================================================================================================\n",
      "=============================================================================================================================\n",
      "\n"
     ]
    },
    {
     "name": "stderr",
     "output_type": "stream",
     "text": [
      "[Succeeded / Failed / Skipped / Total] 181 / 76 / 103 / 360:  72%|█████████████▋     | 360/500 [08:07<03:09,  1.35s/it]textattack: Saving checkpoint under \"checkpoints\\1720232935206.ta.chkpt\" at 2024-07-06 10:28:55 after 360 attacks.\n"
     ]
    },
    {
     "name": "stdout",
     "output_type": "stream",
     "text": [
      "\n",
      "\n",
      "=============================================================================================================================\n",
      "=============================================================================================================================\n",
      "\n"
     ]
    },
    {
     "name": "stderr",
     "output_type": "stream",
     "text": [
      "[Succeeded / Failed / Skipped / Total] 185 / 77 / 103 / 365:  73%|█████████████▊     | 365/500 [08:11<03:01,  1.35s/it]textattack: Saving checkpoint under \"checkpoints\\1720232939644.ta.chkpt\" at 2024-07-06 10:28:59 after 365 attacks.\n"
     ]
    },
    {
     "name": "stdout",
     "output_type": "stream",
     "text": [
      "\n",
      "\n",
      "=============================================================================================================================\n",
      "=============================================================================================================================\n",
      "\n"
     ]
    },
    {
     "name": "stderr",
     "output_type": "stream",
     "text": [
      "[Succeeded / Failed / Skipped / Total] 189 / 77 / 104 / 370:  74%|██████████████     | 370/500 [08:15<02:54,  1.34s/it]textattack: Saving checkpoint under \"checkpoints\\1720232943816.ta.chkpt\" at 2024-07-06 10:29:03 after 370 attacks.\n"
     ]
    },
    {
     "name": "stdout",
     "output_type": "stream",
     "text": [
      "\n",
      "\n",
      "=============================================================================================================================\n",
      "=============================================================================================================================\n",
      "\n"
     ]
    },
    {
     "name": "stderr",
     "output_type": "stream",
     "text": [
      "[Succeeded / Failed / Skipped / Total] 191 / 79 / 105 / 375:  75%|██████████████▎    | 375/500 [08:24<02:48,  1.34s/it]textattack: Saving checkpoint under \"checkpoints\\1720232952176.ta.chkpt\" at 2024-07-06 10:29:12 after 375 attacks.\n"
     ]
    },
    {
     "name": "stdout",
     "output_type": "stream",
     "text": [
      "\n",
      "\n",
      "=============================================================================================================================\n",
      "=============================================================================================================================\n",
      "\n"
     ]
    },
    {
     "name": "stderr",
     "output_type": "stream",
     "text": [
      "[Succeeded / Failed / Skipped / Total] 195 / 79 / 106 / 380:  76%|██████████████▍    | 380/500 [08:27<02:40,  1.34s/it]textattack: Saving checkpoint under \"checkpoints\\1720232955442.ta.chkpt\" at 2024-07-06 10:29:15 after 380 attacks.\n"
     ]
    },
    {
     "name": "stdout",
     "output_type": "stream",
     "text": [
      "\n",
      "\n",
      "=============================================================================================================================\n",
      "=============================================================================================================================\n",
      "\n"
     ]
    },
    {
     "name": "stderr",
     "output_type": "stream",
     "text": [
      "[Succeeded / Failed / Skipped / Total] 199 / 80 / 106 / 385:  77%|██████████████▋    | 385/500 [08:34<02:33,  1.34s/it]textattack: Saving checkpoint under \"checkpoints\\1720232962036.ta.chkpt\" at 2024-07-06 10:29:22 after 385 attacks.\n"
     ]
    },
    {
     "name": "stdout",
     "output_type": "stream",
     "text": [
      "\n",
      "\n",
      "=============================================================================================================================\n",
      "=============================================================================================================================\n",
      "\n"
     ]
    },
    {
     "name": "stderr",
     "output_type": "stream",
     "text": [
      "[Succeeded / Failed / Skipped / Total] 202 / 81 / 107 / 390:  78%|██████████████▊    | 390/500 [08:38<02:26,  1.33s/it]textattack: Saving checkpoint under \"checkpoints\\1720232966021.ta.chkpt\" at 2024-07-06 10:29:26 after 390 attacks.\n"
     ]
    },
    {
     "name": "stdout",
     "output_type": "stream",
     "text": [
      "\n",
      "\n",
      "=============================================================================================================================\n",
      "=============================================================================================================================\n",
      "\n"
     ]
    },
    {
     "name": "stderr",
     "output_type": "stream",
     "text": [
      "[Succeeded / Failed / Skipped / Total] 203 / 84 / 108 / 395:  79%|███████████████    | 395/500 [08:51<02:21,  1.35s/it]textattack: Saving checkpoint under \"checkpoints\\1720232979337.ta.chkpt\" at 2024-07-06 10:29:39 after 395 attacks.\n"
     ]
    },
    {
     "name": "stdout",
     "output_type": "stream",
     "text": [
      "\n",
      "\n",
      "=============================================================================================================================\n",
      "=============================================================================================================================\n",
      "\n"
     ]
    },
    {
     "name": "stderr",
     "output_type": "stream",
     "text": [
      "[Succeeded / Failed / Skipped / Total] 207 / 85 / 108 / 400:  80%|███████████████▏   | 400/500 [09:03<02:15,  1.36s/it]textattack: Saving checkpoint under \"checkpoints\\1720232991494.ta.chkpt\" at 2024-07-06 10:29:51 after 400 attacks.\n"
     ]
    },
    {
     "name": "stdout",
     "output_type": "stream",
     "text": [
      "\n",
      "\n",
      "=============================================================================================================================\n",
      "=============================================================================================================================\n",
      "\n"
     ]
    },
    {
     "name": "stderr",
     "output_type": "stream",
     "text": [
      "[Succeeded / Failed / Skipped / Total] 211 / 85 / 109 / 405:  81%|███████████████▍   | 405/500 [09:11<02:09,  1.36s/it]textattack: Saving checkpoint under \"checkpoints\\1720232999667.ta.chkpt\" at 2024-07-06 10:29:59 after 405 attacks.\n"
     ]
    },
    {
     "name": "stdout",
     "output_type": "stream",
     "text": [
      "\n",
      "\n",
      "=============================================================================================================================\n",
      "=============================================================================================================================\n",
      "\n"
     ]
    },
    {
     "name": "stderr",
     "output_type": "stream",
     "text": [
      "[Succeeded / Failed / Skipped / Total] 213 / 88 / 109 / 410:  82%|███████████████▌   | 410/500 [09:17<02:02,  1.36s/it]textattack: Saving checkpoint under \"checkpoints\\1720233005949.ta.chkpt\" at 2024-07-06 10:30:05 after 410 attacks.\n"
     ]
    },
    {
     "name": "stdout",
     "output_type": "stream",
     "text": [
      "\n",
      "\n",
      "=============================================================================================================================\n",
      "=============================================================================================================================\n",
      "\n"
     ]
    },
    {
     "name": "stderr",
     "output_type": "stream",
     "text": [
      "[Succeeded / Failed / Skipped / Total] 213 / 89 / 113 / 415:  83%|███████████████▊   | 415/500 [09:20<01:54,  1.35s/it]textattack: Saving checkpoint under \"checkpoints\\1720233008309.ta.chkpt\" at 2024-07-06 10:30:08 after 415 attacks.\n"
     ]
    },
    {
     "name": "stdout",
     "output_type": "stream",
     "text": [
      "\n",
      "\n",
      "=============================================================================================================================\n",
      "=============================================================================================================================\n",
      "\n"
     ]
    },
    {
     "name": "stderr",
     "output_type": "stream",
     "text": [
      "[Succeeded / Failed / Skipped / Total] 215 / 90 / 115 / 420:  84%|███████████████▉   | 420/500 [09:29<01:48,  1.36s/it]textattack: Saving checkpoint under \"checkpoints\\1720233017262.ta.chkpt\" at 2024-07-06 10:30:17 after 420 attacks.\n"
     ]
    },
    {
     "name": "stdout",
     "output_type": "stream",
     "text": [
      "\n",
      "\n",
      "=============================================================================================================================\n",
      "=============================================================================================================================\n",
      "\n"
     ]
    },
    {
     "name": "stderr",
     "output_type": "stream",
     "text": [
      "[Succeeded / Failed / Skipped / Total] 219 / 90 / 116 / 425:  85%|████████████████▏  | 425/500 [09:34<01:41,  1.35s/it]textattack: Saving checkpoint under \"checkpoints\\1720233022466.ta.chkpt\" at 2024-07-06 10:30:22 after 425 attacks.\n",
      "[Succeeded / Failed / Skipped / Total] 219 / 90 / 117 / 426:  85%|████████████████▏  | 426/500 [09:34<01:39,  1.35s/it]"
     ]
    },
    {
     "name": "stdout",
     "output_type": "stream",
     "text": [
      "\n",
      "\n",
      "=============================================================================================================================\n",
      "=============================================================================================================================\n",
      "\n"
     ]
    },
    {
     "name": "stderr",
     "output_type": "stream",
     "text": [
      "[Succeeded / Failed / Skipped / Total] 222 / 90 / 118 / 430:  86%|████████████████▎  | 430/500 [09:39<01:34,  1.35s/it]textattack: Saving checkpoint under \"checkpoints\\1720233027357.ta.chkpt\" at 2024-07-06 10:30:27 after 430 attacks.\n",
      "[Succeeded / Failed / Skipped / Total] 222 / 90 / 119 / 431:  86%|████████████████▍  | 431/500 [09:39<01:32,  1.34s/it]"
     ]
    },
    {
     "name": "stdout",
     "output_type": "stream",
     "text": [
      "\n",
      "\n",
      "=============================================================================================================================\n",
      "=============================================================================================================================\n",
      "\n"
     ]
    },
    {
     "name": "stderr",
     "output_type": "stream",
     "text": [
      "[Succeeded / Failed / Skipped / Total] 225 / 90 / 120 / 435:  87%|████████████████▌  | 435/500 [09:41<01:26,  1.34s/it]textattack: Saving checkpoint under \"checkpoints\\1720233029545.ta.chkpt\" at 2024-07-06 10:30:29 after 435 attacks.\n",
      "[Succeeded / Failed / Skipped / Total] 225 / 90 / 121 / 436:  87%|████████████████▌  | 436/500 [09:41<01:25,  1.33s/it]"
     ]
    },
    {
     "name": "stdout",
     "output_type": "stream",
     "text": [
      "\n",
      "\n",
      "=============================================================================================================================\n",
      "=============================================================================================================================\n",
      "\n"
     ]
    },
    {
     "name": "stderr",
     "output_type": "stream",
     "text": [
      "[Succeeded / Failed / Skipped / Total] 227 / 92 / 121 / 440:  88%|████████████████▋  | 440/500 [09:57<01:21,  1.36s/it]textattack: Saving checkpoint under \"checkpoints\\1720233045359.ta.chkpt\" at 2024-07-06 10:30:45 after 440 attacks.\n",
      "[Succeeded / Failed / Skipped / Total] 227 / 92 / 122 / 441:  88%|████████████████▊  | 441/500 [09:57<01:19,  1.35s/it]"
     ]
    },
    {
     "name": "stdout",
     "output_type": "stream",
     "text": [
      "\n",
      "\n",
      "=============================================================================================================================\n",
      "=============================================================================================================================\n",
      "\n"
     ]
    },
    {
     "name": "stderr",
     "output_type": "stream",
     "text": [
      "[Succeeded / Failed / Skipped / Total] 230 / 93 / 122 / 445:  89%|████████████████▉  | 445/500 [10:01<01:14,  1.35s/it]textattack: Saving checkpoint under \"checkpoints\\1720233049000.ta.chkpt\" at 2024-07-06 10:30:49 after 445 attacks.\n"
     ]
    },
    {
     "name": "stdout",
     "output_type": "stream",
     "text": [
      "\n",
      "\n",
      "=============================================================================================================================\n",
      "=============================================================================================================================\n",
      "\n"
     ]
    },
    {
     "name": "stderr",
     "output_type": "stream",
     "text": [
      "[Succeeded / Failed / Skipped / Total] 231 / 95 / 124 / 450:  90%|█████████████████  | 450/500 [10:06<01:07,  1.35s/it]textattack: Saving checkpoint under \"checkpoints\\1720233054156.ta.chkpt\" at 2024-07-06 10:30:54 after 450 attacks.\n",
      "[Succeeded / Failed / Skipped / Total] 231 / 95 / 125 / 451:  90%|█████████████████▏ | 451/500 [10:06<01:05,  1.34s/it]"
     ]
    },
    {
     "name": "stdout",
     "output_type": "stream",
     "text": [
      "\n",
      "\n",
      "=============================================================================================================================\n",
      "=============================================================================================================================\n",
      "\n"
     ]
    },
    {
     "name": "stderr",
     "output_type": "stream",
     "text": [
      "[Succeeded / Failed / Skipped / Total] 234 / 95 / 126 / 455:  91%|█████████████████▎ | 455/500 [10:10<01:00,  1.34s/it]textattack: Saving checkpoint under \"checkpoints\\1720233058360.ta.chkpt\" at 2024-07-06 10:30:58 after 455 attacks.\n"
     ]
    },
    {
     "name": "stdout",
     "output_type": "stream",
     "text": [
      "\n",
      "\n",
      "=============================================================================================================================\n",
      "=============================================================================================================================\n",
      "\n"
     ]
    },
    {
     "name": "stderr",
     "output_type": "stream",
     "text": [
      "[Succeeded / Failed / Skipped / Total] 238 / 95 / 127 / 460:  92%|█████████████████▍ | 460/500 [10:19<00:53,  1.35s/it]textattack: Saving checkpoint under \"checkpoints\\1720233067892.ta.chkpt\" at 2024-07-06 10:31:07 after 460 attacks.\n"
     ]
    },
    {
     "name": "stdout",
     "output_type": "stream",
     "text": [
      "\n",
      "\n",
      "=============================================================================================================================\n",
      "=============================================================================================================================\n",
      "\n"
     ]
    },
    {
     "name": "stderr",
     "output_type": "stream",
     "text": [
      "[Succeeded / Failed / Skipped / Total] 241 / 96 / 128 / 465:  93%|█████████████████▋ | 465/500 [10:30<00:47,  1.36s/it]textattack: Saving checkpoint under \"checkpoints\\1720233078986.ta.chkpt\" at 2024-07-06 10:31:18 after 465 attacks.\n"
     ]
    },
    {
     "name": "stdout",
     "output_type": "stream",
     "text": [
      "\n",
      "\n",
      "=============================================================================================================================\n",
      "=============================================================================================================================\n",
      "\n"
     ]
    },
    {
     "name": "stderr",
     "output_type": "stream",
     "text": [
      "[Succeeded / Failed / Skipped / Total] 243 / 96 / 131 / 470:  94%|█████████████████▊ | 470/500 [10:32<00:40,  1.35s/it]textattack: Saving checkpoint under \"checkpoints\\1720233080627.ta.chkpt\" at 2024-07-06 10:31:20 after 470 attacks.\n"
     ]
    },
    {
     "name": "stdout",
     "output_type": "stream",
     "text": [
      "\n",
      "\n",
      "=============================================================================================================================\n",
      "=============================================================================================================================\n",
      "\n"
     ]
    },
    {
     "name": "stderr",
     "output_type": "stream",
     "text": [
      "[Succeeded / Failed / Skipped / Total] 246 / 98 / 131 / 475:  95%|██████████████████ | 475/500 [10:49<00:34,  1.37s/it]textattack: Saving checkpoint under \"checkpoints\\1720233097019.ta.chkpt\" at 2024-07-06 10:31:37 after 475 attacks.\n"
     ]
    },
    {
     "name": "stdout",
     "output_type": "stream",
     "text": [
      "\n",
      "\n",
      "=============================================================================================================================\n",
      "=============================================================================================================================\n",
      "\n"
     ]
    },
    {
     "name": "stderr",
     "output_type": "stream",
     "text": [
      "[Succeeded / Failed / Skipped / Total] 249 / 100 / 131 / 480:  96%|█████████████████▎| 480/500 [10:55<00:27,  1.37s/it]textattack: Saving checkpoint under \"checkpoints\\1720233103254.ta.chkpt\" at 2024-07-06 10:31:43 after 480 attacks.\n"
     ]
    },
    {
     "name": "stdout",
     "output_type": "stream",
     "text": [
      "\n",
      "\n",
      "=============================================================================================================================\n",
      "=============================================================================================================================\n",
      "\n"
     ]
    },
    {
     "name": "stderr",
     "output_type": "stream",
     "text": [
      "[Succeeded / Failed / Skipped / Total] 251 / 101 / 133 / 485:  97%|█████████████████▍| 485/500 [11:01<00:20,  1.36s/it]textattack: Saving checkpoint under \"checkpoints\\1720233109645.ta.chkpt\" at 2024-07-06 10:31:49 after 485 attacks.\n"
     ]
    },
    {
     "name": "stdout",
     "output_type": "stream",
     "text": [
      "\n",
      "\n",
      "=============================================================================================================================\n",
      "=============================================================================================================================\n",
      "\n"
     ]
    },
    {
     "name": "stderr",
     "output_type": "stream",
     "text": [
      "[Succeeded / Failed / Skipped / Total] 255 / 101 / 134 / 490:  98%|█████████████████▋| 490/500 [11:09<00:13,  1.37s/it]textattack: Saving checkpoint under \"checkpoints\\1720233117005.ta.chkpt\" at 2024-07-06 10:31:57 after 490 attacks.\n",
      "[Succeeded / Failed / Skipped / Total] 255 / 101 / 135 / 491:  98%|█████████████████▋| 491/500 [11:09<00:12,  1.36s/it]"
     ]
    },
    {
     "name": "stdout",
     "output_type": "stream",
     "text": [
      "\n",
      "\n",
      "=============================================================================================================================\n",
      "=============================================================================================================================\n",
      "\n"
     ]
    },
    {
     "name": "stderr",
     "output_type": "stream",
     "text": [
      "[Succeeded / Failed / Skipped / Total] 257 / 102 / 136 / 495:  99%|█████████████████▊| 495/500 [11:16<00:06,  1.37s/it]textattack: Saving checkpoint under \"checkpoints\\1720233124397.ta.chkpt\" at 2024-07-06 10:32:04 after 495 attacks.\n"
     ]
    },
    {
     "name": "stdout",
     "output_type": "stream",
     "text": [
      "\n",
      "\n",
      "=============================================================================================================================\n",
      "=============================================================================================================================\n",
      "\n"
     ]
    },
    {
     "name": "stderr",
     "output_type": "stream",
     "text": [
      "[Succeeded / Failed / Skipped / Total] 260 / 103 / 137 / 500: 100%|██████████████████| 500/500 [11:21<00:00,  1.36s/it]textattack: Saving checkpoint under \"checkpoints\\1720233129819.ta.chkpt\" at 2024-07-06 10:32:09 after 500 attacks.\n",
      "[Succeeded / Failed / Skipped / Total] 260 / 103 / 137 / 500: 100%|██████████████████| 500/500 [11:21<00:00,  1.36s/it]"
     ]
    },
    {
     "name": "stdout",
     "output_type": "stream",
     "text": [
      "\n",
      "\n",
      "=============================================================================================================================\n",
      "=============================================================================================================================\n",
      "\n",
      "\n",
      "+-------------------------------+--------+\n",
      "| Attack Results                |        |\n",
      "+-------------------------------+--------+\n",
      "| Number of successful attacks: | 260    |\n",
      "| Number of failed attacks:     | 103    |\n",
      "| Number of skipped attacks:    | 137    |\n",
      "| Original accuracy:            | 72.6%  |\n",
      "| Accuracy under attack:        | 20.6%  |\n",
      "| Attack success rate:          | 71.63% |\n",
      "| Average perturbed word %:     | 15.8%  |\n",
      "| Average num. words per input: | 18.4   |\n",
      "| Avg num queries:              | 32.95  |\n",
      "+-------------------------------+--------+\n"
     ]
    },
    {
     "name": "stderr",
     "output_type": "stream",
     "text": [
      "\n"
     ]
    }
   ],
   "source": [
    "runAttack(bert_model_wrapper_rf_mr, n_samples, 'attack_results_new/bertmrattackrf'+suffix, target_ds_mr)"
   ]
  },
  {
   "cell_type": "code",
   "execution_count": 14,
   "id": "f75d34d5-d9aa-4d77-989d-db73f9ddeaab",
   "metadata": {},
   "outputs": [
    {
     "name": "stderr",
     "output_type": "stream",
     "text": [
      "textattack: Unknown if model of class <class 'transformers.models.bert.modeling_bert.BertModel'> compatible with goal function <class 'textattack.goal_functions.classification.untargeted_classification.UntargetedClassification'>.\n",
      "textattack: Logging to CSV at path attack_results_new/bertmrattackknnsim08.csv\n"
     ]
    },
    {
     "name": "stdout",
     "output_type": "stream",
     "text": [
      "Attack(\n",
      "  (search_method): GreedyWordSwapWIR(\n",
      "    (wir_method):  delete\n",
      "  )\n",
      "  (goal_function):  UntargetedClassification\n",
      "  (transformation):  WordSwapEmbedding(\n",
      "    (max_candidates):  50\n",
      "    (embedding):  WordEmbedding\n",
      "  )\n",
      "  (constraints): \n",
      "    (0): WordEmbeddingDistance(\n",
      "        (embedding):  WordEmbedding\n",
      "        (min_cos_sim):  0.8\n",
      "        (cased):  False\n",
      "        (include_unknown_words):  True\n",
      "        (compare_against_original):  True\n",
      "      )\n",
      "    (1): PartOfSpeech(\n",
      "        (tagger_type):  nltk\n",
      "        (tagset):  universal\n",
      "        (allow_verb_noun_swap):  True\n",
      "        (compare_against_original):  True\n",
      "      )\n",
      "    (2): UniversalSentenceEncoder(\n",
      "        (metric):  angular\n",
      "        (threshold):  0.840845057\n",
      "        (window_size):  15\n",
      "        (skip_text_shorter_than_window):  True\n",
      "        (compare_against_original):  False\n",
      "      )\n",
      "    (3): RepeatModification\n",
      "    (4): StopwordModification\n",
      "    (5): InputColumnModification(\n",
      "        (matching_column_labels):  ['premise', 'hypothesis']\n",
      "        (columns_to_ignore):  {'premise'}\n",
      "      )\n",
      "  (is_black_box):  True\n",
      ") \n",
      "\n"
     ]
    },
    {
     "name": "stderr",
     "output_type": "stream",
     "text": [
      "[Succeeded / Failed / Skipped / Total] 3 / 0 / 2 / 5:   1%|▎                           | 5/500 [00:10<17:40,  2.14s/it]textattack: Saving checkpoint under \"checkpoints\\1720233140642.ta.chkpt\" at 2024-07-06 10:32:20 after 5 attacks.\n",
      "[Succeeded / Failed / Skipped / Total] 3 / 0 / 2 / 5:   1%|▎                           | 6/500 [00:10<14:57,  1.82s/it]"
     ]
    },
    {
     "name": "stdout",
     "output_type": "stream",
     "text": [
      "\n",
      "\n",
      "=============================================================================================================================\n",
      "=============================================================================================================================\n",
      "\n"
     ]
    },
    {
     "name": "stderr",
     "output_type": "stream",
     "text": [
      "[Succeeded / Failed / Skipped / Total] 5 / 1 / 4 / 10:   2%|▌                         | 10/500 [00:16<13:27,  1.65s/it]textattack: Saving checkpoint under \"checkpoints\\1720233146409.ta.chkpt\" at 2024-07-06 10:32:26 after 10 attacks.\n"
     ]
    },
    {
     "name": "stdout",
     "output_type": "stream",
     "text": [
      "\n",
      "\n",
      "=============================================================================================================================\n",
      "=============================================================================================================================\n",
      "\n"
     ]
    },
    {
     "name": "stderr",
     "output_type": "stream",
     "text": [
      "[Succeeded / Failed / Skipped / Total] 7 / 2 / 6 / 15:   3%|▊                         | 15/500 [00:25<13:38,  1.69s/it]textattack: Saving checkpoint under \"checkpoints\\1720233155237.ta.chkpt\" at 2024-07-06 10:32:35 after 15 attacks.\n"
     ]
    },
    {
     "name": "stdout",
     "output_type": "stream",
     "text": [
      "\n",
      "\n",
      "=============================================================================================================================\n",
      "=============================================================================================================================\n",
      "\n"
     ]
    },
    {
     "name": "stderr",
     "output_type": "stream",
     "text": [
      "[Succeeded / Failed / Skipped / Total] 11 / 2 / 7 / 20:   4%|█                        | 20/500 [00:28<11:32,  1.44s/it]textattack: Saving checkpoint under \"checkpoints\\1720233158800.ta.chkpt\" at 2024-07-06 10:32:38 after 20 attacks.\n"
     ]
    },
    {
     "name": "stdout",
     "output_type": "stream",
     "text": [
      "\n",
      "\n",
      "=============================================================================================================================\n",
      "=============================================================================================================================\n",
      "\n"
     ]
    },
    {
     "name": "stderr",
     "output_type": "stream",
     "text": [
      "[Succeeded / Failed / Skipped / Total] 15 / 2 / 8 / 25:   5%|█▎                       | 25/500 [00:32<10:13,  1.29s/it]textattack: Saving checkpoint under \"checkpoints\\1720233162238.ta.chkpt\" at 2024-07-06 10:32:42 after 25 attacks.\n"
     ]
    },
    {
     "name": "stdout",
     "output_type": "stream",
     "text": [
      "\n",
      "\n",
      "=============================================================================================================================\n",
      "=============================================================================================================================\n",
      "\n"
     ]
    },
    {
     "name": "stderr",
     "output_type": "stream",
     "text": [
      "[Succeeded / Failed / Skipped / Total] 17 / 5 / 8 / 30:   6%|█▌                       | 30/500 [00:38<10:09,  1.30s/it]textattack: Saving checkpoint under \"checkpoints\\1720233168817.ta.chkpt\" at 2024-07-06 10:32:48 after 30 attacks.\n",
      "[Succeeded / Failed / Skipped / Total] 17 / 5 / 9 / 31:   6%|█▌                       | 31/500 [00:39<09:50,  1.26s/it]"
     ]
    },
    {
     "name": "stdout",
     "output_type": "stream",
     "text": [
      "\n",
      "\n",
      "=============================================================================================================================\n",
      "=============================================================================================================================\n",
      "\n"
     ]
    },
    {
     "name": "stderr",
     "output_type": "stream",
     "text": [
      "[Succeeded / Failed / Skipped / Total] 20 / 5 / 10 / 35:   7%|█▋                      | 35/500 [00:43<09:33,  1.23s/it]textattack: Saving checkpoint under \"checkpoints\\1720233173083.ta.chkpt\" at 2024-07-06 10:32:53 after 35 attacks.\n"
     ]
    },
    {
     "name": "stdout",
     "output_type": "stream",
     "text": [
      "\n",
      "\n",
      "=============================================================================================================================\n",
      "=============================================================================================================================\n",
      "\n"
     ]
    },
    {
     "name": "stderr",
     "output_type": "stream",
     "text": [
      "[Succeeded / Failed / Skipped / Total] 23 / 5 / 12 / 40:   8%|█▉                      | 40/500 [00:48<09:13,  1.20s/it]textattack: Saving checkpoint under \"checkpoints\\1720233178036.ta.chkpt\" at 2024-07-06 10:32:58 after 40 attacks.\n"
     ]
    },
    {
     "name": "stdout",
     "output_type": "stream",
     "text": [
      "\n",
      "\n",
      "=============================================================================================================================\n",
      "=============================================================================================================================\n",
      "\n"
     ]
    },
    {
     "name": "stderr",
     "output_type": "stream",
     "text": [
      "[Succeeded / Failed / Skipped / Total] 26 / 5 / 14 / 45:   9%|██▏                     | 45/500 [00:56<09:31,  1.26s/it]textattack: Saving checkpoint under \"checkpoints\\1720233186459.ta.chkpt\" at 2024-07-06 10:33:06 after 45 attacks.\n"
     ]
    },
    {
     "name": "stdout",
     "output_type": "stream",
     "text": [
      "\n",
      "\n",
      "=============================================================================================================================\n",
      "=============================================================================================================================\n",
      "\n"
     ]
    },
    {
     "name": "stderr",
     "output_type": "stream",
     "text": [
      "[Succeeded / Failed / Skipped / Total] 29 / 5 / 16 / 50:  10%|██▍                     | 50/500 [00:59<08:52,  1.18s/it]textattack: Saving checkpoint under \"checkpoints\\1720233189147.ta.chkpt\" at 2024-07-06 10:33:09 after 50 attacks.\n"
     ]
    },
    {
     "name": "stdout",
     "output_type": "stream",
     "text": [
      "\n",
      "\n",
      "=============================================================================================================================\n",
      "=============================================================================================================================\n",
      "\n"
     ]
    },
    {
     "name": "stderr",
     "output_type": "stream",
     "text": [
      "[Succeeded / Failed / Skipped / Total] 32 / 6 / 17 / 55:  11%|██▋                     | 55/500 [01:06<08:59,  1.21s/it]textattack: Saving checkpoint under \"checkpoints\\1720233196554.ta.chkpt\" at 2024-07-06 10:33:16 after 55 attacks.\n"
     ]
    },
    {
     "name": "stdout",
     "output_type": "stream",
     "text": [
      "\n",
      "\n",
      "=============================================================================================================================\n",
      "=============================================================================================================================\n",
      "\n"
     ]
    },
    {
     "name": "stderr",
     "output_type": "stream",
     "text": [
      "[Succeeded / Failed / Skipped / Total] 36 / 6 / 18 / 60:  12%|██▉                     | 60/500 [01:10<08:38,  1.18s/it]textattack: Saving checkpoint under \"checkpoints\\1720233200648.ta.chkpt\" at 2024-07-06 10:33:20 after 60 attacks.\n"
     ]
    },
    {
     "name": "stdout",
     "output_type": "stream",
     "text": [
      "\n",
      "\n",
      "=============================================================================================================================\n",
      "=============================================================================================================================\n",
      "\n"
     ]
    },
    {
     "name": "stderr",
     "output_type": "stream",
     "text": [
      "[Succeeded / Failed / Skipped / Total] 41 / 6 / 18 / 65:  13%|███                     | 65/500 [01:14<08:17,  1.14s/it]textattack: Saving checkpoint under \"checkpoints\\1720233204273.ta.chkpt\" at 2024-07-06 10:33:24 after 65 attacks.\n",
      "[Succeeded / Failed / Skipped / Total] 41 / 6 / 19 / 66:  13%|███▏                    | 66/500 [01:14<08:09,  1.13s/it]"
     ]
    },
    {
     "name": "stdout",
     "output_type": "stream",
     "text": [
      "\n",
      "\n",
      "=============================================================================================================================\n",
      "=============================================================================================================================\n",
      "\n"
     ]
    },
    {
     "name": "stderr",
     "output_type": "stream",
     "text": [
      "[Succeeded / Failed / Skipped / Total] 45 / 6 / 19 / 70:  14%|███▎                    | 70/500 [01:19<08:06,  1.13s/it]textattack: Saving checkpoint under \"checkpoints\\1720233209070.ta.chkpt\" at 2024-07-06 10:33:29 after 70 attacks.\n"
     ]
    },
    {
     "name": "stdout",
     "output_type": "stream",
     "text": [
      "\n",
      "\n",
      "=============================================================================================================================\n",
      "=============================================================================================================================\n",
      "\n"
     ]
    },
    {
     "name": "stderr",
     "output_type": "stream",
     "text": [
      "[Succeeded / Failed / Skipped / Total] 49 / 6 / 20 / 75:  15%|███▌                    | 75/500 [01:23<07:51,  1.11s/it]textattack: Saving checkpoint under \"checkpoints\\1720233213212.ta.chkpt\" at 2024-07-06 10:33:33 after 75 attacks.\n",
      "[Succeeded / Failed / Skipped / Total] 49 / 6 / 21 / 76:  15%|███▋                    | 76/500 [01:23<07:45,  1.10s/it]"
     ]
    },
    {
     "name": "stdout",
     "output_type": "stream",
     "text": [
      "\n",
      "\n",
      "=============================================================================================================================\n",
      "=============================================================================================================================\n",
      "\n"
     ]
    },
    {
     "name": "stderr",
     "output_type": "stream",
     "text": [
      "[Succeeded / Failed / Skipped / Total] 53 / 6 / 21 / 80:  16%|███▊                    | 80/500 [01:26<07:34,  1.08s/it]textattack: Saving checkpoint under \"checkpoints\\1720233216462.ta.chkpt\" at 2024-07-06 10:33:36 after 80 attacks.\n"
     ]
    },
    {
     "name": "stdout",
     "output_type": "stream",
     "text": [
      "\n",
      "\n",
      "=============================================================================================================================\n",
      "=============================================================================================================================\n",
      "\n"
     ]
    },
    {
     "name": "stderr",
     "output_type": "stream",
     "text": [
      "[Succeeded / Failed / Skipped / Total] 57 / 6 / 22 / 85:  17%|████                    | 85/500 [01:31<07:25,  1.07s/it]textattack: Saving checkpoint under \"checkpoints\\1720233221243.ta.chkpt\" at 2024-07-06 10:33:41 after 85 attacks.\n",
      "[Succeeded / Failed / Skipped / Total] 57 / 6 / 23 / 86:  17%|████▏                   | 86/500 [01:31<07:20,  1.06s/it]"
     ]
    },
    {
     "name": "stdout",
     "output_type": "stream",
     "text": [
      "\n",
      "\n",
      "=============================================================================================================================\n",
      "=============================================================================================================================\n",
      "\n"
     ]
    },
    {
     "name": "stderr",
     "output_type": "stream",
     "text": [
      "[Succeeded / Failed / Skipped / Total] 61 / 6 / 23 / 90:  18%|████▎                   | 90/500 [01:37<07:25,  1.09s/it]textattack: Saving checkpoint under \"checkpoints\\1720233227713.ta.chkpt\" at 2024-07-06 10:33:47 after 90 attacks.\n",
      "[Succeeded / Failed / Skipped / Total] 61 / 6 / 24 / 91:  18%|████▎                   | 91/500 [01:37<07:19,  1.08s/it]"
     ]
    },
    {
     "name": "stdout",
     "output_type": "stream",
     "text": [
      "\n",
      "\n",
      "=============================================================================================================================\n",
      "=============================================================================================================================\n",
      "\n"
     ]
    },
    {
     "name": "stderr",
     "output_type": "stream",
     "text": [
      "[Succeeded / Failed / Skipped / Total] 61 / 6 / 28 / 95:  19%|████▌                   | 95/500 [01:38<06:59,  1.03s/it]textattack: Saving checkpoint under \"checkpoints\\1720233228244.ta.chkpt\" at 2024-07-06 10:33:48 after 95 attacks.\n"
     ]
    },
    {
     "name": "stdout",
     "output_type": "stream",
     "text": [
      "\n",
      "\n",
      "=============================================================================================================================\n",
      "=============================================================================================================================\n",
      "\n"
     ]
    },
    {
     "name": "stderr",
     "output_type": "stream",
     "text": [
      "[Succeeded / Failed / Skipped / Total] 65 / 7 / 28 / 100:  20%|████▍                 | 100/500 [01:45<07:01,  1.05s/it]textattack: Saving checkpoint under \"checkpoints\\1720233235229.ta.chkpt\" at 2024-07-06 10:33:55 after 100 attacks.\n"
     ]
    },
    {
     "name": "stdout",
     "output_type": "stream",
     "text": [
      "\n",
      "\n",
      "=============================================================================================================================\n",
      "=============================================================================================================================\n",
      "\n"
     ]
    },
    {
     "name": "stderr",
     "output_type": "stream",
     "text": [
      "[Succeeded / Failed / Skipped / Total] 66 / 9 / 30 / 105:  21%|████▌                 | 105/500 [01:49<06:51,  1.04s/it]textattack: Saving checkpoint under \"checkpoints\\1720233239292.ta.chkpt\" at 2024-07-06 10:33:59 after 105 attacks.\n"
     ]
    },
    {
     "name": "stdout",
     "output_type": "stream",
     "text": [
      "\n",
      "\n",
      "=============================================================================================================================\n",
      "=============================================================================================================================\n",
      "\n"
     ]
    },
    {
     "name": "stderr",
     "output_type": "stream",
     "text": [
      "[Succeeded / Failed / Skipped / Total] 70 / 9 / 31 / 110:  22%|████▊                 | 110/500 [01:53<06:43,  1.04s/it]textattack: Saving checkpoint under \"checkpoints\\1720233243855.ta.chkpt\" at 2024-07-06 10:34:03 after 110 attacks.\n"
     ]
    },
    {
     "name": "stdout",
     "output_type": "stream",
     "text": [
      "\n",
      "\n",
      "=============================================================================================================================\n",
      "=============================================================================================================================\n",
      "\n"
     ]
    },
    {
     "name": "stderr",
     "output_type": "stream",
     "text": [
      "[Succeeded / Failed / Skipped / Total] 73 / 10 / 32 / 115:  23%|████▊                | 115/500 [02:00<06:44,  1.05s/it]textattack: Saving checkpoint under \"checkpoints\\1720233250621.ta.chkpt\" at 2024-07-06 10:34:10 after 115 attacks.\n",
      "[Succeeded / Failed / Skipped / Total] 73 / 10 / 33 / 116:  23%|████▊                | 116/500 [02:00<06:39,  1.04s/it]"
     ]
    },
    {
     "name": "stdout",
     "output_type": "stream",
     "text": [
      "\n",
      "\n",
      "=============================================================================================================================\n",
      "=============================================================================================================================\n",
      "\n"
     ]
    },
    {
     "name": "stderr",
     "output_type": "stream",
     "text": [
      "[Succeeded / Failed / Skipped / Total] 76 / 10 / 34 / 120:  24%|█████                | 120/500 [02:02<06:29,  1.02s/it]textattack: Saving checkpoint under \"checkpoints\\1720233252840.ta.chkpt\" at 2024-07-06 10:34:12 after 120 attacks.\n"
     ]
    },
    {
     "name": "stdout",
     "output_type": "stream",
     "text": [
      "\n",
      "\n",
      "=============================================================================================================================\n",
      "=============================================================================================================================\n",
      "\n"
     ]
    },
    {
     "name": "stderr",
     "output_type": "stream",
     "text": [
      "[Succeeded / Failed / Skipped / Total] 78 / 10 / 37 / 125:  25%|█████▎               | 125/500 [02:07<06:23,  1.02s/it]textattack: Saving checkpoint under \"checkpoints\\1720233257778.ta.chkpt\" at 2024-07-06 10:34:17 after 125 attacks.\n"
     ]
    },
    {
     "name": "stdout",
     "output_type": "stream",
     "text": [
      "\n",
      "\n",
      "=============================================================================================================================\n",
      "=============================================================================================================================\n",
      "\n"
     ]
    },
    {
     "name": "stderr",
     "output_type": "stream",
     "text": [
      "[Succeeded / Failed / Skipped / Total] 81 / 10 / 39 / 130:  26%|█████▍               | 130/500 [02:10<06:12,  1.01s/it]textattack: Saving checkpoint under \"checkpoints\\1720233260700.ta.chkpt\" at 2024-07-06 10:34:20 after 130 attacks.\n",
      "[Succeeded / Failed / Skipped / Total] 81 / 10 / 40 / 131:  26%|█████▌               | 131/500 [02:10<06:08,  1.00it/s]"
     ]
    },
    {
     "name": "stdout",
     "output_type": "stream",
     "text": [
      "\n",
      "\n",
      "=============================================================================================================================\n",
      "=============================================================================================================================\n",
      "\n"
     ]
    },
    {
     "name": "stderr",
     "output_type": "stream",
     "text": [
      "[Succeeded / Failed / Skipped / Total] 84 / 10 / 41 / 135:  27%|█████▋               | 135/500 [02:14<06:03,  1.00it/s]textattack: Saving checkpoint under \"checkpoints\\1720233264325.ta.chkpt\" at 2024-07-06 10:34:24 after 135 attacks.\n"
     ]
    },
    {
     "name": "stdout",
     "output_type": "stream",
     "text": [
      "\n",
      "\n",
      "=============================================================================================================================\n",
      "=============================================================================================================================\n",
      "\n"
     ]
    },
    {
     "name": "stderr",
     "output_type": "stream",
     "text": [
      "[Succeeded / Failed / Skipped / Total] 88 / 10 / 42 / 140:  28%|█████▉               | 140/500 [02:20<06:01,  1.01s/it]textattack: Saving checkpoint under \"checkpoints\\1720233270700.ta.chkpt\" at 2024-07-06 10:34:30 after 140 attacks.\n",
      "[Succeeded / Failed / Skipped / Total] 88 / 10 / 43 / 141:  28%|█████▉               | 141/500 [02:20<05:58,  1.00it/s]"
     ]
    },
    {
     "name": "stdout",
     "output_type": "stream",
     "text": [
      "\n",
      "\n",
      "=============================================================================================================================\n",
      "=============================================================================================================================\n",
      "\n"
     ]
    },
    {
     "name": "stderr",
     "output_type": "stream",
     "text": [
      "[Succeeded / Failed / Skipped / Total] 90 / 11 / 44 / 145:  29%|██████               | 145/500 [02:25<05:55,  1.00s/it]textattack: Saving checkpoint under \"checkpoints\\1720233275170.ta.chkpt\" at 2024-07-06 10:34:35 after 145 attacks.\n"
     ]
    },
    {
     "name": "stdout",
     "output_type": "stream",
     "text": [
      "\n",
      "\n",
      "=============================================================================================================================\n",
      "=============================================================================================================================\n",
      "\n"
     ]
    },
    {
     "name": "stderr",
     "output_type": "stream",
     "text": [
      "[Succeeded / Failed / Skipped / Total] 95 / 11 / 44 / 150:  30%|██████▎              | 150/500 [02:29<05:48,  1.00it/s]textattack: Saving checkpoint under \"checkpoints\\1720233279326.ta.chkpt\" at 2024-07-06 10:34:39 after 150 attacks.\n"
     ]
    },
    {
     "name": "stdout",
     "output_type": "stream",
     "text": [
      "\n",
      "\n",
      "=============================================================================================================================\n",
      "=============================================================================================================================\n",
      "\n"
     ]
    },
    {
     "name": "stderr",
     "output_type": "stream",
     "text": [
      "[Succeeded / Failed / Skipped / Total] 97 / 11 / 47 / 155:  31%|██████▌              | 155/500 [02:31<05:36,  1.03it/s]textattack: Saving checkpoint under \"checkpoints\\1720233281014.ta.chkpt\" at 2024-07-06 10:34:41 after 155 attacks.\n",
      "[Succeeded / Failed / Skipped / Total] 97 / 11 / 48 / 156:  31%|██████▌              | 156/500 [02:31<05:33,  1.03it/s]"
     ]
    },
    {
     "name": "stdout",
     "output_type": "stream",
     "text": [
      "\n",
      "\n",
      "=============================================================================================================================\n",
      "=============================================================================================================================\n",
      "\n"
     ]
    },
    {
     "name": "stderr",
     "output_type": "stream",
     "text": [
      "[Succeeded / Failed / Skipped / Total] 100 / 11 / 49 / 160:  32%|██████▍             | 160/500 [02:33<05:27,  1.04it/s]textattack: Saving checkpoint under \"checkpoints\\1720233283873.ta.chkpt\" at 2024-07-06 10:34:43 after 160 attacks.\n"
     ]
    },
    {
     "name": "stdout",
     "output_type": "stream",
     "text": [
      "\n",
      "\n",
      "=============================================================================================================================\n",
      "=============================================================================================================================\n",
      "\n"
     ]
    },
    {
     "name": "stderr",
     "output_type": "stream",
     "text": [
      "[Succeeded / Failed / Skipped / Total] 104 / 11 / 50 / 165:  33%|██████▌             | 165/500 [02:39<05:23,  1.03it/s]textattack: Saving checkpoint under \"checkpoints\\1720233289468.ta.chkpt\" at 2024-07-06 10:34:49 after 165 attacks.\n",
      "[Succeeded / Failed / Skipped / Total] 104 / 11 / 51 / 166:  33%|██████▋             | 166/500 [02:39<05:21,  1.04it/s]"
     ]
    },
    {
     "name": "stdout",
     "output_type": "stream",
     "text": [
      "\n",
      "\n",
      "=============================================================================================================================\n",
      "=============================================================================================================================\n",
      "\n"
     ]
    },
    {
     "name": "stderr",
     "output_type": "stream",
     "text": [
      "[Succeeded / Failed / Skipped / Total] 106 / 11 / 53 / 170:  34%|██████▊             | 170/500 [02:42<05:15,  1.05it/s]textattack: Saving checkpoint under \"checkpoints\\1720233292359.ta.chkpt\" at 2024-07-06 10:34:52 after 170 attacks.\n"
     ]
    },
    {
     "name": "stdout",
     "output_type": "stream",
     "text": [
      "\n",
      "\n",
      "=============================================================================================================================\n",
      "=============================================================================================================================\n",
      "\n"
     ]
    },
    {
     "name": "stderr",
     "output_type": "stream",
     "text": [
      "[Succeeded / Failed / Skipped / Total] 109 / 12 / 54 / 175:  35%|███████             | 175/500 [02:52<05:20,  1.01it/s]textattack: Saving checkpoint under \"checkpoints\\1720233302672.ta.chkpt\" at 2024-07-06 10:35:02 after 175 attacks.\n"
     ]
    },
    {
     "name": "stdout",
     "output_type": "stream",
     "text": [
      "\n",
      "\n",
      "=============================================================================================================================\n",
      "=============================================================================================================================\n",
      "\n"
     ]
    },
    {
     "name": "stderr",
     "output_type": "stream",
     "text": [
      "[Succeeded / Failed / Skipped / Total] 111 / 12 / 57 / 180:  36%|███████▏            | 180/500 [02:54<05:10,  1.03it/s]textattack: Saving checkpoint under \"checkpoints\\1720233304625.ta.chkpt\" at 2024-07-06 10:35:04 after 180 attacks.\n",
      "[Succeeded / Failed / Skipped / Total] 111 / 12 / 58 / 181:  36%|███████▏            | 181/500 [02:54<05:08,  1.04it/s]"
     ]
    },
    {
     "name": "stdout",
     "output_type": "stream",
     "text": [
      "\n",
      "\n",
      "=============================================================================================================================\n",
      "=============================================================================================================================\n",
      "\n"
     ]
    },
    {
     "name": "stderr",
     "output_type": "stream",
     "text": [
      "[Succeeded / Failed / Skipped / Total] 113 / 12 / 60 / 185:  37%|███████▍            | 185/500 [02:56<05:00,  1.05it/s]textattack: Saving checkpoint under \"checkpoints\\1720233306625.ta.chkpt\" at 2024-07-06 10:35:06 after 185 attacks.\n"
     ]
    },
    {
     "name": "stdout",
     "output_type": "stream",
     "text": [
      "\n",
      "\n",
      "=============================================================================================================================\n",
      "=============================================================================================================================\n",
      "\n"
     ]
    },
    {
     "name": "stderr",
     "output_type": "stream",
     "text": [
      "[Succeeded / Failed / Skipped / Total] 117 / 12 / 61 / 190:  38%|███████▌            | 190/500 [03:02<04:58,  1.04it/s]textattack: Saving checkpoint under \"checkpoints\\1720233312815.ta.chkpt\" at 2024-07-06 10:35:12 after 190 attacks.\n"
     ]
    },
    {
     "name": "stdout",
     "output_type": "stream",
     "text": [
      "\n",
      "\n",
      "=============================================================================================================================\n",
      "=============================================================================================================================\n",
      "\n"
     ]
    },
    {
     "name": "stderr",
     "output_type": "stream",
     "text": [
      "[Succeeded / Failed / Skipped / Total] 121 / 12 / 62 / 195:  39%|███████▊            | 195/500 [03:13<05:02,  1.01it/s]textattack: Saving checkpoint under \"checkpoints\\1720233323253.ta.chkpt\" at 2024-07-06 10:35:23 after 195 attacks.\n",
      "[Succeeded / Failed / Skipped / Total] 121 / 12 / 63 / 196:  39%|███████▊            | 196/500 [03:13<05:00,  1.01it/s]"
     ]
    },
    {
     "name": "stdout",
     "output_type": "stream",
     "text": [
      "\n",
      "\n",
      "=============================================================================================================================\n",
      "=============================================================================================================================\n",
      "\n"
     ]
    },
    {
     "name": "stderr",
     "output_type": "stream",
     "text": [
      "[Succeeded / Failed / Skipped / Total] 124 / 12 / 64 / 200:  40%|████████            | 200/500 [03:17<04:56,  1.01it/s]textattack: Saving checkpoint under \"checkpoints\\1720233327707.ta.chkpt\" at 2024-07-06 10:35:27 after 200 attacks.\n"
     ]
    },
    {
     "name": "stdout",
     "output_type": "stream",
     "text": [
      "\n",
      "\n",
      "=============================================================================================================================\n",
      "=============================================================================================================================\n",
      "\n"
     ]
    },
    {
     "name": "stderr",
     "output_type": "stream",
     "text": [
      "[Succeeded / Failed / Skipped / Total] 128 / 12 / 65 / 205:  41%|████████▏           | 205/500 [03:20<04:48,  1.02it/s]textattack: Saving checkpoint under \"checkpoints\\1720233330645.ta.chkpt\" at 2024-07-06 10:35:30 after 205 attacks.\n",
      "[Succeeded / Failed / Skipped / Total] 128 / 12 / 66 / 206:  41%|████████▏           | 206/500 [03:20<04:46,  1.03it/s]"
     ]
    },
    {
     "name": "stdout",
     "output_type": "stream",
     "text": [
      "\n",
      "\n",
      "=============================================================================================================================\n",
      "=============================================================================================================================\n",
      "\n"
     ]
    },
    {
     "name": "stderr",
     "output_type": "stream",
     "text": [
      "[Succeeded / Failed / Skipped / Total] 132 / 12 / 66 / 210:  42%|████████▍           | 210/500 [03:23<04:41,  1.03it/s]textattack: Saving checkpoint under \"checkpoints\\1720233333489.ta.chkpt\" at 2024-07-06 10:35:33 after 210 attacks.\n"
     ]
    },
    {
     "name": "stdout",
     "output_type": "stream",
     "text": [
      "\n",
      "\n",
      "=============================================================================================================================\n",
      "=============================================================================================================================\n",
      "\n"
     ]
    },
    {
     "name": "stderr",
     "output_type": "stream",
     "text": [
      "[Succeeded / Failed / Skipped / Total] 136 / 12 / 67 / 215:  43%|████████▌           | 215/500 [03:26<04:34,  1.04it/s]textattack: Saving checkpoint under \"checkpoints\\1720233336849.ta.chkpt\" at 2024-07-06 10:35:36 after 215 attacks.\n"
     ]
    },
    {
     "name": "stdout",
     "output_type": "stream",
     "text": [
      "\n",
      "\n",
      "=============================================================================================================================\n",
      "=============================================================================================================================\n",
      "\n"
     ]
    },
    {
     "name": "stderr",
     "output_type": "stream",
     "text": [
      "[Succeeded / Failed / Skipped / Total] 139 / 13 / 68 / 220:  44%|████████▊           | 220/500 [03:29<04:26,  1.05it/s]textattack: Saving checkpoint under \"checkpoints\\1720233339333.ta.chkpt\" at 2024-07-06 10:35:39 after 220 attacks.\n",
      "[Succeeded / Failed / Skipped / Total] 139 / 13 / 69 / 221:  44%|████████▊           | 221/500 [03:29<04:24,  1.05it/s]"
     ]
    },
    {
     "name": "stdout",
     "output_type": "stream",
     "text": [
      "\n",
      "\n",
      "=============================================================================================================================\n",
      "=============================================================================================================================\n",
      "\n"
     ]
    },
    {
     "name": "stderr",
     "output_type": "stream",
     "text": [
      "[Succeeded / Failed / Skipped / Total] 141 / 13 / 71 / 225:  45%|█████████           | 225/500 [03:32<04:19,  1.06it/s]textattack: Saving checkpoint under \"checkpoints\\1720233342177.ta.chkpt\" at 2024-07-06 10:35:42 after 225 attacks.\n"
     ]
    },
    {
     "name": "stdout",
     "output_type": "stream",
     "text": [
      "\n",
      "\n",
      "=============================================================================================================================\n",
      "=============================================================================================================================\n",
      "\n"
     ]
    },
    {
     "name": "stderr",
     "output_type": "stream",
     "text": [
      "[Succeeded / Failed / Skipped / Total] 144 / 13 / 73 / 230:  46%|█████████▏          | 230/500 [03:36<04:13,  1.06it/s]textattack: Saving checkpoint under \"checkpoints\\1720233345943.ta.chkpt\" at 2024-07-06 10:35:45 after 230 attacks.\n"
     ]
    },
    {
     "name": "stdout",
     "output_type": "stream",
     "text": [
      "\n",
      "\n",
      "=============================================================================================================================\n",
      "=============================================================================================================================\n",
      "\n"
     ]
    },
    {
     "name": "stderr",
     "output_type": "stream",
     "text": [
      "[Succeeded / Failed / Skipped / Total] 147 / 13 / 75 / 235:  47%|█████████▍          | 235/500 [03:40<04:08,  1.07it/s]textattack: Saving checkpoint under \"checkpoints\\1720233350037.ta.chkpt\" at 2024-07-06 10:35:50 after 235 attacks.\n",
      "[Succeeded / Failed / Skipped / Total] 147 / 13 / 76 / 236:  47%|█████████▍          | 236/500 [03:40<04:06,  1.07it/s]"
     ]
    },
    {
     "name": "stdout",
     "output_type": "stream",
     "text": [
      "\n",
      "\n",
      "=============================================================================================================================\n",
      "=============================================================================================================================\n",
      "\n"
     ]
    },
    {
     "name": "stderr",
     "output_type": "stream",
     "text": [
      "[Succeeded / Failed / Skipped / Total] 149 / 15 / 76 / 240:  48%|█████████▌          | 240/500 [03:46<04:05,  1.06it/s]textattack: Saving checkpoint under \"checkpoints\\1720233356194.ta.chkpt\" at 2024-07-06 10:35:56 after 240 attacks.\n",
      "[Succeeded / Failed / Skipped / Total] 149 / 15 / 77 / 241:  48%|█████████▋          | 241/500 [03:46<04:03,  1.06it/s]"
     ]
    },
    {
     "name": "stdout",
     "output_type": "stream",
     "text": [
      "\n",
      "\n",
      "=============================================================================================================================\n",
      "=============================================================================================================================\n",
      "\n"
     ]
    },
    {
     "name": "stderr",
     "output_type": "stream",
     "text": [
      "[Succeeded / Failed / Skipped / Total] 152 / 15 / 78 / 245:  49%|█████████▊          | 245/500 [03:49<03:58,  1.07it/s]textattack: Saving checkpoint under \"checkpoints\\1720233359444.ta.chkpt\" at 2024-07-06 10:35:59 after 245 attacks.\n"
     ]
    },
    {
     "name": "stdout",
     "output_type": "stream",
     "text": [
      "\n",
      "\n",
      "=============================================================================================================================\n",
      "=============================================================================================================================\n",
      "\n"
     ]
    },
    {
     "name": "stderr",
     "output_type": "stream",
     "text": [
      "[Succeeded / Failed / Skipped / Total] 156 / 15 / 79 / 250:  50%|██████████          | 250/500 [03:53<03:53,  1.07it/s]textattack: Saving checkpoint under \"checkpoints\\1720233363413.ta.chkpt\" at 2024-07-06 10:36:03 after 250 attacks.\n",
      "[Succeeded / Failed / Skipped / Total] 156 / 15 / 81 / 252:  50%|██████████          | 252/500 [03:53<03:49,  1.08it/s]"
     ]
    },
    {
     "name": "stdout",
     "output_type": "stream",
     "text": [
      "\n",
      "\n",
      "=============================================================================================================================\n",
      "=============================================================================================================================\n",
      "\n"
     ]
    },
    {
     "name": "stderr",
     "output_type": "stream",
     "text": [
      "[Succeeded / Failed / Skipped / Total] 159 / 15 / 81 / 255:  51%|██████████▏         | 255/500 [03:56<03:47,  1.08it/s]textattack: Saving checkpoint under \"checkpoints\\1720233366507.ta.chkpt\" at 2024-07-06 10:36:06 after 255 attacks.\n"
     ]
    },
    {
     "name": "stdout",
     "output_type": "stream",
     "text": [
      "\n",
      "\n",
      "=============================================================================================================================\n",
      "=============================================================================================================================\n",
      "\n"
     ]
    },
    {
     "name": "stderr",
     "output_type": "stream",
     "text": [
      "[Succeeded / Failed / Skipped / Total] 161 / 15 / 84 / 260:  52%|██████████▍         | 260/500 [03:57<03:39,  1.09it/s]textattack: Saving checkpoint under \"checkpoints\\1720233367851.ta.chkpt\" at 2024-07-06 10:36:07 after 260 attacks.\n"
     ]
    },
    {
     "name": "stdout",
     "output_type": "stream",
     "text": [
      "\n",
      "\n",
      "=============================================================================================================================\n",
      "=============================================================================================================================\n",
      "\n"
     ]
    },
    {
     "name": "stderr",
     "output_type": "stream",
     "text": [
      "[Succeeded / Failed / Skipped / Total] 165 / 16 / 84 / 265:  53%|██████████▌         | 265/500 [04:01<03:34,  1.10it/s]textattack: Saving checkpoint under \"checkpoints\\1720233371711.ta.chkpt\" at 2024-07-06 10:36:11 after 265 attacks.\n",
      "[Succeeded / Failed / Skipped / Total] 165 / 16 / 85 / 266:  53%|██████████▋         | 266/500 [04:01<03:32,  1.10it/s]"
     ]
    },
    {
     "name": "stdout",
     "output_type": "stream",
     "text": [
      "\n",
      "\n",
      "=============================================================================================================================\n",
      "=============================================================================================================================\n",
      "\n"
     ]
    },
    {
     "name": "stderr",
     "output_type": "stream",
     "text": [
      "[Succeeded / Failed / Skipped / Total] 167 / 16 / 87 / 270:  54%|██████████▊         | 270/500 [04:08<03:31,  1.09it/s]textattack: Saving checkpoint under \"checkpoints\\1720233378258.ta.chkpt\" at 2024-07-06 10:36:18 after 270 attacks.\n"
     ]
    },
    {
     "name": "stdout",
     "output_type": "stream",
     "text": [
      "\n",
      "\n",
      "=============================================================================================================================\n",
      "=============================================================================================================================\n",
      "\n"
     ]
    },
    {
     "name": "stderr",
     "output_type": "stream",
     "text": [
      "[Succeeded / Failed / Skipped / Total] 169 / 16 / 90 / 275:  55%|███████████         | 275/500 [04:11<03:25,  1.09it/s]textattack: Saving checkpoint under \"checkpoints\\1720233381337.ta.chkpt\" at 2024-07-06 10:36:21 after 275 attacks.\n"
     ]
    },
    {
     "name": "stdout",
     "output_type": "stream",
     "text": [
      "\n",
      "\n",
      "=============================================================================================================================\n",
      "=============================================================================================================================\n",
      "\n"
     ]
    },
    {
     "name": "stderr",
     "output_type": "stream",
     "text": [
      "[Succeeded / Failed / Skipped / Total] 171 / 17 / 92 / 280:  56%|███████████▏        | 280/500 [04:15<03:20,  1.09it/s]textattack: Saving checkpoint under \"checkpoints\\1720233385743.ta.chkpt\" at 2024-07-06 10:36:25 after 280 attacks.\n"
     ]
    },
    {
     "name": "stdout",
     "output_type": "stream",
     "text": [
      "\n",
      "\n",
      "=============================================================================================================================\n",
      "=============================================================================================================================\n",
      "\n"
     ]
    },
    {
     "name": "stderr",
     "output_type": "stream",
     "text": [
      "[Succeeded / Failed / Skipped / Total] 175 / 18 / 92 / 285:  57%|███████████▍        | 285/500 [04:20<03:16,  1.09it/s]textattack: Saving checkpoint under \"checkpoints\\1720233390337.ta.chkpt\" at 2024-07-06 10:36:30 after 285 attacks.\n",
      "[Succeeded / Failed / Skipped / Total] 175 / 18 / 94 / 287:  57%|███████████▍        | 287/500 [04:20<03:13,  1.10it/s]"
     ]
    },
    {
     "name": "stdout",
     "output_type": "stream",
     "text": [
      "\n",
      "\n",
      "=============================================================================================================================\n",
      "=============================================================================================================================\n",
      "\n"
     ]
    },
    {
     "name": "stderr",
     "output_type": "stream",
     "text": [
      "[Succeeded / Failed / Skipped / Total] 177 / 18 / 95 / 290:  58%|███████████▌        | 290/500 [04:22<03:10,  1.10it/s]textattack: Saving checkpoint under \"checkpoints\\1720233392900.ta.chkpt\" at 2024-07-06 10:36:32 after 290 attacks.\n"
     ]
    },
    {
     "name": "stdout",
     "output_type": "stream",
     "text": [
      "\n",
      "\n",
      "=============================================================================================================================\n",
      "=============================================================================================================================\n",
      "\n"
     ]
    },
    {
     "name": "stderr",
     "output_type": "stream",
     "text": [
      "[Succeeded / Failed / Skipped / Total] 181 / 18 / 96 / 295:  59%|███████████▊        | 295/500 [04:28<03:06,  1.10it/s]textattack: Saving checkpoint under \"checkpoints\\1720233398213.ta.chkpt\" at 2024-07-06 10:36:38 after 295 attacks.\n"
     ]
    },
    {
     "name": "stdout",
     "output_type": "stream",
     "text": [
      "\n",
      "\n",
      "=============================================================================================================================\n",
      "=============================================================================================================================\n",
      "\n"
     ]
    },
    {
     "name": "stderr",
     "output_type": "stream",
     "text": [
      "[Succeeded / Failed / Skipped / Total] 185 / 18 / 97 / 300:  60%|████████████        | 300/500 [04:33<03:02,  1.10it/s]textattack: Saving checkpoint under \"checkpoints\\1720233403183.ta.chkpt\" at 2024-07-06 10:36:43 after 300 attacks.\n"
     ]
    },
    {
     "name": "stdout",
     "output_type": "stream",
     "text": [
      "\n",
      "\n",
      "=============================================================================================================================\n",
      "=============================================================================================================================\n",
      "\n"
     ]
    },
    {
     "name": "stderr",
     "output_type": "stream",
     "text": [
      "[Succeeded / Failed / Skipped / Total] 187 / 18 / 100 / 305:  61%|███████████▌       | 305/500 [04:34<02:55,  1.11it/s]textattack: Saving checkpoint under \"checkpoints\\1720233404667.ta.chkpt\" at 2024-07-06 10:36:44 after 305 attacks.\n"
     ]
    },
    {
     "name": "stdout",
     "output_type": "stream",
     "text": [
      "\n",
      "\n",
      "=============================================================================================================================\n",
      "=============================================================================================================================\n",
      "\n"
     ]
    },
    {
     "name": "stderr",
     "output_type": "stream",
     "text": [
      "[Succeeded / Failed / Skipped / Total] 191 / 18 / 101 / 310:  62%|███████████▊       | 310/500 [04:38<02:50,  1.11it/s]textattack: Saving checkpoint under \"checkpoints\\1720233408121.ta.chkpt\" at 2024-07-06 10:36:48 after 310 attacks.\n"
     ]
    },
    {
     "name": "stdout",
     "output_type": "stream",
     "text": [
      "\n",
      "\n",
      "=============================================================================================================================\n",
      "=============================================================================================================================\n",
      "\n"
     ]
    },
    {
     "name": "stderr",
     "output_type": "stream",
     "text": [
      "[Succeeded / Failed / Skipped / Total] 195 / 18 / 102 / 315:  63%|███████████▉       | 315/500 [04:40<02:44,  1.12it/s]textattack: Saving checkpoint under \"checkpoints\\1720233410871.ta.chkpt\" at 2024-07-06 10:36:50 after 315 attacks.\n",
      "[Succeeded / Failed / Skipped / Total] 195 / 18 / 103 / 316:  63%|████████████       | 316/500 [04:41<02:43,  1.12it/s]"
     ]
    },
    {
     "name": "stdout",
     "output_type": "stream",
     "text": [
      "\n",
      "\n",
      "=============================================================================================================================\n",
      "=============================================================================================================================\n",
      "\n"
     ]
    },
    {
     "name": "stderr",
     "output_type": "stream",
     "text": [
      "[Succeeded / Failed / Skipped / Total] 197 / 19 / 104 / 320:  64%|████████████▏      | 320/500 [04:48<02:42,  1.11it/s]textattack: Saving checkpoint under \"checkpoints\\1720233418809.ta.chkpt\" at 2024-07-06 10:36:58 after 320 attacks.\n"
     ]
    },
    {
     "name": "stdout",
     "output_type": "stream",
     "text": [
      "\n",
      "\n",
      "=============================================================================================================================\n",
      "=============================================================================================================================\n",
      "\n"
     ]
    },
    {
     "name": "stderr",
     "output_type": "stream",
     "text": [
      "[Succeeded / Failed / Skipped / Total] 200 / 20 / 105 / 325:  65%|████████████▎      | 325/500 [04:58<02:40,  1.09it/s]textattack: Saving checkpoint under \"checkpoints\\1720233428185.ta.chkpt\" at 2024-07-06 10:37:08 after 325 attacks.\n"
     ]
    },
    {
     "name": "stdout",
     "output_type": "stream",
     "text": [
      "\n",
      "\n",
      "=============================================================================================================================\n",
      "=============================================================================================================================\n",
      "\n"
     ]
    },
    {
     "name": "stderr",
     "output_type": "stream",
     "text": [
      "[Succeeded / Failed / Skipped / Total] 203 / 20 / 107 / 330:  66%|████████████▌      | 330/500 [05:00<02:34,  1.10it/s]textattack: Saving checkpoint under \"checkpoints\\1720233430466.ta.chkpt\" at 2024-07-06 10:37:10 after 330 attacks.\n",
      "[Succeeded / Failed / Skipped / Total] 203 / 20 / 108 / 331:  66%|████████████▌      | 331/500 [05:00<02:33,  1.10it/s]"
     ]
    },
    {
     "name": "stdout",
     "output_type": "stream",
     "text": [
      "\n",
      "\n",
      "=============================================================================================================================\n",
      "=============================================================================================================================\n",
      "\n"
     ]
    },
    {
     "name": "stderr",
     "output_type": "stream",
     "text": [
      "[Succeeded / Failed / Skipped / Total] 204 / 22 / 109 / 335:  67%|████████████▋      | 335/500 [05:10<02:32,  1.08it/s]textattack: Saving checkpoint under \"checkpoints\\1720233439983.ta.chkpt\" at 2024-07-06 10:37:19 after 335 attacks.\n",
      "[Succeeded / Failed / Skipped / Total] 204 / 22 / 110 / 336:  67%|████████████▊      | 336/500 [05:10<02:31,  1.08it/s]"
     ]
    },
    {
     "name": "stdout",
     "output_type": "stream",
     "text": [
      "\n",
      "\n",
      "=============================================================================================================================\n",
      "=============================================================================================================================\n",
      "\n"
     ]
    },
    {
     "name": "stderr",
     "output_type": "stream",
     "text": [
      "[Succeeded / Failed / Skipped / Total] 207 / 22 / 111 / 340:  68%|████████████▉      | 340/500 [05:12<02:27,  1.09it/s]textattack: Saving checkpoint under \"checkpoints\\1720233442827.ta.chkpt\" at 2024-07-06 10:37:22 after 340 attacks.\n"
     ]
    },
    {
     "name": "stdout",
     "output_type": "stream",
     "text": [
      "\n",
      "\n",
      "=============================================================================================================================\n",
      "=============================================================================================================================\n",
      "\n"
     ]
    },
    {
     "name": "stderr",
     "output_type": "stream",
     "text": [
      "[Succeeded / Failed / Skipped / Total] 210 / 22 / 113 / 345:  69%|█████████████      | 345/500 [05:17<02:22,  1.09it/s]textattack: Saving checkpoint under \"checkpoints\\1720233447140.ta.chkpt\" at 2024-07-06 10:37:27 after 345 attacks.\n"
     ]
    },
    {
     "name": "stdout",
     "output_type": "stream",
     "text": [
      "\n",
      "\n",
      "=============================================================================================================================\n",
      "=============================================================================================================================\n",
      "\n"
     ]
    },
    {
     "name": "stderr",
     "output_type": "stream",
     "text": [
      "[Succeeded / Failed / Skipped / Total] 215 / 22 / 113 / 350:  70%|█████████████▎     | 350/500 [05:21<02:17,  1.09it/s]textattack: Saving checkpoint under \"checkpoints\\1720233451593.ta.chkpt\" at 2024-07-06 10:37:31 after 350 attacks.\n"
     ]
    },
    {
     "name": "stdout",
     "output_type": "stream",
     "text": [
      "\n",
      "\n",
      "=============================================================================================================================\n",
      "=============================================================================================================================\n",
      "\n"
     ]
    },
    {
     "name": "stderr",
     "output_type": "stream",
     "text": [
      "[Succeeded / Failed / Skipped / Total] 220 / 22 / 113 / 355:  71%|█████████████▍     | 355/500 [05:26<02:13,  1.09it/s]textattack: Saving checkpoint under \"checkpoints\\1720233455968.ta.chkpt\" at 2024-07-06 10:37:35 after 355 attacks.\n",
      "[Succeeded / Failed / Skipped / Total] 220 / 22 / 114 / 356:  71%|█████████████▌     | 356/500 [05:26<02:11,  1.09it/s]"
     ]
    },
    {
     "name": "stdout",
     "output_type": "stream",
     "text": [
      "\n",
      "\n",
      "=============================================================================================================================\n",
      "=============================================================================================================================\n",
      "\n"
     ]
    },
    {
     "name": "stderr",
     "output_type": "stream",
     "text": [
      "[Succeeded / Failed / Skipped / Total] 224 / 22 / 114 / 360:  72%|█████████████▋     | 360/500 [05:32<02:09,  1.08it/s]textattack: Saving checkpoint under \"checkpoints\\1720233462297.ta.chkpt\" at 2024-07-06 10:37:42 after 360 attacks.\n",
      "[Succeeded / Failed / Skipped / Total] 224 / 22 / 116 / 362:  72%|█████████████▊     | 362/500 [05:32<02:06,  1.09it/s]"
     ]
    },
    {
     "name": "stdout",
     "output_type": "stream",
     "text": [
      "\n",
      "\n",
      "=============================================================================================================================\n",
      "=============================================================================================================================\n",
      "\n"
     ]
    },
    {
     "name": "stderr",
     "output_type": "stream",
     "text": [
      "[Succeeded / Failed / Skipped / Total] 226 / 23 / 116 / 365:  73%|█████████████▊     | 365/500 [05:36<02:04,  1.09it/s]textattack: Saving checkpoint under \"checkpoints\\1720233466094.ta.chkpt\" at 2024-07-06 10:37:46 after 365 attacks.\n"
     ]
    },
    {
     "name": "stdout",
     "output_type": "stream",
     "text": [
      "\n",
      "\n",
      "=============================================================================================================================\n",
      "=============================================================================================================================\n",
      "\n"
     ]
    },
    {
     "name": "stderr",
     "output_type": "stream",
     "text": [
      "[Succeeded / Failed / Skipped / Total] 229 / 24 / 117 / 370:  74%|██████████████     | 370/500 [05:39<01:59,  1.09it/s]textattack: Saving checkpoint under \"checkpoints\\1720233469391.ta.chkpt\" at 2024-07-06 10:37:49 after 370 attacks.\n"
     ]
    },
    {
     "name": "stdout",
     "output_type": "stream",
     "text": [
      "\n",
      "\n",
      "=============================================================================================================================\n",
      "=============================================================================================================================\n",
      "\n"
     ]
    },
    {
     "name": "stderr",
     "output_type": "stream",
     "text": [
      "[Succeeded / Failed / Skipped / Total] 232 / 25 / 118 / 375:  75%|██████████████▎    | 375/500 [05:47<01:55,  1.08it/s]textattack: Saving checkpoint under \"checkpoints\\1720233477673.ta.chkpt\" at 2024-07-06 10:37:57 after 375 attacks.\n",
      "[Succeeded / Failed / Skipped / Total] 232 / 25 / 119 / 376:  75%|██████████████▎    | 376/500 [05:47<01:54,  1.08it/s]"
     ]
    },
    {
     "name": "stdout",
     "output_type": "stream",
     "text": [
      "\n",
      "\n",
      "=============================================================================================================================\n",
      "=============================================================================================================================\n",
      "\n"
     ]
    },
    {
     "name": "stderr",
     "output_type": "stream",
     "text": [
      "[Succeeded / Failed / Skipped / Total] 235 / 25 / 120 / 380:  76%|██████████████▍    | 380/500 [05:50<01:50,  1.09it/s]textattack: Saving checkpoint under \"checkpoints\\1720233480080.ta.chkpt\" at 2024-07-06 10:38:00 after 380 attacks.\n"
     ]
    },
    {
     "name": "stdout",
     "output_type": "stream",
     "text": [
      "\n",
      "\n",
      "=============================================================================================================================\n",
      "=============================================================================================================================\n",
      "\n"
     ]
    },
    {
     "name": "stderr",
     "output_type": "stream",
     "text": [
      "[Succeeded / Failed / Skipped / Total] 239 / 26 / 120 / 385:  77%|██████████████▋    | 385/500 [05:56<01:46,  1.08it/s]textattack: Saving checkpoint under \"checkpoints\\1720233486002.ta.chkpt\" at 2024-07-06 10:38:06 after 385 attacks.\n"
     ]
    },
    {
     "name": "stdout",
     "output_type": "stream",
     "text": [
      "\n",
      "\n",
      "=============================================================================================================================\n",
      "=============================================================================================================================\n",
      "\n"
     ]
    },
    {
     "name": "stderr",
     "output_type": "stream",
     "text": [
      "[Succeeded / Failed / Skipped / Total] 243 / 26 / 121 / 390:  78%|██████████████▊    | 390/500 [05:59<01:41,  1.08it/s]textattack: Saving checkpoint under \"checkpoints\\1720233489502.ta.chkpt\" at 2024-07-06 10:38:09 after 390 attacks.\n",
      "[Succeeded / Failed / Skipped / Total] 243 / 26 / 122 / 391:  78%|██████████████▊    | 391/500 [05:59<01:40,  1.09it/s]"
     ]
    },
    {
     "name": "stdout",
     "output_type": "stream",
     "text": [
      "\n",
      "\n",
      "=============================================================================================================================\n",
      "=============================================================================================================================\n",
      "\n"
     ]
    },
    {
     "name": "stderr",
     "output_type": "stream",
     "text": [
      "[Succeeded / Failed / Skipped / Total] 246 / 26 / 123 / 395:  79%|███████████████    | 395/500 [06:03<01:36,  1.09it/s]textattack: Saving checkpoint under \"checkpoints\\1720233493878.ta.chkpt\" at 2024-07-06 10:38:13 after 395 attacks.\n"
     ]
    },
    {
     "name": "stdout",
     "output_type": "stream",
     "text": [
      "\n",
      "\n",
      "=============================================================================================================================\n",
      "=============================================================================================================================\n",
      "\n"
     ]
    },
    {
     "name": "stderr",
     "output_type": "stream",
     "text": [
      "[Succeeded / Failed / Skipped / Total] 250 / 26 / 124 / 400:  80%|███████████████▏   | 400/500 [06:09<01:32,  1.08it/s]textattack: Saving checkpoint under \"checkpoints\\1720233499582.ta.chkpt\" at 2024-07-06 10:38:19 after 400 attacks.\n"
     ]
    },
    {
     "name": "stdout",
     "output_type": "stream",
     "text": [
      "\n",
      "\n",
      "=============================================================================================================================\n",
      "=============================================================================================================================\n",
      "\n"
     ]
    },
    {
     "name": "stderr",
     "output_type": "stream",
     "text": [
      "[Succeeded / Failed / Skipped / Total] 253 / 27 / 125 / 405:  81%|███████████████▍   | 405/500 [06:17<01:28,  1.07it/s]textattack: Saving checkpoint under \"checkpoints\\1720233507395.ta.chkpt\" at 2024-07-06 10:38:27 after 405 attacks.\n"
     ]
    },
    {
     "name": "stdout",
     "output_type": "stream",
     "text": [
      "\n",
      "\n",
      "=============================================================================================================================\n",
      "=============================================================================================================================\n",
      "\n"
     ]
    },
    {
     "name": "stderr",
     "output_type": "stream",
     "text": [
      "[Succeeded / Failed / Skipped / Total] 257 / 28 / 125 / 410:  82%|███████████████▌   | 410/500 [06:21<01:23,  1.07it/s]textattack: Saving checkpoint under \"checkpoints\\1720233511536.ta.chkpt\" at 2024-07-06 10:38:31 after 410 attacks.\n"
     ]
    },
    {
     "name": "stdout",
     "output_type": "stream",
     "text": [
      "\n",
      "\n",
      "=============================================================================================================================\n",
      "=============================================================================================================================\n",
      "\n"
     ]
    },
    {
     "name": "stderr",
     "output_type": "stream",
     "text": [
      "[Succeeded / Failed / Skipped / Total] 259 / 28 / 128 / 415:  83%|███████████████▊   | 415/500 [06:23<01:18,  1.08it/s]textattack: Saving checkpoint under \"checkpoints\\1720233513926.ta.chkpt\" at 2024-07-06 10:38:33 after 415 attacks.\n"
     ]
    },
    {
     "name": "stdout",
     "output_type": "stream",
     "text": [
      "\n",
      "\n",
      "=============================================================================================================================\n",
      "=============================================================================================================================\n",
      "\n"
     ]
    },
    {
     "name": "stderr",
     "output_type": "stream",
     "text": [
      "[Succeeded / Failed / Skipped / Total] 261 / 28 / 131 / 420:  84%|███████████████▉   | 420/500 [06:27<01:13,  1.09it/s]textattack: Saving checkpoint under \"checkpoints\\1720233517036.ta.chkpt\" at 2024-07-06 10:38:37 after 420 attacks.\n"
     ]
    },
    {
     "name": "stdout",
     "output_type": "stream",
     "text": [
      "\n",
      "\n",
      "=============================================================================================================================\n",
      "=============================================================================================================================\n",
      "\n"
     ]
    },
    {
     "name": "stderr",
     "output_type": "stream",
     "text": [
      "[Succeeded / Failed / Skipped / Total] 266 / 28 / 131 / 425:  85%|████████████████▏  | 425/500 [06:31<01:09,  1.09it/s]textattack: Saving checkpoint under \"checkpoints\\1720233521271.ta.chkpt\" at 2024-07-06 10:38:41 after 425 attacks.\n",
      "[Succeeded / Failed / Skipped / Total] 266 / 28 / 132 / 426:  85%|████████████████▏  | 426/500 [06:31<01:08,  1.09it/s]"
     ]
    },
    {
     "name": "stdout",
     "output_type": "stream",
     "text": [
      "\n",
      "\n",
      "=============================================================================================================================\n",
      "=============================================================================================================================\n",
      "\n"
     ]
    },
    {
     "name": "stderr",
     "output_type": "stream",
     "text": [
      "[Succeeded / Failed / Skipped / Total] 267 / 28 / 135 / 430:  86%|████████████████▎  | 430/500 [06:33<01:04,  1.09it/s]textattack: Saving checkpoint under \"checkpoints\\1720233523318.ta.chkpt\" at 2024-07-06 10:38:43 after 430 attacks.\n",
      "[Succeeded / Failed / Skipped / Total] 267 / 28 / 136 / 431:  86%|████████████████▍  | 431/500 [06:33<01:02,  1.10it/s]"
     ]
    },
    {
     "name": "stdout",
     "output_type": "stream",
     "text": [
      "\n",
      "\n",
      "=============================================================================================================================\n",
      "=============================================================================================================================\n",
      "\n"
     ]
    },
    {
     "name": "stderr",
     "output_type": "stream",
     "text": [
      "[Succeeded / Failed / Skipped / Total] 270 / 28 / 137 / 435:  87%|████████████████▌  | 435/500 [06:37<00:59,  1.10it/s]textattack: Saving checkpoint under \"checkpoints\\1720233527115.ta.chkpt\" at 2024-07-06 10:38:47 after 435 attacks.\n"
     ]
    },
    {
     "name": "stdout",
     "output_type": "stream",
     "text": [
      "\n",
      "\n",
      "=============================================================================================================================\n",
      "=============================================================================================================================\n",
      "\n"
     ]
    },
    {
     "name": "stderr",
     "output_type": "stream",
     "text": [
      "[Succeeded / Failed / Skipped / Total] 274 / 29 / 137 / 440:  88%|████████████████▋  | 440/500 [06:47<00:55,  1.08it/s]textattack: Saving checkpoint under \"checkpoints\\1720233537194.ta.chkpt\" at 2024-07-06 10:38:57 after 440 attacks.\n",
      "[Succeeded / Failed / Skipped / Total] 274 / 29 / 138 / 441:  88%|████████████████▊  | 441/500 [06:47<00:54,  1.08it/s]"
     ]
    },
    {
     "name": "stdout",
     "output_type": "stream",
     "text": [
      "\n",
      "\n",
      "=============================================================================================================================\n",
      "=============================================================================================================================\n",
      "\n"
     ]
    },
    {
     "name": "stderr",
     "output_type": "stream",
     "text": [
      "[Succeeded / Failed / Skipped / Total] 277 / 30 / 138 / 445:  89%|████████████████▉  | 445/500 [06:50<00:50,  1.09it/s]textattack: Saving checkpoint under \"checkpoints\\1720233539975.ta.chkpt\" at 2024-07-06 10:38:59 after 445 attacks.\n"
     ]
    },
    {
     "name": "stdout",
     "output_type": "stream",
     "text": [
      "\n",
      "\n",
      "=============================================================================================================================\n",
      "=============================================================================================================================\n",
      "\n"
     ]
    },
    {
     "name": "stderr",
     "output_type": "stream",
     "text": [
      "[Succeeded / Failed / Skipped / Total] 279 / 31 / 140 / 450:  90%|█████████████████  | 450/500 [06:54<00:46,  1.08it/s]textattack: Saving checkpoint under \"checkpoints\\1720233544866.ta.chkpt\" at 2024-07-06 10:39:04 after 450 attacks.\n"
     ]
    },
    {
     "name": "stdout",
     "output_type": "stream",
     "text": [
      "\n",
      "\n",
      "=============================================================================================================================\n",
      "=============================================================================================================================\n",
      "\n"
     ]
    },
    {
     "name": "stderr",
     "output_type": "stream",
     "text": [
      "[Succeeded / Failed / Skipped / Total] 282 / 31 / 142 / 455:  91%|█████████████████▎ | 455/500 [07:00<00:41,  1.08it/s]textattack: Saving checkpoint under \"checkpoints\\1720233550335.ta.chkpt\" at 2024-07-06 10:39:10 after 455 attacks.\n"
     ]
    },
    {
     "name": "stdout",
     "output_type": "stream",
     "text": [
      "\n",
      "\n",
      "=============================================================================================================================\n",
      "=============================================================================================================================\n",
      "\n"
     ]
    },
    {
     "name": "stderr",
     "output_type": "stream",
     "text": [
      "[Succeeded / Failed / Skipped / Total] 286 / 31 / 143 / 460:  92%|█████████████████▍ | 460/500 [07:05<00:37,  1.08it/s]textattack: Saving checkpoint under \"checkpoints\\1720233555609.ta.chkpt\" at 2024-07-06 10:39:15 after 460 attacks.\n"
     ]
    },
    {
     "name": "stdout",
     "output_type": "stream",
     "text": [
      "\n",
      "\n",
      "=============================================================================================================================\n",
      "=============================================================================================================================\n",
      "\n"
     ]
    },
    {
     "name": "stderr",
     "output_type": "stream",
     "text": [
      "[Succeeded / Failed / Skipped / Total] 289 / 32 / 144 / 465:  93%|█████████████████▋ | 465/500 [07:12<00:32,  1.08it/s]textattack: Saving checkpoint under \"checkpoints\\1720233562391.ta.chkpt\" at 2024-07-06 10:39:22 after 465 attacks.\n"
     ]
    },
    {
     "name": "stdout",
     "output_type": "stream",
     "text": [
      "\n",
      "\n",
      "=============================================================================================================================\n",
      "=============================================================================================================================\n",
      "\n"
     ]
    },
    {
     "name": "stderr",
     "output_type": "stream",
     "text": [
      "[Succeeded / Failed / Skipped / Total] 294 / 32 / 144 / 470:  94%|█████████████████▊ | 470/500 [07:15<00:27,  1.08it/s]textattack: Saving checkpoint under \"checkpoints\\1720233565829.ta.chkpt\" at 2024-07-06 10:39:25 after 470 attacks.\n"
     ]
    },
    {
     "name": "stdout",
     "output_type": "stream",
     "text": [
      "\n",
      "\n",
      "=============================================================================================================================\n",
      "=============================================================================================================================\n",
      "\n"
     ]
    },
    {
     "name": "stderr",
     "output_type": "stream",
     "text": [
      "[Succeeded / Failed / Skipped / Total] 297 / 34 / 144 / 475:  95%|██████████████████ | 475/500 [07:25<00:23,  1.07it/s]textattack: Saving checkpoint under \"checkpoints\\1720233575658.ta.chkpt\" at 2024-07-06 10:39:35 after 475 attacks.\n"
     ]
    },
    {
     "name": "stdout",
     "output_type": "stream",
     "text": [
      "\n",
      "\n",
      "=============================================================================================================================\n",
      "=============================================================================================================================\n",
      "\n"
     ]
    },
    {
     "name": "stderr",
     "output_type": "stream",
     "text": [
      "[Succeeded / Failed / Skipped / Total] 301 / 34 / 145 / 480:  96%|██████████████████▏| 480/500 [07:32<00:18,  1.06it/s]textattack: Saving checkpoint under \"checkpoints\\1720233582627.ta.chkpt\" at 2024-07-06 10:39:42 after 480 attacks.\n"
     ]
    },
    {
     "name": "stdout",
     "output_type": "stream",
     "text": [
      "\n",
      "\n",
      "=============================================================================================================================\n",
      "=============================================================================================================================\n",
      "\n"
     ]
    },
    {
     "name": "stderr",
     "output_type": "stream",
     "text": [
      "[Succeeded / Failed / Skipped / Total] 304 / 34 / 147 / 485:  97%|██████████████████▍| 485/500 [07:35<00:14,  1.06it/s]textattack: Saving checkpoint under \"checkpoints\\1720233585909.ta.chkpt\" at 2024-07-06 10:39:45 after 485 attacks.\n",
      "[Succeeded / Failed / Skipped / Total] 304 / 34 / 148 / 486:  97%|██████████████████▍| 486/500 [07:36<00:13,  1.07it/s]"
     ]
    },
    {
     "name": "stdout",
     "output_type": "stream",
     "text": [
      "\n",
      "\n",
      "=============================================================================================================================\n",
      "=============================================================================================================================\n",
      "\n"
     ]
    },
    {
     "name": "stderr",
     "output_type": "stream",
     "text": [
      "[Succeeded / Failed / Skipped / Total] 305 / 36 / 149 / 490:  98%|██████████████████▌| 490/500 [07:43<00:09,  1.06it/s]textattack: Saving checkpoint under \"checkpoints\\1720233593441.ta.chkpt\" at 2024-07-06 10:39:53 after 490 attacks.\n",
      "[Succeeded / Failed / Skipped / Total] 305 / 36 / 150 / 491:  98%|██████████████████▋| 491/500 [07:43<00:08,  1.06it/s]"
     ]
    },
    {
     "name": "stdout",
     "output_type": "stream",
     "text": [
      "\n",
      "\n",
      "=============================================================================================================================\n",
      "=============================================================================================================================\n",
      "\n"
     ]
    },
    {
     "name": "stderr",
     "output_type": "stream",
     "text": [
      "[Succeeded / Failed / Skipped / Total] 307 / 37 / 151 / 495:  99%|██████████████████▊| 495/500 [07:47<00:04,  1.06it/s]textattack: Saving checkpoint under \"checkpoints\\1720233597223.ta.chkpt\" at 2024-07-06 10:39:57 after 495 attacks.\n"
     ]
    },
    {
     "name": "stdout",
     "output_type": "stream",
     "text": [
      "\n",
      "\n",
      "=============================================================================================================================\n",
      "=============================================================================================================================\n",
      "\n"
     ]
    },
    {
     "name": "stderr",
     "output_type": "stream",
     "text": [
      "[Succeeded / Failed / Skipped / Total] 309 / 38 / 153 / 500: 100%|███████████████████| 500/500 [07:51<00:00,  1.06it/s]textattack: Saving checkpoint under \"checkpoints\\1720233601723.ta.chkpt\" at 2024-07-06 10:40:01 after 500 attacks.\n",
      "[Succeeded / Failed / Skipped / Total] 309 / 38 / 153 / 500: 100%|███████████████████| 500/500 [07:51<00:00,  1.06it/s]"
     ]
    },
    {
     "name": "stdout",
     "output_type": "stream",
     "text": [
      "\n",
      "\n",
      "=============================================================================================================================\n",
      "=============================================================================================================================\n",
      "\n",
      "\n",
      "+-------------------------------+--------+\n",
      "| Attack Results                |        |\n",
      "+-------------------------------+--------+\n",
      "| Number of successful attacks: | 309    |\n",
      "| Number of failed attacks:     | 38     |\n",
      "| Number of skipped attacks:    | 153    |\n",
      "| Original accuracy:            | 69.4%  |\n",
      "| Accuracy under attack:        | 7.6%   |\n",
      "| Attack success rate:          | 89.05% |\n",
      "| Average perturbed word %:     | 9.91%  |\n",
      "| Average num. words per input: | 18.4   |\n",
      "| Avg num queries:              | 24.98  |\n",
      "+-------------------------------+--------+\n"
     ]
    },
    {
     "name": "stderr",
     "output_type": "stream",
     "text": [
      "\n"
     ]
    }
   ],
   "source": [
    "runAttack(bert_model_wrapper_knn_mr, n_samples, 'attack_results_new/bertmrattackknn'+suffix, target_ds_mr)"
   ]
  },
  {
   "cell_type": "code",
   "execution_count": 15,
   "id": "81e7d26b-097a-47d3-b9c6-b5d63790260c",
   "metadata": {},
   "outputs": [
    {
     "name": "stderr",
     "output_type": "stream",
     "text": [
      "textattack: Unknown if model of class <class 'transformers.models.bert.modeling_bert.BertModel'> compatible with goal function <class 'textattack.goal_functions.classification.untargeted_classification.UntargetedClassification'>.\n",
      "textattack: Logging to CSV at path attack_results_new/bertmrattacksvcsim08.csv\n"
     ]
    },
    {
     "name": "stdout",
     "output_type": "stream",
     "text": [
      "Attack(\n",
      "  (search_method): GreedyWordSwapWIR(\n",
      "    (wir_method):  delete\n",
      "  )\n",
      "  (goal_function):  UntargetedClassification\n",
      "  (transformation):  WordSwapEmbedding(\n",
      "    (max_candidates):  50\n",
      "    (embedding):  WordEmbedding\n",
      "  )\n",
      "  (constraints): \n",
      "    (0): WordEmbeddingDistance(\n",
      "        (embedding):  WordEmbedding\n",
      "        (min_cos_sim):  0.8\n",
      "        (cased):  False\n",
      "        (include_unknown_words):  True\n",
      "        (compare_against_original):  True\n",
      "      )\n",
      "    (1): PartOfSpeech(\n",
      "        (tagger_type):  nltk\n",
      "        (tagset):  universal\n",
      "        (allow_verb_noun_swap):  True\n",
      "        (compare_against_original):  True\n",
      "      )\n",
      "    (2): UniversalSentenceEncoder(\n",
      "        (metric):  angular\n",
      "        (threshold):  0.840845057\n",
      "        (window_size):  15\n",
      "        (skip_text_shorter_than_window):  True\n",
      "        (compare_against_original):  False\n",
      "      )\n",
      "    (3): RepeatModification\n",
      "    (4): StopwordModification\n",
      "    (5): InputColumnModification(\n",
      "        (matching_column_labels):  ['premise', 'hypothesis']\n",
      "        (columns_to_ignore):  {'premise'}\n",
      "      )\n",
      "  (is_black_box):  True\n",
      ") \n",
      "\n"
     ]
    },
    {
     "name": "stderr",
     "output_type": "stream",
     "text": [
      "[Succeeded / Failed / Skipped / Total] 1 / 3 / 1 / 5:   1%|▎                           | 5/500 [00:15<26:14,  3.18s/it]textattack: Saving checkpoint under \"checkpoints\\1720233617751.ta.chkpt\" at 2024-07-06 10:40:17 after 5 attacks.\n",
      "[Succeeded / Failed / Skipped / Total] 1 / 3 / 3 / 7:   1%|▍                           | 7/500 [00:16<18:51,  2.29s/it]"
     ]
    },
    {
     "name": "stdout",
     "output_type": "stream",
     "text": [
      "\n",
      "\n",
      "=============================================================================================================================\n",
      "=============================================================================================================================\n",
      "\n"
     ]
    },
    {
     "name": "stderr",
     "output_type": "stream",
     "text": [
      "[Succeeded / Failed / Skipped / Total] 2 / 4 / 4 / 10:   2%|▌                         | 10/500 [00:21<17:43,  2.17s/it]textattack: Saving checkpoint under \"checkpoints\\1720233623548.ta.chkpt\" at 2024-07-06 10:40:23 after 10 attacks.\n"
     ]
    },
    {
     "name": "stdout",
     "output_type": "stream",
     "text": [
      "\n",
      "\n",
      "=============================================================================================================================\n",
      "=============================================================================================================================\n",
      "\n"
     ]
    },
    {
     "name": "stderr",
     "output_type": "stream",
     "text": [
      "[Succeeded / Failed / Skipped / Total] 4 / 7 / 4 / 15:   3%|▊                         | 15/500 [00:37<20:23,  2.52s/it]textattack: Saving checkpoint under \"checkpoints\\1720233639690.ta.chkpt\" at 2024-07-06 10:40:39 after 15 attacks.\n"
     ]
    },
    {
     "name": "stdout",
     "output_type": "stream",
     "text": [
      "\n",
      "\n",
      "=============================================================================================================================\n",
      "=============================================================================================================================\n",
      "\n"
     ]
    },
    {
     "name": "stderr",
     "output_type": "stream",
     "text": [
      "[Succeeded / Failed / Skipped / Total] 7 / 8 / 5 / 20:   4%|█                         | 20/500 [00:42<16:52,  2.11s/it]textattack: Saving checkpoint under \"checkpoints\\1720233644050.ta.chkpt\" at 2024-07-06 10:40:44 after 20 attacks.\n"
     ]
    },
    {
     "name": "stdout",
     "output_type": "stream",
     "text": [
      "\n",
      "\n",
      "=============================================================================================================================\n",
      "=============================================================================================================================\n",
      "\n"
     ]
    },
    {
     "name": "stderr",
     "output_type": "stream",
     "text": [
      "[Succeeded / Failed / Skipped / Total] 10 / 8 / 7 / 25:   5%|█▎                       | 25/500 [00:48<15:24,  1.95s/it]textattack: Saving checkpoint under \"checkpoints\\1720233650504.ta.chkpt\" at 2024-07-06 10:40:50 after 25 attacks.\n"
     ]
    },
    {
     "name": "stdout",
     "output_type": "stream",
     "text": [
      "\n",
      "\n",
      "=============================================================================================================================\n",
      "=============================================================================================================================\n",
      "\n"
     ]
    },
    {
     "name": "stderr",
     "output_type": "stream",
     "text": [
      "[Succeeded / Failed / Skipped / Total] 12 / 11 / 7 / 30:   6%|█▍                      | 30/500 [00:58<15:10,  1.94s/it]textattack: Saving checkpoint under \"checkpoints\\1720233659942.ta.chkpt\" at 2024-07-06 10:40:59 after 30 attacks.\n"
     ]
    },
    {
     "name": "stdout",
     "output_type": "stream",
     "text": [
      "\n",
      "\n",
      "=============================================================================================================================\n",
      "=============================================================================================================================\n",
      "\n"
     ]
    },
    {
     "name": "stderr",
     "output_type": "stream",
     "text": [
      "[Succeeded / Failed / Skipped / Total] 14 / 13 / 8 / 35:   7%|█▋                      | 35/500 [01:03<14:04,  1.82s/it]textattack: Saving checkpoint under \"checkpoints\\1720233665380.ta.chkpt\" at 2024-07-06 10:41:05 after 35 attacks.\n"
     ]
    },
    {
     "name": "stdout",
     "output_type": "stream",
     "text": [
      "\n",
      "\n",
      "=============================================================================================================================\n",
      "=============================================================================================================================\n",
      "\n"
     ]
    },
    {
     "name": "stderr",
     "output_type": "stream",
     "text": [
      "[Succeeded / Failed / Skipped / Total] 17 / 13 / 10 / 40:   8%|█▊                     | 40/500 [01:08<13:02,  1.70s/it]textattack: Saving checkpoint under \"checkpoints\\1720233669849.ta.chkpt\" at 2024-07-06 10:41:09 after 40 attacks.\n"
     ]
    },
    {
     "name": "stdout",
     "output_type": "stream",
     "text": [
      "\n",
      "\n",
      "=============================================================================================================================\n",
      "=============================================================================================================================\n",
      "\n"
     ]
    },
    {
     "name": "stderr",
     "output_type": "stream",
     "text": [
      "[Succeeded / Failed / Skipped / Total] 20 / 14 / 11 / 45:   9%|██                     | 45/500 [01:18<13:13,  1.74s/it]textattack: Saving checkpoint under \"checkpoints\\1720233680334.ta.chkpt\" at 2024-07-06 10:41:20 after 45 attacks.\n"
     ]
    },
    {
     "name": "stdout",
     "output_type": "stream",
     "text": [
      "\n",
      "\n",
      "=============================================================================================================================\n",
      "=============================================================================================================================\n",
      "\n"
     ]
    },
    {
     "name": "stderr",
     "output_type": "stream",
     "text": [
      "[Succeeded / Failed / Skipped / Total] 25 / 14 / 11 / 50:  10%|██▎                    | 50/500 [01:26<13:01,  1.74s/it]textattack: Saving checkpoint under \"checkpoints\\1720233688731.ta.chkpt\" at 2024-07-06 10:41:28 after 50 attacks.\n"
     ]
    },
    {
     "name": "stdout",
     "output_type": "stream",
     "text": [
      "\n",
      "\n",
      "=============================================================================================================================\n",
      "=============================================================================================================================\n",
      "\n"
     ]
    },
    {
     "name": "stderr",
     "output_type": "stream",
     "text": [
      "[Succeeded / Failed / Skipped / Total] 29 / 15 / 11 / 55:  11%|██▌                    | 55/500 [01:37<13:08,  1.77s/it]textattack: Saving checkpoint under \"checkpoints\\1720233699357.ta.chkpt\" at 2024-07-06 10:41:39 after 55 attacks.\n"
     ]
    },
    {
     "name": "stdout",
     "output_type": "stream",
     "text": [
      "\n",
      "\n",
      "=============================================================================================================================\n",
      "=============================================================================================================================\n",
      "\n"
     ]
    },
    {
     "name": "stderr",
     "output_type": "stream",
     "text": [
      "[Succeeded / Failed / Skipped / Total] 33 / 15 / 12 / 60:  12%|██▊                    | 60/500 [01:43<12:42,  1.73s/it]textattack: Saving checkpoint under \"checkpoints\\1720233705780.ta.chkpt\" at 2024-07-06 10:41:45 after 60 attacks.\n",
      "[Succeeded / Failed / Skipped / Total] 33 / 15 / 13 / 61:  12%|██▊                    | 61/500 [01:44<12:28,  1.71s/it]"
     ]
    },
    {
     "name": "stdout",
     "output_type": "stream",
     "text": [
      "\n",
      "\n",
      "=============================================================================================================================\n",
      "=============================================================================================================================\n",
      "\n"
     ]
    },
    {
     "name": "stderr",
     "output_type": "stream",
     "text": [
      "[Succeeded / Failed / Skipped / Total] 36 / 16 / 13 / 65:  13%|██▉                    | 65/500 [01:48<12:03,  1.66s/it]textattack: Saving checkpoint under \"checkpoints\\1720233709968.ta.chkpt\" at 2024-07-06 10:41:49 after 65 attacks.\n"
     ]
    },
    {
     "name": "stdout",
     "output_type": "stream",
     "text": [
      "\n",
      "\n",
      "=============================================================================================================================\n",
      "=============================================================================================================================\n",
      "\n"
     ]
    },
    {
     "name": "stderr",
     "output_type": "stream",
     "text": [
      "[Succeeded / Failed / Skipped / Total] 38 / 18 / 14 / 70:  14%|███▏                   | 70/500 [01:54<11:46,  1.64s/it]textattack: Saving checkpoint under \"checkpoints\\1720233716828.ta.chkpt\" at 2024-07-06 10:41:56 after 70 attacks.\n"
     ]
    },
    {
     "name": "stdout",
     "output_type": "stream",
     "text": [
      "\n",
      "\n",
      "=============================================================================================================================\n",
      "=============================================================================================================================\n",
      "\n"
     ]
    },
    {
     "name": "stderr",
     "output_type": "stream",
     "text": [
      "[Succeeded / Failed / Skipped / Total] 41 / 19 / 15 / 75:  15%|███▍                   | 75/500 [01:58<11:12,  1.58s/it]textattack: Saving checkpoint under \"checkpoints\\1720233720578.ta.chkpt\" at 2024-07-06 10:42:00 after 75 attacks.\n",
      "[Succeeded / Failed / Skipped / Total] 41 / 19 / 16 / 76:  15%|███▍                   | 76/500 [01:58<11:02,  1.56s/it]"
     ]
    },
    {
     "name": "stdout",
     "output_type": "stream",
     "text": [
      "\n",
      "\n",
      "=============================================================================================================================\n",
      "=============================================================================================================================\n",
      "\n"
     ]
    },
    {
     "name": "stderr",
     "output_type": "stream",
     "text": [
      "[Succeeded / Failed / Skipped / Total] 44 / 20 / 16 / 80:  16%|███▋                   | 80/500 [02:07<11:10,  1.60s/it]textattack: Saving checkpoint under \"checkpoints\\1720233729563.ta.chkpt\" at 2024-07-06 10:42:09 after 80 attacks.\n"
     ]
    },
    {
     "name": "stdout",
     "output_type": "stream",
     "text": [
      "\n",
      "\n",
      "=============================================================================================================================\n",
      "=============================================================================================================================\n",
      "\n"
     ]
    },
    {
     "name": "stderr",
     "output_type": "stream",
     "text": [
      "[Succeeded / Failed / Skipped / Total] 47 / 20 / 18 / 85:  17%|███▉                   | 85/500 [02:10<10:39,  1.54s/it]textattack: Saving checkpoint under \"checkpoints\\1720233732766.ta.chkpt\" at 2024-07-06 10:42:12 after 85 attacks.\n"
     ]
    },
    {
     "name": "stdout",
     "output_type": "stream",
     "text": [
      "\n",
      "\n",
      "=============================================================================================================================\n",
      "=============================================================================================================================\n",
      "\n"
     ]
    },
    {
     "name": "stderr",
     "output_type": "stream",
     "text": [
      "[Succeeded / Failed / Skipped / Total] 52 / 20 / 18 / 90:  18%|████▏                  | 90/500 [02:18<10:31,  1.54s/it]textattack: Saving checkpoint under \"checkpoints\\1720233740486.ta.chkpt\" at 2024-07-06 10:42:20 after 90 attacks.\n",
      "[Succeeded / Failed / Skipped / Total] 52 / 20 / 19 / 91:  18%|████▏                  | 91/500 [02:18<10:23,  1.53s/it]"
     ]
    },
    {
     "name": "stdout",
     "output_type": "stream",
     "text": [
      "\n",
      "\n",
      "=============================================================================================================================\n",
      "=============================================================================================================================\n",
      "\n"
     ]
    },
    {
     "name": "stderr",
     "output_type": "stream",
     "text": [
      "[Succeeded / Failed / Skipped / Total] 55 / 20 / 20 / 95:  19%|████▎                  | 95/500 [02:23<10:09,  1.51s/it]textattack: Saving checkpoint under \"checkpoints\\1720233744861.ta.chkpt\" at 2024-07-06 10:42:24 after 95 attacks.\n"
     ]
    },
    {
     "name": "stdout",
     "output_type": "stream",
     "text": [
      "\n",
      "\n",
      "=============================================================================================================================\n",
      "=============================================================================================================================\n",
      "\n"
     ]
    },
    {
     "name": "stderr",
     "output_type": "stream",
     "text": [
      "[Succeeded / Failed / Skipped / Total] 58 / 22 / 20 / 100:  20%|████▏                | 100/500 [02:29<09:59,  1.50s/it]textattack: Saving checkpoint under \"checkpoints\\1720233751674.ta.chkpt\" at 2024-07-06 10:42:31 after 100 attacks.\n"
     ]
    },
    {
     "name": "stdout",
     "output_type": "stream",
     "text": [
      "\n",
      "\n",
      "=============================================================================================================================\n",
      "=============================================================================================================================\n",
      "\n"
     ]
    },
    {
     "name": "stderr",
     "output_type": "stream",
     "text": [
      "[Succeeded / Failed / Skipped / Total] 62 / 23 / 20 / 105:  21%|████▍                | 105/500 [02:38<09:55,  1.51s/it]textattack: Saving checkpoint under \"checkpoints\\1720233760050.ta.chkpt\" at 2024-07-06 10:42:40 after 105 attacks.\n",
      "[Succeeded / Failed / Skipped / Total] 62 / 23 / 21 / 106:  21%|████▍                | 106/500 [02:38<09:48,  1.49s/it]"
     ]
    },
    {
     "name": "stdout",
     "output_type": "stream",
     "text": [
      "\n",
      "\n",
      "=============================================================================================================================\n",
      "=============================================================================================================================\n",
      "\n"
     ]
    },
    {
     "name": "stderr",
     "output_type": "stream",
     "text": [
      "[Succeeded / Failed / Skipped / Total] 65 / 23 / 22 / 110:  22%|████▌                | 110/500 [02:43<09:40,  1.49s/it]textattack: Saving checkpoint under \"checkpoints\\1720233765519.ta.chkpt\" at 2024-07-06 10:42:45 after 110 attacks.\n",
      "[Succeeded / Failed / Skipped / Total] 65 / 23 / 23 / 111:  22%|████▋                | 111/500 [02:43<09:33,  1.48s/it]"
     ]
    },
    {
     "name": "stdout",
     "output_type": "stream",
     "text": [
      "\n",
      "\n",
      "=============================================================================================================================\n",
      "=============================================================================================================================\n",
      "\n"
     ]
    },
    {
     "name": "stderr",
     "output_type": "stream",
     "text": [
      "[Succeeded / Failed / Skipped / Total] 67 / 25 / 23 / 115:  23%|████▊                | 115/500 [02:55<09:45,  1.52s/it]textattack: Saving checkpoint under \"checkpoints\\1720233776865.ta.chkpt\" at 2024-07-06 10:42:56 after 115 attacks.\n"
     ]
    },
    {
     "name": "stdout",
     "output_type": "stream",
     "text": [
      "\n",
      "\n",
      "=============================================================================================================================\n",
      "=============================================================================================================================\n",
      "\n"
     ]
    },
    {
     "name": "stderr",
     "output_type": "stream",
     "text": [
      "[Succeeded / Failed / Skipped / Total] 69 / 26 / 25 / 120:  24%|█████                | 120/500 [02:58<09:25,  1.49s/it]textattack: Saving checkpoint under \"checkpoints\\1720233780381.ta.chkpt\" at 2024-07-06 10:43:00 after 120 attacks.\n"
     ]
    },
    {
     "name": "stdout",
     "output_type": "stream",
     "text": [
      "\n",
      "\n",
      "=============================================================================================================================\n",
      "=============================================================================================================================\n",
      "\n"
     ]
    },
    {
     "name": "stderr",
     "output_type": "stream",
     "text": [
      "[Succeeded / Failed / Skipped / Total] 74 / 26 / 25 / 125:  25%|█████▎               | 125/500 [03:05<09:15,  1.48s/it]textattack: Saving checkpoint under \"checkpoints\\1720233786851.ta.chkpt\" at 2024-07-06 10:43:06 after 125 attacks.\n",
      "[Succeeded / Failed / Skipped / Total] 74 / 26 / 26 / 126:  25%|█████▎               | 126/500 [03:05<09:09,  1.47s/it]"
     ]
    },
    {
     "name": "stdout",
     "output_type": "stream",
     "text": [
      "\n",
      "\n",
      "=============================================================================================================================\n",
      "=============================================================================================================================\n",
      "\n"
     ]
    },
    {
     "name": "stderr",
     "output_type": "stream",
     "text": [
      "[Succeeded / Failed / Skipped / Total] 78 / 26 / 26 / 130:  26%|█████▍               | 130/500 [03:11<09:05,  1.47s/it]textattack: Saving checkpoint under \"checkpoints\\1720233793352.ta.chkpt\" at 2024-07-06 10:43:13 after 130 attacks.\n",
      "[Succeeded / Failed / Skipped / Total] 78 / 26 / 27 / 131:  26%|█████▌               | 131/500 [03:11<08:59,  1.46s/it]"
     ]
    },
    {
     "name": "stdout",
     "output_type": "stream",
     "text": [
      "\n",
      "\n",
      "=============================================================================================================================\n",
      "=============================================================================================================================\n",
      "\n"
     ]
    },
    {
     "name": "stderr",
     "output_type": "stream",
     "text": [
      "[Succeeded / Failed / Skipped / Total] 82 / 26 / 27 / 135:  27%|█████▋               | 135/500 [03:24<09:12,  1.51s/it]textattack: Saving checkpoint under \"checkpoints\\1720233806165.ta.chkpt\" at 2024-07-06 10:43:26 after 135 attacks.\n"
     ]
    },
    {
     "name": "stdout",
     "output_type": "stream",
     "text": [
      "\n",
      "\n",
      "=============================================================================================================================\n",
      "=============================================================================================================================\n",
      "\n"
     ]
    },
    {
     "name": "stderr",
     "output_type": "stream",
     "text": [
      "[Succeeded / Failed / Skipped / Total] 86 / 27 / 27 / 140:  28%|█████▉               | 140/500 [03:34<09:10,  1.53s/it]textattack: Saving checkpoint under \"checkpoints\\1720233815869.ta.chkpt\" at 2024-07-06 10:43:35 after 140 attacks.\n"
     ]
    },
    {
     "name": "stdout",
     "output_type": "stream",
     "text": [
      "\n",
      "\n",
      "=============================================================================================================================\n",
      "=============================================================================================================================\n",
      "\n"
     ]
    },
    {
     "name": "stderr",
     "output_type": "stream",
     "text": [
      "[Succeeded / Failed / Skipped / Total] 90 / 27 / 28 / 145:  29%|██████               | 145/500 [03:38<08:54,  1.51s/it]textattack: Saving checkpoint under \"checkpoints\\1720233820323.ta.chkpt\" at 2024-07-06 10:43:40 after 145 attacks.\n",
      "[Succeeded / Failed / Skipped / Total] 90 / 27 / 30 / 147:  29%|██████▏              | 147/500 [03:38<08:44,  1.49s/it]"
     ]
    },
    {
     "name": "stdout",
     "output_type": "stream",
     "text": [
      "\n",
      "\n",
      "=============================================================================================================================\n",
      "=============================================================================================================================\n",
      "\n"
     ]
    },
    {
     "name": "stderr",
     "output_type": "stream",
     "text": [
      "[Succeeded / Failed / Skipped / Total] 90 / 28 / 32 / 150:  30%|██████▎              | 150/500 [03:40<08:33,  1.47s/it]textattack: Saving checkpoint under \"checkpoints\\1720233822057.ta.chkpt\" at 2024-07-06 10:43:42 after 150 attacks.\n"
     ]
    },
    {
     "name": "stdout",
     "output_type": "stream",
     "text": [
      "\n",
      "\n",
      "=============================================================================================================================\n",
      "=============================================================================================================================\n",
      "\n"
     ]
    },
    {
     "name": "stderr",
     "output_type": "stream",
     "text": [
      "[Succeeded / Failed / Skipped / Total] 92 / 29 / 34 / 155:  31%|██████▌              | 155/500 [03:43<08:18,  1.44s/it]textattack: Saving checkpoint under \"checkpoints\\1720233825604.ta.chkpt\" at 2024-07-06 10:43:45 after 155 attacks.\n"
     ]
    },
    {
     "name": "stdout",
     "output_type": "stream",
     "text": [
      "\n",
      "\n",
      "=============================================================================================================================\n",
      "=============================================================================================================================\n",
      "\n"
     ]
    },
    {
     "name": "stderr",
     "output_type": "stream",
     "text": [
      "[Succeeded / Failed / Skipped / Total] 95 / 30 / 35 / 160:  32%|██████▋              | 160/500 [03:52<08:13,  1.45s/it]textattack: Saving checkpoint under \"checkpoints\\1720233833964.ta.chkpt\" at 2024-07-06 10:43:53 after 160 attacks.\n"
     ]
    },
    {
     "name": "stdout",
     "output_type": "stream",
     "text": [
      "\n",
      "\n",
      "=============================================================================================================================\n",
      "=============================================================================================================================\n",
      "\n"
     ]
    },
    {
     "name": "stderr",
     "output_type": "stream",
     "text": [
      "[Succeeded / Failed / Skipped / Total] 97 / 31 / 37 / 165:  33%|██████▉              | 165/500 [03:58<08:03,  1.44s/it]textattack: Saving checkpoint under \"checkpoints\\1720233839949.ta.chkpt\" at 2024-07-06 10:43:59 after 165 attacks.\n",
      "[Succeeded / Failed / Skipped / Total] 97 / 31 / 38 / 166:  33%|██████▉              | 166/500 [03:58<07:59,  1.44s/it]"
     ]
    },
    {
     "name": "stdout",
     "output_type": "stream",
     "text": [
      "\n",
      "\n",
      "=============================================================================================================================\n",
      "=============================================================================================================================\n",
      "\n"
     ]
    },
    {
     "name": "stderr",
     "output_type": "stream",
     "text": [
      "[Succeeded / Failed / Skipped / Total] 100 / 32 / 38 / 170:  34%|██████▊             | 170/500 [04:07<08:00,  1.46s/it]textattack: Saving checkpoint under \"checkpoints\\1720233849216.ta.chkpt\" at 2024-07-06 10:44:09 after 170 attacks.\n"
     ]
    },
    {
     "name": "stdout",
     "output_type": "stream",
     "text": [
      "\n",
      "\n",
      "=============================================================================================================================\n",
      "=============================================================================================================================\n",
      "\n"
     ]
    },
    {
     "name": "stderr",
     "output_type": "stream",
     "text": [
      "[Succeeded / Failed / Skipped / Total] 104 / 33 / 38 / 175:  35%|███████             | 175/500 [04:18<08:00,  1.48s/it]textattack: Saving checkpoint under \"checkpoints\\1720233860545.ta.chkpt\" at 2024-07-06 10:44:20 after 175 attacks.\n"
     ]
    },
    {
     "name": "stdout",
     "output_type": "stream",
     "text": [
      "\n",
      "\n",
      "=============================================================================================================================\n",
      "=============================================================================================================================\n",
      "\n"
     ]
    },
    {
     "name": "stderr",
     "output_type": "stream",
     "text": [
      "[Succeeded / Failed / Skipped / Total] 105 / 36 / 39 / 180:  36%|███████▏            | 180/500 [04:25<07:52,  1.48s/it]textattack: Saving checkpoint under \"checkpoints\\1720233867358.ta.chkpt\" at 2024-07-06 10:44:27 after 180 attacks.\n"
     ]
    },
    {
     "name": "stdout",
     "output_type": "stream",
     "text": [
      "\n",
      "\n",
      "=============================================================================================================================\n",
      "=============================================================================================================================\n",
      "\n"
     ]
    },
    {
     "name": "stderr",
     "output_type": "stream",
     "text": [
      "[Succeeded / Failed / Skipped / Total] 109 / 36 / 40 / 185:  37%|███████▍            | 185/500 [04:29<07:38,  1.46s/it]textattack: Saving checkpoint under \"checkpoints\\1720233871139.ta.chkpt\" at 2024-07-06 10:44:31 after 185 attacks.\n"
     ]
    },
    {
     "name": "stdout",
     "output_type": "stream",
     "text": [
      "\n",
      "\n",
      "=============================================================================================================================\n",
      "=============================================================================================================================\n",
      "\n"
     ]
    },
    {
     "name": "stderr",
     "output_type": "stream",
     "text": [
      "[Succeeded / Failed / Skipped / Total] 113 / 37 / 40 / 190:  38%|███████▌            | 190/500 [04:40<07:38,  1.48s/it]textattack: Saving checkpoint under \"checkpoints\\1720233882709.ta.chkpt\" at 2024-07-06 10:44:42 after 190 attacks.\n"
     ]
    },
    {
     "name": "stdout",
     "output_type": "stream",
     "text": [
      "\n",
      "\n",
      "=============================================================================================================================\n",
      "=============================================================================================================================\n",
      "\n"
     ]
    },
    {
     "name": "stderr",
     "output_type": "stream",
     "text": [
      "[Succeeded / Failed / Skipped / Total] 115 / 39 / 41 / 195:  39%|███████▊            | 195/500 [04:51<07:36,  1.50s/it]textattack: Saving checkpoint under \"checkpoints\\1720233893508.ta.chkpt\" at 2024-07-06 10:44:53 after 195 attacks.\n"
     ]
    },
    {
     "name": "stdout",
     "output_type": "stream",
     "text": [
      "\n",
      "\n",
      "=============================================================================================================================\n",
      "=============================================================================================================================\n",
      "\n"
     ]
    },
    {
     "name": "stderr",
     "output_type": "stream",
     "text": [
      "[Succeeded / Failed / Skipped / Total] 118 / 40 / 42 / 200:  40%|████████            | 200/500 [05:04<07:36,  1.52s/it]textattack: Saving checkpoint under \"checkpoints\\1720233905947.ta.chkpt\" at 2024-07-06 10:45:05 after 200 attacks.\n",
      "[Succeeded / Failed / Skipped / Total] 118 / 40 / 43 / 201:  40%|████████            | 201/500 [05:04<07:32,  1.51s/it]"
     ]
    },
    {
     "name": "stdout",
     "output_type": "stream",
     "text": [
      "\n",
      "\n",
      "=============================================================================================================================\n",
      "=============================================================================================================================\n",
      "\n"
     ]
    },
    {
     "name": "stderr",
     "output_type": "stream",
     "text": [
      "[Succeeded / Failed / Skipped / Total] 120 / 41 / 44 / 205:  41%|████████▏           | 205/500 [05:07<07:22,  1.50s/it]textattack: Saving checkpoint under \"checkpoints\\1720233909619.ta.chkpt\" at 2024-07-06 10:45:09 after 205 attacks.\n",
      "[Succeeded / Failed / Skipped / Total] 120 / 41 / 45 / 206:  41%|████████▏           | 206/500 [05:07<07:19,  1.49s/it]"
     ]
    },
    {
     "name": "stdout",
     "output_type": "stream",
     "text": [
      "\n",
      "\n",
      "=============================================================================================================================\n",
      "=============================================================================================================================\n",
      "\n"
     ]
    },
    {
     "name": "stderr",
     "output_type": "stream",
     "text": [
      "[Succeeded / Failed / Skipped / Total] 124 / 41 / 45 / 210:  42%|████████▍           | 210/500 [05:13<07:13,  1.49s/it]textattack: Saving checkpoint under \"checkpoints\\1720233915447.ta.chkpt\" at 2024-07-06 10:45:15 after 210 attacks.\n"
     ]
    },
    {
     "name": "stdout",
     "output_type": "stream",
     "text": [
      "\n",
      "\n",
      "=============================================================================================================================\n",
      "=============================================================================================================================\n",
      "\n"
     ]
    },
    {
     "name": "stderr",
     "output_type": "stream",
     "text": [
      "[Succeeded / Failed / Skipped / Total] 125 / 44 / 46 / 215:  43%|████████▌           | 215/500 [05:20<07:05,  1.49s/it]textattack: Saving checkpoint under \"checkpoints\\1720233922635.ta.chkpt\" at 2024-07-06 10:45:22 after 215 attacks.\n"
     ]
    },
    {
     "name": "stdout",
     "output_type": "stream",
     "text": [
      "\n",
      "\n",
      "=============================================================================================================================\n",
      "=============================================================================================================================\n",
      "\n"
     ]
    },
    {
     "name": "stderr",
     "output_type": "stream",
     "text": [
      "[Succeeded / Failed / Skipped / Total] 129 / 45 / 46 / 220:  44%|████████▊           | 220/500 [05:26<06:56,  1.49s/it]textattack: Saving checkpoint under \"checkpoints\\1720233928761.ta.chkpt\" at 2024-07-06 10:45:28 after 220 attacks.\n"
     ]
    },
    {
     "name": "stdout",
     "output_type": "stream",
     "text": [
      "\n",
      "\n",
      "=============================================================================================================================\n",
      "=============================================================================================================================\n",
      "\n"
     ]
    },
    {
     "name": "stderr",
     "output_type": "stream",
     "text": [
      "[Succeeded / Failed / Skipped / Total] 132 / 45 / 48 / 225:  45%|█████████           | 225/500 [05:34<06:48,  1.48s/it]textattack: Saving checkpoint under \"checkpoints\\1720233935965.ta.chkpt\" at 2024-07-06 10:45:35 after 225 attacks.\n"
     ]
    },
    {
     "name": "stdout",
     "output_type": "stream",
     "text": [
      "\n",
      "\n",
      "=============================================================================================================================\n",
      "=============================================================================================================================\n",
      "\n"
     ]
    },
    {
     "name": "stderr",
     "output_type": "stream",
     "text": [
      "[Succeeded / Failed / Skipped / Total] 137 / 45 / 48 / 230:  46%|█████████▏          | 230/500 [05:42<06:42,  1.49s/it]textattack: Saving checkpoint under \"checkpoints\\1720233944466.ta.chkpt\" at 2024-07-06 10:45:44 after 230 attacks.\n"
     ]
    },
    {
     "name": "stdout",
     "output_type": "stream",
     "text": [
      "\n",
      "\n",
      "=============================================================================================================================\n",
      "=============================================================================================================================\n",
      "\n"
     ]
    },
    {
     "name": "stderr",
     "output_type": "stream",
     "text": [
      "[Succeeded / Failed / Skipped / Total] 139 / 47 / 49 / 235:  47%|█████████▍          | 235/500 [05:50<06:34,  1.49s/it]textattack: Saving checkpoint under \"checkpoints\\1720233951857.ta.chkpt\" at 2024-07-06 10:45:51 after 235 attacks.\n",
      "[Succeeded / Failed / Skipped / Total] 139 / 47 / 50 / 236:  47%|█████████▍          | 236/500 [05:50<06:31,  1.48s/it]"
     ]
    },
    {
     "name": "stdout",
     "output_type": "stream",
     "text": [
      "\n",
      "\n",
      "=============================================================================================================================\n",
      "=============================================================================================================================\n",
      "\n"
     ]
    },
    {
     "name": "stderr",
     "output_type": "stream",
     "text": [
      "[Succeeded / Failed / Skipped / Total] 140 / 50 / 50 / 240:  48%|█████████▌          | 240/500 [05:55<06:25,  1.48s/it]textattack: Saving checkpoint under \"checkpoints\\1720233957404.ta.chkpt\" at 2024-07-06 10:45:57 after 240 attacks.\n"
     ]
    },
    {
     "name": "stdout",
     "output_type": "stream",
     "text": [
      "\n",
      "\n",
      "=============================================================================================================================\n",
      "=============================================================================================================================\n",
      "\n"
     ]
    },
    {
     "name": "stderr",
     "output_type": "stream",
     "text": [
      "[Succeeded / Failed / Skipped / Total] 144 / 51 / 50 / 245:  49%|█████████▊          | 245/500 [06:04<06:18,  1.49s/it]textattack: Saving checkpoint under \"checkpoints\\1720233965983.ta.chkpt\" at 2024-07-06 10:46:05 after 245 attacks.\n"
     ]
    },
    {
     "name": "stdout",
     "output_type": "stream",
     "text": [
      "\n",
      "\n",
      "=============================================================================================================================\n",
      "=============================================================================================================================\n",
      "\n"
     ]
    },
    {
     "name": "stderr",
     "output_type": "stream",
     "text": [
      "[Succeeded / Failed / Skipped / Total] 147 / 52 / 51 / 250:  50%|██████████          | 250/500 [06:08<06:08,  1.47s/it]textattack: Saving checkpoint under \"checkpoints\\1720233970015.ta.chkpt\" at 2024-07-06 10:46:10 after 250 attacks.\n",
      "[Succeeded / Failed / Skipped / Total] 147 / 52 / 52 / 251:  50%|██████████          | 251/500 [06:08<06:05,  1.47s/it]"
     ]
    },
    {
     "name": "stdout",
     "output_type": "stream",
     "text": [
      "\n",
      "\n",
      "=============================================================================================================================\n",
      "=============================================================================================================================\n",
      "\n"
     ]
    },
    {
     "name": "stderr",
     "output_type": "stream",
     "text": [
      "[Succeeded / Failed / Skipped / Total] 149 / 52 / 54 / 255:  51%|██████████▏         | 255/500 [06:13<05:58,  1.46s/it]textattack: Saving checkpoint under \"checkpoints\\1720233975140.ta.chkpt\" at 2024-07-06 10:46:15 after 255 attacks.\n"
     ]
    },
    {
     "name": "stdout",
     "output_type": "stream",
     "text": [
      "\n",
      "\n",
      "=============================================================================================================================\n",
      "=============================================================================================================================\n",
      "\n"
     ]
    },
    {
     "name": "stderr",
     "output_type": "stream",
     "text": [
      "[Succeeded / Failed / Skipped / Total] 153 / 52 / 55 / 260:  52%|██████████▍         | 260/500 [06:18<05:49,  1.46s/it]textattack: Saving checkpoint under \"checkpoints\\1720233980469.ta.chkpt\" at 2024-07-06 10:46:20 after 260 attacks.\n"
     ]
    },
    {
     "name": "stdout",
     "output_type": "stream",
     "text": [
      "\n",
      "\n",
      "=============================================================================================================================\n",
      "=============================================================================================================================\n",
      "\n"
     ]
    },
    {
     "name": "stderr",
     "output_type": "stream",
     "text": [
      "[Succeeded / Failed / Skipped / Total] 155 / 54 / 56 / 265:  53%|██████████▌         | 265/500 [06:23<05:40,  1.45s/it]textattack: Saving checkpoint under \"checkpoints\\1720233985360.ta.chkpt\" at 2024-07-06 10:46:25 after 265 attacks.\n"
     ]
    },
    {
     "name": "stdout",
     "output_type": "stream",
     "text": [
      "\n",
      "\n",
      "=============================================================================================================================\n",
      "=============================================================================================================================\n",
      "\n"
     ]
    },
    {
     "name": "stderr",
     "output_type": "stream",
     "text": [
      "[Succeeded / Failed / Skipped / Total] 156 / 56 / 58 / 270:  54%|██████████▊         | 270/500 [06:34<05:35,  1.46s/it]textattack: Saving checkpoint under \"checkpoints\\1720233995860.ta.chkpt\" at 2024-07-06 10:46:35 after 270 attacks.\n",
      "[Succeeded / Failed / Skipped / Total] 156 / 56 / 60 / 272:  54%|██████████▉         | 272/500 [06:34<05:30,  1.45s/it]"
     ]
    },
    {
     "name": "stdout",
     "output_type": "stream",
     "text": [
      "\n",
      "\n",
      "=============================================================================================================================\n",
      "=============================================================================================================================\n",
      "\n"
     ]
    },
    {
     "name": "stderr",
     "output_type": "stream",
     "text": [
      "[Succeeded / Failed / Skipped / Total] 157 / 57 / 61 / 275:  55%|███████████         | 275/500 [06:36<05:24,  1.44s/it]textattack: Saving checkpoint under \"checkpoints\\1720233998736.ta.chkpt\" at 2024-07-06 10:46:38 after 275 attacks.\n"
     ]
    },
    {
     "name": "stdout",
     "output_type": "stream",
     "text": [
      "\n",
      "\n",
      "=============================================================================================================================\n",
      "=============================================================================================================================\n",
      "\n"
     ]
    },
    {
     "name": "stderr",
     "output_type": "stream",
     "text": [
      "[Succeeded / Failed / Skipped / Total] 159 / 58 / 63 / 280:  56%|███████████▏        | 280/500 [06:41<05:15,  1.43s/it]textattack: Saving checkpoint under \"checkpoints\\1720234002939.ta.chkpt\" at 2024-07-06 10:46:42 after 280 attacks.\n"
     ]
    },
    {
     "name": "stdout",
     "output_type": "stream",
     "text": [
      "\n",
      "\n",
      "=============================================================================================================================\n",
      "=============================================================================================================================\n",
      "\n"
     ]
    },
    {
     "name": "stderr",
     "output_type": "stream",
     "text": [
      "[Succeeded / Failed / Skipped / Total] 160 / 60 / 65 / 285:  57%|███████████▍        | 285/500 [06:44<05:05,  1.42s/it]textattack: Saving checkpoint under \"checkpoints\\1720234006658.ta.chkpt\" at 2024-07-06 10:46:46 after 285 attacks.\n",
      "[Succeeded / Failed / Skipped / Total] 160 / 60 / 67 / 287:  57%|███████████▍        | 287/500 [06:44<05:00,  1.41s/it]"
     ]
    },
    {
     "name": "stdout",
     "output_type": "stream",
     "text": [
      "\n",
      "\n",
      "=============================================================================================================================\n",
      "=============================================================================================================================\n",
      "\n"
     ]
    },
    {
     "name": "stderr",
     "output_type": "stream",
     "text": [
      "[Succeeded / Failed / Skipped / Total] 161 / 61 / 68 / 290:  58%|███████████▌        | 290/500 [06:50<04:57,  1.42s/it]textattack: Saving checkpoint under \"checkpoints\\1720234012346.ta.chkpt\" at 2024-07-06 10:46:52 after 290 attacks.\n",
      "[Succeeded / Failed / Skipped / Total] 161 / 61 / 69 / 291:  58%|███████████▋        | 291/500 [06:50<04:54,  1.41s/it]"
     ]
    },
    {
     "name": "stdout",
     "output_type": "stream",
     "text": [
      "\n",
      "\n",
      "=============================================================================================================================\n",
      "=============================================================================================================================\n",
      "\n"
     ]
    },
    {
     "name": "stderr",
     "output_type": "stream",
     "text": [
      "[Succeeded / Failed / Skipped / Total] 162 / 62 / 71 / 295:  59%|███████████▊        | 295/500 [06:54<04:48,  1.41s/it]textattack: Saving checkpoint under \"checkpoints\\1720234016550.ta.chkpt\" at 2024-07-06 10:46:56 after 295 attacks.\n"
     ]
    },
    {
     "name": "stdout",
     "output_type": "stream",
     "text": [
      "\n",
      "\n",
      "=============================================================================================================================\n",
      "=============================================================================================================================\n",
      "\n"
     ]
    },
    {
     "name": "stderr",
     "output_type": "stream",
     "text": [
      "[Succeeded / Failed / Skipped / Total] 165 / 63 / 72 / 300:  60%|████████████        | 300/500 [06:59<04:39,  1.40s/it]textattack: Saving checkpoint under \"checkpoints\\1720234021816.ta.chkpt\" at 2024-07-06 10:47:01 after 300 attacks.\n"
     ]
    },
    {
     "name": "stdout",
     "output_type": "stream",
     "text": [
      "\n",
      "\n",
      "=============================================================================================================================\n",
      "=============================================================================================================================\n",
      "\n"
     ]
    },
    {
     "name": "stderr",
     "output_type": "stream",
     "text": [
      "[Succeeded / Failed / Skipped / Total] 169 / 63 / 73 / 305:  61%|████████████▏       | 305/500 [07:08<04:34,  1.41s/it]textattack: Saving checkpoint under \"checkpoints\\1720234030535.ta.chkpt\" at 2024-07-06 10:47:10 after 305 attacks.\n"
     ]
    },
    {
     "name": "stdout",
     "output_type": "stream",
     "text": [
      "\n",
      "\n",
      "=============================================================================================================================\n",
      "=============================================================================================================================\n",
      "\n"
     ]
    },
    {
     "name": "stderr",
     "output_type": "stream",
     "text": [
      "[Succeeded / Failed / Skipped / Total] 170 / 65 / 75 / 310:  62%|████████████▍       | 310/500 [07:13<04:25,  1.40s/it]textattack: Saving checkpoint under \"checkpoints\\1720234035676.ta.chkpt\" at 2024-07-06 10:47:15 after 310 attacks.\n"
     ]
    },
    {
     "name": "stdout",
     "output_type": "stream",
     "text": [
      "\n",
      "\n",
      "=============================================================================================================================\n",
      "=============================================================================================================================\n",
      "\n"
     ]
    },
    {
     "name": "stderr",
     "output_type": "stream",
     "text": [
      "[Succeeded / Failed / Skipped / Total] 172 / 66 / 77 / 315:  63%|████████████▌       | 315/500 [07:16<04:16,  1.39s/it]textattack: Saving checkpoint under \"checkpoints\\1720234038817.ta.chkpt\" at 2024-07-06 10:47:18 after 315 attacks.\n"
     ]
    },
    {
     "name": "stdout",
     "output_type": "stream",
     "text": [
      "\n",
      "\n",
      "=============================================================================================================================\n",
      "=============================================================================================================================\n",
      "\n"
     ]
    },
    {
     "name": "stderr",
     "output_type": "stream",
     "text": [
      "[Succeeded / Failed / Skipped / Total] 175 / 67 / 78 / 320:  64%|████████████▊       | 320/500 [07:31<04:13,  1.41s/it]textattack: Saving checkpoint under \"checkpoints\\1720234053178.ta.chkpt\" at 2024-07-06 10:47:33 after 320 attacks.\n"
     ]
    },
    {
     "name": "stdout",
     "output_type": "stream",
     "text": [
      "\n",
      "\n",
      "=============================================================================================================================\n",
      "=============================================================================================================================\n",
      "\n"
     ]
    },
    {
     "name": "stderr",
     "output_type": "stream",
     "text": [
      "[Succeeded / Failed / Skipped / Total] 178 / 69 / 78 / 325:  65%|█████████████       | 325/500 [07:45<04:10,  1.43s/it]textattack: Saving checkpoint under \"checkpoints\\1720234067742.ta.chkpt\" at 2024-07-06 10:47:47 after 325 attacks.\n"
     ]
    },
    {
     "name": "stdout",
     "output_type": "stream",
     "text": [
      "\n",
      "\n",
      "=============================================================================================================================\n",
      "=============================================================================================================================\n",
      "\n"
     ]
    },
    {
     "name": "stderr",
     "output_type": "stream",
     "text": [
      "[Succeeded / Failed / Skipped / Total] 182 / 70 / 78 / 330:  66%|█████████████▏      | 330/500 [07:50<04:02,  1.43s/it]textattack: Saving checkpoint under \"checkpoints\\1720234072102.ta.chkpt\" at 2024-07-06 10:47:52 after 330 attacks.\n"
     ]
    },
    {
     "name": "stdout",
     "output_type": "stream",
     "text": [
      "\n",
      "\n",
      "=============================================================================================================================\n",
      "=============================================================================================================================\n",
      "\n"
     ]
    },
    {
     "name": "stderr",
     "output_type": "stream",
     "text": [
      "[Succeeded / Failed / Skipped / Total] 183 / 74 / 78 / 335:  67%|█████████████▍      | 335/500 [08:06<03:59,  1.45s/it]textattack: Saving checkpoint under \"checkpoints\\1720234088103.ta.chkpt\" at 2024-07-06 10:48:08 after 335 attacks.\n",
      "[Succeeded / Failed / Skipped / Total] 183 / 74 / 79 / 336:  67%|█████████████▍      | 336/500 [08:06<03:57,  1.45s/it]"
     ]
    },
    {
     "name": "stdout",
     "output_type": "stream",
     "text": [
      "\n",
      "\n",
      "=============================================================================================================================\n",
      "=============================================================================================================================\n",
      "\n"
     ]
    },
    {
     "name": "stderr",
     "output_type": "stream",
     "text": [
      "[Succeeded / Failed / Skipped / Total] 186 / 74 / 80 / 340:  68%|█████████████▌      | 340/500 [08:08<03:50,  1.44s/it]textattack: Saving checkpoint under \"checkpoints\\1720234090822.ta.chkpt\" at 2024-07-06 10:48:10 after 340 attacks.\n"
     ]
    },
    {
     "name": "stdout",
     "output_type": "stream",
     "text": [
      "\n",
      "\n",
      "=============================================================================================================================\n",
      "=============================================================================================================================\n",
      "\n"
     ]
    },
    {
     "name": "stderr",
     "output_type": "stream",
     "text": [
      "[Succeeded / Failed / Skipped / Total] 191 / 74 / 80 / 345:  69%|█████████████▊      | 345/500 [08:15<03:42,  1.44s/it]textattack: Saving checkpoint under \"checkpoints\\1720234097822.ta.chkpt\" at 2024-07-06 10:48:17 after 345 attacks.\n"
     ]
    },
    {
     "name": "stdout",
     "output_type": "stream",
     "text": [
      "\n",
      "\n",
      "=============================================================================================================================\n",
      "=============================================================================================================================\n",
      "\n"
     ]
    },
    {
     "name": "stderr",
     "output_type": "stream",
     "text": [
      "[Succeeded / Failed / Skipped / Total] 192 / 77 / 81 / 350:  70%|██████████████      | 350/500 [08:25<03:36,  1.44s/it]textattack: Saving checkpoint under \"checkpoints\\1720234107417.ta.chkpt\" at 2024-07-06 10:48:27 after 350 attacks.\n"
     ]
    },
    {
     "name": "stdout",
     "output_type": "stream",
     "text": [
      "\n",
      "\n",
      "=============================================================================================================================\n",
      "=============================================================================================================================\n",
      "\n"
     ]
    },
    {
     "name": "stderr",
     "output_type": "stream",
     "text": [
      "[Succeeded / Failed / Skipped / Total] 195 / 79 / 81 / 355:  71%|██████████████▏     | 355/500 [08:37<03:31,  1.46s/it]textattack: Saving checkpoint under \"checkpoints\\1720234119356.ta.chkpt\" at 2024-07-06 10:48:39 after 355 attacks.\n"
     ]
    },
    {
     "name": "stdout",
     "output_type": "stream",
     "text": [
      "\n",
      "\n",
      "=============================================================================================================================\n",
      "=============================================================================================================================\n",
      "\n"
     ]
    },
    {
     "name": "stderr",
     "output_type": "stream",
     "text": [
      "[Succeeded / Failed / Skipped / Total] 197 / 81 / 82 / 360:  72%|██████████████▍     | 360/500 [08:46<03:24,  1.46s/it]textattack: Saving checkpoint under \"checkpoints\\1720234127997.ta.chkpt\" at 2024-07-06 10:48:47 after 360 attacks.\n"
     ]
    },
    {
     "name": "stdout",
     "output_type": "stream",
     "text": [
      "\n",
      "\n",
      "=============================================================================================================================\n",
      "=============================================================================================================================\n",
      "\n"
     ]
    },
    {
     "name": "stderr",
     "output_type": "stream",
     "text": [
      "[Succeeded / Failed / Skipped / Total] 201 / 82 / 82 / 365:  73%|██████████████▌     | 365/500 [08:54<03:17,  1.46s/it]textattack: Saving checkpoint under \"checkpoints\\1720234136107.ta.chkpt\" at 2024-07-06 10:48:56 after 365 attacks.\n",
      "[Succeeded / Failed / Skipped / Total] 201 / 82 / 83 / 366:  73%|██████████████▋     | 366/500 [08:54<03:15,  1.46s/it]"
     ]
    },
    {
     "name": "stdout",
     "output_type": "stream",
     "text": [
      "\n",
      "\n",
      "=============================================================================================================================\n",
      "=============================================================================================================================\n",
      "\n"
     ]
    },
    {
     "name": "stderr",
     "output_type": "stream",
     "text": [
      "[Succeeded / Failed / Skipped / Total] 205 / 82 / 83 / 370:  74%|██████████████▊     | 370/500 [08:59<03:09,  1.46s/it]textattack: Saving checkpoint under \"checkpoints\\1720234141342.ta.chkpt\" at 2024-07-06 10:49:01 after 370 attacks.\n"
     ]
    },
    {
     "name": "stdout",
     "output_type": "stream",
     "text": [
      "\n",
      "\n",
      "=============================================================================================================================\n",
      "=============================================================================================================================\n",
      "\n"
     ]
    },
    {
     "name": "stderr",
     "output_type": "stream",
     "text": [
      "[Succeeded / Failed / Skipped / Total] 209 / 83 / 83 / 375:  75%|███████████████     | 375/500 [09:12<03:04,  1.47s/it]textattack: Saving checkpoint under \"checkpoints\\1720234154218.ta.chkpt\" at 2024-07-06 10:49:14 after 375 attacks.\n"
     ]
    },
    {
     "name": "stdout",
     "output_type": "stream",
     "text": [
      "\n",
      "\n",
      "=============================================================================================================================\n",
      "=============================================================================================================================\n",
      "\n"
     ]
    },
    {
     "name": "stderr",
     "output_type": "stream",
     "text": [
      "[Succeeded / Failed / Skipped / Total] 213 / 83 / 84 / 380:  76%|███████████████▏    | 380/500 [09:16<02:55,  1.46s/it]textattack: Saving checkpoint under \"checkpoints\\1720234158437.ta.chkpt\" at 2024-07-06 10:49:18 after 380 attacks.\n"
     ]
    },
    {
     "name": "stdout",
     "output_type": "stream",
     "text": [
      "\n",
      "\n",
      "=============================================================================================================================\n",
      "=============================================================================================================================\n",
      "\n"
     ]
    },
    {
     "name": "stderr",
     "output_type": "stream",
     "text": [
      "[Succeeded / Failed / Skipped / Total] 215 / 86 / 84 / 385:  77%|███████████████▍    | 385/500 [09:22<02:48,  1.46s/it]textattack: Saving checkpoint under \"checkpoints\\1720234164515.ta.chkpt\" at 2024-07-06 10:49:24 after 385 attacks.\n"
     ]
    },
    {
     "name": "stdout",
     "output_type": "stream",
     "text": [
      "\n",
      "\n",
      "=============================================================================================================================\n",
      "=============================================================================================================================\n",
      "\n"
     ]
    },
    {
     "name": "stderr",
     "output_type": "stream",
     "text": [
      "[Succeeded / Failed / Skipped / Total] 217 / 88 / 85 / 390:  78%|███████████████▌    | 390/500 [09:28<02:40,  1.46s/it]textattack: Saving checkpoint under \"checkpoints\\1720234169984.ta.chkpt\" at 2024-07-06 10:49:29 after 390 attacks.\n"
     ]
    },
    {
     "name": "stdout",
     "output_type": "stream",
     "text": [
      "\n",
      "\n",
      "=============================================================================================================================\n",
      "=============================================================================================================================\n",
      "\n"
     ]
    },
    {
     "name": "stderr",
     "output_type": "stream",
     "text": [
      "[Succeeded / Failed / Skipped / Total] 221 / 89 / 85 / 395:  79%|███████████████▊    | 395/500 [09:40<02:34,  1.47s/it]textattack: Saving checkpoint under \"checkpoints\\1720234182548.ta.chkpt\" at 2024-07-06 10:49:42 after 395 attacks.\n"
     ]
    },
    {
     "name": "stdout",
     "output_type": "stream",
     "text": [
      "\n",
      "\n",
      "=============================================================================================================================\n",
      "=============================================================================================================================\n",
      "\n"
     ]
    },
    {
     "name": "stderr",
     "output_type": "stream",
     "text": [
      "[Succeeded / Failed / Skipped / Total] 225 / 90 / 85 / 400:  80%|████████████████    | 400/500 [09:52<02:28,  1.48s/it]textattack: Saving checkpoint under \"checkpoints\\1720234194189.ta.chkpt\" at 2024-07-06 10:49:54 after 400 attacks.\n"
     ]
    },
    {
     "name": "stdout",
     "output_type": "stream",
     "text": [
      "\n",
      "\n",
      "=============================================================================================================================\n",
      "=============================================================================================================================\n",
      "\n"
     ]
    },
    {
     "name": "stderr",
     "output_type": "stream",
     "text": [
      "[Succeeded / Failed / Skipped / Total] 227 / 92 / 86 / 405:  81%|████████████████▏   | 405/500 [10:01<02:21,  1.48s/it]textattack: Saving checkpoint under \"checkpoints\\1720234203049.ta.chkpt\" at 2024-07-06 10:50:03 after 405 attacks.\n"
     ]
    },
    {
     "name": "stdout",
     "output_type": "stream",
     "text": [
      "\n",
      "\n",
      "=============================================================================================================================\n",
      "=============================================================================================================================\n",
      "\n"
     ]
    },
    {
     "name": "stderr",
     "output_type": "stream",
     "text": [
      "[Succeeded / Failed / Skipped / Total] 231 / 93 / 86 / 410:  82%|████████████████▍   | 410/500 [10:08<02:13,  1.48s/it]textattack: Saving checkpoint under \"checkpoints\\1720234210675.ta.chkpt\" at 2024-07-06 10:50:10 after 410 attacks.\n"
     ]
    },
    {
     "name": "stdout",
     "output_type": "stream",
     "text": [
      "\n",
      "\n",
      "=============================================================================================================================\n",
      "=============================================================================================================================\n",
      "\n"
     ]
    },
    {
     "name": "stderr",
     "output_type": "stream",
     "text": [
      "[Succeeded / Failed / Skipped / Total] 233 / 93 / 89 / 415:  83%|████████████████▌   | 415/500 [10:10<02:04,  1.47s/it]textattack: Saving checkpoint under \"checkpoints\\1720234211972.ta.chkpt\" at 2024-07-06 10:50:11 after 415 attacks.\n"
     ]
    },
    {
     "name": "stdout",
     "output_type": "stream",
     "text": [
      "\n",
      "\n",
      "=============================================================================================================================\n",
      "=============================================================================================================================\n",
      "\n"
     ]
    },
    {
     "name": "stderr",
     "output_type": "stream",
     "text": [
      "[Succeeded / Failed / Skipped / Total] 237 / 94 / 89 / 420:  84%|████████████████▊   | 420/500 [10:20<01:58,  1.48s/it]textattack: Saving checkpoint under \"checkpoints\\1720234222363.ta.chkpt\" at 2024-07-06 10:50:22 after 420 attacks.\n"
     ]
    },
    {
     "name": "stdout",
     "output_type": "stream",
     "text": [
      "\n",
      "\n",
      "=============================================================================================================================\n",
      "=============================================================================================================================\n",
      "\n"
     ]
    },
    {
     "name": "stderr",
     "output_type": "stream",
     "text": [
      "[Succeeded / Failed / Skipped / Total] 241 / 95 / 89 / 425:  85%|█████████████████   | 425/500 [10:26<01:50,  1.47s/it]textattack: Saving checkpoint under \"checkpoints\\1720234228379.ta.chkpt\" at 2024-07-06 10:50:28 after 425 attacks.\n"
     ]
    },
    {
     "name": "stdout",
     "output_type": "stream",
     "text": [
      "\n",
      "\n",
      "=============================================================================================================================\n",
      "=============================================================================================================================\n",
      "\n"
     ]
    },
    {
     "name": "stderr",
     "output_type": "stream",
     "text": [
      "[Succeeded / Failed / Skipped / Total] 245 / 96 / 89 / 430:  86%|█████████████████▏  | 430/500 [10:34<01:43,  1.48s/it]textattack: Saving checkpoint under \"checkpoints\\1720234236208.ta.chkpt\" at 2024-07-06 10:50:36 after 430 attacks.\n",
      "[Succeeded / Failed / Skipped / Total] 245 / 96 / 90 / 431:  86%|█████████████████▏  | 431/500 [10:34<01:41,  1.47s/it]"
     ]
    },
    {
     "name": "stdout",
     "output_type": "stream",
     "text": [
      "\n",
      "\n",
      "=============================================================================================================================\n",
      "=============================================================================================================================\n",
      "\n"
     ]
    },
    {
     "name": "stderr",
     "output_type": "stream",
     "text": [
      "[Succeeded / Failed / Skipped / Total] 247 / 97 / 91 / 435:  87%|█████████████████▍  | 435/500 [10:42<01:35,  1.48s/it]textattack: Saving checkpoint under \"checkpoints\\1720234244052.ta.chkpt\" at 2024-07-06 10:50:44 after 435 attacks.\n"
     ]
    },
    {
     "name": "stdout",
     "output_type": "stream",
     "text": [
      "\n",
      "\n",
      "=============================================================================================================================\n",
      "=============================================================================================================================\n",
      "\n"
     ]
    },
    {
     "name": "stderr",
     "output_type": "stream",
     "text": [
      "[Succeeded / Failed / Skipped / Total] 251 / 98 / 91 / 440:  88%|█████████████████▌  | 440/500 [10:53<01:29,  1.48s/it]textattack: Saving checkpoint under \"checkpoints\\1720234255132.ta.chkpt\" at 2024-07-06 10:50:55 after 440 attacks.\n"
     ]
    },
    {
     "name": "stdout",
     "output_type": "stream",
     "text": [
      "\n",
      "\n",
      "=============================================================================================================================\n",
      "=============================================================================================================================\n",
      "\n"
     ]
    },
    {
     "name": "stderr",
     "output_type": "stream",
     "text": [
      "[Succeeded / Failed / Skipped / Total] 255 / 99 / 91 / 445:  89%|█████████████████▊  | 445/500 [10:59<01:21,  1.48s/it]textattack: Saving checkpoint under \"checkpoints\\1720234261664.ta.chkpt\" at 2024-07-06 10:51:01 after 445 attacks.\n"
     ]
    },
    {
     "name": "stdout",
     "output_type": "stream",
     "text": [
      "\n",
      "\n",
      "=============================================================================================================================\n",
      "=============================================================================================================================\n",
      "\n"
     ]
    },
    {
     "name": "stderr",
     "output_type": "stream",
     "text": [
      "[Succeeded / Failed / Skipped / Total] 255 / 102 / 93 / 450:  90%|█████████████████  | 450/500 [11:05<01:13,  1.48s/it]textattack: Saving checkpoint under \"checkpoints\\1720234267133.ta.chkpt\" at 2024-07-06 10:51:07 after 450 attacks.\n"
     ]
    },
    {
     "name": "stdout",
     "output_type": "stream",
     "text": [
      "\n",
      "\n",
      "=============================================================================================================================\n",
      "=============================================================================================================================\n",
      "\n"
     ]
    },
    {
     "name": "stderr",
     "output_type": "stream",
     "text": [
      "[Succeeded / Failed / Skipped / Total] 257 / 104 / 94 / 455:  91%|█████████████████▎ | 455/500 [11:13<01:06,  1.48s/it]textattack: Saving checkpoint under \"checkpoints\\1720234274853.ta.chkpt\" at 2024-07-06 10:51:14 after 455 attacks.\n"
     ]
    },
    {
     "name": "stdout",
     "output_type": "stream",
     "text": [
      "\n",
      "\n",
      "=============================================================================================================================\n",
      "=============================================================================================================================\n",
      "\n"
     ]
    },
    {
     "name": "stderr",
     "output_type": "stream",
     "text": [
      "[Succeeded / Failed / Skipped / Total] 260 / 106 / 94 / 460:  92%|█████████████████▍ | 460/500 [11:23<00:59,  1.49s/it]textattack: Saving checkpoint under \"checkpoints\\1720234285511.ta.chkpt\" at 2024-07-06 10:51:25 after 460 attacks.\n"
     ]
    },
    {
     "name": "stdout",
     "output_type": "stream",
     "text": [
      "\n",
      "\n",
      "=============================================================================================================================\n",
      "=============================================================================================================================\n",
      "\n"
     ]
    },
    {
     "name": "stderr",
     "output_type": "stream",
     "text": [
      "[Succeeded / Failed / Skipped / Total] 264 / 107 / 94 / 465:  93%|█████████████████▋ | 465/500 [11:36<00:52,  1.50s/it]textattack: Saving checkpoint under \"checkpoints\\1720234298184.ta.chkpt\" at 2024-07-06 10:51:38 after 465 attacks.\n"
     ]
    },
    {
     "name": "stdout",
     "output_type": "stream",
     "text": [
      "\n",
      "\n",
      "=============================================================================================================================\n",
      "=============================================================================================================================\n",
      "\n"
     ]
    },
    {
     "name": "stderr",
     "output_type": "stream",
     "text": [
      "[Succeeded / Failed / Skipped / Total] 267 / 108 / 95 / 470:  94%|█████████████████▊ | 470/500 [11:40<00:44,  1.49s/it]textattack: Saving checkpoint under \"checkpoints\\1720234302356.ta.chkpt\" at 2024-07-06 10:51:42 after 470 attacks.\n"
     ]
    },
    {
     "name": "stdout",
     "output_type": "stream",
     "text": [
      "\n",
      "\n",
      "=============================================================================================================================\n",
      "=============================================================================================================================\n",
      "\n"
     ]
    },
    {
     "name": "stderr",
     "output_type": "stream",
     "text": [
      "[Succeeded / Failed / Skipped / Total] 269 / 111 / 95 / 475:  95%|██████████████████ | 475/500 [11:56<00:37,  1.51s/it]textattack: Saving checkpoint under \"checkpoints\\1720234318341.ta.chkpt\" at 2024-07-06 10:51:58 after 475 attacks.\n"
     ]
    },
    {
     "name": "stdout",
     "output_type": "stream",
     "text": [
      "\n",
      "\n",
      "=============================================================================================================================\n",
      "=============================================================================================================================\n",
      "\n"
     ]
    },
    {
     "name": "stderr",
     "output_type": "stream",
     "text": [
      "[Succeeded / Failed / Skipped / Total] 272 / 113 / 95 / 480:  96%|██████████████████▏| 480/500 [12:07<00:30,  1.52s/it]textattack: Saving checkpoint under \"checkpoints\\1720234329422.ta.chkpt\" at 2024-07-06 10:52:09 after 480 attacks.\n"
     ]
    },
    {
     "name": "stdout",
     "output_type": "stream",
     "text": [
      "\n",
      "\n",
      "=============================================================================================================================\n",
      "=============================================================================================================================\n",
      "\n"
     ]
    },
    {
     "name": "stderr",
     "output_type": "stream",
     "text": [
      "[Succeeded / Failed / Skipped / Total] 274 / 115 / 96 / 485:  97%|██████████████████▍| 485/500 [12:17<00:22,  1.52s/it]textattack: Saving checkpoint under \"checkpoints\\1720234339548.ta.chkpt\" at 2024-07-06 10:52:19 after 485 attacks.\n"
     ]
    },
    {
     "name": "stdout",
     "output_type": "stream",
     "text": [
      "\n",
      "\n",
      "=============================================================================================================================\n",
      "=============================================================================================================================\n",
      "\n"
     ]
    },
    {
     "name": "stderr",
     "output_type": "stream",
     "text": [
      "[Succeeded / Failed / Skipped / Total] 278 / 115 / 97 / 490:  98%|██████████████████▌| 490/500 [12:24<00:15,  1.52s/it]textattack: Saving checkpoint under \"checkpoints\\1720234346642.ta.chkpt\" at 2024-07-06 10:52:26 after 490 attacks.\n"
     ]
    },
    {
     "name": "stdout",
     "output_type": "stream",
     "text": [
      "\n",
      "\n",
      "=============================================================================================================================\n",
      "=============================================================================================================================\n",
      "\n"
     ]
    },
    {
     "name": "stderr",
     "output_type": "stream",
     "text": [
      "[Succeeded / Failed / Skipped / Total] 282 / 116 / 97 / 495:  99%|██████████████████▊| 495/500 [12:31<00:07,  1.52s/it]textattack: Saving checkpoint under \"checkpoints\\1720234353174.ta.chkpt\" at 2024-07-06 10:52:33 after 495 attacks.\n"
     ]
    },
    {
     "name": "stdout",
     "output_type": "stream",
     "text": [
      "\n",
      "\n",
      "=============================================================================================================================\n",
      "=============================================================================================================================\n",
      "\n"
     ]
    },
    {
     "name": "stderr",
     "output_type": "stream",
     "text": [
      "[Succeeded / Failed / Skipped / Total] 286 / 117 / 97 / 500: 100%|███████████████████| 500/500 [12:40<00:00,  1.52s/it]textattack: Saving checkpoint under \"checkpoints\\1720234362315.ta.chkpt\" at 2024-07-06 10:52:42 after 500 attacks.\n",
      "[Succeeded / Failed / Skipped / Total] 286 / 117 / 97 / 500: 100%|███████████████████| 500/500 [12:40<00:00,  1.52s/it]"
     ]
    },
    {
     "name": "stdout",
     "output_type": "stream",
     "text": [
      "\n",
      "\n",
      "=============================================================================================================================\n",
      "=============================================================================================================================\n",
      "\n",
      "\n",
      "+-------------------------------+--------+\n",
      "| Attack Results                |        |\n",
      "+-------------------------------+--------+\n",
      "| Number of successful attacks: | 286    |\n",
      "| Number of failed attacks:     | 117    |\n",
      "| Number of skipped attacks:    | 97     |\n",
      "| Original accuracy:            | 80.6%  |\n",
      "| Accuracy under attack:        | 23.4%  |\n",
      "| Attack success rate:          | 70.97% |\n",
      "| Average perturbed word %:     | 19.33% |\n",
      "| Average num. words per input: | 18.4   |\n",
      "| Avg num queries:              | 34.5   |\n",
      "+-------------------------------+--------+\n"
     ]
    },
    {
     "name": "stderr",
     "output_type": "stream",
     "text": [
      "\n"
     ]
    }
   ],
   "source": [
    "runAttack(bert_model_wrapper_svc_mr, n_samples, 'attack_results_new/bertmrattacksvc'+suffix, target_ds_mr)"
   ]
  },
  {
   "cell_type": "markdown",
   "id": "dd63a478-d62b-479e-8008-00fbd17c8c18",
   "metadata": {},
   "source": [
    "### DistilBERT-based-uncased"
   ]
  },
  {
   "cell_type": "code",
   "execution_count": 16,
   "id": "9f085186-e2aa-44a6-8089-92317f282f52",
   "metadata": {},
   "outputs": [
    {
     "name": "stderr",
     "output_type": "stream",
     "text": [
      "D:\\anaconda3\\envs\\tf\\lib\\site-packages\\huggingface_hub\\file_download.py:1132: FutureWarning: `resume_download` is deprecated and will be removed in version 1.0.0. Downloads always resume when possible. If you want to force a new download, use `force_download=True`.\n",
      "  warnings.warn(\n"
     ]
    }
   ],
   "source": [
    "# bert-based-uncased\n",
    "model_path2 = 'distilbert/distilbert-base-uncased'\n",
    "\n",
    "disbert_model = transformers.AutoModel.from_pretrained(model_path2)\n",
    "disbert_tokenizer = transformers.AutoTokenizer.from_pretrained(model_path2)"
   ]
  },
  {
   "cell_type": "code",
   "execution_count": 17,
   "id": "941f4005-1125-4a4a-999b-9f4244f18a09",
   "metadata": {},
   "outputs": [
    {
     "name": "stderr",
     "output_type": "stream",
     "text": [
      "D:\\anaconda3\\envs\\tf\\lib\\site-packages\\sklearn\\linear_model\\_sag.py:350: ConvergenceWarning: The max_iter was reached which means the coef_ did not converge\n",
      "  warnings.warn(\n"
     ]
    },
    {
     "name": "stdout",
     "output_type": "stream",
     "text": [
      "Log Reg 0.7945590994371482\n",
      "RF 0.7682926829268293\n",
      "KNN 0.7298311444652908\n",
      "SVC 0.7851782363977486\n"
     ]
    }
   ],
   "source": [
    "disbertmrtrain = pd.read_csv('dataset_embeddings/disbertmrtrain.txt', header=None)\n",
    "disbertmrtest = pd.read_csv('dataset_embeddings/disbertmrtest.txt', header=None)\n",
    "lr_disbert_mr, rf_disbert_mr, knn_disbert_mr, svc_disbert_mr = adaptation(disbertmrtrain, disbertmrtest)"
   ]
  },
  {
   "cell_type": "code",
   "execution_count": 18,
   "id": "9e4d537c-15d6-4688-b676-9c389ce365ce",
   "metadata": {},
   "outputs": [],
   "source": [
    "# custom model wrapper for DistilBERT\n",
    "class DisBERTModelWrapper(HuggingFaceModelWrapper):\n",
    "    def __init__(self, processor, text_encoder, classifier):\n",
    "        self.processor = processor\n",
    "        self.model = text_encoder\n",
    "        self.classifier = classifier\n",
    "\n",
    "    def __call__(self, text_input_list):\n",
    "        inputs = self.processor(text_input_list, return_tensors='pt', padding=True, truncation=True)\n",
    "        outputs = self.model(**inputs).last_hidden_state.mean(axis=1)\n",
    "        with torch.no_grad():\n",
    "            preds = self.classifier.predict_proba(outputs)\n",
    "        return preds"
   ]
  },
  {
   "cell_type": "code",
   "execution_count": 19,
   "id": "564916f2-cf94-432e-81bf-e01b39cf9fc5",
   "metadata": {},
   "outputs": [],
   "source": [
    "disbert_model_wrapper_lr_mr = DisBERTModelWrapper(disbert_tokenizer, disbert_model, lr_disbert_mr)\n",
    "disbert_model_wrapper_rf_mr = DisBERTModelWrapper(disbert_tokenizer, disbert_model, rf_disbert_mr)\n",
    "disbert_model_wrapper_knn_mr = DisBERTModelWrapper(disbert_tokenizer, disbert_model, knn_disbert_mr)\n",
    "disbert_model_wrapper_svc_mr = DisBERTModelWrapper(disbert_tokenizer, disbert_model, svc_disbert_mr)"
   ]
  },
  {
   "cell_type": "code",
   "execution_count": 20,
   "id": "32e80b72-91e4-4eee-b512-eacd6496b617",
   "metadata": {},
   "outputs": [
    {
     "name": "stderr",
     "output_type": "stream",
     "text": [
      "textattack: Unknown if model of class <class 'transformers.models.distilbert.modeling_distilbert.DistilBertModel'> compatible with goal function <class 'textattack.goal_functions.classification.untargeted_classification.UntargetedClassification'>.\n",
      "textattack: Logging to CSV at path attack_results_new/disbertmrattacklrsim08.csv\n"
     ]
    },
    {
     "name": "stdout",
     "output_type": "stream",
     "text": [
      "Attack(\n",
      "  (search_method): GreedyWordSwapWIR(\n",
      "    (wir_method):  delete\n",
      "  )\n",
      "  (goal_function):  UntargetedClassification\n",
      "  (transformation):  WordSwapEmbedding(\n",
      "    (max_candidates):  50\n",
      "    (embedding):  WordEmbedding\n",
      "  )\n",
      "  (constraints): \n",
      "    (0): WordEmbeddingDistance(\n",
      "        (embedding):  WordEmbedding\n",
      "        (min_cos_sim):  0.8\n",
      "        (cased):  False\n",
      "        (include_unknown_words):  True\n",
      "        (compare_against_original):  True\n",
      "      )\n",
      "    (1): PartOfSpeech(\n",
      "        (tagger_type):  nltk\n",
      "        (tagset):  universal\n",
      "        (allow_verb_noun_swap):  True\n",
      "        (compare_against_original):  True\n",
      "      )\n",
      "    (2): UniversalSentenceEncoder(\n",
      "        (metric):  angular\n",
      "        (threshold):  0.840845057\n",
      "        (window_size):  15\n",
      "        (skip_text_shorter_than_window):  True\n",
      "        (compare_against_original):  False\n",
      "      )\n",
      "    (3): RepeatModification\n",
      "    (4): StopwordModification\n",
      "    (5): InputColumnModification(\n",
      "        (matching_column_labels):  ['premise', 'hypothesis']\n",
      "        (columns_to_ignore):  {'premise'}\n",
      "      )\n",
      "  (is_black_box):  True\n",
      ") \n",
      "\n"
     ]
    },
    {
     "name": "stderr",
     "output_type": "stream",
     "text": [
      "[Succeeded / Failed / Skipped / Total] 2 / 2 / 1 / 5:   1%|▎                           | 5/500 [00:11<18:24,  2.23s/it]textattack: Saving checkpoint under \"checkpoints\\1720234527873.ta.chkpt\" at 2024-07-06 10:55:27 after 5 attacks.\n",
      "[Succeeded / Failed / Skipped / Total] 2 / 2 / 3 / 7:   1%|▍                           | 7/500 [00:11<13:19,  1.62s/it]"
     ]
    },
    {
     "name": "stdout",
     "output_type": "stream",
     "text": [
      "\n",
      "\n",
      "=============================================================================================================================\n",
      "=============================================================================================================================\n",
      "\n"
     ]
    },
    {
     "name": "stderr",
     "output_type": "stream",
     "text": [
      "[Succeeded / Failed / Skipped / Total] 5 / 2 / 3 / 10:   2%|▌                         | 10/500 [00:15<12:24,  1.52s/it]textattack: Saving checkpoint under \"checkpoints\\1720234531905.ta.chkpt\" at 2024-07-06 10:55:31 after 10 attacks.\n"
     ]
    },
    {
     "name": "stdout",
     "output_type": "stream",
     "text": [
      "\n",
      "\n",
      "=============================================================================================================================\n",
      "=============================================================================================================================\n",
      "\n"
     ]
    },
    {
     "name": "stderr",
     "output_type": "stream",
     "text": [
      "[Succeeded / Failed / Skipped / Total] 6 / 5 / 4 / 15:   3%|▊                         | 15/500 [00:23<12:35,  1.56s/it]textattack: Saving checkpoint under \"checkpoints\\1720234540093.ta.chkpt\" at 2024-07-06 10:55:40 after 15 attacks.\n"
     ]
    },
    {
     "name": "stdout",
     "output_type": "stream",
     "text": [
      "\n",
      "\n",
      "=============================================================================================================================\n",
      "=============================================================================================================================\n",
      "\n"
     ]
    },
    {
     "name": "stderr",
     "output_type": "stream",
     "text": [
      "[Succeeded / Failed / Skipped / Total] 8 / 7 / 5 / 20:   4%|█                         | 20/500 [00:27<11:02,  1.38s/it]textattack: Saving checkpoint under \"checkpoints\\1720234544328.ta.chkpt\" at 2024-07-06 10:55:44 after 20 attacks.\n"
     ]
    },
    {
     "name": "stdout",
     "output_type": "stream",
     "text": [
      "\n",
      "\n",
      "=============================================================================================================================\n",
      "=============================================================================================================================\n",
      "\n"
     ]
    },
    {
     "name": "stderr",
     "output_type": "stream",
     "text": [
      "[Succeeded / Failed / Skipped / Total] 12 / 7 / 6 / 25:   5%|█▎                       | 25/500 [00:30<09:34,  1.21s/it]textattack: Saving checkpoint under \"checkpoints\\1720234546937.ta.chkpt\" at 2024-07-06 10:55:46 after 25 attacks.\n"
     ]
    },
    {
     "name": "stdout",
     "output_type": "stream",
     "text": [
      "\n",
      "\n",
      "=============================================================================================================================\n",
      "=============================================================================================================================\n",
      "\n"
     ]
    },
    {
     "name": "stderr",
     "output_type": "stream",
     "text": [
      "[Succeeded / Failed / Skipped / Total] 14 / 8 / 8 / 30:   6%|█▌                       | 30/500 [00:33<08:37,  1.10s/it]textattack: Saving checkpoint under \"checkpoints\\1720234549721.ta.chkpt\" at 2024-07-06 10:55:49 after 30 attacks.\n"
     ]
    },
    {
     "name": "stdout",
     "output_type": "stream",
     "text": [
      "\n",
      "\n",
      "=============================================================================================================================\n",
      "=============================================================================================================================\n",
      "\n"
     ]
    },
    {
     "name": "stderr",
     "output_type": "stream",
     "text": [
      "[Succeeded / Failed / Skipped / Total] 17 / 8 / 10 / 35:   7%|█▋                      | 35/500 [00:35<07:45,  1.00s/it]textattack: Saving checkpoint under \"checkpoints\\1720234551722.ta.chkpt\" at 2024-07-06 10:55:51 after 35 attacks.\n"
     ]
    },
    {
     "name": "stdout",
     "output_type": "stream",
     "text": [
      "\n",
      "\n",
      "=============================================================================================================================\n",
      "=============================================================================================================================\n",
      "\n"
     ]
    },
    {
     "name": "stderr",
     "output_type": "stream",
     "text": [
      "[Succeeded / Failed / Skipped / Total] 21 / 8 / 11 / 40:   8%|█▉                      | 40/500 [00:37<07:14,  1.06it/s]textattack: Saving checkpoint under \"checkpoints\\1720234554534.ta.chkpt\" at 2024-07-06 10:55:54 after 40 attacks.\n"
     ]
    },
    {
     "name": "stdout",
     "output_type": "stream",
     "text": [
      "\n",
      "\n",
      "=============================================================================================================================\n",
      "=============================================================================================================================\n",
      "\n"
     ]
    },
    {
     "name": "stderr",
     "output_type": "stream",
     "text": [
      "[Succeeded / Failed / Skipped / Total] 24 / 10 / 11 / 45:   9%|██                     | 45/500 [00:46<07:51,  1.04s/it]textattack: Saving checkpoint under \"checkpoints\\1720234563332.ta.chkpt\" at 2024-07-06 10:56:03 after 45 attacks.\n"
     ]
    },
    {
     "name": "stdout",
     "output_type": "stream",
     "text": [
      "\n",
      "\n",
      "=============================================================================================================================\n",
      "=============================================================================================================================\n",
      "\n"
     ]
    },
    {
     "name": "stderr",
     "output_type": "stream",
     "text": [
      "[Succeeded / Failed / Skipped / Total] 27 / 12 / 11 / 50:  10%|██▎                    | 50/500 [00:54<08:14,  1.10s/it]textattack: Saving checkpoint under \"checkpoints\\1720234571661.ta.chkpt\" at 2024-07-06 10:56:11 after 50 attacks.\n"
     ]
    },
    {
     "name": "stdout",
     "output_type": "stream",
     "text": [
      "\n",
      "\n",
      "=============================================================================================================================\n",
      "=============================================================================================================================\n",
      "\n"
     ]
    },
    {
     "name": "stderr",
     "output_type": "stream",
     "text": [
      "[Succeeded / Failed / Skipped / Total] 31 / 13 / 11 / 55:  11%|██▌                    | 55/500 [01:02<08:28,  1.14s/it]textattack: Saving checkpoint under \"checkpoints\\1720234579552.ta.chkpt\" at 2024-07-06 10:56:19 after 55 attacks.\n"
     ]
    },
    {
     "name": "stdout",
     "output_type": "stream",
     "text": [
      "\n",
      "\n",
      "=============================================================================================================================\n",
      "=============================================================================================================================\n",
      "\n"
     ]
    },
    {
     "name": "stderr",
     "output_type": "stream",
     "text": [
      "[Succeeded / Failed / Skipped / Total] 34 / 13 / 13 / 60:  12%|██▊                    | 60/500 [01:05<07:56,  1.08s/it]textattack: Saving checkpoint under \"checkpoints\\1720234581756.ta.chkpt\" at 2024-07-06 10:56:21 after 60 attacks.\n",
      "[Succeeded / Failed / Skipped / Total] 34 / 13 / 15 / 62:  12%|██▊                    | 62/500 [01:05<07:40,  1.05s/it]"
     ]
    },
    {
     "name": "stdout",
     "output_type": "stream",
     "text": [
      "\n",
      "\n",
      "=============================================================================================================================\n",
      "=============================================================================================================================\n",
      "\n"
     ]
    },
    {
     "name": "stderr",
     "output_type": "stream",
     "text": [
      "[Succeeded / Failed / Skipped / Total] 36 / 14 / 15 / 65:  13%|██▉                    | 65/500 [01:08<07:36,  1.05s/it]textattack: Saving checkpoint under \"checkpoints\\1720234584881.ta.chkpt\" at 2024-07-06 10:56:24 after 65 attacks.\n"
     ]
    },
    {
     "name": "stdout",
     "output_type": "stream",
     "text": [
      "\n",
      "\n",
      "=============================================================================================================================\n",
      "=============================================================================================================================\n",
      "\n"
     ]
    },
    {
     "name": "stderr",
     "output_type": "stream",
     "text": [
      "[Succeeded / Failed / Skipped / Total] 38 / 16 / 16 / 70:  14%|███▏                   | 70/500 [01:11<07:19,  1.02s/it]textattack: Saving checkpoint under \"checkpoints\\1720234588195.ta.chkpt\" at 2024-07-06 10:56:28 after 70 attacks.\n"
     ]
    },
    {
     "name": "stdout",
     "output_type": "stream",
     "text": [
      "\n",
      "\n",
      "=============================================================================================================================\n",
      "=============================================================================================================================\n",
      "\n"
     ]
    },
    {
     "name": "stderr",
     "output_type": "stream",
     "text": [
      "[Succeeded / Failed / Skipped / Total] 41 / 17 / 17 / 75:  15%|███▍                   | 75/500 [01:13<06:55,  1.02it/s]textattack: Saving checkpoint under \"checkpoints\\1720234590101.ta.chkpt\" at 2024-07-06 10:56:30 after 75 attacks.\n"
     ]
    },
    {
     "name": "stdout",
     "output_type": "stream",
     "text": [
      "\n",
      "\n",
      "=============================================================================================================================\n",
      "=============================================================================================================================\n",
      "\n"
     ]
    },
    {
     "name": "stderr",
     "output_type": "stream",
     "text": [
      "[Succeeded / Failed / Skipped / Total] 45 / 18 / 17 / 80:  16%|███▋                   | 80/500 [01:17<06:49,  1.03it/s]textattack: Saving checkpoint under \"checkpoints\\1720234594633.ta.chkpt\" at 2024-07-06 10:56:34 after 80 attacks.\n",
      "[Succeeded / Failed / Skipped / Total] 45 / 18 / 19 / 82:  16%|███▊                   | 82/500 [01:18<06:38,  1.05it/s]"
     ]
    },
    {
     "name": "stdout",
     "output_type": "stream",
     "text": [
      "\n",
      "\n",
      "=============================================================================================================================\n",
      "=============================================================================================================================\n",
      "\n"
     ]
    },
    {
     "name": "stderr",
     "output_type": "stream",
     "text": [
      "[Succeeded / Failed / Skipped / Total] 47 / 18 / 20 / 85:  17%|███▉                   | 85/500 [01:19<06:26,  1.07it/s]textattack: Saving checkpoint under \"checkpoints\\1720234595898.ta.chkpt\" at 2024-07-06 10:56:35 after 85 attacks.\n"
     ]
    },
    {
     "name": "stdout",
     "output_type": "stream",
     "text": [
      "\n",
      "\n",
      "=============================================================================================================================\n",
      "=============================================================================================================================\n",
      "\n"
     ]
    },
    {
     "name": "stderr",
     "output_type": "stream",
     "text": [
      "[Succeeded / Failed / Skipped / Total] 52 / 18 / 20 / 90:  18%|████▏                  | 90/500 [01:23<06:21,  1.07it/s]textattack: Saving checkpoint under \"checkpoints\\1720234600524.ta.chkpt\" at 2024-07-06 10:56:40 after 90 attacks.\n"
     ]
    },
    {
     "name": "stdout",
     "output_type": "stream",
     "text": [
      "\n",
      "\n",
      "=============================================================================================================================\n",
      "=============================================================================================================================\n",
      "\n"
     ]
    },
    {
     "name": "stderr",
     "output_type": "stream",
     "text": [
      "[Succeeded / Failed / Skipped / Total] 55 / 18 / 22 / 95:  19%|████▎                  | 95/500 [01:28<06:17,  1.07it/s]textattack: Saving checkpoint under \"checkpoints\\1720234605290.ta.chkpt\" at 2024-07-06 10:56:45 after 95 attacks.\n"
     ]
    },
    {
     "name": "stdout",
     "output_type": "stream",
     "text": [
      "\n",
      "\n",
      "=============================================================================================================================\n",
      "=============================================================================================================================\n",
      "\n"
     ]
    },
    {
     "name": "stderr",
     "output_type": "stream",
     "text": [
      "[Succeeded / Failed / Skipped / Total] 59 / 19 / 22 / 100:  20%|████▏                | 100/500 [01:32<06:10,  1.08it/s]textattack: Saving checkpoint under \"checkpoints\\1720234609384.ta.chkpt\" at 2024-07-06 10:56:49 after 100 attacks.\n"
     ]
    },
    {
     "name": "stdout",
     "output_type": "stream",
     "text": [
      "\n",
      "\n",
      "=============================================================================================================================\n",
      "=============================================================================================================================\n",
      "\n"
     ]
    },
    {
     "name": "stderr",
     "output_type": "stream",
     "text": [
      "[Succeeded / Failed / Skipped / Total] 63 / 19 / 23 / 105:  21%|████▍                | 105/500 [01:38<06:12,  1.06it/s]textattack: Saving checkpoint under \"checkpoints\\1720234615665.ta.chkpt\" at 2024-07-06 10:56:55 after 105 attacks.\n",
      "[Succeeded / Failed / Skipped / Total] 63 / 19 / 24 / 106:  21%|████▍                | 106/500 [01:39<06:08,  1.07it/s]"
     ]
    },
    {
     "name": "stdout",
     "output_type": "stream",
     "text": [
      "\n",
      "\n",
      "=============================================================================================================================\n",
      "=============================================================================================================================\n",
      "\n"
     ]
    },
    {
     "name": "stderr",
     "output_type": "stream",
     "text": [
      "[Succeeded / Failed / Skipped / Total] 65 / 19 / 26 / 110:  22%|████▌                | 110/500 [01:39<05:54,  1.10it/s]textattack: Saving checkpoint under \"checkpoints\\1720234616712.ta.chkpt\" at 2024-07-06 10:56:56 after 110 attacks.\n",
      "[Succeeded / Failed / Skipped / Total] 65 / 19 / 27 / 111:  22%|████▋                | 111/500 [01:40<05:50,  1.11it/s]"
     ]
    },
    {
     "name": "stdout",
     "output_type": "stream",
     "text": [
      "\n",
      "\n",
      "=============================================================================================================================\n",
      "=============================================================================================================================\n",
      "\n"
     ]
    },
    {
     "name": "stderr",
     "output_type": "stream",
     "text": [
      "[Succeeded / Failed / Skipped / Total] 67 / 20 / 28 / 115:  23%|████▊                | 115/500 [01:43<05:46,  1.11it/s]textattack: Saving checkpoint under \"checkpoints\\1720234620072.ta.chkpt\" at 2024-07-06 10:57:00 after 115 attacks.\n"
     ]
    },
    {
     "name": "stdout",
     "output_type": "stream",
     "text": [
      "\n",
      "\n",
      "=============================================================================================================================\n",
      "=============================================================================================================================\n",
      "\n"
     ]
    },
    {
     "name": "stderr",
     "output_type": "stream",
     "text": [
      "[Succeeded / Failed / Skipped / Total] 69 / 21 / 30 / 120:  24%|█████                | 120/500 [01:45<05:34,  1.14it/s]textattack: Saving checkpoint under \"checkpoints\\1720234622291.ta.chkpt\" at 2024-07-06 10:57:02 after 120 attacks.\n"
     ]
    },
    {
     "name": "stdout",
     "output_type": "stream",
     "text": [
      "\n",
      "\n",
      "=============================================================================================================================\n",
      "=============================================================================================================================\n",
      "\n"
     ]
    },
    {
     "name": "stderr",
     "output_type": "stream",
     "text": [
      "[Succeeded / Failed / Skipped / Total] 73 / 22 / 30 / 125:  25%|█████▎               | 125/500 [01:50<05:31,  1.13it/s]textattack: Saving checkpoint under \"checkpoints\\1720234627244.ta.chkpt\" at 2024-07-06 10:57:07 after 125 attacks.\n"
     ]
    },
    {
     "name": "stdout",
     "output_type": "stream",
     "text": [
      "\n",
      "\n",
      "=============================================================================================================================\n",
      "=============================================================================================================================\n",
      "\n"
     ]
    },
    {
     "name": "stderr",
     "output_type": "stream",
     "text": [
      "[Succeeded / Failed / Skipped / Total] 76 / 22 / 32 / 130:  26%|█████▍               | 130/500 [01:53<05:21,  1.15it/s]textattack: Saving checkpoint under \"checkpoints\\1720234629791.ta.chkpt\" at 2024-07-06 10:57:09 after 130 attacks.\n",
      "[Succeeded / Failed / Skipped / Total] 76 / 22 / 33 / 131:  26%|█████▌               | 131/500 [01:53<05:18,  1.16it/s]"
     ]
    },
    {
     "name": "stdout",
     "output_type": "stream",
     "text": [
      "\n",
      "\n",
      "=============================================================================================================================\n",
      "=============================================================================================================================\n",
      "\n"
     ]
    },
    {
     "name": "stderr",
     "output_type": "stream",
     "text": [
      "[Succeeded / Failed / Skipped / Total] 79 / 22 / 34 / 135:  27%|█████▋               | 135/500 [02:00<05:24,  1.12it/s]textattack: Saving checkpoint under \"checkpoints\\1720234636886.ta.chkpt\" at 2024-07-06 10:57:16 after 135 attacks.\n"
     ]
    },
    {
     "name": "stdout",
     "output_type": "stream",
     "text": [
      "\n",
      "\n",
      "=============================================================================================================================\n",
      "=============================================================================================================================\n",
      "\n"
     ]
    },
    {
     "name": "stderr",
     "output_type": "stream",
     "text": [
      "[Succeeded / Failed / Skipped / Total] 82 / 23 / 35 / 140:  28%|█████▉               | 140/500 [02:04<05:20,  1.12it/s]textattack: Saving checkpoint under \"checkpoints\\1720234641417.ta.chkpt\" at 2024-07-06 10:57:21 after 140 attacks.\n"
     ]
    },
    {
     "name": "stdout",
     "output_type": "stream",
     "text": [
      "\n",
      "\n",
      "=============================================================================================================================\n",
      "=============================================================================================================================\n",
      "\n"
     ]
    },
    {
     "name": "stderr",
     "output_type": "stream",
     "text": [
      "[Succeeded / Failed / Skipped / Total] 86 / 24 / 35 / 145:  29%|██████               | 145/500 [02:10<05:20,  1.11it/s]textattack: Saving checkpoint under \"checkpoints\\1720234647480.ta.chkpt\" at 2024-07-06 10:57:27 after 145 attacks.\n",
      "[Succeeded / Failed / Skipped / Total] 86 / 24 / 38 / 148:  30%|██████▏              | 148/500 [02:10<05:11,  1.13it/s]"
     ]
    },
    {
     "name": "stdout",
     "output_type": "stream",
     "text": [
      "\n",
      "\n",
      "=============================================================================================================================\n",
      "=============================================================================================================================\n",
      "\n"
     ]
    },
    {
     "name": "stderr",
     "output_type": "stream",
     "text": [
      "[Succeeded / Failed / Skipped / Total] 87 / 25 / 38 / 150:  30%|██████▎              | 150/500 [02:12<05:08,  1.13it/s]textattack: Saving checkpoint under \"checkpoints\\1720234649106.ta.chkpt\" at 2024-07-06 10:57:29 after 150 attacks.\n"
     ]
    },
    {
     "name": "stdout",
     "output_type": "stream",
     "text": [
      "\n",
      "\n",
      "=============================================================================================================================\n",
      "=============================================================================================================================\n",
      "\n"
     ]
    },
    {
     "name": "stderr",
     "output_type": "stream",
     "text": [
      "[Succeeded / Failed / Skipped / Total] 89 / 27 / 39 / 155:  31%|██████▌              | 155/500 [02:14<04:59,  1.15it/s]textattack: Saving checkpoint under \"checkpoints\\1720234651309.ta.chkpt\" at 2024-07-06 10:57:31 after 155 attacks.\n"
     ]
    },
    {
     "name": "stdout",
     "output_type": "stream",
     "text": [
      "\n",
      "\n",
      "=============================================================================================================================\n",
      "=============================================================================================================================\n",
      "\n"
     ]
    },
    {
     "name": "stderr",
     "output_type": "stream",
     "text": [
      "[Succeeded / Failed / Skipped / Total] 92 / 28 / 40 / 160:  32%|██████▋              | 160/500 [02:19<04:56,  1.15it/s]textattack: Saving checkpoint under \"checkpoints\\1720234656231.ta.chkpt\" at 2024-07-06 10:57:36 after 160 attacks.\n",
      "[Succeeded / Failed / Skipped / Total] 92 / 28 / 41 / 161:  32%|██████▊              | 161/500 [02:19<04:53,  1.15it/s]"
     ]
    },
    {
     "name": "stdout",
     "output_type": "stream",
     "text": [
      "\n",
      "\n",
      "=============================================================================================================================\n",
      "=============================================================================================================================\n",
      "\n"
     ]
    },
    {
     "name": "stderr",
     "output_type": "stream",
     "text": [
      "[Succeeded / Failed / Skipped / Total] 94 / 29 / 42 / 165:  33%|██████▉              | 165/500 [02:23<04:51,  1.15it/s]textattack: Saving checkpoint under \"checkpoints\\1720234660153.ta.chkpt\" at 2024-07-06 10:57:40 after 165 attacks.\n"
     ]
    },
    {
     "name": "stdout",
     "output_type": "stream",
     "text": [
      "\n",
      "\n",
      "=============================================================================================================================\n",
      "=============================================================================================================================\n",
      "\n"
     ]
    },
    {
     "name": "stderr",
     "output_type": "stream",
     "text": [
      "[Succeeded / Failed / Skipped / Total] 97 / 30 / 43 / 170:  34%|███████▏             | 170/500 [02:27<04:46,  1.15it/s]textattack: Saving checkpoint under \"checkpoints\\1720234664185.ta.chkpt\" at 2024-07-06 10:57:44 after 170 attacks.\n"
     ]
    },
    {
     "name": "stdout",
     "output_type": "stream",
     "text": [
      "\n",
      "\n",
      "=============================================================================================================================\n",
      "=============================================================================================================================\n",
      "\n"
     ]
    },
    {
     "name": "stderr",
     "output_type": "stream",
     "text": [
      "[Succeeded / Failed / Skipped / Total] 99 / 32 / 44 / 175:  35%|███████▎             | 175/500 [02:36<04:50,  1.12it/s]textattack: Saving checkpoint under \"checkpoints\\1720234672951.ta.chkpt\" at 2024-07-06 10:57:52 after 175 attacks.\n"
     ]
    },
    {
     "name": "stdout",
     "output_type": "stream",
     "text": [
      "\n",
      "\n",
      "=============================================================================================================================\n",
      "=============================================================================================================================\n",
      "\n"
     ]
    },
    {
     "name": "stderr",
     "output_type": "stream",
     "text": [
      "[Succeeded / Failed / Skipped / Total] 101 / 34 / 45 / 180:  36%|███████▏            | 180/500 [02:40<04:46,  1.12it/s]textattack: Saving checkpoint under \"checkpoints\\1720234677624.ta.chkpt\" at 2024-07-06 10:57:57 after 180 attacks.\n"
     ]
    },
    {
     "name": "stdout",
     "output_type": "stream",
     "text": [
      "\n",
      "\n",
      "=============================================================================================================================\n",
      "=============================================================================================================================\n",
      "\n"
     ]
    },
    {
     "name": "stderr",
     "output_type": "stream",
     "text": [
      "[Succeeded / Failed / Skipped / Total] 104 / 35 / 46 / 185:  37%|███████▍            | 185/500 [02:43<04:37,  1.13it/s]textattack: Saving checkpoint under \"checkpoints\\1720234679796.ta.chkpt\" at 2024-07-06 10:57:59 after 185 attacks.\n"
     ]
    },
    {
     "name": "stdout",
     "output_type": "stream",
     "text": [
      "\n",
      "\n",
      "=============================================================================================================================\n",
      "=============================================================================================================================\n",
      "\n"
     ]
    },
    {
     "name": "stderr",
     "output_type": "stream",
     "text": [
      "[Succeeded / Failed / Skipped / Total] 107 / 37 / 46 / 190:  38%|███████▌            | 190/500 [02:50<04:38,  1.11it/s]textattack: Saving checkpoint under \"checkpoints\\1720234687656.ta.chkpt\" at 2024-07-06 10:58:07 after 190 attacks.\n"
     ]
    },
    {
     "name": "stdout",
     "output_type": "stream",
     "text": [
      "\n",
      "\n",
      "=============================================================================================================================\n",
      "=============================================================================================================================\n",
      "\n"
     ]
    },
    {
     "name": "stderr",
     "output_type": "stream",
     "text": [
      "[Succeeded / Failed / Skipped / Total] 109 / 38 / 48 / 195:  39%|███████▊            | 195/500 [02:55<04:35,  1.11it/s]textattack: Saving checkpoint under \"checkpoints\\1720234692672.ta.chkpt\" at 2024-07-06 10:58:12 after 195 attacks.\n"
     ]
    },
    {
     "name": "stdout",
     "output_type": "stream",
     "text": [
      "\n",
      "\n",
      "=============================================================================================================================\n",
      "=============================================================================================================================\n",
      "\n"
     ]
    },
    {
     "name": "stderr",
     "output_type": "stream",
     "text": [
      "[Succeeded / Failed / Skipped / Total] 112 / 39 / 49 / 200:  40%|████████            | 200/500 [03:04<04:36,  1.09it/s]textattack: Saving checkpoint under \"checkpoints\\1720234700720.ta.chkpt\" at 2024-07-06 10:58:20 after 200 attacks.\n"
     ]
    },
    {
     "name": "stdout",
     "output_type": "stream",
     "text": [
      "\n",
      "\n",
      "=============================================================================================================================\n",
      "=============================================================================================================================\n",
      "\n"
     ]
    },
    {
     "name": "stderr",
     "output_type": "stream",
     "text": [
      "[Succeeded / Failed / Skipped / Total] 115 / 40 / 50 / 205:  41%|████████▏           | 205/500 [03:07<04:29,  1.09it/s]textattack: Saving checkpoint under \"checkpoints\\1720234704048.ta.chkpt\" at 2024-07-06 10:58:24 after 205 attacks.\n"
     ]
    },
    {
     "name": "stdout",
     "output_type": "stream",
     "text": [
      "\n",
      "\n",
      "=============================================================================================================================\n",
      "=============================================================================================================================\n",
      "\n"
     ]
    },
    {
     "name": "stderr",
     "output_type": "stream",
     "text": [
      "[Succeeded / Failed / Skipped / Total] 118 / 40 / 52 / 210:  42%|████████▍           | 210/500 [03:09<04:21,  1.11it/s]textattack: Saving checkpoint under \"checkpoints\\1720234705814.ta.chkpt\" at 2024-07-06 10:58:25 after 210 attacks.\n"
     ]
    },
    {
     "name": "stdout",
     "output_type": "stream",
     "text": [
      "\n",
      "\n",
      "=============================================================================================================================\n",
      "=============================================================================================================================\n",
      "\n"
     ]
    },
    {
     "name": "stderr",
     "output_type": "stream",
     "text": [
      "[Succeeded / Failed / Skipped / Total] 121 / 41 / 53 / 215:  43%|████████▌           | 215/500 [03:13<04:15,  1.11it/s]textattack: Saving checkpoint under \"checkpoints\\1720234709752.ta.chkpt\" at 2024-07-06 10:58:29 after 215 attacks.\n"
     ]
    },
    {
     "name": "stdout",
     "output_type": "stream",
     "text": [
      "\n",
      "\n",
      "=============================================================================================================================\n",
      "=============================================================================================================================\n",
      "\n"
     ]
    },
    {
     "name": "stderr",
     "output_type": "stream",
     "text": [
      "[Succeeded / Failed / Skipped / Total] 124 / 43 / 53 / 220:  44%|████████▊           | 220/500 [03:16<04:09,  1.12it/s]textattack: Saving checkpoint under \"checkpoints\\1720234712939.ta.chkpt\" at 2024-07-06 10:58:32 after 220 attacks.\n"
     ]
    },
    {
     "name": "stdout",
     "output_type": "stream",
     "text": [
      "\n",
      "\n",
      "=============================================================================================================================\n",
      "=============================================================================================================================\n",
      "\n"
     ]
    },
    {
     "name": "stderr",
     "output_type": "stream",
     "text": [
      "[Succeeded / Failed / Skipped / Total] 127 / 43 / 55 / 225:  45%|█████████           | 225/500 [03:19<04:03,  1.13it/s]textattack: Saving checkpoint under \"checkpoints\\1720234716330.ta.chkpt\" at 2024-07-06 10:58:36 after 225 attacks.\n"
     ]
    },
    {
     "name": "stdout",
     "output_type": "stream",
     "text": [
      "\n",
      "\n",
      "=============================================================================================================================\n",
      "=============================================================================================================================\n",
      "\n"
     ]
    },
    {
     "name": "stderr",
     "output_type": "stream",
     "text": [
      "[Succeeded / Failed / Skipped / Total] 130 / 44 / 56 / 230:  46%|█████████▏          | 230/500 [03:23<03:58,  1.13it/s]textattack: Saving checkpoint under \"checkpoints\\1720234720159.ta.chkpt\" at 2024-07-06 10:58:40 after 230 attacks.\n"
     ]
    },
    {
     "name": "stdout",
     "output_type": "stream",
     "text": [
      "\n",
      "\n",
      "=============================================================================================================================\n",
      "=============================================================================================================================\n",
      "\n"
     ]
    },
    {
     "name": "stderr",
     "output_type": "stream",
     "text": [
      "[Succeeded / Failed / Skipped / Total] 133 / 46 / 56 / 235:  47%|█████████▍          | 235/500 [03:28<03:55,  1.13it/s]textattack: Saving checkpoint under \"checkpoints\\1720234725331.ta.chkpt\" at 2024-07-06 10:58:45 after 235 attacks.\n"
     ]
    },
    {
     "name": "stdout",
     "output_type": "stream",
     "text": [
      "\n",
      "\n",
      "=============================================================================================================================\n",
      "=============================================================================================================================\n",
      "\n"
     ]
    },
    {
     "name": "stderr",
     "output_type": "stream",
     "text": [
      "[Succeeded / Failed / Skipped / Total] 136 / 48 / 56 / 240:  48%|█████████▌          | 240/500 [03:32<03:49,  1.13it/s]textattack: Saving checkpoint under \"checkpoints\\1720234728738.ta.chkpt\" at 2024-07-06 10:58:48 after 240 attacks.\n"
     ]
    },
    {
     "name": "stdout",
     "output_type": "stream",
     "text": [
      "\n",
      "\n",
      "=============================================================================================================================\n",
      "=============================================================================================================================\n",
      "\n"
     ]
    },
    {
     "name": "stderr",
     "output_type": "stream",
     "text": [
      "[Succeeded / Failed / Skipped / Total] 139 / 50 / 56 / 245:  49%|█████████▊          | 245/500 [03:37<03:46,  1.13it/s]textattack: Saving checkpoint under \"checkpoints\\1720234734301.ta.chkpt\" at 2024-07-06 10:58:54 after 245 attacks.\n"
     ]
    },
    {
     "name": "stdout",
     "output_type": "stream",
     "text": [
      "\n",
      "\n",
      "=============================================================================================================================\n",
      "=============================================================================================================================\n",
      "\n"
     ]
    },
    {
     "name": "stderr",
     "output_type": "stream",
     "text": [
      "[Succeeded / Failed / Skipped / Total] 141 / 51 / 58 / 250:  50%|██████████          | 250/500 [03:40<03:40,  1.14it/s]textattack: Saving checkpoint under \"checkpoints\\1720234736785.ta.chkpt\" at 2024-07-06 10:58:56 after 250 attacks.\n"
     ]
    },
    {
     "name": "stdout",
     "output_type": "stream",
     "text": [
      "\n",
      "\n",
      "=============================================================================================================================\n",
      "=============================================================================================================================\n",
      "\n"
     ]
    },
    {
     "name": "stderr",
     "output_type": "stream",
     "text": [
      "[Succeeded / Failed / Skipped / Total] 145 / 51 / 59 / 255:  51%|██████████▏         | 255/500 [03:45<03:36,  1.13it/s]textattack: Saving checkpoint under \"checkpoints\\1720234741911.ta.chkpt\" at 2024-07-06 10:59:01 after 255 attacks.\n"
     ]
    },
    {
     "name": "stdout",
     "output_type": "stream",
     "text": [
      "\n",
      "\n",
      "=============================================================================================================================\n",
      "=============================================================================================================================\n",
      "\n"
     ]
    },
    {
     "name": "stderr",
     "output_type": "stream",
     "text": [
      "[Succeeded / Failed / Skipped / Total] 147 / 52 / 61 / 260:  52%|██████████▍         | 260/500 [03:48<03:31,  1.14it/s]textattack: Saving checkpoint under \"checkpoints\\1720234745645.ta.chkpt\" at 2024-07-06 10:59:05 after 260 attacks.\n"
     ]
    },
    {
     "name": "stdout",
     "output_type": "stream",
     "text": [
      "\n",
      "\n",
      "=============================================================================================================================\n",
      "=============================================================================================================================\n",
      "\n"
     ]
    },
    {
     "name": "stderr",
     "output_type": "stream",
     "text": [
      "[Succeeded / Failed / Skipped / Total] 150 / 54 / 61 / 265:  53%|██████████▌         | 265/500 [03:54<03:28,  1.13it/s]textattack: Saving checkpoint under \"checkpoints\\1720234751661.ta.chkpt\" at 2024-07-06 10:59:11 after 265 attacks.\n"
     ]
    },
    {
     "name": "stdout",
     "output_type": "stream",
     "text": [
      "\n",
      "\n",
      "=============================================================================================================================\n",
      "=============================================================================================================================\n",
      "\n"
     ]
    },
    {
     "name": "stderr",
     "output_type": "stream",
     "text": [
      "[Succeeded / Failed / Skipped / Total] 152 / 56 / 62 / 270:  54%|██████████▊         | 270/500 [04:01<03:25,  1.12it/s]textattack: Saving checkpoint under \"checkpoints\\1720234758521.ta.chkpt\" at 2024-07-06 10:59:18 after 270 attacks.\n",
      "[Succeeded / Failed / Skipped / Total] 152 / 56 / 63 / 271:  54%|██████████▊         | 271/500 [04:01<03:24,  1.12it/s]"
     ]
    },
    {
     "name": "stdout",
     "output_type": "stream",
     "text": [
      "\n",
      "\n",
      "=============================================================================================================================\n",
      "=============================================================================================================================\n",
      "\n"
     ]
    },
    {
     "name": "stderr",
     "output_type": "stream",
     "text": [
      "[Succeeded / Failed / Skipped / Total] 155 / 56 / 64 / 275:  55%|███████████         | 275/500 [04:03<03:19,  1.13it/s]textattack: Saving checkpoint under \"checkpoints\\1720234760240.ta.chkpt\" at 2024-07-06 10:59:20 after 275 attacks.\n",
      "[Succeeded / Failed / Skipped / Total] 155 / 56 / 66 / 277:  55%|███████████         | 277/500 [04:03<03:16,  1.14it/s]"
     ]
    },
    {
     "name": "stdout",
     "output_type": "stream",
     "text": [
      "\n",
      "\n",
      "=============================================================================================================================\n",
      "=============================================================================================================================\n",
      "\n"
     ]
    },
    {
     "name": "stderr",
     "output_type": "stream",
     "text": [
      "[Succeeded / Failed / Skipped / Total] 156 / 58 / 66 / 280:  56%|███████████▏        | 280/500 [04:07<03:14,  1.13it/s]textattack: Saving checkpoint under \"checkpoints\\1720234764616.ta.chkpt\" at 2024-07-06 10:59:24 after 280 attacks.\n"
     ]
    },
    {
     "name": "stdout",
     "output_type": "stream",
     "text": [
      "\n",
      "\n",
      "=============================================================================================================================\n",
      "=============================================================================================================================\n",
      "\n"
     ]
    },
    {
     "name": "stderr",
     "output_type": "stream",
     "text": [
      "[Succeeded / Failed / Skipped / Total] 159 / 60 / 66 / 285:  57%|███████████▍        | 285/500 [04:12<03:10,  1.13it/s]textattack: Saving checkpoint under \"checkpoints\\1720234769352.ta.chkpt\" at 2024-07-06 10:59:29 after 285 attacks.\n"
     ]
    },
    {
     "name": "stdout",
     "output_type": "stream",
     "text": [
      "\n",
      "\n",
      "=============================================================================================================================\n",
      "=============================================================================================================================\n",
      "\n"
     ]
    },
    {
     "name": "stderr",
     "output_type": "stream",
     "text": [
      "[Succeeded / Failed / Skipped / Total] 162 / 61 / 67 / 290:  58%|███████████▌        | 290/500 [04:17<03:06,  1.13it/s]textattack: Saving checkpoint under \"checkpoints\\1720234773962.ta.chkpt\" at 2024-07-06 10:59:33 after 290 attacks.\n"
     ]
    },
    {
     "name": "stdout",
     "output_type": "stream",
     "text": [
      "\n",
      "\n",
      "=============================================================================================================================\n",
      "=============================================================================================================================\n",
      "\n"
     ]
    },
    {
     "name": "stderr",
     "output_type": "stream",
     "text": [
      "[Succeeded / Failed / Skipped / Total] 165 / 62 / 68 / 295:  59%|███████████▊        | 295/500 [04:23<03:02,  1.12it/s]textattack: Saving checkpoint under \"checkpoints\\1720234779933.ta.chkpt\" at 2024-07-06 10:59:39 after 295 attacks.\n"
     ]
    },
    {
     "name": "stdout",
     "output_type": "stream",
     "text": [
      "\n",
      "\n",
      "=============================================================================================================================\n",
      "=============================================================================================================================\n",
      "\n"
     ]
    },
    {
     "name": "stderr",
     "output_type": "stream",
     "text": [
      "[Succeeded / Failed / Skipped / Total] 169 / 63 / 68 / 300:  60%|████████████        | 300/500 [04:27<02:58,  1.12it/s]textattack: Saving checkpoint under \"checkpoints\\1720234784574.ta.chkpt\" at 2024-07-06 10:59:44 after 300 attacks.\n"
     ]
    },
    {
     "name": "stdout",
     "output_type": "stream",
     "text": [
      "\n",
      "\n",
      "=============================================================================================================================\n",
      "=============================================================================================================================\n",
      "\n"
     ]
    },
    {
     "name": "stderr",
     "output_type": "stream",
     "text": [
      "[Succeeded / Failed / Skipped / Total] 174 / 63 / 68 / 305:  61%|████████████▏       | 305/500 [04:31<02:53,  1.12it/s]textattack: Saving checkpoint under \"checkpoints\\1720234788433.ta.chkpt\" at 2024-07-06 10:59:48 after 305 attacks.\n"
     ]
    },
    {
     "name": "stdout",
     "output_type": "stream",
     "text": [
      "\n",
      "\n",
      "=============================================================================================================================\n",
      "=============================================================================================================================\n",
      "\n"
     ]
    },
    {
     "name": "stderr",
     "output_type": "stream",
     "text": [
      "[Succeeded / Failed / Skipped / Total] 175 / 66 / 69 / 310:  62%|████████████▍       | 310/500 [04:34<02:48,  1.13it/s]textattack: Saving checkpoint under \"checkpoints\\1720234791246.ta.chkpt\" at 2024-07-06 10:59:51 after 310 attacks.\n"
     ]
    },
    {
     "name": "stdout",
     "output_type": "stream",
     "text": [
      "\n",
      "\n",
      "=============================================================================================================================\n",
      "=============================================================================================================================\n",
      "\n"
     ]
    },
    {
     "name": "stderr",
     "output_type": "stream",
     "text": [
      "[Succeeded / Failed / Skipped / Total] 176 / 68 / 71 / 315:  63%|████████████▌       | 315/500 [04:38<02:43,  1.13it/s]textattack: Saving checkpoint under \"checkpoints\\1720234794871.ta.chkpt\" at 2024-07-06 10:59:54 after 315 attacks.\n"
     ]
    },
    {
     "name": "stdout",
     "output_type": "stream",
     "text": [
      "\n",
      "\n",
      "=============================================================================================================================\n",
      "=============================================================================================================================\n",
      "\n"
     ]
    },
    {
     "name": "stderr",
     "output_type": "stream",
     "text": [
      "[Succeeded / Failed / Skipped / Total] 178 / 69 / 73 / 320:  64%|████████████▊       | 320/500 [04:43<02:39,  1.13it/s]textattack: Saving checkpoint under \"checkpoints\\1720234800403.ta.chkpt\" at 2024-07-06 11:00:00 after 320 attacks.\n"
     ]
    },
    {
     "name": "stdout",
     "output_type": "stream",
     "text": [
      "\n",
      "\n",
      "=============================================================================================================================\n",
      "=============================================================================================================================\n",
      "\n"
     ]
    },
    {
     "name": "stderr",
     "output_type": "stream",
     "text": [
      "[Succeeded / Failed / Skipped / Total] 182 / 70 / 73 / 325:  65%|█████████████       | 325/500 [04:49<02:36,  1.12it/s]textattack: Saving checkpoint under \"checkpoints\\1720234806701.ta.chkpt\" at 2024-07-06 11:00:06 after 325 attacks.\n"
     ]
    },
    {
     "name": "stdout",
     "output_type": "stream",
     "text": [
      "\n",
      "\n",
      "=============================================================================================================================\n",
      "=============================================================================================================================\n",
      "\n"
     ]
    },
    {
     "name": "stderr",
     "output_type": "stream",
     "text": [
      "[Succeeded / Failed / Skipped / Total] 186 / 71 / 73 / 330:  66%|█████████████▏      | 330/500 [04:53<02:31,  1.12it/s]textattack: Saving checkpoint under \"checkpoints\\1720234810357.ta.chkpt\" at 2024-07-06 11:00:10 after 330 attacks.\n"
     ]
    },
    {
     "name": "stdout",
     "output_type": "stream",
     "text": [
      "\n",
      "\n",
      "=============================================================================================================================\n",
      "=============================================================================================================================\n",
      "\n"
     ]
    },
    {
     "name": "stderr",
     "output_type": "stream",
     "text": [
      "[Succeeded / Failed / Skipped / Total] 188 / 73 / 74 / 335:  67%|█████████████▍      | 335/500 [05:01<02:28,  1.11it/s]textattack: Saving checkpoint under \"checkpoints\\1720234818061.ta.chkpt\" at 2024-07-06 11:00:18 after 335 attacks.\n",
      "[Succeeded / Failed / Skipped / Total] 188 / 73 / 75 / 336:  67%|█████████████▍      | 336/500 [05:01<02:27,  1.11it/s]"
     ]
    },
    {
     "name": "stdout",
     "output_type": "stream",
     "text": [
      "\n",
      "\n",
      "=============================================================================================================================\n",
      "=============================================================================================================================\n",
      "\n"
     ]
    },
    {
     "name": "stderr",
     "output_type": "stream",
     "text": [
      "[Succeeded / Failed / Skipped / Total] 190 / 74 / 76 / 340:  68%|█████████████▌      | 340/500 [05:03<02:22,  1.12it/s]textattack: Saving checkpoint under \"checkpoints\\1720234820577.ta.chkpt\" at 2024-07-06 11:00:20 after 340 attacks.\n"
     ]
    },
    {
     "name": "stdout",
     "output_type": "stream",
     "text": [
      "\n",
      "\n",
      "=============================================================================================================================\n",
      "=============================================================================================================================\n",
      "\n"
     ]
    },
    {
     "name": "stderr",
     "output_type": "stream",
     "text": [
      "[Succeeded / Failed / Skipped / Total] 191 / 76 / 78 / 345:  69%|█████████████▊      | 345/500 [05:07<02:18,  1.12it/s]textattack: Saving checkpoint under \"checkpoints\\1720234824515.ta.chkpt\" at 2024-07-06 11:00:24 after 345 attacks.\n"
     ]
    },
    {
     "name": "stdout",
     "output_type": "stream",
     "text": [
      "\n",
      "\n",
      "=============================================================================================================================\n",
      "=============================================================================================================================\n",
      "\n"
     ]
    },
    {
     "name": "stderr",
     "output_type": "stream",
     "text": [
      "[Succeeded / Failed / Skipped / Total] 195 / 77 / 78 / 350:  70%|██████████████      | 350/500 [05:14<02:14,  1.11it/s]textattack: Saving checkpoint under \"checkpoints\\1720234830921.ta.chkpt\" at 2024-07-06 11:00:30 after 350 attacks.\n"
     ]
    },
    {
     "name": "stdout",
     "output_type": "stream",
     "text": [
      "\n",
      "\n",
      "=============================================================================================================================\n",
      "=============================================================================================================================\n",
      "\n"
     ]
    },
    {
     "name": "stderr",
     "output_type": "stream",
     "text": [
      "[Succeeded / Failed / Skipped / Total] 197 / 80 / 78 / 355:  71%|██████████████▏     | 355/500 [05:21<02:11,  1.10it/s]textattack: Saving checkpoint under \"checkpoints\\1720234838703.ta.chkpt\" at 2024-07-06 11:00:38 after 355 attacks.\n"
     ]
    },
    {
     "name": "stdout",
     "output_type": "stream",
     "text": [
      "\n",
      "\n",
      "=============================================================================================================================\n",
      "=============================================================================================================================\n",
      "\n"
     ]
    },
    {
     "name": "stderr",
     "output_type": "stream",
     "text": [
      "[Succeeded / Failed / Skipped / Total] 199 / 82 / 79 / 360:  72%|██████████████▍     | 360/500 [05:26<02:07,  1.10it/s]textattack: Saving checkpoint under \"checkpoints\\1720234843641.ta.chkpt\" at 2024-07-06 11:00:43 after 360 attacks.\n"
     ]
    },
    {
     "name": "stdout",
     "output_type": "stream",
     "text": [
      "\n",
      "\n",
      "=============================================================================================================================\n",
      "=============================================================================================================================\n",
      "\n"
     ]
    },
    {
     "name": "stderr",
     "output_type": "stream",
     "text": [
      "[Succeeded / Failed / Skipped / Total] 203 / 83 / 79 / 365:  73%|██████████████▌     | 365/500 [05:31<02:02,  1.10it/s]textattack: Saving checkpoint under \"checkpoints\\1720234848345.ta.chkpt\" at 2024-07-06 11:00:48 after 365 attacks.\n",
      "[Succeeded / Failed / Skipped / Total] 203 / 83 / 80 / 366:  73%|██████████████▋     | 366/500 [05:31<02:01,  1.10it/s]"
     ]
    },
    {
     "name": "stdout",
     "output_type": "stream",
     "text": [
      "\n",
      "\n",
      "=============================================================================================================================\n",
      "=============================================================================================================================\n",
      "\n"
     ]
    },
    {
     "name": "stderr",
     "output_type": "stream",
     "text": [
      "[Succeeded / Failed / Skipped / Total] 205 / 85 / 80 / 370:  74%|██████████████▊     | 370/500 [05:35<01:57,  1.10it/s]textattack: Saving checkpoint under \"checkpoints\\1720234852236.ta.chkpt\" at 2024-07-06 11:00:52 after 370 attacks.\n",
      "[Succeeded / Failed / Skipped / Total] 205 / 85 / 81 / 371:  74%|██████████████▊     | 371/500 [05:35<01:56,  1.11it/s]"
     ]
    },
    {
     "name": "stdout",
     "output_type": "stream",
     "text": [
      "\n",
      "\n",
      "=============================================================================================================================\n",
      "=============================================================================================================================\n",
      "\n"
     ]
    },
    {
     "name": "stderr",
     "output_type": "stream",
     "text": [
      "[Succeeded / Failed / Skipped / Total] 207 / 87 / 81 / 375:  75%|███████████████     | 375/500 [05:40<01:53,  1.10it/s]textattack: Saving checkpoint under \"checkpoints\\1720234857236.ta.chkpt\" at 2024-07-06 11:00:57 after 375 attacks.\n"
     ]
    },
    {
     "name": "stdout",
     "output_type": "stream",
     "text": [
      "\n",
      "\n",
      "=============================================================================================================================\n",
      "=============================================================================================================================\n",
      "\n"
     ]
    },
    {
     "name": "stderr",
     "output_type": "stream",
     "text": [
      "[Succeeded / Failed / Skipped / Total] 211 / 87 / 82 / 380:  76%|███████████████▏    | 380/500 [05:42<01:48,  1.11it/s]textattack: Saving checkpoint under \"checkpoints\\1720234859236.ta.chkpt\" at 2024-07-06 11:00:59 after 380 attacks.\n"
     ]
    },
    {
     "name": "stdout",
     "output_type": "stream",
     "text": [
      "\n",
      "\n",
      "=============================================================================================================================\n",
      "=============================================================================================================================\n",
      "\n"
     ]
    },
    {
     "name": "stderr",
     "output_type": "stream",
     "text": [
      "[Succeeded / Failed / Skipped / Total] 215 / 88 / 82 / 385:  77%|███████████████▍    | 385/500 [05:46<01:43,  1.11it/s]textattack: Saving checkpoint under \"checkpoints\\1720234863549.ta.chkpt\" at 2024-07-06 11:01:03 after 385 attacks.\n"
     ]
    },
    {
     "name": "stdout",
     "output_type": "stream",
     "text": [
      "\n",
      "\n",
      "=============================================================================================================================\n",
      "=============================================================================================================================\n",
      "\n"
     ]
    },
    {
     "name": "stderr",
     "output_type": "stream",
     "text": [
      "[Succeeded / Failed / Skipped / Total] 218 / 89 / 83 / 390:  78%|███████████████▌    | 390/500 [05:49<01:38,  1.12it/s]textattack: Saving checkpoint under \"checkpoints\\1720234865986.ta.chkpt\" at 2024-07-06 11:01:05 after 390 attacks.\n"
     ]
    },
    {
     "name": "stdout",
     "output_type": "stream",
     "text": [
      "\n",
      "\n",
      "=============================================================================================================================\n",
      "=============================================================================================================================\n",
      "\n"
     ]
    },
    {
     "name": "stderr",
     "output_type": "stream",
     "text": [
      "[Succeeded / Failed / Skipped / Total] 220 / 91 / 84 / 395:  79%|███████████████▊    | 395/500 [05:54<01:34,  1.11it/s]textattack: Saving checkpoint under \"checkpoints\\1720234871018.ta.chkpt\" at 2024-07-06 11:01:11 after 395 attacks.\n"
     ]
    },
    {
     "name": "stdout",
     "output_type": "stream",
     "text": [
      "\n",
      "\n",
      "=============================================================================================================================\n",
      "=============================================================================================================================\n",
      "\n"
     ]
    },
    {
     "name": "stderr",
     "output_type": "stream",
     "text": [
      "[Succeeded / Failed / Skipped / Total] 225 / 91 / 84 / 400:  80%|████████████████    | 400/500 [06:00<01:30,  1.11it/s]textattack: Saving checkpoint under \"checkpoints\\1720234877113.ta.chkpt\" at 2024-07-06 11:01:17 after 400 attacks.\n"
     ]
    },
    {
     "name": "stdout",
     "output_type": "stream",
     "text": [
      "\n",
      "\n",
      "=============================================================================================================================\n",
      "=============================================================================================================================\n",
      "\n"
     ]
    },
    {
     "name": "stderr",
     "output_type": "stream",
     "text": [
      "[Succeeded / Failed / Skipped / Total] 227 / 93 / 85 / 405:  81%|████████████████▏   | 405/500 [06:04<01:25,  1.11it/s]textattack: Saving checkpoint under \"checkpoints\\1720234881644.ta.chkpt\" at 2024-07-06 11:01:21 after 405 attacks.\n"
     ]
    },
    {
     "name": "stdout",
     "output_type": "stream",
     "text": [
      "\n",
      "\n",
      "=============================================================================================================================\n",
      "=============================================================================================================================\n",
      "\n"
     ]
    },
    {
     "name": "stderr",
     "output_type": "stream",
     "text": [
      "[Succeeded / Failed / Skipped / Total] 231 / 94 / 85 / 410:  82%|████████████████▍   | 410/500 [06:09<01:21,  1.11it/s]textattack: Saving checkpoint under \"checkpoints\\1720234885879.ta.chkpt\" at 2024-07-06 11:01:25 after 410 attacks.\n"
     ]
    },
    {
     "name": "stdout",
     "output_type": "stream",
     "text": [
      "\n",
      "\n",
      "=============================================================================================================================\n",
      "=============================================================================================================================\n",
      "\n"
     ]
    },
    {
     "name": "stderr",
     "output_type": "stream",
     "text": [
      "[Succeeded / Failed / Skipped / Total] 231 / 95 / 89 / 415:  83%|████████████████▌   | 415/500 [06:10<01:15,  1.12it/s]textattack: Saving checkpoint under \"checkpoints\\1720234887379.ta.chkpt\" at 2024-07-06 11:01:27 after 415 attacks.\n"
     ]
    },
    {
     "name": "stdout",
     "output_type": "stream",
     "text": [
      "\n",
      "\n",
      "=============================================================================================================================\n",
      "=============================================================================================================================\n",
      "\n"
     ]
    },
    {
     "name": "stderr",
     "output_type": "stream",
     "text": [
      "[Succeeded / Failed / Skipped / Total] 233 / 97 / 90 / 420:  84%|████████████████▊   | 420/500 [06:16<01:11,  1.11it/s]textattack: Saving checkpoint under \"checkpoints\\1720234893551.ta.chkpt\" at 2024-07-06 11:01:33 after 420 attacks.\n"
     ]
    },
    {
     "name": "stdout",
     "output_type": "stream",
     "text": [
      "\n",
      "\n",
      "=============================================================================================================================\n",
      "=============================================================================================================================\n",
      "\n"
     ]
    },
    {
     "name": "stderr",
     "output_type": "stream",
     "text": [
      "[Succeeded / Failed / Skipped / Total] 238 / 97 / 90 / 425:  85%|█████████████████   | 425/500 [06:21<01:07,  1.11it/s]textattack: Saving checkpoint under \"checkpoints\\1720234898661.ta.chkpt\" at 2024-07-06 11:01:38 after 425 attacks.\n"
     ]
    },
    {
     "name": "stdout",
     "output_type": "stream",
     "text": [
      "\n",
      "\n",
      "=============================================================================================================================\n",
      "=============================================================================================================================\n",
      "\n"
     ]
    },
    {
     "name": "stderr",
     "output_type": "stream",
     "text": [
      "[Succeeded / Failed / Skipped / Total] 241 / 99 / 90 / 430:  86%|█████████████████▏  | 430/500 [06:28<01:03,  1.11it/s]textattack: Saving checkpoint under \"checkpoints\\1720234905303.ta.chkpt\" at 2024-07-06 11:01:45 after 430 attacks.\n",
      "[Succeeded / Failed / Skipped / Total] 241 / 99 / 91 / 431:  86%|█████████████████▏  | 431/500 [06:28<01:02,  1.11it/s]"
     ]
    },
    {
     "name": "stdout",
     "output_type": "stream",
     "text": [
      "\n",
      "\n",
      "=============================================================================================================================\n",
      "=============================================================================================================================\n",
      "\n"
     ]
    },
    {
     "name": "stderr",
     "output_type": "stream",
     "text": [
      "[Succeeded / Failed / Skipped / Total] 245 / 99 / 91 / 435:  87%|█████████████████▍  | 435/500 [06:31<00:58,  1.11it/s]textattack: Saving checkpoint under \"checkpoints\\1720234908209.ta.chkpt\" at 2024-07-06 11:01:48 after 435 attacks.\n",
      "[Succeeded / Failed / Skipped / Total] 245 / 99 / 92 / 436:  87%|█████████████████▍  | 436/500 [06:31<00:57,  1.11it/s]"
     ]
    },
    {
     "name": "stdout",
     "output_type": "stream",
     "text": [
      "\n",
      "\n",
      "=============================================================================================================================\n",
      "=============================================================================================================================\n",
      "\n"
     ]
    },
    {
     "name": "stderr",
     "output_type": "stream",
     "text": [
      "[Succeeded / Failed / Skipped / Total] 248 / 100 / 92 / 440:  88%|████████████████▋  | 440/500 [06:38<00:54,  1.10it/s]textattack: Saving checkpoint under \"checkpoints\\1720234915241.ta.chkpt\" at 2024-07-06 11:01:55 after 440 attacks.\n"
     ]
    },
    {
     "name": "stdout",
     "output_type": "stream",
     "text": [
      "\n",
      "\n",
      "=============================================================================================================================\n",
      "=============================================================================================================================\n",
      "\n"
     ]
    },
    {
     "name": "stderr",
     "output_type": "stream",
     "text": [
      "[Succeeded / Failed / Skipped / Total] 251 / 101 / 93 / 445:  89%|████████████████▉  | 445/500 [06:40<00:49,  1.11it/s]textattack: Saving checkpoint under \"checkpoints\\1720234917085.ta.chkpt\" at 2024-07-06 11:01:57 after 445 attacks.\n"
     ]
    },
    {
     "name": "stdout",
     "output_type": "stream",
     "text": [
      "\n",
      "\n",
      "=============================================================================================================================\n",
      "=============================================================================================================================\n",
      "\n"
     ]
    },
    {
     "name": "stderr",
     "output_type": "stream",
     "text": [
      "[Succeeded / Failed / Skipped / Total] 253 / 102 / 95 / 450:  90%|█████████████████  | 450/500 [06:42<00:44,  1.12it/s]textattack: Saving checkpoint under \"checkpoints\\1720234919554.ta.chkpt\" at 2024-07-06 11:01:59 after 450 attacks.\n"
     ]
    },
    {
     "name": "stdout",
     "output_type": "stream",
     "text": [
      "\n",
      "\n",
      "=============================================================================================================================\n",
      "=============================================================================================================================\n",
      "\n"
     ]
    },
    {
     "name": "stderr",
     "output_type": "stream",
     "text": [
      "[Succeeded / Failed / Skipped / Total] 256 / 102 / 97 / 455:  91%|█████████████████▎ | 455/500 [06:46<00:40,  1.12it/s]textattack: Saving checkpoint under \"checkpoints\\1720234922820.ta.chkpt\" at 2024-07-06 11:02:02 after 455 attacks.\n"
     ]
    },
    {
     "name": "stdout",
     "output_type": "stream",
     "text": [
      "\n",
      "\n",
      "=============================================================================================================================\n",
      "=============================================================================================================================\n",
      "\n"
     ]
    },
    {
     "name": "stderr",
     "output_type": "stream",
     "text": [
      "[Succeeded / Failed / Skipped / Total] 260 / 103 / 97 / 460:  92%|█████████████████▍ | 460/500 [06:51<00:35,  1.12it/s]textattack: Saving checkpoint under \"checkpoints\\1720234928195.ta.chkpt\" at 2024-07-06 11:02:08 after 460 attacks.\n"
     ]
    },
    {
     "name": "stdout",
     "output_type": "stream",
     "text": [
      "\n",
      "\n",
      "=============================================================================================================================\n",
      "=============================================================================================================================\n",
      "\n"
     ]
    },
    {
     "name": "stderr",
     "output_type": "stream",
     "text": [
      "[Succeeded / Failed / Skipped / Total] 263 / 103 / 99 / 465:  93%|█████████████████▋ | 465/500 [06:57<00:31,  1.12it/s]textattack: Saving checkpoint under \"checkpoints\\1720234933742.ta.chkpt\" at 2024-07-06 11:02:13 after 465 attacks.\n",
      "[Succeeded / Failed / Skipped / Total] 263 / 103 / 100 / 466:  93%|████████████████▊ | 466/500 [06:57<00:30,  1.12it/s]"
     ]
    },
    {
     "name": "stdout",
     "output_type": "stream",
     "text": [
      "\n",
      "\n",
      "=============================================================================================================================\n",
      "=============================================================================================================================\n",
      "\n"
     ]
    },
    {
     "name": "stderr",
     "output_type": "stream",
     "text": [
      "[Succeeded / Failed / Skipped / Total] 266 / 103 / 101 / 470:  94%|████████████████▉ | 470/500 [06:58<00:26,  1.12it/s]textattack: Saving checkpoint under \"checkpoints\\1720234935617.ta.chkpt\" at 2024-07-06 11:02:15 after 470 attacks.\n"
     ]
    },
    {
     "name": "stdout",
     "output_type": "stream",
     "text": [
      "\n",
      "\n",
      "=============================================================================================================================\n",
      "=============================================================================================================================\n",
      "\n"
     ]
    },
    {
     "name": "stderr",
     "output_type": "stream",
     "text": [
      "[Succeeded / Failed / Skipped / Total] 268 / 106 / 101 / 475:  95%|█████████████████ | 475/500 [07:08<00:22,  1.11it/s]textattack: Saving checkpoint under \"checkpoints\\1720234945337.ta.chkpt\" at 2024-07-06 11:02:25 after 475 attacks.\n"
     ]
    },
    {
     "name": "stdout",
     "output_type": "stream",
     "text": [
      "\n",
      "\n",
      "=============================================================================================================================\n",
      "=============================================================================================================================\n",
      "\n"
     ]
    },
    {
     "name": "stderr",
     "output_type": "stream",
     "text": [
      "[Succeeded / Failed / Skipped / Total] 272 / 107 / 101 / 480:  96%|█████████████████▎| 480/500 [07:12<00:18,  1.11it/s]textattack: Saving checkpoint under \"checkpoints\\1720234949197.ta.chkpt\" at 2024-07-06 11:02:29 after 480 attacks.\n"
     ]
    },
    {
     "name": "stdout",
     "output_type": "stream",
     "text": [
      "\n",
      "\n",
      "=============================================================================================================================\n",
      "=============================================================================================================================\n",
      "\n"
     ]
    },
    {
     "name": "stderr",
     "output_type": "stream",
     "text": [
      "[Succeeded / Failed / Skipped / Total] 275 / 108 / 102 / 485:  97%|█████████████████▍| 485/500 [07:17<00:13,  1.11it/s]textattack: Saving checkpoint under \"checkpoints\\1720234954291.ta.chkpt\" at 2024-07-06 11:02:34 after 485 attacks.\n"
     ]
    },
    {
     "name": "stdout",
     "output_type": "stream",
     "text": [
      "\n",
      "\n",
      "=============================================================================================================================\n",
      "=============================================================================================================================\n",
      "\n"
     ]
    },
    {
     "name": "stderr",
     "output_type": "stream",
     "text": [
      "[Succeeded / Failed / Skipped / Total] 278 / 109 / 103 / 490:  98%|█████████████████▋| 490/500 [07:20<00:08,  1.11it/s]textattack: Saving checkpoint under \"checkpoints\\1720234957463.ta.chkpt\" at 2024-07-06 11:02:37 after 490 attacks.\n",
      "[Succeeded / Failed / Skipped / Total] 278 / 109 / 104 / 491:  98%|█████████████████▋| 491/500 [07:20<00:08,  1.11it/s]"
     ]
    },
    {
     "name": "stdout",
     "output_type": "stream",
     "text": [
      "\n",
      "\n",
      "=============================================================================================================================\n",
      "=============================================================================================================================\n",
      "\n"
     ]
    },
    {
     "name": "stderr",
     "output_type": "stream",
     "text": [
      "[Succeeded / Failed / Skipped / Total] 281 / 110 / 104 / 495:  99%|█████████████████▊| 495/500 [07:26<00:04,  1.11it/s]textattack: Saving checkpoint under \"checkpoints\\1720234963338.ta.chkpt\" at 2024-07-06 11:02:43 after 495 attacks.\n"
     ]
    },
    {
     "name": "stdout",
     "output_type": "stream",
     "text": [
      "\n",
      "\n",
      "=============================================================================================================================\n",
      "=============================================================================================================================\n",
      "\n"
     ]
    },
    {
     "name": "stderr",
     "output_type": "stream",
     "text": [
      "[Succeeded / Failed / Skipped / Total] 286 / 110 / 104 / 500: 100%|██████████████████| 500/500 [07:33<00:00,  1.10it/s]textattack: Saving checkpoint under \"checkpoints\\1720234970386.ta.chkpt\" at 2024-07-06 11:02:50 after 500 attacks.\n",
      "[Succeeded / Failed / Skipped / Total] 286 / 110 / 104 / 500: 100%|██████████████████| 500/500 [07:33<00:00,  1.10it/s]"
     ]
    },
    {
     "name": "stdout",
     "output_type": "stream",
     "text": [
      "\n",
      "\n",
      "=============================================================================================================================\n",
      "=============================================================================================================================\n",
      "\n",
      "\n",
      "+-------------------------------+--------+\n",
      "| Attack Results                |        |\n",
      "+-------------------------------+--------+\n",
      "| Number of successful attacks: | 286    |\n",
      "| Number of failed attacks:     | 110    |\n",
      "| Number of skipped attacks:    | 104    |\n",
      "| Original accuracy:            | 79.2%  |\n",
      "| Accuracy under attack:        | 22.0%  |\n",
      "| Attack success rate:          | 72.22% |\n",
      "| Average perturbed word %:     | 17.92% |\n",
      "| Average num. words per input: | 18.4   |\n",
      "| Avg num queries:              | 33.42  |\n",
      "+-------------------------------+--------+\n"
     ]
    },
    {
     "name": "stderr",
     "output_type": "stream",
     "text": [
      "\n"
     ]
    }
   ],
   "source": [
    "runAttack(disbert_model_wrapper_lr_mr, n_samples, 'attack_results_new/disbertmrattacklr'+suffix, target_ds_mr)"
   ]
  },
  {
   "cell_type": "code",
   "execution_count": 21,
   "id": "f264d4df-6423-44ba-b31f-11532355cb5e",
   "metadata": {},
   "outputs": [
    {
     "name": "stderr",
     "output_type": "stream",
     "text": [
      "textattack: Unknown if model of class <class 'transformers.models.distilbert.modeling_distilbert.DistilBertModel'> compatible with goal function <class 'textattack.goal_functions.classification.untargeted_classification.UntargetedClassification'>.\n",
      "textattack: Logging to CSV at path attack_results_new/disbertmrattackrfsim08.csv\n"
     ]
    },
    {
     "name": "stdout",
     "output_type": "stream",
     "text": [
      "Attack(\n",
      "  (search_method): GreedyWordSwapWIR(\n",
      "    (wir_method):  delete\n",
      "  )\n",
      "  (goal_function):  UntargetedClassification\n",
      "  (transformation):  WordSwapEmbedding(\n",
      "    (max_candidates):  50\n",
      "    (embedding):  WordEmbedding\n",
      "  )\n",
      "  (constraints): \n",
      "    (0): WordEmbeddingDistance(\n",
      "        (embedding):  WordEmbedding\n",
      "        (min_cos_sim):  0.8\n",
      "        (cased):  False\n",
      "        (include_unknown_words):  True\n",
      "        (compare_against_original):  True\n",
      "      )\n",
      "    (1): PartOfSpeech(\n",
      "        (tagger_type):  nltk\n",
      "        (tagset):  universal\n",
      "        (allow_verb_noun_swap):  True\n",
      "        (compare_against_original):  True\n",
      "      )\n",
      "    (2): UniversalSentenceEncoder(\n",
      "        (metric):  angular\n",
      "        (threshold):  0.840845057\n",
      "        (window_size):  15\n",
      "        (skip_text_shorter_than_window):  True\n",
      "        (compare_against_original):  False\n",
      "      )\n",
      "    (3): RepeatModification\n",
      "    (4): StopwordModification\n",
      "    (5): InputColumnModification(\n",
      "        (matching_column_labels):  ['premise', 'hypothesis']\n",
      "        (columns_to_ignore):  {'premise'}\n",
      "      )\n",
      "  (is_black_box):  True\n",
      ") \n",
      "\n"
     ]
    },
    {
     "name": "stderr",
     "output_type": "stream",
     "text": [
      "[Succeeded / Failed / Skipped / Total] 1 / 3 / 1 / 5:   1%|▎                           | 5/500 [00:12<20:08,  2.44s/it]textattack: Saving checkpoint under \"checkpoints\\1720234982668.ta.chkpt\" at 2024-07-06 11:03:02 after 5 attacks.\n",
      "[Succeeded / Failed / Skipped / Total] 1 / 3 / 2 / 6:   1%|▎                           | 6/500 [00:12<16:57,  2.06s/it]"
     ]
    },
    {
     "name": "stdout",
     "output_type": "stream",
     "text": [
      "\n",
      "\n",
      "=============================================================================================================================\n",
      "=============================================================================================================================\n",
      "\n"
     ]
    },
    {
     "name": "stderr",
     "output_type": "stream",
     "text": [
      "[Succeeded / Failed / Skipped / Total] 3 / 5 / 2 / 10:   2%|▌                         | 10/500 [00:18<15:25,  1.89s/it]textattack: Saving checkpoint under \"checkpoints\\1720234989357.ta.chkpt\" at 2024-07-06 11:03:09 after 10 attacks.\n"
     ]
    },
    {
     "name": "stdout",
     "output_type": "stream",
     "text": [
      "\n",
      "\n",
      "=============================================================================================================================\n",
      "=============================================================================================================================\n",
      "\n"
     ]
    },
    {
     "name": "stderr",
     "output_type": "stream",
     "text": [
      "[Succeeded / Failed / Skipped / Total] 4 / 8 / 3 / 15:   3%|▊                         | 15/500 [00:27<14:41,  1.82s/it]textattack: Saving checkpoint under \"checkpoints\\1720234997716.ta.chkpt\" at 2024-07-06 11:03:17 after 15 attacks.\n"
     ]
    },
    {
     "name": "stdout",
     "output_type": "stream",
     "text": [
      "\n",
      "\n",
      "=============================================================================================================================\n",
      "=============================================================================================================================\n",
      "\n"
     ]
    },
    {
     "name": "stderr",
     "output_type": "stream",
     "text": [
      "[Succeeded / Failed / Skipped / Total] 6 / 10 / 4 / 20:   4%|█                        | 20/500 [00:31<12:34,  1.57s/it]textattack: Saving checkpoint under \"checkpoints\\1720235001889.ta.chkpt\" at 2024-07-06 11:03:21 after 20 attacks.\n"
     ]
    },
    {
     "name": "stdout",
     "output_type": "stream",
     "text": [
      "\n",
      "\n",
      "=============================================================================================================================\n",
      "=============================================================================================================================\n",
      "\n"
     ]
    },
    {
     "name": "stderr",
     "output_type": "stream",
     "text": [
      "[Succeeded / Failed / Skipped / Total] 9 / 11 / 5 / 25:   5%|█▎                       | 25/500 [00:36<11:31,  1.46s/it]textattack: Saving checkpoint under \"checkpoints\\1720235006842.ta.chkpt\" at 2024-07-06 11:03:26 after 25 attacks.\n"
     ]
    },
    {
     "name": "stdout",
     "output_type": "stream",
     "text": [
      "\n",
      "\n",
      "=============================================================================================================================\n",
      "=============================================================================================================================\n",
      "\n"
     ]
    },
    {
     "name": "stderr",
     "output_type": "stream",
     "text": [
      "[Succeeded / Failed / Skipped / Total] 9 / 14 / 7 / 30:   6%|█▌                       | 30/500 [00:40<10:40,  1.36s/it]textattack: Saving checkpoint under \"checkpoints\\1720235011358.ta.chkpt\" at 2024-07-06 11:03:31 after 30 attacks.\n"
     ]
    },
    {
     "name": "stdout",
     "output_type": "stream",
     "text": [
      "\n",
      "\n",
      "=============================================================================================================================\n",
      "=============================================================================================================================\n",
      "\n"
     ]
    },
    {
     "name": "stderr",
     "output_type": "stream",
     "text": [
      "[Succeeded / Failed / Skipped / Total] 10 / 16 / 9 / 35:   7%|█▋                      | 35/500 [00:43<09:34,  1.23s/it]textattack: Saving checkpoint under \"checkpoints\\1720235013702.ta.chkpt\" at 2024-07-06 11:03:33 after 35 attacks.\n"
     ]
    },
    {
     "name": "stdout",
     "output_type": "stream",
     "text": [
      "\n",
      "\n",
      "=============================================================================================================================\n",
      "=============================================================================================================================\n",
      "\n"
     ]
    },
    {
     "name": "stderr",
     "output_type": "stream",
     "text": [
      "[Succeeded / Failed / Skipped / Total] 14 / 16 / 10 / 40:   8%|█▊                     | 40/500 [00:47<09:04,  1.18s/it]textattack: Saving checkpoint under \"checkpoints\\1720235017843.ta.chkpt\" at 2024-07-06 11:03:37 after 40 attacks.\n"
     ]
    },
    {
     "name": "stdout",
     "output_type": "stream",
     "text": [
      "\n",
      "\n",
      "=============================================================================================================================\n",
      "=============================================================================================================================\n",
      "\n"
     ]
    },
    {
     "name": "stderr",
     "output_type": "stream",
     "text": [
      "[Succeeded / Failed / Skipped / Total] 16 / 18 / 11 / 45:   9%|██                     | 45/500 [00:56<09:27,  1.25s/it]textattack: Saving checkpoint under \"checkpoints\\1720235026562.ta.chkpt\" at 2024-07-06 11:03:46 after 45 attacks.\n"
     ]
    },
    {
     "name": "stdout",
     "output_type": "stream",
     "text": [
      "\n",
      "\n",
      "=============================================================================================================================\n",
      "=============================================================================================================================\n",
      "\n"
     ]
    },
    {
     "name": "stderr",
     "output_type": "stream",
     "text": [
      "[Succeeded / Failed / Skipped / Total] 20 / 19 / 11 / 50:  10%|██▎                    | 50/500 [01:03<09:34,  1.28s/it]textattack: Saving checkpoint under \"checkpoints\\1720235034266.ta.chkpt\" at 2024-07-06 11:03:54 after 50 attacks.\n"
     ]
    },
    {
     "name": "stdout",
     "output_type": "stream",
     "text": [
      "\n",
      "\n",
      "=============================================================================================================================\n",
      "=============================================================================================================================\n",
      "\n"
     ]
    },
    {
     "name": "stderr",
     "output_type": "stream",
     "text": [
      "[Succeeded / Failed / Skipped / Total] 23 / 20 / 12 / 55:  11%|██▌                    | 55/500 [01:09<09:20,  1.26s/it]textattack: Saving checkpoint under \"checkpoints\\1720235039720.ta.chkpt\" at 2024-07-06 11:03:59 after 55 attacks.\n"
     ]
    },
    {
     "name": "stdout",
     "output_type": "stream",
     "text": [
      "\n",
      "\n",
      "=============================================================================================================================\n",
      "=============================================================================================================================\n",
      "\n"
     ]
    },
    {
     "name": "stderr",
     "output_type": "stream",
     "text": [
      "[Succeeded / Failed / Skipped / Total] 27 / 20 / 13 / 60:  12%|██▊                    | 60/500 [01:12<08:51,  1.21s/it]textattack: Saving checkpoint under \"checkpoints\\1720235042985.ta.chkpt\" at 2024-07-06 11:04:02 after 60 attacks.\n",
      "[Succeeded / Failed / Skipped / Total] 27 / 20 / 14 / 61:  12%|██▊                    | 61/500 [01:12<08:42,  1.19s/it]"
     ]
    },
    {
     "name": "stdout",
     "output_type": "stream",
     "text": [
      "\n",
      "\n",
      "=============================================================================================================================\n",
      "=============================================================================================================================\n",
      "\n"
     ]
    },
    {
     "name": "stderr",
     "output_type": "stream",
     "text": [
      "[Succeeded / Failed / Skipped / Total] 31 / 20 / 14 / 65:  13%|██▉                    | 65/500 [01:15<08:26,  1.16s/it]textattack: Saving checkpoint under \"checkpoints\\1720235046142.ta.chkpt\" at 2024-07-06 11:04:06 after 65 attacks.\n"
     ]
    },
    {
     "name": "stdout",
     "output_type": "stream",
     "text": [
      "\n",
      "\n",
      "=============================================================================================================================\n",
      "=============================================================================================================================\n",
      "\n"
     ]
    },
    {
     "name": "stderr",
     "output_type": "stream",
     "text": [
      "[Succeeded / Failed / Skipped / Total] 32 / 22 / 16 / 70:  14%|███▏                   | 70/500 [01:18<08:02,  1.12s/it]textattack: Saving checkpoint under \"checkpoints\\1720235049017.ta.chkpt\" at 2024-07-06 11:04:09 after 70 attacks.\n"
     ]
    },
    {
     "name": "stdout",
     "output_type": "stream",
     "text": [
      "\n",
      "\n",
      "=============================================================================================================================\n",
      "=============================================================================================================================\n",
      "\n"
     ]
    },
    {
     "name": "stderr",
     "output_type": "stream",
     "text": [
      "[Succeeded / Failed / Skipped / Total] 34 / 23 / 18 / 75:  15%|███▍                   | 75/500 [01:21<07:44,  1.09s/it]textattack: Saving checkpoint under \"checkpoints\\1720235052440.ta.chkpt\" at 2024-07-06 11:04:12 after 75 attacks.\n",
      "[Succeeded / Failed / Skipped / Total] 34 / 23 / 19 / 76:  15%|███▍                   | 76/500 [01:22<07:37,  1.08s/it]"
     ]
    },
    {
     "name": "stdout",
     "output_type": "stream",
     "text": [
      "\n",
      "\n",
      "=============================================================================================================================\n",
      "=============================================================================================================================\n",
      "\n"
     ]
    },
    {
     "name": "stderr",
     "output_type": "stream",
     "text": [
      "[Succeeded / Failed / Skipped / Total] 36 / 24 / 20 / 80:  16%|███▋                   | 80/500 [01:26<07:32,  1.08s/it]textattack: Saving checkpoint under \"checkpoints\\1720235056737.ta.chkpt\" at 2024-07-06 11:04:16 after 80 attacks.\n",
      "[Succeeded / Failed / Skipped / Total] 36 / 24 / 22 / 82:  16%|███▊                   | 82/500 [01:26<07:20,  1.05s/it]"
     ]
    },
    {
     "name": "stdout",
     "output_type": "stream",
     "text": [
      "\n",
      "\n",
      "=============================================================================================================================\n",
      "=============================================================================================================================\n",
      "\n"
     ]
    },
    {
     "name": "stderr",
     "output_type": "stream",
     "text": [
      "[Succeeded / Failed / Skipped / Total] 38 / 24 / 23 / 85:  17%|███▉                   | 85/500 [01:27<07:07,  1.03s/it]textattack: Saving checkpoint under \"checkpoints\\1720235058019.ta.chkpt\" at 2024-07-06 11:04:18 after 85 attacks.\n"
     ]
    },
    {
     "name": "stdout",
     "output_type": "stream",
     "text": [
      "\n",
      "\n",
      "=============================================================================================================================\n",
      "=============================================================================================================================\n",
      "\n"
     ]
    },
    {
     "name": "stderr",
     "output_type": "stream",
     "text": [
      "[Succeeded / Failed / Skipped / Total] 42 / 24 / 24 / 90:  18%|████▏                  | 90/500 [01:33<07:03,  1.03s/it]textattack: Saving checkpoint under \"checkpoints\\1720235063504.ta.chkpt\" at 2024-07-06 11:04:23 after 90 attacks.\n"
     ]
    },
    {
     "name": "stdout",
     "output_type": "stream",
     "text": [
      "\n",
      "\n",
      "=============================================================================================================================\n",
      "=============================================================================================================================\n",
      "\n"
     ]
    },
    {
     "name": "stderr",
     "output_type": "stream",
     "text": [
      "[Succeeded / Failed / Skipped / Total] 45 / 24 / 26 / 95:  19%|████▎                  | 95/500 [01:34<06:44,  1.00it/s]textattack: Saving checkpoint under \"checkpoints\\1720235065301.ta.chkpt\" at 2024-07-06 11:04:25 after 95 attacks.\n"
     ]
    },
    {
     "name": "stdout",
     "output_type": "stream",
     "text": [
      "\n",
      "\n",
      "=============================================================================================================================\n",
      "=============================================================================================================================\n",
      "\n"
     ]
    },
    {
     "name": "stderr",
     "output_type": "stream",
     "text": [
      "[Succeeded / Failed / Skipped / Total] 47 / 27 / 26 / 100:  20%|████▏                | 100/500 [01:39<06:39,  1.00it/s]textattack: Saving checkpoint under \"checkpoints\\1720235070343.ta.chkpt\" at 2024-07-06 11:04:30 after 100 attacks.\n",
      "[Succeeded / Failed / Skipped / Total] 47 / 27 / 28 / 102:  20%|████▎                | 102/500 [01:40<06:30,  1.02it/s]"
     ]
    },
    {
     "name": "stdout",
     "output_type": "stream",
     "text": [
      "\n",
      "\n",
      "=============================================================================================================================\n",
      "=============================================================================================================================\n",
      "\n"
     ]
    },
    {
     "name": "stderr",
     "output_type": "stream",
     "text": [
      "[Succeeded / Failed / Skipped / Total] 48 / 29 / 28 / 105:  21%|████▍                | 105/500 [01:42<06:26,  1.02it/s]textattack: Saving checkpoint under \"checkpoints\\1720235073219.ta.chkpt\" at 2024-07-06 11:04:33 after 105 attacks.\n",
      "[Succeeded / Failed / Skipped / Total] 48 / 29 / 29 / 106:  21%|████▍                | 106/500 [01:42<06:22,  1.03it/s]"
     ]
    },
    {
     "name": "stdout",
     "output_type": "stream",
     "text": [
      "\n",
      "\n",
      "=============================================================================================================================\n",
      "=============================================================================================================================\n",
      "\n"
     ]
    },
    {
     "name": "stderr",
     "output_type": "stream",
     "text": [
      "[Succeeded / Failed / Skipped / Total] 50 / 31 / 29 / 110:  22%|████▌                | 110/500 [01:46<06:18,  1.03it/s]textattack: Saving checkpoint under \"checkpoints\\1720235077172.ta.chkpt\" at 2024-07-06 11:04:37 after 110 attacks.\n",
      "[Succeeded / Failed / Skipped / Total] 50 / 31 / 30 / 111:  22%|████▋                | 111/500 [01:46<06:14,  1.04it/s]"
     ]
    },
    {
     "name": "stdout",
     "output_type": "stream",
     "text": [
      "\n",
      "\n",
      "=============================================================================================================================\n",
      "=============================================================================================================================\n",
      "\n"
     ]
    },
    {
     "name": "stderr",
     "output_type": "stream",
     "text": [
      "[Succeeded / Failed / Skipped / Total] 52 / 32 / 31 / 115:  23%|████▊                | 115/500 [01:53<06:21,  1.01it/s]textattack: Saving checkpoint under \"checkpoints\\1720235084376.ta.chkpt\" at 2024-07-06 11:04:44 after 115 attacks.\n"
     ]
    },
    {
     "name": "stdout",
     "output_type": "stream",
     "text": [
      "\n",
      "\n",
      "=============================================================================================================================\n",
      "=============================================================================================================================\n",
      "\n"
     ]
    },
    {
     "name": "stderr",
     "output_type": "stream",
     "text": [
      "[Succeeded / Failed / Skipped / Total] 54 / 33 / 33 / 120:  24%|█████                | 120/500 [01:55<06:07,  1.03it/s]textattack: Saving checkpoint under \"checkpoints\\1720235086438.ta.chkpt\" at 2024-07-06 11:04:46 after 120 attacks.\n"
     ]
    },
    {
     "name": "stdout",
     "output_type": "stream",
     "text": [
      "\n",
      "\n",
      "=============================================================================================================================\n",
      "=============================================================================================================================\n",
      "\n"
     ]
    },
    {
     "name": "stderr",
     "output_type": "stream",
     "text": [
      "[Succeeded / Failed / Skipped / Total] 57 / 34 / 34 / 125:  25%|█████▎               | 125/500 [02:00<06:00,  1.04it/s]textattack: Saving checkpoint under \"checkpoints\\1720235090595.ta.chkpt\" at 2024-07-06 11:04:50 after 125 attacks.\n",
      "[Succeeded / Failed / Skipped / Total] 57 / 34 / 36 / 127:  25%|█████▎               | 127/500 [02:00<05:53,  1.06it/s]"
     ]
    },
    {
     "name": "stdout",
     "output_type": "stream",
     "text": [
      "\n",
      "\n",
      "=============================================================================================================================\n",
      "=============================================================================================================================\n",
      "\n"
     ]
    },
    {
     "name": "stderr",
     "output_type": "stream",
     "text": [
      "[Succeeded / Failed / Skipped / Total] 58 / 35 / 37 / 130:  26%|█████▍               | 130/500 [02:03<05:51,  1.05it/s]textattack: Saving checkpoint under \"checkpoints\\1720235094126.ta.chkpt\" at 2024-07-06 11:04:54 after 130 attacks.\n",
      "[Succeeded / Failed / Skipped / Total] 58 / 35 / 38 / 131:  26%|█████▌               | 131/500 [02:03<05:48,  1.06it/s]"
     ]
    },
    {
     "name": "stdout",
     "output_type": "stream",
     "text": [
      "\n",
      "\n",
      "=============================================================================================================================\n",
      "=============================================================================================================================\n",
      "\n"
     ]
    },
    {
     "name": "stderr",
     "output_type": "stream",
     "text": [
      "[Succeeded / Failed / Skipped / Total] 62 / 35 / 38 / 135:  27%|█████▋               | 135/500 [02:08<05:46,  1.05it/s]textattack: Saving checkpoint under \"checkpoints\\1720235098705.ta.chkpt\" at 2024-07-06 11:04:58 after 135 attacks.\n",
      "[Succeeded / Failed / Skipped / Total] 62 / 35 / 39 / 136:  27%|█████▋               | 136/500 [02:08<05:43,  1.06it/s]"
     ]
    },
    {
     "name": "stdout",
     "output_type": "stream",
     "text": [
      "\n",
      "\n",
      "=============================================================================================================================\n",
      "=============================================================================================================================\n",
      "\n"
     ]
    },
    {
     "name": "stderr",
     "output_type": "stream",
     "text": [
      "[Succeeded / Failed / Skipped / Total] 66 / 35 / 39 / 140:  28%|█████▉               | 140/500 [02:10<05:35,  1.07it/s]textattack: Saving checkpoint under \"checkpoints\\1720235100814.ta.chkpt\" at 2024-07-06 11:05:00 after 140 attacks.\n"
     ]
    },
    {
     "name": "stdout",
     "output_type": "stream",
     "text": [
      "\n",
      "\n",
      "=============================================================================================================================\n",
      "=============================================================================================================================\n",
      "\n"
     ]
    },
    {
     "name": "stderr",
     "output_type": "stream",
     "text": [
      "[Succeeded / Failed / Skipped / Total] 70 / 35 / 40 / 145:  29%|██████               | 145/500 [02:14<05:29,  1.08it/s]textattack: Saving checkpoint under \"checkpoints\\1720235105236.ta.chkpt\" at 2024-07-06 11:05:05 after 145 attacks.\n",
      "[Succeeded / Failed / Skipped / Total] 70 / 35 / 43 / 148:  30%|██████▏              | 148/500 [02:14<05:20,  1.10it/s]"
     ]
    },
    {
     "name": "stdout",
     "output_type": "stream",
     "text": [
      "\n",
      "\n",
      "=============================================================================================================================\n",
      "=============================================================================================================================\n",
      "\n"
     ]
    },
    {
     "name": "stderr",
     "output_type": "stream",
     "text": [
      "[Succeeded / Failed / Skipped / Total] 70 / 36 / 44 / 150:  30%|██████▎              | 150/500 [02:15<05:17,  1.10it/s]textattack: Saving checkpoint under \"checkpoints\\1720235106377.ta.chkpt\" at 2024-07-06 11:05:06 after 150 attacks.\n"
     ]
    },
    {
     "name": "stdout",
     "output_type": "stream",
     "text": [
      "\n",
      "\n",
      "=============================================================================================================================\n",
      "=============================================================================================================================\n",
      "\n"
     ]
    },
    {
     "name": "stderr",
     "output_type": "stream",
     "text": [
      "[Succeeded / Failed / Skipped / Total] 73 / 37 / 45 / 155:  31%|██████▌              | 155/500 [02:19<05:09,  1.11it/s]textattack: Saving checkpoint under \"checkpoints\\1720235109612.ta.chkpt\" at 2024-07-06 11:05:09 after 155 attacks.\n"
     ]
    },
    {
     "name": "stdout",
     "output_type": "stream",
     "text": [
      "\n",
      "\n",
      "=============================================================================================================================\n",
      "=============================================================================================================================\n",
      "\n"
     ]
    },
    {
     "name": "stderr",
     "output_type": "stream",
     "text": [
      "[Succeeded / Failed / Skipped / Total] 74 / 40 / 46 / 160:  32%|██████▋              | 160/500 [02:26<05:11,  1.09it/s]textattack: Saving checkpoint under \"checkpoints\\1720235117191.ta.chkpt\" at 2024-07-06 11:05:17 after 160 attacks.\n",
      "[Succeeded / Failed / Skipped / Total] 74 / 40 / 47 / 161:  32%|██████▊              | 161/500 [02:26<05:09,  1.10it/s]"
     ]
    },
    {
     "name": "stdout",
     "output_type": "stream",
     "text": [
      "\n",
      "\n",
      "=============================================================================================================================\n",
      "=============================================================================================================================\n",
      "\n"
     ]
    },
    {
     "name": "stderr",
     "output_type": "stream",
     "text": [
      "[Succeeded / Failed / Skipped / Total] 75 / 43 / 47 / 165:  33%|██████▉              | 165/500 [02:32<05:10,  1.08it/s]textattack: Saving checkpoint under \"checkpoints\\1720235123394.ta.chkpt\" at 2024-07-06 11:05:23 after 165 attacks.\n",
      "[Succeeded / Failed / Skipped / Total] 75 / 43 / 48 / 166:  33%|██████▉              | 166/500 [02:33<05:07,  1.08it/s]"
     ]
    },
    {
     "name": "stdout",
     "output_type": "stream",
     "text": [
      "\n",
      "\n",
      "=============================================================================================================================\n",
      "=============================================================================================================================\n",
      "\n"
     ]
    },
    {
     "name": "stderr",
     "output_type": "stream",
     "text": [
      "[Succeeded / Failed / Skipped / Total] 77 / 43 / 50 / 170:  34%|███████▏             | 170/500 [02:35<05:01,  1.10it/s]textattack: Saving checkpoint under \"checkpoints\\1720235125645.ta.chkpt\" at 2024-07-06 11:05:25 after 170 attacks.\n"
     ]
    },
    {
     "name": "stdout",
     "output_type": "stream",
     "text": [
      "\n",
      "\n",
      "=============================================================================================================================\n",
      "=============================================================================================================================\n",
      "\n"
     ]
    },
    {
     "name": "stderr",
     "output_type": "stream",
     "text": [
      "[Succeeded / Failed / Skipped / Total] 80 / 43 / 52 / 175:  35%|███████▎             | 175/500 [02:38<04:54,  1.10it/s]textattack: Saving checkpoint under \"checkpoints\\1720235129271.ta.chkpt\" at 2024-07-06 11:05:29 after 175 attacks.\n"
     ]
    },
    {
     "name": "stdout",
     "output_type": "stream",
     "text": [
      "\n",
      "\n",
      "=============================================================================================================================\n",
      "=============================================================================================================================\n",
      "\n"
     ]
    },
    {
     "name": "stderr",
     "output_type": "stream",
     "text": [
      "[Succeeded / Failed / Skipped / Total] 81 / 46 / 53 / 180:  36%|███████▌             | 180/500 [02:43<04:51,  1.10it/s]textattack: Saving checkpoint under \"checkpoints\\1720235134193.ta.chkpt\" at 2024-07-06 11:05:34 after 180 attacks.\n"
     ]
    },
    {
     "name": "stdout",
     "output_type": "stream",
     "text": [
      "\n",
      "\n",
      "=============================================================================================================================\n",
      "=============================================================================================================================\n",
      "\n"
     ]
    },
    {
     "name": "stderr",
     "output_type": "stream",
     "text": [
      "[Succeeded / Failed / Skipped / Total] 82 / 47 / 56 / 185:  37%|███████▊             | 185/500 [02:45<04:41,  1.12it/s]textattack: Saving checkpoint under \"checkpoints\\1720235135568.ta.chkpt\" at 2024-07-06 11:05:35 after 185 attacks.\n"
     ]
    },
    {
     "name": "stdout",
     "output_type": "stream",
     "text": [
      "\n",
      "\n",
      "=============================================================================================================================\n",
      "=============================================================================================================================\n",
      "\n"
     ]
    },
    {
     "name": "stderr",
     "output_type": "stream",
     "text": [
      "[Succeeded / Failed / Skipped / Total] 85 / 49 / 56 / 190:  38%|███████▉             | 190/500 [02:54<04:44,  1.09it/s]textattack: Saving checkpoint under \"checkpoints\\1720235144617.ta.chkpt\" at 2024-07-06 11:05:44 after 190 attacks.\n"
     ]
    },
    {
     "name": "stdout",
     "output_type": "stream",
     "text": [
      "\n",
      "\n",
      "=============================================================================================================================\n",
      "=============================================================================================================================\n",
      "\n"
     ]
    },
    {
     "name": "stderr",
     "output_type": "stream",
     "text": [
      "[Succeeded / Failed / Skipped / Total] 87 / 50 / 58 / 195:  39%|████████▏            | 195/500 [02:59<04:40,  1.09it/s]textattack: Saving checkpoint under \"checkpoints\\1720235149851.ta.chkpt\" at 2024-07-06 11:05:49 after 195 attacks.\n"
     ]
    },
    {
     "name": "stdout",
     "output_type": "stream",
     "text": [
      "\n",
      "\n",
      "=============================================================================================================================\n",
      "=============================================================================================================================\n",
      "\n"
     ]
    },
    {
     "name": "stderr",
     "output_type": "stream",
     "text": [
      "[Succeeded / Failed / Skipped / Total] 88 / 53 / 59 / 200:  40%|████████▍            | 200/500 [03:08<04:43,  1.06it/s]textattack: Saving checkpoint under \"checkpoints\\1720235159180.ta.chkpt\" at 2024-07-06 11:05:59 after 200 attacks.\n"
     ]
    },
    {
     "name": "stdout",
     "output_type": "stream",
     "text": [
      "\n",
      "\n",
      "=============================================================================================================================\n",
      "=============================================================================================================================\n",
      "\n"
     ]
    },
    {
     "name": "stderr",
     "output_type": "stream",
     "text": [
      "[Succeeded / Failed / Skipped / Total] 90 / 55 / 60 / 205:  41%|████████▌            | 205/500 [03:11<04:35,  1.07it/s]textattack: Saving checkpoint under \"checkpoints\\1720235162040.ta.chkpt\" at 2024-07-06 11:06:02 after 205 attacks.\n"
     ]
    },
    {
     "name": "stdout",
     "output_type": "stream",
     "text": [
      "\n",
      "\n",
      "=============================================================================================================================\n",
      "=============================================================================================================================\n",
      "\n"
     ]
    },
    {
     "name": "stderr",
     "output_type": "stream",
     "text": [
      "[Succeeded / Failed / Skipped / Total] 94 / 56 / 60 / 210:  42%|████████▊            | 210/500 [03:14<04:28,  1.08it/s]textattack: Saving checkpoint under \"checkpoints\\1720235165009.ta.chkpt\" at 2024-07-06 11:06:05 after 210 attacks.\n"
     ]
    },
    {
     "name": "stdout",
     "output_type": "stream",
     "text": [
      "\n",
      "\n",
      "=============================================================================================================================\n",
      "=============================================================================================================================\n",
      "\n"
     ]
    },
    {
     "name": "stderr",
     "output_type": "stream",
     "text": [
      "[Succeeded / Failed / Skipped / Total] 96 / 58 / 61 / 215:  43%|█████████            | 215/500 [03:18<04:23,  1.08it/s]textattack: Saving checkpoint under \"checkpoints\\1720235169119.ta.chkpt\" at 2024-07-06 11:06:09 after 215 attacks.\n"
     ]
    },
    {
     "name": "stdout",
     "output_type": "stream",
     "text": [
      "\n",
      "\n",
      "=============================================================================================================================\n",
      "=============================================================================================================================\n",
      "\n"
     ]
    },
    {
     "name": "stderr",
     "output_type": "stream",
     "text": [
      "[Succeeded / Failed / Skipped / Total] 100 / 59 / 61 / 220:  44%|████████▊           | 220/500 [03:21<04:16,  1.09it/s]textattack: Saving checkpoint under \"checkpoints\\1720235172088.ta.chkpt\" at 2024-07-06 11:06:12 after 220 attacks.\n"
     ]
    },
    {
     "name": "stdout",
     "output_type": "stream",
     "text": [
      "\n",
      "\n",
      "=============================================================================================================================\n",
      "=============================================================================================================================\n",
      "\n"
     ]
    },
    {
     "name": "stderr",
     "output_type": "stream",
     "text": [
      "[Succeeded / Failed / Skipped / Total] 102 / 61 / 62 / 225:  45%|█████████           | 225/500 [03:31<04:18,  1.06it/s]textattack: Saving checkpoint under \"checkpoints\\1720235181870.ta.chkpt\" at 2024-07-06 11:06:21 after 225 attacks.\n"
     ]
    },
    {
     "name": "stdout",
     "output_type": "stream",
     "text": [
      "\n",
      "\n",
      "=============================================================================================================================\n",
      "=============================================================================================================================\n",
      "\n"
     ]
    },
    {
     "name": "stderr",
     "output_type": "stream",
     "text": [
      "[Succeeded / Failed / Skipped / Total] 104 / 62 / 64 / 230:  46%|█████████▏          | 230/500 [03:33<04:11,  1.08it/s]textattack: Saving checkpoint under \"checkpoints\\1720235184401.ta.chkpt\" at 2024-07-06 11:06:24 after 230 attacks.\n",
      "[Succeeded / Failed / Skipped / Total] 104 / 62 / 65 / 231:  46%|█████████▏          | 231/500 [03:33<04:09,  1.08it/s]"
     ]
    },
    {
     "name": "stdout",
     "output_type": "stream",
     "text": [
      "\n",
      "\n",
      "=============================================================================================================================\n",
      "=============================================================================================================================\n",
      "\n"
     ]
    },
    {
     "name": "stderr",
     "output_type": "stream",
     "text": [
      "[Succeeded / Failed / Skipped / Total] 106 / 64 / 65 / 235:  47%|█████████▍          | 235/500 [03:38<04:06,  1.07it/s]textattack: Saving checkpoint under \"checkpoints\\1720235189214.ta.chkpt\" at 2024-07-06 11:06:29 after 235 attacks.\n"
     ]
    },
    {
     "name": "stdout",
     "output_type": "stream",
     "text": [
      "\n",
      "\n",
      "=============================================================================================================================\n",
      "=============================================================================================================================\n",
      "\n"
     ]
    },
    {
     "name": "stderr",
     "output_type": "stream",
     "text": [
      "[Succeeded / Failed / Skipped / Total] 109 / 66 / 65 / 240:  48%|█████████▌          | 240/500 [03:42<04:01,  1.08it/s]textattack: Saving checkpoint under \"checkpoints\\1720235193386.ta.chkpt\" at 2024-07-06 11:06:33 after 240 attacks.\n",
      "[Succeeded / Failed / Skipped / Total] 109 / 66 / 66 / 241:  48%|█████████▋          | 241/500 [03:43<03:59,  1.08it/s]"
     ]
    },
    {
     "name": "stdout",
     "output_type": "stream",
     "text": [
      "\n",
      "\n",
      "=============================================================================================================================\n",
      "=============================================================================================================================\n",
      "\n"
     ]
    },
    {
     "name": "stderr",
     "output_type": "stream",
     "text": [
      "[Succeeded / Failed / Skipped / Total] 111 / 68 / 66 / 245:  49%|█████████▊          | 245/500 [03:47<03:57,  1.07it/s]textattack: Saving checkpoint under \"checkpoints\\1720235198386.ta.chkpt\" at 2024-07-06 11:06:38 after 245 attacks.\n"
     ]
    },
    {
     "name": "stdout",
     "output_type": "stream",
     "text": [
      "\n",
      "\n",
      "=============================================================================================================================\n",
      "=============================================================================================================================\n",
      "\n"
     ]
    },
    {
     "name": "stderr",
     "output_type": "stream",
     "text": [
      "[Succeeded / Failed / Skipped / Total] 113 / 69 / 68 / 250:  50%|██████████          | 250/500 [03:50<03:50,  1.08it/s]textattack: Saving checkpoint under \"checkpoints\\1720235201215.ta.chkpt\" at 2024-07-06 11:06:41 after 250 attacks.\n",
      "[Succeeded / Failed / Skipped / Total] 113 / 69 / 69 / 251:  50%|██████████          | 251/500 [03:50<03:48,  1.09it/s]"
     ]
    },
    {
     "name": "stdout",
     "output_type": "stream",
     "text": [
      "\n",
      "\n",
      "=============================================================================================================================\n",
      "=============================================================================================================================\n",
      "\n"
     ]
    },
    {
     "name": "stderr",
     "output_type": "stream",
     "text": [
      "[Succeeded / Failed / Skipped / Total] 116 / 69 / 70 / 255:  51%|██████████▏         | 255/500 [03:55<03:45,  1.08it/s]textattack: Saving checkpoint under \"checkpoints\\1720235205559.ta.chkpt\" at 2024-07-06 11:06:45 after 255 attacks.\n"
     ]
    },
    {
     "name": "stdout",
     "output_type": "stream",
     "text": [
      "\n",
      "\n",
      "=============================================================================================================================\n",
      "=============================================================================================================================\n",
      "\n"
     ]
    },
    {
     "name": "stderr",
     "output_type": "stream",
     "text": [
      "[Succeeded / Failed / Skipped / Total] 119 / 69 / 72 / 260:  52%|██████████▍         | 260/500 [03:58<03:40,  1.09it/s]textattack: Saving checkpoint under \"checkpoints\\1720235208825.ta.chkpt\" at 2024-07-06 11:06:48 after 260 attacks.\n"
     ]
    },
    {
     "name": "stdout",
     "output_type": "stream",
     "text": [
      "\n",
      "\n",
      "=============================================================================================================================\n",
      "=============================================================================================================================\n",
      "\n"
     ]
    },
    {
     "name": "stderr",
     "output_type": "stream",
     "text": [
      "[Succeeded / Failed / Skipped / Total] 122 / 71 / 72 / 265:  53%|██████████▌         | 265/500 [04:05<03:37,  1.08it/s]textattack: Saving checkpoint under \"checkpoints\\1720235215638.ta.chkpt\" at 2024-07-06 11:06:55 after 265 attacks.\n"
     ]
    },
    {
     "name": "stdout",
     "output_type": "stream",
     "text": [
      "\n",
      "\n",
      "=============================================================================================================================\n",
      "=============================================================================================================================\n",
      "\n"
     ]
    },
    {
     "name": "stderr",
     "output_type": "stream",
     "text": [
      "[Succeeded / Failed / Skipped / Total] 123 / 73 / 74 / 270:  54%|██████████▊         | 270/500 [04:11<03:34,  1.07it/s]textattack: Saving checkpoint under \"checkpoints\\1720235222310.ta.chkpt\" at 2024-07-06 11:07:02 after 270 attacks.\n",
      "[Succeeded / Failed / Skipped / Total] 123 / 73 / 75 / 271:  54%|██████████▊         | 271/500 [04:11<03:32,  1.08it/s]"
     ]
    },
    {
     "name": "stdout",
     "output_type": "stream",
     "text": [
      "\n",
      "\n",
      "=============================================================================================================================\n",
      "=============================================================================================================================\n",
      "\n"
     ]
    },
    {
     "name": "stderr",
     "output_type": "stream",
     "text": [
      "[Succeeded / Failed / Skipped / Total] 125 / 73 / 77 / 275:  55%|███████████         | 275/500 [04:13<03:27,  1.09it/s]textattack: Saving checkpoint under \"checkpoints\\1720235223529.ta.chkpt\" at 2024-07-06 11:07:03 after 275 attacks.\n"
     ]
    },
    {
     "name": "stdout",
     "output_type": "stream",
     "text": [
      "\n",
      "\n",
      "=============================================================================================================================\n",
      "=============================================================================================================================\n",
      "\n"
     ]
    },
    {
     "name": "stderr",
     "output_type": "stream",
     "text": [
      "[Succeeded / Failed / Skipped / Total] 129 / 73 / 78 / 280:  56%|███████████▏        | 280/500 [04:16<03:21,  1.09it/s]textattack: Saving checkpoint under \"checkpoints\\1720235226935.ta.chkpt\" at 2024-07-06 11:07:06 after 280 attacks.\n"
     ]
    },
    {
     "name": "stdout",
     "output_type": "stream",
     "text": [
      "\n",
      "\n",
      "=============================================================================================================================\n",
      "=============================================================================================================================\n",
      "\n"
     ]
    },
    {
     "name": "stderr",
     "output_type": "stream",
     "text": [
      "[Succeeded / Failed / Skipped / Total] 130 / 74 / 81 / 285:  57%|███████████▍        | 285/500 [04:18<03:15,  1.10it/s]textattack: Saving checkpoint under \"checkpoints\\1720235229014.ta.chkpt\" at 2024-07-06 11:07:09 after 285 attacks.\n"
     ]
    },
    {
     "name": "stdout",
     "output_type": "stream",
     "text": [
      "\n",
      "\n",
      "=============================================================================================================================\n",
      "=============================================================================================================================\n",
      "\n"
     ]
    },
    {
     "name": "stderr",
     "output_type": "stream",
     "text": [
      "[Succeeded / Failed / Skipped / Total] 133 / 76 / 81 / 290:  58%|███████████▌        | 290/500 [04:25<03:12,  1.09it/s]textattack: Saving checkpoint under \"checkpoints\\1720235235608.ta.chkpt\" at 2024-07-06 11:07:15 after 290 attacks.\n",
      "[Succeeded / Failed / Skipped / Total] 133 / 76 / 83 / 292:  58%|███████████▋        | 292/500 [04:25<03:08,  1.10it/s]"
     ]
    },
    {
     "name": "stdout",
     "output_type": "stream",
     "text": [
      "\n",
      "\n",
      "=============================================================================================================================\n",
      "=============================================================================================================================\n",
      "\n"
     ]
    },
    {
     "name": "stderr",
     "output_type": "stream",
     "text": [
      "[Succeeded / Failed / Skipped / Total] 135 / 77 / 83 / 295:  59%|███████████▊        | 295/500 [04:29<03:07,  1.10it/s]textattack: Saving checkpoint under \"checkpoints\\1720235239749.ta.chkpt\" at 2024-07-06 11:07:19 after 295 attacks.\n"
     ]
    },
    {
     "name": "stdout",
     "output_type": "stream",
     "text": [
      "\n",
      "\n",
      "=============================================================================================================================\n",
      "=============================================================================================================================\n",
      "\n"
     ]
    },
    {
     "name": "stderr",
     "output_type": "stream",
     "text": [
      "[Succeeded / Failed / Skipped / Total] 138 / 79 / 83 / 300:  60%|████████████        | 300/500 [04:33<03:02,  1.10it/s]textattack: Saving checkpoint under \"checkpoints\\1720235244218.ta.chkpt\" at 2024-07-06 11:07:24 after 300 attacks.\n"
     ]
    },
    {
     "name": "stdout",
     "output_type": "stream",
     "text": [
      "\n",
      "\n",
      "=============================================================================================================================\n",
      "=============================================================================================================================\n",
      "\n"
     ]
    },
    {
     "name": "stderr",
     "output_type": "stream",
     "text": [
      "[Succeeded / Failed / Skipped / Total] 142 / 79 / 84 / 305:  61%|████████████▏       | 305/500 [04:36<02:56,  1.10it/s]textattack: Saving checkpoint under \"checkpoints\\1720235247281.ta.chkpt\" at 2024-07-06 11:07:27 after 305 attacks.\n"
     ]
    },
    {
     "name": "stdout",
     "output_type": "stream",
     "text": [
      "\n",
      "\n",
      "=============================================================================================================================\n",
      "=============================================================================================================================\n",
      "\n"
     ]
    },
    {
     "name": "stderr",
     "output_type": "stream",
     "text": [
      "[Succeeded / Failed / Skipped / Total] 145 / 81 / 84 / 310:  62%|████████████▍       | 310/500 [04:40<02:51,  1.11it/s]textattack: Saving checkpoint under \"checkpoints\\1720235250531.ta.chkpt\" at 2024-07-06 11:07:30 after 310 attacks.\n"
     ]
    },
    {
     "name": "stdout",
     "output_type": "stream",
     "text": [
      "\n",
      "\n",
      "=============================================================================================================================\n",
      "=============================================================================================================================\n",
      "\n"
     ]
    },
    {
     "name": "stderr",
     "output_type": "stream",
     "text": [
      "[Succeeded / Failed / Skipped / Total] 148 / 81 / 86 / 315:  63%|████████████▌       | 315/500 [04:42<02:45,  1.12it/s]textattack: Saving checkpoint under \"checkpoints\\1720235252922.ta.chkpt\" at 2024-07-06 11:07:32 after 315 attacks.\n"
     ]
    },
    {
     "name": "stdout",
     "output_type": "stream",
     "text": [
      "\n",
      "\n",
      "=============================================================================================================================\n",
      "=============================================================================================================================\n",
      "\n"
     ]
    },
    {
     "name": "stderr",
     "output_type": "stream",
     "text": [
      "[Succeeded / Failed / Skipped / Total] 151 / 82 / 87 / 320:  64%|████████████▊       | 320/500 [04:49<02:42,  1.10it/s]textattack: Saving checkpoint under \"checkpoints\\1720235260125.ta.chkpt\" at 2024-07-06 11:07:40 after 320 attacks.\n"
     ]
    },
    {
     "name": "stdout",
     "output_type": "stream",
     "text": [
      "\n",
      "\n",
      "=============================================================================================================================\n",
      "=============================================================================================================================\n",
      "\n"
     ]
    },
    {
     "name": "stderr",
     "output_type": "stream",
     "text": [
      "[Succeeded / Failed / Skipped / Total] 154 / 83 / 88 / 325:  65%|█████████████       | 325/500 [04:57<02:40,  1.09it/s]textattack: Saving checkpoint under \"checkpoints\\1720235267860.ta.chkpt\" at 2024-07-06 11:07:47 after 325 attacks.\n"
     ]
    },
    {
     "name": "stdout",
     "output_type": "stream",
     "text": [
      "\n",
      "\n",
      "=============================================================================================================================\n",
      "=============================================================================================================================\n",
      "\n"
     ]
    },
    {
     "name": "stderr",
     "output_type": "stream",
     "text": [
      "[Succeeded / Failed / Skipped / Total] 157 / 84 / 89 / 330:  66%|█████████████▏      | 330/500 [04:59<02:34,  1.10it/s]textattack: Saving checkpoint under \"checkpoints\\1720235269626.ta.chkpt\" at 2024-07-06 11:07:49 after 330 attacks.\n"
     ]
    },
    {
     "name": "stdout",
     "output_type": "stream",
     "text": [
      "\n",
      "\n",
      "=============================================================================================================================\n",
      "=============================================================================================================================\n",
      "\n"
     ]
    },
    {
     "name": "stderr",
     "output_type": "stream",
     "text": [
      "[Succeeded / Failed / Skipped / Total] 159 / 87 / 89 / 335:  67%|█████████████▍      | 335/500 [05:10<02:32,  1.08it/s]textattack: Saving checkpoint under \"checkpoints\\1720235280573.ta.chkpt\" at 2024-07-06 11:08:00 after 335 attacks.\n",
      "[Succeeded / Failed / Skipped / Total] 159 / 87 / 90 / 336:  67%|█████████████▍      | 336/500 [05:10<02:31,  1.08it/s]"
     ]
    },
    {
     "name": "stdout",
     "output_type": "stream",
     "text": [
      "\n",
      "\n",
      "=============================================================================================================================\n",
      "=============================================================================================================================\n",
      "\n"
     ]
    },
    {
     "name": "stderr",
     "output_type": "stream",
     "text": [
      "[Succeeded / Failed / Skipped / Total] 162 / 88 / 90 / 340:  68%|█████████████▌      | 340/500 [05:13<02:27,  1.08it/s]textattack: Saving checkpoint under \"checkpoints\\1720235284003.ta.chkpt\" at 2024-07-06 11:08:04 after 340 attacks.\n"
     ]
    },
    {
     "name": "stdout",
     "output_type": "stream",
     "text": [
      "\n",
      "\n",
      "=============================================================================================================================\n",
      "=============================================================================================================================\n",
      "\n"
     ]
    },
    {
     "name": "stderr",
     "output_type": "stream",
     "text": [
      "[Succeeded / Failed / Skipped / Total] 164 / 90 / 91 / 345:  69%|█████████████▊      | 345/500 [05:19<02:23,  1.08it/s]textattack: Saving checkpoint under \"checkpoints\\1720235289519.ta.chkpt\" at 2024-07-06 11:08:09 after 345 attacks.\n"
     ]
    },
    {
     "name": "stdout",
     "output_type": "stream",
     "text": [
      "\n",
      "\n",
      "=============================================================================================================================\n",
      "=============================================================================================================================\n",
      "\n"
     ]
    },
    {
     "name": "stderr",
     "output_type": "stream",
     "text": [
      "[Succeeded / Failed / Skipped / Total] 167 / 91 / 92 / 350:  70%|██████████████      | 350/500 [05:23<02:18,  1.08it/s]textattack: Saving checkpoint under \"checkpoints\\1720235293551.ta.chkpt\" at 2024-07-06 11:08:13 after 350 attacks.\n"
     ]
    },
    {
     "name": "stdout",
     "output_type": "stream",
     "text": [
      "\n",
      "\n",
      "=============================================================================================================================\n",
      "=============================================================================================================================\n",
      "\n"
     ]
    },
    {
     "name": "stderr",
     "output_type": "stream",
     "text": [
      "[Succeeded / Failed / Skipped / Total] 170 / 93 / 92 / 355:  71%|██████████████▏     | 355/500 [05:29<02:14,  1.08it/s]textattack: Saving checkpoint under \"checkpoints\\1720235300004.ta.chkpt\" at 2024-07-06 11:08:20 after 355 attacks.\n",
      "[Succeeded / Failed / Skipped / Total] 170 / 93 / 93 / 356:  71%|██████████████▏     | 356/500 [05:29<02:13,  1.08it/s]"
     ]
    },
    {
     "name": "stdout",
     "output_type": "stream",
     "text": [
      "\n",
      "\n",
      "=============================================================================================================================\n",
      "=============================================================================================================================\n",
      "\n"
     ]
    },
    {
     "name": "stderr",
     "output_type": "stream",
     "text": [
      "[Succeeded / Failed / Skipped / Total] 172 / 95 / 93 / 360:  72%|██████████████▍     | 360/500 [05:35<02:10,  1.07it/s]textattack: Saving checkpoint under \"checkpoints\\1720235305958.ta.chkpt\" at 2024-07-06 11:08:25 after 360 attacks.\n"
     ]
    },
    {
     "name": "stdout",
     "output_type": "stream",
     "text": [
      "\n",
      "\n",
      "=============================================================================================================================\n",
      "=============================================================================================================================\n",
      "\n"
     ]
    },
    {
     "name": "stderr",
     "output_type": "stream",
     "text": [
      "[Succeeded / Failed / Skipped / Total] 176 / 96 / 93 / 365:  73%|██████████████▌     | 365/500 [05:39<02:05,  1.07it/s]textattack: Saving checkpoint under \"checkpoints\\1720235310458.ta.chkpt\" at 2024-07-06 11:08:30 after 365 attacks.\n",
      "[Succeeded / Failed / Skipped / Total] 176 / 96 / 94 / 366:  73%|██████████████▋     | 366/500 [05:40<02:04,  1.08it/s]"
     ]
    },
    {
     "name": "stdout",
     "output_type": "stream",
     "text": [
      "\n",
      "\n",
      "=============================================================================================================================\n",
      "=============================================================================================================================\n",
      "\n"
     ]
    },
    {
     "name": "stderr",
     "output_type": "stream",
     "text": [
      "[Succeeded / Failed / Skipped / Total] 179 / 96 / 95 / 370:  74%|██████████████▊     | 370/500 [05:42<02:00,  1.08it/s]textattack: Saving checkpoint under \"checkpoints\\1720235312739.ta.chkpt\" at 2024-07-06 11:08:32 after 370 attacks.\n",
      "[Succeeded / Failed / Skipped / Total] 179 / 96 / 96 / 371:  74%|██████████████▊     | 371/500 [05:42<01:59,  1.08it/s]"
     ]
    },
    {
     "name": "stdout",
     "output_type": "stream",
     "text": [
      "\n",
      "\n",
      "=============================================================================================================================\n",
      "=============================================================================================================================\n",
      "\n"
     ]
    },
    {
     "name": "stderr",
     "output_type": "stream",
     "text": [
      "[Succeeded / Failed / Skipped / Total] 181 / 97 / 97 / 375:  75%|███████████████     | 375/500 [05:46<01:55,  1.08it/s]textattack: Saving checkpoint under \"checkpoints\\1720235316974.ta.chkpt\" at 2024-07-06 11:08:36 after 375 attacks.\n"
     ]
    },
    {
     "name": "stdout",
     "output_type": "stream",
     "text": [
      "\n",
      "\n",
      "=============================================================================================================================\n",
      "=============================================================================================================================\n",
      "\n"
     ]
    },
    {
     "name": "stderr",
     "output_type": "stream",
     "text": [
      "[Succeeded / Failed / Skipped / Total] 183 / 98 / 99 / 380:  76%|███████████████▏    | 380/500 [05:48<01:50,  1.09it/s]textattack: Saving checkpoint under \"checkpoints\\1720235319177.ta.chkpt\" at 2024-07-06 11:08:39 after 380 attacks.\n"
     ]
    },
    {
     "name": "stdout",
     "output_type": "stream",
     "text": [
      "\n",
      "\n",
      "=============================================================================================================================\n",
      "=============================================================================================================================\n",
      "\n"
     ]
    },
    {
     "name": "stderr",
     "output_type": "stream",
     "text": [
      "[Succeeded / Failed / Skipped / Total] 187 / 99 / 99 / 385:  77%|███████████████▍    | 385/500 [05:53<01:45,  1.09it/s]textattack: Saving checkpoint under \"checkpoints\\1720235323600.ta.chkpt\" at 2024-07-06 11:08:43 after 385 attacks.\n"
     ]
    },
    {
     "name": "stdout",
     "output_type": "stream",
     "text": [
      "\n",
      "\n",
      "=============================================================================================================================\n",
      "=============================================================================================================================\n",
      "\n"
     ]
    },
    {
     "name": "stderr",
     "output_type": "stream",
     "text": [
      "[Succeeded / Failed / Skipped / Total] 190 / 100 / 100 / 390:  78%|██████████████    | 390/500 [05:55<01:40,  1.10it/s]textattack: Saving checkpoint under \"checkpoints\\1720235326459.ta.chkpt\" at 2024-07-06 11:08:46 after 390 attacks.\n"
     ]
    },
    {
     "name": "stdout",
     "output_type": "stream",
     "text": [
      "\n",
      "\n",
      "=============================================================================================================================\n",
      "=============================================================================================================================\n",
      "\n"
     ]
    },
    {
     "name": "stderr",
     "output_type": "stream",
     "text": [
      "[Succeeded / Failed / Skipped / Total] 192 / 102 / 101 / 395:  79%|██████████████▏   | 395/500 [06:03<01:36,  1.09it/s]textattack: Saving checkpoint under \"checkpoints\\1720235333991.ta.chkpt\" at 2024-07-06 11:08:53 after 395 attacks.\n"
     ]
    },
    {
     "name": "stdout",
     "output_type": "stream",
     "text": [
      "\n",
      "\n",
      "=============================================================================================================================\n",
      "=============================================================================================================================\n",
      "\n"
     ]
    },
    {
     "name": "stderr",
     "output_type": "stream",
     "text": [
      "[Succeeded / Failed / Skipped / Total] 197 / 102 / 101 / 400:  80%|██████████████▍   | 400/500 [06:09<01:32,  1.08it/s]textattack: Saving checkpoint under \"checkpoints\\1720235340398.ta.chkpt\" at 2024-07-06 11:09:00 after 400 attacks.\n"
     ]
    },
    {
     "name": "stdout",
     "output_type": "stream",
     "text": [
      "\n",
      "\n",
      "=============================================================================================================================\n",
      "=============================================================================================================================\n",
      "\n"
     ]
    },
    {
     "name": "stderr",
     "output_type": "stream",
     "text": [
      "[Succeeded / Failed / Skipped / Total] 199 / 104 / 102 / 405:  81%|██████████████▌   | 405/500 [06:15<01:28,  1.08it/s]textattack: Saving checkpoint under \"checkpoints\\1720235345929.ta.chkpt\" at 2024-07-06 11:09:05 after 405 attacks.\n"
     ]
    },
    {
     "name": "stdout",
     "output_type": "stream",
     "text": [
      "\n",
      "\n",
      "=============================================================================================================================\n",
      "=============================================================================================================================\n",
      "\n"
     ]
    },
    {
     "name": "stderr",
     "output_type": "stream",
     "text": [
      "[Succeeded / Failed / Skipped / Total] 202 / 106 / 102 / 410:  82%|██████████████▊   | 410/500 [06:20<01:23,  1.08it/s]textattack: Saving checkpoint under \"checkpoints\\1720235350836.ta.chkpt\" at 2024-07-06 11:09:10 after 410 attacks.\n"
     ]
    },
    {
     "name": "stdout",
     "output_type": "stream",
     "text": [
      "\n",
      "\n",
      "=============================================================================================================================\n",
      "=============================================================================================================================\n",
      "\n"
     ]
    },
    {
     "name": "stderr",
     "output_type": "stream",
     "text": [
      "[Succeeded / Failed / Skipped / Total] 203 / 108 / 104 / 415:  83%|██████████████▉   | 415/500 [06:23<01:18,  1.08it/s]textattack: Saving checkpoint under \"checkpoints\\1720235354320.ta.chkpt\" at 2024-07-06 11:09:14 after 415 attacks.\n"
     ]
    },
    {
     "name": "stdout",
     "output_type": "stream",
     "text": [
      "\n",
      "\n",
      "=============================================================================================================================\n",
      "=============================================================================================================================\n",
      "\n"
     ]
    },
    {
     "name": "stderr",
     "output_type": "stream",
     "text": [
      "[Succeeded / Failed / Skipped / Total] 204 / 111 / 105 / 420:  84%|███████████████   | 420/500 [06:31<01:14,  1.07it/s]textattack: Saving checkpoint under \"checkpoints\\1720235361774.ta.chkpt\" at 2024-07-06 11:09:21 after 420 attacks.\n"
     ]
    },
    {
     "name": "stdout",
     "output_type": "stream",
     "text": [
      "\n",
      "\n",
      "=============================================================================================================================\n",
      "=============================================================================================================================\n",
      "\n"
     ]
    },
    {
     "name": "stderr",
     "output_type": "stream",
     "text": [
      "[Succeeded / Failed / Skipped / Total] 208 / 111 / 106 / 425:  85%|███████████████▎  | 425/500 [06:35<01:09,  1.08it/s]textattack: Saving checkpoint under \"checkpoints\\1720235365727.ta.chkpt\" at 2024-07-06 11:09:25 after 425 attacks.\n"
     ]
    },
    {
     "name": "stdout",
     "output_type": "stream",
     "text": [
      "\n",
      "\n",
      "=============================================================================================================================\n",
      "=============================================================================================================================\n",
      "\n"
     ]
    },
    {
     "name": "stderr",
     "output_type": "stream",
     "text": [
      "[Succeeded / Failed / Skipped / Total] 210 / 113 / 107 / 430:  86%|███████████████▍  | 430/500 [06:40<01:05,  1.07it/s]textattack: Saving checkpoint under \"checkpoints\\1720235370493.ta.chkpt\" at 2024-07-06 11:09:30 after 430 attacks.\n",
      "[Succeeded / Failed / Skipped / Total] 210 / 113 / 108 / 431:  86%|███████████████▌  | 431/500 [06:40<01:04,  1.08it/s]"
     ]
    },
    {
     "name": "stdout",
     "output_type": "stream",
     "text": [
      "\n",
      "\n",
      "=============================================================================================================================\n",
      "=============================================================================================================================\n",
      "\n"
     ]
    },
    {
     "name": "stderr",
     "output_type": "stream",
     "text": [
      "[Succeeded / Failed / Skipped / Total] 214 / 113 / 108 / 435:  87%|███████████████▋  | 435/500 [06:42<01:00,  1.08it/s]textattack: Saving checkpoint under \"checkpoints\\1720235372603.ta.chkpt\" at 2024-07-06 11:09:32 after 435 attacks.\n"
     ]
    },
    {
     "name": "stdout",
     "output_type": "stream",
     "text": [
      "\n",
      "\n",
      "=============================================================================================================================\n",
      "=============================================================================================================================\n",
      "\n"
     ]
    },
    {
     "name": "stderr",
     "output_type": "stream",
     "text": [
      "[Succeeded / Failed / Skipped / Total] 217 / 115 / 108 / 440:  88%|███████████████▊  | 440/500 [06:51<00:56,  1.07it/s]textattack: Saving checkpoint under \"checkpoints\\1720235382260.ta.chkpt\" at 2024-07-06 11:09:42 after 440 attacks.\n",
      "[Succeeded / Failed / Skipped / Total] 217 / 115 / 109 / 441:  88%|███████████████▉  | 441/500 [06:51<00:55,  1.07it/s]"
     ]
    },
    {
     "name": "stdout",
     "output_type": "stream",
     "text": [
      "\n",
      "\n",
      "=============================================================================================================================\n",
      "=============================================================================================================================\n",
      "\n"
     ]
    },
    {
     "name": "stderr",
     "output_type": "stream",
     "text": [
      "[Succeeded / Failed / Skipped / Total] 221 / 115 / 109 / 445:  89%|████████████████  | 445/500 [06:56<00:51,  1.07it/s]textattack: Saving checkpoint under \"checkpoints\\1720235386720.ta.chkpt\" at 2024-07-06 11:09:46 after 445 attacks.\n"
     ]
    },
    {
     "name": "stdout",
     "output_type": "stream",
     "text": [
      "\n",
      "\n",
      "=============================================================================================================================\n",
      "=============================================================================================================================\n",
      "\n"
     ]
    },
    {
     "name": "stderr",
     "output_type": "stream",
     "text": [
      "[Succeeded / Failed / Skipped / Total] 222 / 117 / 111 / 450:  90%|████████████████▏ | 450/500 [06:59<00:46,  1.07it/s]textattack: Saving checkpoint under \"checkpoints\\1720235389627.ta.chkpt\" at 2024-07-06 11:09:49 after 450 attacks.\n",
      "[Succeeded / Failed / Skipped / Total] 222 / 117 / 112 / 451:  90%|████████████████▏ | 451/500 [06:59<00:45,  1.08it/s]"
     ]
    },
    {
     "name": "stdout",
     "output_type": "stream",
     "text": [
      "\n",
      "\n",
      "=============================================================================================================================\n",
      "=============================================================================================================================\n",
      "\n"
     ]
    },
    {
     "name": "stderr",
     "output_type": "stream",
     "text": [
      "[Succeeded / Failed / Skipped / Total] 225 / 117 / 113 / 455:  91%|████████████████▍ | 455/500 [07:03<00:41,  1.07it/s]textattack: Saving checkpoint under \"checkpoints\\1720235393814.ta.chkpt\" at 2024-07-06 11:09:53 after 455 attacks.\n"
     ]
    },
    {
     "name": "stdout",
     "output_type": "stream",
     "text": [
      "\n",
      "\n",
      "=============================================================================================================================\n",
      "=============================================================================================================================\n",
      "\n"
     ]
    },
    {
     "name": "stderr",
     "output_type": "stream",
     "text": [
      "[Succeeded / Failed / Skipped / Total] 228 / 118 / 114 / 460:  92%|████████████████▌ | 460/500 [07:09<00:37,  1.07it/s]textattack: Saving checkpoint under \"checkpoints\\1720235399969.ta.chkpt\" at 2024-07-06 11:09:59 after 460 attacks.\n"
     ]
    },
    {
     "name": "stdout",
     "output_type": "stream",
     "text": [
      "\n",
      "\n",
      "=============================================================================================================================\n",
      "=============================================================================================================================\n",
      "\n"
     ]
    },
    {
     "name": "stderr",
     "output_type": "stream",
     "text": [
      "[Succeeded / Failed / Skipped / Total] 231 / 118 / 116 / 465:  93%|████████████████▋ | 465/500 [07:18<00:32,  1.06it/s]textattack: Saving checkpoint under \"checkpoints\\1720235408738.ta.chkpt\" at 2024-07-06 11:10:08 after 465 attacks.\n",
      "[Succeeded / Failed / Skipped / Total] 231 / 118 / 117 / 466:  93%|████████████████▊ | 466/500 [07:18<00:31,  1.06it/s]"
     ]
    },
    {
     "name": "stdout",
     "output_type": "stream",
     "text": [
      "\n",
      "\n",
      "=============================================================================================================================\n",
      "=============================================================================================================================\n",
      "\n"
     ]
    },
    {
     "name": "stderr",
     "output_type": "stream",
     "text": [
      "[Succeeded / Failed / Skipped / Total] 234 / 119 / 117 / 470:  94%|████████████████▉ | 470/500 [07:21<00:28,  1.07it/s]textattack: Saving checkpoint under \"checkpoints\\1720235411660.ta.chkpt\" at 2024-07-06 11:10:11 after 470 attacks.\n"
     ]
    },
    {
     "name": "stdout",
     "output_type": "stream",
     "text": [
      "\n",
      "\n",
      "=============================================================================================================================\n",
      "=============================================================================================================================\n",
      "\n"
     ]
    },
    {
     "name": "stderr",
     "output_type": "stream",
     "text": [
      "[Succeeded / Failed / Skipped / Total] 237 / 121 / 117 / 475:  95%|█████████████████ | 475/500 [07:30<00:23,  1.05it/s]textattack: Saving checkpoint under \"checkpoints\\1720235421364.ta.chkpt\" at 2024-07-06 11:10:21 after 475 attacks.\n"
     ]
    },
    {
     "name": "stdout",
     "output_type": "stream",
     "text": [
      "\n",
      "\n",
      "=============================================================================================================================\n",
      "=============================================================================================================================\n",
      "\n"
     ]
    },
    {
     "name": "stderr",
     "output_type": "stream",
     "text": [
      "[Succeeded / Failed / Skipped / Total] 241 / 122 / 117 / 480:  96%|█████████████████▎| 480/500 [07:34<00:18,  1.06it/s]textattack: Saving checkpoint under \"checkpoints\\1720235424724.ta.chkpt\" at 2024-07-06 11:10:24 after 480 attacks.\n"
     ]
    },
    {
     "name": "stdout",
     "output_type": "stream",
     "text": [
      "\n",
      "\n",
      "=============================================================================================================================\n",
      "=============================================================================================================================\n",
      "\n"
     ]
    },
    {
     "name": "stderr",
     "output_type": "stream",
     "text": [
      "[Succeeded / Failed / Skipped / Total] 245 / 123 / 117 / 485:  97%|█████████████████▍| 485/500 [07:39<00:14,  1.06it/s]textattack: Saving checkpoint under \"checkpoints\\1720235429834.ta.chkpt\" at 2024-07-06 11:10:29 after 485 attacks.\n"
     ]
    },
    {
     "name": "stdout",
     "output_type": "stream",
     "text": [
      "\n",
      "\n",
      "=============================================================================================================================\n",
      "=============================================================================================================================\n",
      "\n"
     ]
    },
    {
     "name": "stderr",
     "output_type": "stream",
     "text": [
      "[Succeeded / Failed / Skipped / Total] 248 / 124 / 118 / 490:  98%|█████████████████▋| 490/500 [07:44<00:09,  1.05it/s]textattack: Saving checkpoint under \"checkpoints\\1720235435303.ta.chkpt\" at 2024-07-06 11:10:35 after 490 attacks.\n",
      "[Succeeded / Failed / Skipped / Total] 248 / 124 / 119 / 491:  98%|█████████████████▋| 491/500 [07:44<00:08,  1.06it/s]"
     ]
    },
    {
     "name": "stdout",
     "output_type": "stream",
     "text": [
      "\n",
      "\n",
      "=============================================================================================================================\n",
      "=============================================================================================================================\n",
      "\n"
     ]
    },
    {
     "name": "stderr",
     "output_type": "stream",
     "text": [
      "[Succeeded / Failed / Skipped / Total] 250 / 125 / 120 / 495:  99%|█████████████████▊| 495/500 [07:47<00:04,  1.06it/s]textattack: Saving checkpoint under \"checkpoints\\1720235438366.ta.chkpt\" at 2024-07-06 11:10:38 after 495 attacks.\n"
     ]
    },
    {
     "name": "stdout",
     "output_type": "stream",
     "text": [
      "\n",
      "\n",
      "=============================================================================================================================\n",
      "=============================================================================================================================\n",
      "\n"
     ]
    },
    {
     "name": "stderr",
     "output_type": "stream",
     "text": [
      "[Succeeded / Failed / Skipped / Total] 253 / 127 / 120 / 500: 100%|██████████████████| 500/500 [07:55<00:00,  1.05it/s]textattack: Saving checkpoint under \"checkpoints\\1720235445882.ta.chkpt\" at 2024-07-06 11:10:45 after 500 attacks.\n",
      "[Succeeded / Failed / Skipped / Total] 253 / 127 / 120 / 500: 100%|██████████████████| 500/500 [07:55<00:00,  1.05it/s]"
     ]
    },
    {
     "name": "stdout",
     "output_type": "stream",
     "text": [
      "\n",
      "\n",
      "=============================================================================================================================\n",
      "=============================================================================================================================\n",
      "\n",
      "\n",
      "+-------------------------------+--------+\n",
      "| Attack Results                |        |\n",
      "+-------------------------------+--------+\n",
      "| Number of successful attacks: | 253    |\n",
      "| Number of failed attacks:     | 127    |\n",
      "| Number of skipped attacks:    | 120    |\n",
      "| Original accuracy:            | 76.0%  |\n",
      "| Accuracy under attack:        | 25.4%  |\n",
      "| Attack success rate:          | 66.58% |\n",
      "| Average perturbed word %:     | 17.82% |\n",
      "| Average num. words per input: | 18.4   |\n",
      "| Avg num queries:              | 35.17  |\n",
      "+-------------------------------+--------+\n"
     ]
    },
    {
     "name": "stderr",
     "output_type": "stream",
     "text": [
      "\n"
     ]
    }
   ],
   "source": [
    "runAttack(disbert_model_wrapper_rf_mr, n_samples, 'attack_results_new/disbertmrattackrf'+suffix, target_ds_mr)"
   ]
  },
  {
   "cell_type": "code",
   "execution_count": 22,
   "id": "006c3e60-dada-40b1-ab23-2ff6171400d3",
   "metadata": {},
   "outputs": [
    {
     "name": "stderr",
     "output_type": "stream",
     "text": [
      "textattack: Unknown if model of class <class 'transformers.models.distilbert.modeling_distilbert.DistilBertModel'> compatible with goal function <class 'textattack.goal_functions.classification.untargeted_classification.UntargetedClassification'>.\n",
      "textattack: Logging to CSV at path attack_results_new/disbertmrattackknnsim08.csv\n"
     ]
    },
    {
     "name": "stdout",
     "output_type": "stream",
     "text": [
      "Attack(\n",
      "  (search_method): GreedyWordSwapWIR(\n",
      "    (wir_method):  delete\n",
      "  )\n",
      "  (goal_function):  UntargetedClassification\n",
      "  (transformation):  WordSwapEmbedding(\n",
      "    (max_candidates):  50\n",
      "    (embedding):  WordEmbedding\n",
      "  )\n",
      "  (constraints): \n",
      "    (0): WordEmbeddingDistance(\n",
      "        (embedding):  WordEmbedding\n",
      "        (min_cos_sim):  0.8\n",
      "        (cased):  False\n",
      "        (include_unknown_words):  True\n",
      "        (compare_against_original):  True\n",
      "      )\n",
      "    (1): PartOfSpeech(\n",
      "        (tagger_type):  nltk\n",
      "        (tagset):  universal\n",
      "        (allow_verb_noun_swap):  True\n",
      "        (compare_against_original):  True\n",
      "      )\n",
      "    (2): UniversalSentenceEncoder(\n",
      "        (metric):  angular\n",
      "        (threshold):  0.840845057\n",
      "        (window_size):  15\n",
      "        (skip_text_shorter_than_window):  True\n",
      "        (compare_against_original):  False\n",
      "      )\n",
      "    (3): RepeatModification\n",
      "    (4): StopwordModification\n",
      "    (5): InputColumnModification(\n",
      "        (matching_column_labels):  ['premise', 'hypothesis']\n",
      "        (columns_to_ignore):  {'premise'}\n",
      "      )\n",
      "  (is_black_box):  True\n",
      ") \n",
      "\n"
     ]
    },
    {
     "name": "stderr",
     "output_type": "stream",
     "text": [
      "[Succeeded / Failed / Skipped / Total] 3 / 2 / 0 / 5:   1%|▎                           | 5/500 [00:10<18:07,  2.20s/it]textattack: Saving checkpoint under \"checkpoints\\1720235456979.ta.chkpt\" at 2024-07-06 11:10:56 after 5 attacks.\n",
      "[Succeeded / Failed / Skipped / Total] 3 / 2 / 2 / 7:   1%|▍                           | 7/500 [00:11<13:03,  1.59s/it]"
     ]
    },
    {
     "name": "stdout",
     "output_type": "stream",
     "text": [
      "\n",
      "\n",
      "=============================================================================================================================\n",
      "=============================================================================================================================\n",
      "\n"
     ]
    },
    {
     "name": "stderr",
     "output_type": "stream",
     "text": [
      "[Succeeded / Failed / Skipped / Total] 4 / 4 / 2 / 10:   2%|▌                         | 10/500 [00:16<13:45,  1.68s/it]textattack: Saving checkpoint under \"checkpoints\\1720235462840.ta.chkpt\" at 2024-07-06 11:11:02 after 10 attacks.\n"
     ]
    },
    {
     "name": "stdout",
     "output_type": "stream",
     "text": [
      "\n",
      "\n",
      "=============================================================================================================================\n",
      "=============================================================================================================================\n",
      "\n"
     ]
    },
    {
     "name": "stderr",
     "output_type": "stream",
     "text": [
      "[Succeeded / Failed / Skipped / Total] 6 / 6 / 3 / 15:   3%|▊                         | 15/500 [00:24<13:09,  1.63s/it]textattack: Saving checkpoint under \"checkpoints\\1720235470407.ta.chkpt\" at 2024-07-06 11:11:10 after 15 attacks.\n"
     ]
    },
    {
     "name": "stdout",
     "output_type": "stream",
     "text": [
      "\n",
      "\n",
      "=============================================================================================================================\n",
      "=============================================================================================================================\n",
      "\n"
     ]
    },
    {
     "name": "stderr",
     "output_type": "stream",
     "text": [
      "[Succeeded / Failed / Skipped / Total] 8 / 8 / 4 / 20:   4%|█                         | 20/500 [00:28<11:20,  1.42s/it]textattack: Saving checkpoint under \"checkpoints\\1720235474332.ta.chkpt\" at 2024-07-06 11:11:14 after 20 attacks.\n"
     ]
    },
    {
     "name": "stdout",
     "output_type": "stream",
     "text": [
      "\n",
      "\n",
      "=============================================================================================================================\n",
      "=============================================================================================================================\n",
      "\n"
     ]
    },
    {
     "name": "stderr",
     "output_type": "stream",
     "text": [
      "[Succeeded / Failed / Skipped / Total] 12 / 8 / 5 / 25:   5%|█▎                       | 25/500 [00:32<10:14,  1.29s/it]textattack: Saving checkpoint under \"checkpoints\\1720235478337.ta.chkpt\" at 2024-07-06 11:11:18 after 25 attacks.\n"
     ]
    },
    {
     "name": "stdout",
     "output_type": "stream",
     "text": [
      "\n",
      "\n",
      "=============================================================================================================================\n",
      "=============================================================================================================================\n",
      "\n"
     ]
    },
    {
     "name": "stderr",
     "output_type": "stream",
     "text": [
      "[Succeeded / Failed / Skipped / Total] 14 / 10 / 6 / 30:   6%|█▍                      | 30/500 [00:36<09:35,  1.22s/it]textattack: Saving checkpoint under \"checkpoints\\1720235482701.ta.chkpt\" at 2024-07-06 11:11:22 after 30 attacks.\n"
     ]
    },
    {
     "name": "stdout",
     "output_type": "stream",
     "text": [
      "\n",
      "\n",
      "=============================================================================================================================\n",
      "=============================================================================================================================\n",
      "\n"
     ]
    },
    {
     "name": "stderr",
     "output_type": "stream",
     "text": [
      "[Succeeded / Failed / Skipped / Total] 17 / 10 / 8 / 35:   7%|█▋                      | 35/500 [00:38<08:25,  1.09s/it]textattack: Saving checkpoint under \"checkpoints\\1720235484054.ta.chkpt\" at 2024-07-06 11:11:24 after 35 attacks.\n"
     ]
    },
    {
     "name": "stdout",
     "output_type": "stream",
     "text": [
      "\n",
      "\n",
      "=============================================================================================================================\n",
      "=============================================================================================================================\n",
      "\n"
     ]
    },
    {
     "name": "stderr",
     "output_type": "stream",
     "text": [
      "[Succeeded / Failed / Skipped / Total] 19 / 10 / 11 / 40:   8%|█▊                     | 40/500 [00:39<07:39,  1.00it/s]textattack: Saving checkpoint under \"checkpoints\\1720235485979.ta.chkpt\" at 2024-07-06 11:11:25 after 40 attacks.\n"
     ]
    },
    {
     "name": "stdout",
     "output_type": "stream",
     "text": [
      "\n",
      "\n",
      "=============================================================================================================================\n",
      "=============================================================================================================================\n",
      "\n"
     ]
    },
    {
     "name": "stderr",
     "output_type": "stream",
     "text": [
      "[Succeeded / Failed / Skipped / Total] 23 / 10 / 12 / 45:   9%|██                     | 45/500 [00:43<07:18,  1.04it/s]textattack: Saving checkpoint under \"checkpoints\\1720235489378.ta.chkpt\" at 2024-07-06 11:11:29 after 45 attacks.\n",
      "[Succeeded / Failed / Skipped / Total] 23 / 10 / 13 / 46:   9%|██                     | 46/500 [00:43<07:09,  1.06it/s]"
     ]
    },
    {
     "name": "stdout",
     "output_type": "stream",
     "text": [
      "\n",
      "\n",
      "=============================================================================================================================\n",
      "=============================================================================================================================\n",
      "\n"
     ]
    },
    {
     "name": "stderr",
     "output_type": "stream",
     "text": [
      "[Succeeded / Failed / Skipped / Total] 26 / 11 / 13 / 50:  10%|██▎                    | 50/500 [00:47<07:05,  1.06it/s]textattack: Saving checkpoint under \"checkpoints\\1720235493246.ta.chkpt\" at 2024-07-06 11:11:33 after 50 attacks.\n"
     ]
    },
    {
     "name": "stdout",
     "output_type": "stream",
     "text": [
      "\n",
      "\n",
      "=============================================================================================================================\n",
      "=============================================================================================================================\n",
      "\n"
     ]
    },
    {
     "name": "stderr",
     "output_type": "stream",
     "text": [
      "[Succeeded / Failed / Skipped / Total] 29 / 12 / 14 / 55:  11%|██▌                    | 55/500 [00:53<07:11,  1.03it/s]textattack: Saving checkpoint under \"checkpoints\\1720235499310.ta.chkpt\" at 2024-07-06 11:11:39 after 55 attacks.\n"
     ]
    },
    {
     "name": "stdout",
     "output_type": "stream",
     "text": [
      "\n",
      "\n",
      "=============================================================================================================================\n",
      "=============================================================================================================================\n",
      "\n"
     ]
    },
    {
     "name": "stderr",
     "output_type": "stream",
     "text": [
      "[Succeeded / Failed / Skipped / Total] 32 / 13 / 15 / 60:  12%|██▊                    | 60/500 [00:57<07:04,  1.04it/s]textattack: Saving checkpoint under \"checkpoints\\1720235503813.ta.chkpt\" at 2024-07-06 11:11:43 after 60 attacks.\n",
      "[Succeeded / Failed / Skipped / Total] 32 / 13 / 17 / 62:  12%|██▊                    | 62/500 [00:57<06:49,  1.07it/s]"
     ]
    },
    {
     "name": "stdout",
     "output_type": "stream",
     "text": [
      "\n",
      "\n",
      "=============================================================================================================================\n",
      "=============================================================================================================================\n",
      "\n"
     ]
    },
    {
     "name": "stderr",
     "output_type": "stream",
     "text": [
      "[Succeeded / Failed / Skipped / Total] 33 / 14 / 18 / 65:  13%|██▉                    | 65/500 [00:58<06:33,  1.10it/s]textattack: Saving checkpoint under \"checkpoints\\1720235504848.ta.chkpt\" at 2024-07-06 11:11:44 after 65 attacks.\n"
     ]
    },
    {
     "name": "stdout",
     "output_type": "stream",
     "text": [
      "\n",
      "\n",
      "=============================================================================================================================\n",
      "=============================================================================================================================\n",
      "\n"
     ]
    },
    {
     "name": "stderr",
     "output_type": "stream",
     "text": [
      "[Succeeded / Failed / Skipped / Total] 37 / 14 / 19 / 70:  14%|███▏                   | 70/500 [01:01<06:16,  1.14it/s]textattack: Saving checkpoint under \"checkpoints\\1720235507263.ta.chkpt\" at 2024-07-06 11:11:47 after 70 attacks.\n"
     ]
    },
    {
     "name": "stdout",
     "output_type": "stream",
     "text": [
      "\n",
      "\n",
      "=============================================================================================================================\n",
      "=============================================================================================================================\n",
      "\n"
     ]
    },
    {
     "name": "stderr",
     "output_type": "stream",
     "text": [
      "[Succeeded / Failed / Skipped / Total] 40 / 15 / 20 / 75:  15%|███▍                   | 75/500 [01:05<06:10,  1.15it/s]textattack: Saving checkpoint under \"checkpoints\\1720235511321.ta.chkpt\" at 2024-07-06 11:11:51 after 75 attacks.\n",
      "[Succeeded / Failed / Skipped / Total] 40 / 15 / 21 / 76:  15%|███▍                   | 76/500 [01:05<06:04,  1.16it/s]"
     ]
    },
    {
     "name": "stdout",
     "output_type": "stream",
     "text": [
      "\n",
      "\n",
      "=============================================================================================================================\n",
      "=============================================================================================================================\n",
      "\n"
     ]
    },
    {
     "name": "stderr",
     "output_type": "stream",
     "text": [
      "[Succeeded / Failed / Skipped / Total] 41 / 17 / 22 / 80:  16%|███▋                   | 80/500 [01:08<06:02,  1.16it/s]textattack: Saving checkpoint under \"checkpoints\\1720235514949.ta.chkpt\" at 2024-07-06 11:11:54 after 80 attacks.\n",
      "[Succeeded / Failed / Skipped / Total] 41 / 17 / 24 / 82:  16%|███▊                   | 82/500 [01:09<05:52,  1.19it/s]"
     ]
    },
    {
     "name": "stdout",
     "output_type": "stream",
     "text": [
      "\n",
      "\n",
      "=============================================================================================================================\n",
      "=============================================================================================================================\n",
      "\n"
     ]
    },
    {
     "name": "stderr",
     "output_type": "stream",
     "text": [
      "[Succeeded / Failed / Skipped / Total] 43 / 17 / 25 / 85:  17%|███▉                   | 85/500 [01:10<05:46,  1.20it/s]textattack: Saving checkpoint under \"checkpoints\\1720235516966.ta.chkpt\" at 2024-07-06 11:11:56 after 85 attacks.\n",
      "[Succeeded / Failed / Skipped / Total] 43 / 17 / 26 / 86:  17%|███▉                   | 86/500 [01:11<05:42,  1.21it/s]"
     ]
    },
    {
     "name": "stdout",
     "output_type": "stream",
     "text": [
      "\n",
      "\n",
      "=============================================================================================================================\n",
      "=============================================================================================================================\n",
      "\n"
     ]
    },
    {
     "name": "stderr",
     "output_type": "stream",
     "text": [
      "[Succeeded / Failed / Skipped / Total] 45 / 17 / 28 / 90:  18%|████▏                  | 90/500 [01:12<05:29,  1.24it/s]textattack: Saving checkpoint under \"checkpoints\\1720235518406.ta.chkpt\" at 2024-07-06 11:11:58 after 90 attacks.\n"
     ]
    },
    {
     "name": "stdout",
     "output_type": "stream",
     "text": [
      "\n",
      "\n",
      "=============================================================================================================================\n",
      "=============================================================================================================================\n",
      "\n"
     ]
    },
    {
     "name": "stderr",
     "output_type": "stream",
     "text": [
      "[Succeeded / Failed / Skipped / Total] 47 / 17 / 31 / 95:  19%|████▎                  | 95/500 [01:13<05:14,  1.29it/s]textattack: Saving checkpoint under \"checkpoints\\1720235519812.ta.chkpt\" at 2024-07-06 11:11:59 after 95 attacks.\n"
     ]
    },
    {
     "name": "stdout",
     "output_type": "stream",
     "text": [
      "\n",
      "\n",
      "=============================================================================================================================\n",
      "=============================================================================================================================\n",
      "\n"
     ]
    },
    {
     "name": "stderr",
     "output_type": "stream",
     "text": [
      "[Succeeded / Failed / Skipped / Total] 49 / 20 / 31 / 100:  20%|████▏                | 100/500 [01:19<05:16,  1.26it/s]textattack: Saving checkpoint under \"checkpoints\\1720235525223.ta.chkpt\" at 2024-07-06 11:12:05 after 100 attacks.\n"
     ]
    },
    {
     "name": "stdout",
     "output_type": "stream",
     "text": [
      "\n",
      "\n",
      "=============================================================================================================================\n",
      "=============================================================================================================================\n",
      "\n"
     ]
    },
    {
     "name": "stderr",
     "output_type": "stream",
     "text": [
      "[Succeeded / Failed / Skipped / Total] 52 / 21 / 32 / 105:  21%|████▍                | 105/500 [01:23<05:15,  1.25it/s]textattack: Saving checkpoint under \"checkpoints\\1720235529874.ta.chkpt\" at 2024-07-06 11:12:09 after 105 attacks.\n",
      "[Succeeded / Failed / Skipped / Total] 52 / 21 / 33 / 106:  21%|████▍                | 106/500 [01:23<05:12,  1.26it/s]"
     ]
    },
    {
     "name": "stdout",
     "output_type": "stream",
     "text": [
      "\n",
      "\n",
      "=============================================================================================================================\n",
      "=============================================================================================================================\n",
      "\n"
     ]
    },
    {
     "name": "stderr",
     "output_type": "stream",
     "text": [
      "[Succeeded / Failed / Skipped / Total] 54 / 22 / 34 / 110:  22%|████▌                | 110/500 [01:26<05:07,  1.27it/s]textattack: Saving checkpoint under \"checkpoints\\1720235532646.ta.chkpt\" at 2024-07-06 11:12:12 after 110 attacks.\n",
      "[Succeeded / Failed / Skipped / Total] 54 / 22 / 35 / 111:  22%|████▋                | 111/500 [01:26<05:03,  1.28it/s]"
     ]
    },
    {
     "name": "stdout",
     "output_type": "stream",
     "text": [
      "\n",
      "\n",
      "=============================================================================================================================\n",
      "=============================================================================================================================\n",
      "\n"
     ]
    },
    {
     "name": "stderr",
     "output_type": "stream",
     "text": [
      "[Succeeded / Failed / Skipped / Total] 56 / 23 / 36 / 115:  23%|████▊                | 115/500 [01:32<05:09,  1.24it/s]textattack: Saving checkpoint under \"checkpoints\\1720235538365.ta.chkpt\" at 2024-07-06 11:12:18 after 115 attacks.\n"
     ]
    },
    {
     "name": "stdout",
     "output_type": "stream",
     "text": [
      "\n",
      "\n",
      "=============================================================================================================================\n",
      "=============================================================================================================================\n",
      "\n"
     ]
    },
    {
     "name": "stderr",
     "output_type": "stream",
     "text": [
      "[Succeeded / Failed / Skipped / Total] 59 / 24 / 37 / 120:  24%|█████                | 120/500 [01:35<05:01,  1.26it/s]textattack: Saving checkpoint under \"checkpoints\\1720235541073.ta.chkpt\" at 2024-07-06 11:12:21 after 120 attacks.\n",
      "[Succeeded / Failed / Skipped / Total] 59 / 24 / 38 / 121:  24%|█████                | 121/500 [01:35<04:58,  1.27it/s]"
     ]
    },
    {
     "name": "stdout",
     "output_type": "stream",
     "text": [
      "\n",
      "\n",
      "=============================================================================================================================\n",
      "=============================================================================================================================\n",
      "\n"
     ]
    },
    {
     "name": "stderr",
     "output_type": "stream",
     "text": [
      "[Succeeded / Failed / Skipped / Total] 61 / 24 / 40 / 125:  25%|█████▎               | 125/500 [01:36<04:48,  1.30it/s]textattack: Saving checkpoint under \"checkpoints\\1720235542021.ta.chkpt\" at 2024-07-06 11:12:22 after 125 attacks.\n"
     ]
    },
    {
     "name": "stdout",
     "output_type": "stream",
     "text": [
      "\n",
      "\n",
      "=============================================================================================================================\n",
      "=============================================================================================================================\n",
      "\n"
     ]
    },
    {
     "name": "stderr",
     "output_type": "stream",
     "text": [
      "[Succeeded / Failed / Skipped / Total] 64 / 25 / 41 / 130:  26%|█████▍               | 130/500 [01:39<04:44,  1.30it/s]textattack: Saving checkpoint under \"checkpoints\\1720235545917.ta.chkpt\" at 2024-07-06 11:12:25 after 130 attacks.\n",
      "[Succeeded / Failed / Skipped / Total] 64 / 25 / 42 / 131:  26%|█████▌               | 131/500 [01:40<04:41,  1.31it/s]"
     ]
    },
    {
     "name": "stdout",
     "output_type": "stream",
     "text": [
      "\n",
      "\n",
      "=============================================================================================================================\n",
      "=============================================================================================================================\n",
      "\n"
     ]
    },
    {
     "name": "stderr",
     "output_type": "stream",
     "text": [
      "[Succeeded / Failed / Skipped / Total] 66 / 26 / 43 / 135:  27%|█████▋               | 135/500 [01:42<04:35,  1.32it/s]textattack: Saving checkpoint under \"checkpoints\\1720235548007.ta.chkpt\" at 2024-07-06 11:12:28 after 135 attacks.\n"
     ]
    },
    {
     "name": "stdout",
     "output_type": "stream",
     "text": [
      "\n",
      "\n",
      "=============================================================================================================================\n",
      "=============================================================================================================================\n",
      "\n"
     ]
    },
    {
     "name": "stderr",
     "output_type": "stream",
     "text": [
      "[Succeeded / Failed / Skipped / Total] 69 / 27 / 44 / 140:  28%|█████▉               | 140/500 [01:45<04:31,  1.32it/s]textattack: Saving checkpoint under \"checkpoints\\1720235551657.ta.chkpt\" at 2024-07-06 11:12:31 after 140 attacks.\n"
     ]
    },
    {
     "name": "stdout",
     "output_type": "stream",
     "text": [
      "\n",
      "\n",
      "=============================================================================================================================\n",
      "=============================================================================================================================\n",
      "\n"
     ]
    },
    {
     "name": "stderr",
     "output_type": "stream",
     "text": [
      "[Succeeded / Failed / Skipped / Total] 73 / 28 / 44 / 145:  29%|██████               | 145/500 [01:50<04:29,  1.32it/s]textattack: Saving checkpoint under \"checkpoints\\1720235556197.ta.chkpt\" at 2024-07-06 11:12:36 after 145 attacks.\n",
      "[Succeeded / Failed / Skipped / Total] 73 / 28 / 45 / 146:  29%|██████▏              | 147/500 [01:50<04:25,  1.33it/s]"
     ]
    },
    {
     "name": "stdout",
     "output_type": "stream",
     "text": [
      "\n",
      "\n",
      "=============================================================================================================================\n",
      "=============================================================================================================================\n",
      "\n"
     ]
    },
    {
     "name": "stderr",
     "output_type": "stream",
     "text": [
      "[Succeeded / Failed / Skipped / Total] 75 / 28 / 47 / 150:  30%|██████▎              | 150/500 [01:51<04:19,  1.35it/s]textattack: Saving checkpoint under \"checkpoints\\1720235557364.ta.chkpt\" at 2024-07-06 11:12:37 after 150 attacks.\n",
      "[Succeeded / Failed / Skipped / Total] 75 / 28 / 49 / 152:  30%|██████▍              | 152/500 [01:51<04:15,  1.36it/s]"
     ]
    },
    {
     "name": "stdout",
     "output_type": "stream",
     "text": [
      "\n",
      "\n",
      "=============================================================================================================================\n",
      "=============================================================================================================================\n",
      "\n"
     ]
    },
    {
     "name": "stderr",
     "output_type": "stream",
     "text": [
      "[Succeeded / Failed / Skipped / Total] 76 / 29 / 50 / 155:  31%|██████▌              | 155/500 [01:52<04:09,  1.38it/s]textattack: Saving checkpoint under \"checkpoints\\1720235558247.ta.chkpt\" at 2024-07-06 11:12:38 after 155 attacks.\n"
     ]
    },
    {
     "name": "stdout",
     "output_type": "stream",
     "text": [
      "\n",
      "\n",
      "=============================================================================================================================\n",
      "=============================================================================================================================\n",
      "\n"
     ]
    },
    {
     "name": "stderr",
     "output_type": "stream",
     "text": [
      "[Succeeded / Failed / Skipped / Total] 78 / 31 / 51 / 160:  32%|██████▋              | 160/500 [01:59<04:14,  1.34it/s]textattack: Saving checkpoint under \"checkpoints\\1720235565810.ta.chkpt\" at 2024-07-06 11:12:45 after 160 attacks.\n",
      "[Succeeded / Failed / Skipped / Total] 78 / 31 / 52 / 161:  32%|██████▊              | 161/500 [01:59<04:12,  1.34it/s]"
     ]
    },
    {
     "name": "stdout",
     "output_type": "stream",
     "text": [
      "\n",
      "\n",
      "=============================================================================================================================\n",
      "=============================================================================================================================\n",
      "\n"
     ]
    },
    {
     "name": "stderr",
     "output_type": "stream",
     "text": [
      "[Succeeded / Failed / Skipped / Total] 81 / 31 / 53 / 165:  33%|██████▉              | 165/500 [02:01<04:07,  1.35it/s]textattack: Saving checkpoint under \"checkpoints\\1720235567794.ta.chkpt\" at 2024-07-06 11:12:47 after 165 attacks.\n",
      "[Succeeded / Failed / Skipped / Total] 81 / 31 / 55 / 167:  33%|███████              | 167/500 [02:01<04:03,  1.37it/s]"
     ]
    },
    {
     "name": "stdout",
     "output_type": "stream",
     "text": [
      "\n",
      "\n",
      "=============================================================================================================================\n",
      "=============================================================================================================================\n",
      "\n"
     ]
    },
    {
     "name": "stderr",
     "output_type": "stream",
     "text": [
      "[Succeeded / Failed / Skipped / Total] 84 / 31 / 55 / 170:  34%|███████▏             | 170/500 [02:03<04:00,  1.37it/s]textattack: Saving checkpoint under \"checkpoints\\1720235569985.ta.chkpt\" at 2024-07-06 11:12:49 after 170 attacks.\n"
     ]
    },
    {
     "name": "stdout",
     "output_type": "stream",
     "text": [
      "\n",
      "\n",
      "=============================================================================================================================\n",
      "=============================================================================================================================\n",
      "\n"
     ]
    },
    {
     "name": "stderr",
     "output_type": "stream",
     "text": [
      "[Succeeded / Failed / Skipped / Total] 85 / 33 / 57 / 175:  35%|███████▎             | 175/500 [02:11<04:03,  1.33it/s]textattack: Saving checkpoint under \"checkpoints\\1720235577367.ta.chkpt\" at 2024-07-06 11:12:57 after 175 attacks.\n"
     ]
    },
    {
     "name": "stdout",
     "output_type": "stream",
     "text": [
      "\n",
      "\n",
      "=============================================================================================================================\n",
      "=============================================================================================================================\n",
      "\n"
     ]
    },
    {
     "name": "stderr",
     "output_type": "stream",
     "text": [
      "[Succeeded / Failed / Skipped / Total] 87 / 35 / 58 / 180:  36%|███████▌             | 180/500 [02:16<04:02,  1.32it/s]textattack: Saving checkpoint under \"checkpoints\\1720235582193.ta.chkpt\" at 2024-07-06 11:13:02 after 180 attacks.\n"
     ]
    },
    {
     "name": "stdout",
     "output_type": "stream",
     "text": [
      "\n",
      "\n",
      "=============================================================================================================================\n",
      "=============================================================================================================================\n",
      "\n"
     ]
    },
    {
     "name": "stderr",
     "output_type": "stream",
     "text": [
      "[Succeeded / Failed / Skipped / Total] 90 / 36 / 59 / 185:  37%|███████▊             | 185/500 [02:18<03:55,  1.34it/s]textattack: Saving checkpoint under \"checkpoints\\1720235584374.ta.chkpt\" at 2024-07-06 11:13:04 after 185 attacks.\n"
     ]
    },
    {
     "name": "stdout",
     "output_type": "stream",
     "text": [
      "\n",
      "\n",
      "=============================================================================================================================\n",
      "=============================================================================================================================\n",
      "\n"
     ]
    },
    {
     "name": "stderr",
     "output_type": "stream",
     "text": [
      "[Succeeded / Failed / Skipped / Total] 93 / 36 / 61 / 190:  38%|███████▉             | 190/500 [02:21<03:50,  1.35it/s]textattack: Saving checkpoint under \"checkpoints\\1720235587045.ta.chkpt\" at 2024-07-06 11:13:07 after 190 attacks.\n"
     ]
    },
    {
     "name": "stdout",
     "output_type": "stream",
     "text": [
      "\n",
      "\n",
      "=============================================================================================================================\n",
      "=============================================================================================================================\n",
      "\n"
     ]
    },
    {
     "name": "stderr",
     "output_type": "stream",
     "text": [
      "[Succeeded / Failed / Skipped / Total] 96 / 38 / 61 / 195:  39%|████████▏            | 195/500 [02:31<03:56,  1.29it/s]textattack: Saving checkpoint under \"checkpoints\\1720235597417.ta.chkpt\" at 2024-07-06 11:13:17 after 195 attacks.\n"
     ]
    },
    {
     "name": "stdout",
     "output_type": "stream",
     "text": [
      "\n",
      "\n",
      "=============================================================================================================================\n",
      "=============================================================================================================================\n",
      "\n"
     ]
    },
    {
     "name": "stderr",
     "output_type": "stream",
     "text": [
      "[Succeeded / Failed / Skipped / Total] 98 / 40 / 62 / 200:  40%|████████▍            | 200/500 [02:43<04:05,  1.22it/s]textattack: Saving checkpoint under \"checkpoints\\1720235609369.ta.chkpt\" at 2024-07-06 11:13:29 after 200 attacks.\n"
     ]
    },
    {
     "name": "stdout",
     "output_type": "stream",
     "text": [
      "\n",
      "\n",
      "=============================================================================================================================\n",
      "=============================================================================================================================\n",
      "\n"
     ]
    },
    {
     "name": "stderr",
     "output_type": "stream",
     "text": [
      "[Succeeded / Failed / Skipped / Total] 100 / 41 / 64 / 205:  41%|████████▏           | 205/500 [02:45<03:58,  1.24it/s]textattack: Saving checkpoint under \"checkpoints\\1720235611804.ta.chkpt\" at 2024-07-06 11:13:31 after 205 attacks.\n"
     ]
    },
    {
     "name": "stdout",
     "output_type": "stream",
     "text": [
      "\n",
      "\n",
      "=============================================================================================================================\n",
      "=============================================================================================================================\n",
      "\n"
     ]
    },
    {
     "name": "stderr",
     "output_type": "stream",
     "text": [
      "[Succeeded / Failed / Skipped / Total] 103 / 41 / 66 / 210:  42%|████████▍           | 210/500 [02:49<03:53,  1.24it/s]textattack: Saving checkpoint under \"checkpoints\\1720235615125.ta.chkpt\" at 2024-07-06 11:13:35 after 210 attacks.\n"
     ]
    },
    {
     "name": "stdout",
     "output_type": "stream",
     "text": [
      "\n",
      "\n",
      "=============================================================================================================================\n",
      "=============================================================================================================================\n",
      "\n"
     ]
    },
    {
     "name": "stderr",
     "output_type": "stream",
     "text": [
      "[Succeeded / Failed / Skipped / Total] 106 / 43 / 66 / 215:  43%|████████▌           | 215/500 [02:55<03:52,  1.23it/s]textattack: Saving checkpoint under \"checkpoints\\1720235621424.ta.chkpt\" at 2024-07-06 11:13:41 after 215 attacks.\n"
     ]
    },
    {
     "name": "stdout",
     "output_type": "stream",
     "text": [
      "\n",
      "\n",
      "=============================================================================================================================\n",
      "=============================================================================================================================\n",
      "\n"
     ]
    },
    {
     "name": "stderr",
     "output_type": "stream",
     "text": [
      "[Succeeded / Failed / Skipped / Total] 108 / 44 / 68 / 220:  44%|████████▊           | 220/500 [02:59<03:48,  1.23it/s]textattack: Saving checkpoint under \"checkpoints\\1720235625417.ta.chkpt\" at 2024-07-06 11:13:45 after 220 attacks.\n"
     ]
    },
    {
     "name": "stdout",
     "output_type": "stream",
     "text": [
      "\n",
      "\n",
      "=============================================================================================================================\n",
      "=============================================================================================================================\n",
      "\n"
     ]
    },
    {
     "name": "stderr",
     "output_type": "stream",
     "text": [
      "[Succeeded / Failed / Skipped / Total] 112 / 44 / 69 / 225:  45%|█████████           | 225/500 [03:02<03:43,  1.23it/s]textattack: Saving checkpoint under \"checkpoints\\1720235628869.ta.chkpt\" at 2024-07-06 11:13:48 after 225 attacks.\n"
     ]
    },
    {
     "name": "stdout",
     "output_type": "stream",
     "text": [
      "\n",
      "\n",
      "=============================================================================================================================\n",
      "=============================================================================================================================\n",
      "\n"
     ]
    },
    {
     "name": "stderr",
     "output_type": "stream",
     "text": [
      "[Succeeded / Failed / Skipped / Total] 115 / 45 / 70 / 230:  46%|█████████▏          | 230/500 [03:05<03:37,  1.24it/s]textattack: Saving checkpoint under \"checkpoints\\1720235631522.ta.chkpt\" at 2024-07-06 11:13:51 after 230 attacks.\n"
     ]
    },
    {
     "name": "stdout",
     "output_type": "stream",
     "text": [
      "\n",
      "\n",
      "=============================================================================================================================\n",
      "=============================================================================================================================\n",
      "\n"
     ]
    },
    {
     "name": "stderr",
     "output_type": "stream",
     "text": [
      "[Succeeded / Failed / Skipped / Total] 119 / 46 / 70 / 235:  47%|█████████▍          | 235/500 [03:12<03:36,  1.22it/s]textattack: Saving checkpoint under \"checkpoints\\1720235638037.ta.chkpt\" at 2024-07-06 11:13:58 after 235 attacks.\n"
     ]
    },
    {
     "name": "stdout",
     "output_type": "stream",
     "text": [
      "\n",
      "\n",
      "=============================================================================================================================\n",
      "=============================================================================================================================\n",
      "\n"
     ]
    },
    {
     "name": "stderr",
     "output_type": "stream",
     "text": [
      "[Succeeded / Failed / Skipped / Total] 123 / 47 / 70 / 240:  48%|█████████▌          | 240/500 [03:16<03:32,  1.22it/s]textattack: Saving checkpoint under \"checkpoints\\1720235642228.ta.chkpt\" at 2024-07-06 11:14:02 after 240 attacks.\n",
      "[Succeeded / Failed / Skipped / Total] 123 / 47 / 71 / 241:  48%|█████████▋          | 241/500 [03:16<03:30,  1.23it/s]"
     ]
    },
    {
     "name": "stdout",
     "output_type": "stream",
     "text": [
      "\n",
      "\n",
      "=============================================================================================================================\n",
      "=============================================================================================================================\n",
      "\n"
     ]
    },
    {
     "name": "stderr",
     "output_type": "stream",
     "text": [
      "[Succeeded / Failed / Skipped / Total] 125 / 48 / 72 / 245:  49%|█████████▊          | 245/500 [03:20<03:28,  1.22it/s]textattack: Saving checkpoint under \"checkpoints\\1720235646278.ta.chkpt\" at 2024-07-06 11:14:06 after 245 attacks.\n"
     ]
    },
    {
     "name": "stdout",
     "output_type": "stream",
     "text": [
      "\n",
      "\n",
      "=============================================================================================================================\n",
      "=============================================================================================================================\n",
      "\n"
     ]
    },
    {
     "name": "stderr",
     "output_type": "stream",
     "text": [
      "[Succeeded / Failed / Skipped / Total] 129 / 48 / 73 / 250:  50%|██████████          | 250/500 [03:22<03:22,  1.23it/s]textattack: Saving checkpoint under \"checkpoints\\1720235648896.ta.chkpt\" at 2024-07-06 11:14:08 after 250 attacks.\n"
     ]
    },
    {
     "name": "stdout",
     "output_type": "stream",
     "text": [
      "\n",
      "\n",
      "=============================================================================================================================\n",
      "=============================================================================================================================\n",
      "\n"
     ]
    },
    {
     "name": "stderr",
     "output_type": "stream",
     "text": [
      "[Succeeded / Failed / Skipped / Total] 134 / 48 / 73 / 255:  51%|██████████▏         | 255/500 [03:26<03:18,  1.24it/s]textattack: Saving checkpoint under \"checkpoints\\1720235652296.ta.chkpt\" at 2024-07-06 11:14:12 after 255 attacks.\n"
     ]
    },
    {
     "name": "stdout",
     "output_type": "stream",
     "text": [
      "\n",
      "\n",
      "=============================================================================================================================\n",
      "=============================================================================================================================\n",
      "\n"
     ]
    },
    {
     "name": "stderr",
     "output_type": "stream",
     "text": [
      "[Succeeded / Failed / Skipped / Total] 137 / 48 / 75 / 260:  52%|██████████▍         | 260/500 [03:29<03:13,  1.24it/s]textattack: Saving checkpoint under \"checkpoints\\1720235655642.ta.chkpt\" at 2024-07-06 11:14:15 after 260 attacks.\n"
     ]
    },
    {
     "name": "stdout",
     "output_type": "stream",
     "text": [
      "\n",
      "\n",
      "=============================================================================================================================\n",
      "=============================================================================================================================\n",
      "\n"
     ]
    },
    {
     "name": "stderr",
     "output_type": "stream",
     "text": [
      "[Succeeded / Failed / Skipped / Total] 141 / 49 / 75 / 265:  53%|██████████▌         | 265/500 [03:33<03:09,  1.24it/s]textattack: Saving checkpoint under \"checkpoints\\1720235659146.ta.chkpt\" at 2024-07-06 11:14:19 after 265 attacks.\n"
     ]
    },
    {
     "name": "stdout",
     "output_type": "stream",
     "text": [
      "\n",
      "\n",
      "=============================================================================================================================\n",
      "=============================================================================================================================\n",
      "\n"
     ]
    },
    {
     "name": "stderr",
     "output_type": "stream",
     "text": [
      "[Succeeded / Failed / Skipped / Total] 143 / 51 / 76 / 270:  54%|██████████▊         | 270/500 [03:40<03:07,  1.22it/s]textattack: Saving checkpoint under \"checkpoints\\1720235666686.ta.chkpt\" at 2024-07-06 11:14:26 after 270 attacks.\n",
      "[Succeeded / Failed / Skipped / Total] 143 / 51 / 78 / 272:  54%|██████████▉         | 272/500 [03:40<03:05,  1.23it/s]"
     ]
    },
    {
     "name": "stdout",
     "output_type": "stream",
     "text": [
      "\n",
      "\n",
      "=============================================================================================================================\n",
      "=============================================================================================================================\n",
      "\n"
     ]
    },
    {
     "name": "stderr",
     "output_type": "stream",
     "text": [
      "[Succeeded / Failed / Skipped / Total] 144 / 51 / 80 / 275:  55%|███████████         | 275/500 [03:41<03:01,  1.24it/s]textattack: Saving checkpoint under \"checkpoints\\1720235667725.ta.chkpt\" at 2024-07-06 11:14:27 after 275 attacks.\n"
     ]
    },
    {
     "name": "stdout",
     "output_type": "stream",
     "text": [
      "\n",
      "\n",
      "=============================================================================================================================\n",
      "=============================================================================================================================\n",
      "\n"
     ]
    },
    {
     "name": "stderr",
     "output_type": "stream",
     "text": [
      "[Succeeded / Failed / Skipped / Total] 147 / 51 / 82 / 280:  56%|███████████▏        | 280/500 [03:43<02:55,  1.25it/s]textattack: Saving checkpoint under \"checkpoints\\1720235669274.ta.chkpt\" at 2024-07-06 11:14:29 after 280 attacks.\n"
     ]
    },
    {
     "name": "stdout",
     "output_type": "stream",
     "text": [
      "\n",
      "\n",
      "=============================================================================================================================\n",
      "=============================================================================================================================\n",
      "\n"
     ]
    },
    {
     "name": "stderr",
     "output_type": "stream",
     "text": [
      "[Succeeded / Failed / Skipped / Total] 150 / 52 / 83 / 285:  57%|███████████▍        | 285/500 [03:46<02:50,  1.26it/s]textattack: Saving checkpoint under \"checkpoints\\1720235672299.ta.chkpt\" at 2024-07-06 11:14:32 after 285 attacks.\n"
     ]
    },
    {
     "name": "stdout",
     "output_type": "stream",
     "text": [
      "\n",
      "\n",
      "=============================================================================================================================\n",
      "=============================================================================================================================\n",
      "\n"
     ]
    },
    {
     "name": "stderr",
     "output_type": "stream",
     "text": [
      "[Succeeded / Failed / Skipped / Total] 155 / 52 / 83 / 290:  58%|███████████▌        | 290/500 [03:50<02:46,  1.26it/s]textattack: Saving checkpoint under \"checkpoints\\1720235676458.ta.chkpt\" at 2024-07-06 11:14:36 after 290 attacks.\n",
      "[Succeeded / Failed / Skipped / Total] 155 / 52 / 84 / 291:  58%|███████████▋        | 291/500 [03:50<02:45,  1.26it/s]"
     ]
    },
    {
     "name": "stdout",
     "output_type": "stream",
     "text": [
      "\n",
      "\n",
      "=============================================================================================================================\n",
      "=============================================================================================================================\n",
      "\n"
     ]
    },
    {
     "name": "stderr",
     "output_type": "stream",
     "text": [
      "[Succeeded / Failed / Skipped / Total] 157 / 53 / 85 / 295:  59%|███████████▊        | 295/500 [03:53<02:42,  1.26it/s]textattack: Saving checkpoint under \"checkpoints\\1720235679928.ta.chkpt\" at 2024-07-06 11:14:39 after 295 attacks.\n"
     ]
    },
    {
     "name": "stdout",
     "output_type": "stream",
     "text": [
      "\n",
      "\n",
      "=============================================================================================================================\n",
      "=============================================================================================================================\n",
      "\n"
     ]
    },
    {
     "name": "stderr",
     "output_type": "stream",
     "text": [
      "[Succeeded / Failed / Skipped / Total] 159 / 54 / 87 / 300:  60%|████████████        | 300/500 [03:56<02:37,  1.27it/s]textattack: Saving checkpoint under \"checkpoints\\1720235682694.ta.chkpt\" at 2024-07-06 11:14:42 after 300 attacks.\n"
     ]
    },
    {
     "name": "stdout",
     "output_type": "stream",
     "text": [
      "\n",
      "\n",
      "=============================================================================================================================\n",
      "=============================================================================================================================\n",
      "\n"
     ]
    },
    {
     "name": "stderr",
     "output_type": "stream",
     "text": [
      "[Succeeded / Failed / Skipped / Total] 162 / 55 / 88 / 305:  61%|████████████▏       | 305/500 [04:00<02:33,  1.27it/s]textattack: Saving checkpoint under \"checkpoints\\1720235686482.ta.chkpt\" at 2024-07-06 11:14:46 after 305 attacks.\n"
     ]
    },
    {
     "name": "stdout",
     "output_type": "stream",
     "text": [
      "\n",
      "\n",
      "=============================================================================================================================\n",
      "=============================================================================================================================\n",
      "\n"
     ]
    },
    {
     "name": "stderr",
     "output_type": "stream",
     "text": [
      "[Succeeded / Failed / Skipped / Total] 163 / 58 / 89 / 310:  62%|████████████▍       | 310/500 [04:02<02:28,  1.28it/s]textattack: Saving checkpoint under \"checkpoints\\1720235688910.ta.chkpt\" at 2024-07-06 11:14:48 after 310 attacks.\n"
     ]
    },
    {
     "name": "stdout",
     "output_type": "stream",
     "text": [
      "\n",
      "\n",
      "=============================================================================================================================\n",
      "=============================================================================================================================\n",
      "\n"
     ]
    },
    {
     "name": "stderr",
     "output_type": "stream",
     "text": [
      "[Succeeded / Failed / Skipped / Total] 166 / 59 / 90 / 315:  63%|████████████▌       | 315/500 [04:05<02:24,  1.28it/s]textattack: Saving checkpoint under \"checkpoints\\1720235691471.ta.chkpt\" at 2024-07-06 11:14:51 after 315 attacks.\n"
     ]
    },
    {
     "name": "stdout",
     "output_type": "stream",
     "text": [
      "\n",
      "\n",
      "=============================================================================================================================\n",
      "=============================================================================================================================\n",
      "\n"
     ]
    },
    {
     "name": "stderr",
     "output_type": "stream",
     "text": [
      "[Succeeded / Failed / Skipped / Total] 167 / 61 / 92 / 320:  64%|████████████▊       | 320/500 [04:10<02:20,  1.28it/s]textattack: Saving checkpoint under \"checkpoints\\1720235696492.ta.chkpt\" at 2024-07-06 11:14:56 after 320 attacks.\n"
     ]
    },
    {
     "name": "stdout",
     "output_type": "stream",
     "text": [
      "\n",
      "\n",
      "=============================================================================================================================\n",
      "=============================================================================================================================\n",
      "\n"
     ]
    },
    {
     "name": "stderr",
     "output_type": "stream",
     "text": [
      "[Succeeded / Failed / Skipped / Total] 169 / 64 / 92 / 325:  65%|█████████████       | 325/500 [04:20<02:20,  1.25it/s]textattack: Saving checkpoint under \"checkpoints\\1720235706073.ta.chkpt\" at 2024-07-06 11:15:06 after 325 attacks.\n"
     ]
    },
    {
     "name": "stdout",
     "output_type": "stream",
     "text": [
      "\n",
      "\n",
      "=============================================================================================================================\n",
      "=============================================================================================================================\n",
      "\n"
     ]
    },
    {
     "name": "stderr",
     "output_type": "stream",
     "text": [
      "[Succeeded / Failed / Skipped / Total] 173 / 65 / 92 / 330:  66%|█████████████▏      | 330/500 [04:23<02:15,  1.25it/s]textattack: Saving checkpoint under \"checkpoints\\1720235709879.ta.chkpt\" at 2024-07-06 11:15:09 after 330 attacks.\n"
     ]
    },
    {
     "name": "stdout",
     "output_type": "stream",
     "text": [
      "\n",
      "\n",
      "=============================================================================================================================\n",
      "=============================================================================================================================\n",
      "\n"
     ]
    },
    {
     "name": "stderr",
     "output_type": "stream",
     "text": [
      "[Succeeded / Failed / Skipped / Total] 174 / 68 / 93 / 335:  67%|█████████████▍      | 335/500 [04:31<02:13,  1.24it/s]textattack: Saving checkpoint under \"checkpoints\\1720235717189.ta.chkpt\" at 2024-07-06 11:15:17 after 335 attacks.\n",
      "[Succeeded / Failed / Skipped / Total] 174 / 68 / 94 / 336:  67%|█████████████▍      | 336/500 [04:31<02:12,  1.24it/s]"
     ]
    },
    {
     "name": "stdout",
     "output_type": "stream",
     "text": [
      "\n",
      "\n",
      "=============================================================================================================================\n",
      "=============================================================================================================================\n",
      "\n"
     ]
    },
    {
     "name": "stderr",
     "output_type": "stream",
     "text": [
      "[Succeeded / Failed / Skipped / Total] 176 / 69 / 95 / 340:  68%|█████████████▌      | 340/500 [04:35<02:09,  1.24it/s]textattack: Saving checkpoint under \"checkpoints\\1720235721224.ta.chkpt\" at 2024-07-06 11:15:21 after 340 attacks.\n"
     ]
    },
    {
     "name": "stdout",
     "output_type": "stream",
     "text": [
      "\n",
      "\n",
      "=============================================================================================================================\n",
      "=============================================================================================================================\n",
      "\n"
     ]
    },
    {
     "name": "stderr",
     "output_type": "stream",
     "text": [
      "[Succeeded / Failed / Skipped / Total] 178 / 70 / 97 / 345:  69%|█████████████▊      | 345/500 [04:39<02:05,  1.24it/s]textattack: Saving checkpoint under \"checkpoints\\1720235725115.ta.chkpt\" at 2024-07-06 11:15:25 after 345 attacks.\n"
     ]
    },
    {
     "name": "stdout",
     "output_type": "stream",
     "text": [
      "\n",
      "\n",
      "=============================================================================================================================\n",
      "=============================================================================================================================\n",
      "\n"
     ]
    },
    {
     "name": "stderr",
     "output_type": "stream",
     "text": [
      "[Succeeded / Failed / Skipped / Total] 182 / 70 / 98 / 350:  70%|██████████████      | 350/500 [04:42<02:00,  1.24it/s]textattack: Saving checkpoint under \"checkpoints\\1720235728018.ta.chkpt\" at 2024-07-06 11:15:28 after 350 attacks.\n"
     ]
    },
    {
     "name": "stdout",
     "output_type": "stream",
     "text": [
      "\n",
      "\n",
      "=============================================================================================================================\n",
      "=============================================================================================================================\n",
      "\n"
     ]
    },
    {
     "name": "stderr",
     "output_type": "stream",
     "text": [
      "[Succeeded / Failed / Skipped / Total] 185 / 72 / 98 / 355:  71%|██████████████▏     | 355/500 [04:48<01:57,  1.23it/s]textattack: Saving checkpoint under \"checkpoints\\1720235734747.ta.chkpt\" at 2024-07-06 11:15:34 after 355 attacks.\n",
      "[Succeeded / Failed / Skipped / Total] 185 / 72 / 99 / 356:  71%|██████████████▏     | 356/500 [04:48<01:56,  1.23it/s]"
     ]
    },
    {
     "name": "stdout",
     "output_type": "stream",
     "text": [
      "\n",
      "\n",
      "=============================================================================================================================\n",
      "=============================================================================================================================\n",
      "\n"
     ]
    },
    {
     "name": "stderr",
     "output_type": "stream",
     "text": [
      "[Succeeded / Failed / Skipped / Total] 187 / 73 / 100 / 360:  72%|█████████████▋     | 360/500 [04:52<01:53,  1.23it/s]textattack: Saving checkpoint under \"checkpoints\\1720235738343.ta.chkpt\" at 2024-07-06 11:15:38 after 360 attacks.\n"
     ]
    },
    {
     "name": "stdout",
     "output_type": "stream",
     "text": [
      "\n",
      "\n",
      "=============================================================================================================================\n",
      "=============================================================================================================================\n",
      "\n"
     ]
    },
    {
     "name": "stderr",
     "output_type": "stream",
     "text": [
      "[Succeeded / Failed / Skipped / Total] 192 / 73 / 100 / 365:  73%|█████████████▊     | 365/500 [04:56<01:49,  1.23it/s]textattack: Saving checkpoint under \"checkpoints\\1720235742755.ta.chkpt\" at 2024-07-06 11:15:42 after 365 attacks.\n"
     ]
    },
    {
     "name": "stdout",
     "output_type": "stream",
     "text": [
      "\n",
      "\n",
      "=============================================================================================================================\n",
      "=============================================================================================================================\n",
      "\n"
     ]
    },
    {
     "name": "stderr",
     "output_type": "stream",
     "text": [
      "[Succeeded / Failed / Skipped / Total] 196 / 73 / 101 / 370:  74%|██████████████     | 370/500 [04:59<01:45,  1.24it/s]textattack: Saving checkpoint under \"checkpoints\\1720235745268.ta.chkpt\" at 2024-07-06 11:15:45 after 370 attacks.\n",
      "[Succeeded / Failed / Skipped / Total] 196 / 73 / 102 / 371:  74%|██████████████     | 371/500 [04:59<01:44,  1.24it/s]"
     ]
    },
    {
     "name": "stdout",
     "output_type": "stream",
     "text": [
      "\n",
      "\n",
      "=============================================================================================================================\n",
      "=============================================================================================================================\n",
      "\n"
     ]
    },
    {
     "name": "stderr",
     "output_type": "stream",
     "text": [
      "[Succeeded / Failed / Skipped / Total] 198 / 75 / 102 / 375:  75%|██████████████▎    | 375/500 [05:04<01:41,  1.23it/s]textattack: Saving checkpoint under \"checkpoints\\1720235750658.ta.chkpt\" at 2024-07-06 11:15:50 after 375 attacks.\n"
     ]
    },
    {
     "name": "stdout",
     "output_type": "stream",
     "text": [
      "\n",
      "\n",
      "=============================================================================================================================\n",
      "=============================================================================================================================\n",
      "\n"
     ]
    },
    {
     "name": "stderr",
     "output_type": "stream",
     "text": [
      "[Succeeded / Failed / Skipped / Total] 201 / 75 / 104 / 380:  76%|██████████████▍    | 380/500 [05:06<01:36,  1.24it/s]textattack: Saving checkpoint under \"checkpoints\\1720235752494.ta.chkpt\" at 2024-07-06 11:15:52 after 380 attacks.\n"
     ]
    },
    {
     "name": "stdout",
     "output_type": "stream",
     "text": [
      "\n",
      "\n",
      "=============================================================================================================================\n",
      "=============================================================================================================================\n",
      "\n"
     ]
    },
    {
     "name": "stderr",
     "output_type": "stream",
     "text": [
      "[Succeeded / Failed / Skipped / Total] 203 / 77 / 105 / 385:  77%|██████████████▋    | 385/500 [05:12<01:33,  1.23it/s]textattack: Saving checkpoint under \"checkpoints\\1720235758915.ta.chkpt\" at 2024-07-06 11:15:58 after 385 attacks.\n"
     ]
    },
    {
     "name": "stdout",
     "output_type": "stream",
     "text": [
      "\n",
      "\n",
      "=============================================================================================================================\n",
      "=============================================================================================================================\n",
      "\n"
     ]
    },
    {
     "name": "stderr",
     "output_type": "stream",
     "text": [
      "[Succeeded / Failed / Skipped / Total] 206 / 78 / 106 / 390:  78%|██████████████▊    | 390/500 [05:15<01:28,  1.24it/s]textattack: Saving checkpoint under \"checkpoints\\1720235761537.ta.chkpt\" at 2024-07-06 11:16:01 after 390 attacks.\n"
     ]
    },
    {
     "name": "stdout",
     "output_type": "stream",
     "text": [
      "\n",
      "\n",
      "=============================================================================================================================\n",
      "=============================================================================================================================\n",
      "\n"
     ]
    },
    {
     "name": "stderr",
     "output_type": "stream",
     "text": [
      "[Succeeded / Failed / Skipped / Total] 210 / 79 / 106 / 395:  79%|███████████████    | 395/500 [05:23<01:25,  1.22it/s]textattack: Saving checkpoint under \"checkpoints\\1720235769003.ta.chkpt\" at 2024-07-06 11:16:09 after 395 attacks.\n"
     ]
    },
    {
     "name": "stdout",
     "output_type": "stream",
     "text": [
      "\n",
      "\n",
      "=============================================================================================================================\n",
      "=============================================================================================================================\n",
      "\n"
     ]
    },
    {
     "name": "stderr",
     "output_type": "stream",
     "text": [
      "[Succeeded / Failed / Skipped / Total] 215 / 79 / 106 / 400:  80%|███████████████▏   | 400/500 [05:27<01:21,  1.22it/s]textattack: Saving checkpoint under \"checkpoints\\1720235773407.ta.chkpt\" at 2024-07-06 11:16:13 after 400 attacks.\n"
     ]
    },
    {
     "name": "stdout",
     "output_type": "stream",
     "text": [
      "\n",
      "\n",
      "=============================================================================================================================\n",
      "=============================================================================================================================\n",
      "\n"
     ]
    },
    {
     "name": "stderr",
     "output_type": "stream",
     "text": [
      "[Succeeded / Failed / Skipped / Total] 217 / 81 / 107 / 405:  81%|███████████████▍   | 405/500 [05:32<01:18,  1.22it/s]textattack: Saving checkpoint under \"checkpoints\\1720235778831.ta.chkpt\" at 2024-07-06 11:16:18 after 405 attacks.\n"
     ]
    },
    {
     "name": "stdout",
     "output_type": "stream",
     "text": [
      "\n",
      "\n",
      "=============================================================================================================================\n",
      "=============================================================================================================================\n",
      "\n"
     ]
    },
    {
     "name": "stderr",
     "output_type": "stream",
     "text": [
      "[Succeeded / Failed / Skipped / Total] 221 / 81 / 108 / 410:  82%|███████████████▌   | 410/500 [05:36<01:13,  1.22it/s]textattack: Saving checkpoint under \"checkpoints\\1720235782039.ta.chkpt\" at 2024-07-06 11:16:22 after 410 attacks.\n"
     ]
    },
    {
     "name": "stdout",
     "output_type": "stream",
     "text": [
      "\n",
      "\n",
      "=============================================================================================================================\n",
      "=============================================================================================================================\n",
      "\n"
     ]
    },
    {
     "name": "stderr",
     "output_type": "stream",
     "text": [
      "[Succeeded / Failed / Skipped / Total] 224 / 81 / 110 / 415:  83%|███████████████▊   | 415/500 [05:37<01:09,  1.23it/s]textattack: Saving checkpoint under \"checkpoints\\1720235783839.ta.chkpt\" at 2024-07-06 11:16:23 after 415 attacks.\n"
     ]
    },
    {
     "name": "stdout",
     "output_type": "stream",
     "text": [
      "\n",
      "\n",
      "=============================================================================================================================\n",
      "=============================================================================================================================\n",
      "\n"
     ]
    },
    {
     "name": "stderr",
     "output_type": "stream",
     "text": [
      "[Succeeded / Failed / Skipped / Total] 225 / 82 / 113 / 420:  84%|███████████████▉   | 420/500 [05:43<01:05,  1.22it/s]textattack: Saving checkpoint under \"checkpoints\\1720235789328.ta.chkpt\" at 2024-07-06 11:16:29 after 420 attacks.\n"
     ]
    },
    {
     "name": "stdout",
     "output_type": "stream",
     "text": [
      "\n",
      "\n",
      "=============================================================================================================================\n",
      "=============================================================================================================================\n",
      "\n"
     ]
    },
    {
     "name": "stderr",
     "output_type": "stream",
     "text": [
      "[Succeeded / Failed / Skipped / Total] 230 / 82 / 113 / 425:  85%|████████████████▏  | 425/500 [05:46<01:01,  1.23it/s]textattack: Saving checkpoint under \"checkpoints\\1720235792377.ta.chkpt\" at 2024-07-06 11:16:32 after 425 attacks.\n"
     ]
    },
    {
     "name": "stdout",
     "output_type": "stream",
     "text": [
      "\n",
      "\n",
      "=============================================================================================================================\n",
      "=============================================================================================================================\n",
      "\n"
     ]
    },
    {
     "name": "stderr",
     "output_type": "stream",
     "text": [
      "[Succeeded / Failed / Skipped / Total] 230 / 85 / 115 / 430:  86%|████████████████▎  | 430/500 [05:53<00:57,  1.22it/s]textattack: Saving checkpoint under \"checkpoints\\1720235799415.ta.chkpt\" at 2024-07-06 11:16:39 after 430 attacks.\n",
      "[Succeeded / Failed / Skipped / Total] 230 / 85 / 116 / 431:  86%|████████████████▍  | 431/500 [05:53<00:56,  1.22it/s]"
     ]
    },
    {
     "name": "stdout",
     "output_type": "stream",
     "text": [
      "\n",
      "\n",
      "=============================================================================================================================\n",
      "=============================================================================================================================\n",
      "\n"
     ]
    },
    {
     "name": "stderr",
     "output_type": "stream",
     "text": [
      "[Succeeded / Failed / Skipped / Total] 232 / 85 / 118 / 435:  87%|████████████████▌  | 435/500 [05:55<00:53,  1.23it/s]textattack: Saving checkpoint under \"checkpoints\\1720235801033.ta.chkpt\" at 2024-07-06 11:16:41 after 435 attacks.\n"
     ]
    },
    {
     "name": "stdout",
     "output_type": "stream",
     "text": [
      "\n",
      "\n",
      "=============================================================================================================================\n",
      "=============================================================================================================================\n",
      "\n"
     ]
    },
    {
     "name": "stderr",
     "output_type": "stream",
     "text": [
      "[Succeeded / Failed / Skipped / Total] 232 / 90 / 118 / 440:  88%|████████████████▋  | 440/500 [06:06<00:49,  1.20it/s]textattack: Saving checkpoint under \"checkpoints\\1720235812364.ta.chkpt\" at 2024-07-06 11:16:52 after 440 attacks.\n",
      "[Succeeded / Failed / Skipped / Total] 232 / 90 / 119 / 441:  88%|████████████████▊  | 441/500 [06:06<00:49,  1.20it/s]"
     ]
    },
    {
     "name": "stdout",
     "output_type": "stream",
     "text": [
      "\n",
      "\n",
      "=============================================================================================================================\n",
      "=============================================================================================================================\n",
      "\n"
     ]
    },
    {
     "name": "stderr",
     "output_type": "stream",
     "text": [
      "[Succeeded / Failed / Skipped / Total] 235 / 90 / 120 / 445:  89%|████████████████▉  | 445/500 [06:08<00:45,  1.21it/s]textattack: Saving checkpoint under \"checkpoints\\1720235814711.ta.chkpt\" at 2024-07-06 11:16:54 after 445 attacks.\n"
     ]
    },
    {
     "name": "stdout",
     "output_type": "stream",
     "text": [
      "\n",
      "\n",
      "=============================================================================================================================\n",
      "=============================================================================================================================\n",
      "\n"
     ]
    },
    {
     "name": "stderr",
     "output_type": "stream",
     "text": [
      "[Succeeded / Failed / Skipped / Total] 236 / 91 / 123 / 450:  90%|█████████████████  | 450/500 [06:11<00:41,  1.21it/s]textattack: Saving checkpoint under \"checkpoints\\1720235817888.ta.chkpt\" at 2024-07-06 11:16:57 after 450 attacks.\n"
     ]
    },
    {
     "name": "stdout",
     "output_type": "stream",
     "text": [
      "\n",
      "\n",
      "=============================================================================================================================\n",
      "=============================================================================================================================\n",
      "\n"
     ]
    },
    {
     "name": "stderr",
     "output_type": "stream",
     "text": [
      "[Succeeded / Failed / Skipped / Total] 239 / 93 / 123 / 455:  91%|█████████████████▎ | 455/500 [06:18<00:37,  1.20it/s]textattack: Saving checkpoint under \"checkpoints\\1720235824626.ta.chkpt\" at 2024-07-06 11:17:04 after 455 attacks.\n",
      "[Succeeded / Failed / Skipped / Total] 239 / 93 / 124 / 456:  91%|█████████████████▎ | 456/500 [06:18<00:36,  1.20it/s]"
     ]
    },
    {
     "name": "stdout",
     "output_type": "stream",
     "text": [
      "\n",
      "\n",
      "=============================================================================================================================\n",
      "=============================================================================================================================\n",
      "\n"
     ]
    },
    {
     "name": "stderr",
     "output_type": "stream",
     "text": [
      "[Succeeded / Failed / Skipped / Total] 240 / 95 / 125 / 460:  92%|█████████████████▍ | 460/500 [06:23<00:33,  1.20it/s]textattack: Saving checkpoint under \"checkpoints\\1720235829599.ta.chkpt\" at 2024-07-06 11:17:09 after 460 attacks.\n"
     ]
    },
    {
     "name": "stdout",
     "output_type": "stream",
     "text": [
      "\n",
      "\n",
      "=============================================================================================================================\n",
      "=============================================================================================================================\n",
      "\n"
     ]
    },
    {
     "name": "stderr",
     "output_type": "stream",
     "text": [
      "[Succeeded / Failed / Skipped / Total] 242 / 98 / 125 / 465:  93%|█████████████████▋ | 465/500 [06:34<00:29,  1.18it/s]textattack: Saving checkpoint under \"checkpoints\\1720235840637.ta.chkpt\" at 2024-07-06 11:17:20 after 465 attacks.\n"
     ]
    },
    {
     "name": "stdout",
     "output_type": "stream",
     "text": [
      "\n",
      "\n",
      "=============================================================================================================================\n",
      "=============================================================================================================================\n",
      "\n"
     ]
    },
    {
     "name": "stderr",
     "output_type": "stream",
     "text": [
      "[Succeeded / Failed / Skipped / Total] 245 / 99 / 126 / 470:  94%|█████████████████▊ | 470/500 [06:37<00:25,  1.18it/s]textattack: Saving checkpoint under \"checkpoints\\1720235843873.ta.chkpt\" at 2024-07-06 11:17:23 after 470 attacks.\n"
     ]
    },
    {
     "name": "stdout",
     "output_type": "stream",
     "text": [
      "\n",
      "\n",
      "=============================================================================================================================\n",
      "=============================================================================================================================\n",
      "\n"
     ]
    },
    {
     "name": "stderr",
     "output_type": "stream",
     "text": [
      "[Succeeded / Failed / Skipped / Total] 249 / 99 / 127 / 475:  95%|██████████████████ | 475/500 [06:41<00:21,  1.18it/s]textattack: Saving checkpoint under \"checkpoints\\1720235847880.ta.chkpt\" at 2024-07-06 11:17:27 after 475 attacks.\n"
     ]
    },
    {
     "name": "stdout",
     "output_type": "stream",
     "text": [
      "\n",
      "\n",
      "=============================================================================================================================\n",
      "=============================================================================================================================\n",
      "\n"
     ]
    },
    {
     "name": "stderr",
     "output_type": "stream",
     "text": [
      "[Succeeded / Failed / Skipped / Total] 251 / 102 / 127 / 480:  96%|█████████████████▎| 480/500 [06:47<00:16,  1.18it/s]textattack: Saving checkpoint under \"checkpoints\\1720235853859.ta.chkpt\" at 2024-07-06 11:17:33 after 480 attacks.\n"
     ]
    },
    {
     "name": "stdout",
     "output_type": "stream",
     "text": [
      "\n",
      "\n",
      "=============================================================================================================================\n",
      "=============================================================================================================================\n",
      "\n"
     ]
    },
    {
     "name": "stderr",
     "output_type": "stream",
     "text": [
      "[Succeeded / Failed / Skipped / Total] 253 / 104 / 128 / 485:  97%|█████████████████▍| 485/500 [06:55<00:12,  1.17it/s]textattack: Saving checkpoint under \"checkpoints\\1720235861473.ta.chkpt\" at 2024-07-06 11:17:41 after 485 attacks.\n"
     ]
    },
    {
     "name": "stdout",
     "output_type": "stream",
     "text": [
      "\n",
      "\n",
      "=============================================================================================================================\n",
      "=============================================================================================================================\n",
      "\n"
     ]
    },
    {
     "name": "stderr",
     "output_type": "stream",
     "text": [
      "[Succeeded / Failed / Skipped / Total] 256 / 105 / 129 / 490:  98%|█████████████████▋| 490/500 [06:59<00:08,  1.17it/s]textattack: Saving checkpoint under \"checkpoints\\1720235865304.ta.chkpt\" at 2024-07-06 11:17:45 after 490 attacks.\n"
     ]
    },
    {
     "name": "stdout",
     "output_type": "stream",
     "text": [
      "\n",
      "\n",
      "=============================================================================================================================\n",
      "=============================================================================================================================\n",
      "\n"
     ]
    },
    {
     "name": "stderr",
     "output_type": "stream",
     "text": [
      "[Succeeded / Failed / Skipped / Total] 257 / 107 / 131 / 495:  99%|█████████████████▊| 495/500 [07:05<00:04,  1.16it/s]textattack: Saving checkpoint under \"checkpoints\\1720235871006.ta.chkpt\" at 2024-07-06 11:17:51 after 495 attacks.\n",
      "[Succeeded / Failed / Skipped / Total] 257 / 107 / 132 / 496:  99%|█████████████████▊| 496/500 [07:05<00:03,  1.17it/s]"
     ]
    },
    {
     "name": "stdout",
     "output_type": "stream",
     "text": [
      "\n",
      "\n",
      "=============================================================================================================================\n",
      "=============================================================================================================================\n",
      "\n"
     ]
    },
    {
     "name": "stderr",
     "output_type": "stream",
     "text": [
      "[Succeeded / Failed / Skipped / Total] 258 / 110 / 132 / 500: 100%|██████████████████| 500/500 [07:11<00:00,  1.16it/s]textattack: Saving checkpoint under \"checkpoints\\1720235877378.ta.chkpt\" at 2024-07-06 11:17:57 after 500 attacks.\n",
      "[Succeeded / Failed / Skipped / Total] 258 / 110 / 132 / 500: 100%|██████████████████| 500/500 [07:11<00:00,  1.16it/s]"
     ]
    },
    {
     "name": "stdout",
     "output_type": "stream",
     "text": [
      "\n",
      "\n",
      "=============================================================================================================================\n",
      "=============================================================================================================================\n",
      "\n",
      "\n",
      "+-------------------------------+--------+\n",
      "| Attack Results                |        |\n",
      "+-------------------------------+--------+\n",
      "| Number of successful attacks: | 258    |\n",
      "| Number of failed attacks:     | 110    |\n",
      "| Number of skipped attacks:    | 132    |\n",
      "| Original accuracy:            | 73.6%  |\n",
      "| Accuracy under attack:        | 22.0%  |\n",
      "| Attack success rate:          | 70.11% |\n",
      "| Average perturbed word %:     | 10.28% |\n",
      "| Average num. words per input: | 18.4   |\n",
      "| Avg num queries:              | 31.24  |\n",
      "+-------------------------------+--------+\n"
     ]
    },
    {
     "name": "stderr",
     "output_type": "stream",
     "text": [
      "\n"
     ]
    }
   ],
   "source": [
    "runAttack(disbert_model_wrapper_knn_mr, n_samples, 'attack_results_new/disbertmrattackknn'+suffix, target_ds_mr)"
   ]
  },
  {
   "cell_type": "code",
   "execution_count": 23,
   "id": "b1a8d0d7-317e-48dd-a484-6c6034af2aad",
   "metadata": {},
   "outputs": [
    {
     "name": "stderr",
     "output_type": "stream",
     "text": [
      "textattack: Unknown if model of class <class 'transformers.models.distilbert.modeling_distilbert.DistilBertModel'> compatible with goal function <class 'textattack.goal_functions.classification.untargeted_classification.UntargetedClassification'>.\n",
      "textattack: Logging to CSV at path attack_results_new/disbertmrattacksvcsim08.csv\n"
     ]
    },
    {
     "name": "stdout",
     "output_type": "stream",
     "text": [
      "Attack(\n",
      "  (search_method): GreedyWordSwapWIR(\n",
      "    (wir_method):  delete\n",
      "  )\n",
      "  (goal_function):  UntargetedClassification\n",
      "  (transformation):  WordSwapEmbedding(\n",
      "    (max_candidates):  50\n",
      "    (embedding):  WordEmbedding\n",
      "  )\n",
      "  (constraints): \n",
      "    (0): WordEmbeddingDistance(\n",
      "        (embedding):  WordEmbedding\n",
      "        (min_cos_sim):  0.8\n",
      "        (cased):  False\n",
      "        (include_unknown_words):  True\n",
      "        (compare_against_original):  True\n",
      "      )\n",
      "    (1): PartOfSpeech(\n",
      "        (tagger_type):  nltk\n",
      "        (tagset):  universal\n",
      "        (allow_verb_noun_swap):  True\n",
      "        (compare_against_original):  True\n",
      "      )\n",
      "    (2): UniversalSentenceEncoder(\n",
      "        (metric):  angular\n",
      "        (threshold):  0.840845057\n",
      "        (window_size):  15\n",
      "        (skip_text_shorter_than_window):  True\n",
      "        (compare_against_original):  False\n",
      "      )\n",
      "    (3): RepeatModification\n",
      "    (4): StopwordModification\n",
      "    (5): InputColumnModification(\n",
      "        (matching_column_labels):  ['premise', 'hypothesis']\n",
      "        (columns_to_ignore):  {'premise'}\n",
      "      )\n",
      "  (is_black_box):  True\n",
      ") \n",
      "\n"
     ]
    },
    {
     "name": "stderr",
     "output_type": "stream",
     "text": [
      "[Succeeded / Failed / Skipped / Total] 3 / 1 / 1 / 5:   1%|▎                           | 5/500 [00:11<19:27,  2.36s/it]textattack: Saving checkpoint under \"checkpoints\\1720235889291.ta.chkpt\" at 2024-07-06 11:18:09 after 5 attacks.\n",
      "[Succeeded / Failed / Skipped / Total] 3 / 1 / 3 / 7:   1%|▍                           | 7/500 [00:11<14:01,  1.71s/it]"
     ]
    },
    {
     "name": "stdout",
     "output_type": "stream",
     "text": [
      "\n",
      "\n",
      "=============================================================================================================================\n",
      "=============================================================================================================================\n",
      "\n"
     ]
    },
    {
     "name": "stderr",
     "output_type": "stream",
     "text": [
      "[Succeeded / Failed / Skipped / Total] 6 / 1 / 3 / 10:   2%|▌                         | 10/500 [00:15<13:00,  1.59s/it]textattack: Saving checkpoint under \"checkpoints\\1720235893420.ta.chkpt\" at 2024-07-06 11:18:13 after 10 attacks.\n"
     ]
    },
    {
     "name": "stdout",
     "output_type": "stream",
     "text": [
      "\n",
      "\n",
      "=============================================================================================================================\n",
      "=============================================================================================================================\n",
      "\n"
     ]
    },
    {
     "name": "stderr",
     "output_type": "stream",
     "text": [
      "[Succeeded / Failed / Skipped / Total] 6 / 5 / 4 / 15:   3%|▊                         | 15/500 [00:24<13:10,  1.63s/it]textattack: Saving checkpoint under \"checkpoints\\1720235901945.ta.chkpt\" at 2024-07-06 11:18:21 after 15 attacks.\n"
     ]
    },
    {
     "name": "stdout",
     "output_type": "stream",
     "text": [
      "\n",
      "\n",
      "=============================================================================================================================\n",
      "=============================================================================================================================\n",
      "\n"
     ]
    },
    {
     "name": "stderr",
     "output_type": "stream",
     "text": [
      "[Succeeded / Failed / Skipped / Total] 8 / 7 / 5 / 20:   4%|█                         | 20/500 [00:28<11:27,  1.43s/it]textattack: Saving checkpoint under \"checkpoints\\1720235906128.ta.chkpt\" at 2024-07-06 11:18:26 after 20 attacks.\n"
     ]
    },
    {
     "name": "stdout",
     "output_type": "stream",
     "text": [
      "\n",
      "\n",
      "=============================================================================================================================\n",
      "=============================================================================================================================\n",
      "\n"
     ]
    },
    {
     "name": "stderr",
     "output_type": "stream",
     "text": [
      "[Succeeded / Failed / Skipped / Total] 11 / 7 / 7 / 25:   5%|█▎                       | 25/500 [00:31<09:59,  1.26s/it]textattack: Saving checkpoint under \"checkpoints\\1720235909026.ta.chkpt\" at 2024-07-06 11:18:29 after 25 attacks.\n"
     ]
    },
    {
     "name": "stdout",
     "output_type": "stream",
     "text": [
      "\n",
      "\n",
      "=============================================================================================================================\n",
      "=============================================================================================================================\n",
      "\n"
     ]
    },
    {
     "name": "stderr",
     "output_type": "stream",
     "text": [
      "[Succeeded / Failed / Skipped / Total] 14 / 9 / 7 / 30:   6%|█▌                       | 30/500 [00:35<09:11,  1.17s/it]textattack: Saving checkpoint under \"checkpoints\\1720235912710.ta.chkpt\" at 2024-07-06 11:18:32 after 30 attacks.\n"
     ]
    },
    {
     "name": "stdout",
     "output_type": "stream",
     "text": [
      "\n",
      "\n",
      "=============================================================================================================================\n",
      "=============================================================================================================================\n",
      "\n"
     ]
    },
    {
     "name": "stderr",
     "output_type": "stream",
     "text": [
      "[Succeeded / Failed / Skipped / Total] 16 / 10 / 9 / 35:   7%|█▋                      | 35/500 [00:37<08:18,  1.07s/it]textattack: Saving checkpoint under \"checkpoints\\1720235915056.ta.chkpt\" at 2024-07-06 11:18:35 after 35 attacks.\n"
     ]
    },
    {
     "name": "stdout",
     "output_type": "stream",
     "text": [
      "\n",
      "\n",
      "=============================================================================================================================\n",
      "=============================================================================================================================\n",
      "\n"
     ]
    },
    {
     "name": "stderr",
     "output_type": "stream",
     "text": [
      "[Succeeded / Failed / Skipped / Total] 20 / 10 / 10 / 40:   8%|█▊                     | 40/500 [00:40<07:49,  1.02s/it]textattack: Saving checkpoint under \"checkpoints\\1720235918360.ta.chkpt\" at 2024-07-06 11:18:38 after 40 attacks.\n"
     ]
    },
    {
     "name": "stdout",
     "output_type": "stream",
     "text": [
      "\n",
      "\n",
      "=============================================================================================================================\n",
      "=============================================================================================================================\n",
      "\n"
     ]
    },
    {
     "name": "stderr",
     "output_type": "stream",
     "text": [
      "[Succeeded / Failed / Skipped / Total] 24 / 11 / 10 / 45:   9%|██                     | 45/500 [00:49<08:25,  1.11s/it]textattack: Saving checkpoint under \"checkpoints\\1720235927466.ta.chkpt\" at 2024-07-06 11:18:47 after 45 attacks.\n"
     ]
    },
    {
     "name": "stdout",
     "output_type": "stream",
     "text": [
      "\n",
      "\n",
      "=============================================================================================================================\n",
      "=============================================================================================================================\n",
      "\n"
     ]
    },
    {
     "name": "stderr",
     "output_type": "stream",
     "text": [
      "[Succeeded / Failed / Skipped / Total] 27 / 13 / 10 / 50:  10%|██▎                    | 50/500 [00:57<08:38,  1.15s/it]textattack: Saving checkpoint under \"checkpoints\\1720235935084.ta.chkpt\" at 2024-07-06 11:18:55 after 50 attacks.\n"
     ]
    },
    {
     "name": "stdout",
     "output_type": "stream",
     "text": [
      "\n",
      "\n",
      "=============================================================================================================================\n",
      "=============================================================================================================================\n",
      "\n"
     ]
    },
    {
     "name": "stderr",
     "output_type": "stream",
     "text": [
      "[Succeeded / Failed / Skipped / Total] 30 / 14 / 11 / 55:  11%|██▌                    | 55/500 [01:06<08:57,  1.21s/it]textattack: Saving checkpoint under \"checkpoints\\1720235943981.ta.chkpt\" at 2024-07-06 11:19:03 after 55 attacks.\n"
     ]
    },
    {
     "name": "stdout",
     "output_type": "stream",
     "text": [
      "\n",
      "\n",
      "=============================================================================================================================\n",
      "=============================================================================================================================\n",
      "\n"
     ]
    },
    {
     "name": "stderr",
     "output_type": "stream",
     "text": [
      "[Succeeded / Failed / Skipped / Total] 33 / 14 / 13 / 60:  12%|██▊                    | 60/500 [01:09<08:27,  1.15s/it]textattack: Saving checkpoint under \"checkpoints\\1720235946754.ta.chkpt\" at 2024-07-06 11:19:06 after 60 attacks.\n",
      "[Succeeded / Failed / Skipped / Total] 33 / 14 / 15 / 62:  12%|██▊                    | 62/500 [01:09<08:10,  1.12s/it]"
     ]
    },
    {
     "name": "stdout",
     "output_type": "stream",
     "text": [
      "\n",
      "\n",
      "=============================================================================================================================\n",
      "=============================================================================================================================\n",
      "\n"
     ]
    },
    {
     "name": "stderr",
     "output_type": "stream",
     "text": [
      "[Succeeded / Failed / Skipped / Total] 35 / 15 / 15 / 65:  13%|██▉                    | 65/500 [01:11<07:58,  1.10s/it]textattack: Saving checkpoint under \"checkpoints\\1720235949023.ta.chkpt\" at 2024-07-06 11:19:09 after 65 attacks.\n"
     ]
    },
    {
     "name": "stdout",
     "output_type": "stream",
     "text": [
      "\n",
      "\n",
      "=============================================================================================================================\n",
      "=============================================================================================================================\n",
      "\n"
     ]
    },
    {
     "name": "stderr",
     "output_type": "stream",
     "text": [
      "[Succeeded / Failed / Skipped / Total] 36 / 17 / 17 / 70:  14%|███▏                   | 70/500 [01:15<07:43,  1.08s/it]textattack: Saving checkpoint under \"checkpoints\\1720235952916.ta.chkpt\" at 2024-07-06 11:19:12 after 70 attacks.\n"
     ]
    },
    {
     "name": "stdout",
     "output_type": "stream",
     "text": [
      "\n",
      "\n",
      "=============================================================================================================================\n",
      "=============================================================================================================================\n",
      "\n"
     ]
    },
    {
     "name": "stderr",
     "output_type": "stream",
     "text": [
      "[Succeeded / Failed / Skipped / Total] 40 / 18 / 17 / 75:  15%|███▍                   | 75/500 [01:18<07:23,  1.04s/it]textattack: Saving checkpoint under \"checkpoints\\1720235955784.ta.chkpt\" at 2024-07-06 11:19:15 after 75 attacks.\n"
     ]
    },
    {
     "name": "stdout",
     "output_type": "stream",
     "text": [
      "\n",
      "\n",
      "=============================================================================================================================\n",
      "=============================================================================================================================\n",
      "\n"
     ]
    },
    {
     "name": "stderr",
     "output_type": "stream",
     "text": [
      "[Succeeded / Failed / Skipped / Total] 44 / 19 / 17 / 80:  16%|███▋                   | 80/500 [01:23<07:18,  1.04s/it]textattack: Saving checkpoint under \"checkpoints\\1720235961006.ta.chkpt\" at 2024-07-06 11:19:21 after 80 attacks.\n",
      "[Succeeded / Failed / Skipped / Total] 44 / 19 / 19 / 82:  16%|███▊                   | 82/500 [01:23<07:06,  1.02s/it]"
     ]
    },
    {
     "name": "stdout",
     "output_type": "stream",
     "text": [
      "\n",
      "\n",
      "=============================================================================================================================\n",
      "=============================================================================================================================\n",
      "\n"
     ]
    },
    {
     "name": "stderr",
     "output_type": "stream",
     "text": [
      "[Succeeded / Failed / Skipped / Total] 46 / 19 / 20 / 85:  17%|███▉                   | 85/500 [01:24<06:54,  1.00it/s]textattack: Saving checkpoint under \"checkpoints\\1720235962367.ta.chkpt\" at 2024-07-06 11:19:22 after 85 attacks.\n"
     ]
    },
    {
     "name": "stdout",
     "output_type": "stream",
     "text": [
      "\n",
      "\n",
      "=============================================================================================================================\n",
      "=============================================================================================================================\n",
      "\n"
     ]
    },
    {
     "name": "stderr",
     "output_type": "stream",
     "text": [
      "[Succeeded / Failed / Skipped / Total] 51 / 19 / 20 / 90:  18%|████▏                  | 90/500 [01:29<06:49,  1.00it/s]textattack: Saving checkpoint under \"checkpoints\\1720235967455.ta.chkpt\" at 2024-07-06 11:19:27 after 90 attacks.\n"
     ]
    },
    {
     "name": "stdout",
     "output_type": "stream",
     "text": [
      "\n",
      "\n",
      "=============================================================================================================================\n",
      "=============================================================================================================================\n",
      "\n"
     ]
    },
    {
     "name": "stderr",
     "output_type": "stream",
     "text": [
      "[Succeeded / Failed / Skipped / Total] 54 / 19 / 22 / 95:  19%|████▎                  | 95/500 [01:34<06:41,  1.01it/s]textattack: Saving checkpoint under \"checkpoints\\1720235971776.ta.chkpt\" at 2024-07-06 11:19:31 after 95 attacks.\n"
     ]
    },
    {
     "name": "stdout",
     "output_type": "stream",
     "text": [
      "\n",
      "\n",
      "=============================================================================================================================\n",
      "=============================================================================================================================\n",
      "\n"
     ]
    },
    {
     "name": "stderr",
     "output_type": "stream",
     "text": [
      "[Succeeded / Failed / Skipped / Total] 58 / 20 / 22 / 100:  20%|████▏                | 100/500 [01:39<06:36,  1.01it/s]textattack: Saving checkpoint under \"checkpoints\\1720235976520.ta.chkpt\" at 2024-07-06 11:19:36 after 100 attacks.\n"
     ]
    },
    {
     "name": "stdout",
     "output_type": "stream",
     "text": [
      "\n",
      "\n",
      "=============================================================================================================================\n",
      "=============================================================================================================================\n",
      "\n"
     ]
    },
    {
     "name": "stderr",
     "output_type": "stream",
     "text": [
      "[Succeeded / Failed / Skipped / Total] 63 / 20 / 22 / 105:  21%|████▍                | 105/500 [01:45<06:36,  1.00s/it]textattack: Saving checkpoint under \"checkpoints\\1720235982826.ta.chkpt\" at 2024-07-06 11:19:42 after 105 attacks.\n",
      "[Succeeded / Failed / Skipped / Total] 63 / 20 / 23 / 106:  21%|████▍                | 106/500 [01:45<06:31,  1.01it/s]"
     ]
    },
    {
     "name": "stdout",
     "output_type": "stream",
     "text": [
      "\n",
      "\n",
      "=============================================================================================================================\n",
      "=============================================================================================================================\n",
      "\n"
     ]
    },
    {
     "name": "stderr",
     "output_type": "stream",
     "text": [
      "[Succeeded / Failed / Skipped / Total] 65 / 20 / 25 / 110:  22%|████▌                | 110/500 [01:46<06:17,  1.03it/s]textattack: Saving checkpoint under \"checkpoints\\1720235984036.ta.chkpt\" at 2024-07-06 11:19:44 after 110 attacks.\n",
      "[Succeeded / Failed / Skipped / Total] 65 / 20 / 26 / 111:  22%|████▋                | 111/500 [01:46<06:13,  1.04it/s]"
     ]
    },
    {
     "name": "stdout",
     "output_type": "stream",
     "text": [
      "\n",
      "\n",
      "=============================================================================================================================\n",
      "=============================================================================================================================\n",
      "\n"
     ]
    },
    {
     "name": "stderr",
     "output_type": "stream",
     "text": [
      "[Succeeded / Failed / Skipped / Total] 68 / 20 / 27 / 115:  23%|████▊                | 115/500 [01:49<06:08,  1.05it/s]textattack: Saving checkpoint under \"checkpoints\\1720235987489.ta.chkpt\" at 2024-07-06 11:19:47 after 115 attacks.\n"
     ]
    },
    {
     "name": "stdout",
     "output_type": "stream",
     "text": [
      "\n",
      "\n",
      "=============================================================================================================================\n",
      "=============================================================================================================================\n",
      "\n"
     ]
    },
    {
     "name": "stderr",
     "output_type": "stream",
     "text": [
      "[Succeeded / Failed / Skipped / Total] 70 / 21 / 29 / 120:  24%|█████                | 120/500 [01:51<05:54,  1.07it/s]textattack: Saving checkpoint under \"checkpoints\\1720235989458.ta.chkpt\" at 2024-07-06 11:19:49 after 120 attacks.\n"
     ]
    },
    {
     "name": "stdout",
     "output_type": "stream",
     "text": [
      "\n",
      "\n",
      "=============================================================================================================================\n",
      "=============================================================================================================================\n",
      "\n"
     ]
    },
    {
     "name": "stderr",
     "output_type": "stream",
     "text": [
      "[Succeeded / Failed / Skipped / Total] 75 / 21 / 29 / 125:  25%|█████▎               | 125/500 [01:56<05:49,  1.07it/s]textattack: Saving checkpoint under \"checkpoints\\1720235994084.ta.chkpt\" at 2024-07-06 11:19:54 after 125 attacks.\n"
     ]
    },
    {
     "name": "stdout",
     "output_type": "stream",
     "text": [
      "\n",
      "\n",
      "=============================================================================================================================\n",
      "=============================================================================================================================\n",
      "\n"
     ]
    },
    {
     "name": "stderr",
     "output_type": "stream",
     "text": [
      "[Succeeded / Failed / Skipped / Total] 79 / 21 / 30 / 130:  26%|█████▍               | 130/500 [01:59<05:40,  1.09it/s]textattack: Saving checkpoint under \"checkpoints\\1720235997048.ta.chkpt\" at 2024-07-06 11:19:57 after 130 attacks.\n",
      "[Succeeded / Failed / Skipped / Total] 79 / 21 / 31 / 131:  26%|█████▌               | 131/500 [01:59<05:37,  1.09it/s]"
     ]
    },
    {
     "name": "stdout",
     "output_type": "stream",
     "text": [
      "\n",
      "\n",
      "=============================================================================================================================\n",
      "=============================================================================================================================\n",
      "\n"
     ]
    },
    {
     "name": "stderr",
     "output_type": "stream",
     "text": [
      "[Succeeded / Failed / Skipped / Total] 82 / 21 / 32 / 135:  27%|█████▋               | 135/500 [02:07<05:44,  1.06it/s]textattack: Saving checkpoint under \"checkpoints\\1720236005002.ta.chkpt\" at 2024-07-06 11:20:05 after 135 attacks.\n"
     ]
    },
    {
     "name": "stdout",
     "output_type": "stream",
     "text": [
      "\n",
      "\n",
      "=============================================================================================================================\n",
      "=============================================================================================================================\n",
      "\n"
     ]
    },
    {
     "name": "stderr",
     "output_type": "stream",
     "text": [
      "[Succeeded / Failed / Skipped / Total] 86 / 21 / 33 / 140:  28%|█████▉               | 140/500 [02:12<05:39,  1.06it/s]textattack: Saving checkpoint under \"checkpoints\\1720236009702.ta.chkpt\" at 2024-07-06 11:20:09 after 140 attacks.\n"
     ]
    },
    {
     "name": "stdout",
     "output_type": "stream",
     "text": [
      "\n",
      "\n",
      "=============================================================================================================================\n",
      "=============================================================================================================================\n",
      "\n"
     ]
    },
    {
     "name": "stderr",
     "output_type": "stream",
     "text": [
      "[Succeeded / Failed / Skipped / Total] 90 / 22 / 33 / 145:  29%|██████               | 145/500 [02:17<05:36,  1.06it/s]textattack: Saving checkpoint under \"checkpoints\\1720236014846.ta.chkpt\" at 2024-07-06 11:20:14 after 145 attacks.\n",
      "[Succeeded / Failed / Skipped / Total] 90 / 22 / 35 / 147:  30%|██████▏              | 148/500 [02:17<05:27,  1.08it/s]"
     ]
    },
    {
     "name": "stdout",
     "output_type": "stream",
     "text": [
      "\n",
      "\n",
      "=============================================================================================================================\n",
      "=============================================================================================================================\n",
      "\n"
     ]
    },
    {
     "name": "stderr",
     "output_type": "stream",
     "text": [
      "[Succeeded / Failed / Skipped / Total] 91 / 23 / 36 / 150:  30%|██████▎              | 150/500 [02:19<05:25,  1.07it/s]textattack: Saving checkpoint under \"checkpoints\\1720236017146.ta.chkpt\" at 2024-07-06 11:20:17 after 150 attacks.\n"
     ]
    },
    {
     "name": "stdout",
     "output_type": "stream",
     "text": [
      "\n",
      "\n",
      "=============================================================================================================================\n",
      "=============================================================================================================================\n",
      "\n"
     ]
    },
    {
     "name": "stderr",
     "output_type": "stream",
     "text": [
      "[Succeeded / Failed / Skipped / Total] 93 / 24 / 38 / 155:  31%|██████▌              | 155/500 [02:21<05:14,  1.10it/s]textattack: Saving checkpoint under \"checkpoints\\1720236018786.ta.chkpt\" at 2024-07-06 11:20:18 after 155 attacks.\n"
     ]
    },
    {
     "name": "stdout",
     "output_type": "stream",
     "text": [
      "\n",
      "\n",
      "=============================================================================================================================\n",
      "=============================================================================================================================\n",
      "\n"
     ]
    },
    {
     "name": "stderr",
     "output_type": "stream",
     "text": [
      "[Succeeded / Failed / Skipped / Total] 95 / 25 / 40 / 160:  32%|██████▋              | 160/500 [02:24<05:07,  1.11it/s]textattack: Saving checkpoint under \"checkpoints\\1720236022104.ta.chkpt\" at 2024-07-06 11:20:22 after 160 attacks.\n",
      "[Succeeded / Failed / Skipped / Total] 95 / 25 / 41 / 161:  32%|██████▊              | 161/500 [02:24<05:04,  1.11it/s]"
     ]
    },
    {
     "name": "stdout",
     "output_type": "stream",
     "text": [
      "\n",
      "\n",
      "=============================================================================================================================\n",
      "=============================================================================================================================\n",
      "\n"
     ]
    },
    {
     "name": "stderr",
     "output_type": "stream",
     "text": [
      "[Succeeded / Failed / Skipped / Total] 97 / 26 / 42 / 165:  33%|██████▉              | 165/500 [02:28<05:01,  1.11it/s]textattack: Saving checkpoint under \"checkpoints\\1720236025993.ta.chkpt\" at 2024-07-06 11:20:25 after 165 attacks.\n"
     ]
    },
    {
     "name": "stdout",
     "output_type": "stream",
     "text": [
      "\n",
      "\n",
      "=============================================================================================================================\n",
      "=============================================================================================================================\n",
      "\n"
     ]
    },
    {
     "name": "stderr",
     "output_type": "stream",
     "text": [
      "[Succeeded / Failed / Skipped / Total] 99 / 27 / 44 / 170:  34%|███████▏             | 170/500 [02:31<04:54,  1.12it/s]textattack: Saving checkpoint under \"checkpoints\\1720236029306.ta.chkpt\" at 2024-07-06 11:20:29 after 170 attacks.\n"
     ]
    },
    {
     "name": "stdout",
     "output_type": "stream",
     "text": [
      "\n",
      "\n",
      "=============================================================================================================================\n",
      "=============================================================================================================================\n",
      "\n"
     ]
    },
    {
     "name": "stderr",
     "output_type": "stream",
     "text": [
      "[Succeeded / Failed / Skipped / Total] 102 / 28 / 45 / 175:  35%|███████             | 175/500 [02:39<04:57,  1.09it/s]textattack: Saving checkpoint under \"checkpoints\\1720236037482.ta.chkpt\" at 2024-07-06 11:20:37 after 175 attacks.\n",
      "[Succeeded / Failed / Skipped / Total] 102 / 28 / 46 / 176:  35%|███████             | 176/500 [02:40<04:54,  1.10it/s]"
     ]
    },
    {
     "name": "stdout",
     "output_type": "stream",
     "text": [
      "\n",
      "\n",
      "=============================================================================================================================\n",
      "=============================================================================================================================\n",
      "\n"
     ]
    },
    {
     "name": "stderr",
     "output_type": "stream",
     "text": [
      "[Succeeded / Failed / Skipped / Total] 104 / 29 / 47 / 180:  36%|███████▏            | 180/500 [02:42<04:48,  1.11it/s]textattack: Saving checkpoint under \"checkpoints\\1720236039656.ta.chkpt\" at 2024-07-06 11:20:39 after 180 attacks.\n",
      "[Succeeded / Failed / Skipped / Total] 104 / 29 / 48 / 181:  36%|███████▏            | 181/500 [02:42<04:45,  1.12it/s]"
     ]
    },
    {
     "name": "stdout",
     "output_type": "stream",
     "text": [
      "\n",
      "\n",
      "=============================================================================================================================\n",
      "=============================================================================================================================\n",
      "\n"
     ]
    },
    {
     "name": "stderr",
     "output_type": "stream",
     "text": [
      "[Succeeded / Failed / Skipped / Total] 107 / 30 / 48 / 185:  37%|███████▍            | 185/500 [02:45<04:42,  1.12it/s]textattack: Saving checkpoint under \"checkpoints\\1720236043239.ta.chkpt\" at 2024-07-06 11:20:43 after 185 attacks.\n"
     ]
    },
    {
     "name": "stdout",
     "output_type": "stream",
     "text": [
      "\n",
      "\n",
      "=============================================================================================================================\n",
      "=============================================================================================================================\n",
      "\n"
     ]
    },
    {
     "name": "stderr",
     "output_type": "stream",
     "text": [
      "[Succeeded / Failed / Skipped / Total] 111 / 31 / 48 / 190:  38%|███████▌            | 190/500 [02:53<04:43,  1.09it/s]textattack: Saving checkpoint under \"checkpoints\\1720236051379.ta.chkpt\" at 2024-07-06 11:20:51 after 190 attacks.\n"
     ]
    },
    {
     "name": "stdout",
     "output_type": "stream",
     "text": [
      "\n",
      "\n",
      "=============================================================================================================================\n",
      "=============================================================================================================================\n",
      "\n"
     ]
    },
    {
     "name": "stderr",
     "output_type": "stream",
     "text": [
      "[Succeeded / Failed / Skipped / Total] 113 / 32 / 50 / 195:  39%|███████▊            | 195/500 [02:58<04:39,  1.09it/s]textattack: Saving checkpoint under \"checkpoints\\1720236056253.ta.chkpt\" at 2024-07-06 11:20:56 after 195 attacks.\n"
     ]
    },
    {
     "name": "stdout",
     "output_type": "stream",
     "text": [
      "\n",
      "\n",
      "=============================================================================================================================\n",
      "=============================================================================================================================\n",
      "\n"
     ]
    },
    {
     "name": "stderr",
     "output_type": "stream",
     "text": [
      "[Succeeded / Failed / Skipped / Total] 116 / 33 / 51 / 200:  40%|████████            | 200/500 [03:06<04:39,  1.07it/s]textattack: Saving checkpoint under \"checkpoints\\1720236063690.ta.chkpt\" at 2024-07-06 11:21:03 after 200 attacks.\n"
     ]
    },
    {
     "name": "stdout",
     "output_type": "stream",
     "text": [
      "\n",
      "\n",
      "=============================================================================================================================\n",
      "=============================================================================================================================\n",
      "\n"
     ]
    },
    {
     "name": "stderr",
     "output_type": "stream",
     "text": [
      "[Succeeded / Failed / Skipped / Total] 119 / 34 / 52 / 205:  41%|████████▏           | 205/500 [03:10<04:34,  1.08it/s]textattack: Saving checkpoint under \"checkpoints\\1720236068002.ta.chkpt\" at 2024-07-06 11:21:08 after 205 attacks.\n"
     ]
    },
    {
     "name": "stdout",
     "output_type": "stream",
     "text": [
      "\n",
      "\n",
      "=============================================================================================================================\n",
      "=============================================================================================================================\n",
      "\n"
     ]
    },
    {
     "name": "stderr",
     "output_type": "stream",
     "text": [
      "[Succeeded / Failed / Skipped / Total] 123 / 34 / 53 / 210:  42%|████████▍           | 210/500 [03:12<04:26,  1.09it/s]textattack: Saving checkpoint under \"checkpoints\\1720236070121.ta.chkpt\" at 2024-07-06 11:21:10 after 210 attacks.\n"
     ]
    },
    {
     "name": "stdout",
     "output_type": "stream",
     "text": [
      "\n",
      "\n",
      "=============================================================================================================================\n",
      "=============================================================================================================================\n",
      "\n"
     ]
    },
    {
     "name": "stderr",
     "output_type": "stream",
     "text": [
      "[Succeeded / Failed / Skipped / Total] 126 / 35 / 54 / 215:  43%|████████▌           | 215/500 [03:16<04:20,  1.09it/s]textattack: Saving checkpoint under \"checkpoints\\1720236074219.ta.chkpt\" at 2024-07-06 11:21:14 after 215 attacks.\n"
     ]
    },
    {
     "name": "stdout",
     "output_type": "stream",
     "text": [
      "\n",
      "\n",
      "=============================================================================================================================\n",
      "=============================================================================================================================\n",
      "\n"
     ]
    },
    {
     "name": "stderr",
     "output_type": "stream",
     "text": [
      "[Succeeded / Failed / Skipped / Total] 129 / 37 / 54 / 220:  44%|████████▊           | 220/500 [03:20<04:15,  1.10it/s]textattack: Saving checkpoint under \"checkpoints\\1720236077947.ta.chkpt\" at 2024-07-06 11:21:17 after 220 attacks.\n"
     ]
    },
    {
     "name": "stdout",
     "output_type": "stream",
     "text": [
      "\n",
      "\n",
      "=============================================================================================================================\n",
      "=============================================================================================================================\n",
      "\n"
     ]
    },
    {
     "name": "stderr",
     "output_type": "stream",
     "text": [
      "[Succeeded / Failed / Skipped / Total] 132 / 37 / 56 / 225:  45%|█████████           | 225/500 [03:24<04:10,  1.10it/s]textattack: Saving checkpoint under \"checkpoints\\1720236082054.ta.chkpt\" at 2024-07-06 11:21:22 after 225 attacks.\n"
     ]
    },
    {
     "name": "stdout",
     "output_type": "stream",
     "text": [
      "\n",
      "\n",
      "=============================================================================================================================\n",
      "=============================================================================================================================\n",
      "\n"
     ]
    },
    {
     "name": "stderr",
     "output_type": "stream",
     "text": [
      "[Succeeded / Failed / Skipped / Total] 135 / 38 / 57 / 230:  46%|█████████▏          | 230/500 [03:29<04:05,  1.10it/s]textattack: Saving checkpoint under \"checkpoints\\1720236086688.ta.chkpt\" at 2024-07-06 11:21:26 after 230 attacks.\n"
     ]
    },
    {
     "name": "stdout",
     "output_type": "stream",
     "text": [
      "\n",
      "\n",
      "=============================================================================================================================\n",
      "=============================================================================================================================\n",
      "\n"
     ]
    },
    {
     "name": "stderr",
     "output_type": "stream",
     "text": [
      "[Succeeded / Failed / Skipped / Total] 138 / 40 / 57 / 235:  47%|█████████▍          | 235/500 [03:34<04:01,  1.10it/s]textattack: Saving checkpoint under \"checkpoints\\1720236091910.ta.chkpt\" at 2024-07-06 11:21:31 after 235 attacks.\n"
     ]
    },
    {
     "name": "stdout",
     "output_type": "stream",
     "text": [
      "\n",
      "\n",
      "=============================================================================================================================\n",
      "=============================================================================================================================\n",
      "\n"
     ]
    },
    {
     "name": "stderr",
     "output_type": "stream",
     "text": [
      "[Succeeded / Failed / Skipped / Total] 141 / 42 / 57 / 240:  48%|█████████▌          | 240/500 [03:38<03:56,  1.10it/s]textattack: Saving checkpoint under \"checkpoints\\1720236095598.ta.chkpt\" at 2024-07-06 11:21:35 after 240 attacks.\n"
     ]
    },
    {
     "name": "stdout",
     "output_type": "stream",
     "text": [
      "\n",
      "\n",
      "=============================================================================================================================\n",
      "=============================================================================================================================\n",
      "\n"
     ]
    },
    {
     "name": "stderr",
     "output_type": "stream",
     "text": [
      "[Succeeded / Failed / Skipped / Total] 144 / 44 / 57 / 245:  49%|█████████▊          | 245/500 [03:43<03:53,  1.09it/s]textattack: Saving checkpoint under \"checkpoints\\1720236101372.ta.chkpt\" at 2024-07-06 11:21:41 after 245 attacks.\n"
     ]
    },
    {
     "name": "stdout",
     "output_type": "stream",
     "text": [
      "\n",
      "\n",
      "=============================================================================================================================\n",
      "=============================================================================================================================\n",
      "\n"
     ]
    },
    {
     "name": "stderr",
     "output_type": "stream",
     "text": [
      "[Succeeded / Failed / Skipped / Total] 146 / 45 / 59 / 250:  50%|██████████          | 250/500 [03:46<03:46,  1.10it/s]textattack: Saving checkpoint under \"checkpoints\\1720236104253.ta.chkpt\" at 2024-07-06 11:21:44 after 250 attacks.\n"
     ]
    },
    {
     "name": "stdout",
     "output_type": "stream",
     "text": [
      "\n",
      "\n",
      "=============================================================================================================================\n",
      "=============================================================================================================================\n",
      "\n"
     ]
    },
    {
     "name": "stderr",
     "output_type": "stream",
     "text": [
      "[Succeeded / Failed / Skipped / Total] 150 / 45 / 60 / 255:  51%|██████████▏         | 255/500 [03:51<03:42,  1.10it/s]textattack: Saving checkpoint under \"checkpoints\\1720236108821.ta.chkpt\" at 2024-07-06 11:21:48 after 255 attacks.\n"
     ]
    },
    {
     "name": "stdout",
     "output_type": "stream",
     "text": [
      "\n",
      "\n",
      "=============================================================================================================================\n",
      "=============================================================================================================================\n",
      "\n"
     ]
    },
    {
     "name": "stderr",
     "output_type": "stream",
     "text": [
      "[Succeeded / Failed / Skipped / Total] 152 / 46 / 62 / 260:  52%|██████████▍         | 260/500 [03:55<03:37,  1.11it/s]textattack: Saving checkpoint under \"checkpoints\\1720236112759.ta.chkpt\" at 2024-07-06 11:21:52 after 260 attacks.\n"
     ]
    },
    {
     "name": "stdout",
     "output_type": "stream",
     "text": [
      "\n",
      "\n",
      "=============================================================================================================================\n",
      "=============================================================================================================================\n",
      "\n"
     ]
    },
    {
     "name": "stderr",
     "output_type": "stream",
     "text": [
      "[Succeeded / Failed / Skipped / Total] 156 / 47 / 62 / 265:  53%|██████████▌         | 265/500 [04:01<03:34,  1.10it/s]textattack: Saving checkpoint under \"checkpoints\\1720236118895.ta.chkpt\" at 2024-07-06 11:21:58 after 265 attacks.\n"
     ]
    },
    {
     "name": "stdout",
     "output_type": "stream",
     "text": [
      "\n",
      "\n",
      "=============================================================================================================================\n",
      "=============================================================================================================================\n",
      "\n"
     ]
    },
    {
     "name": "stderr",
     "output_type": "stream",
     "text": [
      "[Succeeded / Failed / Skipped / Total] 158 / 49 / 63 / 270:  54%|██████████▊         | 270/500 [04:09<03:32,  1.08it/s]textattack: Saving checkpoint under \"checkpoints\\1720236126593.ta.chkpt\" at 2024-07-06 11:22:06 after 270 attacks.\n",
      "[Succeeded / Failed / Skipped / Total] 158 / 49 / 64 / 271:  54%|██████████▊         | 271/500 [04:09<03:30,  1.09it/s]"
     ]
    },
    {
     "name": "stdout",
     "output_type": "stream",
     "text": [
      "\n",
      "\n",
      "=============================================================================================================================\n",
      "=============================================================================================================================\n",
      "\n"
     ]
    },
    {
     "name": "stderr",
     "output_type": "stream",
     "text": [
      "[Succeeded / Failed / Skipped / Total] 161 / 49 / 65 / 275:  55%|███████████         | 275/500 [04:11<03:25,  1.10it/s]textattack: Saving checkpoint under \"checkpoints\\1720236128615.ta.chkpt\" at 2024-07-06 11:22:08 after 275 attacks.\n",
      "[Succeeded / Failed / Skipped / Total] 161 / 49 / 67 / 277:  55%|███████████         | 277/500 [04:11<03:22,  1.10it/s]"
     ]
    },
    {
     "name": "stdout",
     "output_type": "stream",
     "text": [
      "\n",
      "\n",
      "=============================================================================================================================\n",
      "=============================================================================================================================\n",
      "\n"
     ]
    },
    {
     "name": "stderr",
     "output_type": "stream",
     "text": [
      "[Succeeded / Failed / Skipped / Total] 162 / 51 / 67 / 280:  56%|███████████▏        | 280/500 [04:15<03:20,  1.09it/s]textattack: Saving checkpoint under \"checkpoints\\1720236133219.ta.chkpt\" at 2024-07-06 11:22:13 after 280 attacks.\n"
     ]
    },
    {
     "name": "stdout",
     "output_type": "stream",
     "text": [
      "\n",
      "\n",
      "=============================================================================================================================\n",
      "=============================================================================================================================\n",
      "\n"
     ]
    },
    {
     "name": "stderr",
     "output_type": "stream",
     "text": [
      "[Succeeded / Failed / Skipped / Total] 164 / 53 / 68 / 285:  57%|███████████▍        | 285/500 [04:20<03:16,  1.09it/s]textattack: Saving checkpoint under \"checkpoints\\1720236137912.ta.chkpt\" at 2024-07-06 11:22:17 after 285 attacks.\n"
     ]
    },
    {
     "name": "stdout",
     "output_type": "stream",
     "text": [
      "\n",
      "\n",
      "=============================================================================================================================\n",
      "=============================================================================================================================\n",
      "\n"
     ]
    },
    {
     "name": "stderr",
     "output_type": "stream",
     "text": [
      "[Succeeded / Failed / Skipped / Total] 167 / 54 / 69 / 290:  58%|███████████▌        | 290/500 [04:24<03:11,  1.10it/s]textattack: Saving checkpoint under \"checkpoints\\1720236142227.ta.chkpt\" at 2024-07-06 11:22:22 after 290 attacks.\n"
     ]
    },
    {
     "name": "stdout",
     "output_type": "stream",
     "text": [
      "\n",
      "\n",
      "=============================================================================================================================\n",
      "=============================================================================================================================\n",
      "\n"
     ]
    },
    {
     "name": "stderr",
     "output_type": "stream",
     "text": [
      "[Succeeded / Failed / Skipped / Total] 169 / 56 / 70 / 295:  59%|███████████▊        | 295/500 [04:30<03:07,  1.09it/s]textattack: Saving checkpoint under \"checkpoints\\1720236147702.ta.chkpt\" at 2024-07-06 11:22:27 after 295 attacks.\n"
     ]
    },
    {
     "name": "stdout",
     "output_type": "stream",
     "text": [
      "\n",
      "\n",
      "=============================================================================================================================\n",
      "=============================================================================================================================\n",
      "\n"
     ]
    },
    {
     "name": "stderr",
     "output_type": "stream",
     "text": [
      "[Succeeded / Failed / Skipped / Total] 173 / 57 / 70 / 300:  60%|████████████        | 300/500 [04:34<03:03,  1.09it/s]textattack: Saving checkpoint under \"checkpoints\\1720236152493.ta.chkpt\" at 2024-07-06 11:22:32 after 300 attacks.\n"
     ]
    },
    {
     "name": "stdout",
     "output_type": "stream",
     "text": [
      "\n",
      "\n",
      "=============================================================================================================================\n",
      "=============================================================================================================================\n",
      "\n"
     ]
    },
    {
     "name": "stderr",
     "output_type": "stream",
     "text": [
      "[Succeeded / Failed / Skipped / Total] 178 / 57 / 70 / 305:  61%|████████████▏       | 305/500 [04:39<02:58,  1.09it/s]textattack: Saving checkpoint under \"checkpoints\\1720236157123.ta.chkpt\" at 2024-07-06 11:22:37 after 305 attacks.\n"
     ]
    },
    {
     "name": "stdout",
     "output_type": "stream",
     "text": [
      "\n",
      "\n",
      "=============================================================================================================================\n",
      "=============================================================================================================================\n",
      "\n"
     ]
    },
    {
     "name": "stderr",
     "output_type": "stream",
     "text": [
      "[Succeeded / Failed / Skipped / Total] 179 / 60 / 71 / 310:  62%|████████████▍       | 310/500 [04:42<02:53,  1.10it/s]textattack: Saving checkpoint under \"checkpoints\\1720236160227.ta.chkpt\" at 2024-07-06 11:22:40 after 310 attacks.\n"
     ]
    },
    {
     "name": "stdout",
     "output_type": "stream",
     "text": [
      "\n",
      "\n",
      "=============================================================================================================================\n",
      "=============================================================================================================================\n",
      "\n"
     ]
    },
    {
     "name": "stderr",
     "output_type": "stream",
     "text": [
      "[Succeeded / Failed / Skipped / Total] 180 / 62 / 73 / 315:  63%|████████████▌       | 315/500 [04:46<02:48,  1.10it/s]textattack: Saving checkpoint under \"checkpoints\\1720236163981.ta.chkpt\" at 2024-07-06 11:22:43 after 315 attacks.\n"
     ]
    },
    {
     "name": "stdout",
     "output_type": "stream",
     "text": [
      "\n",
      "\n",
      "=============================================================================================================================\n",
      "=============================================================================================================================\n",
      "\n"
     ]
    },
    {
     "name": "stderr",
     "output_type": "stream",
     "text": [
      "[Succeeded / Failed / Skipped / Total] 182 / 63 / 75 / 320:  64%|████████████▊       | 320/500 [04:52<02:44,  1.09it/s]textattack: Saving checkpoint under \"checkpoints\\1720236170196.ta.chkpt\" at 2024-07-06 11:22:50 after 320 attacks.\n"
     ]
    },
    {
     "name": "stdout",
     "output_type": "stream",
     "text": [
      "\n",
      "\n",
      "=============================================================================================================================\n",
      "=============================================================================================================================\n",
      "\n"
     ]
    },
    {
     "name": "stderr",
     "output_type": "stream",
     "text": [
      "[Succeeded / Failed / Skipped / Total] 186 / 64 / 75 / 325:  65%|█████████████       | 325/500 [04:59<02:41,  1.09it/s]textattack: Saving checkpoint under \"checkpoints\\1720236177004.ta.chkpt\" at 2024-07-06 11:22:57 after 325 attacks.\n"
     ]
    },
    {
     "name": "stdout",
     "output_type": "stream",
     "text": [
      "\n",
      "\n",
      "=============================================================================================================================\n",
      "=============================================================================================================================\n",
      "\n"
     ]
    },
    {
     "name": "stderr",
     "output_type": "stream",
     "text": [
      "[Succeeded / Failed / Skipped / Total] 190 / 65 / 75 / 330:  66%|█████████████▏      | 330/500 [05:03<02:36,  1.09it/s]textattack: Saving checkpoint under \"checkpoints\\1720236180540.ta.chkpt\" at 2024-07-06 11:23:00 after 330 attacks.\n"
     ]
    },
    {
     "name": "stdout",
     "output_type": "stream",
     "text": [
      "\n",
      "\n",
      "=============================================================================================================================\n",
      "=============================================================================================================================\n",
      "\n"
     ]
    },
    {
     "name": "stderr",
     "output_type": "stream",
     "text": [
      "[Succeeded / Failed / Skipped / Total] 192 / 67 / 76 / 335:  67%|█████████████▍      | 335/500 [05:12<02:33,  1.07it/s]textattack: Saving checkpoint under \"checkpoints\\1720236189842.ta.chkpt\" at 2024-07-06 11:23:09 after 335 attacks.\n",
      "[Succeeded / Failed / Skipped / Total] 192 / 67 / 77 / 336:  67%|█████████████▍      | 336/500 [05:12<02:32,  1.08it/s]"
     ]
    },
    {
     "name": "stdout",
     "output_type": "stream",
     "text": [
      "\n",
      "\n",
      "=============================================================================================================================\n",
      "=============================================================================================================================\n",
      "\n"
     ]
    },
    {
     "name": "stderr",
     "output_type": "stream",
     "text": [
      "[Succeeded / Failed / Skipped / Total] 193 / 69 / 78 / 340:  68%|█████████████▌      | 340/500 [05:15<02:28,  1.08it/s]textattack: Saving checkpoint under \"checkpoints\\1720236193375.ta.chkpt\" at 2024-07-06 11:23:13 after 340 attacks.\n"
     ]
    },
    {
     "name": "stdout",
     "output_type": "stream",
     "text": [
      "\n",
      "\n",
      "=============================================================================================================================\n",
      "=============================================================================================================================\n",
      "\n"
     ]
    },
    {
     "name": "stderr",
     "output_type": "stream",
     "text": [
      "[Succeeded / Failed / Skipped / Total] 194 / 71 / 80 / 345:  69%|█████████████▊      | 345/500 [05:20<02:23,  1.08it/s]textattack: Saving checkpoint under \"checkpoints\\1720236197601.ta.chkpt\" at 2024-07-06 11:23:17 after 345 attacks.\n"
     ]
    },
    {
     "name": "stdout",
     "output_type": "stream",
     "text": [
      "\n",
      "\n",
      "=============================================================================================================================\n",
      "=============================================================================================================================\n",
      "\n"
     ]
    },
    {
     "name": "stderr",
     "output_type": "stream",
     "text": [
      "[Succeeded / Failed / Skipped / Total] 197 / 72 / 81 / 350:  70%|██████████████      | 350/500 [05:26<02:20,  1.07it/s]textattack: Saving checkpoint under \"checkpoints\\1720236204258.ta.chkpt\" at 2024-07-06 11:23:24 after 350 attacks.\n"
     ]
    },
    {
     "name": "stdout",
     "output_type": "stream",
     "text": [
      "\n",
      "\n",
      "=============================================================================================================================\n",
      "=============================================================================================================================\n",
      "\n"
     ]
    },
    {
     "name": "stderr",
     "output_type": "stream",
     "text": [
      "[Succeeded / Failed / Skipped / Total] 200 / 74 / 81 / 355:  71%|██████████████▏     | 355/500 [05:35<02:17,  1.06it/s]textattack: Saving checkpoint under \"checkpoints\\1720236213238.ta.chkpt\" at 2024-07-06 11:23:33 after 355 attacks.\n"
     ]
    },
    {
     "name": "stdout",
     "output_type": "stream",
     "text": [
      "\n",
      "\n",
      "=============================================================================================================================\n",
      "=============================================================================================================================\n",
      "\n"
     ]
    },
    {
     "name": "stderr",
     "output_type": "stream",
     "text": [
      "[Succeeded / Failed / Skipped / Total] 202 / 76 / 82 / 360:  72%|██████████████▍     | 360/500 [05:41<02:12,  1.05it/s]textattack: Saving checkpoint under \"checkpoints\\1720236219154.ta.chkpt\" at 2024-07-06 11:23:39 after 360 attacks.\n"
     ]
    },
    {
     "name": "stdout",
     "output_type": "stream",
     "text": [
      "\n",
      "\n",
      "=============================================================================================================================\n",
      "=============================================================================================================================\n",
      "\n"
     ]
    },
    {
     "name": "stderr",
     "output_type": "stream",
     "text": [
      "[Succeeded / Failed / Skipped / Total] 206 / 77 / 82 / 365:  73%|██████████████▌     | 365/500 [05:46<02:08,  1.05it/s]textattack: Saving checkpoint under \"checkpoints\\1720236224381.ta.chkpt\" at 2024-07-06 11:23:44 after 365 attacks.\n",
      "[Succeeded / Failed / Skipped / Total] 206 / 77 / 83 / 366:  73%|██████████████▋     | 366/500 [05:46<02:07,  1.05it/s]"
     ]
    },
    {
     "name": "stdout",
     "output_type": "stream",
     "text": [
      "\n",
      "\n",
      "=============================================================================================================================\n",
      "=============================================================================================================================\n",
      "\n"
     ]
    },
    {
     "name": "stderr",
     "output_type": "stream",
     "text": [
      "[Succeeded / Failed / Skipped / Total] 208 / 79 / 83 / 370:  74%|██████████████▊     | 370/500 [05:50<02:03,  1.05it/s]textattack: Saving checkpoint under \"checkpoints\\1720236228401.ta.chkpt\" at 2024-07-06 11:23:48 after 370 attacks.\n",
      "[Succeeded / Failed / Skipped / Total] 208 / 79 / 84 / 371:  74%|██████████████▊     | 371/500 [05:50<02:02,  1.06it/s]"
     ]
    },
    {
     "name": "stdout",
     "output_type": "stream",
     "text": [
      "\n",
      "\n",
      "=============================================================================================================================\n",
      "=============================================================================================================================\n",
      "\n"
     ]
    },
    {
     "name": "stderr",
     "output_type": "stream",
     "text": [
      "[Succeeded / Failed / Skipped / Total] 211 / 80 / 84 / 375:  75%|███████████████     | 375/500 [05:56<01:58,  1.05it/s]textattack: Saving checkpoint under \"checkpoints\\1720236233963.ta.chkpt\" at 2024-07-06 11:23:53 after 375 attacks.\n"
     ]
    },
    {
     "name": "stdout",
     "output_type": "stream",
     "text": [
      "\n",
      "\n",
      "=============================================================================================================================\n",
      "=============================================================================================================================\n",
      "\n"
     ]
    },
    {
     "name": "stderr",
     "output_type": "stream",
     "text": [
      "[Succeeded / Failed / Skipped / Total] 215 / 80 / 85 / 380:  76%|███████████████▏    | 380/500 [05:59<01:53,  1.06it/s]textattack: Saving checkpoint under \"checkpoints\\1720236236575.ta.chkpt\" at 2024-07-06 11:23:56 after 380 attacks.\n"
     ]
    },
    {
     "name": "stdout",
     "output_type": "stream",
     "text": [
      "\n",
      "\n",
      "=============================================================================================================================\n",
      "=============================================================================================================================\n",
      "\n"
     ]
    },
    {
     "name": "stderr",
     "output_type": "stream",
     "text": [
      "[Succeeded / Failed / Skipped / Total] 219 / 81 / 85 / 385:  77%|███████████████▍    | 385/500 [06:03<01:48,  1.06it/s]textattack: Saving checkpoint under \"checkpoints\\1720236241141.ta.chkpt\" at 2024-07-06 11:24:01 after 385 attacks.\n"
     ]
    },
    {
     "name": "stdout",
     "output_type": "stream",
     "text": [
      "\n",
      "\n",
      "=============================================================================================================================\n",
      "=============================================================================================================================\n",
      "\n"
     ]
    },
    {
     "name": "stderr",
     "output_type": "stream",
     "text": [
      "[Succeeded / Failed / Skipped / Total] 222 / 82 / 86 / 390:  78%|███████████████▌    | 390/500 [06:06<01:43,  1.06it/s]textattack: Saving checkpoint under \"checkpoints\\1720236243975.ta.chkpt\" at 2024-07-06 11:24:03 after 390 attacks.\n"
     ]
    },
    {
     "name": "stdout",
     "output_type": "stream",
     "text": [
      "\n",
      "\n",
      "=============================================================================================================================\n",
      "=============================================================================================================================\n",
      "\n"
     ]
    },
    {
     "name": "stderr",
     "output_type": "stream",
     "text": [
      "[Succeeded / Failed / Skipped / Total] 224 / 84 / 87 / 395:  79%|███████████████▊    | 395/500 [06:13<01:39,  1.06it/s]textattack: Saving checkpoint under \"checkpoints\\1720236250919.ta.chkpt\" at 2024-07-06 11:24:10 after 395 attacks.\n"
     ]
    },
    {
     "name": "stdout",
     "output_type": "stream",
     "text": [
      "\n",
      "\n",
      "=============================================================================================================================\n",
      "=============================================================================================================================\n",
      "\n"
     ]
    },
    {
     "name": "stderr",
     "output_type": "stream",
     "text": [
      "[Succeeded / Failed / Skipped / Total] 229 / 84 / 87 / 400:  80%|████████████████    | 400/500 [06:19<01:34,  1.05it/s]textattack: Saving checkpoint under \"checkpoints\\1720236256799.ta.chkpt\" at 2024-07-06 11:24:16 after 400 attacks.\n"
     ]
    },
    {
     "name": "stdout",
     "output_type": "stream",
     "text": [
      "\n",
      "\n",
      "=============================================================================================================================\n",
      "=============================================================================================================================\n",
      "\n"
     ]
    },
    {
     "name": "stderr",
     "output_type": "stream",
     "text": [
      "[Succeeded / Failed / Skipped / Total] 232 / 86 / 87 / 405:  81%|████████████████▏   | 405/500 [06:24<01:30,  1.05it/s]textattack: Saving checkpoint under \"checkpoints\\1720236262225.ta.chkpt\" at 2024-07-06 11:24:22 after 405 attacks.\n"
     ]
    },
    {
     "name": "stdout",
     "output_type": "stream",
     "text": [
      "\n",
      "\n",
      "=============================================================================================================================\n",
      "=============================================================================================================================\n",
      "\n"
     ]
    },
    {
     "name": "stderr",
     "output_type": "stream",
     "text": [
      "[Succeeded / Failed / Skipped / Total] 235 / 87 / 88 / 410:  82%|████████████████▍   | 410/500 [06:28<01:25,  1.06it/s]textattack: Saving checkpoint under \"checkpoints\\1720236266071.ta.chkpt\" at 2024-07-06 11:24:26 after 410 attacks.\n"
     ]
    },
    {
     "name": "stdout",
     "output_type": "stream",
     "text": [
      "\n",
      "\n",
      "=============================================================================================================================\n",
      "=============================================================================================================================\n",
      "\n"
     ]
    },
    {
     "name": "stderr",
     "output_type": "stream",
     "text": [
      "[Succeeded / Failed / Skipped / Total] 235 / 88 / 92 / 415:  83%|████████████████▌   | 415/500 [06:30<01:19,  1.06it/s]textattack: Saving checkpoint under \"checkpoints\\1720236267652.ta.chkpt\" at 2024-07-06 11:24:27 after 415 attacks.\n"
     ]
    },
    {
     "name": "stdout",
     "output_type": "stream",
     "text": [
      "\n",
      "\n",
      "=============================================================================================================================\n",
      "=============================================================================================================================\n",
      "\n"
     ]
    },
    {
     "name": "stderr",
     "output_type": "stream",
     "text": [
      "[Succeeded / Failed / Skipped / Total] 238 / 89 / 93 / 420:  84%|████████████████▊   | 420/500 [06:36<01:15,  1.06it/s]textattack: Saving checkpoint under \"checkpoints\\1720236274227.ta.chkpt\" at 2024-07-06 11:24:34 after 420 attacks.\n"
     ]
    },
    {
     "name": "stdout",
     "output_type": "stream",
     "text": [
      "\n",
      "\n",
      "=============================================================================================================================\n",
      "=============================================================================================================================\n",
      "\n"
     ]
    },
    {
     "name": "stderr",
     "output_type": "stream",
     "text": [
      "[Succeeded / Failed / Skipped / Total] 243 / 89 / 93 / 425:  85%|█████████████████   | 425/500 [06:42<01:11,  1.05it/s]textattack: Saving checkpoint under \"checkpoints\\1720236280480.ta.chkpt\" at 2024-07-06 11:24:40 after 425 attacks.\n"
     ]
    },
    {
     "name": "stdout",
     "output_type": "stream",
     "text": [
      "\n",
      "\n",
      "=============================================================================================================================\n",
      "=============================================================================================================================\n",
      "\n"
     ]
    },
    {
     "name": "stderr",
     "output_type": "stream",
     "text": [
      "[Succeeded / Failed / Skipped / Total] 246 / 91 / 93 / 430:  86%|█████████████████▏  | 430/500 [06:50<01:06,  1.05it/s]textattack: Saving checkpoint under \"checkpoints\\1720236287913.ta.chkpt\" at 2024-07-06 11:24:47 after 430 attacks.\n",
      "[Succeeded / Failed / Skipped / Total] 246 / 91 / 94 / 431:  86%|█████████████████▏  | 431/500 [06:50<01:05,  1.05it/s]"
     ]
    },
    {
     "name": "stdout",
     "output_type": "stream",
     "text": [
      "\n",
      "\n",
      "=============================================================================================================================\n",
      "=============================================================================================================================\n",
      "\n"
     ]
    },
    {
     "name": "stderr",
     "output_type": "stream",
     "text": [
      "[Succeeded / Failed / Skipped / Total] 250 / 91 / 94 / 435:  87%|█████████████████▍  | 435/500 [06:54<01:01,  1.05it/s]textattack: Saving checkpoint under \"checkpoints\\1720236291518.ta.chkpt\" at 2024-07-06 11:24:51 after 435 attacks.\n",
      "[Succeeded / Failed / Skipped / Total] 250 / 91 / 95 / 436:  87%|█████████████████▍  | 436/500 [06:54<01:00,  1.05it/s]"
     ]
    },
    {
     "name": "stdout",
     "output_type": "stream",
     "text": [
      "\n",
      "\n",
      "=============================================================================================================================\n",
      "=============================================================================================================================\n",
      "\n"
     ]
    },
    {
     "name": "stderr",
     "output_type": "stream",
     "text": [
      "[Succeeded / Failed / Skipped / Total] 254 / 91 / 95 / 440:  88%|█████████████████▌  | 440/500 [07:02<00:57,  1.04it/s]textattack: Saving checkpoint under \"checkpoints\\1720236299588.ta.chkpt\" at 2024-07-06 11:24:59 after 440 attacks.\n"
     ]
    },
    {
     "name": "stdout",
     "output_type": "stream",
     "text": [
      "\n",
      "\n",
      "=============================================================================================================================\n",
      "=============================================================================================================================\n",
      "\n"
     ]
    },
    {
     "name": "stderr",
     "output_type": "stream",
     "text": [
      "[Succeeded / Failed / Skipped / Total] 258 / 91 / 96 / 445:  89%|█████████████████▊  | 445/500 [07:04<00:52,  1.05it/s]textattack: Saving checkpoint under \"checkpoints\\1720236301787.ta.chkpt\" at 2024-07-06 11:25:01 after 445 attacks.\n"
     ]
    },
    {
     "name": "stdout",
     "output_type": "stream",
     "text": [
      "\n",
      "\n",
      "=============================================================================================================================\n",
      "=============================================================================================================================\n",
      "\n"
     ]
    },
    {
     "name": "stderr",
     "output_type": "stream",
     "text": [
      "[Succeeded / Failed / Skipped / Total] 260 / 92 / 98 / 450:  90%|██████████████████  | 450/500 [07:07<00:47,  1.05it/s]textattack: Saving checkpoint under \"checkpoints\\1720236304885.ta.chkpt\" at 2024-07-06 11:25:04 after 450 attacks.\n"
     ]
    },
    {
     "name": "stdout",
     "output_type": "stream",
     "text": [
      "\n",
      "\n",
      "=============================================================================================================================\n",
      "=============================================================================================================================\n",
      "\n"
     ]
    },
    {
     "name": "stderr",
     "output_type": "stream",
     "text": [
      "[Succeeded / Failed / Skipped / Total] 264 / 92 / 99 / 455:  91%|██████████████████▏ | 455/500 [07:11<00:42,  1.05it/s]textattack: Saving checkpoint under \"checkpoints\\1720236308926.ta.chkpt\" at 2024-07-06 11:25:08 after 455 attacks.\n",
      "[Succeeded / Failed / Skipped / Total] 264 / 92 / 100 / 456:  91%|█████████████████▎ | 456/500 [07:11<00:41,  1.06it/s]"
     ]
    },
    {
     "name": "stdout",
     "output_type": "stream",
     "text": [
      "\n",
      "\n",
      "=============================================================================================================================\n",
      "=============================================================================================================================\n",
      "\n"
     ]
    },
    {
     "name": "stderr",
     "output_type": "stream",
     "text": [
      "[Succeeded / Failed / Skipped / Total] 267 / 93 / 100 / 460:  92%|█████████████████▍ | 460/500 [07:17<00:38,  1.05it/s]textattack: Saving checkpoint under \"checkpoints\\1720236314624.ta.chkpt\" at 2024-07-06 11:25:14 after 460 attacks.\n"
     ]
    },
    {
     "name": "stdout",
     "output_type": "stream",
     "text": [
      "\n",
      "\n",
      "=============================================================================================================================\n",
      "=============================================================================================================================\n",
      "\n"
     ]
    },
    {
     "name": "stderr",
     "output_type": "stream",
     "text": [
      "[Succeeded / Failed / Skipped / Total] 270 / 93 / 102 / 465:  93%|█████████████████▋ | 465/500 [07:23<00:33,  1.05it/s]textattack: Saving checkpoint under \"checkpoints\\1720236320670.ta.chkpt\" at 2024-07-06 11:25:20 after 465 attacks.\n"
     ]
    },
    {
     "name": "stdout",
     "output_type": "stream",
     "text": [
      "\n",
      "\n",
      "=============================================================================================================================\n",
      "=============================================================================================================================\n",
      "\n"
     ]
    },
    {
     "name": "stderr",
     "output_type": "stream",
     "text": [
      "[Succeeded / Failed / Skipped / Total] 274 / 93 / 103 / 470:  94%|█████████████████▊ | 470/500 [07:25<00:28,  1.05it/s]textattack: Saving checkpoint under \"checkpoints\\1720236323058.ta.chkpt\" at 2024-07-06 11:25:23 after 470 attacks.\n"
     ]
    },
    {
     "name": "stdout",
     "output_type": "stream",
     "text": [
      "\n",
      "\n",
      "=============================================================================================================================\n",
      "=============================================================================================================================\n",
      "\n"
     ]
    },
    {
     "name": "stderr",
     "output_type": "stream",
     "text": [
      "[Succeeded / Failed / Skipped / Total] 276 / 96 / 103 / 475:  95%|██████████████████ | 475/500 [07:37<00:24,  1.04it/s]textattack: Saving checkpoint under \"checkpoints\\1720236334533.ta.chkpt\" at 2024-07-06 11:25:34 after 475 attacks.\n"
     ]
    },
    {
     "name": "stdout",
     "output_type": "stream",
     "text": [
      "\n",
      "\n",
      "=============================================================================================================================\n",
      "=============================================================================================================================\n",
      "\n"
     ]
    },
    {
     "name": "stderr",
     "output_type": "stream",
     "text": [
      "[Succeeded / Failed / Skipped / Total] 280 / 97 / 103 / 480:  96%|██████████████████▏| 480/500 [07:40<00:19,  1.04it/s]textattack: Saving checkpoint under \"checkpoints\\1720236337657.ta.chkpt\" at 2024-07-06 11:25:37 after 480 attacks.\n"
     ]
    },
    {
     "name": "stdout",
     "output_type": "stream",
     "text": [
      "\n",
      "\n",
      "=============================================================================================================================\n",
      "=============================================================================================================================\n",
      "\n"
     ]
    },
    {
     "name": "stderr",
     "output_type": "stream",
     "text": [
      "[Succeeded / Failed / Skipped / Total] 283 / 98 / 104 / 485:  97%|██████████████████▍| 485/500 [07:45<00:14,  1.04it/s]textattack: Saving checkpoint under \"checkpoints\\1720236343402.ta.chkpt\" at 2024-07-06 11:25:43 after 485 attacks.\n"
     ]
    },
    {
     "name": "stdout",
     "output_type": "stream",
     "text": [
      "\n",
      "\n",
      "=============================================================================================================================\n",
      "=============================================================================================================================\n",
      "\n"
     ]
    },
    {
     "name": "stderr",
     "output_type": "stream",
     "text": [
      "[Succeeded / Failed / Skipped / Total] 285 / 99 / 106 / 490:  98%|██████████████████▌| 490/500 [07:49<00:09,  1.04it/s]textattack: Saving checkpoint under \"checkpoints\\1720236346918.ta.chkpt\" at 2024-07-06 11:25:46 after 490 attacks.\n",
      "[Succeeded / Failed / Skipped / Total] 285 / 99 / 107 / 491:  98%|██████████████████▋| 491/500 [07:49<00:08,  1.05it/s]"
     ]
    },
    {
     "name": "stdout",
     "output_type": "stream",
     "text": [
      "\n",
      "\n",
      "=============================================================================================================================\n",
      "=============================================================================================================================\n",
      "\n"
     ]
    },
    {
     "name": "stderr",
     "output_type": "stream",
     "text": [
      "[Succeeded / Failed / Skipped / Total] 288 / 100 / 107 / 495:  99%|█████████████████▊| 495/500 [07:55<00:04,  1.04it/s]textattack: Saving checkpoint under \"checkpoints\\1720236352505.ta.chkpt\" at 2024-07-06 11:25:52 after 495 attacks.\n"
     ]
    },
    {
     "name": "stdout",
     "output_type": "stream",
     "text": [
      "\n",
      "\n",
      "=============================================================================================================================\n",
      "=============================================================================================================================\n",
      "\n"
     ]
    },
    {
     "name": "stderr",
     "output_type": "stream",
     "text": [
      "[Succeeded / Failed / Skipped / Total] 293 / 100 / 107 / 500: 100%|██████████████████| 500/500 [08:01<00:00,  1.04it/s]textattack: Saving checkpoint under \"checkpoints\\1720236359274.ta.chkpt\" at 2024-07-06 11:25:59 after 500 attacks.\n",
      "[Succeeded / Failed / Skipped / Total] 293 / 100 / 107 / 500: 100%|██████████████████| 500/500 [08:01<00:00,  1.04it/s]"
     ]
    },
    {
     "name": "stdout",
     "output_type": "stream",
     "text": [
      "\n",
      "\n",
      "=============================================================================================================================\n",
      "=============================================================================================================================\n",
      "\n",
      "\n",
      "+-------------------------------+--------+\n",
      "| Attack Results                |        |\n",
      "+-------------------------------+--------+\n",
      "| Number of successful attacks: | 293    |\n",
      "| Number of failed attacks:     | 100    |\n",
      "| Number of skipped attacks:    | 107    |\n",
      "| Original accuracy:            | 78.6%  |\n",
      "| Accuracy under attack:        | 20.0%  |\n",
      "| Attack success rate:          | 74.55% |\n",
      "| Average perturbed word %:     | 18.33% |\n",
      "| Average num. words per input: | 18.4   |\n",
      "| Avg num queries:              | 33.26  |\n",
      "+-------------------------------+--------+\n"
     ]
    },
    {
     "name": "stderr",
     "output_type": "stream",
     "text": [
      "\n"
     ]
    }
   ],
   "source": [
    "runAttack(disbert_model_wrapper_svc_mr, n_samples, 'attack_results_new/disbertmrattacksvc'+suffix, target_ds_mr)"
   ]
  },
  {
   "cell_type": "markdown",
   "id": "11f01fff-dcd8-43f2-9b5b-d84826b7029b",
   "metadata": {},
   "source": [
    "### CLIP"
   ]
  },
  {
   "cell_type": "code",
   "execution_count": 24,
   "id": "91dc94fc-775d-4ee6-ba68-20bee81b8148",
   "metadata": {},
   "outputs": [
    {
     "name": "stderr",
     "output_type": "stream",
     "text": [
      "D:\\anaconda3\\envs\\tf\\lib\\site-packages\\huggingface_hub\\file_download.py:1132: FutureWarning: `resume_download` is deprecated and will be removed in version 1.0.0. Downloads always resume when possible. If you want to force a new download, use `force_download=True`.\n",
      "  warnings.warn(\n"
     ]
    }
   ],
   "source": [
    "# Load CLIP model and processor\n",
    "model_name = \"openai/clip-vit-base-patch32\"\n",
    "clip_processor = CLIPProcessor.from_pretrained(model_name)\n",
    "clip_model = CLIPModel.from_pretrained(model_name)\n",
    "\n",
    "# Access text encoder\n",
    "text_encoder = clip_model.text_model"
   ]
  },
  {
   "cell_type": "code",
   "execution_count": 25,
   "id": "806470a6-11a7-47bf-99c8-850663674716",
   "metadata": {},
   "outputs": [
    {
     "name": "stdout",
     "output_type": "stream",
     "text": [
      "Log Reg 0.7495309568480301\n",
      "RF 0.7054409005628518\n",
      "KNN 0.6885553470919324\n",
      "SVC 0.7551594746716698\n"
     ]
    }
   ],
   "source": [
    "clipmrtrain = pd.read_csv('dataset_embeddings/clipmrtrain.txt', header=None)\n",
    "clipmrtest = pd.read_csv('dataset_embeddings/clipmrtest.txt', header=None)\n",
    "lr_clip_mr, rf_clip_mr, knn_clip_mr, svc_clip_mr = adaptation(clipmrtrain, clipmrtest)"
   ]
  },
  {
   "cell_type": "code",
   "execution_count": 26,
   "id": "1226de83-7330-4793-bbbb-4ff4b79bb3e7",
   "metadata": {},
   "outputs": [],
   "source": [
    "# custom model wrapper for CLIP\n",
    "class CLIPModelWrapper(HuggingFaceModelWrapper):\n",
    "    def __init__(self, processor, text_encoder, classifier):\n",
    "        self.processor = processor\n",
    "        self.model = text_encoder\n",
    "        self.classifier = classifier\n",
    "\n",
    "    def __call__(self, text_input_list):\n",
    "        inputs = self.processor(text_input_list, return_tensors='pt', padding=True, truncation=True)\n",
    "        outputs = self.model(**inputs).pooler_output\n",
    "        with torch.no_grad():\n",
    "            preds = self.classifier.predict_proba(outputs)\n",
    "        return preds"
   ]
  },
  {
   "cell_type": "code",
   "execution_count": 27,
   "id": "34a07916-1e13-4b75-b9a9-a36c06e4feb1",
   "metadata": {},
   "outputs": [],
   "source": [
    "clip_model_wrapper_lr_mr = CLIPModelWrapper(clip_processor, text_encoder, lr_clip_mr)\n",
    "clip_model_wrapper_rf_mr = CLIPModelWrapper(clip_processor, text_encoder, rf_clip_mr)\n",
    "clip_model_wrapper_knn_mr = CLIPModelWrapper(clip_processor, text_encoder, knn_clip_mr)\n",
    "clip_model_wrapper_svc_mr = CLIPModelWrapper(clip_processor, text_encoder, svc_clip_mr)"
   ]
  },
  {
   "cell_type": "code",
   "execution_count": 28,
   "id": "31968c92-5988-4472-8c2b-de82302e8543",
   "metadata": {},
   "outputs": [
    {
     "name": "stderr",
     "output_type": "stream",
     "text": [
      "textattack: Unknown if model of class <class 'transformers.models.clip.modeling_clip.CLIPTextTransformer'> compatible with goal function <class 'textattack.goal_functions.classification.untargeted_classification.UntargetedClassification'>.\n",
      "textattack: Logging to CSV at path attack_results_new/clipmrattacklrsim08.csv\n"
     ]
    },
    {
     "name": "stdout",
     "output_type": "stream",
     "text": [
      "Attack(\n",
      "  (search_method): GreedyWordSwapWIR(\n",
      "    (wir_method):  delete\n",
      "  )\n",
      "  (goal_function):  UntargetedClassification\n",
      "  (transformation):  WordSwapEmbedding(\n",
      "    (max_candidates):  50\n",
      "    (embedding):  WordEmbedding\n",
      "  )\n",
      "  (constraints): \n",
      "    (0): WordEmbeddingDistance(\n",
      "        (embedding):  WordEmbedding\n",
      "        (min_cos_sim):  0.8\n",
      "        (cased):  False\n",
      "        (include_unknown_words):  True\n",
      "        (compare_against_original):  True\n",
      "      )\n",
      "    (1): PartOfSpeech(\n",
      "        (tagger_type):  nltk\n",
      "        (tagset):  universal\n",
      "        (allow_verb_noun_swap):  True\n",
      "        (compare_against_original):  True\n",
      "      )\n",
      "    (2): UniversalSentenceEncoder(\n",
      "        (metric):  angular\n",
      "        (threshold):  0.840845057\n",
      "        (window_size):  15\n",
      "        (skip_text_shorter_than_window):  True\n",
      "        (compare_against_original):  False\n",
      "      )\n",
      "    (3): RepeatModification\n",
      "    (4): StopwordModification\n",
      "    (5): InputColumnModification(\n",
      "        (matching_column_labels):  ['premise', 'hypothesis']\n",
      "        (columns_to_ignore):  {'premise'}\n",
      "      )\n",
      "  (is_black_box):  True\n",
      ") \n",
      "\n"
     ]
    },
    {
     "name": "stderr",
     "output_type": "stream",
     "text": [
      "[Succeeded / Failed / Skipped / Total] 4 / 1 / 0 / 5:   1%|▎                           | 5/500 [00:12<20:32,  2.49s/it]textattack: Saving checkpoint under \"checkpoints\\1720236792014.ta.chkpt\" at 2024-07-06 11:33:12 after 5 attacks.\n",
      "[Succeeded / Failed / Skipped / Total] 4 / 1 / 1 / 6:   1%|▎                           | 6/500 [00:12<17:17,  2.10s/it]"
     ]
    },
    {
     "name": "stdout",
     "output_type": "stream",
     "text": [
      "\n",
      "\n",
      "=============================================================================================================================\n",
      "=============================================================================================================================\n",
      "\n"
     ]
    },
    {
     "name": "stderr",
     "output_type": "stream",
     "text": [
      "[Succeeded / Failed / Skipped / Total] 8 / 1 / 1 / 10:   2%|▌                         | 10/500 [00:16<13:31,  1.66s/it]textattack: Saving checkpoint under \"checkpoints\\1720236796127.ta.chkpt\" at 2024-07-06 11:33:16 after 10 attacks.\n"
     ]
    },
    {
     "name": "stdout",
     "output_type": "stream",
     "text": [
      "\n",
      "\n",
      "=============================================================================================================================\n",
      "=============================================================================================================================\n",
      "\n"
     ]
    },
    {
     "name": "stderr",
     "output_type": "stream",
     "text": [
      "[Succeeded / Failed / Skipped / Total] 11 / 3 / 1 / 15:   3%|▊                        | 15/500 [00:24<13:27,  1.67s/it]textattack: Saving checkpoint under \"checkpoints\\1720236804551.ta.chkpt\" at 2024-07-06 11:33:24 after 15 attacks.\n"
     ]
    },
    {
     "name": "stdout",
     "output_type": "stream",
     "text": [
      "\n",
      "\n",
      "=============================================================================================================================\n",
      "=============================================================================================================================\n",
      "\n"
     ]
    },
    {
     "name": "stderr",
     "output_type": "stream",
     "text": [
      "[Succeeded / Failed / Skipped / Total] 16 / 3 / 1 / 20:   4%|█                        | 20/500 [00:27<11:08,  1.39s/it]textattack: Saving checkpoint under \"checkpoints\\1720236807410.ta.chkpt\" at 2024-07-06 11:33:27 after 20 attacks.\n"
     ]
    },
    {
     "name": "stdout",
     "output_type": "stream",
     "text": [
      "\n",
      "\n",
      "=============================================================================================================================\n",
      "=============================================================================================================================\n",
      "\n"
     ]
    },
    {
     "name": "stderr",
     "output_type": "stream",
     "text": [
      "[Succeeded / Failed / Skipped / Total] 18 / 5 / 2 / 25:   5%|█▎                       | 25/500 [00:33<10:27,  1.32s/it]textattack: Saving checkpoint under \"checkpoints\\1720236812601.ta.chkpt\" at 2024-07-06 11:33:32 after 25 attacks.\n"
     ]
    },
    {
     "name": "stdout",
     "output_type": "stream",
     "text": [
      "\n",
      "\n",
      "=============================================================================================================================\n",
      "=============================================================================================================================\n",
      "\n"
     ]
    },
    {
     "name": "stderr",
     "output_type": "stream",
     "text": [
      "[Succeeded / Failed / Skipped / Total] 22 / 5 / 3 / 30:   6%|█▌                       | 30/500 [00:37<09:43,  1.24s/it]textattack: Saving checkpoint under \"checkpoints\\1720236816825.ta.chkpt\" at 2024-07-06 11:33:36 after 30 attacks.\n"
     ]
    },
    {
     "name": "stdout",
     "output_type": "stream",
     "text": [
      "\n",
      "\n",
      "=============================================================================================================================\n",
      "=============================================================================================================================\n",
      "\n"
     ]
    },
    {
     "name": "stderr",
     "output_type": "stream",
     "text": [
      "[Succeeded / Failed / Skipped / Total] 24 / 6 / 5 / 35:   7%|█▊                       | 35/500 [00:39<08:40,  1.12s/it]textattack: Saving checkpoint under \"checkpoints\\1720236818721.ta.chkpt\" at 2024-07-06 11:33:38 after 35 attacks.\n"
     ]
    },
    {
     "name": "stdout",
     "output_type": "stream",
     "text": [
      "\n",
      "\n",
      "=============================================================================================================================\n",
      "=============================================================================================================================\n",
      "\n"
     ]
    },
    {
     "name": "stderr",
     "output_type": "stream",
     "text": [
      "[Succeeded / Failed / Skipped / Total] 27 / 6 / 7 / 40:   8%|██                       | 40/500 [00:41<07:58,  1.04s/it]textattack: Saving checkpoint under \"checkpoints\\1720236821133.ta.chkpt\" at 2024-07-06 11:33:41 after 40 attacks.\n"
     ]
    },
    {
     "name": "stdout",
     "output_type": "stream",
     "text": [
      "\n",
      "\n",
      "=============================================================================================================================\n",
      "=============================================================================================================================\n",
      "\n"
     ]
    },
    {
     "name": "stderr",
     "output_type": "stream",
     "text": [
      "[Succeeded / Failed / Skipped / Total] 30 / 6 / 9 / 45:   9%|██▎                      | 45/500 [00:48<08:11,  1.08s/it]textattack: Saving checkpoint under \"checkpoints\\1720236828213.ta.chkpt\" at 2024-07-06 11:33:48 after 45 attacks.\n"
     ]
    },
    {
     "name": "stdout",
     "output_type": "stream",
     "text": [
      "\n",
      "\n",
      "=============================================================================================================================\n",
      "=============================================================================================================================\n",
      "\n"
     ]
    },
    {
     "name": "stderr",
     "output_type": "stream",
     "text": [
      "[Succeeded / Failed / Skipped / Total] 35 / 6 / 9 / 50:  10%|██▌                      | 50/500 [00:52<07:56,  1.06s/it]textattack: Saving checkpoint under \"checkpoints\\1720236832456.ta.chkpt\" at 2024-07-06 11:33:52 after 50 attacks.\n"
     ]
    },
    {
     "name": "stdout",
     "output_type": "stream",
     "text": [
      "\n",
      "\n",
      "=============================================================================================================================\n",
      "=============================================================================================================================\n",
      "\n"
     ]
    },
    {
     "name": "stderr",
     "output_type": "stream",
     "text": [
      "[Succeeded / Failed / Skipped / Total] 38 / 7 / 10 / 55:  11%|██▋                     | 55/500 [00:58<07:56,  1.07s/it]textattack: Saving checkpoint under \"checkpoints\\1720236838427.ta.chkpt\" at 2024-07-06 11:33:58 after 55 attacks.\n"
     ]
    },
    {
     "name": "stdout",
     "output_type": "stream",
     "text": [
      "\n",
      "\n",
      "=============================================================================================================================\n",
      "=============================================================================================================================\n",
      "\n"
     ]
    },
    {
     "name": "stderr",
     "output_type": "stream",
     "text": [
      "[Succeeded / Failed / Skipped / Total] 42 / 7 / 11 / 60:  12%|██▉                     | 60/500 [01:02<07:38,  1.04s/it]textattack: Saving checkpoint under \"checkpoints\\1720236842045.ta.chkpt\" at 2024-07-06 11:34:02 after 60 attacks.\n",
      "[Succeeded / Failed / Skipped / Total] 42 / 7 / 12 / 61:  12%|██▉                     | 61/500 [01:02<07:30,  1.03s/it]"
     ]
    },
    {
     "name": "stdout",
     "output_type": "stream",
     "text": [
      "\n",
      "\n",
      "=============================================================================================================================\n",
      "=============================================================================================================================\n",
      "\n"
     ]
    },
    {
     "name": "stderr",
     "output_type": "stream",
     "text": [
      "[Succeeded / Failed / Skipped / Total] 45 / 8 / 12 / 65:  13%|███                     | 65/500 [01:06<07:28,  1.03s/it]textattack: Saving checkpoint under \"checkpoints\\1720236846542.ta.chkpt\" at 2024-07-06 11:34:06 after 65 attacks.\n"
     ]
    },
    {
     "name": "stdout",
     "output_type": "stream",
     "text": [
      "\n",
      "\n",
      "=============================================================================================================================\n",
      "=============================================================================================================================\n",
      "\n"
     ]
    },
    {
     "name": "stderr",
     "output_type": "stream",
     "text": [
      "[Succeeded / Failed / Skipped / Total] 48 / 9 / 13 / 70:  14%|███▎                    | 70/500 [01:11<07:21,  1.03s/it]textattack: Saving checkpoint under \"checkpoints\\1720236851462.ta.chkpt\" at 2024-07-06 11:34:11 after 70 attacks.\n"
     ]
    },
    {
     "name": "stdout",
     "output_type": "stream",
     "text": [
      "\n",
      "\n",
      "=============================================================================================================================\n",
      "=============================================================================================================================\n",
      "\n"
     ]
    },
    {
     "name": "stderr",
     "output_type": "stream",
     "text": [
      "[Succeeded / Failed / Skipped / Total] 52 / 10 / 13 / 75:  15%|███▍                   | 75/500 [01:15<07:06,  1.00s/it]textattack: Saving checkpoint under \"checkpoints\\1720236854890.ta.chkpt\" at 2024-07-06 11:34:14 after 75 attacks.\n",
      "[Succeeded / Failed / Skipped / Total] 52 / 10 / 14 / 76:  15%|███▍                   | 76/500 [01:15<07:00,  1.01it/s]"
     ]
    },
    {
     "name": "stdout",
     "output_type": "stream",
     "text": [
      "\n",
      "\n",
      "=============================================================================================================================\n",
      "=============================================================================================================================\n",
      "\n"
     ]
    },
    {
     "name": "stderr",
     "output_type": "stream",
     "text": [
      "[Succeeded / Failed / Skipped / Total] 55 / 10 / 15 / 80:  16%|███▋                   | 80/500 [01:18<06:52,  1.02it/s]textattack: Saving checkpoint under \"checkpoints\\1720236858151.ta.chkpt\" at 2024-07-06 11:34:18 after 80 attacks.\n",
      "[Succeeded / Failed / Skipped / Total] 55 / 10 / 17 / 82:  16%|███▊                   | 82/500 [01:18<06:41,  1.04it/s]"
     ]
    },
    {
     "name": "stdout",
     "output_type": "stream",
     "text": [
      "\n",
      "\n",
      "=============================================================================================================================\n",
      "=============================================================================================================================\n",
      "\n"
     ]
    },
    {
     "name": "stderr",
     "output_type": "stream",
     "text": [
      "[Succeeded / Failed / Skipped / Total] 58 / 10 / 17 / 85:  17%|███▉                   | 85/500 [01:21<06:36,  1.05it/s]textattack: Saving checkpoint under \"checkpoints\\1720236860795.ta.chkpt\" at 2024-07-06 11:34:20 after 85 attacks.\n"
     ]
    },
    {
     "name": "stdout",
     "output_type": "stream",
     "text": [
      "\n",
      "\n",
      "=============================================================================================================================\n",
      "=============================================================================================================================\n",
      "\n"
     ]
    },
    {
     "name": "stderr",
     "output_type": "stream",
     "text": [
      "[Succeeded / Failed / Skipped / Total] 62 / 10 / 18 / 90:  18%|████▏                  | 90/500 [01:25<06:28,  1.05it/s]textattack: Saving checkpoint under \"checkpoints\\1720236864900.ta.chkpt\" at 2024-07-06 11:34:24 after 90 attacks.\n",
      "[Succeeded / Failed / Skipped / Total] 62 / 10 / 19 / 91:  18%|████▏                  | 91/500 [01:25<06:24,  1.06it/s]"
     ]
    },
    {
     "name": "stdout",
     "output_type": "stream",
     "text": [
      "\n",
      "\n",
      "=============================================================================================================================\n",
      "=============================================================================================================================\n",
      "\n"
     ]
    },
    {
     "name": "stderr",
     "output_type": "stream",
     "text": [
      "[Succeeded / Failed / Skipped / Total] 64 / 10 / 21 / 95:  19%|████▎                  | 95/500 [01:28<06:17,  1.07it/s]textattack: Saving checkpoint under \"checkpoints\\1720236868164.ta.chkpt\" at 2024-07-06 11:34:28 after 95 attacks.\n"
     ]
    },
    {
     "name": "stdout",
     "output_type": "stream",
     "text": [
      "\n",
      "\n",
      "=============================================================================================================================\n",
      "=============================================================================================================================\n",
      "\n"
     ]
    },
    {
     "name": "stderr",
     "output_type": "stream",
     "text": [
      "[Succeeded / Failed / Skipped / Total] 69 / 10 / 21 / 100:  20%|████▏                | 100/500 [01:31<06:04,  1.10it/s]textattack: Saving checkpoint under \"checkpoints\\1720236870763.ta.chkpt\" at 2024-07-06 11:34:30 after 100 attacks.\n"
     ]
    },
    {
     "name": "stdout",
     "output_type": "stream",
     "text": [
      "\n",
      "\n",
      "=============================================================================================================================\n",
      "=============================================================================================================================\n",
      "\n"
     ]
    },
    {
     "name": "stderr",
     "output_type": "stream",
     "text": [
      "[Succeeded / Failed / Skipped / Total] 73 / 10 / 22 / 105:  21%|████▍                | 105/500 [01:36<06:02,  1.09it/s]textattack: Saving checkpoint under \"checkpoints\\1720236875954.ta.chkpt\" at 2024-07-06 11:34:35 after 105 attacks.\n",
      "[Succeeded / Failed / Skipped / Total] 73 / 10 / 23 / 106:  21%|████▍                | 106/500 [01:36<05:58,  1.10it/s]"
     ]
    },
    {
     "name": "stdout",
     "output_type": "stream",
     "text": [
      "\n",
      "\n",
      "=============================================================================================================================\n",
      "=============================================================================================================================\n",
      "\n"
     ]
    },
    {
     "name": "stderr",
     "output_type": "stream",
     "text": [
      "[Succeeded / Failed / Skipped / Total] 74 / 11 / 25 / 110:  22%|████▌                | 110/500 [01:38<05:48,  1.12it/s]textattack: Saving checkpoint under \"checkpoints\\1720236877882.ta.chkpt\" at 2024-07-06 11:34:37 after 110 attacks.\n",
      "[Succeeded / Failed / Skipped / Total] 74 / 11 / 26 / 111:  22%|████▋                | 111/500 [01:38<05:44,  1.13it/s]"
     ]
    },
    {
     "name": "stdout",
     "output_type": "stream",
     "text": [
      "\n",
      "\n",
      "=============================================================================================================================\n",
      "=============================================================================================================================\n",
      "\n"
     ]
    },
    {
     "name": "stderr",
     "output_type": "stream",
     "text": [
      "[Succeeded / Failed / Skipped / Total] 76 / 11 / 28 / 115:  23%|████▊                | 115/500 [01:40<05:36,  1.14it/s]textattack: Saving checkpoint under \"checkpoints\\1720236880172.ta.chkpt\" at 2024-07-06 11:34:40 after 115 attacks.\n"
     ]
    },
    {
     "name": "stdout",
     "output_type": "stream",
     "text": [
      "\n",
      "\n",
      "=============================================================================================================================\n",
      "=============================================================================================================================\n",
      "\n"
     ]
    },
    {
     "name": "stderr",
     "output_type": "stream",
     "text": [
      "[Succeeded / Failed / Skipped / Total] 77 / 13 / 30 / 120:  24%|█████                | 120/500 [01:42<05:25,  1.17it/s]textattack: Saving checkpoint under \"checkpoints\\1720236882514.ta.chkpt\" at 2024-07-06 11:34:42 after 120 attacks.\n",
      "[Succeeded / Failed / Skipped / Total] 77 / 13 / 31 / 121:  24%|█████                | 121/500 [01:43<05:23,  1.17it/s]"
     ]
    },
    {
     "name": "stdout",
     "output_type": "stream",
     "text": [
      "\n",
      "\n",
      "=============================================================================================================================\n",
      "=============================================================================================================================\n",
      "\n"
     ]
    },
    {
     "name": "stderr",
     "output_type": "stream",
     "text": [
      "[Succeeded / Failed / Skipped / Total] 80 / 13 / 32 / 125:  25%|█████▎               | 125/500 [01:45<05:15,  1.19it/s]textattack: Saving checkpoint under \"checkpoints\\1720236884894.ta.chkpt\" at 2024-07-06 11:34:44 after 125 attacks.\n"
     ]
    },
    {
     "name": "stdout",
     "output_type": "stream",
     "text": [
      "\n",
      "\n",
      "=============================================================================================================================\n",
      "=============================================================================================================================\n",
      "\n"
     ]
    },
    {
     "name": "stderr",
     "output_type": "stream",
     "text": [
      "[Succeeded / Failed / Skipped / Total] 84 / 14 / 32 / 130:  26%|█████▍               | 130/500 [01:50<05:14,  1.18it/s]textattack: Saving checkpoint under \"checkpoints\\1720236889892.ta.chkpt\" at 2024-07-06 11:34:49 after 130 attacks.\n"
     ]
    },
    {
     "name": "stdout",
     "output_type": "stream",
     "text": [
      "\n",
      "\n",
      "=============================================================================================================================\n",
      "=============================================================================================================================\n",
      "\n"
     ]
    },
    {
     "name": "stderr",
     "output_type": "stream",
     "text": [
      "[Succeeded / Failed / Skipped / Total] 87 / 14 / 34 / 135:  27%|█████▋               | 135/500 [01:53<05:07,  1.19it/s]textattack: Saving checkpoint under \"checkpoints\\1720236893427.ta.chkpt\" at 2024-07-06 11:34:53 after 135 attacks.\n"
     ]
    },
    {
     "name": "stdout",
     "output_type": "stream",
     "text": [
      "\n",
      "\n",
      "=============================================================================================================================\n",
      "=============================================================================================================================\n",
      "\n"
     ]
    },
    {
     "name": "stderr",
     "output_type": "stream",
     "text": [
      "[Succeeded / Failed / Skipped / Total] 90 / 14 / 36 / 140:  28%|█████▉               | 140/500 [01:55<04:58,  1.21it/s]textattack: Saving checkpoint under \"checkpoints\\1720236895535.ta.chkpt\" at 2024-07-06 11:34:55 after 140 attacks.\n"
     ]
    },
    {
     "name": "stdout",
     "output_type": "stream",
     "text": [
      "\n",
      "\n",
      "=============================================================================================================================\n",
      "=============================================================================================================================\n",
      "\n"
     ]
    },
    {
     "name": "stderr",
     "output_type": "stream",
     "text": [
      "[Succeeded / Failed / Skipped / Total] 93 / 14 / 38 / 145:  29%|██████               | 145/500 [01:59<04:51,  1.22it/s]textattack: Saving checkpoint under \"checkpoints\\1720236898819.ta.chkpt\" at 2024-07-06 11:34:58 after 145 attacks.\n",
      "[Succeeded / Failed / Skipped / Total] 93 / 14 / 39 / 146:  29%|██████▏              | 146/500 [01:59<04:49,  1.22it/s]"
     ]
    },
    {
     "name": "stdout",
     "output_type": "stream",
     "text": [
      "\n",
      "\n",
      "=============================================================================================================================\n",
      "=============================================================================================================================\n",
      "\n"
     ]
    },
    {
     "name": "stderr",
     "output_type": "stream",
     "text": [
      "[Succeeded / Failed / Skipped / Total] 96 / 14 / 40 / 150:  30%|██████▎              | 150/500 [02:02<04:46,  1.22it/s]textattack: Saving checkpoint under \"checkpoints\\1720236902187.ta.chkpt\" at 2024-07-06 11:35:02 after 150 attacks.\n"
     ]
    },
    {
     "name": "stdout",
     "output_type": "stream",
     "text": [
      "\n",
      "\n",
      "=============================================================================================================================\n",
      "=============================================================================================================================\n",
      "\n"
     ]
    },
    {
     "name": "stderr",
     "output_type": "stream",
     "text": [
      "[Succeeded / Failed / Skipped / Total] 98 / 15 / 42 / 155:  31%|██████▌              | 155/500 [02:08<04:46,  1.20it/s]textattack: Saving checkpoint under \"checkpoints\\1720236908357.ta.chkpt\" at 2024-07-06 11:35:08 after 155 attacks.\n"
     ]
    },
    {
     "name": "stdout",
     "output_type": "stream",
     "text": [
      "\n",
      "\n",
      "=============================================================================================================================\n",
      "=============================================================================================================================\n",
      "\n"
     ]
    },
    {
     "name": "stderr",
     "output_type": "stream",
     "text": [
      "[Succeeded / Failed / Skipped / Total] 100 / 16 / 44 / 160:  32%|██████▍             | 160/500 [02:13<04:44,  1.20it/s]textattack: Saving checkpoint under \"checkpoints\\1720236913392.ta.chkpt\" at 2024-07-06 11:35:13 after 160 attacks.\n",
      "[Succeeded / Failed / Skipped / Total] 100 / 16 / 45 / 161:  32%|██████▍             | 161/500 [02:13<04:41,  1.20it/s]"
     ]
    },
    {
     "name": "stdout",
     "output_type": "stream",
     "text": [
      "\n",
      "\n",
      "=============================================================================================================================\n",
      "=============================================================================================================================\n",
      "\n"
     ]
    },
    {
     "name": "stderr",
     "output_type": "stream",
     "text": [
      "[Succeeded / Failed / Skipped / Total] 102 / 16 / 47 / 165:  33%|██████▌             | 165/500 [02:15<04:35,  1.21it/s]textattack: Saving checkpoint under \"checkpoints\\1720236915371.ta.chkpt\" at 2024-07-06 11:35:15 after 165 attacks.\n"
     ]
    },
    {
     "name": "stdout",
     "output_type": "stream",
     "text": [
      "\n",
      "\n",
      "=============================================================================================================================\n",
      "=============================================================================================================================\n",
      "\n"
     ]
    },
    {
     "name": "stderr",
     "output_type": "stream",
     "text": [
      "[Succeeded / Failed / Skipped / Total] 105 / 16 / 49 / 170:  34%|██████▊             | 170/500 [02:19<04:30,  1.22it/s]textattack: Saving checkpoint under \"checkpoints\\1720236918675.ta.chkpt\" at 2024-07-06 11:35:18 after 170 attacks.\n"
     ]
    },
    {
     "name": "stdout",
     "output_type": "stream",
     "text": [
      "\n",
      "\n",
      "=============================================================================================================================\n",
      "=============================================================================================================================\n",
      "\n"
     ]
    },
    {
     "name": "stderr",
     "output_type": "stream",
     "text": [
      "[Succeeded / Failed / Skipped / Total] 110 / 16 / 49 / 175:  35%|███████             | 175/500 [02:29<04:37,  1.17it/s]textattack: Saving checkpoint under \"checkpoints\\1720236929139.ta.chkpt\" at 2024-07-06 11:35:29 after 175 attacks.\n",
      "[Succeeded / Failed / Skipped / Total] 110 / 16 / 50 / 176:  35%|███████             | 176/500 [02:29<04:35,  1.18it/s]"
     ]
    },
    {
     "name": "stdout",
     "output_type": "stream",
     "text": [
      "\n",
      "\n",
      "=============================================================================================================================\n",
      "=============================================================================================================================\n",
      "\n"
     ]
    },
    {
     "name": "stderr",
     "output_type": "stream",
     "text": [
      "[Succeeded / Failed / Skipped / Total] 111 / 18 / 51 / 180:  36%|███████▏            | 180/500 [02:33<04:32,  1.17it/s]textattack: Saving checkpoint under \"checkpoints\\1720236932790.ta.chkpt\" at 2024-07-06 11:35:32 after 180 attacks.\n"
     ]
    },
    {
     "name": "stdout",
     "output_type": "stream",
     "text": [
      "\n",
      "\n",
      "=============================================================================================================================\n",
      "=============================================================================================================================\n",
      "\n"
     ]
    },
    {
     "name": "stderr",
     "output_type": "stream",
     "text": [
      "[Succeeded / Failed / Skipped / Total] 113 / 19 / 53 / 185:  37%|███████▍            | 185/500 [02:35<04:24,  1.19it/s]textattack: Saving checkpoint under \"checkpoints\\1720236934903.ta.chkpt\" at 2024-07-06 11:35:34 after 185 attacks.\n",
      "[Succeeded / Failed / Skipped / Total] 113 / 19 / 54 / 186:  37%|███████▍            | 186/500 [02:35<04:22,  1.20it/s]"
     ]
    },
    {
     "name": "stdout",
     "output_type": "stream",
     "text": [
      "\n",
      "\n",
      "=============================================================================================================================\n",
      "=============================================================================================================================\n",
      "\n"
     ]
    },
    {
     "name": "stderr",
     "output_type": "stream",
     "text": [
      "[Succeeded / Failed / Skipped / Total] 117 / 19 / 54 / 190:  38%|███████▌            | 190/500 [02:39<04:19,  1.19it/s]textattack: Saving checkpoint under \"checkpoints\\1720236938745.ta.chkpt\" at 2024-07-06 11:35:38 after 190 attacks.\n"
     ]
    },
    {
     "name": "stdout",
     "output_type": "stream",
     "text": [
      "\n",
      "\n",
      "=============================================================================================================================\n",
      "=============================================================================================================================\n",
      "\n"
     ]
    },
    {
     "name": "stderr",
     "output_type": "stream",
     "text": [
      "[Succeeded / Failed / Skipped / Total] 120 / 19 / 56 / 195:  39%|███████▊            | 195/500 [02:42<04:14,  1.20it/s]textattack: Saving checkpoint under \"checkpoints\\1720236942506.ta.chkpt\" at 2024-07-06 11:35:42 after 195 attacks.\n"
     ]
    },
    {
     "name": "stdout",
     "output_type": "stream",
     "text": [
      "\n",
      "\n",
      "=============================================================================================================================\n",
      "=============================================================================================================================\n",
      "\n"
     ]
    },
    {
     "name": "stderr",
     "output_type": "stream",
     "text": [
      "[Succeeded / Failed / Skipped / Total] 123 / 20 / 57 / 200:  40%|████████            | 200/500 [02:49<04:14,  1.18it/s]textattack: Saving checkpoint under \"checkpoints\\1720236949082.ta.chkpt\" at 2024-07-06 11:35:49 after 200 attacks.\n"
     ]
    },
    {
     "name": "stdout",
     "output_type": "stream",
     "text": [
      "\n",
      "\n",
      "=============================================================================================================================\n",
      "=============================================================================================================================\n",
      "\n"
     ]
    },
    {
     "name": "stderr",
     "output_type": "stream",
     "text": [
      "[Succeeded / Failed / Skipped / Total] 125 / 22 / 58 / 205:  41%|████████▏           | 205/500 [02:54<04:11,  1.18it/s]textattack: Saving checkpoint under \"checkpoints\\1720236953997.ta.chkpt\" at 2024-07-06 11:35:53 after 205 attacks.\n",
      "[Succeeded / Failed / Skipped / Total] 125 / 22 / 59 / 206:  41%|████████▏           | 206/500 [02:54<04:09,  1.18it/s]"
     ]
    },
    {
     "name": "stdout",
     "output_type": "stream",
     "text": [
      "\n",
      "\n",
      "=============================================================================================================================\n",
      "=============================================================================================================================\n",
      "\n"
     ]
    },
    {
     "name": "stderr",
     "output_type": "stream",
     "text": [
      "[Succeeded / Failed / Skipped / Total] 127 / 22 / 61 / 210:  42%|████████▍           | 210/500 [02:56<04:03,  1.19it/s]textattack: Saving checkpoint under \"checkpoints\\1720236956108.ta.chkpt\" at 2024-07-06 11:35:56 after 210 attacks.\n"
     ]
    },
    {
     "name": "stdout",
     "output_type": "stream",
     "text": [
      "\n",
      "\n",
      "=============================================================================================================================\n",
      "=============================================================================================================================\n",
      "\n"
     ]
    },
    {
     "name": "stderr",
     "output_type": "stream",
     "text": [
      "[Succeeded / Failed / Skipped / Total] 129 / 23 / 63 / 215:  43%|████████▌           | 215/500 [03:01<04:00,  1.19it/s]textattack: Saving checkpoint under \"checkpoints\\1720236960849.ta.chkpt\" at 2024-07-06 11:36:00 after 215 attacks.\n"
     ]
    },
    {
     "name": "stdout",
     "output_type": "stream",
     "text": [
      "\n",
      "\n",
      "=============================================================================================================================\n",
      "=============================================================================================================================\n",
      "\n"
     ]
    },
    {
     "name": "stderr",
     "output_type": "stream",
     "text": [
      "[Succeeded / Failed / Skipped / Total] 134 / 23 / 63 / 220:  44%|████████▊           | 220/500 [03:05<03:56,  1.18it/s]textattack: Saving checkpoint under \"checkpoints\\1720236965304.ta.chkpt\" at 2024-07-06 11:36:05 after 220 attacks.\n"
     ]
    },
    {
     "name": "stdout",
     "output_type": "stream",
     "text": [
      "\n",
      "\n",
      "=============================================================================================================================\n",
      "=============================================================================================================================\n",
      "\n"
     ]
    },
    {
     "name": "stderr",
     "output_type": "stream",
     "text": [
      "[Succeeded / Failed / Skipped / Total] 136 / 24 / 65 / 225:  45%|█████████           | 225/500 [03:10<03:52,  1.18it/s]textattack: Saving checkpoint under \"checkpoints\\1720236969568.ta.chkpt\" at 2024-07-06 11:36:09 after 225 attacks.\n"
     ]
    },
    {
     "name": "stdout",
     "output_type": "stream",
     "text": [
      "\n",
      "\n",
      "=============================================================================================================================\n",
      "=============================================================================================================================\n",
      "\n"
     ]
    },
    {
     "name": "stderr",
     "output_type": "stream",
     "text": [
      "[Succeeded / Failed / Skipped / Total] 139 / 25 / 66 / 230:  46%|█████████▏          | 230/500 [03:13<03:47,  1.19it/s]textattack: Saving checkpoint under \"checkpoints\\1720236973443.ta.chkpt\" at 2024-07-06 11:36:13 after 230 attacks.\n",
      "[Succeeded / Failed / Skipped / Total] 139 / 25 / 67 / 231:  46%|█████████▏          | 231/500 [03:13<03:45,  1.19it/s]"
     ]
    },
    {
     "name": "stdout",
     "output_type": "stream",
     "text": [
      "\n",
      "\n",
      "=============================================================================================================================\n",
      "=============================================================================================================================\n",
      "\n"
     ]
    },
    {
     "name": "stderr",
     "output_type": "stream",
     "text": [
      "[Succeeded / Failed / Skipped / Total] 141 / 26 / 68 / 235:  47%|█████████▍          | 235/500 [03:16<03:41,  1.20it/s]textattack: Saving checkpoint under \"checkpoints\\1720236976152.ta.chkpt\" at 2024-07-06 11:36:16 after 235 attacks.\n"
     ]
    },
    {
     "name": "stdout",
     "output_type": "stream",
     "text": [
      "\n",
      "\n",
      "=============================================================================================================================\n",
      "=============================================================================================================================\n",
      "\n"
     ]
    },
    {
     "name": "stderr",
     "output_type": "stream",
     "text": [
      "[Succeeded / Failed / Skipped / Total] 144 / 28 / 68 / 240:  48%|█████████▌          | 240/500 [03:20<03:37,  1.19it/s]textattack: Saving checkpoint under \"checkpoints\\1720236980500.ta.chkpt\" at 2024-07-06 11:36:20 after 240 attacks.\n",
      "[Succeeded / Failed / Skipped / Total] 144 / 28 / 70 / 242:  48%|█████████▋          | 242/500 [03:21<03:34,  1.20it/s]"
     ]
    },
    {
     "name": "stdout",
     "output_type": "stream",
     "text": [
      "\n",
      "\n",
      "=============================================================================================================================\n",
      "=============================================================================================================================\n",
      "\n"
     ]
    },
    {
     "name": "stderr",
     "output_type": "stream",
     "text": [
      "[Succeeded / Failed / Skipped / Total] 146 / 29 / 70 / 245:  49%|█████████▊          | 245/500 [03:24<03:32,  1.20it/s]textattack: Saving checkpoint under \"checkpoints\\1720236983906.ta.chkpt\" at 2024-07-06 11:36:23 after 245 attacks.\n"
     ]
    },
    {
     "name": "stdout",
     "output_type": "stream",
     "text": [
      "\n",
      "\n",
      "=============================================================================================================================\n",
      "=============================================================================================================================\n",
      "\n"
     ]
    },
    {
     "name": "stderr",
     "output_type": "stream",
     "text": [
      "[Succeeded / Failed / Skipped / Total] 147 / 30 / 73 / 250:  50%|██████████          | 250/500 [03:26<03:26,  1.21it/s]textattack: Saving checkpoint under \"checkpoints\\1720236985827.ta.chkpt\" at 2024-07-06 11:36:25 after 250 attacks.\n",
      "[Succeeded / Failed / Skipped / Total] 147 / 30 / 74 / 251:  50%|██████████          | 251/500 [03:26<03:24,  1.22it/s]"
     ]
    },
    {
     "name": "stdout",
     "output_type": "stream",
     "text": [
      "\n",
      "\n",
      "=============================================================================================================================\n",
      "=============================================================================================================================\n",
      "\n"
     ]
    },
    {
     "name": "stderr",
     "output_type": "stream",
     "text": [
      "[Succeeded / Failed / Skipped / Total] 149 / 31 / 75 / 255:  51%|██████████▏         | 255/500 [03:31<03:22,  1.21it/s]textattack: Saving checkpoint under \"checkpoints\\1720236990635.ta.chkpt\" at 2024-07-06 11:36:30 after 255 attacks.\n"
     ]
    },
    {
     "name": "stdout",
     "output_type": "stream",
     "text": [
      "\n",
      "\n",
      "=============================================================================================================================\n",
      "=============================================================================================================================\n",
      "\n"
     ]
    },
    {
     "name": "stderr",
     "output_type": "stream",
     "text": [
      "[Succeeded / Failed / Skipped / Total] 151 / 32 / 77 / 260:  52%|██████████▍         | 260/500 [03:34<03:18,  1.21it/s]textattack: Saving checkpoint under \"checkpoints\\1720236994377.ta.chkpt\" at 2024-07-06 11:36:34 after 260 attacks.\n"
     ]
    },
    {
     "name": "stdout",
     "output_type": "stream",
     "text": [
      "\n",
      "\n",
      "=============================================================================================================================\n",
      "=============================================================================================================================\n",
      "\n"
     ]
    },
    {
     "name": "stderr",
     "output_type": "stream",
     "text": [
      "[Succeeded / Failed / Skipped / Total] 155 / 33 / 77 / 265:  53%|██████████▌         | 265/500 [03:39<03:14,  1.21it/s]textattack: Saving checkpoint under \"checkpoints\\1720236999050.ta.chkpt\" at 2024-07-06 11:36:39 after 265 attacks.\n"
     ]
    },
    {
     "name": "stdout",
     "output_type": "stream",
     "text": [
      "\n",
      "\n",
      "=============================================================================================================================\n",
      "=============================================================================================================================\n",
      "\n"
     ]
    },
    {
     "name": "stderr",
     "output_type": "stream",
     "text": [
      "[Succeeded / Failed / Skipped / Total] 157 / 34 / 79 / 270:  54%|██████████▊         | 270/500 [03:46<03:13,  1.19it/s]textattack: Saving checkpoint under \"checkpoints\\1720237006321.ta.chkpt\" at 2024-07-06 11:36:46 after 270 attacks.\n",
      "[Succeeded / Failed / Skipped / Total] 157 / 34 / 80 / 271:  54%|██████████▊         | 271/500 [03:46<03:11,  1.19it/s]"
     ]
    },
    {
     "name": "stdout",
     "output_type": "stream",
     "text": [
      "\n",
      "\n",
      "=============================================================================================================================\n",
      "=============================================================================================================================\n",
      "\n"
     ]
    },
    {
     "name": "stderr",
     "output_type": "stream",
     "text": [
      "[Succeeded / Failed / Skipped / Total] 160 / 34 / 81 / 275:  55%|███████████         | 275/500 [03:48<03:06,  1.20it/s]textattack: Saving checkpoint under \"checkpoints\\1720237008049.ta.chkpt\" at 2024-07-06 11:36:48 after 275 attacks.\n"
     ]
    },
    {
     "name": "stdout",
     "output_type": "stream",
     "text": [
      "\n",
      "\n",
      "=============================================================================================================================\n",
      "=============================================================================================================================\n",
      "\n"
     ]
    },
    {
     "name": "stderr",
     "output_type": "stream",
     "text": [
      "[Succeeded / Failed / Skipped / Total] 163 / 35 / 82 / 280:  56%|███████████▏        | 280/500 [03:52<03:02,  1.20it/s]textattack: Saving checkpoint under \"checkpoints\\1720237012124.ta.chkpt\" at 2024-07-06 11:36:52 after 280 attacks.\n"
     ]
    },
    {
     "name": "stdout",
     "output_type": "stream",
     "text": [
      "\n",
      "\n",
      "=============================================================================================================================\n",
      "=============================================================================================================================\n",
      "\n"
     ]
    },
    {
     "name": "stderr",
     "output_type": "stream",
     "text": [
      "[Succeeded / Failed / Skipped / Total] 165 / 36 / 84 / 285:  57%|███████████▍        | 285/500 [03:55<02:57,  1.21it/s]textattack: Saving checkpoint under \"checkpoints\\1720237014802.ta.chkpt\" at 2024-07-06 11:36:54 after 285 attacks.\n"
     ]
    },
    {
     "name": "stdout",
     "output_type": "stream",
     "text": [
      "\n",
      "\n",
      "=============================================================================================================================\n",
      "=============================================================================================================================\n",
      "\n"
     ]
    },
    {
     "name": "stderr",
     "output_type": "stream",
     "text": [
      "[Succeeded / Failed / Skipped / Total] 169 / 37 / 84 / 290:  58%|███████████▌        | 290/500 [03:59<02:53,  1.21it/s]textattack: Saving checkpoint under \"checkpoints\\1720237019394.ta.chkpt\" at 2024-07-06 11:36:59 after 290 attacks.\n",
      "[Succeeded / Failed / Skipped / Total] 169 / 37 / 86 / 292:  58%|███████████▋        | 292/500 [03:59<02:50,  1.22it/s]"
     ]
    },
    {
     "name": "stdout",
     "output_type": "stream",
     "text": [
      "\n",
      "\n",
      "=============================================================================================================================\n",
      "=============================================================================================================================\n",
      "\n"
     ]
    },
    {
     "name": "stderr",
     "output_type": "stream",
     "text": [
      "[Succeeded / Failed / Skipped / Total] 171 / 37 / 87 / 295:  59%|███████████▊        | 295/500 [04:01<02:47,  1.22it/s]textattack: Saving checkpoint under \"checkpoints\\1720237021305.ta.chkpt\" at 2024-07-06 11:37:01 after 295 attacks.\n"
     ]
    },
    {
     "name": "stdout",
     "output_type": "stream",
     "text": [
      "\n",
      "\n",
      "=============================================================================================================================\n",
      "=============================================================================================================================\n",
      "\n"
     ]
    },
    {
     "name": "stderr",
     "output_type": "stream",
     "text": [
      "[Succeeded / Failed / Skipped / Total] 173 / 38 / 89 / 300:  60%|████████████        | 300/500 [04:04<02:42,  1.23it/s]textattack: Saving checkpoint under \"checkpoints\\1720237023804.ta.chkpt\" at 2024-07-06 11:37:03 after 300 attacks.\n"
     ]
    },
    {
     "name": "stdout",
     "output_type": "stream",
     "text": [
      "\n",
      "\n",
      "=============================================================================================================================\n",
      "=============================================================================================================================\n",
      "\n"
     ]
    },
    {
     "name": "stderr",
     "output_type": "stream",
     "text": [
      "[Succeeded / Failed / Skipped / Total] 174 / 38 / 93 / 305:  61%|████████████▏       | 305/500 [04:06<02:37,  1.24it/s]textattack: Saving checkpoint under \"checkpoints\\1720237025875.ta.chkpt\" at 2024-07-06 11:37:05 after 305 attacks.\n"
     ]
    },
    {
     "name": "stdout",
     "output_type": "stream",
     "text": [
      "\n",
      "\n",
      "=============================================================================================================================\n",
      "=============================================================================================================================\n",
      "\n"
     ]
    },
    {
     "name": "stderr",
     "output_type": "stream",
     "text": [
      "[Succeeded / Failed / Skipped / Total] 175 / 41 / 94 / 310:  62%|████████████▍       | 310/500 [04:09<02:32,  1.24it/s]textattack: Saving checkpoint under \"checkpoints\\1720237028833.ta.chkpt\" at 2024-07-06 11:37:08 after 310 attacks.\n"
     ]
    },
    {
     "name": "stdout",
     "output_type": "stream",
     "text": [
      "\n",
      "\n",
      "=============================================================================================================================\n",
      "=============================================================================================================================\n",
      "\n"
     ]
    },
    {
     "name": "stderr",
     "output_type": "stream",
     "text": [
      "[Succeeded / Failed / Skipped / Total] 177 / 42 / 96 / 315:  63%|████████████▌       | 315/500 [04:12<02:28,  1.25it/s]textattack: Saving checkpoint under \"checkpoints\\1720237032260.ta.chkpt\" at 2024-07-06 11:37:12 after 315 attacks.\n",
      "[Succeeded / Failed / Skipped / Total] 177 / 42 / 97 / 316:  63%|████████████▋       | 316/500 [04:12<02:27,  1.25it/s]"
     ]
    },
    {
     "name": "stdout",
     "output_type": "stream",
     "text": [
      "\n",
      "\n",
      "=============================================================================================================================\n",
      "=============================================================================================================================\n",
      "\n"
     ]
    },
    {
     "name": "stderr",
     "output_type": "stream",
     "text": [
      "[Succeeded / Failed / Skipped / Total] 180 / 42 / 98 / 320:  64%|████████████▊       | 320/500 [04:20<02:26,  1.23it/s]textattack: Saving checkpoint under \"checkpoints\\1720237040129.ta.chkpt\" at 2024-07-06 11:37:20 after 320 attacks.\n",
      "[Succeeded / Failed / Skipped / Total] 180 / 42 / 99 / 321:  64%|████████████▊       | 321/500 [04:20<02:25,  1.23it/s]"
     ]
    },
    {
     "name": "stdout",
     "output_type": "stream",
     "text": [
      "\n",
      "\n",
      "=============================================================================================================================\n",
      "=============================================================================================================================\n",
      "\n"
     ]
    },
    {
     "name": "stderr",
     "output_type": "stream",
     "text": [
      "[Succeeded / Failed / Skipped / Total] 183 / 43 / 99 / 325:  65%|█████████████       | 325/500 [04:28<02:24,  1.21it/s]textattack: Saving checkpoint under \"checkpoints\\1720237047773.ta.chkpt\" at 2024-07-06 11:37:27 after 325 attacks.\n",
      "[Succeeded / Failed / Skipped / Total] 183 / 43 / 100 / 326:  65%|████████████▍      | 326/500 [04:28<02:23,  1.21it/s]"
     ]
    },
    {
     "name": "stdout",
     "output_type": "stream",
     "text": [
      "\n",
      "\n",
      "=============================================================================================================================\n",
      "=============================================================================================================================\n",
      "\n"
     ]
    },
    {
     "name": "stderr",
     "output_type": "stream",
     "text": [
      "[Succeeded / Failed / Skipped / Total] 186 / 44 / 100 / 330:  66%|████████████▌      | 330/500 [04:31<02:19,  1.22it/s]textattack: Saving checkpoint under \"checkpoints\\1720237050702.ta.chkpt\" at 2024-07-06 11:37:30 after 330 attacks.\n"
     ]
    },
    {
     "name": "stdout",
     "output_type": "stream",
     "text": [
      "\n",
      "\n",
      "=============================================================================================================================\n",
      "=============================================================================================================================\n",
      "\n"
     ]
    },
    {
     "name": "stderr",
     "output_type": "stream",
     "text": [
      "[Succeeded / Failed / Skipped / Total] 189 / 46 / 100 / 335:  67%|████████████▋      | 335/500 [04:37<02:16,  1.21it/s]textattack: Saving checkpoint under \"checkpoints\\1720237056696.ta.chkpt\" at 2024-07-06 11:37:36 after 335 attacks.\n"
     ]
    },
    {
     "name": "stdout",
     "output_type": "stream",
     "text": [
      "\n",
      "\n",
      "=============================================================================================================================\n",
      "=============================================================================================================================\n",
      "\n"
     ]
    },
    {
     "name": "stderr",
     "output_type": "stream",
     "text": [
      "[Succeeded / Failed / Skipped / Total] 192 / 46 / 102 / 340:  68%|████████████▉      | 340/500 [04:40<02:11,  1.21it/s]textattack: Saving checkpoint under \"checkpoints\\1720237059974.ta.chkpt\" at 2024-07-06 11:37:39 after 340 attacks.\n"
     ]
    },
    {
     "name": "stdout",
     "output_type": "stream",
     "text": [
      "\n",
      "\n",
      "=============================================================================================================================\n",
      "=============================================================================================================================\n",
      "\n"
     ]
    },
    {
     "name": "stderr",
     "output_type": "stream",
     "text": [
      "[Succeeded / Failed / Skipped / Total] 195 / 46 / 104 / 345:  69%|█████████████      | 345/500 [04:43<02:07,  1.22it/s]textattack: Saving checkpoint under \"checkpoints\\1720237063207.ta.chkpt\" at 2024-07-06 11:37:43 after 345 attacks.\n"
     ]
    },
    {
     "name": "stdout",
     "output_type": "stream",
     "text": [
      "\n",
      "\n",
      "=============================================================================================================================\n",
      "=============================================================================================================================\n",
      "\n"
     ]
    },
    {
     "name": "stderr",
     "output_type": "stream",
     "text": [
      "[Succeeded / Failed / Skipped / Total] 200 / 46 / 104 / 350:  70%|█████████████▎     | 350/500 [04:49<02:04,  1.21it/s]textattack: Saving checkpoint under \"checkpoints\\1720237068943.ta.chkpt\" at 2024-07-06 11:37:48 after 350 attacks.\n"
     ]
    },
    {
     "name": "stdout",
     "output_type": "stream",
     "text": [
      "\n",
      "\n",
      "=============================================================================================================================\n",
      "=============================================================================================================================\n",
      "\n"
     ]
    },
    {
     "name": "stderr",
     "output_type": "stream",
     "text": [
      "[Succeeded / Failed / Skipped / Total] 204 / 47 / 104 / 355:  71%|█████████████▍     | 355/500 [04:56<02:01,  1.20it/s]textattack: Saving checkpoint under \"checkpoints\\1720237076511.ta.chkpt\" at 2024-07-06 11:37:56 after 355 attacks.\n"
     ]
    },
    {
     "name": "stdout",
     "output_type": "stream",
     "text": [
      "\n",
      "\n",
      "=============================================================================================================================\n",
      "=============================================================================================================================\n",
      "\n"
     ]
    },
    {
     "name": "stderr",
     "output_type": "stream",
     "text": [
      "[Succeeded / Failed / Skipped / Total] 206 / 48 / 106 / 360:  72%|█████████████▋     | 360/500 [04:59<01:56,  1.20it/s]textattack: Saving checkpoint under \"checkpoints\\1720237079028.ta.chkpt\" at 2024-07-06 11:37:59 after 360 attacks.\n"
     ]
    },
    {
     "name": "stdout",
     "output_type": "stream",
     "text": [
      "\n",
      "\n",
      "=============================================================================================================================\n",
      "=============================================================================================================================\n",
      "\n"
     ]
    },
    {
     "name": "stderr",
     "output_type": "stream",
     "text": [
      "[Succeeded / Failed / Skipped / Total] 210 / 49 / 106 / 365:  73%|█████████████▊     | 365/500 [05:03<01:52,  1.20it/s]textattack: Saving checkpoint under \"checkpoints\\1720237083477.ta.chkpt\" at 2024-07-06 11:38:03 after 365 attacks.\n"
     ]
    },
    {
     "name": "stdout",
     "output_type": "stream",
     "text": [
      "\n",
      "\n",
      "=============================================================================================================================\n",
      "=============================================================================================================================\n",
      "\n"
     ]
    },
    {
     "name": "stderr",
     "output_type": "stream",
     "text": [
      "[Succeeded / Failed / Skipped / Total] 213 / 51 / 106 / 370:  74%|██████████████     | 370/500 [05:07<01:47,  1.20it/s]textattack: Saving checkpoint under \"checkpoints\\1720237086660.ta.chkpt\" at 2024-07-06 11:38:06 after 370 attacks.\n"
     ]
    },
    {
     "name": "stdout",
     "output_type": "stream",
     "text": [
      "\n",
      "\n",
      "=============================================================================================================================\n",
      "=============================================================================================================================\n",
      "\n"
     ]
    },
    {
     "name": "stderr",
     "output_type": "stream",
     "text": [
      "[Succeeded / Failed / Skipped / Total] 217 / 51 / 107 / 375:  75%|██████████████▎    | 375/500 [05:10<01:43,  1.21it/s]textattack: Saving checkpoint under \"checkpoints\\1720237090171.ta.chkpt\" at 2024-07-06 11:38:10 after 375 attacks.\n"
     ]
    },
    {
     "name": "stdout",
     "output_type": "stream",
     "text": [
      "\n",
      "\n",
      "=============================================================================================================================\n",
      "=============================================================================================================================\n",
      "\n"
     ]
    },
    {
     "name": "stderr",
     "output_type": "stream",
     "text": [
      "[Succeeded / Failed / Skipped / Total] 221 / 51 / 108 / 380:  76%|██████████████▍    | 380/500 [05:14<01:39,  1.21it/s]textattack: Saving checkpoint under \"checkpoints\\1720237093661.ta.chkpt\" at 2024-07-06 11:38:13 after 380 attacks.\n"
     ]
    },
    {
     "name": "stdout",
     "output_type": "stream",
     "text": [
      "\n",
      "\n",
      "=============================================================================================================================\n",
      "=============================================================================================================================\n",
      "\n"
     ]
    },
    {
     "name": "stderr",
     "output_type": "stream",
     "text": [
      "[Succeeded / Failed / Skipped / Total] 225 / 51 / 109 / 385:  77%|██████████████▋    | 385/500 [05:16<01:34,  1.22it/s]textattack: Saving checkpoint under \"checkpoints\\1720237096193.ta.chkpt\" at 2024-07-06 11:38:16 after 385 attacks.\n"
     ]
    },
    {
     "name": "stdout",
     "output_type": "stream",
     "text": [
      "\n",
      "\n",
      "=============================================================================================================================\n",
      "=============================================================================================================================\n",
      "\n"
     ]
    },
    {
     "name": "stderr",
     "output_type": "stream",
     "text": [
      "[Succeeded / Failed / Skipped / Total] 228 / 52 / 110 / 390:  78%|██████████████▊    | 390/500 [05:19<01:30,  1.22it/s]textattack: Saving checkpoint under \"checkpoints\\1720237099182.ta.chkpt\" at 2024-07-06 11:38:19 after 390 attacks.\n"
     ]
    },
    {
     "name": "stdout",
     "output_type": "stream",
     "text": [
      "\n",
      "\n",
      "=============================================================================================================================\n",
      "=============================================================================================================================\n",
      "\n"
     ]
    },
    {
     "name": "stderr",
     "output_type": "stream",
     "text": [
      "[Succeeded / Failed / Skipped / Total] 233 / 52 / 110 / 395:  79%|███████████████    | 395/500 [05:25<01:26,  1.21it/s]textattack: Saving checkpoint under \"checkpoints\\1720237104785.ta.chkpt\" at 2024-07-06 11:38:24 after 395 attacks.\n"
     ]
    },
    {
     "name": "stdout",
     "output_type": "stream",
     "text": [
      "\n",
      "\n",
      "=============================================================================================================================\n",
      "=============================================================================================================================\n",
      "\n"
     ]
    },
    {
     "name": "stderr",
     "output_type": "stream",
     "text": [
      "[Succeeded / Failed / Skipped / Total] 238 / 52 / 110 / 400:  80%|███████████████▏   | 400/500 [05:32<01:23,  1.20it/s]textattack: Saving checkpoint under \"checkpoints\\1720237111955.ta.chkpt\" at 2024-07-06 11:38:31 after 400 attacks.\n",
      "[Succeeded / Failed / Skipped / Total] 238 / 52 / 111 / 401:  80%|███████████████▏   | 401/500 [05:32<01:22,  1.21it/s]"
     ]
    },
    {
     "name": "stdout",
     "output_type": "stream",
     "text": [
      "\n",
      "\n",
      "=============================================================================================================================\n",
      "=============================================================================================================================\n",
      "\n"
     ]
    },
    {
     "name": "stderr",
     "output_type": "stream",
     "text": [
      "[Succeeded / Failed / Skipped / Total] 241 / 53 / 111 / 405:  81%|███████████████▍   | 405/500 [05:39<01:19,  1.19it/s]textattack: Saving checkpoint under \"checkpoints\\1720237118665.ta.chkpt\" at 2024-07-06 11:38:38 after 405 attacks.\n"
     ]
    },
    {
     "name": "stdout",
     "output_type": "stream",
     "text": [
      "\n",
      "\n",
      "=============================================================================================================================\n",
      "=============================================================================================================================\n",
      "\n"
     ]
    },
    {
     "name": "stderr",
     "output_type": "stream",
     "text": [
      "[Succeeded / Failed / Skipped / Total] 243 / 55 / 112 / 410:  82%|███████████████▌   | 410/500 [05:41<01:14,  1.20it/s]textattack: Saving checkpoint under \"checkpoints\\1720237121075.ta.chkpt\" at 2024-07-06 11:38:41 after 410 attacks.\n"
     ]
    },
    {
     "name": "stdout",
     "output_type": "stream",
     "text": [
      "\n",
      "\n",
      "=============================================================================================================================\n",
      "=============================================================================================================================\n",
      "\n"
     ]
    },
    {
     "name": "stderr",
     "output_type": "stream",
     "text": [
      "[Succeeded / Failed / Skipped / Total] 245 / 55 / 115 / 415:  83%|███████████████▊   | 415/500 [05:42<01:10,  1.21it/s]textattack: Saving checkpoint under \"checkpoints\\1720237122330.ta.chkpt\" at 2024-07-06 11:38:42 after 415 attacks.\n"
     ]
    },
    {
     "name": "stdout",
     "output_type": "stream",
     "text": [
      "\n",
      "\n",
      "=============================================================================================================================\n",
      "=============================================================================================================================\n",
      "\n"
     ]
    },
    {
     "name": "stderr",
     "output_type": "stream",
     "text": [
      "[Succeeded / Failed / Skipped / Total] 247 / 56 / 117 / 420:  84%|███████████████▉   | 420/500 [05:49<01:06,  1.20it/s]textattack: Saving checkpoint under \"checkpoints\\1720237128950.ta.chkpt\" at 2024-07-06 11:38:48 after 420 attacks.\n"
     ]
    },
    {
     "name": "stdout",
     "output_type": "stream",
     "text": [
      "\n",
      "\n",
      "=============================================================================================================================\n",
      "=============================================================================================================================\n",
      "\n"
     ]
    },
    {
     "name": "stderr",
     "output_type": "stream",
     "text": [
      "[Succeeded / Failed / Skipped / Total] 251 / 57 / 117 / 425:  85%|████████████████▏  | 425/500 [05:56<01:02,  1.19it/s]textattack: Saving checkpoint under \"checkpoints\\1720237136002.ta.chkpt\" at 2024-07-06 11:38:56 after 425 attacks.\n"
     ]
    },
    {
     "name": "stdout",
     "output_type": "stream",
     "text": [
      "\n",
      "\n",
      "=============================================================================================================================\n",
      "=============================================================================================================================\n",
      "\n"
     ]
    },
    {
     "name": "stderr",
     "output_type": "stream",
     "text": [
      "[Succeeded / Failed / Skipped / Total] 255 / 58 / 117 / 430:  86%|████████████████▎  | 430/500 [06:02<00:58,  1.19it/s]textattack: Saving checkpoint under \"checkpoints\\1720237141729.ta.chkpt\" at 2024-07-06 11:39:01 after 430 attacks.\n",
      "[Succeeded / Failed / Skipped / Total] 255 / 58 / 118 / 431:  86%|████████████████▍  | 431/500 [06:02<00:58,  1.19it/s]"
     ]
    },
    {
     "name": "stdout",
     "output_type": "stream",
     "text": [
      "\n",
      "\n",
      "=============================================================================================================================\n",
      "=============================================================================================================================\n",
      "\n"
     ]
    },
    {
     "name": "stderr",
     "output_type": "stream",
     "text": [
      "[Succeeded / Failed / Skipped / Total] 259 / 58 / 118 / 435:  87%|████████████████▌  | 435/500 [06:04<00:54,  1.19it/s]textattack: Saving checkpoint under \"checkpoints\\1720237144099.ta.chkpt\" at 2024-07-06 11:39:04 after 435 attacks.\n"
     ]
    },
    {
     "name": "stdout",
     "output_type": "stream",
     "text": [
      "\n",
      "\n",
      "=============================================================================================================================\n",
      "=============================================================================================================================\n",
      "\n"
     ]
    },
    {
     "name": "stderr",
     "output_type": "stream",
     "text": [
      "[Succeeded / Failed / Skipped / Total] 263 / 59 / 118 / 440:  88%|████████████████▋  | 440/500 [06:09<00:50,  1.19it/s]textattack: Saving checkpoint under \"checkpoints\\1720237149061.ta.chkpt\" at 2024-07-06 11:39:09 after 440 attacks.\n",
      "[Succeeded / Failed / Skipped / Total] 263 / 59 / 119 / 441:  88%|████████████████▊  | 441/500 [06:09<00:49,  1.19it/s]"
     ]
    },
    {
     "name": "stdout",
     "output_type": "stream",
     "text": [
      "\n",
      "\n",
      "=============================================================================================================================\n",
      "=============================================================================================================================\n",
      "\n"
     ]
    },
    {
     "name": "stderr",
     "output_type": "stream",
     "text": [
      "[Succeeded / Failed / Skipped / Total] 266 / 59 / 120 / 445:  89%|████████████████▉  | 445/500 [06:11<00:45,  1.20it/s]textattack: Saving checkpoint under \"checkpoints\\1720237151323.ta.chkpt\" at 2024-07-06 11:39:11 after 445 attacks.\n"
     ]
    },
    {
     "name": "stdout",
     "output_type": "stream",
     "text": [
      "\n",
      "\n",
      "=============================================================================================================================\n",
      "=============================================================================================================================\n",
      "\n"
     ]
    },
    {
     "name": "stderr",
     "output_type": "stream",
     "text": [
      "[Succeeded / Failed / Skipped / Total] 268 / 61 / 121 / 450:  90%|█████████████████  | 450/500 [06:16<00:41,  1.20it/s]textattack: Saving checkpoint under \"checkpoints\\1720237155712.ta.chkpt\" at 2024-07-06 11:39:15 after 450 attacks.\n",
      "[Succeeded / Failed / Skipped / Total] 268 / 61 / 122 / 451:  90%|█████████████████▏ | 451/500 [06:16<00:40,  1.20it/s]"
     ]
    },
    {
     "name": "stdout",
     "output_type": "stream",
     "text": [
      "\n",
      "\n",
      "=============================================================================================================================\n",
      "=============================================================================================================================\n",
      "\n"
     ]
    },
    {
     "name": "stderr",
     "output_type": "stream",
     "text": [
      "[Succeeded / Failed / Skipped / Total] 271 / 61 / 123 / 455:  91%|█████████████████▎ | 455/500 [06:19<00:37,  1.20it/s]textattack: Saving checkpoint under \"checkpoints\\1720237159154.ta.chkpt\" at 2024-07-06 11:39:19 after 455 attacks.\n"
     ]
    },
    {
     "name": "stdout",
     "output_type": "stream",
     "text": [
      "\n",
      "\n",
      "=============================================================================================================================\n",
      "=============================================================================================================================\n",
      "\n"
     ]
    },
    {
     "name": "stderr",
     "output_type": "stream",
     "text": [
      "[Succeeded / Failed / Skipped / Total] 275 / 62 / 123 / 460:  92%|█████████████████▍ | 460/500 [06:25<00:33,  1.19it/s]textattack: Saving checkpoint under \"checkpoints\\1720237165285.ta.chkpt\" at 2024-07-06 11:39:25 after 460 attacks.\n"
     ]
    },
    {
     "name": "stdout",
     "output_type": "stream",
     "text": [
      "\n",
      "\n",
      "=============================================================================================================================\n",
      "=============================================================================================================================\n",
      "\n"
     ]
    },
    {
     "name": "stderr",
     "output_type": "stream",
     "text": [
      "[Succeeded / Failed / Skipped / Total] 278 / 62 / 125 / 465:  93%|█████████████████▋ | 465/500 [06:28<00:29,  1.20it/s]textattack: Saving checkpoint under \"checkpoints\\1720237168014.ta.chkpt\" at 2024-07-06 11:39:28 after 465 attacks.\n"
     ]
    },
    {
     "name": "stdout",
     "output_type": "stream",
     "text": [
      "\n",
      "\n",
      "=============================================================================================================================\n",
      "=============================================================================================================================\n",
      "\n"
     ]
    },
    {
     "name": "stderr",
     "output_type": "stream",
     "text": [
      "[Succeeded / Failed / Skipped / Total] 281 / 63 / 126 / 470:  94%|█████████████████▊ | 470/500 [06:32<00:25,  1.20it/s]textattack: Saving checkpoint under \"checkpoints\\1720237171999.ta.chkpt\" at 2024-07-06 11:39:31 after 470 attacks.\n"
     ]
    },
    {
     "name": "stdout",
     "output_type": "stream",
     "text": [
      "\n",
      "\n",
      "=============================================================================================================================\n",
      "=============================================================================================================================\n",
      "\n"
     ]
    },
    {
     "name": "stderr",
     "output_type": "stream",
     "text": [
      "[Succeeded / Failed / Skipped / Total] 285 / 64 / 126 / 475:  95%|██████████████████ | 475/500 [06:37<00:20,  1.19it/s]textattack: Saving checkpoint under \"checkpoints\\1720237177315.ta.chkpt\" at 2024-07-06 11:39:37 after 475 attacks.\n"
     ]
    },
    {
     "name": "stdout",
     "output_type": "stream",
     "text": [
      "\n",
      "\n",
      "=============================================================================================================================\n",
      "=============================================================================================================================\n",
      "\n"
     ]
    },
    {
     "name": "stderr",
     "output_type": "stream",
     "text": [
      "[Succeeded / Failed / Skipped / Total] 289 / 65 / 126 / 480:  96%|██████████████████▏| 480/500 [06:42<00:16,  1.19it/s]textattack: Saving checkpoint under \"checkpoints\\1720237181948.ta.chkpt\" at 2024-07-06 11:39:41 after 480 attacks.\n"
     ]
    },
    {
     "name": "stdout",
     "output_type": "stream",
     "text": [
      "\n",
      "\n",
      "=============================================================================================================================\n",
      "=============================================================================================================================\n",
      "\n"
     ]
    },
    {
     "name": "stderr",
     "output_type": "stream",
     "text": [
      "[Succeeded / Failed / Skipped / Total] 291 / 67 / 127 / 485:  97%|██████████████████▍| 485/500 [06:46<00:12,  1.19it/s]textattack: Saving checkpoint under \"checkpoints\\1720237186501.ta.chkpt\" at 2024-07-06 11:39:46 after 485 attacks.\n"
     ]
    },
    {
     "name": "stdout",
     "output_type": "stream",
     "text": [
      "\n",
      "\n",
      "=============================================================================================================================\n",
      "=============================================================================================================================\n",
      "\n"
     ]
    },
    {
     "name": "stderr",
     "output_type": "stream",
     "text": [
      "[Succeeded / Failed / Skipped / Total] 294 / 67 / 129 / 490:  98%|██████████████████▌| 490/500 [06:49<00:08,  1.20it/s]textattack: Saving checkpoint under \"checkpoints\\1720237189221.ta.chkpt\" at 2024-07-06 11:39:49 after 490 attacks.\n",
      "[Succeeded / Failed / Skipped / Total] 294 / 67 / 130 / 491:  98%|██████████████████▋| 491/500 [06:49<00:07,  1.20it/s]"
     ]
    },
    {
     "name": "stdout",
     "output_type": "stream",
     "text": [
      "\n",
      "\n",
      "=============================================================================================================================\n",
      "=============================================================================================================================\n",
      "\n"
     ]
    },
    {
     "name": "stderr",
     "output_type": "stream",
     "text": [
      "[Succeeded / Failed / Skipped / Total] 297 / 67 / 131 / 495:  99%|██████████████████▊| 495/500 [06:51<00:04,  1.20it/s]textattack: Saving checkpoint under \"checkpoints\\1720237191421.ta.chkpt\" at 2024-07-06 11:39:51 after 495 attacks.\n"
     ]
    },
    {
     "name": "stdout",
     "output_type": "stream",
     "text": [
      "\n",
      "\n",
      "=============================================================================================================================\n",
      "=============================================================================================================================\n",
      "\n"
     ]
    },
    {
     "name": "stderr",
     "output_type": "stream",
     "text": [
      "[Succeeded / Failed / Skipped / Total] 302 / 67 / 131 / 500: 100%|███████████████████| 500/500 [06:56<00:00,  1.20it/s]textattack: Saving checkpoint under \"checkpoints\\1720237196524.ta.chkpt\" at 2024-07-06 11:39:56 after 500 attacks.\n",
      "[Succeeded / Failed / Skipped / Total] 302 / 67 / 131 / 500: 100%|███████████████████| 500/500 [06:57<00:00,  1.20it/s]"
     ]
    },
    {
     "name": "stdout",
     "output_type": "stream",
     "text": [
      "\n",
      "\n",
      "=============================================================================================================================\n",
      "=============================================================================================================================\n",
      "\n",
      "\n",
      "+-------------------------------+--------+\n",
      "| Attack Results                |        |\n",
      "+-------------------------------+--------+\n",
      "| Number of successful attacks: | 302    |\n",
      "| Number of failed attacks:     | 67     |\n",
      "| Number of skipped attacks:    | 131    |\n",
      "| Original accuracy:            | 73.8%  |\n",
      "| Accuracy under attack:        | 13.4%  |\n",
      "| Attack success rate:          | 81.84% |\n",
      "| Average perturbed word %:     | 17.89% |\n",
      "| Average num. words per input: | 18.4   |\n",
      "| Avg num queries:              | 30.15  |\n",
      "+-------------------------------+--------+\n"
     ]
    },
    {
     "name": "stderr",
     "output_type": "stream",
     "text": [
      "\n"
     ]
    }
   ],
   "source": [
    "runAttack(clip_model_wrapper_lr_mr, n_samples, 'attack_results_new/clipmrattacklr'+suffix, target_ds_mr)"
   ]
  },
  {
   "cell_type": "code",
   "execution_count": 29,
   "id": "90505994-11ba-48c5-8a78-5083ba8ddd05",
   "metadata": {},
   "outputs": [
    {
     "name": "stderr",
     "output_type": "stream",
     "text": [
      "textattack: Unknown if model of class <class 'transformers.models.clip.modeling_clip.CLIPTextTransformer'> compatible with goal function <class 'textattack.goal_functions.classification.untargeted_classification.UntargetedClassification'>.\n",
      "textattack: Logging to CSV at path attack_results_new/clipmrattackrfsim08.csv\n"
     ]
    },
    {
     "name": "stdout",
     "output_type": "stream",
     "text": [
      "Attack(\n",
      "  (search_method): GreedyWordSwapWIR(\n",
      "    (wir_method):  delete\n",
      "  )\n",
      "  (goal_function):  UntargetedClassification\n",
      "  (transformation):  WordSwapEmbedding(\n",
      "    (max_candidates):  50\n",
      "    (embedding):  WordEmbedding\n",
      "  )\n",
      "  (constraints): \n",
      "    (0): WordEmbeddingDistance(\n",
      "        (embedding):  WordEmbedding\n",
      "        (min_cos_sim):  0.8\n",
      "        (cased):  False\n",
      "        (include_unknown_words):  True\n",
      "        (compare_against_original):  True\n",
      "      )\n",
      "    (1): PartOfSpeech(\n",
      "        (tagger_type):  nltk\n",
      "        (tagset):  universal\n",
      "        (allow_verb_noun_swap):  True\n",
      "        (compare_against_original):  True\n",
      "      )\n",
      "    (2): UniversalSentenceEncoder(\n",
      "        (metric):  angular\n",
      "        (threshold):  0.840845057\n",
      "        (window_size):  15\n",
      "        (skip_text_shorter_than_window):  True\n",
      "        (compare_against_original):  False\n",
      "      )\n",
      "    (3): RepeatModification\n",
      "    (4): StopwordModification\n",
      "    (5): InputColumnModification(\n",
      "        (matching_column_labels):  ['premise', 'hypothesis']\n",
      "        (columns_to_ignore):  {'premise'}\n",
      "      )\n",
      "  (is_black_box):  True\n",
      ") \n",
      "\n"
     ]
    },
    {
     "name": "stderr",
     "output_type": "stream",
     "text": [
      "[Succeeded / Failed / Skipped / Total] 2 / 3 / 0 / 5:   1%|▎                           | 5/500 [00:13<22:04,  2.68s/it]textattack: Saving checkpoint under \"checkpoints\\1720237210018.ta.chkpt\" at 2024-07-06 11:40:10 after 5 attacks.\n",
      "[Succeeded / Failed / Skipped / Total] 2 / 3 / 2 / 7:   1%|▍                           | 7/500 [00:13<15:50,  1.93s/it]"
     ]
    },
    {
     "name": "stdout",
     "output_type": "stream",
     "text": [
      "\n",
      "\n",
      "=============================================================================================================================\n",
      "=============================================================================================================================\n",
      "\n"
     ]
    },
    {
     "name": "stderr",
     "output_type": "stream",
     "text": [
      "[Succeeded / Failed / Skipped / Total] 5 / 3 / 2 / 10:   2%|▌                         | 10/500 [00:17<14:35,  1.79s/it]textattack: Saving checkpoint under \"checkpoints\\1720237214500.ta.chkpt\" at 2024-07-06 11:40:14 after 10 attacks.\n"
     ]
    },
    {
     "name": "stdout",
     "output_type": "stream",
     "text": [
      "\n",
      "\n",
      "=============================================================================================================================\n",
      "=============================================================================================================================\n",
      "\n"
     ]
    },
    {
     "name": "stderr",
     "output_type": "stream",
     "text": [
      "[Succeeded / Failed / Skipped / Total] 7 / 5 / 3 / 15:   3%|▊                         | 15/500 [00:25<13:44,  1.70s/it]textattack: Saving checkpoint under \"checkpoints\\1720237222137.ta.chkpt\" at 2024-07-06 11:40:22 after 15 attacks.\n"
     ]
    },
    {
     "name": "stdout",
     "output_type": "stream",
     "text": [
      "\n",
      "\n",
      "=============================================================================================================================\n",
      "=============================================================================================================================\n",
      "\n"
     ]
    },
    {
     "name": "stderr",
     "output_type": "stream",
     "text": [
      "[Succeeded / Failed / Skipped / Total] 9 / 6 / 5 / 20:   4%|█                         | 20/500 [00:27<11:09,  1.39s/it]textattack: Saving checkpoint under \"checkpoints\\1720237224513.ta.chkpt\" at 2024-07-06 11:40:24 after 20 attacks.\n"
     ]
    },
    {
     "name": "stdout",
     "output_type": "stream",
     "text": [
      "\n",
      "\n",
      "=============================================================================================================================\n",
      "=============================================================================================================================\n",
      "\n"
     ]
    },
    {
     "name": "stderr",
     "output_type": "stream",
     "text": [
      "[Succeeded / Failed / Skipped / Total] 11 / 8 / 6 / 25:   5%|█▎                       | 25/500 [00:34<10:47,  1.36s/it]textattack: Saving checkpoint under \"checkpoints\\1720237230720.ta.chkpt\" at 2024-07-06 11:40:30 after 25 attacks.\n"
     ]
    },
    {
     "name": "stdout",
     "output_type": "stream",
     "text": [
      "\n",
      "\n",
      "=============================================================================================================================\n",
      "=============================================================================================================================\n",
      "\n"
     ]
    },
    {
     "name": "stderr",
     "output_type": "stream",
     "text": [
      "[Succeeded / Failed / Skipped / Total] 12 / 10 / 8 / 30:   6%|█▍                      | 30/500 [00:39<10:15,  1.31s/it]textattack: Saving checkpoint under \"checkpoints\\1720237235952.ta.chkpt\" at 2024-07-06 11:40:35 after 30 attacks.\n"
     ]
    },
    {
     "name": "stdout",
     "output_type": "stream",
     "text": [
      "\n",
      "\n",
      "=============================================================================================================================\n",
      "=============================================================================================================================\n",
      "\n"
     ]
    },
    {
     "name": "stderr",
     "output_type": "stream",
     "text": [
      "[Succeeded / Failed / Skipped / Total] 15 / 11 / 9 / 35:   7%|█▋                      | 35/500 [00:42<09:22,  1.21s/it]textattack: Saving checkpoint under \"checkpoints\\1720237239003.ta.chkpt\" at 2024-07-06 11:40:39 after 35 attacks.\n"
     ]
    },
    {
     "name": "stdout",
     "output_type": "stream",
     "text": [
      "\n",
      "\n",
      "=============================================================================================================================\n",
      "=============================================================================================================================\n",
      "\n"
     ]
    },
    {
     "name": "stderr",
     "output_type": "stream",
     "text": [
      "[Succeeded / Failed / Skipped / Total] 19 / 11 / 10 / 40:   8%|█▊                     | 40/500 [00:46<08:52,  1.16s/it]textattack: Saving checkpoint under \"checkpoints\\1720237242932.ta.chkpt\" at 2024-07-06 11:40:42 after 40 attacks.\n"
     ]
    },
    {
     "name": "stdout",
     "output_type": "stream",
     "text": [
      "\n",
      "\n",
      "=============================================================================================================================\n",
      "=============================================================================================================================\n",
      "\n"
     ]
    },
    {
     "name": "stderr",
     "output_type": "stream",
     "text": [
      "[Succeeded / Failed / Skipped / Total] 22 / 11 / 12 / 45:   9%|██                     | 45/500 [00:53<09:01,  1.19s/it]textattack: Saving checkpoint under \"checkpoints\\1720237250198.ta.chkpt\" at 2024-07-06 11:40:50 after 45 attacks.\n"
     ]
    },
    {
     "name": "stdout",
     "output_type": "stream",
     "text": [
      "\n",
      "\n",
      "=============================================================================================================================\n",
      "=============================================================================================================================\n",
      "\n"
     ]
    },
    {
     "name": "stderr",
     "output_type": "stream",
     "text": [
      "[Succeeded / Failed / Skipped / Total] 27 / 11 / 12 / 50:  10%|██▎                    | 50/500 [00:58<08:43,  1.16s/it]textattack: Saving checkpoint under \"checkpoints\\1720237254760.ta.chkpt\" at 2024-07-06 11:40:54 after 50 attacks.\n",
      "[Succeeded / Failed / Skipped / Total] 27 / 11 / 13 / 51:  10%|██▎                    | 51/500 [00:58<08:32,  1.14s/it]"
     ]
    },
    {
     "name": "stdout",
     "output_type": "stream",
     "text": [
      "\n",
      "\n",
      "=============================================================================================================================\n",
      "=============================================================================================================================\n",
      "\n"
     ]
    },
    {
     "name": "stderr",
     "output_type": "stream",
     "text": [
      "[Succeeded / Failed / Skipped / Total] 30 / 11 / 14 / 55:  11%|██▌                    | 55/500 [01:02<08:24,  1.13s/it]textattack: Saving checkpoint under \"checkpoints\\1720237259022.ta.chkpt\" at 2024-07-06 11:40:59 after 55 attacks.\n"
     ]
    },
    {
     "name": "stdout",
     "output_type": "stream",
     "text": [
      "\n",
      "\n",
      "=============================================================================================================================\n",
      "=============================================================================================================================\n",
      "\n"
     ]
    },
    {
     "name": "stderr",
     "output_type": "stream",
     "text": [
      "[Succeeded / Failed / Skipped / Total] 34 / 11 / 15 / 60:  12%|██▊                    | 60/500 [01:04<07:56,  1.08s/it]textattack: Saving checkpoint under \"checkpoints\\1720237261576.ta.chkpt\" at 2024-07-06 11:41:01 after 60 attacks.\n"
     ]
    },
    {
     "name": "stdout",
     "output_type": "stream",
     "text": [
      "\n",
      "\n",
      "=============================================================================================================================\n",
      "=============================================================================================================================\n",
      "\n"
     ]
    },
    {
     "name": "stderr",
     "output_type": "stream",
     "text": [
      "[Succeeded / Failed / Skipped / Total] 37 / 13 / 15 / 65:  13%|██▉                    | 65/500 [01:09<07:46,  1.07s/it]textattack: Saving checkpoint under \"checkpoints\\1720237266353.ta.chkpt\" at 2024-07-06 11:41:06 after 65 attacks.\n"
     ]
    },
    {
     "name": "stdout",
     "output_type": "stream",
     "text": [
      "\n",
      "\n",
      "=============================================================================================================================\n",
      "=============================================================================================================================\n",
      "\n"
     ]
    },
    {
     "name": "stderr",
     "output_type": "stream",
     "text": [
      "[Succeeded / Failed / Skipped / Total] 40 / 15 / 15 / 70:  14%|███▏                   | 70/500 [01:16<07:52,  1.10s/it]textattack: Saving checkpoint under \"checkpoints\\1720237273481.ta.chkpt\" at 2024-07-06 11:41:13 after 70 attacks.\n",
      "[Succeeded / Failed / Skipped / Total] 40 / 15 / 16 / 71:  14%|███▎                   | 71/500 [01:16<07:44,  1.08s/it]"
     ]
    },
    {
     "name": "stdout",
     "output_type": "stream",
     "text": [
      "\n",
      "\n",
      "=============================================================================================================================\n",
      "=============================================================================================================================\n",
      "\n"
     ]
    },
    {
     "name": "stderr",
     "output_type": "stream",
     "text": [
      "[Succeeded / Failed / Skipped / Total] 42 / 16 / 17 / 75:  15%|███▍                   | 75/500 [01:20<07:35,  1.07s/it]textattack: Saving checkpoint under \"checkpoints\\1720237277001.ta.chkpt\" at 2024-07-06 11:41:17 after 75 attacks.\n"
     ]
    },
    {
     "name": "stdout",
     "output_type": "stream",
     "text": [
      "\n",
      "\n",
      "=============================================================================================================================\n",
      "=============================================================================================================================\n",
      "\n"
     ]
    },
    {
     "name": "stderr",
     "output_type": "stream",
     "text": [
      "[Succeeded / Failed / Skipped / Total] 46 / 16 / 18 / 80:  16%|███▋                   | 80/500 [01:24<07:24,  1.06s/it]textattack: Saving checkpoint under \"checkpoints\\1720237281235.ta.chkpt\" at 2024-07-06 11:41:21 after 80 attacks.\n",
      "[Succeeded / Failed / Skipped / Total] 46 / 16 / 20 / 82:  16%|███▊                   | 82/500 [01:24<07:11,  1.03s/it]"
     ]
    },
    {
     "name": "stdout",
     "output_type": "stream",
     "text": [
      "\n",
      "\n",
      "=============================================================================================================================\n",
      "=============================================================================================================================\n",
      "\n"
     ]
    },
    {
     "name": "stderr",
     "output_type": "stream",
     "text": [
      "[Succeeded / Failed / Skipped / Total] 49 / 16 / 20 / 85:  17%|███▉                   | 85/500 [01:26<07:02,  1.02s/it]textattack: Saving checkpoint under \"checkpoints\\1720237283070.ta.chkpt\" at 2024-07-06 11:41:23 after 85 attacks.\n"
     ]
    },
    {
     "name": "stdout",
     "output_type": "stream",
     "text": [
      "\n",
      "\n",
      "=============================================================================================================================\n",
      "=============================================================================================================================\n",
      "\n"
     ]
    },
    {
     "name": "stderr",
     "output_type": "stream",
     "text": [
      "[Succeeded / Failed / Skipped / Total] 53 / 16 / 21 / 90:  18%|████▏                  | 90/500 [01:31<06:55,  1.01s/it]textattack: Saving checkpoint under \"checkpoints\\1720237287866.ta.chkpt\" at 2024-07-06 11:41:27 after 90 attacks.\n",
      "[Succeeded / Failed / Skipped / Total] 53 / 16 / 22 / 91:  18%|████▏                  | 91/500 [01:31<06:50,  1.00s/it]"
     ]
    },
    {
     "name": "stdout",
     "output_type": "stream",
     "text": [
      "\n",
      "\n",
      "=============================================================================================================================\n",
      "=============================================================================================================================\n",
      "\n"
     ]
    },
    {
     "name": "stderr",
     "output_type": "stream",
     "text": [
      "[Succeeded / Failed / Skipped / Total] 54 / 17 / 24 / 95:  19%|████▎                  | 95/500 [01:36<06:51,  1.02s/it]textattack: Saving checkpoint under \"checkpoints\\1720237293095.ta.chkpt\" at 2024-07-06 11:41:33 after 95 attacks.\n"
     ]
    },
    {
     "name": "stdout",
     "output_type": "stream",
     "text": [
      "\n",
      "\n",
      "=============================================================================================================================\n",
      "=============================================================================================================================\n",
      "\n"
     ]
    },
    {
     "name": "stderr",
     "output_type": "stream",
     "text": [
      "[Succeeded / Failed / Skipped / Total] 57 / 18 / 25 / 100:  20%|████▏                | 100/500 [01:39<06:37,  1.01it/s]textattack: Saving checkpoint under \"checkpoints\\1720237296122.ta.chkpt\" at 2024-07-06 11:41:36 after 100 attacks.\n"
     ]
    },
    {
     "name": "stdout",
     "output_type": "stream",
     "text": [
      "\n",
      "\n",
      "=============================================================================================================================\n",
      "=============================================================================================================================\n",
      "\n"
     ]
    },
    {
     "name": "stderr",
     "output_type": "stream",
     "text": [
      "[Succeeded / Failed / Skipped / Total] 60 / 19 / 26 / 105:  21%|████▍                | 105/500 [01:47<06:43,  1.02s/it]textattack: Saving checkpoint under \"checkpoints\\1720237303996.ta.chkpt\" at 2024-07-06 11:41:43 after 105 attacks.\n",
      "[Succeeded / Failed / Skipped / Total] 60 / 19 / 27 / 106:  21%|████▍                | 106/500 [01:47<06:39,  1.01s/it]"
     ]
    },
    {
     "name": "stdout",
     "output_type": "stream",
     "text": [
      "\n",
      "\n",
      "=============================================================================================================================\n",
      "=============================================================================================================================\n",
      "\n"
     ]
    },
    {
     "name": "stderr",
     "output_type": "stream",
     "text": [
      "[Succeeded / Failed / Skipped / Total] 60 / 21 / 29 / 110:  22%|████▌                | 110/500 [01:50<06:30,  1.00s/it]textattack: Saving checkpoint under \"checkpoints\\1720237306710.ta.chkpt\" at 2024-07-06 11:41:46 after 110 attacks.\n",
      "[Succeeded / Failed / Skipped / Total] 60 / 21 / 30 / 111:  22%|████▋                | 111/500 [01:50<06:26,  1.01it/s]"
     ]
    },
    {
     "name": "stdout",
     "output_type": "stream",
     "text": [
      "\n",
      "\n",
      "=============================================================================================================================\n",
      "=============================================================================================================================\n",
      "\n"
     ]
    },
    {
     "name": "stderr",
     "output_type": "stream",
     "text": [
      "[Succeeded / Failed / Skipped / Total] 64 / 21 / 30 / 115:  23%|████▊                | 115/500 [01:54<06:23,  1.00it/s]textattack: Saving checkpoint under \"checkpoints\\1720237311137.ta.chkpt\" at 2024-07-06 11:41:51 after 115 attacks.\n"
     ]
    },
    {
     "name": "stdout",
     "output_type": "stream",
     "text": [
      "\n",
      "\n",
      "=============================================================================================================================\n",
      "=============================================================================================================================\n",
      "\n"
     ]
    },
    {
     "name": "stderr",
     "output_type": "stream",
     "text": [
      "[Succeeded / Failed / Skipped / Total] 66 / 22 / 32 / 120:  24%|█████                | 120/500 [01:56<06:09,  1.03it/s]textattack: Saving checkpoint under \"checkpoints\\1720237313214.ta.chkpt\" at 2024-07-06 11:41:53 after 120 attacks.\n"
     ]
    },
    {
     "name": "stdout",
     "output_type": "stream",
     "text": [
      "\n",
      "\n",
      "=============================================================================================================================\n",
      "=============================================================================================================================\n",
      "\n"
     ]
    },
    {
     "name": "stderr",
     "output_type": "stream",
     "text": [
      "[Succeeded / Failed / Skipped / Total] 70 / 22 / 33 / 125:  25%|█████▎               | 125/500 [02:00<06:00,  1.04it/s]textattack: Saving checkpoint under \"checkpoints\\1720237316835.ta.chkpt\" at 2024-07-06 11:41:56 after 125 attacks.\n"
     ]
    },
    {
     "name": "stdout",
     "output_type": "stream",
     "text": [
      "\n",
      "\n",
      "=============================================================================================================================\n",
      "=============================================================================================================================\n",
      "\n"
     ]
    },
    {
     "name": "stderr",
     "output_type": "stream",
     "text": [
      "[Succeeded / Failed / Skipped / Total] 75 / 22 / 33 / 130:  26%|█████▍               | 130/500 [02:05<05:55,  1.04it/s]textattack: Saving checkpoint under \"checkpoints\\1720237321642.ta.chkpt\" at 2024-07-06 11:42:01 after 130 attacks.\n",
      "[Succeeded / Failed / Skipped / Total] 75 / 22 / 34 / 131:  26%|█████▌               | 131/500 [02:05<05:52,  1.05it/s]"
     ]
    },
    {
     "name": "stdout",
     "output_type": "stream",
     "text": [
      "\n",
      "\n",
      "=============================================================================================================================\n",
      "=============================================================================================================================\n",
      "\n"
     ]
    },
    {
     "name": "stderr",
     "output_type": "stream",
     "text": [
      "[Succeeded / Failed / Skipped / Total] 78 / 22 / 35 / 135:  27%|█████▋               | 135/500 [02:13<06:00,  1.01it/s]textattack: Saving checkpoint under \"checkpoints\\1720237329877.ta.chkpt\" at 2024-07-06 11:42:09 after 135 attacks.\n"
     ]
    },
    {
     "name": "stdout",
     "output_type": "stream",
     "text": [
      "\n",
      "\n",
      "=============================================================================================================================\n",
      "=============================================================================================================================\n",
      "\n"
     ]
    },
    {
     "name": "stderr",
     "output_type": "stream",
     "text": [
      "[Succeeded / Failed / Skipped / Total] 80 / 23 / 37 / 140:  28%|█████▉               | 140/500 [02:15<05:49,  1.03it/s]textattack: Saving checkpoint under \"checkpoints\\1720237332564.ta.chkpt\" at 2024-07-06 11:42:12 after 140 attacks.\n",
      "[Succeeded / Failed / Skipped / Total] 80 / 23 / 38 / 141:  28%|█████▉               | 141/500 [02:16<05:46,  1.04it/s]"
     ]
    },
    {
     "name": "stdout",
     "output_type": "stream",
     "text": [
      "\n",
      "\n",
      "=============================================================================================================================\n",
      "=============================================================================================================================\n",
      "\n"
     ]
    },
    {
     "name": "stderr",
     "output_type": "stream",
     "text": [
      "[Succeeded / Failed / Skipped / Total] 82 / 23 / 40 / 145:  29%|██████               | 145/500 [02:17<05:37,  1.05it/s]textattack: Saving checkpoint under \"checkpoints\\1720237334552.ta.chkpt\" at 2024-07-06 11:42:14 after 145 attacks.\n",
      "[Succeeded / Failed / Skipped / Total] 82 / 23 / 41 / 146:  29%|██████▏              | 146/500 [02:17<05:34,  1.06it/s]"
     ]
    },
    {
     "name": "stdout",
     "output_type": "stream",
     "text": [
      "\n",
      "\n",
      "=============================================================================================================================\n",
      "=============================================================================================================================\n",
      "\n"
     ]
    },
    {
     "name": "stderr",
     "output_type": "stream",
     "text": [
      "[Succeeded / Failed / Skipped / Total] 83 / 25 / 42 / 150:  30%|██████▎              | 150/500 [02:21<05:29,  1.06it/s]textattack: Saving checkpoint under \"checkpoints\\1720237337912.ta.chkpt\" at 2024-07-06 11:42:17 after 150 attacks.\n",
      "[Succeeded / Failed / Skipped / Total] 83 / 25 / 43 / 151:  30%|██████▎              | 151/500 [02:21<05:26,  1.07it/s]"
     ]
    },
    {
     "name": "stdout",
     "output_type": "stream",
     "text": [
      "\n",
      "\n",
      "=============================================================================================================================\n",
      "=============================================================================================================================\n",
      "\n"
     ]
    },
    {
     "name": "stderr",
     "output_type": "stream",
     "text": [
      "[Succeeded / Failed / Skipped / Total] 86 / 25 / 44 / 155:  31%|██████▌              | 155/500 [02:24<05:22,  1.07it/s]textattack: Saving checkpoint under \"checkpoints\\1720237341491.ta.chkpt\" at 2024-07-06 11:42:21 after 155 attacks.\n"
     ]
    },
    {
     "name": "stdout",
     "output_type": "stream",
     "text": [
      "\n",
      "\n",
      "=============================================================================================================================\n",
      "=============================================================================================================================\n",
      "\n"
     ]
    },
    {
     "name": "stderr",
     "output_type": "stream",
     "text": [
      "[Succeeded / Failed / Skipped / Total] 87 / 27 / 46 / 160:  32%|██████▋              | 160/500 [02:32<05:23,  1.05it/s]textattack: Saving checkpoint under \"checkpoints\\1720237348888.ta.chkpt\" at 2024-07-06 11:42:28 after 160 attacks.\n",
      "[Succeeded / Failed / Skipped / Total] 87 / 27 / 47 / 161:  32%|██████▊              | 161/500 [02:32<05:20,  1.06it/s]"
     ]
    },
    {
     "name": "stdout",
     "output_type": "stream",
     "text": [
      "\n",
      "\n",
      "=============================================================================================================================\n",
      "=============================================================================================================================\n",
      "\n"
     ]
    },
    {
     "name": "stderr",
     "output_type": "stream",
     "text": [
      "[Succeeded / Failed / Skipped / Total] 89 / 28 / 48 / 165:  33%|██████▉              | 165/500 [02:35<05:15,  1.06it/s]textattack: Saving checkpoint under \"checkpoints\\1720237352149.ta.chkpt\" at 2024-07-06 11:42:32 after 165 attacks.\n",
      "[Succeeded / Failed / Skipped / Total] 89 / 28 / 49 / 166:  33%|███████              | 167/500 [02:35<05:10,  1.07it/s]"
     ]
    },
    {
     "name": "stdout",
     "output_type": "stream",
     "text": [
      "\n",
      "\n",
      "=============================================================================================================================\n",
      "=============================================================================================================================\n",
      "\n"
     ]
    },
    {
     "name": "stderr",
     "output_type": "stream",
     "text": [
      "[Succeeded / Failed / Skipped / Total] 89 / 28 / 53 / 170:  34%|███████▏             | 170/500 [02:35<05:02,  1.09it/s]textattack: Saving checkpoint under \"checkpoints\\1720237352574.ta.chkpt\" at 2024-07-06 11:42:32 after 170 attacks.\n"
     ]
    },
    {
     "name": "stdout",
     "output_type": "stream",
     "text": [
      "\n",
      "\n",
      "=============================================================================================================================\n",
      "=============================================================================================================================\n",
      "\n"
     ]
    },
    {
     "name": "stderr",
     "output_type": "stream",
     "text": [
      "[Succeeded / Failed / Skipped / Total] 90 / 30 / 55 / 175:  35%|███████▎             | 175/500 [02:42<05:01,  1.08it/s]textattack: Saving checkpoint under \"checkpoints\\1720237359054.ta.chkpt\" at 2024-07-06 11:42:39 after 175 attacks.\n"
     ]
    },
    {
     "name": "stdout",
     "output_type": "stream",
     "text": [
      "\n",
      "\n",
      "=============================================================================================================================\n",
      "=============================================================================================================================\n",
      "\n"
     ]
    },
    {
     "name": "stderr",
     "output_type": "stream",
     "text": [
      "[Succeeded / Failed / Skipped / Total] 93 / 31 / 56 / 180:  36%|███████▌             | 180/500 [02:48<04:58,  1.07it/s]textattack: Saving checkpoint under \"checkpoints\\1720237364639.ta.chkpt\" at 2024-07-06 11:42:44 after 180 attacks.\n"
     ]
    },
    {
     "name": "stdout",
     "output_type": "stream",
     "text": [
      "\n",
      "\n",
      "=============================================================================================================================\n",
      "=============================================================================================================================\n",
      "\n"
     ]
    },
    {
     "name": "stderr",
     "output_type": "stream",
     "text": [
      "[Succeeded / Failed / Skipped / Total] 95 / 32 / 58 / 185:  37%|███████▊             | 185/500 [02:50<04:50,  1.09it/s]textattack: Saving checkpoint under \"checkpoints\\1720237367087.ta.chkpt\" at 2024-07-06 11:42:47 after 185 attacks.\n",
      "[Succeeded / Failed / Skipped / Total] 95 / 32 / 59 / 186:  37%|███████▊             | 186/500 [02:50<04:47,  1.09it/s]"
     ]
    },
    {
     "name": "stdout",
     "output_type": "stream",
     "text": [
      "\n",
      "\n",
      "=============================================================================================================================\n",
      "=============================================================================================================================\n",
      "\n"
     ]
    },
    {
     "name": "stderr",
     "output_type": "stream",
     "text": [
      "[Succeeded / Failed / Skipped / Total] 99 / 32 / 59 / 190:  38%|███████▉             | 190/500 [02:56<04:48,  1.07it/s]textattack: Saving checkpoint under \"checkpoints\\1720237373582.ta.chkpt\" at 2024-07-06 11:42:53 after 190 attacks.\n"
     ]
    },
    {
     "name": "stdout",
     "output_type": "stream",
     "text": [
      "\n",
      "\n",
      "=============================================================================================================================\n",
      "=============================================================================================================================\n",
      "\n"
     ]
    },
    {
     "name": "stderr",
     "output_type": "stream",
     "text": [
      "[Succeeded / Failed / Skipped / Total] 102 / 33 / 60 / 195:  39%|███████▊            | 195/500 [03:01<04:44,  1.07it/s]textattack: Saving checkpoint under \"checkpoints\\1720237378545.ta.chkpt\" at 2024-07-06 11:42:58 after 195 attacks.\n"
     ]
    },
    {
     "name": "stdout",
     "output_type": "stream",
     "text": [
      "\n",
      "\n",
      "=============================================================================================================================\n",
      "=============================================================================================================================\n",
      "\n"
     ]
    },
    {
     "name": "stderr",
     "output_type": "stream",
     "text": [
      "[Succeeded / Failed / Skipped / Total] 104 / 34 / 62 / 200:  40%|████████            | 200/500 [03:10<04:45,  1.05it/s]textattack: Saving checkpoint under \"checkpoints\\1720237386861.ta.chkpt\" at 2024-07-06 11:43:06 after 200 attacks.\n"
     ]
    },
    {
     "name": "stdout",
     "output_type": "stream",
     "text": [
      "\n",
      "\n",
      "=============================================================================================================================\n",
      "=============================================================================================================================\n",
      "\n"
     ]
    },
    {
     "name": "stderr",
     "output_type": "stream",
     "text": [
      "[Succeeded / Failed / Skipped / Total] 106 / 36 / 63 / 205:  41%|████████▏           | 205/500 [03:16<04:42,  1.04it/s]textattack: Saving checkpoint under \"checkpoints\\1720237393110.ta.chkpt\" at 2024-07-06 11:43:13 after 205 attacks.\n"
     ]
    },
    {
     "name": "stdout",
     "output_type": "stream",
     "text": [
      "\n",
      "\n",
      "=============================================================================================================================\n",
      "=============================================================================================================================\n",
      "\n"
     ]
    },
    {
     "name": "stderr",
     "output_type": "stream",
     "text": [
      "[Succeeded / Failed / Skipped / Total] 110 / 36 / 64 / 210:  42%|████████▍           | 210/500 [03:18<04:34,  1.06it/s]textattack: Saving checkpoint under \"checkpoints\\1720237395445.ta.chkpt\" at 2024-07-06 11:43:15 after 210 attacks.\n"
     ]
    },
    {
     "name": "stdout",
     "output_type": "stream",
     "text": [
      "\n",
      "\n",
      "=============================================================================================================================\n",
      "=============================================================================================================================\n",
      "\n"
     ]
    },
    {
     "name": "stderr",
     "output_type": "stream",
     "text": [
      "[Succeeded / Failed / Skipped / Total] 114 / 36 / 65 / 215:  43%|████████▌           | 215/500 [03:23<04:30,  1.05it/s]textattack: Saving checkpoint under \"checkpoints\\1720237400458.ta.chkpt\" at 2024-07-06 11:43:20 after 215 attacks.\n"
     ]
    },
    {
     "name": "stdout",
     "output_type": "stream",
     "text": [
      "\n",
      "\n",
      "=============================================================================================================================\n",
      "=============================================================================================================================\n",
      "\n"
     ]
    },
    {
     "name": "stderr",
     "output_type": "stream",
     "text": [
      "[Succeeded / Failed / Skipped / Total] 117 / 37 / 66 / 220:  44%|████████▊           | 220/500 [03:26<04:23,  1.06it/s]textattack: Saving checkpoint under \"checkpoints\\1720237403393.ta.chkpt\" at 2024-07-06 11:43:23 after 220 attacks.\n"
     ]
    },
    {
     "name": "stdout",
     "output_type": "stream",
     "text": [
      "\n",
      "\n",
      "=============================================================================================================================\n",
      "=============================================================================================================================\n",
      "\n"
     ]
    },
    {
     "name": "stderr",
     "output_type": "stream",
     "text": [
      "[Succeeded / Failed / Skipped / Total] 121 / 37 / 67 / 225:  45%|█████████           | 225/500 [03:31<04:18,  1.06it/s]textattack: Saving checkpoint under \"checkpoints\\1720237407929.ta.chkpt\" at 2024-07-06 11:43:27 after 225 attacks.\n"
     ]
    },
    {
     "name": "stdout",
     "output_type": "stream",
     "text": [
      "\n",
      "\n",
      "=============================================================================================================================\n",
      "=============================================================================================================================\n",
      "\n"
     ]
    },
    {
     "name": "stderr",
     "output_type": "stream",
     "text": [
      "[Succeeded / Failed / Skipped / Total] 122 / 38 / 70 / 230:  46%|█████████▏          | 230/500 [03:34<04:11,  1.07it/s]textattack: Saving checkpoint under \"checkpoints\\1720237411271.ta.chkpt\" at 2024-07-06 11:43:31 after 230 attacks.\n",
      "[Succeeded / Failed / Skipped / Total] 122 / 38 / 71 / 231:  46%|█████████▏          | 231/500 [03:34<04:10,  1.08it/s]"
     ]
    },
    {
     "name": "stdout",
     "output_type": "stream",
     "text": [
      "\n",
      "\n",
      "=============================================================================================================================\n",
      "=============================================================================================================================\n",
      "\n"
     ]
    },
    {
     "name": "stderr",
     "output_type": "stream",
     "text": [
      "[Succeeded / Failed / Skipped / Total] 124 / 39 / 72 / 235:  47%|█████████▍          | 235/500 [03:39<04:07,  1.07it/s]textattack: Saving checkpoint under \"checkpoints\\1720237415818.ta.chkpt\" at 2024-07-06 11:43:35 after 235 attacks.\n"
     ]
    },
    {
     "name": "stdout",
     "output_type": "stream",
     "text": [
      "\n",
      "\n",
      "=============================================================================================================================\n",
      "=============================================================================================================================\n",
      "\n"
     ]
    },
    {
     "name": "stderr",
     "output_type": "stream",
     "text": [
      "[Succeeded / Failed / Skipped / Total] 126 / 41 / 73 / 240:  48%|█████████▌          | 240/500 [03:42<04:01,  1.08it/s]textattack: Saving checkpoint under \"checkpoints\\1720237419558.ta.chkpt\" at 2024-07-06 11:43:39 after 240 attacks.\n",
      "[Succeeded / Failed / Skipped / Total] 126 / 41 / 74 / 241:  48%|█████████▋          | 241/500 [03:43<03:59,  1.08it/s]"
     ]
    },
    {
     "name": "stdout",
     "output_type": "stream",
     "text": [
      "\n",
      "\n",
      "=============================================================================================================================\n",
      "=============================================================================================================================\n",
      "\n"
     ]
    },
    {
     "name": "stderr",
     "output_type": "stream",
     "text": [
      "[Succeeded / Failed / Skipped / Total] 130 / 41 / 74 / 245:  49%|█████████▊          | 245/500 [03:47<03:57,  1.08it/s]textattack: Saving checkpoint under \"checkpoints\\1720237424516.ta.chkpt\" at 2024-07-06 11:43:44 after 245 attacks.\n"
     ]
    },
    {
     "name": "stdout",
     "output_type": "stream",
     "text": [
      "\n",
      "\n",
      "=============================================================================================================================\n",
      "=============================================================================================================================\n",
      "\n"
     ]
    },
    {
     "name": "stderr",
     "output_type": "stream",
     "text": [
      "[Succeeded / Failed / Skipped / Total] 132 / 41 / 77 / 250:  50%|██████████          | 250/500 [03:49<03:49,  1.09it/s]textattack: Saving checkpoint under \"checkpoints\\1720237426349.ta.chkpt\" at 2024-07-06 11:43:46 after 250 attacks.\n",
      "[Succeeded / Failed / Skipped / Total] 132 / 41 / 78 / 251:  50%|██████████          | 251/500 [03:49<03:47,  1.09it/s]"
     ]
    },
    {
     "name": "stdout",
     "output_type": "stream",
     "text": [
      "\n",
      "\n",
      "=============================================================================================================================\n",
      "=============================================================================================================================\n",
      "\n"
     ]
    },
    {
     "name": "stderr",
     "output_type": "stream",
     "text": [
      "[Succeeded / Failed / Skipped / Total] 135 / 42 / 78 / 255:  51%|██████████▏         | 255/500 [03:55<03:46,  1.08it/s]textattack: Saving checkpoint under \"checkpoints\\1720237432307.ta.chkpt\" at 2024-07-06 11:43:52 after 255 attacks.\n"
     ]
    },
    {
     "name": "stdout",
     "output_type": "stream",
     "text": [
      "\n",
      "\n",
      "=============================================================================================================================\n",
      "=============================================================================================================================\n",
      "\n"
     ]
    },
    {
     "name": "stderr",
     "output_type": "stream",
     "text": [
      "[Succeeded / Failed / Skipped / Total] 139 / 43 / 78 / 260:  52%|██████████▍         | 260/500 [04:01<03:43,  1.08it/s]textattack: Saving checkpoint under \"checkpoints\\1720237438237.ta.chkpt\" at 2024-07-06 11:43:58 after 260 attacks.\n",
      "[Succeeded / Failed / Skipped / Total] 139 / 43 / 80 / 262:  52%|██████████▍         | 262/500 [04:01<03:39,  1.08it/s]"
     ]
    },
    {
     "name": "stdout",
     "output_type": "stream",
     "text": [
      "\n",
      "\n",
      "=============================================================================================================================\n",
      "=============================================================================================================================\n",
      "\n"
     ]
    },
    {
     "name": "stderr",
     "output_type": "stream",
     "text": [
      "[Succeeded / Failed / Skipped / Total] 140 / 44 / 81 / 265:  53%|██████████▌         | 265/500 [04:04<03:36,  1.08it/s]textattack: Saving checkpoint under \"checkpoints\\1720237441020.ta.chkpt\" at 2024-07-06 11:44:01 after 265 attacks.\n"
     ]
    },
    {
     "name": "stdout",
     "output_type": "stream",
     "text": [
      "\n",
      "\n",
      "=============================================================================================================================\n",
      "=============================================================================================================================\n",
      "\n"
     ]
    },
    {
     "name": "stderr",
     "output_type": "stream",
     "text": [
      "[Succeeded / Failed / Skipped / Total] 144 / 44 / 82 / 270:  54%|██████████▊         | 270/500 [04:07<03:31,  1.09it/s]textattack: Saving checkpoint under \"checkpoints\\1720237444505.ta.chkpt\" at 2024-07-06 11:44:04 after 270 attacks.\n",
      "[Succeeded / Failed / Skipped / Total] 144 / 44 / 83 / 271:  54%|██████████▊         | 271/500 [04:07<03:29,  1.09it/s]"
     ]
    },
    {
     "name": "stdout",
     "output_type": "stream",
     "text": [
      "\n",
      "\n",
      "=============================================================================================================================\n",
      "=============================================================================================================================\n",
      "\n"
     ]
    },
    {
     "name": "stderr",
     "output_type": "stream",
     "text": [
      "[Succeeded / Failed / Skipped / Total] 145 / 46 / 84 / 275:  55%|███████████         | 275/500 [04:10<03:25,  1.10it/s]textattack: Saving checkpoint under \"checkpoints\\1720237447274.ta.chkpt\" at 2024-07-06 11:44:07 after 275 attacks.\n"
     ]
    },
    {
     "name": "stdout",
     "output_type": "stream",
     "text": [
      "\n",
      "\n",
      "=============================================================================================================================\n",
      "=============================================================================================================================\n",
      "\n"
     ]
    },
    {
     "name": "stderr",
     "output_type": "stream",
     "text": [
      "[Succeeded / Failed / Skipped / Total] 146 / 47 / 87 / 280:  56%|███████████▏        | 280/500 [04:12<03:18,  1.11it/s]textattack: Saving checkpoint under \"checkpoints\\1720237449470.ta.chkpt\" at 2024-07-06 11:44:09 after 280 attacks.\n"
     ]
    },
    {
     "name": "stdout",
     "output_type": "stream",
     "text": [
      "\n",
      "\n",
      "=============================================================================================================================\n",
      "=============================================================================================================================\n",
      "\n"
     ]
    },
    {
     "name": "stderr",
     "output_type": "stream",
     "text": [
      "[Succeeded / Failed / Skipped / Total] 147 / 48 / 90 / 285:  57%|███████████▍        | 285/500 [04:15<03:12,  1.12it/s]textattack: Saving checkpoint under \"checkpoints\\1720237452091.ta.chkpt\" at 2024-07-06 11:44:12 after 285 attacks.\n",
      "[Succeeded / Failed / Skipped / Total] 147 / 48 / 91 / 286:  57%|███████████▍        | 286/500 [04:15<03:11,  1.12it/s]"
     ]
    },
    {
     "name": "stdout",
     "output_type": "stream",
     "text": [
      "\n",
      "\n",
      "=============================================================================================================================\n",
      "=============================================================================================================================\n",
      "\n"
     ]
    },
    {
     "name": "stderr",
     "output_type": "stream",
     "text": [
      "[Succeeded / Failed / Skipped / Total] 149 / 50 / 91 / 290:  58%|███████████▌        | 290/500 [04:23<03:11,  1.10it/s]textattack: Saving checkpoint under \"checkpoints\\1720237460443.ta.chkpt\" at 2024-07-06 11:44:20 after 290 attacks.\n",
      "[Succeeded / Failed / Skipped / Total] 149 / 50 / 93 / 292:  58%|███████████▋        | 292/500 [04:23<03:08,  1.11it/s]"
     ]
    },
    {
     "name": "stdout",
     "output_type": "stream",
     "text": [
      "\n",
      "\n",
      "=============================================================================================================================\n",
      "=============================================================================================================================\n",
      "\n"
     ]
    },
    {
     "name": "stderr",
     "output_type": "stream",
     "text": [
      "[Succeeded / Failed / Skipped / Total] 151 / 50 / 94 / 295:  59%|███████████▊        | 295/500 [04:25<03:04,  1.11it/s]textattack: Saving checkpoint under \"checkpoints\\1720237462556.ta.chkpt\" at 2024-07-06 11:44:22 after 295 attacks.\n"
     ]
    },
    {
     "name": "stdout",
     "output_type": "stream",
     "text": [
      "\n",
      "\n",
      "=============================================================================================================================\n",
      "=============================================================================================================================\n",
      "\n"
     ]
    },
    {
     "name": "stderr",
     "output_type": "stream",
     "text": [
      "[Succeeded / Failed / Skipped / Total] 154 / 51 / 95 / 300:  60%|████████████        | 300/500 [04:29<02:59,  1.11it/s]textattack: Saving checkpoint under \"checkpoints\\1720237466094.ta.chkpt\" at 2024-07-06 11:44:26 after 300 attacks.\n"
     ]
    },
    {
     "name": "stdout",
     "output_type": "stream",
     "text": [
      "\n",
      "\n",
      "=============================================================================================================================\n",
      "=============================================================================================================================\n",
      "\n"
     ]
    },
    {
     "name": "stderr",
     "output_type": "stream",
     "text": [
      "[Succeeded / Failed / Skipped / Total] 156 / 52 / 97 / 305:  61%|████████████▏       | 305/500 [04:32<02:54,  1.12it/s]textattack: Saving checkpoint under \"checkpoints\\1720237469563.ta.chkpt\" at 2024-07-06 11:44:29 after 305 attacks.\n"
     ]
    },
    {
     "name": "stdout",
     "output_type": "stream",
     "text": [
      "\n",
      "\n",
      "=============================================================================================================================\n",
      "=============================================================================================================================\n",
      "\n"
     ]
    },
    {
     "name": "stderr",
     "output_type": "stream",
     "text": [
      "[Succeeded / Failed / Skipped / Total] 157 / 56 / 97 / 310:  62%|████████████▍       | 310/500 [04:36<02:49,  1.12it/s]textattack: Saving checkpoint under \"checkpoints\\1720237472809.ta.chkpt\" at 2024-07-06 11:44:32 after 310 attacks.\n"
     ]
    },
    {
     "name": "stdout",
     "output_type": "stream",
     "text": [
      "\n",
      "\n",
      "=============================================================================================================================\n",
      "=============================================================================================================================\n",
      "\n"
     ]
    },
    {
     "name": "stderr",
     "output_type": "stream",
     "text": [
      "[Succeeded / Failed / Skipped / Total] 159 / 57 / 99 / 315:  63%|████████████▌       | 315/500 [04:40<02:44,  1.12it/s]textattack: Saving checkpoint under \"checkpoints\\1720237477388.ta.chkpt\" at 2024-07-06 11:44:37 after 315 attacks.\n"
     ]
    },
    {
     "name": "stdout",
     "output_type": "stream",
     "text": [
      "\n",
      "\n",
      "=============================================================================================================================\n",
      "=============================================================================================================================\n",
      "\n"
     ]
    },
    {
     "name": "stderr",
     "output_type": "stream",
     "text": [
      "[Succeeded / Failed / Skipped / Total] 161 / 58 / 101 / 320:  64%|████████████▏      | 320/500 [04:50<02:43,  1.10it/s]textattack: Saving checkpoint under \"checkpoints\\1720237487629.ta.chkpt\" at 2024-07-06 11:44:47 after 320 attacks.\n"
     ]
    },
    {
     "name": "stdout",
     "output_type": "stream",
     "text": [
      "\n",
      "\n",
      "=============================================================================================================================\n",
      "=============================================================================================================================\n",
      "\n"
     ]
    },
    {
     "name": "stderr",
     "output_type": "stream",
     "text": [
      "[Succeeded / Failed / Skipped / Total] 163 / 59 / 103 / 325:  65%|████████████▎      | 325/500 [04:59<02:41,  1.09it/s]textattack: Saving checkpoint under \"checkpoints\\1720237495953.ta.chkpt\" at 2024-07-06 11:44:55 after 325 attacks.\n",
      "[Succeeded / Failed / Skipped / Total] 163 / 59 / 105 / 327:  65%|████████████▍      | 327/500 [04:59<02:38,  1.09it/s]"
     ]
    },
    {
     "name": "stdout",
     "output_type": "stream",
     "text": [
      "\n",
      "\n",
      "=============================================================================================================================\n",
      "=============================================================================================================================\n",
      "\n"
     ]
    },
    {
     "name": "stderr",
     "output_type": "stream",
     "text": [
      "[Succeeded / Failed / Skipped / Total] 163 / 60 / 107 / 330:  66%|████████████▌      | 330/500 [05:00<02:34,  1.10it/s]textattack: Saving checkpoint under \"checkpoints\\1720237496971.ta.chkpt\" at 2024-07-06 11:44:56 after 330 attacks.\n"
     ]
    },
    {
     "name": "stdout",
     "output_type": "stream",
     "text": [
      "\n",
      "\n",
      "=============================================================================================================================\n",
      "=============================================================================================================================\n",
      "\n"
     ]
    },
    {
     "name": "stderr",
     "output_type": "stream",
     "text": [
      "[Succeeded / Failed / Skipped / Total] 165 / 62 / 108 / 335:  67%|████████████▋      | 335/500 [05:08<02:31,  1.09it/s]textattack: Saving checkpoint under \"checkpoints\\1720237505121.ta.chkpt\" at 2024-07-06 11:45:05 after 335 attacks.\n"
     ]
    },
    {
     "name": "stdout",
     "output_type": "stream",
     "text": [
      "\n",
      "\n",
      "=============================================================================================================================\n",
      "=============================================================================================================================\n",
      "\n"
     ]
    },
    {
     "name": "stderr",
     "output_type": "stream",
     "text": [
      "[Succeeded / Failed / Skipped / Total] 167 / 63 / 110 / 340:  68%|████████████▉      | 340/500 [05:10<02:26,  1.09it/s]textattack: Saving checkpoint under \"checkpoints\\1720237507366.ta.chkpt\" at 2024-07-06 11:45:07 after 340 attacks.\n"
     ]
    },
    {
     "name": "stdout",
     "output_type": "stream",
     "text": [
      "\n",
      "\n",
      "=============================================================================================================================\n",
      "=============================================================================================================================\n",
      "\n"
     ]
    },
    {
     "name": "stderr",
     "output_type": "stream",
     "text": [
      "[Succeeded / Failed / Skipped / Total] 170 / 63 / 112 / 345:  69%|█████████████      | 345/500 [05:14<02:21,  1.10it/s]textattack: Saving checkpoint under \"checkpoints\\1720237510729.ta.chkpt\" at 2024-07-06 11:45:10 after 345 attacks.\n"
     ]
    },
    {
     "name": "stdout",
     "output_type": "stream",
     "text": [
      "\n",
      "\n",
      "=============================================================================================================================\n",
      "=============================================================================================================================\n",
      "\n"
     ]
    },
    {
     "name": "stderr",
     "output_type": "stream",
     "text": [
      "[Succeeded / Failed / Skipped / Total] 173 / 65 / 112 / 350:  70%|█████████████▎     | 350/500 [05:20<02:17,  1.09it/s]textattack: Saving checkpoint under \"checkpoints\\1720237517220.ta.chkpt\" at 2024-07-06 11:45:17 after 350 attacks.\n"
     ]
    },
    {
     "name": "stdout",
     "output_type": "stream",
     "text": [
      "\n",
      "\n",
      "=============================================================================================================================\n",
      "=============================================================================================================================\n",
      "\n"
     ]
    },
    {
     "name": "stderr",
     "output_type": "stream",
     "text": [
      "[Succeeded / Failed / Skipped / Total] 176 / 67 / 112 / 355:  71%|█████████████▍     | 355/500 [05:30<02:14,  1.07it/s]textattack: Saving checkpoint under \"checkpoints\\1720237527136.ta.chkpt\" at 2024-07-06 11:45:27 after 355 attacks.\n"
     ]
    },
    {
     "name": "stdout",
     "output_type": "stream",
     "text": [
      "\n",
      "\n",
      "=============================================================================================================================\n",
      "=============================================================================================================================\n",
      "\n"
     ]
    },
    {
     "name": "stderr",
     "output_type": "stream",
     "text": [
      "[Succeeded / Failed / Skipped / Total] 178 / 69 / 113 / 360:  72%|█████████████▋     | 360/500 [05:37<02:11,  1.07it/s]textattack: Saving checkpoint under \"checkpoints\\1720237534296.ta.chkpt\" at 2024-07-06 11:45:34 after 360 attacks.\n"
     ]
    },
    {
     "name": "stdout",
     "output_type": "stream",
     "text": [
      "\n",
      "\n",
      "=============================================================================================================================\n",
      "=============================================================================================================================\n",
      "\n"
     ]
    },
    {
     "name": "stderr",
     "output_type": "stream",
     "text": [
      "[Succeeded / Failed / Skipped / Total] 181 / 70 / 114 / 365:  73%|█████████████▊     | 365/500 [05:41<02:06,  1.07it/s]textattack: Saving checkpoint under \"checkpoints\\1720237538555.ta.chkpt\" at 2024-07-06 11:45:38 after 365 attacks.\n"
     ]
    },
    {
     "name": "stdout",
     "output_type": "stream",
     "text": [
      "\n",
      "\n",
      "=============================================================================================================================\n",
      "=============================================================================================================================\n",
      "\n"
     ]
    },
    {
     "name": "stderr",
     "output_type": "stream",
     "text": [
      "[Succeeded / Failed / Skipped / Total] 184 / 70 / 116 / 370:  74%|██████████████     | 370/500 [05:43<02:00,  1.08it/s]textattack: Saving checkpoint under \"checkpoints\\1720237540517.ta.chkpt\" at 2024-07-06 11:45:40 after 370 attacks.\n"
     ]
    },
    {
     "name": "stdout",
     "output_type": "stream",
     "text": [
      "\n",
      "\n",
      "=============================================================================================================================\n",
      "=============================================================================================================================\n",
      "\n"
     ]
    },
    {
     "name": "stderr",
     "output_type": "stream",
     "text": [
      "[Succeeded / Failed / Skipped / Total] 188 / 71 / 116 / 375:  75%|██████████████▎    | 375/500 [05:49<01:56,  1.07it/s]textattack: Saving checkpoint under \"checkpoints\\1720237545737.ta.chkpt\" at 2024-07-06 11:45:45 after 375 attacks.\n"
     ]
    },
    {
     "name": "stdout",
     "output_type": "stream",
     "text": [
      "\n",
      "\n",
      "=============================================================================================================================\n",
      "=============================================================================================================================\n",
      "\n"
     ]
    },
    {
     "name": "stderr",
     "output_type": "stream",
     "text": [
      "[Succeeded / Failed / Skipped / Total] 191 / 72 / 117 / 380:  76%|██████████████▍    | 380/500 [05:52<01:51,  1.08it/s]textattack: Saving checkpoint under \"checkpoints\\1720237549587.ta.chkpt\" at 2024-07-06 11:45:49 after 380 attacks.\n"
     ]
    },
    {
     "name": "stdout",
     "output_type": "stream",
     "text": [
      "\n",
      "\n",
      "=============================================================================================================================\n",
      "=============================================================================================================================\n",
      "\n"
     ]
    },
    {
     "name": "stderr",
     "output_type": "stream",
     "text": [
      "[Succeeded / Failed / Skipped / Total] 195 / 72 / 118 / 385:  77%|██████████████▋    | 385/500 [05:56<01:46,  1.08it/s]textattack: Saving checkpoint under \"checkpoints\\1720237552828.ta.chkpt\" at 2024-07-06 11:45:52 after 385 attacks.\n"
     ]
    },
    {
     "name": "stdout",
     "output_type": "stream",
     "text": [
      "\n",
      "\n",
      "=============================================================================================================================\n",
      "=============================================================================================================================\n",
      "\n"
     ]
    },
    {
     "name": "stderr",
     "output_type": "stream",
     "text": [
      "[Succeeded / Failed / Skipped / Total] 197 / 74 / 119 / 390:  78%|██████████████▊    | 390/500 [05:59<01:41,  1.09it/s]textattack: Saving checkpoint under \"checkpoints\\1720237555986.ta.chkpt\" at 2024-07-06 11:45:55 after 390 attacks.\n"
     ]
    },
    {
     "name": "stdout",
     "output_type": "stream",
     "text": [
      "\n",
      "\n",
      "=============================================================================================================================\n",
      "=============================================================================================================================\n",
      "\n"
     ]
    },
    {
     "name": "stderr",
     "output_type": "stream",
     "text": [
      "[Succeeded / Failed / Skipped / Total] 201 / 75 / 119 / 395:  79%|███████████████    | 395/500 [06:08<01:37,  1.07it/s]textattack: Saving checkpoint under \"checkpoints\\1720237564986.ta.chkpt\" at 2024-07-06 11:46:04 after 395 attacks.\n"
     ]
    },
    {
     "name": "stdout",
     "output_type": "stream",
     "text": [
      "\n",
      "\n",
      "=============================================================================================================================\n",
      "=============================================================================================================================\n",
      "\n"
     ]
    },
    {
     "name": "stderr",
     "output_type": "stream",
     "text": [
      "[Succeeded / Failed / Skipped / Total] 204 / 76 / 120 / 400:  80%|███████████████▏   | 400/500 [06:18<01:34,  1.06it/s]textattack: Saving checkpoint under \"checkpoints\\1720237574689.ta.chkpt\" at 2024-07-06 11:46:14 after 400 attacks.\n",
      "[Succeeded / Failed / Skipped / Total] 204 / 76 / 122 / 402:  80%|███████████████▎   | 402/500 [06:18<01:32,  1.06it/s]"
     ]
    },
    {
     "name": "stdout",
     "output_type": "stream",
     "text": [
      "\n",
      "\n",
      "=============================================================================================================================\n",
      "=============================================================================================================================\n",
      "\n"
     ]
    },
    {
     "name": "stderr",
     "output_type": "stream",
     "text": [
      "[Succeeded / Failed / Skipped / Total] 205 / 77 / 123 / 405:  81%|███████████████▍   | 405/500 [06:22<01:29,  1.06it/s]textattack: Saving checkpoint under \"checkpoints\\1720237578693.ta.chkpt\" at 2024-07-06 11:46:18 after 405 attacks.\n"
     ]
    },
    {
     "name": "stdout",
     "output_type": "stream",
     "text": [
      "\n",
      "\n",
      "=============================================================================================================================\n",
      "=============================================================================================================================\n",
      "\n"
     ]
    },
    {
     "name": "stderr",
     "output_type": "stream",
     "text": [
      "[Succeeded / Failed / Skipped / Total] 207 / 79 / 124 / 410:  82%|███████████████▌   | 410/500 [06:24<01:24,  1.07it/s]textattack: Saving checkpoint under \"checkpoints\\1720237581499.ta.chkpt\" at 2024-07-06 11:46:21 after 410 attacks.\n",
      "[Succeeded / Failed / Skipped / Total] 207 / 79 / 125 / 411:  82%|███████████████▌   | 411/500 [06:24<01:23,  1.07it/s]"
     ]
    },
    {
     "name": "stdout",
     "output_type": "stream",
     "text": [
      "\n",
      "\n",
      "=============================================================================================================================\n",
      "=============================================================================================================================\n",
      "\n"
     ]
    },
    {
     "name": "stderr",
     "output_type": "stream",
     "text": [
      "[Succeeded / Failed / Skipped / Total] 209 / 79 / 127 / 415:  83%|███████████████▊   | 415/500 [06:27<01:19,  1.07it/s]textattack: Saving checkpoint under \"checkpoints\\1720237583898.ta.chkpt\" at 2024-07-06 11:46:23 after 415 attacks.\n"
     ]
    },
    {
     "name": "stdout",
     "output_type": "stream",
     "text": [
      "\n",
      "\n",
      "=============================================================================================================================\n",
      "=============================================================================================================================\n",
      "\n"
     ]
    },
    {
     "name": "stderr",
     "output_type": "stream",
     "text": [
      "[Succeeded / Failed / Skipped / Total] 210 / 81 / 129 / 420:  84%|███████████████▉   | 420/500 [06:36<01:15,  1.06it/s]textattack: Saving checkpoint under \"checkpoints\\1720237592747.ta.chkpt\" at 2024-07-06 11:46:32 after 420 attacks.\n"
     ]
    },
    {
     "name": "stdout",
     "output_type": "stream",
     "text": [
      "\n",
      "\n",
      "=============================================================================================================================\n",
      "=============================================================================================================================\n",
      "\n"
     ]
    },
    {
     "name": "stderr",
     "output_type": "stream",
     "text": [
      "[Succeeded / Failed / Skipped / Total] 214 / 82 / 129 / 425:  85%|████████████████▏  | 425/500 [06:41<01:10,  1.06it/s]textattack: Saving checkpoint under \"checkpoints\\1720237598234.ta.chkpt\" at 2024-07-06 11:46:38 after 425 attacks.\n",
      "[Succeeded / Failed / Skipped / Total] 214 / 82 / 130 / 426:  85%|████████████████▏  | 426/500 [06:41<01:09,  1.06it/s]"
     ]
    },
    {
     "name": "stdout",
     "output_type": "stream",
     "text": [
      "\n",
      "\n",
      "=============================================================================================================================\n",
      "=============================================================================================================================\n",
      "\n"
     ]
    },
    {
     "name": "stderr",
     "output_type": "stream",
     "text": [
      "[Succeeded / Failed / Skipped / Total] 217 / 82 / 131 / 430:  86%|████████████████▎  | 430/500 [06:44<01:05,  1.06it/s]textattack: Saving checkpoint under \"checkpoints\\1720237601070.ta.chkpt\" at 2024-07-06 11:46:41 after 430 attacks.\n",
      "[Succeeded / Failed / Skipped / Total] 217 / 82 / 133 / 432:  86%|████████████████▍  | 432/500 [06:44<01:03,  1.07it/s]"
     ]
    },
    {
     "name": "stdout",
     "output_type": "stream",
     "text": [
      "\n",
      "\n",
      "=============================================================================================================================\n",
      "=============================================================================================================================\n",
      "\n"
     ]
    },
    {
     "name": "stderr",
     "output_type": "stream",
     "text": [
      "[Succeeded / Failed / Skipped / Total] 220 / 82 / 133 / 435:  87%|████████████████▌  | 435/500 [06:46<01:00,  1.07it/s]textattack: Saving checkpoint under \"checkpoints\\1720237603186.ta.chkpt\" at 2024-07-06 11:46:43 after 435 attacks.\n"
     ]
    },
    {
     "name": "stdout",
     "output_type": "stream",
     "text": [
      "\n",
      "\n",
      "=============================================================================================================================\n",
      "=============================================================================================================================\n",
      "\n"
     ]
    },
    {
     "name": "stderr",
     "output_type": "stream",
     "text": [
      "[Succeeded / Failed / Skipped / Total] 223 / 84 / 133 / 440:  88%|████████████████▋  | 440/500 [06:55<00:56,  1.06it/s]textattack: Saving checkpoint under \"checkpoints\\1720237612340.ta.chkpt\" at 2024-07-06 11:46:52 after 440 attacks.\n"
     ]
    },
    {
     "name": "stdout",
     "output_type": "stream",
     "text": [
      "\n",
      "\n",
      "=============================================================================================================================\n",
      "=============================================================================================================================\n",
      "\n"
     ]
    },
    {
     "name": "stderr",
     "output_type": "stream",
     "text": [
      "[Succeeded / Failed / Skipped / Total] 227 / 84 / 134 / 445:  89%|████████████████▉  | 445/500 [06:58<00:51,  1.06it/s]textattack: Saving checkpoint under \"checkpoints\\1720237615175.ta.chkpt\" at 2024-07-06 11:46:55 after 445 attacks.\n"
     ]
    },
    {
     "name": "stdout",
     "output_type": "stream",
     "text": [
      "\n",
      "\n",
      "=============================================================================================================================\n",
      "=============================================================================================================================\n",
      "\n"
     ]
    },
    {
     "name": "stderr",
     "output_type": "stream",
     "text": [
      "[Succeeded / Failed / Skipped / Total] 228 / 86 / 136 / 450:  90%|█████████████████  | 450/500 [07:01<00:46,  1.07it/s]textattack: Saving checkpoint under \"checkpoints\\1720237618617.ta.chkpt\" at 2024-07-06 11:46:58 after 450 attacks.\n",
      "[Succeeded / Failed / Skipped / Total] 228 / 86 / 136 / 450:  90%|█████████████████▏ | 451/500 [07:02<00:45,  1.07it/s]"
     ]
    },
    {
     "name": "stdout",
     "output_type": "stream",
     "text": [
      "\n",
      "\n",
      "=============================================================================================================================\n",
      "=============================================================================================================================\n",
      "\n"
     ]
    },
    {
     "name": "stderr",
     "output_type": "stream",
     "text": [
      "[Succeeded / Failed / Skipped / Total] 231 / 86 / 138 / 455:  91%|█████████████████▎ | 455/500 [07:05<00:42,  1.07it/s]textattack: Saving checkpoint under \"checkpoints\\1720237622103.ta.chkpt\" at 2024-07-06 11:47:02 after 455 attacks.\n"
     ]
    },
    {
     "name": "stdout",
     "output_type": "stream",
     "text": [
      "\n",
      "\n",
      "=============================================================================================================================\n",
      "=============================================================================================================================\n",
      "\n"
     ]
    },
    {
     "name": "stderr",
     "output_type": "stream",
     "text": [
      "[Succeeded / Failed / Skipped / Total] 234 / 87 / 139 / 460:  92%|█████████████████▍ | 460/500 [07:12<00:37,  1.06it/s]textattack: Saving checkpoint under \"checkpoints\\1720237628866.ta.chkpt\" at 2024-07-06 11:47:08 after 460 attacks.\n"
     ]
    },
    {
     "name": "stdout",
     "output_type": "stream",
     "text": [
      "\n",
      "\n",
      "=============================================================================================================================\n",
      "=============================================================================================================================\n",
      "\n"
     ]
    },
    {
     "name": "stderr",
     "output_type": "stream",
     "text": [
      "[Succeeded / Failed / Skipped / Total] 238 / 87 / 140 / 465:  93%|█████████████████▋ | 465/500 [07:15<00:32,  1.07it/s]textattack: Saving checkpoint under \"checkpoints\\1720237632400.ta.chkpt\" at 2024-07-06 11:47:12 after 465 attacks.\n"
     ]
    },
    {
     "name": "stdout",
     "output_type": "stream",
     "text": [
      "\n",
      "\n",
      "=============================================================================================================================\n",
      "=============================================================================================================================\n",
      "\n"
     ]
    },
    {
     "name": "stderr",
     "output_type": "stream",
     "text": [
      "[Succeeded / Failed / Skipped / Total] 242 / 87 / 141 / 470:  94%|█████████████████▊ | 470/500 [07:17<00:27,  1.07it/s]textattack: Saving checkpoint under \"checkpoints\\1720237634361.ta.chkpt\" at 2024-07-06 11:47:14 after 470 attacks.\n"
     ]
    },
    {
     "name": "stdout",
     "output_type": "stream",
     "text": [
      "\n",
      "\n",
      "=============================================================================================================================\n",
      "=============================================================================================================================\n",
      "\n"
     ]
    },
    {
     "name": "stderr",
     "output_type": "stream",
     "text": [
      "[Succeeded / Failed / Skipped / Total] 243 / 90 / 142 / 475:  95%|██████████████████ | 475/500 [07:27<00:23,  1.06it/s]textattack: Saving checkpoint under \"checkpoints\\1720237643637.ta.chkpt\" at 2024-07-06 11:47:23 after 475 attacks.\n"
     ]
    },
    {
     "name": "stdout",
     "output_type": "stream",
     "text": [
      "\n",
      "\n",
      "=============================================================================================================================\n",
      "=============================================================================================================================\n",
      "\n"
     ]
    },
    {
     "name": "stderr",
     "output_type": "stream",
     "text": [
      "[Succeeded / Failed / Skipped / Total] 245 / 92 / 143 / 480:  96%|██████████████████▏| 480/500 [07:32<00:18,  1.06it/s]textattack: Saving checkpoint under \"checkpoints\\1720237649080.ta.chkpt\" at 2024-07-06 11:47:29 after 480 attacks.\n"
     ]
    },
    {
     "name": "stdout",
     "output_type": "stream",
     "text": [
      "\n",
      "\n",
      "=============================================================================================================================\n",
      "=============================================================================================================================\n",
      "\n"
     ]
    },
    {
     "name": "stderr",
     "output_type": "stream",
     "text": [
      "[Succeeded / Failed / Skipped / Total] 246 / 95 / 144 / 485:  97%|██████████████████▍| 485/500 [07:40<00:14,  1.05it/s]textattack: Saving checkpoint under \"checkpoints\\1720237657541.ta.chkpt\" at 2024-07-06 11:47:37 after 485 attacks.\n"
     ]
    },
    {
     "name": "stdout",
     "output_type": "stream",
     "text": [
      "\n",
      "\n",
      "=============================================================================================================================\n",
      "=============================================================================================================================\n",
      "\n"
     ]
    },
    {
     "name": "stderr",
     "output_type": "stream",
     "text": [
      "[Succeeded / Failed / Skipped / Total] 250 / 95 / 145 / 490:  98%|██████████████████▌| 490/500 [07:44<00:09,  1.06it/s]textattack: Saving checkpoint under \"checkpoints\\1720237660994.ta.chkpt\" at 2024-07-06 11:47:40 after 490 attacks.\n",
      "[Succeeded / Failed / Skipped / Total] 250 / 95 / 146 / 491:  98%|██████████████████▋| 491/500 [07:44<00:08,  1.06it/s]"
     ]
    },
    {
     "name": "stdout",
     "output_type": "stream",
     "text": [
      "\n",
      "\n",
      "=============================================================================================================================\n",
      "=============================================================================================================================\n",
      "\n"
     ]
    },
    {
     "name": "stderr",
     "output_type": "stream",
     "text": [
      "[Succeeded / Failed / Skipped / Total] 252 / 95 / 148 / 495:  99%|██████████████████▊| 495/500 [07:48<00:04,  1.06it/s]textattack: Saving checkpoint under \"checkpoints\\1720237665088.ta.chkpt\" at 2024-07-06 11:47:45 after 495 attacks.\n",
      "[Succeeded / Failed / Skipped / Total] 252 / 95 / 149 / 496:  99%|██████████████████▊| 496/500 [07:48<00:03,  1.06it/s]"
     ]
    },
    {
     "name": "stdout",
     "output_type": "stream",
     "text": [
      "\n",
      "\n",
      "=============================================================================================================================\n",
      "=============================================================================================================================\n",
      "\n"
     ]
    },
    {
     "name": "stderr",
     "output_type": "stream",
     "text": [
      "[Succeeded / Failed / Skipped / Total] 256 / 95 / 149 / 500: 100%|███████████████████| 500/500 [07:52<00:00,  1.06it/s]textattack: Saving checkpoint under \"checkpoints\\1720237669625.ta.chkpt\" at 2024-07-06 11:47:49 after 500 attacks.\n",
      "[Succeeded / Failed / Skipped / Total] 256 / 95 / 149 / 500: 100%|███████████████████| 500/500 [07:53<00:00,  1.06it/s]"
     ]
    },
    {
     "name": "stdout",
     "output_type": "stream",
     "text": [
      "\n",
      "\n",
      "=============================================================================================================================\n",
      "=============================================================================================================================\n",
      "\n",
      "\n",
      "+-------------------------------+--------+\n",
      "| Attack Results                |        |\n",
      "+-------------------------------+--------+\n",
      "| Number of successful attacks: | 256    |\n",
      "| Number of failed attacks:     | 95     |\n",
      "| Number of skipped attacks:    | 149    |\n",
      "| Original accuracy:            | 70.2%  |\n",
      "| Accuracy under attack:        | 19.0%  |\n",
      "| Attack success rate:          | 72.93% |\n",
      "| Average perturbed word %:     | 16.03% |\n",
      "| Average num. words per input: | 18.4   |\n",
      "| Avg num queries:              | 32.59  |\n",
      "+-------------------------------+--------+\n"
     ]
    },
    {
     "name": "stderr",
     "output_type": "stream",
     "text": [
      "\n"
     ]
    }
   ],
   "source": [
    "runAttack(clip_model_wrapper_rf_mr, n_samples, 'attack_results_new/clipmrattackrf'+suffix, target_ds_mr)"
   ]
  },
  {
   "cell_type": "code",
   "execution_count": 30,
   "id": "e504697f-f05b-42bc-a947-145973d676e3",
   "metadata": {
    "scrolled": true
   },
   "outputs": [
    {
     "name": "stderr",
     "output_type": "stream",
     "text": [
      "textattack: Unknown if model of class <class 'transformers.models.clip.modeling_clip.CLIPTextTransformer'> compatible with goal function <class 'textattack.goal_functions.classification.untargeted_classification.UntargetedClassification'>.\n",
      "textattack: Logging to CSV at path attack_results_new/clipmrattackknnsim08.csv\n"
     ]
    },
    {
     "name": "stdout",
     "output_type": "stream",
     "text": [
      "Attack(\n",
      "  (search_method): GreedyWordSwapWIR(\n",
      "    (wir_method):  delete\n",
      "  )\n",
      "  (goal_function):  UntargetedClassification\n",
      "  (transformation):  WordSwapEmbedding(\n",
      "    (max_candidates):  50\n",
      "    (embedding):  WordEmbedding\n",
      "  )\n",
      "  (constraints): \n",
      "    (0): WordEmbeddingDistance(\n",
      "        (embedding):  WordEmbedding\n",
      "        (min_cos_sim):  0.8\n",
      "        (cased):  False\n",
      "        (include_unknown_words):  True\n",
      "        (compare_against_original):  True\n",
      "      )\n",
      "    (1): PartOfSpeech(\n",
      "        (tagger_type):  nltk\n",
      "        (tagset):  universal\n",
      "        (allow_verb_noun_swap):  True\n",
      "        (compare_against_original):  True\n",
      "      )\n",
      "    (2): UniversalSentenceEncoder(\n",
      "        (metric):  angular\n",
      "        (threshold):  0.840845057\n",
      "        (window_size):  15\n",
      "        (skip_text_shorter_than_window):  True\n",
      "        (compare_against_original):  False\n",
      "      )\n",
      "    (3): RepeatModification\n",
      "    (4): StopwordModification\n",
      "    (5): InputColumnModification(\n",
      "        (matching_column_labels):  ['premise', 'hypothesis']\n",
      "        (columns_to_ignore):  {'premise'}\n",
      "      )\n",
      "  (is_black_box):  True\n",
      ") \n",
      "\n"
     ]
    },
    {
     "name": "stderr",
     "output_type": "stream",
     "text": [
      "[Succeeded / Failed / Skipped / Total] 2 / 3 / 0 / 5:   1%|▎                           | 5/500 [00:12<19:51,  2.41s/it]textattack: Saving checkpoint under \"checkpoints\\1720237681774.ta.chkpt\" at 2024-07-06 11:48:01 after 5 attacks.\n"
     ]
    },
    {
     "name": "stdout",
     "output_type": "stream",
     "text": [
      "\n",
      "\n",
      "=============================================================================================================================\n",
      "=============================================================================================================================\n",
      "\n"
     ]
    },
    {
     "name": "stderr",
     "output_type": "stream",
     "text": [
      "[Succeeded / Failed / Skipped / Total] 3 / 5 / 2 / 10:   2%|▌                         | 10/500 [00:18<15:05,  1.85s/it]textattack: Saving checkpoint under \"checkpoints\\1720237688209.ta.chkpt\" at 2024-07-06 11:48:08 after 10 attacks.\n"
     ]
    },
    {
     "name": "stdout",
     "output_type": "stream",
     "text": [
      "\n",
      "\n",
      "=============================================================================================================================\n",
      "=============================================================================================================================\n",
      "\n"
     ]
    },
    {
     "name": "stderr",
     "output_type": "stream",
     "text": [
      "[Succeeded / Failed / Skipped / Total] 5 / 7 / 3 / 15:   3%|▊                         | 15/500 [00:27<14:39,  1.81s/it]textattack: Saving checkpoint under \"checkpoints\\1720237696931.ta.chkpt\" at 2024-07-06 11:48:16 after 15 attacks.\n"
     ]
    },
    {
     "name": "stdout",
     "output_type": "stream",
     "text": [
      "\n",
      "\n",
      "=============================================================================================================================\n",
      "=============================================================================================================================\n",
      "\n"
     ]
    },
    {
     "name": "stderr",
     "output_type": "stream",
     "text": [
      "[Succeeded / Failed / Skipped / Total] 8 / 8 / 4 / 20:   4%|█                         | 20/500 [00:29<11:58,  1.50s/it]textattack: Saving checkpoint under \"checkpoints\\1720237699681.ta.chkpt\" at 2024-07-06 11:48:19 after 20 attacks.\n"
     ]
    },
    {
     "name": "stdout",
     "output_type": "stream",
     "text": [
      "\n",
      "\n",
      "=============================================================================================================================\n",
      "=============================================================================================================================\n",
      "\n"
     ]
    },
    {
     "name": "stderr",
     "output_type": "stream",
     "text": [
      "[Succeeded / Failed / Skipped / Total] 9 / 9 / 7 / 25:   5%|█▎                        | 25/500 [00:33<10:40,  1.35s/it]textattack: Saving checkpoint under \"checkpoints\\1720237703461.ta.chkpt\" at 2024-07-06 11:48:23 after 25 attacks.\n"
     ]
    },
    {
     "name": "stdout",
     "output_type": "stream",
     "text": [
      "\n",
      "\n",
      "=============================================================================================================================\n",
      "=============================================================================================================================\n",
      "\n"
     ]
    },
    {
     "name": "stderr",
     "output_type": "stream",
     "text": [
      "[Succeeded / Failed / Skipped / Total] 9 / 11 / 10 / 30:   6%|█▍                      | 30/500 [00:38<10:04,  1.29s/it]textattack: Saving checkpoint under \"checkpoints\\1720237708343.ta.chkpt\" at 2024-07-06 11:48:28 after 30 attacks.\n",
      "[Succeeded / Failed / Skipped / Total] 9 / 11 / 11 / 31:   6%|█▍                      | 31/500 [00:38<09:46,  1.25s/it]"
     ]
    },
    {
     "name": "stdout",
     "output_type": "stream",
     "text": [
      "\n",
      "\n",
      "=============================================================================================================================\n",
      "=============================================================================================================================\n",
      "\n"
     ]
    },
    {
     "name": "stderr",
     "output_type": "stream",
     "text": [
      "[Succeeded / Failed / Skipped / Total] 12 / 11 / 12 / 35:   7%|█▌                     | 35/500 [00:42<09:29,  1.23s/it]textattack: Saving checkpoint under \"checkpoints\\1720237712615.ta.chkpt\" at 2024-07-06 11:48:32 after 35 attacks.\n",
      "[Succeeded / Failed / Skipped / Total] 12 / 11 / 13 / 36:   7%|█▋                     | 36/500 [00:42<09:14,  1.19s/it]"
     ]
    },
    {
     "name": "stdout",
     "output_type": "stream",
     "text": [
      "\n",
      "\n",
      "=============================================================================================================================\n",
      "=============================================================================================================================\n",
      "\n"
     ]
    },
    {
     "name": "stderr",
     "output_type": "stream",
     "text": [
      "[Succeeded / Failed / Skipped / Total] 13 / 11 / 16 / 40:   8%|█▊                     | 40/500 [00:44<08:31,  1.11s/it]textattack: Saving checkpoint under \"checkpoints\\1720237714199.ta.chkpt\" at 2024-07-06 11:48:34 after 40 attacks.\n"
     ]
    },
    {
     "name": "stdout",
     "output_type": "stream",
     "text": [
      "\n",
      "\n",
      "=============================================================================================================================\n",
      "=============================================================================================================================\n",
      "\n"
     ]
    },
    {
     "name": "stderr",
     "output_type": "stream",
     "text": [
      "[Succeeded / Failed / Skipped / Total] 16 / 12 / 17 / 45:   9%|██                     | 45/500 [00:53<08:57,  1.18s/it]textattack: Saving checkpoint under \"checkpoints\\1720237722886.ta.chkpt\" at 2024-07-06 11:48:42 after 45 attacks.\n"
     ]
    },
    {
     "name": "stdout",
     "output_type": "stream",
     "text": [
      "\n",
      "\n",
      "=============================================================================================================================\n",
      "=============================================================================================================================\n",
      "\n"
     ]
    },
    {
     "name": "stderr",
     "output_type": "stream",
     "text": [
      "[Succeeded / Failed / Skipped / Total] 20 / 12 / 18 / 50:  10%|██▎                    | 50/500 [00:56<08:25,  1.12s/it]textattack: Saving checkpoint under \"checkpoints\\1720237725925.ta.chkpt\" at 2024-07-06 11:48:45 after 50 attacks.\n",
      "[Succeeded / Failed / Skipped / Total] 20 / 12 / 19 / 51:  10%|██▎                    | 51/500 [00:56<08:15,  1.10s/it]"
     ]
    },
    {
     "name": "stdout",
     "output_type": "stream",
     "text": [
      "\n",
      "\n",
      "=============================================================================================================================\n",
      "=============================================================================================================================\n",
      "\n"
     ]
    },
    {
     "name": "stderr",
     "output_type": "stream",
     "text": [
      "[Succeeded / Failed / Skipped / Total] 22 / 13 / 20 / 55:  11%|██▌                    | 55/500 [01:01<08:20,  1.12s/it]textattack: Saving checkpoint under \"checkpoints\\1720237731585.ta.chkpt\" at 2024-07-06 11:48:51 after 55 attacks.\n"
     ]
    },
    {
     "name": "stdout",
     "output_type": "stream",
     "text": [
      "\n",
      "\n",
      "=============================================================================================================================\n",
      "=============================================================================================================================\n",
      "\n"
     ]
    },
    {
     "name": "stderr",
     "output_type": "stream",
     "text": [
      "[Succeeded / Failed / Skipped / Total] 25 / 15 / 20 / 60:  12%|██▊                    | 60/500 [01:08<08:19,  1.14s/it]textattack: Saving checkpoint under \"checkpoints\\1720237737863.ta.chkpt\" at 2024-07-06 11:48:57 after 60 attacks.\n",
      "[Succeeded / Failed / Skipped / Total] 25 / 15 / 21 / 61:  12%|██▊                    | 61/500 [01:08<08:10,  1.12s/it]"
     ]
    },
    {
     "name": "stdout",
     "output_type": "stream",
     "text": [
      "\n",
      "\n",
      "=============================================================================================================================\n",
      "=============================================================================================================================\n",
      "\n"
     ]
    },
    {
     "name": "stderr",
     "output_type": "stream",
     "text": [
      "[Succeeded / Failed / Skipped / Total] 27 / 17 / 21 / 65:  13%|██▉                    | 65/500 [01:12<08:04,  1.11s/it]textattack: Saving checkpoint under \"checkpoints\\1720237742147.ta.chkpt\" at 2024-07-06 11:49:02 after 65 attacks.\n"
     ]
    },
    {
     "name": "stdout",
     "output_type": "stream",
     "text": [
      "\n",
      "\n",
      "=============================================================================================================================\n",
      "=============================================================================================================================\n",
      "\n"
     ]
    },
    {
     "name": "stderr",
     "output_type": "stream",
     "text": [
      "[Succeeded / Failed / Skipped / Total] 30 / 19 / 21 / 70:  14%|███▏                   | 70/500 [01:19<08:11,  1.14s/it]textattack: Saving checkpoint under \"checkpoints\\1720237749711.ta.chkpt\" at 2024-07-06 11:49:09 after 70 attacks.\n",
      "[Succeeded / Failed / Skipped / Total] 30 / 19 / 22 / 71:  14%|███▎                   | 71/500 [01:20<08:03,  1.13s/it]"
     ]
    },
    {
     "name": "stdout",
     "output_type": "stream",
     "text": [
      "\n",
      "\n",
      "=============================================================================================================================\n",
      "=============================================================================================================================\n",
      "\n"
     ]
    },
    {
     "name": "stderr",
     "output_type": "stream",
     "text": [
      "[Succeeded / Failed / Skipped / Total] 33 / 19 / 23 / 75:  15%|███▍                   | 75/500 [01:22<07:49,  1.10s/it]textattack: Saving checkpoint under \"checkpoints\\1720237752609.ta.chkpt\" at 2024-07-06 11:49:12 after 75 attacks.\n",
      "[Succeeded / Failed / Skipped / Total] 33 / 19 / 24 / 76:  15%|███▍                   | 76/500 [01:22<07:42,  1.09s/it]"
     ]
    },
    {
     "name": "stdout",
     "output_type": "stream",
     "text": [
      "\n",
      "\n",
      "=============================================================================================================================\n",
      "=============================================================================================================================\n",
      "\n"
     ]
    },
    {
     "name": "stderr",
     "output_type": "stream",
     "text": [
      "[Succeeded / Failed / Skipped / Total] 36 / 20 / 24 / 80:  16%|███▋                   | 80/500 [01:27<07:41,  1.10s/it]textattack: Saving checkpoint under \"checkpoints\\1720237757584.ta.chkpt\" at 2024-07-06 11:49:17 after 80 attacks.\n",
      "[Succeeded / Failed / Skipped / Total] 36 / 20 / 26 / 82:  16%|███▊                   | 82/500 [01:27<07:28,  1.07s/it]"
     ]
    },
    {
     "name": "stdout",
     "output_type": "stream",
     "text": [
      "\n",
      "\n",
      "=============================================================================================================================\n",
      "=============================================================================================================================\n",
      "\n"
     ]
    },
    {
     "name": "stderr",
     "output_type": "stream",
     "text": [
      "[Succeeded / Failed / Skipped / Total] 38 / 20 / 27 / 85:  17%|███▉                   | 85/500 [01:28<07:14,  1.05s/it]textattack: Saving checkpoint under \"checkpoints\\1720237758712.ta.chkpt\" at 2024-07-06 11:49:18 after 85 attacks.\n",
      "[Succeeded / Failed / Skipped / Total] 38 / 20 / 28 / 86:  17%|███▉                   | 86/500 [01:29<07:08,  1.04s/it]"
     ]
    },
    {
     "name": "stdout",
     "output_type": "stream",
     "text": [
      "\n",
      "\n",
      "=============================================================================================================================\n",
      "=============================================================================================================================\n",
      "\n"
     ]
    },
    {
     "name": "stderr",
     "output_type": "stream",
     "text": [
      "[Succeeded / Failed / Skipped / Total] 40 / 20 / 30 / 90:  18%|████▏                  | 90/500 [01:30<06:51,  1.00s/it]textattack: Saving checkpoint under \"checkpoints\\1720237760009.ta.chkpt\" at 2024-07-06 11:49:20 after 90 attacks.\n",
      "[Succeeded / Failed / Skipped / Total] 40 / 20 / 31 / 91:  18%|████▏                  | 91/500 [01:30<06:46,  1.01it/s]"
     ]
    },
    {
     "name": "stdout",
     "output_type": "stream",
     "text": [
      "\n",
      "\n",
      "=============================================================================================================================\n",
      "=============================================================================================================================\n",
      "\n"
     ]
    },
    {
     "name": "stderr",
     "output_type": "stream",
     "text": [
      "[Succeeded / Failed / Skipped / Total] 44 / 20 / 31 / 95:  19%|████▎                  | 95/500 [01:34<06:41,  1.01it/s]textattack: Saving checkpoint under \"checkpoints\\1720237764001.ta.chkpt\" at 2024-07-06 11:49:24 after 95 attacks.\n"
     ]
    },
    {
     "name": "stdout",
     "output_type": "stream",
     "text": [
      "\n",
      "\n",
      "=============================================================================================================================\n",
      "=============================================================================================================================\n",
      "\n"
     ]
    },
    {
     "name": "stderr",
     "output_type": "stream",
     "text": [
      "[Succeeded / Failed / Skipped / Total] 49 / 20 / 31 / 100:  20%|████▏                | 100/500 [01:36<06:26,  1.03it/s]textattack: Saving checkpoint under \"checkpoints\\1720237766414.ta.chkpt\" at 2024-07-06 11:49:26 after 100 attacks.\n"
     ]
    },
    {
     "name": "stdout",
     "output_type": "stream",
     "text": [
      "\n",
      "\n",
      "=============================================================================================================================\n",
      "=============================================================================================================================\n",
      "\n"
     ]
    },
    {
     "name": "stderr",
     "output_type": "stream",
     "text": [
      "[Succeeded / Failed / Skipped / Total] 52 / 21 / 32 / 105:  21%|████▍                | 105/500 [01:43<06:28,  1.02it/s]textattack: Saving checkpoint under \"checkpoints\\1720237772935.ta.chkpt\" at 2024-07-06 11:49:32 after 105 attacks.\n",
      "[Succeeded / Failed / Skipped / Total] 52 / 21 / 33 / 106:  21%|████▍                | 106/500 [01:43<06:23,  1.03it/s]"
     ]
    },
    {
     "name": "stdout",
     "output_type": "stream",
     "text": [
      "\n",
      "\n",
      "=============================================================================================================================\n",
      "=============================================================================================================================\n",
      "\n"
     ]
    },
    {
     "name": "stderr",
     "output_type": "stream",
     "text": [
      "[Succeeded / Failed / Skipped / Total] 52 / 22 / 36 / 110:  22%|████▌                | 110/500 [01:45<06:12,  1.05it/s]textattack: Saving checkpoint under \"checkpoints\\1720237774801.ta.chkpt\" at 2024-07-06 11:49:34 after 110 attacks.\n",
      "[Succeeded / Failed / Skipped / Total] 52 / 22 / 37 / 111:  22%|████▋                | 111/500 [01:45<06:08,  1.06it/s]"
     ]
    },
    {
     "name": "stdout",
     "output_type": "stream",
     "text": [
      "\n",
      "\n",
      "=============================================================================================================================\n",
      "=============================================================================================================================\n",
      "\n"
     ]
    },
    {
     "name": "stderr",
     "output_type": "stream",
     "text": [
      "[Succeeded / Failed / Skipped / Total] 54 / 23 / 38 / 115:  23%|████▊                | 115/500 [01:48<06:04,  1.06it/s]textattack: Saving checkpoint under \"checkpoints\\1720237778695.ta.chkpt\" at 2024-07-06 11:49:38 after 115 attacks.\n"
     ]
    },
    {
     "name": "stdout",
     "output_type": "stream",
     "text": [
      "\n",
      "\n",
      "=============================================================================================================================\n",
      "=============================================================================================================================\n",
      "\n"
     ]
    },
    {
     "name": "stderr",
     "output_type": "stream",
     "text": [
      "[Succeeded / Failed / Skipped / Total] 55 / 25 / 40 / 120:  24%|█████                | 120/500 [01:51<05:52,  1.08it/s]textattack: Saving checkpoint under \"checkpoints\\1720237780981.ta.chkpt\" at 2024-07-06 11:49:40 after 120 attacks.\n",
      "[Succeeded / Failed / Skipped / Total] 55 / 25 / 42 / 122:  24%|█████                | 122/500 [01:51<05:45,  1.10it/s]"
     ]
    },
    {
     "name": "stdout",
     "output_type": "stream",
     "text": [
      "\n",
      "\n",
      "=============================================================================================================================\n",
      "=============================================================================================================================\n",
      "\n"
     ]
    },
    {
     "name": "stderr",
     "output_type": "stream",
     "text": [
      "[Succeeded / Failed / Skipped / Total] 57 / 25 / 43 / 125:  25%|█████▎               | 125/500 [01:53<05:39,  1.11it/s]textattack: Saving checkpoint under \"checkpoints\\1720237782860.ta.chkpt\" at 2024-07-06 11:49:42 after 125 attacks.\n"
     ]
    },
    {
     "name": "stdout",
     "output_type": "stream",
     "text": [
      "\n",
      "\n",
      "=============================================================================================================================\n",
      "=============================================================================================================================\n",
      "\n"
     ]
    },
    {
     "name": "stderr",
     "output_type": "stream",
     "text": [
      "[Succeeded / Failed / Skipped / Total] 61 / 25 / 44 / 130:  26%|█████▍               | 130/500 [01:56<05:32,  1.11it/s]textattack: Saving checkpoint under \"checkpoints\\1720237786460.ta.chkpt\" at 2024-07-06 11:49:46 after 130 attacks.\n",
      "[Succeeded / Failed / Skipped / Total] 61 / 25 / 45 / 131:  26%|█████▌               | 131/500 [01:56<05:29,  1.12it/s]"
     ]
    },
    {
     "name": "stdout",
     "output_type": "stream",
     "text": [
      "\n",
      "\n",
      "=============================================================================================================================\n",
      "=============================================================================================================================\n",
      "\n"
     ]
    },
    {
     "name": "stderr",
     "output_type": "stream",
     "text": [
      "[Succeeded / Failed / Skipped / Total] 64 / 25 / 46 / 135:  27%|█████▋               | 135/500 [02:00<05:25,  1.12it/s]textattack: Saving checkpoint under \"checkpoints\\1720237790032.ta.chkpt\" at 2024-07-06 11:49:50 after 135 attacks.\n"
     ]
    },
    {
     "name": "stdout",
     "output_type": "stream",
     "text": [
      "\n",
      "\n",
      "=============================================================================================================================\n",
      "=============================================================================================================================\n",
      "\n"
     ]
    },
    {
     "name": "stderr",
     "output_type": "stream",
     "text": [
      "[Succeeded / Failed / Skipped / Total] 66 / 25 / 49 / 140:  28%|█████▉               | 140/500 [02:02<05:15,  1.14it/s]textattack: Saving checkpoint under \"checkpoints\\1720237792390.ta.chkpt\" at 2024-07-06 11:49:52 after 140 attacks.\n",
      "[Succeeded / Failed / Skipped / Total] 66 / 25 / 51 / 142:  28%|█████▉               | 142/500 [02:02<05:09,  1.16it/s]"
     ]
    },
    {
     "name": "stdout",
     "output_type": "stream",
     "text": [
      "\n",
      "\n",
      "=============================================================================================================================\n",
      "=============================================================================================================================\n",
      "\n"
     ]
    },
    {
     "name": "stderr",
     "output_type": "stream",
     "text": [
      "[Succeeded / Failed / Skipped / Total] 67 / 25 / 53 / 145:  29%|██████               | 145/500 [02:03<05:01,  1.18it/s]textattack: Saving checkpoint under \"checkpoints\\1720237793018.ta.chkpt\" at 2024-07-06 11:49:53 after 145 attacks.\n",
      "[Succeeded / Failed / Skipped / Total] 67 / 25 / 54 / 146:  29%|██████▏              | 146/500 [02:03<04:59,  1.18it/s]"
     ]
    },
    {
     "name": "stdout",
     "output_type": "stream",
     "text": [
      "\n",
      "\n",
      "=============================================================================================================================\n",
      "=============================================================================================================================\n",
      "\n"
     ]
    },
    {
     "name": "stderr",
     "output_type": "stream",
     "text": [
      "[Succeeded / Failed / Skipped / Total] 69 / 26 / 55 / 150:  30%|██████▎              | 150/500 [02:05<04:52,  1.19it/s]textattack: Saving checkpoint under \"checkpoints\\1720237795298.ta.chkpt\" at 2024-07-06 11:49:55 after 150 attacks.\n"
     ]
    },
    {
     "name": "stdout",
     "output_type": "stream",
     "text": [
      "\n",
      "\n",
      "=============================================================================================================================\n",
      "=============================================================================================================================\n",
      "\n"
     ]
    },
    {
     "name": "stderr",
     "output_type": "stream",
     "text": [
      "[Succeeded / Failed / Skipped / Total] 73 / 27 / 55 / 155:  31%|██████▌              | 155/500 [02:09<04:48,  1.20it/s]textattack: Saving checkpoint under \"checkpoints\\1720237799147.ta.chkpt\" at 2024-07-06 11:49:59 after 155 attacks.\n"
     ]
    },
    {
     "name": "stdout",
     "output_type": "stream",
     "text": [
      "\n",
      "\n",
      "=============================================================================================================================\n",
      "=============================================================================================================================\n",
      "\n"
     ]
    },
    {
     "name": "stderr",
     "output_type": "stream",
     "text": [
      "[Succeeded / Failed / Skipped / Total] 74 / 28 / 58 / 160:  32%|██████▋              | 160/500 [02:15<04:46,  1.18it/s]textattack: Saving checkpoint under \"checkpoints\\1720237804771.ta.chkpt\" at 2024-07-06 11:50:04 after 160 attacks.\n",
      "[Succeeded / Failed / Skipped / Total] 74 / 28 / 59 / 161:  32%|██████▊              | 161/500 [02:15<04:44,  1.19it/s]"
     ]
    },
    {
     "name": "stdout",
     "output_type": "stream",
     "text": [
      "\n",
      "\n",
      "=============================================================================================================================\n",
      "=============================================================================================================================\n",
      "\n"
     ]
    },
    {
     "name": "stderr",
     "output_type": "stream",
     "text": [
      "[Succeeded / Failed / Skipped / Total] 76 / 29 / 60 / 165:  33%|██████▉              | 165/500 [02:17<04:39,  1.20it/s]textattack: Saving checkpoint under \"checkpoints\\1720237807402.ta.chkpt\" at 2024-07-06 11:50:07 after 165 attacks.\n"
     ]
    },
    {
     "name": "stdout",
     "output_type": "stream",
     "text": [
      "\n",
      "\n",
      "=============================================================================================================================\n",
      "=============================================================================================================================\n",
      "\n"
     ]
    },
    {
     "name": "stderr",
     "output_type": "stream",
     "text": [
      "[Succeeded / Failed / Skipped / Total] 77 / 31 / 62 / 170:  34%|███████▏             | 170/500 [02:24<04:41,  1.17it/s]textattack: Saving checkpoint under \"checkpoints\\1720237814602.ta.chkpt\" at 2024-07-06 11:50:14 after 170 attacks.\n"
     ]
    },
    {
     "name": "stdout",
     "output_type": "stream",
     "text": [
      "\n",
      "\n",
      "=============================================================================================================================\n",
      "=============================================================================================================================\n",
      "\n"
     ]
    },
    {
     "name": "stderr",
     "output_type": "stream",
     "text": [
      "[Succeeded / Failed / Skipped / Total] 78 / 34 / 63 / 175:  35%|███████▎             | 175/500 [02:35<04:48,  1.13it/s]textattack: Saving checkpoint under \"checkpoints\\1720237824981.ta.chkpt\" at 2024-07-06 11:50:24 after 175 attacks.\n",
      "[Succeeded / Failed / Skipped / Total] 78 / 34 / 64 / 176:  35%|███████▍             | 176/500 [02:35<04:46,  1.13it/s]"
     ]
    },
    {
     "name": "stdout",
     "output_type": "stream",
     "text": [
      "\n",
      "\n",
      "=============================================================================================================================\n",
      "=============================================================================================================================\n",
      "\n"
     ]
    },
    {
     "name": "stderr",
     "output_type": "stream",
     "text": [
      "[Succeeded / Failed / Skipped / Total] 81 / 34 / 65 / 180:  36%|███████▌             | 180/500 [02:37<04:40,  1.14it/s]textattack: Saving checkpoint under \"checkpoints\\1720237827532.ta.chkpt\" at 2024-07-06 11:50:27 after 180 attacks.\n"
     ]
    },
    {
     "name": "stdout",
     "output_type": "stream",
     "text": [
      "\n",
      "\n",
      "=============================================================================================================================\n",
      "=============================================================================================================================\n",
      "\n"
     ]
    },
    {
     "name": "stderr",
     "output_type": "stream",
     "text": [
      "[Succeeded / Failed / Skipped / Total] 85 / 35 / 65 / 185:  37%|███████▊             | 185/500 [02:41<04:34,  1.15it/s]textattack: Saving checkpoint under \"checkpoints\\1720237831125.ta.chkpt\" at 2024-07-06 11:50:31 after 185 attacks.\n",
      "[Succeeded / Failed / Skipped / Total] 85 / 35 / 66 / 186:  37%|███████▊             | 186/500 [02:41<04:32,  1.15it/s]"
     ]
    },
    {
     "name": "stdout",
     "output_type": "stream",
     "text": [
      "\n",
      "\n",
      "=============================================================================================================================\n",
      "=============================================================================================================================\n",
      "\n"
     ]
    },
    {
     "name": "stderr",
     "output_type": "stream",
     "text": [
      "[Succeeded / Failed / Skipped / Total] 88 / 35 / 67 / 190:  38%|███████▉             | 190/500 [02:47<04:33,  1.14it/s]textattack: Saving checkpoint under \"checkpoints\\1720237837064.ta.chkpt\" at 2024-07-06 11:50:37 after 190 attacks.\n"
     ]
    },
    {
     "name": "stdout",
     "output_type": "stream",
     "text": [
      "\n",
      "\n",
      "=============================================================================================================================\n",
      "=============================================================================================================================\n",
      "\n"
     ]
    },
    {
     "name": "stderr",
     "output_type": "stream",
     "text": [
      "[Succeeded / Failed / Skipped / Total] 90 / 36 / 69 / 195:  39%|████████▏            | 195/500 [02:50<04:26,  1.14it/s]textattack: Saving checkpoint under \"checkpoints\\1720237840319.ta.chkpt\" at 2024-07-06 11:50:40 after 195 attacks.\n"
     ]
    },
    {
     "name": "stdout",
     "output_type": "stream",
     "text": [
      "\n",
      "\n",
      "=============================================================================================================================\n",
      "=============================================================================================================================\n",
      "\n"
     ]
    },
    {
     "name": "stderr",
     "output_type": "stream",
     "text": [
      "[Succeeded / Failed / Skipped / Total] 92 / 38 / 70 / 200:  40%|████████▍            | 200/500 [02:59<04:28,  1.12it/s]textattack: Saving checkpoint under \"checkpoints\\1720237848935.ta.chkpt\" at 2024-07-06 11:50:48 after 200 attacks.\n",
      "[Succeeded / Failed / Skipped / Total] 92 / 38 / 71 / 201:  40%|████████▍            | 201/500 [02:59<04:26,  1.12it/s]"
     ]
    },
    {
     "name": "stdout",
     "output_type": "stream",
     "text": [
      "\n",
      "\n",
      "=============================================================================================================================\n",
      "=============================================================================================================================\n",
      "\n"
     ]
    },
    {
     "name": "stderr",
     "output_type": "stream",
     "text": [
      "[Succeeded / Failed / Skipped / Total] 93 / 39 / 73 / 205:  41%|████████▌            | 205/500 [03:01<04:20,  1.13it/s]textattack: Saving checkpoint under \"checkpoints\\1720237850885.ta.chkpt\" at 2024-07-06 11:50:50 after 205 attacks.\n"
     ]
    },
    {
     "name": "stdout",
     "output_type": "stream",
     "text": [
      "\n",
      "\n",
      "=============================================================================================================================\n",
      "=============================================================================================================================\n",
      "\n"
     ]
    },
    {
     "name": "stderr",
     "output_type": "stream",
     "text": [
      "[Succeeded / Failed / Skipped / Total] 97 / 39 / 74 / 210:  42%|████████▊            | 210/500 [03:03<04:13,  1.15it/s]textattack: Saving checkpoint under \"checkpoints\\1720237852979.ta.chkpt\" at 2024-07-06 11:50:52 after 210 attacks.\n"
     ]
    },
    {
     "name": "stdout",
     "output_type": "stream",
     "text": [
      "\n",
      "\n",
      "=============================================================================================================================\n",
      "=============================================================================================================================\n",
      "\n"
     ]
    },
    {
     "name": "stderr",
     "output_type": "stream",
     "text": [
      "[Succeeded / Failed / Skipped / Total] 100 / 40 / 75 / 215:  43%|████████▌           | 215/500 [03:07<04:08,  1.15it/s]textattack: Saving checkpoint under \"checkpoints\\1720237857301.ta.chkpt\" at 2024-07-06 11:50:57 after 215 attacks.\n"
     ]
    },
    {
     "name": "stdout",
     "output_type": "stream",
     "text": [
      "\n",
      "\n",
      "=============================================================================================================================\n",
      "=============================================================================================================================\n",
      "\n"
     ]
    },
    {
     "name": "stderr",
     "output_type": "stream",
     "text": [
      "[Succeeded / Failed / Skipped / Total] 104 / 40 / 76 / 220:  44%|████████▊           | 220/500 [03:11<04:04,  1.15it/s]textattack: Saving checkpoint under \"checkpoints\\1720237861583.ta.chkpt\" at 2024-07-06 11:51:01 after 220 attacks.\n"
     ]
    },
    {
     "name": "stdout",
     "output_type": "stream",
     "text": [
      "\n",
      "\n",
      "=============================================================================================================================\n",
      "=============================================================================================================================\n",
      "\n"
     ]
    },
    {
     "name": "stderr",
     "output_type": "stream",
     "text": [
      "[Succeeded / Failed / Skipped / Total] 107 / 41 / 77 / 225:  45%|█████████           | 225/500 [03:19<04:04,  1.13it/s]textattack: Saving checkpoint under \"checkpoints\\1720237869396.ta.chkpt\" at 2024-07-06 11:51:09 after 225 attacks.\n"
     ]
    },
    {
     "name": "stdout",
     "output_type": "stream",
     "text": [
      "\n",
      "\n",
      "=============================================================================================================================\n",
      "=============================================================================================================================\n",
      "\n"
     ]
    },
    {
     "name": "stderr",
     "output_type": "stream",
     "text": [
      "[Succeeded / Failed / Skipped / Total] 110 / 41 / 79 / 230:  46%|█████████▏          | 230/500 [03:21<03:56,  1.14it/s]textattack: Saving checkpoint under \"checkpoints\\1720237871014.ta.chkpt\" at 2024-07-06 11:51:11 after 230 attacks.\n"
     ]
    },
    {
     "name": "stdout",
     "output_type": "stream",
     "text": [
      "\n",
      "\n",
      "=============================================================================================================================\n",
      "=============================================================================================================================\n",
      "\n"
     ]
    },
    {
     "name": "stderr",
     "output_type": "stream",
     "text": [
      "[Succeeded / Failed / Skipped / Total] 114 / 41 / 80 / 235:  47%|█████████▍          | 235/500 [03:26<03:52,  1.14it/s]textattack: Saving checkpoint under \"checkpoints\\1720237876084.ta.chkpt\" at 2024-07-06 11:51:16 after 235 attacks.\n"
     ]
    },
    {
     "name": "stdout",
     "output_type": "stream",
     "text": [
      "\n",
      "\n",
      "=============================================================================================================================\n",
      "=============================================================================================================================\n",
      "\n"
     ]
    },
    {
     "name": "stderr",
     "output_type": "stream",
     "text": [
      "[Succeeded / Failed / Skipped / Total] 118 / 42 / 80 / 240:  48%|█████████▌          | 240/500 [03:30<03:48,  1.14it/s]textattack: Saving checkpoint under \"checkpoints\\1720237880255.ta.chkpt\" at 2024-07-06 11:51:20 after 240 attacks.\n",
      "[Succeeded / Failed / Skipped / Total] 118 / 42 / 81 / 241:  48%|█████████▋          | 241/500 [03:30<03:46,  1.14it/s]"
     ]
    },
    {
     "name": "stdout",
     "output_type": "stream",
     "text": [
      "\n",
      "\n",
      "=============================================================================================================================\n",
      "=============================================================================================================================\n",
      "\n"
     ]
    },
    {
     "name": "stderr",
     "output_type": "stream",
     "text": [
      "[Succeeded / Failed / Skipped / Total] 120 / 43 / 82 / 245:  49%|█████████▊          | 245/500 [03:33<03:42,  1.15it/s]textattack: Saving checkpoint under \"checkpoints\\1720237883561.ta.chkpt\" at 2024-07-06 11:51:23 after 245 attacks.\n"
     ]
    },
    {
     "name": "stdout",
     "output_type": "stream",
     "text": [
      "\n",
      "\n",
      "=============================================================================================================================\n",
      "=============================================================================================================================\n",
      "\n"
     ]
    },
    {
     "name": "stderr",
     "output_type": "stream",
     "text": [
      "[Succeeded / Failed / Skipped / Total] 121 / 44 / 85 / 250:  50%|██████████          | 250/500 [03:36<03:36,  1.15it/s]textattack: Saving checkpoint under \"checkpoints\\1720237886271.ta.chkpt\" at 2024-07-06 11:51:26 after 250 attacks.\n",
      "[Succeeded / Failed / Skipped / Total] 121 / 44 / 86 / 251:  50%|██████████          | 251/500 [03:36<03:34,  1.16it/s]"
     ]
    },
    {
     "name": "stdout",
     "output_type": "stream",
     "text": [
      "\n",
      "\n",
      "=============================================================================================================================\n",
      "=============================================================================================================================\n",
      "\n"
     ]
    },
    {
     "name": "stderr",
     "output_type": "stream",
     "text": [
      "[Succeeded / Failed / Skipped / Total] 124 / 44 / 87 / 255:  51%|██████████▏         | 255/500 [03:39<03:30,  1.16it/s]textattack: Saving checkpoint under \"checkpoints\\1720237889028.ta.chkpt\" at 2024-07-06 11:51:29 after 255 attacks.\n",
      "[Succeeded / Failed / Skipped / Total] 124 / 44 / 88 / 256:  51%|██████████▏         | 256/500 [03:39<03:29,  1.17it/s]"
     ]
    },
    {
     "name": "stdout",
     "output_type": "stream",
     "text": [
      "\n",
      "\n",
      "=============================================================================================================================\n",
      "=============================================================================================================================\n",
      "\n"
     ]
    },
    {
     "name": "stderr",
     "output_type": "stream",
     "text": [
      "[Succeeded / Failed / Skipped / Total] 128 / 44 / 88 / 260:  52%|██████████▍         | 260/500 [03:42<03:25,  1.17it/s]textattack: Saving checkpoint under \"checkpoints\\1720237892277.ta.chkpt\" at 2024-07-06 11:51:32 after 260 attacks.\n"
     ]
    },
    {
     "name": "stdout",
     "output_type": "stream",
     "text": [
      "\n",
      "\n",
      "=============================================================================================================================\n",
      "=============================================================================================================================\n",
      "\n"
     ]
    },
    {
     "name": "stderr",
     "output_type": "stream",
     "text": [
      "[Succeeded / Failed / Skipped / Total] 133 / 44 / 88 / 265:  53%|██████████▌         | 265/500 [03:46<03:20,  1.17it/s]textattack: Saving checkpoint under \"checkpoints\\1720237895875.ta.chkpt\" at 2024-07-06 11:51:35 after 265 attacks.\n"
     ]
    },
    {
     "name": "stdout",
     "output_type": "stream",
     "text": [
      "\n",
      "\n",
      "=============================================================================================================================\n",
      "=============================================================================================================================\n",
      "\n"
     ]
    },
    {
     "name": "stderr",
     "output_type": "stream",
     "text": [
      "[Succeeded / Failed / Skipped / Total] 136 / 44 / 90 / 270:  54%|██████████▊         | 270/500 [03:52<03:18,  1.16it/s]textattack: Saving checkpoint under \"checkpoints\\1720237902614.ta.chkpt\" at 2024-07-06 11:51:42 after 270 attacks.\n",
      "[Succeeded / Failed / Skipped / Total] 136 / 44 / 91 / 271:  54%|██████████▊         | 271/500 [03:52<03:16,  1.16it/s]"
     ]
    },
    {
     "name": "stdout",
     "output_type": "stream",
     "text": [
      "\n",
      "\n",
      "=============================================================================================================================\n",
      "=============================================================================================================================\n",
      "\n"
     ]
    },
    {
     "name": "stderr",
     "output_type": "stream",
     "text": [
      "[Succeeded / Failed / Skipped / Total] 139 / 45 / 91 / 275:  55%|███████████         | 275/500 [03:56<03:13,  1.16it/s]textattack: Saving checkpoint under \"checkpoints\\1720237906403.ta.chkpt\" at 2024-07-06 11:51:46 after 275 attacks.\n"
     ]
    },
    {
     "name": "stdout",
     "output_type": "stream",
     "text": [
      "\n",
      "\n",
      "=============================================================================================================================\n",
      "=============================================================================================================================\n",
      "\n"
     ]
    },
    {
     "name": "stderr",
     "output_type": "stream",
     "text": [
      "[Succeeded / Failed / Skipped / Total] 142 / 46 / 92 / 280:  56%|███████████▏        | 280/500 [03:59<03:08,  1.17it/s]textattack: Saving checkpoint under \"checkpoints\\1720237909568.ta.chkpt\" at 2024-07-06 11:51:49 after 280 attacks.\n"
     ]
    },
    {
     "name": "stdout",
     "output_type": "stream",
     "text": [
      "\n",
      "\n",
      "=============================================================================================================================\n",
      "=============================================================================================================================\n",
      "\n"
     ]
    },
    {
     "name": "stderr",
     "output_type": "stream",
     "text": [
      "[Succeeded / Failed / Skipped / Total] 143 / 47 / 95 / 285:  57%|███████████▍        | 285/500 [04:01<03:02,  1.18it/s]textattack: Saving checkpoint under \"checkpoints\\1720237911521.ta.chkpt\" at 2024-07-06 11:51:51 after 285 attacks.\n"
     ]
    },
    {
     "name": "stdout",
     "output_type": "stream",
     "text": [
      "\n",
      "\n",
      "=============================================================================================================================\n",
      "=============================================================================================================================\n",
      "\n"
     ]
    },
    {
     "name": "stderr",
     "output_type": "stream",
     "text": [
      "[Succeeded / Failed / Skipped / Total] 148 / 47 / 95 / 290:  58%|███████████▌        | 290/500 [04:04<02:57,  1.19it/s]textattack: Saving checkpoint under \"checkpoints\\1720237914225.ta.chkpt\" at 2024-07-06 11:51:54 after 290 attacks.\n",
      "[Succeeded / Failed / Skipped / Total] 148 / 47 / 97 / 292:  58%|███████████▋        | 292/500 [04:04<02:54,  1.19it/s]"
     ]
    },
    {
     "name": "stdout",
     "output_type": "stream",
     "text": [
      "\n",
      "\n",
      "=============================================================================================================================\n",
      "=============================================================================================================================\n",
      "\n"
     ]
    },
    {
     "name": "stderr",
     "output_type": "stream",
     "text": [
      "[Succeeded / Failed / Skipped / Total] 150 / 47 / 98 / 295:  59%|███████████▊        | 295/500 [04:06<02:51,  1.20it/s]textattack: Saving checkpoint under \"checkpoints\\1720237916447.ta.chkpt\" at 2024-07-06 11:51:56 after 295 attacks.\n",
      "[Succeeded / Failed / Skipped / Total] 150 / 47 / 99 / 296:  59%|███████████▊        | 296/500 [04:06<02:50,  1.20it/s]"
     ]
    },
    {
     "name": "stdout",
     "output_type": "stream",
     "text": [
      "\n",
      "\n",
      "=============================================================================================================================\n",
      "=============================================================================================================================\n",
      "\n"
     ]
    },
    {
     "name": "stderr",
     "output_type": "stream",
     "text": [
      "[Succeeded / Failed / Skipped / Total] 154 / 47 / 99 / 300:  60%|████████████        | 300/500 [04:08<02:45,  1.21it/s]textattack: Saving checkpoint under \"checkpoints\\1720237918159.ta.chkpt\" at 2024-07-06 11:51:58 after 300 attacks.\n"
     ]
    },
    {
     "name": "stdout",
     "output_type": "stream",
     "text": [
      "\n",
      "\n",
      "=============================================================================================================================\n",
      "=============================================================================================================================\n",
      "\n"
     ]
    },
    {
     "name": "stderr",
     "output_type": "stream",
     "text": [
      "[Succeeded / Failed / Skipped / Total] 157 / 48 / 100 / 305:  61%|███████████▌       | 305/500 [04:12<02:41,  1.21it/s]textattack: Saving checkpoint under \"checkpoints\\1720237921755.ta.chkpt\" at 2024-07-06 11:52:01 after 305 attacks.\n"
     ]
    },
    {
     "name": "stdout",
     "output_type": "stream",
     "text": [
      "\n",
      "\n",
      "=============================================================================================================================\n",
      "=============================================================================================================================\n",
      "\n"
     ]
    },
    {
     "name": "stderr",
     "output_type": "stream",
     "text": [
      "[Succeeded / Failed / Skipped / Total] 160 / 50 / 100 / 310:  62%|███████████▊       | 310/500 [04:15<02:36,  1.22it/s]textattack: Saving checkpoint under \"checkpoints\\1720237924860.ta.chkpt\" at 2024-07-06 11:52:04 after 310 attacks.\n"
     ]
    },
    {
     "name": "stdout",
     "output_type": "stream",
     "text": [
      "\n",
      "\n",
      "=============================================================================================================================\n",
      "=============================================================================================================================\n",
      "\n"
     ]
    },
    {
     "name": "stderr",
     "output_type": "stream",
     "text": [
      "[Succeeded / Failed / Skipped / Total] 163 / 51 / 101 / 315:  63%|███████████▉       | 315/500 [04:19<02:32,  1.21it/s]textattack: Saving checkpoint under \"checkpoints\\1720237929436.ta.chkpt\" at 2024-07-06 11:52:09 after 315 attacks.\n"
     ]
    },
    {
     "name": "stdout",
     "output_type": "stream",
     "text": [
      "\n",
      "\n",
      "=============================================================================================================================\n",
      "=============================================================================================================================\n",
      "\n"
     ]
    },
    {
     "name": "stderr",
     "output_type": "stream",
     "text": [
      "[Succeeded / Failed / Skipped / Total] 167 / 52 / 101 / 320:  64%|████████████▏      | 320/500 [04:26<02:29,  1.20it/s]textattack: Saving checkpoint under \"checkpoints\\1720237935795.ta.chkpt\" at 2024-07-06 11:52:15 after 320 attacks.\n"
     ]
    },
    {
     "name": "stdout",
     "output_type": "stream",
     "text": [
      "\n",
      "\n",
      "=============================================================================================================================\n",
      "=============================================================================================================================\n",
      "\n"
     ]
    },
    {
     "name": "stderr",
     "output_type": "stream",
     "text": [
      "[Succeeded / Failed / Skipped / Total] 170 / 53 / 102 / 325:  65%|████████████▎      | 325/500 [04:32<02:26,  1.19it/s]textattack: Saving checkpoint under \"checkpoints\\1720237942455.ta.chkpt\" at 2024-07-06 11:52:22 after 325 attacks.\n",
      "[Succeeded / Failed / Skipped / Total] 170 / 53 / 103 / 326:  65%|████████████▍      | 326/500 [04:32<02:25,  1.19it/s]"
     ]
    },
    {
     "name": "stdout",
     "output_type": "stream",
     "text": [
      "\n",
      "\n",
      "=============================================================================================================================\n",
      "=============================================================================================================================\n",
      "\n"
     ]
    },
    {
     "name": "stderr",
     "output_type": "stream",
     "text": [
      "[Succeeded / Failed / Skipped / Total] 172 / 54 / 104 / 330:  66%|████████████▌      | 330/500 [04:34<02:21,  1.20it/s]textattack: Saving checkpoint under \"checkpoints\\1720237944452.ta.chkpt\" at 2024-07-06 11:52:24 after 330 attacks.\n"
     ]
    },
    {
     "name": "stdout",
     "output_type": "stream",
     "text": [
      "\n",
      "\n",
      "=============================================================================================================================\n",
      "=============================================================================================================================\n",
      "\n"
     ]
    },
    {
     "name": "stderr",
     "output_type": "stream",
     "text": [
      "[Succeeded / Failed / Skipped / Total] 176 / 55 / 104 / 335:  67%|████████████▋      | 335/500 [04:41<02:18,  1.19it/s]textattack: Saving checkpoint under \"checkpoints\\1720237951687.ta.chkpt\" at 2024-07-06 11:52:31 after 335 attacks.\n"
     ]
    },
    {
     "name": "stdout",
     "output_type": "stream",
     "text": [
      "\n",
      "\n",
      "=============================================================================================================================\n",
      "=============================================================================================================================\n",
      "\n"
     ]
    },
    {
     "name": "stderr",
     "output_type": "stream",
     "text": [
      "[Succeeded / Failed / Skipped / Total] 179 / 55 / 106 / 340:  68%|████████████▉      | 340/500 [04:43<02:13,  1.20it/s]textattack: Saving checkpoint under \"checkpoints\\1720237953573.ta.chkpt\" at 2024-07-06 11:52:33 after 340 attacks.\n",
      "[Succeeded / Failed / Skipped / Total] 179 / 55 / 107 / 341:  68%|████████████▉      | 341/500 [04:43<02:12,  1.20it/s]"
     ]
    },
    {
     "name": "stdout",
     "output_type": "stream",
     "text": [
      "\n",
      "\n",
      "=============================================================================================================================\n",
      "=============================================================================================================================\n",
      "\n"
     ]
    },
    {
     "name": "stderr",
     "output_type": "stream",
     "text": [
      "[Succeeded / Failed / Skipped / Total] 181 / 56 / 108 / 345:  69%|█████████████      | 345/500 [04:46<02:08,  1.20it/s]textattack: Saving checkpoint under \"checkpoints\\1720237956508.ta.chkpt\" at 2024-07-06 11:52:36 after 345 attacks.\n"
     ]
    },
    {
     "name": "stdout",
     "output_type": "stream",
     "text": [
      "\n",
      "\n",
      "=============================================================================================================================\n",
      "=============================================================================================================================\n",
      "\n"
     ]
    },
    {
     "name": "stderr",
     "output_type": "stream",
     "text": [
      "[Succeeded / Failed / Skipped / Total] 186 / 56 / 108 / 350:  70%|█████████████▎     | 350/500 [04:50<02:04,  1.21it/s]textattack: Saving checkpoint under \"checkpoints\\1720237960047.ta.chkpt\" at 2024-07-06 11:52:40 after 350 attacks.\n"
     ]
    },
    {
     "name": "stdout",
     "output_type": "stream",
     "text": [
      "\n",
      "\n",
      "=============================================================================================================================\n",
      "=============================================================================================================================\n",
      "\n"
     ]
    },
    {
     "name": "stderr",
     "output_type": "stream",
     "text": [
      "[Succeeded / Failed / Skipped / Total] 190 / 57 / 108 / 355:  71%|█████████████▍     | 355/500 [04:55<02:00,  1.20it/s]textattack: Saving checkpoint under \"checkpoints\\1720237965456.ta.chkpt\" at 2024-07-06 11:52:45 after 355 attacks.\n"
     ]
    },
    {
     "name": "stdout",
     "output_type": "stream",
     "text": [
      "\n",
      "\n",
      "=============================================================================================================================\n",
      "=============================================================================================================================\n",
      "\n"
     ]
    },
    {
     "name": "stderr",
     "output_type": "stream",
     "text": [
      "[Succeeded / Failed / Skipped / Total] 193 / 57 / 110 / 360:  72%|█████████████▋     | 360/500 [04:58<01:55,  1.21it/s]textattack: Saving checkpoint under \"checkpoints\\1720237967955.ta.chkpt\" at 2024-07-06 11:52:47 after 360 attacks.\n",
      "[Succeeded / Failed / Skipped / Total] 193 / 57 / 112 / 362:  72%|█████████████▊     | 362/500 [04:58<01:53,  1.21it/s]"
     ]
    },
    {
     "name": "stdout",
     "output_type": "stream",
     "text": [
      "\n",
      "\n",
      "=============================================================================================================================\n",
      "=============================================================================================================================\n",
      "\n"
     ]
    },
    {
     "name": "stderr",
     "output_type": "stream",
     "text": [
      "[Succeeded / Failed / Skipped / Total] 196 / 57 / 112 / 365:  73%|█████████████▊     | 365/500 [04:59<01:50,  1.22it/s]textattack: Saving checkpoint under \"checkpoints\\1720237969592.ta.chkpt\" at 2024-07-06 11:52:49 after 365 attacks.\n"
     ]
    },
    {
     "name": "stdout",
     "output_type": "stream",
     "text": [
      "\n",
      "\n",
      "=============================================================================================================================\n",
      "=============================================================================================================================\n",
      "\n"
     ]
    },
    {
     "name": "stderr",
     "output_type": "stream",
     "text": [
      "[Succeeded / Failed / Skipped / Total] 198 / 57 / 115 / 370:  74%|██████████████     | 370/500 [05:00<01:45,  1.23it/s]textattack: Saving checkpoint under \"checkpoints\\1720237970642.ta.chkpt\" at 2024-07-06 11:52:50 after 370 attacks.\n",
      "[Succeeded / Failed / Skipped / Total] 198 / 57 / 116 / 371:  74%|██████████████     | 371/500 [05:00<01:44,  1.23it/s]"
     ]
    },
    {
     "name": "stdout",
     "output_type": "stream",
     "text": [
      "\n",
      "\n",
      "=============================================================================================================================\n",
      "=============================================================================================================================\n",
      "\n"
     ]
    },
    {
     "name": "stderr",
     "output_type": "stream",
     "text": [
      "[Succeeded / Failed / Skipped / Total] 201 / 58 / 116 / 375:  75%|██████████████▎    | 375/500 [05:06<01:42,  1.22it/s]textattack: Saving checkpoint under \"checkpoints\\1720237976454.ta.chkpt\" at 2024-07-06 11:52:56 after 375 attacks.\n",
      "[Succeeded / Failed / Skipped / Total] 201 / 58 / 117 / 376:  75%|██████████████▎    | 376/500 [05:06<01:41,  1.23it/s]"
     ]
    },
    {
     "name": "stdout",
     "output_type": "stream",
     "text": [
      "\n",
      "\n",
      "=============================================================================================================================\n",
      "=============================================================================================================================\n",
      "\n"
     ]
    },
    {
     "name": "stderr",
     "output_type": "stream",
     "text": [
      "[Succeeded / Failed / Skipped / Total] 204 / 58 / 118 / 380:  76%|██████████████▍    | 380/500 [05:08<01:37,  1.23it/s]textattack: Saving checkpoint under \"checkpoints\\1720237978444.ta.chkpt\" at 2024-07-06 11:52:58 after 380 attacks.\n"
     ]
    },
    {
     "name": "stdout",
     "output_type": "stream",
     "text": [
      "\n",
      "\n",
      "=============================================================================================================================\n",
      "=============================================================================================================================\n",
      "\n"
     ]
    },
    {
     "name": "stderr",
     "output_type": "stream",
     "text": [
      "[Succeeded / Failed / Skipped / Total] 207 / 58 / 120 / 385:  77%|██████████████▋    | 385/500 [05:11<01:33,  1.24it/s]textattack: Saving checkpoint under \"checkpoints\\1720237981260.ta.chkpt\" at 2024-07-06 11:53:01 after 385 attacks.\n"
     ]
    },
    {
     "name": "stdout",
     "output_type": "stream",
     "text": [
      "\n",
      "\n",
      "=============================================================================================================================\n",
      "=============================================================================================================================\n",
      "\n"
     ]
    },
    {
     "name": "stderr",
     "output_type": "stream",
     "text": [
      "[Succeeded / Failed / Skipped / Total] 207 / 61 / 122 / 390:  78%|██████████████▊    | 390/500 [05:14<01:28,  1.24it/s]textattack: Saving checkpoint under \"checkpoints\\1720237984362.ta.chkpt\" at 2024-07-06 11:53:04 after 390 attacks.\n"
     ]
    },
    {
     "name": "stdout",
     "output_type": "stream",
     "text": [
      "\n",
      "\n",
      "=============================================================================================================================\n",
      "=============================================================================================================================\n",
      "\n"
     ]
    },
    {
     "name": "stderr",
     "output_type": "stream",
     "text": [
      "[Succeeded / Failed / Skipped / Total] 208 / 64 / 123 / 395:  79%|███████████████    | 395/500 [05:24<01:26,  1.22it/s]textattack: Saving checkpoint under \"checkpoints\\1720237994470.ta.chkpt\" at 2024-07-06 11:53:14 after 395 attacks.\n"
     ]
    },
    {
     "name": "stdout",
     "output_type": "stream",
     "text": [
      "\n",
      "\n",
      "=============================================================================================================================\n",
      "=============================================================================================================================\n",
      "\n"
     ]
    },
    {
     "name": "stderr",
     "output_type": "stream",
     "text": [
      "[Succeeded / Failed / Skipped / Total] 210 / 66 / 124 / 400:  80%|███████████████▏   | 400/500 [05:35<01:23,  1.19it/s]textattack: Saving checkpoint under \"checkpoints\\1720238005002.ta.chkpt\" at 2024-07-06 11:53:25 after 400 attacks.\n",
      "[Succeeded / Failed / Skipped / Total] 210 / 66 / 125 / 401:  80%|███████████████▏   | 401/500 [05:35<01:22,  1.20it/s]"
     ]
    },
    {
     "name": "stdout",
     "output_type": "stream",
     "text": [
      "\n",
      "\n",
      "=============================================================================================================================\n",
      "=============================================================================================================================\n",
      "\n"
     ]
    },
    {
     "name": "stderr",
     "output_type": "stream",
     "text": [
      "[Succeeded / Failed / Skipped / Total] 212 / 67 / 126 / 405:  81%|███████████████▍   | 405/500 [05:40<01:19,  1.19it/s]textattack: Saving checkpoint under \"checkpoints\\1720238010498.ta.chkpt\" at 2024-07-06 11:53:30 after 405 attacks.\n"
     ]
    },
    {
     "name": "stdout",
     "output_type": "stream",
     "text": [
      "\n",
      "\n",
      "=============================================================================================================================\n",
      "=============================================================================================================================\n",
      "\n"
     ]
    },
    {
     "name": "stderr",
     "output_type": "stream",
     "text": [
      "[Succeeded / Failed / Skipped / Total] 214 / 69 / 127 / 410:  82%|███████████████▌   | 410/500 [05:44<01:15,  1.19it/s]textattack: Saving checkpoint under \"checkpoints\\1720238014702.ta.chkpt\" at 2024-07-06 11:53:34 after 410 attacks.\n",
      "[Succeeded / Failed / Skipped / Total] 214 / 69 / 128 / 411:  82%|███████████████▌   | 411/500 [05:45<01:14,  1.19it/s]"
     ]
    },
    {
     "name": "stdout",
     "output_type": "stream",
     "text": [
      "\n",
      "\n",
      "=============================================================================================================================\n",
      "=============================================================================================================================\n",
      "\n"
     ]
    },
    {
     "name": "stderr",
     "output_type": "stream",
     "text": [
      "[Succeeded / Failed / Skipped / Total] 215 / 70 / 130 / 415:  83%|███████████████▊   | 415/500 [05:47<01:11,  1.20it/s]textattack: Saving checkpoint under \"checkpoints\\1720238017006.ta.chkpt\" at 2024-07-06 11:53:37 after 415 attacks.\n"
     ]
    },
    {
     "name": "stdout",
     "output_type": "stream",
     "text": [
      "\n",
      "\n",
      "=============================================================================================================================\n",
      "=============================================================================================================================\n",
      "\n"
     ]
    },
    {
     "name": "stderr",
     "output_type": "stream",
     "text": [
      "[Succeeded / Failed / Skipped / Total] 216 / 72 / 132 / 420:  84%|███████████████▉   | 420/500 [05:55<01:07,  1.18it/s]textattack: Saving checkpoint under \"checkpoints\\1720238025180.ta.chkpt\" at 2024-07-06 11:53:45 after 420 attacks.\n",
      "[Succeeded / Failed / Skipped / Total] 216 / 72 / 133 / 421:  84%|███████████████▉   | 421/500 [05:55<01:06,  1.18it/s]"
     ]
    },
    {
     "name": "stdout",
     "output_type": "stream",
     "text": [
      "\n",
      "\n",
      "=============================================================================================================================\n",
      "=============================================================================================================================\n",
      "\n"
     ]
    },
    {
     "name": "stderr",
     "output_type": "stream",
     "text": [
      "[Succeeded / Failed / Skipped / Total] 217 / 74 / 134 / 425:  85%|████████████████▏  | 425/500 [06:01<01:03,  1.18it/s]textattack: Saving checkpoint under \"checkpoints\\1720238031422.ta.chkpt\" at 2024-07-06 11:53:51 after 425 attacks.\n"
     ]
    },
    {
     "name": "stdout",
     "output_type": "stream",
     "text": [
      "\n",
      "\n",
      "=============================================================================================================================\n",
      "=============================================================================================================================\n",
      "\n"
     ]
    },
    {
     "name": "stderr",
     "output_type": "stream",
     "text": [
      "[Succeeded / Failed / Skipped / Total] 219 / 74 / 137 / 430:  86%|████████████████▎  | 430/500 [06:02<00:59,  1.18it/s]textattack: Saving checkpoint under \"checkpoints\\1720238032647.ta.chkpt\" at 2024-07-06 11:53:52 after 430 attacks.\n",
      "[Succeeded / Failed / Skipped / Total] 219 / 74 / 138 / 431:  86%|████████████████▍  | 431/500 [06:03<00:58,  1.19it/s]"
     ]
    },
    {
     "name": "stdout",
     "output_type": "stream",
     "text": [
      "\n",
      "\n",
      "=============================================================================================================================\n",
      "=============================================================================================================================\n",
      "\n"
     ]
    },
    {
     "name": "stderr",
     "output_type": "stream",
     "text": [
      "[Succeeded / Failed / Skipped / Total] 221 / 75 / 139 / 435:  87%|████████████████▌  | 435/500 [06:05<00:54,  1.19it/s]textattack: Saving checkpoint under \"checkpoints\\1720238035315.ta.chkpt\" at 2024-07-06 11:53:55 after 435 attacks.\n"
     ]
    },
    {
     "name": "stdout",
     "output_type": "stream",
     "text": [
      "\n",
      "\n",
      "=============================================================================================================================\n",
      "=============================================================================================================================\n",
      "\n"
     ]
    },
    {
     "name": "stderr",
     "output_type": "stream",
     "text": [
      "[Succeeded / Failed / Skipped / Total] 223 / 77 / 140 / 440:  88%|████████████████▋  | 440/500 [06:10<00:50,  1.19it/s]textattack: Saving checkpoint under \"checkpoints\\1720238039891.ta.chkpt\" at 2024-07-06 11:53:59 after 440 attacks.\n",
      "[Succeeded / Failed / Skipped / Total] 223 / 77 / 141 / 441:  88%|████████████████▊  | 441/500 [06:10<00:49,  1.19it/s]"
     ]
    },
    {
     "name": "stdout",
     "output_type": "stream",
     "text": [
      "\n",
      "\n",
      "=============================================================================================================================\n",
      "=============================================================================================================================\n",
      "\n"
     ]
    },
    {
     "name": "stderr",
     "output_type": "stream",
     "text": [
      "[Succeeded / Failed / Skipped / Total] 226 / 78 / 141 / 445:  89%|████████████████▉  | 445/500 [06:13<00:46,  1.19it/s]textattack: Saving checkpoint under \"checkpoints\\1720238043557.ta.chkpt\" at 2024-07-06 11:54:03 after 445 attacks.\n"
     ]
    },
    {
     "name": "stdout",
     "output_type": "stream",
     "text": [
      "\n",
      "\n",
      "=============================================================================================================================\n",
      "=============================================================================================================================\n",
      "\n"
     ]
    },
    {
     "name": "stderr",
     "output_type": "stream",
     "text": [
      "[Succeeded / Failed / Skipped / Total] 228 / 79 / 143 / 450:  90%|█████████████████  | 450/500 [06:17<00:41,  1.19it/s]textattack: Saving checkpoint under \"checkpoints\\1720238047047.ta.chkpt\" at 2024-07-06 11:54:07 after 450 attacks.\n",
      "[Succeeded / Failed / Skipped / Total] 228 / 79 / 144 / 451:  90%|█████████████████▏ | 451/500 [06:17<00:41,  1.20it/s]"
     ]
    },
    {
     "name": "stdout",
     "output_type": "stream",
     "text": [
      "\n",
      "\n",
      "=============================================================================================================================\n",
      "=============================================================================================================================\n",
      "\n"
     ]
    },
    {
     "name": "stderr",
     "output_type": "stream",
     "text": [
      "[Succeeded / Failed / Skipped / Total] 231 / 79 / 145 / 455:  91%|█████████████████▎ | 455/500 [06:19<00:37,  1.20it/s]textattack: Saving checkpoint under \"checkpoints\\1720238048898.ta.chkpt\" at 2024-07-06 11:54:08 after 455 attacks.\n"
     ]
    },
    {
     "name": "stdout",
     "output_type": "stream",
     "text": [
      "\n",
      "\n",
      "=============================================================================================================================\n",
      "=============================================================================================================================\n",
      "\n"
     ]
    },
    {
     "name": "stderr",
     "output_type": "stream",
     "text": [
      "[Succeeded / Failed / Skipped / Total] 233 / 82 / 145 / 460:  92%|█████████████████▍ | 460/500 [06:28<00:33,  1.18it/s]textattack: Saving checkpoint under \"checkpoints\\1720238058400.ta.chkpt\" at 2024-07-06 11:54:18 after 460 attacks.\n",
      "[Succeeded / Failed / Skipped / Total] 233 / 82 / 146 / 461:  92%|█████████████████▌ | 461/500 [06:28<00:32,  1.19it/s]"
     ]
    },
    {
     "name": "stdout",
     "output_type": "stream",
     "text": [
      "\n",
      "\n",
      "=============================================================================================================================\n",
      "=============================================================================================================================\n",
      "\n"
     ]
    },
    {
     "name": "stderr",
     "output_type": "stream",
     "text": [
      "[Succeeded / Failed / Skipped / Total] 234 / 83 / 148 / 465:  93%|█████████████████▋ | 465/500 [06:30<00:29,  1.19it/s]textattack: Saving checkpoint under \"checkpoints\\1720238060691.ta.chkpt\" at 2024-07-06 11:54:20 after 465 attacks.\n",
      "[Succeeded / Failed / Skipped / Total] 234 / 83 / 150 / 467:  93%|█████████████████▋ | 467/500 [06:31<00:27,  1.19it/s]"
     ]
    },
    {
     "name": "stdout",
     "output_type": "stream",
     "text": [
      "\n",
      "\n",
      "=============================================================================================================================\n",
      "=============================================================================================================================\n",
      "\n"
     ]
    },
    {
     "name": "stderr",
     "output_type": "stream",
     "text": [
      "[Succeeded / Failed / Skipped / Total] 236 / 84 / 150 / 470:  94%|█████████████████▊ | 470/500 [06:34<00:25,  1.19it/s]textattack: Saving checkpoint under \"checkpoints\\1720238064274.ta.chkpt\" at 2024-07-06 11:54:24 after 470 attacks.\n"
     ]
    },
    {
     "name": "stdout",
     "output_type": "stream",
     "text": [
      "\n",
      "\n",
      "=============================================================================================================================\n",
      "=============================================================================================================================\n",
      "\n"
     ]
    },
    {
     "name": "stderr",
     "output_type": "stream",
     "text": [
      "[Succeeded / Failed / Skipped / Total] 239 / 86 / 150 / 475:  95%|██████████████████ | 475/500 [06:43<00:21,  1.18it/s]textattack: Saving checkpoint under \"checkpoints\\1720238073147.ta.chkpt\" at 2024-07-06 11:54:33 after 475 attacks.\n",
      "[Succeeded / Failed / Skipped / Total] 239 / 86 / 151 / 476:  95%|██████████████████ | 476/500 [06:43<00:20,  1.18it/s]"
     ]
    },
    {
     "name": "stdout",
     "output_type": "stream",
     "text": [
      "\n",
      "\n",
      "=============================================================================================================================\n",
      "=============================================================================================================================\n",
      "\n"
     ]
    },
    {
     "name": "stderr",
     "output_type": "stream",
     "text": [
      "[Succeeded / Failed / Skipped / Total] 242 / 87 / 151 / 480:  96%|██████████████████▏| 480/500 [06:48<00:17,  1.17it/s]textattack: Saving checkpoint under \"checkpoints\\1720238078497.ta.chkpt\" at 2024-07-06 11:54:38 after 480 attacks.\n"
     ]
    },
    {
     "name": "stdout",
     "output_type": "stream",
     "text": [
      "\n",
      "\n",
      "=============================================================================================================================\n",
      "=============================================================================================================================\n",
      "\n"
     ]
    },
    {
     "name": "stderr",
     "output_type": "stream",
     "text": [
      "[Succeeded / Failed / Skipped / Total] 243 / 90 / 152 / 485:  97%|██████████████████▍| 485/500 [06:56<00:12,  1.16it/s]textattack: Saving checkpoint under \"checkpoints\\1720238086612.ta.chkpt\" at 2024-07-06 11:54:46 after 485 attacks.\n"
     ]
    },
    {
     "name": "stdout",
     "output_type": "stream",
     "text": [
      "\n",
      "\n",
      "=============================================================================================================================\n",
      "=============================================================================================================================\n",
      "\n"
     ]
    },
    {
     "name": "stderr",
     "output_type": "stream",
     "text": [
      "[Succeeded / Failed / Skipped / Total] 247 / 90 / 153 / 490:  98%|██████████████████▌| 490/500 [07:01<00:08,  1.16it/s]textattack: Saving checkpoint under \"checkpoints\\1720238090786.ta.chkpt\" at 2024-07-06 11:54:50 after 490 attacks.\n",
      "[Succeeded / Failed / Skipped / Total] 247 / 90 / 154 / 491:  98%|██████████████████▋| 491/500 [07:01<00:07,  1.17it/s]"
     ]
    },
    {
     "name": "stdout",
     "output_type": "stream",
     "text": [
      "\n",
      "\n",
      "=============================================================================================================================\n",
      "=============================================================================================================================\n",
      "\n"
     ]
    },
    {
     "name": "stderr",
     "output_type": "stream",
     "text": [
      "[Succeeded / Failed / Skipped / Total] 248 / 91 / 156 / 495:  99%|██████████████████▊| 495/500 [07:02<00:04,  1.17it/s]textattack: Saving checkpoint under \"checkpoints\\1720238092452.ta.chkpt\" at 2024-07-06 11:54:52 after 495 attacks.\n",
      "[Succeeded / Failed / Skipped / Total] 248 / 91 / 158 / 497:  99%|██████████████████▉| 497/500 [07:02<00:02,  1.18it/s]"
     ]
    },
    {
     "name": "stdout",
     "output_type": "stream",
     "text": [
      "\n",
      "\n",
      "=============================================================================================================================\n",
      "=============================================================================================================================\n",
      "\n"
     ]
    },
    {
     "name": "stderr",
     "output_type": "stream",
     "text": [
      "[Succeeded / Failed / Skipped / Total] 250 / 92 / 158 / 500: 100%|███████████████████| 500/500 [07:06<00:00,  1.17it/s]textattack: Saving checkpoint under \"checkpoints\\1720238095934.ta.chkpt\" at 2024-07-06 11:54:55 after 500 attacks.\n",
      "[Succeeded / Failed / Skipped / Total] 250 / 92 / 158 / 500: 100%|███████████████████| 500/500 [07:06<00:00,  1.17it/s]"
     ]
    },
    {
     "name": "stdout",
     "output_type": "stream",
     "text": [
      "\n",
      "\n",
      "=============================================================================================================================\n",
      "=============================================================================================================================\n",
      "\n",
      "\n",
      "+-------------------------------+--------+\n",
      "| Attack Results                |        |\n",
      "+-------------------------------+--------+\n",
      "| Number of successful attacks: | 250    |\n",
      "| Number of failed attacks:     | 92     |\n",
      "| Number of skipped attacks:    | 158    |\n",
      "| Original accuracy:            | 68.4%  |\n",
      "| Accuracy under attack:        | 18.4%  |\n",
      "| Attack success rate:          | 73.1%  |\n",
      "| Average perturbed word %:     | 10.61% |\n",
      "| Average num. words per input: | 18.4   |\n",
      "| Avg num queries:              | 30.94  |\n",
      "+-------------------------------+--------+\n"
     ]
    },
    {
     "name": "stderr",
     "output_type": "stream",
     "text": [
      "\n"
     ]
    }
   ],
   "source": [
    "runAttack(clip_model_wrapper_knn_mr, n_samples, 'attack_results_new/clipmrattackknn'+suffix, target_ds_mr)"
   ]
  },
  {
   "cell_type": "code",
   "execution_count": 31,
   "id": "2817bf97-ee68-48c1-b7f6-b517849aa412",
   "metadata": {
    "scrolled": true
   },
   "outputs": [
    {
     "name": "stderr",
     "output_type": "stream",
     "text": [
      "textattack: Unknown if model of class <class 'transformers.models.clip.modeling_clip.CLIPTextTransformer'> compatible with goal function <class 'textattack.goal_functions.classification.untargeted_classification.UntargetedClassification'>.\n",
      "textattack: Logging to CSV at path attack_results_new/clipmrattacksvcsim08.csv\n"
     ]
    },
    {
     "name": "stdout",
     "output_type": "stream",
     "text": [
      "Attack(\n",
      "  (search_method): GreedyWordSwapWIR(\n",
      "    (wir_method):  delete\n",
      "  )\n",
      "  (goal_function):  UntargetedClassification\n",
      "  (transformation):  WordSwapEmbedding(\n",
      "    (max_candidates):  50\n",
      "    (embedding):  WordEmbedding\n",
      "  )\n",
      "  (constraints): \n",
      "    (0): WordEmbeddingDistance(\n",
      "        (embedding):  WordEmbedding\n",
      "        (min_cos_sim):  0.8\n",
      "        (cased):  False\n",
      "        (include_unknown_words):  True\n",
      "        (compare_against_original):  True\n",
      "      )\n",
      "    (1): PartOfSpeech(\n",
      "        (tagger_type):  nltk\n",
      "        (tagset):  universal\n",
      "        (allow_verb_noun_swap):  True\n",
      "        (compare_against_original):  True\n",
      "      )\n",
      "    (2): UniversalSentenceEncoder(\n",
      "        (metric):  angular\n",
      "        (threshold):  0.840845057\n",
      "        (window_size):  15\n",
      "        (skip_text_shorter_than_window):  True\n",
      "        (compare_against_original):  False\n",
      "      )\n",
      "    (3): RepeatModification\n",
      "    (4): StopwordModification\n",
      "    (5): InputColumnModification(\n",
      "        (matching_column_labels):  ['premise', 'hypothesis']\n",
      "        (columns_to_ignore):  {'premise'}\n",
      "      )\n",
      "  (is_black_box):  True\n",
      ") \n",
      "\n"
     ]
    },
    {
     "name": "stderr",
     "output_type": "stream",
     "text": [
      "[Succeeded / Failed / Skipped / Total] 4 / 1 / 0 / 5:   1%|▎                           | 5/500 [00:12<20:30,  2.49s/it]textattack: Saving checkpoint under \"checkpoints\\1720238108450.ta.chkpt\" at 2024-07-06 11:55:08 after 5 attacks.\n",
      "[Succeeded / Failed / Skipped / Total] 4 / 1 / 2 / 7:   1%|▍                           | 7/500 [00:12<14:45,  1.80s/it]"
     ]
    },
    {
     "name": "stdout",
     "output_type": "stream",
     "text": [
      "\n",
      "\n",
      "=============================================================================================================================\n",
      "=============================================================================================================================\n",
      "\n"
     ]
    },
    {
     "name": "stderr",
     "output_type": "stream",
     "text": [
      "[Succeeded / Failed / Skipped / Total] 7 / 1 / 2 / 10:   2%|▌                         | 10/500 [00:16<13:15,  1.62s/it]textattack: Saving checkpoint under \"checkpoints\\1720238112244.ta.chkpt\" at 2024-07-06 11:55:12 after 10 attacks.\n"
     ]
    },
    {
     "name": "stdout",
     "output_type": "stream",
     "text": [
      "\n",
      "\n",
      "=============================================================================================================================\n",
      "=============================================================================================================================\n",
      "\n"
     ]
    },
    {
     "name": "stderr",
     "output_type": "stream",
     "text": [
      "[Succeeded / Failed / Skipped / Total] 10 / 2 / 3 / 15:   3%|▊                        | 15/500 [00:22<12:12,  1.51s/it]textattack: Saving checkpoint under \"checkpoints\\1720238118684.ta.chkpt\" at 2024-07-06 11:55:18 after 15 attacks.\n"
     ]
    },
    {
     "name": "stdout",
     "output_type": "stream",
     "text": [
      "\n",
      "\n",
      "=============================================================================================================================\n",
      "=============================================================================================================================\n",
      "\n"
     ]
    },
    {
     "name": "stderr",
     "output_type": "stream",
     "text": [
      "[Succeeded / Failed / Skipped / Total] 13 / 3 / 4 / 20:   4%|█                        | 20/500 [00:24<09:56,  1.24s/it]textattack: Saving checkpoint under \"checkpoints\\1720238120865.ta.chkpt\" at 2024-07-06 11:55:20 after 20 attacks.\n"
     ]
    },
    {
     "name": "stdout",
     "output_type": "stream",
     "text": [
      "\n",
      "\n",
      "=============================================================================================================================\n",
      "=============================================================================================================================\n",
      "\n"
     ]
    },
    {
     "name": "stderr",
     "output_type": "stream",
     "text": [
      "[Succeeded / Failed / Skipped / Total] 17 / 3 / 5 / 25:   5%|█▎                       | 25/500 [00:29<09:11,  1.16s/it]textattack: Saving checkpoint under \"checkpoints\\1720238125032.ta.chkpt\" at 2024-07-06 11:55:25 after 25 attacks.\n"
     ]
    },
    {
     "name": "stdout",
     "output_type": "stream",
     "text": [
      "\n",
      "\n",
      "=============================================================================================================================\n",
      "=============================================================================================================================\n",
      "\n"
     ]
    },
    {
     "name": "stderr",
     "output_type": "stream",
     "text": [
      "[Succeeded / Failed / Skipped / Total] 21 / 3 / 6 / 30:   6%|█▌                       | 30/500 [00:33<08:44,  1.12s/it]textattack: Saving checkpoint under \"checkpoints\\1720238129475.ta.chkpt\" at 2024-07-06 11:55:29 after 30 attacks.\n"
     ]
    },
    {
     "name": "stdout",
     "output_type": "stream",
     "text": [
      "\n",
      "\n",
      "=============================================================================================================================\n",
      "=============================================================================================================================\n",
      "\n"
     ]
    },
    {
     "name": "stderr",
     "output_type": "stream",
     "text": [
      "[Succeeded / Failed / Skipped / Total] 24 / 3 / 8 / 35:   7%|█▊                       | 35/500 [00:35<07:52,  1.02s/it]textattack: Saving checkpoint under \"checkpoints\\1720238131568.ta.chkpt\" at 2024-07-06 11:55:31 after 35 attacks.\n"
     ]
    },
    {
     "name": "stdout",
     "output_type": "stream",
     "text": [
      "\n",
      "\n",
      "=============================================================================================================================\n",
      "=============================================================================================================================\n",
      "\n"
     ]
    },
    {
     "name": "stderr",
     "output_type": "stream",
     "text": [
      "[Succeeded / Failed / Skipped / Total] 28 / 3 / 9 / 40:   8%|██                       | 40/500 [00:39<07:28,  1.02it/s]textattack: Saving checkpoint under \"checkpoints\\1720238135047.ta.chkpt\" at 2024-07-06 11:55:35 after 40 attacks.\n"
     ]
    },
    {
     "name": "stdout",
     "output_type": "stream",
     "text": [
      "\n",
      "\n",
      "=============================================================================================================================\n",
      "=============================================================================================================================\n",
      "\n"
     ]
    },
    {
     "name": "stderr",
     "output_type": "stream",
     "text": [
      "[Succeeded / Failed / Skipped / Total] 31 / 3 / 11 / 45:   9%|██▏                     | 45/500 [00:46<07:46,  1.03s/it]textattack: Saving checkpoint under \"checkpoints\\1720238142186.ta.chkpt\" at 2024-07-06 11:55:42 after 45 attacks.\n"
     ]
    },
    {
     "name": "stdout",
     "output_type": "stream",
     "text": [
      "\n",
      "\n",
      "=============================================================================================================================\n",
      "=============================================================================================================================\n",
      "\n"
     ]
    },
    {
     "name": "stderr",
     "output_type": "stream",
     "text": [
      "[Succeeded / Failed / Skipped / Total] 35 / 3 / 12 / 50:  10%|██▍                     | 50/500 [00:49<07:28,  1.00it/s]textattack: Saving checkpoint under \"checkpoints\\1720238145847.ta.chkpt\" at 2024-07-06 11:55:45 after 50 attacks.\n"
     ]
    },
    {
     "name": "stdout",
     "output_type": "stream",
     "text": [
      "\n",
      "\n",
      "=============================================================================================================================\n",
      "=============================================================================================================================\n",
      "\n"
     ]
    },
    {
     "name": "stderr",
     "output_type": "stream",
     "text": [
      "[Succeeded / Failed / Skipped / Total] 39 / 3 / 13 / 55:  11%|██▋                     | 55/500 [00:57<07:44,  1.04s/it]textattack: Saving checkpoint under \"checkpoints\\1720238153459.ta.chkpt\" at 2024-07-06 11:55:53 after 55 attacks.\n"
     ]
    },
    {
     "name": "stdout",
     "output_type": "stream",
     "text": [
      "\n",
      "\n",
      "=============================================================================================================================\n",
      "=============================================================================================================================\n",
      "\n"
     ]
    },
    {
     "name": "stderr",
     "output_type": "stream",
     "text": [
      "[Succeeded / Failed / Skipped / Total] 43 / 3 / 14 / 60:  12%|██▉                     | 60/500 [01:00<07:27,  1.02s/it]textattack: Saving checkpoint under \"checkpoints\\1720238156988.ta.chkpt\" at 2024-07-06 11:55:56 after 60 attacks.\n",
      "[Succeeded / Failed / Skipped / Total] 43 / 3 / 15 / 61:  12%|██▉                     | 61/500 [01:01<07:19,  1.00s/it]"
     ]
    },
    {
     "name": "stdout",
     "output_type": "stream",
     "text": [
      "\n",
      "\n",
      "=============================================================================================================================\n",
      "=============================================================================================================================\n",
      "\n"
     ]
    },
    {
     "name": "stderr",
     "output_type": "stream",
     "text": [
      "[Succeeded / Failed / Skipped / Total] 46 / 4 / 15 / 65:  13%|███                     | 65/500 [01:05<07:17,  1.01s/it]textattack: Saving checkpoint under \"checkpoints\\1720238161388.ta.chkpt\" at 2024-07-06 11:56:01 after 65 attacks.\n"
     ]
    },
    {
     "name": "stdout",
     "output_type": "stream",
     "text": [
      "\n",
      "\n",
      "=============================================================================================================================\n",
      "=============================================================================================================================\n",
      "\n"
     ]
    },
    {
     "name": "stderr",
     "output_type": "stream",
     "text": [
      "[Succeeded / Failed / Skipped / Total] 50 / 4 / 16 / 70:  14%|███▎                    | 70/500 [01:10<07:10,  1.00s/it]textattack: Saving checkpoint under \"checkpoints\\1720238166062.ta.chkpt\" at 2024-07-06 11:56:06 after 70 attacks.\n"
     ]
    },
    {
     "name": "stdout",
     "output_type": "stream",
     "text": [
      "\n",
      "\n",
      "=============================================================================================================================\n",
      "=============================================================================================================================\n",
      "\n"
     ]
    },
    {
     "name": "stderr",
     "output_type": "stream",
     "text": [
      "[Succeeded / Failed / Skipped / Total] 54 / 5 / 16 / 75:  15%|███▌                    | 75/500 [01:13<06:57,  1.02it/s]textattack: Saving checkpoint under \"checkpoints\\1720238169684.ta.chkpt\" at 2024-07-06 11:56:09 after 75 attacks.\n",
      "[Succeeded / Failed / Skipped / Total] 54 / 5 / 17 / 76:  15%|███▋                    | 76/500 [01:13<06:51,  1.03it/s]"
     ]
    },
    {
     "name": "stdout",
     "output_type": "stream",
     "text": [
      "\n",
      "\n",
      "=============================================================================================================================\n",
      "=============================================================================================================================\n",
      "\n"
     ]
    },
    {
     "name": "stderr",
     "output_type": "stream",
     "text": [
      "[Succeeded / Failed / Skipped / Total] 57 / 5 / 18 / 80:  16%|███▊                    | 80/500 [01:17<06:44,  1.04it/s]textattack: Saving checkpoint under \"checkpoints\\1720238173152.ta.chkpt\" at 2024-07-06 11:56:13 after 80 attacks.\n",
      "[Succeeded / Failed / Skipped / Total] 57 / 5 / 20 / 82:  16%|███▉                    | 82/500 [01:17<06:34,  1.06it/s]"
     ]
    },
    {
     "name": "stdout",
     "output_type": "stream",
     "text": [
      "\n",
      "\n",
      "=============================================================================================================================\n",
      "=============================================================================================================================\n",
      "\n"
     ]
    },
    {
     "name": "stderr",
     "output_type": "stream",
     "text": [
      "[Succeeded / Failed / Skipped / Total] 60 / 5 / 20 / 85:  17%|████                    | 85/500 [01:19<06:28,  1.07it/s]textattack: Saving checkpoint under \"checkpoints\\1720238175636.ta.chkpt\" at 2024-07-06 11:56:15 after 85 attacks.\n"
     ]
    },
    {
     "name": "stdout",
     "output_type": "stream",
     "text": [
      "\n",
      "\n",
      "=============================================================================================================================\n",
      "=============================================================================================================================\n",
      "\n"
     ]
    },
    {
     "name": "stderr",
     "output_type": "stream",
     "text": [
      "[Succeeded / Failed / Skipped / Total] 63 / 6 / 21 / 90:  18%|████▎                   | 90/500 [01:23<06:21,  1.07it/s]textattack: Saving checkpoint under \"checkpoints\\1720238179866.ta.chkpt\" at 2024-07-06 11:56:19 after 90 attacks.\n",
      "[Succeeded / Failed / Skipped / Total] 63 / 6 / 23 / 92:  18%|████▍                   | 92/500 [01:24<06:12,  1.09it/s]"
     ]
    },
    {
     "name": "stdout",
     "output_type": "stream",
     "text": [
      "\n",
      "\n",
      "=============================================================================================================================\n",
      "=============================================================================================================================\n",
      "\n"
     ]
    },
    {
     "name": "stderr",
     "output_type": "stream",
     "text": [
      "[Succeeded / Failed / Skipped / Total] 66 / 6 / 23 / 95:  19%|████▌                   | 95/500 [01:26<06:09,  1.10it/s]textattack: Saving checkpoint under \"checkpoints\\1720238182611.ta.chkpt\" at 2024-07-06 11:56:22 after 95 attacks.\n"
     ]
    },
    {
     "name": "stdout",
     "output_type": "stream",
     "text": [
      "\n",
      "\n",
      "=============================================================================================================================\n",
      "=============================================================================================================================\n",
      "\n"
     ]
    },
    {
     "name": "stderr",
     "output_type": "stream",
     "text": [
      "[Succeeded / Failed / Skipped / Total] 70 / 6 / 24 / 100:  20%|████▍                 | 100/500 [01:29<05:56,  1.12it/s]textattack: Saving checkpoint under \"checkpoints\\1720238185219.ta.chkpt\" at 2024-07-06 11:56:25 after 100 attacks.\n"
     ]
    },
    {
     "name": "stdout",
     "output_type": "stream",
     "text": [
      "\n",
      "\n",
      "=============================================================================================================================\n",
      "=============================================================================================================================\n",
      "\n"
     ]
    },
    {
     "name": "stderr",
     "output_type": "stream",
     "text": [
      "[Succeeded / Failed / Skipped / Total] 75 / 6 / 24 / 105:  21%|████▌                 | 105/500 [01:34<05:54,  1.12it/s]textattack: Saving checkpoint under \"checkpoints\\1720238190128.ta.chkpt\" at 2024-07-06 11:56:30 after 105 attacks.\n",
      "[Succeeded / Failed / Skipped / Total] 75 / 6 / 25 / 106:  21%|████▋                 | 106/500 [01:34<05:50,  1.13it/s]"
     ]
    },
    {
     "name": "stdout",
     "output_type": "stream",
     "text": [
      "\n",
      "\n",
      "=============================================================================================================================\n",
      "=============================================================================================================================\n",
      "\n"
     ]
    },
    {
     "name": "stderr",
     "output_type": "stream",
     "text": [
      "[Succeeded / Failed / Skipped / Total] 77 / 6 / 27 / 110:  22%|████▊                 | 110/500 [01:36<05:40,  1.14it/s]textattack: Saving checkpoint under \"checkpoints\\1720238192102.ta.chkpt\" at 2024-07-06 11:56:32 after 110 attacks.\n",
      "[Succeeded / Failed / Skipped / Total] 77 / 6 / 28 / 111:  22%|████▉                 | 111/500 [01:36<05:36,  1.15it/s]"
     ]
    },
    {
     "name": "stdout",
     "output_type": "stream",
     "text": [
      "\n",
      "\n",
      "=============================================================================================================================\n",
      "=============================================================================================================================\n",
      "\n"
     ]
    },
    {
     "name": "stderr",
     "output_type": "stream",
     "text": [
      "[Succeeded / Failed / Skipped / Total] 79 / 6 / 30 / 115:  23%|█████                 | 115/500 [01:38<05:29,  1.17it/s]textattack: Saving checkpoint under \"checkpoints\\1720238194459.ta.chkpt\" at 2024-07-06 11:56:34 after 115 attacks.\n"
     ]
    },
    {
     "name": "stdout",
     "output_type": "stream",
     "text": [
      "\n",
      "\n",
      "=============================================================================================================================\n",
      "=============================================================================================================================\n",
      "\n"
     ]
    },
    {
     "name": "stderr",
     "output_type": "stream",
     "text": [
      "[Succeeded / Failed / Skipped / Total] 80 / 8 / 32 / 120:  24%|█████▎                | 120/500 [01:40<05:19,  1.19it/s]textattack: Saving checkpoint under \"checkpoints\\1720238196813.ta.chkpt\" at 2024-07-06 11:56:36 after 120 attacks.\n",
      "[Succeeded / Failed / Skipped / Total] 80 / 8 / 33 / 121:  24%|█████▎                | 121/500 [01:40<05:15,  1.20it/s]"
     ]
    },
    {
     "name": "stdout",
     "output_type": "stream",
     "text": [
      "\n",
      "\n",
      "=============================================================================================================================\n",
      "=============================================================================================================================\n",
      "\n"
     ]
    },
    {
     "name": "stderr",
     "output_type": "stream",
     "text": [
      "[Succeeded / Failed / Skipped / Total] 83 / 8 / 34 / 125:  25%|█████▌                | 125/500 [01:43<05:09,  1.21it/s]textattack: Saving checkpoint under \"checkpoints\\1720238199081.ta.chkpt\" at 2024-07-06 11:56:39 after 125 attacks.\n"
     ]
    },
    {
     "name": "stdout",
     "output_type": "stream",
     "text": [
      "\n",
      "\n",
      "=============================================================================================================================\n",
      "=============================================================================================================================\n",
      "\n"
     ]
    },
    {
     "name": "stderr",
     "output_type": "stream",
     "text": [
      "[Succeeded / Failed / Skipped / Total] 87 / 9 / 34 / 130:  26%|█████▋                | 130/500 [01:48<05:07,  1.20it/s]textattack: Saving checkpoint under \"checkpoints\\1720238204225.ta.chkpt\" at 2024-07-06 11:56:44 after 130 attacks.\n",
      "[Succeeded / Failed / Skipped / Total] 87 / 9 / 35 / 131:  26%|█████▊                | 131/500 [01:48<05:05,  1.21it/s]"
     ]
    },
    {
     "name": "stdout",
     "output_type": "stream",
     "text": [
      "\n",
      "\n",
      "=============================================================================================================================\n",
      "=============================================================================================================================\n",
      "\n"
     ]
    },
    {
     "name": "stderr",
     "output_type": "stream",
     "text": [
      "[Succeeded / Failed / Skipped / Total] 90 / 9 / 36 / 135:  27%|█████▉                | 135/500 [01:52<05:04,  1.20it/s]textattack: Saving checkpoint under \"checkpoints\\1720238208542.ta.chkpt\" at 2024-07-06 11:56:48 after 135 attacks.\n"
     ]
    },
    {
     "name": "stdout",
     "output_type": "stream",
     "text": [
      "\n",
      "\n",
      "=============================================================================================================================\n",
      "=============================================================================================================================\n",
      "\n"
     ]
    },
    {
     "name": "stderr",
     "output_type": "stream",
     "text": [
      "[Succeeded / Failed / Skipped / Total] 92 / 9 / 39 / 140:  28%|██████▏               | 140/500 [01:54<04:53,  1.23it/s]textattack: Saving checkpoint under \"checkpoints\\1720238210219.ta.chkpt\" at 2024-07-06 11:56:50 after 140 attacks.\n"
     ]
    },
    {
     "name": "stdout",
     "output_type": "stream",
     "text": [
      "\n",
      "\n",
      "=============================================================================================================================\n",
      "=============================================================================================================================\n",
      "\n"
     ]
    },
    {
     "name": "stderr",
     "output_type": "stream",
     "text": [
      "[Succeeded / Failed / Skipped / Total] 95 / 9 / 41 / 145:  29%|██████▍               | 145/500 [01:56<04:44,  1.25it/s]textattack: Saving checkpoint under \"checkpoints\\1720238212177.ta.chkpt\" at 2024-07-06 11:56:52 after 145 attacks.\n",
      "[Succeeded / Failed / Skipped / Total] 95 / 9 / 42 / 146:  29%|██████▍               | 146/500 [01:56<04:41,  1.26it/s]"
     ]
    },
    {
     "name": "stdout",
     "output_type": "stream",
     "text": [
      "\n",
      "\n",
      "=============================================================================================================================\n",
      "=============================================================================================================================\n",
      "\n"
     ]
    },
    {
     "name": "stderr",
     "output_type": "stream",
     "text": [
      "[Succeeded / Failed / Skipped / Total] 97 / 10 / 43 / 150:  30%|██████▎              | 150/500 [01:58<04:36,  1.26it/s]textattack: Saving checkpoint under \"checkpoints\\1720238214718.ta.chkpt\" at 2024-07-06 11:56:54 after 150 attacks.\n",
      "[Succeeded / Failed / Skipped / Total] 97 / 10 / 44 / 151:  30%|██████▎              | 151/500 [01:58<04:34,  1.27it/s]"
     ]
    },
    {
     "name": "stdout",
     "output_type": "stream",
     "text": [
      "\n",
      "\n",
      "=============================================================================================================================\n",
      "=============================================================================================================================\n",
      "\n"
     ]
    },
    {
     "name": "stderr",
     "output_type": "stream",
     "text": [
      "[Succeeded / Failed / Skipped / Total] 98 / 12 / 45 / 155:  31%|██████▌              | 155/500 [02:04<04:36,  1.25it/s]textattack: Saving checkpoint under \"checkpoints\\1720238220118.ta.chkpt\" at 2024-07-06 11:57:00 after 155 attacks.\n"
     ]
    },
    {
     "name": "stdout",
     "output_type": "stream",
     "text": [
      "\n",
      "\n",
      "=============================================================================================================================\n",
      "=============================================================================================================================\n",
      "\n"
     ]
    },
    {
     "name": "stderr",
     "output_type": "stream",
     "text": [
      "[Succeeded / Failed / Skipped / Total] 101 / 12 / 47 / 160:  32%|██████▍             | 160/500 [02:09<04:34,  1.24it/s]textattack: Saving checkpoint under \"checkpoints\\1720238225156.ta.chkpt\" at 2024-07-06 11:57:05 after 160 attacks.\n",
      "[Succeeded / Failed / Skipped / Total] 101 / 12 / 48 / 161:  32%|██████▍             | 161/500 [02:09<04:32,  1.25it/s]"
     ]
    },
    {
     "name": "stdout",
     "output_type": "stream",
     "text": [
      "\n",
      "\n",
      "=============================================================================================================================\n",
      "=============================================================================================================================\n",
      "\n"
     ]
    },
    {
     "name": "stderr",
     "output_type": "stream",
     "text": [
      "[Succeeded / Failed / Skipped / Total] 103 / 12 / 50 / 165:  33%|██████▌             | 165/500 [02:11<04:26,  1.26it/s]textattack: Saving checkpoint under \"checkpoints\\1720238227041.ta.chkpt\" at 2024-07-06 11:57:07 after 165 attacks.\n"
     ]
    },
    {
     "name": "stdout",
     "output_type": "stream",
     "text": [
      "\n",
      "\n",
      "=============================================================================================================================\n",
      "=============================================================================================================================\n",
      "\n"
     ]
    },
    {
     "name": "stderr",
     "output_type": "stream",
     "text": [
      "[Succeeded / Failed / Skipped / Total] 106 / 12 / 52 / 170:  34%|██████▊             | 170/500 [02:13<04:19,  1.27it/s]textattack: Saving checkpoint under \"checkpoints\\1720238229616.ta.chkpt\" at 2024-07-06 11:57:09 after 170 attacks.\n"
     ]
    },
    {
     "name": "stdout",
     "output_type": "stream",
     "text": [
      "\n",
      "\n",
      "=============================================================================================================================\n",
      "=============================================================================================================================\n",
      "\n"
     ]
    },
    {
     "name": "stderr",
     "output_type": "stream",
     "text": [
      "[Succeeded / Failed / Skipped / Total] 111 / 12 / 52 / 175:  35%|███████             | 175/500 [02:23<04:26,  1.22it/s]textattack: Saving checkpoint under \"checkpoints\\1720238239511.ta.chkpt\" at 2024-07-06 11:57:19 after 175 attacks.\n",
      "[Succeeded / Failed / Skipped / Total] 111 / 12 / 53 / 176:  35%|███████             | 176/500 [02:23<04:24,  1.23it/s]"
     ]
    },
    {
     "name": "stdout",
     "output_type": "stream",
     "text": [
      "\n",
      "\n",
      "=============================================================================================================================\n",
      "=============================================================================================================================\n",
      "\n"
     ]
    },
    {
     "name": "stderr",
     "output_type": "stream",
     "text": [
      "[Succeeded / Failed / Skipped / Total] 113 / 14 / 53 / 180:  36%|███████▏            | 180/500 [02:27<04:22,  1.22it/s]textattack: Saving checkpoint under \"checkpoints\\1720238243637.ta.chkpt\" at 2024-07-06 11:57:23 after 180 attacks.\n"
     ]
    },
    {
     "name": "stdout",
     "output_type": "stream",
     "text": [
      "\n",
      "\n",
      "=============================================================================================================================\n",
      "=============================================================================================================================\n",
      "\n"
     ]
    },
    {
     "name": "stderr",
     "output_type": "stream",
     "text": [
      "[Succeeded / Failed / Skipped / Total] 115 / 15 / 55 / 185:  37%|███████▍            | 185/500 [02:29<04:14,  1.24it/s]textattack: Saving checkpoint under \"checkpoints\\1720238245497.ta.chkpt\" at 2024-07-06 11:57:25 after 185 attacks.\n",
      "[Succeeded / Failed / Skipped / Total] 115 / 15 / 56 / 186:  37%|███████▍            | 186/500 [02:29<04:12,  1.24it/s]"
     ]
    },
    {
     "name": "stdout",
     "output_type": "stream",
     "text": [
      "\n",
      "\n",
      "=============================================================================================================================\n",
      "=============================================================================================================================\n",
      "\n"
     ]
    },
    {
     "name": "stderr",
     "output_type": "stream",
     "text": [
      "[Succeeded / Failed / Skipped / Total] 119 / 15 / 56 / 190:  38%|███████▌            | 190/500 [02:35<04:13,  1.22it/s]textattack: Saving checkpoint under \"checkpoints\\1720238251649.ta.chkpt\" at 2024-07-06 11:57:31 after 190 attacks.\n"
     ]
    },
    {
     "name": "stdout",
     "output_type": "stream",
     "text": [
      "\n",
      "\n",
      "=============================================================================================================================\n",
      "=============================================================================================================================\n",
      "\n"
     ]
    },
    {
     "name": "stderr",
     "output_type": "stream",
     "text": [
      "[Succeeded / Failed / Skipped / Total] 122 / 15 / 58 / 195:  39%|███████▊            | 195/500 [02:38<04:08,  1.23it/s]textattack: Saving checkpoint under \"checkpoints\\1720238254702.ta.chkpt\" at 2024-07-06 11:57:34 after 195 attacks.\n"
     ]
    },
    {
     "name": "stdout",
     "output_type": "stream",
     "text": [
      "\n",
      "\n",
      "=============================================================================================================================\n",
      "=============================================================================================================================\n",
      "\n"
     ]
    },
    {
     "name": "stderr",
     "output_type": "stream",
     "text": [
      "[Succeeded / Failed / Skipped / Total] 125 / 16 / 59 / 200:  40%|████████            | 200/500 [02:46<04:10,  1.20it/s]textattack: Saving checkpoint under \"checkpoints\\1720238262810.ta.chkpt\" at 2024-07-06 11:57:42 after 200 attacks.\n"
     ]
    },
    {
     "name": "stdout",
     "output_type": "stream",
     "text": [
      "\n",
      "\n",
      "=============================================================================================================================\n",
      "=============================================================================================================================\n",
      "\n"
     ]
    },
    {
     "name": "stderr",
     "output_type": "stream",
     "text": [
      "[Succeeded / Failed / Skipped / Total] 127 / 18 / 60 / 205:  41%|████████▏           | 205/500 [02:51<04:07,  1.19it/s]textattack: Saving checkpoint under \"checkpoints\\1720238267661.ta.chkpt\" at 2024-07-06 11:57:47 after 205 attacks.\n"
     ]
    },
    {
     "name": "stdout",
     "output_type": "stream",
     "text": [
      "\n",
      "\n",
      "=============================================================================================================================\n",
      "=============================================================================================================================\n",
      "\n"
     ]
    },
    {
     "name": "stderr",
     "output_type": "stream",
     "text": [
      "[Succeeded / Failed / Skipped / Total] 131 / 18 / 61 / 210:  42%|████████▍           | 210/500 [02:54<04:01,  1.20it/s]textattack: Saving checkpoint under \"checkpoints\\1720238270685.ta.chkpt\" at 2024-07-06 11:57:50 after 210 attacks.\n"
     ]
    },
    {
     "name": "stdout",
     "output_type": "stream",
     "text": [
      "\n",
      "\n",
      "=============================================================================================================================\n",
      "=============================================================================================================================\n",
      "\n"
     ]
    },
    {
     "name": "stderr",
     "output_type": "stream",
     "text": [
      "[Succeeded / Failed / Skipped / Total] 134 / 19 / 62 / 215:  43%|████████▌           | 215/500 [02:59<03:57,  1.20it/s]textattack: Saving checkpoint under \"checkpoints\\1720238275355.ta.chkpt\" at 2024-07-06 11:57:55 after 215 attacks.\n"
     ]
    },
    {
     "name": "stdout",
     "output_type": "stream",
     "text": [
      "\n",
      "\n",
      "=============================================================================================================================\n",
      "=============================================================================================================================\n",
      "\n"
     ]
    },
    {
     "name": "stderr",
     "output_type": "stream",
     "text": [
      "[Succeeded / Failed / Skipped / Total] 137 / 21 / 62 / 220:  44%|████████▊           | 220/500 [03:03<03:54,  1.20it/s]textattack: Saving checkpoint under \"checkpoints\\1720238279972.ta.chkpt\" at 2024-07-06 11:57:59 after 220 attacks.\n"
     ]
    },
    {
     "name": "stdout",
     "output_type": "stream",
     "text": [
      "\n",
      "\n",
      "=============================================================================================================================\n",
      "=============================================================================================================================\n",
      "\n"
     ]
    },
    {
     "name": "stderr",
     "output_type": "stream",
     "text": [
      "[Succeeded / Failed / Skipped / Total] 139 / 22 / 64 / 225:  45%|█████████           | 225/500 [03:08<03:50,  1.19it/s]textattack: Saving checkpoint under \"checkpoints\\1720238284529.ta.chkpt\" at 2024-07-06 11:58:04 after 225 attacks.\n"
     ]
    },
    {
     "name": "stdout",
     "output_type": "stream",
     "text": [
      "\n",
      "\n",
      "=============================================================================================================================\n",
      "=============================================================================================================================\n",
      "\n"
     ]
    },
    {
     "name": "stderr",
     "output_type": "stream",
     "text": [
      "[Succeeded / Failed / Skipped / Total] 142 / 23 / 65 / 230:  46%|█████████▏          | 230/500 [03:12<03:46,  1.19it/s]textattack: Saving checkpoint under \"checkpoints\\1720238288536.ta.chkpt\" at 2024-07-06 11:58:08 after 230 attacks.\n",
      "[Succeeded / Failed / Skipped / Total] 142 / 23 / 66 / 231:  46%|█████████▏          | 231/500 [03:12<03:44,  1.20it/s]"
     ]
    },
    {
     "name": "stdout",
     "output_type": "stream",
     "text": [
      "\n",
      "\n",
      "=============================================================================================================================\n",
      "=============================================================================================================================\n",
      "\n"
     ]
    },
    {
     "name": "stderr",
     "output_type": "stream",
     "text": [
      "[Succeeded / Failed / Skipped / Total] 144 / 24 / 67 / 235:  47%|█████████▍          | 235/500 [03:15<03:40,  1.20it/s]textattack: Saving checkpoint under \"checkpoints\\1720238291287.ta.chkpt\" at 2024-07-06 11:58:11 after 235 attacks.\n"
     ]
    },
    {
     "name": "stdout",
     "output_type": "stream",
     "text": [
      "\n",
      "\n",
      "=============================================================================================================================\n",
      "=============================================================================================================================\n",
      "\n"
     ]
    },
    {
     "name": "stderr",
     "output_type": "stream",
     "text": [
      "[Succeeded / Failed / Skipped / Total] 147 / 26 / 67 / 240:  48%|█████████▌          | 240/500 [03:19<03:36,  1.20it/s]textattack: Saving checkpoint under \"checkpoints\\1720238295617.ta.chkpt\" at 2024-07-06 11:58:15 after 240 attacks.\n",
      "[Succeeded / Failed / Skipped / Total] 147 / 26 / 69 / 242:  48%|█████████▋          | 242/500 [03:19<03:32,  1.21it/s]"
     ]
    },
    {
     "name": "stdout",
     "output_type": "stream",
     "text": [
      "\n",
      "\n",
      "=============================================================================================================================\n",
      "=============================================================================================================================\n",
      "\n"
     ]
    },
    {
     "name": "stderr",
     "output_type": "stream",
     "text": [
      "[Succeeded / Failed / Skipped / Total] 149 / 27 / 69 / 245:  49%|█████████▊          | 245/500 [03:23<03:31,  1.21it/s]textattack: Saving checkpoint under \"checkpoints\\1720238299102.ta.chkpt\" at 2024-07-06 11:58:19 after 245 attacks.\n"
     ]
    },
    {
     "name": "stdout",
     "output_type": "stream",
     "text": [
      "\n",
      "\n",
      "=============================================================================================================================\n",
      "=============================================================================================================================\n",
      "\n"
     ]
    },
    {
     "name": "stderr",
     "output_type": "stream",
     "text": [
      "[Succeeded / Failed / Skipped / Total] 150 / 28 / 72 / 250:  50%|██████████          | 250/500 [03:24<03:24,  1.22it/s]textattack: Saving checkpoint under \"checkpoints\\1720238301009.ta.chkpt\" at 2024-07-06 11:58:21 after 250 attacks.\n",
      "[Succeeded / Failed / Skipped / Total] 150 / 28 / 73 / 251:  50%|██████████          | 251/500 [03:25<03:23,  1.22it/s]"
     ]
    },
    {
     "name": "stdout",
     "output_type": "stream",
     "text": [
      "\n",
      "\n",
      "=============================================================================================================================\n",
      "=============================================================================================================================\n",
      "\n"
     ]
    },
    {
     "name": "stderr",
     "output_type": "stream",
     "text": [
      "[Succeeded / Failed / Skipped / Total] 152 / 29 / 74 / 255:  51%|██████████▏         | 255/500 [03:30<03:21,  1.21it/s]textattack: Saving checkpoint under \"checkpoints\\1720238306255.ta.chkpt\" at 2024-07-06 11:58:26 after 255 attacks.\n"
     ]
    },
    {
     "name": "stdout",
     "output_type": "stream",
     "text": [
      "\n",
      "\n",
      "=============================================================================================================================\n",
      "=============================================================================================================================\n",
      "\n"
     ]
    },
    {
     "name": "stderr",
     "output_type": "stream",
     "text": [
      "[Succeeded / Failed / Skipped / Total] 155 / 29 / 76 / 260:  52%|██████████▍         | 260/500 [03:34<03:17,  1.21it/s]textattack: Saving checkpoint under \"checkpoints\\1720238310052.ta.chkpt\" at 2024-07-06 11:58:30 after 260 attacks.\n"
     ]
    },
    {
     "name": "stdout",
     "output_type": "stream",
     "text": [
      "\n",
      "\n",
      "=============================================================================================================================\n",
      "=============================================================================================================================\n",
      "\n"
     ]
    },
    {
     "name": "stderr",
     "output_type": "stream",
     "text": [
      "[Succeeded / Failed / Skipped / Total] 159 / 30 / 76 / 265:  53%|██████████▌         | 265/500 [03:38<03:14,  1.21it/s]textattack: Saving checkpoint under \"checkpoints\\1720238314790.ta.chkpt\" at 2024-07-06 11:58:34 after 265 attacks.\n"
     ]
    },
    {
     "name": "stdout",
     "output_type": "stream",
     "text": [
      "\n",
      "\n",
      "=============================================================================================================================\n",
      "=============================================================================================================================\n",
      "\n"
     ]
    },
    {
     "name": "stderr",
     "output_type": "stream",
     "text": [
      "[Succeeded / Failed / Skipped / Total] 161 / 31 / 78 / 270:  54%|██████████▊         | 270/500 [03:46<03:13,  1.19it/s]textattack: Saving checkpoint under \"checkpoints\\1720238322647.ta.chkpt\" at 2024-07-06 11:58:42 after 270 attacks.\n",
      "[Succeeded / Failed / Skipped / Total] 161 / 31 / 79 / 271:  54%|██████████▊         | 271/500 [03:46<03:11,  1.20it/s]"
     ]
    },
    {
     "name": "stdout",
     "output_type": "stream",
     "text": [
      "\n",
      "\n",
      "=============================================================================================================================\n",
      "=============================================================================================================================\n",
      "\n"
     ]
    },
    {
     "name": "stderr",
     "output_type": "stream",
     "text": [
      "[Succeeded / Failed / Skipped / Total] 163 / 32 / 80 / 275:  55%|███████████         | 275/500 [03:48<03:06,  1.20it/s]textattack: Saving checkpoint under \"checkpoints\\1720238324504.ta.chkpt\" at 2024-07-06 11:58:44 after 275 attacks.\n"
     ]
    },
    {
     "name": "stdout",
     "output_type": "stream",
     "text": [
      "\n",
      "\n",
      "=============================================================================================================================\n",
      "=============================================================================================================================\n",
      "\n"
     ]
    },
    {
     "name": "stderr",
     "output_type": "stream",
     "text": [
      "[Succeeded / Failed / Skipped / Total] 166 / 33 / 81 / 280:  56%|███████████▏        | 280/500 [03:52<03:02,  1.20it/s]textattack: Saving checkpoint under \"checkpoints\\1720238328461.ta.chkpt\" at 2024-07-06 11:58:48 after 280 attacks.\n"
     ]
    },
    {
     "name": "stdout",
     "output_type": "stream",
     "text": [
      "\n",
      "\n",
      "=============================================================================================================================\n",
      "=============================================================================================================================\n",
      "\n"
     ]
    },
    {
     "name": "stderr",
     "output_type": "stream",
     "text": [
      "[Succeeded / Failed / Skipped / Total] 168 / 35 / 82 / 285:  57%|███████████▍        | 285/500 [03:56<02:58,  1.21it/s]textattack: Saving checkpoint under \"checkpoints\\1720238332143.ta.chkpt\" at 2024-07-06 11:58:52 after 285 attacks.\n"
     ]
    },
    {
     "name": "stdout",
     "output_type": "stream",
     "text": [
      "\n",
      "\n",
      "=============================================================================================================================\n",
      "=============================================================================================================================\n",
      "\n"
     ]
    },
    {
     "name": "stderr",
     "output_type": "stream",
     "text": [
      "[Succeeded / Failed / Skipped / Total] 172 / 36 / 82 / 290:  58%|███████████▌        | 290/500 [04:01<02:54,  1.20it/s]textattack: Saving checkpoint under \"checkpoints\\1720238337561.ta.chkpt\" at 2024-07-06 11:58:57 after 290 attacks.\n",
      "[Succeeded / Failed / Skipped / Total] 172 / 36 / 84 / 292:  58%|███████████▋        | 292/500 [04:01<02:52,  1.21it/s]"
     ]
    },
    {
     "name": "stdout",
     "output_type": "stream",
     "text": [
      "\n",
      "\n",
      "=============================================================================================================================\n",
      "=============================================================================================================================\n",
      "\n"
     ]
    },
    {
     "name": "stderr",
     "output_type": "stream",
     "text": [
      "[Succeeded / Failed / Skipped / Total] 174 / 36 / 85 / 295:  59%|███████████▊        | 295/500 [04:03<02:49,  1.21it/s]textattack: Saving checkpoint under \"checkpoints\\1720238339360.ta.chkpt\" at 2024-07-06 11:58:59 after 295 attacks.\n"
     ]
    },
    {
     "name": "stdout",
     "output_type": "stream",
     "text": [
      "\n",
      "\n",
      "=============================================================================================================================\n",
      "=============================================================================================================================\n",
      "\n"
     ]
    },
    {
     "name": "stderr",
     "output_type": "stream",
     "text": [
      "[Succeeded / Failed / Skipped / Total] 177 / 36 / 87 / 300:  60%|████████████        | 300/500 [04:05<02:43,  1.22it/s]textattack: Saving checkpoint under \"checkpoints\\1720238341815.ta.chkpt\" at 2024-07-06 11:59:01 after 300 attacks.\n"
     ]
    },
    {
     "name": "stdout",
     "output_type": "stream",
     "text": [
      "\n",
      "\n",
      "=============================================================================================================================\n",
      "=============================================================================================================================\n",
      "\n"
     ]
    },
    {
     "name": "stderr",
     "output_type": "stream",
     "text": [
      "[Succeeded / Failed / Skipped / Total] 179 / 36 / 90 / 305:  61%|████████████▏       | 305/500 [04:07<02:38,  1.23it/s]textattack: Saving checkpoint under \"checkpoints\\1720238343629.ta.chkpt\" at 2024-07-06 11:59:03 after 305 attacks.\n"
     ]
    },
    {
     "name": "stdout",
     "output_type": "stream",
     "text": [
      "\n",
      "\n",
      "=============================================================================================================================\n",
      "=============================================================================================================================\n",
      "\n"
     ]
    },
    {
     "name": "stderr",
     "output_type": "stream",
     "text": [
      "[Succeeded / Failed / Skipped / Total] 180 / 39 / 91 / 310:  62%|████████████▍       | 310/500 [04:10<02:33,  1.24it/s]textattack: Saving checkpoint under \"checkpoints\\1720238346683.ta.chkpt\" at 2024-07-06 11:59:06 after 310 attacks.\n"
     ]
    },
    {
     "name": "stdout",
     "output_type": "stream",
     "text": [
      "\n",
      "\n",
      "=============================================================================================================================\n",
      "=============================================================================================================================\n",
      "\n"
     ]
    },
    {
     "name": "stderr",
     "output_type": "stream",
     "text": [
      "[Succeeded / Failed / Skipped / Total] 182 / 40 / 93 / 315:  63%|████████████▌       | 315/500 [04:13<02:28,  1.24it/s]textattack: Saving checkpoint under \"checkpoints\\1720238349672.ta.chkpt\" at 2024-07-06 11:59:09 after 315 attacks.\n",
      "[Succeeded / Failed / Skipped / Total] 182 / 40 / 94 / 316:  63%|████████████▋       | 316/500 [04:13<02:27,  1.25it/s]"
     ]
    },
    {
     "name": "stdout",
     "output_type": "stream",
     "text": [
      "\n",
      "\n",
      "=============================================================================================================================\n",
      "=============================================================================================================================\n",
      "\n"
     ]
    },
    {
     "name": "stderr",
     "output_type": "stream",
     "text": [
      "[Succeeded / Failed / Skipped / Total] 184 / 40 / 96 / 320:  64%|████████████▊       | 320/500 [04:19<02:25,  1.24it/s]textattack: Saving checkpoint under \"checkpoints\\1720238355045.ta.chkpt\" at 2024-07-06 11:59:15 after 320 attacks.\n",
      "[Succeeded / Failed / Skipped / Total] 184 / 40 / 97 / 321:  64%|████████████▊       | 321/500 [04:19<02:24,  1.24it/s]"
     ]
    },
    {
     "name": "stdout",
     "output_type": "stream",
     "text": [
      "\n",
      "\n",
      "=============================================================================================================================\n",
      "=============================================================================================================================\n",
      "\n"
     ]
    },
    {
     "name": "stderr",
     "output_type": "stream",
     "text": [
      "[Succeeded / Failed / Skipped / Total] 186 / 42 / 97 / 325:  65%|█████████████       | 325/500 [04:26<02:23,  1.22it/s]textattack: Saving checkpoint under \"checkpoints\\1720238362413.ta.chkpt\" at 2024-07-06 11:59:22 after 325 attacks.\n",
      "[Succeeded / Failed / Skipped / Total] 186 / 42 / 98 / 326:  65%|█████████████       | 326/500 [04:26<02:22,  1.22it/s]"
     ]
    },
    {
     "name": "stdout",
     "output_type": "stream",
     "text": [
      "\n",
      "\n",
      "=============================================================================================================================\n",
      "=============================================================================================================================\n",
      "\n"
     ]
    },
    {
     "name": "stderr",
     "output_type": "stream",
     "text": [
      "[Succeeded / Failed / Skipped / Total] 189 / 43 / 98 / 330:  66%|█████████████▏      | 330/500 [04:29<02:18,  1.23it/s]textattack: Saving checkpoint under \"checkpoints\\1720238365239.ta.chkpt\" at 2024-07-06 11:59:25 after 330 attacks.\n"
     ]
    },
    {
     "name": "stdout",
     "output_type": "stream",
     "text": [
      "\n",
      "\n",
      "=============================================================================================================================\n",
      "=============================================================================================================================\n",
      "\n"
     ]
    },
    {
     "name": "stderr",
     "output_type": "stream",
     "text": [
      "[Succeeded / Failed / Skipped / Total] 192 / 45 / 98 / 335:  67%|█████████████▍      | 335/500 [04:35<02:15,  1.21it/s]textattack: Saving checkpoint under \"checkpoints\\1720238371961.ta.chkpt\" at 2024-07-06 11:59:31 after 335 attacks.\n"
     ]
    },
    {
     "name": "stdout",
     "output_type": "stream",
     "text": [
      "\n",
      "\n",
      "=============================================================================================================================\n",
      "=============================================================================================================================\n",
      "\n"
     ]
    },
    {
     "name": "stderr",
     "output_type": "stream",
     "text": [
      "[Succeeded / Failed / Skipped / Total] 196 / 45 / 99 / 340:  68%|█████████████▌      | 340/500 [04:38<02:11,  1.22it/s]textattack: Saving checkpoint under \"checkpoints\\1720238374927.ta.chkpt\" at 2024-07-06 11:59:34 after 340 attacks.\n"
     ]
    },
    {
     "name": "stdout",
     "output_type": "stream",
     "text": [
      "\n",
      "\n",
      "=============================================================================================================================\n",
      "=============================================================================================================================\n",
      "\n"
     ]
    },
    {
     "name": "stderr",
     "output_type": "stream",
     "text": [
      "[Succeeded / Failed / Skipped / Total] 198 / 46 / 101 / 345:  69%|█████████████      | 345/500 [04:42<02:06,  1.22it/s]textattack: Saving checkpoint under \"checkpoints\\1720238378318.ta.chkpt\" at 2024-07-06 11:59:38 after 345 attacks.\n"
     ]
    },
    {
     "name": "stdout",
     "output_type": "stream",
     "text": [
      "\n",
      "\n",
      "=============================================================================================================================\n",
      "=============================================================================================================================\n",
      "\n"
     ]
    },
    {
     "name": "stderr",
     "output_type": "stream",
     "text": [
      "[Succeeded / Failed / Skipped / Total] 203 / 46 / 101 / 350:  70%|█████████████▎     | 350/500 [04:48<02:03,  1.21it/s]textattack: Saving checkpoint under \"checkpoints\\1720238384527.ta.chkpt\" at 2024-07-06 11:59:44 after 350 attacks.\n"
     ]
    },
    {
     "name": "stdout",
     "output_type": "stream",
     "text": [
      "\n",
      "\n",
      "=============================================================================================================================\n",
      "=============================================================================================================================\n",
      "\n"
     ]
    },
    {
     "name": "stderr",
     "output_type": "stream",
     "text": [
      "[Succeeded / Failed / Skipped / Total] 207 / 47 / 101 / 355:  71%|█████████████▍     | 355/500 [04:55<02:00,  1.20it/s]textattack: Saving checkpoint under \"checkpoints\\1720238391362.ta.chkpt\" at 2024-07-06 11:59:51 after 355 attacks.\n"
     ]
    },
    {
     "name": "stdout",
     "output_type": "stream",
     "text": [
      "\n",
      "\n",
      "=============================================================================================================================\n",
      "=============================================================================================================================\n",
      "\n"
     ]
    },
    {
     "name": "stderr",
     "output_type": "stream",
     "text": [
      "[Succeeded / Failed / Skipped / Total] 209 / 48 / 103 / 360:  72%|█████████████▋     | 360/500 [04:57<01:55,  1.21it/s]textattack: Saving checkpoint under \"checkpoints\\1720238393882.ta.chkpt\" at 2024-07-06 11:59:53 after 360 attacks.\n"
     ]
    },
    {
     "name": "stdout",
     "output_type": "stream",
     "text": [
      "\n",
      "\n",
      "=============================================================================================================================\n",
      "=============================================================================================================================\n",
      "\n"
     ]
    },
    {
     "name": "stderr",
     "output_type": "stream",
     "text": [
      "[Succeeded / Failed / Skipped / Total] 213 / 49 / 103 / 365:  73%|█████████████▊     | 365/500 [05:02<01:51,  1.21it/s]textattack: Saving checkpoint under \"checkpoints\\1720238398445.ta.chkpt\" at 2024-07-06 11:59:58 after 365 attacks.\n"
     ]
    },
    {
     "name": "stdout",
     "output_type": "stream",
     "text": [
      "\n",
      "\n",
      "=============================================================================================================================\n",
      "=============================================================================================================================\n",
      "\n"
     ]
    },
    {
     "name": "stderr",
     "output_type": "stream",
     "text": [
      "[Succeeded / Failed / Skipped / Total] 216 / 50 / 104 / 370:  74%|██████████████     | 370/500 [05:05<01:47,  1.21it/s]textattack: Saving checkpoint under \"checkpoints\\1720238401626.ta.chkpt\" at 2024-07-06 12:00:01 after 370 attacks.\n"
     ]
    },
    {
     "name": "stdout",
     "output_type": "stream",
     "text": [
      "\n",
      "\n",
      "=============================================================================================================================\n",
      "=============================================================================================================================\n",
      "\n"
     ]
    },
    {
     "name": "stderr",
     "output_type": "stream",
     "text": [
      "[Succeeded / Failed / Skipped / Total] 220 / 50 / 105 / 375:  75%|██████████████▎    | 375/500 [05:10<01:43,  1.21it/s]textattack: Saving checkpoint under \"checkpoints\\1720238406194.ta.chkpt\" at 2024-07-06 12:00:06 after 375 attacks.\n"
     ]
    },
    {
     "name": "stdout",
     "output_type": "stream",
     "text": [
      "\n",
      "\n",
      "=============================================================================================================================\n",
      "=============================================================================================================================\n",
      "\n"
     ]
    },
    {
     "name": "stderr",
     "output_type": "stream",
     "text": [
      "[Succeeded / Failed / Skipped / Total] 224 / 50 / 106 / 380:  76%|██████████████▍    | 380/500 [05:13<01:38,  1.21it/s]textattack: Saving checkpoint under \"checkpoints\\1720238409496.ta.chkpt\" at 2024-07-06 12:00:09 after 380 attacks.\n"
     ]
    },
    {
     "name": "stdout",
     "output_type": "stream",
     "text": [
      "\n",
      "\n",
      "=============================================================================================================================\n",
      "=============================================================================================================================\n",
      "\n"
     ]
    },
    {
     "name": "stderr",
     "output_type": "stream",
     "text": [
      "[Succeeded / Failed / Skipped / Total] 228 / 50 / 107 / 385:  77%|██████████████▋    | 385/500 [05:15<01:34,  1.22it/s]textattack: Saving checkpoint under \"checkpoints\\1720238411924.ta.chkpt\" at 2024-07-06 12:00:11 after 385 attacks.\n"
     ]
    },
    {
     "name": "stdout",
     "output_type": "stream",
     "text": [
      "\n",
      "\n",
      "=============================================================================================================================\n",
      "=============================================================================================================================\n",
      "\n"
     ]
    },
    {
     "name": "stderr",
     "output_type": "stream",
     "text": [
      "[Succeeded / Failed / Skipped / Total] 231 / 51 / 108 / 390:  78%|██████████████▊    | 390/500 [05:18<01:29,  1.22it/s]textattack: Saving checkpoint under \"checkpoints\\1720238414945.ta.chkpt\" at 2024-07-06 12:00:14 after 390 attacks.\n"
     ]
    },
    {
     "name": "stdout",
     "output_type": "stream",
     "text": [
      "\n",
      "\n",
      "=============================================================================================================================\n",
      "=============================================================================================================================\n",
      "\n"
     ]
    },
    {
     "name": "stderr",
     "output_type": "stream",
     "text": [
      "[Succeeded / Failed / Skipped / Total] 235 / 52 / 108 / 395:  79%|███████████████    | 395/500 [05:24<01:26,  1.22it/s]textattack: Saving checkpoint under \"checkpoints\\1720238420203.ta.chkpt\" at 2024-07-06 12:00:20 after 395 attacks.\n"
     ]
    },
    {
     "name": "stdout",
     "output_type": "stream",
     "text": [
      "\n",
      "\n",
      "=============================================================================================================================\n",
      "=============================================================================================================================\n",
      "\n"
     ]
    },
    {
     "name": "stderr",
     "output_type": "stream",
     "text": [
      "[Succeeded / Failed / Skipped / Total] 240 / 52 / 108 / 400:  80%|███████████████▏   | 400/500 [05:32<01:23,  1.20it/s]textattack: Saving checkpoint under \"checkpoints\\1720238428282.ta.chkpt\" at 2024-07-06 12:00:28 after 400 attacks.\n",
      "[Succeeded / Failed / Skipped / Total] 240 / 52 / 109 / 401:  80%|███████████████▏   | 401/500 [05:32<01:22,  1.21it/s]"
     ]
    },
    {
     "name": "stdout",
     "output_type": "stream",
     "text": [
      "\n",
      "\n",
      "=============================================================================================================================\n",
      "=============================================================================================================================\n",
      "\n"
     ]
    },
    {
     "name": "stderr",
     "output_type": "stream",
     "text": [
      "[Succeeded / Failed / Skipped / Total] 243 / 53 / 109 / 405:  81%|███████████████▍   | 405/500 [05:37<01:19,  1.20it/s]textattack: Saving checkpoint under \"checkpoints\\1720238433194.ta.chkpt\" at 2024-07-06 12:00:33 after 405 attacks.\n"
     ]
    },
    {
     "name": "stdout",
     "output_type": "stream",
     "text": [
      "\n",
      "\n",
      "=============================================================================================================================\n",
      "=============================================================================================================================\n",
      "\n"
     ]
    },
    {
     "name": "stderr",
     "output_type": "stream",
     "text": [
      "[Succeeded / Failed / Skipped / Total] 245 / 55 / 110 / 410:  82%|███████████████▌   | 410/500 [05:40<01:14,  1.21it/s]textattack: Saving checkpoint under \"checkpoints\\1720238436168.ta.chkpt\" at 2024-07-06 12:00:36 after 410 attacks.\n"
     ]
    },
    {
     "name": "stdout",
     "output_type": "stream",
     "text": [
      "\n",
      "\n",
      "=============================================================================================================================\n",
      "=============================================================================================================================\n",
      "\n"
     ]
    },
    {
     "name": "stderr",
     "output_type": "stream",
     "text": [
      "[Succeeded / Failed / Skipped / Total] 248 / 55 / 112 / 415:  83%|███████████████▊   | 415/500 [05:41<01:10,  1.21it/s]textattack: Saving checkpoint under \"checkpoints\\1720238437908.ta.chkpt\" at 2024-07-06 12:00:37 after 415 attacks.\n"
     ]
    },
    {
     "name": "stdout",
     "output_type": "stream",
     "text": [
      "\n",
      "\n",
      "=============================================================================================================================\n",
      "=============================================================================================================================\n",
      "\n"
     ]
    },
    {
     "name": "stderr",
     "output_type": "stream",
     "text": [
      "[Succeeded / Failed / Skipped / Total] 250 / 56 / 114 / 420:  84%|███████████████▉   | 420/500 [05:47<01:06,  1.21it/s]textattack: Saving checkpoint under \"checkpoints\\1720238443188.ta.chkpt\" at 2024-07-06 12:00:43 after 420 attacks.\n"
     ]
    },
    {
     "name": "stdout",
     "output_type": "stream",
     "text": [
      "\n",
      "\n",
      "=============================================================================================================================\n",
      "=============================================================================================================================\n",
      "\n"
     ]
    },
    {
     "name": "stderr",
     "output_type": "stream",
     "text": [
      "[Succeeded / Failed / Skipped / Total] 254 / 57 / 114 / 425:  85%|████████████████▏  | 425/500 [05:53<01:02,  1.20it/s]textattack: Saving checkpoint under \"checkpoints\\1720238449711.ta.chkpt\" at 2024-07-06 12:00:49 after 425 attacks.\n"
     ]
    },
    {
     "name": "stdout",
     "output_type": "stream",
     "text": [
      "\n",
      "\n",
      "=============================================================================================================================\n",
      "=============================================================================================================================\n",
      "\n"
     ]
    },
    {
     "name": "stderr",
     "output_type": "stream",
     "text": [
      "[Succeeded / Failed / Skipped / Total] 258 / 58 / 114 / 430:  86%|████████████████▎  | 430/500 [05:58<00:58,  1.20it/s]textattack: Saving checkpoint under \"checkpoints\\1720238454111.ta.chkpt\" at 2024-07-06 12:00:54 after 430 attacks.\n",
      "[Succeeded / Failed / Skipped / Total] 258 / 58 / 115 / 431:  86%|████████████████▍  | 431/500 [05:58<00:57,  1.20it/s]"
     ]
    },
    {
     "name": "stdout",
     "output_type": "stream",
     "text": [
      "\n",
      "\n",
      "=============================================================================================================================\n",
      "=============================================================================================================================\n",
      "\n"
     ]
    },
    {
     "name": "stderr",
     "output_type": "stream",
     "text": [
      "[Succeeded / Failed / Skipped / Total] 262 / 58 / 115 / 435:  87%|████████████████▌  | 435/500 [06:00<00:53,  1.21it/s]textattack: Saving checkpoint under \"checkpoints\\1720238456760.ta.chkpt\" at 2024-07-06 12:00:56 after 435 attacks.\n"
     ]
    },
    {
     "name": "stdout",
     "output_type": "stream",
     "text": [
      "\n",
      "\n",
      "=============================================================================================================================\n",
      "=============================================================================================================================\n",
      "\n"
     ]
    },
    {
     "name": "stderr",
     "output_type": "stream",
     "text": [
      "[Succeeded / Failed / Skipped / Total] 266 / 59 / 115 / 440:  88%|████████████████▋  | 440/500 [06:05<00:49,  1.20it/s]textattack: Saving checkpoint under \"checkpoints\\1720238461629.ta.chkpt\" at 2024-07-06 12:01:01 after 440 attacks.\n",
      "[Succeeded / Failed / Skipped / Total] 266 / 59 / 116 / 441:  88%|████████████████▊  | 441/500 [06:05<00:48,  1.21it/s]"
     ]
    },
    {
     "name": "stdout",
     "output_type": "stream",
     "text": [
      "\n",
      "\n",
      "=============================================================================================================================\n",
      "=============================================================================================================================\n",
      "\n"
     ]
    },
    {
     "name": "stderr",
     "output_type": "stream",
     "text": [
      "[Succeeded / Failed / Skipped / Total] 269 / 59 / 117 / 445:  89%|████████████████▉  | 445/500 [06:07<00:45,  1.21it/s]textattack: Saving checkpoint under \"checkpoints\\1720238463474.ta.chkpt\" at 2024-07-06 12:01:03 after 445 attacks.\n"
     ]
    },
    {
     "name": "stdout",
     "output_type": "stream",
     "text": [
      "\n",
      "\n",
      "=============================================================================================================================\n",
      "=============================================================================================================================\n",
      "\n"
     ]
    },
    {
     "name": "stderr",
     "output_type": "stream",
     "text": [
      "[Succeeded / Failed / Skipped / Total] 271 / 61 / 118 / 450:  90%|█████████████████  | 450/500 [06:11<00:41,  1.21it/s]textattack: Saving checkpoint under \"checkpoints\\1720238467931.ta.chkpt\" at 2024-07-06 12:01:07 after 450 attacks.\n",
      "[Succeeded / Failed / Skipped / Total] 271 / 61 / 119 / 451:  90%|█████████████████▏ | 451/500 [06:12<00:40,  1.21it/s]"
     ]
    },
    {
     "name": "stdout",
     "output_type": "stream",
     "text": [
      "\n",
      "\n",
      "=============================================================================================================================\n",
      "=============================================================================================================================\n",
      "\n"
     ]
    },
    {
     "name": "stderr",
     "output_type": "stream",
     "text": [
      "[Succeeded / Failed / Skipped / Total] 274 / 61 / 120 / 455:  91%|█████████████████▎ | 455/500 [06:15<00:37,  1.21it/s]textattack: Saving checkpoint under \"checkpoints\\1720238471126.ta.chkpt\" at 2024-07-06 12:01:11 after 455 attacks.\n"
     ]
    },
    {
     "name": "stdout",
     "output_type": "stream",
     "text": [
      "\n",
      "\n",
      "=============================================================================================================================\n",
      "=============================================================================================================================\n",
      "\n"
     ]
    },
    {
     "name": "stderr",
     "output_type": "stream",
     "text": [
      "[Succeeded / Failed / Skipped / Total] 278 / 62 / 120 / 460:  92%|█████████████████▍ | 460/500 [06:20<00:33,  1.21it/s]textattack: Saving checkpoint under \"checkpoints\\1720238476376.ta.chkpt\" at 2024-07-06 12:01:16 after 460 attacks.\n"
     ]
    },
    {
     "name": "stdout",
     "output_type": "stream",
     "text": [
      "\n",
      "\n",
      "=============================================================================================================================\n",
      "=============================================================================================================================\n",
      "\n"
     ]
    },
    {
     "name": "stderr",
     "output_type": "stream",
     "text": [
      "[Succeeded / Failed / Skipped / Total] 281 / 62 / 122 / 465:  93%|█████████████████▋ | 465/500 [06:22<00:28,  1.22it/s]textattack: Saving checkpoint under \"checkpoints\\1720238478417.ta.chkpt\" at 2024-07-06 12:01:18 after 465 attacks.\n"
     ]
    },
    {
     "name": "stdout",
     "output_type": "stream",
     "text": [
      "\n",
      "\n",
      "=============================================================================================================================\n",
      "=============================================================================================================================\n",
      "\n"
     ]
    },
    {
     "name": "stderr",
     "output_type": "stream",
     "text": [
      "[Succeeded / Failed / Skipped / Total] 284 / 63 / 123 / 470:  94%|█████████████████▊ | 470/500 [06:26<00:24,  1.22it/s]textattack: Saving checkpoint under \"checkpoints\\1720238482231.ta.chkpt\" at 2024-07-06 12:01:22 after 470 attacks.\n",
      "[Succeeded / Failed / Skipped / Total] 284 / 63 / 124 / 471:  94%|█████████████████▉ | 471/500 [06:26<00:23,  1.22it/s]"
     ]
    },
    {
     "name": "stdout",
     "output_type": "stream",
     "text": [
      "\n",
      "\n",
      "=============================================================================================================================\n",
      "=============================================================================================================================\n",
      "\n"
     ]
    },
    {
     "name": "stderr",
     "output_type": "stream",
     "text": [
      "[Succeeded / Failed / Skipped / Total] 288 / 63 / 124 / 475:  95%|██████████████████ | 475/500 [06:30<00:20,  1.22it/s]textattack: Saving checkpoint under \"checkpoints\\1720238486701.ta.chkpt\" at 2024-07-06 12:01:26 after 475 attacks.\n"
     ]
    },
    {
     "name": "stdout",
     "output_type": "stream",
     "text": [
      "\n",
      "\n",
      "=============================================================================================================================\n",
      "=============================================================================================================================\n",
      "\n"
     ]
    },
    {
     "name": "stderr",
     "output_type": "stream",
     "text": [
      "[Succeeded / Failed / Skipped / Total] 292 / 64 / 124 / 480:  96%|██████████████████▏| 480/500 [06:35<00:16,  1.21it/s]textattack: Saving checkpoint under \"checkpoints\\1720238491328.ta.chkpt\" at 2024-07-06 12:01:31 after 480 attacks.\n"
     ]
    },
    {
     "name": "stdout",
     "output_type": "stream",
     "text": [
      "\n",
      "\n",
      "=============================================================================================================================\n",
      "=============================================================================================================================\n",
      "\n"
     ]
    },
    {
     "name": "stderr",
     "output_type": "stream",
     "text": [
      "[Succeeded / Failed / Skipped / Total] 294 / 66 / 125 / 485:  97%|██████████████████▍| 485/500 [06:39<00:12,  1.21it/s]textattack: Saving checkpoint under \"checkpoints\\1720238495926.ta.chkpt\" at 2024-07-06 12:01:35 after 485 attacks.\n"
     ]
    },
    {
     "name": "stdout",
     "output_type": "stream",
     "text": [
      "\n",
      "\n",
      "=============================================================================================================================\n",
      "=============================================================================================================================\n",
      "\n"
     ]
    },
    {
     "name": "stderr",
     "output_type": "stream",
     "text": [
      "[Succeeded / Failed / Skipped / Total] 296 / 66 / 128 / 490:  98%|██████████████████▌| 490/500 [06:42<00:08,  1.22it/s]textattack: Saving checkpoint under \"checkpoints\\1720238498737.ta.chkpt\" at 2024-07-06 12:01:38 after 490 attacks.\n"
     ]
    },
    {
     "name": "stdout",
     "output_type": "stream",
     "text": [
      "\n",
      "\n",
      "=============================================================================================================================\n",
      "=============================================================================================================================\n",
      "\n"
     ]
    },
    {
     "name": "stderr",
     "output_type": "stream",
     "text": [
      "[Succeeded / Failed / Skipped / Total] 300 / 66 / 129 / 495:  99%|██████████████████▊| 495/500 [06:45<00:04,  1.22it/s]textattack: Saving checkpoint under \"checkpoints\\1720238501233.ta.chkpt\" at 2024-07-06 12:01:41 after 495 attacks.\n"
     ]
    },
    {
     "name": "stdout",
     "output_type": "stream",
     "text": [
      "\n",
      "\n",
      "=============================================================================================================================\n",
      "=============================================================================================================================\n",
      "\n"
     ]
    },
    {
     "name": "stderr",
     "output_type": "stream",
     "text": [
      "[Succeeded / Failed / Skipped / Total] 305 / 66 / 129 / 500: 100%|███████████████████| 500/500 [06:50<00:00,  1.22it/s]textattack: Saving checkpoint under \"checkpoints\\1720238506751.ta.chkpt\" at 2024-07-06 12:01:46 after 500 attacks.\n",
      "[Succeeded / Failed / Skipped / Total] 305 / 66 / 129 / 500: 100%|███████████████████| 500/500 [06:50<00:00,  1.22it/s]"
     ]
    },
    {
     "name": "stdout",
     "output_type": "stream",
     "text": [
      "\n",
      "\n",
      "=============================================================================================================================\n",
      "=============================================================================================================================\n",
      "\n",
      "\n",
      "+-------------------------------+--------+\n",
      "| Attack Results                |        |\n",
      "+-------------------------------+--------+\n",
      "| Number of successful attacks: | 305    |\n",
      "| Number of failed attacks:     | 66     |\n",
      "| Number of skipped attacks:    | 129    |\n",
      "| Original accuracy:            | 74.2%  |\n",
      "| Accuracy under attack:        | 13.2%  |\n",
      "| Attack success rate:          | 82.21% |\n",
      "| Average perturbed word %:     | 17.38% |\n",
      "| Average num. words per input: | 18.4   |\n",
      "| Avg num queries:              | 29.47  |\n",
      "+-------------------------------+--------+\n"
     ]
    },
    {
     "name": "stderr",
     "output_type": "stream",
     "text": [
      "\n"
     ]
    }
   ],
   "source": [
    "runAttack(clip_model_wrapper_svc_mr, n_samples, 'attack_results_new/clipmrattacksvc'+suffix, target_ds_mr)"
   ]
  }
 ],
 "metadata": {
  "kernelspec": {
   "display_name": "Python 3 (ipykernel)",
   "language": "python",
   "name": "python3"
  },
  "language_info": {
   "codemirror_mode": {
    "name": "ipython",
    "version": 3
   },
   "file_extension": ".py",
   "mimetype": "text/x-python",
   "name": "python",
   "nbconvert_exporter": "python",
   "pygments_lexer": "ipython3",
   "version": "3.10.13"
  }
 },
 "nbformat": 4,
 "nbformat_minor": 5
}
