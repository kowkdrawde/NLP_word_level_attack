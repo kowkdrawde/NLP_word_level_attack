{
 "cells": [
  {
   "cell_type": "code",
   "execution_count": 1,
   "id": "b8fb6a0b-f6d4-4649-ae5c-6bccc44bea08",
   "metadata": {
    "scrolled": true
   },
   "outputs": [],
   "source": [
    "#!pip install textattack[tensorflow,optional]\n",
    "#!pip install -U datasets"
   ]
  },
  {
   "cell_type": "code",
   "execution_count": 2,
   "id": "a6a32e48-d2fa-4420-8c45-3f9fe99d0526",
   "metadata": {},
   "outputs": [
    {
     "name": "stderr",
     "output_type": "stream",
     "text": [
      "D:\\anaconda3\\envs\\tf\\lib\\site-packages\\torchvision\\io\\image.py:13: UserWarning: Failed to load image Python extension: '[WinError 127] 找不到指定的程序。'If you don't plan on using image functionality from `torchvision.io`, you can ignore this warning. Otherwise, there might be something wrong with your environment. Did you have `libjpeg` or `libpng` installed before building `torchvision` from source?\n",
      "  warn(\n",
      "D:\\anaconda3\\envs\\tf\\lib\\site-packages\\tqdm\\auto.py:21: TqdmWarning: IProgress not found. Please update jupyter and ipywidgets. See https://ipywidgets.readthedocs.io/en/stable/user_install.html\n",
      "  from .autonotebook import tqdm as notebook_tqdm\n",
      "D:\\anaconda3\\envs\\tf\\lib\\site-packages\\transformers\\utils\\generic.py:260: UserWarning: torch.utils._pytree._register_pytree_node is deprecated. Please use torch.utils._pytree.register_pytree_node instead.\n",
      "  torch.utils._pytree._register_pytree_node(\n",
      "D:\\anaconda3\\envs\\tf\\lib\\site-packages\\transformers\\utils\\generic.py:260: UserWarning: torch.utils._pytree._register_pytree_node is deprecated. Please use torch.utils._pytree.register_pytree_node instead.\n",
      "  torch.utils._pytree._register_pytree_node(\n"
     ]
    }
   ],
   "source": [
    "import os\n",
    "import datetime\n",
    "\n",
    "import numpy as np\n",
    "import pandas as pd\n",
    "\n",
    "import torch\n",
    "import torch.nn as nn\n",
    "from torch.utils.data import DataLoader, Dataset\n",
    "import torchvision\n",
    "import tensorflow as tf\n",
    "import transformers\n",
    "from transformers import CLIPProcessor, CLIPModel\n",
    "\n",
    "import textattack\n",
    "from textattack.models.wrappers import HuggingFaceModelWrapper\n",
    "\n",
    "from sklearn.linear_model import LogisticRegression\n",
    "from sklearn.ensemble import RandomForestClassifier\n",
    "from sklearn.neighbors import KNeighborsClassifier\n",
    "from sklearn.svm import SVC\n"
   ]
  },
  {
   "cell_type": "code",
   "execution_count": 3,
   "id": "9757d84d-991f-41e0-987c-13829acd0d2d",
   "metadata": {},
   "outputs": [],
   "source": [
    "from textattack import Attack\n",
    "from textattack.constraints.grammaticality import PartOfSpeech\n",
    "from textattack.constraints.pre_transformation import (\n",
    "    InputColumnModification,\n",
    "    RepeatModification,\n",
    "    StopwordModification,\n",
    ")\n",
    "from textattack.constraints.semantics import WordEmbeddingDistance\n",
    "from textattack.constraints.semantics.sentence_encoders import UniversalSentenceEncoder\n",
    "from textattack.goal_functions import UntargetedClassification\n",
    "from textattack.search_methods import GreedyWordSwapWIR\n",
    "from textattack.transformations import WordSwapEmbedding, WordSwapWordNet \n",
    "\n",
    "from textattack.transformations.composite_transformation import CompositeTransformation\n",
    "\n",
    "from textattack.attack_recipes.attack_recipe import AttackRecipe\n",
    "\n",
    "class TFLepsilon(AttackRecipe):\n",
    "\n",
    "    @staticmethod\n",
    "    def build(model_wrapper):\n",
    "        #\n",
    "        # Swap words with their 50 closest embedding nearest-neighbors.\n",
    "        # Embedding: Counter-fitted PARAGRAM-SL999 vectors.\n",
    "        \n",
    "        ## transformation = CompositeTransformation([WordSwapWordNet(), WordSwapEmbedding(max_candidates=50)])\n",
    "        transformation = WordSwapEmbedding(max_candidates=50)\n",
    "        #\n",
    "        # Don't modify the same word twice or the stopwords defined\n",
    "        # in the TextFooler public implementation.\n",
    "        #\n",
    "        # fmt: off\n",
    "        stopwords = set(\n",
    "            [\"a\", \"about\", \"above\", \"across\", \"after\", \"afterwards\", \"again\", \"against\", \"ain\", \"all\", \n",
    "             \"almost\", \"alone\", \"along\", \"already\", \"also\", \"although\", \"am\", \"among\", \"amongst\", \"an\", \n",
    "             \"and\", \"another\", \"any\", \"anyhow\", \"anyone\", \"anything\", \"anyway\", \"anywhere\", \"are\", \"aren\",\n",
    "             \"aren't\", \"around\", \"as\", \"at\", \"back\", \"been\", \"before\", \"beforehand\", \"behind\", \"being\", \n",
    "             \"below\", \"beside\", \"besides\", \"between\", \"beyond\", \"both\", \"but\", \"by\", \"can\", \"cannot\", \n",
    "             \"could\", \"couldn\", \"couldn't\", \"d\", \"didn\", \"didn't\", \"doesn\", \"doesn't\", \"don\", \"don't\", \n",
    "             \"down\", \"due\", \"during\", \"either\", \"else\", \"elsewhere\", \"empty\", \"enough\", \"even\", \"ever\", \n",
    "             \"everyone\", \"everything\", \"everywhere\", \"except\", \"first\", \"for\", \"former\", \"formerly\",\n",
    "             \"from\", \"hadn\", \"hadn't\", \"hasn\", \"hasn't\", \"haven\", \"haven't\", \"he\", \"hence\", \"her\", \"here\", \n",
    "             \"hereafter\", \"hereby\", \"herein\", \"hereupon\", \"hers\", \"herself\", \"him\", \"himself\", \"his\", \"how\", \n",
    "             \"however\", \"hundred\", \"i\", \"if\", \"in\", \"indeed\", \"into\", \"is\", \"isn\", \"isn't\", \"it\", \"it's\", \n",
    "             \"its\", \"itself\", \"just\", \"latter\", \"latterly\", \"least\", \"ll\", \"may\", \"me\", \"meanwhile\", \n",
    "             \"mightn\", \"mightn't\", \"mine\", \"more\", \"moreover\", \"most\", \"mostly\", \"must\", \"mustn\", \"mustn't\", \n",
    "             \"my\", \"myself\", \"namely\", \"needn\", \"needn't\", \"neither\", \"never\", \"nevertheless\", \"next\", \"no\",\n",
    "             \"nobody\", \"none\", \"noone\", \"nor\", \"not\", \"nothing\", \"now\", \"nowhere\", \"o\", \"of\", \"off\", \"on\",\n",
    "             \"once\", \"one\", \"only\", \"onto\", \"or\", \"other\", \"others\", \"otherwise\", \"our\", \"ours\", \"ourselves\", \n",
    "             \"out\", \"over\", \"per\", \"please\", \"s\", \"same\", \"shan\", \"shan't\", \"she\", \"she's\", \"should've\", \n",
    "             \"shouldn\", \"shouldn't\", \"somehow\", \"something\", \"sometime\", \"somewhere\", \"such\", \"t\", \"than\", \n",
    "             \"that\", \"that'll\", \"the\", \"their\", \"theirs\", \"them\", \"themselves\", \"then\", \"thence\", \"there\", \n",
    "             \"thereafter\", \"thereby\", \"therefore\", \"therein\", \"thereupon\", \"these\", \"they\", \"this\", \"those\",\n",
    "             \"through\", \"throughout\", \"thru\", \"thus\", \"to\", \"too\", \"toward\", \"towards\", \"under\", \"unless\",\n",
    "             \"until\", \"up\", \"upon\", \"used\", \"ve\", \"was\", \"wasn\", \"wasn't\", \"we\", \"were\", \"weren\", \"weren't\",\n",
    "             \"what\", \"whatever\", \"when\", \"whence\", \"whenever\", \"where\", \"whereafter\", \"whereas\", \"whereby\", \n",
    "             \"wherein\", \"whereupon\", \"wherever\", \"whether\", \"which\", \"while\", \"whither\", \"who\", \"whoever\", \n",
    "             \"whole\", \"whom\", \"whose\", \"why\", \"with\", \"within\", \"without\", \"won\", \"won't\", \"would\", \"wouldn\",\n",
    "             \"wouldn't\", \"y\", \"yet\", \"you\", \"you'd\", \"you'll\", \"you're\", \"you've\", \"your\", \"yours\", \"yourself\",\n",
    "             \"yourselves\"]\n",
    "        )\n",
    "        # fmt: on\n",
    "        constraints = [RepeatModification(), StopwordModification(stopwords=stopwords)]\n",
    "        #\n",
    "        # During entailment, we should only edit the hypothesis - keep the premise\n",
    "        # the same.\n",
    "        #\n",
    "        input_column_modification = InputColumnModification(\n",
    "            [\"premise\", \"hypothesis\"], {\"premise\"}\n",
    "        )\n",
    "        constraints.append(input_column_modification)\n",
    "        # Minimum word embedding cosine similarity of 0.5.\n",
    "        # (The paper claims 0.7, but analysis of the released code and some empirical\n",
    "        # results show that it's 0.5.)\n",
    "        #\n",
    "        constraints.append(WordEmbeddingDistance(min_cos_sim=0.7))\n",
    "        #\n",
    "        # Only replace words with the same part of speech (or nouns with verbs)\n",
    "        #\n",
    "        constraints.append(PartOfSpeech(allow_verb_noun_swap=True))\n",
    "        #\n",
    "        # Universal Sentence Encoder with a minimum angular similarity of ε = 0.5.\n",
    "        #\n",
    "        # In the TextFooler code, they forget to divide the angle between the two\n",
    "        # embeddings by pi. So if the original threshold was that 1 - sim >= 0.5, the\n",
    "        # new threshold is 1 - (0.5) / pi = 0.840845057\n",
    "        #\n",
    "        use_constraint = UniversalSentenceEncoder(\n",
    "            threshold = 0.840845057,\n",
    "            metric=\"angular\",\n",
    "            compare_against_original=False,\n",
    "            window_size=15,\n",
    "            skip_text_shorter_than_window=True,\n",
    "        )\n",
    "        constraints.append(use_constraint)\n",
    "        #\n",
    "        # Goal is untargeted classification\n",
    "        #\n",
    "        goal_function = UntargetedClassification(model_wrapper)\n",
    "        #\n",
    "        # Greedily swap words with \"Word Importance Ranking\".\n",
    "        #\n",
    "        search_method = GreedyWordSwapWIR(wir_method=\"delete\")\n",
    "\n",
    "        return Attack(goal_function, constraints, transformation, search_method)\n"
   ]
  },
  {
   "cell_type": "code",
   "execution_count": 4,
   "id": "bc8fc32a-2438-4054-9cf8-ff005ec06dab",
   "metadata": {},
   "outputs": [],
   "source": [
    "def runAttack(model_wrapper, n, path, target_ds):\n",
    "    # used TFLepsilon\n",
    "    attack = TFLepsilon.build(model_wrapper)\n",
    "    attack_args = textattack.AttackArgs(num_examples=n, log_to_csv=path, shuffle=True, #parallel=True,\n",
    "                                        checkpoint_interval=5, checkpoint_dir='checkpoints', \n",
    "                                        disable_stdout=True)\n",
    "    attacker = textattack.Attacker(attack, target_ds, attack_args)\n",
    "    attacker.attack_dataset()"
   ]
  },
  {
   "cell_type": "code",
   "execution_count": 5,
   "id": "76181ead-393f-4d43-9067-0f25ca726eb7",
   "metadata": {},
   "outputs": [],
   "source": [
    "# classifiers\n",
    "def adaptation(train_set, test_set):\n",
    "    lr = LogisticRegression(solver='saga', multi_class='multinomial')\n",
    "    rf = RandomForestClassifier(max_depth=7)\n",
    "    knn = KNeighborsClassifier(n_neighbors=7)\n",
    "    svc = SVC(kernel='linear', probability=True)\n",
    "    \n",
    "    trainX = train_set.iloc[:,:-1]\n",
    "    trainY = train_set.iloc[:,-1]\n",
    "    testX = test_set.iloc[:,:-1]\n",
    "    testY = test_set.iloc[:,-1]\n",
    "    \n",
    "    for key, clf in {'Log Reg':lr, 'RF':rf, 'KNN':knn, 'SVC':svc}.items():\n",
    "        clf.fit(trainX, trainY) # fit train data\n",
    "        pred = clf.predict(testX) # predict test set\n",
    "\n",
    "        # print accuracy\n",
    "        print(key, (pred==np.array(testY)).sum()/len(pred))\n",
    "\n",
    "    return lr, rf, knn, svc"
   ]
  },
  {
   "cell_type": "code",
   "execution_count": 6,
   "id": "ddf441b8-c100-416a-a704-b16437e62ed5",
   "metadata": {},
   "outputs": [
    {
     "name": "stderr",
     "output_type": "stream",
     "text": [
      "textattack: Loading \u001b[94mdatasets\u001b[0m dataset \u001b[94mrotten_tomatoes\u001b[0m, split \u001b[94mtest\u001b[0m.\n"
     ]
    }
   ],
   "source": [
    "target_ds_mr = textattack.datasets.HuggingFaceDataset('rotten_tomatoes', split='test')"
   ]
  },
  {
   "cell_type": "code",
   "execution_count": 7,
   "id": "e5324e79-2fe0-478f-9ebe-5c7b649258d1",
   "metadata": {},
   "outputs": [],
   "source": [
    "suffix = 'sim07.csv'\n",
    "n_samples = 500"
   ]
  },
  {
   "cell_type": "markdown",
   "id": "0e13b205-9c12-4f2e-9bcb-b7a26f7a0f7f",
   "metadata": {},
   "source": [
    "### BERT-based-uncased"
   ]
  },
  {
   "cell_type": "code",
   "execution_count": 8,
   "id": "ece98501-61d1-44c5-946e-b4b41e046d6e",
   "metadata": {},
   "outputs": [
    {
     "name": "stderr",
     "output_type": "stream",
     "text": [
      "D:\\anaconda3\\envs\\tf\\lib\\site-packages\\huggingface_hub\\file_download.py:1132: FutureWarning: `resume_download` is deprecated and will be removed in version 1.0.0. Downloads always resume when possible. If you want to force a new download, use `force_download=True`.\n",
      "  warnings.warn(\n",
      "D:\\anaconda3\\envs\\tf\\lib\\site-packages\\transformers\\utils\\generic.py:260: UserWarning: torch.utils._pytree._register_pytree_node is deprecated. Please use torch.utils._pytree.register_pytree_node instead.\n",
      "  torch.utils._pytree._register_pytree_node(\n"
     ]
    }
   ],
   "source": [
    "# bert-based-uncased\n",
    "model_path1 = 'bert-base-uncased'\n",
    "\n",
    "bert_model = transformers.AutoModel.from_pretrained(model_path1)\n",
    "bert_tokenizer = transformers.AutoTokenizer.from_pretrained(model_path1)"
   ]
  },
  {
   "cell_type": "code",
   "execution_count": 9,
   "id": "f0180798-ce40-4a40-b8fb-b3b681aa14e2",
   "metadata": {},
   "outputs": [
    {
     "name": "stderr",
     "output_type": "stream",
     "text": [
      "D:\\anaconda3\\envs\\tf\\lib\\site-packages\\sklearn\\linear_model\\_sag.py:350: ConvergenceWarning: The max_iter was reached which means the coef_ did not converge\n",
      "  warnings.warn(\n"
     ]
    },
    {
     "name": "stdout",
     "output_type": "stream",
     "text": [
      "Log Reg 0.8105065666041276\n",
      "RF 0.7326454033771107\n",
      "KNN 0.6801125703564728\n",
      "SVC 0.8030018761726079\n"
     ]
    }
   ],
   "source": [
    "bertmrtrain = pd.read_csv('dataset_embeddings/bertmrtrain.txt', header=None)\n",
    "bertmrtest = pd.read_csv('dataset_embeddings/bertmrtest.txt', header=None)\n",
    "lr_bert_mr, rf_bert_mr, knn_bert_mr, svc_bert_mr = adaptation(bertmrtrain, bertmrtest)"
   ]
  },
  {
   "cell_type": "code",
   "execution_count": 10,
   "id": "488edfed-58de-472a-9afa-7dff844a3e85",
   "metadata": {},
   "outputs": [],
   "source": [
    "# custom model wrapper for CLIP\n",
    "class BERTModelWrapper(HuggingFaceModelWrapper):\n",
    "    def __init__(self, processor, text_encoder, classifier):\n",
    "        self.processor = processor\n",
    "        self.model = text_encoder\n",
    "        self.classifier = classifier\n",
    "\n",
    "    def __call__(self, text_input_list):\n",
    "        inputs = self.processor(text_input_list, return_tensors='pt', padding=True, truncation=True)\n",
    "        outputs = self.model(**inputs).pooler_output\n",
    "        with torch.no_grad():\n",
    "            preds = self.classifier.predict_proba(outputs)\n",
    "        return preds"
   ]
  },
  {
   "cell_type": "code",
   "execution_count": 11,
   "id": "4a2ce5ae-2225-4f66-a33c-b2ea0665cc4d",
   "metadata": {},
   "outputs": [],
   "source": [
    "bert_model_wrapper_lr_mr = BERTModelWrapper(bert_tokenizer, bert_model, lr_bert_mr)\n",
    "bert_model_wrapper_rf_mr = BERTModelWrapper(bert_tokenizer, bert_model, rf_bert_mr)\n",
    "bert_model_wrapper_knn_mr = BERTModelWrapper(bert_tokenizer, bert_model, knn_bert_mr)\n",
    "bert_model_wrapper_svc_mr = BERTModelWrapper(bert_tokenizer, bert_model, svc_bert_mr)"
   ]
  },
  {
   "cell_type": "code",
   "execution_count": 12,
   "id": "792065e0-20be-4083-a1dc-fb79b1c832b9",
   "metadata": {
    "scrolled": true
   },
   "outputs": [
    {
     "name": "stderr",
     "output_type": "stream",
     "text": [
      "textattack: Unknown if model of class <class 'transformers.models.bert.modeling_bert.BertModel'> compatible with goal function <class 'textattack.goal_functions.classification.untargeted_classification.UntargetedClassification'>.\n",
      "textattack: Logging to CSV at path attack_results_new/bertmrattacklrsim07.csv\n"
     ]
    },
    {
     "name": "stdout",
     "output_type": "stream",
     "text": [
      "Attack(\n",
      "  (search_method): GreedyWordSwapWIR(\n",
      "    (wir_method):  delete\n",
      "  )\n",
      "  (goal_function):  UntargetedClassification\n",
      "  (transformation):  WordSwapEmbedding(\n",
      "    (max_candidates):  50\n",
      "    (embedding):  WordEmbedding\n",
      "  )\n",
      "  (constraints): \n",
      "    (0): WordEmbeddingDistance(\n",
      "        (embedding):  WordEmbedding\n",
      "        (min_cos_sim):  0.7\n",
      "        (cased):  False\n",
      "        (include_unknown_words):  True\n",
      "        (compare_against_original):  True\n",
      "      )\n",
      "    (1): PartOfSpeech(\n",
      "        (tagger_type):  nltk\n",
      "        (tagset):  universal\n",
      "        (allow_verb_noun_swap):  True\n",
      "        (compare_against_original):  True\n",
      "      )\n",
      "    (2): UniversalSentenceEncoder(\n",
      "        (metric):  angular\n",
      "        (threshold):  0.840845057\n",
      "        (window_size):  15\n",
      "        (skip_text_shorter_than_window):  True\n",
      "        (compare_against_original):  False\n",
      "      )\n",
      "    (3): RepeatModification\n",
      "    (4): StopwordModification\n",
      "    (5): InputColumnModification(\n",
      "        (matching_column_labels):  ['premise', 'hypothesis']\n",
      "        (columns_to_ignore):  {'premise'}\n",
      "      )\n",
      "  (is_black_box):  True\n",
      ") \n",
      "\n"
     ]
    },
    {
     "name": "stderr",
     "output_type": "stream",
     "text": [
      "[Succeeded / Failed / Skipped / Total] 4 / 0 / 1 / 5:   1%|▎                         | 5/500 [01:12<2:00:01, 14.55s/it]textattack: Saving checkpoint under \"checkpoints\\1720197091653.ta.chkpt\" at 2024-07-06 00:31:31 after 5 attacks.\n"
     ]
    },
    {
     "name": "stdout",
     "output_type": "stream",
     "text": [
      "\n",
      "\n",
      "=============================================================================================================================\n",
      "=============================================================================================================================\n",
      "\n"
     ]
    },
    {
     "name": "stderr",
     "output_type": "stream",
     "text": [
      "[Succeeded / Failed / Skipped / Total] 6 / 0 / 4 / 10:   2%|▍                       | 10/500 [01:19<1:04:49,  7.94s/it]textattack: Saving checkpoint under \"checkpoints\\1720197098289.ta.chkpt\" at 2024-07-06 00:31:38 after 10 attacks.\n"
     ]
    },
    {
     "name": "stdout",
     "output_type": "stream",
     "text": [
      "\n",
      "\n",
      "=============================================================================================================================\n",
      "=============================================================================================================================\n",
      "\n"
     ]
    },
    {
     "name": "stderr",
     "output_type": "stream",
     "text": [
      "[Succeeded / Failed / Skipped / Total] 11 / 0 / 4 / 15:   3%|▊                        | 15/500 [01:40<54:07,  6.70s/it]textattack: Saving checkpoint under \"checkpoints\\1720197119354.ta.chkpt\" at 2024-07-06 00:31:59 after 15 attacks.\n"
     ]
    },
    {
     "name": "stdout",
     "output_type": "stream",
     "text": [
      "\n",
      "\n",
      "=============================================================================================================================\n",
      "=============================================================================================================================\n",
      "\n"
     ]
    },
    {
     "name": "stderr",
     "output_type": "stream",
     "text": [
      "[Succeeded / Failed / Skipped / Total] 14 / 1 / 5 / 20:   4%|█                        | 20/500 [01:43<41:30,  5.19s/it]textattack: Saving checkpoint under \"checkpoints\\1720197122686.ta.chkpt\" at 2024-07-06 00:32:02 after 20 attacks.\n"
     ]
    },
    {
     "name": "stdout",
     "output_type": "stream",
     "text": [
      "\n",
      "\n",
      "=============================================================================================================================\n",
      "=============================================================================================================================\n",
      "\n"
     ]
    },
    {
     "name": "stderr",
     "output_type": "stream",
     "text": [
      "[Succeeded / Failed / Skipped / Total] 18 / 1 / 6 / 25:   5%|█▎                       | 25/500 [01:50<34:52,  4.40s/it]textattack: Saving checkpoint under \"checkpoints\\1720197129034.ta.chkpt\" at 2024-07-06 00:32:09 after 25 attacks.\n"
     ]
    },
    {
     "name": "stdout",
     "output_type": "stream",
     "text": [
      "\n",
      "\n",
      "=============================================================================================================================\n",
      "=============================================================================================================================\n",
      "\n"
     ]
    },
    {
     "name": "stderr",
     "output_type": "stream",
     "text": [
      "[Succeeded / Failed / Skipped / Total] 21 / 3 / 6 / 30:   6%|█▌                       | 30/500 [02:00<31:30,  4.02s/it]textattack: Saving checkpoint under \"checkpoints\\1720197139591.ta.chkpt\" at 2024-07-06 00:32:19 after 30 attacks.\n"
     ]
    },
    {
     "name": "stdout",
     "output_type": "stream",
     "text": [
      "\n",
      "\n",
      "=============================================================================================================================\n",
      "=============================================================================================================================\n",
      "\n"
     ]
    },
    {
     "name": "stderr",
     "output_type": "stream",
     "text": [
      "[Succeeded / Failed / Skipped / Total] 24 / 4 / 7 / 35:   7%|█▊                       | 35/500 [02:06<27:57,  3.61s/it]textattack: Saving checkpoint under \"checkpoints\\1720197145159.ta.chkpt\" at 2024-07-06 00:32:25 after 35 attacks.\n"
     ]
    },
    {
     "name": "stdout",
     "output_type": "stream",
     "text": [
      "\n",
      "\n",
      "=============================================================================================================================\n",
      "=============================================================================================================================\n",
      "\n"
     ]
    },
    {
     "name": "stderr",
     "output_type": "stream",
     "text": [
      "[Succeeded / Failed / Skipped / Total] 26 / 4 / 10 / 40:   8%|█▉                      | 40/500 [02:11<25:09,  3.28s/it]textattack: Saving checkpoint under \"checkpoints\\1720197150176.ta.chkpt\" at 2024-07-06 00:32:30 after 40 attacks.\n"
     ]
    },
    {
     "name": "stdout",
     "output_type": "stream",
     "text": [
      "\n",
      "\n",
      "=============================================================================================================================\n",
      "=============================================================================================================================\n",
      "\n"
     ]
    },
    {
     "name": "stderr",
     "output_type": "stream",
     "text": [
      "[Succeeded / Failed / Skipped / Total] 30 / 4 / 11 / 45:   9%|██▏                     | 45/500 [02:23<24:10,  3.19s/it]textattack: Saving checkpoint under \"checkpoints\\1720197162427.ta.chkpt\" at 2024-07-06 00:32:42 after 45 attacks.\n"
     ]
    },
    {
     "name": "stdout",
     "output_type": "stream",
     "text": [
      "\n",
      "\n",
      "=============================================================================================================================\n",
      "=============================================================================================================================\n",
      "\n"
     ]
    },
    {
     "name": "stderr",
     "output_type": "stream",
     "text": [
      "[Succeeded / Failed / Skipped / Total] 35 / 4 / 11 / 50:  10%|██▍                     | 50/500 [02:34<23:08,  3.09s/it]textattack: Saving checkpoint under \"checkpoints\\1720197173163.ta.chkpt\" at 2024-07-06 00:32:53 after 50 attacks.\n"
     ]
    },
    {
     "name": "stdout",
     "output_type": "stream",
     "text": [
      "\n",
      "\n",
      "=============================================================================================================================\n",
      "=============================================================================================================================\n",
      "\n"
     ]
    },
    {
     "name": "stderr",
     "output_type": "stream",
     "text": [
      "[Succeeded / Failed / Skipped / Total] 40 / 4 / 11 / 55:  11%|██▋                     | 55/500 [02:42<21:55,  2.96s/it]textattack: Saving checkpoint under \"checkpoints\\1720197181493.ta.chkpt\" at 2024-07-06 00:33:01 after 55 attacks.\n"
     ]
    },
    {
     "name": "stdout",
     "output_type": "stream",
     "text": [
      "\n",
      "\n",
      "=============================================================================================================================\n",
      "=============================================================================================================================\n",
      "\n"
     ]
    },
    {
     "name": "stderr",
     "output_type": "stream",
     "text": [
      "[Succeeded / Failed / Skipped / Total] 44 / 4 / 12 / 60:  12%|██▉                     | 60/500 [02:50<20:47,  2.84s/it]textattack: Saving checkpoint under \"checkpoints\\1720197189053.ta.chkpt\" at 2024-07-06 00:33:09 after 60 attacks.\n",
      "[Succeeded / Failed / Skipped / Total] 44 / 4 / 12 / 60:  12%|██▉                     | 61/500 [02:50<20:25,  2.79s/it]"
     ]
    },
    {
     "name": "stdout",
     "output_type": "stream",
     "text": [
      "\n",
      "\n",
      "=============================================================================================================================\n",
      "=============================================================================================================================\n",
      "\n"
     ]
    },
    {
     "name": "stderr",
     "output_type": "stream",
     "text": [
      "[Succeeded / Failed / Skipped / Total] 48 / 4 / 13 / 65:  13%|███                     | 65/500 [02:54<19:30,  2.69s/it]textattack: Saving checkpoint under \"checkpoints\\1720197193870.ta.chkpt\" at 2024-07-06 00:33:13 after 65 attacks.\n"
     ]
    },
    {
     "name": "stdout",
     "output_type": "stream",
     "text": [
      "\n",
      "\n",
      "=============================================================================================================================\n",
      "=============================================================================================================================\n",
      "\n"
     ]
    },
    {
     "name": "stderr",
     "output_type": "stream",
     "text": [
      "[Succeeded / Failed / Skipped / Total] 51 / 5 / 14 / 70:  14%|███▎                    | 70/500 [03:04<18:54,  2.64s/it]textattack: Saving checkpoint under \"checkpoints\\1720197203581.ta.chkpt\" at 2024-07-06 00:33:23 after 70 attacks.\n"
     ]
    },
    {
     "name": "stdout",
     "output_type": "stream",
     "text": [
      "\n",
      "\n",
      "=============================================================================================================================\n",
      "=============================================================================================================================\n",
      "\n"
     ]
    },
    {
     "name": "stderr",
     "output_type": "stream",
     "text": [
      "[Succeeded / Failed / Skipped / Total] 55 / 5 / 15 / 75:  15%|███▌                    | 75/500 [03:09<17:53,  2.52s/it]textattack: Saving checkpoint under \"checkpoints\\1720197208272.ta.chkpt\" at 2024-07-06 00:33:28 after 75 attacks.\n"
     ]
    },
    {
     "name": "stdout",
     "output_type": "stream",
     "text": [
      "\n",
      "\n",
      "=============================================================================================================================\n",
      "=============================================================================================================================\n",
      "\n"
     ]
    },
    {
     "name": "stderr",
     "output_type": "stream",
     "text": [
      "[Succeeded / Failed / Skipped / Total] 57 / 6 / 17 / 80:  16%|███▊                    | 80/500 [03:20<17:32,  2.51s/it]textattack: Saving checkpoint under \"checkpoints\\1720197219467.ta.chkpt\" at 2024-07-06 00:33:39 after 80 attacks.\n"
     ]
    },
    {
     "name": "stdout",
     "output_type": "stream",
     "text": [
      "\n",
      "\n",
      "=============================================================================================================================\n",
      "=============================================================================================================================\n",
      "\n"
     ]
    },
    {
     "name": "stderr",
     "output_type": "stream",
     "text": [
      "[Succeeded / Failed / Skipped / Total] 60 / 6 / 19 / 85:  17%|████                    | 85/500 [03:23<16:34,  2.40s/it]textattack: Saving checkpoint under \"checkpoints\\1720197222557.ta.chkpt\" at 2024-07-06 00:33:42 after 85 attacks.\n"
     ]
    },
    {
     "name": "stdout",
     "output_type": "stream",
     "text": [
      "\n",
      "\n",
      "=============================================================================================================================\n",
      "=============================================================================================================================\n",
      "\n"
     ]
    },
    {
     "name": "stderr",
     "output_type": "stream",
     "text": [
      "[Succeeded / Failed / Skipped / Total] 65 / 6 / 19 / 90:  18%|████▎                   | 90/500 [03:33<16:11,  2.37s/it]textattack: Saving checkpoint under \"checkpoints\\1720197232122.ta.chkpt\" at 2024-07-06 00:33:52 after 90 attacks.\n"
     ]
    },
    {
     "name": "stdout",
     "output_type": "stream",
     "text": [
      "\n",
      "\n",
      "=============================================================================================================================\n",
      "=============================================================================================================================\n",
      "\n"
     ]
    },
    {
     "name": "stderr",
     "output_type": "stream",
     "text": [
      "[Succeeded / Failed / Skipped / Total] 68 / 6 / 21 / 95:  19%|████▌                   | 95/500 [03:39<15:34,  2.31s/it]textattack: Saving checkpoint under \"checkpoints\\1720197238017.ta.chkpt\" at 2024-07-06 00:33:58 after 95 attacks.\n"
     ]
    },
    {
     "name": "stdout",
     "output_type": "stream",
     "text": [
      "\n",
      "\n",
      "=============================================================================================================================\n",
      "=============================================================================================================================\n",
      "\n"
     ]
    },
    {
     "name": "stderr",
     "output_type": "stream",
     "text": [
      "[Succeeded / Failed / Skipped / Total] 73 / 6 / 21 / 100:  20%|████▍                 | 100/500 [03:48<15:13,  2.28s/it]textattack: Saving checkpoint under \"checkpoints\\1720197247245.ta.chkpt\" at 2024-07-06 00:34:07 after 100 attacks.\n",
      "[Succeeded / Failed / Skipped / Total] 73 / 6 / 22 / 101:  20%|████▍                 | 101/500 [03:48<15:02,  2.26s/it]"
     ]
    },
    {
     "name": "stdout",
     "output_type": "stream",
     "text": [
      "\n",
      "\n",
      "=============================================================================================================================\n",
      "=============================================================================================================================\n",
      "\n"
     ]
    },
    {
     "name": "stderr",
     "output_type": "stream",
     "text": [
      "[Succeeded / Failed / Skipped / Total] 77 / 6 / 22 / 105:  21%|████▌                 | 105/500 [03:57<14:54,  2.26s/it]textattack: Saving checkpoint under \"checkpoints\\1720197256704.ta.chkpt\" at 2024-07-06 00:34:16 after 105 attacks.\n"
     ]
    },
    {
     "name": "stdout",
     "output_type": "stream",
     "text": [
      "\n",
      "\n",
      "=============================================================================================================================\n",
      "=============================================================================================================================\n",
      "\n"
     ]
    },
    {
     "name": "stderr",
     "output_type": "stream",
     "text": [
      "[Succeeded / Failed / Skipped / Total] 80 / 6 / 24 / 110:  22%|████▊                 | 110/500 [04:02<14:20,  2.21s/it]textattack: Saving checkpoint under \"checkpoints\\1720197261493.ta.chkpt\" at 2024-07-06 00:34:21 after 110 attacks.\n",
      "[Succeeded / Failed / Skipped / Total] 80 / 6 / 25 / 111:  22%|████▉                 | 111/500 [04:02<14:10,  2.19s/it]"
     ]
    },
    {
     "name": "stdout",
     "output_type": "stream",
     "text": [
      "\n",
      "\n",
      "=============================================================================================================================\n",
      "=============================================================================================================================\n",
      "\n"
     ]
    },
    {
     "name": "stderr",
     "output_type": "stream",
     "text": [
      "[Succeeded / Failed / Skipped / Total] 84 / 6 / 25 / 115:  23%|█████                 | 115/500 [04:11<14:00,  2.18s/it]textattack: Saving checkpoint under \"checkpoints\\1720197270095.ta.chkpt\" at 2024-07-06 00:34:30 after 115 attacks.\n"
     ]
    },
    {
     "name": "stdout",
     "output_type": "stream",
     "text": [
      "\n",
      "\n",
      "=============================================================================================================================\n",
      "=============================================================================================================================\n",
      "\n"
     ]
    },
    {
     "name": "stderr",
     "output_type": "stream",
     "text": [
      "[Succeeded / Failed / Skipped / Total] 86 / 7 / 27 / 120:  24%|█████▎                | 120/500 [04:15<13:28,  2.13s/it]textattack: Saving checkpoint under \"checkpoints\\1720197274161.ta.chkpt\" at 2024-07-06 00:34:34 after 120 attacks.\n"
     ]
    },
    {
     "name": "stdout",
     "output_type": "stream",
     "text": [
      "\n",
      "\n",
      "=============================================================================================================================\n",
      "=============================================================================================================================\n",
      "\n"
     ]
    },
    {
     "name": "stderr",
     "output_type": "stream",
     "text": [
      "[Succeeded / Failed / Skipped / Total] 91 / 7 / 27 / 125:  25%|█████▌                | 125/500 [04:22<13:06,  2.10s/it]textattack: Saving checkpoint under \"checkpoints\\1720197280975.ta.chkpt\" at 2024-07-06 00:34:40 after 125 attacks.\n"
     ]
    },
    {
     "name": "stdout",
     "output_type": "stream",
     "text": [
      "\n",
      "\n",
      "=============================================================================================================================\n",
      "=============================================================================================================================\n",
      "\n"
     ]
    },
    {
     "name": "stderr",
     "output_type": "stream",
     "text": [
      "[Succeeded / Failed / Skipped / Total] 94 / 8 / 28 / 130:  26%|█████▋                | 130/500 [04:29<12:47,  2.08s/it]textattack: Saving checkpoint under \"checkpoints\\1720197288738.ta.chkpt\" at 2024-07-06 00:34:48 after 130 attacks.\n"
     ]
    },
    {
     "name": "stdout",
     "output_type": "stream",
     "text": [
      "\n",
      "\n",
      "=============================================================================================================================\n",
      "=============================================================================================================================\n",
      "\n"
     ]
    },
    {
     "name": "stderr",
     "output_type": "stream",
     "text": [
      "[Succeeded / Failed / Skipped / Total] 98 / 8 / 29 / 135:  27%|█████▉                | 135/500 [04:39<12:35,  2.07s/it]textattack: Saving checkpoint under \"checkpoints\\1720197298168.ta.chkpt\" at 2024-07-06 00:34:58 after 135 attacks.\n"
     ]
    },
    {
     "name": "stdout",
     "output_type": "stream",
     "text": [
      "\n",
      "\n",
      "=============================================================================================================================\n",
      "=============================================================================================================================\n",
      "\n"
     ]
    },
    {
     "name": "stderr",
     "output_type": "stream",
     "text": [
      "[Succeeded / Failed / Skipped / Total] 103 / 8 / 29 / 140:  28%|█████▉               | 140/500 [04:47<12:20,  2.06s/it]textattack: Saving checkpoint under \"checkpoints\\1720197306707.ta.chkpt\" at 2024-07-06 00:35:06 after 140 attacks.\n"
     ]
    },
    {
     "name": "stdout",
     "output_type": "stream",
     "text": [
      "\n",
      "\n",
      "=============================================================================================================================\n",
      "=============================================================================================================================\n",
      "\n"
     ]
    },
    {
     "name": "stderr",
     "output_type": "stream",
     "text": [
      "[Succeeded / Failed / Skipped / Total] 107 / 8 / 30 / 145:  29%|██████               | 145/500 [04:53<11:58,  2.02s/it]textattack: Saving checkpoint under \"checkpoints\\1720197312311.ta.chkpt\" at 2024-07-06 00:35:12 after 145 attacks.\n",
      "[Succeeded / Failed / Skipped / Total] 107 / 8 / 32 / 147:  29%|██████▏              | 147/500 [04:53<11:44,  2.00s/it]"
     ]
    },
    {
     "name": "stdout",
     "output_type": "stream",
     "text": [
      "\n",
      "\n",
      "=============================================================================================================================\n",
      "=============================================================================================================================\n",
      "\n"
     ]
    },
    {
     "name": "stderr",
     "output_type": "stream",
     "text": [
      "[Succeeded / Failed / Skipped / Total] 108 / 8 / 34 / 150:  30%|██████▎              | 150/500 [04:55<11:28,  1.97s/it]textattack: Saving checkpoint under \"checkpoints\\1720197314095.ta.chkpt\" at 2024-07-06 00:35:14 after 150 attacks.\n"
     ]
    },
    {
     "name": "stdout",
     "output_type": "stream",
     "text": [
      "\n",
      "\n",
      "=============================================================================================================================\n",
      "=============================================================================================================================\n",
      "\n"
     ]
    },
    {
     "name": "stderr",
     "output_type": "stream",
     "text": [
      "[Succeeded / Failed / Skipped / Total] 111 / 8 / 36 / 155:  31%|██████▌              | 155/500 [05:00<11:09,  1.94s/it]textattack: Saving checkpoint under \"checkpoints\\1720197319774.ta.chkpt\" at 2024-07-06 00:35:19 after 155 attacks.\n"
     ]
    },
    {
     "name": "stdout",
     "output_type": "stream",
     "text": [
      "\n",
      "\n",
      "=============================================================================================================================\n",
      "=============================================================================================================================\n",
      "\n"
     ]
    },
    {
     "name": "stderr",
     "output_type": "stream",
     "text": [
      "[Succeeded / Failed / Skipped / Total] 115 / 8 / 37 / 160:  32%|██████▋              | 160/500 [05:11<11:02,  1.95s/it]textattack: Saving checkpoint under \"checkpoints\\1720197330698.ta.chkpt\" at 2024-07-06 00:35:30 after 160 attacks.\n",
      "[Succeeded / Failed / Skipped / Total] 115 / 8 / 38 / 161:  32%|██████▊              | 161/500 [05:11<10:56,  1.94s/it]"
     ]
    },
    {
     "name": "stdout",
     "output_type": "stream",
     "text": [
      "\n",
      "\n",
      "=============================================================================================================================\n",
      "=============================================================================================================================\n",
      "\n"
     ]
    },
    {
     "name": "stderr",
     "output_type": "stream",
     "text": [
      "[Succeeded / Failed / Skipped / Total] 118 / 8 / 39 / 165:  33%|██████▉              | 165/500 [05:16<10:42,  1.92s/it]textattack: Saving checkpoint under \"checkpoints\\1720197335281.ta.chkpt\" at 2024-07-06 00:35:35 after 165 attacks.\n",
      "[Succeeded / Failed / Skipped / Total] 118 / 8 / 40 / 166:  33%|██████▉              | 166/500 [05:16<10:36,  1.91s/it]"
     ]
    },
    {
     "name": "stdout",
     "output_type": "stream",
     "text": [
      "\n",
      "\n",
      "=============================================================================================================================\n",
      "=============================================================================================================================\n",
      "\n"
     ]
    },
    {
     "name": "stderr",
     "output_type": "stream",
     "text": [
      "[Succeeded / Failed / Skipped / Total] 122 / 8 / 40 / 170:  34%|███████▏             | 170/500 [05:27<10:35,  1.93s/it]textattack: Saving checkpoint under \"checkpoints\\1720197346510.ta.chkpt\" at 2024-07-06 00:35:46 after 170 attacks.\n"
     ]
    },
    {
     "name": "stdout",
     "output_type": "stream",
     "text": [
      "\n",
      "\n",
      "=============================================================================================================================\n",
      "=============================================================================================================================\n",
      "\n"
     ]
    },
    {
     "name": "stderr",
     "output_type": "stream",
     "text": [
      "[Succeeded / Failed / Skipped / Total] 126 / 9 / 40 / 175:  35%|███████▎             | 175/500 [05:42<10:35,  1.96s/it]textattack: Saving checkpoint under \"checkpoints\\1720197361100.ta.chkpt\" at 2024-07-06 00:36:01 after 175 attacks.\n"
     ]
    },
    {
     "name": "stdout",
     "output_type": "stream",
     "text": [
      "\n",
      "\n",
      "=============================================================================================================================\n",
      "=============================================================================================================================\n",
      "\n"
     ]
    },
    {
     "name": "stderr",
     "output_type": "stream",
     "text": [
      "[Succeeded / Failed / Skipped / Total] 128 / 10 / 42 / 180:  36%|███████▏            | 180/500 [05:48<10:19,  1.94s/it]textattack: Saving checkpoint under \"checkpoints\\1720197367415.ta.chkpt\" at 2024-07-06 00:36:07 after 180 attacks.\n"
     ]
    },
    {
     "name": "stdout",
     "output_type": "stream",
     "text": [
      "\n",
      "\n",
      "=============================================================================================================================\n",
      "=============================================================================================================================\n",
      "\n"
     ]
    },
    {
     "name": "stderr",
     "output_type": "stream",
     "text": [
      "[Succeeded / Failed / Skipped / Total] 132 / 10 / 43 / 185:  37%|███████▍            | 185/500 [05:52<10:00,  1.90s/it]textattack: Saving checkpoint under \"checkpoints\\1720197371297.ta.chkpt\" at 2024-07-06 00:36:11 after 185 attacks.\n"
     ]
    },
    {
     "name": "stdout",
     "output_type": "stream",
     "text": [
      "\n",
      "\n",
      "=============================================================================================================================\n",
      "=============================================================================================================================\n",
      "\n"
     ]
    },
    {
     "name": "stderr",
     "output_type": "stream",
     "text": [
      "[Succeeded / Failed / Skipped / Total] 136 / 11 / 43 / 190:  38%|███████▌            | 190/500 [06:06<09:57,  1.93s/it]textattack: Saving checkpoint under \"checkpoints\\1720197385217.ta.chkpt\" at 2024-07-06 00:36:25 after 190 attacks.\n"
     ]
    },
    {
     "name": "stdout",
     "output_type": "stream",
     "text": [
      "\n",
      "\n",
      "=============================================================================================================================\n",
      "=============================================================================================================================\n",
      "\n"
     ]
    },
    {
     "name": "stderr",
     "output_type": "stream",
     "text": [
      "[Succeeded / Failed / Skipped / Total] 140 / 12 / 43 / 195:  39%|███████▊            | 195/500 [06:19<09:53,  1.95s/it]textattack: Saving checkpoint under \"checkpoints\\1720197398338.ta.chkpt\" at 2024-07-06 00:36:38 after 195 attacks.\n"
     ]
    },
    {
     "name": "stdout",
     "output_type": "stream",
     "text": [
      "\n",
      "\n",
      "=============================================================================================================================\n",
      "=============================================================================================================================\n",
      "\n"
     ]
    },
    {
     "name": "stderr",
     "output_type": "stream",
     "text": [
      "[Succeeded / Failed / Skipped / Total] 144 / 12 / 44 / 200:  40%|████████            | 200/500 [06:31<09:47,  1.96s/it]textattack: Saving checkpoint under \"checkpoints\\1720197410758.ta.chkpt\" at 2024-07-06 00:36:50 after 200 attacks.\n",
      "[Succeeded / Failed / Skipped / Total] 144 / 12 / 45 / 201:  40%|████████            | 201/500 [06:31<09:43,  1.95s/it]"
     ]
    },
    {
     "name": "stdout",
     "output_type": "stream",
     "text": [
      "\n",
      "\n",
      "=============================================================================================================================\n",
      "=============================================================================================================================\n",
      "\n"
     ]
    },
    {
     "name": "stderr",
     "output_type": "stream",
     "text": [
      "[Succeeded / Failed / Skipped / Total] 147 / 12 / 46 / 205:  41%|████████▏           | 205/500 [06:35<09:29,  1.93s/it]textattack: Saving checkpoint under \"checkpoints\\1720197414609.ta.chkpt\" at 2024-07-06 00:36:54 after 205 attacks.\n",
      "[Succeeded / Failed / Skipped / Total] 147 / 12 / 47 / 206:  41%|████████▏           | 206/500 [06:35<09:24,  1.92s/it]"
     ]
    },
    {
     "name": "stdout",
     "output_type": "stream",
     "text": [
      "\n",
      "\n",
      "=============================================================================================================================\n",
      "=============================================================================================================================\n",
      "\n"
     ]
    },
    {
     "name": "stderr",
     "output_type": "stream",
     "text": [
      "[Succeeded / Failed / Skipped / Total] 151 / 12 / 47 / 210:  42%|████████▍           | 210/500 [06:40<09:13,  1.91s/it]textattack: Saving checkpoint under \"checkpoints\\1720197419561.ta.chkpt\" at 2024-07-06 00:36:59 after 210 attacks.\n"
     ]
    },
    {
     "name": "stdout",
     "output_type": "stream",
     "text": [
      "\n",
      "\n",
      "=============================================================================================================================\n",
      "=============================================================================================================================\n",
      "\n"
     ]
    },
    {
     "name": "stderr",
     "output_type": "stream",
     "text": [
      "[Succeeded / Failed / Skipped / Total] 153 / 14 / 48 / 215:  43%|████████▌           | 215/500 [06:50<09:04,  1.91s/it]textattack: Saving checkpoint under \"checkpoints\\1720197429867.ta.chkpt\" at 2024-07-06 00:37:09 after 215 attacks.\n"
     ]
    },
    {
     "name": "stdout",
     "output_type": "stream",
     "text": [
      "\n",
      "\n",
      "=============================================================================================================================\n",
      "=============================================================================================================================\n",
      "\n"
     ]
    },
    {
     "name": "stderr",
     "output_type": "stream",
     "text": [
      "[Succeeded / Failed / Skipped / Total] 157 / 15 / 48 / 220:  44%|████████▊           | 220/500 [06:58<08:53,  1.90s/it]textattack: Saving checkpoint under \"checkpoints\\1720197437764.ta.chkpt\" at 2024-07-06 00:37:17 after 220 attacks.\n"
     ]
    },
    {
     "name": "stdout",
     "output_type": "stream",
     "text": [
      "\n",
      "\n",
      "=============================================================================================================================\n",
      "=============================================================================================================================\n",
      "\n"
     ]
    },
    {
     "name": "stderr",
     "output_type": "stream",
     "text": [
      "[Succeeded / Failed / Skipped / Total] 160 / 15 / 50 / 225:  45%|█████████           | 225/500 [07:10<08:45,  1.91s/it]textattack: Saving checkpoint under \"checkpoints\\1720197449076.ta.chkpt\" at 2024-07-06 00:37:29 after 225 attacks.\n"
     ]
    },
    {
     "name": "stdout",
     "output_type": "stream",
     "text": [
      "\n",
      "\n",
      "=============================================================================================================================\n",
      "=============================================================================================================================\n",
      "\n"
     ]
    },
    {
     "name": "stderr",
     "output_type": "stream",
     "text": [
      "[Succeeded / Failed / Skipped / Total] 165 / 15 / 50 / 230:  46%|█████████▏          | 230/500 [07:18<08:34,  1.91s/it]textattack: Saving checkpoint under \"checkpoints\\1720197457534.ta.chkpt\" at 2024-07-06 00:37:37 after 230 attacks.\n"
     ]
    },
    {
     "name": "stdout",
     "output_type": "stream",
     "text": [
      "\n",
      "\n",
      "=============================================================================================================================\n",
      "=============================================================================================================================\n",
      "\n"
     ]
    },
    {
     "name": "stderr",
     "output_type": "stream",
     "text": [
      "[Succeeded / Failed / Skipped / Total] 168 / 16 / 51 / 235:  47%|█████████▍          | 235/500 [07:29<08:26,  1.91s/it]textattack: Saving checkpoint under \"checkpoints\\1720197468309.ta.chkpt\" at 2024-07-06 00:37:48 after 235 attacks.\n",
      "[Succeeded / Failed / Skipped / Total] 168 / 16 / 52 / 236:  47%|█████████▍          | 236/500 [07:29<08:22,  1.90s/it]"
     ]
    },
    {
     "name": "stdout",
     "output_type": "stream",
     "text": [
      "\n",
      "\n",
      "=============================================================================================================================\n",
      "=============================================================================================================================\n",
      "\n"
     ]
    },
    {
     "name": "stderr",
     "output_type": "stream",
     "text": [
      "[Succeeded / Failed / Skipped / Total] 171 / 17 / 52 / 240:  48%|█████████▌          | 240/500 [07:36<08:14,  1.90s/it]textattack: Saving checkpoint under \"checkpoints\\1720197475285.ta.chkpt\" at 2024-07-06 00:37:55 after 240 attacks.\n"
     ]
    },
    {
     "name": "stdout",
     "output_type": "stream",
     "text": [
      "\n",
      "\n",
      "=============================================================================================================================\n",
      "=============================================================================================================================\n",
      "\n"
     ]
    },
    {
     "name": "stderr",
     "output_type": "stream",
     "text": [
      "[Succeeded / Failed / Skipped / Total] 175 / 18 / 52 / 245:  49%|█████████▊          | 245/500 [07:47<08:06,  1.91s/it]textattack: Saving checkpoint under \"checkpoints\\1720197486606.ta.chkpt\" at 2024-07-06 00:38:06 after 245 attacks.\n"
     ]
    },
    {
     "name": "stdout",
     "output_type": "stream",
     "text": [
      "\n",
      "\n",
      "=============================================================================================================================\n",
      "=============================================================================================================================\n",
      "\n"
     ]
    },
    {
     "name": "stderr",
     "output_type": "stream",
     "text": [
      "[Succeeded / Failed / Skipped / Total] 179 / 18 / 53 / 250:  50%|██████████          | 250/500 [07:53<07:53,  1.89s/it]textattack: Saving checkpoint under \"checkpoints\\1720197492222.ta.chkpt\" at 2024-07-06 00:38:12 after 250 attacks.\n",
      "[Succeeded / Failed / Skipped / Total] 179 / 18 / 54 / 251:  50%|██████████          | 251/500 [07:53<07:49,  1.89s/it]"
     ]
    },
    {
     "name": "stdout",
     "output_type": "stream",
     "text": [
      "\n",
      "\n",
      "=============================================================================================================================\n",
      "=============================================================================================================================\n",
      "\n"
     ]
    },
    {
     "name": "stderr",
     "output_type": "stream",
     "text": [
      "[Succeeded / Failed / Skipped / Total] 182 / 18 / 55 / 255:  51%|██████████▏         | 255/500 [07:57<07:38,  1.87s/it]textattack: Saving checkpoint under \"checkpoints\\1720197496319.ta.chkpt\" at 2024-07-06 00:38:16 after 255 attacks.\n"
     ]
    },
    {
     "name": "stdout",
     "output_type": "stream",
     "text": [
      "\n",
      "\n",
      "=============================================================================================================================\n",
      "=============================================================================================================================\n",
      "\n"
     ]
    },
    {
     "name": "stderr",
     "output_type": "stream",
     "text": [
      "[Succeeded / Failed / Skipped / Total] 187 / 18 / 55 / 260:  52%|██████████▍         | 260/500 [08:03<07:26,  1.86s/it]textattack: Saving checkpoint under \"checkpoints\\1720197502559.ta.chkpt\" at 2024-07-06 00:38:22 after 260 attacks.\n"
     ]
    },
    {
     "name": "stdout",
     "output_type": "stream",
     "text": [
      "\n",
      "\n",
      "=============================================================================================================================\n",
      "=============================================================================================================================\n",
      "\n"
     ]
    },
    {
     "name": "stderr",
     "output_type": "stream",
     "text": [
      "[Succeeded / Failed / Skipped / Total] 191 / 18 / 56 / 265:  53%|██████████▌         | 265/500 [08:12<07:16,  1.86s/it]textattack: Saving checkpoint under \"checkpoints\\1720197511482.ta.chkpt\" at 2024-07-06 00:38:31 after 265 attacks.\n"
     ]
    },
    {
     "name": "stdout",
     "output_type": "stream",
     "text": [
      "\n",
      "\n",
      "=============================================================================================================================\n",
      "=============================================================================================================================\n",
      "\n"
     ]
    },
    {
     "name": "stderr",
     "output_type": "stream",
     "text": [
      "[Succeeded / Failed / Skipped / Total] 194 / 18 / 58 / 270:  54%|██████████▊         | 270/500 [08:22<07:08,  1.86s/it]textattack: Saving checkpoint under \"checkpoints\\1720197521383.ta.chkpt\" at 2024-07-06 00:38:41 after 270 attacks.\n"
     ]
    },
    {
     "name": "stdout",
     "output_type": "stream",
     "text": [
      "\n",
      "\n",
      "=============================================================================================================================\n",
      "=============================================================================================================================\n",
      "\n"
     ]
    },
    {
     "name": "stderr",
     "output_type": "stream",
     "text": [
      "[Succeeded / Failed / Skipped / Total] 194 / 19 / 62 / 275:  55%|███████████         | 275/500 [08:26<06:54,  1.84s/it]textattack: Saving checkpoint under \"checkpoints\\1720197525409.ta.chkpt\" at 2024-07-06 00:38:45 after 275 attacks.\n"
     ]
    },
    {
     "name": "stdout",
     "output_type": "stream",
     "text": [
      "\n",
      "\n",
      "=============================================================================================================================\n",
      "=============================================================================================================================\n",
      "\n"
     ]
    },
    {
     "name": "stderr",
     "output_type": "stream",
     "text": [
      "[Succeeded / Failed / Skipped / Total] 196 / 20 / 64 / 280:  56%|███████████▏        | 280/500 [08:31<06:42,  1.83s/it]textattack: Saving checkpoint under \"checkpoints\\1720197530691.ta.chkpt\" at 2024-07-06 00:38:50 after 280 attacks.\n"
     ]
    },
    {
     "name": "stdout",
     "output_type": "stream",
     "text": [
      "\n",
      "\n",
      "=============================================================================================================================\n",
      "=============================================================================================================================\n",
      "\n"
     ]
    },
    {
     "name": "stderr",
     "output_type": "stream",
     "text": [
      "[Succeeded / Failed / Skipped / Total] 198 / 21 / 66 / 285:  57%|███████████▍        | 285/500 [08:38<06:30,  1.82s/it]textattack: Saving checkpoint under \"checkpoints\\1720197537164.ta.chkpt\" at 2024-07-06 00:38:57 after 285 attacks.\n",
      "[Succeeded / Failed / Skipped / Total] 198 / 21 / 67 / 286:  57%|███████████▍        | 287/500 [08:38<06:24,  1.81s/it]"
     ]
    },
    {
     "name": "stdout",
     "output_type": "stream",
     "text": [
      "\n",
      "\n",
      "=============================================================================================================================\n",
      "=============================================================================================================================\n",
      "\n"
     ]
    },
    {
     "name": "stderr",
     "output_type": "stream",
     "text": [
      "[Succeeded / Failed / Skipped / Total] 199 / 22 / 69 / 290:  58%|███████████▌        | 290/500 [08:46<06:20,  1.81s/it]textattack: Saving checkpoint under \"checkpoints\\1720197545037.ta.chkpt\" at 2024-07-06 00:39:05 after 290 attacks.\n"
     ]
    },
    {
     "name": "stdout",
     "output_type": "stream",
     "text": [
      "\n",
      "\n",
      "=============================================================================================================================\n",
      "=============================================================================================================================\n",
      "\n"
     ]
    },
    {
     "name": "stderr",
     "output_type": "stream",
     "text": [
      "[Succeeded / Failed / Skipped / Total] 201 / 23 / 71 / 295:  59%|███████████▊        | 295/500 [08:51<06:09,  1.80s/it]textattack: Saving checkpoint under \"checkpoints\\1720197550010.ta.chkpt\" at 2024-07-06 00:39:10 after 295 attacks.\n"
     ]
    },
    {
     "name": "stdout",
     "output_type": "stream",
     "text": [
      "\n",
      "\n",
      "=============================================================================================================================\n",
      "=============================================================================================================================\n",
      "\n"
     ]
    },
    {
     "name": "stderr",
     "output_type": "stream",
     "text": [
      "[Succeeded / Failed / Skipped / Total] 205 / 23 / 72 / 300:  60%|████████████        | 300/500 [08:58<05:58,  1.79s/it]textattack: Saving checkpoint under \"checkpoints\\1720197557061.ta.chkpt\" at 2024-07-06 00:39:17 after 300 attacks.\n"
     ]
    },
    {
     "name": "stdout",
     "output_type": "stream",
     "text": [
      "\n",
      "\n",
      "=============================================================================================================================\n",
      "=============================================================================================================================\n",
      "\n"
     ]
    },
    {
     "name": "stderr",
     "output_type": "stream",
     "text": [
      "[Succeeded / Failed / Skipped / Total] 209 / 23 / 73 / 305:  61%|████████████▏       | 305/500 [09:07<05:50,  1.80s/it]textattack: Saving checkpoint under \"checkpoints\\1720197566867.ta.chkpt\" at 2024-07-06 00:39:26 after 305 attacks.\n"
     ]
    },
    {
     "name": "stdout",
     "output_type": "stream",
     "text": [
      "\n",
      "\n",
      "=============================================================================================================================\n",
      "=============================================================================================================================\n",
      "\n"
     ]
    },
    {
     "name": "stderr",
     "output_type": "stream",
     "text": [
      "[Succeeded / Failed / Skipped / Total] 212 / 23 / 75 / 310:  62%|████████████▍       | 310/500 [09:14<05:39,  1.79s/it]textattack: Saving checkpoint under \"checkpoints\\1720197573364.ta.chkpt\" at 2024-07-06 00:39:33 after 310 attacks.\n"
     ]
    },
    {
     "name": "stdout",
     "output_type": "stream",
     "text": [
      "\n",
      "\n",
      "=============================================================================================================================\n",
      "=============================================================================================================================\n",
      "\n"
     ]
    },
    {
     "name": "stderr",
     "output_type": "stream",
     "text": [
      "[Succeeded / Failed / Skipped / Total] 215 / 23 / 77 / 315:  63%|████████████▌       | 315/500 [09:18<05:28,  1.77s/it]textattack: Saving checkpoint under \"checkpoints\\1720197577451.ta.chkpt\" at 2024-07-06 00:39:37 after 315 attacks.\n"
     ]
    },
    {
     "name": "stdout",
     "output_type": "stream",
     "text": [
      "\n",
      "\n",
      "=============================================================================================================================\n",
      "=============================================================================================================================\n",
      "\n"
     ]
    },
    {
     "name": "stderr",
     "output_type": "stream",
     "text": [
      "[Succeeded / Failed / Skipped / Total] 219 / 23 / 78 / 320:  64%|████████████▊       | 320/500 [09:33<05:22,  1.79s/it]textattack: Saving checkpoint under \"checkpoints\\1720197592487.ta.chkpt\" at 2024-07-06 00:39:52 after 320 attacks.\n"
     ]
    },
    {
     "name": "stdout",
     "output_type": "stream",
     "text": [
      "\n",
      "\n",
      "=============================================================================================================================\n",
      "=============================================================================================================================\n",
      "\n"
     ]
    },
    {
     "name": "stderr",
     "output_type": "stream",
     "text": [
      "[Succeeded / Failed / Skipped / Total] 224 / 23 / 78 / 325:  65%|█████████████       | 325/500 [09:49<05:17,  1.81s/it]textattack: Saving checkpoint under \"checkpoints\\1720197607954.ta.chkpt\" at 2024-07-06 00:40:07 after 325 attacks.\n"
     ]
    },
    {
     "name": "stdout",
     "output_type": "stream",
     "text": [
      "\n",
      "\n",
      "=============================================================================================================================\n",
      "=============================================================================================================================\n",
      "\n"
     ]
    },
    {
     "name": "stderr",
     "output_type": "stream",
     "text": [
      "[Succeeded / Failed / Skipped / Total] 229 / 23 / 78 / 330:  66%|█████████████▏      | 330/500 [09:53<05:05,  1.80s/it]textattack: Saving checkpoint under \"checkpoints\\1720197612253.ta.chkpt\" at 2024-07-06 00:40:12 after 330 attacks.\n"
     ]
    },
    {
     "name": "stdout",
     "output_type": "stream",
     "text": [
      "\n",
      "\n",
      "=============================================================================================================================\n",
      "=============================================================================================================================\n",
      "\n"
     ]
    },
    {
     "name": "stderr",
     "output_type": "stream",
     "text": [
      "[Succeeded / Failed / Skipped / Total] 232 / 25 / 78 / 335:  67%|█████████████▍      | 335/500 [10:11<05:01,  1.83s/it]textattack: Saving checkpoint under \"checkpoints\\1720197630488.ta.chkpt\" at 2024-07-06 00:40:30 after 335 attacks.\n",
      "[Succeeded / Failed / Skipped / Total] 232 / 25 / 79 / 336:  67%|█████████████▍      | 336/500 [10:11<04:58,  1.82s/it]"
     ]
    },
    {
     "name": "stdout",
     "output_type": "stream",
     "text": [
      "\n",
      "\n",
      "=============================================================================================================================\n",
      "=============================================================================================================================\n",
      "\n"
     ]
    },
    {
     "name": "stderr",
     "output_type": "stream",
     "text": [
      "[Succeeded / Failed / Skipped / Total] 235 / 25 / 80 / 340:  68%|█████████████▌      | 340/500 [10:14<04:49,  1.81s/it]textattack: Saving checkpoint under \"checkpoints\\1720197633819.ta.chkpt\" at 2024-07-06 00:40:33 after 340 attacks.\n"
     ]
    },
    {
     "name": "stdout",
     "output_type": "stream",
     "text": [
      "\n",
      "\n",
      "=============================================================================================================================\n",
      "=============================================================================================================================\n",
      "\n"
     ]
    },
    {
     "name": "stderr",
     "output_type": "stream",
     "text": [
      "[Succeeded / Failed / Skipped / Total] 240 / 25 / 80 / 345:  69%|█████████████▊      | 345/500 [10:21<04:39,  1.80s/it]textattack: Saving checkpoint under \"checkpoints\\1720197640486.ta.chkpt\" at 2024-07-06 00:40:40 after 345 attacks.\n"
     ]
    },
    {
     "name": "stdout",
     "output_type": "stream",
     "text": [
      "\n",
      "\n",
      "=============================================================================================================================\n",
      "=============================================================================================================================\n",
      "\n"
     ]
    },
    {
     "name": "stderr",
     "output_type": "stream",
     "text": [
      "[Succeeded / Failed / Skipped / Total] 242 / 27 / 81 / 350:  70%|██████████████      | 350/500 [10:34<04:31,  1.81s/it]textattack: Saving checkpoint under \"checkpoints\\1720197653526.ta.chkpt\" at 2024-07-06 00:40:53 after 350 attacks.\n"
     ]
    },
    {
     "name": "stdout",
     "output_type": "stream",
     "text": [
      "\n",
      "\n",
      "=============================================================================================================================\n",
      "=============================================================================================================================\n",
      "\n"
     ]
    },
    {
     "name": "stderr",
     "output_type": "stream",
     "text": [
      "[Succeeded / Failed / Skipped / Total] 246 / 28 / 81 / 355:  71%|██████████████▏     | 355/500 [10:49<04:25,  1.83s/it]textattack: Saving checkpoint under \"checkpoints\\1720197667945.ta.chkpt\" at 2024-07-06 00:41:07 after 355 attacks.\n"
     ]
    },
    {
     "name": "stdout",
     "output_type": "stream",
     "text": [
      "\n",
      "\n",
      "=============================================================================================================================\n",
      "=============================================================================================================================\n",
      "\n"
     ]
    },
    {
     "name": "stderr",
     "output_type": "stream",
     "text": [
      "[Succeeded / Failed / Skipped / Total] 248 / 30 / 82 / 360:  72%|██████████████▍     | 360/500 [11:00<04:16,  1.83s/it]textattack: Saving checkpoint under \"checkpoints\\1720197679050.ta.chkpt\" at 2024-07-06 00:41:19 after 360 attacks.\n"
     ]
    },
    {
     "name": "stdout",
     "output_type": "stream",
     "text": [
      "\n",
      "\n",
      "=============================================================================================================================\n",
      "=============================================================================================================================\n",
      "\n"
     ]
    },
    {
     "name": "stderr",
     "output_type": "stream",
     "text": [
      "[Succeeded / Failed / Skipped / Total] 253 / 30 / 82 / 365:  73%|██████████████▌     | 365/500 [11:08<04:07,  1.83s/it]textattack: Saving checkpoint under \"checkpoints\\1720197686946.ta.chkpt\" at 2024-07-06 00:41:26 after 365 attacks.\n",
      "[Succeeded / Failed / Skipped / Total] 253 / 30 / 83 / 366:  73%|██████████████▋     | 366/500 [11:08<04:04,  1.83s/it]"
     ]
    },
    {
     "name": "stdout",
     "output_type": "stream",
     "text": [
      "\n",
      "\n",
      "=============================================================================================================================\n",
      "=============================================================================================================================\n",
      "\n"
     ]
    },
    {
     "name": "stderr",
     "output_type": "stream",
     "text": [
      "[Succeeded / Failed / Skipped / Total] 257 / 30 / 83 / 370:  74%|██████████████▊     | 370/500 [11:12<03:56,  1.82s/it]textattack: Saving checkpoint under \"checkpoints\\1720197691858.ta.chkpt\" at 2024-07-06 00:41:31 after 370 attacks.\n"
     ]
    },
    {
     "name": "stdout",
     "output_type": "stream",
     "text": [
      "\n",
      "\n",
      "=============================================================================================================================\n",
      "=============================================================================================================================\n",
      "\n"
     ]
    },
    {
     "name": "stderr",
     "output_type": "stream",
     "text": [
      "[Succeeded / Failed / Skipped / Total] 262 / 30 / 83 / 375:  75%|███████████████     | 375/500 [11:26<03:48,  1.83s/it]textattack: Saving checkpoint under \"checkpoints\\1720197705167.ta.chkpt\" at 2024-07-06 00:41:45 after 375 attacks.\n"
     ]
    },
    {
     "name": "stdout",
     "output_type": "stream",
     "text": [
      "\n",
      "\n",
      "=============================================================================================================================\n",
      "=============================================================================================================================\n",
      "\n"
     ]
    },
    {
     "name": "stderr",
     "output_type": "stream",
     "text": [
      "[Succeeded / Failed / Skipped / Total] 266 / 30 / 84 / 380:  76%|███████████████▏    | 380/500 [11:31<03:38,  1.82s/it]textattack: Saving checkpoint under \"checkpoints\\1720197710895.ta.chkpt\" at 2024-07-06 00:41:50 after 380 attacks.\n"
     ]
    },
    {
     "name": "stdout",
     "output_type": "stream",
     "text": [
      "\n",
      "\n",
      "=============================================================================================================================\n",
      "=============================================================================================================================\n",
      "\n"
     ]
    },
    {
     "name": "stderr",
     "output_type": "stream",
     "text": [
      "[Succeeded / Failed / Skipped / Total] 270 / 30 / 85 / 385:  77%|███████████████▍    | 385/500 [11:40<03:29,  1.82s/it]textattack: Saving checkpoint under \"checkpoints\\1720197718984.ta.chkpt\" at 2024-07-06 00:41:58 after 385 attacks.\n"
     ]
    },
    {
     "name": "stdout",
     "output_type": "stream",
     "text": [
      "\n",
      "\n",
      "=============================================================================================================================\n",
      "=============================================================================================================================\n",
      "\n"
     ]
    },
    {
     "name": "stderr",
     "output_type": "stream",
     "text": [
      "[Succeeded / Failed / Skipped / Total] 274 / 30 / 86 / 390:  78%|███████████████▌    | 390/500 [11:45<03:19,  1.81s/it]textattack: Saving checkpoint under \"checkpoints\\1720197724654.ta.chkpt\" at 2024-07-06 00:42:04 after 390 attacks.\n"
     ]
    },
    {
     "name": "stdout",
     "output_type": "stream",
     "text": [
      "\n",
      "\n",
      "=============================================================================================================================\n",
      "=============================================================================================================================\n",
      "\n"
     ]
    },
    {
     "name": "stderr",
     "output_type": "stream",
     "text": [
      "[Succeeded / Failed / Skipped / Total] 278 / 31 / 86 / 395:  79%|███████████████▊    | 395/500 [12:02<03:12,  1.83s/it]textattack: Saving checkpoint under \"checkpoints\\1720197741654.ta.chkpt\" at 2024-07-06 00:42:21 after 395 attacks.\n"
     ]
    },
    {
     "name": "stdout",
     "output_type": "stream",
     "text": [
      "\n",
      "\n",
      "=============================================================================================================================\n",
      "=============================================================================================================================\n",
      "\n"
     ]
    },
    {
     "name": "stderr",
     "output_type": "stream",
     "text": [
      "[Succeeded / Failed / Skipped / Total] 283 / 31 / 86 / 400:  80%|████████████████    | 400/500 [12:13<03:03,  1.83s/it]textattack: Saving checkpoint under \"checkpoints\\1720197752710.ta.chkpt\" at 2024-07-06 00:42:32 after 400 attacks.\n"
     ]
    },
    {
     "name": "stdout",
     "output_type": "stream",
     "text": [
      "\n",
      "\n",
      "=============================================================================================================================\n",
      "=============================================================================================================================\n",
      "\n"
     ]
    },
    {
     "name": "stderr",
     "output_type": "stream",
     "text": [
      "[Succeeded / Failed / Skipped / Total] 286 / 32 / 87 / 405:  81%|████████████████▏   | 405/500 [12:26<02:55,  1.84s/it]textattack: Saving checkpoint under \"checkpoints\\1720197765175.ta.chkpt\" at 2024-07-06 00:42:45 after 405 attacks.\n"
     ]
    },
    {
     "name": "stdout",
     "output_type": "stream",
     "text": [
      "\n",
      "\n",
      "=============================================================================================================================\n",
      "=============================================================================================================================\n",
      "\n"
     ]
    },
    {
     "name": "stderr",
     "output_type": "stream",
     "text": [
      "[Succeeded / Failed / Skipped / Total] 291 / 32 / 87 / 410:  82%|████████████████▍   | 410/500 [12:31<02:44,  1.83s/it]textattack: Saving checkpoint under \"checkpoints\\1720197770304.ta.chkpt\" at 2024-07-06 00:42:50 after 410 attacks.\n"
     ]
    },
    {
     "name": "stdout",
     "output_type": "stream",
     "text": [
      "\n",
      "\n",
      "=============================================================================================================================\n",
      "=============================================================================================================================\n",
      "\n"
     ]
    },
    {
     "name": "stderr",
     "output_type": "stream",
     "text": [
      "[Succeeded / Failed / Skipped / Total] 293 / 32 / 90 / 415:  83%|████████████████▌   | 415/500 [12:33<02:34,  1.82s/it]textattack: Saving checkpoint under \"checkpoints\\1720197772577.ta.chkpt\" at 2024-07-06 00:42:52 after 415 attacks.\n"
     ]
    },
    {
     "name": "stdout",
     "output_type": "stream",
     "text": [
      "\n",
      "\n",
      "=============================================================================================================================\n",
      "=============================================================================================================================\n",
      "\n"
     ]
    },
    {
     "name": "stderr",
     "output_type": "stream",
     "text": [
      "[Succeeded / Failed / Skipped / Total] 297 / 33 / 90 / 420:  84%|████████████████▊   | 420/500 [12:42<02:25,  1.81s/it]textattack: Saving checkpoint under \"checkpoints\\1720197780984.ta.chkpt\" at 2024-07-06 00:43:00 after 420 attacks.\n"
     ]
    },
    {
     "name": "stdout",
     "output_type": "stream",
     "text": [
      "\n",
      "\n",
      "=============================================================================================================================\n",
      "=============================================================================================================================\n",
      "\n"
     ]
    },
    {
     "name": "stderr",
     "output_type": "stream",
     "text": [
      "[Succeeded / Failed / Skipped / Total] 301 / 33 / 91 / 425:  85%|█████████████████   | 425/500 [12:46<02:15,  1.80s/it]textattack: Saving checkpoint under \"checkpoints\\1720197785675.ta.chkpt\" at 2024-07-06 00:43:05 after 425 attacks.\n"
     ]
    },
    {
     "name": "stdout",
     "output_type": "stream",
     "text": [
      "\n",
      "\n",
      "=============================================================================================================================\n",
      "=============================================================================================================================\n",
      "\n"
     ]
    },
    {
     "name": "stderr",
     "output_type": "stream",
     "text": [
      "[Succeeded / Failed / Skipped / Total] 306 / 33 / 91 / 430:  86%|█████████████████▏  | 430/500 [12:53<02:05,  1.80s/it]textattack: Saving checkpoint under \"checkpoints\\1720197792888.ta.chkpt\" at 2024-07-06 00:43:12 after 430 attacks.\n"
     ]
    },
    {
     "name": "stdout",
     "output_type": "stream",
     "text": [
      "\n",
      "\n",
      "=============================================================================================================================\n",
      "=============================================================================================================================\n",
      "\n"
     ]
    },
    {
     "name": "stderr",
     "output_type": "stream",
     "text": [
      "[Succeeded / Failed / Skipped / Total] 310 / 33 / 92 / 435:  87%|█████████████████▍  | 435/500 [12:59<01:56,  1.79s/it]textattack: Saving checkpoint under \"checkpoints\\1720197798550.ta.chkpt\" at 2024-07-06 00:43:18 after 435 attacks.\n"
     ]
    },
    {
     "name": "stdout",
     "output_type": "stream",
     "text": [
      "\n",
      "\n",
      "=============================================================================================================================\n",
      "=============================================================================================================================\n",
      "\n"
     ]
    },
    {
     "name": "stderr",
     "output_type": "stream",
     "text": [
      "[Succeeded / Failed / Skipped / Total] 314 / 34 / 92 / 440:  88%|█████████████████▌  | 440/500 [13:11<01:47,  1.80s/it]textattack: Saving checkpoint under \"checkpoints\\1720197810024.ta.chkpt\" at 2024-07-06 00:43:30 after 440 attacks.\n"
     ]
    },
    {
     "name": "stdout",
     "output_type": "stream",
     "text": [
      "\n",
      "\n",
      "=============================================================================================================================\n",
      "=============================================================================================================================\n",
      "\n"
     ]
    },
    {
     "name": "stderr",
     "output_type": "stream",
     "text": [
      "[Succeeded / Failed / Skipped / Total] 319 / 34 / 92 / 445:  89%|█████████████████▊  | 445/500 [13:18<01:38,  1.79s/it]textattack: Saving checkpoint under \"checkpoints\\1720197817520.ta.chkpt\" at 2024-07-06 00:43:37 after 445 attacks.\n"
     ]
    },
    {
     "name": "stdout",
     "output_type": "stream",
     "text": [
      "\n",
      "\n",
      "=============================================================================================================================\n",
      "=============================================================================================================================\n",
      "\n"
     ]
    },
    {
     "name": "stderr",
     "output_type": "stream",
     "text": [
      "[Succeeded / Failed / Skipped / Total] 321 / 35 / 94 / 450:  90%|██████████████████  | 450/500 [13:26<01:29,  1.79s/it]textattack: Saving checkpoint under \"checkpoints\\1720197824977.ta.chkpt\" at 2024-07-06 00:43:44 after 450 attacks.\n"
     ]
    },
    {
     "name": "stdout",
     "output_type": "stream",
     "text": [
      "\n",
      "\n",
      "=============================================================================================================================\n",
      "=============================================================================================================================\n",
      "\n"
     ]
    },
    {
     "name": "stderr",
     "output_type": "stream",
     "text": [
      "[Succeeded / Failed / Skipped / Total] 325 / 35 / 95 / 455:  91%|██████████████████▏ | 455/500 [13:33<01:20,  1.79s/it]textattack: Saving checkpoint under \"checkpoints\\1720197832659.ta.chkpt\" at 2024-07-06 00:43:52 after 455 attacks.\n"
     ]
    },
    {
     "name": "stdout",
     "output_type": "stream",
     "text": [
      "\n",
      "\n",
      "=============================================================================================================================\n",
      "=============================================================================================================================\n",
      "\n"
     ]
    },
    {
     "name": "stderr",
     "output_type": "stream",
     "text": [
      "[Succeeded / Failed / Skipped / Total] 330 / 35 / 95 / 460:  92%|██████████████████▍ | 460/500 [13:48<01:12,  1.80s/it]textattack: Saving checkpoint under \"checkpoints\\1720197847199.ta.chkpt\" at 2024-07-06 00:44:07 after 460 attacks.\n"
     ]
    },
    {
     "name": "stdout",
     "output_type": "stream",
     "text": [
      "\n",
      "\n",
      "=============================================================================================================================\n",
      "=============================================================================================================================\n",
      "\n"
     ]
    },
    {
     "name": "stderr",
     "output_type": "stream",
     "text": [
      "[Succeeded / Failed / Skipped / Total] 334 / 35 / 96 / 465:  93%|██████████████████▌ | 465/500 [13:56<01:02,  1.80s/it]textattack: Saving checkpoint under \"checkpoints\\1720197854948.ta.chkpt\" at 2024-07-06 00:44:14 after 465 attacks.\n"
     ]
    },
    {
     "name": "stdout",
     "output_type": "stream",
     "text": [
      "\n",
      "\n",
      "=============================================================================================================================\n",
      "=============================================================================================================================\n",
      "\n"
     ]
    },
    {
     "name": "stderr",
     "output_type": "stream",
     "text": [
      "[Succeeded / Failed / Skipped / Total] 338 / 35 / 97 / 470:  94%|██████████████████▊ | 470/500 [13:59<00:53,  1.79s/it]textattack: Saving checkpoint under \"checkpoints\\1720197858012.ta.chkpt\" at 2024-07-06 00:44:18 after 470 attacks.\n"
     ]
    },
    {
     "name": "stdout",
     "output_type": "stream",
     "text": [
      "\n",
      "\n",
      "=============================================================================================================================\n",
      "=============================================================================================================================\n",
      "\n"
     ]
    },
    {
     "name": "stderr",
     "output_type": "stream",
     "text": [
      "[Succeeded / Failed / Skipped / Total] 342 / 36 / 97 / 475:  95%|███████████████████ | 475/500 [14:20<00:45,  1.81s/it]textattack: Saving checkpoint under \"checkpoints\\1720197879063.ta.chkpt\" at 2024-07-06 00:44:39 after 475 attacks.\n"
     ]
    },
    {
     "name": "stdout",
     "output_type": "stream",
     "text": [
      "\n",
      "\n",
      "=============================================================================================================================\n",
      "=============================================================================================================================\n",
      "\n"
     ]
    },
    {
     "name": "stderr",
     "output_type": "stream",
     "text": [
      "[Succeeded / Failed / Skipped / Total] 345 / 38 / 97 / 480:  96%|███████████████████▏| 480/500 [14:29<00:36,  1.81s/it]textattack: Saving checkpoint under \"checkpoints\\1720197888241.ta.chkpt\" at 2024-07-06 00:44:48 after 480 attacks.\n"
     ]
    },
    {
     "name": "stdout",
     "output_type": "stream",
     "text": [
      "\n",
      "\n",
      "=============================================================================================================================\n",
      "=============================================================================================================================\n",
      "\n"
     ]
    },
    {
     "name": "stderr",
     "output_type": "stream",
     "text": [
      "[Succeeded / Failed / Skipped / Total] 346 / 40 / 99 / 485:  97%|███████████████████▍| 485/500 [14:41<00:27,  1.82s/it]textattack: Saving checkpoint under \"checkpoints\\1720197900127.ta.chkpt\" at 2024-07-06 00:45:00 after 485 attacks.\n"
     ]
    },
    {
     "name": "stdout",
     "output_type": "stream",
     "text": [
      "\n",
      "\n",
      "=============================================================================================================================\n",
      "=============================================================================================================================\n",
      "\n"
     ]
    },
    {
     "name": "stderr",
     "output_type": "stream",
     "text": [
      "[Succeeded / Failed / Skipped / Total] 350 / 40 / 100 / 490:  98%|██████████████████▌| 490/500 [14:50<00:18,  1.82s/it]textattack: Saving checkpoint under \"checkpoints\\1720197909137.ta.chkpt\" at 2024-07-06 00:45:09 after 490 attacks.\n"
     ]
    },
    {
     "name": "stdout",
     "output_type": "stream",
     "text": [
      "\n",
      "\n",
      "=============================================================================================================================\n",
      "=============================================================================================================================\n",
      "\n"
     ]
    },
    {
     "name": "stderr",
     "output_type": "stream",
     "text": [
      "[Succeeded / Failed / Skipped / Total] 355 / 40 / 100 / 495:  99%|██████████████████▊| 495/500 [14:57<00:09,  1.81s/it]textattack: Saving checkpoint under \"checkpoints\\1720197916110.ta.chkpt\" at 2024-07-06 00:45:16 after 495 attacks.\n"
     ]
    },
    {
     "name": "stdout",
     "output_type": "stream",
     "text": [
      "\n",
      "\n",
      "=============================================================================================================================\n",
      "=============================================================================================================================\n",
      "\n"
     ]
    },
    {
     "name": "stderr",
     "output_type": "stream",
     "text": [
      "[Succeeded / Failed / Skipped / Total] 359 / 41 / 100 / 500: 100%|███████████████████| 500/500 [15:09<00:00,  1.82s/it]textattack: Saving checkpoint under \"checkpoints\\1720197928622.ta.chkpt\" at 2024-07-06 00:45:28 after 500 attacks.\n",
      "[Succeeded / Failed / Skipped / Total] 359 / 41 / 100 / 500: 100%|███████████████████| 500/500 [15:09<00:00,  1.82s/it]"
     ]
    },
    {
     "name": "stdout",
     "output_type": "stream",
     "text": [
      "\n",
      "\n",
      "=============================================================================================================================\n",
      "=============================================================================================================================\n",
      "\n",
      "\n",
      "+-------------------------------+--------+\n",
      "| Attack Results                |        |\n",
      "+-------------------------------+--------+\n",
      "| Number of successful attacks: | 359    |\n",
      "| Number of failed attacks:     | 41     |\n",
      "| Number of skipped attacks:    | 100    |\n",
      "| Original accuracy:            | 80.0%  |\n",
      "| Accuracy under attack:        | 8.2%   |\n",
      "| Attack success rate:          | 89.75% |\n",
      "| Average perturbed word %:     | 19.08% |\n",
      "| Average num. words per input: | 18.4   |\n",
      "| Avg num queries:              | 46.98  |\n",
      "+-------------------------------+--------+\n"
     ]
    },
    {
     "name": "stderr",
     "output_type": "stream",
     "text": [
      "\n"
     ]
    }
   ],
   "source": [
    "runAttack(bert_model_wrapper_lr_mr, n_samples, 'attack_results_new/bertmrattacklr'+suffix, target_ds_mr)"
   ]
  },
  {
   "cell_type": "code",
   "execution_count": 13,
   "id": "881956a2-37da-4e06-9986-f72004946469",
   "metadata": {},
   "outputs": [
    {
     "name": "stderr",
     "output_type": "stream",
     "text": [
      "textattack: Unknown if model of class <class 'transformers.models.bert.modeling_bert.BertModel'> compatible with goal function <class 'textattack.goal_functions.classification.untargeted_classification.UntargetedClassification'>.\n",
      "textattack: Logging to CSV at path attack_results_new/bertmrattackrfsim07.csv\n"
     ]
    },
    {
     "name": "stdout",
     "output_type": "stream",
     "text": [
      "Attack(\n",
      "  (search_method): GreedyWordSwapWIR(\n",
      "    (wir_method):  delete\n",
      "  )\n",
      "  (goal_function):  UntargetedClassification\n",
      "  (transformation):  WordSwapEmbedding(\n",
      "    (max_candidates):  50\n",
      "    (embedding):  WordEmbedding\n",
      "  )\n",
      "  (constraints): \n",
      "    (0): WordEmbeddingDistance(\n",
      "        (embedding):  WordEmbedding\n",
      "        (min_cos_sim):  0.7\n",
      "        (cased):  False\n",
      "        (include_unknown_words):  True\n",
      "        (compare_against_original):  True\n",
      "      )\n",
      "    (1): PartOfSpeech(\n",
      "        (tagger_type):  nltk\n",
      "        (tagset):  universal\n",
      "        (allow_verb_noun_swap):  True\n",
      "        (compare_against_original):  True\n",
      "      )\n",
      "    (2): UniversalSentenceEncoder(\n",
      "        (metric):  angular\n",
      "        (threshold):  0.840845057\n",
      "        (window_size):  15\n",
      "        (skip_text_shorter_than_window):  True\n",
      "        (compare_against_original):  False\n",
      "      )\n",
      "    (3): RepeatModification\n",
      "    (4): StopwordModification\n",
      "    (5): InputColumnModification(\n",
      "        (matching_column_labels):  ['premise', 'hypothesis']\n",
      "        (columns_to_ignore):  {'premise'}\n",
      "      )\n",
      "  (is_black_box):  True\n",
      ") \n",
      "\n"
     ]
    },
    {
     "name": "stderr",
     "output_type": "stream",
     "text": [
      "[Succeeded / Failed / Skipped / Total] 3 / 0 / 2 / 5:   1%|▎                           | 5/500 [00:19<31:25,  3.81s/it]textattack: Saving checkpoint under \"checkpoints\\1720197948084.ta.chkpt\" at 2024-07-06 00:45:48 after 5 attacks.\n"
     ]
    },
    {
     "name": "stdout",
     "output_type": "stream",
     "text": [
      "\n",
      "\n",
      "=============================================================================================================================\n",
      "=============================================================================================================================\n",
      "\n"
     ]
    },
    {
     "name": "stderr",
     "output_type": "stream",
     "text": [
      "[Succeeded / Failed / Skipped / Total] 5 / 0 / 5 / 10:   2%|▌                         | 10/500 [00:24<20:08,  2.47s/it]textattack: Saving checkpoint under \"checkpoints\\1720197953696.ta.chkpt\" at 2024-07-06 00:45:53 after 10 attacks.\n"
     ]
    },
    {
     "name": "stdout",
     "output_type": "stream",
     "text": [
      "\n",
      "\n",
      "=============================================================================================================================\n",
      "=============================================================================================================================\n",
      "\n"
     ]
    },
    {
     "name": "stderr",
     "output_type": "stream",
     "text": [
      "[Succeeded / Failed / Skipped / Total] 9 / 0 / 6 / 15:   3%|▊                         | 15/500 [00:37<20:23,  2.52s/it]textattack: Saving checkpoint under \"checkpoints\\1720197966890.ta.chkpt\" at 2024-07-06 00:46:06 after 15 attacks.\n"
     ]
    },
    {
     "name": "stdout",
     "output_type": "stream",
     "text": [
      "\n",
      "\n",
      "=============================================================================================================================\n",
      "=============================================================================================================================\n",
      "\n"
     ]
    },
    {
     "name": "stderr",
     "output_type": "stream",
     "text": [
      "[Succeeded / Failed / Skipped / Total] 10 / 2 / 8 / 20:   4%|█                        | 20/500 [00:45<18:14,  2.28s/it]textattack: Saving checkpoint under \"checkpoints\\1720197974642.ta.chkpt\" at 2024-07-06 00:46:14 after 20 attacks.\n"
     ]
    },
    {
     "name": "stdout",
     "output_type": "stream",
     "text": [
      "\n",
      "\n",
      "=============================================================================================================================\n",
      "=============================================================================================================================\n",
      "\n"
     ]
    },
    {
     "name": "stderr",
     "output_type": "stream",
     "text": [
      "[Succeeded / Failed / Skipped / Total] 14 / 2 / 9 / 25:   5%|█▎                       | 25/500 [00:52<16:29,  2.08s/it]textattack: Saving checkpoint under \"checkpoints\\1720197981100.ta.chkpt\" at 2024-07-06 00:46:21 after 25 attacks.\n"
     ]
    },
    {
     "name": "stdout",
     "output_type": "stream",
     "text": [
      "\n",
      "\n",
      "=============================================================================================================================\n",
      "=============================================================================================================================\n",
      "\n"
     ]
    },
    {
     "name": "stderr",
     "output_type": "stream",
     "text": [
      "[Succeeded / Failed / Skipped / Total] 16 / 4 / 10 / 30:   6%|█▍                      | 30/500 [01:06<17:19,  2.21s/it]textattack: Saving checkpoint under \"checkpoints\\1720197995359.ta.chkpt\" at 2024-07-06 00:46:35 after 30 attacks.\n"
     ]
    },
    {
     "name": "stdout",
     "output_type": "stream",
     "text": [
      "\n",
      "\n",
      "=============================================================================================================================\n",
      "=============================================================================================================================\n",
      "\n"
     ]
    },
    {
     "name": "stderr",
     "output_type": "stream",
     "text": [
      "[Succeeded / Failed / Skipped / Total] 19 / 5 / 11 / 35:   7%|█▋                      | 35/500 [01:13<16:14,  2.09s/it]textattack: Saving checkpoint under \"checkpoints\\1720198002358.ta.chkpt\" at 2024-07-06 00:46:42 after 35 attacks.\n"
     ]
    },
    {
     "name": "stdout",
     "output_type": "stream",
     "text": [
      "\n",
      "\n",
      "=============================================================================================================================\n",
      "=============================================================================================================================\n",
      "\n"
     ]
    },
    {
     "name": "stderr",
     "output_type": "stream",
     "text": [
      "[Succeeded / Failed / Skipped / Total] 22 / 5 / 13 / 40:   8%|█▉                      | 40/500 [01:19<15:10,  1.98s/it]textattack: Saving checkpoint under \"checkpoints\\1720198008253.ta.chkpt\" at 2024-07-06 00:46:48 after 40 attacks.\n"
     ]
    },
    {
     "name": "stdout",
     "output_type": "stream",
     "text": [
      "\n",
      "\n",
      "=============================================================================================================================\n",
      "=============================================================================================================================\n",
      "\n"
     ]
    },
    {
     "name": "stderr",
     "output_type": "stream",
     "text": [
      "[Succeeded / Failed / Skipped / Total] 23 / 6 / 16 / 45:   9%|██▏                     | 45/500 [01:28<14:59,  1.98s/it]textattack: Saving checkpoint under \"checkpoints\\1720198017979.ta.chkpt\" at 2024-07-06 00:46:57 after 45 attacks.\n"
     ]
    },
    {
     "name": "stdout",
     "output_type": "stream",
     "text": [
      "\n",
      "\n",
      "=============================================================================================================================\n",
      "=============================================================================================================================\n",
      "\n"
     ]
    },
    {
     "name": "stderr",
     "output_type": "stream",
     "text": [
      "[Succeeded / Failed / Skipped / Total] 28 / 6 / 16 / 50:  10%|██▍                     | 50/500 [01:37<14:38,  1.95s/it]textattack: Saving checkpoint under \"checkpoints\\1720198026615.ta.chkpt\" at 2024-07-06 00:47:06 after 50 attacks.\n"
     ]
    },
    {
     "name": "stdout",
     "output_type": "stream",
     "text": [
      "\n",
      "\n",
      "=============================================================================================================================\n",
      "=============================================================================================================================\n",
      "\n"
     ]
    },
    {
     "name": "stderr",
     "output_type": "stream",
     "text": [
      "[Succeeded / Failed / Skipped / Total] 32 / 7 / 16 / 55:  11%|██▋                     | 55/500 [01:50<14:55,  2.01s/it]textattack: Saving checkpoint under \"checkpoints\\1720198039658.ta.chkpt\" at 2024-07-06 00:47:19 after 55 attacks.\n"
     ]
    },
    {
     "name": "stdout",
     "output_type": "stream",
     "text": [
      "\n",
      "\n",
      "=============================================================================================================================\n",
      "=============================================================================================================================\n",
      "\n"
     ]
    },
    {
     "name": "stderr",
     "output_type": "stream",
     "text": [
      "[Succeeded / Failed / Skipped / Total] 36 / 7 / 17 / 60:  12%|██▉                     | 60/500 [01:56<14:15,  1.94s/it]textattack: Saving checkpoint under \"checkpoints\\1720198045644.ta.chkpt\" at 2024-07-06 00:47:25 after 60 attacks.\n",
      "[Succeeded / Failed / Skipped / Total] 36 / 7 / 18 / 61:  12%|██▉                     | 61/500 [01:56<14:00,  1.91s/it]"
     ]
    },
    {
     "name": "stdout",
     "output_type": "stream",
     "text": [
      "\n",
      "\n",
      "=============================================================================================================================\n",
      "=============================================================================================================================\n",
      "\n"
     ]
    },
    {
     "name": "stderr",
     "output_type": "stream",
     "text": [
      "[Succeeded / Failed / Skipped / Total] 40 / 7 / 18 / 65:  13%|███                     | 65/500 [02:00<13:25,  1.85s/it]textattack: Saving checkpoint under \"checkpoints\\1720198049367.ta.chkpt\" at 2024-07-06 00:47:29 after 65 attacks.\n"
     ]
    },
    {
     "name": "stdout",
     "output_type": "stream",
     "text": [
      "\n",
      "\n",
      "=============================================================================================================================\n",
      "=============================================================================================================================\n",
      "\n"
     ]
    },
    {
     "name": "stderr",
     "output_type": "stream",
     "text": [
      "[Succeeded / Failed / Skipped / Total] 44 / 8 / 18 / 70:  14%|███▎                    | 70/500 [02:06<13:00,  1.81s/it]textattack: Saving checkpoint under \"checkpoints\\1720198056017.ta.chkpt\" at 2024-07-06 00:47:36 after 70 attacks.\n"
     ]
    },
    {
     "name": "stdout",
     "output_type": "stream",
     "text": [
      "\n",
      "\n",
      "=============================================================================================================================\n",
      "=============================================================================================================================\n",
      "\n"
     ]
    },
    {
     "name": "stderr",
     "output_type": "stream",
     "text": [
      "[Succeeded / Failed / Skipped / Total] 49 / 8 / 18 / 75:  15%|███▌                    | 75/500 [02:13<12:34,  1.78s/it]textattack: Saving checkpoint under \"checkpoints\\1720198062199.ta.chkpt\" at 2024-07-06 00:47:42 after 75 attacks.\n",
      "[Succeeded / Failed / Skipped / Total] 49 / 8 / 19 / 76:  15%|███▋                    | 76/500 [02:13<12:23,  1.75s/it]"
     ]
    },
    {
     "name": "stdout",
     "output_type": "stream",
     "text": [
      "\n",
      "\n",
      "=============================================================================================================================\n",
      "=============================================================================================================================\n",
      "\n"
     ]
    },
    {
     "name": "stderr",
     "output_type": "stream",
     "text": [
      "[Succeeded / Failed / Skipped / Total] 52 / 8 / 20 / 80:  16%|███▊                    | 80/500 [02:20<12:19,  1.76s/it]textattack: Saving checkpoint under \"checkpoints\\1720198069873.ta.chkpt\" at 2024-07-06 00:47:49 after 80 attacks.\n",
      "[Succeeded / Failed / Skipped / Total] 52 / 8 / 22 / 82:  16%|███▉                    | 82/500 [02:21<11:58,  1.72s/it]"
     ]
    },
    {
     "name": "stdout",
     "output_type": "stream",
     "text": [
      "\n",
      "\n",
      "=============================================================================================================================\n",
      "=============================================================================================================================\n",
      "\n"
     ]
    },
    {
     "name": "stderr",
     "output_type": "stream",
     "text": [
      "[Succeeded / Failed / Skipped / Total] 54 / 8 / 23 / 85:  17%|████                    | 85/500 [02:24<11:43,  1.70s/it]textattack: Saving checkpoint under \"checkpoints\\1720198073221.ta.chkpt\" at 2024-07-06 00:47:53 after 85 attacks.\n"
     ]
    },
    {
     "name": "stdout",
     "output_type": "stream",
     "text": [
      "\n",
      "\n",
      "=============================================================================================================================\n",
      "=============================================================================================================================\n",
      "\n"
     ]
    },
    {
     "name": "stderr",
     "output_type": "stream",
     "text": [
      "[Succeeded / Failed / Skipped / Total] 59 / 8 / 23 / 90:  18%|████▎                   | 90/500 [02:32<11:35,  1.70s/it]textattack: Saving checkpoint under \"checkpoints\\1720198081650.ta.chkpt\" at 2024-07-06 00:48:01 after 90 attacks.\n",
      "[Succeeded / Failed / Skipped / Total] 59 / 8 / 24 / 91:  18%|████▎                   | 91/500 [02:32<11:26,  1.68s/it]"
     ]
    },
    {
     "name": "stdout",
     "output_type": "stream",
     "text": [
      "\n",
      "\n",
      "=============================================================================================================================\n",
      "=============================================================================================================================\n",
      "\n"
     ]
    },
    {
     "name": "stderr",
     "output_type": "stream",
     "text": [
      "[Succeeded / Failed / Skipped / Total] 60 / 8 / 27 / 95:  19%|████▌                   | 95/500 [02:33<10:56,  1.62s/it]textattack: Saving checkpoint under \"checkpoints\\1720198082978.ta.chkpt\" at 2024-07-06 00:48:02 after 95 attacks.\n",
      "[Succeeded / Failed / Skipped / Total] 60 / 8 / 28 / 96:  19%|████▌                   | 96/500 [02:34<10:48,  1.61s/it]"
     ]
    },
    {
     "name": "stdout",
     "output_type": "stream",
     "text": [
      "\n",
      "\n",
      "=============================================================================================================================\n",
      "=============================================================================================================================\n",
      "\n"
     ]
    },
    {
     "name": "stderr",
     "output_type": "stream",
     "text": [
      "[Succeeded / Failed / Skipped / Total] 61 / 11 / 28 / 100:  20%|████▏                | 100/500 [02:45<11:00,  1.65s/it]textattack: Saving checkpoint under \"checkpoints\\1720198094270.ta.chkpt\" at 2024-07-06 00:48:14 after 100 attacks.\n",
      "[Succeeded / Failed / Skipped / Total] 61 / 11 / 29 / 101:  20%|████▏                | 101/500 [02:45<10:53,  1.64s/it]"
     ]
    },
    {
     "name": "stdout",
     "output_type": "stream",
     "text": [
      "\n",
      "\n",
      "=============================================================================================================================\n",
      "=============================================================================================================================\n",
      "\n"
     ]
    },
    {
     "name": "stderr",
     "output_type": "stream",
     "text": [
      "[Succeeded / Failed / Skipped / Total] 63 / 12 / 30 / 105:  21%|████▍                | 105/500 [02:49<10:37,  1.61s/it]textattack: Saving checkpoint under \"checkpoints\\1720198098494.ta.chkpt\" at 2024-07-06 00:48:18 after 105 attacks.\n",
      "[Succeeded / Failed / Skipped / Total] 63 / 12 / 31 / 106:  21%|████▍                | 106/500 [02:49<10:30,  1.60s/it]"
     ]
    },
    {
     "name": "stdout",
     "output_type": "stream",
     "text": [
      "\n",
      "\n",
      "=============================================================================================================================\n",
      "=============================================================================================================================\n",
      "\n"
     ]
    },
    {
     "name": "stderr",
     "output_type": "stream",
     "text": [
      "[Succeeded / Failed / Skipped / Total] 67 / 12 / 31 / 110:  22%|████▌                | 110/500 [02:54<10:18,  1.58s/it]textattack: Saving checkpoint under \"checkpoints\\1720198103373.ta.chkpt\" at 2024-07-06 00:48:23 after 110 attacks.\n",
      "[Succeeded / Failed / Skipped / Total] 67 / 12 / 32 / 111:  22%|████▋                | 111/500 [02:54<10:11,  1.57s/it]"
     ]
    },
    {
     "name": "stdout",
     "output_type": "stream",
     "text": [
      "\n",
      "\n",
      "=============================================================================================================================\n",
      "=============================================================================================================================\n",
      "\n"
     ]
    },
    {
     "name": "stderr",
     "output_type": "stream",
     "text": [
      "[Succeeded / Failed / Skipped / Total] 70 / 13 / 32 / 115:  23%|████▊                | 115/500 [03:03<10:13,  1.59s/it]textattack: Saving checkpoint under \"checkpoints\\1720198112170.ta.chkpt\" at 2024-07-06 00:48:32 after 115 attacks.\n"
     ]
    },
    {
     "name": "stdout",
     "output_type": "stream",
     "text": [
      "\n",
      "\n",
      "=============================================================================================================================\n",
      "=============================================================================================================================\n",
      "\n"
     ]
    },
    {
     "name": "stderr",
     "output_type": "stream",
     "text": [
      "[Succeeded / Failed / Skipped / Total] 72 / 13 / 35 / 120:  24%|█████                | 120/500 [03:05<09:48,  1.55s/it]textattack: Saving checkpoint under \"checkpoints\\1720198114816.ta.chkpt\" at 2024-07-06 00:48:34 after 120 attacks.\n"
     ]
    },
    {
     "name": "stdout",
     "output_type": "stream",
     "text": [
      "\n",
      "\n",
      "=============================================================================================================================\n",
      "=============================================================================================================================\n",
      "\n"
     ]
    },
    {
     "name": "stderr",
     "output_type": "stream",
     "text": [
      "[Succeeded / Failed / Skipped / Total] 76 / 13 / 36 / 125:  25%|█████▎               | 125/500 [03:13<09:39,  1.55s/it]textattack: Saving checkpoint under \"checkpoints\\1720198122328.ta.chkpt\" at 2024-07-06 00:48:42 after 125 attacks.\n"
     ]
    },
    {
     "name": "stdout",
     "output_type": "stream",
     "text": [
      "\n",
      "\n",
      "=============================================================================================================================\n",
      "=============================================================================================================================\n",
      "\n"
     ]
    },
    {
     "name": "stderr",
     "output_type": "stream",
     "text": [
      "[Succeeded / Failed / Skipped / Total] 80 / 14 / 36 / 130:  26%|█████▍               | 130/500 [03:22<09:35,  1.55s/it]textattack: Saving checkpoint under \"checkpoints\\1720198131169.ta.chkpt\" at 2024-07-06 00:48:51 after 130 attacks.\n",
      "[Succeeded / Failed / Skipped / Total] 80 / 14 / 37 / 131:  26%|█████▌               | 131/500 [03:22<09:29,  1.54s/it]"
     ]
    },
    {
     "name": "stdout",
     "output_type": "stream",
     "text": [
      "\n",
      "\n",
      "=============================================================================================================================\n",
      "=============================================================================================================================\n",
      "\n"
     ]
    },
    {
     "name": "stderr",
     "output_type": "stream",
     "text": [
      "[Succeeded / Failed / Skipped / Total] 83 / 14 / 38 / 135:  27%|█████▋               | 135/500 [03:31<09:32,  1.57s/it]textattack: Saving checkpoint under \"checkpoints\\1720198140654.ta.chkpt\" at 2024-07-06 00:49:00 after 135 attacks.\n",
      "[Succeeded / Failed / Skipped / Total] 83 / 14 / 39 / 136:  27%|█████▋               | 136/500 [03:31<09:26,  1.56s/it]"
     ]
    },
    {
     "name": "stdout",
     "output_type": "stream",
     "text": [
      "\n",
      "\n",
      "=============================================================================================================================\n",
      "=============================================================================================================================\n",
      "\n"
     ]
    },
    {
     "name": "stderr",
     "output_type": "stream",
     "text": [
      "[Succeeded / Failed / Skipped / Total] 86 / 14 / 40 / 140:  28%|█████▉               | 140/500 [03:36<09:16,  1.55s/it]textattack: Saving checkpoint under \"checkpoints\\1720198145552.ta.chkpt\" at 2024-07-06 00:49:05 after 140 attacks.\n"
     ]
    },
    {
     "name": "stdout",
     "output_type": "stream",
     "text": [
      "\n",
      "\n",
      "=============================================================================================================================\n",
      "=============================================================================================================================\n",
      "\n"
     ]
    },
    {
     "name": "stderr",
     "output_type": "stream",
     "text": [
      "[Succeeded / Failed / Skipped / Total] 90 / 14 / 41 / 145:  29%|██████               | 145/500 [03:42<09:03,  1.53s/it]textattack: Saving checkpoint under \"checkpoints\\1720198151208.ta.chkpt\" at 2024-07-06 00:49:11 after 145 attacks.\n",
      "[Succeeded / Failed / Skipped / Total] 90 / 14 / 42 / 146:  29%|██████▏              | 146/500 [03:42<08:58,  1.52s/it]"
     ]
    },
    {
     "name": "stdout",
     "output_type": "stream",
     "text": [
      "\n",
      "\n",
      "=============================================================================================================================\n",
      "=============================================================================================================================\n",
      "\n"
     ]
    },
    {
     "name": "stderr",
     "output_type": "stream",
     "text": [
      "[Succeeded / Failed / Skipped / Total] 92 / 14 / 44 / 150:  30%|██████▎              | 150/500 [03:44<08:43,  1.50s/it]textattack: Saving checkpoint under \"checkpoints\\1720198153297.ta.chkpt\" at 2024-07-06 00:49:13 after 150 attacks.\n",
      "[Succeeded / Failed / Skipped / Total] 92 / 14 / 45 / 151:  30%|██████▎              | 151/500 [03:44<08:38,  1.49s/it]"
     ]
    },
    {
     "name": "stdout",
     "output_type": "stream",
     "text": [
      "\n",
      "\n",
      "=============================================================================================================================\n",
      "=============================================================================================================================\n",
      "\n"
     ]
    },
    {
     "name": "stderr",
     "output_type": "stream",
     "text": [
      "[Succeeded / Failed / Skipped / Total] 94 / 14 / 47 / 155:  31%|██████▌              | 155/500 [03:46<08:24,  1.46s/it]textattack: Saving checkpoint under \"checkpoints\\1720198155631.ta.chkpt\" at 2024-07-06 00:49:15 after 155 attacks.\n"
     ]
    },
    {
     "name": "stdout",
     "output_type": "stream",
     "text": [
      "\n",
      "\n",
      "=============================================================================================================================\n",
      "=============================================================================================================================\n",
      "\n"
     ]
    },
    {
     "name": "stderr",
     "output_type": "stream",
     "text": [
      "[Succeeded / Failed / Skipped / Total] 97 / 14 / 49 / 160:  32%|██████▋              | 160/500 [03:59<08:28,  1.50s/it]textattack: Saving checkpoint under \"checkpoints\\1720198168512.ta.chkpt\" at 2024-07-06 00:49:28 after 160 attacks.\n",
      "[Succeeded / Failed / Skipped / Total] 97 / 14 / 49 / 160:  32%|██████▊              | 161/500 [03:59<08:24,  1.49s/it]"
     ]
    },
    {
     "name": "stdout",
     "output_type": "stream",
     "text": [
      "\n",
      "\n",
      "=============================================================================================================================\n",
      "=============================================================================================================================\n",
      "\n"
     ]
    },
    {
     "name": "stderr",
     "output_type": "stream",
     "text": [
      "[Succeeded / Failed / Skipped / Total] 100 / 14 / 51 / 165:  33%|██████▌             | 165/500 [04:05<08:18,  1.49s/it]textattack: Saving checkpoint under \"checkpoints\\1720198174422.ta.chkpt\" at 2024-07-06 00:49:34 after 165 attacks.\n"
     ]
    },
    {
     "name": "stdout",
     "output_type": "stream",
     "text": [
      "\n",
      "\n",
      "=============================================================================================================================\n",
      "=============================================================================================================================\n",
      "\n"
     ]
    },
    {
     "name": "stderr",
     "output_type": "stream",
     "text": [
      "[Succeeded / Failed / Skipped / Total] 102 / 14 / 54 / 170:  34%|██████▊             | 170/500 [04:09<08:04,  1.47s/it]textattack: Saving checkpoint under \"checkpoints\\1720198178743.ta.chkpt\" at 2024-07-06 00:49:38 after 170 attacks.\n"
     ]
    },
    {
     "name": "stdout",
     "output_type": "stream",
     "text": [
      "\n",
      "\n",
      "=============================================================================================================================\n",
      "=============================================================================================================================\n",
      "\n"
     ]
    },
    {
     "name": "stderr",
     "output_type": "stream",
     "text": [
      "[Succeeded / Failed / Skipped / Total] 105 / 15 / 55 / 175:  35%|███████             | 175/500 [04:24<08:11,  1.51s/it]textattack: Saving checkpoint under \"checkpoints\\1720198193644.ta.chkpt\" at 2024-07-06 00:49:53 after 175 attacks.\n",
      "[Succeeded / Failed / Skipped / Total] 105 / 15 / 56 / 176:  35%|███████             | 176/500 [04:24<08:07,  1.50s/it]"
     ]
    },
    {
     "name": "stdout",
     "output_type": "stream",
     "text": [
      "\n",
      "\n",
      "=============================================================================================================================\n",
      "=============================================================================================================================\n",
      "\n"
     ]
    },
    {
     "name": "stderr",
     "output_type": "stream",
     "text": [
      "[Succeeded / Failed / Skipped / Total] 107 / 16 / 57 / 180:  36%|███████▏            | 180/500 [04:31<08:02,  1.51s/it]textattack: Saving checkpoint under \"checkpoints\\1720198200269.ta.chkpt\" at 2024-07-06 00:50:00 after 180 attacks.\n",
      "[Succeeded / Failed / Skipped / Total] 107 / 16 / 57 / 180:  36%|███████▏            | 181/500 [04:31<07:58,  1.50s/it]"
     ]
    },
    {
     "name": "stdout",
     "output_type": "stream",
     "text": [
      "\n",
      "\n",
      "=============================================================================================================================\n",
      "=============================================================================================================================\n",
      "\n"
     ]
    },
    {
     "name": "stderr",
     "output_type": "stream",
     "text": [
      "[Succeeded / Failed / Skipped / Total] 108 / 16 / 61 / 185:  37%|███████▍            | 185/500 [04:32<07:44,  1.47s/it]textattack: Saving checkpoint under \"checkpoints\\1720198201660.ta.chkpt\" at 2024-07-06 00:50:01 after 185 attacks.\n"
     ]
    },
    {
     "name": "stdout",
     "output_type": "stream",
     "text": [
      "\n",
      "\n",
      "=============================================================================================================================\n",
      "=============================================================================================================================\n",
      "\n"
     ]
    },
    {
     "name": "stderr",
     "output_type": "stream",
     "text": [
      "[Succeeded / Failed / Skipped / Total] 112 / 17 / 61 / 190:  38%|███████▌            | 190/500 [04:47<07:48,  1.51s/it]textattack: Saving checkpoint under \"checkpoints\\1720198216412.ta.chkpt\" at 2024-07-06 00:50:16 after 190 attacks.\n"
     ]
    },
    {
     "name": "stdout",
     "output_type": "stream",
     "text": [
      "\n",
      "\n",
      "=============================================================================================================================\n",
      "=============================================================================================================================\n",
      "\n"
     ]
    },
    {
     "name": "stderr",
     "output_type": "stream",
     "text": [
      "[Succeeded / Failed / Skipped / Total] 116 / 17 / 62 / 195:  39%|███████▊            | 195/500 [05:01<07:50,  1.54s/it]textattack: Saving checkpoint under \"checkpoints\\1720198230101.ta.chkpt\" at 2024-07-06 00:50:30 after 195 attacks.\n"
     ]
    },
    {
     "name": "stdout",
     "output_type": "stream",
     "text": [
      "\n",
      "\n",
      "=============================================================================================================================\n",
      "=============================================================================================================================\n",
      "\n"
     ]
    },
    {
     "name": "stderr",
     "output_type": "stream",
     "text": [
      "[Succeeded / Failed / Skipped / Total] 119 / 18 / 63 / 200:  40%|████████            | 200/500 [05:18<07:57,  1.59s/it]textattack: Saving checkpoint under \"checkpoints\\1720198247680.ta.chkpt\" at 2024-07-06 00:50:47 after 200 attacks.\n"
     ]
    },
    {
     "name": "stdout",
     "output_type": "stream",
     "text": [
      "\n",
      "\n",
      "=============================================================================================================================\n",
      "=============================================================================================================================\n",
      "\n"
     ]
    },
    {
     "name": "stderr",
     "output_type": "stream",
     "text": [
      "[Succeeded / Failed / Skipped / Total] 121 / 20 / 64 / 205:  41%|████████▏           | 205/500 [05:26<07:49,  1.59s/it]textattack: Saving checkpoint under \"checkpoints\\1720198255476.ta.chkpt\" at 2024-07-06 00:50:55 after 205 attacks.\n",
      "[Succeeded / Failed / Skipped / Total] 121 / 20 / 65 / 206:  41%|████████▏           | 206/500 [05:26<07:46,  1.59s/it]"
     ]
    },
    {
     "name": "stdout",
     "output_type": "stream",
     "text": [
      "\n",
      "\n",
      "=============================================================================================================================\n",
      "=============================================================================================================================\n",
      "\n"
     ]
    },
    {
     "name": "stderr",
     "output_type": "stream",
     "text": [
      "[Succeeded / Failed / Skipped / Total] 122 / 21 / 67 / 210:  42%|████████▍           | 210/500 [05:29<07:34,  1.57s/it]textattack: Saving checkpoint under \"checkpoints\\1720198258210.ta.chkpt\" at 2024-07-06 00:50:58 after 210 attacks.\n"
     ]
    },
    {
     "name": "stdout",
     "output_type": "stream",
     "text": [
      "\n",
      "\n",
      "=============================================================================================================================\n",
      "=============================================================================================================================\n",
      "\n"
     ]
    },
    {
     "name": "stderr",
     "output_type": "stream",
     "text": [
      "[Succeeded / Failed / Skipped / Total] 126 / 22 / 67 / 215:  43%|████████▌           | 215/500 [05:38<07:28,  1.58s/it]textattack: Saving checkpoint under \"checkpoints\\1720198267682.ta.chkpt\" at 2024-07-06 00:51:07 after 215 attacks.\n"
     ]
    },
    {
     "name": "stdout",
     "output_type": "stream",
     "text": [
      "\n",
      "\n",
      "=============================================================================================================================\n",
      "=============================================================================================================================\n",
      "\n"
     ]
    },
    {
     "name": "stderr",
     "output_type": "stream",
     "text": [
      "[Succeeded / Failed / Skipped / Total] 131 / 22 / 67 / 220:  44%|████████▊           | 220/500 [05:43<07:17,  1.56s/it]textattack: Saving checkpoint under \"checkpoints\\1720198272662.ta.chkpt\" at 2024-07-06 00:51:12 after 220 attacks.\n"
     ]
    },
    {
     "name": "stdout",
     "output_type": "stream",
     "text": [
      "\n",
      "\n",
      "=============================================================================================================================\n",
      "=============================================================================================================================\n",
      "\n"
     ]
    },
    {
     "name": "stderr",
     "output_type": "stream",
     "text": [
      "[Succeeded / Failed / Skipped / Total] 135 / 22 / 68 / 225:  45%|█████████           | 225/500 [05:54<07:13,  1.58s/it]textattack: Saving checkpoint under \"checkpoints\\1720198283918.ta.chkpt\" at 2024-07-06 00:51:23 after 225 attacks.\n"
     ]
    },
    {
     "name": "stdout",
     "output_type": "stream",
     "text": [
      "\n",
      "\n",
      "=============================================================================================================================\n",
      "=============================================================================================================================\n",
      "\n"
     ]
    },
    {
     "name": "stderr",
     "output_type": "stream",
     "text": [
      "[Succeeded / Failed / Skipped / Total] 137 / 22 / 71 / 230:  46%|█████████▏          | 230/500 [05:57<06:59,  1.56s/it]textattack: Saving checkpoint under \"checkpoints\\1720198286793.ta.chkpt\" at 2024-07-06 00:51:26 after 230 attacks.\n"
     ]
    },
    {
     "name": "stdout",
     "output_type": "stream",
     "text": [
      "\n",
      "\n",
      "=============================================================================================================================\n",
      "=============================================================================================================================\n",
      "\n"
     ]
    },
    {
     "name": "stderr",
     "output_type": "stream",
     "text": [
      "[Succeeded / Failed / Skipped / Total] 142 / 22 / 71 / 235:  47%|█████████▍          | 235/500 [06:04<06:51,  1.55s/it]textattack: Saving checkpoint under \"checkpoints\\1720198294037.ta.chkpt\" at 2024-07-06 00:51:34 after 235 attacks.\n",
      "[Succeeded / Failed / Skipped / Total] 142 / 22 / 72 / 236:  47%|█████████▍          | 236/500 [06:05<06:48,  1.55s/it]"
     ]
    },
    {
     "name": "stdout",
     "output_type": "stream",
     "text": [
      "\n",
      "\n",
      "=============================================================================================================================\n",
      "=============================================================================================================================\n",
      "\n"
     ]
    },
    {
     "name": "stderr",
     "output_type": "stream",
     "text": [
      "[Succeeded / Failed / Skipped / Total] 146 / 22 / 72 / 240:  48%|█████████▌          | 240/500 [06:11<06:42,  1.55s/it]textattack: Saving checkpoint under \"checkpoints\\1720198300178.ta.chkpt\" at 2024-07-06 00:51:40 after 240 attacks.\n"
     ]
    },
    {
     "name": "stdout",
     "output_type": "stream",
     "text": [
      "\n",
      "\n",
      "=============================================================================================================================\n",
      "=============================================================================================================================\n",
      "\n"
     ]
    },
    {
     "name": "stderr",
     "output_type": "stream",
     "text": [
      "[Succeeded / Failed / Skipped / Total] 150 / 22 / 73 / 245:  49%|█████████▊          | 245/500 [06:22<06:38,  1.56s/it]textattack: Saving checkpoint under \"checkpoints\\1720198311766.ta.chkpt\" at 2024-07-06 00:51:51 after 245 attacks.\n"
     ]
    },
    {
     "name": "stdout",
     "output_type": "stream",
     "text": [
      "\n",
      "\n",
      "=============================================================================================================================\n",
      "=============================================================================================================================\n",
      "\n"
     ]
    },
    {
     "name": "stderr",
     "output_type": "stream",
     "text": [
      "[Succeeded / Failed / Skipped / Total] 153 / 22 / 75 / 250:  50%|██████████          | 250/500 [06:27<06:27,  1.55s/it]textattack: Saving checkpoint under \"checkpoints\\1720198316835.ta.chkpt\" at 2024-07-06 00:51:56 after 250 attacks.\n"
     ]
    },
    {
     "name": "stdout",
     "output_type": "stream",
     "text": [
      "\n",
      "\n",
      "=============================================================================================================================\n",
      "=============================================================================================================================\n",
      "\n"
     ]
    },
    {
     "name": "stderr",
     "output_type": "stream",
     "text": [
      "[Succeeded / Failed / Skipped / Total] 156 / 23 / 76 / 255:  51%|██████████▏         | 255/500 [06:39<06:23,  1.56s/it]textattack: Saving checkpoint under \"checkpoints\\1720198328055.ta.chkpt\" at 2024-07-06 00:52:08 after 255 attacks.\n"
     ]
    },
    {
     "name": "stdout",
     "output_type": "stream",
     "text": [
      "\n",
      "\n",
      "=============================================================================================================================\n",
      "=============================================================================================================================\n",
      "\n"
     ]
    },
    {
     "name": "stderr",
     "output_type": "stream",
     "text": [
      "[Succeeded / Failed / Skipped / Total] 160 / 23 / 77 / 260:  52%|██████████▍         | 260/500 [06:45<06:14,  1.56s/it]textattack: Saving checkpoint under \"checkpoints\\1720198334337.ta.chkpt\" at 2024-07-06 00:52:14 after 260 attacks.\n"
     ]
    },
    {
     "name": "stdout",
     "output_type": "stream",
     "text": [
      "\n",
      "\n",
      "=============================================================================================================================\n",
      "=============================================================================================================================\n",
      "\n"
     ]
    },
    {
     "name": "stderr",
     "output_type": "stream",
     "text": [
      "[Succeeded / Failed / Skipped / Total] 163 / 24 / 78 / 265:  53%|██████████▌         | 265/500 [06:54<06:07,  1.56s/it]textattack: Saving checkpoint under \"checkpoints\\1720198343400.ta.chkpt\" at 2024-07-06 00:52:23 after 265 attacks.\n"
     ]
    },
    {
     "name": "stdout",
     "output_type": "stream",
     "text": [
      "\n",
      "\n",
      "=============================================================================================================================\n",
      "=============================================================================================================================\n",
      "\n"
     ]
    },
    {
     "name": "stderr",
     "output_type": "stream",
     "text": [
      "[Succeeded / Failed / Skipped / Total] 166 / 25 / 79 / 270:  54%|██████████▊         | 270/500 [07:08<06:04,  1.59s/it]textattack: Saving checkpoint under \"checkpoints\\1720198357198.ta.chkpt\" at 2024-07-06 00:52:37 after 270 attacks.\n"
     ]
    },
    {
     "name": "stdout",
     "output_type": "stream",
     "text": [
      "\n",
      "\n",
      "=============================================================================================================================\n",
      "=============================================================================================================================\n",
      "\n"
     ]
    },
    {
     "name": "stderr",
     "output_type": "stream",
     "text": [
      "[Succeeded / Failed / Skipped / Total] 168 / 25 / 82 / 275:  55%|███████████         | 275/500 [07:12<05:53,  1.57s/it]textattack: Saving checkpoint under \"checkpoints\\1720198361105.ta.chkpt\" at 2024-07-06 00:52:41 after 275 attacks.\n"
     ]
    },
    {
     "name": "stdout",
     "output_type": "stream",
     "text": [
      "\n",
      "\n",
      "=============================================================================================================================\n",
      "=============================================================================================================================\n",
      "\n"
     ]
    },
    {
     "name": "stderr",
     "output_type": "stream",
     "text": [
      "[Succeeded / Failed / Skipped / Total] 170 / 26 / 84 / 280:  56%|███████████▏        | 280/500 [07:16<05:42,  1.56s/it]textattack: Saving checkpoint under \"checkpoints\\1720198365137.ta.chkpt\" at 2024-07-06 00:52:45 after 280 attacks.\n"
     ]
    },
    {
     "name": "stdout",
     "output_type": "stream",
     "text": [
      "\n",
      "\n",
      "=============================================================================================================================\n",
      "=============================================================================================================================\n",
      "\n"
     ]
    },
    {
     "name": "stderr",
     "output_type": "stream",
     "text": [
      "[Succeeded / Failed / Skipped / Total] 171 / 27 / 87 / 285:  57%|███████████▍        | 285/500 [07:20<05:32,  1.55s/it]textattack: Saving checkpoint under \"checkpoints\\1720198369934.ta.chkpt\" at 2024-07-06 00:52:49 after 285 attacks.\n"
     ]
    },
    {
     "name": "stdout",
     "output_type": "stream",
     "text": [
      "\n",
      "\n",
      "=============================================================================================================================\n",
      "=============================================================================================================================\n",
      "\n"
     ]
    },
    {
     "name": "stderr",
     "output_type": "stream",
     "text": [
      "[Succeeded / Failed / Skipped / Total] 175 / 27 / 88 / 290:  58%|███████████▌        | 290/500 [07:25<05:22,  1.54s/it]textattack: Saving checkpoint under \"checkpoints\\1720198374279.ta.chkpt\" at 2024-07-06 00:52:54 after 290 attacks.\n",
      "[Succeeded / Failed / Skipped / Total] 175 / 27 / 89 / 291:  58%|███████████▋        | 291/500 [07:25<05:19,  1.53s/it]"
     ]
    },
    {
     "name": "stdout",
     "output_type": "stream",
     "text": [
      "\n",
      "\n",
      "=============================================================================================================================\n",
      "=============================================================================================================================\n",
      "\n"
     ]
    },
    {
     "name": "stderr",
     "output_type": "stream",
     "text": [
      "[Succeeded / Failed / Skipped / Total] 177 / 27 / 91 / 295:  59%|███████████▊        | 295/500 [07:27<05:11,  1.52s/it]textattack: Saving checkpoint under \"checkpoints\\1720198376812.ta.chkpt\" at 2024-07-06 00:52:56 after 295 attacks.\n"
     ]
    },
    {
     "name": "stdout",
     "output_type": "stream",
     "text": [
      "\n",
      "\n",
      "=============================================================================================================================\n",
      "=============================================================================================================================\n",
      "\n"
     ]
    },
    {
     "name": "stderr",
     "output_type": "stream",
     "text": [
      "[Succeeded / Failed / Skipped / Total] 181 / 27 / 92 / 300:  60%|████████████        | 300/500 [07:33<05:02,  1.51s/it]textattack: Saving checkpoint under \"checkpoints\\1720198382656.ta.chkpt\" at 2024-07-06 00:53:02 after 300 attacks.\n"
     ]
    },
    {
     "name": "stdout",
     "output_type": "stream",
     "text": [
      "\n",
      "\n",
      "=============================================================================================================================\n",
      "=============================================================================================================================\n",
      "\n"
     ]
    },
    {
     "name": "stderr",
     "output_type": "stream",
     "text": [
      "[Succeeded / Failed / Skipped / Total] 185 / 27 / 93 / 305:  61%|████████████▏       | 305/500 [07:41<04:54,  1.51s/it]textattack: Saving checkpoint under \"checkpoints\\1720198390344.ta.chkpt\" at 2024-07-06 00:53:10 after 305 attacks.\n"
     ]
    },
    {
     "name": "stdout",
     "output_type": "stream",
     "text": [
      "\n",
      "\n",
      "=============================================================================================================================\n",
      "=============================================================================================================================\n",
      "\n"
     ]
    },
    {
     "name": "stderr",
     "output_type": "stream",
     "text": [
      "[Succeeded / Failed / Skipped / Total] 189 / 28 / 93 / 310:  62%|████████████▍       | 310/500 [07:45<04:45,  1.50s/it]textattack: Saving checkpoint under \"checkpoints\\1720198394354.ta.chkpt\" at 2024-07-06 00:53:14 after 310 attacks.\n"
     ]
    },
    {
     "name": "stdout",
     "output_type": "stream",
     "text": [
      "\n",
      "\n",
      "=============================================================================================================================\n",
      "=============================================================================================================================\n",
      "\n"
     ]
    },
    {
     "name": "stderr",
     "output_type": "stream",
     "text": [
      "[Succeeded / Failed / Skipped / Total] 191 / 28 / 96 / 315:  63%|████████████▌       | 315/500 [07:48<04:35,  1.49s/it]textattack: Saving checkpoint under \"checkpoints\\1720198397658.ta.chkpt\" at 2024-07-06 00:53:17 after 315 attacks.\n"
     ]
    },
    {
     "name": "stdout",
     "output_type": "stream",
     "text": [
      "\n",
      "\n",
      "=============================================================================================================================\n",
      "=============================================================================================================================\n",
      "\n"
     ]
    },
    {
     "name": "stderr",
     "output_type": "stream",
     "text": [
      "[Succeeded / Failed / Skipped / Total] 195 / 28 / 97 / 320:  64%|████████████▊       | 320/500 [08:02<04:31,  1.51s/it]textattack: Saving checkpoint under \"checkpoints\\1720198411862.ta.chkpt\" at 2024-07-06 00:53:31 after 320 attacks.\n"
     ]
    },
    {
     "name": "stdout",
     "output_type": "stream",
     "text": [
      "\n",
      "\n",
      "=============================================================================================================================\n",
      "=============================================================================================================================\n",
      "\n"
     ]
    },
    {
     "name": "stderr",
     "output_type": "stream",
     "text": [
      "[Succeeded / Failed / Skipped / Total] 198 / 28 / 99 / 325:  65%|█████████████       | 325/500 [08:20<04:29,  1.54s/it]textattack: Saving checkpoint under \"checkpoints\\1720198429103.ta.chkpt\" at 2024-07-06 00:53:49 after 325 attacks.\n"
     ]
    },
    {
     "name": "stdout",
     "output_type": "stream",
     "text": [
      "\n",
      "\n",
      "=============================================================================================================================\n",
      "=============================================================================================================================\n",
      "\n"
     ]
    },
    {
     "name": "stderr",
     "output_type": "stream",
     "text": [
      "[Succeeded / Failed / Skipped / Total] 202 / 28 / 100 / 330:  66%|████████████▌      | 330/500 [08:23<04:19,  1.53s/it]textattack: Saving checkpoint under \"checkpoints\\1720198432637.ta.chkpt\" at 2024-07-06 00:53:52 after 330 attacks.\n"
     ]
    },
    {
     "name": "stdout",
     "output_type": "stream",
     "text": [
      "\n",
      "\n",
      "=============================================================================================================================\n",
      "=============================================================================================================================\n",
      "\n"
     ]
    },
    {
     "name": "stderr",
     "output_type": "stream",
     "text": [
      "[Succeeded / Failed / Skipped / Total] 206 / 29 / 100 / 335:  67%|████████████▋      | 335/500 [08:37<04:14,  1.54s/it]textattack: Saving checkpoint under \"checkpoints\\1720198446310.ta.chkpt\" at 2024-07-06 00:54:06 after 335 attacks.\n",
      "[Succeeded / Failed / Skipped / Total] 206 / 29 / 101 / 336:  67%|████████████▊      | 336/500 [08:37<04:12,  1.54s/it]"
     ]
    },
    {
     "name": "stdout",
     "output_type": "stream",
     "text": [
      "\n",
      "\n",
      "=============================================================================================================================\n",
      "=============================================================================================================================\n",
      "\n"
     ]
    },
    {
     "name": "stderr",
     "output_type": "stream",
     "text": [
      "[Succeeded / Failed / Skipped / Total] 208 / 31 / 101 / 340:  68%|████████████▉      | 340/500 [08:45<04:07,  1.55s/it]textattack: Saving checkpoint under \"checkpoints\\1720198454417.ta.chkpt\" at 2024-07-06 00:54:14 after 340 attacks.\n"
     ]
    },
    {
     "name": "stdout",
     "output_type": "stream",
     "text": [
      "\n",
      "\n",
      "=============================================================================================================================\n",
      "=============================================================================================================================\n",
      "\n"
     ]
    },
    {
     "name": "stderr",
     "output_type": "stream",
     "text": [
      "[Succeeded / Failed / Skipped / Total] 211 / 31 / 103 / 345:  69%|█████████████      | 345/500 [08:51<03:58,  1.54s/it]textattack: Saving checkpoint under \"checkpoints\\1720198460699.ta.chkpt\" at 2024-07-06 00:54:20 after 345 attacks.\n"
     ]
    },
    {
     "name": "stdout",
     "output_type": "stream",
     "text": [
      "\n",
      "\n",
      "=============================================================================================================================\n",
      "=============================================================================================================================\n",
      "\n"
     ]
    },
    {
     "name": "stderr",
     "output_type": "stream",
     "text": [
      "[Succeeded / Failed / Skipped / Total] 215 / 31 / 104 / 350:  70%|█████████████▎     | 350/500 [09:01<03:52,  1.55s/it]textattack: Saving checkpoint under \"checkpoints\\1720198470716.ta.chkpt\" at 2024-07-06 00:54:30 after 350 attacks.\n"
     ]
    },
    {
     "name": "stdout",
     "output_type": "stream",
     "text": [
      "\n",
      "\n",
      "=============================================================================================================================\n",
      "=============================================================================================================================\n",
      "\n"
     ]
    },
    {
     "name": "stderr",
     "output_type": "stream",
     "text": [
      "[Succeeded / Failed / Skipped / Total] 219 / 32 / 104 / 355:  71%|█████████████▍     | 355/500 [09:15<03:46,  1.56s/it]textattack: Saving checkpoint under \"checkpoints\\1720198484590.ta.chkpt\" at 2024-07-06 00:54:44 after 355 attacks.\n"
     ]
    },
    {
     "name": "stdout",
     "output_type": "stream",
     "text": [
      "\n",
      "\n",
      "=============================================================================================================================\n",
      "=============================================================================================================================\n",
      "\n"
     ]
    },
    {
     "name": "stderr",
     "output_type": "stream",
     "text": [
      "[Succeeded / Failed / Skipped / Total] 222 / 33 / 105 / 360:  72%|█████████████▋     | 360/500 [09:24<03:39,  1.57s/it]textattack: Saving checkpoint under \"checkpoints\\1720198493546.ta.chkpt\" at 2024-07-06 00:54:53 after 360 attacks.\n"
     ]
    },
    {
     "name": "stdout",
     "output_type": "stream",
     "text": [
      "\n",
      "\n",
      "=============================================================================================================================\n",
      "=============================================================================================================================\n",
      "\n"
     ]
    },
    {
     "name": "stderr",
     "output_type": "stream",
     "text": [
      "[Succeeded / Failed / Skipped / Total] 227 / 33 / 105 / 365:  73%|█████████████▊     | 365/500 [09:29<03:30,  1.56s/it]textattack: Saving checkpoint under \"checkpoints\\1720198498594.ta.chkpt\" at 2024-07-06 00:54:58 after 365 attacks.\n",
      "[Succeeded / Failed / Skipped / Total] 227 / 33 / 106 / 366:  73%|█████████████▉     | 366/500 [09:29<03:28,  1.56s/it]"
     ]
    },
    {
     "name": "stdout",
     "output_type": "stream",
     "text": [
      "\n",
      "\n",
      "=============================================================================================================================\n",
      "=============================================================================================================================\n",
      "\n"
     ]
    },
    {
     "name": "stderr",
     "output_type": "stream",
     "text": [
      "[Succeeded / Failed / Skipped / Total] 230 / 33 / 107 / 370:  74%|██████████████     | 370/500 [09:32<03:21,  1.55s/it]textattack: Saving checkpoint under \"checkpoints\\1720198501578.ta.chkpt\" at 2024-07-06 00:55:01 after 370 attacks.\n"
     ]
    },
    {
     "name": "stdout",
     "output_type": "stream",
     "text": [
      "\n",
      "\n",
      "=============================================================================================================================\n",
      "=============================================================================================================================\n",
      "\n"
     ]
    },
    {
     "name": "stderr",
     "output_type": "stream",
     "text": [
      "[Succeeded / Failed / Skipped / Total] 234 / 33 / 108 / 375:  75%|██████████████▎    | 375/500 [09:41<03:13,  1.55s/it]textattack: Saving checkpoint under \"checkpoints\\1720198510641.ta.chkpt\" at 2024-07-06 00:55:10 after 375 attacks.\n"
     ]
    },
    {
     "name": "stdout",
     "output_type": "stream",
     "text": [
      "\n",
      "\n",
      "=============================================================================================================================\n",
      "=============================================================================================================================\n",
      "\n"
     ]
    },
    {
     "name": "stderr",
     "output_type": "stream",
     "text": [
      "[Succeeded / Failed / Skipped / Total] 237 / 34 / 109 / 380:  76%|██████████████▍    | 380/500 [09:45<03:04,  1.54s/it]textattack: Saving checkpoint under \"checkpoints\\1720198514687.ta.chkpt\" at 2024-07-06 00:55:14 after 380 attacks.\n"
     ]
    },
    {
     "name": "stdout",
     "output_type": "stream",
     "text": [
      "\n",
      "\n",
      "=============================================================================================================================\n",
      "=============================================================================================================================\n",
      "\n"
     ]
    },
    {
     "name": "stderr",
     "output_type": "stream",
     "text": [
      "[Succeeded / Failed / Skipped / Total] 242 / 34 / 109 / 385:  77%|██████████████▋    | 385/500 [09:56<02:58,  1.55s/it]textattack: Saving checkpoint under \"checkpoints\\1720198525504.ta.chkpt\" at 2024-07-06 00:55:25 after 385 attacks.\n"
     ]
    },
    {
     "name": "stdout",
     "output_type": "stream",
     "text": [
      "\n",
      "\n",
      "=============================================================================================================================\n",
      "=============================================================================================================================\n",
      "\n"
     ]
    },
    {
     "name": "stderr",
     "output_type": "stream",
     "text": [
      "[Succeeded / Failed / Skipped / Total] 245 / 35 / 110 / 390:  78%|██████████████▊    | 390/500 [10:01<02:49,  1.54s/it]textattack: Saving checkpoint under \"checkpoints\\1720198530301.ta.chkpt\" at 2024-07-06 00:55:30 after 390 attacks.\n"
     ]
    },
    {
     "name": "stdout",
     "output_type": "stream",
     "text": [
      "\n",
      "\n",
      "=============================================================================================================================\n",
      "=============================================================================================================================\n",
      "\n"
     ]
    },
    {
     "name": "stderr",
     "output_type": "stream",
     "text": [
      "[Succeeded / Failed / Skipped / Total] 248 / 36 / 111 / 395:  79%|███████████████    | 395/500 [10:17<02:44,  1.56s/it]textattack: Saving checkpoint under \"checkpoints\\1720198546550.ta.chkpt\" at 2024-07-06 00:55:46 after 395 attacks.\n"
     ]
    },
    {
     "name": "stdout",
     "output_type": "stream",
     "text": [
      "\n",
      "\n",
      "=============================================================================================================================\n",
      "=============================================================================================================================\n",
      "\n"
     ]
    },
    {
     "name": "stderr",
     "output_type": "stream",
     "text": [
      "[Succeeded / Failed / Skipped / Total] 253 / 36 / 111 / 400:  80%|███████████████▏   | 400/500 [10:31<02:37,  1.58s/it]textattack: Saving checkpoint under \"checkpoints\\1720198560610.ta.chkpt\" at 2024-07-06 00:56:00 after 400 attacks.\n"
     ]
    },
    {
     "name": "stdout",
     "output_type": "stream",
     "text": [
      "\n",
      "\n",
      "=============================================================================================================================\n",
      "=============================================================================================================================\n",
      "\n"
     ]
    },
    {
     "name": "stderr",
     "output_type": "stream",
     "text": [
      "[Succeeded / Failed / Skipped / Total] 257 / 36 / 112 / 405:  81%|███████████████▍   | 405/500 [10:44<02:31,  1.59s/it]textattack: Saving checkpoint under \"checkpoints\\1720198573830.ta.chkpt\" at 2024-07-06 00:56:13 after 405 attacks.\n"
     ]
    },
    {
     "name": "stdout",
     "output_type": "stream",
     "text": [
      "\n",
      "\n",
      "=============================================================================================================================\n",
      "=============================================================================================================================\n",
      "\n"
     ]
    },
    {
     "name": "stderr",
     "output_type": "stream",
     "text": [
      "[Succeeded / Failed / Skipped / Total] 260 / 37 / 113 / 410:  82%|███████████████▌   | 410/500 [10:50<02:22,  1.59s/it]textattack: Saving checkpoint under \"checkpoints\\1720198579175.ta.chkpt\" at 2024-07-06 00:56:19 after 410 attacks.\n"
     ]
    },
    {
     "name": "stdout",
     "output_type": "stream",
     "text": [
      "\n",
      "\n",
      "=============================================================================================================================\n",
      "=============================================================================================================================\n",
      "\n"
     ]
    },
    {
     "name": "stderr",
     "output_type": "stream",
     "text": [
      "[Succeeded / Failed / Skipped / Total] 261 / 37 / 117 / 415:  83%|███████████████▊   | 415/500 [10:51<02:13,  1.57s/it]textattack: Saving checkpoint under \"checkpoints\\1720198580394.ta.chkpt\" at 2024-07-06 00:56:20 after 415 attacks.\n"
     ]
    },
    {
     "name": "stdout",
     "output_type": "stream",
     "text": [
      "\n",
      "\n",
      "=============================================================================================================================\n",
      "=============================================================================================================================\n",
      "\n"
     ]
    },
    {
     "name": "stderr",
     "output_type": "stream",
     "text": [
      "[Succeeded / Failed / Skipped / Total] 264 / 37 / 119 / 420:  84%|███████████████▉   | 420/500 [11:00<02:05,  1.57s/it]textattack: Saving checkpoint under \"checkpoints\\1720198589566.ta.chkpt\" at 2024-07-06 00:56:29 after 420 attacks.\n"
     ]
    },
    {
     "name": "stdout",
     "output_type": "stream",
     "text": [
      "\n",
      "\n",
      "=============================================================================================================================\n",
      "=============================================================================================================================\n",
      "\n"
     ]
    },
    {
     "name": "stderr",
     "output_type": "stream",
     "text": [
      "[Succeeded / Failed / Skipped / Total] 269 / 37 / 119 / 425:  85%|████████████████▏  | 425/500 [11:06<01:57,  1.57s/it]textattack: Saving checkpoint under \"checkpoints\\1720198595759.ta.chkpt\" at 2024-07-06 00:56:35 after 425 attacks.\n"
     ]
    },
    {
     "name": "stdout",
     "output_type": "stream",
     "text": [
      "\n",
      "\n",
      "=============================================================================================================================\n",
      "=============================================================================================================================\n",
      "\n"
     ]
    },
    {
     "name": "stderr",
     "output_type": "stream",
     "text": [
      "[Succeeded / Failed / Skipped / Total] 272 / 37 / 121 / 430:  86%|████████████████▎  | 430/500 [11:13<01:49,  1.57s/it]textattack: Saving checkpoint under \"checkpoints\\1720198602943.ta.chkpt\" at 2024-07-06 00:56:42 after 430 attacks.\n",
      "[Succeeded / Failed / Skipped / Total] 272 / 37 / 122 / 431:  86%|████████████████▍  | 431/500 [11:14<01:47,  1.56s/it]"
     ]
    },
    {
     "name": "stdout",
     "output_type": "stream",
     "text": [
      "\n",
      "\n",
      "=============================================================================================================================\n",
      "=============================================================================================================================\n",
      "\n"
     ]
    },
    {
     "name": "stderr",
     "output_type": "stream",
     "text": [
      "[Succeeded / Failed / Skipped / Total] 276 / 37 / 122 / 435:  87%|████████████████▌  | 435/500 [11:17<01:41,  1.56s/it]textattack: Saving checkpoint under \"checkpoints\\1720198606655.ta.chkpt\" at 2024-07-06 00:56:46 after 435 attacks.\n",
      "[Succeeded / Failed / Skipped / Total] 276 / 37 / 123 / 436:  87%|████████████████▌  | 436/500 [11:17<01:39,  1.55s/it]"
     ]
    },
    {
     "name": "stdout",
     "output_type": "stream",
     "text": [
      "\n",
      "\n",
      "=============================================================================================================================\n",
      "=============================================================================================================================\n",
      "\n"
     ]
    },
    {
     "name": "stderr",
     "output_type": "stream",
     "text": [
      "[Succeeded / Failed / Skipped / Total] 279 / 38 / 123 / 440:  88%|████████████████▋  | 440/500 [11:36<01:34,  1.58s/it]textattack: Saving checkpoint under \"checkpoints\\1720198625534.ta.chkpt\" at 2024-07-06 00:57:05 after 440 attacks.\n",
      "[Succeeded / Failed / Skipped / Total] 279 / 38 / 124 / 441:  88%|████████████████▊  | 441/500 [11:36<01:33,  1.58s/it]"
     ]
    },
    {
     "name": "stdout",
     "output_type": "stream",
     "text": [
      "\n",
      "\n",
      "=============================================================================================================================\n",
      "=============================================================================================================================\n",
      "\n"
     ]
    },
    {
     "name": "stderr",
     "output_type": "stream",
     "text": [
      "[Succeeded / Failed / Skipped / Total] 282 / 39 / 124 / 445:  89%|████████████████▉  | 445/500 [11:41<01:26,  1.58s/it]textattack: Saving checkpoint under \"checkpoints\\1720198630878.ta.chkpt\" at 2024-07-06 00:57:10 after 445 attacks.\n"
     ]
    },
    {
     "name": "stdout",
     "output_type": "stream",
     "text": [
      "\n",
      "\n",
      "=============================================================================================================================\n",
      "=============================================================================================================================\n",
      "\n"
     ]
    },
    {
     "name": "stderr",
     "output_type": "stream",
     "text": [
      "[Succeeded / Failed / Skipped / Total] 283 / 41 / 126 / 450:  90%|█████████████████  | 450/500 [11:49<01:18,  1.58s/it]textattack: Saving checkpoint under \"checkpoints\\1720198638662.ta.chkpt\" at 2024-07-06 00:57:18 after 450 attacks.\n",
      "[Succeeded / Failed / Skipped / Total] 283 / 41 / 128 / 452:  90%|█████████████████▏ | 452/500 [11:49<01:15,  1.57s/it]"
     ]
    },
    {
     "name": "stdout",
     "output_type": "stream",
     "text": [
      "\n",
      "\n",
      "=============================================================================================================================\n",
      "=============================================================================================================================\n",
      "\n"
     ]
    },
    {
     "name": "stderr",
     "output_type": "stream",
     "text": [
      "[Succeeded / Failed / Skipped / Total] 286 / 41 / 128 / 455:  91%|█████████████████▎ | 455/500 [11:54<01:10,  1.57s/it]textattack: Saving checkpoint under \"checkpoints\\1720198643694.ta.chkpt\" at 2024-07-06 00:57:23 after 455 attacks.\n"
     ]
    },
    {
     "name": "stdout",
     "output_type": "stream",
     "text": [
      "\n",
      "\n",
      "=============================================================================================================================\n",
      "=============================================================================================================================\n",
      "\n"
     ]
    },
    {
     "name": "stderr",
     "output_type": "stream",
     "text": [
      "[Succeeded / Failed / Skipped / Total] 290 / 41 / 129 / 460:  92%|█████████████████▍ | 460/500 [12:04<01:02,  1.57s/it]textattack: Saving checkpoint under \"checkpoints\\1720198653535.ta.chkpt\" at 2024-07-06 00:57:33 after 460 attacks.\n"
     ]
    },
    {
     "name": "stdout",
     "output_type": "stream",
     "text": [
      "\n",
      "\n",
      "=============================================================================================================================\n",
      "=============================================================================================================================\n",
      "\n"
     ]
    },
    {
     "name": "stderr",
     "output_type": "stream",
     "text": [
      "[Succeeded / Failed / Skipped / Total] 294 / 41 / 130 / 465:  93%|█████████████████▋ | 465/500 [12:15<00:55,  1.58s/it]textattack: Saving checkpoint under \"checkpoints\\1720198664553.ta.chkpt\" at 2024-07-06 00:57:44 after 465 attacks.\n"
     ]
    },
    {
     "name": "stdout",
     "output_type": "stream",
     "text": [
      "\n",
      "\n",
      "=============================================================================================================================\n",
      "=============================================================================================================================\n",
      "\n"
     ]
    },
    {
     "name": "stderr",
     "output_type": "stream",
     "text": [
      "[Succeeded / Failed / Skipped / Total] 295 / 41 / 134 / 470:  94%|█████████████████▊ | 470/500 [12:16<00:47,  1.57s/it]textattack: Saving checkpoint under \"checkpoints\\1720198665585.ta.chkpt\" at 2024-07-06 00:57:45 after 470 attacks.\n"
     ]
    },
    {
     "name": "stdout",
     "output_type": "stream",
     "text": [
      "\n",
      "\n",
      "=============================================================================================================================\n",
      "=============================================================================================================================\n",
      "\n"
     ]
    },
    {
     "name": "stderr",
     "output_type": "stream",
     "text": [
      "[Succeeded / Failed / Skipped / Total] 300 / 41 / 134 / 475:  95%|██████████████████ | 475/500 [12:27<00:39,  1.57s/it]textattack: Saving checkpoint under \"checkpoints\\1720198676444.ta.chkpt\" at 2024-07-06 00:57:56 after 475 attacks.\n"
     ]
    },
    {
     "name": "stdout",
     "output_type": "stream",
     "text": [
      "\n",
      "\n",
      "=============================================================================================================================\n",
      "=============================================================================================================================\n",
      "\n"
     ]
    },
    {
     "name": "stderr",
     "output_type": "stream",
     "text": [
      "[Succeeded / Failed / Skipped / Total] 303 / 43 / 134 / 480:  96%|██████████████████▏| 480/500 [12:36<00:31,  1.58s/it]textattack: Saving checkpoint under \"checkpoints\\1720198685758.ta.chkpt\" at 2024-07-06 00:58:05 after 480 attacks.\n"
     ]
    },
    {
     "name": "stdout",
     "output_type": "stream",
     "text": [
      "\n",
      "\n",
      "=============================================================================================================================\n",
      "=============================================================================================================================\n",
      "\n"
     ]
    },
    {
     "name": "stderr",
     "output_type": "stream",
     "text": [
      "[Succeeded / Failed / Skipped / Total] 306 / 43 / 136 / 485:  97%|██████████████████▍| 485/500 [12:45<00:23,  1.58s/it]textattack: Saving checkpoint under \"checkpoints\\1720198694584.ta.chkpt\" at 2024-07-06 00:58:14 after 485 attacks.\n"
     ]
    },
    {
     "name": "stdout",
     "output_type": "stream",
     "text": [
      "\n",
      "\n",
      "=============================================================================================================================\n",
      "=============================================================================================================================\n",
      "\n"
     ]
    },
    {
     "name": "stderr",
     "output_type": "stream",
     "text": [
      "[Succeeded / Failed / Skipped / Total] 310 / 43 / 137 / 490:  98%|██████████████████▌| 490/500 [12:56<00:15,  1.58s/it]textattack: Saving checkpoint under \"checkpoints\\1720198705213.ta.chkpt\" at 2024-07-06 00:58:25 after 490 attacks.\n",
      "[Succeeded / Failed / Skipped / Total] 310 / 43 / 138 / 491:  98%|██████████████████▋| 491/500 [12:56<00:14,  1.58s/it]"
     ]
    },
    {
     "name": "stdout",
     "output_type": "stream",
     "text": [
      "\n",
      "\n",
      "=============================================================================================================================\n",
      "=============================================================================================================================\n",
      "\n"
     ]
    },
    {
     "name": "stderr",
     "output_type": "stream",
     "text": [
      "[Succeeded / Failed / Skipped / Total] 313 / 43 / 139 / 495:  99%|██████████████████▊| 495/500 [13:05<00:07,  1.59s/it]textattack: Saving checkpoint under \"checkpoints\\1720198714539.ta.chkpt\" at 2024-07-06 00:58:34 after 495 attacks.\n"
     ]
    },
    {
     "name": "stdout",
     "output_type": "stream",
     "text": [
      "\n",
      "\n",
      "=============================================================================================================================\n",
      "=============================================================================================================================\n",
      "\n"
     ]
    },
    {
     "name": "stderr",
     "output_type": "stream",
     "text": [
      "[Succeeded / Failed / Skipped / Total] 317 / 43 / 140 / 500: 100%|███████████████████| 500/500 [13:13<00:00,  1.59s/it]textattack: Saving checkpoint under \"checkpoints\\1720198722665.ta.chkpt\" at 2024-07-06 00:58:42 after 500 attacks.\n",
      "[Succeeded / Failed / Skipped / Total] 317 / 43 / 140 / 500: 100%|███████████████████| 500/500 [13:13<00:00,  1.59s/it]"
     ]
    },
    {
     "name": "stdout",
     "output_type": "stream",
     "text": [
      "\n",
      "\n",
      "=============================================================================================================================\n",
      "=============================================================================================================================\n",
      "\n",
      "\n",
      "+-------------------------------+--------+\n",
      "| Attack Results                |        |\n",
      "+-------------------------------+--------+\n",
      "| Number of successful attacks: | 317    |\n",
      "| Number of failed attacks:     | 43     |\n",
      "| Number of skipped attacks:    | 140    |\n",
      "| Original accuracy:            | 72.0%  |\n",
      "| Accuracy under attack:        | 8.6%   |\n",
      "| Attack success rate:          | 88.06% |\n",
      "| Average perturbed word %:     | 15.97% |\n",
      "| Average num. words per input: | 18.4   |\n",
      "| Avg num queries:              | 46.57  |\n",
      "+-------------------------------+--------+\n"
     ]
    },
    {
     "name": "stderr",
     "output_type": "stream",
     "text": [
      "\n"
     ]
    }
   ],
   "source": [
    "runAttack(bert_model_wrapper_rf_mr, n_samples, 'attack_results_new/bertmrattackrf'+suffix, target_ds_mr)"
   ]
  },
  {
   "cell_type": "code",
   "execution_count": 14,
   "id": "f75d34d5-d9aa-4d77-989d-db73f9ddeaab",
   "metadata": {},
   "outputs": [
    {
     "name": "stderr",
     "output_type": "stream",
     "text": [
      "textattack: Unknown if model of class <class 'transformers.models.bert.modeling_bert.BertModel'> compatible with goal function <class 'textattack.goal_functions.classification.untargeted_classification.UntargetedClassification'>.\n",
      "textattack: Logging to CSV at path attack_results_new/bertmrattackknnsim07.csv\n"
     ]
    },
    {
     "name": "stdout",
     "output_type": "stream",
     "text": [
      "Attack(\n",
      "  (search_method): GreedyWordSwapWIR(\n",
      "    (wir_method):  delete\n",
      "  )\n",
      "  (goal_function):  UntargetedClassification\n",
      "  (transformation):  WordSwapEmbedding(\n",
      "    (max_candidates):  50\n",
      "    (embedding):  WordEmbedding\n",
      "  )\n",
      "  (constraints): \n",
      "    (0): WordEmbeddingDistance(\n",
      "        (embedding):  WordEmbedding\n",
      "        (min_cos_sim):  0.7\n",
      "        (cased):  False\n",
      "        (include_unknown_words):  True\n",
      "        (compare_against_original):  True\n",
      "      )\n",
      "    (1): PartOfSpeech(\n",
      "        (tagger_type):  nltk\n",
      "        (tagset):  universal\n",
      "        (allow_verb_noun_swap):  True\n",
      "        (compare_against_original):  True\n",
      "      )\n",
      "    (2): UniversalSentenceEncoder(\n",
      "        (metric):  angular\n",
      "        (threshold):  0.840845057\n",
      "        (window_size):  15\n",
      "        (skip_text_shorter_than_window):  True\n",
      "        (compare_against_original):  False\n",
      "      )\n",
      "    (3): RepeatModification\n",
      "    (4): StopwordModification\n",
      "    (5): InputColumnModification(\n",
      "        (matching_column_labels):  ['premise', 'hypothesis']\n",
      "        (columns_to_ignore):  {'premise'}\n",
      "      )\n",
      "  (is_black_box):  True\n",
      ") \n",
      "\n"
     ]
    },
    {
     "name": "stderr",
     "output_type": "stream",
     "text": [
      "[Succeeded / Failed / Skipped / Total] 3 / 0 / 2 / 5:   1%|▎                           | 5/500 [00:12<19:50,  2.41s/it]textattack: Saving checkpoint under \"checkpoints\\1720198734820.ta.chkpt\" at 2024-07-06 00:58:54 after 5 attacks.\n"
     ]
    },
    {
     "name": "stdout",
     "output_type": "stream",
     "text": [
      "\n",
      "\n",
      "=============================================================================================================================\n",
      "=============================================================================================================================\n",
      "\n"
     ]
    },
    {
     "name": "stderr",
     "output_type": "stream",
     "text": [
      "[Succeeded / Failed / Skipped / Total] 6 / 0 / 4 / 10:   2%|▌                         | 10/500 [00:15<13:00,  1.59s/it]textattack: Saving checkpoint under \"checkpoints\\1720198738739.ta.chkpt\" at 2024-07-06 00:58:58 after 10 attacks.\n"
     ]
    },
    {
     "name": "stdout",
     "output_type": "stream",
     "text": [
      "\n",
      "\n",
      "=============================================================================================================================\n",
      "=============================================================================================================================\n",
      "\n"
     ]
    },
    {
     "name": "stderr",
     "output_type": "stream",
     "text": [
      "[Succeeded / Failed / Skipped / Total] 8 / 1 / 6 / 15:   3%|▊                         | 15/500 [00:37<20:08,  2.49s/it]textattack: Saving checkpoint under \"checkpoints\\1720198760168.ta.chkpt\" at 2024-07-06 00:59:20 after 15 attacks.\n"
     ]
    },
    {
     "name": "stdout",
     "output_type": "stream",
     "text": [
      "\n",
      "\n",
      "=============================================================================================================================\n",
      "=============================================================================================================================\n",
      "\n"
     ]
    },
    {
     "name": "stderr",
     "output_type": "stream",
     "text": [
      "[Succeeded / Failed / Skipped / Total] 12 / 1 / 7 / 20:   4%|█                        | 20/500 [00:39<15:55,  1.99s/it]textattack: Saving checkpoint under \"checkpoints\\1720198762622.ta.chkpt\" at 2024-07-06 00:59:22 after 20 attacks.\n"
     ]
    },
    {
     "name": "stdout",
     "output_type": "stream",
     "text": [
      "\n",
      "\n",
      "=============================================================================================================================\n",
      "=============================================================================================================================\n",
      "\n"
     ]
    },
    {
     "name": "stderr",
     "output_type": "stream",
     "text": [
      "[Succeeded / Failed / Skipped / Total] 16 / 1 / 8 / 25:   5%|█▎                       | 25/500 [00:43<13:51,  1.75s/it]textattack: Saving checkpoint under \"checkpoints\\1720198766544.ta.chkpt\" at 2024-07-06 00:59:26 after 25 attacks.\n"
     ]
    },
    {
     "name": "stdout",
     "output_type": "stream",
     "text": [
      "\n",
      "\n",
      "=============================================================================================================================\n",
      "=============================================================================================================================\n",
      "\n"
     ]
    },
    {
     "name": "stderr",
     "output_type": "stream",
     "text": [
      "[Succeeded / Failed / Skipped / Total] 20 / 2 / 8 / 30:   6%|█▌                       | 30/500 [00:52<13:42,  1.75s/it]textattack: Saving checkpoint under \"checkpoints\\1720198775306.ta.chkpt\" at 2024-07-06 00:59:35 after 30 attacks.\n",
      "[Succeeded / Failed / Skipped / Total] 20 / 2 / 9 / 31:   6%|█▌                       | 31/500 [00:52<13:15,  1.70s/it]"
     ]
    },
    {
     "name": "stdout",
     "output_type": "stream",
     "text": [
      "\n",
      "\n",
      "=============================================================================================================================\n",
      "=============================================================================================================================\n",
      "\n"
     ]
    },
    {
     "name": "stderr",
     "output_type": "stream",
     "text": [
      "[Succeeded / Failed / Skipped / Total] 23 / 2 / 10 / 35:   7%|█▋                      | 35/500 [00:56<12:25,  1.60s/it]textattack: Saving checkpoint under \"checkpoints\\1720198778916.ta.chkpt\" at 2024-07-06 00:59:38 after 35 attacks.\n"
     ]
    },
    {
     "name": "stdout",
     "output_type": "stream",
     "text": [
      "\n",
      "\n",
      "=============================================================================================================================\n",
      "=============================================================================================================================\n",
      "\n"
     ]
    },
    {
     "name": "stderr",
     "output_type": "stream",
     "text": [
      "[Succeeded / Failed / Skipped / Total] 26 / 2 / 12 / 40:   8%|█▉                      | 40/500 [00:59<11:22,  1.48s/it]textattack: Saving checkpoint under \"checkpoints\\1720198782134.ta.chkpt\" at 2024-07-06 00:59:42 after 40 attacks.\n"
     ]
    },
    {
     "name": "stdout",
     "output_type": "stream",
     "text": [
      "\n",
      "\n",
      "=============================================================================================================================\n",
      "=============================================================================================================================\n",
      "\n"
     ]
    },
    {
     "name": "stderr",
     "output_type": "stream",
     "text": [
      "[Succeeded / Failed / Skipped / Total] 29 / 2 / 14 / 45:   9%|██▏                     | 45/500 [01:06<11:11,  1.48s/it]textattack: Saving checkpoint under \"checkpoints\\1720198789172.ta.chkpt\" at 2024-07-06 00:59:49 after 45 attacks.\n"
     ]
    },
    {
     "name": "stdout",
     "output_type": "stream",
     "text": [
      "\n",
      "\n",
      "=============================================================================================================================\n",
      "=============================================================================================================================\n",
      "\n"
     ]
    },
    {
     "name": "stderr",
     "output_type": "stream",
     "text": [
      "[Succeeded / Failed / Skipped / Total] 32 / 2 / 16 / 50:  10%|██▍                     | 50/500 [01:09<10:22,  1.38s/it]textattack: Saving checkpoint under \"checkpoints\\1720198791969.ta.chkpt\" at 2024-07-06 00:59:51 after 50 attacks.\n"
     ]
    },
    {
     "name": "stdout",
     "output_type": "stream",
     "text": [
      "\n",
      "\n",
      "=============================================================================================================================\n",
      "=============================================================================================================================\n",
      "\n"
     ]
    },
    {
     "name": "stderr",
     "output_type": "stream",
     "text": [
      "[Succeeded / Failed / Skipped / Total] 36 / 2 / 17 / 55:  11%|██▋                     | 55/500 [01:14<10:06,  1.36s/it]textattack: Saving checkpoint under \"checkpoints\\1720198797766.ta.chkpt\" at 2024-07-06 00:59:57 after 55 attacks.\n"
     ]
    },
    {
     "name": "stdout",
     "output_type": "stream",
     "text": [
      "\n",
      "\n",
      "=============================================================================================================================\n",
      "=============================================================================================================================\n",
      "\n"
     ]
    },
    {
     "name": "stderr",
     "output_type": "stream",
     "text": [
      "[Succeeded / Failed / Skipped / Total] 40 / 2 / 18 / 60:  12%|██▉                     | 60/500 [01:20<09:47,  1.33s/it]textattack: Saving checkpoint under \"checkpoints\\1720198802844.ta.chkpt\" at 2024-07-06 01:00:02 after 60 attacks.\n"
     ]
    },
    {
     "name": "stdout",
     "output_type": "stream",
     "text": [
      "\n",
      "\n",
      "=============================================================================================================================\n",
      "=============================================================================================================================\n",
      "\n"
     ]
    },
    {
     "name": "stderr",
     "output_type": "stream",
     "text": [
      "[Succeeded / Failed / Skipped / Total] 45 / 2 / 18 / 65:  13%|███                     | 65/500 [01:24<09:24,  1.30s/it]textattack: Saving checkpoint under \"checkpoints\\1720198807079.ta.chkpt\" at 2024-07-06 01:00:07 after 65 attacks.\n"
     ]
    },
    {
     "name": "stdout",
     "output_type": "stream",
     "text": [
      "\n",
      "\n",
      "=============================================================================================================================\n",
      "=============================================================================================================================\n",
      "\n"
     ]
    },
    {
     "name": "stderr",
     "output_type": "stream",
     "text": [
      "[Succeeded / Failed / Skipped / Total] 48 / 3 / 19 / 70:  14%|███▎                    | 70/500 [01:29<09:12,  1.28s/it]textattack: Saving checkpoint under \"checkpoints\\1720198812699.ta.chkpt\" at 2024-07-06 01:00:12 after 70 attacks.\n"
     ]
    },
    {
     "name": "stdout",
     "output_type": "stream",
     "text": [
      "\n",
      "\n",
      "=============================================================================================================================\n",
      "=============================================================================================================================\n",
      "\n"
     ]
    },
    {
     "name": "stderr",
     "output_type": "stream",
     "text": [
      "[Succeeded / Failed / Skipped / Total] 52 / 3 / 20 / 75:  15%|███▌                    | 75/500 [01:34<08:53,  1.25s/it]textattack: Saving checkpoint under \"checkpoints\\1720198816893.ta.chkpt\" at 2024-07-06 01:00:16 after 75 attacks.\n",
      "[Succeeded / Failed / Skipped / Total] 52 / 3 / 21 / 76:  15%|███▋                    | 76/500 [01:34<08:45,  1.24s/it]"
     ]
    },
    {
     "name": "stdout",
     "output_type": "stream",
     "text": [
      "\n",
      "\n",
      "=============================================================================================================================\n",
      "=============================================================================================================================\n",
      "\n"
     ]
    },
    {
     "name": "stderr",
     "output_type": "stream",
     "text": [
      "[Succeeded / Failed / Skipped / Total] 56 / 3 / 21 / 80:  16%|███▊                    | 80/500 [01:38<08:36,  1.23s/it]textattack: Saving checkpoint under \"checkpoints\\1720198821206.ta.chkpt\" at 2024-07-06 01:00:21 after 80 attacks.\n"
     ]
    },
    {
     "name": "stdout",
     "output_type": "stream",
     "text": [
      "\n",
      "\n",
      "=============================================================================================================================\n",
      "=============================================================================================================================\n",
      "\n"
     ]
    },
    {
     "name": "stderr",
     "output_type": "stream",
     "text": [
      "[Succeeded / Failed / Skipped / Total] 60 / 3 / 22 / 85:  17%|████                    | 85/500 [01:43<08:25,  1.22s/it]textattack: Saving checkpoint under \"checkpoints\\1720198826315.ta.chkpt\" at 2024-07-06 01:00:26 after 85 attacks.\n",
      "[Succeeded / Failed / Skipped / Total] 60 / 3 / 23 / 86:  17%|████▏                   | 86/500 [01:43<08:18,  1.21s/it]"
     ]
    },
    {
     "name": "stdout",
     "output_type": "stream",
     "text": [
      "\n",
      "\n",
      "=============================================================================================================================\n",
      "=============================================================================================================================\n",
      "\n"
     ]
    },
    {
     "name": "stderr",
     "output_type": "stream",
     "text": [
      "[Succeeded / Failed / Skipped / Total] 64 / 3 / 23 / 90:  18%|████▎                   | 90/500 [01:51<08:28,  1.24s/it]textattack: Saving checkpoint under \"checkpoints\\1720198834513.ta.chkpt\" at 2024-07-06 01:00:34 after 90 attacks.\n",
      "[Succeeded / Failed / Skipped / Total] 64 / 3 / 24 / 91:  18%|████▎                   | 91/500 [01:51<08:22,  1.23s/it]"
     ]
    },
    {
     "name": "stdout",
     "output_type": "stream",
     "text": [
      "\n",
      "\n",
      "=============================================================================================================================\n",
      "=============================================================================================================================\n",
      "\n"
     ]
    },
    {
     "name": "stderr",
     "output_type": "stream",
     "text": [
      "[Succeeded / Failed / Skipped / Total] 64 / 3 / 28 / 95:  19%|████▌                   | 95/500 [01:52<07:58,  1.18s/it]textattack: Saving checkpoint under \"checkpoints\\1720198835028.ta.chkpt\" at 2024-07-06 01:00:35 after 95 attacks.\n"
     ]
    },
    {
     "name": "stdout",
     "output_type": "stream",
     "text": [
      "\n",
      "\n",
      "=============================================================================================================================\n",
      "=============================================================================================================================\n",
      "\n"
     ]
    },
    {
     "name": "stderr",
     "output_type": "stream",
     "text": [
      "[Succeeded / Failed / Skipped / Total] 68 / 4 / 28 / 100:  20%|████▍                 | 100/500 [02:01<08:05,  1.21s/it]textattack: Saving checkpoint under \"checkpoints\\1720198844052.ta.chkpt\" at 2024-07-06 01:00:44 after 100 attacks.\n"
     ]
    },
    {
     "name": "stdout",
     "output_type": "stream",
     "text": [
      "\n",
      "\n",
      "=============================================================================================================================\n",
      "=============================================================================================================================\n",
      "\n"
     ]
    },
    {
     "name": "stderr",
     "output_type": "stream",
     "text": [
      "[Succeeded / Failed / Skipped / Total] 71 / 4 / 30 / 105:  21%|████▌                 | 105/500 [02:04<07:47,  1.18s/it]textattack: Saving checkpoint under \"checkpoints\\1720198847130.ta.chkpt\" at 2024-07-06 01:00:47 after 105 attacks.\n",
      "[Succeeded / Failed / Skipped / Total] 71 / 4 / 31 / 106:  21%|████▋                 | 106/500 [02:04<07:42,  1.17s/it]"
     ]
    },
    {
     "name": "stdout",
     "output_type": "stream",
     "text": [
      "\n",
      "\n",
      "=============================================================================================================================\n",
      "=============================================================================================================================\n",
      "\n"
     ]
    },
    {
     "name": "stderr",
     "output_type": "stream",
     "text": [
      "[Succeeded / Failed / Skipped / Total] 75 / 4 / 31 / 110:  22%|████▊                 | 110/500 [02:09<07:38,  1.18s/it]textattack: Saving checkpoint under \"checkpoints\\1720198852100.ta.chkpt\" at 2024-07-06 01:00:52 after 110 attacks.\n"
     ]
    },
    {
     "name": "stdout",
     "output_type": "stream",
     "text": [
      "\n",
      "\n",
      "=============================================================================================================================\n",
      "=============================================================================================================================\n",
      "\n"
     ]
    },
    {
     "name": "stderr",
     "output_type": "stream",
     "text": [
      "[Succeeded / Failed / Skipped / Total] 78 / 5 / 32 / 115:  23%|█████                 | 115/500 [02:19<07:45,  1.21s/it]textattack: Saving checkpoint under \"checkpoints\\1720198861889.ta.chkpt\" at 2024-07-06 01:01:01 after 115 attacks.\n",
      "[Succeeded / Failed / Skipped / Total] 78 / 5 / 33 / 116:  23%|█████                 | 116/500 [02:19<07:40,  1.20s/it]"
     ]
    },
    {
     "name": "stdout",
     "output_type": "stream",
     "text": [
      "\n",
      "\n",
      "=============================================================================================================================\n",
      "=============================================================================================================================\n",
      "\n"
     ]
    },
    {
     "name": "stderr",
     "output_type": "stream",
     "text": [
      "[Succeeded / Failed / Skipped / Total] 81 / 5 / 34 / 120:  24%|█████▎                | 120/500 [02:21<07:29,  1.18s/it]textattack: Saving checkpoint under \"checkpoints\\1720198864733.ta.chkpt\" at 2024-07-06 01:01:04 after 120 attacks.\n"
     ]
    },
    {
     "name": "stdout",
     "output_type": "stream",
     "text": [
      "\n",
      "\n",
      "=============================================================================================================================\n",
      "=============================================================================================================================\n",
      "\n"
     ]
    },
    {
     "name": "stderr",
     "output_type": "stream",
     "text": [
      "[Succeeded / Failed / Skipped / Total] 83 / 5 / 37 / 125:  25%|█████▌                | 125/500 [02:24<07:14,  1.16s/it]textattack: Saving checkpoint under \"checkpoints\\1720198867780.ta.chkpt\" at 2024-07-06 01:01:07 after 125 attacks.\n"
     ]
    },
    {
     "name": "stdout",
     "output_type": "stream",
     "text": [
      "\n",
      "\n",
      "=============================================================================================================================\n",
      "=============================================================================================================================\n",
      "\n"
     ]
    },
    {
     "name": "stderr",
     "output_type": "stream",
     "text": [
      "[Succeeded / Failed / Skipped / Total] 86 / 5 / 39 / 130:  26%|█████▋                | 130/500 [02:28<07:01,  1.14s/it]textattack: Saving checkpoint under \"checkpoints\\1720198870807.ta.chkpt\" at 2024-07-06 01:01:10 after 130 attacks.\n",
      "[Succeeded / Failed / Skipped / Total] 86 / 5 / 40 / 131:  26%|█████▊                | 131/500 [02:28<06:57,  1.13s/it]"
     ]
    },
    {
     "name": "stdout",
     "output_type": "stream",
     "text": [
      "\n",
      "\n",
      "=============================================================================================================================\n",
      "=============================================================================================================================\n",
      "\n"
     ]
    },
    {
     "name": "stderr",
     "output_type": "stream",
     "text": [
      "[Succeeded / Failed / Skipped / Total] 89 / 5 / 41 / 135:  27%|█████▉                | 135/500 [02:31<06:49,  1.12s/it]textattack: Saving checkpoint under \"checkpoints\\1720198874170.ta.chkpt\" at 2024-07-06 01:01:14 after 135 attacks.\n"
     ]
    },
    {
     "name": "stdout",
     "output_type": "stream",
     "text": [
      "\n",
      "\n",
      "=============================================================================================================================\n",
      "=============================================================================================================================\n",
      "\n"
     ]
    },
    {
     "name": "stderr",
     "output_type": "stream",
     "text": [
      "[Succeeded / Failed / Skipped / Total] 93 / 5 / 42 / 140:  28%|██████▏               | 140/500 [02:37<06:45,  1.13s/it]textattack: Saving checkpoint under \"checkpoints\\1720198880389.ta.chkpt\" at 2024-07-06 01:01:20 after 140 attacks.\n",
      "[Succeeded / Failed / Skipped / Total] 93 / 5 / 43 / 141:  28%|██████▏               | 141/500 [02:37<06:41,  1.12s/it]"
     ]
    },
    {
     "name": "stdout",
     "output_type": "stream",
     "text": [
      "\n",
      "\n",
      "=============================================================================================================================\n",
      "=============================================================================================================================\n",
      "\n"
     ]
    },
    {
     "name": "stderr",
     "output_type": "stream",
     "text": [
      "[Succeeded / Failed / Skipped / Total] 96 / 5 / 44 / 145:  29%|██████▍               | 145/500 [02:40<06:31,  1.10s/it]textattack: Saving checkpoint under \"checkpoints\\1720198882890.ta.chkpt\" at 2024-07-06 01:01:22 after 145 attacks.\n"
     ]
    },
    {
     "name": "stdout",
     "output_type": "stream",
     "text": [
      "\n",
      "\n",
      "=============================================================================================================================\n",
      "=============================================================================================================================\n",
      "\n"
     ]
    },
    {
     "name": "stderr",
     "output_type": "stream",
     "text": [
      "[Succeeded / Failed / Skipped / Total] 101 / 5 / 44 / 150:  30%|██████▎              | 150/500 [02:45<06:25,  1.10s/it]textattack: Saving checkpoint under \"checkpoints\\1720198887999.ta.chkpt\" at 2024-07-06 01:01:27 after 150 attacks.\n"
     ]
    },
    {
     "name": "stdout",
     "output_type": "stream",
     "text": [
      "\n",
      "\n",
      "=============================================================================================================================\n",
      "=============================================================================================================================\n",
      "\n"
     ]
    },
    {
     "name": "stderr",
     "output_type": "stream",
     "text": [
      "[Succeeded / Failed / Skipped / Total] 103 / 5 / 47 / 155:  31%|██████▌              | 155/500 [02:47<06:12,  1.08s/it]textattack: Saving checkpoint under \"checkpoints\\1720198890250.ta.chkpt\" at 2024-07-06 01:01:30 after 155 attacks.\n",
      "[Succeeded / Failed / Skipped / Total] 103 / 5 / 48 / 156:  31%|██████▌              | 156/500 [02:47<06:09,  1.07s/it]"
     ]
    },
    {
     "name": "stdout",
     "output_type": "stream",
     "text": [
      "\n",
      "\n",
      "=============================================================================================================================\n",
      "=============================================================================================================================\n",
      "\n"
     ]
    },
    {
     "name": "stderr",
     "output_type": "stream",
     "text": [
      "[Succeeded / Failed / Skipped / Total] 106 / 5 / 49 / 160:  32%|██████▋              | 160/500 [02:50<06:03,  1.07s/it]textattack: Saving checkpoint under \"checkpoints\\1720198893672.ta.chkpt\" at 2024-07-06 01:01:33 after 160 attacks.\n"
     ]
    },
    {
     "name": "stdout",
     "output_type": "stream",
     "text": [
      "\n",
      "\n",
      "=============================================================================================================================\n",
      "=============================================================================================================================\n",
      "\n"
     ]
    },
    {
     "name": "stderr",
     "output_type": "stream",
     "text": [
      "[Succeeded / Failed / Skipped / Total] 109 / 6 / 50 / 165:  33%|██████▉              | 165/500 [03:06<06:19,  1.13s/it]textattack: Saving checkpoint under \"checkpoints\\1720198909752.ta.chkpt\" at 2024-07-06 01:01:49 after 165 attacks.\n",
      "[Succeeded / Failed / Skipped / Total] 109 / 6 / 51 / 166:  33%|██████▉              | 166/500 [03:07<06:16,  1.13s/it]"
     ]
    },
    {
     "name": "stdout",
     "output_type": "stream",
     "text": [
      "\n",
      "\n",
      "=============================================================================================================================\n",
      "=============================================================================================================================\n",
      "\n"
     ]
    },
    {
     "name": "stderr",
     "output_type": "stream",
     "text": [
      "[Succeeded / Failed / Skipped / Total] 111 / 6 / 53 / 170:  34%|███████▏             | 170/500 [03:12<06:12,  1.13s/it]textattack: Saving checkpoint under \"checkpoints\\1720198914844.ta.chkpt\" at 2024-07-06 01:01:54 after 170 attacks.\n"
     ]
    },
    {
     "name": "stdout",
     "output_type": "stream",
     "text": [
      "\n",
      "\n",
      "=============================================================================================================================\n",
      "=============================================================================================================================\n",
      "\n"
     ]
    },
    {
     "name": "stderr",
     "output_type": "stream",
     "text": [
      "[Succeeded / Failed / Skipped / Total] 115 / 6 / 54 / 175:  35%|███████▎             | 175/500 [03:20<06:12,  1.15s/it]textattack: Saving checkpoint under \"checkpoints\\1720198923509.ta.chkpt\" at 2024-07-06 01:02:03 after 175 attacks.\n",
      "[Succeeded / Failed / Skipped / Total] 115 / 6 / 56 / 177:  35%|███████▍             | 177/500 [03:20<06:06,  1.14s/it]"
     ]
    },
    {
     "name": "stdout",
     "output_type": "stream",
     "text": [
      "\n",
      "\n",
      "=============================================================================================================================\n",
      "=============================================================================================================================\n",
      "\n"
     ]
    },
    {
     "name": "stderr",
     "output_type": "stream",
     "text": [
      "[Succeeded / Failed / Skipped / Total] 117 / 6 / 57 / 180:  36%|███████▌             | 180/500 [03:22<06:00,  1.13s/it]textattack: Saving checkpoint under \"checkpoints\\1720198925463.ta.chkpt\" at 2024-07-06 01:02:05 after 180 attacks.\n",
      "[Succeeded / Failed / Skipped / Total] 117 / 6 / 58 / 181:  36%|███████▌             | 181/500 [03:22<05:57,  1.12s/it]"
     ]
    },
    {
     "name": "stdout",
     "output_type": "stream",
     "text": [
      "\n",
      "\n",
      "=============================================================================================================================\n",
      "=============================================================================================================================\n",
      "\n"
     ]
    },
    {
     "name": "stderr",
     "output_type": "stream",
     "text": [
      "[Succeeded / Failed / Skipped / Total] 119 / 6 / 60 / 185:  37%|███████▊             | 185/500 [03:24<05:47,  1.10s/it]textattack: Saving checkpoint under \"checkpoints\\1720198927083.ta.chkpt\" at 2024-07-06 01:02:07 after 185 attacks.\n"
     ]
    },
    {
     "name": "stdout",
     "output_type": "stream",
     "text": [
      "\n",
      "\n",
      "=============================================================================================================================\n",
      "=============================================================================================================================\n",
      "\n"
     ]
    },
    {
     "name": "stderr",
     "output_type": "stream",
     "text": [
      "[Succeeded / Failed / Skipped / Total] 123 / 6 / 61 / 190:  38%|███████▉             | 190/500 [03:30<05:42,  1.11s/it]textattack: Saving checkpoint under \"checkpoints\\1720198932845.ta.chkpt\" at 2024-07-06 01:02:12 after 190 attacks.\n"
     ]
    },
    {
     "name": "stdout",
     "output_type": "stream",
     "text": [
      "\n",
      "\n",
      "=============================================================================================================================\n",
      "=============================================================================================================================\n",
      "\n"
     ]
    },
    {
     "name": "stderr",
     "output_type": "stream",
     "text": [
      "[Succeeded / Failed / Skipped / Total] 127 / 6 / 62 / 195:  39%|████████▏            | 195/500 [03:36<05:38,  1.11s/it]textattack: Saving checkpoint under \"checkpoints\\1720198939159.ta.chkpt\" at 2024-07-06 01:02:19 after 195 attacks.\n",
      "[Succeeded / Failed / Skipped / Total] 127 / 6 / 63 / 196:  39%|████████▏            | 196/500 [03:36<05:35,  1.10s/it]"
     ]
    },
    {
     "name": "stdout",
     "output_type": "stream",
     "text": [
      "\n",
      "\n",
      "=============================================================================================================================\n",
      "=============================================================================================================================\n",
      "\n"
     ]
    },
    {
     "name": "stderr",
     "output_type": "stream",
     "text": [
      "[Succeeded / Failed / Skipped / Total] 130 / 6 / 64 / 200:  40%|████████▍            | 200/500 [03:41<05:32,  1.11s/it]textattack: Saving checkpoint under \"checkpoints\\1720198944268.ta.chkpt\" at 2024-07-06 01:02:24 after 200 attacks.\n"
     ]
    },
    {
     "name": "stdout",
     "output_type": "stream",
     "text": [
      "\n",
      "\n",
      "=============================================================================================================================\n",
      "=============================================================================================================================\n",
      "\n"
     ]
    },
    {
     "name": "stderr",
     "output_type": "stream",
     "text": [
      "[Succeeded / Failed / Skipped / Total] 134 / 6 / 65 / 205:  41%|████████▌            | 205/500 [03:45<05:23,  1.10s/it]textattack: Saving checkpoint under \"checkpoints\\1720198947941.ta.chkpt\" at 2024-07-06 01:02:27 after 205 attacks.\n",
      "[Succeeded / Failed / Skipped / Total] 134 / 6 / 66 / 206:  41%|████████▋            | 206/500 [03:45<05:21,  1.09s/it]"
     ]
    },
    {
     "name": "stdout",
     "output_type": "stream",
     "text": [
      "\n",
      "\n",
      "=============================================================================================================================\n",
      "=============================================================================================================================\n",
      "\n"
     ]
    },
    {
     "name": "stderr",
     "output_type": "stream",
     "text": [
      "[Succeeded / Failed / Skipped / Total] 138 / 6 / 66 / 210:  42%|████████▊            | 210/500 [03:48<05:15,  1.09s/it]textattack: Saving checkpoint under \"checkpoints\\1720198951363.ta.chkpt\" at 2024-07-06 01:02:31 after 210 attacks.\n"
     ]
    },
    {
     "name": "stdout",
     "output_type": "stream",
     "text": [
      "\n",
      "\n",
      "=============================================================================================================================\n",
      "=============================================================================================================================\n",
      "\n"
     ]
    },
    {
     "name": "stderr",
     "output_type": "stream",
     "text": [
      "[Succeeded / Failed / Skipped / Total] 142 / 6 / 67 / 215:  43%|█████████            | 215/500 [03:53<05:08,  1.08s/it]textattack: Saving checkpoint under \"checkpoints\\1720198955875.ta.chkpt\" at 2024-07-06 01:02:35 after 215 attacks.\n"
     ]
    },
    {
     "name": "stdout",
     "output_type": "stream",
     "text": [
      "\n",
      "\n",
      "=============================================================================================================================\n",
      "=============================================================================================================================\n",
      "\n"
     ]
    },
    {
     "name": "stderr",
     "output_type": "stream",
     "text": [
      "[Succeeded / Failed / Skipped / Total] 146 / 6 / 68 / 220:  44%|█████████▏           | 220/500 [03:56<05:00,  1.07s/it]textattack: Saving checkpoint under \"checkpoints\\1720198959285.ta.chkpt\" at 2024-07-06 01:02:39 after 220 attacks.\n",
      "[Succeeded / Failed / Skipped / Total] 146 / 6 / 69 / 221:  44%|█████████▎           | 221/500 [03:56<04:58,  1.07s/it]"
     ]
    },
    {
     "name": "stdout",
     "output_type": "stream",
     "text": [
      "\n",
      "\n",
      "=============================================================================================================================\n",
      "=============================================================================================================================\n",
      "\n"
     ]
    },
    {
     "name": "stderr",
     "output_type": "stream",
     "text": [
      "[Succeeded / Failed / Skipped / Total] 148 / 6 / 71 / 225:  45%|█████████▍           | 225/500 [04:00<04:53,  1.07s/it]textattack: Saving checkpoint under \"checkpoints\\1720198962801.ta.chkpt\" at 2024-07-06 01:02:42 after 225 attacks.\n"
     ]
    },
    {
     "name": "stdout",
     "output_type": "stream",
     "text": [
      "\n",
      "\n",
      "=============================================================================================================================\n",
      "=============================================================================================================================\n",
      "\n"
     ]
    },
    {
     "name": "stderr",
     "output_type": "stream",
     "text": [
      "[Succeeded / Failed / Skipped / Total] 151 / 6 / 73 / 230:  46%|█████████▋           | 230/500 [04:04<04:46,  1.06s/it]textattack: Saving checkpoint under \"checkpoints\\1720198967114.ta.chkpt\" at 2024-07-06 01:02:47 after 230 attacks.\n"
     ]
    },
    {
     "name": "stdout",
     "output_type": "stream",
     "text": [
      "\n",
      "\n",
      "=============================================================================================================================\n",
      "=============================================================================================================================\n",
      "\n"
     ]
    },
    {
     "name": "stderr",
     "output_type": "stream",
     "text": [
      "[Succeeded / Failed / Skipped / Total] 154 / 6 / 75 / 235:  47%|█████████▊           | 235/500 [04:09<04:41,  1.06s/it]textattack: Saving checkpoint under \"checkpoints\\1720198972407.ta.chkpt\" at 2024-07-06 01:02:52 after 235 attacks.\n",
      "[Succeeded / Failed / Skipped / Total] 154 / 6 / 76 / 236:  47%|█████████▉           | 236/500 [04:09<04:39,  1.06s/it]"
     ]
    },
    {
     "name": "stdout",
     "output_type": "stream",
     "text": [
      "\n",
      "\n",
      "=============================================================================================================================\n",
      "=============================================================================================================================\n",
      "\n"
     ]
    },
    {
     "name": "stderr",
     "output_type": "stream",
     "text": [
      "[Succeeded / Failed / Skipped / Total] 157 / 7 / 76 / 240:  48%|██████████           | 240/500 [04:17<04:38,  1.07s/it]textattack: Saving checkpoint under \"checkpoints\\1720198979908.ta.chkpt\" at 2024-07-06 01:02:59 after 240 attacks.\n",
      "[Succeeded / Failed / Skipped / Total] 157 / 7 / 77 / 241:  48%|██████████           | 241/500 [04:17<04:36,  1.07s/it]"
     ]
    },
    {
     "name": "stdout",
     "output_type": "stream",
     "text": [
      "\n",
      "\n",
      "=============================================================================================================================\n",
      "=============================================================================================================================\n",
      "\n"
     ]
    },
    {
     "name": "stderr",
     "output_type": "stream",
     "text": [
      "[Succeeded / Failed / Skipped / Total] 160 / 7 / 78 / 245:  49%|██████████▎          | 245/500 [04:20<04:31,  1.06s/it]textattack: Saving checkpoint under \"checkpoints\\1720198983627.ta.chkpt\" at 2024-07-06 01:03:03 after 245 attacks.\n"
     ]
    },
    {
     "name": "stdout",
     "output_type": "stream",
     "text": [
      "\n",
      "\n",
      "=============================================================================================================================\n",
      "=============================================================================================================================\n",
      "\n"
     ]
    },
    {
     "name": "stderr",
     "output_type": "stream",
     "text": [
      "[Succeeded / Failed / Skipped / Total] 164 / 7 / 79 / 250:  50%|██████████▌          | 250/500 [04:25<04:25,  1.06s/it]textattack: Saving checkpoint under \"checkpoints\\1720198988440.ta.chkpt\" at 2024-07-06 01:03:08 after 250 attacks.\n",
      "[Succeeded / Failed / Skipped / Total] 164 / 7 / 80 / 251:  50%|██████████▌          | 252/500 [04:25<04:21,  1.05s/it]"
     ]
    },
    {
     "name": "stdout",
     "output_type": "stream",
     "text": [
      "\n",
      "\n",
      "=============================================================================================================================\n",
      "=============================================================================================================================\n",
      "\n"
     ]
    },
    {
     "name": "stderr",
     "output_type": "stream",
     "text": [
      "[Succeeded / Failed / Skipped / Total] 167 / 7 / 81 / 255:  51%|██████████▋          | 255/500 [04:29<04:19,  1.06s/it]textattack: Saving checkpoint under \"checkpoints\\1720198992364.ta.chkpt\" at 2024-07-06 01:03:12 after 255 attacks.\n"
     ]
    },
    {
     "name": "stdout",
     "output_type": "stream",
     "text": [
      "\n",
      "\n",
      "=============================================================================================================================\n",
      "=============================================================================================================================\n",
      "\n"
     ]
    },
    {
     "name": "stderr",
     "output_type": "stream",
     "text": [
      "[Succeeded / Failed / Skipped / Total] 169 / 7 / 84 / 260:  52%|██████████▉          | 260/500 [04:31<04:10,  1.04s/it]textattack: Saving checkpoint under \"checkpoints\\1720198993942.ta.chkpt\" at 2024-07-06 01:03:13 after 260 attacks.\n"
     ]
    },
    {
     "name": "stdout",
     "output_type": "stream",
     "text": [
      "\n",
      "\n",
      "=============================================================================================================================\n",
      "=============================================================================================================================\n",
      "\n"
     ]
    },
    {
     "name": "stderr",
     "output_type": "stream",
     "text": [
      "[Succeeded / Failed / Skipped / Total] 174 / 7 / 84 / 265:  53%|███████████▏         | 265/500 [04:35<04:04,  1.04s/it]textattack: Saving checkpoint under \"checkpoints\\1720198998630.ta.chkpt\" at 2024-07-06 01:03:18 after 265 attacks.\n",
      "[Succeeded / Failed / Skipped / Total] 174 / 7 / 85 / 266:  53%|███████████▏         | 266/500 [04:35<04:02,  1.04s/it]"
     ]
    },
    {
     "name": "stdout",
     "output_type": "stream",
     "text": [
      "\n",
      "\n",
      "=============================================================================================================================\n",
      "=============================================================================================================================\n",
      "\n"
     ]
    },
    {
     "name": "stderr",
     "output_type": "stream",
     "text": [
      "[Succeeded / Failed / Skipped / Total] 176 / 7 / 87 / 270:  54%|███████████▎         | 270/500 [04:41<03:59,  1.04s/it]textattack: Saving checkpoint under \"checkpoints\\1720199004271.ta.chkpt\" at 2024-07-06 01:03:24 after 270 attacks.\n"
     ]
    },
    {
     "name": "stdout",
     "output_type": "stream",
     "text": [
      "\n",
      "\n",
      "=============================================================================================================================\n",
      "=============================================================================================================================\n",
      "\n"
     ]
    },
    {
     "name": "stderr",
     "output_type": "stream",
     "text": [
      "[Succeeded / Failed / Skipped / Total] 178 / 7 / 90 / 275:  55%|███████████▌         | 275/500 [04:45<03:53,  1.04s/it]textattack: Saving checkpoint under \"checkpoints\\1720199008209.ta.chkpt\" at 2024-07-06 01:03:28 after 275 attacks.\n"
     ]
    },
    {
     "name": "stdout",
     "output_type": "stream",
     "text": [
      "\n",
      "\n",
      "=============================================================================================================================\n",
      "=============================================================================================================================\n",
      "\n"
     ]
    },
    {
     "name": "stderr",
     "output_type": "stream",
     "text": [
      "[Succeeded / Failed / Skipped / Total] 181 / 7 / 92 / 280:  56%|███████████▊         | 280/500 [04:48<03:46,  1.03s/it]textattack: Saving checkpoint under \"checkpoints\\1720199011006.ta.chkpt\" at 2024-07-06 01:03:31 after 280 attacks.\n"
     ]
    },
    {
     "name": "stdout",
     "output_type": "stream",
     "text": [
      "\n",
      "\n",
      "=============================================================================================================================\n",
      "=============================================================================================================================\n",
      "\n"
     ]
    },
    {
     "name": "stderr",
     "output_type": "stream",
     "text": [
      "[Succeeded / Failed / Skipped / Total] 186 / 7 / 92 / 285:  57%|███████████▉         | 285/500 [04:53<03:41,  1.03s/it]textattack: Saving checkpoint under \"checkpoints\\1720199015940.ta.chkpt\" at 2024-07-06 01:03:35 after 285 attacks.\n",
      "[Succeeded / Failed / Skipped / Total] 186 / 7 / 94 / 287:  57%|████████████         | 287/500 [04:53<03:37,  1.02s/it]"
     ]
    },
    {
     "name": "stdout",
     "output_type": "stream",
     "text": [
      "\n",
      "\n",
      "=============================================================================================================================\n",
      "=============================================================================================================================\n",
      "\n"
     ]
    },
    {
     "name": "stderr",
     "output_type": "stream",
     "text": [
      "[Succeeded / Failed / Skipped / Total] 188 / 7 / 95 / 290:  58%|████████████▏        | 290/500 [04:56<03:34,  1.02s/it]textattack: Saving checkpoint under \"checkpoints\\1720199018925.ta.chkpt\" at 2024-07-06 01:03:38 after 290 attacks.\n"
     ]
    },
    {
     "name": "stdout",
     "output_type": "stream",
     "text": [
      "\n",
      "\n",
      "=============================================================================================================================\n",
      "=============================================================================================================================\n",
      "\n"
     ]
    },
    {
     "name": "stderr",
     "output_type": "stream",
     "text": [
      "[Succeeded / Failed / Skipped / Total] 192 / 7 / 96 / 295:  59%|████████████▍        | 295/500 [05:00<03:29,  1.02s/it]textattack: Saving checkpoint under \"checkpoints\\1720199023550.ta.chkpt\" at 2024-07-06 01:03:43 after 295 attacks.\n"
     ]
    },
    {
     "name": "stdout",
     "output_type": "stream",
     "text": [
      "\n",
      "\n",
      "=============================================================================================================================\n",
      "=============================================================================================================================\n",
      "\n"
     ]
    },
    {
     "name": "stderr",
     "output_type": "stream",
     "text": [
      "[Succeeded / Failed / Skipped / Total] 196 / 7 / 97 / 300:  60%|████████████▌        | 300/500 [05:04<03:23,  1.02s/it]textattack: Saving checkpoint under \"checkpoints\\1720199027300.ta.chkpt\" at 2024-07-06 01:03:47 after 300 attacks.\n"
     ]
    },
    {
     "name": "stdout",
     "output_type": "stream",
     "text": [
      "\n",
      "\n",
      "=============================================================================================================================\n",
      "=============================================================================================================================\n",
      "\n"
     ]
    },
    {
     "name": "stderr",
     "output_type": "stream",
     "text": [
      "[Succeeded / Failed / Skipped / Total] 198 / 7 / 100 / 305:  61%|████████████▏       | 305/500 [05:05<03:15,  1.00s/it]textattack: Saving checkpoint under \"checkpoints\\1720199028582.ta.chkpt\" at 2024-07-06 01:03:48 after 305 attacks.\n"
     ]
    },
    {
     "name": "stdout",
     "output_type": "stream",
     "text": [
      "\n",
      "\n",
      "=============================================================================================================================\n",
      "=============================================================================================================================\n",
      "\n"
     ]
    },
    {
     "name": "stderr",
     "output_type": "stream",
     "text": [
      "[Succeeded / Failed / Skipped / Total] 202 / 7 / 101 / 310:  62%|████████████▍       | 310/500 [05:09<03:09,  1.00it/s]textattack: Saving checkpoint under \"checkpoints\\1720199032317.ta.chkpt\" at 2024-07-06 01:03:52 after 310 attacks.\n"
     ]
    },
    {
     "name": "stdout",
     "output_type": "stream",
     "text": [
      "\n",
      "\n",
      "=============================================================================================================================\n",
      "=============================================================================================================================\n",
      "\n"
     ]
    },
    {
     "name": "stderr",
     "output_type": "stream",
     "text": [
      "[Succeeded / Failed / Skipped / Total] 206 / 7 / 102 / 315:  63%|████████████▌       | 315/500 [05:13<03:03,  1.01it/s]textattack: Saving checkpoint under \"checkpoints\\1720199036067.ta.chkpt\" at 2024-07-06 01:03:56 after 315 attacks.\n",
      "[Succeeded / Failed / Skipped / Total] 206 / 7 / 103 / 316:  63%|████████████▋       | 316/500 [05:13<03:02,  1.01it/s]"
     ]
    },
    {
     "name": "stdout",
     "output_type": "stream",
     "text": [
      "\n",
      "\n",
      "=============================================================================================================================\n",
      "=============================================================================================================================\n",
      "\n"
     ]
    },
    {
     "name": "stderr",
     "output_type": "stream",
     "text": [
      "[Succeeded / Failed / Skipped / Total] 208 / 8 / 104 / 320:  64%|████████████▊       | 320/500 [05:22<03:01,  1.01s/it]textattack: Saving checkpoint under \"checkpoints\\1720199045771.ta.chkpt\" at 2024-07-06 01:04:05 after 320 attacks.\n"
     ]
    },
    {
     "name": "stdout",
     "output_type": "stream",
     "text": [
      "\n",
      "\n",
      "=============================================================================================================================\n",
      "=============================================================================================================================\n",
      "\n"
     ]
    },
    {
     "name": "stderr",
     "output_type": "stream",
     "text": [
      "[Succeeded / Failed / Skipped / Total] 211 / 9 / 105 / 325:  65%|█████████████       | 325/500 [05:35<03:00,  1.03s/it]textattack: Saving checkpoint under \"checkpoints\\1720199058195.ta.chkpt\" at 2024-07-06 01:04:18 after 325 attacks.\n"
     ]
    },
    {
     "name": "stdout",
     "output_type": "stream",
     "text": [
      "\n",
      "\n",
      "=============================================================================================================================\n",
      "=============================================================================================================================\n",
      "\n"
     ]
    },
    {
     "name": "stderr",
     "output_type": "stream",
     "text": [
      "[Succeeded / Failed / Skipped / Total] 214 / 9 / 107 / 330:  66%|█████████████▏      | 330/500 [05:37<02:54,  1.02s/it]textattack: Saving checkpoint under \"checkpoints\\1720199060586.ta.chkpt\" at 2024-07-06 01:04:20 after 330 attacks.\n",
      "[Succeeded / Failed / Skipped / Total] 214 / 9 / 108 / 331:  66%|█████████████▏      | 331/500 [05:37<02:52,  1.02s/it]"
     ]
    },
    {
     "name": "stdout",
     "output_type": "stream",
     "text": [
      "\n",
      "\n",
      "=============================================================================================================================\n",
      "=============================================================================================================================\n",
      "\n"
     ]
    },
    {
     "name": "stderr",
     "output_type": "stream",
     "text": [
      "[Succeeded / Failed / Skipped / Total] 216 / 10 / 109 / 335:  67%|████████████▋      | 335/500 [05:50<02:52,  1.05s/it]textattack: Saving checkpoint under \"checkpoints\\1720199073037.ta.chkpt\" at 2024-07-06 01:04:33 after 335 attacks.\n",
      "[Succeeded / Failed / Skipped / Total] 216 / 10 / 110 / 336:  67%|████████████▊      | 336/500 [05:50<02:51,  1.04s/it]"
     ]
    },
    {
     "name": "stdout",
     "output_type": "stream",
     "text": [
      "\n",
      "\n",
      "=============================================================================================================================\n",
      "=============================================================================================================================\n",
      "\n"
     ]
    },
    {
     "name": "stderr",
     "output_type": "stream",
     "text": [
      "[Succeeded / Failed / Skipped / Total] 219 / 10 / 111 / 340:  68%|████████████▉      | 340/500 [05:54<02:46,  1.04s/it]textattack: Saving checkpoint under \"checkpoints\\1720199076991.ta.chkpt\" at 2024-07-06 01:04:36 after 340 attacks.\n"
     ]
    },
    {
     "name": "stdout",
     "output_type": "stream",
     "text": [
      "\n",
      "\n",
      "=============================================================================================================================\n",
      "=============================================================================================================================\n",
      "\n"
     ]
    },
    {
     "name": "stderr",
     "output_type": "stream",
     "text": [
      "[Succeeded / Failed / Skipped / Total] 222 / 10 / 113 / 345:  69%|█████████████      | 345/500 [05:57<02:40,  1.04s/it]textattack: Saving checkpoint under \"checkpoints\\1720199080475.ta.chkpt\" at 2024-07-06 01:04:40 after 345 attacks.\n"
     ]
    },
    {
     "name": "stdout",
     "output_type": "stream",
     "text": [
      "\n",
      "\n",
      "=============================================================================================================================\n",
      "=============================================================================================================================\n",
      "\n"
     ]
    },
    {
     "name": "stderr",
     "output_type": "stream",
     "text": [
      "[Succeeded / Failed / Skipped / Total] 227 / 10 / 113 / 350:  70%|█████████████▎     | 350/500 [06:02<02:35,  1.04s/it]textattack: Saving checkpoint under \"checkpoints\\1720199085616.ta.chkpt\" at 2024-07-06 01:04:45 after 350 attacks.\n"
     ]
    },
    {
     "name": "stdout",
     "output_type": "stream",
     "text": [
      "\n",
      "\n",
      "=============================================================================================================================\n",
      "=============================================================================================================================\n",
      "\n"
     ]
    },
    {
     "name": "stderr",
     "output_type": "stream",
     "text": [
      "[Succeeded / Failed / Skipped / Total] 232 / 10 / 113 / 355:  71%|█████████████▍     | 355/500 [06:08<02:30,  1.04s/it]textattack: Saving checkpoint under \"checkpoints\\1720199091319.ta.chkpt\" at 2024-07-06 01:04:51 after 355 attacks.\n",
      "[Succeeded / Failed / Skipped / Total] 232 / 10 / 114 / 356:  71%|█████████████▌     | 356/500 [06:08<02:29,  1.04s/it]"
     ]
    },
    {
     "name": "stdout",
     "output_type": "stream",
     "text": [
      "\n",
      "\n",
      "=============================================================================================================================\n",
      "=============================================================================================================================\n",
      "\n"
     ]
    },
    {
     "name": "stderr",
     "output_type": "stream",
     "text": [
      "[Succeeded / Failed / Skipped / Total] 236 / 10 / 114 / 360:  72%|█████████████▋     | 360/500 [06:12<02:24,  1.04s/it]textattack: Saving checkpoint under \"checkpoints\\1720199095569.ta.chkpt\" at 2024-07-06 01:04:55 after 360 attacks.\n",
      "[Succeeded / Failed / Skipped / Total] 236 / 10 / 115 / 361:  72%|█████████████▋     | 361/500 [06:12<02:23,  1.03s/it]"
     ]
    },
    {
     "name": "stdout",
     "output_type": "stream",
     "text": [
      "\n",
      "\n",
      "=============================================================================================================================\n",
      "=============================================================================================================================\n",
      "\n"
     ]
    },
    {
     "name": "stderr",
     "output_type": "stream",
     "text": [
      "[Succeeded / Failed / Skipped / Total] 238 / 11 / 116 / 365:  73%|█████████████▊     | 365/500 [06:17<02:19,  1.04s/it]textattack: Saving checkpoint under \"checkpoints\\1720199100790.ta.chkpt\" at 2024-07-06 01:05:00 after 365 attacks.\n"
     ]
    },
    {
     "name": "stdout",
     "output_type": "stream",
     "text": [
      "\n",
      "\n",
      "=============================================================================================================================\n",
      "=============================================================================================================================\n",
      "\n"
     ]
    },
    {
     "name": "stderr",
     "output_type": "stream",
     "text": [
      "[Succeeded / Failed / Skipped / Total] 242 / 11 / 117 / 370:  74%|██████████████     | 370/500 [06:22<02:14,  1.03s/it]textattack: Saving checkpoint under \"checkpoints\\1720199105244.ta.chkpt\" at 2024-07-06 01:05:05 after 370 attacks.\n"
     ]
    },
    {
     "name": "stdout",
     "output_type": "stream",
     "text": [
      "\n",
      "\n",
      "=============================================================================================================================\n",
      "=============================================================================================================================\n",
      "\n"
     ]
    },
    {
     "name": "stderr",
     "output_type": "stream",
     "text": [
      "[Succeeded / Failed / Skipped / Total] 246 / 11 / 118 / 375:  75%|██████████████▎    | 375/500 [06:28<02:09,  1.04s/it]textattack: Saving checkpoint under \"checkpoints\\1720199111228.ta.chkpt\" at 2024-07-06 01:05:11 after 375 attacks.\n",
      "[Succeeded / Failed / Skipped / Total] 246 / 11 / 119 / 376:  75%|██████████████▎    | 376/500 [06:28<02:08,  1.03s/it]"
     ]
    },
    {
     "name": "stdout",
     "output_type": "stream",
     "text": [
      "\n",
      "\n",
      "=============================================================================================================================\n",
      "=============================================================================================================================\n",
      "\n"
     ]
    },
    {
     "name": "stderr",
     "output_type": "stream",
     "text": [
      "[Succeeded / Failed / Skipped / Total] 249 / 11 / 120 / 380:  76%|██████████████▍    | 380/500 [06:31<02:03,  1.03s/it]textattack: Saving checkpoint under \"checkpoints\\1720199113946.ta.chkpt\" at 2024-07-06 01:05:13 after 380 attacks.\n"
     ]
    },
    {
     "name": "stdout",
     "output_type": "stream",
     "text": [
      "\n",
      "\n",
      "=============================================================================================================================\n",
      "=============================================================================================================================\n",
      "\n"
     ]
    },
    {
     "name": "stderr",
     "output_type": "stream",
     "text": [
      "[Succeeded / Failed / Skipped / Total] 253 / 12 / 120 / 385:  77%|██████████████▋    | 385/500 [06:40<01:59,  1.04s/it]textattack: Saving checkpoint under \"checkpoints\\1720199123121.ta.chkpt\" at 2024-07-06 01:05:23 after 385 attacks.\n"
     ]
    },
    {
     "name": "stdout",
     "output_type": "stream",
     "text": [
      "\n",
      "\n",
      "=============================================================================================================================\n",
      "=============================================================================================================================\n",
      "\n"
     ]
    },
    {
     "name": "stderr",
     "output_type": "stream",
     "text": [
      "[Succeeded / Failed / Skipped / Total] 257 / 12 / 121 / 390:  78%|██████████████▊    | 390/500 [06:44<01:53,  1.04s/it]textattack: Saving checkpoint under \"checkpoints\\1720199126918.ta.chkpt\" at 2024-07-06 01:05:26 after 390 attacks.\n",
      "[Succeeded / Failed / Skipped / Total] 257 / 12 / 122 / 391:  78%|██████████████▊    | 391/500 [06:44<01:52,  1.03s/it]"
     ]
    },
    {
     "name": "stdout",
     "output_type": "stream",
     "text": [
      "\n",
      "\n",
      "=============================================================================================================================\n",
      "=============================================================================================================================\n",
      "\n"
     ]
    },
    {
     "name": "stderr",
     "output_type": "stream",
     "text": [
      "[Succeeded / Failed / Skipped / Total] 260 / 12 / 123 / 395:  79%|███████████████    | 395/500 [06:49<01:48,  1.04s/it]textattack: Saving checkpoint under \"checkpoints\\1720199132446.ta.chkpt\" at 2024-07-06 01:05:32 after 395 attacks.\n"
     ]
    },
    {
     "name": "stdout",
     "output_type": "stream",
     "text": [
      "\n",
      "\n",
      "=============================================================================================================================\n",
      "=============================================================================================================================\n",
      "\n"
     ]
    },
    {
     "name": "stderr",
     "output_type": "stream",
     "text": [
      "[Succeeded / Failed / Skipped / Total] 264 / 12 / 124 / 400:  80%|███████████████▏   | 400/500 [06:57<01:44,  1.04s/it]textattack: Saving checkpoint under \"checkpoints\\1720199140076.ta.chkpt\" at 2024-07-06 01:05:40 after 400 attacks.\n"
     ]
    },
    {
     "name": "stdout",
     "output_type": "stream",
     "text": [
      "\n",
      "\n",
      "=============================================================================================================================\n",
      "=============================================================================================================================\n",
      "\n"
     ]
    },
    {
     "name": "stderr",
     "output_type": "stream",
     "text": [
      "[Succeeded / Failed / Skipped / Total] 267 / 13 / 125 / 405:  81%|███████████████▍   | 405/500 [07:07<01:40,  1.06s/it]textattack: Saving checkpoint under \"checkpoints\\1720199150451.ta.chkpt\" at 2024-07-06 01:05:50 after 405 attacks.\n"
     ]
    },
    {
     "name": "stdout",
     "output_type": "stream",
     "text": [
      "\n",
      "\n",
      "=============================================================================================================================\n",
      "=============================================================================================================================\n",
      "\n"
     ]
    },
    {
     "name": "stderr",
     "output_type": "stream",
     "text": [
      "[Succeeded / Failed / Skipped / Total] 272 / 13 / 125 / 410:  82%|███████████████▌   | 410/500 [07:12<01:34,  1.05s/it]textattack: Saving checkpoint under \"checkpoints\\1720199155311.ta.chkpt\" at 2024-07-06 01:05:55 after 410 attacks.\n"
     ]
    },
    {
     "name": "stdout",
     "output_type": "stream",
     "text": [
      "\n",
      "\n",
      "=============================================================================================================================\n",
      "=============================================================================================================================\n",
      "\n"
     ]
    },
    {
     "name": "stderr",
     "output_type": "stream",
     "text": [
      "[Succeeded / Failed / Skipped / Total] 274 / 13 / 128 / 415:  83%|███████████████▊   | 415/500 [07:15<01:29,  1.05s/it]textattack: Saving checkpoint under \"checkpoints\\1720199158124.ta.chkpt\" at 2024-07-06 01:05:58 after 415 attacks.\n"
     ]
    },
    {
     "name": "stdout",
     "output_type": "stream",
     "text": [
      "\n",
      "\n",
      "=============================================================================================================================\n",
      "=============================================================================================================================\n",
      "\n"
     ]
    },
    {
     "name": "stderr",
     "output_type": "stream",
     "text": [
      "[Succeeded / Failed / Skipped / Total] 276 / 13 / 131 / 420:  84%|███████████████▉   | 420/500 [07:18<01:23,  1.04s/it]textattack: Saving checkpoint under \"checkpoints\\1720199161171.ta.chkpt\" at 2024-07-06 01:06:01 after 420 attacks.\n"
     ]
    },
    {
     "name": "stdout",
     "output_type": "stream",
     "text": [
      "\n",
      "\n",
      "=============================================================================================================================\n",
      "=============================================================================================================================\n",
      "\n"
     ]
    },
    {
     "name": "stderr",
     "output_type": "stream",
     "text": [
      "[Succeeded / Failed / Skipped / Total] 281 / 13 / 131 / 425:  85%|████████████████▏  | 425/500 [07:22<01:18,  1.04s/it]textattack: Saving checkpoint under \"checkpoints\\1720199165328.ta.chkpt\" at 2024-07-06 01:06:05 after 425 attacks.\n",
      "[Succeeded / Failed / Skipped / Total] 281 / 13 / 132 / 426:  85%|████████████████▏  | 426/500 [07:22<01:16,  1.04s/it]"
     ]
    },
    {
     "name": "stdout",
     "output_type": "stream",
     "text": [
      "\n",
      "\n",
      "=============================================================================================================================\n",
      "=============================================================================================================================\n",
      "\n"
     ]
    },
    {
     "name": "stderr",
     "output_type": "stream",
     "text": [
      "[Succeeded / Failed / Skipped / Total] 282 / 13 / 135 / 430:  86%|████████████████▎  | 430/500 [07:24<01:12,  1.03s/it]textattack: Saving checkpoint under \"checkpoints\\1720199167781.ta.chkpt\" at 2024-07-06 01:06:07 after 430 attacks.\n",
      "[Succeeded / Failed / Skipped / Total] 282 / 13 / 136 / 431:  86%|████████████████▍  | 431/500 [07:25<01:11,  1.03s/it]"
     ]
    },
    {
     "name": "stdout",
     "output_type": "stream",
     "text": [
      "\n",
      "\n",
      "=============================================================================================================================\n",
      "=============================================================================================================================\n",
      "\n"
     ]
    },
    {
     "name": "stderr",
     "output_type": "stream",
     "text": [
      "[Succeeded / Failed / Skipped / Total] 285 / 13 / 137 / 435:  87%|████████████████▌  | 435/500 [07:29<01:07,  1.03s/it]textattack: Saving checkpoint under \"checkpoints\\1720199172777.ta.chkpt\" at 2024-07-06 01:06:12 after 435 attacks.\n"
     ]
    },
    {
     "name": "stdout",
     "output_type": "stream",
     "text": [
      "\n",
      "\n",
      "=============================================================================================================================\n",
      "=============================================================================================================================\n",
      "\n"
     ]
    },
    {
     "name": "stderr",
     "output_type": "stream",
     "text": [
      "[Succeeded / Failed / Skipped / Total] 289 / 14 / 137 / 440:  88%|████████████████▋  | 440/500 [07:45<01:03,  1.06s/it]textattack: Saving checkpoint under \"checkpoints\\1720199188079.ta.chkpt\" at 2024-07-06 01:06:28 after 440 attacks.\n",
      "[Succeeded / Failed / Skipped / Total] 289 / 14 / 138 / 441:  88%|████████████████▊  | 441/500 [07:45<01:02,  1.06s/it]"
     ]
    },
    {
     "name": "stdout",
     "output_type": "stream",
     "text": [
      "\n",
      "\n",
      "=============================================================================================================================\n",
      "=============================================================================================================================\n",
      "\n"
     ]
    },
    {
     "name": "stderr",
     "output_type": "stream",
     "text": [
      "[Succeeded / Failed / Skipped / Total] 293 / 14 / 138 / 445:  89%|████████████████▉  | 445/500 [07:48<00:57,  1.05s/it]textattack: Saving checkpoint under \"checkpoints\\1720199191580.ta.chkpt\" at 2024-07-06 01:06:31 after 445 attacks.\n"
     ]
    },
    {
     "name": "stdout",
     "output_type": "stream",
     "text": [
      "\n",
      "\n",
      "=============================================================================================================================\n",
      "=============================================================================================================================\n",
      "\n"
     ]
    },
    {
     "name": "stderr",
     "output_type": "stream",
     "text": [
      "[Succeeded / Failed / Skipped / Total] 295 / 15 / 140 / 450:  90%|█████████████████  | 450/500 [07:56<00:52,  1.06s/it]textattack: Saving checkpoint under \"checkpoints\\1720199198925.ta.chkpt\" at 2024-07-06 01:06:38 after 450 attacks.\n"
     ]
    },
    {
     "name": "stdout",
     "output_type": "stream",
     "text": [
      "\n",
      "\n",
      "=============================================================================================================================\n",
      "=============================================================================================================================\n",
      "\n"
     ]
    },
    {
     "name": "stderr",
     "output_type": "stream",
     "text": [
      "[Succeeded / Failed / Skipped / Total] 298 / 15 / 142 / 455:  91%|█████████████████▎ | 455/500 [07:59<00:47,  1.05s/it]textattack: Saving checkpoint under \"checkpoints\\1720199202206.ta.chkpt\" at 2024-07-06 01:06:42 after 455 attacks.\n"
     ]
    },
    {
     "name": "stdout",
     "output_type": "stream",
     "text": [
      "\n",
      "\n",
      "=============================================================================================================================\n",
      "=============================================================================================================================\n",
      "\n"
     ]
    },
    {
     "name": "stderr",
     "output_type": "stream",
     "text": [
      "[Succeeded / Failed / Skipped / Total] 302 / 15 / 143 / 460:  92%|█████████████████▍ | 460/500 [08:05<00:42,  1.06s/it]textattack: Saving checkpoint under \"checkpoints\\1720199208300.ta.chkpt\" at 2024-07-06 01:06:48 after 460 attacks.\n"
     ]
    },
    {
     "name": "stdout",
     "output_type": "stream",
     "text": [
      "\n",
      "\n",
      "=============================================================================================================================\n",
      "=============================================================================================================================\n",
      "\n"
     ]
    },
    {
     "name": "stderr",
     "output_type": "stream",
     "text": [
      "[Succeeded / Failed / Skipped / Total] 306 / 15 / 144 / 465:  93%|█████████████████▋ | 465/500 [08:12<00:37,  1.06s/it]textattack: Saving checkpoint under \"checkpoints\\1720199215703.ta.chkpt\" at 2024-07-06 01:06:55 after 465 attacks.\n"
     ]
    },
    {
     "name": "stdout",
     "output_type": "stream",
     "text": [
      "\n",
      "\n",
      "=============================================================================================================================\n",
      "=============================================================================================================================\n",
      "\n"
     ]
    },
    {
     "name": "stderr",
     "output_type": "stream",
     "text": [
      "[Succeeded / Failed / Skipped / Total] 311 / 15 / 144 / 470:  94%|█████████████████▊ | 470/500 [08:17<00:31,  1.06s/it]textattack: Saving checkpoint under \"checkpoints\\1720199219895.ta.chkpt\" at 2024-07-06 01:06:59 after 470 attacks.\n"
     ]
    },
    {
     "name": "stdout",
     "output_type": "stream",
     "text": [
      "\n",
      "\n",
      "=============================================================================================================================\n",
      "=============================================================================================================================\n",
      "\n"
     ]
    },
    {
     "name": "stderr",
     "output_type": "stream",
     "text": [
      "[Succeeded / Failed / Skipped / Total] 315 / 16 / 144 / 475:  95%|██████████████████ | 475/500 [08:31<00:26,  1.08s/it]textattack: Saving checkpoint under \"checkpoints\\1720199234669.ta.chkpt\" at 2024-07-06 01:07:14 after 475 attacks.\n"
     ]
    },
    {
     "name": "stdout",
     "output_type": "stream",
     "text": [
      "\n",
      "\n",
      "=============================================================================================================================\n",
      "=============================================================================================================================\n",
      "\n"
     ]
    },
    {
     "name": "stderr",
     "output_type": "stream",
     "text": [
      "[Succeeded / Failed / Skipped / Total] 319 / 16 / 145 / 480:  96%|██████████████████▏| 480/500 [08:37<00:21,  1.08s/it]textattack: Saving checkpoint under \"checkpoints\\1720199240701.ta.chkpt\" at 2024-07-06 01:07:20 after 480 attacks.\n"
     ]
    },
    {
     "name": "stdout",
     "output_type": "stream",
     "text": [
      "\n",
      "\n",
      "=============================================================================================================================\n",
      "=============================================================================================================================\n",
      "\n"
     ]
    },
    {
     "name": "stderr",
     "output_type": "stream",
     "text": [
      "[Succeeded / Failed / Skipped / Total] 322 / 16 / 147 / 485:  97%|██████████████████▍| 485/500 [08:41<00:16,  1.08s/it]textattack: Saving checkpoint under \"checkpoints\\1720199244498.ta.chkpt\" at 2024-07-06 01:07:24 after 485 attacks.\n",
      "[Succeeded / Failed / Skipped / Total] 322 / 16 / 148 / 486:  97%|██████████████████▍| 486/500 [08:41<00:15,  1.07s/it]"
     ]
    },
    {
     "name": "stdout",
     "output_type": "stream",
     "text": [
      "\n",
      "\n",
      "=============================================================================================================================\n",
      "=============================================================================================================================\n",
      "\n"
     ]
    },
    {
     "name": "stderr",
     "output_type": "stream",
     "text": [
      "[Succeeded / Failed / Skipped / Total] 325 / 16 / 149 / 490:  98%|██████████████████▌| 490/500 [08:46<00:10,  1.07s/it]textattack: Saving checkpoint under \"checkpoints\\1720199248999.ta.chkpt\" at 2024-07-06 01:07:28 after 490 attacks.\n",
      "[Succeeded / Failed / Skipped / Total] 325 / 16 / 150 / 491:  98%|██████████████████▋| 491/500 [08:46<00:09,  1.07s/it]"
     ]
    },
    {
     "name": "stdout",
     "output_type": "stream",
     "text": [
      "\n",
      "\n",
      "=============================================================================================================================\n",
      "=============================================================================================================================\n",
      "\n"
     ]
    },
    {
     "name": "stderr",
     "output_type": "stream",
     "text": [
      "[Succeeded / Failed / Skipped / Total] 328 / 16 / 151 / 495:  99%|██████████████████▊| 495/500 [08:50<00:05,  1.07s/it]textattack: Saving checkpoint under \"checkpoints\\1720199253434.ta.chkpt\" at 2024-07-06 01:07:33 after 495 attacks.\n"
     ]
    },
    {
     "name": "stdout",
     "output_type": "stream",
     "text": [
      "\n",
      "\n",
      "=============================================================================================================================\n",
      "=============================================================================================================================\n",
      "\n"
     ]
    },
    {
     "name": "stderr",
     "output_type": "stream",
     "text": [
      "[Succeeded / Failed / Skipped / Total] 330 / 17 / 153 / 500: 100%|███████████████████| 500/500 [08:56<00:00,  1.07s/it]textattack: Saving checkpoint under \"checkpoints\\1720199259657.ta.chkpt\" at 2024-07-06 01:07:39 after 500 attacks.\n",
      "[Succeeded / Failed / Skipped / Total] 330 / 17 / 153 / 500: 100%|███████████████████| 500/500 [08:56<00:00,  1.07s/it]"
     ]
    },
    {
     "name": "stdout",
     "output_type": "stream",
     "text": [
      "\n",
      "\n",
      "=============================================================================================================================\n",
      "=============================================================================================================================\n",
      "\n",
      "\n",
      "+-------------------------------+-------+\n",
      "| Attack Results                |       |\n",
      "+-------------------------------+-------+\n",
      "| Number of successful attacks: | 330   |\n",
      "| Number of failed attacks:     | 17    |\n",
      "| Number of skipped attacks:    | 153   |\n",
      "| Original accuracy:            | 69.4% |\n",
      "| Accuracy under attack:        | 3.4%  |\n",
      "| Attack success rate:          | 95.1% |\n",
      "| Average perturbed word %:     | 9.26% |\n",
      "| Average num. words per input: | 18.4  |\n",
      "| Avg num queries:              | 32.6  |\n",
      "+-------------------------------+-------+\n"
     ]
    },
    {
     "name": "stderr",
     "output_type": "stream",
     "text": [
      "\n"
     ]
    }
   ],
   "source": [
    "runAttack(bert_model_wrapper_knn_mr, n_samples, 'attack_results_new/bertmrattackknn'+suffix, target_ds_mr)"
   ]
  },
  {
   "cell_type": "code",
   "execution_count": 15,
   "id": "81e7d26b-097a-47d3-b9c6-b5d63790260c",
   "metadata": {},
   "outputs": [
    {
     "name": "stderr",
     "output_type": "stream",
     "text": [
      "textattack: Unknown if model of class <class 'transformers.models.bert.modeling_bert.BertModel'> compatible with goal function <class 'textattack.goal_functions.classification.untargeted_classification.UntargetedClassification'>.\n",
      "textattack: Logging to CSV at path attack_results_new/bertmrattacksvcsim07.csv\n"
     ]
    },
    {
     "name": "stdout",
     "output_type": "stream",
     "text": [
      "Attack(\n",
      "  (search_method): GreedyWordSwapWIR(\n",
      "    (wir_method):  delete\n",
      "  )\n",
      "  (goal_function):  UntargetedClassification\n",
      "  (transformation):  WordSwapEmbedding(\n",
      "    (max_candidates):  50\n",
      "    (embedding):  WordEmbedding\n",
      "  )\n",
      "  (constraints): \n",
      "    (0): WordEmbeddingDistance(\n",
      "        (embedding):  WordEmbedding\n",
      "        (min_cos_sim):  0.7\n",
      "        (cased):  False\n",
      "        (include_unknown_words):  True\n",
      "        (compare_against_original):  True\n",
      "      )\n",
      "    (1): PartOfSpeech(\n",
      "        (tagger_type):  nltk\n",
      "        (tagset):  universal\n",
      "        (allow_verb_noun_swap):  True\n",
      "        (compare_against_original):  True\n",
      "      )\n",
      "    (2): UniversalSentenceEncoder(\n",
      "        (metric):  angular\n",
      "        (threshold):  0.840845057\n",
      "        (window_size):  15\n",
      "        (skip_text_shorter_than_window):  True\n",
      "        (compare_against_original):  False\n",
      "      )\n",
      "    (3): RepeatModification\n",
      "    (4): StopwordModification\n",
      "    (5): InputColumnModification(\n",
      "        (matching_column_labels):  ['premise', 'hypothesis']\n",
      "        (columns_to_ignore):  {'premise'}\n",
      "      )\n",
      "  (is_black_box):  True\n",
      ") \n",
      "\n"
     ]
    },
    {
     "name": "stderr",
     "output_type": "stream",
     "text": [
      "[Succeeded / Failed / Skipped / Total] 4 / 0 / 1 / 5:   1%|▎                           | 5/500 [00:22<37:01,  4.49s/it]textattack: Saving checkpoint under \"checkpoints\\1720199282190.ta.chkpt\" at 2024-07-06 01:08:02 after 5 attacks.\n",
      "[Succeeded / Failed / Skipped / Total] 4 / 0 / 3 / 7:   1%|▍                           | 7/500 [00:22<26:33,  3.23s/it]"
     ]
    },
    {
     "name": "stdout",
     "output_type": "stream",
     "text": [
      "\n",
      "\n",
      "=============================================================================================================================\n",
      "=============================================================================================================================\n",
      "\n"
     ]
    },
    {
     "name": "stderr",
     "output_type": "stream",
     "text": [
      "[Succeeded / Failed / Skipped / Total] 6 / 0 / 4 / 10:   2%|▌                         | 10/500 [00:29<23:44,  2.91s/it]textattack: Saving checkpoint under \"checkpoints\\1720199288831.ta.chkpt\" at 2024-07-06 01:08:08 after 10 attacks.\n"
     ]
    },
    {
     "name": "stdout",
     "output_type": "stream",
     "text": [
      "\n",
      "\n",
      "=============================================================================================================================\n",
      "=============================================================================================================================\n",
      "\n"
     ]
    },
    {
     "name": "stderr",
     "output_type": "stream",
     "text": [
      "[Succeeded / Failed / Skipped / Total] 11 / 0 / 4 / 15:   3%|▊                        | 15/500 [00:52<28:32,  3.53s/it]textattack: Saving checkpoint under \"checkpoints\\1720199312703.ta.chkpt\" at 2024-07-06 01:08:32 after 15 attacks.\n"
     ]
    },
    {
     "name": "stdout",
     "output_type": "stream",
     "text": [
      "\n",
      "\n",
      "=============================================================================================================================\n",
      "=============================================================================================================================\n",
      "\n"
     ]
    },
    {
     "name": "stderr",
     "output_type": "stream",
     "text": [
      "[Succeeded / Failed / Skipped / Total] 14 / 1 / 5 / 20:   4%|█                        | 20/500 [00:56<22:47,  2.85s/it]textattack: Saving checkpoint under \"checkpoints\\1720199316750.ta.chkpt\" at 2024-07-06 01:08:36 after 20 attacks.\n"
     ]
    },
    {
     "name": "stdout",
     "output_type": "stream",
     "text": [
      "\n",
      "\n",
      "=============================================================================================================================\n",
      "=============================================================================================================================\n",
      "\n"
     ]
    },
    {
     "name": "stderr",
     "output_type": "stream",
     "text": [
      "[Succeeded / Failed / Skipped / Total] 17 / 1 / 7 / 25:   5%|█▎                       | 25/500 [01:02<19:51,  2.51s/it]textattack: Saving checkpoint under \"checkpoints\\1720199322460.ta.chkpt\" at 2024-07-06 01:08:42 after 25 attacks.\n"
     ]
    },
    {
     "name": "stdout",
     "output_type": "stream",
     "text": [
      "\n",
      "\n",
      "=============================================================================================================================\n",
      "=============================================================================================================================\n",
      "\n"
     ]
    },
    {
     "name": "stderr",
     "output_type": "stream",
     "text": [
      "[Succeeded / Failed / Skipped / Total] 20 / 3 / 7 / 30:   6%|█▌                       | 30/500 [01:12<18:55,  2.42s/it]textattack: Saving checkpoint under \"checkpoints\\1720199332221.ta.chkpt\" at 2024-07-06 01:08:52 after 30 attacks.\n"
     ]
    },
    {
     "name": "stdout",
     "output_type": "stream",
     "text": [
      "\n",
      "\n",
      "=============================================================================================================================\n",
      "=============================================================================================================================\n",
      "\n"
     ]
    },
    {
     "name": "stderr",
     "output_type": "stream",
     "text": [
      "[Succeeded / Failed / Skipped / Total] 23 / 4 / 8 / 35:   7%|█▊                       | 35/500 [01:17<17:15,  2.23s/it]textattack: Saving checkpoint under \"checkpoints\\1720199337696.ta.chkpt\" at 2024-07-06 01:08:57 after 35 attacks.\n"
     ]
    },
    {
     "name": "stdout",
     "output_type": "stream",
     "text": [
      "\n",
      "\n",
      "=============================================================================================================================\n",
      "=============================================================================================================================\n",
      "\n"
     ]
    },
    {
     "name": "stderr",
     "output_type": "stream",
     "text": [
      "[Succeeded / Failed / Skipped / Total] 26 / 4 / 10 / 40:   8%|█▉                      | 40/500 [01:23<15:56,  2.08s/it]textattack: Saving checkpoint under \"checkpoints\\1720199342962.ta.chkpt\" at 2024-07-06 01:09:02 after 40 attacks.\n"
     ]
    },
    {
     "name": "stdout",
     "output_type": "stream",
     "text": [
      "\n",
      "\n",
      "=============================================================================================================================\n",
      "=============================================================================================================================\n",
      "\n"
     ]
    },
    {
     "name": "stderr",
     "output_type": "stream",
     "text": [
      "[Succeeded / Failed / Skipped / Total] 30 / 4 / 11 / 45:   9%|██▏                     | 45/500 [01:35<16:02,  2.12s/it]textattack: Saving checkpoint under \"checkpoints\\1720199354955.ta.chkpt\" at 2024-07-06 01:09:14 after 45 attacks.\n"
     ]
    },
    {
     "name": "stdout",
     "output_type": "stream",
     "text": [
      "\n",
      "\n",
      "=============================================================================================================================\n",
      "=============================================================================================================================\n",
      "\n"
     ]
    },
    {
     "name": "stderr",
     "output_type": "stream",
     "text": [
      "[Succeeded / Failed / Skipped / Total] 35 / 4 / 11 / 50:  10%|██▍                     | 50/500 [01:46<15:54,  2.12s/it]textattack: Saving checkpoint under \"checkpoints\\1720199365768.ta.chkpt\" at 2024-07-06 01:09:25 after 50 attacks.\n"
     ]
    },
    {
     "name": "stdout",
     "output_type": "stream",
     "text": [
      "\n",
      "\n",
      "=============================================================================================================================\n",
      "=============================================================================================================================\n",
      "\n"
     ]
    },
    {
     "name": "stderr",
     "output_type": "stream",
     "text": [
      "[Succeeded / Failed / Skipped / Total] 40 / 4 / 11 / 55:  11%|██▋                     | 55/500 [01:58<16:00,  2.16s/it]textattack: Saving checkpoint under \"checkpoints\\1720199378474.ta.chkpt\" at 2024-07-06 01:09:38 after 55 attacks.\n"
     ]
    },
    {
     "name": "stdout",
     "output_type": "stream",
     "text": [
      "\n",
      "\n",
      "=============================================================================================================================\n",
      "=============================================================================================================================\n",
      "\n"
     ]
    },
    {
     "name": "stderr",
     "output_type": "stream",
     "text": [
      "[Succeeded / Failed / Skipped / Total] 44 / 4 / 12 / 60:  12%|██▉                     | 60/500 [02:06<15:24,  2.10s/it]textattack: Saving checkpoint under \"checkpoints\\1720199385787.ta.chkpt\" at 2024-07-06 01:09:45 after 60 attacks.\n",
      "[Succeeded / Failed / Skipped / Total] 44 / 4 / 13 / 61:  12%|██▉                     | 61/500 [02:06<15:07,  2.07s/it]"
     ]
    },
    {
     "name": "stdout",
     "output_type": "stream",
     "text": [
      "\n",
      "\n",
      "=============================================================================================================================\n",
      "=============================================================================================================================\n",
      "\n"
     ]
    },
    {
     "name": "stderr",
     "output_type": "stream",
     "text": [
      "[Succeeded / Failed / Skipped / Total] 48 / 4 / 13 / 65:  13%|███                     | 65/500 [02:10<14:34,  2.01s/it]textattack: Saving checkpoint under \"checkpoints\\1720199390460.ta.chkpt\" at 2024-07-06 01:09:50 after 65 attacks.\n"
     ]
    },
    {
     "name": "stdout",
     "output_type": "stream",
     "text": [
      "\n",
      "\n",
      "=============================================================================================================================\n",
      "=============================================================================================================================\n",
      "\n"
     ]
    },
    {
     "name": "stderr",
     "output_type": "stream",
     "text": [
      "[Succeeded / Failed / Skipped / Total] 51 / 5 / 14 / 70:  14%|███▎                    | 70/500 [02:19<14:16,  1.99s/it]textattack: Saving checkpoint under \"checkpoints\\1720199399223.ta.chkpt\" at 2024-07-06 01:09:59 after 70 attacks.\n"
     ]
    },
    {
     "name": "stdout",
     "output_type": "stream",
     "text": [
      "\n",
      "\n",
      "=============================================================================================================================\n",
      "=============================================================================================================================\n",
      "\n"
     ]
    },
    {
     "name": "stderr",
     "output_type": "stream",
     "text": [
      "[Succeeded / Failed / Skipped / Total] 55 / 5 / 15 / 75:  15%|███▌                    | 75/500 [02:22<13:29,  1.91s/it]textattack: Saving checkpoint under \"checkpoints\\1720199402645.ta.chkpt\" at 2024-07-06 01:10:02 after 75 attacks.\n",
      "[Succeeded / Failed / Skipped / Total] 55 / 5 / 16 / 76:  15%|███▋                    | 76/500 [02:22<13:17,  1.88s/it]"
     ]
    },
    {
     "name": "stdout",
     "output_type": "stream",
     "text": [
      "\n",
      "\n",
      "=============================================================================================================================\n",
      "=============================================================================================================================\n",
      "\n"
     ]
    },
    {
     "name": "stderr",
     "output_type": "stream",
     "text": [
      "[Succeeded / Failed / Skipped / Total] 58 / 6 / 16 / 80:  16%|███▊                    | 80/500 [02:33<13:27,  1.92s/it]textattack: Saving checkpoint under \"checkpoints\\1720199413520.ta.chkpt\" at 2024-07-06 01:10:13 after 80 attacks.\n"
     ]
    },
    {
     "name": "stdout",
     "output_type": "stream",
     "text": [
      "\n",
      "\n",
      "=============================================================================================================================\n",
      "=============================================================================================================================\n",
      "\n"
     ]
    },
    {
     "name": "stderr",
     "output_type": "stream",
     "text": [
      "[Succeeded / Failed / Skipped / Total] 61 / 6 / 18 / 85:  17%|████                    | 85/500 [02:38<12:52,  1.86s/it]textattack: Saving checkpoint under \"checkpoints\\1720199417942.ta.chkpt\" at 2024-07-06 01:10:17 after 85 attacks.\n"
     ]
    },
    {
     "name": "stdout",
     "output_type": "stream",
     "text": [
      "\n",
      "\n",
      "=============================================================================================================================\n",
      "=============================================================================================================================\n",
      "\n"
     ]
    },
    {
     "name": "stderr",
     "output_type": "stream",
     "text": [
      "[Succeeded / Failed / Skipped / Total] 66 / 6 / 18 / 90:  18%|████▎                   | 90/500 [02:45<12:36,  1.84s/it]textattack: Saving checkpoint under \"checkpoints\\1720199425708.ta.chkpt\" at 2024-07-06 01:10:25 after 90 attacks.\n",
      "[Succeeded / Failed / Skipped / Total] 66 / 6 / 20 / 92:  18%|████▍                   | 92/500 [02:46<12:16,  1.81s/it]"
     ]
    },
    {
     "name": "stdout",
     "output_type": "stream",
     "text": [
      "\n",
      "\n",
      "=============================================================================================================================\n",
      "=============================================================================================================================\n",
      "\n"
     ]
    },
    {
     "name": "stderr",
     "output_type": "stream",
     "text": [
      "[Succeeded / Failed / Skipped / Total] 69 / 6 / 20 / 95:  19%|████▌                   | 95/500 [02:51<12:12,  1.81s/it]textattack: Saving checkpoint under \"checkpoints\\1720199431615.ta.chkpt\" at 2024-07-06 01:10:31 after 95 attacks.\n"
     ]
    },
    {
     "name": "stdout",
     "output_type": "stream",
     "text": [
      "\n",
      "\n",
      "=============================================================================================================================\n",
      "=============================================================================================================================\n",
      "\n"
     ]
    },
    {
     "name": "stderr",
     "output_type": "stream",
     "text": [
      "[Succeeded / Failed / Skipped / Total] 74 / 6 / 20 / 100:  20%|████▍                 | 100/500 [03:01<12:05,  1.81s/it]textattack: Saving checkpoint under \"checkpoints\\1720199441227.ta.chkpt\" at 2024-07-06 01:10:41 after 100 attacks.\n"
     ]
    },
    {
     "name": "stdout",
     "output_type": "stream",
     "text": [
      "\n",
      "\n",
      "=============================================================================================================================\n",
      "=============================================================================================================================\n",
      "\n"
     ]
    },
    {
     "name": "stderr",
     "output_type": "stream",
     "text": [
      "[Succeeded / Failed / Skipped / Total] 79 / 6 / 20 / 105:  21%|████▌                 | 105/500 [03:11<12:00,  1.82s/it]textattack: Saving checkpoint under \"checkpoints\\1720199451181.ta.chkpt\" at 2024-07-06 01:10:51 after 105 attacks.\n",
      "[Succeeded / Failed / Skipped / Total] 79 / 6 / 21 / 106:  21%|████▋                 | 106/500 [03:11<11:51,  1.81s/it]"
     ]
    },
    {
     "name": "stdout",
     "output_type": "stream",
     "text": [
      "\n",
      "\n",
      "=============================================================================================================================\n",
      "=============================================================================================================================\n",
      "\n"
     ]
    },
    {
     "name": "stderr",
     "output_type": "stream",
     "text": [
      "[Succeeded / Failed / Skipped / Total] 82 / 6 / 22 / 110:  22%|████▊                 | 110/500 [03:15<11:34,  1.78s/it]textattack: Saving checkpoint under \"checkpoints\\1720199455707.ta.chkpt\" at 2024-07-06 01:10:55 after 110 attacks.\n",
      "[Succeeded / Failed / Skipped / Total] 82 / 6 / 23 / 111:  22%|████▉                 | 111/500 [03:16<11:27,  1.77s/it]"
     ]
    },
    {
     "name": "stdout",
     "output_type": "stream",
     "text": [
      "\n",
      "\n",
      "=============================================================================================================================\n",
      "=============================================================================================================================\n",
      "\n"
     ]
    },
    {
     "name": "stderr",
     "output_type": "stream",
     "text": [
      "[Succeeded / Failed / Skipped / Total] 86 / 6 / 23 / 115:  23%|█████                 | 115/500 [03:24<11:24,  1.78s/it]textattack: Saving checkpoint under \"checkpoints\\1720199464333.ta.chkpt\" at 2024-07-06 01:11:04 after 115 attacks.\n"
     ]
    },
    {
     "name": "stdout",
     "output_type": "stream",
     "text": [
      "\n",
      "\n",
      "=============================================================================================================================\n",
      "=============================================================================================================================\n",
      "\n"
     ]
    },
    {
     "name": "stderr",
     "output_type": "stream",
     "text": [
      "[Succeeded / Failed / Skipped / Total] 88 / 7 / 25 / 120:  24%|█████▎                | 120/500 [03:28<10:59,  1.74s/it]textattack: Saving checkpoint under \"checkpoints\\1720199467990.ta.chkpt\" at 2024-07-06 01:11:07 after 120 attacks.\n"
     ]
    },
    {
     "name": "stdout",
     "output_type": "stream",
     "text": [
      "\n",
      "\n",
      "=============================================================================================================================\n",
      "=============================================================================================================================\n",
      "\n"
     ]
    },
    {
     "name": "stderr",
     "output_type": "stream",
     "text": [
      "[Succeeded / Failed / Skipped / Total] 93 / 7 / 25 / 125:  25%|█████▌                | 125/500 [03:35<10:45,  1.72s/it]textattack: Saving checkpoint under \"checkpoints\\1720199474818.ta.chkpt\" at 2024-07-06 01:11:14 after 125 attacks.\n",
      "[Succeeded / Failed / Skipped / Total] 93 / 7 / 26 / 126:  25%|█████▌                | 126/500 [03:35<10:38,  1.71s/it]"
     ]
    },
    {
     "name": "stdout",
     "output_type": "stream",
     "text": [
      "\n",
      "\n",
      "=============================================================================================================================\n",
      "=============================================================================================================================\n",
      "\n"
     ]
    },
    {
     "name": "stderr",
     "output_type": "stream",
     "text": [
      "[Succeeded / Failed / Skipped / Total] 96 / 8 / 26 / 130:  26%|█████▋                | 130/500 [03:42<10:33,  1.71s/it]textattack: Saving checkpoint under \"checkpoints\\1720199482303.ta.chkpt\" at 2024-07-06 01:11:22 after 130 attacks.\n",
      "[Succeeded / Failed / Skipped / Total] 96 / 8 / 27 / 131:  26%|█████▊                | 131/500 [03:42<10:27,  1.70s/it]"
     ]
    },
    {
     "name": "stdout",
     "output_type": "stream",
     "text": [
      "\n",
      "\n",
      "=============================================================================================================================\n",
      "=============================================================================================================================\n",
      "\n"
     ]
    },
    {
     "name": "stderr",
     "output_type": "stream",
     "text": [
      "[Succeeded / Failed / Skipped / Total] 100 / 8 / 27 / 135:  27%|█████▋               | 135/500 [03:52<10:28,  1.72s/it]textattack: Saving checkpoint under \"checkpoints\\1720199492108.ta.chkpt\" at 2024-07-06 01:11:32 after 135 attacks.\n"
     ]
    },
    {
     "name": "stdout",
     "output_type": "stream",
     "text": [
      "\n",
      "\n",
      "=============================================================================================================================\n",
      "=============================================================================================================================\n",
      "\n"
     ]
    },
    {
     "name": "stderr",
     "output_type": "stream",
     "text": [
      "[Succeeded / Failed / Skipped / Total] 105 / 8 / 27 / 140:  28%|█████▉               | 140/500 [04:02<10:24,  1.73s/it]textattack: Saving checkpoint under \"checkpoints\\1720199502506.ta.chkpt\" at 2024-07-06 01:11:42 after 140 attacks.\n"
     ]
    },
    {
     "name": "stdout",
     "output_type": "stream",
     "text": [
      "\n",
      "\n",
      "=============================================================================================================================\n",
      "=============================================================================================================================\n",
      "\n"
     ]
    },
    {
     "name": "stderr",
     "output_type": "stream",
     "text": [
      "[Succeeded / Failed / Skipped / Total] 109 / 8 / 28 / 145:  29%|██████               | 145/500 [04:08<10:08,  1.71s/it]textattack: Saving checkpoint under \"checkpoints\\1720199508413.ta.chkpt\" at 2024-07-06 01:11:48 after 145 attacks.\n",
      "[Succeeded / Failed / Skipped / Total] 109 / 8 / 30 / 147:  29%|██████▏              | 147/500 [04:08<09:57,  1.69s/it]"
     ]
    },
    {
     "name": "stdout",
     "output_type": "stream",
     "text": [
      "\n",
      "\n",
      "=============================================================================================================================\n",
      "=============================================================================================================================\n",
      "\n"
     ]
    },
    {
     "name": "stderr",
     "output_type": "stream",
     "text": [
      "[Succeeded / Failed / Skipped / Total] 110 / 8 / 32 / 150:  30%|██████▎              | 150/500 [04:10<09:43,  1.67s/it]textattack: Saving checkpoint under \"checkpoints\\1720199509851.ta.chkpt\" at 2024-07-06 01:11:49 after 150 attacks.\n"
     ]
    },
    {
     "name": "stdout",
     "output_type": "stream",
     "text": [
      "\n",
      "\n",
      "=============================================================================================================================\n",
      "=============================================================================================================================\n",
      "\n"
     ]
    },
    {
     "name": "stderr",
     "output_type": "stream",
     "text": [
      "[Succeeded / Failed / Skipped / Total] 113 / 8 / 34 / 155:  31%|██████▌              | 155/500 [04:15<09:28,  1.65s/it]textattack: Saving checkpoint under \"checkpoints\\1720199515117.ta.chkpt\" at 2024-07-06 01:11:55 after 155 attacks.\n"
     ]
    },
    {
     "name": "stdout",
     "output_type": "stream",
     "text": [
      "\n",
      "\n",
      "=============================================================================================================================\n",
      "=============================================================================================================================\n",
      "\n"
     ]
    },
    {
     "name": "stderr",
     "output_type": "stream",
     "text": [
      "[Succeeded / Failed / Skipped / Total] 117 / 8 / 35 / 160:  32%|██████▋              | 160/500 [04:26<09:26,  1.67s/it]textattack: Saving checkpoint under \"checkpoints\\1720199526554.ta.chkpt\" at 2024-07-06 01:12:06 after 160 attacks.\n"
     ]
    },
    {
     "name": "stdout",
     "output_type": "stream",
     "text": [
      "\n",
      "\n",
      "=============================================================================================================================\n",
      "=============================================================================================================================\n",
      "\n"
     ]
    },
    {
     "name": "stderr",
     "output_type": "stream",
     "text": [
      "[Succeeded / Failed / Skipped / Total] 120 / 8 / 37 / 165:  33%|██████▉              | 165/500 [04:31<09:11,  1.65s/it]textattack: Saving checkpoint under \"checkpoints\\1720199531539.ta.chkpt\" at 2024-07-06 01:12:11 after 165 attacks.\n",
      "[Succeeded / Failed / Skipped / Total] 120 / 8 / 38 / 166:  33%|██████▉              | 166/500 [04:31<09:07,  1.64s/it]"
     ]
    },
    {
     "name": "stdout",
     "output_type": "stream",
     "text": [
      "\n",
      "\n",
      "=============================================================================================================================\n",
      "=============================================================================================================================\n",
      "\n"
     ]
    },
    {
     "name": "stderr",
     "output_type": "stream",
     "text": [
      "[Succeeded / Failed / Skipped / Total] 124 / 8 / 38 / 170:  34%|███████▏             | 170/500 [04:41<09:06,  1.66s/it]textattack: Saving checkpoint under \"checkpoints\\1720199541118.ta.chkpt\" at 2024-07-06 01:12:21 after 170 attacks.\n"
     ]
    },
    {
     "name": "stdout",
     "output_type": "stream",
     "text": [
      "\n",
      "\n",
      "=============================================================================================================================\n",
      "=============================================================================================================================\n",
      "\n"
     ]
    },
    {
     "name": "stderr",
     "output_type": "stream",
     "text": [
      "[Succeeded / Failed / Skipped / Total] 128 / 9 / 38 / 175:  35%|███████▎             | 175/500 [04:55<09:09,  1.69s/it]textattack: Saving checkpoint under \"checkpoints\\1720199555446.ta.chkpt\" at 2024-07-06 01:12:35 after 175 attacks.\n"
     ]
    },
    {
     "name": "stdout",
     "output_type": "stream",
     "text": [
      "\n",
      "\n",
      "=============================================================================================================================\n",
      "=============================================================================================================================\n",
      "\n"
     ]
    },
    {
     "name": "stderr",
     "output_type": "stream",
     "text": [
      "[Succeeded / Failed / Skipped / Total] 131 / 10 / 39 / 180:  36%|███████▏            | 180/500 [05:02<08:58,  1.68s/it]textattack: Saving checkpoint under \"checkpoints\\1720199562509.ta.chkpt\" at 2024-07-06 01:12:42 after 180 attacks.\n"
     ]
    },
    {
     "name": "stdout",
     "output_type": "stream",
     "text": [
      "\n",
      "\n",
      "=============================================================================================================================\n",
      "=============================================================================================================================\n",
      "\n"
     ]
    },
    {
     "name": "stderr",
     "output_type": "stream",
     "text": [
      "[Succeeded / Failed / Skipped / Total] 135 / 10 / 40 / 185:  37%|███████▍            | 185/500 [05:07<08:43,  1.66s/it]textattack: Saving checkpoint under \"checkpoints\\1720199567057.ta.chkpt\" at 2024-07-06 01:12:47 after 185 attacks.\n"
     ]
    },
    {
     "name": "stdout",
     "output_type": "stream",
     "text": [
      "\n",
      "\n",
      "=============================================================================================================================\n",
      "=============================================================================================================================\n",
      "\n"
     ]
    },
    {
     "name": "stderr",
     "output_type": "stream",
     "text": [
      "[Succeeded / Failed / Skipped / Total] 139 / 11 / 40 / 190:  38%|███████▌            | 190/500 [05:21<08:45,  1.69s/it]textattack: Saving checkpoint under \"checkpoints\\1720199581561.ta.chkpt\" at 2024-07-06 01:13:01 after 190 attacks.\n"
     ]
    },
    {
     "name": "stdout",
     "output_type": "stream",
     "text": [
      "\n",
      "\n",
      "=============================================================================================================================\n",
      "=============================================================================================================================\n",
      "\n"
     ]
    },
    {
     "name": "stderr",
     "output_type": "stream",
     "text": [
      "[Succeeded / Failed / Skipped / Total] 142 / 12 / 41 / 195:  39%|███████▊            | 195/500 [05:32<08:40,  1.71s/it]textattack: Saving checkpoint under \"checkpoints\\1720199592247.ta.chkpt\" at 2024-07-06 01:13:12 after 195 attacks.\n"
     ]
    },
    {
     "name": "stdout",
     "output_type": "stream",
     "text": [
      "\n",
      "\n",
      "=============================================================================================================================\n",
      "=============================================================================================================================\n",
      "\n"
     ]
    },
    {
     "name": "stderr",
     "output_type": "stream",
     "text": [
      "[Succeeded / Failed / Skipped / Total] 146 / 12 / 42 / 200:  40%|████████            | 200/500 [05:48<08:42,  1.74s/it]textattack: Saving checkpoint under \"checkpoints\\1720199608154.ta.chkpt\" at 2024-07-06 01:13:28 after 200 attacks.\n",
      "[Succeeded / Failed / Skipped / Total] 146 / 12 / 43 / 201:  40%|████████            | 201/500 [05:48<08:38,  1.73s/it]"
     ]
    },
    {
     "name": "stdout",
     "output_type": "stream",
     "text": [
      "\n",
      "\n",
      "=============================================================================================================================\n",
      "=============================================================================================================================\n",
      "\n"
     ]
    },
    {
     "name": "stderr",
     "output_type": "stream",
     "text": [
      "[Succeeded / Failed / Skipped / Total] 149 / 12 / 44 / 205:  41%|████████▏           | 205/500 [05:52<08:26,  1.72s/it]textattack: Saving checkpoint under \"checkpoints\\1720199611905.ta.chkpt\" at 2024-07-06 01:13:31 after 205 attacks.\n",
      "[Succeeded / Failed / Skipped / Total] 149 / 12 / 45 / 206:  41%|████████▏           | 206/500 [05:52<08:22,  1.71s/it]"
     ]
    },
    {
     "name": "stdout",
     "output_type": "stream",
     "text": [
      "\n",
      "\n",
      "=============================================================================================================================\n",
      "=============================================================================================================================\n",
      "\n"
     ]
    },
    {
     "name": "stderr",
     "output_type": "stream",
     "text": [
      "[Succeeded / Failed / Skipped / Total] 153 / 12 / 45 / 210:  42%|████████▍           | 210/500 [05:58<08:15,  1.71s/it]textattack: Saving checkpoint under \"checkpoints\\1720199618465.ta.chkpt\" at 2024-07-06 01:13:38 after 210 attacks.\n"
     ]
    },
    {
     "name": "stdout",
     "output_type": "stream",
     "text": [
      "\n",
      "\n",
      "=============================================================================================================================\n",
      "=============================================================================================================================\n",
      "\n"
     ]
    },
    {
     "name": "stderr",
     "output_type": "stream",
     "text": [
      "[Succeeded / Failed / Skipped / Total] 156 / 13 / 46 / 215:  43%|████████▌           | 215/500 [06:08<08:09,  1.72s/it]textattack: Saving checkpoint under \"checkpoints\\1720199628701.ta.chkpt\" at 2024-07-06 01:13:48 after 215 attacks.\n"
     ]
    },
    {
     "name": "stdout",
     "output_type": "stream",
     "text": [
      "\n",
      "\n",
      "=============================================================================================================================\n",
      "=============================================================================================================================\n",
      "\n"
     ]
    },
    {
     "name": "stderr",
     "output_type": "stream",
     "text": [
      "[Succeeded / Failed / Skipped / Total] 160 / 14 / 46 / 220:  44%|████████▊           | 220/500 [06:15<07:58,  1.71s/it]textattack: Saving checkpoint under \"checkpoints\\1720199635746.ta.chkpt\" at 2024-07-06 01:13:55 after 220 attacks.\n"
     ]
    },
    {
     "name": "stdout",
     "output_type": "stream",
     "text": [
      "\n",
      "\n",
      "=============================================================================================================================\n",
      "=============================================================================================================================\n",
      "\n"
     ]
    },
    {
     "name": "stderr",
     "output_type": "stream",
     "text": [
      "[Succeeded / Failed / Skipped / Total] 163 / 14 / 48 / 225:  45%|█████████           | 225/500 [06:26<07:52,  1.72s/it]textattack: Saving checkpoint under \"checkpoints\\1720199646319.ta.chkpt\" at 2024-07-06 01:14:06 after 225 attacks.\n"
     ]
    },
    {
     "name": "stdout",
     "output_type": "stream",
     "text": [
      "\n",
      "\n",
      "=============================================================================================================================\n",
      "=============================================================================================================================\n",
      "\n"
     ]
    },
    {
     "name": "stderr",
     "output_type": "stream",
     "text": [
      "[Succeeded / Failed / Skipped / Total] 168 / 14 / 48 / 230:  46%|█████████▏          | 230/500 [06:34<07:43,  1.72s/it]textattack: Saving checkpoint under \"checkpoints\\1720199654563.ta.chkpt\" at 2024-07-06 01:14:14 after 230 attacks.\n"
     ]
    },
    {
     "name": "stdout",
     "output_type": "stream",
     "text": [
      "\n",
      "\n",
      "=============================================================================================================================\n",
      "=============================================================================================================================\n",
      "\n"
     ]
    },
    {
     "name": "stderr",
     "output_type": "stream",
     "text": [
      "[Succeeded / Failed / Skipped / Total] 171 / 15 / 49 / 235:  47%|█████████▍          | 235/500 [06:44<07:36,  1.72s/it]textattack: Saving checkpoint under \"checkpoints\\1720199664720.ta.chkpt\" at 2024-07-06 01:14:24 after 235 attacks.\n",
      "[Succeeded / Failed / Skipped / Total] 171 / 15 / 50 / 236:  47%|█████████▍          | 236/500 [06:45<07:33,  1.72s/it]"
     ]
    },
    {
     "name": "stdout",
     "output_type": "stream",
     "text": [
      "\n",
      "\n",
      "=============================================================================================================================\n",
      "=============================================================================================================================\n",
      "\n"
     ]
    },
    {
     "name": "stderr",
     "output_type": "stream",
     "text": [
      "[Succeeded / Failed / Skipped / Total] 174 / 16 / 50 / 240:  48%|█████████▌          | 240/500 [06:53<07:28,  1.72s/it]textattack: Saving checkpoint under \"checkpoints\\1720199673295.ta.chkpt\" at 2024-07-06 01:14:33 after 240 attacks.\n"
     ]
    },
    {
     "name": "stdout",
     "output_type": "stream",
     "text": [
      "\n",
      "\n",
      "=============================================================================================================================\n",
      "=============================================================================================================================\n",
      "\n"
     ]
    },
    {
     "name": "stderr",
     "output_type": "stream",
     "text": [
      "[Succeeded / Failed / Skipped / Total] 178 / 17 / 50 / 245:  49%|█████████▊          | 245/500 [07:05<07:22,  1.74s/it]textattack: Saving checkpoint under \"checkpoints\\1720199685192.ta.chkpt\" at 2024-07-06 01:14:45 after 245 attacks.\n"
     ]
    },
    {
     "name": "stdout",
     "output_type": "stream",
     "text": [
      "\n",
      "\n",
      "=============================================================================================================================\n",
      "=============================================================================================================================\n",
      "\n"
     ]
    },
    {
     "name": "stderr",
     "output_type": "stream",
     "text": [
      "[Succeeded / Failed / Skipped / Total] 181 / 18 / 51 / 250:  50%|██████████          | 250/500 [07:10<07:10,  1.72s/it]textattack: Saving checkpoint under \"checkpoints\\1720199690427.ta.chkpt\" at 2024-07-06 01:14:50 after 250 attacks.\n"
     ]
    },
    {
     "name": "stdout",
     "output_type": "stream",
     "text": [
      "\n",
      "\n",
      "=============================================================================================================================\n",
      "=============================================================================================================================\n",
      "\n"
     ]
    },
    {
     "name": "stderr",
     "output_type": "stream",
     "text": [
      "[Succeeded / Failed / Skipped / Total] 183 / 18 / 54 / 255:  51%|██████████▏         | 255/500 [07:14<06:57,  1.70s/it]textattack: Saving checkpoint under \"checkpoints\\1720199694350.ta.chkpt\" at 2024-07-06 01:14:54 after 255 attacks.\n"
     ]
    },
    {
     "name": "stdout",
     "output_type": "stream",
     "text": [
      "\n",
      "\n",
      "=============================================================================================================================\n",
      "=============================================================================================================================\n",
      "\n"
     ]
    },
    {
     "name": "stderr",
     "output_type": "stream",
     "text": [
      "[Succeeded / Failed / Skipped / Total] 187 / 18 / 55 / 260:  52%|██████████▍         | 260/500 [07:20<06:46,  1.69s/it]textattack: Saving checkpoint under \"checkpoints\\1720199700241.ta.chkpt\" at 2024-07-06 01:15:00 after 260 attacks.\n"
     ]
    },
    {
     "name": "stdout",
     "output_type": "stream",
     "text": [
      "\n",
      "\n",
      "=============================================================================================================================\n",
      "=============================================================================================================================\n",
      "\n"
     ]
    },
    {
     "name": "stderr",
     "output_type": "stream",
     "text": [
      "[Succeeded / Failed / Skipped / Total] 191 / 18 / 56 / 265:  53%|██████████▌         | 265/500 [07:25<06:34,  1.68s/it]textattack: Saving checkpoint under \"checkpoints\\1720199705142.ta.chkpt\" at 2024-07-06 01:15:05 after 265 attacks.\n"
     ]
    },
    {
     "name": "stdout",
     "output_type": "stream",
     "text": [
      "\n",
      "\n",
      "=============================================================================================================================\n",
      "=============================================================================================================================\n",
      "\n"
     ]
    },
    {
     "name": "stderr",
     "output_type": "stream",
     "text": [
      "[Succeeded / Failed / Skipped / Total] 194 / 18 / 58 / 270:  54%|██████████▊         | 270/500 [07:36<06:29,  1.69s/it]textattack: Saving checkpoint under \"checkpoints\\1720199716659.ta.chkpt\" at 2024-07-06 01:15:16 after 270 attacks.\n"
     ]
    },
    {
     "name": "stdout",
     "output_type": "stream",
     "text": [
      "\n",
      "\n",
      "=============================================================================================================================\n",
      "=============================================================================================================================\n",
      "\n"
     ]
    },
    {
     "name": "stderr",
     "output_type": "stream",
     "text": [
      "[Succeeded / Failed / Skipped / Total] 196 / 18 / 61 / 275:  55%|███████████         | 275/500 [07:40<06:16,  1.67s/it]textattack: Saving checkpoint under \"checkpoints\\1720199719878.ta.chkpt\" at 2024-07-06 01:15:19 after 275 attacks.\n"
     ]
    },
    {
     "name": "stdout",
     "output_type": "stream",
     "text": [
      "\n",
      "\n",
      "=============================================================================================================================\n",
      "=============================================================================================================================\n",
      "\n"
     ]
    },
    {
     "name": "stderr",
     "output_type": "stream",
     "text": [
      "[Succeeded / Failed / Skipped / Total] 198 / 19 / 63 / 280:  56%|███████████▏        | 280/500 [07:45<06:05,  1.66s/it]textattack: Saving checkpoint under \"checkpoints\\1720199724879.ta.chkpt\" at 2024-07-06 01:15:24 after 280 attacks.\n"
     ]
    },
    {
     "name": "stdout",
     "output_type": "stream",
     "text": [
      "\n",
      "\n",
      "=============================================================================================================================\n",
      "=============================================================================================================================\n",
      "\n"
     ]
    },
    {
     "name": "stderr",
     "output_type": "stream",
     "text": [
      "[Succeeded / Failed / Skipped / Total] 200 / 20 / 65 / 285:  57%|███████████▍        | 285/500 [07:51<05:55,  1.66s/it]textattack: Saving checkpoint under \"checkpoints\\1720199731582.ta.chkpt\" at 2024-07-06 01:15:31 after 285 attacks.\n",
      "[Succeeded / Failed / Skipped / Total] 200 / 20 / 67 / 287:  57%|███████████▍        | 287/500 [07:51<05:50,  1.64s/it]"
     ]
    },
    {
     "name": "stdout",
     "output_type": "stream",
     "text": [
      "\n",
      "\n",
      "=============================================================================================================================\n",
      "=============================================================================================================================\n",
      "\n"
     ]
    },
    {
     "name": "stderr",
     "output_type": "stream",
     "text": [
      "[Succeeded / Failed / Skipped / Total] 202 / 20 / 68 / 290:  58%|███████████▌        | 290/500 [07:58<05:46,  1.65s/it]textattack: Saving checkpoint under \"checkpoints\\1720199738552.ta.chkpt\" at 2024-07-06 01:15:38 after 290 attacks.\n",
      "[Succeeded / Failed / Skipped / Total] 202 / 20 / 69 / 291:  58%|███████████▋        | 291/500 [07:58<05:43,  1.65s/it]"
     ]
    },
    {
     "name": "stdout",
     "output_type": "stream",
     "text": [
      "\n",
      "\n",
      "=============================================================================================================================\n",
      "=============================================================================================================================\n",
      "\n"
     ]
    },
    {
     "name": "stderr",
     "output_type": "stream",
     "text": [
      "[Succeeded / Failed / Skipped / Total] 204 / 20 / 71 / 295:  59%|███████████▊        | 295/500 [08:04<05:36,  1.64s/it]textattack: Saving checkpoint under \"checkpoints\\1720199744616.ta.chkpt\" at 2024-07-06 01:15:44 after 295 attacks.\n"
     ]
    },
    {
     "name": "stdout",
     "output_type": "stream",
     "text": [
      "\n",
      "\n",
      "=============================================================================================================================\n",
      "=============================================================================================================================\n",
      "\n"
     ]
    },
    {
     "name": "stderr",
     "output_type": "stream",
     "text": [
      "[Succeeded / Failed / Skipped / Total] 207 / 21 / 72 / 300:  60%|████████████        | 300/500 [08:12<05:28,  1.64s/it]textattack: Saving checkpoint under \"checkpoints\\1720199751914.ta.chkpt\" at 2024-07-06 01:15:51 after 300 attacks.\n"
     ]
    },
    {
     "name": "stdout",
     "output_type": "stream",
     "text": [
      "\n",
      "\n",
      "=============================================================================================================================\n",
      "=============================================================================================================================\n",
      "\n"
     ]
    },
    {
     "name": "stderr",
     "output_type": "stream",
     "text": [
      "[Succeeded / Failed / Skipped / Total] 211 / 21 / 73 / 305:  61%|████████████▏       | 305/500 [08:20<05:20,  1.64s/it]textattack: Saving checkpoint under \"checkpoints\\1720199760595.ta.chkpt\" at 2024-07-06 01:16:00 after 305 attacks.\n"
     ]
    },
    {
     "name": "stdout",
     "output_type": "stream",
     "text": [
      "\n",
      "\n",
      "=============================================================================================================================\n",
      "=============================================================================================================================\n",
      "\n"
     ]
    },
    {
     "name": "stderr",
     "output_type": "stream",
     "text": [
      "[Succeeded / Failed / Skipped / Total] 214 / 21 / 75 / 310:  62%|████████████▍       | 310/500 [08:28<05:11,  1.64s/it]textattack: Saving checkpoint under \"checkpoints\\1720199768186.ta.chkpt\" at 2024-07-06 01:16:08 after 310 attacks.\n"
     ]
    },
    {
     "name": "stdout",
     "output_type": "stream",
     "text": [
      "\n",
      "\n",
      "=============================================================================================================================\n",
      "=============================================================================================================================\n",
      "\n"
     ]
    },
    {
     "name": "stderr",
     "output_type": "stream",
     "text": [
      "[Succeeded / Failed / Skipped / Total] 217 / 21 / 77 / 315:  63%|████████████▌       | 315/500 [08:32<05:01,  1.63s/it]textattack: Saving checkpoint under \"checkpoints\\1720199772599.ta.chkpt\" at 2024-07-06 01:16:12 after 315 attacks.\n"
     ]
    },
    {
     "name": "stdout",
     "output_type": "stream",
     "text": [
      "\n",
      "\n",
      "=============================================================================================================================\n",
      "=============================================================================================================================\n",
      "\n"
     ]
    },
    {
     "name": "stderr",
     "output_type": "stream",
     "text": [
      "[Succeeded / Failed / Skipped / Total] 221 / 21 / 78 / 320:  64%|████████████▊       | 320/500 [08:46<04:56,  1.65s/it]textattack: Saving checkpoint under \"checkpoints\\1720199786304.ta.chkpt\" at 2024-07-06 01:16:26 after 320 attacks.\n"
     ]
    },
    {
     "name": "stdout",
     "output_type": "stream",
     "text": [
      "\n",
      "\n",
      "=============================================================================================================================\n",
      "=============================================================================================================================\n",
      "\n"
     ]
    },
    {
     "name": "stderr",
     "output_type": "stream",
     "text": [
      "[Succeeded / Failed / Skipped / Total] 226 / 21 / 78 / 325:  65%|█████████████       | 325/500 [09:00<04:51,  1.66s/it]textattack: Saving checkpoint under \"checkpoints\\1720199800583.ta.chkpt\" at 2024-07-06 01:16:40 after 325 attacks.\n"
     ]
    },
    {
     "name": "stdout",
     "output_type": "stream",
     "text": [
      "\n",
      "\n",
      "=============================================================================================================================\n",
      "=============================================================================================================================\n",
      "\n"
     ]
    },
    {
     "name": "stderr",
     "output_type": "stream",
     "text": [
      "[Succeeded / Failed / Skipped / Total] 231 / 21 / 78 / 330:  66%|█████████████▏      | 330/500 [09:05<04:41,  1.65s/it]textattack: Saving checkpoint under \"checkpoints\\1720199805646.ta.chkpt\" at 2024-07-06 01:16:45 after 330 attacks.\n"
     ]
    },
    {
     "name": "stdout",
     "output_type": "stream",
     "text": [
      "\n",
      "\n",
      "=============================================================================================================================\n",
      "=============================================================================================================================\n",
      "\n"
     ]
    },
    {
     "name": "stderr",
     "output_type": "stream",
     "text": [
      "[Succeeded / Failed / Skipped / Total] 234 / 23 / 78 / 335:  67%|█████████████▍      | 335/500 [09:24<04:37,  1.68s/it]textattack: Saving checkpoint under \"checkpoints\\1720199824044.ta.chkpt\" at 2024-07-06 01:17:04 after 335 attacks.\n",
      "[Succeeded / Failed / Skipped / Total] 234 / 23 / 79 / 336:  67%|█████████████▍      | 336/500 [09:24<04:35,  1.68s/it]"
     ]
    },
    {
     "name": "stdout",
     "output_type": "stream",
     "text": [
      "\n",
      "\n",
      "=============================================================================================================================\n",
      "=============================================================================================================================\n",
      "\n"
     ]
    },
    {
     "name": "stderr",
     "output_type": "stream",
     "text": [
      "[Succeeded / Failed / Skipped / Total] 237 / 23 / 80 / 340:  68%|█████████████▌      | 340/500 [09:27<04:27,  1.67s/it]textattack: Saving checkpoint under \"checkpoints\\1720199827700.ta.chkpt\" at 2024-07-06 01:17:07 after 340 attacks.\n"
     ]
    },
    {
     "name": "stdout",
     "output_type": "stream",
     "text": [
      "\n",
      "\n",
      "=============================================================================================================================\n",
      "=============================================================================================================================\n",
      "\n"
     ]
    },
    {
     "name": "stderr",
     "output_type": "stream",
     "text": [
      "[Succeeded / Failed / Skipped / Total] 242 / 23 / 80 / 345:  69%|█████████████▊      | 345/500 [09:34<04:18,  1.67s/it]textattack: Saving checkpoint under \"checkpoints\\1720199834240.ta.chkpt\" at 2024-07-06 01:17:14 after 345 attacks.\n"
     ]
    },
    {
     "name": "stdout",
     "output_type": "stream",
     "text": [
      "\n",
      "\n",
      "=============================================================================================================================\n",
      "=============================================================================================================================\n",
      "\n"
     ]
    },
    {
     "name": "stderr",
     "output_type": "stream",
     "text": [
      "[Succeeded / Failed / Skipped / Total] 245 / 24 / 81 / 350:  70%|██████████████      | 350/500 [09:46<04:11,  1.68s/it]textattack: Saving checkpoint under \"checkpoints\\1720199846100.ta.chkpt\" at 2024-07-06 01:17:26 after 350 attacks.\n"
     ]
    },
    {
     "name": "stdout",
     "output_type": "stream",
     "text": [
      "\n",
      "\n",
      "=============================================================================================================================\n",
      "=============================================================================================================================\n",
      "\n"
     ]
    },
    {
     "name": "stderr",
     "output_type": "stream",
     "text": [
      "[Succeeded / Failed / Skipped / Total] 249 / 25 / 81 / 355:  71%|██████████████▏     | 355/500 [10:03<04:06,  1.70s/it]textattack: Saving checkpoint under \"checkpoints\\1720199863117.ta.chkpt\" at 2024-07-06 01:17:43 after 355 attacks.\n"
     ]
    },
    {
     "name": "stdout",
     "output_type": "stream",
     "text": [
      "\n",
      "\n",
      "=============================================================================================================================\n",
      "=============================================================================================================================\n",
      "\n"
     ]
    },
    {
     "name": "stderr",
     "output_type": "stream",
     "text": [
      "[Succeeded / Failed / Skipped / Total] 252 / 26 / 82 / 360:  72%|██████████████▍     | 360/500 [10:14<03:58,  1.71s/it]textattack: Saving checkpoint under \"checkpoints\\1720199873977.ta.chkpt\" at 2024-07-06 01:17:53 after 360 attacks.\n"
     ]
    },
    {
     "name": "stdout",
     "output_type": "stream",
     "text": [
      "\n",
      "\n",
      "=============================================================================================================================\n",
      "=============================================================================================================================\n",
      "\n"
     ]
    },
    {
     "name": "stderr",
     "output_type": "stream",
     "text": [
      "[Succeeded / Failed / Skipped / Total] 257 / 26 / 82 / 365:  73%|██████████████▌     | 365/500 [10:22<03:50,  1.70s/it]textattack: Saving checkpoint under \"checkpoints\\1720199881821.ta.chkpt\" at 2024-07-06 01:18:01 after 365 attacks.\n",
      "[Succeeded / Failed / Skipped / Total] 257 / 26 / 83 / 366:  73%|██████████████▋     | 366/500 [10:22<03:47,  1.70s/it]"
     ]
    },
    {
     "name": "stdout",
     "output_type": "stream",
     "text": [
      "\n",
      "\n",
      "=============================================================================================================================\n",
      "=============================================================================================================================\n",
      "\n"
     ]
    },
    {
     "name": "stderr",
     "output_type": "stream",
     "text": [
      "[Succeeded / Failed / Skipped / Total] 261 / 26 / 83 / 370:  74%|██████████████▊     | 370/500 [10:27<03:40,  1.70s/it]textattack: Saving checkpoint under \"checkpoints\\1720199886956.ta.chkpt\" at 2024-07-06 01:18:06 after 370 attacks.\n"
     ]
    },
    {
     "name": "stdout",
     "output_type": "stream",
     "text": [
      "\n",
      "\n",
      "=============================================================================================================================\n",
      "=============================================================================================================================\n",
      "\n"
     ]
    },
    {
     "name": "stderr",
     "output_type": "stream",
     "text": [
      "[Succeeded / Failed / Skipped / Total] 266 / 26 / 83 / 375:  75%|███████████████     | 375/500 [10:42<03:34,  1.71s/it]textattack: Saving checkpoint under \"checkpoints\\1720199902055.ta.chkpt\" at 2024-07-06 01:18:22 after 375 attacks.\n"
     ]
    },
    {
     "name": "stdout",
     "output_type": "stream",
     "text": [
      "\n",
      "\n",
      "=============================================================================================================================\n",
      "=============================================================================================================================\n",
      "\n"
     ]
    },
    {
     "name": "stderr",
     "output_type": "stream",
     "text": [
      "[Succeeded / Failed / Skipped / Total] 270 / 26 / 84 / 380:  76%|███████████████▏    | 380/500 [10:47<03:24,  1.70s/it]textattack: Saving checkpoint under \"checkpoints\\1720199906852.ta.chkpt\" at 2024-07-06 01:18:26 after 380 attacks.\n"
     ]
    },
    {
     "name": "stdout",
     "output_type": "stream",
     "text": [
      "\n",
      "\n",
      "=============================================================================================================================\n",
      "=============================================================================================================================\n",
      "\n"
     ]
    },
    {
     "name": "stderr",
     "output_type": "stream",
     "text": [
      "[Succeeded / Failed / Skipped / Total] 274 / 27 / 84 / 385:  77%|███████████████▍    | 385/500 [10:54<03:15,  1.70s/it]textattack: Saving checkpoint under \"checkpoints\\1720199914603.ta.chkpt\" at 2024-07-06 01:18:34 after 385 attacks.\n"
     ]
    },
    {
     "name": "stdout",
     "output_type": "stream",
     "text": [
      "\n",
      "\n",
      "=============================================================================================================================\n",
      "=============================================================================================================================\n",
      "\n"
     ]
    },
    {
     "name": "stderr",
     "output_type": "stream",
     "text": [
      "[Succeeded / Failed / Skipped / Total] 278 / 27 / 85 / 390:  78%|███████████████▌    | 390/500 [11:00<03:06,  1.69s/it]textattack: Saving checkpoint under \"checkpoints\\1720199920385.ta.chkpt\" at 2024-07-06 01:18:40 after 390 attacks.\n"
     ]
    },
    {
     "name": "stdout",
     "output_type": "stream",
     "text": [
      "\n",
      "\n",
      "=============================================================================================================================\n",
      "=============================================================================================================================\n",
      "\n"
     ]
    },
    {
     "name": "stderr",
     "output_type": "stream",
     "text": [
      "[Succeeded / Failed / Skipped / Total] 282 / 28 / 85 / 395:  79%|███████████████▊    | 395/500 [11:13<02:58,  1.70s/it]textattack: Saving checkpoint under \"checkpoints\\1720199932868.ta.chkpt\" at 2024-07-06 01:18:52 after 395 attacks.\n"
     ]
    },
    {
     "name": "stdout",
     "output_type": "stream",
     "text": [
      "\n",
      "\n",
      "=============================================================================================================================\n",
      "=============================================================================================================================\n",
      "\n"
     ]
    },
    {
     "name": "stderr",
     "output_type": "stream",
     "text": [
      "[Succeeded / Failed / Skipped / Total] 287 / 28 / 85 / 400:  80%|████████████████    | 400/500 [11:24<02:51,  1.71s/it]textattack: Saving checkpoint under \"checkpoints\\1720199944369.ta.chkpt\" at 2024-07-06 01:19:04 after 400 attacks.\n"
     ]
    },
    {
     "name": "stdout",
     "output_type": "stream",
     "text": [
      "\n",
      "\n",
      "=============================================================================================================================\n",
      "=============================================================================================================================\n",
      "\n"
     ]
    },
    {
     "name": "stderr",
     "output_type": "stream",
     "text": [
      "[Succeeded / Failed / Skipped / Total] 291 / 28 / 86 / 405:  81%|████████████████▏   | 405/500 [11:37<02:43,  1.72s/it]textattack: Saving checkpoint under \"checkpoints\\1720199957140.ta.chkpt\" at 2024-07-06 01:19:17 after 405 attacks.\n"
     ]
    },
    {
     "name": "stdout",
     "output_type": "stream",
     "text": [
      "\n",
      "\n",
      "=============================================================================================================================\n",
      "=============================================================================================================================\n",
      "\n"
     ]
    },
    {
     "name": "stderr",
     "output_type": "stream",
     "text": [
      "[Succeeded / Failed / Skipped / Total] 296 / 28 / 86 / 410:  82%|████████████████▍   | 410/500 [11:41<02:34,  1.71s/it]textattack: Saving checkpoint under \"checkpoints\\1720199961563.ta.chkpt\" at 2024-07-06 01:19:21 after 410 attacks.\n"
     ]
    },
    {
     "name": "stdout",
     "output_type": "stream",
     "text": [
      "\n",
      "\n",
      "=============================================================================================================================\n",
      "=============================================================================================================================\n",
      "\n"
     ]
    },
    {
     "name": "stderr",
     "output_type": "stream",
     "text": [
      "[Succeeded / Failed / Skipped / Total] 298 / 28 / 89 / 415:  83%|████████████████▌   | 415/500 [11:43<02:24,  1.69s/it]textattack: Saving checkpoint under \"checkpoints\\1720199963094.ta.chkpt\" at 2024-07-06 01:19:23 after 415 attacks.\n"
     ]
    },
    {
     "name": "stdout",
     "output_type": "stream",
     "text": [
      "\n",
      "\n",
      "=============================================================================================================================\n",
      "=============================================================================================================================\n",
      "\n"
     ]
    },
    {
     "name": "stderr",
     "output_type": "stream",
     "text": [
      "[Succeeded / Failed / Skipped / Total] 302 / 29 / 89 / 420:  84%|████████████████▊   | 420/500 [11:51<02:15,  1.69s/it]textattack: Saving checkpoint under \"checkpoints\\1720199971649.ta.chkpt\" at 2024-07-06 01:19:31 after 420 attacks.\n"
     ]
    },
    {
     "name": "stdout",
     "output_type": "stream",
     "text": [
      "\n",
      "\n",
      "=============================================================================================================================\n",
      "=============================================================================================================================\n",
      "\n"
     ]
    },
    {
     "name": "stderr",
     "output_type": "stream",
     "text": [
      "[Succeeded / Failed / Skipped / Total] 307 / 29 / 89 / 425:  85%|█████████████████   | 425/500 [11:57<02:06,  1.69s/it]textattack: Saving checkpoint under \"checkpoints\\1720199977657.ta.chkpt\" at 2024-07-06 01:19:37 after 425 attacks.\n"
     ]
    },
    {
     "name": "stdout",
     "output_type": "stream",
     "text": [
      "\n",
      "\n",
      "=============================================================================================================================\n",
      "=============================================================================================================================\n",
      "\n"
     ]
    },
    {
     "name": "stderr",
     "output_type": "stream",
     "text": [
      "[Succeeded / Failed / Skipped / Total] 312 / 29 / 89 / 430:  86%|█████████████████▏  | 430/500 [12:04<01:58,  1.69s/it]textattack: Saving checkpoint under \"checkpoints\\1720199984721.ta.chkpt\" at 2024-07-06 01:19:44 after 430 attacks.\n",
      "[Succeeded / Failed / Skipped / Total] 312 / 29 / 90 / 431:  86%|█████████████████▏  | 431/500 [12:05<01:56,  1.68s/it]"
     ]
    },
    {
     "name": "stdout",
     "output_type": "stream",
     "text": [
      "\n",
      "\n",
      "=============================================================================================================================\n",
      "=============================================================================================================================\n",
      "\n"
     ]
    },
    {
     "name": "stderr",
     "output_type": "stream",
     "text": [
      "[Succeeded / Failed / Skipped / Total] 315 / 29 / 91 / 435:  87%|█████████████████▍  | 435/500 [12:11<01:49,  1.68s/it]textattack: Saving checkpoint under \"checkpoints\\1720199991206.ta.chkpt\" at 2024-07-06 01:19:51 after 435 attacks.\n"
     ]
    },
    {
     "name": "stdout",
     "output_type": "stream",
     "text": [
      "\n",
      "\n",
      "=============================================================================================================================\n",
      "=============================================================================================================================\n",
      "\n"
     ]
    },
    {
     "name": "stderr",
     "output_type": "stream",
     "text": [
      "[Succeeded / Failed / Skipped / Total] 319 / 30 / 91 / 440:  88%|█████████████████▌  | 440/500 [12:21<01:41,  1.69s/it]textattack: Saving checkpoint under \"checkpoints\\1720200001300.ta.chkpt\" at 2024-07-06 01:20:01 after 440 attacks.\n"
     ]
    },
    {
     "name": "stdout",
     "output_type": "stream",
     "text": [
      "\n",
      "\n",
      "=============================================================================================================================\n",
      "=============================================================================================================================\n",
      "\n"
     ]
    },
    {
     "name": "stderr",
     "output_type": "stream",
     "text": [
      "[Succeeded / Failed / Skipped / Total] 324 / 30 / 91 / 445:  89%|█████████████████▊  | 445/500 [12:28<01:32,  1.68s/it]textattack: Saving checkpoint under \"checkpoints\\1720200008192.ta.chkpt\" at 2024-07-06 01:20:08 after 445 attacks.\n"
     ]
    },
    {
     "name": "stdout",
     "output_type": "stream",
     "text": [
      "\n",
      "\n",
      "=============================================================================================================================\n",
      "=============================================================================================================================\n",
      "\n"
     ]
    },
    {
     "name": "stderr",
     "output_type": "stream",
     "text": [
      "[Succeeded / Failed / Skipped / Total] 326 / 31 / 93 / 450:  90%|██████████████████  | 450/500 [12:37<01:24,  1.68s/it]textattack: Saving checkpoint under \"checkpoints\\1720200016865.ta.chkpt\" at 2024-07-06 01:20:16 after 450 attacks.\n"
     ]
    },
    {
     "name": "stdout",
     "output_type": "stream",
     "text": [
      "\n",
      "\n",
      "=============================================================================================================================\n",
      "=============================================================================================================================\n",
      "\n"
     ]
    },
    {
     "name": "stderr",
     "output_type": "stream",
     "text": [
      "[Succeeded / Failed / Skipped / Total] 330 / 31 / 94 / 455:  91%|██████████████████▏ | 455/500 [12:46<01:15,  1.68s/it]textattack: Saving checkpoint under \"checkpoints\\1720200026037.ta.chkpt\" at 2024-07-06 01:20:26 after 455 attacks.\n"
     ]
    },
    {
     "name": "stdout",
     "output_type": "stream",
     "text": [
      "\n",
      "\n",
      "=============================================================================================================================\n",
      "=============================================================================================================================\n",
      "\n"
     ]
    },
    {
     "name": "stderr",
     "output_type": "stream",
     "text": [
      "[Succeeded / Failed / Skipped / Total] 334 / 32 / 94 / 460:  92%|██████████████████▍ | 460/500 [13:02<01:08,  1.70s/it]textattack: Saving checkpoint under \"checkpoints\\1720200042702.ta.chkpt\" at 2024-07-06 01:20:42 after 460 attacks.\n"
     ]
    },
    {
     "name": "stdout",
     "output_type": "stream",
     "text": [
      "\n",
      "\n",
      "=============================================================================================================================\n",
      "=============================================================================================================================\n",
      "\n"
     ]
    },
    {
     "name": "stderr",
     "output_type": "stream",
     "text": [
      "[Succeeded / Failed / Skipped / Total] 339 / 32 / 94 / 465:  93%|██████████████████▌ | 465/500 [13:12<00:59,  1.70s/it]textattack: Saving checkpoint under \"checkpoints\\1720200052328.ta.chkpt\" at 2024-07-06 01:20:52 after 465 attacks.\n"
     ]
    },
    {
     "name": "stdout",
     "output_type": "stream",
     "text": [
      "\n",
      "\n",
      "=============================================================================================================================\n",
      "=============================================================================================================================\n",
      "\n"
     ]
    },
    {
     "name": "stderr",
     "output_type": "stream",
     "text": [
      "[Succeeded / Failed / Skipped / Total] 343 / 32 / 95 / 470:  94%|██████████████████▊ | 470/500 [13:16<00:50,  1.69s/it]textattack: Saving checkpoint under \"checkpoints\\1720200056079.ta.chkpt\" at 2024-07-06 01:20:56 after 470 attacks.\n"
     ]
    },
    {
     "name": "stdout",
     "output_type": "stream",
     "text": [
      "\n",
      "\n",
      "=============================================================================================================================\n",
      "=============================================================================================================================\n",
      "\n"
     ]
    },
    {
     "name": "stderr",
     "output_type": "stream",
     "text": [
      "[Succeeded / Failed / Skipped / Total] 347 / 33 / 95 / 475:  95%|███████████████████ | 475/500 [13:38<00:43,  1.72s/it]textattack: Saving checkpoint under \"checkpoints\\1720200078406.ta.chkpt\" at 2024-07-06 01:21:18 after 475 attacks.\n"
     ]
    },
    {
     "name": "stdout",
     "output_type": "stream",
     "text": [
      "\n",
      "\n",
      "=============================================================================================================================\n",
      "=============================================================================================================================\n",
      "\n"
     ]
    },
    {
     "name": "stderr",
     "output_type": "stream",
     "text": [
      "[Succeeded / Failed / Skipped / Total] 350 / 35 / 95 / 480:  96%|███████████████████▏| 480/500 [13:49<00:34,  1.73s/it]textattack: Saving checkpoint under \"checkpoints\\1720200089078.ta.chkpt\" at 2024-07-06 01:21:29 after 480 attacks.\n"
     ]
    },
    {
     "name": "stdout",
     "output_type": "stream",
     "text": [
      "\n",
      "\n",
      "=============================================================================================================================\n",
      "=============================================================================================================================\n",
      "\n"
     ]
    },
    {
     "name": "stderr",
     "output_type": "stream",
     "text": [
      "[Succeeded / Failed / Skipped / Total] 352 / 37 / 96 / 485:  97%|███████████████████▍| 485/500 [14:05<00:26,  1.74s/it]textattack: Saving checkpoint under \"checkpoints\\1720200104908.ta.chkpt\" at 2024-07-06 01:21:44 after 485 attacks.\n"
     ]
    },
    {
     "name": "stdout",
     "output_type": "stream",
     "text": [
      "\n",
      "\n",
      "=============================================================================================================================\n",
      "=============================================================================================================================\n",
      "\n"
     ]
    },
    {
     "name": "stderr",
     "output_type": "stream",
     "text": [
      "[Succeeded / Failed / Skipped / Total] 356 / 37 / 97 / 490:  98%|███████████████████▌| 490/500 [14:13<00:17,  1.74s/it]textattack: Saving checkpoint under \"checkpoints\\1720200113734.ta.chkpt\" at 2024-07-06 01:21:53 after 490 attacks.\n"
     ]
    },
    {
     "name": "stdout",
     "output_type": "stream",
     "text": [
      "\n",
      "\n",
      "=============================================================================================================================\n",
      "=============================================================================================================================\n",
      "\n"
     ]
    },
    {
     "name": "stderr",
     "output_type": "stream",
     "text": [
      "[Succeeded / Failed / Skipped / Total] 361 / 37 / 97 / 495:  99%|███████████████████▊| 495/500 [14:20<00:08,  1.74s/it]textattack: Saving checkpoint under \"checkpoints\\1720200120719.ta.chkpt\" at 2024-07-06 01:22:00 after 495 attacks.\n"
     ]
    },
    {
     "name": "stdout",
     "output_type": "stream",
     "text": [
      "\n",
      "\n",
      "=============================================================================================================================\n",
      "=============================================================================================================================\n",
      "\n"
     ]
    },
    {
     "name": "stderr",
     "output_type": "stream",
     "text": [
      "[Succeeded / Failed / Skipped / Total] 365 / 38 / 97 / 500: 100%|████████████████████| 500/500 [14:34<00:00,  1.75s/it]textattack: Saving checkpoint under \"checkpoints\\1720200134376.ta.chkpt\" at 2024-07-06 01:22:14 after 500 attacks.\n",
      "[Succeeded / Failed / Skipped / Total] 365 / 38 / 97 / 500: 100%|████████████████████| 500/500 [14:34<00:00,  1.75s/it]"
     ]
    },
    {
     "name": "stdout",
     "output_type": "stream",
     "text": [
      "\n",
      "\n",
      "=============================================================================================================================\n",
      "=============================================================================================================================\n",
      "\n",
      "\n",
      "+-------------------------------+--------+\n",
      "| Attack Results                |        |\n",
      "+-------------------------------+--------+\n",
      "| Number of successful attacks: | 365    |\n",
      "| Number of failed attacks:     | 38     |\n",
      "| Number of skipped attacks:    | 97     |\n",
      "| Original accuracy:            | 80.6%  |\n",
      "| Accuracy under attack:        | 7.6%   |\n",
      "| Attack success rate:          | 90.57% |\n",
      "| Average perturbed word %:     | 18.74% |\n",
      "| Average num. words per input: | 18.4   |\n",
      "| Avg num queries:              | 46.12  |\n",
      "+-------------------------------+--------+\n"
     ]
    },
    {
     "name": "stderr",
     "output_type": "stream",
     "text": [
      "\n"
     ]
    }
   ],
   "source": [
    "runAttack(bert_model_wrapper_svc_mr, n_samples, 'attack_results_new/bertmrattacksvc'+suffix, target_ds_mr)"
   ]
  },
  {
   "cell_type": "markdown",
   "id": "dd63a478-d62b-479e-8008-00fbd17c8c18",
   "metadata": {},
   "source": [
    "### DistilBERT-based-uncased"
   ]
  },
  {
   "cell_type": "code",
   "execution_count": 16,
   "id": "9f085186-e2aa-44a6-8089-92317f282f52",
   "metadata": {},
   "outputs": [
    {
     "name": "stderr",
     "output_type": "stream",
     "text": [
      "D:\\anaconda3\\envs\\tf\\lib\\site-packages\\huggingface_hub\\file_download.py:1132: FutureWarning: `resume_download` is deprecated and will be removed in version 1.0.0. Downloads always resume when possible. If you want to force a new download, use `force_download=True`.\n",
      "  warnings.warn(\n"
     ]
    }
   ],
   "source": [
    "# bert-based-uncased\n",
    "model_path2 = 'distilbert/distilbert-base-uncased'\n",
    "\n",
    "disbert_model = transformers.AutoModel.from_pretrained(model_path2)\n",
    "disbert_tokenizer = transformers.AutoTokenizer.from_pretrained(model_path2)"
   ]
  },
  {
   "cell_type": "code",
   "execution_count": 17,
   "id": "941f4005-1125-4a4a-999b-9f4244f18a09",
   "metadata": {},
   "outputs": [
    {
     "name": "stderr",
     "output_type": "stream",
     "text": [
      "D:\\anaconda3\\envs\\tf\\lib\\site-packages\\sklearn\\linear_model\\_sag.py:350: ConvergenceWarning: The max_iter was reached which means the coef_ did not converge\n",
      "  warnings.warn(\n"
     ]
    },
    {
     "name": "stdout",
     "output_type": "stream",
     "text": [
      "Log Reg 0.7945590994371482\n",
      "RF 0.7682926829268293\n",
      "KNN 0.7298311444652908\n",
      "SVC 0.7851782363977486\n"
     ]
    }
   ],
   "source": [
    "disbertmrtrain = pd.read_csv('dataset_embeddings/disbertmrtrain.txt', header=None)\n",
    "disbertmrtest = pd.read_csv('dataset_embeddings/disbertmrtest.txt', header=None)\n",
    "lr_disbert_mr, rf_disbert_mr, knn_disbert_mr, svc_disbert_mr = adaptation(disbertmrtrain, disbertmrtest)"
   ]
  },
  {
   "cell_type": "code",
   "execution_count": 18,
   "id": "9e4d537c-15d6-4688-b676-9c389ce365ce",
   "metadata": {},
   "outputs": [],
   "source": [
    "# custom model wrapper for DistilBERT\n",
    "class DisBERTModelWrapper(HuggingFaceModelWrapper):\n",
    "    def __init__(self, processor, text_encoder, classifier):\n",
    "        self.processor = processor\n",
    "        self.model = text_encoder\n",
    "        self.classifier = classifier\n",
    "\n",
    "    def __call__(self, text_input_list):\n",
    "        inputs = self.processor(text_input_list, return_tensors='pt', padding=True, truncation=True)\n",
    "        outputs = self.model(**inputs).last_hidden_state.mean(axis=1)\n",
    "        with torch.no_grad():\n",
    "            preds = self.classifier.predict_proba(outputs)\n",
    "        return preds"
   ]
  },
  {
   "cell_type": "code",
   "execution_count": 19,
   "id": "564916f2-cf94-432e-81bf-e01b39cf9fc5",
   "metadata": {},
   "outputs": [],
   "source": [
    "disbert_model_wrapper_lr_mr = DisBERTModelWrapper(disbert_tokenizer, disbert_model, lr_disbert_mr)\n",
    "disbert_model_wrapper_rf_mr = DisBERTModelWrapper(disbert_tokenizer, disbert_model, rf_disbert_mr)\n",
    "disbert_model_wrapper_knn_mr = DisBERTModelWrapper(disbert_tokenizer, disbert_model, knn_disbert_mr)\n",
    "disbert_model_wrapper_svc_mr = DisBERTModelWrapper(disbert_tokenizer, disbert_model, svc_disbert_mr)"
   ]
  },
  {
   "cell_type": "code",
   "execution_count": 20,
   "id": "32e80b72-91e4-4eee-b512-eacd6496b617",
   "metadata": {},
   "outputs": [
    {
     "name": "stderr",
     "output_type": "stream",
     "text": [
      "textattack: Unknown if model of class <class 'transformers.models.distilbert.modeling_distilbert.DistilBertModel'> compatible with goal function <class 'textattack.goal_functions.classification.untargeted_classification.UntargetedClassification'>.\n",
      "textattack: Logging to CSV at path attack_results_new/disbertmrattacklrsim07.csv\n"
     ]
    },
    {
     "name": "stdout",
     "output_type": "stream",
     "text": [
      "Attack(\n",
      "  (search_method): GreedyWordSwapWIR(\n",
      "    (wir_method):  delete\n",
      "  )\n",
      "  (goal_function):  UntargetedClassification\n",
      "  (transformation):  WordSwapEmbedding(\n",
      "    (max_candidates):  50\n",
      "    (embedding):  WordEmbedding\n",
      "  )\n",
      "  (constraints): \n",
      "    (0): WordEmbeddingDistance(\n",
      "        (embedding):  WordEmbedding\n",
      "        (min_cos_sim):  0.7\n",
      "        (cased):  False\n",
      "        (include_unknown_words):  True\n",
      "        (compare_against_original):  True\n",
      "      )\n",
      "    (1): PartOfSpeech(\n",
      "        (tagger_type):  nltk\n",
      "        (tagset):  universal\n",
      "        (allow_verb_noun_swap):  True\n",
      "        (compare_against_original):  True\n",
      "      )\n",
      "    (2): UniversalSentenceEncoder(\n",
      "        (metric):  angular\n",
      "        (threshold):  0.840845057\n",
      "        (window_size):  15\n",
      "        (skip_text_shorter_than_window):  True\n",
      "        (compare_against_original):  False\n",
      "      )\n",
      "    (3): RepeatModification\n",
      "    (4): StopwordModification\n",
      "    (5): InputColumnModification(\n",
      "        (matching_column_labels):  ['premise', 'hypothesis']\n",
      "        (columns_to_ignore):  {'premise'}\n",
      "      )\n",
      "  (is_black_box):  True\n",
      ") \n",
      "\n"
     ]
    },
    {
     "name": "stderr",
     "output_type": "stream",
     "text": [
      "[Succeeded / Failed / Skipped / Total] 3 / 1 / 1 / 5:   1%|▎                           | 5/500 [00:13<22:14,  2.70s/it]textattack: Saving checkpoint under \"checkpoints\\1720200298463.ta.chkpt\" at 2024-07-06 01:24:58 after 5 attacks.\n",
      "[Succeeded / Failed / Skipped / Total] 3 / 1 / 2 / 6:   1%|▎                           | 6/500 [00:13<18:44,  2.28s/it]"
     ]
    },
    {
     "name": "stdout",
     "output_type": "stream",
     "text": [
      "\n",
      "\n",
      "=============================================================================================================================\n",
      "=============================================================================================================================\n",
      "\n"
     ]
    },
    {
     "name": "stderr",
     "output_type": "stream",
     "text": [
      "[Succeeded / Failed / Skipped / Total] 6 / 1 / 3 / 10:   2%|▌                         | 10/500 [00:18<14:54,  1.82s/it]textattack: Saving checkpoint under \"checkpoints\\1720200303229.ta.chkpt\" at 2024-07-06 01:25:03 after 10 attacks.\n"
     ]
    },
    {
     "name": "stdout",
     "output_type": "stream",
     "text": [
      "\n",
      "\n",
      "=============================================================================================================================\n",
      "=============================================================================================================================\n",
      "\n"
     ]
    },
    {
     "name": "stderr",
     "output_type": "stream",
     "text": [
      "[Succeeded / Failed / Skipped / Total] 9 / 2 / 4 / 15:   3%|▊                         | 15/500 [00:29<15:43,  1.94s/it]textattack: Saving checkpoint under \"checkpoints\\1720200314151.ta.chkpt\" at 2024-07-06 01:25:14 after 15 attacks.\n"
     ]
    },
    {
     "name": "stdout",
     "output_type": "stream",
     "text": [
      "\n",
      "\n",
      "=============================================================================================================================\n",
      "=============================================================================================================================\n",
      "\n"
     ]
    },
    {
     "name": "stderr",
     "output_type": "stream",
     "text": [
      "[Succeeded / Failed / Skipped / Total] 11 / 4 / 5 / 20:   4%|█                        | 20/500 [00:32<13:06,  1.64s/it]textattack: Saving checkpoint under \"checkpoints\\1720200317745.ta.chkpt\" at 2024-07-06 01:25:17 after 20 attacks.\n"
     ]
    },
    {
     "name": "stdout",
     "output_type": "stream",
     "text": [
      "\n",
      "\n",
      "=============================================================================================================================\n",
      "=============================================================================================================================\n",
      "\n"
     ]
    },
    {
     "name": "stderr",
     "output_type": "stream",
     "text": [
      "[Succeeded / Failed / Skipped / Total] 15 / 4 / 6 / 25:   5%|█▎                       | 25/500 [00:35<11:21,  1.43s/it]textattack: Saving checkpoint under \"checkpoints\\1720200320855.ta.chkpt\" at 2024-07-06 01:25:20 after 25 attacks.\n"
     ]
    },
    {
     "name": "stdout",
     "output_type": "stream",
     "text": [
      "\n",
      "\n",
      "=============================================================================================================================\n",
      "=============================================================================================================================\n",
      "\n"
     ]
    },
    {
     "name": "stderr",
     "output_type": "stream",
     "text": [
      "[Succeeded / Failed / Skipped / Total] 17 / 5 / 8 / 30:   6%|█▌                       | 30/500 [00:38<10:01,  1.28s/it]textattack: Saving checkpoint under \"checkpoints\\1720200323402.ta.chkpt\" at 2024-07-06 01:25:23 after 30 attacks.\n"
     ]
    },
    {
     "name": "stdout",
     "output_type": "stream",
     "text": [
      "\n",
      "\n",
      "=============================================================================================================================\n",
      "=============================================================================================================================\n",
      "\n"
     ]
    },
    {
     "name": "stderr",
     "output_type": "stream",
     "text": [
      "[Succeeded / Failed / Skipped / Total] 20 / 5 / 10 / 35:   7%|█▋                      | 35/500 [00:40<08:57,  1.16s/it]textattack: Saving checkpoint under \"checkpoints\\1720200325418.ta.chkpt\" at 2024-07-06 01:25:25 after 35 attacks.\n"
     ]
    },
    {
     "name": "stdout",
     "output_type": "stream",
     "text": [
      "\n",
      "\n",
      "=============================================================================================================================\n",
      "=============================================================================================================================\n",
      "\n"
     ]
    },
    {
     "name": "stderr",
     "output_type": "stream",
     "text": [
      "[Succeeded / Failed / Skipped / Total] 24 / 5 / 11 / 40:   8%|█▉                      | 40/500 [00:43<08:17,  1.08s/it]textattack: Saving checkpoint under \"checkpoints\\1720200328262.ta.chkpt\" at 2024-07-06 01:25:28 after 40 attacks.\n"
     ]
    },
    {
     "name": "stdout",
     "output_type": "stream",
     "text": [
      "\n",
      "\n",
      "=============================================================================================================================\n",
      "=============================================================================================================================\n",
      "\n"
     ]
    },
    {
     "name": "stderr",
     "output_type": "stream",
     "text": [
      "[Succeeded / Failed / Skipped / Total] 29 / 5 / 11 / 45:   9%|██▏                     | 45/500 [00:51<08:37,  1.14s/it]textattack: Saving checkpoint under \"checkpoints\\1720200336153.ta.chkpt\" at 2024-07-06 01:25:36 after 45 attacks.\n"
     ]
    },
    {
     "name": "stdout",
     "output_type": "stream",
     "text": [
      "\n",
      "\n",
      "=============================================================================================================================\n",
      "=============================================================================================================================\n",
      "\n"
     ]
    },
    {
     "name": "stderr",
     "output_type": "stream",
     "text": [
      "[Succeeded / Failed / Skipped / Total] 34 / 5 / 11 / 50:  10%|██▍                     | 50/500 [00:59<08:58,  1.20s/it]textattack: Saving checkpoint under \"checkpoints\\1720200344841.ta.chkpt\" at 2024-07-06 01:25:44 after 50 attacks.\n"
     ]
    },
    {
     "name": "stdout",
     "output_type": "stream",
     "text": [
      "\n",
      "\n",
      "=============================================================================================================================\n",
      "=============================================================================================================================\n",
      "\n"
     ]
    },
    {
     "name": "stderr",
     "output_type": "stream",
     "text": [
      "[Succeeded / Failed / Skipped / Total] 39 / 5 / 11 / 55:  11%|██▋                     | 55/500 [01:08<09:12,  1.24s/it]textattack: Saving checkpoint under \"checkpoints\\1720200353260.ta.chkpt\" at 2024-07-06 01:25:53 after 55 attacks.\n"
     ]
    },
    {
     "name": "stdout",
     "output_type": "stream",
     "text": [
      "\n",
      "\n",
      "=============================================================================================================================\n",
      "=============================================================================================================================\n",
      "\n"
     ]
    },
    {
     "name": "stderr",
     "output_type": "stream",
     "text": [
      "[Succeeded / Failed / Skipped / Total] 42 / 5 / 13 / 60:  12%|██▉                     | 60/500 [01:11<08:42,  1.19s/it]textattack: Saving checkpoint under \"checkpoints\\1720200356261.ta.chkpt\" at 2024-07-06 01:25:56 after 60 attacks.\n",
      "[Succeeded / Failed / Skipped / Total] 42 / 5 / 15 / 62:  12%|██▉                     | 62/500 [01:11<08:24,  1.15s/it]"
     ]
    },
    {
     "name": "stdout",
     "output_type": "stream",
     "text": [
      "\n",
      "\n",
      "=============================================================================================================================\n",
      "=============================================================================================================================\n",
      "\n"
     ]
    },
    {
     "name": "stderr",
     "output_type": "stream",
     "text": [
      "[Succeeded / Failed / Skipped / Total] 45 / 5 / 15 / 65:  13%|███                     | 65/500 [01:13<08:12,  1.13s/it]textattack: Saving checkpoint under \"checkpoints\\1720200358636.ta.chkpt\" at 2024-07-06 01:25:58 after 65 attacks.\n"
     ]
    },
    {
     "name": "stdout",
     "output_type": "stream",
     "text": [
      "\n",
      "\n",
      "=============================================================================================================================\n",
      "=============================================================================================================================\n",
      "\n"
     ]
    },
    {
     "name": "stderr",
     "output_type": "stream",
     "text": [
      "[Succeeded / Failed / Skipped / Total] 47 / 7 / 16 / 70:  14%|███▎                    | 70/500 [01:18<08:03,  1.12s/it]textattack: Saving checkpoint under \"checkpoints\\1720200363683.ta.chkpt\" at 2024-07-06 01:26:03 after 70 attacks.\n"
     ]
    },
    {
     "name": "stdout",
     "output_type": "stream",
     "text": [
      "\n",
      "\n",
      "=============================================================================================================================\n",
      "=============================================================================================================================\n",
      "\n"
     ]
    },
    {
     "name": "stderr",
     "output_type": "stream",
     "text": [
      "[Succeeded / Failed / Skipped / Total] 51 / 7 / 17 / 75:  15%|███▌                    | 75/500 [01:21<07:40,  1.08s/it]textattack: Saving checkpoint under \"checkpoints\\1720200366199.ta.chkpt\" at 2024-07-06 01:26:06 after 75 attacks.\n"
     ]
    },
    {
     "name": "stdout",
     "output_type": "stream",
     "text": [
      "\n",
      "\n",
      "=============================================================================================================================\n",
      "=============================================================================================================================\n",
      "\n"
     ]
    },
    {
     "name": "stderr",
     "output_type": "stream",
     "text": [
      "[Succeeded / Failed / Skipped / Total] 55 / 8 / 17 / 80:  16%|███▊                    | 80/500 [01:27<07:37,  1.09s/it]textattack: Saving checkpoint under \"checkpoints\\1720200372122.ta.chkpt\" at 2024-07-06 01:26:12 after 80 attacks.\n",
      "[Succeeded / Failed / Skipped / Total] 55 / 8 / 19 / 82:  16%|███▉                    | 82/500 [01:27<07:24,  1.06s/it]"
     ]
    },
    {
     "name": "stdout",
     "output_type": "stream",
     "text": [
      "\n",
      "\n",
      "=============================================================================================================================\n",
      "=============================================================================================================================\n",
      "\n"
     ]
    },
    {
     "name": "stderr",
     "output_type": "stream",
     "text": [
      "[Succeeded / Failed / Skipped / Total] 57 / 8 / 20 / 85:  17%|████                    | 85/500 [01:28<07:13,  1.05s/it]textattack: Saving checkpoint under \"checkpoints\\1720200373856.ta.chkpt\" at 2024-07-06 01:26:13 after 85 attacks.\n"
     ]
    },
    {
     "name": "stdout",
     "output_type": "stream",
     "text": [
      "\n",
      "\n",
      "=============================================================================================================================\n",
      "=============================================================================================================================\n",
      "\n"
     ]
    },
    {
     "name": "stderr",
     "output_type": "stream",
     "text": [
      "[Succeeded / Failed / Skipped / Total] 62 / 8 / 20 / 90:  18%|████▎                   | 90/500 [01:33<07:06,  1.04s/it]textattack: Saving checkpoint under \"checkpoints\\1720200378513.ta.chkpt\" at 2024-07-06 01:26:18 after 90 attacks.\n"
     ]
    },
    {
     "name": "stdout",
     "output_type": "stream",
     "text": [
      "\n",
      "\n",
      "=============================================================================================================================\n",
      "=============================================================================================================================\n",
      "\n"
     ]
    },
    {
     "name": "stderr",
     "output_type": "stream",
     "text": [
      "[Succeeded / Failed / Skipped / Total] 65 / 8 / 22 / 95:  19%|████▌                   | 95/500 [01:38<07:00,  1.04s/it]textattack: Saving checkpoint under \"checkpoints\\1720200383513.ta.chkpt\" at 2024-07-06 01:26:23 after 95 attacks.\n"
     ]
    },
    {
     "name": "stdout",
     "output_type": "stream",
     "text": [
      "\n",
      "\n",
      "=============================================================================================================================\n",
      "=============================================================================================================================\n",
      "\n"
     ]
    },
    {
     "name": "stderr",
     "output_type": "stream",
     "text": [
      "[Succeeded / Failed / Skipped / Total] 69 / 9 / 22 / 100:  20%|████▍                 | 100/500 [01:43<06:53,  1.03s/it]textattack: Saving checkpoint under \"checkpoints\\1720200388419.ta.chkpt\" at 2024-07-06 01:26:28 after 100 attacks.\n"
     ]
    },
    {
     "name": "stdout",
     "output_type": "stream",
     "text": [
      "\n",
      "\n",
      "=============================================================================================================================\n",
      "=============================================================================================================================\n",
      "\n"
     ]
    },
    {
     "name": "stderr",
     "output_type": "stream",
     "text": [
      "[Succeeded / Failed / Skipped / Total] 73 / 9 / 23 / 105:  21%|████▌                 | 105/500 [01:51<06:58,  1.06s/it]textattack: Saving checkpoint under \"checkpoints\\1720200396325.ta.chkpt\" at 2024-07-06 01:26:36 after 105 attacks.\n",
      "[Succeeded / Failed / Skipped / Total] 73 / 9 / 24 / 106:  21%|████▋                 | 106/500 [01:51<06:54,  1.05s/it]"
     ]
    },
    {
     "name": "stdout",
     "output_type": "stream",
     "text": [
      "\n",
      "\n",
      "=============================================================================================================================\n",
      "=============================================================================================================================\n",
      "\n"
     ]
    },
    {
     "name": "stderr",
     "output_type": "stream",
     "text": [
      "[Succeeded / Failed / Skipped / Total] 75 / 9 / 26 / 110:  22%|████▊                 | 110/500 [01:52<06:39,  1.02s/it]textattack: Saving checkpoint under \"checkpoints\\1720200397590.ta.chkpt\" at 2024-07-06 01:26:37 after 110 attacks.\n",
      "[Succeeded / Failed / Skipped / Total] 75 / 9 / 27 / 111:  22%|████▉                 | 111/500 [01:52<06:34,  1.02s/it]"
     ]
    },
    {
     "name": "stdout",
     "output_type": "stream",
     "text": [
      "\n",
      "\n",
      "=============================================================================================================================\n",
      "=============================================================================================================================\n",
      "\n"
     ]
    },
    {
     "name": "stderr",
     "output_type": "stream",
     "text": [
      "[Succeeded / Failed / Skipped / Total] 78 / 9 / 28 / 115:  23%|█████                 | 115/500 [01:57<06:32,  1.02s/it]textattack: Saving checkpoint under \"checkpoints\\1720200402336.ta.chkpt\" at 2024-07-06 01:26:42 after 115 attacks.\n"
     ]
    },
    {
     "name": "stdout",
     "output_type": "stream",
     "text": [
      "\n",
      "\n",
      "=============================================================================================================================\n",
      "=============================================================================================================================\n",
      "\n"
     ]
    },
    {
     "name": "stderr",
     "output_type": "stream",
     "text": [
      "[Succeeded / Failed / Skipped / Total] 80 / 10 / 30 / 120:  24%|█████                | 120/500 [01:59<06:18,  1.00it/s]textattack: Saving checkpoint under \"checkpoints\\1720200404607.ta.chkpt\" at 2024-07-06 01:26:44 after 120 attacks.\n"
     ]
    },
    {
     "name": "stdout",
     "output_type": "stream",
     "text": [
      "\n",
      "\n",
      "=============================================================================================================================\n",
      "=============================================================================================================================\n",
      "\n"
     ]
    },
    {
     "name": "stderr",
     "output_type": "stream",
     "text": [
      "[Succeeded / Failed / Skipped / Total] 85 / 10 / 30 / 125:  25%|█████▎               | 125/500 [02:03<06:11,  1.01it/s]textattack: Saving checkpoint under \"checkpoints\\1720200408888.ta.chkpt\" at 2024-07-06 01:26:48 after 125 attacks.\n"
     ]
    },
    {
     "name": "stdout",
     "output_type": "stream",
     "text": [
      "\n",
      "\n",
      "=============================================================================================================================\n",
      "=============================================================================================================================\n",
      "\n"
     ]
    },
    {
     "name": "stderr",
     "output_type": "stream",
     "text": [
      "[Succeeded / Failed / Skipped / Total] 88 / 10 / 32 / 130:  26%|█████▍               | 130/500 [02:06<05:59,  1.03it/s]textattack: Saving checkpoint under \"checkpoints\\1720200411248.ta.chkpt\" at 2024-07-06 01:26:51 after 130 attacks.\n",
      "[Succeeded / Failed / Skipped / Total] 88 / 10 / 33 / 131:  26%|█████▌               | 131/500 [02:06<05:55,  1.04it/s]"
     ]
    },
    {
     "name": "stdout",
     "output_type": "stream",
     "text": [
      "\n",
      "\n",
      "=============================================================================================================================\n",
      "=============================================================================================================================\n",
      "\n"
     ]
    },
    {
     "name": "stderr",
     "output_type": "stream",
     "text": [
      "[Succeeded / Failed / Skipped / Total] 91 / 10 / 34 / 135:  27%|█████▋               | 135/500 [02:11<05:55,  1.03it/s]textattack: Saving checkpoint under \"checkpoints\\1720200416581.ta.chkpt\" at 2024-07-06 01:26:56 after 135 attacks.\n"
     ]
    },
    {
     "name": "stdout",
     "output_type": "stream",
     "text": [
      "\n",
      "\n",
      "=============================================================================================================================\n",
      "=============================================================================================================================\n",
      "\n"
     ]
    },
    {
     "name": "stderr",
     "output_type": "stream",
     "text": [
      "[Succeeded / Failed / Skipped / Total] 95 / 10 / 35 / 140:  28%|█████▉               | 140/500 [02:17<05:52,  1.02it/s]textattack: Saving checkpoint under \"checkpoints\\1720200422097.ta.chkpt\" at 2024-07-06 01:27:02 after 140 attacks.\n"
     ]
    },
    {
     "name": "stdout",
     "output_type": "stream",
     "text": [
      "\n",
      "\n",
      "=============================================================================================================================\n",
      "=============================================================================================================================\n",
      "\n"
     ]
    },
    {
     "name": "stderr",
     "output_type": "stream",
     "text": [
      "[Succeeded / Failed / Skipped / Total] 100 / 10 / 35 / 145:  29%|█████▊              | 145/500 [02:22<05:49,  1.02it/s]textattack: Saving checkpoint under \"checkpoints\\1720200427582.ta.chkpt\" at 2024-07-06 01:27:07 after 145 attacks.\n",
      "[Succeeded / Failed / Skipped / Total] 100 / 10 / 38 / 148:  30%|█████▉              | 148/500 [02:22<05:39,  1.04it/s]"
     ]
    },
    {
     "name": "stdout",
     "output_type": "stream",
     "text": [
      "\n",
      "\n",
      "=============================================================================================================================\n",
      "=============================================================================================================================\n",
      "\n"
     ]
    },
    {
     "name": "stderr",
     "output_type": "stream",
     "text": [
      "[Succeeded / Failed / Skipped / Total] 102 / 10 / 38 / 150:  30%|██████              | 150/500 [02:23<05:35,  1.04it/s]textattack: Saving checkpoint under \"checkpoints\\1720200428816.ta.chkpt\" at 2024-07-06 01:27:08 after 150 attacks.\n"
     ]
    },
    {
     "name": "stdout",
     "output_type": "stream",
     "text": [
      "\n",
      "\n",
      "=============================================================================================================================\n",
      "=============================================================================================================================\n",
      "\n"
     ]
    },
    {
     "name": "stderr",
     "output_type": "stream",
     "text": [
      "[Succeeded / Failed / Skipped / Total] 106 / 10 / 39 / 155:  31%|██████▏             | 155/500 [02:26<05:26,  1.06it/s]textattack: Saving checkpoint under \"checkpoints\\1720200431613.ta.chkpt\" at 2024-07-06 01:27:11 after 155 attacks.\n"
     ]
    },
    {
     "name": "stdout",
     "output_type": "stream",
     "text": [
      "\n",
      "\n",
      "=============================================================================================================================\n",
      "=============================================================================================================================\n",
      "\n"
     ]
    },
    {
     "name": "stderr",
     "output_type": "stream",
     "text": [
      "[Succeeded / Failed / Skipped / Total] 110 / 10 / 40 / 160:  32%|██████▍             | 160/500 [02:32<05:23,  1.05it/s]textattack: Saving checkpoint under \"checkpoints\\1720200437192.ta.chkpt\" at 2024-07-06 01:27:17 after 160 attacks.\n",
      "[Succeeded / Failed / Skipped / Total] 110 / 10 / 41 / 161:  32%|██████▍             | 161/500 [02:32<05:20,  1.06it/s]"
     ]
    },
    {
     "name": "stdout",
     "output_type": "stream",
     "text": [
      "\n",
      "\n",
      "=============================================================================================================================\n",
      "=============================================================================================================================\n",
      "\n"
     ]
    },
    {
     "name": "stderr",
     "output_type": "stream",
     "text": [
      "[Succeeded / Failed / Skipped / Total] 113 / 10 / 42 / 165:  33%|██████▌             | 165/500 [02:36<05:17,  1.06it/s]textattack: Saving checkpoint under \"checkpoints\\1720200441208.ta.chkpt\" at 2024-07-06 01:27:21 after 165 attacks.\n"
     ]
    },
    {
     "name": "stdout",
     "output_type": "stream",
     "text": [
      "\n",
      "\n",
      "=============================================================================================================================\n",
      "=============================================================================================================================\n",
      "\n"
     ]
    },
    {
     "name": "stderr",
     "output_type": "stream",
     "text": [
      "[Succeeded / Failed / Skipped / Total] 117 / 10 / 43 / 170:  34%|██████▊             | 170/500 [02:40<05:11,  1.06it/s]textattack: Saving checkpoint under \"checkpoints\\1720200445240.ta.chkpt\" at 2024-07-06 01:27:25 after 170 attacks.\n"
     ]
    },
    {
     "name": "stdout",
     "output_type": "stream",
     "text": [
      "\n",
      "\n",
      "=============================================================================================================================\n",
      "=============================================================================================================================\n",
      "\n"
     ]
    },
    {
     "name": "stderr",
     "output_type": "stream",
     "text": [
      "[Succeeded / Failed / Skipped / Total] 120 / 11 / 44 / 175:  35%|███████             | 175/500 [02:49<05:14,  1.03it/s]textattack: Saving checkpoint under \"checkpoints\\1720200454523.ta.chkpt\" at 2024-07-06 01:27:34 after 175 attacks.\n"
     ]
    },
    {
     "name": "stdout",
     "output_type": "stream",
     "text": [
      "\n",
      "\n",
      "=============================================================================================================================\n",
      "=============================================================================================================================\n",
      "\n"
     ]
    },
    {
     "name": "stderr",
     "output_type": "stream",
     "text": [
      "[Succeeded / Failed / Skipped / Total] 124 / 11 / 45 / 180:  36%|███████▏            | 180/500 [02:52<05:06,  1.04it/s]textattack: Saving checkpoint under \"checkpoints\\1720200457632.ta.chkpt\" at 2024-07-06 01:27:37 after 180 attacks.\n"
     ]
    },
    {
     "name": "stdout",
     "output_type": "stream",
     "text": [
      "\n",
      "\n",
      "=============================================================================================================================\n",
      "=============================================================================================================================\n",
      "\n"
     ]
    },
    {
     "name": "stderr",
     "output_type": "stream",
     "text": [
      "[Succeeded / Failed / Skipped / Total] 128 / 11 / 46 / 185:  37%|███████▍            | 185/500 [02:55<04:58,  1.06it/s]textattack: Saving checkpoint under \"checkpoints\\1720200460117.ta.chkpt\" at 2024-07-06 01:27:40 after 185 attacks.\n"
     ]
    },
    {
     "name": "stdout",
     "output_type": "stream",
     "text": [
      "\n",
      "\n",
      "=============================================================================================================================\n",
      "=============================================================================================================================\n",
      "\n"
     ]
    },
    {
     "name": "stderr",
     "output_type": "stream",
     "text": [
      "[Succeeded / Failed / Skipped / Total] 133 / 11 / 46 / 190:  38%|███████▌            | 190/500 [03:05<05:02,  1.02it/s]textattack: Saving checkpoint under \"checkpoints\\1720200470633.ta.chkpt\" at 2024-07-06 01:27:50 after 190 attacks.\n"
     ]
    },
    {
     "name": "stdout",
     "output_type": "stream",
     "text": [
      "\n",
      "\n",
      "=============================================================================================================================\n",
      "=============================================================================================================================\n",
      "\n"
     ]
    },
    {
     "name": "stderr",
     "output_type": "stream",
     "text": [
      "[Succeeded / Failed / Skipped / Total] 135 / 12 / 48 / 195:  39%|███████▊            | 195/500 [03:11<04:59,  1.02it/s]textattack: Saving checkpoint under \"checkpoints\\1720200476158.ta.chkpt\" at 2024-07-06 01:27:56 after 195 attacks.\n"
     ]
    },
    {
     "name": "stdout",
     "output_type": "stream",
     "text": [
      "\n",
      "\n",
      "=============================================================================================================================\n",
      "=============================================================================================================================\n",
      "\n"
     ]
    },
    {
     "name": "stderr",
     "output_type": "stream",
     "text": [
      "[Succeeded / Failed / Skipped / Total] 139 / 12 / 49 / 200:  40%|████████            | 200/500 [03:19<04:58,  1.00it/s]textattack: Saving checkpoint under \"checkpoints\\1720200484128.ta.chkpt\" at 2024-07-06 01:28:04 after 200 attacks.\n"
     ]
    },
    {
     "name": "stdout",
     "output_type": "stream",
     "text": [
      "\n",
      "\n",
      "=============================================================================================================================\n",
      "=============================================================================================================================\n",
      "\n"
     ]
    },
    {
     "name": "stderr",
     "output_type": "stream",
     "text": [
      "[Succeeded / Failed / Skipped / Total] 143 / 12 / 50 / 205:  41%|████████▏           | 205/500 [03:22<04:51,  1.01it/s]textattack: Saving checkpoint under \"checkpoints\\1720200487503.ta.chkpt\" at 2024-07-06 01:28:07 after 205 attacks.\n"
     ]
    },
    {
     "name": "stdout",
     "output_type": "stream",
     "text": [
      "\n",
      "\n",
      "=============================================================================================================================\n",
      "=============================================================================================================================\n",
      "\n"
     ]
    },
    {
     "name": "stderr",
     "output_type": "stream",
     "text": [
      "[Succeeded / Failed / Skipped / Total] 146 / 12 / 52 / 210:  42%|████████▍           | 210/500 [03:24<04:42,  1.03it/s]textattack: Saving checkpoint under \"checkpoints\\1720200489425.ta.chkpt\" at 2024-07-06 01:28:09 after 210 attacks.\n"
     ]
    },
    {
     "name": "stdout",
     "output_type": "stream",
     "text": [
      "\n",
      "\n",
      "=============================================================================================================================\n",
      "=============================================================================================================================\n",
      "\n"
     ]
    },
    {
     "name": "stderr",
     "output_type": "stream",
     "text": [
      "[Succeeded / Failed / Skipped / Total] 149 / 13 / 53 / 215:  43%|████████▌           | 215/500 [03:29<04:37,  1.03it/s]textattack: Saving checkpoint under \"checkpoints\\1720200494002.ta.chkpt\" at 2024-07-06 01:28:14 after 215 attacks.\n"
     ]
    },
    {
     "name": "stdout",
     "output_type": "stream",
     "text": [
      "\n",
      "\n",
      "=============================================================================================================================\n",
      "=============================================================================================================================\n",
      "\n"
     ]
    },
    {
     "name": "stderr",
     "output_type": "stream",
     "text": [
      "[Succeeded / Failed / Skipped / Total] 152 / 15 / 53 / 220:  44%|████████▊           | 220/500 [03:32<04:29,  1.04it/s]textattack: Saving checkpoint under \"checkpoints\\1720200497054.ta.chkpt\" at 2024-07-06 01:28:17 after 220 attacks.\n"
     ]
    },
    {
     "name": "stdout",
     "output_type": "stream",
     "text": [
      "\n",
      "\n",
      "=============================================================================================================================\n",
      "=============================================================================================================================\n",
      "\n"
     ]
    },
    {
     "name": "stderr",
     "output_type": "stream",
     "text": [
      "[Succeeded / Failed / Skipped / Total] 155 / 15 / 55 / 225:  45%|█████████           | 225/500 [03:35<04:23,  1.04it/s]textattack: Saving checkpoint under \"checkpoints\\1720200500612.ta.chkpt\" at 2024-07-06 01:28:20 after 225 attacks.\n"
     ]
    },
    {
     "name": "stdout",
     "output_type": "stream",
     "text": [
      "\n",
      "\n",
      "=============================================================================================================================\n",
      "=============================================================================================================================\n",
      "\n"
     ]
    },
    {
     "name": "stderr",
     "output_type": "stream",
     "text": [
      "[Succeeded / Failed / Skipped / Total] 158 / 16 / 56 / 230:  46%|█████████▏          | 230/500 [03:39<04:17,  1.05it/s]textattack: Saving checkpoint under \"checkpoints\\1720200504018.ta.chkpt\" at 2024-07-06 01:28:24 after 230 attacks.\n"
     ]
    },
    {
     "name": "stdout",
     "output_type": "stream",
     "text": [
      "\n",
      "\n",
      "=============================================================================================================================\n",
      "=============================================================================================================================\n",
      "\n"
     ]
    },
    {
     "name": "stderr",
     "output_type": "stream",
     "text": [
      "[Succeeded / Failed / Skipped / Total] 162 / 17 / 56 / 235:  47%|█████████▍          | 235/500 [03:45<04:14,  1.04it/s]textattack: Saving checkpoint under \"checkpoints\\1720200510927.ta.chkpt\" at 2024-07-06 01:28:30 after 235 attacks.\n"
     ]
    },
    {
     "name": "stdout",
     "output_type": "stream",
     "text": [
      "\n",
      "\n",
      "=============================================================================================================================\n",
      "=============================================================================================================================\n",
      "\n"
     ]
    },
    {
     "name": "stderr",
     "output_type": "stream",
     "text": [
      "[Succeeded / Failed / Skipped / Total] 166 / 18 / 56 / 240:  48%|█████████▌          | 240/500 [03:50<04:09,  1.04it/s]textattack: Saving checkpoint under \"checkpoints\\1720200515240.ta.chkpt\" at 2024-07-06 01:28:35 after 240 attacks.\n"
     ]
    },
    {
     "name": "stdout",
     "output_type": "stream",
     "text": [
      "\n",
      "\n",
      "=============================================================================================================================\n",
      "=============================================================================================================================\n",
      "\n"
     ]
    },
    {
     "name": "stderr",
     "output_type": "stream",
     "text": [
      "[Succeeded / Failed / Skipped / Total] 170 / 19 / 56 / 245:  49%|█████████▊          | 245/500 [03:57<04:06,  1.03it/s]textattack: Saving checkpoint under \"checkpoints\\1720200521990.ta.chkpt\" at 2024-07-06 01:28:41 after 245 attacks.\n"
     ]
    },
    {
     "name": "stdout",
     "output_type": "stream",
     "text": [
      "\n",
      "\n",
      "=============================================================================================================================\n",
      "=============================================================================================================================\n",
      "\n"
     ]
    },
    {
     "name": "stderr",
     "output_type": "stream",
     "text": [
      "[Succeeded / Failed / Skipped / Total] 173 / 19 / 58 / 250:  50%|██████████          | 250/500 [03:58<03:58,  1.05it/s]textattack: Saving checkpoint under \"checkpoints\\1720200523912.ta.chkpt\" at 2024-07-06 01:28:43 after 250 attacks.\n"
     ]
    },
    {
     "name": "stdout",
     "output_type": "stream",
     "text": [
      "\n",
      "\n",
      "=============================================================================================================================\n",
      "=============================================================================================================================\n",
      "\n"
     ]
    },
    {
     "name": "stderr",
     "output_type": "stream",
     "text": [
      "[Succeeded / Failed / Skipped / Total] 177 / 19 / 59 / 255:  51%|██████████▏         | 255/500 [04:02<03:52,  1.05it/s]textattack: Saving checkpoint under \"checkpoints\\1720200527440.ta.chkpt\" at 2024-07-06 01:28:47 after 255 attacks.\n"
     ]
    },
    {
     "name": "stdout",
     "output_type": "stream",
     "text": [
      "\n",
      "\n",
      "=============================================================================================================================\n",
      "=============================================================================================================================\n",
      "\n"
     ]
    },
    {
     "name": "stderr",
     "output_type": "stream",
     "text": [
      "[Succeeded / Failed / Skipped / Total] 180 / 19 / 61 / 260:  52%|██████████▍         | 260/500 [04:06<03:47,  1.06it/s]textattack: Saving checkpoint under \"checkpoints\\1720200531346.ta.chkpt\" at 2024-07-06 01:28:51 after 260 attacks.\n"
     ]
    },
    {
     "name": "stdout",
     "output_type": "stream",
     "text": [
      "\n",
      "\n",
      "=============================================================================================================================\n",
      "=============================================================================================================================\n",
      "\n"
     ]
    },
    {
     "name": "stderr",
     "output_type": "stream",
     "text": [
      "[Succeeded / Failed / Skipped / Total] 185 / 19 / 61 / 265:  53%|██████████▌         | 265/500 [04:12<03:43,  1.05it/s]textattack: Saving checkpoint under \"checkpoints\\1720200537505.ta.chkpt\" at 2024-07-06 01:28:57 after 265 attacks.\n"
     ]
    },
    {
     "name": "stdout",
     "output_type": "stream",
     "text": [
      "\n",
      "\n",
      "=============================================================================================================================\n",
      "=============================================================================================================================\n",
      "\n"
     ]
    },
    {
     "name": "stderr",
     "output_type": "stream",
     "text": [
      "[Succeeded / Failed / Skipped / Total] 188 / 20 / 62 / 270:  54%|██████████▊         | 270/500 [04:21<03:42,  1.03it/s]textattack: Saving checkpoint under \"checkpoints\\1720200546507.ta.chkpt\" at 2024-07-06 01:29:06 after 270 attacks.\n",
      "[Succeeded / Failed / Skipped / Total] 188 / 20 / 63 / 271:  54%|██████████▊         | 271/500 [04:21<03:41,  1.04it/s]"
     ]
    },
    {
     "name": "stdout",
     "output_type": "stream",
     "text": [
      "\n",
      "\n",
      "=============================================================================================================================\n",
      "=============================================================================================================================\n",
      "\n"
     ]
    },
    {
     "name": "stderr",
     "output_type": "stream",
     "text": [
      "[Succeeded / Failed / Skipped / Total] 191 / 20 / 64 / 275:  55%|███████████         | 275/500 [04:23<03:35,  1.04it/s]textattack: Saving checkpoint under \"checkpoints\\1720200548476.ta.chkpt\" at 2024-07-06 01:29:08 after 275 attacks.\n",
      "[Succeeded / Failed / Skipped / Total] 191 / 20 / 66 / 277:  55%|███████████         | 277/500 [04:23<03:32,  1.05it/s]"
     ]
    },
    {
     "name": "stdout",
     "output_type": "stream",
     "text": [
      "\n",
      "\n",
      "=============================================================================================================================\n",
      "=============================================================================================================================\n",
      "\n"
     ]
    },
    {
     "name": "stderr",
     "output_type": "stream",
     "text": [
      "[Succeeded / Failed / Skipped / Total] 194 / 20 / 66 / 280:  56%|███████████▏        | 280/500 [04:27<03:29,  1.05it/s]textattack: Saving checkpoint under \"checkpoints\\1720200552023.ta.chkpt\" at 2024-07-06 01:29:12 after 280 attacks.\n"
     ]
    },
    {
     "name": "stdout",
     "output_type": "stream",
     "text": [
      "\n",
      "\n",
      "=============================================================================================================================\n",
      "=============================================================================================================================\n",
      "\n"
     ]
    },
    {
     "name": "stderr",
     "output_type": "stream",
     "text": [
      "[Succeeded / Failed / Skipped / Total] 198 / 21 / 66 / 285:  57%|███████████▍        | 285/500 [04:33<03:26,  1.04it/s]textattack: Saving checkpoint under \"checkpoints\\1720200558096.ta.chkpt\" at 2024-07-06 01:29:18 after 285 attacks.\n"
     ]
    },
    {
     "name": "stdout",
     "output_type": "stream",
     "text": [
      "\n",
      "\n",
      "=============================================================================================================================\n",
      "=============================================================================================================================\n",
      "\n"
     ]
    },
    {
     "name": "stderr",
     "output_type": "stream",
     "text": [
      "[Succeeded / Failed / Skipped / Total] 202 / 21 / 67 / 290:  58%|███████████▌        | 290/500 [04:37<03:20,  1.05it/s]textattack: Saving checkpoint under \"checkpoints\\1720200562190.ta.chkpt\" at 2024-07-06 01:29:22 after 290 attacks.\n"
     ]
    },
    {
     "name": "stdout",
     "output_type": "stream",
     "text": [
      "\n",
      "\n",
      "=============================================================================================================================\n",
      "=============================================================================================================================\n",
      "\n"
     ]
    },
    {
     "name": "stderr",
     "output_type": "stream",
     "text": [
      "[Succeeded / Failed / Skipped / Total] 206 / 21 / 68 / 295:  59%|███████████▊        | 295/500 [04:43<03:16,  1.04it/s]textattack: Saving checkpoint under \"checkpoints\\1720200568237.ta.chkpt\" at 2024-07-06 01:29:28 after 295 attacks.\n"
     ]
    },
    {
     "name": "stdout",
     "output_type": "stream",
     "text": [
      "\n",
      "\n",
      "=============================================================================================================================\n",
      "=============================================================================================================================\n",
      "\n"
     ]
    },
    {
     "name": "stderr",
     "output_type": "stream",
     "text": [
      "[Succeeded / Failed / Skipped / Total] 211 / 21 / 68 / 300:  60%|████████████        | 300/500 [04:48<03:12,  1.04it/s]textattack: Saving checkpoint under \"checkpoints\\1720200573644.ta.chkpt\" at 2024-07-06 01:29:33 after 300 attacks.\n"
     ]
    },
    {
     "name": "stdout",
     "output_type": "stream",
     "text": [
      "\n",
      "\n",
      "=============================================================================================================================\n",
      "=============================================================================================================================\n",
      "\n"
     ]
    },
    {
     "name": "stderr",
     "output_type": "stream",
     "text": [
      "[Succeeded / Failed / Skipped / Total] 216 / 21 / 68 / 305:  61%|████████████▏       | 305/500 [04:52<03:07,  1.04it/s]textattack: Saving checkpoint under \"checkpoints\\1720200577832.ta.chkpt\" at 2024-07-06 01:29:37 after 305 attacks.\n"
     ]
    },
    {
     "name": "stdout",
     "output_type": "stream",
     "text": [
      "\n",
      "\n",
      "=============================================================================================================================\n",
      "=============================================================================================================================\n",
      "\n"
     ]
    },
    {
     "name": "stderr",
     "output_type": "stream",
     "text": [
      "[Succeeded / Failed / Skipped / Total] 218 / 23 / 69 / 310:  62%|████████████▍       | 310/500 [04:55<03:01,  1.05it/s]textattack: Saving checkpoint under \"checkpoints\\1720200580800.ta.chkpt\" at 2024-07-06 01:29:40 after 310 attacks.\n"
     ]
    },
    {
     "name": "stdout",
     "output_type": "stream",
     "text": [
      "\n",
      "\n",
      "=============================================================================================================================\n",
      "=============================================================================================================================\n",
      "\n"
     ]
    },
    {
     "name": "stderr",
     "output_type": "stream",
     "text": [
      "[Succeeded / Failed / Skipped / Total] 221 / 23 / 71 / 315:  63%|████████████▌       | 315/500 [04:59<02:55,  1.05it/s]textattack: Saving checkpoint under \"checkpoints\\1720200584426.ta.chkpt\" at 2024-07-06 01:29:44 after 315 attacks.\n"
     ]
    },
    {
     "name": "stdout",
     "output_type": "stream",
     "text": [
      "\n",
      "\n",
      "=============================================================================================================================\n",
      "=============================================================================================================================\n",
      "\n"
     ]
    },
    {
     "name": "stderr",
     "output_type": "stream",
     "text": [
      "[Succeeded / Failed / Skipped / Total] 224 / 23 / 73 / 320:  64%|████████████▊       | 320/500 [05:06<02:52,  1.05it/s]textattack: Saving checkpoint under \"checkpoints\\1720200591161.ta.chkpt\" at 2024-07-06 01:29:51 after 320 attacks.\n"
     ]
    },
    {
     "name": "stdout",
     "output_type": "stream",
     "text": [
      "\n",
      "\n",
      "=============================================================================================================================\n",
      "=============================================================================================================================\n",
      "\n"
     ]
    },
    {
     "name": "stderr",
     "output_type": "stream",
     "text": [
      "[Succeeded / Failed / Skipped / Total] 229 / 23 / 73 / 325:  65%|█████████████       | 325/500 [05:12<02:48,  1.04it/s]textattack: Saving checkpoint under \"checkpoints\\1720200597506.ta.chkpt\" at 2024-07-06 01:29:57 after 325 attacks.\n"
     ]
    },
    {
     "name": "stdout",
     "output_type": "stream",
     "text": [
      "\n",
      "\n",
      "=============================================================================================================================\n",
      "=============================================================================================================================\n",
      "\n"
     ]
    },
    {
     "name": "stderr",
     "output_type": "stream",
     "text": [
      "[Succeeded / Failed / Skipped / Total] 234 / 23 / 73 / 330:  66%|█████████████▏      | 330/500 [05:16<02:43,  1.04it/s]textattack: Saving checkpoint under \"checkpoints\\1720200601709.ta.chkpt\" at 2024-07-06 01:30:01 after 330 attacks.\n"
     ]
    },
    {
     "name": "stdout",
     "output_type": "stream",
     "text": [
      "\n",
      "\n",
      "=============================================================================================================================\n",
      "=============================================================================================================================\n",
      "\n"
     ]
    },
    {
     "name": "stderr",
     "output_type": "stream",
     "text": [
      "[Succeeded / Failed / Skipped / Total] 237 / 24 / 74 / 335:  67%|█████████████▍      | 335/500 [05:26<02:40,  1.02it/s]textattack: Saving checkpoint under \"checkpoints\\1720200611851.ta.chkpt\" at 2024-07-06 01:30:11 after 335 attacks.\n",
      "[Succeeded / Failed / Skipped / Total] 237 / 24 / 75 / 336:  67%|█████████████▍      | 336/500 [05:27<02:39,  1.03it/s]"
     ]
    },
    {
     "name": "stdout",
     "output_type": "stream",
     "text": [
      "\n",
      "\n",
      "=============================================================================================================================\n",
      "=============================================================================================================================\n",
      "\n"
     ]
    },
    {
     "name": "stderr",
     "output_type": "stream",
     "text": [
      "[Succeeded / Failed / Skipped / Total] 239 / 25 / 76 / 340:  68%|█████████████▌      | 340/500 [05:30<02:35,  1.03it/s]textattack: Saving checkpoint under \"checkpoints\\1720200615053.ta.chkpt\" at 2024-07-06 01:30:15 after 340 attacks.\n"
     ]
    },
    {
     "name": "stdout",
     "output_type": "stream",
     "text": [
      "\n",
      "\n",
      "=============================================================================================================================\n",
      "=============================================================================================================================\n",
      "\n"
     ]
    },
    {
     "name": "stderr",
     "output_type": "stream",
     "text": [
      "[Succeeded / Failed / Skipped / Total] 241 / 26 / 78 / 345:  69%|█████████████▊      | 345/500 [05:35<02:30,  1.03it/s]textattack: Saving checkpoint under \"checkpoints\\1720200620661.ta.chkpt\" at 2024-07-06 01:30:20 after 345 attacks.\n"
     ]
    },
    {
     "name": "stdout",
     "output_type": "stream",
     "text": [
      "\n",
      "\n",
      "=============================================================================================================================\n",
      "=============================================================================================================================\n",
      "\n"
     ]
    },
    {
     "name": "stderr",
     "output_type": "stream",
     "text": [
      "[Succeeded / Failed / Skipped / Total] 245 / 27 / 78 / 350:  70%|██████████████      | 350/500 [05:44<02:27,  1.01it/s]textattack: Saving checkpoint under \"checkpoints\\1720200629927.ta.chkpt\" at 2024-07-06 01:30:29 after 350 attacks.\n"
     ]
    },
    {
     "name": "stdout",
     "output_type": "stream",
     "text": [
      "\n",
      "\n",
      "=============================================================================================================================\n",
      "=============================================================================================================================\n",
      "\n"
     ]
    },
    {
     "name": "stderr",
     "output_type": "stream",
     "text": [
      "[Succeeded / Failed / Skipped / Total] 249 / 28 / 78 / 355:  71%|██████████████▏     | 355/500 [05:54<02:24,  1.00it/s]textattack: Saving checkpoint under \"checkpoints\\1720200639445.ta.chkpt\" at 2024-07-06 01:30:39 after 355 attacks.\n"
     ]
    },
    {
     "name": "stdout",
     "output_type": "stream",
     "text": [
      "\n",
      "\n",
      "=============================================================================================================================\n",
      "=============================================================================================================================\n",
      "\n"
     ]
    },
    {
     "name": "stderr",
     "output_type": "stream",
     "text": [
      "[Succeeded / Failed / Skipped / Total] 253 / 28 / 79 / 360:  72%|██████████████▍     | 360/500 [06:00<02:20,  1.00s/it]textattack: Saving checkpoint under \"checkpoints\\1720200645164.ta.chkpt\" at 2024-07-06 01:30:45 after 360 attacks.\n"
     ]
    },
    {
     "name": "stdout",
     "output_type": "stream",
     "text": [
      "\n",
      "\n",
      "=============================================================================================================================\n",
      "=============================================================================================================================\n",
      "\n"
     ]
    },
    {
     "name": "stderr",
     "output_type": "stream",
     "text": [
      "[Succeeded / Failed / Skipped / Total] 258 / 28 / 79 / 365:  73%|██████████████▌     | 365/500 [06:04<02:14,  1.00it/s]textattack: Saving checkpoint under \"checkpoints\\1720200649757.ta.chkpt\" at 2024-07-06 01:30:49 after 365 attacks.\n",
      "[Succeeded / Failed / Skipped / Total] 258 / 28 / 80 / 366:  73%|██████████████▋     | 366/500 [06:04<02:13,  1.00it/s]"
     ]
    },
    {
     "name": "stdout",
     "output_type": "stream",
     "text": [
      "\n",
      "\n",
      "=============================================================================================================================\n",
      "=============================================================================================================================\n",
      "\n"
     ]
    },
    {
     "name": "stderr",
     "output_type": "stream",
     "text": [
      "[Succeeded / Failed / Skipped / Total] 261 / 29 / 80 / 370:  74%|██████████████▊     | 370/500 [06:08<02:09,  1.00it/s]textattack: Saving checkpoint under \"checkpoints\\1720200653226.ta.chkpt\" at 2024-07-06 01:30:53 after 370 attacks.\n",
      "[Succeeded / Failed / Skipped / Total] 261 / 29 / 81 / 371:  74%|██████████████▊     | 371/500 [06:08<02:08,  1.01it/s]"
     ]
    },
    {
     "name": "stdout",
     "output_type": "stream",
     "text": [
      "\n",
      "\n",
      "=============================================================================================================================\n",
      "=============================================================================================================================\n",
      "\n"
     ]
    },
    {
     "name": "stderr",
     "output_type": "stream",
     "text": [
      "[Succeeded / Failed / Skipped / Total] 265 / 29 / 81 / 375:  75%|███████████████     | 375/500 [06:14<02:04,  1.00it/s]textattack: Saving checkpoint under \"checkpoints\\1720200659398.ta.chkpt\" at 2024-07-06 01:30:59 after 375 attacks.\n"
     ]
    },
    {
     "name": "stdout",
     "output_type": "stream",
     "text": [
      "\n",
      "\n",
      "=============================================================================================================================\n",
      "=============================================================================================================================\n",
      "\n"
     ]
    },
    {
     "name": "stderr",
     "output_type": "stream",
     "text": [
      "[Succeeded / Failed / Skipped / Total] 269 / 29 / 82 / 380:  76%|███████████████▏    | 380/500 [06:16<01:58,  1.01it/s]textattack: Saving checkpoint under \"checkpoints\\1720200661524.ta.chkpt\" at 2024-07-06 01:31:01 after 380 attacks.\n"
     ]
    },
    {
     "name": "stdout",
     "output_type": "stream",
     "text": [
      "\n",
      "\n",
      "=============================================================================================================================\n",
      "=============================================================================================================================\n",
      "\n"
     ]
    },
    {
     "name": "stderr",
     "output_type": "stream",
     "text": [
      "[Succeeded / Failed / Skipped / Total] 274 / 29 / 82 / 385:  77%|███████████████▍    | 385/500 [06:21<01:54,  1.01it/s]textattack: Saving checkpoint under \"checkpoints\\1720200666885.ta.chkpt\" at 2024-07-06 01:31:06 after 385 attacks.\n"
     ]
    },
    {
     "name": "stdout",
     "output_type": "stream",
     "text": [
      "\n",
      "\n",
      "=============================================================================================================================\n",
      "=============================================================================================================================\n",
      "\n"
     ]
    },
    {
     "name": "stderr",
     "output_type": "stream",
     "text": [
      "[Succeeded / Failed / Skipped / Total] 278 / 29 / 83 / 390:  78%|███████████████▌    | 390/500 [06:24<01:48,  1.01it/s]textattack: Saving checkpoint under \"checkpoints\\1720200669917.ta.chkpt\" at 2024-07-06 01:31:09 after 390 attacks.\n"
     ]
    },
    {
     "name": "stdout",
     "output_type": "stream",
     "text": [
      "\n",
      "\n",
      "=============================================================================================================================\n",
      "=============================================================================================================================\n",
      "\n"
     ]
    },
    {
     "name": "stderr",
     "output_type": "stream",
     "text": [
      "[Succeeded / Failed / Skipped / Total] 281 / 30 / 84 / 395:  79%|███████████████▊    | 395/500 [06:29<01:43,  1.01it/s]textattack: Saving checkpoint under \"checkpoints\\1720200674418.ta.chkpt\" at 2024-07-06 01:31:14 after 395 attacks.\n"
     ]
    },
    {
     "name": "stdout",
     "output_type": "stream",
     "text": [
      "\n",
      "\n",
      "=============================================================================================================================\n",
      "=============================================================================================================================\n",
      "\n"
     ]
    },
    {
     "name": "stderr",
     "output_type": "stream",
     "text": [
      "[Succeeded / Failed / Skipped / Total] 286 / 30 / 84 / 400:  80%|████████████████    | 400/500 [06:36<01:39,  1.01it/s]textattack: Saving checkpoint under \"checkpoints\\1720200681327.ta.chkpt\" at 2024-07-06 01:31:21 after 400 attacks.\n"
     ]
    },
    {
     "name": "stdout",
     "output_type": "stream",
     "text": [
      "\n",
      "\n",
      "=============================================================================================================================\n",
      "=============================================================================================================================\n",
      "\n"
     ]
    },
    {
     "name": "stderr",
     "output_type": "stream",
     "text": [
      "[Succeeded / Failed / Skipped / Total] 289 / 31 / 85 / 405:  81%|████████████████▏   | 405/500 [06:42<01:34,  1.01it/s]textattack: Saving checkpoint under \"checkpoints\\1720200687234.ta.chkpt\" at 2024-07-06 01:31:27 after 405 attacks.\n"
     ]
    },
    {
     "name": "stdout",
     "output_type": "stream",
     "text": [
      "\n",
      "\n",
      "=============================================================================================================================\n",
      "=============================================================================================================================\n",
      "\n"
     ]
    },
    {
     "name": "stderr",
     "output_type": "stream",
     "text": [
      "[Succeeded / Failed / Skipped / Total] 294 / 31 / 85 / 410:  82%|████████████████▍   | 410/500 [06:45<01:29,  1.01it/s]textattack: Saving checkpoint under \"checkpoints\\1720200690718.ta.chkpt\" at 2024-07-06 01:31:30 after 410 attacks.\n"
     ]
    },
    {
     "name": "stdout",
     "output_type": "stream",
     "text": [
      "\n",
      "\n",
      "=============================================================================================================================\n",
      "=============================================================================================================================\n",
      "\n"
     ]
    },
    {
     "name": "stderr",
     "output_type": "stream",
     "text": [
      "[Succeeded / Failed / Skipped / Total] 295 / 31 / 89 / 415:  83%|████████████████▌   | 415/500 [06:47<01:23,  1.02it/s]textattack: Saving checkpoint under \"checkpoints\\1720200692493.ta.chkpt\" at 2024-07-06 01:31:32 after 415 attacks.\n"
     ]
    },
    {
     "name": "stdout",
     "output_type": "stream",
     "text": [
      "\n",
      "\n",
      "=============================================================================================================================\n",
      "=============================================================================================================================\n",
      "\n"
     ]
    },
    {
     "name": "stderr",
     "output_type": "stream",
     "text": [
      "[Succeeded / Failed / Skipped / Total] 298 / 32 / 90 / 420:  84%|████████████████▊   | 420/500 [06:55<01:19,  1.01it/s]textattack: Saving checkpoint under \"checkpoints\\1720200700813.ta.chkpt\" at 2024-07-06 01:31:40 after 420 attacks.\n"
     ]
    },
    {
     "name": "stdout",
     "output_type": "stream",
     "text": [
      "\n",
      "\n",
      "=============================================================================================================================\n",
      "=============================================================================================================================\n",
      "\n"
     ]
    },
    {
     "name": "stderr",
     "output_type": "stream",
     "text": [
      "[Succeeded / Failed / Skipped / Total] 303 / 32 / 90 / 425:  85%|█████████████████   | 425/500 [07:00<01:14,  1.01it/s]textattack: Saving checkpoint under \"checkpoints\\1720200705188.ta.chkpt\" at 2024-07-06 01:31:45 after 425 attacks.\n"
     ]
    },
    {
     "name": "stdout",
     "output_type": "stream",
     "text": [
      "\n",
      "\n",
      "=============================================================================================================================\n",
      "=============================================================================================================================\n",
      "\n"
     ]
    },
    {
     "name": "stderr",
     "output_type": "stream",
     "text": [
      "[Succeeded / Failed / Skipped / Total] 307 / 33 / 90 / 430:  86%|█████████████████▏  | 430/500 [07:08<01:09,  1.00it/s]textattack: Saving checkpoint under \"checkpoints\\1720200713305.ta.chkpt\" at 2024-07-06 01:31:53 after 430 attacks.\n",
      "[Succeeded / Failed / Skipped / Total] 307 / 33 / 91 / 431:  86%|█████████████████▏  | 431/500 [07:08<01:08,  1.01it/s]"
     ]
    },
    {
     "name": "stdout",
     "output_type": "stream",
     "text": [
      "\n",
      "\n",
      "=============================================================================================================================\n",
      "=============================================================================================================================\n",
      "\n"
     ]
    },
    {
     "name": "stderr",
     "output_type": "stream",
     "text": [
      "[Succeeded / Failed / Skipped / Total] 311 / 33 / 91 / 435:  87%|█████████████████▍  | 435/500 [07:11<01:04,  1.01it/s]textattack: Saving checkpoint under \"checkpoints\\1720200716553.ta.chkpt\" at 2024-07-06 01:31:56 after 435 attacks.\n",
      "[Succeeded / Failed / Skipped / Total] 311 / 33 / 92 / 436:  87%|█████████████████▍  | 436/500 [07:11<01:03,  1.01it/s]"
     ]
    },
    {
     "name": "stdout",
     "output_type": "stream",
     "text": [
      "\n",
      "\n",
      "=============================================================================================================================\n",
      "=============================================================================================================================\n",
      "\n"
     ]
    },
    {
     "name": "stderr",
     "output_type": "stream",
     "text": [
      "[Succeeded / Failed / Skipped / Total] 315 / 33 / 92 / 440:  88%|█████████████████▌  | 440/500 [07:19<00:59,  1.00it/s]textattack: Saving checkpoint under \"checkpoints\\1720200724304.ta.chkpt\" at 2024-07-06 01:32:04 after 440 attacks.\n"
     ]
    },
    {
     "name": "stdout",
     "output_type": "stream",
     "text": [
      "\n",
      "\n",
      "=============================================================================================================================\n",
      "=============================================================================================================================\n",
      "\n"
     ]
    },
    {
     "name": "stderr",
     "output_type": "stream",
     "text": [
      "[Succeeded / Failed / Skipped / Total] 319 / 33 / 93 / 445:  89%|█████████████████▊  | 445/500 [07:21<00:54,  1.01it/s]textattack: Saving checkpoint under \"checkpoints\\1720200726523.ta.chkpt\" at 2024-07-06 01:32:06 after 445 attacks.\n"
     ]
    },
    {
     "name": "stdout",
     "output_type": "stream",
     "text": [
      "\n",
      "\n",
      "=============================================================================================================================\n",
      "=============================================================================================================================\n",
      "\n"
     ]
    },
    {
     "name": "stderr",
     "output_type": "stream",
     "text": [
      "[Succeeded / Failed / Skipped / Total] 322 / 33 / 95 / 450:  90%|██████████████████  | 450/500 [07:25<00:49,  1.01it/s]textattack: Saving checkpoint under \"checkpoints\\1720200730476.ta.chkpt\" at 2024-07-06 01:32:10 after 450 attacks.\n"
     ]
    },
    {
     "name": "stdout",
     "output_type": "stream",
     "text": [
      "\n",
      "\n",
      "=============================================================================================================================\n",
      "=============================================================================================================================\n",
      "\n"
     ]
    },
    {
     "name": "stderr",
     "output_type": "stream",
     "text": [
      "[Succeeded / Failed / Skipped / Total] 325 / 33 / 97 / 455:  91%|██████████████████▏ | 455/500 [07:28<00:44,  1.01it/s]textattack: Saving checkpoint under \"checkpoints\\1720200733980.ta.chkpt\" at 2024-07-06 01:32:13 after 455 attacks.\n"
     ]
    },
    {
     "name": "stdout",
     "output_type": "stream",
     "text": [
      "\n",
      "\n",
      "=============================================================================================================================\n",
      "=============================================================================================================================\n",
      "\n"
     ]
    },
    {
     "name": "stderr",
     "output_type": "stream",
     "text": [
      "[Succeeded / Failed / Skipped / Total] 330 / 33 / 97 / 460:  92%|██████████████████▍ | 460/500 [07:35<00:39,  1.01it/s]textattack: Saving checkpoint under \"checkpoints\\1720200740121.ta.chkpt\" at 2024-07-06 01:32:20 after 460 attacks.\n"
     ]
    },
    {
     "name": "stdout",
     "output_type": "stream",
     "text": [
      "\n",
      "\n",
      "=============================================================================================================================\n",
      "=============================================================================================================================\n",
      "\n"
     ]
    },
    {
     "name": "stderr",
     "output_type": "stream",
     "text": [
      "[Succeeded / Failed / Skipped / Total] 333 / 33 / 99 / 465:  93%|██████████████████▌ | 465/500 [07:41<00:34,  1.01it/s]textattack: Saving checkpoint under \"checkpoints\\1720200746372.ta.chkpt\" at 2024-07-06 01:32:26 after 465 attacks.\n",
      "[Succeeded / Failed / Skipped / Total] 333 / 33 / 100 / 466:  93%|█████████████████▋ | 466/500 [07:41<00:33,  1.01it/s]"
     ]
    },
    {
     "name": "stdout",
     "output_type": "stream",
     "text": [
      "\n",
      "\n",
      "=============================================================================================================================\n",
      "=============================================================================================================================\n",
      "\n"
     ]
    },
    {
     "name": "stderr",
     "output_type": "stream",
     "text": [
      "[Succeeded / Failed / Skipped / Total] 336 / 33 / 101 / 470:  94%|█████████████████▊ | 470/500 [07:43<00:29,  1.01it/s]textattack: Saving checkpoint under \"checkpoints\\1720200748169.ta.chkpt\" at 2024-07-06 01:32:28 after 470 attacks.\n"
     ]
    },
    {
     "name": "stdout",
     "output_type": "stream",
     "text": [
      "\n",
      "\n",
      "=============================================================================================================================\n",
      "=============================================================================================================================\n",
      "\n"
     ]
    },
    {
     "name": "stderr",
     "output_type": "stream",
     "text": [
      "[Succeeded / Failed / Skipped / Total] 341 / 33 / 101 / 475:  95%|██████████████████ | 475/500 [07:53<00:24,  1.00it/s]textattack: Saving checkpoint under \"checkpoints\\1720200758326.ta.chkpt\" at 2024-07-06 01:32:38 after 475 attacks.\n"
     ]
    },
    {
     "name": "stdout",
     "output_type": "stream",
     "text": [
      "\n",
      "\n",
      "=============================================================================================================================\n",
      "=============================================================================================================================\n",
      "\n"
     ]
    },
    {
     "name": "stderr",
     "output_type": "stream",
     "text": [
      "[Succeeded / Failed / Skipped / Total] 345 / 34 / 101 / 480:  96%|██████████████████▏| 480/500 [07:58<00:19,  1.00it/s]textattack: Saving checkpoint under \"checkpoints\\1720200763217.ta.chkpt\" at 2024-07-06 01:32:43 after 480 attacks.\n"
     ]
    },
    {
     "name": "stdout",
     "output_type": "stream",
     "text": [
      "\n",
      "\n",
      "=============================================================================================================================\n",
      "=============================================================================================================================\n",
      "\n"
     ]
    },
    {
     "name": "stderr",
     "output_type": "stream",
     "text": [
      "[Succeeded / Failed / Skipped / Total] 348 / 35 / 102 / 485:  97%|██████████████████▍| 485/500 [08:04<00:14,  1.00it/s]textattack: Saving checkpoint under \"checkpoints\\1720200769530.ta.chkpt\" at 2024-07-06 01:32:49 after 485 attacks.\n"
     ]
    },
    {
     "name": "stdout",
     "output_type": "stream",
     "text": [
      "\n",
      "\n",
      "=============================================================================================================================\n",
      "=============================================================================================================================\n",
      "\n"
     ]
    },
    {
     "name": "stderr",
     "output_type": "stream",
     "text": [
      "[Succeeded / Failed / Skipped / Total] 352 / 35 / 103 / 490:  98%|██████████████████▌| 490/500 [08:08<00:09,  1.00it/s]textattack: Saving checkpoint under \"checkpoints\\1720200773668.ta.chkpt\" at 2024-07-06 01:32:53 after 490 attacks.\n",
      "[Succeeded / Failed / Skipped / Total] 352 / 35 / 104 / 491:  98%|██████████████████▋| 491/500 [08:08<00:08,  1.00it/s]"
     ]
    },
    {
     "name": "stdout",
     "output_type": "stream",
     "text": [
      "\n",
      "\n",
      "=============================================================================================================================\n",
      "=============================================================================================================================\n",
      "\n"
     ]
    },
    {
     "name": "stderr",
     "output_type": "stream",
     "text": [
      "[Succeeded / Failed / Skipped / Total] 356 / 35 / 104 / 495:  99%|██████████████████▊| 495/500 [08:14<00:04,  1.00it/s]textattack: Saving checkpoint under \"checkpoints\\1720200779250.ta.chkpt\" at 2024-07-06 01:32:59 after 495 attacks.\n"
     ]
    },
    {
     "name": "stdout",
     "output_type": "stream",
     "text": [
      "\n",
      "\n",
      "=============================================================================================================================\n",
      "=============================================================================================================================\n",
      "\n"
     ]
    },
    {
     "name": "stderr",
     "output_type": "stream",
     "text": [
      "[Succeeded / Failed / Skipped / Total] 361 / 35 / 104 / 500: 100%|███████████████████| 500/500 [08:22<00:00,  1.00s/it]textattack: Saving checkpoint under \"checkpoints\\1720200787407.ta.chkpt\" at 2024-07-06 01:33:07 after 500 attacks.\n",
      "[Succeeded / Failed / Skipped / Total] 361 / 35 / 104 / 500: 100%|███████████████████| 500/500 [08:22<00:00,  1.00s/it]"
     ]
    },
    {
     "name": "stdout",
     "output_type": "stream",
     "text": [
      "\n",
      "\n",
      "=============================================================================================================================\n",
      "=============================================================================================================================\n",
      "\n",
      "\n",
      "+-------------------------------+--------+\n",
      "| Attack Results                |        |\n",
      "+-------------------------------+--------+\n",
      "| Number of successful attacks: | 361    |\n",
      "| Number of failed attacks:     | 35     |\n",
      "| Number of skipped attacks:    | 104    |\n",
      "| Original accuracy:            | 79.2%  |\n",
      "| Accuracy under attack:        | 7.0%   |\n",
      "| Attack success rate:          | 91.16% |\n",
      "| Average perturbed word %:     | 18.74% |\n",
      "| Average num. words per input: | 18.4   |\n",
      "| Avg num queries:              | 45.8   |\n",
      "+-------------------------------+--------+\n"
     ]
    },
    {
     "name": "stderr",
     "output_type": "stream",
     "text": [
      "\n"
     ]
    }
   ],
   "source": [
    "runAttack(disbert_model_wrapper_lr_mr, n_samples, 'attack_results_new/disbertmrattacklr'+suffix, target_ds_mr)"
   ]
  },
  {
   "cell_type": "code",
   "execution_count": 21,
   "id": "f264d4df-6423-44ba-b31f-11532355cb5e",
   "metadata": {},
   "outputs": [
    {
     "name": "stderr",
     "output_type": "stream",
     "text": [
      "textattack: Unknown if model of class <class 'transformers.models.distilbert.modeling_distilbert.DistilBertModel'> compatible with goal function <class 'textattack.goal_functions.classification.untargeted_classification.UntargetedClassification'>.\n",
      "textattack: Logging to CSV at path attack_results_new/disbertmrattackrfsim07.csv\n"
     ]
    },
    {
     "name": "stdout",
     "output_type": "stream",
     "text": [
      "Attack(\n",
      "  (search_method): GreedyWordSwapWIR(\n",
      "    (wir_method):  delete\n",
      "  )\n",
      "  (goal_function):  UntargetedClassification\n",
      "  (transformation):  WordSwapEmbedding(\n",
      "    (max_candidates):  50\n",
      "    (embedding):  WordEmbedding\n",
      "  )\n",
      "  (constraints): \n",
      "    (0): WordEmbeddingDistance(\n",
      "        (embedding):  WordEmbedding\n",
      "        (min_cos_sim):  0.7\n",
      "        (cased):  False\n",
      "        (include_unknown_words):  True\n",
      "        (compare_against_original):  True\n",
      "      )\n",
      "    (1): PartOfSpeech(\n",
      "        (tagger_type):  nltk\n",
      "        (tagset):  universal\n",
      "        (allow_verb_noun_swap):  True\n",
      "        (compare_against_original):  True\n",
      "      )\n",
      "    (2): UniversalSentenceEncoder(\n",
      "        (metric):  angular\n",
      "        (threshold):  0.840845057\n",
      "        (window_size):  15\n",
      "        (skip_text_shorter_than_window):  True\n",
      "        (compare_against_original):  False\n",
      "      )\n",
      "    (3): RepeatModification\n",
      "    (4): StopwordModification\n",
      "    (5): InputColumnModification(\n",
      "        (matching_column_labels):  ['premise', 'hypothesis']\n",
      "        (columns_to_ignore):  {'premise'}\n",
      "      )\n",
      "  (is_black_box):  True\n",
      ") \n",
      "\n"
     ]
    },
    {
     "name": "stderr",
     "output_type": "stream",
     "text": [
      "[Succeeded / Failed / Skipped / Total] 2 / 2 / 1 / 5:   1%|▎                           | 5/500 [00:13<22:00,  2.67s/it]textattack: Saving checkpoint under \"checkpoints\\1720200800836.ta.chkpt\" at 2024-07-06 01:33:20 after 5 attacks.\n",
      "[Succeeded / Failed / Skipped / Total] 2 / 2 / 2 / 6:   1%|▎                           | 6/500 [00:13<18:29,  2.25s/it]"
     ]
    },
    {
     "name": "stdout",
     "output_type": "stream",
     "text": [
      "\n",
      "\n",
      "=============================================================================================================================\n",
      "=============================================================================================================================\n",
      "\n"
     ]
    },
    {
     "name": "stderr",
     "output_type": "stream",
     "text": [
      "[Succeeded / Failed / Skipped / Total] 6 / 2 / 2 / 10:   2%|▌                         | 10/500 [00:20<16:48,  2.06s/it]textattack: Saving checkpoint under \"checkpoints\\1720200808086.ta.chkpt\" at 2024-07-06 01:33:28 after 10 attacks.\n"
     ]
    },
    {
     "name": "stdout",
     "output_type": "stream",
     "text": [
      "\n",
      "\n",
      "=============================================================================================================================\n",
      "=============================================================================================================================\n",
      "\n"
     ]
    },
    {
     "name": "stderr",
     "output_type": "stream",
     "text": [
      "[Succeeded / Failed / Skipped / Total] 8 / 4 / 3 / 15:   3%|▊                         | 15/500 [00:31<16:58,  2.10s/it]textattack: Saving checkpoint under \"checkpoints\\1720200819018.ta.chkpt\" at 2024-07-06 01:33:39 after 15 attacks.\n"
     ]
    },
    {
     "name": "stdout",
     "output_type": "stream",
     "text": [
      "\n",
      "\n",
      "=============================================================================================================================\n",
      "=============================================================================================================================\n",
      "\n"
     ]
    },
    {
     "name": "stderr",
     "output_type": "stream",
     "text": [
      "[Succeeded / Failed / Skipped / Total] 10 / 6 / 4 / 20:   4%|█                        | 20/500 [00:35<14:11,  1.77s/it]textattack: Saving checkpoint under \"checkpoints\\1720200822987.ta.chkpt\" at 2024-07-06 01:33:42 after 20 attacks.\n"
     ]
    },
    {
     "name": "stdout",
     "output_type": "stream",
     "text": [
      "\n",
      "\n",
      "=============================================================================================================================\n",
      "=============================================================================================================================\n",
      "\n"
     ]
    },
    {
     "name": "stderr",
     "output_type": "stream",
     "text": [
      "[Succeeded / Failed / Skipped / Total] 14 / 6 / 5 / 25:   5%|█▎                       | 25/500 [00:39<12:36,  1.59s/it]textattack: Saving checkpoint under \"checkpoints\\1720200827332.ta.chkpt\" at 2024-07-06 01:33:47 after 25 attacks.\n"
     ]
    },
    {
     "name": "stdout",
     "output_type": "stream",
     "text": [
      "\n",
      "\n",
      "=============================================================================================================================\n",
      "=============================================================================================================================\n",
      "\n"
     ]
    },
    {
     "name": "stderr",
     "output_type": "stream",
     "text": [
      "[Succeeded / Failed / Skipped / Total] 17 / 6 / 7 / 30:   6%|█▌                       | 30/500 [00:43<11:22,  1.45s/it]textattack: Saving checkpoint under \"checkpoints\\1720200831066.ta.chkpt\" at 2024-07-06 01:33:51 after 30 attacks.\n"
     ]
    },
    {
     "name": "stdout",
     "output_type": "stream",
     "text": [
      "\n",
      "\n",
      "=============================================================================================================================\n",
      "=============================================================================================================================\n",
      "\n"
     ]
    },
    {
     "name": "stderr",
     "output_type": "stream",
     "text": [
      "[Succeeded / Failed / Skipped / Total] 18 / 8 / 9 / 35:   7%|█▊                       | 35/500 [00:47<10:26,  1.35s/it]textattack: Saving checkpoint under \"checkpoints\\1720200834630.ta.chkpt\" at 2024-07-06 01:33:54 after 35 attacks.\n"
     ]
    },
    {
     "name": "stdout",
     "output_type": "stream",
     "text": [
      "\n",
      "\n",
      "=============================================================================================================================\n",
      "=============================================================================================================================\n",
      "\n"
     ]
    },
    {
     "name": "stderr",
     "output_type": "stream",
     "text": [
      "[Succeeded / Failed / Skipped / Total] 22 / 8 / 10 / 40:   8%|█▉                      | 40/500 [00:51<09:49,  1.28s/it]textattack: Saving checkpoint under \"checkpoints\\1720200838734.ta.chkpt\" at 2024-07-06 01:33:58 after 40 attacks.\n"
     ]
    },
    {
     "name": "stdout",
     "output_type": "stream",
     "text": [
      "\n",
      "\n",
      "=============================================================================================================================\n",
      "=============================================================================================================================\n",
      "\n"
     ]
    },
    {
     "name": "stderr",
     "output_type": "stream",
     "text": [
      "[Succeeded / Failed / Skipped / Total] 25 / 9 / 11 / 45:   9%|██▏                     | 45/500 [00:59<10:04,  1.33s/it]textattack: Saving checkpoint under \"checkpoints\\1720200847256.ta.chkpt\" at 2024-07-06 01:34:07 after 45 attacks.\n"
     ]
    },
    {
     "name": "stdout",
     "output_type": "stream",
     "text": [
      "\n",
      "\n",
      "=============================================================================================================================\n",
      "=============================================================================================================================\n",
      "\n"
     ]
    },
    {
     "name": "stderr",
     "output_type": "stream",
     "text": [
      "[Succeeded / Failed / Skipped / Total] 30 / 9 / 11 / 50:  10%|██▍                     | 50/500 [01:07<10:05,  1.35s/it]textattack: Saving checkpoint under \"checkpoints\\1720200854797.ta.chkpt\" at 2024-07-06 01:34:14 after 50 attacks.\n"
     ]
    },
    {
     "name": "stdout",
     "output_type": "stream",
     "text": [
      "\n",
      "\n",
      "=============================================================================================================================\n",
      "=============================================================================================================================\n",
      "\n"
     ]
    },
    {
     "name": "stderr",
     "output_type": "stream",
     "text": [
      "[Succeeded / Failed / Skipped / Total] 34 / 9 / 12 / 55:  11%|██▋                     | 55/500 [01:14<10:01,  1.35s/it]textattack: Saving checkpoint under \"checkpoints\\1720200861798.ta.chkpt\" at 2024-07-06 01:34:21 after 55 attacks.\n"
     ]
    },
    {
     "name": "stdout",
     "output_type": "stream",
     "text": [
      "\n",
      "\n",
      "=============================================================================================================================\n",
      "=============================================================================================================================\n",
      "\n"
     ]
    },
    {
     "name": "stderr",
     "output_type": "stream",
     "text": [
      "[Succeeded / Failed / Skipped / Total] 38 / 9 / 13 / 60:  12%|██▉                     | 60/500 [01:18<09:33,  1.30s/it]textattack: Saving checkpoint under \"checkpoints\\1720200865689.ta.chkpt\" at 2024-07-06 01:34:25 after 60 attacks.\n",
      "[Succeeded / Failed / Skipped / Total] 38 / 9 / 14 / 61:  12%|██▉                     | 61/500 [01:18<09:23,  1.28s/it]"
     ]
    },
    {
     "name": "stdout",
     "output_type": "stream",
     "text": [
      "\n",
      "\n",
      "=============================================================================================================================\n",
      "=============================================================================================================================\n",
      "\n"
     ]
    },
    {
     "name": "stderr",
     "output_type": "stream",
     "text": [
      "[Succeeded / Failed / Skipped / Total] 42 / 9 / 14 / 65:  13%|███                     | 65/500 [01:20<08:59,  1.24s/it]textattack: Saving checkpoint under \"checkpoints\\1720200868095.ta.chkpt\" at 2024-07-06 01:34:28 after 65 attacks.\n"
     ]
    },
    {
     "name": "stdout",
     "output_type": "stream",
     "text": [
      "\n",
      "\n",
      "=============================================================================================================================\n",
      "=============================================================================================================================\n",
      "\n"
     ]
    },
    {
     "name": "stderr",
     "output_type": "stream",
     "text": [
      "[Succeeded / Failed / Skipped / Total] 43 / 11 / 16 / 70:  14%|███▏                   | 70/500 [01:24<08:37,  1.20s/it]textattack: Saving checkpoint under \"checkpoints\\1720200871674.ta.chkpt\" at 2024-07-06 01:34:31 after 70 attacks.\n"
     ]
    },
    {
     "name": "stdout",
     "output_type": "stream",
     "text": [
      "\n",
      "\n",
      "=============================================================================================================================\n",
      "=============================================================================================================================\n",
      "\n"
     ]
    },
    {
     "name": "stderr",
     "output_type": "stream",
     "text": [
      "[Succeeded / Failed / Skipped / Total] 46 / 11 / 18 / 75:  15%|███▍                   | 75/500 [01:28<08:20,  1.18s/it]textattack: Saving checkpoint under \"checkpoints\\1720200875876.ta.chkpt\" at 2024-07-06 01:34:35 after 75 attacks.\n",
      "[Succeeded / Failed / Skipped / Total] 46 / 11 / 19 / 76:  15%|███▍                   | 76/500 [01:28<08:13,  1.16s/it]"
     ]
    },
    {
     "name": "stdout",
     "output_type": "stream",
     "text": [
      "\n",
      "\n",
      "=============================================================================================================================\n",
      "=============================================================================================================================\n",
      "\n"
     ]
    },
    {
     "name": "stderr",
     "output_type": "stream",
     "text": [
      "[Succeeded / Failed / Skipped / Total] 48 / 12 / 20 / 80:  16%|███▋                   | 80/500 [01:34<08:13,  1.18s/it]textattack: Saving checkpoint under \"checkpoints\\1720200881579.ta.chkpt\" at 2024-07-06 01:34:41 after 80 attacks.\n",
      "[Succeeded / Failed / Skipped / Total] 48 / 12 / 22 / 82:  16%|███▊                   | 82/500 [01:34<08:00,  1.15s/it]"
     ]
    },
    {
     "name": "stdout",
     "output_type": "stream",
     "text": [
      "\n",
      "\n",
      "=============================================================================================================================\n",
      "=============================================================================================================================\n",
      "\n"
     ]
    },
    {
     "name": "stderr",
     "output_type": "stream",
     "text": [
      "[Succeeded / Failed / Skipped / Total] 50 / 12 / 23 / 85:  17%|███▉                   | 85/500 [01:35<07:46,  1.12s/it]textattack: Saving checkpoint under \"checkpoints\\1720200883001.ta.chkpt\" at 2024-07-06 01:34:43 after 85 attacks.\n"
     ]
    },
    {
     "name": "stdout",
     "output_type": "stream",
     "text": [
      "\n",
      "\n",
      "=============================================================================================================================\n",
      "=============================================================================================================================\n",
      "\n"
     ]
    },
    {
     "name": "stderr",
     "output_type": "stream",
     "text": [
      "[Succeeded / Failed / Skipped / Total] 54 / 12 / 24 / 90:  18%|████▏                  | 90/500 [01:40<07:38,  1.12s/it]textattack: Saving checkpoint under \"checkpoints\\1720200888142.ta.chkpt\" at 2024-07-06 01:34:48 after 90 attacks.\n"
     ]
    },
    {
     "name": "stdout",
     "output_type": "stream",
     "text": [
      "\n",
      "\n",
      "=============================================================================================================================\n",
      "=============================================================================================================================\n",
      "\n"
     ]
    },
    {
     "name": "stderr",
     "output_type": "stream",
     "text": [
      "[Succeeded / Failed / Skipped / Total] 57 / 12 / 26 / 95:  19%|████▎                  | 95/500 [01:42<07:17,  1.08s/it]textattack: Saving checkpoint under \"checkpoints\\1720200890080.ta.chkpt\" at 2024-07-06 01:34:50 after 95 attacks.\n"
     ]
    },
    {
     "name": "stdout",
     "output_type": "stream",
     "text": [
      "\n",
      "\n",
      "=============================================================================================================================\n",
      "=============================================================================================================================\n",
      "\n"
     ]
    },
    {
     "name": "stderr",
     "output_type": "stream",
     "text": [
      "[Succeeded / Failed / Skipped / Total] 61 / 13 / 26 / 100:  20%|████▏                | 100/500 [01:48<07:14,  1.09s/it]textattack: Saving checkpoint under \"checkpoints\\1720200896033.ta.chkpt\" at 2024-07-06 01:34:56 after 100 attacks.\n",
      "[Succeeded / Failed / Skipped / Total] 61 / 13 / 28 / 102:  20%|████▎                | 102/500 [01:48<07:04,  1.07s/it]"
     ]
    },
    {
     "name": "stdout",
     "output_type": "stream",
     "text": [
      "\n",
      "\n",
      "=============================================================================================================================\n",
      "=============================================================================================================================\n",
      "\n"
     ]
    },
    {
     "name": "stderr",
     "output_type": "stream",
     "text": [
      "[Succeeded / Failed / Skipped / Total] 63 / 14 / 28 / 105:  21%|████▍                | 105/500 [01:52<07:03,  1.07s/it]textattack: Saving checkpoint under \"checkpoints\\1720200900190.ta.chkpt\" at 2024-07-06 01:35:00 after 105 attacks.\n",
      "[Succeeded / Failed / Skipped / Total] 63 / 14 / 29 / 106:  21%|████▍                | 106/500 [01:52<06:59,  1.06s/it]"
     ]
    },
    {
     "name": "stdout",
     "output_type": "stream",
     "text": [
      "\n",
      "\n",
      "=============================================================================================================================\n",
      "=============================================================================================================================\n",
      "\n"
     ]
    },
    {
     "name": "stderr",
     "output_type": "stream",
     "text": [
      "[Succeeded / Failed / Skipped / Total] 66 / 15 / 29 / 110:  22%|████▌                | 110/500 [01:58<07:00,  1.08s/it]textattack: Saving checkpoint under \"checkpoints\\1720200906097.ta.chkpt\" at 2024-07-06 01:35:06 after 110 attacks.\n",
      "[Succeeded / Failed / Skipped / Total] 66 / 15 / 30 / 111:  22%|████▋                | 111/500 [01:58<06:55,  1.07s/it]"
     ]
    },
    {
     "name": "stdout",
     "output_type": "stream",
     "text": [
      "\n",
      "\n",
      "=============================================================================================================================\n",
      "=============================================================================================================================\n",
      "\n"
     ]
    },
    {
     "name": "stderr",
     "output_type": "stream",
     "text": [
      "[Succeeded / Failed / Skipped / Total] 69 / 15 / 31 / 115:  23%|████▊                | 115/500 [02:07<07:07,  1.11s/it]textattack: Saving checkpoint under \"checkpoints\\1720200915066.ta.chkpt\" at 2024-07-06 01:35:15 after 115 attacks.\n"
     ]
    },
    {
     "name": "stdout",
     "output_type": "stream",
     "text": [
      "\n",
      "\n",
      "=============================================================================================================================\n",
      "=============================================================================================================================\n",
      "\n"
     ]
    },
    {
     "name": "stderr",
     "output_type": "stream",
     "text": [
      "[Succeeded / Failed / Skipped / Total] 71 / 16 / 33 / 120:  24%|█████                | 120/500 [02:10<06:52,  1.09s/it]textattack: Saving checkpoint under \"checkpoints\\1720200917832.ta.chkpt\" at 2024-07-06 01:35:17 after 120 attacks.\n"
     ]
    },
    {
     "name": "stdout",
     "output_type": "stream",
     "text": [
      "\n",
      "\n",
      "=============================================================================================================================\n",
      "=============================================================================================================================\n",
      "\n"
     ]
    },
    {
     "name": "stderr",
     "output_type": "stream",
     "text": [
      "[Succeeded / Failed / Skipped / Total] 75 / 16 / 34 / 125:  25%|█████▎               | 125/500 [02:15<06:45,  1.08s/it]textattack: Saving checkpoint under \"checkpoints\\1720200922677.ta.chkpt\" at 2024-07-06 01:35:22 after 125 attacks.\n",
      "[Succeeded / Failed / Skipped / Total] 75 / 16 / 36 / 127:  25%|█████▎               | 127/500 [02:15<06:37,  1.07s/it]"
     ]
    },
    {
     "name": "stdout",
     "output_type": "stream",
     "text": [
      "\n",
      "\n",
      "=============================================================================================================================\n",
      "=============================================================================================================================\n",
      "\n"
     ]
    },
    {
     "name": "stderr",
     "output_type": "stream",
     "text": [
      "[Succeeded / Failed / Skipped / Total] 76 / 17 / 37 / 130:  26%|█████▍               | 130/500 [02:18<06:35,  1.07s/it]textattack: Saving checkpoint under \"checkpoints\\1720200926302.ta.chkpt\" at 2024-07-06 01:35:26 after 130 attacks.\n",
      "[Succeeded / Failed / Skipped / Total] 76 / 17 / 38 / 131:  26%|█████▌               | 131/500 [02:18<06:31,  1.06s/it]"
     ]
    },
    {
     "name": "stdout",
     "output_type": "stream",
     "text": [
      "\n",
      "\n",
      "=============================================================================================================================\n",
      "=============================================================================================================================\n",
      "\n"
     ]
    },
    {
     "name": "stderr",
     "output_type": "stream",
     "text": [
      "[Succeeded / Failed / Skipped / Total] 80 / 17 / 38 / 135:  27%|█████▋               | 135/500 [02:23<06:29,  1.07s/it]textattack: Saving checkpoint under \"checkpoints\\1720200931412.ta.chkpt\" at 2024-07-06 01:35:31 after 135 attacks.\n",
      "[Succeeded / Failed / Skipped / Total] 80 / 17 / 39 / 136:  27%|█████▋               | 136/500 [02:23<06:25,  1.06s/it]"
     ]
    },
    {
     "name": "stdout",
     "output_type": "stream",
     "text": [
      "\n",
      "\n",
      "=============================================================================================================================\n",
      "=============================================================================================================================\n",
      "\n"
     ]
    },
    {
     "name": "stderr",
     "output_type": "stream",
     "text": [
      "[Succeeded / Failed / Skipped / Total] 84 / 17 / 39 / 140:  28%|█████▉               | 140/500 [02:26<06:16,  1.05s/it]textattack: Saving checkpoint under \"checkpoints\\1720200933939.ta.chkpt\" at 2024-07-06 01:35:33 after 140 attacks.\n"
     ]
    },
    {
     "name": "stdout",
     "output_type": "stream",
     "text": [
      "\n",
      "\n",
      "=============================================================================================================================\n",
      "=============================================================================================================================\n",
      "\n"
     ]
    },
    {
     "name": "stderr",
     "output_type": "stream",
     "text": [
      "[Succeeded / Failed / Skipped / Total] 88 / 17 / 40 / 145:  29%|██████               | 145/500 [02:30<06:09,  1.04s/it]textattack: Saving checkpoint under \"checkpoints\\1720200938455.ta.chkpt\" at 2024-07-06 01:35:38 after 145 attacks.\n",
      "[Succeeded / Failed / Skipped / Total] 88 / 17 / 42 / 147:  30%|██████▏              | 148/500 [02:31<05:59,  1.02s/it]"
     ]
    },
    {
     "name": "stdout",
     "output_type": "stream",
     "text": [
      "\n",
      "\n",
      "=============================================================================================================================\n",
      "=============================================================================================================================\n",
      "\n"
     ]
    },
    {
     "name": "stderr",
     "output_type": "stream",
     "text": [
      "[Succeeded / Failed / Skipped / Total] 88 / 18 / 44 / 150:  30%|██████▎              | 150/500 [02:32<05:56,  1.02s/it]textattack: Saving checkpoint under \"checkpoints\\1720200940105.ta.chkpt\" at 2024-07-06 01:35:40 after 150 attacks.\n"
     ]
    },
    {
     "name": "stdout",
     "output_type": "stream",
     "text": [
      "\n",
      "\n",
      "=============================================================================================================================\n",
      "=============================================================================================================================\n",
      "\n"
     ]
    },
    {
     "name": "stderr",
     "output_type": "stream",
     "text": [
      "[Succeeded / Failed / Skipped / Total] 91 / 19 / 45 / 155:  31%|██████▌              | 155/500 [02:35<05:46,  1.00s/it]textattack: Saving checkpoint under \"checkpoints\\1720200943168.ta.chkpt\" at 2024-07-06 01:35:43 after 155 attacks.\n"
     ]
    },
    {
     "name": "stdout",
     "output_type": "stream",
     "text": [
      "\n",
      "\n",
      "=============================================================================================================================\n",
      "=============================================================================================================================\n",
      "\n"
     ]
    },
    {
     "name": "stderr",
     "output_type": "stream",
     "text": [
      "[Succeeded / Failed / Skipped / Total] 94 / 20 / 46 / 160:  32%|██████▋              | 160/500 [02:46<05:53,  1.04s/it]textattack: Saving checkpoint under \"checkpoints\\1720200953659.ta.chkpt\" at 2024-07-06 01:35:53 after 160 attacks.\n",
      "[Succeeded / Failed / Skipped / Total] 94 / 20 / 47 / 161:  32%|██████▊              | 161/500 [02:46<05:50,  1.03s/it]"
     ]
    },
    {
     "name": "stdout",
     "output_type": "stream",
     "text": [
      "\n",
      "\n",
      "=============================================================================================================================\n",
      "=============================================================================================================================\n",
      "\n"
     ]
    },
    {
     "name": "stderr",
     "output_type": "stream",
     "text": [
      "[Succeeded / Failed / Skipped / Total] 97 / 21 / 47 / 165:  33%|██████▉              | 165/500 [02:52<05:50,  1.05s/it]textattack: Saving checkpoint under \"checkpoints\\1720200959972.ta.chkpt\" at 2024-07-06 01:35:59 after 165 attacks.\n",
      "[Succeeded / Failed / Skipped / Total] 97 / 21 / 48 / 166:  33%|██████▉              | 166/500 [02:52<05:47,  1.04s/it]"
     ]
    },
    {
     "name": "stdout",
     "output_type": "stream",
     "text": [
      "\n",
      "\n",
      "=============================================================================================================================\n",
      "=============================================================================================================================\n",
      "\n"
     ]
    },
    {
     "name": "stderr",
     "output_type": "stream",
     "text": [
      "[Succeeded / Failed / Skipped / Total] 99 / 21 / 50 / 170:  34%|███████▏             | 170/500 [02:54<05:38,  1.03s/it]textattack: Saving checkpoint under \"checkpoints\\1720200961925.ta.chkpt\" at 2024-07-06 01:36:01 after 170 attacks.\n"
     ]
    },
    {
     "name": "stdout",
     "output_type": "stream",
     "text": [
      "\n",
      "\n",
      "=============================================================================================================================\n",
      "=============================================================================================================================\n",
      "\n"
     ]
    },
    {
     "name": "stderr",
     "output_type": "stream",
     "text": [
      "[Succeeded / Failed / Skipped / Total] 102 / 21 / 52 / 175:  35%|███████             | 175/500 [02:59<05:32,  1.02s/it]textattack: Saving checkpoint under \"checkpoints\\1720200966707.ta.chkpt\" at 2024-07-06 01:36:06 after 175 attacks.\n"
     ]
    },
    {
     "name": "stdout",
     "output_type": "stream",
     "text": [
      "\n",
      "\n",
      "=============================================================================================================================\n",
      "=============================================================================================================================\n",
      "\n"
     ]
    },
    {
     "name": "stderr",
     "output_type": "stream",
     "text": [
      "[Succeeded / Failed / Skipped / Total] 104 / 23 / 53 / 180:  36%|███████▏            | 180/500 [03:05<05:30,  1.03s/it]textattack: Saving checkpoint under \"checkpoints\\1720200973426.ta.chkpt\" at 2024-07-06 01:36:13 after 180 attacks.\n",
      "[Succeeded / Failed / Skipped / Total] 104 / 23 / 55 / 182:  36%|███████▎            | 182/500 [03:06<05:25,  1.02s/it]"
     ]
    },
    {
     "name": "stdout",
     "output_type": "stream",
     "text": [
      "\n",
      "\n",
      "=============================================================================================================================\n",
      "=============================================================================================================================\n",
      "\n"
     ]
    },
    {
     "name": "stderr",
     "output_type": "stream",
     "text": [
      "[Succeeded / Failed / Skipped / Total] 106 / 23 / 56 / 185:  37%|███████▍            | 185/500 [03:07<05:18,  1.01s/it]textattack: Saving checkpoint under \"checkpoints\\1720200974832.ta.chkpt\" at 2024-07-06 01:36:14 after 185 attacks.\n"
     ]
    },
    {
     "name": "stdout",
     "output_type": "stream",
     "text": [
      "\n",
      "\n",
      "=============================================================================================================================\n",
      "=============================================================================================================================\n",
      "\n"
     ]
    },
    {
     "name": "stderr",
     "output_type": "stream",
     "text": [
      "[Succeeded / Failed / Skipped / Total] 109 / 25 / 56 / 190:  38%|███████▌            | 190/500 [03:19<05:25,  1.05s/it]textattack: Saving checkpoint under \"checkpoints\\1720200987146.ta.chkpt\" at 2024-07-06 01:36:27 after 190 attacks.\n"
     ]
    },
    {
     "name": "stdout",
     "output_type": "stream",
     "text": [
      "\n",
      "\n",
      "=============================================================================================================================\n",
      "=============================================================================================================================\n",
      "\n"
     ]
    },
    {
     "name": "stderr",
     "output_type": "stream",
     "text": [
      "[Succeeded / Failed / Skipped / Total] 111 / 26 / 58 / 195:  39%|███████▊            | 195/500 [03:24<05:20,  1.05s/it]textattack: Saving checkpoint under \"checkpoints\\1720200992146.ta.chkpt\" at 2024-07-06 01:36:32 after 195 attacks.\n"
     ]
    },
    {
     "name": "stdout",
     "output_type": "stream",
     "text": [
      "\n",
      "\n",
      "=============================================================================================================================\n",
      "=============================================================================================================================\n",
      "\n"
     ]
    },
    {
     "name": "stderr",
     "output_type": "stream",
     "text": [
      "[Succeeded / Failed / Skipped / Total] 114 / 27 / 59 / 200:  40%|████████            | 200/500 [03:37<05:26,  1.09s/it]textattack: Saving checkpoint under \"checkpoints\\1720201004866.ta.chkpt\" at 2024-07-06 01:36:44 after 200 attacks.\n"
     ]
    },
    {
     "name": "stdout",
     "output_type": "stream",
     "text": [
      "\n",
      "\n",
      "=============================================================================================================================\n",
      "=============================================================================================================================\n",
      "\n"
     ]
    },
    {
     "name": "stderr",
     "output_type": "stream",
     "text": [
      "[Succeeded / Failed / Skipped / Total] 116 / 29 / 60 / 205:  41%|████████▏           | 205/500 [03:41<05:18,  1.08s/it]textattack: Saving checkpoint under \"checkpoints\\1720201008538.ta.chkpt\" at 2024-07-06 01:36:48 after 205 attacks.\n"
     ]
    },
    {
     "name": "stdout",
     "output_type": "stream",
     "text": [
      "\n",
      "\n",
      "=============================================================================================================================\n",
      "=============================================================================================================================\n",
      "\n"
     ]
    },
    {
     "name": "stderr",
     "output_type": "stream",
     "text": [
      "[Succeeded / Failed / Skipped / Total] 120 / 30 / 60 / 210:  42%|████████▍           | 210/500 [03:44<05:10,  1.07s/it]textattack: Saving checkpoint under \"checkpoints\\1720201012153.ta.chkpt\" at 2024-07-06 01:36:52 after 210 attacks.\n"
     ]
    },
    {
     "name": "stdout",
     "output_type": "stream",
     "text": [
      "\n",
      "\n",
      "=============================================================================================================================\n",
      "=============================================================================================================================\n",
      "\n"
     ]
    },
    {
     "name": "stderr",
     "output_type": "stream",
     "text": [
      "[Succeeded / Failed / Skipped / Total] 122 / 32 / 61 / 215:  43%|████████▌           | 215/500 [03:50<05:05,  1.07s/it]textattack: Saving checkpoint under \"checkpoints\\1720201017669.ta.chkpt\" at 2024-07-06 01:36:57 after 215 attacks.\n"
     ]
    },
    {
     "name": "stdout",
     "output_type": "stream",
     "text": [
      "\n",
      "\n",
      "=============================================================================================================================\n",
      "=============================================================================================================================\n",
      "\n"
     ]
    },
    {
     "name": "stderr",
     "output_type": "stream",
     "text": [
      "[Succeeded / Failed / Skipped / Total] 127 / 32 / 61 / 220:  44%|████████▊           | 220/500 [03:52<04:56,  1.06s/it]textattack: Saving checkpoint under \"checkpoints\\1720201020138.ta.chkpt\" at 2024-07-06 01:37:00 after 220 attacks.\n"
     ]
    },
    {
     "name": "stdout",
     "output_type": "stream",
     "text": [
      "\n",
      "\n",
      "=============================================================================================================================\n",
      "=============================================================================================================================\n",
      "\n"
     ]
    },
    {
     "name": "stderr",
     "output_type": "stream",
     "text": [
      "[Succeeded / Failed / Skipped / Total] 131 / 32 / 62 / 225:  45%|█████████           | 225/500 [04:02<04:56,  1.08s/it]textattack: Saving checkpoint under \"checkpoints\\1720201029779.ta.chkpt\" at 2024-07-06 01:37:09 after 225 attacks.\n"
     ]
    },
    {
     "name": "stdout",
     "output_type": "stream",
     "text": [
      "\n",
      "\n",
      "=============================================================================================================================\n",
      "=============================================================================================================================\n",
      "\n"
     ]
    },
    {
     "name": "stderr",
     "output_type": "stream",
     "text": [
      "[Succeeded / Failed / Skipped / Total] 133 / 33 / 64 / 230:  46%|█████████▏          | 230/500 [04:04<04:46,  1.06s/it]textattack: Saving checkpoint under \"checkpoints\\1720201031889.ta.chkpt\" at 2024-07-06 01:37:11 after 230 attacks.\n",
      "[Succeeded / Failed / Skipped / Total] 133 / 33 / 65 / 231:  46%|█████████▏          | 231/500 [04:04<04:44,  1.06s/it]"
     ]
    },
    {
     "name": "stdout",
     "output_type": "stream",
     "text": [
      "\n",
      "\n",
      "=============================================================================================================================\n",
      "=============================================================================================================================\n",
      "\n"
     ]
    },
    {
     "name": "stderr",
     "output_type": "stream",
     "text": [
      "[Succeeded / Failed / Skipped / Total] 135 / 35 / 65 / 235:  47%|█████████▍          | 235/500 [04:10<04:43,  1.07s/it]textattack: Saving checkpoint under \"checkpoints\\1720201038468.ta.chkpt\" at 2024-07-06 01:37:18 after 235 attacks.\n"
     ]
    },
    {
     "name": "stdout",
     "output_type": "stream",
     "text": [
      "\n",
      "\n",
      "=============================================================================================================================\n",
      "=============================================================================================================================\n",
      "\n"
     ]
    },
    {
     "name": "stderr",
     "output_type": "stream",
     "text": [
      "[Succeeded / Failed / Skipped / Total] 140 / 35 / 65 / 240:  48%|█████████▌          | 240/500 [04:15<04:37,  1.07s/it]textattack: Saving checkpoint under \"checkpoints\\1720201043375.ta.chkpt\" at 2024-07-06 01:37:23 after 240 attacks.\n",
      "[Succeeded / Failed / Skipped / Total] 140 / 35 / 66 / 241:  48%|█████████▋          | 241/500 [04:15<04:35,  1.06s/it]"
     ]
    },
    {
     "name": "stdout",
     "output_type": "stream",
     "text": [
      "\n",
      "\n",
      "=============================================================================================================================\n",
      "=============================================================================================================================\n",
      "\n"
     ]
    },
    {
     "name": "stderr",
     "output_type": "stream",
     "text": [
      "[Succeeded / Failed / Skipped / Total] 143 / 36 / 66 / 245:  49%|█████████▊          | 245/500 [04:22<04:33,  1.07s/it]textattack: Saving checkpoint under \"checkpoints\\1720201050423.ta.chkpt\" at 2024-07-06 01:37:30 after 245 attacks.\n"
     ]
    },
    {
     "name": "stdout",
     "output_type": "stream",
     "text": [
      "\n",
      "\n",
      "=============================================================================================================================\n",
      "=============================================================================================================================\n",
      "\n"
     ]
    },
    {
     "name": "stderr",
     "output_type": "stream",
     "text": [
      "[Succeeded / Failed / Skipped / Total] 145 / 37 / 68 / 250:  50%|██████████          | 250/500 [04:26<04:26,  1.07s/it]textattack: Saving checkpoint under \"checkpoints\\1720201053945.ta.chkpt\" at 2024-07-06 01:37:33 after 250 attacks.\n",
      "[Succeeded / Failed / Skipped / Total] 145 / 37 / 69 / 251:  50%|██████████          | 251/500 [04:26<04:24,  1.06s/it]"
     ]
    },
    {
     "name": "stdout",
     "output_type": "stream",
     "text": [
      "\n",
      "\n",
      "=============================================================================================================================\n",
      "=============================================================================================================================\n",
      "\n"
     ]
    },
    {
     "name": "stderr",
     "output_type": "stream",
     "text": [
      "[Succeeded / Failed / Skipped / Total] 148 / 37 / 70 / 255:  51%|██████████▏         | 255/500 [04:29<04:18,  1.06s/it]textattack: Saving checkpoint under \"checkpoints\\1720201056533.ta.chkpt\" at 2024-07-06 01:37:36 after 255 attacks.\n"
     ]
    },
    {
     "name": "stdout",
     "output_type": "stream",
     "text": [
      "\n",
      "\n",
      "=============================================================================================================================\n",
      "=============================================================================================================================\n",
      "\n"
     ]
    },
    {
     "name": "stderr",
     "output_type": "stream",
     "text": [
      "[Succeeded / Failed / Skipped / Total] 151 / 37 / 72 / 260:  52%|██████████▍         | 260/500 [04:32<04:11,  1.05s/it]textattack: Saving checkpoint under \"checkpoints\\1720201059768.ta.chkpt\" at 2024-07-06 01:37:39 after 260 attacks.\n"
     ]
    },
    {
     "name": "stdout",
     "output_type": "stream",
     "text": [
      "\n",
      "\n",
      "=============================================================================================================================\n",
      "=============================================================================================================================\n",
      "\n"
     ]
    },
    {
     "name": "stderr",
     "output_type": "stream",
     "text": [
      "[Succeeded / Failed / Skipped / Total] 155 / 38 / 72 / 265:  53%|██████████▌         | 265/500 [04:40<04:09,  1.06s/it]textattack: Saving checkpoint under \"checkpoints\\1720201068363.ta.chkpt\" at 2024-07-06 01:37:48 after 265 attacks.\n"
     ]
    },
    {
     "name": "stdout",
     "output_type": "stream",
     "text": [
      "\n",
      "\n",
      "=============================================================================================================================\n",
      "=============================================================================================================================\n",
      "\n"
     ]
    },
    {
     "name": "stderr",
     "output_type": "stream",
     "text": [
      "[Succeeded / Failed / Skipped / Total] 157 / 39 / 74 / 270:  54%|██████████▊         | 270/500 [04:49<04:06,  1.07s/it]textattack: Saving checkpoint under \"checkpoints\\1720201076942.ta.chkpt\" at 2024-07-06 01:37:56 after 270 attacks.\n",
      "[Succeeded / Failed / Skipped / Total] 157 / 39 / 75 / 271:  54%|██████████▊         | 271/500 [04:49<04:04,  1.07s/it]"
     ]
    },
    {
     "name": "stdout",
     "output_type": "stream",
     "text": [
      "\n",
      "\n",
      "=============================================================================================================================\n",
      "=============================================================================================================================\n",
      "\n"
     ]
    },
    {
     "name": "stderr",
     "output_type": "stream",
     "text": [
      "[Succeeded / Failed / Skipped / Total] 159 / 39 / 77 / 275:  55%|███████████         | 275/500 [04:50<03:57,  1.06s/it]textattack: Saving checkpoint under \"checkpoints\\1720201078224.ta.chkpt\" at 2024-07-06 01:37:58 after 275 attacks.\n"
     ]
    },
    {
     "name": "stdout",
     "output_type": "stream",
     "text": [
      "\n",
      "\n",
      "=============================================================================================================================\n",
      "=============================================================================================================================\n",
      "\n"
     ]
    },
    {
     "name": "stderr",
     "output_type": "stream",
     "text": [
      "[Succeeded / Failed / Skipped / Total] 163 / 39 / 78 / 280:  56%|███████████▏        | 280/500 [04:53<03:50,  1.05s/it]textattack: Saving checkpoint under \"checkpoints\\1720201081099.ta.chkpt\" at 2024-07-06 01:38:01 after 280 attacks.\n"
     ]
    },
    {
     "name": "stdout",
     "output_type": "stream",
     "text": [
      "\n",
      "\n",
      "=============================================================================================================================\n",
      "=============================================================================================================================\n",
      "\n"
     ]
    },
    {
     "name": "stderr",
     "output_type": "stream",
     "text": [
      "[Succeeded / Failed / Skipped / Total] 164 / 40 / 81 / 285:  57%|███████████▍        | 285/500 [04:56<03:43,  1.04s/it]textattack: Saving checkpoint under \"checkpoints\\1720201083631.ta.chkpt\" at 2024-07-06 01:38:03 after 285 attacks.\n"
     ]
    },
    {
     "name": "stdout",
     "output_type": "stream",
     "text": [
      "\n",
      "\n",
      "=============================================================================================================================\n",
      "=============================================================================================================================\n",
      "\n"
     ]
    },
    {
     "name": "stderr",
     "output_type": "stream",
     "text": [
      "[Succeeded / Failed / Skipped / Total] 169 / 40 / 81 / 290:  58%|███████████▌        | 290/500 [05:04<03:40,  1.05s/it]textattack: Saving checkpoint under \"checkpoints\\1720201091866.ta.chkpt\" at 2024-07-06 01:38:11 after 290 attacks.\n",
      "[Succeeded / Failed / Skipped / Total] 169 / 40 / 83 / 292:  58%|███████████▋        | 292/500 [05:04<03:36,  1.04s/it]"
     ]
    },
    {
     "name": "stdout",
     "output_type": "stream",
     "text": [
      "\n",
      "\n",
      "=============================================================================================================================\n",
      "=============================================================================================================================\n",
      "\n"
     ]
    },
    {
     "name": "stderr",
     "output_type": "stream",
     "text": [
      "[Succeeded / Failed / Skipped / Total] 171 / 41 / 83 / 295:  59%|███████████▊        | 295/500 [05:09<03:35,  1.05s/it]textattack: Saving checkpoint under \"checkpoints\\1720201097494.ta.chkpt\" at 2024-07-06 01:38:17 after 295 attacks.\n"
     ]
    },
    {
     "name": "stdout",
     "output_type": "stream",
     "text": [
      "\n",
      "\n",
      "=============================================================================================================================\n",
      "=============================================================================================================================\n",
      "\n"
     ]
    },
    {
     "name": "stderr",
     "output_type": "stream",
     "text": [
      "[Succeeded / Failed / Skipped / Total] 175 / 42 / 83 / 300:  60%|████████████        | 300/500 [05:14<03:29,  1.05s/it]textattack: Saving checkpoint under \"checkpoints\\1720201101963.ta.chkpt\" at 2024-07-06 01:38:21 after 300 attacks.\n"
     ]
    },
    {
     "name": "stdout",
     "output_type": "stream",
     "text": [
      "\n",
      "\n",
      "=============================================================================================================================\n",
      "=============================================================================================================================\n",
      "\n"
     ]
    },
    {
     "name": "stderr",
     "output_type": "stream",
     "text": [
      "[Succeeded / Failed / Skipped / Total] 179 / 42 / 84 / 305:  61%|████████████▏       | 305/500 [05:17<03:22,  1.04s/it]textattack: Saving checkpoint under \"checkpoints\\1720201104936.ta.chkpt\" at 2024-07-06 01:38:24 after 305 attacks.\n"
     ]
    },
    {
     "name": "stdout",
     "output_type": "stream",
     "text": [
      "\n",
      "\n",
      "=============================================================================================================================\n",
      "=============================================================================================================================\n",
      "\n"
     ]
    },
    {
     "name": "stderr",
     "output_type": "stream",
     "text": [
      "[Succeeded / Failed / Skipped / Total] 183 / 43 / 84 / 310:  62%|████████████▍       | 310/500 [05:20<03:16,  1.04s/it]textattack: Saving checkpoint under \"checkpoints\\1720201108421.ta.chkpt\" at 2024-07-06 01:38:28 after 310 attacks.\n"
     ]
    },
    {
     "name": "stdout",
     "output_type": "stream",
     "text": [
      "\n",
      "\n",
      "=============================================================================================================================\n",
      "=============================================================================================================================\n",
      "\n"
     ]
    },
    {
     "name": "stderr",
     "output_type": "stream",
     "text": [
      "[Succeeded / Failed / Skipped / Total] 186 / 43 / 86 / 315:  63%|████████████▌       | 315/500 [05:24<03:10,  1.03s/it]textattack: Saving checkpoint under \"checkpoints\\1720201111859.ta.chkpt\" at 2024-07-06 01:38:31 after 315 attacks.\n"
     ]
    },
    {
     "name": "stdout",
     "output_type": "stream",
     "text": [
      "\n",
      "\n",
      "=============================================================================================================================\n",
      "=============================================================================================================================\n",
      "\n"
     ]
    },
    {
     "name": "stderr",
     "output_type": "stream",
     "text": [
      "[Succeeded / Failed / Skipped / Total] 190 / 43 / 87 / 320:  64%|████████████▊       | 320/500 [05:35<03:08,  1.05s/it]textattack: Saving checkpoint under \"checkpoints\\1720201122782.ta.chkpt\" at 2024-07-06 01:38:42 after 320 attacks.\n"
     ]
    },
    {
     "name": "stdout",
     "output_type": "stream",
     "text": [
      "\n",
      "\n",
      "=============================================================================================================================\n",
      "=============================================================================================================================\n",
      "\n"
     ]
    },
    {
     "name": "stderr",
     "output_type": "stream",
     "text": [
      "[Succeeded / Failed / Skipped / Total] 193 / 44 / 88 / 325:  65%|█████████████       | 325/500 [05:45<03:06,  1.06s/it]textattack: Saving checkpoint under \"checkpoints\\1720201133105.ta.chkpt\" at 2024-07-06 01:38:53 after 325 attacks.\n"
     ]
    },
    {
     "name": "stdout",
     "output_type": "stream",
     "text": [
      "\n",
      "\n",
      "=============================================================================================================================\n",
      "=============================================================================================================================\n",
      "\n"
     ]
    },
    {
     "name": "stderr",
     "output_type": "stream",
     "text": [
      "[Succeeded / Failed / Skipped / Total] 197 / 44 / 89 / 330:  66%|█████████████▏      | 330/500 [05:47<02:59,  1.05s/it]textattack: Saving checkpoint under \"checkpoints\\1720201135018.ta.chkpt\" at 2024-07-06 01:38:55 after 330 attacks.\n"
     ]
    },
    {
     "name": "stdout",
     "output_type": "stream",
     "text": [
      "\n",
      "\n",
      "=============================================================================================================================\n",
      "=============================================================================================================================\n",
      "\n"
     ]
    },
    {
     "name": "stderr",
     "output_type": "stream",
     "text": [
      "[Succeeded / Failed / Skipped / Total] 199 / 47 / 89 / 335:  67%|█████████████▍      | 335/500 [06:05<02:59,  1.09s/it]textattack: Saving checkpoint under \"checkpoints\\1720201152511.ta.chkpt\" at 2024-07-06 01:39:12 after 335 attacks.\n",
      "[Succeeded / Failed / Skipped / Total] 199 / 47 / 90 / 336:  67%|█████████████▍      | 336/500 [06:05<02:58,  1.09s/it]"
     ]
    },
    {
     "name": "stdout",
     "output_type": "stream",
     "text": [
      "\n",
      "\n",
      "=============================================================================================================================\n",
      "=============================================================================================================================\n",
      "\n"
     ]
    },
    {
     "name": "stderr",
     "output_type": "stream",
     "text": [
      "[Succeeded / Failed / Skipped / Total] 202 / 48 / 90 / 340:  68%|█████████████▌      | 340/500 [06:10<02:54,  1.09s/it]textattack: Saving checkpoint under \"checkpoints\\1720201157536.ta.chkpt\" at 2024-07-06 01:39:17 after 340 attacks.\n"
     ]
    },
    {
     "name": "stdout",
     "output_type": "stream",
     "text": [
      "\n",
      "\n",
      "=============================================================================================================================\n",
      "=============================================================================================================================\n",
      "\n"
     ]
    },
    {
     "name": "stderr",
     "output_type": "stream",
     "text": [
      "[Succeeded / Failed / Skipped / Total] 205 / 49 / 91 / 345:  69%|█████████████▊      | 345/500 [06:16<02:49,  1.09s/it]textattack: Saving checkpoint under \"checkpoints\\1720201163958.ta.chkpt\" at 2024-07-06 01:39:23 after 345 attacks.\n"
     ]
    },
    {
     "name": "stdout",
     "output_type": "stream",
     "text": [
      "\n",
      "\n",
      "=============================================================================================================================\n",
      "=============================================================================================================================\n",
      "\n"
     ]
    },
    {
     "name": "stderr",
     "output_type": "stream",
     "text": [
      "[Succeeded / Failed / Skipped / Total] 209 / 49 / 92 / 350:  70%|██████████████      | 350/500 [06:21<02:43,  1.09s/it]textattack: Saving checkpoint under \"checkpoints\\1720201168590.ta.chkpt\" at 2024-07-06 01:39:28 after 350 attacks.\n"
     ]
    },
    {
     "name": "stdout",
     "output_type": "stream",
     "text": [
      "\n",
      "\n",
      "=============================================================================================================================\n",
      "=============================================================================================================================\n",
      "\n"
     ]
    },
    {
     "name": "stderr",
     "output_type": "stream",
     "text": [
      "[Succeeded / Failed / Skipped / Total] 212 / 51 / 92 / 355:  71%|██████████████▏     | 355/500 [06:30<02:39,  1.10s/it]textattack: Saving checkpoint under \"checkpoints\\1720201177700.ta.chkpt\" at 2024-07-06 01:39:37 after 355 attacks.\n",
      "[Succeeded / Failed / Skipped / Total] 212 / 51 / 93 / 356:  71%|██████████████▏     | 356/500 [06:30<02:37,  1.10s/it]"
     ]
    },
    {
     "name": "stdout",
     "output_type": "stream",
     "text": [
      "\n",
      "\n",
      "=============================================================================================================================\n",
      "=============================================================================================================================\n",
      "\n"
     ]
    },
    {
     "name": "stderr",
     "output_type": "stream",
     "text": [
      "[Succeeded / Failed / Skipped / Total] 216 / 51 / 93 / 360:  72%|██████████████▍     | 360/500 [06:36<02:34,  1.10s/it]textattack: Saving checkpoint under \"checkpoints\\1720201184263.ta.chkpt\" at 2024-07-06 01:39:44 after 360 attacks.\n"
     ]
    },
    {
     "name": "stdout",
     "output_type": "stream",
     "text": [
      "\n",
      "\n",
      "=============================================================================================================================\n",
      "=============================================================================================================================\n",
      "\n"
     ]
    },
    {
     "name": "stderr",
     "output_type": "stream",
     "text": [
      "[Succeeded / Failed / Skipped / Total] 220 / 52 / 93 / 365:  73%|██████████████▌     | 365/500 [06:43<02:29,  1.11s/it]textattack: Saving checkpoint under \"checkpoints\\1720201191295.ta.chkpt\" at 2024-07-06 01:39:51 after 365 attacks.\n",
      "[Succeeded / Failed / Skipped / Total] 220 / 52 / 94 / 366:  73%|██████████████▋     | 366/500 [06:43<02:27,  1.10s/it]"
     ]
    },
    {
     "name": "stdout",
     "output_type": "stream",
     "text": [
      "\n",
      "\n",
      "=============================================================================================================================\n",
      "=============================================================================================================================\n",
      "\n"
     ]
    },
    {
     "name": "stderr",
     "output_type": "stream",
     "text": [
      "[Succeeded / Failed / Skipped / Total] 223 / 52 / 95 / 370:  74%|██████████████▊     | 370/500 [06:45<02:22,  1.10s/it]textattack: Saving checkpoint under \"checkpoints\\1720201193263.ta.chkpt\" at 2024-07-06 01:39:53 after 370 attacks.\n",
      "[Succeeded / Failed / Skipped / Total] 223 / 52 / 96 / 371:  74%|██████████████▊     | 371/500 [06:45<02:21,  1.09s/it]"
     ]
    },
    {
     "name": "stdout",
     "output_type": "stream",
     "text": [
      "\n",
      "\n",
      "=============================================================================================================================\n",
      "=============================================================================================================================\n",
      "\n"
     ]
    },
    {
     "name": "stderr",
     "output_type": "stream",
     "text": [
      "[Succeeded / Failed / Skipped / Total] 225 / 53 / 97 / 375:  75%|███████████████     | 375/500 [06:51<02:17,  1.10s/it]textattack: Saving checkpoint under \"checkpoints\\1720201198998.ta.chkpt\" at 2024-07-06 01:39:58 after 375 attacks.\n"
     ]
    },
    {
     "name": "stdout",
     "output_type": "stream",
     "text": [
      "\n",
      "\n",
      "=============================================================================================================================\n",
      "=============================================================================================================================\n",
      "\n"
     ]
    },
    {
     "name": "stderr",
     "output_type": "stream",
     "text": [
      "[Succeeded / Failed / Skipped / Total] 227 / 54 / 99 / 380:  76%|███████████████▏    | 380/500 [06:54<02:10,  1.09s/it]textattack: Saving checkpoint under \"checkpoints\\1720201201608.ta.chkpt\" at 2024-07-06 01:40:01 after 380 attacks.\n"
     ]
    },
    {
     "name": "stdout",
     "output_type": "stream",
     "text": [
      "\n",
      "\n",
      "=============================================================================================================================\n",
      "=============================================================================================================================\n",
      "\n"
     ]
    },
    {
     "name": "stderr",
     "output_type": "stream",
     "text": [
      "[Succeeded / Failed / Skipped / Total] 232 / 54 / 99 / 385:  77%|███████████████▍    | 385/500 [06:58<02:04,  1.09s/it]textattack: Saving checkpoint under \"checkpoints\\1720201205733.ta.chkpt\" at 2024-07-06 01:40:05 after 385 attacks.\n"
     ]
    },
    {
     "name": "stdout",
     "output_type": "stream",
     "text": [
      "\n",
      "\n",
      "=============================================================================================================================\n",
      "=============================================================================================================================\n",
      "\n"
     ]
    },
    {
     "name": "stderr",
     "output_type": "stream",
     "text": [
      "[Succeeded / Failed / Skipped / Total] 236 / 54 / 100 / 390:  78%|██████████████▊    | 390/500 [07:01<01:58,  1.08s/it]textattack: Saving checkpoint under \"checkpoints\\1720201208734.ta.chkpt\" at 2024-07-06 01:40:08 after 390 attacks.\n"
     ]
    },
    {
     "name": "stdout",
     "output_type": "stream",
     "text": [
      "\n",
      "\n",
      "=============================================================================================================================\n",
      "=============================================================================================================================\n",
      "\n"
     ]
    },
    {
     "name": "stderr",
     "output_type": "stream",
     "text": [
      "[Succeeded / Failed / Skipped / Total] 239 / 55 / 101 / 395:  79%|███████████████    | 395/500 [07:11<01:54,  1.09s/it]textattack: Saving checkpoint under \"checkpoints\\1720201219031.ta.chkpt\" at 2024-07-06 01:40:19 after 395 attacks.\n"
     ]
    },
    {
     "name": "stdout",
     "output_type": "stream",
     "text": [
      "\n",
      "\n",
      "=============================================================================================================================\n",
      "=============================================================================================================================\n",
      "\n"
     ]
    },
    {
     "name": "stderr",
     "output_type": "stream",
     "text": [
      "[Succeeded / Failed / Skipped / Total] 244 / 55 / 101 / 400:  80%|███████████████▏   | 400/500 [07:18<01:49,  1.10s/it]textattack: Saving checkpoint under \"checkpoints\\1720201225704.ta.chkpt\" at 2024-07-06 01:40:25 after 400 attacks.\n"
     ]
    },
    {
     "name": "stdout",
     "output_type": "stream",
     "text": [
      "\n",
      "\n",
      "=============================================================================================================================\n",
      "=============================================================================================================================\n",
      "\n"
     ]
    },
    {
     "name": "stderr",
     "output_type": "stream",
     "text": [
      "[Succeeded / Failed / Skipped / Total] 246 / 57 / 102 / 405:  81%|███████████████▍   | 405/500 [07:25<01:44,  1.10s/it]textattack: Saving checkpoint under \"checkpoints\\1720201232878.ta.chkpt\" at 2024-07-06 01:40:32 after 405 attacks.\n"
     ]
    },
    {
     "name": "stdout",
     "output_type": "stream",
     "text": [
      "\n",
      "\n",
      "=============================================================================================================================\n",
      "=============================================================================================================================\n",
      "\n"
     ]
    },
    {
     "name": "stderr",
     "output_type": "stream",
     "text": [
      "[Succeeded / Failed / Skipped / Total] 251 / 57 / 102 / 410:  82%|███████████████▌   | 410/500 [07:30<01:38,  1.10s/it]textattack: Saving checkpoint under \"checkpoints\\1720201238206.ta.chkpt\" at 2024-07-06 01:40:38 after 410 attacks.\n"
     ]
    },
    {
     "name": "stdout",
     "output_type": "stream",
     "text": [
      "\n",
      "\n",
      "=============================================================================================================================\n",
      "=============================================================================================================================\n",
      "\n"
     ]
    },
    {
     "name": "stderr",
     "output_type": "stream",
     "text": [
      "[Succeeded / Failed / Skipped / Total] 253 / 58 / 104 / 415:  83%|███████████████▊   | 415/500 [07:34<01:33,  1.09s/it]textattack: Saving checkpoint under \"checkpoints\\1720201241582.ta.chkpt\" at 2024-07-06 01:40:41 after 415 attacks.\n"
     ]
    },
    {
     "name": "stdout",
     "output_type": "stream",
     "text": [
      "\n",
      "\n",
      "=============================================================================================================================\n",
      "=============================================================================================================================\n",
      "\n"
     ]
    },
    {
     "name": "stderr",
     "output_type": "stream",
     "text": [
      "[Succeeded / Failed / Skipped / Total] 255 / 60 / 105 / 420:  84%|███████████████▉   | 420/500 [07:42<01:28,  1.10s/it]textattack: Saving checkpoint under \"checkpoints\\1720201250473.ta.chkpt\" at 2024-07-06 01:40:50 after 420 attacks.\n"
     ]
    },
    {
     "name": "stdout",
     "output_type": "stream",
     "text": [
      "\n",
      "\n",
      "=============================================================================================================================\n",
      "=============================================================================================================================\n",
      "\n"
     ]
    },
    {
     "name": "stderr",
     "output_type": "stream",
     "text": [
      "[Succeeded / Failed / Skipped / Total] 259 / 60 / 106 / 425:  85%|████████████████▏  | 425/500 [07:46<01:22,  1.10s/it]textattack: Saving checkpoint under \"checkpoints\\1720201253641.ta.chkpt\" at 2024-07-06 01:40:53 after 425 attacks.\n"
     ]
    },
    {
     "name": "stdout",
     "output_type": "stream",
     "text": [
      "\n",
      "\n",
      "=============================================================================================================================\n",
      "=============================================================================================================================\n",
      "\n"
     ]
    },
    {
     "name": "stderr",
     "output_type": "stream",
     "text": [
      "[Succeeded / Failed / Skipped / Total] 262 / 61 / 107 / 430:  86%|████████████████▎  | 430/500 [07:51<01:16,  1.10s/it]textattack: Saving checkpoint under \"checkpoints\\1720201258563.ta.chkpt\" at 2024-07-06 01:40:58 after 430 attacks.\n",
      "[Succeeded / Failed / Skipped / Total] 262 / 61 / 108 / 431:  86%|████████████████▍  | 431/500 [07:51<01:15,  1.09s/it]"
     ]
    },
    {
     "name": "stdout",
     "output_type": "stream",
     "text": [
      "\n",
      "\n",
      "=============================================================================================================================\n",
      "=============================================================================================================================\n",
      "\n"
     ]
    },
    {
     "name": "stderr",
     "output_type": "stream",
     "text": [
      "[Succeeded / Failed / Skipped / Total] 266 / 61 / 108 / 435:  87%|████████████████▌  | 435/500 [07:53<01:10,  1.09s/it]textattack: Saving checkpoint under \"checkpoints\\1720201261006.ta.chkpt\" at 2024-07-06 01:41:01 after 435 attacks.\n"
     ]
    },
    {
     "name": "stdout",
     "output_type": "stream",
     "text": [
      "\n",
      "\n",
      "=============================================================================================================================\n",
      "=============================================================================================================================\n",
      "\n"
     ]
    },
    {
     "name": "stderr",
     "output_type": "stream",
     "text": [
      "[Succeeded / Failed / Skipped / Total] 271 / 61 / 108 / 440:  88%|████████████████▋  | 440/500 [08:02<01:05,  1.10s/it]textattack: Saving checkpoint under \"checkpoints\\1720201270460.ta.chkpt\" at 2024-07-06 01:41:10 after 440 attacks.\n",
      "[Succeeded / Failed / Skipped / Total] 271 / 61 / 109 / 441:  88%|████████████████▊  | 441/500 [08:03<01:04,  1.10s/it]"
     ]
    },
    {
     "name": "stdout",
     "output_type": "stream",
     "text": [
      "\n",
      "\n",
      "=============================================================================================================================\n",
      "=============================================================================================================================\n",
      "\n"
     ]
    },
    {
     "name": "stderr",
     "output_type": "stream",
     "text": [
      "[Succeeded / Failed / Skipped / Total] 275 / 61 / 109 / 445:  89%|████████████████▉  | 445/500 [08:06<01:00,  1.09s/it]textattack: Saving checkpoint under \"checkpoints\\1720201273843.ta.chkpt\" at 2024-07-06 01:41:13 after 445 attacks.\n"
     ]
    },
    {
     "name": "stdout",
     "output_type": "stream",
     "text": [
      "\n",
      "\n",
      "=============================================================================================================================\n",
      "=============================================================================================================================\n",
      "\n"
     ]
    },
    {
     "name": "stderr",
     "output_type": "stream",
     "text": [
      "[Succeeded / Failed / Skipped / Total] 276 / 63 / 111 / 450:  90%|█████████████████  | 450/500 [08:11<00:54,  1.09s/it]textattack: Saving checkpoint under \"checkpoints\\1720201278781.ta.chkpt\" at 2024-07-06 01:41:18 after 450 attacks.\n",
      "[Succeeded / Failed / Skipped / Total] 276 / 63 / 112 / 451:  90%|█████████████████▏ | 451/500 [08:11<00:53,  1.09s/it]"
     ]
    },
    {
     "name": "stdout",
     "output_type": "stream",
     "text": [
      "\n",
      "\n",
      "=============================================================================================================================\n",
      "=============================================================================================================================\n",
      "\n"
     ]
    },
    {
     "name": "stderr",
     "output_type": "stream",
     "text": [
      "[Succeeded / Failed / Skipped / Total] 279 / 63 / 113 / 455:  91%|█████████████████▎ | 455/500 [08:15<00:48,  1.09s/it]textattack: Saving checkpoint under \"checkpoints\\1720201282891.ta.chkpt\" at 2024-07-06 01:41:22 after 455 attacks.\n"
     ]
    },
    {
     "name": "stdout",
     "output_type": "stream",
     "text": [
      "\n",
      "\n",
      "=============================================================================================================================\n",
      "=============================================================================================================================\n",
      "\n"
     ]
    },
    {
     "name": "stderr",
     "output_type": "stream",
     "text": [
      "[Succeeded / Failed / Skipped / Total] 283 / 63 / 114 / 460:  92%|█████████████████▍ | 460/500 [08:21<00:43,  1.09s/it]textattack: Saving checkpoint under \"checkpoints\\1720201288511.ta.chkpt\" at 2024-07-06 01:41:28 after 460 attacks.\n"
     ]
    },
    {
     "name": "stdout",
     "output_type": "stream",
     "text": [
      "\n",
      "\n",
      "=============================================================================================================================\n",
      "=============================================================================================================================\n",
      "\n"
     ]
    },
    {
     "name": "stderr",
     "output_type": "stream",
     "text": [
      "[Succeeded / Failed / Skipped / Total] 286 / 63 / 116 / 465:  93%|█████████████████▋ | 465/500 [08:29<00:38,  1.10s/it]textattack: Saving checkpoint under \"checkpoints\\1720201296676.ta.chkpt\" at 2024-07-06 01:41:36 after 465 attacks.\n",
      "[Succeeded / Failed / Skipped / Total] 286 / 63 / 117 / 466:  93%|█████████████████▋ | 466/500 [08:29<00:37,  1.09s/it]"
     ]
    },
    {
     "name": "stdout",
     "output_type": "stream",
     "text": [
      "\n",
      "\n",
      "=============================================================================================================================\n",
      "=============================================================================================================================\n",
      "\n"
     ]
    },
    {
     "name": "stderr",
     "output_type": "stream",
     "text": [
      "[Succeeded / Failed / Skipped / Total] 289 / 64 / 117 / 470:  94%|█████████████████▊ | 470/500 [08:33<00:32,  1.09s/it]textattack: Saving checkpoint under \"checkpoints\\1720201300645.ta.chkpt\" at 2024-07-06 01:41:40 after 470 attacks.\n"
     ]
    },
    {
     "name": "stdout",
     "output_type": "stream",
     "text": [
      "\n",
      "\n",
      "=============================================================================================================================\n",
      "=============================================================================================================================\n",
      "\n"
     ]
    },
    {
     "name": "stderr",
     "output_type": "stream",
     "text": [
      "[Succeeded / Failed / Skipped / Total] 293 / 65 / 117 / 475:  95%|██████████████████ | 475/500 [08:45<00:27,  1.11s/it]textattack: Saving checkpoint under \"checkpoints\\1720201313162.ta.chkpt\" at 2024-07-06 01:41:53 after 475 attacks.\n"
     ]
    },
    {
     "name": "stdout",
     "output_type": "stream",
     "text": [
      "\n",
      "\n",
      "=============================================================================================================================\n",
      "=============================================================================================================================\n",
      "\n"
     ]
    },
    {
     "name": "stderr",
     "output_type": "stream",
     "text": [
      "[Succeeded / Failed / Skipped / Total] 297 / 66 / 117 / 480:  96%|██████████████████▏| 480/500 [08:50<00:22,  1.10s/it]textattack: Saving checkpoint under \"checkpoints\\1720201317647.ta.chkpt\" at 2024-07-06 01:41:57 after 480 attacks.\n"
     ]
    },
    {
     "name": "stdout",
     "output_type": "stream",
     "text": [
      "\n",
      "\n",
      "=============================================================================================================================\n",
      "=============================================================================================================================\n",
      "\n"
     ]
    },
    {
     "name": "stderr",
     "output_type": "stream",
     "text": [
      "[Succeeded / Failed / Skipped / Total] 301 / 67 / 117 / 485:  97%|██████████████████▍| 485/500 [08:58<00:16,  1.11s/it]textattack: Saving checkpoint under \"checkpoints\\1720201325570.ta.chkpt\" at 2024-07-06 01:42:05 after 485 attacks.\n"
     ]
    },
    {
     "name": "stdout",
     "output_type": "stream",
     "text": [
      "\n",
      "\n",
      "=============================================================================================================================\n",
      "=============================================================================================================================\n",
      "\n"
     ]
    },
    {
     "name": "stderr",
     "output_type": "stream",
     "text": [
      "[Succeeded / Failed / Skipped / Total] 305 / 67 / 118 / 490:  98%|██████████████████▌| 490/500 [09:04<00:11,  1.11s/it]textattack: Saving checkpoint under \"checkpoints\\1720201331805.ta.chkpt\" at 2024-07-06 01:42:11 after 490 attacks.\n",
      "[Succeeded / Failed / Skipped / Total] 305 / 67 / 119 / 491:  98%|██████████████████▋| 491/500 [09:04<00:09,  1.11s/it]"
     ]
    },
    {
     "name": "stdout",
     "output_type": "stream",
     "text": [
      "\n",
      "\n",
      "=============================================================================================================================\n",
      "=============================================================================================================================\n",
      "\n"
     ]
    },
    {
     "name": "stderr",
     "output_type": "stream",
     "text": [
      "[Succeeded / Failed / Skipped / Total] 308 / 67 / 120 / 495:  99%|██████████████████▊| 495/500 [09:07<00:05,  1.11s/it]textattack: Saving checkpoint under \"checkpoints\\1720201335049.ta.chkpt\" at 2024-07-06 01:42:15 after 495 attacks.\n"
     ]
    },
    {
     "name": "stdout",
     "output_type": "stream",
     "text": [
      "\n",
      "\n",
      "=============================================================================================================================\n",
      "=============================================================================================================================\n",
      "\n"
     ]
    },
    {
     "name": "stderr",
     "output_type": "stream",
     "text": [
      "[Succeeded / Failed / Skipped / Total] 313 / 67 / 120 / 500: 100%|███████████████████| 500/500 [09:17<00:00,  1.11s/it]textattack: Saving checkpoint under \"checkpoints\\1720201344628.ta.chkpt\" at 2024-07-06 01:42:24 after 500 attacks.\n",
      "[Succeeded / Failed / Skipped / Total] 313 / 67 / 120 / 500: 100%|███████████████████| 500/500 [09:17<00:00,  1.11s/it]"
     ]
    },
    {
     "name": "stdout",
     "output_type": "stream",
     "text": [
      "\n",
      "\n",
      "=============================================================================================================================\n",
      "=============================================================================================================================\n",
      "\n",
      "\n",
      "+-------------------------------+--------+\n",
      "| Attack Results                |        |\n",
      "+-------------------------------+--------+\n",
      "| Number of successful attacks: | 313    |\n",
      "| Number of failed attacks:     | 67     |\n",
      "| Number of skipped attacks:    | 120    |\n",
      "| Original accuracy:            | 76.0%  |\n",
      "| Accuracy under attack:        | 13.4%  |\n",
      "| Attack success rate:          | 82.37% |\n",
      "| Average perturbed word %:     | 17.99% |\n",
      "| Average num. words per input: | 18.4   |\n",
      "| Avg num queries:              | 50.78  |\n",
      "+-------------------------------+--------+\n"
     ]
    },
    {
     "name": "stderr",
     "output_type": "stream",
     "text": [
      "\n"
     ]
    }
   ],
   "source": [
    "runAttack(disbert_model_wrapper_rf_mr, n_samples, 'attack_results_new/disbertmrattackrf'+suffix, target_ds_mr)"
   ]
  },
  {
   "cell_type": "code",
   "execution_count": 22,
   "id": "006c3e60-dada-40b1-ab23-2ff6171400d3",
   "metadata": {},
   "outputs": [
    {
     "name": "stderr",
     "output_type": "stream",
     "text": [
      "textattack: Unknown if model of class <class 'transformers.models.distilbert.modeling_distilbert.DistilBertModel'> compatible with goal function <class 'textattack.goal_functions.classification.untargeted_classification.UntargetedClassification'>.\n",
      "textattack: Logging to CSV at path attack_results_new/disbertmrattackknnsim07.csv\n"
     ]
    },
    {
     "name": "stdout",
     "output_type": "stream",
     "text": [
      "Attack(\n",
      "  (search_method): GreedyWordSwapWIR(\n",
      "    (wir_method):  delete\n",
      "  )\n",
      "  (goal_function):  UntargetedClassification\n",
      "  (transformation):  WordSwapEmbedding(\n",
      "    (max_candidates):  50\n",
      "    (embedding):  WordEmbedding\n",
      "  )\n",
      "  (constraints): \n",
      "    (0): WordEmbeddingDistance(\n",
      "        (embedding):  WordEmbedding\n",
      "        (min_cos_sim):  0.7\n",
      "        (cased):  False\n",
      "        (include_unknown_words):  True\n",
      "        (compare_against_original):  True\n",
      "      )\n",
      "    (1): PartOfSpeech(\n",
      "        (tagger_type):  nltk\n",
      "        (tagset):  universal\n",
      "        (allow_verb_noun_swap):  True\n",
      "        (compare_against_original):  True\n",
      "      )\n",
      "    (2): UniversalSentenceEncoder(\n",
      "        (metric):  angular\n",
      "        (threshold):  0.840845057\n",
      "        (window_size):  15\n",
      "        (skip_text_shorter_than_window):  True\n",
      "        (compare_against_original):  False\n",
      "      )\n",
      "    (3): RepeatModification\n",
      "    (4): StopwordModification\n",
      "    (5): InputColumnModification(\n",
      "        (matching_column_labels):  ['premise', 'hypothesis']\n",
      "        (columns_to_ignore):  {'premise'}\n",
      "      )\n",
      "  (is_black_box):  True\n",
      ") \n",
      "\n"
     ]
    },
    {
     "name": "stderr",
     "output_type": "stream",
     "text": [
      "[Succeeded / Failed / Skipped / Total] 4 / 1 / 0 / 5:   1%|▎                           | 5/500 [00:12<20:45,  2.52s/it]textattack: Saving checkpoint under \"checkpoints\\1720201357270.ta.chkpt\" at 2024-07-06 01:42:37 after 5 attacks.\n",
      "[Succeeded / Failed / Skipped / Total] 4 / 1 / 2 / 7:   1%|▍                           | 7/500 [00:12<14:55,  1.82s/it]"
     ]
    },
    {
     "name": "stdout",
     "output_type": "stream",
     "text": [
      "\n",
      "\n",
      "=============================================================================================================================\n",
      "=============================================================================================================================\n",
      "\n"
     ]
    },
    {
     "name": "stderr",
     "output_type": "stream",
     "text": [
      "[Succeeded / Failed / Skipped / Total] 5 / 3 / 2 / 10:   2%|▌                         | 10/500 [00:20<16:41,  2.04s/it]textattack: Saving checkpoint under \"checkpoints\\1720201365131.ta.chkpt\" at 2024-07-06 01:42:45 after 10 attacks.\n"
     ]
    },
    {
     "name": "stdout",
     "output_type": "stream",
     "text": [
      "\n",
      "\n",
      "=============================================================================================================================\n",
      "=============================================================================================================================\n",
      "\n"
     ]
    },
    {
     "name": "stderr",
     "output_type": "stream",
     "text": [
      "[Succeeded / Failed / Skipped / Total] 7 / 5 / 3 / 15:   3%|▊                         | 15/500 [00:25<13:56,  1.73s/it]textattack: Saving checkpoint under \"checkpoints\\1720201370569.ta.chkpt\" at 2024-07-06 01:42:50 after 15 attacks.\n"
     ]
    },
    {
     "name": "stdout",
     "output_type": "stream",
     "text": [
      "\n",
      "\n",
      "=============================================================================================================================\n",
      "=============================================================================================================================\n",
      "\n"
     ]
    },
    {
     "name": "stderr",
     "output_type": "stream",
     "text": [
      "[Succeeded / Failed / Skipped / Total] 11 / 5 / 4 / 20:   4%|█                        | 20/500 [00:28<11:28,  1.43s/it]textattack: Saving checkpoint under \"checkpoints\\1720201373384.ta.chkpt\" at 2024-07-06 01:42:53 after 20 attacks.\n"
     ]
    },
    {
     "name": "stdout",
     "output_type": "stream",
     "text": [
      "\n",
      "\n",
      "=============================================================================================================================\n",
      "=============================================================================================================================\n",
      "\n"
     ]
    },
    {
     "name": "stderr",
     "output_type": "stream",
     "text": [
      "[Succeeded / Failed / Skipped / Total] 15 / 5 / 5 / 25:   5%|█▎                       | 25/500 [00:31<09:59,  1.26s/it]textattack: Saving checkpoint under \"checkpoints\\1720201376228.ta.chkpt\" at 2024-07-06 01:42:56 after 25 attacks.\n"
     ]
    },
    {
     "name": "stdout",
     "output_type": "stream",
     "text": [
      "\n",
      "\n",
      "=============================================================================================================================\n",
      "=============================================================================================================================\n",
      "\n"
     ]
    },
    {
     "name": "stderr",
     "output_type": "stream",
     "text": [
      "[Succeeded / Failed / Skipped / Total] 17 / 7 / 6 / 30:   6%|█▌                       | 30/500 [00:38<10:08,  1.29s/it]textattack: Saving checkpoint under \"checkpoints\\1720201383526.ta.chkpt\" at 2024-07-06 01:43:03 after 30 attacks.\n"
     ]
    },
    {
     "name": "stdout",
     "output_type": "stream",
     "text": [
      "\n",
      "\n",
      "=============================================================================================================================\n",
      "=============================================================================================================================\n",
      "\n"
     ]
    },
    {
     "name": "stderr",
     "output_type": "stream",
     "text": [
      "[Succeeded / Failed / Skipped / Total] 20 / 7 / 8 / 35:   7%|█▊                       | 35/500 [00:40<08:53,  1.15s/it]textattack: Saving checkpoint under \"checkpoints\\1720201384870.ta.chkpt\" at 2024-07-06 01:43:04 after 35 attacks.\n"
     ]
    },
    {
     "name": "stdout",
     "output_type": "stream",
     "text": [
      "\n",
      "\n",
      "=============================================================================================================================\n",
      "=============================================================================================================================\n",
      "\n"
     ]
    },
    {
     "name": "stderr",
     "output_type": "stream",
     "text": [
      "[Succeeded / Failed / Skipped / Total] 22 / 7 / 11 / 40:   8%|█▉                      | 40/500 [00:41<08:02,  1.05s/it]textattack: Saving checkpoint under \"checkpoints\\1720201386651.ta.chkpt\" at 2024-07-06 01:43:06 after 40 attacks.\n"
     ]
    },
    {
     "name": "stdout",
     "output_type": "stream",
     "text": [
      "\n",
      "\n",
      "=============================================================================================================================\n",
      "=============================================================================================================================\n",
      "\n"
     ]
    },
    {
     "name": "stderr",
     "output_type": "stream",
     "text": [
      "[Succeeded / Failed / Skipped / Total] 26 / 7 / 12 / 45:   9%|██▏                     | 45/500 [00:45<07:36,  1.00s/it]textattack: Saving checkpoint under \"checkpoints\\1720201389839.ta.chkpt\" at 2024-07-06 01:43:09 after 45 attacks.\n",
      "[Succeeded / Failed / Skipped / Total] 26 / 7 / 13 / 46:   9%|██▏                     | 46/500 [00:45<07:26,  1.02it/s]"
     ]
    },
    {
     "name": "stdout",
     "output_type": "stream",
     "text": [
      "\n",
      "\n",
      "=============================================================================================================================\n",
      "=============================================================================================================================\n",
      "\n"
     ]
    },
    {
     "name": "stderr",
     "output_type": "stream",
     "text": [
      "[Succeeded / Failed / Skipped / Total] 29 / 8 / 13 / 50:  10%|██▍                     | 50/500 [00:49<07:29,  1.00it/s]textattack: Saving checkpoint under \"checkpoints\\1720201394599.ta.chkpt\" at 2024-07-06 01:43:14 after 50 attacks.\n"
     ]
    },
    {
     "name": "stdout",
     "output_type": "stream",
     "text": [
      "\n",
      "\n",
      "=============================================================================================================================\n",
      "=============================================================================================================================\n",
      "\n"
     ]
    },
    {
     "name": "stderr",
     "output_type": "stream",
     "text": [
      "[Succeeded / Failed / Skipped / Total] 33 / 8 / 14 / 55:  11%|██▋                     | 55/500 [00:57<07:42,  1.04s/it]textattack: Saving checkpoint under \"checkpoints\\1720201401881.ta.chkpt\" at 2024-07-06 01:43:21 after 55 attacks.\n"
     ]
    },
    {
     "name": "stdout",
     "output_type": "stream",
     "text": [
      "\n",
      "\n",
      "=============================================================================================================================\n",
      "=============================================================================================================================\n",
      "\n"
     ]
    },
    {
     "name": "stderr",
     "output_type": "stream",
     "text": [
      "[Succeeded / Failed / Skipped / Total] 37 / 8 / 15 / 60:  12%|██▉                     | 60/500 [00:59<07:18,  1.00it/s]textattack: Saving checkpoint under \"checkpoints\\1720201404538.ta.chkpt\" at 2024-07-06 01:43:24 after 60 attacks.\n",
      "[Succeeded / Failed / Skipped / Total] 37 / 8 / 17 / 62:  12%|██▉                     | 62/500 [00:59<07:03,  1.03it/s]"
     ]
    },
    {
     "name": "stdout",
     "output_type": "stream",
     "text": [
      "\n",
      "\n",
      "=============================================================================================================================\n",
      "=============================================================================================================================\n",
      "\n"
     ]
    },
    {
     "name": "stderr",
     "output_type": "stream",
     "text": [
      "[Succeeded / Failed / Skipped / Total] 38 / 9 / 18 / 65:  13%|███                     | 65/500 [01:00<06:47,  1.07it/s]textattack: Saving checkpoint under \"checkpoints\\1720201405647.ta.chkpt\" at 2024-07-06 01:43:25 after 65 attacks.\n"
     ]
    },
    {
     "name": "stdout",
     "output_type": "stream",
     "text": [
      "\n",
      "\n",
      "=============================================================================================================================\n",
      "=============================================================================================================================\n",
      "\n"
     ]
    },
    {
     "name": "stderr",
     "output_type": "stream",
     "text": [
      "[Succeeded / Failed / Skipped / Total] 42 / 9 / 19 / 70:  14%|███▎                    | 70/500 [01:03<06:31,  1.10it/s]textattack: Saving checkpoint under \"checkpoints\\1720201408350.ta.chkpt\" at 2024-07-06 01:43:28 after 70 attacks.\n"
     ]
    },
    {
     "name": "stdout",
     "output_type": "stream",
     "text": [
      "\n",
      "\n",
      "=============================================================================================================================\n",
      "=============================================================================================================================\n",
      "\n"
     ]
    },
    {
     "name": "stderr",
     "output_type": "stream",
     "text": [
      "[Succeeded / Failed / Skipped / Total] 45 / 10 / 20 / 75:  15%|███▍                   | 75/500 [01:09<06:32,  1.08it/s]textattack: Saving checkpoint under \"checkpoints\\1720201413928.ta.chkpt\" at 2024-07-06 01:43:33 after 75 attacks.\n",
      "[Succeeded / Failed / Skipped / Total] 45 / 10 / 21 / 76:  15%|███▍                   | 76/500 [01:09<06:26,  1.10it/s]"
     ]
    },
    {
     "name": "stdout",
     "output_type": "stream",
     "text": [
      "\n",
      "\n",
      "=============================================================================================================================\n",
      "=============================================================================================================================\n",
      "\n"
     ]
    },
    {
     "name": "stderr",
     "output_type": "stream",
     "text": [
      "[Succeeded / Failed / Skipped / Total] 47 / 11 / 22 / 80:  16%|███▋                   | 80/500 [01:13<06:27,  1.08it/s]textattack: Saving checkpoint under \"checkpoints\\1720201418475.ta.chkpt\" at 2024-07-06 01:43:38 after 80 attacks.\n",
      "[Succeeded / Failed / Skipped / Total] 47 / 11 / 24 / 82:  16%|███▊                   | 82/500 [01:13<06:16,  1.11it/s]"
     ]
    },
    {
     "name": "stdout",
     "output_type": "stream",
     "text": [
      "\n",
      "\n",
      "=============================================================================================================================\n",
      "=============================================================================================================================\n",
      "\n"
     ]
    },
    {
     "name": "stderr",
     "output_type": "stream",
     "text": [
      "[Succeeded / Failed / Skipped / Total] 49 / 11 / 25 / 85:  17%|███▉                   | 85/500 [01:15<06:10,  1.12it/s]textattack: Saving checkpoint under \"checkpoints\\1720201420574.ta.chkpt\" at 2024-07-06 01:43:40 after 85 attacks.\n",
      "[Succeeded / Failed / Skipped / Total] 49 / 11 / 27 / 87:  17%|████                   | 87/500 [01:16<06:00,  1.14it/s]"
     ]
    },
    {
     "name": "stdout",
     "output_type": "stream",
     "text": [
      "\n",
      "\n",
      "=============================================================================================================================\n",
      "=============================================================================================================================\n",
      "\n"
     ]
    },
    {
     "name": "stderr",
     "output_type": "stream",
     "text": [
      "[Succeeded / Failed / Skipped / Total] 51 / 11 / 28 / 90:  18%|████▏                  | 90/500 [01:17<05:52,  1.16it/s]textattack: Saving checkpoint under \"checkpoints\\1720201422121.ta.chkpt\" at 2024-07-06 01:43:42 after 90 attacks.\n"
     ]
    },
    {
     "name": "stdout",
     "output_type": "stream",
     "text": [
      "\n",
      "\n",
      "=============================================================================================================================\n",
      "=============================================================================================================================\n",
      "\n"
     ]
    },
    {
     "name": "stderr",
     "output_type": "stream",
     "text": [
      "[Succeeded / Failed / Skipped / Total] 53 / 11 / 31 / 95:  19%|████▎                  | 95/500 [01:18<05:36,  1.20it/s]textattack: Saving checkpoint under \"checkpoints\\1720201423621.ta.chkpt\" at 2024-07-06 01:43:43 after 95 attacks.\n"
     ]
    },
    {
     "name": "stdout",
     "output_type": "stream",
     "text": [
      "\n",
      "\n",
      "=============================================================================================================================\n",
      "=============================================================================================================================\n",
      "\n"
     ]
    },
    {
     "name": "stderr",
     "output_type": "stream",
     "text": [
      "[Succeeded / Failed / Skipped / Total] 56 / 13 / 31 / 100:  20%|████▏                | 100/500 [01:26<05:46,  1.15it/s]textattack: Saving checkpoint under \"checkpoints\\1720201431387.ta.chkpt\" at 2024-07-06 01:43:51 after 100 attacks.\n"
     ]
    },
    {
     "name": "stdout",
     "output_type": "stream",
     "text": [
      "\n",
      "\n",
      "=============================================================================================================================\n",
      "=============================================================================================================================\n",
      "\n"
     ]
    },
    {
     "name": "stderr",
     "output_type": "stream",
     "text": [
      "[Succeeded / Failed / Skipped / Total] 60 / 13 / 32 / 105:  21%|████▍                | 105/500 [01:34<05:55,  1.11it/s]textattack: Saving checkpoint under \"checkpoints\\1720201439159.ta.chkpt\" at 2024-07-06 01:43:59 after 105 attacks.\n",
      "[Succeeded / Failed / Skipped / Total] 60 / 13 / 33 / 106:  21%|████▍                | 106/500 [01:34<05:51,  1.12it/s]"
     ]
    },
    {
     "name": "stdout",
     "output_type": "stream",
     "text": [
      "\n",
      "\n",
      "=============================================================================================================================\n",
      "=============================================================================================================================\n",
      "\n"
     ]
    },
    {
     "name": "stderr",
     "output_type": "stream",
     "text": [
      "[Succeeded / Failed / Skipped / Total] 62 / 14 / 34 / 110:  22%|████▌                | 110/500 [01:38<05:48,  1.12it/s]textattack: Saving checkpoint under \"checkpoints\\1720201442891.ta.chkpt\" at 2024-07-06 01:44:02 after 110 attacks.\n",
      "[Succeeded / Failed / Skipped / Total] 62 / 14 / 35 / 111:  22%|████▋                | 111/500 [01:38<05:44,  1.13it/s]"
     ]
    },
    {
     "name": "stdout",
     "output_type": "stream",
     "text": [
      "\n",
      "\n",
      "=============================================================================================================================\n",
      "=============================================================================================================================\n",
      "\n"
     ]
    },
    {
     "name": "stderr",
     "output_type": "stream",
     "text": [
      "[Succeeded / Failed / Skipped / Total] 63 / 16 / 36 / 115:  23%|████▊                | 115/500 [01:46<05:57,  1.08it/s]textattack: Saving checkpoint under \"checkpoints\\1720201451579.ta.chkpt\" at 2024-07-06 01:44:11 after 115 attacks.\n"
     ]
    },
    {
     "name": "stdout",
     "output_type": "stream",
     "text": [
      "\n",
      "\n",
      "=============================================================================================================================\n",
      "=============================================================================================================================\n",
      "\n"
     ]
    },
    {
     "name": "stderr",
     "output_type": "stream",
     "text": [
      "[Succeeded / Failed / Skipped / Total] 67 / 16 / 37 / 120:  24%|█████                | 120/500 [01:49<05:46,  1.10it/s]textattack: Saving checkpoint under \"checkpoints\\1720201454010.ta.chkpt\" at 2024-07-06 01:44:14 after 120 attacks.\n",
      "[Succeeded / Failed / Skipped / Total] 67 / 16 / 38 / 121:  24%|█████                | 121/500 [01:49<05:42,  1.11it/s]"
     ]
    },
    {
     "name": "stdout",
     "output_type": "stream",
     "text": [
      "\n",
      "\n",
      "=============================================================================================================================\n",
      "=============================================================================================================================\n",
      "\n"
     ]
    },
    {
     "name": "stderr",
     "output_type": "stream",
     "text": [
      "[Succeeded / Failed / Skipped / Total] 69 / 16 / 40 / 125:  25%|█████▎               | 125/500 [01:50<05:31,  1.13it/s]textattack: Saving checkpoint under \"checkpoints\\1720201455267.ta.chkpt\" at 2024-07-06 01:44:15 after 125 attacks.\n"
     ]
    },
    {
     "name": "stdout",
     "output_type": "stream",
     "text": [
      "\n",
      "\n",
      "=============================================================================================================================\n",
      "=============================================================================================================================\n",
      "\n"
     ]
    },
    {
     "name": "stderr",
     "output_type": "stream",
     "text": [
      "[Succeeded / Failed / Skipped / Total] 73 / 16 / 41 / 130:  26%|█████▍               | 130/500 [01:54<05:25,  1.14it/s]textattack: Saving checkpoint under \"checkpoints\\1720201459032.ta.chkpt\" at 2024-07-06 01:44:19 after 130 attacks.\n",
      "[Succeeded / Failed / Skipped / Total] 73 / 16 / 42 / 131:  26%|█████▌               | 131/500 [01:54<05:22,  1.14it/s]"
     ]
    },
    {
     "name": "stdout",
     "output_type": "stream",
     "text": [
      "\n",
      "\n",
      "=============================================================================================================================\n",
      "=============================================================================================================================\n",
      "\n"
     ]
    },
    {
     "name": "stderr",
     "output_type": "stream",
     "text": [
      "[Succeeded / Failed / Skipped / Total] 76 / 16 / 43 / 135:  27%|█████▋               | 135/500 [01:56<05:15,  1.16it/s]textattack: Saving checkpoint under \"checkpoints\\1720201461376.ta.chkpt\" at 2024-07-06 01:44:21 after 135 attacks.\n"
     ]
    },
    {
     "name": "stdout",
     "output_type": "stream",
     "text": [
      "\n",
      "\n",
      "=============================================================================================================================\n",
      "=============================================================================================================================\n",
      "\n"
     ]
    },
    {
     "name": "stderr",
     "output_type": "stream",
     "text": [
      "[Succeeded / Failed / Skipped / Total] 80 / 16 / 44 / 140:  28%|█████▉               | 140/500 [01:59<05:07,  1.17it/s]textattack: Saving checkpoint under \"checkpoints\\1720201464252.ta.chkpt\" at 2024-07-06 01:44:24 after 140 attacks.\n"
     ]
    },
    {
     "name": "stdout",
     "output_type": "stream",
     "text": [
      "\n",
      "\n",
      "=============================================================================================================================\n",
      "=============================================================================================================================\n",
      "\n"
     ]
    },
    {
     "name": "stderr",
     "output_type": "stream",
     "text": [
      "[Succeeded / Failed / Skipped / Total] 84 / 17 / 44 / 145:  29%|██████               | 145/500 [02:06<05:09,  1.15it/s]textattack: Saving checkpoint under \"checkpoints\\1720201470936.ta.chkpt\" at 2024-07-06 01:44:30 after 145 attacks.\n",
      "[Succeeded / Failed / Skipped / Total] 84 / 17 / 46 / 147:  29%|██████▏              | 147/500 [02:06<05:03,  1.16it/s]"
     ]
    },
    {
     "name": "stdout",
     "output_type": "stream",
     "text": [
      "\n",
      "\n",
      "=============================================================================================================================\n",
      "=============================================================================================================================\n",
      "\n"
     ]
    },
    {
     "name": "stderr",
     "output_type": "stream",
     "text": [
      "[Succeeded / Failed / Skipped / Total] 86 / 17 / 47 / 150:  30%|██████▎              | 150/500 [02:07<04:56,  1.18it/s]textattack: Saving checkpoint under \"checkpoints\\1720201471796.ta.chkpt\" at 2024-07-06 01:44:31 after 150 attacks.\n",
      "[Succeeded / Failed / Skipped / Total] 86 / 17 / 49 / 152:  30%|██████▍              | 152/500 [02:07<04:51,  1.19it/s]"
     ]
    },
    {
     "name": "stdout",
     "output_type": "stream",
     "text": [
      "\n",
      "\n",
      "=============================================================================================================================\n",
      "=============================================================================================================================\n",
      "\n"
     ]
    },
    {
     "name": "stderr",
     "output_type": "stream",
     "text": [
      "[Succeeded / Failed / Skipped / Total] 87 / 18 / 50 / 155:  31%|██████▌              | 155/500 [02:08<04:45,  1.21it/s]textattack: Saving checkpoint under \"checkpoints\\1720201472854.ta.chkpt\" at 2024-07-06 01:44:32 after 155 attacks.\n"
     ]
    },
    {
     "name": "stdout",
     "output_type": "stream",
     "text": [
      "\n",
      "\n",
      "=============================================================================================================================\n",
      "=============================================================================================================================\n",
      "\n"
     ]
    },
    {
     "name": "stderr",
     "output_type": "stream",
     "text": [
      "[Succeeded / Failed / Skipped / Total] 90 / 19 / 51 / 160:  32%|██████▋              | 160/500 [02:18<04:54,  1.15it/s]textattack: Saving checkpoint under \"checkpoints\\1720201483238.ta.chkpt\" at 2024-07-06 01:44:43 after 160 attacks.\n",
      "[Succeeded / Failed / Skipped / Total] 90 / 19 / 52 / 161:  32%|██████▊              | 161/500 [02:18<04:51,  1.16it/s]"
     ]
    },
    {
     "name": "stdout",
     "output_type": "stream",
     "text": [
      "\n",
      "\n",
      "=============================================================================================================================\n",
      "=============================================================================================================================\n",
      "\n"
     ]
    },
    {
     "name": "stderr",
     "output_type": "stream",
     "text": [
      "[Succeeded / Failed / Skipped / Total] 93 / 19 / 53 / 165:  33%|██████▉              | 165/500 [02:21<04:47,  1.16it/s]textattack: Saving checkpoint under \"checkpoints\\1720201486504.ta.chkpt\" at 2024-07-06 01:44:46 after 165 attacks.\n",
      "[Succeeded / Failed / Skipped / Total] 93 / 19 / 55 / 167:  33%|███████              | 167/500 [02:21<04:43,  1.18it/s]"
     ]
    },
    {
     "name": "stdout",
     "output_type": "stream",
     "text": [
      "\n",
      "\n",
      "=============================================================================================================================\n",
      "=============================================================================================================================\n",
      "\n"
     ]
    },
    {
     "name": "stderr",
     "output_type": "stream",
     "text": [
      "[Succeeded / Failed / Skipped / Total] 96 / 19 / 55 / 170:  34%|███████▏             | 170/500 [02:24<04:40,  1.18it/s]textattack: Saving checkpoint under \"checkpoints\\1720201489010.ta.chkpt\" at 2024-07-06 01:44:49 after 170 attacks.\n"
     ]
    },
    {
     "name": "stdout",
     "output_type": "stream",
     "text": [
      "\n",
      "\n",
      "=============================================================================================================================\n",
      "=============================================================================================================================\n",
      "\n"
     ]
    },
    {
     "name": "stderr",
     "output_type": "stream",
     "text": [
      "[Succeeded / Failed / Skipped / Total] 98 / 20 / 57 / 175:  35%|███████▎             | 175/500 [02:31<04:41,  1.15it/s]textattack: Saving checkpoint under \"checkpoints\\1720201496364.ta.chkpt\" at 2024-07-06 01:44:56 after 175 attacks.\n"
     ]
    },
    {
     "name": "stdout",
     "output_type": "stream",
     "text": [
      "\n",
      "\n",
      "=============================================================================================================================\n",
      "=============================================================================================================================\n",
      "\n"
     ]
    },
    {
     "name": "stderr",
     "output_type": "stream",
     "text": [
      "[Succeeded / Failed / Skipped / Total] 100 / 22 / 58 / 180:  36%|███████▏            | 180/500 [02:38<04:41,  1.14it/s]textattack: Saving checkpoint under \"checkpoints\\1720201502943.ta.chkpt\" at 2024-07-06 01:45:02 after 180 attacks.\n"
     ]
    },
    {
     "name": "stdout",
     "output_type": "stream",
     "text": [
      "\n",
      "\n",
      "=============================================================================================================================\n",
      "=============================================================================================================================\n",
      "\n"
     ]
    },
    {
     "name": "stderr",
     "output_type": "stream",
     "text": [
      "[Succeeded / Failed / Skipped / Total] 104 / 22 / 59 / 185:  37%|███████▍            | 185/500 [02:40<04:32,  1.15it/s]textattack: Saving checkpoint under \"checkpoints\\1720201505005.ta.chkpt\" at 2024-07-06 01:45:05 after 185 attacks.\n"
     ]
    },
    {
     "name": "stdout",
     "output_type": "stream",
     "text": [
      "\n",
      "\n",
      "=============================================================================================================================\n",
      "=============================================================================================================================\n",
      "\n"
     ]
    },
    {
     "name": "stderr",
     "output_type": "stream",
     "text": [
      "[Succeeded / Failed / Skipped / Total] 107 / 22 / 61 / 190:  38%|███████▌            | 190/500 [02:42<04:25,  1.17it/s]textattack: Saving checkpoint under \"checkpoints\\1720201507537.ta.chkpt\" at 2024-07-06 01:45:07 after 190 attacks.\n"
     ]
    },
    {
     "name": "stdout",
     "output_type": "stream",
     "text": [
      "\n",
      "\n",
      "=============================================================================================================================\n",
      "=============================================================================================================================\n",
      "\n"
     ]
    },
    {
     "name": "stderr",
     "output_type": "stream",
     "text": [
      "[Succeeded / Failed / Skipped / Total] 110 / 24 / 61 / 195:  39%|███████▊            | 195/500 [02:59<04:40,  1.09it/s]textattack: Saving checkpoint under \"checkpoints\\1720201523788.ta.chkpt\" at 2024-07-06 01:45:23 after 195 attacks.\n"
     ]
    },
    {
     "name": "stdout",
     "output_type": "stream",
     "text": [
      "\n",
      "\n",
      "=============================================================================================================================\n",
      "=============================================================================================================================\n",
      "\n"
     ]
    },
    {
     "name": "stderr",
     "output_type": "stream",
     "text": [
      "[Succeeded / Failed / Skipped / Total] 112 / 26 / 62 / 200:  40%|████████            | 200/500 [03:14<04:51,  1.03it/s]textattack: Saving checkpoint under \"checkpoints\\1720201538729.ta.chkpt\" at 2024-07-06 01:45:38 after 200 attacks.\n"
     ]
    },
    {
     "name": "stdout",
     "output_type": "stream",
     "text": [
      "\n",
      "\n",
      "=============================================================================================================================\n",
      "=============================================================================================================================\n",
      "\n"
     ]
    },
    {
     "name": "stderr",
     "output_type": "stream",
     "text": [
      "[Succeeded / Failed / Skipped / Total] 115 / 26 / 64 / 205:  41%|████████▏           | 205/500 [03:16<04:42,  1.04it/s]textattack: Saving checkpoint under \"checkpoints\\1720201540886.ta.chkpt\" at 2024-07-06 01:45:40 after 205 attacks.\n"
     ]
    },
    {
     "name": "stdout",
     "output_type": "stream",
     "text": [
      "\n",
      "\n",
      "=============================================================================================================================\n",
      "=============================================================================================================================\n",
      "\n"
     ]
    },
    {
     "name": "stderr",
     "output_type": "stream",
     "text": [
      "[Succeeded / Failed / Skipped / Total] 118 / 26 / 66 / 210:  42%|████████▍           | 210/500 [03:19<04:35,  1.05it/s]textattack: Saving checkpoint under \"checkpoints\\1720201544167.ta.chkpt\" at 2024-07-06 01:45:44 after 210 attacks.\n"
     ]
    },
    {
     "name": "stdout",
     "output_type": "stream",
     "text": [
      "\n",
      "\n",
      "=============================================================================================================================\n",
      "=============================================================================================================================\n",
      "\n"
     ]
    },
    {
     "name": "stderr",
     "output_type": "stream",
     "text": [
      "[Succeeded / Failed / Skipped / Total] 122 / 27 / 66 / 215:  43%|████████▌           | 215/500 [03:24<04:31,  1.05it/s]textattack: Saving checkpoint under \"checkpoints\\1720201549402.ta.chkpt\" at 2024-07-06 01:45:49 after 215 attacks.\n"
     ]
    },
    {
     "name": "stdout",
     "output_type": "stream",
     "text": [
      "\n",
      "\n",
      "=============================================================================================================================\n",
      "=============================================================================================================================\n",
      "\n"
     ]
    },
    {
     "name": "stderr",
     "output_type": "stream",
     "text": [
      "[Succeeded / Failed / Skipped / Total] 125 / 27 / 68 / 220:  44%|████████▊           | 220/500 [03:28<04:25,  1.06it/s]textattack: Saving checkpoint under \"checkpoints\\1720201553215.ta.chkpt\" at 2024-07-06 01:45:53 after 220 attacks.\n"
     ]
    },
    {
     "name": "stdout",
     "output_type": "stream",
     "text": [
      "\n",
      "\n",
      "=============================================================================================================================\n",
      "=============================================================================================================================\n",
      "\n"
     ]
    },
    {
     "name": "stderr",
     "output_type": "stream",
     "text": [
      "[Succeeded / Failed / Skipped / Total] 129 / 27 / 69 / 225:  45%|█████████           | 225/500 [03:31<04:19,  1.06it/s]textattack: Saving checkpoint under \"checkpoints\\1720201556684.ta.chkpt\" at 2024-07-06 01:45:56 after 225 attacks.\n"
     ]
    },
    {
     "name": "stdout",
     "output_type": "stream",
     "text": [
      "\n",
      "\n",
      "=============================================================================================================================\n",
      "=============================================================================================================================\n",
      "\n"
     ]
    },
    {
     "name": "stderr",
     "output_type": "stream",
     "text": [
      "[Succeeded / Failed / Skipped / Total] 133 / 27 / 70 / 230:  46%|█████████▏          | 230/500 [03:33<04:10,  1.08it/s]textattack: Saving checkpoint under \"checkpoints\\1720201558325.ta.chkpt\" at 2024-07-06 01:45:58 after 230 attacks.\n"
     ]
    },
    {
     "name": "stdout",
     "output_type": "stream",
     "text": [
      "\n",
      "\n",
      "=============================================================================================================================\n",
      "=============================================================================================================================\n",
      "\n"
     ]
    },
    {
     "name": "stderr",
     "output_type": "stream",
     "text": [
      "[Succeeded / Failed / Skipped / Total] 138 / 27 / 70 / 235:  47%|█████████▍          | 235/500 [03:39<04:07,  1.07it/s]textattack: Saving checkpoint under \"checkpoints\\1720201563950.ta.chkpt\" at 2024-07-06 01:46:03 after 235 attacks.\n"
     ]
    },
    {
     "name": "stdout",
     "output_type": "stream",
     "text": [
      "\n",
      "\n",
      "=============================================================================================================================\n",
      "=============================================================================================================================\n",
      "\n"
     ]
    },
    {
     "name": "stderr",
     "output_type": "stream",
     "text": [
      "[Succeeded / Failed / Skipped / Total] 142 / 28 / 70 / 240:  48%|█████████▌          | 240/500 [03:45<04:04,  1.07it/s]textattack: Saving checkpoint under \"checkpoints\\1720201569998.ta.chkpt\" at 2024-07-06 01:46:09 after 240 attacks.\n",
      "[Succeeded / Failed / Skipped / Total] 142 / 28 / 71 / 241:  48%|█████████▋          | 241/500 [03:45<04:02,  1.07it/s]"
     ]
    },
    {
     "name": "stdout",
     "output_type": "stream",
     "text": [
      "\n",
      "\n",
      "=============================================================================================================================\n",
      "=============================================================================================================================\n",
      "\n"
     ]
    },
    {
     "name": "stderr",
     "output_type": "stream",
     "text": [
      "[Succeeded / Failed / Skipped / Total] 145 / 28 / 72 / 245:  49%|█████████▊          | 245/500 [03:49<03:58,  1.07it/s]textattack: Saving checkpoint under \"checkpoints\\1720201574012.ta.chkpt\" at 2024-07-06 01:46:14 after 245 attacks.\n"
     ]
    },
    {
     "name": "stdout",
     "output_type": "stream",
     "text": [
      "\n",
      "\n",
      "=============================================================================================================================\n",
      "=============================================================================================================================\n",
      "\n"
     ]
    },
    {
     "name": "stderr",
     "output_type": "stream",
     "text": [
      "[Succeeded / Failed / Skipped / Total] 149 / 28 / 73 / 250:  50%|██████████          | 250/500 [03:52<03:52,  1.08it/s]textattack: Saving checkpoint under \"checkpoints\\1720201576840.ta.chkpt\" at 2024-07-06 01:46:16 after 250 attacks.\n"
     ]
    },
    {
     "name": "stdout",
     "output_type": "stream",
     "text": [
      "\n",
      "\n",
      "=============================================================================================================================\n",
      "=============================================================================================================================\n",
      "\n"
     ]
    },
    {
     "name": "stderr",
     "output_type": "stream",
     "text": [
      "[Succeeded / Failed / Skipped / Total] 154 / 28 / 73 / 255:  51%|██████████▏         | 255/500 [03:55<03:46,  1.08it/s]textattack: Saving checkpoint under \"checkpoints\\1720201579981.ta.chkpt\" at 2024-07-06 01:46:19 after 255 attacks.\n"
     ]
    },
    {
     "name": "stdout",
     "output_type": "stream",
     "text": [
      "\n",
      "\n",
      "=============================================================================================================================\n",
      "=============================================================================================================================\n",
      "\n"
     ]
    },
    {
     "name": "stderr",
     "output_type": "stream",
     "text": [
      "[Succeeded / Failed / Skipped / Total] 157 / 28 / 75 / 260:  52%|██████████▍         | 260/500 [03:59<03:41,  1.08it/s]textattack: Saving checkpoint under \"checkpoints\\1720201584654.ta.chkpt\" at 2024-07-06 01:46:24 after 260 attacks.\n"
     ]
    },
    {
     "name": "stdout",
     "output_type": "stream",
     "text": [
      "\n",
      "\n",
      "=============================================================================================================================\n",
      "=============================================================================================================================\n",
      "\n"
     ]
    },
    {
     "name": "stderr",
     "output_type": "stream",
     "text": [
      "[Succeeded / Failed / Skipped / Total] 162 / 28 / 75 / 265:  53%|██████████▌         | 265/500 [04:04<03:36,  1.09it/s]textattack: Saving checkpoint under \"checkpoints\\1720201588868.ta.chkpt\" at 2024-07-06 01:46:28 after 265 attacks.\n"
     ]
    },
    {
     "name": "stdout",
     "output_type": "stream",
     "text": [
      "\n",
      "\n",
      "=============================================================================================================================\n",
      "=============================================================================================================================\n",
      "\n"
     ]
    },
    {
     "name": "stderr",
     "output_type": "stream",
     "text": [
      "[Succeeded / Failed / Skipped / Total] 164 / 30 / 76 / 270:  54%|██████████▊         | 270/500 [04:14<03:36,  1.06it/s]textattack: Saving checkpoint under \"checkpoints\\1720201598891.ta.chkpt\" at 2024-07-06 01:46:38 after 270 attacks.\n",
      "[Succeeded / Failed / Skipped / Total] 164 / 30 / 78 / 272:  55%|██████████▉         | 273/500 [04:14<03:31,  1.07it/s]"
     ]
    },
    {
     "name": "stdout",
     "output_type": "stream",
     "text": [
      "\n",
      "\n",
      "=============================================================================================================================\n",
      "=============================================================================================================================\n",
      "\n"
     ]
    },
    {
     "name": "stderr",
     "output_type": "stream",
     "text": [
      "[Succeeded / Failed / Skipped / Total] 165 / 30 / 80 / 275:  55%|███████████         | 275/500 [04:15<03:28,  1.08it/s]textattack: Saving checkpoint under \"checkpoints\\1720201600095.ta.chkpt\" at 2024-07-06 01:46:40 after 275 attacks.\n"
     ]
    },
    {
     "name": "stdout",
     "output_type": "stream",
     "text": [
      "\n",
      "\n",
      "=============================================================================================================================\n",
      "=============================================================================================================================\n",
      "\n"
     ]
    },
    {
     "name": "stderr",
     "output_type": "stream",
     "text": [
      "[Succeeded / Failed / Skipped / Total] 168 / 30 / 82 / 280:  56%|███████████▏        | 280/500 [04:17<03:21,  1.09it/s]textattack: Saving checkpoint under \"checkpoints\\1720201601751.ta.chkpt\" at 2024-07-06 01:46:41 after 280 attacks.\n"
     ]
    },
    {
     "name": "stdout",
     "output_type": "stream",
     "text": [
      "\n",
      "\n",
      "=============================================================================================================================\n",
      "=============================================================================================================================\n",
      "\n"
     ]
    },
    {
     "name": "stderr",
     "output_type": "stream",
     "text": [
      "[Succeeded / Failed / Skipped / Total] 171 / 31 / 83 / 285:  57%|███████████▍        | 285/500 [04:21<03:17,  1.09it/s]textattack: Saving checkpoint under \"checkpoints\\1720201606517.ta.chkpt\" at 2024-07-06 01:46:46 after 285 attacks.\n"
     ]
    },
    {
     "name": "stdout",
     "output_type": "stream",
     "text": [
      "\n",
      "\n",
      "=============================================================================================================================\n",
      "=============================================================================================================================\n",
      "\n"
     ]
    },
    {
     "name": "stderr",
     "output_type": "stream",
     "text": [
      "[Succeeded / Failed / Skipped / Total] 176 / 31 / 83 / 290:  58%|███████████▌        | 290/500 [04:24<03:11,  1.10it/s]textattack: Saving checkpoint under \"checkpoints\\1720201609455.ta.chkpt\" at 2024-07-06 01:46:49 after 290 attacks.\n",
      "[Succeeded / Failed / Skipped / Total] 176 / 31 / 84 / 291:  58%|███████████▋        | 291/500 [04:24<03:10,  1.10it/s]"
     ]
    },
    {
     "name": "stdout",
     "output_type": "stream",
     "text": [
      "\n",
      "\n",
      "=============================================================================================================================\n",
      "=============================================================================================================================\n",
      "\n"
     ]
    },
    {
     "name": "stderr",
     "output_type": "stream",
     "text": [
      "[Succeeded / Failed / Skipped / Total] 178 / 32 / 85 / 295:  59%|███████████▊        | 295/500 [04:29<03:07,  1.10it/s]textattack: Saving checkpoint under \"checkpoints\\1720201614030.ta.chkpt\" at 2024-07-06 01:46:54 after 295 attacks.\n"
     ]
    },
    {
     "name": "stdout",
     "output_type": "stream",
     "text": [
      "\n",
      "\n",
      "=============================================================================================================================\n",
      "=============================================================================================================================\n",
      "\n"
     ]
    },
    {
     "name": "stderr",
     "output_type": "stream",
     "text": [
      "[Succeeded / Failed / Skipped / Total] 180 / 33 / 87 / 300:  60%|████████████        | 300/500 [04:32<03:01,  1.10it/s]textattack: Saving checkpoint under \"checkpoints\\1720201617655.ta.chkpt\" at 2024-07-06 01:46:57 after 300 attacks.\n"
     ]
    },
    {
     "name": "stdout",
     "output_type": "stream",
     "text": [
      "\n",
      "\n",
      "=============================================================================================================================\n",
      "=============================================================================================================================\n",
      "\n"
     ]
    },
    {
     "name": "stderr",
     "output_type": "stream",
     "text": [
      "[Succeeded / Failed / Skipped / Total] 184 / 33 / 88 / 305:  61%|████████████▏       | 305/500 [04:36<02:56,  1.10it/s]textattack: Saving checkpoint under \"checkpoints\\1720201621499.ta.chkpt\" at 2024-07-06 01:47:01 after 305 attacks.\n"
     ]
    },
    {
     "name": "stdout",
     "output_type": "stream",
     "text": [
      "\n",
      "\n",
      "=============================================================================================================================\n",
      "=============================================================================================================================\n",
      "\n"
     ]
    },
    {
     "name": "stderr",
     "output_type": "stream",
     "text": [
      "[Succeeded / Failed / Skipped / Total] 185 / 36 / 89 / 310:  62%|████████████▍       | 310/500 [04:40<02:52,  1.10it/s]textattack: Saving checkpoint under \"checkpoints\\1720201625331.ta.chkpt\" at 2024-07-06 01:47:05 after 310 attacks.\n"
     ]
    },
    {
     "name": "stdout",
     "output_type": "stream",
     "text": [
      "\n",
      "\n",
      "=============================================================================================================================\n",
      "=============================================================================================================================\n",
      "\n"
     ]
    },
    {
     "name": "stderr",
     "output_type": "stream",
     "text": [
      "[Succeeded / Failed / Skipped / Total] 189 / 36 / 90 / 315:  63%|████████████▌       | 315/500 [04:43<02:46,  1.11it/s]textattack: Saving checkpoint under \"checkpoints\\1720201628316.ta.chkpt\" at 2024-07-06 01:47:08 after 315 attacks.\n"
     ]
    },
    {
     "name": "stdout",
     "output_type": "stream",
     "text": [
      "\n",
      "\n",
      "=============================================================================================================================\n",
      "=============================================================================================================================\n",
      "\n"
     ]
    },
    {
     "name": "stderr",
     "output_type": "stream",
     "text": [
      "[Succeeded / Failed / Skipped / Total] 191 / 37 / 92 / 320:  64%|████████████▊       | 320/500 [04:50<02:43,  1.10it/s]textattack: Saving checkpoint under \"checkpoints\\1720201635142.ta.chkpt\" at 2024-07-06 01:47:15 after 320 attacks.\n"
     ]
    },
    {
     "name": "stdout",
     "output_type": "stream",
     "text": [
      "\n",
      "\n",
      "=============================================================================================================================\n",
      "=============================================================================================================================\n",
      "\n"
     ]
    },
    {
     "name": "stderr",
     "output_type": "stream",
     "text": [
      "[Succeeded / Failed / Skipped / Total] 195 / 38 / 92 / 325:  65%|█████████████       | 325/500 [04:59<02:41,  1.08it/s]textattack: Saving checkpoint under \"checkpoints\\1720201644518.ta.chkpt\" at 2024-07-06 01:47:24 after 325 attacks.\n"
     ]
    },
    {
     "name": "stdout",
     "output_type": "stream",
     "text": [
      "\n",
      "\n",
      "=============================================================================================================================\n",
      "=============================================================================================================================\n",
      "\n"
     ]
    },
    {
     "name": "stderr",
     "output_type": "stream",
     "text": [
      "[Succeeded / Failed / Skipped / Total] 199 / 39 / 92 / 330:  66%|█████████████▏      | 330/500 [05:02<02:35,  1.09it/s]textattack: Saving checkpoint under \"checkpoints\\1720201647379.ta.chkpt\" at 2024-07-06 01:47:27 after 330 attacks.\n"
     ]
    },
    {
     "name": "stdout",
     "output_type": "stream",
     "text": [
      "\n",
      "\n",
      "=============================================================================================================================\n",
      "=============================================================================================================================\n",
      "\n"
     ]
    },
    {
     "name": "stderr",
     "output_type": "stream",
     "text": [
      "[Succeeded / Failed / Skipped / Total] 201 / 41 / 93 / 335:  67%|█████████████▍      | 335/500 [05:11<02:33,  1.07it/s]textattack: Saving checkpoint under \"checkpoints\\1720201656396.ta.chkpt\" at 2024-07-06 01:47:36 after 335 attacks.\n",
      "[Succeeded / Failed / Skipped / Total] 201 / 41 / 94 / 336:  67%|█████████████▍      | 336/500 [05:11<02:32,  1.08it/s]"
     ]
    },
    {
     "name": "stdout",
     "output_type": "stream",
     "text": [
      "\n",
      "\n",
      "=============================================================================================================================\n",
      "=============================================================================================================================\n",
      "\n"
     ]
    },
    {
     "name": "stderr",
     "output_type": "stream",
     "text": [
      "[Succeeded / Failed / Skipped / Total] 203 / 42 / 95 / 340:  68%|█████████████▌      | 340/500 [05:16<02:28,  1.07it/s]textattack: Saving checkpoint under \"checkpoints\\1720201661116.ta.chkpt\" at 2024-07-06 01:47:41 after 340 attacks.\n"
     ]
    },
    {
     "name": "stdout",
     "output_type": "stream",
     "text": [
      "\n",
      "\n",
      "=============================================================================================================================\n",
      "=============================================================================================================================\n",
      "\n"
     ]
    },
    {
     "name": "stderr",
     "output_type": "stream",
     "text": [
      "[Succeeded / Failed / Skipped / Total] 205 / 43 / 97 / 345:  69%|█████████████▊      | 345/500 [05:21<02:24,  1.07it/s]textattack: Saving checkpoint under \"checkpoints\\1720201666163.ta.chkpt\" at 2024-07-06 01:47:46 after 345 attacks.\n"
     ]
    },
    {
     "name": "stdout",
     "output_type": "stream",
     "text": [
      "\n",
      "\n",
      "=============================================================================================================================\n",
      "=============================================================================================================================\n",
      "\n"
     ]
    },
    {
     "name": "stderr",
     "output_type": "stream",
     "text": [
      "[Succeeded / Failed / Skipped / Total] 209 / 43 / 98 / 350:  70%|██████████████      | 350/500 [05:23<02:18,  1.08it/s]textattack: Saving checkpoint under \"checkpoints\\1720201668679.ta.chkpt\" at 2024-07-06 01:47:48 after 350 attacks.\n"
     ]
    },
    {
     "name": "stdout",
     "output_type": "stream",
     "text": [
      "\n",
      "\n",
      "=============================================================================================================================\n",
      "=============================================================================================================================\n",
      "\n"
     ]
    },
    {
     "name": "stderr",
     "output_type": "stream",
     "text": [
      "[Succeeded / Failed / Skipped / Total] 212 / 45 / 98 / 355:  71%|██████████████▏     | 355/500 [05:33<02:16,  1.06it/s]textattack: Saving checkpoint under \"checkpoints\\1720201678078.ta.chkpt\" at 2024-07-06 01:47:58 after 355 attacks.\n",
      "[Succeeded / Failed / Skipped / Total] 212 / 45 / 99 / 356:  71%|██████████████▏     | 356/500 [05:33<02:14,  1.07it/s]"
     ]
    },
    {
     "name": "stdout",
     "output_type": "stream",
     "text": [
      "\n",
      "\n",
      "=============================================================================================================================\n",
      "=============================================================================================================================\n",
      "\n"
     ]
    },
    {
     "name": "stderr",
     "output_type": "stream",
     "text": [
      "[Succeeded / Failed / Skipped / Total] 214 / 46 / 100 / 360:  72%|█████████████▋     | 360/500 [05:38<02:11,  1.06it/s]textattack: Saving checkpoint under \"checkpoints\\1720201683344.ta.chkpt\" at 2024-07-06 01:48:03 after 360 attacks.\n"
     ]
    },
    {
     "name": "stdout",
     "output_type": "stream",
     "text": [
      "\n",
      "\n",
      "=============================================================================================================================\n",
      "=============================================================================================================================\n",
      "\n"
     ]
    },
    {
     "name": "stderr",
     "output_type": "stream",
     "text": [
      "[Succeeded / Failed / Skipped / Total] 219 / 46 / 100 / 365:  73%|█████████████▊     | 365/500 [05:42<02:06,  1.07it/s]textattack: Saving checkpoint under \"checkpoints\\1720201687157.ta.chkpt\" at 2024-07-06 01:48:07 after 365 attacks.\n"
     ]
    },
    {
     "name": "stdout",
     "output_type": "stream",
     "text": [
      "\n",
      "\n",
      "=============================================================================================================================\n",
      "=============================================================================================================================\n",
      "\n"
     ]
    },
    {
     "name": "stderr",
     "output_type": "stream",
     "text": [
      "[Succeeded / Failed / Skipped / Total] 223 / 46 / 101 / 370:  74%|██████████████     | 370/500 [05:44<02:01,  1.07it/s]textattack: Saving checkpoint under \"checkpoints\\1720201689407.ta.chkpt\" at 2024-07-06 01:48:09 after 370 attacks.\n",
      "[Succeeded / Failed / Skipped / Total] 223 / 46 / 102 / 371:  74%|██████████████     | 371/500 [05:44<01:59,  1.08it/s]"
     ]
    },
    {
     "name": "stdout",
     "output_type": "stream",
     "text": [
      "\n",
      "\n",
      "=============================================================================================================================\n",
      "=============================================================================================================================\n",
      "\n"
     ]
    },
    {
     "name": "stderr",
     "output_type": "stream",
     "text": [
      "[Succeeded / Failed / Skipped / Total] 225 / 48 / 102 / 375:  75%|██████████████▎    | 375/500 [05:52<01:57,  1.06it/s]textattack: Saving checkpoint under \"checkpoints\\1720201697315.ta.chkpt\" at 2024-07-06 01:48:17 after 375 attacks.\n"
     ]
    },
    {
     "name": "stdout",
     "output_type": "stream",
     "text": [
      "\n",
      "\n",
      "=============================================================================================================================\n",
      "=============================================================================================================================\n",
      "\n"
     ]
    },
    {
     "name": "stderr",
     "output_type": "stream",
     "text": [
      "[Succeeded / Failed / Skipped / Total] 228 / 48 / 104 / 380:  76%|██████████████▍    | 380/500 [05:54<01:51,  1.07it/s]textattack: Saving checkpoint under \"checkpoints\\1720201699299.ta.chkpt\" at 2024-07-06 01:48:19 after 380 attacks.\n"
     ]
    },
    {
     "name": "stdout",
     "output_type": "stream",
     "text": [
      "\n",
      "\n",
      "=============================================================================================================================\n",
      "=============================================================================================================================\n",
      "\n"
     ]
    },
    {
     "name": "stderr",
     "output_type": "stream",
     "text": [
      "[Succeeded / Failed / Skipped / Total] 230 / 50 / 105 / 385:  77%|██████████████▋    | 385/500 [06:04<01:48,  1.06it/s]textattack: Saving checkpoint under \"checkpoints\\1720201709175.ta.chkpt\" at 2024-07-06 01:48:29 after 385 attacks.\n"
     ]
    },
    {
     "name": "stdout",
     "output_type": "stream",
     "text": [
      "\n",
      "\n",
      "=============================================================================================================================\n",
      "=============================================================================================================================\n",
      "\n"
     ]
    },
    {
     "name": "stderr",
     "output_type": "stream",
     "text": [
      "[Succeeded / Failed / Skipped / Total] 234 / 50 / 106 / 390:  78%|██████████████▊    | 390/500 [06:07<01:43,  1.06it/s]textattack: Saving checkpoint under \"checkpoints\\1720201712050.ta.chkpt\" at 2024-07-06 01:48:32 after 390 attacks.\n"
     ]
    },
    {
     "name": "stdout",
     "output_type": "stream",
     "text": [
      "\n",
      "\n",
      "=============================================================================================================================\n",
      "=============================================================================================================================\n",
      "\n"
     ]
    },
    {
     "name": "stderr",
     "output_type": "stream",
     "text": [
      "[Succeeded / Failed / Skipped / Total] 239 / 50 / 106 / 395:  79%|███████████████    | 395/500 [06:15<01:39,  1.05it/s]textattack: Saving checkpoint under \"checkpoints\\1720201720004.ta.chkpt\" at 2024-07-06 01:48:40 after 395 attacks.\n"
     ]
    },
    {
     "name": "stdout",
     "output_type": "stream",
     "text": [
      "\n",
      "\n",
      "=============================================================================================================================\n",
      "=============================================================================================================================\n",
      "\n"
     ]
    },
    {
     "name": "stderr",
     "output_type": "stream",
     "text": [
      "[Succeeded / Failed / Skipped / Total] 244 / 50 / 106 / 400:  80%|███████████████▏   | 400/500 [06:20<01:35,  1.05it/s]textattack: Saving checkpoint under \"checkpoints\\1720201725161.ta.chkpt\" at 2024-07-06 01:48:45 after 400 attacks.\n"
     ]
    },
    {
     "name": "stdout",
     "output_type": "stream",
     "text": [
      "\n",
      "\n",
      "=============================================================================================================================\n",
      "=============================================================================================================================\n",
      "\n"
     ]
    },
    {
     "name": "stderr",
     "output_type": "stream",
     "text": [
      "[Succeeded / Failed / Skipped / Total] 246 / 52 / 107 / 405:  81%|███████████████▍   | 405/500 [06:27<01:30,  1.04it/s]textattack: Saving checkpoint under \"checkpoints\\1720201732377.ta.chkpt\" at 2024-07-06 01:48:52 after 405 attacks.\n"
     ]
    },
    {
     "name": "stdout",
     "output_type": "stream",
     "text": [
      "\n",
      "\n",
      "=============================================================================================================================\n",
      "=============================================================================================================================\n",
      "\n"
     ]
    },
    {
     "name": "stderr",
     "output_type": "stream",
     "text": [
      "[Succeeded / Failed / Skipped / Total] 250 / 52 / 108 / 410:  82%|███████████████▌   | 410/500 [06:31<01:25,  1.05it/s]textattack: Saving checkpoint under \"checkpoints\\1720201736022.ta.chkpt\" at 2024-07-06 01:48:56 after 410 attacks.\n"
     ]
    },
    {
     "name": "stdout",
     "output_type": "stream",
     "text": [
      "\n",
      "\n",
      "=============================================================================================================================\n",
      "=============================================================================================================================\n",
      "\n"
     ]
    },
    {
     "name": "stderr",
     "output_type": "stream",
     "text": [
      "[Succeeded / Failed / Skipped / Total] 253 / 52 / 110 / 415:  83%|███████████████▊   | 415/500 [06:32<01:20,  1.06it/s]textattack: Saving checkpoint under \"checkpoints\\1720201737553.ta.chkpt\" at 2024-07-06 01:48:57 after 415 attacks.\n"
     ]
    },
    {
     "name": "stdout",
     "output_type": "stream",
     "text": [
      "\n",
      "\n",
      "=============================================================================================================================\n",
      "=============================================================================================================================\n",
      "\n"
     ]
    },
    {
     "name": "stderr",
     "output_type": "stream",
     "text": [
      "[Succeeded / Failed / Skipped / Total] 254 / 53 / 113 / 420:  84%|███████████████▉   | 420/500 [06:39<01:16,  1.05it/s]textattack: Saving checkpoint under \"checkpoints\\1720201744132.ta.chkpt\" at 2024-07-06 01:49:04 after 420 attacks.\n"
     ]
    },
    {
     "name": "stdout",
     "output_type": "stream",
     "text": [
      "\n",
      "\n",
      "=============================================================================================================================\n",
      "=============================================================================================================================\n",
      "\n"
     ]
    },
    {
     "name": "stderr",
     "output_type": "stream",
     "text": [
      "[Succeeded / Failed / Skipped / Total] 259 / 53 / 113 / 425:  85%|████████████████▏  | 425/500 [06:43<01:11,  1.05it/s]textattack: Saving checkpoint under \"checkpoints\\1720201747770.ta.chkpt\" at 2024-07-06 01:49:07 after 425 attacks.\n"
     ]
    },
    {
     "name": "stdout",
     "output_type": "stream",
     "text": [
      "\n",
      "\n",
      "=============================================================================================================================\n",
      "=============================================================================================================================\n",
      "\n"
     ]
    },
    {
     "name": "stderr",
     "output_type": "stream",
     "text": [
      "[Succeeded / Failed / Skipped / Total] 260 / 55 / 115 / 430:  86%|████████████████▎  | 430/500 [06:52<01:07,  1.04it/s]textattack: Saving checkpoint under \"checkpoints\\1720201756927.ta.chkpt\" at 2024-07-06 01:49:16 after 430 attacks.\n",
      "[Succeeded / Failed / Skipped / Total] 260 / 55 / 116 / 431:  86%|████████████████▍  | 431/500 [06:52<01:06,  1.05it/s]"
     ]
    },
    {
     "name": "stdout",
     "output_type": "stream",
     "text": [
      "\n",
      "\n",
      "=============================================================================================================================\n",
      "=============================================================================================================================\n",
      "\n"
     ]
    },
    {
     "name": "stderr",
     "output_type": "stream",
     "text": [
      "[Succeeded / Failed / Skipped / Total] 262 / 55 / 118 / 435:  87%|████████████████▌  | 435/500 [06:53<01:01,  1.05it/s]textattack: Saving checkpoint under \"checkpoints\\1720201758255.ta.chkpt\" at 2024-07-06 01:49:18 after 435 attacks.\n"
     ]
    },
    {
     "name": "stdout",
     "output_type": "stream",
     "text": [
      "\n",
      "\n",
      "=============================================================================================================================\n",
      "=============================================================================================================================\n",
      "\n"
     ]
    },
    {
     "name": "stderr",
     "output_type": "stream",
     "text": [
      "[Succeeded / Failed / Skipped / Total] 264 / 58 / 118 / 440:  88%|████████████████▋  | 440/500 [07:09<00:58,  1.02it/s]textattack: Saving checkpoint under \"checkpoints\\1720201774070.ta.chkpt\" at 2024-07-06 01:49:34 after 440 attacks.\n",
      "[Succeeded / Failed / Skipped / Total] 264 / 58 / 119 / 441:  88%|████████████████▊  | 441/500 [07:09<00:57,  1.03it/s]"
     ]
    },
    {
     "name": "stdout",
     "output_type": "stream",
     "text": [
      "\n",
      "\n",
      "=============================================================================================================================\n",
      "=============================================================================================================================\n",
      "\n"
     ]
    },
    {
     "name": "stderr",
     "output_type": "stream",
     "text": [
      "[Succeeded / Failed / Skipped / Total] 267 / 58 / 120 / 445:  89%|████████████████▉  | 445/500 [07:11<00:53,  1.03it/s]textattack: Saving checkpoint under \"checkpoints\\1720201776251.ta.chkpt\" at 2024-07-06 01:49:36 after 445 attacks.\n"
     ]
    },
    {
     "name": "stdout",
     "output_type": "stream",
     "text": [
      "\n",
      "\n",
      "=============================================================================================================================\n",
      "=============================================================================================================================\n",
      "\n"
     ]
    },
    {
     "name": "stderr",
     "output_type": "stream",
     "text": [
      "[Succeeded / Failed / Skipped / Total] 268 / 59 / 123 / 450:  90%|█████████████████  | 450/500 [07:15<00:48,  1.03it/s]textattack: Saving checkpoint under \"checkpoints\\1720201780486.ta.chkpt\" at 2024-07-06 01:49:40 after 450 attacks.\n"
     ]
    },
    {
     "name": "stdout",
     "output_type": "stream",
     "text": [
      "\n",
      "\n",
      "=============================================================================================================================\n",
      "=============================================================================================================================\n",
      "\n"
     ]
    },
    {
     "name": "stderr",
     "output_type": "stream",
     "text": [
      "[Succeeded / Failed / Skipped / Total] 272 / 60 / 123 / 455:  91%|█████████████████▎ | 455/500 [07:25<00:44,  1.02it/s]textattack: Saving checkpoint under \"checkpoints\\1720201790097.ta.chkpt\" at 2024-07-06 01:49:50 after 455 attacks.\n",
      "[Succeeded / Failed / Skipped / Total] 272 / 60 / 124 / 456:  91%|█████████████████▎ | 456/500 [07:25<00:42,  1.02it/s]"
     ]
    },
    {
     "name": "stdout",
     "output_type": "stream",
     "text": [
      "\n",
      "\n",
      "=============================================================================================================================\n",
      "=============================================================================================================================\n",
      "\n"
     ]
    },
    {
     "name": "stderr",
     "output_type": "stream",
     "text": [
      "[Succeeded / Failed / Skipped / Total] 274 / 61 / 125 / 460:  92%|█████████████████▍ | 460/500 [07:32<00:39,  1.02it/s]textattack: Saving checkpoint under \"checkpoints\\1720201796754.ta.chkpt\" at 2024-07-06 01:49:56 after 460 attacks.\n"
     ]
    },
    {
     "name": "stdout",
     "output_type": "stream",
     "text": [
      "\n",
      "\n",
      "=============================================================================================================================\n",
      "=============================================================================================================================\n",
      "\n"
     ]
    },
    {
     "name": "stderr",
     "output_type": "stream",
     "text": [
      "[Succeeded / Failed / Skipped / Total] 278 / 62 / 125 / 465:  93%|█████████████████▋ | 465/500 [07:46<00:35,  1.00s/it]textattack: Saving checkpoint under \"checkpoints\\1720201811145.ta.chkpt\" at 2024-07-06 01:50:11 after 465 attacks.\n"
     ]
    },
    {
     "name": "stdout",
     "output_type": "stream",
     "text": [
      "\n",
      "\n",
      "=============================================================================================================================\n",
      "=============================================================================================================================\n",
      "\n"
     ]
    },
    {
     "name": "stderr",
     "output_type": "stream",
     "text": [
      "[Succeeded / Failed / Skipped / Total] 281 / 63 / 126 / 470:  94%|█████████████████▊ | 470/500 [07:51<00:30,  1.00s/it]textattack: Saving checkpoint under \"checkpoints\\1720201816397.ta.chkpt\" at 2024-07-06 01:50:16 after 470 attacks.\n"
     ]
    },
    {
     "name": "stdout",
     "output_type": "stream",
     "text": [
      "\n",
      "\n",
      "=============================================================================================================================\n",
      "=============================================================================================================================\n",
      "\n"
     ]
    },
    {
     "name": "stderr",
     "output_type": "stream",
     "text": [
      "[Succeeded / Failed / Skipped / Total] 285 / 63 / 127 / 475:  95%|██████████████████ | 475/500 [07:55<00:25,  1.00s/it]textattack: Saving checkpoint under \"checkpoints\\1720201819835.ta.chkpt\" at 2024-07-06 01:50:19 after 475 attacks.\n"
     ]
    },
    {
     "name": "stdout",
     "output_type": "stream",
     "text": [
      "\n",
      "\n",
      "=============================================================================================================================\n",
      "=============================================================================================================================\n",
      "\n"
     ]
    },
    {
     "name": "stderr",
     "output_type": "stream",
     "text": [
      "[Succeeded / Failed / Skipped / Total] 287 / 66 / 127 / 480:  96%|██████████████████▏| 480/500 [08:04<00:20,  1.01s/it]textattack: Saving checkpoint under \"checkpoints\\1720201828898.ta.chkpt\" at 2024-07-06 01:50:28 after 480 attacks.\n"
     ]
    },
    {
     "name": "stdout",
     "output_type": "stream",
     "text": [
      "\n",
      "\n",
      "=============================================================================================================================\n",
      "=============================================================================================================================\n",
      "\n"
     ]
    },
    {
     "name": "stderr",
     "output_type": "stream",
     "text": [
      "[Succeeded / Failed / Skipped / Total] 289 / 68 / 128 / 485:  97%|██████████████████▍| 485/500 [08:12<00:15,  1.02s/it]textattack: Saving checkpoint under \"checkpoints\\1720201837574.ta.chkpt\" at 2024-07-06 01:50:37 after 485 attacks.\n"
     ]
    },
    {
     "name": "stdout",
     "output_type": "stream",
     "text": [
      "\n",
      "\n",
      "=============================================================================================================================\n",
      "=============================================================================================================================\n",
      "\n"
     ]
    },
    {
     "name": "stderr",
     "output_type": "stream",
     "text": [
      "[Succeeded / Failed / Skipped / Total] 293 / 68 / 129 / 490:  98%|██████████████████▌| 490/500 [08:16<00:10,  1.01s/it]textattack: Saving checkpoint under \"checkpoints\\1720201841684.ta.chkpt\" at 2024-07-06 01:50:41 after 490 attacks.\n"
     ]
    },
    {
     "name": "stdout",
     "output_type": "stream",
     "text": [
      "\n",
      "\n",
      "=============================================================================================================================\n",
      "=============================================================================================================================\n",
      "\n"
     ]
    },
    {
     "name": "stderr",
     "output_type": "stream",
     "text": [
      "[Succeeded / Failed / Skipped / Total] 295 / 69 / 131 / 495:  99%|██████████████████▊| 495/500 [08:24<00:05,  1.02s/it]textattack: Saving checkpoint under \"checkpoints\\1720201849576.ta.chkpt\" at 2024-07-06 01:50:49 after 495 attacks.\n",
      "[Succeeded / Failed / Skipped / Total] 295 / 69 / 132 / 496:  99%|██████████████████▊| 496/500 [08:24<00:04,  1.02s/it]"
     ]
    },
    {
     "name": "stdout",
     "output_type": "stream",
     "text": [
      "\n",
      "\n",
      "=============================================================================================================================\n",
      "=============================================================================================================================\n",
      "\n"
     ]
    },
    {
     "name": "stderr",
     "output_type": "stream",
     "text": [
      "[Succeeded / Failed / Skipped / Total] 296 / 72 / 132 / 500: 100%|███████████████████| 500/500 [08:36<00:00,  1.03s/it]textattack: Saving checkpoint under \"checkpoints\\1720201861061.ta.chkpt\" at 2024-07-06 01:51:01 after 500 attacks.\n",
      "[Succeeded / Failed / Skipped / Total] 296 / 72 / 132 / 500: 100%|███████████████████| 500/500 [08:36<00:00,  1.03s/it]"
     ]
    },
    {
     "name": "stdout",
     "output_type": "stream",
     "text": [
      "\n",
      "\n",
      "=============================================================================================================================\n",
      "=============================================================================================================================\n",
      "\n",
      "\n",
      "+-------------------------------+--------+\n",
      "| Attack Results                |        |\n",
      "+-------------------------------+--------+\n",
      "| Number of successful attacks: | 296    |\n",
      "| Number of failed attacks:     | 72     |\n",
      "| Number of skipped attacks:    | 132    |\n",
      "| Original accuracy:            | 73.6%  |\n",
      "| Accuracy under attack:        | 14.4%  |\n",
      "| Attack success rate:          | 80.43% |\n",
      "| Average perturbed word %:     | 11.09% |\n",
      "| Average num. words per input: | 18.4   |\n",
      "| Avg num queries:              | 47.58  |\n",
      "+-------------------------------+--------+\n"
     ]
    },
    {
     "name": "stderr",
     "output_type": "stream",
     "text": [
      "\n"
     ]
    }
   ],
   "source": [
    "runAttack(disbert_model_wrapper_knn_mr, n_samples, 'attack_results_new/disbertmrattackknn'+suffix, target_ds_mr)"
   ]
  },
  {
   "cell_type": "code",
   "execution_count": 23,
   "id": "b1a8d0d7-317e-48dd-a484-6c6034af2aad",
   "metadata": {},
   "outputs": [
    {
     "name": "stderr",
     "output_type": "stream",
     "text": [
      "textattack: Unknown if model of class <class 'transformers.models.distilbert.modeling_distilbert.DistilBertModel'> compatible with goal function <class 'textattack.goal_functions.classification.untargeted_classification.UntargetedClassification'>.\n",
      "textattack: Logging to CSV at path attack_results_new/disbertmrattacksvcsim07.csv\n"
     ]
    },
    {
     "name": "stdout",
     "output_type": "stream",
     "text": [
      "Attack(\n",
      "  (search_method): GreedyWordSwapWIR(\n",
      "    (wir_method):  delete\n",
      "  )\n",
      "  (goal_function):  UntargetedClassification\n",
      "  (transformation):  WordSwapEmbedding(\n",
      "    (max_candidates):  50\n",
      "    (embedding):  WordEmbedding\n",
      "  )\n",
      "  (constraints): \n",
      "    (0): WordEmbeddingDistance(\n",
      "        (embedding):  WordEmbedding\n",
      "        (min_cos_sim):  0.7\n",
      "        (cased):  False\n",
      "        (include_unknown_words):  True\n",
      "        (compare_against_original):  True\n",
      "      )\n",
      "    (1): PartOfSpeech(\n",
      "        (tagger_type):  nltk\n",
      "        (tagset):  universal\n",
      "        (allow_verb_noun_swap):  True\n",
      "        (compare_against_original):  True\n",
      "      )\n",
      "    (2): UniversalSentenceEncoder(\n",
      "        (metric):  angular\n",
      "        (threshold):  0.840845057\n",
      "        (window_size):  15\n",
      "        (skip_text_shorter_than_window):  True\n",
      "        (compare_against_original):  False\n",
      "      )\n",
      "    (3): RepeatModification\n",
      "    (4): StopwordModification\n",
      "    (5): InputColumnModification(\n",
      "        (matching_column_labels):  ['premise', 'hypothesis']\n",
      "        (columns_to_ignore):  {'premise'}\n",
      "      )\n",
      "  (is_black_box):  True\n",
      ") \n",
      "\n"
     ]
    },
    {
     "name": "stderr",
     "output_type": "stream",
     "text": [
      "[Succeeded / Failed / Skipped / Total] 3 / 1 / 1 / 5:   1%|▎                           | 5/500 [00:12<20:12,  2.45s/it]textattack: Saving checkpoint under \"checkpoints\\1720201873492.ta.chkpt\" at 2024-07-06 01:51:13 after 5 attacks.\n",
      "[Succeeded / Failed / Skipped / Total] 3 / 1 / 3 / 7:   1%|▍                           | 7/500 [00:12<14:35,  1.78s/it]"
     ]
    },
    {
     "name": "stdout",
     "output_type": "stream",
     "text": [
      "\n",
      "\n",
      "=============================================================================================================================\n",
      "=============================================================================================================================\n",
      "\n"
     ]
    },
    {
     "name": "stderr",
     "output_type": "stream",
     "text": [
      "[Succeeded / Failed / Skipped / Total] 6 / 1 / 3 / 10:   2%|▌                         | 10/500 [00:17<14:08,  1.73s/it]textattack: Saving checkpoint under \"checkpoints\\1720201878568.ta.chkpt\" at 2024-07-06 01:51:18 after 10 attacks.\n"
     ]
    },
    {
     "name": "stdout",
     "output_type": "stream",
     "text": [
      "\n",
      "\n",
      "=============================================================================================================================\n",
      "=============================================================================================================================\n",
      "\n"
     ]
    },
    {
     "name": "stderr",
     "output_type": "stream",
     "text": [
      "[Succeeded / Failed / Skipped / Total] 9 / 2 / 4 / 15:   3%|▊                         | 15/500 [00:28<15:18,  1.89s/it]textattack: Saving checkpoint under \"checkpoints\\1720201889648.ta.chkpt\" at 2024-07-06 01:51:29 after 15 attacks.\n"
     ]
    },
    {
     "name": "stdout",
     "output_type": "stream",
     "text": [
      "\n",
      "\n",
      "=============================================================================================================================\n",
      "=============================================================================================================================\n",
      "\n"
     ]
    },
    {
     "name": "stderr",
     "output_type": "stream",
     "text": [
      "[Succeeded / Failed / Skipped / Total] 11 / 4 / 5 / 20:   4%|█                        | 20/500 [00:32<12:56,  1.62s/it]textattack: Saving checkpoint under \"checkpoints\\1720201893591.ta.chkpt\" at 2024-07-06 01:51:33 after 20 attacks.\n"
     ]
    },
    {
     "name": "stdout",
     "output_type": "stream",
     "text": [
      "\n",
      "\n",
      "=============================================================================================================================\n",
      "=============================================================================================================================\n",
      "\n"
     ]
    },
    {
     "name": "stderr",
     "output_type": "stream",
     "text": [
      "[Succeeded / Failed / Skipped / Total] 14 / 4 / 7 / 25:   5%|█▎                       | 25/500 [00:35<11:10,  1.41s/it]textattack: Saving checkpoint under \"checkpoints\\1720201896528.ta.chkpt\" at 2024-07-06 01:51:36 after 25 attacks.\n"
     ]
    },
    {
     "name": "stdout",
     "output_type": "stream",
     "text": [
      "\n",
      "\n",
      "=============================================================================================================================\n",
      "=============================================================================================================================\n",
      "\n"
     ]
    },
    {
     "name": "stderr",
     "output_type": "stream",
     "text": [
      "[Succeeded / Failed / Skipped / Total] 18 / 5 / 7 / 30:   6%|█▌                       | 30/500 [00:38<10:09,  1.30s/it]textattack: Saving checkpoint under \"checkpoints\\1720201900140.ta.chkpt\" at 2024-07-06 01:51:40 after 30 attacks.\n"
     ]
    },
    {
     "name": "stdout",
     "output_type": "stream",
     "text": [
      "\n",
      "\n",
      "=============================================================================================================================\n",
      "=============================================================================================================================\n",
      "\n"
     ]
    },
    {
     "name": "stderr",
     "output_type": "stream",
     "text": [
      "[Succeeded / Failed / Skipped / Total] 21 / 5 / 9 / 35:   7%|█▊                       | 35/500 [00:42<09:19,  1.20s/it]textattack: Saving checkpoint under \"checkpoints\\1720201903375.ta.chkpt\" at 2024-07-06 01:51:43 after 35 attacks.\n"
     ]
    },
    {
     "name": "stdout",
     "output_type": "stream",
     "text": [
      "\n",
      "\n",
      "=============================================================================================================================\n",
      "=============================================================================================================================\n",
      "\n"
     ]
    },
    {
     "name": "stderr",
     "output_type": "stream",
     "text": [
      "[Succeeded / Failed / Skipped / Total] 25 / 5 / 10 / 40:   8%|█▉                      | 40/500 [00:46<08:50,  1.15s/it]textattack: Saving checkpoint under \"checkpoints\\1720201907407.ta.chkpt\" at 2024-07-06 01:51:47 after 40 attacks.\n"
     ]
    },
    {
     "name": "stdout",
     "output_type": "stream",
     "text": [
      "\n",
      "\n",
      "=============================================================================================================================\n",
      "=============================================================================================================================\n",
      "\n"
     ]
    },
    {
     "name": "stderr",
     "output_type": "stream",
     "text": [
      "[Succeeded / Failed / Skipped / Total] 29 / 6 / 10 / 45:   9%|██▏                     | 45/500 [00:53<08:59,  1.18s/it]textattack: Saving checkpoint under \"checkpoints\\1720201914573.ta.chkpt\" at 2024-07-06 01:51:54 after 45 attacks.\n"
     ]
    },
    {
     "name": "stdout",
     "output_type": "stream",
     "text": [
      "\n",
      "\n",
      "=============================================================================================================================\n",
      "=============================================================================================================================\n",
      "\n"
     ]
    },
    {
     "name": "stderr",
     "output_type": "stream",
     "text": [
      "[Succeeded / Failed / Skipped / Total] 34 / 6 / 10 / 50:  10%|██▍                     | 50/500 [01:02<09:19,  1.24s/it]textattack: Saving checkpoint under \"checkpoints\\1720201923377.ta.chkpt\" at 2024-07-06 01:52:03 after 50 attacks.\n"
     ]
    },
    {
     "name": "stdout",
     "output_type": "stream",
     "text": [
      "\n",
      "\n",
      "=============================================================================================================================\n",
      "=============================================================================================================================\n",
      "\n"
     ]
    },
    {
     "name": "stderr",
     "output_type": "stream",
     "text": [
      "[Succeeded / Failed / Skipped / Total] 38 / 6 / 11 / 55:  11%|██▋                     | 55/500 [01:10<09:33,  1.29s/it]textattack: Saving checkpoint under \"checkpoints\\1720201932160.ta.chkpt\" at 2024-07-06 01:52:12 after 55 attacks.\n"
     ]
    },
    {
     "name": "stdout",
     "output_type": "stream",
     "text": [
      "\n",
      "\n",
      "=============================================================================================================================\n",
      "=============================================================================================================================\n",
      "\n"
     ]
    },
    {
     "name": "stderr",
     "output_type": "stream",
     "text": [
      "[Succeeded / Failed / Skipped / Total] 41 / 6 / 13 / 60:  12%|██▉                     | 60/500 [01:14<09:05,  1.24s/it]textattack: Saving checkpoint under \"checkpoints\\1720201935653.ta.chkpt\" at 2024-07-06 01:52:15 after 60 attacks.\n",
      "[Succeeded / Failed / Skipped / Total] 41 / 6 / 15 / 62:  12%|██▉                     | 62/500 [01:14<08:46,  1.20s/it]"
     ]
    },
    {
     "name": "stdout",
     "output_type": "stream",
     "text": [
      "\n",
      "\n",
      "=============================================================================================================================\n",
      "=============================================================================================================================\n",
      "\n"
     ]
    },
    {
     "name": "stderr",
     "output_type": "stream",
     "text": [
      "[Succeeded / Failed / Skipped / Total] 44 / 6 / 15 / 65:  13%|███                     | 65/500 [01:16<08:34,  1.18s/it]textattack: Saving checkpoint under \"checkpoints\\1720201938160.ta.chkpt\" at 2024-07-06 01:52:18 after 65 attacks.\n"
     ]
    },
    {
     "name": "stdout",
     "output_type": "stream",
     "text": [
      "\n",
      "\n",
      "=============================================================================================================================\n",
      "=============================================================================================================================\n",
      "\n"
     ]
    },
    {
     "name": "stderr",
     "output_type": "stream",
     "text": [
      "[Succeeded / Failed / Skipped / Total] 45 / 8 / 17 / 70:  14%|███▎                    | 70/500 [01:21<08:18,  1.16s/it]textattack: Saving checkpoint under \"checkpoints\\1720201942457.ta.chkpt\" at 2024-07-06 01:52:22 after 70 attacks.\n"
     ]
    },
    {
     "name": "stdout",
     "output_type": "stream",
     "text": [
      "\n",
      "\n",
      "=============================================================================================================================\n",
      "=============================================================================================================================\n",
      "\n"
     ]
    },
    {
     "name": "stderr",
     "output_type": "stream",
     "text": [
      "[Succeeded / Failed / Skipped / Total] 50 / 8 / 17 / 75:  15%|███▌                    | 75/500 [01:24<07:58,  1.13s/it]textattack: Saving checkpoint under \"checkpoints\\1720201945676.ta.chkpt\" at 2024-07-06 01:52:25 after 75 attacks.\n"
     ]
    },
    {
     "name": "stdout",
     "output_type": "stream",
     "text": [
      "\n",
      "\n",
      "=============================================================================================================================\n",
      "=============================================================================================================================\n",
      "\n"
     ]
    },
    {
     "name": "stderr",
     "output_type": "stream",
     "text": [
      "[Succeeded / Failed / Skipped / Total] 54 / 9 / 17 / 80:  16%|███▊                    | 80/500 [01:30<07:55,  1.13s/it]textattack: Saving checkpoint under \"checkpoints\\1720201951911.ta.chkpt\" at 2024-07-06 01:52:31 after 80 attacks.\n",
      "[Succeeded / Failed / Skipped / Total] 54 / 9 / 19 / 82:  16%|███▉                    | 82/500 [01:30<07:42,  1.11s/it]"
     ]
    },
    {
     "name": "stdout",
     "output_type": "stream",
     "text": [
      "\n",
      "\n",
      "=============================================================================================================================\n",
      "=============================================================================================================================\n",
      "\n"
     ]
    },
    {
     "name": "stderr",
     "output_type": "stream",
     "text": [
      "[Succeeded / Failed / Skipped / Total] 56 / 9 / 20 / 85:  17%|████                    | 85/500 [01:32<07:31,  1.09s/it]textattack: Saving checkpoint under \"checkpoints\\1720201953715.ta.chkpt\" at 2024-07-06 01:52:33 after 85 attacks.\n"
     ]
    },
    {
     "name": "stdout",
     "output_type": "stream",
     "text": [
      "\n",
      "\n",
      "=============================================================================================================================\n",
      "=============================================================================================================================\n",
      "\n"
     ]
    },
    {
     "name": "stderr",
     "output_type": "stream",
     "text": [
      "[Succeeded / Failed / Skipped / Total] 61 / 9 / 20 / 90:  18%|████▎                   | 90/500 [01:37<07:23,  1.08s/it]textattack: Saving checkpoint under \"checkpoints\\1720201958652.ta.chkpt\" at 2024-07-06 01:52:38 after 90 attacks.\n"
     ]
    },
    {
     "name": "stdout",
     "output_type": "stream",
     "text": [
      "\n",
      "\n",
      "=============================================================================================================================\n",
      "=============================================================================================================================\n",
      "\n"
     ]
    },
    {
     "name": "stderr",
     "output_type": "stream",
     "text": [
      "[Succeeded / Failed / Skipped / Total] 64 / 9 / 22 / 95:  19%|████▌                   | 95/500 [01:41<07:14,  1.07s/it]textattack: Saving checkpoint under \"checkpoints\\1720201963147.ta.chkpt\" at 2024-07-06 01:52:43 after 95 attacks.\n"
     ]
    },
    {
     "name": "stdout",
     "output_type": "stream",
     "text": [
      "\n",
      "\n",
      "=============================================================================================================================\n",
      "=============================================================================================================================\n",
      "\n"
     ]
    },
    {
     "name": "stderr",
     "output_type": "stream",
     "text": [
      "[Succeeded / Failed / Skipped / Total] 69 / 9 / 22 / 100:  20%|████▍                 | 100/500 [01:48<07:14,  1.09s/it]textattack: Saving checkpoint under \"checkpoints\\1720201969851.ta.chkpt\" at 2024-07-06 01:52:49 after 100 attacks.\n"
     ]
    },
    {
     "name": "stdout",
     "output_type": "stream",
     "text": [
      "\n",
      "\n",
      "=============================================================================================================================\n",
      "=============================================================================================================================\n",
      "\n"
     ]
    },
    {
     "name": "stderr",
     "output_type": "stream",
     "text": [
      "[Succeeded / Failed / Skipped / Total] 74 / 9 / 22 / 105:  21%|████▌                 | 105/500 [01:55<07:15,  1.10s/it]textattack: Saving checkpoint under \"checkpoints\\1720201977138.ta.chkpt\" at 2024-07-06 01:52:57 after 105 attacks.\n",
      "[Succeeded / Failed / Skipped / Total] 74 / 9 / 23 / 106:  21%|████▋                 | 106/500 [01:56<07:11,  1.09s/it]"
     ]
    },
    {
     "name": "stdout",
     "output_type": "stream",
     "text": [
      "\n",
      "\n",
      "=============================================================================================================================\n",
      "=============================================================================================================================\n",
      "\n"
     ]
    },
    {
     "name": "stderr",
     "output_type": "stream",
     "text": [
      "[Succeeded / Failed / Skipped / Total] 76 / 9 / 25 / 110:  22%|████▊                 | 110/500 [01:57<06:57,  1.07s/it]textattack: Saving checkpoint under \"checkpoints\\1720201978873.ta.chkpt\" at 2024-07-06 01:52:58 after 110 attacks.\n",
      "[Succeeded / Failed / Skipped / Total] 76 / 9 / 26 / 111:  22%|████▉                 | 111/500 [01:57<06:52,  1.06s/it]"
     ]
    },
    {
     "name": "stdout",
     "output_type": "stream",
     "text": [
      "\n",
      "\n",
      "=============================================================================================================================\n",
      "=============================================================================================================================\n",
      "\n"
     ]
    },
    {
     "name": "stderr",
     "output_type": "stream",
     "text": [
      "[Succeeded / Failed / Skipped / Total] 79 / 9 / 27 / 115:  23%|█████                 | 115/500 [02:02<06:49,  1.06s/it]textattack: Saving checkpoint under \"checkpoints\\1720201983561.ta.chkpt\" at 2024-07-06 01:53:03 after 115 attacks.\n"
     ]
    },
    {
     "name": "stdout",
     "output_type": "stream",
     "text": [
      "\n",
      "\n",
      "=============================================================================================================================\n",
      "=============================================================================================================================\n",
      "\n"
     ]
    },
    {
     "name": "stderr",
     "output_type": "stream",
     "text": [
      "[Succeeded / Failed / Skipped / Total] 81 / 10 / 29 / 120:  24%|█████                | 120/500 [02:04<06:34,  1.04s/it]textattack: Saving checkpoint under \"checkpoints\\1720201985842.ta.chkpt\" at 2024-07-06 01:53:05 after 120 attacks.\n"
     ]
    },
    {
     "name": "stdout",
     "output_type": "stream",
     "text": [
      "\n",
      "\n",
      "=============================================================================================================================\n",
      "=============================================================================================================================\n",
      "\n"
     ]
    },
    {
     "name": "stderr",
     "output_type": "stream",
     "text": [
      "[Succeeded / Failed / Skipped / Total] 86 / 10 / 29 / 125:  25%|█████▎               | 125/500 [02:09<06:28,  1.04s/it]textattack: Saving checkpoint under \"checkpoints\\1720201990780.ta.chkpt\" at 2024-07-06 01:53:10 after 125 attacks.\n"
     ]
    },
    {
     "name": "stdout",
     "output_type": "stream",
     "text": [
      "\n",
      "\n",
      "=============================================================================================================================\n",
      "=============================================================================================================================\n",
      "\n"
     ]
    },
    {
     "name": "stderr",
     "output_type": "stream",
     "text": [
      "[Succeeded / Failed / Skipped / Total] 90 / 10 / 30 / 130:  26%|█████▍               | 130/500 [02:12<06:16,  1.02s/it]textattack: Saving checkpoint under \"checkpoints\\1720201993474.ta.chkpt\" at 2024-07-06 01:53:13 after 130 attacks.\n",
      "[Succeeded / Failed / Skipped / Total] 90 / 10 / 31 / 131:  26%|█████▌               | 131/500 [02:12<06:12,  1.01s/it]"
     ]
    },
    {
     "name": "stdout",
     "output_type": "stream",
     "text": [
      "\n",
      "\n",
      "=============================================================================================================================\n",
      "=============================================================================================================================\n",
      "\n"
     ]
    },
    {
     "name": "stderr",
     "output_type": "stream",
     "text": [
      "[Succeeded / Failed / Skipped / Total] 93 / 10 / 32 / 135:  27%|█████▋               | 135/500 [02:17<06:13,  1.02s/it]textattack: Saving checkpoint under \"checkpoints\\1720201999256.ta.chkpt\" at 2024-07-06 01:53:19 after 135 attacks.\n"
     ]
    },
    {
     "name": "stdout",
     "output_type": "stream",
     "text": [
      "\n",
      "\n",
      "=============================================================================================================================\n",
      "=============================================================================================================================\n",
      "\n"
     ]
    },
    {
     "name": "stderr",
     "output_type": "stream",
     "text": [
      "[Succeeded / Failed / Skipped / Total] 97 / 10 / 33 / 140:  28%|█████▉               | 140/500 [02:22<06:06,  1.02s/it]textattack: Saving checkpoint under \"checkpoints\\1720202003740.ta.chkpt\" at 2024-07-06 01:53:23 after 140 attacks.\n"
     ]
    },
    {
     "name": "stdout",
     "output_type": "stream",
     "text": [
      "\n",
      "\n",
      "=============================================================================================================================\n",
      "=============================================================================================================================\n",
      "\n"
     ]
    },
    {
     "name": "stderr",
     "output_type": "stream",
     "text": [
      "[Succeeded / Failed / Skipped / Total] 102 / 10 / 33 / 145:  29%|█████▊              | 145/500 [02:27<06:00,  1.02s/it]textattack: Saving checkpoint under \"checkpoints\\1720202008569.ta.chkpt\" at 2024-07-06 01:53:28 after 145 attacks.\n",
      "[Succeeded / Failed / Skipped / Total] 102 / 10 / 36 / 148:  30%|█████▉              | 148/500 [02:27<05:50,  1.00it/s]"
     ]
    },
    {
     "name": "stdout",
     "output_type": "stream",
     "text": [
      "\n",
      "\n",
      "=============================================================================================================================\n",
      "=============================================================================================================================\n",
      "\n"
     ]
    },
    {
     "name": "stderr",
     "output_type": "stream",
     "text": [
      "[Succeeded / Failed / Skipped / Total] 104 / 10 / 36 / 150:  30%|██████              | 150/500 [02:28<05:47,  1.01it/s]textattack: Saving checkpoint under \"checkpoints\\1720202010007.ta.chkpt\" at 2024-07-06 01:53:30 after 150 attacks.\n"
     ]
    },
    {
     "name": "stdout",
     "output_type": "stream",
     "text": [
      "\n",
      "\n",
      "=============================================================================================================================\n",
      "=============================================================================================================================\n",
      "\n"
     ]
    },
    {
     "name": "stderr",
     "output_type": "stream",
     "text": [
      "[Succeeded / Failed / Skipped / Total] 107 / 10 / 38 / 155:  31%|██████▏             | 155/500 [02:30<05:33,  1.03it/s]textattack: Saving checkpoint under \"checkpoints\\1720202011288.ta.chkpt\" at 2024-07-06 01:53:31 after 155 attacks.\n"
     ]
    },
    {
     "name": "stdout",
     "output_type": "stream",
     "text": [
      "\n",
      "\n",
      "=============================================================================================================================\n",
      "=============================================================================================================================\n",
      "\n"
     ]
    },
    {
     "name": "stderr",
     "output_type": "stream",
     "text": [
      "[Succeeded / Failed / Skipped / Total] 110 / 10 / 40 / 160:  32%|██████▍             | 160/500 [02:34<05:27,  1.04it/s]textattack: Saving checkpoint under \"checkpoints\\1720202015388.ta.chkpt\" at 2024-07-06 01:53:35 after 160 attacks.\n",
      "[Succeeded / Failed / Skipped / Total] 110 / 10 / 41 / 161:  32%|██████▍             | 161/500 [02:34<05:24,  1.04it/s]"
     ]
    },
    {
     "name": "stdout",
     "output_type": "stream",
     "text": [
      "\n",
      "\n",
      "=============================================================================================================================\n",
      "=============================================================================================================================\n",
      "\n"
     ]
    },
    {
     "name": "stderr",
     "output_type": "stream",
     "text": [
      "[Succeeded / Failed / Skipped / Total] 113 / 10 / 42 / 165:  33%|██████▌             | 165/500 [02:38<05:21,  1.04it/s]textattack: Saving checkpoint under \"checkpoints\\1720202019802.ta.chkpt\" at 2024-07-06 01:53:39 after 165 attacks.\n"
     ]
    },
    {
     "name": "stdout",
     "output_type": "stream",
     "text": [
      "\n",
      "\n",
      "=============================================================================================================================\n",
      "=============================================================================================================================\n",
      "\n"
     ]
    },
    {
     "name": "stderr",
     "output_type": "stream",
     "text": [
      "[Succeeded / Failed / Skipped / Total] 116 / 10 / 44 / 170:  34%|██████▊             | 170/500 [02:41<05:14,  1.05it/s]textattack: Saving checkpoint under \"checkpoints\\1720202023240.ta.chkpt\" at 2024-07-06 01:53:43 after 170 attacks.\n"
     ]
    },
    {
     "name": "stdout",
     "output_type": "stream",
     "text": [
      "\n",
      "\n",
      "=============================================================================================================================\n",
      "=============================================================================================================================\n",
      "\n"
     ]
    },
    {
     "name": "stderr",
     "output_type": "stream",
     "text": [
      "[Succeeded / Failed / Skipped / Total] 119 / 11 / 45 / 175:  35%|███████             | 175/500 [02:51<05:18,  1.02it/s]textattack: Saving checkpoint under \"checkpoints\\1720202032483.ta.chkpt\" at 2024-07-06 01:53:52 after 175 attacks.\n",
      "[Succeeded / Failed / Skipped / Total] 119 / 11 / 46 / 176:  35%|███████             | 176/500 [02:51<05:15,  1.03it/s]"
     ]
    },
    {
     "name": "stdout",
     "output_type": "stream",
     "text": [
      "\n",
      "\n",
      "=============================================================================================================================\n",
      "=============================================================================================================================\n",
      "\n"
     ]
    },
    {
     "name": "stderr",
     "output_type": "stream",
     "text": [
      "[Succeeded / Failed / Skipped / Total] 122 / 11 / 47 / 180:  36%|███████▏            | 180/500 [02:53<05:08,  1.04it/s]textattack: Saving checkpoint under \"checkpoints\\1720202034702.ta.chkpt\" at 2024-07-06 01:53:54 after 180 attacks.\n",
      "[Succeeded / Failed / Skipped / Total] 122 / 11 / 48 / 181:  36%|███████▏            | 181/500 [02:53<05:05,  1.04it/s]"
     ]
    },
    {
     "name": "stdout",
     "output_type": "stream",
     "text": [
      "\n",
      "\n",
      "=============================================================================================================================\n",
      "=============================================================================================================================\n",
      "\n"
     ]
    },
    {
     "name": "stderr",
     "output_type": "stream",
     "text": [
      "[Succeeded / Failed / Skipped / Total] 126 / 11 / 48 / 185:  37%|███████▍            | 185/500 [02:56<05:01,  1.05it/s]textattack: Saving checkpoint under \"checkpoints\\1720202038163.ta.chkpt\" at 2024-07-06 01:53:58 after 185 attacks.\n"
     ]
    },
    {
     "name": "stdout",
     "output_type": "stream",
     "text": [
      "\n",
      "\n",
      "=============================================================================================================================\n",
      "=============================================================================================================================\n",
      "\n"
     ]
    },
    {
     "name": "stderr",
     "output_type": "stream",
     "text": [
      "[Succeeded / Failed / Skipped / Total] 130 / 12 / 48 / 190:  38%|███████▌            | 190/500 [03:06<05:04,  1.02it/s]textattack: Saving checkpoint under \"checkpoints\\1720202047898.ta.chkpt\" at 2024-07-06 01:54:07 after 190 attacks.\n"
     ]
    },
    {
     "name": "stdout",
     "output_type": "stream",
     "text": [
      "\n",
      "\n",
      "=============================================================================================================================\n",
      "=============================================================================================================================\n",
      "\n"
     ]
    },
    {
     "name": "stderr",
     "output_type": "stream",
     "text": [
      "[Succeeded / Failed / Skipped / Total] 132 / 13 / 50 / 195:  39%|███████▊            | 195/500 [03:11<05:00,  1.02it/s]textattack: Saving checkpoint under \"checkpoints\\1720202053093.ta.chkpt\" at 2024-07-06 01:54:13 after 195 attacks.\n"
     ]
    },
    {
     "name": "stdout",
     "output_type": "stream",
     "text": [
      "\n",
      "\n",
      "=============================================================================================================================\n",
      "=============================================================================================================================\n",
      "\n"
     ]
    },
    {
     "name": "stderr",
     "output_type": "stream",
     "text": [
      "[Succeeded / Failed / Skipped / Total] 136 / 13 / 51 / 200:  40%|████████            | 200/500 [03:17<04:56,  1.01it/s]textattack: Saving checkpoint under \"checkpoints\\1720202059187.ta.chkpt\" at 2024-07-06 01:54:19 after 200 attacks.\n"
     ]
    },
    {
     "name": "stdout",
     "output_type": "stream",
     "text": [
      "\n",
      "\n",
      "=============================================================================================================================\n",
      "=============================================================================================================================\n",
      "\n"
     ]
    },
    {
     "name": "stderr",
     "output_type": "stream",
     "text": [
      "[Succeeded / Failed / Skipped / Total] 140 / 13 / 52 / 205:  41%|████████▏           | 205/500 [03:21<04:50,  1.02it/s]textattack: Saving checkpoint under \"checkpoints\\1720202062781.ta.chkpt\" at 2024-07-06 01:54:22 after 205 attacks.\n"
     ]
    },
    {
     "name": "stdout",
     "output_type": "stream",
     "text": [
      "\n",
      "\n",
      "=============================================================================================================================\n",
      "=============================================================================================================================\n",
      "\n"
     ]
    },
    {
     "name": "stderr",
     "output_type": "stream",
     "text": [
      "[Succeeded / Failed / Skipped / Total] 144 / 13 / 53 / 210:  42%|████████▍           | 210/500 [03:24<04:41,  1.03it/s]textattack: Saving checkpoint under \"checkpoints\\1720202065391.ta.chkpt\" at 2024-07-06 01:54:25 after 210 attacks.\n"
     ]
    },
    {
     "name": "stdout",
     "output_type": "stream",
     "text": [
      "\n",
      "\n",
      "=============================================================================================================================\n",
      "=============================================================================================================================\n",
      "\n"
     ]
    },
    {
     "name": "stderr",
     "output_type": "stream",
     "text": [
      "[Succeeded / Failed / Skipped / Total] 147 / 14 / 54 / 215:  43%|████████▌           | 215/500 [03:29<04:37,  1.03it/s]textattack: Saving checkpoint under \"checkpoints\\1720202070860.ta.chkpt\" at 2024-07-06 01:54:30 after 215 attacks.\n"
     ]
    },
    {
     "name": "stdout",
     "output_type": "stream",
     "text": [
      "\n",
      "\n",
      "=============================================================================================================================\n",
      "=============================================================================================================================\n",
      "\n"
     ]
    },
    {
     "name": "stderr",
     "output_type": "stream",
     "text": [
      "[Succeeded / Failed / Skipped / Total] 150 / 16 / 54 / 220:  44%|████████▊           | 220/500 [03:32<04:30,  1.03it/s]textattack: Saving checkpoint under \"checkpoints\\1720202074080.ta.chkpt\" at 2024-07-06 01:54:34 after 220 attacks.\n"
     ]
    },
    {
     "name": "stdout",
     "output_type": "stream",
     "text": [
      "\n",
      "\n",
      "=============================================================================================================================\n",
      "=============================================================================================================================\n",
      "\n"
     ]
    },
    {
     "name": "stderr",
     "output_type": "stream",
     "text": [
      "[Succeeded / Failed / Skipped / Total] 153 / 16 / 56 / 225:  45%|█████████           | 225/500 [03:36<04:24,  1.04it/s]textattack: Saving checkpoint under \"checkpoints\\1720202077347.ta.chkpt\" at 2024-07-06 01:54:37 after 225 attacks.\n"
     ]
    },
    {
     "name": "stdout",
     "output_type": "stream",
     "text": [
      "\n",
      "\n",
      "=============================================================================================================================\n",
      "=============================================================================================================================\n",
      "\n"
     ]
    },
    {
     "name": "stderr",
     "output_type": "stream",
     "text": [
      "[Succeeded / Failed / Skipped / Total] 156 / 17 / 57 / 230:  46%|█████████▏          | 230/500 [03:39<04:17,  1.05it/s]textattack: Saving checkpoint under \"checkpoints\\1720202080725.ta.chkpt\" at 2024-07-06 01:54:40 after 230 attacks.\n"
     ]
    },
    {
     "name": "stdout",
     "output_type": "stream",
     "text": [
      "\n",
      "\n",
      "=============================================================================================================================\n",
      "=============================================================================================================================\n",
      "\n"
     ]
    },
    {
     "name": "stderr",
     "output_type": "stream",
     "text": [
      "[Succeeded / Failed / Skipped / Total] 160 / 18 / 57 / 235:  47%|█████████▍          | 235/500 [03:45<04:14,  1.04it/s]textattack: Saving checkpoint under \"checkpoints\\1720202086866.ta.chkpt\" at 2024-07-06 01:54:46 after 235 attacks.\n"
     ]
    },
    {
     "name": "stdout",
     "output_type": "stream",
     "text": [
      "\n",
      "\n",
      "=============================================================================================================================\n",
      "=============================================================================================================================\n",
      "\n"
     ]
    },
    {
     "name": "stderr",
     "output_type": "stream",
     "text": [
      "[Succeeded / Failed / Skipped / Total] 164 / 19 / 57 / 240:  48%|█████████▌          | 240/500 [03:50<04:09,  1.04it/s]textattack: Saving checkpoint under \"checkpoints\\1720202091257.ta.chkpt\" at 2024-07-06 01:54:51 after 240 attacks.\n"
     ]
    },
    {
     "name": "stdout",
     "output_type": "stream",
     "text": [
      "\n",
      "\n",
      "=============================================================================================================================\n",
      "=============================================================================================================================\n",
      "\n"
     ]
    },
    {
     "name": "stderr",
     "output_type": "stream",
     "text": [
      "[Succeeded / Failed / Skipped / Total] 168 / 20 / 57 / 245:  49%|█████████▊          | 245/500 [03:57<04:07,  1.03it/s]textattack: Saving checkpoint under \"checkpoints\\1720202099205.ta.chkpt\" at 2024-07-06 01:54:59 after 245 attacks.\n"
     ]
    },
    {
     "name": "stdout",
     "output_type": "stream",
     "text": [
      "\n",
      "\n",
      "=============================================================================================================================\n",
      "=============================================================================================================================\n",
      "\n"
     ]
    },
    {
     "name": "stderr",
     "output_type": "stream",
     "text": [
      "[Succeeded / Failed / Skipped / Total] 171 / 20 / 59 / 250:  50%|██████████          | 250/500 [04:00<04:00,  1.04it/s]textattack: Saving checkpoint under \"checkpoints\\1720202101471.ta.chkpt\" at 2024-07-06 01:55:01 after 250 attacks.\n"
     ]
    },
    {
     "name": "stdout",
     "output_type": "stream",
     "text": [
      "\n",
      "\n",
      "=============================================================================================================================\n",
      "=============================================================================================================================\n",
      "\n"
     ]
    },
    {
     "name": "stderr",
     "output_type": "stream",
     "text": [
      "[Succeeded / Failed / Skipped / Total] 175 / 20 / 60 / 255:  51%|██████████▏         | 255/500 [04:03<03:54,  1.05it/s]textattack: Saving checkpoint under \"checkpoints\\1720202105065.ta.chkpt\" at 2024-07-06 01:55:05 after 255 attacks.\n"
     ]
    },
    {
     "name": "stdout",
     "output_type": "stream",
     "text": [
      "\n",
      "\n",
      "=============================================================================================================================\n",
      "=============================================================================================================================\n",
      "\n"
     ]
    },
    {
     "name": "stderr",
     "output_type": "stream",
     "text": [
      "[Succeeded / Failed / Skipped / Total] 178 / 20 / 62 / 260:  52%|██████████▍         | 260/500 [04:07<03:48,  1.05it/s]textattack: Saving checkpoint under \"checkpoints\\1720202109050.ta.chkpt\" at 2024-07-06 01:55:09 after 260 attacks.\n"
     ]
    },
    {
     "name": "stdout",
     "output_type": "stream",
     "text": [
      "\n",
      "\n",
      "=============================================================================================================================\n",
      "=============================================================================================================================\n",
      "\n"
     ]
    },
    {
     "name": "stderr",
     "output_type": "stream",
     "text": [
      "[Succeeded / Failed / Skipped / Total] 183 / 20 / 62 / 265:  53%|██████████▌         | 265/500 [04:13<03:44,  1.05it/s]textattack: Saving checkpoint under \"checkpoints\\1720202114722.ta.chkpt\" at 2024-07-06 01:55:14 after 265 attacks.\n"
     ]
    },
    {
     "name": "stdout",
     "output_type": "stream",
     "text": [
      "\n",
      "\n",
      "=============================================================================================================================\n",
      "=============================================================================================================================\n",
      "\n"
     ]
    },
    {
     "name": "stderr",
     "output_type": "stream",
     "text": [
      "[Succeeded / Failed / Skipped / Total] 186 / 21 / 63 / 270:  54%|██████████▊         | 270/500 [04:23<03:44,  1.02it/s]textattack: Saving checkpoint under \"checkpoints\\1720202124693.ta.chkpt\" at 2024-07-06 01:55:24 after 270 attacks.\n",
      "[Succeeded / Failed / Skipped / Total] 186 / 21 / 64 / 271:  54%|██████████▊         | 271/500 [04:23<03:42,  1.03it/s]"
     ]
    },
    {
     "name": "stdout",
     "output_type": "stream",
     "text": [
      "\n",
      "\n",
      "=============================================================================================================================\n",
      "=============================================================================================================================\n",
      "\n"
     ]
    },
    {
     "name": "stderr",
     "output_type": "stream",
     "text": [
      "[Succeeded / Failed / Skipped / Total] 189 / 21 / 65 / 275:  55%|███████████         | 275/500 [04:25<03:37,  1.04it/s]textattack: Saving checkpoint under \"checkpoints\\1720202126662.ta.chkpt\" at 2024-07-06 01:55:26 after 275 attacks.\n",
      "[Succeeded / Failed / Skipped / Total] 189 / 21 / 67 / 277:  55%|███████████         | 277/500 [04:25<03:33,  1.04it/s]"
     ]
    },
    {
     "name": "stdout",
     "output_type": "stream",
     "text": [
      "\n",
      "\n",
      "=============================================================================================================================\n",
      "=============================================================================================================================\n",
      "\n"
     ]
    },
    {
     "name": "stderr",
     "output_type": "stream",
     "text": [
      "[Succeeded / Failed / Skipped / Total] 192 / 21 / 67 / 280:  56%|███████████▏        | 280/500 [04:28<03:30,  1.04it/s]textattack: Saving checkpoint under \"checkpoints\\1720202129678.ta.chkpt\" at 2024-07-06 01:55:29 after 280 attacks.\n"
     ]
    },
    {
     "name": "stdout",
     "output_type": "stream",
     "text": [
      "\n",
      "\n",
      "=============================================================================================================================\n",
      "=============================================================================================================================\n",
      "\n"
     ]
    },
    {
     "name": "stderr",
     "output_type": "stream",
     "text": [
      "[Succeeded / Failed / Skipped / Total] 195 / 22 / 68 / 285:  57%|███████████▍        | 285/500 [04:33<03:26,  1.04it/s]textattack: Saving checkpoint under \"checkpoints\\1720202134426.ta.chkpt\" at 2024-07-06 01:55:34 after 285 attacks.\n"
     ]
    },
    {
     "name": "stdout",
     "output_type": "stream",
     "text": [
      "\n",
      "\n",
      "=============================================================================================================================\n",
      "=============================================================================================================================\n",
      "\n"
     ]
    },
    {
     "name": "stderr",
     "output_type": "stream",
     "text": [
      "[Succeeded / Failed / Skipped / Total] 199 / 22 / 69 / 290:  58%|███████████▌        | 290/500 [04:37<03:20,  1.05it/s]textattack: Saving checkpoint under \"checkpoints\\1720202138645.ta.chkpt\" at 2024-07-06 01:55:38 after 290 attacks.\n"
     ]
    },
    {
     "name": "stdout",
     "output_type": "stream",
     "text": [
      "\n",
      "\n",
      "=============================================================================================================================\n",
      "=============================================================================================================================\n",
      "\n"
     ]
    },
    {
     "name": "stderr",
     "output_type": "stream",
     "text": [
      "[Succeeded / Failed / Skipped / Total] 203 / 22 / 70 / 295:  59%|███████████▊        | 295/500 [04:43<03:16,  1.04it/s]textattack: Saving checkpoint under \"checkpoints\\1720202144452.ta.chkpt\" at 2024-07-06 01:55:44 after 295 attacks.\n"
     ]
    },
    {
     "name": "stdout",
     "output_type": "stream",
     "text": [
      "\n",
      "\n",
      "=============================================================================================================================\n",
      "=============================================================================================================================\n",
      "\n"
     ]
    },
    {
     "name": "stderr",
     "output_type": "stream",
     "text": [
      "[Succeeded / Failed / Skipped / Total] 208 / 22 / 70 / 300:  60%|████████████        | 300/500 [04:48<03:12,  1.04it/s]textattack: Saving checkpoint under \"checkpoints\\1720202149953.ta.chkpt\" at 2024-07-06 01:55:49 after 300 attacks.\n"
     ]
    },
    {
     "name": "stdout",
     "output_type": "stream",
     "text": [
      "\n",
      "\n",
      "=============================================================================================================================\n",
      "=============================================================================================================================\n",
      "\n"
     ]
    },
    {
     "name": "stderr",
     "output_type": "stream",
     "text": [
      "[Succeeded / Failed / Skipped / Total] 213 / 22 / 70 / 305:  61%|████████████▏       | 305/500 [04:53<03:07,  1.04it/s]textattack: Saving checkpoint under \"checkpoints\\1720202154851.ta.chkpt\" at 2024-07-06 01:55:54 after 305 attacks.\n"
     ]
    },
    {
     "name": "stdout",
     "output_type": "stream",
     "text": [
      "\n",
      "\n",
      "=============================================================================================================================\n",
      "=============================================================================================================================\n",
      "\n"
     ]
    },
    {
     "name": "stderr",
     "output_type": "stream",
     "text": [
      "[Succeeded / Failed / Skipped / Total] 215 / 24 / 71 / 310:  62%|████████████▍       | 310/500 [04:56<03:01,  1.05it/s]textattack: Saving checkpoint under \"checkpoints\\1720202157836.ta.chkpt\" at 2024-07-06 01:55:57 after 310 attacks.\n"
     ]
    },
    {
     "name": "stdout",
     "output_type": "stream",
     "text": [
      "\n",
      "\n",
      "=============================================================================================================================\n",
      "=============================================================================================================================\n",
      "\n"
     ]
    },
    {
     "name": "stderr",
     "output_type": "stream",
     "text": [
      "[Succeeded / Failed / Skipped / Total] 218 / 24 / 73 / 315:  63%|████████████▌       | 315/500 [05:00<02:56,  1.05it/s]textattack: Saving checkpoint under \"checkpoints\\1720202161650.ta.chkpt\" at 2024-07-06 01:56:01 after 315 attacks.\n"
     ]
    },
    {
     "name": "stdout",
     "output_type": "stream",
     "text": [
      "\n",
      "\n",
      "=============================================================================================================================\n",
      "=============================================================================================================================\n",
      "\n"
     ]
    },
    {
     "name": "stderr",
     "output_type": "stream",
     "text": [
      "[Succeeded / Failed / Skipped / Total] 221 / 24 / 75 / 320:  64%|████████████▊       | 320/500 [05:06<02:52,  1.04it/s]textattack: Saving checkpoint under \"checkpoints\\1720202168182.ta.chkpt\" at 2024-07-06 01:56:08 after 320 attacks.\n"
     ]
    },
    {
     "name": "stdout",
     "output_type": "stream",
     "text": [
      "\n",
      "\n",
      "=============================================================================================================================\n",
      "=============================================================================================================================\n",
      "\n"
     ]
    },
    {
     "name": "stderr",
     "output_type": "stream",
     "text": [
      "[Succeeded / Failed / Skipped / Total] 226 / 24 / 75 / 325:  65%|█████████████       | 325/500 [05:13<02:48,  1.04it/s]textattack: Saving checkpoint under \"checkpoints\\1720202174473.ta.chkpt\" at 2024-07-06 01:56:14 after 325 attacks.\n"
     ]
    },
    {
     "name": "stdout",
     "output_type": "stream",
     "text": [
      "\n",
      "\n",
      "=============================================================================================================================\n",
      "=============================================================================================================================\n",
      "\n"
     ]
    },
    {
     "name": "stderr",
     "output_type": "stream",
     "text": [
      "[Succeeded / Failed / Skipped / Total] 231 / 24 / 75 / 330:  66%|█████████████▏      | 330/500 [05:16<02:43,  1.04it/s]textattack: Saving checkpoint under \"checkpoints\\1720202177833.ta.chkpt\" at 2024-07-06 01:56:17 after 330 attacks.\n"
     ]
    },
    {
     "name": "stdout",
     "output_type": "stream",
     "text": [
      "\n",
      "\n",
      "=============================================================================================================================\n",
      "=============================================================================================================================\n",
      "\n"
     ]
    },
    {
     "name": "stderr",
     "output_type": "stream",
     "text": [
      "[Succeeded / Failed / Skipped / Total] 234 / 25 / 76 / 335:  67%|█████████████▍      | 335/500 [05:26<02:41,  1.02it/s]textattack: Saving checkpoint under \"checkpoints\\1720202188146.ta.chkpt\" at 2024-07-06 01:56:28 after 335 attacks.\n",
      "[Succeeded / Failed / Skipped / Total] 234 / 25 / 77 / 336:  67%|█████████████▍      | 336/500 [05:26<02:39,  1.03it/s]"
     ]
    },
    {
     "name": "stdout",
     "output_type": "stream",
     "text": [
      "\n",
      "\n",
      "=============================================================================================================================\n",
      "=============================================================================================================================\n",
      "\n"
     ]
    },
    {
     "name": "stderr",
     "output_type": "stream",
     "text": [
      "[Succeeded / Failed / Skipped / Total] 236 / 26 / 78 / 340:  68%|█████████████▌      | 340/500 [05:29<02:35,  1.03it/s]textattack: Saving checkpoint under \"checkpoints\\1720202191068.ta.chkpt\" at 2024-07-06 01:56:31 after 340 attacks.\n"
     ]
    },
    {
     "name": "stdout",
     "output_type": "stream",
     "text": [
      "\n",
      "\n",
      "=============================================================================================================================\n",
      "=============================================================================================================================\n",
      "\n"
     ]
    },
    {
     "name": "stderr",
     "output_type": "stream",
     "text": [
      "[Succeeded / Failed / Skipped / Total] 239 / 26 / 80 / 345:  69%|█████████████▊      | 345/500 [05:35<02:30,  1.03it/s]textattack: Saving checkpoint under \"checkpoints\\1720202196617.ta.chkpt\" at 2024-07-06 01:56:36 after 345 attacks.\n"
     ]
    },
    {
     "name": "stdout",
     "output_type": "stream",
     "text": [
      "\n",
      "\n",
      "=============================================================================================================================\n",
      "=============================================================================================================================\n",
      "\n"
     ]
    },
    {
     "name": "stderr",
     "output_type": "stream",
     "text": [
      "[Succeeded / Failed / Skipped / Total] 243 / 26 / 81 / 350:  70%|██████████████      | 350/500 [05:44<02:27,  1.02it/s]textattack: Saving checkpoint under \"checkpoints\\1720202205644.ta.chkpt\" at 2024-07-06 01:56:45 after 350 attacks.\n"
     ]
    },
    {
     "name": "stdout",
     "output_type": "stream",
     "text": [
      "\n",
      "\n",
      "=============================================================================================================================\n",
      "=============================================================================================================================\n",
      "\n"
     ]
    },
    {
     "name": "stderr",
     "output_type": "stream",
     "text": [
      "[Succeeded / Failed / Skipped / Total] 247 / 27 / 81 / 355:  71%|██████████████▏     | 355/500 [05:54<02:24,  1.00it/s]textattack: Saving checkpoint under \"checkpoints\\1720202216226.ta.chkpt\" at 2024-07-06 01:56:56 after 355 attacks.\n"
     ]
    },
    {
     "name": "stdout",
     "output_type": "stream",
     "text": [
      "\n",
      "\n",
      "=============================================================================================================================\n",
      "=============================================================================================================================\n",
      "\n"
     ]
    },
    {
     "name": "stderr",
     "output_type": "stream",
     "text": [
      "[Succeeded / Failed / Skipped / Total] 251 / 27 / 82 / 360:  72%|██████████████▍     | 360/500 [06:00<02:20,  1.00s/it]textattack: Saving checkpoint under \"checkpoints\\1720202221880.ta.chkpt\" at 2024-07-06 01:57:01 after 360 attacks.\n"
     ]
    },
    {
     "name": "stdout",
     "output_type": "stream",
     "text": [
      "\n",
      "\n",
      "=============================================================================================================================\n",
      "=============================================================================================================================\n",
      "\n"
     ]
    },
    {
     "name": "stderr",
     "output_type": "stream",
     "text": [
      "[Succeeded / Failed / Skipped / Total] 256 / 27 / 82 / 365:  73%|██████████████▌     | 365/500 [06:05<02:15,  1.00s/it]textattack: Saving checkpoint under \"checkpoints\\1720202226584.ta.chkpt\" at 2024-07-06 01:57:06 after 365 attacks.\n",
      "[Succeeded / Failed / Skipped / Total] 256 / 27 / 83 / 366:  73%|██████████████▋     | 366/500 [06:05<02:13,  1.00it/s]"
     ]
    },
    {
     "name": "stdout",
     "output_type": "stream",
     "text": [
      "\n",
      "\n",
      "=============================================================================================================================\n",
      "=============================================================================================================================\n",
      "\n"
     ]
    },
    {
     "name": "stderr",
     "output_type": "stream",
     "text": [
      "[Succeeded / Failed / Skipped / Total] 259 / 28 / 83 / 370:  74%|██████████████▊     | 370/500 [06:09<02:09,  1.00it/s]textattack: Saving checkpoint under \"checkpoints\\1720202230320.ta.chkpt\" at 2024-07-06 01:57:10 after 370 attacks.\n",
      "[Succeeded / Failed / Skipped / Total] 259 / 28 / 84 / 371:  74%|██████████████▊     | 371/500 [06:09<02:08,  1.00it/s]"
     ]
    },
    {
     "name": "stdout",
     "output_type": "stream",
     "text": [
      "\n",
      "\n",
      "=============================================================================================================================\n",
      "=============================================================================================================================\n",
      "\n"
     ]
    },
    {
     "name": "stderr",
     "output_type": "stream",
     "text": [
      "[Succeeded / Failed / Skipped / Total] 263 / 28 / 84 / 375:  75%|███████████████     | 375/500 [06:14<02:04,  1.00it/s]textattack: Saving checkpoint under \"checkpoints\\1720202236102.ta.chkpt\" at 2024-07-06 01:57:16 after 375 attacks.\n"
     ]
    },
    {
     "name": "stdout",
     "output_type": "stream",
     "text": [
      "\n",
      "\n",
      "=============================================================================================================================\n",
      "=============================================================================================================================\n",
      "\n"
     ]
    },
    {
     "name": "stderr",
     "output_type": "stream",
     "text": [
      "[Succeeded / Failed / Skipped / Total] 267 / 28 / 85 / 380:  76%|███████████████▏    | 380/500 [06:17<01:59,  1.01it/s]textattack: Saving checkpoint under \"checkpoints\\1720202238836.ta.chkpt\" at 2024-07-06 01:57:18 after 380 attacks.\n"
     ]
    },
    {
     "name": "stdout",
     "output_type": "stream",
     "text": [
      "\n",
      "\n",
      "=============================================================================================================================\n",
      "=============================================================================================================================\n",
      "\n"
     ]
    },
    {
     "name": "stderr",
     "output_type": "stream",
     "text": [
      "[Succeeded / Failed / Skipped / Total] 272 / 28 / 85 / 385:  77%|███████████████▍    | 385/500 [06:22<01:54,  1.01it/s]textattack: Saving checkpoint under \"checkpoints\\1720202243303.ta.chkpt\" at 2024-07-06 01:57:23 after 385 attacks.\n"
     ]
    },
    {
     "name": "stdout",
     "output_type": "stream",
     "text": [
      "\n",
      "\n",
      "=============================================================================================================================\n",
      "=============================================================================================================================\n",
      "\n"
     ]
    },
    {
     "name": "stderr",
     "output_type": "stream",
     "text": [
      "[Succeeded / Failed / Skipped / Total] 276 / 28 / 86 / 390:  78%|███████████████▌    | 390/500 [06:25<01:48,  1.01it/s]textattack: Saving checkpoint under \"checkpoints\\1720202246806.ta.chkpt\" at 2024-07-06 01:57:26 after 390 attacks.\n"
     ]
    },
    {
     "name": "stdout",
     "output_type": "stream",
     "text": [
      "\n",
      "\n",
      "=============================================================================================================================\n",
      "=============================================================================================================================\n",
      "\n"
     ]
    },
    {
     "name": "stderr",
     "output_type": "stream",
     "text": [
      "[Succeeded / Failed / Skipped / Total] 278 / 30 / 87 / 395:  79%|███████████████▊    | 395/500 [06:30<01:43,  1.01it/s]textattack: Saving checkpoint under \"checkpoints\\1720202252057.ta.chkpt\" at 2024-07-06 01:57:32 after 395 attacks.\n"
     ]
    },
    {
     "name": "stdout",
     "output_type": "stream",
     "text": [
      "\n",
      "\n",
      "=============================================================================================================================\n",
      "=============================================================================================================================\n",
      "\n"
     ]
    },
    {
     "name": "stderr",
     "output_type": "stream",
     "text": [
      "[Succeeded / Failed / Skipped / Total] 283 / 30 / 87 / 400:  80%|████████████████    | 400/500 [06:37<01:39,  1.01it/s]textattack: Saving checkpoint under \"checkpoints\\1720202258620.ta.chkpt\" at 2024-07-06 01:57:38 after 400 attacks.\n"
     ]
    },
    {
     "name": "stdout",
     "output_type": "stream",
     "text": [
      "\n",
      "\n",
      "=============================================================================================================================\n",
      "=============================================================================================================================\n",
      "\n"
     ]
    },
    {
     "name": "stderr",
     "output_type": "stream",
     "text": [
      "[Succeeded / Failed / Skipped / Total] 287 / 31 / 87 / 405:  81%|████████████████▏   | 405/500 [06:44<01:34,  1.00it/s]textattack: Saving checkpoint under \"checkpoints\\1720202266193.ta.chkpt\" at 2024-07-06 01:57:46 after 405 attacks.\n"
     ]
    },
    {
     "name": "stdout",
     "output_type": "stream",
     "text": [
      "\n",
      "\n",
      "=============================================================================================================================\n",
      "=============================================================================================================================\n",
      "\n"
     ]
    },
    {
     "name": "stderr",
     "output_type": "stream",
     "text": [
      "[Succeeded / Failed / Skipped / Total] 291 / 31 / 88 / 410:  82%|████████████████▍   | 410/500 [06:48<01:29,  1.00it/s]textattack: Saving checkpoint under \"checkpoints\\1720202269631.ta.chkpt\" at 2024-07-06 01:57:49 after 410 attacks.\n"
     ]
    },
    {
     "name": "stdout",
     "output_type": "stream",
     "text": [
      "\n",
      "\n",
      "=============================================================================================================================\n",
      "=============================================================================================================================\n",
      "\n"
     ]
    },
    {
     "name": "stderr",
     "output_type": "stream",
     "text": [
      "[Succeeded / Failed / Skipped / Total] 291 / 32 / 92 / 415:  83%|████████████████▌   | 415/500 [06:50<01:24,  1.01it/s]textattack: Saving checkpoint under \"checkpoints\\1720202271678.ta.chkpt\" at 2024-07-06 01:57:51 after 415 attacks.\n"
     ]
    },
    {
     "name": "stdout",
     "output_type": "stream",
     "text": [
      "\n",
      "\n",
      "=============================================================================================================================\n",
      "=============================================================================================================================\n",
      "\n"
     ]
    },
    {
     "name": "stderr",
     "output_type": "stream",
     "text": [
      "[Succeeded / Failed / Skipped / Total] 294 / 33 / 93 / 420:  84%|████████████████▊   | 420/500 [06:57<01:19,  1.01it/s]textattack: Saving checkpoint under \"checkpoints\\1720202278467.ta.chkpt\" at 2024-07-06 01:57:58 after 420 attacks.\n"
     ]
    },
    {
     "name": "stdout",
     "output_type": "stream",
     "text": [
      "\n",
      "\n",
      "=============================================================================================================================\n",
      "=============================================================================================================================\n",
      "\n"
     ]
    },
    {
     "name": "stderr",
     "output_type": "stream",
     "text": [
      "[Succeeded / Failed / Skipped / Total] 299 / 33 / 93 / 425:  85%|█████████████████   | 425/500 [07:02<01:14,  1.01it/s]textattack: Saving checkpoint under \"checkpoints\\1720202283561.ta.chkpt\" at 2024-07-06 01:58:03 after 425 attacks.\n"
     ]
    },
    {
     "name": "stdout",
     "output_type": "stream",
     "text": [
      "\n",
      "\n",
      "=============================================================================================================================\n",
      "=============================================================================================================================\n",
      "\n"
     ]
    },
    {
     "name": "stderr",
     "output_type": "stream",
     "text": [
      "[Succeeded / Failed / Skipped / Total] 303 / 34 / 93 / 430:  86%|█████████████████▏  | 430/500 [07:10<01:10,  1.00s/it]textattack: Saving checkpoint under \"checkpoints\\1720202291921.ta.chkpt\" at 2024-07-06 01:58:11 after 430 attacks.\n",
      "[Succeeded / Failed / Skipped / Total] 303 / 34 / 94 / 431:  86%|█████████████████▏  | 431/500 [07:10<01:08,  1.00it/s]"
     ]
    },
    {
     "name": "stdout",
     "output_type": "stream",
     "text": [
      "\n",
      "\n",
      "=============================================================================================================================\n",
      "=============================================================================================================================\n",
      "\n"
     ]
    },
    {
     "name": "stderr",
     "output_type": "stream",
     "text": [
      "[Succeeded / Failed / Skipped / Total] 307 / 34 / 94 / 435:  87%|█████████████████▍  | 435/500 [07:14<01:04,  1.00it/s]textattack: Saving checkpoint under \"checkpoints\\1720202295338.ta.chkpt\" at 2024-07-06 01:58:15 after 435 attacks.\n",
      "[Succeeded / Failed / Skipped / Total] 307 / 34 / 95 / 436:  87%|█████████████████▍  | 436/500 [07:14<01:03,  1.00it/s]"
     ]
    },
    {
     "name": "stdout",
     "output_type": "stream",
     "text": [
      "\n",
      "\n",
      "=============================================================================================================================\n",
      "=============================================================================================================================\n",
      "\n"
     ]
    },
    {
     "name": "stderr",
     "output_type": "stream",
     "text": [
      "[Succeeded / Failed / Skipped / Total] 310 / 35 / 95 / 440:  88%|█████████████████▌  | 440/500 [07:21<01:00,  1.00s/it]textattack: Saving checkpoint under \"checkpoints\\1720202302323.ta.chkpt\" at 2024-07-06 01:58:22 after 440 attacks.\n"
     ]
    },
    {
     "name": "stdout",
     "output_type": "stream",
     "text": [
      "\n",
      "\n",
      "=============================================================================================================================\n",
      "=============================================================================================================================\n",
      "\n"
     ]
    },
    {
     "name": "stderr",
     "output_type": "stream",
     "text": [
      "[Succeeded / Failed / Skipped / Total] 314 / 35 / 96 / 445:  89%|█████████████████▊  | 445/500 [07:23<00:54,  1.00it/s]textattack: Saving checkpoint under \"checkpoints\\1720202304698.ta.chkpt\" at 2024-07-06 01:58:24 after 445 attacks.\n"
     ]
    },
    {
     "name": "stdout",
     "output_type": "stream",
     "text": [
      "\n",
      "\n",
      "=============================================================================================================================\n",
      "=============================================================================================================================\n",
      "\n"
     ]
    },
    {
     "name": "stderr",
     "output_type": "stream",
     "text": [
      "[Succeeded / Failed / Skipped / Total] 317 / 35 / 98 / 450:  90%|██████████████████  | 450/500 [07:27<00:49,  1.01it/s]textattack: Saving checkpoint under \"checkpoints\\1720202308839.ta.chkpt\" at 2024-07-06 01:58:28 after 450 attacks.\n"
     ]
    },
    {
     "name": "stdout",
     "output_type": "stream",
     "text": [
      "\n",
      "\n",
      "=============================================================================================================================\n",
      "=============================================================================================================================\n",
      "\n"
     ]
    },
    {
     "name": "stderr",
     "output_type": "stream",
     "text": [
      "[Succeeded / Failed / Skipped / Total] 321 / 35 / 99 / 455:  91%|██████████████████▏ | 455/500 [07:32<00:44,  1.01it/s]textattack: Saving checkpoint under \"checkpoints\\1720202313637.ta.chkpt\" at 2024-07-06 01:58:33 after 455 attacks.\n",
      "[Succeeded / Failed / Skipped / Total] 321 / 35 / 100 / 456:  91%|█████████████████▎ | 456/500 [07:32<00:43,  1.01it/s]"
     ]
    },
    {
     "name": "stdout",
     "output_type": "stream",
     "text": [
      "\n",
      "\n",
      "=============================================================================================================================\n",
      "=============================================================================================================================\n",
      "\n"
     ]
    },
    {
     "name": "stderr",
     "output_type": "stream",
     "text": [
      "[Succeeded / Failed / Skipped / Total] 325 / 35 / 100 / 460:  92%|█████████████████▍ | 460/500 [07:37<00:39,  1.01it/s]textattack: Saving checkpoint under \"checkpoints\\1720202318919.ta.chkpt\" at 2024-07-06 01:58:38 after 460 attacks.\n"
     ]
    },
    {
     "name": "stdout",
     "output_type": "stream",
     "text": [
      "\n",
      "\n",
      "=============================================================================================================================\n",
      "=============================================================================================================================\n",
      "\n"
     ]
    },
    {
     "name": "stderr",
     "output_type": "stream",
     "text": [
      "[Succeeded / Failed / Skipped / Total] 328 / 35 / 102 / 465:  93%|█████████████████▋ | 465/500 [07:42<00:34,  1.00it/s]textattack: Saving checkpoint under \"checkpoints\\1720202324153.ta.chkpt\" at 2024-07-06 01:58:44 after 465 attacks.\n"
     ]
    },
    {
     "name": "stdout",
     "output_type": "stream",
     "text": [
      "\n",
      "\n",
      "=============================================================================================================================\n",
      "=============================================================================================================================\n",
      "\n"
     ]
    },
    {
     "name": "stderr",
     "output_type": "stream",
     "text": [
      "[Succeeded / Failed / Skipped / Total] 332 / 35 / 103 / 470:  94%|█████████████████▊ | 470/500 [07:45<00:29,  1.01it/s]textattack: Saving checkpoint under \"checkpoints\\1720202326280.ta.chkpt\" at 2024-07-06 01:58:46 after 470 attacks.\n"
     ]
    },
    {
     "name": "stdout",
     "output_type": "stream",
     "text": [
      "\n",
      "\n",
      "=============================================================================================================================\n",
      "=============================================================================================================================\n",
      "\n"
     ]
    },
    {
     "name": "stderr",
     "output_type": "stream",
     "text": [
      "[Succeeded / Failed / Skipped / Total] 337 / 35 / 103 / 475:  95%|██████████████████ | 475/500 [07:55<00:25,  1.00s/it]textattack: Saving checkpoint under \"checkpoints\\1720202337079.ta.chkpt\" at 2024-07-06 01:58:57 after 475 attacks.\n"
     ]
    },
    {
     "name": "stdout",
     "output_type": "stream",
     "text": [
      "\n",
      "\n",
      "=============================================================================================================================\n",
      "=============================================================================================================================\n",
      "\n"
     ]
    },
    {
     "name": "stderr",
     "output_type": "stream",
     "text": [
      "[Succeeded / Failed / Skipped / Total] 340 / 37 / 103 / 480:  96%|██████████████████▏| 480/500 [07:59<00:19,  1.00it/s]textattack: Saving checkpoint under \"checkpoints\\1720202341101.ta.chkpt\" at 2024-07-06 01:59:01 after 480 attacks.\n"
     ]
    },
    {
     "name": "stdout",
     "output_type": "stream",
     "text": [
      "\n",
      "\n",
      "=============================================================================================================================\n",
      "=============================================================================================================================\n",
      "\n"
     ]
    },
    {
     "name": "stderr",
     "output_type": "stream",
     "text": [
      "[Succeeded / Failed / Skipped / Total] 343 / 38 / 104 / 485:  97%|██████████████████▍| 485/500 [08:06<00:15,  1.00s/it]textattack: Saving checkpoint under \"checkpoints\\1720202348033.ta.chkpt\" at 2024-07-06 01:59:08 after 485 attacks.\n"
     ]
    },
    {
     "name": "stdout",
     "output_type": "stream",
     "text": [
      "\n",
      "\n",
      "=============================================================================================================================\n",
      "=============================================================================================================================\n",
      "\n"
     ]
    },
    {
     "name": "stderr",
     "output_type": "stream",
     "text": [
      "[Succeeded / Failed / Skipped / Total] 345 / 39 / 106 / 490:  98%|██████████████████▌| 490/500 [08:10<00:10,  1.00s/it]textattack: Saving checkpoint under \"checkpoints\\1720202351908.ta.chkpt\" at 2024-07-06 01:59:11 after 490 attacks.\n",
      "[Succeeded / Failed / Skipped / Total] 345 / 39 / 107 / 491:  98%|██████████████████▋| 491/500 [08:10<00:08,  1.00it/s]"
     ]
    },
    {
     "name": "stdout",
     "output_type": "stream",
     "text": [
      "\n",
      "\n",
      "=============================================================================================================================\n",
      "=============================================================================================================================\n",
      "\n"
     ]
    },
    {
     "name": "stderr",
     "output_type": "stream",
     "text": [
      "[Succeeded / Failed / Skipped / Total] 349 / 39 / 107 / 495:  99%|██████████████████▊| 495/500 [08:16<00:05,  1.00s/it]textattack: Saving checkpoint under \"checkpoints\\1720202357455.ta.chkpt\" at 2024-07-06 01:59:17 after 495 attacks.\n"
     ]
    },
    {
     "name": "stdout",
     "output_type": "stream",
     "text": [
      "\n",
      "\n",
      "=============================================================================================================================\n",
      "=============================================================================================================================\n",
      "\n"
     ]
    },
    {
     "name": "stderr",
     "output_type": "stream",
     "text": [
      "[Succeeded / Failed / Skipped / Total] 354 / 39 / 107 / 500: 100%|███████████████████| 500/500 [08:24<00:00,  1.01s/it]textattack: Saving checkpoint under \"checkpoints\\1720202365972.ta.chkpt\" at 2024-07-06 01:59:25 after 500 attacks.\n",
      "[Succeeded / Failed / Skipped / Total] 354 / 39 / 107 / 500: 100%|███████████████████| 500/500 [08:24<00:00,  1.01s/it]"
     ]
    },
    {
     "name": "stdout",
     "output_type": "stream",
     "text": [
      "\n",
      "\n",
      "=============================================================================================================================\n",
      "=============================================================================================================================\n",
      "\n",
      "\n",
      "+-------------------------------+--------+\n",
      "| Attack Results                |        |\n",
      "+-------------------------------+--------+\n",
      "| Number of successful attacks: | 354    |\n",
      "| Number of failed attacks:     | 39     |\n",
      "| Number of skipped attacks:    | 107    |\n",
      "| Original accuracy:            | 78.6%  |\n",
      "| Accuracy under attack:        | 7.8%   |\n",
      "| Attack success rate:          | 90.08% |\n",
      "| Average perturbed word %:     | 18.0%  |\n",
      "| Average num. words per input: | 18.4   |\n",
      "| Avg num queries:              | 45.04  |\n",
      "+-------------------------------+--------+\n"
     ]
    },
    {
     "name": "stderr",
     "output_type": "stream",
     "text": [
      "\n"
     ]
    }
   ],
   "source": [
    "runAttack(disbert_model_wrapper_svc_mr, n_samples, 'attack_results_new/disbertmrattacksvc'+suffix, target_ds_mr)"
   ]
  },
  {
   "cell_type": "markdown",
   "id": "11f01fff-dcd8-43f2-9b5b-d84826b7029b",
   "metadata": {},
   "source": [
    "### CLIP"
   ]
  },
  {
   "cell_type": "code",
   "execution_count": 24,
   "id": "91dc94fc-775d-4ee6-ba68-20bee81b8148",
   "metadata": {},
   "outputs": [
    {
     "name": "stderr",
     "output_type": "stream",
     "text": [
      "D:\\anaconda3\\envs\\tf\\lib\\site-packages\\huggingface_hub\\file_download.py:1132: FutureWarning: `resume_download` is deprecated and will be removed in version 1.0.0. Downloads always resume when possible. If you want to force a new download, use `force_download=True`.\n",
      "  warnings.warn(\n"
     ]
    }
   ],
   "source": [
    "# Load CLIP model and processor\n",
    "model_name = \"openai/clip-vit-base-patch32\"\n",
    "clip_processor = CLIPProcessor.from_pretrained(model_name)\n",
    "clip_model = CLIPModel.from_pretrained(model_name)\n",
    "\n",
    "# Access text encoder\n",
    "text_encoder = clip_model.text_model"
   ]
  },
  {
   "cell_type": "code",
   "execution_count": 25,
   "id": "806470a6-11a7-47bf-99c8-850663674716",
   "metadata": {},
   "outputs": [
    {
     "name": "stdout",
     "output_type": "stream",
     "text": [
      "Log Reg 0.7495309568480301\n",
      "RF 0.7054409005628518\n",
      "KNN 0.6885553470919324\n",
      "SVC 0.7551594746716698\n"
     ]
    }
   ],
   "source": [
    "clipmrtrain = pd.read_csv('dataset_embeddings/clipmrtrain.txt', header=None)\n",
    "clipmrtest = pd.read_csv('dataset_embeddings/clipmrtest.txt', header=None)\n",
    "lr_clip_mr, rf_clip_mr, knn_clip_mr, svc_clip_mr = adaptation(clipmrtrain, clipmrtest)"
   ]
  },
  {
   "cell_type": "code",
   "execution_count": 26,
   "id": "1226de83-7330-4793-bbbb-4ff4b79bb3e7",
   "metadata": {},
   "outputs": [],
   "source": [
    "# custom model wrapper for CLIP\n",
    "class CLIPModelWrapper(HuggingFaceModelWrapper):\n",
    "    def __init__(self, processor, text_encoder, classifier):\n",
    "        self.processor = processor\n",
    "        self.model = text_encoder\n",
    "        self.classifier = classifier\n",
    "\n",
    "    def __call__(self, text_input_list):\n",
    "        inputs = self.processor(text_input_list, return_tensors='pt', padding=True, truncation=True)\n",
    "        outputs = self.model(**inputs).pooler_output\n",
    "        with torch.no_grad():\n",
    "            preds = self.classifier.predict_proba(outputs)\n",
    "        return preds"
   ]
  },
  {
   "cell_type": "code",
   "execution_count": 27,
   "id": "34a07916-1e13-4b75-b9a9-a36c06e4feb1",
   "metadata": {},
   "outputs": [],
   "source": [
    "clip_model_wrapper_lr_mr = CLIPModelWrapper(clip_processor, text_encoder, lr_clip_mr)\n",
    "clip_model_wrapper_rf_mr = CLIPModelWrapper(clip_processor, text_encoder, rf_clip_mr)\n",
    "clip_model_wrapper_knn_mr = CLIPModelWrapper(clip_processor, text_encoder, knn_clip_mr)\n",
    "clip_model_wrapper_svc_mr = CLIPModelWrapper(clip_processor, text_encoder, svc_clip_mr)"
   ]
  },
  {
   "cell_type": "code",
   "execution_count": 28,
   "id": "31968c92-5988-4472-8c2b-de82302e8543",
   "metadata": {},
   "outputs": [
    {
     "name": "stderr",
     "output_type": "stream",
     "text": [
      "textattack: Unknown if model of class <class 'transformers.models.clip.modeling_clip.CLIPTextTransformer'> compatible with goal function <class 'textattack.goal_functions.classification.untargeted_classification.UntargetedClassification'>.\n",
      "textattack: Logging to CSV at path attack_results_new/clipmrattacklrsim07.csv\n"
     ]
    },
    {
     "name": "stdout",
     "output_type": "stream",
     "text": [
      "Attack(\n",
      "  (search_method): GreedyWordSwapWIR(\n",
      "    (wir_method):  delete\n",
      "  )\n",
      "  (goal_function):  UntargetedClassification\n",
      "  (transformation):  WordSwapEmbedding(\n",
      "    (max_candidates):  50\n",
      "    (embedding):  WordEmbedding\n",
      "  )\n",
      "  (constraints): \n",
      "    (0): WordEmbeddingDistance(\n",
      "        (embedding):  WordEmbedding\n",
      "        (min_cos_sim):  0.7\n",
      "        (cased):  False\n",
      "        (include_unknown_words):  True\n",
      "        (compare_against_original):  True\n",
      "      )\n",
      "    (1): PartOfSpeech(\n",
      "        (tagger_type):  nltk\n",
      "        (tagset):  universal\n",
      "        (allow_verb_noun_swap):  True\n",
      "        (compare_against_original):  True\n",
      "      )\n",
      "    (2): UniversalSentenceEncoder(\n",
      "        (metric):  angular\n",
      "        (threshold):  0.840845057\n",
      "        (window_size):  15\n",
      "        (skip_text_shorter_than_window):  True\n",
      "        (compare_against_original):  False\n",
      "      )\n",
      "    (3): RepeatModification\n",
      "    (4): StopwordModification\n",
      "    (5): InputColumnModification(\n",
      "        (matching_column_labels):  ['premise', 'hypothesis']\n",
      "        (columns_to_ignore):  {'premise'}\n",
      "      )\n",
      "  (is_black_box):  True\n",
      ") \n",
      "\n"
     ]
    },
    {
     "name": "stderr",
     "output_type": "stream",
     "text": [
      "[Succeeded / Failed / Skipped / Total] 5 / 0 / 0 / 5:   1%|▎                           | 5/500 [00:13<22:42,  2.75s/it]textattack: Saving checkpoint under \"checkpoints\\1720202779843.ta.chkpt\" at 2024-07-06 02:06:19 after 5 attacks.\n",
      "[Succeeded / Failed / Skipped / Total] 5 / 0 / 1 / 6:   1%|▎                           | 6/500 [00:13<18:58,  2.30s/it]"
     ]
    },
    {
     "name": "stdout",
     "output_type": "stream",
     "text": [
      "\n",
      "\n",
      "=============================================================================================================================\n",
      "=============================================================================================================================\n",
      "\n"
     ]
    },
    {
     "name": "stderr",
     "output_type": "stream",
     "text": [
      "[Succeeded / Failed / Skipped / Total] 9 / 0 / 1 / 10:   2%|▌                         | 10/500 [00:17<14:14,  1.74s/it]textattack: Saving checkpoint under \"checkpoints\\1720202783515.ta.chkpt\" at 2024-07-06 02:06:23 after 10 attacks.\n"
     ]
    },
    {
     "name": "stdout",
     "output_type": "stream",
     "text": [
      "\n",
      "\n",
      "=============================================================================================================================\n",
      "=============================================================================================================================\n",
      "\n"
     ]
    },
    {
     "name": "stderr",
     "output_type": "stream",
     "text": [
      "[Succeeded / Failed / Skipped / Total] 13 / 1 / 1 / 15:   3%|▊                        | 15/500 [00:29<15:55,  1.97s/it]textattack: Saving checkpoint under \"checkpoints\\1720202795641.ta.chkpt\" at 2024-07-06 02:06:35 after 15 attacks.\n"
     ]
    },
    {
     "name": "stdout",
     "output_type": "stream",
     "text": [
      "\n",
      "\n",
      "=============================================================================================================================\n",
      "=============================================================================================================================\n",
      "\n"
     ]
    },
    {
     "name": "stderr",
     "output_type": "stream",
     "text": [
      "[Succeeded / Failed / Skipped / Total] 18 / 1 / 1 / 20:   4%|█                        | 20/500 [00:32<12:53,  1.61s/it]textattack: Saving checkpoint under \"checkpoints\\1720202798297.ta.chkpt\" at 2024-07-06 02:06:38 after 20 attacks.\n"
     ]
    },
    {
     "name": "stdout",
     "output_type": "stream",
     "text": [
      "\n",
      "\n",
      "=============================================================================================================================\n",
      "=============================================================================================================================\n",
      "\n"
     ]
    },
    {
     "name": "stderr",
     "output_type": "stream",
     "text": [
      "[Succeeded / Failed / Skipped / Total] 22 / 1 / 2 / 25:   5%|█▎                       | 25/500 [00:36<11:29,  1.45s/it]textattack: Saving checkpoint under \"checkpoints\\1720202802361.ta.chkpt\" at 2024-07-06 02:06:42 after 25 attacks.\n"
     ]
    },
    {
     "name": "stdout",
     "output_type": "stream",
     "text": [
      "\n",
      "\n",
      "=============================================================================================================================\n",
      "=============================================================================================================================\n",
      "\n"
     ]
    },
    {
     "name": "stderr",
     "output_type": "stream",
     "text": [
      "[Succeeded / Failed / Skipped / Total] 26 / 1 / 3 / 30:   6%|█▌                       | 30/500 [00:40<10:36,  1.35s/it]textattack: Saving checkpoint under \"checkpoints\\1720202806705.ta.chkpt\" at 2024-07-06 02:06:46 after 30 attacks.\n"
     ]
    },
    {
     "name": "stdout",
     "output_type": "stream",
     "text": [
      "\n",
      "\n",
      "=============================================================================================================================\n",
      "=============================================================================================================================\n",
      "\n"
     ]
    },
    {
     "name": "stderr",
     "output_type": "stream",
     "text": [
      "[Succeeded / Failed / Skipped / Total] 29 / 1 / 5 / 35:   7%|█▊                       | 35/500 [00:42<09:29,  1.22s/it]textattack: Saving checkpoint under \"checkpoints\\1720202808939.ta.chkpt\" at 2024-07-06 02:06:48 after 35 attacks.\n"
     ]
    },
    {
     "name": "stdout",
     "output_type": "stream",
     "text": [
      "\n",
      "\n",
      "=============================================================================================================================\n",
      "=============================================================================================================================\n",
      "\n"
     ]
    },
    {
     "name": "stderr",
     "output_type": "stream",
     "text": [
      "[Succeeded / Failed / Skipped / Total] 32 / 1 / 7 / 40:   8%|██                       | 40/500 [00:45<08:41,  1.13s/it]textattack: Saving checkpoint under \"checkpoints\\1720202811424.ta.chkpt\" at 2024-07-06 02:06:51 after 40 attacks.\n"
     ]
    },
    {
     "name": "stdout",
     "output_type": "stream",
     "text": [
      "\n",
      "\n",
      "=============================================================================================================================\n",
      "=============================================================================================================================\n",
      "\n"
     ]
    },
    {
     "name": "stderr",
     "output_type": "stream",
     "text": [
      "[Succeeded / Failed / Skipped / Total] 35 / 1 / 9 / 45:   9%|██▎                      | 45/500 [00:52<08:46,  1.16s/it]textattack: Saving checkpoint under \"checkpoints\\1720202818128.ta.chkpt\" at 2024-07-06 02:06:58 after 45 attacks.\n"
     ]
    },
    {
     "name": "stdout",
     "output_type": "stream",
     "text": [
      "\n",
      "\n",
      "=============================================================================================================================\n",
      "=============================================================================================================================\n",
      "\n"
     ]
    },
    {
     "name": "stderr",
     "output_type": "stream",
     "text": [
      "[Succeeded / Failed / Skipped / Total] 40 / 1 / 9 / 50:  10%|██▌                      | 50/500 [00:56<08:31,  1.14s/it]textattack: Saving checkpoint under \"checkpoints\\1720202822972.ta.chkpt\" at 2024-07-06 02:07:02 after 50 attacks.\n"
     ]
    },
    {
     "name": "stdout",
     "output_type": "stream",
     "text": [
      "\n",
      "\n",
      "=============================================================================================================================\n",
      "=============================================================================================================================\n",
      "\n"
     ]
    },
    {
     "name": "stderr",
     "output_type": "stream",
     "text": [
      "[Succeeded / Failed / Skipped / Total] 44 / 1 / 10 / 55:  11%|██▋                     | 55/500 [01:01<08:19,  1.12s/it]textattack: Saving checkpoint under \"checkpoints\\1720202827863.ta.chkpt\" at 2024-07-06 02:07:07 after 55 attacks.\n"
     ]
    },
    {
     "name": "stdout",
     "output_type": "stream",
     "text": [
      "\n",
      "\n",
      "=============================================================================================================================\n",
      "=============================================================================================================================\n",
      "\n"
     ]
    },
    {
     "name": "stderr",
     "output_type": "stream",
     "text": [
      "[Succeeded / Failed / Skipped / Total] 48 / 1 / 11 / 60:  12%|██▉                     | 60/500 [01:06<08:04,  1.10s/it]textattack: Saving checkpoint under \"checkpoints\\1720202832129.ta.chkpt\" at 2024-07-06 02:07:12 after 60 attacks.\n",
      "[Succeeded / Failed / Skipped / Total] 48 / 1 / 12 / 61:  12%|██▉                     | 61/500 [01:06<07:55,  1.08s/it]"
     ]
    },
    {
     "name": "stdout",
     "output_type": "stream",
     "text": [
      "\n",
      "\n",
      "=============================================================================================================================\n",
      "=============================================================================================================================\n",
      "\n"
     ]
    },
    {
     "name": "stderr",
     "output_type": "stream",
     "text": [
      "[Succeeded / Failed / Skipped / Total] 52 / 1 / 12 / 65:  13%|███                     | 65/500 [01:09<07:42,  1.06s/it]textattack: Saving checkpoint under \"checkpoints\\1720202835251.ta.chkpt\" at 2024-07-06 02:07:15 after 65 attacks.\n"
     ]
    },
    {
     "name": "stdout",
     "output_type": "stream",
     "text": [
      "\n",
      "\n",
      "=============================================================================================================================\n",
      "=============================================================================================================================\n",
      "\n"
     ]
    },
    {
     "name": "stderr",
     "output_type": "stream",
     "text": [
      "[Succeeded / Failed / Skipped / Total] 56 / 1 / 13 / 70:  14%|███▎                    | 70/500 [01:13<07:29,  1.05s/it]textattack: Saving checkpoint under \"checkpoints\\1720202839287.ta.chkpt\" at 2024-07-06 02:07:19 after 70 attacks.\n"
     ]
    },
    {
     "name": "stdout",
     "output_type": "stream",
     "text": [
      "\n",
      "\n",
      "=============================================================================================================================\n",
      "=============================================================================================================================\n",
      "\n"
     ]
    },
    {
     "name": "stderr",
     "output_type": "stream",
     "text": [
      "[Succeeded / Failed / Skipped / Total] 61 / 1 / 13 / 75:  15%|███▌                    | 75/500 [01:17<07:19,  1.04s/it]textattack: Saving checkpoint under \"checkpoints\\1720202843709.ta.chkpt\" at 2024-07-06 02:07:23 after 75 attacks.\n",
      "[Succeeded / Failed / Skipped / Total] 61 / 1 / 14 / 76:  15%|███▋                    | 76/500 [01:17<07:13,  1.02s/it]"
     ]
    },
    {
     "name": "stdout",
     "output_type": "stream",
     "text": [
      "\n",
      "\n",
      "=============================================================================================================================\n",
      "=============================================================================================================================\n",
      "\n"
     ]
    },
    {
     "name": "stderr",
     "output_type": "stream",
     "text": [
      "[Succeeded / Failed / Skipped / Total] 64 / 1 / 15 / 80:  16%|███▊                    | 80/500 [01:20<07:02,  1.00s/it]textattack: Saving checkpoint under \"checkpoints\\1720202846475.ta.chkpt\" at 2024-07-06 02:07:26 after 80 attacks.\n",
      "[Succeeded / Failed / Skipped / Total] 64 / 1 / 17 / 82:  16%|███▉                    | 82/500 [01:20<06:50,  1.02it/s]"
     ]
    },
    {
     "name": "stdout",
     "output_type": "stream",
     "text": [
      "\n",
      "\n",
      "=============================================================================================================================\n",
      "=============================================================================================================================\n",
      "\n"
     ]
    },
    {
     "name": "stderr",
     "output_type": "stream",
     "text": [
      "[Succeeded / Failed / Skipped / Total] 67 / 1 / 17 / 85:  17%|████                    | 85/500 [01:22<06:44,  1.03it/s]textattack: Saving checkpoint under \"checkpoints\\1720202848866.ta.chkpt\" at 2024-07-06 02:07:28 after 85 attacks.\n"
     ]
    },
    {
     "name": "stdout",
     "output_type": "stream",
     "text": [
      "\n",
      "\n",
      "=============================================================================================================================\n",
      "=============================================================================================================================\n",
      "\n"
     ]
    },
    {
     "name": "stderr",
     "output_type": "stream",
     "text": [
      "[Succeeded / Failed / Skipped / Total] 71 / 1 / 18 / 90:  18%|████▎                   | 90/500 [01:26<06:33,  1.04it/s]textattack: Saving checkpoint under \"checkpoints\\1720202852546.ta.chkpt\" at 2024-07-06 02:07:32 after 90 attacks.\n",
      "[Succeeded / Failed / Skipped / Total] 71 / 1 / 20 / 92:  18%|████▍                   | 92/500 [01:26<06:24,  1.06it/s]"
     ]
    },
    {
     "name": "stdout",
     "output_type": "stream",
     "text": [
      "\n",
      "\n",
      "=============================================================================================================================\n",
      "=============================================================================================================================\n",
      "\n"
     ]
    },
    {
     "name": "stderr",
     "output_type": "stream",
     "text": [
      "[Succeeded / Failed / Skipped / Total] 73 / 1 / 21 / 95:  19%|████▌                   | 95/500 [01:29<06:21,  1.06it/s]textattack: Saving checkpoint under \"checkpoints\\1720202855655.ta.chkpt\" at 2024-07-06 02:07:35 after 95 attacks.\n"
     ]
    },
    {
     "name": "stdout",
     "output_type": "stream",
     "text": [
      "\n",
      "\n",
      "=============================================================================================================================\n",
      "=============================================================================================================================\n",
      "\n"
     ]
    },
    {
     "name": "stderr",
     "output_type": "stream",
     "text": [
      "[Succeeded / Failed / Skipped / Total] 78 / 1 / 21 / 100:  20%|████▍                 | 100/500 [01:32<06:11,  1.08it/s]textattack: Saving checkpoint under \"checkpoints\\1720202858999.ta.chkpt\" at 2024-07-06 02:07:38 after 100 attacks.\n"
     ]
    },
    {
     "name": "stdout",
     "output_type": "stream",
     "text": [
      "\n",
      "\n",
      "=============================================================================================================================\n",
      "=============================================================================================================================\n",
      "\n"
     ]
    },
    {
     "name": "stderr",
     "output_type": "stream",
     "text": [
      "[Succeeded / Failed / Skipped / Total] 82 / 1 / 22 / 105:  21%|████▌                 | 105/500 [01:38<06:09,  1.07it/s]textattack: Saving checkpoint under \"checkpoints\\1720202864172.ta.chkpt\" at 2024-07-06 02:07:44 after 105 attacks.\n",
      "[Succeeded / Failed / Skipped / Total] 82 / 1 / 23 / 106:  21%|████▋                 | 106/500 [01:38<06:04,  1.08it/s]"
     ]
    },
    {
     "name": "stdout",
     "output_type": "stream",
     "text": [
      "\n",
      "\n",
      "=============================================================================================================================\n",
      "=============================================================================================================================\n",
      "\n"
     ]
    },
    {
     "name": "stderr",
     "output_type": "stream",
     "text": [
      "[Succeeded / Failed / Skipped / Total] 84 / 1 / 25 / 110:  22%|████▊                 | 110/500 [01:39<05:53,  1.10it/s]textattack: Saving checkpoint under \"checkpoints\\1720202865750.ta.chkpt\" at 2024-07-06 02:07:45 after 110 attacks.\n",
      "[Succeeded / Failed / Skipped / Total] 84 / 1 / 26 / 111:  22%|████▉                 | 111/500 [01:39<05:49,  1.11it/s]"
     ]
    },
    {
     "name": "stdout",
     "output_type": "stream",
     "text": [
      "\n",
      "\n",
      "=============================================================================================================================\n",
      "=============================================================================================================================\n",
      "\n"
     ]
    },
    {
     "name": "stderr",
     "output_type": "stream",
     "text": [
      "[Succeeded / Failed / Skipped / Total] 86 / 1 / 28 / 115:  23%|█████                 | 115/500 [01:41<05:40,  1.13it/s]textattack: Saving checkpoint under \"checkpoints\\1720202867922.ta.chkpt\" at 2024-07-06 02:07:47 after 115 attacks.\n"
     ]
    },
    {
     "name": "stdout",
     "output_type": "stream",
     "text": [
      "\n",
      "\n",
      "=============================================================================================================================\n",
      "=============================================================================================================================\n",
      "\n"
     ]
    },
    {
     "name": "stderr",
     "output_type": "stream",
     "text": [
      "[Succeeded / Failed / Skipped / Total] 88 / 2 / 30 / 120:  24%|█████▎                | 120/500 [01:44<05:30,  1.15it/s]textattack: Saving checkpoint under \"checkpoints\\1720202870594.ta.chkpt\" at 2024-07-06 02:07:50 after 120 attacks.\n",
      "[Succeeded / Failed / Skipped / Total] 88 / 2 / 31 / 121:  24%|█████▎                | 121/500 [01:44<05:27,  1.16it/s]"
     ]
    },
    {
     "name": "stdout",
     "output_type": "stream",
     "text": [
      "\n",
      "\n",
      "=============================================================================================================================\n",
      "=============================================================================================================================\n",
      "\n"
     ]
    },
    {
     "name": "stderr",
     "output_type": "stream",
     "text": [
      "[Succeeded / Failed / Skipped / Total] 91 / 2 / 32 / 125:  25%|█████▌                | 125/500 [01:46<05:20,  1.17it/s]textattack: Saving checkpoint under \"checkpoints\\1720202873001.ta.chkpt\" at 2024-07-06 02:07:53 after 125 attacks.\n"
     ]
    },
    {
     "name": "stdout",
     "output_type": "stream",
     "text": [
      "\n",
      "\n",
      "=============================================================================================================================\n",
      "=============================================================================================================================\n",
      "\n"
     ]
    },
    {
     "name": "stderr",
     "output_type": "stream",
     "text": [
      "[Succeeded / Failed / Skipped / Total] 96 / 2 / 32 / 130:  26%|█████▋                | 130/500 [01:52<05:18,  1.16it/s]textattack: Saving checkpoint under \"checkpoints\\1720202878126.ta.chkpt\" at 2024-07-06 02:07:58 after 130 attacks.\n",
      "[Succeeded / Failed / Skipped / Total] 96 / 2 / 33 / 131:  26%|█████▊                | 131/500 [01:52<05:15,  1.17it/s]"
     ]
    },
    {
     "name": "stdout",
     "output_type": "stream",
     "text": [
      "\n",
      "\n",
      "=============================================================================================================================\n",
      "=============================================================================================================================\n",
      "\n"
     ]
    },
    {
     "name": "stderr",
     "output_type": "stream",
     "text": [
      "[Succeeded / Failed / Skipped / Total] 99 / 2 / 34 / 135:  27%|█████▉                | 135/500 [01:55<05:11,  1.17it/s]textattack: Saving checkpoint under \"checkpoints\\1720202881251.ta.chkpt\" at 2024-07-06 02:08:01 after 135 attacks.\n"
     ]
    },
    {
     "name": "stdout",
     "output_type": "stream",
     "text": [
      "\n",
      "\n",
      "=============================================================================================================================\n",
      "=============================================================================================================================\n",
      "\n"
     ]
    },
    {
     "name": "stderr",
     "output_type": "stream",
     "text": [
      "[Succeeded / Failed / Skipped / Total] 102 / 2 / 36 / 140:  28%|█████▉               | 140/500 [01:57<05:02,  1.19it/s]textattack: Saving checkpoint under \"checkpoints\\1720202883689.ta.chkpt\" at 2024-07-06 02:08:03 after 140 attacks.\n"
     ]
    },
    {
     "name": "stdout",
     "output_type": "stream",
     "text": [
      "\n",
      "\n",
      "=============================================================================================================================\n",
      "=============================================================================================================================\n",
      "\n"
     ]
    },
    {
     "name": "stderr",
     "output_type": "stream",
     "text": [
      "[Succeeded / Failed / Skipped / Total] 105 / 2 / 38 / 145:  29%|██████               | 145/500 [02:00<04:54,  1.21it/s]textattack: Saving checkpoint under \"checkpoints\\1720202886267.ta.chkpt\" at 2024-07-06 02:08:06 after 145 attacks.\n",
      "[Succeeded / Failed / Skipped / Total] 105 / 2 / 39 / 146:  29%|██████▏              | 146/500 [02:00<04:51,  1.21it/s]"
     ]
    },
    {
     "name": "stdout",
     "output_type": "stream",
     "text": [
      "\n",
      "\n",
      "=============================================================================================================================\n",
      "=============================================================================================================================\n",
      "\n"
     ]
    },
    {
     "name": "stderr",
     "output_type": "stream",
     "text": [
      "[Succeeded / Failed / Skipped / Total] 108 / 2 / 40 / 150:  30%|██████▎              | 150/500 [02:02<04:46,  1.22it/s]textattack: Saving checkpoint under \"checkpoints\\1720202888752.ta.chkpt\" at 2024-07-06 02:08:08 after 150 attacks.\n",
      "[Succeeded / Failed / Skipped / Total] 108 / 2 / 41 / 151:  30%|██████▎              | 151/500 [02:02<04:43,  1.23it/s]"
     ]
    },
    {
     "name": "stdout",
     "output_type": "stream",
     "text": [
      "\n",
      "\n",
      "=============================================================================================================================\n",
      "=============================================================================================================================\n",
      "\n"
     ]
    },
    {
     "name": "stderr",
     "output_type": "stream",
     "text": [
      "[Succeeded / Failed / Skipped / Total] 110 / 3 / 42 / 155:  31%|██████▌              | 155/500 [02:08<04:46,  1.21it/s]textattack: Saving checkpoint under \"checkpoints\\1720202894629.ta.chkpt\" at 2024-07-06 02:08:14 after 155 attacks.\n"
     ]
    },
    {
     "name": "stdout",
     "output_type": "stream",
     "text": [
      "\n",
      "\n",
      "=============================================================================================================================\n",
      "=============================================================================================================================\n",
      "\n"
     ]
    },
    {
     "name": "stderr",
     "output_type": "stream",
     "text": [
      "[Succeeded / Failed / Skipped / Total] 113 / 3 / 44 / 160:  32%|██████▋              | 160/500 [02:14<04:45,  1.19it/s]textattack: Saving checkpoint under \"checkpoints\\1720202900489.ta.chkpt\" at 2024-07-06 02:08:20 after 160 attacks.\n",
      "[Succeeded / Failed / Skipped / Total] 113 / 3 / 45 / 161:  32%|██████▊              | 161/500 [02:14<04:43,  1.20it/s]"
     ]
    },
    {
     "name": "stdout",
     "output_type": "stream",
     "text": [
      "\n",
      "\n",
      "=============================================================================================================================\n",
      "=============================================================================================================================\n",
      "\n"
     ]
    },
    {
     "name": "stderr",
     "output_type": "stream",
     "text": [
      "[Succeeded / Failed / Skipped / Total] 115 / 3 / 47 / 165:  33%|██████▉              | 165/500 [02:16<04:37,  1.21it/s]textattack: Saving checkpoint under \"checkpoints\\1720202902536.ta.chkpt\" at 2024-07-06 02:08:22 after 165 attacks.\n"
     ]
    },
    {
     "name": "stdout",
     "output_type": "stream",
     "text": [
      "\n",
      "\n",
      "=============================================================================================================================\n",
      "=============================================================================================================================\n",
      "\n"
     ]
    },
    {
     "name": "stderr",
     "output_type": "stream",
     "text": [
      "[Succeeded / Failed / Skipped / Total] 118 / 3 / 49 / 170:  34%|███████▏             | 170/500 [02:20<04:32,  1.21it/s]textattack: Saving checkpoint under \"checkpoints\\1720202906240.ta.chkpt\" at 2024-07-06 02:08:26 after 170 attacks.\n"
     ]
    },
    {
     "name": "stdout",
     "output_type": "stream",
     "text": [
      "\n",
      "\n",
      "=============================================================================================================================\n",
      "=============================================================================================================================\n",
      "\n"
     ]
    },
    {
     "name": "stderr",
     "output_type": "stream",
     "text": [
      "[Succeeded / Failed / Skipped / Total] 123 / 3 / 49 / 175:  35%|███████▎             | 175/500 [02:30<04:39,  1.16it/s]textattack: Saving checkpoint under \"checkpoints\\1720202916802.ta.chkpt\" at 2024-07-06 02:08:36 after 175 attacks.\n",
      "[Succeeded / Failed / Skipped / Total] 123 / 3 / 50 / 176:  35%|███████▍             | 176/500 [02:30<04:37,  1.17it/s]"
     ]
    },
    {
     "name": "stdout",
     "output_type": "stream",
     "text": [
      "\n",
      "\n",
      "=============================================================================================================================\n",
      "=============================================================================================================================\n",
      "\n"
     ]
    },
    {
     "name": "stderr",
     "output_type": "stream",
     "text": [
      "[Succeeded / Failed / Skipped / Total] 126 / 3 / 51 / 180:  36%|███████▌             | 180/500 [02:33<04:33,  1.17it/s]textattack: Saving checkpoint under \"checkpoints\\1720202920054.ta.chkpt\" at 2024-07-06 02:08:40 after 180 attacks.\n"
     ]
    },
    {
     "name": "stdout",
     "output_type": "stream",
     "text": [
      "\n",
      "\n",
      "=============================================================================================================================\n",
      "=============================================================================================================================\n",
      "\n"
     ]
    },
    {
     "name": "stderr",
     "output_type": "stream",
     "text": [
      "[Succeeded / Failed / Skipped / Total] 128 / 4 / 53 / 185:  37%|███████▊             | 185/500 [02:36<04:25,  1.19it/s]textattack: Saving checkpoint under \"checkpoints\\1720202922101.ta.chkpt\" at 2024-07-06 02:08:42 after 185 attacks.\n",
      "[Succeeded / Failed / Skipped / Total] 128 / 4 / 54 / 186:  37%|███████▊             | 186/500 [02:36<04:23,  1.19it/s]"
     ]
    },
    {
     "name": "stdout",
     "output_type": "stream",
     "text": [
      "\n",
      "\n",
      "=============================================================================================================================\n",
      "=============================================================================================================================\n",
      "\n"
     ]
    },
    {
     "name": "stderr",
     "output_type": "stream",
     "text": [
      "[Succeeded / Failed / Skipped / Total] 132 / 4 / 54 / 190:  38%|███████▉             | 190/500 [02:41<04:22,  1.18it/s]textattack: Saving checkpoint under \"checkpoints\\1720202927117.ta.chkpt\" at 2024-07-06 02:08:47 after 190 attacks.\n"
     ]
    },
    {
     "name": "stdout",
     "output_type": "stream",
     "text": [
      "\n",
      "\n",
      "=============================================================================================================================\n",
      "=============================================================================================================================\n",
      "\n"
     ]
    },
    {
     "name": "stderr",
     "output_type": "stream",
     "text": [
      "[Succeeded / Failed / Skipped / Total] 135 / 4 / 56 / 195:  39%|████████▏            | 195/500 [02:44<04:17,  1.18it/s]textattack: Saving checkpoint under \"checkpoints\\1720202930742.ta.chkpt\" at 2024-07-06 02:08:50 after 195 attacks.\n"
     ]
    },
    {
     "name": "stdout",
     "output_type": "stream",
     "text": [
      "\n",
      "\n",
      "=============================================================================================================================\n",
      "=============================================================================================================================\n",
      "\n"
     ]
    },
    {
     "name": "stderr",
     "output_type": "stream",
     "text": [
      "[Succeeded / Failed / Skipped / Total] 139 / 4 / 57 / 200:  40%|████████▍            | 200/500 [02:49<04:14,  1.18it/s]textattack: Saving checkpoint under \"checkpoints\\1720202936073.ta.chkpt\" at 2024-07-06 02:08:56 after 200 attacks.\n"
     ]
    },
    {
     "name": "stdout",
     "output_type": "stream",
     "text": [
      "\n",
      "\n",
      "=============================================================================================================================\n",
      "=============================================================================================================================\n",
      "\n"
     ]
    },
    {
     "name": "stderr",
     "output_type": "stream",
     "text": [
      "[Succeeded / Failed / Skipped / Total] 142 / 5 / 58 / 205:  41%|████████▌            | 205/500 [02:54<04:10,  1.18it/s]textattack: Saving checkpoint under \"checkpoints\\1720202940449.ta.chkpt\" at 2024-07-06 02:09:00 after 205 attacks.\n",
      "[Succeeded / Failed / Skipped / Total] 142 / 5 / 59 / 206:  41%|████████▋            | 206/500 [02:54<04:08,  1.18it/s]"
     ]
    },
    {
     "name": "stdout",
     "output_type": "stream",
     "text": [
      "\n",
      "\n",
      "=============================================================================================================================\n",
      "=============================================================================================================================\n",
      "\n"
     ]
    },
    {
     "name": "stderr",
     "output_type": "stream",
     "text": [
      "[Succeeded / Failed / Skipped / Total] 144 / 5 / 61 / 210:  42%|████████▊            | 210/500 [02:57<04:04,  1.19it/s]textattack: Saving checkpoint under \"checkpoints\\1720202943105.ta.chkpt\" at 2024-07-06 02:09:03 after 210 attacks.\n"
     ]
    },
    {
     "name": "stdout",
     "output_type": "stream",
     "text": [
      "\n",
      "\n",
      "=============================================================================================================================\n",
      "=============================================================================================================================\n",
      "\n"
     ]
    },
    {
     "name": "stderr",
     "output_type": "stream",
     "text": [
      "[Succeeded / Failed / Skipped / Total] 146 / 6 / 63 / 215:  43%|█████████            | 215/500 [03:03<04:03,  1.17it/s]textattack: Saving checkpoint under \"checkpoints\\1720202949434.ta.chkpt\" at 2024-07-06 02:09:09 after 215 attacks.\n"
     ]
    },
    {
     "name": "stdout",
     "output_type": "stream",
     "text": [
      "\n",
      "\n",
      "=============================================================================================================================\n",
      "=============================================================================================================================\n",
      "\n"
     ]
    },
    {
     "name": "stderr",
     "output_type": "stream",
     "text": [
      "[Succeeded / Failed / Skipped / Total] 151 / 6 / 63 / 220:  44%|█████████▏           | 220/500 [03:07<03:58,  1.17it/s]textattack: Saving checkpoint under \"checkpoints\\1720202953444.ta.chkpt\" at 2024-07-06 02:09:13 after 220 attacks.\n"
     ]
    },
    {
     "name": "stdout",
     "output_type": "stream",
     "text": [
      "\n",
      "\n",
      "=============================================================================================================================\n",
      "=============================================================================================================================\n",
      "\n"
     ]
    },
    {
     "name": "stderr",
     "output_type": "stream",
     "text": [
      "[Succeeded / Failed / Skipped / Total] 154 / 6 / 65 / 225:  45%|█████████▍           | 225/500 [03:12<03:55,  1.17it/s]textattack: Saving checkpoint under \"checkpoints\\1720202958592.ta.chkpt\" at 2024-07-06 02:09:18 after 225 attacks.\n"
     ]
    },
    {
     "name": "stdout",
     "output_type": "stream",
     "text": [
      "\n",
      "\n",
      "=============================================================================================================================\n",
      "=============================================================================================================================\n",
      "\n"
     ]
    },
    {
     "name": "stderr",
     "output_type": "stream",
     "text": [
      "[Succeeded / Failed / Skipped / Total] 157 / 7 / 66 / 230:  46%|█████████▋           | 230/500 [03:16<03:50,  1.17it/s]textattack: Saving checkpoint under \"checkpoints\\1720202962655.ta.chkpt\" at 2024-07-06 02:09:22 after 230 attacks.\n",
      "[Succeeded / Failed / Skipped / Total] 157 / 7 / 67 / 231:  46%|█████████▋           | 231/500 [03:16<03:48,  1.17it/s]"
     ]
    },
    {
     "name": "stdout",
     "output_type": "stream",
     "text": [
      "\n",
      "\n",
      "=============================================================================================================================\n",
      "=============================================================================================================================\n",
      "\n"
     ]
    },
    {
     "name": "stderr",
     "output_type": "stream",
     "text": [
      "[Succeeded / Failed / Skipped / Total] 160 / 7 / 68 / 235:  47%|█████████▊           | 235/500 [03:20<03:45,  1.17it/s]textattack: Saving checkpoint under \"checkpoints\\1720202966233.ta.chkpt\" at 2024-07-06 02:09:26 after 235 attacks.\n"
     ]
    },
    {
     "name": "stdout",
     "output_type": "stream",
     "text": [
      "\n",
      "\n",
      "=============================================================================================================================\n",
      "=============================================================================================================================\n",
      "\n"
     ]
    },
    {
     "name": "stderr",
     "output_type": "stream",
     "text": [
      "[Succeeded / Failed / Skipped / Total] 164 / 8 / 68 / 240:  48%|██████████           | 240/500 [03:24<03:41,  1.17it/s]textattack: Saving checkpoint under \"checkpoints\\1720202970906.ta.chkpt\" at 2024-07-06 02:09:30 after 240 attacks.\n"
     ]
    },
    {
     "name": "stdout",
     "output_type": "stream",
     "text": [
      "\n",
      "\n",
      "=============================================================================================================================\n",
      "=============================================================================================================================\n",
      "\n"
     ]
    },
    {
     "name": "stderr",
     "output_type": "stream",
     "text": [
      "[Succeeded / Failed / Skipped / Total] 166 / 9 / 70 / 245:  49%|██████████▎          | 245/500 [03:29<03:38,  1.17it/s]textattack: Saving checkpoint under \"checkpoints\\1720202976069.ta.chkpt\" at 2024-07-06 02:09:36 after 245 attacks.\n"
     ]
    },
    {
     "name": "stdout",
     "output_type": "stream",
     "text": [
      "\n",
      "\n",
      "=============================================================================================================================\n",
      "=============================================================================================================================\n",
      "\n"
     ]
    },
    {
     "name": "stderr",
     "output_type": "stream",
     "text": [
      "[Succeeded / Failed / Skipped / Total] 168 / 9 / 73 / 250:  50%|██████████▌          | 250/500 [03:31<03:31,  1.18it/s]textattack: Saving checkpoint under \"checkpoints\\1720202977516.ta.chkpt\" at 2024-07-06 02:09:37 after 250 attacks.\n",
      "[Succeeded / Failed / Skipped / Total] 168 / 9 / 74 / 251:  50%|██████████▌          | 251/500 [03:31<03:29,  1.19it/s]"
     ]
    },
    {
     "name": "stdout",
     "output_type": "stream",
     "text": [
      "\n",
      "\n",
      "=============================================================================================================================\n",
      "=============================================================================================================================\n",
      "\n"
     ]
    },
    {
     "name": "stderr",
     "output_type": "stream",
     "text": [
      "[Succeeded / Failed / Skipped / Total] 171 / 9 / 75 / 255:  51%|██████████▋          | 255/500 [03:35<03:27,  1.18it/s]textattack: Saving checkpoint under \"checkpoints\\1720202981704.ta.chkpt\" at 2024-07-06 02:09:41 after 255 attacks.\n"
     ]
    },
    {
     "name": "stdout",
     "output_type": "stream",
     "text": [
      "\n",
      "\n",
      "=============================================================================================================================\n",
      "=============================================================================================================================\n",
      "\n"
     ]
    },
    {
     "name": "stderr",
     "output_type": "stream",
     "text": [
      "[Succeeded / Failed / Skipped / Total] 174 / 9 / 77 / 260:  52%|██████████▉          | 260/500 [03:38<03:21,  1.19it/s]textattack: Saving checkpoint under \"checkpoints\\1720202984532.ta.chkpt\" at 2024-07-06 02:09:44 after 260 attacks.\n"
     ]
    },
    {
     "name": "stdout",
     "output_type": "stream",
     "text": [
      "\n",
      "\n",
      "=============================================================================================================================\n",
      "=============================================================================================================================\n",
      "\n"
     ]
    },
    {
     "name": "stderr",
     "output_type": "stream",
     "text": [
      "[Succeeded / Failed / Skipped / Total] 179 / 9 / 77 / 265:  53%|███████████▏         | 265/500 [03:43<03:18,  1.19it/s]textattack: Saving checkpoint under \"checkpoints\\1720202989673.ta.chkpt\" at 2024-07-06 02:09:49 after 265 attacks.\n"
     ]
    },
    {
     "name": "stdout",
     "output_type": "stream",
     "text": [
      "\n",
      "\n",
      "=============================================================================================================================\n",
      "=============================================================================================================================\n",
      "\n"
     ]
    },
    {
     "name": "stderr",
     "output_type": "stream",
     "text": [
      "[Succeeded / Failed / Skipped / Total] 182 / 9 / 79 / 270:  54%|███████████▎         | 270/500 [03:52<03:18,  1.16it/s]textattack: Saving checkpoint under \"checkpoints\\1720202998705.ta.chkpt\" at 2024-07-06 02:09:58 after 270 attacks.\n"
     ]
    },
    {
     "name": "stdout",
     "output_type": "stream",
     "text": [
      "\n",
      "\n",
      "=============================================================================================================================\n",
      "=============================================================================================================================\n",
      "\n"
     ]
    },
    {
     "name": "stderr",
     "output_type": "stream",
     "text": [
      "[Succeeded / Failed / Skipped / Total] 185 / 9 / 81 / 275:  55%|███████████▌         | 275/500 [03:54<03:12,  1.17it/s]textattack: Saving checkpoint under \"checkpoints\\1720203001018.ta.chkpt\" at 2024-07-06 02:10:01 after 275 attacks.\n"
     ]
    },
    {
     "name": "stdout",
     "output_type": "stream",
     "text": [
      "\n",
      "\n",
      "=============================================================================================================================\n",
      "=============================================================================================================================\n",
      "\n"
     ]
    },
    {
     "name": "stderr",
     "output_type": "stream",
     "text": [
      "[Succeeded / Failed / Skipped / Total] 188 / 10 / 82 / 280:  56%|███████████▏        | 280/500 [03:59<03:07,  1.17it/s]textattack: Saving checkpoint under \"checkpoints\\1720203005159.ta.chkpt\" at 2024-07-06 02:10:05 after 280 attacks.\n"
     ]
    },
    {
     "name": "stdout",
     "output_type": "stream",
     "text": [
      "\n",
      "\n",
      "=============================================================================================================================\n",
      "=============================================================================================================================\n",
      "\n"
     ]
    },
    {
     "name": "stderr",
     "output_type": "stream",
     "text": [
      "[Succeeded / Failed / Skipped / Total] 191 / 10 / 84 / 285:  57%|███████████▍        | 285/500 [04:02<03:02,  1.18it/s]textattack: Saving checkpoint under \"checkpoints\\1720203008425.ta.chkpt\" at 2024-07-06 02:10:08 after 285 attacks.\n"
     ]
    },
    {
     "name": "stdout",
     "output_type": "stream",
     "text": [
      "\n",
      "\n",
      "=============================================================================================================================\n",
      "=============================================================================================================================\n",
      "\n"
     ]
    },
    {
     "name": "stderr",
     "output_type": "stream",
     "text": [
      "[Succeeded / Failed / Skipped / Total] 196 / 10 / 84 / 290:  58%|███████████▌        | 290/500 [04:07<02:58,  1.17it/s]textattack: Saving checkpoint under \"checkpoints\\1720203013180.ta.chkpt\" at 2024-07-06 02:10:13 after 290 attacks.\n",
      "[Succeeded / Failed / Skipped / Total] 196 / 10 / 86 / 292:  58%|███████████▋        | 292/500 [04:07<02:56,  1.18it/s]"
     ]
    },
    {
     "name": "stdout",
     "output_type": "stream",
     "text": [
      "\n",
      "\n",
      "=============================================================================================================================\n",
      "=============================================================================================================================\n",
      "\n"
     ]
    },
    {
     "name": "stderr",
     "output_type": "stream",
     "text": [
      "[Succeeded / Failed / Skipped / Total] 198 / 10 / 87 / 295:  59%|███████████▊        | 295/500 [04:08<02:52,  1.19it/s]textattack: Saving checkpoint under \"checkpoints\\1720203014602.ta.chkpt\" at 2024-07-06 02:10:14 after 295 attacks.\n"
     ]
    },
    {
     "name": "stdout",
     "output_type": "stream",
     "text": [
      "\n",
      "\n",
      "=============================================================================================================================\n",
      "=============================================================================================================================\n",
      "\n"
     ]
    },
    {
     "name": "stderr",
     "output_type": "stream",
     "text": [
      "[Succeeded / Failed / Skipped / Total] 200 / 11 / 89 / 300:  60%|████████████        | 300/500 [04:12<02:48,  1.19it/s]textattack: Saving checkpoint under \"checkpoints\\1720203018118.ta.chkpt\" at 2024-07-06 02:10:18 after 300 attacks.\n"
     ]
    },
    {
     "name": "stdout",
     "output_type": "stream",
     "text": [
      "\n",
      "\n",
      "=============================================================================================================================\n",
      "=============================================================================================================================\n",
      "\n"
     ]
    },
    {
     "name": "stderr",
     "output_type": "stream",
     "text": [
      "[Succeeded / Failed / Skipped / Total] 201 / 11 / 93 / 305:  61%|████████████▏       | 305/500 [04:13<02:41,  1.20it/s]textattack: Saving checkpoint under \"checkpoints\\1720203019415.ta.chkpt\" at 2024-07-06 02:10:19 after 305 attacks.\n"
     ]
    },
    {
     "name": "stdout",
     "output_type": "stream",
     "text": [
      "\n",
      "\n",
      "=============================================================================================================================\n",
      "=============================================================================================================================\n",
      "\n"
     ]
    },
    {
     "name": "stderr",
     "output_type": "stream",
     "text": [
      "[Succeeded / Failed / Skipped / Total] 204 / 12 / 94 / 310:  62%|████████████▍       | 310/500 [04:16<02:37,  1.21it/s]textattack: Saving checkpoint under \"checkpoints\\1720203022712.ta.chkpt\" at 2024-07-06 02:10:22 after 310 attacks.\n"
     ]
    },
    {
     "name": "stdout",
     "output_type": "stream",
     "text": [
      "\n",
      "\n",
      "=============================================================================================================================\n",
      "=============================================================================================================================\n",
      "\n"
     ]
    },
    {
     "name": "stderr",
     "output_type": "stream",
     "text": [
      "[Succeeded / Failed / Skipped / Total] 207 / 12 / 96 / 315:  63%|████████████▌       | 315/500 [04:20<02:33,  1.21it/s]textattack: Saving checkpoint under \"checkpoints\\1720203026900.ta.chkpt\" at 2024-07-06 02:10:26 after 315 attacks.\n",
      "[Succeeded / Failed / Skipped / Total] 207 / 12 / 97 / 316:  63%|████████████▋       | 316/500 [04:20<02:31,  1.21it/s]"
     ]
    },
    {
     "name": "stdout",
     "output_type": "stream",
     "text": [
      "\n",
      "\n",
      "=============================================================================================================================\n",
      "=============================================================================================================================\n",
      "\n"
     ]
    },
    {
     "name": "stderr",
     "output_type": "stream",
     "text": [
      "[Succeeded / Failed / Skipped / Total] 210 / 12 / 98 / 320:  64%|████████████▊       | 320/500 [04:29<02:31,  1.19it/s]textattack: Saving checkpoint under \"checkpoints\\1720203035166.ta.chkpt\" at 2024-07-06 02:10:35 after 320 attacks.\n",
      "[Succeeded / Failed / Skipped / Total] 210 / 12 / 99 / 321:  64%|████████████▊       | 321/500 [04:29<02:30,  1.19it/s]"
     ]
    },
    {
     "name": "stdout",
     "output_type": "stream",
     "text": [
      "\n",
      "\n",
      "=============================================================================================================================\n",
      "=============================================================================================================================\n",
      "\n"
     ]
    },
    {
     "name": "stderr",
     "output_type": "stream",
     "text": [
      "[Succeeded / Failed / Skipped / Total] 214 / 12 / 99 / 325:  65%|█████████████       | 325/500 [04:34<02:27,  1.18it/s]textattack: Saving checkpoint under \"checkpoints\\1720203040682.ta.chkpt\" at 2024-07-06 02:10:40 after 325 attacks.\n",
      "[Succeeded / Failed / Skipped / Total] 214 / 12 / 100 / 326:  65%|████████████▍      | 326/500 [04:34<02:26,  1.19it/s]"
     ]
    },
    {
     "name": "stdout",
     "output_type": "stream",
     "text": [
      "\n",
      "\n",
      "=============================================================================================================================\n",
      "=============================================================================================================================\n",
      "\n"
     ]
    },
    {
     "name": "stderr",
     "output_type": "stream",
     "text": [
      "[Succeeded / Failed / Skipped / Total] 218 / 12 / 100 / 330:  66%|████████████▌      | 330/500 [04:37<02:23,  1.19it/s]textattack: Saving checkpoint under \"checkpoints\\1720203043980.ta.chkpt\" at 2024-07-06 02:10:43 after 330 attacks.\n"
     ]
    },
    {
     "name": "stdout",
     "output_type": "stream",
     "text": [
      "\n",
      "\n",
      "=============================================================================================================================\n",
      "=============================================================================================================================\n",
      "\n"
     ]
    },
    {
     "name": "stderr",
     "output_type": "stream",
     "text": [
      "[Succeeded / Failed / Skipped / Total] 222 / 13 / 100 / 335:  67%|████████████▋      | 335/500 [04:44<02:19,  1.18it/s]textattack: Saving checkpoint under \"checkpoints\\1720203050105.ta.chkpt\" at 2024-07-06 02:10:50 after 335 attacks.\n"
     ]
    },
    {
     "name": "stdout",
     "output_type": "stream",
     "text": [
      "\n",
      "\n",
      "=============================================================================================================================\n",
      "=============================================================================================================================\n",
      "\n"
     ]
    },
    {
     "name": "stderr",
     "output_type": "stream",
     "text": [
      "[Succeeded / Failed / Skipped / Total] 225 / 13 / 102 / 340:  68%|████████████▉      | 340/500 [04:46<02:14,  1.19it/s]textattack: Saving checkpoint under \"checkpoints\\1720203052854.ta.chkpt\" at 2024-07-06 02:10:52 after 340 attacks.\n"
     ]
    },
    {
     "name": "stdout",
     "output_type": "stream",
     "text": [
      "\n",
      "\n",
      "=============================================================================================================================\n",
      "=============================================================================================================================\n",
      "\n"
     ]
    },
    {
     "name": "stderr",
     "output_type": "stream",
     "text": [
      "[Succeeded / Failed / Skipped / Total] 228 / 13 / 104 / 345:  69%|█████████████      | 345/500 [04:49<02:09,  1.19it/s]textattack: Saving checkpoint under \"checkpoints\\1720203055416.ta.chkpt\" at 2024-07-06 02:10:55 after 345 attacks.\n"
     ]
    },
    {
     "name": "stdout",
     "output_type": "stream",
     "text": [
      "\n",
      "\n",
      "=============================================================================================================================\n",
      "=============================================================================================================================\n",
      "\n"
     ]
    },
    {
     "name": "stderr",
     "output_type": "stream",
     "text": [
      "[Succeeded / Failed / Skipped / Total] 233 / 13 / 104 / 350:  70%|█████████████▎     | 350/500 [04:55<02:06,  1.18it/s]textattack: Saving checkpoint under \"checkpoints\\1720203061459.ta.chkpt\" at 2024-07-06 02:11:01 after 350 attacks.\n"
     ]
    },
    {
     "name": "stdout",
     "output_type": "stream",
     "text": [
      "\n",
      "\n",
      "=============================================================================================================================\n",
      "=============================================================================================================================\n",
      "\n"
     ]
    },
    {
     "name": "stderr",
     "output_type": "stream",
     "text": [
      "[Succeeded / Failed / Skipped / Total] 238 / 13 / 104 / 355:  71%|█████████████▍     | 355/500 [05:03<02:03,  1.17it/s]textattack: Saving checkpoint under \"checkpoints\\1720203069147.ta.chkpt\" at 2024-07-06 02:11:09 after 355 attacks.\n"
     ]
    },
    {
     "name": "stdout",
     "output_type": "stream",
     "text": [
      "\n",
      "\n",
      "=============================================================================================================================\n",
      "=============================================================================================================================\n",
      "\n"
     ]
    },
    {
     "name": "stderr",
     "output_type": "stream",
     "text": [
      "[Succeeded / Failed / Skipped / Total] 241 / 13 / 106 / 360:  72%|█████████████▋     | 360/500 [05:06<01:59,  1.18it/s]textattack: Saving checkpoint under \"checkpoints\\1720203072085.ta.chkpt\" at 2024-07-06 02:11:12 after 360 attacks.\n"
     ]
    },
    {
     "name": "stdout",
     "output_type": "stream",
     "text": [
      "\n",
      "\n",
      "=============================================================================================================================\n",
      "=============================================================================================================================\n",
      "\n"
     ]
    },
    {
     "name": "stderr",
     "output_type": "stream",
     "text": [
      "[Succeeded / Failed / Skipped / Total] 246 / 13 / 106 / 365:  73%|█████████████▊     | 365/500 [05:10<01:54,  1.18it/s]textattack: Saving checkpoint under \"checkpoints\\1720203076322.ta.chkpt\" at 2024-07-06 02:11:16 after 365 attacks.\n"
     ]
    },
    {
     "name": "stdout",
     "output_type": "stream",
     "text": [
      "\n",
      "\n",
      "=============================================================================================================================\n",
      "=============================================================================================================================\n",
      "\n"
     ]
    },
    {
     "name": "stderr",
     "output_type": "stream",
     "text": [
      "[Succeeded / Failed / Skipped / Total] 251 / 13 / 106 / 370:  74%|██████████████     | 370/500 [05:13<01:50,  1.18it/s]textattack: Saving checkpoint under \"checkpoints\\1720203079728.ta.chkpt\" at 2024-07-06 02:11:19 after 370 attacks.\n"
     ]
    },
    {
     "name": "stdout",
     "output_type": "stream",
     "text": [
      "\n",
      "\n",
      "=============================================================================================================================\n",
      "=============================================================================================================================\n",
      "\n"
     ]
    },
    {
     "name": "stderr",
     "output_type": "stream",
     "text": [
      "[Succeeded / Failed / Skipped / Total] 255 / 13 / 107 / 375:  75%|██████████████▎    | 375/500 [05:16<01:45,  1.18it/s]textattack: Saving checkpoint under \"checkpoints\\1720203082916.ta.chkpt\" at 2024-07-06 02:11:22 after 375 attacks.\n"
     ]
    },
    {
     "name": "stdout",
     "output_type": "stream",
     "text": [
      "\n",
      "\n",
      "=============================================================================================================================\n",
      "=============================================================================================================================\n",
      "\n"
     ]
    },
    {
     "name": "stderr",
     "output_type": "stream",
     "text": [
      "[Succeeded / Failed / Skipped / Total] 259 / 13 / 108 / 380:  76%|██████████████▍    | 380/500 [05:19<01:40,  1.19it/s]textattack: Saving checkpoint under \"checkpoints\\1720203085814.ta.chkpt\" at 2024-07-06 02:11:25 after 380 attacks.\n"
     ]
    },
    {
     "name": "stdout",
     "output_type": "stream",
     "text": [
      "\n",
      "\n",
      "=============================================================================================================================\n",
      "=============================================================================================================================\n",
      "\n"
     ]
    },
    {
     "name": "stderr",
     "output_type": "stream",
     "text": [
      "[Succeeded / Failed / Skipped / Total] 263 / 13 / 109 / 385:  77%|██████████████▋    | 385/500 [05:21<01:36,  1.20it/s]textattack: Saving checkpoint under \"checkpoints\\1720203087470.ta.chkpt\" at 2024-07-06 02:11:27 after 385 attacks.\n"
     ]
    },
    {
     "name": "stdout",
     "output_type": "stream",
     "text": [
      "\n",
      "\n",
      "=============================================================================================================================\n",
      "=============================================================================================================================\n",
      "\n"
     ]
    },
    {
     "name": "stderr",
     "output_type": "stream",
     "text": [
      "[Succeeded / Failed / Skipped / Total] 267 / 13 / 110 / 390:  78%|██████████████▊    | 390/500 [05:25<01:31,  1.20it/s]textattack: Saving checkpoint under \"checkpoints\\1720203091517.ta.chkpt\" at 2024-07-06 02:11:31 after 390 attacks.\n"
     ]
    },
    {
     "name": "stdout",
     "output_type": "stream",
     "text": [
      "\n",
      "\n",
      "=============================================================================================================================\n",
      "=============================================================================================================================\n",
      "\n"
     ]
    },
    {
     "name": "stderr",
     "output_type": "stream",
     "text": [
      "[Succeeded / Failed / Skipped / Total] 272 / 13 / 110 / 395:  79%|███████████████    | 395/500 [05:32<01:28,  1.19it/s]textattack: Saving checkpoint under \"checkpoints\\1720203098402.ta.chkpt\" at 2024-07-06 02:11:38 after 395 attacks.\n"
     ]
    },
    {
     "name": "stdout",
     "output_type": "stream",
     "text": [
      "\n",
      "\n",
      "=============================================================================================================================\n",
      "=============================================================================================================================\n",
      "\n"
     ]
    },
    {
     "name": "stderr",
     "output_type": "stream",
     "text": [
      "[Succeeded / Failed / Skipped / Total] 277 / 13 / 110 / 400:  80%|███████████████▏   | 400/500 [05:39<01:24,  1.18it/s]textattack: Saving checkpoint under \"checkpoints\\1720203105902.ta.chkpt\" at 2024-07-06 02:11:45 after 400 attacks.\n",
      "[Succeeded / Failed / Skipped / Total] 277 / 13 / 111 / 401:  80%|███████████████▏   | 401/500 [05:39<01:23,  1.18it/s]"
     ]
    },
    {
     "name": "stdout",
     "output_type": "stream",
     "text": [
      "\n",
      "\n",
      "=============================================================================================================================\n",
      "=============================================================================================================================\n",
      "\n"
     ]
    },
    {
     "name": "stderr",
     "output_type": "stream",
     "text": [
      "[Succeeded / Failed / Skipped / Total] 281 / 13 / 111 / 405:  81%|███████████████▍   | 405/500 [05:46<01:21,  1.17it/s]textattack: Saving checkpoint under \"checkpoints\\1720203112402.ta.chkpt\" at 2024-07-06 02:11:52 after 405 attacks.\n"
     ]
    },
    {
     "name": "stdout",
     "output_type": "stream",
     "text": [
      "\n",
      "\n",
      "=============================================================================================================================\n",
      "=============================================================================================================================\n",
      "\n"
     ]
    },
    {
     "name": "stderr",
     "output_type": "stream",
     "text": [
      "[Succeeded / Failed / Skipped / Total] 285 / 13 / 112 / 410:  82%|███████████████▌   | 410/500 [05:49<01:16,  1.17it/s]textattack: Saving checkpoint under \"checkpoints\\1720203115356.ta.chkpt\" at 2024-07-06 02:11:55 after 410 attacks.\n"
     ]
    },
    {
     "name": "stdout",
     "output_type": "stream",
     "text": [
      "\n",
      "\n",
      "=============================================================================================================================\n",
      "=============================================================================================================================\n",
      "\n"
     ]
    },
    {
     "name": "stderr",
     "output_type": "stream",
     "text": [
      "[Succeeded / Failed / Skipped / Total] 287 / 13 / 115 / 415:  83%|███████████████▊   | 415/500 [05:50<01:11,  1.18it/s]textattack: Saving checkpoint under \"checkpoints\\1720203116809.ta.chkpt\" at 2024-07-06 02:11:56 after 415 attacks.\n"
     ]
    },
    {
     "name": "stdout",
     "output_type": "stream",
     "text": [
      "\n",
      "\n",
      "=============================================================================================================================\n",
      "=============================================================================================================================\n",
      "\n"
     ]
    },
    {
     "name": "stderr",
     "output_type": "stream",
     "text": [
      "[Succeeded / Failed / Skipped / Total] 289 / 14 / 117 / 420:  84%|███████████████▉   | 420/500 [05:57<01:08,  1.17it/s]textattack: Saving checkpoint under \"checkpoints\\1720203123893.ta.chkpt\" at 2024-07-06 02:12:03 after 420 attacks.\n"
     ]
    },
    {
     "name": "stdout",
     "output_type": "stream",
     "text": [
      "\n",
      "\n",
      "=============================================================================================================================\n",
      "=============================================================================================================================\n",
      "\n"
     ]
    },
    {
     "name": "stderr",
     "output_type": "stream",
     "text": [
      "[Succeeded / Failed / Skipped / Total] 294 / 14 / 117 / 425:  85%|████████████████▏  | 425/500 [06:05<01:04,  1.16it/s]textattack: Saving checkpoint under \"checkpoints\\1720203131175.ta.chkpt\" at 2024-07-06 02:12:11 after 425 attacks.\n"
     ]
    },
    {
     "name": "stdout",
     "output_type": "stream",
     "text": [
      "\n",
      "\n",
      "=============================================================================================================================\n",
      "=============================================================================================================================\n",
      "\n"
     ]
    },
    {
     "name": "stderr",
     "output_type": "stream",
     "text": [
      "[Succeeded / Failed / Skipped / Total] 299 / 14 / 117 / 430:  86%|████████████████▎  | 430/500 [06:10<01:00,  1.16it/s]textattack: Saving checkpoint under \"checkpoints\\1720203136910.ta.chkpt\" at 2024-07-06 02:12:16 after 430 attacks.\n",
      "[Succeeded / Failed / Skipped / Total] 299 / 14 / 118 / 431:  86%|████████████████▍  | 431/500 [06:10<00:59,  1.16it/s]"
     ]
    },
    {
     "name": "stdout",
     "output_type": "stream",
     "text": [
      "\n",
      "\n",
      "=============================================================================================================================\n",
      "=============================================================================================================================\n",
      "\n"
     ]
    },
    {
     "name": "stderr",
     "output_type": "stream",
     "text": [
      "[Succeeded / Failed / Skipped / Total] 303 / 14 / 118 / 435:  87%|████████████████▌  | 435/500 [06:14<00:55,  1.16it/s]textattack: Saving checkpoint under \"checkpoints\\1720203140145.ta.chkpt\" at 2024-07-06 02:12:20 after 435 attacks.\n"
     ]
    },
    {
     "name": "stdout",
     "output_type": "stream",
     "text": [
      "\n",
      "\n",
      "=============================================================================================================================\n",
      "=============================================================================================================================\n",
      "\n"
     ]
    },
    {
     "name": "stderr",
     "output_type": "stream",
     "text": [
      "[Succeeded / Failed / Skipped / Total] 308 / 14 / 118 / 440:  88%|████████████████▋  | 440/500 [06:18<00:51,  1.16it/s]textattack: Saving checkpoint under \"checkpoints\\1720203144473.ta.chkpt\" at 2024-07-06 02:12:24 after 440 attacks.\n",
      "[Succeeded / Failed / Skipped / Total] 308 / 14 / 119 / 441:  88%|████████████████▊  | 441/500 [06:18<00:50,  1.17it/s]"
     ]
    },
    {
     "name": "stdout",
     "output_type": "stream",
     "text": [
      "\n",
      "\n",
      "=============================================================================================================================\n",
      "=============================================================================================================================\n",
      "\n"
     ]
    },
    {
     "name": "stderr",
     "output_type": "stream",
     "text": [
      "[Succeeded / Failed / Skipped / Total] 311 / 14 / 120 / 445:  89%|████████████████▉  | 445/500 [06:20<00:47,  1.17it/s]textattack: Saving checkpoint under \"checkpoints\\1720203146693.ta.chkpt\" at 2024-07-06 02:12:26 after 445 attacks.\n"
     ]
    },
    {
     "name": "stdout",
     "output_type": "stream",
     "text": [
      "\n",
      "\n",
      "=============================================================================================================================\n",
      "=============================================================================================================================\n",
      "\n"
     ]
    },
    {
     "name": "stderr",
     "output_type": "stream",
     "text": [
      "[Succeeded / Failed / Skipped / Total] 313 / 16 / 121 / 450:  90%|█████████████████  | 450/500 [06:27<00:43,  1.16it/s]textattack: Saving checkpoint under \"checkpoints\\1720203153139.ta.chkpt\" at 2024-07-06 02:12:33 after 450 attacks.\n",
      "[Succeeded / Failed / Skipped / Total] 313 / 16 / 122 / 451:  90%|█████████████████▏ | 451/500 [06:27<00:42,  1.16it/s]"
     ]
    },
    {
     "name": "stdout",
     "output_type": "stream",
     "text": [
      "\n",
      "\n",
      "=============================================================================================================================\n",
      "=============================================================================================================================\n",
      "\n"
     ]
    },
    {
     "name": "stderr",
     "output_type": "stream",
     "text": [
      "[Succeeded / Failed / Skipped / Total] 316 / 16 / 123 / 455:  91%|█████████████████▎ | 455/500 [06:29<00:38,  1.17it/s]textattack: Saving checkpoint under \"checkpoints\\1720203155952.ta.chkpt\" at 2024-07-06 02:12:35 after 455 attacks.\n"
     ]
    },
    {
     "name": "stdout",
     "output_type": "stream",
     "text": [
      "\n",
      "\n",
      "=============================================================================================================================\n",
      "=============================================================================================================================\n",
      "\n"
     ]
    },
    {
     "name": "stderr",
     "output_type": "stream",
     "text": [
      "[Succeeded / Failed / Skipped / Total] 321 / 16 / 123 / 460:  92%|█████████████████▍ | 460/500 [06:35<00:34,  1.16it/s]textattack: Saving checkpoint under \"checkpoints\\1720203162037.ta.chkpt\" at 2024-07-06 02:12:42 after 460 attacks.\n"
     ]
    },
    {
     "name": "stdout",
     "output_type": "stream",
     "text": [
      "\n",
      "\n",
      "=============================================================================================================================\n",
      "=============================================================================================================================\n",
      "\n"
     ]
    },
    {
     "name": "stderr",
     "output_type": "stream",
     "text": [
      "[Succeeded / Failed / Skipped / Total] 324 / 16 / 125 / 465:  93%|█████████████████▋ | 465/500 [06:38<00:29,  1.17it/s]textattack: Saving checkpoint under \"checkpoints\\1720203164350.ta.chkpt\" at 2024-07-06 02:12:44 after 465 attacks.\n"
     ]
    },
    {
     "name": "stdout",
     "output_type": "stream",
     "text": [
      "\n",
      "\n",
      "=============================================================================================================================\n",
      "=============================================================================================================================\n",
      "\n"
     ]
    },
    {
     "name": "stderr",
     "output_type": "stream",
     "text": [
      "[Succeeded / Failed / Skipped / Total] 327 / 17 / 126 / 470:  94%|█████████████████▊ | 470/500 [06:43<00:25,  1.16it/s]textattack: Saving checkpoint under \"checkpoints\\1720203169694.ta.chkpt\" at 2024-07-06 02:12:49 after 470 attacks.\n"
     ]
    },
    {
     "name": "stdout",
     "output_type": "stream",
     "text": [
      "\n",
      "\n",
      "=============================================================================================================================\n",
      "=============================================================================================================================\n",
      "\n"
     ]
    },
    {
     "name": "stderr",
     "output_type": "stream",
     "text": [
      "[Succeeded / Failed / Skipped / Total] 332 / 17 / 126 / 475:  95%|██████████████████ | 475/500 [06:49<00:21,  1.16it/s]textattack: Saving checkpoint under \"checkpoints\\1720203175624.ta.chkpt\" at 2024-07-06 02:12:55 after 475 attacks.\n"
     ]
    },
    {
     "name": "stdout",
     "output_type": "stream",
     "text": [
      "\n",
      "\n",
      "=============================================================================================================================\n",
      "=============================================================================================================================\n",
      "\n"
     ]
    },
    {
     "name": "stderr",
     "output_type": "stream",
     "text": [
      "[Succeeded / Failed / Skipped / Total] 337 / 17 / 126 / 480:  96%|██████████████████▏| 480/500 [06:55<00:17,  1.16it/s]textattack: Saving checkpoint under \"checkpoints\\1720203181172.ta.chkpt\" at 2024-07-06 02:13:01 after 480 attacks.\n"
     ]
    },
    {
     "name": "stdout",
     "output_type": "stream",
     "text": [
      "\n",
      "\n",
      "=============================================================================================================================\n",
      "=============================================================================================================================\n",
      "\n"
     ]
    },
    {
     "name": "stderr",
     "output_type": "stream",
     "text": [
      "[Succeeded / Failed / Skipped / Total] 341 / 17 / 127 / 485:  97%|██████████████████▍| 485/500 [06:59<00:12,  1.16it/s]textattack: Saving checkpoint under \"checkpoints\\1720203185672.ta.chkpt\" at 2024-07-06 02:13:05 after 485 attacks.\n"
     ]
    },
    {
     "name": "stdout",
     "output_type": "stream",
     "text": [
      "\n",
      "\n",
      "=============================================================================================================================\n",
      "=============================================================================================================================\n",
      "\n"
     ]
    },
    {
     "name": "stderr",
     "output_type": "stream",
     "text": [
      "[Succeeded / Failed / Skipped / Total] 344 / 17 / 129 / 490:  98%|██████████████████▌| 490/500 [07:02<00:08,  1.16it/s]textattack: Saving checkpoint under \"checkpoints\\1720203188907.ta.chkpt\" at 2024-07-06 02:13:08 after 490 attacks.\n",
      "[Succeeded / Failed / Skipped / Total] 344 / 17 / 130 / 491:  98%|██████████████████▋| 491/500 [07:02<00:07,  1.16it/s]"
     ]
    },
    {
     "name": "stdout",
     "output_type": "stream",
     "text": [
      "\n",
      "\n",
      "=============================================================================================================================\n",
      "=============================================================================================================================\n",
      "\n"
     ]
    },
    {
     "name": "stderr",
     "output_type": "stream",
     "text": [
      "[Succeeded / Failed / Skipped / Total] 347 / 17 / 131 / 495:  99%|██████████████████▊| 495/500 [07:04<00:04,  1.16it/s]textattack: Saving checkpoint under \"checkpoints\\1720203190969.ta.chkpt\" at 2024-07-06 02:13:10 after 495 attacks.\n"
     ]
    },
    {
     "name": "stdout",
     "output_type": "stream",
     "text": [
      "\n",
      "\n",
      "=============================================================================================================================\n",
      "=============================================================================================================================\n",
      "\n"
     ]
    },
    {
     "name": "stderr",
     "output_type": "stream",
     "text": [
      "[Succeeded / Failed / Skipped / Total] 352 / 17 / 131 / 500: 100%|███████████████████| 500/500 [07:10<00:00,  1.16it/s]textattack: Saving checkpoint under \"checkpoints\\1720203196830.ta.chkpt\" at 2024-07-06 02:13:16 after 500 attacks.\n",
      "[Succeeded / Failed / Skipped / Total] 352 / 17 / 131 / 500: 100%|███████████████████| 500/500 [07:10<00:00,  1.16it/s]"
     ]
    },
    {
     "name": "stdout",
     "output_type": "stream",
     "text": [
      "\n",
      "\n",
      "=============================================================================================================================\n",
      "=============================================================================================================================\n",
      "\n",
      "\n",
      "+-------------------------------+--------+\n",
      "| Attack Results                |        |\n",
      "+-------------------------------+--------+\n",
      "| Number of successful attacks: | 352    |\n",
      "| Number of failed attacks:     | 17     |\n",
      "| Number of skipped attacks:    | 131    |\n",
      "| Original accuracy:            | 73.8%  |\n",
      "| Accuracy under attack:        | 3.4%   |\n",
      "| Attack success rate:          | 95.39% |\n",
      "| Average perturbed word %:     | 17.04% |\n",
      "| Average num. words per input: | 18.4   |\n",
      "| Avg num queries:              | 40.17  |\n",
      "+-------------------------------+--------+\n"
     ]
    },
    {
     "name": "stderr",
     "output_type": "stream",
     "text": [
      "\n"
     ]
    }
   ],
   "source": [
    "runAttack(clip_model_wrapper_lr_mr, n_samples, 'attack_results_new/clipmrattacklr'+suffix, target_ds_mr)"
   ]
  },
  {
   "cell_type": "code",
   "execution_count": 29,
   "id": "90505994-11ba-48c5-8a78-5083ba8ddd05",
   "metadata": {
    "scrolled": true
   },
   "outputs": [
    {
     "name": "stderr",
     "output_type": "stream",
     "text": [
      "textattack: Unknown if model of class <class 'transformers.models.clip.modeling_clip.CLIPTextTransformer'> compatible with goal function <class 'textattack.goal_functions.classification.untargeted_classification.UntargetedClassification'>.\n",
      "textattack: Logging to CSV at path attack_results_new/clipmrattackrfsim07.csv\n"
     ]
    },
    {
     "name": "stdout",
     "output_type": "stream",
     "text": [
      "Attack(\n",
      "  (search_method): GreedyWordSwapWIR(\n",
      "    (wir_method):  delete\n",
      "  )\n",
      "  (goal_function):  UntargetedClassification\n",
      "  (transformation):  WordSwapEmbedding(\n",
      "    (max_candidates):  50\n",
      "    (embedding):  WordEmbedding\n",
      "  )\n",
      "  (constraints): \n",
      "    (0): WordEmbeddingDistance(\n",
      "        (embedding):  WordEmbedding\n",
      "        (min_cos_sim):  0.7\n",
      "        (cased):  False\n",
      "        (include_unknown_words):  True\n",
      "        (compare_against_original):  True\n",
      "      )\n",
      "    (1): PartOfSpeech(\n",
      "        (tagger_type):  nltk\n",
      "        (tagset):  universal\n",
      "        (allow_verb_noun_swap):  True\n",
      "        (compare_against_original):  True\n",
      "      )\n",
      "    (2): UniversalSentenceEncoder(\n",
      "        (metric):  angular\n",
      "        (threshold):  0.840845057\n",
      "        (window_size):  15\n",
      "        (skip_text_shorter_than_window):  True\n",
      "        (compare_against_original):  False\n",
      "      )\n",
      "    (3): RepeatModification\n",
      "    (4): StopwordModification\n",
      "    (5): InputColumnModification(\n",
      "        (matching_column_labels):  ['premise', 'hypothesis']\n",
      "        (columns_to_ignore):  {'premise'}\n",
      "      )\n",
      "  (is_black_box):  True\n",
      ") \n",
      "\n"
     ]
    },
    {
     "name": "stderr",
     "output_type": "stream",
     "text": [
      "[Succeeded / Failed / Skipped / Total] 2 / 3 / 0 / 5:   1%|▎                           | 5/500 [00:15<24:56,  3.02s/it]textattack: Saving checkpoint under \"checkpoints\\1720203212051.ta.chkpt\" at 2024-07-06 02:13:32 after 5 attacks.\n",
      "[Succeeded / Failed / Skipped / Total] 2 / 3 / 2 / 7:   1%|▍                           | 7/500 [00:15<17:54,  2.18s/it]"
     ]
    },
    {
     "name": "stdout",
     "output_type": "stream",
     "text": [
      "\n",
      "\n",
      "=============================================================================================================================\n",
      "=============================================================================================================================\n",
      "\n"
     ]
    },
    {
     "name": "stderr",
     "output_type": "stream",
     "text": [
      "[Succeeded / Failed / Skipped / Total] 5 / 3 / 2 / 10:   2%|▌                         | 10/500 [00:19<15:51,  1.94s/it]textattack: Saving checkpoint under \"checkpoints\\1720203216333.ta.chkpt\" at 2024-07-06 02:13:36 after 10 attacks.\n"
     ]
    },
    {
     "name": "stdout",
     "output_type": "stream",
     "text": [
      "\n",
      "\n",
      "=============================================================================================================================\n",
      "=============================================================================================================================\n",
      "\n"
     ]
    },
    {
     "name": "stderr",
     "output_type": "stream",
     "text": [
      "[Succeeded / Failed / Skipped / Total] 7 / 5 / 3 / 15:   3%|▊                         | 15/500 [00:29<15:52,  1.96s/it]textattack: Saving checkpoint under \"checkpoints\\1720203226383.ta.chkpt\" at 2024-07-06 02:13:46 after 15 attacks.\n"
     ]
    },
    {
     "name": "stdout",
     "output_type": "stream",
     "text": [
      "\n",
      "\n",
      "=============================================================================================================================\n",
      "=============================================================================================================================\n",
      "\n"
     ]
    },
    {
     "name": "stderr",
     "output_type": "stream",
     "text": [
      "[Succeeded / Failed / Skipped / Total] 9 / 6 / 5 / 20:   4%|█                         | 20/500 [00:31<12:47,  1.60s/it]textattack: Saving checkpoint under \"checkpoints\\1720203228898.ta.chkpt\" at 2024-07-06 02:13:48 after 20 attacks.\n"
     ]
    },
    {
     "name": "stdout",
     "output_type": "stream",
     "text": [
      "\n",
      "\n",
      "=============================================================================================================================\n",
      "=============================================================================================================================\n",
      "\n"
     ]
    },
    {
     "name": "stderr",
     "output_type": "stream",
     "text": [
      "[Succeeded / Failed / Skipped / Total] 11 / 8 / 6 / 25:   5%|█▎                       | 25/500 [00:38<12:11,  1.54s/it]textattack: Saving checkpoint under \"checkpoints\\1720203235423.ta.chkpt\" at 2024-07-06 02:13:55 after 25 attacks.\n"
     ]
    },
    {
     "name": "stdout",
     "output_type": "stream",
     "text": [
      "\n",
      "\n",
      "=============================================================================================================================\n",
      "=============================================================================================================================\n",
      "\n"
     ]
    },
    {
     "name": "stderr",
     "output_type": "stream",
     "text": [
      "[Succeeded / Failed / Skipped / Total] 14 / 8 / 8 / 30:   6%|█▌                       | 30/500 [00:43<11:15,  1.44s/it]textattack: Saving checkpoint under \"checkpoints\\1720203240048.ta.chkpt\" at 2024-07-06 02:14:00 after 30 attacks.\n"
     ]
    },
    {
     "name": "stdout",
     "output_type": "stream",
     "text": [
      "\n",
      "\n",
      "=============================================================================================================================\n",
      "=============================================================================================================================\n",
      "\n"
     ]
    },
    {
     "name": "stderr",
     "output_type": "stream",
     "text": [
      "[Succeeded / Failed / Skipped / Total] 17 / 9 / 9 / 35:   7%|█▊                       | 35/500 [00:45<10:06,  1.31s/it]textattack: Saving checkpoint under \"checkpoints\\1720203242611.ta.chkpt\" at 2024-07-06 02:14:02 after 35 attacks.\n"
     ]
    },
    {
     "name": "stdout",
     "output_type": "stream",
     "text": [
      "\n",
      "\n",
      "=============================================================================================================================\n",
      "=============================================================================================================================\n",
      "\n"
     ]
    },
    {
     "name": "stderr",
     "output_type": "stream",
     "text": [
      "[Succeeded / Failed / Skipped / Total] 21 / 9 / 10 / 40:   8%|█▉                      | 40/500 [00:48<09:17,  1.21s/it]textattack: Saving checkpoint under \"checkpoints\\1720203245439.ta.chkpt\" at 2024-07-06 02:14:05 after 40 attacks.\n"
     ]
    },
    {
     "name": "stdout",
     "output_type": "stream",
     "text": [
      "\n",
      "\n",
      "=============================================================================================================================\n",
      "=============================================================================================================================\n",
      "\n"
     ]
    },
    {
     "name": "stderr",
     "output_type": "stream",
     "text": [
      "[Succeeded / Failed / Skipped / Total] 24 / 9 / 12 / 45:   9%|██▏                     | 45/500 [00:56<09:27,  1.25s/it]textattack: Saving checkpoint under \"checkpoints\\1720203253081.ta.chkpt\" at 2024-07-06 02:14:13 after 45 attacks.\n"
     ]
    },
    {
     "name": "stdout",
     "output_type": "stream",
     "text": [
      "\n",
      "\n",
      "=============================================================================================================================\n",
      "=============================================================================================================================\n",
      "\n"
     ]
    },
    {
     "name": "stderr",
     "output_type": "stream",
     "text": [
      "[Succeeded / Failed / Skipped / Total] 29 / 9 / 12 / 50:  10%|██▍                     | 50/500 [01:01<09:09,  1.22s/it]textattack: Saving checkpoint under \"checkpoints\\1720203257972.ta.chkpt\" at 2024-07-06 02:14:17 after 50 attacks.\n",
      "[Succeeded / Failed / Skipped / Total] 29 / 9 / 13 / 51:  10%|██▍                     | 51/500 [01:01<08:57,  1.20s/it]"
     ]
    },
    {
     "name": "stdout",
     "output_type": "stream",
     "text": [
      "\n",
      "\n",
      "=============================================================================================================================\n",
      "=============================================================================================================================\n",
      "\n"
     ]
    },
    {
     "name": "stderr",
     "output_type": "stream",
     "text": [
      "[Succeeded / Failed / Skipped / Total] 32 / 9 / 14 / 55:  11%|██▋                     | 55/500 [01:06<08:59,  1.21s/it]textattack: Saving checkpoint under \"checkpoints\\1720203263628.ta.chkpt\" at 2024-07-06 02:14:23 after 55 attacks.\n"
     ]
    },
    {
     "name": "stdout",
     "output_type": "stream",
     "text": [
      "\n",
      "\n",
      "=============================================================================================================================\n",
      "=============================================================================================================================\n",
      "\n"
     ]
    },
    {
     "name": "stderr",
     "output_type": "stream",
     "text": [
      "[Succeeded / Failed / Skipped / Total] 36 / 9 / 15 / 60:  12%|██▉                     | 60/500 [01:09<08:30,  1.16s/it]textattack: Saving checkpoint under \"checkpoints\\1720203266504.ta.chkpt\" at 2024-07-06 02:14:26 after 60 attacks.\n"
     ]
    },
    {
     "name": "stdout",
     "output_type": "stream",
     "text": [
      "\n",
      "\n",
      "=============================================================================================================================\n",
      "=============================================================================================================================\n",
      "\n"
     ]
    },
    {
     "name": "stderr",
     "output_type": "stream",
     "text": [
      "[Succeeded / Failed / Skipped / Total] 40 / 10 / 15 / 65:  13%|██▉                    | 65/500 [01:16<08:29,  1.17s/it]textattack: Saving checkpoint under \"checkpoints\\1720203273004.ta.chkpt\" at 2024-07-06 02:14:33 after 65 attacks.\n"
     ]
    },
    {
     "name": "stdout",
     "output_type": "stream",
     "text": [
      "\n",
      "\n",
      "=============================================================================================================================\n",
      "=============================================================================================================================\n",
      "\n"
     ]
    },
    {
     "name": "stderr",
     "output_type": "stream",
     "text": [
      "[Succeeded / Failed / Skipped / Total] 44 / 11 / 15 / 70:  14%|███▏                   | 70/500 [01:23<08:29,  1.19s/it]textattack: Saving checkpoint under \"checkpoints\\1720203279925.ta.chkpt\" at 2024-07-06 02:14:39 after 70 attacks.\n",
      "[Succeeded / Failed / Skipped / Total] 44 / 11 / 16 / 71:  14%|███▎                   | 71/500 [01:23<08:21,  1.17s/it]"
     ]
    },
    {
     "name": "stdout",
     "output_type": "stream",
     "text": [
      "\n",
      "\n",
      "=============================================================================================================================\n",
      "=============================================================================================================================\n",
      "\n"
     ]
    },
    {
     "name": "stderr",
     "output_type": "stream",
     "text": [
      "[Succeeded / Failed / Skipped / Total] 47 / 11 / 17 / 75:  15%|███▍                   | 75/500 [01:26<08:10,  1.15s/it]textattack: Saving checkpoint under \"checkpoints\\1720203283521.ta.chkpt\" at 2024-07-06 02:14:43 after 75 attacks.\n"
     ]
    },
    {
     "name": "stdout",
     "output_type": "stream",
     "text": [
      "\n",
      "\n",
      "=============================================================================================================================\n",
      "=============================================================================================================================\n",
      "\n"
     ]
    },
    {
     "name": "stderr",
     "output_type": "stream",
     "text": [
      "[Succeeded / Failed / Skipped / Total] 51 / 11 / 18 / 80:  16%|███▋                   | 80/500 [01:31<07:58,  1.14s/it]textattack: Saving checkpoint under \"checkpoints\\1720203288097.ta.chkpt\" at 2024-07-06 02:14:48 after 80 attacks.\n",
      "[Succeeded / Failed / Skipped / Total] 51 / 11 / 20 / 82:  16%|███▊                   | 82/500 [01:31<07:45,  1.11s/it]"
     ]
    },
    {
     "name": "stdout",
     "output_type": "stream",
     "text": [
      "\n",
      "\n",
      "=============================================================================================================================\n",
      "=============================================================================================================================\n",
      "\n"
     ]
    },
    {
     "name": "stderr",
     "output_type": "stream",
     "text": [
      "[Succeeded / Failed / Skipped / Total] 54 / 11 / 20 / 85:  17%|███▉                   | 85/500 [01:32<07:32,  1.09s/it]textattack: Saving checkpoint under \"checkpoints\\1720203289660.ta.chkpt\" at 2024-07-06 02:14:49 after 85 attacks.\n"
     ]
    },
    {
     "name": "stdout",
     "output_type": "stream",
     "text": [
      "\n",
      "\n",
      "=============================================================================================================================\n",
      "=============================================================================================================================\n",
      "\n"
     ]
    },
    {
     "name": "stderr",
     "output_type": "stream",
     "text": [
      "[Succeeded / Failed / Skipped / Total] 58 / 11 / 21 / 90:  18%|████▏                  | 90/500 [01:38<07:30,  1.10s/it]textattack: Saving checkpoint under \"checkpoints\\1720203295723.ta.chkpt\" at 2024-07-06 02:14:55 after 90 attacks.\n",
      "[Succeeded / Failed / Skipped / Total] 58 / 11 / 22 / 91:  18%|████▏                  | 91/500 [01:38<07:24,  1.09s/it]"
     ]
    },
    {
     "name": "stdout",
     "output_type": "stream",
     "text": [
      "\n",
      "\n",
      "=============================================================================================================================\n",
      "=============================================================================================================================\n",
      "\n"
     ]
    },
    {
     "name": "stderr",
     "output_type": "stream",
     "text": [
      "[Succeeded / Failed / Skipped / Total] 59 / 12 / 24 / 95:  19%|████▎                  | 95/500 [01:45<07:29,  1.11s/it]textattack: Saving checkpoint under \"checkpoints\\1720203302348.ta.chkpt\" at 2024-07-06 02:15:02 after 95 attacks.\n"
     ]
    },
    {
     "name": "stdout",
     "output_type": "stream",
     "text": [
      "\n",
      "\n",
      "=============================================================================================================================\n",
      "=============================================================================================================================\n",
      "\n"
     ]
    },
    {
     "name": "stderr",
     "output_type": "stream",
     "text": [
      "[Succeeded / Failed / Skipped / Total] 63 / 12 / 25 / 100:  20%|████▏                | 100/500 [01:49<07:19,  1.10s/it]textattack: Saving checkpoint under \"checkpoints\\1720203306911.ta.chkpt\" at 2024-07-06 02:15:06 after 100 attacks.\n"
     ]
    },
    {
     "name": "stdout",
     "output_type": "stream",
     "text": [
      "\n",
      "\n",
      "=============================================================================================================================\n",
      "=============================================================================================================================\n",
      "\n"
     ]
    },
    {
     "name": "stderr",
     "output_type": "stream",
     "text": [
      "[Succeeded / Failed / Skipped / Total] 66 / 13 / 26 / 105:  21%|████▍                | 105/500 [01:58<07:24,  1.13s/it]textattack: Saving checkpoint under \"checkpoints\\1720203315073.ta.chkpt\" at 2024-07-06 02:15:15 after 105 attacks.\n",
      "[Succeeded / Failed / Skipped / Total] 66 / 13 / 27 / 106:  21%|████▍                | 106/500 [01:58<07:19,  1.12s/it]"
     ]
    },
    {
     "name": "stdout",
     "output_type": "stream",
     "text": [
      "\n",
      "\n",
      "=============================================================================================================================\n",
      "=============================================================================================================================\n",
      "\n"
     ]
    },
    {
     "name": "stderr",
     "output_type": "stream",
     "text": [
      "[Succeeded / Failed / Skipped / Total] 68 / 13 / 29 / 110:  22%|████▌                | 110/500 [02:01<07:09,  1.10s/it]textattack: Saving checkpoint under \"checkpoints\\1720203318010.ta.chkpt\" at 2024-07-06 02:15:18 after 110 attacks.\n",
      "[Succeeded / Failed / Skipped / Total] 68 / 13 / 30 / 111:  22%|████▋                | 111/500 [02:01<07:04,  1.09s/it]"
     ]
    },
    {
     "name": "stdout",
     "output_type": "stream",
     "text": [
      "\n",
      "\n",
      "=============================================================================================================================\n",
      "=============================================================================================================================\n",
      "\n"
     ]
    },
    {
     "name": "stderr",
     "output_type": "stream",
     "text": [
      "[Succeeded / Failed / Skipped / Total] 72 / 13 / 30 / 115:  23%|████▊                | 115/500 [02:05<07:00,  1.09s/it]textattack: Saving checkpoint under \"checkpoints\\1720203322589.ta.chkpt\" at 2024-07-06 02:15:22 after 115 attacks.\n"
     ]
    },
    {
     "name": "stdout",
     "output_type": "stream",
     "text": [
      "\n",
      "\n",
      "=============================================================================================================================\n",
      "=============================================================================================================================\n",
      "\n"
     ]
    },
    {
     "name": "stderr",
     "output_type": "stream",
     "text": [
      "[Succeeded / Failed / Skipped / Total] 74 / 14 / 32 / 120:  24%|█████                | 120/500 [02:07<06:44,  1.07s/it]textattack: Saving checkpoint under \"checkpoints\\1720203324730.ta.chkpt\" at 2024-07-06 02:15:24 after 120 attacks.\n"
     ]
    },
    {
     "name": "stdout",
     "output_type": "stream",
     "text": [
      "\n",
      "\n",
      "=============================================================================================================================\n",
      "=============================================================================================================================\n",
      "\n"
     ]
    },
    {
     "name": "stderr",
     "output_type": "stream",
     "text": [
      "[Succeeded / Failed / Skipped / Total] 78 / 14 / 33 / 125:  25%|█████▎               | 125/500 [02:11<06:34,  1.05s/it]textattack: Saving checkpoint under \"checkpoints\\1720203328371.ta.chkpt\" at 2024-07-06 02:15:28 after 125 attacks.\n"
     ]
    },
    {
     "name": "stdout",
     "output_type": "stream",
     "text": [
      "\n",
      "\n",
      "=============================================================================================================================\n",
      "=============================================================================================================================\n",
      "\n"
     ]
    },
    {
     "name": "stderr",
     "output_type": "stream",
     "text": [
      "[Succeeded / Failed / Skipped / Total] 83 / 14 / 33 / 130:  26%|█████▍               | 130/500 [02:17<06:30,  1.06s/it]textattack: Saving checkpoint under \"checkpoints\\1720203334286.ta.chkpt\" at 2024-07-06 02:15:34 after 130 attacks.\n",
      "[Succeeded / Failed / Skipped / Total] 83 / 14 / 34 / 131:  26%|█████▌               | 131/500 [02:17<06:27,  1.05s/it]"
     ]
    },
    {
     "name": "stdout",
     "output_type": "stream",
     "text": [
      "\n",
      "\n",
      "=============================================================================================================================\n",
      "=============================================================================================================================\n",
      "\n"
     ]
    },
    {
     "name": "stderr",
     "output_type": "stream",
     "text": [
      "[Succeeded / Failed / Skipped / Total] 85 / 15 / 35 / 135:  27%|█████▋               | 135/500 [02:31<06:49,  1.12s/it]textattack: Saving checkpoint under \"checkpoints\\1720203348212.ta.chkpt\" at 2024-07-06 02:15:48 after 135 attacks.\n"
     ]
    },
    {
     "name": "stdout",
     "output_type": "stream",
     "text": [
      "\n",
      "\n",
      "=============================================================================================================================\n",
      "=============================================================================================================================\n",
      "\n"
     ]
    },
    {
     "name": "stderr",
     "output_type": "stream",
     "text": [
      "[Succeeded / Failed / Skipped / Total] 87 / 16 / 37 / 140:  28%|█████▉               | 140/500 [02:34<06:37,  1.10s/it]textattack: Saving checkpoint under \"checkpoints\\1720203351446.ta.chkpt\" at 2024-07-06 02:15:51 after 140 attacks.\n",
      "[Succeeded / Failed / Skipped / Total] 87 / 16 / 38 / 141:  28%|█████▉               | 141/500 [02:34<06:33,  1.10s/it]"
     ]
    },
    {
     "name": "stdout",
     "output_type": "stream",
     "text": [
      "\n",
      "\n",
      "=============================================================================================================================\n",
      "=============================================================================================================================\n",
      "\n"
     ]
    },
    {
     "name": "stderr",
     "output_type": "stream",
     "text": [
      "[Succeeded / Failed / Skipped / Total] 89 / 16 / 40 / 145:  29%|██████               | 145/500 [02:35<06:21,  1.08s/it]textattack: Saving checkpoint under \"checkpoints\\1720203352881.ta.chkpt\" at 2024-07-06 02:15:52 after 145 attacks.\n",
      "[Succeeded / Failed / Skipped / Total] 89 / 16 / 41 / 146:  29%|██████▏              | 146/500 [02:36<06:18,  1.07s/it]"
     ]
    },
    {
     "name": "stdout",
     "output_type": "stream",
     "text": [
      "\n",
      "\n",
      "=============================================================================================================================\n",
      "=============================================================================================================================\n",
      "\n"
     ]
    },
    {
     "name": "stderr",
     "output_type": "stream",
     "text": [
      "[Succeeded / Failed / Skipped / Total] 91 / 17 / 42 / 150:  30%|██████▎              | 150/500 [02:39<06:11,  1.06s/it]textattack: Saving checkpoint under \"checkpoints\\1720203356162.ta.chkpt\" at 2024-07-06 02:15:56 after 150 attacks.\n",
      "[Succeeded / Failed / Skipped / Total] 91 / 17 / 43 / 151:  30%|██████▎              | 151/500 [02:39<06:08,  1.06s/it]"
     ]
    },
    {
     "name": "stdout",
     "output_type": "stream",
     "text": [
      "\n",
      "\n",
      "=============================================================================================================================\n",
      "=============================================================================================================================\n",
      "\n"
     ]
    },
    {
     "name": "stderr",
     "output_type": "stream",
     "text": [
      "[Succeeded / Failed / Skipped / Total] 94 / 17 / 44 / 155:  31%|██████▌              | 155/500 [02:42<06:01,  1.05s/it]textattack: Saving checkpoint under \"checkpoints\\1720203359335.ta.chkpt\" at 2024-07-06 02:15:59 after 155 attacks.\n"
     ]
    },
    {
     "name": "stdout",
     "output_type": "stream",
     "text": [
      "\n",
      "\n",
      "=============================================================================================================================\n",
      "=============================================================================================================================\n",
      "\n"
     ]
    },
    {
     "name": "stderr",
     "output_type": "stream",
     "text": [
      "[Succeeded / Failed / Skipped / Total] 97 / 17 / 46 / 160:  32%|██████▋              | 160/500 [02:50<06:02,  1.07s/it]textattack: Saving checkpoint under \"checkpoints\\1720203367351.ta.chkpt\" at 2024-07-06 02:16:07 after 160 attacks.\n",
      "[Succeeded / Failed / Skipped / Total] 97 / 17 / 47 / 161:  32%|██████▊              | 161/500 [02:50<05:58,  1.06s/it]"
     ]
    },
    {
     "name": "stdout",
     "output_type": "stream",
     "text": [
      "\n",
      "\n",
      "=============================================================================================================================\n",
      "=============================================================================================================================\n",
      "\n"
     ]
    },
    {
     "name": "stderr",
     "output_type": "stream",
     "text": [
      "[Succeeded / Failed / Skipped / Total] 99 / 18 / 48 / 165:  33%|██████▉              | 165/500 [02:54<05:54,  1.06s/it]textattack: Saving checkpoint under \"checkpoints\\1720203371445.ta.chkpt\" at 2024-07-06 02:16:11 after 165 attacks.\n",
      "[Succeeded / Failed / Skipped / Total] 99 / 18 / 50 / 167:  33%|███████              | 167/500 [02:54<05:48,  1.05s/it]"
     ]
    },
    {
     "name": "stdout",
     "output_type": "stream",
     "text": [
      "\n",
      "\n",
      "=============================================================================================================================\n",
      "=============================================================================================================================\n",
      "\n"
     ]
    },
    {
     "name": "stderr",
     "output_type": "stream",
     "text": [
      "[Succeeded / Failed / Skipped / Total] 99 / 18 / 53 / 170:  34%|███████▏             | 170/500 [02:54<05:39,  1.03s/it]textattack: Saving checkpoint under \"checkpoints\\1720203371773.ta.chkpt\" at 2024-07-06 02:16:11 after 170 attacks.\n"
     ]
    },
    {
     "name": "stdout",
     "output_type": "stream",
     "text": [
      "\n",
      "\n",
      "=============================================================================================================================\n",
      "=============================================================================================================================\n",
      "\n"
     ]
    },
    {
     "name": "stderr",
     "output_type": "stream",
     "text": [
      "[Succeeded / Failed / Skipped / Total] 101 / 19 / 55 / 175:  35%|███████             | 175/500 [03:00<05:35,  1.03s/it]textattack: Saving checkpoint under \"checkpoints\\1720203377696.ta.chkpt\" at 2024-07-06 02:16:17 after 175 attacks.\n"
     ]
    },
    {
     "name": "stdout",
     "output_type": "stream",
     "text": [
      "\n",
      "\n",
      "=============================================================================================================================\n",
      "=============================================================================================================================\n",
      "\n"
     ]
    },
    {
     "name": "stderr",
     "output_type": "stream",
     "text": [
      "[Succeeded / Failed / Skipped / Total] 105 / 19 / 56 / 180:  36%|███████▏            | 180/500 [03:07<05:33,  1.04s/it]textattack: Saving checkpoint under \"checkpoints\\1720203384618.ta.chkpt\" at 2024-07-06 02:16:24 after 180 attacks.\n"
     ]
    },
    {
     "name": "stdout",
     "output_type": "stream",
     "text": [
      "\n",
      "\n",
      "=============================================================================================================================\n",
      "=============================================================================================================================\n",
      "\n"
     ]
    },
    {
     "name": "stderr",
     "output_type": "stream",
     "text": [
      "[Succeeded / Failed / Skipped / Total] 108 / 19 / 58 / 185:  37%|███████▍            | 185/500 [03:09<05:22,  1.02s/it]textattack: Saving checkpoint under \"checkpoints\\1720203386384.ta.chkpt\" at 2024-07-06 02:16:26 after 185 attacks.\n",
      "[Succeeded / Failed / Skipped / Total] 108 / 19 / 59 / 186:  37%|███████▍            | 186/500 [03:09<05:19,  1.02s/it]"
     ]
    },
    {
     "name": "stdout",
     "output_type": "stream",
     "text": [
      "\n",
      "\n",
      "=============================================================================================================================\n",
      "=============================================================================================================================\n",
      "\n"
     ]
    },
    {
     "name": "stderr",
     "output_type": "stream",
     "text": [
      "[Succeeded / Failed / Skipped / Total] 112 / 19 / 59 / 190:  38%|███████▌            | 190/500 [03:13<05:16,  1.02s/it]textattack: Saving checkpoint under \"checkpoints\\1720203390665.ta.chkpt\" at 2024-07-06 02:16:30 after 190 attacks.\n"
     ]
    },
    {
     "name": "stdout",
     "output_type": "stream",
     "text": [
      "\n",
      "\n",
      "=============================================================================================================================\n",
      "=============================================================================================================================\n",
      "\n"
     ]
    },
    {
     "name": "stderr",
     "output_type": "stream",
     "text": [
      "[Succeeded / Failed / Skipped / Total] 115 / 20 / 60 / 195:  39%|███████▊            | 195/500 [03:21<05:14,  1.03s/it]textattack: Saving checkpoint under \"checkpoints\\1720203397994.ta.chkpt\" at 2024-07-06 02:16:37 after 195 attacks.\n"
     ]
    },
    {
     "name": "stdout",
     "output_type": "stream",
     "text": [
      "\n",
      "\n",
      "=============================================================================================================================\n",
      "=============================================================================================================================\n",
      "\n"
     ]
    },
    {
     "name": "stderr",
     "output_type": "stream",
     "text": [
      "[Succeeded / Failed / Skipped / Total] 117 / 21 / 62 / 200:  40%|████████            | 200/500 [03:32<05:18,  1.06s/it]textattack: Saving checkpoint under \"checkpoints\\1720203409170.ta.chkpt\" at 2024-07-06 02:16:49 after 200 attacks.\n"
     ]
    },
    {
     "name": "stdout",
     "output_type": "stream",
     "text": [
      "\n",
      "\n",
      "=============================================================================================================================\n",
      "=============================================================================================================================\n",
      "\n"
     ]
    },
    {
     "name": "stderr",
     "output_type": "stream",
     "text": [
      "[Succeeded / Failed / Skipped / Total] 119 / 23 / 63 / 205:  41%|████████▏           | 205/500 [03:40<05:17,  1.07s/it]textattack: Saving checkpoint under \"checkpoints\\1720203417218.ta.chkpt\" at 2024-07-06 02:16:57 after 205 attacks.\n"
     ]
    },
    {
     "name": "stdout",
     "output_type": "stream",
     "text": [
      "\n",
      "\n",
      "=============================================================================================================================\n",
      "=============================================================================================================================\n",
      "\n"
     ]
    },
    {
     "name": "stderr",
     "output_type": "stream",
     "text": [
      "[Succeeded / Failed / Skipped / Total] 123 / 23 / 64 / 210:  42%|████████▍           | 210/500 [03:43<05:08,  1.06s/it]textattack: Saving checkpoint under \"checkpoints\\1720203420047.ta.chkpt\" at 2024-07-06 02:17:00 after 210 attacks.\n"
     ]
    },
    {
     "name": "stdout",
     "output_type": "stream",
     "text": [
      "\n",
      "\n",
      "=============================================================================================================================\n",
      "=============================================================================================================================\n",
      "\n"
     ]
    },
    {
     "name": "stderr",
     "output_type": "stream",
     "text": [
      "[Succeeded / Failed / Skipped / Total] 127 / 23 / 65 / 215:  43%|████████▌           | 215/500 [03:47<05:02,  1.06s/it]textattack: Saving checkpoint under \"checkpoints\\1720203424875.ta.chkpt\" at 2024-07-06 02:17:04 after 215 attacks.\n"
     ]
    },
    {
     "name": "stdout",
     "output_type": "stream",
     "text": [
      "\n",
      "\n",
      "=============================================================================================================================\n",
      "=============================================================================================================================\n",
      "\n"
     ]
    },
    {
     "name": "stderr",
     "output_type": "stream",
     "text": [
      "[Succeeded / Failed / Skipped / Total] 130 / 24 / 66 / 220:  44%|████████▊           | 220/500 [03:50<04:53,  1.05s/it]textattack: Saving checkpoint under \"checkpoints\\1720203427735.ta.chkpt\" at 2024-07-06 02:17:07 after 220 attacks.\n"
     ]
    },
    {
     "name": "stdout",
     "output_type": "stream",
     "text": [
      "\n",
      "\n",
      "=============================================================================================================================\n",
      "=============================================================================================================================\n",
      "\n"
     ]
    },
    {
     "name": "stderr",
     "output_type": "stream",
     "text": [
      "[Succeeded / Failed / Skipped / Total] 134 / 24 / 67 / 225:  45%|█████████           | 225/500 [03:54<04:47,  1.04s/it]textattack: Saving checkpoint under \"checkpoints\\1720203431766.ta.chkpt\" at 2024-07-06 02:17:11 after 225 attacks.\n"
     ]
    },
    {
     "name": "stdout",
     "output_type": "stream",
     "text": [
      "\n",
      "\n",
      "=============================================================================================================================\n",
      "=============================================================================================================================\n",
      "\n"
     ]
    },
    {
     "name": "stderr",
     "output_type": "stream",
     "text": [
      "[Succeeded / Failed / Skipped / Total] 136 / 24 / 70 / 230:  46%|█████████▏          | 230/500 [03:58<04:39,  1.04s/it]textattack: Saving checkpoint under \"checkpoints\\1720203435033.ta.chkpt\" at 2024-07-06 02:17:15 after 230 attacks.\n",
      "[Succeeded / Failed / Skipped / Total] 136 / 24 / 71 / 231:  46%|█████████▏          | 231/500 [03:58<04:37,  1.03s/it]"
     ]
    },
    {
     "name": "stdout",
     "output_type": "stream",
     "text": [
      "\n",
      "\n",
      "=============================================================================================================================\n",
      "=============================================================================================================================\n",
      "\n"
     ]
    },
    {
     "name": "stderr",
     "output_type": "stream",
     "text": [
      "[Succeeded / Failed / Skipped / Total] 139 / 24 / 72 / 235:  47%|█████████▍          | 235/500 [04:04<04:36,  1.04s/it]textattack: Saving checkpoint under \"checkpoints\\1720203441877.ta.chkpt\" at 2024-07-06 02:17:21 after 235 attacks.\n"
     ]
    },
    {
     "name": "stdout",
     "output_type": "stream",
     "text": [
      "\n",
      "\n",
      "=============================================================================================================================\n",
      "=============================================================================================================================\n",
      "\n"
     ]
    },
    {
     "name": "stderr",
     "output_type": "stream",
     "text": [
      "[Succeeded / Failed / Skipped / Total] 142 / 25 / 73 / 240:  48%|█████████▌          | 240/500 [04:09<04:30,  1.04s/it]textattack: Saving checkpoint under \"checkpoints\\1720203446190.ta.chkpt\" at 2024-07-06 02:17:26 after 240 attacks.\n",
      "[Succeeded / Failed / Skipped / Total] 142 / 25 / 74 / 241:  48%|█████████▋          | 241/500 [04:09<04:27,  1.03s/it]"
     ]
    },
    {
     "name": "stdout",
     "output_type": "stream",
     "text": [
      "\n",
      "\n",
      "=============================================================================================================================\n",
      "=============================================================================================================================\n",
      "\n"
     ]
    },
    {
     "name": "stderr",
     "output_type": "stream",
     "text": [
      "[Succeeded / Failed / Skipped / Total] 146 / 25 / 74 / 245:  49%|█████████▊          | 245/500 [04:12<04:23,  1.03s/it]textattack: Saving checkpoint under \"checkpoints\\1720203449770.ta.chkpt\" at 2024-07-06 02:17:29 after 245 attacks.\n"
     ]
    },
    {
     "name": "stdout",
     "output_type": "stream",
     "text": [
      "\n",
      "\n",
      "=============================================================================================================================\n",
      "=============================================================================================================================\n",
      "\n"
     ]
    },
    {
     "name": "stderr",
     "output_type": "stream",
     "text": [
      "[Succeeded / Failed / Skipped / Total] 148 / 25 / 77 / 250:  50%|██████████          | 250/500 [04:15<04:15,  1.02s/it]textattack: Saving checkpoint under \"checkpoints\\1720203452099.ta.chkpt\" at 2024-07-06 02:17:32 after 250 attacks.\n",
      "[Succeeded / Failed / Skipped / Total] 148 / 25 / 78 / 251:  50%|██████████          | 251/500 [04:15<04:13,  1.02s/it]"
     ]
    },
    {
     "name": "stdout",
     "output_type": "stream",
     "text": [
      "\n",
      "\n",
      "=============================================================================================================================\n",
      "=============================================================================================================================\n",
      "\n"
     ]
    },
    {
     "name": "stderr",
     "output_type": "stream",
     "text": [
      "[Succeeded / Failed / Skipped / Total] 152 / 25 / 78 / 255:  51%|██████████▏         | 255/500 [04:21<04:10,  1.02s/it]textattack: Saving checkpoint under \"checkpoints\\1720203458160.ta.chkpt\" at 2024-07-06 02:17:38 after 255 attacks.\n"
     ]
    },
    {
     "name": "stdout",
     "output_type": "stream",
     "text": [
      "\n",
      "\n",
      "=============================================================================================================================\n",
      "=============================================================================================================================\n",
      "\n"
     ]
    },
    {
     "name": "stderr",
     "output_type": "stream",
     "text": [
      "[Succeeded / Failed / Skipped / Total] 156 / 26 / 78 / 260:  52%|██████████▍         | 260/500 [04:25<04:05,  1.02s/it]textattack: Saving checkpoint under \"checkpoints\\1720203462393.ta.chkpt\" at 2024-07-06 02:17:42 after 260 attacks.\n",
      "[Succeeded / Failed / Skipped / Total] 156 / 26 / 80 / 262:  52%|██████████▍         | 262/500 [04:25<04:01,  1.01s/it]"
     ]
    },
    {
     "name": "stdout",
     "output_type": "stream",
     "text": [
      "\n",
      "\n",
      "=============================================================================================================================\n",
      "=============================================================================================================================\n",
      "\n"
     ]
    },
    {
     "name": "stderr",
     "output_type": "stream",
     "text": [
      "[Succeeded / Failed / Skipped / Total] 157 / 27 / 81 / 265:  53%|██████████▌         | 265/500 [04:29<03:58,  1.02s/it]textattack: Saving checkpoint under \"checkpoints\\1720203466317.ta.chkpt\" at 2024-07-06 02:17:46 after 265 attacks.\n"
     ]
    },
    {
     "name": "stdout",
     "output_type": "stream",
     "text": [
      "\n",
      "\n",
      "=============================================================================================================================\n",
      "=============================================================================================================================\n",
      "\n"
     ]
    },
    {
     "name": "stderr",
     "output_type": "stream",
     "text": [
      "[Succeeded / Failed / Skipped / Total] 161 / 27 / 82 / 270:  54%|██████████▊         | 270/500 [04:32<03:52,  1.01s/it]textattack: Saving checkpoint under \"checkpoints\\1720203469631.ta.chkpt\" at 2024-07-06 02:17:49 after 270 attacks.\n",
      "[Succeeded / Failed / Skipped / Total] 161 / 27 / 83 / 271:  54%|██████████▊         | 271/500 [04:32<03:50,  1.01s/it]"
     ]
    },
    {
     "name": "stdout",
     "output_type": "stream",
     "text": [
      "\n",
      "\n",
      "=============================================================================================================================\n",
      "=============================================================================================================================\n",
      "\n"
     ]
    },
    {
     "name": "stderr",
     "output_type": "stream",
     "text": [
      "[Succeeded / Failed / Skipped / Total] 164 / 27 / 84 / 275:  55%|███████████         | 275/500 [04:34<03:44,  1.00it/s]textattack: Saving checkpoint under \"checkpoints\\1720203471865.ta.chkpt\" at 2024-07-06 02:17:51 after 275 attacks.\n"
     ]
    },
    {
     "name": "stdout",
     "output_type": "stream",
     "text": [
      "\n",
      "\n",
      "=============================================================================================================================\n",
      "=============================================================================================================================\n",
      "\n"
     ]
    },
    {
     "name": "stderr",
     "output_type": "stream",
     "text": [
      "[Succeeded / Failed / Skipped / Total] 165 / 28 / 87 / 280:  56%|███████████▏        | 280/500 [04:37<03:37,  1.01it/s]textattack: Saving checkpoint under \"checkpoints\\1720203474131.ta.chkpt\" at 2024-07-06 02:17:54 after 280 attacks.\n"
     ]
    },
    {
     "name": "stdout",
     "output_type": "stream",
     "text": [
      "\n",
      "\n",
      "=============================================================================================================================\n",
      "=============================================================================================================================\n",
      "\n"
     ]
    },
    {
     "name": "stderr",
     "output_type": "stream",
     "text": [
      "[Succeeded / Failed / Skipped / Total] 166 / 29 / 90 / 285:  57%|███████████▍        | 285/500 [04:39<03:31,  1.02it/s]textattack: Saving checkpoint under \"checkpoints\\1720203476647.ta.chkpt\" at 2024-07-06 02:17:56 after 285 attacks.\n",
      "[Succeeded / Failed / Skipped / Total] 166 / 29 / 91 / 286:  57%|███████████▍        | 286/500 [04:39<03:29,  1.02it/s]"
     ]
    },
    {
     "name": "stdout",
     "output_type": "stream",
     "text": [
      "\n",
      "\n",
      "=============================================================================================================================\n",
      "=============================================================================================================================\n",
      "\n"
     ]
    },
    {
     "name": "stderr",
     "output_type": "stream",
     "text": [
      "[Succeeded / Failed / Skipped / Total] 169 / 30 / 91 / 290:  58%|███████████▌        | 290/500 [04:48<03:28,  1.00it/s]textattack: Saving checkpoint under \"checkpoints\\1720203485491.ta.chkpt\" at 2024-07-06 02:18:05 after 290 attacks.\n",
      "[Succeeded / Failed / Skipped / Total] 169 / 30 / 93 / 292:  58%|███████████▋        | 292/500 [04:48<03:25,  1.01it/s]"
     ]
    },
    {
     "name": "stdout",
     "output_type": "stream",
     "text": [
      "\n",
      "\n",
      "=============================================================================================================================\n",
      "=============================================================================================================================\n",
      "\n"
     ]
    },
    {
     "name": "stderr",
     "output_type": "stream",
     "text": [
      "[Succeeded / Failed / Skipped / Total] 171 / 30 / 94 / 295:  59%|███████████▊        | 295/500 [04:49<03:21,  1.02it/s]textattack: Saving checkpoint under \"checkpoints\\1720203486835.ta.chkpt\" at 2024-07-06 02:18:06 after 295 attacks.\n"
     ]
    },
    {
     "name": "stdout",
     "output_type": "stream",
     "text": [
      "\n",
      "\n",
      "=============================================================================================================================\n",
      "=============================================================================================================================\n",
      "\n"
     ]
    },
    {
     "name": "stderr",
     "output_type": "stream",
     "text": [
      "[Succeeded / Failed / Skipped / Total] 174 / 31 / 95 / 300:  60%|████████████        | 300/500 [04:53<03:15,  1.02it/s]textattack: Saving checkpoint under \"checkpoints\\1720203490898.ta.chkpt\" at 2024-07-06 02:18:10 after 300 attacks.\n"
     ]
    },
    {
     "name": "stdout",
     "output_type": "stream",
     "text": [
      "\n",
      "\n",
      "=============================================================================================================================\n",
      "=============================================================================================================================\n",
      "\n"
     ]
    },
    {
     "name": "stderr",
     "output_type": "stream",
     "text": [
      "[Succeeded / Failed / Skipped / Total] 177 / 31 / 97 / 305:  61%|████████████▏       | 305/500 [04:56<03:09,  1.03it/s]textattack: Saving checkpoint under \"checkpoints\\1720203493777.ta.chkpt\" at 2024-07-06 02:18:13 after 305 attacks.\n"
     ]
    },
    {
     "name": "stdout",
     "output_type": "stream",
     "text": [
      "\n",
      "\n",
      "=============================================================================================================================\n",
      "=============================================================================================================================\n",
      "\n"
     ]
    },
    {
     "name": "stderr",
     "output_type": "stream",
     "text": [
      "[Succeeded / Failed / Skipped / Total] 180 / 33 / 97 / 310:  62%|████████████▍       | 310/500 [05:00<03:04,  1.03it/s]textattack: Saving checkpoint under \"checkpoints\\1720203497824.ta.chkpt\" at 2024-07-06 02:18:17 after 310 attacks.\n"
     ]
    },
    {
     "name": "stdout",
     "output_type": "stream",
     "text": [
      "\n",
      "\n",
      "=============================================================================================================================\n",
      "=============================================================================================================================\n",
      "\n"
     ]
    },
    {
     "name": "stderr",
     "output_type": "stream",
     "text": [
      "[Succeeded / Failed / Skipped / Total] 183 / 33 / 99 / 315:  63%|████████████▌       | 315/500 [05:04<02:58,  1.03it/s]textattack: Saving checkpoint under \"checkpoints\\1720203501434.ta.chkpt\" at 2024-07-06 02:18:21 after 315 attacks.\n"
     ]
    },
    {
     "name": "stdout",
     "output_type": "stream",
     "text": [
      "\n",
      "\n",
      "=============================================================================================================================\n",
      "=============================================================================================================================\n",
      "\n"
     ]
    },
    {
     "name": "stderr",
     "output_type": "stream",
     "text": [
      "[Succeeded / Failed / Skipped / Total] 186 / 33 / 101 / 320:  64%|████████████▏      | 320/500 [05:15<02:57,  1.02it/s]textattack: Saving checkpoint under \"checkpoints\\1720203512153.ta.chkpt\" at 2024-07-06 02:18:32 after 320 attacks.\n"
     ]
    },
    {
     "name": "stdout",
     "output_type": "stream",
     "text": [
      "\n",
      "\n",
      "=============================================================================================================================\n",
      "=============================================================================================================================\n",
      "\n"
     ]
    },
    {
     "name": "stderr",
     "output_type": "stream",
     "text": [
      "[Succeeded / Failed / Skipped / Total] 189 / 33 / 103 / 325:  65%|████████████▎      | 325/500 [05:19<02:51,  1.02it/s]textattack: Saving checkpoint under \"checkpoints\\1720203516045.ta.chkpt\" at 2024-07-06 02:18:36 after 325 attacks.\n",
      "[Succeeded / Failed / Skipped / Total] 189 / 33 / 106 / 328:  66%|████████████▍      | 328/500 [05:19<02:47,  1.03it/s]"
     ]
    },
    {
     "name": "stdout",
     "output_type": "stream",
     "text": [
      "\n",
      "\n",
      "=============================================================================================================================\n",
      "=============================================================================================================================\n",
      "\n"
     ]
    },
    {
     "name": "stderr",
     "output_type": "stream",
     "text": [
      "[Succeeded / Failed / Skipped / Total] 189 / 34 / 107 / 330:  66%|████████████▌      | 330/500 [05:20<02:45,  1.03it/s]textattack: Saving checkpoint under \"checkpoints\\1720203517467.ta.chkpt\" at 2024-07-06 02:18:37 after 330 attacks.\n"
     ]
    },
    {
     "name": "stdout",
     "output_type": "stream",
     "text": [
      "\n",
      "\n",
      "=============================================================================================================================\n",
      "=============================================================================================================================\n",
      "\n"
     ]
    },
    {
     "name": "stderr",
     "output_type": "stream",
     "text": [
      "[Succeeded / Failed / Skipped / Total] 191 / 36 / 108 / 335:  67%|████████████▋      | 335/500 [05:30<02:42,  1.01it/s]textattack: Saving checkpoint under \"checkpoints\\1720203527405.ta.chkpt\" at 2024-07-06 02:18:47 after 335 attacks.\n"
     ]
    },
    {
     "name": "stdout",
     "output_type": "stream",
     "text": [
      "\n",
      "\n",
      "=============================================================================================================================\n",
      "=============================================================================================================================\n",
      "\n"
     ]
    },
    {
     "name": "stderr",
     "output_type": "stream",
     "text": [
      "[Succeeded / Failed / Skipped / Total] 193 / 37 / 110 / 340:  68%|████████████▉      | 340/500 [05:33<02:36,  1.02it/s]textattack: Saving checkpoint under \"checkpoints\\1720203530281.ta.chkpt\" at 2024-07-06 02:18:50 after 340 attacks.\n"
     ]
    },
    {
     "name": "stdout",
     "output_type": "stream",
     "text": [
      "\n",
      "\n",
      "=============================================================================================================================\n",
      "=============================================================================================================================\n",
      "\n"
     ]
    },
    {
     "name": "stderr",
     "output_type": "stream",
     "text": [
      "[Succeeded / Failed / Skipped / Total] 196 / 37 / 112 / 345:  69%|█████████████      | 345/500 [05:35<02:30,  1.03it/s]textattack: Saving checkpoint under \"checkpoints\\1720203532891.ta.chkpt\" at 2024-07-06 02:18:52 after 345 attacks.\n"
     ]
    },
    {
     "name": "stdout",
     "output_type": "stream",
     "text": [
      "\n",
      "\n",
      "=============================================================================================================================\n",
      "=============================================================================================================================\n",
      "\n"
     ]
    },
    {
     "name": "stderr",
     "output_type": "stream",
     "text": [
      "[Succeeded / Failed / Skipped / Total] 201 / 37 / 112 / 350:  70%|█████████████▎     | 350/500 [05:42<02:26,  1.02it/s]textattack: Saving checkpoint under \"checkpoints\\1720203539454.ta.chkpt\" at 2024-07-06 02:18:59 after 350 attacks.\n"
     ]
    },
    {
     "name": "stdout",
     "output_type": "stream",
     "text": [
      "\n",
      "\n",
      "=============================================================================================================================\n",
      "=============================================================================================================================\n",
      "\n"
     ]
    },
    {
     "name": "stderr",
     "output_type": "stream",
     "text": [
      "[Succeeded / Failed / Skipped / Total] 204 / 39 / 112 / 355:  71%|█████████████▍     | 355/500 [05:54<02:24,  1.00it/s]textattack: Saving checkpoint under \"checkpoints\\1720203550986.ta.chkpt\" at 2024-07-06 02:19:10 after 355 attacks.\n"
     ]
    },
    {
     "name": "stdout",
     "output_type": "stream",
     "text": [
      "\n",
      "\n",
      "=============================================================================================================================\n",
      "=============================================================================================================================\n",
      "\n"
     ]
    },
    {
     "name": "stderr",
     "output_type": "stream",
     "text": [
      "[Succeeded / Failed / Skipped / Total] 206 / 41 / 113 / 360:  72%|█████████████▋     | 360/500 [06:01<02:20,  1.00s/it]textattack: Saving checkpoint under \"checkpoints\\1720203558127.ta.chkpt\" at 2024-07-06 02:19:18 after 360 attacks.\n"
     ]
    },
    {
     "name": "stdout",
     "output_type": "stream",
     "text": [
      "\n",
      "\n",
      "=============================================================================================================================\n",
      "=============================================================================================================================\n",
      "\n"
     ]
    },
    {
     "name": "stderr",
     "output_type": "stream",
     "text": [
      "[Succeeded / Failed / Skipped / Total] 210 / 41 / 114 / 365:  73%|█████████████▊     | 365/500 [06:05<02:15,  1.00s/it]textattack: Saving checkpoint under \"checkpoints\\1720203562565.ta.chkpt\" at 2024-07-06 02:19:22 after 365 attacks.\n"
     ]
    },
    {
     "name": "stdout",
     "output_type": "stream",
     "text": [
      "\n",
      "\n",
      "=============================================================================================================================\n",
      "=============================================================================================================================\n",
      "\n"
     ]
    },
    {
     "name": "stderr",
     "output_type": "stream",
     "text": [
      "[Succeeded / Failed / Skipped / Total] 213 / 41 / 116 / 370:  74%|██████████████     | 370/500 [06:07<02:09,  1.01it/s]textattack: Saving checkpoint under \"checkpoints\\1720203564878.ta.chkpt\" at 2024-07-06 02:19:24 after 370 attacks.\n"
     ]
    },
    {
     "name": "stdout",
     "output_type": "stream",
     "text": [
      "\n",
      "\n",
      "=============================================================================================================================\n",
      "=============================================================================================================================\n",
      "\n"
     ]
    },
    {
     "name": "stderr",
     "output_type": "stream",
     "text": [
      "[Succeeded / Failed / Skipped / Total] 218 / 41 / 116 / 375:  75%|██████████████▎    | 375/500 [06:12<02:04,  1.01it/s]textattack: Saving checkpoint under \"checkpoints\\1720203569597.ta.chkpt\" at 2024-07-06 02:19:29 after 375 attacks.\n"
     ]
    },
    {
     "name": "stdout",
     "output_type": "stream",
     "text": [
      "\n",
      "\n",
      "=============================================================================================================================\n",
      "=============================================================================================================================\n",
      "\n"
     ]
    },
    {
     "name": "stderr",
     "output_type": "stream",
     "text": [
      "[Succeeded / Failed / Skipped / Total] 222 / 41 / 117 / 380:  76%|██████████████▍    | 380/500 [06:16<01:58,  1.01it/s]textattack: Saving checkpoint under \"checkpoints\\1720203573249.ta.chkpt\" at 2024-07-06 02:19:33 after 380 attacks.\n"
     ]
    },
    {
     "name": "stdout",
     "output_type": "stream",
     "text": [
      "\n",
      "\n",
      "=============================================================================================================================\n",
      "=============================================================================================================================\n",
      "\n"
     ]
    },
    {
     "name": "stderr",
     "output_type": "stream",
     "text": [
      "[Succeeded / Failed / Skipped / Total] 226 / 41 / 118 / 385:  77%|██████████████▋    | 385/500 [06:19<01:53,  1.01it/s]textattack: Saving checkpoint under \"checkpoints\\1720203576734.ta.chkpt\" at 2024-07-06 02:19:36 after 385 attacks.\n"
     ]
    },
    {
     "name": "stdout",
     "output_type": "stream",
     "text": [
      "\n",
      "\n",
      "=============================================================================================================================\n",
      "=============================================================================================================================\n",
      "\n"
     ]
    },
    {
     "name": "stderr",
     "output_type": "stream",
     "text": [
      "[Succeeded / Failed / Skipped / Total] 230 / 41 / 119 / 390:  78%|██████████████▊    | 390/500 [06:22<01:47,  1.02it/s]textattack: Saving checkpoint under \"checkpoints\\1720203579562.ta.chkpt\" at 2024-07-06 02:19:39 after 390 attacks.\n"
     ]
    },
    {
     "name": "stdout",
     "output_type": "stream",
     "text": [
      "\n",
      "\n",
      "=============================================================================================================================\n",
      "=============================================================================================================================\n",
      "\n"
     ]
    },
    {
     "name": "stderr",
     "output_type": "stream",
     "text": [
      "[Succeeded / Failed / Skipped / Total] 235 / 41 / 119 / 395:  79%|███████████████    | 395/500 [06:33<01:44,  1.00it/s]textattack: Saving checkpoint under \"checkpoints\\1720203590439.ta.chkpt\" at 2024-07-06 02:19:50 after 395 attacks.\n"
     ]
    },
    {
     "name": "stdout",
     "output_type": "stream",
     "text": [
      "\n",
      "\n",
      "=============================================================================================================================\n",
      "=============================================================================================================================\n",
      "\n"
     ]
    },
    {
     "name": "stderr",
     "output_type": "stream",
     "text": [
      "[Succeeded / Failed / Skipped / Total] 239 / 41 / 120 / 400:  80%|███████████████▏   | 400/500 [06:44<01:41,  1.01s/it]textattack: Saving checkpoint under \"checkpoints\\1720203601393.ta.chkpt\" at 2024-07-06 02:20:01 after 400 attacks.\n",
      "[Succeeded / Failed / Skipped / Total] 239 / 41 / 122 / 402:  80%|███████████████▎   | 402/500 [06:44<01:38,  1.01s/it]"
     ]
    },
    {
     "name": "stdout",
     "output_type": "stream",
     "text": [
      "\n",
      "\n",
      "=============================================================================================================================\n",
      "=============================================================================================================================\n",
      "\n"
     ]
    },
    {
     "name": "stderr",
     "output_type": "stream",
     "text": [
      "[Succeeded / Failed / Skipped / Total] 240 / 42 / 123 / 405:  81%|███████████████▍   | 405/500 [06:49<01:36,  1.01s/it]textattack: Saving checkpoint under \"checkpoints\\1720203606659.ta.chkpt\" at 2024-07-06 02:20:06 after 405 attacks.\n"
     ]
    },
    {
     "name": "stdout",
     "output_type": "stream",
     "text": [
      "\n",
      "\n",
      "=============================================================================================================================\n",
      "=============================================================================================================================\n",
      "\n"
     ]
    },
    {
     "name": "stderr",
     "output_type": "stream",
     "text": [
      "[Succeeded / Failed / Skipped / Total] 243 / 43 / 124 / 410:  82%|███████████████▌   | 410/500 [06:52<01:30,  1.01s/it]textattack: Saving checkpoint under \"checkpoints\\1720203609378.ta.chkpt\" at 2024-07-06 02:20:09 after 410 attacks.\n",
      "[Succeeded / Failed / Skipped / Total] 243 / 43 / 125 / 411:  82%|███████████████▌   | 411/500 [06:52<01:29,  1.00s/it]"
     ]
    },
    {
     "name": "stdout",
     "output_type": "stream",
     "text": [
      "\n",
      "\n",
      "=============================================================================================================================\n",
      "=============================================================================================================================\n",
      "\n"
     ]
    },
    {
     "name": "stderr",
     "output_type": "stream",
     "text": [
      "[Succeeded / Failed / Skipped / Total] 244 / 44 / 127 / 415:  83%|███████████████▊   | 415/500 [06:55<01:25,  1.00s/it]textattack: Saving checkpoint under \"checkpoints\\1720203612296.ta.chkpt\" at 2024-07-06 02:20:12 after 415 attacks.\n"
     ]
    },
    {
     "name": "stdout",
     "output_type": "stream",
     "text": [
      "\n",
      "\n",
      "=============================================================================================================================\n",
      "=============================================================================================================================\n",
      "\n"
     ]
    },
    {
     "name": "stderr",
     "output_type": "stream",
     "text": [
      "[Succeeded / Failed / Skipped / Total] 247 / 44 / 129 / 420:  84%|███████████████▉   | 420/500 [07:03<01:20,  1.01s/it]textattack: Saving checkpoint under \"checkpoints\\1720203620000.ta.chkpt\" at 2024-07-06 02:20:20 after 420 attacks.\n"
     ]
    },
    {
     "name": "stdout",
     "output_type": "stream",
     "text": [
      "\n",
      "\n",
      "=============================================================================================================================\n",
      "=============================================================================================================================\n",
      "\n"
     ]
    },
    {
     "name": "stderr",
     "output_type": "stream",
     "text": [
      "[Succeeded / Failed / Skipped / Total] 252 / 44 / 129 / 425:  85%|████████████████▏  | 425/500 [07:08<01:15,  1.01s/it]textattack: Saving checkpoint under \"checkpoints\\1720203625282.ta.chkpt\" at 2024-07-06 02:20:25 after 425 attacks.\n",
      "[Succeeded / Failed / Skipped / Total] 252 / 44 / 130 / 426:  85%|████████████████▏  | 426/500 [07:08<01:14,  1.01s/it]"
     ]
    },
    {
     "name": "stdout",
     "output_type": "stream",
     "text": [
      "\n",
      "\n",
      "=============================================================================================================================\n",
      "=============================================================================================================================\n",
      "\n"
     ]
    },
    {
     "name": "stderr",
     "output_type": "stream",
     "text": [
      "[Succeeded / Failed / Skipped / Total] 255 / 44 / 131 / 430:  86%|████████████████▎  | 430/500 [07:10<01:10,  1.00s/it]textattack: Saving checkpoint under \"checkpoints\\1720203627766.ta.chkpt\" at 2024-07-06 02:20:27 after 430 attacks.\n",
      "[Succeeded / Failed / Skipped / Total] 255 / 44 / 133 / 432:  86%|████████████████▍  | 432/500 [07:10<01:07,  1.00it/s]"
     ]
    },
    {
     "name": "stdout",
     "output_type": "stream",
     "text": [
      "\n",
      "\n",
      "=============================================================================================================================\n",
      "=============================================================================================================================\n",
      "\n"
     ]
    },
    {
     "name": "stderr",
     "output_type": "stream",
     "text": [
      "[Succeeded / Failed / Skipped / Total] 258 / 44 / 133 / 435:  87%|████████████████▌  | 435/500 [07:13<01:04,  1.00it/s]textattack: Saving checkpoint under \"checkpoints\\1720203630344.ta.chkpt\" at 2024-07-06 02:20:30 after 435 attacks.\n"
     ]
    },
    {
     "name": "stdout",
     "output_type": "stream",
     "text": [
      "\n",
      "\n",
      "=============================================================================================================================\n",
      "=============================================================================================================================\n",
      "\n"
     ]
    },
    {
     "name": "stderr",
     "output_type": "stream",
     "text": [
      "[Succeeded / Failed / Skipped / Total] 262 / 45 / 133 / 440:  88%|████████████████▋  | 440/500 [07:22<01:00,  1.01s/it]textattack: Saving checkpoint under \"checkpoints\\1720203639660.ta.chkpt\" at 2024-07-06 02:20:39 after 440 attacks.\n"
     ]
    },
    {
     "name": "stdout",
     "output_type": "stream",
     "text": [
      "\n",
      "\n",
      "=============================================================================================================================\n",
      "=============================================================================================================================\n",
      "\n"
     ]
    },
    {
     "name": "stderr",
     "output_type": "stream",
     "text": [
      "[Succeeded / Failed / Skipped / Total] 266 / 45 / 134 / 445:  89%|████████████████▉  | 445/500 [07:26<00:55,  1.00s/it]textattack: Saving checkpoint under \"checkpoints\\1720203643129.ta.chkpt\" at 2024-07-06 02:20:43 after 445 attacks.\n"
     ]
    },
    {
     "name": "stdout",
     "output_type": "stream",
     "text": [
      "\n",
      "\n",
      "=============================================================================================================================\n",
      "=============================================================================================================================\n",
      "\n"
     ]
    },
    {
     "name": "stderr",
     "output_type": "stream",
     "text": [
      "[Succeeded / Failed / Skipped / Total] 267 / 47 / 136 / 450:  90%|█████████████████  | 450/500 [07:31<00:50,  1.00s/it]textattack: Saving checkpoint under \"checkpoints\\1720203648337.ta.chkpt\" at 2024-07-06 02:20:48 after 450 attacks.\n",
      "[Succeeded / Failed / Skipped / Total] 267 / 47 / 137 / 451:  90%|█████████████████▏ | 451/500 [07:31<00:49,  1.00s/it]"
     ]
    },
    {
     "name": "stdout",
     "output_type": "stream",
     "text": [
      "\n",
      "\n",
      "=============================================================================================================================\n",
      "=============================================================================================================================\n",
      "\n"
     ]
    },
    {
     "name": "stderr",
     "output_type": "stream",
     "text": [
      "[Succeeded / Failed / Skipped / Total] 270 / 47 / 138 / 455:  91%|█████████████████▎ | 455/500 [07:34<00:44,  1.00it/s]textattack: Saving checkpoint under \"checkpoints\\1720203651087.ta.chkpt\" at 2024-07-06 02:20:51 after 455 attacks.\n"
     ]
    },
    {
     "name": "stdout",
     "output_type": "stream",
     "text": [
      "\n",
      "\n",
      "=============================================================================================================================\n",
      "=============================================================================================================================\n",
      "\n"
     ]
    },
    {
     "name": "stderr",
     "output_type": "stream",
     "text": [
      "[Succeeded / Failed / Skipped / Total] 274 / 47 / 139 / 460:  92%|█████████████████▍ | 460/500 [07:40<00:40,  1.00s/it]textattack: Saving checkpoint under \"checkpoints\\1720203657831.ta.chkpt\" at 2024-07-06 02:20:57 after 460 attacks.\n"
     ]
    },
    {
     "name": "stdout",
     "output_type": "stream",
     "text": [
      "\n",
      "\n",
      "=============================================================================================================================\n",
      "=============================================================================================================================\n",
      "\n"
     ]
    },
    {
     "name": "stderr",
     "output_type": "stream",
     "text": [
      "[Succeeded / Failed / Skipped / Total] 278 / 47 / 140 / 465:  93%|█████████████████▋ | 465/500 [07:46<00:35,  1.00s/it]textattack: Saving checkpoint under \"checkpoints\\1720203662941.ta.chkpt\" at 2024-07-06 02:21:02 after 465 attacks.\n"
     ]
    },
    {
     "name": "stdout",
     "output_type": "stream",
     "text": [
      "\n",
      "\n",
      "=============================================================================================================================\n",
      "=============================================================================================================================\n",
      "\n"
     ]
    },
    {
     "name": "stderr",
     "output_type": "stream",
     "text": [
      "[Succeeded / Failed / Skipped / Total] 282 / 47 / 141 / 470:  94%|█████████████████▊ | 470/500 [07:48<00:29,  1.00it/s]textattack: Saving checkpoint under \"checkpoints\\1720203665425.ta.chkpt\" at 2024-07-06 02:21:05 after 470 attacks.\n"
     ]
    },
    {
     "name": "stdout",
     "output_type": "stream",
     "text": [
      "\n",
      "\n",
      "=============================================================================================================================\n",
      "=============================================================================================================================\n",
      "\n"
     ]
    },
    {
     "name": "stderr",
     "output_type": "stream",
     "text": [
      "[Succeeded / Failed / Skipped / Total] 286 / 47 / 142 / 475:  95%|██████████████████ | 475/500 [07:55<00:25,  1.00s/it]textattack: Saving checkpoint under \"checkpoints\\1720203672816.ta.chkpt\" at 2024-07-06 02:21:12 after 475 attacks.\n"
     ]
    },
    {
     "name": "stdout",
     "output_type": "stream",
     "text": [
      "\n",
      "\n",
      "=============================================================================================================================\n",
      "=============================================================================================================================\n",
      "\n"
     ]
    },
    {
     "name": "stderr",
     "output_type": "stream",
     "text": [
      "[Succeeded / Failed / Skipped / Total] 290 / 47 / 143 / 480:  96%|██████████████████▏| 480/500 [08:00<00:20,  1.00s/it]textattack: Saving checkpoint under \"checkpoints\\1720203677098.ta.chkpt\" at 2024-07-06 02:21:17 after 480 attacks.\n"
     ]
    },
    {
     "name": "stdout",
     "output_type": "stream",
     "text": [
      "\n",
      "\n",
      "=============================================================================================================================\n",
      "=============================================================================================================================\n",
      "\n"
     ]
    },
    {
     "name": "stderr",
     "output_type": "stream",
     "text": [
      "[Succeeded / Failed / Skipped / Total] 293 / 48 / 144 / 485:  97%|██████████████████▍| 485/500 [08:13<00:15,  1.02s/it]textattack: Saving checkpoint under \"checkpoints\\1720203690583.ta.chkpt\" at 2024-07-06 02:21:30 after 485 attacks.\n"
     ]
    },
    {
     "name": "stdout",
     "output_type": "stream",
     "text": [
      "\n",
      "\n",
      "=============================================================================================================================\n",
      "=============================================================================================================================\n",
      "\n"
     ]
    },
    {
     "name": "stderr",
     "output_type": "stream",
     "text": [
      "[Succeeded / Failed / Skipped / Total] 297 / 48 / 145 / 490:  98%|██████████████████▌| 490/500 [08:17<00:10,  1.01s/it]textattack: Saving checkpoint under \"checkpoints\\1720203693974.ta.chkpt\" at 2024-07-06 02:21:33 after 490 attacks.\n",
      "[Succeeded / Failed / Skipped / Total] 297 / 48 / 146 / 491:  98%|██████████████████▋| 491/500 [08:17<00:09,  1.01s/it]"
     ]
    },
    {
     "name": "stdout",
     "output_type": "stream",
     "text": [
      "\n",
      "\n",
      "=============================================================================================================================\n",
      "=============================================================================================================================\n",
      "\n"
     ]
    },
    {
     "name": "stderr",
     "output_type": "stream",
     "text": [
      "[Succeeded / Failed / Skipped / Total] 299 / 48 / 148 / 495:  99%|██████████████████▊| 495/500 [08:21<00:05,  1.01s/it]textattack: Saving checkpoint under \"checkpoints\\1720203698756.ta.chkpt\" at 2024-07-06 02:21:38 after 495 attacks.\n"
     ]
    },
    {
     "name": "stdout",
     "output_type": "stream",
     "text": [
      "\n",
      "\n",
      "=============================================================================================================================\n",
      "=============================================================================================================================\n",
      "\n"
     ]
    },
    {
     "name": "stderr",
     "output_type": "stream",
     "text": [
      "[Succeeded / Failed / Skipped / Total] 303 / 48 / 149 / 500: 100%|███████████████████| 500/500 [08:25<00:00,  1.01s/it]textattack: Saving checkpoint under \"checkpoints\\1720203702631.ta.chkpt\" at 2024-07-06 02:21:42 after 500 attacks.\n",
      "[Succeeded / Failed / Skipped / Total] 303 / 48 / 149 / 500: 100%|███████████████████| 500/500 [08:25<00:00,  1.01s/it]"
     ]
    },
    {
     "name": "stdout",
     "output_type": "stream",
     "text": [
      "\n",
      "\n",
      "=============================================================================================================================\n",
      "=============================================================================================================================\n",
      "\n",
      "\n",
      "+-------------------------------+--------+\n",
      "| Attack Results                |        |\n",
      "+-------------------------------+--------+\n",
      "| Number of successful attacks: | 303    |\n",
      "| Number of failed attacks:     | 48     |\n",
      "| Number of skipped attacks:    | 149    |\n",
      "| Original accuracy:            | 70.2%  |\n",
      "| Accuracy under attack:        | 9.6%   |\n",
      "| Attack success rate:          | 86.32% |\n",
      "| Average perturbed word %:     | 14.84% |\n",
      "| Average num. words per input: | 18.4   |\n",
      "| Avg num queries:              | 45.04  |\n",
      "+-------------------------------+--------+\n"
     ]
    },
    {
     "name": "stderr",
     "output_type": "stream",
     "text": [
      "\n"
     ]
    }
   ],
   "source": [
    "runAttack(clip_model_wrapper_rf_mr, n_samples, 'attack_results_new/clipmrattackrf'+suffix, target_ds_mr)"
   ]
  },
  {
   "cell_type": "code",
   "execution_count": 30,
   "id": "e504697f-f05b-42bc-a947-145973d676e3",
   "metadata": {
    "scrolled": true
   },
   "outputs": [
    {
     "name": "stderr",
     "output_type": "stream",
     "text": [
      "textattack: Unknown if model of class <class 'transformers.models.clip.modeling_clip.CLIPTextTransformer'> compatible with goal function <class 'textattack.goal_functions.classification.untargeted_classification.UntargetedClassification'>.\n",
      "textattack: Logging to CSV at path attack_results_new/clipmrattackknnsim07.csv\n"
     ]
    },
    {
     "name": "stdout",
     "output_type": "stream",
     "text": [
      "Attack(\n",
      "  (search_method): GreedyWordSwapWIR(\n",
      "    (wir_method):  delete\n",
      "  )\n",
      "  (goal_function):  UntargetedClassification\n",
      "  (transformation):  WordSwapEmbedding(\n",
      "    (max_candidates):  50\n",
      "    (embedding):  WordEmbedding\n",
      "  )\n",
      "  (constraints): \n",
      "    (0): WordEmbeddingDistance(\n",
      "        (embedding):  WordEmbedding\n",
      "        (min_cos_sim):  0.7\n",
      "        (cased):  False\n",
      "        (include_unknown_words):  True\n",
      "        (compare_against_original):  True\n",
      "      )\n",
      "    (1): PartOfSpeech(\n",
      "        (tagger_type):  nltk\n",
      "        (tagset):  universal\n",
      "        (allow_verb_noun_swap):  True\n",
      "        (compare_against_original):  True\n",
      "      )\n",
      "    (2): UniversalSentenceEncoder(\n",
      "        (metric):  angular\n",
      "        (threshold):  0.840845057\n",
      "        (window_size):  15\n",
      "        (skip_text_shorter_than_window):  True\n",
      "        (compare_against_original):  False\n",
      "      )\n",
      "    (3): RepeatModification\n",
      "    (4): StopwordModification\n",
      "    (5): InputColumnModification(\n",
      "        (matching_column_labels):  ['premise', 'hypothesis']\n",
      "        (columns_to_ignore):  {'premise'}\n",
      "      )\n",
      "  (is_black_box):  True\n",
      ") \n",
      "\n"
     ]
    },
    {
     "name": "stderr",
     "output_type": "stream",
     "text": [
      "[Succeeded / Failed / Skipped / Total] 3 / 2 / 0 / 5:   1%|▎                           | 5/500 [00:14<23:26,  2.84s/it]textattack: Saving checkpoint under \"checkpoints\\1720203716927.ta.chkpt\" at 2024-07-06 02:21:56 after 5 attacks.\n"
     ]
    },
    {
     "name": "stdout",
     "output_type": "stream",
     "text": [
      "\n",
      "\n",
      "=============================================================================================================================\n",
      "=============================================================================================================================\n",
      "\n"
     ]
    },
    {
     "name": "stderr",
     "output_type": "stream",
     "text": [
      "[Succeeded / Failed / Skipped / Total] 5 / 3 / 2 / 10:   2%|▌                         | 10/500 [00:19<15:47,  1.93s/it]textattack: Saving checkpoint under \"checkpoints\\1720203722053.ta.chkpt\" at 2024-07-06 02:22:02 after 10 attacks.\n"
     ]
    },
    {
     "name": "stdout",
     "output_type": "stream",
     "text": [
      "\n",
      "\n",
      "=============================================================================================================================\n",
      "=============================================================================================================================\n",
      "\n"
     ]
    },
    {
     "name": "stderr",
     "output_type": "stream",
     "text": [
      "[Succeeded / Failed / Skipped / Total] 8 / 4 / 3 / 15:   3%|▊                         | 15/500 [00:25<13:58,  1.73s/it]textattack: Saving checkpoint under \"checkpoints\\1720203728662.ta.chkpt\" at 2024-07-06 02:22:08 after 15 attacks.\n"
     ]
    },
    {
     "name": "stdout",
     "output_type": "stream",
     "text": [
      "\n",
      "\n",
      "=============================================================================================================================\n",
      "=============================================================================================================================\n",
      "\n"
     ]
    },
    {
     "name": "stderr",
     "output_type": "stream",
     "text": [
      "[Succeeded / Failed / Skipped / Total] 12 / 4 / 4 / 20:   4%|█                        | 20/500 [00:28<11:18,  1.41s/it]textattack: Saving checkpoint under \"checkpoints\\1720203730991.ta.chkpt\" at 2024-07-06 02:22:10 after 20 attacks.\n"
     ]
    },
    {
     "name": "stdout",
     "output_type": "stream",
     "text": [
      "\n",
      "\n",
      "=============================================================================================================================\n",
      "=============================================================================================================================\n",
      "\n"
     ]
    },
    {
     "name": "stderr",
     "output_type": "stream",
     "text": [
      "[Succeeded / Failed / Skipped / Total] 13 / 5 / 7 / 25:   5%|█▎                       | 25/500 [00:33<10:28,  1.32s/it]textattack: Saving checkpoint under \"checkpoints\\1720203735788.ta.chkpt\" at 2024-07-06 02:22:15 after 25 attacks.\n"
     ]
    },
    {
     "name": "stdout",
     "output_type": "stream",
     "text": [
      "\n",
      "\n",
      "=============================================================================================================================\n",
      "=============================================================================================================================\n",
      "\n"
     ]
    },
    {
     "name": "stderr",
     "output_type": "stream",
     "text": [
      "[Succeeded / Failed / Skipped / Total] 14 / 6 / 10 / 30:   6%|█▍                      | 30/500 [00:38<10:09,  1.30s/it]textattack: Saving checkpoint under \"checkpoints\\1720203741633.ta.chkpt\" at 2024-07-06 02:22:21 after 30 attacks.\n",
      "[Succeeded / Failed / Skipped / Total] 14 / 6 / 11 / 31:   6%|█▍                      | 31/500 [00:38<09:49,  1.26s/it]"
     ]
    },
    {
     "name": "stdout",
     "output_type": "stream",
     "text": [
      "\n",
      "\n",
      "=============================================================================================================================\n",
      "=============================================================================================================================\n",
      "\n"
     ]
    },
    {
     "name": "stderr",
     "output_type": "stream",
     "text": [
      "[Succeeded / Failed / Skipped / Total] 17 / 6 / 12 / 35:   7%|█▋                      | 35/500 [00:43<09:41,  1.25s/it]textattack: Saving checkpoint under \"checkpoints\\1720203746508.ta.chkpt\" at 2024-07-06 02:22:26 after 35 attacks.\n",
      "[Succeeded / Failed / Skipped / Total] 17 / 6 / 13 / 36:   7%|█▋                      | 36/500 [00:43<09:24,  1.22s/it]"
     ]
    },
    {
     "name": "stdout",
     "output_type": "stream",
     "text": [
      "\n",
      "\n",
      "=============================================================================================================================\n",
      "=============================================================================================================================\n",
      "\n"
     ]
    },
    {
     "name": "stderr",
     "output_type": "stream",
     "text": [
      "[Succeeded / Failed / Skipped / Total] 18 / 6 / 16 / 40:   8%|█▉                      | 40/500 [00:45<08:40,  1.13s/it]textattack: Saving checkpoint under \"checkpoints\\1720203748008.ta.chkpt\" at 2024-07-06 02:22:28 after 40 attacks.\n"
     ]
    },
    {
     "name": "stdout",
     "output_type": "stream",
     "text": [
      "\n",
      "\n",
      "=============================================================================================================================\n",
      "=============================================================================================================================\n",
      "\n"
     ]
    },
    {
     "name": "stderr",
     "output_type": "stream",
     "text": [
      "[Succeeded / Failed / Skipped / Total] 21 / 7 / 17 / 45:   9%|██▏                     | 45/500 [00:55<09:24,  1.24s/it]textattack: Saving checkpoint under \"checkpoints\\1720203758604.ta.chkpt\" at 2024-07-06 02:22:38 after 45 attacks.\n"
     ]
    },
    {
     "name": "stdout",
     "output_type": "stream",
     "text": [
      "\n",
      "\n",
      "=============================================================================================================================\n",
      "=============================================================================================================================\n",
      "\n"
     ]
    },
    {
     "name": "stderr",
     "output_type": "stream",
     "text": [
      "[Succeeded / Failed / Skipped / Total] 25 / 7 / 18 / 50:  10%|██▍                     | 50/500 [00:59<08:55,  1.19s/it]textattack: Saving checkpoint under \"checkpoints\\1720203762229.ta.chkpt\" at 2024-07-06 02:22:42 after 50 attacks.\n",
      "[Succeeded / Failed / Skipped / Total] 25 / 7 / 19 / 51:  10%|██▍                     | 51/500 [00:59<08:44,  1.17s/it]"
     ]
    },
    {
     "name": "stdout",
     "output_type": "stream",
     "text": [
      "\n",
      "\n",
      "=============================================================================================================================\n",
      "=============================================================================================================================\n",
      "\n"
     ]
    },
    {
     "name": "stderr",
     "output_type": "stream",
     "text": [
      "[Succeeded / Failed / Skipped / Total] 27 / 8 / 20 / 55:  11%|██▋                     | 55/500 [01:05<08:52,  1.20s/it]textattack: Saving checkpoint under \"checkpoints\\1720203768576.ta.chkpt\" at 2024-07-06 02:22:48 after 55 attacks.\n"
     ]
    },
    {
     "name": "stdout",
     "output_type": "stream",
     "text": [
      "\n",
      "\n",
      "=============================================================================================================================\n",
      "=============================================================================================================================\n",
      "\n"
     ]
    },
    {
     "name": "stderr",
     "output_type": "stream",
     "text": [
      "[Succeeded / Failed / Skipped / Total] 31 / 9 / 20 / 60:  12%|██▉                     | 60/500 [01:12<08:48,  1.20s/it]textattack: Saving checkpoint under \"checkpoints\\1720203774780.ta.chkpt\" at 2024-07-06 02:22:54 after 60 attacks.\n",
      "[Succeeded / Failed / Skipped / Total] 31 / 9 / 21 / 61:  12%|██▉                     | 61/500 [01:12<08:39,  1.18s/it]"
     ]
    },
    {
     "name": "stdout",
     "output_type": "stream",
     "text": [
      "\n",
      "\n",
      "=============================================================================================================================\n",
      "=============================================================================================================================\n",
      "\n"
     ]
    },
    {
     "name": "stderr",
     "output_type": "stream",
     "text": [
      "[Succeeded / Failed / Skipped / Total] 35 / 9 / 21 / 65:  13%|███                     | 65/500 [01:14<08:16,  1.14s/it]textattack: Saving checkpoint under \"checkpoints\\1720203776936.ta.chkpt\" at 2024-07-06 02:22:56 after 65 attacks.\n"
     ]
    },
    {
     "name": "stdout",
     "output_type": "stream",
     "text": [
      "\n",
      "\n",
      "=============================================================================================================================\n",
      "=============================================================================================================================\n",
      "\n"
     ]
    },
    {
     "name": "stderr",
     "output_type": "stream",
     "text": [
      "[Succeeded / Failed / Skipped / Total] 39 / 10 / 21 / 70:  14%|███▏                   | 70/500 [01:22<08:26,  1.18s/it]textattack: Saving checkpoint under \"checkpoints\\1720203785124.ta.chkpt\" at 2024-07-06 02:23:05 after 70 attacks.\n",
      "[Succeeded / Failed / Skipped / Total] 39 / 10 / 22 / 71:  14%|███▎                   | 71/500 [01:22<08:18,  1.16s/it]"
     ]
    },
    {
     "name": "stdout",
     "output_type": "stream",
     "text": [
      "\n",
      "\n",
      "=============================================================================================================================\n",
      "=============================================================================================================================\n",
      "\n"
     ]
    },
    {
     "name": "stderr",
     "output_type": "stream",
     "text": [
      "[Succeeded / Failed / Skipped / Total] 42 / 10 / 23 / 75:  15%|███▍                   | 75/500 [01:25<08:05,  1.14s/it]textattack: Saving checkpoint under \"checkpoints\\1720203788390.ta.chkpt\" at 2024-07-06 02:23:08 after 75 attacks.\n",
      "[Succeeded / Failed / Skipped / Total] 42 / 10 / 24 / 76:  15%|███▍                   | 76/500 [01:25<07:58,  1.13s/it]"
     ]
    },
    {
     "name": "stdout",
     "output_type": "stream",
     "text": [
      "\n",
      "\n",
      "=============================================================================================================================\n",
      "=============================================================================================================================\n",
      "\n"
     ]
    },
    {
     "name": "stderr",
     "output_type": "stream",
     "text": [
      "[Succeeded / Failed / Skipped / Total] 45 / 11 / 24 / 80:  16%|███▋                   | 80/500 [01:31<07:59,  1.14s/it]textattack: Saving checkpoint under \"checkpoints\\1720203794109.ta.chkpt\" at 2024-07-06 02:23:14 after 80 attacks.\n",
      "[Succeeded / Failed / Skipped / Total] 45 / 11 / 26 / 82:  16%|███▊                   | 82/500 [01:31<07:46,  1.12s/it]"
     ]
    },
    {
     "name": "stdout",
     "output_type": "stream",
     "text": [
      "\n",
      "\n",
      "=============================================================================================================================\n",
      "=============================================================================================================================\n",
      "\n"
     ]
    },
    {
     "name": "stderr",
     "output_type": "stream",
     "text": [
      "[Succeeded / Failed / Skipped / Total] 47 / 11 / 27 / 85:  17%|███▉                   | 85/500 [01:32<07:32,  1.09s/it]textattack: Saving checkpoint under \"checkpoints\\1720203795500.ta.chkpt\" at 2024-07-06 02:23:15 after 85 attacks.\n",
      "[Succeeded / Failed / Skipped / Total] 47 / 11 / 28 / 86:  17%|███▉                   | 86/500 [01:32<07:26,  1.08s/it]"
     ]
    },
    {
     "name": "stdout",
     "output_type": "stream",
     "text": [
      "\n",
      "\n",
      "=============================================================================================================================\n",
      "=============================================================================================================================\n",
      "\n"
     ]
    },
    {
     "name": "stderr",
     "output_type": "stream",
     "text": [
      "[Succeeded / Failed / Skipped / Total] 49 / 11 / 30 / 90:  18%|████▏                  | 90/500 [01:34<07:08,  1.05s/it]textattack: Saving checkpoint under \"checkpoints\\1720203796854.ta.chkpt\" at 2024-07-06 02:23:16 after 90 attacks.\n",
      "[Succeeded / Failed / Skipped / Total] 49 / 11 / 31 / 91:  18%|████▏                  | 91/500 [01:34<07:03,  1.04s/it]"
     ]
    },
    {
     "name": "stdout",
     "output_type": "stream",
     "text": [
      "\n",
      "\n",
      "=============================================================================================================================\n",
      "=============================================================================================================================\n",
      "\n"
     ]
    },
    {
     "name": "stderr",
     "output_type": "stream",
     "text": [
      "[Succeeded / Failed / Skipped / Total] 53 / 11 / 31 / 95:  19%|████▎                  | 95/500 [01:38<06:59,  1.04s/it]textattack: Saving checkpoint under \"checkpoints\\1720203801126.ta.chkpt\" at 2024-07-06 02:23:21 after 95 attacks.\n"
     ]
    },
    {
     "name": "stdout",
     "output_type": "stream",
     "text": [
      "\n",
      "\n",
      "=============================================================================================================================\n",
      "=============================================================================================================================\n",
      "\n"
     ]
    },
    {
     "name": "stderr",
     "output_type": "stream",
     "text": [
      "[Succeeded / Failed / Skipped / Total] 58 / 11 / 31 / 100:  20%|████▏                | 100/500 [01:41<06:45,  1.01s/it]textattack: Saving checkpoint under \"checkpoints\\1720203804017.ta.chkpt\" at 2024-07-06 02:23:24 after 100 attacks.\n"
     ]
    },
    {
     "name": "stdout",
     "output_type": "stream",
     "text": [
      "\n",
      "\n",
      "=============================================================================================================================\n",
      "=============================================================================================================================\n",
      "\n"
     ]
    },
    {
     "name": "stderr",
     "output_type": "stream",
     "text": [
      "[Succeeded / Failed / Skipped / Total] 61 / 12 / 32 / 105:  21%|████▍                | 105/500 [01:48<06:47,  1.03s/it]textattack: Saving checkpoint under \"checkpoints\\1720203811096.ta.chkpt\" at 2024-07-06 02:23:31 after 105 attacks.\n",
      "[Succeeded / Failed / Skipped / Total] 61 / 12 / 33 / 106:  21%|████▍                | 106/500 [01:48<06:43,  1.02s/it]"
     ]
    },
    {
     "name": "stdout",
     "output_type": "stream",
     "text": [
      "\n",
      "\n",
      "=============================================================================================================================\n",
      "=============================================================================================================================\n",
      "\n"
     ]
    },
    {
     "name": "stderr",
     "output_type": "stream",
     "text": [
      "[Succeeded / Failed / Skipped / Total] 62 / 12 / 36 / 110:  22%|████▌                | 110/500 [01:51<06:34,  1.01s/it]textattack: Saving checkpoint under \"checkpoints\\1720203813977.ta.chkpt\" at 2024-07-06 02:23:33 after 110 attacks.\n",
      "[Succeeded / Failed / Skipped / Total] 62 / 12 / 37 / 111:  22%|████▋                | 111/500 [01:51<06:30,  1.00s/it]"
     ]
    },
    {
     "name": "stdout",
     "output_type": "stream",
     "text": [
      "\n",
      "\n",
      "=============================================================================================================================\n",
      "=============================================================================================================================\n",
      "\n"
     ]
    },
    {
     "name": "stderr",
     "output_type": "stream",
     "text": [
      "[Succeeded / Failed / Skipped / Total] 65 / 12 / 38 / 115:  23%|████▊                | 115/500 [01:55<06:25,  1.00s/it]textattack: Saving checkpoint under \"checkpoints\\1720203817993.ta.chkpt\" at 2024-07-06 02:23:37 after 115 attacks.\n"
     ]
    },
    {
     "name": "stdout",
     "output_type": "stream",
     "text": [
      "\n",
      "\n",
      "=============================================================================================================================\n",
      "=============================================================================================================================\n",
      "\n"
     ]
    },
    {
     "name": "stderr",
     "output_type": "stream",
     "text": [
      "[Succeeded / Failed / Skipped / Total] 67 / 13 / 40 / 120:  24%|█████                | 120/500 [01:58<06:13,  1.02it/s]textattack: Saving checkpoint under \"checkpoints\\1720203820727.ta.chkpt\" at 2024-07-06 02:23:40 after 120 attacks.\n",
      "[Succeeded / Failed / Skipped / Total] 67 / 13 / 41 / 121:  24%|█████                | 121/500 [01:58<06:10,  1.02it/s]"
     ]
    },
    {
     "name": "stdout",
     "output_type": "stream",
     "text": [
      "\n",
      "\n",
      "=============================================================================================================================\n",
      "=============================================================================================================================\n",
      "\n"
     ]
    },
    {
     "name": "stderr",
     "output_type": "stream",
     "text": [
      "[Succeeded / Failed / Skipped / Total] 69 / 13 / 43 / 125:  25%|█████▎               | 125/500 [01:59<05:58,  1.05it/s]textattack: Saving checkpoint under \"checkpoints\\1720203822212.ta.chkpt\" at 2024-07-06 02:23:42 after 125 attacks.\n"
     ]
    },
    {
     "name": "stdout",
     "output_type": "stream",
     "text": [
      "\n",
      "\n",
      "=============================================================================================================================\n",
      "=============================================================================================================================\n",
      "\n"
     ]
    },
    {
     "name": "stderr",
     "output_type": "stream",
     "text": [
      "[Succeeded / Failed / Skipped / Total] 72 / 14 / 44 / 130:  26%|█████▍               | 130/500 [02:03<05:51,  1.05it/s]textattack: Saving checkpoint under \"checkpoints\\1720203826196.ta.chkpt\" at 2024-07-06 02:23:46 after 130 attacks.\n",
      "[Succeeded / Failed / Skipped / Total] 72 / 14 / 45 / 131:  26%|█████▌               | 131/500 [02:03<05:47,  1.06it/s]"
     ]
    },
    {
     "name": "stdout",
     "output_type": "stream",
     "text": [
      "\n",
      "\n",
      "=============================================================================================================================\n",
      "=============================================================================================================================\n",
      "\n"
     ]
    },
    {
     "name": "stderr",
     "output_type": "stream",
     "text": [
      "[Succeeded / Failed / Skipped / Total] 75 / 14 / 46 / 135:  27%|█████▋               | 135/500 [02:06<05:42,  1.07it/s]textattack: Saving checkpoint under \"checkpoints\\1720203829247.ta.chkpt\" at 2024-07-06 02:23:49 after 135 attacks.\n"
     ]
    },
    {
     "name": "stdout",
     "output_type": "stream",
     "text": [
      "\n",
      "\n",
      "=============================================================================================================================\n",
      "=============================================================================================================================\n",
      "\n"
     ]
    },
    {
     "name": "stderr",
     "output_type": "stream",
     "text": [
      "[Succeeded / Failed / Skipped / Total] 77 / 14 / 49 / 140:  28%|█████▉               | 140/500 [02:08<05:30,  1.09it/s]textattack: Saving checkpoint under \"checkpoints\\1720203831279.ta.chkpt\" at 2024-07-06 02:23:51 after 140 attacks.\n",
      "[Succeeded / Failed / Skipped / Total] 77 / 14 / 51 / 142:  28%|█████▉               | 142/500 [02:08<05:24,  1.10it/s]"
     ]
    },
    {
     "name": "stdout",
     "output_type": "stream",
     "text": [
      "\n",
      "\n",
      "=============================================================================================================================\n",
      "=============================================================================================================================\n",
      "\n"
     ]
    },
    {
     "name": "stderr",
     "output_type": "stream",
     "text": [
      "[Succeeded / Failed / Skipped / Total] 78 / 14 / 53 / 145:  29%|██████               | 145/500 [02:09<05:16,  1.12it/s]textattack: Saving checkpoint under \"checkpoints\\1720203831935.ta.chkpt\" at 2024-07-06 02:23:51 after 145 attacks.\n",
      "[Succeeded / Failed / Skipped / Total] 78 / 14 / 54 / 146:  29%|██████▏              | 146/500 [02:09<05:13,  1.13it/s]"
     ]
    },
    {
     "name": "stdout",
     "output_type": "stream",
     "text": [
      "\n",
      "\n",
      "=============================================================================================================================\n",
      "=============================================================================================================================\n",
      "\n"
     ]
    },
    {
     "name": "stderr",
     "output_type": "stream",
     "text": [
      "[Succeeded / Failed / Skipped / Total] 81 / 14 / 55 / 150:  30%|██████▎              | 150/500 [02:12<05:08,  1.14it/s]textattack: Saving checkpoint under \"checkpoints\\1720203834839.ta.chkpt\" at 2024-07-06 02:23:54 after 150 attacks.\n"
     ]
    },
    {
     "name": "stdout",
     "output_type": "stream",
     "text": [
      "\n",
      "\n",
      "=============================================================================================================================\n",
      "=============================================================================================================================\n",
      "\n"
     ]
    },
    {
     "name": "stderr",
     "output_type": "stream",
     "text": [
      "[Succeeded / Failed / Skipped / Total] 85 / 15 / 55 / 155:  31%|██████▌              | 155/500 [02:15<05:00,  1.15it/s]textattack: Saving checkpoint under \"checkpoints\\1720203837933.ta.chkpt\" at 2024-07-06 02:23:57 after 155 attacks.\n"
     ]
    },
    {
     "name": "stdout",
     "output_type": "stream",
     "text": [
      "\n",
      "\n",
      "=============================================================================================================================\n",
      "=============================================================================================================================\n",
      "\n"
     ]
    },
    {
     "name": "stderr",
     "output_type": "stream",
     "text": [
      "[Succeeded / Failed / Skipped / Total] 86 / 16 / 58 / 160:  32%|██████▋              | 160/500 [02:24<05:06,  1.11it/s]textattack: Saving checkpoint under \"checkpoints\\1720203846761.ta.chkpt\" at 2024-07-06 02:24:06 after 160 attacks.\n",
      "[Succeeded / Failed / Skipped / Total] 86 / 16 / 59 / 161:  32%|██████▊              | 161/500 [02:24<05:03,  1.12it/s]"
     ]
    },
    {
     "name": "stdout",
     "output_type": "stream",
     "text": [
      "\n",
      "\n",
      "=============================================================================================================================\n",
      "=============================================================================================================================\n",
      "\n"
     ]
    },
    {
     "name": "stderr",
     "output_type": "stream",
     "text": [
      "[Succeeded / Failed / Skipped / Total] 89 / 16 / 60 / 165:  33%|██████▉              | 165/500 [02:27<05:00,  1.12it/s]textattack: Saving checkpoint under \"checkpoints\\1720203850664.ta.chkpt\" at 2024-07-06 02:24:10 after 165 attacks.\n"
     ]
    },
    {
     "name": "stdout",
     "output_type": "stream",
     "text": [
      "\n",
      "\n",
      "=============================================================================================================================\n",
      "=============================================================================================================================\n",
      "\n"
     ]
    },
    {
     "name": "stderr",
     "output_type": "stream",
     "text": [
      "[Succeeded / Failed / Skipped / Total] 90 / 18 / 62 / 170:  34%|███████▏             | 170/500 [02:36<05:04,  1.08it/s]textattack: Saving checkpoint under \"checkpoints\\1720203859512.ta.chkpt\" at 2024-07-06 02:24:19 after 170 attacks.\n"
     ]
    },
    {
     "name": "stdout",
     "output_type": "stream",
     "text": [
      "\n",
      "\n",
      "=============================================================================================================================\n",
      "=============================================================================================================================\n",
      "\n"
     ]
    },
    {
     "name": "stderr",
     "output_type": "stream",
     "text": [
      "[Succeeded / Failed / Skipped / Total] 92 / 20 / 63 / 175:  35%|███████▎             | 175/500 [02:48<05:12,  1.04it/s]textattack: Saving checkpoint under \"checkpoints\\1720203871076.ta.chkpt\" at 2024-07-06 02:24:31 after 175 attacks.\n",
      "[Succeeded / Failed / Skipped / Total] 92 / 20 / 64 / 176:  35%|███████▍             | 176/500 [02:48<05:10,  1.04it/s]"
     ]
    },
    {
     "name": "stdout",
     "output_type": "stream",
     "text": [
      "\n",
      "\n",
      "=============================================================================================================================\n",
      "=============================================================================================================================\n",
      "\n"
     ]
    },
    {
     "name": "stderr",
     "output_type": "stream",
     "text": [
      "[Succeeded / Failed / Skipped / Total] 93 / 22 / 65 / 180:  36%|███████▌             | 180/500 [02:54<05:10,  1.03it/s]textattack: Saving checkpoint under \"checkpoints\\1720203877468.ta.chkpt\" at 2024-07-06 02:24:37 after 180 attacks.\n"
     ]
    },
    {
     "name": "stdout",
     "output_type": "stream",
     "text": [
      "\n",
      "\n",
      "=============================================================================================================================\n",
      "=============================================================================================================================\n",
      "\n"
     ]
    },
    {
     "name": "stderr",
     "output_type": "stream",
     "text": [
      "[Succeeded / Failed / Skipped / Total] 97 / 23 / 65 / 185:  37%|███████▊             | 185/500 [02:59<05:05,  1.03it/s]textattack: Saving checkpoint under \"checkpoints\\1720203882046.ta.chkpt\" at 2024-07-06 02:24:42 after 185 attacks.\n",
      "[Succeeded / Failed / Skipped / Total] 97 / 23 / 66 / 186:  37%|███████▊             | 186/500 [02:59<05:02,  1.04it/s]"
     ]
    },
    {
     "name": "stdout",
     "output_type": "stream",
     "text": [
      "\n",
      "\n",
      "=============================================================================================================================\n",
      "=============================================================================================================================\n",
      "\n"
     ]
    },
    {
     "name": "stderr",
     "output_type": "stream",
     "text": [
      "[Succeeded / Failed / Skipped / Total] 100 / 23 / 67 / 190:  38%|███████▌            | 190/500 [03:03<04:58,  1.04it/s]textattack: Saving checkpoint under \"checkpoints\\1720203885968.ta.chkpt\" at 2024-07-06 02:24:45 after 190 attacks.\n"
     ]
    },
    {
     "name": "stdout",
     "output_type": "stream",
     "text": [
      "\n",
      "\n",
      "=============================================================================================================================\n",
      "=============================================================================================================================\n",
      "\n"
     ]
    },
    {
     "name": "stderr",
     "output_type": "stream",
     "text": [
      "[Succeeded / Failed / Skipped / Total] 102 / 24 / 69 / 195:  39%|███████▊            | 195/500 [03:07<04:53,  1.04it/s]textattack: Saving checkpoint under \"checkpoints\\1720203890095.ta.chkpt\" at 2024-07-06 02:24:50 after 195 attacks.\n"
     ]
    },
    {
     "name": "stdout",
     "output_type": "stream",
     "text": [
      "\n",
      "\n",
      "=============================================================================================================================\n",
      "=============================================================================================================================\n",
      "\n"
     ]
    },
    {
     "name": "stderr",
     "output_type": "stream",
     "text": [
      "[Succeeded / Failed / Skipped / Total] 105 / 25 / 70 / 200:  40%|████████            | 200/500 [03:18<04:58,  1.01it/s]textattack: Saving checkpoint under \"checkpoints\\1720203901627.ta.chkpt\" at 2024-07-06 02:25:01 after 200 attacks.\n",
      "[Succeeded / Failed / Skipped / Total] 105 / 25 / 71 / 201:  40%|████████            | 201/500 [03:18<04:55,  1.01it/s]"
     ]
    },
    {
     "name": "stdout",
     "output_type": "stream",
     "text": [
      "\n",
      "\n",
      "=============================================================================================================================\n",
      "=============================================================================================================================\n",
      "\n"
     ]
    },
    {
     "name": "stderr",
     "output_type": "stream",
     "text": [
      "[Succeeded / Failed / Skipped / Total] 106 / 26 / 73 / 205:  41%|████████▏           | 205/500 [03:21<04:49,  1.02it/s]textattack: Saving checkpoint under \"checkpoints\\1720203903924.ta.chkpt\" at 2024-07-06 02:25:03 after 205 attacks.\n"
     ]
    },
    {
     "name": "stdout",
     "output_type": "stream",
     "text": [
      "\n",
      "\n",
      "=============================================================================================================================\n",
      "=============================================================================================================================\n",
      "\n"
     ]
    },
    {
     "name": "stderr",
     "output_type": "stream",
     "text": [
      "[Succeeded / Failed / Skipped / Total] 110 / 26 / 74 / 210:  42%|████████▍           | 210/500 [03:24<04:41,  1.03it/s]textattack: Saving checkpoint under \"checkpoints\\1720203906752.ta.chkpt\" at 2024-07-06 02:25:06 after 210 attacks.\n"
     ]
    },
    {
     "name": "stdout",
     "output_type": "stream",
     "text": [
      "\n",
      "\n",
      "=============================================================================================================================\n",
      "=============================================================================================================================\n",
      "\n"
     ]
    },
    {
     "name": "stderr",
     "output_type": "stream",
     "text": [
      "[Succeeded / Failed / Skipped / Total] 114 / 26 / 75 / 215:  43%|████████▌           | 215/500 [03:29<04:37,  1.03it/s]textattack: Saving checkpoint under \"checkpoints\\1720203911940.ta.chkpt\" at 2024-07-06 02:25:11 after 215 attacks.\n"
     ]
    },
    {
     "name": "stdout",
     "output_type": "stream",
     "text": [
      "\n",
      "\n",
      "=============================================================================================================================\n",
      "=============================================================================================================================\n",
      "\n"
     ]
    },
    {
     "name": "stderr",
     "output_type": "stream",
     "text": [
      "[Succeeded / Failed / Skipped / Total] 118 / 26 / 76 / 220:  44%|████████▊           | 220/500 [03:34<04:32,  1.03it/s]textattack: Saving checkpoint under \"checkpoints\\1720203917050.ta.chkpt\" at 2024-07-06 02:25:17 after 220 attacks.\n"
     ]
    },
    {
     "name": "stdout",
     "output_type": "stream",
     "text": [
      "\n",
      "\n",
      "=============================================================================================================================\n",
      "=============================================================================================================================\n",
      "\n"
     ]
    },
    {
     "name": "stderr",
     "output_type": "stream",
     "text": [
      "[Succeeded / Failed / Skipped / Total] 121 / 27 / 77 / 225:  45%|█████████           | 225/500 [03:45<04:35,  1.00s/it]textattack: Saving checkpoint under \"checkpoints\\1720203928536.ta.chkpt\" at 2024-07-06 02:25:28 after 225 attacks.\n"
     ]
    },
    {
     "name": "stdout",
     "output_type": "stream",
     "text": [
      "\n",
      "\n",
      "=============================================================================================================================\n",
      "=============================================================================================================================\n",
      "\n"
     ]
    },
    {
     "name": "stderr",
     "output_type": "stream",
     "text": [
      "[Succeeded / Failed / Skipped / Total] 124 / 27 / 79 / 230:  46%|█████████▏          | 230/500 [03:47<04:27,  1.01it/s]textattack: Saving checkpoint under \"checkpoints\\1720203930208.ta.chkpt\" at 2024-07-06 02:25:30 after 230 attacks.\n"
     ]
    },
    {
     "name": "stdout",
     "output_type": "stream",
     "text": [
      "\n",
      "\n",
      "=============================================================================================================================\n",
      "=============================================================================================================================\n",
      "\n"
     ]
    },
    {
     "name": "stderr",
     "output_type": "stream",
     "text": [
      "[Succeeded / Failed / Skipped / Total] 128 / 27 / 80 / 235:  47%|█████████▍          | 235/500 [03:51<04:20,  1.02it/s]textattack: Saving checkpoint under \"checkpoints\\1720203934053.ta.chkpt\" at 2024-07-06 02:25:34 after 235 attacks.\n"
     ]
    },
    {
     "name": "stdout",
     "output_type": "stream",
     "text": [
      "\n",
      "\n",
      "=============================================================================================================================\n",
      "=============================================================================================================================\n",
      "\n"
     ]
    },
    {
     "name": "stderr",
     "output_type": "stream",
     "text": [
      "[Succeeded / Failed / Skipped / Total] 132 / 28 / 80 / 240:  48%|█████████▌          | 240/500 [03:56<04:15,  1.02it/s]textattack: Saving checkpoint under \"checkpoints\\1720203938741.ta.chkpt\" at 2024-07-06 02:25:38 after 240 attacks.\n",
      "[Succeeded / Failed / Skipped / Total] 132 / 28 / 81 / 241:  48%|█████████▋          | 241/500 [03:56<04:13,  1.02it/s]"
     ]
    },
    {
     "name": "stdout",
     "output_type": "stream",
     "text": [
      "\n",
      "\n",
      "=============================================================================================================================\n",
      "=============================================================================================================================\n",
      "\n"
     ]
    },
    {
     "name": "stderr",
     "output_type": "stream",
     "text": [
      "[Succeeded / Failed / Skipped / Total] 135 / 28 / 82 / 245:  49%|█████████▊          | 245/500 [03:58<04:07,  1.03it/s]textattack: Saving checkpoint under \"checkpoints\\1720203940897.ta.chkpt\" at 2024-07-06 02:25:40 after 245 attacks.\n"
     ]
    },
    {
     "name": "stdout",
     "output_type": "stream",
     "text": [
      "\n",
      "\n",
      "=============================================================================================================================\n",
      "=============================================================================================================================\n",
      "\n"
     ]
    },
    {
     "name": "stderr",
     "output_type": "stream",
     "text": [
      "[Succeeded / Failed / Skipped / Total] 136 / 29 / 85 / 250:  50%|██████████          | 250/500 [04:00<04:00,  1.04it/s]textattack: Saving checkpoint under \"checkpoints\\1720203943272.ta.chkpt\" at 2024-07-06 02:25:43 after 250 attacks.\n",
      "[Succeeded / Failed / Skipped / Total] 136 / 29 / 86 / 251:  50%|██████████          | 251/500 [04:00<03:58,  1.04it/s]"
     ]
    },
    {
     "name": "stdout",
     "output_type": "stream",
     "text": [
      "\n",
      "\n",
      "=============================================================================================================================\n",
      "=============================================================================================================================\n",
      "\n"
     ]
    },
    {
     "name": "stderr",
     "output_type": "stream",
     "text": [
      "[Succeeded / Failed / Skipped / Total] 139 / 29 / 87 / 255:  51%|██████████▏         | 255/500 [04:03<03:54,  1.05it/s]textattack: Saving checkpoint under \"checkpoints\\1720203946522.ta.chkpt\" at 2024-07-06 02:25:46 after 255 attacks.\n",
      "[Succeeded / Failed / Skipped / Total] 139 / 29 / 88 / 256:  51%|██████████▏         | 256/500 [04:03<03:52,  1.05it/s]"
     ]
    },
    {
     "name": "stdout",
     "output_type": "stream",
     "text": [
      "\n",
      "\n",
      "=============================================================================================================================\n",
      "=============================================================================================================================\n",
      "\n"
     ]
    },
    {
     "name": "stderr",
     "output_type": "stream",
     "text": [
      "[Succeeded / Failed / Skipped / Total] 143 / 29 / 88 / 260:  52%|██████████▍         | 260/500 [04:06<03:47,  1.05it/s]textattack: Saving checkpoint under \"checkpoints\\1720203949597.ta.chkpt\" at 2024-07-06 02:25:49 after 260 attacks.\n"
     ]
    },
    {
     "name": "stdout",
     "output_type": "stream",
     "text": [
      "\n",
      "\n",
      "=============================================================================================================================\n",
      "=============================================================================================================================\n",
      "\n"
     ]
    },
    {
     "name": "stderr",
     "output_type": "stream",
     "text": [
      "[Succeeded / Failed / Skipped / Total] 148 / 29 / 88 / 265:  53%|██████████▌         | 265/500 [04:11<03:42,  1.05it/s]textattack: Saving checkpoint under \"checkpoints\\1720203953955.ta.chkpt\" at 2024-07-06 02:25:53 after 265 attacks.\n"
     ]
    },
    {
     "name": "stdout",
     "output_type": "stream",
     "text": [
      "\n",
      "\n",
      "=============================================================================================================================\n",
      "=============================================================================================================================\n",
      "\n"
     ]
    },
    {
     "name": "stderr",
     "output_type": "stream",
     "text": [
      "[Succeeded / Failed / Skipped / Total] 151 / 29 / 90 / 270:  54%|██████████▊         | 270/500 [04:20<03:42,  1.04it/s]textattack: Saving checkpoint under \"checkpoints\\1720203963393.ta.chkpt\" at 2024-07-06 02:26:03 after 270 attacks.\n",
      "[Succeeded / Failed / Skipped / Total] 151 / 29 / 91 / 271:  54%|██████████▊         | 271/500 [04:20<03:40,  1.04it/s]"
     ]
    },
    {
     "name": "stdout",
     "output_type": "stream",
     "text": [
      "\n",
      "\n",
      "=============================================================================================================================\n",
      "=============================================================================================================================\n",
      "\n"
     ]
    },
    {
     "name": "stderr",
     "output_type": "stream",
     "text": [
      "[Succeeded / Failed / Skipped / Total] 155 / 29 / 91 / 275:  55%|███████████         | 275/500 [04:24<03:36,  1.04it/s]textattack: Saving checkpoint under \"checkpoints\\1720203966737.ta.chkpt\" at 2024-07-06 02:26:06 after 275 attacks.\n"
     ]
    },
    {
     "name": "stdout",
     "output_type": "stream",
     "text": [
      "\n",
      "\n",
      "=============================================================================================================================\n",
      "=============================================================================================================================\n",
      "\n"
     ]
    },
    {
     "name": "stderr",
     "output_type": "stream",
     "text": [
      "[Succeeded / Failed / Skipped / Total] 159 / 29 / 92 / 280:  56%|███████████▏        | 280/500 [04:27<03:30,  1.05it/s]textattack: Saving checkpoint under \"checkpoints\\1720203970343.ta.chkpt\" at 2024-07-06 02:26:10 after 280 attacks.\n"
     ]
    },
    {
     "name": "stdout",
     "output_type": "stream",
     "text": [
      "\n",
      "\n",
      "=============================================================================================================================\n",
      "=============================================================================================================================\n",
      "\n"
     ]
    },
    {
     "name": "stderr",
     "output_type": "stream",
     "text": [
      "[Succeeded / Failed / Skipped / Total] 160 / 30 / 95 / 285:  57%|███████████▍        | 285/500 [04:30<03:23,  1.05it/s]textattack: Saving checkpoint under \"checkpoints\\1720203973140.ta.chkpt\" at 2024-07-06 02:26:13 after 285 attacks.\n"
     ]
    },
    {
     "name": "stdout",
     "output_type": "stream",
     "text": [
      "\n",
      "\n",
      "=============================================================================================================================\n",
      "=============================================================================================================================\n",
      "\n"
     ]
    },
    {
     "name": "stderr",
     "output_type": "stream",
     "text": [
      "[Succeeded / Failed / Skipped / Total] 165 / 30 / 95 / 290:  58%|███████████▌        | 290/500 [04:33<03:17,  1.06it/s]textattack: Saving checkpoint under \"checkpoints\\1720203975784.ta.chkpt\" at 2024-07-06 02:26:15 after 290 attacks.\n",
      "[Succeeded / Failed / Skipped / Total] 165 / 30 / 97 / 292:  58%|███████████▋        | 292/500 [04:33<03:14,  1.07it/s]"
     ]
    },
    {
     "name": "stdout",
     "output_type": "stream",
     "text": [
      "\n",
      "\n",
      "=============================================================================================================================\n",
      "=============================================================================================================================\n",
      "\n"
     ]
    },
    {
     "name": "stderr",
     "output_type": "stream",
     "text": [
      "[Succeeded / Failed / Skipped / Total] 167 / 30 / 98 / 295:  59%|███████████▊        | 295/500 [04:34<03:10,  1.07it/s]textattack: Saving checkpoint under \"checkpoints\\1720203977175.ta.chkpt\" at 2024-07-06 02:26:17 after 295 attacks.\n",
      "[Succeeded / Failed / Skipped / Total] 167 / 30 / 99 / 296:  59%|███████████▊        | 296/500 [04:34<03:09,  1.08it/s]"
     ]
    },
    {
     "name": "stdout",
     "output_type": "stream",
     "text": [
      "\n",
      "\n",
      "=============================================================================================================================\n",
      "=============================================================================================================================\n",
      "\n"
     ]
    },
    {
     "name": "stderr",
     "output_type": "stream",
     "text": [
      "[Succeeded / Failed / Skipped / Total] 171 / 30 / 99 / 300:  60%|████████████        | 300/500 [04:36<03:04,  1.09it/s]textattack: Saving checkpoint under \"checkpoints\\1720203978878.ta.chkpt\" at 2024-07-06 02:26:18 after 300 attacks.\n"
     ]
    },
    {
     "name": "stdout",
     "output_type": "stream",
     "text": [
      "\n",
      "\n",
      "=============================================================================================================================\n",
      "=============================================================================================================================\n",
      "\n"
     ]
    },
    {
     "name": "stderr",
     "output_type": "stream",
     "text": [
      "[Succeeded / Failed / Skipped / Total] 175 / 30 / 100 / 305:  61%|███████████▌       | 305/500 [04:39<02:58,  1.09it/s]textattack: Saving checkpoint under \"checkpoints\\1720203982332.ta.chkpt\" at 2024-07-06 02:26:22 after 305 attacks.\n"
     ]
    },
    {
     "name": "stdout",
     "output_type": "stream",
     "text": [
      "\n",
      "\n",
      "=============================================================================================================================\n",
      "=============================================================================================================================\n",
      "\n"
     ]
    },
    {
     "name": "stderr",
     "output_type": "stream",
     "text": [
      "[Succeeded / Failed / Skipped / Total] 178 / 32 / 100 / 310:  62%|███████████▊       | 310/500 [04:43<02:53,  1.09it/s]textattack: Saving checkpoint under \"checkpoints\\1720203986441.ta.chkpt\" at 2024-07-06 02:26:26 after 310 attacks.\n"
     ]
    },
    {
     "name": "stdout",
     "output_type": "stream",
     "text": [
      "\n",
      "\n",
      "=============================================================================================================================\n",
      "=============================================================================================================================\n",
      "\n"
     ]
    },
    {
     "name": "stderr",
     "output_type": "stream",
     "text": [
      "[Succeeded / Failed / Skipped / Total] 181 / 33 / 101 / 315:  63%|███████████▉       | 315/500 [04:49<02:49,  1.09it/s]textattack: Saving checkpoint under \"checkpoints\\1720203991926.ta.chkpt\" at 2024-07-06 02:26:31 after 315 attacks.\n"
     ]
    },
    {
     "name": "stdout",
     "output_type": "stream",
     "text": [
      "\n",
      "\n",
      "=============================================================================================================================\n",
      "=============================================================================================================================\n",
      "\n"
     ]
    },
    {
     "name": "stderr",
     "output_type": "stream",
     "text": [
      "[Succeeded / Failed / Skipped / Total] 185 / 34 / 101 / 320:  64%|████████████▏      | 320/500 [04:57<02:47,  1.07it/s]textattack: Saving checkpoint under \"checkpoints\\1720204000429.ta.chkpt\" at 2024-07-06 02:26:40 after 320 attacks.\n"
     ]
    },
    {
     "name": "stdout",
     "output_type": "stream",
     "text": [
      "\n",
      "\n",
      "=============================================================================================================================\n",
      "=============================================================================================================================\n",
      "\n"
     ]
    },
    {
     "name": "stderr",
     "output_type": "stream",
     "text": [
      "[Succeeded / Failed / Skipped / Total] 189 / 34 / 102 / 325:  65%|████████████▎      | 325/500 [05:03<02:43,  1.07it/s]textattack: Saving checkpoint under \"checkpoints\\1720204006070.ta.chkpt\" at 2024-07-06 02:26:46 after 325 attacks.\n",
      "[Succeeded / Failed / Skipped / Total] 189 / 34 / 103 / 326:  65%|████████████▍      | 326/500 [05:03<02:41,  1.07it/s]"
     ]
    },
    {
     "name": "stdout",
     "output_type": "stream",
     "text": [
      "\n",
      "\n",
      "=============================================================================================================================\n",
      "=============================================================================================================================\n",
      "\n"
     ]
    },
    {
     "name": "stderr",
     "output_type": "stream",
     "text": [
      "[Succeeded / Failed / Skipped / Total] 191 / 35 / 104 / 330:  66%|████████████▌      | 330/500 [05:05<02:37,  1.08it/s]textattack: Saving checkpoint under \"checkpoints\\1720204008492.ta.chkpt\" at 2024-07-06 02:26:48 after 330 attacks.\n"
     ]
    },
    {
     "name": "stdout",
     "output_type": "stream",
     "text": [
      "\n",
      "\n",
      "=============================================================================================================================\n",
      "=============================================================================================================================\n",
      "\n"
     ]
    },
    {
     "name": "stderr",
     "output_type": "stream",
     "text": [
      "[Succeeded / Failed / Skipped / Total] 195 / 36 / 104 / 335:  67%|████████████▋      | 335/500 [05:14<02:34,  1.07it/s]textattack: Saving checkpoint under \"checkpoints\\1720204017018.ta.chkpt\" at 2024-07-06 02:26:57 after 335 attacks.\n"
     ]
    },
    {
     "name": "stdout",
     "output_type": "stream",
     "text": [
      "\n",
      "\n",
      "=============================================================================================================================\n",
      "=============================================================================================================================\n",
      "\n"
     ]
    },
    {
     "name": "stderr",
     "output_type": "stream",
     "text": [
      "[Succeeded / Failed / Skipped / Total] 198 / 36 / 106 / 340:  68%|████████████▉      | 340/500 [05:16<02:28,  1.07it/s]textattack: Saving checkpoint under \"checkpoints\\1720204019080.ta.chkpt\" at 2024-07-06 02:26:59 after 340 attacks.\n",
      "[Succeeded / Failed / Skipped / Total] 198 / 36 / 107 / 341:  68%|████████████▉      | 341/500 [05:16<02:27,  1.08it/s]"
     ]
    },
    {
     "name": "stdout",
     "output_type": "stream",
     "text": [
      "\n",
      "\n",
      "=============================================================================================================================\n",
      "=============================================================================================================================\n",
      "\n"
     ]
    },
    {
     "name": "stderr",
     "output_type": "stream",
     "text": [
      "[Succeeded / Failed / Skipped / Total] 201 / 36 / 108 / 345:  69%|█████████████      | 345/500 [05:18<02:23,  1.08it/s]textattack: Saving checkpoint under \"checkpoints\\1720204021502.ta.chkpt\" at 2024-07-06 02:27:01 after 345 attacks.\n"
     ]
    },
    {
     "name": "stdout",
     "output_type": "stream",
     "text": [
      "\n",
      "\n",
      "=============================================================================================================================\n",
      "=============================================================================================================================\n",
      "\n"
     ]
    },
    {
     "name": "stderr",
     "output_type": "stream",
     "text": [
      "[Succeeded / Failed / Skipped / Total] 206 / 36 / 108 / 350:  70%|█████████████▎     | 350/500 [05:22<02:18,  1.08it/s]textattack: Saving checkpoint under \"checkpoints\\1720204025534.ta.chkpt\" at 2024-07-06 02:27:05 after 350 attacks.\n"
     ]
    },
    {
     "name": "stdout",
     "output_type": "stream",
     "text": [
      "\n",
      "\n",
      "=============================================================================================================================\n",
      "=============================================================================================================================\n",
      "\n"
     ]
    },
    {
     "name": "stderr",
     "output_type": "stream",
     "text": [
      "[Succeeded / Failed / Skipped / Total] 211 / 36 / 108 / 355:  71%|█████████████▍     | 355/500 [05:27<02:13,  1.08it/s]textattack: Saving checkpoint under \"checkpoints\\1720204030645.ta.chkpt\" at 2024-07-06 02:27:10 after 355 attacks.\n"
     ]
    },
    {
     "name": "stdout",
     "output_type": "stream",
     "text": [
      "\n",
      "\n",
      "=============================================================================================================================\n",
      "=============================================================================================================================\n",
      "\n"
     ]
    },
    {
     "name": "stderr",
     "output_type": "stream",
     "text": [
      "[Succeeded / Failed / Skipped / Total] 214 / 36 / 110 / 360:  72%|█████████████▋     | 360/500 [05:30<02:08,  1.09it/s]textattack: Saving checkpoint under \"checkpoints\\1720204033333.ta.chkpt\" at 2024-07-06 02:27:13 after 360 attacks.\n",
      "[Succeeded / Failed / Skipped / Total] 214 / 36 / 112 / 362:  72%|█████████████▊     | 362/500 [05:30<02:06,  1.09it/s]"
     ]
    },
    {
     "name": "stdout",
     "output_type": "stream",
     "text": [
      "\n",
      "\n",
      "=============================================================================================================================\n",
      "=============================================================================================================================\n",
      "\n"
     ]
    },
    {
     "name": "stderr",
     "output_type": "stream",
     "text": [
      "[Succeeded / Failed / Skipped / Total] 217 / 36 / 112 / 365:  73%|█████████████▊     | 365/500 [05:32<02:02,  1.10it/s]textattack: Saving checkpoint under \"checkpoints\\1720204034927.ta.chkpt\" at 2024-07-06 02:27:14 after 365 attacks.\n"
     ]
    },
    {
     "name": "stdout",
     "output_type": "stream",
     "text": [
      "\n",
      "\n",
      "=============================================================================================================================\n",
      "=============================================================================================================================\n",
      "\n"
     ]
    },
    {
     "name": "stderr",
     "output_type": "stream",
     "text": [
      "[Succeeded / Failed / Skipped / Total] 219 / 36 / 115 / 370:  74%|██████████████     | 370/500 [05:33<01:57,  1.11it/s]textattack: Saving checkpoint under \"checkpoints\\1720204036255.ta.chkpt\" at 2024-07-06 02:27:16 after 370 attacks.\n",
      "[Succeeded / Failed / Skipped / Total] 219 / 36 / 116 / 371:  74%|██████████████     | 371/500 [05:33<01:56,  1.11it/s]"
     ]
    },
    {
     "name": "stdout",
     "output_type": "stream",
     "text": [
      "\n",
      "\n",
      "=============================================================================================================================\n",
      "=============================================================================================================================\n",
      "\n"
     ]
    },
    {
     "name": "stderr",
     "output_type": "stream",
     "text": [
      "[Succeeded / Failed / Skipped / Total] 222 / 37 / 116 / 375:  75%|██████████████▎    | 375/500 [05:38<01:52,  1.11it/s]textattack: Saving checkpoint under \"checkpoints\\1720204041615.ta.chkpt\" at 2024-07-06 02:27:21 after 375 attacks.\n",
      "[Succeeded / Failed / Skipped / Total] 222 / 37 / 117 / 376:  75%|██████████████▎    | 376/500 [05:38<01:51,  1.11it/s]"
     ]
    },
    {
     "name": "stdout",
     "output_type": "stream",
     "text": [
      "\n",
      "\n",
      "=============================================================================================================================\n",
      "=============================================================================================================================\n",
      "\n"
     ]
    },
    {
     "name": "stderr",
     "output_type": "stream",
     "text": [
      "[Succeeded / Failed / Skipped / Total] 225 / 37 / 118 / 380:  76%|██████████████▍    | 380/500 [05:41<01:47,  1.11it/s]textattack: Saving checkpoint under \"checkpoints\\1720204044022.ta.chkpt\" at 2024-07-06 02:27:24 after 380 attacks.\n"
     ]
    },
    {
     "name": "stdout",
     "output_type": "stream",
     "text": [
      "\n",
      "\n",
      "=============================================================================================================================\n",
      "=============================================================================================================================\n",
      "\n"
     ]
    },
    {
     "name": "stderr",
     "output_type": "stream",
     "text": [
      "[Succeeded / Failed / Skipped / Total] 228 / 37 / 120 / 385:  77%|██████████████▋    | 385/500 [05:44<01:42,  1.12it/s]textattack: Saving checkpoint under \"checkpoints\\1720204046923.ta.chkpt\" at 2024-07-06 02:27:26 after 385 attacks.\n"
     ]
    },
    {
     "name": "stdout",
     "output_type": "stream",
     "text": [
      "\n",
      "\n",
      "=============================================================================================================================\n",
      "=============================================================================================================================\n",
      "\n"
     ]
    },
    {
     "name": "stderr",
     "output_type": "stream",
     "text": [
      "[Succeeded / Failed / Skipped / Total] 229 / 39 / 122 / 390:  78%|██████████████▊    | 390/500 [05:48<01:38,  1.12it/s]textattack: Saving checkpoint under \"checkpoints\\1720204050798.ta.chkpt\" at 2024-07-06 02:27:30 after 390 attacks.\n"
     ]
    },
    {
     "name": "stdout",
     "output_type": "stream",
     "text": [
      "\n",
      "\n",
      "=============================================================================================================================\n",
      "=============================================================================================================================\n",
      "\n"
     ]
    },
    {
     "name": "stderr",
     "output_type": "stream",
     "text": [
      "[Succeeded / Failed / Skipped / Total] 232 / 40 / 123 / 395:  79%|███████████████    | 395/500 [06:00<01:35,  1.10it/s]textattack: Saving checkpoint under \"checkpoints\\1720204063287.ta.chkpt\" at 2024-07-06 02:27:43 after 395 attacks.\n"
     ]
    },
    {
     "name": "stdout",
     "output_type": "stream",
     "text": [
      "\n",
      "\n",
      "=============================================================================================================================\n",
      "=============================================================================================================================\n",
      "\n"
     ]
    },
    {
     "name": "stderr",
     "output_type": "stream",
     "text": [
      "[Succeeded / Failed / Skipped / Total] 235 / 41 / 124 / 400:  80%|███████████████▏   | 400/500 [06:14<01:33,  1.07it/s]textattack: Saving checkpoint under \"checkpoints\\1720204076879.ta.chkpt\" at 2024-07-06 02:27:56 after 400 attacks.\n",
      "[Succeeded / Failed / Skipped / Total] 235 / 41 / 125 / 401:  80%|███████████████▏   | 401/500 [06:14<01:32,  1.07it/s]"
     ]
    },
    {
     "name": "stdout",
     "output_type": "stream",
     "text": [
      "\n",
      "\n",
      "=============================================================================================================================\n",
      "=============================================================================================================================\n",
      "\n"
     ]
    },
    {
     "name": "stderr",
     "output_type": "stream",
     "text": [
      "[Succeeded / Failed / Skipped / Total] 238 / 41 / 126 / 405:  81%|███████████████▍   | 405/500 [06:19<01:28,  1.07it/s]textattack: Saving checkpoint under \"checkpoints\\1720204081848.ta.chkpt\" at 2024-07-06 02:28:01 after 405 attacks.\n"
     ]
    },
    {
     "name": "stdout",
     "output_type": "stream",
     "text": [
      "\n",
      "\n",
      "=============================================================================================================================\n",
      "=============================================================================================================================\n",
      "\n"
     ]
    },
    {
     "name": "stderr",
     "output_type": "stream",
     "text": [
      "[Succeeded / Failed / Skipped / Total] 240 / 43 / 127 / 410:  82%|███████████████▌   | 410/500 [06:24<01:24,  1.07it/s]textattack: Saving checkpoint under \"checkpoints\\1720204087630.ta.chkpt\" at 2024-07-06 02:28:07 after 410 attacks.\n",
      "[Succeeded / Failed / Skipped / Total] 240 / 43 / 128 / 411:  82%|███████████████▌   | 411/500 [06:25<01:23,  1.07it/s]"
     ]
    },
    {
     "name": "stdout",
     "output_type": "stream",
     "text": [
      "\n",
      "\n",
      "=============================================================================================================================\n",
      "=============================================================================================================================\n",
      "\n"
     ]
    },
    {
     "name": "stderr",
     "output_type": "stream",
     "text": [
      "[Succeeded / Failed / Skipped / Total] 242 / 43 / 130 / 415:  83%|███████████████▊   | 415/500 [06:27<01:19,  1.07it/s]textattack: Saving checkpoint under \"checkpoints\\1720204089942.ta.chkpt\" at 2024-07-06 02:28:09 after 415 attacks.\n"
     ]
    },
    {
     "name": "stdout",
     "output_type": "stream",
     "text": [
      "\n",
      "\n",
      "=============================================================================================================================\n",
      "=============================================================================================================================\n",
      "\n"
     ]
    },
    {
     "name": "stderr",
     "output_type": "stream",
     "text": [
      "[Succeeded / Failed / Skipped / Total] 244 / 44 / 132 / 420:  84%|███████████████▉   | 420/500 [06:33<01:14,  1.07it/s]textattack: Saving checkpoint under \"checkpoints\\1720204096084.ta.chkpt\" at 2024-07-06 02:28:16 after 420 attacks.\n",
      "[Succeeded / Failed / Skipped / Total] 244 / 44 / 133 / 421:  84%|███████████████▉   | 421/500 [06:33<01:13,  1.07it/s]"
     ]
    },
    {
     "name": "stdout",
     "output_type": "stream",
     "text": [
      "\n",
      "\n",
      "=============================================================================================================================\n",
      "=============================================================================================================================\n",
      "\n"
     ]
    },
    {
     "name": "stderr",
     "output_type": "stream",
     "text": [
      "[Succeeded / Failed / Skipped / Total] 247 / 44 / 134 / 425:  85%|████████████████▏  | 425/500 [06:35<01:09,  1.07it/s]textattack: Saving checkpoint under \"checkpoints\\1720204098365.ta.chkpt\" at 2024-07-06 02:28:18 after 425 attacks.\n"
     ]
    },
    {
     "name": "stdout",
     "output_type": "stream",
     "text": [
      "\n",
      "\n",
      "=============================================================================================================================\n",
      "=============================================================================================================================\n",
      "\n"
     ]
    },
    {
     "name": "stderr",
     "output_type": "stream",
     "text": [
      "[Succeeded / Failed / Skipped / Total] 249 / 44 / 137 / 430:  86%|████████████████▎  | 430/500 [06:36<01:04,  1.08it/s]textattack: Saving checkpoint under \"checkpoints\\1720204099413.ta.chkpt\" at 2024-07-06 02:28:19 after 430 attacks.\n",
      "[Succeeded / Failed / Skipped / Total] 249 / 44 / 138 / 431:  86%|████████████████▍  | 431/500 [06:36<01:03,  1.09it/s]"
     ]
    },
    {
     "name": "stdout",
     "output_type": "stream",
     "text": [
      "\n",
      "\n",
      "=============================================================================================================================\n",
      "=============================================================================================================================\n",
      "\n"
     ]
    },
    {
     "name": "stderr",
     "output_type": "stream",
     "text": [
      "[Succeeded / Failed / Skipped / Total] 252 / 44 / 139 / 435:  87%|████████████████▌  | 435/500 [06:39<00:59,  1.09it/s]textattack: Saving checkpoint under \"checkpoints\\1720204102226.ta.chkpt\" at 2024-07-06 02:28:22 after 435 attacks.\n"
     ]
    },
    {
     "name": "stdout",
     "output_type": "stream",
     "text": [
      "\n",
      "\n",
      "=============================================================================================================================\n",
      "=============================================================================================================================\n",
      "\n"
     ]
    },
    {
     "name": "stderr",
     "output_type": "stream",
     "text": [
      "[Succeeded / Failed / Skipped / Total] 254 / 46 / 140 / 440:  88%|████████████████▋  | 440/500 [06:45<00:55,  1.08it/s]textattack: Saving checkpoint under \"checkpoints\\1720204108429.ta.chkpt\" at 2024-07-06 02:28:28 after 440 attacks.\n",
      "[Succeeded / Failed / Skipped / Total] 254 / 46 / 141 / 441:  88%|████████████████▊  | 441/500 [06:45<00:54,  1.09it/s]"
     ]
    },
    {
     "name": "stdout",
     "output_type": "stream",
     "text": [
      "\n",
      "\n",
      "=============================================================================================================================\n",
      "=============================================================================================================================\n",
      "\n"
     ]
    },
    {
     "name": "stderr",
     "output_type": "stream",
     "text": [
      "[Succeeded / Failed / Skipped / Total] 258 / 46 / 141 / 445:  89%|████████████████▉  | 445/500 [06:49<00:50,  1.09it/s]textattack: Saving checkpoint under \"checkpoints\\1720204111789.ta.chkpt\" at 2024-07-06 02:28:31 after 445 attacks.\n"
     ]
    },
    {
     "name": "stdout",
     "output_type": "stream",
     "text": [
      "\n",
      "\n",
      "=============================================================================================================================\n",
      "=============================================================================================================================\n",
      "\n"
     ]
    },
    {
     "name": "stderr",
     "output_type": "stream",
     "text": [
      "[Succeeded / Failed / Skipped / Total] 260 / 47 / 143 / 450:  90%|█████████████████  | 450/500 [06:53<00:45,  1.09it/s]textattack: Saving checkpoint under \"checkpoints\\1720204116289.ta.chkpt\" at 2024-07-06 02:28:36 after 450 attacks.\n",
      "[Succeeded / Failed / Skipped / Total] 260 / 47 / 144 / 451:  90%|█████████████████▏ | 451/500 [06:53<00:44,  1.09it/s]"
     ]
    },
    {
     "name": "stdout",
     "output_type": "stream",
     "text": [
      "\n",
      "\n",
      "=============================================================================================================================\n",
      "=============================================================================================================================\n",
      "\n"
     ]
    },
    {
     "name": "stderr",
     "output_type": "stream",
     "text": [
      "[Succeeded / Failed / Skipped / Total] 263 / 47 / 145 / 455:  91%|█████████████████▎ | 455/500 [06:55<00:41,  1.10it/s]textattack: Saving checkpoint under \"checkpoints\\1720204118211.ta.chkpt\" at 2024-07-06 02:28:38 after 455 attacks.\n"
     ]
    },
    {
     "name": "stdout",
     "output_type": "stream",
     "text": [
      "\n",
      "\n",
      "=============================================================================================================================\n",
      "=============================================================================================================================\n",
      "\n"
     ]
    },
    {
     "name": "stderr",
     "output_type": "stream",
     "text": [
      "[Succeeded / Failed / Skipped / Total] 266 / 49 / 145 / 460:  92%|█████████████████▍ | 460/500 [07:06<00:37,  1.08it/s]textattack: Saving checkpoint under \"checkpoints\\1720204129631.ta.chkpt\" at 2024-07-06 02:28:49 after 460 attacks.\n",
      "[Succeeded / Failed / Skipped / Total] 266 / 49 / 146 / 461:  92%|█████████████████▌ | 461/500 [07:07<00:36,  1.08it/s]"
     ]
    },
    {
     "name": "stdout",
     "output_type": "stream",
     "text": [
      "\n",
      "\n",
      "=============================================================================================================================\n",
      "=============================================================================================================================\n",
      "\n"
     ]
    },
    {
     "name": "stderr",
     "output_type": "stream",
     "text": [
      "[Succeeded / Failed / Skipped / Total] 267 / 50 / 148 / 465:  93%|█████████████████▋ | 465/500 [07:10<00:32,  1.08it/s]textattack: Saving checkpoint under \"checkpoints\\1720204133569.ta.chkpt\" at 2024-07-06 02:28:53 after 465 attacks.\n",
      "[Succeeded / Failed / Skipped / Total] 267 / 50 / 150 / 467:  93%|█████████████████▋ | 467/500 [07:10<00:30,  1.08it/s]"
     ]
    },
    {
     "name": "stdout",
     "output_type": "stream",
     "text": [
      "\n",
      "\n",
      "=============================================================================================================================\n",
      "=============================================================================================================================\n",
      "\n"
     ]
    },
    {
     "name": "stderr",
     "output_type": "stream",
     "text": [
      "[Succeeded / Failed / Skipped / Total] 270 / 50 / 150 / 470:  94%|█████████████████▊ | 470/500 [07:14<00:27,  1.08it/s]textattack: Saving checkpoint under \"checkpoints\\1720204137210.ta.chkpt\" at 2024-07-06 02:28:57 after 470 attacks.\n"
     ]
    },
    {
     "name": "stdout",
     "output_type": "stream",
     "text": [
      "\n",
      "\n",
      "=============================================================================================================================\n",
      "=============================================================================================================================\n",
      "\n"
     ]
    },
    {
     "name": "stderr",
     "output_type": "stream",
     "text": [
      "[Succeeded / Failed / Skipped / Total] 274 / 51 / 150 / 475:  95%|██████████████████ | 475/500 [07:24<00:23,  1.07it/s]textattack: Saving checkpoint under \"checkpoints\\1720204146897.ta.chkpt\" at 2024-07-06 02:29:06 after 475 attacks.\n",
      "[Succeeded / Failed / Skipped / Total] 274 / 51 / 151 / 476:  95%|██████████████████ | 476/500 [07:24<00:22,  1.07it/s]"
     ]
    },
    {
     "name": "stdout",
     "output_type": "stream",
     "text": [
      "\n",
      "\n",
      "=============================================================================================================================\n",
      "=============================================================================================================================\n",
      "\n"
     ]
    },
    {
     "name": "stderr",
     "output_type": "stream",
     "text": [
      "[Succeeded / Failed / Skipped / Total] 278 / 51 / 151 / 480:  96%|██████████████████▏| 480/500 [07:28<00:18,  1.07it/s]textattack: Saving checkpoint under \"checkpoints\\1720204151371.ta.chkpt\" at 2024-07-06 02:29:11 after 480 attacks.\n"
     ]
    },
    {
     "name": "stdout",
     "output_type": "stream",
     "text": [
      "\n",
      "\n",
      "=============================================================================================================================\n",
      "=============================================================================================================================\n",
      "\n"
     ]
    },
    {
     "name": "stderr",
     "output_type": "stream",
     "text": [
      "[Succeeded / Failed / Skipped / Total] 279 / 54 / 152 / 485:  97%|██████████████████▍| 485/500 [07:40<00:14,  1.05it/s]textattack: Saving checkpoint under \"checkpoints\\1720204163462.ta.chkpt\" at 2024-07-06 02:29:23 after 485 attacks.\n"
     ]
    },
    {
     "name": "stdout",
     "output_type": "stream",
     "text": [
      "\n",
      "\n",
      "=============================================================================================================================\n",
      "=============================================================================================================================\n",
      "\n"
     ]
    },
    {
     "name": "stderr",
     "output_type": "stream",
     "text": [
      "[Succeeded / Failed / Skipped / Total] 282 / 55 / 153 / 490:  98%|██████████████████▌| 490/500 [07:47<00:09,  1.05it/s]textattack: Saving checkpoint under \"checkpoints\\1720204169775.ta.chkpt\" at 2024-07-06 02:29:29 after 490 attacks.\n",
      "[Succeeded / Failed / Skipped / Total] 282 / 55 / 154 / 491:  98%|██████████████████▋| 491/500 [07:47<00:08,  1.05it/s]"
     ]
    },
    {
     "name": "stdout",
     "output_type": "stream",
     "text": [
      "\n",
      "\n",
      "=============================================================================================================================\n",
      "=============================================================================================================================\n",
      "\n"
     ]
    },
    {
     "name": "stderr",
     "output_type": "stream",
     "text": [
      "[Succeeded / Failed / Skipped / Total] 284 / 55 / 156 / 495:  99%|██████████████████▊| 495/500 [07:48<00:04,  1.06it/s]textattack: Saving checkpoint under \"checkpoints\\1720204171697.ta.chkpt\" at 2024-07-06 02:29:31 after 495 attacks.\n",
      "[Succeeded / Failed / Skipped / Total] 284 / 55 / 158 / 497:  99%|██████████████████▉| 497/500 [07:49<00:02,  1.06it/s]"
     ]
    },
    {
     "name": "stdout",
     "output_type": "stream",
     "text": [
      "\n",
      "\n",
      "=============================================================================================================================\n",
      "=============================================================================================================================\n",
      "\n"
     ]
    },
    {
     "name": "stderr",
     "output_type": "stream",
     "text": [
      "[Succeeded / Failed / Skipped / Total] 287 / 55 / 158 / 500: 100%|███████████████████| 500/500 [07:51<00:00,  1.06it/s]textattack: Saving checkpoint under \"checkpoints\\1720204173854.ta.chkpt\" at 2024-07-06 02:29:33 after 500 attacks.\n",
      "[Succeeded / Failed / Skipped / Total] 287 / 55 / 158 / 500: 100%|███████████████████| 500/500 [07:51<00:00,  1.06it/s]"
     ]
    },
    {
     "name": "stdout",
     "output_type": "stream",
     "text": [
      "\n",
      "\n",
      "=============================================================================================================================\n",
      "=============================================================================================================================\n",
      "\n",
      "\n",
      "+-------------------------------+--------+\n",
      "| Attack Results                |        |\n",
      "+-------------------------------+--------+\n",
      "| Number of successful attacks: | 287    |\n",
      "| Number of failed attacks:     | 55     |\n",
      "| Number of skipped attacks:    | 158    |\n",
      "| Original accuracy:            | 68.4%  |\n",
      "| Accuracy under attack:        | 11.0%  |\n",
      "| Attack success rate:          | 83.92% |\n",
      "| Average perturbed word %:     | 11.05% |\n",
      "| Average num. words per input: | 18.4   |\n",
      "| Avg num queries:              | 42.85  |\n",
      "+-------------------------------+--------+\n"
     ]
    },
    {
     "name": "stderr",
     "output_type": "stream",
     "text": [
      "\n"
     ]
    }
   ],
   "source": [
    "runAttack(clip_model_wrapper_knn_mr, n_samples, 'attack_results_new/clipmrattackknn'+suffix, target_ds_mr)"
   ]
  },
  {
   "cell_type": "code",
   "execution_count": 31,
   "id": "2817bf97-ee68-48c1-b7f6-b517849aa412",
   "metadata": {
    "scrolled": true
   },
   "outputs": [
    {
     "name": "stderr",
     "output_type": "stream",
     "text": [
      "textattack: Unknown if model of class <class 'transformers.models.clip.modeling_clip.CLIPTextTransformer'> compatible with goal function <class 'textattack.goal_functions.classification.untargeted_classification.UntargetedClassification'>.\n",
      "textattack: Logging to CSV at path attack_results_new/clipmrattacksvcsim07.csv\n"
     ]
    },
    {
     "name": "stdout",
     "output_type": "stream",
     "text": [
      "Attack(\n",
      "  (search_method): GreedyWordSwapWIR(\n",
      "    (wir_method):  delete\n",
      "  )\n",
      "  (goal_function):  UntargetedClassification\n",
      "  (transformation):  WordSwapEmbedding(\n",
      "    (max_candidates):  50\n",
      "    (embedding):  WordEmbedding\n",
      "  )\n",
      "  (constraints): \n",
      "    (0): WordEmbeddingDistance(\n",
      "        (embedding):  WordEmbedding\n",
      "        (min_cos_sim):  0.7\n",
      "        (cased):  False\n",
      "        (include_unknown_words):  True\n",
      "        (compare_against_original):  True\n",
      "      )\n",
      "    (1): PartOfSpeech(\n",
      "        (tagger_type):  nltk\n",
      "        (tagset):  universal\n",
      "        (allow_verb_noun_swap):  True\n",
      "        (compare_against_original):  True\n",
      "      )\n",
      "    (2): UniversalSentenceEncoder(\n",
      "        (metric):  angular\n",
      "        (threshold):  0.840845057\n",
      "        (window_size):  15\n",
      "        (skip_text_shorter_than_window):  True\n",
      "        (compare_against_original):  False\n",
      "      )\n",
      "    (3): RepeatModification\n",
      "    (4): StopwordModification\n",
      "    (5): InputColumnModification(\n",
      "        (matching_column_labels):  ['premise', 'hypothesis']\n",
      "        (columns_to_ignore):  {'premise'}\n",
      "      )\n",
      "  (is_black_box):  True\n",
      ") \n",
      "\n"
     ]
    },
    {
     "name": "stderr",
     "output_type": "stream",
     "text": [
      "[Succeeded / Failed / Skipped / Total] 5 / 0 / 0 / 5:   1%|▎                           | 5/500 [00:11<18:45,  2.27s/it]textattack: Saving checkpoint under \"checkpoints\\1720204185366.ta.chkpt\" at 2024-07-06 02:29:45 after 5 attacks.\n",
      "[Succeeded / Failed / Skipped / Total] 5 / 0 / 2 / 7:   1%|▍                           | 7/500 [00:11<13:29,  1.64s/it]"
     ]
    },
    {
     "name": "stdout",
     "output_type": "stream",
     "text": [
      "\n",
      "\n",
      "=============================================================================================================================\n",
      "=============================================================================================================================\n",
      "\n"
     ]
    },
    {
     "name": "stderr",
     "output_type": "stream",
     "text": [
      "[Succeeded / Failed / Skipped / Total] 8 / 0 / 2 / 10:   2%|▌                         | 10/500 [00:14<11:45,  1.44s/it]textattack: Saving checkpoint under \"checkpoints\\1720204188397.ta.chkpt\" at 2024-07-06 02:29:48 after 10 attacks.\n"
     ]
    },
    {
     "name": "stdout",
     "output_type": "stream",
     "text": [
      "\n",
      "\n",
      "=============================================================================================================================\n",
      "=============================================================================================================================\n",
      "\n"
     ]
    },
    {
     "name": "stderr",
     "output_type": "stream",
     "text": [
      "[Succeeded / Failed / Skipped / Total] 12 / 0 / 3 / 15:   3%|▊                        | 15/500 [00:23<12:39,  1.57s/it]textattack: Saving checkpoint under \"checkpoints\\1720204197475.ta.chkpt\" at 2024-07-06 02:29:57 after 15 attacks.\n"
     ]
    },
    {
     "name": "stdout",
     "output_type": "stream",
     "text": [
      "\n",
      "\n",
      "=============================================================================================================================\n",
      "=============================================================================================================================\n",
      "\n"
     ]
    },
    {
     "name": "stderr",
     "output_type": "stream",
     "text": [
      "[Succeeded / Failed / Skipped / Total] 15 / 1 / 4 / 20:   4%|█                        | 20/500 [00:25<10:19,  1.29s/it]textattack: Saving checkpoint under \"checkpoints\\1720204199788.ta.chkpt\" at 2024-07-06 02:29:59 after 20 attacks.\n"
     ]
    },
    {
     "name": "stdout",
     "output_type": "stream",
     "text": [
      "\n",
      "\n",
      "=============================================================================================================================\n",
      "=============================================================================================================================\n",
      "\n"
     ]
    },
    {
     "name": "stderr",
     "output_type": "stream",
     "text": [
      "[Succeeded / Failed / Skipped / Total] 19 / 1 / 5 / 25:   5%|█▎                       | 25/500 [00:29<09:15,  1.17s/it]textattack: Saving checkpoint under \"checkpoints\\1720204203210.ta.chkpt\" at 2024-07-06 02:30:03 after 25 attacks.\n"
     ]
    },
    {
     "name": "stdout",
     "output_type": "stream",
     "text": [
      "\n",
      "\n",
      "=============================================================================================================================\n",
      "=============================================================================================================================\n",
      "\n"
     ]
    },
    {
     "name": "stderr",
     "output_type": "stream",
     "text": [
      "[Succeeded / Failed / Skipped / Total] 23 / 1 / 6 / 30:   6%|█▌                       | 30/500 [00:33<08:41,  1.11s/it]textattack: Saving checkpoint under \"checkpoints\\1720204207289.ta.chkpt\" at 2024-07-06 02:30:07 after 30 attacks.\n"
     ]
    },
    {
     "name": "stdout",
     "output_type": "stream",
     "text": [
      "\n",
      "\n",
      "=============================================================================================================================\n",
      "=============================================================================================================================\n",
      "\n"
     ]
    },
    {
     "name": "stderr",
     "output_type": "stream",
     "text": [
      "[Succeeded / Failed / Skipped / Total] 26 / 1 / 8 / 35:   7%|█▊                       | 35/500 [00:36<07:59,  1.03s/it]textattack: Saving checkpoint under \"checkpoints\\1720204210101.ta.chkpt\" at 2024-07-06 02:30:10 after 35 attacks.\n"
     ]
    },
    {
     "name": "stdout",
     "output_type": "stream",
     "text": [
      "\n",
      "\n",
      "=============================================================================================================================\n",
      "=============================================================================================================================\n",
      "\n"
     ]
    },
    {
     "name": "stderr",
     "output_type": "stream",
     "text": [
      "[Succeeded / Failed / Skipped / Total] 30 / 1 / 9 / 40:   8%|██                       | 40/500 [00:40<07:46,  1.01s/it]textattack: Saving checkpoint under \"checkpoints\\1720204214541.ta.chkpt\" at 2024-07-06 02:30:14 after 40 attacks.\n"
     ]
    },
    {
     "name": "stdout",
     "output_type": "stream",
     "text": [
      "\n",
      "\n",
      "=============================================================================================================================\n",
      "=============================================================================================================================\n",
      "\n"
     ]
    },
    {
     "name": "stderr",
     "output_type": "stream",
     "text": [
      "[Succeeded / Failed / Skipped / Total] 33 / 1 / 11 / 45:   9%|██▏                     | 45/500 [00:46<07:49,  1.03s/it]textattack: Saving checkpoint under \"checkpoints\\1720204220417.ta.chkpt\" at 2024-07-06 02:30:20 after 45 attacks.\n"
     ]
    },
    {
     "name": "stdout",
     "output_type": "stream",
     "text": [
      "\n",
      "\n",
      "=============================================================================================================================\n",
      "=============================================================================================================================\n",
      "\n"
     ]
    },
    {
     "name": "stderr",
     "output_type": "stream",
     "text": [
      "[Succeeded / Failed / Skipped / Total] 37 / 1 / 12 / 50:  10%|██▍                     | 50/500 [00:49<07:29,  1.00it/s]textattack: Saving checkpoint under \"checkpoints\\1720204223901.ta.chkpt\" at 2024-07-06 02:30:23 after 50 attacks.\n"
     ]
    },
    {
     "name": "stdout",
     "output_type": "stream",
     "text": [
      "\n",
      "\n",
      "=============================================================================================================================\n",
      "=============================================================================================================================\n",
      "\n"
     ]
    },
    {
     "name": "stderr",
     "output_type": "stream",
     "text": [
      "[Succeeded / Failed / Skipped / Total] 41 / 1 / 13 / 55:  11%|██▋                     | 55/500 [00:56<07:35,  1.02s/it]textattack: Saving checkpoint under \"checkpoints\\1720204230324.ta.chkpt\" at 2024-07-06 02:30:30 after 55 attacks.\n"
     ]
    },
    {
     "name": "stdout",
     "output_type": "stream",
     "text": [
      "\n",
      "\n",
      "=============================================================================================================================\n",
      "=============================================================================================================================\n",
      "\n"
     ]
    },
    {
     "name": "stderr",
     "output_type": "stream",
     "text": [
      "[Succeeded / Failed / Skipped / Total] 45 / 1 / 14 / 60:  12%|██▉                     | 60/500 [01:00<07:26,  1.01s/it]textattack: Saving checkpoint under \"checkpoints\\1720204234888.ta.chkpt\" at 2024-07-06 02:30:34 after 60 attacks.\n",
      "[Succeeded / Failed / Skipped / Total] 45 / 1 / 15 / 61:  12%|██▉                     | 61/500 [01:00<07:18,  1.00it/s]"
     ]
    },
    {
     "name": "stdout",
     "output_type": "stream",
     "text": [
      "\n",
      "\n",
      "=============================================================================================================================\n",
      "=============================================================================================================================\n",
      "\n"
     ]
    },
    {
     "name": "stderr",
     "output_type": "stream",
     "text": [
      "[Succeeded / Failed / Skipped / Total] 49 / 1 / 15 / 65:  13%|███                     | 65/500 [01:03<07:06,  1.02it/s]textattack: Saving checkpoint under \"checkpoints\\1720204237732.ta.chkpt\" at 2024-07-06 02:30:37 after 65 attacks.\n"
     ]
    },
    {
     "name": "stdout",
     "output_type": "stream",
     "text": [
      "\n",
      "\n",
      "=============================================================================================================================\n",
      "=============================================================================================================================\n",
      "\n"
     ]
    },
    {
     "name": "stderr",
     "output_type": "stream",
     "text": [
      "[Succeeded / Failed / Skipped / Total] 53 / 1 / 16 / 70:  14%|███▎                    | 70/500 [01:09<07:05,  1.01it/s]textattack: Saving checkpoint under \"checkpoints\\1720204243263.ta.chkpt\" at 2024-07-06 02:30:43 after 70 attacks.\n"
     ]
    },
    {
     "name": "stdout",
     "output_type": "stream",
     "text": [
      "\n",
      "\n",
      "=============================================================================================================================\n",
      "=============================================================================================================================\n",
      "\n"
     ]
    },
    {
     "name": "stderr",
     "output_type": "stream",
     "text": [
      "[Succeeded / Failed / Skipped / Total] 58 / 1 / 16 / 75:  15%|███▌                    | 75/500 [01:13<06:56,  1.02it/s]textattack: Saving checkpoint under \"checkpoints\\1720204247451.ta.chkpt\" at 2024-07-06 02:30:47 after 75 attacks.\n",
      "[Succeeded / Failed / Skipped / Total] 58 / 1 / 17 / 76:  15%|███▋                    | 76/500 [01:13<06:50,  1.03it/s]"
     ]
    },
    {
     "name": "stdout",
     "output_type": "stream",
     "text": [
      "\n",
      "\n",
      "=============================================================================================================================\n",
      "=============================================================================================================================\n",
      "\n"
     ]
    },
    {
     "name": "stderr",
     "output_type": "stream",
     "text": [
      "[Succeeded / Failed / Skipped / Total] 61 / 1 / 18 / 80:  16%|███▊                    | 80/500 [01:17<06:44,  1.04it/s]textattack: Saving checkpoint under \"checkpoints\\1720204251077.ta.chkpt\" at 2024-07-06 02:30:51 after 80 attacks.\n",
      "[Succeeded / Failed / Skipped / Total] 61 / 1 / 20 / 82:  16%|███▉                    | 82/500 [01:17<06:33,  1.06it/s]"
     ]
    },
    {
     "name": "stdout",
     "output_type": "stream",
     "text": [
      "\n",
      "\n",
      "=============================================================================================================================\n",
      "=============================================================================================================================\n",
      "\n"
     ]
    },
    {
     "name": "stderr",
     "output_type": "stream",
     "text": [
      "[Succeeded / Failed / Skipped / Total] 64 / 1 / 20 / 85:  17%|████                    | 85/500 [01:19<06:29,  1.07it/s]textattack: Saving checkpoint under \"checkpoints\\1720204253715.ta.chkpt\" at 2024-07-06 02:30:53 after 85 attacks.\n"
     ]
    },
    {
     "name": "stdout",
     "output_type": "stream",
     "text": [
      "\n",
      "\n",
      "=============================================================================================================================\n",
      "=============================================================================================================================\n",
      "\n"
     ]
    },
    {
     "name": "stderr",
     "output_type": "stream",
     "text": [
      "[Succeeded / Failed / Skipped / Total] 68 / 1 / 21 / 90:  18%|████▎                   | 90/500 [01:24<06:26,  1.06it/s]textattack: Saving checkpoint under \"checkpoints\\1720204258924.ta.chkpt\" at 2024-07-06 02:30:58 after 90 attacks.\n",
      "[Succeeded / Failed / Skipped / Total] 68 / 1 / 23 / 92:  18%|████▍                   | 92/500 [01:25<06:17,  1.08it/s]"
     ]
    },
    {
     "name": "stdout",
     "output_type": "stream",
     "text": [
      "\n",
      "\n",
      "=============================================================================================================================\n",
      "=============================================================================================================================\n",
      "\n"
     ]
    },
    {
     "name": "stderr",
     "output_type": "stream",
     "text": [
      "[Succeeded / Failed / Skipped / Total] 71 / 1 / 23 / 95:  19%|████▌                   | 95/500 [01:28<06:15,  1.08it/s]textattack: Saving checkpoint under \"checkpoints\\1720204262002.ta.chkpt\" at 2024-07-06 02:31:02 after 95 attacks.\n"
     ]
    },
    {
     "name": "stdout",
     "output_type": "stream",
     "text": [
      "\n",
      "\n",
      "=============================================================================================================================\n",
      "=============================================================================================================================\n",
      "\n"
     ]
    },
    {
     "name": "stderr",
     "output_type": "stream",
     "text": [
      "[Succeeded / Failed / Skipped / Total] 75 / 1 / 24 / 100:  20%|████▍                 | 100/500 [01:31<06:05,  1.09it/s]textattack: Saving checkpoint under \"checkpoints\\1720204265393.ta.chkpt\" at 2024-07-06 02:31:05 after 100 attacks.\n"
     ]
    },
    {
     "name": "stdout",
     "output_type": "stream",
     "text": [
      "\n",
      "\n",
      "=============================================================================================================================\n",
      "=============================================================================================================================\n",
      "\n"
     ]
    },
    {
     "name": "stderr",
     "output_type": "stream",
     "text": [
      "[Succeeded / Failed / Skipped / Total] 80 / 1 / 24 / 105:  21%|████▌                 | 105/500 [01:36<06:04,  1.08it/s]textattack: Saving checkpoint under \"checkpoints\\1720204270862.ta.chkpt\" at 2024-07-06 02:31:10 after 105 attacks.\n",
      "[Succeeded / Failed / Skipped / Total] 80 / 1 / 25 / 106:  21%|████▋                 | 106/500 [01:36<06:00,  1.09it/s]"
     ]
    },
    {
     "name": "stdout",
     "output_type": "stream",
     "text": [
      "\n",
      "\n",
      "=============================================================================================================================\n",
      "=============================================================================================================================\n",
      "\n"
     ]
    },
    {
     "name": "stderr",
     "output_type": "stream",
     "text": [
      "[Succeeded / Failed / Skipped / Total] 82 / 1 / 27 / 110:  22%|████▊                 | 110/500 [01:39<05:51,  1.11it/s]textattack: Saving checkpoint under \"checkpoints\\1720204273027.ta.chkpt\" at 2024-07-06 02:31:13 after 110 attacks.\n",
      "[Succeeded / Failed / Skipped / Total] 82 / 1 / 28 / 111:  22%|████▉                 | 111/500 [01:39<05:47,  1.12it/s]"
     ]
    },
    {
     "name": "stdout",
     "output_type": "stream",
     "text": [
      "\n",
      "\n",
      "=============================================================================================================================\n",
      "=============================================================================================================================\n",
      "\n"
     ]
    },
    {
     "name": "stderr",
     "output_type": "stream",
     "text": [
      "[Succeeded / Failed / Skipped / Total] 84 / 1 / 30 / 115:  23%|█████                 | 115/500 [01:41<05:40,  1.13it/s]textattack: Saving checkpoint under \"checkpoints\\1720204275629.ta.chkpt\" at 2024-07-06 02:31:15 after 115 attacks.\n"
     ]
    },
    {
     "name": "stdout",
     "output_type": "stream",
     "text": [
      "\n",
      "\n",
      "=============================================================================================================================\n",
      "=============================================================================================================================\n",
      "\n"
     ]
    },
    {
     "name": "stderr",
     "output_type": "stream",
     "text": [
      "[Succeeded / Failed / Skipped / Total] 87 / 1 / 32 / 120:  24%|█████▎                | 120/500 [01:44<05:29,  1.15it/s]textattack: Saving checkpoint under \"checkpoints\\1720204278113.ta.chkpt\" at 2024-07-06 02:31:18 after 120 attacks.\n",
      "[Succeeded / Failed / Skipped / Total] 87 / 1 / 33 / 121:  24%|█████▎                | 121/500 [01:44<05:26,  1.16it/s]"
     ]
    },
    {
     "name": "stdout",
     "output_type": "stream",
     "text": [
      "\n",
      "\n",
      "=============================================================================================================================\n",
      "=============================================================================================================================\n",
      "\n"
     ]
    },
    {
     "name": "stderr",
     "output_type": "stream",
     "text": [
      "[Succeeded / Failed / Skipped / Total] 90 / 1 / 34 / 125:  25%|█████▌                | 125/500 [01:46<05:19,  1.17it/s]textattack: Saving checkpoint under \"checkpoints\\1720204280660.ta.chkpt\" at 2024-07-06 02:31:20 after 125 attacks.\n"
     ]
    },
    {
     "name": "stdout",
     "output_type": "stream",
     "text": [
      "\n",
      "\n",
      "=============================================================================================================================\n",
      "=============================================================================================================================\n",
      "\n"
     ]
    },
    {
     "name": "stderr",
     "output_type": "stream",
     "text": [
      "[Succeeded / Failed / Skipped / Total] 95 / 1 / 34 / 130:  26%|█████▋                | 130/500 [01:51<05:17,  1.16it/s]textattack: Saving checkpoint under \"checkpoints\\1720204285723.ta.chkpt\" at 2024-07-06 02:31:25 after 130 attacks.\n",
      "[Succeeded / Failed / Skipped / Total] 95 / 1 / 35 / 131:  26%|█████▊                | 131/500 [01:51<05:14,  1.17it/s]"
     ]
    },
    {
     "name": "stdout",
     "output_type": "stream",
     "text": [
      "\n",
      "\n",
      "=============================================================================================================================\n",
      "=============================================================================================================================\n",
      "\n"
     ]
    },
    {
     "name": "stderr",
     "output_type": "stream",
     "text": [
      "[Succeeded / Failed / Skipped / Total] 98 / 1 / 36 / 135:  27%|█████▉                | 135/500 [01:55<05:11,  1.17it/s]textattack: Saving checkpoint under \"checkpoints\\1720204289286.ta.chkpt\" at 2024-07-06 02:31:29 after 135 attacks.\n"
     ]
    },
    {
     "name": "stdout",
     "output_type": "stream",
     "text": [
      "\n",
      "\n",
      "=============================================================================================================================\n",
      "=============================================================================================================================\n",
      "\n"
     ]
    },
    {
     "name": "stderr",
     "output_type": "stream",
     "text": [
      "[Succeeded / Failed / Skipped / Total] 100 / 1 / 39 / 140:  28%|█████▉               | 140/500 [01:57<05:01,  1.19it/s]textattack: Saving checkpoint under \"checkpoints\\1720204291161.ta.chkpt\" at 2024-07-06 02:31:31 after 140 attacks.\n"
     ]
    },
    {
     "name": "stdout",
     "output_type": "stream",
     "text": [
      "\n",
      "\n",
      "=============================================================================================================================\n",
      "=============================================================================================================================\n",
      "\n"
     ]
    },
    {
     "name": "stderr",
     "output_type": "stream",
     "text": [
      "[Succeeded / Failed / Skipped / Total] 103 / 1 / 41 / 145:  29%|██████               | 145/500 [01:59<04:53,  1.21it/s]textattack: Saving checkpoint under \"checkpoints\\1720204293872.ta.chkpt\" at 2024-07-06 02:31:33 after 145 attacks.\n",
      "[Succeeded / Failed / Skipped / Total] 103 / 1 / 42 / 146:  29%|██████▏              | 146/500 [01:59<04:50,  1.22it/s]"
     ]
    },
    {
     "name": "stdout",
     "output_type": "stream",
     "text": [
      "\n",
      "\n",
      "=============================================================================================================================\n",
      "=============================================================================================================================\n",
      "\n"
     ]
    },
    {
     "name": "stderr",
     "output_type": "stream",
     "text": [
      "[Succeeded / Failed / Skipped / Total] 106 / 1 / 43 / 150:  30%|██████▎              | 150/500 [02:01<04:43,  1.23it/s]textattack: Saving checkpoint under \"checkpoints\\1720204295693.ta.chkpt\" at 2024-07-06 02:31:35 after 150 attacks.\n",
      "[Succeeded / Failed / Skipped / Total] 106 / 1 / 44 / 151:  30%|██████▎              | 151/500 [02:01<04:41,  1.24it/s]"
     ]
    },
    {
     "name": "stdout",
     "output_type": "stream",
     "text": [
      "\n",
      "\n",
      "=============================================================================================================================\n",
      "=============================================================================================================================\n",
      "\n"
     ]
    },
    {
     "name": "stderr",
     "output_type": "stream",
     "text": [
      "[Succeeded / Failed / Skipped / Total] 108 / 2 / 45 / 155:  31%|██████▌              | 155/500 [02:08<04:45,  1.21it/s]textattack: Saving checkpoint under \"checkpoints\\1720204302209.ta.chkpt\" at 2024-07-06 02:31:42 after 155 attacks.\n"
     ]
    },
    {
     "name": "stdout",
     "output_type": "stream",
     "text": [
      "\n",
      "\n",
      "=============================================================================================================================\n",
      "=============================================================================================================================\n",
      "\n"
     ]
    },
    {
     "name": "stderr",
     "output_type": "stream",
     "text": [
      "[Succeeded / Failed / Skipped / Total] 111 / 2 / 47 / 160:  32%|██████▋              | 160/500 [02:13<04:43,  1.20it/s]textattack: Saving checkpoint under \"checkpoints\\1720204307366.ta.chkpt\" at 2024-07-06 02:31:47 after 160 attacks.\n",
      "[Succeeded / Failed / Skipped / Total] 111 / 2 / 48 / 161:  32%|██████▊              | 161/500 [02:13<04:40,  1.21it/s]"
     ]
    },
    {
     "name": "stdout",
     "output_type": "stream",
     "text": [
      "\n",
      "\n",
      "=============================================================================================================================\n",
      "=============================================================================================================================\n",
      "\n"
     ]
    },
    {
     "name": "stderr",
     "output_type": "stream",
     "text": [
      "[Succeeded / Failed / Skipped / Total] 113 / 2 / 50 / 165:  33%|██████▉              | 165/500 [02:15<04:35,  1.22it/s]textattack: Saving checkpoint under \"checkpoints\\1720204309663.ta.chkpt\" at 2024-07-06 02:31:49 after 165 attacks.\n"
     ]
    },
    {
     "name": "stdout",
     "output_type": "stream",
     "text": [
      "\n",
      "\n",
      "=============================================================================================================================\n",
      "=============================================================================================================================\n",
      "\n"
     ]
    },
    {
     "name": "stderr",
     "output_type": "stream",
     "text": [
      "[Succeeded / Failed / Skipped / Total] 116 / 2 / 52 / 170:  34%|███████▏             | 170/500 [02:18<04:27,  1.23it/s]textattack: Saving checkpoint under \"checkpoints\\1720204312007.ta.chkpt\" at 2024-07-06 02:31:52 after 170 attacks.\n"
     ]
    },
    {
     "name": "stdout",
     "output_type": "stream",
     "text": [
      "\n",
      "\n",
      "=============================================================================================================================\n",
      "=============================================================================================================================\n",
      "\n"
     ]
    },
    {
     "name": "stderr",
     "output_type": "stream",
     "text": [
      "[Succeeded / Failed / Skipped / Total] 121 / 2 / 52 / 175:  35%|███████▎             | 175/500 [02:29<04:37,  1.17it/s]textattack: Saving checkpoint under \"checkpoints\\1720204323260.ta.chkpt\" at 2024-07-06 02:32:03 after 175 attacks.\n",
      "[Succeeded / Failed / Skipped / Total] 121 / 2 / 53 / 176:  35%|███████▍             | 176/500 [02:29<04:34,  1.18it/s]"
     ]
    },
    {
     "name": "stdout",
     "output_type": "stream",
     "text": [
      "\n",
      "\n",
      "=============================================================================================================================\n",
      "=============================================================================================================================\n",
      "\n"
     ]
    },
    {
     "name": "stderr",
     "output_type": "stream",
     "text": [
      "[Succeeded / Failed / Skipped / Total] 125 / 2 / 53 / 180:  36%|███████▌             | 180/500 [02:32<04:30,  1.18it/s]textattack: Saving checkpoint under \"checkpoints\\1720204326385.ta.chkpt\" at 2024-07-06 02:32:06 after 180 attacks.\n"
     ]
    },
    {
     "name": "stdout",
     "output_type": "stream",
     "text": [
      "\n",
      "\n",
      "=============================================================================================================================\n",
      "=============================================================================================================================\n",
      "\n"
     ]
    },
    {
     "name": "stderr",
     "output_type": "stream",
     "text": [
      "[Succeeded / Failed / Skipped / Total] 127 / 3 / 55 / 185:  37%|███████▊             | 185/500 [02:34<04:23,  1.20it/s]textattack: Saving checkpoint under \"checkpoints\\1720204328604.ta.chkpt\" at 2024-07-06 02:32:08 after 185 attacks.\n",
      "[Succeeded / Failed / Skipped / Total] 127 / 3 / 56 / 186:  37%|███████▊             | 186/500 [02:34<04:21,  1.20it/s]"
     ]
    },
    {
     "name": "stdout",
     "output_type": "stream",
     "text": [
      "\n",
      "\n",
      "=============================================================================================================================\n",
      "=============================================================================================================================\n",
      "\n"
     ]
    },
    {
     "name": "stderr",
     "output_type": "stream",
     "text": [
      "[Succeeded / Failed / Skipped / Total] 131 / 3 / 56 / 190:  38%|███████▉             | 190/500 [02:40<04:22,  1.18it/s]textattack: Saving checkpoint under \"checkpoints\\1720204334935.ta.chkpt\" at 2024-07-06 02:32:14 after 190 attacks.\n"
     ]
    },
    {
     "name": "stdout",
     "output_type": "stream",
     "text": [
      "\n",
      "\n",
      "=============================================================================================================================\n",
      "=============================================================================================================================\n",
      "\n"
     ]
    },
    {
     "name": "stderr",
     "output_type": "stream",
     "text": [
      "[Succeeded / Failed / Skipped / Total] 134 / 3 / 58 / 195:  39%|████████▏            | 195/500 [02:44<04:17,  1.18it/s]textattack: Saving checkpoint under \"checkpoints\\1720204338810.ta.chkpt\" at 2024-07-06 02:32:18 after 195 attacks.\n"
     ]
    },
    {
     "name": "stdout",
     "output_type": "stream",
     "text": [
      "\n",
      "\n",
      "=============================================================================================================================\n",
      "=============================================================================================================================\n",
      "\n"
     ]
    },
    {
     "name": "stderr",
     "output_type": "stream",
     "text": [
      "[Succeeded / Failed / Skipped / Total] 138 / 3 / 59 / 200:  40%|████████▍            | 200/500 [02:52<04:18,  1.16it/s]textattack: Saving checkpoint under \"checkpoints\\1720204346358.ta.chkpt\" at 2024-07-06 02:32:26 after 200 attacks.\n"
     ]
    },
    {
     "name": "stdout",
     "output_type": "stream",
     "text": [
      "\n",
      "\n",
      "=============================================================================================================================\n",
      "=============================================================================================================================\n",
      "\n"
     ]
    },
    {
     "name": "stderr",
     "output_type": "stream",
     "text": [
      "[Succeeded / Failed / Skipped / Total] 142 / 3 / 60 / 205:  41%|████████▌            | 205/500 [02:56<04:14,  1.16it/s]textattack: Saving checkpoint under \"checkpoints\\1720204350640.ta.chkpt\" at 2024-07-06 02:32:30 after 205 attacks.\n"
     ]
    },
    {
     "name": "stdout",
     "output_type": "stream",
     "text": [
      "\n",
      "\n",
      "=============================================================================================================================\n",
      "=============================================================================================================================\n",
      "\n"
     ]
    },
    {
     "name": "stderr",
     "output_type": "stream",
     "text": [
      "[Succeeded / Failed / Skipped / Total] 146 / 3 / 61 / 210:  42%|████████▊            | 210/500 [02:59<04:08,  1.17it/s]textattack: Saving checkpoint under \"checkpoints\\1720204353703.ta.chkpt\" at 2024-07-06 02:32:33 after 210 attacks.\n"
     ]
    },
    {
     "name": "stdout",
     "output_type": "stream",
     "text": [
      "\n",
      "\n",
      "=============================================================================================================================\n",
      "=============================================================================================================================\n",
      "\n"
     ]
    },
    {
     "name": "stderr",
     "output_type": "stream",
     "text": [
      "[Succeeded / Failed / Skipped / Total] 149 / 4 / 62 / 215:  43%|█████████            | 215/500 [03:06<04:06,  1.15it/s]textattack: Saving checkpoint under \"checkpoints\\1720204360220.ta.chkpt\" at 2024-07-06 02:32:40 after 215 attacks.\n"
     ]
    },
    {
     "name": "stdout",
     "output_type": "stream",
     "text": [
      "\n",
      "\n",
      "=============================================================================================================================\n",
      "=============================================================================================================================\n",
      "\n"
     ]
    },
    {
     "name": "stderr",
     "output_type": "stream",
     "text": [
      "[Succeeded / Failed / Skipped / Total] 153 / 5 / 62 / 220:  44%|█████████▏           | 220/500 [03:10<04:01,  1.16it/s]textattack: Saving checkpoint under \"checkpoints\\1720204364127.ta.chkpt\" at 2024-07-06 02:32:44 after 220 attacks.\n"
     ]
    },
    {
     "name": "stdout",
     "output_type": "stream",
     "text": [
      "\n",
      "\n",
      "=============================================================================================================================\n",
      "=============================================================================================================================\n",
      "\n"
     ]
    },
    {
     "name": "stderr",
     "output_type": "stream",
     "text": [
      "[Succeeded / Failed / Skipped / Total] 156 / 5 / 64 / 225:  45%|█████████▍           | 225/500 [03:14<03:58,  1.15it/s]textattack: Saving checkpoint under \"checkpoints\\1720204368986.ta.chkpt\" at 2024-07-06 02:32:48 after 225 attacks.\n"
     ]
    },
    {
     "name": "stdout",
     "output_type": "stream",
     "text": [
      "\n",
      "\n",
      "=============================================================================================================================\n",
      "=============================================================================================================================\n",
      "\n"
     ]
    },
    {
     "name": "stderr",
     "output_type": "stream",
     "text": [
      "[Succeeded / Failed / Skipped / Total] 159 / 6 / 65 / 230:  46%|█████████▋           | 230/500 [03:18<03:53,  1.16it/s]textattack: Saving checkpoint under \"checkpoints\\1720204372798.ta.chkpt\" at 2024-07-06 02:32:52 after 230 attacks.\n",
      "[Succeeded / Failed / Skipped / Total] 159 / 6 / 66 / 231:  46%|█████████▋           | 231/500 [03:18<03:51,  1.16it/s]"
     ]
    },
    {
     "name": "stdout",
     "output_type": "stream",
     "text": [
      "\n",
      "\n",
      "=============================================================================================================================\n",
      "=============================================================================================================================\n",
      "\n"
     ]
    },
    {
     "name": "stderr",
     "output_type": "stream",
     "text": [
      "[Succeeded / Failed / Skipped / Total] 162 / 6 / 67 / 235:  47%|█████████▊           | 235/500 [03:22<03:48,  1.16it/s]textattack: Saving checkpoint under \"checkpoints\\1720204376520.ta.chkpt\" at 2024-07-06 02:32:56 after 235 attacks.\n"
     ]
    },
    {
     "name": "stdout",
     "output_type": "stream",
     "text": [
      "\n",
      "\n",
      "=============================================================================================================================\n",
      "=============================================================================================================================\n",
      "\n"
     ]
    },
    {
     "name": "stderr",
     "output_type": "stream",
     "text": [
      "[Succeeded / Failed / Skipped / Total] 166 / 7 / 67 / 240:  48%|██████████           | 240/500 [03:27<03:44,  1.16it/s]textattack: Saving checkpoint under \"checkpoints\\1720204381317.ta.chkpt\" at 2024-07-06 02:33:01 after 240 attacks.\n",
      "[Succeeded / Failed / Skipped / Total] 166 / 7 / 69 / 242:  48%|██████████▏          | 242/500 [03:27<03:41,  1.17it/s]"
     ]
    },
    {
     "name": "stdout",
     "output_type": "stream",
     "text": [
      "\n",
      "\n",
      "=============================================================================================================================\n",
      "=============================================================================================================================\n",
      "\n"
     ]
    },
    {
     "name": "stderr",
     "output_type": "stream",
     "text": [
      "[Succeeded / Failed / Skipped / Total] 168 / 8 / 69 / 245:  49%|██████████▎          | 245/500 [03:32<03:40,  1.15it/s]textattack: Saving checkpoint under \"checkpoints\\1720204386255.ta.chkpt\" at 2024-07-06 02:33:06 after 245 attacks.\n"
     ]
    },
    {
     "name": "stdout",
     "output_type": "stream",
     "text": [
      "\n",
      "\n",
      "=============================================================================================================================\n",
      "=============================================================================================================================\n",
      "\n"
     ]
    },
    {
     "name": "stderr",
     "output_type": "stream",
     "text": [
      "[Succeeded / Failed / Skipped / Total] 170 / 8 / 72 / 250:  50%|██████████▌          | 250/500 [03:33<03:33,  1.17it/s]textattack: Saving checkpoint under \"checkpoints\\1720204387864.ta.chkpt\" at 2024-07-06 02:33:07 after 250 attacks.\n",
      "[Succeeded / Failed / Skipped / Total] 170 / 8 / 73 / 251:  50%|██████████▌          | 251/500 [03:33<03:32,  1.17it/s]"
     ]
    },
    {
     "name": "stdout",
     "output_type": "stream",
     "text": [
      "\n",
      "\n",
      "=============================================================================================================================\n",
      "=============================================================================================================================\n",
      "\n"
     ]
    },
    {
     "name": "stderr",
     "output_type": "stream",
     "text": [
      "[Succeeded / Failed / Skipped / Total] 173 / 8 / 74 / 255:  51%|██████████▋          | 255/500 [03:38<03:29,  1.17it/s]textattack: Saving checkpoint under \"checkpoints\\1720204392359.ta.chkpt\" at 2024-07-06 02:33:12 after 255 attacks.\n"
     ]
    },
    {
     "name": "stdout",
     "output_type": "stream",
     "text": [
      "\n",
      "\n",
      "=============================================================================================================================\n",
      "=============================================================================================================================\n",
      "\n"
     ]
    },
    {
     "name": "stderr",
     "output_type": "stream",
     "text": [
      "[Succeeded / Failed / Skipped / Total] 176 / 8 / 76 / 260:  52%|██████████▉          | 260/500 [03:41<03:24,  1.17it/s]textattack: Saving checkpoint under \"checkpoints\\1720204395553.ta.chkpt\" at 2024-07-06 02:33:15 after 260 attacks.\n"
     ]
    },
    {
     "name": "stdout",
     "output_type": "stream",
     "text": [
      "\n",
      "\n",
      "=============================================================================================================================\n",
      "=============================================================================================================================\n",
      "\n"
     ]
    },
    {
     "name": "stderr",
     "output_type": "stream",
     "text": [
      "[Succeeded / Failed / Skipped / Total] 181 / 8 / 76 / 265:  53%|███████████▏         | 265/500 [03:47<03:21,  1.17it/s]textattack: Saving checkpoint under \"checkpoints\\1720204401288.ta.chkpt\" at 2024-07-06 02:33:21 after 265 attacks.\n"
     ]
    },
    {
     "name": "stdout",
     "output_type": "stream",
     "text": [
      "\n",
      "\n",
      "=============================================================================================================================\n",
      "=============================================================================================================================\n",
      "\n"
     ]
    },
    {
     "name": "stderr",
     "output_type": "stream",
     "text": [
      "[Succeeded / Failed / Skipped / Total] 184 / 8 / 78 / 270:  54%|███████████▎         | 270/500 [03:56<03:21,  1.14it/s]textattack: Saving checkpoint under \"checkpoints\\1720204410415.ta.chkpt\" at 2024-07-06 02:33:30 after 270 attacks.\n",
      "[Succeeded / Failed / Skipped / Total] 184 / 8 / 79 / 271:  54%|███████████▍         | 271/500 [03:56<03:19,  1.15it/s]"
     ]
    },
    {
     "name": "stdout",
     "output_type": "stream",
     "text": [
      "\n",
      "\n",
      "=============================================================================================================================\n",
      "=============================================================================================================================\n",
      "\n"
     ]
    },
    {
     "name": "stderr",
     "output_type": "stream",
     "text": [
      "[Succeeded / Failed / Skipped / Total] 187 / 8 / 80 / 275:  55%|███████████▌         | 275/500 [03:58<03:15,  1.15it/s]textattack: Saving checkpoint under \"checkpoints\\1720204412533.ta.chkpt\" at 2024-07-06 02:33:32 after 275 attacks.\n"
     ]
    },
    {
     "name": "stdout",
     "output_type": "stream",
     "text": [
      "\n",
      "\n",
      "=============================================================================================================================\n",
      "=============================================================================================================================\n",
      "\n"
     ]
    },
    {
     "name": "stderr",
     "output_type": "stream",
     "text": [
      "[Succeeded / Failed / Skipped / Total] 190 / 9 / 81 / 280:  56%|███████████▊         | 280/500 [04:03<03:10,  1.15it/s]textattack: Saving checkpoint under \"checkpoints\\1720204417002.ta.chkpt\" at 2024-07-06 02:33:37 after 280 attacks.\n"
     ]
    },
    {
     "name": "stdout",
     "output_type": "stream",
     "text": [
      "\n",
      "\n",
      "=============================================================================================================================\n",
      "=============================================================================================================================\n",
      "\n"
     ]
    },
    {
     "name": "stderr",
     "output_type": "stream",
     "text": [
      "[Succeeded / Failed / Skipped / Total] 194 / 9 / 82 / 285:  57%|███████████▉         | 285/500 [04:06<03:05,  1.16it/s]textattack: Saving checkpoint under \"checkpoints\\1720204420253.ta.chkpt\" at 2024-07-06 02:33:40 after 285 attacks.\n"
     ]
    },
    {
     "name": "stdout",
     "output_type": "stream",
     "text": [
      "\n",
      "\n",
      "=============================================================================================================================\n",
      "=============================================================================================================================\n",
      "\n"
     ]
    },
    {
     "name": "stderr",
     "output_type": "stream",
     "text": [
      "[Succeeded / Failed / Skipped / Total] 199 / 9 / 82 / 290:  58%|████████████▏        | 290/500 [04:13<03:03,  1.15it/s]textattack: Saving checkpoint under \"checkpoints\\1720204427191.ta.chkpt\" at 2024-07-06 02:33:47 after 290 attacks.\n",
      "[Succeeded / Failed / Skipped / Total] 199 / 9 / 84 / 292:  58%|████████████▎        | 292/500 [04:13<03:00,  1.15it/s]"
     ]
    },
    {
     "name": "stdout",
     "output_type": "stream",
     "text": [
      "\n",
      "\n",
      "=============================================================================================================================\n",
      "=============================================================================================================================\n",
      "\n"
     ]
    },
    {
     "name": "stderr",
     "output_type": "stream",
     "text": [
      "[Succeeded / Failed / Skipped / Total] 201 / 9 / 85 / 295:  59%|████████████▍        | 295/500 [04:14<02:56,  1.16it/s]textattack: Saving checkpoint under \"checkpoints\\1720204428675.ta.chkpt\" at 2024-07-06 02:33:48 after 295 attacks.\n"
     ]
    },
    {
     "name": "stdout",
     "output_type": "stream",
     "text": [
      "\n",
      "\n",
      "=============================================================================================================================\n",
      "=============================================================================================================================\n",
      "\n"
     ]
    },
    {
     "name": "stderr",
     "output_type": "stream",
     "text": [
      "[Succeeded / Failed / Skipped / Total] 203 / 10 / 87 / 300:  60%|████████████        | 300/500 [04:18<02:52,  1.16it/s]textattack: Saving checkpoint under \"checkpoints\\1720204432144.ta.chkpt\" at 2024-07-06 02:33:52 after 300 attacks.\n"
     ]
    },
    {
     "name": "stdout",
     "output_type": "stream",
     "text": [
      "\n",
      "\n",
      "=============================================================================================================================\n",
      "=============================================================================================================================\n",
      "\n"
     ]
    },
    {
     "name": "stderr",
     "output_type": "stream",
     "text": [
      "[Succeeded / Failed / Skipped / Total] 205 / 10 / 90 / 305:  61%|████████████▏       | 305/500 [04:20<02:46,  1.17it/s]textattack: Saving checkpoint under \"checkpoints\\1720204434158.ta.chkpt\" at 2024-07-06 02:33:54 after 305 attacks.\n"
     ]
    },
    {
     "name": "stdout",
     "output_type": "stream",
     "text": [
      "\n",
      "\n",
      "=============================================================================================================================\n",
      "=============================================================================================================================\n",
      "\n"
     ]
    },
    {
     "name": "stderr",
     "output_type": "stream",
     "text": [
      "[Succeeded / Failed / Skipped / Total] 208 / 11 / 91 / 310:  62%|████████████▍       | 310/500 [04:23<02:41,  1.18it/s]textattack: Saving checkpoint under \"checkpoints\\1720204437682.ta.chkpt\" at 2024-07-06 02:33:57 after 310 attacks.\n"
     ]
    },
    {
     "name": "stdout",
     "output_type": "stream",
     "text": [
      "\n",
      "\n",
      "=============================================================================================================================\n",
      "=============================================================================================================================\n",
      "\n"
     ]
    },
    {
     "name": "stderr",
     "output_type": "stream",
     "text": [
      "[Succeeded / Failed / Skipped / Total] 211 / 11 / 93 / 315:  63%|████████████▌       | 315/500 [04:27<02:37,  1.18it/s]textattack: Saving checkpoint under \"checkpoints\\1720204441941.ta.chkpt\" at 2024-07-06 02:34:01 after 315 attacks.\n",
      "[Succeeded / Failed / Skipped / Total] 211 / 11 / 94 / 316:  63%|████████████▋       | 316/500 [04:28<02:36,  1.18it/s]"
     ]
    },
    {
     "name": "stdout",
     "output_type": "stream",
     "text": [
      "\n",
      "\n",
      "=============================================================================================================================\n",
      "=============================================================================================================================\n",
      "\n"
     ]
    },
    {
     "name": "stderr",
     "output_type": "stream",
     "text": [
      "[Succeeded / Failed / Skipped / Total] 213 / 11 / 96 / 320:  64%|████████████▊       | 320/500 [04:35<02:34,  1.16it/s]textattack: Saving checkpoint under \"checkpoints\\1720204449410.ta.chkpt\" at 2024-07-06 02:34:09 after 320 attacks.\n",
      "[Succeeded / Failed / Skipped / Total] 213 / 11 / 97 / 321:  64%|████████████▊       | 321/500 [04:35<02:33,  1.17it/s]"
     ]
    },
    {
     "name": "stdout",
     "output_type": "stream",
     "text": [
      "\n",
      "\n",
      "=============================================================================================================================\n",
      "=============================================================================================================================\n",
      "\n"
     ]
    },
    {
     "name": "stderr",
     "output_type": "stream",
     "text": [
      "[Succeeded / Failed / Skipped / Total] 217 / 11 / 97 / 325:  65%|█████████████       | 325/500 [04:42<02:32,  1.15it/s]textattack: Saving checkpoint under \"checkpoints\\1720204456394.ta.chkpt\" at 2024-07-06 02:34:16 after 325 attacks.\n",
      "[Succeeded / Failed / Skipped / Total] 217 / 11 / 98 / 326:  65%|█████████████       | 326/500 [04:42<02:30,  1.15it/s]"
     ]
    },
    {
     "name": "stdout",
     "output_type": "stream",
     "text": [
      "\n",
      "\n",
      "=============================================================================================================================\n",
      "=============================================================================================================================\n",
      "\n"
     ]
    },
    {
     "name": "stderr",
     "output_type": "stream",
     "text": [
      "[Succeeded / Failed / Skipped / Total] 221 / 11 / 98 / 330:  66%|█████████████▏      | 330/500 [04:45<02:27,  1.16it/s]textattack: Saving checkpoint under \"checkpoints\\1720204459706.ta.chkpt\" at 2024-07-06 02:34:19 after 330 attacks.\n"
     ]
    },
    {
     "name": "stdout",
     "output_type": "stream",
     "text": [
      "\n",
      "\n",
      "=============================================================================================================================\n",
      "=============================================================================================================================\n",
      "\n"
     ]
    },
    {
     "name": "stderr",
     "output_type": "stream",
     "text": [
      "[Succeeded / Failed / Skipped / Total] 224 / 13 / 98 / 335:  67%|█████████████▍      | 335/500 [04:52<02:23,  1.15it/s]textattack: Saving checkpoint under \"checkpoints\\1720204466004.ta.chkpt\" at 2024-07-06 02:34:26 after 335 attacks.\n"
     ]
    },
    {
     "name": "stdout",
     "output_type": "stream",
     "text": [
      "\n",
      "\n",
      "=============================================================================================================================\n",
      "=============================================================================================================================\n",
      "\n"
     ]
    },
    {
     "name": "stderr",
     "output_type": "stream",
     "text": [
      "[Succeeded / Failed / Skipped / Total] 228 / 13 / 99 / 340:  68%|█████████████▌      | 340/500 [04:54<02:18,  1.15it/s]textattack: Saving checkpoint under \"checkpoints\\1720204468848.ta.chkpt\" at 2024-07-06 02:34:28 after 340 attacks.\n"
     ]
    },
    {
     "name": "stdout",
     "output_type": "stream",
     "text": [
      "\n",
      "\n",
      "=============================================================================================================================\n",
      "=============================================================================================================================\n",
      "\n"
     ]
    },
    {
     "name": "stderr",
     "output_type": "stream",
     "text": [
      "[Succeeded / Failed / Skipped / Total] 231 / 13 / 101 / 345:  69%|█████████████      | 345/500 [04:57<02:13,  1.16it/s]textattack: Saving checkpoint under \"checkpoints\\1720204471676.ta.chkpt\" at 2024-07-06 02:34:31 after 345 attacks.\n"
     ]
    },
    {
     "name": "stdout",
     "output_type": "stream",
     "text": [
      "\n",
      "\n",
      "=============================================================================================================================\n",
      "=============================================================================================================================\n",
      "\n"
     ]
    },
    {
     "name": "stderr",
     "output_type": "stream",
     "text": [
      "[Succeeded / Failed / Skipped / Total] 236 / 13 / 101 / 350:  70%|█████████████▎     | 350/500 [05:04<02:10,  1.15it/s]textattack: Saving checkpoint under \"checkpoints\\1720204478646.ta.chkpt\" at 2024-07-06 02:34:38 after 350 attacks.\n"
     ]
    },
    {
     "name": "stdout",
     "output_type": "stream",
     "text": [
      "\n",
      "\n",
      "=============================================================================================================================\n",
      "=============================================================================================================================\n",
      "\n"
     ]
    },
    {
     "name": "stderr",
     "output_type": "stream",
     "text": [
      "[Succeeded / Failed / Skipped / Total] 241 / 13 / 101 / 355:  71%|█████████████▍     | 355/500 [05:12<02:07,  1.14it/s]textattack: Saving checkpoint under \"checkpoints\\1720204486756.ta.chkpt\" at 2024-07-06 02:34:46 after 355 attacks.\n"
     ]
    },
    {
     "name": "stdout",
     "output_type": "stream",
     "text": [
      "\n",
      "\n",
      "=============================================================================================================================\n",
      "=============================================================================================================================\n",
      "\n"
     ]
    },
    {
     "name": "stderr",
     "output_type": "stream",
     "text": [
      "[Succeeded / Failed / Skipped / Total] 244 / 13 / 103 / 360:  72%|█████████████▋     | 360/500 [05:15<02:02,  1.14it/s]textattack: Saving checkpoint under \"checkpoints\\1720204489882.ta.chkpt\" at 2024-07-06 02:34:49 after 360 attacks.\n"
     ]
    },
    {
     "name": "stdout",
     "output_type": "stream",
     "text": [
      "\n",
      "\n",
      "=============================================================================================================================\n",
      "=============================================================================================================================\n",
      "\n"
     ]
    },
    {
     "name": "stderr",
     "output_type": "stream",
     "text": [
      "[Succeeded / Failed / Skipped / Total] 249 / 13 / 103 / 365:  73%|█████████████▊     | 365/500 [05:20<01:58,  1.14it/s]textattack: Saving checkpoint under \"checkpoints\\1720204494238.ta.chkpt\" at 2024-07-06 02:34:54 after 365 attacks.\n"
     ]
    },
    {
     "name": "stdout",
     "output_type": "stream",
     "text": [
      "\n",
      "\n",
      "=============================================================================================================================\n",
      "=============================================================================================================================\n",
      "\n"
     ]
    },
    {
     "name": "stderr",
     "output_type": "stream",
     "text": [
      "[Succeeded / Failed / Skipped / Total] 253 / 13 / 104 / 370:  74%|██████████████     | 370/500 [05:23<01:53,  1.14it/s]textattack: Saving checkpoint under \"checkpoints\\1720204497754.ta.chkpt\" at 2024-07-06 02:34:57 after 370 attacks.\n"
     ]
    },
    {
     "name": "stdout",
     "output_type": "stream",
     "text": [
      "\n",
      "\n",
      "=============================================================================================================================\n",
      "=============================================================================================================================\n",
      "\n"
     ]
    },
    {
     "name": "stderr",
     "output_type": "stream",
     "text": [
      "[Succeeded / Failed / Skipped / Total] 257 / 13 / 105 / 375:  75%|██████████████▎    | 375/500 [05:28<01:49,  1.14it/s]textattack: Saving checkpoint under \"checkpoints\\1720204502357.ta.chkpt\" at 2024-07-06 02:35:02 after 375 attacks.\n"
     ]
    },
    {
     "name": "stdout",
     "output_type": "stream",
     "text": [
      "\n",
      "\n",
      "=============================================================================================================================\n",
      "=============================================================================================================================\n",
      "\n"
     ]
    },
    {
     "name": "stderr",
     "output_type": "stream",
     "text": [
      "[Succeeded / Failed / Skipped / Total] 261 / 13 / 106 / 380:  76%|██████████████▍    | 380/500 [05:31<01:44,  1.15it/s]textattack: Saving checkpoint under \"checkpoints\\1720204505498.ta.chkpt\" at 2024-07-06 02:35:05 after 380 attacks.\n"
     ]
    },
    {
     "name": "stdout",
     "output_type": "stream",
     "text": [
      "\n",
      "\n",
      "=============================================================================================================================\n",
      "=============================================================================================================================\n",
      "\n"
     ]
    },
    {
     "name": "stderr",
     "output_type": "stream",
     "text": [
      "[Succeeded / Failed / Skipped / Total] 265 / 13 / 107 / 385:  77%|██████████████▋    | 385/500 [05:33<01:39,  1.15it/s]textattack: Saving checkpoint under \"checkpoints\\1720204507404.ta.chkpt\" at 2024-07-06 02:35:07 after 385 attacks.\n"
     ]
    },
    {
     "name": "stdout",
     "output_type": "stream",
     "text": [
      "\n",
      "\n",
      "=============================================================================================================================\n",
      "=============================================================================================================================\n",
      "\n"
     ]
    },
    {
     "name": "stderr",
     "output_type": "stream",
     "text": [
      "[Succeeded / Failed / Skipped / Total] 269 / 13 / 108 / 390:  78%|██████████████▊    | 390/500 [05:37<01:35,  1.15it/s]textattack: Saving checkpoint under \"checkpoints\\1720204511779.ta.chkpt\" at 2024-07-06 02:35:11 after 390 attacks.\n"
     ]
    },
    {
     "name": "stdout",
     "output_type": "stream",
     "text": [
      "\n",
      "\n",
      "=============================================================================================================================\n",
      "=============================================================================================================================\n",
      "\n"
     ]
    },
    {
     "name": "stderr",
     "output_type": "stream",
     "text": [
      "[Succeeded / Failed / Skipped / Total] 274 / 13 / 108 / 395:  79%|███████████████    | 395/500 [05:44<01:31,  1.15it/s]textattack: Saving checkpoint under \"checkpoints\\1720204518833.ta.chkpt\" at 2024-07-06 02:35:18 after 395 attacks.\n"
     ]
    },
    {
     "name": "stdout",
     "output_type": "stream",
     "text": [
      "\n",
      "\n",
      "=============================================================================================================================\n",
      "=============================================================================================================================\n",
      "\n"
     ]
    },
    {
     "name": "stderr",
     "output_type": "stream",
     "text": [
      "[Succeeded / Failed / Skipped / Total] 279 / 13 / 108 / 400:  80%|███████████████▏   | 400/500 [05:53<01:28,  1.13it/s]textattack: Saving checkpoint under \"checkpoints\\1720204527579.ta.chkpt\" at 2024-07-06 02:35:27 after 400 attacks.\n",
      "[Succeeded / Failed / Skipped / Total] 279 / 13 / 109 / 401:  80%|███████████████▏   | 401/500 [05:53<01:27,  1.13it/s]"
     ]
    },
    {
     "name": "stdout",
     "output_type": "stream",
     "text": [
      "\n",
      "\n",
      "=============================================================================================================================\n",
      "=============================================================================================================================\n",
      "\n"
     ]
    },
    {
     "name": "stderr",
     "output_type": "stream",
     "text": [
      "[Succeeded / Failed / Skipped / Total] 283 / 13 / 109 / 405:  81%|███████████████▍   | 405/500 [05:59<01:24,  1.13it/s]textattack: Saving checkpoint under \"checkpoints\\1720204533054.ta.chkpt\" at 2024-07-06 02:35:33 after 405 attacks.\n"
     ]
    },
    {
     "name": "stdout",
     "output_type": "stream",
     "text": [
      "\n",
      "\n",
      "=============================================================================================================================\n",
      "=============================================================================================================================\n",
      "\n"
     ]
    },
    {
     "name": "stderr",
     "output_type": "stream",
     "text": [
      "[Succeeded / Failed / Skipped / Total] 287 / 13 / 110 / 410:  82%|███████████████▌   | 410/500 [06:02<01:19,  1.13it/s]textattack: Saving checkpoint under \"checkpoints\\1720204536205.ta.chkpt\" at 2024-07-06 02:35:36 after 410 attacks.\n"
     ]
    },
    {
     "name": "stdout",
     "output_type": "stream",
     "text": [
      "\n",
      "\n",
      "=============================================================================================================================\n",
      "=============================================================================================================================\n",
      "\n"
     ]
    },
    {
     "name": "stderr",
     "output_type": "stream",
     "text": [
      "[Succeeded / Failed / Skipped / Total] 290 / 13 / 112 / 415:  83%|███████████████▊   | 415/500 [06:04<01:14,  1.14it/s]textattack: Saving checkpoint under \"checkpoints\\1720204538096.ta.chkpt\" at 2024-07-06 02:35:38 after 415 attacks.\n"
     ]
    },
    {
     "name": "stdout",
     "output_type": "stream",
     "text": [
      "\n",
      "\n",
      "=============================================================================================================================\n",
      "=============================================================================================================================\n",
      "\n"
     ]
    },
    {
     "name": "stderr",
     "output_type": "stream",
     "text": [
      "[Succeeded / Failed / Skipped / Total] 292 / 14 / 114 / 420:  84%|███████████████▉   | 420/500 [06:10<01:10,  1.13it/s]textattack: Saving checkpoint under \"checkpoints\\1720204544878.ta.chkpt\" at 2024-07-06 02:35:44 after 420 attacks.\n"
     ]
    },
    {
     "name": "stdout",
     "output_type": "stream",
     "text": [
      "\n",
      "\n",
      "=============================================================================================================================\n",
      "=============================================================================================================================\n",
      "\n"
     ]
    },
    {
     "name": "stderr",
     "output_type": "stream",
     "text": [
      "[Succeeded / Failed / Skipped / Total] 297 / 14 / 114 / 425:  85%|████████████████▏  | 425/500 [06:17<01:06,  1.13it/s]textattack: Saving checkpoint under \"checkpoints\\1720204551582.ta.chkpt\" at 2024-07-06 02:35:51 after 425 attacks.\n"
     ]
    },
    {
     "name": "stdout",
     "output_type": "stream",
     "text": [
      "\n",
      "\n",
      "=============================================================================================================================\n",
      "=============================================================================================================================\n",
      "\n"
     ]
    },
    {
     "name": "stderr",
     "output_type": "stream",
     "text": [
      "[Succeeded / Failed / Skipped / Total] 302 / 14 / 114 / 430:  86%|████████████████▎  | 430/500 [06:21<01:02,  1.13it/s]textattack: Saving checkpoint under \"checkpoints\\1720204555067.ta.chkpt\" at 2024-07-06 02:35:55 after 430 attacks.\n",
      "[Succeeded / Failed / Skipped / Total] 302 / 14 / 115 / 431:  86%|████████████████▍  | 431/500 [06:21<01:01,  1.13it/s]"
     ]
    },
    {
     "name": "stdout",
     "output_type": "stream",
     "text": [
      "\n",
      "\n",
      "=============================================================================================================================\n",
      "=============================================================================================================================\n",
      "\n"
     ]
    },
    {
     "name": "stderr",
     "output_type": "stream",
     "text": [
      "[Succeeded / Failed / Skipped / Total] 306 / 14 / 115 / 435:  87%|████████████████▌  | 435/500 [06:24<00:57,  1.13it/s]textattack: Saving checkpoint under \"checkpoints\\1720204558395.ta.chkpt\" at 2024-07-06 02:35:58 after 435 attacks.\n"
     ]
    },
    {
     "name": "stdout",
     "output_type": "stream",
     "text": [
      "\n",
      "\n",
      "=============================================================================================================================\n",
      "=============================================================================================================================\n",
      "\n"
     ]
    },
    {
     "name": "stderr",
     "output_type": "stream",
     "text": [
      "[Succeeded / Failed / Skipped / Total] 311 / 14 / 115 / 440:  88%|████████████████▋  | 440/500 [06:28<00:53,  1.13it/s]textattack: Saving checkpoint under \"checkpoints\\1720204562699.ta.chkpt\" at 2024-07-06 02:36:02 after 440 attacks.\n",
      "[Succeeded / Failed / Skipped / Total] 311 / 14 / 116 / 441:  88%|████████████████▊  | 441/500 [06:28<00:52,  1.13it/s]"
     ]
    },
    {
     "name": "stdout",
     "output_type": "stream",
     "text": [
      "\n",
      "\n",
      "=============================================================================================================================\n",
      "=============================================================================================================================\n",
      "\n"
     ]
    },
    {
     "name": "stderr",
     "output_type": "stream",
     "text": [
      "[Succeeded / Failed / Skipped / Total] 314 / 14 / 117 / 445:  89%|████████████████▉  | 445/500 [06:30<00:48,  1.14it/s]textattack: Saving checkpoint under \"checkpoints\\1720204564809.ta.chkpt\" at 2024-07-06 02:36:04 after 445 attacks.\n"
     ]
    },
    {
     "name": "stdout",
     "output_type": "stream",
     "text": [
      "\n",
      "\n",
      "=============================================================================================================================\n",
      "=============================================================================================================================\n",
      "\n"
     ]
    },
    {
     "name": "stderr",
     "output_type": "stream",
     "text": [
      "[Succeeded / Failed / Skipped / Total] 316 / 16 / 118 / 450:  90%|█████████████████  | 450/500 [06:37<00:44,  1.13it/s]textattack: Saving checkpoint under \"checkpoints\\1720204571263.ta.chkpt\" at 2024-07-06 02:36:11 after 450 attacks.\n",
      "[Succeeded / Failed / Skipped / Total] 316 / 16 / 119 / 451:  90%|█████████████████▏ | 451/500 [06:37<00:43,  1.14it/s]"
     ]
    },
    {
     "name": "stdout",
     "output_type": "stream",
     "text": [
      "\n",
      "\n",
      "=============================================================================================================================\n",
      "=============================================================================================================================\n",
      "\n"
     ]
    },
    {
     "name": "stderr",
     "output_type": "stream",
     "text": [
      "[Succeeded / Failed / Skipped / Total] 319 / 16 / 120 / 455:  91%|█████████████████▎ | 455/500 [06:40<00:39,  1.14it/s]textattack: Saving checkpoint under \"checkpoints\\1720204574337.ta.chkpt\" at 2024-07-06 02:36:14 after 455 attacks.\n"
     ]
    },
    {
     "name": "stdout",
     "output_type": "stream",
     "text": [
      "\n",
      "\n",
      "=============================================================================================================================\n",
      "=============================================================================================================================\n",
      "\n"
     ]
    },
    {
     "name": "stderr",
     "output_type": "stream",
     "text": [
      "[Succeeded / Failed / Skipped / Total] 324 / 16 / 120 / 460:  92%|█████████████████▍ | 460/500 [06:46<00:35,  1.13it/s]textattack: Saving checkpoint under \"checkpoints\\1720204580983.ta.chkpt\" at 2024-07-06 02:36:20 after 460 attacks.\n"
     ]
    },
    {
     "name": "stdout",
     "output_type": "stream",
     "text": [
      "\n",
      "\n",
      "=============================================================================================================================\n",
      "=============================================================================================================================\n",
      "\n"
     ]
    },
    {
     "name": "stderr",
     "output_type": "stream",
     "text": [
      "[Succeeded / Failed / Skipped / Total] 327 / 16 / 122 / 465:  93%|█████████████████▋ | 465/500 [06:49<00:30,  1.14it/s]textattack: Saving checkpoint under \"checkpoints\\1720204583248.ta.chkpt\" at 2024-07-06 02:36:23 after 465 attacks.\n"
     ]
    },
    {
     "name": "stdout",
     "output_type": "stream",
     "text": [
      "\n",
      "\n",
      "=============================================================================================================================\n",
      "=============================================================================================================================\n",
      "\n"
     ]
    },
    {
     "name": "stderr",
     "output_type": "stream",
     "text": [
      "[Succeeded / Failed / Skipped / Total] 330 / 17 / 123 / 470:  94%|█████████████████▊ | 470/500 [06:53<00:26,  1.14it/s]textattack: Saving checkpoint under \"checkpoints\\1720204587702.ta.chkpt\" at 2024-07-06 02:36:27 after 470 attacks.\n",
      "[Succeeded / Failed / Skipped / Total] 330 / 17 / 124 / 471:  94%|█████████████████▉ | 471/500 [06:53<00:25,  1.14it/s]"
     ]
    },
    {
     "name": "stdout",
     "output_type": "stream",
     "text": [
      "\n",
      "\n",
      "=============================================================================================================================\n",
      "=============================================================================================================================\n",
      "\n"
     ]
    },
    {
     "name": "stderr",
     "output_type": "stream",
     "text": [
      "[Succeeded / Failed / Skipped / Total] 334 / 17 / 124 / 475:  95%|██████████████████ | 475/500 [06:58<00:22,  1.14it/s]textattack: Saving checkpoint under \"checkpoints\\1720204592353.ta.chkpt\" at 2024-07-06 02:36:32 after 475 attacks.\n"
     ]
    },
    {
     "name": "stdout",
     "output_type": "stream",
     "text": [
      "\n",
      "\n",
      "=============================================================================================================================\n",
      "=============================================================================================================================\n",
      "\n"
     ]
    },
    {
     "name": "stderr",
     "output_type": "stream",
     "text": [
      "[Succeeded / Failed / Skipped / Total] 339 / 17 / 124 / 480:  96%|██████████████████▏| 480/500 [07:05<00:17,  1.13it/s]textattack: Saving checkpoint under \"checkpoints\\1720204599093.ta.chkpt\" at 2024-07-06 02:36:39 after 480 attacks.\n"
     ]
    },
    {
     "name": "stdout",
     "output_type": "stream",
     "text": [
      "\n",
      "\n",
      "=============================================================================================================================\n",
      "=============================================================================================================================\n",
      "\n"
     ]
    },
    {
     "name": "stderr",
     "output_type": "stream",
     "text": [
      "[Succeeded / Failed / Skipped / Total] 343 / 17 / 125 / 485:  97%|██████████████████▍| 485/500 [07:10<00:13,  1.13it/s]textattack: Saving checkpoint under \"checkpoints\\1720204604437.ta.chkpt\" at 2024-07-06 02:36:44 after 485 attacks.\n"
     ]
    },
    {
     "name": "stdout",
     "output_type": "stream",
     "text": [
      "\n",
      "\n",
      "=============================================================================================================================\n",
      "=============================================================================================================================\n",
      "\n"
     ]
    },
    {
     "name": "stderr",
     "output_type": "stream",
     "text": [
      "[Succeeded / Failed / Skipped / Total] 345 / 17 / 128 / 490:  98%|██████████████████▌| 490/500 [07:13<00:08,  1.13it/s]textattack: Saving checkpoint under \"checkpoints\\1720204607876.ta.chkpt\" at 2024-07-06 02:36:47 after 490 attacks.\n"
     ]
    },
    {
     "name": "stdout",
     "output_type": "stream",
     "text": [
      "\n",
      "\n",
      "=============================================================================================================================\n",
      "=============================================================================================================================\n",
      "\n"
     ]
    },
    {
     "name": "stderr",
     "output_type": "stream",
     "text": [
      "[Succeeded / Failed / Skipped / Total] 349 / 17 / 129 / 495:  99%|██████████████████▊| 495/500 [07:16<00:04,  1.13it/s]textattack: Saving checkpoint under \"checkpoints\\1720204610938.ta.chkpt\" at 2024-07-06 02:36:50 after 495 attacks.\n"
     ]
    },
    {
     "name": "stdout",
     "output_type": "stream",
     "text": [
      "\n",
      "\n",
      "=============================================================================================================================\n",
      "=============================================================================================================================\n",
      "\n"
     ]
    },
    {
     "name": "stderr",
     "output_type": "stream",
     "text": [
      "[Succeeded / Failed / Skipped / Total] 354 / 17 / 129 / 500: 100%|███████████████████| 500/500 [07:23<00:00,  1.13it/s]textattack: Saving checkpoint under \"checkpoints\\1720204617736.ta.chkpt\" at 2024-07-06 02:36:57 after 500 attacks.\n",
      "[Succeeded / Failed / Skipped / Total] 354 / 17 / 129 / 500: 100%|███████████████████| 500/500 [07:23<00:00,  1.13it/s]"
     ]
    },
    {
     "name": "stdout",
     "output_type": "stream",
     "text": [
      "\n",
      "\n",
      "=============================================================================================================================\n",
      "=============================================================================================================================\n",
      "\n",
      "\n",
      "+-------------------------------+--------+\n",
      "| Attack Results                |        |\n",
      "+-------------------------------+--------+\n",
      "| Number of successful attacks: | 354    |\n",
      "| Number of failed attacks:     | 17     |\n",
      "| Number of skipped attacks:    | 129    |\n",
      "| Original accuracy:            | 74.2%  |\n",
      "| Accuracy under attack:        | 3.4%   |\n",
      "| Attack success rate:          | 95.42% |\n",
      "| Average perturbed word %:     | 16.6%  |\n",
      "| Average num. words per input: | 18.4   |\n",
      "| Avg num queries:              | 39.49  |\n",
      "+-------------------------------+--------+\n"
     ]
    },
    {
     "name": "stderr",
     "output_type": "stream",
     "text": [
      "\n"
     ]
    }
   ],
   "source": [
    "runAttack(clip_model_wrapper_svc_mr, n_samples, 'attack_results_new/clipmrattacksvc'+suffix, target_ds_mr)"
   ]
  }
 ],
 "metadata": {
  "kernelspec": {
   "display_name": "Python 3 (ipykernel)",
   "language": "python",
   "name": "python3"
  },
  "language_info": {
   "codemirror_mode": {
    "name": "ipython",
    "version": 3
   },
   "file_extension": ".py",
   "mimetype": "text/x-python",
   "name": "python",
   "nbconvert_exporter": "python",
   "pygments_lexer": "ipython3",
   "version": "3.10.13"
  }
 },
 "nbformat": 4,
 "nbformat_minor": 5
}
