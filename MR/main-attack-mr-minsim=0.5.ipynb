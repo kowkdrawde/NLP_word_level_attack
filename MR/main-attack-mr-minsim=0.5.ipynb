{
 "cells": [
  {
   "cell_type": "code",
   "execution_count": 1,
   "id": "b8fb6a0b-f6d4-4649-ae5c-6bccc44bea08",
   "metadata": {
    "scrolled": true
   },
   "outputs": [],
   "source": [
    "#!pip install textattack[tensorflow,optional]\n",
    "#!pip install -U datasets"
   ]
  },
  {
   "cell_type": "code",
   "execution_count": 2,
   "id": "a6a32e48-d2fa-4420-8c45-3f9fe99d0526",
   "metadata": {},
   "outputs": [
    {
     "name": "stderr",
     "output_type": "stream",
     "text": [
      "D:\\anaconda3\\envs\\tf\\lib\\site-packages\\torchvision\\io\\image.py:13: UserWarning: Failed to load image Python extension: '[WinError 127] 找不到指定的程序。'If you don't plan on using image functionality from `torchvision.io`, you can ignore this warning. Otherwise, there might be something wrong with your environment. Did you have `libjpeg` or `libpng` installed before building `torchvision` from source?\n",
      "  warn(\n",
      "D:\\anaconda3\\envs\\tf\\lib\\site-packages\\tqdm\\auto.py:21: TqdmWarning: IProgress not found. Please update jupyter and ipywidgets. See https://ipywidgets.readthedocs.io/en/stable/user_install.html\n",
      "  from .autonotebook import tqdm as notebook_tqdm\n",
      "D:\\anaconda3\\envs\\tf\\lib\\site-packages\\transformers\\utils\\generic.py:260: UserWarning: torch.utils._pytree._register_pytree_node is deprecated. Please use torch.utils._pytree.register_pytree_node instead.\n",
      "  torch.utils._pytree._register_pytree_node(\n",
      "D:\\anaconda3\\envs\\tf\\lib\\site-packages\\transformers\\utils\\generic.py:260: UserWarning: torch.utils._pytree._register_pytree_node is deprecated. Please use torch.utils._pytree.register_pytree_node instead.\n",
      "  torch.utils._pytree._register_pytree_node(\n"
     ]
    }
   ],
   "source": [
    "import os\n",
    "import datetime\n",
    "\n",
    "import numpy as np\n",
    "import pandas as pd\n",
    "\n",
    "import torch\n",
    "import torch.nn as nn\n",
    "from torch.utils.data import DataLoader, Dataset\n",
    "import torchvision\n",
    "import tensorflow as tf\n",
    "import transformers\n",
    "from transformers import CLIPProcessor, CLIPModel\n",
    "\n",
    "import textattack\n",
    "from textattack.models.wrappers import HuggingFaceModelWrapper\n",
    "\n",
    "from sklearn.linear_model import LogisticRegression\n",
    "from sklearn.ensemble import RandomForestClassifier\n",
    "from sklearn.neighbors import KNeighborsClassifier\n",
    "from sklearn.svm import SVC\n"
   ]
  },
  {
   "cell_type": "code",
   "execution_count": 3,
   "id": "9757d84d-991f-41e0-987c-13829acd0d2d",
   "metadata": {},
   "outputs": [],
   "source": [
    "from textattack import Attack\n",
    "from textattack.constraints.grammaticality import PartOfSpeech\n",
    "from textattack.constraints.pre_transformation import (\n",
    "    InputColumnModification,\n",
    "    RepeatModification,\n",
    "    StopwordModification,\n",
    ")\n",
    "from textattack.constraints.semantics import WordEmbeddingDistance\n",
    "from textattack.constraints.semantics.sentence_encoders import UniversalSentenceEncoder\n",
    "from textattack.goal_functions import UntargetedClassification\n",
    "from textattack.search_methods import GreedyWordSwapWIR\n",
    "from textattack.transformations import WordSwapEmbedding, WordSwapWordNet \n",
    "\n",
    "from textattack.transformations.composite_transformation import CompositeTransformation\n",
    "\n",
    "from textattack.attack_recipes.attack_recipe import AttackRecipe\n",
    "\n",
    "class TFLepsilon(AttackRecipe):\n",
    "\n",
    "    @staticmethod\n",
    "    def build(model_wrapper):\n",
    "        #\n",
    "        # Swap words with their 50 closest embedding nearest-neighbors.\n",
    "        # Embedding: Counter-fitted PARAGRAM-SL999 vectors.\n",
    "        \n",
    "        ## transformation = CompositeTransformation([WordSwapWordNet(), WordSwapEmbedding(max_candidates=50)])\n",
    "        transformation = WordSwapEmbedding(max_candidates=50)\n",
    "        #\n",
    "        # Don't modify the same word twice or the stopwords defined\n",
    "        # in the TextFooler public implementation.\n",
    "        #\n",
    "        # fmt: off\n",
    "        stopwords = set(\n",
    "            [\"a\", \"about\", \"above\", \"across\", \"after\", \"afterwards\", \"again\", \"against\", \"ain\", \"all\", \n",
    "             \"almost\", \"alone\", \"along\", \"already\", \"also\", \"although\", \"am\", \"among\", \"amongst\", \"an\", \n",
    "             \"and\", \"another\", \"any\", \"anyhow\", \"anyone\", \"anything\", \"anyway\", \"anywhere\", \"are\", \"aren\",\n",
    "             \"aren't\", \"around\", \"as\", \"at\", \"back\", \"been\", \"before\", \"beforehand\", \"behind\", \"being\", \n",
    "             \"below\", \"beside\", \"besides\", \"between\", \"beyond\", \"both\", \"but\", \"by\", \"can\", \"cannot\", \n",
    "             \"could\", \"couldn\", \"couldn't\", \"d\", \"didn\", \"didn't\", \"doesn\", \"doesn't\", \"don\", \"don't\", \n",
    "             \"down\", \"due\", \"during\", \"either\", \"else\", \"elsewhere\", \"empty\", \"enough\", \"even\", \"ever\", \n",
    "             \"everyone\", \"everything\", \"everywhere\", \"except\", \"first\", \"for\", \"former\", \"formerly\",\n",
    "             \"from\", \"hadn\", \"hadn't\", \"hasn\", \"hasn't\", \"haven\", \"haven't\", \"he\", \"hence\", \"her\", \"here\", \n",
    "             \"hereafter\", \"hereby\", \"herein\", \"hereupon\", \"hers\", \"herself\", \"him\", \"himself\", \"his\", \"how\", \n",
    "             \"however\", \"hundred\", \"i\", \"if\", \"in\", \"indeed\", \"into\", \"is\", \"isn\", \"isn't\", \"it\", \"it's\", \n",
    "             \"its\", \"itself\", \"just\", \"latter\", \"latterly\", \"least\", \"ll\", \"may\", \"me\", \"meanwhile\", \n",
    "             \"mightn\", \"mightn't\", \"mine\", \"more\", \"moreover\", \"most\", \"mostly\", \"must\", \"mustn\", \"mustn't\", \n",
    "             \"my\", \"myself\", \"namely\", \"needn\", \"needn't\", \"neither\", \"never\", \"nevertheless\", \"next\", \"no\",\n",
    "             \"nobody\", \"none\", \"noone\", \"nor\", \"not\", \"nothing\", \"now\", \"nowhere\", \"o\", \"of\", \"off\", \"on\",\n",
    "             \"once\", \"one\", \"only\", \"onto\", \"or\", \"other\", \"others\", \"otherwise\", \"our\", \"ours\", \"ourselves\", \n",
    "             \"out\", \"over\", \"per\", \"please\", \"s\", \"same\", \"shan\", \"shan't\", \"she\", \"she's\", \"should've\", \n",
    "             \"shouldn\", \"shouldn't\", \"somehow\", \"something\", \"sometime\", \"somewhere\", \"such\", \"t\", \"than\", \n",
    "             \"that\", \"that'll\", \"the\", \"their\", \"theirs\", \"them\", \"themselves\", \"then\", \"thence\", \"there\", \n",
    "             \"thereafter\", \"thereby\", \"therefore\", \"therein\", \"thereupon\", \"these\", \"they\", \"this\", \"those\",\n",
    "             \"through\", \"throughout\", \"thru\", \"thus\", \"to\", \"too\", \"toward\", \"towards\", \"under\", \"unless\",\n",
    "             \"until\", \"up\", \"upon\", \"used\", \"ve\", \"was\", \"wasn\", \"wasn't\", \"we\", \"were\", \"weren\", \"weren't\",\n",
    "             \"what\", \"whatever\", \"when\", \"whence\", \"whenever\", \"where\", \"whereafter\", \"whereas\", \"whereby\", \n",
    "             \"wherein\", \"whereupon\", \"wherever\", \"whether\", \"which\", \"while\", \"whither\", \"who\", \"whoever\", \n",
    "             \"whole\", \"whom\", \"whose\", \"why\", \"with\", \"within\", \"without\", \"won\", \"won't\", \"would\", \"wouldn\",\n",
    "             \"wouldn't\", \"y\", \"yet\", \"you\", \"you'd\", \"you'll\", \"you're\", \"you've\", \"your\", \"yours\", \"yourself\",\n",
    "             \"yourselves\"]\n",
    "        )\n",
    "        # fmt: on\n",
    "        constraints = [RepeatModification(), StopwordModification(stopwords=stopwords)]\n",
    "        #\n",
    "        # During entailment, we should only edit the hypothesis - keep the premise\n",
    "        # the same.\n",
    "        #\n",
    "        input_column_modification = InputColumnModification(\n",
    "            [\"premise\", \"hypothesis\"], {\"premise\"}\n",
    "        )\n",
    "        constraints.append(input_column_modification)\n",
    "        # Minimum word embedding cosine similarity of 0.5.\n",
    "        # (The paper claims 0.7, but analysis of the released code and some empirical\n",
    "        # results show that it's 0.5.)\n",
    "        #\n",
    "        constraints.append(WordEmbeddingDistance(min_cos_sim=0.5))\n",
    "        #\n",
    "        # Only replace words with the same part of speech (or nouns with verbs)\n",
    "        #\n",
    "        constraints.append(PartOfSpeech(allow_verb_noun_swap=True))\n",
    "        #\n",
    "        # Universal Sentence Encoder with a minimum angular similarity of ε = 0.5.\n",
    "        #\n",
    "        # In the TextFooler code, they forget to divide the angle between the two\n",
    "        # embeddings by pi. So if the original threshold was that 1 - sim >= 0.5, the\n",
    "        # new threshold is 1 - (0.5) / pi = 0.840845057\n",
    "        #\n",
    "        use_constraint = UniversalSentenceEncoder(\n",
    "            threshold = 0.840845057,\n",
    "            metric=\"angular\",\n",
    "            compare_against_original=False,\n",
    "            window_size=15,\n",
    "            skip_text_shorter_than_window=True,\n",
    "        )\n",
    "        constraints.append(use_constraint)\n",
    "        #\n",
    "        # Goal is untargeted classification\n",
    "        #\n",
    "        goal_function = UntargetedClassification(model_wrapper)\n",
    "        #\n",
    "        # Greedily swap words with \"Word Importance Ranking\".\n",
    "        #\n",
    "        search_method = GreedyWordSwapWIR(wir_method=\"delete\")\n",
    "\n",
    "        return Attack(goal_function, constraints, transformation, search_method)\n"
   ]
  },
  {
   "cell_type": "code",
   "execution_count": 4,
   "id": "bc8fc32a-2438-4054-9cf8-ff005ec06dab",
   "metadata": {},
   "outputs": [],
   "source": [
    "def runAttack(model_wrapper, n, path, target_ds):\n",
    "    # used TFLepsilon\n",
    "    attack = TFLepsilon.build(model_wrapper)\n",
    "    attack_args = textattack.AttackArgs(num_examples=n, log_to_csv=path, shuffle=True, #parallel=True,\n",
    "                                        checkpoint_interval=5, checkpoint_dir='checkpoints', \n",
    "                                        disable_stdout=True)\n",
    "    attacker = textattack.Attacker(attack, target_ds, attack_args)\n",
    "    attacker.attack_dataset()"
   ]
  },
  {
   "cell_type": "code",
   "execution_count": 5,
   "id": "76181ead-393f-4d43-9067-0f25ca726eb7",
   "metadata": {},
   "outputs": [],
   "source": [
    "# classifiers\n",
    "def adaptation(train_set, test_set):\n",
    "    lr = LogisticRegression(solver='saga', multi_class='multinomial')\n",
    "    rf = RandomForestClassifier(max_depth=7)\n",
    "    knn = KNeighborsClassifier(n_neighbors=7)\n",
    "    svc = SVC(kernel='linear', probability=True)\n",
    "    \n",
    "    trainX = train_set.iloc[:,:-1]\n",
    "    trainY = train_set.iloc[:,-1]\n",
    "    testX = test_set.iloc[:,:-1]\n",
    "    testY = test_set.iloc[:,-1]\n",
    "    \n",
    "    for key, clf in {'Log Reg':lr, 'RF':rf, 'KNN':knn, 'SVC':svc}.items():\n",
    "        clf.fit(trainX, trainY) # fit train data\n",
    "        pred = clf.predict(testX) # predict test set\n",
    "\n",
    "        # print accuracy\n",
    "        print(key, (pred==np.array(testY)).sum()/len(pred))\n",
    "\n",
    "    return lr, rf, knn, svc"
   ]
  },
  {
   "cell_type": "code",
   "execution_count": 6,
   "id": "ddf441b8-c100-416a-a704-b16437e62ed5",
   "metadata": {},
   "outputs": [
    {
     "name": "stderr",
     "output_type": "stream",
     "text": [
      "textattack: Loading \u001b[94mdatasets\u001b[0m dataset \u001b[94mrotten_tomatoes\u001b[0m, split \u001b[94mtest\u001b[0m.\n"
     ]
    }
   ],
   "source": [
    "target_ds_mr = textattack.datasets.HuggingFaceDataset('rotten_tomatoes', split='test')"
   ]
  },
  {
   "cell_type": "code",
   "execution_count": 7,
   "id": "e5324e79-2fe0-478f-9ebe-5c7b649258d1",
   "metadata": {},
   "outputs": [],
   "source": [
    "suffix = 'sim05.csv'\n",
    "n_samples =500"
   ]
  },
  {
   "cell_type": "markdown",
   "id": "0e13b205-9c12-4f2e-9bcb-b7a26f7a0f7f",
   "metadata": {},
   "source": [
    "### BERT-based-uncased"
   ]
  },
  {
   "cell_type": "code",
   "execution_count": 8,
   "id": "ece98501-61d1-44c5-946e-b4b41e046d6e",
   "metadata": {},
   "outputs": [
    {
     "name": "stderr",
     "output_type": "stream",
     "text": [
      "D:\\anaconda3\\envs\\tf\\lib\\site-packages\\huggingface_hub\\file_download.py:1132: FutureWarning: `resume_download` is deprecated and will be removed in version 1.0.0. Downloads always resume when possible. If you want to force a new download, use `force_download=True`.\n",
      "  warnings.warn(\n",
      "D:\\anaconda3\\envs\\tf\\lib\\site-packages\\transformers\\utils\\generic.py:260: UserWarning: torch.utils._pytree._register_pytree_node is deprecated. Please use torch.utils._pytree.register_pytree_node instead.\n",
      "  torch.utils._pytree._register_pytree_node(\n"
     ]
    }
   ],
   "source": [
    "# bert-based-uncased\n",
    "model_path1 = 'bert-base-uncased'\n",
    "\n",
    "bert_model = transformers.AutoModel.from_pretrained(model_path1)\n",
    "bert_tokenizer = transformers.AutoTokenizer.from_pretrained(model_path1)"
   ]
  },
  {
   "cell_type": "code",
   "execution_count": 9,
   "id": "f0180798-ce40-4a40-b8fb-b3b681aa14e2",
   "metadata": {},
   "outputs": [
    {
     "name": "stderr",
     "output_type": "stream",
     "text": [
      "D:\\anaconda3\\envs\\tf\\lib\\site-packages\\sklearn\\linear_model\\_sag.py:350: ConvergenceWarning: The max_iter was reached which means the coef_ did not converge\n",
      "  warnings.warn(\n"
     ]
    },
    {
     "name": "stdout",
     "output_type": "stream",
     "text": [
      "Log Reg 0.8105065666041276\n",
      "RF 0.7298311444652908\n",
      "KNN 0.6801125703564728\n",
      "SVC 0.8030018761726079\n"
     ]
    }
   ],
   "source": [
    "bertmrtrain = pd.read_csv('dataset_embeddings/bertmrtrain.txt', header=None)\n",
    "bertmrtest = pd.read_csv('dataset_embeddings/bertmrtest.txt', header=None)\n",
    "lr_bert_mr, rf_bert_mr, knn_bert_mr, svc_bert_mr = adaptation(bertmrtrain, bertmrtest)"
   ]
  },
  {
   "cell_type": "code",
   "execution_count": 10,
   "id": "488edfed-58de-472a-9afa-7dff844a3e85",
   "metadata": {},
   "outputs": [],
   "source": [
    "# custom model wrapper for CLIP\n",
    "class BERTModelWrapper(HuggingFaceModelWrapper):\n",
    "    def __init__(self, processor, text_encoder, classifier):\n",
    "        self.processor = processor\n",
    "        self.model = text_encoder\n",
    "        self.classifier = classifier\n",
    "\n",
    "    def __call__(self, text_input_list):\n",
    "        inputs = self.processor(text_input_list, return_tensors='pt', padding=True, truncation=True)\n",
    "        outputs = self.model(**inputs).pooler_output\n",
    "        with torch.no_grad():\n",
    "            preds = self.classifier.predict_proba(outputs)\n",
    "        return preds"
   ]
  },
  {
   "cell_type": "code",
   "execution_count": 11,
   "id": "4a2ce5ae-2225-4f66-a33c-b2ea0665cc4d",
   "metadata": {},
   "outputs": [],
   "source": [
    "bert_model_wrapper_lr_mr = BERTModelWrapper(bert_tokenizer, bert_model, lr_bert_mr)\n",
    "bert_model_wrapper_rf_mr = BERTModelWrapper(bert_tokenizer, bert_model, rf_bert_mr)\n",
    "bert_model_wrapper_knn_mr = BERTModelWrapper(bert_tokenizer, bert_model, knn_bert_mr)\n",
    "bert_model_wrapper_svc_mr = BERTModelWrapper(bert_tokenizer, bert_model, svc_bert_mr)"
   ]
  },
  {
   "cell_type": "code",
   "execution_count": 12,
   "id": "792065e0-20be-4083-a1dc-fb79b1c832b9",
   "metadata": {
    "scrolled": true
   },
   "outputs": [
    {
     "name": "stderr",
     "output_type": "stream",
     "text": [
      "textattack: Unknown if model of class <class 'transformers.models.bert.modeling_bert.BertModel'> compatible with goal function <class 'textattack.goal_functions.classification.untargeted_classification.UntargetedClassification'>.\n",
      "textattack: Logging to CSV at path attack_results_new/bertmrattacklrsim05.csv\n"
     ]
    },
    {
     "name": "stdout",
     "output_type": "stream",
     "text": [
      "Attack(\n",
      "  (search_method): GreedyWordSwapWIR(\n",
      "    (wir_method):  delete\n",
      "  )\n",
      "  (goal_function):  UntargetedClassification\n",
      "  (transformation):  WordSwapEmbedding(\n",
      "    (max_candidates):  50\n",
      "    (embedding):  WordEmbedding\n",
      "  )\n",
      "  (constraints): \n",
      "    (0): WordEmbeddingDistance(\n",
      "        (embedding):  WordEmbedding\n",
      "        (min_cos_sim):  0.5\n",
      "        (cased):  False\n",
      "        (include_unknown_words):  True\n",
      "        (compare_against_original):  True\n",
      "      )\n",
      "    (1): PartOfSpeech(\n",
      "        (tagger_type):  nltk\n",
      "        (tagset):  universal\n",
      "        (allow_verb_noun_swap):  True\n",
      "        (compare_against_original):  True\n",
      "      )\n",
      "    (2): UniversalSentenceEncoder(\n",
      "        (metric):  angular\n",
      "        (threshold):  0.840845057\n",
      "        (window_size):  15\n",
      "        (skip_text_shorter_than_window):  True\n",
      "        (compare_against_original):  False\n",
      "      )\n",
      "    (3): RepeatModification\n",
      "    (4): StopwordModification\n",
      "    (5): InputColumnModification(\n",
      "        (matching_column_labels):  ['premise', 'hypothesis']\n",
      "        (columns_to_ignore):  {'premise'}\n",
      "      )\n",
      "  (is_black_box):  True\n",
      ") \n",
      "\n"
     ]
    },
    {
     "name": "stderr",
     "output_type": "stream",
     "text": [
      "[Succeeded / Failed / Skipped / Total] 4 / 0 / 1 / 5:   1%|▎                           | 5/500 [00:27<45:46,  5.55s/it]textattack: Saving checkpoint under \"checkpoints\\1720171717590.ta.chkpt\" at 2024-07-05 17:28:37 after 5 attacks.\n",
      "[Succeeded / Failed / Skipped / Total] 4 / 0 / 3 / 7:   1%|▍                           | 7/500 [00:27<32:48,  3.99s/it]"
     ]
    },
    {
     "name": "stdout",
     "output_type": "stream",
     "text": [
      "\n",
      "\n",
      "=============================================================================================================================\n",
      "=============================================================================================================================\n",
      "\n"
     ]
    },
    {
     "name": "stderr",
     "output_type": "stream",
     "text": [
      "[Succeeded / Failed / Skipped / Total] 6 / 0 / 4 / 10:   2%|▌                         | 10/500 [00:37<30:56,  3.79s/it]textattack: Saving checkpoint under \"checkpoints\\1720171727731.ta.chkpt\" at 2024-07-05 17:28:47 after 10 attacks.\n"
     ]
    },
    {
     "name": "stdout",
     "output_type": "stream",
     "text": [
      "\n",
      "\n",
      "=============================================================================================================================\n",
      "=============================================================================================================================\n",
      "\n"
     ]
    },
    {
     "name": "stderr",
     "output_type": "stream",
     "text": [
      "[Succeeded / Failed / Skipped / Total] 11 / 0 / 4 / 15:   3%|▊                        | 15/500 [01:06<35:46,  4.43s/it]textattack: Saving checkpoint under \"checkpoints\\1720171756231.ta.chkpt\" at 2024-07-05 17:29:16 after 15 attacks.\n"
     ]
    },
    {
     "name": "stdout",
     "output_type": "stream",
     "text": [
      "\n",
      "\n",
      "=============================================================================================================================\n",
      "=============================================================================================================================\n",
      "\n"
     ]
    },
    {
     "name": "stderr",
     "output_type": "stream",
     "text": [
      "[Succeeded / Failed / Skipped / Total] 14 / 1 / 5 / 20:   4%|█                        | 20/500 [01:12<28:49,  3.60s/it]textattack: Saving checkpoint under \"checkpoints\\1720171761893.ta.chkpt\" at 2024-07-05 17:29:21 after 20 attacks.\n"
     ]
    },
    {
     "name": "stdout",
     "output_type": "stream",
     "text": [
      "\n",
      "\n",
      "=============================================================================================================================\n",
      "=============================================================================================================================\n",
      "\n"
     ]
    },
    {
     "name": "stderr",
     "output_type": "stream",
     "text": [
      "[Succeeded / Failed / Skipped / Total] 18 / 1 / 6 / 25:   5%|█▎                       | 25/500 [01:23<26:23,  3.33s/it]textattack: Saving checkpoint under \"checkpoints\\1720171773203.ta.chkpt\" at 2024-07-05 17:29:33 after 25 attacks.\n"
     ]
    },
    {
     "name": "stdout",
     "output_type": "stream",
     "text": [
      "\n",
      "\n",
      "=============================================================================================================================\n",
      "=============================================================================================================================\n",
      "\n"
     ]
    },
    {
     "name": "stderr",
     "output_type": "stream",
     "text": [
      "[Succeeded / Failed / Skipped / Total] 23 / 1 / 6 / 30:   6%|█▌                       | 30/500 [01:39<25:59,  3.32s/it]textattack: Saving checkpoint under \"checkpoints\\1720171789384.ta.chkpt\" at 2024-07-05 17:29:49 after 30 attacks.\n"
     ]
    },
    {
     "name": "stdout",
     "output_type": "stream",
     "text": [
      "\n",
      "\n",
      "=============================================================================================================================\n",
      "=============================================================================================================================\n",
      "\n"
     ]
    },
    {
     "name": "stderr",
     "output_type": "stream",
     "text": [
      "[Succeeded / Failed / Skipped / Total] 27 / 1 / 7 / 35:   7%|█▊                       | 35/500 [01:50<24:25,  3.15s/it]textattack: Saving checkpoint under \"checkpoints\\1720171800171.ta.chkpt\" at 2024-07-05 17:30:00 after 35 attacks.\n"
     ]
    },
    {
     "name": "stdout",
     "output_type": "stream",
     "text": [
      "\n",
      "\n",
      "=============================================================================================================================\n",
      "=============================================================================================================================\n",
      "\n"
     ]
    },
    {
     "name": "stderr",
     "output_type": "stream",
     "text": [
      "[Succeeded / Failed / Skipped / Total] 29 / 1 / 10 / 40:   8%|█▉                      | 40/500 [01:59<22:48,  2.98s/it]textattack: Saving checkpoint under \"checkpoints\\1720171808883.ta.chkpt\" at 2024-07-05 17:30:08 after 40 attacks.\n"
     ]
    },
    {
     "name": "stdout",
     "output_type": "stream",
     "text": [
      "\n",
      "\n",
      "=============================================================================================================================\n",
      "=============================================================================================================================\n",
      "\n"
     ]
    },
    {
     "name": "stderr",
     "output_type": "stream",
     "text": [
      "[Succeeded / Failed / Skipped / Total] 33 / 1 / 11 / 45:   9%|██▏                     | 45/500 [02:14<22:39,  2.99s/it]textattack: Saving checkpoint under \"checkpoints\\1720171824316.ta.chkpt\" at 2024-07-05 17:30:24 after 45 attacks.\n"
     ]
    },
    {
     "name": "stdout",
     "output_type": "stream",
     "text": [
      "\n",
      "\n",
      "=============================================================================================================================\n",
      "=============================================================================================================================\n",
      "\n"
     ]
    },
    {
     "name": "stderr",
     "output_type": "stream",
     "text": [
      "[Succeeded / Failed / Skipped / Total] 38 / 1 / 11 / 50:  10%|██▍                     | 50/500 [02:31<22:41,  3.03s/it]textattack: Saving checkpoint under \"checkpoints\\1720171841169.ta.chkpt\" at 2024-07-05 17:30:41 after 50 attacks.\n"
     ]
    },
    {
     "name": "stdout",
     "output_type": "stream",
     "text": [
      "\n",
      "\n",
      "=============================================================================================================================\n",
      "=============================================================================================================================\n",
      "\n"
     ]
    },
    {
     "name": "stderr",
     "output_type": "stream",
     "text": [
      "[Succeeded / Failed / Skipped / Total] 43 / 1 / 11 / 55:  11%|██▋                     | 55/500 [02:43<22:05,  2.98s/it]textattack: Saving checkpoint under \"checkpoints\\1720171853707.ta.chkpt\" at 2024-07-05 17:30:53 after 55 attacks.\n"
     ]
    },
    {
     "name": "stdout",
     "output_type": "stream",
     "text": [
      "\n",
      "\n",
      "=============================================================================================================================\n",
      "=============================================================================================================================\n",
      "\n"
     ]
    },
    {
     "name": "stderr",
     "output_type": "stream",
     "text": [
      "[Succeeded / Failed / Skipped / Total] 47 / 1 / 12 / 60:  12%|██▉                     | 60/500 [02:54<21:21,  2.91s/it]textattack: Saving checkpoint under \"checkpoints\\1720171864605.ta.chkpt\" at 2024-07-05 17:31:04 after 60 attacks.\n",
      "[Succeeded / Failed / Skipped / Total] 47 / 1 / 13 / 61:  12%|██▉                     | 61/500 [02:54<20:58,  2.87s/it]"
     ]
    },
    {
     "name": "stdout",
     "output_type": "stream",
     "text": [
      "\n",
      "\n",
      "=============================================================================================================================\n",
      "=============================================================================================================================\n",
      "\n"
     ]
    },
    {
     "name": "stderr",
     "output_type": "stream",
     "text": [
      "[Succeeded / Failed / Skipped / Total] 51 / 1 / 13 / 65:  13%|███                     | 65/500 [03:04<20:34,  2.84s/it]textattack: Saving checkpoint under \"checkpoints\\1720171874237.ta.chkpt\" at 2024-07-05 17:31:14 after 65 attacks.\n"
     ]
    },
    {
     "name": "stdout",
     "output_type": "stream",
     "text": [
      "\n",
      "\n",
      "=============================================================================================================================\n",
      "=============================================================================================================================\n",
      "\n"
     ]
    },
    {
     "name": "stderr",
     "output_type": "stream",
     "text": [
      "[Succeeded / Failed / Skipped / Total] 55 / 1 / 14 / 70:  14%|███▎                    | 70/500 [03:18<20:21,  2.84s/it]textattack: Saving checkpoint under \"checkpoints\\1720171888681.ta.chkpt\" at 2024-07-05 17:31:28 after 70 attacks.\n"
     ]
    },
    {
     "name": "stdout",
     "output_type": "stream",
     "text": [
      "\n",
      "\n",
      "=============================================================================================================================\n",
      "=============================================================================================================================\n",
      "\n"
     ]
    },
    {
     "name": "stderr",
     "output_type": "stream",
     "text": [
      "[Succeeded / Failed / Skipped / Total] 59 / 1 / 15 / 75:  15%|███▌                    | 75/500 [03:24<19:18,  2.73s/it]textattack: Saving checkpoint under \"checkpoints\\1720171894227.ta.chkpt\" at 2024-07-05 17:31:34 after 75 attacks.\n",
      "[Succeeded / Failed / Skipped / Total] 59 / 1 / 16 / 76:  15%|███▋                    | 76/500 [03:24<19:00,  2.69s/it]"
     ]
    },
    {
     "name": "stdout",
     "output_type": "stream",
     "text": [
      "\n",
      "\n",
      "=============================================================================================================================\n",
      "=============================================================================================================================\n",
      "\n"
     ]
    },
    {
     "name": "stderr",
     "output_type": "stream",
     "text": [
      "[Succeeded / Failed / Skipped / Total] 62 / 1 / 17 / 80:  16%|███▊                    | 80/500 [03:41<19:21,  2.77s/it]textattack: Saving checkpoint under \"checkpoints\\1720171911134.ta.chkpt\" at 2024-07-05 17:31:51 after 80 attacks.\n"
     ]
    },
    {
     "name": "stdout",
     "output_type": "stream",
     "text": [
      "\n",
      "\n",
      "=============================================================================================================================\n",
      "=============================================================================================================================\n",
      "\n"
     ]
    },
    {
     "name": "stderr",
     "output_type": "stream",
     "text": [
      "[Succeeded / Failed / Skipped / Total] 65 / 1 / 19 / 85:  17%|████                    | 85/500 [03:46<18:23,  2.66s/it]textattack: Saving checkpoint under \"checkpoints\\1720171915873.ta.chkpt\" at 2024-07-05 17:31:55 after 85 attacks.\n"
     ]
    },
    {
     "name": "stdout",
     "output_type": "stream",
     "text": [
      "\n",
      "\n",
      "=============================================================================================================================\n",
      "=============================================================================================================================\n",
      "\n"
     ]
    },
    {
     "name": "stderr",
     "output_type": "stream",
     "text": [
      "[Succeeded / Failed / Skipped / Total] 70 / 1 / 19 / 90:  18%|████▎                   | 90/500 [04:02<18:22,  2.69s/it]textattack: Saving checkpoint under \"checkpoints\\1720171931877.ta.chkpt\" at 2024-07-05 17:32:11 after 90 attacks.\n",
      "[Succeeded / Failed / Skipped / Total] 70 / 1 / 21 / 92:  18%|████▍                   | 92/500 [04:02<17:54,  2.63s/it]"
     ]
    },
    {
     "name": "stdout",
     "output_type": "stream",
     "text": [
      "\n",
      "\n",
      "=============================================================================================================================\n",
      "=============================================================================================================================\n",
      "\n"
     ]
    },
    {
     "name": "stderr",
     "output_type": "stream",
     "text": [
      "[Succeeded / Failed / Skipped / Total] 73 / 1 / 21 / 95:  19%|████▌                   | 95/500 [04:11<17:51,  2.65s/it]textattack: Saving checkpoint under \"checkpoints\\1720171941216.ta.chkpt\" at 2024-07-05 17:32:21 after 95 attacks.\n"
     ]
    },
    {
     "name": "stdout",
     "output_type": "stream",
     "text": [
      "\n",
      "\n",
      "=============================================================================================================================\n",
      "=============================================================================================================================\n",
      "\n"
     ]
    },
    {
     "name": "stderr",
     "output_type": "stream",
     "text": [
      "[Succeeded / Failed / Skipped / Total] 78 / 1 / 21 / 100:  20%|████▍                 | 100/500 [04:30<18:00,  2.70s/it]textattack: Saving checkpoint under \"checkpoints\\1720171959905.ta.chkpt\" at 2024-07-05 17:32:39 after 100 attacks.\n",
      "[Succeeded / Failed / Skipped / Total] 78 / 1 / 22 / 101:  20%|████▍                 | 101/500 [04:30<17:47,  2.68s/it]"
     ]
    },
    {
     "name": "stdout",
     "output_type": "stream",
     "text": [
      "\n",
      "\n",
      "=============================================================================================================================\n",
      "=============================================================================================================================\n",
      "\n"
     ]
    },
    {
     "name": "stderr",
     "output_type": "stream",
     "text": [
      "[Succeeded / Failed / Skipped / Total] 82 / 1 / 22 / 105:  21%|████▌                 | 105/500 [04:53<18:22,  2.79s/it]textattack: Saving checkpoint under \"checkpoints\\1720171982874.ta.chkpt\" at 2024-07-05 17:33:02 after 105 attacks.\n"
     ]
    },
    {
     "name": "stdout",
     "output_type": "stream",
     "text": [
      "\n",
      "\n",
      "=============================================================================================================================\n",
      "=============================================================================================================================\n",
      "\n"
     ]
    },
    {
     "name": "stderr",
     "output_type": "stream",
     "text": [
      "[Succeeded / Failed / Skipped / Total] 85 / 1 / 24 / 110:  22%|████▊                 | 110/500 [05:05<18:01,  2.77s/it]textattack: Saving checkpoint under \"checkpoints\\1720171995012.ta.chkpt\" at 2024-07-05 17:33:15 after 110 attacks.\n",
      "[Succeeded / Failed / Skipped / Total] 85 / 1 / 25 / 111:  22%|████▉                 | 111/500 [05:05<17:49,  2.75s/it]"
     ]
    },
    {
     "name": "stdout",
     "output_type": "stream",
     "text": [
      "\n",
      "\n",
      "=============================================================================================================================\n",
      "=============================================================================================================================\n",
      "\n"
     ]
    },
    {
     "name": "stderr",
     "output_type": "stream",
     "text": [
      "[Succeeded / Failed / Skipped / Total] 89 / 1 / 25 / 115:  23%|█████                 | 115/500 [05:31<18:30,  2.88s/it]textattack: Saving checkpoint under \"checkpoints\\1720172021530.ta.chkpt\" at 2024-07-05 17:33:41 after 115 attacks.\n"
     ]
    },
    {
     "name": "stdout",
     "output_type": "stream",
     "text": [
      "\n",
      "\n",
      "=============================================================================================================================\n",
      "=============================================================================================================================\n",
      "\n"
     ]
    },
    {
     "name": "stderr",
     "output_type": "stream",
     "text": [
      "[Succeeded / Failed / Skipped / Total] 92 / 1 / 27 / 120:  24%|█████▎                | 120/500 [05:42<18:03,  2.85s/it]textattack: Saving checkpoint under \"checkpoints\\1720172031931.ta.chkpt\" at 2024-07-05 17:33:51 after 120 attacks.\n"
     ]
    },
    {
     "name": "stdout",
     "output_type": "stream",
     "text": [
      "\n",
      "\n",
      "=============================================================================================================================\n",
      "=============================================================================================================================\n",
      "\n"
     ]
    },
    {
     "name": "stderr",
     "output_type": "stream",
     "text": [
      "[Succeeded / Failed / Skipped / Total] 97 / 1 / 27 / 125:  25%|█████▌                | 125/500 [05:56<17:50,  2.85s/it]textattack: Saving checkpoint under \"checkpoints\\1720172046660.ta.chkpt\" at 2024-07-05 17:34:06 after 125 attacks.\n",
      "[Succeeded / Failed / Skipped / Total] 97 / 1 / 28 / 126:  25%|█████▌                | 126/500 [05:56<17:39,  2.83s/it]"
     ]
    },
    {
     "name": "stdout",
     "output_type": "stream",
     "text": [
      "\n",
      "\n",
      "=============================================================================================================================\n",
      "=============================================================================================================================\n",
      "\n"
     ]
    },
    {
     "name": "stderr",
     "output_type": "stream",
     "text": [
      "[Succeeded / Failed / Skipped / Total] 101 / 1 / 28 / 130:  26%|█████▍               | 130/500 [06:08<17:28,  2.83s/it]textattack: Saving checkpoint under \"checkpoints\\1720172058074.ta.chkpt\" at 2024-07-05 17:34:18 after 130 attacks.\n",
      "[Succeeded / Failed / Skipped / Total] 101 / 1 / 29 / 131:  26%|█████▌               | 131/500 [06:08<17:17,  2.81s/it]"
     ]
    },
    {
     "name": "stdout",
     "output_type": "stream",
     "text": [
      "\n",
      "\n",
      "=============================================================================================================================\n",
      "=============================================================================================================================\n",
      "\n"
     ]
    },
    {
     "name": "stderr",
     "output_type": "stream",
     "text": [
      "[Succeeded / Failed / Skipped / Total] 105 / 1 / 29 / 135:  27%|█████▋               | 135/500 [06:18<17:03,  2.80s/it]textattack: Saving checkpoint under \"checkpoints\\1720172068422.ta.chkpt\" at 2024-07-05 17:34:28 after 135 attacks.\n"
     ]
    },
    {
     "name": "stdout",
     "output_type": "stream",
     "text": [
      "\n",
      "\n",
      "=============================================================================================================================\n",
      "=============================================================================================================================\n",
      "\n"
     ]
    },
    {
     "name": "stderr",
     "output_type": "stream",
     "text": [
      "[Succeeded / Failed / Skipped / Total] 110 / 1 / 29 / 140:  28%|█████▉               | 140/500 [06:32<16:50,  2.81s/it]textattack: Saving checkpoint under \"checkpoints\\1720172082848.ta.chkpt\" at 2024-07-05 17:34:42 after 140 attacks.\n"
     ]
    },
    {
     "name": "stdout",
     "output_type": "stream",
     "text": [
      "\n",
      "\n",
      "=============================================================================================================================\n",
      "=============================================================================================================================\n",
      "\n"
     ]
    },
    {
     "name": "stderr",
     "output_type": "stream",
     "text": [
      "[Succeeded / Failed / Skipped / Total] 114 / 1 / 30 / 145:  29%|██████               | 145/500 [06:41<16:24,  2.77s/it]textattack: Saving checkpoint under \"checkpoints\\1720172091777.ta.chkpt\" at 2024-07-05 17:34:51 after 145 attacks.\n"
     ]
    },
    {
     "name": "stdout",
     "output_type": "stream",
     "text": [
      "\n",
      "\n",
      "=============================================================================================================================\n",
      "=============================================================================================================================\n",
      "\n"
     ]
    },
    {
     "name": "stderr",
     "output_type": "stream",
     "text": [
      "[Succeeded / Failed / Skipped / Total] 115 / 1 / 34 / 150:  30%|██████▎              | 150/500 [06:45<15:46,  2.70s/it]textattack: Saving checkpoint under \"checkpoints\\1720172095464.ta.chkpt\" at 2024-07-05 17:34:55 after 150 attacks.\n"
     ]
    },
    {
     "name": "stdout",
     "output_type": "stream",
     "text": [
      "\n",
      "\n",
      "=============================================================================================================================\n",
      "=============================================================================================================================\n",
      "\n"
     ]
    },
    {
     "name": "stderr",
     "output_type": "stream",
     "text": [
      "[Succeeded / Failed / Skipped / Total] 118 / 1 / 36 / 155:  31%|██████▌              | 155/500 [06:53<15:21,  2.67s/it]textattack: Saving checkpoint under \"checkpoints\\1720172103773.ta.chkpt\" at 2024-07-05 17:35:03 after 155 attacks.\n"
     ]
    },
    {
     "name": "stdout",
     "output_type": "stream",
     "text": [
      "\n",
      "\n",
      "=============================================================================================================================\n",
      "=============================================================================================================================\n",
      "\n"
     ]
    },
    {
     "name": "stderr",
     "output_type": "stream",
     "text": [
      "[Succeeded / Failed / Skipped / Total] 122 / 1 / 37 / 160:  32%|██████▋              | 160/500 [07:11<15:16,  2.69s/it]textattack: Saving checkpoint under \"checkpoints\\1720172120952.ta.chkpt\" at 2024-07-05 17:35:20 after 160 attacks.\n",
      "[Succeeded / Failed / Skipped / Total] 122 / 1 / 38 / 161:  32%|██████▊              | 161/500 [07:11<15:08,  2.68s/it]"
     ]
    },
    {
     "name": "stdout",
     "output_type": "stream",
     "text": [
      "\n",
      "\n",
      "=============================================================================================================================\n",
      "=============================================================================================================================\n",
      "\n"
     ]
    },
    {
     "name": "stderr",
     "output_type": "stream",
     "text": [
      "[Succeeded / Failed / Skipped / Total] 125 / 1 / 39 / 165:  33%|██████▉              | 165/500 [07:18<14:50,  2.66s/it]textattack: Saving checkpoint under \"checkpoints\\1720172128462.ta.chkpt\" at 2024-07-05 17:35:28 after 165 attacks.\n",
      "[Succeeded / Failed / Skipped / Total] 125 / 1 / 40 / 166:  33%|██████▉              | 166/500 [07:18<14:42,  2.64s/it]"
     ]
    },
    {
     "name": "stdout",
     "output_type": "stream",
     "text": [
      "\n",
      "\n",
      "=============================================================================================================================\n",
      "=============================================================================================================================\n",
      "\n"
     ]
    },
    {
     "name": "stderr",
     "output_type": "stream",
     "text": [
      "[Succeeded / Failed / Skipped / Total] 129 / 1 / 40 / 170:  34%|███████▏             | 170/500 [07:35<14:44,  2.68s/it]textattack: Saving checkpoint under \"checkpoints\\1720172145318.ta.chkpt\" at 2024-07-05 17:35:45 after 170 attacks.\n"
     ]
    },
    {
     "name": "stdout",
     "output_type": "stream",
     "text": [
      "\n",
      "\n",
      "=============================================================================================================================\n",
      "=============================================================================================================================\n",
      "\n"
     ]
    },
    {
     "name": "stderr",
     "output_type": "stream",
     "text": [
      "[Succeeded / Failed / Skipped / Total] 133 / 2 / 40 / 175:  35%|███████▎             | 175/500 [07:56<14:44,  2.72s/it]textattack: Saving checkpoint under \"checkpoints\\1720172165911.ta.chkpt\" at 2024-07-05 17:36:05 after 175 attacks.\n",
      "[Succeeded / Failed / Skipped / Total] 133 / 2 / 41 / 176:  35%|███████▍             | 176/500 [07:56<14:36,  2.71s/it]"
     ]
    },
    {
     "name": "stdout",
     "output_type": "stream",
     "text": [
      "\n",
      "\n",
      "=============================================================================================================================\n",
      "=============================================================================================================================\n",
      "\n"
     ]
    },
    {
     "name": "stderr",
     "output_type": "stream",
     "text": [
      "[Succeeded / Failed / Skipped / Total] 135 / 3 / 42 / 180:  36%|███████▌             | 180/500 [08:07<14:26,  2.71s/it]textattack: Saving checkpoint under \"checkpoints\\1720172177233.ta.chkpt\" at 2024-07-05 17:36:17 after 180 attacks.\n"
     ]
    },
    {
     "name": "stdout",
     "output_type": "stream",
     "text": [
      "\n",
      "\n",
      "=============================================================================================================================\n",
      "=============================================================================================================================\n",
      "\n"
     ]
    },
    {
     "name": "stderr",
     "output_type": "stream",
     "text": [
      "[Succeeded / Failed / Skipped / Total] 139 / 3 / 43 / 185:  37%|███████▊             | 185/500 [08:12<13:59,  2.66s/it]textattack: Saving checkpoint under \"checkpoints\\1720172182811.ta.chkpt\" at 2024-07-05 17:36:22 after 185 attacks.\n"
     ]
    },
    {
     "name": "stdout",
     "output_type": "stream",
     "text": [
      "\n",
      "\n",
      "=============================================================================================================================\n",
      "=============================================================================================================================\n",
      "\n"
     ]
    },
    {
     "name": "stderr",
     "output_type": "stream",
     "text": [
      "[Succeeded / Failed / Skipped / Total] 144 / 3 / 43 / 190:  38%|███████▉             | 190/500 [08:34<14:00,  2.71s/it]textattack: Saving checkpoint under \"checkpoints\\1720172204691.ta.chkpt\" at 2024-07-05 17:36:44 after 190 attacks.\n"
     ]
    },
    {
     "name": "stdout",
     "output_type": "stream",
     "text": [
      "\n",
      "\n",
      "=============================================================================================================================\n",
      "=============================================================================================================================\n",
      "\n"
     ]
    },
    {
     "name": "stderr",
     "output_type": "stream",
     "text": [
      "[Succeeded / Failed / Skipped / Total] 149 / 3 / 43 / 195:  39%|████████▏            | 195/500 [08:50<13:49,  2.72s/it]textattack: Saving checkpoint under \"checkpoints\\1720172220410.ta.chkpt\" at 2024-07-05 17:37:00 after 195 attacks.\n"
     ]
    },
    {
     "name": "stdout",
     "output_type": "stream",
     "text": [
      "\n",
      "\n",
      "=============================================================================================================================\n",
      "=============================================================================================================================\n",
      "\n"
     ]
    },
    {
     "name": "stderr",
     "output_type": "stream",
     "text": [
      "[Succeeded / Failed / Skipped / Total] 153 / 3 / 44 / 200:  40%|████████▍            | 200/500 [09:09<13:44,  2.75s/it]textattack: Saving checkpoint under \"checkpoints\\1720172239281.ta.chkpt\" at 2024-07-05 17:37:19 after 200 attacks.\n",
      "[Succeeded / Failed / Skipped / Total] 153 / 3 / 45 / 201:  40%|████████▍            | 201/500 [09:09<13:37,  2.73s/it]"
     ]
    },
    {
     "name": "stdout",
     "output_type": "stream",
     "text": [
      "\n",
      "\n",
      "=============================================================================================================================\n",
      "=============================================================================================================================\n",
      "\n"
     ]
    },
    {
     "name": "stderr",
     "output_type": "stream",
     "text": [
      "[Succeeded / Failed / Skipped / Total] 156 / 3 / 46 / 205:  41%|████████▌            | 205/500 [09:16<13:20,  2.72s/it]textattack: Saving checkpoint under \"checkpoints\\1720172246437.ta.chkpt\" at 2024-07-05 17:37:26 after 205 attacks.\n",
      "[Succeeded / Failed / Skipped / Total] 156 / 3 / 47 / 206:  41%|████████▋            | 206/500 [09:16<13:14,  2.70s/it]"
     ]
    },
    {
     "name": "stdout",
     "output_type": "stream",
     "text": [
      "\n",
      "\n",
      "=============================================================================================================================\n",
      "=============================================================================================================================\n",
      "\n"
     ]
    },
    {
     "name": "stderr",
     "output_type": "stream",
     "text": [
      "[Succeeded / Failed / Skipped / Total] 160 / 3 / 47 / 210:  42%|████████▊            | 210/500 [09:23<12:58,  2.68s/it]textattack: Saving checkpoint under \"checkpoints\\1720172253380.ta.chkpt\" at 2024-07-05 17:37:33 after 210 attacks.\n"
     ]
    },
    {
     "name": "stdout",
     "output_type": "stream",
     "text": [
      "\n",
      "\n",
      "=============================================================================================================================\n",
      "=============================================================================================================================\n",
      "\n"
     ]
    },
    {
     "name": "stderr",
     "output_type": "stream",
     "text": [
      "[Succeeded / Failed / Skipped / Total] 164 / 3 / 48 / 215:  43%|█████████            | 215/500 [09:38<12:47,  2.69s/it]textattack: Saving checkpoint under \"checkpoints\\1720172268754.ta.chkpt\" at 2024-07-05 17:37:48 after 215 attacks.\n"
     ]
    },
    {
     "name": "stdout",
     "output_type": "stream",
     "text": [
      "\n",
      "\n",
      "=============================================================================================================================\n",
      "=============================================================================================================================\n",
      "\n"
     ]
    },
    {
     "name": "stderr",
     "output_type": "stream",
     "text": [
      "[Succeeded / Failed / Skipped / Total] 169 / 3 / 48 / 220:  44%|█████████▏           | 220/500 [09:51<12:32,  2.69s/it]textattack: Saving checkpoint under \"checkpoints\\1720172281133.ta.chkpt\" at 2024-07-05 17:38:01 after 220 attacks.\n"
     ]
    },
    {
     "name": "stdout",
     "output_type": "stream",
     "text": [
      "\n",
      "\n",
      "=============================================================================================================================\n",
      "=============================================================================================================================\n",
      "\n"
     ]
    },
    {
     "name": "stderr",
     "output_type": "stream",
     "text": [
      "[Succeeded / Failed / Skipped / Total] 172 / 3 / 50 / 225:  45%|█████████▍           | 225/500 [10:08<12:23,  2.70s/it]textattack: Saving checkpoint under \"checkpoints\\1720172298289.ta.chkpt\" at 2024-07-05 17:38:18 after 225 attacks.\n"
     ]
    },
    {
     "name": "stdout",
     "output_type": "stream",
     "text": [
      "\n",
      "\n",
      "=============================================================================================================================\n",
      "=============================================================================================================================\n",
      "\n"
     ]
    },
    {
     "name": "stderr",
     "output_type": "stream",
     "text": [
      "[Succeeded / Failed / Skipped / Total] 177 / 3 / 50 / 230:  46%|█████████▋           | 230/500 [10:23<12:12,  2.71s/it]textattack: Saving checkpoint under \"checkpoints\\1720172313454.ta.chkpt\" at 2024-07-05 17:38:33 after 230 attacks.\n"
     ]
    },
    {
     "name": "stdout",
     "output_type": "stream",
     "text": [
      "\n",
      "\n",
      "=============================================================================================================================\n",
      "=============================================================================================================================\n",
      "\n"
     ]
    },
    {
     "name": "stderr",
     "output_type": "stream",
     "text": [
      "[Succeeded / Failed / Skipped / Total] 181 / 3 / 51 / 235:  47%|█████████▊           | 235/500 [10:40<12:02,  2.73s/it]textattack: Saving checkpoint under \"checkpoints\\1720172330788.ta.chkpt\" at 2024-07-05 17:38:50 after 235 attacks.\n",
      "[Succeeded / Failed / Skipped / Total] 181 / 3 / 52 / 236:  47%|█████████▉           | 236/500 [10:41<11:57,  2.72s/it]"
     ]
    },
    {
     "name": "stdout",
     "output_type": "stream",
     "text": [
      "\n",
      "\n",
      "=============================================================================================================================\n",
      "=============================================================================================================================\n",
      "\n"
     ]
    },
    {
     "name": "stderr",
     "output_type": "stream",
     "text": [
      "[Succeeded / Failed / Skipped / Total] 185 / 3 / 52 / 240:  48%|██████████           | 240/500 [10:52<11:46,  2.72s/it]textattack: Saving checkpoint under \"checkpoints\\1720172341935.ta.chkpt\" at 2024-07-05 17:39:01 after 240 attacks.\n"
     ]
    },
    {
     "name": "stdout",
     "output_type": "stream",
     "text": [
      "\n",
      "\n",
      "=============================================================================================================================\n",
      "=============================================================================================================================\n",
      "\n"
     ]
    },
    {
     "name": "stderr",
     "output_type": "stream",
     "text": [
      "[Succeeded / Failed / Skipped / Total] 190 / 3 / 52 / 245:  49%|██████████▎          | 245/500 [11:09<11:37,  2.73s/it]textattack: Saving checkpoint under \"checkpoints\\1720172359515.ta.chkpt\" at 2024-07-05 17:39:19 after 245 attacks.\n"
     ]
    },
    {
     "name": "stdout",
     "output_type": "stream",
     "text": [
      "\n",
      "\n",
      "=============================================================================================================================\n",
      "=============================================================================================================================\n",
      "\n"
     ]
    },
    {
     "name": "stderr",
     "output_type": "stream",
     "text": [
      "[Succeeded / Failed / Skipped / Total] 194 / 3 / 53 / 250:  50%|██████████▌          | 250/500 [11:17<11:17,  2.71s/it]textattack: Saving checkpoint under \"checkpoints\\1720172366931.ta.chkpt\" at 2024-07-05 17:39:26 after 250 attacks.\n",
      "[Succeeded / Failed / Skipped / Total] 194 / 3 / 54 / 251:  50%|██████████▌          | 251/500 [11:17<11:11,  2.70s/it]"
     ]
    },
    {
     "name": "stdout",
     "output_type": "stream",
     "text": [
      "\n",
      "\n",
      "=============================================================================================================================\n",
      "=============================================================================================================================\n",
      "\n"
     ]
    },
    {
     "name": "stderr",
     "output_type": "stream",
     "text": [
      "[Succeeded / Failed / Skipped / Total] 197 / 3 / 55 / 255:  51%|██████████▋          | 255/500 [11:24<10:57,  2.68s/it]textattack: Saving checkpoint under \"checkpoints\\1720172373951.ta.chkpt\" at 2024-07-05 17:39:33 after 255 attacks.\n"
     ]
    },
    {
     "name": "stdout",
     "output_type": "stream",
     "text": [
      "\n",
      "\n",
      "=============================================================================================================================\n",
      "=============================================================================================================================\n",
      "\n"
     ]
    },
    {
     "name": "stderr",
     "output_type": "stream",
     "text": [
      "[Succeeded / Failed / Skipped / Total] 202 / 3 / 55 / 260:  52%|██████████▉          | 260/500 [11:36<10:42,  2.68s/it]textattack: Saving checkpoint under \"checkpoints\\1720172386135.ta.chkpt\" at 2024-07-05 17:39:46 after 260 attacks.\n"
     ]
    },
    {
     "name": "stdout",
     "output_type": "stream",
     "text": [
      "\n",
      "\n",
      "=============================================================================================================================\n",
      "=============================================================================================================================\n",
      "\n"
     ]
    },
    {
     "name": "stderr",
     "output_type": "stream",
     "text": [
      "[Succeeded / Failed / Skipped / Total] 206 / 3 / 56 / 265:  53%|███████████▏         | 265/500 [11:43<10:24,  2.66s/it]textattack: Saving checkpoint under \"checkpoints\\1720172393789.ta.chkpt\" at 2024-07-05 17:39:53 after 265 attacks.\n"
     ]
    },
    {
     "name": "stdout",
     "output_type": "stream",
     "text": [
      "\n",
      "\n",
      "=============================================================================================================================\n",
      "=============================================================================================================================\n",
      "\n"
     ]
    },
    {
     "name": "stderr",
     "output_type": "stream",
     "text": [
      "[Succeeded / Failed / Skipped / Total] 209 / 3 / 58 / 270:  54%|███████████▎         | 270/500 [12:02<10:15,  2.68s/it]textattack: Saving checkpoint under \"checkpoints\\1720172412244.ta.chkpt\" at 2024-07-05 17:40:12 after 270 attacks.\n",
      "[Succeeded / Failed / Skipped / Total] 209 / 3 / 60 / 272:  54%|███████████▍         | 272/500 [12:02<10:05,  2.66s/it]"
     ]
    },
    {
     "name": "stdout",
     "output_type": "stream",
     "text": [
      "\n",
      "\n",
      "=============================================================================================================================\n",
      "=============================================================================================================================\n",
      "\n"
     ]
    },
    {
     "name": "stderr",
     "output_type": "stream",
     "text": [
      "[Succeeded / Failed / Skipped / Total] 210 / 3 / 62 / 275:  55%|███████████▌         | 275/500 [12:07<09:55,  2.64s/it]textattack: Saving checkpoint under \"checkpoints\\1720172417118.ta.chkpt\" at 2024-07-05 17:40:17 after 275 attacks.\n"
     ]
    },
    {
     "name": "stdout",
     "output_type": "stream",
     "text": [
      "\n",
      "\n",
      "=============================================================================================================================\n",
      "=============================================================================================================================\n",
      "\n"
     ]
    },
    {
     "name": "stderr",
     "output_type": "stream",
     "text": [
      "[Succeeded / Failed / Skipped / Total] 213 / 3 / 64 / 280:  56%|███████████▊         | 280/500 [12:13<09:36,  2.62s/it]textattack: Saving checkpoint under \"checkpoints\\1720172423190.ta.chkpt\" at 2024-07-05 17:40:23 after 280 attacks.\n"
     ]
    },
    {
     "name": "stdout",
     "output_type": "stream",
     "text": [
      "\n",
      "\n",
      "=============================================================================================================================\n",
      "=============================================================================================================================\n",
      "\n"
     ]
    },
    {
     "name": "stderr",
     "output_type": "stream",
     "text": [
      "[Succeeded / Failed / Skipped / Total] 216 / 3 / 66 / 285:  57%|███████████▉         | 285/500 [12:21<09:19,  2.60s/it]textattack: Saving checkpoint under \"checkpoints\\1720172431414.ta.chkpt\" at 2024-07-05 17:40:31 after 285 attacks.\n",
      "[Succeeded / Failed / Skipped / Total] 216 / 3 / 68 / 287:  57%|████████████         | 287/500 [12:21<09:10,  2.58s/it]"
     ]
    },
    {
     "name": "stdout",
     "output_type": "stream",
     "text": [
      "\n",
      "\n",
      "=============================================================================================================================\n",
      "=============================================================================================================================\n",
      "\n"
     ]
    },
    {
     "name": "stderr",
     "output_type": "stream",
     "text": [
      "[Succeeded / Failed / Skipped / Total] 218 / 3 / 69 / 290:  58%|████████████▏        | 290/500 [12:27<09:01,  2.58s/it]textattack: Saving checkpoint under \"checkpoints\\1720172437381.ta.chkpt\" at 2024-07-05 17:40:37 after 290 attacks.\n"
     ]
    },
    {
     "name": "stdout",
     "output_type": "stream",
     "text": [
      "\n",
      "\n",
      "=============================================================================================================================\n",
      "=============================================================================================================================\n",
      "\n"
     ]
    },
    {
     "name": "stderr",
     "output_type": "stream",
     "text": [
      "[Succeeded / Failed / Skipped / Total] 221 / 3 / 71 / 295:  59%|████████████▍        | 295/500 [12:33<08:43,  2.55s/it]textattack: Saving checkpoint under \"checkpoints\\1720172442858.ta.chkpt\" at 2024-07-05 17:40:42 after 295 attacks.\n"
     ]
    },
    {
     "name": "stdout",
     "output_type": "stream",
     "text": [
      "\n",
      "\n",
      "=============================================================================================================================\n",
      "=============================================================================================================================\n",
      "\n"
     ]
    },
    {
     "name": "stderr",
     "output_type": "stream",
     "text": [
      "[Succeeded / Failed / Skipped / Total] 225 / 3 / 72 / 300:  60%|████████████▌        | 300/500 [12:43<08:28,  2.54s/it]textattack: Saving checkpoint under \"checkpoints\\1720172453216.ta.chkpt\" at 2024-07-05 17:40:53 after 300 attacks.\n"
     ]
    },
    {
     "name": "stdout",
     "output_type": "stream",
     "text": [
      "\n",
      "\n",
      "=============================================================================================================================\n",
      "=============================================================================================================================\n",
      "\n"
     ]
    },
    {
     "name": "stderr",
     "output_type": "stream",
     "text": [
      "[Succeeded / Failed / Skipped / Total] 229 / 3 / 73 / 305:  61%|████████████▊        | 305/500 [12:57<08:16,  2.55s/it]textattack: Saving checkpoint under \"checkpoints\\1720172467136.ta.chkpt\" at 2024-07-05 17:41:07 after 305 attacks.\n"
     ]
    },
    {
     "name": "stdout",
     "output_type": "stream",
     "text": [
      "\n",
      "\n",
      "=============================================================================================================================\n",
      "=============================================================================================================================\n",
      "\n"
     ]
    },
    {
     "name": "stderr",
     "output_type": "stream",
     "text": [
      "[Succeeded / Failed / Skipped / Total] 232 / 3 / 75 / 310:  62%|█████████████        | 310/500 [13:08<08:03,  2.54s/it]textattack: Saving checkpoint under \"checkpoints\\1720172478479.ta.chkpt\" at 2024-07-05 17:41:18 after 310 attacks.\n"
     ]
    },
    {
     "name": "stdout",
     "output_type": "stream",
     "text": [
      "\n",
      "\n",
      "=============================================================================================================================\n",
      "=============================================================================================================================\n",
      "\n"
     ]
    },
    {
     "name": "stderr",
     "output_type": "stream",
     "text": [
      "[Succeeded / Failed / Skipped / Total] 235 / 3 / 77 / 315:  63%|█████████████▏       | 315/500 [13:13<07:46,  2.52s/it]textattack: Saving checkpoint under \"checkpoints\\1720172483650.ta.chkpt\" at 2024-07-05 17:41:23 after 315 attacks.\n"
     ]
    },
    {
     "name": "stdout",
     "output_type": "stream",
     "text": [
      "\n",
      "\n",
      "=============================================================================================================================\n",
      "=============================================================================================================================\n",
      "\n"
     ]
    },
    {
     "name": "stderr",
     "output_type": "stream",
     "text": [
      "[Succeeded / Failed / Skipped / Total] 239 / 3 / 78 / 320:  64%|█████████████▍       | 320/500 [13:31<07:36,  2.54s/it]textattack: Saving checkpoint under \"checkpoints\\1720172501187.ta.chkpt\" at 2024-07-05 17:41:41 after 320 attacks.\n"
     ]
    },
    {
     "name": "stdout",
     "output_type": "stream",
     "text": [
      "\n",
      "\n",
      "=============================================================================================================================\n",
      "=============================================================================================================================\n",
      "\n"
     ]
    },
    {
     "name": "stderr",
     "output_type": "stream",
     "text": [
      "[Succeeded / Failed / Skipped / Total] 244 / 3 / 78 / 325:  65%|█████████████▋       | 325/500 [13:51<07:27,  2.56s/it]textattack: Saving checkpoint under \"checkpoints\\1720172521689.ta.chkpt\" at 2024-07-05 17:42:01 after 325 attacks.\n"
     ]
    },
    {
     "name": "stdout",
     "output_type": "stream",
     "text": [
      "\n",
      "\n",
      "=============================================================================================================================\n",
      "=============================================================================================================================\n",
      "\n"
     ]
    },
    {
     "name": "stderr",
     "output_type": "stream",
     "text": [
      "[Succeeded / Failed / Skipped / Total] 249 / 3 / 78 / 330:  66%|█████████████▊       | 330/500 [14:01<07:13,  2.55s/it]textattack: Saving checkpoint under \"checkpoints\\1720172530894.ta.chkpt\" at 2024-07-05 17:42:10 after 330 attacks.\n"
     ]
    },
    {
     "name": "stdout",
     "output_type": "stream",
     "text": [
      "\n",
      "\n",
      "=============================================================================================================================\n",
      "=============================================================================================================================\n",
      "\n"
     ]
    },
    {
     "name": "stderr",
     "output_type": "stream",
     "text": [
      "[Succeeded / Failed / Skipped / Total] 254 / 3 / 78 / 335:  67%|██████████████       | 335/500 [14:30<07:08,  2.60s/it]textattack: Saving checkpoint under \"checkpoints\\1720172560523.ta.chkpt\" at 2024-07-05 17:42:40 after 335 attacks.\n",
      "[Succeeded / Failed / Skipped / Total] 254 / 3 / 79 / 336:  67%|██████████████       | 336/500 [14:30<07:05,  2.59s/it]"
     ]
    },
    {
     "name": "stdout",
     "output_type": "stream",
     "text": [
      "\n",
      "\n",
      "=============================================================================================================================\n",
      "=============================================================================================================================\n",
      "\n"
     ]
    },
    {
     "name": "stderr",
     "output_type": "stream",
     "text": [
      "[Succeeded / Failed / Skipped / Total] 257 / 3 / 80 / 340:  68%|██████████████▎      | 340/500 [14:34<06:51,  2.57s/it]textattack: Saving checkpoint under \"checkpoints\\1720172564590.ta.chkpt\" at 2024-07-05 17:42:44 after 340 attacks.\n"
     ]
    },
    {
     "name": "stdout",
     "output_type": "stream",
     "text": [
      "\n",
      "\n",
      "=============================================================================================================================\n",
      "=============================================================================================================================\n",
      "\n"
     ]
    },
    {
     "name": "stderr",
     "output_type": "stream",
     "text": [
      "[Succeeded / Failed / Skipped / Total] 262 / 3 / 80 / 345:  69%|██████████████▍      | 345/500 [14:42<06:36,  2.56s/it]textattack: Saving checkpoint under \"checkpoints\\1720172572019.ta.chkpt\" at 2024-07-05 17:42:52 after 345 attacks.\n"
     ]
    },
    {
     "name": "stdout",
     "output_type": "stream",
     "text": [
      "\n",
      "\n",
      "=============================================================================================================================\n",
      "=============================================================================================================================\n",
      "\n"
     ]
    },
    {
     "name": "stderr",
     "output_type": "stream",
     "text": [
      "[Succeeded / Failed / Skipped / Total] 266 / 3 / 81 / 350:  70%|██████████████▋      | 350/500 [14:56<06:24,  2.56s/it]textattack: Saving checkpoint under \"checkpoints\\1720172586690.ta.chkpt\" at 2024-07-05 17:43:06 after 350 attacks.\n"
     ]
    },
    {
     "name": "stdout",
     "output_type": "stream",
     "text": [
      "\n",
      "\n",
      "=============================================================================================================================\n",
      "=============================================================================================================================\n",
      "\n"
     ]
    },
    {
     "name": "stderr",
     "output_type": "stream",
     "text": [
      "[Succeeded / Failed / Skipped / Total] 270 / 4 / 81 / 355:  71%|██████████████▉      | 355/500 [15:18<06:15,  2.59s/it]textattack: Saving checkpoint under \"checkpoints\\1720172608836.ta.chkpt\" at 2024-07-05 17:43:28 after 355 attacks.\n"
     ]
    },
    {
     "name": "stdout",
     "output_type": "stream",
     "text": [
      "\n",
      "\n",
      "=============================================================================================================================\n",
      "=============================================================================================================================\n",
      "\n"
     ]
    },
    {
     "name": "stderr",
     "output_type": "stream",
     "text": [
      "[Succeeded / Failed / Skipped / Total] 274 / 4 / 82 / 360:  72%|███████████████      | 360/500 [15:34<06:03,  2.60s/it]textattack: Saving checkpoint under \"checkpoints\\1720172624564.ta.chkpt\" at 2024-07-05 17:43:44 after 360 attacks.\n"
     ]
    },
    {
     "name": "stdout",
     "output_type": "stream",
     "text": [
      "\n",
      "\n",
      "=============================================================================================================================\n",
      "=============================================================================================================================\n",
      "\n"
     ]
    },
    {
     "name": "stderr",
     "output_type": "stream",
     "text": [
      "[Succeeded / Failed / Skipped / Total] 279 / 4 / 82 / 365:  73%|███████████████▎     | 365/500 [15:45<05:49,  2.59s/it]textattack: Saving checkpoint under \"checkpoints\\1720172635175.ta.chkpt\" at 2024-07-05 17:43:55 after 365 attacks.\n",
      "[Succeeded / Failed / Skipped / Total] 279 / 4 / 83 / 366:  73%|███████████████▎     | 366/500 [15:45<05:46,  2.58s/it]"
     ]
    },
    {
     "name": "stdout",
     "output_type": "stream",
     "text": [
      "\n",
      "\n",
      "=============================================================================================================================\n",
      "=============================================================================================================================\n",
      "\n"
     ]
    },
    {
     "name": "stderr",
     "output_type": "stream",
     "text": [
      "[Succeeded / Failed / Skipped / Total] 283 / 4 / 83 / 370:  74%|███████████████▌     | 370/500 [15:51<05:34,  2.57s/it]textattack: Saving checkpoint under \"checkpoints\\1720172641501.ta.chkpt\" at 2024-07-05 17:44:01 after 370 attacks.\n"
     ]
    },
    {
     "name": "stdout",
     "output_type": "stream",
     "text": [
      "\n",
      "\n",
      "=============================================================================================================================\n",
      "=============================================================================================================================\n",
      "\n"
     ]
    },
    {
     "name": "stderr",
     "output_type": "stream",
     "text": [
      "[Succeeded / Failed / Skipped / Total] 288 / 4 / 83 / 375:  75%|███████████████▊     | 375/500 [16:12<05:24,  2.59s/it]textattack: Saving checkpoint under \"checkpoints\\1720172662110.ta.chkpt\" at 2024-07-05 17:44:22 after 375 attacks.\n"
     ]
    },
    {
     "name": "stdout",
     "output_type": "stream",
     "text": [
      "\n",
      "\n",
      "=============================================================================================================================\n",
      "=============================================================================================================================\n",
      "\n"
     ]
    },
    {
     "name": "stderr",
     "output_type": "stream",
     "text": [
      "[Succeeded / Failed / Skipped / Total] 292 / 4 / 84 / 380:  76%|███████████████▉     | 380/500 [16:19<05:09,  2.58s/it]textattack: Saving checkpoint under \"checkpoints\\1720172669444.ta.chkpt\" at 2024-07-05 17:44:29 after 380 attacks.\n"
     ]
    },
    {
     "name": "stdout",
     "output_type": "stream",
     "text": [
      "\n",
      "\n",
      "=============================================================================================================================\n",
      "=============================================================================================================================\n",
      "\n"
     ]
    },
    {
     "name": "stderr",
     "output_type": "stream",
     "text": [
      "[Succeeded / Failed / Skipped / Total] 296 / 4 / 85 / 385:  77%|████████████████▏    | 385/500 [16:31<04:56,  2.58s/it]textattack: Saving checkpoint under \"checkpoints\\1720172681688.ta.chkpt\" at 2024-07-05 17:44:41 after 385 attacks.\n"
     ]
    },
    {
     "name": "stdout",
     "output_type": "stream",
     "text": [
      "\n",
      "\n",
      "=============================================================================================================================\n",
      "=============================================================================================================================\n",
      "\n"
     ]
    },
    {
     "name": "stderr",
     "output_type": "stream",
     "text": [
      "[Succeeded / Failed / Skipped / Total] 300 / 4 / 86 / 390:  78%|████████████████▍    | 390/500 [16:38<04:41,  2.56s/it]textattack: Saving checkpoint under \"checkpoints\\1720172688673.ta.chkpt\" at 2024-07-05 17:44:48 after 390 attacks.\n"
     ]
    },
    {
     "name": "stdout",
     "output_type": "stream",
     "text": [
      "\n",
      "\n",
      "=============================================================================================================================\n",
      "=============================================================================================================================\n",
      "\n"
     ]
    },
    {
     "name": "stderr",
     "output_type": "stream",
     "text": [
      "[Succeeded / Failed / Skipped / Total] 305 / 4 / 86 / 395:  79%|████████████████▌    | 395/500 [16:59<04:31,  2.58s/it]textattack: Saving checkpoint under \"checkpoints\\1720172709777.ta.chkpt\" at 2024-07-05 17:45:09 after 395 attacks.\n"
     ]
    },
    {
     "name": "stdout",
     "output_type": "stream",
     "text": [
      "\n",
      "\n",
      "=============================================================================================================================\n",
      "=============================================================================================================================\n",
      "\n"
     ]
    },
    {
     "name": "stderr",
     "output_type": "stream",
     "text": [
      "[Succeeded / Failed / Skipped / Total] 310 / 4 / 86 / 400:  80%|████████████████▊    | 400/500 [17:16<04:19,  2.59s/it]textattack: Saving checkpoint under \"checkpoints\\1720172726839.ta.chkpt\" at 2024-07-05 17:45:26 after 400 attacks.\n"
     ]
    },
    {
     "name": "stdout",
     "output_type": "stream",
     "text": [
      "\n",
      "\n",
      "=============================================================================================================================\n",
      "=============================================================================================================================\n",
      "\n"
     ]
    },
    {
     "name": "stderr",
     "output_type": "stream",
     "text": [
      "[Succeeded / Failed / Skipped / Total] 314 / 4 / 87 / 405:  81%|█████████████████    | 405/500 [17:32<04:06,  2.60s/it]textattack: Saving checkpoint under \"checkpoints\\1720172742372.ta.chkpt\" at 2024-07-05 17:45:42 after 405 attacks.\n"
     ]
    },
    {
     "name": "stdout",
     "output_type": "stream",
     "text": [
      "\n",
      "\n",
      "=============================================================================================================================\n",
      "=============================================================================================================================\n",
      "\n"
     ]
    },
    {
     "name": "stderr",
     "output_type": "stream",
     "text": [
      "[Succeeded / Failed / Skipped / Total] 319 / 4 / 87 / 410:  82%|█████████████████▏   | 410/500 [17:39<03:52,  2.58s/it]textattack: Saving checkpoint under \"checkpoints\\1720172749036.ta.chkpt\" at 2024-07-05 17:45:49 after 410 attacks.\n"
     ]
    },
    {
     "name": "stdout",
     "output_type": "stream",
     "text": [
      "\n",
      "\n",
      "=============================================================================================================================\n",
      "=============================================================================================================================\n",
      "\n"
     ]
    },
    {
     "name": "stderr",
     "output_type": "stream",
     "text": [
      "[Succeeded / Failed / Skipped / Total] 321 / 4 / 90 / 415:  83%|█████████████████▍   | 415/500 [17:41<03:37,  2.56s/it]textattack: Saving checkpoint under \"checkpoints\\1720172751197.ta.chkpt\" at 2024-07-05 17:45:51 after 415 attacks.\n"
     ]
    },
    {
     "name": "stdout",
     "output_type": "stream",
     "text": [
      "\n",
      "\n",
      "=============================================================================================================================\n",
      "=============================================================================================================================\n",
      "\n"
     ]
    },
    {
     "name": "stderr",
     "output_type": "stream",
     "text": [
      "[Succeeded / Failed / Skipped / Total] 325 / 5 / 90 / 420:  84%|█████████████████▋   | 420/500 [17:56<03:25,  2.56s/it]textattack: Saving checkpoint under \"checkpoints\\1720172766286.ta.chkpt\" at 2024-07-05 17:46:06 after 420 attacks.\n"
     ]
    },
    {
     "name": "stdout",
     "output_type": "stream",
     "text": [
      "\n",
      "\n",
      "=============================================================================================================================\n",
      "=============================================================================================================================\n",
      "\n"
     ]
    },
    {
     "name": "stderr",
     "output_type": "stream",
     "text": [
      "[Succeeded / Failed / Skipped / Total] 329 / 5 / 91 / 425:  85%|█████████████████▊   | 425/500 [18:04<03:11,  2.55s/it]textattack: Saving checkpoint under \"checkpoints\\1720172774044.ta.chkpt\" at 2024-07-05 17:46:14 after 425 attacks.\n"
     ]
    },
    {
     "name": "stdout",
     "output_type": "stream",
     "text": [
      "\n",
      "\n",
      "=============================================================================================================================\n",
      "=============================================================================================================================\n",
      "\n"
     ]
    },
    {
     "name": "stderr",
     "output_type": "stream",
     "text": [
      "[Succeeded / Failed / Skipped / Total] 334 / 5 / 91 / 430:  86%|██████████████████   | 430/500 [18:13<02:57,  2.54s/it]textattack: Saving checkpoint under \"checkpoints\\1720172783234.ta.chkpt\" at 2024-07-05 17:46:23 after 430 attacks.\n",
      "[Succeeded / Failed / Skipped / Total] 334 / 5 / 92 / 431:  86%|██████████████████   | 431/500 [18:13<02:55,  2.54s/it]"
     ]
    },
    {
     "name": "stdout",
     "output_type": "stream",
     "text": [
      "\n",
      "\n",
      "=============================================================================================================================\n",
      "=============================================================================================================================\n",
      "\n"
     ]
    },
    {
     "name": "stderr",
     "output_type": "stream",
     "text": [
      "[Succeeded / Failed / Skipped / Total] 338 / 5 / 92 / 435:  87%|██████████████████▎  | 435/500 [18:22<02:44,  2.53s/it]textattack: Saving checkpoint under \"checkpoints\\1720172792375.ta.chkpt\" at 2024-07-05 17:46:32 after 435 attacks.\n"
     ]
    },
    {
     "name": "stdout",
     "output_type": "stream",
     "text": [
      "\n",
      "\n",
      "=============================================================================================================================\n",
      "=============================================================================================================================\n",
      "\n"
     ]
    },
    {
     "name": "stderr",
     "output_type": "stream",
     "text": [
      "[Succeeded / Failed / Skipped / Total] 343 / 5 / 92 / 440:  88%|██████████████████▍  | 440/500 [18:43<02:33,  2.55s/it]textattack: Saving checkpoint under \"checkpoints\\1720172813248.ta.chkpt\" at 2024-07-05 17:46:53 after 440 attacks.\n"
     ]
    },
    {
     "name": "stdout",
     "output_type": "stream",
     "text": [
      "\n",
      "\n",
      "=============================================================================================================================\n",
      "=============================================================================================================================\n",
      "\n"
     ]
    },
    {
     "name": "stderr",
     "output_type": "stream",
     "text": [
      "[Succeeded / Failed / Skipped / Total] 348 / 5 / 92 / 445:  89%|██████████████████▋  | 445/500 [18:54<02:20,  2.55s/it]textattack: Saving checkpoint under \"checkpoints\\1720172824000.ta.chkpt\" at 2024-07-05 17:47:04 after 445 attacks.\n"
     ]
    },
    {
     "name": "stdout",
     "output_type": "stream",
     "text": [
      "\n",
      "\n",
      "=============================================================================================================================\n",
      "=============================================================================================================================\n",
      "\n"
     ]
    },
    {
     "name": "stderr",
     "output_type": "stream",
     "text": [
      "[Succeeded / Failed / Skipped / Total] 351 / 5 / 94 / 450:  90%|██████████████████▉  | 450/500 [19:13<02:08,  2.56s/it]textattack: Saving checkpoint under \"checkpoints\\1720172842939.ta.chkpt\" at 2024-07-05 17:47:22 after 450 attacks.\n"
     ]
    },
    {
     "name": "stdout",
     "output_type": "stream",
     "text": [
      "\n",
      "\n",
      "=============================================================================================================================\n",
      "=============================================================================================================================\n",
      "\n"
     ]
    },
    {
     "name": "stderr",
     "output_type": "stream",
     "text": [
      "[Succeeded / Failed / Skipped / Total] 355 / 5 / 95 / 455:  91%|███████████████████  | 455/500 [19:28<01:55,  2.57s/it]textattack: Saving checkpoint under \"checkpoints\\1720172858555.ta.chkpt\" at 2024-07-05 17:47:38 after 455 attacks.\n"
     ]
    },
    {
     "name": "stdout",
     "output_type": "stream",
     "text": [
      "\n",
      "\n",
      "=============================================================================================================================\n",
      "=============================================================================================================================\n",
      "\n"
     ]
    },
    {
     "name": "stderr",
     "output_type": "stream",
     "text": [
      "[Succeeded / Failed / Skipped / Total] 360 / 5 / 95 / 460:  92%|███████████████████▎ | 460/500 [19:50<01:43,  2.59s/it]textattack: Saving checkpoint under \"checkpoints\\1720172880166.ta.chkpt\" at 2024-07-05 17:48:00 after 460 attacks.\n"
     ]
    },
    {
     "name": "stdout",
     "output_type": "stream",
     "text": [
      "\n",
      "\n",
      "=============================================================================================================================\n",
      "=============================================================================================================================\n",
      "\n"
     ]
    },
    {
     "name": "stderr",
     "output_type": "stream",
     "text": [
      "[Succeeded / Failed / Skipped / Total] 364 / 5 / 96 / 465:  93%|███████████████████▌ | 465/500 [20:01<01:30,  2.58s/it]textattack: Saving checkpoint under \"checkpoints\\1720172891791.ta.chkpt\" at 2024-07-05 17:48:11 after 465 attacks.\n"
     ]
    },
    {
     "name": "stdout",
     "output_type": "stream",
     "text": [
      "\n",
      "\n",
      "=============================================================================================================================\n",
      "=============================================================================================================================\n",
      "\n"
     ]
    },
    {
     "name": "stderr",
     "output_type": "stream",
     "text": [
      "[Succeeded / Failed / Skipped / Total] 368 / 5 / 97 / 470:  94%|███████████████████▋ | 470/500 [20:07<01:17,  2.57s/it]textattack: Saving checkpoint under \"checkpoints\\1720172896916.ta.chkpt\" at 2024-07-05 17:48:16 after 470 attacks.\n"
     ]
    },
    {
     "name": "stdout",
     "output_type": "stream",
     "text": [
      "\n",
      "\n",
      "=============================================================================================================================\n",
      "=============================================================================================================================\n",
      "\n"
     ]
    },
    {
     "name": "stderr",
     "output_type": "stream",
     "text": [
      "[Succeeded / Failed / Skipped / Total] 373 / 5 / 97 / 475:  95%|███████████████████▉ | 475/500 [20:30<01:04,  2.59s/it]textattack: Saving checkpoint under \"checkpoints\\1720172920530.ta.chkpt\" at 2024-07-05 17:48:40 after 475 attacks.\n"
     ]
    },
    {
     "name": "stdout",
     "output_type": "stream",
     "text": [
      "\n",
      "\n",
      "=============================================================================================================================\n",
      "=============================================================================================================================\n",
      "\n"
     ]
    },
    {
     "name": "stderr",
     "output_type": "stream",
     "text": [
      "[Succeeded / Failed / Skipped / Total] 378 / 5 / 97 / 480:  96%|████████████████████▏| 480/500 [20:41<00:51,  2.59s/it]textattack: Saving checkpoint under \"checkpoints\\1720172931276.ta.chkpt\" at 2024-07-05 17:48:51 after 480 attacks.\n"
     ]
    },
    {
     "name": "stdout",
     "output_type": "stream",
     "text": [
      "\n",
      "\n",
      "=============================================================================================================================\n",
      "=============================================================================================================================\n",
      "\n"
     ]
    },
    {
     "name": "stderr",
     "output_type": "stream",
     "text": [
      "[Succeeded / Failed / Skipped / Total] 381 / 5 / 99 / 485:  97%|████████████████████▎| 485/500 [20:48<00:38,  2.57s/it]textattack: Saving checkpoint under \"checkpoints\\1720172938674.ta.chkpt\" at 2024-07-05 17:48:58 after 485 attacks.\n"
     ]
    },
    {
     "name": "stdout",
     "output_type": "stream",
     "text": [
      "\n",
      "\n",
      "=============================================================================================================================\n",
      "=============================================================================================================================\n",
      "\n"
     ]
    },
    {
     "name": "stderr",
     "output_type": "stream",
     "text": [
      "[Succeeded / Failed / Skipped / Total] 385 / 5 / 100 / 490:  98%|███████████████████▌| 490/500 [21:00<00:25,  2.57s/it]textattack: Saving checkpoint under \"checkpoints\\1720172950579.ta.chkpt\" at 2024-07-05 17:49:10 after 490 attacks.\n"
     ]
    },
    {
     "name": "stdout",
     "output_type": "stream",
     "text": [
      "\n",
      "\n",
      "=============================================================================================================================\n",
      "=============================================================================================================================\n",
      "\n"
     ]
    },
    {
     "name": "stderr",
     "output_type": "stream",
     "text": [
      "[Succeeded / Failed / Skipped / Total] 390 / 5 / 100 / 495:  99%|███████████████████▊| 495/500 [21:11<00:12,  2.57s/it]textattack: Saving checkpoint under \"checkpoints\\1720172961244.ta.chkpt\" at 2024-07-05 17:49:21 after 495 attacks.\n"
     ]
    },
    {
     "name": "stdout",
     "output_type": "stream",
     "text": [
      "\n",
      "\n",
      "=============================================================================================================================\n",
      "=============================================================================================================================\n",
      "\n"
     ]
    },
    {
     "name": "stderr",
     "output_type": "stream",
     "text": [
      "[Succeeded / Failed / Skipped / Total] 395 / 5 / 100 / 500: 100%|████████████████████| 500/500 [21:25<00:00,  2.57s/it]textattack: Saving checkpoint under \"checkpoints\\1720172975546.ta.chkpt\" at 2024-07-05 17:49:35 after 500 attacks.\n",
      "[Succeeded / Failed / Skipped / Total] 395 / 5 / 100 / 500: 100%|████████████████████| 500/500 [21:25<00:00,  2.57s/it]"
     ]
    },
    {
     "name": "stdout",
     "output_type": "stream",
     "text": [
      "\n",
      "\n",
      "=============================================================================================================================\n",
      "=============================================================================================================================\n",
      "\n",
      "\n",
      "+-------------------------------+--------+\n",
      "| Attack Results                |        |\n",
      "+-------------------------------+--------+\n",
      "| Number of successful attacks: | 395    |\n",
      "| Number of failed attacks:     | 5      |\n",
      "| Number of skipped attacks:    | 100    |\n",
      "| Original accuracy:            | 80.0%  |\n",
      "| Accuracy under attack:        | 1.0%   |\n",
      "| Attack success rate:          | 98.75% |\n",
      "| Average perturbed word %:     | 15.63% |\n",
      "| Average num. words per input: | 18.4   |\n",
      "| Avg num queries:              | 79.69  |\n",
      "+-------------------------------+--------+\n"
     ]
    },
    {
     "name": "stderr",
     "output_type": "stream",
     "text": [
      "\n"
     ]
    }
   ],
   "source": [
    "runAttack(bert_model_wrapper_lr_mr, n_samples, 'attack_results_new/bertmrattacklr'+suffix, target_ds_mr)"
   ]
  },
  {
   "cell_type": "code",
   "execution_count": 13,
   "id": "881956a2-37da-4e06-9986-f72004946469",
   "metadata": {},
   "outputs": [
    {
     "name": "stderr",
     "output_type": "stream",
     "text": [
      "textattack: Unknown if model of class <class 'transformers.models.bert.modeling_bert.BertModel'> compatible with goal function <class 'textattack.goal_functions.classification.untargeted_classification.UntargetedClassification'>.\n",
      "textattack: Logging to CSV at path attack_results_new/bertmrattackrfsim05.csv\n"
     ]
    },
    {
     "name": "stdout",
     "output_type": "stream",
     "text": [
      "Attack(\n",
      "  (search_method): GreedyWordSwapWIR(\n",
      "    (wir_method):  delete\n",
      "  )\n",
      "  (goal_function):  UntargetedClassification\n",
      "  (transformation):  WordSwapEmbedding(\n",
      "    (max_candidates):  50\n",
      "    (embedding):  WordEmbedding\n",
      "  )\n",
      "  (constraints): \n",
      "    (0): WordEmbeddingDistance(\n",
      "        (embedding):  WordEmbedding\n",
      "        (min_cos_sim):  0.5\n",
      "        (cased):  False\n",
      "        (include_unknown_words):  True\n",
      "        (compare_against_original):  True\n",
      "      )\n",
      "    (1): PartOfSpeech(\n",
      "        (tagger_type):  nltk\n",
      "        (tagset):  universal\n",
      "        (allow_verb_noun_swap):  True\n",
      "        (compare_against_original):  True\n",
      "      )\n",
      "    (2): UniversalSentenceEncoder(\n",
      "        (metric):  angular\n",
      "        (threshold):  0.840845057\n",
      "        (window_size):  15\n",
      "        (skip_text_shorter_than_window):  True\n",
      "        (compare_against_original):  False\n",
      "      )\n",
      "    (3): RepeatModification\n",
      "    (4): StopwordModification\n",
      "    (5): InputColumnModification(\n",
      "        (matching_column_labels):  ['premise', 'hypothesis']\n",
      "        (columns_to_ignore):  {'premise'}\n",
      "      )\n",
      "  (is_black_box):  True\n",
      ") \n",
      "\n"
     ]
    },
    {
     "name": "stderr",
     "output_type": "stream",
     "text": [
      "[Succeeded / Failed / Skipped / Total] 4 / 0 / 1 / 5:   1%|▎                           | 5/500 [00:19<32:21,  3.92s/it]textattack: Saving checkpoint under \"checkpoints\\1720172995247.ta.chkpt\" at 2024-07-05 17:49:55 after 5 attacks.\n",
      "[Succeeded / Failed / Skipped / Total] 4 / 0 / 3 / 7:   1%|▍                           | 7/500 [00:19<23:13,  2.83s/it]"
     ]
    },
    {
     "name": "stdout",
     "output_type": "stream",
     "text": [
      "\n",
      "\n",
      "=============================================================================================================================\n",
      "=============================================================================================================================\n",
      "\n"
     ]
    },
    {
     "name": "stderr",
     "output_type": "stream",
     "text": [
      "[Succeeded / Failed / Skipped / Total] 6 / 0 / 4 / 10:   2%|▌                         | 10/500 [00:28<23:33,  2.88s/it]textattack: Saving checkpoint under \"checkpoints\\1720173004477.ta.chkpt\" at 2024-07-05 17:50:04 after 10 attacks.\n"
     ]
    },
    {
     "name": "stdout",
     "output_type": "stream",
     "text": [
      "\n",
      "\n",
      "=============================================================================================================================\n",
      "=============================================================================================================================\n",
      "\n"
     ]
    },
    {
     "name": "stderr",
     "output_type": "stream",
     "text": [
      "[Succeeded / Failed / Skipped / Total] 10 / 0 / 5 / 15:   3%|▊                        | 15/500 [00:40<21:35,  2.67s/it]textattack: Saving checkpoint under \"checkpoints\\1720173015683.ta.chkpt\" at 2024-07-05 17:50:15 after 15 attacks.\n"
     ]
    },
    {
     "name": "stdout",
     "output_type": "stream",
     "text": [
      "\n",
      "\n",
      "=============================================================================================================================\n",
      "=============================================================================================================================\n",
      "\n"
     ]
    },
    {
     "name": "stderr",
     "output_type": "stream",
     "text": [
      "[Succeeded / Failed / Skipped / Total] 14 / 0 / 6 / 20:   4%|█                        | 20/500 [00:54<21:59,  2.75s/it]textattack: Saving checkpoint under \"checkpoints\\1720173030623.ta.chkpt\" at 2024-07-05 17:50:30 after 20 attacks.\n"
     ]
    },
    {
     "name": "stdout",
     "output_type": "stream",
     "text": [
      "\n",
      "\n",
      "=============================================================================================================================\n",
      "=============================================================================================================================\n",
      "\n"
     ]
    },
    {
     "name": "stderr",
     "output_type": "stream",
     "text": [
      "[Succeeded / Failed / Skipped / Total] 18 / 0 / 7 / 25:   5%|█▎                       | 25/500 [01:06<20:57,  2.65s/it]textattack: Saving checkpoint under \"checkpoints\\1720173041816.ta.chkpt\" at 2024-07-05 17:50:41 after 25 attacks.\n"
     ]
    },
    {
     "name": "stdout",
     "output_type": "stream",
     "text": [
      "\n",
      "\n",
      "=============================================================================================================================\n",
      "=============================================================================================================================\n",
      "\n"
     ]
    },
    {
     "name": "stderr",
     "output_type": "stream",
     "text": [
      "[Succeeded / Failed / Skipped / Total] 22 / 1 / 7 / 30:   6%|█▌                       | 30/500 [01:36<25:05,  3.20s/it]textattack: Saving checkpoint under \"checkpoints\\1720173071757.ta.chkpt\" at 2024-07-05 17:51:11 after 30 attacks.\n"
     ]
    },
    {
     "name": "stdout",
     "output_type": "stream",
     "text": [
      "\n",
      "\n",
      "=============================================================================================================================\n",
      "=============================================================================================================================\n",
      "\n"
     ]
    },
    {
     "name": "stderr",
     "output_type": "stream",
     "text": [
      "[Succeeded / Failed / Skipped / Total] 26 / 1 / 8 / 35:   7%|█▊                       | 35/500 [01:42<22:47,  2.94s/it]textattack: Saving checkpoint under \"checkpoints\\1720173078578.ta.chkpt\" at 2024-07-05 17:51:18 after 35 attacks.\n"
     ]
    },
    {
     "name": "stdout",
     "output_type": "stream",
     "text": [
      "\n",
      "\n",
      "=============================================================================================================================\n",
      "=============================================================================================================================\n",
      "\n"
     ]
    },
    {
     "name": "stderr",
     "output_type": "stream",
     "text": [
      "[Succeeded / Failed / Skipped / Total] 28 / 1 / 11 / 40:   8%|█▉                      | 40/500 [01:54<21:58,  2.87s/it]textattack: Saving checkpoint under \"checkpoints\\1720173090295.ta.chkpt\" at 2024-07-05 17:51:30 after 40 attacks.\n"
     ]
    },
    {
     "name": "stdout",
     "output_type": "stream",
     "text": [
      "\n",
      "\n",
      "=============================================================================================================================\n",
      "=============================================================================================================================\n",
      "\n"
     ]
    },
    {
     "name": "stderr",
     "output_type": "stream",
     "text": [
      "[Succeeded / Failed / Skipped / Total] 30 / 1 / 14 / 45:   9%|██▏                     | 45/500 [02:12<22:24,  2.95s/it]textattack: Saving checkpoint under \"checkpoints\\1720173108587.ta.chkpt\" at 2024-07-05 17:51:48 after 45 attacks.\n"
     ]
    },
    {
     "name": "stdout",
     "output_type": "stream",
     "text": [
      "\n",
      "\n",
      "=============================================================================================================================\n",
      "=============================================================================================================================\n",
      "\n"
     ]
    },
    {
     "name": "stderr",
     "output_type": "stream",
     "text": [
      "[Succeeded / Failed / Skipped / Total] 35 / 1 / 14 / 50:  10%|██▍                     | 50/500 [02:25<21:47,  2.91s/it]textattack: Saving checkpoint under \"checkpoints\\1720173120899.ta.chkpt\" at 2024-07-05 17:52:00 after 50 attacks.\n"
     ]
    },
    {
     "name": "stdout",
     "output_type": "stream",
     "text": [
      "\n",
      "\n",
      "=============================================================================================================================\n",
      "=============================================================================================================================\n",
      "\n"
     ]
    },
    {
     "name": "stderr",
     "output_type": "stream",
     "text": [
      "[Succeeded / Failed / Skipped / Total] 40 / 1 / 14 / 55:  11%|██▋                     | 55/500 [02:45<22:20,  3.01s/it]textattack: Saving checkpoint under \"checkpoints\\1720173141374.ta.chkpt\" at 2024-07-05 17:52:21 after 55 attacks.\n"
     ]
    },
    {
     "name": "stdout",
     "output_type": "stream",
     "text": [
      "\n",
      "\n",
      "=============================================================================================================================\n",
      "=============================================================================================================================\n",
      "\n"
     ]
    },
    {
     "name": "stderr",
     "output_type": "stream",
     "text": [
      "[Succeeded / Failed / Skipped / Total] 44 / 1 / 15 / 60:  12%|██▉                     | 60/500 [02:52<21:06,  2.88s/it]textattack: Saving checkpoint under \"checkpoints\\1720173148292.ta.chkpt\" at 2024-07-05 17:52:28 after 60 attacks.\n",
      "[Succeeded / Failed / Skipped / Total] 44 / 1 / 17 / 62:  12%|██▉                     | 62/500 [02:52<20:20,  2.79s/it]"
     ]
    },
    {
     "name": "stdout",
     "output_type": "stream",
     "text": [
      "\n",
      "\n",
      "=============================================================================================================================\n",
      "=============================================================================================================================\n",
      "\n"
     ]
    },
    {
     "name": "stderr",
     "output_type": "stream",
     "text": [
      "[Succeeded / Failed / Skipped / Total] 47 / 1 / 17 / 65:  13%|███                     | 65/500 [02:55<19:33,  2.70s/it]textattack: Saving checkpoint under \"checkpoints\\1720173150927.ta.chkpt\" at 2024-07-05 17:52:30 after 65 attacks.\n"
     ]
    },
    {
     "name": "stdout",
     "output_type": "stream",
     "text": [
      "\n",
      "\n",
      "=============================================================================================================================\n",
      "=============================================================================================================================\n",
      "\n"
     ]
    },
    {
     "name": "stderr",
     "output_type": "stream",
     "text": [
      "[Succeeded / Failed / Skipped / Total] 52 / 1 / 17 / 70:  14%|███▎                    | 70/500 [03:02<18:39,  2.60s/it]textattack: Saving checkpoint under \"checkpoints\\1720173157857.ta.chkpt\" at 2024-07-05 17:52:37 after 70 attacks.\n"
     ]
    },
    {
     "name": "stdout",
     "output_type": "stream",
     "text": [
      "\n",
      "\n",
      "=============================================================================================================================\n",
      "=============================================================================================================================\n",
      "\n"
     ]
    },
    {
     "name": "stderr",
     "output_type": "stream",
     "text": [
      "[Succeeded / Failed / Skipped / Total] 56 / 1 / 18 / 75:  15%|███▌                    | 75/500 [03:12<18:08,  2.56s/it]textattack: Saving checkpoint under \"checkpoints\\1720173167765.ta.chkpt\" at 2024-07-05 17:52:47 after 75 attacks.\n",
      "[Succeeded / Failed / Skipped / Total] 56 / 1 / 19 / 76:  15%|███▋                    | 76/500 [03:12<17:52,  2.53s/it]"
     ]
    },
    {
     "name": "stdout",
     "output_type": "stream",
     "text": [
      "\n",
      "\n",
      "=============================================================================================================================\n",
      "=============================================================================================================================\n",
      "\n"
     ]
    },
    {
     "name": "stderr",
     "output_type": "stream",
     "text": [
      "[Succeeded / Failed / Skipped / Total] 59 / 1 / 20 / 80:  16%|███▊                    | 80/500 [03:26<18:05,  2.58s/it]textattack: Saving checkpoint under \"checkpoints\\1720173182327.ta.chkpt\" at 2024-07-05 17:53:02 after 80 attacks.\n"
     ]
    },
    {
     "name": "stdout",
     "output_type": "stream",
     "text": [
      "\n",
      "\n",
      "=============================================================================================================================\n",
      "=============================================================================================================================\n",
      "\n"
     ]
    },
    {
     "name": "stderr",
     "output_type": "stream",
     "text": [
      "[Succeeded / Failed / Skipped / Total] 63 / 1 / 21 / 85:  17%|████                    | 85/500 [03:33<17:22,  2.51s/it]textattack: Saving checkpoint under \"checkpoints\\1720173189075.ta.chkpt\" at 2024-07-05 17:53:09 after 85 attacks.\n"
     ]
    },
    {
     "name": "stdout",
     "output_type": "stream",
     "text": [
      "\n",
      "\n",
      "=============================================================================================================================\n",
      "=============================================================================================================================\n",
      "\n"
     ]
    },
    {
     "name": "stderr",
     "output_type": "stream",
     "text": [
      "[Succeeded / Failed / Skipped / Total] 68 / 1 / 21 / 90:  18%|████▎                   | 90/500 [03:43<16:58,  2.48s/it]textattack: Saving checkpoint under \"checkpoints\\1720173199101.ta.chkpt\" at 2024-07-05 17:53:19 after 90 attacks.\n",
      "[Succeeded / Failed / Skipped / Total] 68 / 1 / 22 / 91:  18%|████▎                   | 91/500 [03:43<16:44,  2.46s/it]"
     ]
    },
    {
     "name": "stdout",
     "output_type": "stream",
     "text": [
      "\n",
      "\n",
      "=============================================================================================================================\n",
      "=============================================================================================================================\n",
      "\n"
     ]
    },
    {
     "name": "stderr",
     "output_type": "stream",
     "text": [
      "[Succeeded / Failed / Skipped / Total] 68 / 1 / 26 / 95:  19%|████▌                   | 95/500 [03:43<15:54,  2.36s/it]textattack: Saving checkpoint under \"checkpoints\\1720173199594.ta.chkpt\" at 2024-07-05 17:53:19 after 95 attacks.\n",
      "[Succeeded / Failed / Skipped / Total] 68 / 1 / 27 / 96:  19%|████▌                   | 96/500 [03:44<15:42,  2.33s/it]"
     ]
    },
    {
     "name": "stdout",
     "output_type": "stream",
     "text": [
      "\n",
      "\n",
      "=============================================================================================================================\n",
      "=============================================================================================================================\n",
      "\n"
     ]
    },
    {
     "name": "stderr",
     "output_type": "stream",
     "text": [
      "[Succeeded / Failed / Skipped / Total] 71 / 2 / 27 / 100:  20%|████▍                 | 100/500 [04:01<16:04,  2.41s/it]textattack: Saving checkpoint under \"checkpoints\\1720173216722.ta.chkpt\" at 2024-07-05 17:53:36 after 100 attacks.\n",
      "[Succeeded / Failed / Skipped / Total] 71 / 2 / 28 / 101:  20%|████▍                 | 101/500 [04:01<15:52,  2.39s/it]"
     ]
    },
    {
     "name": "stdout",
     "output_type": "stream",
     "text": [
      "\n",
      "\n",
      "=============================================================================================================================\n",
      "=============================================================================================================================\n",
      "\n"
     ]
    },
    {
     "name": "stderr",
     "output_type": "stream",
     "text": [
      "[Succeeded / Failed / Skipped / Total] 75 / 2 / 28 / 105:  21%|████▌                 | 105/500 [04:12<15:50,  2.41s/it]textattack: Saving checkpoint under \"checkpoints\\1720173228284.ta.chkpt\" at 2024-07-05 17:53:48 after 105 attacks.\n",
      "[Succeeded / Failed / Skipped / Total] 75 / 2 / 29 / 106:  21%|████▋                 | 106/500 [04:12<15:39,  2.38s/it]"
     ]
    },
    {
     "name": "stdout",
     "output_type": "stream",
     "text": [
      "\n",
      "\n",
      "=============================================================================================================================\n",
      "=============================================================================================================================\n",
      "\n"
     ]
    },
    {
     "name": "stderr",
     "output_type": "stream",
     "text": [
      "[Succeeded / Failed / Skipped / Total] 78 / 3 / 29 / 110:  22%|████▊                 | 110/500 [04:22<15:30,  2.39s/it]textattack: Saving checkpoint under \"checkpoints\\1720173238154.ta.chkpt\" at 2024-07-05 17:53:58 after 110 attacks.\n",
      "[Succeeded / Failed / Skipped / Total] 78 / 3 / 30 / 111:  22%|████▉                 | 111/500 [04:22<15:20,  2.37s/it]"
     ]
    },
    {
     "name": "stdout",
     "output_type": "stream",
     "text": [
      "\n",
      "\n",
      "=============================================================================================================================\n",
      "=============================================================================================================================\n",
      "\n"
     ]
    },
    {
     "name": "stderr",
     "output_type": "stream",
     "text": [
      "[Succeeded / Failed / Skipped / Total] 82 / 3 / 30 / 115:  23%|█████                 | 115/500 [04:34<15:19,  2.39s/it]textattack: Saving checkpoint under \"checkpoints\\1720173250197.ta.chkpt\" at 2024-07-05 17:54:10 after 115 attacks.\n",
      "[Succeeded / Failed / Skipped / Total] 82 / 3 / 31 / 116:  23%|█████                 | 116/500 [04:34<15:09,  2.37s/it]"
     ]
    },
    {
     "name": "stdout",
     "output_type": "stream",
     "text": [
      "\n",
      "\n",
      "=============================================================================================================================\n",
      "=============================================================================================================================\n",
      "\n"
     ]
    },
    {
     "name": "stderr",
     "output_type": "stream",
     "text": [
      "[Succeeded / Failed / Skipped / Total] 84 / 3 / 33 / 120:  24%|█████▎                | 120/500 [04:37<14:37,  2.31s/it]textattack: Saving checkpoint under \"checkpoints\\1720173252638.ta.chkpt\" at 2024-07-05 17:54:12 after 120 attacks.\n"
     ]
    },
    {
     "name": "stdout",
     "output_type": "stream",
     "text": [
      "\n",
      "\n",
      "=============================================================================================================================\n",
      "=============================================================================================================================\n",
      "\n"
     ]
    },
    {
     "name": "stderr",
     "output_type": "stream",
     "text": [
      "[Succeeded / Failed / Skipped / Total] 87 / 3 / 35 / 125:  25%|█████▌                | 125/500 [04:46<14:19,  2.29s/it]textattack: Saving checkpoint under \"checkpoints\\1720173262146.ta.chkpt\" at 2024-07-05 17:54:22 after 125 attacks.\n"
     ]
    },
    {
     "name": "stdout",
     "output_type": "stream",
     "text": [
      "\n",
      "\n",
      "=============================================================================================================================\n",
      "=============================================================================================================================\n",
      "\n"
     ]
    },
    {
     "name": "stderr",
     "output_type": "stream",
     "text": [
      "[Succeeded / Failed / Skipped / Total] 92 / 3 / 35 / 130:  26%|█████▋                | 130/500 [04:59<14:13,  2.31s/it]textattack: Saving checkpoint under \"checkpoints\\1720173275595.ta.chkpt\" at 2024-07-05 17:54:35 after 130 attacks.\n",
      "[Succeeded / Failed / Skipped / Total] 92 / 3 / 36 / 131:  26%|█████▊                | 131/500 [05:00<14:05,  2.29s/it]"
     ]
    },
    {
     "name": "stdout",
     "output_type": "stream",
     "text": [
      "\n",
      "\n",
      "=============================================================================================================================\n",
      "=============================================================================================================================\n",
      "\n"
     ]
    },
    {
     "name": "stderr",
     "output_type": "stream",
     "text": [
      "[Succeeded / Failed / Skipped / Total] 95 / 3 / 37 / 135:  27%|█████▉                | 135/500 [05:09<13:56,  2.29s/it]textattack: Saving checkpoint under \"checkpoints\\1720173285080.ta.chkpt\" at 2024-07-05 17:54:45 after 135 attacks.\n",
      "[Succeeded / Failed / Skipped / Total] 95 / 3 / 38 / 136:  27%|█████▉                | 136/500 [05:09<13:48,  2.28s/it]"
     ]
    },
    {
     "name": "stdout",
     "output_type": "stream",
     "text": [
      "\n",
      "\n",
      "=============================================================================================================================\n",
      "=============================================================================================================================\n",
      "\n"
     ]
    },
    {
     "name": "stderr",
     "output_type": "stream",
     "text": [
      "[Succeeded / Failed / Skipped / Total] 99 / 3 / 38 / 140:  28%|██████▏               | 140/500 [05:16<13:33,  2.26s/it]textattack: Saving checkpoint under \"checkpoints\\1720173291800.ta.chkpt\" at 2024-07-05 17:54:51 after 140 attacks.\n",
      "[Succeeded / Failed / Skipped / Total] 99 / 3 / 39 / 141:  28%|██████▏               | 141/500 [05:16<13:25,  2.24s/it]"
     ]
    },
    {
     "name": "stdout",
     "output_type": "stream",
     "text": [
      "\n",
      "\n",
      "=============================================================================================================================\n",
      "=============================================================================================================================\n",
      "\n"
     ]
    },
    {
     "name": "stderr",
     "output_type": "stream",
     "text": [
      "[Succeeded / Failed / Skipped / Total] 102 / 3 / 40 / 145:  29%|██████               | 145/500 [05:21<13:07,  2.22s/it]textattack: Saving checkpoint under \"checkpoints\\1720173297378.ta.chkpt\" at 2024-07-05 17:54:57 after 145 attacks.\n",
      "[Succeeded / Failed / Skipped / Total] 102 / 3 / 41 / 146:  29%|██████▏              | 146/500 [05:21<13:00,  2.20s/it]"
     ]
    },
    {
     "name": "stdout",
     "output_type": "stream",
     "text": [
      "\n",
      "\n",
      "=============================================================================================================================\n",
      "=============================================================================================================================\n",
      "\n"
     ]
    },
    {
     "name": "stderr",
     "output_type": "stream",
     "text": [
      "[Succeeded / Failed / Skipped / Total] 104 / 3 / 43 / 150:  30%|██████▎              | 150/500 [05:24<12:37,  2.16s/it]textattack: Saving checkpoint under \"checkpoints\\1720173300285.ta.chkpt\" at 2024-07-05 17:55:00 after 150 attacks.\n"
     ]
    },
    {
     "name": "stdout",
     "output_type": "stream",
     "text": [
      "\n",
      "\n",
      "=============================================================================================================================\n",
      "=============================================================================================================================\n",
      "\n"
     ]
    },
    {
     "name": "stderr",
     "output_type": "stream",
     "text": [
      "[Succeeded / Failed / Skipped / Total] 106 / 3 / 46 / 155:  31%|██████▌              | 155/500 [05:26<12:07,  2.11s/it]textattack: Saving checkpoint under \"checkpoints\\1720173302535.ta.chkpt\" at 2024-07-05 17:55:02 after 155 attacks.\n"
     ]
    },
    {
     "name": "stdout",
     "output_type": "stream",
     "text": [
      "\n",
      "\n",
      "=============================================================================================================================\n",
      "=============================================================================================================================\n",
      "\n"
     ]
    },
    {
     "name": "stderr",
     "output_type": "stream",
     "text": [
      "[Succeeded / Failed / Skipped / Total] 109 / 3 / 48 / 160:  32%|██████▋              | 160/500 [05:41<12:05,  2.13s/it]textattack: Saving checkpoint under \"checkpoints\\1720173316896.ta.chkpt\" at 2024-07-05 17:55:16 after 160 attacks.\n",
      "[Succeeded / Failed / Skipped / Total] 109 / 3 / 49 / 161:  32%|██████▊              | 161/500 [05:41<11:58,  2.12s/it]"
     ]
    },
    {
     "name": "stdout",
     "output_type": "stream",
     "text": [
      "\n",
      "\n",
      "=============================================================================================================================\n",
      "=============================================================================================================================\n",
      "\n"
     ]
    },
    {
     "name": "stderr",
     "output_type": "stream",
     "text": [
      "[Succeeded / Failed / Skipped / Total] 112 / 3 / 50 / 165:  33%|██████▉              | 165/500 [05:48<11:47,  2.11s/it]textattack: Saving checkpoint under \"checkpoints\\1720173324256.ta.chkpt\" at 2024-07-05 17:55:24 after 165 attacks.\n",
      "[Succeeded / Failed / Skipped / Total] 112 / 3 / 51 / 166:  33%|██████▉              | 166/500 [05:48<11:41,  2.10s/it]"
     ]
    },
    {
     "name": "stdout",
     "output_type": "stream",
     "text": [
      "\n",
      "\n",
      "=============================================================================================================================\n",
      "=============================================================================================================================\n",
      "\n"
     ]
    },
    {
     "name": "stderr",
     "output_type": "stream",
     "text": [
      "[Succeeded / Failed / Skipped / Total] 114 / 3 / 53 / 170:  34%|███████▏             | 170/500 [05:51<11:23,  2.07s/it]textattack: Saving checkpoint under \"checkpoints\\1720173327631.ta.chkpt\" at 2024-07-05 17:55:27 after 170 attacks.\n"
     ]
    },
    {
     "name": "stdout",
     "output_type": "stream",
     "text": [
      "\n",
      "\n",
      "=============================================================================================================================\n",
      "=============================================================================================================================\n",
      "\n"
     ]
    },
    {
     "name": "stderr",
     "output_type": "stream",
     "text": [
      "[Succeeded / Failed / Skipped / Total] 118 / 3 / 54 / 175:  35%|███████▎             | 175/500 [06:12<11:31,  2.13s/it]textattack: Saving checkpoint under \"checkpoints\\1720173347820.ta.chkpt\" at 2024-07-05 17:55:47 after 175 attacks.\n",
      "[Succeeded / Failed / Skipped / Total] 118 / 3 / 55 / 176:  35%|███████▍             | 176/500 [06:12<11:25,  2.12s/it]"
     ]
    },
    {
     "name": "stdout",
     "output_type": "stream",
     "text": [
      "\n",
      "\n",
      "=============================================================================================================================\n",
      "=============================================================================================================================\n",
      "\n"
     ]
    },
    {
     "name": "stderr",
     "output_type": "stream",
     "text": [
      "[Succeeded / Failed / Skipped / Total] 121 / 3 / 56 / 180:  36%|███████▌             | 180/500 [06:23<11:21,  2.13s/it]textattack: Saving checkpoint under \"checkpoints\\1720173358712.ta.chkpt\" at 2024-07-05 17:55:58 after 180 attacks.\n",
      "[Succeeded / Failed / Skipped / Total] 121 / 3 / 58 / 182:  36%|███████▋             | 182/500 [06:23<11:09,  2.11s/it]"
     ]
    },
    {
     "name": "stdout",
     "output_type": "stream",
     "text": [
      "\n",
      "\n",
      "=============================================================================================================================\n",
      "=============================================================================================================================\n",
      "\n"
     ]
    },
    {
     "name": "stderr",
     "output_type": "stream",
     "text": [
      "[Succeeded / Failed / Skipped / Total] 122 / 3 / 60 / 185:  37%|███████▊             | 185/500 [06:24<10:54,  2.08s/it]textattack: Saving checkpoint under \"checkpoints\\1720173360259.ta.chkpt\" at 2024-07-05 17:56:00 after 185 attacks.\n"
     ]
    },
    {
     "name": "stdout",
     "output_type": "stream",
     "text": [
      "\n",
      "\n",
      "=============================================================================================================================\n",
      "=============================================================================================================================\n",
      "\n"
     ]
    },
    {
     "name": "stderr",
     "output_type": "stream",
     "text": [
      "[Succeeded / Failed / Skipped / Total] 127 / 3 / 60 / 190:  38%|███████▉             | 190/500 [06:45<11:00,  2.13s/it]textattack: Saving checkpoint under \"checkpoints\\1720173380640.ta.chkpt\" at 2024-07-05 17:56:20 after 190 attacks.\n"
     ]
    },
    {
     "name": "stdout",
     "output_type": "stream",
     "text": [
      "\n",
      "\n",
      "=============================================================================================================================\n",
      "=============================================================================================================================\n",
      "\n"
     ]
    },
    {
     "name": "stderr",
     "output_type": "stream",
     "text": [
      "[Succeeded / Failed / Skipped / Total] 131 / 3 / 61 / 195:  39%|████████▏            | 195/500 [06:56<10:50,  2.13s/it]textattack: Saving checkpoint under \"checkpoints\\1720173391658.ta.chkpt\" at 2024-07-05 17:56:31 after 195 attacks.\n"
     ]
    },
    {
     "name": "stdout",
     "output_type": "stream",
     "text": [
      "\n",
      "\n",
      "=============================================================================================================================\n",
      "=============================================================================================================================\n",
      "\n"
     ]
    },
    {
     "name": "stderr",
     "output_type": "stream",
     "text": [
      "[Succeeded / Failed / Skipped / Total] 135 / 3 / 62 / 200:  40%|████████▍            | 200/500 [07:18<10:57,  2.19s/it]textattack: Saving checkpoint under \"checkpoints\\1720173413666.ta.chkpt\" at 2024-07-05 17:56:53 after 200 attacks.\n"
     ]
    },
    {
     "name": "stdout",
     "output_type": "stream",
     "text": [
      "\n",
      "\n",
      "=============================================================================================================================\n",
      "=============================================================================================================================\n",
      "\n"
     ]
    },
    {
     "name": "stderr",
     "output_type": "stream",
     "text": [
      "[Succeeded / Failed / Skipped / Total] 139 / 3 / 63 / 205:  41%|████████▌            | 205/500 [07:26<10:42,  2.18s/it]textattack: Saving checkpoint under \"checkpoints\\1720173422159.ta.chkpt\" at 2024-07-05 17:57:02 after 205 attacks.\n",
      "[Succeeded / Failed / Skipped / Total] 139 / 3 / 64 / 206:  41%|████████▋            | 206/500 [07:26<10:37,  2.17s/it]"
     ]
    },
    {
     "name": "stdout",
     "output_type": "stream",
     "text": [
      "\n",
      "\n",
      "=============================================================================================================================\n",
      "=============================================================================================================================\n",
      "\n"
     ]
    },
    {
     "name": "stderr",
     "output_type": "stream",
     "text": [
      "[Succeeded / Failed / Skipped / Total] 142 / 3 / 65 / 210:  42%|████████▊            | 210/500 [07:31<10:22,  2.15s/it]textattack: Saving checkpoint under \"checkpoints\\1720173426675.ta.chkpt\" at 2024-07-05 17:57:06 after 210 attacks.\n"
     ]
    },
    {
     "name": "stdout",
     "output_type": "stream",
     "text": [
      "\n",
      "\n",
      "=============================================================================================================================\n",
      "=============================================================================================================================\n",
      "\n"
     ]
    },
    {
     "name": "stderr",
     "output_type": "stream",
     "text": [
      "[Succeeded / Failed / Skipped / Total] 147 / 3 / 65 / 215:  43%|█████████            | 215/500 [07:45<10:16,  2.16s/it]textattack: Saving checkpoint under \"checkpoints\\1720173440645.ta.chkpt\" at 2024-07-05 17:57:20 after 215 attacks.\n"
     ]
    },
    {
     "name": "stdout",
     "output_type": "stream",
     "text": [
      "\n",
      "\n",
      "=============================================================================================================================\n",
      "=============================================================================================================================\n",
      "\n"
     ]
    },
    {
     "name": "stderr",
     "output_type": "stream",
     "text": [
      "[Succeeded / Failed / Skipped / Total] 152 / 3 / 65 / 220:  44%|█████████▏           | 220/500 [07:52<10:01,  2.15s/it]textattack: Saving checkpoint under \"checkpoints\\1720173448380.ta.chkpt\" at 2024-07-05 17:57:28 after 220 attacks.\n"
     ]
    },
    {
     "name": "stdout",
     "output_type": "stream",
     "text": [
      "\n",
      "\n",
      "=============================================================================================================================\n",
      "=============================================================================================================================\n",
      "\n"
     ]
    },
    {
     "name": "stderr",
     "output_type": "stream",
     "text": [
      "[Succeeded / Failed / Skipped / Total] 156 / 3 / 66 / 225:  45%|█████████▍           | 225/500 [08:08<09:56,  2.17s/it]textattack: Saving checkpoint under \"checkpoints\\1720173463913.ta.chkpt\" at 2024-07-05 17:57:43 after 225 attacks.\n"
     ]
    },
    {
     "name": "stdout",
     "output_type": "stream",
     "text": [
      "\n",
      "\n",
      "=============================================================================================================================\n",
      "=============================================================================================================================\n",
      "\n"
     ]
    },
    {
     "name": "stderr",
     "output_type": "stream",
     "text": [
      "[Succeeded / Failed / Skipped / Total] 158 / 3 / 69 / 230:  46%|█████████▋           | 230/500 [08:15<09:41,  2.15s/it]textattack: Saving checkpoint under \"checkpoints\\1720173471117.ta.chkpt\" at 2024-07-05 17:57:51 after 230 attacks.\n"
     ]
    },
    {
     "name": "stdout",
     "output_type": "stream",
     "text": [
      "\n",
      "\n",
      "=============================================================================================================================\n",
      "=============================================================================================================================\n",
      "\n"
     ]
    },
    {
     "name": "stderr",
     "output_type": "stream",
     "text": [
      "[Succeeded / Failed / Skipped / Total] 163 / 3 / 69 / 235:  47%|█████████▊           | 235/500 [08:23<09:27,  2.14s/it]textattack: Saving checkpoint under \"checkpoints\\1720173478732.ta.chkpt\" at 2024-07-05 17:57:58 after 235 attacks.\n",
      "[Succeeded / Failed / Skipped / Total] 163 / 3 / 70 / 236:  47%|█████████▉           | 236/500 [08:23<09:22,  2.13s/it]"
     ]
    },
    {
     "name": "stdout",
     "output_type": "stream",
     "text": [
      "\n",
      "\n",
      "=============================================================================================================================\n",
      "=============================================================================================================================\n",
      "\n"
     ]
    },
    {
     "name": "stderr",
     "output_type": "stream",
     "text": [
      "[Succeeded / Failed / Skipped / Total] 167 / 3 / 70 / 240:  48%|██████████           | 240/500 [08:31<09:13,  2.13s/it]textattack: Saving checkpoint under \"checkpoints\\1720173486811.ta.chkpt\" at 2024-07-05 17:58:06 after 240 attacks.\n"
     ]
    },
    {
     "name": "stdout",
     "output_type": "stream",
     "text": [
      "\n",
      "\n",
      "=============================================================================================================================\n",
      "=============================================================================================================================\n",
      "\n"
     ]
    },
    {
     "name": "stderr",
     "output_type": "stream",
     "text": [
      "[Succeeded / Failed / Skipped / Total] 171 / 3 / 71 / 245:  49%|██████████▎          | 245/500 [08:43<09:04,  2.14s/it]textattack: Saving checkpoint under \"checkpoints\\1720173498718.ta.chkpt\" at 2024-07-05 17:58:18 after 245 attacks.\n"
     ]
    },
    {
     "name": "stdout",
     "output_type": "stream",
     "text": [
      "\n",
      "\n",
      "=============================================================================================================================\n",
      "=============================================================================================================================\n",
      "\n"
     ]
    },
    {
     "name": "stderr",
     "output_type": "stream",
     "text": [
      "[Succeeded / Failed / Skipped / Total] 174 / 3 / 73 / 250:  50%|██████████▌          | 250/500 [08:50<08:50,  2.12s/it]textattack: Saving checkpoint under \"checkpoints\\1720173506422.ta.chkpt\" at 2024-07-05 17:58:26 after 250 attacks.\n"
     ]
    },
    {
     "name": "stdout",
     "output_type": "stream",
     "text": [
      "\n",
      "\n",
      "=============================================================================================================================\n",
      "=============================================================================================================================\n",
      "\n"
     ]
    },
    {
     "name": "stderr",
     "output_type": "stream",
     "text": [
      "[Succeeded / Failed / Skipped / Total] 178 / 3 / 74 / 255:  51%|██████████▋          | 255/500 [09:02<08:40,  2.13s/it]textattack: Saving checkpoint under \"checkpoints\\1720173517782.ta.chkpt\" at 2024-07-05 17:58:37 after 255 attacks.\n"
     ]
    },
    {
     "name": "stdout",
     "output_type": "stream",
     "text": [
      "\n",
      "\n",
      "=============================================================================================================================\n",
      "=============================================================================================================================\n",
      "\n"
     ]
    },
    {
     "name": "stderr",
     "output_type": "stream",
     "text": [
      "[Succeeded / Failed / Skipped / Total] 181 / 3 / 76 / 260:  52%|██████████▉          | 260/500 [09:06<08:24,  2.10s/it]textattack: Saving checkpoint under \"checkpoints\\1720173522485.ta.chkpt\" at 2024-07-05 17:58:42 after 260 attacks.\n"
     ]
    },
    {
     "name": "stdout",
     "output_type": "stream",
     "text": [
      "\n",
      "\n",
      "=============================================================================================================================\n",
      "=============================================================================================================================\n",
      "\n"
     ]
    },
    {
     "name": "stderr",
     "output_type": "stream",
     "text": [
      "[Succeeded / Failed / Skipped / Total] 185 / 4 / 76 / 265:  53%|███████████▏         | 265/500 [09:23<08:19,  2.13s/it]textattack: Saving checkpoint under \"checkpoints\\1720173539096.ta.chkpt\" at 2024-07-05 17:58:59 after 265 attacks.\n"
     ]
    },
    {
     "name": "stdout",
     "output_type": "stream",
     "text": [
      "\n",
      "\n",
      "=============================================================================================================================\n",
      "=============================================================================================================================\n",
      "\n"
     ]
    },
    {
     "name": "stderr",
     "output_type": "stream",
     "text": [
      "[Succeeded / Failed / Skipped / Total] 190 / 4 / 76 / 270:  54%|███████████▎         | 270/500 [09:54<08:26,  2.20s/it]textattack: Saving checkpoint under \"checkpoints\\1720173570380.ta.chkpt\" at 2024-07-05 17:59:30 after 270 attacks.\n",
      "[Succeeded / Failed / Skipped / Total] 190 / 4 / 78 / 272:  54%|███████████▍         | 272/500 [09:54<08:18,  2.19s/it]"
     ]
    },
    {
     "name": "stdout",
     "output_type": "stream",
     "text": [
      "\n",
      "\n",
      "=============================================================================================================================\n",
      "=============================================================================================================================\n",
      "\n"
     ]
    },
    {
     "name": "stderr",
     "output_type": "stream",
     "text": [
      "[Succeeded / Failed / Skipped / Total] 191 / 4 / 80 / 275:  55%|███████████▌         | 275/500 [09:57<08:09,  2.17s/it]textattack: Saving checkpoint under \"checkpoints\\1720173573599.ta.chkpt\" at 2024-07-05 17:59:33 after 275 attacks.\n"
     ]
    },
    {
     "name": "stdout",
     "output_type": "stream",
     "text": [
      "\n",
      "\n",
      "=============================================================================================================================\n",
      "=============================================================================================================================\n",
      "\n"
     ]
    },
    {
     "name": "stderr",
     "output_type": "stream",
     "text": [
      "[Succeeded / Failed / Skipped / Total] 194 / 4 / 82 / 280:  56%|███████████▊         | 280/500 [10:03<07:54,  2.16s/it]textattack: Saving checkpoint under \"checkpoints\\1720173579429.ta.chkpt\" at 2024-07-05 17:59:39 after 280 attacks.\n"
     ]
    },
    {
     "name": "stdout",
     "output_type": "stream",
     "text": [
      "\n",
      "\n",
      "=============================================================================================================================\n",
      "=============================================================================================================================\n",
      "\n"
     ]
    },
    {
     "name": "stderr",
     "output_type": "stream",
     "text": [
      "[Succeeded / Failed / Skipped / Total] 195 / 5 / 85 / 285:  57%|███████████▉         | 285/500 [10:13<07:42,  2.15s/it]textattack: Saving checkpoint under \"checkpoints\\1720173589132.ta.chkpt\" at 2024-07-05 17:59:49 after 285 attacks.\n",
      "[Succeeded / Failed / Skipped / Total] 195 / 5 / 87 / 287:  57%|████████████         | 287/500 [10:13<07:35,  2.14s/it]"
     ]
    },
    {
     "name": "stdout",
     "output_type": "stream",
     "text": [
      "\n",
      "\n",
      "=============================================================================================================================\n",
      "=============================================================================================================================\n",
      "\n"
     ]
    },
    {
     "name": "stderr",
     "output_type": "stream",
     "text": [
      "[Succeeded / Failed / Skipped / Total] 198 / 5 / 87 / 290:  58%|████████████▏        | 290/500 [10:17<07:26,  2.13s/it]textattack: Saving checkpoint under \"checkpoints\\1720173592852.ta.chkpt\" at 2024-07-05 17:59:52 after 290 attacks.\n",
      "[Succeeded / Failed / Skipped / Total] 198 / 5 / 88 / 291:  58%|████████████▏        | 291/500 [10:17<07:23,  2.12s/it]"
     ]
    },
    {
     "name": "stdout",
     "output_type": "stream",
     "text": [
      "\n",
      "\n",
      "=============================================================================================================================\n",
      "=============================================================================================================================\n",
      "\n"
     ]
    },
    {
     "name": "stderr",
     "output_type": "stream",
     "text": [
      "[Succeeded / Failed / Skipped / Total] 200 / 5 / 90 / 295:  59%|████████████▍        | 295/500 [10:19<07:10,  2.10s/it]textattack: Saving checkpoint under \"checkpoints\\1720173595211.ta.chkpt\" at 2024-07-05 17:59:55 after 295 attacks.\n"
     ]
    },
    {
     "name": "stdout",
     "output_type": "stream",
     "text": [
      "\n",
      "\n",
      "=============================================================================================================================\n",
      "=============================================================================================================================\n",
      "\n"
     ]
    },
    {
     "name": "stderr",
     "output_type": "stream",
     "text": [
      "[Succeeded / Failed / Skipped / Total] 204 / 5 / 91 / 300:  60%|████████████▌        | 300/500 [10:29<06:59,  2.10s/it]textattack: Saving checkpoint under \"checkpoints\\1720173605118.ta.chkpt\" at 2024-07-05 18:00:05 after 300 attacks.\n"
     ]
    },
    {
     "name": "stdout",
     "output_type": "stream",
     "text": [
      "\n",
      "\n",
      "=============================================================================================================================\n",
      "=============================================================================================================================\n",
      "\n"
     ]
    },
    {
     "name": "stderr",
     "output_type": "stream",
     "text": [
      "[Succeeded / Failed / Skipped / Total] 208 / 5 / 92 / 305:  61%|████████████▊        | 305/500 [10:37<06:47,  2.09s/it]textattack: Saving checkpoint under \"checkpoints\\1720173612963.ta.chkpt\" at 2024-07-05 18:00:12 after 305 attacks.\n"
     ]
    },
    {
     "name": "stdout",
     "output_type": "stream",
     "text": [
      "\n",
      "\n",
      "=============================================================================================================================\n",
      "=============================================================================================================================\n",
      "\n"
     ]
    },
    {
     "name": "stderr",
     "output_type": "stream",
     "text": [
      "[Succeeded / Failed / Skipped / Total] 213 / 5 / 92 / 310:  62%|█████████████        | 310/500 [10:41<06:33,  2.07s/it]textattack: Saving checkpoint under \"checkpoints\\1720173617494.ta.chkpt\" at 2024-07-05 18:00:17 after 310 attacks.\n"
     ]
    },
    {
     "name": "stdout",
     "output_type": "stream",
     "text": [
      "\n",
      "\n",
      "=============================================================================================================================\n",
      "=============================================================================================================================\n",
      "\n"
     ]
    },
    {
     "name": "stderr",
     "output_type": "stream",
     "text": [
      "[Succeeded / Failed / Skipped / Total] 215 / 5 / 95 / 315:  63%|█████████████▏       | 315/500 [10:47<06:20,  2.06s/it]textattack: Saving checkpoint under \"checkpoints\\1720173623260.ta.chkpt\" at 2024-07-05 18:00:23 after 315 attacks.\n"
     ]
    },
    {
     "name": "stdout",
     "output_type": "stream",
     "text": [
      "\n",
      "\n",
      "=============================================================================================================================\n",
      "=============================================================================================================================\n",
      "\n"
     ]
    },
    {
     "name": "stderr",
     "output_type": "stream",
     "text": [
      "[Succeeded / Failed / Skipped / Total] 218 / 5 / 97 / 320:  64%|█████████████▍       | 320/500 [11:01<06:12,  2.07s/it]textattack: Saving checkpoint under \"checkpoints\\1720173637047.ta.chkpt\" at 2024-07-05 18:00:37 after 320 attacks.\n"
     ]
    },
    {
     "name": "stdout",
     "output_type": "stream",
     "text": [
      "\n",
      "\n",
      "=============================================================================================================================\n",
      "=============================================================================================================================\n",
      "\n"
     ]
    },
    {
     "name": "stderr",
     "output_type": "stream",
     "text": [
      "[Succeeded / Failed / Skipped / Total] 221 / 5 / 99 / 325:  65%|█████████████▋       | 325/500 [11:37<06:15,  2.15s/it]textattack: Saving checkpoint under \"checkpoints\\1720173672998.ta.chkpt\" at 2024-07-05 18:01:12 after 325 attacks.\n"
     ]
    },
    {
     "name": "stdout",
     "output_type": "stream",
     "text": [
      "\n",
      "\n",
      "=============================================================================================================================\n",
      "=============================================================================================================================\n",
      "\n"
     ]
    },
    {
     "name": "stderr",
     "output_type": "stream",
     "text": [
      "[Succeeded / Failed / Skipped / Total] 225 / 5 / 100 / 330:  66%|█████████████▏      | 330/500 [11:45<06:03,  2.14s/it]textattack: Saving checkpoint under \"checkpoints\\1720173680782.ta.chkpt\" at 2024-07-05 18:01:20 after 330 attacks.\n"
     ]
    },
    {
     "name": "stdout",
     "output_type": "stream",
     "text": [
      "\n",
      "\n",
      "=============================================================================================================================\n",
      "=============================================================================================================================\n",
      "\n"
     ]
    },
    {
     "name": "stderr",
     "output_type": "stream",
     "text": [
      "[Succeeded / Failed / Skipped / Total] 230 / 5 / 100 / 335:  67%|█████████████▍      | 335/500 [12:11<06:00,  2.18s/it]textattack: Saving checkpoint under \"checkpoints\\1720173707392.ta.chkpt\" at 2024-07-05 18:01:47 after 335 attacks.\n",
      "[Succeeded / Failed / Skipped / Total] 230 / 5 / 101 / 336:  67%|█████████████▍      | 336/500 [12:11<05:57,  2.18s/it]"
     ]
    },
    {
     "name": "stdout",
     "output_type": "stream",
     "text": [
      "\n",
      "\n",
      "=============================================================================================================================\n",
      "=============================================================================================================================\n",
      "\n"
     ]
    },
    {
     "name": "stderr",
     "output_type": "stream",
     "text": [
      "[Succeeded / Failed / Skipped / Total] 234 / 5 / 101 / 340:  68%|█████████████▌      | 340/500 [12:25<05:50,  2.19s/it]textattack: Saving checkpoint under \"checkpoints\\1720173721215.ta.chkpt\" at 2024-07-05 18:02:01 after 340 attacks.\n"
     ]
    },
    {
     "name": "stdout",
     "output_type": "stream",
     "text": [
      "\n",
      "\n",
      "=============================================================================================================================\n",
      "=============================================================================================================================\n",
      "\n"
     ]
    },
    {
     "name": "stderr",
     "output_type": "stream",
     "text": [
      "[Succeeded / Failed / Skipped / Total] 237 / 5 / 103 / 345:  69%|█████████████▊      | 345/500 [12:33<05:38,  2.18s/it]textattack: Saving checkpoint under \"checkpoints\\1720173728733.ta.chkpt\" at 2024-07-05 18:02:08 after 345 attacks.\n"
     ]
    },
    {
     "name": "stdout",
     "output_type": "stream",
     "text": [
      "\n",
      "\n",
      "=============================================================================================================================\n",
      "=============================================================================================================================\n",
      "\n"
     ]
    },
    {
     "name": "stderr",
     "output_type": "stream",
     "text": [
      "[Succeeded / Failed / Skipped / Total] 240 / 5 / 105 / 350:  70%|██████████████      | 350/500 [12:43<05:27,  2.18s/it]textattack: Saving checkpoint under \"checkpoints\\1720173739217.ta.chkpt\" at 2024-07-05 18:02:19 after 350 attacks.\n"
     ]
    },
    {
     "name": "stdout",
     "output_type": "stream",
     "text": [
      "\n",
      "\n",
      "=============================================================================================================================\n",
      "=============================================================================================================================\n",
      "\n"
     ]
    },
    {
     "name": "stderr",
     "output_type": "stream",
     "text": [
      "[Succeeded / Failed / Skipped / Total] 245 / 5 / 105 / 355:  71%|██████████████▏     | 355/500 [13:01<05:19,  2.20s/it]textattack: Saving checkpoint under \"checkpoints\\1720173756720.ta.chkpt\" at 2024-07-05 18:02:36 after 355 attacks.\n"
     ]
    },
    {
     "name": "stdout",
     "output_type": "stream",
     "text": [
      "\n",
      "\n",
      "=============================================================================================================================\n",
      "=============================================================================================================================\n",
      "\n"
     ]
    },
    {
     "name": "stderr",
     "output_type": "stream",
     "text": [
      "[Succeeded / Failed / Skipped / Total] 249 / 5 / 106 / 360:  72%|██████████████▍     | 360/500 [13:17<05:10,  2.22s/it]textattack: Saving checkpoint under \"checkpoints\\1720173773416.ta.chkpt\" at 2024-07-05 18:02:53 after 360 attacks.\n"
     ]
    },
    {
     "name": "stdout",
     "output_type": "stream",
     "text": [
      "\n",
      "\n",
      "=============================================================================================================================\n",
      "=============================================================================================================================\n",
      "\n"
     ]
    },
    {
     "name": "stderr",
     "output_type": "stream",
     "text": [
      "[Succeeded / Failed / Skipped / Total] 253 / 5 / 107 / 365:  73%|██████████████▌     | 365/500 [13:35<05:01,  2.23s/it]textattack: Saving checkpoint under \"checkpoints\\1720173790778.ta.chkpt\" at 2024-07-05 18:03:10 after 365 attacks.\n",
      "[Succeeded / Failed / Skipped / Total] 253 / 5 / 107 / 365:  73%|██████████████▋     | 366/500 [13:35<04:58,  2.23s/it]"
     ]
    },
    {
     "name": "stdout",
     "output_type": "stream",
     "text": [
      "\n",
      "\n",
      "=============================================================================================================================\n",
      "=============================================================================================================================\n",
      "\n"
     ]
    },
    {
     "name": "stderr",
     "output_type": "stream",
     "text": [
      "[Succeeded / Failed / Skipped / Total] 256 / 5 / 109 / 370:  74%|██████████████▊     | 370/500 [13:45<04:49,  2.23s/it]textattack: Saving checkpoint under \"checkpoints\\1720173800870.ta.chkpt\" at 2024-07-05 18:03:20 after 370 attacks.\n"
     ]
    },
    {
     "name": "stdout",
     "output_type": "stream",
     "text": [
      "\n",
      "\n",
      "=============================================================================================================================\n",
      "=============================================================================================================================\n",
      "\n"
     ]
    },
    {
     "name": "stderr",
     "output_type": "stream",
     "text": [
      "[Succeeded / Failed / Skipped / Total] 260 / 5 / 110 / 375:  75%|███████████████     | 375/500 [14:09<04:43,  2.26s/it]textattack: Saving checkpoint under \"checkpoints\\1720173824774.ta.chkpt\" at 2024-07-05 18:03:44 after 375 attacks.\n"
     ]
    },
    {
     "name": "stdout",
     "output_type": "stream",
     "text": [
      "\n",
      "\n",
      "=============================================================================================================================\n",
      "=============================================================================================================================\n",
      "\n"
     ]
    },
    {
     "name": "stderr",
     "output_type": "stream",
     "text": [
      "[Succeeded / Failed / Skipped / Total] 264 / 5 / 111 / 380:  76%|███████████████▏    | 380/500 [14:16<04:30,  2.26s/it]textattack: Saving checkpoint under \"checkpoints\\1720173832585.ta.chkpt\" at 2024-07-05 18:03:52 after 380 attacks.\n"
     ]
    },
    {
     "name": "stdout",
     "output_type": "stream",
     "text": [
      "\n",
      "\n",
      "=============================================================================================================================\n",
      "=============================================================================================================================\n",
      "\n"
     ]
    },
    {
     "name": "stderr",
     "output_type": "stream",
     "text": [
      "[Succeeded / Failed / Skipped / Total] 269 / 5 / 111 / 385:  77%|███████████████▍    | 385/500 [14:42<04:23,  2.29s/it]textattack: Saving checkpoint under \"checkpoints\\1720173858545.ta.chkpt\" at 2024-07-05 18:04:18 after 385 attacks.\n"
     ]
    },
    {
     "name": "stdout",
     "output_type": "stream",
     "text": [
      "\n",
      "\n",
      "=============================================================================================================================\n",
      "=============================================================================================================================\n",
      "\n"
     ]
    },
    {
     "name": "stderr",
     "output_type": "stream",
     "text": [
      "[Succeeded / Failed / Skipped / Total] 273 / 5 / 112 / 390:  78%|███████████████▌    | 390/500 [14:51<04:11,  2.29s/it]textattack: Saving checkpoint under \"checkpoints\\1720173867618.ta.chkpt\" at 2024-07-05 18:04:27 after 390 attacks.\n"
     ]
    },
    {
     "name": "stdout",
     "output_type": "stream",
     "text": [
      "\n",
      "\n",
      "=============================================================================================================================\n",
      "=============================================================================================================================\n",
      "\n"
     ]
    },
    {
     "name": "stderr",
     "output_type": "stream",
     "text": [
      "[Succeeded / Failed / Skipped / Total] 276 / 6 / 113 / 395:  79%|███████████████▊    | 395/500 [15:27<04:06,  2.35s/it]textattack: Saving checkpoint under \"checkpoints\\1720173903534.ta.chkpt\" at 2024-07-05 18:05:03 after 395 attacks.\n"
     ]
    },
    {
     "name": "stdout",
     "output_type": "stream",
     "text": [
      "\n",
      "\n",
      "=============================================================================================================================\n",
      "=============================================================================================================================\n",
      "\n"
     ]
    },
    {
     "name": "stderr",
     "output_type": "stream",
     "text": [
      "[Succeeded / Failed / Skipped / Total] 280 / 7 / 113 / 400:  80%|████████████████    | 400/500 [15:55<03:58,  2.39s/it]textattack: Saving checkpoint under \"checkpoints\\1720173931119.ta.chkpt\" at 2024-07-05 18:05:31 after 400 attacks.\n"
     ]
    },
    {
     "name": "stdout",
     "output_type": "stream",
     "text": [
      "\n",
      "\n",
      "=============================================================================================================================\n",
      "=============================================================================================================================\n",
      "\n"
     ]
    },
    {
     "name": "stderr",
     "output_type": "stream",
     "text": [
      "[Succeeded / Failed / Skipped / Total] 284 / 7 / 114 / 405:  81%|████████████████▏   | 405/500 [16:10<03:47,  2.40s/it]textattack: Saving checkpoint under \"checkpoints\\1720173946474.ta.chkpt\" at 2024-07-05 18:05:46 after 405 attacks.\n"
     ]
    },
    {
     "name": "stdout",
     "output_type": "stream",
     "text": [
      "\n",
      "\n",
      "=============================================================================================================================\n",
      "=============================================================================================================================\n",
      "\n"
     ]
    },
    {
     "name": "stderr",
     "output_type": "stream",
     "text": [
      "[Succeeded / Failed / Skipped / Total] 289 / 7 / 114 / 410:  82%|████████████████▍   | 410/500 [16:19<03:35,  2.39s/it]textattack: Saving checkpoint under \"checkpoints\\1720173955612.ta.chkpt\" at 2024-07-05 18:05:55 after 410 attacks.\n"
     ]
    },
    {
     "name": "stdout",
     "output_type": "stream",
     "text": [
      "\n",
      "\n",
      "=============================================================================================================================\n",
      "=============================================================================================================================\n",
      "\n"
     ]
    },
    {
     "name": "stderr",
     "output_type": "stream",
     "text": [
      "[Succeeded / Failed / Skipped / Total] 290 / 7 / 118 / 415:  83%|████████████████▌   | 415/500 [16:26<03:22,  2.38s/it]textattack: Saving checkpoint under \"checkpoints\\1720173962150.ta.chkpt\" at 2024-07-05 18:06:02 after 415 attacks.\n"
     ]
    },
    {
     "name": "stdout",
     "output_type": "stream",
     "text": [
      "\n",
      "\n",
      "=============================================================================================================================\n",
      "=============================================================================================================================\n",
      "\n"
     ]
    },
    {
     "name": "stderr",
     "output_type": "stream",
     "text": [
      "[Succeeded / Failed / Skipped / Total] 292 / 7 / 121 / 420:  84%|████████████████▊   | 420/500 [16:39<03:10,  2.38s/it]textattack: Saving checkpoint under \"checkpoints\\1720173974923.ta.chkpt\" at 2024-07-05 18:06:14 after 420 attacks.\n"
     ]
    },
    {
     "name": "stdout",
     "output_type": "stream",
     "text": [
      "\n",
      "\n",
      "=============================================================================================================================\n",
      "=============================================================================================================================\n",
      "\n"
     ]
    },
    {
     "name": "stderr",
     "output_type": "stream",
     "text": [
      "[Succeeded / Failed / Skipped / Total] 296 / 7 / 122 / 425:  85%|█████████████████   | 425/500 [16:46<02:57,  2.37s/it]textattack: Saving checkpoint under \"checkpoints\\1720173982082.ta.chkpt\" at 2024-07-05 18:06:22 after 425 attacks.\n"
     ]
    },
    {
     "name": "stdout",
     "output_type": "stream",
     "text": [
      "\n",
      "\n",
      "=============================================================================================================================\n",
      "=============================================================================================================================\n",
      "\n"
     ]
    },
    {
     "name": "stderr",
     "output_type": "stream",
     "text": [
      "[Succeeded / Failed / Skipped / Total] 300 / 7 / 123 / 430:  86%|█████████████████▏  | 430/500 [16:56<02:45,  2.36s/it]textattack: Saving checkpoint under \"checkpoints\\1720173991963.ta.chkpt\" at 2024-07-05 18:06:31 after 430 attacks.\n",
      "[Succeeded / Failed / Skipped / Total] 300 / 7 / 124 / 431:  86%|█████████████████▏  | 431/500 [16:56<02:42,  2.36s/it]"
     ]
    },
    {
     "name": "stdout",
     "output_type": "stream",
     "text": [
      "\n",
      "\n",
      "=============================================================================================================================\n",
      "=============================================================================================================================\n",
      "\n"
     ]
    },
    {
     "name": "stderr",
     "output_type": "stream",
     "text": [
      "[Succeeded / Failed / Skipped / Total] 303 / 7 / 125 / 435:  87%|█████████████████▍  | 435/500 [17:01<02:32,  2.35s/it]textattack: Saving checkpoint under \"checkpoints\\1720173996675.ta.chkpt\" at 2024-07-05 18:06:36 after 435 attacks.\n"
     ]
    },
    {
     "name": "stdout",
     "output_type": "stream",
     "text": [
      "\n",
      "\n",
      "=============================================================================================================================\n",
      "=============================================================================================================================\n",
      "\n"
     ]
    },
    {
     "name": "stderr",
     "output_type": "stream",
     "text": [
      "[Succeeded / Failed / Skipped / Total] 307 / 7 / 126 / 440:  88%|█████████████████▌  | 440/500 [17:38<02:24,  2.41s/it]textattack: Saving checkpoint under \"checkpoints\\1720174034448.ta.chkpt\" at 2024-07-05 18:07:14 after 440 attacks.\n",
      "[Succeeded / Failed / Skipped / Total] 307 / 7 / 127 / 441:  88%|█████████████████▋  | 441/500 [17:38<02:21,  2.40s/it]"
     ]
    },
    {
     "name": "stdout",
     "output_type": "stream",
     "text": [
      "\n",
      "\n",
      "=============================================================================================================================\n",
      "=============================================================================================================================\n",
      "\n"
     ]
    },
    {
     "name": "stderr",
     "output_type": "stream",
     "text": [
      "[Succeeded / Failed / Skipped / Total] 311 / 7 / 127 / 445:  89%|█████████████████▊  | 445/500 [17:46<02:11,  2.40s/it]textattack: Saving checkpoint under \"checkpoints\\1720174041891.ta.chkpt\" at 2024-07-05 18:07:21 after 445 attacks.\n"
     ]
    },
    {
     "name": "stdout",
     "output_type": "stream",
     "text": [
      "\n",
      "\n",
      "=============================================================================================================================\n",
      "=============================================================================================================================\n",
      "\n"
     ]
    },
    {
     "name": "stderr",
     "output_type": "stream",
     "text": [
      "[Succeeded / Failed / Skipped / Total] 313 / 8 / 129 / 450:  90%|██████████████████  | 450/500 [18:01<02:00,  2.40s/it]textattack: Saving checkpoint under \"checkpoints\\1720174057570.ta.chkpt\" at 2024-07-05 18:07:37 after 450 attacks.\n",
      "[Succeeded / Failed / Skipped / Total] 313 / 8 / 131 / 452:  90%|██████████████████  | 452/500 [18:02<01:54,  2.39s/it]"
     ]
    },
    {
     "name": "stdout",
     "output_type": "stream",
     "text": [
      "\n",
      "\n",
      "=============================================================================================================================\n",
      "=============================================================================================================================\n",
      "\n"
     ]
    },
    {
     "name": "stderr",
     "output_type": "stream",
     "text": [
      "[Succeeded / Failed / Skipped / Total] 315 / 8 / 132 / 455:  91%|██████████████████▏ | 455/500 [18:07<01:47,  2.39s/it]textattack: Saving checkpoint under \"checkpoints\\1720174063552.ta.chkpt\" at 2024-07-05 18:07:43 after 455 attacks.\n"
     ]
    },
    {
     "name": "stdout",
     "output_type": "stream",
     "text": [
      "\n",
      "\n",
      "=============================================================================================================================\n",
      "=============================================================================================================================\n",
      "\n"
     ]
    },
    {
     "name": "stderr",
     "output_type": "stream",
     "text": [
      "[Succeeded / Failed / Skipped / Total] 319 / 8 / 133 / 460:  92%|██████████████████▍ | 460/500 [18:25<01:36,  2.40s/it]textattack: Saving checkpoint under \"checkpoints\\1720174080852.ta.chkpt\" at 2024-07-05 18:08:00 after 460 attacks.\n"
     ]
    },
    {
     "name": "stdout",
     "output_type": "stream",
     "text": [
      "\n",
      "\n",
      "=============================================================================================================================\n",
      "=============================================================================================================================\n",
      "\n"
     ]
    },
    {
     "name": "stderr",
     "output_type": "stream",
     "text": [
      "[Succeeded / Failed / Skipped / Total] 323 / 8 / 134 / 465:  93%|██████████████████▌ | 465/500 [18:35<01:23,  2.40s/it]textattack: Saving checkpoint under \"checkpoints\\1720174091290.ta.chkpt\" at 2024-07-05 18:08:11 after 465 attacks.\n"
     ]
    },
    {
     "name": "stdout",
     "output_type": "stream",
     "text": [
      "\n",
      "\n",
      "=============================================================================================================================\n",
      "=============================================================================================================================\n",
      "\n"
     ]
    },
    {
     "name": "stderr",
     "output_type": "stream",
     "text": [
      "[Succeeded / Failed / Skipped / Total] 325 / 8 / 137 / 470:  94%|██████████████████▊ | 470/500 [18:38<01:11,  2.38s/it]textattack: Saving checkpoint under \"checkpoints\\1720174093896.ta.chkpt\" at 2024-07-05 18:08:13 after 470 attacks.\n"
     ]
    },
    {
     "name": "stdout",
     "output_type": "stream",
     "text": [
      "\n",
      "\n",
      "=============================================================================================================================\n",
      "=============================================================================================================================\n",
      "\n"
     ]
    },
    {
     "name": "stderr",
     "output_type": "stream",
     "text": [
      "[Succeeded / Failed / Skipped / Total] 330 / 8 / 137 / 475:  95%|███████████████████ | 475/500 [18:56<00:59,  2.39s/it]textattack: Saving checkpoint under \"checkpoints\\1720174112491.ta.chkpt\" at 2024-07-05 18:08:32 after 475 attacks.\n"
     ]
    },
    {
     "name": "stdout",
     "output_type": "stream",
     "text": [
      "\n",
      "\n",
      "=============================================================================================================================\n",
      "=============================================================================================================================\n",
      "\n"
     ]
    },
    {
     "name": "stderr",
     "output_type": "stream",
     "text": [
      "[Succeeded / Failed / Skipped / Total] 334 / 9 / 137 / 480:  96%|███████████████████▏| 480/500 [19:10<00:47,  2.40s/it]textattack: Saving checkpoint under \"checkpoints\\1720174126370.ta.chkpt\" at 2024-07-05 18:08:46 after 480 attacks.\n"
     ]
    },
    {
     "name": "stdout",
     "output_type": "stream",
     "text": [
      "\n",
      "\n",
      "=============================================================================================================================\n",
      "=============================================================================================================================\n",
      "\n"
     ]
    },
    {
     "name": "stderr",
     "output_type": "stream",
     "text": [
      "[Succeeded / Failed / Skipped / Total] 337 / 9 / 139 / 485:  97%|███████████████████▍| 485/500 [19:18<00:35,  2.39s/it]textattack: Saving checkpoint under \"checkpoints\\1720174134621.ta.chkpt\" at 2024-07-05 18:08:54 after 485 attacks.\n"
     ]
    },
    {
     "name": "stdout",
     "output_type": "stream",
     "text": [
      "\n",
      "\n",
      "=============================================================================================================================\n",
      "=============================================================================================================================\n",
      "\n"
     ]
    },
    {
     "name": "stderr",
     "output_type": "stream",
     "text": [
      "[Succeeded / Failed / Skipped / Total] 341 / 9 / 140 / 490:  98%|███████████████████▌| 490/500 [19:27<00:23,  2.38s/it]textattack: Saving checkpoint under \"checkpoints\\1720174143279.ta.chkpt\" at 2024-07-05 18:09:03 after 490 attacks.\n"
     ]
    },
    {
     "name": "stdout",
     "output_type": "stream",
     "text": [
      "\n",
      "\n",
      "=============================================================================================================================\n",
      "=============================================================================================================================\n",
      "\n"
     ]
    },
    {
     "name": "stderr",
     "output_type": "stream",
     "text": [
      "[Succeeded / Failed / Skipped / Total] 344 / 9 / 142 / 495:  99%|███████████████████▊| 495/500 [19:47<00:11,  2.40s/it]textattack: Saving checkpoint under \"checkpoints\\1720174162666.ta.chkpt\" at 2024-07-05 18:09:22 after 495 attacks.\n"
     ]
    },
    {
     "name": "stdout",
     "output_type": "stream",
     "text": [
      "\n",
      "\n",
      "=============================================================================================================================\n",
      "=============================================================================================================================\n",
      "\n"
     ]
    },
    {
     "name": "stderr",
     "output_type": "stream",
     "text": [
      "[Succeeded / Failed / Skipped / Total] 348 / 9 / 143 / 500: 100%|████████████████████| 500/500 [19:53<00:00,  2.39s/it]textattack: Saving checkpoint under \"checkpoints\\1720174169008.ta.chkpt\" at 2024-07-05 18:09:29 after 500 attacks.\n",
      "[Succeeded / Failed / Skipped / Total] 348 / 9 / 143 / 500: 100%|████████████████████| 500/500 [19:53<00:00,  2.39s/it]"
     ]
    },
    {
     "name": "stdout",
     "output_type": "stream",
     "text": [
      "\n",
      "\n",
      "=============================================================================================================================\n",
      "=============================================================================================================================\n",
      "\n",
      "\n",
      "+-------------------------------+--------+\n",
      "| Attack Results                |        |\n",
      "+-------------------------------+--------+\n",
      "| Number of successful attacks: | 348    |\n",
      "| Number of failed attacks:     | 9      |\n",
      "| Number of skipped attacks:    | 143    |\n",
      "| Original accuracy:            | 71.4%  |\n",
      "| Accuracy under attack:        | 1.8%   |\n",
      "| Attack success rate:          | 97.48% |\n",
      "| Average perturbed word %:     | 14.66% |\n",
      "| Average num. words per input: | 18.4   |\n",
      "| Avg num queries:              | 79.96  |\n",
      "+-------------------------------+--------+\n"
     ]
    },
    {
     "name": "stderr",
     "output_type": "stream",
     "text": [
      "\n"
     ]
    }
   ],
   "source": [
    "runAttack(bert_model_wrapper_rf_mr, n_samples, 'attack_results_new/bertmrattackrf'+suffix, target_ds_mr)"
   ]
  },
  {
   "cell_type": "code",
   "execution_count": 14,
   "id": "f75d34d5-d9aa-4d77-989d-db73f9ddeaab",
   "metadata": {},
   "outputs": [
    {
     "name": "stderr",
     "output_type": "stream",
     "text": [
      "textattack: Unknown if model of class <class 'transformers.models.bert.modeling_bert.BertModel'> compatible with goal function <class 'textattack.goal_functions.classification.untargeted_classification.UntargetedClassification'>.\n",
      "textattack: Logging to CSV at path attack_results_new/bertmrattackknnsim05.csv\n"
     ]
    },
    {
     "name": "stdout",
     "output_type": "stream",
     "text": [
      "Attack(\n",
      "  (search_method): GreedyWordSwapWIR(\n",
      "    (wir_method):  delete\n",
      "  )\n",
      "  (goal_function):  UntargetedClassification\n",
      "  (transformation):  WordSwapEmbedding(\n",
      "    (max_candidates):  50\n",
      "    (embedding):  WordEmbedding\n",
      "  )\n",
      "  (constraints): \n",
      "    (0): WordEmbeddingDistance(\n",
      "        (embedding):  WordEmbedding\n",
      "        (min_cos_sim):  0.5\n",
      "        (cased):  False\n",
      "        (include_unknown_words):  True\n",
      "        (compare_against_original):  True\n",
      "      )\n",
      "    (1): PartOfSpeech(\n",
      "        (tagger_type):  nltk\n",
      "        (tagset):  universal\n",
      "        (allow_verb_noun_swap):  True\n",
      "        (compare_against_original):  True\n",
      "      )\n",
      "    (2): UniversalSentenceEncoder(\n",
      "        (metric):  angular\n",
      "        (threshold):  0.840845057\n",
      "        (window_size):  15\n",
      "        (skip_text_shorter_than_window):  True\n",
      "        (compare_against_original):  False\n",
      "      )\n",
      "    (3): RepeatModification\n",
      "    (4): StopwordModification\n",
      "    (5): InputColumnModification(\n",
      "        (matching_column_labels):  ['premise', 'hypothesis']\n",
      "        (columns_to_ignore):  {'premise'}\n",
      "      )\n",
      "  (is_black_box):  True\n",
      ") \n",
      "\n"
     ]
    },
    {
     "name": "stderr",
     "output_type": "stream",
     "text": [
      "[Succeeded / Failed / Skipped / Total] 3 / 0 / 2 / 5:   1%|▎                           | 5/500 [00:12<20:43,  2.51s/it]textattack: Saving checkpoint under \"checkpoints\\1720174181732.ta.chkpt\" at 2024-07-05 18:09:41 after 5 attacks.\n",
      "[Succeeded / Failed / Skipped / Total] 3 / 0 / 3 / 6:   1%|▎                           | 6/500 [00:12<17:25,  2.12s/it]"
     ]
    },
    {
     "name": "stdout",
     "output_type": "stream",
     "text": [
      "\n",
      "\n",
      "=============================================================================================================================\n",
      "=============================================================================================================================\n",
      "\n"
     ]
    },
    {
     "name": "stderr",
     "output_type": "stream",
     "text": [
      "[Succeeded / Failed / Skipped / Total] 6 / 0 / 4 / 10:   2%|▌                         | 10/500 [00:17<14:11,  1.74s/it]textattack: Saving checkpoint under \"checkpoints\\1720174186544.ta.chkpt\" at 2024-07-05 18:09:46 after 10 attacks.\n"
     ]
    },
    {
     "name": "stdout",
     "output_type": "stream",
     "text": [
      "\n",
      "\n",
      "=============================================================================================================================\n",
      "=============================================================================================================================\n",
      "\n"
     ]
    },
    {
     "name": "stderr",
     "output_type": "stream",
     "text": [
      "[Succeeded / Failed / Skipped / Total] 8 / 1 / 6 / 15:   3%|▊                         | 15/500 [00:58<31:35,  3.91s/it]textattack: Saving checkpoint under \"checkpoints\\1720174227787.ta.chkpt\" at 2024-07-05 18:10:27 after 15 attacks.\n"
     ]
    },
    {
     "name": "stdout",
     "output_type": "stream",
     "text": [
      "\n",
      "\n",
      "=============================================================================================================================\n",
      "=============================================================================================================================\n",
      "\n"
     ]
    },
    {
     "name": "stderr",
     "output_type": "stream",
     "text": [
      "[Succeeded / Failed / Skipped / Total] 12 / 1 / 7 / 20:   4%|█                        | 20/500 [01:01<24:42,  3.09s/it]textattack: Saving checkpoint under \"checkpoints\\1720174230954.ta.chkpt\" at 2024-07-05 18:10:30 after 20 attacks.\n"
     ]
    },
    {
     "name": "stdout",
     "output_type": "stream",
     "text": [
      "\n",
      "\n",
      "=============================================================================================================================\n",
      "=============================================================================================================================\n",
      "\n"
     ]
    },
    {
     "name": "stderr",
     "output_type": "stream",
     "text": [
      "[Succeeded / Failed / Skipped / Total] 16 / 1 / 8 / 25:   5%|█▎                       | 25/500 [01:08<21:48,  2.75s/it]textattack: Saving checkpoint under \"checkpoints\\1720174238013.ta.chkpt\" at 2024-07-05 18:10:38 after 25 attacks.\n"
     ]
    },
    {
     "name": "stdout",
     "output_type": "stream",
     "text": [
      "\n",
      "\n",
      "=============================================================================================================================\n",
      "=============================================================================================================================\n",
      "\n"
     ]
    },
    {
     "name": "stderr",
     "output_type": "stream",
     "text": [
      "[Succeeded / Failed / Skipped / Total] 21 / 1 / 8 / 30:   6%|█▌                       | 30/500 [01:19<20:38,  2.64s/it]textattack: Saving checkpoint under \"checkpoints\\1720174248226.ta.chkpt\" at 2024-07-05 18:10:48 after 30 attacks.\n",
      "[Succeeded / Failed / Skipped / Total] 21 / 1 / 9 / 31:   6%|█▌                       | 31/500 [01:19<19:57,  2.55s/it]"
     ]
    },
    {
     "name": "stdout",
     "output_type": "stream",
     "text": [
      "\n",
      "\n",
      "=============================================================================================================================\n",
      "=============================================================================================================================\n",
      "\n"
     ]
    },
    {
     "name": "stderr",
     "output_type": "stream",
     "text": [
      "[Succeeded / Failed / Skipped / Total] 24 / 1 / 10 / 35:   7%|█▋                      | 35/500 [01:23<18:35,  2.40s/it]textattack: Saving checkpoint under \"checkpoints\\1720174253098.ta.chkpt\" at 2024-07-05 18:10:53 after 35 attacks.\n"
     ]
    },
    {
     "name": "stdout",
     "output_type": "stream",
     "text": [
      "\n",
      "\n",
      "=============================================================================================================================\n",
      "=============================================================================================================================\n",
      "\n"
     ]
    },
    {
     "name": "stderr",
     "output_type": "stream",
     "text": [
      "[Succeeded / Failed / Skipped / Total] 27 / 1 / 12 / 40:   8%|█▉                      | 40/500 [01:27<16:51,  2.20s/it]textattack: Saving checkpoint under \"checkpoints\\1720174257102.ta.chkpt\" at 2024-07-05 18:10:57 after 40 attacks.\n"
     ]
    },
    {
     "name": "stdout",
     "output_type": "stream",
     "text": [
      "\n",
      "\n",
      "=============================================================================================================================\n",
      "=============================================================================================================================\n",
      "\n"
     ]
    },
    {
     "name": "stderr",
     "output_type": "stream",
     "text": [
      "[Succeeded / Failed / Skipped / Total] 30 / 1 / 14 / 45:   9%|██▏                     | 45/500 [01:38<16:40,  2.20s/it]textattack: Saving checkpoint under \"checkpoints\\1720174268143.ta.chkpt\" at 2024-07-05 18:11:08 after 45 attacks.\n"
     ]
    },
    {
     "name": "stdout",
     "output_type": "stream",
     "text": [
      "\n",
      "\n",
      "=============================================================================================================================\n",
      "=============================================================================================================================\n",
      "\n"
     ]
    },
    {
     "name": "stderr",
     "output_type": "stream",
     "text": [
      "[Succeeded / Failed / Skipped / Total] 33 / 1 / 16 / 50:  10%|██▍                     | 50/500 [01:43<15:29,  2.07s/it]textattack: Saving checkpoint under \"checkpoints\\1720174272447.ta.chkpt\" at 2024-07-05 18:11:12 after 50 attacks.\n"
     ]
    },
    {
     "name": "stdout",
     "output_type": "stream",
     "text": [
      "\n",
      "\n",
      "=============================================================================================================================\n",
      "=============================================================================================================================\n",
      "\n"
     ]
    },
    {
     "name": "stderr",
     "output_type": "stream",
     "text": [
      "[Succeeded / Failed / Skipped / Total] 37 / 1 / 17 / 55:  11%|██▋                     | 55/500 [01:53<15:16,  2.06s/it]textattack: Saving checkpoint under \"checkpoints\\1720174282491.ta.chkpt\" at 2024-07-05 18:11:22 after 55 attacks.\n"
     ]
    },
    {
     "name": "stdout",
     "output_type": "stream",
     "text": [
      "\n",
      "\n",
      "=============================================================================================================================\n",
      "=============================================================================================================================\n",
      "\n"
     ]
    },
    {
     "name": "stderr",
     "output_type": "stream",
     "text": [
      "[Succeeded / Failed / Skipped / Total] 41 / 1 / 18 / 60:  12%|██▉                     | 60/500 [01:59<14:33,  1.99s/it]textattack: Saving checkpoint under \"checkpoints\\1720174288331.ta.chkpt\" at 2024-07-05 18:11:28 after 60 attacks.\n"
     ]
    },
    {
     "name": "stdout",
     "output_type": "stream",
     "text": [
      "\n",
      "\n",
      "=============================================================================================================================\n",
      "=============================================================================================================================\n",
      "\n"
     ]
    },
    {
     "name": "stderr",
     "output_type": "stream",
     "text": [
      "[Succeeded / Failed / Skipped / Total] 46 / 1 / 18 / 65:  13%|███                     | 65/500 [02:04<13:54,  1.92s/it]textattack: Saving checkpoint under \"checkpoints\\1720174293842.ta.chkpt\" at 2024-07-05 18:11:33 after 65 attacks.\n",
      "[Succeeded / Failed / Skipped / Total] 46 / 1 / 19 / 66:  13%|███▏                    | 66/500 [02:04<13:40,  1.89s/it]"
     ]
    },
    {
     "name": "stdout",
     "output_type": "stream",
     "text": [
      "\n",
      "\n",
      "=============================================================================================================================\n",
      "=============================================================================================================================\n",
      "\n"
     ]
    },
    {
     "name": "stderr",
     "output_type": "stream",
     "text": [
      "[Succeeded / Failed / Skipped / Total] 50 / 1 / 19 / 70:  14%|███▎                    | 70/500 [02:11<13:26,  1.88s/it]textattack: Saving checkpoint under \"checkpoints\\1720174300474.ta.chkpt\" at 2024-07-05 18:11:40 after 70 attacks.\n"
     ]
    },
    {
     "name": "stdout",
     "output_type": "stream",
     "text": [
      "\n",
      "\n",
      "=============================================================================================================================\n",
      "=============================================================================================================================\n",
      "\n"
     ]
    },
    {
     "name": "stderr",
     "output_type": "stream",
     "text": [
      "[Succeeded / Failed / Skipped / Total] 54 / 1 / 20 / 75:  15%|███▌                    | 75/500 [02:17<13:00,  1.84s/it]textattack: Saving checkpoint under \"checkpoints\\1720174306883.ta.chkpt\" at 2024-07-05 18:11:46 after 75 attacks.\n",
      "[Succeeded / Failed / Skipped / Total] 54 / 1 / 21 / 76:  15%|███▋                    | 76/500 [02:17<12:48,  1.81s/it]"
     ]
    },
    {
     "name": "stdout",
     "output_type": "stream",
     "text": [
      "\n",
      "\n",
      "=============================================================================================================================\n",
      "=============================================================================================================================\n",
      "\n"
     ]
    },
    {
     "name": "stderr",
     "output_type": "stream",
     "text": [
      "[Succeeded / Failed / Skipped / Total] 58 / 1 / 21 / 80:  16%|███▊                    | 80/500 [02:24<12:39,  1.81s/it]textattack: Saving checkpoint under \"checkpoints\\1720174313752.ta.chkpt\" at 2024-07-05 18:11:53 after 80 attacks.\n"
     ]
    },
    {
     "name": "stdout",
     "output_type": "stream",
     "text": [
      "\n",
      "\n",
      "=============================================================================================================================\n",
      "=============================================================================================================================\n",
      "\n"
     ]
    },
    {
     "name": "stderr",
     "output_type": "stream",
     "text": [
      "[Succeeded / Failed / Skipped / Total] 62 / 1 / 22 / 85:  17%|████                    | 85/500 [02:31<12:19,  1.78s/it]textattack: Saving checkpoint under \"checkpoints\\1720174320729.ta.chkpt\" at 2024-07-05 18:12:00 after 85 attacks.\n",
      "[Succeeded / Failed / Skipped / Total] 62 / 1 / 23 / 86:  17%|████▏                   | 86/500 [02:31<12:10,  1.76s/it]"
     ]
    },
    {
     "name": "stdout",
     "output_type": "stream",
     "text": [
      "\n",
      "\n",
      "=============================================================================================================================\n",
      "=============================================================================================================================\n",
      "\n"
     ]
    },
    {
     "name": "stderr",
     "output_type": "stream",
     "text": [
      "[Succeeded / Failed / Skipped / Total] 66 / 1 / 23 / 90:  18%|████▎                   | 90/500 [02:40<12:09,  1.78s/it]textattack: Saving checkpoint under \"checkpoints\\1720174329299.ta.chkpt\" at 2024-07-05 18:12:09 after 90 attacks.\n",
      "[Succeeded / Failed / Skipped / Total] 66 / 1 / 24 / 91:  18%|████▎                   | 91/500 [02:40<12:00,  1.76s/it]"
     ]
    },
    {
     "name": "stdout",
     "output_type": "stream",
     "text": [
      "\n",
      "\n",
      "=============================================================================================================================\n",
      "=============================================================================================================================\n",
      "\n"
     ]
    },
    {
     "name": "stderr",
     "output_type": "stream",
     "text": [
      "[Succeeded / Failed / Skipped / Total] 66 / 1 / 28 / 95:  19%|████▌                   | 95/500 [02:40<11:24,  1.69s/it]textattack: Saving checkpoint under \"checkpoints\\1720174329807.ta.chkpt\" at 2024-07-05 18:12:09 after 95 attacks.\n"
     ]
    },
    {
     "name": "stdout",
     "output_type": "stream",
     "text": [
      "\n",
      "\n",
      "=============================================================================================================================\n",
      "=============================================================================================================================\n",
      "\n"
     ]
    },
    {
     "name": "stderr",
     "output_type": "stream",
     "text": [
      "[Succeeded / Failed / Skipped / Total] 70 / 2 / 28 / 100:  20%|████▍                 | 100/500 [02:57<11:51,  1.78s/it]textattack: Saving checkpoint under \"checkpoints\\1720174347092.ta.chkpt\" at 2024-07-05 18:12:27 after 100 attacks.\n"
     ]
    },
    {
     "name": "stdout",
     "output_type": "stream",
     "text": [
      "\n",
      "\n",
      "=============================================================================================================================\n",
      "=============================================================================================================================\n",
      "\n"
     ]
    },
    {
     "name": "stderr",
     "output_type": "stream",
     "text": [
      "[Succeeded / Failed / Skipped / Total] 72 / 3 / 30 / 105:  21%|████▌                 | 105/500 [03:06<11:40,  1.77s/it]textattack: Saving checkpoint under \"checkpoints\\1720174355277.ta.chkpt\" at 2024-07-05 18:12:35 after 105 attacks.\n",
      "[Succeeded / Failed / Skipped / Total] 72 / 3 / 31 / 106:  21%|████▋                 | 106/500 [03:06<11:32,  1.76s/it]"
     ]
    },
    {
     "name": "stdout",
     "output_type": "stream",
     "text": [
      "\n",
      "\n",
      "=============================================================================================================================\n",
      "=============================================================================================================================\n",
      "\n"
     ]
    },
    {
     "name": "stderr",
     "output_type": "stream",
     "text": [
      "[Succeeded / Failed / Skipped / Total] 76 / 3 / 31 / 110:  22%|████▊                 | 110/500 [03:14<11:30,  1.77s/it]textattack: Saving checkpoint under \"checkpoints\\1720174363863.ta.chkpt\" at 2024-07-05 18:12:43 after 110 attacks.\n"
     ]
    },
    {
     "name": "stdout",
     "output_type": "stream",
     "text": [
      "\n",
      "\n",
      "=============================================================================================================================\n",
      "=============================================================================================================================\n",
      "\n"
     ]
    },
    {
     "name": "stderr",
     "output_type": "stream",
     "text": [
      "[Succeeded / Failed / Skipped / Total] 79 / 4 / 32 / 115:  23%|█████                 | 115/500 [03:35<12:00,  1.87s/it]textattack: Saving checkpoint under \"checkpoints\\1720174384462.ta.chkpt\" at 2024-07-05 18:13:04 after 115 attacks.\n",
      "[Succeeded / Failed / Skipped / Total] 79 / 4 / 33 / 116:  23%|█████                 | 116/500 [03:35<11:53,  1.86s/it]"
     ]
    },
    {
     "name": "stdout",
     "output_type": "stream",
     "text": [
      "\n",
      "\n",
      "=============================================================================================================================\n",
      "=============================================================================================================================\n",
      "\n"
     ]
    },
    {
     "name": "stderr",
     "output_type": "stream",
     "text": [
      "[Succeeded / Failed / Skipped / Total] 82 / 4 / 34 / 120:  24%|█████▎                | 120/500 [03:39<11:34,  1.83s/it]textattack: Saving checkpoint under \"checkpoints\\1720174388622.ta.chkpt\" at 2024-07-05 18:13:08 after 120 attacks.\n"
     ]
    },
    {
     "name": "stdout",
     "output_type": "stream",
     "text": [
      "\n",
      "\n",
      "=============================================================================================================================\n",
      "=============================================================================================================================\n",
      "\n"
     ]
    },
    {
     "name": "stderr",
     "output_type": "stream",
     "text": [
      "[Succeeded / Failed / Skipped / Total] 84 / 4 / 37 / 125:  25%|█████▌                | 125/500 [03:46<11:19,  1.81s/it]textattack: Saving checkpoint under \"checkpoints\\1720174395504.ta.chkpt\" at 2024-07-05 18:13:15 after 125 attacks.\n"
     ]
    },
    {
     "name": "stdout",
     "output_type": "stream",
     "text": [
      "\n",
      "\n",
      "=============================================================================================================================\n",
      "=============================================================================================================================\n",
      "\n"
     ]
    },
    {
     "name": "stderr",
     "output_type": "stream",
     "text": [
      "[Succeeded / Failed / Skipped / Total] 87 / 4 / 39 / 130:  26%|█████▋                | 130/500 [03:49<10:54,  1.77s/it]textattack: Saving checkpoint under \"checkpoints\\1720174399027.ta.chkpt\" at 2024-07-05 18:13:19 after 130 attacks.\n",
      "[Succeeded / Failed / Skipped / Total] 87 / 4 / 40 / 131:  26%|█████▊                | 131/500 [03:49<10:47,  1.76s/it]"
     ]
    },
    {
     "name": "stdout",
     "output_type": "stream",
     "text": [
      "\n",
      "\n",
      "=============================================================================================================================\n",
      "=============================================================================================================================\n",
      "\n"
     ]
    },
    {
     "name": "stderr",
     "output_type": "stream",
     "text": [
      "[Succeeded / Failed / Skipped / Total] 90 / 4 / 41 / 135:  27%|█████▉                | 135/500 [03:54<10:34,  1.74s/it]textattack: Saving checkpoint under \"checkpoints\\1720174403856.ta.chkpt\" at 2024-07-05 18:13:23 after 135 attacks.\n"
     ]
    },
    {
     "name": "stdout",
     "output_type": "stream",
     "text": [
      "\n",
      "\n",
      "=============================================================================================================================\n",
      "=============================================================================================================================\n",
      "\n"
     ]
    },
    {
     "name": "stderr",
     "output_type": "stream",
     "text": [
      "[Succeeded / Failed / Skipped / Total] 94 / 4 / 42 / 140:  28%|██████▏               | 140/500 [04:04<10:29,  1.75s/it]textattack: Saving checkpoint under \"checkpoints\\1720174414128.ta.chkpt\" at 2024-07-05 18:13:34 after 140 attacks.\n",
      "[Succeeded / Failed / Skipped / Total] 94 / 4 / 43 / 141:  28%|██████▏               | 141/500 [04:05<10:23,  1.74s/it]"
     ]
    },
    {
     "name": "stdout",
     "output_type": "stream",
     "text": [
      "\n",
      "\n",
      "=============================================================================================================================\n",
      "=============================================================================================================================\n",
      "\n"
     ]
    },
    {
     "name": "stderr",
     "output_type": "stream",
     "text": [
      "[Succeeded / Failed / Skipped / Total] 97 / 4 / 44 / 145:  29%|██████▍               | 145/500 [04:09<10:10,  1.72s/it]textattack: Saving checkpoint under \"checkpoints\\1720174418498.ta.chkpt\" at 2024-07-05 18:13:38 after 145 attacks.\n"
     ]
    },
    {
     "name": "stdout",
     "output_type": "stream",
     "text": [
      "\n",
      "\n",
      "=============================================================================================================================\n",
      "=============================================================================================================================\n",
      "\n"
     ]
    },
    {
     "name": "stderr",
     "output_type": "stream",
     "text": [
      "[Succeeded / Failed / Skipped / Total] 102 / 4 / 44 / 150:  30%|██████▎              | 150/500 [04:16<09:57,  1.71s/it]textattack: Saving checkpoint under \"checkpoints\\1720174425273.ta.chkpt\" at 2024-07-05 18:13:45 after 150 attacks.\n"
     ]
    },
    {
     "name": "stdout",
     "output_type": "stream",
     "text": [
      "\n",
      "\n",
      "=============================================================================================================================\n",
      "=============================================================================================================================\n",
      "\n"
     ]
    },
    {
     "name": "stderr",
     "output_type": "stream",
     "text": [
      "[Succeeded / Failed / Skipped / Total] 104 / 4 / 47 / 155:  31%|██████▌              | 155/500 [04:18<09:35,  1.67s/it]textattack: Saving checkpoint under \"checkpoints\\1720174427909.ta.chkpt\" at 2024-07-05 18:13:47 after 155 attacks.\n",
      "[Succeeded / Failed / Skipped / Total] 104 / 4 / 48 / 156:  31%|██████▌              | 156/500 [04:18<09:30,  1.66s/it]"
     ]
    },
    {
     "name": "stdout",
     "output_type": "stream",
     "text": [
      "\n",
      "\n",
      "=============================================================================================================================\n",
      "=============================================================================================================================\n",
      "\n"
     ]
    },
    {
     "name": "stderr",
     "output_type": "stream",
     "text": [
      "[Succeeded / Failed / Skipped / Total] 107 / 4 / 49 / 160:  32%|██████▋              | 160/500 [04:23<09:20,  1.65s/it]textattack: Saving checkpoint under \"checkpoints\\1720174432975.ta.chkpt\" at 2024-07-05 18:13:52 after 160 attacks.\n"
     ]
    },
    {
     "name": "stdout",
     "output_type": "stream",
     "text": [
      "\n",
      "\n",
      "=============================================================================================================================\n",
      "=============================================================================================================================\n",
      "\n"
     ]
    },
    {
     "name": "stderr",
     "output_type": "stream",
     "text": [
      "[Succeeded / Failed / Skipped / Total] 111 / 4 / 50 / 165:  33%|██████▉              | 165/500 [04:31<09:10,  1.64s/it]textattack: Saving checkpoint under \"checkpoints\\1720174440290.ta.chkpt\" at 2024-07-05 18:14:00 after 165 attacks.\n",
      "[Succeeded / Failed / Skipped / Total] 111 / 4 / 51 / 166:  33%|██████▉              | 166/500 [04:31<09:05,  1.63s/it]"
     ]
    },
    {
     "name": "stdout",
     "output_type": "stream",
     "text": [
      "\n",
      "\n",
      "=============================================================================================================================\n",
      "=============================================================================================================================\n",
      "\n"
     ]
    },
    {
     "name": "stderr",
     "output_type": "stream",
     "text": [
      "[Succeeded / Failed / Skipped / Total] 113 / 4 / 53 / 170:  34%|███████▏             | 170/500 [04:33<08:51,  1.61s/it]textattack: Saving checkpoint under \"checkpoints\\1720174442776.ta.chkpt\" at 2024-07-05 18:14:02 after 170 attacks.\n"
     ]
    },
    {
     "name": "stdout",
     "output_type": "stream",
     "text": [
      "\n",
      "\n",
      "=============================================================================================================================\n",
      "=============================================================================================================================\n",
      "\n"
     ]
    },
    {
     "name": "stderr",
     "output_type": "stream",
     "text": [
      "[Succeeded / Failed / Skipped / Total] 116 / 5 / 54 / 175:  35%|███████▎             | 175/500 [04:52<09:03,  1.67s/it]textattack: Saving checkpoint under \"checkpoints\\1720174461767.ta.chkpt\" at 2024-07-05 18:14:21 after 175 attacks.\n",
      "[Succeeded / Failed / Skipped / Total] 116 / 5 / 56 / 177:  35%|███████▍             | 177/500 [04:52<08:54,  1.65s/it]"
     ]
    },
    {
     "name": "stdout",
     "output_type": "stream",
     "text": [
      "\n",
      "\n",
      "=============================================================================================================================\n",
      "=============================================================================================================================\n",
      "\n"
     ]
    },
    {
     "name": "stderr",
     "output_type": "stream",
     "text": [
      "[Succeeded / Failed / Skipped / Total] 118 / 5 / 57 / 180:  36%|███████▌             | 180/500 [04:56<08:46,  1.65s/it]textattack: Saving checkpoint under \"checkpoints\\1720174465599.ta.chkpt\" at 2024-07-05 18:14:25 after 180 attacks.\n",
      "[Succeeded / Failed / Skipped / Total] 118 / 5 / 58 / 181:  36%|███████▌             | 181/500 [04:56<08:42,  1.64s/it]"
     ]
    },
    {
     "name": "stdout",
     "output_type": "stream",
     "text": [
      "\n",
      "\n",
      "=============================================================================================================================\n",
      "=============================================================================================================================\n",
      "\n"
     ]
    },
    {
     "name": "stderr",
     "output_type": "stream",
     "text": [
      "[Succeeded / Failed / Skipped / Total] 120 / 5 / 60 / 185:  37%|███████▊             | 185/500 [04:57<08:27,  1.61s/it]textattack: Saving checkpoint under \"checkpoints\\1720174467104.ta.chkpt\" at 2024-07-05 18:14:27 after 185 attacks.\n"
     ]
    },
    {
     "name": "stdout",
     "output_type": "stream",
     "text": [
      "\n",
      "\n",
      "=============================================================================================================================\n",
      "=============================================================================================================================\n",
      "\n"
     ]
    },
    {
     "name": "stderr",
     "output_type": "stream",
     "text": [
      "[Succeeded / Failed / Skipped / Total] 124 / 5 / 61 / 190:  38%|███████▉             | 190/500 [05:04<08:16,  1.60s/it]textattack: Saving checkpoint under \"checkpoints\\1720174473608.ta.chkpt\" at 2024-07-05 18:14:33 after 190 attacks.\n"
     ]
    },
    {
     "name": "stdout",
     "output_type": "stream",
     "text": [
      "\n",
      "\n",
      "=============================================================================================================================\n",
      "=============================================================================================================================\n",
      "\n"
     ]
    },
    {
     "name": "stderr",
     "output_type": "stream",
     "text": [
      "[Succeeded / Failed / Skipped / Total] 128 / 5 / 62 / 195:  39%|████████▏            | 195/500 [05:14<08:11,  1.61s/it]textattack: Saving checkpoint under \"checkpoints\\1720174483702.ta.chkpt\" at 2024-07-05 18:14:43 after 195 attacks.\n",
      "[Succeeded / Failed / Skipped / Total] 128 / 5 / 63 / 196:  39%|████████▏            | 196/500 [05:14<08:08,  1.61s/it]"
     ]
    },
    {
     "name": "stdout",
     "output_type": "stream",
     "text": [
      "\n",
      "\n",
      "=============================================================================================================================\n",
      "=============================================================================================================================\n",
      "\n"
     ]
    },
    {
     "name": "stderr",
     "output_type": "stream",
     "text": [
      "[Succeeded / Failed / Skipped / Total] 131 / 5 / 64 / 200:  40%|████████▍            | 200/500 [05:22<08:03,  1.61s/it]textattack: Saving checkpoint under \"checkpoints\\1720174491738.ta.chkpt\" at 2024-07-05 18:14:51 after 200 attacks.\n"
     ]
    },
    {
     "name": "stdout",
     "output_type": "stream",
     "text": [
      "\n",
      "\n",
      "=============================================================================================================================\n",
      "=============================================================================================================================\n",
      "\n"
     ]
    },
    {
     "name": "stderr",
     "output_type": "stream",
     "text": [
      "[Succeeded / Failed / Skipped / Total] 135 / 5 / 65 / 205:  41%|████████▌            | 205/500 [05:28<07:53,  1.60s/it]textattack: Saving checkpoint under \"checkpoints\\1720174498064.ta.chkpt\" at 2024-07-05 18:14:58 after 205 attacks.\n",
      "[Succeeded / Failed / Skipped / Total] 135 / 5 / 66 / 206:  41%|████████▋            | 206/500 [05:28<07:49,  1.60s/it]"
     ]
    },
    {
     "name": "stdout",
     "output_type": "stream",
     "text": [
      "\n",
      "\n",
      "=============================================================================================================================\n",
      "=============================================================================================================================\n",
      "\n"
     ]
    },
    {
     "name": "stderr",
     "output_type": "stream",
     "text": [
      "[Succeeded / Failed / Skipped / Total] 139 / 5 / 66 / 210:  42%|████████▊            | 210/500 [05:35<07:43,  1.60s/it]textattack: Saving checkpoint under \"checkpoints\\1720174504516.ta.chkpt\" at 2024-07-05 18:15:04 after 210 attacks.\n"
     ]
    },
    {
     "name": "stdout",
     "output_type": "stream",
     "text": [
      "\n",
      "\n",
      "=============================================================================================================================\n",
      "=============================================================================================================================\n",
      "\n"
     ]
    },
    {
     "name": "stderr",
     "output_type": "stream",
     "text": [
      "[Succeeded / Failed / Skipped / Total] 143 / 5 / 67 / 215:  43%|█████████            | 215/500 [05:42<07:33,  1.59s/it]textattack: Saving checkpoint under \"checkpoints\\1720174511225.ta.chkpt\" at 2024-07-05 18:15:11 after 215 attacks.\n"
     ]
    },
    {
     "name": "stdout",
     "output_type": "stream",
     "text": [
      "\n",
      "\n",
      "=============================================================================================================================\n",
      "=============================================================================================================================\n",
      "\n"
     ]
    },
    {
     "name": "stderr",
     "output_type": "stream",
     "text": [
      "[Succeeded / Failed / Skipped / Total] 147 / 5 / 68 / 220:  44%|█████████▏           | 220/500 [05:47<07:21,  1.58s/it]textattack: Saving checkpoint under \"checkpoints\\1720174516416.ta.chkpt\" at 2024-07-05 18:15:16 after 220 attacks.\n",
      "[Succeeded / Failed / Skipped / Total] 147 / 5 / 69 / 221:  44%|█████████▎           | 222/500 [05:47<07:15,  1.57s/it]"
     ]
    },
    {
     "name": "stdout",
     "output_type": "stream",
     "text": [
      "\n",
      "\n",
      "=============================================================================================================================\n",
      "=============================================================================================================================\n",
      "\n"
     ]
    },
    {
     "name": "stderr",
     "output_type": "stream",
     "text": [
      "[Succeeded / Failed / Skipped / Total] 149 / 5 / 71 / 225:  45%|█████████▍           | 225/500 [05:52<07:10,  1.57s/it]textattack: Saving checkpoint under \"checkpoints\\1720174521489.ta.chkpt\" at 2024-07-05 18:15:21 after 225 attacks.\n"
     ]
    },
    {
     "name": "stdout",
     "output_type": "stream",
     "text": [
      "\n",
      "\n",
      "=============================================================================================================================\n",
      "=============================================================================================================================\n",
      "\n"
     ]
    },
    {
     "name": "stderr",
     "output_type": "stream",
     "text": [
      "[Succeeded / Failed / Skipped / Total] 152 / 5 / 73 / 230:  46%|█████████▋           | 230/500 [05:56<06:58,  1.55s/it]textattack: Saving checkpoint under \"checkpoints\\1720174525395.ta.chkpt\" at 2024-07-05 18:15:25 after 230 attacks.\n"
     ]
    },
    {
     "name": "stdout",
     "output_type": "stream",
     "text": [
      "\n",
      "\n",
      "=============================================================================================================================\n",
      "=============================================================================================================================\n",
      "\n"
     ]
    },
    {
     "name": "stderr",
     "output_type": "stream",
     "text": [
      "[Succeeded / Failed / Skipped / Total] 155 / 5 / 75 / 235:  47%|█████████▊           | 235/500 [06:02<06:48,  1.54s/it]textattack: Saving checkpoint under \"checkpoints\\1720174531233.ta.chkpt\" at 2024-07-05 18:15:31 after 235 attacks.\n",
      "[Succeeded / Failed / Skipped / Total] 155 / 5 / 76 / 236:  47%|█████████▉           | 236/500 [06:02<06:45,  1.53s/it]"
     ]
    },
    {
     "name": "stdout",
     "output_type": "stream",
     "text": [
      "\n",
      "\n",
      "=============================================================================================================================\n",
      "=============================================================================================================================\n",
      "\n"
     ]
    },
    {
     "name": "stderr",
     "output_type": "stream",
     "text": [
      "[Succeeded / Failed / Skipped / Total] 159 / 5 / 76 / 240:  48%|██████████           | 240/500 [06:08<06:39,  1.54s/it]textattack: Saving checkpoint under \"checkpoints\\1720174537984.ta.chkpt\" at 2024-07-05 18:15:37 after 240 attacks.\n",
      "[Succeeded / Failed / Skipped / Total] 159 / 5 / 77 / 241:  48%|██████████           | 241/500 [06:08<06:36,  1.53s/it]"
     ]
    },
    {
     "name": "stdout",
     "output_type": "stream",
     "text": [
      "\n",
      "\n",
      "=============================================================================================================================\n",
      "=============================================================================================================================\n",
      "\n"
     ]
    },
    {
     "name": "stderr",
     "output_type": "stream",
     "text": [
      "[Succeeded / Failed / Skipped / Total] 162 / 5 / 78 / 245:  49%|██████████▎          | 245/500 [06:13<06:28,  1.53s/it]textattack: Saving checkpoint under \"checkpoints\\1720174542842.ta.chkpt\" at 2024-07-05 18:15:42 after 245 attacks.\n"
     ]
    },
    {
     "name": "stdout",
     "output_type": "stream",
     "text": [
      "\n",
      "\n",
      "=============================================================================================================================\n",
      "=============================================================================================================================\n",
      "\n"
     ]
    },
    {
     "name": "stderr",
     "output_type": "stream",
     "text": [
      "[Succeeded / Failed / Skipped / Total] 166 / 5 / 79 / 250:  50%|██████████▌          | 250/500 [06:21<06:21,  1.53s/it]textattack: Saving checkpoint under \"checkpoints\\1720174550635.ta.chkpt\" at 2024-07-05 18:15:50 after 250 attacks.\n",
      "[Succeeded / Failed / Skipped / Total] 166 / 5 / 80 / 251:  50%|██████████▌          | 251/500 [06:21<06:18,  1.52s/it]"
     ]
    },
    {
     "name": "stdout",
     "output_type": "stream",
     "text": [
      "\n",
      "\n",
      "=============================================================================================================================\n",
      "=============================================================================================================================\n",
      "\n"
     ]
    },
    {
     "name": "stderr",
     "output_type": "stream",
     "text": [
      "[Succeeded / Failed / Skipped / Total] 169 / 5 / 81 / 255:  51%|██████████▋          | 255/500 [06:26<06:11,  1.52s/it]textattack: Saving checkpoint under \"checkpoints\\1720174555532.ta.chkpt\" at 2024-07-05 18:15:55 after 255 attacks.\n"
     ]
    },
    {
     "name": "stdout",
     "output_type": "stream",
     "text": [
      "\n",
      "\n",
      "=============================================================================================================================\n",
      "=============================================================================================================================\n",
      "\n"
     ]
    },
    {
     "name": "stderr",
     "output_type": "stream",
     "text": [
      "[Succeeded / Failed / Skipped / Total] 171 / 5 / 84 / 260:  52%|██████████▉          | 260/500 [06:27<05:58,  1.49s/it]textattack: Saving checkpoint under \"checkpoints\\1720174557150.ta.chkpt\" at 2024-07-05 18:15:57 after 260 attacks.\n"
     ]
    },
    {
     "name": "stdout",
     "output_type": "stream",
     "text": [
      "\n",
      "\n",
      "=============================================================================================================================\n",
      "=============================================================================================================================\n",
      "\n"
     ]
    },
    {
     "name": "stderr",
     "output_type": "stream",
     "text": [
      "[Succeeded / Failed / Skipped / Total] 176 / 5 / 84 / 265:  53%|███████████▏         | 265/500 [06:35<05:50,  1.49s/it]textattack: Saving checkpoint under \"checkpoints\\1720174564565.ta.chkpt\" at 2024-07-05 18:16:04 after 265 attacks.\n",
      "[Succeeded / Failed / Skipped / Total] 176 / 5 / 85 / 266:  53%|███████████▏         | 266/500 [06:35<05:47,  1.49s/it]"
     ]
    },
    {
     "name": "stdout",
     "output_type": "stream",
     "text": [
      "\n",
      "\n",
      "=============================================================================================================================\n",
      "=============================================================================================================================\n",
      "\n"
     ]
    },
    {
     "name": "stderr",
     "output_type": "stream",
     "text": [
      "[Succeeded / Failed / Skipped / Total] 178 / 5 / 87 / 270:  54%|███████████▎         | 270/500 [06:41<05:41,  1.49s/it]textattack: Saving checkpoint under \"checkpoints\\1720174570241.ta.chkpt\" at 2024-07-05 18:16:10 after 270 attacks.\n"
     ]
    },
    {
     "name": "stdout",
     "output_type": "stream",
     "text": [
      "\n",
      "\n",
      "=============================================================================================================================\n",
      "=============================================================================================================================\n",
      "\n"
     ]
    },
    {
     "name": "stderr",
     "output_type": "stream",
     "text": [
      "[Succeeded / Failed / Skipped / Total] 180 / 5 / 90 / 275:  55%|███████████▌         | 275/500 [06:44<05:31,  1.47s/it]textattack: Saving checkpoint under \"checkpoints\\1720174573865.ta.chkpt\" at 2024-07-05 18:16:13 after 275 attacks.\n"
     ]
    },
    {
     "name": "stdout",
     "output_type": "stream",
     "text": [
      "\n",
      "\n",
      "=============================================================================================================================\n",
      "=============================================================================================================================\n",
      "\n"
     ]
    },
    {
     "name": "stderr",
     "output_type": "stream",
     "text": [
      "[Succeeded / Failed / Skipped / Total] 183 / 5 / 92 / 280:  56%|███████████▊         | 280/500 [06:49<05:21,  1.46s/it]textattack: Saving checkpoint under \"checkpoints\\1720174578734.ta.chkpt\" at 2024-07-05 18:16:18 after 280 attacks.\n"
     ]
    },
    {
     "name": "stdout",
     "output_type": "stream",
     "text": [
      "\n",
      "\n",
      "=============================================================================================================================\n",
      "=============================================================================================================================\n",
      "\n"
     ]
    },
    {
     "name": "stderr",
     "output_type": "stream",
     "text": [
      "[Succeeded / Failed / Skipped / Total] 188 / 5 / 92 / 285:  57%|███████████▉         | 285/500 [06:58<05:15,  1.47s/it]textattack: Saving checkpoint under \"checkpoints\\1720174587753.ta.chkpt\" at 2024-07-05 18:16:27 after 285 attacks.\n",
      "[Succeeded / Failed / Skipped / Total] 188 / 5 / 94 / 287:  57%|████████████         | 287/500 [06:58<05:10,  1.46s/it]"
     ]
    },
    {
     "name": "stdout",
     "output_type": "stream",
     "text": [
      "\n",
      "\n",
      "=============================================================================================================================\n",
      "=============================================================================================================================\n",
      "\n"
     ]
    },
    {
     "name": "stderr",
     "output_type": "stream",
     "text": [
      "[Succeeded / Failed / Skipped / Total] 190 / 5 / 95 / 290:  58%|████████████▏        | 290/500 [07:02<05:05,  1.46s/it]textattack: Saving checkpoint under \"checkpoints\\1720174591349.ta.chkpt\" at 2024-07-05 18:16:31 after 290 attacks.\n"
     ]
    },
    {
     "name": "stdout",
     "output_type": "stream",
     "text": [
      "\n",
      "\n",
      "=============================================================================================================================\n",
      "=============================================================================================================================\n",
      "\n"
     ]
    },
    {
     "name": "stderr",
     "output_type": "stream",
     "text": [
      "[Succeeded / Failed / Skipped / Total] 194 / 5 / 96 / 295:  59%|████████████▍        | 295/500 [07:08<04:57,  1.45s/it]textattack: Saving checkpoint under \"checkpoints\\1720174597217.ta.chkpt\" at 2024-07-05 18:16:37 after 295 attacks.\n"
     ]
    },
    {
     "name": "stdout",
     "output_type": "stream",
     "text": [
      "\n",
      "\n",
      "=============================================================================================================================\n",
      "=============================================================================================================================\n",
      "\n"
     ]
    },
    {
     "name": "stderr",
     "output_type": "stream",
     "text": [
      "[Succeeded / Failed / Skipped / Total] 198 / 5 / 97 / 300:  60%|████████████▌        | 300/500 [07:12<04:48,  1.44s/it]textattack: Saving checkpoint under \"checkpoints\\1720174601781.ta.chkpt\" at 2024-07-05 18:16:41 after 300 attacks.\n"
     ]
    },
    {
     "name": "stdout",
     "output_type": "stream",
     "text": [
      "\n",
      "\n",
      "=============================================================================================================================\n",
      "=============================================================================================================================\n",
      "\n"
     ]
    },
    {
     "name": "stderr",
     "output_type": "stream",
     "text": [
      "[Succeeded / Failed / Skipped / Total] 200 / 5 / 100 / 305:  61%|████████████▏       | 305/500 [07:14<04:37,  1.42s/it]textattack: Saving checkpoint under \"checkpoints\\1720174603757.ta.chkpt\" at 2024-07-05 18:16:43 after 305 attacks.\n"
     ]
    },
    {
     "name": "stdout",
     "output_type": "stream",
     "text": [
      "\n",
      "\n",
      "=============================================================================================================================\n",
      "=============================================================================================================================\n",
      "\n"
     ]
    },
    {
     "name": "stderr",
     "output_type": "stream",
     "text": [
      "[Succeeded / Failed / Skipped / Total] 204 / 5 / 101 / 310:  62%|████████████▍       | 310/500 [07:19<04:29,  1.42s/it]textattack: Saving checkpoint under \"checkpoints\\1720174608645.ta.chkpt\" at 2024-07-05 18:16:48 after 310 attacks.\n"
     ]
    },
    {
     "name": "stdout",
     "output_type": "stream",
     "text": [
      "\n",
      "\n",
      "=============================================================================================================================\n",
      "=============================================================================================================================\n",
      "\n"
     ]
    },
    {
     "name": "stderr",
     "output_type": "stream",
     "text": [
      "[Succeeded / Failed / Skipped / Total] 208 / 5 / 102 / 315:  63%|████████████▌       | 315/500 [07:24<04:20,  1.41s/it]textattack: Saving checkpoint under \"checkpoints\\1720174613353.ta.chkpt\" at 2024-07-05 18:16:53 after 315 attacks.\n",
      "[Succeeded / Failed / Skipped / Total] 208 / 5 / 104 / 317:  63%|████████████▋       | 317/500 [07:24<04:16,  1.40s/it]"
     ]
    },
    {
     "name": "stdout",
     "output_type": "stream",
     "text": [
      "\n",
      "\n",
      "=============================================================================================================================\n",
      "=============================================================================================================================\n",
      "\n"
     ]
    },
    {
     "name": "stderr",
     "output_type": "stream",
     "text": [
      "[Succeeded / Failed / Skipped / Total] 210 / 6 / 104 / 320:  64%|████████████▊       | 320/500 [07:41<04:19,  1.44s/it]textattack: Saving checkpoint under \"checkpoints\\1720174631028.ta.chkpt\" at 2024-07-05 18:17:11 after 320 attacks.\n"
     ]
    },
    {
     "name": "stdout",
     "output_type": "stream",
     "text": [
      "\n",
      "\n",
      "=============================================================================================================================\n",
      "=============================================================================================================================\n",
      "\n"
     ]
    },
    {
     "name": "stderr",
     "output_type": "stream",
     "text": [
      "[Succeeded / Failed / Skipped / Total] 214 / 6 / 105 / 325:  65%|█████████████       | 325/500 [07:50<04:13,  1.45s/it]textattack: Saving checkpoint under \"checkpoints\\1720174639899.ta.chkpt\" at 2024-07-05 18:17:19 after 325 attacks.\n"
     ]
    },
    {
     "name": "stdout",
     "output_type": "stream",
     "text": [
      "\n",
      "\n",
      "=============================================================================================================================\n",
      "=============================================================================================================================\n",
      "\n"
     ]
    },
    {
     "name": "stderr",
     "output_type": "stream",
     "text": [
      "[Succeeded / Failed / Skipped / Total] 217 / 6 / 107 / 330:  66%|█████████████▏      | 330/500 [07:55<04:04,  1.44s/it]textattack: Saving checkpoint under \"checkpoints\\1720174644698.ta.chkpt\" at 2024-07-05 18:17:24 after 330 attacks.\n",
      "[Succeeded / Failed / Skipped / Total] 217 / 6 / 108 / 331:  66%|█████████████▏      | 331/500 [07:55<04:02,  1.44s/it]"
     ]
    },
    {
     "name": "stdout",
     "output_type": "stream",
     "text": [
      "\n",
      "\n",
      "=============================================================================================================================\n",
      "=============================================================================================================================\n",
      "\n"
     ]
    },
    {
     "name": "stderr",
     "output_type": "stream",
     "text": [
      "[Succeeded / Failed / Skipped / Total] 220 / 6 / 109 / 335:  67%|█████████████▍      | 335/500 [08:07<04:00,  1.46s/it]textattack: Saving checkpoint under \"checkpoints\\1720174656737.ta.chkpt\" at 2024-07-05 18:17:36 after 335 attacks.\n",
      "[Succeeded / Failed / Skipped / Total] 220 / 6 / 110 / 336:  67%|█████████████▍      | 336/500 [08:07<03:58,  1.45s/it]"
     ]
    },
    {
     "name": "stdout",
     "output_type": "stream",
     "text": [
      "\n",
      "\n",
      "=============================================================================================================================\n",
      "=============================================================================================================================\n",
      "\n"
     ]
    },
    {
     "name": "stderr",
     "output_type": "stream",
     "text": [
      "[Succeeded / Failed / Skipped / Total] 223 / 6 / 111 / 340:  68%|█████████████▌      | 340/500 [08:15<03:53,  1.46s/it]textattack: Saving checkpoint under \"checkpoints\\1720174664751.ta.chkpt\" at 2024-07-05 18:17:44 after 340 attacks.\n"
     ]
    },
    {
     "name": "stdout",
     "output_type": "stream",
     "text": [
      "\n",
      "\n",
      "=============================================================================================================================\n",
      "=============================================================================================================================\n",
      "\n"
     ]
    },
    {
     "name": "stderr",
     "output_type": "stream",
     "text": [
      "[Succeeded / Failed / Skipped / Total] 226 / 6 / 113 / 345:  69%|█████████████▊      | 345/500 [08:24<03:46,  1.46s/it]textattack: Saving checkpoint under \"checkpoints\\1720174673575.ta.chkpt\" at 2024-07-05 18:17:53 after 345 attacks.\n"
     ]
    },
    {
     "name": "stdout",
     "output_type": "stream",
     "text": [
      "\n",
      "\n",
      "=============================================================================================================================\n",
      "=============================================================================================================================\n",
      "\n"
     ]
    },
    {
     "name": "stderr",
     "output_type": "stream",
     "text": [
      "[Succeeded / Failed / Skipped / Total] 231 / 6 / 113 / 350:  70%|██████████████      | 350/500 [08:38<03:42,  1.48s/it]textattack: Saving checkpoint under \"checkpoints\\1720174687782.ta.chkpt\" at 2024-07-05 18:18:07 after 350 attacks.\n"
     ]
    },
    {
     "name": "stdout",
     "output_type": "stream",
     "text": [
      "\n",
      "\n",
      "=============================================================================================================================\n",
      "=============================================================================================================================\n",
      "\n"
     ]
    },
    {
     "name": "stderr",
     "output_type": "stream",
     "text": [
      "[Succeeded / Failed / Skipped / Total] 236 / 6 / 113 / 355:  71%|██████████████▏     | 355/500 [08:46<03:35,  1.48s/it]textattack: Saving checkpoint under \"checkpoints\\1720174696097.ta.chkpt\" at 2024-07-05 18:18:16 after 355 attacks.\n",
      "[Succeeded / Failed / Skipped / Total] 236 / 6 / 114 / 356:  71%|██████████████▏     | 356/500 [08:47<03:33,  1.48s/it]"
     ]
    },
    {
     "name": "stdout",
     "output_type": "stream",
     "text": [
      "\n",
      "\n",
      "=============================================================================================================================\n",
      "=============================================================================================================================\n",
      "\n"
     ]
    },
    {
     "name": "stderr",
     "output_type": "stream",
     "text": [
      "[Succeeded / Failed / Skipped / Total] 240 / 6 / 114 / 360:  72%|██████████████▍     | 360/500 [08:55<03:28,  1.49s/it]textattack: Saving checkpoint under \"checkpoints\\1720174705010.ta.chkpt\" at 2024-07-05 18:18:25 after 360 attacks.\n",
      "[Succeeded / Failed / Skipped / Total] 240 / 6 / 115 / 361:  72%|██████████████▍     | 361/500 [08:55<03:26,  1.48s/it]"
     ]
    },
    {
     "name": "stdout",
     "output_type": "stream",
     "text": [
      "\n",
      "\n",
      "=============================================================================================================================\n",
      "=============================================================================================================================\n",
      "\n"
     ]
    },
    {
     "name": "stderr",
     "output_type": "stream",
     "text": [
      "[Succeeded / Failed / Skipped / Total] 243 / 6 / 116 / 365:  73%|██████████████▌     | 365/500 [09:02<03:20,  1.49s/it]textattack: Saving checkpoint under \"checkpoints\\1720174712090.ta.chkpt\" at 2024-07-05 18:18:32 after 365 attacks.\n"
     ]
    },
    {
     "name": "stdout",
     "output_type": "stream",
     "text": [
      "\n",
      "\n",
      "=============================================================================================================================\n",
      "=============================================================================================================================\n",
      "\n"
     ]
    },
    {
     "name": "stderr",
     "output_type": "stream",
     "text": [
      "[Succeeded / Failed / Skipped / Total] 247 / 6 / 117 / 370:  74%|██████████████▊     | 370/500 [09:09<03:12,  1.48s/it]textattack: Saving checkpoint under \"checkpoints\\1720174718368.ta.chkpt\" at 2024-07-05 18:18:38 after 370 attacks.\n"
     ]
    },
    {
     "name": "stdout",
     "output_type": "stream",
     "text": [
      "\n",
      "\n",
      "=============================================================================================================================\n",
      "=============================================================================================================================\n",
      "\n"
     ]
    },
    {
     "name": "stderr",
     "output_type": "stream",
     "text": [
      "[Succeeded / Failed / Skipped / Total] 251 / 6 / 118 / 375:  75%|███████████████     | 375/500 [09:15<03:05,  1.48s/it]textattack: Saving checkpoint under \"checkpoints\\1720174724881.ta.chkpt\" at 2024-07-05 18:18:44 after 375 attacks.\n",
      "[Succeeded / Failed / Skipped / Total] 251 / 6 / 119 / 376:  75%|███████████████     | 376/500 [09:15<03:03,  1.48s/it]"
     ]
    },
    {
     "name": "stdout",
     "output_type": "stream",
     "text": [
      "\n",
      "\n",
      "=============================================================================================================================\n",
      "=============================================================================================================================\n",
      "\n"
     ]
    },
    {
     "name": "stderr",
     "output_type": "stream",
     "text": [
      "[Succeeded / Failed / Skipped / Total] 254 / 6 / 120 / 380:  76%|███████████████▏    | 380/500 [09:18<02:56,  1.47s/it]textattack: Saving checkpoint under \"checkpoints\\1720174727735.ta.chkpt\" at 2024-07-05 18:18:47 after 380 attacks.\n"
     ]
    },
    {
     "name": "stdout",
     "output_type": "stream",
     "text": [
      "\n",
      "\n",
      "=============================================================================================================================\n",
      "=============================================================================================================================\n",
      "\n"
     ]
    },
    {
     "name": "stderr",
     "output_type": "stream",
     "text": [
      "[Succeeded / Failed / Skipped / Total] 259 / 6 / 120 / 385:  77%|███████████████▍    | 385/500 [09:29<02:50,  1.48s/it]textattack: Saving checkpoint under \"checkpoints\\1720174738717.ta.chkpt\" at 2024-07-05 18:18:58 after 385 attacks.\n"
     ]
    },
    {
     "name": "stdout",
     "output_type": "stream",
     "text": [
      "\n",
      "\n",
      "=============================================================================================================================\n",
      "=============================================================================================================================\n",
      "\n"
     ]
    },
    {
     "name": "stderr",
     "output_type": "stream",
     "text": [
      "[Succeeded / Failed / Skipped / Total] 263 / 6 / 121 / 390:  78%|███████████████▌    | 390/500 [09:35<02:42,  1.48s/it]textattack: Saving checkpoint under \"checkpoints\\1720174744540.ta.chkpt\" at 2024-07-05 18:19:04 after 390 attacks.\n",
      "[Succeeded / Failed / Skipped / Total] 263 / 6 / 122 / 391:  78%|███████████████▋    | 391/500 [09:35<02:40,  1.47s/it]"
     ]
    },
    {
     "name": "stdout",
     "output_type": "stream",
     "text": [
      "\n",
      "\n",
      "=============================================================================================================================\n",
      "=============================================================================================================================\n",
      "\n"
     ]
    },
    {
     "name": "stderr",
     "output_type": "stream",
     "text": [
      "[Succeeded / Failed / Skipped / Total] 266 / 6 / 123 / 395:  79%|███████████████▊    | 395/500 [09:43<02:35,  1.48s/it]textattack: Saving checkpoint under \"checkpoints\\1720174752464.ta.chkpt\" at 2024-07-05 18:19:12 after 395 attacks.\n"
     ]
    },
    {
     "name": "stdout",
     "output_type": "stream",
     "text": [
      "\n",
      "\n",
      "=============================================================================================================================\n",
      "=============================================================================================================================\n",
      "\n"
     ]
    },
    {
     "name": "stderr",
     "output_type": "stream",
     "text": [
      "[Succeeded / Failed / Skipped / Total] 270 / 6 / 124 / 400:  80%|████████████████    | 400/500 [09:50<02:27,  1.48s/it]textattack: Saving checkpoint under \"checkpoints\\1720174759655.ta.chkpt\" at 2024-07-05 18:19:19 after 400 attacks.\n"
     ]
    },
    {
     "name": "stdout",
     "output_type": "stream",
     "text": [
      "\n",
      "\n",
      "=============================================================================================================================\n",
      "=============================================================================================================================\n",
      "\n"
     ]
    },
    {
     "name": "stderr",
     "output_type": "stream",
     "text": [
      "[Succeeded / Failed / Skipped / Total] 274 / 6 / 125 / 405:  81%|████████████████▏   | 405/500 [10:04<02:21,  1.49s/it]textattack: Saving checkpoint under \"checkpoints\\1720174773329.ta.chkpt\" at 2024-07-05 18:19:33 after 405 attacks.\n"
     ]
    },
    {
     "name": "stdout",
     "output_type": "stream",
     "text": [
      "\n",
      "\n",
      "=============================================================================================================================\n",
      "=============================================================================================================================\n",
      "\n"
     ]
    },
    {
     "name": "stderr",
     "output_type": "stream",
     "text": [
      "[Succeeded / Failed / Skipped / Total] 279 / 6 / 125 / 410:  82%|████████████████▍   | 410/500 [10:11<02:14,  1.49s/it]textattack: Saving checkpoint under \"checkpoints\\1720174780577.ta.chkpt\" at 2024-07-05 18:19:40 after 410 attacks.\n"
     ]
    },
    {
     "name": "stdout",
     "output_type": "stream",
     "text": [
      "\n",
      "\n",
      "=============================================================================================================================\n",
      "=============================================================================================================================\n",
      "\n"
     ]
    },
    {
     "name": "stderr",
     "output_type": "stream",
     "text": [
      "[Succeeded / Failed / Skipped / Total] 281 / 6 / 128 / 415:  83%|████████████████▌   | 415/500 [10:14<02:05,  1.48s/it]textattack: Saving checkpoint under \"checkpoints\\1720174783724.ta.chkpt\" at 2024-07-05 18:19:43 after 415 attacks.\n"
     ]
    },
    {
     "name": "stdout",
     "output_type": "stream",
     "text": [
      "\n",
      "\n",
      "=============================================================================================================================\n",
      "=============================================================================================================================\n",
      "\n"
     ]
    },
    {
     "name": "stderr",
     "output_type": "stream",
     "text": [
      "[Succeeded / Failed / Skipped / Total] 283 / 6 / 131 / 420:  84%|████████████████▊   | 420/500 [10:18<01:57,  1.47s/it]textattack: Saving checkpoint under \"checkpoints\\1720174787853.ta.chkpt\" at 2024-07-05 18:19:47 after 420 attacks.\n"
     ]
    },
    {
     "name": "stdout",
     "output_type": "stream",
     "text": [
      "\n",
      "\n",
      "=============================================================================================================================\n",
      "=============================================================================================================================\n",
      "\n"
     ]
    },
    {
     "name": "stderr",
     "output_type": "stream",
     "text": [
      "[Succeeded / Failed / Skipped / Total] 288 / 6 / 131 / 425:  85%|█████████████████   | 425/500 [10:25<01:50,  1.47s/it]textattack: Saving checkpoint under \"checkpoints\\1720174794786.ta.chkpt\" at 2024-07-05 18:19:54 after 425 attacks.\n",
      "[Succeeded / Failed / Skipped / Total] 288 / 6 / 132 / 426:  85%|█████████████████   | 426/500 [10:25<01:48,  1.47s/it]"
     ]
    },
    {
     "name": "stdout",
     "output_type": "stream",
     "text": [
      "\n",
      "\n",
      "=============================================================================================================================\n",
      "=============================================================================================================================\n",
      "\n"
     ]
    },
    {
     "name": "stderr",
     "output_type": "stream",
     "text": [
      "[Succeeded / Failed / Skipped / Total] 289 / 6 / 135 / 430:  86%|█████████████████▏  | 430/500 [10:28<01:42,  1.46s/it]textattack: Saving checkpoint under \"checkpoints\\1720174797784.ta.chkpt\" at 2024-07-05 18:19:57 after 430 attacks.\n"
     ]
    },
    {
     "name": "stdout",
     "output_type": "stream",
     "text": [
      "\n",
      "\n",
      "=============================================================================================================================\n",
      "=============================================================================================================================\n",
      "\n"
     ]
    },
    {
     "name": "stderr",
     "output_type": "stream",
     "text": [
      "[Succeeded / Failed / Skipped / Total] 292 / 6 / 137 / 435:  87%|█████████████████▍  | 435/500 [10:33<01:34,  1.46s/it]textattack: Saving checkpoint under \"checkpoints\\1720174802588.ta.chkpt\" at 2024-07-05 18:20:02 after 435 attacks.\n"
     ]
    },
    {
     "name": "stdout",
     "output_type": "stream",
     "text": [
      "\n",
      "\n",
      "=============================================================================================================================\n",
      "=============================================================================================================================\n",
      "\n"
     ]
    },
    {
     "name": "stderr",
     "output_type": "stream",
     "text": [
      "[Succeeded / Failed / Skipped / Total] 297 / 6 / 137 / 440:  88%|█████████████████▌  | 440/500 [10:52<01:29,  1.48s/it]textattack: Saving checkpoint under \"checkpoints\\1720174822044.ta.chkpt\" at 2024-07-05 18:20:22 after 440 attacks.\n",
      "[Succeeded / Failed / Skipped / Total] 297 / 6 / 138 / 441:  88%|█████████████████▋  | 441/500 [10:52<01:27,  1.48s/it]"
     ]
    },
    {
     "name": "stdout",
     "output_type": "stream",
     "text": [
      "\n",
      "\n",
      "=============================================================================================================================\n",
      "=============================================================================================================================\n",
      "\n"
     ]
    },
    {
     "name": "stderr",
     "output_type": "stream",
     "text": [
      "[Succeeded / Failed / Skipped / Total] 301 / 6 / 138 / 445:  89%|█████████████████▊  | 445/500 [10:58<01:21,  1.48s/it]textattack: Saving checkpoint under \"checkpoints\\1720174827580.ta.chkpt\" at 2024-07-05 18:20:27 after 445 attacks.\n"
     ]
    },
    {
     "name": "stdout",
     "output_type": "stream",
     "text": [
      "\n",
      "\n",
      "=============================================================================================================================\n",
      "=============================================================================================================================\n",
      "\n"
     ]
    },
    {
     "name": "stderr",
     "output_type": "stream",
     "text": [
      "[Succeeded / Failed / Skipped / Total] 304 / 6 / 140 / 450:  90%|██████████████████  | 450/500 [11:09<01:14,  1.49s/it]textattack: Saving checkpoint under \"checkpoints\\1720174838290.ta.chkpt\" at 2024-07-05 18:20:38 after 450 attacks.\n"
     ]
    },
    {
     "name": "stdout",
     "output_type": "stream",
     "text": [
      "\n",
      "\n",
      "=============================================================================================================================\n",
      "=============================================================================================================================\n",
      "\n"
     ]
    },
    {
     "name": "stderr",
     "output_type": "stream",
     "text": [
      "[Succeeded / Failed / Skipped / Total] 307 / 6 / 142 / 455:  91%|██████████████████▏ | 455/500 [11:20<01:07,  1.50s/it]textattack: Saving checkpoint under \"checkpoints\\1720174849512.ta.chkpt\" at 2024-07-05 18:20:49 after 455 attacks.\n"
     ]
    },
    {
     "name": "stdout",
     "output_type": "stream",
     "text": [
      "\n",
      "\n",
      "=============================================================================================================================\n",
      "=============================================================================================================================\n",
      "\n"
     ]
    },
    {
     "name": "stderr",
     "output_type": "stream",
     "text": [
      "[Succeeded / Failed / Skipped / Total] 311 / 6 / 143 / 460:  92%|██████████████████▍ | 460/500 [11:35<01:00,  1.51s/it]textattack: Saving checkpoint under \"checkpoints\\1720174864213.ta.chkpt\" at 2024-07-05 18:21:04 after 460 attacks.\n"
     ]
    },
    {
     "name": "stdout",
     "output_type": "stream",
     "text": [
      "\n",
      "\n",
      "=============================================================================================================================\n",
      "=============================================================================================================================\n",
      "\n"
     ]
    },
    {
     "name": "stderr",
     "output_type": "stream",
     "text": [
      "[Succeeded / Failed / Skipped / Total] 315 / 6 / 144 / 465:  93%|██████████████████▌ | 465/500 [11:48<00:53,  1.52s/it]textattack: Saving checkpoint under \"checkpoints\\1720174877364.ta.chkpt\" at 2024-07-05 18:21:17 after 465 attacks.\n"
     ]
    },
    {
     "name": "stdout",
     "output_type": "stream",
     "text": [
      "\n",
      "\n",
      "=============================================================================================================================\n",
      "=============================================================================================================================\n",
      "\n"
     ]
    },
    {
     "name": "stderr",
     "output_type": "stream",
     "text": [
      "[Succeeded / Failed / Skipped / Total] 320 / 6 / 144 / 470:  94%|██████████████████▊ | 470/500 [11:57<00:45,  1.53s/it]textattack: Saving checkpoint under \"checkpoints\\1720174887083.ta.chkpt\" at 2024-07-05 18:21:27 after 470 attacks.\n"
     ]
    },
    {
     "name": "stdout",
     "output_type": "stream",
     "text": [
      "\n",
      "\n",
      "=============================================================================================================================\n",
      "=============================================================================================================================\n",
      "\n"
     ]
    },
    {
     "name": "stderr",
     "output_type": "stream",
     "text": [
      "[Succeeded / Failed / Skipped / Total] 325 / 6 / 144 / 475:  95%|███████████████████ | 475/500 [12:24<00:39,  1.57s/it]textattack: Saving checkpoint under \"checkpoints\\1720174913442.ta.chkpt\" at 2024-07-05 18:21:53 after 475 attacks.\n"
     ]
    },
    {
     "name": "stdout",
     "output_type": "stream",
     "text": [
      "\n",
      "\n",
      "=============================================================================================================================\n",
      "=============================================================================================================================\n",
      "\n"
     ]
    },
    {
     "name": "stderr",
     "output_type": "stream",
     "text": [
      "[Succeeded / Failed / Skipped / Total] 329 / 6 / 145 / 480:  96%|███████████████████▏| 480/500 [12:37<00:31,  1.58s/it]textattack: Saving checkpoint under \"checkpoints\\1720174926346.ta.chkpt\" at 2024-07-05 18:22:06 after 480 attacks.\n"
     ]
    },
    {
     "name": "stdout",
     "output_type": "stream",
     "text": [
      "\n",
      "\n",
      "=============================================================================================================================\n",
      "=============================================================================================================================\n",
      "\n"
     ]
    },
    {
     "name": "stderr",
     "output_type": "stream",
     "text": [
      "[Succeeded / Failed / Skipped / Total] 332 / 6 / 147 / 485:  97%|███████████████████▍| 485/500 [12:44<00:23,  1.58s/it]textattack: Saving checkpoint under \"checkpoints\\1720174933366.ta.chkpt\" at 2024-07-05 18:22:13 after 485 attacks.\n",
      "[Succeeded / Failed / Skipped / Total] 332 / 6 / 148 / 486:  97%|███████████████████▍| 486/500 [12:44<00:22,  1.57s/it]"
     ]
    },
    {
     "name": "stdout",
     "output_type": "stream",
     "text": [
      "\n",
      "\n",
      "=============================================================================================================================\n",
      "=============================================================================================================================\n",
      "\n"
     ]
    },
    {
     "name": "stderr",
     "output_type": "stream",
     "text": [
      "[Succeeded / Failed / Skipped / Total] 335 / 6 / 149 / 490:  98%|███████████████████▌| 490/500 [12:55<00:15,  1.58s/it]textattack: Saving checkpoint under \"checkpoints\\1720174944430.ta.chkpt\" at 2024-07-05 18:22:24 after 490 attacks.\n",
      "[Succeeded / Failed / Skipped / Total] 335 / 6 / 150 / 491:  98%|███████████████████▋| 491/500 [12:55<00:14,  1.58s/it]"
     ]
    },
    {
     "name": "stdout",
     "output_type": "stream",
     "text": [
      "\n",
      "\n",
      "=============================================================================================================================\n",
      "=============================================================================================================================\n",
      "\n"
     ]
    },
    {
     "name": "stderr",
     "output_type": "stream",
     "text": [
      "[Succeeded / Failed / Skipped / Total] 338 / 6 / 151 / 495:  99%|███████████████████▊| 495/500 [13:04<00:07,  1.58s/it]textattack: Saving checkpoint under \"checkpoints\\1720174953518.ta.chkpt\" at 2024-07-05 18:22:33 after 495 attacks.\n"
     ]
    },
    {
     "name": "stdout",
     "output_type": "stream",
     "text": [
      "\n",
      "\n",
      "=============================================================================================================================\n",
      "=============================================================================================================================\n",
      "\n"
     ]
    },
    {
     "name": "stderr",
     "output_type": "stream",
     "text": [
      "[Succeeded / Failed / Skipped / Total] 341 / 6 / 153 / 500: 100%|████████████████████| 500/500 [13:10<00:00,  1.58s/it]textattack: Saving checkpoint under \"checkpoints\\1720174959964.ta.chkpt\" at 2024-07-05 18:22:39 after 500 attacks.\n",
      "[Succeeded / Failed / Skipped / Total] 341 / 6 / 153 / 500: 100%|████████████████████| 500/500 [13:10<00:00,  1.58s/it]"
     ]
    },
    {
     "name": "stdout",
     "output_type": "stream",
     "text": [
      "\n",
      "\n",
      "=============================================================================================================================\n",
      "=============================================================================================================================\n",
      "\n",
      "\n",
      "+-------------------------------+--------+\n",
      "| Attack Results                |        |\n",
      "+-------------------------------+--------+\n",
      "| Number of successful attacks: | 341    |\n",
      "| Number of failed attacks:     | 6      |\n",
      "| Number of skipped attacks:    | 153    |\n",
      "| Original accuracy:            | 69.4%  |\n",
      "| Accuracy under attack:        | 1.2%   |\n",
      "| Attack success rate:          | 98.27% |\n",
      "| Average perturbed word %:     | 8.72%  |\n",
      "| Average num. words per input: | 18.4   |\n",
      "| Avg num queries:              | 53.97  |\n",
      "+-------------------------------+--------+\n"
     ]
    },
    {
     "name": "stderr",
     "output_type": "stream",
     "text": [
      "\n"
     ]
    }
   ],
   "source": [
    "runAttack(bert_model_wrapper_knn_mr, n_samples, 'attack_results_new/bertmrattackknn'+suffix, target_ds_mr)"
   ]
  },
  {
   "cell_type": "code",
   "execution_count": 15,
   "id": "81e7d26b-097a-47d3-b9c6-b5d63790260c",
   "metadata": {},
   "outputs": [
    {
     "name": "stderr",
     "output_type": "stream",
     "text": [
      "textattack: Unknown if model of class <class 'transformers.models.bert.modeling_bert.BertModel'> compatible with goal function <class 'textattack.goal_functions.classification.untargeted_classification.UntargetedClassification'>.\n",
      "textattack: Logging to CSV at path attack_results_new/bertmrattacksvcsim05.csv\n"
     ]
    },
    {
     "name": "stdout",
     "output_type": "stream",
     "text": [
      "Attack(\n",
      "  (search_method): GreedyWordSwapWIR(\n",
      "    (wir_method):  delete\n",
      "  )\n",
      "  (goal_function):  UntargetedClassification\n",
      "  (transformation):  WordSwapEmbedding(\n",
      "    (max_candidates):  50\n",
      "    (embedding):  WordEmbedding\n",
      "  )\n",
      "  (constraints): \n",
      "    (0): WordEmbeddingDistance(\n",
      "        (embedding):  WordEmbedding\n",
      "        (min_cos_sim):  0.5\n",
      "        (cased):  False\n",
      "        (include_unknown_words):  True\n",
      "        (compare_against_original):  True\n",
      "      )\n",
      "    (1): PartOfSpeech(\n",
      "        (tagger_type):  nltk\n",
      "        (tagset):  universal\n",
      "        (allow_verb_noun_swap):  True\n",
      "        (compare_against_original):  True\n",
      "      )\n",
      "    (2): UniversalSentenceEncoder(\n",
      "        (metric):  angular\n",
      "        (threshold):  0.840845057\n",
      "        (window_size):  15\n",
      "        (skip_text_shorter_than_window):  True\n",
      "        (compare_against_original):  False\n",
      "      )\n",
      "    (3): RepeatModification\n",
      "    (4): StopwordModification\n",
      "    (5): InputColumnModification(\n",
      "        (matching_column_labels):  ['premise', 'hypothesis']\n",
      "        (columns_to_ignore):  {'premise'}\n",
      "      )\n",
      "  (is_black_box):  True\n",
      ") \n",
      "\n"
     ]
    },
    {
     "name": "stderr",
     "output_type": "stream",
     "text": [
      "[Succeeded / Failed / Skipped / Total] 4 / 0 / 1 / 5:   1%|▎                           | 5/500 [00:27<45:04,  5.46s/it]textattack: Saving checkpoint under \"checkpoints\\1720174987345.ta.chkpt\" at 2024-07-05 18:23:07 after 5 attacks.\n",
      "[Succeeded / Failed / Skipped / Total] 4 / 0 / 3 / 7:   1%|▍                           | 7/500 [00:27<32:14,  3.92s/it]"
     ]
    },
    {
     "name": "stdout",
     "output_type": "stream",
     "text": [
      "\n",
      "\n",
      "=============================================================================================================================\n",
      "=============================================================================================================================\n",
      "\n"
     ]
    },
    {
     "name": "stderr",
     "output_type": "stream",
     "text": [
      "[Succeeded / Failed / Skipped / Total] 6 / 0 / 4 / 10:   2%|▌                         | 10/500 [00:39<32:29,  3.98s/it]textattack: Saving checkpoint under \"checkpoints\\1720174999826.ta.chkpt\" at 2024-07-05 18:23:19 after 10 attacks.\n"
     ]
    },
    {
     "name": "stdout",
     "output_type": "stream",
     "text": [
      "\n",
      "\n",
      "=============================================================================================================================\n",
      "=============================================================================================================================\n",
      "\n"
     ]
    },
    {
     "name": "stderr",
     "output_type": "stream",
     "text": [
      "[Succeeded / Failed / Skipped / Total] 11 / 0 / 4 / 15:   3%|▊                        | 15/500 [01:28<47:45,  5.91s/it]textattack: Saving checkpoint under \"checkpoints\\1720175048657.ta.chkpt\" at 2024-07-05 18:24:08 after 15 attacks.\n"
     ]
    },
    {
     "name": "stdout",
     "output_type": "stream",
     "text": [
      "\n",
      "\n",
      "=============================================================================================================================\n",
      "=============================================================================================================================\n",
      "\n"
     ]
    },
    {
     "name": "stderr",
     "output_type": "stream",
     "text": [
      "[Succeeded / Failed / Skipped / Total] 14 / 1 / 5 / 20:   4%|█                        | 20/500 [01:34<37:56,  4.74s/it]textattack: Saving checkpoint under \"checkpoints\\1720175054898.ta.chkpt\" at 2024-07-05 18:24:14 after 20 attacks.\n"
     ]
    },
    {
     "name": "stdout",
     "output_type": "stream",
     "text": [
      "\n",
      "\n",
      "=============================================================================================================================\n",
      "=============================================================================================================================\n",
      "\n"
     ]
    },
    {
     "name": "stderr",
     "output_type": "stream",
     "text": [
      "[Succeeded / Failed / Skipped / Total] 17 / 1 / 7 / 25:   5%|█▎                       | 25/500 [01:44<33:13,  4.20s/it]textattack: Saving checkpoint under \"checkpoints\\1720175064954.ta.chkpt\" at 2024-07-05 18:24:24 after 25 attacks.\n"
     ]
    },
    {
     "name": "stdout",
     "output_type": "stream",
     "text": [
      "\n",
      "\n",
      "=============================================================================================================================\n",
      "=============================================================================================================================\n",
      "\n"
     ]
    },
    {
     "name": "stderr",
     "output_type": "stream",
     "text": [
      "[Succeeded / Failed / Skipped / Total] 22 / 1 / 7 / 30:   6%|█▌                       | 30/500 [02:04<32:32,  4.15s/it]textattack: Saving checkpoint under \"checkpoints\\1720175084636.ta.chkpt\" at 2024-07-05 18:24:44 after 30 attacks.\n"
     ]
    },
    {
     "name": "stdout",
     "output_type": "stream",
     "text": [
      "\n",
      "\n",
      "=============================================================================================================================\n",
      "=============================================================================================================================\n",
      "\n"
     ]
    },
    {
     "name": "stderr",
     "output_type": "stream",
     "text": [
      "[Succeeded / Failed / Skipped / Total] 26 / 1 / 8 / 35:   7%|█▊                       | 35/500 [02:17<30:24,  3.92s/it]textattack: Saving checkpoint under \"checkpoints\\1720175097376.ta.chkpt\" at 2024-07-05 18:24:57 after 35 attacks.\n"
     ]
    },
    {
     "name": "stdout",
     "output_type": "stream",
     "text": [
      "\n",
      "\n",
      "=============================================================================================================================\n",
      "=============================================================================================================================\n",
      "\n"
     ]
    },
    {
     "name": "stderr",
     "output_type": "stream",
     "text": [
      "[Succeeded / Failed / Skipped / Total] 29 / 1 / 10 / 40:   8%|█▉                      | 40/500 [02:29<28:42,  3.75s/it]textattack: Saving checkpoint under \"checkpoints\\1720175109830.ta.chkpt\" at 2024-07-05 18:25:09 after 40 attacks.\n"
     ]
    },
    {
     "name": "stdout",
     "output_type": "stream",
     "text": [
      "\n",
      "\n",
      "=============================================================================================================================\n",
      "=============================================================================================================================\n",
      "\n"
     ]
    },
    {
     "name": "stderr",
     "output_type": "stream",
     "text": [
      "[Succeeded / Failed / Skipped / Total] 33 / 1 / 11 / 45:   9%|██▏                     | 45/500 [02:49<28:38,  3.78s/it]textattack: Saving checkpoint under \"checkpoints\\1720175130023.ta.chkpt\" at 2024-07-05 18:25:30 after 45 attacks.\n"
     ]
    },
    {
     "name": "stdout",
     "output_type": "stream",
     "text": [
      "\n",
      "\n",
      "=============================================================================================================================\n",
      "=============================================================================================================================\n",
      "\n"
     ]
    },
    {
     "name": "stderr",
     "output_type": "stream",
     "text": [
      "[Succeeded / Failed / Skipped / Total] 38 / 1 / 11 / 50:  10%|██▍                     | 50/500 [03:10<28:31,  3.80s/it]textattack: Saving checkpoint under \"checkpoints\\1720175150238.ta.chkpt\" at 2024-07-05 18:25:50 after 50 attacks.\n"
     ]
    },
    {
     "name": "stdout",
     "output_type": "stream",
     "text": [
      "\n",
      "\n",
      "=============================================================================================================================\n",
      "=============================================================================================================================\n",
      "\n"
     ]
    },
    {
     "name": "stderr",
     "output_type": "stream",
     "text": [
      "[Succeeded / Failed / Skipped / Total] 43 / 1 / 11 / 55:  11%|██▋                     | 55/500 [03:28<28:03,  3.78s/it]textattack: Saving checkpoint under \"checkpoints\\1720175168074.ta.chkpt\" at 2024-07-05 18:26:08 after 55 attacks.\n"
     ]
    },
    {
     "name": "stdout",
     "output_type": "stream",
     "text": [
      "\n",
      "\n",
      "=============================================================================================================================\n",
      "=============================================================================================================================\n",
      "\n"
     ]
    },
    {
     "name": "stderr",
     "output_type": "stream",
     "text": [
      "[Succeeded / Failed / Skipped / Total] 47 / 1 / 12 / 60:  12%|██▉                     | 60/500 [03:39<26:51,  3.66s/it]textattack: Saving checkpoint under \"checkpoints\\1720175179757.ta.chkpt\" at 2024-07-05 18:26:19 after 60 attacks.\n",
      "[Succeeded / Failed / Skipped / Total] 47 / 1 / 13 / 61:  12%|██▉                     | 61/500 [03:39<26:22,  3.60s/it]"
     ]
    },
    {
     "name": "stdout",
     "output_type": "stream",
     "text": [
      "\n",
      "\n",
      "=============================================================================================================================\n",
      "=============================================================================================================================\n",
      "\n"
     ]
    },
    {
     "name": "stderr",
     "output_type": "stream",
     "text": [
      "[Succeeded / Failed / Skipped / Total] 51 / 1 / 13 / 65:  13%|███                     | 65/500 [03:50<25:45,  3.55s/it]textattack: Saving checkpoint under \"checkpoints\\1720175190919.ta.chkpt\" at 2024-07-05 18:26:30 after 65 attacks.\n"
     ]
    },
    {
     "name": "stdout",
     "output_type": "stream",
     "text": [
      "\n",
      "\n",
      "=============================================================================================================================\n",
      "=============================================================================================================================\n",
      "\n"
     ]
    },
    {
     "name": "stderr",
     "output_type": "stream",
     "text": [
      "[Succeeded / Failed / Skipped / Total] 55 / 1 / 14 / 70:  14%|███▎                    | 70/500 [04:09<25:34,  3.57s/it]textattack: Saving checkpoint under \"checkpoints\\1720175209792.ta.chkpt\" at 2024-07-05 18:26:49 after 70 attacks.\n"
     ]
    },
    {
     "name": "stdout",
     "output_type": "stream",
     "text": [
      "\n",
      "\n",
      "=============================================================================================================================\n",
      "=============================================================================================================================\n",
      "\n"
     ]
    },
    {
     "name": "stderr",
     "output_type": "stream",
     "text": [
      "[Succeeded / Failed / Skipped / Total] 59 / 1 / 15 / 75:  15%|███▌                    | 75/500 [04:15<24:06,  3.40s/it]textattack: Saving checkpoint under \"checkpoints\\1720175215324.ta.chkpt\" at 2024-07-05 18:26:55 after 75 attacks.\n",
      "[Succeeded / Failed / Skipped / Total] 59 / 1 / 16 / 76:  15%|███▋                    | 76/500 [04:15<23:44,  3.36s/it]"
     ]
    },
    {
     "name": "stdout",
     "output_type": "stream",
     "text": [
      "\n",
      "\n",
      "=============================================================================================================================\n",
      "=============================================================================================================================\n",
      "\n"
     ]
    },
    {
     "name": "stderr",
     "output_type": "stream",
     "text": [
      "[Succeeded / Failed / Skipped / Total] 63 / 1 / 16 / 80:  16%|███▊                    | 80/500 [04:32<23:53,  3.41s/it]textattack: Saving checkpoint under \"checkpoints\\1720175232999.ta.chkpt\" at 2024-07-05 18:27:12 after 80 attacks.\n"
     ]
    },
    {
     "name": "stdout",
     "output_type": "stream",
     "text": [
      "\n",
      "\n",
      "=============================================================================================================================\n",
      "=============================================================================================================================\n",
      "\n"
     ]
    },
    {
     "name": "stderr",
     "output_type": "stream",
     "text": [
      "[Succeeded / Failed / Skipped / Total] 66 / 1 / 18 / 85:  17%|████                    | 85/500 [04:38<22:41,  3.28s/it]textattack: Saving checkpoint under \"checkpoints\\1720175238893.ta.chkpt\" at 2024-07-05 18:27:18 after 85 attacks.\n"
     ]
    },
    {
     "name": "stdout",
     "output_type": "stream",
     "text": [
      "\n",
      "\n",
      "=============================================================================================================================\n",
      "=============================================================================================================================\n",
      "\n"
     ]
    },
    {
     "name": "stderr",
     "output_type": "stream",
     "text": [
      "[Succeeded / Failed / Skipped / Total] 71 / 1 / 18 / 90:  18%|████▎                   | 90/500 [04:54<22:20,  3.27s/it]textattack: Saving checkpoint under \"checkpoints\\1720175254288.ta.chkpt\" at 2024-07-05 18:27:34 after 90 attacks.\n",
      "[Succeeded / Failed / Skipped / Total] 71 / 1 / 19 / 91:  18%|████▍                   | 92/500 [04:54<21:45,  3.20s/it]"
     ]
    },
    {
     "name": "stdout",
     "output_type": "stream",
     "text": [
      "\n",
      "\n",
      "=============================================================================================================================\n",
      "=============================================================================================================================\n",
      "\n"
     ]
    },
    {
     "name": "stderr",
     "output_type": "stream",
     "text": [
      "[Succeeded / Failed / Skipped / Total] 74 / 1 / 20 / 95:  19%|████▌                   | 95/500 [05:03<21:32,  3.19s/it]textattack: Saving checkpoint under \"checkpoints\\1720175263318.ta.chkpt\" at 2024-07-05 18:27:43 after 95 attacks.\n"
     ]
    },
    {
     "name": "stdout",
     "output_type": "stream",
     "text": [
      "\n",
      "\n",
      "=============================================================================================================================\n",
      "=============================================================================================================================\n",
      "\n"
     ]
    },
    {
     "name": "stderr",
     "output_type": "stream",
     "text": [
      "[Succeeded / Failed / Skipped / Total] 79 / 1 / 20 / 100:  20%|████▍                 | 100/500 [05:19<21:16,  3.19s/it]textattack: Saving checkpoint under \"checkpoints\\1720175279050.ta.chkpt\" at 2024-07-05 18:27:59 after 100 attacks.\n"
     ]
    },
    {
     "name": "stdout",
     "output_type": "stream",
     "text": [
      "\n",
      "\n",
      "=============================================================================================================================\n",
      "=============================================================================================================================\n",
      "\n"
     ]
    },
    {
     "name": "stderr",
     "output_type": "stream",
     "text": [
      "[Succeeded / Failed / Skipped / Total] 84 / 1 / 20 / 105:  21%|████▌                 | 105/500 [05:41<21:23,  3.25s/it]textattack: Saving checkpoint under \"checkpoints\\1720175301342.ta.chkpt\" at 2024-07-05 18:28:21 after 105 attacks.\n",
      "[Succeeded / Failed / Skipped / Total] 84 / 1 / 21 / 106:  21%|████▋                 | 106/500 [05:41<21:09,  3.22s/it]"
     ]
    },
    {
     "name": "stdout",
     "output_type": "stream",
     "text": [
      "\n",
      "\n",
      "=============================================================================================================================\n",
      "=============================================================================================================================\n",
      "\n"
     ]
    },
    {
     "name": "stderr",
     "output_type": "stream",
     "text": [
      "[Succeeded / Failed / Skipped / Total] 87 / 1 / 22 / 110:  22%|████▊                 | 110/500 [05:50<20:42,  3.19s/it]textattack: Saving checkpoint under \"checkpoints\\1720175310540.ta.chkpt\" at 2024-07-05 18:28:30 after 110 attacks.\n"
     ]
    },
    {
     "name": "stdout",
     "output_type": "stream",
     "text": [
      "\n",
      "\n",
      "=============================================================================================================================\n",
      "=============================================================================================================================\n",
      "\n"
     ]
    },
    {
     "name": "stderr",
     "output_type": "stream",
     "text": [
      "[Succeeded / Failed / Skipped / Total] 91 / 1 / 23 / 115:  23%|█████                 | 115/500 [06:02<20:13,  3.15s/it]textattack: Saving checkpoint under \"checkpoints\\1720175322503.ta.chkpt\" at 2024-07-05 18:28:42 after 115 attacks.\n"
     ]
    },
    {
     "name": "stdout",
     "output_type": "stream",
     "text": [
      "\n",
      "\n",
      "=============================================================================================================================\n",
      "=============================================================================================================================\n",
      "\n"
     ]
    },
    {
     "name": "stderr",
     "output_type": "stream",
     "text": [
      "[Succeeded / Failed / Skipped / Total] 94 / 1 / 25 / 120:  24%|█████▎                | 120/500 [06:07<19:22,  3.06s/it]textattack: Saving checkpoint under \"checkpoints\\1720175327224.ta.chkpt\" at 2024-07-05 18:28:47 after 120 attacks.\n"
     ]
    },
    {
     "name": "stdout",
     "output_type": "stream",
     "text": [
      "\n",
      "\n",
      "=============================================================================================================================\n",
      "=============================================================================================================================\n",
      "\n"
     ]
    },
    {
     "name": "stderr",
     "output_type": "stream",
     "text": [
      "[Succeeded / Failed / Skipped / Total] 99 / 1 / 25 / 125:  25%|█████▌                | 125/500 [06:20<19:00,  3.04s/it]textattack: Saving checkpoint under \"checkpoints\\1720175340080.ta.chkpt\" at 2024-07-05 18:29:00 after 125 attacks.\n",
      "[Succeeded / Failed / Skipped / Total] 99 / 1 / 26 / 126:  25%|█████▌                | 126/500 [06:20<18:48,  3.02s/it]"
     ]
    },
    {
     "name": "stdout",
     "output_type": "stream",
     "text": [
      "\n",
      "\n",
      "=============================================================================================================================\n",
      "=============================================================================================================================\n",
      "\n"
     ]
    },
    {
     "name": "stderr",
     "output_type": "stream",
     "text": [
      "[Succeeded / Failed / Skipped / Total] 103 / 1 / 26 / 130:  26%|█████▍               | 130/500 [06:28<18:26,  2.99s/it]textattack: Saving checkpoint under \"checkpoints\\1720175348763.ta.chkpt\" at 2024-07-05 18:29:08 after 130 attacks.\n",
      "[Succeeded / Failed / Skipped / Total] 103 / 1 / 27 / 131:  26%|█████▌               | 131/500 [06:28<18:15,  2.97s/it]"
     ]
    },
    {
     "name": "stdout",
     "output_type": "stream",
     "text": [
      "\n",
      "\n",
      "=============================================================================================================================\n",
      "=============================================================================================================================\n",
      "\n"
     ]
    },
    {
     "name": "stderr",
     "output_type": "stream",
     "text": [
      "[Succeeded / Failed / Skipped / Total] 107 / 1 / 27 / 135:  27%|█████▋               | 135/500 [06:41<18:06,  2.98s/it]textattack: Saving checkpoint under \"checkpoints\\1720175361930.ta.chkpt\" at 2024-07-05 18:29:21 after 135 attacks.\n"
     ]
    },
    {
     "name": "stdout",
     "output_type": "stream",
     "text": [
      "\n",
      "\n",
      "=============================================================================================================================\n",
      "=============================================================================================================================\n",
      "\n"
     ]
    },
    {
     "name": "stderr",
     "output_type": "stream",
     "text": [
      "[Succeeded / Failed / Skipped / Total] 112 / 1 / 27 / 140:  28%|█████▉               | 140/500 [06:57<17:54,  2.98s/it]textattack: Saving checkpoint under \"checkpoints\\1720175377774.ta.chkpt\" at 2024-07-05 18:29:37 after 140 attacks.\n"
     ]
    },
    {
     "name": "stdout",
     "output_type": "stream",
     "text": [
      "\n",
      "\n",
      "=============================================================================================================================\n",
      "=============================================================================================================================\n",
      "\n"
     ]
    },
    {
     "name": "stderr",
     "output_type": "stream",
     "text": [
      "[Succeeded / Failed / Skipped / Total] 116 / 1 / 28 / 145:  29%|██████               | 145/500 [07:09<17:32,  2.96s/it]textattack: Saving checkpoint under \"checkpoints\\1720175389927.ta.chkpt\" at 2024-07-05 18:29:49 after 145 attacks.\n",
      "[Succeeded / Failed / Skipped / Total] 116 / 1 / 30 / 147:  29%|██████▏              | 147/500 [07:10<17:12,  2.93s/it]"
     ]
    },
    {
     "name": "stdout",
     "output_type": "stream",
     "text": [
      "\n",
      "\n",
      "=============================================================================================================================\n",
      "=============================================================================================================================\n",
      "\n"
     ]
    },
    {
     "name": "stderr",
     "output_type": "stream",
     "text": [
      "[Succeeded / Failed / Skipped / Total] 117 / 1 / 32 / 150:  30%|██████▎              | 150/500 [07:12<16:49,  2.88s/it]textattack: Saving checkpoint under \"checkpoints\\1720175392529.ta.chkpt\" at 2024-07-05 18:29:52 after 150 attacks.\n"
     ]
    },
    {
     "name": "stdout",
     "output_type": "stream",
     "text": [
      "\n",
      "\n",
      "=============================================================================================================================\n",
      "=============================================================================================================================\n",
      "\n"
     ]
    },
    {
     "name": "stderr",
     "output_type": "stream",
     "text": [
      "[Succeeded / Failed / Skipped / Total] 120 / 1 / 34 / 155:  31%|██████▌              | 155/500 [07:20<16:19,  2.84s/it]textattack: Saving checkpoint under \"checkpoints\\1720175400283.ta.chkpt\" at 2024-07-05 18:30:00 after 155 attacks.\n"
     ]
    },
    {
     "name": "stdout",
     "output_type": "stream",
     "text": [
      "\n",
      "\n",
      "=============================================================================================================================\n",
      "=============================================================================================================================\n",
      "\n"
     ]
    },
    {
     "name": "stderr",
     "output_type": "stream",
     "text": [
      "[Succeeded / Failed / Skipped / Total] 124 / 1 / 35 / 160:  32%|██████▋              | 160/500 [07:37<16:12,  2.86s/it]textattack: Saving checkpoint under \"checkpoints\\1720175417484.ta.chkpt\" at 2024-07-05 18:30:17 after 160 attacks.\n",
      "[Succeeded / Failed / Skipped / Total] 124 / 1 / 36 / 161:  32%|██████▊              | 161/500 [07:37<16:03,  2.84s/it]"
     ]
    },
    {
     "name": "stdout",
     "output_type": "stream",
     "text": [
      "\n",
      "\n",
      "=============================================================================================================================\n",
      "=============================================================================================================================\n",
      "\n"
     ]
    },
    {
     "name": "stderr",
     "output_type": "stream",
     "text": [
      "[Succeeded / Failed / Skipped / Total] 127 / 1 / 37 / 165:  33%|██████▉              | 165/500 [07:46<15:46,  2.83s/it]textattack: Saving checkpoint under \"checkpoints\\1720175426331.ta.chkpt\" at 2024-07-05 18:30:26 after 165 attacks.\n",
      "[Succeeded / Failed / Skipped / Total] 127 / 1 / 38 / 166:  33%|██████▉              | 166/500 [07:46<15:38,  2.81s/it]"
     ]
    },
    {
     "name": "stdout",
     "output_type": "stream",
     "text": [
      "\n",
      "\n",
      "=============================================================================================================================\n",
      "=============================================================================================================================\n",
      "\n"
     ]
    },
    {
     "name": "stderr",
     "output_type": "stream",
     "text": [
      "[Succeeded / Failed / Skipped / Total] 131 / 1 / 38 / 170:  34%|███████▏             | 170/500 [08:03<15:38,  2.84s/it]textattack: Saving checkpoint under \"checkpoints\\1720175443437.ta.chkpt\" at 2024-07-05 18:30:43 after 170 attacks.\n"
     ]
    },
    {
     "name": "stdout",
     "output_type": "stream",
     "text": [
      "\n",
      "\n",
      "=============================================================================================================================\n",
      "=============================================================================================================================\n",
      "\n"
     ]
    },
    {
     "name": "stderr",
     "output_type": "stream",
     "text": [
      "[Succeeded / Failed / Skipped / Total] 135 / 2 / 38 / 175:  35%|███████▎             | 175/500 [08:28<15:43,  2.90s/it]textattack: Saving checkpoint under \"checkpoints\\1720175468059.ta.chkpt\" at 2024-07-05 18:31:08 after 175 attacks.\n"
     ]
    },
    {
     "name": "stdout",
     "output_type": "stream",
     "text": [
      "\n",
      "\n",
      "=============================================================================================================================\n",
      "=============================================================================================================================\n",
      "\n"
     ]
    },
    {
     "name": "stderr",
     "output_type": "stream",
     "text": [
      "[Succeeded / Failed / Skipped / Total] 138 / 3 / 39 / 180:  36%|███████▌             | 180/500 [08:41<15:26,  2.90s/it]textattack: Saving checkpoint under \"checkpoints\\1720175481262.ta.chkpt\" at 2024-07-05 18:31:21 after 180 attacks.\n"
     ]
    },
    {
     "name": "stdout",
     "output_type": "stream",
     "text": [
      "\n",
      "\n",
      "=============================================================================================================================\n",
      "=============================================================================================================================\n",
      "\n"
     ]
    },
    {
     "name": "stderr",
     "output_type": "stream",
     "text": [
      "[Succeeded / Failed / Skipped / Total] 142 / 3 / 40 / 185:  37%|███████▊             | 185/500 [08:46<14:56,  2.85s/it]textattack: Saving checkpoint under \"checkpoints\\1720175486612.ta.chkpt\" at 2024-07-05 18:31:26 after 185 attacks.\n"
     ]
    },
    {
     "name": "stdout",
     "output_type": "stream",
     "text": [
      "\n",
      "\n",
      "=============================================================================================================================\n",
      "=============================================================================================================================\n",
      "\n"
     ]
    },
    {
     "name": "stderr",
     "output_type": "stream",
     "text": [
      "[Succeeded / Failed / Skipped / Total] 147 / 3 / 40 / 190:  38%|███████▉             | 190/500 [09:13<15:03,  2.92s/it]textattack: Saving checkpoint under \"checkpoints\\1720175513959.ta.chkpt\" at 2024-07-05 18:31:53 after 190 attacks.\n"
     ]
    },
    {
     "name": "stdout",
     "output_type": "stream",
     "text": [
      "\n",
      "\n",
      "=============================================================================================================================\n",
      "=============================================================================================================================\n",
      "\n"
     ]
    },
    {
     "name": "stderr",
     "output_type": "stream",
     "text": [
      "[Succeeded / Failed / Skipped / Total] 151 / 3 / 41 / 195:  39%|████████▏            | 195/500 [09:28<14:49,  2.92s/it]textattack: Saving checkpoint under \"checkpoints\\1720175528634.ta.chkpt\" at 2024-07-05 18:32:08 after 195 attacks.\n"
     ]
    },
    {
     "name": "stdout",
     "output_type": "stream",
     "text": [
      "\n",
      "\n",
      "=============================================================================================================================\n",
      "=============================================================================================================================\n",
      "\n"
     ]
    },
    {
     "name": "stderr",
     "output_type": "stream",
     "text": [
      "[Succeeded / Failed / Skipped / Total] 155 / 3 / 42 / 200:  40%|████████▍            | 200/500 [09:47<14:41,  2.94s/it]textattack: Saving checkpoint under \"checkpoints\\1720175547643.ta.chkpt\" at 2024-07-05 18:32:27 after 200 attacks.\n",
      "[Succeeded / Failed / Skipped / Total] 155 / 3 / 43 / 201:  40%|████████▍            | 201/500 [09:47<14:34,  2.92s/it]"
     ]
    },
    {
     "name": "stdout",
     "output_type": "stream",
     "text": [
      "\n",
      "\n",
      "=============================================================================================================================\n",
      "=============================================================================================================================\n",
      "\n"
     ]
    },
    {
     "name": "stderr",
     "output_type": "stream",
     "text": [
      "[Succeeded / Failed / Skipped / Total] 157 / 4 / 44 / 205:  41%|████████▌            | 205/500 [09:54<14:14,  2.90s/it]textattack: Saving checkpoint under \"checkpoints\\1720175554081.ta.chkpt\" at 2024-07-05 18:32:34 after 205 attacks.\n",
      "[Succeeded / Failed / Skipped / Total] 157 / 4 / 45 / 206:  41%|████████▋            | 206/500 [09:54<14:07,  2.88s/it]"
     ]
    },
    {
     "name": "stdout",
     "output_type": "stream",
     "text": [
      "\n",
      "\n",
      "=============================================================================================================================\n",
      "=============================================================================================================================\n",
      "\n"
     ]
    },
    {
     "name": "stderr",
     "output_type": "stream",
     "text": [
      "[Succeeded / Failed / Skipped / Total] 161 / 4 / 45 / 210:  42%|████████▊            | 210/500 [10:03<13:53,  2.87s/it]textattack: Saving checkpoint under \"checkpoints\\1720175563557.ta.chkpt\" at 2024-07-05 18:32:43 after 210 attacks.\n"
     ]
    },
    {
     "name": "stdout",
     "output_type": "stream",
     "text": [
      "\n",
      "\n",
      "=============================================================================================================================\n",
      "=============================================================================================================================\n",
      "\n"
     ]
    },
    {
     "name": "stderr",
     "output_type": "stream",
     "text": [
      "[Succeeded / Failed / Skipped / Total] 164 / 5 / 46 / 215:  43%|█████████            | 215/500 [10:23<13:46,  2.90s/it]textattack: Saving checkpoint under \"checkpoints\\1720175583850.ta.chkpt\" at 2024-07-05 18:33:03 after 215 attacks.\n"
     ]
    },
    {
     "name": "stdout",
     "output_type": "stream",
     "text": [
      "\n",
      "\n",
      "=============================================================================================================================\n",
      "=============================================================================================================================\n",
      "\n"
     ]
    },
    {
     "name": "stderr",
     "output_type": "stream",
     "text": [
      "[Succeeded / Failed / Skipped / Total] 169 / 5 / 46 / 220:  44%|█████████▏           | 220/500 [10:36<13:30,  2.89s/it]textattack: Saving checkpoint under \"checkpoints\\1720175596737.ta.chkpt\" at 2024-07-05 18:33:16 after 220 attacks.\n"
     ]
    },
    {
     "name": "stdout",
     "output_type": "stream",
     "text": [
      "\n",
      "\n",
      "=============================================================================================================================\n",
      "=============================================================================================================================\n",
      "\n"
     ]
    },
    {
     "name": "stderr",
     "output_type": "stream",
     "text": [
      "[Succeeded / Failed / Skipped / Total] 172 / 5 / 48 / 225:  45%|█████████▍           | 225/500 [10:55<13:21,  2.92s/it]textattack: Saving checkpoint under \"checkpoints\\1720175615969.ta.chkpt\" at 2024-07-05 18:33:35 after 225 attacks.\n"
     ]
    },
    {
     "name": "stdout",
     "output_type": "stream",
     "text": [
      "\n",
      "\n",
      "=============================================================================================================================\n",
      "=============================================================================================================================\n",
      "\n"
     ]
    },
    {
     "name": "stderr",
     "output_type": "stream",
     "text": [
      "[Succeeded / Failed / Skipped / Total] 177 / 5 / 48 / 230:  46%|█████████▋           | 230/500 [11:09<13:06,  2.91s/it]textattack: Saving checkpoint under \"checkpoints\\1720175629852.ta.chkpt\" at 2024-07-05 18:33:49 after 230 attacks.\n"
     ]
    },
    {
     "name": "stdout",
     "output_type": "stream",
     "text": [
      "\n",
      "\n",
      "=============================================================================================================================\n",
      "=============================================================================================================================\n",
      "\n"
     ]
    },
    {
     "name": "stderr",
     "output_type": "stream",
     "text": [
      "[Succeeded / Failed / Skipped / Total] 181 / 5 / 49 / 235:  47%|█████████▊           | 235/500 [11:29<12:57,  2.93s/it]textattack: Saving checkpoint under \"checkpoints\\1720175649416.ta.chkpt\" at 2024-07-05 18:34:09 after 235 attacks.\n",
      "[Succeeded / Failed / Skipped / Total] 181 / 5 / 50 / 236:  47%|█████████▉           | 236/500 [11:29<12:51,  2.92s/it]"
     ]
    },
    {
     "name": "stdout",
     "output_type": "stream",
     "text": [
      "\n",
      "\n",
      "=============================================================================================================================\n",
      "=============================================================================================================================\n",
      "\n"
     ]
    },
    {
     "name": "stderr",
     "output_type": "stream",
     "text": [
      "[Succeeded / Failed / Skipped / Total] 185 / 5 / 50 / 240:  48%|██████████           | 240/500 [11:43<12:42,  2.93s/it]textattack: Saving checkpoint under \"checkpoints\\1720175663648.ta.chkpt\" at 2024-07-05 18:34:23 after 240 attacks.\n"
     ]
    },
    {
     "name": "stdout",
     "output_type": "stream",
     "text": [
      "\n",
      "\n",
      "=============================================================================================================================\n",
      "=============================================================================================================================\n",
      "\n"
     ]
    },
    {
     "name": "stderr",
     "output_type": "stream",
     "text": [
      "[Succeeded / Failed / Skipped / Total] 190 / 5 / 50 / 245:  49%|██████████▎          | 245/500 [11:59<12:29,  2.94s/it]textattack: Saving checkpoint under \"checkpoints\\1720175679911.ta.chkpt\" at 2024-07-05 18:34:39 after 245 attacks.\n"
     ]
    },
    {
     "name": "stdout",
     "output_type": "stream",
     "text": [
      "\n",
      "\n",
      "=============================================================================================================================\n",
      "=============================================================================================================================\n",
      "\n"
     ]
    },
    {
     "name": "stderr",
     "output_type": "stream",
     "text": [
      "[Succeeded / Failed / Skipped / Total] 194 / 5 / 51 / 250:  50%|██████████▌          | 250/500 [12:06<12:06,  2.90s/it]textattack: Saving checkpoint under \"checkpoints\\1720175686238.ta.chkpt\" at 2024-07-05 18:34:46 after 250 attacks.\n",
      "[Succeeded / Failed / Skipped / Total] 194 / 5 / 52 / 251:  50%|██████████▌          | 251/500 [12:06<12:00,  2.89s/it]"
     ]
    },
    {
     "name": "stdout",
     "output_type": "stream",
     "text": [
      "\n",
      "\n",
      "=============================================================================================================================\n",
      "=============================================================================================================================\n",
      "\n"
     ]
    },
    {
     "name": "stderr",
     "output_type": "stream",
     "text": [
      "[Succeeded / Failed / Skipped / Total] 196 / 5 / 54 / 255:  51%|██████████▋          | 255/500 [12:13<11:44,  2.88s/it]textattack: Saving checkpoint under \"checkpoints\\1720175693420.ta.chkpt\" at 2024-07-05 18:34:53 after 255 attacks.\n"
     ]
    },
    {
     "name": "stdout",
     "output_type": "stream",
     "text": [
      "\n",
      "\n",
      "=============================================================================================================================\n",
      "=============================================================================================================================\n",
      "\n"
     ]
    },
    {
     "name": "stderr",
     "output_type": "stream",
     "text": [
      "[Succeeded / Failed / Skipped / Total] 200 / 5 / 55 / 260:  52%|██████████▉          | 260/500 [12:29<11:32,  2.88s/it]textattack: Saving checkpoint under \"checkpoints\\1720175709724.ta.chkpt\" at 2024-07-05 18:35:09 after 260 attacks.\n"
     ]
    },
    {
     "name": "stdout",
     "output_type": "stream",
     "text": [
      "\n",
      "\n",
      "=============================================================================================================================\n",
      "=============================================================================================================================\n",
      "\n"
     ]
    },
    {
     "name": "stderr",
     "output_type": "stream",
     "text": [
      "[Succeeded / Failed / Skipped / Total] 204 / 5 / 56 / 265:  53%|███████████▏         | 265/500 [12:38<11:12,  2.86s/it]textattack: Saving checkpoint under \"checkpoints\\1720175718730.ta.chkpt\" at 2024-07-05 18:35:18 after 265 attacks.\n"
     ]
    },
    {
     "name": "stdout",
     "output_type": "stream",
     "text": [
      "\n",
      "\n",
      "=============================================================================================================================\n",
      "=============================================================================================================================\n",
      "\n"
     ]
    },
    {
     "name": "stderr",
     "output_type": "stream",
     "text": [
      "[Succeeded / Failed / Skipped / Total] 207 / 5 / 58 / 270:  54%|███████████▎         | 270/500 [12:58<11:03,  2.89s/it]textattack: Saving checkpoint under \"checkpoints\\1720175739010.ta.chkpt\" at 2024-07-05 18:35:39 after 270 attacks.\n",
      "[Succeeded / Failed / Skipped / Total] 207 / 5 / 60 / 272:  54%|███████████▍         | 272/500 [12:59<10:53,  2.86s/it]"
     ]
    },
    {
     "name": "stdout",
     "output_type": "stream",
     "text": [
      "\n",
      "\n",
      "=============================================================================================================================\n",
      "=============================================================================================================================\n",
      "\n"
     ]
    },
    {
     "name": "stderr",
     "output_type": "stream",
     "text": [
      "[Succeeded / Failed / Skipped / Total] 209 / 5 / 61 / 275:  55%|███████████▌         | 275/500 [13:05<10:42,  2.86s/it]textattack: Saving checkpoint under \"checkpoints\\1720175745686.ta.chkpt\" at 2024-07-05 18:35:45 after 275 attacks.\n"
     ]
    },
    {
     "name": "stdout",
     "output_type": "stream",
     "text": [
      "\n",
      "\n",
      "=============================================================================================================================\n",
      "=============================================================================================================================\n",
      "\n"
     ]
    },
    {
     "name": "stderr",
     "output_type": "stream",
     "text": [
      "[Succeeded / Failed / Skipped / Total] 212 / 5 / 63 / 280:  56%|███████████▊         | 280/500 [13:13<10:23,  2.84s/it]textattack: Saving checkpoint under \"checkpoints\\1720175753852.ta.chkpt\" at 2024-07-05 18:35:53 after 280 attacks.\n"
     ]
    },
    {
     "name": "stdout",
     "output_type": "stream",
     "text": [
      "\n",
      "\n",
      "=============================================================================================================================\n",
      "=============================================================================================================================\n",
      "\n"
     ]
    },
    {
     "name": "stderr",
     "output_type": "stream",
     "text": [
      "[Succeeded / Failed / Skipped / Total] 215 / 5 / 65 / 285:  57%|███████████▉         | 285/500 [13:24<10:06,  2.82s/it]textattack: Saving checkpoint under \"checkpoints\\1720175764570.ta.chkpt\" at 2024-07-05 18:36:04 after 285 attacks.\n",
      "[Succeeded / Failed / Skipped / Total] 215 / 5 / 67 / 287:  57%|████████████         | 287/500 [13:24<09:57,  2.80s/it]"
     ]
    },
    {
     "name": "stdout",
     "output_type": "stream",
     "text": [
      "\n",
      "\n",
      "=============================================================================================================================\n",
      "=============================================================================================================================\n",
      "\n"
     ]
    },
    {
     "name": "stderr",
     "output_type": "stream",
     "text": [
      "[Succeeded / Failed / Skipped / Total] 217 / 5 / 68 / 290:  58%|████████████▏        | 290/500 [13:31<09:47,  2.80s/it]textattack: Saving checkpoint under \"checkpoints\\1720175771486.ta.chkpt\" at 2024-07-05 18:36:11 after 290 attacks.\n",
      "[Succeeded / Failed / Skipped / Total] 217 / 5 / 69 / 291:  58%|████████████▏        | 291/500 [13:31<09:42,  2.79s/it]"
     ]
    },
    {
     "name": "stdout",
     "output_type": "stream",
     "text": [
      "\n",
      "\n",
      "=============================================================================================================================\n",
      "=============================================================================================================================\n",
      "\n"
     ]
    },
    {
     "name": "stderr",
     "output_type": "stream",
     "text": [
      "[Succeeded / Failed / Skipped / Total] 219 / 5 / 71 / 295:  59%|████████████▍        | 295/500 [13:35<09:27,  2.77s/it]textattack: Saving checkpoint under \"checkpoints\\1720175775971.ta.chkpt\" at 2024-07-05 18:36:15 after 295 attacks.\n"
     ]
    },
    {
     "name": "stdout",
     "output_type": "stream",
     "text": [
      "\n",
      "\n",
      "=============================================================================================================================\n",
      "=============================================================================================================================\n",
      "\n"
     ]
    },
    {
     "name": "stderr",
     "output_type": "stream",
     "text": [
      "[Succeeded / Failed / Skipped / Total] 223 / 5 / 72 / 300:  60%|████████████▌        | 300/500 [13:49<09:12,  2.76s/it]textattack: Saving checkpoint under \"checkpoints\\1720175789192.ta.chkpt\" at 2024-07-05 18:36:29 after 300 attacks.\n"
     ]
    },
    {
     "name": "stdout",
     "output_type": "stream",
     "text": [
      "\n",
      "\n",
      "=============================================================================================================================\n",
      "=============================================================================================================================\n",
      "\n"
     ]
    },
    {
     "name": "stderr",
     "output_type": "stream",
     "text": [
      "[Succeeded / Failed / Skipped / Total] 227 / 5 / 73 / 305:  61%|████████████▊        | 305/500 [14:09<09:03,  2.79s/it]textattack: Saving checkpoint under \"checkpoints\\1720175809878.ta.chkpt\" at 2024-07-05 18:36:49 after 305 attacks.\n"
     ]
    },
    {
     "name": "stdout",
     "output_type": "stream",
     "text": [
      "\n",
      "\n",
      "=============================================================================================================================\n",
      "=============================================================================================================================\n",
      "\n"
     ]
    },
    {
     "name": "stderr",
     "output_type": "stream",
     "text": [
      "[Succeeded / Failed / Skipped / Total] 230 / 5 / 75 / 310:  62%|█████████████        | 310/500 [14:21<08:47,  2.78s/it]textattack: Saving checkpoint under \"checkpoints\\1720175821060.ta.chkpt\" at 2024-07-05 18:37:01 after 310 attacks.\n"
     ]
    },
    {
     "name": "stdout",
     "output_type": "stream",
     "text": [
      "\n",
      "\n",
      "=============================================================================================================================\n",
      "=============================================================================================================================\n",
      "\n"
     ]
    },
    {
     "name": "stderr",
     "output_type": "stream",
     "text": [
      "[Succeeded / Failed / Skipped / Total] 233 / 5 / 77 / 315:  63%|█████████████▏       | 315/500 [14:27<08:29,  2.75s/it]textattack: Saving checkpoint under \"checkpoints\\1720175827403.ta.chkpt\" at 2024-07-05 18:37:07 after 315 attacks.\n"
     ]
    },
    {
     "name": "stdout",
     "output_type": "stream",
     "text": [
      "\n",
      "\n",
      "=============================================================================================================================\n",
      "=============================================================================================================================\n",
      "\n"
     ]
    },
    {
     "name": "stderr",
     "output_type": "stream",
     "text": [
      "[Succeeded / Failed / Skipped / Total] 237 / 5 / 78 / 320:  64%|█████████████▍       | 320/500 [14:47<08:19,  2.77s/it]textattack: Saving checkpoint under \"checkpoints\\1720175847447.ta.chkpt\" at 2024-07-05 18:37:27 after 320 attacks.\n"
     ]
    },
    {
     "name": "stdout",
     "output_type": "stream",
     "text": [
      "\n",
      "\n",
      "=============================================================================================================================\n",
      "=============================================================================================================================\n",
      "\n"
     ]
    },
    {
     "name": "stderr",
     "output_type": "stream",
     "text": [
      "[Succeeded / Failed / Skipped / Total] 242 / 5 / 78 / 325:  65%|█████████████▋       | 325/500 [15:08<08:09,  2.80s/it]textattack: Saving checkpoint under \"checkpoints\\1720175868820.ta.chkpt\" at 2024-07-05 18:37:48 after 325 attacks.\n"
     ]
    },
    {
     "name": "stdout",
     "output_type": "stream",
     "text": [
      "\n",
      "\n",
      "=============================================================================================================================\n",
      "=============================================================================================================================\n",
      "\n"
     ]
    },
    {
     "name": "stderr",
     "output_type": "stream",
     "text": [
      "[Succeeded / Failed / Skipped / Total] 247 / 5 / 78 / 330:  66%|█████████████▊       | 330/500 [15:21<07:54,  2.79s/it]textattack: Saving checkpoint under \"checkpoints\\1720175881774.ta.chkpt\" at 2024-07-05 18:38:01 after 330 attacks.\n"
     ]
    },
    {
     "name": "stdout",
     "output_type": "stream",
     "text": [
      "\n",
      "\n",
      "=============================================================================================================================\n",
      "=============================================================================================================================\n",
      "\n"
     ]
    },
    {
     "name": "stderr",
     "output_type": "stream",
     "text": [
      "[Succeeded / Failed / Skipped / Total] 252 / 5 / 78 / 335:  67%|██████████████       | 335/500 [15:57<07:51,  2.86s/it]textattack: Saving checkpoint under \"checkpoints\\1720175917962.ta.chkpt\" at 2024-07-05 18:38:37 after 335 attacks.\n",
      "[Succeeded / Failed / Skipped / Total] 252 / 5 / 79 / 336:  67%|██████████████       | 336/500 [15:58<07:47,  2.85s/it]"
     ]
    },
    {
     "name": "stdout",
     "output_type": "stream",
     "text": [
      "\n",
      "\n",
      "=============================================================================================================================\n",
      "=============================================================================================================================\n",
      "\n"
     ]
    },
    {
     "name": "stderr",
     "output_type": "stream",
     "text": [
      "[Succeeded / Failed / Skipped / Total] 255 / 5 / 80 / 340:  68%|██████████████▎      | 340/500 [16:04<07:33,  2.84s/it]textattack: Saving checkpoint under \"checkpoints\\1720175924387.ta.chkpt\" at 2024-07-05 18:38:44 after 340 attacks.\n"
     ]
    },
    {
     "name": "stdout",
     "output_type": "stream",
     "text": [
      "\n",
      "\n",
      "=============================================================================================================================\n",
      "=============================================================================================================================\n",
      "\n"
     ]
    },
    {
     "name": "stderr",
     "output_type": "stream",
     "text": [
      "[Succeeded / Failed / Skipped / Total] 260 / 5 / 80 / 345:  69%|██████████████▍      | 345/500 [16:15<07:18,  2.83s/it]textattack: Saving checkpoint under \"checkpoints\\1720175935710.ta.chkpt\" at 2024-07-05 18:38:55 after 345 attacks.\n"
     ]
    },
    {
     "name": "stdout",
     "output_type": "stream",
     "text": [
      "\n",
      "\n",
      "=============================================================================================================================\n",
      "=============================================================================================================================\n",
      "\n"
     ]
    },
    {
     "name": "stderr",
     "output_type": "stream",
     "text": [
      "[Succeeded / Failed / Skipped / Total] 264 / 5 / 81 / 350:  70%|██████████████▋      | 350/500 [16:32<07:05,  2.84s/it]textattack: Saving checkpoint under \"checkpoints\\1720175952350.ta.chkpt\" at 2024-07-05 18:39:12 after 350 attacks.\n"
     ]
    },
    {
     "name": "stdout",
     "output_type": "stream",
     "text": [
      "\n",
      "\n",
      "=============================================================================================================================\n",
      "=============================================================================================================================\n",
      "\n"
     ]
    },
    {
     "name": "stderr",
     "output_type": "stream",
     "text": [
      "[Succeeded / Failed / Skipped / Total] 268 / 6 / 81 / 355:  71%|██████████████▉      | 355/500 [16:59<06:56,  2.87s/it]textattack: Saving checkpoint under \"checkpoints\\1720175979427.ta.chkpt\" at 2024-07-05 18:39:39 after 355 attacks.\n"
     ]
    },
    {
     "name": "stdout",
     "output_type": "stream",
     "text": [
      "\n",
      "\n",
      "=============================================================================================================================\n",
      "=============================================================================================================================\n",
      "\n"
     ]
    },
    {
     "name": "stderr",
     "output_type": "stream",
     "text": [
      "[Succeeded / Failed / Skipped / Total] 272 / 6 / 82 / 360:  72%|███████████████      | 360/500 [17:12<06:41,  2.87s/it]textattack: Saving checkpoint under \"checkpoints\\1720175992096.ta.chkpt\" at 2024-07-05 18:39:52 after 360 attacks.\n"
     ]
    },
    {
     "name": "stdout",
     "output_type": "stream",
     "text": [
      "\n",
      "\n",
      "=============================================================================================================================\n",
      "=============================================================================================================================\n",
      "\n"
     ]
    },
    {
     "name": "stderr",
     "output_type": "stream",
     "text": [
      "[Succeeded / Failed / Skipped / Total] 277 / 6 / 82 / 365:  73%|███████████████▎     | 365/500 [17:22<06:25,  2.86s/it]textattack: Saving checkpoint under \"checkpoints\\1720176002920.ta.chkpt\" at 2024-07-05 18:40:02 after 365 attacks.\n",
      "[Succeeded / Failed / Skipped / Total] 277 / 6 / 83 / 366:  73%|███████████████▎     | 366/500 [17:22<06:21,  2.85s/it]"
     ]
    },
    {
     "name": "stdout",
     "output_type": "stream",
     "text": [
      "\n",
      "\n",
      "=============================================================================================================================\n",
      "=============================================================================================================================\n",
      "\n"
     ]
    },
    {
     "name": "stderr",
     "output_type": "stream",
     "text": [
      "[Succeeded / Failed / Skipped / Total] 281 / 6 / 83 / 370:  74%|███████████████▌     | 370/500 [17:30<06:08,  2.84s/it]textattack: Saving checkpoint under \"checkpoints\\1720176010097.ta.chkpt\" at 2024-07-05 18:40:10 after 370 attacks.\n"
     ]
    },
    {
     "name": "stdout",
     "output_type": "stream",
     "text": [
      "\n",
      "\n",
      "=============================================================================================================================\n",
      "=============================================================================================================================\n",
      "\n"
     ]
    },
    {
     "name": "stderr",
     "output_type": "stream",
     "text": [
      "[Succeeded / Failed / Skipped / Total] 286 / 6 / 83 / 375:  75%|███████████████▊     | 375/500 [17:50<05:56,  2.86s/it]textattack: Saving checkpoint under \"checkpoints\\1720176030756.ta.chkpt\" at 2024-07-05 18:40:30 after 375 attacks.\n"
     ]
    },
    {
     "name": "stdout",
     "output_type": "stream",
     "text": [
      "\n",
      "\n",
      "=============================================================================================================================\n",
      "=============================================================================================================================\n",
      "\n"
     ]
    },
    {
     "name": "stderr",
     "output_type": "stream",
     "text": [
      "[Succeeded / Failed / Skipped / Total] 290 / 6 / 84 / 380:  76%|███████████████▉     | 380/500 [17:59<05:40,  2.84s/it]textattack: Saving checkpoint under \"checkpoints\\1720176039545.ta.chkpt\" at 2024-07-05 18:40:39 after 380 attacks.\n"
     ]
    },
    {
     "name": "stdout",
     "output_type": "stream",
     "text": [
      "\n",
      "\n",
      "=============================================================================================================================\n",
      "=============================================================================================================================\n",
      "\n"
     ]
    },
    {
     "name": "stderr",
     "output_type": "stream",
     "text": [
      "[Succeeded / Failed / Skipped / Total] 295 / 6 / 84 / 385:  77%|████████████████▏    | 385/500 [18:12<05:26,  2.84s/it]textattack: Saving checkpoint under \"checkpoints\\1720176052433.ta.chkpt\" at 2024-07-05 18:40:52 after 385 attacks.\n"
     ]
    },
    {
     "name": "stdout",
     "output_type": "stream",
     "text": [
      "\n",
      "\n",
      "=============================================================================================================================\n",
      "=============================================================================================================================\n",
      "\n"
     ]
    },
    {
     "name": "stderr",
     "output_type": "stream",
     "text": [
      "[Succeeded / Failed / Skipped / Total] 299 / 6 / 85 / 390:  78%|████████████████▍    | 390/500 [18:20<05:10,  2.82s/it]textattack: Saving checkpoint under \"checkpoints\\1720176060245.ta.chkpt\" at 2024-07-05 18:41:00 after 390 attacks.\n"
     ]
    },
    {
     "name": "stdout",
     "output_type": "stream",
     "text": [
      "\n",
      "\n",
      "=============================================================================================================================\n",
      "=============================================================================================================================\n",
      "\n"
     ]
    },
    {
     "name": "stderr",
     "output_type": "stream",
     "text": [
      "[Succeeded / Failed / Skipped / Total] 304 / 6 / 85 / 395:  79%|████████████████▌    | 395/500 [18:37<04:57,  2.83s/it]textattack: Saving checkpoint under \"checkpoints\\1720176077787.ta.chkpt\" at 2024-07-05 18:41:17 after 395 attacks.\n"
     ]
    },
    {
     "name": "stdout",
     "output_type": "stream",
     "text": [
      "\n",
      "\n",
      "=============================================================================================================================\n",
      "=============================================================================================================================\n",
      "\n"
     ]
    },
    {
     "name": "stderr",
     "output_type": "stream",
     "text": [
      "[Succeeded / Failed / Skipped / Total] 309 / 6 / 85 / 400:  80%|████████████████▊    | 400/500 [18:55<04:43,  2.84s/it]textattack: Saving checkpoint under \"checkpoints\\1720176095524.ta.chkpt\" at 2024-07-05 18:41:35 after 400 attacks.\n"
     ]
    },
    {
     "name": "stdout",
     "output_type": "stream",
     "text": [
      "\n",
      "\n",
      "=============================================================================================================================\n",
      "=============================================================================================================================\n",
      "\n"
     ]
    },
    {
     "name": "stderr",
     "output_type": "stream",
     "text": [
      "[Succeeded / Failed / Skipped / Total] 313 / 6 / 86 / 405:  81%|█████████████████    | 405/500 [19:11<04:30,  2.84s/it]textattack: Saving checkpoint under \"checkpoints\\1720176111320.ta.chkpt\" at 2024-07-05 18:41:51 after 405 attacks.\n"
     ]
    },
    {
     "name": "stdout",
     "output_type": "stream",
     "text": [
      "\n",
      "\n",
      "=============================================================================================================================\n",
      "=============================================================================================================================\n",
      "\n"
     ]
    },
    {
     "name": "stderr",
     "output_type": "stream",
     "text": [
      "[Succeeded / Failed / Skipped / Total] 318 / 6 / 86 / 410:  82%|█████████████████▏   | 410/500 [19:16<04:13,  2.82s/it]textattack: Saving checkpoint under \"checkpoints\\1720176116994.ta.chkpt\" at 2024-07-05 18:41:56 after 410 attacks.\n"
     ]
    },
    {
     "name": "stdout",
     "output_type": "stream",
     "text": [
      "\n",
      "\n",
      "=============================================================================================================================\n",
      "=============================================================================================================================\n",
      "\n"
     ]
    },
    {
     "name": "stderr",
     "output_type": "stream",
     "text": [
      "[Succeeded / Failed / Skipped / Total] 320 / 6 / 89 / 415:  83%|█████████████████▍   | 415/500 [19:18<03:57,  2.79s/it]textattack: Saving checkpoint under \"checkpoints\\1720176118622.ta.chkpt\" at 2024-07-05 18:41:58 after 415 attacks.\n"
     ]
    },
    {
     "name": "stdout",
     "output_type": "stream",
     "text": [
      "\n",
      "\n",
      "=============================================================================================================================\n",
      "=============================================================================================================================\n",
      "\n"
     ]
    },
    {
     "name": "stderr",
     "output_type": "stream",
     "text": [
      "[Succeeded / Failed / Skipped / Total] 324 / 7 / 89 / 420:  84%|█████████████████▋   | 420/500 [19:35<03:43,  2.80s/it]textattack: Saving checkpoint under \"checkpoints\\1720176135766.ta.chkpt\" at 2024-07-05 18:42:15 after 420 attacks.\n"
     ]
    },
    {
     "name": "stdout",
     "output_type": "stream",
     "text": [
      "\n",
      "\n",
      "=============================================================================================================================\n",
      "=============================================================================================================================\n",
      "\n"
     ]
    },
    {
     "name": "stderr",
     "output_type": "stream",
     "text": [
      "[Succeeded / Failed / Skipped / Total] 329 / 7 / 89 / 425:  85%|█████████████████▊   | 425/500 [19:45<03:29,  2.79s/it]textattack: Saving checkpoint under \"checkpoints\\1720176145477.ta.chkpt\" at 2024-07-05 18:42:25 after 425 attacks.\n"
     ]
    },
    {
     "name": "stdout",
     "output_type": "stream",
     "text": [
      "\n",
      "\n",
      "=============================================================================================================================\n",
      "=============================================================================================================================\n",
      "\n"
     ]
    },
    {
     "name": "stderr",
     "output_type": "stream",
     "text": [
      "[Succeeded / Failed / Skipped / Total] 334 / 7 / 89 / 430:  86%|██████████████████   | 430/500 [19:56<03:14,  2.78s/it]textattack: Saving checkpoint under \"checkpoints\\1720176156942.ta.chkpt\" at 2024-07-05 18:42:36 after 430 attacks.\n",
      "[Succeeded / Failed / Skipped / Total] 334 / 7 / 90 / 431:  86%|██████████████████   | 431/500 [19:57<03:11,  2.78s/it]"
     ]
    },
    {
     "name": "stdout",
     "output_type": "stream",
     "text": [
      "\n",
      "\n",
      "=============================================================================================================================\n",
      "=============================================================================================================================\n",
      "\n"
     ]
    },
    {
     "name": "stderr",
     "output_type": "stream",
     "text": [
      "[Succeeded / Failed / Skipped / Total] 337 / 7 / 91 / 435:  87%|██████████████████▎  | 435/500 [20:05<03:00,  2.77s/it]textattack: Saving checkpoint under \"checkpoints\\1720176165732.ta.chkpt\" at 2024-07-05 18:42:45 after 435 attacks.\n"
     ]
    },
    {
     "name": "stdout",
     "output_type": "stream",
     "text": [
      "\n",
      "\n",
      "=============================================================================================================================\n",
      "=============================================================================================================================\n",
      "\n"
     ]
    },
    {
     "name": "stderr",
     "output_type": "stream",
     "text": [
      "[Succeeded / Failed / Skipped / Total] 342 / 7 / 91 / 440:  88%|██████████████████▍  | 440/500 [20:24<02:47,  2.78s/it]textattack: Saving checkpoint under \"checkpoints\\1720176184829.ta.chkpt\" at 2024-07-05 18:43:04 after 440 attacks.\n"
     ]
    },
    {
     "name": "stdout",
     "output_type": "stream",
     "text": [
      "\n",
      "\n",
      "=============================================================================================================================\n",
      "=============================================================================================================================\n",
      "\n"
     ]
    },
    {
     "name": "stderr",
     "output_type": "stream",
     "text": [
      "[Succeeded / Failed / Skipped / Total] 347 / 7 / 91 / 445:  89%|██████████████████▋  | 445/500 [20:38<02:33,  2.78s/it]textattack: Saving checkpoint under \"checkpoints\\1720176198520.ta.chkpt\" at 2024-07-05 18:43:18 after 445 attacks.\n"
     ]
    },
    {
     "name": "stdout",
     "output_type": "stream",
     "text": [
      "\n",
      "\n",
      "=============================================================================================================================\n",
      "=============================================================================================================================\n",
      "\n"
     ]
    },
    {
     "name": "stderr",
     "output_type": "stream",
     "text": [
      "[Succeeded / Failed / Skipped / Total] 350 / 7 / 93 / 450:  90%|██████████████████▉  | 450/500 [20:55<02:19,  2.79s/it]textattack: Saving checkpoint under \"checkpoints\\1720176215219.ta.chkpt\" at 2024-07-05 18:43:35 after 450 attacks.\n"
     ]
    },
    {
     "name": "stdout",
     "output_type": "stream",
     "text": [
      "\n",
      "\n",
      "=============================================================================================================================\n",
      "=============================================================================================================================\n",
      "\n"
     ]
    },
    {
     "name": "stderr",
     "output_type": "stream",
     "text": [
      "[Succeeded / Failed / Skipped / Total] 354 / 7 / 94 / 455:  91%|███████████████████  | 455/500 [21:15<02:06,  2.80s/it]textattack: Saving checkpoint under \"checkpoints\\1720176235735.ta.chkpt\" at 2024-07-05 18:43:55 after 455 attacks.\n"
     ]
    },
    {
     "name": "stdout",
     "output_type": "stream",
     "text": [
      "\n",
      "\n",
      "=============================================================================================================================\n",
      "=============================================================================================================================\n",
      "\n"
     ]
    },
    {
     "name": "stderr",
     "output_type": "stream",
     "text": [
      "[Succeeded / Failed / Skipped / Total] 359 / 7 / 94 / 460:  92%|███████████████████▎ | 460/500 [21:35<01:52,  2.82s/it]textattack: Saving checkpoint under \"checkpoints\\1720176255832.ta.chkpt\" at 2024-07-05 18:44:15 after 460 attacks.\n"
     ]
    },
    {
     "name": "stdout",
     "output_type": "stream",
     "text": [
      "\n",
      "\n",
      "=============================================================================================================================\n",
      "=============================================================================================================================\n",
      "\n"
     ]
    },
    {
     "name": "stderr",
     "output_type": "stream",
     "text": [
      "[Succeeded / Failed / Skipped / Total] 363 / 7 / 95 / 465:  93%|███████████████████▌ | 465/500 [21:49<01:38,  2.82s/it]textattack: Saving checkpoint under \"checkpoints\\1720176269896.ta.chkpt\" at 2024-07-05 18:44:29 after 465 attacks.\n"
     ]
    },
    {
     "name": "stdout",
     "output_type": "stream",
     "text": [
      "\n",
      "\n",
      "=============================================================================================================================\n",
      "=============================================================================================================================\n",
      "\n"
     ]
    },
    {
     "name": "stderr",
     "output_type": "stream",
     "text": [
      "[Succeeded / Failed / Skipped / Total] 367 / 7 / 96 / 470:  94%|███████████████████▋ | 470/500 [21:58<01:24,  2.80s/it]textattack: Saving checkpoint under \"checkpoints\\1720176278173.ta.chkpt\" at 2024-07-05 18:44:38 after 470 attacks.\n"
     ]
    },
    {
     "name": "stdout",
     "output_type": "stream",
     "text": [
      "\n",
      "\n",
      "=============================================================================================================================\n",
      "=============================================================================================================================\n",
      "\n"
     ]
    },
    {
     "name": "stderr",
     "output_type": "stream",
     "text": [
      "[Succeeded / Failed / Skipped / Total] 372 / 7 / 96 / 475:  95%|███████████████████▉ | 475/500 [22:23<01:10,  2.83s/it]textattack: Saving checkpoint under \"checkpoints\\1720176303878.ta.chkpt\" at 2024-07-05 18:45:03 after 475 attacks.\n"
     ]
    },
    {
     "name": "stdout",
     "output_type": "stream",
     "text": [
      "\n",
      "\n",
      "=============================================================================================================================\n",
      "=============================================================================================================================\n",
      "\n"
     ]
    },
    {
     "name": "stderr",
     "output_type": "stream",
     "text": [
      "[Succeeded / Failed / Skipped / Total] 377 / 7 / 96 / 480:  96%|████████████████████▏| 480/500 [22:39<00:56,  2.83s/it]textattack: Saving checkpoint under \"checkpoints\\1720176319522.ta.chkpt\" at 2024-07-05 18:45:19 after 480 attacks.\n"
     ]
    },
    {
     "name": "stdout",
     "output_type": "stream",
     "text": [
      "\n",
      "\n",
      "=============================================================================================================================\n",
      "=============================================================================================================================\n",
      "\n"
     ]
    },
    {
     "name": "stderr",
     "output_type": "stream",
     "text": [
      "[Succeeded / Failed / Skipped / Total] 381 / 7 / 97 / 485:  97%|████████████████████▎| 485/500 [22:47<00:42,  2.82s/it]textattack: Saving checkpoint under \"checkpoints\\1720176327608.ta.chkpt\" at 2024-07-05 18:45:27 after 485 attacks.\n"
     ]
    },
    {
     "name": "stdout",
     "output_type": "stream",
     "text": [
      "\n",
      "\n",
      "=============================================================================================================================\n",
      "=============================================================================================================================\n",
      "\n"
     ]
    },
    {
     "name": "stderr",
     "output_type": "stream",
     "text": [
      "[Succeeded / Failed / Skipped / Total] 385 / 7 / 98 / 490:  98%|████████████████████▌| 490/500 [22:59<00:28,  2.81s/it]textattack: Saving checkpoint under \"checkpoints\\1720176339349.ta.chkpt\" at 2024-07-05 18:45:39 after 490 attacks.\n"
     ]
    },
    {
     "name": "stdout",
     "output_type": "stream",
     "text": [
      "\n",
      "\n",
      "=============================================================================================================================\n",
      "=============================================================================================================================\n",
      "\n"
     ]
    },
    {
     "name": "stderr",
     "output_type": "stream",
     "text": [
      "[Succeeded / Failed / Skipped / Total] 390 / 7 / 98 / 495:  99%|████████████████████▊| 495/500 [23:10<00:14,  2.81s/it]textattack: Saving checkpoint under \"checkpoints\\1720176350958.ta.chkpt\" at 2024-07-05 18:45:50 after 495 attacks.\n"
     ]
    },
    {
     "name": "stdout",
     "output_type": "stream",
     "text": [
      "\n",
      "\n",
      "=============================================================================================================================\n",
      "=============================================================================================================================\n",
      "\n"
     ]
    },
    {
     "name": "stderr",
     "output_type": "stream",
     "text": [
      "[Succeeded / Failed / Skipped / Total] 395 / 7 / 98 / 500: 100%|█████████████████████| 500/500 [23:24<00:00,  2.81s/it]textattack: Saving checkpoint under \"checkpoints\\1720176364711.ta.chkpt\" at 2024-07-05 18:46:04 after 500 attacks.\n",
      "[Succeeded / Failed / Skipped / Total] 395 / 7 / 98 / 500: 100%|█████████████████████| 500/500 [23:24<00:00,  2.81s/it]"
     ]
    },
    {
     "name": "stdout",
     "output_type": "stream",
     "text": [
      "\n",
      "\n",
      "=============================================================================================================================\n",
      "=============================================================================================================================\n",
      "\n",
      "\n",
      "+-------------------------------+--------+\n",
      "| Attack Results                |        |\n",
      "+-------------------------------+--------+\n",
      "| Number of successful attacks: | 395    |\n",
      "| Number of failed attacks:     | 7      |\n",
      "| Number of skipped attacks:    | 98     |\n",
      "| Original accuracy:            | 80.4%  |\n",
      "| Accuracy under attack:        | 1.4%   |\n",
      "| Attack success rate:          | 98.26% |\n",
      "| Average perturbed word %:     | 15.08% |\n",
      "| Average num. words per input: | 18.4   |\n",
      "| Avg num queries:              | 77.55  |\n",
      "+-------------------------------+--------+\n"
     ]
    },
    {
     "name": "stderr",
     "output_type": "stream",
     "text": [
      "\n"
     ]
    }
   ],
   "source": [
    "runAttack(bert_model_wrapper_svc_mr, n_samples, 'attack_results_new/bertmrattacksvc'+suffix, target_ds_mr)"
   ]
  },
  {
   "cell_type": "markdown",
   "id": "dd63a478-d62b-479e-8008-00fbd17c8c18",
   "metadata": {},
   "source": [
    "### DistilBERT-based-uncased"
   ]
  },
  {
   "cell_type": "code",
   "execution_count": 16,
   "id": "9f085186-e2aa-44a6-8089-92317f282f52",
   "metadata": {},
   "outputs": [
    {
     "name": "stderr",
     "output_type": "stream",
     "text": [
      "D:\\anaconda3\\envs\\tf\\lib\\site-packages\\huggingface_hub\\file_download.py:1132: FutureWarning: `resume_download` is deprecated and will be removed in version 1.0.0. Downloads always resume when possible. If you want to force a new download, use `force_download=True`.\n",
      "  warnings.warn(\n"
     ]
    }
   ],
   "source": [
    "# bert-based-uncased\n",
    "model_path2 = 'distilbert/distilbert-base-uncased'\n",
    "\n",
    "disbert_model = transformers.AutoModel.from_pretrained(model_path2)\n",
    "disbert_tokenizer = transformers.AutoTokenizer.from_pretrained(model_path2)"
   ]
  },
  {
   "cell_type": "code",
   "execution_count": 17,
   "id": "941f4005-1125-4a4a-999b-9f4244f18a09",
   "metadata": {},
   "outputs": [
    {
     "name": "stderr",
     "output_type": "stream",
     "text": [
      "D:\\anaconda3\\envs\\tf\\lib\\site-packages\\sklearn\\linear_model\\_sag.py:350: ConvergenceWarning: The max_iter was reached which means the coef_ did not converge\n",
      "  warnings.warn(\n"
     ]
    },
    {
     "name": "stdout",
     "output_type": "stream",
     "text": [
      "Log Reg 0.7945590994371482\n",
      "RF 0.7682926829268293\n",
      "KNN 0.7298311444652908\n",
      "SVC 0.7851782363977486\n"
     ]
    }
   ],
   "source": [
    "disbertmrtrain = pd.read_csv('dataset_embeddings/disbertmrtrain.txt', header=None)\n",
    "disbertmrtest = pd.read_csv('dataset_embeddings/disbertmrtest.txt', header=None)\n",
    "lr_disbert_mr, rf_disbert_mr, knn_disbert_mr, svc_disbert_mr = adaptation(disbertmrtrain, disbertmrtest)"
   ]
  },
  {
   "cell_type": "code",
   "execution_count": 18,
   "id": "9e4d537c-15d6-4688-b676-9c389ce365ce",
   "metadata": {},
   "outputs": [],
   "source": [
    "# custom model wrapper for DistilBERT\n",
    "class DisBERTModelWrapper(HuggingFaceModelWrapper):\n",
    "    def __init__(self, processor, text_encoder, classifier):\n",
    "        self.processor = processor\n",
    "        self.model = text_encoder\n",
    "        self.classifier = classifier\n",
    "\n",
    "    def __call__(self, text_input_list):\n",
    "        inputs = self.processor(text_input_list, return_tensors='pt', padding=True, truncation=True)\n",
    "        outputs = self.model(**inputs).last_hidden_state.mean(axis=1)\n",
    "        with torch.no_grad():\n",
    "            preds = self.classifier.predict_proba(outputs)\n",
    "        return preds"
   ]
  },
  {
   "cell_type": "code",
   "execution_count": 19,
   "id": "564916f2-cf94-432e-81bf-e01b39cf9fc5",
   "metadata": {},
   "outputs": [],
   "source": [
    "disbert_model_wrapper_lr_mr = DisBERTModelWrapper(disbert_tokenizer, disbert_model, lr_disbert_mr)\n",
    "disbert_model_wrapper_rf_mr = DisBERTModelWrapper(disbert_tokenizer, disbert_model, rf_disbert_mr)\n",
    "disbert_model_wrapper_knn_mr = DisBERTModelWrapper(disbert_tokenizer, disbert_model, knn_disbert_mr)\n",
    "disbert_model_wrapper_svc_mr = DisBERTModelWrapper(disbert_tokenizer, disbert_model, svc_disbert_mr)"
   ]
  },
  {
   "cell_type": "code",
   "execution_count": 20,
   "id": "32e80b72-91e4-4eee-b512-eacd6496b617",
   "metadata": {},
   "outputs": [
    {
     "name": "stderr",
     "output_type": "stream",
     "text": [
      "textattack: Unknown if model of class <class 'transformers.models.distilbert.modeling_distilbert.DistilBertModel'> compatible with goal function <class 'textattack.goal_functions.classification.untargeted_classification.UntargetedClassification'>.\n",
      "textattack: Logging to CSV at path attack_results_new/disbertmrattacklrsim05.csv\n"
     ]
    },
    {
     "name": "stdout",
     "output_type": "stream",
     "text": [
      "Attack(\n",
      "  (search_method): GreedyWordSwapWIR(\n",
      "    (wir_method):  delete\n",
      "  )\n",
      "  (goal_function):  UntargetedClassification\n",
      "  (transformation):  WordSwapEmbedding(\n",
      "    (max_candidates):  50\n",
      "    (embedding):  WordEmbedding\n",
      "  )\n",
      "  (constraints): \n",
      "    (0): WordEmbeddingDistance(\n",
      "        (embedding):  WordEmbedding\n",
      "        (min_cos_sim):  0.5\n",
      "        (cased):  False\n",
      "        (include_unknown_words):  True\n",
      "        (compare_against_original):  True\n",
      "      )\n",
      "    (1): PartOfSpeech(\n",
      "        (tagger_type):  nltk\n",
      "        (tagset):  universal\n",
      "        (allow_verb_noun_swap):  True\n",
      "        (compare_against_original):  True\n",
      "      )\n",
      "    (2): UniversalSentenceEncoder(\n",
      "        (metric):  angular\n",
      "        (threshold):  0.840845057\n",
      "        (window_size):  15\n",
      "        (skip_text_shorter_than_window):  True\n",
      "        (compare_against_original):  False\n",
      "      )\n",
      "    (3): RepeatModification\n",
      "    (4): StopwordModification\n",
      "    (5): InputColumnModification(\n",
      "        (matching_column_labels):  ['premise', 'hypothesis']\n",
      "        (columns_to_ignore):  {'premise'}\n",
      "      )\n",
      "  (is_black_box):  True\n",
      ") \n",
      "\n"
     ]
    },
    {
     "name": "stderr",
     "output_type": "stream",
     "text": [
      "[Succeeded / Failed / Skipped / Total] 4 / 0 / 1 / 5:   1%|▎                           | 5/500 [00:23<39:06,  4.74s/it]textattack: Saving checkpoint under \"checkpoints\\1720176557092.ta.chkpt\" at 2024-07-05 18:49:17 after 5 attacks.\n",
      "[Succeeded / Failed / Skipped / Total] 4 / 0 / 3 / 7:   1%|▍                           | 7/500 [00:23<27:56,  3.40s/it]"
     ]
    },
    {
     "name": "stdout",
     "output_type": "stream",
     "text": [
      "\n",
      "\n",
      "=============================================================================================================================\n",
      "=============================================================================================================================\n",
      "\n"
     ]
    },
    {
     "name": "stderr",
     "output_type": "stream",
     "text": [
      "[Succeeded / Failed / Skipped / Total] 7 / 0 / 3 / 10:   2%|▌                         | 10/500 [00:29<24:13,  2.97s/it]textattack: Saving checkpoint under \"checkpoints\\1720176563057.ta.chkpt\" at 2024-07-05 18:49:23 after 10 attacks.\n"
     ]
    },
    {
     "name": "stdout",
     "output_type": "stream",
     "text": [
      "\n",
      "\n",
      "=============================================================================================================================\n",
      "=============================================================================================================================\n",
      "\n"
     ]
    },
    {
     "name": "stderr",
     "output_type": "stream",
     "text": [
      "[Succeeded / Failed / Skipped / Total] 11 / 0 / 4 / 15:   3%|▊                        | 15/500 [00:44<24:13,  3.00s/it]textattack: Saving checkpoint under \"checkpoints\\1720176578349.ta.chkpt\" at 2024-07-05 18:49:38 after 15 attacks.\n"
     ]
    },
    {
     "name": "stdout",
     "output_type": "stream",
     "text": [
      "\n",
      "\n",
      "=============================================================================================================================\n",
      "=============================================================================================================================\n",
      "\n"
     ]
    },
    {
     "name": "stderr",
     "output_type": "stream",
     "text": [
      "[Succeeded / Failed / Skipped / Total] 14 / 1 / 5 / 20:   4%|█                        | 20/500 [00:52<20:50,  2.61s/it]textattack: Saving checkpoint under \"checkpoints\\1720176585491.ta.chkpt\" at 2024-07-05 18:49:45 after 20 attacks.\n"
     ]
    },
    {
     "name": "stdout",
     "output_type": "stream",
     "text": [
      "\n",
      "\n",
      "=============================================================================================================================\n",
      "=============================================================================================================================\n",
      "\n"
     ]
    },
    {
     "name": "stderr",
     "output_type": "stream",
     "text": [
      "[Succeeded / Failed / Skipped / Total] 18 / 1 / 6 / 25:   5%|█▎                       | 25/500 [00:55<17:29,  2.21s/it]textattack: Saving checkpoint under \"checkpoints\\1720176588647.ta.chkpt\" at 2024-07-05 18:49:48 after 25 attacks.\n"
     ]
    },
    {
     "name": "stdout",
     "output_type": "stream",
     "text": [
      "\n",
      "\n",
      "=============================================================================================================================\n",
      "=============================================================================================================================\n",
      "\n"
     ]
    },
    {
     "name": "stderr",
     "output_type": "stream",
     "text": [
      "[Succeeded / Failed / Skipped / Total] 21 / 1 / 8 / 30:   6%|█▌                       | 30/500 [00:59<15:36,  1.99s/it]textattack: Saving checkpoint under \"checkpoints\\1720176593194.ta.chkpt\" at 2024-07-05 18:49:53 after 30 attacks.\n"
     ]
    },
    {
     "name": "stdout",
     "output_type": "stream",
     "text": [
      "\n",
      "\n",
      "=============================================================================================================================\n",
      "=============================================================================================================================\n",
      "\n"
     ]
    },
    {
     "name": "stderr",
     "output_type": "stream",
     "text": [
      "[Succeeded / Failed / Skipped / Total] 24 / 1 / 10 / 35:   7%|█▋                      | 35/500 [01:03<14:04,  1.82s/it]textattack: Saving checkpoint under \"checkpoints\\1720176596987.ta.chkpt\" at 2024-07-05 18:49:56 after 35 attacks.\n"
     ]
    },
    {
     "name": "stdout",
     "output_type": "stream",
     "text": [
      "\n",
      "\n",
      "=============================================================================================================================\n",
      "=============================================================================================================================\n",
      "\n"
     ]
    },
    {
     "name": "stderr",
     "output_type": "stream",
     "text": [
      "[Succeeded / Failed / Skipped / Total] 28 / 1 / 11 / 40:   8%|█▉                      | 40/500 [01:07<12:52,  1.68s/it]textattack: Saving checkpoint under \"checkpoints\\1720176600531.ta.chkpt\" at 2024-07-05 18:50:00 after 40 attacks.\n"
     ]
    },
    {
     "name": "stdout",
     "output_type": "stream",
     "text": [
      "\n",
      "\n",
      "=============================================================================================================================\n",
      "=============================================================================================================================\n",
      "\n"
     ]
    },
    {
     "name": "stderr",
     "output_type": "stream",
     "text": [
      "[Succeeded / Failed / Skipped / Total] 33 / 1 / 11 / 45:   9%|██▏                     | 45/500 [01:17<13:06,  1.73s/it]textattack: Saving checkpoint under \"checkpoints\\1720176611202.ta.chkpt\" at 2024-07-05 18:50:11 after 45 attacks.\n"
     ]
    },
    {
     "name": "stdout",
     "output_type": "stream",
     "text": [
      "\n",
      "\n",
      "=============================================================================================================================\n",
      "=============================================================================================================================\n",
      "\n"
     ]
    },
    {
     "name": "stderr",
     "output_type": "stream",
     "text": [
      "[Succeeded / Failed / Skipped / Total] 38 / 1 / 11 / 50:  10%|██▍                     | 50/500 [01:31<13:46,  1.84s/it]textattack: Saving checkpoint under \"checkpoints\\1720176625272.ta.chkpt\" at 2024-07-05 18:50:25 after 50 attacks.\n"
     ]
    },
    {
     "name": "stdout",
     "output_type": "stream",
     "text": [
      "\n",
      "\n",
      "=============================================================================================================================\n",
      "=============================================================================================================================\n",
      "\n"
     ]
    },
    {
     "name": "stderr",
     "output_type": "stream",
     "text": [
      "[Succeeded / Failed / Skipped / Total] 43 / 1 / 11 / 55:  11%|██▋                     | 55/500 [01:41<13:44,  1.85s/it]textattack: Saving checkpoint under \"checkpoints\\1720176635353.ta.chkpt\" at 2024-07-05 18:50:35 after 55 attacks.\n"
     ]
    },
    {
     "name": "stdout",
     "output_type": "stream",
     "text": [
      "\n",
      "\n",
      "=============================================================================================================================\n",
      "=============================================================================================================================\n",
      "\n"
     ]
    },
    {
     "name": "stderr",
     "output_type": "stream",
     "text": [
      "[Succeeded / Failed / Skipped / Total] 46 / 1 / 13 / 60:  12%|██▉                     | 60/500 [01:46<13:03,  1.78s/it]textattack: Saving checkpoint under \"checkpoints\\1720176640285.ta.chkpt\" at 2024-07-05 18:50:40 after 60 attacks.\n",
      "[Succeeded / Failed / Skipped / Total] 46 / 1 / 15 / 62:  12%|██▉                     | 62/500 [01:46<12:35,  1.73s/it]"
     ]
    },
    {
     "name": "stdout",
     "output_type": "stream",
     "text": [
      "\n",
      "\n",
      "=============================================================================================================================\n",
      "=============================================================================================================================\n",
      "\n"
     ]
    },
    {
     "name": "stderr",
     "output_type": "stream",
     "text": [
      "[Succeeded / Failed / Skipped / Total] 49 / 1 / 15 / 65:  13%|███                     | 65/500 [01:50<12:19,  1.70s/it]textattack: Saving checkpoint under \"checkpoints\\1720176643869.ta.chkpt\" at 2024-07-05 18:50:43 after 65 attacks.\n"
     ]
    },
    {
     "name": "stdout",
     "output_type": "stream",
     "text": [
      "\n",
      "\n",
      "=============================================================================================================================\n",
      "=============================================================================================================================\n",
      "\n"
     ]
    },
    {
     "name": "stderr",
     "output_type": "stream",
     "text": [
      "[Succeeded / Failed / Skipped / Total] 53 / 1 / 16 / 70:  14%|███▎                    | 70/500 [01:57<12:04,  1.69s/it]textattack: Saving checkpoint under \"checkpoints\\1720176651374.ta.chkpt\" at 2024-07-05 18:50:51 after 70 attacks.\n"
     ]
    },
    {
     "name": "stdout",
     "output_type": "stream",
     "text": [
      "\n",
      "\n",
      "=============================================================================================================================\n",
      "=============================================================================================================================\n",
      "\n"
     ]
    },
    {
     "name": "stderr",
     "output_type": "stream",
     "text": [
      "[Succeeded / Failed / Skipped / Total] 57 / 1 / 17 / 75:  15%|███▌                    | 75/500 [02:02<11:31,  1.63s/it]textattack: Saving checkpoint under \"checkpoints\\1720176655456.ta.chkpt\" at 2024-07-05 18:50:55 after 75 attacks.\n"
     ]
    },
    {
     "name": "stdout",
     "output_type": "stream",
     "text": [
      "\n",
      "\n",
      "=============================================================================================================================\n",
      "=============================================================================================================================\n",
      "\n"
     ]
    },
    {
     "name": "stderr",
     "output_type": "stream",
     "text": [
      "[Succeeded / Failed / Skipped / Total] 62 / 1 / 17 / 80:  16%|███▊                    | 80/500 [02:09<11:21,  1.62s/it]textattack: Saving checkpoint under \"checkpoints\\1720176663277.ta.chkpt\" at 2024-07-05 18:51:03 after 80 attacks.\n",
      "[Succeeded / Failed / Skipped / Total] 62 / 1 / 19 / 82:  16%|███▉                    | 82/500 [02:09<11:02,  1.59s/it]"
     ]
    },
    {
     "name": "stdout",
     "output_type": "stream",
     "text": [
      "\n",
      "\n",
      "=============================================================================================================================\n",
      "=============================================================================================================================\n",
      "\n"
     ]
    },
    {
     "name": "stderr",
     "output_type": "stream",
     "text": [
      "[Succeeded / Failed / Skipped / Total] 64 / 1 / 20 / 85:  17%|████                    | 85/500 [02:12<10:47,  1.56s/it]textattack: Saving checkpoint under \"checkpoints\\1720176665966.ta.chkpt\" at 2024-07-05 18:51:05 after 85 attacks.\n"
     ]
    },
    {
     "name": "stdout",
     "output_type": "stream",
     "text": [
      "\n",
      "\n",
      "=============================================================================================================================\n",
      "=============================================================================================================================\n",
      "\n"
     ]
    },
    {
     "name": "stderr",
     "output_type": "stream",
     "text": [
      "[Succeeded / Failed / Skipped / Total] 69 / 1 / 20 / 90:  18%|████▎                   | 90/500 [02:20<10:38,  1.56s/it]textattack: Saving checkpoint under \"checkpoints\\1720176673478.ta.chkpt\" at 2024-07-05 18:51:13 after 90 attacks.\n"
     ]
    },
    {
     "name": "stdout",
     "output_type": "stream",
     "text": [
      "\n",
      "\n",
      "=============================================================================================================================\n",
      "=============================================================================================================================\n",
      "\n"
     ]
    },
    {
     "name": "stderr",
     "output_type": "stream",
     "text": [
      "[Succeeded / Failed / Skipped / Total] 72 / 1 / 22 / 95:  19%|████▌                   | 95/500 [02:26<10:26,  1.55s/it]textattack: Saving checkpoint under \"checkpoints\\1720176680249.ta.chkpt\" at 2024-07-05 18:51:20 after 95 attacks.\n"
     ]
    },
    {
     "name": "stdout",
     "output_type": "stream",
     "text": [
      "\n",
      "\n",
      "=============================================================================================================================\n",
      "=============================================================================================================================\n",
      "\n"
     ]
    },
    {
     "name": "stderr",
     "output_type": "stream",
     "text": [
      "[Succeeded / Failed / Skipped / Total] 77 / 1 / 22 / 100:  20%|████▍                 | 100/500 [02:33<10:12,  1.53s/it]textattack: Saving checkpoint under \"checkpoints\\1720176686592.ta.chkpt\" at 2024-07-05 18:51:26 after 100 attacks.\n"
     ]
    },
    {
     "name": "stdout",
     "output_type": "stream",
     "text": [
      "\n",
      "\n",
      "=============================================================================================================================\n",
      "=============================================================================================================================\n",
      "\n"
     ]
    },
    {
     "name": "stderr",
     "output_type": "stream",
     "text": [
      "[Succeeded / Failed / Skipped / Total] 81 / 1 / 23 / 105:  21%|████▌                 | 105/500 [02:48<10:34,  1.61s/it]textattack: Saving checkpoint under \"checkpoints\\1720176701983.ta.chkpt\" at 2024-07-05 18:51:41 after 105 attacks.\n",
      "[Succeeded / Failed / Skipped / Total] 81 / 1 / 24 / 106:  21%|████▋                 | 106/500 [02:48<10:26,  1.59s/it]"
     ]
    },
    {
     "name": "stdout",
     "output_type": "stream",
     "text": [
      "\n",
      "\n",
      "=============================================================================================================================\n",
      "=============================================================================================================================\n",
      "\n"
     ]
    },
    {
     "name": "stderr",
     "output_type": "stream",
     "text": [
      "[Succeeded / Failed / Skipped / Total] 83 / 1 / 26 / 110:  22%|████▊                 | 110/500 [02:50<10:05,  1.55s/it]textattack: Saving checkpoint under \"checkpoints\\1720176704209.ta.chkpt\" at 2024-07-05 18:51:44 after 110 attacks.\n",
      "[Succeeded / Failed / Skipped / Total] 83 / 1 / 27 / 111:  22%|████▉                 | 111/500 [02:50<09:58,  1.54s/it]"
     ]
    },
    {
     "name": "stdout",
     "output_type": "stream",
     "text": [
      "\n",
      "\n",
      "=============================================================================================================================\n",
      "=============================================================================================================================\n",
      "\n"
     ]
    },
    {
     "name": "stderr",
     "output_type": "stream",
     "text": [
      "[Succeeded / Failed / Skipped / Total] 86 / 1 / 28 / 115:  23%|█████                 | 115/500 [02:56<09:51,  1.54s/it]textattack: Saving checkpoint under \"checkpoints\\1720176710165.ta.chkpt\" at 2024-07-05 18:51:50 after 115 attacks.\n"
     ]
    },
    {
     "name": "stdout",
     "output_type": "stream",
     "text": [
      "\n",
      "\n",
      "=============================================================================================================================\n",
      "=============================================================================================================================\n",
      "\n"
     ]
    },
    {
     "name": "stderr",
     "output_type": "stream",
     "text": [
      "[Succeeded / Failed / Skipped / Total] 89 / 1 / 30 / 120:  24%|█████▎                | 120/500 [02:59<09:29,  1.50s/it]textattack: Saving checkpoint under \"checkpoints\\1720176713257.ta.chkpt\" at 2024-07-05 18:51:53 after 120 attacks.\n"
     ]
    },
    {
     "name": "stdout",
     "output_type": "stream",
     "text": [
      "\n",
      "\n",
      "=============================================================================================================================\n",
      "=============================================================================================================================\n",
      "\n"
     ]
    },
    {
     "name": "stderr",
     "output_type": "stream",
     "text": [
      "[Succeeded / Failed / Skipped / Total] 94 / 1 / 30 / 125:  25%|█████▌                | 125/500 [03:07<09:21,  1.50s/it]textattack: Saving checkpoint under \"checkpoints\\1720176720670.ta.chkpt\" at 2024-07-05 18:52:00 after 125 attacks.\n"
     ]
    },
    {
     "name": "stdout",
     "output_type": "stream",
     "text": [
      "\n",
      "\n",
      "=============================================================================================================================\n",
      "=============================================================================================================================\n",
      "\n"
     ]
    },
    {
     "name": "stderr",
     "output_type": "stream",
     "text": [
      "[Succeeded / Failed / Skipped / Total] 97 / 1 / 32 / 130:  26%|█████▋                | 130/500 [03:10<09:02,  1.47s/it]textattack: Saving checkpoint under \"checkpoints\\1720176723969.ta.chkpt\" at 2024-07-05 18:52:03 after 130 attacks.\n",
      "[Succeeded / Failed / Skipped / Total] 97 / 1 / 33 / 131:  26%|█████▊                | 131/500 [03:10<08:56,  1.46s/it]"
     ]
    },
    {
     "name": "stdout",
     "output_type": "stream",
     "text": [
      "\n",
      "\n",
      "=============================================================================================================================\n",
      "=============================================================================================================================\n",
      "\n"
     ]
    },
    {
     "name": "stderr",
     "output_type": "stream",
     "text": [
      "[Succeeded / Failed / Skipped / Total] 100 / 1 / 34 / 135:  27%|█████▋               | 135/500 [03:17<08:55,  1.47s/it]textattack: Saving checkpoint under \"checkpoints\\1720176731376.ta.chkpt\" at 2024-07-05 18:52:11 after 135 attacks.\n"
     ]
    },
    {
     "name": "stdout",
     "output_type": "stream",
     "text": [
      "\n",
      "\n",
      "=============================================================================================================================\n",
      "=============================================================================================================================\n",
      "\n"
     ]
    },
    {
     "name": "stderr",
     "output_type": "stream",
     "text": [
      "[Succeeded / Failed / Skipped / Total] 104 / 1 / 35 / 140:  28%|█████▉               | 140/500 [03:26<08:50,  1.47s/it]textattack: Saving checkpoint under \"checkpoints\\1720176739676.ta.chkpt\" at 2024-07-05 18:52:19 after 140 attacks.\n"
     ]
    },
    {
     "name": "stdout",
     "output_type": "stream",
     "text": [
      "\n",
      "\n",
      "=============================================================================================================================\n",
      "=============================================================================================================================\n",
      "\n"
     ]
    },
    {
     "name": "stderr",
     "output_type": "stream",
     "text": [
      "[Succeeded / Failed / Skipped / Total] 109 / 1 / 35 / 145:  29%|██████               | 145/500 [03:35<08:46,  1.48s/it]textattack: Saving checkpoint under \"checkpoints\\1720176748514.ta.chkpt\" at 2024-07-05 18:52:28 after 145 attacks.\n",
      "[Succeeded / Failed / Skipped / Total] 109 / 1 / 38 / 148:  30%|██████▏              | 148/500 [03:35<08:32,  1.45s/it]"
     ]
    },
    {
     "name": "stdout",
     "output_type": "stream",
     "text": [
      "\n",
      "\n",
      "=============================================================================================================================\n",
      "=============================================================================================================================\n",
      "\n"
     ]
    },
    {
     "name": "stderr",
     "output_type": "stream",
     "text": [
      "[Succeeded / Failed / Skipped / Total] 111 / 1 / 38 / 150:  30%|██████▎              | 150/500 [03:38<08:28,  1.45s/it]textattack: Saving checkpoint under \"checkpoints\\1720176751395.ta.chkpt\" at 2024-07-05 18:52:31 after 150 attacks.\n"
     ]
    },
    {
     "name": "stdout",
     "output_type": "stream",
     "text": [
      "\n",
      "\n",
      "=============================================================================================================================\n",
      "=============================================================================================================================\n",
      "\n"
     ]
    },
    {
     "name": "stderr",
     "output_type": "stream",
     "text": [
      "[Succeeded / Failed / Skipped / Total] 115 / 1 / 39 / 155:  31%|██████▌              | 155/500 [03:42<08:14,  1.43s/it]textattack: Saving checkpoint under \"checkpoints\\1720176755614.ta.chkpt\" at 2024-07-05 18:52:35 after 155 attacks.\n"
     ]
    },
    {
     "name": "stdout",
     "output_type": "stream",
     "text": [
      "\n",
      "\n",
      "=============================================================================================================================\n",
      "=============================================================================================================================\n",
      "\n"
     ]
    },
    {
     "name": "stderr",
     "output_type": "stream",
     "text": [
      "[Succeeded / Failed / Skipped / Total] 119 / 1 / 40 / 160:  32%|██████▋              | 160/500 [03:49<08:08,  1.44s/it]textattack: Saving checkpoint under \"checkpoints\\1720176763188.ta.chkpt\" at 2024-07-05 18:52:43 after 160 attacks.\n",
      "[Succeeded / Failed / Skipped / Total] 119 / 1 / 41 / 161:  32%|██████▊              | 161/500 [03:49<08:03,  1.43s/it]"
     ]
    },
    {
     "name": "stdout",
     "output_type": "stream",
     "text": [
      "\n",
      "\n",
      "=============================================================================================================================\n",
      "=============================================================================================================================\n",
      "\n"
     ]
    },
    {
     "name": "stderr",
     "output_type": "stream",
     "text": [
      "[Succeeded / Failed / Skipped / Total] 122 / 1 / 42 / 165:  33%|██████▉              | 165/500 [03:59<08:05,  1.45s/it]textattack: Saving checkpoint under \"checkpoints\\1720176772749.ta.chkpt\" at 2024-07-05 18:52:52 after 165 attacks.\n"
     ]
    },
    {
     "name": "stdout",
     "output_type": "stream",
     "text": [
      "\n",
      "\n",
      "=============================================================================================================================\n",
      "=============================================================================================================================\n",
      "\n"
     ]
    },
    {
     "name": "stderr",
     "output_type": "stream",
     "text": [
      "[Succeeded / Failed / Skipped / Total] 126 / 1 / 43 / 170:  34%|███████▏             | 170/500 [04:07<08:00,  1.46s/it]textattack: Saving checkpoint under \"checkpoints\\1720176781155.ta.chkpt\" at 2024-07-05 18:53:01 after 170 attacks.\n"
     ]
    },
    {
     "name": "stdout",
     "output_type": "stream",
     "text": [
      "\n",
      "\n",
      "=============================================================================================================================\n",
      "=============================================================================================================================\n",
      "\n"
     ]
    },
    {
     "name": "stderr",
     "output_type": "stream",
     "text": [
      "[Succeeded / Failed / Skipped / Total] 130 / 1 / 44 / 175:  35%|███████▎             | 175/500 [04:18<08:00,  1.48s/it]textattack: Saving checkpoint under \"checkpoints\\1720176792114.ta.chkpt\" at 2024-07-05 18:53:12 after 175 attacks.\n"
     ]
    },
    {
     "name": "stdout",
     "output_type": "stream",
     "text": [
      "\n",
      "\n",
      "=============================================================================================================================\n",
      "=============================================================================================================================\n",
      "\n"
     ]
    },
    {
     "name": "stderr",
     "output_type": "stream",
     "text": [
      "[Succeeded / Failed / Skipped / Total] 134 / 1 / 45 / 180:  36%|███████▌             | 180/500 [04:24<07:50,  1.47s/it]textattack: Saving checkpoint under \"checkpoints\\1720176797905.ta.chkpt\" at 2024-07-05 18:53:17 after 180 attacks.\n"
     ]
    },
    {
     "name": "stdout",
     "output_type": "stream",
     "text": [
      "\n",
      "\n",
      "=============================================================================================================================\n",
      "=============================================================================================================================\n",
      "\n"
     ]
    },
    {
     "name": "stderr",
     "output_type": "stream",
     "text": [
      "[Succeeded / Failed / Skipped / Total] 138 / 1 / 46 / 185:  37%|███████▊             | 185/500 [04:28<07:36,  1.45s/it]textattack: Saving checkpoint under \"checkpoints\\1720176801542.ta.chkpt\" at 2024-07-05 18:53:21 after 185 attacks.\n"
     ]
    },
    {
     "name": "stdout",
     "output_type": "stream",
     "text": [
      "\n",
      "\n",
      "=============================================================================================================================\n",
      "=============================================================================================================================\n",
      "\n"
     ]
    },
    {
     "name": "stderr",
     "output_type": "stream",
     "text": [
      "[Succeeded / Failed / Skipped / Total] 143 / 1 / 46 / 190:  38%|███████▉             | 190/500 [04:43<07:41,  1.49s/it]textattack: Saving checkpoint under \"checkpoints\\1720176816438.ta.chkpt\" at 2024-07-05 18:53:36 after 190 attacks.\n"
     ]
    },
    {
     "name": "stdout",
     "output_type": "stream",
     "text": [
      "\n",
      "\n",
      "=============================================================================================================================\n",
      "=============================================================================================================================\n",
      "\n"
     ]
    },
    {
     "name": "stderr",
     "output_type": "stream",
     "text": [
      "[Succeeded / Failed / Skipped / Total] 146 / 1 / 48 / 195:  39%|████████▏            | 195/500 [04:52<07:37,  1.50s/it]textattack: Saving checkpoint under \"checkpoints\\1720176826110.ta.chkpt\" at 2024-07-05 18:53:46 after 195 attacks.\n"
     ]
    },
    {
     "name": "stdout",
     "output_type": "stream",
     "text": [
      "\n",
      "\n",
      "=============================================================================================================================\n",
      "=============================================================================================================================\n",
      "\n"
     ]
    },
    {
     "name": "stderr",
     "output_type": "stream",
     "text": [
      "[Succeeded / Failed / Skipped / Total] 150 / 1 / 49 / 200:  40%|████████▍            | 200/500 [05:05<07:38,  1.53s/it]textattack: Saving checkpoint under \"checkpoints\\1720176838734.ta.chkpt\" at 2024-07-05 18:53:58 after 200 attacks.\n"
     ]
    },
    {
     "name": "stdout",
     "output_type": "stream",
     "text": [
      "\n",
      "\n",
      "=============================================================================================================================\n",
      "=============================================================================================================================\n",
      "\n"
     ]
    },
    {
     "name": "stderr",
     "output_type": "stream",
     "text": [
      "[Succeeded / Failed / Skipped / Total] 154 / 1 / 50 / 205:  41%|████████▌            | 205/500 [05:11<07:28,  1.52s/it]textattack: Saving checkpoint under \"checkpoints\\1720176844990.ta.chkpt\" at 2024-07-05 18:54:04 after 205 attacks.\n"
     ]
    },
    {
     "name": "stdout",
     "output_type": "stream",
     "text": [
      "\n",
      "\n",
      "=============================================================================================================================\n",
      "=============================================================================================================================\n",
      "\n"
     ]
    },
    {
     "name": "stderr",
     "output_type": "stream",
     "text": [
      "[Succeeded / Failed / Skipped / Total] 157 / 1 / 52 / 210:  42%|████████▊            | 210/500 [05:14<07:14,  1.50s/it]textattack: Saving checkpoint under \"checkpoints\\1720176848150.ta.chkpt\" at 2024-07-05 18:54:08 after 210 attacks.\n"
     ]
    },
    {
     "name": "stdout",
     "output_type": "stream",
     "text": [
      "\n",
      "\n",
      "=============================================================================================================================\n",
      "=============================================================================================================================\n",
      "\n"
     ]
    },
    {
     "name": "stderr",
     "output_type": "stream",
     "text": [
      "[Succeeded / Failed / Skipped / Total] 161 / 1 / 53 / 215:  43%|█████████            | 215/500 [05:24<07:10,  1.51s/it]textattack: Saving checkpoint under \"checkpoints\\1720176858222.ta.chkpt\" at 2024-07-05 18:54:18 after 215 attacks.\n"
     ]
    },
    {
     "name": "stdout",
     "output_type": "stream",
     "text": [
      "\n",
      "\n",
      "=============================================================================================================================\n",
      "=============================================================================================================================\n",
      "\n"
     ]
    },
    {
     "name": "stderr",
     "output_type": "stream",
     "text": [
      "[Succeeded / Failed / Skipped / Total] 166 / 1 / 53 / 220:  44%|█████████▏           | 220/500 [05:29<06:58,  1.50s/it]textattack: Saving checkpoint under \"checkpoints\\1720176862550.ta.chkpt\" at 2024-07-05 18:54:22 after 220 attacks.\n"
     ]
    },
    {
     "name": "stdout",
     "output_type": "stream",
     "text": [
      "\n",
      "\n",
      "=============================================================================================================================\n",
      "=============================================================================================================================\n",
      "\n"
     ]
    },
    {
     "name": "stderr",
     "output_type": "stream",
     "text": [
      "[Succeeded / Failed / Skipped / Total] 169 / 1 / 55 / 225:  45%|█████████▍           | 225/500 [05:35<06:50,  1.49s/it]textattack: Saving checkpoint under \"checkpoints\\1720176868928.ta.chkpt\" at 2024-07-05 18:54:28 after 225 attacks.\n"
     ]
    },
    {
     "name": "stdout",
     "output_type": "stream",
     "text": [
      "\n",
      "\n",
      "=============================================================================================================================\n",
      "=============================================================================================================================\n",
      "\n"
     ]
    },
    {
     "name": "stderr",
     "output_type": "stream",
     "text": [
      "[Succeeded / Failed / Skipped / Total] 173 / 1 / 56 / 230:  46%|█████████▋           | 230/500 [05:41<06:41,  1.49s/it]textattack: Saving checkpoint under \"checkpoints\\1720176875325.ta.chkpt\" at 2024-07-05 18:54:35 after 230 attacks.\n"
     ]
    },
    {
     "name": "stdout",
     "output_type": "stream",
     "text": [
      "\n",
      "\n",
      "=============================================================================================================================\n",
      "=============================================================================================================================\n",
      "\n"
     ]
    },
    {
     "name": "stderr",
     "output_type": "stream",
     "text": [
      "[Succeeded / Failed / Skipped / Total] 178 / 1 / 56 / 235:  47%|█████████▊           | 235/500 [05:53<06:39,  1.51s/it]textattack: Saving checkpoint under \"checkpoints\\1720176887340.ta.chkpt\" at 2024-07-05 18:54:47 after 235 attacks.\n"
     ]
    },
    {
     "name": "stdout",
     "output_type": "stream",
     "text": [
      "\n",
      "\n",
      "=============================================================================================================================\n",
      "=============================================================================================================================\n",
      "\n"
     ]
    },
    {
     "name": "stderr",
     "output_type": "stream",
     "text": [
      "[Succeeded / Failed / Skipped / Total] 183 / 1 / 56 / 240:  48%|██████████           | 240/500 [06:02<06:32,  1.51s/it]textattack: Saving checkpoint under \"checkpoints\\1720176895886.ta.chkpt\" at 2024-07-05 18:54:55 after 240 attacks.\n"
     ]
    },
    {
     "name": "stdout",
     "output_type": "stream",
     "text": [
      "\n",
      "\n",
      "=============================================================================================================================\n",
      "=============================================================================================================================\n",
      "\n"
     ]
    },
    {
     "name": "stderr",
     "output_type": "stream",
     "text": [
      "[Succeeded / Failed / Skipped / Total] 188 / 1 / 56 / 245:  49%|██████████▎          | 245/500 [06:12<06:27,  1.52s/it]textattack: Saving checkpoint under \"checkpoints\\1720176905431.ta.chkpt\" at 2024-07-05 18:55:05 after 245 attacks.\n"
     ]
    },
    {
     "name": "stdout",
     "output_type": "stream",
     "text": [
      "\n",
      "\n",
      "=============================================================================================================================\n",
      "=============================================================================================================================\n",
      "\n"
     ]
    },
    {
     "name": "stderr",
     "output_type": "stream",
     "text": [
      "[Succeeded / Failed / Skipped / Total] 191 / 1 / 58 / 250:  50%|██████████▌          | 250/500 [06:16<06:16,  1.51s/it]textattack: Saving checkpoint under \"checkpoints\\1720176909705.ta.chkpt\" at 2024-07-05 18:55:09 after 250 attacks.\n"
     ]
    },
    {
     "name": "stdout",
     "output_type": "stream",
     "text": [
      "\n",
      "\n",
      "=============================================================================================================================\n",
      "=============================================================================================================================\n",
      "\n"
     ]
    },
    {
     "name": "stderr",
     "output_type": "stream",
     "text": [
      "[Succeeded / Failed / Skipped / Total] 195 / 1 / 59 / 255:  51%|██████████▋          | 255/500 [06:23<06:08,  1.50s/it]textattack: Saving checkpoint under \"checkpoints\\1720176916555.ta.chkpt\" at 2024-07-05 18:55:16 after 255 attacks.\n"
     ]
    },
    {
     "name": "stdout",
     "output_type": "stream",
     "text": [
      "\n",
      "\n",
      "=============================================================================================================================\n",
      "=============================================================================================================================\n",
      "\n"
     ]
    },
    {
     "name": "stderr",
     "output_type": "stream",
     "text": [
      "[Succeeded / Failed / Skipped / Total] 198 / 1 / 61 / 260:  52%|██████████▉          | 260/500 [06:28<05:58,  1.50s/it]textattack: Saving checkpoint under \"checkpoints\\1720176922130.ta.chkpt\" at 2024-07-05 18:55:22 after 260 attacks.\n"
     ]
    },
    {
     "name": "stdout",
     "output_type": "stream",
     "text": [
      "\n",
      "\n",
      "=============================================================================================================================\n",
      "=============================================================================================================================\n",
      "\n"
     ]
    },
    {
     "name": "stderr",
     "output_type": "stream",
     "text": [
      "[Succeeded / Failed / Skipped / Total] 203 / 1 / 61 / 265:  53%|███████████▏         | 265/500 [06:37<05:52,  1.50s/it]textattack: Saving checkpoint under \"checkpoints\\1720176931290.ta.chkpt\" at 2024-07-05 18:55:31 after 265 attacks.\n"
     ]
    },
    {
     "name": "stdout",
     "output_type": "stream",
     "text": [
      "\n",
      "\n",
      "=============================================================================================================================\n",
      "=============================================================================================================================\n",
      "\n"
     ]
    },
    {
     "name": "stderr",
     "output_type": "stream",
     "text": [
      "[Succeeded / Failed / Skipped / Total] 207 / 1 / 62 / 270:  54%|███████████▎         | 270/500 [06:52<05:51,  1.53s/it]textattack: Saving checkpoint under \"checkpoints\\1720176945546.ta.chkpt\" at 2024-07-05 18:55:45 after 270 attacks.\n",
      "[Succeeded / Failed / Skipped / Total] 207 / 1 / 63 / 271:  54%|███████████▍         | 271/500 [06:52<05:48,  1.52s/it]"
     ]
    },
    {
     "name": "stdout",
     "output_type": "stream",
     "text": [
      "\n",
      "\n",
      "=============================================================================================================================\n",
      "=============================================================================================================================\n",
      "\n"
     ]
    },
    {
     "name": "stderr",
     "output_type": "stream",
     "text": [
      "[Succeeded / Failed / Skipped / Total] 210 / 1 / 64 / 275:  55%|███████████▌         | 275/500 [06:54<05:39,  1.51s/it]textattack: Saving checkpoint under \"checkpoints\\1720176947889.ta.chkpt\" at 2024-07-05 18:55:47 after 275 attacks.\n",
      "[Succeeded / Failed / Skipped / Total] 210 / 1 / 66 / 277:  55%|███████████▋         | 277/500 [06:54<05:33,  1.50s/it]"
     ]
    },
    {
     "name": "stdout",
     "output_type": "stream",
     "text": [
      "\n",
      "\n",
      "=============================================================================================================================\n",
      "=============================================================================================================================\n",
      "\n"
     ]
    },
    {
     "name": "stderr",
     "output_type": "stream",
     "text": [
      "[Succeeded / Failed / Skipped / Total] 213 / 1 / 66 / 280:  56%|███████████▊         | 280/500 [06:59<05:29,  1.50s/it]textattack: Saving checkpoint under \"checkpoints\\1720176952903.ta.chkpt\" at 2024-07-05 18:55:52 after 280 attacks.\n"
     ]
    },
    {
     "name": "stdout",
     "output_type": "stream",
     "text": [
      "\n",
      "\n",
      "=============================================================================================================================\n",
      "=============================================================================================================================\n",
      "\n"
     ]
    },
    {
     "name": "stderr",
     "output_type": "stream",
     "text": [
      "[Succeeded / Failed / Skipped / Total] 218 / 1 / 66 / 285:  57%|███████████▉         | 285/500 [07:06<05:21,  1.50s/it]textattack: Saving checkpoint under \"checkpoints\\1720176959841.ta.chkpt\" at 2024-07-05 18:55:59 after 285 attacks.\n"
     ]
    },
    {
     "name": "stdout",
     "output_type": "stream",
     "text": [
      "\n",
      "\n",
      "=============================================================================================================================\n",
      "=============================================================================================================================\n",
      "\n"
     ]
    },
    {
     "name": "stderr",
     "output_type": "stream",
     "text": [
      "[Succeeded / Failed / Skipped / Total] 222 / 1 / 67 / 290:  58%|████████████▏        | 290/500 [07:12<05:13,  1.49s/it]textattack: Saving checkpoint under \"checkpoints\\1720176966087.ta.chkpt\" at 2024-07-05 18:56:06 after 290 attacks.\n"
     ]
    },
    {
     "name": "stdout",
     "output_type": "stream",
     "text": [
      "\n",
      "\n",
      "=============================================================================================================================\n",
      "=============================================================================================================================\n",
      "\n"
     ]
    },
    {
     "name": "stderr",
     "output_type": "stream",
     "text": [
      "[Succeeded / Failed / Skipped / Total] 226 / 1 / 68 / 295:  59%|████████████▍        | 295/500 [07:21<05:07,  1.50s/it]textattack: Saving checkpoint under \"checkpoints\\1720176975244.ta.chkpt\" at 2024-07-05 18:56:15 after 295 attacks.\n"
     ]
    },
    {
     "name": "stdout",
     "output_type": "stream",
     "text": [
      "\n",
      "\n",
      "=============================================================================================================================\n",
      "=============================================================================================================================\n",
      "\n"
     ]
    },
    {
     "name": "stderr",
     "output_type": "stream",
     "text": [
      "[Succeeded / Failed / Skipped / Total] 231 / 1 / 68 / 300:  60%|████████████▌        | 300/500 [07:31<05:01,  1.51s/it]textattack: Saving checkpoint under \"checkpoints\\1720176985320.ta.chkpt\" at 2024-07-05 18:56:25 after 300 attacks.\n"
     ]
    },
    {
     "name": "stdout",
     "output_type": "stream",
     "text": [
      "\n",
      "\n",
      "=============================================================================================================================\n",
      "=============================================================================================================================\n",
      "\n"
     ]
    },
    {
     "name": "stderr",
     "output_type": "stream",
     "text": [
      "[Succeeded / Failed / Skipped / Total] 236 / 1 / 68 / 305:  61%|████████████▊        | 305/500 [07:40<04:54,  1.51s/it]textattack: Saving checkpoint under \"checkpoints\\1720176994124.ta.chkpt\" at 2024-07-05 18:56:34 after 305 attacks.\n"
     ]
    },
    {
     "name": "stdout",
     "output_type": "stream",
     "text": [
      "\n",
      "\n",
      "=============================================================================================================================\n",
      "=============================================================================================================================\n",
      "\n"
     ]
    },
    {
     "name": "stderr",
     "output_type": "stream",
     "text": [
      "[Succeeded / Failed / Skipped / Total] 240 / 1 / 69 / 310:  62%|█████████████        | 310/500 [07:45<04:45,  1.50s/it]textattack: Saving checkpoint under \"checkpoints\\1720176998531.ta.chkpt\" at 2024-07-05 18:56:38 after 310 attacks.\n"
     ]
    },
    {
     "name": "stdout",
     "output_type": "stream",
     "text": [
      "\n",
      "\n",
      "=============================================================================================================================\n",
      "=============================================================================================================================\n",
      "\n"
     ]
    },
    {
     "name": "stderr",
     "output_type": "stream",
     "text": [
      "[Succeeded / Failed / Skipped / Total] 243 / 1 / 71 / 315:  63%|█████████████▏       | 315/500 [07:52<04:37,  1.50s/it]textattack: Saving checkpoint under \"checkpoints\\1720177005909.ta.chkpt\" at 2024-07-05 18:56:45 after 315 attacks.\n"
     ]
    },
    {
     "name": "stdout",
     "output_type": "stream",
     "text": [
      "\n",
      "\n",
      "=============================================================================================================================\n",
      "=============================================================================================================================\n",
      "\n"
     ]
    },
    {
     "name": "stderr",
     "output_type": "stream",
     "text": [
      "[Succeeded / Failed / Skipped / Total] 246 / 1 / 73 / 320:  64%|█████████████▍       | 320/500 [08:02<04:31,  1.51s/it]textattack: Saving checkpoint under \"checkpoints\\1720177016258.ta.chkpt\" at 2024-07-05 18:56:56 after 320 attacks.\n"
     ]
    },
    {
     "name": "stdout",
     "output_type": "stream",
     "text": [
      "\n",
      "\n",
      "=============================================================================================================================\n",
      "=============================================================================================================================\n",
      "\n"
     ]
    },
    {
     "name": "stderr",
     "output_type": "stream",
     "text": [
      "[Succeeded / Failed / Skipped / Total] 251 / 1 / 73 / 325:  65%|█████████████▋       | 325/500 [08:17<04:27,  1.53s/it]textattack: Saving checkpoint under \"checkpoints\\1720177030527.ta.chkpt\" at 2024-07-05 18:57:10 after 325 attacks.\n"
     ]
    },
    {
     "name": "stdout",
     "output_type": "stream",
     "text": [
      "\n",
      "\n",
      "=============================================================================================================================\n",
      "=============================================================================================================================\n",
      "\n"
     ]
    },
    {
     "name": "stderr",
     "output_type": "stream",
     "text": [
      "[Succeeded / Failed / Skipped / Total] 256 / 1 / 73 / 330:  66%|█████████████▊       | 330/500 [08:26<04:20,  1.54s/it]textattack: Saving checkpoint under \"checkpoints\\1720177040025.ta.chkpt\" at 2024-07-05 18:57:20 after 330 attacks.\n"
     ]
    },
    {
     "name": "stdout",
     "output_type": "stream",
     "text": [
      "\n",
      "\n",
      "=============================================================================================================================\n",
      "=============================================================================================================================\n",
      "\n"
     ]
    },
    {
     "name": "stderr",
     "output_type": "stream",
     "text": [
      "[Succeeded / Failed / Skipped / Total] 260 / 1 / 74 / 335:  67%|██████████████       | 335/500 [08:41<04:16,  1.56s/it]textattack: Saving checkpoint under \"checkpoints\\1720177055010.ta.chkpt\" at 2024-07-05 18:57:35 after 335 attacks.\n",
      "[Succeeded / Failed / Skipped / Total] 260 / 1 / 75 / 336:  67%|██████████████       | 336/500 [08:41<04:14,  1.55s/it]"
     ]
    },
    {
     "name": "stdout",
     "output_type": "stream",
     "text": [
      "\n",
      "\n",
      "=============================================================================================================================\n",
      "=============================================================================================================================\n",
      "\n"
     ]
    },
    {
     "name": "stderr",
     "output_type": "stream",
     "text": [
      "[Succeeded / Failed / Skipped / Total] 262 / 2 / 76 / 340:  68%|██████████████▎      | 340/500 [08:47<04:08,  1.55s/it]textattack: Saving checkpoint under \"checkpoints\\1720177060974.ta.chkpt\" at 2024-07-05 18:57:40 after 340 attacks.\n"
     ]
    },
    {
     "name": "stdout",
     "output_type": "stream",
     "text": [
      "\n",
      "\n",
      "=============================================================================================================================\n",
      "=============================================================================================================================\n",
      "\n"
     ]
    },
    {
     "name": "stderr",
     "output_type": "stream",
     "text": [
      "[Succeeded / Failed / Skipped / Total] 265 / 2 / 78 / 345:  69%|██████████████▍      | 345/500 [08:54<03:59,  1.55s/it]textattack: Saving checkpoint under \"checkpoints\\1720177067427.ta.chkpt\" at 2024-07-05 18:57:47 after 345 attacks.\n"
     ]
    },
    {
     "name": "stdout",
     "output_type": "stream",
     "text": [
      "\n",
      "\n",
      "=============================================================================================================================\n",
      "=============================================================================================================================\n",
      "\n"
     ]
    },
    {
     "name": "stderr",
     "output_type": "stream",
     "text": [
      "[Succeeded / Failed / Skipped / Total] 270 / 2 / 78 / 350:  70%|██████████████▋      | 350/500 [09:06<03:54,  1.56s/it]textattack: Saving checkpoint under \"checkpoints\\1720177080025.ta.chkpt\" at 2024-07-05 18:58:00 after 350 attacks.\n"
     ]
    },
    {
     "name": "stdout",
     "output_type": "stream",
     "text": [
      "\n",
      "\n",
      "=============================================================================================================================\n",
      "=============================================================================================================================\n",
      "\n"
     ]
    },
    {
     "name": "stderr",
     "output_type": "stream",
     "text": [
      "[Succeeded / Failed / Skipped / Total] 274 / 3 / 78 / 355:  71%|██████████████▉      | 355/500 [09:21<03:49,  1.58s/it]textattack: Saving checkpoint under \"checkpoints\\1720177095213.ta.chkpt\" at 2024-07-05 18:58:15 after 355 attacks.\n"
     ]
    },
    {
     "name": "stdout",
     "output_type": "stream",
     "text": [
      "\n",
      "\n",
      "=============================================================================================================================\n",
      "=============================================================================================================================\n",
      "\n"
     ]
    },
    {
     "name": "stderr",
     "output_type": "stream",
     "text": [
      "[Succeeded / Failed / Skipped / Total] 278 / 3 / 79 / 360:  72%|███████████████      | 360/500 [09:29<03:41,  1.58s/it]textattack: Saving checkpoint under \"checkpoints\\1720177102513.ta.chkpt\" at 2024-07-05 18:58:22 after 360 attacks.\n"
     ]
    },
    {
     "name": "stdout",
     "output_type": "stream",
     "text": [
      "\n",
      "\n",
      "=============================================================================================================================\n",
      "=============================================================================================================================\n",
      "\n"
     ]
    },
    {
     "name": "stderr",
     "output_type": "stream",
     "text": [
      "[Succeeded / Failed / Skipped / Total] 283 / 3 / 79 / 365:  73%|███████████████▎     | 365/500 [09:35<03:32,  1.58s/it]textattack: Saving checkpoint under \"checkpoints\\1720177109005.ta.chkpt\" at 2024-07-05 18:58:29 after 365 attacks.\n",
      "[Succeeded / Failed / Skipped / Total] 283 / 3 / 80 / 366:  73%|███████████████▎     | 366/500 [09:35<03:30,  1.57s/it]"
     ]
    },
    {
     "name": "stdout",
     "output_type": "stream",
     "text": [
      "\n",
      "\n",
      "=============================================================================================================================\n",
      "=============================================================================================================================\n",
      "\n"
     ]
    },
    {
     "name": "stderr",
     "output_type": "stream",
     "text": [
      "[Succeeded / Failed / Skipped / Total] 287 / 3 / 80 / 370:  74%|███████████████▌     | 370/500 [09:40<03:24,  1.57s/it]textattack: Saving checkpoint under \"checkpoints\\1720177114329.ta.chkpt\" at 2024-07-05 18:58:34 after 370 attacks.\n",
      "[Succeeded / Failed / Skipped / Total] 287 / 3 / 81 / 371:  74%|███████████████▌     | 371/500 [09:41<03:22,  1.57s/it]"
     ]
    },
    {
     "name": "stdout",
     "output_type": "stream",
     "text": [
      "\n",
      "\n",
      "=============================================================================================================================\n",
      "=============================================================================================================================\n",
      "\n"
     ]
    },
    {
     "name": "stderr",
     "output_type": "stream",
     "text": [
      "[Succeeded / Failed / Skipped / Total] 291 / 3 / 81 / 375:  75%|███████████████▊     | 375/500 [09:48<03:16,  1.57s/it]textattack: Saving checkpoint under \"checkpoints\\1720177121640.ta.chkpt\" at 2024-07-05 18:58:41 after 375 attacks.\n"
     ]
    },
    {
     "name": "stdout",
     "output_type": "stream",
     "text": [
      "\n",
      "\n",
      "=============================================================================================================================\n",
      "=============================================================================================================================\n",
      "\n"
     ]
    },
    {
     "name": "stderr",
     "output_type": "stream",
     "text": [
      "[Succeeded / Failed / Skipped / Total] 295 / 3 / 82 / 380:  76%|███████████████▉     | 380/500 [09:52<03:07,  1.56s/it]textattack: Saving checkpoint under \"checkpoints\\1720177125899.ta.chkpt\" at 2024-07-05 18:58:45 after 380 attacks.\n"
     ]
    },
    {
     "name": "stdout",
     "output_type": "stream",
     "text": [
      "\n",
      "\n",
      "=============================================================================================================================\n",
      "=============================================================================================================================\n",
      "\n"
     ]
    },
    {
     "name": "stderr",
     "output_type": "stream",
     "text": [
      "[Succeeded / Failed / Skipped / Total] 300 / 3 / 82 / 385:  77%|████████████████▏    | 385/500 [10:00<02:59,  1.56s/it]textattack: Saving checkpoint under \"checkpoints\\1720177133564.ta.chkpt\" at 2024-07-05 18:58:53 after 385 attacks.\n"
     ]
    },
    {
     "name": "stdout",
     "output_type": "stream",
     "text": [
      "\n",
      "\n",
      "=============================================================================================================================\n",
      "=============================================================================================================================\n",
      "\n"
     ]
    },
    {
     "name": "stderr",
     "output_type": "stream",
     "text": [
      "[Succeeded / Failed / Skipped / Total] 304 / 3 / 83 / 390:  78%|████████████████▍    | 390/500 [10:05<02:50,  1.55s/it]textattack: Saving checkpoint under \"checkpoints\\1720177139219.ta.chkpt\" at 2024-07-05 18:58:59 after 390 attacks.\n"
     ]
    },
    {
     "name": "stdout",
     "output_type": "stream",
     "text": [
      "\n",
      "\n",
      "=============================================================================================================================\n",
      "=============================================================================================================================\n",
      "\n"
     ]
    },
    {
     "name": "stderr",
     "output_type": "stream",
     "text": [
      "[Succeeded / Failed / Skipped / Total] 308 / 3 / 84 / 395:  79%|████████████████▌    | 395/500 [10:14<02:43,  1.56s/it]textattack: Saving checkpoint under \"checkpoints\\1720177148265.ta.chkpt\" at 2024-07-05 18:59:08 after 395 attacks.\n"
     ]
    },
    {
     "name": "stdout",
     "output_type": "stream",
     "text": [
      "\n",
      "\n",
      "=============================================================================================================================\n",
      "=============================================================================================================================\n",
      "\n"
     ]
    },
    {
     "name": "stderr",
     "output_type": "stream",
     "text": [
      "[Succeeded / Failed / Skipped / Total] 313 / 3 / 84 / 400:  80%|████████████████▊    | 400/500 [10:26<02:36,  1.57s/it]textattack: Saving checkpoint under \"checkpoints\\1720177159934.ta.chkpt\" at 2024-07-05 18:59:19 after 400 attacks.\n"
     ]
    },
    {
     "name": "stdout",
     "output_type": "stream",
     "text": [
      "\n",
      "\n",
      "=============================================================================================================================\n",
      "=============================================================================================================================\n",
      "\n"
     ]
    },
    {
     "name": "stderr",
     "output_type": "stream",
     "text": [
      "[Succeeded / Failed / Skipped / Total] 317 / 3 / 85 / 405:  81%|█████████████████    | 405/500 [10:36<02:29,  1.57s/it]textattack: Saving checkpoint under \"checkpoints\\1720177170039.ta.chkpt\" at 2024-07-05 18:59:30 after 405 attacks.\n"
     ]
    },
    {
     "name": "stdout",
     "output_type": "stream",
     "text": [
      "\n",
      "\n",
      "=============================================================================================================================\n",
      "=============================================================================================================================\n",
      "\n"
     ]
    },
    {
     "name": "stderr",
     "output_type": "stream",
     "text": [
      "[Succeeded / Failed / Skipped / Total] 322 / 3 / 85 / 410:  82%|█████████████████▏   | 410/500 [10:43<02:21,  1.57s/it]textattack: Saving checkpoint under \"checkpoints\\1720177177314.ta.chkpt\" at 2024-07-05 18:59:37 after 410 attacks.\n"
     ]
    },
    {
     "name": "stdout",
     "output_type": "stream",
     "text": [
      "\n",
      "\n",
      "=============================================================================================================================\n",
      "=============================================================================================================================\n",
      "\n"
     ]
    },
    {
     "name": "stderr",
     "output_type": "stream",
     "text": [
      "[Succeeded / Failed / Skipped / Total] 323 / 3 / 89 / 415:  83%|█████████████████▍   | 415/500 [10:47<02:12,  1.56s/it]textattack: Saving checkpoint under \"checkpoints\\1720177180388.ta.chkpt\" at 2024-07-05 18:59:40 after 415 attacks.\n"
     ]
    },
    {
     "name": "stdout",
     "output_type": "stream",
     "text": [
      "\n",
      "\n",
      "=============================================================================================================================\n",
      "=============================================================================================================================\n",
      "\n"
     ]
    },
    {
     "name": "stderr",
     "output_type": "stream",
     "text": [
      "[Succeeded / Failed / Skipped / Total] 326 / 4 / 90 / 420:  84%|█████████████████▋   | 420/500 [10:57<02:05,  1.57s/it]textattack: Saving checkpoint under \"checkpoints\\1720177191088.ta.chkpt\" at 2024-07-05 18:59:51 after 420 attacks.\n"
     ]
    },
    {
     "name": "stdout",
     "output_type": "stream",
     "text": [
      "\n",
      "\n",
      "=============================================================================================================================\n",
      "=============================================================================================================================\n",
      "\n"
     ]
    },
    {
     "name": "stderr",
     "output_type": "stream",
     "text": [
      "[Succeeded / Failed / Skipped / Total] 331 / 4 / 90 / 425:  85%|█████████████████▊   | 425/500 [11:06<01:57,  1.57s/it]textattack: Saving checkpoint under \"checkpoints\\1720177200031.ta.chkpt\" at 2024-07-05 19:00:00 after 425 attacks.\n"
     ]
    },
    {
     "name": "stdout",
     "output_type": "stream",
     "text": [
      "\n",
      "\n",
      "=============================================================================================================================\n",
      "=============================================================================================================================\n",
      "\n"
     ]
    },
    {
     "name": "stderr",
     "output_type": "stream",
     "text": [
      "[Succeeded / Failed / Skipped / Total] 336 / 4 / 90 / 430:  86%|██████████████████   | 430/500 [11:16<01:50,  1.57s/it]textattack: Saving checkpoint under \"checkpoints\\1720177209773.ta.chkpt\" at 2024-07-05 19:00:09 after 430 attacks.\n",
      "[Succeeded / Failed / Skipped / Total] 336 / 4 / 91 / 431:  86%|██████████████████   | 431/500 [11:16<01:48,  1.57s/it]"
     ]
    },
    {
     "name": "stdout",
     "output_type": "stream",
     "text": [
      "\n",
      "\n",
      "=============================================================================================================================\n",
      "=============================================================================================================================\n",
      "\n"
     ]
    },
    {
     "name": "stderr",
     "output_type": "stream",
     "text": [
      "[Succeeded / Failed / Skipped / Total] 340 / 4 / 91 / 435:  87%|██████████████████▎  | 435/500 [11:22<01:42,  1.57s/it]textattack: Saving checkpoint under \"checkpoints\\1720177216080.ta.chkpt\" at 2024-07-05 19:00:16 after 435 attacks.\n",
      "[Succeeded / Failed / Skipped / Total] 340 / 4 / 92 / 436:  87%|██████████████████▎  | 436/500 [11:22<01:40,  1.57s/it]"
     ]
    },
    {
     "name": "stdout",
     "output_type": "stream",
     "text": [
      "\n",
      "\n",
      "=============================================================================================================================\n",
      "=============================================================================================================================\n",
      "\n"
     ]
    },
    {
     "name": "stderr",
     "output_type": "stream",
     "text": [
      "[Succeeded / Failed / Skipped / Total] 344 / 4 / 92 / 440:  88%|██████████████████▍  | 440/500 [11:35<01:34,  1.58s/it]textattack: Saving checkpoint under \"checkpoints\\1720177229234.ta.chkpt\" at 2024-07-05 19:00:29 after 440 attacks.\n"
     ]
    },
    {
     "name": "stdout",
     "output_type": "stream",
     "text": [
      "\n",
      "\n",
      "=============================================================================================================================\n",
      "=============================================================================================================================\n",
      "\n"
     ]
    },
    {
     "name": "stderr",
     "output_type": "stream",
     "text": [
      "[Succeeded / Failed / Skipped / Total] 348 / 4 / 93 / 445:  89%|██████████████████▋  | 445/500 [11:39<01:26,  1.57s/it]textattack: Saving checkpoint under \"checkpoints\\1720177233123.ta.chkpt\" at 2024-07-05 19:00:33 after 445 attacks.\n"
     ]
    },
    {
     "name": "stdout",
     "output_type": "stream",
     "text": [
      "\n",
      "\n",
      "=============================================================================================================================\n",
      "=============================================================================================================================\n",
      "\n"
     ]
    },
    {
     "name": "stderr",
     "output_type": "stream",
     "text": [
      "[Succeeded / Failed / Skipped / Total] 351 / 4 / 95 / 450:  90%|██████████████████▉  | 450/500 [11:44<01:18,  1.57s/it]textattack: Saving checkpoint under \"checkpoints\\1720177238148.ta.chkpt\" at 2024-07-05 19:00:38 after 450 attacks.\n"
     ]
    },
    {
     "name": "stdout",
     "output_type": "stream",
     "text": [
      "\n",
      "\n",
      "=============================================================================================================================\n",
      "=============================================================================================================================\n",
      "\n"
     ]
    },
    {
     "name": "stderr",
     "output_type": "stream",
     "text": [
      "[Succeeded / Failed / Skipped / Total] 354 / 4 / 97 / 455:  91%|███████████████████  | 455/500 [11:50<01:10,  1.56s/it]textattack: Saving checkpoint under \"checkpoints\\1720177243972.ta.chkpt\" at 2024-07-05 19:00:43 after 455 attacks.\n"
     ]
    },
    {
     "name": "stdout",
     "output_type": "stream",
     "text": [
      "\n",
      "\n",
      "=============================================================================================================================\n",
      "=============================================================================================================================\n",
      "\n"
     ]
    },
    {
     "name": "stderr",
     "output_type": "stream",
     "text": [
      "[Succeeded / Failed / Skipped / Total] 359 / 4 / 97 / 460:  92%|███████████████████▎ | 460/500 [12:00<01:02,  1.57s/it]textattack: Saving checkpoint under \"checkpoints\\1720177253459.ta.chkpt\" at 2024-07-05 19:00:53 after 460 attacks.\n"
     ]
    },
    {
     "name": "stdout",
     "output_type": "stream",
     "text": [
      "\n",
      "\n",
      "=============================================================================================================================\n",
      "=============================================================================================================================\n",
      "\n"
     ]
    },
    {
     "name": "stderr",
     "output_type": "stream",
     "text": [
      "[Succeeded / Failed / Skipped / Total] 362 / 4 / 99 / 465:  93%|███████████████████▌ | 465/500 [12:08<00:54,  1.57s/it]textattack: Saving checkpoint under \"checkpoints\\1720177262185.ta.chkpt\" at 2024-07-05 19:01:02 after 465 attacks.\n",
      "[Succeeded / Failed / Skipped / Total] 362 / 4 / 100 / 466:  93%|██████████████████▋ | 466/500 [12:08<00:53,  1.56s/it]"
     ]
    },
    {
     "name": "stdout",
     "output_type": "stream",
     "text": [
      "\n",
      "\n",
      "=============================================================================================================================\n",
      "=============================================================================================================================\n",
      "\n"
     ]
    },
    {
     "name": "stderr",
     "output_type": "stream",
     "text": [
      "[Succeeded / Failed / Skipped / Total] 365 / 4 / 101 / 470:  94%|██████████████████▊ | 470/500 [12:12<00:46,  1.56s/it]textattack: Saving checkpoint under \"checkpoints\\1720177265423.ta.chkpt\" at 2024-07-05 19:01:05 after 470 attacks.\n"
     ]
    },
    {
     "name": "stdout",
     "output_type": "stream",
     "text": [
      "\n",
      "\n",
      "=============================================================================================================================\n",
      "=============================================================================================================================\n",
      "\n"
     ]
    },
    {
     "name": "stderr",
     "output_type": "stream",
     "text": [
      "[Succeeded / Failed / Skipped / Total] 370 / 4 / 101 / 475:  95%|███████████████████ | 475/500 [12:25<00:39,  1.57s/it]textattack: Saving checkpoint under \"checkpoints\\1720177279244.ta.chkpt\" at 2024-07-05 19:01:19 after 475 attacks.\n"
     ]
    },
    {
     "name": "stdout",
     "output_type": "stream",
     "text": [
      "\n",
      "\n",
      "=============================================================================================================================\n",
      "=============================================================================================================================\n",
      "\n"
     ]
    },
    {
     "name": "stderr",
     "output_type": "stream",
     "text": [
      "[Succeeded / Failed / Skipped / Total] 375 / 4 / 101 / 480:  96%|███████████████████▏| 480/500 [12:34<00:31,  1.57s/it]textattack: Saving checkpoint under \"checkpoints\\1720177287485.ta.chkpt\" at 2024-07-05 19:01:27 after 480 attacks.\n"
     ]
    },
    {
     "name": "stdout",
     "output_type": "stream",
     "text": [
      "\n",
      "\n",
      "=============================================================================================================================\n",
      "=============================================================================================================================\n",
      "\n"
     ]
    },
    {
     "name": "stderr",
     "output_type": "stream",
     "text": [
      "[Succeeded / Failed / Skipped / Total] 379 / 4 / 102 / 485:  97%|███████████████████▍| 485/500 [12:41<00:23,  1.57s/it]textattack: Saving checkpoint under \"checkpoints\\1720177294470.ta.chkpt\" at 2024-07-05 19:01:34 after 485 attacks.\n"
     ]
    },
    {
     "name": "stdout",
     "output_type": "stream",
     "text": [
      "\n",
      "\n",
      "=============================================================================================================================\n",
      "=============================================================================================================================\n",
      "\n"
     ]
    },
    {
     "name": "stderr",
     "output_type": "stream",
     "text": [
      "[Succeeded / Failed / Skipped / Total] 383 / 4 / 103 / 490:  98%|███████████████████▌| 490/500 [12:49<00:15,  1.57s/it]textattack: Saving checkpoint under \"checkpoints\\1720177302512.ta.chkpt\" at 2024-07-05 19:01:42 after 490 attacks.\n"
     ]
    },
    {
     "name": "stdout",
     "output_type": "stream",
     "text": [
      "\n",
      "\n",
      "=============================================================================================================================\n",
      "=============================================================================================================================\n",
      "\n"
     ]
    },
    {
     "name": "stderr",
     "output_type": "stream",
     "text": [
      "[Succeeded / Failed / Skipped / Total] 387 / 4 / 104 / 495:  99%|███████████████████▊| 495/500 [13:00<00:07,  1.58s/it]textattack: Saving checkpoint under \"checkpoints\\1720177313425.ta.chkpt\" at 2024-07-05 19:01:53 after 495 attacks.\n"
     ]
    },
    {
     "name": "stdout",
     "output_type": "stream",
     "text": [
      "\n",
      "\n",
      "=============================================================================================================================\n",
      "=============================================================================================================================\n",
      "\n"
     ]
    },
    {
     "name": "stderr",
     "output_type": "stream",
     "text": [
      "[Succeeded / Failed / Skipped / Total] 392 / 4 / 104 / 500: 100%|████████████████████| 500/500 [13:14<00:00,  1.59s/it]textattack: Saving checkpoint under \"checkpoints\\1720177327848.ta.chkpt\" at 2024-07-05 19:02:07 after 500 attacks.\n",
      "[Succeeded / Failed / Skipped / Total] 392 / 4 / 104 / 500: 100%|████████████████████| 500/500 [13:14<00:00,  1.59s/it]"
     ]
    },
    {
     "name": "stdout",
     "output_type": "stream",
     "text": [
      "\n",
      "\n",
      "=============================================================================================================================\n",
      "=============================================================================================================================\n",
      "\n",
      "\n",
      "+-------------------------------+--------+\n",
      "| Attack Results                |        |\n",
      "+-------------------------------+--------+\n",
      "| Number of successful attacks: | 392    |\n",
      "| Number of failed attacks:     | 4      |\n",
      "| Number of skipped attacks:    | 104    |\n",
      "| Original accuracy:            | 79.2%  |\n",
      "| Accuracy under attack:        | 0.8%   |\n",
      "| Attack success rate:          | 98.99% |\n",
      "| Average perturbed word %:     | 15.79% |\n",
      "| Average num. words per input: | 18.4   |\n",
      "| Avg num queries:              | 77.77  |\n",
      "+-------------------------------+--------+\n"
     ]
    },
    {
     "name": "stderr",
     "output_type": "stream",
     "text": [
      "\n"
     ]
    }
   ],
   "source": [
    "runAttack(disbert_model_wrapper_lr_mr, n_samples, 'attack_results_new/disbertmrattacklr'+suffix, target_ds_mr)"
   ]
  },
  {
   "cell_type": "code",
   "execution_count": 21,
   "id": "f264d4df-6423-44ba-b31f-11532355cb5e",
   "metadata": {},
   "outputs": [
    {
     "name": "stderr",
     "output_type": "stream",
     "text": [
      "textattack: Unknown if model of class <class 'transformers.models.distilbert.modeling_distilbert.DistilBertModel'> compatible with goal function <class 'textattack.goal_functions.classification.untargeted_classification.UntargetedClassification'>.\n",
      "textattack: Logging to CSV at path attack_results_new/disbertmrattackrfsim05.csv\n"
     ]
    },
    {
     "name": "stdout",
     "output_type": "stream",
     "text": [
      "Attack(\n",
      "  (search_method): GreedyWordSwapWIR(\n",
      "    (wir_method):  delete\n",
      "  )\n",
      "  (goal_function):  UntargetedClassification\n",
      "  (transformation):  WordSwapEmbedding(\n",
      "    (max_candidates):  50\n",
      "    (embedding):  WordEmbedding\n",
      "  )\n",
      "  (constraints): \n",
      "    (0): WordEmbeddingDistance(\n",
      "        (embedding):  WordEmbedding\n",
      "        (min_cos_sim):  0.5\n",
      "        (cased):  False\n",
      "        (include_unknown_words):  True\n",
      "        (compare_against_original):  True\n",
      "      )\n",
      "    (1): PartOfSpeech(\n",
      "        (tagger_type):  nltk\n",
      "        (tagset):  universal\n",
      "        (allow_verb_noun_swap):  True\n",
      "        (compare_against_original):  True\n",
      "      )\n",
      "    (2): UniversalSentenceEncoder(\n",
      "        (metric):  angular\n",
      "        (threshold):  0.840845057\n",
      "        (window_size):  15\n",
      "        (skip_text_shorter_than_window):  True\n",
      "        (compare_against_original):  False\n",
      "      )\n",
      "    (3): RepeatModification\n",
      "    (4): StopwordModification\n",
      "    (5): InputColumnModification(\n",
      "        (matching_column_labels):  ['premise', 'hypothesis']\n",
      "        (columns_to_ignore):  {'premise'}\n",
      "      )\n",
      "  (is_black_box):  True\n",
      ") \n",
      "\n"
     ]
    },
    {
     "name": "stderr",
     "output_type": "stream",
     "text": [
      "[Succeeded / Failed / Skipped / Total] 4 / 0 / 1 / 5:   1%|▎                           | 5/500 [00:18<31:10,  3.78s/it]textattack: Saving checkpoint under \"checkpoints\\1720177346827.ta.chkpt\" at 2024-07-05 19:02:26 after 5 attacks.\n",
      "[Succeeded / Failed / Skipped / Total] 4 / 0 / 2 / 6:   1%|▎                           | 6/500 [00:18<26:02,  3.16s/it]"
     ]
    },
    {
     "name": "stdout",
     "output_type": "stream",
     "text": [
      "\n",
      "\n",
      "=============================================================================================================================\n",
      "=============================================================================================================================\n",
      "\n"
     ]
    },
    {
     "name": "stderr",
     "output_type": "stream",
     "text": [
      "[Succeeded / Failed / Skipped / Total] 8 / 0 / 2 / 10:   2%|▌                         | 10/500 [00:30<24:49,  3.04s/it]textattack: Saving checkpoint under \"checkpoints\\1720177358338.ta.chkpt\" at 2024-07-05 19:02:38 after 10 attacks.\n"
     ]
    },
    {
     "name": "stdout",
     "output_type": "stream",
     "text": [
      "\n",
      "\n",
      "=============================================================================================================================\n",
      "=============================================================================================================================\n",
      "\n"
     ]
    },
    {
     "name": "stderr",
     "output_type": "stream",
     "text": [
      "[Succeeded / Failed / Skipped / Total] 11 / 1 / 3 / 15:   3%|▊                        | 15/500 [00:49<26:50,  3.32s/it]textattack: Saving checkpoint under \"checkpoints\\1720177377726.ta.chkpt\" at 2024-07-05 19:02:57 after 15 attacks.\n"
     ]
    },
    {
     "name": "stdout",
     "output_type": "stream",
     "text": [
      "\n",
      "\n",
      "=============================================================================================================================\n",
      "=============================================================================================================================\n",
      "\n"
     ]
    },
    {
     "name": "stderr",
     "output_type": "stream",
     "text": [
      "[Succeeded / Failed / Skipped / Total] 14 / 2 / 4 / 20:   4%|█                        | 20/500 [00:54<21:50,  2.73s/it]textattack: Saving checkpoint under \"checkpoints\\1720177382538.ta.chkpt\" at 2024-07-05 19:03:02 after 20 attacks.\n"
     ]
    },
    {
     "name": "stdout",
     "output_type": "stream",
     "text": [
      "\n",
      "\n",
      "=============================================================================================================================\n",
      "=============================================================================================================================\n",
      "\n"
     ]
    },
    {
     "name": "stderr",
     "output_type": "stream",
     "text": [
      "[Succeeded / Failed / Skipped / Total] 18 / 2 / 5 / 25:   5%|█▎                       | 25/500 [00:59<18:42,  2.36s/it]textattack: Saving checkpoint under \"checkpoints\\1720177386982.ta.chkpt\" at 2024-07-05 19:03:06 after 25 attacks.\n"
     ]
    },
    {
     "name": "stdout",
     "output_type": "stream",
     "text": [
      "\n",
      "\n",
      "=============================================================================================================================\n",
      "=============================================================================================================================\n",
      "\n"
     ]
    },
    {
     "name": "stderr",
     "output_type": "stream",
     "text": [
      "[Succeeded / Failed / Skipped / Total] 21 / 2 / 7 / 30:   6%|█▌                       | 30/500 [01:04<16:54,  2.16s/it]textattack: Saving checkpoint under \"checkpoints\\1720177392709.ta.chkpt\" at 2024-07-05 19:03:12 after 30 attacks.\n"
     ]
    },
    {
     "name": "stdout",
     "output_type": "stream",
     "text": [
      "\n",
      "\n",
      "=============================================================================================================================\n",
      "=============================================================================================================================\n",
      "\n"
     ]
    },
    {
     "name": "stderr",
     "output_type": "stream",
     "text": [
      "[Succeeded / Failed / Skipped / Total] 23 / 3 / 9 / 35:   7%|█▊                       | 35/500 [01:11<15:46,  2.04s/it]textattack: Saving checkpoint under \"checkpoints\\1720177399189.ta.chkpt\" at 2024-07-05 19:03:19 after 35 attacks.\n"
     ]
    },
    {
     "name": "stdout",
     "output_type": "stream",
     "text": [
      "\n",
      "\n",
      "=============================================================================================================================\n",
      "=============================================================================================================================\n",
      "\n"
     ]
    },
    {
     "name": "stderr",
     "output_type": "stream",
     "text": [
      "[Succeeded / Failed / Skipped / Total] 27 / 3 / 10 / 40:   8%|█▉                      | 40/500 [01:17<14:56,  1.95s/it]textattack: Saving checkpoint under \"checkpoints\\1720177405922.ta.chkpt\" at 2024-07-05 19:03:25 after 40 attacks.\n"
     ]
    },
    {
     "name": "stdout",
     "output_type": "stream",
     "text": [
      "\n",
      "\n",
      "=============================================================================================================================\n",
      "=============================================================================================================================\n",
      "\n"
     ]
    },
    {
     "name": "stderr",
     "output_type": "stream",
     "text": [
      "[Succeeded / Failed / Skipped / Total] 31 / 3 / 11 / 45:   9%|██▏                     | 45/500 [01:31<15:21,  2.03s/it]textattack: Saving checkpoint under \"checkpoints\\1720177419116.ta.chkpt\" at 2024-07-05 19:03:39 after 45 attacks.\n"
     ]
    },
    {
     "name": "stdout",
     "output_type": "stream",
     "text": [
      "\n",
      "\n",
      "=============================================================================================================================\n",
      "=============================================================================================================================\n",
      "\n"
     ]
    },
    {
     "name": "stderr",
     "output_type": "stream",
     "text": [
      "[Succeeded / Failed / Skipped / Total] 36 / 3 / 11 / 50:  10%|██▍                     | 50/500 [01:42<15:19,  2.04s/it]textattack: Saving checkpoint under \"checkpoints\\1720177430085.ta.chkpt\" at 2024-07-05 19:03:50 after 50 attacks.\n"
     ]
    },
    {
     "name": "stdout",
     "output_type": "stream",
     "text": [
      "\n",
      "\n",
      "=============================================================================================================================\n",
      "=============================================================================================================================\n",
      "\n"
     ]
    },
    {
     "name": "stderr",
     "output_type": "stream",
     "text": [
      "[Succeeded / Failed / Skipped / Total] 40 / 3 / 12 / 55:  11%|██▋                     | 55/500 [01:50<14:50,  2.00s/it]textattack: Saving checkpoint under \"checkpoints\\1720177437971.ta.chkpt\" at 2024-07-05 19:03:57 after 55 attacks.\n"
     ]
    },
    {
     "name": "stdout",
     "output_type": "stream",
     "text": [
      "\n",
      "\n",
      "=============================================================================================================================\n",
      "=============================================================================================================================\n",
      "\n"
     ]
    },
    {
     "name": "stderr",
     "output_type": "stream",
     "text": [
      "[Succeeded / Failed / Skipped / Total] 44 / 3 / 13 / 60:  12%|██▉                     | 60/500 [01:57<14:22,  1.96s/it]textattack: Saving checkpoint under \"checkpoints\\1720177445505.ta.chkpt\" at 2024-07-05 19:04:05 after 60 attacks.\n",
      "[Succeeded / Failed / Skipped / Total] 44 / 3 / 14 / 61:  12%|██▉                     | 61/500 [01:57<14:06,  1.93s/it]"
     ]
    },
    {
     "name": "stdout",
     "output_type": "stream",
     "text": [
      "\n",
      "\n",
      "=============================================================================================================================\n",
      "=============================================================================================================================\n",
      "\n"
     ]
    },
    {
     "name": "stderr",
     "output_type": "stream",
     "text": [
      "[Succeeded / Failed / Skipped / Total] 48 / 3 / 14 / 65:  13%|███                     | 65/500 [02:01<13:34,  1.87s/it]textattack: Saving checkpoint under \"checkpoints\\1720177449571.ta.chkpt\" at 2024-07-05 19:04:09 after 65 attacks.\n"
     ]
    },
    {
     "name": "stdout",
     "output_type": "stream",
     "text": [
      "\n",
      "\n",
      "=============================================================================================================================\n",
      "=============================================================================================================================\n",
      "\n"
     ]
    },
    {
     "name": "stderr",
     "output_type": "stream",
     "text": [
      "[Succeeded / Failed / Skipped / Total] 50 / 4 / 16 / 70:  14%|███▎                    | 70/500 [02:09<13:12,  1.84s/it]textattack: Saving checkpoint under \"checkpoints\\1720177456932.ta.chkpt\" at 2024-07-05 19:04:16 after 70 attacks.\n"
     ]
    },
    {
     "name": "stdout",
     "output_type": "stream",
     "text": [
      "\n",
      "\n",
      "=============================================================================================================================\n",
      "=============================================================================================================================\n",
      "\n"
     ]
    },
    {
     "name": "stderr",
     "output_type": "stream",
     "text": [
      "[Succeeded / Failed / Skipped / Total] 53 / 4 / 18 / 75:  15%|███▌                    | 75/500 [02:16<12:54,  1.82s/it]textattack: Saving checkpoint under \"checkpoints\\1720177464662.ta.chkpt\" at 2024-07-05 19:04:24 after 75 attacks.\n",
      "[Succeeded / Failed / Skipped / Total] 53 / 4 / 19 / 76:  15%|███▋                    | 76/500 [02:16<12:43,  1.80s/it]"
     ]
    },
    {
     "name": "stdout",
     "output_type": "stream",
     "text": [
      "\n",
      "\n",
      "=============================================================================================================================\n",
      "=============================================================================================================================\n",
      "\n"
     ]
    },
    {
     "name": "stderr",
     "output_type": "stream",
     "text": [
      "[Succeeded / Failed / Skipped / Total] 56 / 4 / 20 / 80:  16%|███▊                    | 80/500 [02:24<12:38,  1.81s/it]textattack: Saving checkpoint under \"checkpoints\\1720177472342.ta.chkpt\" at 2024-07-05 19:04:32 after 80 attacks.\n",
      "[Succeeded / Failed / Skipped / Total] 56 / 4 / 22 / 82:  16%|███▉                    | 82/500 [02:24<12:16,  1.76s/it]"
     ]
    },
    {
     "name": "stdout",
     "output_type": "stream",
     "text": [
      "\n",
      "\n",
      "=============================================================================================================================\n",
      "=============================================================================================================================\n",
      "\n"
     ]
    },
    {
     "name": "stderr",
     "output_type": "stream",
     "text": [
      "[Succeeded / Failed / Skipped / Total] 58 / 4 / 23 / 85:  17%|████                    | 85/500 [02:27<12:00,  1.74s/it]textattack: Saving checkpoint under \"checkpoints\\1720177475513.ta.chkpt\" at 2024-07-05 19:04:35 after 85 attacks.\n"
     ]
    },
    {
     "name": "stdout",
     "output_type": "stream",
     "text": [
      "\n",
      "\n",
      "=============================================================================================================================\n",
      "=============================================================================================================================\n",
      "\n"
     ]
    },
    {
     "name": "stderr",
     "output_type": "stream",
     "text": [
      "[Succeeded / Failed / Skipped / Total] 62 / 4 / 24 / 90:  18%|████▎                   | 90/500 [02:36<11:54,  1.74s/it]textattack: Saving checkpoint under \"checkpoints\\1720177484806.ta.chkpt\" at 2024-07-05 19:04:44 after 90 attacks.\n"
     ]
    },
    {
     "name": "stdout",
     "output_type": "stream",
     "text": [
      "\n",
      "\n",
      "=============================================================================================================================\n",
      "=============================================================================================================================\n",
      "\n"
     ]
    },
    {
     "name": "stderr",
     "output_type": "stream",
     "text": [
      "[Succeeded / Failed / Skipped / Total] 65 / 4 / 26 / 95:  19%|████▌                   | 95/500 [02:40<11:22,  1.69s/it]textattack: Saving checkpoint under \"checkpoints\\1720177488008.ta.chkpt\" at 2024-07-05 19:04:48 after 95 attacks.\n"
     ]
    },
    {
     "name": "stdout",
     "output_type": "stream",
     "text": [
      "\n",
      "\n",
      "=============================================================================================================================\n",
      "=============================================================================================================================\n",
      "\n"
     ]
    },
    {
     "name": "stderr",
     "output_type": "stream",
     "text": [
      "[Succeeded / Failed / Skipped / Total] 69 / 5 / 26 / 100:  20%|████▍                 | 100/500 [02:49<11:18,  1.70s/it]textattack: Saving checkpoint under \"checkpoints\\1720177497484.ta.chkpt\" at 2024-07-05 19:04:57 after 100 attacks.\n",
      "[Succeeded / Failed / Skipped / Total] 69 / 5 / 28 / 102:  20%|████▍                 | 102/500 [02:49<11:02,  1.66s/it]"
     ]
    },
    {
     "name": "stdout",
     "output_type": "stream",
     "text": [
      "\n",
      "\n",
      "=============================================================================================================================\n",
      "=============================================================================================================================\n",
      "\n"
     ]
    },
    {
     "name": "stderr",
     "output_type": "stream",
     "text": [
      "[Succeeded / Failed / Skipped / Total] 72 / 5 / 28 / 105:  21%|████▌                 | 105/500 [02:58<11:10,  1.70s/it]textattack: Saving checkpoint under \"checkpoints\\1720177506291.ta.chkpt\" at 2024-07-05 19:05:06 after 105 attacks.\n",
      "[Succeeded / Failed / Skipped / Total] 72 / 5 / 29 / 106:  21%|████▋                 | 106/500 [02:58<11:03,  1.68s/it]"
     ]
    },
    {
     "name": "stdout",
     "output_type": "stream",
     "text": [
      "\n",
      "\n",
      "=============================================================================================================================\n",
      "=============================================================================================================================\n",
      "\n"
     ]
    },
    {
     "name": "stderr",
     "output_type": "stream",
     "text": [
      "[Succeeded / Failed / Skipped / Total] 76 / 5 / 29 / 110:  22%|████▊                 | 110/500 [03:07<11:04,  1.70s/it]textattack: Saving checkpoint under \"checkpoints\\1720177515281.ta.chkpt\" at 2024-07-05 19:05:15 after 110 attacks.\n",
      "[Succeeded / Failed / Skipped / Total] 76 / 5 / 30 / 111:  22%|████▉                 | 111/500 [03:07<10:56,  1.69s/it]"
     ]
    },
    {
     "name": "stdout",
     "output_type": "stream",
     "text": [
      "\n",
      "\n",
      "=============================================================================================================================\n",
      "=============================================================================================================================\n",
      "\n"
     ]
    },
    {
     "name": "stderr",
     "output_type": "stream",
     "text": [
      "[Succeeded / Failed / Skipped / Total] 79 / 5 / 31 / 115:  23%|█████                 | 115/500 [03:18<11:04,  1.73s/it]textattack: Saving checkpoint under \"checkpoints\\1720177526392.ta.chkpt\" at 2024-07-05 19:05:26 after 115 attacks.\n"
     ]
    },
    {
     "name": "stdout",
     "output_type": "stream",
     "text": [
      "\n",
      "\n",
      "=============================================================================================================================\n",
      "=============================================================================================================================\n",
      "\n"
     ]
    },
    {
     "name": "stderr",
     "output_type": "stream",
     "text": [
      "[Succeeded / Failed / Skipped / Total] 82 / 5 / 33 / 120:  24%|█████▎                | 120/500 [03:22<10:40,  1.69s/it]textattack: Saving checkpoint under \"checkpoints\\1720177530203.ta.chkpt\" at 2024-07-05 19:05:30 after 120 attacks.\n"
     ]
    },
    {
     "name": "stdout",
     "output_type": "stream",
     "text": [
      "\n",
      "\n",
      "=============================================================================================================================\n",
      "=============================================================================================================================\n",
      "\n"
     ]
    },
    {
     "name": "stderr",
     "output_type": "stream",
     "text": [
      "[Succeeded / Failed / Skipped / Total] 86 / 5 / 34 / 125:  25%|█████▌                | 125/500 [03:29<10:27,  1.67s/it]textattack: Saving checkpoint under \"checkpoints\\1720177537030.ta.chkpt\" at 2024-07-05 19:05:37 after 125 attacks.\n",
      "[Succeeded / Failed / Skipped / Total] 86 / 5 / 36 / 127:  25%|█████▌                | 127/500 [03:29<10:14,  1.65s/it]"
     ]
    },
    {
     "name": "stdout",
     "output_type": "stream",
     "text": [
      "\n",
      "\n",
      "=============================================================================================================================\n",
      "=============================================================================================================================\n",
      "\n"
     ]
    },
    {
     "name": "stderr",
     "output_type": "stream",
     "text": [
      "[Succeeded / Failed / Skipped / Total] 88 / 5 / 37 / 130:  26%|█████▋                | 130/500 [03:33<10:08,  1.64s/it]textattack: Saving checkpoint under \"checkpoints\\1720177541566.ta.chkpt\" at 2024-07-05 19:05:41 after 130 attacks.\n",
      "[Succeeded / Failed / Skipped / Total] 88 / 5 / 38 / 131:  26%|█████▊                | 131/500 [03:33<10:01,  1.63s/it]"
     ]
    },
    {
     "name": "stdout",
     "output_type": "stream",
     "text": [
      "\n",
      "\n",
      "=============================================================================================================================\n",
      "=============================================================================================================================\n",
      "\n"
     ]
    },
    {
     "name": "stderr",
     "output_type": "stream",
     "text": [
      "[Succeeded / Failed / Skipped / Total] 92 / 5 / 38 / 135:  27%|█████▉                | 135/500 [03:41<09:57,  1.64s/it]textattack: Saving checkpoint under \"checkpoints\\1720177548961.ta.chkpt\" at 2024-07-05 19:05:48 after 135 attacks.\n",
      "[Succeeded / Failed / Skipped / Total] 92 / 5 / 39 / 136:  27%|█████▉                | 136/500 [03:41<09:51,  1.63s/it]"
     ]
    },
    {
     "name": "stdout",
     "output_type": "stream",
     "text": [
      "\n",
      "\n",
      "=============================================================================================================================\n",
      "=============================================================================================================================\n",
      "\n"
     ]
    },
    {
     "name": "stderr",
     "output_type": "stream",
     "text": [
      "[Succeeded / Failed / Skipped / Total] 96 / 5 / 39 / 140:  28%|██████▏               | 140/500 [03:44<09:37,  1.60s/it]textattack: Saving checkpoint under \"checkpoints\\1720177552430.ta.chkpt\" at 2024-07-05 19:05:52 after 140 attacks.\n"
     ]
    },
    {
     "name": "stdout",
     "output_type": "stream",
     "text": [
      "\n",
      "\n",
      "=============================================================================================================================\n",
      "=============================================================================================================================\n",
      "\n"
     ]
    },
    {
     "name": "stderr",
     "output_type": "stream",
     "text": [
      "[Succeeded / Failed / Skipped / Total] 100 / 5 / 40 / 145:  29%|██████               | 145/500 [03:50<09:23,  1.59s/it]textattack: Saving checkpoint under \"checkpoints\\1720177558123.ta.chkpt\" at 2024-07-05 19:05:58 after 145 attacks.\n",
      "[Succeeded / Failed / Skipped / Total] 100 / 5 / 43 / 148:  30%|██████▏              | 148/500 [03:50<09:07,  1.56s/it]"
     ]
    },
    {
     "name": "stdout",
     "output_type": "stream",
     "text": [
      "\n",
      "\n",
      "=============================================================================================================================\n",
      "=============================================================================================================================\n",
      "\n"
     ]
    },
    {
     "name": "stderr",
     "output_type": "stream",
     "text": [
      "[Succeeded / Failed / Skipped / Total] 101 / 5 / 44 / 150:  30%|██████▎              | 150/500 [03:51<09:00,  1.54s/it]textattack: Saving checkpoint under \"checkpoints\\1720177559470.ta.chkpt\" at 2024-07-05 19:05:59 after 150 attacks.\n"
     ]
    },
    {
     "name": "stdout",
     "output_type": "stream",
     "text": [
      "\n",
      "\n",
      "=============================================================================================================================\n",
      "=============================================================================================================================\n",
      "\n"
     ]
    },
    {
     "name": "stderr",
     "output_type": "stream",
     "text": [
      "[Succeeded / Failed / Skipped / Total] 105 / 5 / 45 / 155:  31%|██████▌              | 155/500 [03:55<08:44,  1.52s/it]textattack: Saving checkpoint under \"checkpoints\\1720177563538.ta.chkpt\" at 2024-07-05 19:06:03 after 155 attacks.\n"
     ]
    },
    {
     "name": "stdout",
     "output_type": "stream",
     "text": [
      "\n",
      "\n",
      "=============================================================================================================================\n",
      "=============================================================================================================================\n",
      "\n"
     ]
    },
    {
     "name": "stderr",
     "output_type": "stream",
     "text": [
      "[Succeeded / Failed / Skipped / Total] 108 / 6 / 46 / 160:  32%|██████▋              | 160/500 [04:11<08:53,  1.57s/it]textattack: Saving checkpoint under \"checkpoints\\1720177579013.ta.chkpt\" at 2024-07-05 19:06:19 after 160 attacks.\n",
      "[Succeeded / Failed / Skipped / Total] 108 / 6 / 47 / 161:  32%|██████▊              | 161/500 [04:11<08:48,  1.56s/it]"
     ]
    },
    {
     "name": "stdout",
     "output_type": "stream",
     "text": [
      "\n",
      "\n",
      "=============================================================================================================================\n",
      "=============================================================================================================================\n",
      "\n"
     ]
    },
    {
     "name": "stderr",
     "output_type": "stream",
     "text": [
      "[Succeeded / Failed / Skipped / Total] 112 / 6 / 47 / 165:  33%|██████▉              | 165/500 [04:19<08:47,  1.57s/it]textattack: Saving checkpoint under \"checkpoints\\1720177587674.ta.chkpt\" at 2024-07-05 19:06:27 after 165 attacks.\n",
      "[Succeeded / Failed / Skipped / Total] 112 / 6 / 48 / 166:  33%|██████▉              | 166/500 [04:19<08:42,  1.57s/it]"
     ]
    },
    {
     "name": "stdout",
     "output_type": "stream",
     "text": [
      "\n",
      "\n",
      "=============================================================================================================================\n",
      "=============================================================================================================================\n",
      "\n"
     ]
    },
    {
     "name": "stderr",
     "output_type": "stream",
     "text": [
      "[Succeeded / Failed / Skipped / Total] 114 / 6 / 50 / 170:  34%|███████▏             | 170/500 [04:21<08:28,  1.54s/it]textattack: Saving checkpoint under \"checkpoints\\1720177589815.ta.chkpt\" at 2024-07-05 19:06:29 after 170 attacks.\n"
     ]
    },
    {
     "name": "stdout",
     "output_type": "stream",
     "text": [
      "\n",
      "\n",
      "=============================================================================================================================\n",
      "=============================================================================================================================\n",
      "\n"
     ]
    },
    {
     "name": "stderr",
     "output_type": "stream",
     "text": [
      "[Succeeded / Failed / Skipped / Total] 117 / 6 / 52 / 175:  35%|███████▎             | 175/500 [04:30<08:22,  1.55s/it]textattack: Saving checkpoint under \"checkpoints\\1720177598402.ta.chkpt\" at 2024-07-05 19:06:38 after 175 attacks.\n"
     ]
    },
    {
     "name": "stdout",
     "output_type": "stream",
     "text": [
      "\n",
      "\n",
      "=============================================================================================================================\n",
      "=============================================================================================================================\n",
      "\n"
     ]
    },
    {
     "name": "stderr",
     "output_type": "stream",
     "text": [
      "[Succeeded / Failed / Skipped / Total] 120 / 7 / 53 / 180:  36%|███████▌             | 180/500 [04:43<08:23,  1.57s/it]textattack: Saving checkpoint under \"checkpoints\\1720177611149.ta.chkpt\" at 2024-07-05 19:06:51 after 180 attacks.\n",
      "[Succeeded / Failed / Skipped / Total] 120 / 7 / 56 / 183:  37%|███████▋             | 183/500 [04:43<08:10,  1.55s/it]"
     ]
    },
    {
     "name": "stdout",
     "output_type": "stream",
     "text": [
      "\n",
      "\n",
      "=============================================================================================================================\n",
      "=============================================================================================================================\n",
      "\n"
     ]
    },
    {
     "name": "stderr",
     "output_type": "stream",
     "text": [
      "[Succeeded / Failed / Skipped / Total] 122 / 7 / 56 / 185:  37%|███████▊             | 185/500 [04:44<08:04,  1.54s/it]textattack: Saving checkpoint under \"checkpoints\\1720177612525.ta.chkpt\" at 2024-07-05 19:06:52 after 185 attacks.\n"
     ]
    },
    {
     "name": "stdout",
     "output_type": "stream",
     "text": [
      "\n",
      "\n",
      "=============================================================================================================================\n",
      "=============================================================================================================================\n",
      "\n"
     ]
    },
    {
     "name": "stderr",
     "output_type": "stream",
     "text": [
      "[Succeeded / Failed / Skipped / Total] 126 / 8 / 56 / 190:  38%|███████▉             | 190/500 [05:09<08:25,  1.63s/it]textattack: Saving checkpoint under \"checkpoints\\1720177637579.ta.chkpt\" at 2024-07-05 19:07:17 after 190 attacks.\n"
     ]
    },
    {
     "name": "stdout",
     "output_type": "stream",
     "text": [
      "\n",
      "\n",
      "=============================================================================================================================\n",
      "=============================================================================================================================\n",
      "\n"
     ]
    },
    {
     "name": "stderr",
     "output_type": "stream",
     "text": [
      "[Succeeded / Failed / Skipped / Total] 129 / 8 / 58 / 195:  39%|████████▏            | 195/500 [05:17<08:16,  1.63s/it]textattack: Saving checkpoint under \"checkpoints\\1720177645146.ta.chkpt\" at 2024-07-05 19:07:25 after 195 attacks.\n"
     ]
    },
    {
     "name": "stdout",
     "output_type": "stream",
     "text": [
      "\n",
      "\n",
      "=============================================================================================================================\n",
      "=============================================================================================================================\n",
      "\n"
     ]
    },
    {
     "name": "stderr",
     "output_type": "stream",
     "text": [
      "[Succeeded / Failed / Skipped / Total] 133 / 8 / 59 / 200:  40%|████████▍            | 200/500 [05:39<08:28,  1.70s/it]textattack: Saving checkpoint under \"checkpoints\\1720177666974.ta.chkpt\" at 2024-07-05 19:07:46 after 200 attacks.\n"
     ]
    },
    {
     "name": "stdout",
     "output_type": "stream",
     "text": [
      "\n",
      "\n",
      "=============================================================================================================================\n",
      "=============================================================================================================================\n",
      "\n"
     ]
    },
    {
     "name": "stderr",
     "output_type": "stream",
     "text": [
      "[Succeeded / Failed / Skipped / Total] 137 / 8 / 60 / 205:  41%|████████▌            | 205/500 [05:46<08:18,  1.69s/it]textattack: Saving checkpoint under \"checkpoints\\1720177674378.ta.chkpt\" at 2024-07-05 19:07:54 after 205 attacks.\n"
     ]
    },
    {
     "name": "stdout",
     "output_type": "stream",
     "text": [
      "\n",
      "\n",
      "=============================================================================================================================\n",
      "=============================================================================================================================\n",
      "\n"
     ]
    },
    {
     "name": "stderr",
     "output_type": "stream",
     "text": [
      "[Succeeded / Failed / Skipped / Total] 142 / 8 / 60 / 210:  42%|████████▊            | 210/500 [05:53<08:07,  1.68s/it]textattack: Saving checkpoint under \"checkpoints\\1720177681133.ta.chkpt\" at 2024-07-05 19:08:01 after 210 attacks.\n"
     ]
    },
    {
     "name": "stdout",
     "output_type": "stream",
     "text": [
      "\n",
      "\n",
      "=============================================================================================================================\n",
      "=============================================================================================================================\n",
      "\n"
     ]
    },
    {
     "name": "stderr",
     "output_type": "stream",
     "text": [
      "[Succeeded / Failed / Skipped / Total] 144 / 10 / 61 / 215:  43%|████████▌           | 215/500 [06:05<08:03,  1.70s/it]textattack: Saving checkpoint under \"checkpoints\\1720177692950.ta.chkpt\" at 2024-07-05 19:08:12 after 215 attacks.\n"
     ]
    },
    {
     "name": "stdout",
     "output_type": "stream",
     "text": [
      "\n",
      "\n",
      "=============================================================================================================================\n",
      "=============================================================================================================================\n",
      "\n"
     ]
    },
    {
     "name": "stderr",
     "output_type": "stream",
     "text": [
      "[Succeeded / Failed / Skipped / Total] 149 / 10 / 61 / 220:  44%|████████▊           | 220/500 [06:08<07:49,  1.68s/it]textattack: Saving checkpoint under \"checkpoints\\1720177696774.ta.chkpt\" at 2024-07-05 19:08:16 after 220 attacks.\n"
     ]
    },
    {
     "name": "stdout",
     "output_type": "stream",
     "text": [
      "\n",
      "\n",
      "=============================================================================================================================\n",
      "=============================================================================================================================\n",
      "\n"
     ]
    },
    {
     "name": "stderr",
     "output_type": "stream",
     "text": [
      "[Succeeded / Failed / Skipped / Total] 153 / 10 / 62 / 225:  45%|█████████           | 225/500 [06:18<07:42,  1.68s/it]textattack: Saving checkpoint under \"checkpoints\\1720177706555.ta.chkpt\" at 2024-07-05 19:08:26 after 225 attacks.\n"
     ]
    },
    {
     "name": "stdout",
     "output_type": "stream",
     "text": [
      "\n",
      "\n",
      "=============================================================================================================================\n",
      "=============================================================================================================================\n",
      "\n"
     ]
    },
    {
     "name": "stderr",
     "output_type": "stream",
     "text": [
      "[Succeeded / Failed / Skipped / Total] 156 / 10 / 64 / 230:  46%|█████████▏          | 230/500 [06:22<07:29,  1.66s/it]textattack: Saving checkpoint under \"checkpoints\\1720177710600.ta.chkpt\" at 2024-07-05 19:08:30 after 230 attacks.\n",
      "[Succeeded / Failed / Skipped / Total] 156 / 10 / 65 / 231:  46%|█████████▏          | 231/500 [06:22<07:25,  1.66s/it]"
     ]
    },
    {
     "name": "stdout",
     "output_type": "stream",
     "text": [
      "\n",
      "\n",
      "=============================================================================================================================\n",
      "=============================================================================================================================\n",
      "\n"
     ]
    },
    {
     "name": "stderr",
     "output_type": "stream",
     "text": [
      "[Succeeded / Failed / Skipped / Total] 160 / 10 / 65 / 235:  47%|█████████▍          | 235/500 [06:34<07:24,  1.68s/it]textattack: Saving checkpoint under \"checkpoints\\1720177722477.ta.chkpt\" at 2024-07-05 19:08:42 after 235 attacks.\n"
     ]
    },
    {
     "name": "stdout",
     "output_type": "stream",
     "text": [
      "\n",
      "\n",
      "=============================================================================================================================\n",
      "=============================================================================================================================\n",
      "\n"
     ]
    },
    {
     "name": "stderr",
     "output_type": "stream",
     "text": [
      "[Succeeded / Failed / Skipped / Total] 165 / 10 / 65 / 240:  48%|█████████▌          | 240/500 [06:41<07:15,  1.67s/it]textattack: Saving checkpoint under \"checkpoints\\1720177729506.ta.chkpt\" at 2024-07-05 19:08:49 after 240 attacks.\n",
      "[Succeeded / Failed / Skipped / Total] 165 / 10 / 66 / 241:  48%|█████████▋          | 241/500 [06:41<07:11,  1.67s/it]"
     ]
    },
    {
     "name": "stdout",
     "output_type": "stream",
     "text": [
      "\n",
      "\n",
      "=============================================================================================================================\n",
      "=============================================================================================================================\n",
      "\n"
     ]
    },
    {
     "name": "stderr",
     "output_type": "stream",
     "text": [
      "[Succeeded / Failed / Skipped / Total] 169 / 10 / 66 / 245:  49%|█████████▊          | 245/500 [06:54<07:11,  1.69s/it]textattack: Saving checkpoint under \"checkpoints\\1720177742432.ta.chkpt\" at 2024-07-05 19:09:02 after 245 attacks.\n"
     ]
    },
    {
     "name": "stdout",
     "output_type": "stream",
     "text": [
      "\n",
      "\n",
      "=============================================================================================================================\n",
      "=============================================================================================================================\n",
      "\n"
     ]
    },
    {
     "name": "stderr",
     "output_type": "stream",
     "text": [
      "[Succeeded / Failed / Skipped / Total] 172 / 10 / 68 / 250:  50%|██████████          | 250/500 [07:01<07:01,  1.69s/it]textattack: Saving checkpoint under \"checkpoints\\1720177749350.ta.chkpt\" at 2024-07-05 19:09:09 after 250 attacks.\n",
      "[Succeeded / Failed / Skipped / Total] 172 / 10 / 69 / 251:  50%|██████████          | 251/500 [07:01<06:58,  1.68s/it]"
     ]
    },
    {
     "name": "stdout",
     "output_type": "stream",
     "text": [
      "\n",
      "\n",
      "=============================================================================================================================\n",
      "=============================================================================================================================\n",
      "\n"
     ]
    },
    {
     "name": "stderr",
     "output_type": "stream",
     "text": [
      "[Succeeded / Failed / Skipped / Total] 175 / 10 / 70 / 255:  51%|██████████▏         | 255/500 [07:06<06:49,  1.67s/it]textattack: Saving checkpoint under \"checkpoints\\1720177754490.ta.chkpt\" at 2024-07-05 19:09:14 after 255 attacks.\n"
     ]
    },
    {
     "name": "stdout",
     "output_type": "stream",
     "text": [
      "\n",
      "\n",
      "=============================================================================================================================\n",
      "=============================================================================================================================\n",
      "\n"
     ]
    },
    {
     "name": "stderr",
     "output_type": "stream",
     "text": [
      "[Succeeded / Failed / Skipped / Total] 178 / 10 / 72 / 260:  52%|██████████▍         | 260/500 [07:12<06:39,  1.66s/it]textattack: Saving checkpoint under \"checkpoints\\1720177760685.ta.chkpt\" at 2024-07-05 19:09:20 after 260 attacks.\n"
     ]
    },
    {
     "name": "stdout",
     "output_type": "stream",
     "text": [
      "\n",
      "\n",
      "=============================================================================================================================\n",
      "=============================================================================================================================\n",
      "\n"
     ]
    },
    {
     "name": "stderr",
     "output_type": "stream",
     "text": [
      "[Succeeded / Failed / Skipped / Total] 182 / 11 / 72 / 265:  53%|██████████▌         | 265/500 [07:29<06:38,  1.70s/it]textattack: Saving checkpoint under \"checkpoints\\1720177777315.ta.chkpt\" at 2024-07-05 19:09:37 after 265 attacks.\n"
     ]
    },
    {
     "name": "stdout",
     "output_type": "stream",
     "text": [
      "\n",
      "\n",
      "=============================================================================================================================\n",
      "=============================================================================================================================\n",
      "\n"
     ]
    },
    {
     "name": "stderr",
     "output_type": "stream",
     "text": [
      "[Succeeded / Failed / Skipped / Total] 185 / 11 / 74 / 270:  54%|██████████▊         | 270/500 [07:45<06:36,  1.72s/it]textattack: Saving checkpoint under \"checkpoints\\1720177793257.ta.chkpt\" at 2024-07-05 19:09:53 after 270 attacks.\n",
      "[Succeeded / Failed / Skipped / Total] 185 / 11 / 75 / 271:  54%|██████████▊         | 271/500 [07:45<06:33,  1.72s/it]"
     ]
    },
    {
     "name": "stdout",
     "output_type": "stream",
     "text": [
      "\n",
      "\n",
      "=============================================================================================================================\n",
      "=============================================================================================================================\n",
      "\n"
     ]
    },
    {
     "name": "stderr",
     "output_type": "stream",
     "text": [
      "[Succeeded / Failed / Skipped / Total] 187 / 11 / 77 / 275:  55%|███████████         | 275/500 [07:47<06:22,  1.70s/it]textattack: Saving checkpoint under \"checkpoints\\1720177795268.ta.chkpt\" at 2024-07-05 19:09:55 after 275 attacks.\n"
     ]
    },
    {
     "name": "stdout",
     "output_type": "stream",
     "text": [
      "\n",
      "\n",
      "=============================================================================================================================\n",
      "=============================================================================================================================\n",
      "\n"
     ]
    },
    {
     "name": "stderr",
     "output_type": "stream",
     "text": [
      "[Succeeded / Failed / Skipped / Total] 191 / 11 / 78 / 280:  56%|███████████▏        | 280/500 [07:50<06:09,  1.68s/it]textattack: Saving checkpoint under \"checkpoints\\1720177798536.ta.chkpt\" at 2024-07-05 19:09:58 after 280 attacks.\n"
     ]
    },
    {
     "name": "stdout",
     "output_type": "stream",
     "text": [
      "\n",
      "\n",
      "=============================================================================================================================\n",
      "=============================================================================================================================\n",
      "\n"
     ]
    },
    {
     "name": "stderr",
     "output_type": "stream",
     "text": [
      "[Succeeded / Failed / Skipped / Total] 192 / 12 / 81 / 285:  57%|███████████▍        | 285/500 [07:55<05:58,  1.67s/it]textattack: Saving checkpoint under \"checkpoints\\1720177803708.ta.chkpt\" at 2024-07-05 19:10:03 after 285 attacks.\n"
     ]
    },
    {
     "name": "stdout",
     "output_type": "stream",
     "text": [
      "\n",
      "\n",
      "=============================================================================================================================\n",
      "=============================================================================================================================\n",
      "\n"
     ]
    },
    {
     "name": "stderr",
     "output_type": "stream",
     "text": [
      "[Succeeded / Failed / Skipped / Total] 197 / 12 / 81 / 290:  58%|███████████▌        | 290/500 [08:08<05:53,  1.68s/it]textattack: Saving checkpoint under \"checkpoints\\1720177816247.ta.chkpt\" at 2024-07-05 19:10:16 after 290 attacks.\n",
      "[Succeeded / Failed / Skipped / Total] 197 / 12 / 83 / 292:  58%|███████████▋        | 292/500 [08:08<05:47,  1.67s/it]"
     ]
    },
    {
     "name": "stdout",
     "output_type": "stream",
     "text": [
      "\n",
      "\n",
      "=============================================================================================================================\n",
      "=============================================================================================================================\n",
      "\n"
     ]
    },
    {
     "name": "stderr",
     "output_type": "stream",
     "text": [
      "[Succeeded / Failed / Skipped / Total] 200 / 12 / 83 / 295:  59%|███████████▊        | 295/500 [08:12<05:41,  1.67s/it]textattack: Saving checkpoint under \"checkpoints\\1720177819942.ta.chkpt\" at 2024-07-05 19:10:19 after 295 attacks.\n"
     ]
    },
    {
     "name": "stdout",
     "output_type": "stream",
     "text": [
      "\n",
      "\n",
      "=============================================================================================================================\n",
      "=============================================================================================================================\n",
      "\n"
     ]
    },
    {
     "name": "stderr",
     "output_type": "stream",
     "text": [
      "[Succeeded / Failed / Skipped / Total] 205 / 12 / 83 / 300:  60%|████████████        | 300/500 [08:21<05:34,  1.67s/it]textattack: Saving checkpoint under \"checkpoints\\1720177829524.ta.chkpt\" at 2024-07-05 19:10:29 after 300 attacks.\n"
     ]
    },
    {
     "name": "stdout",
     "output_type": "stream",
     "text": [
      "\n",
      "\n",
      "=============================================================================================================================\n",
      "=============================================================================================================================\n",
      "\n"
     ]
    },
    {
     "name": "stderr",
     "output_type": "stream",
     "text": [
      "[Succeeded / Failed / Skipped / Total] 209 / 12 / 84 / 305:  61%|████████████▏       | 305/500 [08:26<05:23,  1.66s/it]textattack: Saving checkpoint under \"checkpoints\\1720177834332.ta.chkpt\" at 2024-07-05 19:10:34 after 305 attacks.\n"
     ]
    },
    {
     "name": "stdout",
     "output_type": "stream",
     "text": [
      "\n",
      "\n",
      "=============================================================================================================================\n",
      "=============================================================================================================================\n",
      "\n"
     ]
    },
    {
     "name": "stderr",
     "output_type": "stream",
     "text": [
      "[Succeeded / Failed / Skipped / Total] 214 / 12 / 84 / 310:  62%|████████████▍       | 310/500 [08:31<05:13,  1.65s/it]textattack: Saving checkpoint under \"checkpoints\\1720177839530.ta.chkpt\" at 2024-07-05 19:10:39 after 310 attacks.\n"
     ]
    },
    {
     "name": "stdout",
     "output_type": "stream",
     "text": [
      "\n",
      "\n",
      "=============================================================================================================================\n",
      "=============================================================================================================================\n",
      "\n"
     ]
    },
    {
     "name": "stderr",
     "output_type": "stream",
     "text": [
      "[Succeeded / Failed / Skipped / Total] 217 / 12 / 86 / 315:  63%|████████████▌       | 315/500 [08:35<05:02,  1.64s/it]textattack: Saving checkpoint under \"checkpoints\\1720177843618.ta.chkpt\" at 2024-07-05 19:10:43 after 315 attacks.\n"
     ]
    },
    {
     "name": "stdout",
     "output_type": "stream",
     "text": [
      "\n",
      "\n",
      "=============================================================================================================================\n",
      "=============================================================================================================================\n",
      "\n"
     ]
    },
    {
     "name": "stderr",
     "output_type": "stream",
     "text": [
      "[Succeeded / Failed / Skipped / Total] 221 / 12 / 87 / 320:  64%|████████████▊       | 320/500 [08:48<04:57,  1.65s/it]textattack: Saving checkpoint under \"checkpoints\\1720177856084.ta.chkpt\" at 2024-07-05 19:10:56 after 320 attacks.\n"
     ]
    },
    {
     "name": "stdout",
     "output_type": "stream",
     "text": [
      "\n",
      "\n",
      "=============================================================================================================================\n",
      "=============================================================================================================================\n",
      "\n"
     ]
    },
    {
     "name": "stderr",
     "output_type": "stream",
     "text": [
      "[Succeeded / Failed / Skipped / Total] 224 / 13 / 88 / 325:  65%|█████████████       | 325/500 [09:04<04:53,  1.68s/it]textattack: Saving checkpoint under \"checkpoints\\1720177872464.ta.chkpt\" at 2024-07-05 19:11:12 after 325 attacks.\n"
     ]
    },
    {
     "name": "stdout",
     "output_type": "stream",
     "text": [
      "\n",
      "\n",
      "=============================================================================================================================\n",
      "=============================================================================================================================\n",
      "\n"
     ]
    },
    {
     "name": "stderr",
     "output_type": "stream",
     "text": [
      "[Succeeded / Failed / Skipped / Total] 228 / 13 / 89 / 330:  66%|█████████████▏      | 330/500 [09:08<04:42,  1.66s/it]textattack: Saving checkpoint under \"checkpoints\\1720177876045.ta.chkpt\" at 2024-07-05 19:11:16 after 330 attacks.\n"
     ]
    },
    {
     "name": "stdout",
     "output_type": "stream",
     "text": [
      "\n",
      "\n",
      "=============================================================================================================================\n",
      "=============================================================================================================================\n",
      "\n"
     ]
    },
    {
     "name": "stderr",
     "output_type": "stream",
     "text": [
      "[Succeeded / Failed / Skipped / Total] 233 / 13 / 89 / 335:  67%|█████████████▍      | 335/500 [09:26<04:38,  1.69s/it]textattack: Saving checkpoint under \"checkpoints\\1720177894165.ta.chkpt\" at 2024-07-05 19:11:34 after 335 attacks.\n",
      "[Succeeded / Failed / Skipped / Total] 233 / 13 / 90 / 336:  67%|█████████████▍      | 336/500 [09:26<04:36,  1.69s/it]"
     ]
    },
    {
     "name": "stdout",
     "output_type": "stream",
     "text": [
      "\n",
      "\n",
      "=============================================================================================================================\n",
      "=============================================================================================================================\n",
      "\n"
     ]
    },
    {
     "name": "stderr",
     "output_type": "stream",
     "text": [
      "[Succeeded / Failed / Skipped / Total] 237 / 13 / 90 / 340:  68%|█████████████▌      | 340/500 [09:31<04:29,  1.68s/it]textattack: Saving checkpoint under \"checkpoints\\1720177899700.ta.chkpt\" at 2024-07-05 19:11:39 after 340 attacks.\n"
     ]
    },
    {
     "name": "stdout",
     "output_type": "stream",
     "text": [
      "\n",
      "\n",
      "=============================================================================================================================\n",
      "=============================================================================================================================\n",
      "\n"
     ]
    },
    {
     "name": "stderr",
     "output_type": "stream",
     "text": [
      "[Succeeded / Failed / Skipped / Total] 241 / 13 / 91 / 345:  69%|█████████████▊      | 345/500 [09:39<04:20,  1.68s/it]textattack: Saving checkpoint under \"checkpoints\\1720177907449.ta.chkpt\" at 2024-07-05 19:11:47 after 345 attacks.\n"
     ]
    },
    {
     "name": "stdout",
     "output_type": "stream",
     "text": [
      "\n",
      "\n",
      "=============================================================================================================================\n",
      "=============================================================================================================================\n",
      "\n"
     ]
    },
    {
     "name": "stderr",
     "output_type": "stream",
     "text": [
      "[Succeeded / Failed / Skipped / Total] 245 / 13 / 92 / 350:  70%|██████████████      | 350/500 [09:45<04:10,  1.67s/it]textattack: Saving checkpoint under \"checkpoints\\1720177913238.ta.chkpt\" at 2024-07-05 19:11:53 after 350 attacks.\n"
     ]
    },
    {
     "name": "stdout",
     "output_type": "stream",
     "text": [
      "\n",
      "\n",
      "=============================================================================================================================\n",
      "=============================================================================================================================\n",
      "\n"
     ]
    },
    {
     "name": "stderr",
     "output_type": "stream",
     "text": [
      "[Succeeded / Failed / Skipped / Total] 248 / 15 / 92 / 355:  71%|██████████████▏     | 355/500 [09:58<04:04,  1.68s/it]textattack: Saving checkpoint under \"checkpoints\\1720177926042.ta.chkpt\" at 2024-07-05 19:12:06 after 355 attacks.\n",
      "[Succeeded / Failed / Skipped / Total] 248 / 15 / 93 / 356:  71%|██████████████▏     | 356/500 [09:58<04:01,  1.68s/it]"
     ]
    },
    {
     "name": "stdout",
     "output_type": "stream",
     "text": [
      "\n",
      "\n",
      "=============================================================================================================================\n",
      "=============================================================================================================================\n",
      "\n"
     ]
    },
    {
     "name": "stderr",
     "output_type": "stream",
     "text": [
      "[Succeeded / Failed / Skipped / Total] 252 / 15 / 93 / 360:  72%|██████████████▍     | 360/500 [10:13<03:58,  1.70s/it]textattack: Saving checkpoint under \"checkpoints\\1720177941717.ta.chkpt\" at 2024-07-05 19:12:21 after 360 attacks.\n"
     ]
    },
    {
     "name": "stdout",
     "output_type": "stream",
     "text": [
      "\n",
      "\n",
      "=============================================================================================================================\n",
      "=============================================================================================================================\n",
      "\n"
     ]
    },
    {
     "name": "stderr",
     "output_type": "stream",
     "text": [
      "[Succeeded / Failed / Skipped / Total] 257 / 15 / 93 / 365:  73%|██████████████▌     | 365/500 [10:20<03:49,  1.70s/it]textattack: Saving checkpoint under \"checkpoints\\1720177948461.ta.chkpt\" at 2024-07-05 19:12:28 after 365 attacks.\n",
      "[Succeeded / Failed / Skipped / Total] 257 / 15 / 94 / 366:  73%|██████████████▋     | 366/500 [10:20<03:47,  1.70s/it]"
     ]
    },
    {
     "name": "stdout",
     "output_type": "stream",
     "text": [
      "\n",
      "\n",
      "=============================================================================================================================\n",
      "=============================================================================================================================\n",
      "\n"
     ]
    },
    {
     "name": "stderr",
     "output_type": "stream",
     "text": [
      "[Succeeded / Failed / Skipped / Total] 260 / 15 / 95 / 370:  74%|██████████████▊     | 370/500 [10:24<03:39,  1.69s/it]textattack: Saving checkpoint under \"checkpoints\\1720177952833.ta.chkpt\" at 2024-07-05 19:12:32 after 370 attacks.\n",
      "[Succeeded / Failed / Skipped / Total] 260 / 15 / 96 / 371:  74%|██████████████▊     | 371/500 [10:24<03:37,  1.68s/it]"
     ]
    },
    {
     "name": "stdout",
     "output_type": "stream",
     "text": [
      "\n",
      "\n",
      "=============================================================================================================================\n",
      "=============================================================================================================================\n",
      "\n"
     ]
    },
    {
     "name": "stderr",
     "output_type": "stream",
     "text": [
      "[Succeeded / Failed / Skipped / Total] 263 / 15 / 97 / 375:  75%|███████████████     | 375/500 [10:35<03:31,  1.69s/it]textattack: Saving checkpoint under \"checkpoints\\1720177963234.ta.chkpt\" at 2024-07-05 19:12:43 after 375 attacks.\n"
     ]
    },
    {
     "name": "stdout",
     "output_type": "stream",
     "text": [
      "\n",
      "\n",
      "=============================================================================================================================\n",
      "=============================================================================================================================\n",
      "\n"
     ]
    },
    {
     "name": "stderr",
     "output_type": "stream",
     "text": [
      "[Succeeded / Failed / Skipped / Total] 266 / 15 / 99 / 380:  76%|███████████████▏    | 380/500 [10:40<03:22,  1.69s/it]textattack: Saving checkpoint under \"checkpoints\\1720177968379.ta.chkpt\" at 2024-07-05 19:12:48 after 380 attacks.\n"
     ]
    },
    {
     "name": "stdout",
     "output_type": "stream",
     "text": [
      "\n",
      "\n",
      "=============================================================================================================================\n",
      "=============================================================================================================================\n",
      "\n"
     ]
    },
    {
     "name": "stderr",
     "output_type": "stream",
     "text": [
      "[Succeeded / Failed / Skipped / Total] 271 / 15 / 99 / 385:  77%|███████████████▍    | 385/500 [10:48<03:13,  1.68s/it]textattack: Saving checkpoint under \"checkpoints\\1720177976253.ta.chkpt\" at 2024-07-05 19:12:56 after 385 attacks.\n"
     ]
    },
    {
     "name": "stdout",
     "output_type": "stream",
     "text": [
      "\n",
      "\n",
      "=============================================================================================================================\n",
      "=============================================================================================================================\n",
      "\n"
     ]
    },
    {
     "name": "stderr",
     "output_type": "stream",
     "text": [
      "[Succeeded / Failed / Skipped / Total] 275 / 15 / 100 / 390:  78%|██████████████▊    | 390/500 [10:51<03:03,  1.67s/it]textattack: Saving checkpoint under \"checkpoints\\1720177979453.ta.chkpt\" at 2024-07-05 19:12:59 after 390 attacks.\n"
     ]
    },
    {
     "name": "stdout",
     "output_type": "stream",
     "text": [
      "\n",
      "\n",
      "=============================================================================================================================\n",
      "=============================================================================================================================\n",
      "\n"
     ]
    },
    {
     "name": "stderr",
     "output_type": "stream",
     "text": [
      "[Succeeded / Failed / Skipped / Total] 279 / 15 / 101 / 395:  79%|███████████████    | 395/500 [11:02<02:56,  1.68s/it]textattack: Saving checkpoint under \"checkpoints\\1720177990109.ta.chkpt\" at 2024-07-05 19:13:10 after 395 attacks.\n"
     ]
    },
    {
     "name": "stdout",
     "output_type": "stream",
     "text": [
      "\n",
      "\n",
      "=============================================================================================================================\n",
      "=============================================================================================================================\n",
      "\n"
     ]
    },
    {
     "name": "stderr",
     "output_type": "stream",
     "text": [
      "[Succeeded / Failed / Skipped / Total] 284 / 15 / 101 / 400:  80%|███████████████▏   | 400/500 [11:10<02:47,  1.68s/it]textattack: Saving checkpoint under \"checkpoints\\1720177998005.ta.chkpt\" at 2024-07-05 19:13:18 after 400 attacks.\n"
     ]
    },
    {
     "name": "stdout",
     "output_type": "stream",
     "text": [
      "\n",
      "\n",
      "=============================================================================================================================\n",
      "=============================================================================================================================\n",
      "\n"
     ]
    },
    {
     "name": "stderr",
     "output_type": "stream",
     "text": [
      "[Succeeded / Failed / Skipped / Total] 288 / 15 / 102 / 405:  81%|███████████████▍   | 405/500 [11:21<02:39,  1.68s/it]textattack: Saving checkpoint under \"checkpoints\\1720178009510.ta.chkpt\" at 2024-07-05 19:13:29 after 405 attacks.\n"
     ]
    },
    {
     "name": "stdout",
     "output_type": "stream",
     "text": [
      "\n",
      "\n",
      "=============================================================================================================================\n",
      "=============================================================================================================================\n",
      "\n"
     ]
    },
    {
     "name": "stderr",
     "output_type": "stream",
     "text": [
      "[Succeeded / Failed / Skipped / Total] 293 / 15 / 102 / 410:  82%|███████████████▌   | 410/500 [11:32<02:31,  1.69s/it]textattack: Saving checkpoint under \"checkpoints\\1720178019982.ta.chkpt\" at 2024-07-05 19:13:39 after 410 attacks.\n"
     ]
    },
    {
     "name": "stdout",
     "output_type": "stream",
     "text": [
      "\n",
      "\n",
      "=============================================================================================================================\n",
      "=============================================================================================================================\n",
      "\n"
     ]
    },
    {
     "name": "stderr",
     "output_type": "stream",
     "text": [
      "[Succeeded / Failed / Skipped / Total] 296 / 15 / 104 / 415:  83%|███████████████▊   | 415/500 [11:36<02:22,  1.68s/it]textattack: Saving checkpoint under \"checkpoints\\1720178023961.ta.chkpt\" at 2024-07-05 19:13:43 after 415 attacks.\n"
     ]
    },
    {
     "name": "stdout",
     "output_type": "stream",
     "text": [
      "\n",
      "\n",
      "=============================================================================================================================\n",
      "=============================================================================================================================\n",
      "\n"
     ]
    },
    {
     "name": "stderr",
     "output_type": "stream",
     "text": [
      "[Succeeded / Failed / Skipped / Total] 298 / 17 / 105 / 420:  84%|███████████████▉   | 420/500 [11:55<02:16,  1.70s/it]textattack: Saving checkpoint under \"checkpoints\\1720178043487.ta.chkpt\" at 2024-07-05 19:14:03 after 420 attacks.\n"
     ]
    },
    {
     "name": "stdout",
     "output_type": "stream",
     "text": [
      "\n",
      "\n",
      "=============================================================================================================================\n",
      "=============================================================================================================================\n",
      "\n"
     ]
    },
    {
     "name": "stderr",
     "output_type": "stream",
     "text": [
      "[Succeeded / Failed / Skipped / Total] 302 / 17 / 106 / 425:  85%|████████████████▏  | 425/500 [12:01<02:07,  1.70s/it]textattack: Saving checkpoint under \"checkpoints\\1720178049047.ta.chkpt\" at 2024-07-05 19:14:09 after 425 attacks.\n"
     ]
    },
    {
     "name": "stdout",
     "output_type": "stream",
     "text": [
      "\n",
      "\n",
      "=============================================================================================================================\n",
      "=============================================================================================================================\n",
      "\n"
     ]
    },
    {
     "name": "stderr",
     "output_type": "stream",
     "text": [
      "[Succeeded / Failed / Skipped / Total] 306 / 17 / 107 / 430:  86%|████████████████▎  | 430/500 [12:07<01:58,  1.69s/it]textattack: Saving checkpoint under \"checkpoints\\1720178054972.ta.chkpt\" at 2024-07-05 19:14:14 after 430 attacks.\n",
      "[Succeeded / Failed / Skipped / Total] 306 / 17 / 108 / 431:  86%|████████████████▍  | 431/500 [12:07<01:56,  1.69s/it]"
     ]
    },
    {
     "name": "stdout",
     "output_type": "stream",
     "text": [
      "\n",
      "\n",
      "=============================================================================================================================\n",
      "=============================================================================================================================\n",
      "\n"
     ]
    },
    {
     "name": "stderr",
     "output_type": "stream",
     "text": [
      "[Succeeded / Failed / Skipped / Total] 310 / 17 / 108 / 435:  87%|████████████████▌  | 435/500 [12:11<01:49,  1.68s/it]textattack: Saving checkpoint under \"checkpoints\\1720178058956.ta.chkpt\" at 2024-07-05 19:14:18 after 435 attacks.\n"
     ]
    },
    {
     "name": "stdout",
     "output_type": "stream",
     "text": [
      "\n",
      "\n",
      "=============================================================================================================================\n",
      "=============================================================================================================================\n",
      "\n"
     ]
    },
    {
     "name": "stderr",
     "output_type": "stream",
     "text": [
      "[Succeeded / Failed / Skipped / Total] 315 / 17 / 108 / 440:  88%|████████████████▋  | 440/500 [12:26<01:41,  1.70s/it]textattack: Saving checkpoint under \"checkpoints\\1720178074847.ta.chkpt\" at 2024-07-05 19:14:34 after 440 attacks.\n",
      "[Succeeded / Failed / Skipped / Total] 315 / 17 / 109 / 441:  88%|████████████████▊  | 441/500 [12:26<01:39,  1.69s/it]"
     ]
    },
    {
     "name": "stdout",
     "output_type": "stream",
     "text": [
      "\n",
      "\n",
      "=============================================================================================================================\n",
      "=============================================================================================================================\n",
      "\n"
     ]
    },
    {
     "name": "stderr",
     "output_type": "stream",
     "text": [
      "[Succeeded / Failed / Skipped / Total] 319 / 17 / 109 / 445:  89%|████████████████▉  | 445/500 [12:32<01:32,  1.69s/it]textattack: Saving checkpoint under \"checkpoints\\1720178080252.ta.chkpt\" at 2024-07-05 19:14:40 after 445 attacks.\n"
     ]
    },
    {
     "name": "stdout",
     "output_type": "stream",
     "text": [
      "\n",
      "\n",
      "=============================================================================================================================\n",
      "=============================================================================================================================\n",
      "\n"
     ]
    },
    {
     "name": "stderr",
     "output_type": "stream",
     "text": [
      "[Succeeded / Failed / Skipped / Total] 320 / 19 / 111 / 450:  90%|█████████████████  | 450/500 [12:44<01:24,  1.70s/it]textattack: Saving checkpoint under \"checkpoints\\1720178091967.ta.chkpt\" at 2024-07-05 19:14:51 after 450 attacks.\n",
      "[Succeeded / Failed / Skipped / Total] 320 / 19 / 112 / 451:  90%|█████████████████▏ | 451/500 [12:44<01:23,  1.69s/it]"
     ]
    },
    {
     "name": "stdout",
     "output_type": "stream",
     "text": [
      "\n",
      "\n",
      "=============================================================================================================================\n",
      "=============================================================================================================================\n",
      "\n"
     ]
    },
    {
     "name": "stderr",
     "output_type": "stream",
     "text": [
      "[Succeeded / Failed / Skipped / Total] 323 / 19 / 113 / 455:  91%|█████████████████▎ | 455/500 [12:49<01:16,  1.69s/it]textattack: Saving checkpoint under \"checkpoints\\1720178097784.ta.chkpt\" at 2024-07-05 19:14:57 after 455 attacks.\n"
     ]
    },
    {
     "name": "stdout",
     "output_type": "stream",
     "text": [
      "\n",
      "\n",
      "=============================================================================================================================\n",
      "=============================================================================================================================\n",
      "\n"
     ]
    },
    {
     "name": "stderr",
     "output_type": "stream",
     "text": [
      "[Succeeded / Failed / Skipped / Total] 327 / 19 / 114 / 460:  92%|█████████████████▍ | 460/500 [12:58<01:07,  1.69s/it]textattack: Saving checkpoint under \"checkpoints\\1720178106099.ta.chkpt\" at 2024-07-05 19:15:06 after 460 attacks.\n"
     ]
    },
    {
     "name": "stdout",
     "output_type": "stream",
     "text": [
      "\n",
      "\n",
      "=============================================================================================================================\n",
      "=============================================================================================================================\n",
      "\n"
     ]
    },
    {
     "name": "stderr",
     "output_type": "stream",
     "text": [
      "[Succeeded / Failed / Skipped / Total] 330 / 19 / 116 / 465:  93%|█████████████████▋ | 465/500 [13:10<00:59,  1.70s/it]textattack: Saving checkpoint under \"checkpoints\\1720178118841.ta.chkpt\" at 2024-07-05 19:15:18 after 465 attacks.\n",
      "[Succeeded / Failed / Skipped / Total] 330 / 19 / 117 / 466:  93%|█████████████████▋ | 466/500 [13:10<00:57,  1.70s/it]"
     ]
    },
    {
     "name": "stdout",
     "output_type": "stream",
     "text": [
      "\n",
      "\n",
      "=============================================================================================================================\n",
      "=============================================================================================================================\n",
      "\n"
     ]
    },
    {
     "name": "stderr",
     "output_type": "stream",
     "text": [
      "[Succeeded / Failed / Skipped / Total] 334 / 19 / 117 / 470:  94%|█████████████████▊ | 470/500 [13:14<00:50,  1.69s/it]textattack: Saving checkpoint under \"checkpoints\\1720178122506.ta.chkpt\" at 2024-07-05 19:15:22 after 470 attacks.\n"
     ]
    },
    {
     "name": "stdout",
     "output_type": "stream",
     "text": [
      "\n",
      "\n",
      "=============================================================================================================================\n",
      "=============================================================================================================================\n",
      "\n"
     ]
    },
    {
     "name": "stderr",
     "output_type": "stream",
     "text": [
      "[Succeeded / Failed / Skipped / Total] 339 / 19 / 117 / 475:  95%|██████████████████ | 475/500 [13:28<00:42,  1.70s/it]textattack: Saving checkpoint under \"checkpoints\\1720178136091.ta.chkpt\" at 2024-07-05 19:15:36 after 475 attacks.\n"
     ]
    },
    {
     "name": "stdout",
     "output_type": "stream",
     "text": [
      "\n",
      "\n",
      "=============================================================================================================================\n",
      "=============================================================================================================================\n",
      "\n"
     ]
    },
    {
     "name": "stderr",
     "output_type": "stream",
     "text": [
      "[Succeeded / Failed / Skipped / Total] 344 / 19 / 117 / 480:  96%|██████████████████▏| 480/500 [13:32<00:33,  1.69s/it]textattack: Saving checkpoint under \"checkpoints\\1720178140559.ta.chkpt\" at 2024-07-05 19:15:40 after 480 attacks.\n"
     ]
    },
    {
     "name": "stdout",
     "output_type": "stream",
     "text": [
      "\n",
      "\n",
      "=============================================================================================================================\n",
      "=============================================================================================================================\n",
      "\n"
     ]
    },
    {
     "name": "stderr",
     "output_type": "stream",
     "text": [
      "[Succeeded / Failed / Skipped / Total] 349 / 19 / 117 / 485:  97%|██████████████████▍| 485/500 [13:40<00:25,  1.69s/it]textattack: Saving checkpoint under \"checkpoints\\1720178148167.ta.chkpt\" at 2024-07-05 19:15:48 after 485 attacks.\n"
     ]
    },
    {
     "name": "stdout",
     "output_type": "stream",
     "text": [
      "\n",
      "\n",
      "=============================================================================================================================\n",
      "=============================================================================================================================\n",
      "\n"
     ]
    },
    {
     "name": "stderr",
     "output_type": "stream",
     "text": [
      "[Succeeded / Failed / Skipped / Total] 353 / 19 / 118 / 490:  98%|██████████████████▌| 490/500 [13:49<00:16,  1.69s/it]textattack: Saving checkpoint under \"checkpoints\\1720178157467.ta.chkpt\" at 2024-07-05 19:15:57 after 490 attacks.\n",
      "[Succeeded / Failed / Skipped / Total] 353 / 19 / 119 / 491:  98%|██████████████████▋| 491/500 [13:49<00:15,  1.69s/it]"
     ]
    },
    {
     "name": "stdout",
     "output_type": "stream",
     "text": [
      "\n",
      "\n",
      "=============================================================================================================================\n",
      "=============================================================================================================================\n",
      "\n"
     ]
    },
    {
     "name": "stderr",
     "output_type": "stream",
     "text": [
      "[Succeeded / Failed / Skipped / Total] 356 / 19 / 120 / 495:  99%|██████████████████▊| 495/500 [13:53<00:08,  1.68s/it]textattack: Saving checkpoint under \"checkpoints\\1720178161900.ta.chkpt\" at 2024-07-05 19:16:01 after 495 attacks.\n"
     ]
    },
    {
     "name": "stdout",
     "output_type": "stream",
     "text": [
      "\n",
      "\n",
      "=============================================================================================================================\n",
      "=============================================================================================================================\n",
      "\n"
     ]
    },
    {
     "name": "stderr",
     "output_type": "stream",
     "text": [
      "[Succeeded / Failed / Skipped / Total] 361 / 19 / 120 / 500: 100%|███████████████████| 500/500 [14:04<00:00,  1.69s/it]textattack: Saving checkpoint under \"checkpoints\\1720178172856.ta.chkpt\" at 2024-07-05 19:16:12 after 500 attacks.\n",
      "[Succeeded / Failed / Skipped / Total] 361 / 19 / 120 / 500: 100%|███████████████████| 500/500 [14:04<00:00,  1.69s/it]"
     ]
    },
    {
     "name": "stdout",
     "output_type": "stream",
     "text": [
      "\n",
      "\n",
      "=============================================================================================================================\n",
      "=============================================================================================================================\n",
      "\n",
      "\n",
      "+-------------------------------+-------+\n",
      "| Attack Results                |       |\n",
      "+-------------------------------+-------+\n",
      "| Number of successful attacks: | 361   |\n",
      "| Number of failed attacks:     | 19    |\n",
      "| Number of skipped attacks:    | 120   |\n",
      "| Original accuracy:            | 76.0% |\n",
      "| Accuracy under attack:        | 3.8%  |\n",
      "| Attack success rate:          | 95.0% |\n",
      "| Average perturbed word %:     | 16.3% |\n",
      "| Average num. words per input: | 18.4  |\n",
      "| Avg num queries:              | 89.19 |\n",
      "+-------------------------------+-------+\n"
     ]
    },
    {
     "name": "stderr",
     "output_type": "stream",
     "text": [
      "\n"
     ]
    }
   ],
   "source": [
    "runAttack(disbert_model_wrapper_rf_mr, n_samples, 'attack_results_new/disbertmrattackrf'+suffix, target_ds_mr)"
   ]
  },
  {
   "cell_type": "code",
   "execution_count": 22,
   "id": "006c3e60-dada-40b1-ab23-2ff6171400d3",
   "metadata": {},
   "outputs": [
    {
     "name": "stderr",
     "output_type": "stream",
     "text": [
      "textattack: Unknown if model of class <class 'transformers.models.distilbert.modeling_distilbert.DistilBertModel'> compatible with goal function <class 'textattack.goal_functions.classification.untargeted_classification.UntargetedClassification'>.\n",
      "textattack: Logging to CSV at path attack_results_new/disbertmrattackknnsim05.csv\n"
     ]
    },
    {
     "name": "stdout",
     "output_type": "stream",
     "text": [
      "Attack(\n",
      "  (search_method): GreedyWordSwapWIR(\n",
      "    (wir_method):  delete\n",
      "  )\n",
      "  (goal_function):  UntargetedClassification\n",
      "  (transformation):  WordSwapEmbedding(\n",
      "    (max_candidates):  50\n",
      "    (embedding):  WordEmbedding\n",
      "  )\n",
      "  (constraints): \n",
      "    (0): WordEmbeddingDistance(\n",
      "        (embedding):  WordEmbedding\n",
      "        (min_cos_sim):  0.5\n",
      "        (cased):  False\n",
      "        (include_unknown_words):  True\n",
      "        (compare_against_original):  True\n",
      "      )\n",
      "    (1): PartOfSpeech(\n",
      "        (tagger_type):  nltk\n",
      "        (tagset):  universal\n",
      "        (allow_verb_noun_swap):  True\n",
      "        (compare_against_original):  True\n",
      "      )\n",
      "    (2): UniversalSentenceEncoder(\n",
      "        (metric):  angular\n",
      "        (threshold):  0.840845057\n",
      "        (window_size):  15\n",
      "        (skip_text_shorter_than_window):  True\n",
      "        (compare_against_original):  False\n",
      "      )\n",
      "    (3): RepeatModification\n",
      "    (4): StopwordModification\n",
      "    (5): InputColumnModification(\n",
      "        (matching_column_labels):  ['premise', 'hypothesis']\n",
      "        (columns_to_ignore):  {'premise'}\n",
      "      )\n",
      "  (is_black_box):  True\n",
      ") \n",
      "\n"
     ]
    },
    {
     "name": "stderr",
     "output_type": "stream",
     "text": [
      "[Succeeded / Failed / Skipped / Total] 5 / 0 / 0 / 5:   1%|▎                           | 5/500 [00:23<37:59,  4.60s/it]textattack: Saving checkpoint under \"checkpoints\\1720178195963.ta.chkpt\" at 2024-07-05 19:16:35 after 5 attacks.\n",
      "[Succeeded / Failed / Skipped / Total] 5 / 0 / 1 / 6:   1%|▎                           | 6/500 [00:23<31:48,  3.86s/it]"
     ]
    },
    {
     "name": "stdout",
     "output_type": "stream",
     "text": [
      "\n",
      "\n",
      "=============================================================================================================================\n",
      "=============================================================================================================================\n",
      "\n"
     ]
    },
    {
     "name": "stderr",
     "output_type": "stream",
     "text": [
      "[Succeeded / Failed / Skipped / Total] 7 / 1 / 2 / 10:   2%|▌                         | 10/500 [00:32<26:49,  3.29s/it]textattack: Saving checkpoint under \"checkpoints\\1720178205797.ta.chkpt\" at 2024-07-05 19:16:45 after 10 attacks.\n"
     ]
    },
    {
     "name": "stdout",
     "output_type": "stream",
     "text": [
      "\n",
      "\n",
      "=============================================================================================================================\n",
      "=============================================================================================================================\n",
      "\n"
     ]
    },
    {
     "name": "stderr",
     "output_type": "stream",
     "text": [
      "[Succeeded / Failed / Skipped / Total] 11 / 1 / 3 / 15:   3%|▊                        | 15/500 [00:40<22:05,  2.73s/it]textattack: Saving checkpoint under \"checkpoints\\1720178213927.ta.chkpt\" at 2024-07-05 19:16:53 after 15 attacks.\n"
     ]
    },
    {
     "name": "stdout",
     "output_type": "stream",
     "text": [
      "\n",
      "\n",
      "=============================================================================================================================\n",
      "=============================================================================================================================\n",
      "\n"
     ]
    },
    {
     "name": "stderr",
     "output_type": "stream",
     "text": [
      "[Succeeded / Failed / Skipped / Total] 14 / 2 / 4 / 20:   4%|█                        | 20/500 [00:46<18:26,  2.30s/it]textattack: Saving checkpoint under \"checkpoints\\1720178219038.ta.chkpt\" at 2024-07-05 19:16:59 after 20 attacks.\n"
     ]
    },
    {
     "name": "stdout",
     "output_type": "stream",
     "text": [
      "\n",
      "\n",
      "=============================================================================================================================\n",
      "=============================================================================================================================\n",
      "\n"
     ]
    },
    {
     "name": "stderr",
     "output_type": "stream",
     "text": [
      "[Succeeded / Failed / Skipped / Total] 18 / 2 / 5 / 25:   5%|█▎                       | 25/500 [00:50<16:02,  2.03s/it]textattack: Saving checkpoint under \"checkpoints\\1720178223616.ta.chkpt\" at 2024-07-05 19:17:03 after 25 attacks.\n"
     ]
    },
    {
     "name": "stdout",
     "output_type": "stream",
     "text": [
      "\n",
      "\n",
      "=============================================================================================================================\n",
      "=============================================================================================================================\n",
      "\n"
     ]
    },
    {
     "name": "stderr",
     "output_type": "stream",
     "text": [
      "[Succeeded / Failed / Skipped / Total] 21 / 3 / 6 / 30:   6%|█▌                       | 30/500 [01:06<17:25,  2.22s/it]textattack: Saving checkpoint under \"checkpoints\\1720178239690.ta.chkpt\" at 2024-07-05 19:17:19 after 30 attacks.\n"
     ]
    },
    {
     "name": "stdout",
     "output_type": "stream",
     "text": [
      "\n",
      "\n",
      "=============================================================================================================================\n",
      "=============================================================================================================================\n",
      "\n"
     ]
    },
    {
     "name": "stderr",
     "output_type": "stream",
     "text": [
      "[Succeeded / Failed / Skipped / Total] 24 / 3 / 8 / 35:   7%|█▊                       | 35/500 [01:08<15:08,  1.95s/it]textattack: Saving checkpoint under \"checkpoints\\1720178241291.ta.chkpt\" at 2024-07-05 19:17:21 after 35 attacks.\n"
     ]
    },
    {
     "name": "stdout",
     "output_type": "stream",
     "text": [
      "\n",
      "\n",
      "=============================================================================================================================\n",
      "=============================================================================================================================\n",
      "\n"
     ]
    },
    {
     "name": "stderr",
     "output_type": "stream",
     "text": [
      "[Succeeded / Failed / Skipped / Total] 26 / 3 / 11 / 40:   8%|█▉                      | 40/500 [01:10<13:31,  1.77s/it]textattack: Saving checkpoint under \"checkpoints\\1720178243548.ta.chkpt\" at 2024-07-05 19:17:23 after 40 attacks.\n"
     ]
    },
    {
     "name": "stdout",
     "output_type": "stream",
     "text": [
      "\n",
      "\n",
      "=============================================================================================================================\n",
      "=============================================================================================================================\n",
      "\n"
     ]
    },
    {
     "name": "stderr",
     "output_type": "stream",
     "text": [
      "[Succeeded / Failed / Skipped / Total] 30 / 3 / 12 / 45:   9%|██▏                     | 45/500 [01:18<13:09,  1.73s/it]textattack: Saving checkpoint under \"checkpoints\\1720178250991.ta.chkpt\" at 2024-07-05 19:17:30 after 45 attacks.\n",
      "[Succeeded / Failed / Skipped / Total] 30 / 3 / 13 / 46:   9%|██▏                     | 46/500 [01:18<12:51,  1.70s/it]"
     ]
    },
    {
     "name": "stdout",
     "output_type": "stream",
     "text": [
      "\n",
      "\n",
      "=============================================================================================================================\n",
      "=============================================================================================================================\n",
      "\n"
     ]
    },
    {
     "name": "stderr",
     "output_type": "stream",
     "text": [
      "[Succeeded / Failed / Skipped / Total] 34 / 3 / 13 / 50:  10%|██▍                     | 50/500 [01:25<12:48,  1.71s/it]textattack: Saving checkpoint under \"checkpoints\\1720178258303.ta.chkpt\" at 2024-07-05 19:17:38 after 50 attacks.\n"
     ]
    },
    {
     "name": "stdout",
     "output_type": "stream",
     "text": [
      "\n",
      "\n",
      "=============================================================================================================================\n",
      "=============================================================================================================================\n",
      "\n"
     ]
    },
    {
     "name": "stderr",
     "output_type": "stream",
     "text": [
      "[Succeeded / Failed / Skipped / Total] 38 / 3 / 14 / 55:  11%|██▋                     | 55/500 [01:31<12:22,  1.67s/it]textattack: Saving checkpoint under \"checkpoints\\1720178264664.ta.chkpt\" at 2024-07-05 19:17:44 after 55 attacks.\n"
     ]
    },
    {
     "name": "stdout",
     "output_type": "stream",
     "text": [
      "\n",
      "\n",
      "=============================================================================================================================\n",
      "=============================================================================================================================\n",
      "\n"
     ]
    },
    {
     "name": "stderr",
     "output_type": "stream",
     "text": [
      "[Succeeded / Failed / Skipped / Total] 42 / 3 / 15 / 60:  12%|██▉                     | 60/500 [01:36<11:45,  1.60s/it]textattack: Saving checkpoint under \"checkpoints\\1720178269198.ta.chkpt\" at 2024-07-05 19:17:49 after 60 attacks.\n",
      "[Succeeded / Failed / Skipped / Total] 42 / 3 / 17 / 62:  12%|██▉                     | 62/500 [01:36<11:20,  1.55s/it]"
     ]
    },
    {
     "name": "stdout",
     "output_type": "stream",
     "text": [
      "\n",
      "\n",
      "=============================================================================================================================\n",
      "=============================================================================================================================\n",
      "\n"
     ]
    },
    {
     "name": "stderr",
     "output_type": "stream",
     "text": [
      "[Succeeded / Failed / Skipped / Total] 44 / 3 / 18 / 65:  13%|███                     | 65/500 [01:38<10:58,  1.51s/it]textattack: Saving checkpoint under \"checkpoints\\1720178271305.ta.chkpt\" at 2024-07-05 19:17:51 after 65 attacks.\n"
     ]
    },
    {
     "name": "stdout",
     "output_type": "stream",
     "text": [
      "\n",
      "\n",
      "=============================================================================================================================\n",
      "=============================================================================================================================\n",
      "\n"
     ]
    },
    {
     "name": "stderr",
     "output_type": "stream",
     "text": [
      "[Succeeded / Failed / Skipped / Total] 48 / 3 / 19 / 70:  14%|███▎                    | 70/500 [01:43<10:33,  1.47s/it]textattack: Saving checkpoint under \"checkpoints\\1720178275997.ta.chkpt\" at 2024-07-05 19:17:55 after 70 attacks.\n"
     ]
    },
    {
     "name": "stdout",
     "output_type": "stream",
     "text": [
      "\n",
      "\n",
      "=============================================================================================================================\n",
      "=============================================================================================================================\n",
      "\n"
     ]
    },
    {
     "name": "stderr",
     "output_type": "stream",
     "text": [
      "[Succeeded / Failed / Skipped / Total] 52 / 3 / 20 / 75:  15%|███▌                    | 75/500 [01:46<10:04,  1.42s/it]textattack: Saving checkpoint under \"checkpoints\\1720178279619.ta.chkpt\" at 2024-07-05 19:17:59 after 75 attacks.\n",
      "[Succeeded / Failed / Skipped / Total] 52 / 3 / 21 / 76:  15%|███▋                    | 76/500 [01:46<09:55,  1.40s/it]"
     ]
    },
    {
     "name": "stdout",
     "output_type": "stream",
     "text": [
      "\n",
      "\n",
      "=============================================================================================================================\n",
      "=============================================================================================================================\n",
      "\n"
     ]
    },
    {
     "name": "stderr",
     "output_type": "stream",
     "text": [
      "[Succeeded / Failed / Skipped / Total] 55 / 3 / 22 / 80:  16%|███▊                    | 80/500 [01:50<09:39,  1.38s/it]textattack: Saving checkpoint under \"checkpoints\\1720178283228.ta.chkpt\" at 2024-07-05 19:18:03 after 80 attacks.\n",
      "[Succeeded / Failed / Skipped / Total] 55 / 3 / 24 / 82:  16%|███▉                    | 82/500 [01:50<09:22,  1.35s/it]"
     ]
    },
    {
     "name": "stdout",
     "output_type": "stream",
     "text": [
      "\n",
      "\n",
      "=============================================================================================================================\n",
      "=============================================================================================================================\n",
      "\n"
     ]
    },
    {
     "name": "stderr",
     "output_type": "stream",
     "text": [
      "[Succeeded / Failed / Skipped / Total] 57 / 3 / 25 / 85:  17%|████                    | 85/500 [01:54<09:19,  1.35s/it]textattack: Saving checkpoint under \"checkpoints\\1720178287550.ta.chkpt\" at 2024-07-05 19:18:07 after 85 attacks.\n",
      "[Succeeded / Failed / Skipped / Total] 57 / 3 / 27 / 87:  17%|████▏                   | 87/500 [01:54<09:04,  1.32s/it]"
     ]
    },
    {
     "name": "stdout",
     "output_type": "stream",
     "text": [
      "\n",
      "\n",
      "=============================================================================================================================\n",
      "=============================================================================================================================\n",
      "\n"
     ]
    },
    {
     "name": "stderr",
     "output_type": "stream",
     "text": [
      "[Succeeded / Failed / Skipped / Total] 59 / 3 / 28 / 90:  18%|████▎                   | 90/500 [01:56<08:50,  1.30s/it]textattack: Saving checkpoint under \"checkpoints\\1720178289501.ta.chkpt\" at 2024-07-05 19:18:09 after 90 attacks.\n"
     ]
    },
    {
     "name": "stdout",
     "output_type": "stream",
     "text": [
      "\n",
      "\n",
      "=============================================================================================================================\n",
      "=============================================================================================================================\n",
      "\n"
     ]
    },
    {
     "name": "stderr",
     "output_type": "stream",
     "text": [
      "[Succeeded / Failed / Skipped / Total] 61 / 3 / 31 / 95:  19%|████▌                   | 95/500 [01:58<08:25,  1.25s/it]textattack: Saving checkpoint under \"checkpoints\\1720178291432.ta.chkpt\" at 2024-07-05 19:18:11 after 95 attacks.\n"
     ]
    },
    {
     "name": "stdout",
     "output_type": "stream",
     "text": [
      "\n",
      "\n",
      "=============================================================================================================================\n",
      "=============================================================================================================================\n",
      "\n"
     ]
    },
    {
     "name": "stderr",
     "output_type": "stream",
     "text": [
      "[Succeeded / Failed / Skipped / Total] 66 / 3 / 31 / 100:  20%|████▍                 | 100/500 [02:03<08:13,  1.23s/it]textattack: Saving checkpoint under \"checkpoints\\1720178296221.ta.chkpt\" at 2024-07-05 19:18:16 after 100 attacks.\n"
     ]
    },
    {
     "name": "stdout",
     "output_type": "stream",
     "text": [
      "\n",
      "\n",
      "=============================================================================================================================\n",
      "=============================================================================================================================\n",
      "\n"
     ]
    },
    {
     "name": "stderr",
     "output_type": "stream",
     "text": [
      "[Succeeded / Failed / Skipped / Total] 70 / 3 / 32 / 105:  21%|████▌                 | 105/500 [02:11<08:15,  1.25s/it]textattack: Saving checkpoint under \"checkpoints\\1720178304632.ta.chkpt\" at 2024-07-05 19:18:24 after 105 attacks.\n",
      "[Succeeded / Failed / Skipped / Total] 70 / 3 / 33 / 106:  21%|████▋                 | 106/500 [02:11<08:09,  1.24s/it]"
     ]
    },
    {
     "name": "stdout",
     "output_type": "stream",
     "text": [
      "\n",
      "\n",
      "=============================================================================================================================\n",
      "=============================================================================================================================\n",
      "\n"
     ]
    },
    {
     "name": "stderr",
     "output_type": "stream",
     "text": [
      "[Succeeded / Failed / Skipped / Total] 73 / 3 / 34 / 110:  22%|████▊                 | 110/500 [02:14<07:58,  1.23s/it]textattack: Saving checkpoint under \"checkpoints\\1720178307819.ta.chkpt\" at 2024-07-05 19:18:27 after 110 attacks.\n",
      "[Succeeded / Failed / Skipped / Total] 73 / 3 / 35 / 111:  22%|████▉                 | 111/500 [02:14<07:52,  1.22s/it]"
     ]
    },
    {
     "name": "stdout",
     "output_type": "stream",
     "text": [
      "\n",
      "\n",
      "=============================================================================================================================\n",
      "=============================================================================================================================\n",
      "\n"
     ]
    },
    {
     "name": "stderr",
     "output_type": "stream",
     "text": [
      "[Succeeded / Failed / Skipped / Total] 75 / 4 / 36 / 115:  23%|█████                 | 115/500 [02:26<08:10,  1.27s/it]textattack: Saving checkpoint under \"checkpoints\\1720178319360.ta.chkpt\" at 2024-07-05 19:18:39 after 115 attacks.\n"
     ]
    },
    {
     "name": "stdout",
     "output_type": "stream",
     "text": [
      "\n",
      "\n",
      "=============================================================================================================================\n",
      "=============================================================================================================================\n",
      "\n"
     ]
    },
    {
     "name": "stderr",
     "output_type": "stream",
     "text": [
      "[Succeeded / Failed / Skipped / Total] 79 / 4 / 37 / 120:  24%|█████▎                | 120/500 [02:29<07:54,  1.25s/it]textattack: Saving checkpoint under \"checkpoints\\1720178322930.ta.chkpt\" at 2024-07-05 19:18:42 after 120 attacks.\n",
      "[Succeeded / Failed / Skipped / Total] 79 / 4 / 38 / 121:  24%|█████▎                | 121/500 [02:30<07:50,  1.24s/it]"
     ]
    },
    {
     "name": "stdout",
     "output_type": "stream",
     "text": [
      "\n",
      "\n",
      "=============================================================================================================================\n",
      "=============================================================================================================================\n",
      "\n"
     ]
    },
    {
     "name": "stderr",
     "output_type": "stream",
     "text": [
      "[Succeeded / Failed / Skipped / Total] 81 / 4 / 40 / 125:  25%|█████▌                | 125/500 [02:31<07:33,  1.21s/it]textattack: Saving checkpoint under \"checkpoints\\1720178324171.ta.chkpt\" at 2024-07-05 19:18:44 after 125 attacks.\n"
     ]
    },
    {
     "name": "stdout",
     "output_type": "stream",
     "text": [
      "\n",
      "\n",
      "=============================================================================================================================\n",
      "=============================================================================================================================\n",
      "\n"
     ]
    },
    {
     "name": "stderr",
     "output_type": "stream",
     "text": [
      "[Succeeded / Failed / Skipped / Total] 85 / 4 / 41 / 130:  26%|█████▋                | 130/500 [02:37<07:28,  1.21s/it]textattack: Saving checkpoint under \"checkpoints\\1720178330397.ta.chkpt\" at 2024-07-05 19:18:50 after 130 attacks.\n",
      "[Succeeded / Failed / Skipped / Total] 85 / 4 / 42 / 131:  26%|█████▊                | 131/500 [02:37<07:23,  1.20s/it]"
     ]
    },
    {
     "name": "stdout",
     "output_type": "stream",
     "text": [
      "\n",
      "\n",
      "=============================================================================================================================\n",
      "=============================================================================================================================\n",
      "\n"
     ]
    },
    {
     "name": "stderr",
     "output_type": "stream",
     "text": [
      "[Succeeded / Failed / Skipped / Total] 88 / 4 / 43 / 135:  27%|█████▉                | 135/500 [02:41<07:17,  1.20s/it]textattack: Saving checkpoint under \"checkpoints\\1720178334753.ta.chkpt\" at 2024-07-05 19:18:54 after 135 attacks.\n"
     ]
    },
    {
     "name": "stdout",
     "output_type": "stream",
     "text": [
      "\n",
      "\n",
      "=============================================================================================================================\n",
      "=============================================================================================================================\n",
      "\n"
     ]
    },
    {
     "name": "stderr",
     "output_type": "stream",
     "text": [
      "[Succeeded / Failed / Skipped / Total] 92 / 4 / 44 / 140:  28%|██████▏               | 140/500 [02:46<07:09,  1.19s/it]textattack: Saving checkpoint under \"checkpoints\\1720178339925.ta.chkpt\" at 2024-07-05 19:18:59 after 140 attacks.\n"
     ]
    },
    {
     "name": "stdout",
     "output_type": "stream",
     "text": [
      "\n",
      "\n",
      "=============================================================================================================================\n",
      "=============================================================================================================================\n",
      "\n"
     ]
    },
    {
     "name": "stderr",
     "output_type": "stream",
     "text": [
      "[Succeeded / Failed / Skipped / Total] 97 / 4 / 44 / 145:  29%|██████▍               | 145/500 [02:53<07:05,  1.20s/it]textattack: Saving checkpoint under \"checkpoints\\1720178346783.ta.chkpt\" at 2024-07-05 19:19:06 after 145 attacks.\n",
      "[Succeeded / Failed / Skipped / Total] 97 / 4 / 46 / 147:  29%|██████▍               | 147/500 [02:53<06:57,  1.18s/it]"
     ]
    },
    {
     "name": "stdout",
     "output_type": "stream",
     "text": [
      "\n",
      "\n",
      "=============================================================================================================================\n",
      "=============================================================================================================================\n",
      "\n"
     ]
    },
    {
     "name": "stderr",
     "output_type": "stream",
     "text": [
      "[Succeeded / Failed / Skipped / Total] 99 / 4 / 47 / 150:  30%|██████▌               | 150/500 [02:56<06:50,  1.17s/it]textattack: Saving checkpoint under \"checkpoints\\1720178348990.ta.chkpt\" at 2024-07-05 19:19:08 after 150 attacks.\n",
      "[Succeeded / Failed / Skipped / Total] 99 / 4 / 49 / 152:  30%|██████▋               | 152/500 [02:56<06:43,  1.16s/it]"
     ]
    },
    {
     "name": "stdout",
     "output_type": "stream",
     "text": [
      "\n",
      "\n",
      "=============================================================================================================================\n",
      "=============================================================================================================================\n",
      "\n"
     ]
    },
    {
     "name": "stderr",
     "output_type": "stream",
     "text": [
      "[Succeeded / Failed / Skipped / Total] 100 / 5 / 50 / 155:  31%|██████▌              | 155/500 [02:58<06:36,  1.15s/it]textattack: Saving checkpoint under \"checkpoints\\1720178351016.ta.chkpt\" at 2024-07-05 19:19:11 after 155 attacks.\n"
     ]
    },
    {
     "name": "stdout",
     "output_type": "stream",
     "text": [
      "\n",
      "\n",
      "=============================================================================================================================\n",
      "=============================================================================================================================\n",
      "\n"
     ]
    },
    {
     "name": "stderr",
     "output_type": "stream",
     "text": [
      "[Succeeded / Failed / Skipped / Total] 103 / 6 / 51 / 160:  32%|██████▋              | 160/500 [03:22<07:11,  1.27s/it]textattack: Saving checkpoint under \"checkpoints\\1720178375777.ta.chkpt\" at 2024-07-05 19:19:35 after 160 attacks.\n",
      "[Succeeded / Failed / Skipped / Total] 103 / 6 / 52 / 161:  32%|██████▊              | 161/500 [03:22<07:07,  1.26s/it]"
     ]
    },
    {
     "name": "stdout",
     "output_type": "stream",
     "text": [
      "\n",
      "\n",
      "=============================================================================================================================\n",
      "=============================================================================================================================\n",
      "\n"
     ]
    },
    {
     "name": "stderr",
     "output_type": "stream",
     "text": [
      "[Succeeded / Failed / Skipped / Total] 106 / 6 / 53 / 165:  33%|██████▉              | 165/500 [03:28<07:03,  1.26s/it]textattack: Saving checkpoint under \"checkpoints\\1720178381524.ta.chkpt\" at 2024-07-05 19:19:41 after 165 attacks.\n",
      "[Succeeded / Failed / Skipped / Total] 106 / 6 / 55 / 167:  33%|███████              | 167/500 [03:28<06:56,  1.25s/it]"
     ]
    },
    {
     "name": "stdout",
     "output_type": "stream",
     "text": [
      "\n",
      "\n",
      "=============================================================================================================================\n",
      "=============================================================================================================================\n",
      "\n"
     ]
    },
    {
     "name": "stderr",
     "output_type": "stream",
     "text": [
      "[Succeeded / Failed / Skipped / Total] 109 / 6 / 55 / 170:  34%|███████▏             | 170/500 [03:31<06:50,  1.24s/it]textattack: Saving checkpoint under \"checkpoints\\1720178384505.ta.chkpt\" at 2024-07-05 19:19:44 after 170 attacks.\n"
     ]
    },
    {
     "name": "stdout",
     "output_type": "stream",
     "text": [
      "\n",
      "\n",
      "=============================================================================================================================\n",
      "=============================================================================================================================\n",
      "\n"
     ]
    },
    {
     "name": "stderr",
     "output_type": "stream",
     "text": [
      "[Succeeded / Failed / Skipped / Total] 112 / 6 / 57 / 175:  35%|███████▎             | 175/500 [03:39<06:47,  1.25s/it]textattack: Saving checkpoint under \"checkpoints\\1720178392514.ta.chkpt\" at 2024-07-05 19:19:52 after 175 attacks.\n"
     ]
    },
    {
     "name": "stdout",
     "output_type": "stream",
     "text": [
      "\n",
      "\n",
      "=============================================================================================================================\n",
      "=============================================================================================================================\n",
      "\n"
     ]
    },
    {
     "name": "stderr",
     "output_type": "stream",
     "text": [
      "[Succeeded / Failed / Skipped / Total] 115 / 7 / 58 / 180:  36%|███████▌             | 180/500 [03:52<06:53,  1.29s/it]textattack: Saving checkpoint under \"checkpoints\\1720178405259.ta.chkpt\" at 2024-07-05 19:20:05 after 180 attacks.\n"
     ]
    },
    {
     "name": "stdout",
     "output_type": "stream",
     "text": [
      "\n",
      "\n",
      "=============================================================================================================================\n",
      "=============================================================================================================================\n",
      "\n"
     ]
    },
    {
     "name": "stderr",
     "output_type": "stream",
     "text": [
      "[Succeeded / Failed / Skipped / Total] 119 / 7 / 59 / 185:  37%|███████▊             | 185/500 [03:56<06:42,  1.28s/it]textattack: Saving checkpoint under \"checkpoints\\1720178409522.ta.chkpt\" at 2024-07-05 19:20:09 after 185 attacks.\n"
     ]
    },
    {
     "name": "stdout",
     "output_type": "stream",
     "text": [
      "\n",
      "\n",
      "=============================================================================================================================\n",
      "=============================================================================================================================\n",
      "\n"
     ]
    },
    {
     "name": "stderr",
     "output_type": "stream",
     "text": [
      "[Succeeded / Failed / Skipped / Total] 122 / 7 / 61 / 190:  38%|███████▉             | 190/500 [04:00<06:32,  1.27s/it]textattack: Saving checkpoint under \"checkpoints\\1720178413589.ta.chkpt\" at 2024-07-05 19:20:13 after 190 attacks.\n"
     ]
    },
    {
     "name": "stdout",
     "output_type": "stream",
     "text": [
      "\n",
      "\n",
      "=============================================================================================================================\n",
      "=============================================================================================================================\n",
      "\n"
     ]
    },
    {
     "name": "stderr",
     "output_type": "stream",
     "text": [
      "[Succeeded / Failed / Skipped / Total] 127 / 7 / 61 / 195:  39%|████████▏            | 195/500 [04:13<06:36,  1.30s/it]textattack: Saving checkpoint under \"checkpoints\\1720178426176.ta.chkpt\" at 2024-07-05 19:20:26 after 195 attacks.\n"
     ]
    },
    {
     "name": "stdout",
     "output_type": "stream",
     "text": [
      "\n",
      "\n",
      "=============================================================================================================================\n",
      "=============================================================================================================================\n",
      "\n"
     ]
    },
    {
     "name": "stderr",
     "output_type": "stream",
     "text": [
      "[Succeeded / Failed / Skipped / Total] 129 / 9 / 62 / 200:  40%|████████▍            | 200/500 [04:42<07:03,  1.41s/it]textattack: Saving checkpoint under \"checkpoints\\1720178455326.ta.chkpt\" at 2024-07-05 19:20:55 after 200 attacks.\n"
     ]
    },
    {
     "name": "stdout",
     "output_type": "stream",
     "text": [
      "\n",
      "\n",
      "=============================================================================================================================\n",
      "=============================================================================================================================\n",
      "\n"
     ]
    },
    {
     "name": "stderr",
     "output_type": "stream",
     "text": [
      "[Succeeded / Failed / Skipped / Total] 132 / 9 / 64 / 205:  41%|████████▌            | 205/500 [04:44<06:48,  1.39s/it]textattack: Saving checkpoint under \"checkpoints\\1720178457020.ta.chkpt\" at 2024-07-05 19:20:57 after 205 attacks.\n"
     ]
    },
    {
     "name": "stdout",
     "output_type": "stream",
     "text": [
      "\n",
      "\n",
      "=============================================================================================================================\n",
      "=============================================================================================================================\n",
      "\n"
     ]
    },
    {
     "name": "stderr",
     "output_type": "stream",
     "text": [
      "[Succeeded / Failed / Skipped / Total] 135 / 9 / 66 / 210:  42%|████████▊            | 210/500 [04:48<06:38,  1.37s/it]textattack: Saving checkpoint under \"checkpoints\\1720178461494.ta.chkpt\" at 2024-07-05 19:21:01 after 210 attacks.\n"
     ]
    },
    {
     "name": "stdout",
     "output_type": "stream",
     "text": [
      "\n",
      "\n",
      "=============================================================================================================================\n",
      "=============================================================================================================================\n",
      "\n"
     ]
    },
    {
     "name": "stderr",
     "output_type": "stream",
     "text": [
      "[Succeeded / Failed / Skipped / Total] 140 / 9 / 66 / 215:  43%|█████████            | 215/500 [04:55<06:31,  1.38s/it]textattack: Saving checkpoint under \"checkpoints\\1720178468566.ta.chkpt\" at 2024-07-05 19:21:08 after 215 attacks.\n"
     ]
    },
    {
     "name": "stdout",
     "output_type": "stream",
     "text": [
      "\n",
      "\n",
      "=============================================================================================================================\n",
      "=============================================================================================================================\n",
      "\n"
     ]
    },
    {
     "name": "stderr",
     "output_type": "stream",
     "text": [
      "[Succeeded / Failed / Skipped / Total] 143 / 9 / 68 / 220:  44%|█████████▏           | 220/500 [05:00<06:22,  1.36s/it]textattack: Saving checkpoint under \"checkpoints\\1720178473134.ta.chkpt\" at 2024-07-05 19:21:13 after 220 attacks.\n"
     ]
    },
    {
     "name": "stdout",
     "output_type": "stream",
     "text": [
      "\n",
      "\n",
      "=============================================================================================================================\n",
      "=============================================================================================================================\n",
      "\n"
     ]
    },
    {
     "name": "stderr",
     "output_type": "stream",
     "text": [
      "[Succeeded / Failed / Skipped / Total] 147 / 9 / 69 / 225:  45%|█████████▍           | 225/500 [05:05<06:13,  1.36s/it]textattack: Saving checkpoint under \"checkpoints\\1720178478524.ta.chkpt\" at 2024-07-05 19:21:18 after 225 attacks.\n"
     ]
    },
    {
     "name": "stdout",
     "output_type": "stream",
     "text": [
      "\n",
      "\n",
      "=============================================================================================================================\n",
      "=============================================================================================================================\n",
      "\n"
     ]
    },
    {
     "name": "stderr",
     "output_type": "stream",
     "text": [
      "[Succeeded / Failed / Skipped / Total] 151 / 9 / 70 / 230:  46%|█████████▋           | 230/500 [05:09<06:02,  1.34s/it]textattack: Saving checkpoint under \"checkpoints\\1720178482030.ta.chkpt\" at 2024-07-05 19:21:22 after 230 attacks.\n"
     ]
    },
    {
     "name": "stdout",
     "output_type": "stream",
     "text": [
      "\n",
      "\n",
      "=============================================================================================================================\n",
      "=============================================================================================================================\n",
      "\n"
     ]
    },
    {
     "name": "stderr",
     "output_type": "stream",
     "text": [
      "[Succeeded / Failed / Skipped / Total] 155 / 10 / 70 / 235:  47%|█████████▍          | 235/500 [05:22<06:03,  1.37s/it]textattack: Saving checkpoint under \"checkpoints\\1720178494975.ta.chkpt\" at 2024-07-05 19:21:34 after 235 attacks.\n"
     ]
    },
    {
     "name": "stdout",
     "output_type": "stream",
     "text": [
      "\n",
      "\n",
      "=============================================================================================================================\n",
      "=============================================================================================================================\n",
      "\n"
     ]
    },
    {
     "name": "stderr",
     "output_type": "stream",
     "text": [
      "[Succeeded / Failed / Skipped / Total] 160 / 10 / 70 / 240:  48%|█████████▌          | 240/500 [05:29<05:56,  1.37s/it]textattack: Saving checkpoint under \"checkpoints\\1720178502365.ta.chkpt\" at 2024-07-05 19:21:42 after 240 attacks.\n",
      "[Succeeded / Failed / Skipped / Total] 160 / 10 / 71 / 241:  48%|█████████▋          | 241/500 [05:29<05:54,  1.37s/it]"
     ]
    },
    {
     "name": "stdout",
     "output_type": "stream",
     "text": [
      "\n",
      "\n",
      "=============================================================================================================================\n",
      "=============================================================================================================================\n",
      "\n"
     ]
    },
    {
     "name": "stderr",
     "output_type": "stream",
     "text": [
      "[Succeeded / Failed / Skipped / Total] 163 / 10 / 72 / 245:  49%|█████████▊          | 245/500 [05:33<05:46,  1.36s/it]textattack: Saving checkpoint under \"checkpoints\\1720178506063.ta.chkpt\" at 2024-07-05 19:21:46 after 245 attacks.\n"
     ]
    },
    {
     "name": "stdout",
     "output_type": "stream",
     "text": [
      "\n",
      "\n",
      "=============================================================================================================================\n",
      "=============================================================================================================================\n",
      "\n"
     ]
    },
    {
     "name": "stderr",
     "output_type": "stream",
     "text": [
      "[Succeeded / Failed / Skipped / Total] 167 / 10 / 73 / 250:  50%|██████████          | 250/500 [05:39<05:39,  1.36s/it]textattack: Saving checkpoint under \"checkpoints\\1720178512830.ta.chkpt\" at 2024-07-05 19:21:52 after 250 attacks.\n"
     ]
    },
    {
     "name": "stdout",
     "output_type": "stream",
     "text": [
      "\n",
      "\n",
      "=============================================================================================================================\n",
      "=============================================================================================================================\n",
      "\n"
     ]
    },
    {
     "name": "stderr",
     "output_type": "stream",
     "text": [
      "[Succeeded / Failed / Skipped / Total] 172 / 10 / 73 / 255:  51%|██████████▏         | 255/500 [05:45<05:31,  1.35s/it]textattack: Saving checkpoint under \"checkpoints\\1720178518120.ta.chkpt\" at 2024-07-05 19:21:58 after 255 attacks.\n"
     ]
    },
    {
     "name": "stdout",
     "output_type": "stream",
     "text": [
      "\n",
      "\n",
      "=============================================================================================================================\n",
      "=============================================================================================================================\n",
      "\n"
     ]
    },
    {
     "name": "stderr",
     "output_type": "stream",
     "text": [
      "[Succeeded / Failed / Skipped / Total] 175 / 10 / 75 / 260:  52%|██████████▍         | 260/500 [05:50<05:23,  1.35s/it]textattack: Saving checkpoint under \"checkpoints\\1720178523075.ta.chkpt\" at 2024-07-05 19:22:03 after 260 attacks.\n"
     ]
    },
    {
     "name": "stdout",
     "output_type": "stream",
     "text": [
      "\n",
      "\n",
      "=============================================================================================================================\n",
      "=============================================================================================================================\n",
      "\n"
     ]
    },
    {
     "name": "stderr",
     "output_type": "stream",
     "text": [
      "[Succeeded / Failed / Skipped / Total] 180 / 10 / 75 / 265:  53%|██████████▌         | 265/500 [05:54<05:14,  1.34s/it]textattack: Saving checkpoint under \"checkpoints\\1720178527904.ta.chkpt\" at 2024-07-05 19:22:07 after 265 attacks.\n"
     ]
    },
    {
     "name": "stdout",
     "output_type": "stream",
     "text": [
      "\n",
      "\n",
      "=============================================================================================================================\n",
      "=============================================================================================================================\n",
      "\n"
     ]
    },
    {
     "name": "stderr",
     "output_type": "stream",
     "text": [
      "[Succeeded / Failed / Skipped / Total] 183 / 11 / 76 / 270:  54%|██████████▊         | 270/500 [06:16<05:20,  1.40s/it]textattack: Saving checkpoint under \"checkpoints\\1720178549736.ta.chkpt\" at 2024-07-05 19:22:29 after 270 attacks.\n",
      "[Succeeded / Failed / Skipped / Total] 183 / 11 / 78 / 272:  54%|██████████▉         | 272/500 [06:16<05:15,  1.39s/it]"
     ]
    },
    {
     "name": "stdout",
     "output_type": "stream",
     "text": [
      "\n",
      "\n",
      "=============================================================================================================================\n",
      "=============================================================================================================================\n",
      "\n"
     ]
    },
    {
     "name": "stderr",
     "output_type": "stream",
     "text": [
      "[Succeeded / Failed / Skipped / Total] 184 / 11 / 80 / 275:  55%|███████████         | 275/500 [06:18<05:09,  1.38s/it]textattack: Saving checkpoint under \"checkpoints\\1720178551325.ta.chkpt\" at 2024-07-05 19:22:31 after 275 attacks.\n"
     ]
    },
    {
     "name": "stdout",
     "output_type": "stream",
     "text": [
      "\n",
      "\n",
      "=============================================================================================================================\n",
      "=============================================================================================================================\n",
      "\n"
     ]
    },
    {
     "name": "stderr",
     "output_type": "stream",
     "text": [
      "[Succeeded / Failed / Skipped / Total] 187 / 11 / 82 / 280:  56%|███████████▏        | 280/500 [06:21<04:59,  1.36s/it]textattack: Saving checkpoint under \"checkpoints\\1720178554027.ta.chkpt\" at 2024-07-05 19:22:34 after 280 attacks.\n"
     ]
    },
    {
     "name": "stdout",
     "output_type": "stream",
     "text": [
      "\n",
      "\n",
      "=============================================================================================================================\n",
      "=============================================================================================================================\n",
      "\n"
     ]
    },
    {
     "name": "stderr",
     "output_type": "stream",
     "text": [
      "[Succeeded / Failed / Skipped / Total] 191 / 11 / 83 / 285:  57%|███████████▍        | 285/500 [06:26<04:51,  1.36s/it]textattack: Saving checkpoint under \"checkpoints\\1720178559862.ta.chkpt\" at 2024-07-05 19:22:39 after 285 attacks.\n"
     ]
    },
    {
     "name": "stdout",
     "output_type": "stream",
     "text": [
      "\n",
      "\n",
      "=============================================================================================================================\n",
      "=============================================================================================================================\n",
      "\n"
     ]
    },
    {
     "name": "stderr",
     "output_type": "stream",
     "text": [
      "[Succeeded / Failed / Skipped / Total] 196 / 11 / 83 / 290:  58%|███████████▌        | 290/500 [06:31<04:43,  1.35s/it]textattack: Saving checkpoint under \"checkpoints\\1720178564050.ta.chkpt\" at 2024-07-05 19:22:44 after 290 attacks.\n",
      "[Succeeded / Failed / Skipped / Total] 196 / 11 / 84 / 291:  58%|███████████▋        | 291/500 [06:31<04:40,  1.34s/it]"
     ]
    },
    {
     "name": "stdout",
     "output_type": "stream",
     "text": [
      "\n",
      "\n",
      "=============================================================================================================================\n",
      "=============================================================================================================================\n",
      "\n"
     ]
    },
    {
     "name": "stderr",
     "output_type": "stream",
     "text": [
      "[Succeeded / Failed / Skipped / Total] 199 / 11 / 85 / 295:  59%|███████████▊        | 295/500 [06:38<04:37,  1.35s/it]textattack: Saving checkpoint under \"checkpoints\\1720178571686.ta.chkpt\" at 2024-07-05 19:22:51 after 295 attacks.\n"
     ]
    },
    {
     "name": "stdout",
     "output_type": "stream",
     "text": [
      "\n",
      "\n",
      "=============================================================================================================================\n",
      "=============================================================================================================================\n",
      "\n"
     ]
    },
    {
     "name": "stderr",
     "output_type": "stream",
     "text": [
      "[Succeeded / Failed / Skipped / Total] 202 / 11 / 87 / 300:  60%|████████████        | 300/500 [06:43<04:28,  1.34s/it]textattack: Saving checkpoint under \"checkpoints\\1720178576399.ta.chkpt\" at 2024-07-05 19:22:56 after 300 attacks.\n"
     ]
    },
    {
     "name": "stdout",
     "output_type": "stream",
     "text": [
      "\n",
      "\n",
      "=============================================================================================================================\n",
      "=============================================================================================================================\n",
      "\n"
     ]
    },
    {
     "name": "stderr",
     "output_type": "stream",
     "text": [
      "[Succeeded / Failed / Skipped / Total] 206 / 11 / 88 / 305:  61%|████████████▏       | 305/500 [06:49<04:21,  1.34s/it]textattack: Saving checkpoint under \"checkpoints\\1720178582356.ta.chkpt\" at 2024-07-05 19:23:02 after 305 attacks.\n"
     ]
    },
    {
     "name": "stdout",
     "output_type": "stream",
     "text": [
      "\n",
      "\n",
      "=============================================================================================================================\n",
      "=============================================================================================================================\n",
      "\n"
     ]
    },
    {
     "name": "stderr",
     "output_type": "stream",
     "text": [
      "[Succeeded / Failed / Skipped / Total] 209 / 12 / 89 / 310:  62%|████████████▍       | 310/500 [06:57<04:16,  1.35s/it]textattack: Saving checkpoint under \"checkpoints\\1720178590774.ta.chkpt\" at 2024-07-05 19:23:10 after 310 attacks.\n"
     ]
    },
    {
     "name": "stdout",
     "output_type": "stream",
     "text": [
      "\n",
      "\n",
      "=============================================================================================================================\n",
      "=============================================================================================================================\n",
      "\n"
     ]
    },
    {
     "name": "stderr",
     "output_type": "stream",
     "text": [
      "[Succeeded / Failed / Skipped / Total] 213 / 12 / 90 / 315:  63%|████████████▌       | 315/500 [07:02<04:08,  1.34s/it]textattack: Saving checkpoint under \"checkpoints\\1720178595878.ta.chkpt\" at 2024-07-05 19:23:15 after 315 attacks.\n"
     ]
    },
    {
     "name": "stdout",
     "output_type": "stream",
     "text": [
      "\n",
      "\n",
      "=============================================================================================================================\n",
      "=============================================================================================================================\n",
      "\n"
     ]
    },
    {
     "name": "stderr",
     "output_type": "stream",
     "text": [
      "[Succeeded / Failed / Skipped / Total] 215 / 13 / 92 / 320:  64%|████████████▊       | 320/500 [07:17<04:05,  1.37s/it]textattack: Saving checkpoint under \"checkpoints\\1720178610140.ta.chkpt\" at 2024-07-05 19:23:30 after 320 attacks.\n"
     ]
    },
    {
     "name": "stdout",
     "output_type": "stream",
     "text": [
      "\n",
      "\n",
      "=============================================================================================================================\n",
      "=============================================================================================================================\n",
      "\n"
     ]
    },
    {
     "name": "stderr",
     "output_type": "stream",
     "text": [
      "[Succeeded / Failed / Skipped / Total] 219 / 14 / 92 / 325:  65%|█████████████       | 325/500 [07:37<04:06,  1.41s/it]textattack: Saving checkpoint under \"checkpoints\\1720178630362.ta.chkpt\" at 2024-07-05 19:23:50 after 325 attacks.\n"
     ]
    },
    {
     "name": "stdout",
     "output_type": "stream",
     "text": [
      "\n",
      "\n",
      "=============================================================================================================================\n",
      "=============================================================================================================================\n",
      "\n"
     ]
    },
    {
     "name": "stderr",
     "output_type": "stream",
     "text": [
      "[Succeeded / Failed / Skipped / Total] 224 / 14 / 92 / 330:  66%|█████████████▏      | 330/500 [07:42<03:58,  1.40s/it]textattack: Saving checkpoint under \"checkpoints\\1720178635473.ta.chkpt\" at 2024-07-05 19:23:55 after 330 attacks.\n"
     ]
    },
    {
     "name": "stdout",
     "output_type": "stream",
     "text": [
      "\n",
      "\n",
      "=============================================================================================================================\n",
      "=============================================================================================================================\n",
      "\n"
     ]
    },
    {
     "name": "stderr",
     "output_type": "stream",
     "text": [
      "[Succeeded / Failed / Skipped / Total] 228 / 14 / 93 / 335:  67%|█████████████▍      | 335/500 [08:01<03:57,  1.44s/it]textattack: Saving checkpoint under \"checkpoints\\1720178654136.ta.chkpt\" at 2024-07-05 19:24:14 after 335 attacks.\n",
      "[Succeeded / Failed / Skipped / Total] 228 / 14 / 94 / 336:  67%|█████████████▍      | 336/500 [08:01<03:54,  1.43s/it]"
     ]
    },
    {
     "name": "stdout",
     "output_type": "stream",
     "text": [
      "\n",
      "\n",
      "=============================================================================================================================\n",
      "=============================================================================================================================\n",
      "\n"
     ]
    },
    {
     "name": "stderr",
     "output_type": "stream",
     "text": [
      "[Succeeded / Failed / Skipped / Total] 230 / 15 / 95 / 340:  68%|█████████████▌      | 340/500 [08:09<03:50,  1.44s/it]textattack: Saving checkpoint under \"checkpoints\\1720178662620.ta.chkpt\" at 2024-07-05 19:24:22 after 340 attacks.\n"
     ]
    },
    {
     "name": "stdout",
     "output_type": "stream",
     "text": [
      "\n",
      "\n",
      "=============================================================================================================================\n",
      "=============================================================================================================================\n",
      "\n"
     ]
    },
    {
     "name": "stderr",
     "output_type": "stream",
     "text": [
      "[Succeeded / Failed / Skipped / Total] 232 / 16 / 97 / 345:  69%|█████████████▊      | 345/500 [08:21<03:45,  1.45s/it]textattack: Saving checkpoint under \"checkpoints\\1720178674849.ta.chkpt\" at 2024-07-05 19:24:34 after 345 attacks.\n"
     ]
    },
    {
     "name": "stdout",
     "output_type": "stream",
     "text": [
      "\n",
      "\n",
      "=============================================================================================================================\n",
      "=============================================================================================================================\n",
      "\n"
     ]
    },
    {
     "name": "stderr",
     "output_type": "stream",
     "text": [
      "[Succeeded / Failed / Skipped / Total] 236 / 16 / 98 / 350:  70%|██████████████      | 350/500 [08:26<03:37,  1.45s/it]textattack: Saving checkpoint under \"checkpoints\\1720178679607.ta.chkpt\" at 2024-07-05 19:24:39 after 350 attacks.\n"
     ]
    },
    {
     "name": "stdout",
     "output_type": "stream",
     "text": [
      "\n",
      "\n",
      "=============================================================================================================================\n",
      "=============================================================================================================================\n",
      "\n"
     ]
    },
    {
     "name": "stderr",
     "output_type": "stream",
     "text": [
      "[Succeeded / Failed / Skipped / Total] 239 / 18 / 98 / 355:  71%|██████████████▏     | 355/500 [08:44<03:34,  1.48s/it]textattack: Saving checkpoint under \"checkpoints\\1720178697260.ta.chkpt\" at 2024-07-05 19:24:57 after 355 attacks.\n",
      "[Succeeded / Failed / Skipped / Total] 239 / 18 / 99 / 356:  71%|██████████████▏     | 356/500 [08:44<03:32,  1.47s/it]"
     ]
    },
    {
     "name": "stdout",
     "output_type": "stream",
     "text": [
      "\n",
      "\n",
      "=============================================================================================================================\n",
      "=============================================================================================================================\n",
      "\n"
     ]
    },
    {
     "name": "stderr",
     "output_type": "stream",
     "text": [
      "[Succeeded / Failed / Skipped / Total] 242 / 18 / 100 / 360:  72%|█████████████▋     | 360/500 [08:51<03:26,  1.48s/it]textattack: Saving checkpoint under \"checkpoints\\1720178704375.ta.chkpt\" at 2024-07-05 19:25:04 after 360 attacks.\n"
     ]
    },
    {
     "name": "stdout",
     "output_type": "stream",
     "text": [
      "\n",
      "\n",
      "=============================================================================================================================\n",
      "=============================================================================================================================\n",
      "\n"
     ]
    },
    {
     "name": "stderr",
     "output_type": "stream",
     "text": [
      "[Succeeded / Failed / Skipped / Total] 247 / 18 / 100 / 365:  73%|█████████████▊     | 365/500 [09:00<03:19,  1.48s/it]textattack: Saving checkpoint under \"checkpoints\\1720178713003.ta.chkpt\" at 2024-07-05 19:25:13 after 365 attacks.\n"
     ]
    },
    {
     "name": "stdout",
     "output_type": "stream",
     "text": [
      "\n",
      "\n",
      "=============================================================================================================================\n",
      "=============================================================================================================================\n",
      "\n"
     ]
    },
    {
     "name": "stderr",
     "output_type": "stream",
     "text": [
      "[Succeeded / Failed / Skipped / Total] 251 / 18 / 101 / 370:  74%|██████████████     | 370/500 [09:03<03:11,  1.47s/it]textattack: Saving checkpoint under \"checkpoints\\1720178716858.ta.chkpt\" at 2024-07-05 19:25:16 after 370 attacks.\n",
      "[Succeeded / Failed / Skipped / Total] 251 / 18 / 102 / 371:  74%|██████████████     | 371/500 [09:03<03:09,  1.47s/it]"
     ]
    },
    {
     "name": "stdout",
     "output_type": "stream",
     "text": [
      "\n",
      "\n",
      "=============================================================================================================================\n",
      "=============================================================================================================================\n",
      "\n"
     ]
    },
    {
     "name": "stderr",
     "output_type": "stream",
     "text": [
      "[Succeeded / Failed / Skipped / Total] 254 / 19 / 102 / 375:  75%|██████████████▎    | 375/500 [09:16<03:05,  1.48s/it]textattack: Saving checkpoint under \"checkpoints\\1720178729180.ta.chkpt\" at 2024-07-05 19:25:29 after 375 attacks.\n"
     ]
    },
    {
     "name": "stdout",
     "output_type": "stream",
     "text": [
      "\n",
      "\n",
      "=============================================================================================================================\n",
      "=============================================================================================================================\n",
      "\n"
     ]
    },
    {
     "name": "stderr",
     "output_type": "stream",
     "text": [
      "[Succeeded / Failed / Skipped / Total] 257 / 19 / 104 / 380:  76%|██████████████▍    | 380/500 [09:18<02:56,  1.47s/it]textattack: Saving checkpoint under \"checkpoints\\1720178731169.ta.chkpt\" at 2024-07-05 19:25:31 after 380 attacks.\n"
     ]
    },
    {
     "name": "stdout",
     "output_type": "stream",
     "text": [
      "\n",
      "\n",
      "=============================================================================================================================\n",
      "=============================================================================================================================\n",
      "\n"
     ]
    },
    {
     "name": "stderr",
     "output_type": "stream",
     "text": [
      "[Succeeded / Failed / Skipped / Total] 261 / 19 / 105 / 385:  77%|██████████████▋    | 385/500 [09:25<02:48,  1.47s/it]textattack: Saving checkpoint under \"checkpoints\\1720178738574.ta.chkpt\" at 2024-07-05 19:25:38 after 385 attacks.\n"
     ]
    },
    {
     "name": "stdout",
     "output_type": "stream",
     "text": [
      "\n",
      "\n",
      "=============================================================================================================================\n",
      "=============================================================================================================================\n",
      "\n"
     ]
    },
    {
     "name": "stderr",
     "output_type": "stream",
     "text": [
      "[Succeeded / Failed / Skipped / Total] 264 / 20 / 106 / 390:  78%|██████████████▊    | 390/500 [09:31<02:41,  1.47s/it]textattack: Saving checkpoint under \"checkpoints\\1720178744840.ta.chkpt\" at 2024-07-05 19:25:44 after 390 attacks.\n"
     ]
    },
    {
     "name": "stdout",
     "output_type": "stream",
     "text": [
      "\n",
      "\n",
      "=============================================================================================================================\n",
      "=============================================================================================================================\n",
      "\n"
     ]
    },
    {
     "name": "stderr",
     "output_type": "stream",
     "text": [
      "[Succeeded / Failed / Skipped / Total] 269 / 20 / 106 / 395:  79%|███████████████    | 395/500 [09:40<02:34,  1.47s/it]textattack: Saving checkpoint under \"checkpoints\\1720178753446.ta.chkpt\" at 2024-07-05 19:25:53 after 395 attacks.\n"
     ]
    },
    {
     "name": "stdout",
     "output_type": "stream",
     "text": [
      "\n",
      "\n",
      "=============================================================================================================================\n",
      "=============================================================================================================================\n",
      "\n"
     ]
    },
    {
     "name": "stderr",
     "output_type": "stream",
     "text": [
      "[Succeeded / Failed / Skipped / Total] 274 / 20 / 106 / 400:  80%|███████████████▏   | 400/500 [09:48<02:27,  1.47s/it]textattack: Saving checkpoint under \"checkpoints\\1720178761820.ta.chkpt\" at 2024-07-05 19:26:01 after 400 attacks.\n"
     ]
    },
    {
     "name": "stdout",
     "output_type": "stream",
     "text": [
      "\n",
      "\n",
      "=============================================================================================================================\n",
      "=============================================================================================================================\n",
      "\n"
     ]
    },
    {
     "name": "stderr",
     "output_type": "stream",
     "text": [
      "[Succeeded / Failed / Skipped / Total] 277 / 21 / 107 / 405:  81%|███████████████▍   | 405/500 [10:03<02:21,  1.49s/it]textattack: Saving checkpoint under \"checkpoints\\1720178776689.ta.chkpt\" at 2024-07-05 19:26:16 after 405 attacks.\n"
     ]
    },
    {
     "name": "stdout",
     "output_type": "stream",
     "text": [
      "\n",
      "\n",
      "=============================================================================================================================\n",
      "=============================================================================================================================\n",
      "\n"
     ]
    },
    {
     "name": "stderr",
     "output_type": "stream",
     "text": [
      "[Succeeded / Failed / Skipped / Total] 281 / 21 / 108 / 410:  82%|███████████████▌   | 410/500 [10:08<02:13,  1.48s/it]textattack: Saving checkpoint under \"checkpoints\\1720178781465.ta.chkpt\" at 2024-07-05 19:26:21 after 410 attacks.\n"
     ]
    },
    {
     "name": "stdout",
     "output_type": "stream",
     "text": [
      "\n",
      "\n",
      "=============================================================================================================================\n",
      "=============================================================================================================================\n",
      "\n"
     ]
    },
    {
     "name": "stderr",
     "output_type": "stream",
     "text": [
      "[Succeeded / Failed / Skipped / Total] 284 / 21 / 110 / 415:  83%|███████████████▊   | 415/500 [10:11<02:05,  1.47s/it]textattack: Saving checkpoint under \"checkpoints\\1720178784160.ta.chkpt\" at 2024-07-05 19:26:24 after 415 attacks.\n"
     ]
    },
    {
     "name": "stdout",
     "output_type": "stream",
     "text": [
      "\n",
      "\n",
      "=============================================================================================================================\n",
      "=============================================================================================================================\n",
      "\n"
     ]
    },
    {
     "name": "stderr",
     "output_type": "stream",
     "text": [
      "[Succeeded / Failed / Skipped / Total] 285 / 22 / 113 / 420:  84%|███████████████▉   | 420/500 [10:24<01:58,  1.49s/it]textattack: Saving checkpoint under \"checkpoints\\1720178797502.ta.chkpt\" at 2024-07-05 19:26:37 after 420 attacks.\n"
     ]
    },
    {
     "name": "stdout",
     "output_type": "stream",
     "text": [
      "\n",
      "\n",
      "=============================================================================================================================\n",
      "=============================================================================================================================\n",
      "\n"
     ]
    },
    {
     "name": "stderr",
     "output_type": "stream",
     "text": [
      "[Succeeded / Failed / Skipped / Total] 290 / 22 / 113 / 425:  85%|████████████████▏  | 425/500 [10:30<01:51,  1.48s/it]textattack: Saving checkpoint under \"checkpoints\\1720178803289.ta.chkpt\" at 2024-07-05 19:26:43 after 425 attacks.\n"
     ]
    },
    {
     "name": "stdout",
     "output_type": "stream",
     "text": [
      "\n",
      "\n",
      "=============================================================================================================================\n",
      "=============================================================================================================================\n",
      "\n"
     ]
    },
    {
     "name": "stderr",
     "output_type": "stream",
     "text": [
      "[Succeeded / Failed / Skipped / Total] 292 / 23 / 115 / 430:  86%|████████████████▎  | 430/500 [10:48<01:45,  1.51s/it]textattack: Saving checkpoint under \"checkpoints\\1720178821548.ta.chkpt\" at 2024-07-05 19:27:01 after 430 attacks.\n",
      "[Succeeded / Failed / Skipped / Total] 292 / 23 / 116 / 431:  86%|████████████████▍  | 431/500 [10:48<01:43,  1.51s/it]"
     ]
    },
    {
     "name": "stdout",
     "output_type": "stream",
     "text": [
      "\n",
      "\n",
      "=============================================================================================================================\n",
      "=============================================================================================================================\n",
      "\n"
     ]
    },
    {
     "name": "stderr",
     "output_type": "stream",
     "text": [
      "[Succeeded / Failed / Skipped / Total] 294 / 23 / 118 / 435:  87%|████████████████▌  | 435/500 [10:50<01:37,  1.50s/it]textattack: Saving checkpoint under \"checkpoints\\1720178823561.ta.chkpt\" at 2024-07-05 19:27:03 after 435 attacks.\n"
     ]
    },
    {
     "name": "stdout",
     "output_type": "stream",
     "text": [
      "\n",
      "\n",
      "=============================================================================================================================\n",
      "=============================================================================================================================\n",
      "\n"
     ]
    },
    {
     "name": "stderr",
     "output_type": "stream",
     "text": [
      "[Succeeded / Failed / Skipped / Total] 297 / 25 / 118 / 440:  88%|████████████████▋  | 440/500 [11:19<01:32,  1.54s/it]textattack: Saving checkpoint under \"checkpoints\\1720178852463.ta.chkpt\" at 2024-07-05 19:27:32 after 440 attacks.\n",
      "[Succeeded / Failed / Skipped / Total] 297 / 25 / 119 / 441:  88%|████████████████▊  | 441/500 [11:19<01:30,  1.54s/it]"
     ]
    },
    {
     "name": "stdout",
     "output_type": "stream",
     "text": [
      "\n",
      "\n",
      "=============================================================================================================================\n",
      "=============================================================================================================================\n",
      "\n"
     ]
    },
    {
     "name": "stderr",
     "output_type": "stream",
     "text": [
      "[Succeeded / Failed / Skipped / Total] 300 / 25 / 120 / 445:  89%|████████████████▉  | 445/500 [11:27<01:24,  1.54s/it]textattack: Saving checkpoint under \"checkpoints\\1720178860417.ta.chkpt\" at 2024-07-05 19:27:40 after 445 attacks.\n"
     ]
    },
    {
     "name": "stdout",
     "output_type": "stream",
     "text": [
      "\n",
      "\n",
      "=============================================================================================================================\n",
      "=============================================================================================================================\n",
      "\n"
     ]
    },
    {
     "name": "stderr",
     "output_type": "stream",
     "text": [
      "[Succeeded / Failed / Skipped / Total] 301 / 26 / 123 / 450:  90%|█████████████████  | 450/500 [11:37<01:17,  1.55s/it]textattack: Saving checkpoint under \"checkpoints\\1720178870784.ta.chkpt\" at 2024-07-05 19:27:50 after 450 attacks.\n"
     ]
    },
    {
     "name": "stdout",
     "output_type": "stream",
     "text": [
      "\n",
      "\n",
      "=============================================================================================================================\n",
      "=============================================================================================================================\n",
      "\n"
     ]
    },
    {
     "name": "stderr",
     "output_type": "stream",
     "text": [
      "[Succeeded / Failed / Skipped / Total] 306 / 26 / 123 / 455:  91%|█████████████████▎ | 455/500 [11:45<01:09,  1.55s/it]textattack: Saving checkpoint under \"checkpoints\\1720178878180.ta.chkpt\" at 2024-07-05 19:27:58 after 455 attacks.\n",
      "[Succeeded / Failed / Skipped / Total] 306 / 26 / 124 / 456:  91%|█████████████████▎ | 456/500 [11:45<01:08,  1.55s/it]"
     ]
    },
    {
     "name": "stdout",
     "output_type": "stream",
     "text": [
      "\n",
      "\n",
      "=============================================================================================================================\n",
      "=============================================================================================================================\n",
      "\n"
     ]
    },
    {
     "name": "stderr",
     "output_type": "stream",
     "text": [
      "[Succeeded / Failed / Skipped / Total] 308 / 27 / 125 / 460:  92%|█████████████████▍ | 460/500 [11:58<01:02,  1.56s/it]textattack: Saving checkpoint under \"checkpoints\\1720178891804.ta.chkpt\" at 2024-07-05 19:28:11 after 460 attacks.\n"
     ]
    },
    {
     "name": "stdout",
     "output_type": "stream",
     "text": [
      "\n",
      "\n",
      "=============================================================================================================================\n",
      "=============================================================================================================================\n",
      "\n"
     ]
    },
    {
     "name": "stderr",
     "output_type": "stream",
     "text": [
      "[Succeeded / Failed / Skipped / Total] 313 / 27 / 125 / 465:  93%|█████████████████▋ | 465/500 [12:24<00:56,  1.60s/it]textattack: Saving checkpoint under \"checkpoints\\1720178917084.ta.chkpt\" at 2024-07-05 19:28:37 after 465 attacks.\n"
     ]
    },
    {
     "name": "stdout",
     "output_type": "stream",
     "text": [
      "\n",
      "\n",
      "=============================================================================================================================\n",
      "=============================================================================================================================\n",
      "\n"
     ]
    },
    {
     "name": "stderr",
     "output_type": "stream",
     "text": [
      "[Succeeded / Failed / Skipped / Total] 317 / 27 / 126 / 470:  94%|█████████████████▊ | 470/500 [12:27<00:47,  1.59s/it]textattack: Saving checkpoint under \"checkpoints\\1720178920485.ta.chkpt\" at 2024-07-05 19:28:40 after 470 attacks.\n"
     ]
    },
    {
     "name": "stdout",
     "output_type": "stream",
     "text": [
      "\n",
      "\n",
      "=============================================================================================================================\n",
      "=============================================================================================================================\n",
      "\n"
     ]
    },
    {
     "name": "stderr",
     "output_type": "stream",
     "text": [
      "[Succeeded / Failed / Skipped / Total] 321 / 27 / 127 / 475:  95%|██████████████████ | 475/500 [12:32<00:39,  1.58s/it]textattack: Saving checkpoint under \"checkpoints\\1720178925742.ta.chkpt\" at 2024-07-05 19:28:45 after 475 attacks.\n"
     ]
    },
    {
     "name": "stdout",
     "output_type": "stream",
     "text": [
      "\n",
      "\n",
      "=============================================================================================================================\n",
      "=============================================================================================================================\n",
      "\n"
     ]
    },
    {
     "name": "stderr",
     "output_type": "stream",
     "text": [
      "[Succeeded / Failed / Skipped / Total] 325 / 28 / 127 / 480:  96%|██████████████████▏| 480/500 [12:43<00:31,  1.59s/it]textattack: Saving checkpoint under \"checkpoints\\1720178936887.ta.chkpt\" at 2024-07-05 19:28:56 after 480 attacks.\n"
     ]
    },
    {
     "name": "stdout",
     "output_type": "stream",
     "text": [
      "\n",
      "\n",
      "=============================================================================================================================\n",
      "=============================================================================================================================\n",
      "\n"
     ]
    },
    {
     "name": "stderr",
     "output_type": "stream",
     "text": [
      "[Succeeded / Failed / Skipped / Total] 328 / 29 / 128 / 485:  97%|██████████████████▍| 485/500 [13:02<00:24,  1.61s/it]textattack: Saving checkpoint under \"checkpoints\\1720178955117.ta.chkpt\" at 2024-07-05 19:29:15 after 485 attacks.\n"
     ]
    },
    {
     "name": "stdout",
     "output_type": "stream",
     "text": [
      "\n",
      "\n",
      "=============================================================================================================================\n",
      "=============================================================================================================================\n",
      "\n"
     ]
    },
    {
     "name": "stderr",
     "output_type": "stream",
     "text": [
      "[Succeeded / Failed / Skipped / Total] 332 / 29 / 129 / 490:  98%|██████████████████▌| 490/500 [13:07<00:16,  1.61s/it]textattack: Saving checkpoint under \"checkpoints\\1720178960141.ta.chkpt\" at 2024-07-05 19:29:20 after 490 attacks.\n"
     ]
    },
    {
     "name": "stdout",
     "output_type": "stream",
     "text": [
      "\n",
      "\n",
      "=============================================================================================================================\n",
      "=============================================================================================================================\n",
      "\n"
     ]
    },
    {
     "name": "stderr",
     "output_type": "stream",
     "text": [
      "[Succeeded / Failed / Skipped / Total] 335 / 29 / 131 / 495:  99%|██████████████████▊| 495/500 [13:18<00:08,  1.61s/it]textattack: Saving checkpoint under \"checkpoints\\1720178971919.ta.chkpt\" at 2024-07-05 19:29:31 after 495 attacks.\n",
      "[Succeeded / Failed / Skipped / Total] 335 / 29 / 132 / 496:  99%|██████████████████▊| 496/500 [13:19<00:06,  1.61s/it]"
     ]
    },
    {
     "name": "stdout",
     "output_type": "stream",
     "text": [
      "\n",
      "\n",
      "=============================================================================================================================\n",
      "=============================================================================================================================\n",
      "\n"
     ]
    },
    {
     "name": "stderr",
     "output_type": "stream",
     "text": [
      "[Succeeded / Failed / Skipped / Total] 337 / 31 / 132 / 500: 100%|███████████████████| 500/500 [13:34<00:00,  1.63s/it]textattack: Saving checkpoint under \"checkpoints\\1720178987567.ta.chkpt\" at 2024-07-05 19:29:47 after 500 attacks.\n",
      "[Succeeded / Failed / Skipped / Total] 337 / 31 / 132 / 500: 100%|███████████████████| 500/500 [13:34<00:00,  1.63s/it]"
     ]
    },
    {
     "name": "stdout",
     "output_type": "stream",
     "text": [
      "\n",
      "\n",
      "=============================================================================================================================\n",
      "=============================================================================================================================\n",
      "\n",
      "\n",
      "+-------------------------------+--------+\n",
      "| Attack Results                |        |\n",
      "+-------------------------------+--------+\n",
      "| Number of successful attacks: | 337    |\n",
      "| Number of failed attacks:     | 31     |\n",
      "| Number of skipped attacks:    | 132    |\n",
      "| Original accuracy:            | 73.6%  |\n",
      "| Accuracy under attack:        | 6.2%   |\n",
      "| Attack success rate:          | 91.58% |\n",
      "| Average perturbed word %:     | 11.09% |\n",
      "| Average num. words per input: | 18.4   |\n",
      "| Avg num queries:              | 82.93  |\n",
      "+-------------------------------+--------+\n"
     ]
    },
    {
     "name": "stderr",
     "output_type": "stream",
     "text": [
      "\n"
     ]
    }
   ],
   "source": [
    "runAttack(disbert_model_wrapper_knn_mr, n_samples, 'attack_results_new/disbertmrattackknn'+suffix, target_ds_mr)"
   ]
  },
  {
   "cell_type": "code",
   "execution_count": 23,
   "id": "b1a8d0d7-317e-48dd-a484-6c6034af2aad",
   "metadata": {},
   "outputs": [
    {
     "name": "stderr",
     "output_type": "stream",
     "text": [
      "textattack: Unknown if model of class <class 'transformers.models.distilbert.modeling_distilbert.DistilBertModel'> compatible with goal function <class 'textattack.goal_functions.classification.untargeted_classification.UntargetedClassification'>.\n",
      "textattack: Logging to CSV at path attack_results_new/disbertmrattacksvcsim05.csv\n"
     ]
    },
    {
     "name": "stdout",
     "output_type": "stream",
     "text": [
      "Attack(\n",
      "  (search_method): GreedyWordSwapWIR(\n",
      "    (wir_method):  delete\n",
      "  )\n",
      "  (goal_function):  UntargetedClassification\n",
      "  (transformation):  WordSwapEmbedding(\n",
      "    (max_candidates):  50\n",
      "    (embedding):  WordEmbedding\n",
      "  )\n",
      "  (constraints): \n",
      "    (0): WordEmbeddingDistance(\n",
      "        (embedding):  WordEmbedding\n",
      "        (min_cos_sim):  0.5\n",
      "        (cased):  False\n",
      "        (include_unknown_words):  True\n",
      "        (compare_against_original):  True\n",
      "      )\n",
      "    (1): PartOfSpeech(\n",
      "        (tagger_type):  nltk\n",
      "        (tagset):  universal\n",
      "        (allow_verb_noun_swap):  True\n",
      "        (compare_against_original):  True\n",
      "      )\n",
      "    (2): UniversalSentenceEncoder(\n",
      "        (metric):  angular\n",
      "        (threshold):  0.840845057\n",
      "        (window_size):  15\n",
      "        (skip_text_shorter_than_window):  True\n",
      "        (compare_against_original):  False\n",
      "      )\n",
      "    (3): RepeatModification\n",
      "    (4): StopwordModification\n",
      "    (5): InputColumnModification(\n",
      "        (matching_column_labels):  ['premise', 'hypothesis']\n",
      "        (columns_to_ignore):  {'premise'}\n",
      "      )\n",
      "  (is_black_box):  True\n",
      ") \n",
      "\n"
     ]
    },
    {
     "name": "stderr",
     "output_type": "stream",
     "text": [
      "[Succeeded / Failed / Skipped / Total] 4 / 0 / 1 / 5:   1%|▎                           | 5/500 [00:17<29:41,  3.60s/it]textattack: Saving checkpoint under \"checkpoints\\1720179005662.ta.chkpt\" at 2024-07-05 19:30:05 after 5 attacks.\n",
      "[Succeeded / Failed / Skipped / Total] 4 / 0 / 3 / 7:   1%|▍                           | 7/500 [00:18<21:15,  2.59s/it]"
     ]
    },
    {
     "name": "stdout",
     "output_type": "stream",
     "text": [
      "\n",
      "\n",
      "=============================================================================================================================\n",
      "=============================================================================================================================\n",
      "\n"
     ]
    },
    {
     "name": "stderr",
     "output_type": "stream",
     "text": [
      "[Succeeded / Failed / Skipped / Total] 7 / 0 / 3 / 10:   2%|▌                         | 10/500 [00:23<19:14,  2.36s/it]textattack: Saving checkpoint under \"checkpoints\\1720179011239.ta.chkpt\" at 2024-07-05 19:30:11 after 10 attacks.\n"
     ]
    },
    {
     "name": "stdout",
     "output_type": "stream",
     "text": [
      "\n",
      "\n",
      "=============================================================================================================================\n",
      "=============================================================================================================================\n",
      "\n"
     ]
    },
    {
     "name": "stderr",
     "output_type": "stream",
     "text": [
      "[Succeeded / Failed / Skipped / Total] 11 / 0 / 4 / 15:   3%|▊                        | 15/500 [00:38<20:33,  2.54s/it]textattack: Saving checkpoint under \"checkpoints\\1720179025829.ta.chkpt\" at 2024-07-05 19:30:25 after 15 attacks.\n"
     ]
    },
    {
     "name": "stdout",
     "output_type": "stream",
     "text": [
      "\n",
      "\n",
      "=============================================================================================================================\n",
      "=============================================================================================================================\n",
      "\n"
     ]
    },
    {
     "name": "stderr",
     "output_type": "stream",
     "text": [
      "[Succeeded / Failed / Skipped / Total] 15 / 0 / 5 / 20:   4%|█                        | 20/500 [00:42<17:04,  2.13s/it]textattack: Saving checkpoint under \"checkpoints\\1720179030341.ta.chkpt\" at 2024-07-05 19:30:30 after 20 attacks.\n"
     ]
    },
    {
     "name": "stdout",
     "output_type": "stream",
     "text": [
      "\n",
      "\n",
      "=============================================================================================================================\n",
      "=============================================================================================================================\n",
      "\n"
     ]
    },
    {
     "name": "stderr",
     "output_type": "stream",
     "text": [
      "[Succeeded / Failed / Skipped / Total] 18 / 0 / 7 / 25:   5%|█▎                       | 25/500 [00:46<14:44,  1.86s/it]textattack: Saving checkpoint under \"checkpoints\\1720179034202.ta.chkpt\" at 2024-07-05 19:30:34 after 25 attacks.\n"
     ]
    },
    {
     "name": "stdout",
     "output_type": "stream",
     "text": [
      "\n",
      "\n",
      "=============================================================================================================================\n",
      "=============================================================================================================================\n",
      "\n"
     ]
    },
    {
     "name": "stderr",
     "output_type": "stream",
     "text": [
      "[Succeeded / Failed / Skipped / Total] 23 / 0 / 7 / 30:   6%|█▌                       | 30/500 [00:53<13:54,  1.78s/it]textattack: Saving checkpoint under \"checkpoints\\1720179040966.ta.chkpt\" at 2024-07-05 19:30:40 after 30 attacks.\n"
     ]
    },
    {
     "name": "stdout",
     "output_type": "stream",
     "text": [
      "\n",
      "\n",
      "=============================================================================================================================\n",
      "=============================================================================================================================\n",
      "\n"
     ]
    },
    {
     "name": "stderr",
     "output_type": "stream",
     "text": [
      "[Succeeded / Failed / Skipped / Total] 26 / 0 / 9 / 35:   7%|█▊                       | 35/500 [00:59<13:06,  1.69s/it]textattack: Saving checkpoint under \"checkpoints\\1720179046844.ta.chkpt\" at 2024-07-05 19:30:46 after 35 attacks.\n"
     ]
    },
    {
     "name": "stdout",
     "output_type": "stream",
     "text": [
      "\n",
      "\n",
      "=============================================================================================================================\n",
      "=============================================================================================================================\n",
      "\n"
     ]
    },
    {
     "name": "stderr",
     "output_type": "stream",
     "text": [
      "[Succeeded / Failed / Skipped / Total] 30 / 0 / 10 / 40:   8%|█▉                      | 40/500 [01:04<12:18,  1.61s/it]textattack: Saving checkpoint under \"checkpoints\\1720179051895.ta.chkpt\" at 2024-07-05 19:30:51 after 40 attacks.\n"
     ]
    },
    {
     "name": "stdout",
     "output_type": "stream",
     "text": [
      "\n",
      "\n",
      "=============================================================================================================================\n",
      "=============================================================================================================================\n",
      "\n"
     ]
    },
    {
     "name": "stderr",
     "output_type": "stream",
     "text": [
      "[Succeeded / Failed / Skipped / Total] 35 / 0 / 10 / 45:   9%|██▏                     | 45/500 [01:15<12:44,  1.68s/it]textattack: Saving checkpoint under \"checkpoints\\1720179063237.ta.chkpt\" at 2024-07-05 19:31:03 after 45 attacks.\n"
     ]
    },
    {
     "name": "stdout",
     "output_type": "stream",
     "text": [
      "\n",
      "\n",
      "=============================================================================================================================\n",
      "=============================================================================================================================\n",
      "\n"
     ]
    },
    {
     "name": "stderr",
     "output_type": "stream",
     "text": [
      "[Succeeded / Failed / Skipped / Total] 40 / 0 / 10 / 50:  10%|██▍                     | 50/500 [01:26<13:02,  1.74s/it]textattack: Saving checkpoint under \"checkpoints\\1720179074620.ta.chkpt\" at 2024-07-05 19:31:14 after 50 attacks.\n"
     ]
    },
    {
     "name": "stdout",
     "output_type": "stream",
     "text": [
      "\n",
      "\n",
      "=============================================================================================================================\n",
      "=============================================================================================================================\n",
      "\n"
     ]
    },
    {
     "name": "stderr",
     "output_type": "stream",
     "text": [
      "[Succeeded / Failed / Skipped / Total] 44 / 0 / 11 / 55:  11%|██▋                     | 55/500 [01:36<13:03,  1.76s/it]textattack: Saving checkpoint under \"checkpoints\\1720179084458.ta.chkpt\" at 2024-07-05 19:31:24 after 55 attacks.\n"
     ]
    },
    {
     "name": "stdout",
     "output_type": "stream",
     "text": [
      "\n",
      "\n",
      "=============================================================================================================================\n",
      "=============================================================================================================================\n",
      "\n"
     ]
    },
    {
     "name": "stderr",
     "output_type": "stream",
     "text": [
      "[Succeeded / Failed / Skipped / Total] 47 / 0 / 13 / 60:  12%|██▉                     | 60/500 [01:41<12:27,  1.70s/it]textattack: Saving checkpoint under \"checkpoints\\1720179089582.ta.chkpt\" at 2024-07-05 19:31:29 after 60 attacks.\n",
      "[Succeeded / Failed / Skipped / Total] 47 / 0 / 15 / 62:  12%|██▉                     | 62/500 [01:41<12:00,  1.65s/it]"
     ]
    },
    {
     "name": "stdout",
     "output_type": "stream",
     "text": [
      "\n",
      "\n",
      "=============================================================================================================================\n",
      "=============================================================================================================================\n",
      "\n"
     ]
    },
    {
     "name": "stderr",
     "output_type": "stream",
     "text": [
      "[Succeeded / Failed / Skipped / Total] 50 / 0 / 15 / 65:  13%|███                     | 65/500 [01:45<11:44,  1.62s/it]textattack: Saving checkpoint under \"checkpoints\\1720179092926.ta.chkpt\" at 2024-07-05 19:31:32 after 65 attacks.\n"
     ]
    },
    {
     "name": "stdout",
     "output_type": "stream",
     "text": [
      "\n",
      "\n",
      "=============================================================================================================================\n",
      "=============================================================================================================================\n",
      "\n"
     ]
    },
    {
     "name": "stderr",
     "output_type": "stream",
     "text": [
      "[Succeeded / Failed / Skipped / Total] 52 / 1 / 17 / 70:  14%|███▎                    | 70/500 [01:52<11:31,  1.61s/it]textattack: Saving checkpoint under \"checkpoints\\1720179100258.ta.chkpt\" at 2024-07-05 19:31:40 after 70 attacks.\n"
     ]
    },
    {
     "name": "stdout",
     "output_type": "stream",
     "text": [
      "\n",
      "\n",
      "=============================================================================================================================\n",
      "=============================================================================================================================\n",
      "\n"
     ]
    },
    {
     "name": "stderr",
     "output_type": "stream",
     "text": [
      "[Succeeded / Failed / Skipped / Total] 57 / 1 / 17 / 75:  15%|███▌                    | 75/500 [01:57<11:07,  1.57s/it]textattack: Saving checkpoint under \"checkpoints\\1720179105567.ta.chkpt\" at 2024-07-05 19:31:45 after 75 attacks.\n"
     ]
    },
    {
     "name": "stdout",
     "output_type": "stream",
     "text": [
      "\n",
      "\n",
      "=============================================================================================================================\n",
      "=============================================================================================================================\n",
      "\n"
     ]
    },
    {
     "name": "stderr",
     "output_type": "stream",
     "text": [
      "[Succeeded / Failed / Skipped / Total] 62 / 1 / 17 / 80:  16%|███▊                    | 80/500 [02:07<11:11,  1.60s/it]textattack: Saving checkpoint under \"checkpoints\\1720179115659.ta.chkpt\" at 2024-07-05 19:31:55 after 80 attacks.\n",
      "[Succeeded / Failed / Skipped / Total] 62 / 1 / 19 / 82:  16%|███▉                    | 82/500 [02:08<10:52,  1.56s/it]"
     ]
    },
    {
     "name": "stdout",
     "output_type": "stream",
     "text": [
      "\n",
      "\n",
      "=============================================================================================================================\n",
      "=============================================================================================================================\n",
      "\n"
     ]
    },
    {
     "name": "stderr",
     "output_type": "stream",
     "text": [
      "[Succeeded / Failed / Skipped / Total] 64 / 1 / 20 / 85:  17%|████                    | 85/500 [02:10<10:37,  1.54s/it]textattack: Saving checkpoint under \"checkpoints\\1720179118290.ta.chkpt\" at 2024-07-05 19:31:58 after 85 attacks.\n"
     ]
    },
    {
     "name": "stdout",
     "output_type": "stream",
     "text": [
      "\n",
      "\n",
      "=============================================================================================================================\n",
      "=============================================================================================================================\n",
      "\n"
     ]
    },
    {
     "name": "stderr",
     "output_type": "stream",
     "text": [
      "[Succeeded / Failed / Skipped / Total] 69 / 1 / 20 / 90:  18%|████▎                   | 90/500 [02:15<10:19,  1.51s/it]textattack: Saving checkpoint under \"checkpoints\\1720179123579.ta.chkpt\" at 2024-07-05 19:32:03 after 90 attacks.\n"
     ]
    },
    {
     "name": "stdout",
     "output_type": "stream",
     "text": [
      "\n",
      "\n",
      "=============================================================================================================================\n",
      "=============================================================================================================================\n",
      "\n"
     ]
    },
    {
     "name": "stderr",
     "output_type": "stream",
     "text": [
      "[Succeeded / Failed / Skipped / Total] 72 / 1 / 22 / 95:  19%|████▌                   | 95/500 [02:21<10:03,  1.49s/it]textattack: Saving checkpoint under \"checkpoints\\1720179129227.ta.chkpt\" at 2024-07-05 19:32:09 after 95 attacks.\n"
     ]
    },
    {
     "name": "stdout",
     "output_type": "stream",
     "text": [
      "\n",
      "\n",
      "=============================================================================================================================\n",
      "=============================================================================================================================\n",
      "\n"
     ]
    },
    {
     "name": "stderr",
     "output_type": "stream",
     "text": [
      "[Succeeded / Failed / Skipped / Total] 77 / 1 / 22 / 100:  20%|████▍                 | 100/500 [02:29<09:58,  1.50s/it]textattack: Saving checkpoint under \"checkpoints\\1720179137181.ta.chkpt\" at 2024-07-05 19:32:17 after 100 attacks.\n"
     ]
    },
    {
     "name": "stdout",
     "output_type": "stream",
     "text": [
      "\n",
      "\n",
      "=============================================================================================================================\n",
      "=============================================================================================================================\n",
      "\n"
     ]
    },
    {
     "name": "stderr",
     "output_type": "stream",
     "text": [
      "[Succeeded / Failed / Skipped / Total] 82 / 1 / 22 / 105:  21%|████▌                 | 105/500 [02:42<10:11,  1.55s/it]textattack: Saving checkpoint under \"checkpoints\\1720179150254.ta.chkpt\" at 2024-07-05 19:32:30 after 105 attacks.\n",
      "[Succeeded / Failed / Skipped / Total] 82 / 1 / 23 / 106:  21%|████▋                 | 106/500 [02:42<10:04,  1.53s/it]"
     ]
    },
    {
     "name": "stdout",
     "output_type": "stream",
     "text": [
      "\n",
      "\n",
      "=============================================================================================================================\n",
      "=============================================================================================================================\n",
      "\n"
     ]
    },
    {
     "name": "stderr",
     "output_type": "stream",
     "text": [
      "[Succeeded / Failed / Skipped / Total] 84 / 1 / 25 / 110:  22%|████▊                 | 110/500 [02:44<09:44,  1.50s/it]textattack: Saving checkpoint under \"checkpoints\\1720179152608.ta.chkpt\" at 2024-07-05 19:32:32 after 110 attacks.\n",
      "[Succeeded / Failed / Skipped / Total] 84 / 1 / 26 / 111:  22%|████▉                 | 111/500 [02:45<09:38,  1.49s/it]"
     ]
    },
    {
     "name": "stdout",
     "output_type": "stream",
     "text": [
      "\n",
      "\n",
      "=============================================================================================================================\n",
      "=============================================================================================================================\n",
      "\n"
     ]
    },
    {
     "name": "stderr",
     "output_type": "stream",
     "text": [
      "[Succeeded / Failed / Skipped / Total] 87 / 1 / 27 / 115:  23%|█████                 | 115/500 [02:53<09:40,  1.51s/it]textattack: Saving checkpoint under \"checkpoints\\1720179160962.ta.chkpt\" at 2024-07-05 19:32:40 after 115 attacks.\n"
     ]
    },
    {
     "name": "stdout",
     "output_type": "stream",
     "text": [
      "\n",
      "\n",
      "=============================================================================================================================\n",
      "=============================================================================================================================\n",
      "\n"
     ]
    },
    {
     "name": "stderr",
     "output_type": "stream",
     "text": [
      "[Succeeded / Failed / Skipped / Total] 90 / 1 / 29 / 120:  24%|█████▎                | 120/500 [02:56<09:20,  1.47s/it]textattack: Saving checkpoint under \"checkpoints\\1720179164559.ta.chkpt\" at 2024-07-05 19:32:44 after 120 attacks.\n"
     ]
    },
    {
     "name": "stdout",
     "output_type": "stream",
     "text": [
      "\n",
      "\n",
      "=============================================================================================================================\n",
      "=============================================================================================================================\n",
      "\n"
     ]
    },
    {
     "name": "stderr",
     "output_type": "stream",
     "text": [
      "[Succeeded / Failed / Skipped / Total] 95 / 1 / 29 / 125:  25%|█████▌                | 125/500 [03:04<09:13,  1.48s/it]textattack: Saving checkpoint under \"checkpoints\\1720179172206.ta.chkpt\" at 2024-07-05 19:32:52 after 125 attacks.\n"
     ]
    },
    {
     "name": "stdout",
     "output_type": "stream",
     "text": [
      "\n",
      "\n",
      "=============================================================================================================================\n",
      "=============================================================================================================================\n",
      "\n"
     ]
    },
    {
     "name": "stderr",
     "output_type": "stream",
     "text": [
      "[Succeeded / Failed / Skipped / Total] 99 / 1 / 30 / 130:  26%|█████▋                | 130/500 [03:08<08:56,  1.45s/it]textattack: Saving checkpoint under \"checkpoints\\1720179176274.ta.chkpt\" at 2024-07-05 19:32:56 after 130 attacks.\n",
      "[Succeeded / Failed / Skipped / Total] 99 / 1 / 31 / 131:  26%|█████▊                | 131/500 [03:08<08:51,  1.44s/it]"
     ]
    },
    {
     "name": "stdout",
     "output_type": "stream",
     "text": [
      "\n",
      "\n",
      "=============================================================================================================================\n",
      "=============================================================================================================================\n",
      "\n"
     ]
    },
    {
     "name": "stderr",
     "output_type": "stream",
     "text": [
      "[Succeeded / Failed / Skipped / Total] 102 / 1 / 32 / 135:  27%|█████▋               | 135/500 [03:18<08:55,  1.47s/it]textattack: Saving checkpoint under \"checkpoints\\1720179185759.ta.chkpt\" at 2024-07-05 19:33:05 after 135 attacks.\n"
     ]
    },
    {
     "name": "stdout",
     "output_type": "stream",
     "text": [
      "\n",
      "\n",
      "=============================================================================================================================\n",
      "=============================================================================================================================\n",
      "\n"
     ]
    },
    {
     "name": "stderr",
     "output_type": "stream",
     "text": [
      "[Succeeded / Failed / Skipped / Total] 106 / 1 / 33 / 140:  28%|█████▉               | 140/500 [03:25<08:47,  1.47s/it]textattack: Saving checkpoint under \"checkpoints\\1720179192846.ta.chkpt\" at 2024-07-05 19:33:12 after 140 attacks.\n"
     ]
    },
    {
     "name": "stdout",
     "output_type": "stream",
     "text": [
      "\n",
      "\n",
      "=============================================================================================================================\n",
      "=============================================================================================================================\n",
      "\n"
     ]
    },
    {
     "name": "stderr",
     "output_type": "stream",
     "text": [
      "[Succeeded / Failed / Skipped / Total] 111 / 1 / 33 / 145:  29%|██████               | 145/500 [03:31<08:37,  1.46s/it]textattack: Saving checkpoint under \"checkpoints\\1720179199015.ta.chkpt\" at 2024-07-05 19:33:19 after 145 attacks.\n",
      "[Succeeded / Failed / Skipped / Total] 111 / 1 / 36 / 148:  30%|██████▏              | 148/500 [03:31<08:23,  1.43s/it]"
     ]
    },
    {
     "name": "stdout",
     "output_type": "stream",
     "text": [
      "\n",
      "\n",
      "=============================================================================================================================\n",
      "=============================================================================================================================\n",
      "\n"
     ]
    },
    {
     "name": "stderr",
     "output_type": "stream",
     "text": [
      "[Succeeded / Failed / Skipped / Total] 113 / 1 / 36 / 150:  30%|██████▎              | 150/500 [03:34<08:20,  1.43s/it]textattack: Saving checkpoint under \"checkpoints\\1720179202275.ta.chkpt\" at 2024-07-05 19:33:22 after 150 attacks.\n"
     ]
    },
    {
     "name": "stdout",
     "output_type": "stream",
     "text": [
      "\n",
      "\n",
      "=============================================================================================================================\n",
      "=============================================================================================================================\n",
      "\n"
     ]
    },
    {
     "name": "stderr",
     "output_type": "stream",
     "text": [
      "[Succeeded / Failed / Skipped / Total] 116 / 1 / 38 / 155:  31%|██████▌              | 155/500 [03:36<08:01,  1.40s/it]textattack: Saving checkpoint under \"checkpoints\\1720179203974.ta.chkpt\" at 2024-07-05 19:33:23 after 155 attacks.\n"
     ]
    },
    {
     "name": "stdout",
     "output_type": "stream",
     "text": [
      "\n",
      "\n",
      "=============================================================================================================================\n",
      "=============================================================================================================================\n",
      "\n"
     ]
    },
    {
     "name": "stderr",
     "output_type": "stream",
     "text": [
      "[Succeeded / Failed / Skipped / Total] 119 / 1 / 40 / 160:  32%|██████▋              | 160/500 [03:42<07:51,  1.39s/it]textattack: Saving checkpoint under \"checkpoints\\1720179209775.ta.chkpt\" at 2024-07-05 19:33:29 after 160 attacks.\n",
      "[Succeeded / Failed / Skipped / Total] 119 / 1 / 41 / 161:  32%|██████▊              | 161/500 [03:42<07:47,  1.38s/it]"
     ]
    },
    {
     "name": "stdout",
     "output_type": "stream",
     "text": [
      "\n",
      "\n",
      "=============================================================================================================================\n",
      "=============================================================================================================================\n",
      "\n"
     ]
    },
    {
     "name": "stderr",
     "output_type": "stream",
     "text": [
      "[Succeeded / Failed / Skipped / Total] 122 / 1 / 42 / 165:  33%|██████▉              | 165/500 [03:48<07:43,  1.38s/it]textattack: Saving checkpoint under \"checkpoints\\1720179216102.ta.chkpt\" at 2024-07-05 19:33:36 after 165 attacks.\n"
     ]
    },
    {
     "name": "stdout",
     "output_type": "stream",
     "text": [
      "\n",
      "\n",
      "=============================================================================================================================\n",
      "=============================================================================================================================\n",
      "\n"
     ]
    },
    {
     "name": "stderr",
     "output_type": "stream",
     "text": [
      "[Succeeded / Failed / Skipped / Total] 125 / 1 / 44 / 170:  34%|███████▏             | 170/500 [03:52<07:30,  1.37s/it]textattack: Saving checkpoint under \"checkpoints\\1720179219767.ta.chkpt\" at 2024-07-05 19:33:39 after 170 attacks.\n"
     ]
    },
    {
     "name": "stdout",
     "output_type": "stream",
     "text": [
      "\n",
      "\n",
      "=============================================================================================================================\n",
      "=============================================================================================================================\n",
      "\n"
     ]
    },
    {
     "name": "stderr",
     "output_type": "stream",
     "text": [
      "[Succeeded / Failed / Skipped / Total] 129 / 1 / 45 / 175:  35%|███████▎             | 175/500 [04:01<07:28,  1.38s/it]textattack: Saving checkpoint under \"checkpoints\\1720179229377.ta.chkpt\" at 2024-07-05 19:33:49 after 175 attacks.\n",
      "[Succeeded / Failed / Skipped / Total] 129 / 1 / 46 / 176:  35%|███████▍             | 176/500 [04:01<07:25,  1.37s/it]"
     ]
    },
    {
     "name": "stdout",
     "output_type": "stream",
     "text": [
      "\n",
      "\n",
      "=============================================================================================================================\n",
      "=============================================================================================================================\n",
      "\n"
     ]
    },
    {
     "name": "stderr",
     "output_type": "stream",
     "text": [
      "[Succeeded / Failed / Skipped / Total] 132 / 1 / 47 / 180:  36%|███████▌             | 180/500 [04:05<07:16,  1.36s/it]textattack: Saving checkpoint under \"checkpoints\\1720179233330.ta.chkpt\" at 2024-07-05 19:33:53 after 180 attacks.\n",
      "[Succeeded / Failed / Skipped / Total] 132 / 1 / 48 / 181:  36%|███████▌             | 181/500 [04:05<07:13,  1.36s/it]"
     ]
    },
    {
     "name": "stdout",
     "output_type": "stream",
     "text": [
      "\n",
      "\n",
      "=============================================================================================================================\n",
      "=============================================================================================================================\n",
      "\n"
     ]
    },
    {
     "name": "stderr",
     "output_type": "stream",
     "text": [
      "[Succeeded / Failed / Skipped / Total] 136 / 1 / 48 / 185:  37%|███████▊             | 185/500 [04:09<07:03,  1.35s/it]textattack: Saving checkpoint under \"checkpoints\\1720179236683.ta.chkpt\" at 2024-07-05 19:33:56 after 185 attacks.\n"
     ]
    },
    {
     "name": "stdout",
     "output_type": "stream",
     "text": [
      "\n",
      "\n",
      "=============================================================================================================================\n",
      "=============================================================================================================================\n",
      "\n"
     ]
    },
    {
     "name": "stderr",
     "output_type": "stream",
     "text": [
      "[Succeeded / Failed / Skipped / Total] 141 / 1 / 48 / 190:  38%|███████▉             | 190/500 [04:22<07:07,  1.38s/it]textattack: Saving checkpoint under \"checkpoints\\1720179249988.ta.chkpt\" at 2024-07-05 19:34:09 after 190 attacks.\n"
     ]
    },
    {
     "name": "stdout",
     "output_type": "stream",
     "text": [
      "\n",
      "\n",
      "=============================================================================================================================\n",
      "=============================================================================================================================\n",
      "\n"
     ]
    },
    {
     "name": "stderr",
     "output_type": "stream",
     "text": [
      "[Succeeded / Failed / Skipped / Total] 144 / 1 / 50 / 195:  39%|████████▏            | 195/500 [04:29<07:01,  1.38s/it]textattack: Saving checkpoint under \"checkpoints\\1720179256954.ta.chkpt\" at 2024-07-05 19:34:16 after 195 attacks.\n"
     ]
    },
    {
     "name": "stdout",
     "output_type": "stream",
     "text": [
      "\n",
      "\n",
      "=============================================================================================================================\n",
      "=============================================================================================================================\n",
      "\n"
     ]
    },
    {
     "name": "stderr",
     "output_type": "stream",
     "text": [
      "[Succeeded / Failed / Skipped / Total] 148 / 1 / 51 / 200:  40%|████████▍            | 200/500 [04:37<06:56,  1.39s/it]textattack: Saving checkpoint under \"checkpoints\\1720179265530.ta.chkpt\" at 2024-07-05 19:34:25 after 200 attacks.\n"
     ]
    },
    {
     "name": "stdout",
     "output_type": "stream",
     "text": [
      "\n",
      "\n",
      "=============================================================================================================================\n",
      "=============================================================================================================================\n",
      "\n"
     ]
    },
    {
     "name": "stderr",
     "output_type": "stream",
     "text": [
      "[Succeeded / Failed / Skipped / Total] 152 / 1 / 52 / 205:  41%|████████▌            | 205/500 [04:43<06:48,  1.39s/it]textattack: Saving checkpoint under \"checkpoints\\1720179271621.ta.chkpt\" at 2024-07-05 19:34:31 after 205 attacks.\n"
     ]
    },
    {
     "name": "stdout",
     "output_type": "stream",
     "text": [
      "\n",
      "\n",
      "=============================================================================================================================\n",
      "=============================================================================================================================\n",
      "\n"
     ]
    },
    {
     "name": "stderr",
     "output_type": "stream",
     "text": [
      "[Succeeded / Failed / Skipped / Total] 156 / 1 / 53 / 210:  42%|████████▊            | 210/500 [04:47<06:37,  1.37s/it]textattack: Saving checkpoint under \"checkpoints\\1720179275602.ta.chkpt\" at 2024-07-05 19:34:35 after 210 attacks.\n"
     ]
    },
    {
     "name": "stdout",
     "output_type": "stream",
     "text": [
      "\n",
      "\n",
      "=============================================================================================================================\n",
      "=============================================================================================================================\n",
      "\n"
     ]
    },
    {
     "name": "stderr",
     "output_type": "stream",
     "text": [
      "[Succeeded / Failed / Skipped / Total] 160 / 1 / 54 / 215:  43%|█████████            | 215/500 [05:01<06:39,  1.40s/it]textattack: Saving checkpoint under \"checkpoints\\1720179288710.ta.chkpt\" at 2024-07-05 19:34:48 after 215 attacks.\n"
     ]
    },
    {
     "name": "stdout",
     "output_type": "stream",
     "text": [
      "\n",
      "\n",
      "=============================================================================================================================\n",
      "=============================================================================================================================\n",
      "\n"
     ]
    },
    {
     "name": "stderr",
     "output_type": "stream",
     "text": [
      "[Succeeded / Failed / Skipped / Total] 165 / 1 / 54 / 220:  44%|█████████▏           | 220/500 [05:08<06:32,  1.40s/it]textattack: Saving checkpoint under \"checkpoints\\1720179295720.ta.chkpt\" at 2024-07-05 19:34:55 after 220 attacks.\n"
     ]
    },
    {
     "name": "stdout",
     "output_type": "stream",
     "text": [
      "\n",
      "\n",
      "=============================================================================================================================\n",
      "=============================================================================================================================\n",
      "\n"
     ]
    },
    {
     "name": "stderr",
     "output_type": "stream",
     "text": [
      "[Succeeded / Failed / Skipped / Total] 168 / 1 / 56 / 225:  45%|█████████▍           | 225/500 [05:13<06:23,  1.39s/it]textattack: Saving checkpoint under \"checkpoints\\1720179301041.ta.chkpt\" at 2024-07-05 19:35:01 after 225 attacks.\n"
     ]
    },
    {
     "name": "stdout",
     "output_type": "stream",
     "text": [
      "\n",
      "\n",
      "=============================================================================================================================\n",
      "=============================================================================================================================\n",
      "\n"
     ]
    },
    {
     "name": "stderr",
     "output_type": "stream",
     "text": [
      "[Succeeded / Failed / Skipped / Total] 172 / 1 / 57 / 230:  46%|█████████▋           | 230/500 [05:18<06:13,  1.38s/it]textattack: Saving checkpoint under \"checkpoints\\1720179305698.ta.chkpt\" at 2024-07-05 19:35:05 after 230 attacks.\n"
     ]
    },
    {
     "name": "stdout",
     "output_type": "stream",
     "text": [
      "\n",
      "\n",
      "=============================================================================================================================\n",
      "=============================================================================================================================\n",
      "\n"
     ]
    },
    {
     "name": "stderr",
     "output_type": "stream",
     "text": [
      "[Succeeded / Failed / Skipped / Total] 177 / 1 / 57 / 235:  47%|█████████▊           | 235/500 [05:28<06:10,  1.40s/it]textattack: Saving checkpoint under \"checkpoints\\1720179316337.ta.chkpt\" at 2024-07-05 19:35:16 after 235 attacks.\n"
     ]
    },
    {
     "name": "stdout",
     "output_type": "stream",
     "text": [
      "\n",
      "\n",
      "=============================================================================================================================\n",
      "=============================================================================================================================\n",
      "\n"
     ]
    },
    {
     "name": "stderr",
     "output_type": "stream",
     "text": [
      "[Succeeded / Failed / Skipped / Total] 182 / 1 / 57 / 240:  48%|██████████           | 240/500 [05:35<06:03,  1.40s/it]textattack: Saving checkpoint under \"checkpoints\\1720179323475.ta.chkpt\" at 2024-07-05 19:35:23 after 240 attacks.\n"
     ]
    },
    {
     "name": "stdout",
     "output_type": "stream",
     "text": [
      "\n",
      "\n",
      "=============================================================================================================================\n",
      "=============================================================================================================================\n",
      "\n"
     ]
    },
    {
     "name": "stderr",
     "output_type": "stream",
     "text": [
      "[Succeeded / Failed / Skipped / Total] 187 / 1 / 57 / 245:  49%|██████████▎          | 245/500 [05:45<05:59,  1.41s/it]textattack: Saving checkpoint under \"checkpoints\\1720179333437.ta.chkpt\" at 2024-07-05 19:35:33 after 245 attacks.\n"
     ]
    },
    {
     "name": "stdout",
     "output_type": "stream",
     "text": [
      "\n",
      "\n",
      "=============================================================================================================================\n",
      "=============================================================================================================================\n",
      "\n"
     ]
    },
    {
     "name": "stderr",
     "output_type": "stream",
     "text": [
      "[Succeeded / Failed / Skipped / Total] 190 / 1 / 59 / 250:  50%|██████████▌          | 250/500 [05:49<05:49,  1.40s/it]textattack: Saving checkpoint under \"checkpoints\\1720179337305.ta.chkpt\" at 2024-07-05 19:35:37 after 250 attacks.\n"
     ]
    },
    {
     "name": "stdout",
     "output_type": "stream",
     "text": [
      "\n",
      "\n",
      "=============================================================================================================================\n",
      "=============================================================================================================================\n",
      "\n"
     ]
    },
    {
     "name": "stderr",
     "output_type": "stream",
     "text": [
      "[Succeeded / Failed / Skipped / Total] 194 / 1 / 60 / 255:  51%|██████████▋          | 255/500 [05:55<05:41,  1.40s/it]textattack: Saving checkpoint under \"checkpoints\\1720179343497.ta.chkpt\" at 2024-07-05 19:35:43 after 255 attacks.\n"
     ]
    },
    {
     "name": "stdout",
     "output_type": "stream",
     "text": [
      "\n",
      "\n",
      "=============================================================================================================================\n",
      "=============================================================================================================================\n",
      "\n"
     ]
    },
    {
     "name": "stderr",
     "output_type": "stream",
     "text": [
      "[Succeeded / Failed / Skipped / Total] 197 / 1 / 62 / 260:  52%|██████████▉          | 260/500 [06:00<05:32,  1.39s/it]textattack: Saving checkpoint under \"checkpoints\\1720179348272.ta.chkpt\" at 2024-07-05 19:35:48 after 260 attacks.\n"
     ]
    },
    {
     "name": "stdout",
     "output_type": "stream",
     "text": [
      "\n",
      "\n",
      "=============================================================================================================================\n",
      "=============================================================================================================================\n",
      "\n"
     ]
    },
    {
     "name": "stderr",
     "output_type": "stream",
     "text": [
      "[Succeeded / Failed / Skipped / Total] 202 / 1 / 62 / 265:  53%|███████████▏         | 265/500 [06:07<05:25,  1.39s/it]textattack: Saving checkpoint under \"checkpoints\\1720179354841.ta.chkpt\" at 2024-07-05 19:35:54 after 265 attacks.\n"
     ]
    },
    {
     "name": "stdout",
     "output_type": "stream",
     "text": [
      "\n",
      "\n",
      "=============================================================================================================================\n",
      "=============================================================================================================================\n",
      "\n"
     ]
    },
    {
     "name": "stderr",
     "output_type": "stream",
     "text": [
      "[Succeeded / Failed / Skipped / Total] 206 / 1 / 63 / 270:  54%|███████████▎         | 270/500 [06:19<05:23,  1.41s/it]textattack: Saving checkpoint under \"checkpoints\\1720179367103.ta.chkpt\" at 2024-07-05 19:36:07 after 270 attacks.\n",
      "[Succeeded / Failed / Skipped / Total] 206 / 1 / 64 / 271:  54%|███████████▍         | 271/500 [06:19<05:20,  1.40s/it]"
     ]
    },
    {
     "name": "stdout",
     "output_type": "stream",
     "text": [
      "\n",
      "\n",
      "=============================================================================================================================\n",
      "=============================================================================================================================\n",
      "\n"
     ]
    },
    {
     "name": "stderr",
     "output_type": "stream",
     "text": [
      "[Succeeded / Failed / Skipped / Total] 209 / 1 / 65 / 275:  55%|███████████▌         | 275/500 [06:22<05:13,  1.39s/it]textattack: Saving checkpoint under \"checkpoints\\1720179370290.ta.chkpt\" at 2024-07-05 19:36:10 after 275 attacks.\n",
      "[Succeeded / Failed / Skipped / Total] 209 / 1 / 67 / 277:  55%|███████████▋         | 277/500 [06:22<05:08,  1.38s/it]"
     ]
    },
    {
     "name": "stdout",
     "output_type": "stream",
     "text": [
      "\n",
      "\n",
      "=============================================================================================================================\n",
      "=============================================================================================================================\n",
      "\n"
     ]
    },
    {
     "name": "stderr",
     "output_type": "stream",
     "text": [
      "[Succeeded / Failed / Skipped / Total] 212 / 1 / 67 / 280:  56%|███████████▊         | 280/500 [06:27<05:04,  1.38s/it]textattack: Saving checkpoint under \"checkpoints\\1720179375003.ta.chkpt\" at 2024-07-05 19:36:15 after 280 attacks.\n"
     ]
    },
    {
     "name": "stdout",
     "output_type": "stream",
     "text": [
      "\n",
      "\n",
      "=============================================================================================================================\n",
      "=============================================================================================================================\n",
      "\n"
     ]
    },
    {
     "name": "stderr",
     "output_type": "stream",
     "text": [
      "[Succeeded / Failed / Skipped / Total] 216 / 1 / 68 / 285:  57%|███████████▉         | 285/500 [06:33<04:56,  1.38s/it]textattack: Saving checkpoint under \"checkpoints\\1720179381155.ta.chkpt\" at 2024-07-05 19:36:21 after 285 attacks.\n"
     ]
    },
    {
     "name": "stdout",
     "output_type": "stream",
     "text": [
      "\n",
      "\n",
      "=============================================================================================================================\n",
      "=============================================================================================================================\n",
      "\n"
     ]
    },
    {
     "name": "stderr",
     "output_type": "stream",
     "text": [
      "[Succeeded / Failed / Skipped / Total] 220 / 1 / 69 / 290:  58%|████████████▏        | 290/500 [06:39<04:49,  1.38s/it]textattack: Saving checkpoint under \"checkpoints\\1720179387114.ta.chkpt\" at 2024-07-05 19:36:27 after 290 attacks.\n"
     ]
    },
    {
     "name": "stdout",
     "output_type": "stream",
     "text": [
      "\n",
      "\n",
      "=============================================================================================================================\n",
      "=============================================================================================================================\n",
      "\n"
     ]
    },
    {
     "name": "stderr",
     "output_type": "stream",
     "text": [
      "[Succeeded / Failed / Skipped / Total] 224 / 1 / 70 / 295:  59%|████████████▍        | 295/500 [06:47<04:42,  1.38s/it]textattack: Saving checkpoint under \"checkpoints\\1720179394760.ta.chkpt\" at 2024-07-05 19:36:34 after 295 attacks.\n"
     ]
    },
    {
     "name": "stdout",
     "output_type": "stream",
     "text": [
      "\n",
      "\n",
      "=============================================================================================================================\n",
      "=============================================================================================================================\n",
      "\n"
     ]
    },
    {
     "name": "stderr",
     "output_type": "stream",
     "text": [
      "[Succeeded / Failed / Skipped / Total] 229 / 1 / 70 / 300:  60%|████████████▌        | 300/500 [06:56<04:37,  1.39s/it]textattack: Saving checkpoint under \"checkpoints\\1720179403949.ta.chkpt\" at 2024-07-05 19:36:43 after 300 attacks.\n"
     ]
    },
    {
     "name": "stdout",
     "output_type": "stream",
     "text": [
      "\n",
      "\n",
      "=============================================================================================================================\n",
      "=============================================================================================================================\n",
      "\n"
     ]
    },
    {
     "name": "stderr",
     "output_type": "stream",
     "text": [
      "[Succeeded / Failed / Skipped / Total] 234 / 1 / 70 / 305:  61%|████████████▊        | 305/500 [07:04<04:31,  1.39s/it]textattack: Saving checkpoint under \"checkpoints\\1720179412452.ta.chkpt\" at 2024-07-05 19:36:52 after 305 attacks.\n"
     ]
    },
    {
     "name": "stdout",
     "output_type": "stream",
     "text": [
      "\n",
      "\n",
      "=============================================================================================================================\n",
      "=============================================================================================================================\n",
      "\n"
     ]
    },
    {
     "name": "stderr",
     "output_type": "stream",
     "text": [
      "[Succeeded / Failed / Skipped / Total] 238 / 1 / 71 / 310:  62%|█████████████        | 310/500 [07:08<04:22,  1.38s/it]textattack: Saving checkpoint under \"checkpoints\\1720179416281.ta.chkpt\" at 2024-07-05 19:36:56 after 310 attacks.\n"
     ]
    },
    {
     "name": "stdout",
     "output_type": "stream",
     "text": [
      "\n",
      "\n",
      "=============================================================================================================================\n",
      "=============================================================================================================================\n",
      "\n"
     ]
    },
    {
     "name": "stderr",
     "output_type": "stream",
     "text": [
      "[Succeeded / Failed / Skipped / Total] 241 / 1 / 73 / 315:  63%|█████████████▏       | 315/500 [07:15<04:15,  1.38s/it]textattack: Saving checkpoint under \"checkpoints\\1720179422953.ta.chkpt\" at 2024-07-05 19:37:02 after 315 attacks.\n"
     ]
    },
    {
     "name": "stdout",
     "output_type": "stream",
     "text": [
      "\n",
      "\n",
      "=============================================================================================================================\n",
      "=============================================================================================================================\n",
      "\n"
     ]
    },
    {
     "name": "stderr",
     "output_type": "stream",
     "text": [
      "[Succeeded / Failed / Skipped / Total] 244 / 1 / 75 / 320:  64%|█████████████▍       | 320/500 [07:23<04:09,  1.39s/it]textattack: Saving checkpoint under \"checkpoints\\1720179431633.ta.chkpt\" at 2024-07-05 19:37:11 after 320 attacks.\n"
     ]
    },
    {
     "name": "stdout",
     "output_type": "stream",
     "text": [
      "\n",
      "\n",
      "=============================================================================================================================\n",
      "=============================================================================================================================\n",
      "\n"
     ]
    },
    {
     "name": "stderr",
     "output_type": "stream",
     "text": [
      "[Succeeded / Failed / Skipped / Total] 249 / 1 / 75 / 325:  65%|█████████████▋       | 325/500 [07:35<04:05,  1.40s/it]textattack: Saving checkpoint under \"checkpoints\\1720179443171.ta.chkpt\" at 2024-07-05 19:37:23 after 325 attacks.\n"
     ]
    },
    {
     "name": "stdout",
     "output_type": "stream",
     "text": [
      "\n",
      "\n",
      "=============================================================================================================================\n",
      "=============================================================================================================================\n",
      "\n"
     ]
    },
    {
     "name": "stderr",
     "output_type": "stream",
     "text": [
      "[Succeeded / Failed / Skipped / Total] 254 / 1 / 75 / 330:  66%|█████████████▊       | 330/500 [07:44<03:59,  1.41s/it]textattack: Saving checkpoint under \"checkpoints\\1720179452409.ta.chkpt\" at 2024-07-05 19:37:32 after 330 attacks.\n"
     ]
    },
    {
     "name": "stdout",
     "output_type": "stream",
     "text": [
      "\n",
      "\n",
      "=============================================================================================================================\n",
      "=============================================================================================================================\n",
      "\n"
     ]
    },
    {
     "name": "stderr",
     "output_type": "stream",
     "text": [
      "[Succeeded / Failed / Skipped / Total] 258 / 1 / 76 / 335:  67%|██████████████       | 335/500 [08:02<03:57,  1.44s/it]textattack: Saving checkpoint under \"checkpoints\\1720179469977.ta.chkpt\" at 2024-07-05 19:37:49 after 335 attacks.\n",
      "[Succeeded / Failed / Skipped / Total] 258 / 1 / 77 / 336:  67%|██████████████       | 336/500 [08:02<03:55,  1.44s/it]"
     ]
    },
    {
     "name": "stdout",
     "output_type": "stream",
     "text": [
      "\n",
      "\n",
      "=============================================================================================================================\n",
      "=============================================================================================================================\n",
      "\n"
     ]
    },
    {
     "name": "stderr",
     "output_type": "stream",
     "text": [
      "[Succeeded / Failed / Skipped / Total] 260 / 2 / 78 / 340:  68%|██████████████▎      | 340/500 [08:07<03:49,  1.44s/it]textattack: Saving checkpoint under \"checkpoints\\1720179475640.ta.chkpt\" at 2024-07-05 19:37:55 after 340 attacks.\n"
     ]
    },
    {
     "name": "stdout",
     "output_type": "stream",
     "text": [
      "\n",
      "\n",
      "=============================================================================================================================\n",
      "=============================================================================================================================\n",
      "\n"
     ]
    },
    {
     "name": "stderr",
     "output_type": "stream",
     "text": [
      "[Succeeded / Failed / Skipped / Total] 263 / 2 / 80 / 345:  69%|██████████████▍      | 345/500 [08:14<03:42,  1.43s/it]textattack: Saving checkpoint under \"checkpoints\\1720179481896.ta.chkpt\" at 2024-07-05 19:38:01 after 345 attacks.\n"
     ]
    },
    {
     "name": "stdout",
     "output_type": "stream",
     "text": [
      "\n",
      "\n",
      "=============================================================================================================================\n",
      "=============================================================================================================================\n",
      "\n"
     ]
    },
    {
     "name": "stderr",
     "output_type": "stream",
     "text": [
      "[Succeeded / Failed / Skipped / Total] 267 / 2 / 81 / 350:  70%|██████████████▋      | 350/500 [08:26<03:36,  1.45s/it]textattack: Saving checkpoint under \"checkpoints\\1720179493777.ta.chkpt\" at 2024-07-05 19:38:13 after 350 attacks.\n"
     ]
    },
    {
     "name": "stdout",
     "output_type": "stream",
     "text": [
      "\n",
      "\n",
      "=============================================================================================================================\n",
      "=============================================================================================================================\n",
      "\n"
     ]
    },
    {
     "name": "stderr",
     "output_type": "stream",
     "text": [
      "[Succeeded / Failed / Skipped / Total] 271 / 3 / 81 / 355:  71%|██████████████▉      | 355/500 [08:42<03:33,  1.47s/it]textattack: Saving checkpoint under \"checkpoints\\1720179510252.ta.chkpt\" at 2024-07-05 19:38:30 after 355 attacks.\n"
     ]
    },
    {
     "name": "stdout",
     "output_type": "stream",
     "text": [
      "\n",
      "\n",
      "=============================================================================================================================\n",
      "=============================================================================================================================\n",
      "\n"
     ]
    },
    {
     "name": "stderr",
     "output_type": "stream",
     "text": [
      "[Succeeded / Failed / Skipped / Total] 275 / 3 / 82 / 360:  72%|███████████████      | 360/500 [08:50<03:26,  1.47s/it]textattack: Saving checkpoint under \"checkpoints\\1720179518238.ta.chkpt\" at 2024-07-05 19:38:38 after 360 attacks.\n"
     ]
    },
    {
     "name": "stdout",
     "output_type": "stream",
     "text": [
      "\n",
      "\n",
      "=============================================================================================================================\n",
      "=============================================================================================================================\n",
      "\n"
     ]
    },
    {
     "name": "stderr",
     "output_type": "stream",
     "text": [
      "[Succeeded / Failed / Skipped / Total] 280 / 3 / 82 / 365:  73%|███████████████▎     | 365/500 [08:58<03:19,  1.47s/it]textattack: Saving checkpoint under \"checkpoints\\1720179525943.ta.chkpt\" at 2024-07-05 19:38:45 after 365 attacks.\n",
      "[Succeeded / Failed / Skipped / Total] 280 / 3 / 83 / 366:  73%|███████████████▎     | 366/500 [08:58<03:17,  1.47s/it]"
     ]
    },
    {
     "name": "stdout",
     "output_type": "stream",
     "text": [
      "\n",
      "\n",
      "=============================================================================================================================\n",
      "=============================================================================================================================\n",
      "\n"
     ]
    },
    {
     "name": "stderr",
     "output_type": "stream",
     "text": [
      "[Succeeded / Failed / Skipped / Total] 284 / 3 / 83 / 370:  74%|███████████████▌     | 370/500 [09:04<03:11,  1.47s/it]textattack: Saving checkpoint under \"checkpoints\\1720179532234.ta.chkpt\" at 2024-07-05 19:38:52 after 370 attacks.\n",
      "[Succeeded / Failed / Skipped / Total] 284 / 3 / 84 / 371:  74%|███████████████▌     | 371/500 [09:04<03:09,  1.47s/it]"
     ]
    },
    {
     "name": "stdout",
     "output_type": "stream",
     "text": [
      "\n",
      "\n",
      "=============================================================================================================================\n",
      "=============================================================================================================================\n",
      "\n"
     ]
    },
    {
     "name": "stderr",
     "output_type": "stream",
     "text": [
      "[Succeeded / Failed / Skipped / Total] 288 / 3 / 84 / 375:  75%|███████████████▊     | 375/500 [09:11<03:03,  1.47s/it]textattack: Saving checkpoint under \"checkpoints\\1720179539665.ta.chkpt\" at 2024-07-05 19:38:59 after 375 attacks.\n"
     ]
    },
    {
     "name": "stdout",
     "output_type": "stream",
     "text": [
      "\n",
      "\n",
      "=============================================================================================================================\n",
      "=============================================================================================================================\n",
      "\n"
     ]
    },
    {
     "name": "stderr",
     "output_type": "stream",
     "text": [
      "[Succeeded / Failed / Skipped / Total] 292 / 3 / 85 / 380:  76%|███████████████▉     | 380/500 [09:16<02:55,  1.47s/it]textattack: Saving checkpoint under \"checkpoints\\1720179544474.ta.chkpt\" at 2024-07-05 19:39:04 after 380 attacks.\n"
     ]
    },
    {
     "name": "stdout",
     "output_type": "stream",
     "text": [
      "\n",
      "\n",
      "=============================================================================================================================\n",
      "=============================================================================================================================\n",
      "\n"
     ]
    },
    {
     "name": "stderr",
     "output_type": "stream",
     "text": [
      "[Succeeded / Failed / Skipped / Total] 297 / 3 / 85 / 385:  77%|████████████████▏    | 385/500 [09:24<02:48,  1.47s/it]textattack: Saving checkpoint under \"checkpoints\\1720179552668.ta.chkpt\" at 2024-07-05 19:39:12 after 385 attacks.\n"
     ]
    },
    {
     "name": "stdout",
     "output_type": "stream",
     "text": [
      "\n",
      "\n",
      "=============================================================================================================================\n",
      "=============================================================================================================================\n",
      "\n"
     ]
    },
    {
     "name": "stderr",
     "output_type": "stream",
     "text": [
      "[Succeeded / Failed / Skipped / Total] 301 / 3 / 86 / 390:  78%|████████████████▍    | 390/500 [09:30<02:40,  1.46s/it]textattack: Saving checkpoint under \"checkpoints\\1720179558063.ta.chkpt\" at 2024-07-05 19:39:18 after 390 attacks.\n"
     ]
    },
    {
     "name": "stdout",
     "output_type": "stream",
     "text": [
      "\n",
      "\n",
      "=============================================================================================================================\n",
      "=============================================================================================================================\n",
      "\n"
     ]
    },
    {
     "name": "stderr",
     "output_type": "stream",
     "text": [
      "[Succeeded / Failed / Skipped / Total] 305 / 3 / 87 / 395:  79%|████████████████▌    | 395/500 [09:39<02:34,  1.47s/it]textattack: Saving checkpoint under \"checkpoints\\1720179567384.ta.chkpt\" at 2024-07-05 19:39:27 after 395 attacks.\n"
     ]
    },
    {
     "name": "stdout",
     "output_type": "stream",
     "text": [
      "\n",
      "\n",
      "=============================================================================================================================\n",
      "=============================================================================================================================\n",
      "\n"
     ]
    },
    {
     "name": "stderr",
     "output_type": "stream",
     "text": [
      "[Succeeded / Failed / Skipped / Total] 310 / 3 / 87 / 400:  80%|████████████████▊    | 400/500 [09:49<02:27,  1.47s/it]textattack: Saving checkpoint under \"checkpoints\\1720179577072.ta.chkpt\" at 2024-07-05 19:39:37 after 400 attacks.\n"
     ]
    },
    {
     "name": "stdout",
     "output_type": "stream",
     "text": [
      "\n",
      "\n",
      "=============================================================================================================================\n",
      "=============================================================================================================================\n",
      "\n"
     ]
    },
    {
     "name": "stderr",
     "output_type": "stream",
     "text": [
      "[Succeeded / Failed / Skipped / Total] 315 / 3 / 87 / 405:  81%|█████████████████    | 405/500 [10:00<02:20,  1.48s/it]textattack: Saving checkpoint under \"checkpoints\\1720179587732.ta.chkpt\" at 2024-07-05 19:39:47 after 405 attacks.\n"
     ]
    },
    {
     "name": "stdout",
     "output_type": "stream",
     "text": [
      "\n",
      "\n",
      "=============================================================================================================================\n",
      "=============================================================================================================================\n",
      "\n"
     ]
    },
    {
     "name": "stderr",
     "output_type": "stream",
     "text": [
      "[Succeeded / Failed / Skipped / Total] 319 / 3 / 88 / 410:  82%|█████████████████▏   | 410/500 [10:06<02:13,  1.48s/it]textattack: Saving checkpoint under \"checkpoints\\1720179594154.ta.chkpt\" at 2024-07-05 19:39:54 after 410 attacks.\n"
     ]
    },
    {
     "name": "stdout",
     "output_type": "stream",
     "text": [
      "\n",
      "\n",
      "=============================================================================================================================\n",
      "=============================================================================================================================\n",
      "\n"
     ]
    },
    {
     "name": "stderr",
     "output_type": "stream",
     "text": [
      "[Succeeded / Failed / Skipped / Total] 320 / 3 / 92 / 415:  83%|█████████████████▍   | 415/500 [10:09<02:04,  1.47s/it]textattack: Saving checkpoint under \"checkpoints\\1720179597008.ta.chkpt\" at 2024-07-05 19:39:57 after 415 attacks.\n"
     ]
    },
    {
     "name": "stdout",
     "output_type": "stream",
     "text": [
      "\n",
      "\n",
      "=============================================================================================================================\n",
      "=============================================================================================================================\n",
      "\n"
     ]
    },
    {
     "name": "stderr",
     "output_type": "stream",
     "text": [
      "[Succeeded / Failed / Skipped / Total] 323 / 4 / 93 / 420:  84%|█████████████████▋   | 420/500 [10:20<01:58,  1.48s/it]textattack: Saving checkpoint under \"checkpoints\\1720179608414.ta.chkpt\" at 2024-07-05 19:40:08 after 420 attacks.\n"
     ]
    },
    {
     "name": "stdout",
     "output_type": "stream",
     "text": [
      "\n",
      "\n",
      "=============================================================================================================================\n",
      "=============================================================================================================================\n",
      "\n"
     ]
    },
    {
     "name": "stderr",
     "output_type": "stream",
     "text": [
      "[Succeeded / Failed / Skipped / Total] 328 / 4 / 93 / 425:  85%|█████████████████▊   | 425/500 [10:29<01:51,  1.48s/it]textattack: Saving checkpoint under \"checkpoints\\1720179617301.ta.chkpt\" at 2024-07-05 19:40:17 after 425 attacks.\n"
     ]
    },
    {
     "name": "stdout",
     "output_type": "stream",
     "text": [
      "\n",
      "\n",
      "=============================================================================================================================\n",
      "=============================================================================================================================\n",
      "\n"
     ]
    },
    {
     "name": "stderr",
     "output_type": "stream",
     "text": [
      "[Succeeded / Failed / Skipped / Total] 333 / 4 / 93 / 430:  86%|██████████████████   | 430/500 [10:40<01:44,  1.49s/it]textattack: Saving checkpoint under \"checkpoints\\1720179628013.ta.chkpt\" at 2024-07-05 19:40:28 after 430 attacks.\n",
      "[Succeeded / Failed / Skipped / Total] 333 / 4 / 94 / 431:  86%|██████████████████   | 431/500 [10:40<01:42,  1.49s/it]"
     ]
    },
    {
     "name": "stdout",
     "output_type": "stream",
     "text": [
      "\n",
      "\n",
      "=============================================================================================================================\n",
      "=============================================================================================================================\n",
      "\n"
     ]
    },
    {
     "name": "stderr",
     "output_type": "stream",
     "text": [
      "[Succeeded / Failed / Skipped / Total] 337 / 4 / 94 / 435:  87%|██████████████████▎  | 435/500 [10:46<01:36,  1.49s/it]textattack: Saving checkpoint under \"checkpoints\\1720179634173.ta.chkpt\" at 2024-07-05 19:40:34 after 435 attacks.\n",
      "[Succeeded / Failed / Skipped / Total] 337 / 4 / 95 / 436:  87%|██████████████████▎  | 436/500 [10:46<01:34,  1.48s/it]"
     ]
    },
    {
     "name": "stdout",
     "output_type": "stream",
     "text": [
      "\n",
      "\n",
      "=============================================================================================================================\n",
      "=============================================================================================================================\n",
      "\n"
     ]
    },
    {
     "name": "stderr",
     "output_type": "stream",
     "text": [
      "[Succeeded / Failed / Skipped / Total] 341 / 4 / 95 / 440:  88%|██████████████████▍  | 440/500 [10:59<01:29,  1.50s/it]textattack: Saving checkpoint under \"checkpoints\\1720179646913.ta.chkpt\" at 2024-07-05 19:40:46 after 440 attacks.\n"
     ]
    },
    {
     "name": "stdout",
     "output_type": "stream",
     "text": [
      "\n",
      "\n",
      "=============================================================================================================================\n",
      "=============================================================================================================================\n",
      "\n"
     ]
    },
    {
     "name": "stderr",
     "output_type": "stream",
     "text": [
      "[Succeeded / Failed / Skipped / Total] 345 / 4 / 96 / 445:  89%|██████████████████▋  | 445/500 [11:03<01:22,  1.49s/it]textattack: Saving checkpoint under \"checkpoints\\1720179651348.ta.chkpt\" at 2024-07-05 19:40:51 after 445 attacks.\n"
     ]
    },
    {
     "name": "stdout",
     "output_type": "stream",
     "text": [
      "\n",
      "\n",
      "=============================================================================================================================\n",
      "=============================================================================================================================\n",
      "\n"
     ]
    },
    {
     "name": "stderr",
     "output_type": "stream",
     "text": [
      "[Succeeded / Failed / Skipped / Total] 348 / 4 / 98 / 450:  90%|██████████████████▉  | 450/500 [11:10<01:14,  1.49s/it]textattack: Saving checkpoint under \"checkpoints\\1720179658026.ta.chkpt\" at 2024-07-05 19:40:58 after 450 attacks.\n"
     ]
    },
    {
     "name": "stdout",
     "output_type": "stream",
     "text": [
      "\n",
      "\n",
      "=============================================================================================================================\n",
      "=============================================================================================================================\n",
      "\n"
     ]
    },
    {
     "name": "stderr",
     "output_type": "stream",
     "text": [
      "[Succeeded / Failed / Skipped / Total] 352 / 4 / 99 / 455:  91%|███████████████████  | 455/500 [11:19<01:07,  1.49s/it]textattack: Saving checkpoint under \"checkpoints\\1720179667034.ta.chkpt\" at 2024-07-05 19:41:07 after 455 attacks.\n",
      "[Succeeded / Failed / Skipped / Total] 352 / 4 / 100 / 456:  91%|██████████████████▏ | 456/500 [11:19<01:05,  1.49s/it]"
     ]
    },
    {
     "name": "stdout",
     "output_type": "stream",
     "text": [
      "\n",
      "\n",
      "=============================================================================================================================\n",
      "=============================================================================================================================\n",
      "\n"
     ]
    },
    {
     "name": "stderr",
     "output_type": "stream",
     "text": [
      "[Succeeded / Failed / Skipped / Total] 356 / 4 / 100 / 460:  92%|██████████████████▍ | 460/500 [11:27<00:59,  1.50s/it]textattack: Saving checkpoint under \"checkpoints\\1720179675659.ta.chkpt\" at 2024-07-05 19:41:15 after 460 attacks.\n"
     ]
    },
    {
     "name": "stdout",
     "output_type": "stream",
     "text": [
      "\n",
      "\n",
      "=============================================================================================================================\n",
      "=============================================================================================================================\n",
      "\n"
     ]
    },
    {
     "name": "stderr",
     "output_type": "stream",
     "text": [
      "[Succeeded / Failed / Skipped / Total] 359 / 4 / 102 / 465:  93%|██████████████████▌ | 465/500 [11:35<00:52,  1.50s/it]textattack: Saving checkpoint under \"checkpoints\\1720179682953.ta.chkpt\" at 2024-07-05 19:41:22 after 465 attacks.\n"
     ]
    },
    {
     "name": "stdout",
     "output_type": "stream",
     "text": [
      "\n",
      "\n",
      "=============================================================================================================================\n",
      "=============================================================================================================================\n",
      "\n"
     ]
    },
    {
     "name": "stderr",
     "output_type": "stream",
     "text": [
      "[Succeeded / Failed / Skipped / Total] 363 / 4 / 103 / 470:  94%|██████████████████▊ | 470/500 [11:38<00:44,  1.49s/it]textattack: Saving checkpoint under \"checkpoints\\1720179686480.ta.chkpt\" at 2024-07-05 19:41:26 after 470 attacks.\n"
     ]
    },
    {
     "name": "stdout",
     "output_type": "stream",
     "text": [
      "\n",
      "\n",
      "=============================================================================================================================\n",
      "=============================================================================================================================\n",
      "\n"
     ]
    },
    {
     "name": "stderr",
     "output_type": "stream",
     "text": [
      "[Succeeded / Failed / Skipped / Total] 368 / 4 / 103 / 475:  95%|███████████████████ | 475/500 [11:52<00:37,  1.50s/it]textattack: Saving checkpoint under \"checkpoints\\1720179700213.ta.chkpt\" at 2024-07-05 19:41:40 after 475 attacks.\n"
     ]
    },
    {
     "name": "stdout",
     "output_type": "stream",
     "text": [
      "\n",
      "\n",
      "=============================================================================================================================\n",
      "=============================================================================================================================\n",
      "\n"
     ]
    },
    {
     "name": "stderr",
     "output_type": "stream",
     "text": [
      "[Succeeded / Failed / Skipped / Total] 373 / 4 / 103 / 480:  96%|███████████████████▏| 480/500 [11:57<00:29,  1.49s/it]textattack: Saving checkpoint under \"checkpoints\\1720179705135.ta.chkpt\" at 2024-07-05 19:41:45 after 480 attacks.\n"
     ]
    },
    {
     "name": "stdout",
     "output_type": "stream",
     "text": [
      "\n",
      "\n",
      "=============================================================================================================================\n",
      "=============================================================================================================================\n",
      "\n"
     ]
    },
    {
     "name": "stderr",
     "output_type": "stream",
     "text": [
      "[Succeeded / Failed / Skipped / Total] 377 / 4 / 104 / 485:  97%|███████████████████▍| 485/500 [12:03<00:22,  1.49s/it]textattack: Saving checkpoint under \"checkpoints\\1720179711516.ta.chkpt\" at 2024-07-05 19:41:51 after 485 attacks.\n"
     ]
    },
    {
     "name": "stdout",
     "output_type": "stream",
     "text": [
      "\n",
      "\n",
      "=============================================================================================================================\n",
      "=============================================================================================================================\n",
      "\n"
     ]
    },
    {
     "name": "stderr",
     "output_type": "stream",
     "text": [
      "[Succeeded / Failed / Skipped / Total] 380 / 4 / 106 / 490:  98%|███████████████████▌| 490/500 [12:09<00:14,  1.49s/it]textattack: Saving checkpoint under \"checkpoints\\1720179717532.ta.chkpt\" at 2024-07-05 19:41:57 after 490 attacks.\n",
      "[Succeeded / Failed / Skipped / Total] 380 / 4 / 107 / 491:  98%|███████████████████▋| 491/500 [12:09<00:13,  1.49s/it]"
     ]
    },
    {
     "name": "stdout",
     "output_type": "stream",
     "text": [
      "\n",
      "\n",
      "=============================================================================================================================\n",
      "=============================================================================================================================\n",
      "\n"
     ]
    },
    {
     "name": "stderr",
     "output_type": "stream",
     "text": [
      "[Succeeded / Failed / Skipped / Total] 384 / 4 / 107 / 495:  99%|███████████████████▊| 495/500 [12:17<00:07,  1.49s/it]textattack: Saving checkpoint under \"checkpoints\\1720179724854.ta.chkpt\" at 2024-07-05 19:42:04 after 495 attacks.\n"
     ]
    },
    {
     "name": "stdout",
     "output_type": "stream",
     "text": [
      "\n",
      "\n",
      "=============================================================================================================================\n",
      "=============================================================================================================================\n",
      "\n"
     ]
    },
    {
     "name": "stderr",
     "output_type": "stream",
     "text": [
      "[Succeeded / Failed / Skipped / Total] 389 / 4 / 107 / 500: 100%|████████████████████| 500/500 [12:29<00:00,  1.50s/it]textattack: Saving checkpoint under \"checkpoints\\1720179736726.ta.chkpt\" at 2024-07-05 19:42:16 after 500 attacks.\n",
      "[Succeeded / Failed / Skipped / Total] 389 / 4 / 107 / 500: 100%|████████████████████| 500/500 [12:29<00:00,  1.50s/it]"
     ]
    },
    {
     "name": "stdout",
     "output_type": "stream",
     "text": [
      "\n",
      "\n",
      "=============================================================================================================================\n",
      "=============================================================================================================================\n",
      "\n",
      "\n",
      "+-------------------------------+--------+\n",
      "| Attack Results                |        |\n",
      "+-------------------------------+--------+\n",
      "| Number of successful attacks: | 389    |\n",
      "| Number of failed attacks:     | 4      |\n",
      "| Number of skipped attacks:    | 107    |\n",
      "| Original accuracy:            | 78.6%  |\n",
      "| Accuracy under attack:        | 0.8%   |\n",
      "| Attack success rate:          | 98.98% |\n",
      "| Average perturbed word %:     | 15.64% |\n",
      "| Average num. words per input: | 18.4   |\n",
      "| Avg num queries:              | 77.61  |\n",
      "+-------------------------------+--------+\n"
     ]
    },
    {
     "name": "stderr",
     "output_type": "stream",
     "text": [
      "\n"
     ]
    }
   ],
   "source": [
    "runAttack(disbert_model_wrapper_svc_mr, n_samples, 'attack_results_new/disbertmrattacksvc'+suffix, target_ds_mr)"
   ]
  },
  {
   "cell_type": "markdown",
   "id": "11f01fff-dcd8-43f2-9b5b-d84826b7029b",
   "metadata": {},
   "source": [
    "### CLIP"
   ]
  },
  {
   "cell_type": "code",
   "execution_count": 24,
   "id": "91dc94fc-775d-4ee6-ba68-20bee81b8148",
   "metadata": {},
   "outputs": [
    {
     "name": "stderr",
     "output_type": "stream",
     "text": [
      "D:\\anaconda3\\envs\\tf\\lib\\site-packages\\huggingface_hub\\file_download.py:1132: FutureWarning: `resume_download` is deprecated and will be removed in version 1.0.0. Downloads always resume when possible. If you want to force a new download, use `force_download=True`.\n",
      "  warnings.warn(\n"
     ]
    }
   ],
   "source": [
    "# Load CLIP model and processor\n",
    "model_name = \"openai/clip-vit-base-patch32\"\n",
    "clip_processor = CLIPProcessor.from_pretrained(model_name)\n",
    "clip_model = CLIPModel.from_pretrained(model_name)\n",
    "\n",
    "# Access text encoder\n",
    "text_encoder = clip_model.text_model"
   ]
  },
  {
   "cell_type": "code",
   "execution_count": 25,
   "id": "806470a6-11a7-47bf-99c8-850663674716",
   "metadata": {},
   "outputs": [
    {
     "name": "stdout",
     "output_type": "stream",
     "text": [
      "Log Reg 0.7495309568480301\n",
      "RF 0.7054409005628518\n",
      "KNN 0.6885553470919324\n",
      "SVC 0.7551594746716698\n"
     ]
    }
   ],
   "source": [
    "clipmrtrain = pd.read_csv('dataset_embeddings/clipmrtrain.txt', header=None)\n",
    "clipmrtest = pd.read_csv('dataset_embeddings/clipmrtest.txt', header=None)\n",
    "lr_clip_mr, rf_clip_mr, knn_clip_mr, svc_clip_mr = adaptation(clipmrtrain, clipmrtest)"
   ]
  },
  {
   "cell_type": "code",
   "execution_count": 26,
   "id": "1226de83-7330-4793-bbbb-4ff4b79bb3e7",
   "metadata": {},
   "outputs": [],
   "source": [
    "# custom model wrapper for CLIP\n",
    "class CLIPModelWrapper(HuggingFaceModelWrapper):\n",
    "    def __init__(self, processor, text_encoder, classifier):\n",
    "        self.processor = processor\n",
    "        self.model = text_encoder\n",
    "        self.classifier = classifier\n",
    "\n",
    "    def __call__(self, text_input_list):\n",
    "        inputs = self.processor(text_input_list, return_tensors='pt', padding=True, truncation=True)\n",
    "        outputs = self.model(**inputs).pooler_output\n",
    "        with torch.no_grad():\n",
    "            preds = self.classifier.predict_proba(outputs)\n",
    "        return preds"
   ]
  },
  {
   "cell_type": "code",
   "execution_count": 27,
   "id": "34a07916-1e13-4b75-b9a9-a36c06e4feb1",
   "metadata": {},
   "outputs": [],
   "source": [
    "clip_model_wrapper_lr_mr = CLIPModelWrapper(clip_processor, text_encoder, lr_clip_mr)\n",
    "clip_model_wrapper_rf_mr = CLIPModelWrapper(clip_processor, text_encoder, rf_clip_mr)\n",
    "clip_model_wrapper_knn_mr = CLIPModelWrapper(clip_processor, text_encoder, knn_clip_mr)\n",
    "clip_model_wrapper_svc_mr = CLIPModelWrapper(clip_processor, text_encoder, svc_clip_mr)"
   ]
  },
  {
   "cell_type": "code",
   "execution_count": 28,
   "id": "31968c92-5988-4472-8c2b-de82302e8543",
   "metadata": {
    "scrolled": true
   },
   "outputs": [
    {
     "name": "stderr",
     "output_type": "stream",
     "text": [
      "textattack: Unknown if model of class <class 'transformers.models.clip.modeling_clip.CLIPTextTransformer'> compatible with goal function <class 'textattack.goal_functions.classification.untargeted_classification.UntargetedClassification'>.\n",
      "textattack: Logging to CSV at path attack_results_new/clipmrattacklrsim05.csv\n"
     ]
    },
    {
     "name": "stdout",
     "output_type": "stream",
     "text": [
      "Attack(\n",
      "  (search_method): GreedyWordSwapWIR(\n",
      "    (wir_method):  delete\n",
      "  )\n",
      "  (goal_function):  UntargetedClassification\n",
      "  (transformation):  WordSwapEmbedding(\n",
      "    (max_candidates):  50\n",
      "    (embedding):  WordEmbedding\n",
      "  )\n",
      "  (constraints): \n",
      "    (0): WordEmbeddingDistance(\n",
      "        (embedding):  WordEmbedding\n",
      "        (min_cos_sim):  0.5\n",
      "        (cased):  False\n",
      "        (include_unknown_words):  True\n",
      "        (compare_against_original):  True\n",
      "      )\n",
      "    (1): PartOfSpeech(\n",
      "        (tagger_type):  nltk\n",
      "        (tagset):  universal\n",
      "        (allow_verb_noun_swap):  True\n",
      "        (compare_against_original):  True\n",
      "      )\n",
      "    (2): UniversalSentenceEncoder(\n",
      "        (metric):  angular\n",
      "        (threshold):  0.840845057\n",
      "        (window_size):  15\n",
      "        (skip_text_shorter_than_window):  True\n",
      "        (compare_against_original):  False\n",
      "      )\n",
      "    (3): RepeatModification\n",
      "    (4): StopwordModification\n",
      "    (5): InputColumnModification(\n",
      "        (matching_column_labels):  ['premise', 'hypothesis']\n",
      "        (columns_to_ignore):  {'premise'}\n",
      "      )\n",
      "  (is_black_box):  True\n",
      ") \n",
      "\n"
     ]
    },
    {
     "name": "stderr",
     "output_type": "stream",
     "text": [
      "[Succeeded / Failed / Skipped / Total] 5 / 0 / 0 / 5:   1%|▎                           | 5/500 [00:20<34:17,  4.16s/it]textattack: Saving checkpoint under \"checkpoints\\1720180188615.ta.chkpt\" at 2024-07-05 19:49:48 after 5 attacks.\n",
      "[Succeeded / Failed / Skipped / Total] 5 / 0 / 1 / 6:   1%|▎                           | 6/500 [00:20<28:42,  3.49s/it]"
     ]
    },
    {
     "name": "stdout",
     "output_type": "stream",
     "text": [
      "\n",
      "\n",
      "=============================================================================================================================\n",
      "=============================================================================================================================\n",
      "\n"
     ]
    },
    {
     "name": "stderr",
     "output_type": "stream",
     "text": [
      "[Succeeded / Failed / Skipped / Total] 9 / 0 / 1 / 10:   2%|▌                         | 10/500 [00:28<23:02,  2.82s/it]textattack: Saving checkpoint under \"checkpoints\\1720180196044.ta.chkpt\" at 2024-07-05 19:49:56 after 10 attacks.\n"
     ]
    },
    {
     "name": "stdout",
     "output_type": "stream",
     "text": [
      "\n",
      "\n",
      "=============================================================================================================================\n",
      "=============================================================================================================================\n",
      "\n"
     ]
    },
    {
     "name": "stderr",
     "output_type": "stream",
     "text": [
      "[Succeeded / Failed / Skipped / Total] 14 / 0 / 1 / 15:   3%|▊                        | 15/500 [00:46<25:14,  3.12s/it]textattack: Saving checkpoint under \"checkpoints\\1720180214669.ta.chkpt\" at 2024-07-05 19:50:14 after 15 attacks.\n"
     ]
    },
    {
     "name": "stdout",
     "output_type": "stream",
     "text": [
      "\n",
      "\n",
      "=============================================================================================================================\n",
      "=============================================================================================================================\n",
      "\n"
     ]
    },
    {
     "name": "stderr",
     "output_type": "stream",
     "text": [
      "[Succeeded / Failed / Skipped / Total] 19 / 0 / 1 / 20:   4%|█                        | 20/500 [00:49<19:40,  2.46s/it]textattack: Saving checkpoint under \"checkpoints\\1720180217008.ta.chkpt\" at 2024-07-05 19:50:17 after 20 attacks.\n"
     ]
    },
    {
     "name": "stdout",
     "output_type": "stream",
     "text": [
      "\n",
      "\n",
      "=============================================================================================================================\n",
      "=============================================================================================================================\n",
      "\n"
     ]
    },
    {
     "name": "stderr",
     "output_type": "stream",
     "text": [
      "[Succeeded / Failed / Skipped / Total] 23 / 0 / 2 / 25:   5%|█▎                       | 25/500 [00:54<17:24,  2.20s/it]textattack: Saving checkpoint under \"checkpoints\\1720180222834.ta.chkpt\" at 2024-07-05 19:50:22 after 25 attacks.\n"
     ]
    },
    {
     "name": "stdout",
     "output_type": "stream",
     "text": [
      "\n",
      "\n",
      "=============================================================================================================================\n",
      "=============================================================================================================================\n",
      "\n"
     ]
    },
    {
     "name": "stderr",
     "output_type": "stream",
     "text": [
      "[Succeeded / Failed / Skipped / Total] 27 / 0 / 3 / 30:   6%|█▌                       | 30/500 [01:01<15:57,  2.04s/it]textattack: Saving checkpoint under \"checkpoints\\1720180228956.ta.chkpt\" at 2024-07-05 19:50:28 after 30 attacks.\n"
     ]
    },
    {
     "name": "stdout",
     "output_type": "stream",
     "text": [
      "\n",
      "\n",
      "=============================================================================================================================\n",
      "=============================================================================================================================\n",
      "\n"
     ]
    },
    {
     "name": "stderr",
     "output_type": "stream",
     "text": [
      "[Succeeded / Failed / Skipped / Total] 30 / 0 / 5 / 35:   7%|█▊                       | 35/500 [01:03<14:08,  1.82s/it]textattack: Saving checkpoint under \"checkpoints\\1720180231691.ta.chkpt\" at 2024-07-05 19:50:31 after 35 attacks.\n"
     ]
    },
    {
     "name": "stdout",
     "output_type": "stream",
     "text": [
      "\n",
      "\n",
      "=============================================================================================================================\n",
      "=============================================================================================================================\n",
      "\n"
     ]
    },
    {
     "name": "stderr",
     "output_type": "stream",
     "text": [
      "[Succeeded / Failed / Skipped / Total] 33 / 0 / 7 / 40:   8%|██                       | 40/500 [01:06<12:40,  1.65s/it]textattack: Saving checkpoint under \"checkpoints\\1720180234007.ta.chkpt\" at 2024-07-05 19:50:34 after 40 attacks.\n"
     ]
    },
    {
     "name": "stdout",
     "output_type": "stream",
     "text": [
      "\n",
      "\n",
      "=============================================================================================================================\n",
      "=============================================================================================================================\n",
      "\n"
     ]
    },
    {
     "name": "stderr",
     "output_type": "stream",
     "text": [
      "[Succeeded / Failed / Skipped / Total] 36 / 0 / 9 / 45:   9%|██▎                      | 45/500 [01:14<12:35,  1.66s/it]textattack: Saving checkpoint under \"checkpoints\\1720180242547.ta.chkpt\" at 2024-07-05 19:50:42 after 45 attacks.\n"
     ]
    },
    {
     "name": "stdout",
     "output_type": "stream",
     "text": [
      "\n",
      "\n",
      "=============================================================================================================================\n",
      "=============================================================================================================================\n",
      "\n"
     ]
    },
    {
     "name": "stderr",
     "output_type": "stream",
     "text": [
      "[Succeeded / Failed / Skipped / Total] 41 / 0 / 9 / 50:  10%|██▌                      | 50/500 [01:19<11:54,  1.59s/it]textattack: Saving checkpoint under \"checkpoints\\1720180247230.ta.chkpt\" at 2024-07-05 19:50:47 after 50 attacks.\n"
     ]
    },
    {
     "name": "stdout",
     "output_type": "stream",
     "text": [
      "\n",
      "\n",
      "=============================================================================================================================\n",
      "=============================================================================================================================\n",
      "\n"
     ]
    },
    {
     "name": "stderr",
     "output_type": "stream",
     "text": [
      "[Succeeded / Failed / Skipped / Total] 45 / 0 / 10 / 55:  11%|██▋                     | 55/500 [01:27<11:44,  1.58s/it]textattack: Saving checkpoint under \"checkpoints\\1720180254963.ta.chkpt\" at 2024-07-05 19:50:54 after 55 attacks.\n"
     ]
    },
    {
     "name": "stdout",
     "output_type": "stream",
     "text": [
      "\n",
      "\n",
      "=============================================================================================================================\n",
      "=============================================================================================================================\n",
      "\n"
     ]
    },
    {
     "name": "stderr",
     "output_type": "stream",
     "text": [
      "[Succeeded / Failed / Skipped / Total] 49 / 0 / 11 / 60:  12%|██▉                     | 60/500 [01:33<11:25,  1.56s/it]textattack: Saving checkpoint under \"checkpoints\\1720180261250.ta.chkpt\" at 2024-07-05 19:51:01 after 60 attacks.\n",
      "[Succeeded / Failed / Skipped / Total] 49 / 0 / 12 / 61:  12%|██▉                     | 61/500 [01:33<11:12,  1.53s/it]"
     ]
    },
    {
     "name": "stdout",
     "output_type": "stream",
     "text": [
      "\n",
      "\n",
      "=============================================================================================================================\n",
      "=============================================================================================================================\n",
      "\n"
     ]
    },
    {
     "name": "stderr",
     "output_type": "stream",
     "text": [
      "[Succeeded / Failed / Skipped / Total] 53 / 0 / 12 / 65:  13%|███                     | 65/500 [01:37<10:53,  1.50s/it]textattack: Saving checkpoint under \"checkpoints\\1720180265417.ta.chkpt\" at 2024-07-05 19:51:05 after 65 attacks.\n"
     ]
    },
    {
     "name": "stdout",
     "output_type": "stream",
     "text": [
      "\n",
      "\n",
      "=============================================================================================================================\n",
      "=============================================================================================================================\n",
      "\n"
     ]
    },
    {
     "name": "stderr",
     "output_type": "stream",
     "text": [
      "[Succeeded / Failed / Skipped / Total] 57 / 0 / 13 / 70:  14%|███▎                    | 70/500 [01:46<10:53,  1.52s/it]textattack: Saving checkpoint under \"checkpoints\\1720180274159.ta.chkpt\" at 2024-07-05 19:51:14 after 70 attacks.\n"
     ]
    },
    {
     "name": "stdout",
     "output_type": "stream",
     "text": [
      "\n",
      "\n",
      "=============================================================================================================================\n",
      "=============================================================================================================================\n",
      "\n"
     ]
    },
    {
     "name": "stderr",
     "output_type": "stream",
     "text": [
      "[Succeeded / Failed / Skipped / Total] 62 / 0 / 13 / 75:  15%|███▌                    | 75/500 [01:51<10:32,  1.49s/it]textattack: Saving checkpoint under \"checkpoints\\1720180279532.ta.chkpt\" at 2024-07-05 19:51:19 after 75 attacks.\n",
      "[Succeeded / Failed / Skipped / Total] 62 / 0 / 14 / 76:  15%|███▋                    | 76/500 [01:51<10:23,  1.47s/it]"
     ]
    },
    {
     "name": "stdout",
     "output_type": "stream",
     "text": [
      "\n",
      "\n",
      "=============================================================================================================================\n",
      "=============================================================================================================================\n",
      "\n"
     ]
    },
    {
     "name": "stderr",
     "output_type": "stream",
     "text": [
      "[Succeeded / Failed / Skipped / Total] 65 / 0 / 15 / 80:  16%|███▊                    | 80/500 [01:56<10:10,  1.45s/it]textattack: Saving checkpoint under \"checkpoints\\1720180284039.ta.chkpt\" at 2024-07-05 19:51:24 after 80 attacks.\n",
      "[Succeeded / Failed / Skipped / Total] 65 / 0 / 17 / 82:  16%|███▉                    | 82/500 [01:56<09:52,  1.42s/it]"
     ]
    },
    {
     "name": "stdout",
     "output_type": "stream",
     "text": [
      "\n",
      "\n",
      "=============================================================================================================================\n",
      "=============================================================================================================================\n",
      "\n"
     ]
    },
    {
     "name": "stderr",
     "output_type": "stream",
     "text": [
      "[Succeeded / Failed / Skipped / Total] 68 / 0 / 17 / 85:  17%|████                    | 85/500 [01:58<09:38,  1.39s/it]textattack: Saving checkpoint under \"checkpoints\\1720180286302.ta.chkpt\" at 2024-07-05 19:51:26 after 85 attacks.\n"
     ]
    },
    {
     "name": "stdout",
     "output_type": "stream",
     "text": [
      "\n",
      "\n",
      "=============================================================================================================================\n",
      "=============================================================================================================================\n",
      "\n"
     ]
    },
    {
     "name": "stderr",
     "output_type": "stream",
     "text": [
      "[Succeeded / Failed / Skipped / Total] 72 / 0 / 18 / 90:  18%|████▎                   | 90/500 [02:03<09:24,  1.38s/it]textattack: Saving checkpoint under \"checkpoints\\1720180291780.ta.chkpt\" at 2024-07-05 19:51:31 after 90 attacks.\n",
      "[Succeeded / Failed / Skipped / Total] 72 / 0 / 20 / 92:  18%|████▍                   | 92/500 [02:04<09:10,  1.35s/it]"
     ]
    },
    {
     "name": "stdout",
     "output_type": "stream",
     "text": [
      "\n",
      "\n",
      "=============================================================================================================================\n",
      "=============================================================================================================================\n",
      "\n"
     ]
    },
    {
     "name": "stderr",
     "output_type": "stream",
     "text": [
      "[Succeeded / Failed / Skipped / Total] 74 / 0 / 21 / 95:  19%|████▌                   | 95/500 [02:08<09:08,  1.35s/it]textattack: Saving checkpoint under \"checkpoints\\1720180296523.ta.chkpt\" at 2024-07-05 19:51:36 after 95 attacks.\n"
     ]
    },
    {
     "name": "stdout",
     "output_type": "stream",
     "text": [
      "\n",
      "\n",
      "=============================================================================================================================\n",
      "=============================================================================================================================\n",
      "\n"
     ]
    },
    {
     "name": "stderr",
     "output_type": "stream",
     "text": [
      "[Succeeded / Failed / Skipped / Total] 79 / 0 / 21 / 100:  20%|████▍                 | 100/500 [02:14<08:59,  1.35s/it]textattack: Saving checkpoint under \"checkpoints\\1720180302728.ta.chkpt\" at 2024-07-05 19:51:42 after 100 attacks.\n"
     ]
    },
    {
     "name": "stdout",
     "output_type": "stream",
     "text": [
      "\n",
      "\n",
      "=============================================================================================================================\n",
      "=============================================================================================================================\n",
      "\n"
     ]
    },
    {
     "name": "stderr",
     "output_type": "stream",
     "text": [
      "[Succeeded / Failed / Skipped / Total] 83 / 0 / 22 / 105:  21%|████▌                 | 105/500 [02:24<09:03,  1.38s/it]textattack: Saving checkpoint under \"checkpoints\\1720180312350.ta.chkpt\" at 2024-07-05 19:51:52 after 105 attacks.\n",
      "[Succeeded / Failed / Skipped / Total] 83 / 0 / 23 / 106:  21%|████▋                 | 106/500 [02:24<08:57,  1.36s/it]"
     ]
    },
    {
     "name": "stdout",
     "output_type": "stream",
     "text": [
      "\n",
      "\n",
      "=============================================================================================================================\n",
      "=============================================================================================================================\n",
      "\n"
     ]
    },
    {
     "name": "stderr",
     "output_type": "stream",
     "text": [
      "[Succeeded / Failed / Skipped / Total] 85 / 0 / 25 / 110:  22%|████▊                 | 110/500 [02:27<08:44,  1.34s/it]textattack: Saving checkpoint under \"checkpoints\\1720180315698.ta.chkpt\" at 2024-07-05 19:51:55 after 110 attacks.\n",
      "[Succeeded / Failed / Skipped / Total] 85 / 0 / 26 / 111:  22%|████▉                 | 111/500 [02:27<08:38,  1.33s/it]"
     ]
    },
    {
     "name": "stdout",
     "output_type": "stream",
     "text": [
      "\n",
      "\n",
      "=============================================================================================================================\n",
      "=============================================================================================================================\n",
      "\n"
     ]
    },
    {
     "name": "stderr",
     "output_type": "stream",
     "text": [
      "[Succeeded / Failed / Skipped / Total] 87 / 0 / 28 / 115:  23%|█████                 | 115/500 [02:30<08:24,  1.31s/it]textattack: Saving checkpoint under \"checkpoints\\1720180318477.ta.chkpt\" at 2024-07-05 19:51:58 after 115 attacks.\n"
     ]
    },
    {
     "name": "stdout",
     "output_type": "stream",
     "text": [
      "\n",
      "\n",
      "=============================================================================================================================\n",
      "=============================================================================================================================\n",
      "\n"
     ]
    },
    {
     "name": "stderr",
     "output_type": "stream",
     "text": [
      "[Succeeded / Failed / Skipped / Total] 90 / 0 / 30 / 120:  24%|█████▎                | 120/500 [02:34<08:09,  1.29s/it]textattack: Saving checkpoint under \"checkpoints\\1720180322392.ta.chkpt\" at 2024-07-05 19:52:02 after 120 attacks.\n",
      "[Succeeded / Failed / Skipped / Total] 90 / 0 / 31 / 121:  24%|█████▎                | 121/500 [02:34<08:04,  1.28s/it]"
     ]
    },
    {
     "name": "stdout",
     "output_type": "stream",
     "text": [
      "\n",
      "\n",
      "=============================================================================================================================\n",
      "=============================================================================================================================\n",
      "\n"
     ]
    },
    {
     "name": "stderr",
     "output_type": "stream",
     "text": [
      "[Succeeded / Failed / Skipped / Total] 93 / 0 / 32 / 125:  25%|█████▌                | 125/500 [02:36<07:49,  1.25s/it]textattack: Saving checkpoint under \"checkpoints\\1720180324428.ta.chkpt\" at 2024-07-05 19:52:04 after 125 attacks.\n"
     ]
    },
    {
     "name": "stdout",
     "output_type": "stream",
     "text": [
      "\n",
      "\n",
      "=============================================================================================================================\n",
      "=============================================================================================================================\n",
      "\n"
     ]
    },
    {
     "name": "stderr",
     "output_type": "stream",
     "text": [
      "[Succeeded / Failed / Skipped / Total] 98 / 0 / 32 / 130:  26%|█████▋                | 130/500 [02:42<07:42,  1.25s/it]textattack: Saving checkpoint under \"checkpoints\\1720180330219.ta.chkpt\" at 2024-07-05 19:52:10 after 130 attacks.\n",
      "[Succeeded / Failed / Skipped / Total] 98 / 0 / 33 / 131:  26%|█████▊                | 131/500 [02:42<07:37,  1.24s/it]"
     ]
    },
    {
     "name": "stdout",
     "output_type": "stream",
     "text": [
      "\n",
      "\n",
      "=============================================================================================================================\n",
      "=============================================================================================================================\n",
      "\n"
     ]
    },
    {
     "name": "stderr",
     "output_type": "stream",
     "text": [
      "[Succeeded / Failed / Skipped / Total] 101 / 0 / 34 / 135:  27%|█████▋               | 135/500 [02:47<07:32,  1.24s/it]textattack: Saving checkpoint under \"checkpoints\\1720180335016.ta.chkpt\" at 2024-07-05 19:52:15 after 135 attacks.\n"
     ]
    },
    {
     "name": "stdout",
     "output_type": "stream",
     "text": [
      "\n",
      "\n",
      "=============================================================================================================================\n",
      "=============================================================================================================================\n",
      "\n"
     ]
    },
    {
     "name": "stderr",
     "output_type": "stream",
     "text": [
      "[Succeeded / Failed / Skipped / Total] 104 / 0 / 36 / 140:  28%|█████▉               | 140/500 [02:50<07:18,  1.22s/it]textattack: Saving checkpoint under \"checkpoints\\1720180338467.ta.chkpt\" at 2024-07-05 19:52:18 after 140 attacks.\n"
     ]
    },
    {
     "name": "stdout",
     "output_type": "stream",
     "text": [
      "\n",
      "\n",
      "=============================================================================================================================\n",
      "=============================================================================================================================\n",
      "\n"
     ]
    },
    {
     "name": "stderr",
     "output_type": "stream",
     "text": [
      "[Succeeded / Failed / Skipped / Total] 107 / 0 / 38 / 145:  29%|██████               | 145/500 [02:54<07:07,  1.20s/it]textattack: Saving checkpoint under \"checkpoints\\1720180342531.ta.chkpt\" at 2024-07-05 19:52:22 after 145 attacks.\n",
      "[Succeeded / Failed / Skipped / Total] 107 / 0 / 39 / 146:  29%|██████▏              | 146/500 [02:54<07:03,  1.20s/it]"
     ]
    },
    {
     "name": "stdout",
     "output_type": "stream",
     "text": [
      "\n",
      "\n",
      "=============================================================================================================================\n",
      "=============================================================================================================================\n",
      "\n"
     ]
    },
    {
     "name": "stderr",
     "output_type": "stream",
     "text": [
      "[Succeeded / Failed / Skipped / Total] 110 / 0 / 40 / 150:  30%|██████▎              | 150/500 [02:58<06:56,  1.19s/it]textattack: Saving checkpoint under \"checkpoints\\1720180346473.ta.chkpt\" at 2024-07-05 19:52:26 after 150 attacks.\n",
      "[Succeeded / Failed / Skipped / Total] 110 / 0 / 41 / 151:  30%|██████▎              | 151/500 [02:58<06:53,  1.18s/it]"
     ]
    },
    {
     "name": "stdout",
     "output_type": "stream",
     "text": [
      "\n",
      "\n",
      "=============================================================================================================================\n",
      "=============================================================================================================================\n",
      "\n"
     ]
    },
    {
     "name": "stderr",
     "output_type": "stream",
     "text": [
      "[Succeeded / Failed / Skipped / Total] 112 / 1 / 42 / 155:  31%|██████▌              | 155/500 [03:05<06:52,  1.20s/it]textattack: Saving checkpoint under \"checkpoints\\1720180353138.ta.chkpt\" at 2024-07-05 19:52:33 after 155 attacks.\n"
     ]
    },
    {
     "name": "stdout",
     "output_type": "stream",
     "text": [
      "\n",
      "\n",
      "=============================================================================================================================\n",
      "=============================================================================================================================\n",
      "\n"
     ]
    },
    {
     "name": "stderr",
     "output_type": "stream",
     "text": [
      "[Succeeded / Failed / Skipped / Total] 115 / 1 / 44 / 160:  32%|██████▋              | 160/500 [03:15<06:55,  1.22s/it]textattack: Saving checkpoint under \"checkpoints\\1720180363185.ta.chkpt\" at 2024-07-05 19:52:43 after 160 attacks.\n",
      "[Succeeded / Failed / Skipped / Total] 115 / 1 / 45 / 161:  32%|██████▊              | 161/500 [03:15<06:51,  1.21s/it]"
     ]
    },
    {
     "name": "stdout",
     "output_type": "stream",
     "text": [
      "\n",
      "\n",
      "=============================================================================================================================\n",
      "=============================================================================================================================\n",
      "\n"
     ]
    },
    {
     "name": "stderr",
     "output_type": "stream",
     "text": [
      "[Succeeded / Failed / Skipped / Total] 117 / 1 / 47 / 165:  33%|██████▉              | 165/500 [03:18<06:42,  1.20s/it]textattack: Saving checkpoint under \"checkpoints\\1720180366095.ta.chkpt\" at 2024-07-05 19:52:46 after 165 attacks.\n"
     ]
    },
    {
     "name": "stdout",
     "output_type": "stream",
     "text": [
      "\n",
      "\n",
      "=============================================================================================================================\n",
      "=============================================================================================================================\n",
      "\n"
     ]
    },
    {
     "name": "stderr",
     "output_type": "stream",
     "text": [
      "[Succeeded / Failed / Skipped / Total] 120 / 1 / 49 / 170:  34%|███████▏             | 170/500 [03:22<06:33,  1.19s/it]textattack: Saving checkpoint under \"checkpoints\\1720180370451.ta.chkpt\" at 2024-07-05 19:52:50 after 170 attacks.\n"
     ]
    },
    {
     "name": "stdout",
     "output_type": "stream",
     "text": [
      "\n",
      "\n",
      "=============================================================================================================================\n",
      "=============================================================================================================================\n",
      "\n"
     ]
    },
    {
     "name": "stderr",
     "output_type": "stream",
     "text": [
      "[Succeeded / Failed / Skipped / Total] 125 / 1 / 49 / 175:  35%|███████▎             | 175/500 [03:35<06:39,  1.23s/it]textattack: Saving checkpoint under \"checkpoints\\1720180383063.ta.chkpt\" at 2024-07-05 19:53:03 after 175 attacks.\n",
      "[Succeeded / Failed / Skipped / Total] 125 / 1 / 50 / 176:  35%|███████▍             | 176/500 [03:35<06:36,  1.22s/it]"
     ]
    },
    {
     "name": "stdout",
     "output_type": "stream",
     "text": [
      "\n",
      "\n",
      "=============================================================================================================================\n",
      "=============================================================================================================================\n",
      "\n"
     ]
    },
    {
     "name": "stderr",
     "output_type": "stream",
     "text": [
      "[Succeeded / Failed / Skipped / Total] 128 / 1 / 51 / 180:  36%|███████▌             | 180/500 [03:38<06:29,  1.22s/it]textattack: Saving checkpoint under \"checkpoints\\1720180386769.ta.chkpt\" at 2024-07-05 19:53:06 after 180 attacks.\n"
     ]
    },
    {
     "name": "stdout",
     "output_type": "stream",
     "text": [
      "\n",
      "\n",
      "=============================================================================================================================\n",
      "=============================================================================================================================\n",
      "\n"
     ]
    },
    {
     "name": "stderr",
     "output_type": "stream",
     "text": [
      "[Succeeded / Failed / Skipped / Total] 131 / 1 / 53 / 185:  37%|███████▊             | 185/500 [03:41<06:17,  1.20s/it]textattack: Saving checkpoint under \"checkpoints\\1720180389402.ta.chkpt\" at 2024-07-05 19:53:09 after 185 attacks.\n",
      "[Succeeded / Failed / Skipped / Total] 131 / 1 / 54 / 186:  37%|███████▊             | 186/500 [03:41<06:14,  1.19s/it]"
     ]
    },
    {
     "name": "stdout",
     "output_type": "stream",
     "text": [
      "\n",
      "\n",
      "=============================================================================================================================\n",
      "=============================================================================================================================\n",
      "\n"
     ]
    },
    {
     "name": "stderr",
     "output_type": "stream",
     "text": [
      "[Succeeded / Failed / Skipped / Total] 135 / 1 / 54 / 190:  38%|███████▉             | 190/500 [03:47<06:11,  1.20s/it]textattack: Saving checkpoint under \"checkpoints\\1720180395713.ta.chkpt\" at 2024-07-05 19:53:15 after 190 attacks.\n"
     ]
    },
    {
     "name": "stdout",
     "output_type": "stream",
     "text": [
      "\n",
      "\n",
      "=============================================================================================================================\n",
      "=============================================================================================================================\n",
      "\n"
     ]
    },
    {
     "name": "stderr",
     "output_type": "stream",
     "text": [
      "[Succeeded / Failed / Skipped / Total] 138 / 1 / 56 / 195:  39%|████████▏            | 195/500 [03:53<06:04,  1.20s/it]textattack: Saving checkpoint under \"checkpoints\\1720180401195.ta.chkpt\" at 2024-07-05 19:53:21 after 195 attacks.\n"
     ]
    },
    {
     "name": "stdout",
     "output_type": "stream",
     "text": [
      "\n",
      "\n",
      "=============================================================================================================================\n",
      "=============================================================================================================================\n",
      "\n"
     ]
    },
    {
     "name": "stderr",
     "output_type": "stream",
     "text": [
      "[Succeeded / Failed / Skipped / Total] 142 / 1 / 57 / 200:  40%|████████▍            | 200/500 [04:01<06:01,  1.21s/it]textattack: Saving checkpoint under \"checkpoints\\1720180409011.ta.chkpt\" at 2024-07-05 19:53:29 after 200 attacks.\n"
     ]
    },
    {
     "name": "stdout",
     "output_type": "stream",
     "text": [
      "\n",
      "\n",
      "=============================================================================================================================\n",
      "=============================================================================================================================\n",
      "\n"
     ]
    },
    {
     "name": "stderr",
     "output_type": "stream",
     "text": [
      "[Succeeded / Failed / Skipped / Total] 146 / 1 / 58 / 205:  41%|████████▌            | 205/500 [04:08<05:56,  1.21s/it]textattack: Saving checkpoint under \"checkpoints\\1720180415902.ta.chkpt\" at 2024-07-05 19:53:35 after 205 attacks.\n",
      "[Succeeded / Failed / Skipped / Total] 146 / 1 / 59 / 206:  41%|████████▋            | 206/500 [04:08<05:54,  1.20s/it]"
     ]
    },
    {
     "name": "stdout",
     "output_type": "stream",
     "text": [
      "\n",
      "\n",
      "=============================================================================================================================\n",
      "=============================================================================================================================\n",
      "\n"
     ]
    },
    {
     "name": "stderr",
     "output_type": "stream",
     "text": [
      "[Succeeded / Failed / Skipped / Total] 148 / 1 / 61 / 210:  42%|████████▊            | 210/500 [04:10<05:45,  1.19s/it]textattack: Saving checkpoint under \"checkpoints\\1720180418215.ta.chkpt\" at 2024-07-05 19:53:38 after 210 attacks.\n"
     ]
    },
    {
     "name": "stdout",
     "output_type": "stream",
     "text": [
      "\n",
      "\n",
      "=============================================================================================================================\n",
      "=============================================================================================================================\n",
      "\n"
     ]
    },
    {
     "name": "stderr",
     "output_type": "stream",
     "text": [
      "[Succeeded / Failed / Skipped / Total] 151 / 1 / 63 / 215:  43%|█████████            | 215/500 [04:19<05:43,  1.21s/it]textattack: Saving checkpoint under \"checkpoints\\1720180427196.ta.chkpt\" at 2024-07-05 19:53:47 after 215 attacks.\n"
     ]
    },
    {
     "name": "stdout",
     "output_type": "stream",
     "text": [
      "\n",
      "\n",
      "=============================================================================================================================\n",
      "=============================================================================================================================\n",
      "\n"
     ]
    },
    {
     "name": "stderr",
     "output_type": "stream",
     "text": [
      "[Succeeded / Failed / Skipped / Total] 156 / 1 / 63 / 220:  44%|█████████▏           | 220/500 [04:25<05:37,  1.20s/it]textattack: Saving checkpoint under \"checkpoints\\1720180432899.ta.chkpt\" at 2024-07-05 19:53:52 after 220 attacks.\n"
     ]
    },
    {
     "name": "stdout",
     "output_type": "stream",
     "text": [
      "\n",
      "\n",
      "=============================================================================================================================\n",
      "=============================================================================================================================\n",
      "\n"
     ]
    },
    {
     "name": "stderr",
     "output_type": "stream",
     "text": [
      "[Succeeded / Failed / Skipped / Total] 159 / 1 / 65 / 225:  45%|█████████▍           | 225/500 [04:32<05:33,  1.21s/it]textattack: Saving checkpoint under \"checkpoints\\1720180440760.ta.chkpt\" at 2024-07-05 19:54:00 after 225 attacks.\n"
     ]
    },
    {
     "name": "stdout",
     "output_type": "stream",
     "text": [
      "\n",
      "\n",
      "=============================================================================================================================\n",
      "=============================================================================================================================\n",
      "\n"
     ]
    },
    {
     "name": "stderr",
     "output_type": "stream",
     "text": [
      "[Succeeded / Failed / Skipped / Total] 163 / 1 / 66 / 230:  46%|█████████▋           | 230/500 [04:38<05:26,  1.21s/it]textattack: Saving checkpoint under \"checkpoints\\1720180445891.ta.chkpt\" at 2024-07-05 19:54:05 after 230 attacks.\n",
      "[Succeeded / Failed / Skipped / Total] 163 / 1 / 67 / 231:  46%|█████████▋           | 231/500 [04:38<05:23,  1.20s/it]"
     ]
    },
    {
     "name": "stdout",
     "output_type": "stream",
     "text": [
      "\n",
      "\n",
      "=============================================================================================================================\n",
      "=============================================================================================================================\n",
      "\n"
     ]
    },
    {
     "name": "stderr",
     "output_type": "stream",
     "text": [
      "[Succeeded / Failed / Skipped / Total] 166 / 1 / 68 / 235:  47%|█████████▊           | 235/500 [04:42<05:18,  1.20s/it]textattack: Saving checkpoint under \"checkpoints\\1720180450688.ta.chkpt\" at 2024-07-05 19:54:10 after 235 attacks.\n"
     ]
    },
    {
     "name": "stdout",
     "output_type": "stream",
     "text": [
      "\n",
      "\n",
      "=============================================================================================================================\n",
      "=============================================================================================================================\n",
      "\n"
     ]
    },
    {
     "name": "stderr",
     "output_type": "stream",
     "text": [
      "[Succeeded / Failed / Skipped / Total] 171 / 1 / 68 / 240:  48%|██████████           | 240/500 [04:49<05:13,  1.21s/it]textattack: Saving checkpoint under \"checkpoints\\1720180457425.ta.chkpt\" at 2024-07-05 19:54:17 after 240 attacks.\n",
      "[Succeeded / Failed / Skipped / Total] 171 / 1 / 70 / 242:  48%|██████████▏          | 242/500 [04:49<05:08,  1.20s/it]"
     ]
    },
    {
     "name": "stdout",
     "output_type": "stream",
     "text": [
      "\n",
      "\n",
      "=============================================================================================================================\n",
      "=============================================================================================================================\n",
      "\n"
     ]
    },
    {
     "name": "stderr",
     "output_type": "stream",
     "text": [
      "[Succeeded / Failed / Skipped / Total] 174 / 1 / 70 / 245:  49%|██████████▎          | 245/500 [04:54<05:06,  1.20s/it]textattack: Saving checkpoint under \"checkpoints\\1720180462649.ta.chkpt\" at 2024-07-05 19:54:22 after 245 attacks.\n"
     ]
    },
    {
     "name": "stdout",
     "output_type": "stream",
     "text": [
      "\n",
      "\n",
      "=============================================================================================================================\n",
      "=============================================================================================================================\n",
      "\n"
     ]
    },
    {
     "name": "stderr",
     "output_type": "stream",
     "text": [
      "[Succeeded / Failed / Skipped / Total] 176 / 1 / 73 / 250:  50%|██████████▌          | 250/500 [04:56<04:56,  1.19s/it]textattack: Saving checkpoint under \"checkpoints\\1720180464292.ta.chkpt\" at 2024-07-05 19:54:24 after 250 attacks.\n",
      "[Succeeded / Failed / Skipped / Total] 176 / 1 / 74 / 251:  50%|██████████▌          | 251/500 [04:56<04:54,  1.18s/it]"
     ]
    },
    {
     "name": "stdout",
     "output_type": "stream",
     "text": [
      "\n",
      "\n",
      "=============================================================================================================================\n",
      "=============================================================================================================================\n",
      "\n"
     ]
    },
    {
     "name": "stderr",
     "output_type": "stream",
     "text": [
      "[Succeeded / Failed / Skipped / Total] 179 / 1 / 75 / 255:  51%|██████████▋          | 255/500 [05:03<04:51,  1.19s/it]textattack: Saving checkpoint under \"checkpoints\\1720180471587.ta.chkpt\" at 2024-07-05 19:54:31 after 255 attacks.\n"
     ]
    },
    {
     "name": "stdout",
     "output_type": "stream",
     "text": [
      "\n",
      "\n",
      "=============================================================================================================================\n",
      "=============================================================================================================================\n",
      "\n"
     ]
    },
    {
     "name": "stderr",
     "output_type": "stream",
     "text": [
      "[Succeeded / Failed / Skipped / Total] 182 / 1 / 77 / 260:  52%|██████████▉          | 260/500 [05:08<04:44,  1.19s/it]textattack: Saving checkpoint under \"checkpoints\\1720180476229.ta.chkpt\" at 2024-07-05 19:54:36 after 260 attacks.\n"
     ]
    },
    {
     "name": "stdout",
     "output_type": "stream",
     "text": [
      "\n",
      "\n",
      "=============================================================================================================================\n",
      "=============================================================================================================================\n",
      "\n"
     ]
    },
    {
     "name": "stderr",
     "output_type": "stream",
     "text": [
      "[Succeeded / Failed / Skipped / Total] 187 / 1 / 77 / 265:  53%|███████████▏         | 265/500 [05:16<04:40,  1.19s/it]textattack: Saving checkpoint under \"checkpoints\\1720180484006.ta.chkpt\" at 2024-07-05 19:54:44 after 265 attacks.\n"
     ]
    },
    {
     "name": "stdout",
     "output_type": "stream",
     "text": [
      "\n",
      "\n",
      "=============================================================================================================================\n",
      "=============================================================================================================================\n",
      "\n"
     ]
    },
    {
     "name": "stderr",
     "output_type": "stream",
     "text": [
      "[Succeeded / Failed / Skipped / Total] 190 / 1 / 79 / 270:  54%|███████████▎         | 270/500 [05:26<04:38,  1.21s/it]textattack: Saving checkpoint under \"checkpoints\\1720180494757.ta.chkpt\" at 2024-07-05 19:54:54 after 270 attacks.\n",
      "[Succeeded / Failed / Skipped / Total] 190 / 1 / 80 / 271:  54%|███████████▍         | 271/500 [05:26<04:36,  1.21s/it]"
     ]
    },
    {
     "name": "stdout",
     "output_type": "stream",
     "text": [
      "\n",
      "\n",
      "=============================================================================================================================\n",
      "=============================================================================================================================\n",
      "\n"
     ]
    },
    {
     "name": "stderr",
     "output_type": "stream",
     "text": [
      "[Succeeded / Failed / Skipped / Total] 193 / 1 / 81 / 275:  55%|███████████▌         | 275/500 [05:29<04:29,  1.20s/it]textattack: Saving checkpoint under \"checkpoints\\1720180497047.ta.chkpt\" at 2024-07-05 19:54:57 after 275 attacks.\n"
     ]
    },
    {
     "name": "stdout",
     "output_type": "stream",
     "text": [
      "\n",
      "\n",
      "=============================================================================================================================\n",
      "=============================================================================================================================\n",
      "\n"
     ]
    },
    {
     "name": "stderr",
     "output_type": "stream",
     "text": [
      "[Succeeded / Failed / Skipped / Total] 197 / 1 / 82 / 280:  56%|███████████▊         | 280/500 [05:34<04:23,  1.20s/it]textattack: Saving checkpoint under \"checkpoints\\1720180502570.ta.chkpt\" at 2024-07-05 19:55:02 after 280 attacks.\n"
     ]
    },
    {
     "name": "stdout",
     "output_type": "stream",
     "text": [
      "\n",
      "\n",
      "=============================================================================================================================\n",
      "=============================================================================================================================\n",
      "\n"
     ]
    },
    {
     "name": "stderr",
     "output_type": "stream",
     "text": [
      "[Succeeded / Failed / Skipped / Total] 200 / 1 / 84 / 285:  57%|███████████▉         | 285/500 [05:38<04:15,  1.19s/it]textattack: Saving checkpoint under \"checkpoints\\1720180505932.ta.chkpt\" at 2024-07-05 19:55:05 after 285 attacks.\n"
     ]
    },
    {
     "name": "stdout",
     "output_type": "stream",
     "text": [
      "\n",
      "\n",
      "=============================================================================================================================\n",
      "=============================================================================================================================\n",
      "\n"
     ]
    },
    {
     "name": "stderr",
     "output_type": "stream",
     "text": [
      "[Succeeded / Failed / Skipped / Total] 205 / 1 / 84 / 290:  58%|████████████▏        | 290/500 [05:44<04:09,  1.19s/it]textattack: Saving checkpoint under \"checkpoints\\1720180512180.ta.chkpt\" at 2024-07-05 19:55:12 after 290 attacks.\n",
      "[Succeeded / Failed / Skipped / Total] 205 / 1 / 86 / 292:  58%|████████████▎        | 292/500 [05:44<04:05,  1.18s/it]"
     ]
    },
    {
     "name": "stdout",
     "output_type": "stream",
     "text": [
      "\n",
      "\n",
      "=============================================================================================================================\n",
      "=============================================================================================================================\n",
      "\n"
     ]
    },
    {
     "name": "stderr",
     "output_type": "stream",
     "text": [
      "[Succeeded / Failed / Skipped / Total] 207 / 1 / 87 / 295:  59%|████████████▍        | 295/500 [05:46<04:00,  1.17s/it]textattack: Saving checkpoint under \"checkpoints\\1720180513872.ta.chkpt\" at 2024-07-05 19:55:13 after 295 attacks.\n"
     ]
    },
    {
     "name": "stdout",
     "output_type": "stream",
     "text": [
      "\n",
      "\n",
      "=============================================================================================================================\n",
      "=============================================================================================================================\n",
      "\n"
     ]
    },
    {
     "name": "stderr",
     "output_type": "stream",
     "text": [
      "[Succeeded / Failed / Skipped / Total] 210 / 1 / 89 / 300:  60%|████████████▌        | 300/500 [05:50<03:53,  1.17s/it]textattack: Saving checkpoint under \"checkpoints\\1720180518431.ta.chkpt\" at 2024-07-05 19:55:18 after 300 attacks.\n"
     ]
    },
    {
     "name": "stdout",
     "output_type": "stream",
     "text": [
      "\n",
      "\n",
      "=============================================================================================================================\n",
      "=============================================================================================================================\n",
      "\n"
     ]
    },
    {
     "name": "stderr",
     "output_type": "stream",
     "text": [
      "[Succeeded / Failed / Skipped / Total] 211 / 1 / 93 / 305:  61%|████████████▊        | 305/500 [05:51<03:45,  1.15s/it]textattack: Saving checkpoint under \"checkpoints\\1720180519765.ta.chkpt\" at 2024-07-05 19:55:19 after 305 attacks.\n"
     ]
    },
    {
     "name": "stdout",
     "output_type": "stream",
     "text": [
      "\n",
      "\n",
      "=============================================================================================================================\n",
      "=============================================================================================================================\n",
      "\n"
     ]
    },
    {
     "name": "stderr",
     "output_type": "stream",
     "text": [
      "[Succeeded / Failed / Skipped / Total] 215 / 1 / 94 / 310:  62%|█████████████        | 310/500 [05:57<03:38,  1.15s/it]textattack: Saving checkpoint under \"checkpoints\\1720180524998.ta.chkpt\" at 2024-07-05 19:55:24 after 310 attacks.\n"
     ]
    },
    {
     "name": "stdout",
     "output_type": "stream",
     "text": [
      "\n",
      "\n",
      "=============================================================================================================================\n",
      "=============================================================================================================================\n",
      "\n"
     ]
    },
    {
     "name": "stderr",
     "output_type": "stream",
     "text": [
      "[Succeeded / Failed / Skipped / Total] 218 / 1 / 96 / 315:  63%|█████████████▏       | 315/500 [06:02<03:33,  1.15s/it]textattack: Saving checkpoint under \"checkpoints\\1720180530571.ta.chkpt\" at 2024-07-05 19:55:30 after 315 attacks.\n",
      "[Succeeded / Failed / Skipped / Total] 218 / 1 / 97 / 316:  63%|█████████████▎       | 316/500 [06:02<03:31,  1.15s/it]"
     ]
    },
    {
     "name": "stdout",
     "output_type": "stream",
     "text": [
      "\n",
      "\n",
      "=============================================================================================================================\n",
      "=============================================================================================================================\n",
      "\n"
     ]
    },
    {
     "name": "stderr",
     "output_type": "stream",
     "text": [
      "[Succeeded / Failed / Skipped / Total] 221 / 1 / 98 / 320:  64%|█████████████▍       | 320/500 [06:14<03:30,  1.17s/it]textattack: Saving checkpoint under \"checkpoints\\1720180541908.ta.chkpt\" at 2024-07-05 19:55:41 after 320 attacks.\n",
      "[Succeeded / Failed / Skipped / Total] 221 / 1 / 99 / 321:  64%|█████████████▍       | 321/500 [06:14<03:28,  1.17s/it]"
     ]
    },
    {
     "name": "stdout",
     "output_type": "stream",
     "text": [
      "\n",
      "\n",
      "=============================================================================================================================\n",
      "=============================================================================================================================\n",
      "\n"
     ]
    },
    {
     "name": "stderr",
     "output_type": "stream",
     "text": [
      "[Succeeded / Failed / Skipped / Total] 225 / 1 / 99 / 325:  65%|█████████████▋       | 325/500 [06:22<03:26,  1.18s/it]textattack: Saving checkpoint under \"checkpoints\\1720180550579.ta.chkpt\" at 2024-07-05 19:55:50 after 325 attacks.\n",
      "[Succeeded / Failed / Skipped / Total] 225 / 1 / 100 / 326:  65%|█████████████       | 326/500 [06:22<03:24,  1.17s/it]"
     ]
    },
    {
     "name": "stdout",
     "output_type": "stream",
     "text": [
      "\n",
      "\n",
      "=============================================================================================================================\n",
      "=============================================================================================================================\n",
      "\n"
     ]
    },
    {
     "name": "stderr",
     "output_type": "stream",
     "text": [
      "[Succeeded / Failed / Skipped / Total] 229 / 1 / 100 / 330:  66%|█████████████▏      | 330/500 [06:26<03:19,  1.17s/it]textattack: Saving checkpoint under \"checkpoints\\1720180554751.ta.chkpt\" at 2024-07-05 19:55:54 after 330 attacks.\n"
     ]
    },
    {
     "name": "stdout",
     "output_type": "stream",
     "text": [
      "\n",
      "\n",
      "=============================================================================================================================\n",
      "=============================================================================================================================\n",
      "\n"
     ]
    },
    {
     "name": "stderr",
     "output_type": "stream",
     "text": [
      "[Succeeded / Failed / Skipped / Total] 234 / 1 / 100 / 335:  67%|█████████████▍      | 335/500 [06:33<03:13,  1.17s/it]textattack: Saving checkpoint under \"checkpoints\\1720180560938.ta.chkpt\" at 2024-07-05 19:56:00 after 335 attacks.\n"
     ]
    },
    {
     "name": "stdout",
     "output_type": "stream",
     "text": [
      "\n",
      "\n",
      "=============================================================================================================================\n",
      "=============================================================================================================================\n",
      "\n"
     ]
    },
    {
     "name": "stderr",
     "output_type": "stream",
     "text": [
      "[Succeeded / Failed / Skipped / Total] 237 / 1 / 102 / 340:  68%|█████████████▌      | 340/500 [06:36<03:06,  1.17s/it]textattack: Saving checkpoint under \"checkpoints\\1720180564662.ta.chkpt\" at 2024-07-05 19:56:04 after 340 attacks.\n"
     ]
    },
    {
     "name": "stdout",
     "output_type": "stream",
     "text": [
      "\n",
      "\n",
      "=============================================================================================================================\n",
      "=============================================================================================================================\n",
      "\n"
     ]
    },
    {
     "name": "stderr",
     "output_type": "stream",
     "text": [
      "[Succeeded / Failed / Skipped / Total] 240 / 1 / 104 / 345:  69%|█████████████▊      | 345/500 [06:39<02:59,  1.16s/it]textattack: Saving checkpoint under \"checkpoints\\1720180567366.ta.chkpt\" at 2024-07-05 19:56:07 after 345 attacks.\n"
     ]
    },
    {
     "name": "stdout",
     "output_type": "stream",
     "text": [
      "\n",
      "\n",
      "=============================================================================================================================\n",
      "=============================================================================================================================\n",
      "\n"
     ]
    },
    {
     "name": "stderr",
     "output_type": "stream",
     "text": [
      "[Succeeded / Failed / Skipped / Total] 245 / 1 / 104 / 350:  70%|██████████████      | 350/500 [06:46<02:54,  1.16s/it]textattack: Saving checkpoint under \"checkpoints\\1720180574371.ta.chkpt\" at 2024-07-05 19:56:14 after 350 attacks.\n"
     ]
    },
    {
     "name": "stdout",
     "output_type": "stream",
     "text": [
      "\n",
      "\n",
      "=============================================================================================================================\n",
      "=============================================================================================================================\n",
      "\n"
     ]
    },
    {
     "name": "stderr",
     "output_type": "stream",
     "text": [
      "[Succeeded / Failed / Skipped / Total] 250 / 1 / 104 / 355:  71%|██████████████▏     | 355/500 [06:55<02:49,  1.17s/it]textattack: Saving checkpoint under \"checkpoints\\1720180583478.ta.chkpt\" at 2024-07-05 19:56:23 after 355 attacks.\n"
     ]
    },
    {
     "name": "stdout",
     "output_type": "stream",
     "text": [
      "\n",
      "\n",
      "=============================================================================================================================\n",
      "=============================================================================================================================\n",
      "\n"
     ]
    },
    {
     "name": "stderr",
     "output_type": "stream",
     "text": [
      "[Succeeded / Failed / Skipped / Total] 253 / 1 / 106 / 360:  72%|██████████████▍     | 360/500 [06:59<02:43,  1.17s/it]textattack: Saving checkpoint under \"checkpoints\\1720180587314.ta.chkpt\" at 2024-07-05 19:56:27 after 360 attacks.\n"
     ]
    },
    {
     "name": "stdout",
     "output_type": "stream",
     "text": [
      "\n",
      "\n",
      "=============================================================================================================================\n",
      "=============================================================================================================================\n",
      "\n"
     ]
    },
    {
     "name": "stderr",
     "output_type": "stream",
     "text": [
      "[Succeeded / Failed / Skipped / Total] 258 / 1 / 106 / 365:  73%|██████████████▌     | 365/500 [07:07<02:38,  1.17s/it]textattack: Saving checkpoint under \"checkpoints\\1720180595072.ta.chkpt\" at 2024-07-05 19:56:35 after 365 attacks.\n"
     ]
    },
    {
     "name": "stdout",
     "output_type": "stream",
     "text": [
      "\n",
      "\n",
      "=============================================================================================================================\n",
      "=============================================================================================================================\n",
      "\n"
     ]
    },
    {
     "name": "stderr",
     "output_type": "stream",
     "text": [
      "[Succeeded / Failed / Skipped / Total] 263 / 1 / 106 / 370:  74%|██████████████▊     | 370/500 [07:11<02:31,  1.17s/it]textattack: Saving checkpoint under \"checkpoints\\1720180599783.ta.chkpt\" at 2024-07-05 19:56:39 after 370 attacks.\n"
     ]
    },
    {
     "name": "stdout",
     "output_type": "stream",
     "text": [
      "\n",
      "\n",
      "=============================================================================================================================\n",
      "=============================================================================================================================\n",
      "\n"
     ]
    },
    {
     "name": "stderr",
     "output_type": "stream",
     "text": [
      "[Succeeded / Failed / Skipped / Total] 267 / 1 / 107 / 375:  75%|███████████████     | 375/500 [07:16<02:25,  1.16s/it]textattack: Saving checkpoint under \"checkpoints\\1720180604209.ta.chkpt\" at 2024-07-05 19:56:44 after 375 attacks.\n"
     ]
    },
    {
     "name": "stdout",
     "output_type": "stream",
     "text": [
      "\n",
      "\n",
      "=============================================================================================================================\n",
      "=============================================================================================================================\n",
      "\n"
     ]
    },
    {
     "name": "stderr",
     "output_type": "stream",
     "text": [
      "[Succeeded / Failed / Skipped / Total] 271 / 1 / 108 / 380:  76%|███████████████▏    | 380/500 [07:20<02:19,  1.16s/it]textattack: Saving checkpoint under \"checkpoints\\1720180608613.ta.chkpt\" at 2024-07-05 19:56:48 after 380 attacks.\n"
     ]
    },
    {
     "name": "stdout",
     "output_type": "stream",
     "text": [
      "\n",
      "\n",
      "=============================================================================================================================\n",
      "=============================================================================================================================\n",
      "\n"
     ]
    },
    {
     "name": "stderr",
     "output_type": "stream",
     "text": [
      "[Succeeded / Failed / Skipped / Total] 275 / 1 / 109 / 385:  77%|███████████████▍    | 385/500 [07:24<02:12,  1.15s/it]textattack: Saving checkpoint under \"checkpoints\\1720180612206.ta.chkpt\" at 2024-07-05 19:56:52 after 385 attacks.\n"
     ]
    },
    {
     "name": "stdout",
     "output_type": "stream",
     "text": [
      "\n",
      "\n",
      "=============================================================================================================================\n",
      "=============================================================================================================================\n",
      "\n"
     ]
    },
    {
     "name": "stderr",
     "output_type": "stream",
     "text": [
      "[Succeeded / Failed / Skipped / Total] 279 / 1 / 110 / 390:  78%|███████████████▌    | 390/500 [07:27<02:06,  1.15s/it]textattack: Saving checkpoint under \"checkpoints\\1720180615717.ta.chkpt\" at 2024-07-05 19:56:55 after 390 attacks.\n"
     ]
    },
    {
     "name": "stdout",
     "output_type": "stream",
     "text": [
      "\n",
      "\n",
      "=============================================================================================================================\n",
      "=============================================================================================================================\n",
      "\n"
     ]
    },
    {
     "name": "stderr",
     "output_type": "stream",
     "text": [
      "[Succeeded / Failed / Skipped / Total] 284 / 1 / 110 / 395:  79%|███████████████▊    | 395/500 [07:35<02:01,  1.15s/it]textattack: Saving checkpoint under \"checkpoints\\1720180623094.ta.chkpt\" at 2024-07-05 19:57:03 after 395 attacks.\n"
     ]
    },
    {
     "name": "stdout",
     "output_type": "stream",
     "text": [
      "\n",
      "\n",
      "=============================================================================================================================\n",
      "=============================================================================================================================\n",
      "\n"
     ]
    },
    {
     "name": "stderr",
     "output_type": "stream",
     "text": [
      "[Succeeded / Failed / Skipped / Total] 289 / 1 / 110 / 400:  80%|████████████████    | 400/500 [07:44<01:56,  1.16s/it]textattack: Saving checkpoint under \"checkpoints\\1720180632354.ta.chkpt\" at 2024-07-05 19:57:12 after 400 attacks.\n",
      "[Succeeded / Failed / Skipped / Total] 289 / 1 / 111 / 401:  80%|████████████████    | 401/500 [07:44<01:54,  1.16s/it]"
     ]
    },
    {
     "name": "stdout",
     "output_type": "stream",
     "text": [
      "\n",
      "\n",
      "=============================================================================================================================\n",
      "=============================================================================================================================\n",
      "\n"
     ]
    },
    {
     "name": "stderr",
     "output_type": "stream",
     "text": [
      "[Succeeded / Failed / Skipped / Total] 293 / 1 / 111 / 405:  81%|████████████████▏   | 405/500 [07:53<01:51,  1.17s/it]textattack: Saving checkpoint under \"checkpoints\\1720180641784.ta.chkpt\" at 2024-07-05 19:57:21 after 405 attacks.\n"
     ]
    },
    {
     "name": "stdout",
     "output_type": "stream",
     "text": [
      "\n",
      "\n",
      "=============================================================================================================================\n",
      "=============================================================================================================================\n",
      "\n"
     ]
    },
    {
     "name": "stderr",
     "output_type": "stream",
     "text": [
      "[Succeeded / Failed / Skipped / Total] 297 / 1 / 112 / 410:  82%|████████████████▍   | 410/500 [07:58<01:44,  1.17s/it]textattack: Saving checkpoint under \"checkpoints\\1720180645935.ta.chkpt\" at 2024-07-05 19:57:25 after 410 attacks.\n"
     ]
    },
    {
     "name": "stdout",
     "output_type": "stream",
     "text": [
      "\n",
      "\n",
      "=============================================================================================================================\n",
      "=============================================================================================================================\n",
      "\n"
     ]
    },
    {
     "name": "stderr",
     "output_type": "stream",
     "text": [
      "[Succeeded / Failed / Skipped / Total] 299 / 1 / 115 / 415:  83%|████████████████▌   | 415/500 [07:59<01:38,  1.16s/it]textattack: Saving checkpoint under \"checkpoints\\1720180647393.ta.chkpt\" at 2024-07-05 19:57:27 after 415 attacks.\n"
     ]
    },
    {
     "name": "stdout",
     "output_type": "stream",
     "text": [
      "\n",
      "\n",
      "=============================================================================================================================\n",
      "=============================================================================================================================\n",
      "\n"
     ]
    },
    {
     "name": "stderr",
     "output_type": "stream",
     "text": [
      "[Succeeded / Failed / Skipped / Total] 301 / 2 / 117 / 420:  84%|████████████████▊   | 420/500 [08:10<01:33,  1.17s/it]textattack: Saving checkpoint under \"checkpoints\\1720180658499.ta.chkpt\" at 2024-07-05 19:57:38 after 420 attacks.\n"
     ]
    },
    {
     "name": "stdout",
     "output_type": "stream",
     "text": [
      "\n",
      "\n",
      "=============================================================================================================================\n",
      "=============================================================================================================================\n",
      "\n"
     ]
    },
    {
     "name": "stderr",
     "output_type": "stream",
     "text": [
      "[Succeeded / Failed / Skipped / Total] 306 / 2 / 117 / 425:  85%|█████████████████   | 425/500 [08:16<01:27,  1.17s/it]textattack: Saving checkpoint under \"checkpoints\\1720180664620.ta.chkpt\" at 2024-07-05 19:57:44 after 425 attacks.\n"
     ]
    },
    {
     "name": "stdout",
     "output_type": "stream",
     "text": [
      "\n",
      "\n",
      "=============================================================================================================================\n",
      "=============================================================================================================================\n",
      "\n"
     ]
    },
    {
     "name": "stderr",
     "output_type": "stream",
     "text": [
      "[Succeeded / Failed / Skipped / Total] 311 / 2 / 117 / 430:  86%|█████████████████▏  | 430/500 [08:23<01:22,  1.17s/it]textattack: Saving checkpoint under \"checkpoints\\1720180671737.ta.chkpt\" at 2024-07-05 19:57:51 after 430 attacks.\n",
      "[Succeeded / Failed / Skipped / Total] 311 / 2 / 118 / 431:  86%|█████████████████▏  | 431/500 [08:23<01:20,  1.17s/it]"
     ]
    },
    {
     "name": "stdout",
     "output_type": "stream",
     "text": [
      "\n",
      "\n",
      "=============================================================================================================================\n",
      "=============================================================================================================================\n",
      "\n"
     ]
    },
    {
     "name": "stderr",
     "output_type": "stream",
     "text": [
      "[Succeeded / Failed / Skipped / Total] 315 / 2 / 118 / 435:  87%|█████████████████▍  | 435/500 [08:27<01:15,  1.17s/it]textattack: Saving checkpoint under \"checkpoints\\1720180675562.ta.chkpt\" at 2024-07-05 19:57:55 after 435 attacks.\n"
     ]
    },
    {
     "name": "stdout",
     "output_type": "stream",
     "text": [
      "\n",
      "\n",
      "=============================================================================================================================\n",
      "=============================================================================================================================\n",
      "\n"
     ]
    },
    {
     "name": "stderr",
     "output_type": "stream",
     "text": [
      "[Succeeded / Failed / Skipped / Total] 320 / 2 / 118 / 440:  88%|█████████████████▌  | 440/500 [08:33<01:10,  1.17s/it]textattack: Saving checkpoint under \"checkpoints\\1720180681485.ta.chkpt\" at 2024-07-05 19:58:01 after 440 attacks.\n",
      "[Succeeded / Failed / Skipped / Total] 320 / 2 / 119 / 441:  88%|█████████████████▋  | 441/500 [08:33<01:08,  1.16s/it]"
     ]
    },
    {
     "name": "stdout",
     "output_type": "stream",
     "text": [
      "\n",
      "\n",
      "=============================================================================================================================\n",
      "=============================================================================================================================\n",
      "\n"
     ]
    },
    {
     "name": "stderr",
     "output_type": "stream",
     "text": [
      "[Succeeded / Failed / Skipped / Total] 323 / 2 / 120 / 445:  89%|█████████████████▊  | 445/500 [08:36<01:03,  1.16s/it]textattack: Saving checkpoint under \"checkpoints\\1720180684435.ta.chkpt\" at 2024-07-05 19:58:04 after 445 attacks.\n"
     ]
    },
    {
     "name": "stdout",
     "output_type": "stream",
     "text": [
      "\n",
      "\n",
      "=============================================================================================================================\n",
      "=============================================================================================================================\n",
      "\n"
     ]
    },
    {
     "name": "stderr",
     "output_type": "stream",
     "text": [
      "[Succeeded / Failed / Skipped / Total] 327 / 2 / 121 / 450:  90%|██████████████████  | 450/500 [08:48<00:58,  1.17s/it]textattack: Saving checkpoint under \"checkpoints\\1720180696089.ta.chkpt\" at 2024-07-05 19:58:16 after 450 attacks.\n",
      "[Succeeded / Failed / Skipped / Total] 327 / 2 / 122 / 451:  90%|██████████████████  | 451/500 [08:48<00:57,  1.17s/it]"
     ]
    },
    {
     "name": "stdout",
     "output_type": "stream",
     "text": [
      "\n",
      "\n",
      "=============================================================================================================================\n",
      "=============================================================================================================================\n",
      "\n"
     ]
    },
    {
     "name": "stderr",
     "output_type": "stream",
     "text": [
      "[Succeeded / Failed / Skipped / Total] 330 / 2 / 123 / 455:  91%|██████████████████▏ | 455/500 [08:51<00:52,  1.17s/it]textattack: Saving checkpoint under \"checkpoints\\1720180699343.ta.chkpt\" at 2024-07-05 19:58:19 after 455 attacks.\n"
     ]
    },
    {
     "name": "stdout",
     "output_type": "stream",
     "text": [
      "\n",
      "\n",
      "=============================================================================================================================\n",
      "=============================================================================================================================\n",
      "\n"
     ]
    },
    {
     "name": "stderr",
     "output_type": "stream",
     "text": [
      "[Succeeded / Failed / Skipped / Total] 335 / 2 / 123 / 460:  92%|██████████████████▍ | 460/500 [08:59<00:46,  1.17s/it]textattack: Saving checkpoint under \"checkpoints\\1720180707738.ta.chkpt\" at 2024-07-05 19:58:27 after 460 attacks.\n"
     ]
    },
    {
     "name": "stdout",
     "output_type": "stream",
     "text": [
      "\n",
      "\n",
      "=============================================================================================================================\n",
      "=============================================================================================================================\n",
      "\n"
     ]
    },
    {
     "name": "stderr",
     "output_type": "stream",
     "text": [
      "[Succeeded / Failed / Skipped / Total] 338 / 2 / 125 / 465:  93%|██████████████████▌ | 465/500 [09:03<00:40,  1.17s/it]textattack: Saving checkpoint under \"checkpoints\\1720180711095.ta.chkpt\" at 2024-07-05 19:58:31 after 465 attacks.\n"
     ]
    },
    {
     "name": "stdout",
     "output_type": "stream",
     "text": [
      "\n",
      "\n",
      "=============================================================================================================================\n",
      "=============================================================================================================================\n",
      "\n"
     ]
    },
    {
     "name": "stderr",
     "output_type": "stream",
     "text": [
      "[Succeeded / Failed / Skipped / Total] 342 / 2 / 126 / 470:  94%|██████████████████▊ | 470/500 [09:09<00:35,  1.17s/it]textattack: Saving checkpoint under \"checkpoints\\1720180716848.ta.chkpt\" at 2024-07-05 19:58:36 after 470 attacks.\n"
     ]
    },
    {
     "name": "stdout",
     "output_type": "stream",
     "text": [
      "\n",
      "\n",
      "=============================================================================================================================\n",
      "=============================================================================================================================\n",
      "\n"
     ]
    },
    {
     "name": "stderr",
     "output_type": "stream",
     "text": [
      "[Succeeded / Failed / Skipped / Total] 347 / 2 / 126 / 475:  95%|███████████████████ | 475/500 [09:18<00:29,  1.18s/it]textattack: Saving checkpoint under \"checkpoints\\1720180726336.ta.chkpt\" at 2024-07-05 19:58:46 after 475 attacks.\n"
     ]
    },
    {
     "name": "stdout",
     "output_type": "stream",
     "text": [
      "\n",
      "\n",
      "=============================================================================================================================\n",
      "=============================================================================================================================\n",
      "\n"
     ]
    },
    {
     "name": "stderr",
     "output_type": "stream",
     "text": [
      "[Succeeded / Failed / Skipped / Total] 352 / 2 / 126 / 480:  96%|███████████████████▏| 480/500 [09:24<00:23,  1.18s/it]textattack: Saving checkpoint under \"checkpoints\\1720180731979.ta.chkpt\" at 2024-07-05 19:58:51 after 480 attacks.\n"
     ]
    },
    {
     "name": "stdout",
     "output_type": "stream",
     "text": [
      "\n",
      "\n",
      "=============================================================================================================================\n",
      "=============================================================================================================================\n",
      "\n"
     ]
    },
    {
     "name": "stderr",
     "output_type": "stream",
     "text": [
      "[Succeeded / Failed / Skipped / Total] 356 / 2 / 127 / 485:  97%|███████████████████▍| 485/500 [09:29<00:17,  1.17s/it]textattack: Saving checkpoint under \"checkpoints\\1720180737189.ta.chkpt\" at 2024-07-05 19:58:57 after 485 attacks.\n"
     ]
    },
    {
     "name": "stdout",
     "output_type": "stream",
     "text": [
      "\n",
      "\n",
      "=============================================================================================================================\n",
      "=============================================================================================================================\n",
      "\n"
     ]
    },
    {
     "name": "stderr",
     "output_type": "stream",
     "text": [
      "[Succeeded / Failed / Skipped / Total] 359 / 2 / 129 / 490:  98%|███████████████████▌| 490/500 [09:34<00:11,  1.17s/it]textattack: Saving checkpoint under \"checkpoints\\1720180742587.ta.chkpt\" at 2024-07-05 19:59:02 after 490 attacks.\n",
      "[Succeeded / Failed / Skipped / Total] 359 / 2 / 130 / 491:  98%|███████████████████▋| 491/500 [09:34<00:10,  1.17s/it]"
     ]
    },
    {
     "name": "stdout",
     "output_type": "stream",
     "text": [
      "\n",
      "\n",
      "=============================================================================================================================\n",
      "=============================================================================================================================\n",
      "\n"
     ]
    },
    {
     "name": "stderr",
     "output_type": "stream",
     "text": [
      "[Succeeded / Failed / Skipped / Total] 362 / 2 / 131 / 495:  99%|███████████████████▊| 495/500 [09:37<00:05,  1.17s/it]textattack: Saving checkpoint under \"checkpoints\\1720180745148.ta.chkpt\" at 2024-07-05 19:59:05 after 495 attacks.\n"
     ]
    },
    {
     "name": "stdout",
     "output_type": "stream",
     "text": [
      "\n",
      "\n",
      "=============================================================================================================================\n",
      "=============================================================================================================================\n",
      "\n"
     ]
    },
    {
     "name": "stderr",
     "output_type": "stream",
     "text": [
      "[Succeeded / Failed / Skipped / Total] 367 / 2 / 131 / 500: 100%|████████████████████| 500/500 [09:46<00:00,  1.17s/it]textattack: Saving checkpoint under \"checkpoints\\1720180754387.ta.chkpt\" at 2024-07-05 19:59:14 after 500 attacks.\n",
      "[Succeeded / Failed / Skipped / Total] 367 / 2 / 131 / 500: 100%|████████████████████| 500/500 [09:46<00:00,  1.17s/it]"
     ]
    },
    {
     "name": "stdout",
     "output_type": "stream",
     "text": [
      "\n",
      "\n",
      "=============================================================================================================================\n",
      "=============================================================================================================================\n",
      "\n",
      "\n",
      "+-------------------------------+--------+\n",
      "| Attack Results                |        |\n",
      "+-------------------------------+--------+\n",
      "| Number of successful attacks: | 367    |\n",
      "| Number of failed attacks:     | 2      |\n",
      "| Number of skipped attacks:    | 131    |\n",
      "| Original accuracy:            | 73.8%  |\n",
      "| Accuracy under attack:        | 0.4%   |\n",
      "| Attack success rate:          | 99.46% |\n",
      "| Average perturbed word %:     | 13.73% |\n",
      "| Average num. words per input: | 18.4   |\n",
      "| Avg num queries:              | 66.12  |\n",
      "+-------------------------------+--------+\n"
     ]
    },
    {
     "name": "stderr",
     "output_type": "stream",
     "text": [
      "\n"
     ]
    }
   ],
   "source": [
    "runAttack(clip_model_wrapper_lr_mr, n_samples, 'attack_results_new/clipmrattacklr'+suffix, target_ds_mr)"
   ]
  },
  {
   "cell_type": "code",
   "execution_count": 29,
   "id": "90505994-11ba-48c5-8a78-5083ba8ddd05",
   "metadata": {},
   "outputs": [
    {
     "name": "stderr",
     "output_type": "stream",
     "text": [
      "textattack: Unknown if model of class <class 'transformers.models.clip.modeling_clip.CLIPTextTransformer'> compatible with goal function <class 'textattack.goal_functions.classification.untargeted_classification.UntargetedClassification'>.\n",
      "textattack: Logging to CSV at path attack_results_new/clipmrattackrfsim05.csv\n"
     ]
    },
    {
     "name": "stdout",
     "output_type": "stream",
     "text": [
      "Attack(\n",
      "  (search_method): GreedyWordSwapWIR(\n",
      "    (wir_method):  delete\n",
      "  )\n",
      "  (goal_function):  UntargetedClassification\n",
      "  (transformation):  WordSwapEmbedding(\n",
      "    (max_candidates):  50\n",
      "    (embedding):  WordEmbedding\n",
      "  )\n",
      "  (constraints): \n",
      "    (0): WordEmbeddingDistance(\n",
      "        (embedding):  WordEmbedding\n",
      "        (min_cos_sim):  0.5\n",
      "        (cased):  False\n",
      "        (include_unknown_words):  True\n",
      "        (compare_against_original):  True\n",
      "      )\n",
      "    (1): PartOfSpeech(\n",
      "        (tagger_type):  nltk\n",
      "        (tagset):  universal\n",
      "        (allow_verb_noun_swap):  True\n",
      "        (compare_against_original):  True\n",
      "      )\n",
      "    (2): UniversalSentenceEncoder(\n",
      "        (metric):  angular\n",
      "        (threshold):  0.840845057\n",
      "        (window_size):  15\n",
      "        (skip_text_shorter_than_window):  True\n",
      "        (compare_against_original):  False\n",
      "      )\n",
      "    (3): RepeatModification\n",
      "    (4): StopwordModification\n",
      "    (5): InputColumnModification(\n",
      "        (matching_column_labels):  ['premise', 'hypothesis']\n",
      "        (columns_to_ignore):  {'premise'}\n",
      "      )\n",
      "  (is_black_box):  True\n",
      ") \n",
      "\n"
     ]
    },
    {
     "name": "stderr",
     "output_type": "stream",
     "text": [
      "[Succeeded / Failed / Skipped / Total] 5 / 0 / 0 / 5:   1%|▎                           | 5/500 [00:15<25:00,  3.03s/it]textattack: Saving checkpoint under \"checkpoints\\1720180769631.ta.chkpt\" at 2024-07-05 19:59:29 after 5 attacks.\n",
      "[Succeeded / Failed / Skipped / Total] 5 / 0 / 2 / 7:   1%|▍                           | 7/500 [00:15<17:54,  2.18s/it]"
     ]
    },
    {
     "name": "stdout",
     "output_type": "stream",
     "text": [
      "\n",
      "\n",
      "=============================================================================================================================\n",
      "=============================================================================================================================\n",
      "\n"
     ]
    },
    {
     "name": "stderr",
     "output_type": "stream",
     "text": [
      "[Succeeded / Failed / Skipped / Total] 8 / 0 / 2 / 10:   2%|▌                         | 10/500 [00:24<19:48,  2.43s/it]textattack: Saving checkpoint under \"checkpoints\\1720180778739.ta.chkpt\" at 2024-07-05 19:59:38 after 10 attacks.\n"
     ]
    },
    {
     "name": "stdout",
     "output_type": "stream",
     "text": [
      "\n",
      "\n",
      "=============================================================================================================================\n",
      "=============================================================================================================================\n",
      "\n"
     ]
    },
    {
     "name": "stderr",
     "output_type": "stream",
     "text": [
      "[Succeeded / Failed / Skipped / Total] 12 / 0 / 3 / 15:   3%|▊                        | 15/500 [00:34<18:48,  2.33s/it]textattack: Saving checkpoint under \"checkpoints\\1720180789395.ta.chkpt\" at 2024-07-05 19:59:49 after 15 attacks.\n"
     ]
    },
    {
     "name": "stdout",
     "output_type": "stream",
     "text": [
      "\n",
      "\n",
      "=============================================================================================================================\n",
      "=============================================================================================================================\n",
      "\n"
     ]
    },
    {
     "name": "stderr",
     "output_type": "stream",
     "text": [
      "[Succeeded / Failed / Skipped / Total] 15 / 0 / 5 / 20:   4%|█                        | 20/500 [00:38<15:21,  1.92s/it]textattack: Saving checkpoint under \"checkpoints\\1720180792895.ta.chkpt\" at 2024-07-05 19:59:52 after 20 attacks.\n"
     ]
    },
    {
     "name": "stdout",
     "output_type": "stream",
     "text": [
      "\n",
      "\n",
      "=============================================================================================================================\n",
      "=============================================================================================================================\n",
      "\n"
     ]
    },
    {
     "name": "stderr",
     "output_type": "stream",
     "text": [
      "[Succeeded / Failed / Skipped / Total] 18 / 1 / 6 / 25:   5%|█▎                       | 25/500 [00:45<14:16,  1.80s/it]textattack: Saving checkpoint under \"checkpoints\\1720180799549.ta.chkpt\" at 2024-07-05 19:59:59 after 25 attacks.\n"
     ]
    },
    {
     "name": "stdout",
     "output_type": "stream",
     "text": [
      "\n",
      "\n",
      "=============================================================================================================================\n",
      "=============================================================================================================================\n",
      "\n"
     ]
    },
    {
     "name": "stderr",
     "output_type": "stream",
     "text": [
      "[Succeeded / Failed / Skipped / Total] 21 / 1 / 8 / 30:   6%|█▌                       | 30/500 [00:51<13:34,  1.73s/it]textattack: Saving checkpoint under \"checkpoints\\1720180806466.ta.chkpt\" at 2024-07-05 20:00:06 after 30 attacks.\n"
     ]
    },
    {
     "name": "stdout",
     "output_type": "stream",
     "text": [
      "\n",
      "\n",
      "=============================================================================================================================\n",
      "=============================================================================================================================\n",
      "\n"
     ]
    },
    {
     "name": "stderr",
     "output_type": "stream",
     "text": [
      "[Succeeded / Failed / Skipped / Total] 25 / 1 / 9 / 35:   7%|█▊                       | 35/500 [00:54<12:08,  1.57s/it]textattack: Saving checkpoint under \"checkpoints\\1720180809282.ta.chkpt\" at 2024-07-05 20:00:09 after 35 attacks.\n"
     ]
    },
    {
     "name": "stdout",
     "output_type": "stream",
     "text": [
      "\n",
      "\n",
      "=============================================================================================================================\n",
      "=============================================================================================================================\n",
      "\n"
     ]
    },
    {
     "name": "stderr",
     "output_type": "stream",
     "text": [
      "[Succeeded / Failed / Skipped / Total] 29 / 1 / 10 / 40:   8%|█▉                      | 40/500 [00:57<11:05,  1.45s/it]textattack: Saving checkpoint under \"checkpoints\\1720180812353.ta.chkpt\" at 2024-07-05 20:00:12 after 40 attacks.\n"
     ]
    },
    {
     "name": "stdout",
     "output_type": "stream",
     "text": [
      "\n",
      "\n",
      "=============================================================================================================================\n",
      "=============================================================================================================================\n",
      "\n"
     ]
    },
    {
     "name": "stderr",
     "output_type": "stream",
     "text": [
      "[Succeeded / Failed / Skipped / Total] 32 / 1 / 12 / 45:   9%|██▏                     | 45/500 [01:04<10:56,  1.44s/it]textattack: Saving checkpoint under \"checkpoints\\1720180819394.ta.chkpt\" at 2024-07-05 20:00:19 after 45 attacks.\n"
     ]
    },
    {
     "name": "stdout",
     "output_type": "stream",
     "text": [
      "\n",
      "\n",
      "=============================================================================================================================\n",
      "=============================================================================================================================\n",
      "\n"
     ]
    },
    {
     "name": "stderr",
     "output_type": "stream",
     "text": [
      "[Succeeded / Failed / Skipped / Total] 37 / 1 / 12 / 50:  10%|██▍                     | 50/500 [01:11<10:46,  1.44s/it]textattack: Saving checkpoint under \"checkpoints\\1720180826349.ta.chkpt\" at 2024-07-05 20:00:26 after 50 attacks.\n",
      "[Succeeded / Failed / Skipped / Total] 37 / 1 / 13 / 51:  10%|██▍                     | 51/500 [01:11<10:33,  1.41s/it]"
     ]
    },
    {
     "name": "stdout",
     "output_type": "stream",
     "text": [
      "\n",
      "\n",
      "=============================================================================================================================\n",
      "=============================================================================================================================\n",
      "\n"
     ]
    },
    {
     "name": "stderr",
     "output_type": "stream",
     "text": [
      "[Succeeded / Failed / Skipped / Total] 40 / 1 / 14 / 55:  11%|██▋                     | 55/500 [01:17<10:23,  1.40s/it]textattack: Saving checkpoint under \"checkpoints\\1720180831516.ta.chkpt\" at 2024-07-05 20:00:31 after 55 attacks.\n"
     ]
    },
    {
     "name": "stdout",
     "output_type": "stream",
     "text": [
      "\n",
      "\n",
      "=============================================================================================================================\n",
      "=============================================================================================================================\n",
      "\n"
     ]
    },
    {
     "name": "stderr",
     "output_type": "stream",
     "text": [
      "[Succeeded / Failed / Skipped / Total] 44 / 1 / 15 / 60:  12%|██▉                     | 60/500 [01:21<09:54,  1.35s/it]textattack: Saving checkpoint under \"checkpoints\\1720180835601.ta.chkpt\" at 2024-07-05 20:00:35 after 60 attacks.\n"
     ]
    },
    {
     "name": "stdout",
     "output_type": "stream",
     "text": [
      "\n",
      "\n",
      "=============================================================================================================================\n",
      "=============================================================================================================================\n",
      "\n"
     ]
    },
    {
     "name": "stderr",
     "output_type": "stream",
     "text": [
      "[Succeeded / Failed / Skipped / Total] 48 / 2 / 15 / 65:  13%|███                     | 65/500 [01:34<10:32,  1.45s/it]textattack: Saving checkpoint under \"checkpoints\\1720180848978.ta.chkpt\" at 2024-07-05 20:00:48 after 65 attacks.\n"
     ]
    },
    {
     "name": "stdout",
     "output_type": "stream",
     "text": [
      "\n",
      "\n",
      "=============================================================================================================================\n",
      "=============================================================================================================================\n",
      "\n"
     ]
    },
    {
     "name": "stderr",
     "output_type": "stream",
     "text": [
      "[Succeeded / Failed / Skipped / Total] 53 / 2 / 15 / 70:  14%|███▎                    | 70/500 [01:43<10:33,  1.47s/it]textattack: Saving checkpoint under \"checkpoints\\1720180857544.ta.chkpt\" at 2024-07-05 20:00:57 after 70 attacks.\n",
      "[Succeeded / Failed / Skipped / Total] 53 / 2 / 16 / 71:  14%|███▍                    | 71/500 [01:43<10:23,  1.45s/it]"
     ]
    },
    {
     "name": "stdout",
     "output_type": "stream",
     "text": [
      "\n",
      "\n",
      "=============================================================================================================================\n",
      "=============================================================================================================================\n",
      "\n"
     ]
    },
    {
     "name": "stderr",
     "output_type": "stream",
     "text": [
      "[Succeeded / Failed / Skipped / Total] 56 / 2 / 17 / 75:  15%|███▌                    | 75/500 [01:48<10:15,  1.45s/it]textattack: Saving checkpoint under \"checkpoints\\1720180863136.ta.chkpt\" at 2024-07-05 20:01:03 after 75 attacks.\n"
     ]
    },
    {
     "name": "stdout",
     "output_type": "stream",
     "text": [
      "\n",
      "\n",
      "=============================================================================================================================\n",
      "=============================================================================================================================\n",
      "\n"
     ]
    },
    {
     "name": "stderr",
     "output_type": "stream",
     "text": [
      "[Succeeded / Failed / Skipped / Total] 60 / 2 / 18 / 80:  16%|███▊                    | 80/500 [01:55<10:04,  1.44s/it]textattack: Saving checkpoint under \"checkpoints\\1720180869606.ta.chkpt\" at 2024-07-05 20:01:09 after 80 attacks.\n",
      "[Succeeded / Failed / Skipped / Total] 60 / 2 / 20 / 82:  16%|███▉                    | 82/500 [01:55<09:47,  1.41s/it]"
     ]
    },
    {
     "name": "stdout",
     "output_type": "stream",
     "text": [
      "\n",
      "\n",
      "=============================================================================================================================\n",
      "=============================================================================================================================\n",
      "\n"
     ]
    },
    {
     "name": "stderr",
     "output_type": "stream",
     "text": [
      "[Succeeded / Failed / Skipped / Total] 63 / 2 / 20 / 85:  17%|████                    | 85/500 [01:57<09:31,  1.38s/it]textattack: Saving checkpoint under \"checkpoints\\1720180871633.ta.chkpt\" at 2024-07-05 20:01:11 after 85 attacks.\n"
     ]
    },
    {
     "name": "stdout",
     "output_type": "stream",
     "text": [
      "\n",
      "\n",
      "=============================================================================================================================\n",
      "=============================================================================================================================\n",
      "\n"
     ]
    },
    {
     "name": "stderr",
     "output_type": "stream",
     "text": [
      "[Succeeded / Failed / Skipped / Total] 67 / 2 / 21 / 90:  18%|████▎                   | 90/500 [02:02<09:17,  1.36s/it]textattack: Saving checkpoint under \"checkpoints\\1720180876878.ta.chkpt\" at 2024-07-05 20:01:16 after 90 attacks.\n",
      "[Succeeded / Failed / Skipped / Total] 67 / 2 / 22 / 91:  18%|████▎                   | 91/500 [02:02<09:10,  1.35s/it]"
     ]
    },
    {
     "name": "stdout",
     "output_type": "stream",
     "text": [
      "\n",
      "\n",
      "=============================================================================================================================\n",
      "=============================================================================================================================\n",
      "\n"
     ]
    },
    {
     "name": "stderr",
     "output_type": "stream",
     "text": [
      "[Succeeded / Failed / Skipped / Total] 69 / 2 / 24 / 95:  19%|████▌                   | 95/500 [02:09<09:12,  1.37s/it]textattack: Saving checkpoint under \"checkpoints\\1720180884188.ta.chkpt\" at 2024-07-05 20:01:24 after 95 attacks.\n"
     ]
    },
    {
     "name": "stdout",
     "output_type": "stream",
     "text": [
      "\n",
      "\n",
      "=============================================================================================================================\n",
      "=============================================================================================================================\n",
      "\n"
     ]
    },
    {
     "name": "stderr",
     "output_type": "stream",
     "text": [
      "[Succeeded / Failed / Skipped / Total] 73 / 2 / 25 / 100:  20%|████▍                 | 100/500 [02:13<08:54,  1.34s/it]textattack: Saving checkpoint under \"checkpoints\\1720180888224.ta.chkpt\" at 2024-07-05 20:01:28 after 100 attacks.\n"
     ]
    },
    {
     "name": "stdout",
     "output_type": "stream",
     "text": [
      "\n",
      "\n",
      "=============================================================================================================================\n",
      "=============================================================================================================================\n",
      "\n"
     ]
    },
    {
     "name": "stderr",
     "output_type": "stream",
     "text": [
      "[Succeeded / Failed / Skipped / Total] 77 / 2 / 26 / 105:  21%|████▌                 | 105/500 [02:26<09:11,  1.40s/it]textattack: Saving checkpoint under \"checkpoints\\1720180901143.ta.chkpt\" at 2024-07-05 20:01:41 after 105 attacks.\n",
      "[Succeeded / Failed / Skipped / Total] 77 / 2 / 27 / 106:  21%|████▋                 | 106/500 [02:26<09:05,  1.38s/it]"
     ]
    },
    {
     "name": "stdout",
     "output_type": "stream",
     "text": [
      "\n",
      "\n",
      "=============================================================================================================================\n",
      "=============================================================================================================================\n",
      "\n"
     ]
    },
    {
     "name": "stderr",
     "output_type": "stream",
     "text": [
      "[Succeeded / Failed / Skipped / Total] 79 / 2 / 29 / 110:  22%|████▊                 | 110/500 [02:32<09:02,  1.39s/it]textattack: Saving checkpoint under \"checkpoints\\1720180907385.ta.chkpt\" at 2024-07-05 20:01:47 after 110 attacks.\n",
      "[Succeeded / Failed / Skipped / Total] 79 / 2 / 30 / 111:  22%|████▉                 | 111/500 [02:32<08:56,  1.38s/it]"
     ]
    },
    {
     "name": "stdout",
     "output_type": "stream",
     "text": [
      "\n",
      "\n",
      "=============================================================================================================================\n",
      "=============================================================================================================================\n",
      "\n"
     ]
    },
    {
     "name": "stderr",
     "output_type": "stream",
     "text": [
      "[Succeeded / Failed / Skipped / Total] 83 / 2 / 30 / 115:  23%|█████                 | 115/500 [02:40<08:57,  1.40s/it]textattack: Saving checkpoint under \"checkpoints\\1720180915162.ta.chkpt\" at 2024-07-05 20:01:55 after 115 attacks.\n"
     ]
    },
    {
     "name": "stdout",
     "output_type": "stream",
     "text": [
      "\n",
      "\n",
      "=============================================================================================================================\n",
      "=============================================================================================================================\n",
      "\n"
     ]
    },
    {
     "name": "stderr",
     "output_type": "stream",
     "text": [
      "[Succeeded / Failed / Skipped / Total] 85 / 3 / 32 / 120:  24%|█████▎                | 120/500 [02:44<08:42,  1.37s/it]textattack: Saving checkpoint under \"checkpoints\\1720180919464.ta.chkpt\" at 2024-07-05 20:01:59 after 120 attacks.\n"
     ]
    },
    {
     "name": "stdout",
     "output_type": "stream",
     "text": [
      "\n",
      "\n",
      "=============================================================================================================================\n",
      "=============================================================================================================================\n",
      "\n"
     ]
    },
    {
     "name": "stderr",
     "output_type": "stream",
     "text": [
      "[Succeeded / Failed / Skipped / Total] 89 / 3 / 33 / 125:  25%|█████▌                | 125/500 [02:50<08:31,  1.36s/it]textattack: Saving checkpoint under \"checkpoints\\1720180924831.ta.chkpt\" at 2024-07-05 20:02:04 after 125 attacks.\n"
     ]
    },
    {
     "name": "stdout",
     "output_type": "stream",
     "text": [
      "\n",
      "\n",
      "=============================================================================================================================\n",
      "=============================================================================================================================\n",
      "\n"
     ]
    },
    {
     "name": "stderr",
     "output_type": "stream",
     "text": [
      "[Succeeded / Failed / Skipped / Total] 94 / 3 / 33 / 130:  26%|█████▋                | 130/500 [02:58<08:26,  1.37s/it]textattack: Saving checkpoint under \"checkpoints\\1720180932535.ta.chkpt\" at 2024-07-05 20:02:12 after 130 attacks.\n",
      "[Succeeded / Failed / Skipped / Total] 94 / 3 / 34 / 131:  26%|█████▊                | 131/500 [02:58<08:21,  1.36s/it]"
     ]
    },
    {
     "name": "stdout",
     "output_type": "stream",
     "text": [
      "\n",
      "\n",
      "=============================================================================================================================\n",
      "=============================================================================================================================\n",
      "\n"
     ]
    },
    {
     "name": "stderr",
     "output_type": "stream",
     "text": [
      "[Succeeded / Failed / Skipped / Total] 97 / 3 / 35 / 135:  27%|█████▉                | 135/500 [03:08<08:29,  1.40s/it]textattack: Saving checkpoint under \"checkpoints\\1720180942893.ta.chkpt\" at 2024-07-05 20:02:22 after 135 attacks.\n"
     ]
    },
    {
     "name": "stdout",
     "output_type": "stream",
     "text": [
      "\n",
      "\n",
      "=============================================================================================================================\n",
      "=============================================================================================================================\n",
      "\n"
     ]
    },
    {
     "name": "stderr",
     "output_type": "stream",
     "text": [
      "[Succeeded / Failed / Skipped / Total] 100 / 3 / 37 / 140:  28%|█████▉               | 140/500 [03:11<08:13,  1.37s/it]textattack: Saving checkpoint under \"checkpoints\\1720180946256.ta.chkpt\" at 2024-07-05 20:02:26 after 140 attacks.\n",
      "[Succeeded / Failed / Skipped / Total] 100 / 3 / 38 / 141:  28%|█████▉               | 141/500 [03:11<08:08,  1.36s/it]"
     ]
    },
    {
     "name": "stdout",
     "output_type": "stream",
     "text": [
      "\n",
      "\n",
      "=============================================================================================================================\n",
      "=============================================================================================================================\n",
      "\n"
     ]
    },
    {
     "name": "stderr",
     "output_type": "stream",
     "text": [
      "[Succeeded / Failed / Skipped / Total] 102 / 3 / 40 / 145:  29%|██████               | 145/500 [03:14<07:56,  1.34s/it]textattack: Saving checkpoint under \"checkpoints\\1720180949064.ta.chkpt\" at 2024-07-05 20:02:29 after 145 attacks.\n",
      "[Succeeded / Failed / Skipped / Total] 102 / 3 / 41 / 146:  29%|██████▏              | 146/500 [03:14<07:51,  1.33s/it]"
     ]
    },
    {
     "name": "stdout",
     "output_type": "stream",
     "text": [
      "\n",
      "\n",
      "=============================================================================================================================\n",
      "=============================================================================================================================\n",
      "\n"
     ]
    },
    {
     "name": "stderr",
     "output_type": "stream",
     "text": [
      "[Succeeded / Failed / Skipped / Total] 104 / 4 / 42 / 150:  30%|██████▎              | 150/500 [03:19<07:46,  1.33s/it]textattack: Saving checkpoint under \"checkpoints\\1720180954266.ta.chkpt\" at 2024-07-05 20:02:34 after 150 attacks.\n",
      "[Succeeded / Failed / Skipped / Total] 104 / 4 / 43 / 151:  30%|██████▎              | 151/500 [03:19<07:41,  1.32s/it]"
     ]
    },
    {
     "name": "stdout",
     "output_type": "stream",
     "text": [
      "\n",
      "\n",
      "=============================================================================================================================\n",
      "=============================================================================================================================\n",
      "\n"
     ]
    },
    {
     "name": "stderr",
     "output_type": "stream",
     "text": [
      "[Succeeded / Failed / Skipped / Total] 107 / 4 / 44 / 155:  31%|██████▌              | 155/500 [03:23<07:34,  1.32s/it]textattack: Saving checkpoint under \"checkpoints\\1720180958470.ta.chkpt\" at 2024-07-05 20:02:38 after 155 attacks.\n"
     ]
    },
    {
     "name": "stdout",
     "output_type": "stream",
     "text": [
      "\n",
      "\n",
      "=============================================================================================================================\n",
      "=============================================================================================================================\n",
      "\n"
     ]
    },
    {
     "name": "stderr",
     "output_type": "stream",
     "text": [
      "[Succeeded / Failed / Skipped / Total] 109 / 5 / 46 / 160:  32%|██████▋              | 160/500 [03:39<07:46,  1.37s/it]textattack: Saving checkpoint under \"checkpoints\\1720180973804.ta.chkpt\" at 2024-07-05 20:02:53 after 160 attacks.\n",
      "[Succeeded / Failed / Skipped / Total] 109 / 5 / 47 / 161:  32%|██████▊              | 161/500 [03:39<07:41,  1.36s/it]"
     ]
    },
    {
     "name": "stdout",
     "output_type": "stream",
     "text": [
      "\n",
      "\n",
      "=============================================================================================================================\n",
      "=============================================================================================================================\n",
      "\n"
     ]
    },
    {
     "name": "stderr",
     "output_type": "stream",
     "text": [
      "[Succeeded / Failed / Skipped / Total] 112 / 5 / 48 / 165:  33%|██████▉              | 165/500 [03:43<07:33,  1.35s/it]textattack: Saving checkpoint under \"checkpoints\\1720180977926.ta.chkpt\" at 2024-07-05 20:02:57 after 165 attacks.\n",
      "[Succeeded / Failed / Skipped / Total] 112 / 5 / 51 / 168:  34%|███████              | 168/500 [03:43<07:21,  1.33s/it]"
     ]
    },
    {
     "name": "stdout",
     "output_type": "stream",
     "text": [
      "\n",
      "\n",
      "=============================================================================================================================\n",
      "=============================================================================================================================\n",
      "\n"
     ]
    },
    {
     "name": "stderr",
     "output_type": "stream",
     "text": [
      "[Succeeded / Failed / Skipped / Total] 112 / 5 / 53 / 170:  34%|███████▏             | 170/500 [03:43<07:14,  1.32s/it]textattack: Saving checkpoint under \"checkpoints\\1720180978210.ta.chkpt\" at 2024-07-05 20:02:58 after 170 attacks.\n"
     ]
    },
    {
     "name": "stdout",
     "output_type": "stream",
     "text": [
      "\n",
      "\n",
      "=============================================================================================================================\n",
      "=============================================================================================================================\n",
      "\n"
     ]
    },
    {
     "name": "stderr",
     "output_type": "stream",
     "text": [
      "[Succeeded / Failed / Skipped / Total] 114 / 6 / 55 / 175:  35%|███████▎             | 175/500 [03:55<07:16,  1.34s/it]textattack: Saving checkpoint under \"checkpoints\\1720180989714.ta.chkpt\" at 2024-07-05 20:03:09 after 175 attacks.\n"
     ]
    },
    {
     "name": "stdout",
     "output_type": "stream",
     "text": [
      "\n",
      "\n",
      "=============================================================================================================================\n",
      "=============================================================================================================================\n",
      "\n"
     ]
    },
    {
     "name": "stderr",
     "output_type": "stream",
     "text": [
      "[Succeeded / Failed / Skipped / Total] 118 / 6 / 56 / 180:  36%|███████▌             | 180/500 [04:02<07:10,  1.35s/it]textattack: Saving checkpoint under \"checkpoints\\1720180996672.ta.chkpt\" at 2024-07-05 20:03:16 after 180 attacks.\n"
     ]
    },
    {
     "name": "stdout",
     "output_type": "stream",
     "text": [
      "\n",
      "\n",
      "=============================================================================================================================\n",
      "=============================================================================================================================\n",
      "\n"
     ]
    },
    {
     "name": "stderr",
     "output_type": "stream",
     "text": [
      "[Succeeded / Failed / Skipped / Total] 121 / 6 / 58 / 185:  37%|███████▊             | 185/500 [04:04<06:56,  1.32s/it]textattack: Saving checkpoint under \"checkpoints\\1720180998950.ta.chkpt\" at 2024-07-05 20:03:18 after 185 attacks.\n",
      "[Succeeded / Failed / Skipped / Total] 121 / 6 / 59 / 186:  37%|███████▊             | 186/500 [04:04<06:52,  1.31s/it]"
     ]
    },
    {
     "name": "stdout",
     "output_type": "stream",
     "text": [
      "\n",
      "\n",
      "=============================================================================================================================\n",
      "=============================================================================================================================\n",
      "\n"
     ]
    },
    {
     "name": "stderr",
     "output_type": "stream",
     "text": [
      "[Succeeded / Failed / Skipped / Total] 125 / 6 / 59 / 190:  38%|███████▉             | 190/500 [04:13<06:53,  1.33s/it]textattack: Saving checkpoint under \"checkpoints\\1720181007957.ta.chkpt\" at 2024-07-05 20:03:27 after 190 attacks.\n"
     ]
    },
    {
     "name": "stdout",
     "output_type": "stream",
     "text": [
      "\n",
      "\n",
      "=============================================================================================================================\n",
      "=============================================================================================================================\n",
      "\n"
     ]
    },
    {
     "name": "stderr",
     "output_type": "stream",
     "text": [
      "[Succeeded / Failed / Skipped / Total] 129 / 6 / 60 / 195:  39%|████████▏            | 195/500 [04:20<06:47,  1.33s/it]textattack: Saving checkpoint under \"checkpoints\\1720181014744.ta.chkpt\" at 2024-07-05 20:03:34 after 195 attacks.\n"
     ]
    },
    {
     "name": "stdout",
     "output_type": "stream",
     "text": [
      "\n",
      "\n",
      "=============================================================================================================================\n",
      "=============================================================================================================================\n",
      "\n"
     ]
    },
    {
     "name": "stderr",
     "output_type": "stream",
     "text": [
      "[Succeeded / Failed / Skipped / Total] 132 / 6 / 62 / 200:  40%|████████▍            | 200/500 [04:37<06:56,  1.39s/it]textattack: Saving checkpoint under \"checkpoints\\1720181032055.ta.chkpt\" at 2024-07-05 20:03:52 after 200 attacks.\n"
     ]
    },
    {
     "name": "stdout",
     "output_type": "stream",
     "text": [
      "\n",
      "\n",
      "=============================================================================================================================\n",
      "=============================================================================================================================\n",
      "\n"
     ]
    },
    {
     "name": "stderr",
     "output_type": "stream",
     "text": [
      "[Succeeded / Failed / Skipped / Total] 135 / 7 / 63 / 205:  41%|████████▌            | 205/500 [04:49<06:55,  1.41s/it]textattack: Saving checkpoint under \"checkpoints\\1720181043544.ta.chkpt\" at 2024-07-05 20:04:03 after 205 attacks.\n"
     ]
    },
    {
     "name": "stdout",
     "output_type": "stream",
     "text": [
      "\n",
      "\n",
      "=============================================================================================================================\n",
      "=============================================================================================================================\n",
      "\n"
     ]
    },
    {
     "name": "stderr",
     "output_type": "stream",
     "text": [
      "[Succeeded / Failed / Skipped / Total] 139 / 7 / 64 / 210:  42%|████████▊            | 210/500 [04:53<06:45,  1.40s/it]textattack: Saving checkpoint under \"checkpoints\\1720181048252.ta.chkpt\" at 2024-07-05 20:04:08 after 210 attacks.\n"
     ]
    },
    {
     "name": "stdout",
     "output_type": "stream",
     "text": [
      "\n",
      "\n",
      "=============================================================================================================================\n",
      "=============================================================================================================================\n",
      "\n"
     ]
    },
    {
     "name": "stderr",
     "output_type": "stream",
     "text": [
      "[Succeeded / Failed / Skipped / Total] 143 / 7 / 65 / 215:  43%|█████████            | 215/500 [05:02<06:40,  1.41s/it]textattack: Saving checkpoint under \"checkpoints\\1720181056978.ta.chkpt\" at 2024-07-05 20:04:16 after 215 attacks.\n"
     ]
    },
    {
     "name": "stdout",
     "output_type": "stream",
     "text": [
      "\n",
      "\n",
      "=============================================================================================================================\n",
      "=============================================================================================================================\n",
      "\n"
     ]
    },
    {
     "name": "stderr",
     "output_type": "stream",
     "text": [
      "[Succeeded / Failed / Skipped / Total] 147 / 7 / 66 / 220:  44%|█████████▏           | 220/500 [05:05<06:29,  1.39s/it]textattack: Saving checkpoint under \"checkpoints\\1720181060388.ta.chkpt\" at 2024-07-05 20:04:20 after 220 attacks.\n"
     ]
    },
    {
     "name": "stdout",
     "output_type": "stream",
     "text": [
      "\n",
      "\n",
      "=============================================================================================================================\n",
      "=============================================================================================================================\n",
      "\n"
     ]
    },
    {
     "name": "stderr",
     "output_type": "stream",
     "text": [
      "[Succeeded / Failed / Skipped / Total] 151 / 7 / 67 / 225:  45%|█████████▍           | 225/500 [05:12<06:21,  1.39s/it]textattack: Saving checkpoint under \"checkpoints\\1720181066835.ta.chkpt\" at 2024-07-05 20:04:26 after 225 attacks.\n"
     ]
    },
    {
     "name": "stdout",
     "output_type": "stream",
     "text": [
      "\n",
      "\n",
      "=============================================================================================================================\n",
      "=============================================================================================================================\n",
      "\n"
     ]
    },
    {
     "name": "stderr",
     "output_type": "stream",
     "text": [
      "[Succeeded / Failed / Skipped / Total] 153 / 7 / 70 / 230:  46%|█████████▋           | 230/500 [05:15<06:10,  1.37s/it]textattack: Saving checkpoint under \"checkpoints\\1720181070354.ta.chkpt\" at 2024-07-05 20:04:30 after 230 attacks.\n",
      "[Succeeded / Failed / Skipped / Total] 153 / 7 / 71 / 231:  46%|█████████▋           | 231/500 [05:15<06:07,  1.37s/it]"
     ]
    },
    {
     "name": "stdout",
     "output_type": "stream",
     "text": [
      "\n",
      "\n",
      "=============================================================================================================================\n",
      "=============================================================================================================================\n",
      "\n"
     ]
    },
    {
     "name": "stderr",
     "output_type": "stream",
     "text": [
      "[Succeeded / Failed / Skipped / Total] 156 / 7 / 72 / 235:  47%|█████████▊           | 235/500 [05:22<06:03,  1.37s/it]textattack: Saving checkpoint under \"checkpoints\\1720181076808.ta.chkpt\" at 2024-07-05 20:04:36 after 235 attacks.\n"
     ]
    },
    {
     "name": "stdout",
     "output_type": "stream",
     "text": [
      "\n",
      "\n",
      "=============================================================================================================================\n",
      "=============================================================================================================================\n",
      "\n"
     ]
    },
    {
     "name": "stderr",
     "output_type": "stream",
     "text": [
      "[Succeeded / Failed / Skipped / Total] 160 / 7 / 73 / 240:  48%|██████████           | 240/500 [05:27<05:54,  1.36s/it]textattack: Saving checkpoint under \"checkpoints\\1720181081712.ta.chkpt\" at 2024-07-05 20:04:41 after 240 attacks.\n",
      "[Succeeded / Failed / Skipped / Total] 160 / 7 / 74 / 241:  48%|██████████           | 241/500 [05:27<05:51,  1.36s/it]"
     ]
    },
    {
     "name": "stdout",
     "output_type": "stream",
     "text": [
      "\n",
      "\n",
      "=============================================================================================================================\n",
      "=============================================================================================================================\n",
      "\n"
     ]
    },
    {
     "name": "stderr",
     "output_type": "stream",
     "text": [
      "[Succeeded / Failed / Skipped / Total] 164 / 7 / 74 / 245:  49%|██████████▎          | 245/500 [05:33<05:46,  1.36s/it]textattack: Saving checkpoint under \"checkpoints\\1720181087543.ta.chkpt\" at 2024-07-05 20:04:47 after 245 attacks.\n"
     ]
    },
    {
     "name": "stdout",
     "output_type": "stream",
     "text": [
      "\n",
      "\n",
      "=============================================================================================================================\n",
      "=============================================================================================================================\n",
      "\n"
     ]
    },
    {
     "name": "stderr",
     "output_type": "stream",
     "text": [
      "[Succeeded / Failed / Skipped / Total] 166 / 7 / 77 / 250:  50%|██████████▌          | 250/500 [05:34<05:34,  1.34s/it]textattack: Saving checkpoint under \"checkpoints\\1720181089080.ta.chkpt\" at 2024-07-05 20:04:49 after 250 attacks.\n",
      "[Succeeded / Failed / Skipped / Total] 166 / 7 / 78 / 251:  50%|██████████▌          | 251/500 [05:34<05:32,  1.33s/it]"
     ]
    },
    {
     "name": "stdout",
     "output_type": "stream",
     "text": [
      "\n",
      "\n",
      "=============================================================================================================================\n",
      "=============================================================================================================================\n",
      "\n"
     ]
    },
    {
     "name": "stderr",
     "output_type": "stream",
     "text": [
      "[Succeeded / Failed / Skipped / Total] 170 / 7 / 78 / 255:  51%|██████████▋          | 255/500 [05:41<05:27,  1.34s/it]textattack: Saving checkpoint under \"checkpoints\\1720181095749.ta.chkpt\" at 2024-07-05 20:04:55 after 255 attacks.\n"
     ]
    },
    {
     "name": "stdout",
     "output_type": "stream",
     "text": [
      "\n",
      "\n",
      "=============================================================================================================================\n",
      "=============================================================================================================================\n",
      "\n"
     ]
    },
    {
     "name": "stderr",
     "output_type": "stream",
     "text": [
      "[Succeeded / Failed / Skipped / Total] 175 / 7 / 78 / 260:  52%|██████████▉          | 260/500 [05:46<05:19,  1.33s/it]textattack: Saving checkpoint under \"checkpoints\\1720181100689.ta.chkpt\" at 2024-07-05 20:05:00 after 260 attacks.\n",
      "[Succeeded / Failed / Skipped / Total] 175 / 7 / 80 / 262:  52%|███████████          | 262/500 [05:46<05:14,  1.32s/it]"
     ]
    },
    {
     "name": "stdout",
     "output_type": "stream",
     "text": [
      "\n",
      "\n",
      "=============================================================================================================================\n",
      "=============================================================================================================================\n",
      "\n"
     ]
    },
    {
     "name": "stderr",
     "output_type": "stream",
     "text": [
      "[Succeeded / Failed / Skipped / Total] 176 / 8 / 81 / 265:  53%|███████████▏         | 265/500 [05:52<05:12,  1.33s/it]textattack: Saving checkpoint under \"checkpoints\\1720181106962.ta.chkpt\" at 2024-07-05 20:05:06 after 265 attacks.\n"
     ]
    },
    {
     "name": "stdout",
     "output_type": "stream",
     "text": [
      "\n",
      "\n",
      "=============================================================================================================================\n",
      "=============================================================================================================================\n",
      "\n"
     ]
    },
    {
     "name": "stderr",
     "output_type": "stream",
     "text": [
      "[Succeeded / Failed / Skipped / Total] 180 / 8 / 82 / 270:  54%|███████████▎         | 270/500 [05:55<05:03,  1.32s/it]textattack: Saving checkpoint under \"checkpoints\\1720181110329.ta.chkpt\" at 2024-07-05 20:05:10 after 270 attacks.\n",
      "[Succeeded / Failed / Skipped / Total] 180 / 8 / 83 / 271:  54%|███████████▍         | 271/500 [05:55<05:00,  1.31s/it]"
     ]
    },
    {
     "name": "stdout",
     "output_type": "stream",
     "text": [
      "\n",
      "\n",
      "=============================================================================================================================\n",
      "=============================================================================================================================\n",
      "\n"
     ]
    },
    {
     "name": "stderr",
     "output_type": "stream",
     "text": [
      "[Succeeded / Failed / Skipped / Total] 183 / 8 / 84 / 275:  55%|███████████▌         | 275/500 [05:59<04:54,  1.31s/it]textattack: Saving checkpoint under \"checkpoints\\1720181114455.ta.chkpt\" at 2024-07-05 20:05:14 after 275 attacks.\n"
     ]
    },
    {
     "name": "stdout",
     "output_type": "stream",
     "text": [
      "\n",
      "\n",
      "=============================================================================================================================\n",
      "=============================================================================================================================\n",
      "\n"
     ]
    },
    {
     "name": "stderr",
     "output_type": "stream",
     "text": [
      "[Succeeded / Failed / Skipped / Total] 185 / 8 / 87 / 280:  56%|███████████▊         | 280/500 [06:03<04:45,  1.30s/it]textattack: Saving checkpoint under \"checkpoints\\1720181117577.ta.chkpt\" at 2024-07-05 20:05:17 after 280 attacks.\n"
     ]
    },
    {
     "name": "stdout",
     "output_type": "stream",
     "text": [
      "\n",
      "\n",
      "=============================================================================================================================\n",
      "=============================================================================================================================\n",
      "\n"
     ]
    },
    {
     "name": "stderr",
     "output_type": "stream",
     "text": [
      "[Succeeded / Failed / Skipped / Total] 187 / 8 / 90 / 285:  57%|███████████▉         | 285/500 [06:06<04:36,  1.29s/it]textattack: Saving checkpoint under \"checkpoints\\1720181121406.ta.chkpt\" at 2024-07-05 20:05:21 after 285 attacks.\n",
      "[Succeeded / Failed / Skipped / Total] 187 / 8 / 91 / 286:  57%|████████████         | 286/500 [06:07<04:34,  1.28s/it]"
     ]
    },
    {
     "name": "stdout",
     "output_type": "stream",
     "text": [
      "\n",
      "\n",
      "=============================================================================================================================\n",
      "=============================================================================================================================\n",
      "\n"
     ]
    },
    {
     "name": "stderr",
     "output_type": "stream",
     "text": [
      "[Succeeded / Failed / Skipped / Total] 191 / 8 / 91 / 290:  58%|████████████▏        | 290/500 [06:20<04:35,  1.31s/it]textattack: Saving checkpoint under \"checkpoints\\1720181135061.ta.chkpt\" at 2024-07-05 20:05:35 after 290 attacks.\n",
      "[Succeeded / Failed / Skipped / Total] 191 / 8 / 93 / 292:  58%|████████████▎        | 292/500 [06:20<04:31,  1.30s/it]"
     ]
    },
    {
     "name": "stdout",
     "output_type": "stream",
     "text": [
      "\n",
      "\n",
      "=============================================================================================================================\n",
      "=============================================================================================================================\n",
      "\n"
     ]
    },
    {
     "name": "stderr",
     "output_type": "stream",
     "text": [
      "[Succeeded / Failed / Skipped / Total] 193 / 8 / 94 / 295:  59%|████████████▍        | 295/500 [06:22<04:26,  1.30s/it]textattack: Saving checkpoint under \"checkpoints\\1720181137298.ta.chkpt\" at 2024-07-05 20:05:37 after 295 attacks.\n"
     ]
    },
    {
     "name": "stdout",
     "output_type": "stream",
     "text": [
      "\n",
      "\n",
      "=============================================================================================================================\n",
      "=============================================================================================================================\n",
      "\n"
     ]
    },
    {
     "name": "stderr",
     "output_type": "stream",
     "text": [
      "[Succeeded / Failed / Skipped / Total] 196 / 9 / 95 / 300:  60%|████████████▌        | 300/500 [06:28<04:18,  1.29s/it]textattack: Saving checkpoint under \"checkpoints\\1720181142830.ta.chkpt\" at 2024-07-05 20:05:42 after 300 attacks.\n"
     ]
    },
    {
     "name": "stdout",
     "output_type": "stream",
     "text": [
      "\n",
      "\n",
      "=============================================================================================================================\n",
      "=============================================================================================================================\n",
      "\n"
     ]
    },
    {
     "name": "stderr",
     "output_type": "stream",
     "text": [
      "[Succeeded / Failed / Skipped / Total] 199 / 9 / 97 / 305:  61%|████████████▊        | 305/500 [06:32<04:11,  1.29s/it]textattack: Saving checkpoint under \"checkpoints\\1720181147349.ta.chkpt\" at 2024-07-05 20:05:47 after 305 attacks.\n"
     ]
    },
    {
     "name": "stdout",
     "output_type": "stream",
     "text": [
      "\n",
      "\n",
      "=============================================================================================================================\n",
      "=============================================================================================================================\n",
      "\n"
     ]
    },
    {
     "name": "stderr",
     "output_type": "stream",
     "text": [
      "[Succeeded / Failed / Skipped / Total] 203 / 10 / 97 / 310:  62%|████████████▍       | 310/500 [06:37<04:03,  1.28s/it]textattack: Saving checkpoint under \"checkpoints\\1720181151692.ta.chkpt\" at 2024-07-05 20:05:51 after 310 attacks.\n"
     ]
    },
    {
     "name": "stdout",
     "output_type": "stream",
     "text": [
      "\n",
      "\n",
      "=============================================================================================================================\n",
      "=============================================================================================================================\n",
      "\n"
     ]
    },
    {
     "name": "stderr",
     "output_type": "stream",
     "text": [
      "[Succeeded / Failed / Skipped / Total] 206 / 10 / 99 / 315:  63%|████████████▌       | 315/500 [06:44<03:57,  1.28s/it]textattack: Saving checkpoint under \"checkpoints\\1720181159149.ta.chkpt\" at 2024-07-05 20:05:59 after 315 attacks.\n"
     ]
    },
    {
     "name": "stdout",
     "output_type": "stream",
     "text": [
      "\n",
      "\n",
      "=============================================================================================================================\n",
      "=============================================================================================================================\n",
      "\n"
     ]
    },
    {
     "name": "stderr",
     "output_type": "stream",
     "text": [
      "[Succeeded / Failed / Skipped / Total] 208 / 11 / 101 / 320:  64%|████████████▏      | 320/500 [07:00<03:56,  1.32s/it]textattack: Saving checkpoint under \"checkpoints\\1720181175342.ta.chkpt\" at 2024-07-05 20:06:15 after 320 attacks.\n"
     ]
    },
    {
     "name": "stdout",
     "output_type": "stream",
     "text": [
      "\n",
      "\n",
      "=============================================================================================================================\n",
      "=============================================================================================================================\n",
      "\n"
     ]
    },
    {
     "name": "stderr",
     "output_type": "stream",
     "text": [
      "[Succeeded / Failed / Skipped / Total] 211 / 11 / 103 / 325:  65%|████████████▎      | 325/500 [07:06<03:49,  1.31s/it]textattack: Saving checkpoint under \"checkpoints\\1720181181041.ta.chkpt\" at 2024-07-05 20:06:21 after 325 attacks.\n",
      "[Succeeded / Failed / Skipped / Total] 211 / 11 / 106 / 328:  66%|████████████▍      | 328/500 [07:06<03:43,  1.30s/it]"
     ]
    },
    {
     "name": "stdout",
     "output_type": "stream",
     "text": [
      "\n",
      "\n",
      "=============================================================================================================================\n",
      "=============================================================================================================================\n",
      "\n"
     ]
    },
    {
     "name": "stderr",
     "output_type": "stream",
     "text": [
      "[Succeeded / Failed / Skipped / Total] 212 / 11 / 107 / 330:  66%|████████████▌      | 330/500 [07:07<03:40,  1.29s/it]textattack: Saving checkpoint under \"checkpoints\\1720181181768.ta.chkpt\" at 2024-07-05 20:06:21 after 330 attacks.\n"
     ]
    },
    {
     "name": "stdout",
     "output_type": "stream",
     "text": [
      "\n",
      "\n",
      "=============================================================================================================================\n",
      "=============================================================================================================================\n",
      "\n"
     ]
    },
    {
     "name": "stderr",
     "output_type": "stream",
     "text": [
      "[Succeeded / Failed / Skipped / Total] 215 / 12 / 108 / 335:  67%|████████████▋      | 335/500 [07:18<03:36,  1.31s/it]textattack: Saving checkpoint under \"checkpoints\\1720181193459.ta.chkpt\" at 2024-07-05 20:06:33 after 335 attacks.\n"
     ]
    },
    {
     "name": "stdout",
     "output_type": "stream",
     "text": [
      "\n",
      "\n",
      "=============================================================================================================================\n",
      "=============================================================================================================================\n",
      "\n"
     ]
    },
    {
     "name": "stderr",
     "output_type": "stream",
     "text": [
      "[Succeeded / Failed / Skipped / Total] 218 / 12 / 110 / 340:  68%|████████████▉      | 340/500 [07:22<03:28,  1.30s/it]textattack: Saving checkpoint under \"checkpoints\\1720181196941.ta.chkpt\" at 2024-07-05 20:06:36 after 340 attacks.\n"
     ]
    },
    {
     "name": "stdout",
     "output_type": "stream",
     "text": [
      "\n",
      "\n",
      "=============================================================================================================================\n",
      "=============================================================================================================================\n",
      "\n"
     ]
    },
    {
     "name": "stderr",
     "output_type": "stream",
     "text": [
      "[Succeeded / Failed / Skipped / Total] 221 / 12 / 112 / 345:  69%|█████████████      | 345/500 [07:27<03:20,  1.30s/it]textattack: Saving checkpoint under \"checkpoints\\1720181201645.ta.chkpt\" at 2024-07-05 20:06:41 after 345 attacks.\n"
     ]
    },
    {
     "name": "stdout",
     "output_type": "stream",
     "text": [
      "\n",
      "\n",
      "=============================================================================================================================\n",
      "=============================================================================================================================\n",
      "\n"
     ]
    },
    {
     "name": "stderr",
     "output_type": "stream",
     "text": [
      "[Succeeded / Failed / Skipped / Total] 226 / 12 / 112 / 350:  70%|█████████████▎     | 350/500 [07:38<03:16,  1.31s/it]textattack: Saving checkpoint under \"checkpoints\\1720181213082.ta.chkpt\" at 2024-07-05 20:06:53 after 350 attacks.\n"
     ]
    },
    {
     "name": "stdout",
     "output_type": "stream",
     "text": [
      "\n",
      "\n",
      "=============================================================================================================================\n",
      "=============================================================================================================================\n",
      "\n"
     ]
    },
    {
     "name": "stderr",
     "output_type": "stream",
     "text": [
      "[Succeeded / Failed / Skipped / Total] 230 / 13 / 112 / 355:  71%|█████████████▍     | 355/500 [07:51<03:12,  1.33s/it]textattack: Saving checkpoint under \"checkpoints\\1720181226070.ta.chkpt\" at 2024-07-05 20:07:06 after 355 attacks.\n"
     ]
    },
    {
     "name": "stdout",
     "output_type": "stream",
     "text": [
      "\n",
      "\n",
      "=============================================================================================================================\n",
      "=============================================================================================================================\n",
      "\n"
     ]
    },
    {
     "name": "stderr",
     "output_type": "stream",
     "text": [
      "[Succeeded / Failed / Skipped / Total] 234 / 13 / 113 / 360:  72%|█████████████▋     | 360/500 [08:06<03:09,  1.35s/it]textattack: Saving checkpoint under \"checkpoints\\1720181240510.ta.chkpt\" at 2024-07-05 20:07:20 after 360 attacks.\n"
     ]
    },
    {
     "name": "stdout",
     "output_type": "stream",
     "text": [
      "\n",
      "\n",
      "=============================================================================================================================\n",
      "=============================================================================================================================\n",
      "\n"
     ]
    },
    {
     "name": "stderr",
     "output_type": "stream",
     "text": [
      "[Succeeded / Failed / Skipped / Total] 238 / 13 / 114 / 365:  73%|█████████████▊     | 365/500 [08:10<03:01,  1.35s/it]textattack: Saving checkpoint under \"checkpoints\\1720181245409.ta.chkpt\" at 2024-07-05 20:07:25 after 365 attacks.\n"
     ]
    },
    {
     "name": "stdout",
     "output_type": "stream",
     "text": [
      "\n",
      "\n",
      "=============================================================================================================================\n",
      "=============================================================================================================================\n",
      "\n"
     ]
    },
    {
     "name": "stderr",
     "output_type": "stream",
     "text": [
      "[Succeeded / Failed / Skipped / Total] 241 / 13 / 116 / 370:  74%|██████████████     | 370/500 [08:13<02:53,  1.33s/it]textattack: Saving checkpoint under \"checkpoints\\1720181247757.ta.chkpt\" at 2024-07-05 20:07:27 after 370 attacks.\n"
     ]
    },
    {
     "name": "stdout",
     "output_type": "stream",
     "text": [
      "\n",
      "\n",
      "=============================================================================================================================\n",
      "=============================================================================================================================\n",
      "\n"
     ]
    },
    {
     "name": "stderr",
     "output_type": "stream",
     "text": [
      "[Succeeded / Failed / Skipped / Total] 246 / 13 / 116 / 375:  75%|██████████████▎    | 375/500 [08:18<02:46,  1.33s/it]textattack: Saving checkpoint under \"checkpoints\\1720181252831.ta.chkpt\" at 2024-07-05 20:07:32 after 375 attacks.\n"
     ]
    },
    {
     "name": "stdout",
     "output_type": "stream",
     "text": [
      "\n",
      "\n",
      "=============================================================================================================================\n",
      "=============================================================================================================================\n",
      "\n"
     ]
    },
    {
     "name": "stderr",
     "output_type": "stream",
     "text": [
      "[Succeeded / Failed / Skipped / Total] 250 / 13 / 117 / 380:  76%|██████████████▍    | 380/500 [08:23<02:38,  1.32s/it]textattack: Saving checkpoint under \"checkpoints\\1720181257896.ta.chkpt\" at 2024-07-05 20:07:37 after 380 attacks.\n"
     ]
    },
    {
     "name": "stdout",
     "output_type": "stream",
     "text": [
      "\n",
      "\n",
      "=============================================================================================================================\n",
      "=============================================================================================================================\n",
      "\n"
     ]
    },
    {
     "name": "stderr",
     "output_type": "stream",
     "text": [
      "[Succeeded / Failed / Skipped / Total] 254 / 13 / 118 / 385:  77%|██████████████▋    | 385/500 [08:26<02:31,  1.32s/it]textattack: Saving checkpoint under \"checkpoints\\1720181261396.ta.chkpt\" at 2024-07-05 20:07:41 after 385 attacks.\n"
     ]
    },
    {
     "name": "stdout",
     "output_type": "stream",
     "text": [
      "\n",
      "\n",
      "=============================================================================================================================\n",
      "=============================================================================================================================\n",
      "\n"
     ]
    },
    {
     "name": "stderr",
     "output_type": "stream",
     "text": [
      "[Succeeded / Failed / Skipped / Total] 258 / 13 / 119 / 390:  78%|██████████████▊    | 390/500 [08:30<02:23,  1.31s/it]textattack: Saving checkpoint under \"checkpoints\\1720181264985.ta.chkpt\" at 2024-07-05 20:07:44 after 390 attacks.\n"
     ]
    },
    {
     "name": "stdout",
     "output_type": "stream",
     "text": [
      "\n",
      "\n",
      "=============================================================================================================================\n",
      "=============================================================================================================================\n",
      "\n"
     ]
    },
    {
     "name": "stderr",
     "output_type": "stream",
     "text": [
      "[Succeeded / Failed / Skipped / Total] 263 / 13 / 119 / 395:  79%|███████████████    | 395/500 [08:44<02:19,  1.33s/it]textattack: Saving checkpoint under \"checkpoints\\1720181279423.ta.chkpt\" at 2024-07-05 20:07:59 after 395 attacks.\n"
     ]
    },
    {
     "name": "stdout",
     "output_type": "stream",
     "text": [
      "\n",
      "\n",
      "=============================================================================================================================\n",
      "=============================================================================================================================\n",
      "\n"
     ]
    },
    {
     "name": "stderr",
     "output_type": "stream",
     "text": [
      "[Succeeded / Failed / Skipped / Total] 267 / 13 / 120 / 400:  80%|███████████████▏   | 400/500 [08:56<02:14,  1.34s/it]textattack: Saving checkpoint under \"checkpoints\\1720181291040.ta.chkpt\" at 2024-07-05 20:08:11 after 400 attacks.\n",
      "[Succeeded / Failed / Skipped / Total] 267 / 13 / 122 / 402:  80%|███████████████▎   | 402/500 [08:56<02:10,  1.34s/it]"
     ]
    },
    {
     "name": "stdout",
     "output_type": "stream",
     "text": [
      "\n",
      "\n",
      "=============================================================================================================================\n",
      "=============================================================================================================================\n",
      "\n"
     ]
    },
    {
     "name": "stderr",
     "output_type": "stream",
     "text": [
      "[Succeeded / Failed / Skipped / Total] 269 / 13 / 123 / 405:  81%|███████████████▍   | 405/500 [09:03<02:07,  1.34s/it]textattack: Saving checkpoint under \"checkpoints\\1720181297554.ta.chkpt\" at 2024-07-05 20:08:17 after 405 attacks.\n"
     ]
    },
    {
     "name": "stdout",
     "output_type": "stream",
     "text": [
      "\n",
      "\n",
      "=============================================================================================================================\n",
      "=============================================================================================================================\n",
      "\n"
     ]
    },
    {
     "name": "stderr",
     "output_type": "stream",
     "text": [
      "[Succeeded / Failed / Skipped / Total] 273 / 13 / 124 / 410:  82%|███████████████▌   | 410/500 [09:06<02:00,  1.33s/it]textattack: Saving checkpoint under \"checkpoints\\1720181301246.ta.chkpt\" at 2024-07-05 20:08:21 after 410 attacks.\n",
      "[Succeeded / Failed / Skipped / Total] 273 / 13 / 125 / 411:  82%|███████████████▌   | 411/500 [09:06<01:58,  1.33s/it]"
     ]
    },
    {
     "name": "stdout",
     "output_type": "stream",
     "text": [
      "\n",
      "\n",
      "=============================================================================================================================\n",
      "=============================================================================================================================\n",
      "\n"
     ]
    },
    {
     "name": "stderr",
     "output_type": "stream",
     "text": [
      "[Succeeded / Failed / Skipped / Total] 275 / 13 / 127 / 415:  83%|███████████████▊   | 415/500 [09:10<01:52,  1.33s/it]textattack: Saving checkpoint under \"checkpoints\\1720181304868.ta.chkpt\" at 2024-07-05 20:08:24 after 415 attacks.\n"
     ]
    },
    {
     "name": "stdout",
     "output_type": "stream",
     "text": [
      "\n",
      "\n",
      "=============================================================================================================================\n",
      "=============================================================================================================================\n",
      "\n"
     ]
    },
    {
     "name": "stderr",
     "output_type": "stream",
     "text": [
      "[Succeeded / Failed / Skipped / Total] 277 / 14 / 129 / 420:  84%|███████████████▉   | 420/500 [09:23<01:47,  1.34s/it]textattack: Saving checkpoint under \"checkpoints\\1720181318433.ta.chkpt\" at 2024-07-05 20:08:38 after 420 attacks.\n"
     ]
    },
    {
     "name": "stdout",
     "output_type": "stream",
     "text": [
      "\n",
      "\n",
      "=============================================================================================================================\n",
      "=============================================================================================================================\n",
      "\n"
     ]
    },
    {
     "name": "stderr",
     "output_type": "stream",
     "text": [
      "[Succeeded / Failed / Skipped / Total] 282 / 14 / 129 / 425:  85%|████████████████▏  | 425/500 [09:30<01:40,  1.34s/it]textattack: Saving checkpoint under \"checkpoints\\1720181325423.ta.chkpt\" at 2024-07-05 20:08:45 after 425 attacks.\n",
      "[Succeeded / Failed / Skipped / Total] 282 / 14 / 130 / 426:  85%|████████████████▏  | 426/500 [09:31<01:39,  1.34s/it]"
     ]
    },
    {
     "name": "stdout",
     "output_type": "stream",
     "text": [
      "\n",
      "\n",
      "=============================================================================================================================\n",
      "=============================================================================================================================\n",
      "\n"
     ]
    },
    {
     "name": "stderr",
     "output_type": "stream",
     "text": [
      "[Succeeded / Failed / Skipped / Total] 285 / 14 / 131 / 430:  86%|████████████████▎  | 430/500 [09:34<01:33,  1.34s/it]textattack: Saving checkpoint under \"checkpoints\\1720181328844.ta.chkpt\" at 2024-07-05 20:08:48 after 430 attacks.\n",
      "[Succeeded / Failed / Skipped / Total] 285 / 14 / 132 / 431:  86%|████████████████▍  | 431/500 [09:34<01:31,  1.33s/it]"
     ]
    },
    {
     "name": "stdout",
     "output_type": "stream",
     "text": [
      "\n",
      "\n",
      "=============================================================================================================================\n",
      "=============================================================================================================================\n",
      "\n"
     ]
    },
    {
     "name": "stderr",
     "output_type": "stream",
     "text": [
      "[Succeeded / Failed / Skipped / Total] 288 / 14 / 133 / 435:  87%|████████████████▌  | 435/500 [09:37<01:26,  1.33s/it]textattack: Saving checkpoint under \"checkpoints\\1720181331518.ta.chkpt\" at 2024-07-05 20:08:51 after 435 attacks.\n"
     ]
    },
    {
     "name": "stdout",
     "output_type": "stream",
     "text": [
      "\n",
      "\n",
      "=============================================================================================================================\n",
      "=============================================================================================================================\n",
      "\n"
     ]
    },
    {
     "name": "stderr",
     "output_type": "stream",
     "text": [
      "[Succeeded / Failed / Skipped / Total] 293 / 14 / 133 / 440:  88%|████████████████▋  | 440/500 [09:44<01:19,  1.33s/it]textattack: Saving checkpoint under \"checkpoints\\1720181338755.ta.chkpt\" at 2024-07-05 20:08:58 after 440 attacks.\n"
     ]
    },
    {
     "name": "stdout",
     "output_type": "stream",
     "text": [
      "\n",
      "\n",
      "=============================================================================================================================\n",
      "=============================================================================================================================\n",
      "\n"
     ]
    },
    {
     "name": "stderr",
     "output_type": "stream",
     "text": [
      "[Succeeded / Failed / Skipped / Total] 297 / 14 / 134 / 445:  89%|████████████████▉  | 445/500 [09:48<01:12,  1.32s/it]textattack: Saving checkpoint under \"checkpoints\\1720181343471.ta.chkpt\" at 2024-07-05 20:09:03 after 445 attacks.\n"
     ]
    },
    {
     "name": "stdout",
     "output_type": "stream",
     "text": [
      "\n",
      "\n",
      "=============================================================================================================================\n",
      "=============================================================================================================================\n",
      "\n"
     ]
    },
    {
     "name": "stderr",
     "output_type": "stream",
     "text": [
      "[Succeeded / Failed / Skipped / Total] 300 / 14 / 136 / 450:  90%|█████████████████  | 450/500 [10:00<01:06,  1.33s/it]textattack: Saving checkpoint under \"checkpoints\\1720181354586.ta.chkpt\" at 2024-07-05 20:09:14 after 450 attacks.\n",
      "[Succeeded / Failed / Skipped / Total] 300 / 14 / 137 / 451:  90%|█████████████████▏ | 451/500 [10:00<01:05,  1.33s/it]"
     ]
    },
    {
     "name": "stdout",
     "output_type": "stream",
     "text": [
      "\n",
      "\n",
      "=============================================================================================================================\n",
      "=============================================================================================================================\n",
      "\n"
     ]
    },
    {
     "name": "stderr",
     "output_type": "stream",
     "text": [
      "[Succeeded / Failed / Skipped / Total] 303 / 14 / 138 / 455:  91%|█████████████████▎ | 455/500 [10:04<00:59,  1.33s/it]textattack: Saving checkpoint under \"checkpoints\\1720181358713.ta.chkpt\" at 2024-07-05 20:09:18 after 455 attacks.\n"
     ]
    },
    {
     "name": "stdout",
     "output_type": "stream",
     "text": [
      "\n",
      "\n",
      "=============================================================================================================================\n",
      "=============================================================================================================================\n",
      "\n"
     ]
    },
    {
     "name": "stderr",
     "output_type": "stream",
     "text": [
      "[Succeeded / Failed / Skipped / Total] 307 / 14 / 139 / 460:  92%|█████████████████▍ | 460/500 [10:11<00:53,  1.33s/it]textattack: Saving checkpoint under \"checkpoints\\1720181366065.ta.chkpt\" at 2024-07-05 20:09:26 after 460 attacks.\n"
     ]
    },
    {
     "name": "stdout",
     "output_type": "stream",
     "text": [
      "\n",
      "\n",
      "=============================================================================================================================\n",
      "=============================================================================================================================\n",
      "\n"
     ]
    },
    {
     "name": "stderr",
     "output_type": "stream",
     "text": [
      "[Succeeded / Failed / Skipped / Total] 311 / 14 / 140 / 465:  93%|█████████████████▋ | 465/500 [10:18<00:46,  1.33s/it]textattack: Saving checkpoint under \"checkpoints\\1720181372803.ta.chkpt\" at 2024-07-05 20:09:32 after 465 attacks.\n"
     ]
    },
    {
     "name": "stdout",
     "output_type": "stream",
     "text": [
      "\n",
      "\n",
      "=============================================================================================================================\n",
      "=============================================================================================================================\n",
      "\n"
     ]
    },
    {
     "name": "stderr",
     "output_type": "stream",
     "text": [
      "[Succeeded / Failed / Skipped / Total] 315 / 14 / 141 / 470:  94%|█████████████████▊ | 470/500 [10:21<00:39,  1.32s/it]textattack: Saving checkpoint under \"checkpoints\\1720181375659.ta.chkpt\" at 2024-07-05 20:09:35 after 470 attacks.\n"
     ]
    },
    {
     "name": "stdout",
     "output_type": "stream",
     "text": [
      "\n",
      "\n",
      "=============================================================================================================================\n",
      "=============================================================================================================================\n",
      "\n"
     ]
    },
    {
     "name": "stderr",
     "output_type": "stream",
     "text": [
      "[Succeeded / Failed / Skipped / Total] 319 / 14 / 142 / 475:  95%|██████████████████ | 475/500 [10:34<00:33,  1.34s/it]textattack: Saving checkpoint under \"checkpoints\\1720181388803.ta.chkpt\" at 2024-07-05 20:09:48 after 475 attacks.\n"
     ]
    },
    {
     "name": "stdout",
     "output_type": "stream",
     "text": [
      "\n",
      "\n",
      "=============================================================================================================================\n",
      "=============================================================================================================================\n",
      "\n"
     ]
    },
    {
     "name": "stderr",
     "output_type": "stream",
     "text": [
      "[Succeeded / Failed / Skipped / Total] 323 / 14 / 143 / 480:  96%|██████████████████▏| 480/500 [10:38<00:26,  1.33s/it]textattack: Saving checkpoint under \"checkpoints\\1720181393445.ta.chkpt\" at 2024-07-05 20:09:53 after 480 attacks.\n"
     ]
    },
    {
     "name": "stdout",
     "output_type": "stream",
     "text": [
      "\n",
      "\n",
      "=============================================================================================================================\n",
      "=============================================================================================================================\n",
      "\n"
     ]
    },
    {
     "name": "stderr",
     "output_type": "stream",
     "text": [
      "[Succeeded / Failed / Skipped / Total] 327 / 14 / 144 / 485:  97%|██████████████████▍| 485/500 [10:59<00:20,  1.36s/it]textattack: Saving checkpoint under \"checkpoints\\1720181414125.ta.chkpt\" at 2024-07-05 20:10:14 after 485 attacks.\n"
     ]
    },
    {
     "name": "stdout",
     "output_type": "stream",
     "text": [
      "\n",
      "\n",
      "=============================================================================================================================\n",
      "=============================================================================================================================\n",
      "\n"
     ]
    },
    {
     "name": "stderr",
     "output_type": "stream",
     "text": [
      "[Succeeded / Failed / Skipped / Total] 331 / 14 / 145 / 490:  98%|██████████████████▌| 490/500 [11:05<00:13,  1.36s/it]textattack: Saving checkpoint under \"checkpoints\\1720181419543.ta.chkpt\" at 2024-07-05 20:10:19 after 490 attacks.\n",
      "[Succeeded / Failed / Skipped / Total] 331 / 14 / 146 / 491:  98%|██████████████████▋| 491/500 [11:05<00:12,  1.35s/it]"
     ]
    },
    {
     "name": "stdout",
     "output_type": "stream",
     "text": [
      "\n",
      "\n",
      "=============================================================================================================================\n",
      "=============================================================================================================================\n",
      "\n"
     ]
    },
    {
     "name": "stderr",
     "output_type": "stream",
     "text": [
      "[Succeeded / Failed / Skipped / Total] 333 / 14 / 148 / 495:  99%|██████████████████▊| 495/500 [11:07<00:06,  1.35s/it]textattack: Saving checkpoint under \"checkpoints\\1720181422035.ta.chkpt\" at 2024-07-05 20:10:22 after 495 attacks.\n",
      "[Succeeded / Failed / Skipped / Total] 333 / 14 / 149 / 496:  99%|██████████████████▊| 496/500 [11:07<00:05,  1.35s/it]"
     ]
    },
    {
     "name": "stdout",
     "output_type": "stream",
     "text": [
      "\n",
      "\n",
      "=============================================================================================================================\n",
      "=============================================================================================================================\n",
      "\n"
     ]
    },
    {
     "name": "stderr",
     "output_type": "stream",
     "text": [
      "[Succeeded / Failed / Skipped / Total] 337 / 14 / 149 / 500: 100%|███████████████████| 500/500 [11:12<00:00,  1.35s/it]textattack: Saving checkpoint under \"checkpoints\\1720181427078.ta.chkpt\" at 2024-07-05 20:10:27 after 500 attacks.\n",
      "[Succeeded / Failed / Skipped / Total] 337 / 14 / 149 / 500: 100%|███████████████████| 500/500 [11:12<00:00,  1.35s/it]"
     ]
    },
    {
     "name": "stdout",
     "output_type": "stream",
     "text": [
      "\n",
      "\n",
      "=============================================================================================================================\n",
      "=============================================================================================================================\n",
      "\n",
      "\n",
      "+-------------------------------+--------+\n",
      "| Attack Results                |        |\n",
      "+-------------------------------+--------+\n",
      "| Number of successful attacks: | 337    |\n",
      "| Number of failed attacks:     | 14     |\n",
      "| Number of skipped attacks:    | 149    |\n",
      "| Original accuracy:            | 70.2%  |\n",
      "| Accuracy under attack:        | 2.8%   |\n",
      "| Attack success rate:          | 96.01% |\n",
      "| Average perturbed word %:     | 13.47% |\n",
      "| Average num. words per input: | 18.4   |\n",
      "| Avg num queries:              | 76.29  |\n",
      "+-------------------------------+--------+\n"
     ]
    },
    {
     "name": "stderr",
     "output_type": "stream",
     "text": [
      "\n"
     ]
    }
   ],
   "source": [
    "runAttack(clip_model_wrapper_rf_mr, n_samples, 'attack_results_new/clipmrattackrf'+suffix, target_ds_mr)"
   ]
  },
  {
   "cell_type": "code",
   "execution_count": 30,
   "id": "e504697f-f05b-42bc-a947-145973d676e3",
   "metadata": {},
   "outputs": [
    {
     "name": "stderr",
     "output_type": "stream",
     "text": [
      "textattack: Unknown if model of class <class 'transformers.models.clip.modeling_clip.CLIPTextTransformer'> compatible with goal function <class 'textattack.goal_functions.classification.untargeted_classification.UntargetedClassification'>.\n",
      "textattack: Logging to CSV at path attack_results_new/clipmrattackknnsim05.csv\n"
     ]
    },
    {
     "name": "stdout",
     "output_type": "stream",
     "text": [
      "Attack(\n",
      "  (search_method): GreedyWordSwapWIR(\n",
      "    (wir_method):  delete\n",
      "  )\n",
      "  (goal_function):  UntargetedClassification\n",
      "  (transformation):  WordSwapEmbedding(\n",
      "    (max_candidates):  50\n",
      "    (embedding):  WordEmbedding\n",
      "  )\n",
      "  (constraints): \n",
      "    (0): WordEmbeddingDistance(\n",
      "        (embedding):  WordEmbedding\n",
      "        (min_cos_sim):  0.5\n",
      "        (cased):  False\n",
      "        (include_unknown_words):  True\n",
      "        (compare_against_original):  True\n",
      "      )\n",
      "    (1): PartOfSpeech(\n",
      "        (tagger_type):  nltk\n",
      "        (tagset):  universal\n",
      "        (allow_verb_noun_swap):  True\n",
      "        (compare_against_original):  True\n",
      "      )\n",
      "    (2): UniversalSentenceEncoder(\n",
      "        (metric):  angular\n",
      "        (threshold):  0.840845057\n",
      "        (window_size):  15\n",
      "        (skip_text_shorter_than_window):  True\n",
      "        (compare_against_original):  False\n",
      "      )\n",
      "    (3): RepeatModification\n",
      "    (4): StopwordModification\n",
      "    (5): InputColumnModification(\n",
      "        (matching_column_labels):  ['premise', 'hypothesis']\n",
      "        (columns_to_ignore):  {'premise'}\n",
      "      )\n",
      "  (is_black_box):  True\n",
      ") \n",
      "\n"
     ]
    },
    {
     "name": "stderr",
     "output_type": "stream",
     "text": [
      "[Succeeded / Failed / Skipped / Total] 4 / 1 / 0 / 5:   1%|▎                           | 5/500 [00:26<43:02,  5.22s/it]textattack: Saving checkpoint under \"checkpoints\\1720181453244.ta.chkpt\" at 2024-07-05 20:10:53 after 5 attacks.\n"
     ]
    },
    {
     "name": "stdout",
     "output_type": "stream",
     "text": [
      "\n",
      "\n",
      "=============================================================================================================================\n",
      "=============================================================================================================================\n",
      "\n"
     ]
    },
    {
     "name": "stderr",
     "output_type": "stream",
     "text": [
      "[Succeeded / Failed / Skipped / Total] 7 / 1 / 2 / 10:   2%|▌                         | 10/500 [00:29<24:07,  2.95s/it]textattack: Saving checkpoint under \"checkpoints\\1720181456694.ta.chkpt\" at 2024-07-05 20:10:56 after 10 attacks.\n"
     ]
    },
    {
     "name": "stdout",
     "output_type": "stream",
     "text": [
      "\n",
      "\n",
      "=============================================================================================================================\n",
      "=============================================================================================================================\n",
      "\n"
     ]
    },
    {
     "name": "stderr",
     "output_type": "stream",
     "text": [
      "[Succeeded / Failed / Skipped / Total] 11 / 1 / 3 / 15:   3%|▊                        | 15/500 [00:41<22:34,  2.79s/it]textattack: Saving checkpoint under \"checkpoints\\1720181469041.ta.chkpt\" at 2024-07-05 20:11:09 after 15 attacks.\n"
     ]
    },
    {
     "name": "stdout",
     "output_type": "stream",
     "text": [
      "\n",
      "\n",
      "=============================================================================================================================\n",
      "=============================================================================================================================\n",
      "\n"
     ]
    },
    {
     "name": "stderr",
     "output_type": "stream",
     "text": [
      "[Succeeded / Failed / Skipped / Total] 15 / 1 / 4 / 20:   4%|█                        | 20/500 [00:43<17:30,  2.19s/it]textattack: Saving checkpoint under \"checkpoints\\1720181470932.ta.chkpt\" at 2024-07-05 20:11:10 after 20 attacks.\n"
     ]
    },
    {
     "name": "stdout",
     "output_type": "stream",
     "text": [
      "\n",
      "\n",
      "=============================================================================================================================\n",
      "=============================================================================================================================\n",
      "\n"
     ]
    },
    {
     "name": "stderr",
     "output_type": "stream",
     "text": [
      "[Succeeded / Failed / Skipped / Total] 17 / 1 / 7 / 25:   5%|█▎                       | 25/500 [00:48<15:14,  1.93s/it]textattack: Saving checkpoint under \"checkpoints\\1720181475293.ta.chkpt\" at 2024-07-05 20:11:15 after 25 attacks.\n"
     ]
    },
    {
     "name": "stdout",
     "output_type": "stream",
     "text": [
      "\n",
      "\n",
      "=============================================================================================================================\n",
      "=============================================================================================================================\n",
      "\n"
     ]
    },
    {
     "name": "stderr",
     "output_type": "stream",
     "text": [
      "[Succeeded / Failed / Skipped / Total] 19 / 1 / 10 / 30:   6%|█▍                      | 30/500 [00:53<13:51,  1.77s/it]textattack: Saving checkpoint under \"checkpoints\\1720181480210.ta.chkpt\" at 2024-07-05 20:11:20 after 30 attacks.\n",
      "[Succeeded / Failed / Skipped / Total] 19 / 1 / 11 / 31:   6%|█▍                      | 31/500 [00:53<13:23,  1.71s/it]"
     ]
    },
    {
     "name": "stdout",
     "output_type": "stream",
     "text": [
      "\n",
      "\n",
      "=============================================================================================================================\n",
      "=============================================================================================================================\n",
      "\n"
     ]
    },
    {
     "name": "stderr",
     "output_type": "stream",
     "text": [
      "[Succeeded / Failed / Skipped / Total] 22 / 1 / 12 / 35:   7%|█▋                      | 35/500 [00:55<12:23,  1.60s/it]textattack: Saving checkpoint under \"checkpoints\\1720181483140.ta.chkpt\" at 2024-07-05 20:11:23 after 35 attacks.\n",
      "[Succeeded / Failed / Skipped / Total] 22 / 1 / 13 / 36:   7%|█▋                      | 36/500 [00:56<12:02,  1.56s/it]"
     ]
    },
    {
     "name": "stdout",
     "output_type": "stream",
     "text": [
      "\n",
      "\n",
      "=============================================================================================================================\n",
      "=============================================================================================================================\n",
      "\n"
     ]
    },
    {
     "name": "stderr",
     "output_type": "stream",
     "text": [
      "[Succeeded / Failed / Skipped / Total] 23 / 1 / 16 / 40:   8%|█▉                      | 40/500 [00:57<10:58,  1.43s/it]textattack: Saving checkpoint under \"checkpoints\\1720181484387.ta.chkpt\" at 2024-07-05 20:11:24 after 40 attacks.\n"
     ]
    },
    {
     "name": "stdout",
     "output_type": "stream",
     "text": [
      "\n",
      "\n",
      "=============================================================================================================================\n",
      "=============================================================================================================================\n",
      "\n"
     ]
    },
    {
     "name": "stderr",
     "output_type": "stream",
     "text": [
      "[Succeeded / Failed / Skipped / Total] 26 / 2 / 17 / 45:   9%|██▏                     | 45/500 [01:18<13:16,  1.75s/it]textattack: Saving checkpoint under \"checkpoints\\1720181505963.ta.chkpt\" at 2024-07-05 20:11:45 after 45 attacks.\n"
     ]
    },
    {
     "name": "stdout",
     "output_type": "stream",
     "text": [
      "\n",
      "\n",
      "=============================================================================================================================\n",
      "=============================================================================================================================\n",
      "\n"
     ]
    },
    {
     "name": "stderr",
     "output_type": "stream",
     "text": [
      "[Succeeded / Failed / Skipped / Total] 30 / 2 / 18 / 50:  10%|██▍                     | 50/500 [01:23<12:27,  1.66s/it]textattack: Saving checkpoint under \"checkpoints\\1720181510216.ta.chkpt\" at 2024-07-05 20:11:50 after 50 attacks.\n",
      "[Succeeded / Failed / Skipped / Total] 30 / 2 / 19 / 51:  10%|██▍                     | 51/500 [01:23<12:11,  1.63s/it]"
     ]
    },
    {
     "name": "stdout",
     "output_type": "stream",
     "text": [
      "\n",
      "\n",
      "=============================================================================================================================\n",
      "=============================================================================================================================\n",
      "\n"
     ]
    },
    {
     "name": "stderr",
     "output_type": "stream",
     "text": [
      "[Succeeded / Failed / Skipped / Total] 33 / 2 / 20 / 55:  11%|██▋                     | 55/500 [01:33<12:36,  1.70s/it]textattack: Saving checkpoint under \"checkpoints\\1720181520706.ta.chkpt\" at 2024-07-05 20:12:00 after 55 attacks.\n"
     ]
    },
    {
     "name": "stdout",
     "output_type": "stream",
     "text": [
      "\n",
      "\n",
      "=============================================================================================================================\n",
      "=============================================================================================================================\n",
      "\n"
     ]
    },
    {
     "name": "stderr",
     "output_type": "stream",
     "text": [
      "[Succeeded / Failed / Skipped / Total] 38 / 2 / 20 / 60:  12%|██▉                     | 60/500 [01:41<12:22,  1.69s/it]textattack: Saving checkpoint under \"checkpoints\\1720181528374.ta.chkpt\" at 2024-07-05 20:12:08 after 60 attacks.\n",
      "[Succeeded / Failed / Skipped / Total] 38 / 2 / 21 / 61:  12%|██▉                     | 61/500 [01:41<12:08,  1.66s/it]"
     ]
    },
    {
     "name": "stdout",
     "output_type": "stream",
     "text": [
      "\n",
      "\n",
      "=============================================================================================================================\n",
      "=============================================================================================================================\n",
      "\n"
     ]
    },
    {
     "name": "stderr",
     "output_type": "stream",
     "text": [
      "[Succeeded / Failed / Skipped / Total] 42 / 2 / 21 / 65:  13%|███                     | 65/500 [01:44<11:39,  1.61s/it]textattack: Saving checkpoint under \"checkpoints\\1720181531733.ta.chkpt\" at 2024-07-05 20:12:11 after 65 attacks.\n"
     ]
    },
    {
     "name": "stdout",
     "output_type": "stream",
     "text": [
      "\n",
      "\n",
      "=============================================================================================================================\n",
      "=============================================================================================================================\n",
      "\n"
     ]
    },
    {
     "name": "stderr",
     "output_type": "stream",
     "text": [
      "[Succeeded / Failed / Skipped / Total] 47 / 2 / 21 / 70:  14%|███▎                    | 70/500 [01:55<11:52,  1.66s/it]textattack: Saving checkpoint under \"checkpoints\\1720181543131.ta.chkpt\" at 2024-07-05 20:12:23 after 70 attacks.\n",
      "[Succeeded / Failed / Skipped / Total] 47 / 2 / 22 / 71:  14%|███▍                    | 71/500 [01:56<11:41,  1.63s/it]"
     ]
    },
    {
     "name": "stdout",
     "output_type": "stream",
     "text": [
      "\n",
      "\n",
      "=============================================================================================================================\n",
      "=============================================================================================================================\n",
      "\n"
     ]
    },
    {
     "name": "stderr",
     "output_type": "stream",
     "text": [
      "[Succeeded / Failed / Skipped / Total] 50 / 2 / 23 / 75:  15%|███▌                    | 75/500 [01:59<11:16,  1.59s/it]textattack: Saving checkpoint under \"checkpoints\\1720181546603.ta.chkpt\" at 2024-07-05 20:12:26 after 75 attacks.\n",
      "[Succeeded / Failed / Skipped / Total] 50 / 2 / 24 / 76:  15%|███▋                    | 76/500 [01:59<11:06,  1.57s/it]"
     ]
    },
    {
     "name": "stdout",
     "output_type": "stream",
     "text": [
      "\n",
      "\n",
      "=============================================================================================================================\n",
      "=============================================================================================================================\n",
      "\n"
     ]
    },
    {
     "name": "stderr",
     "output_type": "stream",
     "text": [
      "[Succeeded / Failed / Skipped / Total] 53 / 3 / 24 / 80:  16%|███▊                    | 80/500 [02:08<11:16,  1.61s/it]textattack: Saving checkpoint under \"checkpoints\\1720181555963.ta.chkpt\" at 2024-07-05 20:12:35 after 80 attacks.\n",
      "[Succeeded / Failed / Skipped / Total] 53 / 3 / 26 / 82:  16%|███▉                    | 82/500 [02:08<10:57,  1.57s/it]"
     ]
    },
    {
     "name": "stdout",
     "output_type": "stream",
     "text": [
      "\n",
      "\n",
      "=============================================================================================================================\n",
      "=============================================================================================================================\n",
      "\n"
     ]
    },
    {
     "name": "stderr",
     "output_type": "stream",
     "text": [
      "[Succeeded / Failed / Skipped / Total] 55 / 3 / 27 / 85:  17%|████                    | 85/500 [02:10<10:39,  1.54s/it]textattack: Saving checkpoint under \"checkpoints\\1720181558057.ta.chkpt\" at 2024-07-05 20:12:38 after 85 attacks.\n",
      "[Succeeded / Failed / Skipped / Total] 55 / 3 / 28 / 86:  17%|████▏                   | 86/500 [02:10<10:30,  1.52s/it]"
     ]
    },
    {
     "name": "stdout",
     "output_type": "stream",
     "text": [
      "\n",
      "\n",
      "=============================================================================================================================\n",
      "=============================================================================================================================\n",
      "\n"
     ]
    },
    {
     "name": "stderr",
     "output_type": "stream",
     "text": [
      "[Succeeded / Failed / Skipped / Total] 57 / 3 / 30 / 90:  18%|████▎                   | 90/500 [02:13<10:07,  1.48s/it]textattack: Saving checkpoint under \"checkpoints\\1720181560573.ta.chkpt\" at 2024-07-05 20:12:40 after 90 attacks.\n",
      "[Succeeded / Failed / Skipped / Total] 57 / 3 / 31 / 91:  18%|████▎                   | 91/500 [02:13<10:00,  1.47s/it]"
     ]
    },
    {
     "name": "stdout",
     "output_type": "stream",
     "text": [
      "\n",
      "\n",
      "=============================================================================================================================\n",
      "=============================================================================================================================\n",
      "\n"
     ]
    },
    {
     "name": "stderr",
     "output_type": "stream",
     "text": [
      "[Succeeded / Failed / Skipped / Total] 61 / 3 / 31 / 95:  19%|████▌                   | 95/500 [02:18<09:52,  1.46s/it]textattack: Saving checkpoint under \"checkpoints\\1720181566057.ta.chkpt\" at 2024-07-05 20:12:46 after 95 attacks.\n"
     ]
    },
    {
     "name": "stdout",
     "output_type": "stream",
     "text": [
      "\n",
      "\n",
      "=============================================================================================================================\n",
      "=============================================================================================================================\n",
      "\n"
     ]
    },
    {
     "name": "stderr",
     "output_type": "stream",
     "text": [
      "[Succeeded / Failed / Skipped / Total] 66 / 3 / 31 / 100:  20%|████▍                 | 100/500 [02:22<09:30,  1.43s/it]textattack: Saving checkpoint under \"checkpoints\\1720181569698.ta.chkpt\" at 2024-07-05 20:12:49 after 100 attacks.\n"
     ]
    },
    {
     "name": "stdout",
     "output_type": "stream",
     "text": [
      "\n",
      "\n",
      "=============================================================================================================================\n",
      "=============================================================================================================================\n",
      "\n"
     ]
    },
    {
     "name": "stderr",
     "output_type": "stream",
     "text": [
      "[Succeeded / Failed / Skipped / Total] 69 / 4 / 32 / 105:  21%|████▌                 | 105/500 [02:35<09:46,  1.48s/it]textattack: Saving checkpoint under \"checkpoints\\1720181583043.ta.chkpt\" at 2024-07-05 20:13:03 after 105 attacks.\n",
      "[Succeeded / Failed / Skipped / Total] 69 / 4 / 33 / 106:  21%|████▋                 | 106/500 [02:35<09:39,  1.47s/it]"
     ]
    },
    {
     "name": "stdout",
     "output_type": "stream",
     "text": [
      "\n",
      "\n",
      "=============================================================================================================================\n",
      "=============================================================================================================================\n",
      "\n"
     ]
    },
    {
     "name": "stderr",
     "output_type": "stream",
     "text": [
      "[Succeeded / Failed / Skipped / Total] 70 / 4 / 36 / 110:  22%|████▊                 | 110/500 [02:37<09:19,  1.43s/it]textattack: Saving checkpoint under \"checkpoints\\1720181584950.ta.chkpt\" at 2024-07-05 20:13:04 after 110 attacks.\n",
      "[Succeeded / Failed / Skipped / Total] 70 / 4 / 37 / 111:  22%|████▉                 | 111/500 [02:37<09:13,  1.42s/it]"
     ]
    },
    {
     "name": "stdout",
     "output_type": "stream",
     "text": [
      "\n",
      "\n",
      "=============================================================================================================================\n",
      "=============================================================================================================================\n",
      "\n"
     ]
    },
    {
     "name": "stderr",
     "output_type": "stream",
     "text": [
      "[Succeeded / Failed / Skipped / Total] 73 / 4 / 38 / 115:  23%|█████                 | 115/500 [02:44<09:10,  1.43s/it]textattack: Saving checkpoint under \"checkpoints\\1720181591653.ta.chkpt\" at 2024-07-05 20:13:11 after 115 attacks.\n"
     ]
    },
    {
     "name": "stdout",
     "output_type": "stream",
     "text": [
      "\n",
      "\n",
      "=============================================================================================================================\n",
      "=============================================================================================================================\n",
      "\n"
     ]
    },
    {
     "name": "stderr",
     "output_type": "stream",
     "text": [
      "[Succeeded / Failed / Skipped / Total] 76 / 4 / 40 / 120:  24%|█████▎                | 120/500 [02:48<08:53,  1.40s/it]textattack: Saving checkpoint under \"checkpoints\\1720181595747.ta.chkpt\" at 2024-07-05 20:13:15 after 120 attacks.\n",
      "[Succeeded / Failed / Skipped / Total] 76 / 4 / 42 / 122:  24%|█████▎                | 122/500 [02:48<08:42,  1.38s/it]"
     ]
    },
    {
     "name": "stdout",
     "output_type": "stream",
     "text": [
      "\n",
      "\n",
      "=============================================================================================================================\n",
      "=============================================================================================================================\n",
      "\n"
     ]
    },
    {
     "name": "stderr",
     "output_type": "stream",
     "text": [
      "[Succeeded / Failed / Skipped / Total] 78 / 4 / 43 / 125:  25%|█████▌                | 125/500 [02:50<08:30,  1.36s/it]textattack: Saving checkpoint under \"checkpoints\\1720181597482.ta.chkpt\" at 2024-07-05 20:13:17 after 125 attacks.\n"
     ]
    },
    {
     "name": "stdout",
     "output_type": "stream",
     "text": [
      "\n",
      "\n",
      "=============================================================================================================================\n",
      "=============================================================================================================================\n",
      "\n"
     ]
    },
    {
     "name": "stderr",
     "output_type": "stream",
     "text": [
      "[Succeeded / Failed / Skipped / Total] 81 / 5 / 44 / 130:  26%|█████▋                | 130/500 [02:55<08:20,  1.35s/it]textattack: Saving checkpoint under \"checkpoints\\1720181603015.ta.chkpt\" at 2024-07-05 20:13:23 after 130 attacks.\n",
      "[Succeeded / Failed / Skipped / Total] 81 / 5 / 45 / 131:  26%|█████▊                | 131/500 [02:55<08:15,  1.34s/it]"
     ]
    },
    {
     "name": "stdout",
     "output_type": "stream",
     "text": [
      "\n",
      "\n",
      "=============================================================================================================================\n",
      "=============================================================================================================================\n",
      "\n"
     ]
    },
    {
     "name": "stderr",
     "output_type": "stream",
     "text": [
      "[Succeeded / Failed / Skipped / Total] 84 / 5 / 46 / 135:  27%|█████▉                | 135/500 [03:00<08:06,  1.33s/it]textattack: Saving checkpoint under \"checkpoints\\1720181607171.ta.chkpt\" at 2024-07-05 20:13:27 after 135 attacks.\n"
     ]
    },
    {
     "name": "stdout",
     "output_type": "stream",
     "text": [
      "\n",
      "\n",
      "=============================================================================================================================\n",
      "=============================================================================================================================\n",
      "\n"
     ]
    },
    {
     "name": "stderr",
     "output_type": "stream",
     "text": [
      "[Succeeded / Failed / Skipped / Total] 86 / 5 / 49 / 140:  28%|██████▏               | 140/500 [03:12<08:15,  1.38s/it]textattack: Saving checkpoint under \"checkpoints\\1720181619657.ta.chkpt\" at 2024-07-05 20:13:39 after 140 attacks.\n",
      "[Succeeded / Failed / Skipped / Total] 86 / 5 / 51 / 142:  28%|██████▏               | 142/500 [03:12<08:05,  1.36s/it]"
     ]
    },
    {
     "name": "stdout",
     "output_type": "stream",
     "text": [
      "\n",
      "\n",
      "=============================================================================================================================\n",
      "=============================================================================================================================\n",
      "\n"
     ]
    },
    {
     "name": "stderr",
     "output_type": "stream",
     "text": [
      "[Succeeded / Failed / Skipped / Total] 87 / 5 / 53 / 145:  29%|██████▍               | 145/500 [03:13<07:53,  1.33s/it]textattack: Saving checkpoint under \"checkpoints\\1720181620532.ta.chkpt\" at 2024-07-05 20:13:40 after 145 attacks.\n",
      "[Succeeded / Failed / Skipped / Total] 87 / 5 / 54 / 146:  29%|██████▍               | 146/500 [03:13<07:49,  1.32s/it]"
     ]
    },
    {
     "name": "stdout",
     "output_type": "stream",
     "text": [
      "\n",
      "\n",
      "=============================================================================================================================\n",
      "=============================================================================================================================\n",
      "\n"
     ]
    },
    {
     "name": "stderr",
     "output_type": "stream",
     "text": [
      "[Succeeded / Failed / Skipped / Total] 90 / 5 / 55 / 150:  30%|██████▌               | 150/500 [03:18<07:43,  1.33s/it]textattack: Saving checkpoint under \"checkpoints\\1720181626001.ta.chkpt\" at 2024-07-05 20:13:46 after 150 attacks.\n"
     ]
    },
    {
     "name": "stdout",
     "output_type": "stream",
     "text": [
      "\n",
      "\n",
      "=============================================================================================================================\n",
      "=============================================================================================================================\n",
      "\n"
     ]
    },
    {
     "name": "stderr",
     "output_type": "stream",
     "text": [
      "[Succeeded / Failed / Skipped / Total] 94 / 6 / 55 / 155:  31%|██████▊               | 155/500 [03:23<07:32,  1.31s/it]textattack: Saving checkpoint under \"checkpoints\\1720181630376.ta.chkpt\" at 2024-07-05 20:13:50 after 155 attacks.\n"
     ]
    },
    {
     "name": "stdout",
     "output_type": "stream",
     "text": [
      "\n",
      "\n",
      "=============================================================================================================================\n",
      "=============================================================================================================================\n",
      "\n"
     ]
    },
    {
     "name": "stderr",
     "output_type": "stream",
     "text": [
      "[Succeeded / Failed / Skipped / Total] 95 / 7 / 58 / 160:  32%|███████               | 160/500 [03:41<07:50,  1.38s/it]textattack: Saving checkpoint under \"checkpoints\\1720181648643.ta.chkpt\" at 2024-07-05 20:14:08 after 160 attacks.\n",
      "[Succeeded / Failed / Skipped / Total] 95 / 7 / 59 / 161:  32%|███████               | 161/500 [03:41<07:46,  1.38s/it]"
     ]
    },
    {
     "name": "stdout",
     "output_type": "stream",
     "text": [
      "\n",
      "\n",
      "=============================================================================================================================\n",
      "=============================================================================================================================\n",
      "\n"
     ]
    },
    {
     "name": "stderr",
     "output_type": "stream",
     "text": [
      "[Succeeded / Failed / Skipped / Total] 98 / 7 / 60 / 165:  33%|███████▎              | 165/500 [03:45<07:38,  1.37s/it]textattack: Saving checkpoint under \"checkpoints\\1720181652956.ta.chkpt\" at 2024-07-05 20:14:12 after 165 attacks.\n"
     ]
    },
    {
     "name": "stdout",
     "output_type": "stream",
     "text": [
      "\n",
      "\n",
      "=============================================================================================================================\n",
      "=============================================================================================================================\n",
      "\n"
     ]
    },
    {
     "name": "stderr",
     "output_type": "stream",
     "text": [
      "[Succeeded / Failed / Skipped / Total] 99 / 9 / 62 / 170:  34%|███████▍              | 170/500 [04:04<07:54,  1.44s/it]textattack: Saving checkpoint under \"checkpoints\\1720181671795.ta.chkpt\" at 2024-07-05 20:14:31 after 170 attacks.\n"
     ]
    },
    {
     "name": "stdout",
     "output_type": "stream",
     "text": [
      "\n",
      "\n",
      "=============================================================================================================================\n",
      "=============================================================================================================================\n",
      "\n"
     ]
    },
    {
     "name": "stderr",
     "output_type": "stream",
     "text": [
      "[Succeeded / Failed / Skipped / Total] 101 / 11 / 63 / 175:  35%|███████             | 175/500 [04:27<08:16,  1.53s/it]textattack: Saving checkpoint under \"checkpoints\\1720181694532.ta.chkpt\" at 2024-07-05 20:14:54 after 175 attacks.\n",
      "[Succeeded / Failed / Skipped / Total] 101 / 11 / 64 / 176:  35%|███████             | 176/500 [04:27<08:12,  1.52s/it]"
     ]
    },
    {
     "name": "stdout",
     "output_type": "stream",
     "text": [
      "\n",
      "\n",
      "=============================================================================================================================\n",
      "=============================================================================================================================\n",
      "\n"
     ]
    },
    {
     "name": "stderr",
     "output_type": "stream",
     "text": [
      "[Succeeded / Failed / Skipped / Total] 104 / 11 / 65 / 180:  36%|███████▏            | 180/500 [04:32<08:03,  1.51s/it]textattack: Saving checkpoint under \"checkpoints\\1720181699314.ta.chkpt\" at 2024-07-05 20:14:59 after 180 attacks.\n"
     ]
    },
    {
     "name": "stdout",
     "output_type": "stream",
     "text": [
      "\n",
      "\n",
      "=============================================================================================================================\n",
      "=============================================================================================================================\n",
      "\n"
     ]
    },
    {
     "name": "stderr",
     "output_type": "stream",
     "text": [
      "[Succeeded / Failed / Skipped / Total] 108 / 12 / 65 / 185:  37%|███████▍            | 185/500 [04:38<07:55,  1.51s/it]textattack: Saving checkpoint under \"checkpoints\\1720181706143.ta.chkpt\" at 2024-07-05 20:15:06 after 185 attacks.\n",
      "[Succeeded / Failed / Skipped / Total] 108 / 12 / 66 / 186:  37%|███████▍            | 186/500 [04:39<07:51,  1.50s/it]"
     ]
    },
    {
     "name": "stdout",
     "output_type": "stream",
     "text": [
      "\n",
      "\n",
      "=============================================================================================================================\n",
      "=============================================================================================================================\n",
      "\n"
     ]
    },
    {
     "name": "stderr",
     "output_type": "stream",
     "text": [
      "[Succeeded / Failed / Skipped / Total] 111 / 12 / 67 / 190:  38%|███████▌            | 190/500 [04:44<07:43,  1.50s/it]textattack: Saving checkpoint under \"checkpoints\\1720181711284.ta.chkpt\" at 2024-07-05 20:15:11 after 190 attacks.\n"
     ]
    },
    {
     "name": "stdout",
     "output_type": "stream",
     "text": [
      "\n",
      "\n",
      "=============================================================================================================================\n",
      "=============================================================================================================================\n",
      "\n"
     ]
    },
    {
     "name": "stderr",
     "output_type": "stream",
     "text": [
      "[Succeeded / Failed / Skipped / Total] 113 / 13 / 69 / 195:  39%|███████▊            | 195/500 [04:49<07:32,  1.49s/it]textattack: Saving checkpoint under \"checkpoints\\1720181716737.ta.chkpt\" at 2024-07-05 20:15:16 after 195 attacks.\n"
     ]
    },
    {
     "name": "stdout",
     "output_type": "stream",
     "text": [
      "\n",
      "\n",
      "=============================================================================================================================\n",
      "=============================================================================================================================\n",
      "\n"
     ]
    },
    {
     "name": "stderr",
     "output_type": "stream",
     "text": [
      "[Succeeded / Failed / Skipped / Total] 116 / 14 / 70 / 200:  40%|████████            | 200/500 [05:11<07:46,  1.56s/it]textattack: Saving checkpoint under \"checkpoints\\1720181738193.ta.chkpt\" at 2024-07-05 20:15:38 after 200 attacks.\n",
      "[Succeeded / Failed / Skipped / Total] 116 / 14 / 71 / 201:  40%|████████            | 201/500 [05:11<07:42,  1.55s/it]"
     ]
    },
    {
     "name": "stdout",
     "output_type": "stream",
     "text": [
      "\n",
      "\n",
      "=============================================================================================================================\n",
      "=============================================================================================================================\n",
      "\n"
     ]
    },
    {
     "name": "stderr",
     "output_type": "stream",
     "text": [
      "[Succeeded / Failed / Skipped / Total] 117 / 15 / 73 / 205:  41%|████████▏           | 205/500 [05:16<07:35,  1.54s/it]textattack: Saving checkpoint under \"checkpoints\\1720181743474.ta.chkpt\" at 2024-07-05 20:15:43 after 205 attacks.\n"
     ]
    },
    {
     "name": "stdout",
     "output_type": "stream",
     "text": [
      "\n",
      "\n",
      "=============================================================================================================================\n",
      "=============================================================================================================================\n",
      "\n"
     ]
    },
    {
     "name": "stderr",
     "output_type": "stream",
     "text": [
      "[Succeeded / Failed / Skipped / Total] 121 / 15 / 74 / 210:  42%|████████▍           | 210/500 [05:20<07:23,  1.53s/it]textattack: Saving checkpoint under \"checkpoints\\1720181748006.ta.chkpt\" at 2024-07-05 20:15:48 after 210 attacks.\n"
     ]
    },
    {
     "name": "stdout",
     "output_type": "stream",
     "text": [
      "\n",
      "\n",
      "=============================================================================================================================\n",
      "=============================================================================================================================\n",
      "\n"
     ]
    },
    {
     "name": "stderr",
     "output_type": "stream",
     "text": [
      "[Succeeded / Failed / Skipped / Total] 125 / 15 / 75 / 215:  43%|████████▌           | 215/500 [05:26<07:13,  1.52s/it]textattack: Saving checkpoint under \"checkpoints\\1720181753929.ta.chkpt\" at 2024-07-05 20:15:53 after 215 attacks.\n"
     ]
    },
    {
     "name": "stdout",
     "output_type": "stream",
     "text": [
      "\n",
      "\n",
      "=============================================================================================================================\n",
      "=============================================================================================================================\n",
      "\n"
     ]
    },
    {
     "name": "stderr",
     "output_type": "stream",
     "text": [
      "[Succeeded / Failed / Skipped / Total] 129 / 15 / 76 / 220:  44%|████████▊           | 220/500 [05:30<07:00,  1.50s/it]textattack: Saving checkpoint under \"checkpoints\\1720181757913.ta.chkpt\" at 2024-07-05 20:15:57 after 220 attacks.\n"
     ]
    },
    {
     "name": "stdout",
     "output_type": "stream",
     "text": [
      "\n",
      "\n",
      "=============================================================================================================================\n",
      "=============================================================================================================================\n",
      "\n"
     ]
    },
    {
     "name": "stderr",
     "output_type": "stream",
     "text": [
      "[Succeeded / Failed / Skipped / Total] 133 / 15 / 77 / 225:  45%|█████████           | 225/500 [05:40<06:56,  1.51s/it]textattack: Saving checkpoint under \"checkpoints\\1720181767523.ta.chkpt\" at 2024-07-05 20:16:07 after 225 attacks.\n"
     ]
    },
    {
     "name": "stdout",
     "output_type": "stream",
     "text": [
      "\n",
      "\n",
      "=============================================================================================================================\n",
      "=============================================================================================================================\n",
      "\n"
     ]
    },
    {
     "name": "stderr",
     "output_type": "stream",
     "text": [
      "[Succeeded / Failed / Skipped / Total] 136 / 15 / 79 / 230:  46%|█████████▏          | 230/500 [05:42<06:41,  1.49s/it]textattack: Saving checkpoint under \"checkpoints\\1720181769274.ta.chkpt\" at 2024-07-05 20:16:09 after 230 attacks.\n"
     ]
    },
    {
     "name": "stdout",
     "output_type": "stream",
     "text": [
      "\n",
      "\n",
      "=============================================================================================================================\n",
      "=============================================================================================================================\n",
      "\n"
     ]
    },
    {
     "name": "stderr",
     "output_type": "stream",
     "text": [
      "[Succeeded / Failed / Skipped / Total] 140 / 15 / 80 / 235:  47%|█████████▍          | 235/500 [05:45<06:30,  1.47s/it]textattack: Saving checkpoint under \"checkpoints\\1720181773149.ta.chkpt\" at 2024-07-05 20:16:13 after 235 attacks.\n"
     ]
    },
    {
     "name": "stdout",
     "output_type": "stream",
     "text": [
      "\n",
      "\n",
      "=============================================================================================================================\n",
      "=============================================================================================================================\n",
      "\n"
     ]
    },
    {
     "name": "stderr",
     "output_type": "stream",
     "text": [
      "[Succeeded / Failed / Skipped / Total] 144 / 16 / 80 / 240:  48%|█████████▌          | 240/500 [05:50<06:20,  1.46s/it]textattack: Saving checkpoint under \"checkpoints\\1720181778056.ta.chkpt\" at 2024-07-05 20:16:18 after 240 attacks.\n",
      "[Succeeded / Failed / Skipped / Total] 144 / 16 / 81 / 241:  48%|█████████▋          | 241/500 [05:50<06:17,  1.46s/it]"
     ]
    },
    {
     "name": "stdout",
     "output_type": "stream",
     "text": [
      "\n",
      "\n",
      "=============================================================================================================================\n",
      "=============================================================================================================================\n",
      "\n"
     ]
    },
    {
     "name": "stderr",
     "output_type": "stream",
     "text": [
      "[Succeeded / Failed / Skipped / Total] 147 / 16 / 82 / 245:  49%|█████████▊          | 245/500 [05:54<06:08,  1.45s/it]textattack: Saving checkpoint under \"checkpoints\\1720181781275.ta.chkpt\" at 2024-07-05 20:16:21 after 245 attacks.\n"
     ]
    },
    {
     "name": "stdout",
     "output_type": "stream",
     "text": [
      "\n",
      "\n",
      "=============================================================================================================================\n",
      "=============================================================================================================================\n",
      "\n"
     ]
    },
    {
     "name": "stderr",
     "output_type": "stream",
     "text": [
      "[Succeeded / Failed / Skipped / Total] 149 / 16 / 85 / 250:  50%|██████████          | 250/500 [05:55<05:55,  1.42s/it]textattack: Saving checkpoint under \"checkpoints\\1720181782712.ta.chkpt\" at 2024-07-05 20:16:22 after 250 attacks.\n",
      "[Succeeded / Failed / Skipped / Total] 149 / 16 / 86 / 251:  50%|██████████          | 251/500 [05:55<05:52,  1.42s/it]"
     ]
    },
    {
     "name": "stdout",
     "output_type": "stream",
     "text": [
      "\n",
      "\n",
      "=============================================================================================================================\n",
      "=============================================================================================================================\n",
      "\n"
     ]
    },
    {
     "name": "stderr",
     "output_type": "stream",
     "text": [
      "[Succeeded / Failed / Skipped / Total] 152 / 16 / 87 / 255:  51%|██████████▏         | 255/500 [05:59<05:45,  1.41s/it]textattack: Saving checkpoint under \"checkpoints\\1720181786572.ta.chkpt\" at 2024-07-05 20:16:26 after 255 attacks.\n",
      "[Succeeded / Failed / Skipped / Total] 152 / 16 / 88 / 256:  51%|██████████▏         | 256/500 [05:59<05:42,  1.40s/it]"
     ]
    },
    {
     "name": "stdout",
     "output_type": "stream",
     "text": [
      "\n",
      "\n",
      "=============================================================================================================================\n",
      "=============================================================================================================================\n",
      "\n"
     ]
    },
    {
     "name": "stderr",
     "output_type": "stream",
     "text": [
      "[Succeeded / Failed / Skipped / Total] 156 / 16 / 88 / 260:  52%|██████████▍         | 260/500 [06:04<05:36,  1.40s/it]textattack: Saving checkpoint under \"checkpoints\\1720181791385.ta.chkpt\" at 2024-07-05 20:16:31 after 260 attacks.\n"
     ]
    },
    {
     "name": "stdout",
     "output_type": "stream",
     "text": [
      "\n",
      "\n",
      "=============================================================================================================================\n",
      "=============================================================================================================================\n",
      "\n"
     ]
    },
    {
     "name": "stderr",
     "output_type": "stream",
     "text": [
      "[Succeeded / Failed / Skipped / Total] 161 / 16 / 88 / 265:  53%|██████████▌         | 265/500 [06:09<05:28,  1.40s/it]textattack: Saving checkpoint under \"checkpoints\\1720181797073.ta.chkpt\" at 2024-07-05 20:16:37 after 265 attacks.\n"
     ]
    },
    {
     "name": "stdout",
     "output_type": "stream",
     "text": [
      "\n",
      "\n",
      "=============================================================================================================================\n",
      "=============================================================================================================================\n",
      "\n"
     ]
    },
    {
     "name": "stderr",
     "output_type": "stream",
     "text": [
      "[Succeeded / Failed / Skipped / Total] 164 / 16 / 90 / 270:  54%|██████████▊         | 270/500 [06:29<05:32,  1.44s/it]textattack: Saving checkpoint under \"checkpoints\\1720181816934.ta.chkpt\" at 2024-07-05 20:16:56 after 270 attacks.\n",
      "[Succeeded / Failed / Skipped / Total] 164 / 16 / 91 / 271:  54%|██████████▊         | 271/500 [06:29<05:29,  1.44s/it]"
     ]
    },
    {
     "name": "stdout",
     "output_type": "stream",
     "text": [
      "\n",
      "\n",
      "=============================================================================================================================\n",
      "=============================================================================================================================\n",
      "\n"
     ]
    },
    {
     "name": "stderr",
     "output_type": "stream",
     "text": [
      "[Succeeded / Failed / Skipped / Total] 168 / 16 / 91 / 275:  55%|███████████         | 275/500 [06:35<05:23,  1.44s/it]textattack: Saving checkpoint under \"checkpoints\\1720181822747.ta.chkpt\" at 2024-07-05 20:17:02 after 275 attacks.\n"
     ]
    },
    {
     "name": "stdout",
     "output_type": "stream",
     "text": [
      "\n",
      "\n",
      "=============================================================================================================================\n",
      "=============================================================================================================================\n",
      "\n"
     ]
    },
    {
     "name": "stderr",
     "output_type": "stream",
     "text": [
      "[Succeeded / Failed / Skipped / Total] 172 / 16 / 92 / 280:  56%|███████████▏        | 280/500 [06:38<05:13,  1.42s/it]textattack: Saving checkpoint under \"checkpoints\\1720181826138.ta.chkpt\" at 2024-07-05 20:17:06 after 280 attacks.\n"
     ]
    },
    {
     "name": "stdout",
     "output_type": "stream",
     "text": [
      "\n",
      "\n",
      "=============================================================================================================================\n",
      "=============================================================================================================================\n",
      "\n"
     ]
    },
    {
     "name": "stderr",
     "output_type": "stream",
     "text": [
      "[Succeeded / Failed / Skipped / Total] 173 / 17 / 95 / 285:  57%|███████████▍        | 285/500 [06:43<05:04,  1.42s/it]textattack: Saving checkpoint under \"checkpoints\\1720181831138.ta.chkpt\" at 2024-07-05 20:17:11 after 285 attacks.\n"
     ]
    },
    {
     "name": "stdout",
     "output_type": "stream",
     "text": [
      "\n",
      "\n",
      "=============================================================================================================================\n",
      "=============================================================================================================================\n",
      "\n"
     ]
    },
    {
     "name": "stderr",
     "output_type": "stream",
     "text": [
      "[Succeeded / Failed / Skipped / Total] 178 / 17 / 95 / 290:  58%|███████████▌        | 290/500 [06:48<04:55,  1.41s/it]textattack: Saving checkpoint under \"checkpoints\\1720181835811.ta.chkpt\" at 2024-07-05 20:17:15 after 290 attacks.\n",
      "[Succeeded / Failed / Skipped / Total] 178 / 17 / 97 / 292:  58%|███████████▋        | 292/500 [06:48<04:51,  1.40s/it]"
     ]
    },
    {
     "name": "stdout",
     "output_type": "stream",
     "text": [
      "\n",
      "\n",
      "=============================================================================================================================\n",
      "=============================================================================================================================\n",
      "\n"
     ]
    },
    {
     "name": "stderr",
     "output_type": "stream",
     "text": [
      "[Succeeded / Failed / Skipped / Total] 180 / 17 / 98 / 295:  59%|███████████▊        | 295/500 [06:50<04:45,  1.39s/it]textattack: Saving checkpoint under \"checkpoints\\1720181837764.ta.chkpt\" at 2024-07-05 20:17:17 after 295 attacks.\n",
      "[Succeeded / Failed / Skipped / Total] 180 / 17 / 99 / 296:  59%|███████████▊        | 296/500 [06:50<04:43,  1.39s/it]"
     ]
    },
    {
     "name": "stdout",
     "output_type": "stream",
     "text": [
      "\n",
      "\n",
      "=============================================================================================================================\n",
      "=============================================================================================================================\n",
      "\n"
     ]
    },
    {
     "name": "stderr",
     "output_type": "stream",
     "text": [
      "[Succeeded / Failed / Skipped / Total] 184 / 17 / 99 / 300:  60%|████████████        | 300/500 [06:53<04:35,  1.38s/it]textattack: Saving checkpoint under \"checkpoints\\1720181840452.ta.chkpt\" at 2024-07-05 20:17:20 after 300 attacks.\n"
     ]
    },
    {
     "name": "stdout",
     "output_type": "stream",
     "text": [
      "\n",
      "\n",
      "=============================================================================================================================\n",
      "=============================================================================================================================\n",
      "\n"
     ]
    },
    {
     "name": "stderr",
     "output_type": "stream",
     "text": [
      "[Succeeded / Failed / Skipped / Total] 188 / 17 / 100 / 305:  61%|███████████▌       | 305/500 [06:59<04:27,  1.37s/it]textattack: Saving checkpoint under \"checkpoints\\1720181846327.ta.chkpt\" at 2024-07-05 20:17:26 after 305 attacks.\n"
     ]
    },
    {
     "name": "stdout",
     "output_type": "stream",
     "text": [
      "\n",
      "\n",
      "=============================================================================================================================\n",
      "=============================================================================================================================\n",
      "\n"
     ]
    },
    {
     "name": "stderr",
     "output_type": "stream",
     "text": [
      "[Succeeded / Failed / Skipped / Total] 193 / 17 / 100 / 310:  62%|███████████▊       | 310/500 [07:03<04:19,  1.37s/it]textattack: Saving checkpoint under \"checkpoints\\1720181850327.ta.chkpt\" at 2024-07-05 20:17:30 after 310 attacks.\n"
     ]
    },
    {
     "name": "stdout",
     "output_type": "stream",
     "text": [
      "\n",
      "\n",
      "=============================================================================================================================\n",
      "=============================================================================================================================\n",
      "\n"
     ]
    },
    {
     "name": "stderr",
     "output_type": "stream",
     "text": [
      "[Succeeded / Failed / Skipped / Total] 197 / 17 / 101 / 315:  63%|███████████▉       | 315/500 [07:08<04:11,  1.36s/it]textattack: Saving checkpoint under \"checkpoints\\1720181856031.ta.chkpt\" at 2024-07-05 20:17:36 after 315 attacks.\n"
     ]
    },
    {
     "name": "stdout",
     "output_type": "stream",
     "text": [
      "\n",
      "\n",
      "=============================================================================================================================\n",
      "=============================================================================================================================\n",
      "\n"
     ]
    },
    {
     "name": "stderr",
     "output_type": "stream",
     "text": [
      "[Succeeded / Failed / Skipped / Total] 202 / 17 / 101 / 320:  64%|████████████▏      | 320/500 [07:20<04:07,  1.38s/it]textattack: Saving checkpoint under \"checkpoints\\1720181867204.ta.chkpt\" at 2024-07-05 20:17:47 after 320 attacks.\n"
     ]
    },
    {
     "name": "stdout",
     "output_type": "stream",
     "text": [
      "\n",
      "\n",
      "=============================================================================================================================\n",
      "=============================================================================================================================\n",
      "\n"
     ]
    },
    {
     "name": "stderr",
     "output_type": "stream",
     "text": [
      "[Succeeded / Failed / Skipped / Total] 206 / 17 / 102 / 325:  65%|████████████▎      | 325/500 [07:26<04:00,  1.37s/it]textattack: Saving checkpoint under \"checkpoints\\1720181873814.ta.chkpt\" at 2024-07-05 20:17:53 after 325 attacks.\n",
      "[Succeeded / Failed / Skipped / Total] 206 / 17 / 103 / 326:  65%|████████████▍      | 326/500 [07:26<03:58,  1.37s/it]"
     ]
    },
    {
     "name": "stdout",
     "output_type": "stream",
     "text": [
      "\n",
      "\n",
      "=============================================================================================================================\n",
      "=============================================================================================================================\n",
      "\n"
     ]
    },
    {
     "name": "stderr",
     "output_type": "stream",
     "text": [
      "[Succeeded / Failed / Skipped / Total] 209 / 17 / 104 / 330:  66%|████████████▌      | 330/500 [07:29<03:51,  1.36s/it]textattack: Saving checkpoint under \"checkpoints\\1720181877002.ta.chkpt\" at 2024-07-05 20:17:57 after 330 attacks.\n"
     ]
    },
    {
     "name": "stdout",
     "output_type": "stream",
     "text": [
      "\n",
      "\n",
      "=============================================================================================================================\n",
      "=============================================================================================================================\n",
      "\n"
     ]
    },
    {
     "name": "stderr",
     "output_type": "stream",
     "text": [
      "[Succeeded / Failed / Skipped / Total] 214 / 17 / 104 / 335:  67%|████████████▋      | 335/500 [07:37<03:45,  1.36s/it]textattack: Saving checkpoint under \"checkpoints\\1720181884362.ta.chkpt\" at 2024-07-05 20:18:04 after 335 attacks.\n"
     ]
    },
    {
     "name": "stdout",
     "output_type": "stream",
     "text": [
      "\n",
      "\n",
      "=============================================================================================================================\n",
      "=============================================================================================================================\n",
      "\n"
     ]
    },
    {
     "name": "stderr",
     "output_type": "stream",
     "text": [
      "[Succeeded / Failed / Skipped / Total] 217 / 17 / 106 / 340:  68%|████████████▉      | 340/500 [07:39<03:36,  1.35s/it]textattack: Saving checkpoint under \"checkpoints\\1720181887019.ta.chkpt\" at 2024-07-05 20:18:07 after 340 attacks.\n",
      "[Succeeded / Failed / Skipped / Total] 217 / 17 / 107 / 341:  68%|████████████▉      | 341/500 [07:39<03:34,  1.35s/it]"
     ]
    },
    {
     "name": "stdout",
     "output_type": "stream",
     "text": [
      "\n",
      "\n",
      "=============================================================================================================================\n",
      "=============================================================================================================================\n",
      "\n"
     ]
    },
    {
     "name": "stderr",
     "output_type": "stream",
     "text": [
      "[Succeeded / Failed / Skipped / Total] 220 / 17 / 108 / 345:  69%|█████████████      | 345/500 [07:44<03:28,  1.35s/it]textattack: Saving checkpoint under \"checkpoints\\1720181891785.ta.chkpt\" at 2024-07-05 20:18:11 after 345 attacks.\n"
     ]
    },
    {
     "name": "stdout",
     "output_type": "stream",
     "text": [
      "\n",
      "\n",
      "=============================================================================================================================\n",
      "=============================================================================================================================\n",
      "\n"
     ]
    },
    {
     "name": "stderr",
     "output_type": "stream",
     "text": [
      "[Succeeded / Failed / Skipped / Total] 225 / 17 / 108 / 350:  70%|█████████████▎     | 350/500 [07:49<03:21,  1.34s/it]textattack: Saving checkpoint under \"checkpoints\\1720181896441.ta.chkpt\" at 2024-07-05 20:18:16 after 350 attacks.\n"
     ]
    },
    {
     "name": "stdout",
     "output_type": "stream",
     "text": [
      "\n",
      "\n",
      "=============================================================================================================================\n",
      "=============================================================================================================================\n",
      "\n"
     ]
    },
    {
     "name": "stderr",
     "output_type": "stream",
     "text": [
      "[Succeeded / Failed / Skipped / Total] 230 / 17 / 108 / 355:  71%|█████████████▍     | 355/500 [07:54<03:13,  1.34s/it]textattack: Saving checkpoint under \"checkpoints\\1720181902082.ta.chkpt\" at 2024-07-05 20:18:22 after 355 attacks.\n"
     ]
    },
    {
     "name": "stdout",
     "output_type": "stream",
     "text": [
      "\n",
      "\n",
      "=============================================================================================================================\n",
      "=============================================================================================================================\n",
      "\n"
     ]
    },
    {
     "name": "stderr",
     "output_type": "stream",
     "text": [
      "[Succeeded / Failed / Skipped / Total] 233 / 17 / 110 / 360:  72%|█████████████▋     | 360/500 [07:59<03:06,  1.33s/it]textattack: Saving checkpoint under \"checkpoints\\1720181906239.ta.chkpt\" at 2024-07-05 20:18:26 after 360 attacks.\n",
      "[Succeeded / Failed / Skipped / Total] 233 / 17 / 112 / 362:  72%|█████████████▊     | 362/500 [07:59<03:02,  1.32s/it]"
     ]
    },
    {
     "name": "stdout",
     "output_type": "stream",
     "text": [
      "\n",
      "\n",
      "=============================================================================================================================\n",
      "=============================================================================================================================\n",
      "\n"
     ]
    },
    {
     "name": "stderr",
     "output_type": "stream",
     "text": [
      "[Succeeded / Failed / Skipped / Total] 236 / 17 / 112 / 365:  73%|█████████████▊     | 365/500 [08:01<02:58,  1.32s/it]textattack: Saving checkpoint under \"checkpoints\\1720181908739.ta.chkpt\" at 2024-07-05 20:18:28 after 365 attacks.\n"
     ]
    },
    {
     "name": "stdout",
     "output_type": "stream",
     "text": [
      "\n",
      "\n",
      "=============================================================================================================================\n",
      "=============================================================================================================================\n",
      "\n"
     ]
    },
    {
     "name": "stderr",
     "output_type": "stream",
     "text": [
      "[Succeeded / Failed / Skipped / Total] 238 / 17 / 115 / 370:  74%|██████████████     | 370/500 [08:02<02:49,  1.30s/it]textattack: Saving checkpoint under \"checkpoints\\1720181909943.ta.chkpt\" at 2024-07-05 20:18:29 after 370 attacks.\n",
      "[Succeeded / Failed / Skipped / Total] 238 / 17 / 116 / 371:  74%|██████████████     | 371/500 [08:02<02:47,  1.30s/it]"
     ]
    },
    {
     "name": "stdout",
     "output_type": "stream",
     "text": [
      "\n",
      "\n",
      "=============================================================================================================================\n",
      "=============================================================================================================================\n",
      "\n"
     ]
    },
    {
     "name": "stderr",
     "output_type": "stream",
     "text": [
      "[Succeeded / Failed / Skipped / Total] 242 / 17 / 116 / 375:  75%|██████████████▎    | 375/500 [08:10<02:43,  1.31s/it]textattack: Saving checkpoint under \"checkpoints\\1720181917287.ta.chkpt\" at 2024-07-05 20:18:37 after 375 attacks.\n",
      "[Succeeded / Failed / Skipped / Total] 242 / 17 / 117 / 376:  75%|██████████████▎    | 376/500 [08:10<02:41,  1.30s/it]"
     ]
    },
    {
     "name": "stdout",
     "output_type": "stream",
     "text": [
      "\n",
      "\n",
      "=============================================================================================================================\n",
      "=============================================================================================================================\n",
      "\n"
     ]
    },
    {
     "name": "stderr",
     "output_type": "stream",
     "text": [
      "[Succeeded / Failed / Skipped / Total] 245 / 17 / 118 / 380:  76%|██████████████▍    | 380/500 [08:13<02:35,  1.30s/it]textattack: Saving checkpoint under \"checkpoints\\1720181920241.ta.chkpt\" at 2024-07-05 20:18:40 after 380 attacks.\n"
     ]
    },
    {
     "name": "stdout",
     "output_type": "stream",
     "text": [
      "\n",
      "\n",
      "=============================================================================================================================\n",
      "=============================================================================================================================\n",
      "\n"
     ]
    },
    {
     "name": "stderr",
     "output_type": "stream",
     "text": [
      "[Succeeded / Failed / Skipped / Total] 248 / 17 / 120 / 385:  77%|██████████████▋    | 385/500 [08:15<02:28,  1.29s/it]textattack: Saving checkpoint under \"checkpoints\\1720181923132.ta.chkpt\" at 2024-07-05 20:18:43 after 385 attacks.\n"
     ]
    },
    {
     "name": "stdout",
     "output_type": "stream",
     "text": [
      "\n",
      "\n",
      "=============================================================================================================================\n",
      "=============================================================================================================================\n",
      "\n"
     ]
    },
    {
     "name": "stderr",
     "output_type": "stream",
     "text": [
      "[Succeeded / Failed / Skipped / Total] 251 / 17 / 122 / 390:  78%|██████████████▊    | 390/500 [08:19<02:21,  1.28s/it]textattack: Saving checkpoint under \"checkpoints\\1720181927148.ta.chkpt\" at 2024-07-05 20:18:47 after 390 attacks.\n"
     ]
    },
    {
     "name": "stdout",
     "output_type": "stream",
     "text": [
      "\n",
      "\n",
      "=============================================================================================================================\n",
      "=============================================================================================================================\n",
      "\n"
     ]
    },
    {
     "name": "stderr",
     "output_type": "stream",
     "text": [
      "[Succeeded / Failed / Skipped / Total] 255 / 17 / 123 / 395:  79%|███████████████    | 395/500 [08:29<02:15,  1.29s/it]textattack: Saving checkpoint under \"checkpoints\\1720181936211.ta.chkpt\" at 2024-07-05 20:18:56 after 395 attacks.\n"
     ]
    },
    {
     "name": "stdout",
     "output_type": "stream",
     "text": [
      "\n",
      "\n",
      "=============================================================================================================================\n",
      "=============================================================================================================================\n",
      "\n"
     ]
    },
    {
     "name": "stderr",
     "output_type": "stream",
     "text": [
      "[Succeeded / Failed / Skipped / Total] 258 / 18 / 124 / 400:  80%|███████████████▏   | 400/500 [08:53<02:13,  1.33s/it]textattack: Saving checkpoint under \"checkpoints\\1720181960729.ta.chkpt\" at 2024-07-05 20:19:20 after 400 attacks.\n",
      "[Succeeded / Failed / Skipped / Total] 258 / 18 / 125 / 401:  80%|███████████████▏   | 401/500 [08:53<02:11,  1.33s/it]"
     ]
    },
    {
     "name": "stdout",
     "output_type": "stream",
     "text": [
      "\n",
      "\n",
      "=============================================================================================================================\n",
      "=============================================================================================================================\n",
      "\n"
     ]
    },
    {
     "name": "stderr",
     "output_type": "stream",
     "text": [
      "[Succeeded / Failed / Skipped / Total] 261 / 18 / 126 / 405:  81%|███████████████▍   | 405/500 [08:59<02:06,  1.33s/it]textattack: Saving checkpoint under \"checkpoints\\1720181966885.ta.chkpt\" at 2024-07-05 20:19:26 after 405 attacks.\n"
     ]
    },
    {
     "name": "stdout",
     "output_type": "stream",
     "text": [
      "\n",
      "\n",
      "=============================================================================================================================\n",
      "=============================================================================================================================\n",
      "\n"
     ]
    },
    {
     "name": "stderr",
     "output_type": "stream",
     "text": [
      "[Succeeded / Failed / Skipped / Total] 264 / 19 / 127 / 410:  82%|███████████████▌   | 410/500 [09:09<02:00,  1.34s/it]textattack: Saving checkpoint under \"checkpoints\\1720181976560.ta.chkpt\" at 2024-07-05 20:19:36 after 410 attacks.\n",
      "[Succeeded / Failed / Skipped / Total] 264 / 19 / 128 / 411:  82%|███████████████▌   | 411/500 [09:09<01:58,  1.34s/it]"
     ]
    },
    {
     "name": "stdout",
     "output_type": "stream",
     "text": [
      "\n",
      "\n",
      "=============================================================================================================================\n",
      "=============================================================================================================================\n",
      "\n"
     ]
    },
    {
     "name": "stderr",
     "output_type": "stream",
     "text": [
      "[Succeeded / Failed / Skipped / Total] 266 / 19 / 130 / 415:  83%|███████████████▊   | 415/500 [09:13<01:53,  1.33s/it]textattack: Saving checkpoint under \"checkpoints\\1720181980794.ta.chkpt\" at 2024-07-05 20:19:40 after 415 attacks.\n"
     ]
    },
    {
     "name": "stdout",
     "output_type": "stream",
     "text": [
      "\n",
      "\n",
      "=============================================================================================================================\n",
      "=============================================================================================================================\n",
      "\n"
     ]
    },
    {
     "name": "stderr",
     "output_type": "stream",
     "text": [
      "[Succeeded / Failed / Skipped / Total] 268 / 20 / 132 / 420:  84%|███████████████▉   | 420/500 [09:24<01:47,  1.34s/it]textattack: Saving checkpoint under \"checkpoints\\1720181991358.ta.chkpt\" at 2024-07-05 20:19:51 after 420 attacks.\n",
      "[Succeeded / Failed / Skipped / Total] 268 / 20 / 133 / 421:  84%|███████████████▉   | 421/500 [09:24<01:45,  1.34s/it]"
     ]
    },
    {
     "name": "stdout",
     "output_type": "stream",
     "text": [
      "\n",
      "\n",
      "=============================================================================================================================\n",
      "=============================================================================================================================\n",
      "\n"
     ]
    },
    {
     "name": "stderr",
     "output_type": "stream",
     "text": [
      "[Succeeded / Failed / Skipped / Total] 270 / 21 / 134 / 425:  85%|████████████████▏  | 425/500 [09:36<01:41,  1.36s/it]textattack: Saving checkpoint under \"checkpoints\\1720182003703.ta.chkpt\" at 2024-07-05 20:20:03 after 425 attacks.\n"
     ]
    },
    {
     "name": "stdout",
     "output_type": "stream",
     "text": [
      "\n",
      "\n",
      "=============================================================================================================================\n",
      "=============================================================================================================================\n",
      "\n"
     ]
    },
    {
     "name": "stderr",
     "output_type": "stream",
     "text": [
      "[Succeeded / Failed / Skipped / Total] 272 / 21 / 137 / 430:  86%|████████████████▎  | 430/500 [09:38<01:34,  1.35s/it]textattack: Saving checkpoint under \"checkpoints\\1720182005547.ta.chkpt\" at 2024-07-05 20:20:05 after 430 attacks.\n",
      "[Succeeded / Failed / Skipped / Total] 272 / 21 / 138 / 431:  86%|████████████████▍  | 431/500 [09:38<01:32,  1.34s/it]"
     ]
    },
    {
     "name": "stdout",
     "output_type": "stream",
     "text": [
      "\n",
      "\n",
      "=============================================================================================================================\n",
      "=============================================================================================================================\n",
      "\n"
     ]
    },
    {
     "name": "stderr",
     "output_type": "stream",
     "text": [
      "[Succeeded / Failed / Skipped / Total] 275 / 21 / 139 / 435:  87%|████████████████▌  | 435/500 [09:41<01:26,  1.34s/it]textattack: Saving checkpoint under \"checkpoints\\1720182008750.ta.chkpt\" at 2024-07-05 20:20:08 after 435 attacks.\n"
     ]
    },
    {
     "name": "stdout",
     "output_type": "stream",
     "text": [
      "\n",
      "\n",
      "=============================================================================================================================\n",
      "=============================================================================================================================\n",
      "\n"
     ]
    },
    {
     "name": "stderr",
     "output_type": "stream",
     "text": [
      "[Succeeded / Failed / Skipped / Total] 279 / 21 / 140 / 440:  88%|████████████████▋  | 440/500 [09:46<01:19,  1.33s/it]textattack: Saving checkpoint under \"checkpoints\\1720182013829.ta.chkpt\" at 2024-07-05 20:20:13 after 440 attacks.\n",
      "[Succeeded / Failed / Skipped / Total] 279 / 21 / 141 / 441:  88%|████████████████▊  | 441/500 [09:46<01:18,  1.33s/it]"
     ]
    },
    {
     "name": "stdout",
     "output_type": "stream",
     "text": [
      "\n",
      "\n",
      "=============================================================================================================================\n",
      "=============================================================================================================================\n",
      "\n"
     ]
    },
    {
     "name": "stderr",
     "output_type": "stream",
     "text": [
      "[Succeeded / Failed / Skipped / Total] 283 / 21 / 141 / 445:  89%|████████████████▉  | 445/500 [09:50<01:12,  1.33s/it]textattack: Saving checkpoint under \"checkpoints\\1720182017626.ta.chkpt\" at 2024-07-05 20:20:17 after 445 attacks.\n"
     ]
    },
    {
     "name": "stdout",
     "output_type": "stream",
     "text": [
      "\n",
      "\n",
      "=============================================================================================================================\n",
      "=============================================================================================================================\n",
      "\n"
     ]
    },
    {
     "name": "stderr",
     "output_type": "stream",
     "text": [
      "[Succeeded / Failed / Skipped / Total] 286 / 21 / 143 / 450:  90%|█████████████████  | 450/500 [09:54<01:06,  1.32s/it]textattack: Saving checkpoint under \"checkpoints\\1720182021283.ta.chkpt\" at 2024-07-05 20:20:21 after 450 attacks.\n",
      "[Succeeded / Failed / Skipped / Total] 286 / 21 / 144 / 451:  90%|█████████████████▏ | 451/500 [09:54<01:04,  1.32s/it]"
     ]
    },
    {
     "name": "stdout",
     "output_type": "stream",
     "text": [
      "\n",
      "\n",
      "=============================================================================================================================\n",
      "=============================================================================================================================\n",
      "\n"
     ]
    },
    {
     "name": "stderr",
     "output_type": "stream",
     "text": [
      "[Succeeded / Failed / Skipped / Total] 289 / 21 / 145 / 455:  91%|█████████████████▎ | 455/500 [09:56<00:59,  1.31s/it]textattack: Saving checkpoint under \"checkpoints\\1720182023736.ta.chkpt\" at 2024-07-05 20:20:23 after 455 attacks.\n"
     ]
    },
    {
     "name": "stdout",
     "output_type": "stream",
     "text": [
      "\n",
      "\n",
      "=============================================================================================================================\n",
      "=============================================================================================================================\n",
      "\n"
     ]
    },
    {
     "name": "stderr",
     "output_type": "stream",
     "text": [
      "[Succeeded / Failed / Skipped / Total] 294 / 21 / 145 / 460:  92%|█████████████████▍ | 460/500 [10:10<00:53,  1.33s/it]textattack: Saving checkpoint under \"checkpoints\\1720182037550.ta.chkpt\" at 2024-07-05 20:20:37 after 460 attacks.\n",
      "[Succeeded / Failed / Skipped / Total] 294 / 21 / 146 / 461:  92%|█████████████████▌ | 461/500 [10:10<00:51,  1.32s/it]"
     ]
    },
    {
     "name": "stdout",
     "output_type": "stream",
     "text": [
      "\n",
      "\n",
      "=============================================================================================================================\n",
      "=============================================================================================================================\n",
      "\n"
     ]
    },
    {
     "name": "stderr",
     "output_type": "stream",
     "text": [
      "[Succeeded / Failed / Skipped / Total] 295 / 22 / 148 / 465:  93%|█████████████████▋ | 465/500 [10:17<00:46,  1.33s/it]textattack: Saving checkpoint under \"checkpoints\\1720182044253.ta.chkpt\" at 2024-07-05 20:20:44 after 465 attacks.\n",
      "[Succeeded / Failed / Skipped / Total] 295 / 22 / 150 / 467:  93%|█████████████████▋ | 467/500 [10:17<00:43,  1.32s/it]"
     ]
    },
    {
     "name": "stdout",
     "output_type": "stream",
     "text": [
      "\n",
      "\n",
      "=============================================================================================================================\n",
      "=============================================================================================================================\n",
      "\n"
     ]
    },
    {
     "name": "stderr",
     "output_type": "stream",
     "text": [
      "[Succeeded / Failed / Skipped / Total] 298 / 22 / 150 / 470:  94%|█████████████████▊ | 470/500 [10:22<00:39,  1.33s/it]textattack: Saving checkpoint under \"checkpoints\\1720182049941.ta.chkpt\" at 2024-07-05 20:20:49 after 470 attacks.\n"
     ]
    },
    {
     "name": "stdout",
     "output_type": "stream",
     "text": [
      "\n",
      "\n",
      "=============================================================================================================================\n",
      "=============================================================================================================================\n",
      "\n"
     ]
    },
    {
     "name": "stderr",
     "output_type": "stream",
     "text": [
      "[Succeeded / Failed / Skipped / Total] 303 / 22 / 150 / 475:  95%|██████████████████ | 475/500 [10:34<00:33,  1.34s/it]textattack: Saving checkpoint under \"checkpoints\\1720182061317.ta.chkpt\" at 2024-07-05 20:21:01 after 475 attacks.\n"
     ]
    },
    {
     "name": "stdout",
     "output_type": "stream",
     "text": [
      "\n",
      "\n",
      "=============================================================================================================================\n",
      "=============================================================================================================================\n",
      "\n"
     ]
    },
    {
     "name": "stderr",
     "output_type": "stream",
     "text": [
      "[Succeeded / Failed / Skipped / Total] 307 / 22 / 151 / 480:  96%|██████████████████▏| 480/500 [10:41<00:26,  1.34s/it]textattack: Saving checkpoint under \"checkpoints\\1720182068849.ta.chkpt\" at 2024-07-05 20:21:08 after 480 attacks.\n"
     ]
    },
    {
     "name": "stdout",
     "output_type": "stream",
     "text": [
      "\n",
      "\n",
      "=============================================================================================================================\n",
      "=============================================================================================================================\n",
      "\n"
     ]
    },
    {
     "name": "stderr",
     "output_type": "stream",
     "text": [
      "[Succeeded / Failed / Skipped / Total] 310 / 23 / 152 / 485:  97%|██████████████████▍| 485/500 [11:08<00:20,  1.38s/it]textattack: Saving checkpoint under \"checkpoints\\1720182095445.ta.chkpt\" at 2024-07-05 20:21:35 after 485 attacks.\n"
     ]
    },
    {
     "name": "stdout",
     "output_type": "stream",
     "text": [
      "\n",
      "\n",
      "=============================================================================================================================\n",
      "=============================================================================================================================\n",
      "\n"
     ]
    },
    {
     "name": "stderr",
     "output_type": "stream",
     "text": [
      "[Succeeded / Failed / Skipped / Total] 314 / 23 / 153 / 490:  98%|██████████████████▌| 490/500 [11:13<00:13,  1.38s/it]textattack: Saving checkpoint under \"checkpoints\\1720182101149.ta.chkpt\" at 2024-07-05 20:21:41 after 490 attacks.\n",
      "[Succeeded / Failed / Skipped / Total] 314 / 23 / 154 / 491:  98%|██████████████████▋| 491/500 [11:14<00:12,  1.37s/it]"
     ]
    },
    {
     "name": "stdout",
     "output_type": "stream",
     "text": [
      "\n",
      "\n",
      "=============================================================================================================================\n",
      "=============================================================================================================================\n",
      "\n"
     ]
    },
    {
     "name": "stderr",
     "output_type": "stream",
     "text": [
      "[Succeeded / Failed / Skipped / Total] 316 / 23 / 156 / 495:  99%|██████████████████▊| 495/500 [11:16<00:06,  1.37s/it]textattack: Saving checkpoint under \"checkpoints\\1720182103868.ta.chkpt\" at 2024-07-05 20:21:43 after 495 attacks.\n",
      "[Succeeded / Failed / Skipped / Total] 316 / 23 / 158 / 497:  99%|██████████████████▉| 497/500 [11:16<00:04,  1.36s/it]"
     ]
    },
    {
     "name": "stdout",
     "output_type": "stream",
     "text": [
      "\n",
      "\n",
      "=============================================================================================================================\n",
      "=============================================================================================================================\n",
      "\n"
     ]
    },
    {
     "name": "stderr",
     "output_type": "stream",
     "text": [
      "[Succeeded / Failed / Skipped / Total] 319 / 23 / 158 / 500: 100%|███████████████████| 500/500 [11:20<00:00,  1.36s/it]textattack: Saving checkpoint under \"checkpoints\\1720182107931.ta.chkpt\" at 2024-07-05 20:21:47 after 500 attacks.\n",
      "[Succeeded / Failed / Skipped / Total] 319 / 23 / 158 / 500: 100%|███████████████████| 500/500 [11:20<00:00,  1.36s/it]"
     ]
    },
    {
     "name": "stdout",
     "output_type": "stream",
     "text": [
      "\n",
      "\n",
      "=============================================================================================================================\n",
      "=============================================================================================================================\n",
      "\n",
      "\n",
      "+-------------------------------+--------+\n",
      "| Attack Results                |        |\n",
      "+-------------------------------+--------+\n",
      "| Number of successful attacks: | 319    |\n",
      "| Number of failed attacks:     | 23     |\n",
      "| Number of skipped attacks:    | 158    |\n",
      "| Original accuracy:            | 68.4%  |\n",
      "| Accuracy under attack:        | 4.6%   |\n",
      "| Attack success rate:          | 93.27% |\n",
      "| Average perturbed word %:     | 10.3%  |\n",
      "| Average num. words per input: | 18.4   |\n",
      "| Avg num queries:              | 73.2   |\n",
      "+-------------------------------+--------+\n"
     ]
    },
    {
     "name": "stderr",
     "output_type": "stream",
     "text": [
      "\n"
     ]
    }
   ],
   "source": [
    "runAttack(clip_model_wrapper_knn_mr, n_samples, 'attack_results_new/clipmrattackknn'+suffix, target_ds_mr)"
   ]
  },
  {
   "cell_type": "code",
   "execution_count": 31,
   "id": "2817bf97-ee68-48c1-b7f6-b517849aa412",
   "metadata": {},
   "outputs": [
    {
     "name": "stderr",
     "output_type": "stream",
     "text": [
      "textattack: Unknown if model of class <class 'transformers.models.clip.modeling_clip.CLIPTextTransformer'> compatible with goal function <class 'textattack.goal_functions.classification.untargeted_classification.UntargetedClassification'>.\n",
      "textattack: Logging to CSV at path attack_results_new/clipmrattacksvcsim05.csv\n"
     ]
    },
    {
     "name": "stdout",
     "output_type": "stream",
     "text": [
      "Attack(\n",
      "  (search_method): GreedyWordSwapWIR(\n",
      "    (wir_method):  delete\n",
      "  )\n",
      "  (goal_function):  UntargetedClassification\n",
      "  (transformation):  WordSwapEmbedding(\n",
      "    (max_candidates):  50\n",
      "    (embedding):  WordEmbedding\n",
      "  )\n",
      "  (constraints): \n",
      "    (0): WordEmbeddingDistance(\n",
      "        (embedding):  WordEmbedding\n",
      "        (min_cos_sim):  0.5\n",
      "        (cased):  False\n",
      "        (include_unknown_words):  True\n",
      "        (compare_against_original):  True\n",
      "      )\n",
      "    (1): PartOfSpeech(\n",
      "        (tagger_type):  nltk\n",
      "        (tagset):  universal\n",
      "        (allow_verb_noun_swap):  True\n",
      "        (compare_against_original):  True\n",
      "      )\n",
      "    (2): UniversalSentenceEncoder(\n",
      "        (metric):  angular\n",
      "        (threshold):  0.840845057\n",
      "        (window_size):  15\n",
      "        (skip_text_shorter_than_window):  True\n",
      "        (compare_against_original):  False\n",
      "      )\n",
      "    (3): RepeatModification\n",
      "    (4): StopwordModification\n",
      "    (5): InputColumnModification(\n",
      "        (matching_column_labels):  ['premise', 'hypothesis']\n",
      "        (columns_to_ignore):  {'premise'}\n",
      "      )\n",
      "  (is_black_box):  True\n",
      ") \n",
      "\n"
     ]
    },
    {
     "name": "stderr",
     "output_type": "stream",
     "text": [
      "[Succeeded / Failed / Skipped / Total] 5 / 0 / 0 / 5:   1%|▎                           | 5/500 [00:14<23:48,  2.89s/it]textattack: Saving checkpoint under \"checkpoints\\1720182122452.ta.chkpt\" at 2024-07-05 20:22:02 after 5 attacks.\n",
      "[Succeeded / Failed / Skipped / Total] 5 / 0 / 2 / 7:   1%|▍                           | 7/500 [00:14<17:02,  2.07s/it]"
     ]
    },
    {
     "name": "stdout",
     "output_type": "stream",
     "text": [
      "\n",
      "\n",
      "=============================================================================================================================\n",
      "=============================================================================================================================\n",
      "\n"
     ]
    },
    {
     "name": "stderr",
     "output_type": "stream",
     "text": [
      "[Succeeded / Failed / Skipped / Total] 8 / 0 / 2 / 10:   2%|▌                         | 10/500 [00:19<15:46,  1.93s/it]textattack: Saving checkpoint under \"checkpoints\\1720182127343.ta.chkpt\" at 2024-07-05 20:22:07 after 10 attacks.\n"
     ]
    },
    {
     "name": "stdout",
     "output_type": "stream",
     "text": [
      "\n",
      "\n",
      "=============================================================================================================================\n",
      "=============================================================================================================================\n",
      "\n"
     ]
    },
    {
     "name": "stderr",
     "output_type": "stream",
     "text": [
      "[Succeeded / Failed / Skipped / Total] 12 / 0 / 3 / 15:   3%|▊                        | 15/500 [00:33<18:04,  2.24s/it]textattack: Saving checkpoint under \"checkpoints\\1720182141563.ta.chkpt\" at 2024-07-05 20:22:21 after 15 attacks.\n"
     ]
    },
    {
     "name": "stdout",
     "output_type": "stream",
     "text": [
      "\n",
      "\n",
      "=============================================================================================================================\n",
      "=============================================================================================================================\n",
      "\n"
     ]
    },
    {
     "name": "stderr",
     "output_type": "stream",
     "text": [
      "[Succeeded / Failed / Skipped / Total] 16 / 0 / 4 / 20:   4%|█                        | 20/500 [00:36<14:42,  1.84s/it]textattack: Saving checkpoint under \"checkpoints\\1720182144782.ta.chkpt\" at 2024-07-05 20:22:24 after 20 attacks.\n"
     ]
    },
    {
     "name": "stdout",
     "output_type": "stream",
     "text": [
      "\n",
      "\n",
      "=============================================================================================================================\n",
      "=============================================================================================================================\n",
      "\n"
     ]
    },
    {
     "name": "stderr",
     "output_type": "stream",
     "text": [
      "[Succeeded / Failed / Skipped / Total] 20 / 0 / 5 / 25:   5%|█▎                       | 25/500 [00:42<13:24,  1.69s/it]textattack: Saving checkpoint under \"checkpoints\\1720182150376.ta.chkpt\" at 2024-07-05 20:22:30 after 25 attacks.\n"
     ]
    },
    {
     "name": "stdout",
     "output_type": "stream",
     "text": [
      "\n",
      "\n",
      "=============================================================================================================================\n",
      "=============================================================================================================================\n",
      "\n"
     ]
    },
    {
     "name": "stderr",
     "output_type": "stream",
     "text": [
      "[Succeeded / Failed / Skipped / Total] 24 / 0 / 6 / 30:   6%|█▌                       | 30/500 [00:48<12:32,  1.60s/it]textattack: Saving checkpoint under \"checkpoints\\1720182156048.ta.chkpt\" at 2024-07-05 20:22:36 after 30 attacks.\n"
     ]
    },
    {
     "name": "stdout",
     "output_type": "stream",
     "text": [
      "\n",
      "\n",
      "=============================================================================================================================\n",
      "=============================================================================================================================\n",
      "\n"
     ]
    },
    {
     "name": "stderr",
     "output_type": "stream",
     "text": [
      "[Succeeded / Failed / Skipped / Total] 27 / 0 / 8 / 35:   7%|█▊                       | 35/500 [00:50<11:09,  1.44s/it]textattack: Saving checkpoint under \"checkpoints\\1720182158408.ta.chkpt\" at 2024-07-05 20:22:38 after 35 attacks.\n"
     ]
    },
    {
     "name": "stdout",
     "output_type": "stream",
     "text": [
      "\n",
      "\n",
      "=============================================================================================================================\n",
      "=============================================================================================================================\n",
      "\n"
     ]
    },
    {
     "name": "stderr",
     "output_type": "stream",
     "text": [
      "[Succeeded / Failed / Skipped / Total] 31 / 0 / 9 / 40:   8%|██                       | 40/500 [00:55<10:41,  1.39s/it]textattack: Saving checkpoint under \"checkpoints\\1720182163799.ta.chkpt\" at 2024-07-05 20:22:43 after 40 attacks.\n"
     ]
    },
    {
     "name": "stdout",
     "output_type": "stream",
     "text": [
      "\n",
      "\n",
      "=============================================================================================================================\n",
      "=============================================================================================================================\n",
      "\n"
     ]
    },
    {
     "name": "stderr",
     "output_type": "stream",
     "text": [
      "[Succeeded / Failed / Skipped / Total] 34 / 0 / 11 / 45:   9%|██▏                     | 45/500 [01:02<10:36,  1.40s/it]textattack: Saving checkpoint under \"checkpoints\\1720182170987.ta.chkpt\" at 2024-07-05 20:22:50 after 45 attacks.\n"
     ]
    },
    {
     "name": "stdout",
     "output_type": "stream",
     "text": [
      "\n",
      "\n",
      "=============================================================================================================================\n",
      "=============================================================================================================================\n",
      "\n"
     ]
    },
    {
     "name": "stderr",
     "output_type": "stream",
     "text": [
      "[Succeeded / Failed / Skipped / Total] 38 / 0 / 12 / 50:  10%|██▍                     | 50/500 [01:07<10:05,  1.35s/it]textattack: Saving checkpoint under \"checkpoints\\1720182175300.ta.chkpt\" at 2024-07-05 20:22:55 after 50 attacks.\n"
     ]
    },
    {
     "name": "stdout",
     "output_type": "stream",
     "text": [
      "\n",
      "\n",
      "=============================================================================================================================\n",
      "=============================================================================================================================\n",
      "\n"
     ]
    },
    {
     "name": "stderr",
     "output_type": "stream",
     "text": [
      "[Succeeded / Failed / Skipped / Total] 42 / 0 / 13 / 55:  11%|██▋                     | 55/500 [01:15<10:10,  1.37s/it]textattack: Saving checkpoint under \"checkpoints\\1720182183425.ta.chkpt\" at 2024-07-05 20:23:03 after 55 attacks.\n"
     ]
    },
    {
     "name": "stdout",
     "output_type": "stream",
     "text": [
      "\n",
      "\n",
      "=============================================================================================================================\n",
      "=============================================================================================================================\n",
      "\n"
     ]
    },
    {
     "name": "stderr",
     "output_type": "stream",
     "text": [
      "[Succeeded / Failed / Skipped / Total] 46 / 0 / 14 / 60:  12%|██▉                     | 60/500 [01:23<10:13,  1.39s/it]textattack: Saving checkpoint under \"checkpoints\\1720182191629.ta.chkpt\" at 2024-07-05 20:23:11 after 60 attacks.\n",
      "[Succeeded / Failed / Skipped / Total] 46 / 0 / 15 / 61:  12%|██▉                     | 61/500 [01:23<10:02,  1.37s/it]"
     ]
    },
    {
     "name": "stdout",
     "output_type": "stream",
     "text": [
      "\n",
      "\n",
      "=============================================================================================================================\n",
      "=============================================================================================================================\n",
      "\n"
     ]
    },
    {
     "name": "stderr",
     "output_type": "stream",
     "text": [
      "[Succeeded / Failed / Skipped / Total] 50 / 0 / 15 / 65:  13%|███                     | 65/500 [01:28<09:49,  1.36s/it]textattack: Saving checkpoint under \"checkpoints\\1720182196114.ta.chkpt\" at 2024-07-05 20:23:16 after 65 attacks.\n"
     ]
    },
    {
     "name": "stdout",
     "output_type": "stream",
     "text": [
      "\n",
      "\n",
      "=============================================================================================================================\n",
      "=============================================================================================================================\n",
      "\n"
     ]
    },
    {
     "name": "stderr",
     "output_type": "stream",
     "text": [
      "[Succeeded / Failed / Skipped / Total] 54 / 0 / 16 / 70:  14%|███▎                    | 70/500 [01:34<09:43,  1.36s/it]textattack: Saving checkpoint under \"checkpoints\\1720182202958.ta.chkpt\" at 2024-07-05 20:23:22 after 70 attacks.\n"
     ]
    },
    {
     "name": "stdout",
     "output_type": "stream",
     "text": [
      "\n",
      "\n",
      "=============================================================================================================================\n",
      "=============================================================================================================================\n",
      "\n"
     ]
    },
    {
     "name": "stderr",
     "output_type": "stream",
     "text": [
      "[Succeeded / Failed / Skipped / Total] 59 / 0 / 16 / 75:  15%|███▌                    | 75/500 [01:39<09:24,  1.33s/it]textattack: Saving checkpoint under \"checkpoints\\1720182207709.ta.chkpt\" at 2024-07-05 20:23:27 after 75 attacks.\n",
      "[Succeeded / Failed / Skipped / Total] 59 / 0 / 17 / 76:  15%|███▋                    | 76/500 [01:39<09:16,  1.31s/it]"
     ]
    },
    {
     "name": "stdout",
     "output_type": "stream",
     "text": [
      "\n",
      "\n",
      "=============================================================================================================================\n",
      "=============================================================================================================================\n",
      "\n"
     ]
    },
    {
     "name": "stderr",
     "output_type": "stream",
     "text": [
      "[Succeeded / Failed / Skipped / Total] 62 / 0 / 18 / 80:  16%|███▊                    | 80/500 [01:45<09:13,  1.32s/it]textattack: Saving checkpoint under \"checkpoints\\1720182213428.ta.chkpt\" at 2024-07-05 20:23:33 after 80 attacks.\n",
      "[Succeeded / Failed / Skipped / Total] 62 / 0 / 20 / 82:  16%|███▉                    | 82/500 [01:45<08:57,  1.29s/it]"
     ]
    },
    {
     "name": "stdout",
     "output_type": "stream",
     "text": [
      "\n",
      "\n",
      "=============================================================================================================================\n",
      "=============================================================================================================================\n",
      "\n"
     ]
    },
    {
     "name": "stderr",
     "output_type": "stream",
     "text": [
      "[Succeeded / Failed / Skipped / Total] 65 / 0 / 20 / 85:  17%|████                    | 85/500 [01:47<08:45,  1.27s/it]textattack: Saving checkpoint under \"checkpoints\\1720182215647.ta.chkpt\" at 2024-07-05 20:23:35 after 85 attacks.\n"
     ]
    },
    {
     "name": "stdout",
     "output_type": "stream",
     "text": [
      "\n",
      "\n",
      "=============================================================================================================================\n",
      "=============================================================================================================================\n",
      "\n"
     ]
    },
    {
     "name": "stderr",
     "output_type": "stream",
     "text": [
      "[Succeeded / Failed / Skipped / Total] 69 / 0 / 21 / 90:  18%|████▎                   | 90/500 [01:54<08:43,  1.28s/it]textattack: Saving checkpoint under \"checkpoints\\1720182222835.ta.chkpt\" at 2024-07-05 20:23:42 after 90 attacks.\n",
      "[Succeeded / Failed / Skipped / Total] 69 / 0 / 23 / 92:  18%|████▍                   | 92/500 [01:54<08:29,  1.25s/it]"
     ]
    },
    {
     "name": "stdout",
     "output_type": "stream",
     "text": [
      "\n",
      "\n",
      "=============================================================================================================================\n",
      "=============================================================================================================================\n",
      "\n"
     ]
    },
    {
     "name": "stderr",
     "output_type": "stream",
     "text": [
      "[Succeeded / Failed / Skipped / Total] 72 / 0 / 23 / 95:  19%|████▌                   | 95/500 [02:00<08:35,  1.27s/it]textattack: Saving checkpoint under \"checkpoints\\1720182228899.ta.chkpt\" at 2024-07-05 20:23:48 after 95 attacks.\n"
     ]
    },
    {
     "name": "stdout",
     "output_type": "stream",
     "text": [
      "\n",
      "\n",
      "=============================================================================================================================\n",
      "=============================================================================================================================\n",
      "\n"
     ]
    },
    {
     "name": "stderr",
     "output_type": "stream",
     "text": [
      "[Succeeded / Failed / Skipped / Total] 76 / 0 / 24 / 100:  20%|████▍                 | 100/500 [02:04<08:17,  1.24s/it]textattack: Saving checkpoint under \"checkpoints\\1720182232446.ta.chkpt\" at 2024-07-05 20:23:52 after 100 attacks.\n"
     ]
    },
    {
     "name": "stdout",
     "output_type": "stream",
     "text": [
      "\n",
      "\n",
      "=============================================================================================================================\n",
      "=============================================================================================================================\n",
      "\n"
     ]
    },
    {
     "name": "stderr",
     "output_type": "stream",
     "text": [
      "[Succeeded / Failed / Skipped / Total] 81 / 0 / 24 / 105:  21%|████▌                 | 105/500 [02:12<08:18,  1.26s/it]textattack: Saving checkpoint under \"checkpoints\\1720182240493.ta.chkpt\" at 2024-07-05 20:24:00 after 105 attacks.\n",
      "[Succeeded / Failed / Skipped / Total] 81 / 0 / 25 / 106:  21%|████▋                 | 106/500 [02:12<08:12,  1.25s/it]"
     ]
    },
    {
     "name": "stdout",
     "output_type": "stream",
     "text": [
      "\n",
      "\n",
      "=============================================================================================================================\n",
      "=============================================================================================================================\n",
      "\n"
     ]
    },
    {
     "name": "stderr",
     "output_type": "stream",
     "text": [
      "[Succeeded / Failed / Skipped / Total] 83 / 0 / 27 / 110:  22%|████▊                 | 110/500 [02:16<08:02,  1.24s/it]textattack: Saving checkpoint under \"checkpoints\\1720182244119.ta.chkpt\" at 2024-07-05 20:24:04 after 110 attacks.\n",
      "[Succeeded / Failed / Skipped / Total] 83 / 0 / 28 / 111:  22%|████▉                 | 111/500 [02:16<07:57,  1.23s/it]"
     ]
    },
    {
     "name": "stdout",
     "output_type": "stream",
     "text": [
      "\n",
      "\n",
      "=============================================================================================================================\n",
      "=============================================================================================================================\n",
      "\n"
     ]
    },
    {
     "name": "stderr",
     "output_type": "stream",
     "text": [
      "[Succeeded / Failed / Skipped / Total] 85 / 0 / 30 / 115:  23%|█████                 | 115/500 [02:18<07:45,  1.21s/it]textattack: Saving checkpoint under \"checkpoints\\1720182246931.ta.chkpt\" at 2024-07-05 20:24:06 after 115 attacks.\n"
     ]
    },
    {
     "name": "stdout",
     "output_type": "stream",
     "text": [
      "\n",
      "\n",
      "=============================================================================================================================\n",
      "=============================================================================================================================\n",
      "\n"
     ]
    },
    {
     "name": "stderr",
     "output_type": "stream",
     "text": [
      "[Succeeded / Failed / Skipped / Total] 88 / 0 / 32 / 120:  24%|█████▎                | 120/500 [02:22<07:30,  1.18s/it]textattack: Saving checkpoint under \"checkpoints\\1720182250197.ta.chkpt\" at 2024-07-05 20:24:10 after 120 attacks.\n",
      "[Succeeded / Failed / Skipped / Total] 88 / 0 / 33 / 121:  24%|█████▎                | 121/500 [02:22<07:25,  1.18s/it]"
     ]
    },
    {
     "name": "stdout",
     "output_type": "stream",
     "text": [
      "\n",
      "\n",
      "=============================================================================================================================\n",
      "=============================================================================================================================\n",
      "\n"
     ]
    },
    {
     "name": "stderr",
     "output_type": "stream",
     "text": [
      "[Succeeded / Failed / Skipped / Total] 91 / 0 / 34 / 125:  25%|█████▌                | 125/500 [02:25<07:15,  1.16s/it]textattack: Saving checkpoint under \"checkpoints\\1720182253057.ta.chkpt\" at 2024-07-05 20:24:13 after 125 attacks.\n"
     ]
    },
    {
     "name": "stdout",
     "output_type": "stream",
     "text": [
      "\n",
      "\n",
      "=============================================================================================================================\n",
      "=============================================================================================================================\n",
      "\n"
     ]
    },
    {
     "name": "stderr",
     "output_type": "stream",
     "text": [
      "[Succeeded / Failed / Skipped / Total] 96 / 0 / 34 / 130:  26%|█████▋                | 130/500 [02:31<07:10,  1.16s/it]textattack: Saving checkpoint under \"checkpoints\\1720182259276.ta.chkpt\" at 2024-07-05 20:24:19 after 130 attacks.\n",
      "[Succeeded / Failed / Skipped / Total] 96 / 0 / 35 / 131:  26%|█████▊                | 131/500 [02:31<07:06,  1.16s/it]"
     ]
    },
    {
     "name": "stdout",
     "output_type": "stream",
     "text": [
      "\n",
      "\n",
      "=============================================================================================================================\n",
      "=============================================================================================================================\n",
      "\n"
     ]
    },
    {
     "name": "stderr",
     "output_type": "stream",
     "text": [
      "[Succeeded / Failed / Skipped / Total] 99 / 0 / 36 / 135:  27%|█████▉                | 135/500 [02:36<07:03,  1.16s/it]textattack: Saving checkpoint under \"checkpoints\\1720182264636.ta.chkpt\" at 2024-07-05 20:24:24 after 135 attacks.\n"
     ]
    },
    {
     "name": "stdout",
     "output_type": "stream",
     "text": [
      "\n",
      "\n",
      "=============================================================================================================================\n",
      "=============================================================================================================================\n",
      "\n"
     ]
    },
    {
     "name": "stderr",
     "output_type": "stream",
     "text": [
      "[Succeeded / Failed / Skipped / Total] 101 / 0 / 39 / 140:  28%|█████▉               | 140/500 [02:39<06:49,  1.14s/it]textattack: Saving checkpoint under \"checkpoints\\1720182267136.ta.chkpt\" at 2024-07-05 20:24:27 after 140 attacks.\n"
     ]
    },
    {
     "name": "stdout",
     "output_type": "stream",
     "text": [
      "\n",
      "\n",
      "=============================================================================================================================\n",
      "=============================================================================================================================\n",
      "\n"
     ]
    },
    {
     "name": "stderr",
     "output_type": "stream",
     "text": [
      "[Succeeded / Failed / Skipped / Total] 104 / 0 / 41 / 145:  29%|██████               | 145/500 [02:43<06:39,  1.12s/it]textattack: Saving checkpoint under \"checkpoints\\1720182271074.ta.chkpt\" at 2024-07-05 20:24:31 after 145 attacks.\n",
      "[Succeeded / Failed / Skipped / Total] 104 / 0 / 42 / 146:  29%|██████▏              | 146/500 [02:43<06:35,  1.12s/it]"
     ]
    },
    {
     "name": "stdout",
     "output_type": "stream",
     "text": [
      "\n",
      "\n",
      "=============================================================================================================================\n",
      "=============================================================================================================================\n",
      "\n"
     ]
    },
    {
     "name": "stderr",
     "output_type": "stream",
     "text": [
      "[Succeeded / Failed / Skipped / Total] 107 / 0 / 43 / 150:  30%|██████▎              | 150/500 [02:47<06:29,  1.11s/it]textattack: Saving checkpoint under \"checkpoints\\1720182275043.ta.chkpt\" at 2024-07-05 20:24:35 after 150 attacks.\n",
      "[Succeeded / Failed / Skipped / Total] 107 / 0 / 44 / 151:  30%|██████▎              | 151/500 [02:47<06:26,  1.11s/it]"
     ]
    },
    {
     "name": "stdout",
     "output_type": "stream",
     "text": [
      "\n",
      "\n",
      "=============================================================================================================================\n",
      "=============================================================================================================================\n",
      "\n"
     ]
    },
    {
     "name": "stderr",
     "output_type": "stream",
     "text": [
      "[Succeeded / Failed / Skipped / Total] 109 / 1 / 45 / 155:  31%|██████▌              | 155/500 [02:57<06:34,  1.14s/it]textattack: Saving checkpoint under \"checkpoints\\1720182285294.ta.chkpt\" at 2024-07-05 20:24:45 after 155 attacks.\n"
     ]
    },
    {
     "name": "stdout",
     "output_type": "stream",
     "text": [
      "\n",
      "\n",
      "=============================================================================================================================\n",
      "=============================================================================================================================\n",
      "\n"
     ]
    },
    {
     "name": "stderr",
     "output_type": "stream",
     "text": [
      "[Succeeded / Failed / Skipped / Total] 112 / 1 / 47 / 160:  32%|██████▋              | 160/500 [03:06<06:35,  1.16s/it]textattack: Saving checkpoint under \"checkpoints\\1720182294201.ta.chkpt\" at 2024-07-05 20:24:54 after 160 attacks.\n",
      "[Succeeded / Failed / Skipped / Total] 112 / 1 / 48 / 161:  32%|██████▊              | 161/500 [03:06<06:32,  1.16s/it]"
     ]
    },
    {
     "name": "stdout",
     "output_type": "stream",
     "text": [
      "\n",
      "\n",
      "=============================================================================================================================\n",
      "=============================================================================================================================\n",
      "\n"
     ]
    },
    {
     "name": "stderr",
     "output_type": "stream",
     "text": [
      "[Succeeded / Failed / Skipped / Total] 114 / 1 / 50 / 165:  33%|██████▉              | 165/500 [03:08<06:23,  1.14s/it]textattack: Saving checkpoint under \"checkpoints\\1720182296857.ta.chkpt\" at 2024-07-05 20:24:56 after 165 attacks.\n"
     ]
    },
    {
     "name": "stdout",
     "output_type": "stream",
     "text": [
      "\n",
      "\n",
      "=============================================================================================================================\n",
      "=============================================================================================================================\n",
      "\n"
     ]
    },
    {
     "name": "stderr",
     "output_type": "stream",
     "text": [
      "[Succeeded / Failed / Skipped / Total] 117 / 1 / 52 / 170:  34%|███████▏             | 170/500 [03:12<06:14,  1.13s/it]textattack: Saving checkpoint under \"checkpoints\\1720182300873.ta.chkpt\" at 2024-07-05 20:25:00 after 170 attacks.\n"
     ]
    },
    {
     "name": "stdout",
     "output_type": "stream",
     "text": [
      "\n",
      "\n",
      "=============================================================================================================================\n",
      "=============================================================================================================================\n",
      "\n"
     ]
    },
    {
     "name": "stderr",
     "output_type": "stream",
     "text": [
      "[Succeeded / Failed / Skipped / Total] 122 / 1 / 52 / 175:  35%|███████▎             | 175/500 [03:25<06:21,  1.17s/it]textattack: Saving checkpoint under \"checkpoints\\1720182313296.ta.chkpt\" at 2024-07-05 20:25:13 after 175 attacks.\n",
      "[Succeeded / Failed / Skipped / Total] 122 / 1 / 53 / 176:  35%|███████▍             | 176/500 [03:25<06:18,  1.17s/it]"
     ]
    },
    {
     "name": "stdout",
     "output_type": "stream",
     "text": [
      "\n",
      "\n",
      "=============================================================================================================================\n",
      "=============================================================================================================================\n",
      "\n"
     ]
    },
    {
     "name": "stderr",
     "output_type": "stream",
     "text": [
      "[Succeeded / Failed / Skipped / Total] 126 / 1 / 53 / 180:  36%|███████▌             | 180/500 [03:30<06:13,  1.17s/it]textattack: Saving checkpoint under \"checkpoints\\1720182318390.ta.chkpt\" at 2024-07-05 20:25:18 after 180 attacks.\n"
     ]
    },
    {
     "name": "stdout",
     "output_type": "stream",
     "text": [
      "\n",
      "\n",
      "=============================================================================================================================\n",
      "=============================================================================================================================\n",
      "\n"
     ]
    },
    {
     "name": "stderr",
     "output_type": "stream",
     "text": [
      "[Succeeded / Failed / Skipped / Total] 129 / 1 / 55 / 185:  37%|███████▊             | 185/500 [03:32<06:02,  1.15s/it]textattack: Saving checkpoint under \"checkpoints\\1720182320922.ta.chkpt\" at 2024-07-05 20:25:20 after 185 attacks.\n",
      "[Succeeded / Failed / Skipped / Total] 129 / 1 / 56 / 186:  37%|███████▊             | 186/500 [03:32<05:59,  1.14s/it]"
     ]
    },
    {
     "name": "stdout",
     "output_type": "stream",
     "text": [
      "\n",
      "\n",
      "=============================================================================================================================\n",
      "=============================================================================================================================\n",
      "\n"
     ]
    },
    {
     "name": "stderr",
     "output_type": "stream",
     "text": [
      "[Succeeded / Failed / Skipped / Total] 133 / 1 / 56 / 190:  38%|███████▉             | 190/500 [03:41<06:02,  1.17s/it]textattack: Saving checkpoint under \"checkpoints\\1720182329923.ta.chkpt\" at 2024-07-05 20:25:29 after 190 attacks.\n"
     ]
    },
    {
     "name": "stdout",
     "output_type": "stream",
     "text": [
      "\n",
      "\n",
      "=============================================================================================================================\n",
      "=============================================================================================================================\n",
      "\n"
     ]
    },
    {
     "name": "stderr",
     "output_type": "stream",
     "text": [
      "[Succeeded / Failed / Skipped / Total] 136 / 1 / 58 / 195:  39%|████████▏            | 195/500 [03:46<05:54,  1.16s/it]textattack: Saving checkpoint under \"checkpoints\\1720182334782.ta.chkpt\" at 2024-07-05 20:25:34 after 195 attacks.\n"
     ]
    },
    {
     "name": "stdout",
     "output_type": "stream",
     "text": [
      "\n",
      "\n",
      "=============================================================================================================================\n",
      "=============================================================================================================================\n",
      "\n"
     ]
    },
    {
     "name": "stderr",
     "output_type": "stream",
     "text": [
      "[Succeeded / Failed / Skipped / Total] 140 / 1 / 59 / 200:  40%|████████▍            | 200/500 [03:55<05:53,  1.18s/it]textattack: Saving checkpoint under \"checkpoints\\1720182343830.ta.chkpt\" at 2024-07-05 20:25:43 after 200 attacks.\n"
     ]
    },
    {
     "name": "stdout",
     "output_type": "stream",
     "text": [
      "\n",
      "\n",
      "=============================================================================================================================\n",
      "=============================================================================================================================\n",
      "\n"
     ]
    },
    {
     "name": "stderr",
     "output_type": "stream",
     "text": [
      "[Succeeded / Failed / Skipped / Total] 144 / 1 / 60 / 205:  41%|████████▌            | 205/500 [04:01<05:47,  1.18s/it]textattack: Saving checkpoint under \"checkpoints\\1720182349643.ta.chkpt\" at 2024-07-05 20:25:49 after 205 attacks.\n"
     ]
    },
    {
     "name": "stdout",
     "output_type": "stream",
     "text": [
      "\n",
      "\n",
      "=============================================================================================================================\n",
      "=============================================================================================================================\n",
      "\n"
     ]
    },
    {
     "name": "stderr",
     "output_type": "stream",
     "text": [
      "[Succeeded / Failed / Skipped / Total] 148 / 1 / 61 / 210:  42%|████████▊            | 210/500 [04:06<05:40,  1.17s/it]textattack: Saving checkpoint under \"checkpoints\\1720182354299.ta.chkpt\" at 2024-07-05 20:25:54 after 210 attacks.\n"
     ]
    },
    {
     "name": "stdout",
     "output_type": "stream",
     "text": [
      "\n",
      "\n",
      "=============================================================================================================================\n",
      "=============================================================================================================================\n",
      "\n"
     ]
    },
    {
     "name": "stderr",
     "output_type": "stream",
     "text": [
      "[Succeeded / Failed / Skipped / Total] 152 / 1 / 62 / 215:  43%|█████████            | 215/500 [04:15<05:39,  1.19s/it]textattack: Saving checkpoint under \"checkpoints\\1720182363800.ta.chkpt\" at 2024-07-05 20:26:03 after 215 attacks.\n"
     ]
    },
    {
     "name": "stdout",
     "output_type": "stream",
     "text": [
      "\n",
      "\n",
      "=============================================================================================================================\n",
      "=============================================================================================================================\n",
      "\n"
     ]
    },
    {
     "name": "stderr",
     "output_type": "stream",
     "text": [
      "[Succeeded / Failed / Skipped / Total] 157 / 1 / 62 / 220:  44%|█████████▏           | 220/500 [04:22<05:34,  1.19s/it]textattack: Saving checkpoint under \"checkpoints\\1720182370551.ta.chkpt\" at 2024-07-05 20:26:10 after 220 attacks.\n"
     ]
    },
    {
     "name": "stdout",
     "output_type": "stream",
     "text": [
      "\n",
      "\n",
      "=============================================================================================================================\n",
      "=============================================================================================================================\n",
      "\n"
     ]
    },
    {
     "name": "stderr",
     "output_type": "stream",
     "text": [
      "[Succeeded / Failed / Skipped / Total] 160 / 1 / 64 / 225:  45%|█████████▍           | 225/500 [04:29<05:28,  1.20s/it]textattack: Saving checkpoint under \"checkpoints\\1720182377176.ta.chkpt\" at 2024-07-05 20:26:17 after 225 attacks.\n"
     ]
    },
    {
     "name": "stdout",
     "output_type": "stream",
     "text": [
      "\n",
      "\n",
      "=============================================================================================================================\n",
      "=============================================================================================================================\n",
      "\n"
     ]
    },
    {
     "name": "stderr",
     "output_type": "stream",
     "text": [
      "[Succeeded / Failed / Skipped / Total] 164 / 1 / 65 / 230:  46%|█████████▋           | 230/500 [04:34<05:22,  1.19s/it]textattack: Saving checkpoint under \"checkpoints\\1720182382770.ta.chkpt\" at 2024-07-05 20:26:22 after 230 attacks.\n",
      "[Succeeded / Failed / Skipped / Total] 164 / 1 / 66 / 231:  46%|█████████▋           | 231/500 [04:34<05:20,  1.19s/it]"
     ]
    },
    {
     "name": "stdout",
     "output_type": "stream",
     "text": [
      "\n",
      "\n",
      "=============================================================================================================================\n",
      "=============================================================================================================================\n",
      "\n"
     ]
    },
    {
     "name": "stderr",
     "output_type": "stream",
     "text": [
      "[Succeeded / Failed / Skipped / Total] 167 / 1 / 67 / 235:  47%|█████████▊           | 235/500 [04:40<05:15,  1.19s/it]textattack: Saving checkpoint under \"checkpoints\\1720182388052.ta.chkpt\" at 2024-07-05 20:26:28 after 235 attacks.\n"
     ]
    },
    {
     "name": "stdout",
     "output_type": "stream",
     "text": [
      "\n",
      "\n",
      "=============================================================================================================================\n",
      "=============================================================================================================================\n",
      "\n"
     ]
    },
    {
     "name": "stderr",
     "output_type": "stream",
     "text": [
      "[Succeeded / Failed / Skipped / Total] 172 / 1 / 67 / 240:  48%|██████████           | 240/500 [04:47<05:11,  1.20s/it]textattack: Saving checkpoint under \"checkpoints\\1720182395584.ta.chkpt\" at 2024-07-05 20:26:35 after 240 attacks.\n",
      "[Succeeded / Failed / Skipped / Total] 172 / 1 / 69 / 242:  48%|██████████▏          | 242/500 [04:47<05:06,  1.19s/it]"
     ]
    },
    {
     "name": "stdout",
     "output_type": "stream",
     "text": [
      "\n",
      "\n",
      "=============================================================================================================================\n",
      "=============================================================================================================================\n",
      "\n"
     ]
    },
    {
     "name": "stderr",
     "output_type": "stream",
     "text": [
      "[Succeeded / Failed / Skipped / Total] 175 / 1 / 69 / 245:  49%|██████████▎          | 245/500 [04:53<05:05,  1.20s/it]textattack: Saving checkpoint under \"checkpoints\\1720182401882.ta.chkpt\" at 2024-07-05 20:26:41 after 245 attacks.\n"
     ]
    },
    {
     "name": "stdout",
     "output_type": "stream",
     "text": [
      "\n",
      "\n",
      "=============================================================================================================================\n",
      "=============================================================================================================================\n",
      "\n"
     ]
    },
    {
     "name": "stderr",
     "output_type": "stream",
     "text": [
      "[Succeeded / Failed / Skipped / Total] 177 / 1 / 72 / 250:  50%|██████████▌          | 250/500 [04:55<04:55,  1.18s/it]textattack: Saving checkpoint under \"checkpoints\\1720182403195.ta.chkpt\" at 2024-07-05 20:26:43 after 250 attacks.\n",
      "[Succeeded / Failed / Skipped / Total] 177 / 1 / 73 / 251:  50%|██████████▌          | 251/500 [04:55<04:52,  1.18s/it]"
     ]
    },
    {
     "name": "stdout",
     "output_type": "stream",
     "text": [
      "\n",
      "\n",
      "=============================================================================================================================\n",
      "=============================================================================================================================\n",
      "\n"
     ]
    },
    {
     "name": "stderr",
     "output_type": "stream",
     "text": [
      "[Succeeded / Failed / Skipped / Total] 180 / 1 / 74 / 255:  51%|██████████▋          | 255/500 [05:02<04:51,  1.19s/it]textattack: Saving checkpoint under \"checkpoints\\1720182411008.ta.chkpt\" at 2024-07-05 20:26:51 after 255 attacks.\n"
     ]
    },
    {
     "name": "stdout",
     "output_type": "stream",
     "text": [
      "\n",
      "\n",
      "=============================================================================================================================\n",
      "=============================================================================================================================\n",
      "\n"
     ]
    },
    {
     "name": "stderr",
     "output_type": "stream",
     "text": [
      "[Succeeded / Failed / Skipped / Total] 183 / 1 / 76 / 260:  52%|██████████▉          | 260/500 [05:07<04:44,  1.18s/it]textattack: Saving checkpoint under \"checkpoints\\1720182415930.ta.chkpt\" at 2024-07-05 20:26:55 after 260 attacks.\n"
     ]
    },
    {
     "name": "stdout",
     "output_type": "stream",
     "text": [
      "\n",
      "\n",
      "=============================================================================================================================\n",
      "=============================================================================================================================\n",
      "\n"
     ]
    },
    {
     "name": "stderr",
     "output_type": "stream",
     "text": [
      "[Succeeded / Failed / Skipped / Total] 188 / 1 / 76 / 265:  53%|███████████▏         | 265/500 [05:15<04:39,  1.19s/it]textattack: Saving checkpoint under \"checkpoints\\1720182423321.ta.chkpt\" at 2024-07-05 20:27:03 after 265 attacks.\n"
     ]
    },
    {
     "name": "stdout",
     "output_type": "stream",
     "text": [
      "\n",
      "\n",
      "=============================================================================================================================\n",
      "=============================================================================================================================\n",
      "\n"
     ]
    },
    {
     "name": "stderr",
     "output_type": "stream",
     "text": [
      "[Succeeded / Failed / Skipped / Total] 191 / 1 / 78 / 270:  54%|███████████▎         | 270/500 [05:31<04:42,  1.23s/it]textattack: Saving checkpoint under \"checkpoints\\1720182439213.ta.chkpt\" at 2024-07-05 20:27:19 after 270 attacks.\n",
      "[Succeeded / Failed / Skipped / Total] 191 / 1 / 79 / 271:  54%|███████████▍         | 271/500 [05:31<04:39,  1.22s/it]"
     ]
    },
    {
     "name": "stdout",
     "output_type": "stream",
     "text": [
      "\n",
      "\n",
      "=============================================================================================================================\n",
      "=============================================================================================================================\n",
      "\n"
     ]
    },
    {
     "name": "stderr",
     "output_type": "stream",
     "text": [
      "[Succeeded / Failed / Skipped / Total] 194 / 1 / 80 / 275:  55%|███████████▌         | 275/500 [05:33<04:33,  1.21s/it]textattack: Saving checkpoint under \"checkpoints\\1720182441698.ta.chkpt\" at 2024-07-05 20:27:21 after 275 attacks.\n"
     ]
    },
    {
     "name": "stdout",
     "output_type": "stream",
     "text": [
      "\n",
      "\n",
      "=============================================================================================================================\n",
      "=============================================================================================================================\n",
      "\n"
     ]
    },
    {
     "name": "stderr",
     "output_type": "stream",
     "text": [
      "[Succeeded / Failed / Skipped / Total] 198 / 1 / 81 / 280:  56%|███████████▊         | 280/500 [05:39<04:26,  1.21s/it]textattack: Saving checkpoint under \"checkpoints\\1720182447510.ta.chkpt\" at 2024-07-05 20:27:27 after 280 attacks.\n"
     ]
    },
    {
     "name": "stdout",
     "output_type": "stream",
     "text": [
      "\n",
      "\n",
      "=============================================================================================================================\n",
      "=============================================================================================================================\n",
      "\n"
     ]
    },
    {
     "name": "stderr",
     "output_type": "stream",
     "text": [
      "[Succeeded / Failed / Skipped / Total] 202 / 1 / 82 / 285:  57%|███████████▉         | 285/500 [05:44<04:19,  1.21s/it]textattack: Saving checkpoint under \"checkpoints\\1720182452652.ta.chkpt\" at 2024-07-05 20:27:32 after 285 attacks.\n"
     ]
    },
    {
     "name": "stdout",
     "output_type": "stream",
     "text": [
      "\n",
      "\n",
      "=============================================================================================================================\n",
      "=============================================================================================================================\n",
      "\n"
     ]
    },
    {
     "name": "stderr",
     "output_type": "stream",
     "text": [
      "[Succeeded / Failed / Skipped / Total] 207 / 1 / 82 / 290:  58%|████████████▏        | 290/500 [05:52<04:14,  1.21s/it]textattack: Saving checkpoint under \"checkpoints\\1720182460105.ta.chkpt\" at 2024-07-05 20:27:40 after 290 attacks.\n",
      "[Succeeded / Failed / Skipped / Total] 207 / 1 / 84 / 292:  58%|████████████▎        | 292/500 [05:52<04:10,  1.21s/it]"
     ]
    },
    {
     "name": "stdout",
     "output_type": "stream",
     "text": [
      "\n",
      "\n",
      "=============================================================================================================================\n",
      "=============================================================================================================================\n",
      "\n"
     ]
    },
    {
     "name": "stderr",
     "output_type": "stream",
     "text": [
      "[Succeeded / Failed / Skipped / Total] 209 / 1 / 85 / 295:  59%|████████████▍        | 295/500 [05:54<04:06,  1.20s/it]textattack: Saving checkpoint under \"checkpoints\\1720182462027.ta.chkpt\" at 2024-07-05 20:27:42 after 295 attacks.\n"
     ]
    },
    {
     "name": "stdout",
     "output_type": "stream",
     "text": [
      "\n",
      "\n",
      "=============================================================================================================================\n",
      "=============================================================================================================================\n",
      "\n"
     ]
    },
    {
     "name": "stderr",
     "output_type": "stream",
     "text": [
      "[Succeeded / Failed / Skipped / Total] 212 / 1 / 87 / 300:  60%|████████████▌        | 300/500 [05:59<03:59,  1.20s/it]textattack: Saving checkpoint under \"checkpoints\\1720182467106.ta.chkpt\" at 2024-07-05 20:27:47 after 300 attacks.\n"
     ]
    },
    {
     "name": "stdout",
     "output_type": "stream",
     "text": [
      "\n",
      "\n",
      "=============================================================================================================================\n",
      "=============================================================================================================================\n",
      "\n"
     ]
    },
    {
     "name": "stderr",
     "output_type": "stream",
     "text": [
      "[Succeeded / Failed / Skipped / Total] 214 / 1 / 90 / 305:  61%|████████████▊        | 305/500 [06:00<03:50,  1.18s/it]textattack: Saving checkpoint under \"checkpoints\\1720182468778.ta.chkpt\" at 2024-07-05 20:27:48 after 305 attacks.\n"
     ]
    },
    {
     "name": "stdout",
     "output_type": "stream",
     "text": [
      "\n",
      "\n",
      "=============================================================================================================================\n",
      "=============================================================================================================================\n",
      "\n"
     ]
    },
    {
     "name": "stderr",
     "output_type": "stream",
     "text": [
      "[Succeeded / Failed / Skipped / Total] 218 / 1 / 91 / 310:  62%|█████████████        | 310/500 [06:04<03:43,  1.18s/it]textattack: Saving checkpoint under \"checkpoints\\1720182472763.ta.chkpt\" at 2024-07-05 20:27:52 after 310 attacks.\n"
     ]
    },
    {
     "name": "stdout",
     "output_type": "stream",
     "text": [
      "\n",
      "\n",
      "=============================================================================================================================\n",
      "=============================================================================================================================\n",
      "\n"
     ]
    },
    {
     "name": "stderr",
     "output_type": "stream",
     "text": [
      "[Succeeded / Failed / Skipped / Total] 221 / 1 / 93 / 315:  63%|█████████████▏       | 315/500 [06:10<03:37,  1.17s/it]textattack: Saving checkpoint under \"checkpoints\\1720182478122.ta.chkpt\" at 2024-07-05 20:27:58 after 315 attacks.\n",
      "[Succeeded / Failed / Skipped / Total] 221 / 1 / 94 / 316:  63%|█████████████▎       | 316/500 [06:10<03:35,  1.17s/it]"
     ]
    },
    {
     "name": "stdout",
     "output_type": "stream",
     "text": [
      "\n",
      "\n",
      "=============================================================================================================================\n",
      "=============================================================================================================================\n",
      "\n"
     ]
    },
    {
     "name": "stderr",
     "output_type": "stream",
     "text": [
      "[Succeeded / Failed / Skipped / Total] 223 / 1 / 96 / 320:  64%|█████████████▍       | 320/500 [06:21<03:34,  1.19s/it]textattack: Saving checkpoint under \"checkpoints\\1720182489295.ta.chkpt\" at 2024-07-05 20:28:09 after 320 attacks.\n",
      "[Succeeded / Failed / Skipped / Total] 223 / 1 / 97 / 321:  64%|█████████████▍       | 321/500 [06:21<03:32,  1.19s/it]"
     ]
    },
    {
     "name": "stdout",
     "output_type": "stream",
     "text": [
      "\n",
      "\n",
      "=============================================================================================================================\n",
      "=============================================================================================================================\n",
      "\n"
     ]
    },
    {
     "name": "stderr",
     "output_type": "stream",
     "text": [
      "[Succeeded / Failed / Skipped / Total] 227 / 1 / 97 / 325:  65%|█████████████▋       | 325/500 [06:30<03:30,  1.20s/it]textattack: Saving checkpoint under \"checkpoints\\1720182498186.ta.chkpt\" at 2024-07-05 20:28:18 after 325 attacks.\n",
      "[Succeeded / Failed / Skipped / Total] 227 / 1 / 98 / 326:  65%|█████████████▋       | 326/500 [06:30<03:28,  1.20s/it]"
     ]
    },
    {
     "name": "stdout",
     "output_type": "stream",
     "text": [
      "\n",
      "\n",
      "=============================================================================================================================\n",
      "=============================================================================================================================\n",
      "\n"
     ]
    },
    {
     "name": "stderr",
     "output_type": "stream",
     "text": [
      "[Succeeded / Failed / Skipped / Total] 231 / 1 / 98 / 330:  66%|█████████████▊       | 330/500 [06:33<03:22,  1.19s/it]textattack: Saving checkpoint under \"checkpoints\\1720182501796.ta.chkpt\" at 2024-07-05 20:28:21 after 330 attacks.\n"
     ]
    },
    {
     "name": "stdout",
     "output_type": "stream",
     "text": [
      "\n",
      "\n",
      "=============================================================================================================================\n",
      "=============================================================================================================================\n",
      "\n"
     ]
    },
    {
     "name": "stderr",
     "output_type": "stream",
     "text": [
      "[Succeeded / Failed / Skipped / Total] 236 / 1 / 98 / 335:  67%|██████████████       | 335/500 [06:40<03:17,  1.20s/it]textattack: Saving checkpoint under \"checkpoints\\1720182508453.ta.chkpt\" at 2024-07-05 20:28:28 after 335 attacks.\n"
     ]
    },
    {
     "name": "stdout",
     "output_type": "stream",
     "text": [
      "\n",
      "\n",
      "=============================================================================================================================\n",
      "=============================================================================================================================\n",
      "\n"
     ]
    },
    {
     "name": "stderr",
     "output_type": "stream",
     "text": [
      "[Succeeded / Failed / Skipped / Total] 240 / 1 / 99 / 340:  68%|██████████████▎      | 340/500 [06:44<03:10,  1.19s/it]textattack: Saving checkpoint under \"checkpoints\\1720182512609.ta.chkpt\" at 2024-07-05 20:28:32 after 340 attacks.\n"
     ]
    },
    {
     "name": "stdout",
     "output_type": "stream",
     "text": [
      "\n",
      "\n",
      "=============================================================================================================================\n",
      "=============================================================================================================================\n",
      "\n"
     ]
    },
    {
     "name": "stderr",
     "output_type": "stream",
     "text": [
      "[Succeeded / Failed / Skipped / Total] 243 / 1 / 101 / 345:  69%|█████████████▊      | 345/500 [06:47<03:03,  1.18s/it]textattack: Saving checkpoint under \"checkpoints\\1720182515641.ta.chkpt\" at 2024-07-05 20:28:35 after 345 attacks.\n"
     ]
    },
    {
     "name": "stdout",
     "output_type": "stream",
     "text": [
      "\n",
      "\n",
      "=============================================================================================================================\n",
      "=============================================================================================================================\n",
      "\n"
     ]
    },
    {
     "name": "stderr",
     "output_type": "stream",
     "text": [
      "[Succeeded / Failed / Skipped / Total] 248 / 1 / 101 / 350:  70%|██████████████      | 350/500 [06:54<02:57,  1.18s/it]textattack: Saving checkpoint under \"checkpoints\\1720182522625.ta.chkpt\" at 2024-07-05 20:28:42 after 350 attacks.\n"
     ]
    },
    {
     "name": "stdout",
     "output_type": "stream",
     "text": [
      "\n",
      "\n",
      "=============================================================================================================================\n",
      "=============================================================================================================================\n",
      "\n"
     ]
    },
    {
     "name": "stderr",
     "output_type": "stream",
     "text": [
      "[Succeeded / Failed / Skipped / Total] 253 / 1 / 101 / 355:  71%|██████████████▏     | 355/500 [07:04<02:53,  1.19s/it]textattack: Saving checkpoint under \"checkpoints\\1720182532048.ta.chkpt\" at 2024-07-05 20:28:52 after 355 attacks.\n"
     ]
    },
    {
     "name": "stdout",
     "output_type": "stream",
     "text": [
      "\n",
      "\n",
      "=============================================================================================================================\n",
      "=============================================================================================================================\n",
      "\n"
     ]
    },
    {
     "name": "stderr",
     "output_type": "stream",
     "text": [
      "[Succeeded / Failed / Skipped / Total] 256 / 1 / 103 / 360:  72%|██████████████▍     | 360/500 [07:07<02:46,  1.19s/it]textattack: Saving checkpoint under \"checkpoints\\1720182535861.ta.chkpt\" at 2024-07-05 20:28:55 after 360 attacks.\n"
     ]
    },
    {
     "name": "stdout",
     "output_type": "stream",
     "text": [
      "\n",
      "\n",
      "=============================================================================================================================\n",
      "=============================================================================================================================\n",
      "\n"
     ]
    },
    {
     "name": "stderr",
     "output_type": "stream",
     "text": [
      "[Succeeded / Failed / Skipped / Total] 261 / 1 / 103 / 365:  73%|██████████████▌     | 365/500 [07:14<02:40,  1.19s/it]textattack: Saving checkpoint under \"checkpoints\\1720182542268.ta.chkpt\" at 2024-07-05 20:29:02 after 365 attacks.\n"
     ]
    },
    {
     "name": "stdout",
     "output_type": "stream",
     "text": [
      "\n",
      "\n",
      "=============================================================================================================================\n",
      "=============================================================================================================================\n",
      "\n"
     ]
    },
    {
     "name": "stderr",
     "output_type": "stream",
     "text": [
      "[Succeeded / Failed / Skipped / Total] 265 / 1 / 104 / 370:  74%|██████████████▊     | 370/500 [07:17<02:33,  1.18s/it]textattack: Saving checkpoint under \"checkpoints\\1720182545815.ta.chkpt\" at 2024-07-05 20:29:05 after 370 attacks.\n"
     ]
    },
    {
     "name": "stdout",
     "output_type": "stream",
     "text": [
      "\n",
      "\n",
      "=============================================================================================================================\n",
      "=============================================================================================================================\n",
      "\n"
     ]
    },
    {
     "name": "stderr",
     "output_type": "stream",
     "text": [
      "[Succeeded / Failed / Skipped / Total] 269 / 1 / 105 / 375:  75%|███████████████     | 375/500 [07:25<02:28,  1.19s/it]textattack: Saving checkpoint under \"checkpoints\\1720182553300.ta.chkpt\" at 2024-07-05 20:29:13 after 375 attacks.\n"
     ]
    },
    {
     "name": "stdout",
     "output_type": "stream",
     "text": [
      "\n",
      "\n",
      "=============================================================================================================================\n",
      "=============================================================================================================================\n",
      "\n"
     ]
    },
    {
     "name": "stderr",
     "output_type": "stream",
     "text": [
      "[Succeeded / Failed / Skipped / Total] 273 / 1 / 106 / 380:  76%|███████████████▏    | 380/500 [07:29<02:21,  1.18s/it]textattack: Saving checkpoint under \"checkpoints\\1720182557284.ta.chkpt\" at 2024-07-05 20:29:17 after 380 attacks.\n"
     ]
    },
    {
     "name": "stdout",
     "output_type": "stream",
     "text": [
      "\n",
      "\n",
      "=============================================================================================================================\n",
      "=============================================================================================================================\n",
      "\n"
     ]
    },
    {
     "name": "stderr",
     "output_type": "stream",
     "text": [
      "[Succeeded / Failed / Skipped / Total] 277 / 1 / 107 / 385:  77%|███████████████▍    | 385/500 [07:32<02:15,  1.18s/it]textattack: Saving checkpoint under \"checkpoints\\1720182560707.ta.chkpt\" at 2024-07-05 20:29:20 after 385 attacks.\n"
     ]
    },
    {
     "name": "stdout",
     "output_type": "stream",
     "text": [
      "\n",
      "\n",
      "=============================================================================================================================\n",
      "=============================================================================================================================\n",
      "\n"
     ]
    },
    {
     "name": "stderr",
     "output_type": "stream",
     "text": [
      "[Succeeded / Failed / Skipped / Total] 281 / 1 / 108 / 390:  78%|███████████████▌    | 390/500 [07:37<02:08,  1.17s/it]textattack: Saving checkpoint under \"checkpoints\\1720182565066.ta.chkpt\" at 2024-07-05 20:29:25 after 390 attacks.\n"
     ]
    },
    {
     "name": "stdout",
     "output_type": "stream",
     "text": [
      "\n",
      "\n",
      "=============================================================================================================================\n",
      "=============================================================================================================================\n",
      "\n"
     ]
    },
    {
     "name": "stderr",
     "output_type": "stream",
     "text": [
      "[Succeeded / Failed / Skipped / Total] 286 / 1 / 108 / 395:  79%|███████████████▊    | 395/500 [07:43<02:03,  1.17s/it]textattack: Saving checkpoint under \"checkpoints\\1720182571911.ta.chkpt\" at 2024-07-05 20:29:31 after 395 attacks.\n"
     ]
    },
    {
     "name": "stdout",
     "output_type": "stream",
     "text": [
      "\n",
      "\n",
      "=============================================================================================================================\n",
      "=============================================================================================================================\n",
      "\n"
     ]
    },
    {
     "name": "stderr",
     "output_type": "stream",
     "text": [
      "[Succeeded / Failed / Skipped / Total] 291 / 1 / 108 / 400:  80%|████████████████    | 400/500 [07:54<01:58,  1.19s/it]textattack: Saving checkpoint under \"checkpoints\\1720182582412.ta.chkpt\" at 2024-07-05 20:29:42 after 400 attacks.\n",
      "[Succeeded / Failed / Skipped / Total] 291 / 1 / 109 / 401:  80%|████████████████    | 401/500 [07:54<01:57,  1.18s/it]"
     ]
    },
    {
     "name": "stdout",
     "output_type": "stream",
     "text": [
      "\n",
      "\n",
      "=============================================================================================================================\n",
      "=============================================================================================================================\n",
      "\n"
     ]
    },
    {
     "name": "stderr",
     "output_type": "stream",
     "text": [
      "[Succeeded / Failed / Skipped / Total] 295 / 1 / 109 / 405:  81%|████████████████▏   | 405/500 [08:03<01:53,  1.19s/it]textattack: Saving checkpoint under \"checkpoints\\1720182591679.ta.chkpt\" at 2024-07-05 20:29:51 after 405 attacks.\n"
     ]
    },
    {
     "name": "stdout",
     "output_type": "stream",
     "text": [
      "\n",
      "\n",
      "=============================================================================================================================\n",
      "=============================================================================================================================\n",
      "\n"
     ]
    },
    {
     "name": "stderr",
     "output_type": "stream",
     "text": [
      "[Succeeded / Failed / Skipped / Total] 299 / 1 / 110 / 410:  82%|████████████████▍   | 410/500 [08:09<01:47,  1.19s/it]textattack: Saving checkpoint under \"checkpoints\\1720182597101.ta.chkpt\" at 2024-07-05 20:29:57 after 410 attacks.\n"
     ]
    },
    {
     "name": "stdout",
     "output_type": "stream",
     "text": [
      "\n",
      "\n",
      "=============================================================================================================================\n",
      "=============================================================================================================================\n",
      "\n"
     ]
    },
    {
     "name": "stderr",
     "output_type": "stream",
     "text": [
      "[Succeeded / Failed / Skipped / Total] 302 / 1 / 112 / 415:  83%|████████████████▌   | 415/500 [08:11<01:40,  1.18s/it]textattack: Saving checkpoint under \"checkpoints\\1720182599320.ta.chkpt\" at 2024-07-05 20:29:59 after 415 attacks.\n"
     ]
    },
    {
     "name": "stdout",
     "output_type": "stream",
     "text": [
      "\n",
      "\n",
      "=============================================================================================================================\n",
      "=============================================================================================================================\n",
      "\n"
     ]
    },
    {
     "name": "stderr",
     "output_type": "stream",
     "text": [
      "[Succeeded / Failed / Skipped / Total] 304 / 2 / 114 / 420:  84%|████████████████▊   | 420/500 [08:24<01:36,  1.20s/it]textattack: Saving checkpoint under \"checkpoints\\1720182612118.ta.chkpt\" at 2024-07-05 20:30:12 after 420 attacks.\n"
     ]
    },
    {
     "name": "stdout",
     "output_type": "stream",
     "text": [
      "\n",
      "\n",
      "=============================================================================================================================\n",
      "=============================================================================================================================\n",
      "\n"
     ]
    },
    {
     "name": "stderr",
     "output_type": "stream",
     "text": [
      "[Succeeded / Failed / Skipped / Total] 309 / 2 / 114 / 425:  85%|█████████████████   | 425/500 [08:30<01:30,  1.20s/it]textattack: Saving checkpoint under \"checkpoints\\1720182618931.ta.chkpt\" at 2024-07-05 20:30:18 after 425 attacks.\n"
     ]
    },
    {
     "name": "stdout",
     "output_type": "stream",
     "text": [
      "\n",
      "\n",
      "=============================================================================================================================\n",
      "=============================================================================================================================\n",
      "\n"
     ]
    },
    {
     "name": "stderr",
     "output_type": "stream",
     "text": [
      "[Succeeded / Failed / Skipped / Total] 314 / 2 / 114 / 430:  86%|█████████████████▏  | 430/500 [08:37<01:24,  1.20s/it]textattack: Saving checkpoint under \"checkpoints\\1720182625322.ta.chkpt\" at 2024-07-05 20:30:25 after 430 attacks.\n",
      "[Succeeded / Failed / Skipped / Total] 314 / 2 / 115 / 431:  86%|█████████████████▏  | 431/500 [08:37<01:22,  1.20s/it]"
     ]
    },
    {
     "name": "stdout",
     "output_type": "stream",
     "text": [
      "\n",
      "\n",
      "=============================================================================================================================\n",
      "=============================================================================================================================\n",
      "\n"
     ]
    },
    {
     "name": "stderr",
     "output_type": "stream",
     "text": [
      "[Succeeded / Failed / Skipped / Total] 318 / 2 / 115 / 435:  87%|█████████████████▍  | 435/500 [08:41<01:17,  1.20s/it]textattack: Saving checkpoint under \"checkpoints\\1720182629666.ta.chkpt\" at 2024-07-05 20:30:29 after 435 attacks.\n"
     ]
    },
    {
     "name": "stdout",
     "output_type": "stream",
     "text": [
      "\n",
      "\n",
      "=============================================================================================================================\n",
      "=============================================================================================================================\n",
      "\n"
     ]
    },
    {
     "name": "stderr",
     "output_type": "stream",
     "text": [
      "[Succeeded / Failed / Skipped / Total] 323 / 2 / 115 / 440:  88%|█████████████████▌  | 440/500 [08:47<01:11,  1.20s/it]textattack: Saving checkpoint under \"checkpoints\\1720182635433.ta.chkpt\" at 2024-07-05 20:30:35 after 440 attacks.\n",
      "[Succeeded / Failed / Skipped / Total] 323 / 2 / 116 / 441:  88%|█████████████████▋  | 441/500 [08:47<01:10,  1.20s/it]"
     ]
    },
    {
     "name": "stdout",
     "output_type": "stream",
     "text": [
      "\n",
      "\n",
      "=============================================================================================================================\n",
      "=============================================================================================================================\n",
      "\n"
     ]
    },
    {
     "name": "stderr",
     "output_type": "stream",
     "text": [
      "[Succeeded / Failed / Skipped / Total] 326 / 2 / 117 / 445:  89%|█████████████████▊  | 445/500 [08:49<01:05,  1.19s/it]textattack: Saving checkpoint under \"checkpoints\\1720182637683.ta.chkpt\" at 2024-07-05 20:30:37 after 445 attacks.\n"
     ]
    },
    {
     "name": "stdout",
     "output_type": "stream",
     "text": [
      "\n",
      "\n",
      "=============================================================================================================================\n",
      "=============================================================================================================================\n",
      "\n"
     ]
    },
    {
     "name": "stderr",
     "output_type": "stream",
     "text": [
      "[Succeeded / Failed / Skipped / Total] 330 / 2 / 118 / 450:  90%|██████████████████  | 450/500 [09:03<01:00,  1.21s/it]textattack: Saving checkpoint under \"checkpoints\\1720182651090.ta.chkpt\" at 2024-07-05 20:30:51 after 450 attacks.\n",
      "[Succeeded / Failed / Skipped / Total] 330 / 2 / 119 / 451:  90%|██████████████████  | 451/500 [09:03<00:59,  1.20s/it]"
     ]
    },
    {
     "name": "stdout",
     "output_type": "stream",
     "text": [
      "\n",
      "\n",
      "=============================================================================================================================\n",
      "=============================================================================================================================\n",
      "\n"
     ]
    },
    {
     "name": "stderr",
     "output_type": "stream",
     "text": [
      "[Succeeded / Failed / Skipped / Total] 333 / 2 / 120 / 455:  91%|██████████████████▏ | 455/500 [09:07<00:54,  1.20s/it]textattack: Saving checkpoint under \"checkpoints\\1720182655981.ta.chkpt\" at 2024-07-05 20:30:55 after 455 attacks.\n"
     ]
    },
    {
     "name": "stdout",
     "output_type": "stream",
     "text": [
      "\n",
      "\n",
      "=============================================================================================================================\n",
      "=============================================================================================================================\n",
      "\n"
     ]
    },
    {
     "name": "stderr",
     "output_type": "stream",
     "text": [
      "[Succeeded / Failed / Skipped / Total] 338 / 2 / 120 / 460:  92%|██████████████████▍ | 460/500 [09:15<00:48,  1.21s/it]textattack: Saving checkpoint under \"checkpoints\\1720182663513.ta.chkpt\" at 2024-07-05 20:31:03 after 460 attacks.\n"
     ]
    },
    {
     "name": "stdout",
     "output_type": "stream",
     "text": [
      "\n",
      "\n",
      "=============================================================================================================================\n",
      "=============================================================================================================================\n",
      "\n"
     ]
    },
    {
     "name": "stderr",
     "output_type": "stream",
     "text": [
      "[Succeeded / Failed / Skipped / Total] 341 / 2 / 122 / 465:  93%|██████████████████▌ | 465/500 [09:19<00:42,  1.20s/it]textattack: Saving checkpoint under \"checkpoints\\1720182667216.ta.chkpt\" at 2024-07-05 20:31:07 after 465 attacks.\n"
     ]
    },
    {
     "name": "stdout",
     "output_type": "stream",
     "text": [
      "\n",
      "\n",
      "=============================================================================================================================\n",
      "=============================================================================================================================\n",
      "\n"
     ]
    },
    {
     "name": "stderr",
     "output_type": "stream",
     "text": [
      "[Succeeded / Failed / Skipped / Total] 345 / 2 / 123 / 470:  94%|██████████████████▊ | 470/500 [09:24<00:36,  1.20s/it]textattack: Saving checkpoint under \"checkpoints\\1720182672029.ta.chkpt\" at 2024-07-05 20:31:12 after 470 attacks.\n",
      "[Succeeded / Failed / Skipped / Total] 345 / 2 / 124 / 471:  94%|██████████████████▊ | 471/500 [09:24<00:34,  1.20s/it]"
     ]
    },
    {
     "name": "stdout",
     "output_type": "stream",
     "text": [
      "\n",
      "\n",
      "=============================================================================================================================\n",
      "=============================================================================================================================\n",
      "\n"
     ]
    },
    {
     "name": "stderr",
     "output_type": "stream",
     "text": [
      "[Succeeded / Failed / Skipped / Total] 349 / 2 / 124 / 475:  95%|███████████████████ | 475/500 [09:32<00:30,  1.21s/it]textattack: Saving checkpoint under \"checkpoints\\1720182680514.ta.chkpt\" at 2024-07-05 20:31:20 after 475 attacks.\n"
     ]
    },
    {
     "name": "stdout",
     "output_type": "stream",
     "text": [
      "\n",
      "\n",
      "=============================================================================================================================\n",
      "=============================================================================================================================\n",
      "\n"
     ]
    },
    {
     "name": "stderr",
     "output_type": "stream",
     "text": [
      "[Succeeded / Failed / Skipped / Total] 354 / 2 / 124 / 480:  96%|███████████████████▏| 480/500 [09:37<00:24,  1.20s/it]textattack: Saving checkpoint under \"checkpoints\\1720182685952.ta.chkpt\" at 2024-07-05 20:31:25 after 480 attacks.\n"
     ]
    },
    {
     "name": "stdout",
     "output_type": "stream",
     "text": [
      "\n",
      "\n",
      "=============================================================================================================================\n",
      "=============================================================================================================================\n",
      "\n"
     ]
    },
    {
     "name": "stderr",
     "output_type": "stream",
     "text": [
      "[Succeeded / Failed / Skipped / Total] 358 / 2 / 125 / 485:  97%|███████████████████▍| 485/500 [09:43<00:18,  1.20s/it]textattack: Saving checkpoint under \"checkpoints\\1720182691506.ta.chkpt\" at 2024-07-05 20:31:31 after 485 attacks.\n"
     ]
    },
    {
     "name": "stdout",
     "output_type": "stream",
     "text": [
      "\n",
      "\n",
      "=============================================================================================================================\n",
      "=============================================================================================================================\n",
      "\n"
     ]
    },
    {
     "name": "stderr",
     "output_type": "stream",
     "text": [
      "[Succeeded / Failed / Skipped / Total] 360 / 2 / 128 / 490:  98%|███████████████████▌| 490/500 [09:47<00:11,  1.20s/it]textattack: Saving checkpoint under \"checkpoints\\1720182695397.ta.chkpt\" at 2024-07-05 20:31:35 after 490 attacks.\n"
     ]
    },
    {
     "name": "stdout",
     "output_type": "stream",
     "text": [
      "\n",
      "\n",
      "=============================================================================================================================\n",
      "=============================================================================================================================\n",
      "\n"
     ]
    },
    {
     "name": "stderr",
     "output_type": "stream",
     "text": [
      "[Succeeded / Failed / Skipped / Total] 364 / 2 / 129 / 495:  99%|███████████████████▊| 495/500 [09:51<00:05,  1.19s/it]textattack: Saving checkpoint under \"checkpoints\\1720182699226.ta.chkpt\" at 2024-07-05 20:31:39 after 495 attacks.\n"
     ]
    },
    {
     "name": "stdout",
     "output_type": "stream",
     "text": [
      "\n",
      "\n",
      "=============================================================================================================================\n",
      "=============================================================================================================================\n",
      "\n"
     ]
    },
    {
     "name": "stderr",
     "output_type": "stream",
     "text": [
      "[Succeeded / Failed / Skipped / Total] 369 / 2 / 129 / 500: 100%|████████████████████| 500/500 [10:00<00:00,  1.20s/it]textattack: Saving checkpoint under \"checkpoints\\1720182709023.ta.chkpt\" at 2024-07-05 20:31:49 after 500 attacks.\n",
      "[Succeeded / Failed / Skipped / Total] 369 / 2 / 129 / 500: 100%|████████████████████| 500/500 [10:01<00:00,  1.20s/it]"
     ]
    },
    {
     "name": "stdout",
     "output_type": "stream",
     "text": [
      "\n",
      "\n",
      "=============================================================================================================================\n",
      "=============================================================================================================================\n",
      "\n",
      "\n",
      "+-------------------------------+--------+\n",
      "| Attack Results                |        |\n",
      "+-------------------------------+--------+\n",
      "| Number of successful attacks: | 369    |\n",
      "| Number of failed attacks:     | 2      |\n",
      "| Number of skipped attacks:    | 129    |\n",
      "| Original accuracy:            | 74.2%  |\n",
      "| Accuracy under attack:        | 0.4%   |\n",
      "| Attack success rate:          | 99.46% |\n",
      "| Average perturbed word %:     | 13.57% |\n",
      "| Average num. words per input: | 18.4   |\n",
      "| Avg num queries:              | 66.56  |\n",
      "+-------------------------------+--------+\n"
     ]
    },
    {
     "name": "stderr",
     "output_type": "stream",
     "text": [
      "\n"
     ]
    }
   ],
   "source": [
    "runAttack(clip_model_wrapper_svc_mr, n_samples, 'attack_results_new/clipmrattacksvc'+suffix, target_ds_mr)"
   ]
  }
 ],
 "metadata": {
  "kernelspec": {
   "display_name": "Python 3 (ipykernel)",
   "language": "python",
   "name": "python3"
  },
  "language_info": {
   "codemirror_mode": {
    "name": "ipython",
    "version": 3
   },
   "file_extension": ".py",
   "mimetype": "text/x-python",
   "name": "python",
   "nbconvert_exporter": "python",
   "pygments_lexer": "ipython3",
   "version": "3.10.13"
  }
 },
 "nbformat": 4,
 "nbformat_minor": 5
}
