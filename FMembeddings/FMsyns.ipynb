{
 "cells": [
  {
   "cell_type": "code",
   "execution_count": 1,
   "id": "a17d9a63",
   "metadata": {},
   "outputs": [],
   "source": [
    "import numpy as np\n",
    "import pandas as pd\n",
    "import datetime "
   ]
  },
  {
   "cell_type": "markdown",
   "id": "39f176e2",
   "metadata": {},
   "source": [
    "#### Counter-fitted vectors\n",
    "\n",
    "The TextFooler uses Counter-fitted vectors by N. Mrksic et al (2016), which are trained word embeddings to find synonyms.  The source is at **https://github.com/nmrksic/counter-fitting**.  The counter-fitted-vectors.txt is extracted and preprocessed since it contains the raw words 'nan' and 'null', which python would have difficulties to process.  There are 65713 words each counter-fitted as a vector of 300 dimensions."
   ]
  },
  {
   "cell_type": "code",
   "execution_count": 2,
   "id": "9c9d4e5e",
   "metadata": {},
   "outputs": [
    {
     "data": {
      "text/plain": [
       "(65713, 300)"
      ]
     },
     "execution_count": 2,
     "metadata": {},
     "output_type": "execute_result"
    }
   ],
   "source": [
    "# read counter-fitted vectors\n",
    "cf = pd.read_table('counter-fitted-vectors.txt', header=None, sep=' ')\n",
    "cf.set_index(0, inplace=True)\n",
    "cf.shape"
   ]
  },
  {
   "cell_type": "code",
   "execution_count": 3,
   "id": "8b054adc",
   "metadata": {},
   "outputs": [
    {
     "data": {
      "text/plain": [
       "[6167, 55574]"
      ]
     },
     "execution_count": 3,
     "metadata": {},
     "output_type": "execute_result"
    }
   ],
   "source": [
    "# check any non-string index\n",
    "[idx for idx, w in enumerate(cf.index) if type(w) != type('word')]"
   ]
  },
  {
   "cell_type": "code",
   "execution_count": 4,
   "id": "5f2dfcaf",
   "metadata": {},
   "outputs": [],
   "source": [
    "# check raw text\n",
    "temp = pd.read_table('counter-fitted-vectors.txt', header=None)"
   ]
  },
  {
   "cell_type": "code",
   "execution_count": 5,
   "id": "dcb5241e",
   "metadata": {},
   "outputs": [
    {
     "data": {
      "text/html": [
       "<div>\n",
       "<style scoped>\n",
       "    .dataframe tbody tr th:only-of-type {\n",
       "        vertical-align: middle;\n",
       "    }\n",
       "\n",
       "    .dataframe tbody tr th {\n",
       "        vertical-align: top;\n",
       "    }\n",
       "\n",
       "    .dataframe thead th {\n",
       "        text-align: right;\n",
       "    }\n",
       "</style>\n",
       "<table border=\"1\" class=\"dataframe\">\n",
       "  <thead>\n",
       "    <tr style=\"text-align: right;\">\n",
       "      <th></th>\n",
       "      <th>0</th>\n",
       "    </tr>\n",
       "  </thead>\n",
       "  <tbody>\n",
       "    <tr>\n",
       "      <th>6167</th>\n",
       "      <td>null 0.054147 0.062974 -0.018208 -0.000571 0.0...</td>\n",
       "    </tr>\n",
       "    <tr>\n",
       "      <th>55574</th>\n",
       "      <td>nan 0.034078 0.007384 0.013994 0.022337 -0.051...</td>\n",
       "    </tr>\n",
       "  </tbody>\n",
       "</table>\n",
       "</div>"
      ],
      "text/plain": [
       "                                                       0\n",
       "6167   null 0.054147 0.062974 -0.018208 -0.000571 0.0...\n",
       "55574  nan 0.034078 0.007384 0.013994 0.022337 -0.051..."
      ]
     },
     "execution_count": 5,
     "metadata": {},
     "output_type": "execute_result"
    }
   ],
   "source": [
    "temp.loc[[6167, 55574]] # 'nan' and 'null'"
   ]
  },
  {
   "cell_type": "code",
   "execution_count": 6,
   "id": "a26efd82",
   "metadata": {},
   "outputs": [
    {
     "data": {
      "text/plain": [
       "[]"
      ]
     },
     "execution_count": 6,
     "metadata": {},
     "output_type": "execute_result"
    }
   ],
   "source": [
    "# cleaned\n",
    "new_index = list(cf.index)\n",
    "new_index[6167] = 'null'\n",
    "new_index[55574] = 'nan'\n",
    "cf.index = new_index\n",
    "[idx for idx, w in enumerate(cf.index) if type(w) != type('word')]"
   ]
  },
  {
   "cell_type": "markdown",
   "id": "a257afb7",
   "metadata": {},
   "source": [
    "Synonyms are identified as the most-positive dot products with target word vectors.  Here we also select the synonyms meeting the part of speech i.e. adjectives.  One-word part of speech is considered."
   ]
  },
  {
   "cell_type": "code",
   "execution_count": 7,
   "id": "e325e6de-d6b4-4737-97ae-faf522337a8a",
   "metadata": {
    "scrolled": true
   },
   "outputs": [],
   "source": [
    "word2index_cf = dict(zip(cf.index.tolist(), list(range(65713))))\n",
    "index2word_cf = dict(zip(list(range(65713)), cf.index.tolist()))"
   ]
  },
  {
   "cell_type": "code",
   "execution_count": 8,
   "id": "a162b64d-58b1-4436-9629-0476c9982826",
   "metadata": {},
   "outputs": [],
   "source": [
    "st = datetime.datetime.now()"
   ]
  },
  {
   "cell_type": "code",
   "execution_count": 9,
   "id": "ff312cf2-24c7-4201-a0fa-b3ea16f2fe02",
   "metadata": {},
   "outputs": [
    {
     "name": "stdout",
     "output_type": "stream",
     "text": [
      "....................."
     ]
    }
   ],
   "source": [
    "cfv = cf.copy()\n",
    "cfv['vocab sn'] = np.arange(65713)\n",
    "\n",
    "with open('nn_matrix_cf.txt', 'w') as f:\n",
    "    for idx, target_word in enumerate(cf.index):\n",
    "        target_wv = cf.loc[target_word]\n",
    "        cfv['dot product'] = cf.dot(target_wv)\n",
    "        \n",
    "        top50syn = cfv.sort_values(by='dot product', ascending=False)[1:51].index.tolist()\n",
    "        t = cfv.loc[top50syn]['vocab sn'].values.astype('str')\n",
    "\n",
    "        for s in t[:-1]:\n",
    "            f.write(s+',')\n",
    "        f.write(t[-1]+'\\n')\n",
    "        \n",
    "        if (idx+1) % 3000 == 0:\n",
    "            print('.', end='')"
   ]
  },
  {
   "cell_type": "code",
   "execution_count": 10,
   "id": "5a3e3811-9244-435b-89ea-0e0b8aef51f2",
   "metadata": {
    "scrolled": true
   },
   "outputs": [
    {
     "data": {
      "text/plain": [
       "datetime.timedelta(seconds=12456, microseconds=808043)"
      ]
     },
     "execution_count": 10,
     "metadata": {},
     "output_type": "execute_result"
    }
   ],
   "source": [
    "et = datetime.datetime.now()\n",
    "et-st"
   ]
  },
  {
   "cell_type": "markdown",
   "id": "0cf1c15f-a773-4d74-a635-6e508645dfbb",
   "metadata": {},
   "source": [
    "### BERT Vectors"
   ]
  },
  {
   "cell_type": "code",
   "execution_count": 8,
   "id": "75bb0cd0-379d-4ca0-a3f3-13d1fce9f7b6",
   "metadata": {},
   "outputs": [
    {
     "data": {
      "text/plain": [
       "(65713, 768)"
      ]
     },
     "execution_count": 8,
     "metadata": {},
     "output_type": "execute_result"
    }
   ],
   "source": [
    "# read BERT vectors\n",
    "bertv = pd.read_table('bertvocab.txt', header=None, sep=',')\n",
    "bertv.index = new_index\n",
    "bertv.shape"
   ]
  },
  {
   "cell_type": "code",
   "execution_count": 9,
   "id": "29897aa5-21d4-4c06-b0a6-05edc6d80dd2",
   "metadata": {},
   "outputs": [],
   "source": [
    "st = datetime.datetime.now()"
   ]
  },
  {
   "cell_type": "code",
   "execution_count": 10,
   "id": "6486dc65-1726-429d-b130-7ac6d4f05f09",
   "metadata": {
    "scrolled": true
   },
   "outputs": [
    {
     "name": "stdout",
     "output_type": "stream",
     "text": [
      "....................."
     ]
    }
   ],
   "source": [
    "bertv_copy = bertv.copy()\n",
    "bertv_copy['vocab sn'] = np.arange(65713)\n",
    "\n",
    "with open('nn_matrix_bert.txt', 'w') as f:\n",
    "    for idx, target_word in enumerate(bertv.index):\n",
    "        target_wv = bertv.loc[target_word]\n",
    "        bertv_copy['dot product'] = bertv.dot(target_wv)\n",
    "        \n",
    "        top50syn = bertv_copy.sort_values(by='dot product', ascending=False)[1:51].index.tolist()\n",
    "        t = bertv_copy.loc[top50syn]['vocab sn'].values.astype('str')\n",
    "\n",
    "        for s in t[:-1]:\n",
    "            f.write(s+',')\n",
    "        f.write(t[-1]+'\\n')\n",
    "        \n",
    "        if (idx+1) % 3000 == 0:\n",
    "            print('.', end='')"
   ]
  },
  {
   "cell_type": "code",
   "execution_count": 11,
   "id": "2f3ef383-c6d7-4661-bb88-22517cb5e986",
   "metadata": {},
   "outputs": [
    {
     "data": {
      "text/plain": [
       "datetime.timedelta(seconds=26170, microseconds=219192)"
      ]
     },
     "execution_count": 11,
     "metadata": {},
     "output_type": "execute_result"
    }
   ],
   "source": [
    "et = datetime.datetime.now()\n",
    "et-st"
   ]
  },
  {
   "cell_type": "markdown",
   "id": "fb2a0114-bd0d-49d4-b2f5-534657904018",
   "metadata": {},
   "source": [
    "### CLIP Vectors"
   ]
  },
  {
   "cell_type": "code",
   "execution_count": 12,
   "id": "8b6df7cd-e693-4ace-ba89-8cad2e4ab639",
   "metadata": {},
   "outputs": [
    {
     "data": {
      "text/plain": [
       "(65713, 512)"
      ]
     },
     "execution_count": 12,
     "metadata": {},
     "output_type": "execute_result"
    }
   ],
   "source": [
    "# read CLIP vectors\n",
    "clipv = pd.read_table('clipvocab.txt', header=None, sep=',')\n",
    "clipv.index = new_index\n",
    "clipv.shape"
   ]
  },
  {
   "cell_type": "code",
   "execution_count": 13,
   "id": "55d856c5-61c1-4afc-8c83-ee93e9b1d98c",
   "metadata": {},
   "outputs": [],
   "source": [
    "st = datetime.datetime.now()"
   ]
  },
  {
   "cell_type": "code",
   "execution_count": 14,
   "id": "c0d9f73e-a3e3-4114-9965-21d47ddcf58d",
   "metadata": {},
   "outputs": [
    {
     "name": "stdout",
     "output_type": "stream",
     "text": [
      "....................."
     ]
    }
   ],
   "source": [
    "clipv_copy = clipv.copy()\n",
    "clipv_copy['vocab sn'] = np.arange(65713)\n",
    "\n",
    "with open('nn_matrix_clip.txt', 'w') as f:\n",
    "    for idx, target_word in enumerate(clipv.index):\n",
    "        target_wv = clipv.loc[target_word]\n",
    "        clipv_copy['dot product'] = clipv.dot(target_wv)\n",
    "        \n",
    "        top50syn = clipv_copy.sort_values(by='dot product', ascending=False)[1:51].index.tolist()\n",
    "        t = clipv_copy.loc[top50syn]['vocab sn'].values.astype('str')\n",
    "\n",
    "        for s in t[:-1]:\n",
    "            f.write(s+',')\n",
    "        f.write(t[-1]+'\\n')\n",
    "        \n",
    "        if (idx+1) % 3000 == 0:\n",
    "            print('.', end='')"
   ]
  },
  {
   "cell_type": "code",
   "execution_count": 15,
   "id": "4b8e6fd0-ee11-4c6a-b853-3d6a0d7b0e0b",
   "metadata": {},
   "outputs": [
    {
     "data": {
      "text/plain": [
       "datetime.timedelta(seconds=18865, microseconds=54035)"
      ]
     },
     "execution_count": 15,
     "metadata": {},
     "output_type": "execute_result"
    }
   ],
   "source": [
    "et = datetime.datetime.now()\n",
    "et-st"
   ]
  },
  {
   "cell_type": "code",
   "execution_count": null,
   "id": "b24c5d43-ee05-459f-b88b-962eacc61a6c",
   "metadata": {},
   "outputs": [],
   "source": []
  }
 ],
 "metadata": {
  "kernelspec": {
   "display_name": "Python 3 (ipykernel)",
   "language": "python",
   "name": "python3"
  },
  "language_info": {
   "codemirror_mode": {
    "name": "ipython",
    "version": 3
   },
   "file_extension": ".py",
   "mimetype": "text/x-python",
   "name": "python",
   "nbconvert_exporter": "python",
   "pygments_lexer": "ipython3",
   "version": "3.10.13"
  }
 },
 "nbformat": 4,
 "nbformat_minor": 5
}
